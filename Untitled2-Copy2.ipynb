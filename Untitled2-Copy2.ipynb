{
 "cells": [
  {
   "cell_type": "code",
   "execution_count": 1,
   "metadata": {},
   "outputs": [],
   "source": [
    "import lsst.daf.persistence as dafPersist\n",
    "import matplotlib.pyplot as plt\n",
    "import numpy as np\n",
    "\n",
    "import lsst.afw.table as afwTable\n",
    "import lsst.afw.geom as afwGeom\n",
    "import Utils.DiaSourceTools as DSTools\n",
    "from astropy.time import Time\n",
    "\n",
    "import lsst.afw.display.ds9 as ds9\n",
    "import lsst.afw.image as afwImage\n",
    "import re\n",
    "\n",
    "from multiprocessing import Pool\n",
    "from functools import partial\n",
    "\n",
    "import astropy.coordinates as coord\n",
    "import astropy.units as u\n",
    "\n",
    "import lsst.daf.base as dafBase\n",
    "from lsst.meas.algorithms.detection import SourceDetectionTask\n",
    "from lsst.meas.base import SingleFrameMeasurementTask\n",
    "from lsst.meas.deblender import SourceDeblendTask\n",
    "\n",
    "import lsst.afw.math as afwMath\n",
    "\n",
    "from astropy.table import Table"
   ]
  },
  {
   "cell_type": "code",
   "execution_count": 20,
   "metadata": {
    "collapsed": true
   },
   "outputs": [],
   "source": [
    "DATADIR=\"/datadec/cppm/jpreyes/CFHT_Complete\"\n",
    "#DATADIR=\"/renoir_data_02/jpreyes/lsst_data/CFHTLS_daytest/\"\n",
    "\n",
    "directory = DATADIR+\"/detect_testSN_2/\"\n",
    "butler = dafPersist.Butler(directory) \n",
    "filter = 'i'\n"
   ]
  },
  {
   "cell_type": "code",
   "execution_count": 3,
   "metadata": {
    "collapsed": true
   },
   "outputs": [],
   "source": [
    "def preConvolve(exposure, sigma=5):\n",
    "    psf = exposure.getPsf()\n",
    "    maskedImage = exposure.getMaskedImage()\n",
    "    kWidth = (int(sigma * 7 + 0.5) // 2) * 2 + 1 # make sure it is odd\n",
    "    #self.metadata.set(\"smoothingKernelWidth\", kWidth)\n",
    "    gaussFunc = afwMath.GaussianFunction1D(sigma)\n",
    "    gaussKernel = afwMath.SeparableKernel(kWidth, kWidth, gaussFunc, gaussFunc)\n",
    "\n",
    "    convolvedImage = maskedImage.Factory(maskedImage.getBBox())\n",
    "\n",
    "    afwMath.convolve(convolvedImage, maskedImage, gaussKernel, afwMath.ConvolutionControl())\n",
    "    #\n",
    "    # Only search psf-smooth part of frame\n",
    "    #\n",
    "    goodBBox = gaussKernel.shrinkBBox(convolvedImage.getBBox())\n",
    "    middle = convolvedImage.Factory(convolvedImage, goodBBox, afwImage.PARENT, False)\n",
    "    #\n",
    "    # Mark the parts of the image outside goodBBox as EDGE\n",
    "    #\n",
    "    #self.setEdgeBits(maskedImage, goodBBox, maskedImage.getMask().getPlaneBitMask(\"EDGE\"))\n",
    "    return convolvedImage"
   ]
  },
  {
   "cell_type": "code",
   "execution_count": 4,
   "metadata": {
    "collapsed": true
   },
   "outputs": [],
   "source": [
    "def detect_sources(exposure):\n",
    "    threshold = 6\n",
    "    doSmooth=True\n",
    "    schema = afwTable.SourceTable.makeMinimalSchema()\n",
    "\n",
    "\n",
    "    algMetadata = dafBase.PropertyList()\n",
    "\n",
    "    config = SourceDetectionTask.ConfigClass()\n",
    "    #config.thresholdPolarity = \"both\"\n",
    "    config.thresholdValue = threshold\n",
    "    config.reEstimateBackground = False\n",
    "    #config.thresholdType = \"pixel_stdev\"\n",
    "\n",
    "    detectionTask = SourceDetectionTask(config=config, schema=schema)\n",
    "\n",
    "    measurement = SingleFrameMeasurementTask\n",
    "    config = measurement.ConfigClass()\n",
    "\n",
    "    measurement = measurement(schema, config=config, algMetadata=algMetadata)\n",
    "\n",
    "\n",
    "    deblend = SourceDeblendTask\n",
    "    config = SourceDeblendTask.ConfigClass()\n",
    "    deblend = deblend(schema)\n",
    "\n",
    "    table = afwTable.SourceTable.make(schema)\n",
    "    \n",
    "    results = detectionTask.run(table=table, exposure=exposure , doSmooth=doSmooth )\n",
    "\n",
    "    sourcesCat = results.sources\n",
    "    \n",
    "    deblend.run(exposure, sourcesCat)\n",
    "    \n",
    "    \n",
    "\n",
    "    measurement.run(measCat=sourcesCat, exposure=exposure)\n",
    "\n",
    "    return sourcesCat"
   ]
  },
  {
   "cell_type": "code",
   "execution_count": 5,
   "metadata": {
    "collapsed": true
   },
   "outputs": [],
   "source": [
    "def build_lightcurve(source_list, flux):\n",
    "    \"\"\"\n",
    "    Assemble a light curve data table from available files.\n",
    "    \"\"\"\n",
    "\n",
    "    bandpasses = ['r']\n",
    "\n",
    "\n",
    "    lightcurve = {}\n",
    "    #lightcurve['classification'] = []\n",
    "    lightcurve['bandpass'] = []\n",
    "    lightcurve['visit'] = []\n",
    "    lightcurve['ra'] = []\n",
    "    lightcurve['dec'] = []\n",
    "    lightcurve['flux'] = []\n",
    "    lightcurve['flux_error'] = []\n",
    "    lightcurve['zp'] = []\n",
    "    lightcurve['zpsys'] = []\n",
    "\n",
    "\n",
    "    for src in source_list:\n",
    "        \n",
    "        #print 'yep',visit\n",
    "        #lightcurve['classification'].append(src['classification_dipole'])\n",
    "        lightcurve['bandpass'].append(str('sdss' + bandpasses[0]))\n",
    "        \n",
    "        lightcurve['visit'].append(src['visit'])\n",
    "        lightcurve['ra'].append(float(src['coord_ra']))\n",
    "        lightcurve['dec'].append(float(src['coord_dec']))\n",
    "        lightcurve['flux'].append(src[flux])\n",
    "        lightcurve['flux_error'].append(src[flux+'Sigma'])\n",
    "        #lightcurve['flux'].append(src['base_CircularApertureFlux_12_0_flux'])\n",
    "        #lightcurve['flux_error'].append(src['base_CircularApertureFlux_12_0_fluxSigma'])\n",
    "        lightcurve['zp'].append(25.0)\n",
    "        lightcurve['zpsys'].append('ab')\n",
    "        #print lightcurve\n",
    "    lightcurve = Table(data=lightcurve)\n",
    "    return lightcurve"
   ]
  },
  {
   "cell_type": "code",
   "execution_count": 6,
   "metadata": {
    "collapsed": true
   },
   "outputs": [],
   "source": [
    "patches = []\n",
    "patches_file=open(DATADIR+\"/patches.txt\", \"rb\")\n",
    "for line in patches_file:\n",
    "    line = line.replace('\\n','')\n",
    "    text = re.split(\"=| \",line)\n",
    "    patches.append(text[-1])\n",
    "patches_file.close()"
   ]
  },
  {
   "cell_type": "code",
   "execution_count": 22,
   "metadata": {
    "scrolled": true
   },
   "outputs": [],
   "source": [
    "count = 0\n",
    "patches_bool = []\n",
    "for patch in patches: \n",
    "    \n",
    "    if butler.datasetExists(\"dayCoadd\", dataId={\"filter\":filter,\"tract\":0, \"patch\":patch, 'date':'2006-04-23'}):\n",
    "        patches_bool.append(True)\n",
    "    else:\n",
    "        patches_bool.append(False)\n",
    "\n",
    "patches = np.array(patches.flatten())\n",
    "p = patches.copy()\n",
    "patches_bool = np.array(patches_bool)\n",
    "\n",
    "p = p[patches_bool]"
   ]
  },
  {
   "cell_type": "code",
   "execution_count": 23,
   "metadata": {},
   "outputs": [
    {
     "data": {
      "text/plain": [
       "0"
      ]
     },
     "execution_count": 23,
     "metadata": {},
     "output_type": "execute_result"
    }
   ],
   "source": [
    "len(p)"
   ]
  },
  {
   "cell_type": "code",
   "execution_count": 24,
   "metadata": {},
   "outputs": [
    {
     "ename": "ValueError",
     "evalue": "a must be non-empty",
     "output_type": "error",
     "traceback": [
      "\u001b[0;31m---------------------------------------------------------------------------\u001b[0m",
      "\u001b[0;31mValueError\u001b[0m                                Traceback (most recent call last)",
      "\u001b[0;32m<ipython-input-24-a11a966b0a1f>\u001b[0m in \u001b[0;36m<module>\u001b[0;34m()\u001b[0m\n\u001b[0;32m----> 1\u001b[0;31m \u001b[0mp_sub\u001b[0m \u001b[0;34m=\u001b[0m \u001b[0mnp\u001b[0m\u001b[0;34m.\u001b[0m\u001b[0mrandom\u001b[0m\u001b[0;34m.\u001b[0m\u001b[0mchoice\u001b[0m\u001b[0;34m(\u001b[0m\u001b[0mp\u001b[0m\u001b[0;34m,\u001b[0m \u001b[0;36m100\u001b[0m\u001b[0;34m)\u001b[0m\u001b[0;34m\u001b[0m\u001b[0m\n\u001b[0m\u001b[1;32m      2\u001b[0m \u001b[0;32mprint\u001b[0m \u001b[0mp_sub\u001b[0m\u001b[0;34m\u001b[0m\u001b[0m\n",
      "\u001b[0;32mmtrand.pyx\u001b[0m in \u001b[0;36mmtrand.RandomState.choice (numpy/random/mtrand/mtrand.c:15477)\u001b[0;34m()\u001b[0m\n",
      "\u001b[0;31mValueError\u001b[0m: a must be non-empty"
     ]
    }
   ],
   "source": [
    "p_sub = np.random.choice(p, 100)\n",
    "print p_sub"
   ]
  },
  {
   "cell_type": "code",
   "execution_count": 19,
   "metadata": {},
   "outputs": [
    {
     "ename": "KeyboardInterrupt",
     "evalue": "",
     "output_type": "error",
     "traceback": [
      "\u001b[0;31m---------------------------------------------------------------------------\u001b[0m",
      "\u001b[0;31mKeyboardInterrupt\u001b[0m                         Traceback (most recent call last)",
      "\u001b[0;32m<ipython-input-19-272a0e0320ce>\u001b[0m in \u001b[0;36m<module>\u001b[0;34m()\u001b[0m\n\u001b[1;32m     12\u001b[0m \u001b[0;34m\u001b[0m\u001b[0m\n\u001b[1;32m     13\u001b[0m                 \u001b[0;32melse\u001b[0m\u001b[0;34m:\u001b[0m\u001b[0;34m\u001b[0m\u001b[0m\n\u001b[0;32m---> 14\u001b[0;31m                     \u001b[0mrefCoadd_sources\u001b[0m\u001b[0;34m.\u001b[0m\u001b[0mextend\u001b[0m\u001b[0;34m(\u001b[0m\u001b[0mdetect_sources\u001b[0m\u001b[0;34m(\u001b[0m\u001b[0mrefCoadd\u001b[0m\u001b[0;34m)\u001b[0m\u001b[0;34m)\u001b[0m\u001b[0;34m\u001b[0m\u001b[0m\n\u001b[0m\u001b[1;32m     15\u001b[0m                     \u001b[0mdayCoadd_sources\u001b[0m\u001b[0;34m.\u001b[0m\u001b[0mextend\u001b[0m\u001b[0;34m(\u001b[0m\u001b[0mdetect_sources\u001b[0m\u001b[0;34m(\u001b[0m\u001b[0mdayCoadd\u001b[0m\u001b[0;34m)\u001b[0m\u001b[0;34m)\u001b[0m\u001b[0;34m\u001b[0m\u001b[0m\n\u001b[1;32m     16\u001b[0m             \u001b[0;32mexcept\u001b[0m \u001b[0mException\u001b[0m\u001b[0;34m,\u001b[0m \u001b[0me\u001b[0m\u001b[0;34m:\u001b[0m\u001b[0;34m\u001b[0m\u001b[0m\n",
      "\u001b[0;32m<ipython-input-4-13a42e184996>\u001b[0m in \u001b[0;36mdetect_sources\u001b[0;34m(exposure)\u001b[0m\n\u001b[1;32m     35\u001b[0m \u001b[0;34m\u001b[0m\u001b[0m\n\u001b[1;32m     36\u001b[0m \u001b[0;34m\u001b[0m\u001b[0m\n\u001b[0;32m---> 37\u001b[0;31m     \u001b[0mmeasurement\u001b[0m\u001b[0;34m.\u001b[0m\u001b[0mrun\u001b[0m\u001b[0;34m(\u001b[0m\u001b[0mmeasCat\u001b[0m\u001b[0;34m=\u001b[0m\u001b[0msourcesCat\u001b[0m\u001b[0;34m,\u001b[0m \u001b[0mexposure\u001b[0m\u001b[0;34m=\u001b[0m\u001b[0mexposure\u001b[0m\u001b[0;34m)\u001b[0m\u001b[0;34m\u001b[0m\u001b[0m\n\u001b[0m\u001b[1;32m     38\u001b[0m \u001b[0;34m\u001b[0m\u001b[0m\n\u001b[1;32m     39\u001b[0m     \u001b[0;32mreturn\u001b[0m \u001b[0msourcesCat\u001b[0m\u001b[0;34m\u001b[0m\u001b[0m\n",
      "\u001b[0;32m/renoir_data_00/fouchez/lsst/DM/stacks/lsstsw/2017-05-04/lsstsw/stack/Linux64/meas_base/13.0-16-gca4cc00+2/python/lsst/meas/base/sfm.pyc\u001b[0m in \u001b[0;36mrun\u001b[0;34m(self, measCat, exposure, noiseImage, exposureId, beginOrder, endOrder)\u001b[0m\n\u001b[1;32m    329\u001b[0m             \u001b[0;31m# Then insert the parent footprint, and measure that\u001b[0m\u001b[0;34m\u001b[0m\u001b[0;34m\u001b[0m\u001b[0m\n\u001b[1;32m    330\u001b[0m             \u001b[0mnoiseReplacer\u001b[0m\u001b[0;34m.\u001b[0m\u001b[0minsertSource\u001b[0m\u001b[0;34m(\u001b[0m\u001b[0mmeasParentRecord\u001b[0m\u001b[0;34m.\u001b[0m\u001b[0mgetId\u001b[0m\u001b[0;34m(\u001b[0m\u001b[0;34m)\u001b[0m\u001b[0;34m)\u001b[0m\u001b[0;34m\u001b[0m\u001b[0m\n\u001b[0;32m--> 331\u001b[0;31m             \u001b[0mself\u001b[0m\u001b[0;34m.\u001b[0m\u001b[0mcallMeasure\u001b[0m\u001b[0;34m(\u001b[0m\u001b[0mmeasParentRecord\u001b[0m\u001b[0;34m,\u001b[0m \u001b[0mexposure\u001b[0m\u001b[0;34m,\u001b[0m \u001b[0mbeginOrder\u001b[0m\u001b[0;34m=\u001b[0m\u001b[0mbeginOrder\u001b[0m\u001b[0;34m,\u001b[0m \u001b[0mendOrder\u001b[0m\u001b[0;34m=\u001b[0m\u001b[0mendOrder\u001b[0m\u001b[0;34m)\u001b[0m\u001b[0;34m\u001b[0m\u001b[0m\n\u001b[0m\u001b[1;32m    332\u001b[0m \u001b[0;34m\u001b[0m\u001b[0m\n\u001b[1;32m    333\u001b[0m             \u001b[0;32mif\u001b[0m \u001b[0mself\u001b[0m\u001b[0;34m.\u001b[0m\u001b[0mdoBlendedness\u001b[0m\u001b[0;34m:\u001b[0m\u001b[0;34m\u001b[0m\u001b[0m\n",
      "\u001b[0;32m/renoir_data_00/fouchez/lsst/DM/stacks/lsstsw/2017-05-04/lsstsw/stack/Linux64/meas_base/13.0-16-gca4cc00+2/python/lsst/meas/base/baseMeasurement.pyc\u001b[0m in \u001b[0;36mcallMeasure\u001b[0;34m(self, measRecord, *args, **kwds)\u001b[0m\n\u001b[1;32m    277\u001b[0m             \u001b[0;32mif\u001b[0m \u001b[0mendOrder\u001b[0m \u001b[0;32mis\u001b[0m \u001b[0;32mnot\u001b[0m \u001b[0mNone\u001b[0m \u001b[0;32mand\u001b[0m \u001b[0mplugin\u001b[0m\u001b[0;34m.\u001b[0m\u001b[0mgetExecutionOrder\u001b[0m\u001b[0;34m(\u001b[0m\u001b[0;34m)\u001b[0m \u001b[0;34m>=\u001b[0m \u001b[0mendOrder\u001b[0m\u001b[0;34m:\u001b[0m\u001b[0;34m\u001b[0m\u001b[0m\n\u001b[1;32m    278\u001b[0m                 \u001b[0;32mbreak\u001b[0m\u001b[0;34m\u001b[0m\u001b[0m\n\u001b[0;32m--> 279\u001b[0;31m             \u001b[0mself\u001b[0m\u001b[0;34m.\u001b[0m\u001b[0mdoMeasurement\u001b[0m\u001b[0;34m(\u001b[0m\u001b[0mplugin\u001b[0m\u001b[0;34m,\u001b[0m \u001b[0mmeasRecord\u001b[0m\u001b[0;34m,\u001b[0m \u001b[0;34m*\u001b[0m\u001b[0margs\u001b[0m\u001b[0;34m,\u001b[0m \u001b[0;34m**\u001b[0m\u001b[0mkwds\u001b[0m\u001b[0;34m)\u001b[0m\u001b[0;34m\u001b[0m\u001b[0m\n\u001b[0m\u001b[1;32m    280\u001b[0m \u001b[0;34m\u001b[0m\u001b[0m\n\u001b[1;32m    281\u001b[0m     \u001b[0;32mdef\u001b[0m \u001b[0mdoMeasurement\u001b[0m\u001b[0;34m(\u001b[0m\u001b[0mself\u001b[0m\u001b[0;34m,\u001b[0m \u001b[0mplugin\u001b[0m\u001b[0;34m,\u001b[0m \u001b[0mmeasRecord\u001b[0m\u001b[0;34m,\u001b[0m \u001b[0;34m*\u001b[0m\u001b[0margs\u001b[0m\u001b[0;34m,\u001b[0m \u001b[0;34m**\u001b[0m\u001b[0mkwds\u001b[0m\u001b[0;34m)\u001b[0m\u001b[0;34m:\u001b[0m\u001b[0;34m\u001b[0m\u001b[0m\n",
      "\u001b[0;32m/renoir_data_00/fouchez/lsst/DM/stacks/lsstsw/2017-05-04/lsstsw/stack/Linux64/meas_base/13.0-16-gca4cc00+2/python/lsst/meas/base/baseMeasurement.pyc\u001b[0m in \u001b[0;36mdoMeasurement\u001b[0;34m(self, plugin, measRecord, *args, **kwds)\u001b[0m\n\u001b[1;32m    296\u001b[0m         \"\"\"\n\u001b[1;32m    297\u001b[0m         \u001b[0;32mtry\u001b[0m\u001b[0;34m:\u001b[0m\u001b[0;34m\u001b[0m\u001b[0m\n\u001b[0;32m--> 298\u001b[0;31m             \u001b[0mplugin\u001b[0m\u001b[0;34m.\u001b[0m\u001b[0mmeasure\u001b[0m\u001b[0;34m(\u001b[0m\u001b[0mmeasRecord\u001b[0m\u001b[0;34m,\u001b[0m \u001b[0;34m*\u001b[0m\u001b[0margs\u001b[0m\u001b[0;34m,\u001b[0m \u001b[0;34m**\u001b[0m\u001b[0mkwds\u001b[0m\u001b[0;34m)\u001b[0m\u001b[0;34m\u001b[0m\u001b[0m\n\u001b[0m\u001b[1;32m    299\u001b[0m         \u001b[0;32mexcept\u001b[0m \u001b[0mFATAL_EXCEPTIONS\u001b[0m\u001b[0;34m:\u001b[0m\u001b[0;34m\u001b[0m\u001b[0m\n\u001b[1;32m    300\u001b[0m             \u001b[0;32mraise\u001b[0m\u001b[0;34m\u001b[0m\u001b[0m\n",
      "\u001b[0;32m/renoir_data_00/fouchez/lsst/DM/stacks/lsstsw/2017-05-04/lsstsw/stack/Linux64/meas_base/13.0-16-gca4cc00+2/python/lsst/meas/base/wrappers.pyc\u001b[0m in \u001b[0;36mmeasure\u001b[0;34m(self, measRecord, exposure)\u001b[0m\n\u001b[1;32m     18\u001b[0m \u001b[0;34m\u001b[0m\u001b[0m\n\u001b[1;32m     19\u001b[0m     \u001b[0;32mdef\u001b[0m \u001b[0mmeasure\u001b[0m\u001b[0;34m(\u001b[0m\u001b[0mself\u001b[0m\u001b[0;34m,\u001b[0m \u001b[0mmeasRecord\u001b[0m\u001b[0;34m,\u001b[0m \u001b[0mexposure\u001b[0m\u001b[0;34m)\u001b[0m\u001b[0;34m:\u001b[0m\u001b[0;34m\u001b[0m\u001b[0m\n\u001b[0;32m---> 20\u001b[0;31m         \u001b[0mself\u001b[0m\u001b[0;34m.\u001b[0m\u001b[0mcpp\u001b[0m\u001b[0;34m.\u001b[0m\u001b[0mmeasure\u001b[0m\u001b[0;34m(\u001b[0m\u001b[0mmeasRecord\u001b[0m\u001b[0;34m,\u001b[0m \u001b[0mexposure\u001b[0m\u001b[0;34m)\u001b[0m\u001b[0;34m\u001b[0m\u001b[0m\n\u001b[0m\u001b[1;32m     21\u001b[0m \u001b[0;34m\u001b[0m\u001b[0m\n\u001b[1;32m     22\u001b[0m     \u001b[0;32mdef\u001b[0m \u001b[0mmeasureN\u001b[0m\u001b[0;34m(\u001b[0m\u001b[0mself\u001b[0m\u001b[0;34m,\u001b[0m \u001b[0mmeasCat\u001b[0m\u001b[0;34m,\u001b[0m \u001b[0mexposure\u001b[0m\u001b[0;34m)\u001b[0m\u001b[0;34m:\u001b[0m\u001b[0;34m\u001b[0m\u001b[0m\n",
      "\u001b[0;31mKeyboardInterrupt\u001b[0m: "
     ]
    }
   ],
   "source": [
    "dayCoadd_sources = None\n",
    "refCoadd_sources = None\n",
    "for patch in p_sub: \n",
    "    if butler.datasetExists(\"dayCoadd\", dataId={\"filter\":filter,\"tract\":0, \"patch\":patch, 'date':'2006-04-23'}) and butler.datasetExists(\"deepCoadd\", dataId={\"filter\":'r',\"tract\":0, \"patch\":patch}):\n",
    "            try:\n",
    "                dayCoadd = butler.get(\"dayCoadd\", dataId={\"filter\":filter,\"tract\":0, \"patch\":patch, 'date':'2006-04-23'})\n",
    "                refCoadd = butler.get(\"deepCoadd\", dataId={\"filter\":filter,\"tract\":0, \"patch\":patch})\n",
    "\n",
    "                if dayCoadd_sources is None:\n",
    "                    refCoadd_sources=detect_sources(refCoadd)\n",
    "                    dayCoadd_sources=detect_sources(dayCoadd)\n",
    "\n",
    "                else:\n",
    "                    refCoadd_sources.extend(detect_sources(refCoadd))\n",
    "                    dayCoadd_sources.extend(detect_sources(dayCoadd))\n",
    "            except Exception, e:\n",
    "                print e\n",
    "                pass\n",
    "                \n",
    "           \n",
    "        "
   ]
  },
  {
   "cell_type": "code",
   "execution_count": 44,
   "metadata": {
    "collapsed": true
   },
   "outputs": [],
   "source": [
    "multi_matches = afwTable.MultiMatch(dayCoadd_sources.schema, {'visit':'I'}, radius=afwGeom.Angle(1./3600., afwGeom.degrees))\n",
    "\n",
    "\n",
    "    \n",
    "multi_matches.add(dayCoadd_sources, {'visit':0})\n",
    "multi_matches.add(refCoadd_sources, {'visit':1})\n",
    "    \n",
    "results = multi_matches.finish(removeAmbiguous=False) \n"
   ]
  },
  {
   "cell_type": "code",
   "execution_count": 45,
   "metadata": {
    "collapsed": true
   },
   "outputs": [],
   "source": [
    "lcs = DSTools.get_light_curves_from_multimatch_results2(results)\n",
    "t_lcs = DSTools.threshold_light_curves(lcs, 2)\n",
    "f_lcs = []\n",
    "for lc in t_lcs:\n",
    "        f_lcs.append(build_lightcurve(lc, \"base_CircularApertureFlux_4_5_flux\"))\n",
    "        "
   ]
  },
  {
   "cell_type": "code",
   "execution_count": 46,
   "metadata": {
    "collapsed": true
   },
   "outputs": [],
   "source": [
    "diff_ra = []\n",
    "diff_dec = []\n",
    "\n",
    "for lc in f_lcs:\n",
    "    diff_ra.append(lc[0][\"ra\"]-lc[1][\"ra\"])\n",
    "    diff_dec.append(lc[0][\"dec\"]-lc[1][\"dec\"])\n",
    "diff_ra = np.multiply(diff_ra,3600)\n",
    "diff_dec = np.multiply(diff_dec,3600)"
   ]
  },
  {
   "cell_type": "code",
   "execution_count": 47,
   "metadata": {},
   "outputs": [
    {
     "data": {
      "image/png": "[encoded data removed]",
      "text/plain": [
       "<matplotlib.figure.Figure at 0x7fa76418d210>"
      ]
     },
     "metadata": {},
     "output_type": "display_data"
    }
   ],
   "source": [
    "\n",
    "plt.hist(diff_ra, bins = 100) \n",
    "plt.xlabel(\"RA position difference in arcsec\")\n",
    "plt.ylabel(\"# of sources\")\n",
    "#plt.ticklabel_format(style='sci', axis='x',scilimits=(0,0))\n",
    "plt.show()"
   ]
  },
  {
   "cell_type": "code",
   "execution_count": 48,
   "metadata": {},
   "outputs": [
    {
     "data": {
      "image/png": "[encoded data removed]",
      "text/plain": [
       "<matplotlib.figure.Figure at 0x7fa68cfa8290>"
      ]
     },
     "metadata": {},
     "output_type": "display_data"
    }
   ],
   "source": [
    "plt.hist(diff_dec, bins = 100)    \n",
    "plt.xlabel(\"DEC position difference in arcsec\")\n",
    "plt.ylabel(\"# of sources\")\n",
    "#plt.ticklabel_format(style='sci', axis='x',scilimits=(0,0))\n",
    "plt.show()"
   ]
  },
  {
   "cell_type": "code",
   "execution_count": 51,
   "metadata": {},
   "outputs": [
    {
     "name": "stdout",
     "output_type": "stream",
     "text": [
      "exists\n"
     ]
    }
   ],
   "source": [
    "patch = patches[205]\n",
    "if butler.datasetExists(\"dayCoadd\", dataId={\"filter\":'r',\"tract\":0, \"patch\":patch, 'date':'2006-04-23'}) and butler.datasetExists(\"deepCoadd\", dataId={\"filter\":'r',\"tract\":0, \"patch\":patch}):\n",
    "        print \"exists\"\n",
    "        dayCoadd = butler.get(\"dayCoadd\", dataId={\"filter\":'r',\"tract\":0, \"patch\":patch, 'date':'2006-04-23'})\n",
    "        dayCoaddArray = dayCoadd.getMaskedImage().getImage().getArray()\n",
    "        refCoadd = butler.get(\"deepCoadd\", dataId={\"filter\":'r',\"tract\":0, \"patch\":patch})\n",
    "        refCoaddArray = refCoadd.getMaskedImage().getImage().getArray()\n",
    "               "
   ]
  },
  {
   "cell_type": "code",
   "execution_count": 89,
   "metadata": {},
   "outputs": [
    {
     "name": "stdout",
     "output_type": "stream",
     "text": [
      "9,20\n"
     ]
    }
   ],
   "source": [
    "patch = patches[205]\n",
    "print patch"
   ]
  },
  {
   "cell_type": "code",
   "execution_count": 52,
   "metadata": {
    "collapsed": true
   },
   "outputs": [],
   "source": [
    "diffArray = dayCoaddArray - refCoaddArray\n",
    "\n",
    "imageF = afwImage.ImageF(diffArray)\n",
    "ds9.mtv(imageF)"
   ]
  },
  {
   "cell_type": "code",
   "execution_count": 41,
   "metadata": {
    "scrolled": true
   },
   "outputs": [
    {
     "data": {
      "image/png": "[encoded data removed]",
      "text/plain": [
       "<matplotlib.figure.Figure at 0x7fd2b3950510>"
      ]
     },
     "metadata": {},
     "output_type": "display_data"
    }
   ],
   "source": []
  },
  {
   "cell_type": "code",
   "execution_count": 61,
   "metadata": {
    "collapsed": true
   },
   "outputs": [],
   "source": [
    "\n",
    "ds9.mtv(dayCoadd)"
   ]
  },
  {
   "cell_type": "code",
   "execution_count": 86,
   "metadata": {
    "collapsed": true
   },
   "outputs": [],
   "source": [
    "\n",
    "ds9.mtv(dayCoadd, frame=1)\n",
    "#cImage = preConvolve(dayCoadd)\n",
    "ds9.mtv(refCoadd, frame=2)\n"
   ]
  },
  {
   "cell_type": "code",
   "execution_count": 79,
   "metadata": {
    "collapsed": true
   },
   "outputs": [],
   "source": [
    "exp = afwImage.ExposureF()\n",
    "exp.setMaskedImage(cImage)\n",
    "exp.setPsf(dayCoadd.getPsf())"
   ]
  },
  {
   "cell_type": "code",
   "execution_count": 80,
   "metadata": {},
   "outputs": [
    {
     "data": {
      "text/plain": [
       "<lsst.afw.table.source.source.SourceCatalog at 0x7fd2b2ca6650>"
      ]
     },
     "execution_count": 80,
     "metadata": {},
     "output_type": "execute_result"
    }
   ],
   "source": [
    "detect_sources(exp)"
   ]
  },
  {
   "cell_type": "code",
   "execution_count": null,
   "metadata": {
    "collapsed": true
   },
   "outputs": [],
   "source": []
  }
 ],
 "metadata": {
  "kernelspec": {
   "display_name": "Python 2",
   "language": "python",
   "name": "python2"
  },
  "language_info": {
   "codemirror_mode": {
    "name": "ipython",
    "version": 2
   },
   "file_extension": ".py",
   "mimetype": "text/x-python",
   "name": "python",
   "nbconvert_exporter": "python",
   "pygments_lexer": "ipython2",
   "version": "2.7.12"
  }
 },
 "nbformat": 4,
 "nbformat_minor": 2
}
