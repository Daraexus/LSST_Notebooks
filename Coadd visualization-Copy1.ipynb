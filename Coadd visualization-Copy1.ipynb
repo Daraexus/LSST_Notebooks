{
 "cells": [
  {
   "cell_type": "code",
   "execution_count": 3,
   "metadata": {
    "collapsed": false
   },
   "outputs": [],
   "source": [
    "import pickle\n",
    "import sncosmo\n",
    "import numpy as np\n",
    "import lsst.daf.base as dafBase\n",
    "import lsst.daf.persistence as dafPersist\n",
    "\n",
    "import lsst.afw.display.ds9 as ds9\n",
    "import lsst.afw.image as afwImage\n",
    "import lsst.afw.display.utils as displayUtils"
   ]
  },
  {
   "cell_type": "code",
   "execution_count": 5,
   "metadata": {
    "collapsed": false
   },
   "outputs": [],
   "source": [
    "i=1\n",
    "DATADIR=\"/renoir_data_02/jpreyes/lsst_data/CFHTLS_master/\"\n",
    "butler = dafPersist.Butler(DATADIR+\"/output\")\n",
    "\n",
    "\n",
    "\n",
    "im = butler.get('calexp', {'visit': 836493 , 'filter':'r' , 'ccd':0})\n",
    "    \n",
    "placeholder = im.Factory(im)\n",
    "\n",
    "placeholder = afwImage.ExposureF(placeholder.getWidth(), placeholder.getHeight())\n"
   ]
  },
  {
   "cell_type": "code",
   "execution_count": 6,
   "metadata": {
    "collapsed": false
   },
   "outputs": [
    {
     "name": "stdout",
     "output_type": "stream",
     "text": [
      "ds9 doesn't appear to be running (XPA: XPA returned NULL, (;iconify no; raise)), I'll try to exec it for you\n"
     ]
    }
   ],
   "source": [
    "ds9.mtv(placeholder, frame=1)"
   ]
  },
  {
   "cell_type": "code",
   "execution_count": 9,
   "metadata": {
    "collapsed": false
   },
   "outputs": [
    {
     "data": {
      "text/plain": [
       "<lsst.afw.image.imageLib.ImageF; proxy of <Swig Object of type 'boost::shared_ptr< lsst::afw::image::Image< float > > *' at 0x7fce8be808d0> >"
      ]
     },
     "execution_count": 9,
     "metadata": {},
     "output_type": "execute_result"
    }
   ],
   "source": [
    "mosaic = displayUtils.Mosaic(gutter=50, background=50, mode=\"y\")\n",
    "mosaic_line = None\n",
    "\n",
    "for i in range(0,36):\n",
    "\n",
    "    \n",
    "    if i%9 == 0:\n",
    "        #print i\n",
    "        if mosaic_line is not None:\n",
    "            ml = mosaic_line.makeMosaic(frame=None, display=None)\n",
    "            mosaic.append(ml)\n",
    "            \n",
    "        mosaic_line = displayUtils.Mosaic(gutter=50, background=50, mode='x')\n",
    "        \n",
    "    if butler.datasetExists('deepDiff_differenceExp', {'visit': 836493 , 'filter':'r' , 'ccd':i}):\n",
    "        cl = butler.get('deepDiff_differenceExp', {'visit': 836493 , 'filter':'r' , 'ccd':i})\n",
    "    else:\n",
    "        cl = placeholder\n",
    "         \n",
    "    #print cl\n",
    "        \n",
    "    mosaic_line.append(cl.getMaskedImage().getImage(), label=str(i))\n",
    "        \n",
    "ml = mosaic_line.makeMosaic(frame=None, display=None)\n",
    "mosaic.append(ml)  \n",
    "\n",
    "    \n",
    "mosaic.makeMosaic(frame=10)\n",
    "\n"
   ]
  },
  {
   "cell_type": "code",
   "execution_count": 10,
   "metadata": {
    "collapsed": true
   },
   "outputs": [],
   "source": [
    "cl = butler.get('deepDiff_differenceExp', {'visit': 836493 , 'filter':'r' , 'ccd':14})\n",
    "ds= butler.get('deepDiff_diaSrc', {'visit': 836493 , 'filter':'r' , 'ccd':14})\n"
   ]
  },
  {
   "cell_type": "code",
   "execution_count": 11,
   "metadata": {
    "collapsed": true
   },
   "outputs": [],
   "source": [
    "ds9.mtv(cl, frame=2)"
   ]
  },
  {
   "cell_type": "code",
   "execution_count": 14,
   "metadata": {
    "collapsed": false
   },
   "outputs": [],
   "source": [
    "for s in ds:\n",
    "    ds9.dot('o',s.getX(), s.getY(), frame=2, size=10)"
   ]
  },
  {
   "cell_type": "code",
   "execution_count": 15,
   "metadata": {
    "collapsed": true
   },
   "outputs": [],
   "source": [
    "import DiaSourceTools as DSTools"
   ]
  },
  {
   "cell_type": "code",
   "execution_count": 16,
   "metadata": {
    "collapsed": true
   },
   "outputs": [],
   "source": [
    "fluxes, sigmas = DSTools.get_fluxes_and_sigmas(ds, \"base_PeakLikelihoodFlux_flux\")\n",
    "\n",
    "m_sigma = np.mean(sigmas)\n",
    "t_sigma = 5*m_sigma\n",
    "\n",
    "sources = DSTools.get_sources_over_sigma(ds, t_sigma, \"base_PeakLikelihoodFlux_flux\")"
   ]
  },
  {
   "cell_type": "code",
   "execution_count": 20,
   "metadata": {
    "collapsed": true
   },
   "outputs": [],
   "source": [
    "for s in sources:\n",
    "    ds9.dot('o',s.getX(), s.getY(), frame=2, size=25, ctype=ds9.RED)"
   ]
  },
  {
   "cell_type": "code",
   "execution_count": null,
   "metadata": {
    "collapsed": false
   },
   "outputs": [],
   "source": []
  },
  {
   "cell_type": "code",
   "execution_count": null,
   "metadata": {
    "collapsed": true
   },
   "outputs": [],
   "source": []
  }
 ],
 "metadata": {
  "kernelspec": {
   "display_name": "Python 2",
   "language": "python",
   "name": "python2"
  },
  "language_info": {
   "codemirror_mode": {
    "name": "ipython",
    "version": 2
   },
   "file_extension": ".py",
   "mimetype": "text/x-python",
   "name": "python",
   "nbconvert_exporter": "python",
   "pygments_lexer": "ipython2",
   "version": "2.7.11"
  }
 },
 "nbformat": 4,
 "nbformat_minor": 0
}
