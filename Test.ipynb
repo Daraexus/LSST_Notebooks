{
 "metadata": {
  "name": ""
 },
 "nbformat": 3,
 "nbformat_minor": 0,
 "worksheets": [
  {
   "cells": [
    {
     "cell_type": "code",
     "collapsed": false,
     "input": [
      "import glob\n",
      "import os\n",
      "import subprocess\n",
      "import sys\n",
      "\n",
      "\n",
      "import lsst.pipe.tasks.subtractImages as Subtracter\n",
      "import lsst.pipe.tasks.imageDifference as Differencer  \n",
      "import lsst.daf.persistence as dafPersist\n",
      "\n",
      "import lsst.afw.image as afwImage\n",
      "import lsst.meas.algorithms as measAlg\n",
      "import lsst.ip.diffim as ipDiffim\n",
      "import lsst.ip.diffim.diffimTools as diffimTools\n",
      "\n",
      "from lsst.daf.persistence import StorageList, LogicalLocation, ReadProxy, ButlerSubset, ButlerDataRef\n",
      "\n",
      "\n",
      "import lsst.daf.base as dafBase\n",
      "from lsst.meas.astrom import Astrometry\n",
      "import lsst.afw.cameraGeom as cg\n",
      "import lsst.afw.geom as afwGeom\n",
      "import math\n",
      "import lsst.afw.display.ds9 as ds9\n",
      "import lsst.afw.image as afwImg\n",
      "import lsst.afw.table as afwTable\n",
      "\n",
      "DATADIR1 = \"/renoir_data_00/jpreyes/stacks/notebook_files/data/CFHTLS\"\n",
      "DATADIR2 = \"/renoir_data_00/jpreyes/stacks/notebook_files/data/CFHTLS_S1\"\n",
      "\n",
      "\n",
      "butler = dafPersist.Butler(DATADIR1+\"/output/coadd_r_dir\")"
     ],
     "language": "python",
     "metadata": {},
     "outputs": [],
     "prompt_number": 1
    },
    {
     "cell_type": "code",
     "collapsed": false,
     "input": [
      "\n",
      "SubtractTask = Subtracter.SubtractImagesTask\n",
      "#This is an attempt to show the traceback\n",
      "#%tb\n",
      "SubtractTask.parseAndRun(args=((DATADIR1+\"/output/coadd_r_dir \"+DATADIR2+\"/output/coadd_r_dir/deepCoadd/r/1/9,1.fits --id filter=r tract=1 patch=9,1 --config scienceFwhmPix=4.5 templateFwhmPix=4.5  --clobber-config\").split()))  "
     ],
     "language": "python",
     "metadata": {},
     "outputs": [
      {
       "output_type": "stream",
       "stream": "stdout",
       "text": [
        "Processing {'filter': 'r', 'tract': 1, 'patch': '9,1'}\n",
        "<lsst.afw.math.mathLib.SpatialCellSet; proxy of <Swig Object of type 'lsst::afw::math::SpatialCellSet *' at 0x4bb45d0> >"
       ]
      },
      {
       "output_type": "stream",
       "stream": "stdout",
       "text": [
        "\n",
        "(<lsst.afw.math.mathLib.Kernel; proxy of <Swig Object of type 'boost::shared_ptr< lsst::afw::math::Kernel > *' at 0x65b2300> >, <lsst.afw.math.mathLib.Kernel; proxy of <Swig Object of type 'boost::shared_ptr< lsst::afw::math::Kernel > *' at 0x65b21b0> >, <lsst.afw.math.mathLib.Kernel; proxy of <Swig Object of type 'boost::shared_ptr< lsst::afw::math::Kernel > *' at 0x65b23c0> >, <lsst.afw.math.mathLib.Kernel; proxy of <Swig Object of type 'boost::shared_ptr< lsst::afw::math::Kernel > *' at 0x65b2390> >, <lsst.afw.math.mathLib.Kernel; proxy of <Swig Object of type 'boost::shared_ptr< lsst::afw::math::Kernel > *' at 0x65b22d0> >, <lsst.afw.math.mathLib.Kernel; proxy of <Swig Object of type 'boost::shared_ptr< lsst::afw::math::Kernel > *' at 0x65b2270> >, <lsst.afw.math.mathLib.Kernel; proxy of <Swig Object of type 'boost::shared_ptr< lsst::afw::math::Kernel > *' at 0x65b2330> >, <lsst.afw.math.mathLib.Kernel; proxy of <Swig Object of type 'boost::shared_ptr< lsst::afw::math::Kernel > *' at 0x65b23f0> >, <lsst.afw.math.mathLib.Kernel; proxy of <Swig Object of type 'boost::shared_ptr< lsst::afw::math::Kernel > *' at 0x65b2420> >, <lsst.afw.math.mathLib.Kernel; proxy of <Swig Object of type 'boost::shared_ptr< lsst::afw::math::Kernel > *' at 0x65b2450> >, <lsst.afw.math.mathLib.Kernel; proxy of <Swig Object of type 'boost::shared_ptr< lsst::afw::math::Kernel > *' at 0x65b2480> >, <lsst.afw.math.mathLib.Kernel; proxy of <Swig Object of type 'boost::shared_ptr< lsst::afw::math::Kernel > *' at 0x65b24b0> >, <lsst.afw.math.mathLib.Kernel; proxy of <Swig Object of type 'boost::shared_ptr< lsst::afw::math::Kernel > *' at 0x65b24e0> >, <lsst.afw.math.mathLib.Kernel; proxy of <Swig Object of type 'boost::shared_ptr< lsst::afw::math::Kernel > *' at 0x65b2510> >, <lsst.afw.math.mathLib.Kernel; proxy of <Swig Object of type 'boost::shared_ptr< lsst::afw::math::Kernel > *' at 0x65b2540> >, <lsst.afw.math.mathLib.Kernel; proxy of <Swig Object of type 'boost::shared_ptr< lsst::afw::math::Kernel > *' at 0x65b2570> >, <lsst.afw.math.mathLib.Kernel; proxy of <Swig Object of type 'boost::shared_ptr< lsst::afw::math::Kernel > *' at 0x65b25a0> >, <lsst.afw.math.mathLib.Kernel; proxy of <Swig Object of type 'boost::shared_ptr< lsst::afw::math::Kernel > *' at 0x65b25d0> >, <lsst.afw.math.mathLib.Kernel; proxy of <Swig Object of type 'boost::shared_ptr< lsst::afw::math::Kernel > *' at 0x65b2600> >, <lsst.afw.math.mathLib.Kernel; proxy of <Swig Object of type 'boost::shared_ptr< lsst::afw::math::Kernel > *' at 0x65b2630> >, <lsst.afw.math.mathLib.Kernel; proxy of <Swig Object of type 'boost::shared_ptr< lsst::afw::math::Kernel > *' at 0x65b2660> >, <lsst.afw.math.mathLib.Kernel; proxy of <Swig Object of type 'boost::shared_ptr< lsst::afw::math::Kernel > *' at 0x65b2690> >, <lsst.afw.math.mathLib.Kernel; proxy of <Swig Object of type 'boost::shared_ptr< lsst::afw::math::Kernel > *' at 0x65b26c0> >, <lsst.afw.math.mathLib.Kernel; proxy of <Swig Object of type 'boost::shared_ptr< lsst::afw::math::Kernel > *' at 0x65b26f0> >, <lsst.afw.math.mathLib.Kernel; proxy of <Swig Object of type 'boost::shared_ptr< lsst::afw::math::Kernel > *' at 0x65b2720> >, <lsst.afw.math.mathLib.Kernel; proxy of <Swig Object of type 'boost::shared_ptr< lsst::afw::math::Kernel > *' at 0x65b2750> >, <lsst.afw.math.mathLib.Kernel; proxy of <Swig Object of type 'boost::shared_ptr< lsst::afw::math::Kernel > *' at 0x65b2780> >)\n",
        "Results:"
       ]
      },
      {
       "output_type": "stream",
       "stream": "stdout",
       "text": [
        " Struct(matchedExposure=<lsst.afw.image.imageLib.ExposureF; proxy of <Swig Object of type 'boost::shared_ptr< lsst::afw::image::Exposure< float,lsst::afw::image::MaskPixel,lsst::afw::image::VariancePixel > > *' at 0x4bafde0> >; warpedExposure=<lsst.afw.image.imageLib.ExposureF; proxy of <Swig Object of type 'boost::shared_ptr< lsst::afw::image::Exposure< float,lsst::afw::image::MaskPixel,lsst::afw::image::VariancePixel > > *' at 0x4bbbb40> >; psfMatchingKernel=<lsst.afw.math.mathLib.LinearCombinationKernel; proxy of <Swig Object of type 'boost::shared_ptr< lsst::afw::math::LinearCombinationKernel > *' at 0x65b29f0> >; backgroundModel=<lsst.afw.math.mathLib.Function2D; proxy of <Swig Object of type 'boost::shared_ptr< lsst::afw::math::Function2< double > > *' at 0x65b2930> >; subtractedExposure=<lsst.afw.image.imageLib.ExposureF; proxy of <Swig Object of type 'boost::shared_ptr< lsst::afw::image::Exposure< float,lsst::afw::image::MaskPixel,lsst::afw::image::VariancePixel > > *' at 0x4bacd50> >; matchedImage=<lsst.afw.image.imageLib.MaskedImageF; proxy of <Swig Object of type 'boost::shared_ptr< lsst::afw::image::MaskedImage< float,lsst::afw::image::MaskPixel,lsst::afw::image::VariancePixel > > *' at 0x4bac960> >; kernelCellSet=<lsst.afw.math.mathLib.SpatialCellSet; proxy of <Swig Object of type 'lsst::afw::math::SpatialCellSet *' at 0x4bb45d0> >)\n"
       ]
      },
      {
       "metadata": {},
       "output_type": "pyout",
       "prompt_number": 2,
       "text": [
        "Struct(taskRunner=<lsst.pipe.tasks.subtractImages.SubtractImageTaskRunner object at 0x4bb1c90>; parsedCmd=Namespace(butler=<lsst.daf.persistence.butler.Butler object at 0x4af9550>, calib=None, camera='megacam', clobberConfig=True, clobberOutput=False, config=lsst.pipe.tasks.subtractImages.SubtractImagesConfig(convolveTemplate=False, scienceFwhmPix=4.5, subtract={'kernel': {'values': {'DF': {'afwBackgroundConfig': {'ignoredPixelMask': ['EDGE', 'DETECTED', 'DETECTED_NEGATIVE'], 'undersampleStyle': 'REDUCE_INTERP_ORDER', 'algorithm': 'NATURAL_SPLINE', 'binSize': 256, 'isNanSafe': False, 'statisticsProperty': 'MEANCLIP'}, 'spatialModelType': 'chebyshev1', 'maxKsumSigma': 3.0, 'fitForBackground': False, 'centralRegularizationStencil': 9, 'kernelSizeMax': 35, 'lambdaValue': 0.2, 'singleKernelClipping': True, 'regularizationBorderPenalty': 3.0, 'maxSpatialConditionNumber': 10000000000.0, 'kernelSizeMin': 21, 'forwardRegularizationOrders': [1, 2], 'lambdaStepType': 'log', 'sizeCellX': 128, 'sizeCellY': 128, 'checkConditionNumber': False, 'badMaskPlanes': ['EDGE', 'SAT'], 'kernelSizeFwhmScaling': 6.0, 'lambdaMin': -1.0, 'usePcaForSpatialKernel': True, 'subtractMeanForPca': True, 'candidateCoreRadius': 3, 'nStarPerCell': 3, 'candidateResidualMeanMax': 0.25, 'useCoreStats': False, 'constantVarianceWeighting': True, 'kernelBasisSet': 'delta-function', 'lambdaMax': 2.0, 'regularizationType': 'centralDifference', 'useBicForKernelBasis': False, 'kernelSize': 21, 'spatialKernelOrder': 2, 'spatialKernelClipping': True, 'lambdaScaling': 0.0001, 'calculateKernelUncertainty': False, 'lambdaType': 'absolute', 'detectionConfig': {'fpNpixMin': 5, 'detThresholdType': 'pixel_stdev', 'detOnTemplate': True, 'detThreshold': 10.0, 'badMaskPlanes': ['EDGE', 'SAT'], 'scaleByFwhm': True, 'fpGrowPix': 30, 'fpGrowKernelScaling': 1.0, 'fpNpixMax': 500}, 'maxSpatialIterations': 3, 'scaleByFwhm': True, 'spatialBgOrder': 1, 'candidateResidualStdMax': 1.5, 'kernelSumClipping': True, 'numPrincipalComponents': 5, 'lambdaStep': 0.1, 'useRegularization': True, 'warpingConfig': {'warpingKernelName': 'lanczos4', 'interpLength': 10, 'cacheSize': 0, 'devicePreference': 0, 'maskWarpingKernelName': 'bilinear', 'growFullMask': 16}, 'iterateSingleKernel': False, 'conditionNumberType': 'EIGENVALUE', 'maxConditionNumber': 5000000.0, 'useAfwBackground': False}, 'AL': {'spatialModelType': 'chebyshev1', 'maxKsumSigma': 3.0, 'fitForBackground': False, 'alardNGaussDeconv': 3, 'kernelSizeMax': 35, 'alardNGauss': 3, 'singleKernelClipping': True, 'maxSpatialConditionNumber': 10000000000.0, 'kernelSizeMin': 21, 'candidateCoreRadius': 3, 'sizeCellX': 128, 'sizeCellY': 128, 'checkConditionNumber': False, 'alardMinSigDeconv': 0.4, 'badMaskPlanes': ['EDGE', 'SAT'], 'alardDegGaussDeconv': 3, 'usePcaForSpatialKernel': False, 'subtractMeanForPca': True, 'nStarPerCell': 3, 'candidateResidualMeanMax': 0.25, 'useCoreStats': False, 'constantVarianceWeighting': True, 'kernelBasisSet': 'alard-lupton', 'alardSigGauss': [0.7, 1.5, 3.0], 'alardGaussBeta': 2.0, 'useBicForKernelBasis': False, 'kernelSize': 21, 'afwBackgroundConfig': {'ignoredPixelMask': ['EDGE', 'DETECTED', 'DETECTED_NEGATIVE'], 'undersampleStyle': 'REDUCE_INTERP_ORDER', 'algorithm': 'NATURAL_SPLINE', 'binSize': 256, 'isNanSafe': False, 'statisticsProperty': 'MEANCLIP'}, 'spatialKernelClipping': True, 'calculateKernelUncertainty': False, 'spatialKernelOrder': 2, 'detectionConfig': {'fpNpixMin': 5, 'detThresholdType': 'pixel_stdev', 'detOnTemplate': True, 'detThreshold': 10.0, 'badMaskPlanes': ['EDGE', 'SAT'], 'scaleByFwhm': True, 'fpGrowPix': 30, 'fpGrowKernelScaling': 1.0, 'fpNpixMax': 500}, 'maxSpatialIterations': 3, 'scaleByFwhm': True, 'kernelSizeFwhmScaling': 6.0, 'alardDegGauss': [4, 2, 2], 'spatialBgOrder': 1, 'candidateResidualStdMax': 1.5, 'kernelSumClipping': True, 'numPrincipalComponents': 5, 'warpingConfig': {'warpingKernelName': 'lanczos4', 'interpLength': 10, 'cacheSize': 0, 'devicePreference': 0, 'maskWarpingKernelName': 'bilinear', 'growFullMask': 16}, 'iterateSingleKernel': False, 'conditionNumberType': 'EIGENVALUE', 'maxConditionNumber': 50000000.0, 'alardMinSig': 0.7, 'useAfwBackground': False}}, 'name': 'AL'}, 'selectMeasurement': {'doReplaceWithNoise': True, 'centroider': {'values': {'centroid.sdss': {'priority': 0.0, 'peakMin': -1.0, 'binmax': 16, 'wfac': 1.5}, 'centroid.naive': {'priority': 0.0, 'background': 0.0}, 'centroid.gaussian': {'priority': 0.0}}, 'name': 'centroid.sdss'}, 'prefix': None, 'algorithms': {'values': {'centroid.sdss': {'priority': 0.0, 'peakMin': -1.0, 'binmax': 16, 'wfac': 1.5}, 'flux.psf': {'priority': 2.0}, 'flux.dipole.psf': {'priority': 2.0, 'stepSizeFlux': 1.0, 'stepSizeCoord': 0.10000000149011612, 'maxPixels': 500, 'errorDef': 1.0, 'maxFnCalls': 100000}, 'flags.pixel': {'priority': 0.0}, 'centroid.gaussian': {'priority': 0.0}, 'centroid.record': {'priority': 5.0}, 'flux.aperture': {'priority': 2.0, 'radii': [0.0, 0.0, 0.0, 0.0, 0.0, 0.0, 0.0, 0.0, 0.0, 0.0, 1.0, 1.5625, 2.44140625, 3.814697265625, 5.9604644775390625, 9.313225746154785, 14.551915228366852, 22.737367544323206, 35.52713678800501, 55.51115123125783]}, 'centroid.dipole.naive': {'priority': 0.0}, 'flux.naive': {'priority': 2.0, 'radius': 7.0}, 'flux.gaussian': {'shapeFlag': '.flags', 'tol2': 9.999999747378752e-05, 'tol1': 9.999999747378752e-06, 'priority': 2.0, 'shape': 'shape.sdss', 'centroid': 'shape.sdss.centroid', 'background': 0.0, 'maxIter': 100, 'fixed': False, 'shiftmax': 10.0}, 'centroid.naive': {'priority': 0.0, 'background': 0.0}, 'flux.sinc': {'priority': 2.0, 'radius1': 0.0, 'radius2': 7.0, 'angle': 0.0, 'ellipticity': 0.0}, 'shape.sdss': {'priority': 1.0, 'tol2': 9.999999747378752e-05, 'tol1': 9.999999747378752e-06, 'background': 0.0, 'maxIter': 100}, 'flux.aperture.elliptical': {'priority': 1.899999976158142, 'radii': [0.0, 0.0, 0.0, 0.0, 0.0, 0.0, 0.0, 0.0, 0.0, 0.0, 1.0, 1.5625, 2.44140625, 3.814697265625, 5.9604644775390625, 9.313225746154785, 14.551915228366852, 22.737367544323206, 35.52713678800501, 55.51115123125783]}, 'flux.peakLikelihood': {'priority': 2.0, 'warpingKernelName': 'lanczos4'}, 'correctfluxes': {'doApCorr': True, 'canonicalFluxName': 'flux.psf', 'apCorrRadius': 7.0, 'priority': 3.0, 'doFlagTieFailures': True, 'doFlagApCorrFailures': True, 'canonicalFluxIndex': 0, 'doTieScaledFluxes': True}, 'classification.extendedness': {'priority': 5.0, 'psfErrFactor': 0.0, 'modelErrFactor': 0.0, 'fluxRatio': 0.925}, 'skycoord': {'priority': 5.0}, 'flux.dipole.naive': {'priority': 2.0}}, 'names': ['flux.psf', 'flux.gaussian', 'skycoord', 'flags.pixel', 'shape.sdss']}, 'replaceWithNoise': {'noiseSeed': 0, 'noiseOffset': 0.0, 'noiseSource': 'measure'}, 'slots': {'psfFlux': 'flux.psf', 'apFlux': None, 'instFlux': 'flux.gaussian', 'shape': 'shape.sdss', 'centroid': 'centroid.sdss', 'modelFlux': None}}, 'selectDetection': {'reEstimateBackground': False, 'nSigmaToGrow': 2.4, 'minPixels': 1, 'includeThresholdMultiplier': 1.0, 'isotropicGrow': False, 'adjustBackground': 0.0, 'thresholdType': 'stdev', 'background': {'ignoredPixelMask': ['EDGE', 'DETECTED', 'DETECTED_NEGATIVE'], 'undersampleStyle': 'REDUCE_INTERP_ORDER', 'algorithm': 'NATURAL_SPLINE', 'binSize': 256, 'isNanSafe': False, 'statisticsProperty': 'MEANCLIP'}, 'returnOriginalFootprints': True, 'thresholdPolarity': 'positive', 'thresholdValue': 10.0}}, templateFwhmPix=4.5, doWarping=False), debug=False, doraise=False, id=<lsst.pipe.base.argumentParser.DataIdContainer object at 0x4546190>, input='/renoir_data_00/jpreyes/stacks/notebook_files/data/CFHTLS/output/coadd_r_dir', input2='/renoir_data_00/jpreyes/stacks/notebook_files/data/CFHTLS_S1/output/coadd_r_dir/deepCoadd/r/1/9,1.fits', log=<lsst.pex.logging.loggingLib.Log; proxy of <Swig Object of type 'lsst::pex::logging::Log *' at 0x4aa9d50> >, obsPkg='obs_cfht', output=None, processes=1, profile=None, show=(), timeout=None, trace=None); resultList=[None]; argumentParser=ArgumentParser(prog='-c', usage='%(prog)s input [options]', description=None, version=None, formatter_class=<class 'argparse.RawDescriptionHelpFormatter'>, conflict_handler='error', add_help=True))"
       ]
      }
     ],
     "prompt_number": 2
    },
    {
     "cell_type": "code",
     "collapsed": false,
     "input": [
      "  "
     ],
     "language": "python",
     "metadata": {},
     "outputs": []
    },
    {
     "cell_type": "code",
     "collapsed": false,
     "input": [
      "DifferenceTask = Differencer.ImageDifferenceTask\n",
      "DifferenceTask.parseAndRun((DATADIR1+\"/output --output \"+DATADIR1+\"/output/differences --id visit=994755 ccd=1 filter=r\").split())"
     ],
     "language": "python",
     "metadata": {},
     "outputs": []
    },
    {
     "cell_type": "code",
     "collapsed": false,
     "input": [],
     "language": "python",
     "metadata": {},
     "outputs": []
    }
   ],
   "metadata": {}
  }
 ]
}