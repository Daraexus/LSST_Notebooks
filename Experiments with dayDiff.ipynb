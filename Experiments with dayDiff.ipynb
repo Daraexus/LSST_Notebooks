{
 "cells": [
  {
   "cell_type": "code",
   "execution_count": null,
   "metadata": {
    "collapsed": true,
    "deletable": true,
    "editable": true
   },
   "outputs": [],
   "source": [
    "import lsst.daf.persistence as dafPersist\n",
    "import matplotlib.pyplot as plt\n",
    "import numpy as np\n",
    "\n",
    "import lsst.afw.table as afwTable\n",
    "import lsst.afw.geom as afwGeom\n",
    "import Utils.DiaSourceTools as DSTools\n",
    "import lsst.afw.display.ds9 as ds9\n",
    "from astropy.time import Time"
   ]
  },
  {
   "cell_type": "code",
   "execution_count": null,
   "metadata": {
    "collapsed": true,
    "deletable": true,
    "editable": true
   },
   "outputs": [],
   "source": [
    "DATADIR=\"/renoir_data_02/jpreyes/lsst_data/CFHTLS_sim/\""
   ]
  },
  {
   "cell_type": "code",
   "execution_count": 70,
   "metadata": {
    "collapsed": false,
    "deletable": true,
    "editable": true
   },
   "outputs": [],
   "source": [
    "directory = DATADIR+\"/output\"\n",
    "butler = dafPersist.Butler(directory) \n",
    "dayDiff = butler.get(\"calexp\", {\"visit\":850586,\"filter\":'r', \"ccd\":14})"
   ]
  },
  {
   "cell_type": "code",
   "execution_count": null,
   "metadata": {
    "collapsed": false,
    "deletable": true,
    "editable": true
   },
   "outputs": [],
   "source": [
    "dates = butler.queryMetadata(\"dayDiff_class_diaSrc\", format=[\"patch\"], dataId={\"date\":\"2005-07-07\"})\n",
    "print dates"
   ]
  },
  {
   "cell_type": "code",
   "execution_count": null,
   "metadata": {
    "collapsed": false,
    "deletable": true,
    "editable": true
   },
   "outputs": [],
   "source": [
    "patches = [\"8,4\"]\n",
    "dates = [\"2005-07-07\"]\n",
    "\n",
    "multi_matches = None\n",
    "for date in dates:\n",
    "    date_catalog = None\n",
    "    for patch in patches:\n",
    "        if butler.datasetExists(\"dayDiff_class_diaSrc\", {\"patch\":patch,\"filter\":'r', \"tract\":0, \"date\":date}) == True:\n",
    "            catalog = butler.get(\"dayDiff_class_diaSrc\", {\"patch\":patch,\"filter\":'r', \"tract\":0, \"date\":date})\n",
    "            if date_catalog is None: \n",
    "                date_catalog = catalog.copy()\n",
    "            else:\n",
    "                date_catalog.extend(catalog)\n",
    "                \n",
    "    if multi_matches is None and len(date_catalog)>0:\n",
    "        multi_matches = afwTable.MultiMatch(date_catalog[0].schema, {'date':float})\n",
    "    \n",
    "    t = Time(date)\n",
    "    multi_matches.add(date_catalog, {'date':t.mjd})\n",
    "                \n",
    "results = multi_matches.finish(removeAmbiguous=False)  "
   ]
  },
  {
   "cell_type": "code",
   "execution_count": null,
   "metadata": {
    "collapsed": false,
    "deletable": true,
    "editable": true
   },
   "outputs": [],
   "source": [
    "lcs = DSTools.get_light_curves_from_multimatch_results2(results)"
   ]
  },
  {
   "cell_type": "code",
   "execution_count": null,
   "metadata": {
    "collapsed": false,
    "deletable": true,
    "editable": true
   },
   "outputs": [],
   "source": [
    "len(lcs)"
   ]
  },
  {
   "cell_type": "code",
   "execution_count": null,
   "metadata": {
    "collapsed": true,
    "deletable": true,
    "editable": true
   },
   "outputs": [],
   "source": []
  }
 ],
 "metadata": {
  "kernelspec": {
   "display_name": "Python 2",
   "language": "python",
   "name": "python2"
  },
  "language_info": {
   "codemirror_mode": {
    "name": "ipython",
    "version": 2
   },
   "file_extension": ".py",
   "mimetype": "text/x-python",
   "name": "python",
   "nbconvert_exporter": "python",
   "pygments_lexer": "ipython2",
   "version": "2.7.12"
  }
 },
 "nbformat": 4,
 "nbformat_minor": 0
}
