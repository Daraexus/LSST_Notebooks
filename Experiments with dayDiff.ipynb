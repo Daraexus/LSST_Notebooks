{
 "cells": [
  {
   "cell_type": "code",
   "execution_count": 48,
   "metadata": {
    "collapsed": true,
    "deletable": true,
    "editable": true
   },
   "outputs": [],
   "source": [
    "import lsst.daf.persistence as dafPersist\n",
    "import matplotlib.pyplot as plt\n",
    "import numpy as np\n",
    "\n",
    "import lsst.afw.table as afwTable\n",
    "import lsst.afw.geom as afwGeom\n",
    "import Utils.DiaSourceTools as DSTools\n",
    "import lsst.afw.display.ds9 as ds9\n",
    "from astropy.time import Time"
   ]
  },
  {
   "cell_type": "code",
   "execution_count": 49,
   "metadata": {
    "collapsed": true,
    "deletable": true,
    "editable": true
   },
   "outputs": [],
   "source": [
    "DATADIR=\"/renoir_data_02/jpreyes/lsst_data/CFHTLS_sim/\""
   ]
  },
  {
   "cell_type": "code",
   "execution_count": 51,
   "metadata": {
    "collapsed": false,
    "deletable": true,
    "editable": true
   },
   "outputs": [],
   "source": [
    "directory = DATADIR+\"/output/\"\n",
    "butler = dafPersist.Butler(directory) \n",
    "dayDiff = butler.get(\"dayDiff_differenceExp\", {\"patch\":\"8,4\",\"filter\":'r', \"tract\":0, \"date\":\"2005-07-07\"})"
   ]
  },
  {
   "cell_type": "code",
   "execution_count": 57,
   "metadata": {
    "collapsed": false
   },
   "outputs": [
    {
     "name": "stdout",
     "output_type": "stream",
     "text": [
      "['2005-06-29', '2005-07-02', '2005-07-07', '2005-07-14', '2005-07-27', '2005-08-01', '2005-08-04', '2006-01-02', '2006-01-08', '2006-01-31', '2006-02-03', '2006-02-06', '2006-02-25', '2006-03-05', '2006-04-23', '2006-04-26', '2006-04-30', '2006-05-04', '2006-05-20', '2006-05-24', '2006-05-28', '2006-06-02', '2006-06-06', '2006-06-20', '2006-06-25', '2006-06-30', '2006-07-03', '2006-07-19', '2006-07-23', '2006-07-27', '2007-01-13', '2007-01-17', '2007-01-20', '2007-01-23', '2007-02-09', '2007-02-13', '2007-02-20', '2007-02-22', '2007-03-17', '2007-03-20', '2007-03-24']\n"
     ]
    }
   ],
   "source": [
    "dates = butler.queryMetadata(\"dayDiff_class_diaSrc\", format=[\"date\"], dataId={\"filter\":\"r\"})\n",
    "print dates"
   ]
  },
  {
   "cell_type": "code",
   "execution_count": 47,
   "metadata": {
    "collapsed": false,
    "deletable": true,
    "editable": true
   },
   "outputs": [],
   "source": [
    "patches = [\"8,4\"]\n",
    "dates = [\"2005-07-07\"]\n",
    "\n",
    "multi_matches = None\n",
    "for date in dates:\n",
    "    date_catalog = None\n",
    "    for patch in patches:\n",
    "        if butler.datasetExists(\"dayDiff_class_diaSrc\", {\"patch\":patch,\"filter\":'r', \"tract\":0, \"date\":date}) == True:\n",
    "            catalog = butler.get(\"dayDiff_class_diaSrc\", {\"patch\":patch,\"filter\":'r', \"tract\":0, \"date\":date})\n",
    "            if date_catalog is None: \n",
    "                date_catalog = catalog.copy()\n",
    "            else:\n",
    "                date_catalog.extend(catalog)\n",
    "                \n",
    "    if multi_matches is None and len(date_catalog)>0:\n",
    "        multi_matches = afwTable.MultiMatch(date_catalog[0].schema, {'date':float})\n",
    "    \n",
    "    t = Time(date)\n",
    "    multi_matches.add(date_catalog, {'date':t.mjd})\n",
    "                \n",
    "results = multi_matches.finish(removeAmbiguous=False)  "
   ]
  },
  {
   "cell_type": "code",
   "execution_count": 14,
   "metadata": {
    "collapsed": false
   },
   "outputs": [
    {
     "data": {
      "text/plain": [
       "60"
      ]
     },
     "execution_count": 14,
     "metadata": {},
     "output_type": "execute_result"
    }
   ],
   "source": []
  }
 ],
 "metadata": {
  "kernelspec": {
   "display_name": "Python 2",
   "language": "python",
   "name": "python2"
  },
  "language_info": {
   "codemirror_mode": {
    "name": "ipython",
    "version": 2
   },
   "file_extension": ".py",
   "mimetype": "text/x-python",
   "name": "python",
   "nbconvert_exporter": "python",
   "pygments_lexer": "ipython2",
   "version": "2.7.12"
  }
 },
 "nbformat": 4,
 "nbformat_minor": 0
}
