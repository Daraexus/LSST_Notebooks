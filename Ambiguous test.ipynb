{
 "cells": [
  {
   "cell_type": "code",
   "execution_count": 11,
   "metadata": {
    "collapsed": true
   },
   "outputs": [],
   "source": [
    "import lsst.daf.persistence as dafPersist\n",
    "import matplotlib.pyplot as plt\n",
    "import numpy as np\n",
    "\n",
    "import lsst.afw.table as afwTable\n",
    "import lsst.afw.geom as afwGeom\n",
    "import Utils.DiaSourceTools as DSTools\n",
    "from astropy.time import Time\n",
    "\n",
    "import lsst.afw.display.ds9 as ds9\n",
    "\n",
    "import re\n",
    "\n",
    "from multiprocessing import Pool\n",
    "from functools import partial\n",
    "\n",
    "from astropy.table import Column\n",
    "import astropy as astropy\n",
    "from astropy.io import ascii\n",
    "from mpi4py import MPI\n",
    "import pickle\n",
    "\n",
    "import Utils.DiaSourceTools as DSTools\n",
    "import sys\n",
    "import os\n",
    "import shutil\n"
   ]
  },
  {
   "cell_type": "code",
   "execution_count": 3,
   "metadata": {},
   "outputs": [],
   "source": [
    "DATADIR=\"/datadec/cppm/jpreyes/CFHT_Tests/tests\"\n",
    "\n",
    "butler = dafPersist.Butler(DATADIR)\n",
    "\n",
    "days_file=open(\"/datadec/cppm/jpreyes/CFHT_Tests/days_D3.txt\", \"rb\")\n",
    "\n",
    "dates = []\n",
    "for day in days_file:\n",
    "    day = day.replace('\\n','')\n",
    "    dates.append(day)\n",
    "\n",
    "days_file.close()\n"
   ]
  },
  {
   "cell_type": "code",
   "execution_count": 210,
   "metadata": {},
   "outputs": [],
   "source": [
    "multi_matches = None\n",
    "\n",
    "filters = [\"i\",\"r\"]\n",
    "patch=\"15,15\"\n",
    "for date in dates:\n",
    "    t = Time(date)\n",
    "    date_catalog = None\n",
    "                #print date\n",
    "    for i, f in enumerate(filters):\n",
    "            if butler.datasetExists(\"dayDiff_class_diaSrc\", dataId={\"filter\":f,\"tract\":0, \"patch\":patch, 'date':date}):\n",
    "                    date_catalog = butler.get(\"dayDiff_class_diaSrc\", dataId={\"filter\":f,\"tract\":0, \"patch\":patch, 'date':date})\n",
    "                    \n",
    "                    if date_catalog is not None:\n",
    "                            if multi_matches is None:\n",
    "                                    multi_matches= afwTable.MultiMatch(date_catalog.schema, {'mjd':'D', \"filter\":'D'}, radius=afwGeom.Angle(1./3600., afwGeom.degrees))\n",
    "                            multi_matches.add(date_catalog, {'mjd':int(t.mjd), 'filter':int(i)})\n"
   ]
  },
  {
   "cell_type": "code",
   "execution_count": 211,
   "metadata": {},
   "outputs": [],
   "source": [
    "results = multi_matches.finish(removeAmbiguous=False)"
   ]
  },
  {
   "cell_type": "code",
   "execution_count": 212,
   "metadata": {},
   "outputs": [],
   "source": [
    "lcs = DSTools.get_light_curves_from_multimatch_results2(results)\n"
   ]
  },
  {
   "cell_type": "code",
   "execution_count": 213,
   "metadata": {},
   "outputs": [],
   "source": [
    "stack_lcs = []\n",
    "for t_lc in lcs:\n",
    "   l = DSTools.build_lightcurve6(t_lc, \"base_CircularApertureFlux_4_5_flux\", filters)\n",
    "\n",
    "   n_curves = len(l.group_by(\"bandpass\").groups.indices)\n",
    "   if n_curves>1 and len(l)>5:\n",
    "        #l = DSTools.build_lightcurve6(t_lc, \"base_CircularApertureFlux_4_5_flux\", filters)\n",
    "\n",
    "        #l = correct_flux(l, patch, filters)    \n",
    "        if l is not None:\n",
    "                stack_lcs.append(l)\n"
   ]
  },
  {
   "cell_type": "code",
   "execution_count": 224,
   "metadata": {},
   "outputs": [
    {
     "name": "stderr",
     "output_type": "stream",
     "text": [
      "WARNING: AstropyDeprecationWarning: The data function is deprecated and may be removed in a future version.\n",
      "        Use :attr:`Row.as_void` instead. [astropy.utils.decorators]\n"
     ]
    }
   ],
   "source": [
    "nodup_lcs = remove_duplicates(stack_lcs)\n",
    "stack_lcs_final = []\n",
    "\n",
    "\n",
    "\n",
    "for lcs_arr  in nodup_lcs:\n",
    "    if len(lcs_arr)>1:\n",
    "            stack_lcs_final.append(join_lc(lcs_arr))\n",
    "    else:\n",
    "            stack_lcs_final.append(lcs_arr[0])\n"
   ]
  },
  {
   "cell_type": "code",
   "execution_count": 233,
   "metadata": {},
   "outputs": [
    {
     "name": "stdout",
     "output_type": "stream",
     "text": [
      "696 647\n",
      "(53080.0, 3.0, 'ab', nan, 3.74894 rad, inf, 0.918995 rad, 25.0, 'sdssi')\n"
     ]
    }
   ],
   "source": [
    "print len(stack_lcs),len(stack_lcs_final)\n",
    "for r in stack_lcs[0]:\n",
    "    v_roid = r.as_void()\n",
    "    print v_roid.tolist()\n",
    "    break"
   ]
  },
  {
   "cell_type": "code",
   "execution_count": 223,
   "metadata": {},
   "outputs": [],
   "source": [
    "def remove_duplicates(lcs):\n",
    "\n",
    "    checks = [False]*len(lcs)\n",
    "\n",
    "    errors = 0\n",
    "    amb = []\n",
    "    for i, l in enumerate(lcs):\n",
    "        if checks[i] == True:\n",
    "            continue\n",
    "\n",
    "        checks[i] = True\n",
    "        base_det = [l]\n",
    "        for j in range(i+1, len(lcs)):\n",
    "            if checks[j] == True:\n",
    "                continue\n",
    "            l1 = {\"ra\":l[0][\"ra\"], \"dec\":l[0][\"dec\"]}\n",
    "            l2 = {\"ra\":lcs[j][0][\"ra\"], \"dec\":lcs[j][0][\"dec\"]}\n",
    "\n",
    "            if DSTools.source_distance(l1,l2)<1.0:\n",
    "                base_det.append(lcs[j])\n",
    "                checks[j] = True\n",
    "                errors+=1\n",
    "\n",
    "        amb.append(base_det)\n",
    "\n",
    "    return amb\n",
    "\n",
    "def join_lc(lc_array):\n",
    "    result_lc = lc_array[0]\n",
    "\n",
    "    for i in range(1, len(lc_array)):\n",
    "        appendables = []\n",
    "\n",
    "\n",
    "        for src_to_add in lc_array[i]:\n",
    "            add_it = True\n",
    "            for src in result_lc:\n",
    "\n",
    "                if src[\"mjd\"]==src_to_add[\"mjd\"] and src[\"bandpass\"]==src_to_add[\"bandpass\"]:\n",
    "                    add_it = False\n",
    "                    break\n",
    "            if add_it==True:\n",
    "                appendables.append(src_to_add)\n",
    "\n",
    "        for app in appendables:\n",
    "            result_lc.add_row(app.data.tolist())\n",
    "    result_lc.sort(\"mjd\")\n",
    "    return result_lc\n"
   ]
  },
  {
   "cell_type": "code",
   "execution_count": 134,
   "metadata": {},
   "outputs": [
    {
     "name": "stdout",
     "output_type": "stream",
     "text": [
      "1026 1083\n"
     ]
    }
   ],
   "source": [
    "print len(amb), len(def_lcs)"
   ]
  },
  {
   "cell_type": "code",
   "execution_count": 157,
   "metadata": {},
   "outputs": [
    {
     "name": "stdout",
     "output_type": "stream",
     "text": [
      "3\n",
      "12\n",
      "16\n",
      "19\n",
      "20\n",
      "25\n",
      "35\n",
      "38\n",
      "45\n",
      "94\n",
      "99\n",
      "136\n",
      "154\n",
      "248\n",
      "262\n",
      "367\n",
      "370\n",
      "377\n",
      "394\n",
      "404\n",
      "414\n",
      "468\n",
      "492\n",
      "506\n",
      "519\n",
      "533\n",
      "647\n",
      "701\n",
      "821\n",
      "1\n"
     ]
    }
   ],
   "source": [
    "for i, a in enumerate(amb):\n",
    "    if len(a)==2:\n",
    "        print(i)\n",
    "print len(a)"
   ]
  },
  {
   "cell_type": "code",
   "execution_count": 142,
   "metadata": {},
   "outputs": [
    {
     "name": "stdout",
     "output_type": "stream",
     "text": [
      "142 122\n"
     ]
    }
   ],
   "source": [
    "print len(a[0]), len(a[1])"
   ]
  },
  {
   "cell_type": "code",
   "execution_count": 162,
   "metadata": {},
   "outputs": [],
   "source": [
    "a=amb[821]"
   ]
  },
  {
   "cell_type": "code",
   "execution_count": 169,
   "metadata": {},
   "outputs": [
    {
     "name": "stdout",
     "output_type": "stream",
     "text": [
      "5\n"
     ]
    }
   ],
   "source": [
    "count = 0\n",
    "\n",
    "for src in a[0]:\n",
    "        for src_to_add in a[1]:\n",
    "            if src.get(\"mjd\")==src_to_add.get(\"mjd\") and src.get(\"filter\")==src_to_add.get(\"filter\") and src.get(\"base_CircularApertureFlux_3_0_flux\")==src_to_add.get(\"base_CircularApertureFlux_3_0_flux\"):\n",
    "                count+=1\n",
    "                \n",
    "print count"
   ]
  },
  {
   "cell_type": "code",
   "execution_count": 166,
   "metadata": {},
   "outputs": [
    {
     "data": {
      "text/plain": [
       "(10, 7)"
      ]
     },
     "execution_count": 166,
     "metadata": {},
     "output_type": "execute_result"
    }
   ],
   "source": [
    "len(amb[821][0]),len(amb[821][1])"
   ]
  },
  {
   "cell_type": "code",
   "execution_count": 173,
   "metadata": {},
   "outputs": [],
   "source": [
    "res_a = join_lc(a)\n"
   ]
  },
  {
   "cell_type": "code",
   "execution_count": 175,
   "metadata": {},
   "outputs": [
    {
     "data": {
      "text/plain": [
       "[<lsst.afw.table.source.source.SourceRecord at 0x7f4c9e7dace0>,\n",
       " <lsst.afw.table.source.source.SourceRecord at 0x7f4c9e7dad18>,\n",
       " <lsst.afw.table.source.source.SourceRecord at 0x7f4c9e7dad50>,\n",
       " <lsst.afw.table.source.source.SourceRecord at 0x7f4c9e7dad88>,\n",
       " <lsst.afw.table.source.source.SourceRecord at 0x7f4c9e7dadc0>,\n",
       " <lsst.afw.table.source.source.SourceRecord at 0x7f4c9e7dadf8>,\n",
       " <lsst.afw.table.source.source.SourceRecord at 0x7f4c9e7dae30>,\n",
       " <lsst.afw.table.source.source.SourceRecord at 0x7f4c9e7dae68>,\n",
       " <lsst.afw.table.source.source.SourceRecord at 0x7f4c9e7daea0>,\n",
       " <lsst.afw.table.source.source.SourceRecord at 0x7f4c9e7daed8>,\n",
       " <lsst.afw.table.source.source.SourceRecord at 0x7f4ca4b7e4c8>,\n",
       " <lsst.afw.table.source.source.SourceRecord at 0x7f4ca4b7e538>]"
      ]
     },
     "execution_count": 175,
     "metadata": {},
     "output_type": "execute_result"
    }
   ],
   "source": [
    "res_a"
   ]
  },
  {
   "cell_type": "code",
   "execution_count": 103,
   "metadata": {},
   "outputs": [
    {
     "data": {
      "text/plain": [
       "Schema(\n",
       "    (Field['L'](name=\"id\", doc=\"unique ID\"), Key<L>(offset=0, nElements=1)),\n",
       "    (Field['Angle'](name=\"coord_ra\", doc=\"position in ra/dec\"), Key<Angle>(offset=8, nElements=1)),\n",
       "    (Field['Angle'](name=\"coord_dec\", doc=\"position in ra/dec\"), Key<Angle>(offset=16, nElements=1)),\n",
       "    (Field['L'](name=\"parent\", doc=\"unique ID of parent source\"), Key<L>(offset=24, nElements=1)),\n",
       "    (Field['Flag'](name=\"ip_diffim_NaiveDipoleCentroid_flag\", doc=\"general failure flag, set if anything went wrong\"), Key['Flag'](offset=32, bit=0)),\n",
       "    (Field['Flag'](name=\"ip_diffim_NaiveDipoleCentroid_pos_flag\", doc=\"failure flag for positive, set if anything went wrong\"), Key['Flag'](offset=32, bit=1)),\n",
       "    (Field['Flag'](name=\"ip_diffim_NaiveDipoleCentroid_neg_flag\", doc=\"failure flag for negative, set if anything went wrong\"), Key['Flag'](offset=32, bit=2)),\n",
       "    (Field['D'](name=\"ip_diffim_NaiveDipoleCentroid_x\", doc=\"unweighted first moment centroid: overall centroid\", units=\"pixel\"), Key<D>(offset=40, nElements=1)),\n",
       "    (Field['D'](name=\"ip_diffim_NaiveDipoleCentroid_y\", doc=\"unweighted first moment centroid: overall centroid\", units=\"pixel\"), Key<D>(offset=48, nElements=1)),\n",
       "    (Field['F'](name=\"ip_diffim_NaiveDipoleCentroid_xSigma\", doc=\"1-sigma uncertainty on x position\", units=\"pixel\"), Key<F>(offset=56, nElements=1)),\n",
       "    (Field['F'](name=\"ip_diffim_NaiveDipoleCentroid_ySigma\", doc=\"1-sigma uncertainty on y position\", units=\"pixel\"), Key<F>(offset=60, nElements=1)),\n",
       "    (Field['D'](name=\"ip_diffim_NaiveDipoleCentroid_pos_x\", doc=\"unweighted first moment centroid: positive lobe\", units=\"pixel\"), Key<D>(offset=64, nElements=1)),\n",
       "    (Field['D'](name=\"ip_diffim_NaiveDipoleCentroid_pos_y\", doc=\"unweighted first moment centroid: positive lobe\", units=\"pixel\"), Key<D>(offset=72, nElements=1)),\n",
       "    (Field['F'](name=\"ip_diffim_NaiveDipoleCentroid_pos_xSigma\", doc=\"1-sigma uncertainty on x position\", units=\"pixel\"), Key<F>(offset=80, nElements=1)),\n",
       "    (Field['F'](name=\"ip_diffim_NaiveDipoleCentroid_pos_ySigma\", doc=\"1-sigma uncertainty on y position\", units=\"pixel\"), Key<F>(offset=84, nElements=1)),\n",
       "    (Field['D'](name=\"ip_diffim_NaiveDipoleCentroid_neg_x\", doc=\"unweighted first moment centroid: negative lobe\", units=\"pixel\"), Key<D>(offset=88, nElements=1)),\n",
       "    (Field['D'](name=\"ip_diffim_NaiveDipoleCentroid_neg_y\", doc=\"unweighted first moment centroid: negative lobe\", units=\"pixel\"), Key<D>(offset=96, nElements=1)),\n",
       "    (Field['F'](name=\"ip_diffim_NaiveDipoleCentroid_neg_xSigma\", doc=\"1-sigma uncertainty on x position\", units=\"pixel\"), Key<F>(offset=104, nElements=1)),\n",
       "    (Field['F'](name=\"ip_diffim_NaiveDipoleCentroid_neg_ySigma\", doc=\"1-sigma uncertainty on y position\", units=\"pixel\"), Key<F>(offset=108, nElements=1)),\n",
       "    (Field['D'](name=\"base_CircularApertureFlux_3_0_flux\", doc=\"flux within 3.000000-pixel aperture\", units=\"count\"), Key<D>(offset=112, nElements=1)),\n",
       "    (Field['D'](name=\"base_CircularApertureFlux_3_0_fluxSigma\", doc=\"1-sigma flux uncertainty\", units=\"count\"), Key<D>(offset=120, nElements=1)),\n",
       "    (Field['Flag'](name=\"base_CircularApertureFlux_3_0_flag\", doc=\"General Failure Flag\"), Key['Flag'](offset=32, bit=3)),\n",
       "    (Field['Flag'](name=\"base_CircularApertureFlux_3_0_flag_apertureTruncated\", doc=\"aperture did not fit within measurement image\"), Key['Flag'](offset=32, bit=4)),\n",
       "    (Field['Flag'](name=\"base_CircularApertureFlux_3_0_flag_sincCoeffsTruncated\", doc=\"full sinc coefficient image did not fit within measurement image\"), Key['Flag'](offset=32, bit=5)),\n",
       "    (Field['D'](name=\"base_CircularApertureFlux_4_5_flux\", doc=\"flux within 4.500000-pixel aperture\", units=\"count\"), Key<D>(offset=128, nElements=1)),\n",
       "    (Field['D'](name=\"base_CircularApertureFlux_4_5_fluxSigma\", doc=\"1-sigma flux uncertainty\", units=\"count\"), Key<D>(offset=136, nElements=1)),\n",
       "    (Field['Flag'](name=\"base_CircularApertureFlux_4_5_flag\", doc=\"General Failure Flag\"), Key['Flag'](offset=32, bit=6)),\n",
       "    (Field['Flag'](name=\"base_CircularApertureFlux_4_5_flag_apertureTruncated\", doc=\"aperture did not fit within measurement image\"), Key['Flag'](offset=32, bit=7)),\n",
       "    (Field['Flag'](name=\"base_CircularApertureFlux_4_5_flag_sincCoeffsTruncated\", doc=\"full sinc coefficient image did not fit within measurement image\"), Key['Flag'](offset=32, bit=8)),\n",
       "    (Field['D'](name=\"base_CircularApertureFlux_6_0_flux\", doc=\"flux within 6.000000-pixel aperture\", units=\"count\"), Key<D>(offset=144, nElements=1)),\n",
       "    (Field['D'](name=\"base_CircularApertureFlux_6_0_fluxSigma\", doc=\"1-sigma flux uncertainty\", units=\"count\"), Key<D>(offset=152, nElements=1)),\n",
       "    (Field['Flag'](name=\"base_CircularApertureFlux_6_0_flag\", doc=\"General Failure Flag\"), Key['Flag'](offset=32, bit=9)),\n",
       "    (Field['Flag'](name=\"base_CircularApertureFlux_6_0_flag_apertureTruncated\", doc=\"aperture did not fit within measurement image\"), Key['Flag'](offset=32, bit=10)),\n",
       "    (Field['Flag'](name=\"base_CircularApertureFlux_6_0_flag_sincCoeffsTruncated\", doc=\"full sinc coefficient image did not fit within measurement image\"), Key['Flag'](offset=32, bit=11)),\n",
       "    (Field['D'](name=\"base_CircularApertureFlux_9_0_flux\", doc=\"flux within 9.000000-pixel aperture\", units=\"count\"), Key<D>(offset=160, nElements=1)),\n",
       "    (Field['D'](name=\"base_CircularApertureFlux_9_0_fluxSigma\", doc=\"1-sigma flux uncertainty\", units=\"count\"), Key<D>(offset=168, nElements=1)),\n",
       "    (Field['Flag'](name=\"base_CircularApertureFlux_9_0_flag\", doc=\"General Failure Flag\"), Key['Flag'](offset=32, bit=12)),\n",
       "    (Field['Flag'](name=\"base_CircularApertureFlux_9_0_flag_apertureTruncated\", doc=\"aperture did not fit within measurement image\"), Key['Flag'](offset=32, bit=13)),\n",
       "    (Field['Flag'](name=\"base_CircularApertureFlux_9_0_flag_sincCoeffsTruncated\", doc=\"full sinc coefficient image did not fit within measurement image\"), Key['Flag'](offset=32, bit=14)),\n",
       "    (Field['D'](name=\"base_CircularApertureFlux_12_0_flux\", doc=\"flux within 12.000000-pixel aperture\", units=\"count\"), Key<D>(offset=176, nElements=1)),\n",
       "    (Field['D'](name=\"base_CircularApertureFlux_12_0_fluxSigma\", doc=\"1-sigma flux uncertainty\", units=\"count\"), Key<D>(offset=184, nElements=1)),\n",
       "    (Field['Flag'](name=\"base_CircularApertureFlux_12_0_flag\", doc=\"General Failure Flag\"), Key['Flag'](offset=32, bit=15)),\n",
       "    (Field['Flag'](name=\"base_CircularApertureFlux_12_0_flag_apertureTruncated\", doc=\"aperture did not fit within measurement image\"), Key['Flag'](offset=32, bit=16)),\n",
       "    (Field['D'](name=\"base_CircularApertureFlux_17_0_flux\", doc=\"flux within 17.000000-pixel aperture\", units=\"count\"), Key<D>(offset=192, nElements=1)),\n",
       "    (Field['D'](name=\"base_CircularApertureFlux_17_0_fluxSigma\", doc=\"1-sigma flux uncertainty\", units=\"count\"), Key<D>(offset=200, nElements=1)),\n",
       "    (Field['Flag'](name=\"base_CircularApertureFlux_17_0_flag\", doc=\"General Failure Flag\"), Key['Flag'](offset=32, bit=17)),\n",
       "    (Field['Flag'](name=\"base_CircularApertureFlux_17_0_flag_apertureTruncated\", doc=\"aperture did not fit within measurement image\"), Key['Flag'](offset=32, bit=18)),\n",
       "    (Field['D'](name=\"base_CircularApertureFlux_25_0_flux\", doc=\"flux within 25.000000-pixel aperture\", units=\"count\"), Key<D>(offset=208, nElements=1)),\n",
       "    (Field['D'](name=\"base_CircularApertureFlux_25_0_fluxSigma\", doc=\"1-sigma flux uncertainty\", units=\"count\"), Key<D>(offset=216, nElements=1)),\n",
       "    (Field['Flag'](name=\"base_CircularApertureFlux_25_0_flag\", doc=\"General Failure Flag\"), Key['Flag'](offset=32, bit=19)),\n",
       "    (Field['Flag'](name=\"base_CircularApertureFlux_25_0_flag_apertureTruncated\", doc=\"aperture did not fit within measurement image\"), Key['Flag'](offset=32, bit=20)),\n",
       "    (Field['D'](name=\"base_CircularApertureFlux_35_0_flux\", doc=\"flux within 35.000000-pixel aperture\", units=\"count\"), Key<D>(offset=224, nElements=1)),\n",
       "    (Field['D'](name=\"base_CircularApertureFlux_35_0_fluxSigma\", doc=\"1-sigma flux uncertainty\", units=\"count\"), Key<D>(offset=232, nElements=1)),\n",
       "    (Field['Flag'](name=\"base_CircularApertureFlux_35_0_flag\", doc=\"General Failure Flag\"), Key['Flag'](offset=32, bit=21)),\n",
       "    (Field['Flag'](name=\"base_CircularApertureFlux_35_0_flag_apertureTruncated\", doc=\"aperture did not fit within measurement image\"), Key['Flag'](offset=32, bit=22)),\n",
       "    (Field['D'](name=\"base_CircularApertureFlux_50_0_flux\", doc=\"flux within 50.000000-pixel aperture\", units=\"count\"), Key<D>(offset=240, nElements=1)),\n",
       "    (Field['D'](name=\"base_CircularApertureFlux_50_0_fluxSigma\", doc=\"1-sigma flux uncertainty\", units=\"count\"), Key<D>(offset=248, nElements=1)),\n",
       "    (Field['Flag'](name=\"base_CircularApertureFlux_50_0_flag\", doc=\"General Failure Flag\"), Key['Flag'](offset=32, bit=23)),\n",
       "    (Field['Flag'](name=\"base_CircularApertureFlux_50_0_flag_apertureTruncated\", doc=\"aperture did not fit within measurement image\"), Key['Flag'](offset=32, bit=24)),\n",
       "    (Field['D'](name=\"base_CircularApertureFlux_70_0_flux\", doc=\"flux within 70.000000-pixel aperture\", units=\"count\"), Key<D>(offset=256, nElements=1)),\n",
       "    (Field['D'](name=\"base_CircularApertureFlux_70_0_fluxSigma\", doc=\"1-sigma flux uncertainty\", units=\"count\"), Key<D>(offset=264, nElements=1)),\n",
       "    (Field['Flag'](name=\"base_CircularApertureFlux_70_0_flag\", doc=\"General Failure Flag\"), Key['Flag'](offset=32, bit=25)),\n",
       "    (Field['Flag'](name=\"base_CircularApertureFlux_70_0_flag_apertureTruncated\", doc=\"aperture did not fit within measurement image\"), Key['Flag'](offset=32, bit=26)),\n",
       "    (Field['Flag'](name=\"base_PixelFlags_flag\", doc=\"general failure flag, set if anything went wring\"), Key['Flag'](offset=32, bit=27)),\n",
       "    (Field['Flag'](name=\"base_PixelFlags_flag_offimage\", doc=\"Source center is off image\"), Key['Flag'](offset=32, bit=28)),\n",
       "    (Field['Flag'](name=\"base_PixelFlags_flag_edge\", doc=\"Source is outside usable exposure region (masked EDGE or NO_DATA)\"), Key['Flag'](offset=32, bit=29)),\n",
       "    (Field['Flag'](name=\"base_PixelFlags_flag_interpolated\", doc=\"Interpolated pixel in the Source footprint\"), Key['Flag'](offset=32, bit=30)),\n",
       "    (Field['Flag'](name=\"base_PixelFlags_flag_saturated\", doc=\"Saturated pixel in the Source footprint\"), Key['Flag'](offset=32, bit=31)),\n",
       "    (Field['Flag'](name=\"base_PixelFlags_flag_cr\", doc=\"Cosmic ray in the Source footprint\"), Key['Flag'](offset=32, bit=32)),\n",
       "    (Field['Flag'](name=\"base_PixelFlags_flag_bad\", doc=\"Bad pixel in the Source footprint\"), Key['Flag'](offset=32, bit=33)),\n",
       "    (Field['Flag'](name=\"base_PixelFlags_flag_suspect\", doc=\"Source''s footprint includes suspect pixels\"), Key['Flag'](offset=32, bit=34)),\n",
       "    (Field['Flag'](name=\"base_PixelFlags_flag_interpolatedCenter\", doc=\"Interpolated pixel in the Source center\"), Key['Flag'](offset=32, bit=35)),\n",
       "    (Field['Flag'](name=\"base_PixelFlags_flag_saturatedCenter\", doc=\"Saturated pixel in the Source center\"), Key['Flag'](offset=32, bit=36)),\n",
       "    (Field['Flag'](name=\"base_PixelFlags_flag_crCenter\", doc=\"Cosmic ray in the Source center\"), Key['Flag'](offset=32, bit=37)),\n",
       "    (Field['Flag'](name=\"base_PixelFlags_flag_suspectCenter\", doc=\"Source''s center is close to suspect pixels\"), Key['Flag'](offset=32, bit=38)),\n",
       "    (Field['D'](name=\"base_PsfFlux_flux\", doc=\"flux derived from linear least-squares fit of PSF model\", units=\"count\"), Key<D>(offset=272, nElements=1)),\n",
       "    (Field['D'](name=\"base_PsfFlux_fluxSigma\", doc=\"1-sigma flux uncertainty\", units=\"count\"), Key<D>(offset=280, nElements=1)),\n",
       "    (Field['Flag'](name=\"base_PsfFlux_flag\", doc=\"General Failure Flag\"), Key['Flag'](offset=32, bit=39)),\n",
       "    (Field['Flag'](name=\"base_PsfFlux_flag_noGoodPixels\", doc=\"not enough non-rejected pixels in data to attempt the fit\"), Key['Flag'](offset=32, bit=40)),\n",
       "    (Field['Flag'](name=\"base_PsfFlux_flag_edge\", doc=\"object was too close to the edge of the image to use the full PSF model\"), Key['Flag'](offset=32, bit=41)),\n",
       "    (Field['Flag'](name=\"ip_diffim_NaiveDipoleFlux_flag\", doc=\"general failure flag, set if anything went wrong\"), Key['Flag'](offset=32, bit=42)),\n",
       "    (Field['Flag'](name=\"ip_diffim_NaiveDipoleFlux_pos_flag\", doc=\"failure flag for positive, set if anything went wrong\"), Key['Flag'](offset=32, bit=43)),\n",
       "    (Field['Flag'](name=\"ip_diffim_NaiveDipoleFlux_neg_flag\", doc=\"failure flag for negative, set if anything went wrong\"), Key['Flag'](offset=32, bit=44)),\n",
       "    (Field['D'](name=\"ip_diffim_NaiveDipoleFlux_pos_flux\", doc=\"raw flux counts: positive lobe\", units=\"count\"), Key<D>(offset=288, nElements=1)),\n",
       "    (Field['D'](name=\"ip_diffim_NaiveDipoleFlux_pos_fluxSigma\", doc=\"1-sigma flux uncertainty\", units=\"count\"), Key<D>(offset=296, nElements=1)),\n",
       "    (Field['D'](name=\"ip_diffim_NaiveDipoleFlux_neg_flux\", doc=\"raw flux counts: negative lobe\", units=\"count\"), Key<D>(offset=304, nElements=1)),\n",
       "    (Field['D'](name=\"ip_diffim_NaiveDipoleFlux_neg_fluxSigma\", doc=\"1-sigma flux uncertainty\", units=\"count\"), Key<D>(offset=312, nElements=1)),\n",
       "    (Field['I'](name=\"ip_diffim_NaiveDipoleFlux_npos\", doc=\"number of positive pixels\", units=\"count\"), Key<I>(offset=320, nElements=1)),\n",
       "    (Field['I'](name=\"ip_diffim_NaiveDipoleFlux_nneg\", doc=\"number of negative pixels\", units=\"count\"), Key<I>(offset=324, nElements=1)),\n",
       "    (Field['Flag'](name=\"ip_diffim_PsfDipoleFlux_flag\", doc=\"general failure flag, set if anything went wrong\"), Key['Flag'](offset=32, bit=45)),\n",
       "    (Field['Flag'](name=\"ip_diffim_PsfDipoleFlux_pos_flag\", doc=\"failure flag for positive, set if anything went wrong\"), Key['Flag'](offset=32, bit=46)),\n",
       "    (Field['Flag'](name=\"ip_diffim_PsfDipoleFlux_neg_flag\", doc=\"failure flag for negative, set if anything went wrong\"), Key['Flag'](offset=32, bit=47)),\n",
       "    (Field['D'](name=\"ip_diffim_PsfDipoleFlux_pos_flux\", doc=\"jointly fitted psf flux counts: positive lobe\", units=\"count\"), Key<D>(offset=328, nElements=1)),\n",
       "    (Field['D'](name=\"ip_diffim_PsfDipoleFlux_pos_fluxSigma\", doc=\"1-sigma flux uncertainty\", units=\"count\"), Key<D>(offset=336, nElements=1)),\n",
       "    (Field['D'](name=\"ip_diffim_PsfDipoleFlux_neg_flux\", doc=\"jointly fitted psf flux counts: negative lobe\", units=\"count\"), Key<D>(offset=344, nElements=1)),\n",
       "    (Field['D'](name=\"ip_diffim_PsfDipoleFlux_neg_fluxSigma\", doc=\"1-sigma flux uncertainty\", units=\"count\"), Key<D>(offset=352, nElements=1)),\n",
       "    (Field['F'](name=\"ip_diffim_PsfDipoleFlux_chi2dof\", doc=\"chi2 per degree of freedom of fit\"), Key<F>(offset=360, nElements=1)),\n",
       "    (Field['D'](name=\"ip_diffim_PsfDipoleFlux_pos_centroid_x\", doc=\"psf fitted center of positive lobe\", units=\"pixel\"), Key<D>(offset=368, nElements=1)),\n",
       "    (Field['D'](name=\"ip_diffim_PsfDipoleFlux_pos_centroid_y\", doc=\"psf fitted center of positive lobe\", units=\"pixel\"), Key<D>(offset=376, nElements=1)),\n",
       "    (Field['F'](name=\"ip_diffim_PsfDipoleFlux_pos_centroid_xSigma\", doc=\"1-sigma uncertainty on x position\", units=\"pixel\"), Key<F>(offset=384, nElements=1)),\n",
       "    (Field['F'](name=\"ip_diffim_PsfDipoleFlux_pos_centroid_ySigma\", doc=\"1-sigma uncertainty on y position\", units=\"pixel\"), Key<F>(offset=388, nElements=1)),\n",
       "    (Field['D'](name=\"ip_diffim_PsfDipoleFlux_neg_centroid_x\", doc=\"psf fitted center of negative lobe\", units=\"pixel\"), Key<D>(offset=392, nElements=1)),\n",
       "    (Field['D'](name=\"ip_diffim_PsfDipoleFlux_neg_centroid_y\", doc=\"psf fitted center of negative lobe\", units=\"pixel\"), Key<D>(offset=400, nElements=1)),\n",
       "    (Field['F'](name=\"ip_diffim_PsfDipoleFlux_neg_centroid_xSigma\", doc=\"1-sigma uncertainty on x position\", units=\"pixel\"), Key<F>(offset=408, nElements=1)),\n",
       "    (Field['F'](name=\"ip_diffim_PsfDipoleFlux_neg_centroid_ySigma\", doc=\"1-sigma uncertainty on y position\", units=\"pixel\"), Key<F>(offset=412, nElements=1)),\n",
       "    (Field['D'](name=\"ip_diffim_PsfDipoleFlux_centroid_x\", doc=\"average of negative and positive lobe positions\", units=\"pixel\"), Key<D>(offset=416, nElements=1)),\n",
       "    (Field['D'](name=\"ip_diffim_PsfDipoleFlux_centroid_y\", doc=\"average of negative and positive lobe positions\", units=\"pixel\"), Key<D>(offset=424, nElements=1)),\n",
       "    (Field['F'](name=\"ip_diffim_PsfDipoleFlux_centroid_xSigma\", doc=\"1-sigma uncertainty on x position\", units=\"pixel\"), Key<F>(offset=432, nElements=1)),\n",
       "    (Field['F'](name=\"ip_diffim_PsfDipoleFlux_centroid_ySigma\", doc=\"1-sigma uncertainty on y position\", units=\"pixel\"), Key<F>(offset=436, nElements=1)),\n",
       "    (Field['D'](name=\"ip_diffim_ClassificationDipole_value\", doc=\"Set to 1 for dipoles, else 0.\"), Key<D>(offset=440, nElements=1)),\n",
       "    (Field['Flag'](name=\"ip_diffim_ClassificationDipole_flag\", doc=\"Set to 1 for any fatal failure.\"), Key['Flag'](offset=32, bit=48)),\n",
       "    (Field['L'](name=\"object\", doc=\"Unique ID for joined sources\"), Key<L>(offset=448, nElements=1)),\n",
       "    (Field['D'](name=\"mjd\", doc=\"'%s' data ID component\"), Key<D>(offset=456, nElements=1)),\n",
       "    (Field['D'](name=\"filter\", doc=\"'%s' data ID component\"), Key<D>(offset=464, nElements=1)),\n",
       ")"
      ]
     },
     "execution_count": 103,
     "metadata": {},
     "output_type": "execute_result"
    }
   ],
   "source": [
    "   print dot.get(\"base_CircularApertureFlux_3_0_flux\")==dot2.get(\"base_CircularApertureFlux_3_0_flux\")"
   ]
  },
  {
   "cell_type": "code",
   "execution_count": 62,
   "metadata": {},
   "outputs": [
    {
     "data": {
      "text/plain": [
       "(12, 11)"
      ]
     },
     "execution_count": 62,
     "metadata": {},
     "output_type": "execute_result"
    }
   ],
   "source": [
    "len(amb[5][0]), len(amb[5][1])"
   ]
  },
  {
   "cell_type": "code",
   "execution_count": 49,
   "metadata": {},
   "outputs": [],
   "source": [
    "sr = amb[0][0][0]\n",
    "sr2 = amb[0][1][0]"
   ]
  },
  {
   "cell_type": "code",
   "execution_count": 51,
   "metadata": {},
   "outputs": [
    {
     "data": {
      "text/plain": [
       "(0.0, 0.0)"
      ]
     },
     "execution_count": 51,
     "metadata": {},
     "output_type": "execute_result"
    }
   ],
   "source": [
    "sr[\"filter\"],sr2[\"filter\"]"
   ]
  },
  {
   "cell_type": "code",
   "execution_count": 67,
   "metadata": {},
   "outputs": [
    {
     "name": "stdout",
     "output_type": "stream",
     "text": [
      "3.7488 rad 0.919147 rad\n",
      "3.74881 rad 0.919148 rad\n",
      "3.7488 rad 0.919148 rad\n",
      "3.7488 rad 0.919147 rad\n",
      "3.7488 rad 0.919149 rad\n",
      "3.7488 rad 0.919147 rad\n",
      "3.7488 rad 0.919147 rad\n",
      "3.7488 rad 0.919147 rad\n",
      "3.7488 rad 0.919147 rad\n",
      "3.7488 rad 0.919146 rad\n",
      "3.7488 rad 0.919148 rad\n",
      "3.7488 rad 0.919147 rad\n"
     ]
    }
   ],
   "source": [
    "for sr_pair in amb[5][0]:\n",
    "    print sr_pair[\"coord_ra\"],sr_pair[\"coord_dec\"]"
   ]
  },
  {
   "cell_type": "code",
   "execution_count": 68,
   "metadata": {},
   "outputs": [
    {
     "name": "stdout",
     "output_type": "stream",
     "text": [
      "3.7488 rad 0.919148 rad\n",
      "3.7488 rad 0.919147 rad\n",
      "3.7488 rad 0.919149 rad\n",
      "3.7488 rad 0.919147 rad\n",
      "3.7488 rad 0.919147 rad\n",
      "3.74881 rad 0.919148 rad\n",
      "3.7488 rad 0.919147 rad\n",
      "3.7488 rad 0.919147 rad\n",
      "3.7488 rad 0.919146 rad\n",
      "3.7488 rad 0.919148 rad\n",
      "3.7488 rad 0.919147 rad\n"
     ]
    }
   ],
   "source": [
    "for sr_pair in amb[5][1]:\n",
    "    print sr_pair[\"coord_ra\"],sr_pair[\"coord_dec\"]"
   ]
  },
  {
   "cell_type": "code",
   "execution_count": 241,
   "metadata": {},
   "outputs": [
    {
     "data": {
      "text/plain": [
       "1095"
      ]
     },
     "execution_count": 241,
     "metadata": {},
     "output_type": "execute_result"
    }
   ],
   "source": [
    "import glob\n",
    "lienObj = glob.glob(\"/datadec/cppm/jpreyes/CFHT_Tests/light_curves_noDup/15,15*.dat\")\n",
    "lcs = []\n",
    "for oj in lienObj:\n",
    "    table = ascii.read(oj)\n",
    "    lcs.append(table)\n",
    "    \n",
    "len(lcs)"
   ]
  },
  {
   "cell_type": "code",
   "execution_count": 238,
   "metadata": {
    "collapsed": true
   },
   "outputs": [],
   "source": [
    "s_candidates= []\n",
    "for lc in lcs:\n",
    "    t_by_filter = lc.group_by(\"bandpass\")\n",
    "\n",
    "    indices = t_by_filter.groups.indices\n",
    "    if len(indices)>=2:\n",
    "        s_candidates.append(lc)"
   ]
  },
  {
   "cell_type": "code",
   "execution_count": 239,
   "metadata": {},
   "outputs": [
    {
     "name": "stderr",
     "output_type": "stream",
     "text": [
      "WARNING: AstropyDeprecationWarning: The data function is deprecated and may be removed in a future version.\n",
      "        Use :attr:`Row.as_void` instead. [astropy.utils.decorators]\n"
     ]
    }
   ],
   "source": [
    "nodup_lcs = remove_duplicates(s_candidates)\n",
    "stack_lcs_final = []\n",
    "\n",
    "\n",
    "\n",
    "for lcs_arr  in nodup_lcs:\n",
    "    if len(lcs_arr)>1:\n",
    "            stack_lcs_final.append(join_lc(lcs_arr))\n",
    "    else:\n",
    "            stack_lcs_final.append(lcs_arr[0])\n"
   ]
  },
  {
   "cell_type": "code",
   "execution_count": 240,
   "metadata": {},
   "outputs": [
    {
     "data": {
      "text/plain": [
       "1094"
      ]
     },
     "execution_count": 240,
     "metadata": {},
     "output_type": "execute_result"
    }
   ],
   "source": [
    "len(stack_lcs_final)"
   ]
  },
  {
   "cell_type": "code",
   "execution_count": null,
   "metadata": {
    "collapsed": true
   },
   "outputs": [],
   "source": []
  }
 ],
 "metadata": {
  "kernelspec": {
   "display_name": "Python 2",
   "language": "python",
   "name": "python2"
  },
  "language_info": {
   "codemirror_mode": {
    "name": "ipython",
    "version": 2
   },
   "file_extension": ".py",
   "mimetype": "text/x-python",
   "name": "python",
   "nbconvert_exporter": "python",
   "pygments_lexer": "ipython2",
   "version": "2.7.12"
  }
 },
 "nbformat": 4,
 "nbformat_minor": 2
}
