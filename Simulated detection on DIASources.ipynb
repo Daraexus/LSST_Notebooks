{
 "cells": [
  {
   "cell_type": "code",
   "execution_count": null,
   "metadata": {
    "collapsed": false,
    "deletable": true,
    "editable": true
   },
   "outputs": [],
   "source": [
    "import lsst.daf.persistence as dafPersist\n",
    "import matplotlib.pyplot as plt\n",
    "import numpy as np\n",
    "\n",
    "import lsst.afw.table as afwTable\n",
    "import lsst.afw.geom as afwGeom\n",
    "import Utils.DiaSourceTools as DSTools"
   ]
  },
  {
   "cell_type": "code",
   "execution_count": 144,
   "metadata": {
    "collapsed": true,
    "deletable": true,
    "editable": true
   },
   "outputs": [],
   "source": [
    "DATADIR=\"/renoir_data_02/jpreyes/lsst_data/CFHTLS_sim/\""
   ]
  },
  {
   "cell_type": "code",
   "execution_count": 145,
   "metadata": {
    "collapsed": false,
    "deletable": true,
    "editable": true
   },
   "outputs": [],
   "source": [
    "ccd = 14\n",
    "parameters_order = range(0,9)\n",
    "directory = DATADIR+\"/deepDiffSims/\"\n",
    "butler = dafPersist.Butler(directory) \n",
    "visit = 850586\n",
    "\n",
    "diaSrc = butler.get(\"deepDiff_diaSrc\", {\"ccd\":ccd,\"filter\":'r', \"visit\":visit})\n",
    "calexp = butler. get(\"calexp\", {\"ccd\":ccd,\"filter\":'r', \"visit\":visit})\n",
    "class_diaSrc = butler.get(\"deepDiff_class_diaSrc\", {\"ccd\":ccd,\"filter\":'r', \"visit\":visit})\n",
    "diffexp = butler.get(\"deepDiff_differenceExp\", {\"ccd\":ccd,\"filter\":'r', \"visit\":visit})"
   ]
  },
  {
   "cell_type": "code",
   "execution_count": 146,
   "metadata": {
    "collapsed": true,
    "deletable": true,
    "editable": true
   },
   "outputs": [],
   "source": [
    "for source in diaSrc:\n",
    "    coord_ra, coord_dec = source[\"coord_ra\"], source[\"coord_dec\"]"
   ]
  },
  {
   "cell_type": "code",
   "execution_count": 147,
   "metadata": {
    "collapsed": false,
    "deletable": true,
    "editable": true
   },
   "outputs": [
    {
     "data": {
      "text/plain": [
       "(5380, 1041)"
      ]
     },
     "execution_count": 147,
     "metadata": {},
     "output_type": "execute_result"
    }
   ],
   "source": [
    "len(diaSrc), len(class_diaSrc)"
   ]
  },
  {
   "cell_type": "code",
   "execution_count": 140,
   "metadata": {
    "collapsed": false,
    "deletable": true,
    "editable": true
   },
   "outputs": [],
   "source": [
    "import pickle\n",
    "\n",
    "out = open(\"/renoir_data_02/jpreyes/lsst_data/calexp_coords.pickle\", \"rb\")\n",
    "coords = pickle.load(out)"
   ]
  },
  {
   "cell_type": "code",
   "execution_count": 141,
   "metadata": {
    "collapsed": false,
    "deletable": true,
    "editable": true
   },
   "outputs": [
    {
     "name": "stdout",
     "output_type": "stream",
     "text": [
      "764\n"
     ]
    }
   ],
   "source": [
    "wcs = calexp.getWcs()\n",
    "detected_1 = []\n",
    "count = 0\n",
    "for source in diaSrc:\n",
    "    for x, y in coords:\n",
    "        radec = wcs.pixelToSky(x,y)\n",
    "        s1 = {\"ra\": source[\"coord_ra\"], \"dec\": source[\"coord_dec\"]}\n",
    "        s2 = {\"ra\": radec.getLongitude(), \"dec\": radec.getLatitude()}\n",
    "        if DSTools.source_distance(s1, s2) < 1.0:\n",
    "            count+=1\n",
    "            detected_1.append( wcs.skyToPixel(source[\"coord_ra\"], source[\"coord_dec\"]) )\n",
    "            break\n",
    "            \n",
    "            \n",
    "print count\n",
    "    \n",
    "\n"
   ]
  },
  {
   "cell_type": "code",
   "execution_count": 148,
   "metadata": {
    "collapsed": false,
    "deletable": true,
    "editable": true
   },
   "outputs": [
    {
     "name": "stdout",
     "output_type": "stream",
     "text": [
      "978\n"
     ]
    }
   ],
   "source": [
    "count = 0\n",
    "detected_2=[]\n",
    "for source in class_diaSrc:\n",
    "    for x, y in coords:\n",
    "        radec = wcs.pixelToSky(x,y)\n",
    "        s1 = {\"ra\": source[\"coord_ra\"], \"dec\": source[\"coord_dec\"]}\n",
    "        s2 = {\"ra\": radec.getLongitude(), \"dec\": radec.getLatitude()}\n",
    "        if DSTools.source_distance(s1, s2) < 1.0:\n",
    "            count+=1\n",
    "            detected_2.append( wcs.skyToPixel(source[\"coord_ra\"], source[\"coord_dec\"]) )\n",
    "            break\n",
    "            \n",
    "print count\n",
    "    "
   ]
  },
  {
   "cell_type": "code",
   "execution_count": 106,
   "metadata": {
    "collapsed": false,
    "deletable": true,
    "editable": true
   },
   "outputs": [],
   "source": [
    "import lsst.afw.display.ds9 as ds9\n",
    "ds9.mtv(calexp.getMaskedImage().getImage())"
   ]
  },
  {
   "cell_type": "code",
   "execution_count": 107,
   "metadata": {
    "collapsed": false,
    "deletable": true,
    "editable": true
   },
   "outputs": [],
   "source": [
    "import lsst.afw.display.ds9 as ds9\n",
    "f=2\n",
    "ds9.mtv(diffexp, frame=f)"
   ]
  },
  {
   "cell_type": "code",
   "execution_count": 108,
   "metadata": {
    "collapsed": false,
    "deletable": true,
    "editable": true
   },
   "outputs": [],
   "source": [
    "\n",
    "for x, y in coords:\n",
    "    ds9.dot(\"o\", x, y, ctype=ds9.GREEN, frame=f)\n"
   ]
  },
  {
   "cell_type": "code",
   "execution_count": 109,
   "metadata": {
    "collapsed": true,
    "deletable": true,
    "editable": true
   },
   "outputs": [],
   "source": [
    "for x,y in detected_1:\n",
    "    ds9.dot(\"x\", x, y, ctype=ds9.RED, frame=f)"
   ]
  },
  {
   "cell_type": "code",
   "execution_count": 110,
   "metadata": {
    "collapsed": true,
    "deletable": true,
    "editable": true
   },
   "outputs": [],
   "source": [
    "for x,y in detected_2:\n",
    "    ds9.dot(\"0\", x, y, ctype=ds9.BLUE, frame=f)"
   ]
  },
  {
   "cell_type": "code",
   "execution_count": 111,
   "metadata": {
    "collapsed": false,
    "deletable": true,
    "editable": true
   },
   "outputs": [],
   "source": [
    "for source in diaSrc:\n",
    "     x,y = wcs.skyToPixel(source[\"coord_ra\"],source[\"coord_dec\"])\n",
    "     ds9.dot(\"x\", x, y, ctype=ds9.RED, frame=f)  "
   ]
  },
  {
   "cell_type": "code",
   "execution_count": 112,
   "metadata": {
    "collapsed": false,
    "deletable": true,
    "editable": true
   },
   "outputs": [],
   "source": [
    "for source in class_diaSrc:\n",
    "     x,y = wcs.skyToPixel(source[\"coord_ra\"],source[\"coord_dec\"])\n",
    "     ds9.dot(\"1\", x, y, ctype=ds9.MAGENTA, frame=f)"
   ]
  },
  {
   "cell_type": "code",
   "execution_count": 78,
   "metadata": {
    "collapsed": false,
    "deletable": true,
    "editable": true
   },
   "outputs": [
    {
     "data": {
      "text/plain": [
       "1066"
      ]
     },
     "execution_count": 78,
     "metadata": {},
     "output_type": "execute_result"
    }
   ],
   "source": [
    "len(class_diaSrc)"
   ]
  },
  {
   "cell_type": "code",
   "execution_count": null,
   "metadata": {
    "collapsed": true,
    "deletable": true,
    "editable": true
   },
   "outputs": [],
   "source": []
  }
 ],
 "metadata": {
  "kernelspec": {
   "display_name": "Python 2",
   "language": "python",
   "name": "python2"
  },
  "language_info": {
   "codemirror_mode": {
    "name": "ipython",
    "version": 2
   },
   "file_extension": ".py",
   "mimetype": "text/x-python",
   "name": "python",
   "nbconvert_exporter": "python",
   "pygments_lexer": "ipython2",
   "version": "2.7.12"
  }
 },
 "nbformat": 4,
 "nbformat_minor": 0
}
