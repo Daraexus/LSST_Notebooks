{
 "cells": [
  {
   "cell_type": "code",
   "execution_count": 23,
   "metadata": {
    "collapsed": true
   },
   "outputs": [],
   "source": [
    "import matplotlib.pyplot as plt"
   ]
  },
  {
   "cell_type": "code",
   "execution_count": 39,
   "metadata": {},
   "outputs": [
    {
     "name": "stdout",
     "output_type": "stream",
     "text": [
      "skynoise zpsys band gain    time    zp \n",
      "-------- ----- ---- ---- --------- ----\n",
      "  191.27    ab desr  1.0  56176.19 30.0\n",
      "  147.62    ab desr  1.0 56188.254 30.0\n",
      "   160.4    ab desr  1.0 56207.172 30.0\n",
      "  147.62    ab desr  1.0   56225.0 30.0\n",
      "   160.4    ab desr  1.0   56400.0 30.0\n"
     ]
    }
   ],
   "source": [
    "import sncosmo\n",
    "from astropy.table import Table\n",
    "obs = Table({'time': [56176.19, 56188.254, 56207.172, 56225, 56400],\n",
    "             'band': ['desr', 'desr', 'desr', 'desr', 'desr'],\n",
    "             'gain': [1., 1., 1., 1., 1.],\n",
    "             'skynoise': [191.27, 147.62, 160.40, 147.62, 160.40],\n",
    "             'zp': [30., 30., 30., 30., 30.],\n",
    "             'zpsys':['ab', 'ab', 'ab', 'ab', 'ab']})\n",
    "print obs"
   ]
  },
  {
   "cell_type": "code",
   "execution_count": 40,
   "metadata": {
    "collapsed": true
   },
   "outputs": [],
   "source": [
    "model = sncosmo.Model(source='salt2')\n",
    "params = {'z': 0.4, 't0': 56250.0, 'x0':1.e-5, 'x1': 0.1, 'c': -0.1}"
   ]
  },
  {
   "cell_type": "code",
   "execution_count": 41,
   "metadata": {},
   "outputs": [
    {
     "name": "stdout",
     "output_type": "stream",
     "text": [
      "   time   band      flux         fluxerr     zp  zpsys\n",
      "--------- ---- -------------- ------------- ---- -----\n",
      " 56176.19 desr  404.426068628        191.27 30.0    ab\n",
      "56188.254 desr -75.5036924836        147.62 30.0    ab\n",
      "56207.172 desr  167.839235621         160.4 30.0    ab\n",
      "  56225.0 desr -220.118981791 147.639220905 30.0    ab\n",
      "  56400.0 desr  185.797125564         160.4 30.0    ab\n"
     ]
    }
   ],
   "source": [
    "lcs = sncosmo.realize_lcs(obs, model, [params])\n",
    "print lcs[0]"
   ]
  },
  {
   "cell_type": "code",
   "execution_count": 42,
   "metadata": {},
   "outputs": [
    {
     "data": {
      "image/png": "[encoded data removed]",
      "text/plain": [
       "<matplotlib.figure.Figure at 0x7f44ba00b410>"
      ]
     },
     "metadata": {},
     "output_type": "display_data"
    }
   ],
   "source": [
    "plt.plot(obs[\"time\"],lcs[0][\"flux\"], 'ro')\n",
    "plt.show()"
   ]
  },
  {
   "cell_type": "code",
   "execution_count": null,
   "metadata": {
    "collapsed": true
   },
   "outputs": [],
   "source": []
  }
 ],
 "metadata": {
  "kernelspec": {
   "display_name": "Python 2",
   "language": "python",
   "name": "python2"
  },
  "language_info": {
   "codemirror_mode": {
    "name": "ipython",
    "version": 2
   },
   "file_extension": ".py",
   "mimetype": "text/x-python",
   "name": "python",
   "nbconvert_exporter": "python",
   "pygments_lexer": "ipython2",
   "version": "2.7.12"
  }
 },
 "nbformat": 4,
 "nbformat_minor": 2
}
