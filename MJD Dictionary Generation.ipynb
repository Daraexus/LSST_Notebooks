{
 "cells": [
  {
   "cell_type": "code",
   "execution_count": 1,
   "metadata": {
    "collapsed": false
   },
   "outputs": [
    {
     "name": "stderr",
     "output_type": "stream",
     "text": [
      "/renoir_data_00/fouchez/lsst/DM/stacks/lsstsw/2016-04-04/lsstsw/miniconda/lib/python2.7/site-packages/matplotlib/font_manager.py:273: UserWarning: Matplotlib is building the font cache using fc-list. This may take a moment.\n",
      "  warnings.warn('Matplotlib is building the font cache using fc-list. This may take a moment.')\n"
     ]
    }
   ],
   "source": [
    "import pickle\n",
    "import sncosmo\n",
    "import numpy as np\n",
    "import lsst.daf.base as dafBase\n",
    "import lsst.daf.persistence as dafPersist\n",
    "from ipyparallel.serialize import canning\n",
    "import re\n",
    "\n",
    "import lsst.afw.display.ds9 as ds9\n",
    "\n",
    "import matplotlib.pyplot as plt\n",
    "\n",
    "from lsst.ip.diffim import ImagePsfMatchTask, DipoleMeasurementTask\n",
    "from lsst.meas.base import SingleFrameMeasurementConfig\n",
    "import lsst.afw.table as afwTable\n",
    "\n",
    "import lsst.daf.base as dafBase\n",
    "import DiaSourceTools as DSTools\n",
    "\n",
    "import lsst.meas.algorithms.detection as sDet\n",
    "import lsst.afw.image as afwImage\n",
    "\n",
    "from lsst.meas.algorithms.detection import SourceDetectionTask\n",
    "\n",
    "import skimage\n",
    "from skimage import measure\n",
    "from skimage import data\n",
    "from skimage import filters\n",
    "from scipy import ndimage\n",
    "from skimage.measure import regionprops\n",
    "from skimage.measure import moments\n",
    "from skimage.measure import moments_central\n",
    "\n",
    "\n",
    "import lsst.afw.geom as afwGeom\n",
    "import random\n",
    "%matplotlib inline"
   ]
  },
  {
   "cell_type": "code",
   "execution_count": null,
   "metadata": {
    "collapsed": false
   },
   "outputs": [],
   "source": [
    "DATADIR=\"/renoir_data_02/jpreyes/lsst_data/CFHTLS_master/\"\n",
    "butler = dafPersist.Butler(DATADIR+\"/output\")\n",
    "filter = 'r'\n",
    "mjds = {}\n",
    "ccds = butler.queryMetadata(\"deepDiff_differenceExp\", format=['visit','ccd', 'filter'])\n",
    "        #ccds = [14]\n",
    "for visit, ccd, filter in ccds:\n",
    "\n",
    "    if butler.datasetExists(\"deepDiff_differenceExp\", {'visit': visit , 'filter':filter , 'ccd':ccd}):\n",
    "          diffExp = butler.get(\"deepDiff_differenceExp\", {'visit': visit , 'filter':filter , 'ccd':ccd})\n",
    "          mjds[str(visit)] = diffExp.getMetadata().get(\"MJD-OBS\")\n",
    "        "
   ]
  },
  {
   "cell_type": "code",
   "execution_count": 3,
   "metadata": {
    "collapsed": false
   },
   "outputs": [],
   "source": [
    "output = open('mjd_dict.pickle', 'wb')\n",
    "\n",
    "# Pickle dictionary using protocol 0.\n",
    "pickle.dump(mjds, output)\n",
    "output.close()"
   ]
  },
  {
   "cell_type": "code",
   "execution_count": null,
   "metadata": {
    "collapsed": true
   },
   "outputs": [],
   "source": []
  },
  {
   "cell_type": "code",
   "execution_count": 6,
   "metadata": {
    "collapsed": false
   },
   "outputs": [
    {
     "name": "stdout",
     "output_type": "stream",
     "text": [
      "[]\n"
     ]
    }
   ],
   "source": [
    "DATADIR=\"/renoir_data_02/jpreyes/lsst_data/CFHTLS_master/\"\n",
    "butler = dafPersist.Butler(DATADIR+\"/output\")\n",
    "q= butler.queryMetadata(\"deepDiff_differenceExp\", format=['visit','ccd', 'filter'],dataId={'filter':'r', 'visit':836499})\n",
    "\n",
    "print q"
   ]
  },
  {
   "cell_type": "code",
   "execution_count": 6,
   "metadata": {
    "collapsed": false
   },
   "outputs": [
    {
     "data": {
      "text/plain": [
       "True"
      ]
     },
     "execution_count": 6,
     "metadata": {},
     "output_type": "execute_result"
    }
   ],
   "source": [
    "butler.datasetExists(\"calexp\", {'visit': 836499 , 'filter':'i' , 'ccd':1})"
   ]
  },
  {
   "cell_type": "code",
   "execution_count": 8,
   "metadata": {
    "collapsed": false
   },
   "outputs": [
    {
     "name": "stdout",
     "output_type": "stream",
     "text": [
      "{'852892': 53906.3461059, '852893': 53906.3501902, '852890': 53906.3379664, '852891': 53906.3420367, '839312': 53799.4643427, '839310': 53799.4561562, '839311': 53799.4602578, '853235': 53911.2887146, '853234': 53911.2846731, '853541': 53916.3417762, '853236': 53911.292767, '853233': 53911.2806236, '853232': 53911.276526, '853730': 53919.3128153, '853731': 53919.3168874, '858540': 53935.346177, '858541': 53935.3502457, '852894': 53906.354357, '853543': 53916.3499326, '859609': 53939.2802799, '853542': 53916.3458639, '860150': 53943.3269298, '853540': 53916.3376885, '839309': 53799.4520841, '839308': 53799.4480172, '853729': 53919.3087478, '853539': 53916.3329411, '853727': 53919.3005278, '860149': 53943.3228686, '860148': 53943.3188139, '860147': 53943.3146845, '860146': 53943.3106222, '838868': 53791.6596962, '838867': 53791.655605, '838866': 53791.6515456, '838865': 53791.6474382, '838864': 53791.6433933, '853728': 53919.3046751, '859608': 53939.2761933, '844489': 53851.3438333, '844846': 53855.3896262, '844847': 53855.3937145, '844845': 53855.3855367, '844848': 53855.3978092, '844849': 53855.4018923, '837004': 53772.6429941, '837005': 53772.6471177, '837006': 53772.6564273, '837007': 53772.6605, '837002': 53772.6347399, '837003': 53772.6388548, '837008': 53772.6645536, '851060': 53892.3587605, '851061': 53892.3628616, '844498': 53851.3808619, '844491': 53851.3520255, '844490': 53851.3479395, '844493': 53851.3602125, '844492': 53851.3561207, '844495': 53851.368594, '844494': 53851.3644976, '844497': 53851.3767683, '844496': 53851.3726893, '859612': 53939.2925732, '850177': 53883.3589522, '858537': 53935.3338646, '850179': 53883.3670842, '850178': 53883.3630196, '836498': 53769.5673572, '836493': 53769.5469625, '836494': 53769.5511046, '836495': 53769.5551634, '836496': 53769.5592263, '836497': 53769.5632909, '844230': 53848.5119031, '850588': 53888.3842784, '850589': 53888.3883598, '850586': 53888.3757951, '850587': 53888.3801878, '851059': 53892.3546618, '851058': 53892.3505202, '851057': 53892.3464053, '850180': 53883.3712125, '850181': 53883.3752765, '849687': 53879.2861765, '849686': 53879.2821085, '849685': 53879.2780288, '849689': 53879.2943149, '849688': 53879.2902515, '838853': 53791.5808564, '838857': 53791.5973271, '838854': 53791.5850031, '838855': 53791.5891273, '859611': 53939.2885051, '844518': 53851.4788906, '859610': 53939.2844341, '844514': 53851.4625171, '844515': 53851.4666002, '844516': 53851.4706885, '844517': 53851.4747976, '850590': 53888.3924215, '844213': 53848.4279703, '844212': 53848.4239091, '844211': 53848.4198231, '844210': 53848.4157331, '844214': 53848.4320372, '858539': 53935.3420771, '858538': 53935.3380073, '849377': 53875.511416, '849376': 53875.5073607, '849375': 53875.5033071, '849374': 53875.4992327, '849373': 53875.4951733}\n",
      "The history saving thread hit an unexpected error (OperationalError('database is locked',)).History will not be written to the database.\n"
     ]
    }
   ],
   "source": [
    "print mjds"
   ]
  },
  {
   "cell_type": "code",
   "execution_count": null,
   "metadata": {
    "collapsed": true
   },
   "outputs": [],
   "source": []
  }
 ],
 "metadata": {
  "kernelspec": {
   "display_name": "Python 2",
   "language": "python",
   "name": "python2"
  },
  "language_info": {
   "codemirror_mode": {
    "name": "ipython",
    "version": 2
   },
   "file_extension": ".py",
   "mimetype": "text/x-python",
   "name": "python",
   "nbconvert_exporter": "python",
   "pygments_lexer": "ipython2",
   "version": "2.7.12"
  }
 },
 "nbformat": 4,
 "nbformat_minor": 0
}
