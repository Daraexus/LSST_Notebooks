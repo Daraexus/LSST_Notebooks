{
 "metadata": {
  "name": ""
 },
 "nbformat": 3,
 "nbformat_minor": 0,
 "worksheets": [
  {
   "cells": [
    {
     "cell_type": "markdown",
     "metadata": {},
     "source": [
      "First test of image subtraction\n",
      "============================"
     ]
    },
    {
     "cell_type": "markdown",
     "metadata": {},
     "source": [
      "Start with  source loadlsst, the setup command we need (here obs_cfht), then run ipython notebook\n",
      "\n",
      "Next lines correspond to import for this notebook "
     ]
    },
    {
     "cell_type": "code",
     "collapsed": false,
     "input": [
      "import lsst.afw.image as afwImage\n",
      "import lsst.meas.algorithms as measAlg\n",
      "import lsst.ip.diffim as ipDiffim\n",
      "import lsst.ip.diffim.diffimTools as diffimTools"
     ],
     "language": "python",
     "metadata": {},
     "outputs": [],
     "prompt_number": 1
    },
    {
     "cell_type": "markdown",
     "metadata": {},
     "source": [
      "Now we defined the location of the two input image and the output image"
     ]
    },
    {
     "cell_type": "code",
     "collapsed": false,
     "input": [
      "sciencePath     = \"/renoir_data_00/jpreyes/data/output_hide/coadd_r_dir/deepCoadd/r/0/0,11.fits\"\n",
      "templatePath    = \"/renoir_data_00/jpreyes/data/output/coadd_r_dir_05/deepCoadd/r/0/0,11.fits\"\n",
      "outputPath      = \"/renoir_data_00/jpreyes/data/output/diff/0,11.fits\""
     ],
     "language": "python",
     "metadata": {},
     "outputs": [],
     "prompt_number": 2
    },
    {
     "cell_type": "markdown",
     "metadata": {},
     "source": [
      "Now read the images with afwImage.ExposureF"
     ]
    },
    {
     "cell_type": "code",
     "collapsed": false,
     "input": [
      "templateExposure = afwImage.ExposureF(templatePath)\n",
      "scienceExposure  = afwImage.ExposureF(sciencePath)"
     ],
     "language": "python",
     "metadata": {},
     "outputs": [],
     "prompt_number": 3
    },
    {
     "cell_type": "markdown",
     "metadata": {},
     "source": [
      "Some configuration (no clear idea of what it is)"
     ]
    },
    {
     "cell_type": "code",
     "collapsed": false,
     "input": [
      "config = ipDiffim.ImagePsfMatchTask.ConfigClass()\n",
      "config.kernel.name = \"AL\"\n",
      "subconfig = config.kernel.active"
     ],
     "language": "python",
     "metadata": {},
     "outputs": [],
     "prompt_number": 4
    },
    {
     "cell_type": "markdown",
     "metadata": {},
     "source": [
      "* Interlude ...  Here a test of latex : $x^2$  ... \n",
      "\n",
      "Now we run the subtraction, via the ipDiffim.ImagePsfMatchTask class "
     ]
    },
    {
     "cell_type": "code",
     "collapsed": false,
     "input": [
      "defFwhm         = 3.5\n",
      "fwhmS = defFwhm\n",
      "fwhmT = defFwhm\n",
      "psfmatch = ipDiffim.ImagePsfMatchTask(config)\n",
      "results  = psfmatch.subtractExposures(templateExposure, scienceExposure,\n",
      "                            templateFwhmPix = fwhmT, scienceFwhmPix = fwhmS)"
     ],
     "language": "python",
     "metadata": {},
     "outputs": [],
     "prompt_number": 5
    },
    {
     "cell_type": "markdown",
     "metadata": {},
     "source": [
      "Finalize by writing the output file of the image difference"
     ]
    },
    {
     "cell_type": "code",
     "collapsed": false,
     "input": [
      "differenceExposure = results.subtractedExposure\n",
      "differenceExposure.writeFits(outputPath)"
     ],
     "language": "python",
     "metadata": {},
     "outputs": [],
     "prompt_number": 7
    },
    {
     "cell_type": "code",
     "collapsed": false,
     "input": [],
     "language": "python",
     "metadata": {},
     "outputs": []
    }
   ],
   "metadata": {}
  }
 ]
}