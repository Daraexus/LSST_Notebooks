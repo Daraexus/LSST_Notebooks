{
 "cells": [
  {
   "cell_type": "code",
   "execution_count": 1,
   "metadata": {
    "collapsed": false,
    "deletable": true,
    "editable": true
   },
   "outputs": [],
   "source": [
    "import lsst.daf.persistence as dafPersist\n",
    "import matplotlib.pyplot as plt\n",
    "import numpy as np\n",
    "\n",
    "import lsst.afw.table as afwTable\n",
    "import lsst.afw.geom as afwGeom\n",
    "import Utils.DiaSourceTools as DSTools\n",
    "from astropy.time import Time\n",
    "\n",
    "import lsst.afw.display.ds9 as ds9\n",
    "\n",
    "import re\n",
    "\n",
    "import lsst.daf.base as dafBase\n",
    "\n",
    "\n",
    "import glob\n",
    "from astropy.io import ascii\n",
    "\n",
    "from lsst.ip.diffim import ImagePsfMatchTask, DipoleMeasurementTask\n",
    "from lsst.meas.algorithms.detection import SourceDetectionTask\n",
    "from lsst.meas.base import SingleFrameMeasurementTask\n",
    "from lsst.meas.deblender import SourceDeblendTask\n",
    "\n",
    "from lsst.afw.fits import FitsError\n",
    "\n",
    "from astropy.table import Column"
   ]
  },
  {
   "cell_type": "code",
   "execution_count": 2,
   "metadata": {
    "collapsed": true,
    "deletable": true,
    "editable": true
   },
   "outputs": [],
   "source": [
    "lienObj = glob.glob(\"/datadec/cppm/jpreyes/light_curves/*.dat\")\n",
    "\n",
    "lcs = []\n",
    "for oj in lienObj:\n",
    "    table = ascii.read(oj)\n",
    "    lcs.append(table)\n"
   ]
  },
  {
   "cell_type": "code",
   "execution_count": 3,
   "metadata": {
    "collapsed": false,
    "deletable": true,
    "editable": true
   },
   "outputs": [
    {
     "data": {
      "text/plain": [
       "613640"
      ]
     },
     "execution_count": 3,
     "metadata": {},
     "output_type": "execute_result"
    }
   ],
   "source": [
    "len(lcs)"
   ]
  },
  {
   "cell_type": "markdown",
   "metadata": {
    "deletable": true,
    "editable": true
   },
   "source": [
    "This is the colour map. You can modify these values to change the light curve point colors."
   ]
  },
  {
   "cell_type": "code",
   "execution_count": 4,
   "metadata": {
    "collapsed": true,
    "deletable": true,
    "editable": true
   },
   "outputs": [],
   "source": [
    "DATADIR=\"/datadec/cppm/jpreyes/CFHT_Complete\"\n",
    "#DATADIR=\"/renoir_data_02/jpreyes/lsst_data/CFHTLS_daytest/\"\n",
    "\n",
    "directory = DATADIR+\"/detect_testSN_2/\"\n",
    "butler = dafPersist.Butler(directory) \n"
   ]
  },
  {
   "cell_type": "code",
   "execution_count": 5,
   "metadata": {
    "collapsed": true,
    "deletable": true,
    "editable": true
   },
   "outputs": [],
   "source": [
    "\n",
    "\n",
    "\n"
   ]
  },
  {
   "cell_type": "code",
   "execution_count": 6,
   "metadata": {
    "collapsed": true,
    "deletable": true,
    "editable": true
   },
   "outputs": [],
   "source": [
    "from multiprocessing import Pool\n",
    "from functools import partial"
   ]
  },
  {
   "cell_type": "code",
   "execution_count": null,
   "metadata": {
    "collapsed": false,
    "deletable": true,
    "editable": true,
    "scrolled": true
   },
   "outputs": [
    {
     "name": "stdout",
     "output_type": "stream",
     "text": [
      "patch not found: 0,4\n",
      "patch not found: 0,5\n",
      "patch not found: 0,6\n",
      "patch not found: 0,7\n",
      "patch not found: 0,8\n",
      "patch not found: 0,9\n",
      "patch not found: 0,10\n",
      "patch not found: 0,11\n",
      "patch not found: 0,12\n",
      "patch not found: 0,13\n",
      "patch not found: 0,14\n",
      "patch not found: 0,15\n",
      "patch not found: 0,16\n",
      "patch not found: 0,17\n",
      "patch not found: 0,18\n",
      "patch not found: 0,19\n",
      "patch not found: 0,20\n",
      "patch not found: 0,21\n",
      "patch not found: 0,22\n",
      "patch not found: 0,23\n",
      "patch not found: 0,24\n",
      "patch not found: 1,4\n",
      "patch not found: 1,5\n",
      "patch not found: 1,6\n",
      "patch not found: 1,7\n",
      "patch not found: 1,8\n",
      "patch not found: 1,9\n",
      "patch not found: 1,10\n",
      "patch not found: 1,11\n",
      "patch not found: 1,12\n",
      "patch not found: 0,4\n",
      "patch not found: 1,13\n",
      "patch not found: 1,14\n",
      "patch not found: 0,5\n",
      "patch not found: 1,15\n",
      "patch not found: 0,6\n",
      "patch not found: 1,16\n",
      "patch not found: 0,7\n",
      "patch not found: 1,17\n",
      "patch not found: 0,8\n",
      "patch not found: 1,18\n",
      "patch not found: 0,9\n",
      "patch not found: 1,19\n",
      "patch not found: 0,10\n",
      "patch not found: 1,20\n",
      "patch not found: 0,11\n",
      "patch not found: 1,21\n",
      "patch not found: 0,12\n",
      "patch not found: 1,22\n",
      "patch not found: 0,13\n",
      "patch not found: 1,23\n",
      "patch not found: 0,14\n",
      "patch not found: 1,24\n",
      "patch not found: 0,15\n",
      "patch not found: 2,4\n",
      "patch not found: 0,16\n",
      "patch not found: 2,5\n",
      "patch not found: 0,17\n",
      "patch not found: 2,6\n",
      "patch not found: 2,7\n",
      "patch not found: 0,18\n",
      "patch not found: 2,8\n",
      "patch not found: 0,19\n",
      "patch not found: 2,9\n",
      "patch not found: 0,20\n",
      "patch not found: 2,10\n",
      "patch not found: 0,21\n",
      "patch not found: 2,11\n",
      "patch not found: 0,22\n",
      "patch not found: 2,12\n",
      "patch not found: 0,23\n",
      "patch not found: 2,13\n",
      "patch not found: 0,24\n",
      "patch not found: 2,14\n",
      "patch not found: 1,4\n",
      "patch not found: 2,15\n",
      "patch not found: 1,5\n",
      "patch not found: 2,16\n",
      "patch not found: 1,6\n",
      "patch not found: 2,17\n",
      "patch not found: 1,7\n",
      "patch not found: 2,18\n",
      "patch not found: 1,8\n",
      "patch not found: 2,19\n",
      "patch not found: 1,9\n",
      "patch not found: 0,4\n",
      "patch not found: 2,20\n",
      "patch not found: 1,10\n",
      "patch not found: 0,5\n",
      "patch not found: 1,11\n",
      "patch not found: 2,21\n",
      "patch not found: 0,6\n",
      "patch not found: 1,12\n",
      "patch not found: 2,22\n",
      "patch not found: 0,7\n",
      "patch not found: 1,13\n",
      "patch not found: 0,8\n",
      "patch not found: 2,23\n",
      "patch not found: 2,24\n",
      "patch not found: 1,14\n",
      "patch not found: 0,9\n",
      "patch not found: 3,4\n",
      "patch not found: 1,15\n",
      "patch not found: 0,10\n",
      "patch not found: 3,5\n",
      "patch not found: 1,16\n",
      "patch not found: 0,11\n",
      "patch not found: 3,6\n",
      "patch not found: 1,17\n",
      "patch not found: 0,12\n",
      "patch not found: 3,7\n",
      "patch not found: 0,13\n",
      "patch not found: 1,18\n",
      "patch not found: 3,8\n",
      "patch not found: 0,14\n",
      "patch not found: 3,9\n",
      "patch not found: 1,19\n",
      "patch not found: 0,15\n",
      "patch not found: 3,10\n",
      "patch not found: 1,20\n",
      "patch not found: 0,16\n",
      "patch not found: 1,21\n",
      "patch not found: 0,17\n",
      "patch not found: 3,11\n",
      "patch not found: 0,18\n",
      "patch not found: 1,22\n",
      "patch not found: 3,12\n",
      "patch not found: 0,19\n",
      "patch not found: 1,23\n",
      "patch not found: 3,13\n",
      "patch not found: 0,20\n",
      "patch not found: 1,24\n",
      "patch not found: 3,14\n",
      "patch not found: 0,21\n",
      "patch not found: 2,4\n",
      "patch not found: 0,22\n",
      "patch not found: 3,15\n",
      "patch not found: 2,5\n",
      "patch not found: 0,23\n",
      "patch not found: 3,16\n",
      "patch not found: 0,24\n",
      "patch not found: 2,6\n",
      "patch not found: 3,17\n",
      "patch not found: 1,4\n",
      "patch not found: 2,7\n",
      "patch not found: 3,18\n",
      "patch not found: 1,5\n",
      "patch not found: 2,8\n",
      "patch not found: 1,6\n",
      "patch not found: 3,19\n",
      "patch not found: 2,9\n",
      "patch not found: 1,7\n",
      "patch not found: 3,20\n",
      "patch not found: 1,8\n",
      "patch not found: 2,10\n",
      "patch not found: 3,21\n",
      "patch not found: 1,9\n",
      "patch not found: 2,11\n",
      "patch not found: 3,22\n",
      "patch not found: 1,10\n",
      "patch not found: 2,12\n",
      "patch not found: 3,23\n",
      "patch not found: 1,11\n",
      "patch not found: 2,13\n",
      "patch not found: 3,24\n",
      "patch not found: 1,12\n",
      "patch not found: 0,4\n",
      "patch not found: 2,14\n",
      "patch not found: 4,4\n",
      "patch not found: 1,13\n",
      "patch not found: 0,5\n",
      "patch not found: 1,14\n",
      "patch not found: 2,15\n",
      "patch not found: 1,15\n",
      "patch not found: 2,16\n",
      "patch not found: 0,6\n",
      "patch not found: 1,16\n",
      "patch not found: 0,7\n",
      "patch not found: 2,17\n",
      "patch not found: 0,8\n",
      "patch not found: 1,17\n",
      "patch not found: 2,18\n",
      "patch not found: 0,9\n",
      "patch not found: 1,18\n",
      "patch not found: 2,19\n",
      "patch not found: 1,19\n",
      "patch not found: 0,10\n",
      "patch not found: 2,20\n",
      "patch not found: 1,20\n",
      "patch not found: 0,11\n",
      "patch not found: 2,21\n",
      "patch not found: 1,21\n",
      "patch not found: 0,12\n",
      "patch not found: 2,22\n",
      "patch not found: 1,22\n",
      "patch not found: 0,13\n",
      "patch not found: 2,23\n",
      "patch not found: 1,23\n",
      "patch not found: 0,14\n",
      "patch not found: 2,24\n",
      "patch not found: 1,24\n",
      "patch not found: 0,15\n",
      "patch not found: 3,4\n",
      "patch not found: 0,16\n",
      "patch not found: 2,4\n",
      "patch not found: 3,5\n",
      "patch not found: 0,17\n",
      "patch not found: 2,5\n",
      "patch not found: 3,6\n",
      "patch not found: 0,18\n",
      "patch not found: 2,6\n",
      "patch not found: 3,7\n",
      "patch not found: 0,19\n",
      "patch not found: 3,8\n",
      "patch not found: 2,7\n",
      "patch not found: 0,20\n",
      "patch not found: 3,9\n",
      "patch not found: 2,8\n",
      "patch not found: 0,21\n",
      "patch not found: 3,10\n",
      "patch not found: 2,9\n",
      "patch not found: 3,11\n",
      "patch not found: 0,22\n",
      "patch not found: 2,10\n",
      "patch not found: 3,12\n",
      "patch not found: 0,23\n",
      "patch not found: 2,11\n",
      "patch not found: 3,13\n",
      "patch not found: 0,24\n",
      "patch not found: 2,12\n",
      "patch not found: 3,14\n",
      "patch not found: 1,4\n",
      "patch not found: 2,13\n",
      "patch not found: 3,15\n",
      "patch not found: 1,5\n",
      "patch not found: 2,14\n",
      "patch not found: 1,6\n",
      "patch not found: 3,16\n",
      "patch not found: 2,15\n",
      "patch not found: 1,7\n",
      "patch not found: 3,17\n",
      "patch not found: 2,16\n",
      "patch not found: 1,8\n",
      "patch not found: 3,18\n"
     ]
    },
    {
     "name": "stderr",
     "output_type": "stream",
     "text": [
      "/renoir_data_00/fouchez/lsst/DM/stacks/lsstsw/2016-04-04/lsstsw/miniconda/lib/python2.7/site-packages/numpy/core/_methods.py:59: RuntimeWarning: Mean of empty slice.\n",
      "  warnings.warn(\"Mean of empty slice.\", RuntimeWarning)\n",
      "/renoir_data_00/fouchez/lsst/DM/stacks/lsstsw/2016-04-04/lsstsw/miniconda/lib/python2.7/site-packages/numpy/core/_methods.py:70: RuntimeWarning: invalid value encountered in true_divide\n",
      "  ret = ret.dtype.type(ret / rcount)\n"
     ]
    },
    {
     "name": "stdout",
     "output_type": "stream",
     "text": [
      "patch not found: 2,17\n",
      "patch not found: 1,9\n",
      "patch not found: 3,19\n",
      "patch not found: 2,18\n",
      "patch not found: 1,10\n",
      "patch not found: 3,20\n",
      "patch not found: 1,11\n",
      "patch not found: 2,19\n",
      "patch not found: 3,21\n",
      "patch not found: 1,12\n",
      "patch not found: 2,20\n",
      "patch not found: 3,22\n",
      "patch not found: 1,13\n",
      "patch not found: 3,23\n",
      "patch not found: 2,21\n",
      "patch not found: 1,14\n",
      "patch not found: 1,15\n",
      "patch not found: 3,24\n",
      "patch not found: 2,22\n",
      "patch not found: 4,4\n",
      "patch not found: 2,23\n",
      "patch not found: 1,16\n",
      "patch not found: 2,24\n",
      "patch not found: 1,17\n",
      "patch not found: 3,4\n",
      "patch not found: 1,18\n",
      "patch not found: 3,5\n",
      "patch not found: 1,19\n",
      "patch not found: 1,20\n",
      "patch not found: 3,6\n",
      "patch not found: 1,21\n",
      "patch not found: 3,7\n",
      "patch not found: 1,22\n",
      "patch not found: 3,8\n",
      "patch not found: 1,23\n",
      "patch not found: 3,9\n",
      "patch not found: 1,24\n",
      "patch not found: 3,10\n",
      "patch not found: 2,4\n",
      "patch not found: 3,11\n",
      "patch not found: 2,5\n",
      "patch not found: 2,6\n",
      "patch not found: 3,12\n",
      "patch not found: 3,13\n",
      "patch not found: 2,7\n",
      "patch not found: 3,14\n",
      "patch not found: 2,8\n",
      "patch not found: 3,15\n",
      "patch not found: 2,9\n",
      "patch not found: 2,10\n",
      "patch not found: 3,16\n",
      "patch not found: 2,11\n",
      "patch not found: 3,17\n",
      "patch not found: 2,12\n",
      "patch not found: 3,18\n",
      "patch not found: 2,13\n",
      "patch not found: 3,19\n",
      "patch not found: 2,14\n",
      "patch not found: 3,20\n",
      "patch not found: 2,15\n",
      "patch not found: 3,21\n",
      "patch not found: 2,16\n"
     ]
    },
    {
     "name": "stderr",
     "output_type": "stream",
     "text": [
      "/renoir_data_00/fouchez/lsst/DM/stacks/lsstsw/2016-04-04/lsstsw/miniconda/lib/python2.7/site-packages/numpy/core/_methods.py:59: RuntimeWarning: Mean of empty slice.\n",
      "  warnings.warn(\"Mean of empty slice.\", RuntimeWarning)\n",
      "/renoir_data_00/fouchez/lsst/DM/stacks/lsstsw/2016-04-04/lsstsw/miniconda/lib/python2.7/site-packages/numpy/core/_methods.py:70: RuntimeWarning: invalid value encountered in true_divide\n",
      "  ret = ret.dtype.type(ret / rcount)\n"
     ]
    },
    {
     "name": "stdout",
     "output_type": "stream",
     "text": [
      "patch not found: 3,22\n",
      "patch not found: 2,17\n",
      "patch not found: 3,23\n",
      "patch not found: 2,18\n",
      "patch not found: 3,24\n",
      "patch not found: 2,19\n",
      "patch not found: 4,4\n",
      "patch not found: 2,20\n",
      "patch not found: 2,21\n",
      "patch not found: 2,22\n",
      "patch not found: 2,23\n",
      "patch not found: 2,24\n",
      "patch not found: 3,4\n",
      "patch not found: 3,5\n",
      "patch not found: 3,6\n",
      "patch not found: 3,7\n",
      "patch not found: 3,8\n"
     ]
    },
    {
     "name": "stderr",
     "output_type": "stream",
     "text": [
      "/renoir_data_00/fouchez/lsst/DM/stacks/lsstsw/2016-04-04/lsstsw/miniconda/lib/python2.7/site-packages/numpy/core/_methods.py:59: RuntimeWarning: Mean of empty slice.\n",
      "  warnings.warn(\"Mean of empty slice.\", RuntimeWarning)\n",
      "/renoir_data_00/fouchez/lsst/DM/stacks/lsstsw/2016-04-04/lsstsw/miniconda/lib/python2.7/site-packages/numpy/core/_methods.py:70: RuntimeWarning: invalid value encountered in true_divide\n",
      "  ret = ret.dtype.type(ret / rcount)\n"
     ]
    },
    {
     "name": "stdout",
     "output_type": "stream",
     "text": [
      "patch not found: 3,9\n",
      "patch not found: 3,10\n",
      "patch not found: 3,11\n",
      "patch not found: 3,12\n",
      "patch not found: 3,13\n",
      "patch not found: 3,14\n",
      "patch not found: 3,15\n",
      "patch not found: 3,16\n",
      "patch not found: 3,17\n",
      "patch not found: 3,18\n",
      "patch not found: 3,19\n",
      "patch not found: 3,20\n",
      "patch not found: 3,21\n",
      "patch not found: 3,22\n",
      "patch not found: 3,23\n",
      "patch not found: 3,24\n",
      "patch not found: 4,4\n"
     ]
    },
    {
     "name": "stderr",
     "output_type": "stream",
     "text": [
      "/renoir_data_00/fouchez/lsst/DM/stacks/lsstsw/2016-04-04/lsstsw/miniconda/lib/python2.7/site-packages/numpy/core/_methods.py:59: RuntimeWarning: Mean of empty slice.\n",
      "  warnings.warn(\"Mean of empty slice.\", RuntimeWarning)\n",
      "/renoir_data_00/fouchez/lsst/DM/stacks/lsstsw/2016-04-04/lsstsw/miniconda/lib/python2.7/site-packages/numpy/core/_methods.py:70: RuntimeWarning: invalid value encountered in true_divide\n",
      "  ret = ret.dtype.type(ret / rcount)\n"
     ]
    },
    {
     "name": "stdout",
     "output_type": "stream",
     "text": [
      "patch not found: 4,24\n",
      "patch not found: 5,4\n",
      "patch not found: 5,4\n",
      "patch not found: 5,4\n",
      "patch not found: 5,4\n"
     ]
    }
   ],
   "source": [
    "p = Pool(200)\n",
    "\n",
    "\n",
    "params = [(butler, patches, 'r'),(butler, patches, 'i'),(butler, patches, 'z'),(butler, patches, 'g')]\n",
    "res = p.map(function, params)\n"
   ]
  },
  {
   "cell_type": "code",
   "execution_count": 12,
   "metadata": {
    "collapsed": true,
    "deletable": true,
    "editable": true
   },
   "outputs": [],
   "source": [
    "cats_r = res[0]\n",
    "cats_i = res[1]\n",
    "cats_z = res[2]\n",
    "cats_g = res[3]"
   ]
  },
  {
   "cell_type": "code",
   "execution_count": 16,
   "metadata": {
    "collapsed": false,
    "deletable": true,
    "editable": true
   },
   "outputs": [
    {
     "data": {
      "text/plain": [
       "420"
      ]
     },
     "execution_count": 16,
     "metadata": {},
     "output_type": "execute_result"
    }
   ],
   "source": [
    "len(cats_g)"
   ]
  },
  {
   "cell_type": "code",
   "execution_count": 17,
   "metadata": {
    "collapsed": true,
    "deletable": true,
    "editable": true
   },
   "outputs": [],
   "source": [
    "bbox_patches = {}\n",
    "for patch in patches:\n",
    "    \n",
    "            if butler.datasetExists(\"deepCoadd\", dataId={\"filter\":'r',\"tract\":0, \"patch\":patch}):\n",
    "                    dayDiff = butler.get(\"deepCoadd\", dataId={\"filter\":'r',\"tract\":0, \"patch\":patch})\n",
    "                    bbox = dayDiff.getBBox()\n",
    "                    wcs = dayDiff.getWcs()\n",
    "\n",
    "                    bbox_patches[patch] = (bbox,wcs)\n"
   ]
  },
  {
   "cell_type": "code",
   "execution_count": 8,
   "metadata": {
    "collapsed": true,
    "deletable": true,
    "editable": true
   },
   "outputs": [],
   "source": [
    "def function(args):\n",
    "    return get_source_catalogs_ref(*args)\n",
    "\n",
    "def get_source_catalogs_ref(butler, patches, f):\n",
    "    dictionary = {}\n",
    "    for patch in patches:\n",
    "        try:\n",
    "            dayCoadd = butler.get(\"deepCoadd\", dataId={\"filter\":f,\"tract\":0, \"patch\":patch})\n",
    "            cat = detect_sources(dayCoadd)\n",
    "            dictionary[patch] = cat\n",
    "        except FitsError:\n",
    "            print \"patch not found: \"+patch\n",
    "            \n",
    "        \n",
    "    return dictionary"
   ]
  },
  {
   "cell_type": "code",
   "execution_count": 9,
   "metadata": {
    "collapsed": true,
    "deletable": true,
    "editable": true
   },
   "outputs": [],
   "source": [
    "def detect_sources(exposure):\n",
    "    threshold = 6\n",
    "    doSmooth=True\n",
    "    schema = afwTable.SourceTable.makeMinimalSchema()\n",
    "\n",
    "\n",
    "    algMetadata = dafBase.PropertyList()\n",
    "\n",
    "    config = SourceDetectionTask.ConfigClass()\n",
    "    #config.thresholdPolarity = \"both\"\n",
    "    config.thresholdValue = threshold\n",
    "    config.reEstimateBackground = False\n",
    "    #config.thresholdType = \"pixel_stdev\"\n",
    "\n",
    "    detectionTask = SourceDetectionTask(config=config, schema=schema)\n",
    "\n",
    "    measurement = SingleFrameMeasurementTask\n",
    "    config = measurement.ConfigClass()\n",
    "\n",
    "    measurement = measurement(schema, config=config, algMetadata=algMetadata)\n",
    "\n",
    "\n",
    "    deblend = SourceDeblendTask\n",
    "    config = SourceDeblendTask.ConfigClass()\n",
    "    deblend = deblend(schema)\n",
    "\n",
    "    table = afwTable.SourceTable.make(schema)\n",
    "    \n",
    "    results = detectionTask.run(table=table, exposure=exposure , doSmooth=doSmooth )\n",
    "\n",
    "    sourcesCat = results.sources\n",
    "    \n",
    "    deblend.run(exposure, sourcesCat, exposure.getPsf())\n",
    "    \n",
    "    \n",
    "\n",
    "    measurement.run(measCat=sourcesCat, exposure=exposure)\n",
    "\n",
    "    return sourcesCat\n",
    "\n",
    "def get_patch(lc):\n",
    "   \n",
    "    keys = bbox_patches.keys()\n",
    "    for key in keys:\n",
    "                    bbox, wcs = bbox_patches[key]\n",
    "\n",
    "                    angle_ra = afwGeom.Angle(np.mean(lc[\"ra\"]))\n",
    "                    angle_dec = afwGeom.Angle(np.mean(lc[\"dec\"]))\n",
    "                    coord = wcs.skyToPixel(angle_ra, angle_dec)\n",
    "\n",
    "                    if bbox.contains(afwGeom.Point2I(coord)):\n",
    "                        return key\n",
    "\n",
    "    return -1"
   ]
  },
  {
   "cell_type": "code",
   "execution_count": 10,
   "metadata": {
    "collapsed": true,
    "deletable": true,
    "editable": true
   },
   "outputs": [],
   "source": [
    "def get_reference_fluxes(s_cat, lc):\n",
    "    flux = -1\n",
    "    min_distance = 5\n",
    "    for source in s_cat:\n",
    "            \n",
    "            s1 = {'ra':np.mean(lc[\"ra\"]),'dec':np.mean(lc[\"dec\"])}\n",
    "            s2 = {'ra':source[\"coord_ra\"],'dec':source[\"coord_dec\"]}\n",
    "\n",
    "            if DSTools.source_distance(s1,s2) < min_distance:\n",
    "                min_distance = DSTools.source_distance(s1,s2)\n",
    "                flux = source[\"base_CircularApertureFlux_4_5_flux\"]\n",
    "\n",
    "    return flux\n",
    "    "
   ]
  },
  {
   "cell_type": "code",
   "execution_count": null,
   "metadata": {
    "collapsed": false,
    "deletable": true,
    "editable": true
   },
   "outputs": [
    {
     "name": "stderr",
     "output_type": "stream",
     "text": [
      "/renoir_data_00/fouchez/lsst/DM/stacks/lsstsw/2016-04-04/lsstsw/miniconda/lib/python2.7/site-packages/numpy/core/_methods.py:59: RuntimeWarning: Mean of empty slice.\n",
      "  warnings.warn(\"Mean of empty slice.\", RuntimeWarning)\n",
      "/renoir_data_00/fouchez/lsst/DM/stacks/lsstsw/2016-04-04/lsstsw/miniconda/lib/python2.7/site-packages/numpy/core/_methods.py:70: RuntimeWarning: invalid value encountered in double_scalars\n",
      "  ret = ret.dtype.type(ret / rcount)\n"
     ]
    }
   ],
   "source": [
    "\n",
    "for lc in lcs:\n",
    "    patch = get_patch(lc)\n",
    "    \n",
    "    if patch == -1:\n",
    "        flux_g = -1\n",
    "        flug_i = -1\n",
    "        flux_r = -1\n",
    "        flux_z = -1\n",
    "    else:\n",
    "        g = lc[lc['bandpass']=='sdssg']\n",
    "        flux_g = get_reference_fluxes(cats_g[patch], g)\n",
    "\n",
    "        i = lc[lc['bandpass']=='sdssi']\n",
    "        flux_i = get_reference_fluxes(cats_i[patch], i)\n",
    "\n",
    "        r = lc[lc['bandpass']=='sdssr']\n",
    "        flux_r = get_reference_fluxes(cats_r[patch], r)\n",
    "\n",
    "        z = lc[lc['bandpass']=='sdssz']\n",
    "        flux_z = get_reference_fluxes(cats_z[patch], z)\n",
    "    \n",
    "    lc[\"ref_flux\"] = -1.0\n",
    "    \n",
    "    for row in lc:\n",
    "        if row[\"bandpass\"]==\"sdssi\":\n",
    "            row[\"ref_flux\"]=flux_i\n",
    "        elif row[\"bandpass\"]==\"sdssr\":\n",
    "            row[\"ref_flux\"]=flux_r\n",
    "        elif row[\"bandpass\"]==\"sdssg\":\n",
    "            row[\"ref_flux\"]=flux_g\n",
    "        else:\n",
    "            row[\"ref_flux\"]=flux_i\n",
    "    \n",
    "    \n",
    "  "
   ]
  },
  {
   "cell_type": "code",
   "execution_count": 30,
   "metadata": {
    "collapsed": false,
    "deletable": true,
    "editable": true
   },
   "outputs": [
    {
     "name": "stdout",
     "output_type": "stream",
     "text": [
      "437546\n"
     ]
    }
   ],
   "source": [
    "for i,lc in enumerate(lcs):\n",
    "    if \"ref_flux\" not in lc.keys():\n",
    "        print i\n",
    "        break"
   ]
  },
  {
   "cell_type": "code",
   "execution_count": 70,
   "metadata": {
    "collapsed": true,
    "deletable": true,
    "editable": true
   },
   "outputs": [],
   "source": [
    "from astropy.io import ascii\n",
    "\n",
    "for i, lc in enumerate(lcs):\n",
    "   \n",
    "        \n",
    "    ascii.write(lc, '/renoir_data_02/jpreyes/lsst_data/light_curves/multicolour_set/ref_flux/'+str(i)+'.dat')"
   ]
  },
  {
   "cell_type": "code",
   "execution_count": null,
   "metadata": {
    "collapsed": true,
    "deletable": true,
    "editable": true
   },
   "outputs": [],
   "source": []
  }
 ],
 "metadata": {
  "kernelspec": {
   "display_name": "Python 2",
   "language": "python",
   "name": "python2"
  },
  "language_info": {
   "codemirror_mode": {
    "name": "ipython",
    "version": 2
   },
   "file_extension": ".py",
   "mimetype": "text/x-python",
   "name": "python",
   "nbconvert_exporter": "python",
   "pygments_lexer": "ipython2",
   "version": "2.7.12"
  }
 },
 "nbformat": 4,
 "nbformat_minor": 1
}
