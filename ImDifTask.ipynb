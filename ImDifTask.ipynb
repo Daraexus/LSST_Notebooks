{
 "metadata": {
  "name": ""
 },
 "nbformat": 3,
 "nbformat_minor": 0,
 "worksheets": [
  {
   "cells": [
    {
     "cell_type": "code",
     "collapsed": false,
     "input": [
      "\n",
      "\n",
      "import math\n",
      "import random\n",
      "import numpy\n",
      "\n",
      "import lsst.pex.config as pexConfig\n",
      "import lsst.pipe.base as pipeBase\n",
      "import lsst.daf.base as dafBase\n",
      "import lsst.afw.geom as afwGeom\n",
      "import lsst.afw.math as afwMath\n",
      "import lsst.afw.table as afwTable\n",
      "import lsst.meas.astrom as measAstrom\n",
      "from lsst.pipe.tasks.registerImage import RegisterTask\n",
      "from lsst.meas.algorithms import SourceDetectionTask, \\\n",
      "    starSelectorRegistry, PsfAttributes, SingleGaussianPsf\n",
      "from lsst.ip.diffim import ImagePsfMatchTask, DipoleMeasurementTask, DipoleAnalysis, \\\n",
      "    SourceFlagChecker, KernelCandidateF, cast_KernelCandidateF, makeKernelBasisList, \\\n",
      "    KernelCandidateQa\n",
      "#DiaCatalogSourceSelector, DiaCatalogSourceSelectorConfig\n",
      "import lsst.ip.diffim.diffimTools as diffimTools\n",
      "import lsst.ip.diffim.utils as diUtils\n",
      "import lsst.afw.display.ds9 as ds9\n",
      "import ImageSubtractionTools\n"
     ],
     "language": "python",
     "metadata": {},
     "outputs": [],
     "prompt_number": 256
    },
    {
     "cell_type": "code",
     "collapsed": false,
     "input": [
      "import lsst.afw.image as afwImage\n",
      "DATADIR=\"/renoir_data_02/jpreyes/lsst_data/data/CFHTLS_TEST\"\n",
      "scienceFolder = \"subtract+0\"\n",
      "templateFolder = \"coaddition\"\n",
      "\n",
      "SciencePath = DATADIR+\"/output/coadd_r_dir/\"+scienceFolder+\"/deepCoadd/r/1/33,15.fits\"\n",
      "TemplatePath = DATADIR+\"/output/coadd_r_dir/\"+templateFolder+\"/deepCoadd/r/1/33,15.fits\"\n",
      "#SciencePath = DATADIR+\"/output/calexp/06AL01/D3/2006-05-24/r/calexp-849686-14.fits\"\n",
      "#TemplatePath = DATADIR+\"/output/calexp/06AL01/D3/2006-05-24/r/calexp-849688-14.fits\"\n",
      "scienceExp = afwImage.ExposureF(SciencePath)\n",
      "templateExp = afwImage.ExposureF(TemplatePath)\n",
      "\n",
      "scienceExp = ImageSubtractionTools.SubtractBackground(scienceExp)\n",
      "templateExp = ImageSubtractionTools.SubtractBackground(templateExp)\n",
      "self_schema = afwTable.SourceTable.makeMinimalSchema()\n",
      "self_algMetadata = dafBase.PropertyList()\n",
      "\n",
      "import lsst.ip.diffim as ipDiffim\n",
      "config = ipDiffim.ImagePsfMatchTask.ConfigClass()\n",
      "#Kernel name is Alard-Lupton by default\n",
      "config.kernel.name = \"AL\"\n",
      "subconfig = config.kernel.active\n",
      "psfmatch = ipDiffim.ImagePsfMatchTask(config)\n",
      "\n",
      "detection = SourceDetectionTask()\n",
      "exposure = scienceExp\n",
      "sciencePsf = exposure.getPsf()\n",
      "templateExposure = templateExp\n",
      "#templateSources = template.sources  ????\n",
      "templateSources = psfmatch.getSelectSources(templateExposure)\n",
      "\n",
      "\n",
      "# compute scienceSigmaOrig: sigma of PSF of science image before pre-convolution\n",
      "ctr = afwGeom.Box2D(exposure.getBBox(afwImage.PARENT)).getCenter()\n",
      "print ctr\n",
      "psfAttr = PsfAttributes(sciencePsf, afwGeom.Point2I(ctr))\n",
      "scienceSigmaOrig = psfAttr.computeGaussianWidth(psfAttr.ADAPTIVE_MOMENT)\n",
      "\n",
      "# sigma of PSF of template image before warping\n",
      "ctr = afwGeom.Box2D(templateExposure.getBBox(afwImage.PARENT)).getCenter()\n",
      "psfAttr = PsfAttributes(templateExposure.getPsf(), afwGeom.Point2I(ctr))\n",
      "templateSigma = psfAttr.computeGaussianWidth(psfAttr.ADAPTIVE_MOMENT)\n",
      "\n",
      "# if requested, convolve the science exposure with its PSF\n",
      "# (properly, this should be a cross-correlation, but our code does not yet support that)\n",
      "# compute scienceSigmaPost: sigma of science exposure with pre-convolution, if done,\n",
      "# else sigma of original science exposure\n",
      "\n",
      "self_config_doPreConvolve = True\n",
      "self_config_useGaussianForPreConvolution = True\n",
      "\n",
      "if self_config_doPreConvolve:\n",
      "    convControl = afwMath.ConvolutionControl()\n",
      "    # cannot convolve in place, so make a new MI to receive convolved image\n",
      "    srcMI = exposure.getMaskedImage()\n",
      "    destMI = srcMI.Factory(srcMI.getDimensions())\n",
      "    srcPsf = sciencePsf\n",
      "    if self_config_useGaussianForPreConvolution:\n",
      "        # convolve with a simplified PSF model: a double Gaussian\n",
      "        kWidth, kHeight = sciencePsf.getLocalKernel().getDimensions()\n",
      "        preConvPsf = SingleGaussianPsf(kWidth, kHeight, scienceSigmaOrig)\n",
      "    else:\n",
      "        # convolve with science exposure's PSF model\n",
      "        preConvPsf = srcPsf\n",
      "    afwMath.convolve(destMI, srcMI, preConvPsf.getLocalKernel(), convControl)\n",
      "    exposure.setMaskedImage(destMI)\n",
      "    scienceSigmaPost = scienceSigmaOrig * math.sqrt(2)\n",
      "else:\n",
      "    scienceSigmaPost = scienceSigmaOrig\n",
      "#expId=18\n",
      "#expBits = 64\n",
      "#idFactory = afwTable.IdFactory.makeSource(expId, 64 - expBits)\n",
      "self_doPreConvolve= True\n",
      "selectSources = psfmatch.getSelectSources(exposure,\n",
      "                        sigma = scienceSigmaPost,\n",
      "                        doSmooth = not self_doPreConvolve,)\n",
      "#                        idFactory = idFactory,)\n",
      "\n",
      "FwhmPerSigma = 2 * math.sqrt(2 * math.log(2))\n",
      "IqrToSigma = 0.741\n",
      "nparam = len(makeKernelBasisList(psfmatch.config.kernel.active,\n",
      "            referenceFwhmPix=scienceSigmaPost * FwhmPerSigma,\n",
      "            targetFwhmPix=templateSigma * FwhmPerSigma))\n",
      "import kernelCandidateQa as qa\n",
      "kcQa = qa.KernelCandidateQa(nparam)\n",
      "selectSources = kcQa.addToSchema(selectSources)\n",
      "matches = afwTable.matchRaDec(templateSources, selectSources, 1.0*afwGeom.arcseconds,\n",
      "                                                  False)\n",
      "\n",
      "import diaCatalogSourceSelectorv92 as diaCSS\n",
      "#sourceSelector = starSelectorRegistry.makeField(\"Source selection algorithm\", default=\"diacatalog\")\n",
      "#sourceSelector = sourceSelector.diacatalog\n",
      "#hasattr(sourceSelector, 'selectStars')\n",
      "sourceSelector = diaCSS.DiaCatalogSourceSelector()\n",
      "\n",
      "\n",
      "kernelSources = sourceSelector.selectSources(exposure, selectSources, matches=matches)\n",
      "\n",
      "\n",
      "controlStepSize = 5\n",
      "random.shuffle(kernelSources, random.random)\n",
      "controlSources = kernelSources[::controlStepSize]\n",
      "kernelSources = [k for i,k in enumerate(kernelSources) if i % controlStepSize]\n",
      "\n",
      "\n",
      "#wcsResults = self.fitAstrometry(templateSources, templateExposure, selectSources)\n",
      "#register = RegisterTask(name=\"reg\")\n",
      "#wcsResults = register.run(templateSources, templateExposure.getWcs(),\n",
      "#                                    templateExposure.getBBox(), selectSources)\n",
      "\n",
      "#warpedExp = register.warpExposure(templateExposure, wcsResults.wcs,\n",
      "#                                            exposure.getWcs(), exposure.getBBox())\n",
      "#templateExposure2 = warpedExp\n",
      "convolveTemplate = False\n",
      "doUseRegister = False\n",
      "subtractRes = psfmatch.subtractExposures(\n",
      "                templateExposure=templateExposure,\n",
      "                scienceExposure=exposure,\n",
      "                candidateList=kernelSources,\n",
      "                convolveTemplate=convolveTemplate,\n",
      "                doWarping=not doUseRegister\n",
      "            )\n",
      "subtractedExposure = subtractRes.subtractedExposure\n",
      "ds9.setMaskTransparency(100)\n",
      "ds9.mtv(subtractedExposure)"
     ],
     "language": "python",
     "metadata": {},
     "outputs": [
      {
       "output_type": "stream",
       "stream": "stdout",
       "text": [
        "(33500, 15500)\n"
       ]
      }
     ],
     "prompt_number": 319
    },
    {
     "cell_type": "code",
     "collapsed": false,
     "input": [
      "config_doPreConvolve = True\n",
      "# Erase existing detection mask planes\n",
      "mask  = subtractedExposure.getMaskedImage().getMask()\n",
      "mask &= ~(mask.getPlaneBitMask(\"DETECTED\") | mask.getPlaneBitMask(\"DETECTED_NEGATIVE\"))\n",
      "\n",
      "table = afwTable.SourceTable.make(self_schema)\n",
      "table.setMetadata(self_algMetadata)\n",
      "results = detection.makeSourceCatalog(\n",
      "    table=table,\n",
      "    exposure=subtractedExposure,\n",
      "    doSmooth=not config_doPreConvolve\n",
      ")\n",
      "\n",
      "diaSources = results.sources\n",
      "\n",
      "print len(diaSources)"
     ],
     "language": "python",
     "metadata": {},
     "outputs": [
      {
       "output_type": "stream",
       "stream": "stdout",
       "text": [
        "30\n"
       ]
      }
     ],
     "prompt_number": 320
    },
    {
     "cell_type": "markdown",
     "metadata": {},
     "source": [
      "This is the method that merge all footprints too near each other. Different grow_values change the outcome"
     ]
    },
    {
     "cell_type": "code",
     "collapsed": false,
     "input": [
      "grow_value_x = 5\n",
      "grow_value_y = 5\n",
      "\n",
      "\n",
      "fpSet = results.fpSets.positive\n",
      "fpSet.merge(results.fpSets.positive,grow_value_x ,grow_value_y, False)\n",
      "diaSources = afwTable.SourceCatalog(table)\n",
      "fpSet.makeSources(diaSources)\n",
      "print len(diaSources)"
     ],
     "language": "python",
     "metadata": {},
     "outputs": [
      {
       "output_type": "stream",
       "stream": "stdout",
       "text": [
        "15\n"
       ]
      }
     ],
     "prompt_number": 321
    },
    {
     "cell_type": "code",
     "collapsed": false,
     "input": [
      "ds9.mtv(subtractedExposure, frame=1)\n",
      "ds9.ds9Cmd(\"zoom to fit\")\n",
      "ds9.setMaskTransparency(100)\n",
      "with ds9.Buffering():\n",
      "    for source in diaSources:\n",
      "        xs = source.getFootprint().getCentroid().getX()-subtractedExposure.getX0()\n",
      "        ys = source.getFootprint().getCentroid().getY()-subtractedExposure.getY0()\n",
      "        ds9.dot('+', xs, ys, frame=1,size=10, ctype = ds9.RED)"
     ],
     "language": "python",
     "metadata": {},
     "outputs": [],
     "prompt_number": 196
    },
    {
     "cell_type": "code",
     "collapsed": false,
     "input": [
      "kernelCandList = []\n",
      "for cell in subtractRes.kernelCellSet.getCellList():\n",
      "    for cand in cell.begin(False): # include bad candidates\n",
      "        kernelCandList.append(cast_KernelCandidateF(cand))\n",
      "\n",
      "basisList = afwMath.cast_LinearCombinationKernel(\n",
      "kernelCandList[0].getKernel(KernelCandidateF.ORIG)).getKernelList()\n",
      "\n",
      "\n",
      "\n",
      "class myTaskConfig(pexConfig.Config):\n",
      "    s=1\n",
      "class myTask(pipeBase.CmdLineTask):\n",
      "    _DefaultName = \"hop\"\n",
      "    ConfigClass = myTaskConfig\n",
      "    def __init__(self, **kwargs):\n",
      "        pipeBase.CmdLineTask.__init__(self, **kwargs)    \n",
      "    def run(self):\n",
      "        self.hop=None\n",
      "        \n",
      "d=myTask()\n",
      "\n",
      "\n",
      "config_subtract = config\n",
      "controlCandList = \\\n",
      "                    diffimTools.sourceTableToCandidateList(controlSources, \n",
      "                                                           subtractRes.warpedExposure, exposure,\n",
      "                                                           config_subtract.kernel.active,\n",
      "                                                           config_subtract.kernel.active.detectionConfig,\n",
      "                                                           d.log, doBuild=True, basisList=basisList)\n"
     ],
     "language": "python",
     "metadata": {},
     "outputs": [],
     "prompt_number": 186
    },
    {
     "cell_type": "code",
     "collapsed": false,
     "input": [
      "from lsst.ip.diffim import diffimLib\n",
      "\n",
      "for kernelCandidate in kernelCandList:\n",
      "     if kernelCandidate.getStatus() != afwMath.SpatialCellCandidate.UNKNOWN:\n",
      "\n",
      "         kType = getattr(diffimLib.KernelCandidateF, \"ORIG\")\n",
      "         di = kernelCandidate.getDifferenceImage(kType)\n",
      "         mask = di.getMask()\n",
      "         mask.addMaskPlane(\"NO_DATA\")"
     ],
     "language": "python",
     "metadata": {},
     "outputs": [],
     "prompt_number": 206
    },
    {
     "cell_type": "code",
     "collapsed": false,
     "input": [
      "kcQa.apply(kernelCandList, subtractRes.psfMatchingKernel, subtractRes.backgroundModel,\n",
      "                                dof=nparam)\n",
      "kcQa.apply(controlCandList, subtractRes.psfMatchingKernel, subtractRes.backgroundModel)"
     ],
     "language": "python",
     "metadata": {},
     "outputs": [],
     "prompt_number": 207
    },
    {
     "cell_type": "code",
     "collapsed": false,
     "input": [
      "%matplotlib inline\n",
      "import matplotlib.pyplot as plt\n",
      "kc1 =[]\n",
      "for k in kernelCandList:\n",
      "    kc = k.getSource()['KCDiffimMseResids_LOCAL']\n",
      "    if not math.isnan(kc):\n",
      "        kc1.append(kc)\n",
      "kc1    \n",
      "plt.hist(kc1)"
     ],
     "language": "python",
     "metadata": {},
     "outputs": [
      {
       "metadata": {},
       "output_type": "pyout",
       "prompt_number": 211,
       "text": [
        "(array([ 32.,   0.,   1.,   2.,   0.,   0.,   1.,   0.,   1.,   2.]),\n",
        " array([ 0.00049651,  0.00952044,  0.01854436,  0.02756829,  0.03659222,\n",
        "        0.04561615,  0.05464007,  0.063664  ,  0.07268793,  0.08171186,\n",
        "        0.09073579]),\n",
        " <a list of 10 Patch objects>)"
       ]
      },
      {
       "metadata": {},
       "output_type": "display_data",
       "png": "[encoded data removed]",
       "text": [
        "<matplotlib.figure.Figure at 0x9e12110>"
       ]
      }
     ],
     "prompt_number": 211
    },
    {
     "cell_type": "code",
     "collapsed": false,
     "input": [
      "%matplotlib inline\n",
      "import matplotlib.pyplot as plt\n",
      "kc1 =[]\n",
      "for k in kernelCandList:\n",
      "    kc = k.getSource()['KCDiffimStDev_LOCAL']\n",
      "    if not math.isnan(kc):\n",
      "        kc1.append(kc)\n",
      "kc1    \n",
      "plt.hist(kc1)"
     ],
     "language": "python",
     "metadata": {},
     "outputs": [
      {
       "metadata": {},
       "output_type": "pyout",
       "prompt_number": 322,
       "text": [
        "(array([ 17.,  13.,   2.,   0.,   1.,   2.,   0.,   1.,   0.,   3.]),\n",
        " array([ 0.02208874,  0.04998013,  0.07787152,  0.10576291,  0.13365429,\n",
        "        0.16154568,  0.18943707,  0.21732846,  0.24521985,  0.27311123,\n",
        "        0.30100262]),\n",
        " <a list of 10 Patch objects>)"
       ]
      },
      {
       "metadata": {},
       "output_type": "display_data",
       "png": "[encoded data removed]",
       "text": [
        "<matplotlib.figure.Figure at 0x7597990>"
       ]
      }
     ],
     "prompt_number": 322
    },
    {
     "cell_type": "code",
     "collapsed": false,
     "input": [
      "%matplotlib inline\n",
      "import matplotlib.pyplot as plt\n",
      "kc1 =[]\n",
      "for k in kernelCandList:\n",
      "    kc = k.getSource()['KCDiffimChiSq_LOCAL']\n",
      "    if not math.isnan(kc):\n",
      "        kc1.append(kc)\n",
      "kc1    \n",
      "plt.hist(kc1)"
     ],
     "language": "python",
     "metadata": {},
     "outputs": [
      {
       "metadata": {},
       "output_type": "pyout",
       "prompt_number": 325,
       "text": [
        "(array([ 32.,   0.,   2.,   1.,   0.,   0.,   1.,   0.,   1.,   2.]),\n",
        " array([ 0.00051972,  0.0100414 ,  0.01956308,  0.02908477,  0.03860645,\n",
        "        0.04812813,  0.05764981,  0.06717149,  0.07669318,  0.08621486,\n",
        "        0.09573654]),\n",
        " <a list of 10 Patch objects>)"
       ]
      },
      {
       "metadata": {},
       "output_type": "display_data",
       "png": "[encoded data removed]",
       "text": [
        "<matplotlib.figure.Figure at 0x76cb610>"
       ]
      }
     ],
     "prompt_number": 325
    },
    {
     "cell_type": "code",
     "collapsed": false,
     "input": [
      "ds9.mtv(subtractedExposure.getMaskedImage().getImage()"
     ],
     "language": "python",
     "metadata": {},
     "outputs": []
    },
    {
     "cell_type": "code",
     "collapsed": false,
     "input": [
      "import lsst.afw.display.utils as displayUtils\n",
      "import numpy as np\n",
      "diaSourcesList = []\n",
      "mos = displayUtils.Mosaic()\n",
      "\n",
      "for source  in  diaSources:\n",
      "    diaSourcesList.append(source)\n",
      "    bbox = source.getFootprint().getBBox()\n",
      "    Begin = afwGeom.Point2I(bbox.getBeginX(), bbox.getBeginY())\n",
      "\n",
      "    End = afwGeom.Point2I(bbox.getEndX(), bbox.getEndY())\n",
      "\n",
      "    ExpOrig = afwGeom.Point2I(subtractedExposure.getX0()-1, subtractedExposure.getY0()-1)\n",
      " \n",
      "    correctedBegin = bbox.getBegin()- ExpOrig\n",
      "    correctedEnd = bbox.getEnd() - ExpOrig\n",
      "\n",
      "    correctedBegin= afwGeom.Point2I(correctedBegin.getX()-20,correctedBegin.getY()-20 )\n",
      "    correctedEnd = afwGeom.Point2I(correctedEnd.getX()+20,correctedEnd.getY()+20 )\n",
      "    \n",
      "    \n",
      "    \n",
      "    bboxT = afwGeom.Box2I(correctedBegin,correctedEnd)\n",
      "    \n",
      "    #print bboxT.toString\n",
      "\n",
      "    stamp = exposure.Factory(subtractedExposure,bboxT, True)\n",
      "    stamp2 = exposure.Factory(scienceExp,bboxT, True)\n",
      "    \n",
      "    var = scienceExp.getMaskedImage().getVariance()\n",
      "    var = var.Factory(var, True)\n",
      "    np.sqrt(var.getArray(), var.getArray())\n",
      "       \n",
      "       \n",
      "        \n",
      "    sub_exp = subtractedExposure.getMaskedImage().getImage()\n",
      "    sub_exp = sub_exp.Factory(sub_exp, True)\n",
      "\n",
      "    #sub_exp /= sub_exp\n",
      "    for i in range(0,sub_exp.getWidth()):\n",
      "        for j in range(sub_exp.getHeight()):\n",
      "            sub_exp.set(i,j, sub_exp.get(i,j)/ np.sqrt(var.get(i,j)))\n",
      "\n",
      "    stamp = sub_exp.Factory(sub_exp, bboxT, True)\n",
      "    \n",
      "    \n",
      "    var = scienceExp.getMaskedImage().getVariance()\n",
      "    var = var.Factory(var, True)\n",
      "    np.sqrt(var.getArray(), var.getArray())\n",
      "       \n",
      "       \n",
      "        \n",
      "    sc_exp = scienceExp.getMaskedImage().getImage()\n",
      "    sc_exp = sc_exp.Factory(sc_exp, True)\n",
      "\n",
      "    for i in range(0,sc_exp.getWidth()):\n",
      "        for j in range(sc_exp.getHeight()):\n",
      "            sc_exp.set(i,j, sc_exp.get(i,j)/ np.sqrt(var.get(i,j)))\n",
      "\n",
      "    \n",
      "    stamp2 = sc_exp.Factory(sc_exp, bboxT, True)\n",
      "    \n",
      "    im = displayUtils.Mosaic(gutter=0, background=0, mode=\"x\")\n",
      "    \n",
      "    im.append(stamp)\n",
      "   # im.append(stamp)\n",
      "   # im.append(stamp2.getMaskedImage().getImage())\n",
      "    im.append(stamp2)\n",
      "    mos.append(im.makeMosaic())\n",
      "\n",
      "\n",
      "\n",
      "mosaicImage = mos.makeMosaic(frame=1, title=\"mosaic\")\n",
      "\n",
      "#ds9.setMaskTransparency(100)\n",
      "#ds9.mtv(mosaicImage)\n",
      "#ds9.mtv(subtractedExposure, frame=2)"
     ],
     "language": "python",
     "metadata": {},
     "outputs": [],
     "prompt_number": 326
    },
    {
     "cell_type": "code",
     "collapsed": false,
     "input": [
      "var = scienceExp.getMaskedImage().getVariance()\n",
      "\n",
      "\n",
      "\n",
      "#a = scienceExp.getMaskedImage().getImage().get(200,100)\n",
      "#b = var.get(200,100)\n",
      "#sc_exp = scienceExp.getMaskedImage().getImage()\n",
      "#sc_exp = sc_exp.Factory(sc_exp, True)"
     ],
     "language": "python",
     "metadata": {},
     "outputs": [],
     "prompt_number": 312
    },
    {
     "cell_type": "code",
     "collapsed": false,
     "input": [
      "ds9.mtv(sc_exp)"
     ],
     "language": "python",
     "metadata": {},
     "outputs": [],
     "prompt_number": 313
    },
    {
     "cell_type": "code",
     "collapsed": false,
     "input": [
      "ds9.mtv(mosaicImage)"
     ],
     "language": "python",
     "metadata": {},
     "outputs": [],
     "prompt_number": 232
    },
    {
     "cell_type": "code",
     "collapsed": false,
     "input": [],
     "language": "python",
     "metadata": {},
     "outputs": [],
     "prompt_number": 296
    },
    {
     "cell_type": "code",
     "collapsed": false,
     "input": [
      "mos2 = displayUtils.Mosaic()\n",
      "mos2.append(mosaicImage)\n",
      "mos2.append(mosaicImage)\n",
      "mosaicImage2 = mos2.makeMosaic(frame=1, title=\"mosaic\")\n",
      "\n",
      "ds9.mtv(mosaicImage2)\n"
     ],
     "language": "python",
     "metadata": {},
     "outputs": [],
     "prompt_number": 94
    },
    {
     "cell_type": "code",
     "collapsed": false,
     "input": [
      "ds9.mtv(subtractedExposure, frame=1)\n",
      "ds9.ds9Cmd(\"zoom to fit\")\n",
      "ds9.setMaskTransparency(100)\n",
      "with ds9.Buffering():\n",
      "    for source in diaSources:\n",
      "        xs = source.getFootprint().getCentroid().getX()-subtractedExposure.getX0()\n",
      "        ys = source.getFootprint().getCentroid().getY()-subtractedExposure.getY0()\n",
      "        ds9.dot('+', xs, ys, frame=1,size=10, ctype = ds9.RED)\n",
      "\n",
      "#ImageViewer.saveRemoteImage(\"subtractedExp.png\")"
     ],
     "language": "python",
     "metadata": {},
     "outputs": [],
     "prompt_number": 82
    },
    {
     "cell_type": "code",
     "collapsed": false,
     "input": [
      "subtractedExposure.Factory"
     ],
     "language": "python",
     "metadata": {},
     "outputs": [
      {
       "metadata": {},
       "output_type": "pyout",
       "prompt_number": 83,
       "text": [
        "<bound method ExposureF.Factory of <lsst.afw.image.imageLib.ExposureF; proxy of <Swig Object of type 'boost::shared_ptr< lsst::afw::image::Exposure< float,lsst::afw::image::MaskPixel,lsst::afw::image::VariancePixel > > *' at 0x4bf4b70> >>"
       ]
      }
     ],
     "prompt_number": 83
    },
    {
     "cell_type": "code",
     "collapsed": false,
     "input": [],
     "language": "python",
     "metadata": {},
     "outputs": [],
     "prompt_number": 40
    },
    {
     "cell_type": "code",
     "collapsed": false,
     "input": [],
     "language": "python",
     "metadata": {},
     "outputs": [],
     "prompt_number": 40
    },
    {
     "cell_type": "code",
     "collapsed": false,
     "input": [],
     "language": "python",
     "metadata": {},
     "outputs": [],
     "prompt_number": 40
    },
    {
     "cell_type": "code",
     "collapsed": false,
     "input": [],
     "language": "python",
     "metadata": {},
     "outputs": []
    }
   ],
   "metadata": {}
  }
 ]
}