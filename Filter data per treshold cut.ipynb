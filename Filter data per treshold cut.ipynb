{
 "cells": [
  {
   "cell_type": "code",
   "execution_count": 1,
   "metadata": {
    "collapsed": true
   },
   "outputs": [],
   "source": [
    "from astropy.io import ascii\n",
    "import glob\n",
    "import matplotlib.pyplot as plt\n",
    "import numpy as np\n",
    "from scipy import asarray as ar, exp\n",
    "from scipy.optimize import curve_fit, least_squares\n",
    "import re\n",
    "%matplotlib inline\n",
    "\n",
    "snls_colors = {\"sdssg\":\"darkgreen\", \"sdssi\":\"darkblue\", \"sdssr\":\"darkred\", \"sdssz\":\"purple\"}\n",
    "base_colors = {\"sdssg\":\"green\", \"sdssi\":\"blue\", \"sdssr\":\"red\", \"sdssz\":\"magenta\"}\n",
    "\n",
    "import astropy.coordinates as coord\n",
    "import astropy.units as u\n",
    "import Utils.DiaSourceTools as DSTools\n",
    "\n",
    "import multiprocessing\n",
    "\n",
    "import sncosmo"
   ]
  },
  {
   "cell_type": "code",
   "execution_count": 4,
   "metadata": {
    "collapsed": true
   },
   "outputs": [],
   "source": []
  },
  {
   "cell_type": "code",
   "execution_count": 38,
   "metadata": {
    "collapsed": true
   },
   "outputs": [],
   "source": [
    "def read_lc_files(obj):\n",
    "    table = ascii.read(obj)\n",
    "    return table"
   ]
  },
  {
   "cell_type": "code",
   "execution_count": 5,
   "metadata": {
    "collapsed": true
   },
   "outputs": [],
   "source": [
    "f = open('/renoir_data_02/jpreyes/lsst_data/sn_control/J_A+A_523_A7_table9.dat.txt','r')\n",
    "data_elems = f.read()\n",
    "#elems = re.findall('^(.*?D3.*?)\\\\|(.*?)\\\\|', data_elems, re.MULTILINE)\n",
    "elems = re.findall('^(05D3.*?)\\\\|(.*?)\\\\|(.*?)\\\\|(.*?)\\\\|(.*?)\\\\|(.*?)\\\\|(.*?)\\\\|', data_elems, re.MULTILINE)\n",
    "f.close()\n",
    "\n",
    "f = open('/renoir_data_02/jpreyes/lsst_data/sn_control/J_A+A_523_A7_table10.dat.txt','r')\n",
    "data = f.read()\n",
    "f.close()"
   ]
  },
  {
   "cell_type": "code",
   "execution_count": 6,
   "metadata": {},
   "outputs": [
    {
     "name": "stdout",
     "output_type": "stream",
     "text": [
      "total of sn:33\n"
     ]
    }
   ],
   "source": [
    "snls_array = []\n",
    "for sn in elems:\n",
    "\n",
    "        c = coord.SkyCoord(sn[1], unit=(u.hourangle, u.deg))\n",
    "\n",
    "        m = re.findall('^'+str(sn[0])+'\\\\|(r|g|z|i)\\\\|(.*?)\\\\|(.*?)\\\\|(.*?)$', data, re.MULTILINE)\n",
    "\n",
    "        snls_lc = DSTools.build_light_curve_from_snls_file_2(m, c, sn[0], sn[-1])\n",
    "\n",
    "        if len(m)>0:\n",
    "            #print sn[0], c.ra.deg, c.dec.deg\n",
    "\n",
    "            #plt.errorbar(snls_lc['mjd'], snls_lc['flux'], yerr=snls_lc['flux_error'], fmt='.', color='blue')\n",
    "            #show_multi_filter_light_curve(snls_lc, snls_colors)\n",
    "            plt.show()\n",
    "            snls_array.append(snls_lc)\n",
    "\n",
    "print(\"total of sn:\" + str(len(snls_array)))"
   ]
  },
  {
   "cell_type": "code",
   "execution_count": 63,
   "metadata": {
    "collapsed": true
   },
   "outputs": [],
   "source": [
    "def match_with_lc(slc):\n",
    "    matches = []\n",
    "    for lc in snls_array:\n",
    "        #print \"light curve\"\n",
    "        val = {\"ra\":lc[0][\"ra\"], \"dec\":lc[0][\"dec\"]}\n",
    "        #print np.rad2deg(lc[0][\"ra\"]), np.rad2deg(lc[0][\"dec\"])\n",
    "        \n",
    "\n",
    "        comp = {\"ra\":np.mean(slc[\"ra\"]), \"dec\":np.mean(slc[\"dec\"])}\n",
    "        if DSTools.source_distance(val, comp)<1:\n",
    "            #print \"match\"\n",
    "            matches.append((lc,slc))\n",
    "\n",
    "\n",
    "    #print len(matches)\n",
    "    return matches\n"
   ]
  },
  {
   "cell_type": "code",
   "execution_count": 67,
   "metadata": {},
   "outputs": [],
   "source": [
    "\n",
    "\n",
    "def get_total_matches(f, sigma):\n",
    "    lienObj = glob.glob(\"/datadec/cppm/jpreyes/CFHT_Production/light_curves_corrected_\"+f+\"_\"+str(float(sigma))+\"sigma/*.dat\")\n",
    "\n",
    "\n",
    "\n",
    "    try:\n",
    "        pool = multiprocessing.Pool()\n",
    "        res =  pool.map(read_lc_files, lienObj)\n",
    "    finally:\n",
    "        pool.close()\n",
    "\n",
    "    s_candidates = res\n",
    "    print len(s_candidates)\n",
    "\n",
    "    try:\n",
    "        pool = multiprocessing.Pool()\n",
    "        match_res =  pool.map(match_with_lc, s_candidates)\n",
    "    finally:\n",
    "        pool.close()\n",
    "\n",
    "    res_final = []\n",
    "    for r in match_res:\n",
    "        res_final +=r\n",
    "\n",
    "    count = 0\n",
    "    ids = []\n",
    "    for control, match in res_final:\n",
    "        if control[0][\"id\"] not in ids:\n",
    "            count+=1\n",
    "            ids.append(control[0][\"id\"])\n",
    "\n",
    "    print count\n",
    "    \n",
    "    return res_final"
   ]
  },
  {
   "cell_type": "code",
   "execution_count": 65,
   "metadata": {},
   "outputs": [
    {
     "name": "stdout",
     "output_type": "stream",
     "text": [
      "57413\n",
      "24\n",
      "55989\n",
      "24\n",
      "54009\n",
      "24\n",
      "50791\n",
      "24\n",
      "45707\n",
      "24\n"
     ]
    }
   ],
   "source": [
    "get_total_matches(\"i\",5)\n",
    "get_total_matches(\"i\",10)\n",
    "get_total_matches(\"i\",15)\n",
    "get_total_matches(\"i\",20)\n",
    "get_total_matches(\"i\",25)"
   ]
  },
  {
   "cell_type": "code",
   "execution_count": 68,
   "metadata": {},
   "outputs": [
    {
     "name": "stdout",
     "output_type": "stream",
     "text": [
      "18197\n",
      "10\n",
      "17917\n",
      "10\n",
      "17605\n",
      "10\n",
      "17270\n",
      "10\n",
      "16789\n",
      "10\n"
     ]
    }
   ],
   "source": [
    "get_total_matches(\"g\",5)\n",
    "get_total_matches(\"g\",10)\n",
    "get_total_matches(\"g\",15)\n",
    "get_total_matches(\"g\",20)\n",
    "get_total_matches(\"g\",25)"
   ]
  },
  {
   "cell_type": "code",
   "execution_count": 69,
   "metadata": {},
   "outputs": [
    {
     "name": "stdout",
     "output_type": "stream",
     "text": [
      "46382\n",
      "28\n",
      "157375\n",
      "25\n",
      "33792\n",
      "13\n"
     ]
    }
   ],
   "source": [
    "get_total_matches(\"r\",0)\n",
    "get_total_matches(\"i\",0)\n",
    "get_total_matches(\"g\",0)\n",
    "\n"
   ]
  },
  {
   "cell_type": "code",
   "execution_count": null,
   "metadata": {
    "collapsed": true
   },
   "outputs": [],
   "source": []
  },
  {
   "cell_type": "code",
   "execution_count": null,
   "metadata": {
    "collapsed": true
   },
   "outputs": [],
   "source": []
  },
  {
   "cell_type": "code",
   "execution_count": null,
   "metadata": {
    "collapsed": true
   },
   "outputs": [],
   "source": []
  }
 ],
 "metadata": {
  "kernelspec": {
   "display_name": "Python 2",
   "language": "python",
   "name": "python2"
  }
 },
 "nbformat": 4,
 "nbformat_minor": 2
}
