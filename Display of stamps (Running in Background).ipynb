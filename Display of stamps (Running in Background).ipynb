{
 "cells": [
  {
   "cell_type": "code",
   "execution_count": 1,
   "metadata": {
    "collapsed": false,
    "deletable": true,
    "editable": true
   },
   "outputs": [],
   "source": [
    "\n",
    "import ipympl\n",
    "\n",
    "from lsst.pipe.tasks.sourceClassification import SourceClassificationTask\n",
    "import lsst.afw.table as afwTable\n",
    "import lsst.afw.geom as afwGeom\n",
    "import glob\n",
    "import sncosmo\n",
    "import pickle\n",
    "from astropy.table import Table\n",
    "import re\n",
    "import astropy.coordinates as coord\n",
    "import astropy.units as u\n",
    "\n",
    "import numpy as np\n",
    "import glob\n",
    "\n",
    "import Utils.DiaSourceTools as DSTools\n",
    "import Utils.SourcePlotting as SP\n",
    "import matplotlib.pyplot as plt\n",
    "import matplotlib\n",
    "from IPython.display import clear_output"
   ]
  },
  {
   "cell_type": "code",
   "execution_count": 2,
   "metadata": {
    "collapsed": true,
    "deletable": true,
    "editable": true
   },
   "outputs": [],
   "source": [
    "season_catalogs = []\n",
    "visit_refs = []\n",
    "in_directory = \"season_catalogs/6sigma/\"\n",
    "c_files = glob.glob(in_directory+\"*.fits\")\n",
    "for c_f in c_files:\n",
    "    catalog = afwTable.SourceCatalog.readFits(c_f)\n",
    "    visit =  c_f.split(\"/\")[-1].split(\"-\")[0]\n",
    "    fil  = c_f.split(\"/\")[-1].split(\"-\")[-1].split(\".\")[0]\n",
    "    if fil == \"r\":\n",
    "        season_catalogs.append(catalog)\n",
    "        visit_refs.append(visit)\n",
    "        \n",
    "        "
   ]
  },
  {
   "cell_type": "code",
   "execution_count": 3,
   "metadata": {
    "collapsed": true,
    "deletable": true,
    "editable": true
   },
   "outputs": [],
   "source": [
    "def multi_match_catalogs(catalog_list, data_refs):\n",
    "    multi_matches = None\n",
    "\n",
    "    for catalog, data_ref in zip(catalog_list, data_refs):\n",
    "\n",
    "            if multi_matches is None and len(catalog)>0:\n",
    "                multi_matches = afwTable.MultiMatch(catalog[0].schema, {'visit':int}, radius=afwGeom.Angle(1./3600., afwGeom.degrees))\n",
    "            if multi_matches is not None:\n",
    "                multi_matches.add(catalog, {'visit':int(data_ref)})\n",
    "\n",
    "    results = multi_matches.finish(removeAmbiguous=False)  \n",
    "    return results\n",
    "\n"
   ]
  },
  {
   "cell_type": "code",
   "execution_count": 4,
   "metadata": {
    "collapsed": false,
    "deletable": true,
    "editable": true
   },
   "outputs": [
    {
     "name": "stdout",
     "output_type": "stream",
     "text": [
      "188202\n"
     ]
    }
   ],
   "source": [
    "results = multi_match_catalogs(season_catalogs, visit_refs)\n",
    "print len(results)"
   ]
  },
  {
   "cell_type": "code",
   "execution_count": 10,
   "metadata": {
    "collapsed": false,
    "deletable": true,
    "editable": true
   },
   "outputs": [
    {
     "name": "stdout",
     "output_type": "stream",
     "text": [
      "57598\n"
     ]
    }
   ],
   "source": [
    "light_curves=DSTools.get_light_curves_from_multimatch_results2(results)\n",
    "print len(light_curves)"
   ]
  },
  {
   "cell_type": "code",
   "execution_count": 11,
   "metadata": {
    "collapsed": false,
    "deletable": true,
    "editable": true
   },
   "outputs": [
    {
     "name": "stdout",
     "output_type": "stream",
     "text": [
      "57598\n"
     ]
    }
   ],
   "source": [
    "t_light_curves = DSTools.threshold_light_curves(light_curves, 1)\n",
    "print len(t_light_curves)"
   ]
  },
  {
   "cell_type": "code",
   "execution_count": 12,
   "metadata": {
    "collapsed": false
   },
   "outputs": [
    {
     "data": {
      "text/plain": [
       "[<lsst.afw.table.tableLib.SourceRecord; proxy of <Swig Object of type 'boost::shared_ptr< lsst::afw::table::SourceRecord > *' at 0x7f9814164720> >,\n",
       " <lsst.afw.table.tableLib.SourceRecord; proxy of <Swig Object of type 'boost::shared_ptr< lsst::afw::table::SourceRecord > *' at 0x7f98141b0db0> >,\n",
       " <lsst.afw.table.tableLib.SourceRecord; proxy of <Swig Object of type 'boost::shared_ptr< lsst::afw::table::SourceRecord > *' at 0x7f98141b0d80> >,\n",
       " <lsst.afw.table.tableLib.SourceRecord; proxy of <Swig Object of type 'boost::shared_ptr< lsst::afw::table::SourceRecord > *' at 0x7f9814164690> >,\n",
       " <lsst.afw.table.tableLib.SourceRecord; proxy of <Swig Object of type 'boost::shared_ptr< lsst::afw::table::SourceRecord > *' at 0x7f98141647e0> >,\n",
       " <lsst.afw.table.tableLib.SourceRecord; proxy of <Swig Object of type 'boost::shared_ptr< lsst::afw::table::SourceRecord > *' at 0x7f9814164840> >,\n",
       " <lsst.afw.table.tableLib.SourceRecord; proxy of <Swig Object of type 'boost::shared_ptr< lsst::afw::table::SourceRecord > *' at 0x7f98141648d0> >,\n",
       " <lsst.afw.table.tableLib.SourceRecord; proxy of <Swig Object of type 'boost::shared_ptr< lsst::afw::table::SourceRecord > *' at 0x7f9814164900> >,\n",
       " <lsst.afw.table.tableLib.SourceRecord; proxy of <Swig Object of type 'boost::shared_ptr< lsst::afw::table::SourceRecord > *' at 0x7f9814164930> >,\n",
       " <lsst.afw.table.tableLib.SourceRecord; proxy of <Swig Object of type 'boost::shared_ptr< lsst::afw::table::SourceRecord > *' at 0x7f9814164960> >,\n",
       " <lsst.afw.table.tableLib.SourceRecord; proxy of <Swig Object of type 'boost::shared_ptr< lsst::afw::table::SourceRecord > *' at 0x7f9814164990> >,\n",
       " <lsst.afw.table.tableLib.SourceRecord; proxy of <Swig Object of type 'boost::shared_ptr< lsst::afw::table::SourceRecord > *' at 0x7f98141649c0> >,\n",
       " <lsst.afw.table.tableLib.SourceRecord; proxy of <Swig Object of type 'boost::shared_ptr< lsst::afw::table::SourceRecord > *' at 0x7f98141649f0> >,\n",
       " <lsst.afw.table.tableLib.SourceRecord; proxy of <Swig Object of type 'boost::shared_ptr< lsst::afw::table::SourceRecord > *' at 0x7f9814164a20> >,\n",
       " <lsst.afw.table.tableLib.SourceRecord; proxy of <Swig Object of type 'boost::shared_ptr< lsst::afw::table::SourceRecord > *' at 0x7f9814164a50> >,\n",
       " <lsst.afw.table.tableLib.SourceRecord; proxy of <Swig Object of type 'boost::shared_ptr< lsst::afw::table::SourceRecord > *' at 0x7f9814164a80> >,\n",
       " <lsst.afw.table.tableLib.SourceRecord; proxy of <Swig Object of type 'boost::shared_ptr< lsst::afw::table::SourceRecord > *' at 0x7f9814164ab0> >,\n",
       " <lsst.afw.table.tableLib.SourceRecord; proxy of <Swig Object of type 'boost::shared_ptr< lsst::afw::table::SourceRecord > *' at 0x7f9814164ae0> >,\n",
       " <lsst.afw.table.tableLib.SourceRecord; proxy of <Swig Object of type 'boost::shared_ptr< lsst::afw::table::SourceRecord > *' at 0x7f9814164b10> >,\n",
       " <lsst.afw.table.tableLib.SourceRecord; proxy of <Swig Object of type 'boost::shared_ptr< lsst::afw::table::SourceRecord > *' at 0x7f9814164b40> >,\n",
       " <lsst.afw.table.tableLib.SourceRecord; proxy of <Swig Object of type 'boost::shared_ptr< lsst::afw::table::SourceRecord > *' at 0x7f9814164b70> >,\n",
       " <lsst.afw.table.tableLib.SourceRecord; proxy of <Swig Object of type 'boost::shared_ptr< lsst::afw::table::SourceRecord > *' at 0x7f9814164ba0> >,\n",
       " <lsst.afw.table.tableLib.SourceRecord; proxy of <Swig Object of type 'boost::shared_ptr< lsst::afw::table::SourceRecord > *' at 0x7f9814164bd0> >,\n",
       " <lsst.afw.table.tableLib.SourceRecord; proxy of <Swig Object of type 'boost::shared_ptr< lsst::afw::table::SourceRecord > *' at 0x7f9814164c00> >,\n",
       " <lsst.afw.table.tableLib.SourceRecord; proxy of <Swig Object of type 'boost::shared_ptr< lsst::afw::table::SourceRecord > *' at 0x7f9814164c30> >,\n",
       " <lsst.afw.table.tableLib.SourceRecord; proxy of <Swig Object of type 'boost::shared_ptr< lsst::afw::table::SourceRecord > *' at 0x7f9814164c60> >,\n",
       " <lsst.afw.table.tableLib.SourceRecord; proxy of <Swig Object of type 'boost::shared_ptr< lsst::afw::table::SourceRecord > *' at 0x7f9814164c90> >,\n",
       " <lsst.afw.table.tableLib.SourceRecord; proxy of <Swig Object of type 'boost::shared_ptr< lsst::afw::table::SourceRecord > *' at 0x7f9814164cc0> >,\n",
       " <lsst.afw.table.tableLib.SourceRecord; proxy of <Swig Object of type 'boost::shared_ptr< lsst::afw::table::SourceRecord > *' at 0x7f9814164cf0> >,\n",
       " <lsst.afw.table.tableLib.SourceRecord; proxy of <Swig Object of type 'boost::shared_ptr< lsst::afw::table::SourceRecord > *' at 0x7f9814164d20> >,\n",
       " <lsst.afw.table.tableLib.SourceRecord; proxy of <Swig Object of type 'boost::shared_ptr< lsst::afw::table::SourceRecord > *' at 0x7f9814164d50> >,\n",
       " <lsst.afw.table.tableLib.SourceRecord; proxy of <Swig Object of type 'boost::shared_ptr< lsst::afw::table::SourceRecord > *' at 0x7f9814164d80> >,\n",
       " <lsst.afw.table.tableLib.SourceRecord; proxy of <Swig Object of type 'boost::shared_ptr< lsst::afw::table::SourceRecord > *' at 0x7f9814164db0> >,\n",
       " <lsst.afw.table.tableLib.SourceRecord; proxy of <Swig Object of type 'boost::shared_ptr< lsst::afw::table::SourceRecord > *' at 0x7f9814164de0> >,\n",
       " <lsst.afw.table.tableLib.SourceRecord; proxy of <Swig Object of type 'boost::shared_ptr< lsst::afw::table::SourceRecord > *' at 0x7f9814164e10> >,\n",
       " <lsst.afw.table.tableLib.SourceRecord; proxy of <Swig Object of type 'boost::shared_ptr< lsst::afw::table::SourceRecord > *' at 0x7f9814164e40> >,\n",
       " <lsst.afw.table.tableLib.SourceRecord; proxy of <Swig Object of type 'boost::shared_ptr< lsst::afw::table::SourceRecord > *' at 0x7f9814164e70> >,\n",
       " <lsst.afw.table.tableLib.SourceRecord; proxy of <Swig Object of type 'boost::shared_ptr< lsst::afw::table::SourceRecord > *' at 0x7f9814164ea0> >,\n",
       " <lsst.afw.table.tableLib.SourceRecord; proxy of <Swig Object of type 'boost::shared_ptr< lsst::afw::table::SourceRecord > *' at 0x7f9814164ed0> >,\n",
       " <lsst.afw.table.tableLib.SourceRecord; proxy of <Swig Object of type 'boost::shared_ptr< lsst::afw::table::SourceRecord > *' at 0x7f9814164f00> >,\n",
       " <lsst.afw.table.tableLib.SourceRecord; proxy of <Swig Object of type 'boost::shared_ptr< lsst::afw::table::SourceRecord > *' at 0x7f9814164f30> >,\n",
       " <lsst.afw.table.tableLib.SourceRecord; proxy of <Swig Object of type 'boost::shared_ptr< lsst::afw::table::SourceRecord > *' at 0x7f98140f2330> >,\n",
       " <lsst.afw.table.tableLib.SourceRecord; proxy of <Swig Object of type 'boost::shared_ptr< lsst::afw::table::SourceRecord > *' at 0x7f9814164f90> >,\n",
       " <lsst.afw.table.tableLib.SourceRecord; proxy of <Swig Object of type 'boost::shared_ptr< lsst::afw::table::SourceRecord > *' at 0x7f9814164870> >,\n",
       " <lsst.afw.table.tableLib.SourceRecord; proxy of <Swig Object of type 'boost::shared_ptr< lsst::afw::table::SourceRecord > *' at 0x7f9814164f60> >,\n",
       " <lsst.afw.table.tableLib.SourceRecord; proxy of <Swig Object of type 'boost::shared_ptr< lsst::afw::table::SourceRecord > *' at 0x7f9814164750> >,\n",
       " <lsst.afw.table.tableLib.SourceRecord; proxy of <Swig Object of type 'boost::shared_ptr< lsst::afw::table::SourceRecord > *' at 0x7f98140f2030> >,\n",
       " <lsst.afw.table.tableLib.SourceRecord; proxy of <Swig Object of type 'boost::shared_ptr< lsst::afw::table::SourceRecord > *' at 0x7f98141648a0> >,\n",
       " <lsst.afw.table.tableLib.SourceRecord; proxy of <Swig Object of type 'boost::shared_ptr< lsst::afw::table::SourceRecord > *' at 0x7f9820c42120> >,\n",
       " <lsst.afw.table.tableLib.SourceRecord; proxy of <Swig Object of type 'boost::shared_ptr< lsst::afw::table::SourceRecord > *' at 0x7f9820c420f0> >,\n",
       " <lsst.afw.table.tableLib.SourceRecord; proxy of <Swig Object of type 'boost::shared_ptr< lsst::afw::table::SourceRecord > *' at 0x7f9820c429c0> >,\n",
       " <lsst.afw.table.tableLib.SourceRecord; proxy of <Swig Object of type 'boost::shared_ptr< lsst::afw::table::SourceRecord > *' at 0x7f9820c429f0> >,\n",
       " <lsst.afw.table.tableLib.SourceRecord; proxy of <Swig Object of type 'boost::shared_ptr< lsst::afw::table::SourceRecord > *' at 0x7f9820c42a20> >,\n",
       " <lsst.afw.table.tableLib.SourceRecord; proxy of <Swig Object of type 'boost::shared_ptr< lsst::afw::table::SourceRecord > *' at 0x7f9820c42a50> >,\n",
       " <lsst.afw.table.tableLib.SourceRecord; proxy of <Swig Object of type 'boost::shared_ptr< lsst::afw::table::SourceRecord > *' at 0x7f9820c42a80> >,\n",
       " <lsst.afw.table.tableLib.SourceRecord; proxy of <Swig Object of type 'boost::shared_ptr< lsst::afw::table::SourceRecord > *' at 0x7f9820c42ab0> >,\n",
       " <lsst.afw.table.tableLib.SourceRecord; proxy of <Swig Object of type 'boost::shared_ptr< lsst::afw::table::SourceRecord > *' at 0x7f9820c42ae0> >,\n",
       " <lsst.afw.table.tableLib.SourceRecord; proxy of <Swig Object of type 'boost::shared_ptr< lsst::afw::table::SourceRecord > *' at 0x7f9820c42b10> >,\n",
       " <lsst.afw.table.tableLib.SourceRecord; proxy of <Swig Object of type 'boost::shared_ptr< lsst::afw::table::SourceRecord > *' at 0x7f9820c42b40> >,\n",
       " <lsst.afw.table.tableLib.SourceRecord; proxy of <Swig Object of type 'boost::shared_ptr< lsst::afw::table::SourceRecord > *' at 0x7f9820c42b70> >,\n",
       " <lsst.afw.table.tableLib.SourceRecord; proxy of <Swig Object of type 'boost::shared_ptr< lsst::afw::table::SourceRecord > *' at 0x7f9820c42ba0> >,\n",
       " <lsst.afw.table.tableLib.SourceRecord; proxy of <Swig Object of type 'boost::shared_ptr< lsst::afw::table::SourceRecord > *' at 0x7f9820c42bd0> >,\n",
       " <lsst.afw.table.tableLib.SourceRecord; proxy of <Swig Object of type 'boost::shared_ptr< lsst::afw::table::SourceRecord > *' at 0x7f9820c42c00> >,\n",
       " <lsst.afw.table.tableLib.SourceRecord; proxy of <Swig Object of type 'boost::shared_ptr< lsst::afw::table::SourceRecord > *' at 0x7f9820c42c30> >,\n",
       " <lsst.afw.table.tableLib.SourceRecord; proxy of <Swig Object of type 'boost::shared_ptr< lsst::afw::table::SourceRecord > *' at 0x7f9820c42c60> >,\n",
       " <lsst.afw.table.tableLib.SourceRecord; proxy of <Swig Object of type 'boost::shared_ptr< lsst::afw::table::SourceRecord > *' at 0x7f9820c42c90> >,\n",
       " <lsst.afw.table.tableLib.SourceRecord; proxy of <Swig Object of type 'boost::shared_ptr< lsst::afw::table::SourceRecord > *' at 0x7f9820c42cc0> >,\n",
       " <lsst.afw.table.tableLib.SourceRecord; proxy of <Swig Object of type 'boost::shared_ptr< lsst::afw::table::SourceRecord > *' at 0x7f9820c42cf0> >,\n",
       " <lsst.afw.table.tableLib.SourceRecord; proxy of <Swig Object of type 'boost::shared_ptr< lsst::afw::table::SourceRecord > *' at 0x7f9820c42d20> >,\n",
       " <lsst.afw.table.tableLib.SourceRecord; proxy of <Swig Object of type 'boost::shared_ptr< lsst::afw::table::SourceRecord > *' at 0x7f9820c42d50> >,\n",
       " <lsst.afw.table.tableLib.SourceRecord; proxy of <Swig Object of type 'boost::shared_ptr< lsst::afw::table::SourceRecord > *' at 0x7f9820c42d80> >,\n",
       " <lsst.afw.table.tableLib.SourceRecord; proxy of <Swig Object of type 'boost::shared_ptr< lsst::afw::table::SourceRecord > *' at 0x7f9820c42db0> >,\n",
       " <lsst.afw.table.tableLib.SourceRecord; proxy of <Swig Object of type 'boost::shared_ptr< lsst::afw::table::SourceRecord > *' at 0x7f9820c42de0> >,\n",
       " <lsst.afw.table.tableLib.SourceRecord; proxy of <Swig Object of type 'boost::shared_ptr< lsst::afw::table::SourceRecord > *' at 0x7f9820c42e10> >,\n",
       " <lsst.afw.table.tableLib.SourceRecord; proxy of <Swig Object of type 'boost::shared_ptr< lsst::afw::table::SourceRecord > *' at 0x7f9820c42e40> >,\n",
       " <lsst.afw.table.tableLib.SourceRecord; proxy of <Swig Object of type 'boost::shared_ptr< lsst::afw::table::SourceRecord > *' at 0x7f9820c42e70> >,\n",
       " <lsst.afw.table.tableLib.SourceRecord; proxy of <Swig Object of type 'boost::shared_ptr< lsst::afw::table::SourceRecord > *' at 0x7f9820c42ea0> >,\n",
       " <lsst.afw.table.tableLib.SourceRecord; proxy of <Swig Object of type 'boost::shared_ptr< lsst::afw::table::SourceRecord > *' at 0x7f9820c42ed0> >,\n",
       " <lsst.afw.table.tableLib.SourceRecord; proxy of <Swig Object of type 'boost::shared_ptr< lsst::afw::table::SourceRecord > *' at 0x7f9820c42f00> >,\n",
       " <lsst.afw.table.tableLib.SourceRecord; proxy of <Swig Object of type 'boost::shared_ptr< lsst::afw::table::SourceRecord > *' at 0x7f9820c42f30> >,\n",
       " <lsst.afw.table.tableLib.SourceRecord; proxy of <Swig Object of type 'boost::shared_ptr< lsst::afw::table::SourceRecord > *' at 0x7f9820c42f60> >,\n",
       " <lsst.afw.table.tableLib.SourceRecord; proxy of <Swig Object of type 'boost::shared_ptr< lsst::afw::table::SourceRecord > *' at 0x7f9820c42f90> >,\n",
       " <lsst.afw.table.tableLib.SourceRecord; proxy of <Swig Object of type 'boost::shared_ptr< lsst::afw::table::SourceRecord > *' at 0x7f9820c42fc0> >]"
      ]
     },
     "execution_count": 12,
     "metadata": {},
     "output_type": "execute_result"
    }
   ],
   "source": [
    "light_curves[0]"
   ]
  },
  {
   "cell_type": "code",
   "execution_count": 14,
   "metadata": {
    "collapsed": false,
    "deletable": true,
    "editable": true
   },
   "outputs": [],
   "source": [
    "lcs2 = []\n",
    "for t_light_curve in t_light_curves:\n",
    "    lcs2.append(DSTools.build_lightcurve(t_light_curve, \"base_CircularApertureFlux_4_5_flux\"))"
   ]
  },
  {
   "cell_type": "code",
   "execution_count": 20,
   "metadata": {
    "collapsed": false
   },
   "outputs": [
    {
     "data": {
      "text/plain": [
       "0"
      ]
     },
     "execution_count": 20,
     "metadata": {},
     "output_type": "execute_result"
    }
   ],
   "source": [
    "len(lcs1)"
   ]
  },
  {
   "cell_type": "code",
   "execution_count": 11,
   "metadata": {
    "collapsed": false,
    "deletable": true,
    "editable": true
   },
   "outputs": [],
   "source": [
    "import re\n",
    "import astropy.coordinates as coord\n",
    "import astropy.units as u\n",
    "\n",
    "filter='r'\n",
    "\n",
    "f = open('/renoir_data_02/jpreyes/lsst_data/sn_control/J_A+A_523_A7_table9.dat.txt','r')\n",
    "data_elems = f.read()\n",
    "elems = re.findall('^(06D3.*?)\\\\|(.*?)\\\\|', data_elems, re.MULTILINE)\n",
    "\n",
    "f = open('/renoir_data_02/jpreyes/lsst_data/sn_control/J_A+A_523_A7_table10.dat.txt','r')\n",
    "data = f.read()\n",
    "\n",
    "snls_array = []\n",
    "for sn in elems:\n",
    "    c = coord.SkyCoord(sn[-1], unit=(u.hourangle, u.deg))\n",
    "    \n",
    "    m = re.findall('^'+str(sn[0])+'\\\\|('+filter+')\\\\|(.*?)\\\\|(.*?)\\\\|(.*?)$', data, re.MULTILINE)\n",
    "\n",
    "    snls_lc = DSTools.build_light_curve_from_snls_file(m, c)\n",
    "    plt.errorbar(snls_lc['mjd'], snls_lc['flux'], yerr=snls_lc['flux_error'], fmt='.', color='blue')\n",
    "    snls_array.append(snls_lc)\n",
    "    plt.show()"
   ]
  },
  {
   "cell_type": "code",
   "execution_count": null,
   "metadata": {
    "collapsed": false,
    "deletable": true,
    "editable": true
   },
   "outputs": [],
   "source": [
    "matches = DSTools.match_control_group(lcs,snls_array)\n",
    "float(len(matches))/float(len(snls_array))"
   ]
  },
  {
   "cell_type": "code",
   "execution_count": 22,
   "metadata": {
    "collapsed": true,
    "deletable": true,
    "editable": true
   },
   "outputs": [],
   "source": [
    "import lsst.daf.persistence as dafPersist\n",
    "\n",
    "DATADIR=\"/renoir_data_02/jpreyes/lsst_data/CFHTLS_master/\"\n",
    "butler = dafPersist.Butler(DATADIR+\"/output\") "
   ]
  },
  {
   "cell_type": "code",
   "execution_count": null,
   "metadata": {
    "collapsed": false
   },
   "outputs": [
    {
     "name": "stdout",
     "output_type": "stream",
     "text": [
      "\n",
      "  File \"src/image/Image.cc\", line 92, in static lsst::afw::image::ImageBase<PixelT>::_view_t lsst::afw::image::ImageBase<PixelT>::_makeSubView(const Extent2I&, const Extent2I&, const _view_t&) [with PixelT = float; lsst::afw::image::ImageBase<PixelT>::_view_t = boost::gil::image_view<boost::gil::memory_based_2d_locator<boost::gil::memory_based_step_iterator<boost::gil::pixel<float, boost::gil::layout<boost::mpl::vector1<boost::gil::gray_color_t> > >*> > >; lsst::afw::geom::Extent2I = lsst::afw::geom::Extent<int, 2>]\n",
      "    Box2I(Point2I(-3,688),Extent2I(31,31)) doesn't fit in image 2048x4612 {0}\n",
      "lsst::pex::exceptions::LengthError: 'Box2I(Point2I(-3,688),Extent2I(31,31)) doesn't fit in image 2048x4612'\n",
      "\n",
      "\n",
      "  File \"src/image/Image.cc\", line 92, in static lsst::afw::image::ImageBase<PixelT>::_view_t lsst::afw::image::ImageBase<PixelT>::_makeSubView(const Extent2I&, const Extent2I&, const _view_t&) [with PixelT = float; lsst::afw::image::ImageBase<PixelT>::_view_t = boost::gil::image_view<boost::gil::memory_based_2d_locator<boost::gil::memory_based_step_iterator<boost::gil::pixel<float, boost::gil::layout<boost::mpl::vector1<boost::gil::gray_color_t> > >*> > >; lsst::afw::geom::Extent2I = lsst::afw::geom::Extent<int, 2>]\n",
      "    Box2I(Point2I(292,-3),Extent2I(31,31)) doesn't fit in image 2048x4612 {0}\n",
      "lsst::pex::exceptions::LengthError: 'Box2I(Point2I(292,-3),Extent2I(31,31)) doesn't fit in image 2048x4612'\n",
      "\n",
      "\n",
      "  File \"src/image/Image.cc\", line 92, in static lsst::afw::image::ImageBase<PixelT>::_view_t lsst::afw::image::ImageBase<PixelT>::_makeSubView(const Extent2I&, const Extent2I&, const _view_t&) [with PixelT = float; lsst::afw::image::ImageBase<PixelT>::_view_t = boost::gil::image_view<boost::gil::memory_based_2d_locator<boost::gil::memory_based_step_iterator<boost::gil::pixel<float, boost::gil::layout<boost::mpl::vector1<boost::gil::gray_color_t> > >*> > >; lsst::afw::geom::Extent2I = lsst::afw::geom::Extent<int, 2>]\n",
      "    Box2I(Point2I(-14359,17741),Extent2I(31,31)) doesn't fit in image 2048x4612 {0}\n",
      "lsst::pex::exceptions::LengthError: 'Box2I(Point2I(-14359,17741),Extent2I(31,31)) doesn't fit in image 2048x4612'\n",
      "\n",
      "\n",
      "  File \"src/image/Image.cc\", line 92, in static lsst::afw::image::ImageBase<PixelT>::_view_t lsst::afw::image::ImageBase<PixelT>::_makeSubView(const Extent2I&, const Extent2I&, const _view_t&) [with PixelT = float; lsst::afw::image::ImageBase<PixelT>::_view_t = boost::gil::image_view<boost::gil::memory_based_2d_locator<boost::gil::memory_based_step_iterator<boost::gil::pixel<float, boost::gil::layout<boost::mpl::vector1<boost::gil::gray_color_t> > >*> > >; lsst::afw::geom::Extent2I = lsst::afw::geom::Extent<int, 2>]\n",
      "    Box2I(Point2I(-15428,16810),Extent2I(31,31)) doesn't fit in image 2048x4612 {0}\n",
      "lsst::pex::exceptions::LengthError: 'Box2I(Point2I(-15428,16810),Extent2I(31,31)) doesn't fit in image 2048x4612'\n",
      "\n",
      "\n",
      "  File \"src/image/Image.cc\", line 92, in static lsst::afw::image::ImageBase<PixelT>::_view_t lsst::afw::image::ImageBase<PixelT>::_makeSubView(const Extent2I&, const Extent2I&, const _view_t&) [with PixelT = float; lsst::afw::image::ImageBase<PixelT>::_view_t = boost::gil::image_view<boost::gil::memory_based_2d_locator<boost::gil::memory_based_step_iterator<boost::gil::pixel<float, boost::gil::layout<boost::mpl::vector1<boost::gil::gray_color_t> > >*> > >; lsst::afw::geom::Extent2I = lsst::afw::geom::Extent<int, 2>]\n",
      "    Box2I(Point2I(-13904,18154),Extent2I(31,31)) doesn't fit in image 2048x4612 {0}\n",
      "lsst::pex::exceptions::LengthError: 'Box2I(Point2I(-13904,18154),Extent2I(31,31)) doesn't fit in image 2048x4612'\n",
      "\n",
      "\n",
      "  File \"src/image/Image.cc\", line 92, in static lsst::afw::image::ImageBase<PixelT>::_view_t lsst::afw::image::ImageBase<PixelT>::_makeSubView(const Extent2I&, const Extent2I&, const _view_t&) [with PixelT = float; lsst::afw::image::ImageBase<PixelT>::_view_t = boost::gil::image_view<boost::gil::memory_based_2d_locator<boost::gil::memory_based_step_iterator<boost::gil::pixel<float, boost::gil::layout<boost::mpl::vector1<boost::gil::gray_color_t> > >*> > >; lsst::afw::geom::Extent2I = lsst::afw::geom::Extent<int, 2>]\n",
      "    Box2I(Point2I(115,-5),Extent2I(31,31)) doesn't fit in image 2048x4612 {0}\n",
      "lsst::pex::exceptions::LengthError: 'Box2I(Point2I(115,-5),Extent2I(31,31)) doesn't fit in image 2048x4612'\n",
      "\n",
      "\n",
      "  File \"src/image/Image.cc\", line 92, in static lsst::afw::image::ImageBase<PixelT>::_view_t lsst::afw::image::ImageBase<PixelT>::_makeSubView(const Extent2I&, const Extent2I&, const _view_t&) [with PixelT = float; lsst::afw::image::ImageBase<PixelT>::_view_t = boost::gil::image_view<boost::gil::memory_based_2d_locator<boost::gil::memory_based_step_iterator<boost::gil::pixel<float, boost::gil::layout<boost::mpl::vector1<boost::gil::gray_color_t> > >*> > >; lsst::afw::geom::Extent2I = lsst::afw::geom::Extent<int, 2>]\n",
      "    Box2I(Point2I(-1,1213),Extent2I(31,31)) doesn't fit in image 2048x4612 {0}\n",
      "lsst::pex::exceptions::LengthError: 'Box2I(Point2I(-1,1213),Extent2I(31,31)) doesn't fit in image 2048x4612'\n",
      "\n",
      "\n",
      "  File \"src/image/Image.cc\", line 92, in static lsst::afw::image::ImageBase<PixelT>::_view_t lsst::afw::image::ImageBase<PixelT>::_makeSubView(const Extent2I&, const Extent2I&, const _view_t&) [with PixelT = float; lsst::afw::image::ImageBase<PixelT>::_view_t = boost::gil::image_view<boost::gil::memory_based_2d_locator<boost::gil::memory_based_step_iterator<boost::gil::pixel<float, boost::gil::layout<boost::mpl::vector1<boost::gil::gray_color_t> > >*> > >; lsst::afw::geom::Extent2I = lsst::afw::geom::Extent<int, 2>]\n",
      "    Box2I(Point2I(-4,256),Extent2I(31,31)) doesn't fit in image 2048x4612 {0}\n",
      "lsst::pex::exceptions::LengthError: 'Box2I(Point2I(-4,256),Extent2I(31,31)) doesn't fit in image 2048x4612'\n",
      "\n",
      "\n",
      "  File \"src/image/Image.cc\", line 92, in static lsst::afw::image::ImageBase<PixelT>::_view_t lsst::afw::image::ImageBase<PixelT>::_makeSubView(const Extent2I&, const Extent2I&, const _view_t&) [with PixelT = float; lsst::afw::image::ImageBase<PixelT>::_view_t = boost::gil::image_view<boost::gil::memory_based_2d_locator<boost::gil::memory_based_step_iterator<boost::gil::pixel<float, boost::gil::layout<boost::mpl::vector1<boost::gil::gray_color_t> > >*> > >; lsst::afw::geom::Extent2I = lsst::afw::geom::Extent<int, 2>]\n",
      "    Box2I(Point2I(-14426,17952),Extent2I(31,31)) doesn't fit in image 2048x4612 {0}\n",
      "lsst::pex::exceptions::LengthError: 'Box2I(Point2I(-14426,17952),Extent2I(31,31)) doesn't fit in image 2048x4612'\n",
      "\n",
      "\n",
      "  File \"src/image/Image.cc\", line 92, in static lsst::afw::image::ImageBase<PixelT>::_view_t lsst::afw::image::ImageBase<PixelT>::_makeSubView(const Extent2I&, const Extent2I&, const _view_t&) [with PixelT = float; lsst::afw::image::ImageBase<PixelT>::_view_t = boost::gil::image_view<boost::gil::memory_based_2d_locator<boost::gil::memory_based_step_iterator<boost::gil::pixel<float, boost::gil::layout<boost::mpl::vector1<boost::gil::gray_color_t> > >*> > >; lsst::afw::geom::Extent2I = lsst::afw::geom::Extent<int, 2>]\n",
      "    Box2I(Point2I(-13834,18112),Extent2I(31,31)) doesn't fit in image 2048x4612 {0}\n",
      "lsst::pex::exceptions::LengthError: 'Box2I(Point2I(-13834,18112),Extent2I(31,31)) doesn't fit in image 2048x4612'\n",
      "\n",
      "\n",
      "  File \"src/image/Image.cc\", line 92, in static lsst::afw::image::ImageBase<PixelT>::_view_t lsst::afw::image::ImageBase<PixelT>::_makeSubView(const Extent2I&, const Extent2I&, const _view_t&) [with PixelT = float; lsst::afw::image::ImageBase<PixelT>::_view_t = boost::gil::image_view<boost::gil::memory_based_2d_locator<boost::gil::memory_based_step_iterator<boost::gil::pixel<float, boost::gil::layout<boost::mpl::vector1<boost::gil::gray_color_t> > >*> > >; lsst::afw::geom::Extent2I = lsst::afw::geom::Extent<int, 2>]\n",
      "    Box2I(Point2I(-10,1486),Extent2I(31,31)) doesn't fit in image 2048x4612 {0}\n",
      "lsst::pex::exceptions::LengthError: 'Box2I(Point2I(-10,1486),Extent2I(31,31)) doesn't fit in image 2048x4612'\n",
      "\n",
      "\n",
      "  File \"src/image/Image.cc\", line 92, in static lsst::afw::image::ImageBase<PixelT>::_view_t lsst::afw::image::ImageBase<PixelT>::_makeSubView(const Extent2I&, const Extent2I&, const _view_t&) [with PixelT = float; lsst::afw::image::ImageBase<PixelT>::_view_t = boost::gil::image_view<boost::gil::memory_based_2d_locator<boost::gil::memory_based_step_iterator<boost::gil::pixel<float, boost::gil::layout<boost::mpl::vector1<boost::gil::gray_color_t> > >*> > >; lsst::afw::geom::Extent2I = lsst::afw::geom::Extent<int, 2>]\n",
      "    Box2I(Point2I(-14317,18006),Extent2I(31,31)) doesn't fit in image 2048x4612 {0}\n",
      "lsst::pex::exceptions::LengthError: 'Box2I(Point2I(-14317,18006),Extent2I(31,31)) doesn't fit in image 2048x4612'\n",
      "\n",
      "\n",
      "  File \"src/image/Image.cc\", line 92, in static lsst::afw::image::ImageBase<PixelT>::_view_t lsst::afw::image::ImageBase<PixelT>::_makeSubView(const Extent2I&, const Extent2I&, const _view_t&) [with PixelT = float; lsst::afw::image::ImageBase<PixelT>::_view_t = boost::gil::image_view<boost::gil::memory_based_2d_locator<boost::gil::memory_based_step_iterator<boost::gil::pixel<float, boost::gil::layout<boost::mpl::vector1<boost::gil::gray_color_t> > >*> > >; lsst::afw::geom::Extent2I = lsst::afw::geom::Extent<int, 2>]\n",
      "    Box2I(Point2I(-13431,18319),Extent2I(31,31)) doesn't fit in image 2048x4612 {0}\n",
      "lsst::pex::exceptions::LengthError: 'Box2I(Point2I(-13431,18319),Extent2I(31,31)) doesn't fit in image 2048x4612'\n",
      "\n",
      "\n",
      "  File \"src/image/Image.cc\", line 92, in static lsst::afw::image::ImageBase<PixelT>::_view_t lsst::afw::image::ImageBase<PixelT>::_makeSubView(const Extent2I&, const Extent2I&, const _view_t&) [with PixelT = float; lsst::afw::image::ImageBase<PixelT>::_view_t = boost::gil::image_view<boost::gil::memory_based_2d_locator<boost::gil::memory_based_step_iterator<boost::gil::pixel<float, boost::gil::layout<boost::mpl::vector1<boost::gil::gray_color_t> > >*> > >; lsst::afw::geom::Extent2I = lsst::afw::geom::Extent<int, 2>]\n",
      "    Box2I(Point2I(-13409,19024),Extent2I(31,31)) doesn't fit in image 2048x4612 {0}\n",
      "lsst::pex::exceptions::LengthError: 'Box2I(Point2I(-13409,19024),Extent2I(31,31)) doesn't fit in image 2048x4612'\n",
      "\n",
      "\n",
      "  File \"src/image/Image.cc\", line 92, in static lsst::afw::image::ImageBase<PixelT>::_view_t lsst::afw::image::ImageBase<PixelT>::_makeSubView(const Extent2I&, const Extent2I&, const _view_t&) [with PixelT = float; lsst::afw::image::ImageBase<PixelT>::_view_t = boost::gil::image_view<boost::gil::memory_based_2d_locator<boost::gil::memory_based_step_iterator<boost::gil::pixel<float, boost::gil::layout<boost::mpl::vector1<boost::gil::gray_color_t> > >*> > >; lsst::afw::geom::Extent2I = lsst::afw::geom::Extent<int, 2>]\n",
      "    Box2I(Point2I(-14478,18525),Extent2I(31,31)) doesn't fit in image 2048x4612 {0}\n",
      "lsst::pex::exceptions::LengthError: 'Box2I(Point2I(-14478,18525),Extent2I(31,31)) doesn't fit in image 2048x4612'\n",
      "\n",
      "\n",
      "  File \"src/image/Image.cc\", line 92, in static lsst::afw::image::ImageBase<PixelT>::_view_t lsst::afw::image::ImageBase<PixelT>::_makeSubView(const Extent2I&, const Extent2I&, const _view_t&) [with PixelT = float; lsst::afw::image::ImageBase<PixelT>::_view_t = boost::gil::image_view<boost::gil::memory_based_2d_locator<boost::gil::memory_based_step_iterator<boost::gil::pixel<float, boost::gil::layout<boost::mpl::vector1<boost::gil::gray_color_t> > >*> > >; lsst::afw::geom::Extent2I = lsst::afw::geom::Extent<int, 2>]\n",
      "    Box2I(Point2I(-17703,14414),Extent2I(31,31)) doesn't fit in image 2048x4612 {0}\n",
      "lsst::pex::exceptions::LengthError: 'Box2I(Point2I(-17703,14414),Extent2I(31,31)) doesn't fit in image 2048x4612'\n",
      "\n",
      "\n",
      "  File \"src/image/Image.cc\", line 92, in static lsst::afw::image::ImageBase<PixelT>::_view_t lsst::afw::image::ImageBase<PixelT>::_makeSubView(const Extent2I&, const Extent2I&, const _view_t&) [with PixelT = float; lsst::afw::image::ImageBase<PixelT>::_view_t = boost::gil::image_view<boost::gil::memory_based_2d_locator<boost::gil::memory_based_step_iterator<boost::gil::pixel<float, boost::gil::layout<boost::mpl::vector1<boost::gil::gray_color_t> > >*> > >; lsst::afw::geom::Extent2I = lsst::afw::geom::Extent<int, 2>]\n",
      "    Box2I(Point2I(-14807,14861),Extent2I(31,31)) doesn't fit in image 2048x4612 {0}\n",
      "lsst::pex::exceptions::LengthError: 'Box2I(Point2I(-14807,14861),Extent2I(31,31)) doesn't fit in image 2048x4612'\n",
      "\n",
      "\n",
      "  File \"src/image/Image.cc\", line 92, in static lsst::afw::image::ImageBase<PixelT>::_view_t lsst::afw::image::ImageBase<PixelT>::_makeSubView(const Extent2I&, const Extent2I&, const _view_t&) [with PixelT = float; lsst::afw::image::ImageBase<PixelT>::_view_t = boost::gil::image_view<boost::gil::memory_based_2d_locator<boost::gil::memory_based_step_iterator<boost::gil::pixel<float, boost::gil::layout<boost::mpl::vector1<boost::gil::gray_color_t> > >*> > >; lsst::afw::geom::Extent2I = lsst::afw::geom::Extent<int, 2>]\n",
      "    Box2I(Point2I(-14408,17677),Extent2I(31,31)) doesn't fit in image 2048x4612 {0}\n",
      "lsst::pex::exceptions::LengthError: 'Box2I(Point2I(-14408,17677),Extent2I(31,31)) doesn't fit in image 2048x4612'\n",
      "\n",
      "\n",
      "  File \"src/image/Image.cc\", line 92, in static lsst::afw::image::ImageBase<PixelT>::_view_t lsst::afw::image::ImageBase<PixelT>::_makeSubView(const Extent2I&, const Extent2I&, const _view_t&) [with PixelT = float; lsst::afw::image::ImageBase<PixelT>::_view_t = boost::gil::image_view<boost::gil::memory_based_2d_locator<boost::gil::memory_based_step_iterator<boost::gil::pixel<float, boost::gil::layout<boost::mpl::vector1<boost::gil::gray_color_t> > >*> > >; lsst::afw::geom::Extent2I = lsst::afw::geom::Extent<int, 2>]\n",
      "    Box2I(Point2I(-14334,17982),Extent2I(31,31)) doesn't fit in image 2048x4612 {0}\n",
      "lsst::pex::exceptions::LengthError: 'Box2I(Point2I(-14334,17982),Extent2I(31,31)) doesn't fit in image 2048x4612'\n",
      "\n",
      "\n",
      "  File \"src/image/Image.cc\", line 92, in static lsst::afw::image::ImageBase<PixelT>::_view_t lsst::afw::image::ImageBase<PixelT>::_makeSubView(const Extent2I&, const Extent2I&, const _view_t&) [with PixelT = float; lsst::afw::image::ImageBase<PixelT>::_view_t = boost::gil::image_view<boost::gil::memory_based_2d_locator<boost::gil::memory_based_step_iterator<boost::gil::pixel<float, boost::gil::layout<boost::mpl::vector1<boost::gil::gray_color_t> > >*> > >; lsst::afw::geom::Extent2I = lsst::afw::geom::Extent<int, 2>]\n",
      "    Box2I(Point2I(-2,1129),Extent2I(31,31)) doesn't fit in image 2048x4612 {0}\n",
      "lsst::pex::exceptions::LengthError: 'Box2I(Point2I(-2,1129),Extent2I(31,31)) doesn't fit in image 2048x4612'\n",
      "\n",
      "\n",
      "  File \"src/image/Image.cc\", line 92, in static lsst::afw::image::ImageBase<PixelT>::_view_t lsst::afw::image::ImageBase<PixelT>::_makeSubView(const Extent2I&, const Extent2I&, const _view_t&) [with PixelT = float; lsst::afw::image::ImageBase<PixelT>::_view_t = boost::gil::image_view<boost::gil::memory_based_2d_locator<boost::gil::memory_based_step_iterator<boost::gil::pixel<float, boost::gil::layout<boost::mpl::vector1<boost::gil::gray_color_t> > >*> > >; lsst::afw::geom::Extent2I = lsst::afw::geom::Extent<int, 2>]\n",
      "    Box2I(Point2I(-14381,17053),Extent2I(31,31)) doesn't fit in image 2048x4612 {0}\n",
      "lsst::pex::exceptions::LengthError: 'Box2I(Point2I(-14381,17053),Extent2I(31,31)) doesn't fit in image 2048x4612'\n",
      "\n",
      "\n",
      "  File \"src/image/Image.cc\", line 92, in static lsst::afw::image::ImageBase<PixelT>::_view_t lsst::afw::image::ImageBase<PixelT>::_makeSubView(const Extent2I&, const Extent2I&, const _view_t&) [with PixelT = float; lsst::afw::image::ImageBase<PixelT>::_view_t = boost::gil::image_view<boost::gil::memory_based_2d_locator<boost::gil::memory_based_step_iterator<boost::gil::pixel<float, boost::gil::layout<boost::mpl::vector1<boost::gil::gray_color_t> > >*> > >; lsst::afw::geom::Extent2I = lsst::afw::geom::Extent<int, 2>]\n",
      "    Box2I(Point2I(-14105,18273),Extent2I(31,31)) doesn't fit in image 2048x4612 {0}\n",
      "lsst::pex::exceptions::LengthError: 'Box2I(Point2I(-14105,18273),Extent2I(31,31)) doesn't fit in image 2048x4612'\n",
      "\n",
      "\n",
      "  File \"src/image/Image.cc\", line 92, in static lsst::afw::image::ImageBase<PixelT>::_view_t lsst::afw::image::ImageBase<PixelT>::_makeSubView(const Extent2I&, const Extent2I&, const _view_t&) [with PixelT = float; lsst::afw::image::ImageBase<PixelT>::_view_t = boost::gil::image_view<boost::gil::memory_based_2d_locator<boost::gil::memory_based_step_iterator<boost::gil::pixel<float, boost::gil::layout<boost::mpl::vector1<boost::gil::gray_color_t> > >*> > >; lsst::afw::geom::Extent2I = lsst::afw::geom::Extent<int, 2>]\n",
      "    Box2I(Point2I(-10722,18820),Extent2I(31,31)) doesn't fit in image 2048x4612 {0}\n",
      "lsst::pex::exceptions::LengthError: 'Box2I(Point2I(-10722,18820),Extent2I(31,31)) doesn't fit in image 2048x4612'\n",
      "\n",
      "\n",
      "  File \"src/image/Image.cc\", line 92, in static lsst::afw::image::ImageBase<PixelT>::_view_t lsst::afw::image::ImageBase<PixelT>::_makeSubView(const Extent2I&, const Extent2I&, const _view_t&) [with PixelT = float; lsst::afw::image::ImageBase<PixelT>::_view_t = boost::gil::image_view<boost::gil::memory_based_2d_locator<boost::gil::memory_based_step_iterator<boost::gil::pixel<float, boost::gil::layout<boost::mpl::vector1<boost::gil::gray_color_t> > >*> > >; lsst::afw::geom::Extent2I = lsst::afw::geom::Extent<int, 2>]\n",
      "    Box2I(Point2I(-13380,18951),Extent2I(31,31)) doesn't fit in image 2048x4612 {0}\n",
      "lsst::pex::exceptions::LengthError: 'Box2I(Point2I(-13380,18951),Extent2I(31,31)) doesn't fit in image 2048x4612'\n",
      "\n",
      "\n",
      "  File \"src/image/Image.cc\", line 92, in static lsst::afw::image::ImageBase<PixelT>::_view_t lsst::afw::image::ImageBase<PixelT>::_makeSubView(const Extent2I&, const Extent2I&, const _view_t&) [with PixelT = float; lsst::afw::image::ImageBase<PixelT>::_view_t = boost::gil::image_view<boost::gil::memory_based_2d_locator<boost::gil::memory_based_step_iterator<boost::gil::pixel<float, boost::gil::layout<boost::mpl::vector1<boost::gil::gray_color_t> > >*> > >; lsst::afw::geom::Extent2I = lsst::afw::geom::Extent<int, 2>]\n",
      "    Box2I(Point2I(-14441,18455),Extent2I(31,31)) doesn't fit in image 2048x4612 {0}\n",
      "lsst::pex::exceptions::LengthError: 'Box2I(Point2I(-14441,18455),Extent2I(31,31)) doesn't fit in image 2048x4612'\n",
      "\n",
      "\n",
      "  File \"src/image/Image.cc\", line 92, in static lsst::afw::image::ImageBase<PixelT>::_view_t lsst::afw::image::ImageBase<PixelT>::_makeSubView(const Extent2I&, const Extent2I&, const _view_t&) [with PixelT = float; lsst::afw::image::ImageBase<PixelT>::_view_t = boost::gil::image_view<boost::gil::memory_based_2d_locator<boost::gil::memory_based_step_iterator<boost::gil::pixel<float, boost::gil::layout<boost::mpl::vector1<boost::gil::gray_color_t> > >*> > >; lsst::afw::geom::Extent2I = lsst::afw::geom::Extent<int, 2>]\n",
      "    Box2I(Point2I(-14421,17632),Extent2I(31,31)) doesn't fit in image 2048x4612 {0}\n",
      "lsst::pex::exceptions::LengthError: 'Box2I(Point2I(-14421,17632),Extent2I(31,31)) doesn't fit in image 2048x4612'\n",
      "\n"
     ]
    }
   ],
   "source": [
    "path = \"/renoir_data_02/jpreyes/stamp_data/filter_r/\"\n",
    "for i, lc in enumerate(lcs2):\n",
    "    stamps = get_stamps_in_lc(lc)\n",
    "    for j, (point, (stamp, c_stamp)) in enumerate(zip(lc, stamps)):\n",
    "         \n",
    "        name = str(i)+\"-\"+str(j)+\"-\"+str(point[\"mjd\"])+\"-\"+str(int(point[\"classification\"]))\n",
    "        if stamp is not None:\n",
    "            stamp.writeFits(path+name+\".fits\")\n",
    "            \n",
    "    \n",
    "\n",
    "        "
   ]
  },
  {
   "cell_type": "code",
   "execution_count": 57,
   "metadata": {
    "collapsed": false
   },
   "outputs": [],
   "source": [
    "stamps = get_stamps_in_lc(lcs2[10])\n",
    "\n"
   ]
  },
  {
   "cell_type": "code",
   "execution_count": 58,
   "metadata": {
    "collapsed": false
   },
   "outputs": [
    {
     "name": "stdout",
     "output_type": "stream",
     "text": [
      "(31, 31)\n"
     ]
    },
    {
     "data": {
      "image/png": "[encoded data removed]",
      "text/plain": [
       "<matplotlib.figure.Figure at 0x7f9814189210>"
      ]
     },
     "metadata": {},
     "output_type": "display_data"
    }
   ],
   "source": [
    "%matplotlib inline\n",
    "stamp, c_stamp = stamps[2]\n",
    "\n",
    "img_arr, mask_arr, var_arr = stamp.getMaskedImage().getArrays()\n",
    "w,h = stamp.getWidth(), stamp.getHeight()  \n",
    "plt.imshow(img_arr, origin='lower', vmin=img_arr.min(), vmax=img_arr.max(), cmap='gray', extent=(0,w-1, 0, h-1), interpolation='none')\n",
    "print img_arr.shape"
   ]
  },
  {
   "cell_type": "code",
   "execution_count": 56,
   "metadata": {
    "collapsed": false,
    "deletable": true,
    "editable": true
   },
   "outputs": [],
   "source": [
    "def get_stamps_in_lc(lc):\n",
    "    ccds= range(0,36)\n",
    "    stamps = []\n",
    "    CenterRa = np.mean(lc[\"ra\"])\n",
    "    CenterDec = np.mean(lc[\"dec\"])\n",
    "    for point in lc:\n",
    "\n",
    "        for ccd in ccds: \n",
    "            if butler.datasetExists(\"deepDiff_differenceExp\",dataId={\"filter\":'r', 'visit':point[\"mjd\"], 'ccd':ccd}):\n",
    "                diffExp = butler.get(\"deepDiff_differenceExp\", dataId={\"filter\":'r', 'visit':point[\"mjd\"], 'ccd':ccd})\n",
    "                box = diffExp.getBBox()\n",
    "                wcs = diffExp.getWcs()\n",
    "                coord = afwGeom.Point2I(wcs.skyToPixel(CenterRa, CenterDec))\n",
    "                if box.contains(coord):\n",
    "                    break\n",
    "\n",
    "\n",
    "        #calexp = butler.get(\"calexp\", dataId={\"filter\":'r', 'visit':point[\"mjd\"], 'ccd':ccd})\n",
    "        calexp = butler.get(\"calexp\", dataId={\"filter\":'r', 'visit':point[\"mjd\"], 'ccd':ccd})\n",
    "\n",
    "\n",
    "\n",
    "        Center = afwGeom.Point2I(wcs.skyToPixel(CenterRa, CenterDec))\n",
    "        Begin = afwGeom.Point2I(Center.getX() - 15, Center.getY() - 15)\n",
    "        End = afwGeom.Point2I(Center.getX() + 15, Center.getY() + 15)\n",
    "\n",
    "        newBox = afwGeom.Box2I(Begin,End) \n",
    "        try:\n",
    "            cal_stamp = calexp.Factory(calexp, newBox, True)\n",
    "            stamp = diffExp.Factory(diffExp,newBox, True)\n",
    "            stamps.append((stamp, cal_stamp))\n",
    "        except Exception, e:\n",
    "            print e\n",
    "            stamps.append((None, None))\n",
    "            pass\n",
    "        \n",
    "    return stamps\n",
    "    "
   ]
  },
  {
   "cell_type": "code",
   "execution_count": null,
   "metadata": {
    "collapsed": false,
    "deletable": true,
    "editable": true
   },
   "outputs": [],
   "source": [
    "lc = lcs2[45]\n",
    "print len(lc)"
   ]
  },
  {
   "cell_type": "code",
   "execution_count": null,
   "metadata": {
    "collapsed": true,
    "deletable": true,
    "editable": true
   },
   "outputs": [],
   "source": [
    "\n",
    "stamps = get_stamps_in_lc(lc)"
   ]
  },
  {
   "cell_type": "code",
   "execution_count": null,
   "metadata": {
    "collapsed": false,
    "deletable": true,
    "editable": true
   },
   "outputs": [],
   "source": [
    "plt.close(\"all\")\n",
    "fig = plt.figure(figsize=(10,5))\n",
    "fig2 = plt.figure(figsize=(10,10))\n",
    "plt.figure(fig.number)\n",
    "#plt.ylim(ymin=-75000, ymax=100000)\n",
    "tolerance = 5 # points\n",
    "plt.errorbar(lc[\"mjd\"],lc[\"flux\"], yerr=lc[\"flux_error\"],fmt='.', color='blue', picker=tolerance)\n",
    "\n",
    "fig.canvas.mpl_connect('pick_event', lambda event: on_pick(event, stamps , fig2.number))\n",
    "plt.show()"
   ]
  },
  {
   "cell_type": "code",
   "execution_count": null,
   "metadata": {
    "collapsed": true,
    "deletable": true,
    "editable": true
   },
   "outputs": [],
   "source": [
    "def on_pick(event, stamps, fig_number):\n",
    "    \n",
    "    clear_output()\n",
    "    \n",
    "    plt.figure(fig_number)\n",
    "    plt.clf()\n",
    "    artist = event.artist\n",
    "    \n",
    "    xmouse, ymouse = event.mouseevent.xdata, event.mouseevent.ydata\n",
    "    x, y = artist.get_xdata(), artist.get_ydata()\n",
    "    ind = event.ind\n",
    "\n",
    "    stamp, c_stamp = stamps[ind[0]]\n",
    "\n",
    "\n",
    "    plt.subplot(2,2,1)\n",
    "    img_arr, mask_arr, var_arr = stamp.getMaskedImage().getArrays()\n",
    "    w,h = stamp.getWidth(), stamp.getHeight()  \n",
    "    plt.imshow(img_arr, origin='lower', vmin=img_arr.min(), vmax=img_arr.max(), cmap='gray', extent=(0,w-1, 0, h-1), interpolation='none')\n",
    "    plt.subplot(2,2,3)\n",
    "    plt.hist(img_arr.flat, 100)\n",
    "    \n",
    "    plt.subplot(2,2,2)\n",
    "    img_arr, mask_arr, var_arr = c_stamp.getMaskedImage().getArrays()\n",
    "    w,h = c_stamp.getWidth(), c_stamp.getHeight()\n",
    "    plt.imshow(img_arr, origin='lower', vmin=img_arr.min(), vmax=img_arr.max(), cmap='gray', extent=(0,w-1, 0, h-1), interpolation='none')\n",
    "    plt.subplot(2,2,4) \n",
    "    plt.hist(img_arr.flat, 100)\n",
    "        \n",
    "    plt.show()\n",
    "    "
   ]
  },
  {
   "cell_type": "code",
   "execution_count": 109,
   "metadata": {
    "collapsed": false,
    "deletable": true,
    "editable": true
   },
   "outputs": [],
   "source": [
    "stamp, c_stamp = stamps[0]\n",
    "img_arr, mask_arr, var_arr = stamp.getMaskedImage().getArrays()"
   ]
  },
  {
   "cell_type": "code",
   "execution_count": 107,
   "metadata": {
    "collapsed": false,
    "deletable": true,
    "editable": true
   },
   "outputs": [],
   "source": [
    "plt.hist(img_arr.flat, 100)\n",
    "plt.show()"
   ]
  },
  {
   "cell_type": "code",
   "execution_count": 111,
   "metadata": {
    "collapsed": false,
    "deletable": true,
    "editable": true
   },
   "outputs": [],
   "source": [
    "img_arr, mask_arr, var_arr = c_stamp.getMaskedImage().getArrays()\n",
    "plt.hist(img_arr.flat, 100)\n",
    "plt.show()"
   ]
  },
  {
   "cell_type": "code",
   "execution_count": null,
   "metadata": {
    "collapsed": true,
    "deletable": true,
    "editable": true
   },
   "outputs": [],
   "source": []
  }
 ],
 "metadata": {
  "kernelspec": {
   "display_name": "Python 2",
   "language": "python",
   "name": "python2"
  },
  "language_info": {
   "codemirror_mode": {
    "name": "ipython",
    "version": 2
   },
   "file_extension": ".py",
   "mimetype": "text/x-python",
   "name": "python",
   "nbconvert_exporter": "python",
   "pygments_lexer": "ipython2",
   "version": "2.7.12"
  }
 },
 "nbformat": 4,
 "nbformat_minor": 0
}
