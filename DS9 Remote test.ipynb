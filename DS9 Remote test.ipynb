{
 "metadata": {
  "name": ""
 },
 "nbformat": 3,
 "nbformat_minor": 0,
 "worksheets": [
  {
   "cells": [
    {
     "cell_type": "code",
     "collapsed": false,
     "input": [
      "\n",
      "\n",
      "import lsst.afw.image as afwImage\n",
      "import lsst.afw.display.ds9 as ds9\n",
      "\n",
      "DATADIR=\"/renoir_data_02/jpreyes/lsst_data/data/CFHTLS_TEST\"\n",
      "\n",
      "Path = DATADIR+\"/output/coadd_r_dir/subtract+0/deepCoadd/r/1/33,15.fits\"\n",
      "\n",
      "Image = afwImage.ExposureF(Path)\n",
      "\n",
      "ds9.mtv(Image.getMaskedImage().getImage(), frame=1)\n",
      "\n"
     ],
     "language": "python",
     "metadata": {},
     "outputs": [],
     "prompt_number": 28
    },
    {
     "cell_type": "code",
     "collapsed": false,
     "input": [
      "\n",
      "\n",
      "import lsst.afw.image as afwImage\n",
      "import lsst.afw.display.ds9 as ds9\n",
      "\n",
      "DATADIR=\"/renoir_data_02/jpreyes/lsst_data/CFHTLS_v11\"\n",
      "\n",
      "Path = DATADIR+\"/output/deepDiff/08AL01/D3/2008-05-11/r/diffexp-988125-14.fits\"\n",
      "\n",
      "Image = afwImage.ExposureF(Path)\n",
      "\n",
      "ds9.mtv(Image.getMaskedImage().getImage(), frame=1)\n",
      "\n"
     ],
     "language": "python",
     "metadata": {},
     "outputs": [
      {
       "ename": "MalformedArchiveError",
       "evalue": "\n  File \"include/lsst/meas/algorithms/KernelPsfFactory.h\", line 53, in boost::shared_ptr<lsst::afw::table::io::Persistable> lsst::meas::algorithms::KernelPsfFactory<T, K>::read(const lsst::afw::table::io::InputArchive&, const lsst::afw::table::io::CatalogVector&) const [with T = lsst::meas::algorithms::PcaPsf, K = lsst::afw::math::LinearCombinationKernel]\n    Archive assertion failed: record.getSchema() == keys.schema {0}\n  File \"src/table/io/InputArchive.cc\", line 105, in boost::shared_ptr<lsst::afw::table::io::Persistable> lsst::afw::table::io::InputArchive::Impl::get(int, const lsst::afw::table::io::InputArchive&)\n    loading object with id=6, name='PcaPsf' {1}\nlsst::afw::table::io::MalformedArchiveError: 'Archive assertion failed: record.getSchema() == keys.schema {0}; loading object with id=6, name='PcaPsf' {1}'\n",
       "output_type": "pyerr",
       "traceback": [
        "\u001b[1;31m---------------------------------------------------------------------------\u001b[0m\n\u001b[1;31mMalformedArchiveError\u001b[0m                     Traceback (most recent call last)",
        "\u001b[1;32m<ipython-input-34-aeabc50cf5f4>\u001b[0m in \u001b[0;36m<module>\u001b[1;34m()\u001b[0m\n\u001b[0;32m      8\u001b[0m \u001b[0mPath\u001b[0m \u001b[1;33m=\u001b[0m \u001b[0mDATADIR\u001b[0m\u001b[1;33m+\u001b[0m\u001b[1;34m\"/output/deepDiff/08AL01/D3/2008-05-11/r/diffexp-988125-14.fits\"\u001b[0m\u001b[1;33m\u001b[0m\u001b[0m\n\u001b[0;32m      9\u001b[0m \u001b[1;33m\u001b[0m\u001b[0m\n\u001b[1;32m---> 10\u001b[1;33m \u001b[0mImage\u001b[0m \u001b[1;33m=\u001b[0m \u001b[0mafwImage\u001b[0m\u001b[1;33m.\u001b[0m\u001b[0mExposureF\u001b[0m\u001b[1;33m(\u001b[0m\u001b[0mPath\u001b[0m\u001b[1;33m)\u001b[0m\u001b[1;33m\u001b[0m\u001b[0m\n\u001b[0m\u001b[0;32m     11\u001b[0m \u001b[1;33m\u001b[0m\u001b[0m\n\u001b[0;32m     12\u001b[0m \u001b[0mds9\u001b[0m\u001b[1;33m.\u001b[0m\u001b[0mmtv\u001b[0m\u001b[1;33m(\u001b[0m\u001b[0mImage\u001b[0m\u001b[1;33m.\u001b[0m\u001b[0mgetMaskedImage\u001b[0m\u001b[1;33m(\u001b[0m\u001b[1;33m)\u001b[0m\u001b[1;33m.\u001b[0m\u001b[0mgetImage\u001b[0m\u001b[1;33m(\u001b[0m\u001b[1;33m)\u001b[0m\u001b[1;33m,\u001b[0m \u001b[0mframe\u001b[0m\u001b[1;33m=\u001b[0m\u001b[1;36m1\u001b[0m\u001b[1;33m)\u001b[0m\u001b[1;33m\u001b[0m\u001b[0m\n",
        "\u001b[1;32m/renoir_data_00/jpreyes/stacks/v9_2_copy/Linux64/afw/9.2/python/lsst/afw/image/imageLib.pyc\u001b[0m in \u001b[0;36m__init__\u001b[1;34m(self, *args)\u001b[0m\n\u001b[0;32m  10043\u001b[0m         \u001b[0m__init__\u001b[0m\u001b[1;33m(\u001b[0m\u001b[0mlsst\u001b[0m\u001b[1;33m:\u001b[0m\u001b[1;33m:\u001b[0m\u001b[0mafw\u001b[0m\u001b[1;33m:\u001b[0m\u001b[1;33m:\u001b[0m\u001b[0mimage\u001b[0m\u001b[1;33m:\u001b[0m\u001b[1;33m:\u001b[0m\u001b[0mExposure\u001b[0m\u001b[1;33m<\u001b[0m\u001b[1;33m(\u001b[0m\u001b[0mfloat\u001b[0m\u001b[1;33m,\u001b[0m\u001b[0mlsst\u001b[0m\u001b[1;33m:\u001b[0m\u001b[1;33m:\u001b[0m\u001b[0mafw\u001b[0m\u001b[1;33m:\u001b[0m\u001b[1;33m:\u001b[0m\u001b[0mimage\u001b[0m\u001b[1;33m:\u001b[0m\u001b[1;33m:\u001b[0m\u001b[0mMaskPixel\u001b[0m\u001b[1;33m,\u001b[0m\u001b[0mlsst\u001b[0m\u001b[1;33m:\u001b[0m\u001b[1;33m:\u001b[0m\u001b[0mafw\u001b[0m\u001b[1;33m:\u001b[0m\u001b[1;33m:\u001b[0m\u001b[0mimage\u001b[0m\u001b[1;33m:\u001b[0m\u001b[1;33m:\u001b[0m\u001b[0mVariancePixel\u001b[0m\u001b[1;33m)\u001b[0m\u001b[1;33m>\u001b[0m \u001b[0mself\u001b[0m\u001b[1;33m,\u001b[0m \u001b[0mExposureF\u001b[0m \u001b[0msrc\u001b[0m\u001b[1;33m,\u001b[0m \u001b[0mBox2I\u001b[0m \u001b[0mbbox\u001b[0m\u001b[1;33m)\u001b[0m \u001b[1;33m-\u001b[0m\u001b[1;33m>\u001b[0m \u001b[0mExposureF\u001b[0m\u001b[1;33m\u001b[0m\u001b[0m\n\u001b[0;32m  10044\u001b[0m         \"\"\"\n\u001b[1;32m> 10045\u001b[1;33m         \u001b[0mthis\u001b[0m \u001b[1;33m=\u001b[0m \u001b[0m_imageLib\u001b[0m\u001b[1;33m.\u001b[0m\u001b[0mnew_ExposureF\u001b[0m\u001b[1;33m(\u001b[0m\u001b[1;33m*\u001b[0m\u001b[0margs\u001b[0m\u001b[1;33m)\u001b[0m\u001b[1;33m\u001b[0m\u001b[0m\n\u001b[0m\u001b[0;32m  10046\u001b[0m         \u001b[1;32mtry\u001b[0m\u001b[1;33m:\u001b[0m \u001b[0mself\u001b[0m\u001b[1;33m.\u001b[0m\u001b[0mthis\u001b[0m\u001b[1;33m.\u001b[0m\u001b[0mappend\u001b[0m\u001b[1;33m(\u001b[0m\u001b[0mthis\u001b[0m\u001b[1;33m)\u001b[0m\u001b[1;33m\u001b[0m\u001b[0m\n\u001b[0;32m  10047\u001b[0m         \u001b[1;32mexcept\u001b[0m\u001b[1;33m:\u001b[0m \u001b[0mself\u001b[0m\u001b[1;33m.\u001b[0m\u001b[0mthis\u001b[0m \u001b[1;33m=\u001b[0m \u001b[0mthis\u001b[0m\u001b[1;33m\u001b[0m\u001b[0m\n",
        "\u001b[1;31mMalformedArchiveError\u001b[0m: \n  File \"include/lsst/meas/algorithms/KernelPsfFactory.h\", line 53, in boost::shared_ptr<lsst::afw::table::io::Persistable> lsst::meas::algorithms::KernelPsfFactory<T, K>::read(const lsst::afw::table::io::InputArchive&, const lsst::afw::table::io::CatalogVector&) const [with T = lsst::meas::algorithms::PcaPsf, K = lsst::afw::math::LinearCombinationKernel]\n    Archive assertion failed: record.getSchema() == keys.schema {0}\n  File \"src/table/io/InputArchive.cc\", line 105, in boost::shared_ptr<lsst::afw::table::io::Persistable> lsst::afw::table::io::InputArchive::Impl::get(int, const lsst::afw::table::io::InputArchive&)\n    loading object with id=6, name='PcaPsf' {1}\nlsst::afw::table::io::MalformedArchiveError: 'Archive assertion failed: record.getSchema() == keys.schema {0}; loading object with id=6, name='PcaPsf' {1}'\n"
       ]
      }
     ],
     "prompt_number": 34
    },
    {
     "cell_type": "code",
     "collapsed": false,
     "input": [
      "DATADIR=\"/renoir_data_02/jpreyes/lsst_data/data/CFHTLS_COMPLETE\"\n",
      "frame = 1\n",
      "\n",
      "for i in range(51,61):\n",
      "    for j in range(26,33):\n",
      "        Path = DATADIR+\"/output/coadd_r_dir/subtract+0/deepCoadd/r/1/\"+str(i)+\",\"+str(j)+\".fits\"\n",
      "        Image = afwImage.ExposureF(Path)\n",
      "        ds9.mtv(Image.getMaskedImage().getImage(), frame=frame, title=str(i)+\",\"+str(j))\n",
      "        frame += 1"
     ],
     "language": "python",
     "metadata": {},
     "outputs": [
      {
       "ename": "FitsError",
       "evalue": "\n  File \"src/fits.cc\", line 1071, in lsst::afw::fits::Fits::Fits(const std::string&, const std::string&, int)\n    cfitsio error: could not open the named file (104) : Opening file '/renoir_data_02/jpreyes/lsst_data/data/CFHTLS_COMPLETE/output/coadd_r_dir/subtract+0/deepCoadd/r/1/60,27.fits' with mode 'r' {0}\nlsst::afw::fits::FitsError: 'cfitsio error: could not open the named file (104) : Opening file '/renoir_data_02/jpreyes/lsst_data/data/CFHTLS_COMPLETE/output/coadd_r_dir/subtract+0/deepCoadd/r/1/60,27.fits' with mode 'r''\n",
       "output_type": "pyerr",
       "traceback": [
        "\u001b[1;31m---------------------------------------------------------------------------\u001b[0m\n\u001b[1;31mFitsError\u001b[0m                                 Traceback (most recent call last)",
        "\u001b[1;32m<ipython-input-32-bbdf57ec87a5>\u001b[0m in \u001b[0;36m<module>\u001b[1;34m()\u001b[0m\n\u001b[0;32m      5\u001b[0m     \u001b[1;32mfor\u001b[0m \u001b[0mj\u001b[0m \u001b[1;32min\u001b[0m \u001b[0mrange\u001b[0m\u001b[1;33m(\u001b[0m\u001b[1;36m26\u001b[0m\u001b[1;33m,\u001b[0m\u001b[1;36m33\u001b[0m\u001b[1;33m)\u001b[0m\u001b[1;33m:\u001b[0m\u001b[1;33m\u001b[0m\u001b[0m\n\u001b[0;32m      6\u001b[0m         \u001b[0mPath\u001b[0m \u001b[1;33m=\u001b[0m \u001b[0mDATADIR\u001b[0m\u001b[1;33m+\u001b[0m\u001b[1;34m\"/output/coadd_r_dir/subtract+0/deepCoadd/r/1/\"\u001b[0m\u001b[1;33m+\u001b[0m\u001b[0mstr\u001b[0m\u001b[1;33m(\u001b[0m\u001b[0mi\u001b[0m\u001b[1;33m)\u001b[0m\u001b[1;33m+\u001b[0m\u001b[1;34m\",\"\u001b[0m\u001b[1;33m+\u001b[0m\u001b[0mstr\u001b[0m\u001b[1;33m(\u001b[0m\u001b[0mj\u001b[0m\u001b[1;33m)\u001b[0m\u001b[1;33m+\u001b[0m\u001b[1;34m\".fits\"\u001b[0m\u001b[1;33m\u001b[0m\u001b[0m\n\u001b[1;32m----> 7\u001b[1;33m         \u001b[0mImage\u001b[0m \u001b[1;33m=\u001b[0m \u001b[0mafwImage\u001b[0m\u001b[1;33m.\u001b[0m\u001b[0mExposureF\u001b[0m\u001b[1;33m(\u001b[0m\u001b[0mPath\u001b[0m\u001b[1;33m)\u001b[0m\u001b[1;33m\u001b[0m\u001b[0m\n\u001b[0m\u001b[0;32m      8\u001b[0m         \u001b[0mds9\u001b[0m\u001b[1;33m.\u001b[0m\u001b[0mmtv\u001b[0m\u001b[1;33m(\u001b[0m\u001b[0mImage\u001b[0m\u001b[1;33m.\u001b[0m\u001b[0mgetMaskedImage\u001b[0m\u001b[1;33m(\u001b[0m\u001b[1;33m)\u001b[0m\u001b[1;33m.\u001b[0m\u001b[0mgetImage\u001b[0m\u001b[1;33m(\u001b[0m\u001b[1;33m)\u001b[0m\u001b[1;33m,\u001b[0m \u001b[0mframe\u001b[0m\u001b[1;33m=\u001b[0m\u001b[0mframe\u001b[0m\u001b[1;33m,\u001b[0m \u001b[0mtitle\u001b[0m\u001b[1;33m=\u001b[0m\u001b[0mstr\u001b[0m\u001b[1;33m(\u001b[0m\u001b[0mi\u001b[0m\u001b[1;33m)\u001b[0m\u001b[1;33m+\u001b[0m\u001b[1;34m\",\"\u001b[0m\u001b[1;33m+\u001b[0m\u001b[0mstr\u001b[0m\u001b[1;33m(\u001b[0m\u001b[0mj\u001b[0m\u001b[1;33m)\u001b[0m\u001b[1;33m)\u001b[0m\u001b[1;33m\u001b[0m\u001b[0m\n\u001b[0;32m      9\u001b[0m         \u001b[0mframe\u001b[0m \u001b[1;33m+=\u001b[0m \u001b[1;36m1\u001b[0m\u001b[1;33m\u001b[0m\u001b[0m\n",
        "\u001b[1;32m/renoir_data_00/jpreyes/stacks/v9_2_copy/Linux64/afw/9.2/python/lsst/afw/image/imageLib.pyc\u001b[0m in \u001b[0;36m__init__\u001b[1;34m(self, *args)\u001b[0m\n\u001b[0;32m  10043\u001b[0m         \u001b[0m__init__\u001b[0m\u001b[1;33m(\u001b[0m\u001b[0mlsst\u001b[0m\u001b[1;33m:\u001b[0m\u001b[1;33m:\u001b[0m\u001b[0mafw\u001b[0m\u001b[1;33m:\u001b[0m\u001b[1;33m:\u001b[0m\u001b[0mimage\u001b[0m\u001b[1;33m:\u001b[0m\u001b[1;33m:\u001b[0m\u001b[0mExposure\u001b[0m\u001b[1;33m<\u001b[0m\u001b[1;33m(\u001b[0m\u001b[0mfloat\u001b[0m\u001b[1;33m,\u001b[0m\u001b[0mlsst\u001b[0m\u001b[1;33m:\u001b[0m\u001b[1;33m:\u001b[0m\u001b[0mafw\u001b[0m\u001b[1;33m:\u001b[0m\u001b[1;33m:\u001b[0m\u001b[0mimage\u001b[0m\u001b[1;33m:\u001b[0m\u001b[1;33m:\u001b[0m\u001b[0mMaskPixel\u001b[0m\u001b[1;33m,\u001b[0m\u001b[0mlsst\u001b[0m\u001b[1;33m:\u001b[0m\u001b[1;33m:\u001b[0m\u001b[0mafw\u001b[0m\u001b[1;33m:\u001b[0m\u001b[1;33m:\u001b[0m\u001b[0mimage\u001b[0m\u001b[1;33m:\u001b[0m\u001b[1;33m:\u001b[0m\u001b[0mVariancePixel\u001b[0m\u001b[1;33m)\u001b[0m\u001b[1;33m>\u001b[0m \u001b[0mself\u001b[0m\u001b[1;33m,\u001b[0m \u001b[0mExposureF\u001b[0m \u001b[0msrc\u001b[0m\u001b[1;33m,\u001b[0m \u001b[0mBox2I\u001b[0m \u001b[0mbbox\u001b[0m\u001b[1;33m)\u001b[0m \u001b[1;33m-\u001b[0m\u001b[1;33m>\u001b[0m \u001b[0mExposureF\u001b[0m\u001b[1;33m\u001b[0m\u001b[0m\n\u001b[0;32m  10044\u001b[0m         \"\"\"\n\u001b[1;32m> 10045\u001b[1;33m         \u001b[0mthis\u001b[0m \u001b[1;33m=\u001b[0m \u001b[0m_imageLib\u001b[0m\u001b[1;33m.\u001b[0m\u001b[0mnew_ExposureF\u001b[0m\u001b[1;33m(\u001b[0m\u001b[1;33m*\u001b[0m\u001b[0margs\u001b[0m\u001b[1;33m)\u001b[0m\u001b[1;33m\u001b[0m\u001b[0m\n\u001b[0m\u001b[0;32m  10046\u001b[0m         \u001b[1;32mtry\u001b[0m\u001b[1;33m:\u001b[0m \u001b[0mself\u001b[0m\u001b[1;33m.\u001b[0m\u001b[0mthis\u001b[0m\u001b[1;33m.\u001b[0m\u001b[0mappend\u001b[0m\u001b[1;33m(\u001b[0m\u001b[0mthis\u001b[0m\u001b[1;33m)\u001b[0m\u001b[1;33m\u001b[0m\u001b[0m\n\u001b[0;32m  10047\u001b[0m         \u001b[1;32mexcept\u001b[0m\u001b[1;33m:\u001b[0m \u001b[0mself\u001b[0m\u001b[1;33m.\u001b[0m\u001b[0mthis\u001b[0m \u001b[1;33m=\u001b[0m \u001b[0mthis\u001b[0m\u001b[1;33m\u001b[0m\u001b[0m\n",
        "\u001b[1;31mFitsError\u001b[0m: \n  File \"src/fits.cc\", line 1071, in lsst::afw::fits::Fits::Fits(const std::string&, const std::string&, int)\n    cfitsio error: could not open the named file (104) : Opening file '/renoir_data_02/jpreyes/lsst_data/data/CFHTLS_COMPLETE/output/coadd_r_dir/subtract+0/deepCoadd/r/1/60,27.fits' with mode 'r' {0}\nlsst::afw::fits::FitsError: 'cfitsio error: could not open the named file (104) : Opening file '/renoir_data_02/jpreyes/lsst_data/data/CFHTLS_COMPLETE/output/coadd_r_dir/subtract+0/deepCoadd/r/1/60,27.fits' with mode 'r''\n"
       ]
      }
     ],
     "prompt_number": 32
    },
    {
     "cell_type": "code",
     "collapsed": false,
     "input": [],
     "language": "python",
     "metadata": {},
     "outputs": []
    }
   ],
   "metadata": {}
  }
 ]
}