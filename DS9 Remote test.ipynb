{
 "metadata": {
  "name": ""
 },
 "nbformat": 3,
 "nbformat_minor": 0,
 "worksheets": [
  {
   "cells": [
    {
     "cell_type": "code",
     "collapsed": false,
     "input": [
      "\n",
      "\n",
      "import lsst.afw.image as afwImage\n",
      "import lsst.afw.display.ds9 as ds9\n",
      "\n",
      "DATADIR=\"/renoir_data_02/jpreyes/lsst_data/data/CFHTLS_TEST_SUB\"\n",
      "\n",
      "Path = DATADIR+\"/subtracted+0/33,15.fits\"\n",
      "\n",
      "Image = afwImage.ExposureF(Path)\n",
      "\n",
      "ds9.mtv(Image.getMaskedImage().getImage(), frame=1)\n",
      "\n"
     ],
     "language": "python",
     "metadata": {},
     "outputs": [],
     "prompt_number": 8
    },
    {
     "cell_type": "code",
     "collapsed": false,
     "input": [],
     "language": "python",
     "metadata": {},
     "outputs": []
    }
   ],
   "metadata": {}
  }
 ]
}