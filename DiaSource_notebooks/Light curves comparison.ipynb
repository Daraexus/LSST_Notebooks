{
 "cells": [
  {
   "cell_type": "code",
   "execution_count": 1,
   "metadata": {
    "collapsed": true
   },
   "outputs": [],
   "source": [
    "import pickle\n",
    "import sncosmo\n",
    "import numpy as np\n",
    "import lsst.daf.base as dafBase\n",
    "import lsst.daf.persistence as dafPersist\n",
    "\n",
    "import re\n",
    "\n",
    "import lsst.afw.display.ds9 as ds9"
   ]
  },
  {
   "cell_type": "code",
   "execution_count": 2,
   "metadata": {
    "collapsed": false
   },
   "outputs": [],
   "source": [
    "f = open('/renoir_data_02/jpreyes/lsst_data/sn_control/J_A+A_523_A7_table10.dat.txt','r')\n",
    "data = f.read()"
   ]
  },
  {
   "cell_type": "code",
   "execution_count": 3,
   "metadata": {
    "collapsed": false
   },
   "outputs": [
    {
     "data": {
      "text/plain": [
       "'06D3ed|r|53848.44| 2.2208E+01|'"
      ]
     },
     "execution_count": 3,
     "metadata": {},
     "output_type": "execute_result"
    }
   ],
   "source": [
    "m = re.search('^06D3ed\\\\|r\\\\|(.*?)\\\\|(.*?)\\\\|', data, re.MULTILINE)\n",
    "m.group(0)"
   ]
  },
  {
   "cell_type": "code",
   "execution_count": 4,
   "metadata": {
    "collapsed": true
   },
   "outputs": [],
   "source": [
    "m = re.findall('^06D3ed\\\\|r\\\\|(.*?)\\\\|(.*?)\\\\|(.*?)$', data, re.MULTILINE)"
   ]
  },
  {
   "cell_type": "code",
   "execution_count": 35,
   "metadata": {
    "collapsed": false
   },
   "outputs": [
    {
     "data": {
      "text/plain": [
       "[('53848.44', ' 2.2208E+01', '1.7496E+01'),\n",
       " ('53851.40', '-2.4950E+00', '1.1670E+01'),\n",
       " ('53855.39', ' 1.0116E+02', '1.1175E+01'),\n",
       " ('53859.34', ' 3.4512E+02', '1.3579E+01'),\n",
       " ('53875.50', ' 1.5777E+03', '2.5646E+01'),\n",
       " ('53879.29', ' 1.5391E+03', '1.3467E+01'),\n",
       " ('53883.37', ' 1.3322E+03', '1.3645E+01'),\n",
       " ('53888.38', ' 1.0459E+03', '1.4615E+01'),\n",
       " ('53892.35', ' 8.0764E+02', '1.5275E+01'),\n",
       " ('53906.35', ' 2.8785E+02', '1.4632E+01'),\n",
       " ('53911.28', ' 2.2692E+02', '1.2566E+01'),\n",
       " ('53916.34', ' 1.6688E+02', '1.5950E+01'),\n",
       " ('53919.31', ' 1.1853E+02', '1.6650E+01'),\n",
       " ('53935.34', ' 9.9543E+01', '2.2504E+01'),\n",
       " ('53939.28', ' 8.9745E+01', '1.2964E+01'),\n",
       " ('53943.32', ' 6.5050E+01', '1.6316E+01')]"
      ]
     },
     "execution_count": 35,
     "metadata": {},
     "output_type": "execute_result"
    }
   ],
   "source": [
    "m"
   ]
  },
  {
   "cell_type": "code",
   "execution_count": 44,
   "metadata": {
    "collapsed": false
   },
   "outputs": [
    {
     "name": "stdout",
     "output_type": "stream",
     "text": [
      "53848.44 22.208 17.496\n",
      "53851.4 -2.495 11.67\n",
      "53855.39 101.16 11.175\n",
      "53859.34 345.12 13.579\n",
      "53875.5 1577.7 25.646\n",
      "53879.29 1539.1 13.467\n",
      "53883.37 1332.2 13.645\n",
      "53888.38 1045.9 14.615\n",
      "53892.35 807.64 15.275\n",
      "53906.35 287.85 14.632\n",
      "53911.28 226.92 12.566\n",
      "53916.34 166.88 15.95\n",
      "53919.31 118.53 16.65\n",
      "53935.34 99.543 22.504\n",
      "53939.28 89.745 12.964\n",
      "53943.32 65.05 16.316\n"
     ]
    }
   ],
   "source": [
    "for mjd, flux, error in m:\n",
    "    print float(mjd), float(flux), float(error)"
   ]
  },
  {
   "cell_type": "code",
   "execution_count": 47,
   "metadata": {
    "collapsed": false
   },
   "outputs": [],
   "source": [
    "from astropy.table import Table\n",
    "bandpasses = ['r']\n",
    "  \n",
    "        \n",
    "lightcurve = {}\n",
    "lightcurve['bandpass'] = []\n",
    "lightcurve['mjd'] = []\n",
    "#lightcurve['ra'] = []\n",
    "#lightcurve['dec'] = []\n",
    "lightcurve['flux'] = []\n",
    "lightcurve['flux_error'] = []\n",
    "lightcurve['zp'] = []\n",
    "lightcurve['zpsys'] = []\n",
    "\n",
    "\n",
    "for mjd, flux, error in m:\n",
    "\n",
    "    #print 'yep',visit\n",
    "    lightcurve['bandpass'].append(str('sdss' + bandpasses[0]))\n",
    "    lightcurve['mjd'].append(float(mjd))\n",
    "    #lightcurve['ra'].append(src['coord_ra'])\n",
    "    #lightcurve['dec'].append(src['coord_dec'])\n",
    "    lightcurve['flux'].append(float(flux))\n",
    "    lightcurve['flux_error'].append(float(error))\n",
    "    #lightcurve['flux'].append(src['base_CircularApertureFlux_12_0_flux'])\n",
    "    #lightcurve['flux_error'].append(src['base_CircularApertureFlux_12_0_fluxSigma'])\n",
    "    lightcurve['zp'].append(25.0)\n",
    "    lightcurve['zpsys'].append('ab')\n",
    "    \n",
    "lightcurve = Table(data=lightcurve)"
   ]
  },
  {
   "cell_type": "code",
   "execution_count": 48,
   "metadata": {
    "collapsed": false
   },
   "outputs": [
    {
     "data": {
      "image/png": "[encoded data removed]",
      "text/plain": [
       "<matplotlib.figure.Figure at 0x7fd3918b1b50>"
      ]
     },
     "metadata": {},
     "output_type": "display_data"
    }
   ],
   "source": [
    "%matplotlib inline\n",
    "fig = sncosmo.plot_lc(lightcurve, color='red', xfigsize=10)"
   ]
  },
  {
   "cell_type": "code",
   "execution_count": null,
   "metadata": {
    "collapsed": true
   },
   "outputs": [],
   "source": []
  }
 ],
 "metadata": {
  "kernelspec": {
   "display_name": "Python 2",
   "language": "python",
   "name": "python2"
  },
  "language_info": {
   "codemirror_mode": {
    "name": "ipython",
    "version": 2
   },
   "file_extension": ".py",
   "mimetype": "text/x-python",
   "name": "python",
   "nbconvert_exporter": "python",
   "pygments_lexer": "ipython2",
   "version": "2.7.11"
  }
 },
 "nbformat": 4,
 "nbformat_minor": 0
}
