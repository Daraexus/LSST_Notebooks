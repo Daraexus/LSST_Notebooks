{
 "cells": [
  {
   "cell_type": "code",
   "execution_count": 54,
   "metadata": {
    "collapsed": false
   },
   "outputs": [],
   "source": [
    "import lsst.meas.astrom as measAstrom\n",
    "import lsst.daf.base as dafBase\n",
    "import lsst.pipe.base as pipeBase\n",
    "import lsst.daf.persistence as dafPersist\n",
    "\n",
    "import random\n",
    "import matplotlib.pyplot as plt\n",
    "import numpy as np\n",
    "\n",
    "import lsst.afw.display.ds9 as ds9\n",
    "import lsst.afw.table as afwTable\n",
    "\n",
    "import DiaSourceTools as DSTools\n",
    "import lsst.afw.display.utils as displayUtils\n",
    "import lsst.meas.algorithms.detection as sDet\n",
    "\n",
    "%matplotlib inline"
   ]
  },
  {
   "cell_type": "code",
   "execution_count": 212,
   "metadata": {
    "collapsed": true
   },
   "outputs": [],
   "source": [
    "DATADIR=\"/renoir_data_02/jpreyes/lsst_data/CFHTLS_master/\"\n",
    "butler = dafPersist.Butler(DATADIR+\"/output\")\n",
    "\n",
    "subset = butler.subset(\"deepDiff_diaSrc\")\n",
    "#file = open(\"diaSources.txt\", \"w\")\n",
    "diaSourcesList = []\n",
    "for dr_subSet in subset:\n",
    "    if dr_subSet.dataId[\"ccd\"]==14:\n",
    "        #file.write(\"visit=\"+str(dr_subSet.dataId[\"visit\"])+\"\\n\")\n",
    "        try:\n",
    "            diaSourcesList.append(dr_subSet)\n",
    "           \n",
    "        except:\n",
    "            pass"
   ]
  },
  {
   "cell_type": "code",
   "execution_count": 381,
   "metadata": {
    "collapsed": true
   },
   "outputs": [],
   "source": [
    "visit = visits[0]\n",
    "\n",
    "dataId = {'visit': visit , 'filter':'r' , 'ccd':14}\n",
    "diaSrcs = butler.get(\"deepDiff_diaSrc\", dataId)\n",
    "diffExp = butler.get(\"deepDiff_differenceExp\", dataId)\n",
    "sciExp  = butler.get(\"calexp\", dataId)\n",
    "tmpExp = butler.get(\"deepDiff_warpedExp\", dataId)\n",
    "bgConf = sDet.BackgroundConfig()\n",
    "background,tmpExp = sDet.estimateBackground(tmpExp,bgConf,True)"
   ]
  },
  {
   "cell_type": "code",
   "execution_count": 382,
   "metadata": {
    "collapsed": false
   },
   "outputs": [
    {
     "name": "stdout",
     "output_type": "stream",
     "text": [
      "89\n"
     ]
    }
   ],
   "source": [
    "fluxes, sigmas = DSTools.get_fluxes_and_sigmas(diaSrcs, \"base_PeakLikelihoodFlux_flux\")\n",
    "\n",
    "m_sigma = np.mean(sigmas)\n",
    "t_sigma = 5*m_sigma\n",
    "\n",
    "sources = DSTools.get_sources_over_sigma(diaSrcs, t_sigma, \"base_PeakLikelihoodFlux_flux\")\n",
    "print len(sources)"
   ]
  },
  {
   "cell_type": "code",
   "execution_count": 367,
   "metadata": {
    "collapsed": false
   },
   "outputs": [
    {
     "name": "stdout",
     "output_type": "stream",
     "text": [
      "\n",
      "  File \"src/image/Image.cc\", line 92, in static lsst::afw::image::ImageBase<PixelT>::_view_t lsst::afw::image::ImageBase<PixelT>::_makeSubView(const Extent2I&, const Extent2I&, const _view_t&) [with PixelT = float; lsst::afw::image::ImageBase<PixelT>::_view_t = boost::gil::image_view<boost::gil::memory_based_2d_locator<boost::gil::memory_based_step_iterator<boost::gil::pixel<float, boost::gil::layout<boost::mpl::vector1<boost::gil::gray_color_t> > >*> > >; lsst::afw::geom::Extent2I = lsst::afw::geom::Extent<int, 2>]\n",
      "    Box2I(Point2I(1777,2257),Extent2I(274,347)) doesn't fit in image 2048x4612 {0}\n",
      "lsst::pex::exceptions::LengthError: 'Box2I(Point2I(1777,2257),Extent2I(274,347)) doesn't fit in image 2048x4612'\n",
      "\n"
     ]
    }
   ],
   "source": [
    "mosaic_dif = displayUtils.Mosaic(gutter=3, background=3, mode=\"square\")\n",
    "mosaic_sci = displayUtils.Mosaic(gutter=3, background=3, mode=\"square\")\n",
    "mosaic_tmp = displayUtils.Mosaic(gutter=3, background=3, mode=\"square\")\n",
    "\n",
    "for i, source in enumerate(sources):\n",
    "    try:\n",
    "        dif_stamp = DSTools.get_stamp(source, diffExp)\n",
    "        \n",
    "        negFlux   = np.abs(source.get(\"ip_diffim_PsfDipoleFlux_neg_flux\"))\n",
    "        posFlux   = np.abs(source.get(\"ip_diffim_PsfDipoleFlux_pos_flux\"))\n",
    "        totalFlux=negFlux+posFlux\n",
    "        passesFluxNeg = (negFlux / totalFlux)\n",
    "        passesFluxPos = (posFlux / totalFlux)\n",
    "        \n",
    "        mosaic_dif.append(dif_stamp.getMaskedImage(), label=str(i)+\"-\"+str(source.get(\"classification_dipole\")))\n",
    "        \n",
    "        sci_stamp = DSTools.get_stamp(source, sciExp)\n",
    "        mosaic_sci.append(sci_stamp.getMaskedImage(), label=str(i))\n",
    "\n",
    "        \n",
    "        tmp_stamp = DSTools.get_stamp(source, tmpExp)\n",
    "        mosaic_tmp.append(tmp_stamp.getMaskedImage(), label=str(i))\n",
    "    except Exception, e:\n",
    "        print e"
   ]
  },
  {
   "cell_type": "code",
   "execution_count": 383,
   "metadata": {
    "collapsed": false
   },
   "outputs": [
    {
     "name": "stdout",
     "output_type": "stream",
     "text": [
      "ds9 doesn't appear to be running (XPA: XPA returned NULL, (;iconify no; raise)), I'll try to exec it for you\n"
     ]
    }
   ],
   "source": [
    "mosaic_dif.makeMosaic(frame=1, title=\"mosaic_dif\")\n",
    "ds9.setMaskTransparency(100, frame=1)\n",
    "mosaic_sci.makeMosaic(frame=2, title=\"mosaic_science\")\n",
    "ds9.setMaskTransparency(100, frame=2)\n",
    "mosaic_tmp.makeMosaic(frame=3, title=\"mosaic_template\")\n",
    "ds9.setMaskTransparency(100, frame=3)"
   ]
  },
  {
   "cell_type": "code",
   "execution_count": 384,
   "metadata": {
    "collapsed": false
   },
   "outputs": [],
   "source": [
    "ds9.mtv(diffExp, frame=4)\n",
    "\n",
    "for i, s in enumerate(sources):\n",
    "    ds9.dot(i, s.getX()-1, s.getY()-1, frame=4)"
   ]
  },
  {
   "cell_type": "raw",
   "metadata": {},
   "source": []
  },
  {
   "cell_type": "code",
   "execution_count": null,
   "metadata": {
    "collapsed": false
   },
   "outputs": [],
   "source": [
    "reload(DSTools)"
   ]
  },
  {
   "cell_type": "code",
   "execution_count": null,
   "metadata": {
    "collapsed": false
   },
   "outputs": [],
   "source": [
    "for i, s in enumerate(sources):\n",
    "    try:\n",
    "        print \"===========Source # \"+ str(i) +\"==============\"\n",
    "        te_stamp = DSTools.get_stamp(s, diffExp)\n",
    "        print \"negative lobe\"\n",
    "        DSTools.plot_cumulative_flux(te_stamp, \"DETECTED_NEGATIVE\", positive=False)\n",
    "        print \"positive lobe\"\n",
    "        DSTools.plot_cumulative_flux(te_stamp, \"DETECTED\")\n",
    "    except Exception, e:\n",
    "        print e"
   ]
  },
  {
   "cell_type": "code",
   "execution_count": null,
   "metadata": {
    "collapsed": false
   },
   "outputs": [],
   "source": [
    "ds9.mtv(sciExp, frame=6)"
   ]
  },
  {
   "cell_type": "code",
   "execution_count": null,
   "metadata": {
    "collapsed": true
   },
   "outputs": [],
   "source": [
    "dipoles_pos = []\n",
    "dipoles_neg = []\n",
    "maybe_dipoles_pos = []\n",
    "maybe_dipoles_neg = []\n",
    "rejected_dipoles_pos = []\n",
    "rejected_dipoles_neg = []\n",
    "others_pos = []\n",
    "others_neg = []\n",
    "transients = []"
   ]
  },
  {
   "cell_type": "code",
   "execution_count": null,
   "metadata": {
    "collapsed": true
   },
   "outputs": [],
   "source": [
    "transient = 20"
   ]
  },
  {
   "cell_type": "code",
   "execution_count": 321,
   "metadata": {
    "collapsed": false
   },
   "outputs": [
    {
     "name": "stdout",
     "output_type": "stream",
     "text": [
      "\n",
      "  File \"src/image/Image.cc\", line 92, in static lsst::afw::image::ImageBase<PixelT>::_view_t lsst::afw::image::ImageBase<PixelT>::_makeSubView(const Extent2I&, const Extent2I&, const _view_t&) [with PixelT = float; lsst::afw::image::ImageBase<PixelT>::_view_t = boost::gil::image_view<boost::gil::memory_based_2d_locator<boost::gil::memory_based_step_iterator<boost::gil::pixel<float, boost::gil::layout<boost::mpl::vector1<boost::gil::gray_color_t> > >*> > >; lsst::afw::geom::Extent2I = lsst::afw::geom::Extent<int, 2>]\n",
      "    Box2I(Point2I(1855,2226),Extent2I(195,137)) doesn't fit in image 2048x4612 {0}\n",
      "lsst::pex::exceptions::LengthError: 'Box2I(Point2I(1855,2226),Extent2I(195,137)) doesn't fit in image 2048x4612'\n",
      "\n"
     ]
    }
   ],
   "source": [
    "for i, s in enumerate(sources):\n",
    "    try:\n",
    "        stamp = DSTools.get_stamp(s, diffExp)\n",
    "        stamp_clone = stamp.clone()\n",
    "        results = DSTools.detect_diasources(stamp_clone, doSmooth=True)\n",
    "        negFps = len(results.fpSets.negative.getFootprints())\n",
    "        posFps = len(results.fpSets.positive.getFootprints())\n",
    "        pos_flux_at_25 = get_flux_percentage_at(stamp)\n",
    "        neg_flux_at_25 = get_flux_percentage_at(stamp, plane_mask=\"DETECTED_NEGATIVE\")\n",
    "        \n",
    "        if i == transient:            \n",
    "            transients.append(pos_flux_at_25)\n",
    "        elif negFps >0 and posFps>0:\n",
    "            if DSTools.get_naive_dipole_probability(s) == 1.0:\n",
    "                dipoles_pos.append(pos_flux_at_25)\n",
    "                dipoles_neg.append(neg_flux_at_25)\n",
    "            elif np.isnan(s.get(\"ip_diffim_PsfDipoleFlux_pos_flux\")) or np.isnan(s.get(\"ip_diffim_PsfDipoleFlux_neg_flux\")):\n",
    "            \n",
    "                maybe_dipoles_pos.append(pos_flux_at_25)\n",
    "                maybe_dipoles_neg.append(neg_flux_at_25)\n",
    "            else:\n",
    "                rejected_dipoles_pos.append(pos_flux_at_25)\n",
    "                rejected_dipoles_neg.append(neg_flux_at_25)\n",
    "        else: \n",
    "            #print i\n",
    "            #print \"by default pos\", pos_flux_at_25\n",
    "            #print \"by default neg\", neg_flux_at_25\n",
    "            if pos_flux_at_25 is not None:\n",
    "                \n",
    "                others_pos.append(pos_flux_at_25)\n",
    "            else:\n",
    "                \n",
    "                others_neg.append(neg_flux_at_25)\n",
    "                \n",
    "        \n",
    "    except Exception, e:\n",
    "        print e"
   ]
  },
  {
   "cell_type": "code",
   "execution_count": 322,
   "metadata": {
    "collapsed": false
   },
   "outputs": [
    {
     "name": "stdout",
     "output_type": "stream",
     "text": [
      "[0.61072212775659573, 0.58797682386826899, 0.63716870569514317, 0.71246185740110668, 0.95040064464655605]\n"
     ]
    }
   ],
   "source": [
    "#print dipoles_pos\n",
    "#print dipoles_neg\n",
    "#print maybe_dipoles_pos\n",
    "#print maybe_dipoles_neg\n",
    "#print rejected_dipoles_neg\n",
    "#print rejected_dipoles_pos\n",
    "#print others_pos\n",
    "#print others_neg\n",
    "print transients"
   ]
  },
  {
   "cell_type": "code",
   "execution_count": 324,
   "metadata": {
    "collapsed": false
   },
   "outputs": [
    {
     "data": {
      "image/png": "[encoded data removed]",
      "text/plain": [
       "<matplotlib.figure.Figure at 0x7fd6425c5050>"
      ]
     },
     "metadata": {},
     "output_type": "display_data"
    }
   ],
   "source": [
    "size = 10\n",
    "p = 'b'\n",
    "n = 'r'\n",
    "\n",
    "plt.figure(figsize=(10,10))\n",
    "plt.scatter([1 for val in dipoles_pos], dipoles_pos, s=size, c=p, lw=0)\n",
    "plt.scatter([1 for val in dipoles_neg], dipoles_neg, s=size, c=n, lw=0)\n",
    "\n",
    "plt.scatter([2 for val in maybe_dipoles_pos], maybe_dipoles_pos , s=size, c=p, lw=0)\n",
    "plt.scatter([2 for val in maybe_dipoles_neg], maybe_dipoles_neg , s=size, c=n, lw=0)\n",
    "\n",
    "plt.scatter([3 for val in rejected_dipoles_pos], rejected_dipoles_pos , s=size, c=p, lw=0)\n",
    "plt.scatter([3 for val in rejected_dipoles_neg], rejected_dipoles_neg , s=size, c=n, lw=0)\n",
    "\n",
    "plt.scatter([4 for val in others_pos], others_pos , s=size, c=p, lw=0)\n",
    "plt.scatter([4 for val in others_neg], others_neg , s=size, c=n, lw=0)\n",
    "\n",
    "plt.scatter([5 for val in transients], transients, s=size, lw=0)\n",
    "\n",
    "plt.xticks([1,2,3,4, 5], [\"dipoles\", \"uncertain dipoles\", \"rejected dipoles\",  \"others\", \"transients\"])\n",
    "\n",
    "plt.yticks(np.arange(0, 1.1, 0.1))\n",
    "\n",
    "axes = plt.axes()\n",
    "axes.grid(True)\n",
    "\n",
    "plt.show()"
   ]
  },
  {
   "cell_type": "code",
   "execution_count": 199,
   "metadata": {
    "collapsed": false
   },
   "outputs": [],
   "source": [
    "def get_flux_percentage_at(stamp, percent = 0.25, plane_mask=\"DETECTED\", positive=True):\n",
    "    \n",
    "    cumsum = DSTools.get_cumulative_flux(stamp, plane_mask=plane_mask, positive=positive)\n",
    "    \n",
    "    if cumsum is None:\n",
    "        return None\n",
    "    \n",
    "    total = float(len(cumsum))\n",
    "    \n",
    "    for i, value in enumerate(cumsum):\n",
    "        #print i, float(i+1)/total, 1-value\n",
    "        if float(i+1)/total > (1-percent):\n",
    "            return 1-value"
   ]
  },
  {
   "cell_type": "code",
   "execution_count": 217,
   "metadata": {
    "collapsed": false,
    "scrolled": false
   },
   "outputs": [
    {
     "name": "stdout",
     "output_type": "stream",
     "text": [
      "0.57740730663\n",
      "0.579036010867\n",
      "0.254098360656 30\n",
      "75% of sources contribute 95.1357749525% of total flux\n",
      "50% of sources contribute 81.697957735% of total flux\n",
      "25% of sources contribute 57.740730663% of total flux\n",
      "10% of sources contribute 33.526750733% of total flux\n"
     ]
    },
    {
     "data": {
      "image/png": "[encoded data removed]",
      "text/plain": [
       "<matplotlib.figure.Figure at 0x7fd64202cad0>"
      ]
     },
     "metadata": {},
     "output_type": "display_data"
    },
    {
     "data": {
      "text/plain": [
       "array([  8.11916301e-05,   3.46057864e-04,   6.11998594e-04,\n",
       "         9.03598923e-04,   1.31477299e-03,   1.78132367e-03,\n",
       "         2.28734203e-03,   2.84897760e-03,   3.42594478e-03,\n",
       "         4.36965178e-03,   5.35117462e-03,   6.56480451e-03,\n",
       "         7.82710745e-03,   9.21037936e-03,   1.07633895e-02,\n",
       "         1.23917748e-02,   1.41262143e-02,   1.59426524e-02,\n",
       "         1.78478085e-02,   1.98405760e-02,   2.19008765e-02,\n",
       "         2.41259597e-02,   2.66040946e-02,   2.91646610e-02,\n",
       "         3.17986139e-02,   3.44353733e-02,   3.71311978e-02,\n",
       "         3.98530028e-02,   4.27240503e-02,   4.56637694e-02,\n",
       "         4.86422505e-02,   5.17290632e-02,   5.50544941e-02,\n",
       "         5.85384533e-02,   6.22833546e-02,   6.60792863e-02,\n",
       "         6.99805347e-02,   7.38895291e-02,   7.78133580e-02,\n",
       "         8.17837269e-02,   8.58365113e-02,   8.99116516e-02,\n",
       "         9.39983708e-02,   9.81009348e-02,   1.02211052e-01,\n",
       "         1.06358922e-01,   1.10652617e-01,   1.14972438e-01,\n",
       "         1.19422706e-01,   1.23894303e-01,   1.28419913e-01,\n",
       "         1.32956157e-01,   1.37561072e-01,   1.42268079e-01,\n",
       "         1.47070942e-01,   1.51883170e-01,   1.56696874e-01,\n",
       "         1.61620561e-01,   1.66794157e-01,   1.72027764e-01,\n",
       "         1.77468717e-01,   1.83020423e-01,   1.88738034e-01,\n",
       "         1.94477215e-01,   2.00451839e-01,   2.06638957e-01,\n",
       "         2.13228273e-01,   2.19897791e-01,   2.26602159e-01,\n",
       "         2.33672239e-01,   2.40753065e-01,   2.48273247e-01,\n",
       "         2.55803821e-01,   2.63381641e-01,   2.70996250e-01,\n",
       "         2.78640433e-01,   2.86293307e-01,   2.94120859e-01,\n",
       "         3.02346487e-01,   3.10596958e-01,   3.19137991e-01,\n",
       "         3.27698830e-01,   3.36477054e-01,   3.45584523e-01,\n",
       "         3.54812127e-01,   3.64179993e-01,   3.73630627e-01,\n",
       "         3.83203753e-01,   3.92836394e-01,   4.02507476e-01,\n",
       "         4.12341239e-01,   4.22592693e-01,   4.32930267e-01,\n",
       "         4.43314446e-01,   4.53996323e-01,   4.65380697e-01,\n",
       "         4.77238281e-01,   4.89137595e-01,   5.01913793e-01,\n",
       "         5.14892317e-01,   5.28082854e-01,   5.41495105e-01,\n",
       "         5.55754877e-01,   5.70051182e-01,   5.84734482e-01,\n",
       "         5.99707430e-01,   6.14817530e-01,   6.30539931e-01,\n",
       "         6.47318513e-01,   6.64732493e-01,   6.83136933e-01,\n",
       "         7.02602269e-01,   7.27038639e-01,   7.51547401e-01,\n",
       "         7.76622984e-01,   8.02099209e-01,   8.27838991e-01,\n",
       "         8.54923143e-01,   8.88007055e-01,   9.22192405e-01,\n",
       "         9.57531411e-01,   1.00000000e+00])"
      ]
     },
     "execution_count": 217,
     "metadata": {},
     "output_type": "execute_result"
    }
   ],
   "source": [
    "stamp = DSTools.get_stamp(sources[8], diffExp)\n",
    "print get_flux_percentage_at(stamp, percent=0.25, plane_mask=\"DETECTED_NEGATIVE\", positive=False)\n",
    "print get_flux_percentage_at(stamp, percent=0.25, plane_mask=\"DETECTED_NEGATIVE\", positive=True)\n",
    "DSTools.plot_cumulative_flux(stamp, \"DETECTED_NEGATIVE\", positive=False)"
   ]
  },
  {
   "cell_type": "code",
   "execution_count": null,
   "metadata": {
    "collapsed": true
   },
   "outputs": [],
   "source": []
  },
  {
   "cell_type": "code",
   "execution_count": 369,
   "metadata": {
    "collapsed": true
   },
   "outputs": [],
   "source": [
    "visits = [845345, 849373, 849686, 850180, 850586, 851060]\n",
    "transient_n = [63, 20, 26, 22, 31, 85]\n",
    "\n",
    "diff_exps = [butler.get(\"deepDiff_differenceExp\", {'visit': visit , 'filter':'r' , 'ccd':14}) for visit in visits]\n",
    "diaSrcs_list = [butler.get(\"deepDiff_diaSrc\", {'visit': visit , 'filter':'r' , 'ccd':14}) for visit in visits]\n",
    "sources_list = []"
   ]
  },
  {
   "cell_type": "code",
   "execution_count": 370,
   "metadata": {
    "collapsed": false
   },
   "outputs": [
    {
     "name": "stdout",
     "output_type": "stream",
     "text": [
      "89\n",
      "27\n",
      "36\n",
      "37\n",
      "46\n",
      "115\n"
     ]
    }
   ],
   "source": [
    "for diaSrcs in  diaSrcs_list:\n",
    "    fluxes, sigmas = DSTools.get_fluxes_and_sigmas(diaSrcs, \"base_PeakLikelihoodFlux_flux\")\n",
    "\n",
    "    m_sigma = np.mean(sigmas)\n",
    "    t_sigma = 5*m_sigma\n",
    "\n",
    "    sources = DSTools.get_sources_over_sigma(diaSrcs, t_sigma, \"base_PeakLikelihoodFlux_flux\")\n",
    "    sources_list.append(sources)\n",
    "    print len(sources)"
   ]
  },
  {
   "cell_type": "code",
   "execution_count": 379,
   "metadata": {
    "collapsed": false
   },
   "outputs": [
    {
     "name": "stdout",
     "output_type": "stream",
     "text": [
      "None\n",
      "None\n"
     ]
    }
   ],
   "source": [
    "ss = sources_list[0]\n",
    "s = ss[63]\n",
    "stamp = DSTools.get_stamp(s, diffExp)\n",
    "stamp_clone = stamp.clone()\n",
    "results = DSTools.detect_diasources(stamp_clone, doSmooth=True)\n",
    "negFps = len(results.fpSets.negative.getFootprints())\n",
    "posFps = len(results.fpSets.positive.getFootprints())\n",
    "pos_flux_at_25 = get_flux_percentage_at(stamp)\n",
    "print pos_flux_at_25\n",
    "print DSTools.get_cumulative_flux(stamp)"
   ]
  },
  {
   "cell_type": "code",
   "execution_count": 385,
   "metadata": {
    "collapsed": false
   },
   "outputs": [],
   "source": [
    "ds9.mtv(stamp)"
   ]
  },
  {
   "cell_type": "code",
   "execution_count": 407,
   "metadata": {
    "collapsed": true
   },
   "outputs": [],
   "source": [
    "dipoles_pos = []\n",
    "dipoles_neg = []\n",
    "maybe_dipoles_pos = []\n",
    "maybe_dipoles_neg = []\n",
    "rejected_dipoles_pos = []\n",
    "rejected_dipoles_neg = []\n",
    "others_pos = []\n",
    "others_neg = []\n",
    "transients = []"
   ]
  },
  {
   "cell_type": "code",
   "execution_count": 408,
   "metadata": {
    "collapsed": true
   },
   "outputs": [],
   "source": [
    "dipoles = 0\n",
    "uncertain_dipoles = 0\n",
    "rejected_dipoles = 0\n",
    "others = 0\n",
    "transients_count = 0"
   ]
  },
  {
   "cell_type": "code",
   "execution_count": 409,
   "metadata": {
    "collapsed": false
   },
   "outputs": [
    {
     "name": "stdout",
     "output_type": "stream",
     "text": [
      "\n",
      "  File \"src/image/Image.cc\", line 92, in static lsst::afw::image::ImageBase<PixelT>::_view_t lsst::afw::image::ImageBase<PixelT>::_makeSubView(const Extent2I&, const Extent2I&, const _view_t&) [with PixelT = float; lsst::afw::image::ImageBase<PixelT>::_view_t = boost::gil::image_view<boost::gil::memory_based_2d_locator<boost::gil::memory_based_step_iterator<boost::gil::pixel<float, boost::gil::layout<boost::mpl::vector1<boost::gil::gray_color_t> > >*> > >; lsst::afw::geom::Extent2I = lsst::afw::geom::Extent<int, 2>]\n",
      "    Box2I(Point2I(1855,2226),Extent2I(195,137)) doesn't fit in image 2048x4612 {0}\n",
      "lsst::pex::exceptions::LengthError: 'Box2I(Point2I(1855,2226),Extent2I(195,137)) doesn't fit in image 2048x4612'\n",
      "\n",
      "\n",
      "  File \"src/image/Image.cc\", line 92, in static lsst::afw::image::ImageBase<PixelT>::_view_t lsst::afw::image::ImageBase<PixelT>::_makeSubView(const Extent2I&, const Extent2I&, const _view_t&) [with PixelT = float; lsst::afw::image::ImageBase<PixelT>::_view_t = boost::gil::image_view<boost::gil::memory_based_2d_locator<boost::gil::memory_based_step_iterator<boost::gil::pixel<float, boost::gil::layout<boost::mpl::vector1<boost::gil::gray_color_t> > >*> > >; lsst::afw::geom::Extent2I = lsst::afw::geom::Extent<int, 2>]\n",
      "    Box2I(Point2I(1190,1),Extent2I(860,947)) doesn't fit in image 2048x4612 {0}\n",
      "lsst::pex::exceptions::LengthError: 'Box2I(Point2I(1190,1),Extent2I(860,947)) doesn't fit in image 2048x4612'\n",
      "\n",
      "\n",
      "  File \"src/image/Image.cc\", line 92, in static lsst::afw::image::ImageBase<PixelT>::_view_t lsst::afw::image::ImageBase<PixelT>::_makeSubView(const Extent2I&, const Extent2I&, const _view_t&) [with PixelT = float; lsst::afw::image::ImageBase<PixelT>::_view_t = boost::gil::image_view<boost::gil::memory_based_2d_locator<boost::gil::memory_based_step_iterator<boost::gil::pixel<float, boost::gil::layout<boost::mpl::vector1<boost::gil::gray_color_t> > >*> > >; lsst::afw::geom::Extent2I = lsst::afw::geom::Extent<int, 2>]\n",
      "    Box2I(Point2I(983,0),Extent2I(1068,1091)) doesn't fit in image 2048x4612 {0}\n",
      "lsst::pex::exceptions::LengthError: 'Box2I(Point2I(983,0),Extent2I(1068,1091)) doesn't fit in image 2048x4612'\n",
      "\n",
      "\n",
      "  File \"src/image/Image.cc\", line 92, in static lsst::afw::image::ImageBase<PixelT>::_view_t lsst::afw::image::ImageBase<PixelT>::_makeSubView(const Extent2I&, const Extent2I&, const _view_t&) [with PixelT = float; lsst::afw::image::ImageBase<PixelT>::_view_t = boost::gil::image_view<boost::gil::memory_based_2d_locator<boost::gil::memory_based_step_iterator<boost::gil::pixel<float, boost::gil::layout<boost::mpl::vector1<boost::gil::gray_color_t> > >*> > >; lsst::afw::geom::Extent2I = lsst::afw::geom::Extent<int, 2>]\n",
      "    Box2I(Point2I(1801,2231),Extent2I(250,404)) doesn't fit in image 2048x4612 {0}\n",
      "lsst::pex::exceptions::LengthError: 'Box2I(Point2I(1801,2231),Extent2I(250,404)) doesn't fit in image 2048x4612'\n",
      "\n",
      "\n",
      "  File \"src/image/Image.cc\", line 92, in static lsst::afw::image::ImageBase<PixelT>::_view_t lsst::afw::image::ImageBase<PixelT>::_makeSubView(const Extent2I&, const Extent2I&, const _view_t&) [with PixelT = float; lsst::afw::image::ImageBase<PixelT>::_view_t = boost::gil::image_view<boost::gil::memory_based_2d_locator<boost::gil::memory_based_step_iterator<boost::gil::pixel<float, boost::gil::layout<boost::mpl::vector1<boost::gil::gray_color_t> > >*> > >; lsst::afw::geom::Extent2I = lsst::afw::geom::Extent<int, 2>]\n",
      "    Box2I(Point2I(256,4493),Extent2I(213,122)) doesn't fit in image 2048x4612 {0}\n",
      "lsst::pex::exceptions::LengthError: 'Box2I(Point2I(256,4493),Extent2I(213,122)) doesn't fit in image 2048x4612'\n",
      "\n",
      "\n",
      "  File \"src/image/Image.cc\", line 92, in static lsst::afw::image::ImageBase<PixelT>::_view_t lsst::afw::image::ImageBase<PixelT>::_makeSubView(const Extent2I&, const Extent2I&, const _view_t&) [with PixelT = float; lsst::afw::image::ImageBase<PixelT>::_view_t = boost::gil::image_view<boost::gil::memory_based_2d_locator<boost::gil::memory_based_step_iterator<boost::gil::pixel<float, boost::gil::layout<boost::mpl::vector1<boost::gil::gray_color_t> > >*> > >; lsst::afw::geom::Extent2I = lsst::afw::geom::Extent<int, 2>]\n",
      "    Box2I(Point2I(954,0),Extent2I(1097,1019)) doesn't fit in image 2048x4612 {0}\n",
      "lsst::pex::exceptions::LengthError: 'Box2I(Point2I(954,0),Extent2I(1097,1019)) doesn't fit in image 2048x4612'\n",
      "\n",
      "\n",
      "  File \"src/image/Image.cc\", line 92, in static lsst::afw::image::ImageBase<PixelT>::_view_t lsst::afw::image::ImageBase<PixelT>::_makeSubView(const Extent2I&, const Extent2I&, const _view_t&) [with PixelT = float; lsst::afw::image::ImageBase<PixelT>::_view_t = boost::gil::image_view<boost::gil::memory_based_2d_locator<boost::gil::memory_based_step_iterator<boost::gil::pixel<float, boost::gil::layout<boost::mpl::vector1<boost::gil::gray_color_t> > >*> > >; lsst::afw::geom::Extent2I = lsst::afw::geom::Extent<int, 2>]\n",
      "    Box2I(Point2I(1803,2341),Extent2I(248,159)) doesn't fit in image 2048x4612 {0}\n",
      "lsst::pex::exceptions::LengthError: 'Box2I(Point2I(1803,2341),Extent2I(248,159)) doesn't fit in image 2048x4612'\n",
      "\n"
     ]
    }
   ],
   "source": [
    "for sources, transient, diffExp in zip(sources_list, transient_n, diff_exps):\n",
    "    for i, s in enumerate(sources):\n",
    "        try:\n",
    "            stamp = DSTools.get_stamp(s, diffExp)\n",
    "            stamp_clone = stamp.clone()\n",
    "            results = DSTools.detect_diasources(stamp_clone, doSmooth=True)\n",
    "            negFps = len(results.fpSets.negative.getFootprints())\n",
    "            posFps = len(results.fpSets.positive.getFootprints())\n",
    "            pos_flux_at_25 = get_flux_percentage_at(stamp)\n",
    "            neg_flux_at_25 = get_flux_percentage_at(stamp, plane_mask=\"DETECTED_NEGATIVE\")\n",
    "\n",
    "            if i == transient:      \n",
    "                transients_count +=1\n",
    "                transients.append(pos_flux_at_25)\n",
    "            elif negFps >0 and posFps>0:\n",
    "                if DSTools.get_naive_dipole_probability(s) == 1.0:\n",
    "                    dipoles_pos.append(pos_flux_at_25)\n",
    "                    dipoles_neg.append(neg_flux_at_25)\n",
    "                    dipoles += 1\n",
    "                elif np.isnan(s.get(\"ip_diffim_PsfDipoleFlux_pos_flux\")) or np.isnan(s.get(\"ip_diffim_PsfDipoleFlux_neg_flux\")):\n",
    "                    uncertain_dipoles+=1\n",
    "                    maybe_dipoles_pos.append(pos_flux_at_25)\n",
    "                    maybe_dipoles_neg.append(neg_flux_at_25)\n",
    "                else:\n",
    "                    rejected_dipoles+=1\n",
    "                    rejected_dipoles_pos.append(pos_flux_at_25)\n",
    "                    rejected_dipoles_neg.append(neg_flux_at_25)\n",
    "            else: \n",
    "                #print i\n",
    "                #print \"by default pos\", pos_flux_at_25\n",
    "                #print \"by default neg\", neg_flux_at_25\n",
    "                others+=1\n",
    "                if pos_flux_at_25 is not None:\n",
    "\n",
    "                    others_pos.append(pos_flux_at_25)\n",
    "                else:\n",
    "\n",
    "                    others_neg.append(neg_flux_at_25)\n",
    "\n",
    "\n",
    "        except Exception, e:\n",
    "            print e"
   ]
  },
  {
   "cell_type": "code",
   "execution_count": 575,
   "metadata": {
    "collapsed": false
   },
   "outputs": [
    {
     "data": {
      "image/png": "[encoded data removed]",
      "text/plain": [
       "<matplotlib.figure.Figure at 0x7fd641e26e90>"
      ]
     },
     "metadata": {},
     "output_type": "display_data"
    }
   ],
   "source": [
    "size = 10\n",
    "p = 'b'\n",
    "n = 'r'\n",
    "\n",
    "plt.figure(figsize=(12,12))\n",
    "data = [dipoles, uncertain_dipoles+rejected_dipoles, others+transients_count]\n",
    "labels = [\"Dipoles\", \"Fringes\",  \"Others\"]\n",
    "\n",
    "ind = np.arange(len(data))\n",
    "\n",
    "p1 = plt.bar(ind, data, align='center')\n",
    "ax = plt.axes()\n",
    "\n",
    "plt.ylabel(\"Number of detections\", size=20)\n",
    "\n",
    "total = sum(data)\n",
    "\n",
    "plt.xticks(ind, labels, size=25)\n",
    "plt.yticks(np.arange(0, total+10, 25))\n",
    "plt.title(\"Relation of classified objects with diaSource algorithm measurements\", size = 20)\n",
    "\n",
    "\n",
    "for i, rect in enumerate(p1):\n",
    "    plt.text(rect.get_x()+rect.get_width()/2.75 ,rect.get_height()+1, int(rect.get_height()), size=35)\n",
    "\n",
    "\n",
    "#plt.bar([i for i in range(5)],data )"
   ]
  },
  {
   "cell_type": "code",
   "execution_count": 400,
   "metadata": {
    "collapsed": false
   },
   "outputs": [
    {
     "data": {
      "image/png": "[encoded data removed]",
      "text/plain": [
       "<matplotlib.figure.Figure at 0x7fd649101890>"
      ]
     },
     "metadata": {},
     "output_type": "display_data"
    }
   ],
   "source": [
    "size = 10\n",
    "p = 'b'\n",
    "n = 'r'\n",
    "\n",
    "plt.figure(figsize=(10,10))\n",
    "plt.scatter([1 for val in dipoles_pos], dipoles_pos, s=size, c=p, lw=0)\n",
    "plt.scatter([1 for val in dipoles_neg], dipoles_neg, s=size, c=n, lw=0)\n",
    "\n",
    "plt.scatter([2 for val in maybe_dipoles_pos], maybe_dipoles_pos , s=size, c=p, lw=0)\n",
    "plt.scatter([2 for val in maybe_dipoles_neg], maybe_dipoles_neg , s=size, c=n, lw=0)\n",
    "\n",
    "plt.scatter([3 for val in rejected_dipoles_pos], rejected_dipoles_pos , s=size, c=p, lw=0)\n",
    "plt.scatter([3 for val in rejected_dipoles_neg], rejected_dipoles_neg , s=size, c=n, lw=0)\n",
    "\n",
    "plt.scatter([4 for val in others_pos], others_pos , s=size, c=p, lw=0)\n",
    "plt.scatter([4 for val in others_neg], others_neg , s=size, c=n, lw=0)\n",
    "\n",
    "plt.scatter([5 for val in transients], transients, s=size, lw=0)\n",
    "\n",
    "plt.xticks([1,2,3,4, 5], [\"dipoles\", \"uncertain dipoles\", \"rejected dipoles\",  \"others\", \"transients\"])\n",
    "\n",
    "plt.yticks(np.arange(0, 1.1, 0.1))\n",
    "\n",
    "axes = plt.axes()\n",
    "axes.grid(True)\n",
    "\n",
    "positive_medians = [np.median(dipoles_pos), np.median(maybe_dipoles_pos), np.median(rejected_dipoles_pos), np.median(others_pos), np.median(transients)]\n",
    "negative_medians = [np.median(dipoles_neg), np.median(maybe_dipoles_neg), np.median(rejected_dipoles_neg), np.median(others_neg)]\n",
    "\n",
    "\n",
    "plt.scatter([i+1 for i in range(len(positive_medians))], positive_medians, marker=\"^\", s=size*10, c='y', lw=0)\n",
    "plt.scatter([i+1 for i in range(len(negative_medians))], negative_medians, marker=\"^\", s=size*10, c='g', lw=0)\n",
    "\n",
    "plt.show()"
   ]
  },
  {
   "cell_type": "code",
   "execution_count": 375,
   "metadata": {
    "collapsed": false
   },
   "outputs": [
    {
     "name": "stdout",
     "output_type": "stream",
     "text": [
      "0.627994341328\n",
      "0.653190149576\n"
     ]
    }
   ],
   "source": [
    "print np.median(dipoles_pos)\n",
    "print np.median(dipoles_neg)"
   ]
  },
  {
   "cell_type": "code",
   "execution_count": 550,
   "metadata": {
    "collapsed": false
   },
   "outputs": [
    {
     "data": {
      "text/plain": [
       "<module 'DiaSourceTools' from 'DiaSourceTools.py'>"
      ]
     },
     "execution_count": 550,
     "metadata": {},
     "output_type": "execute_result"
    }
   ],
   "source": [
    "reload(DSTools)"
   ]
  },
  {
   "cell_type": "code",
   "execution_count": 555,
   "metadata": {
    "collapsed": true
   },
   "outputs": [],
   "source": [
    "def get_time_mosaic(dataid_list, source, frame=1):\n",
    "    mosaic = displayUtils.Mosaic(gutter=5, background=3, mode=\"x\")\n",
    "    \n",
    "    \n",
    "    \n",
    "    for dataid in dataid_list:\n",
    "        \n",
    "        mosaic_temp = displayUtils.Mosaic(gutter=0, background=0, mode=\"y\")\n",
    "        \n",
    "        diffExp = butler.get(\"deepDiff_differenceExp\", dataid)\n",
    "        sciExp  = butler.get(\"calexp\", dataid)\n",
    "        tmpExp = butler.get(\"deepDiff_warpedExp\", dataid)\n",
    "        bgConf = sDet.BackgroundConfig()\n",
    "        background,tmpExp = sDet.estimateBackground(tmpExp,bgConf,True)\n",
    "        \n",
    "        s1 = DSTools.get_stamp(source, sciExp)\n",
    "        s2 = DSTools.get_stamp(source, tmpExp)\n",
    "        s3 = DSTools.get_stamp(source, diffExp)\n",
    "        \n",
    "        mosaic_temp.append(s1.getMaskedImage())\n",
    "        mosaic_temp.append(s2.getMaskedImage())\n",
    "        mosaic_temp.append(s3.getMaskedImage())\n",
    "        m = mosaic_temp.makeMosaic(frame=None, display=None).clone()\n",
    "        mosaic.append(m)\n",
    "        \n",
    "    mosaic.makeMosaic(frame=frame, title=\"time mosaic\")\n",
    "        "
   ]
  },
  {
   "cell_type": "code",
   "execution_count": 565,
   "metadata": {
    "collapsed": false
   },
   "outputs": [],
   "source": [
    "reload(DSTools)\n",
    "dataids = [{'visit': visit , 'filter':'r' , 'ccd':14} for visit in visits]\n",
    "DSTools.get_time_mosaic(butler, dataids, sources_list[-1][85])"
   ]
  },
  {
   "cell_type": "code",
   "execution_count": 554,
   "metadata": {
    "collapsed": false
   },
   "outputs": [
    {
     "data": {
      "text/plain": [
       "[{'ccd': 14, 'filter': 'r', 'visit': 845345},\n",
       " {'ccd': 14, 'filter': 'r', 'visit': 849373},\n",
       " {'ccd': 14, 'filter': 'r', 'visit': 849686},\n",
       " {'ccd': 14, 'filter': 'r', 'visit': 850180},\n",
       " {'ccd': 14, 'filter': 'r', 'visit': 850586},\n",
       " {'ccd': 14, 'filter': 'r', 'visit': 851060}]"
      ]
     },
     "execution_count": 554,
     "metadata": {},
     "output_type": "execute_result"
    }
   ],
   "source": [
    "dataids"
   ]
  },
  {
   "cell_type": "code",
   "execution_count": null,
   "metadata": {
    "collapsed": true
   },
   "outputs": [],
   "source": []
  },
  {
   "cell_type": "code",
   "execution_count": 433,
   "metadata": {
    "collapsed": true
   },
   "outputs": [],
   "source": [
    "mosaic = displayUtils.Mosaic(gutter=5, background=3, mode=\"x\")"
   ]
  },
  {
   "cell_type": "code",
   "execution_count": 446,
   "metadata": {
    "collapsed": false
   },
   "outputs": [
    {
     "data": {
      "text/plain": [
       "<lsst.afw.image.imageLib.MaskedImageF; proxy of <Swig Object of type 'boost::shared_ptr< lsst::afw::image::MaskedImage< float,lsst::afw::image::MaskPixel,lsst::afw::image::VariancePixel > > *' at 0x7fd64248b390> >"
      ]
     },
     "execution_count": 446,
     "metadata": {},
     "output_type": "execute_result"
    }
   ],
   "source": [
    "mosaic_temp = displayUtils.Mosaic(gutter=5, background=3, mode=\"x\")\n",
    "mosaic_temp.append(DSTools.get_stamp(sources[0], sciExp).getMaskedImage())\n",
    "\n",
    "mosaic_temp.makeMosaic(frame=None, display=None)"
   ]
  },
  {
   "cell_type": "code",
   "execution_count": 557,
   "metadata": {
    "collapsed": true
   },
   "outputs": [],
   "source": [
    "import lsst.afw.geom as afwGeom\n",
    "\n",
    "exposure = butler.get(\"calexp\", dataids[0])\n",
    "offset=10\n",
    "sources = sources_list[-1]\n",
    "source = sources[10]"
   ]
  },
  {
   "cell_type": "code",
   "execution_count": 558,
   "metadata": {
    "collapsed": false
   },
   "outputs": [],
   "source": [
    "bbox = source.getFootprint().getBBox()\n",
    "\n",
    "sourceRa = source.getRa()\n",
    "sourceDec = source.getDec()\n",
    "\n",
    "\n",
    "wcs = exposure.getWcs()\n",
    "\n",
    "\n",
    "mos = displayUtils.Mosaic()\n",
    "\n",
    "\n",
    "Center = afwGeom.Point2I(wcs.skyToPixel(sourceRa, sourceDec))\n",
    "\n",
    "Begin = afwGeom.Point2D(Center.getX() - bbox.getHeight()/2., Center.getY() - bbox.getHeight()/2.)\n",
    "Begin = afwGeom.Point2I(Begin)\n",
    "End = afwGeom.Point2D(Center.getX() + bbox.getHeight()/2., Center.getY() + bbox.getHeight()/2.)\n",
    "End = afwGeom.Point2I(End)\n",
    "\n",
    "ExpOrig = afwGeom.Point2I(exposure.getX0()-1, exposure.getY0()-1)\n",
    "\n",
    "\n",
    "\n",
    "\n",
    "correctedBegin = Begin- ExpOrig\n",
    "correctedEnd = End - ExpOrig\n",
    "\n",
    "correctedBegin= afwGeom.Point2I(correctedBegin.getX()-offset,correctedBegin.getY()-offset )\n",
    "correctedEnd = afwGeom.Point2I(correctedEnd.getX()+offset,correctedEnd.getY()+offset )\n",
    "\n",
    "\n",
    "\n",
    "\n",
    "bboxT = afwGeom.Box2I(correctedBegin,correctedEnd)\n",
    "\n",
    "exp = exposure.Factory(exposure,bboxT, True)"
   ]
  },
  {
   "cell_type": "code",
   "execution_count": 559,
   "metadata": {
    "collapsed": false
   },
   "outputs": [
    {
     "name": "stdout",
     "output_type": "stream",
     "text": [
      "ds9 doesn't appear to be running (XPA: XPA returned NULL, (;iconify no; raise)), I'll try to exec it for you\n"
     ]
    }
   ],
   "source": [
    "ds9.mtv(exp)"
   ]
  },
  {
   "cell_type": "code",
   "execution_count": 560,
   "metadata": {
    "collapsed": true
   },
   "outputs": [],
   "source": [
    "ds9.mtv(exposure, frame=2)\n"
   ]
  },
  {
   "cell_type": "code",
   "execution_count": 526,
   "metadata": {
    "collapsed": true
   },
   "outputs": [],
   "source": [
    "ds9.dot('0', Center.getX(), Center.getY(), frame=2)"
   ]
  },
  {
   "cell_type": "code",
   "execution_count": null,
   "metadata": {
    "collapsed": true
   },
   "outputs": [],
   "source": []
  }
 ],
 "metadata": {
  "kernelspec": {
   "display_name": "Python 2",
   "language": "python",
   "name": "python2"
  },
  "language_info": {
   "codemirror_mode": {
    "name": "ipython",
    "version": 2
   },
   "file_extension": ".py",
   "mimetype": "text/x-python",
   "name": "python",
   "nbconvert_exporter": "python",
   "pygments_lexer": "ipython2",
   "version": "2.7.11"
  }
 },
 "nbformat": 4,
 "nbformat_minor": 0
}
