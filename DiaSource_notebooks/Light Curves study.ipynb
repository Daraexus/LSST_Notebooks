{
 "cells": [
  {
   "cell_type": "code",
   "execution_count": 1,
   "metadata": {
    "collapsed": false
   },
   "outputs": [
    {
     "name": "stderr",
     "output_type": "stream",
     "text": [
      "/renoir_data_00/fouchez/lsst/DM/stacks/lsstsw/2016-04-04/lsstsw/miniconda/lib/python2.7/site-packages/matplotlib/font_manager.py:273: UserWarning: Matplotlib is building the font cache using fc-list. This may take a moment.\n",
      "  warnings.warn('Matplotlib is building the font cache using fc-list. This may take a moment.')\n"
     ]
    }
   ],
   "source": [
    "import lsst.meas.astrom as measAstrom\n",
    "import lsst.daf.base as dafBase\n",
    "import lsst.pipe.base as pipeBase\n",
    "import lsst.daf.persistence as dafPersist\n",
    "\n",
    "import random\n",
    "import matplotlib.pyplot as plt\n",
    "import numpy as np\n",
    "\n",
    "import lsst.afw.display.ds9 as ds9\n",
    "import lsst.afw.table as afwTable\n",
    "import lsst.afw.geom as afwGeom\n",
    "\n",
    "\n",
    "import DiaSourceTools as DSTools\n",
    "import lsst.afw.display.utils as displayUtils\n",
    "import lsst.meas.algorithms.detection as sDet\n",
    "\n",
    "%matplotlib inline"
   ]
  },
  {
   "cell_type": "code",
   "execution_count": 2,
   "metadata": {
    "collapsed": true
   },
   "outputs": [],
   "source": [
    "DATADIR=\"/renoir_data_02/jpreyes/lsst_data/CFHTLS_master/\"\n",
    "butler = dafPersist.Butler(DATADIR+\"/output\")"
   ]
  },
  {
   "cell_type": "code",
   "execution_count": 4,
   "metadata": {
    "collapsed": false
   },
   "outputs": [
    {
     "name": "stdout",
     "output_type": "stream",
     "text": [
      "58\n",
      "----- 58\n",
      "110\n",
      "----- 151\n",
      "112\n",
      "----- 234\n",
      "119\n",
      "----- 302\n",
      "167\n",
      "----- 415\n"
     ]
    }
   ],
   "source": [
    "#visitref = 800719\n",
    "#visitlist = [800721]\n",
    "visitref = (845345, 4)\n",
    "visitlist = [(849373,20), (849686,24), (850180,28), (850586,30+2), (851060,30+6)]\n",
    "\n",
    "\n",
    "dataId = {'visit': visitref[0], 'filter':'r' , 'ccd':14}\n",
    "diaSrcref = butler.get(\"deepDiff_diaSrc\", dataId)\n",
    "Srcref = butler.get(\"deepDiff_diaSrc\", dataId)\n",
    "schema = diaSrcref.schema\n",
    "newsrclist=[(diaSrcref,visitref)]\n",
    "objlist = []\n",
    "\n",
    "for visit in visitlist:    \n",
    "    dataId = {'visit': visit[0], 'filter':'r' , 'ccd':14}\n",
    "    diaSrc= butler.get(\"deepDiff_diaSrc\", dataId)\n",
    "    match = afwTable.matchRaDec(diaSrcref, diaSrc, afwGeom.Angle(1./3600., afwGeom.degrees))        \n",
    "    newSrc = afwTable.SourceCatalog(schema)\n",
    "    print len(match)\n",
    "    for m in match:\n",
    "        m.second.setId(m.first.getId())\n",
    "        newSrc.append(m.second)\n",
    "        if not(m.first.getId() in objlist):\n",
    "            objlist.append(m.first.getId())\n",
    "    newsrclist.append((newSrc,visit))\n",
    "    print \"-----\",len(objlist)\n"
   ]
  },
  {
   "cell_type": "code",
   "execution_count": 5,
   "metadata": {
    "collapsed": false
   },
   "outputs": [
    {
     "data": {
      "text/plain": [
       "1338"
      ]
     },
     "execution_count": 5,
     "metadata": {},
     "output_type": "execute_result"
    }
   ],
   "source": [
    "len(diaSrcref['id'])"
   ]
  },
  {
   "cell_type": "code",
   "execution_count": 6,
   "metadata": {
    "collapsed": false
   },
   "outputs": [],
   "source": [
    "newSrc = newSrc.copy(deep=True)"
   ]
  },
  {
   "cell_type": "code",
   "execution_count": 7,
   "metadata": {
    "collapsed": false
   },
   "outputs": [],
   "source": [
    "#print newSrc['id']\n"
   ]
  },
  {
   "cell_type": "code",
   "execution_count": 8,
   "metadata": {
    "collapsed": false
   },
   "outputs": [],
   "source": [
    "#newSrc.writeFits(\"hop.fits\")"
   ]
  },
  {
   "cell_type": "code",
   "execution_count": 9,
   "metadata": {
    "collapsed": true
   },
   "outputs": [],
   "source": [
    "import sncosmo"
   ]
  },
  {
   "cell_type": "code",
   "execution_count": null,
   "metadata": {
    "collapsed": true
   },
   "outputs": [],
   "source": []
  },
  {
   "cell_type": "code",
   "execution_count": 3,
   "metadata": {
    "collapsed": true
   },
   "outputs": [],
   "source": [
    "def visualize_lightcurve(lightcurve, color='black'):\n",
    "    \"\"\"\n",
    "    Make a simple light curve plot.\n",
    "    \"\"\"\n",
    "    if lightcurve is None:\n",
    "        raise ValueError('No lightcurve yet. Use build_lightcurve first.')\n",
    "\n",
    "    fig = sncosmo.plot_lc(lightcurve, color=color)\n",
    "\n",
    "    return fig\n"
   ]
  },
  {
   "cell_type": "code",
   "execution_count": 4,
   "metadata": {
    "collapsed": false
   },
   "outputs": [],
   "source": [
    "from astropy.table import Table\n",
    "def build_lightcurve(newSrcList,objid):\n",
    "    \"\"\"\n",
    "    Assemble a light curve data table from available files.\n",
    "    \"\"\"\n",
    "        \n",
    "    bandpasses = ['r']\n",
    "    visit_list = ['800719']\n",
    "        \n",
    "    lightcurve = {}\n",
    "    lightcurve['bandpass'] = []\n",
    "    lightcurve['mjd'] = []\n",
    "    lightcurve['ra'] = []\n",
    "    lightcurve['dec'] = []\n",
    "    lightcurve['flux'] = []\n",
    "    lightcurve['flux_error'] = []\n",
    "    lightcurve['zp'] = []\n",
    "    lightcurve['zpsys'] = []\n",
    "\n",
    "    for bandpass in bandpasses:\n",
    "        #for visit in self.visit_list:\n",
    "        for (newSrc,visit) in newSrcList:    \n",
    "            #dataId = {'visit': visit, 'filter':bandpass , 'ccd':14}\n",
    "            #print visit\n",
    "            for src in newSrc:\n",
    "                if (src['id'] == objid):\n",
    "                    #print 'yep',visit\n",
    "                    lightcurve['bandpass'].append(str('sdss' + bandpass))\n",
    "                    lightcurve['mjd'].append(visit[1])\n",
    "                    lightcurve['ra'].append(src['coord_ra'])\n",
    "                    lightcurve['dec'].append(src['coord_dec'])\n",
    "                    lightcurve['flux'].append(src['base_PeakLikelihoodFlux_flux'])\n",
    "                    lightcurve['flux_error'].append(src['base_PeakLikelihoodFlux_fluxSigma'])\n",
    "                    #lightcurve['flux'].append(src['base_CircularApertureFlux_12_0_flux'])\n",
    "                    #lightcurve['flux_error'].append(src['base_CircularApertureFlux_12_0_fluxSigma'])\n",
    "                    lightcurve['zp'].append(25.0)\n",
    "                    lightcurve['zpsys'].append('ab')\n",
    "    lightcurve = Table(data=lightcurve)\n",
    "    return lightcurve    \n",
    "\n"
   ]
  },
  {
   "cell_type": "code",
   "execution_count": 13,
   "metadata": {
    "collapsed": false
   },
   "outputs": [
    {
     "data": {
      "text/plain": [
       "([(<lsst.afw.table.tableLib.SourceCatalog; proxy of <Swig Object of type 'lsst::afw::table::SortedCatalogT< lsst::afw::table::SourceRecord > *' at 0x7f956e750930> >,\n",
       "   (845345, 4)),\n",
       "  (<lsst.afw.table.tableLib.SourceCatalog; proxy of <Swig Object of type 'lsst::afw::table::SortedCatalogT< lsst::afw::table::SourceRecord > *' at 0x7f956e763600> >,\n",
       "   (849373, 20)),\n",
       "  (<lsst.afw.table.tableLib.SourceCatalog; proxy of <Swig Object of type 'lsst::afw::table::SortedCatalogT< lsst::afw::table::SourceRecord > *' at 0x7f956e755660> >,\n",
       "   (849686, 24)),\n",
       "  (<lsst.afw.table.tableLib.SourceCatalog; proxy of <Swig Object of type 'lsst::afw::table::SortedCatalogT< lsst::afw::table::SourceRecord > *' at 0x7f956e750d50> >,\n",
       "   (850180, 28)),\n",
       "  (<lsst.afw.table.tableLib.SourceCatalog; proxy of <Swig Object of type 'lsst::afw::table::SortedCatalogT< lsst::afw::table::SourceRecord > *' at 0x7f956e7556f0> >,\n",
       "   (850586, 32)),\n",
       "  (<lsst.afw.table.tableLib.SourceCatalog; proxy of <Swig Object of type 'lsst::afw::table::SortedCatalogT< lsst::afw::table::SourceRecord > *' at 0x7f956e752810> >,\n",
       "   (851060, 36))],\n",
       " 130706308767682028L)"
      ]
     },
     "execution_count": 13,
     "metadata": {},
     "output_type": "execute_result"
    }
   ],
   "source": [
    "newsrclist,obj\n"
   ]
  },
  {
   "cell_type": "code",
   "execution_count": null,
   "metadata": {
    "collapsed": false
   },
   "outputs": [],
   "source": [
    "i=0\n",
    "lclist=[]\n",
    "print len(objlist)\n",
    "for obj in objlist:\n",
    "    i = i+1\n",
    "    print i\n",
    "    lc = build_lightcurve(newsrclist,obj)\n",
    "    if len(lc)>1:\n",
    "        lclist.append(lc)\n"
   ]
  },
  {
   "cell_type": "code",
   "execution_count": null,
   "metadata": {
    "collapsed": false
   },
   "outputs": [],
   "source": [
    "i=0\n",
    "import math\n",
    "for lc in lclist:\n",
    "    #print len(lc)\n",
    "    if len(lc)>3:\n",
    "        i=i+1\n",
    "        dra = float(lc['ra'][0])-3.7472052\n",
    "        ddec = float(lc['dec'][0])-0.92077529\n",
    "        print math.sqrt(dra*dra+ddec*ddec)/3.14159*180*3600,float(lc['ra'][0])/3.14159*180,float(lc['dec'][0])/3.14159*180\n",
    "        visualize_lightcurve(lc)\n",
    "print i \n",
    "lc   "
   ]
  },
  {
   "cell_type": "code",
   "execution_count": null,
   "metadata": {
    "collapsed": true
   },
   "outputs": [],
   "source": [
    "import lsst.afw.geom as afwGeom\n",
    "import lsst.afw.display.utils as displayUtils\n",
    "import matplotlib.pyplot as plt\n",
    "import numpy as np\n",
    "import lsst.afw.table as afwTable\n",
    "from lsst.meas.algorithms.detection import SourceDetectionTask\n",
    "import lsst.meas.algorithms.detection as sDet\n",
    "\n",
    "def get_time_mosaic(butler, dataid_list, source, frame=1):\n",
    "    mosaic = displayUtils.Mosaic(gutter=5, background=3, mode=\"x\")\n",
    "    \n",
    "    \n",
    "    \n",
    "    for dataid in dataid_list:\n",
    "        \n",
    "        mosaic_temp = displayUtils.Mosaic(gutter=0, background=0, mode=\"y\")\n",
    "        \n",
    "        diffExp = butler.get(\"deepDiff_differenceExp\", dataid)\n",
    "        sciExp  = butler.get(\"calexp\", dataid)\n",
    "        tmpExp = butler.get(\"deepDiff_warpedExp\", dataid)\n",
    "        bgConf = sDet.BackgroundConfig()\n",
    "        background,tmpExp = sDet.estimateBackground(tmpExp,bgConf,True)\n",
    "        \n",
    "        s1 = get_stamp(source, sciExp)\n",
    "        s2 = get_stamp(source, tmpExp)\n",
    "        s3 = get_stamp(source, diffExp)\n",
    "        \n",
    "        mosaic_temp.append(s1.getMaskedImage())\n",
    "        mosaic_temp.append(s2.getMaskedImage())\n",
    "        mosaic_temp.append(s3.getMaskedImage())\n",
    "        m = mosaic_temp.makeMosaic(frame=None, display=None).clone()\n",
    "        mosaic.append(m)\n",
    "        \n",
    "    mosaic.makeMosaic(frame=frame, title=\"time mosaic\")\n",
    "\n",
    "def get_stamp(source, exposure, offset=10):\n",
    "\n",
    "    \n",
    "    bbox = source.getFootprint().getBBox()\n",
    "    mos = displayUtils.Mosaic()\n",
    "                \n",
    "    sourceRa = source.getRa()\n",
    "    sourceDec = source.getDec()\n",
    "\n",
    "    wcs = exposure.getWcs()\n",
    "    mos = displayUtils.Mosaic()\n",
    "\n",
    "\n",
    "    Center = afwGeom.Point2I(wcs.skyToPixel(sourceRa, sourceDec))\n",
    "\n",
    "    Begin = afwGeom.Point2D(Center.getX() - bbox.getHeight()/2., Center.getY() - bbox.getHeight()/2.)\n",
    "    Begin = afwGeom.Point2I(Begin)\n",
    "    End = afwGeom.Point2D(Center.getX() + bbox.getHeight()/2., Center.getY() + bbox.getHeight()/2.)\n",
    "    End = afwGeom.Point2I(End)\n",
    "\n",
    "\n",
    "\n",
    "    ExpOrig = afwGeom.Point2I(exposure.getX0()-1, exposure.getY0()-1)\n",
    "\n",
    "\n",
    "\n",
    "    correctedBegin = Begin- ExpOrig\n",
    "    correctedEnd = End - ExpOrig\n",
    "\n",
    "    correctedBegin= afwGeom.Point2I(correctedBegin.getX()-offset,correctedBegin.getY()-offset )\n",
    "    correctedEnd = afwGeom.Point2I(correctedEnd.getX()+offset,correctedEnd.getY()+offset )\n",
    "    bboxT = afwGeom.Box2I(correctedBegin,correctedEnd) \n",
    "\n",
    "    #print bboxT.toString\n",
    "    return exposure.Factory(exposure,bboxT, True)\n"
   ]
  },
  {
   "cell_type": "code",
   "execution_count": null,
   "metadata": {
    "collapsed": false
   },
   "outputs": [],
   "source": [
    "source = Srcref[140]\n",
    "dataId = {'visit': visitref[0], 'filter':'r' , 'ccd':14}\n",
    "dataid_list=[dataId]\n",
    "for visit in visitlist:\n",
    "    print visit[0]\n",
    "    dataId = {'visit': visit[0], 'filter':'r' , 'ccd':14}\n",
    "    dataid_list.append(dataId)\n",
    "\n",
    "get_time_mosaic(butler, dataid_list, source, frame=1)"
   ]
  },
  {
   "cell_type": "code",
   "execution_count": null,
   "metadata": {
    "collapsed": false
   },
   "outputs": [],
   "source": [
    "i=0\n",
    "import math\n",
    "for lc in lclist:\n",
    "    #print len(lc)\n",
    "    if len(lc)>3:\n",
    "        i=i+1\n",
    "        ra = float(lc['ra'][0])\n",
    "        dec =  float(lc['dec'][0])\n",
    "        for s in Srcref:\n",
    "            r=math.sqrt((float(s['coord_ra'])-ra)**2+(float(s['coord_dec'])-dec)**2)/3.14159*180*3600\n",
    "            if (r<1) : \n",
    "                get_time_mosaic(butler, dataid_list, s, frame=i) \n",
    "                \n",
    "print i \n",
    "lc   "
   ]
  },
  {
   "cell_type": "code",
   "execution_count": null,
   "metadata": {
    "collapsed": false
   },
   "outputs": [],
   "source": [
    "print len(Srcref)"
   ]
  },
  {
   "cell_type": "code",
   "execution_count": null,
   "metadata": {
    "collapsed": true
   },
   "outputs": [],
   "source": [
    "candidates = []\n",
    "i=0\n",
    "for lc in lclist:\n",
    "    #print len(lc)\n",
    "    if len(lc)>3:\n",
    "        i=i+1\n",
    "        ra = float(lc['ra'][0])\n",
    "        dec =  float(lc['dec'][0])\n",
    "        for s in Srcref:\n",
    "            r=math.sqrt((float(s['coord_ra'])-ra)**2+(float(s['coord_dec'])-dec)**2)/3.14159*180*3600\n",
    "            if (r<1) : \n",
    "                candidates.append(s)"
   ]
  },
  {
   "cell_type": "code",
   "execution_count": null,
   "metadata": {
    "collapsed": false
   },
   "outputs": [],
   "source": [
    "for c in candidates:\n",
    "    print c.getRa(), c.getDec()"
   ]
  },
  {
   "cell_type": "code",
   "execution_count": null,
   "metadata": {
    "collapsed": false
   },
   "outputs": [],
   "source": [
    "dataId = dataid_list[4]\n",
    "final = []\n",
    "print dataId\n",
    "diffExp = butler.get(\"deepDiff_differenceExp\", dataId)\n",
    "i = 0\n",
    "for c in candidates:\n",
    "    stamp = DSTools.get_stamp(c, diffExp)\n",
    "    stamp_clone = stamp.clone()\n",
    "    \n",
    "    results = DSTools.detect_diasources(stamp_clone, doSmooth=True)\n",
    "    negFps = len(results.fpSets.negative.getFootprints())\n",
    "    posFps = len(results.fpSets.positive.getFootprints())\n",
    "    pos_flux_at_25 = get_flux_percentage_at(stamp)\n",
    "    neg_flux_at_25 = get_flux_percentage_at(stamp, plane_mask=\"DETECTED_NEGATIVE\")\n",
    "  \n",
    "    if negFps == 0:\n",
    "        DSTools.get_time_mosaic(butler, dataid_list, c, frame=i)\n",
    "        final.append(c)\n",
    "        i+=1"
   ]
  },
  {
   "cell_type": "code",
   "execution_count": null,
   "metadata": {
    "collapsed": false
   },
   "outputs": [],
   "source": [
    "candidates"
   ]
  },
  {
   "cell_type": "code",
   "execution_count": null,
   "metadata": {
    "collapsed": false
   },
   "outputs": [],
   "source": [
    "f = final[-1]\n",
    "f['coord_ra']"
   ]
  },
  {
   "cell_type": "code",
   "execution_count": null,
   "metadata": {
    "collapsed": false
   },
   "outputs": [],
   "source": [
    "candidates = []\n",
    "i=0\n",
    "for lc in lclist:\n",
    "    #print len(lc)\n",
    "    if len(lc)>3:\n",
    "        i=i+1\n",
    "        ra = float(lc['ra'][0])\n",
    "        dec =  float(lc['dec'][0])\n",
    "        for f in final:\n",
    "            r=math.sqrt((float(f['coord_ra'])-ra)**2+(float(f['coord_dec'])-dec)**2)/3.14159*180*3600\n",
    "            if (r<1) :\n",
    "                visualize_lightcurve(lc, color='red')"
   ]
  },
  {
   "cell_type": "code",
   "execution_count": null,
   "metadata": {
    "collapsed": true
   },
   "outputs": [],
   "source": [
    "sncosmo.plot_lc??"
   ]
  },
  {
   "cell_type": "code",
   "execution_count": null,
   "metadata": {
    "collapsed": true
   },
   "outputs": [],
   "source": [
    "def get_flux_percentage_at(stamp, percent = 0.25, plane_mask=\"DETECTED\", positive=True):\n",
    "    \n",
    "    cumsum = DSTools.get_cumulative_flux(stamp, plane_mask=plane_mask, positive=positive)\n",
    "    \n",
    "    if cumsum is None:\n",
    "        return None\n",
    "    \n",
    "    total = float(len(cumsum))\n",
    "    \n",
    "    for i, value in enumerate(cumsum):\n",
    "        #print i, float(i+1)/total, 1-value\n",
    "        if float(i+1)/total > (1-percent):\n",
    "            return 1-value"
   ]
  },
  {
   "cell_type": "code",
   "execution_count": null,
   "metadata": {
    "collapsed": true
   },
   "outputs": [],
   "source": []
  }
 ],
 "metadata": {
  "kernelspec": {
   "display_name": "Python 2",
   "language": "python",
   "name": "python2"
  },
  "language_info": {
   "codemirror_mode": {
    "name": "ipython",
    "version": 2
   },
   "file_extension": ".py",
   "mimetype": "text/x-python",
   "name": "python",
   "nbconvert_exporter": "python",
   "pygments_lexer": "ipython2",
   "version": "2.7.11"
  }
 },
 "nbformat": 4,
 "nbformat_minor": 0
}
