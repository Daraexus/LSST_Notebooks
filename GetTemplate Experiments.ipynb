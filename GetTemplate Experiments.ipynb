{
 "cells": [
  {
   "cell_type": "markdown",
   "metadata": {},
   "source": [
    "# GetTemplate Experiments (21/09/2016)"
   ]
  },
  {
   "cell_type": "code",
   "execution_count": 1,
   "metadata": {
    "collapsed": false
   },
   "outputs": [
    {
     "name": "stderr",
     "output_type": "stream",
     "text": [
      "/renoir_data_00/fouchez/lsst/DM/stacks/lsstsw/2016-04-04/lsstsw/miniconda/lib/python2.7/site-packages/matplotlib/font_manager.py:273: UserWarning: Matplotlib is building the font cache using fc-list. This may take a moment.\n",
      "  warnings.warn('Matplotlib is building the font cache using fc-list. This may take a moment.')\n"
     ]
    }
   ],
   "source": [
    "import lsst.meas.astrom as measAstrom\n",
    "import lsst.daf.base as dafBase\n",
    "import lsst.pipe.base as pipeBase\n",
    "import lsst.daf.persistence as dafPersist\n",
    "\n",
    "import lsst.afw.display.ds9 as ds9\n",
    "import DiaSourceTools as DSTools\n",
    "\n",
    "import lsst.afw.table as afwTable\n",
    "import lsst.afw.geom as afwGeom\n",
    "\n",
    "import numpy as np"
   ]
  },
  {
   "cell_type": "code",
   "execution_count": 8,
   "metadata": {
    "collapsed": true
   },
   "outputs": [],
   "source": [
    "import lsst.meas.algorithms.detection as sDet\n",
    "\n",
    "#DATADIR=\"/renoir_data_02/jpreyes/lsst_data/CFHTLS_v11/\"\n",
    "DATADIR=\"/renoir_data_02/jpreyes/lsst_data/CFHTLS_master/\"\n",
    "butler = dafPersist.Butler(DATADIR+\"/output\")\n",
    "filter = 'i'\n",
    "dataId = {'visit': 853737, 'filter':filter , 'ccd':14}\n",
    "diaSrcs = butler.get(\"deepDiff_diaSrc\", dataId)\n",
    "calexp = butler.get(\"calexp\", dataId)\n",
    "diffExp = butler.get(\"deepDiff_differenceExp\", dataId)"
   ]
  },
  {
   "cell_type": "code",
   "execution_count": 4,
   "metadata": {
    "collapsed": false
   },
   "outputs": [],
   "source": [
    "import lsst.ip.diffim.getTemplate as getTemplate"
   ]
  },
  {
   "cell_type": "code",
   "execution_count": 16,
   "metadata": {
    "collapsed": false
   },
   "outputs": [],
   "source": [
    "dr = butler.dataRef(\"calexp\", dataId=dataId)\n"
   ]
  },
  {
   "cell_type": "code",
   "execution_count": 17,
   "metadata": {
    "collapsed": false
   },
   "outputs": [],
   "source": [
    "gT = getTemplate.GetCoaddAsTemplateTask()\n",
    "results = gT.run(calexp, dr)"
   ]
  },
  {
   "cell_type": "code",
   "execution_count": 41,
   "metadata": {
    "collapsed": true
   },
   "outputs": [],
   "source": [
    "exp = results.exposure\n",
    "exp.setPsf(calexp.getPsf())\n",
    "sources = results.sources"
   ]
  },
  {
   "cell_type": "code",
   "execution_count": 21,
   "metadata": {
    "collapsed": true
   },
   "outputs": [],
   "source": [
    "ds9.mtv(exp, frame=1)\n",
    "ds9.mtv(calexp, frame=2)"
   ]
  },
  {
   "cell_type": "code",
   "execution_count": 25,
   "metadata": {
    "collapsed": false
   },
   "outputs": [
    {
     "name": "stdout",
     "output_type": "stream",
     "text": [
      "<lsst.afw.image.imageLib.Wcs; proxy of <Swig Object of type 'boost::shared_ptr< lsst::afw::image::Wcs > *' at 0x7f6291b2b3f0> >\n"
     ]
    }
   ],
   "source": [
    "print calexp.getWcs()"
   ]
  },
  {
   "cell_type": "code",
   "execution_count": 42,
   "metadata": {
    "collapsed": false
   },
   "outputs": [],
   "source": [
    "import lsst.afw.math as afwMath\n",
    "config = ImagePsfMatchConfig()\n",
    "kConfig = config.kernel.active\n",
    "warper = afwMath.Warper.fromConfig(kConfig.warpingConfig)\n",
    "templateExposure = warper.warpExposure(calexp.getWcs(), exp, destBBox=calexp.getBBox())\n"
   ]
  },
  {
   "cell_type": "code",
   "execution_count": 37,
   "metadata": {
    "collapsed": true
   },
   "outputs": [],
   "source": [
    "ds9.mtv(templateExposure, frame=3)"
   ]
  },
  {
   "cell_type": "code",
   "execution_count": 32,
   "metadata": {
    "collapsed": false
   },
   "outputs": [],
   "source": [
    "import lsst.pex.config as pexConfig\n",
    "from lsst.ip.diffim.psfMatch import PsfMatchTask, PsfMatchConfigDF, PsfMatchConfigAL\n",
    "from lsst.meas.algorithms import SourceDetectionTask, getBackground\n",
    "from lsst.meas.base import SingleFrameMeasurementTask\n",
    "\n",
    "\n",
    "class ImagePsfMatchConfig(pexConfig.Config):\n",
    "    \"\"\"!Configuration for image-to-image Psf matching\"\"\"\n",
    "    kernel = pexConfig.ConfigChoiceField(\n",
    "        doc=\"kernel type\",\n",
    "        typemap=dict(\n",
    "            AL=PsfMatchConfigAL,\n",
    "            DF=PsfMatchConfigDF\n",
    "        ),\n",
    "        default=\"AL\",\n",
    "    )\n",
    "    selectDetection = pexConfig.ConfigurableField(\n",
    "        target=SourceDetectionTask,\n",
    "        doc=\"Initial detections used to feed stars to kernel fitting\",\n",
    "    )\n",
    "    selectMeasurement = pexConfig.ConfigurableField(\n",
    "        target=SingleFrameMeasurementTask,\n",
    "        doc=\"Initial measurements used to feed stars to kernel fitting\",\n",
    "    )\n",
    "\n",
    "    def setDefaults(self):\n",
    "        # High sigma detections only\n",
    "        self.selectDetection.reEstimateBackground = False\n",
    "        self.selectDetection.thresholdValue = 10.0\n",
    "\n",
    "        # Minimal set of measurments for star selection\n",
    "        self.selectMeasurement.doApplyApCorr = \"no\"\n",
    "        self.selectMeasurement.algorithms.names.clear()\n",
    "        self.selectMeasurement.algorithms.names = ('base_SdssCentroid', 'base_PsfFlux', 'base_PixelFlags',\n",
    "                                                   'base_SdssShape', 'base_GaussianFlux', 'base_SkyCoord')\n",
    "        self.selectMeasurement.slots.modelFlux = None\n",
    "        self.selectMeasurement.slots.apFlux = None\n",
    "        self.selectMeasurement.slots.calibFlux = None\n"
   ]
  },
  {
   "cell_type": "code",
   "execution_count": 48,
   "metadata": {
    "collapsed": false
   },
   "outputs": [
    {
     "name": "stdout",
     "output_type": "stream",
     "text": [
      "None\n",
      "<lsst.afw.detection.detectionLib.Psf; proxy of <Swig Object of type 'boost::shared_ptr< lsst::afw::detection::Psf > *' at 0x7f62922e7cf0> >\n"
     ]
    }
   ],
   "source": [
    "print templateExposure.getPsf()\n",
    "print exp.getPsf()\n",
    "templateExposure.setPsf(exp.getPsf())"
   ]
  },
  {
   "cell_type": "code",
   "execution_count": 78,
   "metadata": {
    "collapsed": false
   },
   "outputs": [],
   "source": [
    "import lsst.afw.table as afwTable\n",
    "from lsst.meas.algorithms.detection import SourceDetectionTask\n",
    "\n",
    "\n",
    "\n",
    "schema = afwTable.SourceTable.makeMinimalSchema()\n",
    "table = afwTable.SourceTable.make(schema)\n",
    "\n",
    "config = SourceDetectionTask.ConfigClass()\n",
    "config.reEstimateBackground = False\n",
    "\n",
    "detectionTask = SourceDetectionTask(config=config, schema=schema)\n",
    "table = afwTable.SourceTable.make(schema)\n",
    "results = detectionTask.makeSourceCatalog(table=table, exposure=exp , doSmooth=False )\n",
    "sources = detectionTask.run(table, templateExposure, sigma=4).sources"
   ]
  },
  {
   "cell_type": "code",
   "execution_count": null,
   "metadata": {
    "collapsed": false
   },
   "outputs": [],
   "source": []
  },
  {
   "cell_type": "code",
   "execution_count": 80,
   "metadata": {
    "collapsed": false
   },
   "outputs": [],
   "source": [
    "s = sources[-1]"
   ]
  },
  {
   "cell_type": "code",
   "execution_count": 81,
   "metadata": {
    "collapsed": false
   },
   "outputs": [
    {
     "ename": "LogicError",
     "evalue": "\n  File \"include/lsst/afw/table/BaseRecord.h\", line 86, in const typename lsst::afw::table::Field<T>::Element* lsst::afw::table::BaseRecord::getElement(const lsst::afw::table::Key<U>&) const [with T = double; typename lsst::afw::table::Field<T>::Element = double]\n    Key is not valid (if this is a SourceRecord, make sure slot aliases have been setup). {0}\nlsst::pex::exceptions::LogicError: 'Key is not valid (if this is a SourceRecord, make sure slot aliases have been setup).'\n",
     "output_type": "error",
     "traceback": [
      "\u001b[1;31m---------------------------------------------------------------------------\u001b[0m",
      "\u001b[1;31mLogicError\u001b[0m                                Traceback (most recent call last)",
      "\u001b[1;32m<ipython-input-81-494a3913cc61>\u001b[0m in \u001b[0;36m<module>\u001b[1;34m()\u001b[0m\n\u001b[1;32m----> 1\u001b[1;33m \u001b[0ms\u001b[0m\u001b[1;33m.\u001b[0m\u001b[0mgetCentroid\u001b[0m\u001b[1;33m(\u001b[0m\u001b[1;33m)\u001b[0m\u001b[1;33m\u001b[0m\u001b[0m\n\u001b[0m",
      "\u001b[1;32m/renoir_data_00/fouchez/lsst/DM/stacks/lsstsw/2016-04-04/lsstsw/stack/Linux64/afw/2.2016.10-8-g2cef314+1/python/lsst/afw/table/tableLib.pyc\u001b[0m in \u001b[0;36mgetCentroid\u001b[1;34m(self)\u001b[0m\n\u001b[0;32m   8617\u001b[0m     \u001b[1;32mdef\u001b[0m \u001b[0mgetCentroid\u001b[0m\u001b[1;33m(\u001b[0m\u001b[0mself\u001b[0m\u001b[1;33m)\u001b[0m\u001b[1;33m:\u001b[0m\u001b[1;33m\u001b[0m\u001b[0m\n\u001b[0;32m   8618\u001b[0m         \u001b[1;34m\"\"\"getCentroid(SourceRecord self) -> Point2D\"\"\"\u001b[0m\u001b[1;33m\u001b[0m\u001b[0m\n\u001b[1;32m-> 8619\u001b[1;33m         \u001b[1;32mreturn\u001b[0m \u001b[0m_tableLib\u001b[0m\u001b[1;33m.\u001b[0m\u001b[0mSourceRecord_getCentroid\u001b[0m\u001b[1;33m(\u001b[0m\u001b[0mself\u001b[0m\u001b[1;33m)\u001b[0m\u001b[1;33m\u001b[0m\u001b[0m\n\u001b[0m\u001b[0;32m   8620\u001b[0m \u001b[1;33m\u001b[0m\u001b[0m\n\u001b[0;32m   8621\u001b[0m     \u001b[1;32mdef\u001b[0m \u001b[0mgetCentroidErr\u001b[0m\u001b[1;33m(\u001b[0m\u001b[0mself\u001b[0m\u001b[1;33m)\u001b[0m\u001b[1;33m:\u001b[0m\u001b[1;33m\u001b[0m\u001b[0m\n",
      "\u001b[1;31mLogicError\u001b[0m: \n  File \"include/lsst/afw/table/BaseRecord.h\", line 86, in const typename lsst::afw::table::Field<T>::Element* lsst::afw::table::BaseRecord::getElement(const lsst::afw::table::Key<U>&) const [with T = double; typename lsst::afw::table::Field<T>::Element = double]\n    Key is not valid (if this is a SourceRecord, make sure slot aliases have been setup). {0}\nlsst::pex::exceptions::LogicError: 'Key is not valid (if this is a SourceRecord, make sure slot aliases have been setup).'\n"
     ]
    }
   ],
   "source": [
    "s.getCentroid()"
   ]
  },
  {
   "cell_type": "code",
   "execution_count": 82,
   "metadata": {
    "collapsed": false
   },
   "outputs": [
    {
     "ename": "ImportError",
     "evalue": "No module named measurement",
     "output_type": "error",
     "traceback": [
      "\u001b[1;31m---------------------------------------------------------------------------\u001b[0m",
      "\u001b[1;31mImportError\u001b[0m                               Traceback (most recent call last)",
      "\u001b[1;32m<ipython-input-82-5f8b77ed7c17>\u001b[0m in \u001b[0;36m<module>\u001b[1;34m()\u001b[0m\n\u001b[1;32m----> 1\u001b[1;33m \u001b[1;32mimport\u001b[0m \u001b[0mSourceExtractor\u001b[0m\u001b[1;33m\u001b[0m\u001b[0m\n\u001b[0m",
      "\u001b[1;32m/renoir_data_00/jpreyes/stacks/notebook_files/SourceExtractor.py\u001b[0m in \u001b[0;36m<module>\u001b[1;34m()\u001b[0m\n\u001b[0;32m    120\u001b[0m \u001b[1;33m\u001b[0m\u001b[0m\n\u001b[0;32m    121\u001b[0m \u001b[1;32mfrom\u001b[0m \u001b[0mlsst\u001b[0m\u001b[1;33m.\u001b[0m\u001b[0mmeas\u001b[0m\u001b[1;33m.\u001b[0m\u001b[0malgorithms\u001b[0m\u001b[1;33m.\u001b[0m\u001b[0mdetection\u001b[0m \u001b[1;32mimport\u001b[0m \u001b[0mSourceDetectionTask\u001b[0m\u001b[1;33m\u001b[0m\u001b[0m\n\u001b[1;32m--> 122\u001b[1;33m \u001b[1;32mfrom\u001b[0m \u001b[0mlsst\u001b[0m\u001b[1;33m.\u001b[0m\u001b[0mmeas\u001b[0m\u001b[1;33m.\u001b[0m\u001b[0malgorithms\u001b[0m\u001b[1;33m.\u001b[0m\u001b[0mmeasurement\u001b[0m \u001b[1;32mimport\u001b[0m \u001b[0mSourceMeasurementTask\u001b[0m\u001b[1;33m\u001b[0m\u001b[0m\n\u001b[0m\u001b[0;32m    123\u001b[0m \u001b[1;32mfrom\u001b[0m \u001b[0mlsst\u001b[0m\u001b[1;33m.\u001b[0m\u001b[0mpipe\u001b[0m\u001b[1;33m.\u001b[0m\u001b[0mtasks\u001b[0m\u001b[1;33m.\u001b[0m\u001b[0mmeasurePsf\u001b[0m \u001b[1;32mimport\u001b[0m \u001b[0mMeasurePsfTask\u001b[0m\u001b[1;33m\u001b[0m\u001b[0m\n\u001b[0;32m    124\u001b[0m \u001b[1;32mdef\u001b[0m \u001b[0mGet_and_Measure_sources\u001b[0m\u001b[1;33m(\u001b[0m\u001b[0mexposure\u001b[0m\u001b[1;33m)\u001b[0m\u001b[1;33m:\u001b[0m\u001b[1;33m\u001b[0m\u001b[0m\n",
      "\u001b[1;31mImportError\u001b[0m: No module named measurement"
     ]
    }
   ],
   "source": [
    "import SourceExtractor"
   ]
  },
  {
   "cell_type": "code",
   "execution_count": 84,
   "metadata": {
    "collapsed": true
   },
   "outputs": [],
   "source": [
    "import lsst.meas.algorithms as meas_alg"
   ]
  },
  {
   "cell_type": "code",
   "execution_count": 85,
   "metadata": {
    "collapsed": false
   },
   "outputs": [
    {
     "data": {
      "text/plain": [
       "<module 'lsst.meas.algorithms.utils' from '/renoir_data_00/fouchez/lsst/DM/stacks/lsstsw/2016-04-04/lsstsw/stack/Linux64/meas_algorithms/2016_01.0-8-g252b6e6/python/lsst/meas/algorithms/utils.pyc'>"
      ]
     },
     "execution_count": 85,
     "metadata": {},
     "output_type": "execute_result"
    }
   ],
   "source": [
    "meas_alg.utils."
   ]
  },
  {
   "cell_type": "code",
   "execution_count": null,
   "metadata": {
    "collapsed": true
   },
   "outputs": [],
   "source": []
  }
 ],
 "metadata": {
  "kernelspec": {
   "display_name": "Python 2",
   "language": "python",
   "name": "python2"
  },
  "language_info": {
   "codemirror_mode": {
    "name": "ipython",
    "version": 2
   },
   "file_extension": ".py",
   "mimetype": "text/x-python",
   "name": "python",
   "nbconvert_exporter": "python",
   "pygments_lexer": "ipython2",
   "version": "2.7.11"
  }
 },
 "nbformat": 4,
 "nbformat_minor": 0
}
