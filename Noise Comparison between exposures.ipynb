{
 "cells": [
  {
   "cell_type": "markdown",
   "metadata": {},
   "source": [
    "# Noise Comparison between exposures (20/09/2016)"
   ]
  },
  {
   "cell_type": "code",
   "execution_count": 1,
   "metadata": {
    "collapsed": false
   },
   "outputs": [
    {
     "name": "stderr",
     "output_type": "stream",
     "text": [
      "/renoir_data_00/fouchez/lsst/DM/stacks/lsstsw/2016-04-04/lsstsw/miniconda/lib/python2.7/site-packages/matplotlib/font_manager.py:273: UserWarning: Matplotlib is building the font cache using fc-list. This may take a moment.\n",
      "  warnings.warn('Matplotlib is building the font cache using fc-list. This may take a moment.')\n"
     ]
    }
   ],
   "source": [
    "import lsst.meas.astrom as measAstrom\n",
    "import lsst.daf.base as dafBase\n",
    "import lsst.pipe.base as pipeBase\n",
    "import lsst.daf.persistence as dafPersist\n",
    "\n",
    "import lsst.afw.display.ds9 as ds9\n",
    "import DiaSourceTools as DSTools\n",
    "\n",
    "import lsst.afw.table as afwTable\n",
    "import lsst.afw.geom as afwGeom\n",
    "\n",
    "import numpy as np\n"
   ]
  },
  {
   "cell_type": "code",
   "execution_count": 3,
   "metadata": {
    "collapsed": true
   },
   "outputs": [],
   "source": [
    "filter = 'i'\n",
    "DATADIR=\"/renoir_data_02/jpreyes/lsst_data/CFHTLS_master/\"\n",
    "butler = dafPersist.Butler(DATADIR+\"/output\")\n",
    "visits = butler.queryMetadata(\"deepDiff_differenceExp\", format=['visit', 'date'],dataId={'filter':filter})\n",
    "ccds = butler.queryMetadata(\"deepDiff_differenceExp\", format=['ccd'],dataId={'filter':filter})\n"
   ]
  },
  {
   "cell_type": "code",
   "execution_count": 13,
   "metadata": {
    "collapsed": false
   },
   "outputs": [],
   "source": [
    "\n",
    "def get_catalog(visit):\n",
    "    visit_catalog = None\n",
    "\n",
    "    for ccd in ccds:\n",
    "\n",
    "            if butler.datasetExists(\"deepDiff_differenceExp\", {'visit': visit , 'filter':filter , 'ccd':ccd}):\n",
    "\n",
    "                diffExp = butler.get(\"deepDiff_differenceExp\", {'visit': visit , 'filter':filter , 'ccd':ccd})\n",
    "                diaSrcs = butler.get(\"deepDiff_diaSrc\", {'visit': visit , 'filter':filter , 'ccd':ccd})\n",
    "                #print \"joining ccd \"+ str(ccd) + \" with \" + str(len(diaSrcs)) + \"sources\"\n",
    "\n",
    "                if visit_catalog == None:\n",
    "                    visit_catalog = diaSrcs.copy()\n",
    "                    visit_catalog.clear()\n",
    "                else:\n",
    "                    for source in diaSrcs:\n",
    "                        visit_catalog.append(source)\n",
    "\n",
    "    return visit_catalog"
   ]
  },
  {
   "cell_type": "code",
   "execution_count": 145,
   "metadata": {
    "collapsed": true
   },
   "outputs": [],
   "source": [
    "visit1 = 859604\n",
    "#visit2 = 859605\n",
    "#visit1 = 853733\n",
    "visit2 = 853738\n",
    "\n",
    "\n"
   ]
  },
  {
   "cell_type": "code",
   "execution_count": 146,
   "metadata": {
    "collapsed": false
   },
   "outputs": [],
   "source": [
    "v_c1 = get_catalog(visit1)\n",
    "v_c2 = get_catalog(visit2)\n",
    "match = afwTable.matchRaDec(v_c1, v_c2, afwGeom.Angle(2./3600., afwGeom.degrees))\n",
    "deltas = []\n",
    "for m in match:\n",
    "    s1 = m.first.get(\"base_CircularApertureFlux_6_0_fluxSigma\")\n",
    "    s2 = m.second.get(\"base_CircularApertureFlux_6_0_fluxSigma\")\n",
    "    f1 = m.first.get(\"base_CircularApertureFlux_6_0_flux\")\n",
    "    f2 = m.second.get(\"base_CircularApertureFlux_6_0_flux\")\n",
    "    sigma = np.sqrt(s1*s1+s2*s2)\n",
    "    \n",
    "    \n",
    "    if np.isnan(s1)==False and np.isnan(s2)==False and np.isnan(f1)==False and np.isnan(f2)==False:\n",
    "        deltas.append((f1-f2)/sigma)\n",
    "        \n"
   ]
  },
  {
   "cell_type": "code",
   "execution_count": 147,
   "metadata": {
    "collapsed": false
   },
   "outputs": [
    {
     "data": {
      "image/png": "[encoded data removed]",
      "text/plain": [
       "<matplotlib.figure.Figure at 0x7f5f00c78e10>"
      ]
     },
     "metadata": {},
     "output_type": "display_data"
    }
   ],
   "source": [
    "import matplotlib.pyplot as plt\n",
    "import matplotlib.mlab as mlab\n",
    "\n",
    "\n",
    "%matplotlib inline\n",
    "\n",
    "#n, bins, patches = plt.hist(deltas, bins=50, range=[-5, 5], normed=True, align='left')\n",
    "n, bins, patches = plt.hist(deltas, bins=5000, normed=True, align='left')\n",
    "\n",
    "bcenters = 0.5*(bins[1:]+bins[:-1])\n",
    "\n",
    "mu = np.mean(deltas)\n",
    "\n",
    "#sigma = 1\n",
    "\n",
    "#x = np.linspace(min(deltas),max(deltas), 10000)\n",
    "#plt.plot(x, mlab.normpdf(x,mu,sigma))\n",
    "#plt.xlim(xmin=-20, xmax=20)\n",
    "\n",
    "#sigma =1.6\n",
    "\n",
    "#x = np.linspace(min(deltas),max(deltas), 10000)\n",
    "#plt.plot(x, mlab.normpdf(x,mu,sigma))\n",
    "plt.xlim(xmin=-20, xmax=20)\n",
    "\n",
    "plt.show()"
   ]
  },
  {
   "cell_type": "code",
   "execution_count": 148,
   "metadata": {
    "collapsed": false
   },
   "outputs": [
    {
     "name": "stdout",
     "output_type": "stream",
     "text": [
      "sigma value 2.13964131855\n",
      "mean value 0.242699733836\n"
     ]
    },
    {
     "data": {
      "image/png": "[encoded data removed]",
      "text/plain": [
       "<matplotlib.figure.Figure at 0x7f5ea2fd0a90>"
      ]
     },
     "metadata": {},
     "output_type": "display_data"
    }
   ],
   "source": [
    "from scipy.optimize import curve_fit\n",
    "\n",
    "def gaussian(x, am, mu, sigma):\n",
    "    return am*np.exp(-(x-mu)**2/(2*sigma**2))\n",
    "\n",
    "\n",
    "init_vals = [1, 0,1.0]\n",
    "best_val, covar = curve_fit(gaussian, bcenters, n, p0=init_vals)\n",
    "x = np.linspace(min(deltas),max(deltas), 5000)\n",
    "plt.plot(x, gaussian(x, best_val[0], best_val[1], best_val[2]))\n",
    "plt.xlim(xmin=-20, xmax=20)\n",
    "\n",
    "plt.plot(bcenters, n)\n",
    "print(\"sigma value \"+str(best_val[-1]))\n",
    "print(\"mean value \"+str(best_val[1]))\n",
    "plt.show()"
   ]
  },
  {
   "cell_type": "code",
   "execution_count": null,
   "metadata": {
    "collapsed": true
   },
   "outputs": [],
   "source": []
  },
  {
   "cell_type": "code",
   "execution_count": null,
   "metadata": {
    "collapsed": true
   },
   "outputs": [],
   "source": []
  }
 ],
 "metadata": {
  "kernelspec": {
   "display_name": "Python 2",
   "language": "python",
   "name": "python2"
  },
  "language_info": {
   "codemirror_mode": {
    "name": "ipython",
    "version": 2
   },
   "file_extension": ".py",
   "mimetype": "text/x-python",
   "name": "python",
   "nbconvert_exporter": "python",
   "pygments_lexer": "ipython2",
   "version": "2.7.11"
  }
 },
 "nbformat": 4,
 "nbformat_minor": 0
}
