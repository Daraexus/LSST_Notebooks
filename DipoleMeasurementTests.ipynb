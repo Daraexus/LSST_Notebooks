{
 "metadata": {
  "name": ""
 },
 "nbformat": 3,
 "nbformat_minor": 0,
 "worksheets": [
  {
   "cells": [
    {
     "cell_type": "heading",
     "level": 1,
     "metadata": {},
     "source": [
      "DipoleMeasurementTests"
     ]
    },
    {
     "cell_type": "markdown",
     "metadata": {},
     "source": [
      "Obligatory imports"
     ]
    },
    {
     "cell_type": "code",
     "collapsed": false,
     "input": [
      "import ImageSubtractionTools\n",
      "import ImageSubtractor\n",
      "import SourceExtractor\n",
      "import lsst.afw.image as afwImage\n",
      "import lsst.afw.display.ds9 as ds9\n",
      "import os\n",
      "import ImageViewer\n",
      "import lsst.afw.table as afwTable"
     ],
     "language": "python",
     "metadata": {},
     "outputs": [],
     "prompt_number": 1
    },
    {
     "cell_type": "markdown",
     "metadata": {},
     "source": [
      "This is the same pipeline compressed. Can be run without problems"
     ]
    },
    {
     "cell_type": "code",
     "collapsed": false,
     "input": [
      "DATADIR=\"/renoir_data_02/jpreyes/lsst_data/data/CFHTLS_TEST\"\n",
      "scienceFolder = \"subtract+0\"\n",
      "templateFolder = \"coaddition\"\n",
      "\n",
      "SciencePath = DATADIR+\"/output/coadd_r_dir/\"+scienceFolder+\"/deepCoadd/r/1/33,15.fits\"\n",
      "TemplatePath = DATADIR+\"/output/coadd_r_dir/\"+templateFolder+\"/deepCoadd/r/1/33,15.fits\"\n",
      "\n",
      "scienceExp = afwImage.ExposureF(SciencePath)\n",
      "templateExp = afwImage.ExposureF(TemplatePath)\n",
      "\n",
      "scienceExp = ImageSubtractionTools.SubtractBackground(scienceExp)\n",
      "templateExp = ImageSubtractionTools.SubtractBackground(templateExp)\n",
      "sc_ctr, sc_psfAttr, sc_sigmaOrig= ImageSubtractionTools.ComputeInitialParameters(scienceExp)\n",
      "tm_ctr, tm_psfAttr, tm_sigmaOrig= ImageSubtractionTools.ComputeInitialParameters(templateExp)\n",
      "sc_psf = scienceExp.getPsf()\n",
      "#c_image_1, sc_sigma_1  = ImageSubtractionTools.SimplifiedPreConvolve(templateExp, tm_sigmaOrig, sc_psf)\n",
      "c_image_1, sc_sigma_1 = ImageSubtractionTools.PreConvolve(templateExp, tm_sigmaOrig, sc_psf)\n",
      "\n",
      "templateExp.setMaskedImage(c_image_1)\n",
      "#templateExp.writeFits(\"preConvolvedTemplateExp.fits\")\n",
      "selectSources = ImageSubtractionTools.SelectSources(scienceExp, sc_sigma_1 )\n",
      "n_of_gaussians = ImageSubtractionTools.CalculateNumberOfBasisFunctions(sc_sigma_1, tm_sigmaOrig)\n",
      "kernelSources = ImageSubtractionTools.SelectKernelSources(scienceExp, selectSources)\n",
      "candidateList, templateFwhmPix, scienceFwhmPix = ImageSubtractionTools.MakeCandidateList(templateExp, scienceExp )\n",
      "kernelCellSet = ImageSubtractionTools.CalculateKernelCellSet(templateExp, scienceExp, candidateList)\n",
      "\n",
      "\n",
      "\n",
      "cat = afwTable.SourceCatalog(kernelSources[-1].schema)\n",
      "\n",
      "for candidate in candidateList:\n",
      "    cat.append( candidate.get(\"source\") )\n",
      "#cat.writeFits(\"kernelCandidates.fits\")\n",
      "basisList = ImageSubtractionTools.CalculateKernelBasis(templateExp, templateFwhmPix, scienceExp, scienceFwhmPix, candidateList)\n",
      "spatialSolution, psfMatchingKernel, backgroundModel =ImageSubtractionTools.SolvePsfMatching(kernelCellSet, basisList)\n",
      "\n",
      "#psfMatchingKernel.writeFits(\"psf_Matching_Kernel.fits\")\n",
      "from lsst.ip.diffim import utils as diUtils\n",
      "diUtils.showKernelBasis(psfMatchingKernel, frame=5) \n",
      "diUtils.showKernelCandidates(kernelCellSet, kernel=psfMatchingKernel, background=backgroundModel,\n",
      "                                         frame=6,\n",
      "                                         showBadCandidates=True,\n",
      "                                         resids=True)\n",
      "matchedImage = ImageSubtractionTools.PsfConvolveImage(templateExp, psfMatchingKernel, doNormalize=True)\n",
      "subtractedImage = ImageSubtractionTools.SubtractImages(matchedImage, templateExp, scienceExp)\n",
      "#templateExp.writeFits(\"matchedTemplate.fits\")\n",
      "#templateExp.writeFits(\"subtractedImage.fits\")\n",
      "ds9.setMaskTransparency(100)\n",
      "ds9.mtv(subtractedImage, frame=1)\n",
      "subtractedExp = afwImage.ExposureF(subtractedImage)\n",
      "\n",
      "\n",
      "\n",
      "import lsst.daf.base as dafBase\n",
      "\n",
      "algMetadata = dafBase.PropertyList()"
     ],
     "language": "python",
     "metadata": {},
     "outputs": [
      {
       "output_type": "stream",
       "stream": "stdout",
       "text": [
        "<lsst.afw.image.imageLib.MaskedImageF; proxy of <Swig Object of type 'boost::shared_ptr< lsst::afw::image::MaskedImage< float,lsst::afw::image::MaskPixel,lsst::afw::image::VariancePixel > > *' at 0x5c0b060> >\n"
       ]
      },
      {
       "output_type": "stream",
       "stream": "stderr",
       "text": [
        "/renoir_data_00/jpreyes/stacks/v9_2_copy/Linux64/anaconda/1.8.0/lib/python2.7/site-packages/numpy/core/_methods.py:57: RuntimeWarning: invalid value encountered in double_scalars\n",
        "  ret = ret / float(rcount)\n",
        "/renoir_data_00/jpreyes/stacks/v9_2_copy/Linux64/anaconda/1.8.0/lib/python2.7/site-packages/numpy/core/_methods.py:72: RuntimeWarning: invalid value encountered in true_divide\n",
        "  out=arrmean, casting='unsafe', subok=False)\n",
        "/renoir_data_00/jpreyes/stacks/v9_2_copy/Linux64/anaconda/1.8.0/lib/python2.7/site-packages/numpy/core/_methods.py:96: RuntimeWarning: invalid value encountered in double_scalars\n",
        "  ret = ret / float(rcount)\n"
       ]
      }
     ],
     "prompt_number": 2
    },
    {
     "cell_type": "heading",
     "level": 1,
     "metadata": {},
     "source": [
      "This part is still on debbuging. <b>DO NOT EXECUTE</b>\n"
     ]
    },
    {
     "cell_type": "code",
     "collapsed": false,
     "input": [
      "import lsst.pipe.base as pipeBase\n",
      "from lsst.meas.algorithms import SourceMeasurementTask\n",
      "import kernelCandidateQa as kc\n",
      "\n",
      "\n",
      "kcQa = kcqa.KernelCandidateQa(len(basisList))\n",
      "\n",
      "\n",
      "\n",
      "kcQaSelectSources = kcQa.addToSchema(detectedSources)\n",
      "from lsst.afw.math import afwMath\n",
      "from lsst.ip.diffim import  cast_KernelCandidateF, KernelCandidateF\n",
      "import lsst.ip.diffim.diffimTools as diffimTools\n",
      "\n",
      "kernelCandList = []\n",
      "for cell in kernelCellSet.getCellList():\n",
      "    for cand in cell.begin(False): # include bad candidates\n",
      "        kernelCandList.append(cast_KernelCandidateF(cand))\n",
      "\n",
      "        # Get basis list to build control sample kernels\n",
      "        basisList = afwMath.cast_LinearCombinationKernel(kernelCandList[0].getKernel(KernelCandidateF.ORIG)).getKernelList()\n",
      "\n",
      "        #controlCandList = diffimTools.sourceTableToCandidateList(controlSources,\n",
      "        #                                                  subtractRes.warpedExposure, exposure,\n",
      "        #                                                   self.config.subtract.kernel.active,\n",
      "        #                                                   self.config.subtract.kernel.active.detectionConfig,\n",
      "        #                                                   self.log, doBuild=True, basisList=basisList)\n",
      "\n",
      "\n",
      "from lsst.ip.diffim import diffimLib\n",
      "\n",
      "for kernelCandidate in kernelCandList:\n",
      "     if kernelCandidate.getStatus() != afwMath.SpatialCellCandidate.UNKNOWN:\n",
      "\n",
      "         kType = getattr(diffimLib.KernelCandidateF, \"ORIG\")\n",
      "         di = kernelCandidate.getDifferenceImage(kType)\n",
      "         mask = di.getMask()\n",
      "         mask.addMaskPlane(\"NO_DATA\")\n",
      "\n",
      "kcQa.apply(kernelCandList, psfMatchingKernel, backgroundModel, dof=n_of_gaussians)"
     ],
     "language": "python",
     "metadata": {},
     "outputs": []
    },
    {
     "cell_type": "heading",
     "level": 1,
     "metadata": {},
     "source": [
      "Attempt # 1"
     ]
    },
    {
     "cell_type": "markdown",
     "metadata": {},
     "source": [
      "I went back to the first SourceExtractor method (the new one does not work either). I added new flags and algorithms to be calculated on the detected sources. Currently, the algorithms applied over the source are\n",
      "\n",
      "<ol>\n",
      "    <li>Centroid: <b>centroid.sdss</b></li>\n",
      "    <li>Aperture Flux: <b>flux.sinc</b></li>\n",
      "    <li>Shape: <b>shape.sdss</b></li>\n",
      "    <li>Model Flux: <b>flux.gaussian</b></li>\n",
      "    <li>PSF Flux: <b>flux.psf</b></li>\n",
      "</ol>\n",
      "\n",
      "Those are \"required\" for the DipoleMeasurementTask."
     ]
    },
    {
     "cell_type": "code",
     "collapsed": false,
     "input": [
      "reload(SourceExtractor)\n",
      "\n",
      "detectedSources, processedExp = SourceExtractor.Show_image_and_footprints(subtractedExp, 1)\n",
      "#detectedSources, processedExp = SourceExtractor.Get_and_Measure_sources(subtractedExp)\n",
      "#detectedSources.writeFits(\"detectedSourcesOnSubtraction.fits\")\n",
      "\n"
     ],
     "language": "python",
     "metadata": {},
     "outputs": [
      {
       "output_type": "stream",
       "stream": "stdout",
       "text": [
        "['BAD', 'CR', 'DETECTED', 'DETECTED_NEGATIVE', 'EDGE', 'INTRP', 'OTHERDET', 'SAT', 'SUSPECT', 'THISDET', 'UNMASKEDNAN']\n",
        "Mean of the image is 0.000 counts, stdev is 0.271 counts"
       ]
      },
      {
       "output_type": "stream",
       "stream": "stdout",
       "text": [
        "\n",
        "The 5-sigma detection threshold is at 1.36 counts\n",
        "Measuring 19 objects\n"
       ]
      }
     ],
     "prompt_number": 127
    },
    {
     "cell_type": "markdown",
     "metadata": {},
     "source": [
      "Now, we create a new instance of the DipoleMeasurementTask. We send as parameter the schema of <b>detectedSources</b> that should have all the flags that were calculated on the last step. However, when we call the method, the algorithm complains that the field <b>centroid.sdss</b> is already present on the schema (which we know for sure, it is)"
     ]
    },
    {
     "cell_type": "code",
     "collapsed": false,
     "input": [
      "import  lsst.ip.diffim.dipoleMeasurement as dipoleMeasurer\n",
      "\n",
      "dipTask = dipoleMeasurer.DipoleMeasurementTask\n",
      "\n",
      "#dipTask = dipTask(afwTable.SourceTable.makeMinimalSchema())\n",
      "\n",
      "dipTask = dipTask(detectedSources.schema)\n",
      "dipConfig = dipTask.ConfigClass()\n",
      "#dipTask._init_()\n",
      "dipTask.run(subtractedExp, detectedSources)\n"
     ],
     "language": "python",
     "metadata": {},
     "outputs": [
      {
       "ename": "InvalidParameterError",
       "evalue": "\n  File \"src/table/Schema.cc\", line 544, in lsst::afw::table::Key<U> lsst::afw::table::detail::SchemaImpl::addField(const lsst::afw::table::Field<T>&, bool) [with T = lsst::afw::table::Point<double>]\n    Field with name 'centroid.sdss' already present in schema. {0}\nlsst::pex::exceptions::InvalidParameterError: 'Field with name 'centroid.sdss' already present in schema.'\n",
       "output_type": "pyerr",
       "traceback": [
        "\u001b[1;31m---------------------------------------------------------------------------\u001b[0m\n\u001b[1;31mInvalidParameterError\u001b[0m                     Traceback (most recent call last)",
        "\u001b[1;32m<ipython-input-128-544d967525a9>\u001b[0m in \u001b[0;36m<module>\u001b[1;34m()\u001b[0m\n\u001b[0;32m      5\u001b[0m \u001b[1;31m#dipTask = dipTask(afwTable.SourceTable.makeMinimalSchema())\u001b[0m\u001b[1;33m\u001b[0m\u001b[1;33m\u001b[0m\u001b[0m\n\u001b[0;32m      6\u001b[0m \u001b[1;33m\u001b[0m\u001b[0m\n\u001b[1;32m----> 7\u001b[1;33m \u001b[0mdipTask\u001b[0m \u001b[1;33m=\u001b[0m \u001b[0mdipTask\u001b[0m\u001b[1;33m(\u001b[0m\u001b[0mdetectedSources\u001b[0m\u001b[1;33m.\u001b[0m\u001b[0mschema\u001b[0m\u001b[1;33m)\u001b[0m\u001b[1;33m\u001b[0m\u001b[0m\n\u001b[0m\u001b[0;32m      8\u001b[0m \u001b[0mdipConfig\u001b[0m \u001b[1;33m=\u001b[0m \u001b[0mdipTask\u001b[0m\u001b[1;33m.\u001b[0m\u001b[0mConfigClass\u001b[0m\u001b[1;33m(\u001b[0m\u001b[1;33m)\u001b[0m\u001b[1;33m\u001b[0m\u001b[0m\n\u001b[0;32m      9\u001b[0m \u001b[1;31m#dipTask._init_()\u001b[0m\u001b[1;33m\u001b[0m\u001b[1;33m\u001b[0m\u001b[0m\n",
        "\u001b[1;32m/renoir_data_00/jpreyes/stacks/v9_2_copy/Linux64/ip_diffim/9.2/python/lsst/ip/diffim/dipoleMeasurement.pyc\u001b[0m in \u001b[0;36m__init__\u001b[1;34m(self, schema, algMetadata, **kwds)\u001b[0m\n\u001b[0;32m     66\u001b[0m         \u001b[1;33m@\u001b[0m\u001b[0mparam\u001b[0m         \u001b[1;33m**\u001b[0m\u001b[0mkwds\u001b[0m        \u001b[0mPassed\u001b[0m \u001b[0mto\u001b[0m \u001b[0mTask\u001b[0m\u001b[1;33m.\u001b[0m\u001b[0m__init__\u001b[0m\u001b[1;33m.\u001b[0m\u001b[1;33m\u001b[0m\u001b[0m\n\u001b[0;32m     67\u001b[0m         \"\"\"\n\u001b[1;32m---> 68\u001b[1;33m         \u001b[0mSourceMeasurementTask\u001b[0m\u001b[1;33m.\u001b[0m\u001b[0m__init__\u001b[0m\u001b[1;33m(\u001b[0m\u001b[0mself\u001b[0m\u001b[1;33m,\u001b[0m \u001b[0mschema\u001b[0m\u001b[1;33m,\u001b[0m \u001b[0malgMetadata\u001b[0m\u001b[1;33m,\u001b[0m \u001b[1;33m**\u001b[0m\u001b[0mkwds\u001b[0m\u001b[1;33m)\u001b[0m\u001b[1;33m\u001b[0m\u001b[0m\n\u001b[0m\u001b[0;32m     69\u001b[0m         \u001b[0mself\u001b[0m\u001b[1;33m.\u001b[0m\u001b[0mdipoleAnalysis\u001b[0m \u001b[1;33m=\u001b[0m \u001b[0mDipoleAnalysis\u001b[0m\u001b[1;33m(\u001b[0m\u001b[1;33m)\u001b[0m\u001b[1;33m\u001b[0m\u001b[0m\n\u001b[0;32m     70\u001b[0m \u001b[1;33m\u001b[0m\u001b[0m\n",
        "\u001b[1;32m/renoir_data_00/jpreyes/stacks/v9_2_copy/Linux64/meas_algorithms/9.2/python/lsst/meas/algorithms/measurement.pyc\u001b[0m in \u001b[0;36m__init__\u001b[1;34m(self, schema, algMetadata, **kwds)\u001b[0m\n\u001b[0;32m    314\u001b[0m         \"\"\"\n\u001b[0;32m    315\u001b[0m         \u001b[0mpipeBase\u001b[0m\u001b[1;33m.\u001b[0m\u001b[0mTask\u001b[0m\u001b[1;33m.\u001b[0m\u001b[0m__init__\u001b[0m\u001b[1;33m(\u001b[0m\u001b[0mself\u001b[0m\u001b[1;33m,\u001b[0m \u001b[1;33m**\u001b[0m\u001b[0mkwds\u001b[0m\u001b[1;33m)\u001b[0m\u001b[1;33m\u001b[0m\u001b[0m\n\u001b[1;32m--> 316\u001b[1;33m         \u001b[0mself\u001b[0m\u001b[1;33m.\u001b[0m\u001b[0mmeasurer\u001b[0m \u001b[1;33m=\u001b[0m \u001b[0mself\u001b[0m\u001b[1;33m.\u001b[0m\u001b[0mconfig\u001b[0m\u001b[1;33m.\u001b[0m\u001b[0mmakeMeasureSources\u001b[0m\u001b[1;33m(\u001b[0m\u001b[0mschema\u001b[0m\u001b[1;33m,\u001b[0m \u001b[0malgMetadata\u001b[0m\u001b[1;33m)\u001b[0m\u001b[1;33m\u001b[0m\u001b[0m\n\u001b[0m\u001b[0;32m    317\u001b[0m         \u001b[1;32mif\u001b[0m \u001b[0mself\u001b[0m\u001b[1;33m.\u001b[0m\u001b[0mconfig\u001b[0m\u001b[1;33m.\u001b[0m\u001b[0mdoReplaceWithNoise\u001b[0m\u001b[1;33m:\u001b[0m\u001b[1;33m\u001b[0m\u001b[0m\n\u001b[0;32m    318\u001b[0m             \u001b[0mself\u001b[0m\u001b[1;33m.\u001b[0m\u001b[0mmakeSubtask\u001b[0m\u001b[1;33m(\u001b[0m\u001b[1;34m'replaceWithNoise'\u001b[0m\u001b[1;33m)\u001b[0m\u001b[1;33m\u001b[0m\u001b[0m\n",
        "\u001b[1;32m/renoir_data_00/jpreyes/stacks/v9_2_copy/Linux64/meas_algorithms/9.2/python/lsst/meas/algorithms/measurement.pyc\u001b[0m in \u001b[0;36mmakeMeasureSources\u001b[1;34m(self, schema, metadata)\u001b[0m\n\u001b[0;32m    139\u001b[0m             \u001b[0mbuilder\u001b[0m\u001b[1;33m.\u001b[0m\u001b[0msetCentroider\u001b[0m\u001b[1;33m(\u001b[0m\u001b[0mself\u001b[0m\u001b[1;33m.\u001b[0m\u001b[0mcentroider\u001b[0m\u001b[1;33m.\u001b[0m\u001b[0mapply\u001b[0m\u001b[1;33m(\u001b[0m\u001b[1;33m)\u001b[0m\u001b[1;33m)\u001b[0m\u001b[1;33m\u001b[0m\u001b[0m\n\u001b[0;32m    140\u001b[0m         \u001b[0mbuilder\u001b[0m\u001b[1;33m.\u001b[0m\u001b[0maddAlgorithms\u001b[0m\u001b[1;33m(\u001b[0m\u001b[0mself\u001b[0m\u001b[1;33m.\u001b[0m\u001b[0malgorithms\u001b[0m\u001b[1;33m.\u001b[0m\u001b[0mapply\u001b[0m\u001b[1;33m(\u001b[0m\u001b[1;33m)\u001b[0m\u001b[1;33m)\u001b[0m\u001b[1;33m\u001b[0m\u001b[0m\n\u001b[1;32m--> 141\u001b[1;33m         \u001b[1;32mreturn\u001b[0m \u001b[0mbuilder\u001b[0m\u001b[1;33m.\u001b[0m\u001b[0mbuild\u001b[0m\u001b[1;33m(\u001b[0m\u001b[0mschema\u001b[0m\u001b[1;33m,\u001b[0m \u001b[0mmetadata\u001b[0m\u001b[1;33m)\u001b[0m\u001b[1;33m\u001b[0m\u001b[0m\n\u001b[0m\u001b[0;32m    142\u001b[0m \u001b[1;33m\u001b[0m\u001b[0m\n\u001b[0;32m    143\u001b[0m \u001b[1;31m## \\addtogroup LSST_task_documentation\u001b[0m\u001b[1;33m\u001b[0m\u001b[1;33m\u001b[0m\u001b[0m\n",
        "\u001b[1;32m/renoir_data_00/jpreyes/stacks/v9_2_copy/Linux64/meas_algorithms/9.2/python/lsst/meas/algorithms/algorithmsLib.pyc\u001b[0m in \u001b[0;36mbuild\u001b[1;34m(self, *args)\u001b[0m\n\u001b[0;32m   3262\u001b[0m         \u001b[0mbuild\u001b[0m\u001b[1;33m(\u001b[0m\u001b[0mMeasureSourcesBuilder\u001b[0m \u001b[0mself\u001b[0m\u001b[1;33m,\u001b[0m \u001b[0mSchema\u001b[0m \u001b[0mschema\u001b[0m\u001b[1;33m)\u001b[0m \u001b[1;33m-\u001b[0m\u001b[1;33m>\u001b[0m \u001b[0mMeasureSources\u001b[0m\u001b[1;33m\u001b[0m\u001b[0m\n\u001b[0;32m   3263\u001b[0m         \"\"\"\n\u001b[1;32m-> 3264\u001b[1;33m         \u001b[1;32mreturn\u001b[0m \u001b[0m_algorithmsLib\u001b[0m\u001b[1;33m.\u001b[0m\u001b[0mMeasureSourcesBuilder_build\u001b[0m\u001b[1;33m(\u001b[0m\u001b[0mself\u001b[0m\u001b[1;33m,\u001b[0m \u001b[1;33m*\u001b[0m\u001b[0margs\u001b[0m\u001b[1;33m)\u001b[0m\u001b[1;33m\u001b[0m\u001b[0m\n\u001b[0m\u001b[0;32m   3265\u001b[0m \u001b[1;33m\u001b[0m\u001b[0m\n\u001b[0;32m   3266\u001b[0m     \u001b[1;32mdef\u001b[0m \u001b[0m__init__\u001b[0m\u001b[1;33m(\u001b[0m\u001b[0mself\u001b[0m\u001b[1;33m,\u001b[0m \u001b[0mprefix\u001b[0m\u001b[1;33m=\u001b[0m\u001b[1;34m\"\"\u001b[0m\u001b[1;33m)\u001b[0m\u001b[1;33m:\u001b[0m\u001b[1;33m\u001b[0m\u001b[0m\n",
        "\u001b[1;31mInvalidParameterError\u001b[0m: \n  File \"src/table/Schema.cc\", line 544, in lsst::afw::table::Key<U> lsst::afw::table::detail::SchemaImpl::addField(const lsst::afw::table::Field<T>&, bool) [with T = lsst::afw::table::Point<double>]\n    Field with name 'centroid.sdss' already present in schema. {0}\nlsst::pex::exceptions::InvalidParameterError: 'Field with name 'centroid.sdss' already present in schema.'\n"
       ]
      }
     ],
     "prompt_number": 128
    },
    {
     "cell_type": "heading",
     "level": 1,
     "metadata": {},
     "source": [
      "Attempt # 2"
     ]
    },
    {
     "cell_type": "markdown",
     "metadata": {},
     "source": [
      "Let's try a different approach. Normally, the ImageDifferenceTask creates an empty table with a minimal schema that is going to be used for the purpose of calculating the diaSources flags. So, we create a new empty catalog, we run the <b>MakeSourceCatalog</b> and we prepare the parameters"
     ]
    },
    {
     "cell_type": "code",
     "collapsed": false,
     "input": [
      "subtractedExp.setPsf(scienceExp.getPsf())\n",
      "from  lsst.meas.algorithms import SourceMeasurementTask, SourceDetectionTask\n",
      "\n",
      "#import lsst.meas.algorithms. as sourceDetector\n",
      "sdTask = SourceDetectionTask()\n",
      "sdConfig  = SourceDetectionTask.ConfigClass()\n",
      "\n",
      "table = afwTable.SourceTable.make(afwTable.SourceTable.makeMinimalSchema())\n",
      "#table = afwTable.SourceTable.make(detectedSources.schema)\n",
      "table.setMetadata(algMetadata)\n",
      "\n",
      "\n",
      "results = sdTask.makeSourceCatalog(table=table, exposure=subtractedExp, doSmooth=not True)\n",
      "\n",
      "detectedSources= results.sources\n"
     ],
     "language": "python",
     "metadata": {},
     "outputs": [],
     "prompt_number": 133
    },
    {
     "cell_type": "markdown",
     "metadata": {},
     "source": [
      "So we try again, with this new empty schema and... we obtain the exception:\n",
      "\n",
      "<i>lsst::pex::exceptions::NotFoundError: 'Field or subfield withname 'centroid.sdss' not found with type 'PointD'.'</i>\n",
      "\n",
      "Which is raised when the schema does not contain the mentioned field. In this case the <b>centroid.sdss</b> field. Hence why we use in the first attempt an algorithm that pre-calculates this. So far the errors are that the field is already present and that the field is not present."
     ]
    },
    {
     "cell_type": "code",
     "collapsed": false,
     "input": [
      "import  lsst.ip.diffim.dipoleMeasurement as dipoleMeasurer\n",
      "\n",
      "dipTask = dipoleMeasurer.DipoleMeasurementTask\n",
      "\n",
      "#dipTask = dipTask(afwTable.SourceTable.makeMinimalSchema())\n",
      "\n",
      "dipTask = dipTask(detectedSources.schema)\n",
      "dipConfig = dipTask.ConfigClass()\n",
      "#dipTask._init_()\n",
      "dipTask.run(subtractedExp, detectedSources)\n"
     ],
     "language": "python",
     "metadata": {},
     "outputs": [
      {
       "ename": "NotFoundError",
       "evalue": "\n  File \"src/table/Schema.cc\", line 233, in lsst::afw::table::SchemaItem<T> lsst::afw::table::detail::SchemaImpl::find(const std::string&) const [with T = lsst::afw::table::Point<double>]\n    Field or subfield withname 'centroid.sdss' not found with type 'PointD'. {0}\nlsst::pex::exceptions::NotFoundError: 'Field or subfield withname 'centroid.sdss' not found with type 'PointD'.'\n",
       "output_type": "pyerr",
       "traceback": [
        "\u001b[1;31m---------------------------------------------------------------------------\u001b[0m\n\u001b[1;31mNotFoundError\u001b[0m                             Traceback (most recent call last)",
        "\u001b[1;32m<ipython-input-134-544d967525a9>\u001b[0m in \u001b[0;36m<module>\u001b[1;34m()\u001b[0m\n\u001b[0;32m      8\u001b[0m \u001b[0mdipConfig\u001b[0m \u001b[1;33m=\u001b[0m \u001b[0mdipTask\u001b[0m\u001b[1;33m.\u001b[0m\u001b[0mConfigClass\u001b[0m\u001b[1;33m(\u001b[0m\u001b[1;33m)\u001b[0m\u001b[1;33m\u001b[0m\u001b[0m\n\u001b[0;32m      9\u001b[0m \u001b[1;31m#dipTask._init_()\u001b[0m\u001b[1;33m\u001b[0m\u001b[1;33m\u001b[0m\u001b[0m\n\u001b[1;32m---> 10\u001b[1;33m \u001b[0mdipTask\u001b[0m\u001b[1;33m.\u001b[0m\u001b[0mrun\u001b[0m\u001b[1;33m(\u001b[0m\u001b[0msubtractedExp\u001b[0m\u001b[1;33m,\u001b[0m \u001b[0mdetectedSources\u001b[0m\u001b[1;33m)\u001b[0m\u001b[1;33m\u001b[0m\u001b[0m\n\u001b[0m",
        "\u001b[1;32m/renoir_data_00/jpreyes/stacks/v9_2_copy/Linux64/ip_diffim/9.2/python/lsst/ip/diffim/dipoleMeasurement.pyc\u001b[0m in \u001b[0;36mrun\u001b[1;34m(self, exposure, sources, **kwds)\u001b[0m\n\u001b[0;32m     99\u001b[0m \u001b[1;33m\u001b[0m\u001b[0m\n\u001b[0;32m    100\u001b[0m     \u001b[1;32mdef\u001b[0m \u001b[0mrun\u001b[0m\u001b[1;33m(\u001b[0m\u001b[0mself\u001b[0m\u001b[1;33m,\u001b[0m \u001b[0mexposure\u001b[0m\u001b[1;33m,\u001b[0m \u001b[0msources\u001b[0m\u001b[1;33m,\u001b[0m \u001b[1;33m**\u001b[0m\u001b[0mkwds\u001b[0m\u001b[1;33m)\u001b[0m\u001b[1;33m:\u001b[0m\u001b[1;33m\u001b[0m\u001b[0m\n\u001b[1;32m--> 101\u001b[1;33m         \u001b[0mSourceMeasurementTask\u001b[0m\u001b[1;33m.\u001b[0m\u001b[0mrun\u001b[0m\u001b[1;33m(\u001b[0m\u001b[0mself\u001b[0m\u001b[1;33m,\u001b[0m \u001b[0mexposure\u001b[0m\u001b[1;33m,\u001b[0m \u001b[0msources\u001b[0m\u001b[1;33m,\u001b[0m \u001b[1;33m**\u001b[0m\u001b[0mkwds\u001b[0m\u001b[1;33m)\u001b[0m\u001b[1;33m\u001b[0m\u001b[0m\n\u001b[0m\u001b[0;32m    102\u001b[0m         \u001b[0mself\u001b[0m\u001b[1;33m.\u001b[0m\u001b[0mclassify\u001b[0m\u001b[1;33m(\u001b[0m\u001b[0msources\u001b[0m\u001b[1;33m)\u001b[0m\u001b[1;33m\u001b[0m\u001b[0m\n\u001b[0;32m    103\u001b[0m \u001b[1;33m\u001b[0m\u001b[0m\n",
        "\u001b[1;32m/renoir_data_00/jpreyes/stacks/v9_2_copy/Linux64/pipe_base/9.2/python/lsst/pipe/base/timer.pyc\u001b[0m in \u001b[0;36mwrapper\u001b[1;34m(self, *args, **keyArgs)\u001b[0m\n\u001b[0;32m    116\u001b[0m         \u001b[0mlogInfo\u001b[0m\u001b[1;33m(\u001b[0m\u001b[0mobj\u001b[0m \u001b[1;33m=\u001b[0m \u001b[0mself\u001b[0m\u001b[1;33m,\u001b[0m \u001b[0mprefix\u001b[0m \u001b[1;33m=\u001b[0m \u001b[0mfunc\u001b[0m\u001b[1;33m.\u001b[0m\u001b[0m__name__\u001b[0m \u001b[1;33m+\u001b[0m \u001b[1;34m\"Start\"\u001b[0m\u001b[1;33m)\u001b[0m\u001b[1;33m\u001b[0m\u001b[0m\n\u001b[0;32m    117\u001b[0m         \u001b[1;32mtry\u001b[0m\u001b[1;33m:\u001b[0m\u001b[1;33m\u001b[0m\u001b[0m\n\u001b[1;32m--> 118\u001b[1;33m             \u001b[0mres\u001b[0m \u001b[1;33m=\u001b[0m \u001b[0mfunc\u001b[0m\u001b[1;33m(\u001b[0m\u001b[0mself\u001b[0m\u001b[1;33m,\u001b[0m \u001b[1;33m*\u001b[0m\u001b[0margs\u001b[0m\u001b[1;33m,\u001b[0m \u001b[1;33m**\u001b[0m\u001b[0mkeyArgs\u001b[0m\u001b[1;33m)\u001b[0m\u001b[1;33m\u001b[0m\u001b[0m\n\u001b[0m\u001b[0;32m    119\u001b[0m         \u001b[1;32mfinally\u001b[0m\u001b[1;33m:\u001b[0m\u001b[1;33m\u001b[0m\u001b[0m\n\u001b[0;32m    120\u001b[0m             \u001b[0mlogInfo\u001b[0m\u001b[1;33m(\u001b[0m\u001b[0mobj\u001b[0m \u001b[1;33m=\u001b[0m \u001b[0mself\u001b[0m\u001b[1;33m,\u001b[0m \u001b[0mprefix\u001b[0m \u001b[1;33m=\u001b[0m \u001b[0mfunc\u001b[0m\u001b[1;33m.\u001b[0m\u001b[0m__name__\u001b[0m \u001b[1;33m+\u001b[0m \u001b[1;34m\"End\"\u001b[0m\u001b[1;33m)\u001b[0m\u001b[1;33m\u001b[0m\u001b[0m\n",
        "\u001b[1;32m/renoir_data_00/jpreyes/stacks/v9_2_copy/Linux64/meas_algorithms/9.2/python/lsst/meas/algorithms/measurement.pyc\u001b[0m in \u001b[0;36mmeasure\u001b[1;34m(self, exposure, sources, noiseImage, noiseMeanVar, references, refWcs)\u001b[0m\n\u001b[0;32m    422\u001b[0m \u001b[1;33m\u001b[0m\u001b[0m\n\u001b[0;32m    423\u001b[0m         \u001b[0mself\u001b[0m\u001b[1;33m.\u001b[0m\u001b[0mlog\u001b[0m\u001b[1;33m.\u001b[0m\u001b[0minfo\u001b[0m\u001b[1;33m(\u001b[0m\u001b[1;34m\"Measuring %d sources\"\u001b[0m \u001b[1;33m%\u001b[0m \u001b[0mlen\u001b[0m\u001b[1;33m(\u001b[0m\u001b[0msources\u001b[0m\u001b[1;33m)\u001b[0m\u001b[1;33m)\u001b[0m\u001b[1;33m\u001b[0m\u001b[0m\n\u001b[1;32m--> 424\u001b[1;33m         \u001b[0mself\u001b[0m\u001b[1;33m.\u001b[0m\u001b[0mconfig\u001b[0m\u001b[1;33m.\u001b[0m\u001b[0mslots\u001b[0m\u001b[1;33m.\u001b[0m\u001b[0msetupTable\u001b[0m\u001b[1;33m(\u001b[0m\u001b[0msources\u001b[0m\u001b[1;33m.\u001b[0m\u001b[0mtable\u001b[0m\u001b[1;33m,\u001b[0m \u001b[0mprefix\u001b[0m\u001b[1;33m=\u001b[0m\u001b[0mself\u001b[0m\u001b[1;33m.\u001b[0m\u001b[0mconfig\u001b[0m\u001b[1;33m.\u001b[0m\u001b[0mprefix\u001b[0m\u001b[1;33m)\u001b[0m\u001b[1;33m\u001b[0m\u001b[0m\n\u001b[0m\u001b[0;32m    425\u001b[0m \u001b[1;33m\u001b[0m\u001b[0m\n\u001b[0;32m    426\u001b[0m         \u001b[0mself\u001b[0m\u001b[1;33m.\u001b[0m\u001b[0mpreMeasureHook\u001b[0m\u001b[1;33m(\u001b[0m\u001b[0mexposure\u001b[0m\u001b[1;33m,\u001b[0m \u001b[0msources\u001b[0m\u001b[1;33m)\u001b[0m\u001b[1;33m\u001b[0m\u001b[0m\n",
        "\u001b[1;32m/renoir_data_00/jpreyes/stacks/v9_2_copy/Linux64/meas_algorithms/9.2/python/lsst/meas/algorithms/measurement.pyc\u001b[0m in \u001b[0;36msetupTable\u001b[1;34m(self, table, prefix)\u001b[0m\n\u001b[0;32m     55\u001b[0m         \"\"\"\n\u001b[0;32m     56\u001b[0m         \u001b[1;32mif\u001b[0m \u001b[0mprefix\u001b[0m \u001b[1;32mis\u001b[0m \u001b[0mNone\u001b[0m\u001b[1;33m:\u001b[0m \u001b[0mprefix\u001b[0m \u001b[1;33m=\u001b[0m \u001b[1;34m\"\"\u001b[0m\u001b[1;33m\u001b[0m\u001b[0m\n\u001b[1;32m---> 57\u001b[1;33m         \u001b[1;32mif\u001b[0m \u001b[0mself\u001b[0m\u001b[1;33m.\u001b[0m\u001b[0mcentroid\u001b[0m \u001b[1;32mis\u001b[0m \u001b[1;32mnot\u001b[0m \u001b[0mNone\u001b[0m\u001b[1;33m:\u001b[0m \u001b[0mtable\u001b[0m\u001b[1;33m.\u001b[0m\u001b[0mdefineCentroid\u001b[0m\u001b[1;33m(\u001b[0m\u001b[0mprefix\u001b[0m \u001b[1;33m+\u001b[0m \u001b[0mself\u001b[0m\u001b[1;33m.\u001b[0m\u001b[0mcentroid\u001b[0m\u001b[1;33m)\u001b[0m\u001b[1;33m\u001b[0m\u001b[0m\n\u001b[0m\u001b[0;32m     58\u001b[0m         \u001b[1;32mif\u001b[0m \u001b[0mself\u001b[0m\u001b[1;33m.\u001b[0m\u001b[0mshape\u001b[0m \u001b[1;32mis\u001b[0m \u001b[1;32mnot\u001b[0m \u001b[0mNone\u001b[0m\u001b[1;33m:\u001b[0m \u001b[0mtable\u001b[0m\u001b[1;33m.\u001b[0m\u001b[0mdefineShape\u001b[0m\u001b[1;33m(\u001b[0m\u001b[0mprefix\u001b[0m \u001b[1;33m+\u001b[0m \u001b[0mself\u001b[0m\u001b[1;33m.\u001b[0m\u001b[0mshape\u001b[0m\u001b[1;33m)\u001b[0m\u001b[1;33m\u001b[0m\u001b[0m\n\u001b[0;32m     59\u001b[0m         \u001b[1;32mif\u001b[0m \u001b[0mself\u001b[0m\u001b[1;33m.\u001b[0m\u001b[0mapFlux\u001b[0m \u001b[1;32mis\u001b[0m \u001b[1;32mnot\u001b[0m \u001b[0mNone\u001b[0m\u001b[1;33m:\u001b[0m \u001b[0mtable\u001b[0m\u001b[1;33m.\u001b[0m\u001b[0mdefineApFlux\u001b[0m\u001b[1;33m(\u001b[0m\u001b[0mprefix\u001b[0m \u001b[1;33m+\u001b[0m \u001b[0mself\u001b[0m\u001b[1;33m.\u001b[0m\u001b[0mapFlux\u001b[0m\u001b[1;33m)\u001b[0m\u001b[1;33m\u001b[0m\u001b[0m\n",
        "\u001b[1;32m/renoir_data_00/jpreyes/stacks/v9_2_copy/Linux64/afw/9.2/python/lsst/afw/table/tableLib.pyc\u001b[0m in \u001b[0;36mdefineCentroid\u001b[1;34m(self, meas, err, flag)\u001b[0m\n\u001b[0;32m   9661\u001b[0m         \u001b[1;32mif\u001b[0m \u001b[0merr\u001b[0m \u001b[1;32mis\u001b[0m \u001b[0mNone\u001b[0m\u001b[1;33m:\u001b[0m\u001b[1;33m\u001b[0m\u001b[0m\n\u001b[0;32m   9662\u001b[0m             \u001b[1;32mif\u001b[0m \u001b[0mflag\u001b[0m \u001b[1;32mis\u001b[0m \u001b[0mNone\u001b[0m\u001b[1;33m:\u001b[0m\u001b[1;33m\u001b[0m\u001b[0m\n\u001b[1;32m-> 9663\u001b[1;33m                 \u001b[0m_tableLib\u001b[0m\u001b[1;33m.\u001b[0m\u001b[0mSourceTable_defineCentroid\u001b[0m\u001b[1;33m(\u001b[0m\u001b[0mself\u001b[0m\u001b[1;33m,\u001b[0m \u001b[0mmeas\u001b[0m\u001b[1;33m)\u001b[0m\u001b[1;33m\u001b[0m\u001b[0m\n\u001b[0m\u001b[0;32m   9664\u001b[0m             \u001b[1;32melse\u001b[0m\u001b[1;33m:\u001b[0m\u001b[1;33m\u001b[0m\u001b[0m\n\u001b[0;32m   9665\u001b[0m                 \u001b[0m_tableLib\u001b[0m\u001b[1;33m.\u001b[0m\u001b[0mSourceTable_defineCentroid\u001b[0m\u001b[1;33m(\u001b[0m\u001b[0mself\u001b[0m\u001b[1;33m,\u001b[0m \u001b[0mmeas\u001b[0m\u001b[1;33m,\u001b[0m \u001b[0mflag\u001b[0m\u001b[1;33m)\u001b[0m\u001b[1;33m\u001b[0m\u001b[0m\n",
        "\u001b[1;31mNotFoundError\u001b[0m: \n  File \"src/table/Schema.cc\", line 233, in lsst::afw::table::SchemaItem<T> lsst::afw::table::detail::SchemaImpl::find(const std::string&) const [with T = lsst::afw::table::Point<double>]\n    Field or subfield withname 'centroid.sdss' not found with type 'PointD'. {0}\nlsst::pex::exceptions::NotFoundError: 'Field or subfield withname 'centroid.sdss' not found with type 'PointD'.'\n"
       ]
      }
     ],
     "prompt_number": 134
    },
    {
     "cell_type": "heading",
     "level": 1,
     "metadata": {},
     "source": [
      "Attempt # 3"
     ]
    },
    {
     "cell_type": "markdown",
     "metadata": {},
     "source": [
      "Final attempt. Let's try a middle point, using the detectedSources (diaSources) and sending a minimal schema to the dipoleMeasurementTask. Again, we call the function with all the algorithms"
     ]
    },
    {
     "cell_type": "code",
     "collapsed": false,
     "input": [
      "\n",
      "reload(SourceExtractor)\n",
      "detectedSources, processedExp = SourceExtractor.Show_image_and_footprints(subtractedExp, 1)\n"
     ],
     "language": "python",
     "metadata": {},
     "outputs": [
      {
       "output_type": "stream",
       "stream": "stdout",
       "text": [
        "['BAD', 'CR', 'DETECTED', 'DETECTED_NEGATIVE', 'EDGE', 'INTRP', 'OTHERDET', 'SAT', 'SUSPECT', 'THISDET', 'UNMASKEDNAN']\n",
        "Mean of the image is 0.000 counts, stdev is 0.271 counts"
       ]
      },
      {
       "output_type": "stream",
       "stream": "stdout",
       "text": [
        "\n",
        "The 5-sigma detection threshold is at 1.36 counts\n",
        "Measuring 19 objects\n"
       ]
      }
     ],
     "prompt_number": 13
    },
    {
     "cell_type": "code",
     "collapsed": false,
     "input": [
      "subtractedExp.setPsf(scienceExp.getPsf())\n",
      "from  lsst.meas.algorithms import SourceMeasurementTask, SourceDetectionTask\n",
      "\n",
      "#import lsst.meas.algorithms. as sourceDetector\n",
      "sdTask = SourceDetectionTask()\n",
      "sdConfig  = SourceDetectionTask.ConfigClass()\n",
      "\n",
      "table = afwTable.SourceTable.make(afwTable.SourceTable.makeMinimalSchema())\n",
      "#table = afwTable.SourceTable.make(detectedSources.schema)\n",
      "table.setMetadata(algMetadata)\n",
      "\n",
      "\n",
      "results = sdTask.makeSourceCatalog(table=table, exposure=subtractedExp, doSmooth=not True)\n"
     ],
     "language": "python",
     "metadata": {},
     "outputs": [],
     "prompt_number": 3
    },
    {
     "cell_type": "code",
     "collapsed": false,
     "input": [
      "fpSet = results.fpSets.positive\n",
      "fpSet.merge(results.fpSets.negative, True, True, False)\n",
      "diaSources = afwTable.SourceCatalog(table)\n",
      "fpSet.makeSources(diaSources)\n"
     ],
     "language": "python",
     "metadata": {},
     "outputs": [
      {
       "ename": "ValueError",
       "evalue": "invalid null reference in method 'FootprintSet_merge', argument 2 of type 'lsst::afw::detection::FootprintSet const &'",
       "output_type": "pyerr",
       "traceback": [
        "\u001b[1;31m---------------------------------------------------------------------------\u001b[0m\n\u001b[1;31mValueError\u001b[0m                                Traceback (most recent call last)",
        "\u001b[1;32m<ipython-input-4-69bda764546c>\u001b[0m in \u001b[0;36m<module>\u001b[1;34m()\u001b[0m\n\u001b[0;32m      1\u001b[0m \u001b[0mfpSet\u001b[0m \u001b[1;33m=\u001b[0m \u001b[0mresults\u001b[0m\u001b[1;33m.\u001b[0m\u001b[0mfpSets\u001b[0m\u001b[1;33m.\u001b[0m\u001b[0mpositive\u001b[0m\u001b[1;33m\u001b[0m\u001b[0m\n\u001b[1;32m----> 2\u001b[1;33m \u001b[0mfpSet\u001b[0m\u001b[1;33m.\u001b[0m\u001b[0mmerge\u001b[0m\u001b[1;33m(\u001b[0m\u001b[0mresults\u001b[0m\u001b[1;33m.\u001b[0m\u001b[0mfpSets\u001b[0m\u001b[1;33m.\u001b[0m\u001b[0mnegative\u001b[0m\u001b[1;33m,\u001b[0m \u001b[0mTrue\u001b[0m\u001b[1;33m,\u001b[0m \u001b[0mTrue\u001b[0m\u001b[1;33m,\u001b[0m \u001b[0mFalse\u001b[0m\u001b[1;33m)\u001b[0m\u001b[1;33m\u001b[0m\u001b[0m\n\u001b[0m\u001b[0;32m      3\u001b[0m \u001b[0mdiaSources\u001b[0m \u001b[1;33m=\u001b[0m \u001b[0mafwTable\u001b[0m\u001b[1;33m.\u001b[0m\u001b[0mSourceCatalog\u001b[0m\u001b[1;33m(\u001b[0m\u001b[0mtable\u001b[0m\u001b[1;33m)\u001b[0m\u001b[1;33m\u001b[0m\u001b[0m\n\u001b[0;32m      4\u001b[0m \u001b[0mfpSet\u001b[0m\u001b[1;33m.\u001b[0m\u001b[0mmakeSources\u001b[0m\u001b[1;33m(\u001b[0m\u001b[0mdiaSources\u001b[0m\u001b[1;33m)\u001b[0m\u001b[1;33m\u001b[0m\u001b[0m\n",
        "\u001b[1;32m/renoir_data_00/jpreyes/stacks/v9_2_copy/Linux64/afw/9.2/python/lsst/afw/detection/detectionLib.pyc\u001b[0m in \u001b[0;36mmerge\u001b[1;34m(self, *args)\u001b[0m\n\u001b[0;32m   2782\u001b[0m         \u001b[0mmerge\u001b[0m\u001b[1;33m(\u001b[0m\u001b[0mFootprintSet\u001b[0m \u001b[0mself\u001b[0m\u001b[1;33m,\u001b[0m \u001b[0mFootprintSet\u001b[0m \u001b[0mrhs\u001b[0m\u001b[1;33m)\u001b[0m\u001b[1;33m\u001b[0m\u001b[0m\n\u001b[0;32m   2783\u001b[0m         \"\"\"\n\u001b[1;32m-> 2784\u001b[1;33m         \u001b[1;32mreturn\u001b[0m \u001b[0m_detectionLib\u001b[0m\u001b[1;33m.\u001b[0m\u001b[0mFootprintSet_merge\u001b[0m\u001b[1;33m(\u001b[0m\u001b[0mself\u001b[0m\u001b[1;33m,\u001b[0m \u001b[1;33m*\u001b[0m\u001b[0margs\u001b[0m\u001b[1;33m)\u001b[0m\u001b[1;33m\u001b[0m\u001b[0m\n\u001b[0m\u001b[0;32m   2785\u001b[0m \u001b[1;33m\u001b[0m\u001b[0m\n\u001b[0;32m   2786\u001b[0m     \u001b[1;32mdef\u001b[0m \u001b[0msetMask\u001b[0m\u001b[1;33m(\u001b[0m\u001b[0mself\u001b[0m\u001b[1;33m,\u001b[0m \u001b[1;33m*\u001b[0m\u001b[0margs\u001b[0m\u001b[1;33m)\u001b[0m\u001b[1;33m:\u001b[0m\u001b[1;33m\u001b[0m\u001b[0m\n",
        "\u001b[1;31mValueError\u001b[0m: invalid null reference in method 'FootprintSet_merge', argument 2 of type 'lsst::afw::detection::FootprintSet const &'"
       ]
      }
     ],
     "prompt_number": 4
    },
    {
     "cell_type": "markdown",
     "metadata": {},
     "source": [
      "And then we call the dipoleMeasurementTask, which this time performs its operations without errors. Except that no dipole flags are being created, thus, no relevant information can be extracted. On the server log we can see a Watning indicating that the key is not found, which yields as a result no data being stored on the detectedSources schema"
     ]
    },
    {
     "cell_type": "code",
     "collapsed": false,
     "input": [
      "import  lsst.ip.diffim.dipoleMeasurement as dipoleMeasurer\n",
      "\n",
      "dipTask = dipoleMeasurer.DipoleMeasurementTask\n",
      "minSchema = afwTable.SourceTable.makeMinimalSchema()\n",
      "dipTask = dipTask(minSchema)\n",
      "\n",
      "dipConfig = dipTask.ConfigClass()\n",
      "\n",
      "detectedSources.\n",
      "\n",
      "dipTask.run(subtractedExp, detectedSources)\n"
     ],
     "language": "python",
     "metadata": {},
     "outputs": [],
     "prompt_number": 17
    },
    {
     "cell_type": "markdown",
     "metadata": {},
     "source": [
      "<p><center><image src=\"files/ErrorOnServer.png\" width=80%/></center></p>"
     ]
    },
    {
     "cell_type": "markdown",
     "metadata": {},
     "source": [
      "Just to verify, here is how the schema of detectedSources look after performing the DipoleMeasurementTask. No flag regarding the dipoles is added to the schema"
     ]
    },
    {
     "cell_type": "code",
     "collapsed": false,
     "input": [
      "detectedSources.schema"
     ],
     "language": "python",
     "metadata": {},
     "outputs": [
      {
       "metadata": {},
       "output_type": "pyout",
       "prompt_number": 18,
       "text": [
        "Schema(\n",
        "    (Field['L'](name=\"id\", doc=\"unique ID\"), Key<L>(offset=0, nElements=1)),\n",
        "    (Field['Coord'](name=\"coord\", doc=\"position in ra/dec\", units=\"IRCS; radians\"), Key<Coord>(offset=8, nElements=2)),\n",
        "    (Field['L'](name=\"parent\", doc=\"unique ID of parent source\"), Key<L>(offset=24, nElements=1)),\n",
        "    (Field['PointD'](name=\"centroid.sdss\", doc=\"SDSS-algorithm centroid measurement\", units=\"pixels\"), Key<PointD>(offset=32, nElements=2)),\n",
        "    (Field['CovPointF'](name=\"centroid.sdss.err\", doc=\"covariance matrix for centroid.sdss\", units=\"pixels^2\"), Key<CovPointF>(offset=48, nElements=3)),\n",
        "    (Field['Flag'](name=\"centroid.sdss.flags\", doc=\"set if the centroid.sdss measurement did not fully succeed\"), Key['Flag'](offset=64, bit=0)),\n",
        "    (Field['D'](name=\"flux.sinc\", doc=\"elliptical aperture photometry using sinc interpolation\", units=\"dn\"), Key<D>(offset=72, nElements=1)),\n",
        "    (Field['D'](name=\"flux.sinc.err\", doc=\"uncertainty for flux.sinc\", units=\"dn\"), Key<D>(offset=80, nElements=1)),\n",
        "    (Field['Flag'](name=\"flux.sinc.flags\", doc=\"set if the flux.sinc measurement failed\"), Key['Flag'](offset=64, bit=1)),\n",
        "    (Field['MomentsD'](name=\"shape.sdss\", doc=\"shape measured with SDSS adaptive moment algorithm\", units=\"pixels^2\"), Key<MomentsD>(offset=88, nElements=3)),\n",
        "    (Field['CovMomentsF'](name=\"shape.sdss.err\", doc=\"covariance matrix for shape.sdss\", units=\"pixels^4\"), Key<CovMomentsF>(offset=112, nElements=6)),\n",
        "    (Field['Flag'](name=\"shape.sdss.flags\", doc=\"set if the shape.sdss measurement failed\"), Key['Flag'](offset=64, bit=2)),\n",
        "    (Field['PointD'](name=\"shape.sdss.centroid\", doc=\"centroid measured with SDSS adaptive moment shape algorithm\", units=\"pixels\"), Key<PointD>(offset=136, nElements=2)),\n",
        "    (Field['CovPointF'](name=\"shape.sdss.centroid.err\", doc=\"covariance matrix for shape.sdss.centroid\", units=\"pixels^2\"), Key<CovPointF>(offset=152, nElements=3)),\n",
        "    (Field['Flag'](name=\"shape.sdss.centroid.flags\", doc=\"set if the shape.sdss.centroid measurement did not fully succeed\"), Key['Flag'](offset=64, bit=3)),\n",
        "    (Field['Flag'](name=\"shape.sdss.flags.unweightedbad\", doc=\"even the unweighted moments were bad\"), Key['Flag'](offset=64, bit=4)),\n",
        "    (Field['Flag'](name=\"shape.sdss.flags.unweighted\", doc=\"adaptive moments failed; fall back to unweighted moments\"), Key['Flag'](offset=64, bit=5)),\n",
        "    (Field['Flag'](name=\"shape.sdss.flags.shift\", doc=\"centroid shifted while estimating adaptive moments\"), Key['Flag'](offset=64, bit=6)),\n",
        "    (Field['Flag'](name=\"shape.sdss.flags.maxiter\", doc=\"too many iterations for adaptive moments\"), Key['Flag'](offset=64, bit=7)),\n",
        "    (Field['D'](name=\"flux.gaussian\", doc=\"linear fit to an elliptical Gaussian with shape parameters set by adaptive moments\", units=\"dn\"), Key<D>(offset=168, nElements=1)),\n",
        "    (Field['D'](name=\"flux.gaussian.err\", doc=\"uncertainty for flux.gaussian\", units=\"dn\"), Key<D>(offset=176, nElements=1)),\n",
        "    (Field['Flag'](name=\"flux.gaussian.flags\", doc=\"set if the flux.gaussian measurement failed\"), Key['Flag'](offset=64, bit=8)),\n",
        "    (Field['F'](name=\"flux.gaussian.psffactor\", doc=\"'flux' from applying the algorithm to the PSF model\"), Key<F>(offset=184, nElements=1)),\n",
        "    (Field['Flag'](name=\"flux.gaussian.flags.psffactor\", doc=\"set if the algorithm could not be applied to the PSF model\"), Key['Flag'](offset=64, bit=9)),\n",
        "    (Field['D'](name=\"flux.psf\", doc=\"flux measured by a fit to the PSF model\", units=\"dn\"), Key<D>(offset=192, nElements=1)),\n",
        "    (Field['D'](name=\"flux.psf.err\", doc=\"uncertainty for flux.psf\", units=\"dn\"), Key<D>(offset=200, nElements=1)),\n",
        "    (Field['Flag'](name=\"flux.psf.flags\", doc=\"set if the flux.psf measurement failed\"), Key['Flag'](offset=64, bit=10)),\n",
        "    (Field['F'](name=\"flux.psf.psffactor\", doc=\"'flux' from applying the algorithm to the PSF model\"), Key<F>(offset=208, nElements=1)),\n",
        "    (Field['Flag'](name=\"flux.psf.flags.psffactor\", doc=\"set if the algorithm could not be applied to the PSF model\"), Key['Flag'](offset=64, bit=11)),\n",
        ")\n"
       ]
      }
     ],
     "prompt_number": 18
    },
    {
     "cell_type": "markdown",
     "metadata": {},
     "source": [
      "However, the schema is present on the minSchema created, which is not being used by the detectedSources"
     ]
    },
    {
     "cell_type": "code",
     "collapsed": false,
     "input": [
      "minSchema"
     ],
     "language": "python",
     "metadata": {},
     "outputs": [
      {
       "metadata": {},
       "output_type": "pyout",
       "prompt_number": 16,
       "text": [
        "Schema(\n",
        "    (Field['L'](name=\"id\", doc=\"unique ID\"), Key<L>(offset=0, nElements=1)),\n",
        "    (Field['Coord'](name=\"coord\", doc=\"position in ra/dec\", units=\"IRCS; radians\"), Key<Coord>(offset=8, nElements=2)),\n",
        "    (Field['L'](name=\"parent\", doc=\"unique ID of parent source\"), Key<L>(offset=24, nElements=1)),\n",
        "    (Field['Flag'](name=\"flags.badcentroid\", doc=\"the centroid algorithm used to feed centers to other algorithms failed\"), Key['Flag'](offset=32, bit=0)),\n",
        "    (Field['PointD'](name=\"centroid.sdss\", doc=\"SDSS-algorithm centroid measurement\", units=\"pixels\"), Key<PointD>(offset=40, nElements=2)),\n",
        "    (Field['CovPointF'](name=\"centroid.sdss.err\", doc=\"covariance matrix for centroid.sdss\", units=\"pixels^2\"), Key<CovPointF>(offset=56, nElements=3)),\n",
        "    (Field['Flag'](name=\"centroid.sdss.flags\", doc=\"set if the centroid.sdss measurement did not fully succeed\"), Key['Flag'](offset=32, bit=1)),\n",
        "    (Field['PointD'](name=\"centroid.dipole.naive.pos\", doc=\"unweighted 3x3 first moment centroid\", units=\"pixels\"), Key<PointD>(offset=72, nElements=2)),\n",
        "    (Field['CovPointF'](name=\"centroid.dipole.naive.pos.err\", doc=\"covariance matrix for centroid.dipole.naive.pos\", units=\"pixels^2\"), Key<CovPointF>(offset=88, nElements=3)),\n",
        "    (Field['Flag'](name=\"centroid.dipole.naive.pos.flags\", doc=\"set if the centroid.dipole.naive.pos measurement did not fully succeed\"), Key['Flag'](offset=32, bit=2)),\n",
        "    (Field['PointD'](name=\"centroid.dipole.naive.neg\", doc=\"unweighted 3x3 first moment centroid\", units=\"pixels\"), Key<PointD>(offset=104, nElements=2)),\n",
        "    (Field['CovPointF'](name=\"centroid.dipole.naive.neg.err\", doc=\"covariance matrix for centroid.dipole.naive.neg\", units=\"pixels^2\"), Key<CovPointF>(offset=120, nElements=3)),\n",
        "    (Field['Flag'](name=\"centroid.dipole.naive.neg.flags\", doc=\"set if the centroid.dipole.naive.neg measurement did not fully succeed\"), Key['Flag'](offset=32, bit=3)),\n",
        "    (Field['PointD'](name=\"centroid.gaussian\", doc=\"centroid measured with weighted Gaussian\", units=\"pixels\"), Key<PointD>(offset=136, nElements=2)),\n",
        "    (Field['CovPointF'](name=\"centroid.gaussian.err\", doc=\"covariance matrix for centroid.gaussian\", units=\"pixels^2\"), Key<CovPointF>(offset=152, nElements=3)),\n",
        "    (Field['Flag'](name=\"centroid.gaussian.flags\", doc=\"set if the centroid.gaussian measurement did not fully succeed\"), Key['Flag'](offset=32, bit=4)),\n",
        "    (Field['PointD'](name=\"centroid.naive\", doc=\"unweighted 3x3 first moment centroid\", units=\"pixels\"), Key<PointD>(offset=168, nElements=2)),\n",
        "    (Field['CovPointF'](name=\"centroid.naive.err\", doc=\"covariance matrix for centroid.naive\", units=\"pixels^2\"), Key<CovPointF>(offset=184, nElements=3)),\n",
        "    (Field['Flag'](name=\"centroid.naive.flags\", doc=\"set if the centroid.naive measurement did not fully succeed\"), Key['Flag'](offset=32, bit=5)),\n",
        "    (Field['Flag'](name=\"flags.pixel.edge\", doc=\"source is in region labeled EDGE\"), Key['Flag'](offset=32, bit=6)),\n",
        "    (Field['Flag'](name=\"flags.pixel.interpolated.any\", doc=\"source's footprint includes interpolated pixels\"), Key['Flag'](offset=32, bit=7)),\n",
        "    (Field['Flag'](name=\"flags.pixel.interpolated.center\", doc=\"source's center is close to interpolated pixels\"), Key['Flag'](offset=32, bit=8)),\n",
        "    (Field['Flag'](name=\"flags.pixel.saturated.any\", doc=\"source's footprint includes saturated pixels\"), Key['Flag'](offset=32, bit=9)),\n",
        "    (Field['Flag'](name=\"flags.pixel.saturated.center\", doc=\"source's center is close to saturated pixels\"), Key['Flag'](offset=32, bit=10)),\n",
        "    (Field['Flag'](name=\"flags.pixel.cr.any\", doc=\"source's footprint includes suspected CR pixels\"), Key['Flag'](offset=32, bit=11)),\n",
        "    (Field['Flag'](name=\"flags.pixel.cr.center\", doc=\"source's center is close to suspected CR pixels\"), Key['Flag'](offset=32, bit=12)),\n",
        "    (Field['Flag'](name=\"flags.pixel.bad\", doc=\"source is in region labeled BAD\"), Key['Flag'](offset=32, bit=13)),\n",
        "    (Field['MomentsD'](name=\"shape.sdss\", doc=\"shape measured with SDSS adaptive moment algorithm\", units=\"pixels^2\"), Key<MomentsD>(offset=200, nElements=3)),\n",
        "    (Field['CovMomentsF'](name=\"shape.sdss.err\", doc=\"covariance matrix for shape.sdss\", units=\"pixels^4\"), Key<CovMomentsF>(offset=224, nElements=6)),\n",
        "    (Field['Flag'](name=\"shape.sdss.flags\", doc=\"set if the shape.sdss measurement failed\"), Key['Flag'](offset=32, bit=14)),\n",
        "    (Field['PointD'](name=\"shape.sdss.centroid\", doc=\"centroid measured with SDSS adaptive moment shape algorithm\", units=\"pixels\"), Key<PointD>(offset=248, nElements=2)),\n",
        "    (Field['CovPointF'](name=\"shape.sdss.centroid.err\", doc=\"covariance matrix for shape.sdss.centroid\", units=\"pixels^2\"), Key<CovPointF>(offset=264, nElements=3)),\n",
        "    (Field['Flag'](name=\"shape.sdss.centroid.flags\", doc=\"set if the shape.sdss.centroid measurement did not fully succeed\"), Key['Flag'](offset=32, bit=15)),\n",
        "    (Field['Flag'](name=\"shape.sdss.flags.unweightedbad\", doc=\"even the unweighted moments were bad\"), Key['Flag'](offset=32, bit=16)),\n",
        "    (Field['Flag'](name=\"shape.sdss.flags.unweighted\", doc=\"adaptive moments failed; fall back to unweighted moments\"), Key['Flag'](offset=32, bit=17)),\n",
        "    (Field['Flag'](name=\"shape.sdss.flags.shift\", doc=\"centroid shifted while estimating adaptive moments\"), Key['Flag'](offset=32, bit=18)),\n",
        "    (Field['Flag'](name=\"shape.sdss.flags.maxiter\", doc=\"too many iterations for adaptive moments\"), Key['Flag'](offset=32, bit=19)),\n",
        "    (Field['D'](name=\"flux.dipole.naive.pos\", doc=\"raw flux counts\", units=\"dn\"), Key<D>(offset=280, nElements=1)),\n",
        "    (Field['D'](name=\"flux.dipole.naive.pos.err\", doc=\"uncertainty for flux.dipole.naive.pos\", units=\"dn\"), Key<D>(offset=288, nElements=1)),\n",
        "    (Field['Flag'](name=\"flux.dipole.naive.pos.flags\", doc=\"set if the flux.dipole.naive.pos measurement failed\"), Key['Flag'](offset=32, bit=20)),\n",
        "    (Field['D'](name=\"flux.dipole.naive.neg\", doc=\"raw flux counts\", units=\"dn\"), Key<D>(offset=296, nElements=1)),\n",
        "    (Field['D'](name=\"flux.dipole.naive.neg.err\", doc=\"uncertainty for flux.dipole.naive.neg\", units=\"dn\"), Key<D>(offset=304, nElements=1)),\n",
        "    (Field['Flag'](name=\"flux.dipole.naive.neg.flags\", doc=\"set if the flux.dipole.naive.neg measurement failed\"), Key['Flag'](offset=32, bit=21)),\n",
        "    (Field['I'](name=\"flux.dipole.naive.npos\", doc=\"number of positive pixels\", units=\"dn\"), Key<I>(offset=312, nElements=1)),\n",
        "    (Field['I'](name=\"flux.dipole.naive.nneg\", doc=\"number of negative pixels\", units=\"dn\"), Key<I>(offset=316, nElements=1)),\n",
        "    (Field['D'](name=\"flux.dipole.psf.pos\", doc=\"jointly fitted psf flux counts\", units=\"dn\"), Key<D>(offset=320, nElements=1)),\n",
        "    (Field['D'](name=\"flux.dipole.psf.pos.err\", doc=\"uncertainty for flux.dipole.psf.pos\", units=\"dn\"), Key<D>(offset=328, nElements=1)),\n",
        "    (Field['Flag'](name=\"flux.dipole.psf.pos.flags\", doc=\"set if the flux.dipole.psf.pos measurement failed\"), Key['Flag'](offset=32, bit=22)),\n",
        "    (Field['D'](name=\"flux.dipole.psf.neg\", doc=\"jointly fitted psf flux counts\", units=\"dn\"), Key<D>(offset=336, nElements=1)),\n",
        "    (Field['D'](name=\"flux.dipole.psf.neg.err\", doc=\"uncertainty for flux.dipole.psf.neg\", units=\"dn\"), Key<D>(offset=344, nElements=1)),\n",
        "    (Field['Flag'](name=\"flux.dipole.psf.neg.flags\", doc=\"set if the flux.dipole.psf.neg measurement failed\"), Key['Flag'](offset=32, bit=23)),\n",
        "    (Field['F'](name=\"flux.dipole.psf.chi2dof\", doc=\"chi2 per degree of freedom of fit\"), Key<F>(offset=352, nElements=1)),\n",
        "    (Field['PointD'](name=\"flux.dipole.psf.centroid\", doc=\"average of the postive and negative lobe positions\", units=\"pixels\"), Key<PointD>(offset=360, nElements=2)),\n",
        "    (Field['CovPointF'](name=\"flux.dipole.psf.centroid.err\", doc=\"covariance matrix for flux.dipole.psf.centroid\", units=\"pixels^2\"), Key<CovPointF>(offset=376, nElements=3)),\n",
        "    (Field['Flag'](name=\"flux.dipole.psf.centroid.flags\", doc=\"set if the flux.dipole.psf.centroid measurement did not fully succeed\"), Key['Flag'](offset=32, bit=24)),\n",
        "    (Field['PointD'](name=\"flux.dipole.psf.neg.centroid\", doc=\"psf fitted center of negative lobe\", units=\"pixels\"), Key<PointD>(offset=392, nElements=2)),\n",
        "    (Field['CovPointF'](name=\"flux.dipole.psf.neg.centroid.err\", doc=\"covariance matrix for flux.dipole.psf.neg.centroid\", units=\"pixels^2\"), Key<CovPointF>(offset=408, nElements=3)),\n",
        "    (Field['Flag'](name=\"flux.dipole.psf.neg.centroid.flags\", doc=\"set if the flux.dipole.psf.neg.centroid measurement did not fully succeed\"), Key['Flag'](offset=32, bit=25)),\n",
        "    (Field['PointD'](name=\"flux.dipole.psf.pos.centroid\", doc=\"psf fitted center of positive lobe\", units=\"pixels\"), Key<PointD>(offset=424, nElements=2)),\n",
        "    (Field['CovPointF'](name=\"flux.dipole.psf.pos.centroid.err\", doc=\"covariance matrix for flux.dipole.psf.pos.centroid\", units=\"pixels^2\"), Key<CovPointF>(offset=440, nElements=3)),\n",
        "    (Field['Flag'](name=\"flux.dipole.psf.pos.centroid.flags\", doc=\"set if the flux.dipole.psf.pos.centroid measurement did not fully succeed\"), Key['Flag'](offset=32, bit=26)),\n",
        "    (Field['Flag'](name=\"flux.dipole.psf.flags.maxpix\", doc=\"set if too large a footprint was sent to the algorithm\"), Key['Flag'](offset=32, bit=27)),\n",
        "    (Field['D'](name=\"flux.gaussian\", doc=\"linear fit to an elliptical Gaussian with shape parameters set by adaptive moments\", units=\"dn\"), Key<D>(offset=456, nElements=1)),\n",
        "    (Field['D'](name=\"flux.gaussian.err\", doc=\"uncertainty for flux.gaussian\", units=\"dn\"), Key<D>(offset=464, nElements=1)),\n",
        "    (Field['Flag'](name=\"flux.gaussian.flags\", doc=\"set if the flux.gaussian measurement failed\"), Key['Flag'](offset=32, bit=28)),\n",
        "    (Field['F'](name=\"flux.gaussian.psffactor\", doc=\"'flux' from applying the algorithm to the PSF model\"), Key<F>(offset=472, nElements=1)),\n",
        "    (Field['Flag'](name=\"flux.gaussian.flags.psffactor\", doc=\"set if the algorithm could not be applied to the PSF model\"), Key['Flag'](offset=32, bit=29)),\n",
        "    (Field['D'](name=\"flux.naive\", doc=\"simple sum over pixels in a circular aperture\", units=\"dn\"), Key<D>(offset=480, nElements=1)),\n",
        "    (Field['D'](name=\"flux.naive.err\", doc=\"uncertainty for flux.naive\", units=\"dn\"), Key<D>(offset=488, nElements=1)),\n",
        "    (Field['Flag'](name=\"flux.naive.flags\", doc=\"set if the flux.naive measurement failed\"), Key['Flag'](offset=32, bit=30)),\n",
        "    (Field['D'](name=\"flux.psf\", doc=\"flux measured by a fit to the PSF model\", units=\"dn\"), Key<D>(offset=496, nElements=1)),\n",
        "    (Field['D'](name=\"flux.psf.err\", doc=\"uncertainty for flux.psf\", units=\"dn\"), Key<D>(offset=504, nElements=1)),\n",
        "    (Field['Flag'](name=\"flux.psf.flags\", doc=\"set if the flux.psf measurement failed\"), Key['Flag'](offset=32, bit=31)),\n",
        "    (Field['F'](name=\"flux.psf.psffactor\", doc=\"'flux' from applying the algorithm to the PSF model\"), Key<F>(offset=512, nElements=1)),\n",
        "    (Field['Flag'](name=\"flux.psf.flags.psffactor\", doc=\"set if the algorithm could not be applied to the PSF model\"), Key['Flag'](offset=32, bit=32)),\n",
        "    (Field['D'](name=\"flux.sinc\", doc=\"elliptical aperture photometry using sinc interpolation\", units=\"dn\"), Key<D>(offset=520, nElements=1)),\n",
        "    (Field['D'](name=\"flux.sinc.err\", doc=\"uncertainty for flux.sinc\", units=\"dn\"), Key<D>(offset=528, nElements=1)),\n",
        "    (Field['Flag'](name=\"flux.sinc.flags\", doc=\"set if the flux.sinc measurement failed\"), Key['Flag'](offset=32, bit=33)),\n",
        "    (Field['F'](name=\"correctfluxes.apcorr\", doc=\"correction applied to model fluxes to match to 7.000000-pixel aperture\"), Key<F>(offset=536, nElements=1)),\n",
        "    (Field['Flag'](name=\"correctfluxes.apcorr.flags\", doc=\"flag set if aperture correction failed\"), Key['Flag'](offset=32, bit=34)),\n",
        "    (Field['D'](name=\"classification.extendedness\", doc=\"probability of being extended\"), Key<D>(offset=544, nElements=1)),\n",
        ")\n"
       ]
      }
     ],
     "prompt_number": 16
    },
    {
     "cell_type": "code",
     "collapsed": false,
     "input": [],
     "language": "python",
     "metadata": {},
     "outputs": []
    }
   ],
   "metadata": {}
  }
 ]
}