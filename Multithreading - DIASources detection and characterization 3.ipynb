{
 "cells": [
  {
   "cell_type": "code",
   "execution_count": 396,
   "metadata": {
    "collapsed": true
   },
   "outputs": [],
   "source": [
    "def classify_sources(visit, filter, sigma, ccd, datadir):\n",
    "        \n",
    "        import DiaSourceTools as DSTools\n",
    "        import DCTools\n",
    "        import lsst.afw.geom as afwGeom\n",
    "        import lsst.afw.table as afwTable\n",
    "        import lsst.daf.base as dafBase\n",
    "        \n",
    "    \n",
    "        \n",
    "        \n",
    "        from lsst.ip.diffim import ImagePsfMatchTask, DipoleMeasurementTask\n",
    "        \n",
    "        import lsst.daf.persistence as dafPersist\n",
    "        \n",
    "        butler = dafPersist.Butler(datadir+\"/output\")\n",
    "\n",
    "        algMetadata = dafBase.PropertyList()\n",
    "        schema = afwTable.SourceTable.makeMinimalSchema()\n",
    "        dipoleMeasurement = DipoleMeasurementTask\n",
    "\n",
    "        config = dipoleMeasurement.ConfigClass()\n",
    "        dipoleMeasurement = dipoleMeasurement(schema, algMetadata=algMetadata)\n",
    "        \n",
    "        source_catalog = None\n",
    "        classification = []\n",
    "\n",
    "        if butler.datasetExists(\"deepDiff_differenceExp\", {'visit': visit , 'filter':filter , 'ccd':ccd}):\n",
    "\n",
    "                diffExp = butler.get(\"deepDiff_differenceExp\", {'visit': visit , 'filter':filter , 'ccd':ccd})\n",
    "                try:\n",
    "                            results = DSTools.detect_diasources(diffExp, doSmooth=False, threshold=sigma)\n",
    "                            diaSources =  DCTools.merge_sources(results, schema, algMetadata)\n",
    "                            dipoleMeasurement.run(diaSources, diffExp)\n",
    "                            print diaSources\n",
    "                            source_catalog = DCTools.remove_nan_sources(diaSources)                \n",
    "                            \n",
    "                except Exception, e:\n",
    "                            print \"exception\"\n",
    "                            print e\n",
    "                        \n",
    "        if source_catalog is None:\n",
    "            return [str(visit)+\"-\"+str(ccd)]\n",
    "       \n",
    "        img_label = str(visit)+\"-\"+str(ccd)\n",
    "        for source in source_catalog:\n",
    "            \n",
    "            bbox = diffExp.getBBox()\n",
    "            wcs = diffExp.getWcs()\n",
    "            \n",
    "            center = afwGeom.Point2I(wcs.skyToPixel(source.getRa(), source.getDec()))\n",
    "            \n",
    "                  \n",
    "            stamp = DSTools.get_stamp(source, diffExp, offset=10)\n",
    "            \n",
    "        \n",
    "            if stamp is not None:\n",
    "                stamp_clone = stamp.clone()\n",
    "                results = DSTools.detect_diasources(stamp_clone, doSmooth=False,threshold=sigma)\n",
    "\n",
    "\n",
    "                if len(results.fpSets.positive.getFootprints()) == 0 and len(results.fpSets.negative.getFootprints()) > 0:  \n",
    "                    label = 'Negative'\n",
    "                    classification.append((label, source.get(\"id\"), img_label))\n",
    "                elif len(results.fpSets.positive.getFootprints()) > 0 and len(results.fpSets.negative.getFootprints()) == 0:\n",
    "                    label = DCTools.classify_point_source(stamp_clone, center)\n",
    "                    classification.append((label, source.get(\"id\"), img_label))\n",
    "                else:\n",
    "                    try:\n",
    "                        \n",
    "                        stamp_clone = stamp.clone()\n",
    "                        results = DSTools.detect_diasources(stamp_clone, doSmooth=False,threshold=6)\n",
    "                        photo, geom = DCTools.get_dipole_lobes_metrics(stamp_clone)\n",
    "\n",
    "                        p_dipole, g_dipole = DCTools.photo_dipole(photo), DCTools.geom_dipole(geom)\n",
    "                        \n",
    "                        if p_dipole and g_dipole:\n",
    "                            label = \"Dipole type I\"\n",
    "                        elif p_dipole and not g_dipole:\n",
    "                            label = \"Dipole type II\"\n",
    "                        elif not p_dipole and g_dipole:\n",
    "                            label = \"Fringe\"\n",
    "                        else:\n",
    "                            label = \"Artifact\"\n",
    "                        classification.append((label, source.get(\"id\"), img_label))\n",
    "                        \n",
    "                    except Exception, e:\n",
    "\n",
    "                            print e\n",
    "                            label = \"Artifact\"\n",
    "                            classification.append((label, source.get(\"id\"), img_label))\n",
    "                            \n",
    "                            \n",
    "            \n",
    "                n = 0\n",
    "                if label == \"Dipole type I\":\n",
    "                    n= 0\n",
    "                elif label == \"Dipole type II\":\n",
    "                    n=1\n",
    "                elif label == \"Fringe\":\n",
    "                    n = 3\n",
    "                elif label == \"Artifact\":\n",
    "                    n = 4\n",
    "                elif label == \"Negative\":\n",
    "                    n = 5\n",
    "                elif label == \"Positive\":\n",
    "                    n = 6\n",
    "                elif label == \"Point positive\":\n",
    "                    n = 7\n",
    "\n",
    "                source[\"classification_dipole\"] = n\n",
    "            \n",
    "        source_catalog.writeFits(\"catalogs/\"+img_label+\".fits\")\n",
    "        return classification"
   ]
  },
  {
   "cell_type": "code",
   "execution_count": 30,
   "metadata": {
    "collapsed": false
   },
   "outputs": [],
   "source": [
    "\n",
    "\n",
    "\n",
    "DATADIR=\"/renoir_data_02/jpreyes/lsst_data/CFHTLS_master/\"\n"
   ]
  },
  {
   "cell_type": "code",
   "execution_count": 395,
   "metadata": {
    "collapsed": false
   },
   "outputs": [
    {
     "name": "stdout",
     "output_type": "stream",
     "text": [
      "<lsst.afw.table.tableLib.SourceCatalog; proxy of <Swig Object of type 'lsst::afw::table::SortedCatalogT< lsst::afw::table::SourceRecord > *' at 0x7fde5f43a060> >\n"
     ]
    },
    {
     "data": {
      "text/plain": [
       "[('Dipole type I', 1L, '849687-14'),\n",
       " ('Dipole type I', 2L, '849687-14'),\n",
       " ('Fringe', 3L, '849687-14'),\n",
       " ('Dipole type II', 4L, '849687-14'),\n",
       " ('Artifact', 5L, '849687-14'),\n",
       " ('Fringe', 6L, '849687-14'),\n",
       " ('Positive', 7L, '849687-14'),\n",
       " ('Fringe', 8L, '849687-14'),\n",
       " ('Dipole type II', 9L, '849687-14'),\n",
       " ('Fringe', 10L, '849687-14'),\n",
       " ('Fringe', 11L, '849687-14'),\n",
       " ('Dipole type II', 12L, '849687-14'),\n",
       " ('Dipole type II', 13L, '849687-14'),\n",
       " ('Dipole type II', 14L, '849687-14'),\n",
       " ('Dipole type II', 15L, '849687-14'),\n",
       " ('Fringe', 16L, '849687-14'),\n",
       " ('Fringe', 17L, '849687-14'),\n",
       " ('Fringe', 18L, '849687-14'),\n",
       " ('Dipole type I', 19L, '849687-14'),\n",
       " ('Fringe', 20L, '849687-14'),\n",
       " ('Positive', 21L, '849687-14'),\n",
       " ('Fringe', 22L, '849687-14'),\n",
       " ('Fringe', 23L, '849687-14'),\n",
       " ('Dipole type II', 24L, '849687-14'),\n",
       " ('Fringe', 25L, '849687-14'),\n",
       " ('Point positive', 26L, '849687-14'),\n",
       " ('Fringe', 27L, '849687-14'),\n",
       " ('Dipole type II', 28L, '849687-14'),\n",
       " ('Fringe', 29L, '849687-14'),\n",
       " ('Fringe', 30L, '849687-14'),\n",
       " ('Fringe', 31L, '849687-14'),\n",
       " ('Dipole type II', 32L, '849687-14'),\n",
       " ('Positive', 33L, '849687-14'),\n",
       " ('Dipole type I', 34L, '849687-14'),\n",
       " ('Fringe', 35L, '849687-14'),\n",
       " ('Fringe', 36L, '849687-14'),\n",
       " ('Positive', 37L, '849687-14'),\n",
       " ('Fringe', 38L, '849687-14'),\n",
       " ('Dipole type II', 39L, '849687-14'),\n",
       " ('Fringe', 40L, '849687-14'),\n",
       " ('Point positive', 41L, '849687-14'),\n",
       " ('Point positive', 42L, '849687-14'),\n",
       " ('Fringe', 43L, '849687-14'),\n",
       " ('Dipole type II', 44L, '849687-14'),\n",
       " ('Dipole type II', 45L, '849687-14'),\n",
       " ('Dipole type II', 46L, '849687-14'),\n",
       " ('Fringe', 47L, '849687-14'),\n",
       " ('Dipole type I', 48L, '849687-14'),\n",
       " ('Fringe', 49L, '849687-14'),\n",
       " ('Dipole type I', 50L, '849687-14'),\n",
       " ('Point positive', 51L, '849687-14'),\n",
       " ('Dipole type I', 52L, '849687-14'),\n",
       " ('Positive', 53L, '849687-14'),\n",
       " ('Dipole type II', 54L, '849687-14'),\n",
       " ('Dipole type I', 55L, '849687-14'),\n",
       " ('Dipole type II', 56L, '849687-14'),\n",
       " ('Dipole type II', 57L, '849687-14'),\n",
       " ('Fringe', 58L, '849687-14'),\n",
       " ('Dipole type I', 59L, '849687-14'),\n",
       " ('Dipole type I', 60L, '849687-14'),\n",
       " ('Fringe', 61L, '849687-14'),\n",
       " ('Dipole type I', 62L, '849687-14'),\n",
       " ('Fringe', 63L, '849687-14'),\n",
       " ('Fringe', 64L, '849687-14'),\n",
       " ('Fringe', 65L, '849687-14'),\n",
       " ('Dipole type I', 66L, '849687-14'),\n",
       " ('Dipole type I', 67L, '849687-14'),\n",
       " ('Dipole type II', 68L, '849687-14'),\n",
       " ('Dipole type I', 69L, '849687-14'),\n",
       " ('Fringe', 70L, '849687-14'),\n",
       " ('Point positive', 71L, '849687-14'),\n",
       " ('Positive', 72L, '849687-14'),\n",
       " ('Dipole type I', 73L, '849687-14'),\n",
       " ('Fringe', 74L, '849687-14'),\n",
       " ('Positive', 75L, '849687-14'),\n",
       " ('Dipole type I', 76L, '849687-14'),\n",
       " ('Dipole type II', 77L, '849687-14'),\n",
       " ('Point positive', 78L, '849687-14'),\n",
       " ('Dipole type I', 79L, '849687-14'),\n",
       " ('Fringe', 80L, '849687-14'),\n",
       " ('Dipole type I', 81L, '849687-14'),\n",
       " ('Point positive', 82L, '849687-14'),\n",
       " ('Dipole type I', 83L, '849687-14'),\n",
       " ('Point positive', 84L, '849687-14'),\n",
       " ('Dipole type I', 85L, '849687-14'),\n",
       " ('Dipole type II', 86L, '849687-14'),\n",
       " ('Positive', 87L, '849687-14'),\n",
       " ('Artifact', 88L, '849687-14'),\n",
       " ('Dipole type I', 89L, '849687-14'),\n",
       " ('Fringe', 90L, '849687-14'),\n",
       " ('Dipole type I', 91L, '849687-14'),\n",
       " ('Dipole type I', 92L, '849687-14'),\n",
       " ('Point positive', 93L, '849687-14'),\n",
       " ('Dipole type I', 94L, '849687-14'),\n",
       " ('Dipole type I', 95L, '849687-14'),\n",
       " ('Dipole type I', 96L, '849687-14'),\n",
       " ('Dipole type I', 97L, '849687-14'),\n",
       " ('Artifact', 98L, '849687-14'),\n",
       " ('Fringe', 99L, '849687-14'),\n",
       " ('Fringe', 100L, '849687-14'),\n",
       " ('Dipole type I', 101L, '849687-14'),\n",
       " ('Dipole type II', 102L, '849687-14'),\n",
       " ('Dipole type I', 103L, '849687-14'),\n",
       " ('Artifact', 104L, '849687-14'),\n",
       " ('Point positive', 105L, '849687-14'),\n",
       " ('Artifact', 106L, '849687-14'),\n",
       " ('Dipole type I', 107L, '849687-14'),\n",
       " ('Positive', 108L, '849687-14'),\n",
       " ('Dipole type I', 109L, '849687-14'),\n",
       " ('Point positive', 110L, '849687-14'),\n",
       " ('Dipole type II', 111L, '849687-14'),\n",
       " ('Dipole type II', 112L, '849687-14'),\n",
       " ('Point positive', 113L, '849687-14'),\n",
       " ('Dipole type II', 114L, '849687-14'),\n",
       " ('Dipole type I', 115L, '849687-14'),\n",
       " ('Dipole type I', 116L, '849687-14'),\n",
       " ('Dipole type II', 117L, '849687-14'),\n",
       " ('Dipole type I', 118L, '849687-14'),\n",
       " ('Dipole type II', 119L, '849687-14'),\n",
       " ('Dipole type I', 120L, '849687-14'),\n",
       " ('Dipole type I', 121L, '849687-14'),\n",
       " ('Dipole type I', 122L, '849687-14'),\n",
       " ('Dipole type II', 123L, '849687-14'),\n",
       " ('Dipole type II', 124L, '849687-14'),\n",
       " ('Dipole type II', 125L, '849687-14'),\n",
       " ('Dipole type I', 126L, '849687-14'),\n",
       " ('Dipole type II', 127L, '849687-14'),\n",
       " ('Dipole type I', 128L, '849687-14'),\n",
       " ('Positive', 129L, '849687-14'),\n",
       " ('Dipole type I', 130L, '849687-14'),\n",
       " ('Point positive', 131L, '849687-14'),\n",
       " ('Dipole type II', 132L, '849687-14')]"
      ]
     },
     "execution_count": 395,
     "metadata": {},
     "output_type": "execute_result"
    }
   ],
   "source": [
    "classify_sources(849687, 'r', 6, 14, DATADIR)"
   ]
  },
  {
   "cell_type": "code",
   "execution_count": 369,
   "metadata": {
    "collapsed": false
   },
   "outputs": [
    {
     "name": "stdout",
     "output_type": "stream",
     "text": [
      "[3, 5, 7, 9]\n"
     ]
    }
   ],
   "source": [
    "import ipyparallel as ipyp\n",
    "\n",
    "c = ipyp.Client()\n",
    "v = c[:]\n",
    "\n",
    "\n",
    "def f(a,b):\n",
    "    def c(a, b):\n",
    "        return a+b\n",
    "\n",
    "    return c(a,b)\n",
    "#res = v.map(lambda x,y: x+y, (1, 2, 3, 4), (2, 3, 4, 5))\n",
    "res = v.map(f, [1, 2, 3, 4], [2, 3, 4, 5])\n",
    "\n",
    "print res.get()\n",
    "\n"
   ]
  },
  {
   "cell_type": "code",
   "execution_count": 288,
   "metadata": {
    "collapsed": true
   },
   "outputs": [],
   "source": [
    "vs = [850177, 850178, 850179, 850180, 850181, 850586, 850587, 850588, 850589, 850590]\n"
   ]
  },
  {
   "cell_type": "code",
   "execution_count": 301,
   "metadata": {
    "collapsed": false
   },
   "outputs": [
    {
     "name": "stdout",
     "output_type": "stream",
     "text": [
      "[836493 836494 836495 836496 836497 836498 837002 837003 837004 837005\n",
      " 837006 837007 837008 838853 838854 838855 838857 838864 838865 838866\n",
      " 838867 838868 839308 839309 839310 839311 839312 844210 844211 844212\n",
      " 844213 844214 844230 844489 844490 844491 844492 844493 844494 844495\n",
      " 844496 844497 844498 844514 844515 844516 844517 844518 844845 844846\n",
      " 844847 844848 844849 845345 845346 845347 845348 845349 849373 849374\n",
      " 849375 849376 849377 849685 849686 849687 849688 849689 850177 850178\n",
      " 850179 850180 850181 850586 850587 850588 850589 850590 851057 851058\n",
      " 851059 851060 851061 852890 852891 852892 852893 852894 853232 853233\n",
      " 853234 853235 853236 853539 853540 853541 853542 853543 853727 853728\n",
      " 853729 853730 853731 858537 858538 858539 858540 858541 859608 859609\n",
      " 859610 859611 859612 860146 860147 860148 860149 860150]\n"
     ]
    }
   ],
   "source": [
    "visits = butler.queryMetadata(\"deepDiff_differenceExp\", format=['visit'],dataId={'filter':'r'})\n",
    "visits = np.array(visits)\n",
    "mask = (visits >= 836493) & (visits <= 860150)\n",
    "visits =  visits[mask]\n",
    "print visits"
   ]
  },
  {
   "cell_type": "code",
   "execution_count": 397,
   "metadata": {
    "collapsed": false
   },
   "outputs": [
    {
     "name": "stdout",
     "output_type": "stream",
     "text": [
      "True\n",
      "4248 4248 4248 4248 4248\n"
     ]
    }
   ],
   "source": [
    "\n",
    "n = 36\n",
    "m = len(visits)\n",
    "vs = []\n",
    "for v in visits:\n",
    "    vs += [v]*n\n",
    "    \n",
    "filters = ['r']*n*m\n",
    "sigmas = [6]*n*m\n",
    "ccds = range(0,n)*m\n",
    "dirs = [DATADIR]*n*m\n",
    "\n",
    "print len(vs) == len(filters) == len(sigmas) == len(ccds) == len(dirs)\n",
    "print len(vs), len(filters), len(sigmas), len(ccds), len(dirs)"
   ]
  },
  {
   "cell_type": "code",
   "execution_count": 398,
   "metadata": {
    "collapsed": false
   },
   "outputs": [
    {
     "name": "stdout",
     "output_type": "stream",
     "text": [
      "Total time: 0.113397121429\n"
     ]
    }
   ],
   "source": [
    "import time\n",
    "\n",
    "c = ipyp.Client()\n",
    "v = c[:]\n",
    "\n",
    "start = time.time()\n",
    "res = v.map(classify_sources, vs, filters, sigmas, ccds, dirs)\n",
    "#res = v.map(classify_sources, [849687], ['r'], [6], [14], [DATADIR])\n",
    "end = time.time()\n",
    "print \"Total time: \" + str(end-start)\n"
   ]
  },
  {
   "cell_type": "code",
   "execution_count": 399,
   "metadata": {
    "collapsed": false
   },
   "outputs": [
    {
     "name": "stdout",
     "output_type": "stream",
     "text": [
      "<AsyncMapResult: classify_sources:finished>\n"
     ]
    }
   ],
   "source": [
    "print res"
   ]
  },
  {
   "cell_type": "code",
   "execution_count": 400,
   "metadata": {
    "collapsed": false
   },
   "outputs": [
    {
     "name": "stdout",
     "output_type": "stream",
     "text": [
      "12 ['836493-12']\n",
      "50 ['836494-14']\n",
      "243 ['837002-27']\n",
      "251 ['837002-35']\n",
      "252 ['837003-0']\n",
      "253 ['837003-1']\n",
      "254 ['837003-2']\n",
      "255 ['837003-3']\n",
      "256 ['837003-4']\n",
      "257 ['837003-5']\n",
      "258 ['837003-6']\n",
      "259 ['837003-7']\n",
      "260 ['837003-8']\n",
      "262 ['837003-10']\n",
      "263 ['837003-11']\n",
      "264 ['837003-12']\n",
      "265 ['837003-13']\n",
      "268 ['837003-16']\n",
      "269 ['837003-17']\n",
      "270 ['837003-18']\n",
      "271 ['837003-19']\n",
      "272 ['837003-20']\n",
      "273 ['837003-21']\n",
      "274 ['837003-22']\n",
      "275 ['837003-23']\n",
      "276 ['837003-24']\n",
      "278 ['837003-26']\n",
      "279 ['837003-27']\n",
      "280 ['837003-28']\n",
      "281 ['837003-29']\n",
      "282 ['837003-30']\n",
      "283 ['837003-31']\n",
      "284 ['837003-32']\n",
      "285 ['837003-33']\n",
      "286 ['837003-34']\n",
      "287 ['837003-35']\n",
      "324 ['837005-0']\n",
      "325 ['837005-1']\n",
      "326 ['837005-2']\n",
      "329 ['837005-5']\n",
      "331 ['837005-7']\n",
      "333 ['837005-9']\n",
      "335 ['837005-11']\n",
      "341 ['837005-17']\n",
      "346 ['837005-22']\n",
      "347 ['837005-23']\n",
      "353 ['837005-29']\n",
      "356 ['837005-32']\n",
      "360 ['837006-0']\n",
      "361 ['837006-1']\n",
      "362 ['837006-2']\n",
      "363 ['837006-3']\n",
      "364 ['837006-4']\n",
      "365 ['837006-5']\n",
      "366 ['837006-6']\n",
      "367 ['837006-7']\n",
      "368 ['837006-8']\n",
      "369 ['837006-9']\n",
      "370 ['837006-10']\n",
      "371 ['837006-11']\n",
      "372 ['837006-12']\n",
      "373 ['837006-13']\n",
      "374 ['837006-14']\n",
      "375 ['837006-15']\n",
      "376 ['837006-16']\n",
      "377 ['837006-17']\n",
      "396 ['837007-0']\n",
      "397 ['837007-1']\n",
      "398 ['837007-2']\n",
      "399 ['837007-3']\n",
      "400 ['837007-4']\n",
      "401 ['837007-5']\n",
      "402 ['837007-6']\n",
      "403 ['837007-7']\n",
      "404 ['837007-8']\n",
      "405 ['837007-9']\n",
      "406 ['837007-10']\n",
      "407 ['837007-11']\n",
      "408 ['837007-12']\n",
      "409 ['837007-13']\n",
      "410 ['837007-14']\n",
      "411 ['837007-15']\n",
      "412 ['837007-16']\n",
      "413 ['837007-17']\n",
      "432 ['837008-0']\n",
      "433 ['837008-1']\n",
      "434 ['837008-2']\n",
      "435 ['837008-3']\n",
      "436 ['837008-4']\n",
      "437 ['837008-5']\n",
      "438 ['837008-6']\n",
      "439 ['837008-7']\n",
      "440 ['837008-8']\n",
      "441 ['837008-9']\n",
      "442 ['837008-10']\n",
      "443 ['837008-11']\n",
      "444 ['837008-12']\n",
      "445 ['837008-13']\n",
      "446 ['837008-14']\n",
      "447 ['837008-15']\n",
      "448 ['837008-16']\n",
      "449 ['837008-17']\n",
      "603 ['838857-27']\n",
      "639 ['838864-27']\n",
      "714 ['838866-30']\n",
      "1072 ['844212-28']\n",
      "1431 ['844495-27']\n",
      "1612 ['844515-28']\n",
      "1648 ['844516-28']\n",
      "1684 ['844517-28']\n",
      "1715 ['844518-23']\n",
      "1720 ['844518-28']\n",
      "1732 ['844845-4']\n",
      "1733 ['844845-5']\n",
      "1735 ['844845-7']\n",
      "1736 ['844845-8']\n",
      "1737 ['844845-9']\n",
      "1738 ['844845-10']\n",
      "1740 ['844845-12']\n",
      "1741 ['844845-13']\n",
      "1742 ['844845-14']\n",
      "1743 ['844845-15']\n",
      "1744 ['844845-16']\n",
      "1745 ['844845-17']\n",
      "1746 ['844845-18']\n",
      "1747 ['844845-19']\n",
      "1748 ['844845-20']\n",
      "1749 ['844845-21']\n",
      "1751 ['844845-23']\n",
      "1753 ['844845-25']\n",
      "1754 ['844845-26']\n",
      "1755 ['844845-27']\n",
      "1756 ['844845-28']\n",
      "1757 ['844845-29']\n",
      "1758 ['844845-30']\n",
      "1759 ['844845-31']\n",
      "1762 ['844845-34']\n",
      "1763 ['844845-35']\n",
      "1764 ['844846-0']\n",
      "1767 ['844846-3']\n",
      "1769 ['844846-5']\n",
      "1771 ['844846-7']\n",
      "1772 ['844846-8']\n",
      "1773 ['844846-9']\n",
      "1774 ['844846-10']\n",
      "1775 ['844846-11']\n",
      "1777 ['844846-13']\n",
      "1778 ['844846-14']\n",
      "1780 ['844846-16']\n",
      "1781 ['844846-17']\n",
      "1782 ['844846-18']\n",
      "1783 ['844846-19']\n",
      "1784 ['844846-20']\n",
      "1785 ['844846-21']\n",
      "1788 ['844846-24']\n",
      "1789 ['844846-25']\n",
      "1790 ['844846-26']\n",
      "1791 ['844846-27']\n",
      "1792 ['844846-28']\n",
      "1793 ['844846-29']\n",
      "1795 ['844846-31']\n",
      "1796 ['844846-32']\n",
      "1797 ['844846-33']\n",
      "1798 ['844846-34']\n",
      "1799 ['844846-35']\n",
      "1800 ['844847-0']\n",
      "1802 ['844847-2']\n",
      "1803 ['844847-3']\n",
      "1804 ['844847-4']\n",
      "1805 ['844847-5']\n",
      "1807 ['844847-7']\n",
      "1808 ['844847-8']\n",
      "1809 ['844847-9']\n",
      "1811 ['844847-11']\n",
      "1813 ['844847-13']\n",
      "1816 ['844847-16']\n",
      "1817 ['844847-17']\n",
      "1818 ['844847-18']\n",
      "1819 ['844847-19']\n",
      "1820 ['844847-20']\n",
      "1821 ['844847-21']\n",
      "1822 ['844847-22']\n",
      "1824 ['844847-24']\n",
      "1825 ['844847-25']\n",
      "1826 ['844847-26']\n",
      "1827 ['844847-27']\n",
      "1828 ['844847-28']\n",
      "1829 ['844847-29']\n",
      "1830 ['844847-30']\n",
      "1833 ['844847-33']\n",
      "1834 ['844847-34']\n",
      "1835 ['844847-35']\n",
      "1836 ['844848-0']\n",
      "1838 ['844848-2']\n",
      "1840 ['844848-4']\n",
      "1841 ['844848-5']\n",
      "1843 ['844848-7']\n",
      "1844 ['844848-8']\n",
      "1845 ['844848-9']\n",
      "1846 ['844848-10']\n",
      "1848 ['844848-12']\n",
      "1849 ['844848-13']\n",
      "1850 ['844848-14']\n",
      "1852 ['844848-16']\n",
      "1853 ['844848-17']\n",
      "1854 ['844848-18']\n",
      "1857 ['844848-21']\n",
      "1859 ['844848-23']\n",
      "1861 ['844848-25']\n",
      "1862 ['844848-26']\n",
      "1863 ['844848-27']\n",
      "1864 ['844848-28']\n",
      "1865 ['844848-29']\n",
      "1866 ['844848-30']\n",
      "1867 ['844848-31']\n",
      "1870 ['844848-34']\n",
      "1871 ['844848-35']\n",
      "1872 ['844849-0']\n",
      "1874 ['844849-2']\n",
      "1875 ['844849-3']\n",
      "1877 ['844849-5']\n",
      "1879 ['844849-7']\n",
      "1880 ['844849-8']\n",
      "1881 ['844849-9']\n",
      "1882 ['844849-10']\n",
      "1883 ['844849-11']\n",
      "1884 ['844849-12']\n",
      "1886 ['844849-14']\n",
      "1887 ['844849-15']\n",
      "1888 ['844849-16']\n",
      "1889 ['844849-17']\n",
      "1890 ['844849-18']\n",
      "1891 ['844849-19']\n",
      "1892 ['844849-20']\n",
      "1893 ['844849-21']\n",
      "1894 ['844849-22']\n",
      "1895 ['844849-23']\n",
      "1896 ['844849-24']\n",
      "1897 ['844849-25']\n",
      "1898 ['844849-26']\n",
      "1899 ['844849-27']\n",
      "1900 ['844849-28']\n",
      "1901 ['844849-29']\n",
      "1903 ['844849-31']\n",
      "1904 ['844849-32']\n",
      "1906 ['844849-34']\n",
      "1907 ['844849-35']\n",
      "1908 ['845345-0']\n",
      "1909 ['845345-1']\n",
      "1910 ['845345-2']\n",
      "1911 ['845345-3']\n",
      "1912 ['845345-4']\n",
      "1913 ['845345-5']\n",
      "1914 ['845345-6']\n",
      "1915 ['845345-7']\n",
      "1916 ['845345-8']\n",
      "1917 ['845345-9']\n",
      "1918 ['845345-10']\n",
      "1919 ['845345-11']\n",
      "1920 ['845345-12']\n",
      "1921 ['845345-13']\n",
      "1922 ['845345-14']\n",
      "1923 ['845345-15']\n",
      "1924 ['845345-16']\n",
      "1925 ['845345-17']\n",
      "1926 ['845345-18']\n",
      "1927 ['845345-19']\n",
      "1928 ['845345-20']\n",
      "1929 ['845345-21']\n",
      "1930 ['845345-22']\n",
      "1931 ['845345-23']\n",
      "1932 ['845345-24']\n",
      "1933 ['845345-25']\n",
      "1934 ['845345-26']\n",
      "1935 ['845345-27']\n",
      "1936 ['845345-28']\n",
      "1937 ['845345-29']\n",
      "1938 ['845345-30']\n",
      "1939 ['845345-31']\n",
      "1940 ['845345-32']\n",
      "1941 ['845345-33']\n",
      "1942 ['845345-34']\n",
      "1943 ['845345-35']\n",
      "1944 ['845346-0']\n",
      "1945 ['845346-1']\n",
      "1946 ['845346-2']\n",
      "1947 ['845346-3']\n",
      "1948 ['845346-4']\n",
      "1949 ['845346-5']\n",
      "1950 ['845346-6']\n",
      "1951 ['845346-7']\n",
      "1952 ['845346-8']\n",
      "1953 ['845346-9']\n",
      "1954 ['845346-10']\n",
      "1955 ['845346-11']\n",
      "1956 ['845346-12']\n",
      "1957 ['845346-13']\n",
      "1958 ['845346-14']\n",
      "1959 ['845346-15']\n",
      "1960 ['845346-16']\n",
      "1961 ['845346-17']\n",
      "1962 ['845346-18']\n",
      "1963 ['845346-19']\n",
      "1964 ['845346-20']\n",
      "1965 ['845346-21']\n",
      "1966 ['845346-22']\n",
      "1967 ['845346-23']\n",
      "1968 ['845346-24']\n",
      "1969 ['845346-25']\n",
      "1970 ['845346-26']\n",
      "1971 ['845346-27']\n",
      "1972 ['845346-28']\n",
      "1973 ['845346-29']\n",
      "1974 ['845346-30']\n",
      "1975 ['845346-31']\n",
      "1976 ['845346-32']\n",
      "1977 ['845346-33']\n",
      "1978 ['845346-34']\n",
      "1979 ['845346-35']\n",
      "1980 ['845347-0']\n",
      "1981 ['845347-1']\n",
      "1982 ['845347-2']\n",
      "1983 ['845347-3']\n",
      "1984 ['845347-4']\n",
      "1985 ['845347-5']\n",
      "1986 ['845347-6']\n",
      "1987 ['845347-7']\n",
      "1988 ['845347-8']\n",
      "1989 ['845347-9']\n",
      "1990 ['845347-10']\n",
      "1991 ['845347-11']\n",
      "1992 ['845347-12']\n",
      "1993 ['845347-13']\n",
      "1994 ['845347-14']\n",
      "1995 ['845347-15']\n",
      "1996 ['845347-16']\n",
      "1997 ['845347-17']\n",
      "1998 ['845347-18']\n",
      "1999 ['845347-19']\n",
      "2000 ['845347-20']\n",
      "2001 ['845347-21']\n",
      "2002 ['845347-22']\n",
      "2003 ['845347-23']\n",
      "2004 ['845347-24']\n",
      "2005 ['845347-25']\n",
      "2006 ['845347-26']\n",
      "2007 ['845347-27']\n",
      "2008 ['845347-28']\n",
      "2009 ['845347-29']\n",
      "2010 ['845347-30']\n",
      "2011 ['845347-31']\n",
      "2012 ['845347-32']\n",
      "2013 ['845347-33']\n",
      "2014 ['845347-34']\n",
      "2015 ['845347-35']\n",
      "2016 ['845348-0']\n",
      "2017 ['845348-1']\n",
      "2018 ['845348-2']\n",
      "2019 ['845348-3']\n",
      "2020 ['845348-4']\n",
      "2021 ['845348-5']\n",
      "2022 ['845348-6']\n",
      "2023 ['845348-7']\n",
      "2024 ['845348-8']\n",
      "2025 ['845348-9']\n",
      "2026 ['845348-10']\n",
      "2027 ['845348-11']\n",
      "2028 ['845348-12']\n",
      "2029 ['845348-13']\n",
      "2030 ['845348-14']\n",
      "2031 ['845348-15']\n",
      "2032 ['845348-16']\n",
      "2033 ['845348-17']\n",
      "2034 ['845348-18']\n",
      "2035 ['845348-19']\n",
      "2036 ['845348-20']\n",
      "2037 ['845348-21']\n",
      "2038 ['845348-22']\n",
      "2039 ['845348-23']\n",
      "2040 ['845348-24']\n",
      "2041 ['845348-25']\n",
      "2042 ['845348-26']\n",
      "2043 ['845348-27']\n",
      "2044 ['845348-28']\n",
      "2045 ['845348-29']\n",
      "2046 ['845348-30']\n",
      "2047 ['845348-31']\n",
      "2048 ['845348-32']\n",
      "2049 ['845348-33']\n",
      "2050 ['845348-34']\n",
      "2051 ['845348-35']\n",
      "2052 ['845349-0']\n",
      "2053 ['845349-1']\n",
      "2054 ['845349-2']\n",
      "2055 ['845349-3']\n",
      "2056 ['845349-4']\n",
      "2057 ['845349-5']\n",
      "2058 ['845349-6']\n",
      "2059 ['845349-7']\n",
      "2060 ['845349-8']\n",
      "2061 ['845349-9']\n",
      "2062 ['845349-10']\n",
      "2063 ['845349-11']\n",
      "2064 ['845349-12']\n",
      "2065 ['845349-13']\n",
      "2066 ['845349-14']\n",
      "2067 ['845349-15']\n",
      "2068 ['845349-16']\n",
      "2069 ['845349-17']\n",
      "2070 ['845349-18']\n",
      "2071 ['845349-19']\n",
      "2072 ['845349-20']\n",
      "2073 ['845349-21']\n",
      "2074 ['845349-22']\n",
      "2075 ['845349-23']\n",
      "2076 ['845349-24']\n",
      "2077 ['845349-25']\n",
      "2078 ['845349-26']\n",
      "2079 ['845349-27']\n",
      "2080 ['845349-28']\n",
      "2081 ['845349-29']\n",
      "2082 ['845349-30']\n",
      "2083 ['845349-31']\n",
      "2084 ['845349-32']\n",
      "2085 ['845349-33']\n",
      "2086 ['845349-34']\n",
      "2087 ['845349-35']\n",
      "2296 ['849685-28']\n",
      "2331 ['849686-27']\n",
      "2332 ['849686-28']\n",
      "2368 ['849687-28']\n",
      "2440 ['849689-28']\n",
      "2476 ['850177-28']\n",
      "2512 ['850178-28']\n",
      "2513 ['850178-29']\n",
      "2548 ['850179-28']\n",
      "2584 ['850180-28']\n",
      "2585 ['850180-29']\n",
      "2620 ['850181-28']\n",
      "2655 ['850586-27']\n",
      "2656 ['850586-28']\n",
      "2692 ['850587-28']\n",
      "2693 ['850587-29']\n",
      "2727 ['850588-27']\n",
      "2728 ['850588-28']\n",
      "2764 ['850589-28']\n",
      "2800 ['850590-28']\n",
      "2801 ['850590-29']\n",
      "2871 ['851058-27']\n",
      "2908 ['851059-28']\n",
      "2910 ['851059-30']\n",
      "2927 ['851060-11']\n",
      "3090 ['852892-30']\n",
      "3159 ['852894-27']\n",
      "3599 ['853728-35']\n",
      "3810 ['858539-30']\n"
     ]
    }
   ],
   "source": [
    "cs = res.get()\n",
    "for i, c in enumerate(cs):\n",
    "    if len(c) == 1 and isinstance(c[0], str):\n",
    "        print i, c"
   ]
  },
  {
   "cell_type": "code",
   "execution_count": 401,
   "metadata": {
    "collapsed": false
   },
   "outputs": [],
   "source": [
    "import datetime\n",
    "md = res.metadata\n",
    "start = datetime.datetime.now()\n",
    "end = datetime.datetime(2000, 1, 1, 1, 1)\n",
    "\n",
    "for data in md:\n",
    "        s1 = data['submitted']\n",
    "        e1 = data['completed']\n",
    "        if s1 < start:\n",
    "            start = s1\n",
    "        if e1 > end:\n",
    "            end = e1\n",
    "\n"
   ]
  },
  {
   "cell_type": "code",
   "execution_count": 402,
   "metadata": {
    "collapsed": false
   },
   "outputs": [
    {
     "data": {
      "text/plain": [
       "2525.191135"
      ]
     },
     "execution_count": 402,
     "metadata": {},
     "output_type": "execute_result"
    }
   ],
   "source": [
    "delta = end-start\n",
    "delta.total_seconds()\n"
   ]
  },
  {
   "cell_type": "code",
   "execution_count": 271,
   "metadata": {
    "collapsed": false
   },
   "outputs": [],
   "source": []
  },
  {
   "cell_type": "code",
   "execution_count": 318,
   "metadata": {
    "collapsed": false
   },
   "outputs": [
    {
     "name": "stdout",
     "output_type": "stream",
     "text": [
      "OrderedDict([('Point positive', 220481), ('Positive', 137280), ('Fringe', 123155), ('Dipole type II', 117958), ('Dipole type I', 81082), ('Artifact', 36972)])\n"
     ]
    },
    {
     "data": {
      "image/png": "[encoded data removed]",
      "text/plain": [
       "<matplotlib.figure.Figure at 0x7fdee8c283d0>"
      ]
     },
     "metadata": {},
     "output_type": "display_data"
    }
   ],
   "source": [
    "import collections\n",
    "from operator import itemgetter\n",
    "import matplotlib.pyplot as plt\n",
    "%matplotlib inline\n",
    "\n",
    "objects = {}\n",
    "\n",
    "#classification = res[0]\n",
    "for classification in cs:\n",
    "    if isinstance(classification[0], str) == False:\n",
    "        for label, src, visit in classification:\n",
    "            if label in objects:\n",
    "                objects[label] += 1\n",
    "            else:\n",
    "                objects[label] = 1\n",
    "\n",
    "o_objects = collections.OrderedDict(sorted(objects.items(), key=itemgetter(1), reverse=True))\n",
    "print o_objects\n",
    "X = np.arange(len(o_objects))\n",
    "\n",
    "p = plt.bar(X, o_objects.values(), align='center')\n",
    "plt.xticks(X, o_objects.keys(), rotation=30)\n",
    "\n",
    "plt.xlabel(\"Label\")\n",
    "plt.ylabel(\"Number of objects\")\n",
    "for i, rect in enumerate(p):\n",
    "    plt.text(rect.get_x(), rect.get_height()+10000, int(rect.get_height()))\n",
    "\n",
    "plt.show()"
   ]
  },
  {
   "cell_type": "code",
   "execution_count": 276,
   "metadata": {
    "collapsed": false
   },
   "outputs": [
    {
     "data": {
      "text/plain": [
       "['836493-12']"
      ]
     },
     "execution_count": 276,
     "metadata": {},
     "output_type": "execute_result"
    }
   ],
   "source": [
    "classification"
   ]
  },
  {
   "cell_type": "code",
   "execution_count": 403,
   "metadata": {
    "collapsed": false
   },
   "outputs": [],
   "source": [
    "import lsst.afw.table as afwTable\n",
    "\n",
    "c1 = afwTable.SourceCatalog.readFits(\"catalogs/844493-14.fits\")\n",
    "c2 = afwTable.SourceCatalog.readFits(\"catalogs/844493-14.fits\")"
   ]
  },
  {
   "cell_type": "code",
   "execution_count": 404,
   "metadata": {
    "collapsed": false
   },
   "outputs": [
    {
     "name": "stdout",
     "output_type": "stream",
     "text": [
      "1\n",
      "1\n"
     ]
    }
   ],
   "source": [
    "print c1[0].get(\"id\")\n",
    "print c2[0].get(\"id\")\n",
    "c1.extend(c2)"
   ]
  },
  {
   "cell_type": "code",
   "execution_count": 405,
   "metadata": {
    "collapsed": false
   },
   "outputs": [
    {
     "name": "stdout",
     "output_type": "stream",
     "text": [
      "3.0\n"
     ]
    }
   ],
   "source": [
    "s = c1[66]\n",
    "print s['classification_dipole']"
   ]
  },
  {
   "cell_type": "code",
   "execution_count": 346,
   "metadata": {
    "collapsed": false
   },
   "outputs": [
    {
     "name": "stdout",
     "output_type": "stream",
     "text": [
      "0\n"
     ]
    }
   ],
   "source": [
    "print s['parent']"
   ]
  },
  {
   "cell_type": "code",
   "execution_count": 347,
   "metadata": {
    "collapsed": false
   },
   "outputs": [],
   "source": [
    "sch = s.schema"
   ]
  },
  {
   "cell_type": "code",
   "execution_count": 348,
   "metadata": {
    "collapsed": false
   },
   "outputs": [
    {
     "data": {
      "text/plain": [
       "Key<F>(offset=464, nElements=1)"
      ]
     },
     "execution_count": 348,
     "metadata": {},
     "output_type": "execute_result"
    }
   ],
   "source": [
    "sch.addField(\"extended-id\", \"F\")"
   ]
  },
  {
   "cell_type": "code",
   "execution_count": 366,
   "metadata": {
    "collapsed": false
   },
   "outputs": [
    {
     "data": {
      "text/plain": [
       "Key<F>(offset=464, nElements=1)"
      ]
     },
     "execution_count": 366,
     "metadata": {},
     "output_type": "execute_result"
    }
   ],
   "source": [
    "c1.schema.addField(\"extended-id\", \"F\")"
   ]
  },
  {
   "cell_type": "code",
   "execution_count": 367,
   "metadata": {
    "collapsed": false,
    "scrolled": false
   },
   "outputs": [
    {
     "data": {
      "text/plain": [
       "Schema(\n",
       "    (Field['L'](name=\"id\", doc=\"unique ID\"), Key<L>(offset=0, nElements=1)),\n",
       "    (Field['Angle'](name=\"coord_ra\", doc=\"position in ra/dec\"), Key<Angle>(offset=8, nElements=1)),\n",
       "    (Field['Angle'](name=\"coord_dec\", doc=\"position in ra/dec\"), Key<Angle>(offset=16, nElements=1)),\n",
       "    (Field['L'](name=\"parent\", doc=\"unique ID of parent source\"), Key<L>(offset=24, nElements=1)),\n",
       "    (Field['F'](name=\"classification_dipole\", doc=\"probability of being a dipole\"), Key<F>(offset=32, nElements=1)),\n",
       "    (Field['Flag'](name=\"ip_diffim_NaiveDipoleCentroid_flag\", doc=\"general failure flag, set if anything went wrong\"), Key['Flag'](offset=40, bit=0)),\n",
       "    (Field['Flag'](name=\"ip_diffim_NaiveDipoleCentroid_pos_flag\", doc=\"failure flag for positive, set if anything went wrong\"), Key['Flag'](offset=40, bit=1)),\n",
       "    (Field['Flag'](name=\"ip_diffim_NaiveDipoleCentroid_neg_flag\", doc=\"failure flag for negative, set if anything went wrong\"), Key['Flag'](offset=40, bit=2)),\n",
       "    (Field['D'](name=\"ip_diffim_NaiveDipoleCentroid_x\", doc=\"unweighted first moment centroid: overall centroid\", units=\"pixels\"), Key<D>(offset=48, nElements=1)),\n",
       "    (Field['D'](name=\"ip_diffim_NaiveDipoleCentroid_y\", doc=\"unweighted first moment centroid: overall centroid\", units=\"pixels\"), Key<D>(offset=56, nElements=1)),\n",
       "    (Field['F'](name=\"ip_diffim_NaiveDipoleCentroid_xSigma\", doc=\"1-sigma uncertainty on x position\", units=\"pixels\"), Key<F>(offset=64, nElements=1)),\n",
       "    (Field['F'](name=\"ip_diffim_NaiveDipoleCentroid_ySigma\", doc=\"1-sigma uncertainty on y position\", units=\"pixels\"), Key<F>(offset=68, nElements=1)),\n",
       "    (Field['D'](name=\"ip_diffim_NaiveDipoleCentroid_pos_x\", doc=\"unweighted first moment centroid: positive lobe\", units=\"pixels\"), Key<D>(offset=72, nElements=1)),\n",
       "    (Field['D'](name=\"ip_diffim_NaiveDipoleCentroid_pos_y\", doc=\"unweighted first moment centroid: positive lobe\", units=\"pixels\"), Key<D>(offset=80, nElements=1)),\n",
       "    (Field['F'](name=\"ip_diffim_NaiveDipoleCentroid_pos_xSigma\", doc=\"1-sigma uncertainty on x position\", units=\"pixels\"), Key<F>(offset=88, nElements=1)),\n",
       "    (Field['F'](name=\"ip_diffim_NaiveDipoleCentroid_pos_ySigma\", doc=\"1-sigma uncertainty on y position\", units=\"pixels\"), Key<F>(offset=92, nElements=1)),\n",
       "    (Field['D'](name=\"ip_diffim_NaiveDipoleCentroid_neg_x\", doc=\"unweighted first moment centroid: negative lobe\", units=\"pixels\"), Key<D>(offset=96, nElements=1)),\n",
       "    (Field['D'](name=\"ip_diffim_NaiveDipoleCentroid_neg_y\", doc=\"unweighted first moment centroid: negative lobe\", units=\"pixels\"), Key<D>(offset=104, nElements=1)),\n",
       "    (Field['F'](name=\"ip_diffim_NaiveDipoleCentroid_neg_xSigma\", doc=\"1-sigma uncertainty on x position\", units=\"pixels\"), Key<F>(offset=112, nElements=1)),\n",
       "    (Field['F'](name=\"ip_diffim_NaiveDipoleCentroid_neg_ySigma\", doc=\"1-sigma uncertainty on y position\", units=\"pixels\"), Key<F>(offset=116, nElements=1)),\n",
       "    (Field['D'](name=\"base_CircularApertureFlux_3_0_flux\", doc=\"flux within 3.000000-pixel aperture\", units=\"dn\"), Key<D>(offset=120, nElements=1)),\n",
       "    (Field['D'](name=\"base_CircularApertureFlux_3_0_fluxSigma\", doc=\"1-sigma flux uncertainty\", units=\"dn\"), Key<D>(offset=128, nElements=1)),\n",
       "    (Field['Flag'](name=\"base_CircularApertureFlux_3_0_flag\", doc=\"general failure flag\"), Key['Flag'](offset=40, bit=3)),\n",
       "    (Field['Flag'](name=\"base_CircularApertureFlux_3_0_flag_apertureTruncated\", doc=\"aperture did not fit within measurement image\"), Key['Flag'](offset=40, bit=4)),\n",
       "    (Field['Flag'](name=\"base_CircularApertureFlux_3_0_flag_sincCoeffsTruncated\", doc=\"full sinc coefficient image did not fit within measurement image\"), Key['Flag'](offset=40, bit=5)),\n",
       "    (Field['D'](name=\"base_CircularApertureFlux_4_5_flux\", doc=\"flux within 4.500000-pixel aperture\", units=\"dn\"), Key<D>(offset=136, nElements=1)),\n",
       "    (Field['D'](name=\"base_CircularApertureFlux_4_5_fluxSigma\", doc=\"1-sigma flux uncertainty\", units=\"dn\"), Key<D>(offset=144, nElements=1)),\n",
       "    (Field['Flag'](name=\"base_CircularApertureFlux_4_5_flag\", doc=\"general failure flag\"), Key['Flag'](offset=40, bit=6)),\n",
       "    (Field['Flag'](name=\"base_CircularApertureFlux_4_5_flag_apertureTruncated\", doc=\"aperture did not fit within measurement image\"), Key['Flag'](offset=40, bit=7)),\n",
       "    (Field['Flag'](name=\"base_CircularApertureFlux_4_5_flag_sincCoeffsTruncated\", doc=\"full sinc coefficient image did not fit within measurement image\"), Key['Flag'](offset=40, bit=8)),\n",
       "    (Field['D'](name=\"base_CircularApertureFlux_6_0_flux\", doc=\"flux within 6.000000-pixel aperture\", units=\"dn\"), Key<D>(offset=152, nElements=1)),\n",
       "    (Field['D'](name=\"base_CircularApertureFlux_6_0_fluxSigma\", doc=\"1-sigma flux uncertainty\", units=\"dn\"), Key<D>(offset=160, nElements=1)),\n",
       "    (Field['Flag'](name=\"base_CircularApertureFlux_6_0_flag\", doc=\"general failure flag\"), Key['Flag'](offset=40, bit=9)),\n",
       "    (Field['Flag'](name=\"base_CircularApertureFlux_6_0_flag_apertureTruncated\", doc=\"aperture did not fit within measurement image\"), Key['Flag'](offset=40, bit=10)),\n",
       "    (Field['Flag'](name=\"base_CircularApertureFlux_6_0_flag_sincCoeffsTruncated\", doc=\"full sinc coefficient image did not fit within measurement image\"), Key['Flag'](offset=40, bit=11)),\n",
       "    (Field['D'](name=\"base_CircularApertureFlux_9_0_flux\", doc=\"flux within 9.000000-pixel aperture\", units=\"dn\"), Key<D>(offset=168, nElements=1)),\n",
       "    (Field['D'](name=\"base_CircularApertureFlux_9_0_fluxSigma\", doc=\"1-sigma flux uncertainty\", units=\"dn\"), Key<D>(offset=176, nElements=1)),\n",
       "    (Field['Flag'](name=\"base_CircularApertureFlux_9_0_flag\", doc=\"general failure flag\"), Key['Flag'](offset=40, bit=12)),\n",
       "    (Field['Flag'](name=\"base_CircularApertureFlux_9_0_flag_apertureTruncated\", doc=\"aperture did not fit within measurement image\"), Key['Flag'](offset=40, bit=13)),\n",
       "    (Field['Flag'](name=\"base_CircularApertureFlux_9_0_flag_sincCoeffsTruncated\", doc=\"full sinc coefficient image did not fit within measurement image\"), Key['Flag'](offset=40, bit=14)),\n",
       "    (Field['D'](name=\"base_CircularApertureFlux_12_0_flux\", doc=\"flux within 12.000000-pixel aperture\", units=\"dn\"), Key<D>(offset=184, nElements=1)),\n",
       "    (Field['D'](name=\"base_CircularApertureFlux_12_0_fluxSigma\", doc=\"1-sigma flux uncertainty\", units=\"dn\"), Key<D>(offset=192, nElements=1)),\n",
       "    (Field['Flag'](name=\"base_CircularApertureFlux_12_0_flag\", doc=\"general failure flag\"), Key['Flag'](offset=40, bit=15)),\n",
       "    (Field['Flag'](name=\"base_CircularApertureFlux_12_0_flag_apertureTruncated\", doc=\"aperture did not fit within measurement image\"), Key['Flag'](offset=40, bit=16)),\n",
       "    (Field['D'](name=\"base_CircularApertureFlux_17_0_flux\", doc=\"flux within 17.000000-pixel aperture\", units=\"dn\"), Key<D>(offset=200, nElements=1)),\n",
       "    (Field['D'](name=\"base_CircularApertureFlux_17_0_fluxSigma\", doc=\"1-sigma flux uncertainty\", units=\"dn\"), Key<D>(offset=208, nElements=1)),\n",
       "    (Field['Flag'](name=\"base_CircularApertureFlux_17_0_flag\", doc=\"general failure flag\"), Key['Flag'](offset=40, bit=17)),\n",
       "    (Field['Flag'](name=\"base_CircularApertureFlux_17_0_flag_apertureTruncated\", doc=\"aperture did not fit within measurement image\"), Key['Flag'](offset=40, bit=18)),\n",
       "    (Field['D'](name=\"base_CircularApertureFlux_25_0_flux\", doc=\"flux within 25.000000-pixel aperture\", units=\"dn\"), Key<D>(offset=216, nElements=1)),\n",
       "    (Field['D'](name=\"base_CircularApertureFlux_25_0_fluxSigma\", doc=\"1-sigma flux uncertainty\", units=\"dn\"), Key<D>(offset=224, nElements=1)),\n",
       "    (Field['Flag'](name=\"base_CircularApertureFlux_25_0_flag\", doc=\"general failure flag\"), Key['Flag'](offset=40, bit=19)),\n",
       "    (Field['Flag'](name=\"base_CircularApertureFlux_25_0_flag_apertureTruncated\", doc=\"aperture did not fit within measurement image\"), Key['Flag'](offset=40, bit=20)),\n",
       "    (Field['D'](name=\"base_CircularApertureFlux_35_0_flux\", doc=\"flux within 35.000000-pixel aperture\", units=\"dn\"), Key<D>(offset=232, nElements=1)),\n",
       "    (Field['D'](name=\"base_CircularApertureFlux_35_0_fluxSigma\", doc=\"1-sigma flux uncertainty\", units=\"dn\"), Key<D>(offset=240, nElements=1)),\n",
       "    (Field['Flag'](name=\"base_CircularApertureFlux_35_0_flag\", doc=\"general failure flag\"), Key['Flag'](offset=40, bit=21)),\n",
       "    (Field['Flag'](name=\"base_CircularApertureFlux_35_0_flag_apertureTruncated\", doc=\"aperture did not fit within measurement image\"), Key['Flag'](offset=40, bit=22)),\n",
       "    (Field['D'](name=\"base_CircularApertureFlux_50_0_flux\", doc=\"flux within 50.000000-pixel aperture\", units=\"dn\"), Key<D>(offset=248, nElements=1)),\n",
       "    (Field['D'](name=\"base_CircularApertureFlux_50_0_fluxSigma\", doc=\"1-sigma flux uncertainty\", units=\"dn\"), Key<D>(offset=256, nElements=1)),\n",
       "    (Field['Flag'](name=\"base_CircularApertureFlux_50_0_flag\", doc=\"general failure flag\"), Key['Flag'](offset=40, bit=23)),\n",
       "    (Field['Flag'](name=\"base_CircularApertureFlux_50_0_flag_apertureTruncated\", doc=\"aperture did not fit within measurement image\"), Key['Flag'](offset=40, bit=24)),\n",
       "    (Field['D'](name=\"base_CircularApertureFlux_70_0_flux\", doc=\"flux within 70.000000-pixel aperture\", units=\"dn\"), Key<D>(offset=264, nElements=1)),\n",
       "    (Field['D'](name=\"base_CircularApertureFlux_70_0_fluxSigma\", doc=\"1-sigma flux uncertainty\", units=\"dn\"), Key<D>(offset=272, nElements=1)),\n",
       "    (Field['Flag'](name=\"base_CircularApertureFlux_70_0_flag\", doc=\"general failure flag\"), Key['Flag'](offset=40, bit=25)),\n",
       "    (Field['Flag'](name=\"base_CircularApertureFlux_70_0_flag_apertureTruncated\", doc=\"aperture did not fit within measurement image\"), Key['Flag'](offset=40, bit=26)),\n",
       "    (Field['Flag'](name=\"base_PixelFlags_flag\", doc=\"general failure flag, set if anything went wring\"), Key['Flag'](offset=40, bit=27)),\n",
       "    (Field['Flag'](name=\"base_PixelFlags_flag_offimage\", doc=\"Source center is off image\"), Key['Flag'](offset=40, bit=28)),\n",
       "    (Field['Flag'](name=\"base_PixelFlags_flag_edge\", doc=\"Source is outside usable exposure region (masked EDGE or NO_DATA)\"), Key['Flag'](offset=40, bit=29)),\n",
       "    (Field['Flag'](name=\"base_PixelFlags_flag_interpolated\", doc=\"Interpolated pixel in the Source footprint\"), Key['Flag'](offset=40, bit=30)),\n",
       "    (Field['Flag'](name=\"base_PixelFlags_flag_saturated\", doc=\"Saturated pixel in the Source footprint\"), Key['Flag'](offset=40, bit=31)),\n",
       "    (Field['Flag'](name=\"base_PixelFlags_flag_cr\", doc=\"Cosmic ray in the Source footprint\"), Key['Flag'](offset=40, bit=32)),\n",
       "    (Field['Flag'](name=\"base_PixelFlags_flag_bad\", doc=\"Bad pixel in the Source footprint\"), Key['Flag'](offset=40, bit=33)),\n",
       "    (Field['Flag'](name=\"base_PixelFlags_flag_suspect\", doc=\"Source''s footprint includes suspect pixels\"), Key['Flag'](offset=40, bit=34)),\n",
       "    (Field['Flag'](name=\"base_PixelFlags_flag_interpolatedCenter\", doc=\"Interpolated pixel in the Source center\"), Key['Flag'](offset=40, bit=35)),\n",
       "    (Field['Flag'](name=\"base_PixelFlags_flag_saturatedCenter\", doc=\"Saturated pixel in the Source center\"), Key['Flag'](offset=40, bit=36)),\n",
       "    (Field['Flag'](name=\"base_PixelFlags_flag_crCenter\", doc=\"Cosmic ray in the Source center\"), Key['Flag'](offset=40, bit=37)),\n",
       "    (Field['Flag'](name=\"base_PixelFlags_flag_suspectCenter\", doc=\"Source''s center is close to suspect pixels\"), Key['Flag'](offset=40, bit=38)),\n",
       "    (Field['D'](name=\"base_PsfFlux_flux\", doc=\"flux derived from linear least-squares fit of PSF model\", units=\"dn\"), Key<D>(offset=280, nElements=1)),\n",
       "    (Field['D'](name=\"base_PsfFlux_fluxSigma\", doc=\"1-sigma flux uncertainty\", units=\"dn\"), Key<D>(offset=288, nElements=1)),\n",
       "    (Field['Flag'](name=\"base_PsfFlux_flag\", doc=\"general failure flag\"), Key['Flag'](offset=40, bit=39)),\n",
       "    (Field['Flag'](name=\"base_PsfFlux_flag_noGoodPixels\", doc=\"not enough non-rejected pixels in data to attempt the fit\"), Key['Flag'](offset=40, bit=40)),\n",
       "    (Field['Flag'](name=\"base_PsfFlux_flag_edge\", doc=\"object was too close to the edge of the image to use the full PSF model\"), Key['Flag'](offset=40, bit=41)),\n",
       "    (Field['Flag'](name=\"ip_diffim_NaiveDipoleFlux_flag\", doc=\"general failure flag, set if anything went wrong\"), Key['Flag'](offset=40, bit=42)),\n",
       "    (Field['Flag'](name=\"ip_diffim_NaiveDipoleFlux_pos_flag\", doc=\"failure flag for positive, set if anything went wrong\"), Key['Flag'](offset=40, bit=43)),\n",
       "    (Field['Flag'](name=\"ip_diffim_NaiveDipoleFlux_neg_flag\", doc=\"failure flag for negative, set if anything went wrong\"), Key['Flag'](offset=40, bit=44)),\n",
       "    (Field['D'](name=\"ip_diffim_NaiveDipoleFlux_pos_flux\", doc=\"raw flux counts: positive lobe\", units=\"dn\"), Key<D>(offset=296, nElements=1)),\n",
       "    (Field['D'](name=\"ip_diffim_NaiveDipoleFlux_pos_fluxSigma\", doc=\"1-sigma flux uncertainty\", units=\"dn\"), Key<D>(offset=304, nElements=1)),\n",
       "    (Field['D'](name=\"ip_diffim_NaiveDipoleFlux_neg_flux\", doc=\"raw flux counts: negative lobe\", units=\"dn\"), Key<D>(offset=312, nElements=1)),\n",
       "    (Field['D'](name=\"ip_diffim_NaiveDipoleFlux_neg_fluxSigma\", doc=\"1-sigma flux uncertainty\", units=\"dn\"), Key<D>(offset=320, nElements=1)),\n",
       "    (Field['I'](name=\"ip_diffim_NaiveDipoleFlux_npos\", doc=\"number of positive pixels\", units=\"dn\"), Key<I>(offset=328, nElements=1)),\n",
       "    (Field['I'](name=\"ip_diffim_NaiveDipoleFlux_nneg\", doc=\"number of negative pixels\", units=\"dn\"), Key<I>(offset=332, nElements=1)),\n",
       "    (Field['Flag'](name=\"ip_diffim_PsfDipoleFlux_flag\", doc=\"general failure flag, set if anything went wrong\"), Key['Flag'](offset=40, bit=45)),\n",
       "    (Field['Flag'](name=\"ip_diffim_PsfDipoleFlux_pos_flag\", doc=\"failure flag for positive, set if anything went wrong\"), Key['Flag'](offset=40, bit=46)),\n",
       "    (Field['Flag'](name=\"ip_diffim_PsfDipoleFlux_neg_flag\", doc=\"failure flag for negative, set if anything went wrong\"), Key['Flag'](offset=40, bit=47)),\n",
       "    (Field['D'](name=\"ip_diffim_PsfDipoleFlux_pos_flux\", doc=\"jointly fitted psf flux counts: positive lobe\", units=\"dn\"), Key<D>(offset=336, nElements=1)),\n",
       "    (Field['D'](name=\"ip_diffim_PsfDipoleFlux_pos_fluxSigma\", doc=\"1-sigma flux uncertainty\", units=\"dn\"), Key<D>(offset=344, nElements=1)),\n",
       "    (Field['D'](name=\"ip_diffim_PsfDipoleFlux_neg_flux\", doc=\"jointly fitted psf flux counts: negative lobe\", units=\"dn\"), Key<D>(offset=352, nElements=1)),\n",
       "    (Field['D'](name=\"ip_diffim_PsfDipoleFlux_neg_fluxSigma\", doc=\"1-sigma flux uncertainty\", units=\"dn\"), Key<D>(offset=360, nElements=1)),\n",
       "    (Field['F'](name=\"ip_diffim_PsfDipoleFlux_chi2dof\", doc=\"chi2 per degree of freedom of fit\"), Key<F>(offset=368, nElements=1)),\n",
       "    (Field['D'](name=\"ip_diffim_PsfDipoleFlux_pos_centroid_x\", doc=\"psf fitted center of positive lobe\", units=\"pixels\"), Key<D>(offset=376, nElements=1)),\n",
       "    (Field['D'](name=\"ip_diffim_PsfDipoleFlux_pos_centroid_y\", doc=\"psf fitted center of positive lobe\", units=\"pixels\"), Key<D>(offset=384, nElements=1)),\n",
       "    (Field['F'](name=\"ip_diffim_PsfDipoleFlux_pos_centroid_xSigma\", doc=\"1-sigma uncertainty on x position\", units=\"pixels\"), Key<F>(offset=392, nElements=1)),\n",
       "    (Field['F'](name=\"ip_diffim_PsfDipoleFlux_pos_centroid_ySigma\", doc=\"1-sigma uncertainty on y position\", units=\"pixels\"), Key<F>(offset=396, nElements=1)),\n",
       "    (Field['D'](name=\"ip_diffim_PsfDipoleFlux_neg_centroid_x\", doc=\"psf fitted center of negative lobe\", units=\"pixels\"), Key<D>(offset=400, nElements=1)),\n",
       "    (Field['D'](name=\"ip_diffim_PsfDipoleFlux_neg_centroid_y\", doc=\"psf fitted center of negative lobe\", units=\"pixels\"), Key<D>(offset=408, nElements=1)),\n",
       "    (Field['F'](name=\"ip_diffim_PsfDipoleFlux_neg_centroid_xSigma\", doc=\"1-sigma uncertainty on x position\", units=\"pixels\"), Key<F>(offset=416, nElements=1)),\n",
       "    (Field['F'](name=\"ip_diffim_PsfDipoleFlux_neg_centroid_ySigma\", doc=\"1-sigma uncertainty on y position\", units=\"pixels\"), Key<F>(offset=420, nElements=1)),\n",
       "    (Field['D'](name=\"ip_diffim_PsfDipoleFlux_centroid_x\", doc=\"average of negative and positive lobe positions\", units=\"pixels\"), Key<D>(offset=424, nElements=1)),\n",
       "    (Field['D'](name=\"ip_diffim_PsfDipoleFlux_centroid_y\", doc=\"average of negative and positive lobe positions\", units=\"pixels\"), Key<D>(offset=432, nElements=1)),\n",
       "    (Field['F'](name=\"ip_diffim_PsfDipoleFlux_centroid_xSigma\", doc=\"1-sigma uncertainty on x position\", units=\"pixels\"), Key<F>(offset=440, nElements=1)),\n",
       "    (Field['F'](name=\"ip_diffim_PsfDipoleFlux_centroid_ySigma\", doc=\"1-sigma uncertainty on y position\", units=\"pixels\"), Key<F>(offset=444, nElements=1)),\n",
       "    (Field['D'](name=\"base_PsfFlux_apCorr\", doc=\"aperture correction applied to base_PsfFlux\"), Key<D>(offset=448, nElements=1)),\n",
       "    (Field['D'](name=\"base_PsfFlux_apCorrSigma\", doc=\"aperture correction applied to base_PsfFlux\"), Key<D>(offset=456, nElements=1)),\n",
       "    (Field['Flag'](name=\"base_PsfFlux_flag_apCorr\", doc=\"set if unable to aperture correct base_PsfFlux\"), Key['Flag'](offset=40, bit=48)),\n",
       "    'base_CircularApertureFlux_flag_badCentroid'->'ip_diffim_NaiveDipoleCentroid_flag'\n",
       "    'base_PsfFlux_flag_badCentroid'->'ip_diffim_NaiveDipoleCentroid_flag'\n",
       "    'slot_ApFlux'->'base_CircularApertureFlux_3_0'\n",
       "    'slot_Centroid'->'ip_diffim_NaiveDipoleCentroid'\n",
       "    'slot_PsfFlux'->'base_PsfFlux'\n",
       ")"
      ]
     },
     "execution_count": 367,
     "metadata": {},
     "output_type": "execute_result"
    }
   ],
   "source": [
    "s = c1[66]\n",
    "c1.schema"
   ]
  },
  {
   "cell_type": "code",
   "execution_count": 359,
   "metadata": {
    "collapsed": false
   },
   "outputs": [
    {
     "name": "stdout",
     "output_type": "stream",
     "text": [
      "1.0\n"
     ]
    }
   ],
   "source": [
    "print s[\"classification_dipole\"]"
   ]
  },
  {
   "cell_type": "code",
   "execution_count": null,
   "metadata": {
    "collapsed": true
   },
   "outputs": [],
   "source": []
  }
 ],
 "metadata": {
  "kernelspec": {
   "display_name": "Python 2",
   "language": "python",
   "name": "python2"
  },
  "language_info": {
   "codemirror_mode": {
    "name": "ipython",
    "version": 2
   },
   "file_extension": ".py",
   "mimetype": "text/x-python",
   "name": "python",
   "nbconvert_exporter": "python",
   "pygments_lexer": "ipython2",
   "version": "2.7.12"
  }
 },
 "nbformat": 4,
 "nbformat_minor": 0
}
