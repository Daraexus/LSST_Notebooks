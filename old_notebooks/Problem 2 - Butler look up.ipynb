{
 "metadata": {
  "name": ""
 },
 "nbformat": 3,
 "nbformat_minor": 0,
 "worksheets": [
  {
   "cells": [
    {
     "cell_type": "heading",
     "level": 1,
     "metadata": {},
     "source": [
      "Problem 2: Butler lookup"
     ]
    },
    {
     "cell_type": "markdown",
     "metadata": {},
     "source": [
      "We import the obligatory libraries to use the buttler"
     ]
    },
    {
     "cell_type": "code",
     "collapsed": false,
     "input": [
      "import lsst.meas.astrom as measAstrom\n",
      "import lsst.daf.base as dafBase\n",
      "import lsst.pipe.base as pipeBase\n",
      "import lsst.daf.persistence as dafPersist"
     ],
     "language": "python",
     "metadata": {},
     "outputs": [],
     "prompt_number": 1
    },
    {
     "cell_type": "markdown",
     "metadata": {},
     "source": [
      "This little example just calls for a set of calexps within the butler. So far no problem..."
     ]
    },
    {
     "cell_type": "code",
     "collapsed": false,
     "input": [
      "\n",
      "DATADIR=\"/renoir_data_02/jpreyes/lsst_data/data/CFHTLS_TEST\"\n",
      "butler = dafPersist.Butler(DATADIR+\"/output\")\n",
      "butSubSet = butler.subset(\"calexp\")"
     ],
     "language": "python",
     "metadata": {},
     "outputs": [],
     "prompt_number": 2
    },
    {
     "cell_type": "markdown",
     "metadata": {},
     "source": [
      "We can create a loop to visit every exposure within the subset. "
     ]
    },
    {
     "cell_type": "code",
     "collapsed": false,
     "input": [
      "for ref in butSubSet:\n",
      " \n",
      "    if(ref.dataId.get(\"ccd\")==14):\n",
      "       exposure = butler.get(\"calexp\",ref.dataId)\n",
      "   "
     ],
     "language": "python",
     "metadata": {},
     "outputs": []
    },
    {
     "cell_type": "code",
     "collapsed": false,
     "input": [
      "dataid = {'visit': 849374, 'filter':'r' , 'ccd':14}\n",
      "srcs = butler.get(\"src\",dataid)\n",
      "sch = srcs.schema\n",
      "\n",
      "sch.getNames()"
     ],
     "language": "python",
     "metadata": {},
     "outputs": [
      {
       "metadata": {},
       "output_type": "pyout",
       "prompt_number": 9,
       "text": [
        "('calib.detected',\n",
        " 'calib.psf.candidate',\n",
        " 'calib.psf.used',\n",
        " 'centroid.gaussian',\n",
        " 'centroid.gaussian.err',\n",
        " 'centroid.gaussian.flags',\n",
        " 'centroid.naive',\n",
        " 'centroid.naive.err',\n",
        " 'centroid.naive.flags',\n",
        " 'centroid.sdss',\n",
        " 'centroid.sdss.err',\n",
        " 'centroid.sdss.flags',\n",
        " 'classification.extendedness',\n",
        " 'coord',\n",
        " 'correctfluxes.apcorr',\n",
        " 'correctfluxes.apcorr.flags',\n",
        " 'flags.badcentroid',\n",
        " 'flags.negative',\n",
        " 'flags.pixel.bad',\n",
        " 'flags.pixel.cr.any',\n",
        " 'flags.pixel.cr.center',\n",
        " 'flags.pixel.edge',\n",
        " 'flags.pixel.interpolated.any',\n",
        " 'flags.pixel.interpolated.center',\n",
        " 'flags.pixel.saturated.any',\n",
        " 'flags.pixel.saturated.center',\n",
        " 'flux.gaussian',\n",
        " 'flux.gaussian.err',\n",
        " 'flux.gaussian.flags',\n",
        " 'flux.gaussian.flags.psffactor',\n",
        " 'flux.gaussian.psffactor',\n",
        " 'flux.naive',\n",
        " 'flux.naive.err',\n",
        " 'flux.naive.flags',\n",
        " 'flux.psf',\n",
        " 'flux.psf.err',\n",
        " 'flux.psf.flags',\n",
        " 'flux.psf.flags.psffactor',\n",
        " 'flux.psf.psffactor',\n",
        " 'flux.sinc',\n",
        " 'flux.sinc.err',\n",
        " 'flux.sinc.flags',\n",
        " 'id',\n",
        " 'parent',\n",
        " 'shape.sdss',\n",
        " 'shape.sdss.centroid',\n",
        " 'shape.sdss.centroid.err',\n",
        " 'shape.sdss.centroid.flags',\n",
        " 'shape.sdss.err',\n",
        " 'shape.sdss.flags',\n",
        " 'shape.sdss.flags.maxiter',\n",
        " 'shape.sdss.flags.shift',\n",
        " 'shape.sdss.flags.unweighted',\n",
        " 'shape.sdss.flags.unweightedbad')"
       ]
      }
     ],
     "prompt_number": 9
    },
    {
     "cell_type": "markdown",
     "metadata": {},
     "source": [
      "So, now we need to deserialize the skyMap for the coaddition. We are going to send this method (present in ImageDifference) an exposure and, using the butler we are going to assemble a coaddition. The steps are simple:\n",
      "\n",
      "1. We obtain the bbox coordinates of the input exposure\n",
      "2. We look for coadditions that overlaps those coordinates\n",
      "3. We assemble a new template exposure based on the positive findinds\n",
      "\n",
      "Then we use said exposure as template and call the subtraction pipeline."
     ]
    },
    {
     "cell_type": "code",
     "collapsed": false,
     "input": [
      "import pickle\n",
      "skyMap = pickle.load(open(\"/renoir_data_02/jpreyes/lsst_data/data/CFHTLS_TEST_SUB/output/coadd_r_dir/coaddition/skymap/deepCoadd/skyMap.pickle\",\"rb\"))"
     ],
     "language": "python",
     "metadata": {},
     "outputs": []
    },
    {
     "cell_type": "markdown",
     "metadata": {},
     "source": [
      "This is the first part of this process. We just obtain the BBox and Skymap coordinates of the input exposure (this includes the patchs and the tract info)"
     ]
    },
    {
     "cell_type": "code",
     "collapsed": false,
     "input": [
      "import lsst.afw.geom as afwGeom\n",
      "import lsst.afw.image as afwImage\n",
      "\n",
      "expWcs = exposure.getWcs()\n",
      "expBoxD = afwGeom.Box2D(exposure.getBBox(afwImage.PARENT))\n",
      "#expBoxD.grow(self.config.templateBorderSize)\n",
      "expBoxD.grow(10)\n",
      "ctrSkyPos = expWcs.pixelToSky(expBoxD.getCenter())\n",
      "tractInfo = skyMap.findTract(ctrSkyPos)\n",
      "skyCorners = [expWcs.pixelToSky(pixPos) for pixPos in expBoxD.getCorners()]\n",
      "patchList = tractInfo.findPatchList(skyCorners)\n"
     ],
     "language": "python",
     "metadata": {},
     "outputs": []
    },
    {
     "cell_type": "markdown",
     "metadata": {},
     "source": [
      "As we progress, we start to define the base for the exposure to coadd which we are going to use as template. So far so good"
     ]
    },
    {
     "cell_type": "code",
     "collapsed": false,
     "input": [
      "import numpy\n",
      "coaddWcs = tractInfo.getWcs()\n",
      "coaddBBox = afwGeom.Box2D()\n",
      "for skyPos in skyCorners:\n",
      "    coaddBBox.include(coaddWcs.skyToPixel(skyPos))\n",
      "coaddBBox = afwGeom.Box2I(coaddBBox)\n",
      "\n",
      "coaddExposure = afwImage.ExposureF(coaddBBox, coaddWcs)\n",
      "edgeMask = afwImage.MaskU.getPlaneBitMask(\"EDGE\")\n",
      "coaddExposure.getMaskedImage().set(numpy.nan, edgeMask, numpy.nan)\n",
      "nPatchesFound = 0\n",
      "coaddFilter = None\n",
      "coaddPsf = None\n",
      "coaddSources = None\n"
     ],
     "language": "python",
     "metadata": {},
     "outputs": []
    },
    {
     "cell_type": "markdown",
     "metadata": {},
     "source": [
      "So, for each patch of our image, we are going to search every coadd that overlaps such coordinates. This is the current issue: when trying to ask the buttler for the deepCoadd, he answers \"<b>no such column: patch</b>\". If we try at coadd_r_dir level, we are going to find the error message: No registry to lookup (see problem 3)."
     ]
    },
    {
     "cell_type": "code",
     "collapsed": false,
     "input": [
      "\n",
      "#DATADIR_T=\"/renoir_data_02/jpreyes/lsst_data/data/CFHTLS\"\n",
      "#butler_t= dafPersist.Butler(DATADIR_T+\"/output/coadd_r_dir\")\n",
      "\n",
      "for patchInfo in patchList:\n",
      "    patchSubBBox = patchInfo.getOuterBBox()\n",
      "    patchSubBBox.clip(coaddBBox)\n",
      "    if patchSubBBox.isEmpty():\n",
      "       print(\"skip tract=%(tract)s; no overlapping pixels\" % patchArgDict)\n",
      "       continue\n",
      "\n",
      "    patchArgDict = dict(\n",
      "                bbox=patchSubBBox,\n",
      "                imageOrigin=\"PARENT\",\n",
      "                tract=tractInfo.getId(),\n",
      "                patch=\"%s,%s\" % (patchInfo.getIndex()[0], patchInfo.getIndex()[1]),\n",
      "            )\n",
      "    \n",
      "sourc\n",
      "\n",
      "butler.datasetExists(\"deepCoadd\", patchArgDict)"
     ],
     "language": "python",
     "metadata": {},
     "outputs": [
      {
       "ename": "OperationalError",
       "evalue": "no such column: patch",
       "output_type": "pyerr",
       "traceback": [
        "\u001b[1;31m---------------------------------------------------------------------------\u001b[0m\n\u001b[1;31mOperationalError\u001b[0m                          Traceback (most recent call last)",
        "\u001b[1;32m<ipython-input-102-b8a8965f4c2b>\u001b[0m in \u001b[0;36m<module>\u001b[1;34m()\u001b[0m\n\u001b[0;32m     19\u001b[0m \u001b[1;33m\u001b[0m\u001b[0m\n\u001b[0;32m     20\u001b[0m \u001b[1;33m\u001b[0m\u001b[0m\n\u001b[1;32m---> 21\u001b[1;33m \u001b[0mbutler\u001b[0m\u001b[1;33m.\u001b[0m\u001b[0mdatasetExists\u001b[0m\u001b[1;33m(\u001b[0m\u001b[1;34m\"deepCoadd\"\u001b[0m\u001b[1;33m,\u001b[0m \u001b[0mpatchArgDict\u001b[0m\u001b[1;33m)\u001b[0m\u001b[1;33m\u001b[0m\u001b[0m\n\u001b[0m",
        "\u001b[1;32m/renoir_data_00/jpreyes/stacks/v9_2_copy/Linux64/daf_persistence/9.0+7/python/lsst/daf/persistence/butler.pyc\u001b[0m in \u001b[0;36mdatasetExists\u001b[1;34m(self, datasetType, dataId, **rest)\u001b[0m\n\u001b[0;32m    185\u001b[0m \u001b[1;33m\u001b[0m\u001b[0m\n\u001b[0;32m    186\u001b[0m         \u001b[0mdataId\u001b[0m \u001b[1;33m=\u001b[0m \u001b[0mself\u001b[0m\u001b[1;33m.\u001b[0m\u001b[0m_combineDicts\u001b[0m\u001b[1;33m(\u001b[0m\u001b[0mdataId\u001b[0m\u001b[1;33m,\u001b[0m \u001b[1;33m**\u001b[0m\u001b[0mrest\u001b[0m\u001b[1;33m)\u001b[0m\u001b[1;33m\u001b[0m\u001b[0m\n\u001b[1;32m--> 187\u001b[1;33m         \u001b[0mlocation\u001b[0m \u001b[1;33m=\u001b[0m \u001b[0mself\u001b[0m\u001b[1;33m.\u001b[0m\u001b[0mmapper\u001b[0m\u001b[1;33m.\u001b[0m\u001b[0mmap\u001b[0m\u001b[1;33m(\u001b[0m\u001b[0mdatasetType\u001b[0m\u001b[1;33m,\u001b[0m \u001b[0mdataId\u001b[0m\u001b[1;33m)\u001b[0m\u001b[1;33m\u001b[0m\u001b[0m\n\u001b[0m\u001b[0;32m    188\u001b[0m         \u001b[0madditionalData\u001b[0m \u001b[1;33m=\u001b[0m \u001b[0mlocation\u001b[0m\u001b[1;33m.\u001b[0m\u001b[0mgetAdditionalData\u001b[0m\u001b[1;33m(\u001b[0m\u001b[1;33m)\u001b[0m\u001b[1;33m\u001b[0m\u001b[0m\n\u001b[0;32m    189\u001b[0m         \u001b[0mstorageName\u001b[0m \u001b[1;33m=\u001b[0m \u001b[0mlocation\u001b[0m\u001b[1;33m.\u001b[0m\u001b[0mgetStorageName\u001b[0m\u001b[1;33m(\u001b[0m\u001b[1;33m)\u001b[0m\u001b[1;33m\u001b[0m\u001b[0m\n",
        "\u001b[1;32m/renoir_data_00/jpreyes/stacks/v9_2_copy/Linux64/daf_persistence/9.0+7/python/lsst/daf/persistence/mapper.pyc\u001b[0m in \u001b[0;36mmap\u001b[1;34m(self, datasetType, dataId, write)\u001b[0m\n\u001b[0;32m    114\u001b[0m \u001b[1;33m\u001b[0m\u001b[0m\n\u001b[0;32m    115\u001b[0m         \u001b[0mfunc\u001b[0m \u001b[1;33m=\u001b[0m \u001b[0mgetattr\u001b[0m\u001b[1;33m(\u001b[0m\u001b[0mself\u001b[0m\u001b[1;33m,\u001b[0m \u001b[1;34m'map_'\u001b[0m \u001b[1;33m+\u001b[0m \u001b[0mdatasetType\u001b[0m\u001b[1;33m)\u001b[0m\u001b[1;33m\u001b[0m\u001b[0m\n\u001b[1;32m--> 116\u001b[1;33m         \u001b[1;32mreturn\u001b[0m \u001b[0mfunc\u001b[0m\u001b[1;33m(\u001b[0m\u001b[0mself\u001b[0m\u001b[1;33m.\u001b[0m\u001b[0mvalidate\u001b[0m\u001b[1;33m(\u001b[0m\u001b[0mdataId\u001b[0m\u001b[1;33m)\u001b[0m\u001b[1;33m,\u001b[0m \u001b[0mwrite\u001b[0m\u001b[1;33m)\u001b[0m\u001b[1;33m\u001b[0m\u001b[0m\n\u001b[0m\u001b[0;32m    117\u001b[0m \u001b[1;33m\u001b[0m\u001b[0m\n\u001b[0;32m    118\u001b[0m     \u001b[1;32mdef\u001b[0m \u001b[0mcanStandardize\u001b[0m\u001b[1;33m(\u001b[0m\u001b[0mself\u001b[0m\u001b[1;33m,\u001b[0m \u001b[0mdatasetType\u001b[0m\u001b[1;33m)\u001b[0m\u001b[1;33m:\u001b[0m\u001b[1;33m\u001b[0m\u001b[0m\n",
        "\u001b[1;32m/renoir_data_00/jpreyes/stacks/v9_2_copy/Linux64/daf_butlerUtils/9.0+8/python/lsst/daf/butlerUtils/cameraMapper.pyc\u001b[0m in \u001b[0;36mmapClosure\u001b[1;34m(dataId, write, mapper, mapping)\u001b[0m\n\u001b[0;32m    285\u001b[0m                         def mapClosure(dataId, write=False,\n\u001b[0;32m    286\u001b[0m                                 mapper=self, mapping=mapping):\n\u001b[1;32m--> 287\u001b[1;33m                             \u001b[1;32mreturn\u001b[0m \u001b[0mmapping\u001b[0m\u001b[1;33m.\u001b[0m\u001b[0mmap\u001b[0m\u001b[1;33m(\u001b[0m\u001b[0mmapper\u001b[0m\u001b[1;33m,\u001b[0m \u001b[0mdataId\u001b[0m\u001b[1;33m,\u001b[0m \u001b[0mwrite\u001b[0m\u001b[1;33m)\u001b[0m\u001b[1;33m\u001b[0m\u001b[0m\n\u001b[0m\u001b[0;32m    288\u001b[0m                         \u001b[0msetattr\u001b[0m\u001b[1;33m(\u001b[0m\u001b[0mself\u001b[0m\u001b[1;33m,\u001b[0m \u001b[1;34m\"map_\"\u001b[0m \u001b[1;33m+\u001b[0m \u001b[0mdatasetType\u001b[0m\u001b[1;33m,\u001b[0m \u001b[0mmapClosure\u001b[0m\u001b[1;33m)\u001b[0m\u001b[1;33m\u001b[0m\u001b[0m\n\u001b[0;32m    289\u001b[0m                     \u001b[1;32mif\u001b[0m \u001b[1;32mnot\u001b[0m \u001b[0mhasattr\u001b[0m\u001b[1;33m(\u001b[0m\u001b[0mself\u001b[0m\u001b[1;33m,\u001b[0m \u001b[1;34m\"query_\"\u001b[0m \u001b[1;33m+\u001b[0m \u001b[0mdatasetType\u001b[0m\u001b[1;33m)\u001b[0m\u001b[1;33m:\u001b[0m\u001b[1;33m\u001b[0m\u001b[0m\n",
        "\u001b[1;32m/renoir_data_00/jpreyes/stacks/v9_2_copy/Linux64/daf_butlerUtils/9.0+8/python/lsst/daf/butlerUtils/mapping.pyc\u001b[0m in \u001b[0;36mmap\u001b[1;34m(self, mapper, dataId, write)\u001b[0m\n\u001b[0;32m    116\u001b[0m         @return (lsst.daf.persistence.ButlerLocation)\"\"\"\n\u001b[0;32m    117\u001b[0m \u001b[1;33m\u001b[0m\u001b[0m\n\u001b[1;32m--> 118\u001b[1;33m         \u001b[0mactualId\u001b[0m \u001b[1;33m=\u001b[0m \u001b[0mself\u001b[0m\u001b[1;33m.\u001b[0m\u001b[0mneed\u001b[0m\u001b[1;33m(\u001b[0m\u001b[0mself\u001b[0m\u001b[1;33m.\u001b[0m\u001b[0mkeyDict\u001b[0m\u001b[1;33m.\u001b[0m\u001b[0miterkeys\u001b[0m\u001b[1;33m(\u001b[0m\u001b[1;33m)\u001b[0m\u001b[1;33m,\u001b[0m \u001b[0mdataId\u001b[0m\u001b[1;33m)\u001b[0m\u001b[1;33m\u001b[0m\u001b[0m\n\u001b[0m\u001b[0;32m    119\u001b[0m         \u001b[0mpath\u001b[0m \u001b[1;33m=\u001b[0m \u001b[0mmapper\u001b[0m\u001b[1;33m.\u001b[0m\u001b[0m_mapActualToPath\u001b[0m\u001b[1;33m(\u001b[0m\u001b[0mself\u001b[0m\u001b[1;33m.\u001b[0m\u001b[0mtemplate\u001b[0m\u001b[1;33m,\u001b[0m \u001b[0mactualId\u001b[0m\u001b[1;33m)\u001b[0m\u001b[1;33m\u001b[0m\u001b[0m\n\u001b[0;32m    120\u001b[0m         \u001b[1;32mif\u001b[0m \u001b[1;32mnot\u001b[0m \u001b[0mos\u001b[0m\u001b[1;33m.\u001b[0m\u001b[0mpath\u001b[0m\u001b[1;33m.\u001b[0m\u001b[0misabs\u001b[0m\u001b[1;33m(\u001b[0m\u001b[0mpath\u001b[0m\u001b[1;33m)\u001b[0m\u001b[1;33m:\u001b[0m\u001b[1;33m\u001b[0m\u001b[0m\n",
        "\u001b[1;32m/renoir_data_00/jpreyes/stacks/v9_2_copy/Linux64/daf_butlerUtils/9.0+8/python/lsst/daf/butlerUtils/mapping.pyc\u001b[0m in \u001b[0;36mneed\u001b[1;34m(self, properties, dataId)\u001b[0m\n\u001b[0;32m    197\u001b[0m             \u001b[1;32mreturn\u001b[0m \u001b[0mnewId\u001b[0m\u001b[1;33m\u001b[0m\u001b[0m\n\u001b[0;32m    198\u001b[0m \u001b[1;33m\u001b[0m\u001b[0m\n\u001b[1;32m--> 199\u001b[1;33m         \u001b[0mlookups\u001b[0m \u001b[1;33m=\u001b[0m \u001b[0mself\u001b[0m\u001b[1;33m.\u001b[0m\u001b[0mlookup\u001b[0m\u001b[1;33m(\u001b[0m\u001b[0mnewProps\u001b[0m\u001b[1;33m,\u001b[0m \u001b[0mnewId\u001b[0m\u001b[1;33m)\u001b[0m\u001b[1;33m\u001b[0m\u001b[0m\n\u001b[0m\u001b[0;32m    200\u001b[0m         \u001b[1;32mif\u001b[0m \u001b[0mlen\u001b[0m\u001b[1;33m(\u001b[0m\u001b[0mlookups\u001b[0m\u001b[1;33m)\u001b[0m \u001b[1;33m!=\u001b[0m \u001b[1;36m1\u001b[0m\u001b[1;33m:\u001b[0m\u001b[1;33m\u001b[0m\u001b[0m\n\u001b[0;32m    201\u001b[0m             \u001b[1;32mraise\u001b[0m \u001b[0mRuntimeError\u001b[0m\u001b[1;33m,\u001b[0m \u001b[1;34m\"No unique lookup for %s from %s: %d matches\"\u001b[0m \u001b[1;33m%\u001b[0m \u001b[1;33m(\u001b[0m\u001b[0mnewProps\u001b[0m\u001b[1;33m,\u001b[0m \u001b[0mnewId\u001b[0m\u001b[1;33m,\u001b[0m \u001b[0mlen\u001b[0m\u001b[1;33m(\u001b[0m\u001b[0mlookups\u001b[0m\u001b[1;33m)\u001b[0m\u001b[1;33m)\u001b[0m\u001b[1;33m\u001b[0m\u001b[0m\n",
        "\u001b[1;32m/renoir_data_00/jpreyes/stacks/v9_2_copy/Linux64/daf_butlerUtils/9.0+8/python/lsst/daf/butlerUtils/mapping.pyc\u001b[0m in \u001b[0;36mlookup\u001b[1;34m(self, properties, dataId)\u001b[0m\n\u001b[0;32m    166\u001b[0m             \u001b[0mvalues\u001b[0m\u001b[1;33m.\u001b[0m\u001b[0mappend\u001b[0m\u001b[1;33m(\u001b[0m\u001b[0mdataId\u001b[0m\u001b[1;33m[\u001b[0m\u001b[0mself\u001b[0m\u001b[1;33m.\u001b[0m\u001b[0mobsTimeName\u001b[0m\u001b[1;33m]\u001b[0m\u001b[1;33m)\u001b[0m\u001b[1;33m\u001b[0m\u001b[0m\n\u001b[0;32m    167\u001b[0m         return self.registry.executeQuery(properties, self.tables,\n\u001b[1;32m--> 168\u001b[1;33m                 where, self.range, values)\n\u001b[0m\u001b[0;32m    169\u001b[0m \u001b[1;33m\u001b[0m\u001b[0m\n\u001b[0;32m    170\u001b[0m     \u001b[1;32mdef\u001b[0m \u001b[0mhave\u001b[0m\u001b[1;33m(\u001b[0m\u001b[0mself\u001b[0m\u001b[1;33m,\u001b[0m \u001b[0mproperties\u001b[0m\u001b[1;33m,\u001b[0m \u001b[0mdataId\u001b[0m\u001b[1;33m)\u001b[0m\u001b[1;33m:\u001b[0m\u001b[1;33m\u001b[0m\u001b[0m\n",
        "\u001b[1;32m/renoir_data_00/jpreyes/stacks/v9_2_copy/Linux64/daf_butlerUtils/9.0+8/python/lsst/daf/butlerUtils/registries.pyc\u001b[0m in \u001b[0;36mexecuteQuery\u001b[1;34m(self, returnFields, joinClause, whereFields, range, values)\u001b[0m\n\u001b[0;32m    118\u001b[0m         \u001b[1;32mif\u001b[0m \u001b[0mlen\u001b[0m\u001b[1;33m(\u001b[0m\u001b[0mwhereList\u001b[0m\u001b[1;33m)\u001b[0m \u001b[1;33m>\u001b[0m \u001b[1;36m0\u001b[0m\u001b[1;33m:\u001b[0m\u001b[1;33m\u001b[0m\u001b[0m\n\u001b[0;32m    119\u001b[0m             \u001b[0mcmd\u001b[0m \u001b[1;33m+=\u001b[0m \u001b[1;34m\" WHERE \"\u001b[0m \u001b[1;33m+\u001b[0m \u001b[1;34m\" AND \"\u001b[0m\u001b[1;33m.\u001b[0m\u001b[0mjoin\u001b[0m\u001b[1;33m(\u001b[0m\u001b[0mwhereList\u001b[0m\u001b[1;33m)\u001b[0m\u001b[1;33m\u001b[0m\u001b[0m\n\u001b[1;32m--> 120\u001b[1;33m         \u001b[0mc\u001b[0m \u001b[1;33m=\u001b[0m \u001b[0mself\u001b[0m\u001b[1;33m.\u001b[0m\u001b[0mconn\u001b[0m\u001b[1;33m.\u001b[0m\u001b[0mexecute\u001b[0m\u001b[1;33m(\u001b[0m\u001b[0mcmd\u001b[0m\u001b[1;33m,\u001b[0m \u001b[0mvalues\u001b[0m\u001b[1;33m)\u001b[0m\u001b[1;33m\u001b[0m\u001b[0m\n\u001b[0m\u001b[0;32m    121\u001b[0m         \u001b[0mresult\u001b[0m \u001b[1;33m=\u001b[0m \u001b[1;33m[\u001b[0m\u001b[1;33m]\u001b[0m\u001b[1;33m\u001b[0m\u001b[0m\n\u001b[0;32m    122\u001b[0m         \u001b[1;32mfor\u001b[0m \u001b[0mrow\u001b[0m \u001b[1;32min\u001b[0m \u001b[0mc\u001b[0m\u001b[1;33m:\u001b[0m\u001b[1;33m\u001b[0m\u001b[0m\n",
        "\u001b[1;31mOperationalError\u001b[0m: no such column: patch"
       ]
      }
     ],
     "prompt_number": 102
    }
   ],
   "metadata": {}
  }
 ]
}