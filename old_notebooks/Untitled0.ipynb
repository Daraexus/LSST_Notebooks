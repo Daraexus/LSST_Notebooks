{
 "metadata": {
  "name": ""
 },
 "nbformat": 3,
 "nbformat_minor": 0,
 "worksheets": [
  {
   "cells": [
    {
     "cell_type": "code",
     "collapsed": false,
     "input": [
      "\n",
      "\n",
      "import lsst.meas.astrom as measAstrom\n",
      "import lsst.daf.base as dafBase\n",
      "import lsst.pipe.base as pipeBase\n",
      "import lsst.daf.persistence as dafPersist\n",
      "\n"
     ],
     "language": "python",
     "metadata": {},
     "outputs": [],
     "prompt_number": 1
    },
    {
     "cell_type": "code",
     "collapsed": false,
     "input": [
      "\n",
      "\n",
      "import lsst.afw.table as afwTable\n",
      "import lsst.afw.table\n",
      "#import lsst.meas.algorithms. as sourceDetector\n",
      "#schema = afwTable.SourceTable.makeMinimalSchema()\n",
      "#table = afwTable.SourceTable.make(afwTable.SourceTable.makeMinimalSchema())\n",
      "\n",
      "sCatalog = afwTable.SourceCatalog.readFits(\"/renoir_data_02/jpreyes/lsst_data/CFHTLS_v11/output/deepDiff/05AL01/D3/2005-06-29/r/diaSrc-800720-14.fits\")\n",
      "\n"
     ],
     "language": "python",
     "metadata": {},
     "outputs": [
      {
       "ename": "InvalidParameterError",
       "evalue": "\n  File \"src/table/Source.cc\", line 444, in static boost::shared_ptr<lsst::afw::table::SourceTable> lsst::afw::table::SourceTable::make(const lsst::afw::table::Schema&, const boost::shared_ptr<lsst::afw::table::IdFactory>&)\n    Schema for Source must contain at least the keys defined by getMinimalSchema(). {0}\nlsst::pex::exceptions::InvalidParameterError: 'Schema for Source must contain at least the keys defined by getMinimalSchema().'\n",
       "output_type": "pyerr",
       "traceback": [
        "\u001b[1;31m---------------------------------------------------------------------------\u001b[0m\n\u001b[1;31mInvalidParameterError\u001b[0m                     Traceback (most recent call last)",
        "\u001b[1;32m<ipython-input-3-ff67c8c4877d>\u001b[0m in \u001b[0;36m<module>\u001b[1;34m()\u001b[0m\n\u001b[0;32m      7\u001b[0m \u001b[1;31m#table = afwTable.SourceTable.make(afwTable.SourceTable.makeMinimalSchema())\u001b[0m\u001b[1;33m\u001b[0m\u001b[1;33m\u001b[0m\u001b[0m\n\u001b[0;32m      8\u001b[0m \u001b[1;33m\u001b[0m\u001b[0m\n\u001b[1;32m----> 9\u001b[1;33m \u001b[0msCatalog\u001b[0m \u001b[1;33m=\u001b[0m \u001b[0mafwTable\u001b[0m\u001b[1;33m.\u001b[0m\u001b[0mSourceCatalog\u001b[0m\u001b[1;33m.\u001b[0m\u001b[0mreadFits\u001b[0m\u001b[1;33m(\u001b[0m\u001b[1;34m\"/renoir_data_02/jpreyes/lsst_data/CFHTLS_v11/output/deepDiff/05AL01/D3/2005-06-29/r/diaSrc-800720-14.fits\"\u001b[0m\u001b[1;33m)\u001b[0m\u001b[1;33m\u001b[0m\u001b[0m\n\u001b[0m\u001b[0;32m     10\u001b[0m \u001b[1;33m\u001b[0m\u001b[0m\n",
        "\u001b[1;32m/renoir_data_00/jpreyes/stacks/v9_2_copy/Linux64/afw/9.2/python/lsst/afw/table/tableLib.pyc\u001b[0m in \u001b[0;36mreadFits\u001b[1;34m(*args)\u001b[0m\n\u001b[0;32m  10196\u001b[0m         \u001b[0mreadFits\u001b[0m\u001b[1;33m(\u001b[0m\u001b[0mMemFileManager\u001b[0m \u001b[0mmanager\u001b[0m\u001b[1;33m)\u001b[0m \u001b[1;33m-\u001b[0m\u001b[1;33m>\u001b[0m \u001b[0mSourceCatalog\u001b[0m\u001b[1;33m\u001b[0m\u001b[0m\n\u001b[0;32m  10197\u001b[0m         \"\"\"\n\u001b[1;32m> 10198\u001b[1;33m         \u001b[1;32mreturn\u001b[0m \u001b[0m_tableLib\u001b[0m\u001b[1;33m.\u001b[0m\u001b[0mSourceCatalog_readFits\u001b[0m\u001b[1;33m(\u001b[0m\u001b[1;33m*\u001b[0m\u001b[0margs\u001b[0m\u001b[1;33m)\u001b[0m\u001b[1;33m\u001b[0m\u001b[0m\n\u001b[0m\u001b[0;32m  10199\u001b[0m \u001b[1;33m\u001b[0m\u001b[0m\n\u001b[0;32m  10200\u001b[0m     \u001b[1;32mif\u001b[0m \u001b[0m_newclass\u001b[0m\u001b[1;33m:\u001b[0m\u001b[0mreadFits\u001b[0m \u001b[1;33m=\u001b[0m \u001b[0mstaticmethod\u001b[0m\u001b[1;33m(\u001b[0m\u001b[0mreadFits\u001b[0m\u001b[1;33m)\u001b[0m\u001b[1;33m\u001b[0m\u001b[0m\n",
        "\u001b[1;31mInvalidParameterError\u001b[0m: \n  File \"src/table/Source.cc\", line 444, in static boost::shared_ptr<lsst::afw::table::SourceTable> lsst::afw::table::SourceTable::make(const lsst::afw::table::Schema&, const boost::shared_ptr<lsst::afw::table::IdFactory>&)\n    Schema for Source must contain at least the keys defined by getMinimalSchema(). {0}\nlsst::pex::exceptions::InvalidParameterError: 'Schema for Source must contain at least the keys defined by getMinimalSchema().'\n"
       ]
      }
     ],
     "prompt_number": 3
    },
    {
     "cell_type": "code",
     "collapsed": false,
     "input": [],
     "language": "python",
     "metadata": {},
     "outputs": []
    },
    {
     "cell_type": "code",
     "collapsed": false,
     "input": [],
     "language": "python",
     "metadata": {},
     "outputs": []
    }
   ],
   "metadata": {}
  }
 ]
}