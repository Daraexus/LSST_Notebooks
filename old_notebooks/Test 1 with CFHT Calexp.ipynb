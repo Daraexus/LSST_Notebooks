{
 "metadata": {
  "name": ""
 },
 "nbformat": 3,
 "nbformat_minor": 0,
 "worksheets": [
  {
   "cells": [
    {
     "cell_type": "code",
     "collapsed": false,
     "input": [
      "dataimport lsst.afw.image as afwImage\n",
      "import lsst.afw.display.ds9 as ds9\n",
      "import lsst.afw.geom as afwGeom\n",
      "import lsst.afw.coord as afwCoord\n",
      "import numpy as np\n",
      "import os"
     ],
     "language": "python",
     "metadata": {},
     "outputs": [],
     "prompt_number": 2
    },
    {
     "cell_type": "markdown",
     "metadata": {},
     "source": [
      "Work directory declaration"
     ]
    },
    {
     "cell_type": "code",
     "collapsed": false,
     "input": [
      "DATADIR=\"/renoir_data_02/jpreyes/lsst_data/data/CFHTLS_TEST\"\n",
      "\n",
      "calexp_1 = DATADIR+'/output/calexp/08AL01/D3/2008-05-11/r/calexp-988127-14.fits'\n",
      "calexp_2 = DATADIR+'/output/calexp/08AL01/D3/2008-05-11/r/calexp-988128-14.fits'"
     ],
     "language": "python",
     "metadata": {},
     "outputs": [],
     "prompt_number": 9
    },
    {
     "cell_type": "markdown",
     "metadata": {},
     "source": [
      "Empty image creation"
     ]
    },
    {
     "cell_type": "code",
     "collapsed": false,
     "input": [
      "im = afwImage.ImageF(100, 200)\n",
      "imarr = im.getArray()"
     ],
     "language": "python",
     "metadata": {},
     "outputs": [],
     "prompt_number": 3
    },
    {
     "cell_type": "markdown",
     "metadata": {},
     "source": [
      "Mock images created (with an exposure that includes not only the masks)"
     ]
    },
    {
     "cell_type": "code",
     "collapsed": false,
     "input": [
      "foo = afwImage.MaskedImageF(calexp_1)\n",
      "goo = afwImage.MaskedImageF(calexp_2)\n",
      "exp = afwImage.ExposureF(calexp_1)\n"
     ],
     "language": "python",
     "metadata": {},
     "outputs": [],
     "prompt_number": 10
    },
    {
     "cell_type": "markdown",
     "metadata": {},
     "source": [
      "Obtaining the image variance"
     ]
    },
    {
     "cell_type": "code",
     "collapsed": false,
     "input": [
      "fim, fvar = foo.getImage().getArray(), foo.getVariance().getArray()\n",
      "gim, gvar = goo.getImage().getArray(), goo.getVariance().getArray()"
     ],
     "language": "python",
     "metadata": {},
     "outputs": [],
     "prompt_number": 11
    },
    {
     "cell_type": "markdown",
     "metadata": {},
     "source": [
      "This stores the values of the variance and colours of the image."
     ]
    },
    {
     "cell_type": "code",
     "collapsed": false,
     "input": [
      "print foo.getHeight(),foo.getWidth()\n",
      "for y in range(foo.getWidth() - 1):\n",
      "    for x in range(1, foo.getHeight()):\n",
      "        if fim[x - 1, y + 1] > fim[x, y]:\n",
      "            fim[x, y] += gim[x, y]\n",
      "            fvar[x, y] += gvar[x, y]"
     ],
     "language": "python",
     "metadata": {},
     "outputs": [
      {
       "output_type": "stream",
       "stream": "stdout",
       "text": [
        "4612 2048\n"
       ]
      }
     ],
     "prompt_number": 12
    },
    {
     "cell_type": "markdown",
     "metadata": {},
     "source": [
      "Method to transform from a 2D point on the sky to a coordinate on the image."
     ]
    },
    {
     "cell_type": "code",
     "collapsed": false,
     "input": [
      "print exp.getWcs().skyToPixel(afwCoord.Coord(afwGeom.PointD(12.4, 54.3)))"
     ],
     "language": "python",
     "metadata": {},
     "outputs": [
      {
       "output_type": "stream",
       "stream": "stdout",
       "text": [
        "(-1.0632e+13, 1.3439e+13)\n"
       ]
      }
     ],
     "prompt_number": 13
    },
    {
     "cell_type": "markdown",
     "metadata": {},
     "source": [
      "Reading of the source catalog."
     ]
    },
    {
     "cell_type": "code",
     "collapsed": false,
     "input": [
      "import lsst.afw.table as afwTable\n",
      "cat = afwTable.SourceCatalog.readFits(DATADIR+'/output/src/08AL01/D3/2008-05-11/r/SRC-988128-14.fits')"
     ],
     "language": "python",
     "metadata": {},
     "outputs": [],
     "prompt_number": 15
    },
    {
     "cell_type": "markdown",
     "metadata": {},
     "source": [
      "Centroid of sources printed on screen."
     ]
    },
    {
     "cell_type": "code",
     "collapsed": false,
     "input": [
      "i=0\n",
      "for src in cat:\n",
      "    i+=1\n",
      "    if (i<10):\n",
      "        print i,src.getCentroid()"
     ],
     "language": "python",
     "metadata": {},
     "outputs": [
      {
       "output_type": "stream",
       "stream": "stdout",
       "text": [
        "1 (557, 7)\n",
        "2 (770, 9)\n",
        "3 (1859, 6)\n",
        "4 (1973, 6)\n",
        "5 (2036, 6)\n",
        "6 (399, 14)\n",
        "7 (811, 10)\n",
        "8 (381, 12)\n",
        "9 (1224, 18)\n"
       ]
      }
     ],
     "prompt_number": 16
    },
    {
     "cell_type": "code",
     "collapsed": false,
     "input": [],
     "language": "python",
     "metadata": {},
     "outputs": []
    }
   ],
   "metadata": {}
  }
 ]
}