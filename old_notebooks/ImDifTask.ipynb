{
 "cells": [
  {
   "cell_type": "code",
   "execution_count": 195,
   "metadata": {
    "collapsed": false
   },
   "outputs": [],
   "source": [
    "\n",
    "\n",
    "import math\n",
    "import random\n",
    "import numpy\n",
    "\n",
    "import lsst.pex.config as pexConfig\n",
    "import lsst.pipe.base as pipeBase\n",
    "import lsst.daf.base as dafBase\n",
    "import lsst.afw.geom as afwGeom\n",
    "import lsst.afw.math as afwMath\n",
    "import lsst.afw.table as afwTable\n",
    "import lsst.meas.astrom as measAstrom\n",
    "from lsst.pipe.tasks.registerImage import RegisterTask\n",
    "from lsst.meas.algorithms import SourceDetectionTask, \\\n",
    "    starSelectorRegistry, PsfAttributes, SingleGaussianPsf\n",
    "from lsst.ip.diffim import ImagePsfMatchTask, DipoleMeasurementTask, DipoleAnalysis, \\\n",
    "    SourceFlagChecker, KernelCandidateF, cast_KernelCandidateF, makeKernelBasisList, \\\n",
    "    KernelCandidateQa\n",
    "#DiaCatalogSourceSelector, DiaCatalogSourceSelectorConfig\n",
    "import lsst.ip.diffim.diffimTools as diffimTools\n",
    "import lsst.ip.diffim.utils as diUtils\n",
    "import lsst.afw.display.ds9 as ds9\n",
    "import ImageSubtractionTools\n"
   ]
  },
  {
   "cell_type": "code",
   "execution_count": 203,
   "metadata": {
    "collapsed": false
   },
   "outputs": [
    {
     "name": "stdout",
     "output_type": "stream",
     "text": [
      "(42800, 24400)\n"
     ]
    }
   ],
   "source": [
    "import lsst.afw.image as afwImage\n",
    "DATADIR=\"/renoir_data_02/jpreyes/lsst_data/data/CFHTLS_TEST\"\n",
    "scienceFolder = \"subtract+0\"\n",
    "templateFolder = \"coaddition\"\n",
    "\n",
    "SciencePath = DATADIR+\"/output/coadd_r_dir/\"+scienceFolder+\"/deepCoadd/r/1/33,15.fits\"\n",
    "TemplatePath = DATADIR+\"/output/coadd_r_dir/\"+templateFolder+\"/deepCoadd/r/1/33,15.fits\"\n",
    "#SciencePath = DATADIR+\"/output/calexp/06AL01/D3/2006-05-24/r/calexp-849686-14.fits\"\n",
    "#TemplatePath = DATADIR+\"/output/calexp/06AL01/D3/2006-05-24/r/calexp-849688-14.fits\"\n",
    "\n",
    "\n",
    "DATADIR=\"/renoir_data_02/jpreyes/lsst_data/data/CFHTLS_COMPLETE\"\n",
    "scienceFolder = \"subtract+0\"\n",
    "templateFolder = \"subtract+1\"\n",
    "\n",
    "SciencePath = DATADIR+\"/output/coadd_r_dir/\"+scienceFolder+\"/deepCoadd/r/1/53,30.fits\"\n",
    "TemplatePath = DATADIR+\"/output/coadd_r_dir/\"+templateFolder+\"/deepCoadd/r/1/53,30.fits\"\n",
    "\n",
    "\n",
    "\n",
    "\n",
    "\n",
    "\n",
    "scienceExp = afwImage.ExposureF(SciencePath)\n",
    "templateExp = afwImage.ExposureF(TemplatePath)\n",
    "\n",
    "scienceExp = ImageSubtractionTools.SubtractBackground(scienceExp)\n",
    "templateExp = ImageSubtractionTools.SubtractBackground(templateExp)\n",
    "self_schema = afwTable.SourceTable.makeMinimalSchema()\n",
    "self_algMetadata = dafBase.PropertyList()\n",
    "\n",
    "import lsst.ip.diffim as ipDiffim\n",
    "config = ipDiffim.ImagePsfMatchTask.ConfigClass()\n",
    "#Kernel name is Alard-Lupton by default\n",
    "config.kernel.name = \"AL\"\n",
    "subconfig = config.kernel.active\n",
    "psfmatch = ipDiffim.ImagePsfMatchTask(config)\n",
    "\n",
    "detection = SourceDetectionTask()\n",
    "exposure = scienceExp\n",
    "sciencePsf = exposure.getPsf()\n",
    "templateExposure = templateExp\n",
    "#templateSources = template.sources  ????\n",
    "templateSources = psfmatch.getSelectSources(templateExposure)\n",
    "\n",
    "\n",
    "# compute scienceSigmaOrig: sigma of PSF of science image before pre-convolution\n",
    "ctr = afwGeom.Box2D(exposure.getBBox(afwImage.PARENT)).getCenter()\n",
    "print ctr\n",
    "psfAttr = PsfAttributes(sciencePsf, afwGeom.Point2I(ctr))\n",
    "scienceSigmaOrig = psfAttr.computeGaussianWidth(psfAttr.ADAPTIVE_MOMENT)\n",
    "\n",
    "# sigma of PSF of template image before warping\n",
    "ctr = afwGeom.Box2D(templateExposure.getBBox(afwImage.PARENT)).getCenter()\n",
    "psfAttr = PsfAttributes(templateExposure.getPsf(), afwGeom.Point2I(ctr))\n",
    "templateSigma = psfAttr.computeGaussianWidth(psfAttr.ADAPTIVE_MOMENT)\n",
    "\n",
    "# if requested, convolve the science exposure with its PSF\n",
    "# (properly, this should be a cross-correlation, but our code does not yet support that)\n",
    "# compute scienceSigmaPost: sigma of science exposure with pre-convolution, if done,\n",
    "# else sigma of original science exposure\n",
    "\n",
    "self_config_doPreConvolve = True\n",
    "self_config_useGaussianForPreConvolution = False\n",
    "\n",
    "if self_config_doPreConvolve:\n",
    "    convControl = afwMath.ConvolutionControl()\n",
    "    # cannot convolve in place, so make a new MI to receive convolved image\n",
    "    srcMI = exposure.getMaskedImage()\n",
    "    destMI = srcMI.Factory(srcMI.getDimensions())\n",
    "    srcPsf = sciencePsf\n",
    "    if self_config_useGaussianForPreConvolution:\n",
    "        # convolve with a simplified PSF model: a double Gaussian\n",
    "        kWidth, kHeight = sciencePsf.getLocalKernel().getDimensions()\n",
    "        preConvPsf = SingleGaussianPsf(kWidth, kHeight, scienceSigmaOrig)\n",
    "    else:\n",
    "        # convolve with science exposure's PSF model\n",
    "        preConvPsf = srcPsf\n",
    "    afwMath.convolve(destMI, srcMI, preConvPsf.getLocalKernel(), convControl)\n",
    "    exposure.setMaskedImage(destMI)\n",
    "    scienceSigmaPost = scienceSigmaOrig * math.sqrt(2)\n",
    "else:\n",
    "    scienceSigmaPost = scienceSigmaOrig\n",
    "#expId=18\n",
    "#expBits = 64\n",
    "#idFactory = afwTable.IdFactory.makeSource(expId, 64 - expBits)\n",
    "self_doPreConvolve= True\n",
    "selectSources = psfmatch.getSelectSources(exposure,\n",
    "                        sigma = scienceSigmaPost,\n",
    "                        doSmooth = not self_doPreConvolve,)\n",
    "#                        idFactory = idFactory,)\n",
    "\n",
    "FwhmPerSigma = 2 * math.sqrt(2 * math.log(2))\n",
    "IqrToSigma = 0.741\n",
    "nparam = len(makeKernelBasisList(psfmatch.config.kernel.active,\n",
    "            referenceFwhmPix=scienceSigmaPost * FwhmPerSigma,\n",
    "            targetFwhmPix=templateSigma * FwhmPerSigma))\n",
    "import kernelCandidateQa as qa\n",
    "kcQa = qa.KernelCandidateQa(nparam)\n",
    "selectSources = kcQa.addToSchema(selectSources)\n",
    "matches = afwTable.matchRaDec(templateSources, selectSources, 1.0*afwGeom.arcseconds,\n",
    "                                                  False)\n",
    "\n",
    "import diaCatalogSourceSelectorv92 as diaCSS\n",
    "#sourceSelector = starSelectorRegistry.makeField(\"Source selection algorithm\", default=\"diacatalog\")\n",
    "#sourceSelector = sourceSelector.diacatalog\n",
    "#hasattr(sourceSelector, 'selectStars')\n",
    "sourceSelector = diaCSS.DiaCatalogSourceSelector()\n",
    "\n",
    "\n",
    "kernelSources = sourceSelector.selectSources(exposure, selectSources, matches=matches)\n",
    "\n",
    "\n",
    "controlStepSize = 5\n",
    "random.shuffle(kernelSources, random.random)\n",
    "controlSources = kernelSources[::controlStepSize]\n",
    "kernelSources = [k for i,k in enumerate(kernelSources) if i % controlStepSize]\n",
    "\n",
    "\n",
    "#wcsResults = self.fitAstrometry(templateSources, templateExposure, selectSources)\n",
    "#register = RegisterTask(name=\"reg\")\n",
    "#wcsResults = register.run(templateSources, templateExposure.getWcs(),\n",
    "#                                    templateExposure.getBBox(), selectSources)\n",
    "\n",
    "#warpedExp = register.warpExposure(templateExposure, wcsResults.wcs,\n",
    "#                                            exposure.getWcs(), exposure.getBBox())\n",
    "#templateExposure2 = warpedExp\n",
    "convolveTemplate = False\n",
    "doUseRegister = False\n",
    "subtractRes = psfmatch.subtractExposures(\n",
    "                templateExposure=templateExposure,\n",
    "                scienceExposure=exposure,\n",
    "                candidateList=kernelSources,\n",
    "                convolveTemplate=convolveTemplate,\n",
    "                doWarping=not doUseRegister\n",
    "            )\n",
    "subtractedExposure = subtractRes.subtractedExposure\n",
    "ds9.setMaskTransparency(100)\n",
    "ds9.mtv(subtractedExposure)"
   ]
  },
  {
   "cell_type": "code",
   "execution_count": 204,
   "metadata": {
    "collapsed": false
   },
   "outputs": [
    {
     "name": "stdout",
     "output_type": "stream",
     "text": [
      "239\n"
     ]
    }
   ],
   "source": [
    "config_doPreConvolve = True\n",
    "# Erase existing detection mask planes\n",
    "mask  = subtractedExposure.getMaskedImage().getMask()\n",
    "mask &= ~(mask.getPlaneBitMask(\"DETECTED\") | mask.getPlaneBitMask(\"DETECTED_NEGATIVE\"))\n",
    "\n",
    "table = afwTable.SourceTable.make(self_schema)\n",
    "table.setMetadata(self_algMetadata)\n",
    "results = detection.makeSourceCatalog(\n",
    "    table=table,\n",
    "    exposure=subtractedExposure,\n",
    "    doSmooth=not config_doPreConvolve\n",
    ")\n",
    "\n",
    "diaSources = results.sources\n",
    "\n",
    "print len(diaSources)"
   ]
  },
  {
   "cell_type": "markdown",
   "metadata": {},
   "source": [
    "This is the method that merge all footprints too near each other. Different grow_values change the outcome"
   ]
  },
  {
   "cell_type": "code",
   "execution_count": 205,
   "metadata": {
    "collapsed": false
   },
   "outputs": [
    {
     "name": "stdout",
     "output_type": "stream",
     "text": [
      "19\n"
     ]
    }
   ],
   "source": [
    "grow_value_x = 5\n",
    "grow_value_y = 5\n",
    "\n",
    "\n",
    "fpSet = results.fpSets.positive\n",
    "fpSet.merge(results.fpSets.positive,grow_value_x ,grow_value_y, False)\n",
    "diaSources = afwTable.SourceCatalog(table)\n",
    "fpSet.makeSources(diaSources)\n",
    "print len(diaSources)"
   ]
  },
  {
   "cell_type": "code",
   "execution_count": 382,
   "metadata": {
    "collapsed": false
   },
   "outputs": [
    {
     "ename": "ValueError",
     "evalue": "Table has incorrect Schema",
     "output_type": "error",
     "traceback": [
      "\u001b[1;31m---------------------------------------------------------------------------\u001b[0m\n\u001b[1;31mValueError\u001b[0m                                Traceback (most recent call last)",
      "\u001b[1;32m<ipython-input-382-a767fde8903a>\u001b[0m in \u001b[0;36m<module>\u001b[1;34m()\u001b[0m\n\u001b[0;32m     10\u001b[0m \u001b[1;31m#table = afwTable.SourceTable.make(detectedSources.schema)\u001b[0m\u001b[1;33m\u001b[0m\u001b[1;33m\u001b[0m\u001b[0m\n\u001b[0;32m     11\u001b[0m \u001b[1;31m#table.setMetadata(algMetadata)\u001b[0m\u001b[1;33m\u001b[0m\u001b[1;33m\u001b[0m\u001b[0m\n\u001b[1;32m---> 12\u001b[1;33m \u001b[0msdTask\u001b[0m\u001b[1;33m.\u001b[0m\u001b[0mrun\u001b[0m\u001b[1;33m(\u001b[0m \u001b[0mtable\u001b[0m \u001b[1;33m=\u001b[0m \u001b[0mdiaSources\u001b[0m\u001b[1;33m.\u001b[0m\u001b[0mgetTable\u001b[0m\u001b[1;33m(\u001b[0m\u001b[1;33m)\u001b[0m\u001b[1;33m,\u001b[0m \u001b[0mexposure\u001b[0m\u001b[1;33m=\u001b[0m\u001b[0msubtractedExposure\u001b[0m\u001b[1;33m,\u001b[0m \u001b[0mdoSmooth\u001b[0m\u001b[1;33m=\u001b[0m\u001b[0mFalse\u001b[0m\u001b[1;33m)\u001b[0m\u001b[1;33m\u001b[0m\u001b[0m\n\u001b[0m\u001b[0;32m     13\u001b[0m \u001b[1;33m\u001b[0m\u001b[0m\n\u001b[0;32m     14\u001b[0m \u001b[1;33m\u001b[0m\u001b[0m\n",
      "\u001b[1;32m/renoir_data_00/jpreyes/stacks/v9_2_copy/Linux64/pipe_base/9.2/python/lsst/pipe/base/timer.pyc\u001b[0m in \u001b[0;36mwrapper\u001b[1;34m(self, *args, **keyArgs)\u001b[0m\n\u001b[0;32m    116\u001b[0m         \u001b[0mlogInfo\u001b[0m\u001b[1;33m(\u001b[0m\u001b[0mobj\u001b[0m \u001b[1;33m=\u001b[0m \u001b[0mself\u001b[0m\u001b[1;33m,\u001b[0m \u001b[0mprefix\u001b[0m \u001b[1;33m=\u001b[0m \u001b[0mfunc\u001b[0m\u001b[1;33m.\u001b[0m\u001b[0m__name__\u001b[0m \u001b[1;33m+\u001b[0m \u001b[1;34m\"Start\"\u001b[0m\u001b[1;33m)\u001b[0m\u001b[1;33m\u001b[0m\u001b[0m\n\u001b[0;32m    117\u001b[0m         \u001b[1;32mtry\u001b[0m\u001b[1;33m:\u001b[0m\u001b[1;33m\u001b[0m\u001b[0m\n\u001b[1;32m--> 118\u001b[1;33m             \u001b[0mres\u001b[0m \u001b[1;33m=\u001b[0m \u001b[0mfunc\u001b[0m\u001b[1;33m(\u001b[0m\u001b[0mself\u001b[0m\u001b[1;33m,\u001b[0m \u001b[1;33m*\u001b[0m\u001b[0margs\u001b[0m\u001b[1;33m,\u001b[0m \u001b[1;33m**\u001b[0m\u001b[0mkeyArgs\u001b[0m\u001b[1;33m)\u001b[0m\u001b[1;33m\u001b[0m\u001b[0m\n\u001b[0m\u001b[0;32m    119\u001b[0m         \u001b[1;32mfinally\u001b[0m\u001b[1;33m:\u001b[0m\u001b[1;33m\u001b[0m\u001b[0m\n\u001b[0;32m    120\u001b[0m             \u001b[0mlogInfo\u001b[0m\u001b[1;33m(\u001b[0m\u001b[0mobj\u001b[0m \u001b[1;33m=\u001b[0m \u001b[0mself\u001b[0m\u001b[1;33m,\u001b[0m \u001b[0mprefix\u001b[0m \u001b[1;33m=\u001b[0m \u001b[0mfunc\u001b[0m\u001b[1;33m.\u001b[0m\u001b[0m__name__\u001b[0m \u001b[1;33m+\u001b[0m \u001b[1;34m\"End\"\u001b[0m\u001b[1;33m)\u001b[0m\u001b[1;33m\u001b[0m\u001b[0m\n",
      "\u001b[1;32m/renoir_data_00/jpreyes/stacks/v9_2_copy/Linux64/meas_algorithms/9.2/python/lsst/meas/algorithms/detection.pyc\u001b[0m in \u001b[0;36mrun\u001b[1;34m(self, table, exposure, doSmooth, sigma, clearMask)\u001b[0m\n\u001b[0;32m    313\u001b[0m         \"\"\"\n\u001b[0;32m    314\u001b[0m         \u001b[1;32mif\u001b[0m \u001b[0mself\u001b[0m\u001b[1;33m.\u001b[0m\u001b[0mnegativeFlagKey\u001b[0m \u001b[1;32mis\u001b[0m \u001b[1;32mnot\u001b[0m \u001b[0mNone\u001b[0m \u001b[1;32mand\u001b[0m \u001b[0mself\u001b[0m\u001b[1;33m.\u001b[0m\u001b[0mnegativeFlagKey\u001b[0m \u001b[1;32mnot\u001b[0m \u001b[1;32min\u001b[0m \u001b[0mtable\u001b[0m\u001b[1;33m.\u001b[0m\u001b[0mgetSchema\u001b[0m\u001b[1;33m(\u001b[0m\u001b[1;33m)\u001b[0m\u001b[1;33m:\u001b[0m\u001b[1;33m\u001b[0m\u001b[0m\n\u001b[1;32m--> 315\u001b[1;33m             \u001b[1;32mraise\u001b[0m \u001b[0mValueError\u001b[0m\u001b[1;33m(\u001b[0m\u001b[1;34m\"Table has incorrect Schema\"\u001b[0m\u001b[1;33m)\u001b[0m\u001b[1;33m\u001b[0m\u001b[0m\n\u001b[0m\u001b[0;32m    316\u001b[0m         fpSets = self.detectFootprints(exposure=exposure, doSmooth=doSmooth, sigma=sigma,\n\u001b[0;32m    317\u001b[0m                                        clearMask=clearMask)\n",
      "\u001b[1;31mValueError\u001b[0m: Table has incorrect Schema"
     ]
    }
   ],
   "source": [
    "from  lsst.meas.algorithms import SourceMeasurementTask, SourceDetectionTask\n",
    "\n",
    "#import lsst.meas.algorithms. as sourceDetector\n",
    "schema = afwTable.SourceTable.makeMinimalSchema()\n",
    "sdTask = SourceDetectionTask()\n",
    "sdTask.__init__(schema=schema)\n",
    "\n",
    "\n",
    "#table = afwTable.SourceTable.make(afwTable.SourceTable.makeMinimalSchema())\n",
    "#table = afwTable.SourceTable.make(detectedSources.schema)\n",
    "#table.setMetadata(algMetadata)\n",
    "sdTask.run( table = diaSources.getTable(), exposure=subtractedExposure, doSmooth=False)\n",
    "\n",
    "\n",
    "\n",
    "#results = sdTask.makeSourceCatalog(table=table, exposure=subtractedExposure, doSmooth=not True)\n",
    "\n",
    "#detectedSources= results.sources\n"
   ]
  },
  {
   "cell_type": "code",
   "execution_count": null,
   "metadata": {
    "collapsed": false
   },
   "outputs": [],
   "source": []
  },
  {
   "cell_type": "code",
   "execution_count": 330,
   "metadata": {
    "collapsed": false
   },
   "outputs": [],
   "source": [
    "ds9.mtv(subtractedExposure, frame=1)\n",
    "ds9.ds9Cmd(\"zoom to fit\")\n",
    "ds9.setMaskTransparency(100)\n",
    "with ds9.Buffering():\n",
    "    for source in diaSources:\n",
    "        xs = source.getFootprint().getCentroid().getX()-subtractedExposure.getX0()\n",
    "        ys = source.getFootprint().getCentroid().getY()-subtractedExposure.getY0()\n",
    "        ds9.dot('+', xs, ys, frame=1,size=10, ctype = ds9.RED)"
   ]
  },
  {
   "cell_type": "code",
   "execution_count": 206,
   "metadata": {
    "collapsed": false
   },
   "outputs": [],
   "source": [
    "kernelCandList = []\n",
    "for cell in subtractRes.kernelCellSet.getCellList():\n",
    "    for cand in cell.begin(False): # include bad candidates\n",
    "        kernelCandList.append(cast_KernelCandidateF(cand))\n",
    "\n",
    "basisList = afwMath.cast_LinearCombinationKernel(\n",
    "kernelCandList[0].getKernel(KernelCandidateF.ORIG)).getKernelList()\n",
    "\n",
    "\n",
    "\n",
    "class myTaskConfig(pexConfig.Config):\n",
    "    s=1\n",
    "class myTask(pipeBase.CmdLineTask):\n",
    "    _DefaultName = \"hop\"\n",
    "    ConfigClass = myTaskConfig\n",
    "    def __init__(self, **kwargs):\n",
    "        pipeBase.CmdLineTask.__init__(self, **kwargs)    \n",
    "    def run(self):\n",
    "        self.hop=None\n",
    "        \n",
    "d=myTask()\n",
    "\n",
    "\n",
    "config_subtract = config\n",
    "controlCandList = \\\n",
    "                    diffimTools.sourceTableToCandidateList(controlSources, \n",
    "                                                           subtractRes.warpedExposure, exposure,\n",
    "                                                           config_subtract.kernel.active,\n",
    "                                                           config_subtract.kernel.active.detectionConfig,\n",
    "                                                           d.log, doBuild=True, basisList=basisList)\n"
   ]
  },
  {
   "cell_type": "code",
   "execution_count": 207,
   "metadata": {
    "collapsed": false
   },
   "outputs": [],
   "source": [
    "from lsst.ip.diffim import diffimLib\n",
    "\n",
    "for kernelCandidate in kernelCandList:\n",
    "     if kernelCandidate.getStatus() != afwMath.SpatialCellCandidate.UNKNOWN:\n",
    "\n",
    "         kType = getattr(diffimLib.KernelCandidateF, \"ORIG\")\n",
    "         di = kernelCandidate.getDifferenceImage(kType)\n",
    "         mask = di.getMask()\n",
    "         mask.addMaskPlane(\"NO_DATA\")"
   ]
  },
  {
   "cell_type": "code",
   "execution_count": 208,
   "metadata": {
    "collapsed": false
   },
   "outputs": [
    {
     "ename": "LengthError",
     "evalue": "\n  File \"include/lsst/afw/table/FieldBase.h\", line 343, in void lsst::afw::table::FieldBase<lsst::afw::table::Array<U> >::setValue(U*, const ndarray::Manager::Ptr&, const ndarray::ExpressionBase<Other>&) const [with Derived = ndarray::Array<const double, 1, 0>, U = double]\n    Incorrect size in array field assignment. {0}\nlsst::pex::exceptions::LengthError: 'Incorrect size in array field assignment.'\n",
     "output_type": "error",
     "traceback": [
      "\u001b[1;31m---------------------------------------------------------------------------\u001b[0m\n\u001b[1;31mLengthError\u001b[0m                               Traceback (most recent call last)",
      "\u001b[1;32m<ipython-input-208-6b737bb45d83>\u001b[0m in \u001b[0;36m<module>\u001b[1;34m()\u001b[0m\n\u001b[0;32m      1\u001b[0m kcQa.apply(kernelCandList, subtractRes.psfMatchingKernel, subtractRes.backgroundModel,\n\u001b[1;32m----> 2\u001b[1;33m                                 dof=nparam)\n\u001b[0m\u001b[0;32m      3\u001b[0m \u001b[0mkcQa\u001b[0m\u001b[1;33m.\u001b[0m\u001b[0mapply\u001b[0m\u001b[1;33m(\u001b[0m\u001b[0mcontrolCandList\u001b[0m\u001b[1;33m,\u001b[0m \u001b[0msubtractRes\u001b[0m\u001b[1;33m.\u001b[0m\u001b[0mpsfMatchingKernel\u001b[0m\u001b[1;33m,\u001b[0m \u001b[0msubtractRes\u001b[0m\u001b[1;33m.\u001b[0m\u001b[0mbackgroundModel\u001b[0m\u001b[1;33m)\u001b[0m\u001b[1;33m\u001b[0m\u001b[0m\n",
      "\u001b[1;32m/renoir_data_00/jpreyes/stacks/notebook_files/kernelCandidateQa.pyc\u001b[0m in \u001b[0;36mapply\u001b[1;34m(self, candidateList, spatialKernel, spatialBackground, dof)\u001b[0m\n\u001b[0;32m    231\u001b[0m                     \u001b[0mkey\u001b[0m \u001b[1;33m=\u001b[0m \u001b[0mschema\u001b[0m\u001b[1;33m[\u001b[0m\u001b[0mk\u001b[0m\u001b[1;33m]\u001b[0m\u001b[1;33m.\u001b[0m\u001b[0masKey\u001b[0m\u001b[1;33m(\u001b[0m\u001b[1;33m)\u001b[0m\u001b[1;33m\u001b[0m\u001b[0m\n\u001b[0;32m    232\u001b[0m                     \u001b[0msetter\u001b[0m \u001b[1;33m=\u001b[0m \u001b[0mgetattr\u001b[0m\u001b[1;33m(\u001b[0m\u001b[0msource\u001b[0m\u001b[1;33m,\u001b[0m \u001b[1;34m\"set\"\u001b[0m\u001b[1;33m+\u001b[0m\u001b[0mkey\u001b[0m\u001b[1;33m.\u001b[0m\u001b[0mgetTypeString\u001b[0m\u001b[1;33m(\u001b[0m\u001b[1;33m)\u001b[0m\u001b[1;33m)\u001b[0m\u001b[1;33m\u001b[0m\u001b[0m\n\u001b[1;32m--> 233\u001b[1;33m                     \u001b[0msetter\u001b[0m\u001b[1;33m(\u001b[0m\u001b[0mkey\u001b[0m\u001b[1;33m,\u001b[0m \u001b[0mmetrics\u001b[0m\u001b[1;33m[\u001b[0m\u001b[0mk\u001b[0m\u001b[1;33m]\u001b[0m\u001b[1;33m)\u001b[0m\u001b[1;33m\u001b[0m\u001b[0m\n\u001b[0m\u001b[0;32m    234\u001b[0m             \u001b[1;32melse\u001b[0m\u001b[1;33m:\u001b[0m\u001b[1;33m\u001b[0m\u001b[0m\n\u001b[0;32m    235\u001b[0m                 \u001b[1;32mtry\u001b[0m\u001b[1;33m:\u001b[0m\u001b[1;33m\u001b[0m\u001b[0m\n",
      "\u001b[1;32m/renoir_data_00/jpreyes/stacks/v9_2_copy/Linux64/afw/9.2/python/lsst/afw/table/tableLib.pyc\u001b[0m in \u001b[0;36msetArrayD\u001b[1;34m(self, *args)\u001b[0m\n\u001b[0;32m   2600\u001b[0m     \u001b[1;32mdef\u001b[0m \u001b[0msetArrayD\u001b[0m\u001b[1;33m(\u001b[0m\u001b[0mself\u001b[0m\u001b[1;33m,\u001b[0m \u001b[1;33m*\u001b[0m\u001b[0margs\u001b[0m\u001b[1;33m)\u001b[0m\u001b[1;33m:\u001b[0m\u001b[1;33m\u001b[0m\u001b[0m\n\u001b[0;32m   2601\u001b[0m         \u001b[1;34m\"\"\"setArrayD(BaseRecord self, Key_ArrayD key, ndarray::Array< double const,1 > const & v)\"\"\"\u001b[0m\u001b[1;33m\u001b[0m\u001b[0m\n\u001b[1;32m-> 2602\u001b[1;33m         \u001b[1;32mreturn\u001b[0m \u001b[0m_tableLib\u001b[0m\u001b[1;33m.\u001b[0m\u001b[0mBaseRecord_setArrayD\u001b[0m\u001b[1;33m(\u001b[0m\u001b[0mself\u001b[0m\u001b[1;33m,\u001b[0m \u001b[1;33m*\u001b[0m\u001b[0margs\u001b[0m\u001b[1;33m)\u001b[0m\u001b[1;33m\u001b[0m\u001b[0m\n\u001b[0m\u001b[0;32m   2603\u001b[0m \u001b[1;33m\u001b[0m\u001b[0m\n\u001b[0;32m   2604\u001b[0m     \u001b[1;32mdef\u001b[0m \u001b[0m__getitem__\u001b[0m\u001b[1;33m(\u001b[0m\u001b[0mself\u001b[0m\u001b[1;33m,\u001b[0m \u001b[1;33m*\u001b[0m\u001b[0margs\u001b[0m\u001b[1;33m)\u001b[0m\u001b[1;33m:\u001b[0m\u001b[1;33m\u001b[0m\u001b[0m\n",
      "\u001b[1;31mLengthError\u001b[0m: \n  File \"include/lsst/afw/table/FieldBase.h\", line 343, in void lsst::afw::table::FieldBase<lsst::afw::table::Array<U> >::setValue(U*, const ndarray::Manager::Ptr&, const ndarray::ExpressionBase<Other>&) const [with Derived = ndarray::Array<const double, 1, 0>, U = double]\n    Incorrect size in array field assignment. {0}\nlsst::pex::exceptions::LengthError: 'Incorrect size in array field assignment.'\n"
     ]
    }
   ],
   "source": [
    "kcQa.apply(kernelCandList, subtractRes.psfMatchingKernel, subtractRes.backgroundModel,\n",
    "                                dof=nparam)\n",
    "kcQa.apply(controlCandList, subtractRes.psfMatchingKernel, subtractRes.backgroundModel)"
   ]
  },
  {
   "cell_type": "code",
   "execution_count": 202,
   "metadata": {
    "collapsed": false
   },
   "outputs": [
    {
     "data": {
      "text/plain": [
       "(array([ 35.,   0.,   1.,   2.,   0.,   0.,   0.,   0.,   0.,   1.]),\n",
       " array([  2.17362456e-02,   7.37112741e+00,   1.47205186e+01,\n",
       "         2.20699097e+01,   2.94193009e+01,   3.67686921e+01,\n",
       "         4.41180832e+01,   5.14674744e+01,   5.88168656e+01,\n",
       "         6.61662567e+01,   7.35156479e+01]),\n",
       " <a list of 10 Patch objects>)"
      ]
     },
     "execution_count": 202,
     "metadata": {},
     "output_type": "execute_result"
    },
    {
     "data": {
      "image/png": "[encoded data removed]",
      "text/plain": [
       "<matplotlib.figure.Figure at 0x24e3fb50>"
      ]
     },
     "metadata": {},
     "output_type": "display_data"
    }
   ],
   "source": [
    "%matplotlib inline\n",
    "import matplotlib.pyplot as plt\n",
    "kc1 =[]\n",
    "for k in kernelCandList:\n",
    "    kc = k.getSource()['KCDiffimMseResids_LOCAL']\n",
    "    if not math.isnan(kc):\n",
    "        kc1.append(kc)\n",
    "kc1    \n",
    "plt.hist(kc1)"
   ]
  },
  {
   "cell_type": "code",
   "execution_count": 335,
   "metadata": {
    "collapsed": false
   },
   "outputs": [
    {
     "data": {
      "text/plain": [
       "(array([ 26.,   5.,   2.,   1.,   1.,   1.,   2.,   0.,   0.,   1.]),\n",
       " array([ 0.15164594,  0.76674978,  1.38185362,  1.99695745,  2.61206129,\n",
       "        3.22716513,  3.84226896,  4.4573728 ,  5.07247663,  5.68758047,\n",
       "        6.30268431]),\n",
       " <a list of 10 Patch objects>)"
      ]
     },
     "execution_count": 335,
     "metadata": {},
     "output_type": "execute_result"
    },
    {
     "data": {
      "image/png": "[encoded data removed]",
      "text/plain": [
       "<matplotlib.figure.Figure at 0x73acd50>"
      ]
     },
     "metadata": {},
     "output_type": "display_data"
    }
   ],
   "source": [
    "%matplotlib inline\n",
    "import matplotlib.pyplot as plt\n",
    "kc1 =[]\n",
    "for k in kernelCandList:\n",
    "    kc = k.getSource()['KCDiffimStDev_LOCAL']\n",
    "    if not math.isnan(kc):\n",
    "        kc1.append(kc)\n",
    "kc1    \n",
    "plt.hist(kc1)"
   ]
  },
  {
   "cell_type": "code",
   "execution_count": 336,
   "metadata": {
    "collapsed": false
   },
   "outputs": [
    {
     "data": {
      "text/plain": [
       "(array([ 33.,   2.,   1.,   0.,   2.,   0.,   0.,   0.,   0.,   1.]),\n",
       " array([  2.65099462e-02,   5.09342453e+00,   1.01603391e+01,\n",
       "         1.52272537e+01,   2.02941683e+01,   2.53610829e+01,\n",
       "         3.04279975e+01,   3.54949121e+01,   4.05618266e+01,\n",
       "         4.56287412e+01,   5.06956558e+01]),\n",
       " <a list of 10 Patch objects>)"
      ]
     },
     "execution_count": 336,
     "metadata": {},
     "output_type": "execute_result"
    },
    {
     "data": {
      "image/png": "[encoded data removed]",
      "text/plain": [
       "<matplotlib.figure.Figure at 0x7411910>"
      ]
     },
     "metadata": {},
     "output_type": "display_data"
    }
   ],
   "source": [
    "%matplotlib inline\n",
    "import matplotlib.pyplot as plt\n",
    "kc1 =[]\n",
    "for k in kernelCandList:\n",
    "    kc = k.getSource()['KCDiffimChiSq_LOCAL']\n",
    "    if not math.isnan(kc):\n",
    "        kc1.append(kc)\n",
    "kc1    \n",
    "plt.hist(kc1)"
   ]
  },
  {
   "cell_type": "code",
   "execution_count": 370,
   "metadata": {
    "collapsed": false
   },
   "outputs": [
    {
     "name": "stdout",
     "output_type": "stream",
     "text": [
      "Schema(\n",
      "    (Field['L'](name=\"id\", doc=\"unique ID\"), Key<L>(offset=0, nElements=1)),\n",
      "    (Field['Coord'](name=\"coord\", doc=\"position in ra/dec\", units=\"IRCS; radians\"), Key<Coord>(offset=8, nElements=2)),\n",
      "    (Field['L'](name=\"parent\", doc=\"unique ID of parent source\"), Key<L>(offset=24, nElements=1)),\n",
      "    (Field['Flag'](name=\"flags.negative\", doc=\"set if source was detected as significantly negative\"), Key['Flag'](offset=32, bit=0)),\n",
      "    (Field['Flag'](name=\"flags.badcentroid\", doc=\"the centroid algorithm used to feed centers to other algorithms failed\"), Key['Flag'](offset=32, bit=1)),\n",
      "    (Field['PointD'](name=\"centroid.sdss\", doc=\"SDSS-algorithm centroid measurement\", units=\"pixels\"), Key<PointD>(offset=40, nElements=2)),\n",
      "    (Field['CovPointF'](name=\"centroid.sdss.err\", doc=\"covariance matrix for centroid.sdss\", units=\"pixels^2\"), Key<CovPointF>(offset=56, nElements=3)),\n",
      "    (Field['Flag'](name=\"centroid.sdss.flags\", doc=\"set if the centroid.sdss measurement did not fully succeed\"), Key['Flag'](offset=32, bit=2)),\n",
      "    (Field['Flag'](name=\"flags.pixel.edge\", doc=\"source is in region labeled EDGE\"), Key['Flag'](offset=32, bit=3)),\n",
      "    (Field['Flag'](name=\"flags.pixel.interpolated.any\", doc=\"source's footprint includes interpolated pixels\"), Key['Flag'](offset=32, bit=4)),\n",
      "    (Field['Flag'](name=\"flags.pixel.interpolated.center\", doc=\"source's center is close to interpolated pixels\"), Key['Flag'](offset=32, bit=5)),\n",
      "    (Field['Flag'](name=\"flags.pixel.saturated.any\", doc=\"source's footprint includes saturated pixels\"), Key['Flag'](offset=32, bit=6)),\n",
      "    (Field['Flag'](name=\"flags.pixel.saturated.center\", doc=\"source's center is close to saturated pixels\"), Key['Flag'](offset=32, bit=7)),\n",
      "    (Field['Flag'](name=\"flags.pixel.cr.any\", doc=\"source's footprint includes suspected CR pixels\"), Key['Flag'](offset=32, bit=8)),\n",
      "    (Field['Flag'](name=\"flags.pixel.cr.center\", doc=\"source's center is close to suspected CR pixels\"), Key['Flag'](offset=32, bit=9)),\n",
      "    (Field['Flag'](name=\"flags.pixel.bad\", doc=\"source is in region labeled BAD\"), Key['Flag'](offset=32, bit=10)),\n",
      "    (Field['MomentsD'](name=\"shape.sdss\", doc=\"shape measured with SDSS adaptive moment algorithm\", units=\"pixels^2\"), Key<MomentsD>(offset=72, nElements=3)),\n",
      "    (Field['CovMomentsF'](name=\"shape.sdss.err\", doc=\"covariance matrix for shape.sdss\", units=\"pixels^4\"), Key<CovMomentsF>(offset=96, nElements=6)),\n",
      "    (Field['Flag'](name=\"shape.sdss.flags\", doc=\"set if the shape.sdss measurement failed\"), Key['Flag'](offset=32, bit=11)),\n",
      "    (Field['PointD'](name=\"shape.sdss.centroid\", doc=\"centroid measured with SDSS adaptive moment shape algorithm\", units=\"pixels\"), Key<PointD>(offset=120, nElements=2)),\n",
      "    (Field['CovPointF'](name=\"shape.sdss.centroid.err\", doc=\"covariance matrix for shape.sdss.centroid\", units=\"pixels^2\"), Key<CovPointF>(offset=136, nElements=3)),\n",
      "    (Field['Flag'](name=\"shape.sdss.centroid.flags\", doc=\"set if the shape.sdss.centroid measurement did not fully succeed\"), Key['Flag'](offset=32, bit=12)),\n",
      "    (Field['Flag'](name=\"shape.sdss.flags.unweightedbad\", doc=\"even the unweighted moments were bad\"), Key['Flag'](offset=32, bit=13)),\n",
      "    (Field['Flag'](name=\"shape.sdss.flags.unweighted\", doc=\"adaptive moments failed; fall back to unweighted moments\"), Key['Flag'](offset=32, bit=14)),\n",
      "    (Field['Flag'](name=\"shape.sdss.flags.shift\", doc=\"centroid shifted while estimating adaptive moments\"), Key['Flag'](offset=32, bit=15)),\n",
      "    (Field['Flag'](name=\"shape.sdss.flags.maxiter\", doc=\"too many iterations for adaptive moments\"), Key['Flag'](offset=32, bit=16)),\n",
      "    (Field['D'](name=\"flux.gaussian\", doc=\"linear fit to an elliptical Gaussian with shape parameters set by adaptive moments\", units=\"dn\"), Key<D>(offset=152, nElements=1)),\n",
      "    (Field['D'](name=\"flux.gaussian.err\", doc=\"uncertainty for flux.gaussian\", units=\"dn\"), Key<D>(offset=160, nElements=1)),\n",
      "    (Field['Flag'](name=\"flux.gaussian.flags\", doc=\"set if the flux.gaussian measurement failed\"), Key['Flag'](offset=32, bit=17)),\n",
      "    (Field['F'](name=\"flux.gaussian.psffactor\", doc=\"'flux' from applying the algorithm to the PSF model\"), Key<F>(offset=168, nElements=1)),\n",
      "    (Field['Flag'](name=\"flux.gaussian.flags.psffactor\", doc=\"set if the algorithm could not be applied to the PSF model\"), Key['Flag'](offset=32, bit=18)),\n",
      "    (Field['D'](name=\"flux.psf\", doc=\"flux measured by a fit to the PSF model\", units=\"dn\"), Key<D>(offset=176, nElements=1)),\n",
      "    (Field['D'](name=\"flux.psf.err\", doc=\"uncertainty for flux.psf\", units=\"dn\"), Key<D>(offset=184, nElements=1)),\n",
      "    (Field['Flag'](name=\"flux.psf.flags\", doc=\"set if the flux.psf measurement failed\"), Key['Flag'](offset=32, bit=19)),\n",
      "    (Field['F'](name=\"flux.psf.psffactor\", doc=\"'flux' from applying the algorithm to the PSF model\"), Key<F>(offset=192, nElements=1)),\n",
      "    (Field['Flag'](name=\"flux.psf.flags.psffactor\", doc=\"set if the algorithm could not be applied to the PSF model\"), Key['Flag'](offset=32, bit=20)),\n",
      "    (Field['PointD'](name=\"RegisterRefPosition\", doc=\"Position of reference object for registration (radians).\"), Key<PointD>(offset=208, nElements=2)),\n",
      "    (Field['Angle'](name=\"RegisterResidualBearing\", doc=\"Angle of residual wrt declination parallel in radians\"), Key<Angle>(offset=224, nElements=1)),\n",
      "    (Field['Angle'](name=\"RegisterResidualDistance\", doc=\"Offset of residual in radians\"), Key<Angle>(offset=232, nElements=1)),\n",
      "    (Field['F'](name=\"KCKernelCentX_LOCAL\", doc=\"Centroid in X for this Kernel\", units=\"pixels\"), Key<F>(offset=240, nElements=1)),\n",
      "    (Field['F'](name=\"KCKernelStdY_LOCAL\", doc=\"Standard deviation in Y for this Kernel\", units=\"pixels\"), Key<F>(offset=244, nElements=1)),\n",
      "    (Field['F'](name=\"KCDiffimMedian_LOCAL\", doc=\"Median of KernelCandidate diffim\", units=\"sigma\"), Key<F>(offset=248, nElements=1)),\n",
      "    (Field['F'](name=\"KCDiffimChiSq_LOCAL\", doc=\"Reduced chi^2 of the residual.\", units=\"likelihood\"), Key<F>(offset=252, nElements=1)),\n",
      "    (Field['F'](name=\"KCDiffimIQR_LOCAL\", doc=\"Inner quartile range of KernelCandidate diffim\", units=\"sigma\"), Key<F>(offset=256, nElements=1)),\n",
      "    (Field['F'](name=\"KCDiffimKSD_LOCAL\", doc=\"D from K-S test of diffim pixels relative to Normal\"), Key<F>(offset=260, nElements=1)),\n",
      "    (Field['I'](name=\"KernelCandidateId_LOCAL\", doc=\"Id for this KernelCandidate\"), Key<I>(offset=264, nElements=1)),\n",
      "    (Field['F'](name=\"KCKernelStdX_LOCAL\", doc=\"Standard deviation in X for this Kernel\", units=\"pixels\"), Key<F>(offset=268, nElements=1)),\n",
      "    (Field['ArrayD'](name=\"KCDiffimADCrit_LOCAL\", doc=\"Critical values for the significance levels in KCDiffimADSig.  If A2 is greater than this number, hypothesis that the distributions are similar can be rejected.\", size=5), Key<ArrayD>(offset=272, nElements=5)),\n",
      "    (Field['F'](name=\"KCDiffimADA2_LOCAL\", doc=\"Anderson-Darling test statistic of diffim pixels relative to Normal\"), Key<F>(offset=312, nElements=1)),\n",
      "    (Field['F'](name=\"KCDiffimMean_LOCAL\", doc=\"Mean of KernelCandidate diffim\", units=\"sigma\"), Key<F>(offset=316, nElements=1)),\n",
      "    (Field['F'](name=\"KCDiffimStDev_LOCAL\", doc=\"Standard deviation of KernelCandidate diffim\", units=\"sigma\"), Key<F>(offset=320, nElements=1)),\n",
      "    (Field['ArrayD'](name=\"KCDiffimADSig_LOCAL\", doc=\"Anderson-Darling significance levels for the Normal distribution\", size=5), Key<ArrayD>(offset=328, nElements=5)),\n",
      "    (Field['F'](name=\"KCKernelCentY_LOCAL\", doc=\"Centroid in Y for this Kernel\", units=\"pixels\"), Key<F>(offset=368, nElements=1)),\n",
      "    (Field['F'](name=\"KCDiffimKSProb_LOCAL\", doc=\"Prob from K-S test of diffim pixels relative to Normal\", units=\"likelihood\"), Key<F>(offset=372, nElements=1)),\n",
      "    (Field['F'](name=\"KCDiffimMseResids_LOCAL\", doc=\"Mean squared error in diffim : Variance + Bias**2\"), Key<F>(offset=376, nElements=1)),\n",
      "    (Field['F'](name=\"KCKernelCentX_SPATIAL\", doc=\"Centroid in X for this Kernel\", units=\"pixels\"), Key<F>(offset=380, nElements=1)),\n",
      "    (Field['F'](name=\"KCKernelStdY_SPATIAL\", doc=\"Standard deviation in Y for this Kernel\", units=\"pixels\"), Key<F>(offset=384, nElements=1)),\n",
      "    (Field['F'](name=\"KCDiffimMedian_SPATIAL\", doc=\"Median of KernelCandidate diffim\", units=\"sigma\"), Key<F>(offset=388, nElements=1)),\n",
      "    (Field['F'](name=\"KCDiffimChiSq_SPATIAL\", doc=\"Reduced chi^2 of the residual.\", units=\"likelihood\"), Key<F>(offset=392, nElements=1)),\n",
      "    (Field['F'](name=\"KCDiffimIQR_SPATIAL\", doc=\"Inner quartile range of KernelCandidate diffim\", units=\"sigma\"), Key<F>(offset=396, nElements=1)),\n",
      "    (Field['F'](name=\"KCDiffimKSD_SPATIAL\", doc=\"D from K-S test of diffim pixels relative to Normal\"), Key<F>(offset=400, nElements=1)),\n",
      "    (Field['I'](name=\"KernelCandidateId_SPATIAL\", doc=\"Id for this KernelCandidate\"), Key<I>(offset=404, nElements=1)),\n",
      "    (Field['F'](name=\"KCKernelStdX_SPATIAL\", doc=\"Standard deviation in X for this Kernel\", units=\"pixels\"), Key<F>(offset=408, nElements=1)),\n",
      "    (Field['ArrayD'](name=\"KCDiffimADCrit_SPATIAL\", doc=\"Critical values for the significance levels in KCDiffimADSig.  If A2 is greater than this number, hypothesis that the distributions are similar can be rejected.\", size=5), Key<ArrayD>(offset=416, nElements=5)),\n",
      "    (Field['F'](name=\"KCDiffimADA2_SPATIAL\", doc=\"Anderson-Darling test statistic of diffim pixels relative to Normal\"), Key<F>(offset=456, nElements=1)),\n",
      "    (Field['F'](name=\"KCDiffimMean_SPATIAL\", doc=\"Mean of KernelCandidate diffim\", units=\"sigma\"), Key<F>(offset=460, nElements=1)),\n",
      "    (Field['F'](name=\"KCDiffimStDev_SPATIAL\", doc=\"Standard deviation of KernelCandidate diffim\", units=\"sigma\"), Key<F>(offset=464, nElements=1)),\n",
      "    (Field['ArrayD'](name=\"KCDiffimADSig_SPATIAL\", doc=\"Anderson-Darling significance levels for the Normal distribution\", size=5), Key<ArrayD>(offset=472, nElements=5)),\n",
      "    (Field['F'](name=\"KCKernelCentY_SPATIAL\", doc=\"Centroid in Y for this Kernel\", units=\"pixels\"), Key<F>(offset=512, nElements=1)),\n",
      "    (Field['F'](name=\"KCDiffimKSProb_SPATIAL\", doc=\"Prob from K-S test of diffim pixels relative to Normal\", units=\"likelihood\"), Key<F>(offset=516, nElements=1)),\n",
      "    (Field['F'](name=\"KCDiffimMseResids_SPATIAL\", doc=\"Mean squared error in diffim : Variance + Bias**2\"), Key<F>(offset=520, nElements=1)),\n",
      "    (Field['I'](name=\"KCKernelStatus_LOCAL\", doc=\"Status of the KernelCandidate\"), Key<I>(offset=524, nElements=1)),\n",
      "    (Field['ArrayD'](name=\"KernelCoeffValues_LOCAL\", doc=\"Original basis coefficients\", size=27), Key<ArrayD>(offset=528, nElements=27)),\n",
      "    (Field['F'](name=\"BackgroundValue_LOCAL\", doc=\"Evaluation of background model at this point\"), Key<F>(offset=744, nElements=1)),\n",
      "    (Field['F'](name=\"KCDiffimMseKernel_SPATIAL\", doc=\"Mean squared error of spatial kernel estimate\"), Key<F>(offset=748, nElements=1)),\n",
      ")\n",
      "\n"
     ]
    }
   ],
   "source": []
  },
  {
   "cell_type": "code",
   "execution_count": 94,
   "metadata": {
    "collapsed": false
   },
   "outputs": [],
   "source": [
    "import lsst.afw.display.utils as displayUtils\n",
    "import numpy as np\n",
    "diaSourcesList = []\n",
    "mos = displayUtils.Mosaic()\n",
    "\n",
    "for source  in  diaSources:\n",
    "    diaSourcesList.append(source)\n",
    "    bbox = source.getFootprint().getBBox()\n",
    "    Begin = afwGeom.Point2I(bbox.getBeginX(), bbox.getBeginY())\n",
    "\n",
    "    End = afwGeom.Point2I(bbox.getEndX(), bbox.getEndY())\n",
    "\n",
    "    ExpOrig = afwGeom.Point2I(subtractedExposure.getX0()-1, subtractedExposure.getY0()-1)\n",
    " \n",
    "    correctedBegin = bbox.getBegin()- ExpOrig\n",
    "    correctedEnd = bbox.getEnd() - ExpOrig\n",
    "\n",
    "    correctedBegin= afwGeom.Point2I(correctedBegin.getX()-20,correctedBegin.getY()-20 )\n",
    "    correctedEnd = afwGeom.Point2I(correctedEnd.getX()+20,correctedEnd.getY()+20 )\n",
    "    \n",
    "    \n",
    "    \n",
    "    bboxT = afwGeom.Box2I(correctedBegin,correctedEnd)\n",
    "    \n",
    "    #print bboxT.toString\n",
    "\n",
    "    stamp = exposure.Factory(subtractedExposure,bboxT, True)\n",
    "    stamp2 = exposure.Factory(scienceExp,bboxT, True)\n",
    "    \n",
    "    var = subtractedExposure.getMaskedImage().getVariance()\n",
    "    var = var.Factory(var, True)\n",
    "    np.sqrt(var.getArray(), var.getArray())\n",
    "       \n",
    "       \n",
    "        \n",
    "    sub_exp = subtractedExposure.getMaskedImage().getImage()\n",
    "    sub_exp = sub_exp.Factory(sub_exp, True)\n",
    "    \n",
    "    sc_exp = scienceExp.getMaskedImage().getImage()\n",
    "    sc_exp = sc_exp.Factory(sc_exp, True)\n",
    "    \n",
    "    MinValSub= np.inf\n",
    "    MaxValSub= -np.inf\n",
    "    MinValSc= np.inf\n",
    "    MaxValSc= -np.inf\n",
    "    SumSub = 0\n",
    "    SumSc = 0\n",
    "    \n",
    "    for i in range(0,sc_exp.getHeight()):\n",
    "        for j in range(0, sc_exp.getWidth()):\n",
    "                if (MinValSc > sc_exp.get(i,j)):\n",
    "                    MinValSc = sc_exp.get(i,j)\n",
    "                if (MaxValSc < sc_exp.get(i,j)):\n",
    "                    MaxValSc = sc_exp.get(i,j)\n",
    "                if (MinValSub > sub_exp.get(i,j)):\n",
    "                    MinValSub = sub_exp.get(i,j)\n",
    "                if (MaxValSub < sub_exp.get(i,j)):\n",
    "                    MaxValSub = sub_exp.get(i,j)\n",
    "                    \n",
    "                SumSub += sc_exp.get(i,j)\n",
    "                SumSc += sub_exp.get(i,j)\n",
    "                \n",
    "    total = sc_exp.getHeight()*sc_exp.getWidth()\n",
    "\n",
    "                    \n",
    "    ScRange = MaxValSc - MinValSc\n",
    "    SubRange = MaxValSub - MinValSub\n",
    "   \n",
    "    for i in range(0,sub_exp.getHeight()):\n",
    "        for j in range(0, sub_exp.getWidth()):\n",
    "            sub_exp.set(i,j, sub_exp.get(i,j)-MinValSub) \n",
    "\n",
    "    stamp = sub_exp.Factory(sub_exp, bboxT, True)\n",
    "    \n",
    "    \n",
    "    var = scienceExp.getMaskedImage().getVariance()\n",
    "    var = var.Factory(var, True)\n",
    "    np.sqrt(var.getArray(), var.getArray())\n",
    "       \n",
    "       \n",
    "        \n",
    " \n",
    "       \n",
    "    stamp2 = sc_exp.Factory(sc_exp, bboxT, True)\n",
    "    \n",
    "    im = displayUtils.Mosaic(gutter=0, background=0, mode=\"x\")\n",
    "    \n",
    "    im.append(stamp)\n",
    "   # im.append(stamp)\n",
    "   # im.append(stamp2.getMaskedImage().getImage())\n",
    "    im.append(stamp2)\n",
    "    mos.append(im.makeMosaic())\n",
    "\n",
    "\n",
    "\n",
    "mosaicImage = mos.makeMosaic(frame=1, title=\"mosaic\")\n",
    "\n",
    "#ds9.setMaskTransparency(100)\n",
    "#ds9.mtv(mosaicImage)\n",
    "#ds9.mtv(subtractedExposure, frame=2)"
   ]
  },
  {
   "cell_type": "code",
   "execution_count": 94,
   "metadata": {
    "collapsed": false
   },
   "outputs": [],
   "source": [
    ".mos2 = displayUtils.Mosaic()\n",
    "mos2.append(mosaicImage)\n",
    "mos2.append(mosaicImage)\n",
    "mosaicImage2 = mos2.makeMosaic(frame=1, title=\"mosaic\")\n",
    "\n",
    "ds9.mtv(mosaicImage2)\n"
   ]
  },
  {
   "cell_type": "code",
   "execution_count": 372,
   "metadata": {
    "collapsed": false
   },
   "outputs": [],
   "source": [
    "ds9.mtv(subtractedExposure, frame=1)\n",
    "ds9.ds9Cmd(\"zoom to fit\")\n",
    "ds9.setMaskTransparency(100)\n",
    "with ds9.Buffering():\n",
    "    for source in diaSources:\n",
    "        xs = source.getFootprint().getCentroid().getX()-subtractedExposure.getX0()\n",
    "        ys = source.getFootprint().getCentroid().getY()-subtractedExposure.getY0()\n",
    "        ds9.dot('+', xs, ys, frame=1,size=10, ctype = ds9.RED)\n",
    "\n",
    "#ImageViewer.saveRemoteImage(\"subtractedExp.png\")"
   ]
  },
  {
   "cell_type": "code",
   "execution_count": 83,
   "metadata": {
    "collapsed": false
   },
   "outputs": [
    {
     "data": {
      "text/plain": [
       "<bound method ExposureF.Factory of <lsst.afw.image.imageLib.ExposureF; proxy of <Swig Object of type 'boost::shared_ptr< lsst::afw::image::Exposure< float,lsst::afw::image::MaskPixel,lsst::afw::image::VariancePixel > > *' at 0x4bf4b70> >>"
      ]
     },
     "execution_count": 83,
     "metadata": {},
     "output_type": "execute_result"
    }
   ],
   "source": [
    "subtractedExposure.Factory"
   ]
  },
  {
   "cell_type": "code",
   "execution_count": 340,
   "metadata": {
    "collapsed": false
   },
   "outputs": [
    {
     "ename": "NotFoundError",
     "evalue": "\n  File \"src/table/Schema.cc\", line 233, in lsst::afw::table::SchemaItem<T> lsst::afw::table::detail::SchemaImpl::find(const std::string&) const [with T = lsst::afw::table::Point<double>]\n    Field or subfield withname 'centroid.sdss' not found with type 'PointD'. {0}\nlsst::pex::exceptions::NotFoundError: 'Field or subfield withname 'centroid.sdss' not found with type 'PointD'.'\n",
     "output_type": "error",
     "traceback": [
      "\u001b[1;31m---------------------------------------------------------------------------\u001b[0m\n\u001b[1;31mNotFoundError\u001b[0m                             Traceback (most recent call last)",
      "\u001b[1;32m<ipython-input-340-837e997b8586>\u001b[0m in \u001b[0;36m<module>\u001b[1;34m()\u001b[0m\n\u001b[0;32m     13\u001b[0m \u001b[1;32mprint\u001b[0m \u001b[0mdipTask\u001b[0m\u001b[1;33m.\u001b[0m\u001b[0m_ClassificationFlag\u001b[0m\u001b[1;33m\u001b[0m\u001b[0m\n\u001b[0;32m     14\u001b[0m \u001b[1;33m\u001b[0m\u001b[0m\n\u001b[1;32m---> 15\u001b[1;33m \u001b[0mdipTask\u001b[0m\u001b[1;33m.\u001b[0m\u001b[0mrun\u001b[0m\u001b[1;33m(\u001b[0m\u001b[0msubtractedExposure\u001b[0m\u001b[1;33m,\u001b[0m \u001b[0mdiaSources\u001b[0m\u001b[1;33m)\u001b[0m\u001b[1;33m\u001b[0m\u001b[0m\n\u001b[0m",
      "\u001b[1;32m/renoir_data_00/jpreyes/stacks/v9_2_copy/Linux64/ip_diffim/9.2/python/lsst/ip/diffim/dipoleMeasurement.pyc\u001b[0m in \u001b[0;36mrun\u001b[1;34m(self, exposure, sources, **kwds)\u001b[0m\n\u001b[0;32m     99\u001b[0m \u001b[1;33m\u001b[0m\u001b[0m\n\u001b[0;32m    100\u001b[0m     \u001b[1;32mdef\u001b[0m \u001b[0mrun\u001b[0m\u001b[1;33m(\u001b[0m\u001b[0mself\u001b[0m\u001b[1;33m,\u001b[0m \u001b[0mexposure\u001b[0m\u001b[1;33m,\u001b[0m \u001b[0msources\u001b[0m\u001b[1;33m,\u001b[0m \u001b[1;33m**\u001b[0m\u001b[0mkwds\u001b[0m\u001b[1;33m)\u001b[0m\u001b[1;33m:\u001b[0m\u001b[1;33m\u001b[0m\u001b[0m\n\u001b[1;32m--> 101\u001b[1;33m         \u001b[0mSourceMeasurementTask\u001b[0m\u001b[1;33m.\u001b[0m\u001b[0mrun\u001b[0m\u001b[1;33m(\u001b[0m\u001b[0mself\u001b[0m\u001b[1;33m,\u001b[0m \u001b[0mexposure\u001b[0m\u001b[1;33m,\u001b[0m \u001b[0msources\u001b[0m\u001b[1;33m,\u001b[0m \u001b[1;33m**\u001b[0m\u001b[0mkwds\u001b[0m\u001b[1;33m)\u001b[0m\u001b[1;33m\u001b[0m\u001b[0m\n\u001b[0m\u001b[0;32m    102\u001b[0m         \u001b[0mself\u001b[0m\u001b[1;33m.\u001b[0m\u001b[0mclassify\u001b[0m\u001b[1;33m(\u001b[0m\u001b[0msources\u001b[0m\u001b[1;33m)\u001b[0m\u001b[1;33m\u001b[0m\u001b[0m\n\u001b[0;32m    103\u001b[0m \u001b[1;33m\u001b[0m\u001b[0m\n",
      "\u001b[1;32m/renoir_data_00/jpreyes/stacks/v9_2_copy/Linux64/pipe_base/9.2/python/lsst/pipe/base/timer.pyc\u001b[0m in \u001b[0;36mwrapper\u001b[1;34m(self, *args, **keyArgs)\u001b[0m\n\u001b[0;32m    116\u001b[0m         \u001b[0mlogInfo\u001b[0m\u001b[1;33m(\u001b[0m\u001b[0mobj\u001b[0m \u001b[1;33m=\u001b[0m \u001b[0mself\u001b[0m\u001b[1;33m,\u001b[0m \u001b[0mprefix\u001b[0m \u001b[1;33m=\u001b[0m \u001b[0mfunc\u001b[0m\u001b[1;33m.\u001b[0m\u001b[0m__name__\u001b[0m \u001b[1;33m+\u001b[0m \u001b[1;34m\"Start\"\u001b[0m\u001b[1;33m)\u001b[0m\u001b[1;33m\u001b[0m\u001b[0m\n\u001b[0;32m    117\u001b[0m         \u001b[1;32mtry\u001b[0m\u001b[1;33m:\u001b[0m\u001b[1;33m\u001b[0m\u001b[0m\n\u001b[1;32m--> 118\u001b[1;33m             \u001b[0mres\u001b[0m \u001b[1;33m=\u001b[0m \u001b[0mfunc\u001b[0m\u001b[1;33m(\u001b[0m\u001b[0mself\u001b[0m\u001b[1;33m,\u001b[0m \u001b[1;33m*\u001b[0m\u001b[0margs\u001b[0m\u001b[1;33m,\u001b[0m \u001b[1;33m**\u001b[0m\u001b[0mkeyArgs\u001b[0m\u001b[1;33m)\u001b[0m\u001b[1;33m\u001b[0m\u001b[0m\n\u001b[0m\u001b[0;32m    119\u001b[0m         \u001b[1;32mfinally\u001b[0m\u001b[1;33m:\u001b[0m\u001b[1;33m\u001b[0m\u001b[0m\n\u001b[0;32m    120\u001b[0m             \u001b[0mlogInfo\u001b[0m\u001b[1;33m(\u001b[0m\u001b[0mobj\u001b[0m \u001b[1;33m=\u001b[0m \u001b[0mself\u001b[0m\u001b[1;33m,\u001b[0m \u001b[0mprefix\u001b[0m \u001b[1;33m=\u001b[0m \u001b[0mfunc\u001b[0m\u001b[1;33m.\u001b[0m\u001b[0m__name__\u001b[0m \u001b[1;33m+\u001b[0m \u001b[1;34m\"End\"\u001b[0m\u001b[1;33m)\u001b[0m\u001b[1;33m\u001b[0m\u001b[0m\n",
      "\u001b[1;32m/renoir_data_00/jpreyes/stacks/v9_2_copy/Linux64/meas_algorithms/9.2/python/lsst/meas/algorithms/measurement.pyc\u001b[0m in \u001b[0;36mmeasure\u001b[1;34m(self, exposure, sources, noiseImage, noiseMeanVar, references, refWcs)\u001b[0m\n\u001b[0;32m    422\u001b[0m \u001b[1;33m\u001b[0m\u001b[0m\n\u001b[0;32m    423\u001b[0m         \u001b[0mself\u001b[0m\u001b[1;33m.\u001b[0m\u001b[0mlog\u001b[0m\u001b[1;33m.\u001b[0m\u001b[0minfo\u001b[0m\u001b[1;33m(\u001b[0m\u001b[1;34m\"Measuring %d sources\"\u001b[0m \u001b[1;33m%\u001b[0m \u001b[0mlen\u001b[0m\u001b[1;33m(\u001b[0m\u001b[0msources\u001b[0m\u001b[1;33m)\u001b[0m\u001b[1;33m)\u001b[0m\u001b[1;33m\u001b[0m\u001b[0m\n\u001b[1;32m--> 424\u001b[1;33m         \u001b[0mself\u001b[0m\u001b[1;33m.\u001b[0m\u001b[0mconfig\u001b[0m\u001b[1;33m.\u001b[0m\u001b[0mslots\u001b[0m\u001b[1;33m.\u001b[0m\u001b[0msetupTable\u001b[0m\u001b[1;33m(\u001b[0m\u001b[0msources\u001b[0m\u001b[1;33m.\u001b[0m\u001b[0mtable\u001b[0m\u001b[1;33m,\u001b[0m \u001b[0mprefix\u001b[0m\u001b[1;33m=\u001b[0m\u001b[0mself\u001b[0m\u001b[1;33m.\u001b[0m\u001b[0mconfig\u001b[0m\u001b[1;33m.\u001b[0m\u001b[0mprefix\u001b[0m\u001b[1;33m)\u001b[0m\u001b[1;33m\u001b[0m\u001b[0m\n\u001b[0m\u001b[0;32m    425\u001b[0m \u001b[1;33m\u001b[0m\u001b[0m\n\u001b[0;32m    426\u001b[0m         \u001b[0mself\u001b[0m\u001b[1;33m.\u001b[0m\u001b[0mpreMeasureHook\u001b[0m\u001b[1;33m(\u001b[0m\u001b[0mexposure\u001b[0m\u001b[1;33m,\u001b[0m \u001b[0msources\u001b[0m\u001b[1;33m)\u001b[0m\u001b[1;33m\u001b[0m\u001b[0m\n",
      "\u001b[1;32m/renoir_data_00/jpreyes/stacks/v9_2_copy/Linux64/meas_algorithms/9.2/python/lsst/meas/algorithms/measurement.pyc\u001b[0m in \u001b[0;36msetupTable\u001b[1;34m(self, table, prefix)\u001b[0m\n\u001b[0;32m     55\u001b[0m         \"\"\"\n\u001b[0;32m     56\u001b[0m         \u001b[1;32mif\u001b[0m \u001b[0mprefix\u001b[0m \u001b[1;32mis\u001b[0m \u001b[0mNone\u001b[0m\u001b[1;33m:\u001b[0m \u001b[0mprefix\u001b[0m \u001b[1;33m=\u001b[0m \u001b[1;34m\"\"\u001b[0m\u001b[1;33m\u001b[0m\u001b[0m\n\u001b[1;32m---> 57\u001b[1;33m         \u001b[1;32mif\u001b[0m \u001b[0mself\u001b[0m\u001b[1;33m.\u001b[0m\u001b[0mcentroid\u001b[0m \u001b[1;32mis\u001b[0m \u001b[1;32mnot\u001b[0m \u001b[0mNone\u001b[0m\u001b[1;33m:\u001b[0m \u001b[0mtable\u001b[0m\u001b[1;33m.\u001b[0m\u001b[0mdefineCentroid\u001b[0m\u001b[1;33m(\u001b[0m\u001b[0mprefix\u001b[0m \u001b[1;33m+\u001b[0m \u001b[0mself\u001b[0m\u001b[1;33m.\u001b[0m\u001b[0mcentroid\u001b[0m\u001b[1;33m)\u001b[0m\u001b[1;33m\u001b[0m\u001b[0m\n\u001b[0m\u001b[0;32m     58\u001b[0m         \u001b[1;32mif\u001b[0m \u001b[0mself\u001b[0m\u001b[1;33m.\u001b[0m\u001b[0mshape\u001b[0m \u001b[1;32mis\u001b[0m \u001b[1;32mnot\u001b[0m \u001b[0mNone\u001b[0m\u001b[1;33m:\u001b[0m \u001b[0mtable\u001b[0m\u001b[1;33m.\u001b[0m\u001b[0mdefineShape\u001b[0m\u001b[1;33m(\u001b[0m\u001b[0mprefix\u001b[0m \u001b[1;33m+\u001b[0m \u001b[0mself\u001b[0m\u001b[1;33m.\u001b[0m\u001b[0mshape\u001b[0m\u001b[1;33m)\u001b[0m\u001b[1;33m\u001b[0m\u001b[0m\n\u001b[0;32m     59\u001b[0m         \u001b[1;32mif\u001b[0m \u001b[0mself\u001b[0m\u001b[1;33m.\u001b[0m\u001b[0mapFlux\u001b[0m \u001b[1;32mis\u001b[0m \u001b[1;32mnot\u001b[0m \u001b[0mNone\u001b[0m\u001b[1;33m:\u001b[0m \u001b[0mtable\u001b[0m\u001b[1;33m.\u001b[0m\u001b[0mdefineApFlux\u001b[0m\u001b[1;33m(\u001b[0m\u001b[0mprefix\u001b[0m \u001b[1;33m+\u001b[0m \u001b[0mself\u001b[0m\u001b[1;33m.\u001b[0m\u001b[0mapFlux\u001b[0m\u001b[1;33m)\u001b[0m\u001b[1;33m\u001b[0m\u001b[0m\n",
      "\u001b[1;32m/renoir_data_00/jpreyes/stacks/v9_2_copy/Linux64/afw/9.2/python/lsst/afw/table/tableLib.pyc\u001b[0m in \u001b[0;36mdefineCentroid\u001b[1;34m(self, meas, err, flag)\u001b[0m\n\u001b[0;32m   9661\u001b[0m         \u001b[1;32mif\u001b[0m \u001b[0merr\u001b[0m \u001b[1;32mis\u001b[0m \u001b[0mNone\u001b[0m\u001b[1;33m:\u001b[0m\u001b[1;33m\u001b[0m\u001b[0m\n\u001b[0;32m   9662\u001b[0m             \u001b[1;32mif\u001b[0m \u001b[0mflag\u001b[0m \u001b[1;32mis\u001b[0m \u001b[0mNone\u001b[0m\u001b[1;33m:\u001b[0m\u001b[1;33m\u001b[0m\u001b[0m\n\u001b[1;32m-> 9663\u001b[1;33m                 \u001b[0m_tableLib\u001b[0m\u001b[1;33m.\u001b[0m\u001b[0mSourceTable_defineCentroid\u001b[0m\u001b[1;33m(\u001b[0m\u001b[0mself\u001b[0m\u001b[1;33m,\u001b[0m \u001b[0mmeas\u001b[0m\u001b[1;33m)\u001b[0m\u001b[1;33m\u001b[0m\u001b[0m\n\u001b[0m\u001b[0;32m   9664\u001b[0m             \u001b[1;32melse\u001b[0m\u001b[1;33m:\u001b[0m\u001b[1;33m\u001b[0m\u001b[0m\n\u001b[0;32m   9665\u001b[0m                 \u001b[0m_tableLib\u001b[0m\u001b[1;33m.\u001b[0m\u001b[0mSourceTable_defineCentroid\u001b[0m\u001b[1;33m(\u001b[0m\u001b[0mself\u001b[0m\u001b[1;33m,\u001b[0m \u001b[0mmeas\u001b[0m\u001b[1;33m,\u001b[0m \u001b[0mflag\u001b[0m\u001b[1;33m)\u001b[0m\u001b[1;33m\u001b[0m\u001b[0m\n",
      "\u001b[1;31mNotFoundError\u001b[0m: \n  File \"src/table/Schema.cc\", line 233, in lsst::afw::table::SchemaItem<T> lsst::afw::table::detail::SchemaImpl::find(const std::string&) const [with T = lsst::afw::table::Point<double>]\n    Field or subfield withname 'centroid.sdss' not found with type 'PointD'. {0}\nlsst::pex::exceptions::NotFoundError: 'Field or subfield withname 'centroid.sdss' not found with type 'PointD'.'\n"
     ]
    },
    {
     "name": "stdout",
     "output_type": "stream",
     "text": [
      "classification.dipole\n"
     ]
    }
   ],
   "source": [
    "import  lsst.ip.diffim.dipoleMeasurement as dipoleMeasurer\n",
    "\n",
    "dipTask = dipoleMeasurer.DipoleMeasurementTask\n",
    "minSchema = afwTable.SourceTable.makeMinimalSchema()\n",
    "dipTask = dipTask(minSchema)\n",
    "\n",
    "dipConfig = dipTask.ConfigClass()\n",
    "\n",
    "minSchema.addField(dipTask._ClassificationFlag, \"F\")\n",
    "\n",
    "\n",
    "dipTask.run(subtractedExposure, diaSources)\n"
   ]
  },
  {
   "cell_type": "code",
   "execution_count": 40,
   "metadata": {
    "collapsed": false
   },
   "outputs": [],
   "source": []
  },
  {
   "cell_type": "code",
   "execution_count": 40,
   "metadata": {
    "collapsed": false
   },
   "outputs": [],
   "source": []
  },
  {
   "cell_type": "code",
   "execution_count": null,
   "metadata": {
    "collapsed": false
   },
   "outputs": [],
   "source": []
  }
 ],
 "metadata": {
  "kernelspec": {
   "display_name": "Python 2",
   "language": "python",
   "name": "python2"
  },
  "language_info": {
   "codemirror_mode": {
    "name": "ipython",
    "version": 2
   },
   "file_extension": ".py",
   "mimetype": "text/x-python",
   "name": "python",
   "nbconvert_exporter": "python",
   "pygments_lexer": "ipython2",
   "version": "2.7.11"
  }
 },
 "nbformat": 4,
 "nbformat_minor": 0
}
