{
 "cells": [
  {
   "cell_type": "code",
   "execution_count": 123,
   "metadata": {
    "collapsed": false
   },
   "outputs": [],
   "source": [
    "\n",
    "\n",
    "import lsst.afw.image as afwImage\n",
    "import lsst.afw.geom as afwGeom\n",
    "import lsst.afw.coord as afwCoord\n",
    "import lsst.afw.math as afwMath\n",
    "import lsst.afw.detection as afwDetection\n",
    "import lsst.afw.display.utils as displayUtils\n",
    "import lsst.afw.table as afwTable\n",
    "import lsst.meas.algorithms as measAlg\n",
    "import lsst.afw.display.ds9 as ds9\n",
    "import numpy as np\n",
    "import os"
   ]
  },
  {
   "cell_type": "markdown",
   "metadata": {},
   "source": [
    "Working directory plus transparence setting for ds9"
   ]
  },
  {
   "cell_type": "code",
   "execution_count": 124,
   "metadata": {
    "collapsed": false
   },
   "outputs": [],
   "source": [
    "DATADIR=\"/renoir_data_02/jpreyes/lsst_data/data/CFHTLS\"\n",
    "\n",
    "calexp_1 = DATADIR+'/output/subtracted+1/33,15.fits'\n",
    "ds9.setMaskTransparency(40)"
   ]
  },
  {
   "cell_type": "markdown",
   "metadata": {},
   "source": [
    "Creation of the new image as an Exposure (image including masks)"
   ]
  },
  {
   "cell_type": "code",
   "execution_count": 125,
   "metadata": {
    "collapsed": false
   },
   "outputs": [],
   "source": [
    "exposure = afwImage.ExposureF(calexp_1)\n",
    "mi = exposure.getMaskedImage()\n",
    "im = mi.getImage()"
   ]
  },
  {
   "cell_type": "markdown",
   "metadata": {},
   "source": [
    "MEANCLIP and STDEVCLIP calculations. Mean could mean really \"Median\". To verify in afwMath."
   ]
  },
  {
   "cell_type": "code",
   "execution_count": 126,
   "metadata": {
    "collapsed": false
   },
   "outputs": [
    {
     "name": "stdout",
     "output_type": "stream",
     "text": [
      "Mean of the image is 0.007 counts, stdev is 0.190 counts\n",
      "The 5-sigma detection threshold is at 0.96 counts\n"
     ]
    }
   ],
   "source": [
    "nsigma = 5\n",
    "stats = afwMath.makeStatistics(im, afwMath.MEANCLIP | afwMath.STDEVCLIP)\n",
    "threshold5 = stats.getValue(afwMath.MEANCLIP) + nsigma*stats.getValue(afwMath.STDEVCLIP)\n",
    "print \"Mean of the image is %.3f counts, stdev is %.3f counts\" % (stats.getValue(afwMath.MEANCLIP), stats.getValue(afwMath.STDEVCLIP))\n",
    "print \"The %d-sigma detection threshold is at %.2f counts\" % (nsigma, threshold5)\n"
   ]
  },
  {
   "cell_type": "markdown",
   "metadata": {},
   "source": [
    "This part starts with the creation of a minimal empty schema to store all the values to be calculated. The second task in order to invoke the tasks is to instanciate the respective config classes for the SourceDetectionTask, SourceMeasuramentTask and the MeasurePsfTask.\n",
    "\n",
    "This code re-uses the config variable for the three tasks mentioned above. The last one emplois a list of badflags (how are they determinated?) and creates a psfDeterminer. This psfDeterminer seems to calculate/create the kernel associated to the PSF."
   ]
  },
  {
   "cell_type": "code",
   "execution_count": 127,
   "metadata": {
    "collapsed": false
   },
   "outputs": [],
   "source": [
    "from lsst.meas.algorithms.detection import SourceDetectionTask\n",
    "from lsst.meas.algorithms.measurement import SourceMeasurementTask\n",
    "from lsst.pipe.tasks.measurePsf import MeasurePsfTask\n",
    "\n",
    "schema = afwTable.SourceTable.makeMinimalSchema()\n",
    "\n",
    "config = SourceDetectionTask.ConfigClass()\n",
    "config.reEstimateBackground = False\n",
    "detectionTask = SourceDetectionTask(config=config, schema=schema)\n",
    " \n",
    "config = SourceMeasurementTask.ConfigClass()\n",
    "config.slots.psfFlux = \"flux.sinc\" # use of the psf flux is hardcoded in secondMomentStarSelector\n",
    "measureTask = SourceMeasurementTask(schema, config=config)\n",
    "\n",
    "config = MeasurePsfTask.ConfigClass()\n",
    "starSelector = config.starSelector.apply()\n",
    "starSelector.config.badFlags = [\"flags.pixel.edge\", \"flags.pixel.cr.center\", \"flags.pixel.interpolated.center\", \"flags.pixel.saturated.center\"]\n",
    "psfDeterminer = config.psfDeterminer.apply()\n",
    "psfDeterminer.config.sizeCellX = 64\n",
    "psfDeterminer.config.sizeCellY = 64\n",
    "psfDeterminer.config.spatialOrder = 1\n",
    "psfDeterminer.config.nEigenComponents = 3\n",
    "measurePsfTask = MeasurePsfTask(config=config, schema=schema)\n"
   ]
  },
  {
   "cell_type": "markdown",
   "metadata": {},
   "source": [
    "This is the clearing the detection mask, using and AND operator and a negation of the mask."
   ]
  },
  {
   "cell_type": "code",
   "execution_count": 128,
   "metadata": {
    "collapsed": false
   },
   "outputs": [
    {
     "name": "stdout",
     "output_type": "stream",
     "text": [
      "Traceback (most recent call last):\n",
      "  File \"/renoir_data_00/jpreyes/stacks/v9_2_copy/Linux64/anaconda/1.8.0/lib/python2.7/site-packages/IPython/core/ultratb.py\", line 759, in structured_traceback\n",
      "    records = _fixed_getinnerframes(etb, context, tb_offset)\n",
      "  File \"/renoir_data_00/jpreyes/stacks/v9_2_copy/Linux64/anaconda/1.8.0/lib/python2.7/site-packages/IPython/core/ultratb.py\", line 242, in _fixed_getinnerframes\n",
      "    records  = fix_frame_records_filenames(inspect.getinnerframes(etb, context))\n",
      "  File \"/renoir_data_00/jpreyes/stacks/v9_2_copy/Linux64/anaconda/1.8.0/lib/python2.7/inspect.py\", line 1043, in getinnerframes\n",
      "    framelist.append((tb.tb_frame,) + getframeinfo(tb, context))\n"
     ]
    },
    {
     "name": "stderr",
     "output_type": "stream",
     "text": [
      "ERROR: Internal Python error in the inspect module.\n",
      "Below is the traceback from this internal error.\n",
      "\n"
     ]
    },
    {
     "ename": "KeyboardInterrupt",
     "evalue": "",
     "output_type": "error",
     "traceback": ""
    },
    {
     "name": "stdout",
     "output_type": "stream",
     "text": [
      "  File \"/renoir_data_00/jpreyes/stacks/v9_2_copy/Linux64/anaconda/1.8.0/lib/python2.7/inspect.py\", line 1003, in getframeinfo\n",
      "    filename = getsourcefile(frame) or getfile(frame)\n",
      "  File \"/renoir_data_00/jpreyes/stacks/v9_2_copy/Linux64/anaconda/1.8.0/lib/python2.7/inspect.py\", line 451, in getsourcefile\n",
      "    if os.path.exists(filename):\n",
      "  File \"/renoir_data_00/jpreyes/stacks/v9_2_copy/Linux64/anaconda/1.8.0/lib/python2.7/genericpath.py\", line 18, in exists\n",
      "    os.stat(path)\n",
      "KeyboardInterrupt\n"
     ]
    },
    {
     "name": "stderr",
     "output_type": "stream",
     "text": [
      "\n",
      "Unfortunately, your original traceback can not be constructed.\n",
      "\n"
     ]
    }
   ],
   "source": [
    "# Again clear the detection masks\n",
    "mask = exposure.getMaskedImage().getMask()\n",
    "mask &= ~(mask.getPlaneBitMask(\"DETECTED\")) \n",
    "frame=1\n",
    "ds9.mtv(exposure, frame=frame, title=\"Original Image Off of Disk\"); frame += 1"
   ]
  },
  {
   "cell_type": "markdown",
   "metadata": {},
   "source": [
    "The detectionTask is launched to detect the sources. The measureTask is using the sources and the exposure to -probably- generate all the relevant data."
   ]
  },
  {
   "cell_type": "code",
   "execution_count": null,
   "metadata": {
    "collapsed": false
   },
   "outputs": [],
   "source": [
    "# And then re-detect, re-measure, select stars, and build the Psf model\n",
    "table = afwTable.SourceTable.make(schema)\n",
    "sources = detectionTask.run(table, exposure, sigma=2).sources\n",
    "measureTask.measure(exposure, sources)\n",
    "ds9.mtv(exposure, frame=frame, title=\"Original Image Off of Disk\"); frame += 1"
   ]
  },
  {
   "cell_type": "markdown",
   "metadata": {},
   "source": [
    "The PSF is measured. An image for the PSF calculated is computed. (What are the parameters? Is it the linear combination of multiple gaussian functions?)"
   ]
  },
  {
   "cell_type": "code",
   "execution_count": null,
   "metadata": {
    "collapsed": false
   },
   "outputs": [],
   "source": [
    "for source in sources:\n",
    "    print source.getX(), source.getY()"
   ]
  },
  {
   "cell_type": "code",
   "execution_count": null,
   "metadata": {
    "collapsed": false
   },
   "outputs": [],
   "source": [
    "ksources = sources[1:]\n",
    "for source in ksources:\n",
    "    print source.getRa(), source.getDec()\n",
    "    \n",
    "print exposure.getXY0()\n",
    "\n",
    "wcs= exposure.getWcs()\n",
    "\n",
    "print wcs.pixelToSky(33593, 15928)"
   ]
  },
  {
   "cell_type": "code",
   "execution_count": null,
   "metadata": {
    "collapsed": false
   },
   "outputs": [],
   "source": [
    "\n",
    "result = measurePsfTask.run(exposure, ksources)\n",
    "\n",
    "psf = result.psf\n",
    "psfIm = psf.computeImage()\n",
    "ds9.mtv(psfIm, frame=frame, title=\"Psf Image\"); frame += 1"
   ]
  },
  {
   "cell_type": "markdown",
   "metadata": {},
   "source": [
    "This part creates a mosaic of the psf to be observed via ds9."
   ]
  },
  {
   "cell_type": "code",
   "execution_count": null,
   "metadata": {
    "collapsed": false
   },
   "outputs": [],
   "source": [
    "import lsst.meas.algorithms.utils as measUtils\n",
    "cellSet = result.cellSet\n",
    "measUtils.showPsfMosaic(exposure, psf=psf, frame=frame); frame += 1"
   ]
  },
  {
   "cell_type": "markdown",
   "metadata": {},
   "source": [
    "This method paints in ds9 the detected sources. a + is located on the centroid of the psf, an x is set in place if it is a psf candidate and a red circle is drawn if it was used at the end."
   ]
  },
  {
   "cell_type": "code",
   "execution_count": null,
   "metadata": {
    "collapsed": false
   },
   "outputs": [],
   "source": [
    "ds9.mtv(exposure, frame=frame, title=\"Re-Measured Footprints\")\n",
    "with ds9.Buffering():\n",
    "    for s in sources:\n",
    "        xy = s.getCentroid()\n",
    "        ds9.dot('+', *xy, frame=frame)\n",
    "        if s.get(\"calib.psf.candidate\"):\n",
    "            ds9.dot('x', *xy, ctype=ds9.YELLOW, frame=frame)\n",
    "        if s.get(\"calib.psf.used\"):\n",
    "            ds9.dot('o', *xy, size=30, ctype=ds9.RED, frame=frame)\n",
    "frame += 1\n"
   ]
  },
  {
   "cell_type": "markdown",
   "metadata": {},
   "source": [
    "This part creates the gaussian kernel that models the psf of the whole image. it seems to replicate a 2D-function using two equal 1-Dimensional gaussian functions. \n",
    "\n",
    "On the second part, the image is smoothed with this gaussian Kernel (via convolving with the 2D-gaussian)."
   ]
  },
  {
   "cell_type": "code",
   "execution_count": 129,
   "metadata": {
    "collapsed": false
   },
   "outputs": [
    {
     "ename": "NameError",
     "evalue": "name 'psf' is not defined",
     "output_type": "error",
     "traceback": [
      "\u001b[1;31m---------------------------------------------------------------------------\u001b[0m\n\u001b[1;31mNameError\u001b[0m                                 Traceback (most recent call last)",
      "\u001b[1;32m<ipython-input-129-725f779d6179>\u001b[0m in \u001b[0;36m<module>\u001b[1;34m()\u001b[0m\n\u001b[1;32m----> 1\u001b[1;33m \u001b[0mshape\u001b[0m \u001b[1;33m=\u001b[0m \u001b[0mpsf\u001b[0m\u001b[1;33m.\u001b[0m\u001b[0mcomputeShape\u001b[0m\u001b[1;33m(\u001b[0m\u001b[1;33m)\u001b[0m\u001b[1;33m\u001b[0m\u001b[0m\n\u001b[0m\u001b[0;32m      2\u001b[0m \u001b[0msigma\u001b[0m \u001b[1;33m=\u001b[0m \u001b[0mshape\u001b[0m\u001b[1;33m.\u001b[0m\u001b[0mgetDeterminantRadius\u001b[0m\u001b[1;33m(\u001b[0m\u001b[1;33m)\u001b[0m\u001b[1;33m\u001b[0m\u001b[0m\n\u001b[0;32m      3\u001b[0m \u001b[1;32mprint\u001b[0m \u001b[1;34m\"Psf approximate Gaussian sigma = %.3f pixels; FWHM = %.3f pixels\"\u001b[0m \u001b[1;33m%\u001b[0m \u001b[1;33m(\u001b[0m\u001b[0msigma\u001b[0m\u001b[1;33m,\u001b[0m \u001b[0msigma\u001b[0m \u001b[1;33m*\u001b[0m \u001b[1;36m2.\u001b[0m \u001b[1;33m*\u001b[0m \u001b[0mnp\u001b[0m\u001b[1;33m.\u001b[0m\u001b[0msqrt\u001b[0m\u001b[1;33m(\u001b[0m\u001b[1;36m2.\u001b[0m \u001b[1;33m*\u001b[0m \u001b[0mnp\u001b[0m\u001b[1;33m.\u001b[0m\u001b[0mlog\u001b[0m\u001b[1;33m(\u001b[0m\u001b[1;36m2.\u001b[0m\u001b[1;33m)\u001b[0m\u001b[1;33m)\u001b[0m\u001b[1;33m)\u001b[0m\u001b[1;33m\u001b[0m\u001b[0m\n\u001b[0;32m      4\u001b[0m \u001b[0mkWidth\u001b[0m \u001b[1;33m=\u001b[0m \u001b[1;33m(\u001b[0m\u001b[0mint\u001b[0m\u001b[1;33m(\u001b[0m\u001b[0msigma\u001b[0m \u001b[1;33m*\u001b[0m \u001b[1;36m7\u001b[0m \u001b[1;33m+\u001b[0m \u001b[1;36m0.5\u001b[0m\u001b[1;33m)\u001b[0m \u001b[1;33m//\u001b[0m \u001b[1;36m2\u001b[0m\u001b[1;33m)\u001b[0m \u001b[1;33m*\u001b[0m \u001b[1;36m2\u001b[0m \u001b[1;33m+\u001b[0m \u001b[1;36m1\u001b[0m \u001b[1;31m# make sure kernel size is odd\u001b[0m\u001b[1;33m\u001b[0m\u001b[0m\n\u001b[0;32m      5\u001b[0m \u001b[0mgaussFunc\u001b[0m \u001b[1;33m=\u001b[0m \u001b[0mafwMath\u001b[0m\u001b[1;33m.\u001b[0m\u001b[0mGaussianFunction1D\u001b[0m\u001b[1;33m(\u001b[0m\u001b[0msigma\u001b[0m\u001b[1;33m)\u001b[0m\u001b[1;33m\u001b[0m\u001b[0m\n",
      "\u001b[1;31mNameError\u001b[0m: name 'psf' is not defined"
     ]
    }
   ],
   "source": [
    "shape = psf.computeShape()\n",
    "sigma = shape.getDeterminantRadius()\n",
    "print \"Psf approximate Gaussian sigma = %.3f pixels; FWHM = %.3f pixels\" % (sigma, sigma * 2. * np.sqrt(2. * np.log(2.)))\n",
    "kWidth = (int(sigma * 7 + 0.5) // 2) * 2 + 1 # make sure kernel size is odd\n",
    "gaussFunc = afwMath.GaussianFunction1D(sigma)\n",
    "gaussKernel = afwMath.SeparableKernel(kWidth, kWidth, gaussFunc, gaussFunc)\n",
    "\n",
    "im = exposure.getMaskedImage().getImage()\n",
    "smoothedIm = im.Factory(im.getDimensions())\n",
    "afwMath.convolve(smoothedIm, im, gaussKernel)\n",
    "ds9.mtv(smoothedIm, frame=frame, title=\"Detection Image (smoothed with appx Psf)\"); frame += 1"
   ]
  },
  {
   "cell_type": "code",
   "execution_count": 130,
   "metadata": {
    "collapsed": false
   },
   "outputs": [],
   "source": [
    "\n",
    "#\n",
    "#Smooth image with a\n",
    "# 1 2 1\n",
    "# 2 4 2\n",
    "# 1 2 1\n",
    "# filter\n",
    "oneD = afwMath.PolynomialFunction1D([2, 0, -1])\n",
    "kernel = afwMath.SeparableKernel(3, 3, oneD, oneD)\n",
    "smoothedIm = im.Factory(im.getDimensions())\n",
    "afwMath.convolve(smoothedIm, im, kernel)\n",
    "\n",
    "\n",
    "ds9.mtv(smoothedIm, frame=frame, title=\"Detection Image (smoothed with a filter)\"); frame += 1"
   ]
  },
  {
   "cell_type": "markdown",
   "metadata": {},
   "source": [
    "Footprints are detected over the Smoothed Image. Then, the footprints are being grown in 1 pixel (which operations was used?). "
   ]
  },
  {
   "cell_type": "code",
   "execution_count": 131,
   "metadata": {
    "collapsed": false
   },
   "outputs": [],
   "source": [
    "\n",
    "\n",
    "npixMin=1\n",
    "grow=1\n",
    "isotropic=False\n",
    "#fs0 = afwDetection.FootprintSet(smoothedIm, afwDetection.Threshold(threshold5), npixMin)\n",
    "fs0 = afwDetection.FootprintSet(smoothedIm, afwDetection.Threshold(threshold5), npixMin)\n",
    "fs = afwDetection.FootprintSet(fs0, grow, isotropic)\n",
    "ds9.mtv(smoothedIm, frame=frame, title=\"Re-detected and re-grown Footprints\")\n",
    "for footprint in fs.getFootprints():\n",
    "    \n",
    "    displayUtils.drawFootprint(footprint, frame=frame)\n",
    "#frame += 1\n"
   ]
  },
  {
   "cell_type": "code",
   "execution_count": 132,
   "metadata": {
    "collapsed": false
   },
   "outputs": [],
   "source": [
    "for footprint in fs.getFootprints():\n",
    "        xs = footprint.getCentroid().getX()-exposure.getX0()\n",
    "        ys = footprint.getCentroid().getY()-exposure.getY0()\n",
    "        #print source.getCentroid().getX(),exposure.getX0()\n",
    "        ds9.dot(\"+\", xs, ys, frame=frame, size=5, ctype = ds9.RED)"
   ]
  },
  {
   "cell_type": "markdown",
   "metadata": {},
   "source": [
    "This is the part that measures the centroid and the ApFlux of the detected sources and then stores them on the schema created at the beginning. It seems to emploi a 3 pixel aperture radius by default (why?)"
   ]
  },
  {
   "cell_type": "code",
   "execution_count": 133,
   "metadata": {
    "collapsed": false
   },
   "outputs": [],
   "source": [
    "apRad=3\n",
    "# Define the measurements we want to make\n",
    "ctrlCentroid = measAlg.SdssCentroidControl()\n",
    "ctrlAperture = measAlg.SincFluxControl()\n",
    "ctrlAperture.radius2 = apRad\n",
    "\n",
    "schema = afwTable.SourceTable.makeMinimalSchema()\n",
    "algorithms = [\n",
    "    measAlg.MeasureSourcesBuilder().addAlgorithm(ctrlCentroid).build(schema),\n",
    "    measAlg.MeasureSourcesBuilder().addAlgorithm(ctrlAperture).build(schema)]"
   ]
  },
  {
   "cell_type": "markdown",
   "metadata": {},
   "source": [
    "This part creates the columns for the propoerties centroid and flux (sdss seems to be the algorithm implementation for sdsss images).  After using the footprints generated above, the algorithms are applied to each source."
   ]
  },
  {
   "cell_type": "code",
   "execution_count": 134,
   "metadata": {
    "collapsed": false
   },
   "outputs": [
    {
     "name": "stdout",
     "output_type": "stream",
     "text": [
      "Measuring 10 objects\n"
     ]
    }
   ],
   "source": [
    "# Build a new, empty source catalog from this schema\n",
    "cat = afwTable.SourceCatalog(schema)\n",
    "table = cat.table\n",
    "table.defineCentroid(\"centroid.sdss\")\n",
    "table.defineApFlux(\"flux.sinc\")\n",
    "\n",
    "# Turn the Footprints into Sources \n",
    "fs.makeSources(cat)\n",
    "print \"Measuring %d objects\" % (len(cat))\n",
    "\n",
    "# And apply each algorithm to each Source, measuring on the orignal image\n",
    "for source in cat:\n",
    "    for alg in algorithms:\n",
    "        alg.apply(source, exposure)"
   ]
  },
  {
   "cell_type": "code",
   "execution_count": 135,
   "metadata": {
    "collapsed": false
   },
   "outputs": [],
   "source": [
    "ds9.mtv(mi, frame=frame, title=\"Measured sources\",)\n",
    "ds9.setMaskTransparency(80)\n",
    "with ds9.Buffering():\n",
    "    for source in cat:\n",
    "        xs = source.getCentroid().getX()-exposure.getX0()\n",
    "        ys = source.getCentroid().getY()-exposure.getY0()\n",
    "        #print source.getCentroid().getX(),exposure.getX0()\n",
    "        ds9.dot(\"+\", xs, ys, frame=frame, ctype = ds9.RED)\n",
    "frame+=1\n",
    "                \n",
    "                "
   ]
  },
  {
   "cell_type": "code",
   "execution_count": 136,
   "metadata": {
    "collapsed": false
   },
   "outputs": [
    {
     "name": "stdout",
     "output_type": "stream",
     "text": [
      "3147.52809152\n",
      "2685.65130901\n",
      "186.658658656\n",
      "10.3170599769\n",
      "191.005948894\n",
      "10.8447671363\n",
      "46.072414535\n",
      "10.0073937245\n",
      "-5.25992043901\n",
      "139.226507024\n"
     ]
    }
   ],
   "source": [
    "for source in cat:\n",
    "    print source.getApFlux()"
   ]
  },
  {
   "cell_type": "code",
   "execution_count": 136,
   "metadata": {
    "collapsed": false
   },
   "outputs": [],
   "source": []
  }
 ],
 "metadata": {
  "kernelspec": {
   "display_name": "Python 2",
   "language": "python",
   "name": "python2"
  },
  "language_info": {
   "codemirror_mode": {
    "name": "ipython",
    "version": 2
   },
   "file_extension": ".py",
   "mimetype": "text/x-python",
   "name": "python",
   "nbconvert_exporter": "python",
   "pygments_lexer": "ipython2",
   "version": "2.7.11"
  }
 },
 "nbformat": 4,
 "nbformat_minor": 0
}
