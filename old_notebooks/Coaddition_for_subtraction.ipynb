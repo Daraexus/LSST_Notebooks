{
 "metadata": {
  "name": "",
  "signature": "sha256:d2412be030074b9862ae2b41ba8b3badcdd8fefa1598b35d150919d516208315"
 },
 "nbformat": 3,
 "nbformat_minor": 0,
 "worksheets": [
  {
   "cells": [
    {
     "cell_type": "heading",
     "level": 1,
     "metadata": {},
     "source": [
      "Coaddition for subtraction"
     ]
    },
    {
     "cell_type": "code",
     "collapsed": false,
     "input": [
      "import io\n",
      "from IPython.nbformat import current\n",
      "\n",
      "def execute_notebook(nbfile):\n",
      "    \n",
      "    with io.open(nbfile) as f:\n",
      "        nb = current.read(f, 'json')\n",
      "    \n",
      "    ip = get_ipython()\n",
      "    \n",
      "    for cell in nb.worksheets[0].cells:\n",
      "        if cell.cell_type != 'code':\n",
      "            continue\n",
      "        ip.run_cell(cell.input)\n"
     ],
     "language": "python",
     "metadata": {},
     "outputs": []
    },
    {
     "cell_type": "markdown",
     "metadata": {},
     "source": [
      "Init for stack-based notebook"
     ]
    },
    {
     "cell_type": "code",
     "collapsed": false,
     "input": [
      "execute_notebook(\"Init_for_stack.ipynb\")"
     ],
     "language": "python",
     "metadata": {},
     "outputs": []
    },
    {
     "cell_type": "markdown",
     "metadata": {},
     "source": [
      "Directory definition"
     ]
    },
    {
     "cell_type": "code",
     "collapsed": false,
     "input": [
      "#DATADIR=\"/sps/lsst/data/jreyes/CFHTLS\"\n",
      "#DATADIR=os.environ['MY_DATA_DIR']\n",
      "#DATADIR=\"/renoir_data_02/fouchez/lsst_data/data/CFHTLS\"\n",
      "#DATADIR=\"/renoir_data_02/jpreyes/lsst_data/data/CFHTLS_TEST\"\n",
      "DATADIR=\"/renoir_data_02/jpreyes/lsst_data/data/CFHTLS_COMPLETE\"\n",
      "RAWDIR=\"/renoir_data_02/lsst_data/CFHT/rawElixir\""
     ],
     "language": "python",
     "metadata": {},
     "outputs": []
    },
    {
     "cell_type": "markdown",
     "metadata": {},
     "source": [
      "Working directory is created. A reference to the cam mapper is also created."
     ]
    },
    {
     "cell_type": "code",
     "collapsed": false,
     "input": [
      "if(os.path.exists(DATADIR)==False):\n",
      "    os.makedirs(DATADIR)\n",
      "if(os.path.exists(DATADIR+\"/input\")==False):\n",
      "    os.makedirs(DATADIR+\"/input\")\n",
      "temp_file=open(DATADIR+\"/input/_mapper\",'w')\n",
      "temp_file.write('lsst.obs.cfht.MegacamMapper')\n",
      "temp_file.close()\n",
      "\n"
     ],
     "language": "python",
     "metadata": {},
     "outputs": []
    },
    {
     "cell_type": "markdown",
     "metadata": {},
     "source": [
      "We need to instantiate the task as well as the configuration and parser classes.\n",
      "\n",
      "IMPORTANT: a file _mapper has to exist in the input folder with the line 'lsst.echo.cfht.MegacamMapper' or the method will not run!\n",
      "\n",
      "Usually, by command line, a wildcard can be used to express a list of files. However, the wildcard is interpreted by the shell and split in a long line with all the list of arguments. In order to ensure that the same is beind done here, we have to manually generate the list from the wildcard and put in a valid string format."
     ]
    },
    {
     "cell_type": "code",
     "collapsed": false,
     "input": [
      "ITask = Ingester.IngestTask\n",
      "IConfig = ITask.ConfigClass()\n",
      "IParser = ITask.ArgumentParser(\"ingest\")\n",
      "SFiles =''\n",
      "Files = glob.glob(\"/renoir_data_02/lsst_data/CFHT/rawElixir/D3/r/850*.fits.fz\")\n",
      "SFiles += ' '.join(Files) +' ' \n",
      "Files = glob.glob(\"/renoir_data_02/lsst_data/CFHT/rawElixir/D3/r/849*.fits.fz\")\n",
      "SFiles += ' '.join(Files) +' ' \n",
      "Files = glob.glob(\"/renoir_data_02/lsst_data/CFHT/rawElixir/D3/r/851*.fits.fz\")\n",
      "SFiles += ' '.join(Files) +' ' \n",
      "Files = glob.glob(\"/renoir_data_02/lsst_data/CFHT/rawElixir/D3/r/852*.fits.fz\")\n",
      "SFiles += ' '.join(Files) +' ' \n",
      "Files = glob.glob(\"/renoir_data_02/lsst_data/CFHT/rawElixir/D3/r/853*.fits.fz\")\n",
      "SFiles += ' '.join(Files)+' ' \n",
      "Files = glob.glob(\"/renoir_data_02/lsst_data/CFHT/rawElixir/D3/r/9881*.fits.fz\")\n",
      "SFiles += ' '.join(Files) +' ' \n",
      "Files = glob.glob(\"/renoir_data_02/lsst_data/CFHT/rawElixir/D3/r/845*.fits.fz\")\n",
      "SFiles += ' '.join(Files) +' ' \n",
      "\n",
      "#SFiles=SFiles1+' ' +SFiles2+' '+SFiles3+' '+SFiles4+' '+SFiles5+' '+SFiles6\n",
      "print(SFiles)"
     ],
     "language": "python",
     "metadata": {},
     "outputs": []
    },
    {
     "cell_type": "markdown",
     "metadata": {},
     "source": [
      "Parameters should be given to the parser the same way they should be used as parameter though the terminal"
     ]
    },
    {
     "cell_type": "code",
     "collapsed": false,
     "input": [
      "args = IParser.parse_args(IConfig, (DATADIR+'/input '+SFiles+' --mode link --clobber-config').split()) \n",
      "task = ITask(config=args.config)\n",
      "task.run(args)"
     ],
     "language": "python",
     "metadata": {},
     "outputs": []
    },
    {
     "cell_type": "markdown",
     "metadata": {},
     "source": [
      "Run and process all the CCDs "
     ]
    },
    {
     "cell_type": "code",
     "collapsed": false,
     "input": [
      "PTask = Processer.ProcessCcdTask\n",
      "\n",
      "res=PTask.parseAndRun(args=((DATADIR+\"/input --output \"+DATADIR+\"/output --id ccd=4^5^6^13^14^15^22^23^24 --config isr.doBias=False isr.doFlat=False isr.doFringe=False\").split()))\n",
      "\n"
     ],
     "language": "python",
     "metadata": {},
     "outputs": []
    },
    {
     "cell_type": "markdown",
     "metadata": {},
     "source": [
      "A sky map is created on the area of interest"
     ]
    },
    {
     "cell_type": "code",
     "collapsed": false,
     "input": [
      "subprocess.call([\"ln\",\"-s\",DATADIR+\"/output\", DATADIR+\"/output/calexp/_parent\"])\n",
      "SMTask = SkyMapper.MakeSkyMapTask\n",
      "#res=SMTask.parseAndRun(args=(DATADIR+\"/output/calexp --config  skyMap.active.decList=52.5,53.5  skyMap.active.raList=214.0,215.0 skyMap.active.patchInnerDimensions=1000,1000 --clobber-config --output \"+DATADIR+\"/output/coadd_r_dir/subtract\").split())\n",
      "res=SMTask.parseAndRun(args=(DATADIR+\"/output/calexp --config  skyMap.active.decList=52.5,53.5  skyMap.active.raList=212.0,216.0 skyMap.active.patchInnerDimensions=800,800 --clobber-config --output \"+DATADIR+\"/output/coadd_r_dir/subtract\").split())"
     ],
     "language": "python",
     "metadata": {},
     "outputs": []
    },
    {
     "cell_type": "heading",
     "level": 2,
     "metadata": {},
     "source": [
      "Coaddition of Images"
     ]
    },
    {
     "cell_type": "code",
     "collapsed": true,
     "input": [
      "def Coaddition(path='coaddImages', tract=0, filter=None, visitList=None):\n",
      "    \n",
      "    visitStr = ''\n",
      "    for visit in visitList : visitStr = visitStr +'^'+str(visit) \n",
      "    visitStr = visitStr[1:]\n",
      "    print visitStr\n",
      "    \n",
      "    CoaddDir = DATADIR+'/output/coadd_r_dir/'+path\n",
      "    print CoaddDir\n",
      "    if(os.path.exists(CoaddDir)==False):\n",
      "        os.makedirs(CoaddDir)\n",
      "\n",
      "    subprocess.call([\"ln\",\"-s\",DATADIR+\"/output\", DATADIR+\"/output/calexp/_parent\"])\n",
      "    SMTask = SkyMapper.MakeSkyMapTask\n",
      "    #res=SMTask.parseAndRun(args=(DATADIR+\"/output/calexp --config  skyMap.active.decList=52.5,53.5  skyMap.active.raList=214.0,215.0 skyMap.active.patchInnerDimensions=1000,100 --clobber-config --output \"+DATADIR+\"/output/coadd_r_dir/\"+path).split())\n",
      "    es=SMTask.parseAndRun(args=(DATADIR+\"/output/calexp --config  skyMap.active.decList=52.75,53.25  skyMap.active.raList=213.0,216.0 skyMap.active.patchInnerDimensions=800,800 --clobber-config --output \"+DATADIR+\"/output/coadd_r_dir/\"+path).split())\n",
      "        \n",
      "    #Delimiting the zone\n",
      "    stdout = sys.stdout\n",
      "    sys.stdout = open(DATADIR+\"/patches.txt\", 'w')\n",
      "    RPTask = PatchReporter.ReportPatchesTask\n",
      "    res=RPTask.parseAndRun(args=(DATADIR+'/output/coadd_r_dir/'+path+' --config raDecRange=213.0,52.75,216.0,53.25 --id tract='+str(tract)+' filter='+filter+' --clobber-config').split()) \n",
      "    sys.stdout = open(DATADIR+\"/patches_r.txt\", 'w')\n",
      "    subprocess.call([\"sed\", \"-e\", 's/^/--id filter=r /', DATADIR+\"/patches.txt\"],stdout=sys.stdout)\n",
      "    sys.stdout =stdout\n",
      "    \n",
      "    #Create the patches to be coadded\n",
      "    TCTask = TempexpCoadder.MakeCoaddTempExpTask\n",
      "    res=TCTask.parseAndRun(args=((DATADIR+\"/output/calexp --output \"+DATADIR+\"/output/coadd_r_dir/\"+path+\" @\"+DATADIR+\"/patches_r.txt --selectId filter=\"+filter+\" visit=\"+visitStr+' --clobber-config').split()))\n",
      "\n",
      "    #Stack the patches\n",
      "    ACTask = Assembler.AssembleCoaddTask\n",
      "    res=ACTask.parseAndRun(args=((DATADIR+\"/output/coadd_r_dir/\"+path+\" @\"+DATADIR+\"/patches_r.txt --selectId filter=\"+filter+\" visit=\"+visitStr+' --clobber-config')).split())\n"
     ],
     "language": "python",
     "metadata": {},
     "outputs": []
    },
    {
     "cell_type": "markdown",
     "metadata": {},
     "source": [
      "Those are the science images around the day of the supernova maximum intensity"
     ]
    },
    {
     "cell_type": "code",
     "collapsed": false,
     "input": [
      "Coaddition(path='subtract+0', tract=0, filter='r', visitList=[850586])"
     ],
     "language": "python",
     "metadata": {},
     "outputs": []
    },
    {
     "cell_type": "code",
     "collapsed": false,
     "input": [
      "Coaddition(path='subtract+1', tract=0, filter='r', visitList=[851058])"
     ],
     "language": "python",
     "metadata": {},
     "outputs": []
    },
    {
     "cell_type": "code",
     "collapsed": false,
     "input": [
      "Coaddition(path='subtract+0', tract=0, filter='r', visitList=[850586])\n",
      "Coaddition(path='subtract+1', tract=0, filter='r', visitList=[851058])\n",
      "Coaddition(path='subtract+2', tract=0, filter='r', visitList=[852894])\n",
      "Coaddition(path='subtract+3', tract=0, filter='r', visitList=[853234])\n",
      "Coaddition(path='subtract-1', tract=0, filter='r', visitList=[850180])\n",
      "Coaddition(path='subtract-2', tract=0, filter='r', visitList=[849686])\n",
      "Coaddition(path='subtract-3', tract=0, filter='r', visitList=[849374])\n"
     ],
     "language": "python",
     "metadata": {},
     "outputs": []
    },
    {
     "cell_type": "code",
     "collapsed": false,
     "input": [
      "\n",
      "Coaddition(path='subtract+3', tract=0, filter='r', visitList=[853234])\n"
     ],
     "language": "python",
     "metadata": {},
     "outputs": []
    },
    {
     "cell_type": "code",
     "collapsed": false,
     "input": [
      "Coaddition(path='coaddition', tract=0, filter='r', visitList=[988125,988127,988128,988129])"
     ],
     "language": "python",
     "metadata": {},
     "outputs": []
    },
    {
     "cell_type": "markdown",
     "metadata": {},
     "source": [
      "These are the visits for the coaddition that will generate a template image"
     ]
    },
    {
     "cell_type": "code",
     "collapsed": false,
     "input": [
      "Coaddition(path='template', tract=0, filter='r', visitList=[996230, 996231, 996232, 996233, 996234, 995364, 995365, 995366, 995367, 995368])"
     ],
     "language": "python",
     "metadata": {},
     "outputs": []
    },
    {
     "cell_type": "code",
     "collapsed": false,
     "input": [
      "im1 = afwImage.ExposureF(DATADIR+\"/output/coadd_r_dir/subtract-1/deepCoadd/r/0/21,34.fits\")\n",
      "displayImage(im1.getMaskedImage().getImage(),frame=0,title=\"coaddIm\",path=\"coaddIm.png\")\n",
      "ds9.zoom(zoomfac=2, colc=363, rowc=632)\n",
      "ds9.dot(\"o\", 363  , 632 , frame=0, size = 25, ctype = ds9.RED)\n",
      "showFrame(frame=0,title=\"SN!\",path=\"SN.png\")"
     ],
     "language": "python",
     "metadata": {},
     "outputs": []
    },
    {
     "cell_type": "code",
     "collapsed": false,
     "input": [
      "imt = afwImage.ExposureF(DATADIR+\"/output/coadd_r_dir/template/deepCoadd/r/0/21,34.fits\")\n",
      "ims0 = afwImage.ExposureF(DATADIR+\"/output/coadd_r_dir/subtract+0/deepCoadd/r/0/21,34.fits\")\n",
      "imsp1 = afwImage.ExposureF(DATADIR+\"/output/coadd_r_dir/subtract+1/deepCoadd/r/0/21,34.fits\")\n",
      "imsp2 = afwImage.ExposureF(DATADIR+\"/output/coadd_r_dir/subtract+2/deepCoadd/r/0/21,34.fits\")\n",
      "imsm1 = afwImage.ExposureF(DATADIR+\"/output/coadd_r_dir/subtract+1/deepCoadd/r/0/21,34.fits\")\n",
      "imsm2 = afwImage.ExposureF(DATADIR+\"/output/coadd_r_dir/subtract+2/deepCoadd/r/0/21,34.fits\")\n",
      "displayFrame(imt.getMaskedImage().getImage(),frame=1,title=\"coaddIm\",path=\"template.png\")\n",
      "displayFrame(imsm2.getMaskedImage().getImage(),frame=2,title=\"coaddIm\",path=\"subm2.png\")\n",
      "displayFrame(imsm1.getMaskedImage().getImage(),frame=3,title=\"coaddIm\",path=\"subm1.png\")\n",
      "displayFrame(ims0.getMaskedImage().getImage(),frame=4,title=\"coaddIm\",path=\"sub0.png\")\n",
      "displayFrame(imsp1.getMaskedImage().getImage(),frame=5,title=\"coaddIm\",path=\"subp1.png\")\n",
      "displayFrame(imsp2.getMaskedImage().getImage(),frame=6,title=\"coaddIm\",path=\"subp2.png\")\n",
      "displayDs9(path='allnights.png')"
     ],
     "language": "python",
     "metadata": {},
     "outputs": []
    }
   ],
   "metadata": {}
  }
 ]
}