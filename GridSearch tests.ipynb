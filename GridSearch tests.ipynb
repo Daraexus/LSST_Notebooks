{
 "cells": [
  {
   "cell_type": "code",
   "execution_count": 15,
   "metadata": {},
   "outputs": [],
   "source": [
    "filedir=\"/datadec/cppm/jpreyes/CFHT_Production/parameters.txt\"\n",
    "\n",
    "par_dict = {}\n",
    "\n",
    "with open(filedir, 'r') as par_file:\n",
    "    for line in par_file:\n",
    "    \n",
    "        parts = line[:-1].split(\",\")\n",
    "        \n",
    "        parameters = [p for p in parts[1:]]\n",
    "        \n",
    "        if parts[0].startswith(\"-\"):\n",
    "            \n",
    "            par_dict[current][0][parts[0][1:]] = (parameters) \n",
    "        else:\n",
    "            current = parts[0]\n",
    "            \n",
    "            par_dict[current]=({},parameters)"
   ]
  },
  {
   "cell_type": "code",
   "execution_count": 25,
   "metadata": {},
   "outputs": [],
   "source": [
    "def chain_instruction(prefix, instruction_key, instruction_values):\n",
    "        chained_instructions = []  \n",
    "        for value in instruction_values:\n",
    "                chained_instructions.append(prefix+instruction_key+\"=\"+value)\n",
    "        return chained_instructions\n",
    "\n"
   ]
  },
  {
   "cell_type": "code",
   "execution_count": 22,
   "metadata": {},
   "outputs": [
    {
     "data": {
      "text/plain": [
       "['Prefix.candidateCoreRadius=2',\n",
       " 'Prefix.candidateCoreRadius=3',\n",
       " 'Prefix.candidateCoreRadius=4']"
      ]
     },
     "execution_count": 22,
     "metadata": {},
     "output_type": "execute_result"
    }
   ],
   "source": [
    "chain_instruction(\"Prefix.\", \"candidateCoreRadius\", par_dict[\"candidateCoreRadius\"][-1])"
   ]
  },
  {
   "cell_type": "code",
   "execution_count": null,
   "metadata": {
    "collapsed": true
   },
   "outputs": [],
   "source": []
  },
  {
   "cell_type": "code",
   "execution_count": 19,
   "metadata": {},
   "outputs": [
    {
     "data": {
      "text/plain": [
       "{'candidateCoreRadius': ({}, ['2', '3', '4']),\n",
       " 'candidateResidualMeanMax': ({}, ['0.125', ' 0.5']),\n",
       " 'candidateResidualstdMax': ({}, ['0.75', '1.50', '3.0']),\n",
       " 'kernelSize': ({'kernelSizeMax': ['42'], 'kernelSizeMin': ['10']},\n",
       "  ['11', '21', '41']),\n",
       " 'kernelSumClipping': ({}, ['False']),\n",
       " 'maxConditionNumber': ({'checkConditionNumber': ['True']},\n",
       "  ['2.5e7', '5.0e7', '10.0e7']),\n",
       " 'maxSpatialConditionNumber': ({'checkConditionNumber': ['True']},\n",
       "  ['0.5e10', '1.0e10', '2.0e10']),\n",
       " 'nStarsPerCell': ({}, ['2', '3', '4']),\n",
       " 'singleKernelClipping': ({}, ['False']),\n",
       " 'spatialKernelClipping': ({}, ['False']),\n",
       " 'spatialModelType': ({}, ['chebyshev1', 'polynomial']),\n",
       " 'useBicForKernelBasis': ({}, ['True']),\n",
       " 'useCoreStats': ({}, ['True'])}"
      ]
     },
     "execution_count": 19,
     "metadata": {},
     "output_type": "execute_result"
    }
   ],
   "source": [
    "par_dict"
   ]
  },
  {
   "cell_type": "code",
   "execution_count": 37,
   "metadata": {},
   "outputs": [
    {
     "name": "stdout",
     "output_type": "stream",
     "text": [
      "['subtract.kernel.active.candidateResidualMeanMax=0.125', 'subtract.kernel.active.candidateResidualMeanMax= 0.5', 'subtract.kernel.active.useCoreStats=True', 'subtract.kernel.active.spatialModelType=chebyshev1', 'subtract.kernel.active.spatialModelType=polynomial', 'subtract.kernel.active.nStarsPerCell=2', 'subtract.kernel.active.nStarsPerCell=3', 'subtract.kernel.active.nStarsPerCell=4', 'subtract.kernel.active.useBicForKernelBasis=True', 'subtract.kernel.active.kernelSize=11 subtract.kernel.active.kernelSizeMax=42 subtract.kernel.active.kernelSizeMin=10', 'subtract.kernel.active.kernelSize=21 subtract.kernel.active.kernelSizeMax=42 subtract.kernel.active.kernelSizeMin=10', 'subtract.kernel.active.kernelSize=41 subtract.kernel.active.kernelSizeMax=42 subtract.kernel.active.kernelSizeMin=10', 'subtract.kernel.active.spatialKernelClipping=False', 'subtract.kernel.active.candidateResidualstdMax=0.75', 'subtract.kernel.active.candidateResidualstdMax=1.50', 'subtract.kernel.active.candidateResidualstdMax=3.0', 'subtract.kernel.active.kernelSumClipping=False', 'subtract.kernel.active.singleKernelClipping=False', 'subtract.kernel.active.maxSpatialConditionNumber=0.5e10 subtract.kernel.active.checkConditionNumber=True', 'subtract.kernel.active.maxSpatialConditionNumber=1.0e10 subtract.kernel.active.checkConditionNumber=True', 'subtract.kernel.active.maxSpatialConditionNumber=2.0e10 subtract.kernel.active.checkConditionNumber=True', 'subtract.kernel.active.maxConditionNumber=2.5e7 subtract.kernel.active.checkConditionNumber=True', 'subtract.kernel.active.maxConditionNumber=5.0e7 subtract.kernel.active.checkConditionNumber=True', 'subtract.kernel.active.maxConditionNumber=10.0e7 subtract.kernel.active.checkConditionNumber=True', 'subtract.kernel.active.candidateCoreRadius=2', 'subtract.kernel.active.candidateCoreRadius=3', 'subtract.kernel.active.candidateCoreRadius=4']\n"
     ]
    }
   ],
   "source": [
    "par_array = []\n",
    "instructions = []\n",
    "for parameter in par_dict.keys():\n",
    "        sub_insts = par_dict[parameter][0]\n",
    "        instruction = chain_instruction(option_prefix, parameter, par_dict[parameter][-1])\n",
    "\n",
    "        for sub_parameter in sub_insts.keys():\n",
    "                sub_array = chain_instruction(option_prefix, sub_parameter, sub_insts[sub_parameter])\n",
    "                for i, line in enumerate(instruction):\n",
    "                        instruction[i] += \" \"+sub_array[0]      \n",
    "        instructions.extend(instruction)\n",
    "        \n",
    "print instructions"
   ]
  },
  {
   "cell_type": "code",
   "execution_count": 41,
   "metadata": {},
   "outputs": [
    {
     "name": "stdout",
     "output_type": "stream",
     "text": [
      "subtract.kernel.active.candidateResidualMeanMax=0.125\n",
      "subtract.kernel.active.candidateResidualMeanMax= 0.5\n",
      "subtract.kernel.active.useCoreStats=True\n",
      "subtract.kernel.active.spatialModelType=chebyshev1\n",
      "subtract.kernel.active.spatialModelType=polynomial\n",
      "subtract.kernel.active.nStarsPerCell=2\n",
      "subtract.kernel.active.nStarsPerCell=3\n",
      "subtract.kernel.active.nStarsPerCell=4\n",
      "subtract.kernel.active.useBicForKernelBasis=True\n",
      "subtract.kernel.active.kernelSize=11 subtract.kernel.active.kernelSizeMax=42 subtract.kernel.active.kernelSizeMin=10\n",
      "subtract.kernel.active.kernelSize=21 subtract.kernel.active.kernelSizeMax=42 subtract.kernel.active.kernelSizeMin=10\n",
      "subtract.kernel.active.kernelSize=41 subtract.kernel.active.kernelSizeMax=42 subtract.kernel.active.kernelSizeMin=10\n",
      "subtract.kernel.active.spatialKernelClipping=False\n",
      "subtract.kernel.active.candidateResidualstdMax=0.75\n",
      "subtract.kernel.active.candidateResidualstdMax=1.50\n",
      "subtract.kernel.active.candidateResidualstdMax=3.0\n",
      "subtract.kernel.active.kernelSumClipping=False\n",
      "subtract.kernel.active.singleKernelClipping=False\n",
      "subtract.kernel.active.maxSpatialConditionNumber=0.5e10 subtract.kernel.active.checkConditionNumber=True\n",
      "subtract.kernel.active.maxSpatialConditionNumber=1.0e10 subtract.kernel.active.checkConditionNumber=True\n",
      "subtract.kernel.active.maxSpatialConditionNumber=2.0e10 subtract.kernel.active.checkConditionNumber=True\n",
      "subtract.kernel.active.maxConditionNumber=2.5e7 subtract.kernel.active.checkConditionNumber=True\n",
      "subtract.kernel.active.maxConditionNumber=5.0e7 subtract.kernel.active.checkConditionNumber=True\n",
      "subtract.kernel.active.maxConditionNumber=10.0e7 subtract.kernel.active.checkConditionNumber=True\n",
      "subtract.kernel.active.candidateCoreRadius=2\n",
      "subtract.kernel.active.candidateCoreRadius=3\n",
      "subtract.kernel.active.candidateCoreRadius=4\n"
     ]
    }
   ],
   "source": [
    "for i in instructions:\n",
    "    print i"
   ]
  },
  {
   "cell_type": "code",
   "execution_count": 31,
   "metadata": {},
   "outputs": [
    {
     "data": {
      "text/plain": [
       "{'candidateCoreRadius': ({}, ['2', '3', '4']),\n",
       " 'candidateResidualMeanMax': ({}, ['0.125', ' 0.5']),\n",
       " 'candidateResidualstdMax': ({}, ['0.75', '1.50', '3.0']),\n",
       " 'kernelSize': ({'kernelSizeMax': ['42'], 'kernelSizeMin': ['10']},\n",
       "  ['11', '21', '41']),\n",
       " 'kernelSumClipping': ({}, ['False']),\n",
       " 'maxConditionNumber': ({'checkConditionNumber': ['True']},\n",
       "  ['2.5e7', '5.0e7', '10.0e7']),\n",
       " 'maxSpatialConditionNumber': ({'checkConditionNumber': ['True']},\n",
       "  ['0.5e10', '1.0e10', '2.0e10']),\n",
       " 'nStarsPerCell': ({}, ['2', '3', '4']),\n",
       " 'singleKernelClipping': ({}, ['False']),\n",
       " 'spatialKernelClipping': ({}, ['False']),\n",
       " 'spatialModelType': ({}, ['chebyshev1', 'polynomial']),\n",
       " 'useBicForKernelBasis': ({}, ['True']),\n",
       " 'useCoreStats': ({}, ['True'])}"
      ]
     },
     "execution_count": 31,
     "metadata": {},
     "output_type": "execute_result"
    }
   ],
   "source": [
    "par_dict"
   ]
  },
  {
   "cell_type": "code",
   "execution_count": null,
   "metadata": {
    "collapsed": true
   },
   "outputs": [],
   "source": []
  }
 ],
 "metadata": {
  "kernelspec": {
   "display_name": "Python 2",
   "language": "python",
   "name": "python2"
  },
  "language_info": {
   "codemirror_mode": {
    "name": "ipython",
    "version": 2
   },
   "file_extension": ".py",
   "mimetype": "text/x-python",
   "name": "python",
   "nbconvert_exporter": "python",
   "pygments_lexer": "ipython2",
   "version": "2.7.12"
  }
 },
 "nbformat": 4,
 "nbformat_minor": 2
}
