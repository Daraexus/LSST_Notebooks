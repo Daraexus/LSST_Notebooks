{
 "cells": [
  {
   "cell_type": "code",
   "execution_count": 26,
   "metadata": {
    "collapsed": false
   },
   "outputs": [],
   "source": [
    "from lsst.pipe.tasks.imageDifference import ImageDifferenceTask"
   ]
  },
  {
   "cell_type": "code",
   "execution_count": 47,
   "metadata": {
    "collapsed": false
   },
   "outputs": [],
   "source": [
    "import glob\n",
    "import os\n",
    "import subprocess\n",
    "import sys\n",
    "import time\n",
    "import math\n",
    "import random\n",
    "import numpy\n",
    "\n",
    "from IPython.display import Image, display_png\n",
    "\n",
    "import lsst.afw.display.ds9 as ds9\n",
    "import lsst.afw.math as afwMath\n",
    "import lsst.afw.geom as afwGeom\n",
    "import lsst.afw.image as afwImage\n",
    "import lsst.afw.table as afwTable\n",
    "\n",
    "import lsst.ip.diffim as ipDiffim\n",
    "import lsst.pex.config as pexConfig\n",
    "import lsst.pipe.base as pipeBase\n",
    "import lsst.daf.base as dafBase\n",
    "import lsst.afw.geom as afwGeom\n",
    "import lsst.afw.image as afwImage\n",
    "import lsst.afw.math as afwMath\n",
    "import lsst.afw.table as afwTable\n",
    "import lsst.meas.astrom as measAstrom\n",
    "\n",
    "from lsst.pipe.tasks.registerImage import RegisterTask\n",
    "from lsst.meas.algorithms import PsfAttributes\n",
    "#from lsst.meas.algorithms import SourceDetectionTask, SourceMeasurementTask, starSelectorRegistry, PsfAttributes, SingleGaussianPsf\n",
    "from lsst.ip.diffim import ImagePsfMatchTask, DipoleMeasurementTask, DipoleAnalysis,SourceFlagChecker, KernelCandidateF, cast_KernelCandidateF, makeKernelBasisList\n",
    "#    KernelCandidateQa, DiaCatalogSourceSelector, DiaCatalogSourceSelectorConfig\n",
    "import lsst.ip.diffim.diffimTools as diffimTools\n",
    "\n",
    "\n",
    "\n",
    "\n",
    "import lsst.daf.persistence as dafPersist\n",
    "import lsst.pipe.tasks.imageDifference as ImageDifferencer\n",
    "DATADIR=\"/renoir_data_02/jpreyes/lsst_winter2013/w13_diffim_v11/\"\n",
    "\n",
    "\n",
    "\n"
   ]
  },
  {
   "cell_type": "markdown",
   "metadata": {},
   "source": [
    "## Methods for ds9 Image Visualization"
   ]
  },
  {
   "cell_type": "code",
   "execution_count": 7,
   "metadata": {
    "collapsed": false
   },
   "outputs": [],
   "source": [
    "def displayFigure(path):\n",
    "    i =  Image(path)\n",
    "    display_png(i)\n",
    "    \n",
    "def displayImage(Image,frame=0,title=\"NoName\",path=\"fig\"):\n",
    "    ds9.mtv(Image, frame=frame, title=title)\n",
    "    ds9.ds9Cmd(\"zscale\")\n",
    "    ds9.ds9Cmd(\"zoom to fit\")\n",
    "    ds9.ds9Cmd(\"raise\")\n",
    "    ds9.ds9Cmd('saveimage '+path)\n",
    "    print title\n",
    "    displayFigure(path)\n",
    "\n",
    "def showFrame(frame=0,title=\"NoTitle\",path=\"fig\"):\n",
    "    ds9.ds9Cmd(\"zscale\")\n",
    "    ds9.ds9Cmd(\"zoom to fit\")\n",
    "    ds9.ds9Cmd(\"raise\")\n",
    "    ds9.ds9Cmd('saveimage '+path)\n",
    "    print title\n",
    "    displayFigure(path)\n",
    "    \n",
    "def displayImageWithSources(Image,frame=0,title=\"NoName\",path=\"fig\", sources=[]):\n",
    "    ds9.mtv(Image, frame=frame, title=title)\n",
    "    ds9.ds9Cmd(\"zscale\")\n",
    "    ds9.ds9Cmd(\"zoom to fit\")\n",
    "    ds9.ds9Cmd(\"raise\")\n",
    "    \n",
    "    \n",
    "    for source in sources:\n",
    "        ds9.dot(\"+\", source.getX()-Image.getX0()  , source.getY()-Image.getY0() , frame=frame, size = 25, ctype = ds9.RED)\n",
    "\n",
    "    \n",
    "    ds9.ds9Cmd('saveimage '+path)\n",
    "    print title\n",
    "    displayFigure(path)\n"
   ]
  },
  {
   "cell_type": "markdown",
   "metadata": {},
   "source": [
    "## Methods for pre-processing the input data"
   ]
  },
  {
   "cell_type": "code",
   "execution_count": 3,
   "metadata": {
    "collapsed": false
   },
   "outputs": [],
   "source": [
    "if(os.path.exists(DATADIR)==False):\n",
    "    os.makedirs(DATADIR)\n",
    "if(os.path.exists(DATADIR+\"/input\")==False):\n",
    "    os.makedirs(DATADIR+\"/input\")\n",
    "temp_file=open(DATADIR+\"/input/_mapper\",'w')\n",
    "temp_file.write('lsst.obs.cfht.MegacamMapper')\n",
    "temp_file.close()\n"
   ]
  },
  {
   "cell_type": "code",
   "execution_count": 106,
   "metadata": {
    "collapsed": false
   },
   "outputs": [
    {
     "ename": "NameError",
     "evalue": "name 'Ingester' is not defined",
     "output_type": "error",
     "traceback": [
      "\u001b[1;31m---------------------------------------------------------------------------\u001b[0m",
      "\u001b[1;31mNameError\u001b[0m                                 Traceback (most recent call last)",
      "\u001b[1;32m<ipython-input-106-9f31436adba1>\u001b[0m in \u001b[0;36m<module>\u001b[1;34m()\u001b[0m\n\u001b[1;32m----> 1\u001b[1;33m \u001b[0mITask\u001b[0m \u001b[1;33m=\u001b[0m \u001b[0mIngester\u001b[0m\u001b[1;33m.\u001b[0m\u001b[0mIngestTask\u001b[0m\u001b[1;33m\u001b[0m\u001b[0m\n\u001b[0m\u001b[0;32m      2\u001b[0m \u001b[0mIConfig\u001b[0m \u001b[1;33m=\u001b[0m \u001b[0mITask\u001b[0m\u001b[1;33m.\u001b[0m\u001b[0mConfigClass\u001b[0m\u001b[1;33m(\u001b[0m\u001b[1;33m)\u001b[0m\u001b[1;33m\u001b[0m\u001b[0m\n\u001b[0;32m      3\u001b[0m \u001b[0mIParser\u001b[0m \u001b[1;33m=\u001b[0m \u001b[0mITask\u001b[0m\u001b[1;33m.\u001b[0m\u001b[0mArgumentParser\u001b[0m\u001b[1;33m(\u001b[0m\u001b[1;34m\"ingest\"\u001b[0m\u001b[1;33m)\u001b[0m\u001b[1;33m\u001b[0m\u001b[0m\n\u001b[0;32m      4\u001b[0m \u001b[0mFiles\u001b[0m \u001b[1;33m=\u001b[0m \u001b[0mglob\u001b[0m\u001b[1;33m.\u001b[0m\u001b[0mglob\u001b[0m\u001b[1;33m(\u001b[0m\u001b[1;34m\"/renoir_data_02/jpreyes/lsst_simulated_data/sparse_diffim_data/raw/v6866601-fi/E000/R22/S00/*fits.gz\"\u001b[0m\u001b[1;33m)\u001b[0m\u001b[1;33m\u001b[0m\u001b[0m\n\u001b[0;32m      5\u001b[0m \u001b[0mSFiles\u001b[0m \u001b[1;33m=\u001b[0m \u001b[1;34m' '\u001b[0m\u001b[1;33m.\u001b[0m\u001b[0mjoin\u001b[0m\u001b[1;33m(\u001b[0m\u001b[0mFiles\u001b[0m\u001b[1;33m)\u001b[0m\u001b[1;33m\u001b[0m\u001b[0m\n",
      "\u001b[1;31mNameError\u001b[0m: name 'Ingester' is not defined"
     ]
    }
   ],
   "source": [
    "ITask = Ingester.IngestTask\n",
    "IConfig = ITask.ConfigClass()\n",
    "IParser = ITask.ArgumentParser(\"ingest\")\n",
    "Files = glob.glob(\"/renoir_data_02/jpreyes/lsst_simulated_data/sparse_diffim_data/raw/v6866601-fi/E000/R22/S00/*fits.gz\")\n",
    "SFiles = ' '.join(Files)\n",
    "print SFiles\n",
    "args = IParser.parse_args(IConfig, (DATADIR+'/input '+SFiles+' --mode link').split()) \n",
    "task = ITask(config=args.config)\n",
    "task.run(args)"
   ]
  },
  {
   "cell_type": "code",
   "execution_count": null,
   "metadata": {
    "collapsed": false
   },
   "outputs": [],
   "source": [
    "PTask = Processer.ProcessCcdTask\n",
    "\n",
    "PTask.parseAndRun(args=((DATADIR+\"/input --output \"+DATADIR+\"/output --id ccd=14 --config isr.doBias=False isr.doFlat=False isr.doFringe=False\").split()))"
   ]
  },
  {
   "cell_type": "markdown",
   "metadata": {},
   "source": [
    "# ImageDifferenceTask"
   ]
  },
  {
   "cell_type": "markdown",
   "metadata": {},
   "source": [
    "Initialization of classes, config and other important variables. Most \"self\" references in the ImageDifferenceTask should be replaced by IDifTask. self.config references can be replaced by IDConfig"
   ]
  },
  {
   "cell_type": "raw",
   "metadata": {},
   "source": [
    "/renoir_data_02/jpreyes/lsst_winter2013/w13_diffim_v11/ --id visit=6866602 filter=i raft=2,2 sensor=1,1 --templateId visit=88868666  --clobber-config"
   ]
  },
  {
   "cell_type": "code",
   "execution_count": 108,
   "metadata": {
    "collapsed": false
   },
   "outputs": [],
   "source": [
    "config = ipDiffim.ImagePsfMatchTask.ConfigClass()\n",
    "config.kernel.name = \"AL\"\n",
    "subconfig = config.kernel.active\n",
    "defFwhm         = None\n",
    "scienceFwhmPix = defFwhm\n",
    "templateFwhmPix = defFwhm\n",
    "psfmatch = ipDiffim.ImagePsfMatchTask(config)"
   ]
  },
  {
   "cell_type": "code",
   "execution_count": 109,
   "metadata": {
    "collapsed": false
   },
   "outputs": [],
   "source": [
    "IDTask = ImageDifferencer.ImageDifferenceTask\n",
    "IDConfig = IDTask.ConfigClass()\n",
    "IDifTask = IDTask()\n",
    "IDifTask.__init__()\n",
    "\n",
    "FwhmPerSigma = 2 * math.sqrt(2 * math.log(2))\n",
    "IqrToSigma = 0.741"
   ]
  },
  {
   "cell_type": "markdown",
   "metadata": {},
   "source": [
    "Intialization of outputs and intermediate products"
   ]
  },
  {
   "cell_type": "code",
   "execution_count": 110,
   "metadata": {
    "collapsed": false
   },
   "outputs": [],
   "source": [
    "subtractedExposure = None\n",
    "subtractRes = None\n",
    "selectSources = None\n",
    "kernelSources = None\n",
    "controlSources = None\n",
    "diaSources = None\n"
   ]
  },
  {
   "cell_type": "markdown",
   "metadata": {},
   "source": [
    "Butler initialization. Here we have to indicate the image which is going to be used for the processing."
   ]
  },
  {
   "cell_type": "code",
   "execution_count": 111,
   "metadata": {
    "collapsed": false
   },
   "outputs": [],
   "source": [
    "butler = dafPersist.Butler(DATADIR)\n",
    "dataid = {'visit': 6866602, 'filter':'i' , 'raft':'2,2', 'sensor':'1,1'}\n",
    "templateid= {'visit': 88868666, 'filter':'i' , 'raft':'2,2', 'sensor':'1,1'}"
   ]
  },
  {
   "cell_type": "code",
   "execution_count": 112,
   "metadata": {
    "collapsed": false
   },
   "outputs": [],
   "source": [
    "exposure = butler.get(\"calexp\", dataid)\n",
    "\n",
    "expBits = butler.get(\"ccdExposureId_bits\", dataid)\n",
    "expId = long(butler.get(\"ccdExposureId\", dataid))\n",
    "idFactory = afwTable.IdFactory.makeSource(expId, 64 - expBits)\n",
    "\n",
    "\n",
    "exposureBg = butler.get(\"calexpBackground\", dataid)\n",
    "\n",
    "sciencePsf = exposure.getPsf()"
   ]
  },
  {
   "cell_type": "code",
   "execution_count": 113,
   "metadata": {
    "collapsed": false
   },
   "outputs": [],
   "source": [
    "expBits = butler.get(\"ccdExposureId_bits\", dataid)\n",
    "expId = long(butler.get(\"ccdExposureId\", dataid))\n",
    "idFactory = afwTable.IdFactory.makeSource(expId, 64 - expBits)\n",
    "\n",
    "        # Retrieve the science image we wish to analyze\n",
    "exposure = butler.get(\"calexp\", dataid, immediate=True)\n",
    "if IDConfig.doAddCalexpBackground:\n",
    "            mi = exposure.getMaskedImage()\n",
    "            mi += butler.get(\"calexpBackground\", dataid).getImage()\n",
    "if not exposure.hasPsf():\n",
    "       raise pipeBase.TaskError(\"Exposure has no psf\")\n",
    "sciencePsf = exposure.getPsf()\n"
   ]
  },
  {
   "cell_type": "markdown",
   "metadata": {},
   "source": [
    "There are two methods for obtaining the templateExposure. Those method rely on coadd tract info already generated (pre-processing) or prepared. As a result, these two lines have to be change in order to reflect a real templateExposure for the given image."
   ]
  },
  {
   "cell_type": "code",
   "execution_count": 114,
   "metadata": {
    "collapsed": false
   },
   "outputs": [],
   "source": [
    "templateExposure = butler.get(\"calexp\", templateid)\n",
    "templateSources =  butler.get(\"src\", templateid)"
   ]
  },
  {
   "cell_type": "markdown",
   "metadata": {},
   "source": [
    "Compute the sigma of Science Image and Template Image PSF before convolution"
   ]
  },
  {
   "cell_type": "code",
   "execution_count": 115,
   "metadata": {
    "collapsed": false
   },
   "outputs": [],
   "source": [
    "ctr = afwGeom.Box2D(exposure.getBBox(afwImage.PARENT)).getCenter()\n",
    "psfAttr = PsfAttributes(sciencePsf, afwGeom.Point2I(ctr))\n",
    "scienceSigmaOrig = psfAttr.computeGaussianWidth(psfAttr.ADAPTIVE_MOMENT)\n",
    "\n",
    "ctr = afwGeom.Box2D(templateExposure.getBBox(afwImage.PARENT)).getCenter()\n",
    "psfAttr = PsfAttributes(templateExposure.getPsf(), afwGeom.Point2I(ctr))\n",
    "templateSigma = psfAttr.computeGaussianWidth(psfAttr.ADAPTIVE_MOMENT)"
   ]
  },
  {
   "cell_type": "markdown",
   "metadata": {},
   "source": [
    "Convolve the science Exposure with its PSF (as mentioned on the Alard-Luptor article), or simply put the hard-value on it."
   ]
  },
  {
   "cell_type": "code",
   "execution_count": 116,
   "metadata": {
    "collapsed": false
   },
   "outputs": [],
   "source": [
    "if IDConfig.doPreConvolve:\n",
    "     print \"doing Pre-convolve\"\n",
    "     convControl = afwMath.ConvolutionControl()\n",
    "     # cannot convolve in place, so make a new MI to receive convolved image\n",
    "     srcMI = exposure.getMaskedImage()\n",
    "     destMI = srcMI.Factory(srcMI.getDimensions())\n",
    "     srcPsf = sciencePsf\n",
    "     if IDConfig.useGaussianForPreConvolution:\n",
    "         # convolve with a simplified PSF model: a double Gaussian\n",
    "         kWidth, kHeight = sciencePsf.getLocalKernel().getDimensions()\n",
    "         preConvPsf = SingleGaussianPsf(kWidth, kHeight, scienceSigmaOrig)\n",
    "     else:\n",
    "         print \"no Pre-Convolve is being done\"\n",
    "         # convolve with science exposure's PSF model\n",
    "         preConvPsf = psf\n",
    "         afwMath.convolve(destMI, srcMI, preConvPsf.getLocalKernel(), convControl)\n",
    "         exposure.setMaskedImage(destMI)\n",
    "         scienceSigmaPost = scienceSigmaOrig * math.sqrt(2)\n",
    "else:\n",
    "     scienceSigmaPost = scienceSigmaOrig\n"
   ]
  },
  {
   "cell_type": "markdown",
   "metadata": {},
   "source": [
    "Search for the sources on the Image"
   ]
  },
  {
   "cell_type": "code",
   "execution_count": 117,
   "metadata": {
    "collapsed": false
   },
   "outputs": [
    {
     "name": "stdout",
     "output_type": "stream",
     "text": [
      "['ConfigClass', 'RunnerClass', '_DefaultName', '__class__', '__delattr__', '__dict__', '__doc__', '__format__', '__getattribute__', '__hash__', '__init__', '__module__', '__new__', '__reduce__', '__reduce_ex__', '__repr__', '__setattr__', '__sizeof__', '__str__', '__subclasshook__', '__weakref__', '_computeFullName', '_getConfigName', '_getMetadataName', '_makeArgumentParser', 'applyOverrides', 'canMultiprocess', 'display', 'emptyMetadata', 'fitAstrometry', 'getAllSchemaCatalogs', 'getFullMetadata', 'getFullName', 'getName', 'getSchemaCatalogs', 'getTaskDict', 'makeField', 'makeSubtask', 'parseAndRun', 'run', 'runDebug', 'timer', 'writeConfig', 'writeMetadata', 'writeSchemas']\n"
     ]
    }
   ],
   "source": [
    "scienceSigmaPost = scienceSigmaOrig\n",
    "print(dir(IDTask))\n",
    "selectSources = psfmatch.getSelectSources(\n",
    "                        exposure,\n",
    "                        sigma = scienceSigmaPost,\n",
    "                        doSmooth = not False,\n",
    "                        idFactory = None)"
   ]
  },
  {
   "cell_type": "markdown",
   "metadata": {},
   "source": [
    "Number of Basis functions (Alard-Lupton Method)"
   ]
  },
  {
   "cell_type": "code",
   "execution_count": 118,
   "metadata": {
    "collapsed": false
   },
   "outputs": [],
   "source": [
    "nparam = len(makeKernelBasisList(IDifTask.subtract.config.kernel.active,\n",
    "                                                 referenceFwhmPix=scienceSigmaPost * FwhmPerSigma,\n",
    "                                                 targetFwhmPix=templateSigma * FwhmPerSigma))\n"
   ]
  },
  {
   "cell_type": "markdown",
   "metadata": {},
   "source": [
    "Modifying schemas... (not working sometimes)"
   ]
  },
  {
   "cell_type": "code",
   "execution_count": 119,
   "metadata": {
    "collapsed": false
   },
   "outputs": [],
   "source": [
    "IDifTask.config.doAddMetrics = False\n",
    "if IDifTask.config.doAddMetrics:\n",
    "        print \"Modify the schema of all Sources\"\n",
    "        kcQa = KernelCandidateQa(nparam)\n",
    "        selectSources = kcQa.addToSchema(selectSources)\n"
   ]
  },
  {
   "cell_type": "markdown",
   "metadata": {},
   "source": [
    "Some operations with the sources"
   ]
  },
  {
   "cell_type": "code",
   "execution_count": 120,
   "metadata": {
    "collapsed": false
   },
   "outputs": [],
   "source": [
    "#astrometer = measAstrom.AstrometryTask()\n",
    "astrometer = measAstrom.AstrometryTask()"
   ]
  },
  {
   "cell_type": "code",
   "execution_count": 121,
   "metadata": {
    "collapsed": false
   },
   "outputs": [],
   "source": [
    "astrometer = pexConfig.ConfigurableField(\n",
    "        target = measAstrom.AstrometryTask,\n",
    "        doc = \"astrometry task; used to match sources to reference objects, but not to fit a WCS\",\n",
    "    )\n",
    "\n",
    "#print IDifTask.config.doUseRegister\n",
    "#print astrometer\n",
    "\n",
    "IDifTask.sourceSelector = IDifTask.config.sourceSelector.apply()\n",
    "\n",
    "#astrometer = IDifTask.makeSubtask(\"astrometer\")\n",
    "\n",
    "astroConfig = measAstrom.AstrometryConfig()\n",
    "astrometer=measAstrom.AstrometryTask(astroConfig)\n"
   ]
  },
  {
   "cell_type": "code",
   "execution_count": 122,
   "metadata": {
    "collapsed": false
   },
   "outputs": [
    {
     "ename": "RuntimeError",
     "evalue": "Unable to find andConfig.py in astrometry_net_data directory /renoir_data_00/fouchez/lsst/DM/stacks/v11.0/Linux64/astrometry_net_data/10.0+41",
     "output_type": "error",
     "traceback": [
      "\u001b[1;31m---------------------------------------------------------------------------\u001b[0m",
      "\u001b[1;31mRuntimeError\u001b[0m                              Traceback (most recent call last)",
      "\u001b[1;32m<ipython-input-122-dad3b9545849>\u001b[0m in \u001b[0;36m<module>\u001b[1;34m()\u001b[0m\n\u001b[1;32m----> 1\u001b[1;33m \u001b[0mastromRet\u001b[0m \u001b[1;33m=\u001b[0m \u001b[0mastrometer\u001b[0m\u001b[1;33m.\u001b[0m\u001b[0mloadAndMatch\u001b[0m\u001b[1;33m(\u001b[0m\u001b[0mexposure\u001b[0m\u001b[1;33m=\u001b[0m\u001b[0mexposure\u001b[0m\u001b[1;33m,\u001b[0m \u001b[0msourceCat\u001b[0m\u001b[1;33m=\u001b[0m\u001b[0mselectSources\u001b[0m\u001b[1;33m)\u001b[0m\u001b[1;33m\u001b[0m\u001b[0m\n\u001b[0m\u001b[0;32m      2\u001b[0m \u001b[0mmatches\u001b[0m \u001b[1;33m=\u001b[0m \u001b[0mastromRet\u001b[0m\u001b[1;33m.\u001b[0m\u001b[0mmatches\u001b[0m\u001b[1;33m\u001b[0m\u001b[0m\n\u001b[0;32m      3\u001b[0m \u001b[0mkernelSources\u001b[0m \u001b[1;33m=\u001b[0m \u001b[0mself\u001b[0m\u001b[1;33m.\u001b[0m\u001b[0msourceSelector\u001b[0m\u001b[1;33m.\u001b[0m\u001b[0mselectSources\u001b[0m\u001b[1;33m(\u001b[0m\u001b[0mexposure\u001b[0m\u001b[1;33m,\u001b[0m \u001b[0mselectSources\u001b[0m\u001b[1;33m,\u001b[0m \u001b[0mmatches\u001b[0m\u001b[1;33m=\u001b[0m\u001b[0mmatches\u001b[0m\u001b[1;33m)\u001b[0m\u001b[1;33m\u001b[0m\u001b[0m\n\u001b[0;32m      4\u001b[0m \u001b[0mrandom\u001b[0m\u001b[1;33m.\u001b[0m\u001b[0mshuffle\u001b[0m\u001b[1;33m(\u001b[0m\u001b[0mkernelSources\u001b[0m\u001b[1;33m,\u001b[0m \u001b[0mrandom\u001b[0m\u001b[1;33m.\u001b[0m\u001b[0mrandom\u001b[0m\u001b[1;33m)\u001b[0m\u001b[1;33m\u001b[0m\u001b[0m\n\u001b[0;32m      5\u001b[0m \u001b[0mcontrolSources\u001b[0m \u001b[1;33m=\u001b[0m \u001b[0mkernelSources\u001b[0m\u001b[1;33m[\u001b[0m\u001b[1;33m:\u001b[0m\u001b[1;33m:\u001b[0m\u001b[0mself\u001b[0m\u001b[1;33m.\u001b[0m\u001b[0mconfig\u001b[0m\u001b[1;33m.\u001b[0m\u001b[0mcontrolStepSize\u001b[0m\u001b[1;33m]\u001b[0m\u001b[1;33m\u001b[0m\u001b[0m\n",
      "\u001b[1;32m/renoir_data_00/fouchez/lsst/DM/stacks/v11.0/Linux64/pipe_base/11.0+2/python/lsst/pipe/base/timer.pyc\u001b[0m in \u001b[0;36mwrapper\u001b[1;34m(self, *args, **keyArgs)\u001b[0m\n\u001b[0;32m    116\u001b[0m         \u001b[0mlogInfo\u001b[0m\u001b[1;33m(\u001b[0m\u001b[0mobj\u001b[0m \u001b[1;33m=\u001b[0m \u001b[0mself\u001b[0m\u001b[1;33m,\u001b[0m \u001b[0mprefix\u001b[0m \u001b[1;33m=\u001b[0m \u001b[0mfunc\u001b[0m\u001b[1;33m.\u001b[0m\u001b[0m__name__\u001b[0m \u001b[1;33m+\u001b[0m \u001b[1;34m\"Start\"\u001b[0m\u001b[1;33m)\u001b[0m\u001b[1;33m\u001b[0m\u001b[0m\n\u001b[0;32m    117\u001b[0m         \u001b[1;32mtry\u001b[0m\u001b[1;33m:\u001b[0m\u001b[1;33m\u001b[0m\u001b[0m\n\u001b[1;32m--> 118\u001b[1;33m             \u001b[0mres\u001b[0m \u001b[1;33m=\u001b[0m \u001b[0mfunc\u001b[0m\u001b[1;33m(\u001b[0m\u001b[0mself\u001b[0m\u001b[1;33m,\u001b[0m \u001b[1;33m*\u001b[0m\u001b[0margs\u001b[0m\u001b[1;33m,\u001b[0m \u001b[1;33m**\u001b[0m\u001b[0mkeyArgs\u001b[0m\u001b[1;33m)\u001b[0m\u001b[1;33m\u001b[0m\u001b[0m\n\u001b[0m\u001b[0;32m    119\u001b[0m         \u001b[1;32mfinally\u001b[0m\u001b[1;33m:\u001b[0m\u001b[1;33m\u001b[0m\u001b[0m\n\u001b[0;32m    120\u001b[0m             \u001b[0mlogInfo\u001b[0m\u001b[1;33m(\u001b[0m\u001b[0mobj\u001b[0m \u001b[1;33m=\u001b[0m \u001b[0mself\u001b[0m\u001b[1;33m,\u001b[0m \u001b[0mprefix\u001b[0m \u001b[1;33m=\u001b[0m \u001b[0mfunc\u001b[0m\u001b[1;33m.\u001b[0m\u001b[0m__name__\u001b[0m \u001b[1;33m+\u001b[0m \u001b[1;34m\"End\"\u001b[0m\u001b[1;33m)\u001b[0m\u001b[1;33m\u001b[0m\u001b[0m\n",
      "\u001b[1;32m/renoir_data_00/fouchez/lsst/DM/stacks/v11.0/Linux64/meas_astrom/11.0+1/python/lsst/meas/astrom/astrometry.pyc\u001b[0m in \u001b[0;36mloadAndMatch\u001b[1;34m(self, exposure, sourceCat)\u001b[0m\n\u001b[0;32m    201\u001b[0m             \u001b[0mwcs\u001b[0m \u001b[1;33m=\u001b[0m \u001b[0mexpMd\u001b[0m\u001b[1;33m.\u001b[0m\u001b[0mwcs\u001b[0m\u001b[1;33m,\u001b[0m\u001b[1;33m\u001b[0m\u001b[0m\n\u001b[0;32m    202\u001b[0m             \u001b[0mfilterName\u001b[0m \u001b[1;33m=\u001b[0m \u001b[0mexpMd\u001b[0m\u001b[1;33m.\u001b[0m\u001b[0mfilterName\u001b[0m\u001b[1;33m,\u001b[0m\u001b[1;33m\u001b[0m\u001b[0m\n\u001b[1;32m--> 203\u001b[1;33m             \u001b[0mcalib\u001b[0m \u001b[1;33m=\u001b[0m \u001b[0mexpMd\u001b[0m\u001b[1;33m.\u001b[0m\u001b[0mcalib\u001b[0m\u001b[1;33m,\u001b[0m\u001b[1;33m\u001b[0m\u001b[0m\n\u001b[0m\u001b[0;32m    204\u001b[0m         )\n\u001b[0;32m    205\u001b[0m \u001b[1;33m\u001b[0m\u001b[0m\n",
      "\u001b[1;32m/renoir_data_00/fouchez/lsst/DM/stacks/v11.0/Linux64/pipe_base/11.0+2/python/lsst/pipe/base/timer.pyc\u001b[0m in \u001b[0;36mwrapper\u001b[1;34m(self, *args, **keyArgs)\u001b[0m\n\u001b[0;32m    116\u001b[0m         \u001b[0mlogInfo\u001b[0m\u001b[1;33m(\u001b[0m\u001b[0mobj\u001b[0m \u001b[1;33m=\u001b[0m \u001b[0mself\u001b[0m\u001b[1;33m,\u001b[0m \u001b[0mprefix\u001b[0m \u001b[1;33m=\u001b[0m \u001b[0mfunc\u001b[0m\u001b[1;33m.\u001b[0m\u001b[0m__name__\u001b[0m \u001b[1;33m+\u001b[0m \u001b[1;34m\"Start\"\u001b[0m\u001b[1;33m)\u001b[0m\u001b[1;33m\u001b[0m\u001b[0m\n\u001b[0;32m    117\u001b[0m         \u001b[1;32mtry\u001b[0m\u001b[1;33m:\u001b[0m\u001b[1;33m\u001b[0m\u001b[0m\n\u001b[1;32m--> 118\u001b[1;33m             \u001b[0mres\u001b[0m \u001b[1;33m=\u001b[0m \u001b[0mfunc\u001b[0m\u001b[1;33m(\u001b[0m\u001b[0mself\u001b[0m\u001b[1;33m,\u001b[0m \u001b[1;33m*\u001b[0m\u001b[0margs\u001b[0m\u001b[1;33m,\u001b[0m \u001b[1;33m**\u001b[0m\u001b[0mkeyArgs\u001b[0m\u001b[1;33m)\u001b[0m\u001b[1;33m\u001b[0m\u001b[0m\n\u001b[0m\u001b[0;32m    119\u001b[0m         \u001b[1;32mfinally\u001b[0m\u001b[1;33m:\u001b[0m\u001b[1;33m\u001b[0m\u001b[0m\n\u001b[0;32m    120\u001b[0m             \u001b[0mlogInfo\u001b[0m\u001b[1;33m(\u001b[0m\u001b[0mobj\u001b[0m \u001b[1;33m=\u001b[0m \u001b[0mself\u001b[0m\u001b[1;33m,\u001b[0m \u001b[0mprefix\u001b[0m \u001b[1;33m=\u001b[0m \u001b[0mfunc\u001b[0m\u001b[1;33m.\u001b[0m\u001b[0m__name__\u001b[0m \u001b[1;33m+\u001b[0m \u001b[1;34m\"End\"\u001b[0m\u001b[1;33m)\u001b[0m\u001b[1;33m\u001b[0m\u001b[0m\n",
      "\u001b[1;32m/renoir_data_00/fouchez/lsst/DM/stacks/v11.0/Linux64/meas_algorithms/11.0+1/python/lsst/meas/algorithms/loadReferenceObjects.pyc\u001b[0m in \u001b[0;36mloadPixelBox\u001b[1;34m(self, bbox, wcs, filterName, calib)\u001b[0m\n\u001b[0;32m    171\u001b[0m         self.log.info(\"Loading reference objects using center %s pix = %s sky and radius %s deg\" %\n\u001b[0;32m    172\u001b[0m                       (bbox.getCenter(), ctrCoord, maxRadius.asDegrees()))\n\u001b[1;32m--> 173\u001b[1;33m         \u001b[0mloadRes\u001b[0m \u001b[1;33m=\u001b[0m \u001b[0mself\u001b[0m\u001b[1;33m.\u001b[0m\u001b[0mloadSkyCircle\u001b[0m\u001b[1;33m(\u001b[0m\u001b[0mctrCoord\u001b[0m\u001b[1;33m,\u001b[0m \u001b[0mmaxRadius\u001b[0m\u001b[1;33m,\u001b[0m \u001b[0mfilterName\u001b[0m\u001b[1;33m)\u001b[0m\u001b[1;33m\u001b[0m\u001b[0m\n\u001b[0m\u001b[0;32m    174\u001b[0m         \u001b[0mrefCat\u001b[0m \u001b[1;33m=\u001b[0m \u001b[0mloadRes\u001b[0m\u001b[1;33m.\u001b[0m\u001b[0mrefCat\u001b[0m\u001b[1;33m\u001b[0m\u001b[0m\n\u001b[0;32m    175\u001b[0m         \u001b[0mnumFound\u001b[0m \u001b[1;33m=\u001b[0m \u001b[0mlen\u001b[0m\u001b[1;33m(\u001b[0m\u001b[0mrefCat\u001b[0m\u001b[1;33m)\u001b[0m\u001b[1;33m\u001b[0m\u001b[0m\n",
      "\u001b[1;32m/renoir_data_00/fouchez/lsst/DM/stacks/v11.0/Linux64/pipe_base/11.0+2/python/lsst/pipe/base/timer.pyc\u001b[0m in \u001b[0;36mwrapper\u001b[1;34m(self, *args, **keyArgs)\u001b[0m\n\u001b[0;32m    116\u001b[0m         \u001b[0mlogInfo\u001b[0m\u001b[1;33m(\u001b[0m\u001b[0mobj\u001b[0m \u001b[1;33m=\u001b[0m \u001b[0mself\u001b[0m\u001b[1;33m,\u001b[0m \u001b[0mprefix\u001b[0m \u001b[1;33m=\u001b[0m \u001b[0mfunc\u001b[0m\u001b[1;33m.\u001b[0m\u001b[0m__name__\u001b[0m \u001b[1;33m+\u001b[0m \u001b[1;34m\"Start\"\u001b[0m\u001b[1;33m)\u001b[0m\u001b[1;33m\u001b[0m\u001b[0m\n\u001b[0;32m    117\u001b[0m         \u001b[1;32mtry\u001b[0m\u001b[1;33m:\u001b[0m\u001b[1;33m\u001b[0m\u001b[0m\n\u001b[1;32m--> 118\u001b[1;33m             \u001b[0mres\u001b[0m \u001b[1;33m=\u001b[0m \u001b[0mfunc\u001b[0m\u001b[1;33m(\u001b[0m\u001b[0mself\u001b[0m\u001b[1;33m,\u001b[0m \u001b[1;33m*\u001b[0m\u001b[0margs\u001b[0m\u001b[1;33m,\u001b[0m \u001b[1;33m**\u001b[0m\u001b[0mkeyArgs\u001b[0m\u001b[1;33m)\u001b[0m\u001b[1;33m\u001b[0m\u001b[0m\n\u001b[0m\u001b[0;32m    119\u001b[0m         \u001b[1;32mfinally\u001b[0m\u001b[1;33m:\u001b[0m\u001b[1;33m\u001b[0m\u001b[0m\n\u001b[0;32m    120\u001b[0m             \u001b[0mlogInfo\u001b[0m\u001b[1;33m(\u001b[0m\u001b[0mobj\u001b[0m \u001b[1;33m=\u001b[0m \u001b[0mself\u001b[0m\u001b[1;33m,\u001b[0m \u001b[0mprefix\u001b[0m \u001b[1;33m=\u001b[0m \u001b[0mfunc\u001b[0m\u001b[1;33m.\u001b[0m\u001b[0m__name__\u001b[0m \u001b[1;33m+\u001b[0m \u001b[1;34m\"End\"\u001b[0m\u001b[1;33m)\u001b[0m\u001b[1;33m\u001b[0m\u001b[0m\n",
      "\u001b[1;32m/renoir_data_00/fouchez/lsst/DM/stacks/v11.0/Linux64/meas_astrom/11.0+1/python/lsst/meas/astrom/loadAstrometryNetObjects.pyc\u001b[0m in \u001b[0;36mloadSkyCircle\u001b[1;34m(self, ctrCoord, radius, filterName)\u001b[0m\n\u001b[0;32m     96\u001b[0m         \u001b[1;33m-\u001b[0m \u001b[0mfluxField\u001b[0m \u001b[1;33m=\u001b[0m \u001b[0mname\u001b[0m \u001b[0mof\u001b[0m \u001b[0mflux\u001b[0m \u001b[0mfield\u001b[0m \u001b[1;32mfor\u001b[0m \u001b[0mspecified\u001b[0m \u001b[0mfilterName\u001b[0m\u001b[1;33m\u001b[0m\u001b[0m\n\u001b[0;32m     97\u001b[0m         \"\"\"\n\u001b[1;32m---> 98\u001b[1;33m         \u001b[0mself\u001b[0m\u001b[1;33m.\u001b[0m\u001b[0m_readIndexFiles\u001b[0m\u001b[1;33m(\u001b[0m\u001b[1;33m)\u001b[0m\u001b[1;33m\u001b[0m\u001b[0m\n\u001b[0m\u001b[0;32m     99\u001b[0m \u001b[1;33m\u001b[0m\u001b[0m\n\u001b[0;32m    100\u001b[0m         \u001b[0mnames\u001b[0m \u001b[1;33m=\u001b[0m \u001b[1;33m[\u001b[0m\u001b[1;33m]\u001b[0m\u001b[1;33m\u001b[0m\u001b[0m\n",
      "\u001b[1;32m/renoir_data_00/fouchez/lsst/DM/stacks/v11.0/Linux64/pipe_base/11.0+2/python/lsst/pipe/base/timer.pyc\u001b[0m in \u001b[0;36mwrapper\u001b[1;34m(self, *args, **keyArgs)\u001b[0m\n\u001b[0;32m    116\u001b[0m         \u001b[0mlogInfo\u001b[0m\u001b[1;33m(\u001b[0m\u001b[0mobj\u001b[0m \u001b[1;33m=\u001b[0m \u001b[0mself\u001b[0m\u001b[1;33m,\u001b[0m \u001b[0mprefix\u001b[0m \u001b[1;33m=\u001b[0m \u001b[0mfunc\u001b[0m\u001b[1;33m.\u001b[0m\u001b[0m__name__\u001b[0m \u001b[1;33m+\u001b[0m \u001b[1;34m\"Start\"\u001b[0m\u001b[1;33m)\u001b[0m\u001b[1;33m\u001b[0m\u001b[0m\n\u001b[0;32m    117\u001b[0m         \u001b[1;32mtry\u001b[0m\u001b[1;33m:\u001b[0m\u001b[1;33m\u001b[0m\u001b[0m\n\u001b[1;32m--> 118\u001b[1;33m             \u001b[0mres\u001b[0m \u001b[1;33m=\u001b[0m \u001b[0mfunc\u001b[0m\u001b[1;33m(\u001b[0m\u001b[0mself\u001b[0m\u001b[1;33m,\u001b[0m \u001b[1;33m*\u001b[0m\u001b[0margs\u001b[0m\u001b[1;33m,\u001b[0m \u001b[1;33m**\u001b[0m\u001b[0mkeyArgs\u001b[0m\u001b[1;33m)\u001b[0m\u001b[1;33m\u001b[0m\u001b[0m\n\u001b[0m\u001b[0;32m    119\u001b[0m         \u001b[1;32mfinally\u001b[0m\u001b[1;33m:\u001b[0m\u001b[1;33m\u001b[0m\u001b[0m\n\u001b[0;32m    120\u001b[0m             \u001b[0mlogInfo\u001b[0m\u001b[1;33m(\u001b[0m\u001b[0mobj\u001b[0m \u001b[1;33m=\u001b[0m \u001b[0mself\u001b[0m\u001b[1;33m,\u001b[0m \u001b[0mprefix\u001b[0m \u001b[1;33m=\u001b[0m \u001b[0mfunc\u001b[0m\u001b[1;33m.\u001b[0m\u001b[0m__name__\u001b[0m \u001b[1;33m+\u001b[0m \u001b[1;34m\"End\"\u001b[0m\u001b[1;33m)\u001b[0m\u001b[1;33m\u001b[0m\u001b[0m\n",
      "\u001b[1;32m/renoir_data_00/fouchez/lsst/DM/stacks/v11.0/Linux64/meas_astrom/11.0+1/python/lsst/meas/astrom/loadAstrometryNetObjects.pyc\u001b[0m in \u001b[0;36m_readIndexFiles\u001b[1;34m(self)\u001b[0m\n\u001b[0;32m    158\u001b[0m \u001b[1;33m\u001b[0m\u001b[0m\n\u001b[0;32m    159\u001b[0m         \u001b[1;32mif\u001b[0m \u001b[0mself\u001b[0m\u001b[1;33m.\u001b[0m\u001b[0mandConfig\u001b[0m \u001b[1;32mis\u001b[0m \u001b[0mNone\u001b[0m\u001b[1;33m:\u001b[0m\u001b[1;33m\u001b[0m\u001b[0m\n\u001b[1;32m--> 160\u001b[1;33m             \u001b[0mself\u001b[0m\u001b[1;33m.\u001b[0m\u001b[0mandConfig\u001b[0m \u001b[1;33m=\u001b[0m \u001b[0mgetConfigFromEnvironment\u001b[0m\u001b[1;33m(\u001b[0m\u001b[1;33m)\u001b[0m\u001b[1;33m\u001b[0m\u001b[0m\n\u001b[0m\u001b[0;32m    161\u001b[0m \u001b[1;33m\u001b[0m\u001b[0m\n\u001b[0;32m    162\u001b[0m         \u001b[0mself\u001b[0m\u001b[1;33m.\u001b[0m\u001b[0mmultiInds\u001b[0m \u001b[1;33m=\u001b[0m \u001b[0mAstrometryNetCatalog\u001b[0m\u001b[1;33m(\u001b[0m\u001b[0mself\u001b[0m\u001b[1;33m.\u001b[0m\u001b[0mandConfig\u001b[0m\u001b[1;33m)\u001b[0m\u001b[1;33m\u001b[0m\u001b[0m\n",
      "\u001b[1;32m/renoir_data_00/fouchez/lsst/DM/stacks/v11.0/Linux64/meas_astrom/11.0+1/python/lsst/meas/astrom/multiindex.pyc\u001b[0m in \u001b[0;36mgetConfigFromEnvironment\u001b[1;34m()\u001b[0m\n\u001b[0;32m     45\u001b[0m         \u001b[0mandConfigPath\u001b[0m \u001b[1;33m=\u001b[0m \u001b[0mos\u001b[0m\u001b[1;33m.\u001b[0m\u001b[0mpath\u001b[0m\u001b[1;33m.\u001b[0m\u001b[0mjoin\u001b[0m\u001b[1;33m(\u001b[0m\u001b[0manDir\u001b[0m\u001b[1;33m,\u001b[0m \u001b[1;34m\"andConfig.py\"\u001b[0m\u001b[1;33m)\u001b[0m\u001b[1;33m\u001b[0m\u001b[0m\n\u001b[0;32m     46\u001b[0m         \u001b[1;32mif\u001b[0m \u001b[1;32mnot\u001b[0m \u001b[0mos\u001b[0m\u001b[1;33m.\u001b[0m\u001b[0mpath\u001b[0m\u001b[1;33m.\u001b[0m\u001b[0mexists\u001b[0m\u001b[1;33m(\u001b[0m\u001b[0mandConfigPath\u001b[0m\u001b[1;33m)\u001b[0m\u001b[1;33m:\u001b[0m\u001b[1;33m\u001b[0m\u001b[0m\n\u001b[1;32m---> 47\u001b[1;33m             \u001b[1;32mraise\u001b[0m \u001b[0mRuntimeError\u001b[0m\u001b[1;33m(\u001b[0m\u001b[1;34m\"Unable to find andConfig.py in astrometry_net_data directory %s\"\u001b[0m \u001b[1;33m%\u001b[0m \u001b[1;33m(\u001b[0m\u001b[0manDir\u001b[0m\u001b[1;33m,\u001b[0m\u001b[1;33m)\u001b[0m\u001b[1;33m)\u001b[0m\u001b[1;33m\u001b[0m\u001b[0m\n\u001b[0m\u001b[0;32m     48\u001b[0m \u001b[1;33m\u001b[0m\u001b[0m\n\u001b[0;32m     49\u001b[0m     \u001b[0mandConfig\u001b[0m \u001b[1;33m=\u001b[0m \u001b[0mAstrometryNetDataConfig\u001b[0m\u001b[1;33m(\u001b[0m\u001b[1;33m)\u001b[0m\u001b[1;33m\u001b[0m\u001b[0m\n",
      "\u001b[1;31mRuntimeError\u001b[0m: Unable to find andConfig.py in astrometry_net_data directory /renoir_data_00/fouchez/lsst/DM/stacks/v11.0/Linux64/astrometry_net_data/10.0+41"
     ]
    }
   ],
   "source": [
    "astromRet = astrometer.loadAndMatch(exposure=exposure, sourceCat=selectSources)\n",
    "matches = astromRet.matches\n",
    "kernelSources = self.sourceSelector.selectSources(exposure, selectSources, matches=matches)\n",
    "random.shuffle(kernelSources, random.random)\n",
    "controlSources = kernelSources[::self.config.controlStepSize]\n",
    "kernelSources = [k for i,k in enumerate(kernelSources) if i % self.config.controlStepSize]"
   ]
  },
  {
   "cell_type": "markdown",
   "metadata": {},
   "source": [
    "<b>Extended DiaSources Selection:</b> Not working! This part depends on \"stargal\" flag"
   ]
  },
  {
   "cell_type": "code",
   "execution_count": 87,
   "metadata": {
    "collapsed": false
   },
   "outputs": [],
   "source": [
    "if IDifTask.config.doSelectDcrCatalog:\n",
    "    print \"Selecting from DCR Catalog\"\n",
    "    redSelector  = DiaCatalogSourceSelector(\n",
    "        DiaCatalogSourceSelectorConfig(grMin=IDifTask.sourceSelector.config.grMax, grMax=99.999))\n",
    "    redSources   = redSelector.selectSources(exposure, selectSources, matches=matches)\n",
    "    controlSources.extend(redSources)\n",
    "    \n",
    "    blueSelector = DiaCatalogSourceSelector(\n",
    "        DiaCatalogSourceSelectorConfig(grMin=-99.999, grMax=IDifTask.sourceSelector.config.grMin))\n",
    "    blueSources  = blueSelector.selectSources(exposure, selectSources, matches=matches)\n",
    "    controlSources.extend(blueSources)      \n"
   ]
  },
  {
   "cell_type": "markdown",
   "metadata": {},
   "source": [
    "<b>Select Variable Catalog</b>: Not working! This part depends on \"stargal\" flag"
   ]
  },
  {
   "cell_type": "code",
   "execution_count": 88,
   "metadata": {
    "collapsed": false
   },
   "outputs": [],
   "source": [
    "if IDifTask.config.doSelectVariableCatalog:\n",
    "    print \"Selecting from Variable Catalog\"\n",
    "    varSelector = DiaCatalogSourceSelector(DiaCatalogSourceSelectorConfig(includeVariable=True))\n",
    "    varSources  = varSelector.selectSources(exposure, selectSources, matches=matches)\n",
    "    controlSources.extend(varSources)\n"
   ]
  },
  {
   "cell_type": "markdown",
   "metadata": {},
   "source": [
    "Fit the relative astrometry between the two images. Template is warped to match science exposure"
   ]
  },
  {
   "cell_type": "code",
   "execution_count": 40,
   "metadata": {
    "collapsed": false
   },
   "outputs": [],
   "source": [
    "wcsResults = IDifTask.fitAstrometry(templateSources, templateExposure, selectSources)\n",
    "warpedExp = IDifTask.register.warpExposure(templateExposure, wcsResults.wcs,\n",
    "                                            exposure.getWcs(), exposure.getBBox(afwImage.PARENT))\n",
    "templateExposure = warpedExp"
   ]
  },
  {
   "cell_type": "markdown",
   "metadata": {},
   "source": [
    "This creates a lot of important metrics based on the matching method"
   ]
  },
  {
   "cell_type": "code",
   "execution_count": 42,
   "metadata": {
    "collapsed": false
   },
   "outputs": [
    {
     "name": "stdout",
     "output_type": "stream",
     "text": [
      "registering debugging outputs for residuals et al\n",
      "(array([], dtype=int64),) (array([ 0,  1,  2,  3,  4,  5,  6,  7,  8,  9, 10, 11, 12, 13, 14, 15, 16,\n",
      "       17, 18, 19, 20, 21, 22, 23, 24, 25, 26, 27, 28, 29, 30, 31, 32, 33,\n",
      "       34, 35, 36, 37, 38, 39, 40, 41, 42, 43, 44, 45, 46, 47, 48, 49, 50,\n",
      "       51, 52, 53, 54, 55, 56, 57, 58, 59, 60, 61, 62, 63, 64, 65, 66, 67,\n",
      "       68, 69, 70, 71, 72, 73]),) (array([], dtype=int64),)\n"
     ]
    },
    {
     "data": {
      "text/plain": [
       "'\\n                    rms1Long  = IqrToSigma*(numpy.percentile(dlong[idx1],75)-numpy.percentile(dlong[idx1],25))\\n                    rms1Lat   = IqrToSigma*(numpy.percentile(dlat[idx1],75)-numpy.percentile(dlat[idx1],25))\\n                    rms2Long  = IqrToSigma*(numpy.percentile(dlong[idx2],75)-numpy.percentile(dlong[idx2],25))\\n                    rms2Lat   = IqrToSigma*(numpy.percentile(dlat[idx2],75)-numpy.percentile(dlat[idx2],25))\\n                    rms3Long  = IqrToSigma*(numpy.percentile(dlong[idx3],75)-numpy.percentile(dlong[idx3],25))\\n                    rms3Lat   = IqrToSigma*(numpy.percentile(dlat[idx3],75)-numpy.percentile(dlat[idx3],25))\\n                    IDifTask.log.info(\"Blue star offsets\\'\\': %.3f %.3f, %.3f %.3f\"  % (numpy.median(dlong[idx1]),\\n                                                                                  rms1Long,\\n                                                                                  numpy.median(dlat[idx1]),\\n                                                                                  rms1Lat))\\n                    IDifTask.log.info(\"Green star offsets\\'\\': %.3f %.3f, %.3f %.3f\"  % (numpy.median(dlong[idx2]),\\n                                                                                   rms2Long,\\n                                                                                   numpy.median(dlat[idx2]),\\n                                                                                   rms2Lat))\\n                    IDifTask.log.info(\"Red star offsets\\'\\': %.3f %.3f, %.3f %.3f\"  % (numpy.median(dlong[idx3]),\\n                                                                                 rms3Long,\\n                                                                                 numpy.median(dlat[idx3]),\\n                                                                                 rms3Lat))\\n\\n                    IDifTask.metadata.add(\"RegisterBlueLongOffsetMedian\", numpy.median(dlong[idx1]))\\n                    IDifTask.metadata.add(\"RegisterGreenLongOffsetMedian\", numpy.median(dlong[idx2]))\\n                    IDifTask.metadata.add(\"RegisterRedLongOffsetMedian\", numpy.median(dlong[idx3]))\\n                    IDifTask.metadata.add(\"RegisterBlueLongOffsetStd\", rms1Long)\\n                    IDifTask.metadata.add(\"RegisterGreenLongOffsetStd\", rms2Long)\\n                    IDifTask.metadata.add(\"RegisterRedLongOffsetStd\", rms3Long)\\n\\n                    IDifTask.metadata.add(\"RegisterBlueLatOffsetMedian\", numpy.median(dlat[idx1]))\\n                    IDifTask.metadata.add(\"RegisterGreenLatOffsetMedian\", numpy.median(dlat[idx2]))\\n                    IDifTask.metadata.add(\"RegisterRedLatOffsetMedian\", numpy.median(dlat[idx3]))\\n'"
      ]
     },
     "execution_count": 42,
     "metadata": {},
     "output_type": "execute_result"
    }
   ],
   "source": [
    "IDifTask.config.doDebugRegister = True\n",
    "if IDifTask.config.doDebugRegister:\n",
    "                    print \"registering debugging outputs for residuals et al\"\n",
    "                    # Grab matches to reference catalog\n",
    "                    srcToMatch = {x.second.getId() : x.first for x in matches}\n",
    "\n",
    "                    refCoordKey = wcsResults.matches[0].first.getTable().getCoordKey()\n",
    "                    inCentroidKey = wcsResults.matches[0].second.getTable().getCentroidKey()\n",
    "                    sids      = [m.first.getId() for m in wcsResults.matches]\n",
    "                    positions = [m.first.get(refCoordKey) for m in wcsResults.matches]\n",
    "                    residuals = [m.first.get(refCoordKey).getOffsetFrom(wcsResults.wcs.pixelToSky(\n",
    "                                m.second.get(inCentroidKey))) for m in wcsResults.matches]\n",
    "                    allresids = dict(zip(sids, zip(positions, residuals)))\n",
    "\n",
    "                    cresiduals = [m.first.get(refCoordKey).getTangentPlaneOffset(\n",
    "                            wcsResults.wcs.pixelToSky(\n",
    "                                m.second.get(inCentroidKey))) for m in wcsResults.matches]\n",
    "                    colors    = numpy.array([-2.5*numpy.log10(srcToMatch[x].get(\"g\"))\n",
    "                                              + 2.5*numpy.log10(srcToMatch[x].get(\"r\"))\n",
    "                                              for x in sids if x in srcToMatch.keys()])\n",
    "                    dlong     = numpy.array([r[0].asArcseconds() for s,r in zip(sids, cresiduals)\n",
    "                                             if s in srcToMatch.keys()])\n",
    "                    dlat      = numpy.array([r[1].asArcseconds() for s,r in zip(sids, cresiduals)\n",
    "                                             if s in srcToMatch.keys()])\n",
    "                    idx1      = numpy.where(colors<IDifTask.sourceSelector.config.grMin)\n",
    "                    idx2      = numpy.where((colors>=IDifTask.sourceSelector.config.grMin)&\n",
    "                                            (colors<=IDifTask.sourceSelector.config.grMax))\n",
    "                    idx3      = numpy.where(colors>IDifTask.sourceSelector.config.grMax)\n",
    "                    print idx1, idx2, idx3\n",
    "'''\n",
    "                    rms1Long  = IqrToSigma*(numpy.percentile(dlong[idx1],75)-numpy.percentile(dlong[idx1],25))\n",
    "                    rms1Lat   = IqrToSigma*(numpy.percentile(dlat[idx1],75)-numpy.percentile(dlat[idx1],25))\n",
    "                    rms2Long  = IqrToSigma*(numpy.percentile(dlong[idx2],75)-numpy.percentile(dlong[idx2],25))\n",
    "                    rms2Lat   = IqrToSigma*(numpy.percentile(dlat[idx2],75)-numpy.percentile(dlat[idx2],25))\n",
    "                    rms3Long  = IqrToSigma*(numpy.percentile(dlong[idx3],75)-numpy.percentile(dlong[idx3],25))\n",
    "                    rms3Lat   = IqrToSigma*(numpy.percentile(dlat[idx3],75)-numpy.percentile(dlat[idx3],25))\n",
    "                    IDifTask.log.info(\"Blue star offsets'': %.3f %.3f, %.3f %.3f\"  % (numpy.median(dlong[idx1]),\n",
    "                                                                                  rms1Long,\n",
    "                                                                                  numpy.median(dlat[idx1]),\n",
    "                                                                                  rms1Lat))\n",
    "                    IDifTask.log.info(\"Green star offsets'': %.3f %.3f, %.3f %.3f\"  % (numpy.median(dlong[idx2]),\n",
    "                                                                                   rms2Long,\n",
    "                                                                                   numpy.median(dlat[idx2]),\n",
    "                                                                                   rms2Lat))\n",
    "                    IDifTask.log.info(\"Red star offsets'': %.3f %.3f, %.3f %.3f\"  % (numpy.median(dlong[idx3]),\n",
    "                                                                                 rms3Long,\n",
    "                                                                                 numpy.median(dlat[idx3]),\n",
    "                                                                                 rms3Lat))\n",
    "\n",
    "                    IDifTask.metadata.add(\"RegisterBlueLongOffsetMedian\", numpy.median(dlong[idx1]))\n",
    "                    IDifTask.metadata.add(\"RegisterGreenLongOffsetMedian\", numpy.median(dlong[idx2]))\n",
    "                    IDifTask.metadata.add(\"RegisterRedLongOffsetMedian\", numpy.median(dlong[idx3]))\n",
    "                    IDifTask.metadata.add(\"RegisterBlueLongOffsetStd\", rms1Long)\n",
    "                    IDifTask.metadata.add(\"RegisterGreenLongOffsetStd\", rms2Long)\n",
    "                    IDifTask.metadata.add(\"RegisterRedLongOffsetStd\", rms3Long)\n",
    "\n",
    "                    IDifTask.metadata.add(\"RegisterBlueLatOffsetMedian\", numpy.median(dlat[idx1]))\n",
    "                    IDifTask.metadata.add(\"RegisterGreenLatOffsetMedian\", numpy.median(dlat[idx2]))\n",
    "                    IDifTask.metadata.add(\"RegisterRedLatOffsetMedian\", numpy.median(dlat[idx3]))\n",
    "'''"
   ]
  },
  {
   "cell_type": "markdown",
   "metadata": {},
   "source": [
    "Subtraction is finally done!"
   ]
  },
  {
   "cell_type": "code",
   "execution_count": 43,
   "metadata": {
    "collapsed": false
   },
   "outputs": [],
   "source": [
    "subtractRes = IDifTask.subtract.subtractExposures(\n",
    "                templateExposure=templateExposure,\n",
    "                scienceExposure=exposure,\n",
    "                scienceFwhmPix=scienceSigmaPost * FwhmPerSigma,\n",
    "                templateFwhmPix=templateSigma * FwhmPerSigma,\n",
    "                candidateList=kernelSources,\n",
    "                convolveTemplate=IDConfig.convolveTemplate,\n",
    "                doWarping=not IDConfig.doUseRegister\n",
    "            )\n",
    "subtractedExposure = subtractRes.subtractedExposure"
   ]
  },
  {
   "cell_type": "markdown",
   "metadata": {},
   "source": [
    "PSF is assigned appropiately if necessary"
   ]
  },
  {
   "cell_type": "code",
   "execution_count": 44,
   "metadata": {
    "collapsed": false
   },
   "outputs": [],
   "source": [
    "if not subtractedExposure.hasPsf():\n",
    "    if IDConfig.convolveTemplate:\n",
    "       subtractedExposure.setPsf(exposure.getPsf())\n",
    "else:\n",
    "    if templateExposure is None:\n",
    "            #templateExposure, templateSources = self.getTemplate(exposure, sensorRef)\n",
    "       subtractedExposure.setPsf(templateExposure.getPsf())\n",
    "\n"
   ]
  },
  {
   "cell_type": "markdown",
   "metadata": {},
   "source": [
    "Erase existing detection mask planes (not working for some unknown reason)"
   ]
  },
  {
   "cell_type": "code",
   "execution_count": 45,
   "metadata": {
    "collapsed": false
   },
   "outputs": [],
   "source": [
    "#DifTaskmask  = subtractedExposure.getMaskedImage().getMask()\n",
    "#mask &= ~(mask.getPlaneBitMask(\"DETECTED\") | mask.getPlaneBitMask(\"DETECTED_NEGATIVE\"))"
   ]
  },
  {
   "cell_type": "markdown",
   "metadata": {},
   "source": [
    "SourceCatalog construction based on old results"
   ]
  },
  {
   "cell_type": "code",
   "execution_count": 46,
   "metadata": {
    "collapsed": false
   },
   "outputs": [],
   "source": [
    "table = afwTable.SourceTable.make(IDifTask.schema, idFactory)\n",
    "table.setMetadata(IDifTask.algMetadata)\n",
    "results = IDifTask.detection.makeSourceCatalog(\n",
    "                table=table,\n",
    "                exposure=subtractedExposure,\n",
    "                doSmooth=not IDConfig.doPreConvolve\n",
    "                )"
   ]
  },
  {
   "cell_type": "markdown",
   "metadata": {},
   "source": [
    "Do Merge"
   ]
  },
  {
   "cell_type": "code",
   "execution_count": 47,
   "metadata": {
    "collapsed": false
   },
   "outputs": [],
   "source": [
    "if IDifTask.config.doMerge:\n",
    "    fpSet = results.fpSets.positive\n",
    "    fpSet.merge(results.fpSets.negative, IDConfig.growFootprint,\n",
    "                   IDConfig.growFootprint, False)\n",
    "    diaSources = afwTable.SourceCatalog(table)\n",
    "    fpSet.makeSources(diaSources)\n",
    "else:\n",
    "    diaSources = results.sources\n"
   ]
  },
  {
   "cell_type": "markdown",
   "metadata": {},
   "source": [
    "This make the measurement of the Dia sources that are dipoles"
   ]
  },
  {
   "cell_type": "code",
   "execution_count": 48,
   "metadata": {
    "collapsed": false
   },
   "outputs": [
    {
     "name": "stdout",
     "output_type": "stream",
     "text": [
      "Doing measurement of dipoles\n"
     ]
    }
   ],
   "source": [
    "if IDifTask.config.doMeasurement:\n",
    "    print \"Doing measurement of dipoles\"\n",
    "    if len(diaSources) < IDifTask.config.maxDiaSourcesToMeasure:\n",
    "         IDifTask.dipoleMeasurement.run(subtractedExposure, diaSources)\n",
    "    else:\n",
    "         IDifTask.measurement.run(subtractedExposure, diaSources)\n"
   ]
  },
  {
   "cell_type": "markdown",
   "metadata": {},
   "source": [
    "Match the Dia Sources with the Calexp Sources if possible"
   ]
  },
  {
   "cell_type": "code",
   "execution_count": 49,
   "metadata": {
    "collapsed": false
   },
   "outputs": [
    {
     "name": "stdout",
     "output_type": "stream",
     "text": [
      "Matching sources\n"
     ]
    }
   ],
   "source": [
    "\n",
    "if IDifTask.config.doMatchSources:\n",
    "    print \"Matching sources\"\n",
    "    if butler.datasetExists(\"src\", dataid):\n",
    "                    # Create key,val pair where key=diaSourceId and val=sourceId\n",
    "                    matchRadAsec = IDifTask.config.diaSourceMatchRadius\n",
    "                    matchRadPixel = matchRadAsec / exposure.getWcs().pixelScale().asArcseconds()\n",
    "\n",
    "                    srcMatches = afwTable.matchXy(butler.get(\"src\", dataid), diaSources, matchRadPixel, True)\n",
    "                    srcMatchDict = dict([(srcMatch.second.getId(), srcMatch.first.getId()) for\n",
    "                                       srcMatch in srcMatches])\n",
    "\n",
    "    else:\n",
    "                    srcMatchDict = {}\n"
   ]
  },
  {
   "cell_type": "markdown",
   "metadata": {},
   "source": [
    "Assign the pairs for sources and reference Id"
   ]
  },
  {
   "cell_type": "code",
   "execution_count": 50,
   "metadata": {
    "collapsed": false
   },
   "outputs": [],
   "source": [
    "astrometer = measAstrom.Astrometry(measAstrom.MeasAstromConfig(catalogMatchDist=matchRadAsec))\n",
    "astromRet = astrometer.useKnownWcs(diaSources, exposure=exposure)\n",
    "refMatches = astromRet.matches\n",
    "if refMatches is None:\n",
    "    refMatchDict = {}\n",
    "else:\n",
    "    refMatchDict = dict([(refMatch.second.getId(), refMatch.first.getId()) for \\\n",
    "                                             refMatch in refMatches])\n"
   ]
  },
  {
   "cell_type": "markdown",
   "metadata": {},
   "source": [
    "Assign the DIA sources IDs"
   ]
  },
  {
   "cell_type": "code",
   "execution_count": 51,
   "metadata": {
    "collapsed": false
   },
   "outputs": [],
   "source": [
    "for diaSource in diaSources:\n",
    "  sid = diaSource.getId()\n",
    "  if srcMatchDict.has_key(sid):\n",
    "        diaSource.set(\"srcMatchId\", srcMatchDict[sid])\n",
    "  if refMatchDict.has_key(sid):\n",
    "        diaSource.set(\"refMatchId\", refMatchDict[sid])\n"
   ]
  },
  {
   "cell_type": "markdown",
   "metadata": {},
   "source": [
    "This method assign metrics if they exist. It is better to let it in \"NO\", as there are some problems with C++ classes compatibility"
   ]
  },
  {
   "cell_type": "code",
   "execution_count": 52,
   "metadata": {
    "collapsed": false
   },
   "outputs": [],
   "source": [
    "IDifTask.config.doAddMetrics = False\n",
    "if IDifTask.config.doAddMetrics and IDifTask.config.doSelectSources:\n",
    "     print \"Adding metrics and sources\"\n",
    "     kernelCandList = []\n",
    "     for cell in subtractRes.kernelCellSet.getCellList():\n",
    "           for cand in cell.begin(False): # include bad candidates\n",
    "                kernelCandList.append(cast_KernelCandidateF(cand))\n",
    "\n",
    "                # Get basis list to build control sample kernels\n",
    "     basisList = afwMath.cast_LinearCombinationKernel(\n",
    "                    kernelCandList[0].getKernel(KernelCandidateF.ORIG)).getKernelList()\n",
    "\n",
    "     controlCandList = \\\n",
    "            diffimTools.sourceTableToCandidateList(controlSources,\n",
    "                                                           subtractRes.warpedExposure, exposure,\n",
    "                                                           IDifTask.config.subtract.kernel.active,\n",
    "                                                           IDifTask.config.subtract.kernel.active.detectionConfig,\n",
    "                                                           IDifTask.log, doBuild=True, basisList=basisList)\n",
    "\n",
    "     kcQa.apply(kernelCandList, subtractRes.psfMatchingKernel, subtractRes.backgroundModel,\n",
    "                                dof=nparam)\n",
    "     kcQa.apply(controlCandList, subtractRes.psfMatchingKernel, subtractRes.backgroundModel)\n",
    "            \n",
    "     if IDifTask.config.doDetection:\n",
    "          kcQa.aggregate(selectSources, IDifTask.metadata, allresids, diaSources)\n",
    "     else:\n",
    "          kcQa.aggregate(selectSources, IDifTask.metadata, allresids)\n",
    "\n"
   ]
  },
  {
   "cell_type": "markdown",
   "metadata": {},
   "source": [
    "Match with the calexp sources if possible"
   ]
  },
  {
   "cell_type": "code",
   "execution_count": 53,
   "metadata": {
    "collapsed": false
   },
   "outputs": [],
   "source": [
    "if butler.datasetExists(\"src\", dataid):\n",
    "    matchRadAsec = IDConfig.diaSourceMatchRadius\n",
    "    matchRadPixel = matchRadAsec / exposure.getWcs().pixelScale().asArcseconds()\n",
    "    srcMatches = afwTable.matchXy(butler.get(\"src\", dataid), diaSources, matchRadPixel, True)\n",
    "    srcMatchDict = dict([(srcMatch.second.getId(), srcMatch.first.getId()) for\n",
    "                                             srcMatch in srcMatches])\n"
   ]
  },
  {
   "cell_type": "markdown",
   "metadata": {},
   "source": [
    "Display the final Image"
   ]
  },
  {
   "cell_type": "code",
   "execution_count": 54,
   "metadata": {
    "collapsed": false
   },
   "outputs": [
    {
     "name": "stdout",
     "output_type": "stream",
     "text": [
      "SubtractedResult\n"
     ]
    },
    {
     "data": {
      "image/png": "[encoded data removed]"
     },
     "metadata": {},
     "output_type": "display_data"
    }
   ],
   "source": [
    "ds9.setMaskTransparency(50)\n",
    "displayImage(subtractedExposure.getMaskedImage(),frame=0,title=\"SubtractedResult\",path=\"subResult\")"
   ]
  },
  {
   "cell_type": "code",
   "execution_count": 54,
   "metadata": {
    "collapsed": false
   },
   "outputs": [],
   "source": []
  }
 ],
 "metadata": {
  "kernelspec": {
   "display_name": "Python 2",
   "language": "python",
   "name": "python2"
  },
  "language_info": {
   "codemirror_mode": {
    "name": "ipython",
    "version": 2
   },
   "file_extension": ".py",
   "mimetype": "text/x-python",
   "name": "python",
   "nbconvert_exporter": "python",
   "pygments_lexer": "ipython2",
   "version": "2.7.9"
  }
 },
 "nbformat": 4,
 "nbformat_minor": 0
}
