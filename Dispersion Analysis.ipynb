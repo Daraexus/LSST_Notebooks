{
 "cells": [
  {
   "cell_type": "code",
   "execution_count": 2,
   "metadata": {
    "collapsed": true
   },
   "outputs": [],
   "source": [
    "import lsst.daf.persistence as dafPersist\n",
    " \n",
    "import numpy as np\n",
    "\n",
    "import lsst.afw.table as afwTable\n",
    "import lsst.afw.geom as afwGeom\n",
    "import Utils.DiaSourceTools as DSTools\n",
    "from astropy.time import Time\n",
    "\n",
    "import lsst.afw.display.ds9 as ds9\n",
    "import lsst.afw.image as afwImage\n",
    "import re\n",
    "\n",
    "from multiprocessing import Pool\n",
    "from functools import partial\n",
    "\n",
    "import astropy.coordinates as coord\n",
    "import astropy.units as u\n",
    "\n",
    "import lsst.daf.base as dafBase\n",
    "from lsst.meas.algorithms.detection import SourceDetectionTask\n",
    "from lsst.meas.base import SingleFrameMeasurementTask\n",
    "from lsst.meas.deblender import SourceDeblendTask\n",
    "\n",
    "import lsst.afw.math as afwMath\n",
    "\n",
    "from astropy.table import Table"
   ]
  },
  {
   "cell_type": "code",
   "execution_count": 46,
   "metadata": {
    "collapsed": true
   },
   "outputs": [],
   "source": [
    "DATADIR=\"/datadec/cppm/jpreyes/CFHT_Jointcal_2\"\n",
    "directory = DATADIR+\"/jointcal_test_mini/\"\n",
    "butler = dafPersist.Butler(directory) \n",
    "filter = 'r'\n"
   ]
  },
  {
   "cell_type": "code",
   "execution_count": 4,
   "metadata": {
    "collapsed": true
   },
   "outputs": [],
   "source": [
    "def preConvolve(exposure, sigma=5):\n",
    "    psf = exposure.getPsf()\n",
    "    maskedImage = exposure.getMaskedImage()\n",
    "    kWidth = (int(sigma * 7 + 0.5) // 2) * 2 + 1 # make sure it is odd\n",
    "    #self.metadata.set(\"smoothingKernelWidth\", kWidth)\n",
    "    gaussFunc = afwMath.GaussianFunction1D(sigma)\n",
    "    gaussKernel = afwMath.SeparableKernel(kWidth, kWidth, gaussFunc, gaussFunc)\n",
    "\n",
    "    convolvedImage = maskedImage.Factory(maskedImage.getBBox())\n",
    "\n",
    "    afwMath.convolve(convolvedImage, maskedImage, gaussKernel, afwMath.ConvolutionControl())\n",
    "    #\n",
    "    # Only search psf-smooth part of frame\n",
    "    #\n",
    "    goodBBox = gaussKernel.shrinkBBox(convolvedImage.getBBox())\n",
    "    middle = convolvedImage.Factory(convolvedImage, goodBBox, afwImage.PARENT, False)\n",
    "    #\n",
    "    # Mark the parts of the image outside goodBBox as EDGE\n",
    "    #\n",
    "    #self.setEdgeBits(maskedImage, goodBBox, maskedImage.getMask().getPlaneBitMask(\"EDGE\"))\n",
    "    return convolvedImage"
   ]
  },
  {
   "cell_type": "code",
   "execution_count": 5,
   "metadata": {
    "collapsed": true
   },
   "outputs": [],
   "source": [
    "def detect_sources(exposure):\n",
    "    threshold = 6\n",
    "    doSmooth=True\n",
    "    schema = afwTable.SourceTable.makeMinimalSchema()\n",
    "\n",
    "\n",
    "    algMetadata = dafBase.PropertyList()\n",
    "\n",
    "    config = SourceDetectionTask.ConfigClass()\n",
    "    #config.thresholdPolarity = \"both\"\n",
    "    config.thresholdValue = threshold\n",
    "    config.reEstimateBackground = False\n",
    "    #config.thresholdType = \"pixel_stdev\"\n",
    "\n",
    "    detectionTask = SourceDetectionTask(config=config, schema=schema)\n",
    "\n",
    "    measurement = SingleFrameMeasurementTask\n",
    "    config = measurement.ConfigClass()\n",
    "\n",
    "    measurement = measurement(schema, config=config, algMetadata=algMetadata)\n",
    "\n",
    "\n",
    "    deblend = SourceDeblendTask\n",
    "    config = SourceDeblendTask.ConfigClass()\n",
    "    deblend = deblend(schema)\n",
    "\n",
    "    table = afwTable.SourceTable.make(schema)\n",
    "    \n",
    "    results = detectionTask.run(table=table, exposure=exposure , doSmooth=doSmooth )\n",
    "\n",
    "    sourcesCat = results.sources\n",
    "    \n",
    "    deblend.run(exposure, sourcesCat)\n",
    "    \n",
    "    \n",
    "\n",
    "    measurement.run(measCat=sourcesCat, exposure=exposure)\n",
    "\n",
    "    return sourcesCat"
   ]
  },
  {
   "cell_type": "code",
   "execution_count": 5,
   "metadata": {},
   "outputs": [
    {
     "name": "stdout",
     "output_type": "stream",
     "text": [
      "[[  5.17978333e-05  -6.73377463e-09]\n",
      " [  1.26132232e-07  -5.18771716e-05]]\n"
     ]
    }
   ],
   "source": [
    "\n",
    "\n",
    "calexp  = butler.get(\"calexp\", dataId={\"filter\":filter, \"visit\":849373, \"ccd\":15})\n",
    "print calexp.getWcs().getLinearTransform()\n"
   ]
  },
  {
   "cell_type": "code",
   "execution_count": 6,
   "metadata": {
    "collapsed": true
   },
   "outputs": [],
   "source": [
    "sources = detect_sources(calexp)"
   ]
  },
  {
   "cell_type": "code",
   "execution_count": 7,
   "metadata": {},
   "outputs": [
    {
     "name": "stdout",
     "output_type": "stream",
     "text": [
      "[[  5.17931843e-05  -7.70737592e-07]\n",
      " [ -6.46684448e-07  -5.18691168e-05]]\n"
     ]
    }
   ],
   "source": [
    "wcs = butler.get(\"wcs\", dataId={\"filter\":filter, \"visit\":849373, \"ccd\":15, \"tract\":0})\n",
    "wcs = wcs.getWcs()\n",
    "print wcs.getLinearTransform()"
   ]
  },
  {
   "cell_type": "code",
   "execution_count": 68,
   "metadata": {
    "collapsed": true
   },
   "outputs": [],
   "source": [
    "calexp_corr = calexp.clone()\n",
    "calexp_corr.setWcs(wcs)\n",
    "sources_corr = detect_sources(calexp_corr)"
   ]
  },
  {
   "cell_type": "code",
   "execution_count": 69,
   "metadata": {},
   "outputs": [
    {
     "name": "stdout",
     "output_type": "stream",
     "text": [
      "1649.67231367 1649.67231367\n"
     ]
    }
   ],
   "source": [
    "print s.getX(), sc.getX()"
   ]
  },
  {
   "cell_type": "code",
   "execution_count": 6,
   "metadata": {},
   "outputs": [
    {
     "ename": "NoResults",
     "evalue": "No locations for get: datasetType:calexp dataId:DataId(initialdata={'filter': 'i', 'ccd': 0, 'visit': 849373}, tag=set([]))",
     "output_type": "error",
     "traceback": [
      "\u001b[0;31m---------------------------------------------------------------------------\u001b[0m",
      "\u001b[0;31mNoResults\u001b[0m                                 Traceback (most recent call last)",
      "\u001b[0;32m<ipython-input-6-227e8af9645d>\u001b[0m in \u001b[0;36m<module>\u001b[0;34m()\u001b[0m\n\u001b[1;32m      6\u001b[0m \u001b[0;32mfor\u001b[0m \u001b[0mccd\u001b[0m \u001b[0;32min\u001b[0m \u001b[0mrange\u001b[0m\u001b[0;34m(\u001b[0m\u001b[0;36m0\u001b[0m\u001b[0;34m,\u001b[0m\u001b[0;36m35\u001b[0m\u001b[0;34m)\u001b[0m\u001b[0;34m:\u001b[0m\u001b[0;34m\u001b[0m\u001b[0m\n\u001b[1;32m      7\u001b[0m \u001b[0;34m\u001b[0m\u001b[0m\n\u001b[0;32m----> 8\u001b[0;31m     \u001b[0mcalexp\u001b[0m  \u001b[0;34m=\u001b[0m \u001b[0mbutler\u001b[0m\u001b[0;34m.\u001b[0m\u001b[0mget\u001b[0m\u001b[0;34m(\u001b[0m\u001b[0;34m\"calexp\"\u001b[0m\u001b[0;34m,\u001b[0m \u001b[0mdataId\u001b[0m\u001b[0;34m=\u001b[0m\u001b[0;34m{\u001b[0m\u001b[0;34m\"filter\"\u001b[0m\u001b[0;34m:\u001b[0m\u001b[0mfilter\u001b[0m\u001b[0;34m,\u001b[0m \u001b[0;34m\"visit\"\u001b[0m\u001b[0;34m:\u001b[0m\u001b[0;36m849373\u001b[0m\u001b[0;34m,\u001b[0m \u001b[0;34m\"ccd\"\u001b[0m\u001b[0;34m:\u001b[0m\u001b[0mccd\u001b[0m\u001b[0;34m}\u001b[0m\u001b[0;34m)\u001b[0m\u001b[0;34m\u001b[0m\u001b[0m\n\u001b[0m\u001b[1;32m      9\u001b[0m     \u001b[0;31m#ds9.mtv(calexp, frame=1)\u001b[0m\u001b[0;34m\u001b[0m\u001b[0;34m\u001b[0m\u001b[0m\n\u001b[1;32m     10\u001b[0m     \u001b[0msources\u001b[0m \u001b[0;34m=\u001b[0m \u001b[0mdetect_sources\u001b[0m\u001b[0;34m(\u001b[0m\u001b[0mcalexp\u001b[0m\u001b[0;34m)\u001b[0m\u001b[0;34m\u001b[0m\u001b[0m\n",
      "\u001b[0;32m/renoir_data_00/fouchez/lsst/DM/stacks/lsstsw/2017-05-04/lsstsw/stack/Linux64/daf_persistence/13.0-8-gba0f85f+3/python/lsst/daf/persistence/butler.pyc\u001b[0m in \u001b[0;36mget\u001b[0;34m(self, datasetType, dataId, immediate, **rest)\u001b[0m\n\u001b[1;32m    943\u001b[0m         \u001b[0mlocation\u001b[0m \u001b[0;34m=\u001b[0m \u001b[0mself\u001b[0m\u001b[0;34m.\u001b[0m\u001b[0m_locate\u001b[0m\u001b[0;34m(\u001b[0m\u001b[0mdatasetType\u001b[0m\u001b[0;34m,\u001b[0m \u001b[0mdataId\u001b[0m\u001b[0;34m,\u001b[0m \u001b[0mwrite\u001b[0m\u001b[0;34m=\u001b[0m\u001b[0mFalse\u001b[0m\u001b[0;34m)\u001b[0m\u001b[0;34m\u001b[0m\u001b[0m\n\u001b[1;32m    944\u001b[0m         \u001b[0;32mif\u001b[0m \u001b[0mlocation\u001b[0m \u001b[0;32mis\u001b[0m \u001b[0mNone\u001b[0m\u001b[0;34m:\u001b[0m\u001b[0;34m\u001b[0m\u001b[0m\n\u001b[0;32m--> 945\u001b[0;31m             \u001b[0;32mraise\u001b[0m \u001b[0mNoResults\u001b[0m\u001b[0;34m(\u001b[0m\u001b[0;34m\"No locations for get:\"\u001b[0m\u001b[0;34m,\u001b[0m \u001b[0mdatasetType\u001b[0m\u001b[0;34m,\u001b[0m \u001b[0mdataId\u001b[0m\u001b[0;34m)\u001b[0m\u001b[0;34m\u001b[0m\u001b[0m\n\u001b[0m\u001b[1;32m    946\u001b[0m         \u001b[0mself\u001b[0m\u001b[0;34m.\u001b[0m\u001b[0mlog\u001b[0m\u001b[0;34m.\u001b[0m\u001b[0mdebug\u001b[0m\u001b[0;34m(\u001b[0m\u001b[0;34m\"Get type=%s keys=%s from %s\"\u001b[0m\u001b[0;34m,\u001b[0m \u001b[0mdatasetType\u001b[0m\u001b[0;34m,\u001b[0m \u001b[0mdataId\u001b[0m\u001b[0;34m,\u001b[0m \u001b[0mstr\u001b[0m\u001b[0;34m(\u001b[0m\u001b[0mlocation\u001b[0m\u001b[0;34m)\u001b[0m\u001b[0;34m)\u001b[0m\u001b[0;34m\u001b[0m\u001b[0m\n\u001b[1;32m    947\u001b[0m \u001b[0;34m\u001b[0m\u001b[0m\n",
      "\u001b[0;31mNoResults\u001b[0m: No locations for get: datasetType:calexp dataId:DataId(initialdata={'filter': 'i', 'ccd': 0, 'visit': 849373}, tag=set([]))"
     ]
    }
   ],
   "source": [
    "\n",
    "\n",
    "dif_ra = []\n",
    "dif_dec = []\n",
    "\n",
    "for ccd in range(0,35):\n",
    "\n",
    "    calexp  = butler.get(\"calexp\", dataId={\"filter\":filter, \"visit\":849373, \"ccd\":ccd})\n",
    "    #ds9.mtv(calexp, frame=1)\n",
    "    sources = detect_sources(calexp)\n",
    "    wcs = butler.get(\"wcs\", dataId={\"filter\":filter, \"visit\":849373, \"ccd\":ccd, \"tract\":0})\n",
    "    wcs = wcs.getWcs()\n",
    "    calexp_corr = calexp.clone()\n",
    "    calexp_corr.setWcs(wcs)\n",
    "    sources_corr = detect_sources(calexp_corr)\n",
    "    i = 0\n",
    "    for s, sc in zip(sources, sources_corr):\n",
    "        #ds9.dot(i, s.getX(), s.getY(), ctype = ds9.RED, size=2, frame=1)\n",
    "        \n",
    "        #ds9.dot(i, sc.getX()+1, sc.getY()+1, ctype = ds9.BLUE, size=2, frame=1)\n",
    "        \n",
    "        c1 = coord.SkyCoord(ra=float(s.getRa()), dec=float(s.getDec()), unit=(u.rad))\n",
    "        c2 = coord.SkyCoord(ra=float(sc.getRa()), dec=float(sc.getDec()), unit=(u.rad))\n",
    "        dif_ra.append(c2.ra.deg-c1.ra.deg)\n",
    "        dif_dec.append(c2.dec.deg-c1.dec.deg)\n",
    "        i+=1"
   ]
  },
  {
   "cell_type": "code",
   "execution_count": 71,
   "metadata": {},
   "outputs": [
    {
     "data": {
      "image/png": "[encoded data removed]",
      "text/plain": [
       "<matplotlib.figure.Figure at 0x7f7f46c3d8d0>"
      ]
     },
     "metadata": {},
     "output_type": "display_data"
    }
   ],
   "source": [
    "%matplotlib inline\n",
    "plt.hist(dif_ra, align='left', bins=1000)\n",
    "plt.ticklabel_format(style='sci', axis='x',scilimits=(0,0))\n",
    "plt.axvline(0.00014, color='r', linestyle='dashed', linewidth=2)\n",
    "plt.axvline(-0.00014, color='r', linestyle='dashed', linewidth=2)\n",
    "plt.xlim((-0.01, 0.01))\n",
    "plt.show()"
   ]
  },
  {
   "cell_type": "code",
   "execution_count": 72,
   "metadata": {},
   "outputs": [
    {
     "data": {
      "image/png": "[encoded data removed]",
      "text/plain": [
       "<matplotlib.figure.Figure at 0x7f7f46cb3990>"
      ]
     },
     "metadata": {},
     "output_type": "display_data"
    }
   ],
   "source": [
    "%matplotlib inline\n",
    "plt.hist(dif_dec, align='left', bins=1000)\n",
    "plt.ticklabel_format(style='sci', axis='x',scilimits=(0,0))\n",
    "plt.axvline(0.00014, color='r', linestyle='dashed', linewidth=2)\n",
    "plt.axvline(-0.00014, color='r', linestyle='dashed', linewidth=2)\n",
    "plt.xlim((-0.01, 0.01))\n",
    "plt.show()"
   ]
  },
  {
   "cell_type": "code",
   "execution_count": 7,
   "metadata": {},
   "outputs": [
    {
     "name": "stdout",
     "output_type": "stream",
     "text": [
      "[849373, 849374, 849375, 849376, 849377, 849685, 849686, 849687, 849688, 849689, 850177, 850178, 850179, 850180, 850181]\n"
     ]
    }
   ],
   "source": [
    "visits = range(849373,849378)\n",
    "visits.extend(range(849685,849690))\n",
    "visits.extend(range(850177, 850182))\n",
    "print visits"
   ]
  },
  {
   "cell_type": "code",
   "execution_count": 11,
   "metadata": {
    "collapsed": true
   },
   "outputs": [],
   "source": [
    "calexps = []\n",
    "filter = 'r'\n",
    "for i in visits:\n",
    "    \n",
    "    cal = butler.get(\"calexp\", dataId={\"filter\":filter, \"visit\":i, \"ccd\":14})\n",
    "    #wcs = butler.get(\"wcs\", dataId={\"filter\":filter, \"visit\":i, \"ccd\":14, \"tract\":0})\n",
    "    #wcs = wcs.getWcs()\n",
    "    #cal.setWcs(wcs)\n",
    "    calexps.append(cal)\n",
    "\n",
    "\n"
   ]
  },
  {
   "cell_type": "code",
   "execution_count": 12,
   "metadata": {
    "collapsed": true
   },
   "outputs": [],
   "source": [
    "sources_catalog = []\n",
    "\n",
    "#for calexp in calexps:\n",
    "for visit in visits:\n",
    "    sources_catalog.append(butler.get(\"src\", dataId={\"filter\":filter, \"visit\":visit, \"ccd\":14}))\n",
    "    \n",
    "    #sources_catalog.append(detect_sources(calexp))"
   ]
  },
  {
   "cell_type": "code",
   "execution_count": 13,
   "metadata": {
    "collapsed": true
   },
   "outputs": [],
   "source": [
    "multi_matches = afwTable.MultiMatch(sources_catalog[0].schema, {'visit':'I'}, radius=afwGeom.Angle(1./3600., afwGeom.degrees))"
   ]
  },
  {
   "cell_type": "code",
   "execution_count": 14,
   "metadata": {
    "collapsed": true
   },
   "outputs": [],
   "source": [
    "for catalog, visit in zip(sources_catalog, visits):\n",
    "    \n",
    "    multi_matches.add(catalog, {'visit':visit})\n",
    "    \n",
    "results = multi_matches.finish(removeAmbiguous=False) \n"
   ]
  },
  {
   "cell_type": "code",
   "execution_count": 15,
   "metadata": {
    "collapsed": true
   },
   "outputs": [],
   "source": [
    "-"
   ]
  },
  {
   "cell_type": "code",
   "execution_count": 16,
   "metadata": {
    "collapsed": true
   },
   "outputs": [],
   "source": [
    "lcs = DSTools.get_light_curves_from_multimatch_results2(results)"
   ]
  },
  {
   "cell_type": "code",
   "execution_count": 17,
   "metadata": {
    "collapsed": true
   },
   "outputs": [],
   "source": [
    "t_lcs = DSTools.threshold_light_curves(lcs, 3)"
   ]
  },
  {
   "cell_type": "code",
   "execution_count": 18,
   "metadata": {
    "collapsed": true
   },
   "outputs": [],
   "source": [
    "f_lcs = []\n",
    "for lc in t_lcs:\n",
    "        f_lcs.append(build_lightcurve(lc, \"base_CircularApertureFlux_4_5_flux\"))\n",
    "        "
   ]
  },
  {
   "cell_type": "code",
   "execution_count": 19,
   "metadata": {},
   "outputs": [
    {
     "name": "stdout",
     "output_type": "stream",
     "text": [
      "4337\n"
     ]
    }
   ],
   "source": [
    "\n",
    "print len(f_lcs)"
   ]
  },
  {
   "cell_type": "code",
   "execution_count": 20,
   "metadata": {
    "collapsed": true
   },
   "outputs": [],
   "source": [
    "std_ra = []\n",
    "std_dec = []\n",
    "\n",
    "for lc in f_lcs:\n",
    "    std_ra.append(np.std(lc['ra']))\n",
    "    std_dec.append(np.std(lc['dec']))"
   ]
  },
  {
   "cell_type": "code",
   "execution_count": 21,
   "metadata": {
    "collapsed": true
   },
   "outputs": [],
   "source": [
    "std_ra = np.multiply(std_ra,3600)\n",
    "std_dec = np.multiply(std_dec,3600)"
   ]
  },
  {
   "cell_type": "code",
   "execution_count": 22,
   "metadata": {},
   "outputs": [
    {
     "data": {
      "image/png": "[encoded data removed]",
      "text/plain": [
       "<matplotlib.figure.Figure at 0x7f2b60396110>"
      ]
     },
     "metadata": {},
     "output_type": "display_data"
    }
   ],
   "source": [
    "%matplotlib inline\n",
    "plt.hist(std_ra)\n",
    "plt.xlabel(\"std (arcsec)\")\n",
    "plt.ylabel(\"# of light curves\")\n",
    "#plt.ticklabel_format(style='sci', axis='x',scilimits=(0,0))\n",
    "#plt.axvline(0.00003, color='r', linestyle='dashed', linewidth=2)\n",
    "#plt.axvline(0.00014, color='r', linestyle='dashed', linewidth=2)\n",
    "plt.show()"
   ]
  },
  {
   "cell_type": "code",
   "execution_count": 23,
   "metadata": {},
   "outputs": [
    {
     "data": {
      "image/png": "[encoded data removed]",
      "text/plain": [
       "<matplotlib.figure.Figure at 0x7f2b60374690>"
      ]
     },
     "metadata": {},
     "output_type": "display_data"
    }
   ],
   "source": [
    "%matplotlib inline\n",
    "plt.hist(std_dec)\n",
    "plt.xlabel(\"std (arcsec)\")\n",
    "plt.ylabel(\"# of light curves\")\n",
    "#plt.ticklabel_format(style='sci', axis='x',scilimits=(0,0))\n",
    "#plt.axvline(0.00003, color='r', linestyle='dashed', linewidth=2)\n",
    "#plt.axvline(0.00014, color='r', linestyle='dashed', linewidth=2)\n",
    "plt.show()"
   ]
  },
  {
   "cell_type": "code",
   "execution_count": 8,
   "metadata": {
    "collapsed": true,
    "scrolled": true
   },
   "outputs": [],
   "source": [
    "dayCoadd = butler.get(\"dayCoadd\", dataId={\"filter\":'r',\"tract\":0, \"patch\":\"10,14\", 'date':'2006-04-23'})\n",
    "refCoadd = butler.get(\"deepCoadd\", dataId={\"filter\":'r',\"tract\":0, \"patch\":\"10,14\"})\n",
    "\n",
    "dayCoadd_sources=detect_sources(dayCoadd)\n",
    "refCoadd_sources=detect_sources(refCoadd)"
   ]
  },
  {
   "cell_type": "code",
   "execution_count": 25,
   "metadata": {
    "collapsed": true
   },
   "outputs": [],
   "source": [
    "patches = []\n",
    "patches_file=open(DATADIR+\"/patches.txt\", \"rb\")\n",
    "for line in patches_file:\n",
    "    line = line.replace('\\n','')\n",
    "    text = re.split(\"=| \",line)\n",
    "    patches.append(text[-1])\n",
    "patches_file.close()"
   ]
  },
  {
   "cell_type": "code",
   "execution_count": 29,
   "metadata": {},
   "outputs": [
    {
     "data": {
      "text/plain": [
       "['0,4',\n",
       " '0,5',\n",
       " '0,6',\n",
       " '0,7',\n",
       " '0,8',\n",
       " '0,9',\n",
       " '0,10',\n",
       " '0,11',\n",
       " '0,12',\n",
       " '0,13',\n",
       " '0,14',\n",
       " '0,15',\n",
       " '0,16',\n",
       " '0,17',\n",
       " '0,18',\n",
       " '0,19',\n",
       " '0,20',\n",
       " '0,21',\n",
       " '0,22',\n",
       " '0,23',\n",
       " '0,24',\n",
       " '1,4',\n",
       " '1,5',\n",
       " '1,6',\n",
       " '1,7',\n",
       " '1,8',\n",
       " '1,9',\n",
       " '1,10',\n",
       " '1,11',\n",
       " '1,12',\n",
       " '1,13',\n",
       " '1,14',\n",
       " '1,15',\n",
       " '1,16',\n",
       " '1,17',\n",
       " '1,18',\n",
       " '1,19',\n",
       " '1,20',\n",
       " '1,21',\n",
       " '1,22',\n",
       " '1,23',\n",
       " '1,24',\n",
       " '2,4',\n",
       " '2,5',\n",
       " '2,6',\n",
       " '2,7',\n",
       " '2,8',\n",
       " '2,9',\n",
       " '2,10',\n",
       " '2,11',\n",
       " '2,12',\n",
       " '2,13',\n",
       " '2,14',\n",
       " '2,15',\n",
       " '2,16',\n",
       " '2,17',\n",
       " '2,18',\n",
       " '2,19',\n",
       " '2,20',\n",
       " '2,21',\n",
       " '2,22',\n",
       " '2,23',\n",
       " '2,24',\n",
       " '3,4',\n",
       " '3,5',\n",
       " '3,6',\n",
       " '3,7',\n",
       " '3,8',\n",
       " '3,9',\n",
       " '3,10',\n",
       " '3,11',\n",
       " '3,12',\n",
       " '3,13',\n",
       " '3,14',\n",
       " '3,15',\n",
       " '3,16',\n",
       " '3,17',\n",
       " '3,18',\n",
       " '3,19',\n",
       " '3,20',\n",
       " '3,21',\n",
       " '3,22',\n",
       " '3,23',\n",
       " '3,24',\n",
       " '4,4',\n",
       " '4,5',\n",
       " '4,6',\n",
       " '4,7',\n",
       " '4,8',\n",
       " '4,9',\n",
       " '4,10',\n",
       " '4,11',\n",
       " '4,12',\n",
       " '4,13',\n",
       " '4,14',\n",
       " '4,15',\n",
       " '4,16',\n",
       " '4,17',\n",
       " '4,18',\n",
       " '4,19',\n",
       " '4,20',\n",
       " '4,21',\n",
       " '4,22',\n",
       " '4,23',\n",
       " '4,24',\n",
       " '5,4',\n",
       " '5,5',\n",
       " '5,6',\n",
       " '5,7',\n",
       " '5,8',\n",
       " '5,9',\n",
       " '5,10',\n",
       " '5,11',\n",
       " '5,12',\n",
       " '5,13',\n",
       " '5,14',\n",
       " '5,15',\n",
       " '5,16',\n",
       " '5,17',\n",
       " '5,18',\n",
       " '5,19',\n",
       " '5,20',\n",
       " '5,21',\n",
       " '5,22',\n",
       " '5,23',\n",
       " '5,24',\n",
       " '6,4',\n",
       " '6,5',\n",
       " '6,6',\n",
       " '6,7',\n",
       " '6,8',\n",
       " '6,9',\n",
       " '6,10',\n",
       " '6,11',\n",
       " '6,12',\n",
       " '6,13',\n",
       " '6,14',\n",
       " '6,15',\n",
       " '6,16',\n",
       " '6,17',\n",
       " '6,18',\n",
       " '6,19',\n",
       " '6,20',\n",
       " '6,21',\n",
       " '6,22',\n",
       " '6,23',\n",
       " '6,24',\n",
       " '7,4',\n",
       " '7,5',\n",
       " '7,6',\n",
       " '7,7',\n",
       " '7,8',\n",
       " '7,9',\n",
       " '7,10',\n",
       " '7,11',\n",
       " '7,12',\n",
       " '7,13',\n",
       " '7,14',\n",
       " '7,15',\n",
       " '7,16',\n",
       " '7,17',\n",
       " '7,18',\n",
       " '7,19',\n",
       " '7,20',\n",
       " '7,21',\n",
       " '7,22',\n",
       " '7,23',\n",
       " '7,24',\n",
       " '8,4',\n",
       " '8,5',\n",
       " '8,6',\n",
       " '8,7',\n",
       " '8,8',\n",
       " '8,9',\n",
       " '8,10',\n",
       " '8,11',\n",
       " '8,12',\n",
       " '8,13',\n",
       " '8,14',\n",
       " '8,15',\n",
       " '8,16',\n",
       " '8,17',\n",
       " '8,18',\n",
       " '8,19',\n",
       " '8,20',\n",
       " '8,21',\n",
       " '8,22',\n",
       " '8,23',\n",
       " '8,24',\n",
       " '9,4',\n",
       " '9,5',\n",
       " '9,6',\n",
       " '9,7',\n",
       " '9,8',\n",
       " '9,9',\n",
       " '9,10',\n",
       " '9,11',\n",
       " '9,12',\n",
       " '9,13',\n",
       " '9,14',\n",
       " '9,15',\n",
       " '9,16',\n",
       " '9,17',\n",
       " '9,18',\n",
       " '9,19',\n",
       " '9,20',\n",
       " '9,21',\n",
       " '9,22',\n",
       " '9,23',\n",
       " '9,24',\n",
       " '10,4',\n",
       " '10,5',\n",
       " '10,6',\n",
       " '10,7',\n",
       " '10,8',\n",
       " '10,9',\n",
       " '10,10',\n",
       " '10,11',\n",
       " '10,12',\n",
       " '10,13',\n",
       " '10,14',\n",
       " '10,15',\n",
       " '10,16',\n",
       " '10,17',\n",
       " '10,18',\n",
       " '10,19',\n",
       " '10,20',\n",
       " '10,21',\n",
       " '10,22',\n",
       " '10,23',\n",
       " '10,24',\n",
       " '11,4',\n",
       " '11,5',\n",
       " '11,6',\n",
       " '11,7',\n",
       " '11,8',\n",
       " '11,9',\n",
       " '11,10',\n",
       " '11,11',\n",
       " '11,12',\n",
       " '11,13',\n",
       " '11,14',\n",
       " '11,15',\n",
       " '11,16',\n",
       " '11,17',\n",
       " '11,18',\n",
       " '11,19',\n",
       " '11,20',\n",
       " '11,21',\n",
       " '11,22',\n",
       " '11,23',\n",
       " '11,24',\n",
       " '12,4',\n",
       " '12,5',\n",
       " '12,6',\n",
       " '12,7',\n",
       " '12,8',\n",
       " '12,9',\n",
       " '12,10',\n",
       " '12,11',\n",
       " '12,12',\n",
       " '12,13',\n",
       " '12,14',\n",
       " '12,15',\n",
       " '12,16',\n",
       " '12,17',\n",
       " '12,18',\n",
       " '12,19',\n",
       " '12,20',\n",
       " '12,21',\n",
       " '12,22',\n",
       " '12,23',\n",
       " '12,24',\n",
       " '13,4',\n",
       " '13,5',\n",
       " '13,6',\n",
       " '13,7',\n",
       " '13,8',\n",
       " '13,9',\n",
       " '13,10',\n",
       " '13,11',\n",
       " '13,12',\n",
       " '13,13',\n",
       " '13,14',\n",
       " '13,15',\n",
       " '13,16',\n",
       " '13,17',\n",
       " '13,18',\n",
       " '13,19',\n",
       " '13,20',\n",
       " '13,21',\n",
       " '13,22',\n",
       " '13,23',\n",
       " '13,24',\n",
       " '14,4',\n",
       " '14,5',\n",
       " '14,6',\n",
       " '14,7',\n",
       " '14,8',\n",
       " '14,9',\n",
       " '14,10',\n",
       " '14,11',\n",
       " '14,12',\n",
       " '14,13',\n",
       " '14,14',\n",
       " '14,15',\n",
       " '14,16',\n",
       " '14,17',\n",
       " '14,18',\n",
       " '14,19',\n",
       " '14,20',\n",
       " '14,21',\n",
       " '14,22',\n",
       " '14,23',\n",
       " '14,24',\n",
       " '15,4',\n",
       " '15,5',\n",
       " '15,6',\n",
       " '15,7',\n",
       " '15,8',\n",
       " '15,9',\n",
       " '15,10',\n",
       " '15,11',\n",
       " '15,12',\n",
       " '15,13',\n",
       " '15,14',\n",
       " '15,15',\n",
       " '15,16',\n",
       " '15,17',\n",
       " '15,18',\n",
       " '15,19',\n",
       " '15,20',\n",
       " '15,21',\n",
       " '15,22',\n",
       " '15,23',\n",
       " '15,24',\n",
       " '16,4',\n",
       " '16,5',\n",
       " '16,6',\n",
       " '16,7',\n",
       " '16,8',\n",
       " '16,9',\n",
       " '16,10',\n",
       " '16,11',\n",
       " '16,12',\n",
       " '16,13',\n",
       " '16,14',\n",
       " '16,15',\n",
       " '16,16',\n",
       " '16,17',\n",
       " '16,18',\n",
       " '16,19',\n",
       " '16,20',\n",
       " '16,21',\n",
       " '16,22',\n",
       " '16,23',\n",
       " '16,24',\n",
       " '17,4',\n",
       " '17,5',\n",
       " '17,6',\n",
       " '17,7',\n",
       " '17,8',\n",
       " '17,9',\n",
       " '17,10',\n",
       " '17,11',\n",
       " '17,12',\n",
       " '17,13',\n",
       " '17,14',\n",
       " '17,15',\n",
       " '17,16',\n",
       " '17,17',\n",
       " '17,18',\n",
       " '17,19',\n",
       " '17,20',\n",
       " '17,21',\n",
       " '17,22',\n",
       " '17,23',\n",
       " '17,24',\n",
       " '18,4',\n",
       " '18,5',\n",
       " '18,6',\n",
       " '18,7',\n",
       " '18,8',\n",
       " '18,9',\n",
       " '18,10',\n",
       " '18,11',\n",
       " '18,12',\n",
       " '18,13',\n",
       " '18,14',\n",
       " '18,15',\n",
       " '18,16',\n",
       " '18,17',\n",
       " '18,18',\n",
       " '18,19',\n",
       " '18,20',\n",
       " '18,21',\n",
       " '18,22',\n",
       " '18,23',\n",
       " '18,24',\n",
       " '19,4',\n",
       " '19,5',\n",
       " '19,6',\n",
       " '19,7',\n",
       " '19,8',\n",
       " '19,9',\n",
       " '19,10',\n",
       " '19,11',\n",
       " '19,12',\n",
       " '19,13',\n",
       " '19,14',\n",
       " '19,15',\n",
       " '19,16',\n",
       " '19,17',\n",
       " '19,18',\n",
       " '19,19',\n",
       " '19,20',\n",
       " '19,21',\n",
       " '19,22',\n",
       " '19,23',\n",
       " '19,24',\n",
       " '20,4',\n",
       " '20,5',\n",
       " '20,6',\n",
       " '20,7',\n",
       " '20,8',\n",
       " '20,9',\n",
       " '20,10',\n",
       " '20,11',\n",
       " '20,12',\n",
       " '20,13',\n",
       " '20,14',\n",
       " '20,15',\n",
       " '20,16',\n",
       " '20,17',\n",
       " '20,18',\n",
       " '20,19',\n",
       " '20,20',\n",
       " '20,21',\n",
       " '20,22',\n",
       " '20,23',\n",
       " '20,24',\n",
       " '21,4',\n",
       " '21,5',\n",
       " '21,6',\n",
       " '21,7',\n",
       " '21,8',\n",
       " '21,9',\n",
       " '21,10',\n",
       " '21,11',\n",
       " '21,12',\n",
       " '21,13',\n",
       " '21,14',\n",
       " '21,15',\n",
       " '21,16',\n",
       " '21,17',\n",
       " '21,18',\n",
       " '21,19',\n",
       " '21,20',\n",
       " '21,21',\n",
       " '21,22',\n",
       " '21,23',\n",
       " '21,24',\n",
       " '22,4',\n",
       " '22,5',\n",
       " '22,6',\n",
       " '22,7',\n",
       " '22,8',\n",
       " '22,9',\n",
       " '22,10',\n",
       " '22,11',\n",
       " '22,12',\n",
       " '22,13',\n",
       " '22,14',\n",
       " '22,15',\n",
       " '22,16',\n",
       " '22,17',\n",
       " '22,18',\n",
       " '22,19',\n",
       " '22,20',\n",
       " '22,21',\n",
       " '22,22',\n",
       " '22,23',\n",
       " '22,24',\n",
       " '23,4',\n",
       " '23,5',\n",
       " '23,6',\n",
       " '23,7',\n",
       " '23,8',\n",
       " '23,9',\n",
       " '23,10',\n",
       " '23,11',\n",
       " '23,12',\n",
       " '23,13',\n",
       " '23,14',\n",
       " '23,15',\n",
       " '23,16',\n",
       " '23,17',\n",
       " '23,18',\n",
       " '23,19',\n",
       " '23,20',\n",
       " '23,21',\n",
       " '23,22',\n",
       " '23,23',\n",
       " '23,24']"
      ]
     },
     "execution_count": 29,
     "metadata": {},
     "output_type": "execute_result"
    }
   ],
   "source": [
    "patches"
   ]
  },
  {
   "cell_type": "code",
   "execution_count": 36,
   "metadata": {},
   "outputs": [
    {
     "data": {
      "text/plain": [
       "True"
      ]
     },
     "execution_count": 36,
     "metadata": {},
     "output_type": "execute_result"
    }
   ],
   "source": [
    "butler.datasetExists(\"dayCoadd\", dataId={\"filter\":'r',\"tract\":0, \"patch\":'10,10', 'date':'2006-05-24'})"
   ]
  },
  {
   "cell_type": "code",
   "execution_count": 38,
   "metadata": {},
   "outputs": [
    {
     "name": "stdout",
     "output_type": "stream",
     "text": [
      "419\n"
     ]
    }
   ],
   "source": [
    "count = 0\n",
    "for patch in patches: \n",
    "    if butler.datasetExists(\"dayCoadd\", dataId={\"filter\":'r',\"tract\":0, \"patch\":patch, 'date':'2006-05-24'}):\n",
    "        count+=1\n",
    "print count"
   ]
  },
  {
   "cell_type": "code",
   "execution_count": 39,
   "metadata": {},
   "outputs": [
    {
     "name": "stdout",
     "output_type": "stream",
     "text": [
      "['7,4' '20,20' '5,22' '7,20' '5,13' '6,10' '23,8' '14,15' '23,22' '10,4'\n",
      " '13,16' '22,17' '9,12' '18,16' '7,19' '6,11' '11,13' '21,23' '7,11'\n",
      " '12,14' '21,13' '6,12' '12,21' '11,8' '10,17' '23,9' '17,9' '10,12' '23,6'\n",
      " '8,16' '20,5' '16,6' '13,10' '19,11' '23,9' '13,13' '21,5' '4,14' '20,24'\n",
      " '7,10' '11,12' '6,23' '13,10' '14,11' '19,22' '11,17' '6,18' '9,7' '6,10'\n",
      " '14,24' '10,19' '12,9' '4,23' '7,23' '15,18' '4,23' '9,9' '9,12' '5,11'\n",
      " '23,9' '5,15' '18,12' '20,16' '10,15' '14,21' '7,24' '10,12' '9,20' '4,22'\n",
      " '7,11' '16,19' '4,9' '8,23' '10,19' '13,10' '14,6' '12,20' '22,9' '9,9'\n",
      " '17,4' '13,15' '20,14' '10,21' '8,19' '7,23' '7,5' '16,20' '4,16' '15,7'\n",
      " '6,10' '21,23' '12,13' '10,12' '21,23' '19,17' '12,12' '6,11' '23,9'\n",
      " '14,16' '10,4']\n"
     ]
    }
   ],
   "source": [
    "count = 0\n",
    "patches_bool = []\n",
    "for patch in patches: \n",
    "    if butler.datasetExists(\"dayCoadd\", dataId={\"filter\":'r',\"tract\":0, \"patch\":patch, 'date':'2006-05-24'}):\n",
    "        patches_bool.append(True)\n",
    "    else:\n",
    "        patches_bool.append(False)\n",
    "\n",
    "\n",
    "patches_bool = np.array(patches_bool)\n",
    "patches = np.array(patches)\n",
    "p = patches.copy()\n",
    "p = p[patches_bool]\n",
    "\n",
    "p_sub = np.random.choice(p, 100)\n",
    "print p_sub"
   ]
  },
  {
   "cell_type": "code",
   "execution_count": 47,
   "metadata": {
    "collapsed": true
   },
   "outputs": [],
   "source": [
    "dayCoadd_sources = None\n",
    "refCoadd_sources = None\n",
    "for patch in patches: \n",
    "    if butler.datasetExists(\"dayCoadd\", dataId={\"filter\":'r',\"tract\":0, \"patch\":patch, 'date':'2006-05-24'}) and butler.datasetExists(\"deepCoadd\", dataId={\"filter\":'r',\"tract\":0, \"patch\":patch}):\n",
    "            try:\n",
    "                dayCoadd = butler.get(\"dayCoadd\", dataId={\"filter\":'r',\"tract\":0, \"patch\":patch, 'date':'2006-05-24'})\n",
    "                refCoadd = butler.get(\"deepCoadd\", dataId={\"filter\":'r',\"tract\":0, \"patch\":patch})\n",
    "\n",
    "                if dayCoadd_sources is None:\n",
    "                    refCoadd_sources=detect_sources(refCoadd)\n",
    "                    dayCoadd_sources=detect_sources(dayCoadd)\n",
    "\n",
    "                else:\n",
    "                    refCoadd_sources.extend(detect_sources(refCoadd))\n",
    "                    dayCoadd_sources.extend(detect_sources(dayCoadd))\n",
    "            except Exception, e:\n",
    "                print e\n",
    "                pass\n",
    "                \n",
    "           \n",
    "        "
   ]
  },
  {
   "cell_type": "code",
   "execution_count": 48,
   "metadata": {
    "collapsed": true
   },
   "outputs": [],
   "source": [
    "multi_matches = afwTable.MultiMatch(dayCoadd_sources.schema, {'visit':'I'}, radius=afwGeom.Angle(1./3600., afwGeom.degrees))\n",
    "\n",
    "\n",
    "    \n",
    "multi_matches.add(dayCoadd_sources, {'visit':0})\n",
    "multi_matches.add(refCoadd_sources, {'visit':1})\n",
    "    \n",
    "results = multi_matches.finish(removeAmbiguous=False) \n"
   ]
  },
  {
   "cell_type": "code",
   "execution_count": 49,
   "metadata": {
    "collapsed": true
   },
   "outputs": [],
   "source": [
    "lcs = DSTools.get_light_curves_from_multimatch_results2(results)\n",
    "t_lcs = DSTools.threshold_light_curves(lcs, 2)\n",
    "f_lcs = []\n",
    "for lc in t_lcs:\n",
    "        f_lcs.append(build_lightcurve(lc, \"base_CircularApertureFlux_4_5_flux\"))\n",
    "        "
   ]
  },
  {
   "cell_type": "code",
   "execution_count": 50,
   "metadata": {
    "collapsed": true
   },
   "outputs": [],
   "source": [
    "diff_ra = []\n",
    "diff_dec = []\n",
    "\n",
    "for lc in f_lcs:\n",
    "    diff_ra.append(lc[0][\"ra\"]-lc[1][\"ra\"])\n",
    "    diff_dec.append(lc[0][\"dec\"]-lc[1][\"dec\"])\n",
    "diff_ra = np.multiply(diff_ra,3600)\n",
    "diff_dec = np.multiply(diff_dec,3600)"
   ]
  },
  {
   "cell_type": "code",
   "execution_count": 51,
   "metadata": {},
   "outputs": [
    {
     "data": {
      "image/png": "[encoded data removed]",
      "text/plain": [
       "<matplotlib.figure.Figure at 0x7f29a42dbad0>"
      ]
     },
     "metadata": {},
     "output_type": "display_data"
    }
   ],
   "source": [
    "\n",
    "plt.hist(diff_ra, bins = 100) \n",
    "plt.xlabel(\"RA position difference in arcsec\")\n",
    "plt.ylabel(\"# of sources\")\n",
    "#plt.ticklabel_format(style='sci', axis='x',scilimits=(0,0))\n",
    "plt.show()"
   ]
  },
  {
   "cell_type": "code",
   "execution_count": 52,
   "metadata": {},
   "outputs": [
    {
     "data": {
      "image/png": "[encoded data removed]",
      "text/plain": [
       "<matplotlib.figure.Figure at 0x7f29a424fdd0>"
      ]
     },
     "metadata": {},
     "output_type": "display_data"
    }
   ],
   "source": [
    "plt.hist(diff_dec, bins = 100)    \n",
    "plt.xlabel(\"DEC position difference in arcsec\")\n",
    "plt.ylabel(\"# of sources\")\n",
    "#plt.ticklabel_format(style='sci', axis='x',scilimits=(0,0))\n",
    "plt.show()"
   ]
  },
  {
   "cell_type": "code",
   "execution_count": 29,
   "metadata": {},
   "outputs": [
    {
     "name": "stdout",
     "output_type": "stream",
     "text": [
      "exists\n"
     ]
    }
   ],
   "source": [
    "patch = patches[205]\n",
    "if butler.datasetExists(\"dayCoadd\", dataId={\"filter\":'r',\"tract\":0, \"patch\":patch, 'date':'2006-04-23'}) and butler.datasetExists(\"deepCoadd\", dataId={\"filter\":'r',\"tract\":0, \"patch\":patch}):\n",
    "        print \"exists\"\n",
    "        dayCoadd = butler.get(\"dayCoadd\", dataId={\"filter\":'r',\"tract\":0, \"patch\":patch, 'date':'2006-04-23'})\n",
    "        dayCoaddArray = dayCoadd.getMaskedImage().getImage().getArray()\n",
    "        refCoadd = butler.get(\"deepCoadd\", dataId={\"filter\":'r',\"tract\":0, \"patch\":patch})\n",
    "        refCoaddArray = refCoadd.getMaskedImage().getImage().getArray()\n",
    "               "
   ]
  },
  {
   "cell_type": "code",
   "execution_count": 30,
   "metadata": {},
   "outputs": [
    {
     "name": "stdout",
     "output_type": "stream",
     "text": [
      "9,20\n"
     ]
    }
   ],
   "source": [
    "patch = patches[205]\n",
    "print patch"
   ]
  },
  {
   "cell_type": "code",
   "execution_count": 32,
   "metadata": {
    "collapsed": true
   },
   "outputs": [],
   "source": [
    "diffArray = dayCoaddArray - refCoaddArray\n",
    "\n",
    "imageF = afwImage.ImageF(diffArray)\n",
    "ds9.mtv(imageF)"
   ]
  },
  {
   "cell_type": "code",
   "execution_count": 41,
   "metadata": {
    "scrolled": true
   },
   "outputs": [
    {
     "data": {
      "image/png": "[encoded data removed]",
      "text/plain": [
       "<matplotlib.figure.Figure at 0x7fd2b3950510>"
      ]
     },
     "metadata": {},
     "output_type": "display_data"
    }
   ],
   "source": []
  },
  {
   "cell_type": "code",
   "execution_count": 61,
   "metadata": {
    "collapsed": true
   },
   "outputs": [],
   "source": [
    "\n",
    "ds9.mtv(dayCoadd)"
   ]
  },
  {
   "cell_type": "code",
   "execution_count": 86,
   "metadata": {
    "collapsed": true
   },
   "outputs": [],
   "source": [
    "\n",
    "ds9.mtv(dayCoadd, frame=1)\n",
    "#cImage = preConvolve(dayCoadd)\n",
    "ds9.mtv(refCoadd, frame=2)\n"
   ]
  },
  {
   "cell_type": "code",
   "execution_count": 79,
   "metadata": {
    "collapsed": true
   },
   "outputs": [],
   "source": [
    "exp = afwImage.ExposureF()\n",
    "exp.setMaskedImage(cImage)\n",
    "exp.setPsf(dayCoadd.getPsf())"
   ]
  },
  {
   "cell_type": "code",
   "execution_count": 80,
   "metadata": {},
   "outputs": [
    {
     "data": {
      "text/plain": [
       "<lsst.afw.table.source.source.SourceCatalog at 0x7fd2b2ca6650>"
      ]
     },
     "execution_count": 80,
     "metadata": {},
     "output_type": "execute_result"
    }
   ],
   "source": [
    "detect_sources(exp)"
   ]
  },
  {
   "cell_type": "code",
   "execution_count": null,
   "metadata": {
    "collapsed": true
   },
   "outputs": [],
   "source": []
  }
 ],
 "metadata": {
  "kernelspec": {
   "display_name": "Python 2",
   "language": "python",
   "name": "python2"
  },
  "language_info": {
   "codemirror_mode": {
    "name": "ipython",
    "version": 2
   },
   "file_extension": ".py",
   "mimetype": "text/x-python",
   "name": "python",
   "nbconvert_exporter": "python",
   "pygments_lexer": "ipython2",
   "version": "2.7.12"
  }
 },
 "nbformat": 4,
 "nbformat_minor": 2
}
