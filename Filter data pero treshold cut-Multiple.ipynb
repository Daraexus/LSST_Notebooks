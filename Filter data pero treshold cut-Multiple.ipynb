{
 "cells": [
  {
   "cell_type": "code",
   "execution_count": 1,
   "metadata": {
    "collapsed": true
   },
   "outputs": [],
   "source": [
    "from astropy.io import ascii\n",
    "import glob\n",
    "import matplotlib.pyplot as plt\n",
    "import numpy as np\n",
    "from scipy import asarray as ar, exp\n",
    "from scipy.optimize import curve_fit, least_squares\n",
    "import re\n",
    "%matplotlib inline\n",
    "\n",
    "snls_colors = {\"sdssg\":\"darkgreen\", \"sdssi\":\"darkblue\", \"sdssr\":\"darkred\", \"sdssz\":\"purple\"}\n",
    "base_colors = {\"sdssg\":\"green\", \"sdssi\":\"blue\", \"sdssr\":\"red\", \"sdssz\":\"magenta\"}\n",
    "\n",
    "import astropy.coordinates as coord\n",
    "import astropy.units as u\n",
    "import Utils.DiaSourceTools as DSTools\n",
    "\n",
    "import multiprocessing\n",
    "\n",
    "import sncosmo"
   ]
  },
  {
   "cell_type": "code",
   "execution_count": 2,
   "metadata": {
    "collapsed": true
   },
   "outputs": [],
   "source": [
    "def read_lc_files(obj):\n",
    "    table = ascii.read(obj)\n",
    "    return table"
   ]
  },
  {
   "cell_type": "code",
   "execution_count": 3,
   "metadata": {
    "collapsed": true
   },
   "outputs": [],
   "source": [
    "f = open('/renoir_data_02/jpreyes/lsst_data/sn_control/J_A+A_523_A7_table9.dat.txt','r')\n",
    "data_elems = f.read()\n",
    "#elems = re.findall('^(.*?D3.*?)\\\\|(.*?)\\\\|', data_elems, re.MULTILINE)\n",
    "elems = re.findall('^(05D3.*?)\\\\|(.*?)\\\\|(.*?)\\\\|(.*?)\\\\|(.*?)\\\\|(.*?)\\\\|(.*?)\\\\|', data_elems, re.MULTILINE)\n",
    "f.close()\n",
    "\n",
    "f = open('/renoir_data_02/jpreyes/lsst_data/sn_control/J_A+A_523_A7_table10.dat.txt','r')\n",
    "data = f.read()\n",
    "f.close()"
   ]
  },
  {
   "cell_type": "code",
   "execution_count": 4,
   "metadata": {},
   "outputs": [
    {
     "name": "stdout",
     "output_type": "stream",
     "text": [
      "total of sn:33\n"
     ]
    }
   ],
   "source": [
    "snls_array = []\n",
    "for sn in elems:\n",
    "\n",
    "        c = coord.SkyCoord(sn[1], unit=(u.hourangle, u.deg))\n",
    "\n",
    "        m = re.findall('^'+str(sn[0])+'\\\\|(r|g|z|i)\\\\|(.*?)\\\\|(.*?)\\\\|(.*?)$', data, re.MULTILINE)\n",
    "\n",
    "        snls_lc = DSTools.build_light_curve_from_snls_file_2(m, c, sn[0], sn[-1])\n",
    "\n",
    "        if len(m)>0:\n",
    "            #print sn[0], c.ra.deg, c.dec.deg\n",
    "\n",
    "            #plt.errorbar(snls_lc['mjd'], snls_lc['flux'], yerr=snls_lc['flux_error'], fmt='.', color='blue')\n",
    "            #show_multi_filter_light_curve(snls_lc, snls_colors)\n",
    "            plt.show()\n",
    "            snls_array.append(snls_lc)\n",
    "\n",
    "print(\"total of sn:\" + str(len(snls_array)))"
   ]
  },
  {
   "cell_type": "code",
   "execution_count": 5,
   "metadata": {
    "collapsed": true
   },
   "outputs": [],
   "source": [
    "def match_with_lc(slc):\n",
    "    matches = []\n",
    "    for lc in snls_array:\n",
    "        #print \"light curve\"\n",
    "        val = {\"ra\":lc[0][\"ra\"], \"dec\":lc[0][\"dec\"]}\n",
    "        #print np.rad2deg(lc[0][\"ra\"]), np.rad2deg(lc[0][\"dec\"])\n",
    "        \n",
    "\n",
    "        comp = {\"ra\":np.mean(slc[\"ra\"]), \"dec\":np.mean(slc[\"dec\"])}\n",
    "        if DSTools.source_distance(val, comp)<1:\n",
    "            #print \"match\"\n",
    "            matches.append((lc,slc))\n",
    "\n",
    "\n",
    "    #print len(matches)\n",
    "    return matches\n"
   ]
  },
  {
   "cell_type": "code",
   "execution_count": 97,
   "metadata": {
    "collapsed": true
   },
   "outputs": [],
   "source": [
    "def get_total_matches_all(sigma):\n",
    "    lienObj = glob.glob(\"/datadec/cppm/jpreyes/CFHT_Production/light_curves_corrected_\"+str(float(sigma))+\"sigma/*.dat\")\n",
    "\n",
    "\n",
    "\n",
    "    try:\n",
    "        pool = multiprocessing.Pool()\n",
    "        res =  pool.map(read_lc_files, lienObj)\n",
    "    finally:\n",
    "        pool.close()\n",
    "\n",
    "    s_candidates = res\n",
    "    print len(s_candidates)\n",
    "\n",
    "    try:\n",
    "        pool = multiprocessing.Pool()\n",
    "        match_res =  pool.map(match_with_lc, s_candidates)\n",
    "    finally:\n",
    "        pool.close()\n",
    "\n",
    "    res_final = []\n",
    "    for r in match_res:\n",
    "        res_final +=r\n",
    "\n",
    "    count = 0\n",
    "    ids = []\n",
    "    for control, match in res_final:\n",
    "        if control[0][\"id\"] not in ids:\n",
    "            count+=1\n",
    "            ids.append(control[0][\"id\"])\n",
    "\n",
    "    print count\n",
    "    \n",
    "    return s_candidates, res_final\n",
    "\n",
    "def get_total_matches(f, sigma):\n",
    "    lienObj = glob.glob(\"/datadec/cppm/jpreyes/CFHT_Production/light_curves_corrected_\"+f+\"_\"+str(float(sigma))+\"sigma/*.dat\")\n",
    "\n",
    "\n",
    "\n",
    "    try:\n",
    "        pool = multiprocessing.Pool()\n",
    "        res =  pool.map(read_lc_files, lienObj)\n",
    "    finally:\n",
    "        pool.close()\n",
    "\n",
    "    s_candidates = res\n",
    "    print len(s_candidates)\n",
    "\n",
    "    try:\n",
    "        pool = multiprocessing.Pool()\n",
    "        match_res =  pool.map(match_with_lc, s_candidates)\n",
    "    finally:\n",
    "        pool.close()\n",
    "\n",
    "    res_final = []\n",
    "    for r in match_res:\n",
    "        res_final +=r\n",
    "\n",
    "    count = 0\n",
    "    ids = []\n",
    "    for control, match in res_final:\n",
    "        if control[0][\"id\"] not in ids:\n",
    "            count+=1\n",
    "            ids.append(control[0][\"id\"])\n",
    "\n",
    "    print count\n",
    "    \n",
    "    return s_candidates, res_final"
   ]
  },
  {
   "cell_type": "code",
   "execution_count": 23,
   "metadata": {
    "collapsed": true
   },
   "outputs": [],
   "source": [
    "def count_without_duplicates(res_final):\n",
    "    count = 0\n",
    "    ids = []\n",
    "    for control, match in res_final:\n",
    "        if control[0][\"id\"] not in ids:\n",
    "            count+=1\n",
    "            ids.append(control[0][\"id\"])\n",
    "\n",
    "    return count\n"
   ]
  },
  {
   "cell_type": "code",
   "execution_count": 65,
   "metadata": {},
   "outputs": [
    {
     "name": "stdout",
     "output_type": "stream",
     "text": [
      "50791\n",
      "24\n"
     ]
    }
   ],
   "source": [
    "c, rf = get_total_matches(\"i\",20)"
   ]
  },
  {
   "cell_type": "code",
   "execution_count": 66,
   "metadata": {},
   "outputs": [
    {
     "data": {
      "text/plain": [
       "50791"
      ]
     },
     "execution_count": 66,
     "metadata": {},
     "output_type": "execute_result"
    }
   ],
   "source": [
    "len(c)"
   ]
  },
  {
   "cell_type": "code",
   "execution_count": 67,
   "metadata": {},
   "outputs": [
    {
     "name": "stdout",
     "output_type": "stream",
     "text": [
      "47230\n"
     ]
    }
   ],
   "source": [
    "selected_candidates = []\n",
    "for candidate in c:\n",
    "    positives = len(candidate[candidate[\"classification\"]==6])+len(candidate[candidate[\"classification\"]==7])\n",
    "    total = len(candidate)\n",
    "    if float(positives)/float(total) > 0.5:\n",
    "        selected_candidates.append(candidate)\n",
    "print len(selected_candidates)"
   ]
  },
  {
   "cell_type": "code",
   "execution_count": 68,
   "metadata": {},
   "outputs": [],
   "source": [
    "try:\n",
    "    pool = multiprocessing.Pool()\n",
    "    match_res =  pool.map(match_with_lc, selected_candidates)\n",
    "finally:\n",
    "    pool.close()\n",
    "\n",
    "ms = []\n",
    "for r in match_res:\n",
    "    ms +=r\n"
   ]
  },
  {
   "cell_type": "code",
   "execution_count": 69,
   "metadata": {},
   "outputs": [
    {
     "name": "stdout",
     "output_type": "stream",
     "text": [
      "23\n"
     ]
    }
   ],
   "source": [
    "len(ms)\n",
    "print(count_without_duplicates(ms))"
   ]
  },
  {
   "cell_type": "code",
   "execution_count": 30,
   "metadata": {},
   "outputs": [
    {
     "data": {
      "text/html": [
       "&lt;Table length=17&gt;\n",
       "<table id=\"table140691625807376\" class=\"table-striped table-bordered table-condensed\">\n",
       "<thead><tr><th>mjd</th><th>classification</th><th>zpsys</th><th>flux</th><th>ra</th><th>flux_error</th><th>dec</th><th>zp</th><th>bandpass</th><th>magnitude</th><th>magnitude_error</th></tr></thead>\n",
       "<thead><tr><th>float64</th><th>float64</th><th>str2</th><th>float64</th><th>float64</th><th>float64</th><th>float64</th><th>float64</th><th>str5</th><th>float64</th><th>float64</th></tr></thead>\n",
       "<tr><td>53390.0</td><td>6.0</td><td>ab</td><td>20.904378891</td><td>3.7641558018</td><td>1.52051723003</td><td>0.913615416744</td><td>30.0</td><td>sdssr</td><td>26.6994068291</td><td>0.0789729565856</td></tr>\n",
       "<tr><td>53473.0</td><td>6.0</td><td>ab</td><td>26.4316043854</td><td>3.76415595799</td><td>1.80007195473</td><td>0.913615412181</td><td>30.0</td><td>sdssr</td><td>26.4446911865</td><td>0.0739419092357</td></tr>\n",
       "<tr><td>53469.0</td><td>6.0</td><td>ab</td><td>27.6053237915</td><td>3.76415602445</td><td>1.25423407555</td><td>0.913615439759</td><td>30.0</td><td>sdssr</td><td>26.3975178863</td><td>0.0493298812703</td></tr>\n",
       "<tr><td>53461.0</td><td>6.0</td><td>ab</td><td>22.8709926605</td><td>3.76415733798</td><td>2.17728543282</td><td>0.913615333629</td><td>30.0</td><td>sdssr</td><td>26.6017874637</td><td>0.10336051686</td></tr>\n",
       "<tr><td>53466.0</td><td>6.0</td><td>ab</td><td>23.8397731781</td><td>3.7641572501</td><td>1.6307643652</td><td>0.913615349991</td><td>30.0</td><td>sdssr</td><td>26.5567447024</td><td>0.0742699982712</td></tr>\n",
       "<tr><td>53446.0</td><td>6.0</td><td>ab</td><td>26.4294548035</td><td>3.76415692869</td><td>1.32050311565</td><td>0.913615336405</td><td>30.0</td><td>sdssr</td><td>26.4447794889</td><td>0.0542469775416</td></tr>\n",
       "<tr><td>53527.0</td><td>6.0</td><td>ab</td><td>29.6612930298</td><td>3.76415606165</td><td>1.10508298874</td><td>0.913615317759</td><td>30.0</td><td>sdssr</td><td>26.3195248016</td><td>0.0404509880581</td></tr>\n",
       "<tr><td>53531.0</td><td>6.0</td><td>ab</td><td>25.6310558319</td><td>3.76415711426</td><td>1.12678265572</td><td>0.913615291352</td><td>30.0</td><td>sdssr</td><td>26.4780837584</td><td>0.0477307190241</td></tr>\n",
       "<tr><td>53505.0</td><td>6.0</td><td>ab</td><td>22.5271110535</td><td>3.76415583545</td><td>1.21694970131</td><td>0.913615414764</td><td>30.0</td><td>sdssr</td><td>26.6182362499</td><td>0.058653164489</td></tr>\n",
       "<tr><td>53502.0</td><td>6.0</td><td>ab</td><td>26.3651981354</td><td>3.76415718492</td><td>1.48344862461</td><td>0.913615313646</td><td>30.0</td><td>sdssr</td><td>26.4474224015</td><td>0.0610893903155</td></tr>\n",
       "<tr><td>53523.0</td><td>6.0</td><td>ab</td><td>24.1242485046</td><td>3.76415725511</td><td>1.42470467091</td><td>0.913615467325</td><td>30.0</td><td>sdssr</td><td>26.5438655162</td><td>0.0641202747515</td></tr>\n",
       "<tr><td>53534.0</td><td>6.0</td><td>ab</td><td>24.8013095856</td><td>3.76415739507</td><td>1.44352948666</td><td>0.913615319228</td><td>30.0</td><td>sdssr</td><td>26.5138134662</td><td>0.063193930179</td></tr>\n",
       "<tr><td>53495.0</td><td>6.0</td><td>ab</td><td>24.2895755768</td><td>3.76415729214</td><td>1.44581472874</td><td>0.913615414521</td><td>30.0</td><td>sdssr</td><td>26.5364501844</td><td>0.0646274526864</td></tr>\n",
       "<tr><td>53518.0</td><td>6.0</td><td>ab</td><td>25.0012588501</td><td>3.76415726117</td><td>1.97238075733</td><td>0.913615603046</td><td>30.0</td><td>sdssr</td><td>26.5050953085</td><td>0.0856550948352</td></tr>\n",
       "<tr><td>53498.0</td><td>6.0</td><td>ab</td><td>22.8666381836</td><td>3.76415741793</td><td>1.38915908337</td><td>0.913615511767</td><td>30.0</td><td>sdssr</td><td>26.6019941999</td><td>0.0659589878875</td></tr>\n",
       "<tr><td>53558.0</td><td>6.0</td><td>ab</td><td>26.1298408508</td><td>3.76415595471</td><td>0.917900145054</td><td>0.913615350016</td><td>30.0</td><td>sdssr</td><td>26.4571580886</td><td>0.0381402024424</td></tr>\n",
       "<tr><td>53553.0</td><td>6.0</td><td>ab</td><td>25.9872398376</td><td>3.76415602604</td><td>0.851920247078</td><td>0.913615369678</td><td>30.0</td><td>sdssr</td><td>26.4630996136</td><td>0.0355928779508</td></tr>\n",
       "</table>"
      ],
      "text/plain": [
       "<Table length=17>\n",
       "  mjd   classification zpsys ... bandpass   magnitude   magnitude_error\n",
       "float64    float64      str2 ...   str5      float64        float64    \n",
       "------- -------------- ----- ... -------- ------------- ---------------\n",
       "53390.0            6.0    ab ...    sdssr 26.6994068291 0.0789729565856\n",
       "53473.0            6.0    ab ...    sdssr 26.4446911865 0.0739419092357\n",
       "53469.0            6.0    ab ...    sdssr 26.3975178863 0.0493298812703\n",
       "53461.0            6.0    ab ...    sdssr 26.6017874637   0.10336051686\n",
       "53466.0            6.0    ab ...    sdssr 26.5567447024 0.0742699982712\n",
       "53446.0            6.0    ab ...    sdssr 26.4447794889 0.0542469775416\n",
       "53527.0            6.0    ab ...    sdssr 26.3195248016 0.0404509880581\n",
       "53531.0            6.0    ab ...    sdssr 26.4780837584 0.0477307190241\n",
       "53505.0            6.0    ab ...    sdssr 26.6182362499  0.058653164489\n",
       "53502.0            6.0    ab ...    sdssr 26.4474224015 0.0610893903155\n",
       "53523.0            6.0    ab ...    sdssr 26.5438655162 0.0641202747515\n",
       "53534.0            6.0    ab ...    sdssr 26.5138134662  0.063193930179\n",
       "53495.0            6.0    ab ...    sdssr 26.5364501844 0.0646274526864\n",
       "53518.0            6.0    ab ...    sdssr 26.5050953085 0.0856550948352\n",
       "53498.0            6.0    ab ...    sdssr 26.6019941999 0.0659589878875\n",
       "53558.0            6.0    ab ...    sdssr 26.4571580886 0.0381402024424\n",
       "53553.0            6.0    ab ...    sdssr 26.4630996136 0.0355928779508"
      ]
     },
     "execution_count": 30,
     "metadata": {},
     "output_type": "execute_result"
    }
   ],
   "source": [
    "selected_candidates[0][selected_candidates[0][\"classification\"]==6]"
   ]
  },
  {
   "cell_type": "code",
   "execution_count": 65,
   "metadata": {},
   "outputs": [
    {
     "name": "stdout",
     "output_type": "stream",
     "text": [
      "57413\n",
      "24\n",
      "55989\n",
      "24\n",
      "54009\n",
      "24\n",
      "50791\n",
      "24\n",
      "45707\n",
      "24\n"
     ]
    }
   ],
   "source": [
    "get_total_matches(\"i\",5)\n",
    "get_total_matches(\"i\",10)\n",
    "get_total_matches(\"i\",15)\n",
    "get_total_matches(\"i\",20)\n",
    "get_total_matches(\"i\",25)"
   ]
  },
  {
   "cell_type": "code",
   "execution_count": 68,
   "metadata": {},
   "outputs": [
    {
     "name": "stdout",
     "output_type": "stream",
     "text": [
      "18197\n",
      "10\n",
      "17917\n",
      "10\n",
      "17605\n",
      "10\n",
      "17270\n",
      "10\n",
      "16789\n",
      "10\n"
     ]
    }
   ],
   "source": [
    "get_total_matches(\"g\",5)\n",
    "get_total_matches(\"g\",10)\n",
    "get_total_matches(\"g\",15)\n",
    "get_total_matches(\"g\",20)\n",
    "get_total_matches(\"g\",25)"
   ]
  },
  {
   "cell_type": "code",
   "execution_count": null,
   "metadata": {},
   "outputs": [
    {
     "name": "stdout",
     "output_type": "stream",
     "text": [
      "46382\n"
     ]
    }
   ],
   "source": [
    "get_total_matches(\"r\",0)\n",
    "get_total_matches(\"i\",0)\n",
    "get_total_matches(\"g\",0)\n",
    "\n"
   ]
  },
  {
   "cell_type": "code",
   "execution_count": 96,
   "metadata": {},
   "outputs": [
    {
     "name": "stdout",
     "output_type": "stream",
     "text": [
      "0\n",
      "0\n",
      "0\n",
      "0\n",
      "0\n",
      "0\n",
      "0\n",
      "0\n",
      "0\n",
      "0\n"
     ]
    },
    {
     "data": {
      "text/plain": [
       "([], [])"
      ]
     },
     "execution_count": 96,
     "metadata": {},
     "output_type": "execute_result"
    }
   ],
   "source": [
    "get_total_matches_all(5)\n",
    "get_total_matches_all(10)\n",
    "get_total_matches_all(15)\n",
    "get_total_matches_all(20)\n",
    "get_total_matches_all(25)"
   ]
  },
  {
   "cell_type": "code",
   "execution_count": null,
   "metadata": {
    "collapsed": true
   },
   "outputs": [],
   "source": []
  }
 ],
 "metadata": {
  "kernelspec": {
   "display_name": "Python 2",
   "language": "python",
   "name": "python2"
  },
  "language_info": {
   "codemirror_mode": {
    "name": "ipython",
    "version": 2
   },
   "file_extension": ".py",
   "mimetype": "text/x-python",
   "name": "python",
   "nbconvert_exporter": "python",
   "pygments_lexer": "ipython2",
   "version": "2.7.12"
  }
 },
 "nbformat": 4,
 "nbformat_minor": 2
}
