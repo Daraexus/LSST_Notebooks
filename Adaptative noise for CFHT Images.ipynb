{
 "cells": [
  {
   "cell_type": "code",
   "execution_count": 1,
   "metadata": {},
   "outputs": [
    {
     "name": "stderr",
     "output_type": "stream",
     "text": [
      "/renoir_data_00/fouchez/lsst/DM/stacks/lsstsw/2017-05-04/lsstsw/miniconda/lib/python2.7/site-packages/matplotlib/font_manager.py:273: UserWarning: Matplotlib is building the font cache using fc-list. This may take a moment.\n",
      "  warnings.warn('Matplotlib is building the font cache using fc-list. This may take a moment.')\n"
     ]
    }
   ],
   "source": [
    "import lsst.daf.persistence as dafPersist\n",
    "import matplotlib.pyplot as plt\n",
    "import numpy as np\n",
    "\n",
    "import lsst.afw.table as afwTable\n",
    "import lsst.afw.geom as afwGeom\n",
    "import Utils.DiaSourceTools as DSTools\n",
    "from astropy.time import Time\n",
    "\n",
    "import lsst.afw.display.ds9 as ds9\n",
    "\n",
    "import re\n",
    "\n",
    "import lsst.daf.base as dafBase\n",
    "\n",
    "import lsst.afw.math as afwMath\n",
    "\n",
    "import glob\n",
    "from astropy.io import ascii\n",
    "\n",
    "from lsst.ip.diffim import ImagePsfMatchTask, DipoleMeasurementTask\n",
    "from lsst.meas.algorithms.detection import SourceDetectionTask\n",
    "from lsst.meas.base import SingleFrameMeasurementTask\n",
    "from lsst.meas.deblender import SourceDeblendTask\n",
    "\n",
    "from lsst.afw.fits import FitsError\n",
    "\n",
    "from astropy.table import Column"
   ]
  },
  {
   "cell_type": "code",
   "execution_count": 2,
   "metadata": {
    "collapsed": true
   },
   "outputs": [],
   "source": [
    "DATADIR=\"/datadec/cppm/jpreyes/CFHT_Complete\"\n",
    "#DATADIR=\"/renoir_data_02/jpreyes/lsst_data/CFHTLS_daytest/\"\n",
    "\n",
    "directory = DATADIR+\"/detect_testSN_2/\"\n",
    "butler = dafPersist.Butler(directory) \n"
   ]
  },
  {
   "cell_type": "code",
   "execution_count": 3,
   "metadata": {
    "collapsed": true
   },
   "outputs": [],
   "source": [
    "dayDiff = butler.get(\"dayDiff_differenceExp\", dataId={\"filter\":'r',\"tract\":0, \"patch\":'15,15', 'date':'2004-04-22'})"
   ]
  },
  {
   "cell_type": "code",
   "execution_count": 4,
   "metadata": {
    "collapsed": true
   },
   "outputs": [],
   "source": [
    "image = dayDiff.getMaskedImage().getImage()"
   ]
  },
  {
   "cell_type": "code",
   "execution_count": 4,
   "metadata": {
    "collapsed": true
   },
   "outputs": [],
   "source": [
    "def get_threshold(dayDiff):\n",
    "    mi = dayDiff.getMaskedImage()\n",
    "    bad = dayDiff.getMaskedImage().getMask().getPlaneBitMask(['BAD', 'SAT', 'EDGE', 'NO_DATA', ])\n",
    "    sctrl = afwMath.StatisticsControl()\n",
    "    sctrl.setAndMask(bad)\n",
    "    stats = afwMath.makeStatistics(mi, afwMath.STDEVCLIP, sctrl)\n",
    "    thres = (stats.getValue(afwMath.STDEVCLIP) * 5)\n",
    "    return thres"
   ]
  },
  {
   "cell_type": "code",
   "execution_count": 5,
   "metadata": {
    "collapsed": true
   },
   "outputs": [],
   "source": [
    "patches = []\n",
    "patches_file=open(DATADIR+\"/patches.txt\", \"rb\")\n",
    "for line in patches_file:\n",
    "    line = line.replace('\\n','')\n",
    "    text = re.split(\"=| \",line)\n",
    "    patches.append(text[-1])\n",
    "patches_file.close()\n"
   ]
  },
  {
   "cell_type": "code",
   "execution_count": 194,
   "metadata": {
    "collapsed": true
   },
   "outputs": [],
   "source": [
    "diffexps = []\n",
    "\n",
    "for patch in patches: \n",
    "    if butler.datasetExists(\"dayDiff_differenceExp\", dataId={\"filter\":'r',\"tract\":0, \"patch\":patch, 'date':'2004-04-22'}):\n",
    "        diffexps.append(butler.get(\"dayDiff_differenceExp\", dataId={\"filter\":'r',\"tract\":0, \"patch\":patch, 'date':'2004-04-22'}))"
   ]
  },
  {
   "cell_type": "code",
   "execution_count": 204,
   "metadata": {
    "collapsed": true
   },
   "outputs": [],
   "source": [
    "diff = []\n",
    "for dexp in diffexps:\n",
    "    t1 = get_threshold(dexp)\n",
    "    array = dexp.getMaskedImage().getImage().getArray().flatten()\n",
    "    non_nan = np.isnan(array)\n",
    "    array[non_nan] = 0\n",
    "    bad_flags = dexp.getMaskedImage().getMask().getPlaneBitMask(['BAD', 'SAT', 'EDGE', 'NO_DATA', 'DETECTED', 'DETECTED_NEGATIVE'])\n",
    "    mask =  dexp.getMaskedImage().getMask().getArray().flatten()\n",
    "    #marray = dexp.getMaskedImage().getImage().getArray().copy().flatten()\n",
    "    \n",
    "    marray = np.array(array)\n",
    "    #marray = marray[mask.flatten()&bad_flags == 0]\n",
    "    marray[mask.flatten()&bad_flags!=0]=0\n",
    "    t2 = np.std(marray)*5\n",
    "\n",
    "    diff.append(t1-t2)\n"
   ]
  },
  {
   "cell_type": "code",
   "execution_count": 205,
   "metadata": {},
   "outputs": [
    {
     "data": {
      "image/png": "[encoded data removed]",
      "text/plain": [
       "<matplotlib.figure.Figure at 0x7f378a7aefd0>"
      ]
     },
     "metadata": {},
     "output_type": "display_data"
    }
   ],
   "source": [
    "plt.hist(diff, bins=100)\n",
    "plt.xlabel(\"std difference (arcsec)\")\n",
    "plt.ylabel(\"# of images\")\n",
    "plt.show()"
   ]
  },
  {
   "cell_type": "code",
   "execution_count": 159,
   "metadata": {},
   "outputs": [
    {
     "name": "stdout",
     "output_type": "stream",
     "text": [
      "-0.0719765\n",
      "0\n",
      "0\n"
     ]
    }
   ],
   "source": [
    "dexp = diffexps[50]\n",
    "array = dexp.getMaskedImage().getImage().getArray().flatten()\n",
    "bad_flags = dexp.getMaskedImage().getMask().getPlaneBitMask(['BAD', 'SAT', 'EDGE', 'NO_DATA', ])\n",
    "mask =  dexp.getMaskedImage().getMask().getArray().flatten()\n",
    "print array[(716*1200)+628]\n",
    "print mask[(716*1200)+628]\n",
    "bad_flags = dexp.getMaskedImage().getMask().getPlaneBitMask(['BAD', 'SAT', 'EDGE', 'NO_DATA', ])\n",
    "print bad_flags&0"
   ]
  },
  {
   "cell_type": "code",
   "execution_count": 153,
   "metadata": {},
   "outputs": [
    {
     "data": {
      "text/plain": [
       "-0.071976483"
      ]
     },
     "execution_count": 153,
     "metadata": {},
     "output_type": "execute_result"
    }
   ],
   "source": [
    "array = dexp.getMaskedImage().getImage().getArray()\n",
    "array[716][628]\n"
   ]
  },
  {
   "cell_type": "code",
   "execution_count": 148,
   "metadata": {
    "collapsed": true
   },
   "outputs": [],
   "source": [
    "ds9.mtv(dexp)"
   ]
  },
  {
   "cell_type": "code",
   "execution_count": 174,
   "metadata": {},
   "outputs": [
    {
     "name": "stdout",
     "output_type": "stream",
     "text": [
      "[  1   2   3   4   5   6   7   8   9 275] 275\n",
      "[4 8]\n",
      "[0 0 0 4 0 0 0 8 0 0]\n"
     ]
    }
   ],
   "source": [
    "test = np.array(array.copy())\n",
    "\n",
    "test=[1,2,3,4,5,6,7,8,9, 275]\n",
    "test = np.array(test)\n",
    "res = test[test&bad_flags==0]\n",
    "\n",
    "print test, bad_flags\n",
    "\n",
    "print res\n",
    "\n",
    "test[test&bad_flags!=0] = 0\n",
    "print test"
   ]
  },
  {
   "cell_type": "code",
   "execution_count": null,
   "metadata": {
    "collapsed": true
   },
   "outputs": [],
   "source": []
  },
  {
   "cell_type": "code",
   "execution_count": 116,
   "metadata": {},
   "outputs": [
    {
     "name": "stdout",
     "output_type": "stream",
     "text": [
      "1015467 1440000\n"
     ]
    }
   ],
   "source": [
    "array\n",
    "marray = np.array(array)\n",
    "marray = marray[mask.flatten()&bad_flags!=0]\n",
    "print len(marray), len(array)"
   ]
  },
  {
   "cell_type": "code",
   "execution_count": null,
   "metadata": {
    "collapsed": true
   },
   "outputs": [],
   "source": []
  },
  {
   "cell_type": "code",
   "execution_count": 20,
   "metadata": {},
   "outputs": [
    {
     "data": {
      "image/png": "[encoded data removed]",
      "text/plain": [
       "<matplotlib.figure.Figure at 0x7fbb85448d10>"
      ]
     },
     "metadata": {},
     "output_type": "display_data"
    }
   ],
   "source": [
    "plt.hist(array.flatten(), bins=500)\n",
    "plt.show()"
   ]
  },
  {
   "cell_type": "code",
   "execution_count": 23,
   "metadata": {
    "collapsed": true
   },
   "outputs": [],
   "source": [
    "ds9.mtv(image, frame=1)"
   ]
  },
  {
   "cell_type": "code",
   "execution_count": 28,
   "metadata": {},
   "outputs": [
    {
     "data": {
      "image/png": "[encoded data removed]",
      "text/plain": [
       "<matplotlib.figure.Figure at 0x7fbb85741d10>"
      ]
     },
     "metadata": {},
     "output_type": "display_data"
    }
   ],
   "source": [
    "sigma_5 = array.std()*5\n",
    "plt.hist(array.flatten(), bins=500)\n",
    "\n",
    "plt.axvline(sigma_5, color='r', linestyle='dashed', linewidth=2)\n",
    "plt.axvline(-sigma_5, color='r', linestyle='dashed', linewidth=2)\n",
    "plt.show()"
   ]
  },
  {
   "cell_type": "code",
   "execution_count": 29,
   "metadata": {},
   "outputs": [
    {
     "data": {
      "text/plain": [
       "<lsst.meas.algorithms.coaddPsf.CoaddPsf at 0x7fbb81cf18b8>"
      ]
     },
     "execution_count": 29,
     "metadata": {},
     "output_type": "execute_result"
    }
   ],
   "source": [
    "dayDiff.get"
   ]
  },
  {
   "cell_type": "code",
   "execution_count": 30,
   "metadata": {
    "collapsed": true
   },
   "outputs": [],
   "source": []
  },
  {
   "cell_type": "code",
   "execution_count": 8,
   "metadata": {
    "collapsed": true
   },
   "outputs": [],
   "source": [
    "\n"
   ]
  },
  {
   "cell_type": "code",
   "execution_count": null,
   "metadata": {
    "collapsed": true
   },
   "outputs": [],
   "source": []
  }
 ],
 "metadata": {
  "kernelspec": {
   "display_name": "Python 2",
   "language": "python",
   "name": "python2"
  },
  "language_info": {
   "codemirror_mode": {
    "name": "ipython",
    "version": 2
   },
   "file_extension": ".py",
   "mimetype": "text/x-python",
   "name": "python",
   "nbconvert_exporter": "python",
   "pygments_lexer": "ipython2",
   "version": "2.7.12"
  }
 },
 "nbformat": 4,
 "nbformat_minor": 2
}
