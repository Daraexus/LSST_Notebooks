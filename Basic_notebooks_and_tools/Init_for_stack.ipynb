{
 "metadata": {
  "name": "",
  "signature": "sha256:d2412be030074b9862ae2b41ba8b3badcdd8fefa1598b35d150919d516208315"
 },
 "nbformat": 3,
 "nbformat_minor": 0,
 "worksheets": [
  {
   "cells": [
    {
     "cell_type": "heading",
     "level": 1,
     "metadata": {},
     "source": [
      "Basic Stack initialisation and utilties"
     ]
    },
    {
     "cell_type": "markdown",
     "metadata": {},
     "source": [
      "Imports of all LSST Python modules necessaries for the processing"
     ]
    },
    {
     "cell_type": "code",
     "collapsed": false,
     "input": [
      "import glob\n",
      "import os\n",
      "import subprocess\n",
      "import sys\n",
      "\n",
      "from IPython.display import Image, display_png\n",
      "\n",
      "import lsst.afw.display.ds9 as ds9\n",
      "\n",
      "import lsst.pipe.tasks.ingest as Ingester\n",
      "import lsst.pipe.tasks.processCcd as Processer\n",
      "import lsst.pipe.base.argumentParser as ArgumentParser\n",
      "import lsst.daf.persistence as dafPersist\n",
      "import lsst.pipe.tasks.makeSkyMap as SkyMapper\n",
      "\n",
      "import lsst.pipe.tasks.reportPatches as PatchReporter\n",
      "#import reportPatches as PatchReporter\n",
      "import lsst.pipe.tasks.makeCoaddTempExp as TempexpCoadder\n",
      "import lsst.pipe.tasks.assembleCoadd as Assembler\n",
      "\n",
      "import lsst.afw.image as afwImage\n",
      "import lsst.meas.algorithms as measAlg\n",
      "import lsst.ip.diffim as ipDiffim\n",
      "import lsst.ip.diffim.diffimTools as diffimTools\n",
      "\n"
     ],
     "language": "python",
     "metadata": {},
     "outputs": [],
     "prompt_number": 1
    },
    {
     "cell_type": "markdown",
     "metadata": {},
     "source": [
      "Methods for ds9 image visualization"
     ]
    },
    {
     "cell_type": "code",
     "collapsed": false,
     "input": [
      "ds9dir = os.getenv('DS9DIR')\n",
      "\n",
      "def displayFigure(path):\n",
      "    i =  Image(path)\n",
      "    display_png(i)\n",
      "\n",
      "def displayDs9(path):\n",
      "    ds9.ds9Cmd(\"raise\")\n",
      "    ds9.ds9Cmd('saveimage '+path)\n",
      "    file = ds9dir+'/'+path\n",
      "    !scp -q $file . \n",
      "    displayFigure(path)\n",
      "    \n",
      "def displayImage(Image,frame=0,title=\"NoName\",path=\"fig\"):\n",
      "    ds9.mtv(Image, frame=frame, title=title)\n",
      "    ds9.ds9Cmd(\"zscale\")\n",
      "    ds9.ds9Cmd(\"zoom to fit\")     \n",
      "    print title\n",
      "    displayDs9(path)\n",
      "\n",
      "def displayFrame(Image,frame=0,title=\"NoName\",path=\"fig\"):\n",
      "    ds9.mtv(Image, frame=frame, title=title)\n",
      "    ds9.ds9Cmd(\"zscale\")\n",
      "    ds9.ds9Cmd(\"zoom to fit\")     \n",
      "\n",
      "def showFrame(frame=0,title=\"NoTitle\",path=\"fig\"):\n",
      "    ds9.ds9Cmd(\"zscale\")\n",
      "   # ds9.ds9Cmd(\"zoom to fit\")\n",
      "    print title\n",
      "    displayDs9(path)\n",
      "    \n",
      "def displayImageWithSources(Image,frame=0,title=\"NoName\",path=\"fig\", sources=[]):\n",
      "    ds9.mtv(Image, frame=frame, title=title)\n",
      "    ds9.ds9Cmd(\"zscale\")\n",
      "    ds9.ds9Cmd(\"zoom to fit\")\n",
      "    ds9.ds9Cmd(\"raise\")        \n",
      "    for source in sources:\n",
      "        ds9.dot(\"+\", source.getX()-Image.getX0()  , source.getY()-Image.getY0() , frame=frame, size = 25, ctype = ds9.RED)\n",
      "    print title\n",
      "    displayDs9(path)\n",
      "    "
     ],
     "language": "python",
     "metadata": {},
     "outputs": [],
     "prompt_number": 2
    }
   ],
   "metadata": {}
  }
 ]
}