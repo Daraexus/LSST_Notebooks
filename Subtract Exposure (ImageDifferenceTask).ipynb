{
 "metadata": {
  "name": ""
 },
 "nbformat": 3,
 "nbformat_minor": 0,
 "worksheets": [
  {
   "cells": [
    {
     "cell_type": "code",
     "collapsed": false,
     "input": [
      "import glob\n",
      "import os\n",
      "import subprocess\n",
      "import sys\n",
      "import time\n",
      "import math\n",
      "\n",
      "from IPython.display import Image, display_png\n",
      "\n",
      "import lsst.afw.display.ds9 as ds9\n",
      "import lsst.afw.math as afwMath\n",
      "import lsst.afw.geom as afwGeom\n",
      "import lsst.afw.image as afwImage\n",
      "import lsst.afw.table as afwTable\n",
      "\n",
      "import lsst.ip.diffim as ipDiffim\n",
      "import lsst.ip.diffim.diffimTools as diffimTools\n",
      "from lsst.ip.diffim.makeKernelBasisList import makeKernelBasisList\n",
      "from lsst.ip.diffim import utils as diUtils\n",
      "from lsst.ip.diffim import diffimLib\n",
      "\n",
      "from lsst.pipe.tasks.registerImage import RegisterTask\n",
      "from lsst.meas.algorithms import SourceDetectionTask, SourceMeasurementTask, starSelectorRegistry, PsfAttributes, SingleGaussianPsf\n",
      "from lsst.meas.deblender import SourceDeblendTask\n",
      "from lsst.ip.diffim import ImagePsfMatchTask, DipoleMeasurementTask, DipoleAnalysis, SourceFlagChecker, KernelCandidateF, cast_KernelCandidateF, makeKernelBasisList, KernelCandidateQa, DiaCatalogSourceSelector, DiaCatalogSourceSelectorConfig\n",
      "\n",
      "import lsst.meas.astrom as measAstrom\n",
      "\n",
      "import lsst.daf.base as dafBase\n",
      "\n",
      "import lsst.pipe.base as pipeBase\n",
      "\n",
      "import lsst.daf.persistence as dafPersist\n",
      "\n",
      "import lsst.pipe.tasks.imageDifference as ImageDifferencer\n",
      "\n",
      "DATADIR=\"/renoir_data_02/jpreyes/lsst_data/data/CFHTLS\"\n"
     ],
     "language": "python",
     "metadata": {},
     "outputs": [],
     "prompt_number": 41
    },
    {
     "cell_type": "code",
     "collapsed": false,
     "input": [
      "def displayFigure(path):\n",
      "    i =  Image(path)\n",
      "    display_png(i)\n",
      "    \n",
      "def displayImage(Image,frame=0,title=\"NoName\",path=\"fig\"):\n",
      "    ds9.mtv(Image, frame=frame, title=title)\n",
      "    ds9.ds9Cmd(\"zscale\")\n",
      "    ds9.ds9Cmd(\"zoom to fit\")\n",
      "    ds9.ds9Cmd(\"raise\")\n",
      "    ds9.ds9Cmd('saveimage '+path)\n",
      "    print title\n",
      "    displayFigure(path)\n",
      "\n",
      "def showFrame(frame=0,title=\"NoTitle\",path=\"fig\"):\n",
      "    ds9.ds9Cmd(\"zscale\")\n",
      "    ds9.ds9Cmd(\"zoom to fit\")\n",
      "    ds9.ds9Cmd(\"raise\")\n",
      "    ds9.ds9Cmd('saveimage '+path)\n",
      "    print title\n",
      "    displayFigure(path)\n",
      "    \n",
      "def displayImageWithSources(Image,frame=0,title=\"NoName\",path=\"fig\", sources=[]):\n",
      "    ds9.mtv(Image, frame=frame, title=title)\n",
      "    ds9.ds9Cmd(\"zscale\")\n",
      "    ds9.ds9Cmd(\"zoom to fit\")\n",
      "    ds9.ds9Cmd(\"raise\")\n",
      "    \n",
      "    \n",
      "    for source in sources:\n",
      "        ds9.dot(\"+\", source.getX()-Image.getX0()  , source.getY()-Image.getY0() , frame=frame, size = 25, ctype = ds9.RED)\n",
      "\n",
      "    \n",
      "    ds9.ds9Cmd('saveimage '+path)\n",
      "    print title\n",
      "    displayFigure(path)\n"
     ],
     "language": "python",
     "metadata": {},
     "outputs": [],
     "prompt_number": 2
    },
    {
     "cell_type": "code",
     "collapsed": false,
     "input": [
      "ScienceExposurePath = DATADIR+\"/output/coadd_r_dir/subtract/deepCoadd/r/1/33,15.fits\"\n",
      "ReferenceExposurePath = DATADIR+\"/output/coadd_r_dir/deepCoadd/r/1/33,15.fits\"\n",
      "SubtractionOutputPath = DATADIR+\"/output/subtracted-inter\"\n",
      "\n",
      "useGaussianForPreConvolution = True\n",
      "doPreConvolve = True\n",
      "#idFactory = afwTable.IdFactory.makeSource(expId, 64 - expBits)"
     ],
     "language": "python",
     "metadata": {},
     "outputs": [],
     "prompt_number": 4
    },
    {
     "cell_type": "code",
     "collapsed": false,
     "input": [
      "scienceExposure = afwImage.ExposureF(ScienceExposurePath)\n",
      "templateExposure = afwImage.ExposureF(ReferenceExposurePath)\n"
     ],
     "language": "python",
     "metadata": {},
     "outputs": [],
     "prompt_number": 6
    },
    {
     "cell_type": "code",
     "collapsed": false,
     "input": [
      "subtractedExposure = None\n",
      "subtractRes = None\n",
      "selectSources = None\n",
      "kernelSources = None\n",
      "controlSources = None\n",
      "diaSources = None"
     ],
     "language": "python",
     "metadata": {},
     "outputs": [],
     "prompt_number": 7
    },
    {
     "cell_type": "code",
     "collapsed": false,
     "input": [
      "sciencePsf = scienceExposure.getPsf()\n",
      "\n",
      "\n",
      "#emplateExposure = None  # Stitched coadd exposure\n",
      "templateSources = None   # Sources on the template image"
     ],
     "language": "python",
     "metadata": {},
     "outputs": [],
     "prompt_number": 8
    },
    {
     "cell_type": "code",
     "collapsed": false,
     "input": [
      "ctr = afwGeom.Box2D(scienceExposure.getBBox(afwImage.PARENT)).getCenter()\n",
      "psfAttr = PsfAttributes(sciencePsf, afwGeom.Point2I(ctr))\n",
      "scienceSigmaOrig = psfAttr.computeGaussianWidth(psfAttr.ADAPTIVE_MOMENT)\n",
      "\n",
      "# sigma of PSF of template image before warping\n",
      "ctr = afwGeom.Box2D(templateExposure.getBBox(afwImage.PARENT)).getCenter()\n",
      "psfAttr = PsfAttributes(templateExposure.getPsf(), afwGeom.Point2I(ctr))\n",
      "templateSigma = psfAttr.computeGaussianWidth(psfAttr.ADAPTIVE_MOMENT)"
     ],
     "language": "python",
     "metadata": {},
     "outputs": [],
     "prompt_number": 9
    },
    {
     "cell_type": "markdown",
     "metadata": {},
     "source": [
      "This part is the pre-filtering or pre-convolving of the image"
     ]
    },
    {
     "cell_type": "code",
     "collapsed": false,
     "input": [
      "convControl = afwMath.ConvolutionControl()\n",
      "                # cannot convolve in place, so make a new MI to receive convolved image\n",
      "        \n",
      "\n",
      "srcMI = scienceExposure.getMaskedImage()\n",
      "destMI = srcMI.Factory(srcMI.getDimensions())\n",
      "srcPsf = sciencePsf\n",
      "if useGaussianForPreConvolution:\n",
      "            # convolve with a simplified PSF model: a double Gaussian\n",
      "            kWidth, kHeight = sciencePsf.getLocalKernel().getDimensions()\n",
      "            preConvPsf = SingleGaussianPsf(kWidth, kHeight, scienceSigmaOrig)\n",
      "else:\n",
      "            # convolve with science exposure's PSF model\n",
      "            preConvPsf = psf\n",
      "afwMath.convolve(destMI, srcMI, preConvPsf.getLocalKernel(), convControl)\n",
      "scienceExposure.setMaskedImage(destMI)\n",
      "scienceSigmaPost = scienceSigmaOrig * math.sqrt(2)\n"
     ],
     "language": "python",
     "metadata": {},
     "outputs": [],
     "prompt_number": 10
    },
    {
     "cell_type": "markdown",
     "metadata": {},
     "source": [
      "Source selection part (just in case)."
     ]
    },
    {
     "cell_type": "code",
     "collapsed": false,
     "input": [
      "config = ipDiffim.ImagePsfMatchTask.ConfigClass()\n",
      "config.kernel.name = \"AL\"\n",
      "subconfig = config.kernel.active\n",
      "defFwhm         = None\n",
      "scienceFwhmPix = defFwhm\n",
      "templateFwhmPix = defFwhm\n",
      "psfmatch = ipDiffim.ImagePsfMatchTask(config)\n",
      "\n",
      "selectSources = psfmatch.getSelectSources(\n",
      "                        scienceExposure,\n",
      "                        sigma = scienceSigmaPost,\n",
      "                        doSmooth = not doPreConvolve,\n",
      "                        idFactory = None,)\n",
      "\n"
     ],
     "language": "python",
     "metadata": {},
     "outputs": [],
     "prompt_number": 12
    },
    {
     "cell_type": "code",
     "collapsed": false,
     "input": [
      "IDTask = ImageDifferencer.ImageDifferenceTask\n",
      "IDConfig = IDTask.ConfigClass()\n",
      "IDifTask = IDTask()\n",
      "IDifTask.__init__()\n",
      "#IDifTask.sourceSelector = IDifTask.config.sourceSelector.apply()\n",
      "#IDifTask.schema = afwTable.SourceTable.makeMinimalSchema()\n",
      "#IDifTask.algMetadata = dafBase.PropertyList()"
     ],
     "language": "python",
     "metadata": {},
     "outputs": [],
     "prompt_number": 49
    },
    {
     "cell_type": "code",
     "collapsed": false,
     "input": [
      "astrometer = measAstrom.Astrometry(measAstrom.MeasAstromConfig())\n",
      "astromRet = astrometer.useKnownWcs(selectSources, exposure=scienceExposure)\n",
      "matches = astromRet.matches\n",
      "\n",
      "for m in matches:\n",
      "   m??\n",
      "\n",
      "print m.first.getSchema().getNames()\n",
      "\n",
      "\n",
      "\n"
     ],
     "language": "python",
     "metadata": {},
     "outputs": [
      {
       "output_type": "stream",
       "stream": "stdout",
       "text": [
        "('coord', 'flux', 'flux.err', 'g', 'g.err', 'i', 'i.err', 'id', 'photometric', 'r', 'r.err', 'u', 'u.err', 'z', 'z.err')\n"
       ]
      }
     ],
     "prompt_number": 69
    },
    {
     "cell_type": "code",
     "collapsed": false,
     "input": [
      "kernelSources = IDifTask.sourceSelector.selectSources(scienceExposure, selectSources, matches=matches)\n",
      "\n",
      "\n",
      "random.shuffle(kernelSources, random.random)\n",
      "controlSources = kernelSources[::self.config.controlStepSize]\n",
      "kernelSources = [k for i,k in enumerate(kernelSources) if i % self.config.controlStepSize]"
     ],
     "language": "python",
     "metadata": {},
     "outputs": [
      {
       "ename": "KeyError",
       "evalue": "\"Field 'stargal' not found in Schema.\"",
       "output_type": "pyerr",
       "traceback": [
        "\u001b[1;31m---------------------------------------------------------------------------\u001b[0m\n\u001b[1;31mKeyError\u001b[0m                                  Traceback (most recent call last)",
        "\u001b[1;32m<ipython-input-52-4229f959a2ff>\u001b[0m in \u001b[0;36m<module>\u001b[1;34m()\u001b[0m\n\u001b[1;32m----> 1\u001b[1;33m \u001b[0mkernelSources\u001b[0m \u001b[1;33m=\u001b[0m \u001b[0mIDifTask\u001b[0m\u001b[1;33m.\u001b[0m\u001b[0msourceSelector\u001b[0m\u001b[1;33m.\u001b[0m\u001b[0mselectSources\u001b[0m\u001b[1;33m(\u001b[0m\u001b[0mscienceExposure\u001b[0m\u001b[1;33m,\u001b[0m \u001b[0mselectSources\u001b[0m\u001b[1;33m,\u001b[0m \u001b[0mmatches\u001b[0m\u001b[1;33m=\u001b[0m\u001b[0mmatches\u001b[0m\u001b[1;33m)\u001b[0m\u001b[1;33m\u001b[0m\u001b[0m\n\u001b[0m\u001b[0;32m      2\u001b[0m \u001b[1;33m\u001b[0m\u001b[0m\n\u001b[0;32m      3\u001b[0m \u001b[1;33m\u001b[0m\u001b[0m\n\u001b[0;32m      4\u001b[0m \u001b[0mrandom\u001b[0m\u001b[1;33m.\u001b[0m\u001b[0mshuffle\u001b[0m\u001b[1;33m(\u001b[0m\u001b[0mkernelSources\u001b[0m\u001b[1;33m,\u001b[0m \u001b[0mrandom\u001b[0m\u001b[1;33m.\u001b[0m\u001b[0mrandom\u001b[0m\u001b[1;33m)\u001b[0m\u001b[1;33m\u001b[0m\u001b[0m\n\u001b[0;32m      5\u001b[0m \u001b[0mcontrolSources\u001b[0m \u001b[1;33m=\u001b[0m \u001b[0mkernelSources\u001b[0m\u001b[1;33m[\u001b[0m\u001b[1;33m:\u001b[0m\u001b[1;33m:\u001b[0m\u001b[0mself\u001b[0m\u001b[1;33m.\u001b[0m\u001b[0mconfig\u001b[0m\u001b[1;33m.\u001b[0m\u001b[0mcontrolStepSize\u001b[0m\u001b[1;33m]\u001b[0m\u001b[1;33m\u001b[0m\u001b[0m\n",
        "\u001b[1;32m/renoir_data_00/jpreyes/stacks/v9_2_copy/Linux64/ip_diffim/9.2/python/lsst/ip/diffim/diaCatalogSourceSelector.pyc\u001b[0m in \u001b[0;36mselectSources\u001b[1;34m(self, exposure, sources, matches)\u001b[0m\n\u001b[0;32m    149\u001b[0m                     \u001b[0msymb\u001b[0m\u001b[1;33m,\u001b[0m \u001b[0mctype\u001b[0m \u001b[1;33m=\u001b[0m \u001b[1;34m\"+\"\u001b[0m\u001b[1;33m,\u001b[0m \u001b[0mds9\u001b[0m\u001b[1;33m.\u001b[0m\u001b[0mRED\u001b[0m\u001b[1;33m\u001b[0m\u001b[0m\n\u001b[0;32m    150\u001b[0m                 \u001b[1;32melse\u001b[0m\u001b[1;33m:\u001b[0m\u001b[1;33m\u001b[0m\u001b[0m\n\u001b[1;32m--> 151\u001b[1;33m                     \u001b[0misStar\u001b[0m \u001b[1;33m=\u001b[0m \u001b[0mref\u001b[0m\u001b[1;33m.\u001b[0m\u001b[0mget\u001b[0m\u001b[1;33m(\u001b[0m\u001b[1;34m\"stargal\"\u001b[0m\u001b[1;33m)\u001b[0m\u001b[1;33m\u001b[0m\u001b[0m\n\u001b[0m\u001b[0;32m    152\u001b[0m                     \u001b[0misVar\u001b[0m \u001b[1;33m=\u001b[0m \u001b[1;32mnot\u001b[0m \u001b[0mref\u001b[0m\u001b[1;33m.\u001b[0m\u001b[0mget\u001b[0m\u001b[1;33m(\u001b[0m\u001b[1;34m\"photometric\"\u001b[0m\u001b[1;33m)\u001b[0m\u001b[1;33m\u001b[0m\u001b[0m\n\u001b[0;32m    153\u001b[0m                     \u001b[0mgMag\u001b[0m \u001b[1;33m=\u001b[0m \u001b[0mNone\u001b[0m\u001b[1;33m\u001b[0m\u001b[0m\n",
        "\u001b[1;32m/renoir_data_00/jpreyes/stacks/v9_2_copy/Linux64/afw/9.2/python/lsst/afw/table/tableLib.pyc\u001b[0m in \u001b[0;36mget\u001b[1;34m(self, key)\u001b[0m\n\u001b[0;32m   2655\u001b[0m     \u001b[1;32mdef\u001b[0m \u001b[0mget\u001b[0m\u001b[1;33m(\u001b[0m\u001b[0mself\u001b[0m\u001b[1;33m,\u001b[0m \u001b[0mkey\u001b[0m\u001b[1;33m)\u001b[0m\u001b[1;33m:\u001b[0m\u001b[1;33m\u001b[0m\u001b[0m\n\u001b[0;32m   2656\u001b[0m         \u001b[1;32mif\u001b[0m \u001b[0misinstance\u001b[0m\u001b[1;33m(\u001b[0m\u001b[0mkey\u001b[0m\u001b[1;33m,\u001b[0m \u001b[0mbasestring\u001b[0m\u001b[1;33m)\u001b[0m\u001b[1;33m:\u001b[0m\u001b[1;33m\u001b[0m\u001b[0m\n\u001b[1;32m-> 2657\u001b[1;33m             \u001b[1;32mreturn\u001b[0m \u001b[0mself\u001b[0m\u001b[1;33m.\u001b[0m\u001b[0mget\u001b[0m\u001b[1;33m(\u001b[0m\u001b[0mself\u001b[0m\u001b[1;33m.\u001b[0m\u001b[0mschema\u001b[0m\u001b[1;33m.\u001b[0m\u001b[0mfind\u001b[0m\u001b[1;33m(\u001b[0m\u001b[0mkey\u001b[0m\u001b[1;33m)\u001b[0m\u001b[1;33m.\u001b[0m\u001b[0mkey\u001b[0m\u001b[1;33m)\u001b[0m\u001b[1;33m\u001b[0m\u001b[0m\n\u001b[0m\u001b[0;32m   2658\u001b[0m         \u001b[1;32mtry\u001b[0m\u001b[1;33m:\u001b[0m\u001b[1;33m\u001b[0m\u001b[0m\n\u001b[0;32m   2659\u001b[0m             \u001b[1;32mreturn\u001b[0m \u001b[0m_tableLib\u001b[0m\u001b[1;33m.\u001b[0m\u001b[0mBaseRecord_get\u001b[0m\u001b[1;33m(\u001b[0m\u001b[0mself\u001b[0m\u001b[1;33m,\u001b[0m \u001b[0mkey\u001b[0m\u001b[1;33m)\u001b[0m\u001b[1;33m\u001b[0m\u001b[0m\n",
        "\u001b[1;32m/renoir_data_00/jpreyes/stacks/v9_2_copy/Linux64/afw/9.2/python/lsst/afw/table/tableLib.pyc\u001b[0m in \u001b[0;36mfind\u001b[1;34m(self, k)\u001b[0m\n\u001b[0;32m   1020\u001b[0m              \u001b[1;32mexcept\u001b[0m \u001b[0mException\u001b[0m\u001b[1;33m:\u001b[0m\u001b[1;33m\u001b[0m\u001b[0m\n\u001b[0;32m   1021\u001b[0m                  \u001b[1;32mpass\u001b[0m\u001b[1;33m\u001b[0m\u001b[0m\n\u001b[1;32m-> 1022\u001b[1;33m         \u001b[1;32mraise\u001b[0m \u001b[0mKeyError\u001b[0m\u001b[1;33m(\u001b[0m\u001b[1;34m\"Field '%s' not found in Schema.\"\u001b[0m \u001b[1;33m%\u001b[0m \u001b[0mk\u001b[0m\u001b[1;33m)\u001b[0m\u001b[1;33m\u001b[0m\u001b[0m\n\u001b[0m\u001b[0;32m   1023\u001b[0m \u001b[1;33m\u001b[0m\u001b[0m\n\u001b[0;32m   1024\u001b[0m     \u001b[1;32mdef\u001b[0m \u001b[0maddField\u001b[0m\u001b[1;33m(\u001b[0m\u001b[0mself\u001b[0m\u001b[1;33m,\u001b[0m \u001b[0mfield\u001b[0m\u001b[1;33m,\u001b[0m \u001b[0mtype\u001b[0m\u001b[1;33m=\u001b[0m\u001b[0mNone\u001b[0m\u001b[1;33m,\u001b[0m \u001b[0mdoc\u001b[0m\u001b[1;33m=\u001b[0m\u001b[1;34m\"\"\u001b[0m\u001b[1;33m,\u001b[0m \u001b[0munits\u001b[0m\u001b[1;33m=\u001b[0m\u001b[1;34m\"\"\u001b[0m\u001b[1;33m,\u001b[0m \u001b[0msize\u001b[0m\u001b[1;33m=\u001b[0m\u001b[0mNone\u001b[0m\u001b[1;33m,\u001b[0m \u001b[0mdoReplace\u001b[0m\u001b[1;33m=\u001b[0m\u001b[0mFalse\u001b[0m\u001b[1;33m)\u001b[0m\u001b[1;33m:\u001b[0m\u001b[1;33m\u001b[0m\u001b[0m\n",
        "\u001b[1;31mKeyError\u001b[0m: \"Field 'stargal' not found in Schema.\""
       ]
      }
     ],
     "prompt_number": 52
    },
    {
     "cell_type": "code",
     "collapsed": false,
     "input": [
      "allresids = {}\n",
      "templateSources = self.subtract.getSelectSources(\n",
      "                        templateExposure,\n",
      "                        sigma=templateSigma,\n",
      "                        doSmooth=True,\n",
      "                        idFactory=idFactory)\n",
      "\n"
     ],
     "language": "python",
     "metadata": {},
     "outputs": []
    },
    {
     "cell_type": "code",
     "collapsed": false,
     "input": [
      "wcsResults = self.fitAstrometry(templateSources, templateExposure, selectSources)\n",
      "warpedExp = self.register.warpExposure(templateExposure, wcsResults.wcs, exposure.getWcs(), exposure.getBBox(afwImage.PARENT))\n",
      "templateExposure = warpedExp\n"
     ],
     "language": "python",
     "metadata": {},
     "outputs": []
    },
    {
     "cell_type": "code",
     "collapsed": false,
     "input": [
      "#Here data crunching\n",
      "srcToMatch = {x.second.getId() : x.first for x in matches}\n",
      "\n",
      "refCoordKey = wcsResults.matches[0].first.getTable().getCoordKey()\n",
      "inCentroidKey = wcsResults.matches[0].second.getTable().getCentroidKey()\n",
      "sids      = [m.first.getId() for m in wcsResults.matches]\n",
      "positions = [m.first.get(refCoordKey) for m in wcsResults.matches]\n",
      "residuals = [m.first.get(refCoordKey).getOffsetFrom(wcsResults.wcs.pixelToSky(m.second.get(inCentroidKey))) for m in wcsResults.matches]\n",
      "allresids = dict(zip(sids, zip(positions, residuals)))\n",
      "\n",
      "cresiduals = [m.first.get(refCoordKey).getTangentPlaneOffset(wcsResults.wcs.pixelToSky(m.second.get(inCentroidKey))) for m in wcsResults.matches]\n",
      "colors    = numpy.array([-2.5*numpy.log10(srcToMatch[x].get(\"g\")) + 2.5*numpy.log10(srcToMatch[x].get(\"r\")) for x in sids if x in srcToMatch.keys()])\n",
      "dlong     = numpy.array([r[0].asArcseconds() for s,r in zip(sids, cresiduals)  if s in srcToMatch.keys()])\n",
      "dlat      = numpy.array([r[1].asArcseconds() for s,r in zip(sids, cresiduals) if s in srcToMatch.keys()])\n",
      "idx1      = numpy.where(colors<self.sourceSelector.config.grMin)\n",
      "idx2      = numpy.where((colors>=self.sourceSelector.config.grMin)&(colors<=self.sourceSelector.config.grMax))\n",
      "idx3      = numpy.where(colors>self.sourceSelector.config.grMax)\n",
      "rms1Long  = IqrToSigma*(numpy.percentile(dlong[idx1],75)-numpy.percentile(dlong[idx1],25))\n",
      "rms1Lat   = IqrToSigma*(numpy.percentile(dlat[idx1],75)-numpy.percentile(dlat[idx1],25))\n",
      "rms2Long  = IqrToSigma*(numpy.percentile(dlong[idx2],75)-numpy.percentile(dlong[idx2],25))\n",
      "rms2Lat   = IqrToSigma*(numpy.percentile(dlat[idx2],75)-numpy.percentile(dlat[idx2],25))\n",
      "rms3Long  = IqrToSigma*(numpy.percentile(dlong[idx3],75)-numpy.percentile(dlong[idx3],25))\n",
      "rms3Lat   = IqrToSigma*(numpy.percentile(dlat[idx3],75)-numpy.percentile(dlat[idx3],25))\n",
      "print(\"Blue star offsets'': %.3f %.3f, %.3f %.3f\"  % (numpy.median(dlong[idx1]),rms1Long,numpy.median(dlat[idx1]),rms1Lat))\n",
      "print(\"Green star offsets'': %.3f %.3f, %.3f %.3f\"  % (numpy.median(dlong[idx2]),rms2Long,numpy.median(dlat[idx2]), rms2Lat))\n",
      "print(\"Red star offsets'': %.3f %.3f, %.3f %.3f\"  % (numpy.median(dlong[idx3]),rms3Long,numpy.median(dlat[idx3]),rms3Lat))\n",
      "\n",
      "print(\"RegisterBlueLongOffsetMedian\", numpy.median(dlong[idx1]))\n",
      "print(\"RegisterGreenLongOffsetMedian\", numpy.median(dlong[idx2]))\n",
      "print(\"RegisterRedLongOffsetMedian\", numpy.median(dlong[idx3]))\n",
      "print(\"RegisterBlueLongOffsetStd\", rms1Long)\n",
      "print(\"RegisterGreenLongOffsetStd\", rms2Long)\n",
      "print(\"RegisterRedLongOffsetStd\", rms3Long)\n",
      "\n",
      "print(\"RegisterBlueLatOffsetMedian\", numpy.median(dlat[idx1]))\n",
      "print(\"RegisterGreenLatOffsetMedian\", numpy.median(dlat[idx2]))\n",
      "print(\"RegisterRedLatOffsetMedian\", numpy.median(dlat[idx3]))\n",
      "print(\"RegisterBlueLatOffsetStd\", rms1Lat)\n",
      "print(\"RegisterGreenLatOffsetStd\", rms2Lat)\n",
      "print(\"RegisterRedLatOffsetStd\", rms3Lat)"
     ],
     "language": "python",
     "metadata": {},
     "outputs": []
    },
    {
     "cell_type": "code",
     "collapsed": false,
     "input": [
      "subtractRes = self.subtract.subtractExposures(\n",
      "                templateExposure=templateExposure,\n",
      "                scienceExposure=exposure,\n",
      "                scienceFwhmPix=scienceSigmaPost * FwhmPerSigma,\n",
      "                templateFwhmPix=templateSigma * FwhmPerSigma,\n",
      "                candidateList=kernelSources,\n",
      "                convolveTemplate=self.config.convolveTemplate,\n",
      "                doWarping=not self.config.doUseRegister\n",
      "            )\n",
      "            subtractedExposure = subtractRes.subtractedExposure\n"
     ],
     "language": "python",
     "metadata": {},
     "outputs": []
    },
    {
     "cell_type": "code",
     "collapsed": false,
     "input": [
      "subtractedExposure.setPsf(exposure.getPsf())\n"
     ],
     "language": "python",
     "metadata": {},
     "outputs": []
    },
    {
     "cell_type": "code",
     "collapsed": false,
     "input": [
      "mask  = subtractedExposure.getMaskedImage().getMask()\n",
      "mask &= ~(mask.getPlaneBitMask(\"DETECTED\") | mask.getPlaneBitMask(\"DETECTED_NEGATIVE\"))\n",
      "\n",
      "table = afwTable.SourceTable.make(self.schema, idFactory)\n",
      "table.setMetadata(self.algMetadata)\n",
      "results = self.detection.makeSourceCatalog(\n",
      "                table=table,\n",
      "                exposure=subtractedExposure,\n",
      "                doSmooth=not self.config.doPreConvolve\n",
      "                )\n"
     ],
     "language": "python",
     "metadata": {},
     "outputs": []
    },
    {
     "cell_type": "code",
     "collapsed": false,
     "input": [
      "#Detection Merging\n",
      "\n",
      "fpSet = results.fpSets.positive\n",
      "fpSet.merge(results.fpSets.negative, self.config.growFootprint, self.config.growFootprint, False)\n",
      "diaSources = afwTable.SourceCatalog(table)\n",
      "fpSet.makeSources(diaSources)\n"
     ],
     "language": "python",
     "metadata": {},
     "outputs": []
    },
    {
     "cell_type": "code",
     "collapsed": false,
     "input": [
      "#Source Measurement\n",
      "    if len(diaSources) < self.config.maxDiaSourcesToMeasure:\n",
      "             self.dipoleMeasurement.run(subtractedExposure, diaSources)\n",
      "    else:\n",
      "             self.measurement.run(subtractedExposure, diaSources)"
     ],
     "language": "python",
     "metadata": {},
     "outputs": []
    },
    {
     "cell_type": "code",
     "collapsed": false,
     "input": [
      "    if self.config.doMatchSources:\n",
      "            if sensorRef.datasetExists(\"src\"):\n",
      " \n",
      "                    matchRadAsec = self.config.diaSourceMatchRadius\n",
      "                    matchRadPixel = matchRadAsec / exposure.getWcs().pixelScale().asArcseconds()\n",
      "\n",
      "                    srcMatches = afwTable.matchXy(sensorRef.get(\"src\"), diaSources, matchRadPixel, True)\n",
      "                    srcMatchDict = dict([(srcMatch.second.getId(), srcMatch.first.getId()) for \n",
      "                                         srcMatch in srcMatches])\n",
      "                    \n",
      "            else:\n",
      "                    self.log.warn(\"Src product does not exist; cannot match with diaSources\")\n",
      "                    srcMatchDict = {}\n",
      "\n",
      " "
     ],
     "language": "python",
     "metadata": {},
     "outputs": []
    },
    {
     "cell_type": "code",
     "collapsed": false,
     "input": [
      "               \n",
      "astrometer = measAstrom.Astrometry(measAstrom.MeasAstromConfig(catalogMatchDist=matchRadAsec))\n",
      "astromRet = astrometer.useKnownWcs(diaSources, exposure=exposure)\n",
      "refMatches = astromRet.matches\n",
      "\n",
      "if refMatches is None:\n",
      "        print(\"No diaSource matches with reference catalog\")\n",
      "        refMatchDict = {}\n",
      "else:\n",
      "        prinbt(\"Matched %d / %d diaSources to reference catalog\" % (len(refMatches), len(diaSources)))\n",
      "        refMatchDict = dict([(refMatch.second.getId(), refMatch.first.getId()) for refMatch in refMatches])"
     ],
     "language": "python",
     "metadata": {},
     "outputs": []
    },
    {
     "cell_type": "code",
     "collapsed": false,
     "input": [
      "# Assign source Ids\n",
      "for diaSource in diaSources:\n",
      "    sid = diaSource.getId()\n",
      "    if srcMatchDict.has_key(sid):\n",
      "       diaSource.set(\"srcMatchId\", srcMatchDict[sid])\n",
      "    if refMatchDict.has_key(sid):\n",
      "       diaSource.set(\"refMatchId\", refMatchDict[sid])"
     ],
     "language": "python",
     "metadata": {},
     "outputs": []
    },
    {
     "cell_type": "code",
     "collapsed": false,
     "input": [
      "if diaSources is not None and self.config.doWriteSources:\n",
      "                #sensorRef.put(diaSources, self.config.coaddName + \"Diff_diaSrc\")\n",
      "\n",
      "    if self.config.doAddMetrics and self.config.doSelectSources:\n",
      "        print(\"Evaluating metrics and control sample\")\n",
      "        kernelCandList = []\n",
      "        for cell in subtractRes.kernelCellSet.getCellList():\n",
      "                for cand in cell.begin(False): # include bad candidates\n",
      "                    kernelCandList.append(cast_KernelCandidateF(cand))\n",
      "\n",
      "                # Get basis list to build control sample kernels\n",
      "                basisList = afwMath.cast_LinearCombinationKernel(kernelCandList[0].getKernel(KernelCandidateF.ORIG)).getKernelList()\n",
      "\n",
      "                controlCandList = diffimTools.sourceTableToCandidateList(controlSources, \n",
      "                                                           subtractRes.warpedExposure, exposure,\n",
      "                                                           self.config.subtract.kernel.active,\n",
      "                                                           self.config.subtract.kernel.active.detectionConfig,\n",
      "                                                           self.log, doBuild=True, basisList=basisList)\n",
      "\n",
      "           "
     ],
     "language": "python",
     "metadata": {},
     "outputs": []
    },
    {
     "cell_type": "code",
     "collapsed": false,
     "input": [
      "return pipeBase.Struct(\n",
      "            subtractedExposure=subtractedExposure,\n",
      "            subtractRes=subtractRes,\n",
      "            sources=diaSources,\n",
      "        )"
     ],
     "language": "python",
     "metadata": {},
     "outputs": []
    }
   ],
   "metadata": {}
  }
 ]
}