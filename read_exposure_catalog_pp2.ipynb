{
 "cells": [
  {
   "cell_type": "code",
   "execution_count": 1,
   "metadata": {
    "collapsed": false
   },
   "outputs": [],
   "source": [
    "# to read exposure cat from FITS\n",
    "#version with the creation of lists, 5 x faster than with simuCat records\n",
    "# as of 2016-10-11 18:44:48\n",
    "\n",
    "import matplotlib\n",
    "import matplotlib.pylab as plt"
   ]
  },
  {
   "cell_type": "code",
   "execution_count": 2,
   "metadata": {
    "collapsed": false
   },
   "outputs": [],
   "source": [
    "from lsst.meas.astrom import astrometry\n",
    "import lsst.daf.persistence as dafPersist\n",
    "import lsst.afw.geom as afwGeom\n",
    "import lsst.afw.coord as afwCoord\n",
    "import lsst.afw.cameraGeom as cg\n",
    "import lsst.afw.table as afwTable\n",
    "import lsst.afw.image as afwImage\n",
    "import numpy as np\n",
    "import math\n",
    "import cPickle as pickle\n",
    "from astropy.io import fits\n",
    "import random\n",
    "import datetime\n",
    "import starobs as so"
   ]
  },
  {
   "cell_type": "code",
   "execution_count": 3,
   "metadata": {
    "collapsed": false
   },
   "outputs": [
    {
     "name": "stdout",
     "output_type": "stream",
     "text": [
      "[3.710000000000008, 3.0] [0.3091666666666673, 0.25]\n",
      "nStar =  7395\n"
     ]
    }
   ],
   "source": [
    "# To simulate a square scan over a 3d x 3d field, each exp. 1d x 1d, displaced by 15' (1/4 d)\n",
    "# We get in total 64 exp., we write a FITS catalog with coord(RA, dec), mag\n",
    "def magfromflux(flux,ZP):\n",
    "    return -2.5*math.log(flux, 10.) + ZP\n",
    "def fluxfrommag(mag,ZP):\n",
    "    return math.pow(10., -0.4*(mag - ZP))\n",
    "def emagfromflux(flux,eflux):\n",
    "    return 2.5*(eflux/flux)/math.log(10.)\n",
    "\n",
    "itime = datetime.datetime.now()\n",
    "raLim = [163., 166.71]; decLim = [34.5, 37.5];# Limits of field read in SDSS database\n",
    "fieldSize = [raLim[1] - raLim[0], decLim[1] - decLim[0]]\n",
    "expSize = [fieldSize[0]/3., fieldSize[1]/3.]\n",
    "scan = [expSize[0]/4., expSize[1]/4.]\n",
    "print fieldSize, scan\n",
    "# name of exposure catalogue     \n",
    "sra = '%04d' % (raLim[0]*10.)\n",
    "sdec = '%04d' % (decLim[0]*10.)\n",
    "# to read SDSS catalog\n",
    "# name of SDSS catalogue     \n",
    "#catName = 'sdss17' + sra + '_' + sdec + '.fit' # short catalog for tests \n",
    "catName = 'sdss' + sra + '_' + sdec + '.fit' \n",
    "sdssCat = afwTable.SourceCatalog.readFits(catName)\n",
    "nStar = len(sdssCat); print 'nStar = ', nStar\n",
    "random.seed(0) # to get always the same result\n",
    "NPE17 = 194863.\n",
    "NPEsky = 20200.\n",
    "ZP = 17. + 2.5*math.log(NPE17, 10.)\n",
    "lc = [[] for x in xrange(nStar)]\n",
    "# to put indexes on exposure catalogue names \n",
    "# The model is 1 night = 8 exposures at a given dec, 8 different RA and xmass \n",
    "# fluxes are in PE\n",
    "x = [1.1, 1.2, 1.3, 1.4, 1.5, 1.6, 1.7, 1.8]\n",
    "# a different k each night\n",
    "k = [0.1, 0.12, 0.11, 0.14, 0.09, 0.08, 0.1, 0.07]\n",
    "#ik = [0,1,2,3,4,5,6,7]\n",
    "ik = [0,0,1,1,2,2,3,3]\n",
    "# 2 different a for 5 and 3 nights\n",
    "a = [-0.1, -0.25]\n",
    "ia = [0,0,0,0,0,1,1,1]\n",
    "nNight = len(k); nExp = len(x)"
   ]
  },
  {
   "cell_type": "code",
   "execution_count": 9,
   "metadata": {
    "collapsed": false
   },
   "outputs": [
    {
     "name": "stdout",
     "output_type": "stream",
     "text": [
      "sdss1630_0345_007_000 884 2016-10-13 17:43:45.157462\n",
      "sdss1630_0345_007_001 803 2016-10-13 17:43:45.417935\n",
      "sdss1630_0345_007_002 761 2016-10-13 17:43:45.616358\n",
      "sdss1630_0345_007_003 780 2016-10-13 17:43:45.819877\n",
      "sdss1630_0345_007_004 788 2016-10-13 17:43:46.019280\n",
      "sdss1630_0345_007_005 791 2016-10-13 17:43:46.219672\n",
      "sdss1630_0345_007_006 822 2016-10-13 17:43:46.419736\n",
      "sdss1630_0345_007_007 853 2016-10-13 17:43:46.620236\n"
     ]
    }
   ],
   "source": [
    "# !! the non parallel cell !! SKIP if parallel test\n",
    "\n",
    "for idec in xrange(nNight) :\n",
    "    for ira in xrange(nExp) :\n",
    "# Catalogue file name\n",
    "        catName = 'sdss' + sra + '_' + sdec + '_' + '%03d' % ira + '_' + '%03d' % idec\n",
    "        expCat = afwTable.SourceCatalog.readFits(catName)\n",
    "# Here match with sdssCat to get a unique star nr\n",
    "        match = afwTable.matchRaDec(sdssCat, expCat, afwGeom.Angle(1./3600., afwGeom.degrees))\n",
    "# Then loop over the match to fill light curve (lc)\n",
    "        imax = 0\n",
    "        for m in match :\n",
    "            if imax>10:\n",
    "                break\n",
    "            imax = imax+1        \n",
    "            istar  = m.first.get('id') - 1\n",
    "#            record = simuCat.makeRecord()\n",
    "            flux_r0 = m.second.get('flux_r')\n",
    "            errFlux_r0 = m.second.get('errFlux_r')\n",
    "# calculate the simulated signal and noise => mag and errMag\n",
    "            u = magfromflux(flux_r0, ZP) - a[ia[idec]] + k[ik[idec]]*x[ira]\n",
    "# error must be calculated for the effective nb PE count\n",
    "            flux_r = fluxfrommag(u, ZP)\n",
    "            errFlux_r = math.sqrt(flux_r + NPEsky)# test to reduce error bar\n",
    "            flux_r = flux_r + random.gauss(0., errFlux_r)\n",
    "# recalculate errFlux_r here !!!\n",
    "            errFlux_r = math.sqrt(flux_r + NPEsky)# test to reduce error bar\n",
    "            u = magfromflux(flux_r, ZP)\n",
    "            eu = emagfromflux(flux_r, errFlux_r)\n",
    "            obs = so.StarObs(math.pow(eu, -2.), u, idec, ira)\n",
    "            lc[istar].append(obs)\n",
    "    print catName, len(match), datetime.datetime.now()"
   ]
  },
  {
   "cell_type": "code",
   "execution_count": 4,
   "metadata": {
    "collapsed": false
   },
   "outputs": [
    {
     "name": "stdout",
     "output_type": "stream",
     "text": [
      "[(0, 0), (0, 1), (0, 2), (0, 3), (0, 4), (0, 5), (0, 6), (0, 7), (1, 0), (1, 1), (1, 2), (1, 3), (1, 4), (1, 5), (1, 6), (1, 7), (2, 0), (2, 1), (2, 2), (2, 3), (2, 4), (2, 5), (2, 6), (2, 7), (3, 0), (3, 1), (3, 2), (3, 3), (3, 4), (3, 5), (3, 6), (3, 7), (4, 0), (4, 1), (4, 2), (4, 3), (4, 4), (4, 5), (4, 6), (4, 7), (5, 0), (5, 1), (5, 2), (5, 3), (5, 4), (5, 5), (5, 6), (5, 7), (6, 0), (6, 1), (6, 2), (6, 3), (6, 4), (6, 5), (6, 6), (6, 7), (7, 0), (7, 1), (7, 2), (7, 3), (7, 4), (7, 5), (7, 6), (7, 7)]\n"
     ]
    }
   ],
   "source": [
    "# ! start here for parallel processing !\n",
    "\n",
    "random.seed(0) # to get always the same result\n",
    "\n",
    "def oneexp((ira,idec)):\n",
    "    import lsst.afw.table as afwTable\n",
    "    import lsst.afw.geom as afwGeom\n",
    "    import lsst.afw.coord as afwCoord\n",
    "    import numpy as np\n",
    "    import math\n",
    "    import cPickle as pickle\n",
    "    from astropy.io import fits\n",
    "    import random\n",
    "    import datetime\n",
    "    import starobs as so\n",
    "    def magfromflux(flux,ZP):\n",
    "        return -2.5*math.log(flux, 10.) + ZP\n",
    "    def fluxfrommag(mag,ZP):\n",
    "        return math.pow(10., -0.4*(mag - ZP))\n",
    "    def emagfromflux(flux,eflux):\n",
    "        return 2.5*(eflux/flux)/math.log(10.)\n",
    "    itime = datetime.datetime.now()\n",
    "    raLim = [163., 166.71]; decLim = [34.5, 37.5];# Limits of field read in SDSS database\n",
    "    fieldSize = [raLim[1] - raLim[0], decLim[1] - decLim[0]]\n",
    "    expSize = [fieldSize[0]/3., fieldSize[1]/3.]\n",
    "    scan = [expSize[0]/4., expSize[1]/4.]\n",
    "    print fieldSize, scan\n",
    "# name of exposure catalogue     \n",
    "    sra = '%04d' % (raLim[0]*10.)\n",
    "    sdec = '%04d' % (decLim[0]*10.)\n",
    "# to read SDSS catalog\n",
    "# name of SDSS catalogue     \n",
    "#catName = 'sdss17' + sra + '_' + sdec + '.fit' # short catalog for tests \n",
    "    pathname = '/renoir/fouchez/PROJECT/lsst/DM/notebooks/fabrice/notebooks/'\n",
    "    catName = pathname + 'sdss' + sra + '_' + sdec + '.fit' \n",
    "    sdssCat = afwTable.SourceCatalog.readFits(catName)\n",
    "    nStar = len(sdssCat); print 'nStar = ', nStar\n",
    "    #random.seed(0) # to get always the same result\n",
    "    NPE17 = 194863.\n",
    "    NPEsky = 20200.\n",
    "    ZP = 17. + 2.5*math.log(NPE17, 10.)\n",
    "    lc = [[] for x in xrange(nStar)]\n",
    "# to put indexes on exposure catalogue names \n",
    "# The model is 1 night = 8 exposures at a given dec, 8 different RA and xmass \n",
    "# fluxes are in PE\n",
    "    x = [1.1, 1.2, 1.3, 1.4, 1.5, 1.6, 1.7, 1.8]\n",
    "# a different k each night\n",
    "    k = [0.1, 0.12, 0.11, 0.14, 0.09, 0.08, 0.1, 0.07]\n",
    "#ik = [0,1,2,3,4,5,6,7]\n",
    "    ik = [0,0,1,1,2,2,3,3]\n",
    "# 2 different a for 5 and 3 nights\n",
    "    a = [-0.1, -0.25]\n",
    "    ia = [0,0,0,0,0,1,1,1]\n",
    "    nNight = len(k); nExp = len(x)\n",
    "# Catalogue file name\n",
    "    catName = pathname + 'sdss' + sra + '_' + sdec + '_' + '%03d' % ira + '_' + '%03d' % idec\n",
    "    expCat = afwTable.SourceCatalog.readFits(catName)\n",
    "# Here match with sdssCat to get a unique star nr\n",
    "    match = afwTable.matchRaDec(sdssCat, expCat, afwGeom.Angle(1./3600., afwGeom.degrees))\n",
    "# Then loop over the match to fill light curve (lc)\n",
    "    for m in match :\n",
    "        istar  = m.first.get('id') - 1\n",
    "#            record = simuCat.makeRecord()\n",
    "        flux_r0 = m.second.get('flux_r')\n",
    "        errFlux_r0 = m.second.get('errFlux_r')\n",
    "# calculate the simulated signal and noise => mag and errMag\n",
    "        u = magfromflux(flux_r0, ZP) - a[ia[idec]] + k[ik[idec]]*x[ira]\n",
    "# error must be calculated for the effective nb PE count\n",
    "        flux_r = fluxfrommag(u, ZP)\n",
    "        errFlux_r = math.sqrt(flux_r + NPEsky)# test to reduce error bar\n",
    "        flux_r = flux_r + random.gauss(0., errFlux_r)\n",
    "# recalculate errFlux_r here !!!\n",
    "        errFlux_r = math.sqrt(flux_r + NPEsky)# test to reduce error bar\n",
    "        u = magfromflux(flux_r, ZP)\n",
    "        eu = emagfromflux(flux_r, errFlux_r)\n",
    "        obs = so.StarObs(math.pow(eu, -2.), u, idec, ira)\n",
    "        lc[istar].append(obs)\n",
    "#    print catName, len(match), datetime.datetime.now() \n",
    "    return lc\n",
    "    \n",
    "#nNight = 8; nExp = 8\n",
    "expo=[]\n",
    "for idec in xrange(nNight) :\n",
    "    for ira in xrange(nExp) :\n",
    "        expo.append((idec,ira))\n",
    "        \n",
    "print expo        \n"
   ]
  },
  {
   "cell_type": "code",
   "execution_count": 5,
   "metadata": {
    "collapsed": false
   },
   "outputs": [
    {
     "data": {
      "text/plain": [
       "[0,\n",
       " 1,\n",
       " 2,\n",
       " 3,\n",
       " 4,\n",
       " 5,\n",
       " 6,\n",
       " 7,\n",
       " 8,\n",
       " 9,\n",
       " 10,\n",
       " 11,\n",
       " 12,\n",
       " 13,\n",
       " 14,\n",
       " 15,\n",
       " 16,\n",
       " 17,\n",
       " 18,\n",
       " 19,\n",
       " 20,\n",
       " 21,\n",
       " 22,\n",
       " 23,\n",
       " 24,\n",
       " 25,\n",
       " 26,\n",
       " 27,\n",
       " 28,\n",
       " 29,\n",
       " 30,\n",
       " 31]"
      ]
     },
     "execution_count": 5,
     "metadata": {},
     "output_type": "execute_result"
    }
   ],
   "source": [
    "import ipyparallel as ipp\n",
    "c = ipp.Client()\n",
    "v = c[:]\n",
    "c.ids\n"
   ]
  },
  {
   "cell_type": "code",
   "execution_count": 7,
   "metadata": {
    "collapsed": false
   },
   "outputs": [
    {
     "name": "stdout",
     "output_type": "stream",
     "text": [
      "[3.710000000000008, 3.0] [0.3091666666666673, 0.25]\n",
      "nStar =  7395\n",
      "[3.710000000000008, 3.0] [0.3091666666666673, 0.25]\n",
      "nStar =  7395\n",
      "[3.710000000000008, 3.0] [0.3091666666666673, 0.25]\n",
      "nStar =  7395\n",
      "[3.710000000000008, 3.0] [0.3091666666666673, 0.25]\n",
      "nStar =  7395\n",
      "[3.710000000000008, 3.0] [0.3091666666666673, 0.25]\n",
      "nStar =  7395\n",
      "[3.710000000000008, 3.0] [0.3091666666666673, 0.25]\n",
      "nStar =  7395\n",
      "[3.710000000000008, 3.0] [0.3091666666666673, 0.25]\n",
      "nStar =  7395\n",
      "[3.710000000000008, 3.0] [0.3091666666666673, 0.25]\n",
      "nStar =  7395\n",
      "[3.710000000000008, 3.0] [0.3091666666666673, 0.25]\n",
      "nStar =  7395\n",
      "[3.710000000000008, 3.0] [0.3091666666666673, 0.25]\n",
      "nStar =  7395\n",
      "[3.710000000000008, 3.0] [0.3091666666666673, 0.25]\n",
      "nStar =  7395\n",
      "[3.710000000000008, 3.0] [0.3091666666666673, 0.25]\n",
      "nStar =  7395\n",
      "[3.710000000000008, 3.0] [0.3091666666666673, 0.25]\n",
      "nStar =  7395\n",
      "[3.710000000000008, 3.0] [0.3091666666666673, 0.25]\n",
      "nStar =  7395\n",
      "[3.710000000000008, 3.0] [0.3091666666666673, 0.25]\n",
      "nStar =  7395\n",
      "[3.710000000000008, 3.0] [0.3091666666666673, 0.25]\n",
      "nStar =  7395\n",
      "[3.710000000000008, 3.0] [0.3091666666666673, 0.25]\n",
      "nStar =  7395\n",
      "[3.710000000000008, 3.0] [0.3091666666666673, 0.25]\n",
      "nStar =  7395\n",
      "[3.710000000000008, 3.0] [0.3091666666666673, 0.25]\n",
      "nStar =  7395\n",
      "[3.710000000000008, 3.0] [0.3091666666666673, 0.25]\n",
      "nStar =  7395\n",
      "[3.710000000000008, 3.0] [0.3091666666666673, 0.25]\n",
      "nStar =  7395\n",
      "[3.710000000000008, 3.0] [0.3091666666666673, 0.25]\n",
      "nStar =  7395\n",
      "[3.710000000000008, 3.0] [0.3091666666666673, 0.25]\n",
      "nStar =  7395\n",
      "[3.710000000000008, 3.0] [0.3091666666666673, 0.25]\n",
      "nStar =  7395\n",
      "[3.710000000000008, 3.0] [0.3091666666666673, 0.25]\n",
      "nStar =  7395\n",
      "[3.710000000000008, 3.0] [0.3091666666666673, 0.25]\n",
      "nStar =  7395\n",
      "[3.710000000000008, 3.0] [0.3091666666666673, 0.25]\n",
      "nStar =  7395\n",
      "[3.710000000000008, 3.0] [0.3091666666666673, 0.25]\n",
      "nStar =  7395\n",
      "[3.710000000000008, 3.0] [0.3091666666666673, 0.25]\n",
      "nStar =  7395\n",
      "[3.710000000000008, 3.0] [0.3091666666666673, 0.25]\n",
      "nStar =  7395\n",
      "[3.710000000000008, 3.0] [0.3091666666666673, 0.25]\n",
      "nStar =  7395\n",
      "[3.710000000000008, 3.0] [0.3091666666666673, 0.25]\n",
      "nStar =  7395\n",
      "[3.710000000000008, 3.0] [0.3091666666666673, 0.25]\n",
      "nStar =  7395\n",
      "[3.710000000000008, 3.0] [0.3091666666666673, 0.25]\n",
      "nStar =  7395\n",
      "[3.710000000000008, 3.0] [0.3091666666666673, 0.25]\n",
      "nStar =  7395\n",
      "[3.710000000000008, 3.0] [0.3091666666666673, 0.25]\n",
      "nStar =  7395\n",
      "[3.710000000000008, 3.0] [0.3091666666666673, 0.25]\n",
      "nStar =  7395\n",
      "[3.710000000000008, 3.0] [0.3091666666666673, 0.25]\n",
      "nStar =  7395\n",
      "[3.710000000000008, 3.0] [0.3091666666666673, 0.25]\n",
      "nStar =  7395\n",
      "[3.710000000000008, 3.0] [0.3091666666666673, 0.25]\n",
      "nStar =  7395\n",
      "[3.710000000000008, 3.0] [0.3091666666666673, 0.25]\n",
      "nStar =  7395\n",
      "[3.710000000000008, 3.0] [0.3091666666666673, 0.25]\n",
      "nStar =  7395\n",
      "[3.710000000000008, 3.0] [0.3091666666666673, 0.25]\n",
      "nStar =  7395\n",
      "[3.710000000000008, 3.0] [0.3091666666666673, 0.25]\n",
      "nStar =  7395\n",
      "[3.710000000000008, 3.0] [0.3091666666666673, 0.25]\n",
      "nStar =  7395\n",
      "[3.710000000000008, 3.0] [0.3091666666666673, 0.25]\n",
      "nStar =  7395\n",
      "[3.710000000000008, 3.0] [0.3091666666666673, 0.25]\n",
      "nStar =  7395\n",
      "[3.710000000000008, 3.0] [0.3091666666666673, 0.25]\n",
      "nStar =  7395\n",
      "[3.710000000000008, 3.0] [0.3091666666666673, 0.25]\n",
      "nStar =  7395\n",
      "[3.710000000000008, 3.0] [0.3091666666666673, 0.25]\n",
      "nStar =  7395\n",
      "[3.710000000000008, 3.0] [0.3091666666666673, 0.25]\n",
      "nStar =  7395\n",
      "[3.710000000000008, 3.0] [0.3091666666666673, 0.25]\n",
      "nStar =  7395\n",
      "[3.710000000000008, 3.0] [0.3091666666666673, 0.25]\n",
      "nStar =  7395\n",
      "[3.710000000000008, 3.0] [0.3091666666666673, 0.25]\n",
      "nStar =  7395\n",
      "[3.710000000000008, 3.0] [0.3091666666666673, 0.25]\n",
      "nStar =  7395\n",
      "[3.710000000000008, 3.0] [0.3091666666666673, 0.25]\n",
      "nStar =  7395\n",
      "[3.710000000000008, 3.0] [0.3091666666666673, 0.25]\n",
      "nStar =  7395\n",
      "[3.710000000000008, 3.0] [0.3091666666666673, 0.25]\n",
      "nStar =  7395\n",
      "[3.710000000000008, 3.0] [0.3091666666666673, 0.25]\n",
      "nStar =  7395\n",
      "[3.710000000000008, 3.0] [0.3091666666666673, 0.25]\n",
      "nStar =  7395\n",
      "[3.710000000000008, 3.0] [0.3091666666666673, 0.25]\n",
      "nStar =  7395\n",
      "[3.710000000000008, 3.0] [0.3091666666666673, 0.25]\n",
      "nStar =  7395\n",
      "[3.710000000000008, 3.0] [0.3091666666666673, 0.25]\n",
      "nStar =  7395\n",
      "[3.710000000000008, 3.0] [0.3091666666666673, 0.25]\n",
      "nStar =  7395\n"
     ]
    }
   ],
   "source": [
    "llc =map(oneexp,expo)"
   ]
  },
  {
   "cell_type": "code",
   "execution_count": null,
   "metadata": {
    "collapsed": true
   },
   "outputs": [],
   "source": [
    "lcmap =v.map(oneexp,expo)\n",
    "llc = lcmap.get()"
   ]
  },
  {
   "cell_type": "code",
   "execution_count": null,
   "metadata": {
    "collapsed": false
   },
   "outputs": [],
   "source": [
    "#lcmap3[0]"
   ]
  },
  {
   "cell_type": "code",
   "execution_count": 13,
   "metadata": {
    "collapsed": false
   },
   "outputs": [],
   "source": [
    "def mergelc(lc1,lc2):\n",
    "    i=0\n",
    "    for lc in lc2 :\n",
    "        lc1[i].extend(lc)\n",
    "        i = i+1\n",
    "    return lc1\n",
    "        \n",
    "\n",
    "lcc1 = [[1,2,5],[],[1,1]]\n",
    "lcc2= [[8],[8,9],[7,7,9]]\n",
    "lcc3= [[3],[],[6,8]]\n",
    "\n",
    "tll = [lcc1,lcc2,lcc3]\n",
    "lc = reduce(mergelc,llc)\n",
    "#lccc = mergelc(lcc1,lcc2)"
   ]
  },
  {
   "cell_type": "code",
   "execution_count": 14,
   "metadata": {
    "collapsed": false
   },
   "outputs": [],
   "source": [
    "# Calculate the I coeffs\n",
    "Icoeff = [[] for z in xrange(nStar)]\n",
    "wmagAduDiag = []\n",
    "nObs = []\n",
    "Isum = np.zeros(nStar, dtype=float)\n",
    "for istar in range(nStar):\n",
    "    nObs.append(len(lc[istar]))\n",
    "    for iexp in range(nObs[istar]):\n",
    "        Isum[istar] = Isum[istar] + lc[istar][iexp].wmagAdu\n",
    "#to save all the weights in a 1D list, and create the diagonal matrix\n",
    "        wmagAduDiag.append(lc[istar][iexp].wmagAdu)\n",
    "    for iexp in range(nObs[istar]):\n",
    "        Icoeff[istar].append(lc[istar][iexp].wmagAdu/Isum[istar])"
   ]
  },
  {
   "cell_type": "code",
   "execution_count": 15,
   "metadata": {
    "collapsed": false
   },
   "outputs": [
    {
     "name": "stdout",
     "output_type": "stream",
     "text": [
      "2016-10-13 17:47:20.930704\n",
      "50870\n",
      "50870\n",
      "7395\n"
     ]
    }
   ],
   "source": [
    "print datetime.datetime.now()\n",
    "print np.sum(nObs)\n",
    "print len(wmagAduDiag)\n",
    "print nStar\n"
   ]
  },
  {
   "cell_type": "code",
   "execution_count": 16,
   "metadata": {
    "collapsed": false
   },
   "outputs": [
    {
     "name": "stdout",
     "output_type": "stream",
     "text": [
      "2 4\n"
     ]
    }
   ],
   "source": [
    "# Fill the A matrix ! It's a nTotObs x nPar matrix (here nTotObs = np.sum(nObs) and nPar =  8 (k) + 2 (a) = 10)\n",
    "nA = len(a); nK = ik[len(ik) - 1] + 1; nPar = nA + nK # 2 a, and 8 k    \n",
    "print nA, nK\n",
    "nTotObs = np.sum(nObs)\n",
    "#A = [[] for z in xrange(nTotObs)]\n",
    "A = np.zeros((nTotObs, nPar))\n",
    "Aline = 0\n",
    "for istar in range(nStar):\n",
    "    nExp = nObs[istar]\n",
    "# to define Aline0, as the first A line which corresponds to the istar observation\n",
    "    Aline0 = Aline\n",
    "    for iexp in range(nExp):\n",
    "# Here I recover the night and exposure indices needed for the calculation of the columns\n",
    "        night = lc[istar][iexp].night\n",
    "# same a parameter for consecutive nights\n",
    "        jA = ia[night]\n",
    "# different k parameter for each night\n",
    "        jK = ik[night]\n",
    "        ixm = lc[istar][iexp].ixm\n",
    "# fill the a dependent columns\n",
    "        Acol = jA\n",
    "        A[Aline][Acol] = A[Aline][Acol] + 1. \n",
    "        for jExp in range(nExp) :\n",
    "            A[Aline0 + jExp][Acol] = A[Aline0 + jExp][Acol] - Icoeff[istar][iexp]\n",
    "# fill the k dependent columns\n",
    "        Acol = nA + jK\n",
    "        A[Aline][Acol] = A[Aline][Acol] - x[ixm] # + 1.*(-x[ixm])\n",
    "        for jExp in range(nExp) :\n",
    "            A[Aline0 + jExp][Acol] = A[Aline0 + jExp][Acol] + x[ixm]*Icoeff[istar][iexp]   # -x*-I\n",
    "        Aline = Aline + 1"
   ]
  },
  {
   "cell_type": "code",
   "execution_count": 17,
   "metadata": {
    "collapsed": false
   },
   "outputs": [
    {
     "name": "stdout",
     "output_type": "stream",
     "text": [
      "50870 50870 0 5\n"
     ]
    }
   ],
   "source": [
    "print Aline, Aline0, nExp, Acol"
   ]
  },
  {
   "cell_type": "code",
   "execution_count": 18,
   "metadata": {
    "collapsed": false
   },
   "outputs": [
    {
     "name": "stdout",
     "output_type": "stream",
     "text": [
      "7395\n",
      "50870\n"
     ]
    }
   ],
   "source": [
    "# Calculate the avg mAdu\n",
    "mAdu = []\n",
    "for istar in range(nStar):\n",
    "    avg = 0.\n",
    "    nExp = nObs[istar]\n",
    "    for iexp in range(nExp):\n",
    "        avg = avg + Icoeff[istar][iexp]*lc[istar][iexp].mag_r\n",
    "    mAdu.append(avg)\n",
    "print len(mAdu)\n",
    "# Fill the B matrix ! It's a nObs x 1 matrix\n",
    "B = []\n",
    "for istar in range(nStar):\n",
    "    nExp = nObs[istar]\n",
    "    for iexp in range(nExp):\n",
    "        B.append(mAdu[istar] - lc[istar][iexp].mag_r)\n",
    "#m1,1I1,1 + m1,2I1,2 - m1,1\n",
    "#m1,1I1,1 + m1,2I1,2 - m1,2\n",
    "print len(B)"
   ]
  },
  {
   "cell_type": "code",
   "execution_count": 19,
   "metadata": {
    "collapsed": false
   },
   "outputs": [
    {
     "name": "stdout",
     "output_type": "stream",
     "text": [
      "2016-10-13 17:36:27.558494 2016-10-13 17:49:15.447205\n",
      "[ 0.21344144  0.06352696  0.09954652  0.11955831  0.10965271  0.13965301]\n"
     ]
    }
   ],
   "source": [
    "C = np.diagflat(wmagAduDiag)\n",
    "AtCA = np.dot(np.dot(np.transpose(A),C),A)\n",
    "AtCB  = np.dot(np.dot(np.transpose(A),C),B)\n",
    "#print AtCA\n",
    "#print AtCB\n",
    "akFit = np.linalg.solve(AtCA, AtCB)\n",
    "print itime, datetime.datetime.now()\n",
    "print akFit\n",
    "cc = []\n",
    "for i in range(nTotObs):\n",
    "    cc.append(A[i][0]**2*C[i][i])"
   ]
  },
  {
   "cell_type": "code",
   "execution_count": null,
   "metadata": {
    "collapsed": false
   },
   "outputs": [],
   "source": [
    "cc = []\n",
    "for i in range(nTotObs):\n",
    "    cc.append(A[i][0]**2*C[i][i])\n",
    "for i in range(nPar):\n",
    "    print 1./np.sqrt(AtCA[i][i]), AtCA[i][i]\n",
    "small = A[0][0]**2*C[0][0]\n",
    "big0 = AtCA[0][0]\n",
    "big1 =  big0 + small\n",
    "small1 = big1 - big0\n",
    "print small, big0, big1, small1\n",
    "cc.sort()\n",
    "print cc[0], cc[nTotObs-2], cc[nTotObs-1]"
   ]
  },
  {
   "cell_type": "code",
   "execution_count": null,
   "metadata": {
    "collapsed": false
   },
   "outputs": [],
   "source": [
    "print k\n",
    "print akFit[1] - akFit[0], a[1] - a[0], akFit[1] - akFit[0] - (a[1] - a[0]), np.sqrt(1./AtCA[0][0] + 1./AtCA[1][1])\n",
    "for i in range(nK):\n",
    "    print i, akFit[i+nA], k[i], akFit[i+nA] - k[i], 1./np.sqrt(AtCA[i+nA][i+nA])"
   ]
  },
  {
   "cell_type": "code",
   "execution_count": null,
   "metadata": {
    "collapsed": false
   },
   "outputs": [],
   "source": [
    "i0=0;i1=0;i2=0;i3=0\n",
    "for i in range(nStar):\n",
    "    if (nObs[i]<4):\n",
    "        i0 = i0+1\n",
    "    if(3<nObs[i]<8):\n",
    "        i1 = i1+1\n",
    "    if(7<nObs[i]<12):\n",
    "        i2 = i2+1\n",
    "    if (nObs[i]>11):\n",
    "        i3 = i3+1\n",
    "print i0,i1,i2,i3\n"
   ]
  },
  {
   "cell_type": "code",
   "execution_count": null,
   "metadata": {
    "collapsed": false
   },
   "outputs": [],
   "source": [
    "istar =333\n",
    "print len(lc[istar]) \n",
    "for i in xrange(len(lc[istar])) :\n",
    "    print lc[istar][i].mag_r, lc[istar][i].night, lc[istar][i].ixm"
   ]
  },
  {
   "cell_type": "raw",
   "metadata": {},
   "source": []
  }
 ],
 "metadata": {
  "kernelspec": {
   "display_name": "Python 2",
   "language": "python",
   "name": "python2"
  },
  "language_info": {
   "codemirror_mode": {
    "name": "ipython",
    "version": 2
   },
   "file_extension": ".py",
   "mimetype": "text/x-python",
   "name": "python",
   "nbconvert_exporter": "python",
   "pygments_lexer": "ipython2",
   "version": "2.7.12"
  }
 },
 "nbformat": 4,
 "nbformat_minor": 0
}
