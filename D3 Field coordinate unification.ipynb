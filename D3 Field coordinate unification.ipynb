{
 "cells": [
  {
   "cell_type": "code",
   "execution_count": null,
   "metadata": {
    "collapsed": true
   },
   "outputs": [],
   "source": []
  },
  {
   "cell_type": "code",
   "execution_count": 27,
   "metadata": {
    "collapsed": true
   },
   "outputs": [],
   "source": [
    "\n",
    "import re\n",
    "\n",
    "import glob\n",
    "\n",
    "f = open('/renoir_data_02/jpreyes/lsst_data/sn_control/J_A+A_523_A7_table9.dat.txt','r')\n",
    "data_elems = f.read()\n",
    "elems = re.findall('^(.*?D3.*?)\\\\|(.*?)\\\\|', data_elems, re.MULTILINE)\n",
    "f.close()\n",
    "\n",
    "f = open('/renoir_data_02/jpreyes/lsst_data/sn_control/J_A+A_523_A7_table10.dat.txt','r')\n",
    "data = f.read()\n",
    "f.close()\n",
    "\n",
    "f = open('07D3Season.dat')\n",
    "elems = re.findall('^(.*?D3.*?)\\\\|(.*?)\\\\|', data_elems, re.MULTILINE)\n",
    "data07 = f.read().splitlines()\n",
    "f.close()\n",
    "\n",
    "f = open('08D3Season.dat')\n",
    "data08 = f.read().splitlines()\n",
    "f.close()\n"
   ]
  },
  {
   "cell_type": "code",
   "execution_count": 29,
   "metadata": {},
   "outputs": [
    {
     "data": {
      "text/plain": [
       "'14 21 14.877 +52 32 15.290'"
      ]
     },
     "execution_count": 29,
     "metadata": {},
     "output_type": "execute_result"
    }
   ],
   "source": [
    "elems[0][1]"
   ]
  },
  {
   "cell_type": "code",
   "execution_count": 24,
   "metadata": {
    "collapsed": true
   },
   "outputs": [],
   "source": [
    "snls_sources = {}\n",
    "for elem in elems:\n",
    "    snls_sources[elem[0]] = elem[1]\n",
    "\n",
    "for elem in data07:\n",
    "    entries = elem.split(\" \")\n",
    "    snls_sources[entries[0]] = entries[1] + \" \" + entries[2]\n",
    "\n",
    "for elem in data08:\n",
    "    entries = elem.split(\" \")\n",
    "    snls_sources[entries[0]] = entries[1] + \" \" + entries[2]"
   ]
  },
  {
   "cell_type": "code",
   "execution_count": 26,
   "metadata": {
    "collapsed": true
   },
   "outputs": [],
   "source": [
    "import json\n",
    "\n",
    "with open(\"SNLS_SNIa.dat\",'w') as file:\n",
    "    file.write(json.dumps(snls_sources))"
   ]
  },
  {
   "cell_type": "code",
   "execution_count": null,
   "metadata": {
    "collapsed": true
   },
   "outputs": [],
   "source": []
  }
 ],
 "metadata": {
  "kernelspec": {
   "display_name": "Python 2",
   "language": "python",
   "name": "python2"
  },
  "language_info": {
   "codemirror_mode": {
    "name": "ipython",
    "version": 2
   },
   "file_extension": ".py",
   "mimetype": "text/x-python",
   "name": "python",
   "nbconvert_exporter": "python",
   "pygments_lexer": "ipython2",
   "version": "2.7.12"
  }
 },
 "nbformat": 4,
 "nbformat_minor": 2
}
