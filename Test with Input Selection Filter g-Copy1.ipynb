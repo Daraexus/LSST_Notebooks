{
 "cells": [
  {
   "cell_type": "code",
   "execution_count": 1,
   "metadata": {
    "collapsed": true
   },
   "outputs": [],
   "source": [
    "import lsst.daf.persistence as dafPersist\n",
    "import re\n",
    "import lsst.afw.math as afwMath\n",
    "import numpy as np\n",
    "import matplotlib.pyplot as plt\n",
    "%matplotlib inline\n"
   ]
  },
  {
   "cell_type": "code",
   "execution_count": 2,
   "metadata": {
    "collapsed": true
   },
   "outputs": [],
   "source": [
    "def get_mean( calexp):\n",
    "    mi = calexp.getMaskedImage()\n",
    "    bad = ~calexp.getMaskedImage().getMask().getPlaneBitMask(['DETECTED' ])\n",
    "    sctrl = afwMath.StatisticsControl()\n",
    "    sctrl.setAndMask(bad)\n",
    "    stats = afwMath.makeStatistics(mi, afwMath.MEAN, sctrl)\n",
    "    return (stats.getValue(afwMath.MEAN))\n",
    "\n",
    "def get_threshold(dayDiff, factor=1):\n",
    "    mi = dayDiff.getMaskedImage()\n",
    "    bad = dayDiff.getMaskedImage().getMask().getPlaneBitMask(['BAD', 'SAT', 'EDGE', 'NO_DATA', ])\n",
    "    sctrl = afwMath.StatisticsControl()\n",
    "    sctrl.setAndMask(bad)\n",
    "    stats = afwMath.makeStatistics(mi, afwMath.STDEVCLIP, sctrl)\n",
    "    thres = (stats.getValue(afwMath.STDEVCLIP) * factor)\n",
    "    return thres\n",
    "\n",
    "def get_sn(img):\n",
    "    try:\n",
    "        sn= get_mean(img)/get_threshold(img)\n",
    "    except Exception as e:\n",
    "        sn = 0\n",
    "    return sn"
   ]
  },
  {
   "cell_type": "code",
   "execution_count": 3,
   "metadata": {
    "collapsed": true
   },
   "outputs": [],
   "source": [
    "DATADIR=\"/datadec/cppm/jpreyes/CFHT_Production/\"\n",
    "butler = dafPersist.Butler(DATADIR+\"detect_prod\") "
   ]
  },
  {
   "cell_type": "code",
   "execution_count": 4,
   "metadata": {
    "collapsed": true
   },
   "outputs": [],
   "source": [
    "patches = []\n",
    "patches_file=open(DATADIR+\"/patches.txt\", \"rb\")\n",
    "for line in patches_file:\n",
    "    line = line.replace('\\n','')\n",
    "    text = re.split(\"=| \",line)\n",
    "    patches.append(text[-1])\n",
    "patches_file.close()\n",
    "\n"
   ]
  },
  {
   "cell_type": "code",
   "execution_count": null,
   "metadata": {
    "collapsed": true
   },
   "outputs": [],
   "source": []
  },
  {
   "cell_type": "code",
   "execution_count": 5,
   "metadata": {
    "collapsed": true
   },
   "outputs": [],
   "source": [
    "dcoadd_dict = {}\n",
    "for p in patches:\n",
    "    if butler.datasetExists(\"deepCoadd\", dataId={\"filter\":\"g\", \"tract\":0, \"patch\":p}):\n",
    "            \n",
    "            dCoadd = butler.get(\"deepCoadd\", dataId={\"filter\":\"g\", \"tract\":0, \"patch\":p})\n",
    "            dcoadd_dict[p]=dCoadd"
   ]
  },
  {
   "cell_type": "code",
   "execution_count": 6,
   "metadata": {
    "collapsed": true
   },
   "outputs": [],
   "source": [
    "butler_test = dafPersist.Butler(DATADIR+\"daycoadd_tests_complete\") \n",
    "dcoadd_dict_test = {}\n",
    "for p in patches:\n",
    "    if butler_test.datasetExists(\"deepCoadd\", dataId={\"filter\":\"g\", \"tract\":0, \"patch\":p}):\n",
    "            \n",
    "            dCoadd = butler_test.get(\"deepCoadd\", dataId={\"filter\":\"g\", \"tract\":0, \"patch\":p})\n",
    "            dcoadd_dict_test[p]=dCoadd"
   ]
  },
  {
   "cell_type": "code",
   "execution_count": 7,
   "metadata": {},
   "outputs": [
    {
     "data": {
      "text/plain": [
       "(392, 371)"
      ]
     },
     "execution_count": 7,
     "metadata": {},
     "output_type": "execute_result"
    }
   ],
   "source": [
    "len(dcoadd_dict), len(dcoadd_dict_test)"
   ]
  },
  {
   "cell_type": "code",
   "execution_count": 8,
   "metadata": {
    "collapsed": true
   },
   "outputs": [],
   "source": [
    "sn_values = []\n",
    "for p in patches:\n",
    "    if dcoadd_dict.has_key(p):\n",
    "        v1 = get_sn(dcoadd_dict[p])\n",
    "    else:\n",
    "        v1 = -1\n",
    "    if dcoadd_dict_test.has_key(p):   \n",
    "        v2 = get_sn(dcoadd_dict_test[p])\n",
    "    else:\n",
    "        v2 = -1\n",
    "    if v1!=-1 and v2!=-1:\n",
    "        sn_values.append([v1,v2])"
   ]
  },
  {
   "cell_type": "code",
   "execution_count": 9,
   "metadata": {
    "collapsed": true
   },
   "outputs": [],
   "source": [
    "sn_values = np.array(sn_values)"
   ]
  },
  {
   "cell_type": "code",
   "execution_count": 10,
   "metadata": {},
   "outputs": [
    {
     "data": {
      "text/plain": [
       "array([[  8.06600067e-03,   1.59137126e-01],\n",
       "       [  7.69944001e-02,   1.86848675e-01],\n",
       "       [  8.73939764e-02,   2.46807845e-01],\n",
       "       [  2.57680471e-01,   1.51098809e-01],\n",
       "       [  3.51749075e-03,   1.68042006e-01],\n",
       "       [  1.89006846e-02,   1.24338603e-01],\n",
       "       [  4.04687043e+00,   1.85772863e-01],\n",
       "       [  3.07845202e-03,   5.86795664e-02],\n",
       "       [  5.14532911e-02,   1.01685616e-01],\n",
       "       [ -5.03873059e-02,   1.28254958e+00],\n",
       "       [  5.28038149e+05,   1.11383689e-01],\n",
       "       [  2.84577046e-01,   1.46475272e-01],\n",
       "       [  3.48093724e-01,   4.06994056e-01],\n",
       "       [  2.86268930e-01,   2.86809984e-01],\n",
       "       [  1.24747526e+00,   6.46532019e-01],\n",
       "       [  5.87483450e+00,   4.84997781e-01],\n",
       "       [  4.29032754e-01,   1.47505955e-01],\n",
       "       [  2.88168811e-01,   2.77160969e-01],\n",
       "       [  6.41117129e-01,   4.62073815e-01],\n",
       "       [  3.72739121e-01,   3.72047364e-01],\n",
       "       [  9.02782405e-01,   7.02484099e-01],\n",
       "       [  3.34476705e-01,   4.21121774e-01],\n",
       "       [  8.07167152e-01,   8.35364652e-01],\n",
       "       [  1.55951394e+00,   6.38069663e-01],\n",
       "       [  1.47931456e+00,   8.75630433e-01],\n",
       "       [  1.41810156e+00,   8.85167571e-01],\n",
       "       [  3.86543427e-01,   3.67703235e-01],\n",
       "       [  8.54252468e-01,   5.41365817e-01],\n",
       "       [  4.11576908e-01,   6.16995612e-01],\n",
       "       [  4.33696913e-01,   4.89069900e-01],\n",
       "       [  9.61142760e-01,   7.27341457e-01],\n",
       "       [  3.96055055e-01,   4.25488925e-01],\n",
       "       [  5.71603666e-01,   3.56725617e-01],\n",
       "       [  8.79688012e-01,   6.16018719e-01],\n",
       "       [  1.32319083e+00,   9.39963098e-01],\n",
       "       [  1.26533076e+00,   3.99141993e-01],\n",
       "       [  1.36978542e+00,   8.33133041e-01],\n",
       "       [  9.42959426e-01,   6.61742321e-01],\n",
       "       [  6.37151028e-01,   4.85360507e-01],\n",
       "       [  5.16447841e-01,   5.43394274e-01],\n",
       "       [  6.42384524e-01,   5.65934724e-01],\n",
       "       [  1.49401842e+00,   9.78338848e-01],\n",
       "       [  1.20982308e+00,   8.77556652e-01],\n",
       "       [  1.36610094e+00,   8.11286039e-01],\n",
       "       [  1.36961733e+00,   8.80608781e-01],\n",
       "       [  3.23022077e-01,   3.41479533e-01],\n",
       "       [  2.00547507e+00,   1.20539754e+00],\n",
       "       [  8.18303118e-01,   3.10089824e-01],\n",
       "       [  1.30669269e+00,   7.36263110e-01],\n",
       "       [  2.80202118e+00,   5.98300118e-01],\n",
       "       [  1.83378433e+00,   9.43534927e-01],\n",
       "       [  4.61816517e-01,   4.08879475e-01],\n",
       "       [  6.32409617e-01,   5.28698291e-01],\n",
       "       [  8.46781325e-01,   6.15956999e-01],\n",
       "       [  1.32189553e+00,   8.11628660e-01],\n",
       "       [  1.26763183e+00,   7.15457443e-01],\n",
       "       [  6.33143640e-01,   5.79454915e-01],\n",
       "       [  6.58043673e-01,   4.12685175e-01],\n",
       "       [  9.41053216e-01,   5.26425137e-01],\n",
       "       [  1.25828852e+00,   6.48255867e-01],\n",
       "       [  2.12739290e+00,   5.04071974e-01],\n",
       "       [  1.15971419e+00,   4.02444515e-01],\n",
       "       [  1.75715202e+00,   9.66095701e-01],\n",
       "       [  5.57577378e-01,   8.78274378e-01],\n",
       "       [  1.09743566e+00,   7.63959961e-01],\n",
       "       [  1.46227209e+00,   9.75418581e-01],\n",
       "       [  1.06590668e+00,   5.16312473e-01],\n",
       "       [  6.28426330e-01,   4.59919027e-01],\n",
       "       [  3.01183319e+00,   3.94620916e-01],\n",
       "       [  1.07347664e+00,   8.54726532e-01],\n",
       "       [  6.65373123e-01,   5.04498034e-01],\n",
       "       [  4.08673563e-01,   4.45717569e-01],\n",
       "       [  4.78464286e-01,   4.06177287e-01],\n",
       "       [  7.11181868e-01,   4.69965281e-01],\n",
       "       [  1.27900682e+00,   7.70385563e-01],\n",
       "       [  6.38559665e-01,   8.27058723e-01],\n",
       "       [  9.64465992e-01,   6.11657807e-01],\n",
       "       [  6.26464684e-01,   4.41256080e-01],\n",
       "       [  1.01894726e+00,   6.90802112e-01],\n",
       "       [  2.48018055e+00,   6.83756031e-01],\n",
       "       [  8.85436589e-01,   4.08653891e-01],\n",
       "       [  1.23347787e+00,   7.98395410e-01],\n",
       "       [  9.47622643e-01,   6.52052230e-01],\n",
       "       [  1.76539892e+00,   9.63743084e-01],\n",
       "       [  1.63564990e+00,   1.00254643e+00],\n",
       "       [  7.85981539e-01,   5.87194778e-01],\n",
       "       [  5.16000706e-01,   4.21837186e-01],\n",
       "       [  9.17656948e-01,   4.46795294e-01],\n",
       "       [  4.10787366e-01,   3.46707824e-01],\n",
       "       [  2.06111731e+00,   6.33050874e-01],\n",
       "       [  5.14027603e-01,   3.52878248e-01],\n",
       "       [  9.36954343e-01,   4.70636322e-01],\n",
       "       [  1.55996824e+00,   8.07097633e-01],\n",
       "       [  2.62238658e+00,   8.79152775e-01],\n",
       "       [  1.78100657e+00,   3.32482741e-01],\n",
       "       [  1.14826096e+00,   6.57204193e-01],\n",
       "       [  8.36252845e-01,   5.89866594e-01],\n",
       "       [  8.54156759e-01,   9.34649391e-01],\n",
       "       [  5.86595948e-01,   3.78736086e-01],\n",
       "       [  1.96967299e+00,   8.57835548e-01],\n",
       "       [  2.62045304e+00,   1.01343696e+00],\n",
       "       [  2.49632954e+00,   1.28359814e+00],\n",
       "       [  1.55163209e+00,   8.43940640e-01],\n",
       "       [  1.04591024e+00,   6.30106404e-01],\n",
       "       [  1.16811521e+00,   7.03456783e-01],\n",
       "       [  6.10545923e-01,   4.23357033e-01],\n",
       "       [  1.22878376e+00,   1.18157612e+00],\n",
       "       [  3.50953272e-01,   3.11878862e-01],\n",
       "       [  1.99325262e+00,   5.43479736e-01],\n",
       "       [  8.07791474e-01,   6.18120499e-01],\n",
       "       [  7.01151174e-01,   3.12474025e-01],\n",
       "       [  1.12713267e+00,   4.97364162e-01],\n",
       "       [  8.54090638e-01,   6.43813055e-01],\n",
       "       [  1.14158154e+00,   6.25868478e-01],\n",
       "       [  3.99813626e-01,   3.42189961e-01],\n",
       "       [  2.71064049e+00,   3.22771973e-01],\n",
       "       [  7.11713136e-01,   5.72231585e-01],\n",
       "       [  3.78073120e-01,   3.53391980e-01],\n",
       "       [  1.71789870e+00,   7.77503603e-01],\n",
       "       [  1.63811878e+00,   4.34923515e-01],\n",
       "       [  1.25888319e+00,   6.59765003e-01],\n",
       "       [  5.55525663e-01,   4.02829861e-01],\n",
       "       [  3.51506268e-01,   3.87898526e-01],\n",
       "       [  1.06695401e+00,   5.03315592e-01],\n",
       "       [  4.38002539e-01,   4.06664816e-01],\n",
       "       [  4.02080665e-01,   4.44935141e-01],\n",
       "       [  7.48156718e-01,   2.66122425e-01],\n",
       "       [  1.48460118e+00,   1.06059081e+00],\n",
       "       [  1.34338379e+00,   7.95110088e-01],\n",
       "       [  3.72451777e-01,   3.65596935e-01],\n",
       "       [  3.27747625e-01,   3.74100932e-01],\n",
       "       [  3.68816520e-01,   7.50402198e-01],\n",
       "       [  4.34885236e-01,   3.88771005e-01],\n",
       "       [  1.39810084e+00,   8.80085650e-01],\n",
       "       [  5.47008995e-01,   4.44592899e-01],\n",
       "       [  5.68515827e-01,   3.93765371e-01],\n",
       "       [  1.67599912e+00,   9.42046686e-01],\n",
       "       [  4.72196282e-01,   5.75315525e-01],\n",
       "       [  5.87853712e-01,   3.39391086e-01],\n",
       "       [  1.93684731e+00,   5.42923001e-01],\n",
       "       [  1.08500682e+00,   1.42183822e+00],\n",
       "       [  3.36822680e-01,   1.17333157e-01],\n",
       "       [  9.55231926e-01,   5.10034660e-01],\n",
       "       [  1.37897620e+00,   6.95423384e-01],\n",
       "       [  1.60084049e+00,   1.12726631e+00],\n",
       "       [  1.22326988e+00,   4.37925656e-01],\n",
       "       [  1.37287766e+00,   5.16597114e-01],\n",
       "       [  6.85844751e-01,   5.82924970e-01],\n",
       "       [  7.62429342e-01,   5.38755619e-01],\n",
       "       [  1.78027595e-01,   1.91044941e-01],\n",
       "       [  4.56700551e-01,   3.11731945e-01],\n",
       "       [  6.43695988e-01,   3.72033864e-01],\n",
       "       [  1.14957038e+00,   3.20922648e-01],\n",
       "       [  1.31566867e+00,   6.57007897e-01],\n",
       "       [  1.14203025e+00,   6.87307183e-01],\n",
       "       [  1.30894881e+00,   7.17605111e-01],\n",
       "       [  5.03027543e-01,   4.10729678e-01],\n",
       "       [  9.65831686e-01,   4.64445822e-01],\n",
       "       [  2.18908221e+00,   1.08522217e+00],\n",
       "       [  7.84224314e-01,   7.61953581e-01],\n",
       "       [  1.42397957e+00,   1.21612846e+00],\n",
       "       [  1.15428683e+00,   5.53279145e-01],\n",
       "       [  1.83767863e+00,   1.05175297e+00],\n",
       "       [  1.67193993e+00,   9.92445749e-01],\n",
       "       [  2.03165324e-01,   1.49769800e-01],\n",
       "       [  4.36309453e-01,   4.42612995e-01],\n",
       "       [  8.73932701e-01,   3.58511926e-01],\n",
       "       [  8.80525827e-01,   3.23378546e+00],\n",
       "       [  8.74578573e+00,   4.50774625e+00],\n",
       "       [  1.10062182e+00,   3.02452206e-01],\n",
       "       [  1.27131761e+00,   5.84620200e-01],\n",
       "       [  1.33816183e+00,   8.00597620e-01],\n",
       "       [  1.03958744e+00,   6.85063776e-01],\n",
       "       [  9.07040504e-01,   6.95668973e-01],\n",
       "       [  9.32440276e-01,   2.73274098e-01],\n",
       "       [  1.09921713e+00,   5.15717687e-01],\n",
       "       [  1.25371617e+00,   7.06424310e-01],\n",
       "       [  6.54961015e-01,   4.63931698e-01],\n",
       "       [  4.90506545e-01,   3.84557457e-01],\n",
       "       [  1.14854802e+00,   4.84487132e-01],\n",
       "       [  7.23708990e-01,   3.70821239e-01],\n",
       "       [  1.64088220e+00,   5.92633012e-01],\n",
       "       [  6.14481922e-01,   4.17675412e-01],\n",
       "       [  4.65306837e-01,   3.36910172e-01],\n",
       "       [  2.10774702e+00,   6.49311179e-01],\n",
       "       [  1.90201055e+00,   6.55957741e-01],\n",
       "       [  3.58661350e+00,   1.93647546e+00],\n",
       "       [  4.89498157e+00,   2.58778841e+00],\n",
       "       [  9.31510216e-01,   4.14203815e-01],\n",
       "       [  4.30247757e-01,   4.14979860e-01],\n",
       "       [  4.80107285e-01,   4.19481853e-01],\n",
       "       [  4.69358195e-01,   4.85070255e-01],\n",
       "       [  5.15296636e-01,   4.68375068e-01],\n",
       "       [  8.08063283e-01,   3.32936536e-01],\n",
       "       [  1.55649867e+00,   6.50643782e-01],\n",
       "       [  1.28759550e+00,   6.85726882e-01],\n",
       "       [  1.29746599e+00,   8.99921487e-01],\n",
       "       [  8.80582862e-01,   4.78343029e-01],\n",
       "       [  1.56550369e+00,   6.96837188e-01],\n",
       "       [  1.54915796e+00,   6.47350886e-01],\n",
       "       [  6.00235328e-01,   4.77640073e-01],\n",
       "       [  3.03560637e-01,   3.45546751e-01],\n",
       "       [  1.81594786e+00,   9.20456828e-01],\n",
       "       [  1.43813633e+00,   7.78990480e-01],\n",
       "       [  1.21452081e+00,   6.95642951e-01],\n",
       "       [  5.60628179e-01,   5.82958843e-01],\n",
       "       [  1.70789418e+00,   6.94539844e-01],\n",
       "       [  1.42029435e+00,   7.89984433e-01],\n",
       "       [  8.09744255e-01,   5.25487016e-01],\n",
       "       [  6.23565925e-01,   4.01719071e-01],\n",
       "       [  3.22615302e-01,   3.44009059e-01],\n",
       "       [  5.31184700e-01,   4.53582467e-01],\n",
       "       [  1.25097040e+00,   6.38408250e-01],\n",
       "       [  2.03523490e+00,   6.95556906e-01],\n",
       "       [  1.76948907e+00,   4.81610299e-01],\n",
       "       [  1.18768548e+00,   7.67287396e-01],\n",
       "       [  6.28723268e-01,   3.80121861e-01],\n",
       "       [  1.28463392e+00,   5.84646136e-01],\n",
       "       [  1.23093962e+00,   1.18607827e+00],\n",
       "       [  7.92848316e-01,   7.02008357e-01],\n",
       "       [  3.85132928e-01,   3.81253160e-01],\n",
       "       [  1.21641237e+00,   7.75900820e-01],\n",
       "       [  3.71099131e-01,   4.05006175e-01],\n",
       "       [  5.49415229e-01,   4.54531434e-01],\n",
       "       [  1.72017596e+00,   4.58277373e-01],\n",
       "       [  1.40911862e+00,   8.78859398e-01],\n",
       "       [  5.95938504e-01,   5.23928580e-01],\n",
       "       [  9.90073498e-01,   5.52368026e-01],\n",
       "       [  2.20665688e+00,   4.77521381e-01],\n",
       "       [  1.18834258e+00,   5.40163919e-01],\n",
       "       [  4.42480577e-01,   7.14363403e-01],\n",
       "       [  1.14522507e+00,   6.86544679e-01],\n",
       "       [  8.01326463e-01,   4.26329955e-01],\n",
       "       [  1.22242864e+00,   6.16891044e-01],\n",
       "       [  1.06957215e+00,   1.24861313e+00],\n",
       "       [  1.31760536e+00,   5.81538121e-01],\n",
       "       [  1.83463188e+00,   5.80990451e-01],\n",
       "       [  5.71723502e-01,   7.23581142e-01],\n",
       "       [  1.18069182e+00,   7.91131753e-01],\n",
       "       [  1.03191569e+00,   8.67218642e-01],\n",
       "       [  1.69750477e+00,   1.05940951e+00],\n",
       "       [  4.78486326e-01,   4.75577987e-01],\n",
       "       [  9.62335141e-01,   6.19991865e-01],\n",
       "       [  1.48490084e+00,   7.46346367e-01],\n",
       "       [  4.35780584e-01,   3.24047530e-01],\n",
       "       [  5.40493405e-01,   4.16501349e-01],\n",
       "       [  9.91869994e-01,   6.44602186e-01],\n",
       "       [  7.91900601e-01,   4.59132014e-01],\n",
       "       [  3.80799643e-01,   3.68694382e-01],\n",
       "       [  7.29325748e-01,   3.69890493e-01],\n",
       "       [  7.11540765e-01,   5.15456906e-01],\n",
       "       [  2.85011216e+00,   8.17657854e-01],\n",
       "       [  1.46022024e+00,   4.72682374e-01],\n",
       "       [  1.25705564e+00,   6.44798846e-01],\n",
       "       [  6.66766490e-01,   7.68207850e-01],\n",
       "       [  1.41547114e+00,   8.59275500e-01],\n",
       "       [  1.96469916e+00,   1.22430707e+00],\n",
       "       [  1.03478617e+00,   6.29207540e-01],\n",
       "       [  7.48153341e-01,   7.17674603e-01],\n",
       "       [  2.99888254e+00,   1.78865096e+00],\n",
       "       [  1.71398370e+00,   8.67480839e-01],\n",
       "       [  9.83629911e-01,   6.64915675e-01],\n",
       "       [  9.74205194e-01,   4.03693371e-01],\n",
       "       [  2.60284785e-01,   2.78144312e-01],\n",
       "       [  3.61677500e-01,   3.45617998e-01],\n",
       "       [  7.77856756e-01,   6.03207024e-01],\n",
       "       [  2.73724838e-01,   2.91832536e-01],\n",
       "       [  2.29899496e+00,   6.39077876e-01],\n",
       "       [  6.79870050e-01,   1.36058033e+00],\n",
       "       [  7.16316217e-01,   5.00898919e-01],\n",
       "       [  6.69937714e-01,   5.28081214e-01],\n",
       "       [  1.87630503e+00,   5.77874547e-01],\n",
       "       [  4.36842132e-01,   3.97155376e-01],\n",
       "       [  6.17592201e-01,   5.73054915e-01],\n",
       "       [  1.41247384e+00,   9.30610813e-01],\n",
       "       [  1.57268881e+00,   8.73024995e-01],\n",
       "       [  1.51610596e+00,   8.38268060e-01],\n",
       "       [  4.95967500e-01,   4.32190625e-01],\n",
       "       [  1.20851884e+00,   5.68862917e-01],\n",
       "       [  2.59899756e+00,   1.20320254e+00],\n",
       "       [  1.22949366e+00,   6.73653016e-01],\n",
       "       [  1.31017554e+00,   6.48430308e-01],\n",
       "       [  6.07441368e-01,   4.50168998e-01],\n",
       "       [  5.63348615e-01,   4.25965350e-01],\n",
       "       [  6.67778924e-01,   5.13240662e-01],\n",
       "       [  7.62005689e-01,   5.33945994e-01],\n",
       "       [  6.24445508e-01,   4.73793935e-01],\n",
       "       [  1.49335294e+00,   1.17233371e+00],\n",
       "       [  6.15021709e-01,   5.19655069e-01],\n",
       "       [  8.23811077e-01,   6.23307514e-01],\n",
       "       [  1.88677396e+00,   3.97917302e-01],\n",
       "       [  3.74583451e-01,   3.65638903e-01],\n",
       "       [  6.36649355e-01,   6.16353291e-01],\n",
       "       [  1.42960017e+00,   7.76425392e-01],\n",
       "       [  1.04103314e+00,   4.44447394e-01],\n",
       "       [  8.51198932e-01,   5.69012144e-01],\n",
       "       [  4.49665267e-01,   4.48568494e-01],\n",
       "       [  7.80691884e-01,   6.60156851e-01],\n",
       "       [  7.43167436e-01,   6.55401080e-01],\n",
       "       [  2.42927957e+00,   6.21613757e-01],\n",
       "       [  2.12411698e+00,   1.25949792e+00],\n",
       "       [  7.03153731e-01,   5.36919536e-01],\n",
       "       [  5.21158872e-01,   4.03812572e-01],\n",
       "       [  1.51837482e+00,   5.82205720e-01],\n",
       "       [  7.49287358e-01,   6.59011615e-01],\n",
       "       [  2.41537429e+00,   1.03205904e+00],\n",
       "       [  1.27065928e+00,   7.24145345e-01],\n",
       "       [  1.56524784e+00,   9.04816038e-01],\n",
       "       [  1.89285431e+00,   9.70434782e-01],\n",
       "       [  8.45322775e-01,   7.74176014e-01],\n",
       "       [  1.33266566e+00,   1.11332850e+00],\n",
       "       [  1.05451531e+00,   1.12775951e+00],\n",
       "       [  9.22617704e-01,   8.77248889e-01],\n",
       "       [  1.49857617e+00,   9.98175017e-01],\n",
       "       [  8.01524376e-01,   5.77839050e-01],\n",
       "       [  8.35479924e-01,   6.50234852e-01],\n",
       "       [  6.24714754e-01,   5.64560058e-01],\n",
       "       [  6.65965142e-01,   4.55738348e-01],\n",
       "       [  7.36414028e-01,   5.06559823e-01],\n",
       "       [  4.63056474e-01,   4.89574363e-01],\n",
       "       [  7.81263814e-01,   5.70040095e-01],\n",
       "       [  7.15361693e-01,   6.11175946e+10],\n",
       "       [  2.00918301e+00,   3.37989497e+10],\n",
       "       [  5.75050602e-01,   1.81221763e+10],\n",
       "       [  8.49144814e-01,   2.38877509e+10],\n",
       "       [  1.40378901e+00,   7.05894720e-01],\n",
       "       [  7.60493056e-01,   7.71036612e-01],\n",
       "       [  1.73171562e+00,   8.63070578e-01],\n",
       "       [  6.82669407e-01,   4.06492897e-01],\n",
       "       [  6.25654890e-01,   4.15157110e-01],\n",
       "       [  2.05372003e-01,   2.19427947e-01],\n",
       "       [  1.13377793e+00,   8.30238284e-01],\n",
       "       [  1.17124495e+00,   5.91509455e-01],\n",
       "       [  1.18557368e+00,   5.96422855e-01],\n",
       "       [  1.27417440e+00,   8.28741906e-01],\n",
       "       [  4.40671408e-01,   6.57969319e-01],\n",
       "       [  1.19949370e+00,   7.49275551e-01],\n",
       "       [  1.15672144e+00,   7.93872757e-01],\n",
       "       [  4.55717736e-01,   6.31609827e-01],\n",
       "       [  7.49686145e-01,   5.37496695e-01],\n",
       "       [  1.23082361e+00,   1.13596056e+00],\n",
       "       [  2.20731802e+00,   1.15078357e+00],\n",
       "       [  7.16702365e-01,   4.78177310e-01],\n",
       "       [  1.20588595e+00,   8.20613176e-01],\n",
       "       [  1.26280919e+00,   5.54315695e+00],\n",
       "       [  1.03873049e+00,   5.75768324e-01],\n",
       "       [  6.81495020e-01,   5.12385725e-01],\n",
       "       [  1.51264399e+00,   8.52507123e-01],\n",
       "       [  7.17028296e-01,   3.15837492e-01],\n",
       "       [  7.52201093e-01,   4.44390703e-01],\n",
       "       [  1.85709842e+00,   1.13228801e+00],\n",
       "       [  1.43218571e+00,   8.01191455e-01],\n",
       "       [  5.47273901e-01,   5.74782754e-01],\n",
       "       [  3.88139402e-01,   4.07845710e-01],\n",
       "       [  1.82004695e-01,   5.95762143e-02],\n",
       "       [  1.18094934e-01,   1.43562729e-01],\n",
       "       [  8.91776906e-01,   4.78604356e-01],\n",
       "       [  4.27503659e-01,   6.18615483e-01],\n",
       "       [  6.21002711e-02,   1.73147457e-01],\n",
       "       [  1.99902888e-01,   2.82141883e-01],\n",
       "       [  8.51771624e-01,   5.77556918e-01],\n",
       "       [  2.76155851e-01,   3.18602984e-01],\n",
       "       [  9.63393182e-01,   8.40297681e-01],\n",
       "       [  3.36639527e-01,   3.93922423e-01],\n",
       "       [  9.36190500e-01,   3.26943237e-01],\n",
       "       [  1.03494920e+00,   6.08172086e-01],\n",
       "       [  1.22155176e+00,   1.41159312e+00],\n",
       "       [  3.62117178e-01,   3.40519577e-01],\n",
       "       [  8.45267782e-01,   5.95599408e-01],\n",
       "       [  3.30488229e-01,   3.39009363e-01]])"
      ]
     },
     "execution_count": 10,
     "metadata": {},
     "output_type": "execute_result"
    }
   ],
   "source": [
    "sn_values"
   ]
  },
  {
   "cell_type": "code",
   "execution_count": 11,
   "metadata": {
    "collapsed": true
   },
   "outputs": [],
   "source": [
    "control = sn_values[:,0]\n",
    "test = sn_values[:,1]"
   ]
  },
  {
   "cell_type": "code",
   "execution_count": 12,
   "metadata": {},
   "outputs": [
    {
     "data": {
      "text/plain": [
       "(0.0, 50)"
      ]
     },
     "execution_count": 12,
     "metadata": {},
     "output_type": "execute_result"
    },
    {
     "data": {
      "image/png": "[encoded data removed]",
      "text/plain": [
       "<matplotlib.figure.Figure at 0x7fda469e4810>"
      ]
     },
     "metadata": {},
     "output_type": "display_data"
    }
   ],
   "source": [
    "plt.figure(figsize=(20,10))\n",
    "plt.bar(range(len(test)),test, color=\"blue\", alpha=0.5)\n",
    "plt.bar(range(len(control)),control, color=\"red\", alpha=0.5)\n",
    "\n",
    "plt.ylim(ymin=0.0, ymax=5.0)\n",
    "plt.xlim(xmax=50)"
   ]
  },
  {
   "cell_type": "code",
   "execution_count": 13,
   "metadata": {},
   "outputs": [
    {
     "data": {
      "text/plain": [
       "(50, 100)"
      ]
     },
     "execution_count": 13,
     "metadata": {},
     "output_type": "execute_result"
    },
    {
     "data": {
      "image/png": "[encoded data removed]",
      "text/plain": [
       "<matplotlib.figure.Figure at 0x7fdad90ae6d0>"
      ]
     },
     "metadata": {},
     "output_type": "display_data"
    }
   ],
   "source": [
    "plt.figure(figsize=(20,10))\n",
    "plt.bar(range(len(test)),test, color=\"blue\", alpha=0.5)\n",
    "plt.bar(range(len(control)),control, color=\"red\", alpha=0.5)\n",
    "\n",
    "plt.ylim(ymin=0.0, ymax=5.0)\n",
    "plt.xlim(xmin=50, xmax=100)"
   ]
  },
  {
   "cell_type": "code",
   "execution_count": 14,
   "metadata": {},
   "outputs": [
    {
     "data": {
      "text/plain": [
       "(150, 200)"
      ]
     },
     "execution_count": 14,
     "metadata": {},
     "output_type": "execute_result"
    },
    {
     "data": {
      "image/png": "[encoded data removed]",
      "text/plain": [
       "<matplotlib.figure.Figure at 0x7fdac0201f90>"
      ]
     },
     "metadata": {},
     "output_type": "display_data"
    }
   ],
   "source": [
    "plt.figure(figsize=(20,10))\n",
    "plt.bar(range(len(test)),test, color=\"blue\", alpha=0.5)\n",
    "plt.bar(range(len(control)),control, color=\"red\", alpha=0.5)\n",
    "\n",
    "plt.ylim(ymin=0.0, ymax=5.0)\n",
    "plt.xlim(xmin=150, xmax=200)"
   ]
  },
  {
   "cell_type": "code",
   "execution_count": 15,
   "metadata": {},
   "outputs": [
    {
     "data": {
      "text/plain": [
       "(200, 250)"
      ]
     },
     "execution_count": 15,
     "metadata": {},
     "output_type": "execute_result"
    },
    {
     "data": {
      "image/png": "[encoded data removed]",
      "text/plain": [
       "<matplotlib.figure.Figure at 0x7fdae618dfd0>"
      ]
     },
     "metadata": {},
     "output_type": "display_data"
    }
   ],
   "source": [
    "plt.figure(figsize=(20,10))\n",
    "plt.bar(range(len(test)),test, color=\"blue\", alpha=0.5)\n",
    "plt.bar(range(len(control)),control, color=\"red\", alpha=0.5)\n",
    "\n",
    "plt.ylim(ymin=0.0, ymax=5.0)\n",
    "plt.xlim(xmin=200, xmax=250)"
   ]
  },
  {
   "cell_type": "code",
   "execution_count": 16,
   "metadata": {},
   "outputs": [
    {
     "data": {
      "text/plain": [
       "(250, 300)"
      ]
     },
     "execution_count": 16,
     "metadata": {},
     "output_type": "execute_result"
    },
    {
     "data": {
      "image/png": "[encoded data removed]",
      "text/plain": [
       "<matplotlib.figure.Figure at 0x7fdaea882c50>"
      ]
     },
     "metadata": {},
     "output_type": "display_data"
    }
   ],
   "source": [
    "plt.figure(figsize=(20,10))\n",
    "plt.bar(range(len(test)),test, color=\"blue\", alpha=0.5)\n",
    "plt.bar(range(len(control)),control, color=\"red\", alpha=0.5)\n",
    "\n",
    "plt.ylim(ymin=0.0, ymax=5.0)\n",
    "plt.xlim(xmin=250, xmax=300)"
   ]
  },
  {
   "cell_type": "code",
   "execution_count": null,
   "metadata": {
    "collapsed": true
   },
   "outputs": [],
   "source": []
  }
 ],
 "metadata": {
  "kernelspec": {
   "display_name": "Python 2",
   "language": "python",
   "name": "python2"
  },
  "language_info": {
   "codemirror_mode": {
    "name": "ipython",
    "version": 2
   },
   "file_extension": ".py",
   "mimetype": "text/x-python",
   "name": "python",
   "nbconvert_exporter": "python",
   "pygments_lexer": "ipython2",
   "version": "2.7.12"
  }
 },
 "nbformat": 4,
 "nbformat_minor": 2
}
