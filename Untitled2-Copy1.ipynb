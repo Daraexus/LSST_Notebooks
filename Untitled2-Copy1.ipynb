{
 "cells": [
  {
   "cell_type": "code",
   "execution_count": 1,
   "metadata": {
    "collapsed": true
   },
   "outputs": [],
   "source": [
    "import lsst.daf.persistence as dafPersist\n",
    "import matplotlib.pyplot as plt\n",
    "import numpy as np\n",
    "\n",
    "import lsst.afw.table as afwTable\n",
    "import lsst.afw.geom as afwGeom\n",
    "import Utils.DiaSourceTools as DSTools\n",
    "from astropy.time import Time\n",
    "\n",
    "import lsst.afw.display.ds9 as ds9\n",
    "import lsst.afw.image as afwImage\n",
    "import re\n",
    "\n",
    "from multiprocessing import Pool\n",
    "from functools import partial\n",
    "\n",
    "import astropy.coordinates as coord\n",
    "import astropy.units as u\n",
    "\n",
    "import lsst.daf.base as dafBase\n",
    "from lsst.meas.algorithms.detection import SourceDetectionTask\n",
    "from lsst.meas.base import SingleFrameMeasurementTask\n",
    "from lsst.meas.deblender import SourceDeblendTask\n",
    "\n",
    "import lsst.afw.math as afwMath\n",
    "\n",
    "from astropy.table import Table"
   ]
  },
  {
   "cell_type": "code",
   "execution_count": 2,
   "metadata": {
    "collapsed": true
   },
   "outputs": [],
   "source": [
    "DATADIR=\"/datadec/cppm/jpreyes/CFHT_Jointcal\"\n",
    "directory = DATADIR+\"/detect_testSN/\"\n",
    "butler = dafPersist.Butler(directory) \n",
    "filter = 'i'\n"
   ]
  },
  {
   "cell_type": "code",
   "execution_count": 4,
   "metadata": {
    "collapsed": true
   },
   "outputs": [],
   "source": [
    "def preConvolve(exposure, sigma=5):\n",
    "    psf = exposure.getPsf()\n",
    "    maskedImage = exposure.getMaskedImage()\n",
    "    kWidth = (int(sigma * 7 + 0.5) // 2) * 2 + 1 # make sure it is odd\n",
    "    #self.metadata.set(\"smoothingKernelWidth\", kWidth)\n",
    "    gaussFunc = afwMath.GaussianFunction1D(sigma)\n",
    "    gaussKernel = afwMath.SeparableKernel(kWidth, kWidth, gaussFunc, gaussFunc)\n",
    "\n",
    "    convolvedImage = maskedImage.Factory(maskedImage.getBBox())\n",
    "\n",
    "    afwMath.convolve(convolvedImage, maskedImage, gaussKernel, afwMath.ConvolutionControl())\n",
    "    #\n",
    "    # Only search psf-smooth part of frame\n",
    "    #\n",
    "    goodBBox = gaussKernel.shrinkBBox(convolvedImage.getBBox())\n",
    "    middle = convolvedImage.Factory(convolvedImage, goodBBox, afwImage.PARENT, False)\n",
    "    #\n",
    "    # Mark the parts of the image outside goodBBox as EDGE\n",
    "    #\n",
    "    #self.setEdgeBits(maskedImage, goodBBox, maskedImage.getMask().getPlaneBitMask(\"EDGE\"))\n",
    "    return convolvedImage"
   ]
  },
  {
   "cell_type": "code",
   "execution_count": 5,
   "metadata": {
    "collapsed": true
   },
   "outputs": [],
   "source": [
    "def detect_sources(exposure):\n",
    "    threshold = 6\n",
    "    doSmooth=True\n",
    "    schema = afwTable.SourceTable.makeMinimalSchema()\n",
    "\n",
    "\n",
    "    algMetadata = dafBase.PropertyList()\n",
    "\n",
    "    config = SourceDetectionTask.ConfigClass()\n",
    "    #config.thresholdPolarity = \"both\"\n",
    "    config.thresholdValue = threshold\n",
    "    config.reEstimateBackground = False\n",
    "    #config.thresholdType = \"pixel_stdev\"\n",
    "\n",
    "    detectionTask = SourceDetectionTask(config=config, schema=schema)\n",
    "\n",
    "    measurement = SingleFrameMeasurementTask\n",
    "    config = measurement.ConfigClass()\n",
    "\n",
    "    measurement = measurement(schema, config=config, algMetadata=algMetadata)\n",
    "\n",
    "\n",
    "    deblend = SourceDeblendTask\n",
    "    config = SourceDeblendTask.ConfigClass()\n",
    "    deblend = deblend(schema)\n",
    "\n",
    "    table = afwTable.SourceTable.make(schema)\n",
    "    \n",
    "    results = detectionTask.run(table=table, exposure=exposure , doSmooth=doSmooth )\n",
    "\n",
    "    sourcesCat = results.sources\n",
    "    \n",
    "    deblend.run(exposure, sourcesCat)\n",
    "    \n",
    "    \n",
    "\n",
    "    measurement.run(measCat=sourcesCat, exposure=exposure)\n",
    "\n",
    "    return sourcesCat"
   ]
  },
  {
   "cell_type": "code",
   "execution_count": 5,
   "metadata": {},
   "outputs": [
    {
     "name": "stdout",
     "output_type": "stream",
     "text": [
      "[[  5.17978333e-05  -6.73377463e-09]\n",
      " [  1.26132232e-07  -5.18771716e-05]]\n"
     ]
    }
   ],
   "source": [
    "\n",
    "\n",
    "calexp  = butler.get(\"calexp\", dataId={\"filter\":filter, \"visit\":849373, \"ccd\":15})\n",
    "print calexp.getWcs().getLinearTransform()\n"
   ]
  },
  {
   "cell_type": "code",
   "execution_count": 6,
   "metadata": {
    "collapsed": true
   },
   "outputs": [],
   "source": [
    "sources = detect_sources(calexp)"
   ]
  },
  {
   "cell_type": "code",
   "execution_count": 7,
   "metadata": {},
   "outputs": [
    {
     "name": "stdout",
     "output_type": "stream",
     "text": [
      "[[  5.17931843e-05  -7.70737592e-07]\n",
      " [ -6.46684448e-07  -5.18691168e-05]]\n"
     ]
    }
   ],
   "source": [
    "wcs = butler.get(\"wcs\", dataId={\"filter\":filter, \"visit\":849373, \"ccd\":15, \"tract\":0})\n",
    "wcs = wcs.getWcs()\n",
    "print wcs.getLinearTransform()"
   ]
  },
  {
   "cell_type": "code",
   "execution_count": 68,
   "metadata": {
    "collapsed": true
   },
   "outputs": [],
   "source": [
    "calexp_corr = calexp.clone()\n",
    "calexp_corr.setWcs(wcs)\n",
    "sources_corr = detect_sources(calexp_corr)"
   ]
  },
  {
   "cell_type": "code",
   "execution_count": 69,
   "metadata": {},
   "outputs": [
    {
     "name": "stdout",
     "output_type": "stream",
     "text": [
      "1649.67231367 1649.67231367\n"
     ]
    }
   ],
   "source": [
    "print s.getX(), sc.getX()"
   ]
  },
  {
   "cell_type": "code",
   "execution_count": 70,
   "metadata": {
    "collapsed": true
   },
   "outputs": [],
   "source": [
    "\n",
    "\n",
    "dif_ra = []\n",
    "dif_dec = []\n",
    "\n",
    "for ccd in range(0,35):\n",
    "\n",
    "    calexp  = butler.get(\"calexp\", dataId={\"filter\":filter, \"visit\":849373, \"ccd\":ccd})\n",
    "    #ds9.mtv(calexp, frame=1)\n",
    "    sources = detect_sources(calexp)\n",
    "    wcs = butler.get(\"wcs\", dataId={\"filter\":filter, \"visit\":849373, \"ccd\":ccd, \"tract\":0})\n",
    "    wcs = wcs.getWcs()\n",
    "    calexp_corr = calexp.clone()\n",
    "    calexp_corr.setWcs(wcs)\n",
    "    sources_corr = detect_sources(calexp_corr)\n",
    "    i = 0\n",
    "    for s, sc in zip(sources, sources_corr):\n",
    "        #ds9.dot(i, s.getX(), s.getY(), ctype = ds9.RED, size=2, frame=1)\n",
    "        \n",
    "        #ds9.dot(i, sc.getX()+1, sc.getY()+1, ctype = ds9.BLUE, size=2, frame=1)\n",
    "        \n",
    "        c1 = coord.SkyCoord(ra=float(s.getRa()), dec=float(s.getDec()), unit=(u.rad))\n",
    "        c2 = coord.SkyCoord(ra=float(sc.getRa()), dec=float(sc.getDec()), unit=(u.rad))\n",
    "        dif_ra.append(c2.ra.deg-c1.ra.deg)\n",
    "        dif_dec.append(c2.dec.deg-c1.dec.deg)\n",
    "        i+=1"
   ]
  },
  {
   "cell_type": "code",
   "execution_count": 71,
   "metadata": {},
   "outputs": [
    {
     "data": {
      "image/png": "[encoded data removed]",
      "text/plain": [
       "<matplotlib.figure.Figure at 0x7f7f46c3d8d0>"
      ]
     },
     "metadata": {},
     "output_type": "display_data"
    }
   ],
   "source": [
    "%matplotlib inline\n",
    "plt.hist(dif_ra, align='left', bins=1000)\n",
    "plt.ticklabel_format(style='sci', axis='x',scilimits=(0,0))\n",
    "plt.axvline(0.00014, color='r', linestyle='dashed', linewidth=2)\n",
    "plt.axvline(-0.00014, color='r', linestyle='dashed', linewidth=2)\n",
    "plt.xlim((-0.01, 0.01))\n",
    "plt.show()"
   ]
  },
  {
   "cell_type": "code",
   "execution_count": 72,
   "metadata": {},
   "outputs": [
    {
     "data": {
      "image/png": "[encoded data removed]",
      "text/plain": [
       "<matplotlib.figure.Figure at 0x7f7f46cb3990>"
      ]
     },
     "metadata": {},
     "output_type": "display_data"
    }
   ],
   "source": [
    "%matplotlib inline\n",
    "plt.hist(dif_dec, align='left', bins=1000)\n",
    "plt.ticklabel_format(style='sci', axis='x',scilimits=(0,0))\n",
    "plt.axvline(0.00014, color='r', linestyle='dashed', linewidth=2)\n",
    "plt.axvline(-0.00014, color='r', linestyle='dashed', linewidth=2)\n",
    "plt.xlim((-0.01, 0.01))\n",
    "plt.show()"
   ]
  },
  {
   "cell_type": "code",
   "execution_count": 3,
   "metadata": {},
   "outputs": [
    {
     "name": "stdout",
     "output_type": "stream",
     "text": [
      "[849373, 849374, 849375, 849376, 849377, 849685, 849686, 849687, 849688, 849689]\n"
     ]
    }
   ],
   "source": [
    "visits = range(849373,849378)\n",
    "visits.extend(range(849685,849690))\n",
    "print visits"
   ]
  },
  {
   "cell_type": "code",
   "execution_count": 4,
   "metadata": {
    "collapsed": true
   },
   "outputs": [],
   "source": [
    "calexps = []\n",
    "\n",
    "for i in visits:\n",
    "    \n",
    "    cal = butler.get(\"calexp\", dataId={\"filter\":filter, \"visit\":i, \"ccd\":14})\n",
    "    #wcs = butler.get(\"wcs\", dataId={\"filter\":filter, \"visit\":i, \"ccd\":14, \"tract\":0})\n",
    "    #wcs = wcs.getWcs()\n",
    "    #cal.setWcs(wcs)\n",
    "    calexps.append(cal)\n",
    "\n",
    "\n"
   ]
  },
  {
   "cell_type": "code",
   "execution_count": 5,
   "metadata": {
    "collapsed": true
   },
   "outputs": [],
   "source": [
    "sources_catalog = []\n",
    "\n",
    "#for calexp in calexps:\n",
    "for visit in visits:\n",
    "    sources_catalog.append(butler.get(\"src\", dataId={\"filter\":filter, \"visit\":visit, \"ccd\":14}))\n",
    "    \n",
    "    #sources_catalog.append(detect_sources(calexp))"
   ]
  },
  {
   "cell_type": "code",
   "execution_count": 6,
   "metadata": {
    "collapsed": true
   },
   "outputs": [],
   "source": [
    "multi_matches = afwTable.MultiMatch(sources_catalog[0].schema, {'visit':'I'}, radius=afwGeom.Angle(1./3600., afwGeom.degrees))"
   ]
  },
  {
   "cell_type": "code",
   "execution_count": 7,
   "metadata": {
    "collapsed": true
   },
   "outputs": [],
   "source": [
    "for catalog, visit in zip(sources_catalog, visits):\n",
    "    \n",
    "    multi_matches.add(catalog, {'visit':visit})\n",
    "    \n",
    "results = multi_matches.finish(removeAmbiguous=False) \n"
   ]
  },
  {
   "cell_type": "code",
   "execution_count": 6,
   "metadata": {
    "collapsed": true
   },
   "outputs": [],
   "source": [
    "def build_lightcurve(source_list, flux):\n",
    "    \"\"\"\n",
    "    Assemble a light curve data table from available files.\n",
    "    \"\"\"\n",
    "\n",
    "    bandpasses = ['r']\n",
    "\n",
    "\n",
    "    lightcurve = {}\n",
    "    #lightcurve['classification'] = []\n",
    "    lightcurve['bandpass'] = []\n",
    "    lightcurve['visit'] = []\n",
    "    lightcurve['ra'] = []\n",
    "    lightcurve['dec'] = []\n",
    "    lightcurve['flux'] = []\n",
    "    lightcurve['flux_error'] = []\n",
    "    lightcurve['zp'] = []\n",
    "    lightcurve['zpsys'] = []\n",
    "\n",
    "\n",
    "    for src in source_list:\n",
    "        \n",
    "        #print 'yep',visit\n",
    "        #lightcurve['classification'].append(src['classification_dipole'])\n",
    "        lightcurve['bandpass'].append(str('sdss' + bandpasses[0]))\n",
    "        \n",
    "        lightcurve['visit'].append(src['visit'])\n",
    "        lightcurve['ra'].append(float(src['coord_ra']))\n",
    "        lightcurve['dec'].append(float(src['coord_dec']))\n",
    "        lightcurve['flux'].append(src[flux])\n",
    "        lightcurve['flux_error'].append(src[flux+'Sigma'])\n",
    "        #lightcurve['flux'].append(src['base_CircularApertureFlux_12_0_flux'])\n",
    "        #lightcurve['flux_error'].append(src['base_CircularApertureFlux_12_0_fluxSigma'])\n",
    "        lightcurve['zp'].append(25.0)\n",
    "        lightcurve['zpsys'].append('ab')\n",
    "        #print lightcurve\n",
    "    lightcurve = Table(data=lightcurve)\n",
    "    return lightcurve"
   ]
  },
  {
   "cell_type": "code",
   "execution_count": 9,
   "metadata": {
    "collapsed": true
   },
   "outputs": [],
   "source": [
    "lcs = DSTools.get_light_curves_from_multimatch_results2(results)"
   ]
  },
  {
   "cell_type": "code",
   "execution_count": 10,
   "metadata": {
    "collapsed": true
   },
   "outputs": [],
   "source": [
    "t_lcs = DSTools.threshold_light_curves(lcs, 3)"
   ]
  },
  {
   "cell_type": "code",
   "execution_count": 11,
   "metadata": {
    "collapsed": true
   },
   "outputs": [],
   "source": [
    "f_lcs = []\n",
    "for lc in t_lcs:\n",
    "        f_lcs.append(build_lightcurve(lc, \"base_CircularApertureFlux_4_5_flux\"))\n",
    "        "
   ]
  },
  {
   "cell_type": "code",
   "execution_count": 12,
   "metadata": {},
   "outputs": [
    {
     "name": "stdout",
     "output_type": "stream",
     "text": [
      "2886\n"
     ]
    }
   ],
   "source": [
    "\n",
    "print len(f_lcs)"
   ]
  },
  {
   "cell_type": "code",
   "execution_count": 36,
   "metadata": {
    "collapsed": true
   },
   "outputs": [],
   "source": [
    "std_ra = []\n",
    "std_dec = []\n",
    "\n",
    "for lc in f_lcs:\n",
    "    std_ra.append(np.std(lc['ra']))\n",
    "    std_dec.append(np.std(lc['dec']))"
   ]
  },
  {
   "cell_type": "code",
   "execution_count": 37,
   "metadata": {
    "collapsed": true
   },
   "outputs": [],
   "source": [
    "std_ra = np.multiply(std_ra,3600)\n",
    "std_dec = np.multiply(std_dec,3600)"
   ]
  },
  {
   "cell_type": "code",
   "execution_count": 42,
   "metadata": {},
   "outputs": [
    {
     "data": {
      "image/png": "[encoded data removed]",
      "text/plain": [
       "<matplotlib.figure.Figure at 0x7f35d880ac50>"
      ]
     },
     "metadata": {},
     "output_type": "display_data"
    }
   ],
   "source": [
    "%matplotlib inline\n",
    "plt.hist(std_ra)\n",
    "plt.xlabel(\"std (arcsec)\")\n",
    "plt.ylabel(\"# of light curves\")\n",
    "#plt.ticklabel_format(style='sci', axis='x',scilimits=(0,0))\n",
    "#plt.axvline(0.00003, color='r', linestyle='dashed', linewidth=2)\n",
    "#plt.axvline(0.00014, color='r', linestyle='dashed', linewidth=2)\n",
    "plt.show()"
   ]
  },
  {
   "cell_type": "code",
   "execution_count": 43,
   "metadata": {},
   "outputs": [
    {
     "data": {
      "image/png": "[encoded data removed]",
      "text/plain": [
       "<matplotlib.figure.Figure at 0x7f36b90b2950>"
      ]
     },
     "metadata": {},
     "output_type": "display_data"
    }
   ],
   "source": [
    "%matplotlib inline\n",
    "plt.hist(std_dec)\n",
    "plt.xlabel(\"std (arcsec)\")\n",
    "plt.ylabel(\"# of light curves\")\n",
    "#plt.ticklabel_format(style='sci', axis='x',scilimits=(0,0))\n",
    "#plt.axvline(0.00003, color='r', linestyle='dashed', linewidth=2)\n",
    "#plt.axvline(0.00014, color='r', linestyle='dashed', linewidth=2)\n",
    "plt.show()"
   ]
  },
  {
   "cell_type": "code",
   "execution_count": 7,
   "metadata": {
    "collapsed": true
   },
   "outputs": [],
   "source": [
    "patches = []\n",
    "patches_file=open(DATADIR+\"/patches.txt\", \"rb\")\n",
    "for line in patches_file:\n",
    "    line = line.replace('\\n','')\n",
    "    text = re.split(\"=| \",line)\n",
    "    patches.append(text[-1])\n",
    "patches_file.close()"
   ]
  },
  {
   "cell_type": "code",
   "execution_count": 8,
   "metadata": {
    "collapsed": true,
    "scrolled": true
   },
   "outputs": [],
   "source": [
    "dayCoadd = butler.get(\"dayCoadd\", dataId={\"filter\":'r',\"tract\":0, \"patch\":\"10,14\", 'date':'2006-04-23'})\n",
    "refCoadd = butler.get(\"deepCoadd\", dataId={\"filter\":'r',\"tract\":0, \"patch\":\"10,14\"})\n",
    "\n",
    "dayCoadd_sources=detect_sources(dayCoadd)\n",
    "refCoadd_sources=detect_sources(refCoadd)"
   ]
  },
  {
   "cell_type": "code",
   "execution_count": 9,
   "metadata": {},
   "outputs": [
    {
     "name": "stdout",
     "output_type": "stream",
     "text": [
      "400\n"
     ]
    }
   ],
   "source": [
    "count = 0\n",
    "for patch in patches: \n",
    "    if butler.datasetExists(\"dayCoadd\", dataId={\"filter\":'r',\"tract\":0, \"patch\":patch, 'date':'2006-04-23'}):\n",
    "        count+=1\n",
    "print count"
   ]
  },
  {
   "cell_type": "code",
   "execution_count": 4,
   "metadata": {},
   "outputs": [
    {
     "ename": "NameError",
     "evalue": "name 'count' is not defined",
     "output_type": "error",
     "traceback": [
      "\u001b[0;31m---------------------------------------------------------------------------\u001b[0m",
      "\u001b[0;31mNameError\u001b[0m                                 Traceback (most recent call last)",
      "\u001b[0;32m<ipython-input-4-07bd36c4cd43>\u001b[0m in \u001b[0;36m<module>\u001b[0;34m()\u001b[0m\n\u001b[0;32m----> 1\u001b[0;31m \u001b[0;32mprint\u001b[0m \u001b[0mcount\u001b[0m\u001b[0;34m\u001b[0m\u001b[0m\n\u001b[0m",
      "\u001b[0;31mNameError\u001b[0m: name 'count' is not defined"
     ]
    }
   ],
   "source": [
    "print count"
   ]
  },
  {
   "cell_type": "code",
   "execution_count": 20,
   "metadata": {},
   "outputs": [
    {
     "name": "stdout",
     "output_type": "stream",
     "text": [
      "['22,14' '5,13' '22,20' '11,13' '15,11' '6,21' '15,5' '23,15' '14,17'\n",
      " '19,19' '5,10' '17,13' '6,5' '19,22' '21,17' '11,18' '19,9' '13,14'\n",
      " '17,24' '22,5' '18,17' '17,18' '15,8' '19,21' '24,10' '9,5' '11,6' '10,9'\n",
      " '22,9' '11,15' '5,18' '7,6' '13,11' '7,17' '6,19' '13,6' '11,11' '17,13'\n",
      " '13,18' '6,19' '6,10' '21,24' '13,23' '7,18' '8,16' '11,23' '13,15'\n",
      " '19,15' '5,22' '5,11' '19,24' '7,15' '11,14' '6,18' '21,14' '9,17' '5,23'\n",
      " '23,22' '16,16' '15,21' '20,21' '7,23' '16,19' '24,18' '18,10' '20,7'\n",
      " '16,15' '19,12' '16,24' '6,13' '12,24' '8,14' '22,23' '19,20' '11,17'\n",
      " '16,9' '20,6' '9,10' '12,9' '13,5' '18,23' '5,22' '17,10' '23,17' '16,12'\n",
      " '6,24' '16,23' '19,9' '23,12' '19,22' '23,19' '8,17' '9,8' '5,13' '13,8'\n",
      " '15,9' '8,11' '22,18' '21,17' '16,9']\n"
     ]
    }
   ],
   "source": [
    "count = 0\n",
    "patches_bool = []\n",
    "for patch in patches: \n",
    "    if butler.datasetExists(\"dayCoadd\", dataId={\"filter\":'r',\"tract\":0, \"patch\":patch, 'date':'2006-04-23'}):\n",
    "        patches_bool.append(True)\n",
    "    else:\n",
    "        patches_bool.append(False)\n",
    "\n",
    "\n",
    "patches_bool = np.array(patches_bool)\n",
    "patches = np.array(patches)\n",
    "p = patches.copy()\n",
    "p = p[patches_bool]\n",
    "\n",
    "p_sub = np.random.choice(p, 100)\n",
    "print p_sub"
   ]
  },
  {
   "cell_type": "code",
   "execution_count": 21,
   "metadata": {
    "collapsed": true
   },
   "outputs": [],
   "source": [
    "dayCoadd_sources = None\n",
    "refCoadd_sources = None\n",
    "for patch in patches: \n",
    "    if butler.datasetExists(\"dayCoadd\", dataId={\"filter\":'r',\"tract\":0, \"patch\":patch, 'date':'2006-04-23'}) and butler.datasetExists(\"deepCoadd\", dataId={\"filter\":'r',\"tract\":0, \"patch\":patch}):\n",
    "            try:\n",
    "                dayCoadd = butler.get(\"dayCoadd\", dataId={\"filter\":'r',\"tract\":0, \"patch\":patch, 'date':'2006-04-23'})\n",
    "                refCoadd = butler.get(\"deepCoadd\", dataId={\"filter\":'r',\"tract\":0, \"patch\":patch})\n",
    "\n",
    "                if dayCoadd_sources is None:\n",
    "                    refCoadd_sources=detect_sources(refCoadd)\n",
    "                    dayCoadd_sources=detect_sources(dayCoadd)\n",
    "\n",
    "                else:\n",
    "                    refCoadd_sources.extend(detect_sources(refCoadd))\n",
    "                    dayCoadd_sources.extend(detect_sources(dayCoadd))\n",
    "            except Exception, e:\n",
    "                print e\n",
    "                pass\n",
    "                \n",
    "           \n",
    "        "
   ]
  },
  {
   "cell_type": "code",
   "execution_count": 22,
   "metadata": {
    "collapsed": true
   },
   "outputs": [],
   "source": [
    "multi_matches = afwTable.MultiMatch(dayCoadd_sources.schema, {'visit':'I'}, radius=afwGeom.Angle(1./3600., afwGeom.degrees))\n",
    "\n",
    "\n",
    "    \n",
    "multi_matches.add(dayCoadd_sources, {'visit':0})\n",
    "multi_matches.add(refCoadd_sources, {'visit':1})\n",
    "    \n",
    "results = multi_matches.finish(removeAmbiguous=False) \n"
   ]
  },
  {
   "cell_type": "code",
   "execution_count": 23,
   "metadata": {
    "collapsed": true
   },
   "outputs": [],
   "source": [
    "lcs = DSTools.get_light_curves_from_multimatch_results2(results)\n",
    "t_lcs = DSTools.threshold_light_curves(lcs, 2)\n",
    "f_lcs = []\n",
    "for lc in t_lcs:\n",
    "        f_lcs.append(build_lightcurve(lc, \"base_CircularApertureFlux_4_5_flux\"))\n",
    "        "
   ]
  },
  {
   "cell_type": "code",
   "execution_count": 24,
   "metadata": {
    "collapsed": true
   },
   "outputs": [],
   "source": [
    "diff_ra = []\n",
    "diff_dec = []\n",
    "\n",
    "for lc in f_lcs:\n",
    "    diff_ra.append(lc[0][\"ra\"]-lc[1][\"ra\"])\n",
    "    diff_dec.append(lc[0][\"dec\"]-lc[1][\"dec\"])\n",
    "diff_ra = np.multiply(diff_ra,3600)\n",
    "diff_dec = np.multiply(diff_dec,3600)"
   ]
  },
  {
   "cell_type": "code",
   "execution_count": 27,
   "metadata": {},
   "outputs": [
    {
     "data": {
      "image/png": "[encoded data removed]",
      "text/plain": [
       "<matplotlib.figure.Figure at 0x7f3f1f7d85d0>"
      ]
     },
     "metadata": {},
     "output_type": "display_data"
    }
   ],
   "source": [
    "\n",
    "plt.hist(diff_ra, bins = 100) \n",
    "plt.xlabel(\"RA position difference in arcsec\")\n",
    "plt.ylabel(\"# of sources\")\n",
    "#plt.ticklabel_format(style='sci', axis='x',scilimits=(0,0))\n",
    "plt.show()"
   ]
  },
  {
   "cell_type": "code",
   "execution_count": 28,
   "metadata": {},
   "outputs": [
    {
     "data": {
      "image/png": "[encoded data removed]",
      "text/plain": [
       "<matplotlib.figure.Figure at 0x7f3f1f536090>"
      ]
     },
     "metadata": {},
     "output_type": "display_data"
    }
   ],
   "source": [
    "plt.hist(diff_dec, bins = 100)    \n",
    "plt.xlabel(\"DEC position difference in arcsec\")\n",
    "plt.ylabel(\"# of sources\")\n",
    "#plt.ticklabel_format(style='sci', axis='x',scilimits=(0,0))\n",
    "plt.show()"
   ]
  },
  {
   "cell_type": "code",
   "execution_count": 29,
   "metadata": {},
   "outputs": [
    {
     "name": "stdout",
     "output_type": "stream",
     "text": [
      "exists\n"
     ]
    }
   ],
   "source": [
    "patch = patches[205]\n",
    "if butler.datasetExists(\"dayCoadd\", dataId={\"filter\":'r',\"tract\":0, \"patch\":patch, 'date':'2006-04-23'}) and butler.datasetExists(\"deepCoadd\", dataId={\"filter\":'r',\"tract\":0, \"patch\":patch}):\n",
    "        print \"exists\"\n",
    "        dayCoadd = butler.get(\"dayCoadd\", dataId={\"filter\":'r',\"tract\":0, \"patch\":patch, 'date':'2006-04-23'})\n",
    "        dayCoaddArray = dayCoadd.getMaskedImage().getImage().getArray()\n",
    "        refCoadd = butler.get(\"deepCoadd\", dataId={\"filter\":'r',\"tract\":0, \"patch\":patch})\n",
    "        refCoaddArray = refCoadd.getMaskedImage().getImage().getArray()\n",
    "               "
   ]
  },
  {
   "cell_type": "code",
   "execution_count": 30,
   "metadata": {},
   "outputs": [
    {
     "name": "stdout",
     "output_type": "stream",
     "text": [
      "9,20\n"
     ]
    }
   ],
   "source": [
    "patch = patches[205]\n",
    "print patch"
   ]
  },
  {
   "cell_type": "code",
   "execution_count": 32,
   "metadata": {
    "collapsed": true
   },
   "outputs": [],
   "source": [
    "diffArray = dayCoaddArray - refCoaddArray\n",
    "\n",
    "imageF = afwImage.ImageF(diffArray)\n",
    "ds9.mtv(imageF)"
   ]
  },
  {
   "cell_type": "code",
   "execution_count": 41,
   "metadata": {
    "scrolled": true
   },
   "outputs": [
    {
     "data": {
      "image/png": "[encoded data removed]",
      "text/plain": [
       "<matplotlib.figure.Figure at 0x7fd2b3950510>"
      ]
     },
     "metadata": {},
     "output_type": "display_data"
    }
   ],
   "source": []
  },
  {
   "cell_type": "code",
   "execution_count": 61,
   "metadata": {
    "collapsed": true
   },
   "outputs": [],
   "source": [
    "\n",
    "ds9.mtv(dayCoadd)"
   ]
  },
  {
   "cell_type": "code",
   "execution_count": 86,
   "metadata": {
    "collapsed": true
   },
   "outputs": [],
   "source": [
    "\n",
    "ds9.mtv(dayCoadd, frame=1)\n",
    "#cImage = preConvolve(dayCoadd)\n",
    "ds9.mtv(refCoadd, frame=2)\n"
   ]
  },
  {
   "cell_type": "code",
   "execution_count": 79,
   "metadata": {
    "collapsed": true
   },
   "outputs": [],
   "source": [
    "exp = afwImage.ExposureF()\n",
    "exp.setMaskedImage(cImage)\n",
    "exp.setPsf(dayCoadd.getPsf())"
   ]
  },
  {
   "cell_type": "code",
   "execution_count": 80,
   "metadata": {},
   "outputs": [
    {
     "data": {
      "text/plain": [
       "<lsst.afw.table.source.source.SourceCatalog at 0x7fd2b2ca6650>"
      ]
     },
     "execution_count": 80,
     "metadata": {},
     "output_type": "execute_result"
    }
   ],
   "source": [
    "detect_sources(exp)"
   ]
  },
  {
   "cell_type": "code",
   "execution_count": null,
   "metadata": {
    "collapsed": true
   },
   "outputs": [],
   "source": []
  }
 ],
 "metadata": {
  "kernelspec": {
   "display_name": "Python 2",
   "language": "python",
   "name": "python2"
  },
  "language_info": {
   "codemirror_mode": {
    "name": "ipython",
    "version": 2
   },
   "file_extension": ".py",
   "mimetype": "text/x-python",
   "name": "python",
   "nbconvert_exporter": "python",
   "pygments_lexer": "ipython2",
   "version": "2.7.12"
  }
 },
 "nbformat": 4,
 "nbformat_minor": 2
}
