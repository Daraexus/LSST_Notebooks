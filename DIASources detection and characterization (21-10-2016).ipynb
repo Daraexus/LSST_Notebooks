{
 "cells": [
  {
   "cell_type": "markdown",
   "metadata": {},
   "source": [
    "# DIASources detection and characterization"
   ]
  },
  {
   "cell_type": "markdown",
   "metadata": {},
   "source": [
    "## PART 1:  DIASource detection and measurement in ONE CCD."
   ]
  },
  {
   "cell_type": "markdown",
   "metadata": {},
   "source": [
    "Obligatory imports"
   ]
  },
  {
   "cell_type": "code",
   "execution_count": 7,
   "metadata": {
    "collapsed": false
   },
   "outputs": [],
   "source": [
    "import pickle\n",
    "import sncosmo\n",
    "import numpy as np\n",
    "import lsst.daf.base as dafBase\n",
    "import lsst.daf.persistence as dafPersist\n",
    "\n",
    "import re\n",
    "\n",
    "import lsst.afw.display.ds9 as ds9\n",
    "\n",
    "import matplotlib.pyplot as plt\n",
    "\n",
    "from lsst.ip.diffim import ImagePsfMatchTask, DipoleMeasurementTask\n",
    "from lsst.meas.base import SingleFrameMeasurementConfig\n",
    "import lsst.afw.table as afwTable\n",
    "\n",
    "import lsst.daf.base as dafBase\n",
    "import DiaSourceTools as DSTools\n",
    "\n",
    "import lsst.meas.algorithms.detection as sDet\n",
    "import lsst.afw.image as afwImage\n",
    "\n",
    "from lsst.meas.algorithms.detection import SourceDetectionTask\n",
    "\n",
    "\n",
    "\n",
    "\n",
    "import lsst.afw.geom as afwGeom\n",
    "import random\n",
    "%matplotlib inline"
   ]
  },
  {
   "cell_type": "code",
   "execution_count": 128,
   "metadata": {
    "collapsed": false
   },
   "outputs": [],
   "source": [
    "from matplotlib.colors import LinearSegmentedColormap\n",
    "colors = [(0,0,0),(0.5,0,0), (1,0,0), (0,0,1), (1,0,1)]\n",
    "cm = LinearSegmentedColormap.from_list('dipoles', colors, N=5)\n",
    "\n",
    "colors = [(1,1,1),(0.5,0,0), (1,0,0), (0,0,1), (1,0,1)]\n",
    "cm2 = LinearSegmentedColormap.from_list('dipoles', colors, N=5)\n",
    "\n",
    "def SubtractBackground(exp):\n",
    "  \n",
    "    bgConf = sDet.BackgroundConfig()\n",
    "    background,Exp0 = sDet.estimateBackground(exp,bgConf,True)\n",
    "\n",
    "    return background, Exp0\n",
    "\n",
    "def merge_sources(results):\n",
    "    fpSet = results.fpSets.positive\n",
    "    fpSet.merge(results.fpSets.negative, 1, 1, False)\n",
    "    diaSources = afwTable.SourceCatalog(table)\n",
    "    fpSet.makeSources(diaSources)\n",
    "    return diaSources\n",
    "\n",
    "def remove_nan_sources(diaSources):\n",
    "    c_diaSources = diaSources.copy()\n",
    "    c_diaSources.clear()\n",
    "    for diaSrc in diaSources:\n",
    "        val = diaSrc.get(\"coord_ra\").asArcseconds()\n",
    "        if np.isnan(val) == False:\n",
    "            c_diaSources.append(diaSrc)\n",
    "        \n",
    "    return c_diaSources\n",
    "\n",
    "def get_source_stamp(src, visit, ccds, offset=0):\n",
    "    \n",
    "    for ccd in ccds:\n",
    "\n",
    "        if butler.datasetExists(\"deepDiff_differenceExp\", {'visit': visit , 'filter':filter , 'ccd':ccd}):\n",
    "\n",
    "            diffExp = butler.get(\"deepDiff_differenceExp\", {'visit': visit , 'filter':filter , 'ccd':ccd})\n",
    "            bbox = diffExp.getBBox()\n",
    "            wcs = diffExp.getWcs()\n",
    "            \n",
    "            c = afwGeom.Point2I(wcs.skyToPixel(src.getRa(), src.getDec()))\n",
    "            \n",
    "            if bbox.contains(c):\n",
    "                psf = diffExp.getPsf()\n",
    "                shape = psf.computeShape()\n",
    "                sigma = shape.getDeterminantRadius()\n",
    "                #print sigma\n",
    "                \n",
    "                return DSTools.get_stamp(src, diffExp, offset=offset), c\n",
    "            \n",
    "    return None, None  \n",
    "\n",
    "def get_dipole_lobes_metrics(stamp):\n",
    "    w,h = stamp.getWidth(), stamp.getHeight()\n",
    "    pos_fp = stamp_clone.getMaskedImage().getMask().getPlaneBitMask(\"DETECTED\")\n",
    "    neg_fp = stamp_clone.getMaskedImage().getMask().getPlaneBitMask(\"DETECTED_NEGATIVE\")\n",
    "\n",
    "    img_arr, mask_arr, var_arr = stamp.getMaskedImage().getArrays()\n",
    "    \n",
    "    values = (mask_arr & pos_fp == pos_fp)\n",
    "    values2 = values & (img_arr > 0)\n",
    "    pos_pixels = len(img_arr[values])\n",
    "    pos_flux=  np.sum(abs(img_arr[values2]))\n",
    "\n",
    "    values = (mask_arr & neg_fp == neg_fp)\n",
    "    values2 = values & (img_arr < 0)\n",
    "    neg_flux= np.sum(abs(img_arr[values2]))\n",
    "    neg_pixels = len(img_arr[values])\n",
    "\n",
    "    values = mask_arr & (neg_fp|pos_fp) == (neg_fp|pos_fp)\n",
    "    inter_flux = np.sum(abs(img_arr[values]))\n",
    "    inter_pixels = len(img_arr[values])\n",
    "\n",
    "    values = mask_arr & (neg_fp|pos_fp) != 0\n",
    "    total_flux = np.sum(abs(img_arr[values]))\n",
    "    mask_pixels = len(img_arr[values])\n",
    "    \n",
    "    fluxes = [inter_flux/total_flux, pos_flux/total_flux, neg_flux/total_flux]\n",
    "    geom = [float(inter_pixels)/mask_pixels, float(pos_pixels)/mask_pixels, float(neg_pixels)/mask_pixels]\n",
    "    \n",
    "\n",
    "    return fluxes, geom\n",
    "    \n",
    "\n",
    "def show_stamps(stamp, title='Stamp'):\n",
    "\n",
    "    img_arr, mask_arr, var_arr = stamp.getMaskedImage().getArrays()\n",
    "    w,h = stamp.getWidth(), stamp.getHeight()\n",
    "    plt.figure(figsize=(16,5))\n",
    "    \n",
    "    plt.suptitle(title)\n",
    "    \n",
    "    plt.subplot(1,3,1)\n",
    "    plt.imshow(img_arr, origin='lower', vmin=img_arr.min(), vmax=img_arr.max(), cmap='gray', extent=(0,w-1, 0, h-1), interpolation='none')\n",
    "\n",
    "\n",
    "    plt.subplot(1,3,2)\n",
    "    plt.imshow(mask_arr, origin='lower',  vmin=0, vmax=mask_arr.max(), cmap=cm, extent=(0,w-1, 0, h-1), interpolation='none')\n",
    "\n",
    "\n",
    "    plt.subplot(1,3,3)\n",
    "    layer_mask = mask_arr.copy()\n",
    "    layer_mask = np.ma.masked_where(layer_mask==0, layer_mask)\n",
    "    plt.imshow(img_arr, origin='lower', vmin=img_arr.min(), vmax=img_arr.max(), cmap='gray', extent=(0,w-1, 0, h-1), interpolation='none')\n",
    "    plt.imshow(layer_mask, origin='lower', alpha=0.3, vmin=0, vmax=mask_arr.max(), cmap=cm, extent=(0,w-1, 0, h-1), interpolation='none')\n",
    "    \n",
    "def visualize_dipoles_and_planes(stamp, source):\n",
    "    \n",
    "    plCak = source.getFootprint().getPeaks()\n",
    "    \n",
    "    w,h = stamp.getWidth(), stamp.getHeight()\n",
    "    img_arr, mask_arr, var_arr = stamp.getMaskedImage().getArrays()\n",
    "\n",
    "    plt.figure(figsize=(16,5))\n",
    "\n",
    "    plt.subplot(1,2,1)\n",
    "    plt.imshow(img_arr, origin='lower', vmin=img_arr.min(), vmax=img_arr.max(), cmap='gray', extent=(0,w-1, 0, h-1), interpolation='none')\n",
    "\n",
    "    for pk in pkCat:\n",
    "        if pk.getPeakValue() < 0:\n",
    "            plt.plot(pk.getIx()-stamp.getX0(), pk.getIy()-stamp.getY0(), 'bo')\n",
    "        else:\n",
    "            plt.plot(pk.getIx()-stamp.getX0(), pk.getIy()-stamp.getY0(), 'ro')\n",
    "\n",
    "    plt.subplot(1,2,2)\n",
    "    im = plt.imshow(mask_arr, origin='lower', vmin=0, vmax=100, cmap=cm, extent=(0,w-1, 0, h-1), interpolation='none')\n",
    "    \n",
    "def photo_dipole(photo_prop):\n",
    "    return photo_prop[1] < 0.66 and photo_prop[2] < 0.66\n",
    "\n",
    "def geom_dipole(geom_prop):\n",
    "    return geom_prop[0]<0.33\n"
   ]
  },
  {
   "cell_type": "markdown",
   "metadata": {},
   "source": [
    "This part is <b>very important</b>. Detection and measurement tasks are going to use the same schema, which is gonna be modified to contain all measurement fields upon the task instantiation. Not doing the task instantiation before running the measurement is going to cause errors. You've been warned"
   ]
  },
  {
   "cell_type": "code",
   "execution_count": 8,
   "metadata": {
    "collapsed": false
   },
   "outputs": [],
   "source": [
    "algMetadata = dafBase.PropertyList()\n",
    "schema = afwTable.SourceTable.makeMinimalSchema()\n",
    "\n",
    "dipoleMeasurement = DipoleMeasurementTask\n",
    "\n",
    "config = dipoleMeasurement.ConfigClass()\n",
    "dipoleMeasurement = dipoleMeasurement(schema, algMetadata=algMetadata)"
   ]
  },
  {
   "cell_type": "markdown",
   "metadata": {},
   "source": [
    "In-disk path to dataset"
   ]
  },
  {
   "cell_type": "code",
   "execution_count": 9,
   "metadata": {
    "collapsed": true
   },
   "outputs": [],
   "source": [
    "DATADIR=\"/renoir_data_02/jpreyes/lsst_data/CFHTLS_master/\"\n",
    "butler = dafPersist.Butler(DATADIR+\"/output\")\n",
    "diffExp1 = butler.get(\"deepDiff_differenceExp\", {'visit': 849687 , 'filter':'r' , 'ccd':14})\n",
    "diaSrcs1 = butler.get(\"deepDiff_diaSrc\", {'visit': 849687 , 'filter':'r' , 'ccd':14})"
   ]
  },
  {
   "cell_type": "markdown",
   "metadata": {},
   "source": [
    "Background subtraction function"
   ]
  },
  {
   "cell_type": "markdown",
   "metadata": {
    "collapsed": false
   },
   "source": [
    "These lines allow to calculate the psf for the image. However, if the background is transformed into an array and the standard deviation is calculated, the sigma value is going to be different."
   ]
  },
  {
   "cell_type": "code",
   "execution_count": 10,
   "metadata": {
    "collapsed": false
   },
   "outputs": [],
   "source": [
    "bg, ex = SubtractBackground(diffExp1)\n",
    "psf = diffExp1.getPsf()\n",
    "shape = psf.computeShape()\n",
    "sigma = shape.getDeterminantRadius()\n"
   ]
  },
  {
   "cell_type": "markdown",
   "metadata": {},
   "source": [
    "First test to detect sources on a difference image at treshold $4\\sigma$"
   ]
  },
  {
   "cell_type": "code",
   "execution_count": 11,
   "metadata": {
    "collapsed": false
   },
   "outputs": [
    {
     "name": "stdout",
     "output_type": "stream",
     "text": [
      "3327\n"
     ]
    }
   ],
   "source": [
    "threshold=4\n",
    "\n",
    "\n",
    "table = afwTable.SourceTable.make(schema)\n",
    "table.setMetadata(algMetadata)\n",
    "\n",
    "config = SourceDetectionTask.ConfigClass()\n",
    "config.thresholdPolarity = \"both\"\n",
    "config.thresholdValue = threshold\n",
    "config.reEstimateBackground = False\n",
    "config.thresholdType = \"pixel_stdev\"\n",
    "\n",
    "detectionTask = SourceDetectionTask(config=config, schema=schema)\n",
    "table = afwTable.SourceTable.make(schema)\n",
    "results = detectionTask.makeSourceCatalog(table=table, exposure=diffExp1 , doSmooth=False )\n",
    "\n",
    "print len(results.sources)"
   ]
  },
  {
   "cell_type": "markdown",
   "metadata": {},
   "source": [
    "Merging of contiguous sources via footprints."
   ]
  },
  {
   "cell_type": "code",
   "execution_count": 12,
   "metadata": {
    "collapsed": false
   },
   "outputs": [],
   "source": [
    "fpSet = results.fpSets.positive\n",
    "fpSet.merge(results.fpSets.negative, 2,\n",
    "            2, False)\n",
    "diaSources = afwTable.SourceCatalog(table)\n",
    "fpSet.makeSources(diaSources)\n"
   ]
  },
  {
   "cell_type": "markdown",
   "metadata": {},
   "source": [
    "Sources are measured. Some of the diaSources are going to have NaN coordinates. We have to remove them manually (for now)"
   ]
  },
  {
   "cell_type": "code",
   "execution_count": 13,
   "metadata": {
    "collapsed": false
   },
   "outputs": [],
   "source": [
    "dipoleMeasurement.run(diaSources, diffExp1)\n",
    "ds = remove_nan_sources(diaSources)"
   ]
  },
  {
   "cell_type": "markdown",
   "metadata": {},
   "source": [
    "## Part 2:  DIASource detection and measurement in the field."
   ]
  },
  {
   "cell_type": "markdown",
   "metadata": {},
   "source": [
    "Set of useful methods to automatize the whole process."
   ]
  },
  {
   "cell_type": "markdown",
   "metadata": {},
   "source": [
    "The visit is a hard-coded value. This loop runs over all ccds for the given visit, detect the DIASources on the difference image, remove the DIASources with NaN coordinates and perform the measurement.\n",
    "\n",
    "A list of catalogs is generated by varying the $\\sigma$ multiple for the detection."
   ]
  },
  {
   "cell_type": "code",
   "execution_count": 187,
   "metadata": {
    "collapsed": false
   },
   "outputs": [
    {
     "name": "stdout",
     "output_type": "stream",
     "text": [
      "float division by zero\n"
     ]
    }
   ],
   "source": [
    "visit = 849687\n",
    "filter = 'r'\n",
    "\n",
    "source_catalogs = [None, None, None]\n",
    "\n",
    "ccds = butler.queryMetadata(\"deepDiff_differenceExp\", format=['ccd'],dataId={'filter':filter})\n",
    "\n",
    "#ccds = [14,15]\n",
    "\n",
    "for ccd in ccds:\n",
    "\n",
    "        if butler.datasetExists(\"deepDiff_differenceExp\", {'visit': visit , 'filter':filter , 'ccd':ccd}):\n",
    "\n",
    "            diffExp = butler.get(\"deepDiff_differenceExp\", {'visit': visit , 'filter':filter , 'ccd':ccd})\n",
    "            \n",
    "            \n",
    "            \n",
    "            for i in range(4,7):\n",
    "                    try:\n",
    "                        results = DSTools.detect_diasources(diffExp, doSmooth=False, threshold=i)\n",
    "                        diaSources = merge_sources(results)\n",
    "                        dipoleMeasurement.run(diaSources, diffExp)\n",
    "                        diaSources = remove_nan_sources(diaSources)\n",
    "\n",
    "                        if source_catalogs[i-4] == None:\n",
    "                            source_catalogs[i-4] = diaSources\n",
    "                        else:\n",
    "                            source_catalogs[i-4].extend(diaSources)\n",
    "                    except Exception, e:\n",
    "                        print e\n"
   ]
  },
  {
   "cell_type": "markdown",
   "metadata": {},
   "source": [
    "The next group of text requires to choose one catalog. In this case, we chose the catalog for the sources detected above $6\\sigma$"
   ]
  },
  {
   "cell_type": "code",
   "execution_count": 63,
   "metadata": {
    "collapsed": false
   },
   "outputs": [
    {
     "name": "stdout",
     "output_type": "stream",
     "text": [
      "1.83352084006\n"
     ]
    }
   ],
   "source": [
    "catalog_s5 = source_catalogs[2]\n",
    "\n",
    "source = random.choice(catalog_s5)\n",
    " \n",
    "stamp, center = get_source_stamp(source, visit, ccds, offset=10)"
   ]
  },
  {
   "cell_type": "markdown",
   "metadata": {},
   "source": [
    "This code shows the different stamps, from the original image (footprints with sources detected above $5.5\\sigma$), then the image with their saved footprint and finally the footprint determination on the stamp isolated."
   ]
  },
  {
   "cell_type": "code",
   "execution_count": 56,
   "metadata": {
    "collapsed": false
   },
   "outputs": [],
   "source": [
    "\n",
    "\n",
    "if stamp is not None:\n",
    "    ds9.mtv(stamp, frame=1)\n",
    "    ds9.dot('+', center.getX(), center.getY(), ctype=ds9.RED, frame=1)\n",
    "    \n",
    "\n",
    "mi = stamp.clone().getMaskedImage()\n",
    "mask = mi.getMask()\n",
    "\n",
    "mask &= (~mask.getPlaneBitMask(\"DETECTED\"))\n",
    "mask &= (~mask.getPlaneBitMask(\"DETECTED_NEGATIVE\"))\n",
    "\n",
    "fp = source.getFootprint()\n",
    "\n",
    "mplane = mask.addMaskPlane(\"CORR_DETECTED\")\n",
    "\n",
    "w = stamp.getWidth()\n",
    "h = stamp.getHeight()\n",
    "\n",
    "for i in range(w):\n",
    "    for j in range (h):\n",
    "        if fp.contains(afwGeom.Point2I(i+stamp.getX0(),j+stamp.getY0())):\n",
    "            #print True\n",
    "            mask[i,j] = mplane\n",
    "            \n",
    "ds9.mtv(stamp, frame=2)\n",
    "ds9.dot('+', center.getX(), center.getY(), ctype=ds9.RED, frame=2)\n",
    "\n",
    "mask &= (~mask.getPlaneBitMask(\"CORR_DETECTED\"))\n",
    "\n",
    "stamp_clone = stamp.clone()\n",
    "results = DSTools.detect_diasources(stamp_clone, doSmooth=False,threshold=6)\n",
    "\n",
    "\n",
    "ds9.mtv(stamp_clone, frame=3)"
   ]
  },
  {
   "cell_type": "code",
   "execution_count": 195,
   "metadata": {
    "collapsed": false
   },
   "outputs": [
    {
     "name": "stdout",
     "output_type": "stream",
     "text": [
      "ds9 doesn't appear to be running (XPA: XPA returned NULL, (;iconify no; raise)), I'll try to exec it for you\n"
     ]
    }
   ],
   "source": [
    "ds9.mtv(stamp)"
   ]
  },
  {
   "cell_type": "code",
   "execution_count": 74,
   "metadata": {
    "collapsed": false
   },
   "outputs": [
    {
     "data": {
      "image/png": "[encoded data removed]",
      "text/plain": [
       "<matplotlib.figure.Figure at 0x7fdd68a93e10>"
      ]
     },
     "metadata": {},
     "output_type": "display_data"
    },
    {
     "data": {
      "image/png": "[encoded data removed]",
      "text/plain": [
       "<matplotlib.figure.Figure at 0x7fddd52a5390>"
      ]
     },
     "metadata": {},
     "output_type": "display_data"
    },
    {
     "data": {
      "image/png": "[encoded data removed]",
      "text/plain": [
       "<matplotlib.figure.Figure at 0x7fddd2d25b50>"
      ]
     },
     "metadata": {},
     "output_type": "display_data"
    }
   ],
   "source": [
    "reload(DSTools)\n",
    "\n",
    "img_arr, mask_arr, var_arr = stamp.getMaskedImage().getArrays()\n",
    "\n",
    "show_stamps(stamp, title=\"Recalculated footprints at sigma=5.5\")\n",
    "\n",
    "\n",
    "stamp_clone = stamp.clone()\n",
    "results = DSTools.detect_diasources(stamp_clone, doSmooth=False,threshold=6)\n",
    "img_arr, mask_arr, var_arr = stamp_clone.getMaskedImage().getArrays()\n",
    "\n",
    "show_stamps(stamp_clone, title=\"Recalculated footprints at sigma=6\")\n",
    "\n",
    "\n",
    "\n",
    "stamp_clone = stamp.clone()\n",
    "mi = stamp_clone.getMaskedImage()\n",
    "mask = mi.getMask()\n",
    "mask &= (~mask.getPlaneBitMask(\"DETECTED\"))\n",
    "mask &= (~mask.getPlaneBitMask(\"DETECTED_NEGATIVE\"))\n",
    "fp = source.getFootprint()\n",
    "mplane = mask.addMaskPlane(\"CORR_DETECTED\")\n",
    "w = stamp.getWidth()\n",
    "h = stamp.getHeight()\n",
    "for i in range(w):\n",
    "    for j in range (h):\n",
    "        if fp.contains(afwGeom.Point2I(i+stamp.getX0(),j+stamp.getY0())):\n",
    "            #print True\n",
    "            mask[i,j] = mplane\n",
    "    \n",
    "show_stamps(stamp_clone, title=\"Total footprints at sigma=6\")"
   ]
  },
  {
   "cell_type": "markdown",
   "metadata": {},
   "source": [
    "\n",
    "\n",
    "## Part 3: Characterization Tests"
   ]
  },
  {
   "cell_type": "markdown",
   "metadata": {},
   "source": [
    "This intends to test some hypothesis to improve the number of detected DIASources. We start by calculating the DIASources on one CCD, again."
   ]
  },
  {
   "cell_type": "code",
   "execution_count": null,
   "metadata": {
    "collapsed": true
   },
   "outputs": [],
   "source": [
    "\n",
    "\n",
    "diffExp = butler.get(\"deepDiff_differenceExp\", {'visit': visit , 'filter':filter , 'ccd':14})\n",
    "            \n",
    "            \n",
    "            \n",
    "for i in range(4,7):\n",
    "        try:\n",
    "            results = DSTools.detect_diasources(diffExp, doSmooth=False, threshold=i)\n",
    "            diaSources = merge_sources(results)\n",
    "            dipoleMeasurement.run(diaSources, diffExp)\n",
    "            diaSources = remove_nan_sources(diaSources)\n",
    "\n",
    "            if source_catalogs[i-4] == None:\n",
    "                source_catalogs[i-4] = diaSources\n",
    "            else:\n",
    "                source_catalogs[i-4].extend(diaSources)\n",
    "        except Exception, e:\n",
    "            print e\n"
   ]
  },
  {
   "cell_type": "markdown",
   "metadata": {},
   "source": [
    "Here we calculate the $\\sigma$ of the background"
   ]
  },
  {
   "cell_type": "code",
   "execution_count": null,
   "metadata": {
    "collapsed": false
   },
   "outputs": [],
   "source": [
    "bkg, exp = SubtractBackground(diffExp)\n",
    "\n",
    "arr = bkg.getImageF().getArray()\n",
    "sigma = np.std(arr)"
   ]
  },
  {
   "cell_type": "markdown",
   "metadata": {},
   "source": [
    "Then, we threshold the pixels whose absolute values are higher than $6\\sigma$"
   ]
  },
  {
   "cell_type": "code",
   "execution_count": null,
   "metadata": {
    "collapsed": false
   },
   "outputs": [],
   "source": [
    "t =sigma*6\n",
    "\n",
    "stamp_th = diffExp.clone()\n",
    "\n",
    "stamp_im = stamp_th.getMaskedImage().getImage()\n",
    "im = stamp_im.getArray()\n",
    "for x in range(stamp_im.getWidth()):\n",
    "    for y in range(stamp_im.getHeight()):\n",
    "        if np.abs(stamp_im.get(x,y)) > t:\n",
    "            stamp_im.set(x,y,1)\n",
    "        else:\n",
    "            stamp_im.set(x,y,0)\n",
    "            \n",
    "            \n",
    "ds9.mtv(stamp_im, frame=5)"
   ]
  },
  {
   "cell_type": "code",
   "execution_count": null,
   "metadata": {
    "collapsed": true
   },
   "outputs": [],
   "source": [
    "ds9.mtv(diffExp, frame=6)"
   ]
  },
  {
   "cell_type": "code",
   "execution_count": null,
   "metadata": {
    "collapsed": false
   },
   "outputs": [],
   "source": [
    "import skimage\n",
    "from skimage import measure\n",
    "from skimage import data\n",
    "from skimage import filters\n",
    "from scipy import ndimage\n",
    "from skimage.measure import regionprops"
   ]
  },
  {
   "cell_type": "markdown",
   "metadata": {},
   "source": [
    "We use scikit-image and ndimage to perform an erosion to delete all the little fluctuations and then label the different connected components. We then measure the centroids and save the results"
   ]
  },
  {
   "cell_type": "code",
   "execution_count": null,
   "metadata": {
    "collapsed": false
   },
   "outputs": [],
   "source": [
    "\n",
    "blobs = stamp_im.getArray()\n",
    "res = ndimage.binary_opening(blobs, np.ones((3,3)).astype(np.int))"
   ]
  },
  {
   "cell_type": "code",
   "execution_count": null,
   "metadata": {
    "collapsed": false
   },
   "outputs": [],
   "source": [
    "\n",
    "all_labels = measure.label(res)\n",
    "blobs_labels, lab_num = measure.label(res, background=0, return_num = True)\n",
    "regions = regionprops(blobs_labels)"
   ]
  },
  {
   "cell_type": "code",
   "execution_count": null,
   "metadata": {
    "collapsed": false
   },
   "outputs": [],
   "source": [
    "ds9.mtv(diffExp, frame=1)\n",
    "for props in regions:\n",
    "    y0,x0 = props.centroid\n",
    "    ds9.dot('+', x0, y0, size=50, ctype=ds9.RED, frame=1)\n",
    "    "
   ]
  },
  {
   "cell_type": "code",
   "execution_count": null,
   "metadata": {
    "collapsed": false
   },
   "outputs": [],
   "source": [
    "for diaSrc in diaSources:\n",
    "    ds9.dot('o', diaSrc.getX(), diaSrc.getY(), size=20, ctype=ds9.BLUE, frame=1)"
   ]
  },
  {
   "cell_type": "markdown",
   "metadata": {},
   "source": [
    "Qualitative comparisons show some differences. The number of sources detected after this is lower, but there are some artifacts worth considering."
   ]
  },
  {
   "cell_type": "code",
   "execution_count": null,
   "metadata": {
    "collapsed": false
   },
   "outputs": [],
   "source": [
    "print len(diaSources)\n",
    "print lab_num"
   ]
  },
  {
   "cell_type": "markdown",
   "metadata": {},
   "source": [
    "Some visualizations of the results"
   ]
  },
  {
   "cell_type": "code",
   "execution_count": null,
   "metadata": {
    "collapsed": false
   },
   "outputs": [],
   "source": [
    "plt.figure(figsize=(30,15))\n",
    "\n",
    "plt.imshow(blobs_labels)"
   ]
  },
  {
   "cell_type": "code",
   "execution_count": null,
   "metadata": {
    "collapsed": false
   },
   "outputs": [],
   "source": [
    "import matplotlib.pyplot as plt\n",
    "\n",
    "\n",
    "\n",
    "fig, ax = plt.subplots(figsize=(30,15))\n",
    "\n",
    "\n",
    "ax.imshow(blobs_labels) \n",
    "for props in regions:\n",
    "    y0,x0 = props.centroid\n",
    "    ax.plot(x0, y0, '.r', markersize=5)\n",
    "    \n",
    "\n",
    "plt.show()"
   ]
  },
  {
   "cell_type": "code",
   "execution_count": null,
   "metadata": {
    "collapsed": true
   },
   "outputs": [],
   "source": [
    "ds9.mtv(stamp_im, frame=5)"
   ]
  },
  {
   "cell_type": "markdown",
   "metadata": {},
   "source": [
    "## Dipole Tagging Test"
   ]
  },
  {
   "cell_type": "code",
   "execution_count": 196,
   "metadata": {
    "collapsed": false
   },
   "outputs": [
    {
     "name": "stderr",
     "output_type": "stream",
     "text": [
      "/renoir_data_00/fouchez/lsst/DM/stacks/lsstsw/2016-04-04/lsstsw/miniconda/lib/python2.7/site-packages/ipykernel/__main__.py:62: RuntimeWarning: invalid value encountered in greater\n",
      "/renoir_data_00/fouchez/lsst/DM/stacks/lsstsw/2016-04-04/lsstsw/miniconda/lib/python2.7/site-packages/ipykernel/__main__.py:67: RuntimeWarning: invalid value encountered in less\n"
     ]
    }
   ],
   "source": [
    "catalog_s6 = source_catalogs[2]\n",
    "\n",
    "classification = []\n",
    "\n",
    "for source in catalog_s6:\n",
    "    \n",
    "    stamp, center = get_source_stamp(source, visit, ccds, offset=10)\n",
    "    if stamp is not None:\n",
    "        stamp_clone = stamp.clone()\n",
    "        results = DSTools.detect_diasources(stamp_clone, doSmooth=False,threshold=6)\n",
    "\n",
    "\n",
    "        if len(results.fpSets.positive.getFootprints()) == 0 and len(results.fpSets.negative.getFootprints()) > 0:\n",
    "            classification.append(('Negative', source))\n",
    "        elif len(results.fpSets.positive.getFootprints()) > 0 and len(results.fpSets.negative.getFootprints()) == 0:\n",
    "            classification.append(('Positive', source))\n",
    "        else:\n",
    "            label = 'Dipole'\n",
    "            stamp_clone = stamp.clone()\n",
    "            results = DSTools.detect_diasources(stamp_clone, doSmooth=False,threshold=6)\n",
    "            photo, geom = get_dipole_lobes_metrics(stamp_clone)\n",
    "\n",
    "            p_dipole, g_dipole = photo_dipole(photo), geom_dipole(geom)\n",
    "\n",
    "            if p_dipole and g_dipole:\n",
    "                label = \"Dipole type I\"\n",
    "            elif p_dipole and not g_dipole:\n",
    "                label = \"Dipole type II\"\n",
    "            elif not p_dipole and g_dipole:\n",
    "                label = \"Fringe\"\n",
    "            else:\n",
    "                label = \"Artifact\"\n",
    "            classification.append((label, source))\n",
    "\n",
    "        \n",
    "    \n",
    "    #img_arr, mask_arr, var_arr = stamp_clone.getMaskedImage().getArrays()\n",
    "    \n",
    "    "
   ]
  },
  {
   "cell_type": "code",
   "execution_count": 204,
   "metadata": {
    "collapsed": false
   },
   "outputs": [],
   "source": [
    "objects = {}\n",
    "\n",
    "for label, src in classification:\n",
    "    if label in objects:\n",
    "        objects[label] += 1\n",
    "    else:\n",
    "        objects[label] = 1"
   ]
  },
  {
   "cell_type": "code",
   "execution_count": 213,
   "metadata": {
    "collapsed": false
   },
   "outputs": [
    {
     "data": {
      "text/plain": [
       "OrderedDict([('Positive', 1291),\n",
       "             ('Fringe', 656),\n",
       "             ('Dipole type I', 730),\n",
       "             ('Artifact', 227),\n",
       "             ('Dipole type II', 797),\n",
       "             ('key', <operator.itemgetter at 0x7fdd70f2f550>)])"
      ]
     },
     "execution_count": 213,
     "metadata": {},
     "output_type": "execute_result"
    }
   ],
   "source": [
    "o_objects"
   ]
  },
  {
   "cell_type": "code",
   "execution_count": 227,
   "metadata": {
    "collapsed": false
   },
   "outputs": [
    {
     "name": "stdout",
     "output_type": "stream",
     "text": [
      "OrderedDict([('Positive', 1291), ('Dipole type II', 797), ('Dipole type I', 730), ('Fringe', 656), ('Artifact', 227)])\n"
     ]
    },
    {
     "data": {
      "image/png": "[encoded data removed]",
      "text/plain": [
       "<matplotlib.figure.Figure at 0x7fddd300add0>"
      ]
     },
     "metadata": {},
     "output_type": "display_data"
    }
   ],
   "source": [
    "import collections\n",
    "from operator import itemgetter\n",
    "\n",
    "o_objects = collections.OrderedDict(sorted(objects.items(), key=itemgetter(1), reverse=True))\n",
    "print o_objects\n",
    "X = np.arange(len(o_objects))\n",
    "\n",
    "p = plt.bar(X, o_objects.values(), align='center')\n",
    "plt.xticks(X, o_objects.keys(), rotation=30)\n",
    "\n",
    "plt.xlabel(\"Label\")\n",
    "plt.ylabel(\"Number of objects\")\n",
    "for i, rect in enumerate(p):\n",
    "    plt.text(rect.get_x()+ rect.get_width()/3, rect.get_height()+10, int(rect.get_height()))\n",
    "\n",
    "plt.show()"
   ]
  },
  {
   "cell_type": "code",
   "execution_count": 240,
   "metadata": {
    "collapsed": false
   },
   "outputs": [
    {
     "name": "stdout",
     "output_type": "stream",
     "text": [
      "Dipole type I\n",
      "Artifact\n",
      "Positive\n"
     ]
    }
   ],
   "source": [
    "label, source = random.choice(classification)\n",
    "while label is not \"Positive\":\n",
    "    print label\n",
    "    label, source = random.choice(classification)\n",
    "print label    "
   ]
  },
  {
   "cell_type": "markdown",
   "metadata": {},
   "source": [
    "## Point-source detection"
   ]
  },
  {
   "cell_type": "code",
   "execution_count": 504,
   "metadata": {
    "collapsed": false
   },
   "outputs": [
    {
     "name": "stdout",
     "output_type": "stream",
     "text": [
      "Positive\n"
     ]
    },
    {
     "data": {
      "image/png": "[encoded data removed]",
      "text/plain": [
       "<matplotlib.figure.Figure at 0x7fdd7768cb10>"
      ]
     },
     "metadata": {},
     "output_type": "display_data"
    }
   ],
   "source": [
    "\n",
    "count = 0\n",
    "while count < 1:\n",
    "    label, source = random.choice(classification)\n",
    "    while label is not \"Positive\":\n",
    "        label, source = random.choice(classification)\n",
    "    print label\n",
    "        \n",
    "    stamp, center = get_source_stamp(source, visit, ccds, offset=10)\n",
    "    stamp_clone = stamp.clone()\n",
    "    results = DSTools.detect_diasources(stamp_clone, doSmooth=False,threshold=6)\n",
    "    show_stamps(stamp_clone, title=label)\n",
    "    count +=1"
   ]
  },
  {
   "cell_type": "code",
   "execution_count": 505,
   "metadata": {
    "collapsed": false
   },
   "outputs": [
    {
     "name": "stderr",
     "output_type": "stream",
     "text": [
      "/renoir_data_00/fouchez/lsst/DM/stacks/lsstsw/2016-04-04/lsstsw/miniconda/lib/python2.7/site-packages/skimage/filters/_gaussian.py:13: skimage_deprecation: Call to deprecated function ``gaussian_filter``. Use ``skimage.filters.gaussian`` instead.\n",
      "  multichannel=None):\n"
     ]
    },
    {
     "name": "stdout",
     "output_type": "stream",
     "text": [
      "(8.7580993213884231, 9.3637721596172447)\n",
      "8 7\n"
     ]
    },
    {
     "data": {
      "image/png": "[encoded data removed]",
      "text/plain": [
       "<matplotlib.figure.Figure at 0x7fdd770a5cd0>"
      ]
     },
     "metadata": {},
     "output_type": "display_data"
    }
   ],
   "source": [
    "img_arr, mask_arr, var_arr = stamp_clone.getMaskedImage().getArrays()\n",
    "\n",
    "import skimage\n",
    "from skimage import measure\n",
    "from skimage import data\n",
    "from skimage import filters\n",
    "from scipy import ndimage\n",
    "from skimage.measure import regionprops\n",
    "from skimage.measure import moments\n",
    "from skimage.measure import moments_central\n",
    "n=10\n",
    "l=256\n",
    "im = np.zeros((256, 256))\n",
    "points = l * np.random.random((2, n ** 2))\n",
    "im[(points[0]).astype(np.int), (points[1]).astype(np.int)] = 1\n",
    "im = filters.gaussian_filter(im, sigma=l / (4. * n))\n",
    "blobs = im > im.mean()\n",
    "w, h = stamp_clone.getWidth(), stamp_clone.getHeight()\n",
    "\n",
    "img_arr = img_arr.astype(float)\n",
    "m = moments(img_arr, order=1)\n",
    "\n",
    "#print m[0,1]/m[0,0], m[1,0]/m[0,0]\n",
    "\n",
    "plt.imshow(img_arr, origin='lower', vmin=img_arr.min(), vmax=img_arr.max(), cmap='gray',  interpolation='none', extent=(0,w,0,h))\n",
    "\n",
    "peaks = source.getFootprint().getPeaks()\n",
    "\n",
    "for pk in peaks:\n",
    "    plt.plot(pk.getIx()-stamp_clone.getX0(), pk.getIy()-stamp_clone.getY0(), 'bo')\n",
    "\n",
    "\n",
    "plt.plot(center.getX()-stamp_clone.getX0(), center.getY()-stamp_clone.getY0(), 'rx')\n",
    "\n",
    "\n",
    "#print stamp_clone.getX0()\n",
    "#print stamp_clone.getY0()\n",
    "#print source.getCentroid()\n",
    "\n",
    "m_c = moments_central(img_arr, center.getX()-stamp_clone.getX0(), center.getY()-stamp_clone.getY0(), order=2)\n",
    "\n",
    "cov = [[m_c[2,0]/m_c[0,0], m_c[1,1]/m_c[0,0]], [m_c[1,1]/m_c[0,0], m_c[0,2]/m_c[0,0]]]\n",
    "#print(np.matrix(cov))\n",
    "vals, vectors = np.linalg.eig(cov)\n",
    "\n",
    "print( 2*np.sqrt(vals[0]), 2*np.sqrt(vals[1])) \n",
    "print h/2, w/2"
   ]
  },
  {
   "cell_type": "code",
   "execution_count": 506,
   "metadata": {
    "collapsed": false
   },
   "outputs": [
    {
     "name": "stdout",
     "output_type": "stream",
     "text": [
      "(7.1512418183506536, 10.418504399643654)\n"
     ]
    },
    {
     "data": {
      "image/png": "[encoded data removed]",
      "text/plain": [
       "<matplotlib.figure.Figure at 0x7fdd778f4a90>"
      ]
     },
     "metadata": {},
     "output_type": "display_data"
    }
   ],
   "source": [
    "mean = np.mean(img_arr)\n",
    "std = np.std(img_arr)\n",
    "T_p = mean + 1*std\n",
    "T_n = mean - 1*std\n",
    "\n",
    "thresholding_n = img_arr > T_n\n",
    "thresholding_n = img_arr < T_p\n",
    "thresholding_p = img_arr < T_p\n",
    "thresholding = thresholding_p & thresholding_n\n",
    "w, h = stamp_clone.getWidth(), stamp_clone.getHeight()\n",
    "\n",
    "t_img_arr = img_arr.copy()\n",
    "t_img_arr[thresholding] = 0\n",
    "\n",
    "t_img_arr = t_img_arr.astype(float)\n",
    "\n",
    "plt.imshow(t_img_arr,  vmin=img_arr.min(), vmax=img_arr.max(), cmap='gray',  interpolation='none', extent=(0,w,0,h))\n",
    "\n",
    "m_c = moments_central(t_img_arr, center.getX()-stamp_clone.getX0(), center.getY()-stamp_clone.getY0(), order=2)\n",
    "#plt.plot(center.getX()-stamp_clone.getX0(), center.getY()-stamp_clone.getY0(), 'rx')\n",
    "\n",
    "cov = [[m_c[2,0]/m_c[0,0], m_c[1,1]/m_c[0,0]], [m_c[1,1]/m_c[0,0], m_c[0,2]/m_c[0,0]]]\n",
    "#print(np.matrix(cov))\n",
    "vals, vectors = np.linalg.eig(cov)\n",
    "\n",
    "print( 2*np.sqrt(vals[0]), 2*np.sqrt(vals[1])) "
   ]
  },
  {
   "cell_type": "markdown",
   "metadata": {},
   "source": [
    "## Other Visualizations"
   ]
  },
  {
   "cell_type": "code",
   "execution_count": 347,
   "metadata": {
    "collapsed": false
   },
   "outputs": [
    {
     "data": {
      "image/png": "[encoded data removed]",
      "text/plain": [
       "<matplotlib.figure.Figure at 0x7fdd78093350>"
      ]
     },
     "metadata": {},
     "output_type": "display_data"
    }
   ],
   "source": [
    "label, source = random.choice(classification)\n",
    "stamp, center = get_source_stamp(source, visit, ccds, offset=10)\n",
    "stamp_clone = stamp.clone()\n",
    "results = DSTools.detect_diasources(stamp_clone, doSmooth=False,threshold=6)\n",
    "show_stamps(stamp_clone, title=label)"
   ]
  },
  {
   "cell_type": "code",
   "execution_count": 186,
   "metadata": {
    "collapsed": false
   },
   "outputs": [
    {
     "data": {
      "image/png": "[encoded data removed]",
      "text/plain": [
       "<matplotlib.figure.Figure at 0x7fddd25a3790>"
      ]
     },
     "metadata": {},
     "output_type": "display_data"
    }
   ],
   "source": [
    "label, source = random.choice(classification)\n",
    "stamp, center = get_source_stamp(source, visit, ccds, offset=10)\n",
    "stamp_clone = stamp.clone()\n",
    "results = DSTools.detect_diasources(stamp_clone, doSmooth=False,threshold=6)\n",
    "show_stamps(stamp_clone, title=label)"
   ]
  },
  {
   "cell_type": "code",
   "execution_count": 88,
   "metadata": {
    "collapsed": false
   },
   "outputs": [
    {
     "name": "stdout",
     "output_type": "stream",
     "text": [
      "1.83352084006\n"
     ]
    },
    {
     "data": {
      "text/plain": [
       "([0.91741651, 0.96286631, 0.93988526],\n",
       " [0.3301818181818182, 0.45454545454545453, 0.5243636363636364])"
      ]
     },
     "execution_count": 88,
     "metadata": {},
     "output_type": "execute_result"
    },
    {
     "data": {
      "image/png": "[encoded data removed]",
      "text/plain": [
       "<matplotlib.figure.Figure at 0x7fddd5435290>"
      ]
     },
     "metadata": {},
     "output_type": "display_data"
    }
   ],
   "source": [
    "catalog_s6 = source_catalogs[2]\n",
    "source = random.choice(catalog_s6)\n",
    "stamp, center = get_source_stamp(source, visit, ccds, offset=10)\n",
    "stamp_clone = stamp.clone()\n",
    "results = DSTools.detect_diasources(stamp_clone, doSmooth=False,threshold=6)\n",
    "img_arr, mask_arr, var_arr = stamp_clone.getMaskedImage().getArrays()\n",
    "\n",
    "show_stamps(stamp_clone, title=\"Recalculated footprints at sigma=6\")\n",
    "\n",
    "get_dipole_lobes_metrics(stamp_clone)\n"
   ]
  },
  {
   "cell_type": "code",
   "execution_count": 122,
   "metadata": {
    "collapsed": false
   },
   "outputs": [
    {
     "name": "stdout",
     "output_type": "stream",
     "text": [
      "[0.93107057, 0.37557745, 0.62387079] [0.5089686098654709, 0.7006726457399103, 0.8082959641255605]\n",
      "Dipole type II\n"
     ]
    }
   ],
   "source": [
    "print photo, geom\n",
    "\n",
    "stamp_clone = stamp.clone()\n",
    "results = DSTools.detect_diasources(stamp_clone, doSmooth=False,threshold=6)\n",
    "photo, geom = get_dipole_lobes_metrics(stamp_clone)\n",
    "\n",
    "p_dipole, g_dipole = photo_dipole(photo), geom_dipole(geom)\n",
    "\n",
    "if p_dipole and geom_dipole(geom):\n",
    "    print \"Dipole type I\"\n",
    "elif p_dipole and not g_dipole:\n",
    "    print \"Dipole type II\"\n",
    "elif not p_dipole and g_dipole:\n",
    "    print \"Fringe\"\n",
    "else:\n",
    "    print \"Artifact\"\n"
   ]
  },
  {
   "cell_type": "code",
   "execution_count": 188,
   "metadata": {
    "collapsed": false
   },
   "outputs": [
    {
     "name": "stdout",
     "output_type": "stream",
     "text": [
      "3702\n"
     ]
    }
   ],
   "source": [
    "print(len(source_catalogs[2]))"
   ]
  },
  {
   "cell_type": "code",
   "execution_count": null,
   "metadata": {
    "collapsed": true
   },
   "outputs": [],
   "source": []
  }
 ],
 "metadata": {
  "kernelspec": {
   "display_name": "Python 2",
   "language": "python",
   "name": "python2"
  },
  "language_info": {
   "codemirror_mode": {
    "name": "ipython",
    "version": 2
   },
   "file_extension": ".py",
   "mimetype": "text/x-python",
   "name": "python",
   "nbconvert_exporter": "python",
   "pygments_lexer": "ipython2",
   "version": "2.7.12"
  }
 },
 "nbformat": 4,
 "nbformat_minor": 0
}
