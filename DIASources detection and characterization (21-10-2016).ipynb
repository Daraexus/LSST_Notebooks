{
 "cells": [
  {
   "cell_type": "markdown",
   "metadata": {},
   "source": [
    "# DIASources detection and characterization"
   ]
  },
  {
   "cell_type": "markdown",
   "metadata": {},
   "source": [
    "## PART 1:  DIASource detection and measurement in ONE CCD."
   ]
  },
  {
   "cell_type": "markdown",
   "metadata": {},
   "source": [
    "Obligatory imports"
   ]
  },
  {
   "cell_type": "code",
   "execution_count": 200,
   "metadata": {
    "collapsed": false
   },
   "outputs": [],
   "source": [
    "import pickle\n",
    "import sncosmo\n",
    "import numpy as np\n",
    "import lsst.daf.base as dafBase\n",
    "import lsst.daf.persistence as dafPersist\n",
    "\n",
    "import re\n",
    "\n",
    "import lsst.afw.display.ds9 as ds9\n",
    "\n",
    "import matplotlib.pyplot as plt\n",
    "\n",
    "from lsst.ip.diffim import ImagePsfMatchTask, DipoleMeasurementTask\n",
    "from lsst.meas.base import SingleFrameMeasurementConfig\n",
    "import lsst.afw.table as afwTable\n",
    "\n",
    "import lsst.daf.base as dafBase\n",
    "import DiaSourceTools as DSTools\n",
    "\n",
    "import lsst.meas.algorithms.detection as sDet\n",
    "import lsst.afw.image as afwImage\n",
    "\n",
    "from lsst.meas.algorithms.detection import SourceDetectionTask\n",
    "\n",
    "import lsst.afw.geom as afwGeom\n",
    "import random\n",
    "%matplotlib inline"
   ]
  },
  {
   "cell_type": "markdown",
   "metadata": {},
   "source": [
    "This part is <b>very important</b>. Detection and measurement tasks are going to use the same schema, which is gonna be modified to contain all measurement fields upon the task instantiation. Not doing the task instantiation before running the measurement is going to cause errors. You've been warned"
   ]
  },
  {
   "cell_type": "code",
   "execution_count": 139,
   "metadata": {
    "collapsed": true
   },
   "outputs": [],
   "source": [
    "algMetadata = dafBase.PropertyList()\n",
    "schema = afwTable.SourceTable.makeMinimalSchema()\n",
    "\n",
    "dipoleMeasurement = dipoleMeasurer.DipoleMeasurementTask\n",
    "config = dipoleMeasurement.ConfigClass()\n",
    "dipoleMeasurement = dipoleMeasurement(schema, algMetadata=algMetadata)"
   ]
  },
  {
   "cell_type": "markdown",
   "metadata": {},
   "source": [
    "In-disk path to dataset"
   ]
  },
  {
   "cell_type": "code",
   "execution_count": 140,
   "metadata": {
    "collapsed": true
   },
   "outputs": [],
   "source": [
    "DATADIR=\"/renoir_data_02/jpreyes/lsst_data/CFHTLS_master/\"\n",
    "butler = dafPersist.Butler(DATADIR+\"/output\")\n",
    "diffExp1 = butler.get(\"deepDiff_differenceExp\", {'visit': 849687 , 'filter':'r' , 'ccd':14})\n",
    "diaSrcs1 = butler.get(\"deepDiff_diaSrc\", {'visit': 849687 , 'filter':'r' , 'ccd':14})"
   ]
  },
  {
   "cell_type": "markdown",
   "metadata": {},
   "source": [
    "Background subtraction function"
   ]
  },
  {
   "cell_type": "code",
   "execution_count": 591,
   "metadata": {
    "collapsed": false
   },
   "outputs": [],
   "source": [
    "def SubtractBackground(exp):\n",
    "  \n",
    "    bgConf = sDet.BackgroundConfig()\n",
    "    background,Exp0 = sDet.estimateBackground(exp,bgConf,True)\n",
    "\n",
    "    return background, Exp0"
   ]
  },
  {
   "cell_type": "markdown",
   "metadata": {
    "collapsed": false
   },
   "source": [
    "These lines allow to calculate the psf for the image. However, if the background is transformed into an array and the standard deviation is calculated, the sigma value is going to be different."
   ]
  },
  {
   "cell_type": "code",
   "execution_count": 143,
   "metadata": {
    "collapsed": false
   },
   "outputs": [],
   "source": [
    "bg, ex = SubtractBackground(diffExp1)\n",
    "psf = diffExp1.getPsf()\n",
    "shape = psf.computeShape()\n",
    "sigma = shape.getDeterminantRadius()\n"
   ]
  },
  {
   "cell_type": "markdown",
   "metadata": {},
   "source": [
    "First test to detect sources on a difference image at treshold $4\\sigma$"
   ]
  },
  {
   "cell_type": "code",
   "execution_count": 144,
   "metadata": {
    "collapsed": false
   },
   "outputs": [
    {
     "name": "stdout",
     "output_type": "stream",
     "text": [
      "3327\n"
     ]
    }
   ],
   "source": [
    "threshold=4\n",
    "\n",
    "\n",
    "table = afwTable.SourceTable.make(schema)\n",
    "table.setMetadata(algMetadata)\n",
    "\n",
    "config = SourceDetectionTask.ConfigClass()\n",
    "config.thresholdPolarity = \"both\"\n",
    "config.thresholdValue = threshold\n",
    "config.reEstimateBackground = False\n",
    "config.thresholdType = \"pixel_stdev\"\n",
    "\n",
    "detectionTask = SourceDetectionTask(config=config, schema=schema)\n",
    "table = afwTable.SourceTable.make(schema)\n",
    "results = detectionTask.makeSourceCatalog(table=table, exposure=diffExp1 , doSmooth=False )\n",
    "\n",
    "print len(results.sources)"
   ]
  },
  {
   "cell_type": "markdown",
   "metadata": {},
   "source": [
    "Merging of contiguous sources via footprints."
   ]
  },
  {
   "cell_type": "code",
   "execution_count": 145,
   "metadata": {
    "collapsed": false
   },
   "outputs": [],
   "source": [
    "fpSet = results.fpSets.positive\n",
    "fpSet.merge(results.fpSets.negative, 2,\n",
    "            2, False)\n",
    "diaSources = afwTable.SourceCatalog(table)\n",
    "fpSet.makeSources(diaSources)\n"
   ]
  },
  {
   "cell_type": "markdown",
   "metadata": {},
   "source": [
    "Sources are measured. Some of the diaSources are going to have NaN coordinates. We have to remove them manually (for now)"
   ]
  },
  {
   "cell_type": "code",
   "execution_count": 146,
   "metadata": {
    "collapsed": false
   },
   "outputs": [],
   "source": [
    "dipoleMeasurement.run(diaSources, diffExp1)\n",
    "ds = remove_nan_sources(diaSources)"
   ]
  },
  {
   "cell_type": "markdown",
   "metadata": {},
   "source": [
    "## Part 2:  DIASource detection and measurement in the field."
   ]
  },
  {
   "cell_type": "markdown",
   "metadata": {},
   "source": [
    "Set of useful methods to automatize the whole process."
   ]
  },
  {
   "cell_type": "code",
   "execution_count": 464,
   "metadata": {
    "collapsed": false
   },
   "outputs": [],
   "source": [
    "def merge_sources(results):\n",
    "    fpSet = results.fpSets.positive\n",
    "    fpSet.merge(results.fpSets.negative, 2, 2, False)\n",
    "    diaSources = afwTable.SourceCatalog(table)\n",
    "    fpSet.makeSources(diaSources)\n",
    "    return diaSources\n",
    "\n",
    "def remove_nan_sources(diaSources):\n",
    "    c_diaSources = diaSources.copy()\n",
    "    c_diaSources.clear()\n",
    "    for diaSrc in diaSources:\n",
    "        val = diaSrc.get(\"coord_ra\").asArcseconds()\n",
    "        if np.isnan(val) == False:\n",
    "            c_diaSources.append(diaSrc)\n",
    "        \n",
    "    return c_diaSources\n",
    "\n",
    "def get_source_stamp(src, visit, ccds, offset=0):\n",
    "    \n",
    "    for ccd in ccds:\n",
    "\n",
    "        if butler.datasetExists(\"deepDiff_differenceExp\", {'visit': visit , 'filter':filter , 'ccd':ccd}):\n",
    "\n",
    "            diffExp = butler.get(\"deepDiff_differenceExp\", {'visit': visit , 'filter':filter , 'ccd':ccd})\n",
    "            bbox = diffExp.getBBox()\n",
    "            wcs = diffExp.getWcs()\n",
    "            \n",
    "            c = afwGeom.Point2I(wcs.skyToPixel(src.getRa(), src.getDec()))\n",
    "            \n",
    "            if bbox.contains(c):\n",
    "                psf = diffExp.getPsf()\n",
    "                shape = psf.computeShape()\n",
    "                sigma = shape.getDeterminantRadius()\n",
    "                print sigma\n",
    "                \n",
    "                return DSTools.get_stamp(src, diffExp, offset=offset), c\n",
    "            \n",
    "    return None, None  "
   ]
  },
  {
   "cell_type": "markdown",
   "metadata": {},
   "source": [
    "The visit is a hard-coded value. This loop runs over all ccds for the given visit, detect the DIASources on the difference image, remove the DIASources with NaN coordinates and perform the measurement.\n",
    "\n",
    "A list of catalogs is generated by varying the $\\sigma$ multiple for the detection."
   ]
  },
  {
   "cell_type": "code",
   "execution_count": null,
   "metadata": {
    "collapsed": false
   },
   "outputs": [
    {
     "name": "stdout",
     "output_type": "stream",
     "text": [
      "float division by zero\n"
     ]
    }
   ],
   "source": [
    "visit = 849687\n",
    "filter = 'r'\n",
    "\n",
    "source_catalogs = [None, None, None]\n",
    "\n",
    "ccds = butler.queryMetadata(\"deepDiff_differenceExp\", format=['ccd'],dataId={'filter':filter})\n",
    "\n",
    "#ccds = [14,15, 16, 17]\n",
    "\n",
    "for ccd in ccds:\n",
    "\n",
    "        if butler.datasetExists(\"deepDiff_differenceExp\", {'visit': visit , 'filter':filter , 'ccd':ccd}):\n",
    "\n",
    "            diffExp = butler.get(\"deepDiff_differenceExp\", {'visit': visit , 'filter':filter , 'ccd':ccd})\n",
    "            \n",
    "            \n",
    "            \n",
    "            for i in range(4,7):\n",
    "                    try:\n",
    "                        results = DSTools.detect_diasources(diffExp, doSmooth=False, threshold=i)\n",
    "                        diaSources = merge_sources(results)\n",
    "                        dipoleMeasurement.run(diaSources, diffExp)\n",
    "                        diaSources = remove_nan_sources(diaSources)\n",
    "\n",
    "                        if source_catalogs[i-4] == None:\n",
    "                            source_catalogs[i-4] = diaSources\n",
    "                        else:\n",
    "                            source_catalogs[i-4].extend(diaSources)\n",
    "                    except Exception, e:\n",
    "                        print e\n"
   ]
  },
  {
   "cell_type": "markdown",
   "metadata": {},
   "source": [
    "The next group of text requires to choose one catalog. In this case, we chose the catalog for the sources detected above $6\\sigma$"
   ]
  },
  {
   "cell_type": "code",
   "execution_count": 551,
   "metadata": {
    "collapsed": true
   },
   "outputs": [],
   "source": [
    "catalog_s5 = source_catalogs[2]\n",
    "\n",
    "source = random.choice(catalog_5)\n",
    " "
   ]
  },
  {
   "cell_type": "markdown",
   "metadata": {},
   "source": [
    "This code shows the different stamps, from the original image (footprints with sources detected above $5.5/sigma$), then the image with their saved footprint and finally the footprint determination on the stamp isolated."
   ]
  },
  {
   "cell_type": "code",
   "execution_count": 552,
   "metadata": {
    "collapsed": false
   },
   "outputs": [
    {
     "name": "stdout",
     "output_type": "stream",
     "text": [
      "1.78846662059\n",
      "Box2I((982, 72), (1015, 105)) Box2I((992, 82), (1004, 94))\n"
     ]
    }
   ],
   "source": [
    "stamp, center = get_source_stamp(source, visit, ccds, offset=10)\n",
    "\n",
    "if stamp is not None:\n",
    "    ds9.mtv(stamp, frame=1)\n",
    "    ds9.dot('+', center.getX(), center.getY(), ctype=ds9.RED, frame=1)\n",
    "    \n",
    "\n",
    "mi = stamp.clone().getMaskedImage()\n",
    "mask = mi.getMask()\n",
    "\n",
    "mask &= (~mask.getPlaneBitMask(\"DETECTED\"))\n",
    "mask &= (~mask.getPlaneBitMask(\"DETECTED_NEGATIVE\"))\n",
    "\n",
    "fp = source.getFootprint()\n",
    "\n",
    "mplane = mask.addMaskPlane(\"CORR_DETECTED\")\n",
    "\n",
    "w = stamp.getWidth()\n",
    "h = stamp.getHeight()\n",
    "\n",
    "for i in range(w):\n",
    "    for j in range (h):\n",
    "        if fp.contains(afwGeom.Point2I(i+stamp.getX0(),j+stamp.getY0())):\n",
    "            #print True\n",
    "            mask[i,j] = mplane\n",
    "            \n",
    "ds9.mtv(stamp, frame=2)\n",
    "ds9.dot('+', center.getX(), center.getY(), ctype=ds9.RED, frame=2)\n",
    "\n",
    "mask &= (~mask.getPlaneBitMask(\"CORR_DETECTED\"))\n",
    "\n",
    "stamp_clone = stamp.clone()\n",
    "results = DSTools.detect_diasources(stamp_clone, doSmooth=False,threshold=5)\n",
    "\n",
    "ds9.mtv(stamp_clone, frame=3)"
   ]
  },
  {
   "cell_type": "markdown",
   "metadata": {},
   "source": [
    "## Part 3: Characterization Tests"
   ]
  },
  {
   "cell_type": "markdown",
   "metadata": {},
   "source": [
    "This intends to test some hypothesis to improve the number of detected DIASources. We start by calculating the DIASources on one CCD, again."
   ]
  },
  {
   "cell_type": "code",
   "execution_count": 579,
   "metadata": {
    "collapsed": true
   },
   "outputs": [],
   "source": [
    "\n",
    "\n",
    "diffExp = butler.get(\"deepDiff_differenceExp\", {'visit': visit , 'filter':filter , 'ccd':14})\n",
    "            \n",
    "            \n",
    "            \n",
    "for i in range(4,7):\n",
    "        try:\n",
    "            results = DSTools.detect_diasources(diffExp, doSmooth=False, threshold=i)\n",
    "            diaSources = merge_sources(results)\n",
    "            dipoleMeasurement.run(diaSources, diffExp)\n",
    "            diaSources = remove_nan_sources(diaSources)\n",
    "\n",
    "            if source_catalogs[i-4] == None:\n",
    "                source_catalogs[i-4] = diaSources\n",
    "            else:\n",
    "                source_catalogs[i-4].extend(diaSources)\n",
    "        except Exception, e:\n",
    "            print e\n"
   ]
  },
  {
   "cell_type": "markdown",
   "metadata": {},
   "source": [
    "Here we calculate the $\\sigma$ of the background"
   ]
  },
  {
   "cell_type": "code",
   "execution_count": 595,
   "metadata": {
    "collapsed": false
   },
   "outputs": [
    {
     "name": "stdout",
     "output_type": "stream",
     "text": [
      "7.28939\n"
     ]
    }
   ],
   "source": [
    "bkg, exp = SubtractBackground(diffExp)\n",
    "\n",
    "arr = bkg.getImageF().getArray()\n",
    "sigma = np.std(arr)"
   ]
  },
  {
   "cell_type": "markdown",
   "metadata": {},
   "source": [
    "Then, we threshold the pixels whose absolute values are higher than $6\\sigma$"
   ]
  },
  {
   "cell_type": "code",
   "execution_count": 596,
   "metadata": {
    "collapsed": false
   },
   "outputs": [
    {
     "name": "stdout",
     "output_type": "stream",
     "text": [
      "ds9 doesn't appear to be running (XPA: XPA returned NULL, (;iconify no; raise)), I'll try to exec it for you\n"
     ]
    }
   ],
   "source": [
    "t =sigma*6\n",
    "\n",
    "stamp_th = diffExp.clone()\n",
    "\n",
    "stamp_im = stamp_th.getMaskedImage().getImage()\n",
    "im = stamp_im.getArray()\n",
    "for x in range(stamp_im.getWidth()):\n",
    "    for y in range(stamp_im.getHeight()):\n",
    "        if np.abs(stamp_im.get(x,y)) > t:\n",
    "            stamp_im.set(x,y,1)\n",
    "        else:\n",
    "            stamp_im.set(x,y,0)\n",
    "            \n",
    "            \n",
    "ds9.mtv(stamp_im, frame=5)"
   ]
  },
  {
   "cell_type": "code",
   "execution_count": 581,
   "metadata": {
    "collapsed": true
   },
   "outputs": [],
   "source": [
    "ds9.mtv(diffExp, frame=6)"
   ]
  },
  {
   "cell_type": "code",
   "execution_count": 597,
   "metadata": {
    "collapsed": false
   },
   "outputs": [],
   "source": [
    "import skimage\n",
    "from skimage import measure\n",
    "from skimage import data\n",
    "from skimage import filters\n",
    "from scipy import ndimage\n",
    "from skimage.measure import regionprops"
   ]
  },
  {
   "cell_type": "markdown",
   "metadata": {},
   "source": [
    "We use scikit-image and ndimage to perform an erosion to delete all the little fluctuations and then label the different connected components. We then measure the centroids and save the results"
   ]
  },
  {
   "cell_type": "code",
   "execution_count": 598,
   "metadata": {
    "collapsed": false
   },
   "outputs": [],
   "source": [
    "\n",
    "blobs = stamp_im.getArray()\n",
    "res = ndimage.binary_opening(blobs, np.ones((3,3)).astype(np.int))"
   ]
  },
  {
   "cell_type": "code",
   "execution_count": 599,
   "metadata": {
    "collapsed": false
   },
   "outputs": [],
   "source": [
    "\n",
    "all_labels = measure.label(res)\n",
    "blobs_labels, lab_num = measure.label(res, background=0, return_num = True)\n",
    "regions = regionprops(blobs_labels)"
   ]
  },
  {
   "cell_type": "code",
   "execution_count": 600,
   "metadata": {
    "collapsed": false
   },
   "outputs": [],
   "source": [
    "ds9.mtv(diffExp, frame=1)\n",
    "for props in regions:\n",
    "    y0,x0 = props.centroid\n",
    "    ds9.dot('+', x0, y0, size=50, ctype=ds9.RED, frame=1)\n",
    "    "
   ]
  },
  {
   "cell_type": "code",
   "execution_count": 601,
   "metadata": {
    "collapsed": false
   },
   "outputs": [],
   "source": [
    "for diaSrc in diaSources:\n",
    "    ds9.dot('o', diaSrc.getX(), diaSrc.getY(), size=20, ctype=ds9.BLUE, frame=1)"
   ]
  },
  {
   "cell_type": "markdown",
   "metadata": {},
   "source": [
    "Qualitative comparisons show some differences. The number of sources detected after this is lower, but there are some artifacts worth considering."
   ]
  },
  {
   "cell_type": "code",
   "execution_count": 602,
   "metadata": {
    "collapsed": false
   },
   "outputs": [
    {
     "name": "stdout",
     "output_type": "stream",
     "text": [
      "135\n",
      "98\n"
     ]
    }
   ],
   "source": [
    "print len(diaSources)\n",
    "print lab_num"
   ]
  },
  {
   "cell_type": "markdown",
   "metadata": {},
   "source": [
    "Some visualizations of the results"
   ]
  },
  {
   "cell_type": "code",
   "execution_count": 605,
   "metadata": {
    "collapsed": false
   },
   "outputs": [
    {
     "data": {
      "text/plain": [
       "<matplotlib.image.AxesImage at 0x7fd5fbf11250>"
      ]
     },
     "execution_count": 605,
     "metadata": {},
     "output_type": "execute_result"
    },
    {
     "data": {
      "image/png": "[encoded data removed]",
      "text/plain": [
       "<matplotlib.figure.Figure at 0x7fd5f7ae0950>"
      ]
     },
     "metadata": {},
     "output_type": "display_data"
    }
   ],
   "source": [
    "plt.figure(figsize=(30,15))\n",
    "\n",
    "plt.imshow(blobs_labels)"
   ]
  },
  {
   "cell_type": "code",
   "execution_count": 567,
   "metadata": {
    "collapsed": false
   },
   "outputs": [
    {
     "data": {
      "image/png": "[encoded data removed]",
      "text/plain": [
       "<matplotlib.figure.Figure at 0x7fd53f919b50>"
      ]
     },
     "metadata": {},
     "output_type": "display_data"
    }
   ],
   "source": [
    "import matplotlib.pyplot as plt\n",
    "\n",
    "\n",
    "\n",
    "fig, ax = plt.subplots(figsize=(30,15))\n",
    "\n",
    "\n",
    "ax.imshow(blobs_labels) \n",
    "for props in regions:\n",
    "    y0,x0 = props.centroid\n",
    "    ax.plot(x0, y0, '.r', markersize=5)\n",
    "    \n",
    "\n",
    "plt.show()"
   ]
  },
  {
   "cell_type": "code",
   "execution_count": 524,
   "metadata": {
    "collapsed": true
   },
   "outputs": [],
   "source": [
    "ds9.mtv(stamp_im, frame=5)"
   ]
  },
  {
   "cell_type": "code",
   "execution_count": null,
   "metadata": {
    "collapsed": true
   },
   "outputs": [],
   "source": []
  }
 ],
 "metadata": {
  "kernelspec": {
   "display_name": "Python 2",
   "language": "python",
   "name": "python2"
  },
  "language_info": {
   "codemirror_mode": {
    "name": "ipython",
    "version": 2
   },
   "file_extension": ".py",
   "mimetype": "text/x-python",
   "name": "python",
   "nbconvert_exporter": "python",
   "pygments_lexer": "ipython2",
   "version": "2.7.11"
  }
 },
 "nbformat": 4,
 "nbformat_minor": 0
}
