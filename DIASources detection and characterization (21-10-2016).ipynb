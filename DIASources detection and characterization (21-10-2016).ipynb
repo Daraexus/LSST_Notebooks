{
 "cells": [
  {
   "cell_type": "markdown",
   "metadata": {},
   "source": [
    "# DIASources detection and characterization"
   ]
  },
  {
   "cell_type": "markdown",
   "metadata": {},
   "source": [
    "## PART 1:  DIASource detection and measurement in ONE CCD."
   ]
  },
  {
   "cell_type": "markdown",
   "metadata": {},
   "source": [
    "Obligatory imports"
   ]
  },
  {
   "cell_type": "code",
   "execution_count": 7,
   "metadata": {
    "collapsed": false
   },
   "outputs": [],
   "source": [
    "import pickle\n",
    "import sncosmo\n",
    "import numpy as np\n",
    "import lsst.daf.base as dafBase\n",
    "import lsst.daf.persistence as dafPersist\n",
    "\n",
    "import re\n",
    "\n",
    "import lsst.afw.display.ds9 as ds9\n",
    "\n",
    "import matplotlib.pyplot as plt\n",
    "\n",
    "from lsst.ip.diffim import ImagePsfMatchTask, DipoleMeasurementTask\n",
    "from lsst.meas.base import SingleFrameMeasurementConfig\n",
    "import lsst.afw.table as afwTable\n",
    "\n",
    "import lsst.daf.base as dafBase\n",
    "import DiaSourceTools as DSTools\n",
    "\n",
    "import lsst.meas.algorithms.detection as sDet\n",
    "import lsst.afw.image as afwImage\n",
    "\n",
    "from lsst.meas.algorithms.detection import SourceDetectionTask\n",
    "\n",
    "\n",
    "\n",
    "\n",
    "import lsst.afw.geom as afwGeom\n",
    "import random\n",
    "%matplotlib inline"
   ]
  },
  {
   "cell_type": "code",
   "execution_count": 128,
   "metadata": {
    "collapsed": false
   },
   "outputs": [],
   "source": [
    "from matplotlib.colors import LinearSegmentedColormap\n",
    "colors = [(0,0,0),(0.5,0,0), (1,0,0), (0,0,1), (1,0,1)]\n",
    "cm = LinearSegmentedColormap.from_list('dipoles', colors, N=5)\n",
    "\n",
    "colors = [(1,1,1),(0.5,0,0), (1,0,0), (0,0,1), (1,0,1)]\n",
    "cm2 = LinearSegmentedColormap.from_list('dipoles', colors, N=5)\n",
    "\n",
    "def SubtractBackground(exp):\n",
    "  \n",
    "    bgConf = sDet.BackgroundConfig()\n",
    "    background,Exp0 = sDet.estimateBackground(exp,bgConf,True)\n",
    "\n",
    "    return background, Exp0\n",
    "\n",
    "def merge_sources(results):\n",
    "    fpSet = results.fpSets.positive\n",
    "    fpSet.merge(results.fpSets.negative, 1, 1, False)\n",
    "    diaSources = afwTable.SourceCatalog(table)\n",
    "    fpSet.makeSources(diaSources)\n",
    "    return diaSources\n",
    "\n",
    "def remove_nan_sources(diaSources):\n",
    "    c_diaSources = diaSources.copy()\n",
    "    c_diaSources.clear()\n",
    "    for diaSrc in diaSources:\n",
    "        val = diaSrc.get(\"coord_ra\").asArcseconds()\n",
    "        if np.isnan(val) == False:\n",
    "            c_diaSources.append(diaSrc)\n",
    "        \n",
    "    return c_diaSources\n",
    "\n",
    "def get_source_stamp(src, visit, ccds, offset=0):\n",
    "    \n",
    "    for ccd in ccds:\n",
    "\n",
    "        if butler.datasetExists(\"deepDiff_differenceExp\", {'visit': visit , 'filter':filter , 'ccd':ccd}):\n",
    "\n",
    "            diffExp = butler.get(\"deepDiff_differenceExp\", {'visit': visit , 'filter':filter , 'ccd':ccd})\n",
    "            bbox = diffExp.getBBox()\n",
    "            wcs = diffExp.getWcs()\n",
    "            \n",
    "            c = afwGeom.Point2I(wcs.skyToPixel(src.getRa(), src.getDec()))\n",
    "            \n",
    "            if bbox.contains(c):\n",
    "                psf = diffExp.getPsf()\n",
    "                shape = psf.computeShape()\n",
    "                sigma = shape.getDeterminantRadius()\n",
    "                #print sigma\n",
    "                \n",
    "                return DSTools.get_stamp(src, diffExp, offset=offset), c\n",
    "            \n",
    "    return None, None  \n",
    "\n",
    "def get_dipole_lobes_metrics(stamp):\n",
    "    w,h = stamp.getWidth(), stamp.getHeight()\n",
    "    pos_fp = stamp_clone.getMaskedImage().getMask().getPlaneBitMask(\"DETECTED\")\n",
    "    neg_fp = stamp_clone.getMaskedImage().getMask().getPlaneBitMask(\"DETECTED_NEGATIVE\")\n",
    "\n",
    "    img_arr, mask_arr, var_arr = stamp.getMaskedImage().getArrays()\n",
    "    \n",
    "    values = (mask_arr & pos_fp == pos_fp)\n",
    "    values2 = values & (img_arr > 0)\n",
    "    pos_pixels = len(img_arr[values])\n",
    "    pos_flux=  np.sum(abs(img_arr[values2]))\n",
    "\n",
    "    values = (mask_arr & neg_fp == neg_fp)\n",
    "    values2 = values & (img_arr < 0)\n",
    "    neg_flux= np.sum(abs(img_arr[values2]))\n",
    "    neg_pixels = len(img_arr[values])\n",
    "\n",
    "    values = mask_arr & (neg_fp|pos_fp) == (neg_fp|pos_fp)\n",
    "    inter_flux = np.sum(abs(img_arr[values]))\n",
    "    inter_pixels = len(img_arr[values])\n",
    "\n",
    "    values = mask_arr & (neg_fp|pos_fp) != 0\n",
    "    total_flux = np.sum(abs(img_arr[values]))\n",
    "    mask_pixels = len(img_arr[values])\n",
    "    \n",
    "    fluxes = [inter_flux/total_flux, pos_flux/total_flux, neg_flux/total_flux]\n",
    "    geom = [float(inter_pixels)/mask_pixels, float(pos_pixels)/mask_pixels, float(neg_pixels)/mask_pixels]\n",
    "    \n",
    "\n",
    "    return fluxes, geom\n",
    "    \n",
    "\n",
    "def show_stamps(stamp, title='Stamp'):\n",
    "\n",
    "    img_arr, mask_arr, var_arr = stamp.getMaskedImage().getArrays()\n",
    "    w,h = stamp.getWidth(), stamp.getHeight()\n",
    "    plt.figure(figsize=(16,5))\n",
    "    \n",
    "    plt.suptitle(title)\n",
    "    \n",
    "    plt.subplot(1,3,1)\n",
    "    plt.imshow(img_arr, origin='lower', vmin=img_arr.min(), vmax=img_arr.max(), cmap='gray', extent=(0,w-1, 0, h-1), interpolation='none')\n",
    "\n",
    "\n",
    "    plt.subplot(1,3,2)\n",
    "    plt.imshow(mask_arr, origin='lower',  vmin=0, vmax=mask_arr.max(), cmap=cm, extent=(0,w-1, 0, h-1), interpolation='none')\n",
    "\n",
    "\n",
    "    plt.subplot(1,3,3)\n",
    "    layer_mask = mask_arr.copy()\n",
    "    layer_mask = np.ma.masked_where(layer_mask==0, layer_mask)\n",
    "    plt.imshow(img_arr, origin='lower', vmin=img_arr.min(), vmax=img_arr.max(), cmap='gray', extent=(0,w-1, 0, h-1), interpolation='none')\n",
    "    plt.imshow(layer_mask, origin='lower', alpha=0.3, vmin=0, vmax=mask_arr.max(), cmap=cm, extent=(0,w-1, 0, h-1), interpolation='none')\n",
    "    \n",
    "def visualize_dipoles_and_planes(stamp, source):\n",
    "    \n",
    "    plCak = source.getFootprint().getPeaks()\n",
    "    \n",
    "    w,h = stamp.getWidth(), stamp.getHeight()\n",
    "    img_arr, mask_arr, var_arr = stamp.getMaskedImage().getArrays()\n",
    "\n",
    "    plt.figure(figsize=(16,5))\n",
    "\n",
    "    plt.subplot(1,2,1)\n",
    "    plt.imshow(img_arr, origin='lower', vmin=img_arr.min(), vmax=img_arr.max(), cmap='gray', extent=(0,w-1, 0, h-1), interpolation='none')\n",
    "\n",
    "    for pk in pkCat:\n",
    "        if pk.getPeakValue() < 0:\n",
    "            plt.plot(pk.getIx()-stamp.getX0(), pk.getIy()-stamp.getY0(), 'bo')\n",
    "        else:\n",
    "            plt.plot(pk.getIx()-stamp.getX0(), pk.getIy()-stamp.getY0(), 'ro')\n",
    "\n",
    "    plt.subplot(1,2,2)\n",
    "    im = plt.imshow(mask_arr, origin='lower', vmin=0, vmax=100, cmap=cm, extent=(0,w-1, 0, h-1), interpolation='none')\n",
    "    \n",
    "def photo_dipole(photo_prop):\n",
    "    return photo_prop[1] < 0.66 and photo_prop[2] < 0.66\n",
    "\n",
    "def geom_dipole(geom_prop):\n",
    "    return geom_prop[0]<0.33\n"
   ]
  },
  {
   "cell_type": "markdown",
   "metadata": {},
   "source": [
    "This part is <b>very important</b>. Detection and measurement tasks are going to use the same schema, which is gonna be modified to contain all measurement fields upon the task instantiation. Not doing the task instantiation before running the measurement is going to cause errors. You've been warned"
   ]
  },
  {
   "cell_type": "code",
   "execution_count": 8,
   "metadata": {
    "collapsed": false
   },
   "outputs": [],
   "source": [
    "algMetadata = dafBase.PropertyList()\n",
    "schema = afwTable.SourceTable.makeMinimalSchema()\n",
    "\n",
    "dipoleMeasurement = DipoleMeasurementTask\n",
    "\n",
    "config = dipoleMeasurement.ConfigClass()\n",
    "dipoleMeasurement = dipoleMeasurement(schema, algMetadata=algMetadata)"
   ]
  },
  {
   "cell_type": "markdown",
   "metadata": {},
   "source": [
    "In-disk path to dataset"
   ]
  },
  {
   "cell_type": "code",
   "execution_count": 9,
   "metadata": {
    "collapsed": true
   },
   "outputs": [],
   "source": [
    "DATADIR=\"/renoir_data_02/jpreyes/lsst_data/CFHTLS_master/\"\n",
    "butler = dafPersist.Butler(DATADIR+\"/output\")\n",
    "diffExp1 = butler.get(\"deepDiff_differenceExp\", {'visit': 849687 , 'filter':'r' , 'ccd':14})\n",
    "diaSrcs1 = butler.get(\"deepDiff_diaSrc\", {'visit': 849687 , 'filter':'r' , 'ccd':14})"
   ]
  },
  {
   "cell_type": "markdown",
   "metadata": {},
   "source": [
    "Background subtraction function"
   ]
  },
  {
   "cell_type": "markdown",
   "metadata": {
    "collapsed": false
   },
   "source": [
    "These lines allow to calculate the psf for the image. However, if the background is transformed into an array and the standard deviation is calculated, the sigma value is going to be different."
   ]
  },
  {
   "cell_type": "code",
   "execution_count": 10,
   "metadata": {
    "collapsed": false
   },
   "outputs": [],
   "source": [
    "bg, ex = SubtractBackground(diffExp1)\n",
    "psf = diffExp1.getPsf()\n",
    "shape = psf.computeShape()\n",
    "sigma = shape.getDeterminantRadius()\n"
   ]
  },
  {
   "cell_type": "markdown",
   "metadata": {},
   "source": [
    "First test to detect sources on a difference image at treshold $4\\sigma$"
   ]
  },
  {
   "cell_type": "code",
   "execution_count": 11,
   "metadata": {
    "collapsed": false
   },
   "outputs": [
    {
     "name": "stdout",
     "output_type": "stream",
     "text": [
      "3327\n"
     ]
    }
   ],
   "source": [
    "threshold=4\n",
    "\n",
    "\n",
    "table = afwTable.SourceTable.make(schema)\n",
    "table.setMetadata(algMetadata)\n",
    "\n",
    "config = SourceDetectionTask.ConfigClass()\n",
    "config.thresholdPolarity = \"both\"\n",
    "config.thresholdValue = threshold\n",
    "config.reEstimateBackground = False\n",
    "config.thresholdType = \"pixel_stdev\"\n",
    "\n",
    "detectionTask = SourceDetectionTask(config=config, schema=schema)\n",
    "table = afwTable.SourceTable.make(schema)\n",
    "results = detectionTask.makeSourceCatalog(table=table, exposure=diffExp1 , doSmooth=False )\n",
    "\n",
    "print len(results.sources)"
   ]
  },
  {
   "cell_type": "markdown",
   "metadata": {},
   "source": [
    "Merging of contiguous sources via footprints."
   ]
  },
  {
   "cell_type": "code",
   "execution_count": 12,
   "metadata": {
    "collapsed": false
   },
   "outputs": [],
   "source": [
    "fpSet = results.fpSets.positive\n",
    "fpSet.merge(results.fpSets.negative, 2,\n",
    "            2, False)\n",
    "diaSources = afwTable.SourceCatalog(table)\n",
    "fpSet.makeSources(diaSources)\n"
   ]
  },
  {
   "cell_type": "markdown",
   "metadata": {},
   "source": [
    "Sources are measured. Some of the diaSources are going to have NaN coordinates. We have to remove them manually (for now)"
   ]
  },
  {
   "cell_type": "code",
   "execution_count": 13,
   "metadata": {
    "collapsed": false
   },
   "outputs": [],
   "source": [
    "dipoleMeasurement.run(diaSources, diffExp1)\n",
    "ds = remove_nan_sources(diaSources)"
   ]
  },
  {
   "cell_type": "markdown",
   "metadata": {},
   "source": [
    "## Part 2:  DIASource detection and measurement in the field."
   ]
  },
  {
   "cell_type": "markdown",
   "metadata": {},
   "source": [
    "Set of useful methods to automatize the whole process."
   ]
  },
  {
   "cell_type": "markdown",
   "metadata": {},
   "source": [
    "The visit is a hard-coded value. This loop runs over all ccds for the given visit, detect the DIASources on the difference image, remove the DIASources with NaN coordinates and perform the measurement.\n",
    "\n",
    "A list of catalogs is generated by varying the $\\sigma$ multiple for the detection."
   ]
  },
  {
   "cell_type": "code",
   "execution_count": 187,
   "metadata": {
    "collapsed": false
   },
   "outputs": [
    {
     "name": "stdout",
     "output_type": "stream",
     "text": [
      "float division by zero\n"
     ]
    }
   ],
   "source": [
    "visit = 849687\n",
    "filter = 'r'\n",
    "\n",
    "source_catalogs = [None, None, None]\n",
    "\n",
    "ccds = butler.queryMetadata(\"deepDiff_differenceExp\", format=['ccd'],dataId={'filter':filter})\n",
    "\n",
    "#ccds = [14,15]\n",
    "\n",
    "for ccd in ccds:\n",
    "\n",
    "        if butler.datasetExists(\"deepDiff_differenceExp\", {'visit': visit , 'filter':filter , 'ccd':ccd}):\n",
    "\n",
    "            diffExp = butler.get(\"deepDiff_differenceExp\", {'visit': visit , 'filter':filter , 'ccd':ccd})\n",
    "            \n",
    "            \n",
    "            \n",
    "            for i in range(4,7):\n",
    "                    try:\n",
    "                        results = DSTools.detect_diasources(diffExp, doSmooth=False, threshold=i)\n",
    "                        diaSources = merge_sources(results)\n",
    "                        dipoleMeasurement.run(diaSources, diffExp)\n",
    "                        diaSources = remove_nan_sources(diaSources)\n",
    "\n",
    "                        if source_catalogs[i-4] == None:\n",
    "                            source_catalogs[i-4] = diaSources\n",
    "                        else:\n",
    "                            source_catalogs[i-4].extend(diaSources)\n",
    "                    except Exception, e:\n",
    "                        print e\n"
   ]
  },
  {
   "cell_type": "markdown",
   "metadata": {},
   "source": [
    "The next group of text requires to choose one catalog. In this case, we chose the catalog for the sources detected above $6\\sigma$"
   ]
  },
  {
   "cell_type": "code",
   "execution_count": 63,
   "metadata": {
    "collapsed": false
   },
   "outputs": [
    {
     "name": "stdout",
     "output_type": "stream",
     "text": [
      "1.83352084006\n"
     ]
    }
   ],
   "source": [
    "catalog_s5 = source_catalogs[2]\n",
    "\n",
    "source = random.choice(catalog_s5)\n",
    " \n",
    "stamp, center = get_source_stamp(source, visit, ccds, offset=10)"
   ]
  },
  {
   "cell_type": "markdown",
   "metadata": {},
   "source": [
    "This code shows the different stamps, from the original image (footprints with sources detected above $5.5\\sigma$), then the image with their saved footprint and finally the footprint determination on the stamp isolated."
   ]
  },
  {
   "cell_type": "code",
   "execution_count": 56,
   "metadata": {
    "collapsed": false
   },
   "outputs": [],
   "source": [
    "\n",
    "\n",
    "if stamp is not None:\n",
    "    ds9.mtv(stamp, frame=1)\n",
    "    ds9.dot('+', center.getX(), center.getY(), ctype=ds9.RED, frame=1)\n",
    "    \n",
    "\n",
    "mi = stamp.clone().getMaskedImage()\n",
    "mask = mi.getMask()\n",
    "\n",
    "mask &= (~mask.getPlaneBitMask(\"DETECTED\"))\n",
    "mask &= (~mask.getPlaneBitMask(\"DETECTED_NEGATIVE\"))\n",
    "\n",
    "fp = source.getFootprint()\n",
    "\n",
    "mplane = mask.addMaskPlane(\"CORR_DETECTED\")\n",
    "\n",
    "w = stamp.getWidth()\n",
    "h = stamp.getHeight()\n",
    "\n",
    "for i in range(w):\n",
    "    for j in range (h):\n",
    "        if fp.contains(afwGeom.Point2I(i+stamp.getX0(),j+stamp.getY0())):\n",
    "            #print True\n",
    "            mask[i,j] = mplane\n",
    "            \n",
    "ds9.mtv(stamp, frame=2)\n",
    "ds9.dot('+', center.getX(), center.getY(), ctype=ds9.RED, frame=2)\n",
    "\n",
    "mask &= (~mask.getPlaneBitMask(\"CORR_DETECTED\"))\n",
    "\n",
    "stamp_clone = stamp.clone()\n",
    "results = DSTools.detect_diasources(stamp_clone, doSmooth=False,threshold=6)\n",
    "\n",
    "\n",
    "ds9.mtv(stamp_clone, frame=3)"
   ]
  },
  {
   "cell_type": "code",
   "execution_count": 195,
   "metadata": {
    "collapsed": false
   },
   "outputs": [
    {
     "name": "stdout",
     "output_type": "stream",
     "text": [
      "ds9 doesn't appear to be running (XPA: XPA returned NULL, (;iconify no; raise)), I'll try to exec it for you\n"
     ]
    }
   ],
   "source": [
    "ds9.mtv(stamp)"
   ]
  },
  {
   "cell_type": "code",
   "execution_count": 74,
   "metadata": {
    "collapsed": false
   },
   "outputs": [
    {
     "data": {
      "image/png": "[encoded data removed]",
      "text/plain": [
       "<matplotlib.figure.Figure at 0x7fdd68a93e10>"
      ]
     },
     "metadata": {},
     "output_type": "display_data"
    },
    {
     "data": {
      "image/png": "[encoded data removed]",
      "text/plain": [
       "<matplotlib.figure.Figure at 0x7fddd52a5390>"
      ]
     },
     "metadata": {},
     "output_type": "display_data"
    },
    {
     "data": {
      "image/png": "[encoded data removed]",
      "text/plain": [
       "<matplotlib.figure.Figure at 0x7fddd2d25b50>"
      ]
     },
     "metadata": {},
     "output_type": "display_data"
    }
   ],
   "source": [
    "reload(DSTools)\n",
    "\n",
    "img_arr, mask_arr, var_arr = stamp.getMaskedImage().getArrays()\n",
    "\n",
    "show_stamps(stamp, title=\"Recalculated footprints at sigma=5.5\")\n",
    "\n",
    "\n",
    "stamp_clone = stamp.clone()\n",
    "results = DSTools.detect_diasources(stamp_clone, doSmooth=False,threshold=6)\n",
    "img_arr, mask_arr, var_arr = stamp_clone.getMaskedImage().getArrays()\n",
    "\n",
    "show_stamps(stamp_clone, title=\"Recalculated footprints at sigma=6\")\n",
    "\n",
    "\n",
    "\n",
    "stamp_clone = stamp.clone()\n",
    "mi = stamp_clone.getMaskedImage()\n",
    "mask = mi.getMask()\n",
    "mask &= (~mask.getPlaneBitMask(\"DETECTED\"))\n",
    "mask &= (~mask.getPlaneBitMask(\"DETECTED_NEGATIVE\"))\n",
    "fp = source.getFootprint()\n",
    "mplane = mask.addMaskPlane(\"CORR_DETECTED\")\n",
    "w = stamp.getWidth()\n",
    "h = stamp.getHeight()\n",
    "for i in range(w):\n",
    "    for j in range (h):\n",
    "        if fp.contains(afwGeom.Point2I(i+stamp.getX0(),j+stamp.getY0())):\n",
    "            #print True\n",
    "            mask[i,j] = mplane\n",
    "    \n",
    "show_stamps(stamp_clone, title=\"Total footprints at sigma=6\")"
   ]
  },
  {
   "cell_type": "markdown",
   "metadata": {},
   "source": [
    "\n",
    "\n",
    "## Part 3: Characterization Tests"
   ]
  },
  {
   "cell_type": "markdown",
   "metadata": {},
   "source": [
    "This intends to test some hypothesis to improve the number of detected DIASources. We start by calculating the DIASources on one CCD, again."
   ]
  },
  {
   "cell_type": "code",
   "execution_count": null,
   "metadata": {
    "collapsed": true
   },
   "outputs": [],
   "source": [
    "\n",
    "\n",
    "diffExp = butler.get(\"deepDiff_differenceExp\", {'visit': visit , 'filter':filter , 'ccd':14})\n",
    "            \n",
    "            \n",
    "            \n",
    "for i in range(4,7):\n",
    "        try:\n",
    "            results = DSTools.detect_diasources(diffExp, doSmooth=False, threshold=i)\n",
    "            diaSources = merge_sources(results)\n",
    "            dipoleMeasurement.run(diaSources, diffExp)\n",
    "            diaSources = remove_nan_sources(diaSources)\n",
    "\n",
    "            if source_catalogs[i-4] == None:\n",
    "                source_catalogs[i-4] = diaSources\n",
    "            else:\n",
    "                source_catalogs[i-4].extend(diaSources)\n",
    "        except Exception, e:\n",
    "            print e\n"
   ]
  },
  {
   "cell_type": "markdown",
   "metadata": {},
   "source": [
    "Here we calculate the $\\sigma$ of the background"
   ]
  },
  {
   "cell_type": "code",
   "execution_count": null,
   "metadata": {
    "collapsed": false
   },
   "outputs": [],
   "source": [
    "bkg, exp = SubtractBackground(diffExp)\n",
    "\n",
    "arr = bkg.getImageF().getArray()\n",
    "sigma = np.std(arr)"
   ]
  },
  {
   "cell_type": "markdown",
   "metadata": {},
   "source": [
    "Then, we threshold the pixels whose absolute values are higher than $6\\sigma$"
   ]
  },
  {
   "cell_type": "code",
   "execution_count": null,
   "metadata": {
    "collapsed": false
   },
   "outputs": [],
   "source": [
    "t =sigma*6\n",
    "\n",
    "stamp_th = diffExp.clone()\n",
    "\n",
    "stamp_im = stamp_th.getMaskedImage().getImage()\n",
    "im = stamp_im.getArray()\n",
    "for x in range(stamp_im.getWidth()):\n",
    "    for y in range(stamp_im.getHeight()):\n",
    "        if np.abs(stamp_im.get(x,y)) > t:\n",
    "            stamp_im.set(x,y,1)\n",
    "        else:\n",
    "            stamp_im.set(x,y,0)\n",
    "            \n",
    "            \n",
    "ds9.mtv(stamp_im, frame=5)"
   ]
  },
  {
   "cell_type": "code",
   "execution_count": null,
   "metadata": {
    "collapsed": true
   },
   "outputs": [],
   "source": [
    "ds9.mtv(diffExp, frame=6)"
   ]
  },
  {
   "cell_type": "code",
   "execution_count": null,
   "metadata": {
    "collapsed": false
   },
   "outputs": [],
   "source": [
    "import skimage\n",
    "from skimage import measure\n",
    "from skimage import data\n",
    "from skimage import filters\n",
    "from scipy import ndimage\n",
    "from skimage.measure import regionprops"
   ]
  },
  {
   "cell_type": "markdown",
   "metadata": {},
   "source": [
    "We use scikit-image and ndimage to perform an erosion to delete all the little fluctuations and then label the different connected components. We then measure the centroids and save the results"
   ]
  },
  {
   "cell_type": "code",
   "execution_count": null,
   "metadata": {
    "collapsed": false
   },
   "outputs": [],
   "source": [
    "\n",
    "blobs = stamp_im.getArray()\n",
    "res = ndimage.binary_opening(blobs, np.ones((3,3)).astype(np.int))"
   ]
  },
  {
   "cell_type": "code",
   "execution_count": null,
   "metadata": {
    "collapsed": false
   },
   "outputs": [],
   "source": [
    "\n",
    "all_labels = measure.label(res)\n",
    "blobs_labels, lab_num = measure.label(res, background=0, return_num = True)\n",
    "regions = regionprops(blobs_labels)"
   ]
  },
  {
   "cell_type": "code",
   "execution_count": null,
   "metadata": {
    "collapsed": false
   },
   "outputs": [],
   "source": [
    "ds9.mtv(diffExp, frame=1)\n",
    "for props in regions:\n",
    "    y0,x0 = props.centroid\n",
    "    ds9.dot('+', x0, y0, size=50, ctype=ds9.RED, frame=1)\n",
    "    "
   ]
  },
  {
   "cell_type": "code",
   "execution_count": null,
   "metadata": {
    "collapsed": false
   },
   "outputs": [],
   "source": [
    "for diaSrc in diaSources:\n",
    "    ds9.dot('o', diaSrc.getX(), diaSrc.getY(), size=20, ctype=ds9.BLUE, frame=1)"
   ]
  },
  {
   "cell_type": "markdown",
   "metadata": {},
   "source": [
    "Qualitative comparisons show some differences. The number of sources detected after this is lower, but there are some artifacts worth considering."
   ]
  },
  {
   "cell_type": "code",
   "execution_count": null,
   "metadata": {
    "collapsed": false
   },
   "outputs": [],
   "source": [
    "print len(diaSources)\n",
    "print lab_num"
   ]
  },
  {
   "cell_type": "markdown",
   "metadata": {},
   "source": [
    "Some visualizations of the results"
   ]
  },
  {
   "cell_type": "code",
   "execution_count": null,
   "metadata": {
    "collapsed": false
   },
   "outputs": [],
   "source": [
    "plt.figure(figsize=(30,15))\n",
    "\n",
    "plt.imshow(blobs_labels)"
   ]
  },
  {
   "cell_type": "code",
   "execution_count": null,
   "metadata": {
    "collapsed": false
   },
   "outputs": [],
   "source": [
    "import matplotlib.pyplot as plt\n",
    "\n",
    "\n",
    "\n",
    "fig, ax = plt.subplots(figsize=(30,15))\n",
    "\n",
    "\n",
    "ax.imshow(blobs_labels) \n",
    "for props in regions:\n",
    "    y0,x0 = props.centroid\n",
    "    ax.plot(x0, y0, '.r', markersize=5)\n",
    "    \n",
    "\n",
    "plt.show()"
   ]
  },
  {
   "cell_type": "code",
   "execution_count": null,
   "metadata": {
    "collapsed": true
   },
   "outputs": [],
   "source": [
    "ds9.mtv(stamp_im, frame=5)"
   ]
  },
  {
   "cell_type": "markdown",
   "metadata": {},
   "source": [
    "## Dipole Tagging Test"
   ]
  },
  {
   "cell_type": "code",
   "execution_count": 196,
   "metadata": {
    "collapsed": false
   },
   "outputs": [
    {
     "name": "stderr",
     "output_type": "stream",
     "text": [
      "/renoir_data_00/fouchez/lsst/DM/stacks/lsstsw/2016-04-04/lsstsw/miniconda/lib/python2.7/site-packages/ipykernel/__main__.py:62: RuntimeWarning: invalid value encountered in greater\n",
      "/renoir_data_00/fouchez/lsst/DM/stacks/lsstsw/2016-04-04/lsstsw/miniconda/lib/python2.7/site-packages/ipykernel/__main__.py:67: RuntimeWarning: invalid value encountered in less\n"
     ]
    }
   ],
   "source": [
    "catalog_s6 = source_catalogs[2]\n",
    "\n",
    "classification = []\n",
    "\n",
    "for source in catalog_s6:\n",
    "    \n",
    "    stamp, center = get_source_stamp(source, visit, ccds, offset=10)\n",
    "    if stamp is not None:\n",
    "        stamp_clone = stamp.clone()\n",
    "        results = DSTools.detect_diasources(stamp_clone, doSmooth=False,threshold=6)\n",
    "\n",
    "\n",
    "        if len(results.fpSets.positive.getFootprints()) == 0 and len(results.fpSets.negative.getFootprints()) > 0:\n",
    "            classification.append(('Negative', source))\n",
    "        elif len(results.fpSets.positive.getFootprints()) > 0 and len(results.fpSets.negative.getFootprints()) == 0:\n",
    "            classification.append(('Positive', source))\n",
    "        else:\n",
    "            label = 'Dipole'\n",
    "            stamp_clone = stamp.clone()\n",
    "            results = DSTools.detect_diasources(stamp_clone, doSmooth=False,threshold=6)\n",
    "            photo, geom = get_dipole_lobes_metrics(stamp_clone)\n",
    "\n",
    "            p_dipole, g_dipole = photo_dipole(photo), geom_dipole(geom)\n",
    "\n",
    "            if p_dipole and g_dipole:\n",
    "                label = \"Dipole type I\"\n",
    "            elif p_dipole and not g_dipole:\n",
    "                label = \"Dipole type II\"\n",
    "            elif not p_dipole and g_dipole:\n",
    "                label = \"Fringe\"\n",
    "            else:\n",
    "                label = \"Artifact\"\n",
    "            classification.append((label, source))\n",
    "\n",
    "        \n",
    "    \n",
    "    #img_arr, mask_arr, var_arr = stamp_clone.getMaskedImage().getArrays()\n",
    "    \n",
    "    "
   ]
  },
  {
   "cell_type": "code",
   "execution_count": 671,
   "metadata": {
    "collapsed": false
   },
   "outputs": [
    {
     "name": "stdout",
     "output_type": "stream",
     "text": [
      "OrderedDict([('Point Positive', 1084), ('Dipole type II', 797), ('Dipole type I', 730), ('Fringe', 656), ('Artifact', 227), ('Positive', 176), ('Border Detection', 31)])\n"
     ]
    },
    {
     "data": {
      "image/png": "[encoded data removed]",
      "text/plain": [
       "<matplotlib.figure.Figure at 0x7fdd7797da10>"
      ]
     },
     "metadata": {},
     "output_type": "display_data"
    }
   ],
   "source": [
    "import collections\n",
    "from operator import itemgetter\n",
    "\n",
    "objects = {}\n",
    "\n",
    "for label, src in classification:\n",
    "    if label in objects:\n",
    "        objects[label] += 1\n",
    "    else:\n",
    "        objects[label] = 1\n",
    "\n",
    "o_objects = collections.OrderedDict(sorted(objects.items(), key=itemgetter(1), reverse=True))\n",
    "print o_objects\n",
    "X = np.arange(len(o_objects))\n",
    "\n",
    "p = plt.bar(X, o_objects.values(), align='center')\n",
    "plt.xticks(X, o_objects.keys(), rotation=30)\n",
    "\n",
    "plt.xlabel(\"Label\")\n",
    "plt.ylabel(\"Number of objects\")\n",
    "for i, rect in enumerate(p):\n",
    "    plt.text(rect.get_x()+ rect.get_width()/3, rect.get_height()+10, int(rect.get_height()))\n",
    "\n",
    "plt.show()"
   ]
  },
  {
   "cell_type": "code",
   "execution_count": 570,
   "metadata": {
    "collapsed": false
   },
   "outputs": [
    {
     "name": "stdout",
     "output_type": "stream",
     "text": [
      "Dipole type II\n",
      "Dipole type I\n",
      "Fringe\n",
      "Dipole type I\n",
      "Dipole type II\n",
      "Artifact\n"
     ]
    }
   ],
   "source": [
    "label, source = random.choice(classification)\n",
    "counter = 0\n",
    "while label != \"Point Positive\":\n",
    "    print label\n",
    "    label, source = random.choice(classification)\n",
    "    counter += 1\n",
    "    \n",
    "    if counter == 100:\n",
    "        break\n"
   ]
  },
  {
   "cell_type": "markdown",
   "metadata": {},
   "source": [
    "## Point-source detection"
   ]
  },
  {
   "cell_type": "code",
   "execution_count": 682,
   "metadata": {
    "collapsed": false
   },
   "outputs": [
    {
     "name": "stdout",
     "output_type": "stream",
     "text": [
      "Point Positive\n"
     ]
    },
    {
     "data": {
      "image/png": "[encoded data removed]",
      "text/plain": [
       "<matplotlib.figure.Figure at 0x7fdd770d1090>"
      ]
     },
     "metadata": {},
     "output_type": "display_data"
    }
   ],
   "source": [
    "\n",
    "count = 0\n",
    "while count < 1:\n",
    "    label, source = random.choice(classification)\n",
    "    while label != \"Point Positive\":\n",
    "        label, source = random.choice(classification)\n",
    "    print label\n",
    "        \n",
    "    stamp, center = get_source_stamp(source, visit, ccds, offset=10)\n",
    "    stamp_clone = stamp.clone()\n",
    "    results = DSTools.detect_diasources(stamp_clone, doSmooth=False,threshold=6)\n",
    "    show_stamps(stamp_clone, title=label)\n",
    "    count +=1"
   ]
  },
  {
   "cell_type": "code",
   "execution_count": 677,
   "metadata": {
    "collapsed": false
   },
   "outputs": [
    {
     "name": "stderr",
     "output_type": "stream",
     "text": [
      "/renoir_data_00/fouchez/lsst/DM/stacks/lsstsw/2016-04-04/lsstsw/miniconda/lib/python2.7/site-packages/ipykernel/__main__.py:41: RuntimeWarning: invalid value encountered in sqrt\n"
     ]
    },
    {
     "name": "stdout",
     "output_type": "stream",
     "text": [
      "(24.522860710625888, nan)\n",
      "7 7\n"
     ]
    },
    {
     "data": {
      "image/png": "[encoded data removed]",
      "text/plain": [
       "<matplotlib.figure.Figure at 0x7fdd77697d90>"
      ]
     },
     "metadata": {},
     "output_type": "display_data"
    }
   ],
   "source": [
    "img_arr, mask_arr, var_arr = stamp_clone.getMaskedImage().getArrays()\n",
    "\n",
    "import skimage\n",
    "from skimage import measure\n",
    "from skimage import data\n",
    "from skimage import filters\n",
    "from scipy import ndimage\n",
    "from skimage.measure import regionprops\n",
    "from skimage.measure import moments\n",
    "from skimage.measure import moments_central\n",
    "\n",
    "\n",
    "w, h = stamp_clone.getWidth(), stamp_clone.getHeight()\n",
    "\n",
    "img_arr = img_arr.astype(float)\n",
    "m = moments(img_arr, order=1)\n",
    "\n",
    "#print m[0,1]/m[0,0], m[1,0]/m[0,0]\n",
    "\n",
    "plt.imshow(img_arr, origin='lower', vmin=img_arr.min(), vmax=img_arr.max(), cmap='gray',  interpolation='none', extent=(0,w,0,h))\n",
    "\n",
    "peaks = source.getFootprint().getPeaks()\n",
    "\n",
    "for pk in peaks:\n",
    "    plt.plot(pk.getIx()-stamp_clone.getX0(), pk.getIy()-stamp_clone.getY0(), 'bo')\n",
    "\n",
    "\n",
    "plt.plot(center.getX()-stamp_clone.getX0(), center.getY()-stamp_clone.getY0(), 'rx')\n",
    "\n",
    "\n",
    "#print stamp_clone.getX0()\n",
    "#print stamp_clone.getY0()\n",
    "#print source.getCentroid()\n",
    "\n",
    "m_c = moments_central(img_arr, center.getX()-stamp_clone.getX0(), center.getY()-stamp_clone.getY0(), order=2)\n",
    "\n",
    "cov = [[m_c[2,0]/m_c[0,0], m_c[1,1]/m_c[0,0]], [m_c[1,1]/m_c[0,0], m_c[0,2]/m_c[0,0]]]\n",
    "#print(np.matrix(cov))\n",
    "vals, vectors = np.linalg.eig(cov)\n",
    "\n",
    "print( 2*np.sqrt(vals[0]), 2*np.sqrt(vals[1])) \n",
    "print h/2, w/2"
   ]
  },
  {
   "cell_type": "code",
   "execution_count": 678,
   "metadata": {
    "collapsed": false
   },
   "outputs": [
    {
     "name": "stdout",
     "output_type": "stream",
     "text": [
      "(5.4162567837494358, 4.1372858202837204)\n"
     ]
    },
    {
     "data": {
      "image/png": "[encoded data removed]",
      "text/plain": [
       "<matplotlib.figure.Figure at 0x7fdd77666850>"
      ]
     },
     "metadata": {},
     "output_type": "display_data"
    }
   ],
   "source": [
    "mean = np.mean(img_arr)\n",
    "std = np.std(img_arr)\n",
    "T_p = mean + 1*std\n",
    "T_n = mean - 1*std\n",
    "\n",
    "thresholding_n = img_arr > T_n\n",
    "thresholding_n = img_arr < T_p\n",
    "thresholding_p = img_arr < T_p\n",
    "thresholding = thresholding_p & thresholding_n\n",
    "w, h = stamp_clone.getWidth(), stamp_clone.getHeight()\n",
    "\n",
    "t_img_arr = img_arr.copy()\n",
    "t_img_arr[thresholding] = 0\n",
    "\n",
    "t_img_arr = t_img_arr.astype(float)\n",
    "\n",
    "plt.imshow(t_img_arr,  vmin=img_arr.min(), vmax=img_arr.max(), cmap='gray',  interpolation='none', extent=(0,w,0,h))\n",
    "\n",
    "m_c = moments_central(t_img_arr, center.getX()-stamp_clone.getX0(), center.getY()-stamp_clone.getY0(), order=2)\n",
    "#plt.plot(center.getX()-stamp_clone.getX0(), center.getY()-stamp_clone.getY0(), 'rx')\n",
    "\n",
    "cov = [[m_c[2,0]/m_c[0,0], m_c[1,1]/m_c[0,0]], [m_c[1,1]/m_c[0,0], m_c[0,2]/m_c[0,0]]]\n",
    "#print(np.matrix(cov))\n",
    "vals, vectors = np.linalg.eig(cov)\n",
    "\n",
    "print( 2*np.sqrt(vals[0]), 2*np.sqrt(vals[1])) "
   ]
  },
  {
   "cell_type": "code",
   "execution_count": 679,
   "metadata": {
    "collapsed": false
   },
   "outputs": [
    {
     "name": "stdout",
     "output_type": "stream",
     "text": [
      "(5.4162567837494358, 4.1372858202837204)\n",
      "False\n",
      "False\n",
      "False\n"
     ]
    }
   ],
   "source": [
    "axes, im = detect_point_source(stamp_clone, center)\n",
    "print axes\n",
    "\n",
    "h_m, w_m = stamp_clone.getWidth()/2, stamp_clone.getHeight()/2\n",
    "\n",
    "print np.isnan(axes[0]) == True or np.isnan(axes[1]) == True or axes[0] > h_m or axes[1] > w_m\n",
    "print np.isnan(axes[0]) == True or np.isnan(axes[1]) == True\n",
    "print axes[0] > h_m or axes[1] > w_m"
   ]
  },
  {
   "cell_type": "markdown",
   "metadata": {},
   "source": [
    "## Other Visualizations"
   ]
  },
  {
   "cell_type": "code",
   "execution_count": 347,
   "metadata": {
    "collapsed": false
   },
   "outputs": [
    {
     "data": {
      "image/png": "[encoded data removed]",
      "text/plain": [
       "<matplotlib.figure.Figure at 0x7fdd78093350>"
      ]
     },
     "metadata": {},
     "output_type": "display_data"
    }
   ],
   "source": [
    "label, source = random.choice(classification)\n",
    "stamp, center = get_source_stamp(source, visit, ccds, offset=10)\n",
    "stamp_clone = stamp.clone()\n",
    "results = DSTools.detect_diasources(stamp_clone, doSmooth=False,threshold=6)\n",
    "show_stamps(stamp_clone, title=label)"
   ]
  },
  {
   "cell_type": "code",
   "execution_count": 186,
   "metadata": {
    "collapsed": false
   },
   "outputs": [
    {
     "data": {
      "image/png": "[encoded data removed]",
      "text/plain": [
       "<matplotlib.figure.Figure at 0x7fddd25a3790>"
      ]
     },
     "metadata": {},
     "output_type": "display_data"
    }
   ],
   "source": [
    "label, source = random.choice(classification)\n",
    "stamp, center = get_source_stamp(source, visit, ccds, offset=10)\n",
    "stamp_clone = stamp.clone()\n",
    "results = DSTools.detect_diasources(stamp_clone, doSmooth=False,threshold=6)\n",
    "show_stamps(stamp_clone, title=label)"
   ]
  },
  {
   "cell_type": "code",
   "execution_count": 88,
   "metadata": {
    "collapsed": false
   },
   "outputs": [
    {
     "name": "stdout",
     "output_type": "stream",
     "text": [
      "1.83352084006\n"
     ]
    },
    {
     "data": {
      "text/plain": [
       "([0.91741651, 0.96286631, 0.93988526],\n",
       " [0.3301818181818182, 0.45454545454545453, 0.5243636363636364])"
      ]
     },
     "execution_count": 88,
     "metadata": {},
     "output_type": "execute_result"
    },
    {
     "data": {
      "image/png": "[encoded data removed]",
      "text/plain": [
       "<matplotlib.figure.Figure at 0x7fddd5435290>"
      ]
     },
     "metadata": {},
     "output_type": "display_data"
    }
   ],
   "source": [
    "catalog_s6 = source_catalogs[2]\n",
    "source = random.choice(catalog_s6)\n",
    "stamp, center = get_source_stamp(source, visit, ccds, offset=10)\n",
    "stamp_clone = stamp.clone()\n",
    "results = DSTools.detect_diasources(stamp_clone, doSmooth=False,threshold=6)\n",
    "img_arr, mask_arr, var_arr = stamp_clone.getMaskedImage().getArrays()\n",
    "\n",
    "show_stamps(stamp_clone, title=\"Recalculated footprints at sigma=6\")\n",
    "\n",
    "get_dipole_lobes_metrics(stamp_clone)\n"
   ]
  },
  {
   "cell_type": "code",
   "execution_count": 122,
   "metadata": {
    "collapsed": false
   },
   "outputs": [
    {
     "name": "stdout",
     "output_type": "stream",
     "text": [
      "[0.93107057, 0.37557745, 0.62387079] [0.5089686098654709, 0.7006726457399103, 0.8082959641255605]\n",
      "Dipole type II\n"
     ]
    }
   ],
   "source": [
    "print photo, geom\n",
    "\n",
    "stamp_clone = stamp.clone()\n",
    "results = DSTools.detect_diasources(stamp_clone, doSmooth=False,threshold=6)\n",
    "photo, geom = get_dipole_lobes_metrics(stamp_clone)\n",
    "\n",
    "p_dipole, g_dipole = photo_dipole(photo), geom_dipole(geom)\n",
    "\n",
    "if p_dipole and geom_dipole(geom):\n",
    "    print \"Dipole type I\"\n",
    "elif p_dipole and not g_dipole:\n",
    "    print \"Dipole type II\"\n",
    "elif not p_dipole and g_dipole:\n",
    "    print \"Fringe\"\n",
    "else:\n",
    "    print \"Artifact\"\n"
   ]
  },
  {
   "cell_type": "code",
   "execution_count": 188,
   "metadata": {
    "collapsed": false
   },
   "outputs": [
    {
     "name": "stdout",
     "output_type": "stream",
     "text": [
      "3702\n"
     ]
    }
   ],
   "source": [
    "print(len(source_catalogs[2]))"
   ]
  },
  {
   "cell_type": "code",
   "execution_count": 642,
   "metadata": {
    "collapsed": false
   },
   "outputs": [],
   "source": [
    "def detect_point_source(stamp, center, alpha=1):\n",
    "    \n",
    "    img_arr, mask_arr, var_arr = stamp.getMaskedImage().getArrays()\n",
    "    mean = np.mean(img_arr)\n",
    "    std = np.std(img_arr)\n",
    "    T_p = mean + alpha*std\n",
    "    T_n = mean - alpha*std\n",
    "\n",
    "    #thresholding_n = img_arr > T_n\n",
    "    thresholding_n = img_arr < T_p\n",
    "    thresholding_p = img_arr < T_p\n",
    "    thresholding = thresholding_p & thresholding_n\n",
    "    \n",
    "    w, h = stamp.getWi dth(), stamp.getHeight()\n",
    "    \n",
    "    t_img_arr = img_arr.copy()\n",
    "    t_img_arr[thresholding] = 0\n",
    "\n",
    "    t_img_arr = t_img_arr.astype(float)\n",
    "\n",
    "    m_c = moments_central(t_img_arr, center.getX()-stamp.getX0(), center.getY()-stamp.getY0(), order=2)\n",
    "    \n",
    "\n",
    "    cov = [[m_c[2,0]/m_c[0,0], m_c[1,1]/m_c[0,0]], [m_c[1,1]/m_c[0,0], m_c[0,2]/m_c[0,0]]]\n",
    "    #print(np.matrix(cov))\n",
    "    vals, vectors = np.linalg.eig(cov)\n",
    "    \n",
    "    return ( 2*np.sqrt(vals[0]), 2*np.sqrt(vals[1])), t_img_arr "
   ]
  },
  {
   "cell_type": "code",
   "execution_count": 525,
   "metadata": {
    "collapsed": false
   },
   "outputs": [
    {
     "name": "stdout",
     "output_type": "stream",
     "text": [
      "(7.1609606239298724, 10.29697765598457)\n",
      "7 8\n"
     ]
    }
   ],
   "source": [
    "axes, image = detect_point_sources(stamp_clone, center)\n",
    "print axes\n",
    "print  stamp.getWidth()/2, stamp.getHeight()/2"
   ]
  },
  {
   "cell_type": "code",
   "execution_count": 670,
   "metadata": {
    "collapsed": false
   },
   "outputs": [
    {
     "name": "stdout",
     "output_type": "stream",
     "text": [
      "143 I have found  1  positive sources and reclassified  1\n",
      "148 I have found  2  positive sources and reclassified  2\n",
      "151 I have found  3  positive sources and reclassified  3\n",
      "154 I have found  4  positive sources and reclassified  4\n",
      "157 I have found  5  positive sources and reclassified  5\n",
      "163 I have found  6  positive sources and reclassified  6\n",
      "169 I have found  7  positive sources and reclassified  7\n",
      "174 I have found  8  positive sources and reclassified  8\n",
      "178 I have found  9  positive sources and reclassified  9\n",
      "179 I have found  10  positive sources and reclassified  10\n",
      "180 I have found  11  positive sources and reclassified  11\n",
      "181 I have found  12  positive sources and reclassified  12\n",
      "182 I have found  13  positive sources and reclassified  13\n",
      "183 I have found  14  positive sources and reclassified  14\n",
      "185 I have found  15  positive sources and reclassified  15\n",
      "188 I have found  16  positive sources and reclassified  16\n",
      "189 I have found  17  positive sources and reclassified  17\n",
      "196 I have found  18  positive sources and reclassified  18\n",
      "197 I have found  19  positive sources and reclassified  19\n",
      "198 I have found  20  positive sources and reclassified  20\n",
      "200 I have found  21  positive sources and reclassified  21\n",
      "201 I have found  22  positive sources and reclassified  22\n",
      "202 I have found  23  positive sources and reclassified  23\n",
      "207 I have found  24  positive sources and reclassified  24\n",
      "208 I have found  25  positive sources and reclassified  25\n",
      "214 I have found  26  positive sources and reclassified  26\n",
      "217 I have found  27  positive sources and reclassified  27\n",
      "222 I have found  28  positive sources and reclassified  28\n",
      "224 I have found  29  positive sources and reclassified  29\n",
      "229 I have found  30  positive sources and reclassified  30\n",
      "258 I have found  31  positive sources and reclassified  31\n",
      "264 I have found  32  positive sources and reclassified  32\n",
      "269 I have found  33  positive sources and reclassified  33\n",
      "274 I have found  34  positive sources and reclassified  34\n",
      "275 I have found  35  positive sources and reclassified  35\n",
      "277 I have found  36  positive sources and reclassified  36\n",
      "280 I have found  37  positive sources and reclassified  37\n",
      "281 I have found  38  positive sources and reclassified  38\n",
      "283 I have found  39  positive sources and reclassified  39\n",
      "284 I have found  40  positive sources and reclassified  40\n",
      "286 I have found  41  positive sources and reclassified  41\n",
      "292 I have found  42  positive sources and reclassified  42\n",
      "297 I have found  43  positive sources and reclassified  43\n",
      "302 I have found  44  positive sources and reclassified  44\n",
      "304 I have found  45  positive sources and reclassified  45\n",
      "306 I have found  46  positive sources and reclassified  46\n",
      "307 I have found  47  positive sources and reclassified  47\n",
      "308 I have found  48  positive sources and reclassified  48\n",
      "309 I have found  49  positive sources and reclassified  49\n",
      "312 I have found  50  positive sources and reclassified  50\n",
      "313 I have found  51  positive sources and reclassified  51\n",
      "317 I have found  52  positive sources and reclassified  52\n",
      "319 I have found  53  positive sources and reclassified  53\n",
      "322 I have found  54  positive sources and reclassified  54\n",
      "327 I have found  55  positive sources and reclassified  55\n",
      "329 I have found  56  positive sources and reclassified  56\n",
      "331 I have found  57  positive sources and reclassified  57\n",
      "333 I have found  58  positive sources and reclassified  58\n",
      "336 I have found  59  positive sources and reclassified  59\n",
      "337 I have found  60  positive sources and reclassified  60\n",
      "338 I have found  61  positive sources and reclassified  61\n",
      "340 I have found  62  positive sources and reclassified  62\n",
      "342 I have found  63  positive sources and reclassified  63\n",
      "343 I have found  64  positive sources and reclassified  64\n",
      "344 I have found  65  positive sources and reclassified  65\n",
      "352 I have found  66  positive sources and reclassified  66\n",
      "355 I have found  67  positive sources and reclassified  67\n",
      "360 I have found  68  positive sources and reclassified  68\n",
      "362 I have found  69  positive sources and reclassified  69\n",
      "363 I have found  70  positive sources and reclassified  70\n",
      "368 I have found  71  positive sources and reclassified  71\n",
      "369 I have found  72  positive sources and reclassified  72\n",
      "377 I have found  73  positive sources and reclassified  73\n",
      "378 I have found  74  positive sources and reclassified  74\n",
      "379 I have found  75  positive sources and reclassified  75\n",
      "384 I have found  76  positive sources and reclassified  76\n",
      "387 I have found  77  positive sources and reclassified  77\n",
      "392 I have found  78  positive sources and reclassified  78\n",
      "395 I have found  79  positive sources and reclassified  79\n",
      "397 I have found  80  positive sources and reclassified  80\n",
      "399 I have found  81  positive sources and reclassified  81\n",
      "403 I have found  82  positive sources and reclassified  82\n",
      "404 I have found  83  positive sources and reclassified  83\n",
      "406 I have found  84  positive sources and reclassified  84\n",
      "418 I have found  85  positive sources and reclassified  85\n",
      "426 I have found  86  positive sources and reclassified  86\n",
      "433 I have found  87  positive sources and reclassified  87\n",
      "435 I have found  88  positive sources and reclassified  88\n",
      "438 I have found  89  positive sources and reclassified  89\n",
      "440 I have found  90  positive sources and reclassified  90\n",
      "441 I have found  91  positive sources and reclassified  91\n",
      "443 I have found  92  positive sources and reclassified  92\n",
      "444 I have found  93  positive sources and reclassified  93\n",
      "445 I have found  94  positive sources and reclassified  94\n",
      "449 I have found  95  positive sources and reclassified  95\n",
      "451 I have found  96  positive sources and reclassified  96\n",
      "452 I have found  97  positive sources and reclassified  97\n",
      "453 I have found  98  positive sources and reclassified  98\n",
      "454 I have found  99  positive sources and reclassified  99\n",
      "461 I have found  100  positive sources and reclassified  100\n",
      "464 I have found  101  positive sources and reclassified  101\n",
      "466 I have found  102  positive sources and reclassified  102\n",
      "471 I have found  103  positive sources and reclassified  103\n",
      "474 I have found  104  positive sources and reclassified  104\n",
      "476 I have found  105  positive sources and reclassified  105\n",
      "488 I have found  106  positive sources and reclassified  106\n",
      "490 I have found  107  positive sources and reclassified  107\n",
      "491 I have found  108  positive sources and reclassified  108\n",
      "495 I have found  109  positive sources and reclassified  109\n",
      "512 I have found  110  positive sources and reclassified  110\n",
      "529 I have found  111  positive sources and reclassified  111\n",
      "533 I have found  112  positive sources and reclassified  112\n",
      "540 I have found  113  positive sources and reclassified  113\n",
      "542 I have found  114  positive sources and reclassified  114\n",
      "543 I have found  115  positive sources and reclassified  115\n",
      "552 I have found  116  positive sources and reclassified  116\n",
      "556 I have found  117  positive sources and reclassified  117\n",
      "560 I have found  118  positive sources and reclassified  118\n",
      "568 I have found  119  positive sources and reclassified  119\n",
      "574 I have found  120  positive sources and reclassified  120\n",
      "576 I have found  121  positive sources and reclassified  121\n",
      "579 I have found  122  positive sources and reclassified  122\n",
      "584 I have found  123  positive sources and reclassified  123\n",
      "587 I have found  124  positive sources and reclassified  124\n",
      "592 I have found  125  positive sources and reclassified  125\n",
      "597 I have found  126  positive sources and reclassified  126\n",
      "605 I have found  127  positive sources and reclassified  127\n",
      "610 I have found  128  positive sources and reclassified  128\n",
      "614 I have found  129  positive sources and reclassified  129\n",
      "617 I have found  130  positive sources and reclassified  130\n",
      "620 I have found  131  positive sources and reclassified  131\n",
      "622 I have found  132  positive sources and reclassified  132\n",
      "627 I have found  133  positive sources and reclassified  133\n",
      "628 I have found  134  positive sources and reclassified  134\n",
      "629 I have found  135  positive sources and reclassified  135\n",
      "632 I have found  136  positive sources and reclassified  136\n",
      "634 I have found  137  positive sources and reclassified  137\n",
      "639 I have found  138  positive sources and reclassified  138\n",
      "641 I have found  139  positive sources and reclassified  139\n",
      "644 I have found  140  positive sources and reclassified  140\n",
      "647 I have found  141  positive sources and reclassified  141\n",
      "653 I have found  142  positive sources and reclassified  142\n",
      "654 I have found  143  positive sources and reclassified  143\n",
      "660 I have found  144  positive sources and reclassified  144\n",
      "664 I have found  145  positive sources and reclassified  145\n",
      "668 I have found  146  positive sources and reclassified  146\n",
      "674 I have found  147  positive sources and reclassified  147\n",
      "679 I have found  148  positive sources and reclassified  148\n",
      "681 I have found  149  positive sources and reclassified  149\n",
      "689 I have found  150  positive sources and reclassified  150\n",
      "696 I have found  151  positive sources and reclassified  151\n",
      "704 I have found  152  positive sources and reclassified  152\n",
      "706 I have found  153  positive sources and reclassified  153\n",
      "711 I have found  154  positive sources and reclassified  154\n",
      "718 I have found  155  positive sources and reclassified  155\n",
      "733 I have found  156  positive sources and reclassified  156\n",
      "734 I have found  157  positive sources and reclassified  157\n",
      "747 I have found  158  positive sources and reclassified  158\n",
      "757 I have found  159  positive sources and reclassified  159\n",
      "771 I have found  160  positive sources and reclassified  160\n",
      "788 I have found  161  positive sources and reclassified  161\n",
      "791 I have found  162  positive sources and reclassified  162\n",
      "793 I have found  163  positive sources and reclassified  163\n",
      "794 I have found  164  positive sources and reclassified  164\n",
      "795 I have found  165  positive sources and reclassified  165\n",
      "798 I have found  166  positive sources and reclassified  166\n",
      "799 I have found  167  positive sources and reclassified  167\n",
      "808 I have found  168  positive sources and reclassified  168\n",
      "812 I have found  169  positive sources and reclassified  169\n",
      "814 I have found  170  positive sources and reclassified  170\n",
      "819 I have found  171  positive sources and reclassified  171\n",
      "827 I have found  172  positive sources and reclassified  172\n",
      "830 I have found  173  positive sources and reclassified  173\n",
      "831 I have found  174  positive sources and reclassified  174\n",
      "832 I have found  175  positive sources and reclassified  175\n",
      "833 I have found  176  positive sources and reclassified  176\n",
      "839 I have found  177  positive sources and reclassified  177\n",
      "842 I have found  178  positive sources and reclassified  178\n",
      "865 I have found  179  positive sources and reclassified  179\n",
      "869 I have found  180  positive sources and reclassified  180\n",
      "887 I have found  181  positive sources and reclassified  181\n",
      "891 I have found  182  positive sources and reclassified  182\n",
      "899 I have found  183  positive sources and reclassified  183\n",
      "914 I have found  184  positive sources and reclassified  184\n",
      "921 I have found  185  positive sources and reclassified  185\n",
      "933 I have found  186  positive sources and reclassified  186\n",
      "938 I have found  187  positive sources and reclassified  187\n",
      "939 I have found  188  positive sources and reclassified  188\n",
      "944 I have found  189  positive sources and reclassified  189\n",
      "949 I have found  190  positive sources and reclassified  190\n",
      "969 I have found  192  positive sources and reclassified  191\n",
      "974 I have found  193  positive sources and reclassified  192\n",
      "978 I have found  194  positive sources and reclassified  193\n",
      "982 I have found  195  positive sources and reclassified  194\n",
      "1009 I have found  199  positive sources and reclassified  195\n",
      "1010 I have found  200  positive sources and reclassified  196\n",
      "1034 I have found  202  positive sources and reclassified  197\n",
      "1048 I have found  206  positive sources and reclassified  198\n",
      "1049 I have found  207  positive sources and reclassified  199\n",
      "1051 I have found  208  positive sources and reclassified  200\n",
      "1063 I have found  210  positive sources and reclassified  201\n",
      "1065 I have found  211  positive sources and reclassified  202\n",
      "1078 I have found  213  positive sources and reclassified  203\n",
      "1083 I have found  214  positive sources and reclassified  204\n",
      "1085 I have found  215  positive sources and reclassified  205\n",
      "1090 I have found  216  positive sources and reclassified  206\n",
      "1094 I have found  217  positive sources and reclassified  207\n",
      "1105 I have found  218  positive sources and reclassified  208\n",
      "1116 I have found  219  positive sources and reclassified  209\n",
      "1120 I have found  220  positive sources and reclassified  210\n",
      "1122 I have found  221  positive sources and reclassified  211\n",
      "1127 I have found  222  positive sources and reclassified  212\n",
      "1143 I have found  225  positive sources and reclassified  213\n",
      "1151 I have found  227  positive sources and reclassified  214\n",
      "1162 I have found  231  positive sources and reclassified  215\n",
      "1173 I have found  233  positive sources and reclassified  216\n",
      "1207 I have found  238  positive sources and reclassified  217\n",
      "1247 I have found  242  positive sources and reclassified  218\n",
      "1251 I have found  243  positive sources and reclassified  219\n",
      "1252 I have found  244  positive sources and reclassified  220\n",
      "1258 I have found  245  positive sources and reclassified  221\n",
      "1259 I have found  246  positive sources and reclassified  222\n",
      "1276 I have found  248  positive sources and reclassified  223\n",
      "1283 I have found  250  positive sources and reclassified  224\n",
      "1288 I have found  251  positive sources and reclassified  225\n",
      "1321 I have found  255  positive sources and reclassified  226\n",
      "1336 I have found  258  positive sources and reclassified  227\n",
      "1337 I have found  259  positive sources and reclassified  228\n",
      "1346 I have found  260  positive sources and reclassified  229\n",
      "1366 I have found  262  positive sources and reclassified  230\n",
      "1373 I have found  265  positive sources and reclassified  231\n",
      "1377 I have found  266  positive sources and reclassified  232\n",
      "1379 I have found  267  positive sources and reclassified  233\n",
      "1388 I have found  269  positive sources and reclassified  234\n",
      "1400 I have found  270  positive sources and reclassified  235\n",
      "1405 I have found  272  positive sources and reclassified  236\n",
      "1408 I have found  273  positive sources and reclassified  237\n",
      "1426 I have found  275  positive sources and reclassified  238\n",
      "1435 I have found  276  positive sources and reclassified  239\n",
      "1439 I have found  277  positive sources and reclassified  240\n",
      "1447 I have found  278  positive sources and reclassified  241\n",
      "1449 I have found  279  positive sources and reclassified  242\n",
      "1452 I have found  280  positive sources and reclassified  243\n",
      "1466 I have found  281  positive sources and reclassified  244\n",
      "1479 I have found  282  positive sources and reclassified  245\n",
      "1480 I have found  283  positive sources and reclassified  246\n",
      "1491 I have found  287  positive sources and reclassified  247\n",
      "1492 I have found  288  positive sources and reclassified  248\n",
      "1495 I have found  289  positive sources and reclassified  249\n",
      "1497 I have found  290  positive sources and reclassified  250\n",
      "1499 I have found  292  positive sources and reclassified  251\n",
      "1508 I have found  294  positive sources and reclassified  252\n",
      "1517 I have found  296  positive sources and reclassified  253\n",
      "1527 I have found  297  positive sources and reclassified  254\n",
      "1530 I have found  298  positive sources and reclassified  255\n",
      "1550 I have found  300  positive sources and reclassified  256\n",
      "1552 I have found  301  positive sources and reclassified  257\n",
      "1555 I have found  303  positive sources and reclassified  258\n",
      "1581 I have found  306  positive sources and reclassified  259\n",
      "1589 I have found  308  positive sources and reclassified  260\n",
      "1593 I have found  310  positive sources and reclassified  261\n",
      "1603 I have found  313  positive sources and reclassified  262\n",
      "1624 I have found  316  positive sources and reclassified  263\n",
      "1626 I have found  317  positive sources and reclassified  264\n",
      "1630 I have found  319  positive sources and reclassified  265\n",
      "1633 I have found  320  positive sources and reclassified  266\n",
      "1634 I have found  321  positive sources and reclassified  267\n",
      "1636 I have found  322  positive sources and reclassified  268\n",
      "1644 I have found  323  positive sources and reclassified  269\n",
      "1648 I have found  324  positive sources and reclassified  270\n",
      "1661 I have found  326  positive sources and reclassified  271\n",
      "1667 I have found  327  positive sources and reclassified  272\n",
      "1675 I have found  329  positive sources and reclassified  273\n",
      "1685 I have found  331  positive sources and reclassified  274\n",
      "1686 I have found  332  positive sources and reclassified  275\n",
      "1694 I have found  333  positive sources and reclassified  276\n",
      "1736 I have found  339  positive sources and reclassified  277\n",
      "1753 I have found  341  positive sources and reclassified  278\n",
      "1771 I have found  344  positive sources and reclassified  279\n",
      "1788 I have found  346  positive sources and reclassified  280\n",
      "1799 I have found  349  positive sources and reclassified  281\n",
      "1800 I have found  350  positive sources and reclassified  282\n",
      "1832 I have found  355  positive sources and reclassified  283\n",
      "1845 I have found  357  positive sources and reclassified  284\n",
      "1874 I have found  360  positive sources and reclassified  285\n",
      "1876 I have found  361  positive sources and reclassified  286\n",
      "1877 I have found  362  positive sources and reclassified  287\n",
      "1878 I have found  363  positive sources and reclassified  288\n",
      "1882 I have found  365  positive sources and reclassified  289\n",
      "1885 I have found  366  positive sources and reclassified  290\n",
      "1886 I have found  367  positive sources and reclassified  291\n",
      "1912 I have found  370  positive sources and reclassified  292\n",
      "1956 I have found  376  positive sources and reclassified  293\n",
      "1964 I have found  378  positive sources and reclassified  294\n",
      "1965 I have found  379  positive sources and reclassified  295\n",
      "1966 I have found  380  positive sources and reclassified  296\n",
      "1967 I have found  381  positive sources and reclassified  297\n",
      "1969 I have found  383  positive sources and reclassified  298\n",
      "1970 I have found  384  positive sources and reclassified  299\n",
      "1971 I have found  385  positive sources and reclassified  300\n",
      "1972 I have found  386  positive sources and reclassified  301\n",
      "1973 I have found  387  positive sources and reclassified  302\n",
      "1974 I have found  388  positive sources and reclassified  303\n",
      "1975 I have found  389  positive sources and reclassified  304\n",
      "1976 I have found  390  positive sources and reclassified  305\n",
      "1977 I have found  391  positive sources and reclassified  306\n",
      "1978 I have found  392  positive sources and reclassified  307\n",
      "1979 I have found  393  positive sources and reclassified  308\n",
      "1980 I have found  394  positive sources and reclassified  309\n",
      "1982 I have found  396  positive sources and reclassified  310\n",
      "1983 I have found  397  positive sources and reclassified  311\n",
      "1984 I have found  398  positive sources and reclassified  312\n",
      "1994 I have found  399  positive sources and reclassified  313\n",
      "2004 I have found  400  positive sources and reclassified  314\n",
      "2008 I have found  401  positive sources and reclassified  315\n",
      "2016 I have found  404  positive sources and reclassified  316\n",
      "2017 I have found  405  positive sources and reclassified  317\n",
      "2025 I have found  409  positive sources and reclassified  318\n",
      "2026 I have found  410  positive sources and reclassified  319\n",
      "2029 I have found  412  positive sources and reclassified  320\n",
      "2060 I have found  416  positive sources and reclassified  321\n",
      "2093 I have found  424  positive sources and reclassified  322\n",
      "2121 I have found  430  positive sources and reclassified  323\n",
      "2126 I have found  432  positive sources and reclassified  324\n",
      "2131 I have found  436  positive sources and reclassified  325\n",
      "2138 I have found  437  positive sources and reclassified  326\n",
      "2145 I have found  441  positive sources and reclassified  327\n",
      "2148 I have found  442  positive sources and reclassified  328\n",
      "2158 I have found  443  positive sources and reclassified  329\n",
      "2188 I have found  450  positive sources and reclassified  330\n",
      "2219 I have found  453  positive sources and reclassified  331\n",
      "2245 I have found  456  positive sources and reclassified  332\n",
      "2246 I have found  457  positive sources and reclassified  333\n",
      "2261 I have found  462  positive sources and reclassified  334\n",
      "2262 I have found  463  positive sources and reclassified  335\n",
      "2279 I have found  468  positive sources and reclassified  336\n",
      "2303 I have found  470  positive sources and reclassified  337\n",
      "2308 I have found  471  positive sources and reclassified  338\n",
      "2317 I have found  475  positive sources and reclassified  339\n",
      "2320 I have found  478  positive sources and reclassified  340\n",
      "2325 I have found  483  positive sources and reclassified  341\n",
      "2344 I have found  497  positive sources and reclassified  342\n",
      "2346 I have found  499  positive sources and reclassified  343\n",
      "2348 I have found  500  positive sources and reclassified  344\n",
      "2380 I have found  513  positive sources and reclassified  345\n",
      "2382 I have found  514  positive sources and reclassified  346\n",
      "2386 I have found  515  positive sources and reclassified  347\n",
      "2387 I have found  516  positive sources and reclassified  348\n",
      "2405 I have found  519  positive sources and reclassified  349\n",
      "2406 I have found  520  positive sources and reclassified  350\n",
      "2407 I have found  521  positive sources and reclassified  351\n",
      "2408 I have found  522  positive sources and reclassified  352\n",
      "2410 I have found  523  positive sources and reclassified  353\n",
      "2412 I have found  524  positive sources and reclassified  354\n",
      "2413 I have found  525  positive sources and reclassified  355\n",
      "2414 I have found  526  positive sources and reclassified  356\n",
      "2421 I have found  528  positive sources and reclassified  357\n",
      "2422 I have found  529  positive sources and reclassified  358\n",
      "2424 I have found  531  positive sources and reclassified  359\n",
      "2427 I have found  533  positive sources and reclassified  360\n",
      "2432 I have found  535  positive sources and reclassified  361\n",
      "2436 I have found  537  positive sources and reclassified  362\n",
      "2437 I have found  538  positive sources and reclassified  363\n",
      "2439 I have found  539  positive sources and reclassified  364\n",
      "2441 I have found  540  positive sources and reclassified  365\n",
      "2444 I have found  541  positive sources and reclassified  366\n",
      "2445 I have found  542  positive sources and reclassified  367\n",
      "2446 I have found  543  positive sources and reclassified  368\n",
      "2448 I have found  544  positive sources and reclassified  369\n",
      "2449 I have found  545  positive sources and reclassified  370\n",
      "2450 I have found  546  positive sources and reclassified  371\n",
      "2451 I have found  547  positive sources and reclassified  372\n",
      "2452 I have found  548  positive sources and reclassified  373\n",
      "2453 I have found  549  positive sources and reclassified  374\n",
      "2454 I have found  550  positive sources and reclassified  375\n",
      "2455 I have found  551  positive sources and reclassified  376\n",
      "2457 I have found  552  positive sources and reclassified  377\n",
      "2458 I have found  553  positive sources and reclassified  378\n",
      "2460 I have found  554  positive sources and reclassified  379\n",
      "2461 I have found  555  positive sources and reclassified  380\n",
      "2462 I have found  556  positive sources and reclassified  381\n",
      "2463 I have found  557  positive sources and reclassified  382\n",
      "2465 I have found  558  positive sources and reclassified  383\n",
      "2467 I have found  559  positive sources and reclassified  384\n",
      "2468 I have found  560  positive sources and reclassified  385\n",
      "2469 I have found  561  positive sources and reclassified  386\n",
      "2471 I have found  562  positive sources and reclassified  387\n",
      "2473 I have found  563  positive sources and reclassified  388\n",
      "2475 I have found  565  positive sources and reclassified  389\n",
      "2477 I have found  566  positive sources and reclassified  390\n",
      "2478 I have found  567  positive sources and reclassified  391\n",
      "2479 I have found  568  positive sources and reclassified  392\n",
      "2480 I have found  569  positive sources and reclassified  393\n",
      "2481 I have found  570  positive sources and reclassified  394\n",
      "2482 I have found  571  positive sources and reclassified  395\n",
      "2483 I have found  572  positive sources and reclassified  396\n",
      "2484 I have found  573  positive sources and reclassified  397\n",
      "2485 I have found  574  positive sources and reclassified  398\n",
      "2486 I have found  575  positive sources and reclassified  399\n",
      "2487 I have found  576  positive sources and reclassified  400\n",
      "2488 I have found  577  positive sources and reclassified  401\n",
      "2489 I have found  578  positive sources and reclassified  402\n",
      "2490 I have found  579  positive sources and reclassified  403\n",
      "2492 I have found  580  positive sources and reclassified  404\n",
      "2493 I have found  581  positive sources and reclassified  405\n",
      "2494 I have found  582  positive sources and reclassified  406\n",
      "2495 I have found  583  positive sources and reclassified  407\n",
      "2496 I have found  584  positive sources and reclassified  408\n",
      "2497 I have found  585  positive sources and reclassified  409\n",
      "2498 I have found  586  positive sources and reclassified  410\n",
      "2499 I have found  587  positive sources and reclassified  411\n",
      "2500 I have found  588  positive sources and reclassified  412\n",
      "2501 I have found  589  positive sources and reclassified  413\n",
      "2502 I have found  590  positive sources and reclassified  414\n",
      "2503 I have found  591  positive sources and reclassified  415\n",
      "2504 I have found  592  positive sources and reclassified  416\n",
      "2505 I have found  593  positive sources and reclassified  417\n",
      "2506 I have found  594  positive sources and reclassified  418\n",
      "2507 I have found  595  positive sources and reclassified  419\n",
      "2508 I have found  596  positive sources and reclassified  420\n",
      "2509 I have found  597  positive sources and reclassified  421\n",
      "2510 I have found  598  positive sources and reclassified  422\n",
      "2511 I have found  599  positive sources and reclassified  423\n",
      "2512 I have found  600  positive sources and reclassified  424\n",
      "2513 I have found  601  positive sources and reclassified  425\n",
      "2514 I have found  602  positive sources and reclassified  426\n",
      "2515 I have found  603  positive sources and reclassified  427\n",
      "2516 I have found  604  positive sources and reclassified  428\n",
      "2517 I have found  605  positive sources and reclassified  429\n",
      "2518 I have found  606  positive sources and reclassified  430\n",
      "2519 I have found  607  positive sources and reclassified  431\n",
      "2520 I have found  608  positive sources and reclassified  432\n",
      "2521 I have found  609  positive sources and reclassified  433\n",
      "2522 I have found  610  positive sources and reclassified  434\n",
      "2523 I have found  611  positive sources and reclassified  435\n",
      "2524 I have found  612  positive sources and reclassified  436\n",
      "2525 I have found  613  positive sources and reclassified  437\n",
      "2526 I have found  614  positive sources and reclassified  438\n",
      "2527 I have found  615  positive sources and reclassified  439\n",
      "2528 I have found  616  positive sources and reclassified  440\n",
      "2529 I have found  617  positive sources and reclassified  441\n",
      "2530 I have found  618  positive sources and reclassified  442\n",
      "2531 I have found  619  positive sources and reclassified  443\n",
      "2532 I have found  620  positive sources and reclassified  444\n",
      "2534 I have found  621  positive sources and reclassified  445\n",
      "2535 I have found  622  positive sources and reclassified  446\n",
      "2536 I have found  623  positive sources and reclassified  447\n",
      "2537 I have found  624  positive sources and reclassified  448\n",
      "2538 I have found  625  positive sources and reclassified  449\n",
      "2539 I have found  626  positive sources and reclassified  450\n",
      "2540 I have found  627  positive sources and reclassified  451\n",
      "2541 I have found  628  positive sources and reclassified  452\n",
      "2542 I have found  629  positive sources and reclassified  453\n",
      "2543 I have found  630  positive sources and reclassified  454\n",
      "2544 I have found  631  positive sources and reclassified  455\n",
      "2545 I have found  632  positive sources and reclassified  456\n",
      "2546 I have found  633  positive sources and reclassified  457\n",
      "2547 I have found  634  positive sources and reclassified  458\n",
      "2548 I have found  635  positive sources and reclassified  459\n",
      "2549 I have found  636  positive sources and reclassified  460\n",
      "2550 I have found  637  positive sources and reclassified  461\n",
      "2551 I have found  638  positive sources and reclassified  462\n",
      "2552 I have found  639  positive sources and reclassified  463\n",
      "2553 I have found  640  positive sources and reclassified  464\n",
      "2554 I have found  641  positive sources and reclassified  465\n",
      "2555 I have found  642  positive sources and reclassified  466\n",
      "2556 I have found  643  positive sources and reclassified  467\n",
      "2557 I have found  644  positive sources and reclassified  468\n",
      "2558 I have found  645  positive sources and reclassified  469\n",
      "2559 I have found  646  positive sources and reclassified  470\n",
      "2560 I have found  647  positive sources and reclassified  471\n",
      "2561 I have found  648  positive sources and reclassified  472\n",
      "2562 I have found  649  positive sources and reclassified  473\n",
      "2563 I have found  650  positive sources and reclassified  474\n",
      "2564 I have found  651  positive sources and reclassified  475\n",
      "2565 I have found  652  positive sources and reclassified  476\n",
      "2566 I have found  653  positive sources and reclassified  477\n",
      "2567 I have found  654  positive sources and reclassified  478\n",
      "2568 I have found  655  positive sources and reclassified  479\n",
      "2569 I have found  656  positive sources and reclassified  480\n",
      "2570 I have found  657  positive sources and reclassified  481\n",
      "2571 I have found  658  positive sources and reclassified  482\n",
      "2572 I have found  659  positive sources and reclassified  483\n",
      "2573 I have found  660  positive sources and reclassified  484\n",
      "2574 I have found  661  positive sources and reclassified  485\n",
      "2575 I have found  662  positive sources and reclassified  486\n",
      "2576 I have found  663  positive sources and reclassified  487\n",
      "2577 I have found  664  positive sources and reclassified  488\n",
      "2578 I have found  665  positive sources and reclassified  489\n",
      "2579 I have found  666  positive sources and reclassified  490\n",
      "2580 I have found  667  positive sources and reclassified  491\n",
      "2581 I have found  668  positive sources and reclassified  492\n",
      "2583 I have found  669  positive sources and reclassified  493\n",
      "2584 I have found  670  positive sources and reclassified  494\n",
      "2585 I have found  671  positive sources and reclassified  495\n",
      "2586 I have found  672  positive sources and reclassified  496\n",
      "2587 I have found  673  positive sources and reclassified  497\n",
      "2588 I have found  674  positive sources and reclassified  498\n",
      "2589 I have found  675  positive sources and reclassified  499\n",
      "2590 I have found  676  positive sources and reclassified  500\n",
      "2592 I have found  677  positive sources and reclassified  501\n",
      "2593 I have found  678  positive sources and reclassified  502\n",
      "2594 I have found  679  positive sources and reclassified  503\n",
      "2595 I have found  680  positive sources and reclassified  504\n",
      "2596 I have found  681  positive sources and reclassified  505\n",
      "2598 I have found  682  positive sources and reclassified  506\n",
      "2599 I have found  683  positive sources and reclassified  507\n",
      "2600 I have found  684  positive sources and reclassified  508\n",
      "2601 I have found  685  positive sources and reclassified  509\n",
      "2603 I have found  686  positive sources and reclassified  510\n",
      "2604 I have found  687  positive sources and reclassified  511\n",
      "2605 I have found  688  positive sources and reclassified  512\n",
      "2606 I have found  689  positive sources and reclassified  513\n",
      "2607 I have found  690  positive sources and reclassified  514\n",
      "2608 I have found  691  positive sources and reclassified  515\n",
      "2609 I have found  692  positive sources and reclassified  516\n",
      "2610 I have found  693  positive sources and reclassified  517\n",
      "2611 I have found  694  positive sources and reclassified  518\n",
      "2612 I have found  695  positive sources and reclassified  519\n",
      "2613 I have found  696  positive sources and reclassified  520\n",
      "2615 I have found  697  positive sources and reclassified  521\n",
      "2616 I have found  698  positive sources and reclassified  522\n",
      "2617 I have found  699  positive sources and reclassified  523\n",
      "2618 I have found  700  positive sources and reclassified  524\n",
      "2619 I have found  701  positive sources and reclassified  525\n",
      "2620 I have found  702  positive sources and reclassified  526\n",
      "2621 I have found  703  positive sources and reclassified  527\n",
      "2622 I have found  704  positive sources and reclassified  528\n",
      "2623 I have found  705  positive sources and reclassified  529\n",
      "2624 I have found  706  positive sources and reclassified  530\n",
      "2625 I have found  707  positive sources and reclassified  531\n",
      "2626 I have found  708  positive sources and reclassified  532\n",
      "2627 I have found  709  positive sources and reclassified  533\n",
      "2629 I have found  710  positive sources and reclassified  534\n",
      "2630 I have found  711  positive sources and reclassified  535\n",
      "2631 I have found  712  positive sources and reclassified  536\n",
      "2632 I have found  713  positive sources and reclassified  537\n",
      "2633 I have found  714  positive sources and reclassified  538\n",
      "2634 I have found  715  positive sources and reclassified  539\n",
      "2635 I have found  716  positive sources and reclassified  540\n",
      "2637 I have found  717  positive sources and reclassified  541\n",
      "2638 I have found  718  positive sources and reclassified  542\n",
      "2639 I have found  719  positive sources and reclassified  543\n",
      "2640 I have found  720  positive sources and reclassified  544\n",
      "2641 I have found  721  positive sources and reclassified  545\n",
      "2642 I have found  722  positive sources and reclassified  546\n",
      "2643 I have found  723  positive sources and reclassified  547\n",
      "2645 I have found  724  positive sources and reclassified  548\n",
      "2647 I have found  725  positive sources and reclassified  549\n",
      "2648 I have found  726  positive sources and reclassified  550\n",
      "2650 I have found  727  positive sources and reclassified  551\n",
      "2651 I have found  728  positive sources and reclassified  552\n",
      "2652 I have found  729  positive sources and reclassified  553\n",
      "2653 I have found  730  positive sources and reclassified  554\n",
      "2656 I have found  731  positive sources and reclassified  555\n",
      "2657 I have found  732  positive sources and reclassified  556\n",
      "2658 I have found  733  positive sources and reclassified  557\n",
      "2659 I have found  734  positive sources and reclassified  558\n",
      "2660 I have found  735  positive sources and reclassified  559\n",
      "2663 I have found  736  positive sources and reclassified  560\n",
      "2665 I have found  737  positive sources and reclassified  561\n",
      "2667 I have found  738  positive sources and reclassified  562\n",
      "2668 I have found  739  positive sources and reclassified  563\n",
      "2669 I have found  740  positive sources and reclassified  564\n",
      "2670 I have found  741  positive sources and reclassified  565\n",
      "2671 I have found  742  positive sources and reclassified  566\n",
      "2672 I have found  743  positive sources and reclassified  567\n",
      "2674 I have found  744  positive sources and reclassified  568\n",
      "2678 I have found  745  positive sources and reclassified  569\n",
      "2679 I have found  746  positive sources and reclassified  570\n",
      "2680 I have found  747  positive sources and reclassified  571\n",
      "2683 I have found  748  positive sources and reclassified  572\n",
      "2685 I have found  749  positive sources and reclassified  573\n",
      "2688 I have found  750  positive sources and reclassified  574\n",
      "2690 I have found  751  positive sources and reclassified  575\n",
      "2691 I have found  752  positive sources and reclassified  576\n",
      "2692 I have found  753  positive sources and reclassified  577\n",
      "2693 I have found  754  positive sources and reclassified  578\n",
      "2694 I have found  755  positive sources and reclassified  579\n",
      "2699 I have found  756  positive sources and reclassified  580\n",
      "2702 I have found  757  positive sources and reclassified  581\n",
      "2705 I have found  758  positive sources and reclassified  582\n",
      "2707 I have found  759  positive sources and reclassified  583\n",
      "2709 I have found  760  positive sources and reclassified  584\n",
      "2711 I have found  761  positive sources and reclassified  585\n",
      "2712 I have found  762  positive sources and reclassified  586\n",
      "2714 I have found  763  positive sources and reclassified  587\n",
      "2716 I have found  764  positive sources and reclassified  588\n",
      "2720 I have found  765  positive sources and reclassified  589\n",
      "2724 I have found  766  positive sources and reclassified  590\n",
      "2731 I have found  767  positive sources and reclassified  591\n",
      "2733 I have found  768  positive sources and reclassified  592\n",
      "2734 I have found  769  positive sources and reclassified  593\n",
      "2735 I have found  770  positive sources and reclassified  594\n",
      "2736 I have found  771  positive sources and reclassified  595\n",
      "2737 I have found  772  positive sources and reclassified  596\n",
      "2739 I have found  773  positive sources and reclassified  597\n",
      "2741 I have found  774  positive sources and reclassified  598\n",
      "2744 I have found  775  positive sources and reclassified  599\n",
      "2747 I have found  776  positive sources and reclassified  600\n",
      "2748 I have found  777  positive sources and reclassified  601\n",
      "2759 I have found  778  positive sources and reclassified  602\n",
      "2762 I have found  779  positive sources and reclassified  603\n",
      "2770 I have found  780  positive sources and reclassified  604\n",
      "2777 I have found  781  positive sources and reclassified  605\n",
      "2782 I have found  782  positive sources and reclassified  606\n",
      "2785 I have found  783  positive sources and reclassified  607\n",
      "2793 I have found  784  positive sources and reclassified  608\n",
      "2796 I have found  785  positive sources and reclassified  609\n",
      "2797 I have found  786  positive sources and reclassified  610\n",
      "2815 I have found  787  positive sources and reclassified  611\n",
      "2818 I have found  788  positive sources and reclassified  612\n",
      "2823 I have found  789  positive sources and reclassified  613\n",
      "2827 I have found  790  positive sources and reclassified  614\n",
      "2837 I have found  791  positive sources and reclassified  615\n",
      "2839 I have found  792  positive sources and reclassified  616\n",
      "2844 I have found  793  positive sources and reclassified  617\n",
      "2846 I have found  794  positive sources and reclassified  618\n",
      "2847 I have found  795  positive sources and reclassified  619\n",
      "2850 I have found  796  positive sources and reclassified  620\n",
      "2854 I have found  797  positive sources and reclassified  621\n",
      "2856 I have found  798  positive sources and reclassified  622\n",
      "2861 I have found  799  positive sources and reclassified  623\n",
      "2863 I have found  800  positive sources and reclassified  624\n",
      "2867 I have found  801  positive sources and reclassified  625\n",
      "2874 I have found  802  positive sources and reclassified  626\n",
      "2878 I have found  803  positive sources and reclassified  627\n",
      "2881 I have found  804  positive sources and reclassified  628\n",
      "2883 I have found  805  positive sources and reclassified  629\n",
      "2887 I have found  806  positive sources and reclassified  630\n",
      "2888 I have found  807  positive sources and reclassified  631\n",
      "2889 I have found  808  positive sources and reclassified  632\n",
      "2890 I have found  809  positive sources and reclassified  633\n",
      "2891 I have found  810  positive sources and reclassified  634\n",
      "2892 I have found  811  positive sources and reclassified  635\n",
      "2894 I have found  812  positive sources and reclassified  636\n",
      "2895 I have found  813  positive sources and reclassified  637\n",
      "2896 I have found  814  positive sources and reclassified  638\n",
      "2897 I have found  815  positive sources and reclassified  639\n",
      "2898 I have found  816  positive sources and reclassified  640\n",
      "2899 I have found  817  positive sources and reclassified  641\n",
      "2900 I have found  818  positive sources and reclassified  642\n",
      "2901 I have found  819  positive sources and reclassified  643\n",
      "2902 I have found  820  positive sources and reclassified  644\n",
      "2904 I have found  821  positive sources and reclassified  645\n",
      "2906 I have found  822  positive sources and reclassified  646\n",
      "2908 I have found  823  positive sources and reclassified  647\n",
      "2909 I have found  824  positive sources and reclassified  648\n",
      "2910 I have found  825  positive sources and reclassified  649\n",
      "2911 I have found  826  positive sources and reclassified  650\n",
      "2912 I have found  827  positive sources and reclassified  651\n",
      "2913 I have found  828  positive sources and reclassified  652\n",
      "2914 I have found  829  positive sources and reclassified  653\n",
      "2915 I have found  830  positive sources and reclassified  654\n",
      "2916 I have found  831  positive sources and reclassified  655\n",
      "2917 I have found  832  positive sources and reclassified  656\n",
      "2919 I have found  833  positive sources and reclassified  657\n",
      "2920 I have found  834  positive sources and reclassified  658\n",
      "2921 I have found  835  positive sources and reclassified  659\n",
      "2922 I have found  836  positive sources and reclassified  660\n",
      "2923 I have found  837  positive sources and reclassified  661\n",
      "2924 I have found  838  positive sources and reclassified  662\n",
      "2925 I have found  839  positive sources and reclassified  663\n",
      "2926 I have found  840  positive sources and reclassified  664\n",
      "2927 I have found  841  positive sources and reclassified  665\n",
      "2928 I have found  842  positive sources and reclassified  666\n",
      "2929 I have found  843  positive sources and reclassified  667\n",
      "2931 I have found  844  positive sources and reclassified  668\n",
      "2933 I have found  845  positive sources and reclassified  669\n",
      "2934 I have found  846  positive sources and reclassified  670\n",
      "2935 I have found  847  positive sources and reclassified  671\n",
      "2936 I have found  848  positive sources and reclassified  672\n",
      "2937 I have found  849  positive sources and reclassified  673\n",
      "2938 I have found  850  positive sources and reclassified  674\n",
      "2939 I have found  851  positive sources and reclassified  675\n",
      "2940 I have found  852  positive sources and reclassified  676\n",
      "2941 I have found  853  positive sources and reclassified  677\n",
      "2942 I have found  854  positive sources and reclassified  678\n",
      "2943 I have found  855  positive sources and reclassified  679\n",
      "2944 I have found  856  positive sources and reclassified  680\n",
      "2945 I have found  857  positive sources and reclassified  681\n",
      "2946 I have found  858  positive sources and reclassified  682\n",
      "2947 I have found  859  positive sources and reclassified  683\n",
      "2948 I have found  860  positive sources and reclassified  684\n",
      "2949 I have found  861  positive sources and reclassified  685\n",
      "2950 I have found  862  positive sources and reclassified  686\n",
      "2951 I have found  863  positive sources and reclassified  687\n",
      "2952 I have found  864  positive sources and reclassified  688\n",
      "2953 I have found  865  positive sources and reclassified  689\n",
      "2954 I have found  866  positive sources and reclassified  690\n",
      "2955 I have found  867  positive sources and reclassified  691\n",
      "2956 I have found  868  positive sources and reclassified  692\n",
      "2957 I have found  869  positive sources and reclassified  693\n",
      "2958 I have found  870  positive sources and reclassified  694\n",
      "2959 I have found  871  positive sources and reclassified  695\n",
      "2960 I have found  872  positive sources and reclassified  696\n",
      "2961 I have found  873  positive sources and reclassified  697\n",
      "2963 I have found  874  positive sources and reclassified  698\n",
      "2964 I have found  875  positive sources and reclassified  699\n",
      "2967 I have found  876  positive sources and reclassified  700\n",
      "2968 I have found  877  positive sources and reclassified  701\n",
      "2969 I have found  878  positive sources and reclassified  702\n",
      "2970 I have found  879  positive sources and reclassified  703\n",
      "2971 I have found  880  positive sources and reclassified  704\n",
      "2972 I have found  881  positive sources and reclassified  705\n",
      "2973 I have found  882  positive sources and reclassified  706\n",
      "2974 I have found  883  positive sources and reclassified  707\n",
      "2975 I have found  884  positive sources and reclassified  708\n",
      "2976 I have found  885  positive sources and reclassified  709\n",
      "2977 I have found  886  positive sources and reclassified  710\n",
      "2978 I have found  887  positive sources and reclassified  711\n",
      "2979 I have found  888  positive sources and reclassified  712\n",
      "2980 I have found  889  positive sources and reclassified  713\n",
      "2981 I have found  890  positive sources and reclassified  714\n",
      "2982 I have found  891  positive sources and reclassified  715\n",
      "2983 I have found  892  positive sources and reclassified  716\n",
      "2984 I have found  893  positive sources and reclassified  717\n",
      "2985 I have found  894  positive sources and reclassified  718\n",
      "2986 I have found  895  positive sources and reclassified  719\n",
      "2987 I have found  896  positive sources and reclassified  720\n",
      "2988 I have found  897  positive sources and reclassified  721\n",
      "2989 I have found  898  positive sources and reclassified  722\n",
      "2990 I have found  899  positive sources and reclassified  723\n",
      "2991 I have found  900  positive sources and reclassified  724\n",
      "2992 I have found  901  positive sources and reclassified  725\n",
      "2993 I have found  902  positive sources and reclassified  726\n",
      "2994 I have found  903  positive sources and reclassified  727\n",
      "2995 I have found  904  positive sources and reclassified  728\n",
      "2996 I have found  905  positive sources and reclassified  729\n",
      "2997 I have found  906  positive sources and reclassified  730\n",
      "2998 I have found  907  positive sources and reclassified  731\n",
      "2999 I have found  908  positive sources and reclassified  732\n",
      "3000 I have found  909  positive sources and reclassified  733\n",
      "3001 I have found  910  positive sources and reclassified  734\n",
      "3002 I have found  911  positive sources and reclassified  735\n",
      "3003 I have found  912  positive sources and reclassified  736\n",
      "3004 I have found  913  positive sources and reclassified  737\n",
      "3005 I have found  914  positive sources and reclassified  738\n",
      "3006 I have found  915  positive sources and reclassified  739\n",
      "3007 I have found  916  positive sources and reclassified  740\n",
      "3008 I have found  917  positive sources and reclassified  741\n",
      "3009 I have found  918  positive sources and reclassified  742\n",
      "3010 I have found  919  positive sources and reclassified  743\n",
      "3011 I have found  920  positive sources and reclassified  744\n",
      "3012 I have found  921  positive sources and reclassified  745\n",
      "3013 I have found  922  positive sources and reclassified  746\n",
      "3014 I have found  923  positive sources and reclassified  747\n",
      "3015 I have found  924  positive sources and reclassified  748\n",
      "3016 I have found  925  positive sources and reclassified  749\n",
      "3017 I have found  926  positive sources and reclassified  750\n",
      "3019 I have found  927  positive sources and reclassified  751\n",
      "3020 I have found  928  positive sources and reclassified  752\n",
      "3021 I have found  929  positive sources and reclassified  753\n",
      "3022 I have found  930  positive sources and reclassified  754\n",
      "3023 I have found  931  positive sources and reclassified  755\n",
      "3024 I have found  932  positive sources and reclassified  756\n",
      "3025 I have found  933  positive sources and reclassified  757\n",
      "3026 I have found  934  positive sources and reclassified  758\n",
      "3027 I have found  935  positive sources and reclassified  759\n",
      "3028 I have found  936  positive sources and reclassified  760\n",
      "3029 I have found  937  positive sources and reclassified  761\n",
      "3030 I have found  938  positive sources and reclassified  762\n",
      "3031 I have found  939  positive sources and reclassified  763\n",
      "3032 I have found  940  positive sources and reclassified  764\n",
      "3033 I have found  941  positive sources and reclassified  765\n",
      "3034 I have found  942  positive sources and reclassified  766\n",
      "3035 I have found  943  positive sources and reclassified  767\n",
      "3036 I have found  944  positive sources and reclassified  768\n",
      "3037 I have found  945  positive sources and reclassified  769\n",
      "3038 I have found  946  positive sources and reclassified  770\n",
      "3039 I have found  947  positive sources and reclassified  771\n",
      "3040 I have found  948  positive sources and reclassified  772\n",
      "3041 I have found  949  positive sources and reclassified  773\n",
      "3042 I have found  950  positive sources and reclassified  774\n",
      "3043 I have found  951  positive sources and reclassified  775\n",
      "3044 I have found  952  positive sources and reclassified  776\n",
      "3045 I have found  953  positive sources and reclassified  777\n",
      "3046 I have found  954  positive sources and reclassified  778\n",
      "3047 I have found  955  positive sources and reclassified  779\n",
      "3048 I have found  956  positive sources and reclassified  780\n",
      "3049 I have found  957  positive sources and reclassified  781\n",
      "3051 I have found  958  positive sources and reclassified  782\n",
      "3052 I have found  959  positive sources and reclassified  783\n",
      "3053 I have found  960  positive sources and reclassified  784\n",
      "3054 I have found  961  positive sources and reclassified  785\n",
      "3055 I have found  962  positive sources and reclassified  786\n",
      "3056 I have found  963  positive sources and reclassified  787\n",
      "3057 I have found  964  positive sources and reclassified  788\n",
      "3058 I have found  965  positive sources and reclassified  789\n",
      "3059 I have found  966  positive sources and reclassified  790\n",
      "3060 I have found  967  positive sources and reclassified  791\n",
      "3061 I have found  968  positive sources and reclassified  792\n",
      "3062 I have found  969  positive sources and reclassified  793\n",
      "3063 I have found  970  positive sources and reclassified  794\n",
      "3064 I have found  971  positive sources and reclassified  795\n",
      "3065 I have found  972  positive sources and reclassified  796\n",
      "3066 I have found  973  positive sources and reclassified  797\n",
      "3067 I have found  974  positive sources and reclassified  798\n",
      "3068 I have found  975  positive sources and reclassified  799\n",
      "3069 I have found  976  positive sources and reclassified  800\n",
      "3070 I have found  977  positive sources and reclassified  801\n",
      "3071 I have found  978  positive sources and reclassified  802\n",
      "3072 I have found  979  positive sources and reclassified  803\n",
      "3073 I have found  980  positive sources and reclassified  804\n",
      "3075 I have found  981  positive sources and reclassified  805\n",
      "3076 I have found  982  positive sources and reclassified  806\n",
      "3077 I have found  983  positive sources and reclassified  807\n",
      "3078 I have found  984  positive sources and reclassified  808\n",
      "3079 I have found  985  positive sources and reclassified  809\n",
      "3080 I have found  986  positive sources and reclassified  810\n",
      "3082 I have found  987  positive sources and reclassified  811\n",
      "3084 I have found  988  positive sources and reclassified  812\n",
      "3085 I have found  989  positive sources and reclassified  813\n",
      "3086 I have found  990  positive sources and reclassified  814\n",
      "3087 I have found  991  positive sources and reclassified  815\n",
      "3088 I have found  992  positive sources and reclassified  816\n",
      "3090 I have found  993  positive sources and reclassified  817\n",
      "3091 I have found  994  positive sources and reclassified  818\n",
      "3092 I have found  995  positive sources and reclassified  819\n",
      "3093 I have found  996  positive sources and reclassified  820\n",
      "3094 I have found  997  positive sources and reclassified  821\n",
      "3095 I have found  998  positive sources and reclassified  822\n",
      "3096 I have found  999  positive sources and reclassified  823\n",
      "3097 I have found  1000  positive sources and reclassified  824\n",
      "3098 I have found  1001  positive sources and reclassified  825\n",
      "3099 I have found  1002  positive sources and reclassified  826\n",
      "3100 I have found  1003  positive sources and reclassified  827\n",
      "3101 I have found  1004  positive sources and reclassified  828\n",
      "3102 I have found  1005  positive sources and reclassified  829\n",
      "3103 I have found  1006  positive sources and reclassified  830\n",
      "3104 I have found  1007  positive sources and reclassified  831\n",
      "3105 I have found  1008  positive sources and reclassified  832\n",
      "3106 I have found  1009  positive sources and reclassified  833\n",
      "3107 I have found  1010  positive sources and reclassified  834\n",
      "3108 I have found  1011  positive sources and reclassified  835\n",
      "3109 I have found  1012  positive sources and reclassified  836\n",
      "3110 I have found  1013  positive sources and reclassified  837\n",
      "3111 I have found  1014  positive sources and reclassified  838\n",
      "3112 I have found  1015  positive sources and reclassified  839\n",
      "3113 I have found  1016  positive sources and reclassified  840\n",
      "3115 I have found  1017  positive sources and reclassified  841\n",
      "3116 I have found  1018  positive sources and reclassified  842\n",
      "3117 I have found  1019  positive sources and reclassified  843\n",
      "3118 I have found  1020  positive sources and reclassified  844\n",
      "3119 I have found  1021  positive sources and reclassified  845\n",
      "3121 I have found  1022  positive sources and reclassified  846\n",
      "3122 I have found  1023  positive sources and reclassified  847\n",
      "3123 I have found  1024  positive sources and reclassified  848\n",
      "3124 I have found  1025  positive sources and reclassified  849\n",
      "3125 I have found  1026  positive sources and reclassified  850\n",
      "3126 I have found  1027  positive sources and reclassified  851\n",
      "3127 I have found  1028  positive sources and reclassified  852\n",
      "3128 I have found  1029  positive sources and reclassified  853\n",
      "3129 I have found  1030  positive sources and reclassified  854\n",
      "3130 I have found  1031  positive sources and reclassified  855\n",
      "3131 I have found  1032  positive sources and reclassified  856\n",
      "3132 I have found  1033  positive sources and reclassified  857\n",
      "3133 I have found  1034  positive sources and reclassified  858\n",
      "3134 I have found  1035  positive sources and reclassified  859\n",
      "3135 I have found  1036  positive sources and reclassified  860\n",
      "3137 I have found  1037  positive sources and reclassified  861\n",
      "3138 I have found  1038  positive sources and reclassified  862\n",
      "3139 I have found  1039  positive sources and reclassified  863\n",
      "3140 I have found  1040  positive sources and reclassified  864\n",
      "3141 I have found  1041  positive sources and reclassified  865\n",
      "3142 I have found  1042  positive sources and reclassified  866\n",
      "3143 I have found  1043  positive sources and reclassified  867\n",
      "3144 I have found  1044  positive sources and reclassified  868\n",
      "3145 I have found  1045  positive sources and reclassified  869\n",
      "3146 I have found  1046  positive sources and reclassified  870\n",
      "3147 I have found  1047  positive sources and reclassified  871\n",
      "3148 I have found  1048  positive sources and reclassified  872\n",
      "3149 I have found  1049  positive sources and reclassified  873\n",
      "3150 I have found  1050  positive sources and reclassified  874\n",
      "3151 I have found  1051  positive sources and reclassified  875\n",
      "3152 I have found  1052  positive sources and reclassified  876\n",
      "3153 I have found  1053  positive sources and reclassified  877\n",
      "3154 I have found  1054  positive sources and reclassified  878\n",
      "3155 I have found  1055  positive sources and reclassified  879\n",
      "3156 I have found  1056  positive sources and reclassified  880\n",
      "3157 I have found  1057  positive sources and reclassified  881\n",
      "3158 I have found  1058  positive sources and reclassified  882\n",
      "3159 I have found  1059  positive sources and reclassified  883\n",
      "3160 I have found  1060  positive sources and reclassified  884\n",
      "3161 I have found  1061  positive sources and reclassified  885\n",
      "3162 I have found  1062  positive sources and reclassified  886\n",
      "3163 I have found  1063  positive sources and reclassified  887\n",
      "3164 I have found  1064  positive sources and reclassified  888\n",
      "3165 I have found  1065  positive sources and reclassified  889\n",
      "3167 I have found  1066  positive sources and reclassified  890\n",
      "3168 I have found  1067  positive sources and reclassified  891\n",
      "3169 I have found  1068  positive sources and reclassified  892\n",
      "3170 I have found  1069  positive sources and reclassified  893\n",
      "3171 I have found  1070  positive sources and reclassified  894\n",
      "3172 I have found  1071  positive sources and reclassified  895\n",
      "3173 I have found  1072  positive sources and reclassified  896\n",
      "3175 I have found  1073  positive sources and reclassified  897\n",
      "3176 I have found  1074  positive sources and reclassified  898\n",
      "3178 I have found  1075  positive sources and reclassified  899\n",
      "3179 I have found  1076  positive sources and reclassified  900\n",
      "3181 I have found  1077  positive sources and reclassified  901\n",
      "3182 I have found  1078  positive sources and reclassified  902\n",
      "3183 I have found  1079  positive sources and reclassified  903\n",
      "3184 I have found  1080  positive sources and reclassified  904\n",
      "3186 I have found  1081  positive sources and reclassified  905\n",
      "3187 I have found  1082  positive sources and reclassified  906\n",
      "3188 I have found  1083  positive sources and reclassified  907\n",
      "3189 I have found  1084  positive sources and reclassified  908\n",
      "3190 I have found  1085  positive sources and reclassified  909\n",
      "3192 I have found  1086  positive sources and reclassified  910\n",
      "3193 I have found  1087  positive sources and reclassified  911\n",
      "3194 I have found  1088  positive sources and reclassified  912\n",
      "3196 I have found  1089  positive sources and reclassified  913\n",
      "3199 I have found  1090  positive sources and reclassified  914\n",
      "3200 I have found  1091  positive sources and reclassified  915\n",
      "3202 I have found  1092  positive sources and reclassified  916\n",
      "3203 I have found  1093  positive sources and reclassified  917\n",
      "3207 I have found  1094  positive sources and reclassified  918\n",
      "3208 I have found  1095  positive sources and reclassified  919\n",
      "3209 I have found  1096  positive sources and reclassified  920\n",
      "3211 I have found  1097  positive sources and reclassified  921\n",
      "3213 I have found  1098  positive sources and reclassified  922\n",
      "3215 I have found  1099  positive sources and reclassified  923\n",
      "3217 I have found  1100  positive sources and reclassified  924\n",
      "3219 I have found  1101  positive sources and reclassified  925\n",
      "3223 I have found  1102  positive sources and reclassified  926\n",
      "3225 I have found  1103  positive sources and reclassified  927\n",
      "3228 I have found  1104  positive sources and reclassified  928\n",
      "3230 I have found  1105  positive sources and reclassified  929\n",
      "3231 I have found  1106  positive sources and reclassified  930\n",
      "3240 I have found  1107  positive sources and reclassified  931\n",
      "3260 I have found  1108  positive sources and reclassified  932\n",
      "3270 I have found  1109  positive sources and reclassified  933\n",
      "3278 I have found  1110  positive sources and reclassified  934\n",
      "3282 I have found  1111  positive sources and reclassified  935\n",
      "3283 I have found  1112  positive sources and reclassified  936\n",
      "3284 I have found  1113  positive sources and reclassified  937\n",
      "3285 I have found  1114  positive sources and reclassified  938\n",
      "3286 I have found  1115  positive sources and reclassified  939\n",
      "3287 I have found  1116  positive sources and reclassified  940\n",
      "3288 I have found  1117  positive sources and reclassified  941\n",
      "3289 I have found  1118  positive sources and reclassified  942\n",
      "3293 I have found  1119  positive sources and reclassified  943\n",
      "3299 I have found  1120  positive sources and reclassified  944\n",
      "3304 I have found  1121  positive sources and reclassified  945\n",
      "3310 I have found  1122  positive sources and reclassified  946\n",
      "3324 I have found  1123  positive sources and reclassified  947\n",
      "3325 I have found  1124  positive sources and reclassified  948\n",
      "3327 I have found  1125  positive sources and reclassified  949\n",
      "3338 I have found  1126  positive sources and reclassified  950\n",
      "3346 I have found  1127  positive sources and reclassified  951\n",
      "3350 I have found  1128  positive sources and reclassified  952\n",
      "3352 I have found  1129  positive sources and reclassified  953\n",
      "3353 I have found  1130  positive sources and reclassified  954\n",
      "3356 I have found  1131  positive sources and reclassified  955\n",
      "3357 I have found  1132  positive sources and reclassified  956\n",
      "3362 I have found  1133  positive sources and reclassified  957\n",
      "3363 I have found  1134  positive sources and reclassified  958\n",
      "3364 I have found  1135  positive sources and reclassified  959\n",
      "3365 I have found  1136  positive sources and reclassified  960\n",
      "3366 I have found  1137  positive sources and reclassified  961\n",
      "3367 I have found  1138  positive sources and reclassified  962\n",
      "3368 I have found  1139  positive sources and reclassified  963\n",
      "3369 I have found  1140  positive sources and reclassified  964\n",
      "3370 I have found  1141  positive sources and reclassified  965\n",
      "3372 I have found  1142  positive sources and reclassified  966\n",
      "3373 I have found  1143  positive sources and reclassified  967\n",
      "3374 I have found  1144  positive sources and reclassified  968\n",
      "3375 I have found  1145  positive sources and reclassified  969\n",
      "3376 I have found  1146  positive sources and reclassified  970\n",
      "3377 I have found  1147  positive sources and reclassified  971\n",
      "3378 I have found  1148  positive sources and reclassified  972\n",
      "3379 I have found  1149  positive sources and reclassified  973\n",
      "3380 I have found  1150  positive sources and reclassified  974\n",
      "3382 I have found  1151  positive sources and reclassified  975\n",
      "3384 I have found  1152  positive sources and reclassified  976\n",
      "3385 I have found  1153  positive sources and reclassified  977\n",
      "3390 I have found  1154  positive sources and reclassified  978\n",
      "3391 I have found  1155  positive sources and reclassified  979\n",
      "3392 I have found  1156  positive sources and reclassified  980\n",
      "3393 I have found  1157  positive sources and reclassified  981\n",
      "3394 I have found  1158  positive sources and reclassified  982\n",
      "3395 I have found  1159  positive sources and reclassified  983\n",
      "3397 I have found  1160  positive sources and reclassified  984\n",
      "3398 I have found  1161  positive sources and reclassified  985\n",
      "3402 I have found  1162  positive sources and reclassified  986\n",
      "3409 I have found  1163  positive sources and reclassified  987\n",
      "3412 I have found  1164  positive sources and reclassified  988\n",
      "3416 I have found  1165  positive sources and reclassified  989\n",
      "3418 I have found  1166  positive sources and reclassified  990\n",
      "3419 I have found  1167  positive sources and reclassified  991\n",
      "3422 I have found  1168  positive sources and reclassified  992\n",
      "3423 I have found  1169  positive sources and reclassified  993\n",
      "3424 I have found  1170  positive sources and reclassified  994\n",
      "3427 I have found  1171  positive sources and reclassified  995\n",
      "3428 I have found  1172  positive sources and reclassified  996\n",
      "3443 I have found  1173  positive sources and reclassified  997\n",
      "3449 I have found  1174  positive sources and reclassified  998\n",
      "3453 I have found  1175  positive sources and reclassified  999\n",
      "3455 I have found  1176  positive sources and reclassified  1000\n",
      "3466 I have found  1177  positive sources and reclassified  1001\n",
      "3471 I have found  1178  positive sources and reclassified  1002\n",
      "3475 I have found  1179  positive sources and reclassified  1003\n",
      "3476 I have found  1180  positive sources and reclassified  1004\n",
      "3481 I have found  1181  positive sources and reclassified  1005\n",
      "3482 I have found  1182  positive sources and reclassified  1006\n",
      "3484 I have found  1183  positive sources and reclassified  1007\n",
      "3489 I have found  1184  positive sources and reclassified  1008\n",
      "3490 I have found  1185  positive sources and reclassified  1009\n",
      "3491 I have found  1186  positive sources and reclassified  1010\n",
      "3492 I have found  1187  positive sources and reclassified  1011\n",
      "3493 I have found  1188  positive sources and reclassified  1012\n",
      "3494 I have found  1189  positive sources and reclassified  1013\n",
      "3495 I have found  1190  positive sources and reclassified  1014\n",
      "3500 I have found  1191  positive sources and reclassified  1015\n",
      "3503 I have found  1192  positive sources and reclassified  1016\n",
      "3507 I have found  1193  positive sources and reclassified  1017\n",
      "3508 I have found  1194  positive sources and reclassified  1018\n",
      "3509 I have found  1195  positive sources and reclassified  1019\n",
      "3536 I have found  1196  positive sources and reclassified  1020\n",
      "3542 I have found  1197  positive sources and reclassified  1021\n",
      "3548 I have found  1198  positive sources and reclassified  1022\n",
      "3549 I have found  1199  positive sources and reclassified  1023\n",
      "3552 I have found  1200  positive sources and reclassified  1024\n",
      "3567 I have found  1201  positive sources and reclassified  1025\n",
      "3578 I have found  1202  positive sources and reclassified  1026\n",
      "3579 I have found  1203  positive sources and reclassified  1027\n",
      "3581 I have found  1204  positive sources and reclassified  1028\n",
      "3590 I have found  1205  positive sources and reclassified  1029\n",
      "3596 I have found  1206  positive sources and reclassified  1030\n",
      "3602 I have found  1207  positive sources and reclassified  1031\n",
      "3613 I have found  1208  positive sources and reclassified  1032\n",
      "3620 I have found  1209  positive sources and reclassified  1033\n",
      "3622 I have found  1210  positive sources and reclassified  1034\n",
      "3625 I have found  1211  positive sources and reclassified  1035\n",
      "3626 I have found  1212  positive sources and reclassified  1036\n",
      "3628 I have found  1213  positive sources and reclassified  1037\n",
      "3638 I have found  1214  positive sources and reclassified  1038\n",
      "3640 I have found  1215  positive sources and reclassified  1039\n",
      "3650 I have found  1216  positive sources and reclassified  1040\n",
      "3651 I have found  1217  positive sources and reclassified  1041\n",
      "3659 I have found  1218  positive sources and reclassified  1042\n",
      "3662 I have found  1219  positive sources and reclassified  1043\n",
      "3664 I have found  1220  positive sources and reclassified  1044\n",
      "3665 I have found  1221  positive sources and reclassified  1045\n",
      "3668 I have found  1222  positive sources and reclassified  1046\n",
      "3673 I have found  1223  positive sources and reclassified  1047\n",
      "3676 I have found  1224  positive sources and reclassified  1048\n",
      "3677 I have found  1225  positive sources and reclassified  1049\n",
      "3678 I have found  1226  positive sources and reclassified  1050\n",
      "3680 I have found  1227  positive sources and reclassified  1051\n",
      "3685 I have found  1228  positive sources and reclassified  1052\n",
      "3687 I have found  1229  positive sources and reclassified  1053\n",
      "3694 I have found  1230  positive sources and reclassified  1054\n",
      "3696 I have found  1231  positive sources and reclassified  1055\n",
      "3698 I have found  1232  positive sources and reclassified  1056\n"
     ]
    }
   ],
   "source": [
    "\n",
    "\n",
    "rc = 0\n",
    "tot = 0\n",
    "for i, pair in enumerate(classification):\n",
    "    label = pair[0]\n",
    "    source = pair[1]\n",
    "    if label == \"Positive\":\n",
    "        tot +=1\n",
    "        try:\n",
    "            stamp, center = get_source_stamp(source, visit, ccds, offset=10)\n",
    "            axes, im = detect_point_source(stamp, center)\n",
    "\n",
    "            h_m, w_m = stamp.getWidth()/2, stamp.getHeight()/2\n",
    "\n",
    "            if np.isnan(axes[0])==True or np.isnan(axes[1])==True or axes[0] > h_m or axes[1] > w_m:\n",
    "                classification[i] = (\"Point Positive\", source)\n",
    "                rc += 1\n",
    "                print str(i), \"I have found \", str(tot), \" positive sources and reclassified \", str(rc)\n",
    "        except np.linalg.linalg.LinAlgError as e:\n",
    "            print e\n",
    "            pass\n",
    "\n",
    "    \n",
    "    "
   ]
  },
  {
   "cell_type": "code",
   "execution_count": 645,
   "metadata": {
    "collapsed": false
   },
   "outputs": [],
   "source": [
    "for i, pair in enumerate(classification):\n",
    "    label = pair[0]\n",
    "    source = pair[1]\n",
    "    if label == \"Point Positive\":\n",
    "        classification[i] = (\"Positive\", source)\n"
   ]
  },
  {
   "cell_type": "code",
   "execution_count": 599,
   "metadata": {
    "collapsed": true
   },
   "outputs": [],
   "source": [
    "ds9.mtv(stamp)"
   ]
  },
  {
   "cell_type": "code",
   "execution_count": null,
   "metadata": {
    "collapsed": true
   },
   "outputs": [],
   "source": []
  }
 ],
 "metadata": {
  "kernelspec": {
   "display_name": "Python 2",
   "language": "python",
   "name": "python2"
  },
  "language_info": {
   "codemirror_mode": {
    "name": "ipython",
    "version": 2
   },
   "file_extension": ".py",
   "mimetype": "text/x-python",
   "name": "python",
   "nbconvert_exporter": "python",
   "pygments_lexer": "ipython2",
   "version": "2.7.12"
  }
 },
 "nbformat": 4,
 "nbformat_minor": 0
}
