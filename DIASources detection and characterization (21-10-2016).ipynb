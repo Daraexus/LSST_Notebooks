{
 "cells": [
  {
   "cell_type": "code",
   "execution_count": 200,
   "metadata": {
    "collapsed": false
   },
   "outputs": [],
   "source": [
    "import pickle\n",
    "import sncosmo\n",
    "import numpy as np\n",
    "import lsst.daf.base as dafBase\n",
    "import lsst.daf.persistence as dafPersist\n",
    "\n",
    "import re\n",
    "\n",
    "import lsst.afw.display.ds9 as ds9\n",
    "\n",
    "import matplotlib.pyplot as plt\n",
    "\n",
    "from lsst.ip.diffim import ImagePsfMatchTask, DipoleMeasurementTask\n",
    "from lsst.meas.base import SingleFrameMeasurementConfig\n",
    "import lsst.afw.table as afwTable\n",
    "\n",
    "import lsst.daf.base as dafBase\n",
    "import DiaSourceTools as DSTools\n",
    "\n",
    "import lsst.meas.algorithms.detection as sDet\n",
    "import lsst.afw.image as afwImage\n",
    "\n",
    "from lsst.meas.algorithms.detection import SourceDetectionTask\n",
    "\n",
    "import lsst.afw.geom as afwGeom\n",
    "import random\n",
    "%matplotlib inline"
   ]
  },
  {
   "cell_type": "code",
   "execution_count": 139,
   "metadata": {
    "collapsed": true
   },
   "outputs": [],
   "source": [
    "algMetadata = dafBase.PropertyList()\n",
    "schema = afwTable.SourceTable.makeMinimalSchema()\n",
    "\n",
    "dipoleMeasurement = dipoleMeasurer.DipoleMeasurementTask\n",
    "config = dipoleMeasurement.ConfigClass()\n",
    "dipoleMeasurement = dipoleMeasurement(schema, algMetadata=algMetadata)"
   ]
  },
  {
   "cell_type": "code",
   "execution_count": 140,
   "metadata": {
    "collapsed": true
   },
   "outputs": [],
   "source": [
    "DATADIR=\"/renoir_data_02/jpreyes/lsst_data/CFHTLS_master/\"\n",
    "butler = dafPersist.Butler(DATADIR+\"/output\")\n",
    "diffExp1 = butler.get(\"deepDiff_differenceExp\", {'visit': 849687 , 'filter':'r' , 'ccd':14})\n",
    "diaSrcs1 = butler.get(\"deepDiff_diaSrc\", {'visit': 849687 , 'filter':'r' , 'ccd':14})"
   ]
  },
  {
   "cell_type": "code",
   "execution_count": 141,
   "metadata": {
    "collapsed": false
   },
   "outputs": [],
   "source": [
    "def SubtractBackground(exp):\n",
    "  \n",
    "    bgConf = sDet.BackgroundConfig()\n",
    "    background,Exp0 = sDet.estimateBackground(exp,bgConf,True)\n",
    "\n",
    "    return background, Exp0"
   ]
  },
  {
   "cell_type": "code",
   "execution_count": 142,
   "metadata": {
    "collapsed": false
   },
   "outputs": [],
   "source": [
    "bg, ex = SubtractBackground(diffExp1)"
   ]
  },
  {
   "cell_type": "code",
   "execution_count": 143,
   "metadata": {
    "collapsed": false
   },
   "outputs": [],
   "source": [
    "psf = diffExp1.getPsf()\n",
    "shape = psf.computeShape()\n",
    "sigma = shape.getDeterminantRadius()\n"
   ]
  },
  {
   "cell_type": "code",
   "execution_count": 144,
   "metadata": {
    "collapsed": false
   },
   "outputs": [
    {
     "name": "stdout",
     "output_type": "stream",
     "text": [
      "3327\n"
     ]
    }
   ],
   "source": [
    "threshold=4\n",
    "\n",
    "\n",
    "table = afwTable.SourceTable.make(schema)\n",
    "table.setMetadata(algMetadata)\n",
    "\n",
    "config = SourceDetectionTask.ConfigClass()\n",
    "config.thresholdPolarity = \"both\"\n",
    "config.thresholdValue = threshold\n",
    "config.reEstimateBackground = False\n",
    "config.thresholdType = \"pixel_stdev\"\n",
    "\n",
    "detectionTask = SourceDetectionTask(config=config, schema=schema)\n",
    "table = afwTable.SourceTable.make(schema)\n",
    "results = detectionTask.makeSourceCatalog(table=table, exposure=diffExp1 , doSmooth=False )\n",
    "\n",
    "print len(results.sources)"
   ]
  },
  {
   "cell_type": "code",
   "execution_count": 145,
   "metadata": {
    "collapsed": false
   },
   "outputs": [],
   "source": [
    "fpSet = results.fpSets.positive\n",
    "fpSet.merge(results.fpSets.negative, 2,\n",
    "            2, False)\n",
    "diaSources = afwTable.SourceCatalog(table)\n",
    "fpSet.makeSources(diaSources)\n"
   ]
  },
  {
   "cell_type": "code",
   "execution_count": 146,
   "metadata": {
    "collapsed": false
   },
   "outputs": [],
   "source": [
    "dipoleMeasurement.run(diaSources, diffExp1)"
   ]
  },
  {
   "cell_type": "code",
   "execution_count": 147,
   "metadata": {
    "collapsed": false
   },
   "outputs": [
    {
     "name": "stdout",
     "output_type": "stream",
     "text": [
      "2961\n",
      "2955\n"
     ]
    }
   ],
   "source": [
    "print len(diaSources)\n",
    "ds = remove_nan_sources(diaSources)\n",
    "print len(ds)"
   ]
  },
  {
   "cell_type": "code",
   "execution_count": 85,
   "metadata": {
    "collapsed": false
   },
   "outputs": [],
   "source": [
    "c_diaSrcs = []\n",
    "\n",
    "for diaSrc in diaSources:\n",
    "    val = diaSrc.get(\"coord_ra\").asArcseconds()\n",
    "    if np.isnan(val) == False:\n",
    "        diaSources.getTable()\n",
    "    \n"
   ]
  },
  {
   "cell_type": "markdown",
   "metadata": {},
   "source": [
    "# Part 2: Stamps"
   ]
  },
  {
   "cell_type": "code",
   "execution_count": 464,
   "metadata": {
    "collapsed": false
   },
   "outputs": [],
   "source": [
    "def merge_sources(results):\n",
    "    fpSet = results.fpSets.positive\n",
    "    fpSet.merge(results.fpSets.negative, 2, 2, False)\n",
    "    diaSources = afwTable.SourceCatalog(table)\n",
    "    fpSet.makeSources(diaSources)\n",
    "    return diaSources\n",
    "\n",
    "def remove_nan_sources(diaSources):\n",
    "    c_diaSources = diaSources.copy()\n",
    "    c_diaSources.clear()\n",
    "    for diaSrc in diaSources:\n",
    "        val = diaSrc.get(\"coord_ra\").asArcseconds()\n",
    "        if np.isnan(val) == False:\n",
    "            c_diaSources.append(diaSrc)\n",
    "        \n",
    "    return c_diaSources\n",
    "\n",
    "def get_source_stamp(src, visit, ccds, offset=0):\n",
    "    \n",
    "    for ccd in ccds:\n",
    "\n",
    "        if butler.datasetExists(\"deepDiff_differenceExp\", {'visit': visit , 'filter':filter , 'ccd':ccd}):\n",
    "\n",
    "            diffExp = butler.get(\"deepDiff_differenceExp\", {'visit': visit , 'filter':filter , 'ccd':ccd})\n",
    "            bbox = diffExp.getBBox()\n",
    "            wcs = diffExp.getWcs()\n",
    "            \n",
    "            c = afwGeom.Point2I(wcs.skyToPixel(src.getRa(), src.getDec()))\n",
    "            \n",
    "            if bbox.contains(c):\n",
    "                psf = diffExp.getPsf()\n",
    "                shape = psf.computeShape()\n",
    "                sigma = shape.getDeterminantRadius()\n",
    "                print sigma\n",
    "                \n",
    "                return DSTools.get_stamp(src, diffExp, offset=offset), c\n",
    "            \n",
    "    return None, None  "
   ]
  },
  {
   "cell_type": "code",
   "execution_count": 500,
   "metadata": {
    "collapsed": false
   },
   "outputs": [
    {
     "name": "stdout",
     "output_type": "stream",
     "text": [
      "float division by zero\n"
     ]
    }
   ],
   "source": [
    "visit = 849687\n",
    "filter = 'r'\n",
    "\n",
    "source_catalogs = [None, None, None]\n",
    "\n",
    "ccds = butler.queryMetadata(\"deepDiff_differenceExp\", format=['ccd'],dataId={'filter':filter})\n",
    "\n",
    "#ccds = [14,15, 16, 17]\n",
    "\n",
    "for ccd in ccds:\n",
    "\n",
    "        if butler.datasetExists(\"deepDiff_differenceExp\", {'visit': visit , 'filter':filter , 'ccd':ccd}):\n",
    "\n",
    "            diffExp = butler.get(\"deepDiff_differenceExp\", {'visit': visit , 'filter':filter , 'ccd':ccd})\n",
    "            \n",
    "            \n",
    "            \n",
    "            for i in range(4,7):\n",
    "                    try:\n",
    "                        results = DSTools.detect_diasources(diffExp, doSmooth=False, threshold=i)\n",
    "                        diaSources = merge_sources(results)\n",
    "                        dipoleMeasurement.run(diaSources, diffExp)\n",
    "                        diaSources = remove_nan_sources(diaSources)\n",
    "\n",
    "                        if source_catalogs[i-4] == None:\n",
    "                            source_catalogs[i-4] = diaSources\n",
    "                        else:\n",
    "                            source_catalogs[i-4].extend(diaSources)\n",
    "                    except Exception, e:\n",
    "                        print e\n"
   ]
  },
  {
   "cell_type": "code",
   "execution_count": 511,
   "metadata": {
    "collapsed": true
   },
   "outputs": [],
   "source": [
    "catalog_s5 = source_catalogs[2]\n",
    "\n",
    "source = random.choice(catalog_5)\n",
    " "
   ]
  },
  {
   "cell_type": "code",
   "execution_count": 512,
   "metadata": {
    "collapsed": false
   },
   "outputs": [
    {
     "name": "stdout",
     "output_type": "stream",
     "text": [
      "1.83352084006\n",
      "Box2I((1082, 3814), (1115, 3847)) Box2I((1091, 3824), (1103, 3836))\n"
     ]
    }
   ],
   "source": [
    "stamp, center = get_source_stamp(source, visit, ccds, offset=10)\n",
    "\n",
    "if stamp is not None:\n",
    "    ds9.mtv(stamp, frame=1)\n",
    "    ds9.dot('+', center.getX(), center.getY(), ctype=ds9.RED, frame=1)\n",
    "    \n",
    "\n",
    "mi = stamp.clone().getMaskedImage()\n",
    "mask = mi.getMask()\n",
    "\n",
    "mask &= (~mask.getPlaneBitMask(\"DETECTED\"))\n",
    "mask &= (~mask.getPlaneBitMask(\"DETECTED_NEGATIVE\"))\n",
    "\n",
    "fp = source.getFootprint()\n",
    "\n",
    "mplane = mask.addMaskPlane(\"CORR_DETECTED\")\n",
    "\n",
    "w = stamp.getWidth()\n",
    "h = stamp.getHeight()\n",
    "\n",
    "for i in range(w):\n",
    "    for j in range (h):\n",
    "        if fp.contains(afwGeom.Point2I(i+stamp.getX0(),j+stamp.getY0())):\n",
    "            #print True\n",
    "            mask[i,j] = mplane\n",
    "            \n",
    "ds9.mtv(stamp, frame=2)\n",
    "ds9.dot('+', center.getX(), center.getY(), ctype=ds9.RED, frame=2)\n",
    "\n",
    "mask &= (~mask.getPlaneBitMask(\"CORR_DETECTED\"))"
   ]
  },
  {
   "cell_type": "code",
   "execution_count": 513,
   "metadata": {
    "collapsed": false
   },
   "outputs": [],
   "source": [
    "stamp_clone = stamp.clone()\n",
    "results = DSTools.detect_diasources(stamp_clone, doSmooth=False,threshold=5)\n",
    "\n",
    "ds9.mtv(stamp_clone, frame=3)"
   ]
  },
  {
   "cell_type": "code",
   "execution_count": null,
   "metadata": {
    "collapsed": true
   },
   "outputs": [],
   "source": []
  },
  {
   "cell_type": "code",
   "execution_count": 504,
   "metadata": {
    "collapsed": false
   },
   "outputs": [
    {
     "ename": "LengthError",
     "evalue": "\n  File \"src/image/Image.cc\", line 278, in lsst::afw::image::ImageBase<PixelT>::PixelReference lsst::afw::image::ImageBase<PixelT>::operator()(int, int, const lsst::afw::image::CheckIndices&) [with PixelT = float; lsst::afw::image::ImageBase<PixelT>::PixelReference = float&]\n    Index (43, 0) is out of range [0--42], [0--44] {0}\nlsst::pex::exceptions::LengthError: 'Index (43, 0) is out of range [0--42], [0--44]'\n",
     "output_type": "error",
     "traceback": [
      "\u001b[1;31m---------------------------------------------------------------------------\u001b[0m",
      "\u001b[1;31mLengthError\u001b[0m                               Traceback (most recent call last)",
      "\u001b[1;32m<ipython-input-504-47c25ba1288b>\u001b[0m in \u001b[0;36m<module>\u001b[1;34m()\u001b[0m\n\u001b[0;32m      7\u001b[0m \u001b[1;32mfor\u001b[0m \u001b[0mx\u001b[0m \u001b[1;32min\u001b[0m \u001b[0mrange\u001b[0m\u001b[1;33m(\u001b[0m\u001b[0mstamp_im\u001b[0m\u001b[1;33m.\u001b[0m\u001b[0mgetHeight\u001b[0m\u001b[1;33m(\u001b[0m\u001b[1;33m)\u001b[0m\u001b[1;33m)\u001b[0m\u001b[1;33m:\u001b[0m\u001b[1;33m\u001b[0m\u001b[0m\n\u001b[0;32m      8\u001b[0m     \u001b[1;32mfor\u001b[0m \u001b[0my\u001b[0m \u001b[1;32min\u001b[0m \u001b[0mrange\u001b[0m\u001b[1;33m(\u001b[0m\u001b[0mstamp_im\u001b[0m\u001b[1;33m.\u001b[0m\u001b[0mgetWidth\u001b[0m\u001b[1;33m(\u001b[0m\u001b[1;33m)\u001b[0m\u001b[1;33m)\u001b[0m\u001b[1;33m:\u001b[0m\u001b[1;33m\u001b[0m\u001b[0m\n\u001b[1;32m----> 9\u001b[1;33m         \u001b[1;32mif\u001b[0m \u001b[0mnp\u001b[0m\u001b[1;33m.\u001b[0m\u001b[0mabs\u001b[0m\u001b[1;33m(\u001b[0m\u001b[0mstamp_im\u001b[0m\u001b[1;33m.\u001b[0m\u001b[0mget\u001b[0m\u001b[1;33m(\u001b[0m\u001b[0mx\u001b[0m\u001b[1;33m,\u001b[0m\u001b[0my\u001b[0m\u001b[1;33m)\u001b[0m\u001b[1;33m)\u001b[0m \u001b[1;33m>\u001b[0m \u001b[0mt\u001b[0m\u001b[1;33m:\u001b[0m\u001b[1;33m\u001b[0m\u001b[0m\n\u001b[0m\u001b[0;32m     10\u001b[0m             \u001b[0mstamp_im\u001b[0m\u001b[1;33m.\u001b[0m\u001b[0mset\u001b[0m\u001b[1;33m(\u001b[0m\u001b[0mx\u001b[0m\u001b[1;33m,\u001b[0m\u001b[0my\u001b[0m\u001b[1;33m,\u001b[0m\u001b[1;36m1\u001b[0m\u001b[1;33m)\u001b[0m\u001b[1;33m\u001b[0m\u001b[0m\n\u001b[0;32m     11\u001b[0m         \u001b[1;32melse\u001b[0m\u001b[1;33m:\u001b[0m\u001b[1;33m\u001b[0m\u001b[0m\n",
      "\u001b[1;32m/renoir_data_00/fouchez/lsst/DM/stacks/lsstsw/2016-04-04/lsstsw/stack/Linux64/afw/2.2016.10-8-g2cef314+1/python/lsst/afw/image/imageLib.pyc\u001b[0m in \u001b[0;36mget\u001b[1;34m(self, *args)\u001b[0m\n\u001b[0;32m   3770\u001b[0m     \u001b[1;32mdef\u001b[0m \u001b[0mget\u001b[0m\u001b[1;33m(\u001b[0m\u001b[0mself\u001b[0m\u001b[1;33m,\u001b[0m \u001b[1;33m*\u001b[0m\u001b[0margs\u001b[0m\u001b[1;33m)\u001b[0m\u001b[1;33m:\u001b[0m\u001b[1;33m\u001b[0m\u001b[0m\n\u001b[0;32m   3771\u001b[0m         \u001b[1;34m\"\"\"get(ImageF self, int x, int y) -> float\"\"\"\u001b[0m\u001b[1;33m\u001b[0m\u001b[0m\n\u001b[1;32m-> 3772\u001b[1;33m         \u001b[1;32mreturn\u001b[0m \u001b[0m_imageLib\u001b[0m\u001b[1;33m.\u001b[0m\u001b[0mImageF_get\u001b[0m\u001b[1;33m(\u001b[0m\u001b[0mself\u001b[0m\u001b[1;33m,\u001b[0m \u001b[1;33m*\u001b[0m\u001b[0margs\u001b[0m\u001b[1;33m)\u001b[0m\u001b[1;33m\u001b[0m\u001b[0m\n\u001b[0m\u001b[0;32m   3773\u001b[0m \u001b[1;33m\u001b[0m\u001b[0m\n\u001b[0;32m   3774\u001b[0m     \u001b[1;32mdef\u001b[0m \u001b[0mset0\u001b[0m\u001b[1;33m(\u001b[0m\u001b[0mself\u001b[0m\u001b[1;33m,\u001b[0m \u001b[1;33m*\u001b[0m\u001b[0margs\u001b[0m\u001b[1;33m)\u001b[0m\u001b[1;33m:\u001b[0m\u001b[1;33m\u001b[0m\u001b[0m\n",
      "\u001b[1;31mLengthError\u001b[0m: \n  File \"src/image/Image.cc\", line 278, in lsst::afw::image::ImageBase<PixelT>::PixelReference lsst::afw::image::ImageBase<PixelT>::operator()(int, int, const lsst::afw::image::CheckIndices&) [with PixelT = float; lsst::afw::image::ImageBase<PixelT>::PixelReference = float&]\n    Index (43, 0) is out of range [0--42], [0--44] {0}\nlsst::pex::exceptions::LengthError: 'Index (43, 0) is out of range [0--42], [0--44]'\n"
     ]
    }
   ],
   "source": [
    "t =1.78846662059*6\n",
    "\n",
    "stamp_th = stamp.clone()\n",
    "\n",
    "stamp_im = stamp_th.getMaskedImage().getImage()\n",
    "im = stamp_im.getArray()\n",
    "for x in range(stamp_im.getHeight()):\n",
    "    for y in range(stamp_im.getWidth()):\n",
    "        if np.abs(stamp_im.get(x,y)) > t:\n",
    "            stamp_im.set(x,y,1)\n",
    "        else:\n",
    "            stamp_im.set(x,y,0)\n",
    "            \n",
    "            \n",
    "ds9.mtv(stamp_im, frame=4)"
   ]
  },
  {
   "cell_type": "code",
   "execution_count": 525,
   "metadata": {
    "collapsed": false
   },
   "outputs": [],
   "source": [
    "t =7*6\n",
    "\n",
    "stamp_th = diffExp.clone()\n",
    "\n",
    "stamp_im = stamp_th.getMaskedImage().getImage()\n",
    "im = stamp_im.getArray()\n",
    "for x in range(stamp_im.getWidth()):\n",
    "    for y in range(stamp_im.getHeight()):\n",
    "        if np.abs(stamp_im.get(x,y)) > t:\n",
    "            stamp_im.set(x,y,1)\n",
    "        else:\n",
    "            stamp_im.set(x,y,0)\n",
    "            \n",
    "            \n",
    "ds9.mtv(stamp_im, frame=5)"
   ]
  },
  {
   "cell_type": "code",
   "execution_count": 498,
   "metadata": {
    "collapsed": true
   },
   "outputs": [],
   "source": [
    "ds9.mtv(diffExp, frame=6)"
   ]
  },
  {
   "cell_type": "code",
   "execution_count": 519,
   "metadata": {
    "collapsed": false
   },
   "outputs": [],
   "source": [
    "import skimage\n",
    "from skimage import measure\n",
    "from skimage import data\n",
    "from skimage import filters"
   ]
  },
  {
   "cell_type": "code",
   "execution_count": 520,
   "metadata": {
    "collapsed": false
   },
   "outputs": [
    {
     "name": "stderr",
     "output_type": "stream",
     "text": [
      "/renoir_data_00/fouchez/lsst/DM/stacks/lsstsw/2016-04-04/lsstsw/miniconda/lib/python2.7/site-packages/skimage/filters/_gaussian.py:13: skimage_deprecation: Call to deprecated function ``gaussian_filter``. Use ``skimage.filters.gaussian`` instead.\n",
      "  multichannel=None):\n"
     ]
    }
   ],
   "source": [
    "n = 20\n",
    "l = 256\n",
    "im = np.zeros((l, l))\n",
    "points = l * np.random.random((2, n ** 2))\n",
    "im[(points[0]).astype(np.int), (points[1]).astype(np.int)] = 1\n",
    "im = filters.gaussian_filter(im, sigma=l / (4. * n))\n",
    "blobs = im > im.mean()"
   ]
  },
  {
   "cell_type": "code",
   "execution_count": 527,
   "metadata": {
    "collapsed": true
   },
   "outputs": [],
   "source": [
    "blobs = stamp_im.getArray()"
   ]
  },
  {
   "cell_type": "code",
   "execution_count": 539,
   "metadata": {
    "collapsed": false
   },
   "outputs": [],
   "source": [
    "\n",
    "all_labels = measure.label(res)\n",
    "blobs_labels = measure.label(res, background=0)"
   ]
  },
  {
   "cell_type": "code",
   "execution_count": 535,
   "metadata": {
    "collapsed": false
   },
   "outputs": [],
   "source": [
    "from scipy import ndimage\n",
    "\n",
    "\n",
    "res = ndimage.binary_opening(blobs, np.ones((3,3)).astype(np.int))"
   ]
  },
  {
   "cell_type": "code",
   "execution_count": 540,
   "metadata": {
    "collapsed": false
   },
   "outputs": [
    {
     "data": {
      "text/plain": [
       "<matplotlib.image.AxesImage at 0x7fd5f7a66490>"
      ]
     },
     "execution_count": 540,
     "metadata": {},
     "output_type": "execute_result"
    },
    {
     "data": {
      "image/png": "[encoded data removed]",
      "text/plain": [
       "<matplotlib.figure.Figure at 0x7fd5fc72fe50>"
      ]
     },
     "metadata": {},
     "output_type": "display_data"
    }
   ],
   "source": [
    "import matplotlib.pyplot as plt\n",
    "plt.figure(figsize=(101,20))\n",
    "plt.imshow(blobs_labels) "
   ]
  },
  {
   "cell_type": "code",
   "execution_count": 524,
   "metadata": {
    "collapsed": true
   },
   "outputs": [],
   "source": [
    "ds9.mtv(stamp_im, frame=5)"
   ]
  },
  {
   "cell_type": "code",
   "execution_count": null,
   "metadata": {
    "collapsed": true
   },
   "outputs": [],
   "source": []
  }
 ],
 "metadata": {
  "kernelspec": {
   "display_name": "Python 2",
   "language": "python",
   "name": "python2"
  },
  "language_info": {
   "codemirror_mode": {
    "name": "ipython",
    "version": 2
   },
   "file_extension": ".py",
   "mimetype": "text/x-python",
   "name": "python",
   "nbconvert_exporter": "python",
   "pygments_lexer": "ipython2",
   "version": "2.7.11"
  }
 },
 "nbformat": 4,
 "nbformat_minor": 0
}
