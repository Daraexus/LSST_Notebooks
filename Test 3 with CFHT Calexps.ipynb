{
 "metadata": {
  "name": ""
 },
 "nbformat": 3,
 "nbformat_minor": 0,
 "worksheets": [
  {
   "cells": [
    {
     "cell_type": "code",
     "collapsed": false,
     "input": [
      "\n",
      "\n",
      "import lsst.afw.image as afwImage\n",
      "import lsst.afw.geom as afwGeom\n",
      "import lsst.afw.coord as afwCoord\n",
      "import lsst.afw.math as afwMath\n",
      "import lsst.afw.detection as afwDetection\n",
      "import lsst.afw.display.utils as displayUtils\n",
      "import lsst.afw.table as afwTable\n",
      "import lsst.meas.algorithms as measAlg\n",
      "import lsst.afw.display.ds9 as ds9\n",
      "import numpy as np\n",
      "import os"
     ],
     "language": "python",
     "metadata": {},
     "outputs": [],
     "prompt_number": 19
    },
    {
     "cell_type": "markdown",
     "metadata": {},
     "source": [
      "Working directory plus transparence setting for ds9"
     ]
    },
    {
     "cell_type": "code",
     "collapsed": false,
     "input": [
      "DATADIR=\"/renoir_data_02/jpreyes/lsst_data/data/CFHTLS_TEST\"\n",
      "\n",
      "calexp_1 = DATADIR+'/output/calexp/08AL01/D3/2008-05-11/r/calexp-988127-14.fits'\n",
      "ds9.setMaskTransparency(40)"
     ],
     "language": "python",
     "metadata": {},
     "outputs": [],
     "prompt_number": 20
    },
    {
     "cell_type": "markdown",
     "metadata": {},
     "source": [
      "Creation of the new image as an Exposure (image including masks)"
     ]
    },
    {
     "cell_type": "code",
     "collapsed": false,
     "input": [
      "exposure = afwImage.ExposureF(calexp_1)\n",
      "mi = exposure.getMaskedImage()\n",
      "im = mi.getImage()"
     ],
     "language": "python",
     "metadata": {},
     "outputs": [],
     "prompt_number": 21
    },
    {
     "cell_type": "markdown",
     "metadata": {},
     "source": [
      "MEANCLIP and STDEVCLIP calculations. Mean could mean really \"Median\". To verify in afwMath."
     ]
    },
    {
     "cell_type": "code",
     "collapsed": false,
     "input": [
      "nsigma = 5\n",
      "stats = afwMath.makeStatistics(im, afwMath.MEANCLIP | afwMath.STDEVCLIP)\n",
      "threshold5 = stats.getValue(afwMath.MEANCLIP) + nsigma*stats.getValue(afwMath.STDEVCLIP)\n",
      "print \"Mean of the image is %.3f counts, stdev is %.3f counts\" % (stats.getValue(afwMath.MEANCLIP), stats.getValue(afwMath.STDEVCLIP))\n",
      "print \"The %d-sigma detection threshold is at %.2f counts\" % (nsigma, threshold5)\n"
     ],
     "language": "python",
     "metadata": {},
     "outputs": [
      {
       "output_type": "stream",
       "stream": "stdout",
       "text": [
        "Mean of the image is 0.722 counts, stdev is 25.535 counts\n",
        "The 5-sigma detection threshold is at 128.40 counts\n"
       ]
      }
     ],
     "prompt_number": 22
    },
    {
     "cell_type": "markdown",
     "metadata": {},
     "source": [
      "This part starts with the creation of a minimal empty schema to store all the values to be calculated. The second task in order to invoke the tasks is to instanciate the respective config classes for the SourceDetectionTask, SourceMeasuramentTask and the MeasurePsfTask.\n",
      "\n",
      "This code re-uses the config variable for the three tasks mentioned above. The last one emplois a list of badflags (how are they determinated?) and creates a psfDeterminer. This psfDeterminer seems to calculate/create the kernel associated to the PSF."
     ]
    },
    {
     "cell_type": "code",
     "collapsed": false,
     "input": [
      "from lsst.meas.algorithms.detection import SourceDetectionTask\n",
      "from lsst.meas.algorithms.measurement import SourceMeasurementTask\n",
      "from lsst.pipe.tasks.measurePsf import MeasurePsfTask\n",
      "\n",
      "schema = afwTable.SourceTable.makeMinimalSchema()\n",
      "\n",
      "config = SourceDetectionTask.ConfigClass()\n",
      "config.reEstimateBackground = False\n",
      "detectionTask = SourceDetectionTask(config=config, schema=schema)\n",
      " \n",
      "config = SourceMeasurementTask.ConfigClass()\n",
      "config.slots.psfFlux = \"flux.sinc\" # use of the psf flux is hardcoded in secondMomentStarSelector\n",
      "measureTask = SourceMeasurementTask(schema, config=config)\n",
      "\n",
      "config = MeasurePsfTask.ConfigClass()\n",
      "starSelector = config.starSelector.apply()\n",
      "starSelector.config.badFlags = [\"flags.pixel.edge\", \"flags.pixel.cr.center\", \"flags.pixel.interpolated.center\", \"flags.pixel.saturated.center\"]\n",
      "psfDeterminer = config.psfDeterminer.apply()\n",
      "psfDeterminer.config.sizeCellX = 128\n",
      "psfDeterminer.config.sizeCellY = 128\n",
      "psfDeterminer.config.spatialOrder = 1\n",
      "psfDeterminer.config.nEigenComponents = 3\n",
      "measurePsfTask = MeasurePsfTask(config=config, schema=schema)\n"
     ],
     "language": "python",
     "metadata": {},
     "outputs": [],
     "prompt_number": 23
    },
    {
     "cell_type": "markdown",
     "metadata": {},
     "source": [
      "This is the clearing the detection mask, using and AND operator and a negation of the mask."
     ]
    },
    {
     "cell_type": "code",
     "collapsed": false,
     "input": [
      "# Again clear the detection masks\n",
      "mask = exposure.getMaskedImage().getMask()\n",
      "mask &= ~(mask.getPlaneBitMask(\"DETECTED\")) \n",
      "frame=1\n",
      "ds9.mtv(exposure, frame=frame, title=\"Original Image Off of Disk\"); frame += 1"
     ],
     "language": "python",
     "metadata": {},
     "outputs": [],
     "prompt_number": 24
    },
    {
     "cell_type": "markdown",
     "metadata": {},
     "source": [
      "The detectionTask is launched to detect the sources. The measureTask is using the sources and the exposure to -probably- generate all the relevant data."
     ]
    },
    {
     "cell_type": "code",
     "collapsed": false,
     "input": [
      "# And then re-detect, re-measure, select stars, and build the Psf model\n",
      "table = afwTable.SourceTable.make(schema)\n",
      "sources = detectionTask.run(table, exposure, sigma=2).sources\n",
      "measureTask.measure(exposure, sources)\n",
      "ds9.mtv(exposure, frame=frame, title=\"Original Image Off of Disk\"); frame += 1"
     ],
     "language": "python",
     "metadata": {},
     "outputs": [],
     "prompt_number": 26
    },
    {
     "cell_type": "markdown",
     "metadata": {},
     "source": [
      "The PSF is measured. An image for the PSF calculated is computed. (What are the parameters? Is it the linear combination of multiple gaussian functions?)"
     ]
    },
    {
     "cell_type": "code",
     "collapsed": false,
     "input": [
      "result = measurePsfTask.run(exposure, sources)\n",
      "\n",
      "psf = result.psf\n",
      "psfIm = psf.computeImage()\n",
      "ds9.mtv(psfIm, frame=frame, title=\"Psf Image\"); frame += 1"
     ],
     "language": "python",
     "metadata": {},
     "outputs": [],
     "prompt_number": 27
    },
    {
     "cell_type": "markdown",
     "metadata": {},
     "source": [
      "This part creates a mosaic of the psf to be observed via ds9."
     ]
    },
    {
     "cell_type": "code",
     "collapsed": false,
     "input": [
      "import lsst.meas.algorithms.utils as measUtils\n",
      "cellSet = result.cellSet\n",
      "measUtils.showPsfMosaic(exposure, psf=psf, frame=frame); frame += 1"
     ],
     "language": "python",
     "metadata": {},
     "outputs": [],
     "prompt_number": 29
    },
    {
     "cell_type": "markdown",
     "metadata": {},
     "source": [
      "This method paints in ds9 the detected sources. a + is located on the centroid of the psf, an x is set in place if it is a psf candidate and a red circle is drawn if it was used at the end."
     ]
    },
    {
     "cell_type": "code",
     "collapsed": false,
     "input": [
      "ds9.mtv(exposure, frame=frame, title=\"Re-Measured Footprints\")\n",
      "with ds9.Buffering():\n",
      "    for s in sources:\n",
      "        xy = s.getCentroid()\n",
      "        ds9.dot('+', *xy, frame=frame)\n",
      "        if s.get(\"calib.psf.candidate\"):\n",
      "            ds9.dot('x', *xy, ctype=ds9.YELLOW, frame=frame)\n",
      "        if s.get(\"calib.psf.used\"):\n",
      "            ds9.dot('o', *xy, size=30, ctype=ds9.RED, frame=frame)\n",
      "frame += 1\n"
     ],
     "language": "python",
     "metadata": {},
     "outputs": [],
     "prompt_number": 30
    },
    {
     "cell_type": "markdown",
     "metadata": {},
     "source": [
      "This part creates the gaussian kernel that models the psf of the whole image. it seems to replicate a 2D-function using two equal 1-Dimensional gaussian functions. \n",
      "\n",
      "On the second part, the image is smoothed with this gaussian Kernel (via convolving with the 2D-gaussian)."
     ]
    },
    {
     "cell_type": "code",
     "collapsed": false,
     "input": [
      "shape = psf.computeShape()\n",
      "sigma = shape.getDeterminantRadius()\n",
      "print \"Psf approximate Gaussian sigma = %.3f pixels; FWHM = %.3f pixels\" % (sigma, sigma * 2. * np.sqrt(2. * np.log(2.)))\n",
      "kWidth = (int(sigma * 7 + 0.5) // 2) * 2 + 1 # make sure kernel size is odd\n",
      "gaussFunc = afwMath.GaussianFunction1D(sigma)\n",
      "gaussKernel = afwMath.SeparableKernel(kWidth, kWidth, gaussFunc, gaussFunc)\n",
      "\n",
      "im = exposure.getMaskedImage().getImage()\n",
      "smoothedIm = im.Factory(im.getDimensions())\n",
      "afwMath.convolve(smoothedIm, im, gaussKernel)\n",
      "ds9.mtv(smoothedIm, frame=frame, title=\"Detection Image (smoothed with appx Psf)\"); frame += 1"
     ],
     "language": "python",
     "metadata": {},
     "outputs": [
      {
       "output_type": "stream",
       "stream": "stdout",
       "text": [
        "Psf approximate Gaussian sigma = 1.729 pixels; FWHM = 4.071 pixels\n"
       ]
      }
     ],
     "prompt_number": 31
    },
    {
     "cell_type": "markdown",
     "metadata": {},
     "source": [
      "Footprints are detected over the Smoothed Image. Then, the footprints are being grown in 1 pixel (which operations was used?). "
     ]
    },
    {
     "cell_type": "code",
     "collapsed": false,
     "input": [
      "npixMin=1\n",
      "grow=3\n",
      "isotropic=False\n",
      "fs0 = afwDetection.FootprintSet(smoothedIm, afwDetection.Threshold(threshold5), npixMin)\n",
      "fs = afwDetection.FootprintSet(fs0, grow, isotropic)\n",
      "ds9.mtv(smoothedIm, frame=frame, title=\"Re-detected and re-grown Footprints\")\n",
      "for footprint in fs.getFootprints():\n",
      "    displayUtils.drawFootprint(footprint, frame=frame)\n",
      "frame += 1\n"
     ],
     "language": "python",
     "metadata": {},
     "outputs": [],
     "prompt_number": 35
    },
    {
     "cell_type": "markdown",
     "metadata": {},
     "source": [
      "This is the part that measures the centroid and the ApFlux of the detected sources and then stores them on the schema created at the beginning. It seems to emploi a 3 pixel aperture radius by default (why?)"
     ]
    },
    {
     "cell_type": "code",
     "collapsed": false,
     "input": [
      "apRad=3\n",
      "# Define the measurements we want to make\n",
      "ctrlCentroid = measAlg.SdssCentroidControl()\n",
      "ctrlAperture = measAlg.SincFluxControl()\n",
      "ctrlAperture.radius2 = apRad\n",
      "\n",
      "schema = afwTable.SourceTable.makeMinimalSchema()\n",
      "algorithms = [\n",
      "    measAlg.MeasureSourcesBuilder().addAlgorithm(ctrlCentroid).build(schema),\n",
      "    measAlg.MeasureSourcesBuilder().addAlgorithm(ctrlAperture).build(schema)]"
     ],
     "language": "python",
     "metadata": {},
     "outputs": [],
     "prompt_number": 33
    },
    {
     "cell_type": "markdown",
     "metadata": {},
     "source": [
      "This part creates the columns for the propoerties centroid and flux (sdss seems to be the algorithm implementation for sdsss images).  After using the footprints generated above, the algorithms are applied to each source."
     ]
    },
    {
     "cell_type": "code",
     "collapsed": false,
     "input": [
      "# Build a new, empty source catalog from this schema\n",
      "cat = afwTable.SourceCatalog(schema)\n",
      "table = cat.table\n",
      "table.defineCentroid(\"centroid.sdss\")\n",
      "table.defineApFlux(\"flux.sinc\")\n",
      "\n",
      "# Turn the Footprints into Sources \n",
      "fs.makeSources(cat)\n",
      "print \"Measuring %d objects\" % (len(cat))\n",
      "\n",
      "# And apply each algorithm to each Source, measuring on the orignal image\n",
      "for source in cat:\n",
      "    for alg in algorithms:\n",
      "        alg.apply(source, exposure)"
     ],
     "language": "python",
     "metadata": {},
     "outputs": [
      {
       "output_type": "stream",
       "stream": "stdout",
       "text": [
        "Measuring 296 objects\n"
       ]
      }
     ],
     "prompt_number": 34
    },
    {
     "cell_type": "code",
     "collapsed": false,
     "input": [],
     "language": "python",
     "metadata": {},
     "outputs": [],
     "prompt_number": 34
    }
   ],
   "metadata": {}
  }
 ]
}