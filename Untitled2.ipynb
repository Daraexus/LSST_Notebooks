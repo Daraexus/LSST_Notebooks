{
 "cells": [
  {
   "cell_type": "code",
   "execution_count": 30,
   "metadata": {
    "collapsed": true
   },
   "outputs": [],
   "source": [
    "import numpy as np\n",
    "import matplotlib.pyplot as plt\n",
    "%matplotlib inline"
   ]
  },
  {
   "cell_type": "code",
   "execution_count": 104,
   "metadata": {},
   "outputs": [
    {
     "name": "stdout",
     "output_type": "stream",
     "text": [
      "subtract.kernel.active.spatialKernelClipping=False\n",
      "subtract.kernel.active.kernelSumClipping=False\n",
      "subtract.kernel.active.maxConditionNumber=10.0e7 subtract.kernel.active.checkConditionNumber=True\n",
      "subtract.kernel.active.maxSpatialConditionNumber=0.5e10 subtract.kernel.active.checkConditionNumber=True\n",
      "subtract.kernel.active.candidateCoreRadius=2\n",
      "104\n"
     ]
    }
   ],
   "source": [
    "m = \"\"\n",
    "for i in instructions:\n",
    "        print max(i, key=len)\n",
    "        if len(m) < len(max(i, key=len)):\n",
    "            m=max(i, key=len)\n",
    "           \n",
    "print len(m)"
   ]
  },
  {
   "cell_type": "code",
   "execution_count": 101,
   "metadata": {},
   "outputs": [
    {
     "data": {
      "text/plain": [
       "[['subtract.kernel.active.spatialKernelClipping=True',\n",
       "  'subtract.kernel.active.spatialKernelClipping=False'],\n",
       " ['subtract.kernel.active.kernelSumClipping=True',\n",
       "  'subtract.kernel.active.kernelSumClipping=False'],\n",
       " ['subtract.kernel.active.maxConditionNumber=2.5e7 subtract.kernel.active.checkConditionNumber=True',\n",
       "  'subtract.kernel.active.maxConditionNumber=5.0e7 subtract.kernel.active.checkConditionNumber=True',\n",
       "  'subtract.kernel.active.maxConditionNumber=10.0e7 subtract.kernel.active.checkConditionNumber=True'],\n",
       " ['subtract.kernel.active.maxSpatialConditionNumber=0.5e10 subtract.kernel.active.checkConditionNumber=True',\n",
       "  'subtract.kernel.active.maxSpatialConditionNumber=1.0e10 subtract.kernel.active.checkConditionNumber=True',\n",
       "  'subtract.kernel.active.maxSpatialConditionNumber=2.0e10 subtract.kernel.active.checkConditionNumber=True'],\n",
       " ['subtract.kernel.active.candidateCoreRadius=2',\n",
       "  'subtract.kernel.active.candidateCoreRadius=3',\n",
       "  'subtract.kernel.active.candidateCoreRadius=4']]"
      ]
     },
     "execution_count": 101,
     "metadata": {},
     "output_type": "execute_result"
    }
   ],
   "source": [
    "print len(m)"
   ]
  },
  {
   "cell_type": "code",
   "execution_count": 86,
   "metadata": {},
   "outputs": [
    {
     "data": {
      "text/plain": [
       "array([ 'subtract.kernel.active.maxConditionNumber=2.5e7 subtract.kernel.active.checkConditionNumber=True',\n",
       "       'subtract.kernel.active.maxConditionNumber=5.0e7 subtract.kernel.active.checkConditionNumber=True',\n",
       "       'subtract.kernel.active.maxConditionNumber=10.0e7 subtract.kernel.active.checkConditionNumber=True'], \n",
       "      dtype='|S97')"
      ]
     },
     "execution_count": 86,
     "metadata": {},
     "output_type": "execute_result"
    }
   ],
   "source": [
    "np.asarray(max(instructions, key=len))"
   ]
  },
  {
   "cell_type": "code",
   "execution_count": 83,
   "metadata": {},
   "outputs": [
    {
     "data": {
      "text/plain": [
       "dtype('S97')"
      ]
     },
     "execution_count": 83,
     "metadata": {},
     "output_type": "execute_result"
    }
   ],
   "source": [
    "arrays = [np.asarray(x) for x in instructions]\n",
    "max(arrays, key=len).dtype"
   ]
  },
  {
   "cell_type": "code",
   "execution_count": 82,
   "metadata": {
    "collapsed": true
   },
   "outputs": [],
   "source": [
    "def cartesian(arrays, out=None):\n",
    "  \n",
    "    \n",
    "\n",
    "    arrays = [np.asarray(x) for x in arrays]\n",
    "    max_array = max(arrays, key=len)\n",
    "    dtype = max_array.dtype\n",
    "\n",
    "    n = np.prod([x.size for x in arrays])\n",
    "    if out is None:\n",
    "        out = np.zeros([n, len(arrays)], dtype=dtype)\n",
    "\n",
    "    m = n / arrays[0].size\n",
    "    out[:,0] = np.repeat(arrays[0], m)\n",
    "    #print arrays[1:]\n",
    "    if arrays[1:]:\n",
    "        cartesian(arrays[1:], out=out[0:m,1:])\n",
    "        for j in xrange(1, arrays[0].size):\n",
    "            out[j*m:(j+1)*m,1:] = out[0:m,1:]\n",
    "            \n",
    "    print n, m\n",
    "    return out"
   ]
  },
  {
   "cell_type": "code",
   "execution_count": 72,
   "metadata": {},
   "outputs": [
    {
     "name": "stdout",
     "output_type": "stream",
     "text": [
      "['subtract.kernel.active.spatialKernelClipping=True', 'subtract.kernel.active.spatialKernelClipping=False']\n",
      "['subtract.kernel.active.kernelSumClipping=True', 'subtract.kernel.active.kernelSumClipping=False']\n",
      "['subtract.kernel.active.maxConditionNumber=2.5e7 subtract.kernel.active.checkConditionNumber=True', 'subtract.kernel.active.maxConditionNumber=5.0e7 subtract.kernel.active.checkConditionNumber=True', 'subtract.kernel.active.maxConditionNumber=10.0e7 subtract.kernel.active.checkConditionNumber=True']\n",
      "['subtract.kernel.active.maxSpatialConditionNumber=0.5e10 subtract.kernel.active.checkConditionNumber=True', 'subtract.kernel.active.maxSpatialConditionNumber=1.0e10 subtract.kernel.active.checkConditionNumber=True', 'subtract.kernel.active.maxSpatialConditionNumber=2.0e10 subtract.kernel.active.checkConditionNumber=True']\n",
      "['subtract.kernel.active.candidateCoreRadius=2', 'subtract.kernel.active.candidateCoreRadius=3', 'subtract.kernel.active.candidateCoreRadius=4']\n"
     ]
    }
   ],
   "source": [
    "rank=0\n",
    "\n",
    "filedir=\"/datadec/cppm/jpreyes/CFHT_Production/parameters.txt\"\n",
    "par_dict = {}\n",
    "\n",
    "def chain_instruction(prefix, instruction_key, instruction_values):\n",
    "        chained_instructions = []\n",
    "        for value in instruction_values:\n",
    "                chained_instructions.append(prefix+instruction_key+\"=\"+value)\n",
    "        return chained_instructions\n",
    "\n",
    "\n",
    "with open(filedir, 'r') as par_file:\n",
    "    for line in par_file:\n",
    "\n",
    "        parts = line[:-1].split(\",\")\n",
    "\n",
    "        parameters = [p for p in parts[1:]]\n",
    "\n",
    "        if parts[0].startswith(\"-\"):\n",
    "\n",
    "            par_dict[current][0][parts[0][1:]] = (parameters)\n",
    "        else:\n",
    "            current = parts[0]\n",
    "\n",
    "            par_dict[current]=({},parameters)\n",
    "\n",
    "\n",
    "instruction_start='newImageDifference.py detect_prod/ --output test @daylist_test_r.txt --config '\n",
    "option_prefix = 'subtract.kernel.active.'\n",
    "instruction_end=' --clobber-config -j 50 -t 999999'\n",
    "\n",
    "instructions = []\n",
    "\n",
    "if rank==0:\n",
    "    par_array = []\n",
    "    instructions = []\n",
    "    for parameter in par_dict.keys():\n",
    "        sub_insts = par_dict[parameter][0]\n",
    "        \n",
    "        instruction = chain_instruction(option_prefix, parameter, par_dict[parameter][-1])\n",
    "\n",
    "        for sub_parameter in sub_insts.keys():\n",
    "                sub_array = chain_instruction(option_prefix, sub_parameter, sub_insts[sub_parameter])\n",
    "                for i, line in enumerate(instruction):\n",
    "                        instruction[i] += \" \"+sub_array[0]\n",
    "        print instruction\n",
    "        instructions.append(instruction)\n",
    "\n",
    "        \n",
    "        "
   ]
  },
  {
   "cell_type": "code",
   "execution_count": 79,
   "metadata": {},
   "outputs": [
    {
     "data": {
      "text/plain": [
       "104"
      ]
     },
     "execution_count": 79,
     "metadata": {},
     "output_type": "execute_result"
    }
   ],
   "source": [
    "string = 'subtract.kernel.active.maxSpatialConditionNumber=0.5e10 subtract.kernel.active.checkConditionNumber=True'\n",
    "len(string)"
   ]
  },
  {
   "cell_type": "code",
   "execution_count": 73,
   "metadata": {},
   "outputs": [
    {
     "data": {
      "text/plain": [
       "[['subtract.kernel.active.spatialKernelClipping=True',\n",
       "  'subtract.kernel.active.spatialKernelClipping=False'],\n",
       " ['subtract.kernel.active.kernelSumClipping=True',\n",
       "  'subtract.kernel.active.kernelSumClipping=False'],\n",
       " ['subtract.kernel.active.maxConditionNumber=2.5e7 subtract.kernel.active.checkConditionNumber=True',\n",
       "  'subtract.kernel.active.maxConditionNumber=5.0e7 subtract.kernel.active.checkConditionNumber=True',\n",
       "  'subtract.kernel.active.maxConditionNumber=10.0e7 subtract.kernel.active.checkConditionNumber=True'],\n",
       " ['subtract.kernel.active.maxSpatialConditionNumber=0.5e10 subtract.kernel.active.checkConditionNumber=True',\n",
       "  'subtract.kernel.active.maxSpatialConditionNumber=1.0e10 subtract.kernel.active.checkConditionNumber=True',\n",
       "  'subtract.kernel.active.maxSpatialConditionNumber=2.0e10 subtract.kernel.active.checkConditionNumber=True'],\n",
       " ['subtract.kernel.active.candidateCoreRadius=2',\n",
       "  'subtract.kernel.active.candidateCoreRadius=3',\n",
       "  'subtract.kernel.active.candidateCoreRadius=4']]"
      ]
     },
     "execution_count": 73,
     "metadata": {},
     "output_type": "execute_result"
    }
   ],
   "source": [
    "instructions"
   ]
  },
  {
   "cell_type": "code",
   "execution_count": 76,
   "metadata": {
    "scrolled": true
   },
   "outputs": [
    {
     "name": "stdout",
     "output_type": "stream",
     "text": [
      "3 1\n",
      "9 3\n",
      "27 9\n",
      "54 27\n",
      "108 54\n"
     ]
    },
    {
     "data": {
      "text/plain": [
       "array(['subtract.kernel.active.spatialKernelClipping=True',\n",
       "       'subtract.kernel.active.kernelSumClipping=True',\n",
       "       'subtract.kernel.active.maxConditionNumber=2.5e7 subtract.kernel.active.checkConditionNumber=True',\n",
       "       'subtract.kernel.active.maxSpatialConditionNumber=0.5e10 subtract.kernel.active.checkConditionNumb',\n",
       "       'subtract.kernel.active.candidateCoreRadius=2'], \n",
       "      dtype='|S97')"
      ]
     },
     "execution_count": 76,
     "metadata": {},
     "output_type": "execute_result"
    }
   ],
   "source": [
    "melange= cartesian(instructions)\n",
    "melange[0]"
   ]
  },
  {
   "cell_type": "code",
   "execution_count": 80,
   "metadata": {},
   "outputs": [
    {
     "data": {
      "text/plain": [
       "'subtract.kernel.active.spatialKernelClipping=True subtract.kernel.active.kernelSumClipping=True subtract.kernel.active.maxConditionNumber=2.5e7 subtract.kernel.active.checkConditionNumber=True subtract.kernel.active.maxSpatialConditionNumber=0.5e10 subtract.kernel.active.checkConditionNumb subtract.kernel.active.candidateCoreRadius=2'"
      ]
     },
     "execution_count": 80,
     "metadata": {},
     "output_type": "execute_result"
    }
   ],
   "source": [
    "' '.join(melange[0])"
   ]
  },
  {
   "cell_type": "code",
   "execution_count": 81,
   "metadata": {},
   "outputs": [
    {
     "data": {
      "text/plain": [
       "array(['subtract.kernel.active.spatialKernelClipping=True',\n",
       "       'subtract.kernel.active.kernelSumClipping=True',\n",
       "       'subtract.kernel.active.maxConditionNumber=2.5e7 subtract.kernel.active.checkConditionNumber=True',\n",
       "       'subtract.kernel.active.maxSpatialConditionNumber=0.5e10 subtract.kernel.active.checkConditionNumb',\n",
       "       'subtract.kernel.active.candidateCoreRadius=2'], \n",
       "      dtype='|S97')"
      ]
     },
     "execution_count": 81,
     "metadata": {},
     "output_type": "execute_result"
    }
   ],
   "source": [
    "melange[0]"
   ]
  },
  {
   "cell_type": "code",
   "execution_count": 40,
   "metadata": {},
   "outputs": [
    {
     "name": "stdout",
     "output_type": "stream",
     "text": [
      "[[ 'subtract.kernel.active.kernelSize=11 subtract.kernel.active.kernelSizeMax=42 subtract.kernel.active.kernelSizeMin=10'\n",
      "  'subtract.kernel.active.candidateResidualStdMax=0.75'\n",
      "  'subtract.kernel.active.candidateResidualStdMax=0.75' ...,\n",
      "  'subtract.kernel.active.candidateResidualStdMax=0.75'\n",
      "  'subtract.kernel.active.candidateResidualStdMax=0.75'\n",
      "  'subtract.kernel.active.candidateResidualStdMax=0.75']\n",
      " [ 'subtract.kernel.active.kernelSize=11 subtract.kernel.active.kernelSizeMax=42 subtract.kernel.active.kernelSizeMin=10'\n",
      "  'subtract.kernel.active.candidateResidualStdMax=0.75'\n",
      "  'subtract.kernel.active.candidateResidualStdMax=0.75' ...,\n",
      "  'subtract.kernel.active.candidateResidualStdMax=0.75'\n",
      "  'subtract.kernel.active.candidateResidualStdMax=0.75'\n",
      "  'subtract.kernel.active.candidateResidualStdMax=1.50']\n",
      " [ 'subtract.kernel.active.kernelSize=11 subtract.kernel.active.kernelSizeMax=42 subtract.kernel.active.kernelSizeMin=10'\n",
      "  'subtract.kernel.active.candidateResidualStdMax=0.75'\n",
      "  'subtract.kernel.active.candidateResidualStdMax=0.75' ...,\n",
      "  'subtract.kernel.active.candidateResidualStdMax=0.75'\n",
      "  'subtract.kernel.active.candidateResidualStdMax=0.75'\n",
      "  'subtract.kernel.active.candidateResidualStdMax=3.0']\n",
      " ..., \n",
      " [ 'subtract.kernel.active.kernelSize=41 subtract.kernel.active.kernelSizeMax=42 subtract.kernel.active.kernelSizeMin=10'\n",
      "  'subtract.kernel.active.candidateResidualStdMax=3.0'\n",
      "  'subtract.kernel.active.candidateResidualStdMax=3.0' ...,\n",
      "  'subtract.kernel.active.candidateResidualStdMax=3.0'\n",
      "  'subtract.kernel.active.candidateResidualStdMax=3.0'\n",
      "  'subtract.kernel.active.candidateResidualStdMax=0.75']\n",
      " [ 'subtract.kernel.active.kernelSize=41 subtract.kernel.active.kernelSizeMax=42 subtract.kernel.active.kernelSizeMin=10'\n",
      "  'subtract.kernel.active.candidateResidualStdMax=3.0'\n",
      "  'subtract.kernel.active.candidateResidualStdMax=3.0' ...,\n",
      "  'subtract.kernel.active.candidateResidualStdMax=3.0'\n",
      "  'subtract.kernel.active.candidateResidualStdMax=3.0'\n",
      "  'subtract.kernel.active.candidateResidualStdMax=1.50']\n",
      " [ 'subtract.kernel.active.kernelSize=41 subtract.kernel.active.kernelSizeMax=42 subtract.kernel.active.kernelSizeMin=10'\n",
      "  'subtract.kernel.active.candidateResidualStdMax=3.0'\n",
      "  'subtract.kernel.active.candidateResidualStdMax=3.0' ...,\n",
      "  'subtract.kernel.active.candidateResidualStdMax=3.0'\n",
      "  'subtract.kernel.active.candidateResidualStdMax=3.0'\n",
      "  'subtract.kernel.active.candidateResidualStdMax=3.0']]\n"
     ]
    }
   ],
   "source": [
    "A =['subtract.kernel.active.kernelSize=11 subtract.kernel.active.kernelSizeMax=42 subtract.kernel.active.kernelSizeMin=10', 'subtract.kernel.active.kernelSize=21 subtract.kernel.active.kernelSizeMax=42 subtract.kernel.active.kernelSizeMin=10', 'subtract.kernel.active.kernelSize=41 subtract.kernel.active.kernelSizeMax=42 subtract.kernel.active.kernelSizeMin=10']\n",
    "B = ['subtract.kernel.active.candidateResidualStdMax=0.75', 'subtract.kernel.active.candidateResidualStdMax=1.50', 'subtract.kernel.active.candidateResidualStdMax=3.0']\n",
    "C = ['subtract.kernel.active.candidateResidualStdMax=0.75', 'subtract.kernel.active.candidateResidualStdMax=1.50', 'subtract.kernel.active.candidateResidualStdMax=3.0']\n",
    "D = ['subtract.kernel.active.candidateResidualStdMax=0.75', 'subtract.kernel.active.candidateResidualStdMax=1.50', 'subtract.kernel.active.candidateResidualStdMax=3.0']\n",
    "E = ['subtract.kernel.active.candidateResidualStdMax=0.75', 'subtract.kernel.active.candidateResidualStdMax=1.50', 'subtract.kernel.active.candidateResidualStdMax=3.0']\n",
    "F = ['subtract.kernel.active.candidateResidualStdMax=0.75', 'subtract.kernel.active.candidateResidualStdMax=1.50', 'subtract.kernel.active.candidateResidualStdMax=3.0']\n",
    "G = ['subtract.kernel.active.candidateResidualStdMax=0.75', 'subtract.kernel.active.candidateResidualStdMax=1.50', 'subtract.kernel.active.candidateResidualStdMax=3.0']\n",
    "H = ['subtract.kernel.active.candidateResidualStdMax=0.75', 'subtract.kernel.active.candidateResidualStdMax=1.50', 'subtract.kernel.active.candidateResidualStdMax=3.0']\n",
    "I = ['subtract.kernel.active.candidateResidualStdMax=0.75', 'subtract.kernel.active.candidateResidualStdMax=1.50', 'subtract.kernel.active.candidateResidualStdMax=3.0']\n",
    "J = ['subtract.kernel.active.candidateResidualStdMax=0.75', 'subtract.kernel.active.candidateResidualStdMax=1.50', 'subtract.kernel.active.candidateResidualStdMax=3.0']\n",
    "K = ['subtract.kernel.active.candidateResidualStdMax=0.75', 'subtract.kernel.active.candidateResidualStdMax=1.50', 'subtract.kernel.active.candidateResidualStdMax=3.0']\n",
    "\n",
    "print cartesian([A,B, C, D, E, F, G, H, I, J, K])"
   ]
  },
  {
   "cell_type": "code",
   "execution_count": 1,
   "metadata": {
    "collapsed": true
   },
   "outputs": [],
   "source": [
    "import lsst.daf.persistence as dafPersist\n",
    "\n",
    "DATADIR=\"/datadec/cppm/jpreyes/CFHT_Production\"\n",
    "butler = dafPersist.Butler(DATADIR+\"/grid_search_results/test10\") "
   ]
  },
  {
   "cell_type": "code",
   "execution_count": 18,
   "metadata": {},
   "outputs": [],
   "source": [
    "patches = [\"14,14\", \"15,14\", \"16,14\", \"14,15\", \"15,15\", \"16,15\", \"14,16\", \"15,16\", \"16,16\"]\n",
    "results = {}\n",
    "for i in range(0,216):\n",
    "    total=0\n",
    "    datapath = DATADIR+\"/grid_search_results/test\"+str(i)\n",
    "    butler = dafPersist.Butler(datapath) \n",
    "    for patch in patches:\n",
    "        dataId = {\"patch\":patch,\"filter\":'r', \"date\":\"2004-03-19\", 'tract':0}\n",
    "        if butler.datasetExists(\"dayDiff_class_diaSrc\", dataId=dataId):\n",
    "            clsSources = butler.get(\"dayDiff_class_diaSrc\", dataId=dataId)\n",
    "            total += len(clsSources)\n",
    "        else:\n",
    "            total+=-1\n",
    "    with open(datapath+\"/instruction.txt\", \"rb\") as f:\n",
    "        instruction= f.readline()\n",
    "        if total>0:\n",
    "            results.update({instruction:total})"
   ]
  },
  {
   "cell_type": "code",
   "execution_count": 19,
   "metadata": {},
   "outputs": [],
   "source": [
    "from collections import OrderedDict\n",
    "o_dict = OrderedDict(sorted(results.items(), key=lambda t: t[-1]))"
   ]
  },
  {
   "cell_type": "code",
   "execution_count": 22,
   "metadata": {},
   "outputs": [
    {
     "data": {
      "text/plain": [
       "216"
      ]
     },
     "execution_count": 22,
     "metadata": {},
     "output_type": "execute_result"
    }
   ],
   "source": [
    "o_dict"
   ]
  },
  {
   "cell_type": "code",
   "execution_count": 23,
   "metadata": {},
   "outputs": [],
   "source": [
    "total=0\n",
    "datapath = DATADIR+\"/grid_search_results/testBase\"\n",
    "butler = dafPersist.Butler(datapath) \n",
    "for patch in patches:\n",
    "    dataId = {\"patch\":patch,\"filter\":'r', \"date\":\"2004-03-19\", 'tract':0}\n",
    "    if butler.datasetExists(\"dayDiff_class_diaSrc\", dataId=dataId):\n",
    "        clsSources = butler.get(\"dayDiff_class_diaSrc\", dataId=dataId)\n",
    "        total += len(clsSources)\n",
    "    else:\n",
    "        total+=-1"
   ]
  },
  {
   "cell_type": "code",
   "execution_count": 25,
   "metadata": {},
   "outputs": [],
   "source": [
    "o_dict.update({\"base\":total})"
   ]
  },
  {
   "cell_type": "code",
   "execution_count": 27,
   "metadata": {},
   "outputs": [],
   "source": [
    "o_dict = OrderedDict(sorted(o_dict.items(), key=lambda t: t[-1]))"
   ]
  },
  {
   "cell_type": "code",
   "execution_count": 32,
   "metadata": {},
   "outputs": [
    {
     "data": {
      "text/plain": [
       "(array([ 82.,  27.,   0.,   0.,   0.,   0.,   0.,  18.,   0.,   0.,  18.,\n",
       "          0.,   9.,   9.,   0.,   0.,   0.,  18.,   9.,  27.]),\n",
       " array([  876. ,   901.9,   927.8,   953.7,   979.6,  1005.5,  1031.4,\n",
       "         1057.3,  1083.2,  1109.1,  1135. ,  1160.9,  1186.8,  1212.7,\n",
       "         1238.6,  1264.5,  1290.4,  1316.3,  1342.2,  1368.1,  1394. ]),\n",
       " <a list of 20 Patch objects>)"
      ]
     },
     "execution_count": 32,
     "metadata": {},
     "output_type": "execute_result"
    },
    {
     "data": {
      "image/png": "[encoded data removed]",
      "text/plain": [
       "<matplotlib.figure.Figure at 0x7f9e6545f550>"
      ]
     },
     "metadata": {},
     "output_type": "display_data"
    }
   ],
   "source": [
    "plt.hist(o_dict.values(), bins=20)"
   ]
  },
  {
   "cell_type": "code",
   "execution_count": 40,
   "metadata": {},
   "outputs": [],
   "source": [
    "import itertools as it\n",
    "dict_1 = {k: o_dict[k] for k in it.ifilter(lambda x: o_dict[x] <= o_dict[\"base\"], o_dict.keys())}"
   ]
  },
  {
   "cell_type": "code",
   "execution_count": 49,
   "metadata": {},
   "outputs": [],
   "source": [
    "dict_1 = OrderedDict(sorted(dict_1.items(), key=lambda t: t[-1]))"
   ]
  },
  {
   "cell_type": "code",
   "execution_count": 62,
   "metadata": {},
   "outputs": [
    {
     "data": {
      "image/png": "[encoded data removed]",
      "text/plain": [
       "<matplotlib.figure.Figure at 0x7f9e5d9fb210>"
      ]
     },
     "metadata": {},
     "output_type": "display_data"
    }
   ],
   "source": [
    "from pylab import *\n",
    "\n",
    "fig, ax = plt.subplots(figsize=(10,20))\n",
    "\n",
    "\n",
    "#rects = ax.barh(arange(len(dict_1)), list(dict_1.values()), align='center', tick_label=list(dict_1.keys()))\n",
    "\n",
    "rects = ax.barh(arange(len(dict_1)), list(dict_1.values()), align='center', tick_label=range(len(dict_1.keys())))\n",
    "ax.set_yticks(range(len(dict_1.values())))\n",
    "#ax.set_yticklabels(dict_1.keys())\n",
    "\n",
    "ax.set_xlim(xmax=np.max(dict_1.values())+7500)\n",
    "ax.set_ylim(ymin=-1, ymax=len(dict_1))\n",
    "base = dict_1[\"base\"]\n",
    "\n",
    "for i, rect in enumerate(rects):\n",
    "    width = rect.get_width()\n",
    "    percentage = ((width-base)/base)*100\n",
    "    #ax.text( width+2000, i-0.5, (str(int(width)) + \": \"+str(percentage)+\"%.2f%\", ha='center', va='bottom')\n",
    "    ax.text( width+3500, i-0.5, str(int(width))+\" : \"+(\"%.2f\"%percentage)+\"%\", ha='center', va='bottom')\n",
    "\n",
    "rects[36].set_color('r')\n",
    "\n",
    "ax.set_ylabel(\"Property evaluated\")\n",
    "ax.set_xlabel(\"# of detections\")\n",
    "\n",
    "plt.show()"
   ]
  },
  {
   "cell_type": "code",
   "execution_count": 63,
   "metadata": {
    "scrolled": false
   },
   "outputs": [
    {
     "name": "stdout",
     "output_type": "stream",
     "text": [
      "subtract.kernel.active.kernelBasisSet=alard-lupton subtract.kernel.active.spatialKernelClipping=True subtract.kernel.active.kernelSumClipping=True subtract.kernel.active.maxSpatialConditionNumber=1.0e10 subtract.kernel.active.checkConditionNumber=True subtract.kernel.active.maxConditionNumber=2.5e7 subtract.kernel.active.checkConditionNumber=True subtract.kernel.active.candidateCoreRadius=4\n",
      "subtract.kernel.active.kernelBasisSet=alard-lupton subtract.kernel.active.spatialKernelClipping=True subtract.kernel.active.kernelSumClipping=True subtract.kernel.active.maxSpatialConditionNumber=2.0e10 subtract.kernel.active.checkConditionNumber=True subtract.kernel.active.maxConditionNumber=2.5e7 subtract.kernel.active.checkConditionNumber=True subtract.kernel.active.candidateCoreRadius=4\n",
      "subtract.kernel.active.kernelBasisSet=alard-lupton subtract.kernel.active.spatialKernelClipping=True subtract.kernel.active.kernelSumClipping=True subtract.kernel.active.maxSpatialConditionNumber=2.0e10 subtract.kernel.active.checkConditionNumber=True subtract.kernel.active.maxConditionNumber=2.5e7 subtract.kernel.active.checkConditionNumber=True subtract.kernel.active.candidateCoreRadius=3\n",
      "subtract.kernel.active.kernelBasisSet=alard-lupton subtract.kernel.active.spatialKernelClipping=True subtract.kernel.active.kernelSumClipping=True subtract.kernel.active.maxSpatialConditionNumber=2.0e10 subtract.kernel.active.checkConditionNumber=True subtract.kernel.active.maxConditionNumber=2.5e7 subtract.kernel.active.checkConditionNumber=True subtract.kernel.active.candidateCoreRadius=2\n",
      "subtract.kernel.active.kernelBasisSet=alard-lupton subtract.kernel.active.spatialKernelClipping=True subtract.kernel.active.kernelSumClipping=True subtract.kernel.active.maxSpatialConditionNumber=0.5e10 subtract.kernel.active.checkConditionNumber=True subtract.kernel.active.maxConditionNumber=2.5e7 subtract.kernel.active.checkConditionNumber=True subtract.kernel.active.candidateCoreRadius=4\n",
      "subtract.kernel.active.kernelBasisSet=alard-lupton subtract.kernel.active.spatialKernelClipping=True subtract.kernel.active.kernelSumClipping=False subtract.kernel.active.maxSpatialConditionNumber=0.5e10 subtract.kernel.active.checkConditionNumber=True subtract.kernel.active.maxConditionNumber=2.5e7 subtract.kernel.active.checkConditionNumber=True subtract.kernel.active.candidateCoreRadius=4\n",
      "subtract.kernel.active.kernelBasisSet=alard-lupton subtract.kernel.active.spatialKernelClipping=True subtract.kernel.active.kernelSumClipping=True subtract.kernel.active.maxSpatialConditionNumber=0.5e10 subtract.kernel.active.checkConditionNumber=True subtract.kernel.active.maxConditionNumber=2.5e7 subtract.kernel.active.checkConditionNumber=True subtract.kernel.active.candidateCoreRadius=2\n",
      "subtract.kernel.active.kernelBasisSet=alard-lupton subtract.kernel.active.spatialKernelClipping=True subtract.kernel.active.kernelSumClipping=False subtract.kernel.active.maxSpatialConditionNumber=2.0e10 subtract.kernel.active.checkConditionNumber=True subtract.kernel.active.maxConditionNumber=2.5e7 subtract.kernel.active.checkConditionNumber=True subtract.kernel.active.candidateCoreRadius=3\n",
      "subtract.kernel.active.kernelBasisSet=alard-lupton subtract.kernel.active.spatialKernelClipping=True subtract.kernel.active.kernelSumClipping=False subtract.kernel.active.maxSpatialConditionNumber=2.0e10 subtract.kernel.active.checkConditionNumber=True subtract.kernel.active.maxConditionNumber=2.5e7 subtract.kernel.active.checkConditionNumber=True subtract.kernel.active.candidateCoreRadius=2\n",
      "subtract.kernel.active.kernelBasisSet=alard-lupton subtract.kernel.active.spatialKernelClipping=True subtract.kernel.active.kernelSumClipping=False subtract.kernel.active.maxSpatialConditionNumber=2.0e10 subtract.kernel.active.checkConditionNumber=True subtract.kernel.active.maxConditionNumber=2.5e7 subtract.kernel.active.checkConditionNumber=True subtract.kernel.active.candidateCoreRadius=4\n",
      "subtract.kernel.active.kernelBasisSet=alard-lupton subtract.kernel.active.spatialKernelClipping=True subtract.kernel.active.kernelSumClipping=False subtract.kernel.active.maxSpatialConditionNumber=0.5e10 subtract.kernel.active.checkConditionNumber=True subtract.kernel.active.maxConditionNumber=2.5e7 subtract.kernel.active.checkConditionNumber=True subtract.kernel.active.candidateCoreRadius=2\n",
      "subtract.kernel.active.kernelBasisSet=alard-lupton subtract.kernel.active.spatialKernelClipping=True subtract.kernel.active.kernelSumClipping=False subtract.kernel.active.maxSpatialConditionNumber=0.5e10 subtract.kernel.active.checkConditionNumber=True subtract.kernel.active.maxConditionNumber=2.5e7 subtract.kernel.active.checkConditionNumber=True subtract.kernel.active.candidateCoreRadius=3\n",
      "subtract.kernel.active.kernelBasisSet=alard-lupton subtract.kernel.active.spatialKernelClipping=True subtract.kernel.active.kernelSumClipping=True subtract.kernel.active.maxSpatialConditionNumber=1.0e10 subtract.kernel.active.checkConditionNumber=True subtract.kernel.active.maxConditionNumber=2.5e7 subtract.kernel.active.checkConditionNumber=True subtract.kernel.active.candidateCoreRadius=2\n",
      "subtract.kernel.active.kernelBasisSet=alard-lupton subtract.kernel.active.spatialKernelClipping=True subtract.kernel.active.kernelSumClipping=True subtract.kernel.active.maxSpatialConditionNumber=1.0e10 subtract.kernel.active.checkConditionNumber=True subtract.kernel.active.maxConditionNumber=2.5e7 subtract.kernel.active.checkConditionNumber=True subtract.kernel.active.candidateCoreRadius=3\n",
      "subtract.kernel.active.kernelBasisSet=alard-lupton subtract.kernel.active.spatialKernelClipping=True subtract.kernel.active.kernelSumClipping=False subtract.kernel.active.maxSpatialConditionNumber=1.0e10 subtract.kernel.active.checkConditionNumber=True subtract.kernel.active.maxConditionNumber=2.5e7 subtract.kernel.active.checkConditionNumber=True subtract.kernel.active.candidateCoreRadius=2\n",
      "subtract.kernel.active.kernelBasisSet=alard-lupton subtract.kernel.active.spatialKernelClipping=True subtract.kernel.active.kernelSumClipping=False subtract.kernel.active.maxSpatialConditionNumber=1.0e10 subtract.kernel.active.checkConditionNumber=True subtract.kernel.active.maxConditionNumber=2.5e7 subtract.kernel.active.checkConditionNumber=True subtract.kernel.active.candidateCoreRadius=3\n",
      "subtract.kernel.active.kernelBasisSet=alard-lupton subtract.kernel.active.spatialKernelClipping=True subtract.kernel.active.kernelSumClipping=False subtract.kernel.active.maxSpatialConditionNumber=1.0e10 subtract.kernel.active.checkConditionNumber=True subtract.kernel.active.maxConditionNumber=2.5e7 subtract.kernel.active.checkConditionNumber=True subtract.kernel.active.candidateCoreRadius=4\n",
      "subtract.kernel.active.kernelBasisSet=alard-lupton subtract.kernel.active.spatialKernelClipping=True subtract.kernel.active.kernelSumClipping=True subtract.kernel.active.maxSpatialConditionNumber=0.5e10 subtract.kernel.active.checkConditionNumber=True subtract.kernel.active.maxConditionNumber=2.5e7 subtract.kernel.active.checkConditionNumber=True subtract.kernel.active.candidateCoreRadius=3\n",
      "subtract.kernel.active.kernelBasisSet=alard-lupton subtract.kernel.active.spatialKernelClipping=True subtract.kernel.active.kernelSumClipping=False subtract.kernel.active.maxSpatialConditionNumber=1.0e10 subtract.kernel.active.checkConditionNumber=True subtract.kernel.active.maxConditionNumber=5.0e7 subtract.kernel.active.checkConditionNumber=True subtract.kernel.active.candidateCoreRadius=2\n",
      "subtract.kernel.active.kernelBasisSet=alard-lupton subtract.kernel.active.spatialKernelClipping=True subtract.kernel.active.kernelSumClipping=False subtract.kernel.active.maxSpatialConditionNumber=2.0e10 subtract.kernel.active.checkConditionNumber=True subtract.kernel.active.maxConditionNumber=5.0e7 subtract.kernel.active.checkConditionNumber=True subtract.kernel.active.candidateCoreRadius=3\n",
      "subtract.kernel.active.kernelBasisSet=alard-lupton subtract.kernel.active.spatialKernelClipping=True subtract.kernel.active.kernelSumClipping=False subtract.kernel.active.maxSpatialConditionNumber=2.0e10 subtract.kernel.active.checkConditionNumber=True subtract.kernel.active.maxConditionNumber=5.0e7 subtract.kernel.active.checkConditionNumber=True subtract.kernel.active.candidateCoreRadius=2\n",
      "subtract.kernel.active.kernelBasisSet=alard-lupton subtract.kernel.active.spatialKernelClipping=True subtract.kernel.active.kernelSumClipping=False subtract.kernel.active.maxSpatialConditionNumber=2.0e10 subtract.kernel.active.checkConditionNumber=True subtract.kernel.active.maxConditionNumber=5.0e7 subtract.kernel.active.checkConditionNumber=True subtract.kernel.active.candidateCoreRadius=4\n",
      "subtract.kernel.active.kernelBasisSet=alard-lupton subtract.kernel.active.spatialKernelClipping=True subtract.kernel.active.kernelSumClipping=False subtract.kernel.active.maxSpatialConditionNumber=0.5e10 subtract.kernel.active.checkConditionNumber=True subtract.kernel.active.maxConditionNumber=5.0e7 subtract.kernel.active.checkConditionNumber=True subtract.kernel.active.candidateCoreRadius=2\n",
      "subtract.kernel.active.kernelBasisSet=alard-lupton subtract.kernel.active.spatialKernelClipping=True subtract.kernel.active.kernelSumClipping=False subtract.kernel.active.maxSpatialConditionNumber=0.5e10 subtract.kernel.active.checkConditionNumber=True subtract.kernel.active.maxConditionNumber=5.0e7 subtract.kernel.active.checkConditionNumber=True subtract.kernel.active.candidateCoreRadius=3\n",
      "subtract.kernel.active.kernelBasisSet=alard-lupton subtract.kernel.active.spatialKernelClipping=True subtract.kernel.active.kernelSumClipping=False subtract.kernel.active.maxSpatialConditionNumber=0.5e10 subtract.kernel.active.checkConditionNumber=True subtract.kernel.active.maxConditionNumber=5.0e7 subtract.kernel.active.checkConditionNumber=True subtract.kernel.active.candidateCoreRadius=4\n",
      "subtract.kernel.active.kernelBasisSet=alard-lupton subtract.kernel.active.spatialKernelClipping=True subtract.kernel.active.kernelSumClipping=False subtract.kernel.active.maxSpatialConditionNumber=1.0e10 subtract.kernel.active.checkConditionNumber=True subtract.kernel.active.maxConditionNumber=5.0e7 subtract.kernel.active.checkConditionNumber=True subtract.kernel.active.candidateCoreRadius=3\n",
      "subtract.kernel.active.kernelBasisSet=alard-lupton subtract.kernel.active.spatialKernelClipping=True subtract.kernel.active.kernelSumClipping=False subtract.kernel.active.maxSpatialConditionNumber=1.0e10 subtract.kernel.active.checkConditionNumber=True subtract.kernel.active.maxConditionNumber=5.0e7 subtract.kernel.active.checkConditionNumber=True subtract.kernel.active.candidateCoreRadius=4\n",
      "subtract.kernel.active.kernelBasisSet=alard-lupton subtract.kernel.active.spatialKernelClipping=True subtract.kernel.active.kernelSumClipping=False subtract.kernel.active.maxSpatialConditionNumber=2.0e10 subtract.kernel.active.checkConditionNumber=True subtract.kernel.active.maxConditionNumber=10.0e7 subtract.kernel.active.checkConditionNumber=True subtract.kernel.active.candidateCoreRadius=2\n",
      "subtract.kernel.active.kernelBasisSet=alard-lupton subtract.kernel.active.spatialKernelClipping=True subtract.kernel.active.kernelSumClipping=False subtract.kernel.active.maxSpatialConditionNumber=2.0e10 subtract.kernel.active.checkConditionNumber=True subtract.kernel.active.maxConditionNumber=10.0e7 subtract.kernel.active.checkConditionNumber=True subtract.kernel.active.candidateCoreRadius=3\n",
      "subtract.kernel.active.kernelBasisSet=alard-lupton subtract.kernel.active.spatialKernelClipping=True subtract.kernel.active.kernelSumClipping=False subtract.kernel.active.maxSpatialConditionNumber=2.0e10 subtract.kernel.active.checkConditionNumber=True subtract.kernel.active.maxConditionNumber=10.0e7 subtract.kernel.active.checkConditionNumber=True subtract.kernel.active.candidateCoreRadius=4\n",
      "subtract.kernel.active.kernelBasisSet=alard-lupton subtract.kernel.active.spatialKernelClipping=True subtract.kernel.active.kernelSumClipping=False subtract.kernel.active.maxSpatialConditionNumber=0.5e10 subtract.kernel.active.checkConditionNumber=True subtract.kernel.active.maxConditionNumber=10.0e7 subtract.kernel.active.checkConditionNumber=True subtract.kernel.active.candidateCoreRadius=4\n",
      "subtract.kernel.active.kernelBasisSet=alard-lupton subtract.kernel.active.spatialKernelClipping=True subtract.kernel.active.kernelSumClipping=False subtract.kernel.active.maxSpatialConditionNumber=1.0e10 subtract.kernel.active.checkConditionNumber=True subtract.kernel.active.maxConditionNumber=10.0e7 subtract.kernel.active.checkConditionNumber=True subtract.kernel.active.candidateCoreRadius=3\n",
      "subtract.kernel.active.kernelBasisSet=alard-lupton subtract.kernel.active.spatialKernelClipping=True subtract.kernel.active.kernelSumClipping=False subtract.kernel.active.maxSpatialConditionNumber=1.0e10 subtract.kernel.active.checkConditionNumber=True subtract.kernel.active.maxConditionNumber=10.0e7 subtract.kernel.active.checkConditionNumber=True subtract.kernel.active.candidateCoreRadius=2\n",
      "subtract.kernel.active.kernelBasisSet=alard-lupton subtract.kernel.active.spatialKernelClipping=True subtract.kernel.active.kernelSumClipping=False subtract.kernel.active.maxSpatialConditionNumber=0.5e10 subtract.kernel.active.checkConditionNumber=True subtract.kernel.active.maxConditionNumber=10.0e7 subtract.kernel.active.checkConditionNumber=True subtract.kernel.active.candidateCoreRadius=3\n",
      "subtract.kernel.active.kernelBasisSet=alard-lupton subtract.kernel.active.spatialKernelClipping=True subtract.kernel.active.kernelSumClipping=False subtract.kernel.active.maxSpatialConditionNumber=1.0e10 subtract.kernel.active.checkConditionNumber=True subtract.kernel.active.maxConditionNumber=10.0e7 subtract.kernel.active.checkConditionNumber=True subtract.kernel.active.candidateCoreRadius=4\n",
      "subtract.kernel.active.kernelBasisSet=alard-lupton subtract.kernel.active.spatialKernelClipping=True subtract.kernel.active.kernelSumClipping=False subtract.kernel.active.maxSpatialConditionNumber=0.5e10 subtract.kernel.active.checkConditionNumber=True subtract.kernel.active.maxConditionNumber=10.0e7 subtract.kernel.active.checkConditionNumber=True subtract.kernel.active.candidateCoreRadius=2\n"
     ]
    }
   ],
   "source": [
    "for i in range(0,36):\n",
    "    print dict_1.keys()[i]"
   ]
  },
  {
   "cell_type": "code",
   "execution_count": 58,
   "metadata": {},
   "outputs": [],
   "source": [
    "import glob\n",
    "input_dir = \"/datadec/cppm/jpreyes/CFHT_Production/grid_search_results/*\"\n",
    "lienObj = glob.glob(input_dir)\n",
    "lien_a_repartir = {}  \n",
    "for i, oj in enumerate(lienObj):\n",
    "        lien_a_repartir.update({i: oj})\n"
   ]
  },
  {
   "cell_type": "code",
   "execution_count": 59,
   "metadata": {},
   "outputs": [
    {
     "data": {
      "text/plain": [
       "['/datadec/cppm/jpreyes/CFHT_Production/grid_search_results/test88',\n",
       " '/datadec/cppm/jpreyes/CFHT_Production/grid_search_results/test74',\n",
       " '/datadec/cppm/jpreyes/CFHT_Production/grid_search_results/test82',\n",
       " '/datadec/cppm/jpreyes/CFHT_Production/grid_search_results/test83',\n",
       " '/datadec/cppm/jpreyes/CFHT_Production/grid_search_results/test73',\n",
       " '/datadec/cppm/jpreyes/CFHT_Production/grid_search_results/test76',\n",
       " '/datadec/cppm/jpreyes/CFHT_Production/grid_search_results/test89',\n",
       " '/datadec/cppm/jpreyes/CFHT_Production/grid_search_results/test72',\n",
       " '/datadec/cppm/jpreyes/CFHT_Production/grid_search_results/test71',\n",
       " '/datadec/cppm/jpreyes/CFHT_Production/grid_search_results/test79',\n",
       " '/datadec/cppm/jpreyes/CFHT_Production/grid_search_results/test80',\n",
       " '/datadec/cppm/jpreyes/CFHT_Production/grid_search_results/test97',\n",
       " '/datadec/cppm/jpreyes/CFHT_Production/grid_search_results/test100',\n",
       " '/datadec/cppm/jpreyes/CFHT_Production/grid_search_results/test99',\n",
       " '/datadec/cppm/jpreyes/CFHT_Production/grid_search_results/test81',\n",
       " '/datadec/cppm/jpreyes/CFHT_Production/grid_search_results/test91',\n",
       " '/datadec/cppm/jpreyes/CFHT_Production/grid_search_results/test87',\n",
       " '/datadec/cppm/jpreyes/CFHT_Production/grid_search_results/test105',\n",
       " '/datadec/cppm/jpreyes/CFHT_Production/grid_search_results/test94',\n",
       " '/datadec/cppm/jpreyes/CFHT_Production/grid_search_results/test101',\n",
       " '/datadec/cppm/jpreyes/CFHT_Production/grid_search_results/test109',\n",
       " '/datadec/cppm/jpreyes/CFHT_Production/grid_search_results/test213',\n",
       " '/datadec/cppm/jpreyes/CFHT_Production/grid_search_results/test104',\n",
       " '/datadec/cppm/jpreyes/CFHT_Production/grid_search_results/test107',\n",
       " '/datadec/cppm/jpreyes/CFHT_Production/grid_search_results/test211',\n",
       " '/datadec/cppm/jpreyes/CFHT_Production/grid_search_results/test214',\n",
       " '/datadec/cppm/jpreyes/CFHT_Production/grid_search_results/test210',\n",
       " '/datadec/cppm/jpreyes/CFHT_Production/grid_search_results/test93',\n",
       " '/datadec/cppm/jpreyes/CFHT_Production/grid_search_results/test103',\n",
       " '/datadec/cppm/jpreyes/CFHT_Production/grid_search_results/test95',\n",
       " '/datadec/cppm/jpreyes/CFHT_Production/grid_search_results/test215',\n",
       " '/datadec/cppm/jpreyes/CFHT_Production/grid_search_results/test106',\n",
       " '/datadec/cppm/jpreyes/CFHT_Production/grid_search_results/test212',\n",
       " '/datadec/cppm/jpreyes/CFHT_Production/grid_search_results/test77',\n",
       " '/datadec/cppm/jpreyes/CFHT_Production/grid_search_results/test102',\n",
       " '/datadec/cppm/jpreyes/CFHT_Production/grid_search_results/test96',\n",
       " '/datadec/cppm/jpreyes/CFHT_Production/grid_search_results/test86',\n",
       " '/datadec/cppm/jpreyes/CFHT_Production/grid_search_results/test85',\n",
       " '/datadec/cppm/jpreyes/CFHT_Production/grid_search_results/test108',\n",
       " '/datadec/cppm/jpreyes/CFHT_Production/grid_search_results/test75',\n",
       " '/datadec/cppm/jpreyes/CFHT_Production/grid_search_results/test84',\n",
       " '/datadec/cppm/jpreyes/CFHT_Production/grid_search_results/test90',\n",
       " '/datadec/cppm/jpreyes/CFHT_Production/grid_search_results/test98',\n",
       " '/datadec/cppm/jpreyes/CFHT_Production/grid_search_results/test92',\n",
       " '/datadec/cppm/jpreyes/CFHT_Production/grid_search_results/test78',\n",
       " '/datadec/cppm/jpreyes/CFHT_Production/grid_search_results/test70',\n",
       " '/datadec/cppm/jpreyes/CFHT_Production/grid_search_results/test165',\n",
       " '/datadec/cppm/jpreyes/CFHT_Production/grid_search_results/test157',\n",
       " '/datadec/cppm/jpreyes/CFHT_Production/grid_search_results/test158',\n",
       " '/datadec/cppm/jpreyes/CFHT_Production/grid_search_results/test162',\n",
       " '/datadec/cppm/jpreyes/CFHT_Production/grid_search_results/test154',\n",
       " '/datadec/cppm/jpreyes/CFHT_Production/grid_search_results/test167',\n",
       " '/datadec/cppm/jpreyes/CFHT_Production/grid_search_results/test155',\n",
       " '/datadec/cppm/jpreyes/CFHT_Production/grid_search_results/test164',\n",
       " '/datadec/cppm/jpreyes/CFHT_Production/grid_search_results/test169',\n",
       " '/datadec/cppm/jpreyes/CFHT_Production/grid_search_results/test159',\n",
       " '/datadec/cppm/jpreyes/CFHT_Production/grid_search_results/test161',\n",
       " '/datadec/cppm/jpreyes/CFHT_Production/grid_search_results/test163',\n",
       " '/datadec/cppm/jpreyes/CFHT_Production/grid_search_results/test151',\n",
       " '/datadec/cppm/jpreyes/CFHT_Production/grid_search_results/test153',\n",
       " '/datadec/cppm/jpreyes/CFHT_Production/grid_search_results/test168',\n",
       " '/datadec/cppm/jpreyes/CFHT_Production/grid_search_results/test131',\n",
       " '/datadec/cppm/jpreyes/CFHT_Production/grid_search_results/test166',\n",
       " '/datadec/cppm/jpreyes/CFHT_Production/grid_search_results/test148',\n",
       " '/datadec/cppm/jpreyes/CFHT_Production/grid_search_results/test136',\n",
       " '/datadec/cppm/jpreyes/CFHT_Production/grid_search_results/test135',\n",
       " '/datadec/cppm/jpreyes/CFHT_Production/grid_search_results/test133',\n",
       " '/datadec/cppm/jpreyes/CFHT_Production/grid_search_results/test143',\n",
       " '/datadec/cppm/jpreyes/CFHT_Production/grid_search_results/test152',\n",
       " '/datadec/cppm/jpreyes/CFHT_Production/grid_search_results/test146',\n",
       " '/datadec/cppm/jpreyes/CFHT_Production/grid_search_results/test130',\n",
       " '/datadec/cppm/jpreyes/CFHT_Production/grid_search_results/test144',\n",
       " '/datadec/cppm/jpreyes/CFHT_Production/grid_search_results/test145',\n",
       " '/datadec/cppm/jpreyes/CFHT_Production/grid_search_results/test149',\n",
       " '/datadec/cppm/jpreyes/CFHT_Production/grid_search_results/test132',\n",
       " '/datadec/cppm/jpreyes/CFHT_Production/grid_search_results/test141',\n",
       " '/datadec/cppm/jpreyes/CFHT_Production/grid_search_results/test147',\n",
       " '/datadec/cppm/jpreyes/CFHT_Production/grid_search_results/test150',\n",
       " '/datadec/cppm/jpreyes/CFHT_Production/grid_search_results/test156',\n",
       " '/datadec/cppm/jpreyes/CFHT_Production/grid_search_results/test139',\n",
       " '/datadec/cppm/jpreyes/CFHT_Production/grid_search_results/test142',\n",
       " '/datadec/cppm/jpreyes/CFHT_Production/grid_search_results/test207',\n",
       " '/datadec/cppm/jpreyes/CFHT_Production/grid_search_results/test198',\n",
       " '/datadec/cppm/jpreyes/CFHT_Production/grid_search_results/test110',\n",
       " '/datadec/cppm/jpreyes/CFHT_Production/grid_search_results/test172',\n",
       " '/datadec/cppm/jpreyes/CFHT_Production/grid_search_results/test196',\n",
       " '/datadec/cppm/jpreyes/CFHT_Production/grid_search_results/test140',\n",
       " '/datadec/cppm/jpreyes/CFHT_Production/grid_search_results/test119',\n",
       " '/datadec/cppm/jpreyes/CFHT_Production/grid_search_results/test193',\n",
       " '/datadec/cppm/jpreyes/CFHT_Production/grid_search_results/test173',\n",
       " '/datadec/cppm/jpreyes/CFHT_Production/grid_search_results/test171',\n",
       " '/datadec/cppm/jpreyes/CFHT_Production/grid_search_results/test177',\n",
       " '/datadec/cppm/jpreyes/CFHT_Production/grid_search_results/test170',\n",
       " '/datadec/cppm/jpreyes/CFHT_Production/grid_search_results/test125',\n",
       " '/datadec/cppm/jpreyes/CFHT_Production/grid_search_results/test195',\n",
       " '/datadec/cppm/jpreyes/CFHT_Production/grid_search_results/test121',\n",
       " '/datadec/cppm/jpreyes/CFHT_Production/grid_search_results/test184',\n",
       " '/datadec/cppm/jpreyes/CFHT_Production/grid_search_results/test134',\n",
       " '/datadec/cppm/jpreyes/CFHT_Production/grid_search_results/test138',\n",
       " '/datadec/cppm/jpreyes/CFHT_Production/grid_search_results/test128',\n",
       " '/datadec/cppm/jpreyes/CFHT_Production/grid_search_results/test127',\n",
       " '/datadec/cppm/jpreyes/CFHT_Production/grid_search_results/test179',\n",
       " '/datadec/cppm/jpreyes/CFHT_Production/grid_search_results/test188',\n",
       " '/datadec/cppm/jpreyes/CFHT_Production/grid_search_results/test203',\n",
       " '/datadec/cppm/jpreyes/CFHT_Production/grid_search_results/test200',\n",
       " '/datadec/cppm/jpreyes/CFHT_Production/grid_search_results/test111',\n",
       " '/datadec/cppm/jpreyes/CFHT_Production/grid_search_results/test123',\n",
       " '/datadec/cppm/jpreyes/CFHT_Production/grid_search_results/test183',\n",
       " '/datadec/cppm/jpreyes/CFHT_Production/grid_search_results/test116',\n",
       " '/datadec/cppm/jpreyes/CFHT_Production/grid_search_results/test174',\n",
       " '/datadec/cppm/jpreyes/CFHT_Production/grid_search_results/test191',\n",
       " '/datadec/cppm/jpreyes/CFHT_Production/grid_search_results/test180',\n",
       " '/datadec/cppm/jpreyes/CFHT_Production/grid_search_results/test117',\n",
       " '/datadec/cppm/jpreyes/CFHT_Production/grid_search_results/test118',\n",
       " '/datadec/cppm/jpreyes/CFHT_Production/grid_search_results/test160',\n",
       " '/datadec/cppm/jpreyes/CFHT_Production/grid_search_results/test113',\n",
       " '/datadec/cppm/jpreyes/CFHT_Production/grid_search_results/test190',\n",
       " '/datadec/cppm/jpreyes/CFHT_Production/grid_search_results/test176',\n",
       " '/datadec/cppm/jpreyes/CFHT_Production/grid_search_results/test115',\n",
       " '/datadec/cppm/jpreyes/CFHT_Production/grid_search_results/test186',\n",
       " '/datadec/cppm/jpreyes/CFHT_Production/grid_search_results/test199',\n",
       " '/datadec/cppm/jpreyes/CFHT_Production/grid_search_results/test187',\n",
       " '/datadec/cppm/jpreyes/CFHT_Production/grid_search_results/test126',\n",
       " '/datadec/cppm/jpreyes/CFHT_Production/grid_search_results/test185',\n",
       " '/datadec/cppm/jpreyes/CFHT_Production/grid_search_results/test209',\n",
       " '/datadec/cppm/jpreyes/CFHT_Production/grid_search_results/test204',\n",
       " '/datadec/cppm/jpreyes/CFHT_Production/grid_search_results/test201',\n",
       " '/datadec/cppm/jpreyes/CFHT_Production/grid_search_results/test194',\n",
       " '/datadec/cppm/jpreyes/CFHT_Production/grid_search_results/test178',\n",
       " '/datadec/cppm/jpreyes/CFHT_Production/grid_search_results/test206',\n",
       " '/datadec/cppm/jpreyes/CFHT_Production/grid_search_results/test208',\n",
       " '/datadec/cppm/jpreyes/CFHT_Production/grid_search_results/test202',\n",
       " '/datadec/cppm/jpreyes/CFHT_Production/grid_search_results/test182',\n",
       " '/datadec/cppm/jpreyes/CFHT_Production/grid_search_results/test197',\n",
       " '/datadec/cppm/jpreyes/CFHT_Production/grid_search_results/test68',\n",
       " '/datadec/cppm/jpreyes/CFHT_Production/grid_search_results/test181',\n",
       " '/datadec/cppm/jpreyes/CFHT_Production/grid_search_results/test59',\n",
       " '/datadec/cppm/jpreyes/CFHT_Production/grid_search_results/test205',\n",
       " '/datadec/cppm/jpreyes/CFHT_Production/grid_search_results/test114',\n",
       " '/datadec/cppm/jpreyes/CFHT_Production/grid_search_results/test57',\n",
       " '/datadec/cppm/jpreyes/CFHT_Production/grid_search_results/test120',\n",
       " '/datadec/cppm/jpreyes/CFHT_Production/grid_search_results/test69',\n",
       " '/datadec/cppm/jpreyes/CFHT_Production/grid_search_results/test112',\n",
       " '/datadec/cppm/jpreyes/CFHT_Production/grid_search_results/test50',\n",
       " '/datadec/cppm/jpreyes/CFHT_Production/grid_search_results/test61',\n",
       " '/datadec/cppm/jpreyes/CFHT_Production/grid_search_results/test189',\n",
       " '/datadec/cppm/jpreyes/CFHT_Production/grid_search_results/test65',\n",
       " '/datadec/cppm/jpreyes/CFHT_Production/grid_search_results/test54',\n",
       " '/datadec/cppm/jpreyes/CFHT_Production/grid_search_results/test129',\n",
       " '/datadec/cppm/jpreyes/CFHT_Production/grid_search_results/test51',\n",
       " '/datadec/cppm/jpreyes/CFHT_Production/grid_search_results/test137',\n",
       " '/datadec/cppm/jpreyes/CFHT_Production/grid_search_results/test60',\n",
       " '/datadec/cppm/jpreyes/CFHT_Production/grid_search_results/test192',\n",
       " '/datadec/cppm/jpreyes/CFHT_Production/grid_search_results/test56',\n",
       " '/datadec/cppm/jpreyes/CFHT_Production/grid_search_results/test52',\n",
       " '/datadec/cppm/jpreyes/CFHT_Production/grid_search_results/test67',\n",
       " '/datadec/cppm/jpreyes/CFHT_Production/grid_search_results/test124',\n",
       " '/datadec/cppm/jpreyes/CFHT_Production/grid_search_results/test122',\n",
       " '/datadec/cppm/jpreyes/CFHT_Production/grid_search_results/test175',\n",
       " '/datadec/cppm/jpreyes/CFHT_Production/grid_search_results/test62',\n",
       " '/datadec/cppm/jpreyes/CFHT_Production/grid_search_results/test53',\n",
       " '/datadec/cppm/jpreyes/CFHT_Production/grid_search_results/test63',\n",
       " '/datadec/cppm/jpreyes/CFHT_Production/grid_search_results/test64',\n",
       " '/datadec/cppm/jpreyes/CFHT_Production/grid_search_results/test55',\n",
       " '/datadec/cppm/jpreyes/CFHT_Production/grid_search_results/test58',\n",
       " '/datadec/cppm/jpreyes/CFHT_Production/grid_search_results/test37',\n",
       " '/datadec/cppm/jpreyes/CFHT_Production/grid_search_results/test46',\n",
       " '/datadec/cppm/jpreyes/CFHT_Production/grid_search_results/test44',\n",
       " '/datadec/cppm/jpreyes/CFHT_Production/grid_search_results/test5',\n",
       " '/datadec/cppm/jpreyes/CFHT_Production/grid_search_results/test31',\n",
       " '/datadec/cppm/jpreyes/CFHT_Production/grid_search_results/test47',\n",
       " '/datadec/cppm/jpreyes/CFHT_Production/grid_search_results/test38',\n",
       " '/datadec/cppm/jpreyes/CFHT_Production/grid_search_results/test39',\n",
       " '/datadec/cppm/jpreyes/CFHT_Production/grid_search_results/test48',\n",
       " '/datadec/cppm/jpreyes/CFHT_Production/grid_search_results/test43',\n",
       " '/datadec/cppm/jpreyes/CFHT_Production/grid_search_results/test49',\n",
       " '/datadec/cppm/jpreyes/CFHT_Production/grid_search_results/test33',\n",
       " '/datadec/cppm/jpreyes/CFHT_Production/grid_search_results/test40',\n",
       " '/datadec/cppm/jpreyes/CFHT_Production/grid_search_results/test45',\n",
       " '/datadec/cppm/jpreyes/CFHT_Production/grid_search_results/test66',\n",
       " '/datadec/cppm/jpreyes/CFHT_Production/grid_search_results/test32',\n",
       " '/datadec/cppm/jpreyes/CFHT_Production/grid_search_results/test42',\n",
       " '/datadec/cppm/jpreyes/CFHT_Production/grid_search_results/test36',\n",
       " '/datadec/cppm/jpreyes/CFHT_Production/grid_search_results/test41',\n",
       " '/datadec/cppm/jpreyes/CFHT_Production/grid_search_results/test30',\n",
       " '/datadec/cppm/jpreyes/CFHT_Production/grid_search_results/test35',\n",
       " '/datadec/cppm/jpreyes/CFHT_Production/grid_search_results/test34',\n",
       " '/datadec/cppm/jpreyes/CFHT_Production/grid_search_results/test13',\n",
       " '/datadec/cppm/jpreyes/CFHT_Production/grid_search_results/test2',\n",
       " '/datadec/cppm/jpreyes/CFHT_Production/grid_search_results/test23',\n",
       " '/datadec/cppm/jpreyes/CFHT_Production/grid_search_results/test12',\n",
       " '/datadec/cppm/jpreyes/CFHT_Production/grid_search_results/test19',\n",
       " '/datadec/cppm/jpreyes/CFHT_Production/grid_search_results/test10',\n",
       " '/datadec/cppm/jpreyes/CFHT_Production/grid_search_results/test24',\n",
       " '/datadec/cppm/jpreyes/CFHT_Production/grid_search_results/test0',\n",
       " '/datadec/cppm/jpreyes/CFHT_Production/grid_search_results/test15',\n",
       " '/datadec/cppm/jpreyes/CFHT_Production/grid_search_results/test7',\n",
       " '/datadec/cppm/jpreyes/CFHT_Production/grid_search_results/test14',\n",
       " '/datadec/cppm/jpreyes/CFHT_Production/grid_search_results/test21',\n",
       " '/datadec/cppm/jpreyes/CFHT_Production/grid_search_results/test26',\n",
       " '/datadec/cppm/jpreyes/CFHT_Production/grid_search_results/test4',\n",
       " '/datadec/cppm/jpreyes/CFHT_Production/grid_search_results/test17',\n",
       " '/datadec/cppm/jpreyes/CFHT_Production/grid_search_results/test20',\n",
       " '/datadec/cppm/jpreyes/CFHT_Production/grid_search_results/test27',\n",
       " '/datadec/cppm/jpreyes/CFHT_Production/grid_search_results/test11',\n",
       " '/datadec/cppm/jpreyes/CFHT_Production/grid_search_results/test6',\n",
       " '/datadec/cppm/jpreyes/CFHT_Production/grid_search_results/test9',\n",
       " '/datadec/cppm/jpreyes/CFHT_Production/grid_search_results/test8',\n",
       " '/datadec/cppm/jpreyes/CFHT_Production/grid_search_results/test29',\n",
       " '/datadec/cppm/jpreyes/CFHT_Production/grid_search_results/test22',\n",
       " '/datadec/cppm/jpreyes/CFHT_Production/grid_search_results/test3',\n",
       " '/datadec/cppm/jpreyes/CFHT_Production/grid_search_results/test1',\n",
       " '/datadec/cppm/jpreyes/CFHT_Production/grid_search_results/test25',\n",
       " '/datadec/cppm/jpreyes/CFHT_Production/grid_search_results/test16',\n",
       " '/datadec/cppm/jpreyes/CFHT_Production/grid_search_results/test18',\n",
       " '/datadec/cppm/jpreyes/CFHT_Production/grid_search_results/test28']"
      ]
     },
     "execution_count": 59,
     "metadata": {},
     "output_type": "execute_result"
    }
   ],
   "source": [
    "lienObj"
   ]
  },
  {
   "cell_type": "code",
   "execution_count": 60,
   "metadata": {},
   "outputs": [
    {
     "data": {
      "text/plain": [
       "{0: '/datadec/cppm/jpreyes/CFHT_Production/grid_search_results/test88',\n",
       " 1: '/datadec/cppm/jpreyes/CFHT_Production/grid_search_results/test74',\n",
       " 2: '/datadec/cppm/jpreyes/CFHT_Production/grid_search_results/test82',\n",
       " 3: '/datadec/cppm/jpreyes/CFHT_Production/grid_search_results/test83',\n",
       " 4: '/datadec/cppm/jpreyes/CFHT_Production/grid_search_results/test73',\n",
       " 5: '/datadec/cppm/jpreyes/CFHT_Production/grid_search_results/test76',\n",
       " 6: '/datadec/cppm/jpreyes/CFHT_Production/grid_search_results/test89',\n",
       " 7: '/datadec/cppm/jpreyes/CFHT_Production/grid_search_results/test72',\n",
       " 8: '/datadec/cppm/jpreyes/CFHT_Production/grid_search_results/test71',\n",
       " 9: '/datadec/cppm/jpreyes/CFHT_Production/grid_search_results/test79',\n",
       " 10: '/datadec/cppm/jpreyes/CFHT_Production/grid_search_results/test80',\n",
       " 11: '/datadec/cppm/jpreyes/CFHT_Production/grid_search_results/test97',\n",
       " 12: '/datadec/cppm/jpreyes/CFHT_Production/grid_search_results/test100',\n",
       " 13: '/datadec/cppm/jpreyes/CFHT_Production/grid_search_results/test99',\n",
       " 14: '/datadec/cppm/jpreyes/CFHT_Production/grid_search_results/test81',\n",
       " 15: '/datadec/cppm/jpreyes/CFHT_Production/grid_search_results/test91',\n",
       " 16: '/datadec/cppm/jpreyes/CFHT_Production/grid_search_results/test87',\n",
       " 17: '/datadec/cppm/jpreyes/CFHT_Production/grid_search_results/test105',\n",
       " 18: '/datadec/cppm/jpreyes/CFHT_Production/grid_search_results/test94',\n",
       " 19: '/datadec/cppm/jpreyes/CFHT_Production/grid_search_results/test101',\n",
       " 20: '/datadec/cppm/jpreyes/CFHT_Production/grid_search_results/test109',\n",
       " 21: '/datadec/cppm/jpreyes/CFHT_Production/grid_search_results/test213',\n",
       " 22: '/datadec/cppm/jpreyes/CFHT_Production/grid_search_results/test104',\n",
       " 23: '/datadec/cppm/jpreyes/CFHT_Production/grid_search_results/test107',\n",
       " 24: '/datadec/cppm/jpreyes/CFHT_Production/grid_search_results/test211',\n",
       " 25: '/datadec/cppm/jpreyes/CFHT_Production/grid_search_results/test214',\n",
       " 26: '/datadec/cppm/jpreyes/CFHT_Production/grid_search_results/test210',\n",
       " 27: '/datadec/cppm/jpreyes/CFHT_Production/grid_search_results/test93',\n",
       " 28: '/datadec/cppm/jpreyes/CFHT_Production/grid_search_results/test103',\n",
       " 29: '/datadec/cppm/jpreyes/CFHT_Production/grid_search_results/test95',\n",
       " 30: '/datadec/cppm/jpreyes/CFHT_Production/grid_search_results/test215',\n",
       " 31: '/datadec/cppm/jpreyes/CFHT_Production/grid_search_results/test106',\n",
       " 32: '/datadec/cppm/jpreyes/CFHT_Production/grid_search_results/test212',\n",
       " 33: '/datadec/cppm/jpreyes/CFHT_Production/grid_search_results/test77',\n",
       " 34: '/datadec/cppm/jpreyes/CFHT_Production/grid_search_results/test102',\n",
       " 35: '/datadec/cppm/jpreyes/CFHT_Production/grid_search_results/test96',\n",
       " 36: '/datadec/cppm/jpreyes/CFHT_Production/grid_search_results/test86',\n",
       " 37: '/datadec/cppm/jpreyes/CFHT_Production/grid_search_results/test85',\n",
       " 38: '/datadec/cppm/jpreyes/CFHT_Production/grid_search_results/test108',\n",
       " 39: '/datadec/cppm/jpreyes/CFHT_Production/grid_search_results/test75',\n",
       " 40: '/datadec/cppm/jpreyes/CFHT_Production/grid_search_results/test84',\n",
       " 41: '/datadec/cppm/jpreyes/CFHT_Production/grid_search_results/test90',\n",
       " 42: '/datadec/cppm/jpreyes/CFHT_Production/grid_search_results/test98',\n",
       " 43: '/datadec/cppm/jpreyes/CFHT_Production/grid_search_results/test92',\n",
       " 44: '/datadec/cppm/jpreyes/CFHT_Production/grid_search_results/test78',\n",
       " 45: '/datadec/cppm/jpreyes/CFHT_Production/grid_search_results/test70',\n",
       " 46: '/datadec/cppm/jpreyes/CFHT_Production/grid_search_results/test165',\n",
       " 47: '/datadec/cppm/jpreyes/CFHT_Production/grid_search_results/test157',\n",
       " 48: '/datadec/cppm/jpreyes/CFHT_Production/grid_search_results/test158',\n",
       " 49: '/datadec/cppm/jpreyes/CFHT_Production/grid_search_results/test162',\n",
       " 50: '/datadec/cppm/jpreyes/CFHT_Production/grid_search_results/test154',\n",
       " 51: '/datadec/cppm/jpreyes/CFHT_Production/grid_search_results/test167',\n",
       " 52: '/datadec/cppm/jpreyes/CFHT_Production/grid_search_results/test155',\n",
       " 53: '/datadec/cppm/jpreyes/CFHT_Production/grid_search_results/test164',\n",
       " 54: '/datadec/cppm/jpreyes/CFHT_Production/grid_search_results/test169',\n",
       " 55: '/datadec/cppm/jpreyes/CFHT_Production/grid_search_results/test159',\n",
       " 56: '/datadec/cppm/jpreyes/CFHT_Production/grid_search_results/test161',\n",
       " 57: '/datadec/cppm/jpreyes/CFHT_Production/grid_search_results/test163',\n",
       " 58: '/datadec/cppm/jpreyes/CFHT_Production/grid_search_results/test151',\n",
       " 59: '/datadec/cppm/jpreyes/CFHT_Production/grid_search_results/test153',\n",
       " 60: '/datadec/cppm/jpreyes/CFHT_Production/grid_search_results/test168',\n",
       " 61: '/datadec/cppm/jpreyes/CFHT_Production/grid_search_results/test131',\n",
       " 62: '/datadec/cppm/jpreyes/CFHT_Production/grid_search_results/test166',\n",
       " 63: '/datadec/cppm/jpreyes/CFHT_Production/grid_search_results/test148',\n",
       " 64: '/datadec/cppm/jpreyes/CFHT_Production/grid_search_results/test136',\n",
       " 65: '/datadec/cppm/jpreyes/CFHT_Production/grid_search_results/test135',\n",
       " 66: '/datadec/cppm/jpreyes/CFHT_Production/grid_search_results/test133',\n",
       " 67: '/datadec/cppm/jpreyes/CFHT_Production/grid_search_results/test143',\n",
       " 68: '/datadec/cppm/jpreyes/CFHT_Production/grid_search_results/test152',\n",
       " 69: '/datadec/cppm/jpreyes/CFHT_Production/grid_search_results/test146',\n",
       " 70: '/datadec/cppm/jpreyes/CFHT_Production/grid_search_results/test130',\n",
       " 71: '/datadec/cppm/jpreyes/CFHT_Production/grid_search_results/test144',\n",
       " 72: '/datadec/cppm/jpreyes/CFHT_Production/grid_search_results/test145',\n",
       " 73: '/datadec/cppm/jpreyes/CFHT_Production/grid_search_results/test149',\n",
       " 74: '/datadec/cppm/jpreyes/CFHT_Production/grid_search_results/test132',\n",
       " 75: '/datadec/cppm/jpreyes/CFHT_Production/grid_search_results/test141',\n",
       " 76: '/datadec/cppm/jpreyes/CFHT_Production/grid_search_results/test147',\n",
       " 77: '/datadec/cppm/jpreyes/CFHT_Production/grid_search_results/test150',\n",
       " 78: '/datadec/cppm/jpreyes/CFHT_Production/grid_search_results/test156',\n",
       " 79: '/datadec/cppm/jpreyes/CFHT_Production/grid_search_results/test139',\n",
       " 80: '/datadec/cppm/jpreyes/CFHT_Production/grid_search_results/test142',\n",
       " 81: '/datadec/cppm/jpreyes/CFHT_Production/grid_search_results/test207',\n",
       " 82: '/datadec/cppm/jpreyes/CFHT_Production/grid_search_results/test198',\n",
       " 83: '/datadec/cppm/jpreyes/CFHT_Production/grid_search_results/test110',\n",
       " 84: '/datadec/cppm/jpreyes/CFHT_Production/grid_search_results/test172',\n",
       " 85: '/datadec/cppm/jpreyes/CFHT_Production/grid_search_results/test196',\n",
       " 86: '/datadec/cppm/jpreyes/CFHT_Production/grid_search_results/test140',\n",
       " 87: '/datadec/cppm/jpreyes/CFHT_Production/grid_search_results/test119',\n",
       " 88: '/datadec/cppm/jpreyes/CFHT_Production/grid_search_results/test193',\n",
       " 89: '/datadec/cppm/jpreyes/CFHT_Production/grid_search_results/test173',\n",
       " 90: '/datadec/cppm/jpreyes/CFHT_Production/grid_search_results/test171',\n",
       " 91: '/datadec/cppm/jpreyes/CFHT_Production/grid_search_results/test177',\n",
       " 92: '/datadec/cppm/jpreyes/CFHT_Production/grid_search_results/test170',\n",
       " 93: '/datadec/cppm/jpreyes/CFHT_Production/grid_search_results/test125',\n",
       " 94: '/datadec/cppm/jpreyes/CFHT_Production/grid_search_results/test195',\n",
       " 95: '/datadec/cppm/jpreyes/CFHT_Production/grid_search_results/test121',\n",
       " 96: '/datadec/cppm/jpreyes/CFHT_Production/grid_search_results/test184',\n",
       " 97: '/datadec/cppm/jpreyes/CFHT_Production/grid_search_results/test134',\n",
       " 98: '/datadec/cppm/jpreyes/CFHT_Production/grid_search_results/test138',\n",
       " 99: '/datadec/cppm/jpreyes/CFHT_Production/grid_search_results/test128',\n",
       " 100: '/datadec/cppm/jpreyes/CFHT_Production/grid_search_results/test127',\n",
       " 101: '/datadec/cppm/jpreyes/CFHT_Production/grid_search_results/test179',\n",
       " 102: '/datadec/cppm/jpreyes/CFHT_Production/grid_search_results/test188',\n",
       " 103: '/datadec/cppm/jpreyes/CFHT_Production/grid_search_results/test203',\n",
       " 104: '/datadec/cppm/jpreyes/CFHT_Production/grid_search_results/test200',\n",
       " 105: '/datadec/cppm/jpreyes/CFHT_Production/grid_search_results/test111',\n",
       " 106: '/datadec/cppm/jpreyes/CFHT_Production/grid_search_results/test123',\n",
       " 107: '/datadec/cppm/jpreyes/CFHT_Production/grid_search_results/test183',\n",
       " 108: '/datadec/cppm/jpreyes/CFHT_Production/grid_search_results/test116',\n",
       " 109: '/datadec/cppm/jpreyes/CFHT_Production/grid_search_results/test174',\n",
       " 110: '/datadec/cppm/jpreyes/CFHT_Production/grid_search_results/test191',\n",
       " 111: '/datadec/cppm/jpreyes/CFHT_Production/grid_search_results/test180',\n",
       " 112: '/datadec/cppm/jpreyes/CFHT_Production/grid_search_results/test117',\n",
       " 113: '/datadec/cppm/jpreyes/CFHT_Production/grid_search_results/test118',\n",
       " 114: '/datadec/cppm/jpreyes/CFHT_Production/grid_search_results/test160',\n",
       " 115: '/datadec/cppm/jpreyes/CFHT_Production/grid_search_results/test113',\n",
       " 116: '/datadec/cppm/jpreyes/CFHT_Production/grid_search_results/test190',\n",
       " 117: '/datadec/cppm/jpreyes/CFHT_Production/grid_search_results/test176',\n",
       " 118: '/datadec/cppm/jpreyes/CFHT_Production/grid_search_results/test115',\n",
       " 119: '/datadec/cppm/jpreyes/CFHT_Production/grid_search_results/test186',\n",
       " 120: '/datadec/cppm/jpreyes/CFHT_Production/grid_search_results/test199',\n",
       " 121: '/datadec/cppm/jpreyes/CFHT_Production/grid_search_results/test187',\n",
       " 122: '/datadec/cppm/jpreyes/CFHT_Production/grid_search_results/test126',\n",
       " 123: '/datadec/cppm/jpreyes/CFHT_Production/grid_search_results/test185',\n",
       " 124: '/datadec/cppm/jpreyes/CFHT_Production/grid_search_results/test209',\n",
       " 125: '/datadec/cppm/jpreyes/CFHT_Production/grid_search_results/test204',\n",
       " 126: '/datadec/cppm/jpreyes/CFHT_Production/grid_search_results/test201',\n",
       " 127: '/datadec/cppm/jpreyes/CFHT_Production/grid_search_results/test194',\n",
       " 128: '/datadec/cppm/jpreyes/CFHT_Production/grid_search_results/test178',\n",
       " 129: '/datadec/cppm/jpreyes/CFHT_Production/grid_search_results/test206',\n",
       " 130: '/datadec/cppm/jpreyes/CFHT_Production/grid_search_results/test208',\n",
       " 131: '/datadec/cppm/jpreyes/CFHT_Production/grid_search_results/test202',\n",
       " 132: '/datadec/cppm/jpreyes/CFHT_Production/grid_search_results/test182',\n",
       " 133: '/datadec/cppm/jpreyes/CFHT_Production/grid_search_results/test197',\n",
       " 134: '/datadec/cppm/jpreyes/CFHT_Production/grid_search_results/test68',\n",
       " 135: '/datadec/cppm/jpreyes/CFHT_Production/grid_search_results/test181',\n",
       " 136: '/datadec/cppm/jpreyes/CFHT_Production/grid_search_results/test59',\n",
       " 137: '/datadec/cppm/jpreyes/CFHT_Production/grid_search_results/test205',\n",
       " 138: '/datadec/cppm/jpreyes/CFHT_Production/grid_search_results/test114',\n",
       " 139: '/datadec/cppm/jpreyes/CFHT_Production/grid_search_results/test57',\n",
       " 140: '/datadec/cppm/jpreyes/CFHT_Production/grid_search_results/test120',\n",
       " 141: '/datadec/cppm/jpreyes/CFHT_Production/grid_search_results/test69',\n",
       " 142: '/datadec/cppm/jpreyes/CFHT_Production/grid_search_results/test112',\n",
       " 143: '/datadec/cppm/jpreyes/CFHT_Production/grid_search_results/test50',\n",
       " 144: '/datadec/cppm/jpreyes/CFHT_Production/grid_search_results/test61',\n",
       " 145: '/datadec/cppm/jpreyes/CFHT_Production/grid_search_results/test189',\n",
       " 146: '/datadec/cppm/jpreyes/CFHT_Production/grid_search_results/test65',\n",
       " 147: '/datadec/cppm/jpreyes/CFHT_Production/grid_search_results/test54',\n",
       " 148: '/datadec/cppm/jpreyes/CFHT_Production/grid_search_results/test129',\n",
       " 149: '/datadec/cppm/jpreyes/CFHT_Production/grid_search_results/test51',\n",
       " 150: '/datadec/cppm/jpreyes/CFHT_Production/grid_search_results/test137',\n",
       " 151: '/datadec/cppm/jpreyes/CFHT_Production/grid_search_results/test60',\n",
       " 152: '/datadec/cppm/jpreyes/CFHT_Production/grid_search_results/test192',\n",
       " 153: '/datadec/cppm/jpreyes/CFHT_Production/grid_search_results/test56',\n",
       " 154: '/datadec/cppm/jpreyes/CFHT_Production/grid_search_results/test52',\n",
       " 155: '/datadec/cppm/jpreyes/CFHT_Production/grid_search_results/test67',\n",
       " 156: '/datadec/cppm/jpreyes/CFHT_Production/grid_search_results/test124',\n",
       " 157: '/datadec/cppm/jpreyes/CFHT_Production/grid_search_results/test122',\n",
       " 158: '/datadec/cppm/jpreyes/CFHT_Production/grid_search_results/test175',\n",
       " 159: '/datadec/cppm/jpreyes/CFHT_Production/grid_search_results/test62',\n",
       " 160: '/datadec/cppm/jpreyes/CFHT_Production/grid_search_results/test53',\n",
       " 161: '/datadec/cppm/jpreyes/CFHT_Production/grid_search_results/test63',\n",
       " 162: '/datadec/cppm/jpreyes/CFHT_Production/grid_search_results/test64',\n",
       " 163: '/datadec/cppm/jpreyes/CFHT_Production/grid_search_results/test55',\n",
       " 164: '/datadec/cppm/jpreyes/CFHT_Production/grid_search_results/test58',\n",
       " 165: '/datadec/cppm/jpreyes/CFHT_Production/grid_search_results/test37',\n",
       " 166: '/datadec/cppm/jpreyes/CFHT_Production/grid_search_results/test46',\n",
       " 167: '/datadec/cppm/jpreyes/CFHT_Production/grid_search_results/test44',\n",
       " 168: '/datadec/cppm/jpreyes/CFHT_Production/grid_search_results/test5',\n",
       " 169: '/datadec/cppm/jpreyes/CFHT_Production/grid_search_results/test31',\n",
       " 170: '/datadec/cppm/jpreyes/CFHT_Production/grid_search_results/test47',\n",
       " 171: '/datadec/cppm/jpreyes/CFHT_Production/grid_search_results/test38',\n",
       " 172: '/datadec/cppm/jpreyes/CFHT_Production/grid_search_results/test39',\n",
       " 173: '/datadec/cppm/jpreyes/CFHT_Production/grid_search_results/test48',\n",
       " 174: '/datadec/cppm/jpreyes/CFHT_Production/grid_search_results/test43',\n",
       " 175: '/datadec/cppm/jpreyes/CFHT_Production/grid_search_results/test49',\n",
       " 176: '/datadec/cppm/jpreyes/CFHT_Production/grid_search_results/test33',\n",
       " 177: '/datadec/cppm/jpreyes/CFHT_Production/grid_search_results/test40',\n",
       " 178: '/datadec/cppm/jpreyes/CFHT_Production/grid_search_results/test45',\n",
       " 179: '/datadec/cppm/jpreyes/CFHT_Production/grid_search_results/test66',\n",
       " 180: '/datadec/cppm/jpreyes/CFHT_Production/grid_search_results/test32',\n",
       " 181: '/datadec/cppm/jpreyes/CFHT_Production/grid_search_results/test42',\n",
       " 182: '/datadec/cppm/jpreyes/CFHT_Production/grid_search_results/test36',\n",
       " 183: '/datadec/cppm/jpreyes/CFHT_Production/grid_search_results/test41',\n",
       " 184: '/datadec/cppm/jpreyes/CFHT_Production/grid_search_results/test30',\n",
       " 185: '/datadec/cppm/jpreyes/CFHT_Production/grid_search_results/test35',\n",
       " 186: '/datadec/cppm/jpreyes/CFHT_Production/grid_search_results/test34',\n",
       " 187: '/datadec/cppm/jpreyes/CFHT_Production/grid_search_results/test13',\n",
       " 188: '/datadec/cppm/jpreyes/CFHT_Production/grid_search_results/test2',\n",
       " 189: '/datadec/cppm/jpreyes/CFHT_Production/grid_search_results/test23',\n",
       " 190: '/datadec/cppm/jpreyes/CFHT_Production/grid_search_results/test12',\n",
       " 191: '/datadec/cppm/jpreyes/CFHT_Production/grid_search_results/test19',\n",
       " 192: '/datadec/cppm/jpreyes/CFHT_Production/grid_search_results/test10',\n",
       " 193: '/datadec/cppm/jpreyes/CFHT_Production/grid_search_results/test24',\n",
       " 194: '/datadec/cppm/jpreyes/CFHT_Production/grid_search_results/test0',\n",
       " 195: '/datadec/cppm/jpreyes/CFHT_Production/grid_search_results/test15',\n",
       " 196: '/datadec/cppm/jpreyes/CFHT_Production/grid_search_results/test7',\n",
       " 197: '/datadec/cppm/jpreyes/CFHT_Production/grid_search_results/test14',\n",
       " 198: '/datadec/cppm/jpreyes/CFHT_Production/grid_search_results/test21',\n",
       " 199: '/datadec/cppm/jpreyes/CFHT_Production/grid_search_results/test26',\n",
       " 200: '/datadec/cppm/jpreyes/CFHT_Production/grid_search_results/test4',\n",
       " 201: '/datadec/cppm/jpreyes/CFHT_Production/grid_search_results/test17',\n",
       " 202: '/datadec/cppm/jpreyes/CFHT_Production/grid_search_results/test20',\n",
       " 203: '/datadec/cppm/jpreyes/CFHT_Production/grid_search_results/test27',\n",
       " 204: '/datadec/cppm/jpreyes/CFHT_Production/grid_search_results/test11',\n",
       " 205: '/datadec/cppm/jpreyes/CFHT_Production/grid_search_results/test6',\n",
       " 206: '/datadec/cppm/jpreyes/CFHT_Production/grid_search_results/test9',\n",
       " 207: '/datadec/cppm/jpreyes/CFHT_Production/grid_search_results/test8',\n",
       " 208: '/datadec/cppm/jpreyes/CFHT_Production/grid_search_results/test29',\n",
       " 209: '/datadec/cppm/jpreyes/CFHT_Production/grid_search_results/test22',\n",
       " 210: '/datadec/cppm/jpreyes/CFHT_Production/grid_search_results/test3',\n",
       " 211: '/datadec/cppm/jpreyes/CFHT_Production/grid_search_results/test1',\n",
       " 212: '/datadec/cppm/jpreyes/CFHT_Production/grid_search_results/test25',\n",
       " 213: '/datadec/cppm/jpreyes/CFHT_Production/grid_search_results/test16',\n",
       " 214: '/datadec/cppm/jpreyes/CFHT_Production/grid_search_results/test18',\n",
       " 215: '/datadec/cppm/jpreyes/CFHT_Production/grid_search_results/test28'}"
      ]
     },
     "execution_count": 60,
     "metadata": {},
     "output_type": "execute_result"
    }
   ],
   "source": [
    "lien_a_repartir"
   ]
  },
  {
   "cell_type": "code",
   "execution_count": null,
   "metadata": {
    "collapsed": true
   },
   "outputs": [],
   "source": []
  }
 ],
 "metadata": {
  "kernelspec": {
   "display_name": "Python 2",
   "language": "python",
   "name": "python2"
  },
  "language_info": {
   "codemirror_mode": {
    "name": "ipython",
    "version": 2
   },
   "file_extension": ".py",
   "mimetype": "text/x-python",
   "name": "python",
   "nbconvert_exporter": "python",
   "pygments_lexer": "ipython2",
   "version": "2.7.12"
  }
 },
 "nbformat": 4,
 "nbformat_minor": 2
}
