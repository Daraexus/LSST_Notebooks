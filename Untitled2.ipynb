{
 "cells": [
  {
   "cell_type": "code",
   "execution_count": 1,
   "metadata": {
    "collapsed": true
   },
   "outputs": [],
   "source": [
    "import lsst.daf.persistence as dafPersist\n",
    "import matplotlib.pyplot as plt\n",
    "import numpy as np\n",
    "\n",
    "import lsst.afw.table as afwTable\n",
    "import lsst.afw.geom as afwGeom\n",
    "import Utils.DiaSourceTools as DSTools\n",
    "from astropy.time import Time\n",
    "\n",
    "import lsst.afw.display.ds9 as ds9\n",
    "\n",
    "import re\n",
    "\n",
    "from multiprocessing import Pool\n",
    "from functools import partial\n",
    "\n",
    "import astropy.coordinates as coord\n",
    "import astropy.units as u\n",
    "\n",
    "import lsst.daf.base as dafBase\n",
    "from lsst.meas.algorithms.detection import SourceDetectionTask\n",
    "from lsst.meas.base import SingleFrameMeasurementTask\n",
    "from lsst.meas.deblender import SourceDeblendTask\n",
    "\n",
    "from astropy.table import Table"
   ]
  },
  {
   "cell_type": "code",
   "execution_count": 2,
   "metadata": {
    "collapsed": true
   },
   "outputs": [],
   "source": [
    "DATADIR=\"/datadec/cppm/jpreyes/CFHT_Jointcal\"\n",
    "directory = DATADIR+\"/jointcal_testSN_2/\"\n",
    "butler = dafPersist.Butler(directory) \n",
    "filter = 'r'\n"
   ]
  },
  {
   "cell_type": "code",
   "execution_count": 37,
   "metadata": {
    "collapsed": true
   },
   "outputs": [],
   "source": [
    "calexp  = butler.get(\"calexp\", dataId={\"filter\":filter, \"visit\":849373, \"ccd\":15})\n",
    "src = butler.get(\"src\", dataId={\"filter\":filter, \"visit\":849373, \"ccd\":15})"
   ]
  },
  {
   "cell_type": "code",
   "execution_count": 6,
   "metadata": {
    "collapsed": true
   },
   "outputs": [],
   "source": [
    "def detect_sources(exposure):\n",
    "    threshold = 6\n",
    "    doSmooth=True\n",
    "    schema = afwTable.SourceTable.makeMinimalSchema()\n",
    "\n",
    "\n",
    "    algMetadata = dafBase.PropertyList()\n",
    "\n",
    "    config = SourceDetectionTask.ConfigClass()\n",
    "    #config.thresholdPolarity = \"both\"\n",
    "    config.thresholdValue = threshold\n",
    "    config.reEstimateBackground = False\n",
    "    #config.thresholdType = \"pixel_stdev\"\n",
    "\n",
    "    detectionTask = SourceDetectionTask(config=config, schema=schema)\n",
    "\n",
    "    measurement = SingleFrameMeasurementTask\n",
    "    config = measurement.ConfigClass()\n",
    "\n",
    "    measurement = measurement(schema, config=config, algMetadata=algMetadata)\n",
    "\n",
    "\n",
    "    deblend = SourceDeblendTask\n",
    "    config = SourceDeblendTask.ConfigClass()\n",
    "    deblend = deblend(schema)\n",
    "\n",
    "    table = afwTable.SourceTable.make(schema)\n",
    "    \n",
    "    results = detectionTask.run(table=table, exposure=exposure , doSmooth=doSmooth )\n",
    "\n",
    "    sourcesCat = results.sources\n",
    "    \n",
    "    deblend.run(exposure, sourcesCat)\n",
    "    \n",
    "    \n",
    "\n",
    "    measurement.run(measCat=sourcesCat, exposure=exposure)\n",
    "\n",
    "    return sourcesCat"
   ]
  },
  {
   "cell_type": "code",
   "execution_count": 65,
   "metadata": {},
   "outputs": [
    {
     "name": "stdout",
     "output_type": "stream",
     "text": [
      "[[  5.17978333e-05  -6.73377463e-09]\n",
      " [  1.26132232e-07  -5.18771716e-05]]\n"
     ]
    }
   ],
   "source": [
    "\n",
    "\n",
    "calexp  = butler.get(\"calexp\", dataId={\"filter\":filter, \"visit\":849373, \"ccd\":15})\n",
    "print calexp.getWcs().getLinearTransform()\n"
   ]
  },
  {
   "cell_type": "code",
   "execution_count": 66,
   "metadata": {
    "collapsed": true
   },
   "outputs": [],
   "source": [
    "sources = detect_sources(calexp)"
   ]
  },
  {
   "cell_type": "code",
   "execution_count": 67,
   "metadata": {},
   "outputs": [
    {
     "name": "stdout",
     "output_type": "stream",
     "text": [
      "[[  5.16709113e-05  -1.02245459e-06]\n",
      " [ -6.26465798e-07  -5.19629045e-05]]\n"
     ]
    }
   ],
   "source": [
    "wcs = butler.get(\"wcs\", dataId={\"filter\":filter, \"visit\":849373, \"ccd\":15, \"tract\":0})\n",
    "wcs = wcs.getWcs()\n",
    "print wcs.getLinearTransform()"
   ]
  },
  {
   "cell_type": "code",
   "execution_count": 68,
   "metadata": {
    "collapsed": true
   },
   "outputs": [],
   "source": [
    "calexp_corr = calexp.clone()\n",
    "calexp_corr.setWcs(wcs)\n",
    "sources_corr = detect_sources(calexp_corr)"
   ]
  },
  {
   "cell_type": "code",
   "execution_count": 69,
   "metadata": {},
   "outputs": [
    {
     "name": "stdout",
     "output_type": "stream",
     "text": [
      "1649.67231367 1649.67231367\n"
     ]
    }
   ],
   "source": [
    "print s.getX(), sc.getX()"
   ]
  },
  {
   "cell_type": "code",
   "execution_count": 70,
   "metadata": {
    "collapsed": true
   },
   "outputs": [],
   "source": [
    "\n",
    "\n",
    "dif_ra = []\n",
    "dif_dec = []\n",
    "\n",
    "for ccd in range(0,35):\n",
    "\n",
    "    calexp  = butler.get(\"calexp\", dataId={\"filter\":filter, \"visit\":849373, \"ccd\":ccd})\n",
    "    #ds9.mtv(calexp, frame=1)\n",
    "    sources = detect_sources(calexp)\n",
    "    wcs = butler.get(\"wcs\", dataId={\"filter\":filter, \"visit\":849373, \"ccd\":ccd, \"tract\":0})\n",
    "    wcs = wcs.getWcs()\n",
    "    calexp_corr = calexp.clone()\n",
    "    calexp_corr.setWcs(wcs)\n",
    "    sources_corr = detect_sources(calexp_corr)\n",
    "    i = 0\n",
    "    for s, sc in zip(sources, sources_corr):\n",
    "        #ds9.dot(i, s.getX(), s.getY(), ctype = ds9.RED, size=2, frame=1)\n",
    "        \n",
    "        #ds9.dot(i, sc.getX()+1, sc.getY()+1, ctype = ds9.BLUE, size=2, frame=1)\n",
    "        \n",
    "        c1 = coord.SkyCoord(ra=float(s.getRa()), dec=float(s.getDec()), unit=(u.rad))\n",
    "        c2 = coord.SkyCoord(ra=float(sc.getRa()), dec=float(sc.getDec()), unit=(u.rad))\n",
    "        dif_ra.append(c2.ra.deg-c1.ra.deg)\n",
    "        dif_dec.append(c2.dec.deg-c1.dec.deg)\n",
    "        i+=1"
   ]
  },
  {
   "cell_type": "code",
   "execution_count": 71,
   "metadata": {},
   "outputs": [
    {
     "data": {
      "image/png": "[encoded data removed]",
      "text/plain": [
       "<matplotlib.figure.Figure at 0x7f7f46c3d8d0>"
      ]
     },
     "metadata": {},
     "output_type": "display_data"
    }
   ],
   "source": [
    "%matplotlib inline\n",
    "plt.hist(dif_ra, align='left', bins=1000)\n",
    "plt.ticklabel_format(style='sci', axis='x',scilimits=(0,0))\n",
    "plt.axvline(0.00014, color='r', linestyle='dashed', linewidth=2)\n",
    "plt.axvline(-0.00014, color='r', linestyle='dashed', linewidth=2)\n",
    "plt.xlim((-0.01, 0.01))\n",
    "plt.show()"
   ]
  },
  {
   "cell_type": "code",
   "execution_count": 72,
   "metadata": {},
   "outputs": [
    {
     "data": {
      "image/png": "[encoded data removed]",
      "text/plain": [
       "<matplotlib.figure.Figure at 0x7f7f46cb3990>"
      ]
     },
     "metadata": {},
     "output_type": "display_data"
    }
   ],
   "source": [
    "%matplotlib inline\n",
    "plt.hist(dif_dec, align='left', bins=1000)\n",
    "plt.ticklabel_format(style='sci', axis='x',scilimits=(0,0))\n",
    "plt.axvline(0.00014, color='r', linestyle='dashed', linewidth=2)\n",
    "plt.axvline(-0.00014, color='r', linestyle='dashed', linewidth=2)\n",
    "plt.xlim((-0.01, 0.01))\n",
    "plt.show()"
   ]
  },
  {
   "cell_type": "code",
   "execution_count": 3,
   "metadata": {},
   "outputs": [
    {
     "name": "stdout",
     "output_type": "stream",
     "text": [
      "[849373, 849374, 849375, 849376, 849377, 849685, 849686, 849687, 849688, 849689]\n"
     ]
    }
   ],
   "source": [
    "visits = range(849373,849378)\n",
    "visits.extend(range(849685,849690))\n",
    "print visits"
   ]
  },
  {
   "cell_type": "code",
   "execution_count": 4,
   "metadata": {
    "collapsed": true
   },
   "outputs": [],
   "source": [
    "calexps = []\n",
    "\n",
    "for i in visits:\n",
    "    \n",
    "    cal = butler.get(\"calexp\", dataId={\"filter\":filter, \"visit\":i, \"ccd\":14})\n",
    "    #wcs = butler.get(\"wcs\", dataId={\"filter\":filter, \"visit\":i, \"ccd\":14, \"tract\":0})\n",
    "    #wcs = wcs.getWcs()\n",
    "    #cal.setWcs(wcs)\n",
    "    calexps.append(cal)\n",
    "\n",
    "\n"
   ]
  },
  {
   "cell_type": "code",
   "execution_count": 5,
   "metadata": {},
   "outputs": [],
   "source": [
    "sources_catalog = []\n",
    "\n",
    "#for calexp in calexps:\n",
    "for visit in visits:\n",
    "    sources_catalog.append(butler.get(\"src\", dataId={\"filter\":filter, \"visit\":visit, \"ccd\":14}))\n",
    "    \n",
    "    #sources_catalog.append(detect_sources(calexp))"
   ]
  },
  {
   "cell_type": "code",
   "execution_count": 6,
   "metadata": {},
   "outputs": [],
   "source": [
    "multi_matches = afwTable.MultiMatch(sources_catalog[0].schema, {'visit':'I'}, radius=afwGeom.Angle(1./3600., afwGeom.degrees))"
   ]
  },
  {
   "cell_type": "code",
   "execution_count": 7,
   "metadata": {},
   "outputs": [],
   "source": [
    "for catalog, visit in zip(sources_catalog, visits):\n",
    "    \n",
    "    multi_matches.add(catalog, {'visit':visit})\n",
    "    \n",
    "results = multi_matches.finish(removeAmbiguous=False) \n"
   ]
  },
  {
   "cell_type": "code",
   "execution_count": 8,
   "metadata": {},
   "outputs": [],
   "source": [
    "def build_lightcurve(source_list, flux):\n",
    "    \"\"\"\n",
    "    Assemble a light curve data table from available files.\n",
    "    \"\"\"\n",
    "\n",
    "    bandpasses = ['r']\n",
    "\n",
    "\n",
    "    lightcurve = {}\n",
    "    #lightcurve['classification'] = []\n",
    "    lightcurve['bandpass'] = []\n",
    "    lightcurve['visit'] = []\n",
    "    lightcurve['ra'] = []\n",
    "    lightcurve['dec'] = []\n",
    "    lightcurve['flux'] = []\n",
    "    lightcurve['flux_error'] = []\n",
    "    lightcurve['zp'] = []\n",
    "    lightcurve['zpsys'] = []\n",
    "\n",
    "\n",
    "    for src in source_list:\n",
    "        \n",
    "        #print 'yep',visit\n",
    "        #lightcurve['classification'].append(src['classification_dipole'])\n",
    "        lightcurve['bandpass'].append(str('sdss' + bandpasses[0]))\n",
    "        \n",
    "        lightcurve['visit'].append(src['visit'])\n",
    "        lightcurve['ra'].append(float(src['coord_ra']))\n",
    "        lightcurve['dec'].append(float(src['coord_dec']))\n",
    "        lightcurve['flux'].append(src[flux])\n",
    "        lightcurve['flux_error'].append(src[flux+'Sigma'])\n",
    "        #lightcurve['flux'].append(src['base_CircularApertureFlux_12_0_flux'])\n",
    "        #lightcurve['flux_error'].append(src['base_CircularApertureFlux_12_0_fluxSigma'])\n",
    "        lightcurve['zp'].append(25.0)\n",
    "        lightcurve['zpsys'].append('ab')\n",
    "        #print lightcurve\n",
    "    lightcurve = Table(data=lightcurve)\n",
    "    return lightcurve"
   ]
  },
  {
   "cell_type": "code",
   "execution_count": 9,
   "metadata": {},
   "outputs": [],
   "source": [
    "lcs = DSTools.get_light_curves_from_multimatch_results2(results)"
   ]
  },
  {
   "cell_type": "code",
   "execution_count": 10,
   "metadata": {},
   "outputs": [],
   "source": [
    "t_lcs = DSTools.threshold_light_curves(lcs, 3)"
   ]
  },
  {
   "cell_type": "code",
   "execution_count": 11,
   "metadata": {},
   "outputs": [],
   "source": [
    "f_lcs = []\n",
    "for lc in t_lcs:\n",
    "        f_lcs.append(build_lightcurve(lc, \"base_CircularApertureFlux_4_5_flux\"))\n",
    "        "
   ]
  },
  {
   "cell_type": "code",
   "execution_count": 12,
   "metadata": {},
   "outputs": [
    {
     "name": "stdout",
     "output_type": "stream",
     "text": [
      "2886\n"
     ]
    }
   ],
   "source": [
    "\n",
    "print len(f_lcs)"
   ]
  },
  {
   "cell_type": "code",
   "execution_count": null,
   "metadata": {},
   "outputs": [],
   "source": []
  },
  {
   "cell_type": "code",
   "execution_count": 13,
   "metadata": {},
   "outputs": [],
   "source": [
    "std_ra = []\n",
    "std_dec = []\n",
    "\n",
    "for lc in f_lcs:\n",
    "    std_ra.append(np.std(lc['ra']))\n",
    "    std_dec.append(np.std(lc['dec']))"
   ]
  },
  {
   "cell_type": "code",
   "execution_count": 18,
   "metadata": {},
   "outputs": [
    {
     "data": {
      "image/png": "[encoded data removed]",
      "text/plain": [
       "<matplotlib.figure.Figure at 0x7f36d501cc90>"
      ]
     },
     "metadata": {},
     "output_type": "display_data"
    }
   ],
   "source": [
    "%matplotlib inline\n",
    "plt.hist(std_ra)\n",
    "plt.ticklabel_format(style='sci', axis='x',scilimits=(0,0))\n",
    "plt.axvline(0.00003, color='r', linestyle='dashed', linewidth=2)\n",
    "#plt.axvline(0.00014, color='r', linestyle='dashed', linewidth=2)\n",
    "plt.show()"
   ]
  },
  {
   "cell_type": "code",
   "execution_count": 19,
   "metadata": {},
   "outputs": [
    {
     "data": {
      "image/png": "[encoded data removed]",
      "text/plain": [
       "<matplotlib.figure.Figure at 0x7f36d510de90>"
      ]
     },
     "metadata": {},
     "output_type": "display_data"
    }
   ],
   "source": [
    "%matplotlib inline\n",
    "plt.hist(std_dec)\n",
    "plt.ticklabel_format(style='sci', axis='x',scilimits=(0,0))\n",
    "plt.axvline(0.00003, color='r', linestyle='dashed', linewidth=2)\n",
    "#plt.axvline(0.00014, color='r', linestyle='dashed', linewidth=2)\n",
    "plt.show()"
   ]
  },
  {
   "cell_type": "code",
   "execution_count": 161,
   "metadata": {},
   "outputs": [],
   "source": [
    "counter = 0\n",
    "#ds9.mtv(calexps[0], frame=1)\n",
    "for i, s in enumerate(sources_catalog[0]):\n",
    "    ds9.dot(i, s.getX(), s.getY(), ctype=ds9.RED, frame=1)\n",
    "    counter+=1\n",
    "    if counter == 200:\n",
    "        break"
   ]
  },
  {
   "cell_type": "code",
   "execution_count": 158,
   "metadata": {},
   "outputs": [],
   "source": [
    "counter = 0\n",
    "ds9.mtv(calexps[1], frame=2)\n",
    "for i, s in enumerate(sources_catalog[1]):\n",
    "    ds9.dot(i, s.getX(), s.getY(), ctype=ds9.RED, frame=2)\n",
    "    counter+=1\n",
    "    if counter == 100:\n",
    "        break\n",
    "    "
   ]
  },
  {
   "cell_type": "code",
   "execution_count": 159,
   "metadata": {
    "collapsed": true
   },
   "outputs": [],
   "source": [
    "counter = 0\n",
    "ds9.mtv(calexps[2], frame=3)\n",
    "for i, s in enumerate(sources_catalog[2]):\n",
    "    ds9.dot(i, s.getX(), s.getY(), ctype=ds9.RED, frame=3)\n",
    "    counter+=1\n",
    "    if counter == 100:\n",
    "        break"
   ]
  },
  {
   "cell_type": "code",
   "execution_count": 164,
   "metadata": {},
   "outputs": [
    {
     "name": "stdout",
     "output_type": "stream",
     "text": [
      "3.74615 rad 0.923097 rad\n",
      "3.74615 rad 0.923097 rad\n",
      "3.74614 rad 0.923098 rad\n"
     ]
    }
   ],
   "source": [
    "print sources_catalog[0][125].getRa(), sources_catalog[0][125].getDec()\n",
    "print sources_catalog[1][82].getRa(), sources_catalog[1][82].getDec()\n",
    "print sources_catalog[2][32].getRa(), sources_catalog[2][32].getDec()"
   ]
  },
  {
   "cell_type": "code",
   "execution_count": 92,
   "metadata": {},
   "outputs": [
    {
     "data": {
      "text/plain": [
       "(3.74641 rad, 0.923292 rad)"
      ]
     },
     "execution_count": 92,
     "metadata": {},
     "output_type": "execute_result"
    }
   ],
   "source": [
    "sources1[72].getRa(), sources1[72].getDec()"
   ]
  },
  {
   "cell_type": "code",
   "execution_count": 93,
   "metadata": {},
   "outputs": [
    {
     "data": {
      "text/plain": [
       "(3.74641 rad, 0.923292 rad)"
      ]
     },
     "execution_count": 93,
     "metadata": {},
     "output_type": "execute_result"
    }
   ],
   "source": [
    "sources2[38].getRa(), sources2[38].getDec()"
   ]
  },
  {
   "cell_type": "code",
   "execution_count": null,
   "metadata": {
    "collapsed": true
   },
   "outputs": [],
   "source": [
    "c1 = coord.SkyCoord(ra=float(s.getRa()), dec=float(s.getDec()), unit=(u.rad))"
   ]
  }
 ],
 "metadata": {
  "kernelspec": {
   "display_name": "Python 2",
   "language": "python",
   "name": "python2"
  },
  "language_info": {
   "codemirror_mode": {
    "name": "ipython",
    "version": 2
   },
   "file_extension": ".py",
   "mimetype": "text/x-python",
   "name": "python",
   "nbconvert_exporter": "python",
   "pygments_lexer": "ipython2",
   "version": "2.7.12"
  }
 },
 "nbformat": 4,
 "nbformat_minor": 2
}
