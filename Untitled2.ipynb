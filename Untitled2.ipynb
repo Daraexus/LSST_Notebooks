{
 "cells": [
  {
   "cell_type": "code",
   "execution_count": 34,
   "metadata": {
    "collapsed": true
   },
   "outputs": [],
   "source": [
    "import lsst.daf.persistence as dafPersist\n",
    "import matplotlib.pyplot as plt\n",
    "\n",
    "import lsst.pipe.base as pipeBase\n",
    "from lsst.afw.image.utils import getDistortedWcs\n",
    "\n",
    "import lsst.afw.math as afwMath\n",
    "import multiprocessing\n",
    "\n",
    "%matplotlib inline"
   ]
  },
  {
   "cell_type": "code",
   "execution_count": 2,
   "metadata": {
    "collapsed": true
   },
   "outputs": [],
   "source": [
    "DATADIR=\"/datadec/cppm/jpreyes/CFHT_Production/\"\n",
    "\n",
    "butler = dafPersist.Butler(DATADIR+\"calexp_t\") "
   ]
  },
  {
   "cell_type": "code",
   "execution_count": 3,
   "metadata": {
    "collapsed": true
   },
   "outputs": [],
   "source": [
    "dataId = {\"visit\":784518,\"filter\":'r', \"ccd\":14}"
   ]
  },
  {
   "cell_type": "code",
   "execution_count": 4,
   "metadata": {
    "collapsed": true
   },
   "outputs": [],
   "source": [
    "sources = butler.get(\"src\", dataId=dataId)\n",
    "calexp = butler.get(\"calexp\", dataId=dataId)"
   ]
  },
  {
   "cell_type": "code",
   "execution_count": 5,
   "metadata": {
    "collapsed": true
   },
   "outputs": [],
   "source": [
    "def getExposureMetadata(exposure):\n",
    "        \"\"\"!Extract metadata from an exposure\n",
    "\n",
    "        @return an lsst.pipe.base.Struct containing the following exposure metadata:\n",
    "        - bbox: parent bounding box\n",
    "        - wcs: WCS (an lsst.afw.image.Wcs)\n",
    "        - calib calibration (an lsst.afw.image.Calib), or None if unknown\n",
    "        - filterName: name of filter, or None if unknown\n",
    "        \"\"\"\n",
    "        exposureInfo = exposure.getInfo()\n",
    "        filterName = exposureInfo.getFilter().getName() or None\n",
    "        if filterName == \"_unknown_\":\n",
    "            filterName = None\n",
    "        return pipeBase.Struct(\n",
    "            bbox=exposure.getBBox(),\n",
    "            wcs=getDistortedWcs(exposureInfo),\n",
    "            calib=exposureInfo.getCalib() if exposureInfo.hasCalib() else None,\n",
    "            filterName=filterName,)\n"
   ]
  },
  {
   "cell_type": "code",
   "execution_count": 6,
   "metadata": {
    "collapsed": true
   },
   "outputs": [],
   "source": [
    "from lsst.meas.extensions.astrometryNet import LoadAstrometryNetObjectsTask\n",
    "from lsst.meas.astrom import RefMatchTask"
   ]
  },
  {
   "cell_type": "code",
   "execution_count": 7,
   "metadata": {},
   "outputs": [
    {
     "ename": "NameError",
     "evalue": "name 'ltask' is not defined",
     "output_type": "error",
     "traceback": [
      "\u001b[0;31m---------------------------------------------------------------------------\u001b[0m",
      "\u001b[0;31mNameError\u001b[0m                                 Traceback (most recent call last)",
      "\u001b[0;32m<ipython-input-7-2ee4d116d75a>\u001b[0m in \u001b[0;36m<module>\u001b[0;34m()\u001b[0m\n\u001b[0;32m----> 1\u001b[0;31m \u001b[0;32mprint\u001b[0m \u001b[0mltask\u001b[0m\u001b[0;34m.\u001b[0m\u001b[0mandConfig\u001b[0m\u001b[0;34m.\u001b[0m\u001b[0mstarGalaxyColumn\u001b[0m\u001b[0;34m\u001b[0m\u001b[0m\n\u001b[0m",
      "\u001b[0;31mNameError\u001b[0m: name 'ltask' is not defined"
     ]
    }
   ],
   "source": [
    "print ltask.andConfig.starGalaxyColumn"
   ]
  },
  {
   "cell_type": "code",
   "execution_count": 60,
   "metadata": {
    "collapsed": true
   },
   "outputs": [],
   "source": [
    "lconfig = LoadAstrometryNetObjectsTask.ConfigClass()\n",
    "ltask = LoadAstrometryNetObjectsTask(butler=butler)\n",
    "minSch = ltask.makeMinimalSchema([\"r\",\"g\",\"i\",\"z\"], addIsResolved=True)"
   ]
  },
  {
   "cell_type": "code",
   "execution_count": 67,
   "metadata": {},
   "outputs": [
    {
     "data": {
      "text/plain": [
       "[('idColumn',\n",
       "  str,\n",
       "  'id',\n",
       "  None,\n",
       "  'Column name (in the index files) of the ID number of reference sources'),\n",
       " ('defaultMagColumn',\n",
       "  str,\n",
       "  'mag',\n",
       "  None,\n",
       "  'Default column name (in the index files) of the reference source mag'),\n",
       " ('defaultMagErrorColumn',\n",
       "  str,\n",
       "  '',\n",
       "  None,\n",
       "  'Default column name (in the index files) of the reference source mag error'),\n",
       " ('starGalaxyColumn', str, None, None, 'Column name of the star/galaxy flag'),\n",
       " ('variableColumn',\n",
       "  str,\n",
       "  None,\n",
       "  None,\n",
       "  'Column name of the star variability flag'),\n",
       " ('magErrorColumnMap',\n",
       "  dict,\n",
       "  {},\n",
       "  <function lsst.meas.extensions.astrometryNet.astrometryNetDataConfig._checkMagMap>,\n",
       "  'Mapping from LSST filter name to mag error column name'),\n",
       " ('magColumnMap',\n",
       "  dict,\n",
       "  {},\n",
       "  <function lsst.meas.extensions.astrometryNet.astrometryNetDataConfig._checkMagMap>,\n",
       "  'Mapping from LSST filter name to mag column name'),\n",
       " ('indexFiles',\n",
       "  list,\n",
       "  [],\n",
       "  <function lsst.meas.extensions.astrometryNet.astrometryNetDataConfig._checkIndexList>,\n",
       "  'List of Astrometry.net index filenames'),\n",
       " ('multiIndexFiles',\n",
       "  list,\n",
       "  [],\n",
       "  <function lsst.meas.extensions.astrometryNet.astrometryNetDataConfig._checkMultiIndexList>,\n",
       "  'Astrometry.net multi-index filename lists. Each item in this list must itself be a list of filenames. The first filename is the file that contains the star kd-tree and tag-along tables. Subsequent filenames must be files containing just the non-star index parts (quads and code kd-tree).  Note that this means you may need to repeat the first filename if it contains a star kd-tree and the first index.'),\n",
       " ('allowCache',\n",
       "  bool,\n",
       "  True,\n",
       "  None,\n",
       "  'Allow use of cache for reading index file regions?')]"
      ]
     },
     "execution_count": 67,
     "metadata": {},
     "output_type": "execute_result"
    }
   ],
   "source": [
    "ltask."
   ]
  },
  {
   "cell_type": "code",
   "execution_count": 64,
   "metadata": {},
   "outputs": [
    {
     "data": {
      "text/plain": [
       "{}"
      ]
     },
     "execution_count": 64,
     "metadata": {},
     "output_type": "execute_result"
    }
   ],
   "source": [
    "ref_task = RefMatchTask(refObjLoader=ltask)"
   ]
  },
  {
   "cell_type": "code",
   "execution_count": 62,
   "metadata": {
    "collapsed": true
   },
   "outputs": [],
   "source": [
    "matches = ref_task.loadAndMatch(calexp, sources)"
   ]
  },
  {
   "cell_type": "code",
   "execution_count": 53,
   "metadata": {
    "collapsed": true
   },
   "outputs": [],
   "source": [
    "expMd = getExposureMetadata(calexp)\n",
    "loadRes = ltask.loadPixelBox(\n",
    "            bbox=expMd.bbox,\n",
    "            wcs=expMd.wcs,\n",
    "            filterName=expMd.filterName,\n",
    "            calib=expMd.calib,\n",
    "        )\n"
   ]
  },
  {
   "cell_type": "code",
   "execution_count": 55,
   "metadata": {},
   "outputs": [
    {
     "data": {
      "text/plain": [
       "Schema(\n",
       "    (Field['L'](name=\"id\", doc=\"unique ID\"), Key<L>(offset=0, nElements=1)),\n",
       "    (Field['Angle'](name=\"coord_ra\", doc=\"position in ra/dec\"), Key<Angle>(offset=8, nElements=1)),\n",
       "    (Field['Angle'](name=\"coord_dec\", doc=\"position in ra/dec\"), Key<Angle>(offset=16, nElements=1)),\n",
       "    (Field['D'](name=\"centroid_x\", doc=\"centroid on some exposure; invalid unless \"hasCentroid\" is true)\", units=\"pixels\"), Key<D>(offset=24, nElements=1)),\n",
       "    (Field['D'](name=\"centroid_y\", doc=\"centroid on some exposure; invalid unless \"hasCentroid\" is true)\", units=\"pixels\"), Key<D>(offset=32, nElements=1)),\n",
       "    (Field['Flag'](name=\"hasCentroid\", doc=\"true if centroid field has been set\"), Key['Flag'](offset=40, bit=0)),\n",
       "    (Field['D'](name=\"i_flux\", doc=\"i flux\"), Key<D>(offset=48, nElements=1)),\n",
       "    (Field['D'](name=\"i_fluxSigma\", doc=\"i flux uncertainty (sigma)\"), Key<D>(offset=56, nElements=1)),\n",
       "    (Field['D'](name=\"r_flux\", doc=\"r flux\"), Key<D>(offset=64, nElements=1)),\n",
       "    (Field['D'](name=\"r_fluxSigma\", doc=\"r flux uncertainty (sigma)\"), Key<D>(offset=72, nElements=1)),\n",
       "    (Field['D'](name=\"u_flux\", doc=\"u flux\"), Key<D>(offset=80, nElements=1)),\n",
       "    (Field['D'](name=\"u_fluxSigma\", doc=\"u flux uncertainty (sigma)\"), Key<D>(offset=88, nElements=1)),\n",
       "    (Field['D'](name=\"z_flux\", doc=\"z flux\"), Key<D>(offset=96, nElements=1)),\n",
       "    (Field['D'](name=\"z_fluxSigma\", doc=\"z flux uncertainty (sigma)\"), Key<D>(offset=104, nElements=1)),\n",
       "    (Field['D'](name=\"g_flux\", doc=\"g flux\"), Key<D>(offset=112, nElements=1)),\n",
       "    (Field['D'](name=\"g_fluxSigma\", doc=\"g flux uncertainty (sigma)\"), Key<D>(offset=120, nElements=1)),\n",
       "    (Field['Flag'](name=\"photometric\", doc=\"set if the reference object can be used in photometric calibration\"), Key['Flag'](offset=40, bit=1)),\n",
       ")"
      ]
     },
     "execution_count": 55,
     "metadata": {},
     "output_type": "execute_result"
    }
   ],
   "source": [
    "loadRes.refCat.getSchema()"
   ]
  },
  {
   "cell_type": "code",
   "execution_count": 63,
   "metadata": {},
   "outputs": [
    {
     "data": {
      "text/plain": [
       "Schema(\n",
       "    (Field['L'](name=\"id\", doc=\"unique ID\"), Key<L>(offset=0, nElements=1)),\n",
       "    (Field['Angle'](name=\"coord_ra\", doc=\"position in ra/dec\"), Key<Angle>(offset=8, nElements=1)),\n",
       "    (Field['Angle'](name=\"coord_dec\", doc=\"position in ra/dec\"), Key<Angle>(offset=16, nElements=1)),\n",
       "    (Field['D'](name=\"centroid_x\", doc=\"centroid on some exposure; invalid unless \"hasCentroid\" is true)\", units=\"pixels\"), Key<D>(offset=24, nElements=1)),\n",
       "    (Field['D'](name=\"centroid_y\", doc=\"centroid on some exposure; invalid unless \"hasCentroid\" is true)\", units=\"pixels\"), Key<D>(offset=32, nElements=1)),\n",
       "    (Field['Flag'](name=\"hasCentroid\", doc=\"true if centroid field has been set\"), Key['Flag'](offset=40, bit=0)),\n",
       "    (Field['D'](name=\"i_flux\", doc=\"i flux\"), Key<D>(offset=48, nElements=1)),\n",
       "    (Field['D'](name=\"i_fluxSigma\", doc=\"i flux uncertainty (sigma)\"), Key<D>(offset=56, nElements=1)),\n",
       "    (Field['D'](name=\"r_flux\", doc=\"r flux\"), Key<D>(offset=64, nElements=1)),\n",
       "    (Field['D'](name=\"r_fluxSigma\", doc=\"r flux uncertainty (sigma)\"), Key<D>(offset=72, nElements=1)),\n",
       "    (Field['D'](name=\"u_flux\", doc=\"u flux\"), Key<D>(offset=80, nElements=1)),\n",
       "    (Field['D'](name=\"u_fluxSigma\", doc=\"u flux uncertainty (sigma)\"), Key<D>(offset=88, nElements=1)),\n",
       "    (Field['D'](name=\"z_flux\", doc=\"z flux\"), Key<D>(offset=96, nElements=1)),\n",
       "    (Field['D'](name=\"z_fluxSigma\", doc=\"z flux uncertainty (sigma)\"), Key<D>(offset=104, nElements=1)),\n",
       "    (Field['D'](name=\"g_flux\", doc=\"g flux\"), Key<D>(offset=112, nElements=1)),\n",
       "    (Field['D'](name=\"g_fluxSigma\", doc=\"g flux uncertainty (sigma)\"), Key<D>(offset=120, nElements=1)),\n",
       "    (Field['Flag'](name=\"photometric\", doc=\"set if the reference object can be used in photometric calibration\"), Key['Flag'](offset=40, bit=1)),\n",
       ")"
      ]
     },
     "execution_count": 63,
     "metadata": {},
     "output_type": "execute_result"
    }
   ],
   "source": [
    "matches.matches[0][0].getSchema()"
   ]
  },
  {
   "cell_type": "code",
   "execution_count": 18,
   "metadata": {},
   "outputs": [
    {
     "name": "stdout",
     "output_type": "stream",
     "text": [
      "3780\n"
     ]
    }
   ],
   "source": [
    "b = butler.subset(\"calexp\", dataId={\"filter\":\"r\", \"runId\":\"08AL01\"})\n",
    "print len(b)"
   ]
  },
  {
   "cell_type": "code",
   "execution_count": 21,
   "metadata": {
    "collapsed": true
   },
   "outputs": [],
   "source": [
    "def get_threshold(dayDiff, factor=1):\n",
    "    mi = dayDiff.getMaskedImage()\n",
    "    bad = dayDiff.getMaskedImage().getMask().getPlaneBitMask(['BAD', 'SAT', 'EDGE', 'NO_DATA', ])\n",
    "    sctrl = afwMath.StatisticsControl()\n",
    "    sctrl.setAndMask(bad)\n",
    "    stats = afwMath.makeStatistics(mi, afwMath.STDEVCLIP, sctrl)\n",
    "    thres = (stats.getValue(afwMath.STDEVCLIP) * factor)\n",
    "    return thres\n"
   ]
  },
  {
   "cell_type": "code",
   "execution_count": 20,
   "metadata": {},
   "outputs": [],
   "source": [
    "sigmas = []\n",
    "for s in b:\n",
    "    calexp = butler.get(\"calexp\", s.dataId)\n",
    "    sigmas.append(get_threshold(calexp, 1))"
   ]
  },
  {
   "cell_type": "code",
   "execution_count": 24,
   "metadata": {},
   "outputs": [
    {
     "data": {
      "image/png": "[encoded data removed]",
      "text/plain": [
       "<matplotlib.figure.Figure at 0x7f7e2019c6d0>"
      ]
     },
     "metadata": {},
     "output_type": "display_data"
    }
   ],
   "source": [
    "plt.hist(sigmas, bins=100)\n",
    "plt.show()"
   ]
  },
  {
   "cell_type": "code",
   "execution_count": 30,
   "metadata": {
    "scrolled": true
   },
   "outputs": [],
   "source": [
    "calexps = []\n",
    "for i, s in enumerate(b):\n",
    "    #print i\n",
    "    calexps.append(butler.get(\"calexp\", s.dataId))\n",
    "   "
   ]
  },
  {
   "cell_type": "code",
   "execution_count": 37,
   "metadata": {},
   "outputs": [],
   "source": [
    "\n",
    "try:\n",
    "        pool = multiprocessing.Pool()\n",
    "        res =  pool.map(get_mean, calexps)\n",
    "finally:\n",
    "        pool.close()"
   ]
  },
  {
   "cell_type": "code",
   "execution_count": 39,
   "metadata": {},
   "outputs": [],
   "source": [
    "def get_mean(calexp):\n",
    "    return calexp.getMaskedImage().getImage().getArray().mean()\n",
    "\n",
    "def get_stn(calexp):\n",
    "    return float(get_mean(calexp))/float(get_threshold(calexp))"
   ]
  },
  {
   "cell_type": "code",
   "execution_count": 38,
   "metadata": {},
   "outputs": [
    {
     "data": {
      "image/png": "[encoded data removed]",
      "text/plain": [
       "<matplotlib.figure.Figure at 0x7f7e1daf4450>"
      ]
     },
     "metadata": {},
     "output_type": "display_data"
    }
   ],
   "source": [
    "plt.hist(res, bins=100)\n",
    "plt.show()"
   ]
  },
  {
   "cell_type": "code",
   "execution_count": 40,
   "metadata": {},
   "outputs": [
    {
     "ename": "OSError",
     "evalue": "[Errno 12] Cannot allocate memory",
     "output_type": "error",
     "traceback": [
      "\u001b[0;31m---------------------------------------------------------------------------\u001b[0m",
      "\u001b[0;31mOSError\u001b[0m                                   Traceback (most recent call last)",
      "\u001b[0;32m<ipython-input-40-9be2b4f17e0e>\u001b[0m in \u001b[0;36m<module>\u001b[0;34m()\u001b[0m\n\u001b[1;32m      1\u001b[0m \u001b[0;34m\u001b[0m\u001b[0m\n\u001b[1;32m      2\u001b[0m \u001b[0;32mtry\u001b[0m\u001b[0;34m:\u001b[0m\u001b[0;34m\u001b[0m\u001b[0m\n\u001b[0;32m----> 3\u001b[0;31m         \u001b[0mpool\u001b[0m \u001b[0;34m=\u001b[0m \u001b[0mmultiprocessing\u001b[0m\u001b[0;34m.\u001b[0m\u001b[0mPool\u001b[0m\u001b[0;34m(\u001b[0m\u001b[0;36m1000\u001b[0m\u001b[0;34m)\u001b[0m\u001b[0;34m\u001b[0m\u001b[0m\n\u001b[0m\u001b[1;32m      4\u001b[0m         \u001b[0mstns\u001b[0m \u001b[0;34m=\u001b[0m  \u001b[0mpool\u001b[0m\u001b[0;34m.\u001b[0m\u001b[0mmap\u001b[0m\u001b[0;34m(\u001b[0m\u001b[0mget_stn\u001b[0m\u001b[0;34m,\u001b[0m \u001b[0mcalexps\u001b[0m\u001b[0;34m)\u001b[0m\u001b[0;34m\u001b[0m\u001b[0m\n\u001b[1;32m      5\u001b[0m \u001b[0;32mfinally\u001b[0m\u001b[0;34m:\u001b[0m\u001b[0;34m\u001b[0m\u001b[0m\n",
      "\u001b[0;32m/renoir_data_00/fouchez/lsst/DM/stacks/lsstsw/2017-05-04/lsstsw/miniconda/lib/python2.7/multiprocessing/__init__.pyc\u001b[0m in \u001b[0;36mPool\u001b[0;34m(processes, initializer, initargs, maxtasksperchild)\u001b[0m\n\u001b[1;32m    230\u001b[0m     '''\n\u001b[1;32m    231\u001b[0m     \u001b[0;32mfrom\u001b[0m \u001b[0mmultiprocessing\u001b[0m\u001b[0;34m.\u001b[0m\u001b[0mpool\u001b[0m \u001b[0;32mimport\u001b[0m \u001b[0mPool\u001b[0m\u001b[0;34m\u001b[0m\u001b[0m\n\u001b[0;32m--> 232\u001b[0;31m     \u001b[0;32mreturn\u001b[0m \u001b[0mPool\u001b[0m\u001b[0;34m(\u001b[0m\u001b[0mprocesses\u001b[0m\u001b[0;34m,\u001b[0m \u001b[0minitializer\u001b[0m\u001b[0;34m,\u001b[0m \u001b[0minitargs\u001b[0m\u001b[0;34m,\u001b[0m \u001b[0mmaxtasksperchild\u001b[0m\u001b[0;34m)\u001b[0m\u001b[0;34m\u001b[0m\u001b[0m\n\u001b[0m\u001b[1;32m    233\u001b[0m \u001b[0;34m\u001b[0m\u001b[0m\n\u001b[1;32m    234\u001b[0m \u001b[0;32mdef\u001b[0m \u001b[0mRawValue\u001b[0m\u001b[0;34m(\u001b[0m\u001b[0mtypecode_or_type\u001b[0m\u001b[0;34m,\u001b[0m \u001b[0;34m*\u001b[0m\u001b[0margs\u001b[0m\u001b[0;34m)\u001b[0m\u001b[0;34m:\u001b[0m\u001b[0;34m\u001b[0m\u001b[0m\n",
      "\u001b[0;32m/renoir_data_00/fouchez/lsst/DM/stacks/lsstsw/2017-05-04/lsstsw/miniconda/lib/python2.7/multiprocessing/pool.pyc\u001b[0m in \u001b[0;36m__init__\u001b[0;34m(self, processes, initializer, initargs, maxtasksperchild)\u001b[0m\n\u001b[1;32m    157\u001b[0m         \u001b[0mself\u001b[0m\u001b[0;34m.\u001b[0m\u001b[0m_processes\u001b[0m \u001b[0;34m=\u001b[0m \u001b[0mprocesses\u001b[0m\u001b[0;34m\u001b[0m\u001b[0m\n\u001b[1;32m    158\u001b[0m         \u001b[0mself\u001b[0m\u001b[0;34m.\u001b[0m\u001b[0m_pool\u001b[0m \u001b[0;34m=\u001b[0m \u001b[0;34m[\u001b[0m\u001b[0;34m]\u001b[0m\u001b[0;34m\u001b[0m\u001b[0m\n\u001b[0;32m--> 159\u001b[0;31m         \u001b[0mself\u001b[0m\u001b[0;34m.\u001b[0m\u001b[0m_repopulate_pool\u001b[0m\u001b[0;34m(\u001b[0m\u001b[0;34m)\u001b[0m\u001b[0;34m\u001b[0m\u001b[0m\n\u001b[0m\u001b[1;32m    160\u001b[0m \u001b[0;34m\u001b[0m\u001b[0m\n\u001b[1;32m    161\u001b[0m         self._worker_handler = threading.Thread(\n",
      "\u001b[0;32m/renoir_data_00/fouchez/lsst/DM/stacks/lsstsw/2017-05-04/lsstsw/miniconda/lib/python2.7/multiprocessing/pool.pyc\u001b[0m in \u001b[0;36m_repopulate_pool\u001b[0;34m(self)\u001b[0m\n\u001b[1;32m    221\u001b[0m             \u001b[0mw\u001b[0m\u001b[0;34m.\u001b[0m\u001b[0mname\u001b[0m \u001b[0;34m=\u001b[0m \u001b[0mw\u001b[0m\u001b[0;34m.\u001b[0m\u001b[0mname\u001b[0m\u001b[0;34m.\u001b[0m\u001b[0mreplace\u001b[0m\u001b[0;34m(\u001b[0m\u001b[0;34m'Process'\u001b[0m\u001b[0;34m,\u001b[0m \u001b[0;34m'PoolWorker'\u001b[0m\u001b[0;34m)\u001b[0m\u001b[0;34m\u001b[0m\u001b[0m\n\u001b[1;32m    222\u001b[0m             \u001b[0mw\u001b[0m\u001b[0;34m.\u001b[0m\u001b[0mdaemon\u001b[0m \u001b[0;34m=\u001b[0m \u001b[0mTrue\u001b[0m\u001b[0;34m\u001b[0m\u001b[0m\n\u001b[0;32m--> 223\u001b[0;31m             \u001b[0mw\u001b[0m\u001b[0;34m.\u001b[0m\u001b[0mstart\u001b[0m\u001b[0;34m(\u001b[0m\u001b[0;34m)\u001b[0m\u001b[0;34m\u001b[0m\u001b[0m\n\u001b[0m\u001b[1;32m    224\u001b[0m             \u001b[0mdebug\u001b[0m\u001b[0;34m(\u001b[0m\u001b[0;34m'added worker'\u001b[0m\u001b[0;34m)\u001b[0m\u001b[0;34m\u001b[0m\u001b[0m\n\u001b[1;32m    225\u001b[0m \u001b[0;34m\u001b[0m\u001b[0m\n",
      "\u001b[0;32m/renoir_data_00/fouchez/lsst/DM/stacks/lsstsw/2017-05-04/lsstsw/miniconda/lib/python2.7/multiprocessing/process.pyc\u001b[0m in \u001b[0;36mstart\u001b[0;34m(self)\u001b[0m\n\u001b[1;32m    128\u001b[0m         \u001b[0;32melse\u001b[0m\u001b[0;34m:\u001b[0m\u001b[0;34m\u001b[0m\u001b[0m\n\u001b[1;32m    129\u001b[0m             \u001b[0;32mfrom\u001b[0m \u001b[0;34m.\u001b[0m\u001b[0mforking\u001b[0m \u001b[0;32mimport\u001b[0m \u001b[0mPopen\u001b[0m\u001b[0;34m\u001b[0m\u001b[0m\n\u001b[0;32m--> 130\u001b[0;31m         \u001b[0mself\u001b[0m\u001b[0;34m.\u001b[0m\u001b[0m_popen\u001b[0m \u001b[0;34m=\u001b[0m \u001b[0mPopen\u001b[0m\u001b[0;34m(\u001b[0m\u001b[0mself\u001b[0m\u001b[0;34m)\u001b[0m\u001b[0;34m\u001b[0m\u001b[0m\n\u001b[0m\u001b[1;32m    131\u001b[0m         \u001b[0m_current_process\u001b[0m\u001b[0;34m.\u001b[0m\u001b[0m_children\u001b[0m\u001b[0;34m.\u001b[0m\u001b[0madd\u001b[0m\u001b[0;34m(\u001b[0m\u001b[0mself\u001b[0m\u001b[0;34m)\u001b[0m\u001b[0;34m\u001b[0m\u001b[0m\n\u001b[1;32m    132\u001b[0m \u001b[0;34m\u001b[0m\u001b[0m\n",
      "\u001b[0;32m/renoir_data_00/fouchez/lsst/DM/stacks/lsstsw/2017-05-04/lsstsw/miniconda/lib/python2.7/multiprocessing/forking.pyc\u001b[0m in \u001b[0;36m__init__\u001b[0;34m(self, process_obj)\u001b[0m\n\u001b[1;32m    119\u001b[0m             \u001b[0mself\u001b[0m\u001b[0;34m.\u001b[0m\u001b[0mreturncode\u001b[0m \u001b[0;34m=\u001b[0m \u001b[0mNone\u001b[0m\u001b[0;34m\u001b[0m\u001b[0m\n\u001b[1;32m    120\u001b[0m \u001b[0;34m\u001b[0m\u001b[0m\n\u001b[0;32m--> 121\u001b[0;31m             \u001b[0mself\u001b[0m\u001b[0;34m.\u001b[0m\u001b[0mpid\u001b[0m \u001b[0;34m=\u001b[0m \u001b[0mos\u001b[0m\u001b[0;34m.\u001b[0m\u001b[0mfork\u001b[0m\u001b[0;34m(\u001b[0m\u001b[0;34m)\u001b[0m\u001b[0;34m\u001b[0m\u001b[0m\n\u001b[0m\u001b[1;32m    122\u001b[0m             \u001b[0;32mif\u001b[0m \u001b[0mself\u001b[0m\u001b[0;34m.\u001b[0m\u001b[0mpid\u001b[0m \u001b[0;34m==\u001b[0m \u001b[0;36m0\u001b[0m\u001b[0;34m:\u001b[0m\u001b[0;34m\u001b[0m\u001b[0m\n\u001b[1;32m    123\u001b[0m                 \u001b[0;32mif\u001b[0m \u001b[0;34m'random'\u001b[0m \u001b[0;32min\u001b[0m \u001b[0msys\u001b[0m\u001b[0;34m.\u001b[0m\u001b[0mmodules\u001b[0m\u001b[0;34m:\u001b[0m\u001b[0;34m\u001b[0m\u001b[0m\n",
      "\u001b[0;31mOSError\u001b[0m: [Errno 12] Cannot allocate memory"
     ]
    }
   ],
   "source": [
    "\n",
    "try:\n",
    "        pool = multiprocessing.Pool(1000)\n",
    "        stns =  pool.map(get_stn, calexps)\n",
    "finally:\n",
    "        pool.close()"
   ]
  },
  {
   "cell_type": "code",
   "execution_count": null,
   "metadata": {
    "collapsed": true
   },
   "outputs": [],
   "source": []
  }
 ],
 "metadata": {
  "kernelspec": {
   "display_name": "Python 2",
   "language": "python",
   "name": "python2"
  },
  "language_info": {
   "codemirror_mode": {
    "name": "ipython",
    "version": 2
   },
   "file_extension": ".py",
   "mimetype": "text/x-python",
   "name": "python",
   "nbconvert_exporter": "python",
   "pygments_lexer": "ipython2",
   "version": "2.7.12"
  }
 },
 "nbformat": 4,
 "nbformat_minor": 2
}
