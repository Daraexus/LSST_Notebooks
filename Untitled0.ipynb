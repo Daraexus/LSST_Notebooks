{
 "metadata": {
  "name": ""
 },
 "nbformat": 3,
 "nbformat_minor": 0,
 "worksheets": [
  {
   "cells": [
    {
     "cell_type": "code",
     "collapsed": false,
     "input": [
      "import os\n",
      "import glob\n",
      "import numpy as np\n",
      "import pyfits\n",
      "import pylab\n",
      " \n",
      "#import lsst.eotest.sensor as sensorTest\n",
      "#import lsst.eotest.image_utils as imutils\n",
      " \n",
      "import lsst.afw.display.ds9 as ds9\n",
      "%matplotlib inline   \n",
      "\n",
      "files = sorted(glob.glob('/renoir_data_02/jpreyes/lsst_data/data/CFHTLS/output/coadd_r_dir/subtract/deepCoadd/r/1/33,15.fits'))\n",
      "amps = (1, )     # just do the first segment in each file\n",
      "\n",
      "#fitter = sensorTest.PsfGaussFit(nsig=2)\n",
      "\n",
      "for item in files:\n",
      "    print \"processing\", os.path.basename(item)\n",
      "#    ccd = sensorTest.MaskedCCD(item, mask_files=())\n",
      "    frame=1\n",
      "    for amp in amps:\n",
      "        print \"  amp:\", amp\n",
      "        #ds9.mtv(ccd[amp])    # display this image segment.\n",
      "        displayImage(ccd[amp],frame=frame, title=\"Reference exposure\",path=\"CCD.png\")\n",
      "#        fitter.process_image(ccd, amp)\n",
      "    #ds9.incrDefaultFrame()\n",
      "\n"
     ],
     "language": "python",
     "metadata": {},
     "outputs": [
      {
       "ename": "NameError",
       "evalue": "name 'ccd' is not defined",
       "output_type": "pyerr",
       "traceback": [
        "\u001b[1;31m---------------------------------------------------------------------------\u001b[0m\n\u001b[1;31mNameError\u001b[0m                                 Traceback (most recent call last)",
        "\u001b[1;32m<ipython-input-4-747cc2e454b0>\u001b[0m in \u001b[0;36m<module>\u001b[1;34m()\u001b[0m\n\u001b[0;32m     23\u001b[0m         \u001b[1;32mprint\u001b[0m \u001b[1;34m\"  amp:\"\u001b[0m\u001b[1;33m,\u001b[0m \u001b[0mamp\u001b[0m\u001b[1;33m\u001b[0m\u001b[0m\n\u001b[0;32m     24\u001b[0m         \u001b[1;31m#ds9.mtv(ccd[amp])    # display this image segment.\u001b[0m\u001b[1;33m\u001b[0m\u001b[1;33m\u001b[0m\u001b[0m\n\u001b[1;32m---> 25\u001b[1;33m         \u001b[0mdisplayImage\u001b[0m\u001b[1;33m(\u001b[0m\u001b[0mccd\u001b[0m\u001b[1;33m[\u001b[0m\u001b[0mamp\u001b[0m\u001b[1;33m]\u001b[0m\u001b[1;33m,\u001b[0m\u001b[0mframe\u001b[0m\u001b[1;33m=\u001b[0m\u001b[0mframe\u001b[0m\u001b[1;33m,\u001b[0m \u001b[0mtitle\u001b[0m\u001b[1;33m=\u001b[0m\u001b[1;34m\"Reference exposure\"\u001b[0m\u001b[1;33m,\u001b[0m\u001b[0mpath\u001b[0m\u001b[1;33m=\u001b[0m\u001b[1;34m\"CCD.png\"\u001b[0m\u001b[1;33m)\u001b[0m\u001b[1;33m\u001b[0m\u001b[0m\n\u001b[0m\u001b[0;32m     26\u001b[0m \u001b[1;31m#        fitter.process_image(ccd, amp)\u001b[0m\u001b[1;33m\u001b[0m\u001b[1;33m\u001b[0m\u001b[0m\n\u001b[0;32m     27\u001b[0m     \u001b[1;31m#ds9.incrDefaultFrame()\u001b[0m\u001b[1;33m\u001b[0m\u001b[1;33m\u001b[0m\u001b[0m\n",
        "\u001b[1;31mNameError\u001b[0m: name 'ccd' is not defined"
       ]
      },
      {
       "output_type": "stream",
       "stream": "stdout",
       "text": [
        "processing 33,15.fits\n",
        "  amp: 1\n"
       ]
      }
     ],
     "prompt_number": 4
    },
    {
     "cell_type": "code",
     "collapsed": false,
     "input": [
      "def displayFigure(path):\n",
      "    i =  Image(path)\n",
      "    display_png(i)\n",
      "    \n",
      "def displayImage(Image,frame=0,title=\"NoName\",path=\"fig\"):\n",
      "    ds9.mtv(Image, frame=frame, title=title)\n",
      "    ds9.ds9Cmd(\"zscale\")\n",
      "    ds9.ds9Cmd(\"zoom to fit\")\n",
      "    ds9.ds9Cmd(\"raise\")\n",
      "    ds9.ds9Cmd('saveimage '+path)\n",
      "    print title\n",
      "    displayFigure(path)\n",
      "\n",
      "def showFrame(frame=0,title=\"NoTitle\",path=\"fig\"):\n",
      "    ds9.ds9Cmd(\"zscale\")\n",
      "    ds9.ds9Cmd(\"zoom to fit\")\n",
      "    ds9.ds9Cmd(\"raise\")\n",
      "    ds9.ds9Cmd('saveimage '+path)\n",
      "    print title\n",
      "    displayFigure(path)\n",
      "    \n",
      "def displayImageWithSources(Image,frame=0,title=\"NoName\",path=\"fig\", sources=[]):\n",
      "    ds9.mtv(Image, frame=frame, title=title)\n",
      "    ds9.ds9Cmd(\"zscale\")\n",
      "    ds9.ds9Cmd(\"zoom to fit\")\n",
      "    ds9.ds9Cmd(\"raise\")\n",
      "    \n",
      "    \n",
      "    for source in sources:\n",
      "        ds9.dot(\"+\", source.getX()-Image.getX0()  , source.getY()-Image.getY0() , frame=frame, size = 25, ctype = ds9.RED)\n",
      "\n",
      "    \n",
      "    ds9.ds9Cmd('saveimage '+path)\n",
      "    print title\n",
      "    displayFigure(path)"
     ],
     "language": "python",
     "metadata": {},
     "outputs": [],
     "prompt_number": 1
    },
    {
     "cell_type": "code",
     "collapsed": false,
     "input": [],
     "language": "python",
     "metadata": {},
     "outputs": []
    }
   ],
   "metadata": {}
  }
 ]
}