{
 "cells": [
  {
   "cell_type": "code",
   "execution_count": 27,
   "metadata": {
    "collapsed": true
   },
   "outputs": [],
   "source": [
    "import lsst.daf.persistence as dafPersist\n",
    "import matplotlib.pyplot as plt\n",
    "import numpy as np\n",
    "\n",
    "import lsst.afw.table as afwTable\n",
    "import lsst.afw.geom as afwGeom\n",
    "import Utils.DiaSourceTools as DSTools\n",
    "import lsst.afw.display.ds9 as ds9\n",
    "import lsst.afw.image as afwImage\n",
    "from astropy.time import Time\n",
    "from lsst.pipe.tasks.selectImages import WcsSelectImagesTask, SelectStruct\n"
   ]
  },
  {
   "cell_type": "code",
   "execution_count": 5,
   "metadata": {
    "collapsed": true
   },
   "outputs": [],
   "source": [
    "DATADIR=\"/datadec/cppm/jpreyes/CFHT_Production\""
   ]
  },
  {
   "cell_type": "code",
   "execution_count": 21,
   "metadata": {
    "collapsed": true
   },
   "outputs": [],
   "source": [
    "directory = DATADIR+\"/calexp_t\"\n",
    "butler = dafPersist.Butler(directory) \n",
    "#dayDiff = butler.get(datasetType=\"deepCoadd\", dataId={'filter': 'r', 'tract': 0, 'patch': '15,15'})"
   ]
  },
  {
   "cell_type": "code",
   "execution_count": 22,
   "metadata": {
    "collapsed": true
   },
   "outputs": [],
   "source": [
    "butler_subset = butler.subset(\"calexp\", dataId={\"filter\":'r', \"date\":'2004-03-19'})"
   ]
  },
  {
   "cell_type": "code",
   "execution_count": 28,
   "metadata": {},
   "outputs": [
    {
     "name": "stdout",
     "output_type": "stream",
     "text": [
      "180 0\n"
     ]
    }
   ],
   "source": [
    "total = 0\n",
    "exc = 0\n",
    "for s in butler_subset:\n",
    "            total+=1\n",
    "            if (not s.datasetExists(\"calexp\")):\n",
    "                  continue\n",
    "            try:\n",
    "                    md = s.get(\"calexp_md\", immediate=True)\n",
    "                    wcs = afwImage.makeWcs(md)\n",
    "                    data = SelectStruct(dataRef = s, wcs=wcs, dims=(md.get(\"NAXIS1\"), md.get(\"NAXIS2\")))\n",
    "\n",
    "            except Exception as e:\n",
    "                    exc+=1\n",
    "                    print(e)\n",
    "                    #print(\"Unable to construct Wcs from\", (s.dataId))\n",
    "                    continue\n",
    "                    \n",
    "print total, exc"
   ]
  },
  {
   "cell_type": "code",
   "execution_count": 34,
   "metadata": {},
   "outputs": [
    {
     "data": {
      "text/plain": [
       "{u'ccd': 35,\n",
       " 'date': '2004-03-19',\n",
       " 'expTime': 360.252,\n",
       " 'extension': 36,\n",
       " 'filter': 'r',\n",
       " u'object': 'D3',\n",
       " u'runId': '04AL01',\n",
       " 'state': 'p',\n",
       " 'taiObs': '2004-03-19T14:12:56.72',\n",
       " u'visit': 739416}"
      ]
     },
     "execution_count": 34,
     "metadata": {},
     "output_type": "execute_result"
    }
   ],
   "source": [
    "data.dataRef.dataId"
   ]
  },
  {
   "cell_type": "code",
   "execution_count": 35,
   "metadata": {},
   "outputs": [
    {
     "data": {
      "text/plain": [
       "{u'ccd': 35,\n",
       " 'date': '2004-03-19',\n",
       " 'expTime': 360.252,\n",
       " 'extension': 36,\n",
       " 'filter': 'r',\n",
       " u'object': 'D3',\n",
       " u'runId': '04AL01',\n",
       " 'state': 'p',\n",
       " 'taiObs': '2004-03-19T14:12:56.72',\n",
       " u'visit': 739416}"
      ]
     },
     "execution_count": 35,
     "metadata": {},
     "output_type": "execute_result"
    }
   ],
   "source": [
    "s.dataId"
   ]
  },
  {
   "cell_type": "code",
   "execution_count": null,
   "metadata": {
    "collapsed": true
   },
   "outputs": [],
   "source": [
    "butler."
   ]
  }
 ],
 "metadata": {
  "kernelspec": {
   "display_name": "Python 2",
   "language": "python",
   "name": "python2"
  },
  "language_info": {
   "codemirror_mode": {
    "name": "ipython",
    "version": 2
   },
   "file_extension": ".py",
   "mimetype": "text/x-python",
   "name": "python",
   "nbconvert_exporter": "python",
   "pygments_lexer": "ipython2",
   "version": "2.7.12"
  }
 },
 "nbformat": 4,
 "nbformat_minor": 2
}
