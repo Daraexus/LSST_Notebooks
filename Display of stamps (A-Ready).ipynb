{
 "cells": [
  {
   "cell_type": "code",
   "execution_count": 6,
   "metadata": {
    "collapsed": false,
    "deletable": true,
    "editable": true
   },
   "outputs": [],
   "source": [
    "\n",
    "import ipympl\n",
    "\n",
    "from lsst.pipe.tasks.sourceClassification import SourceClassificationTask\n",
    "import lsst.afw.table as afwTable\n",
    "import lsst.afw.geom as afwGeom\n",
    "import glob\n",
    "import sncosmo\n",
    "import pickle\n",
    "from astropy.table import Table\n",
    "import re\n",
    "import astropy.coordinates as coord\n",
    "import astropy.units as u\n",
    "\n",
    "import numpy as np\n",
    "import glob\n",
    "\n",
    "import Utils.DiaSourceTools as DSTools\n",
    "import Utils.SourcePlotting as SP\n",
    "import matplotlib.pyplot as plt\n",
    "import matplotlib\n",
    "from IPython.display import clear_output"
   ]
  },
  {
   "cell_type": "code",
   "execution_count": 7,
   "metadata": {
    "collapsed": true,
    "deletable": true,
    "editable": true
   },
   "outputs": [],
   "source": [
    "season_catalogs = []\n",
    "visit_refs = []\n",
    "in_directory = \"season_catalogs/6sigma/\"\n",
    "c_files = glob.glob(in_directory+\"*.fits\")\n",
    "for c_f in c_files:\n",
    "    catalog = afwTable.SourceCatalog.readFits(c_f)\n",
    "    visit =  c_f.split(\"/\")[-1].split(\"-\")[0]\n",
    "    fil  = c_f.split(\"/\")[-1].split(\"-\")[-1].split(\".\")[0]\n",
    "    if fil == \"r\":\n",
    "        season_catalogs.append(catalog)\n",
    "        visit_refs.append(visit)\n",
    "        \n",
    "        "
   ]
  },
  {
   "cell_type": "code",
   "execution_count": 8,
   "metadata": {
    "collapsed": true,
    "deletable": true,
    "editable": true
   },
   "outputs": [],
   "source": [
    "def multi_match_catalogs(catalog_list, data_refs):\n",
    "    multi_matches = None\n",
    "\n",
    "    for catalog, data_ref in zip(catalog_list, data_refs):\n",
    "\n",
    "            if multi_matches is None and len(catalog)>0:\n",
    "                multi_matches = afwTable.MultiMatch(catalog[0].schema, {'visit':int}, radius=afwGeom.Angle(1./3600., afwGeom.degrees))\n",
    "            if multi_matches is not None:\n",
    "                multi_matches.add(catalog, {'visit':int(data_ref)})\n",
    "\n",
    "    results = multi_matches.finish(removeAmbiguous=False)  \n",
    "    return results\n",
    "\n"
   ]
  },
  {
   "cell_type": "code",
   "execution_count": 9,
   "metadata": {
    "collapsed": false,
    "deletable": true,
    "editable": true
   },
   "outputs": [
    {
     "name": "stdout",
     "output_type": "stream",
     "text": [
      "188202\n"
     ]
    }
   ],
   "source": [
    "results = multi_match_catalogs(season_catalogs, visit_refs)\n",
    "print len(results)"
   ]
  },
  {
   "cell_type": "code",
   "execution_count": 10,
   "metadata": {
    "collapsed": false,
    "deletable": true,
    "editable": true
   },
   "outputs": [
    {
     "name": "stdout",
     "output_type": "stream",
     "text": [
      "57598\n"
     ]
    }
   ],
   "source": [
    "light_curves=DSTools.get_light_curves_from_multimatch_results(results)\n",
    "print len(light_curves)"
   ]
  },
  {
   "cell_type": "code",
   "execution_count": 11,
   "metadata": {
    "collapsed": false,
    "deletable": true,
    "editable": true
   },
   "outputs": [
    {
     "name": "stdout",
     "output_type": "stream",
     "text": [
      "2877\n"
     ]
    }
   ],
   "source": [
    "t_light_curves = DSTools.threshold_light_curves(light_curves, 10)\n",
    "print len(t_light_curves)"
   ]
  },
  {
   "cell_type": "code",
   "execution_count": 18,
   "metadata": {
    "collapsed": false,
    "deletable": true,
    "editable": true
   },
   "outputs": [
    {
     "data": {
      "text/plain": [
       "<module 'Utils.DiaSourceTools' from 'Utils/DiaSourceTools.py'>"
      ]
     },
     "execution_count": 18,
     "metadata": {},
     "output_type": "execute_result"
    }
   ],
   "source": [
    "reload(DSTools)"
   ]
  },
  {
   "cell_type": "code",
   "execution_count": 19,
   "metadata": {
    "collapsed": false,
    "deletable": true,
    "editable": true
   },
   "outputs": [],
   "source": [
    "lcs1 = []\n",
    "for t_light_curve in t_light_curves:\n",
    "    lcs1.append(DSTools.build_lightcurve_tuple(t_light_curve, \"base_CircularApertureFlux_3_0_flux\"))"
   ]
  },
  {
   "cell_type": "code",
   "execution_count": 63,
   "metadata": {
    "collapsed": false,
    "deletable": true,
    "editable": true
   },
   "outputs": [],
   "source": [
    "lcs2 = []\n",
    "for t_light_curve in t_light_curves:\n",
    "    lcs2.append(DSTools.build_lightcurve(t_light_curve, \"base_CircularApertureFlux_4_5_flux\"))"
   ]
  },
  {
   "cell_type": "code",
   "execution_count": 64,
   "metadata": {
    "collapsed": true,
    "deletable": true,
    "editable": true
   },
   "outputs": [],
   "source": [
    "lcs3 = []\n",
    "for t_light_curve in t_light_curves:\n",
    "    lcs3.append(DSTools.build_lightcurve(t_light_curve, \"ip_diffim_PsfDipoleFlux_pos_flux\"))"
   ]
  },
  {
   "cell_type": "code",
   "execution_count": 10,
   "metadata": {
    "collapsed": false,
    "deletable": true,
    "editable": true
   },
   "outputs": [],
   "source": [
    "\n",
    "\n",
    "classification_dict = {0:\"Dipole type I\", 1: \"Dipole type II\", 3:\"Fringe\", 4: \"Artifact\", 5:\"Negative\", 6:\"Positive\", 7:\"Point Positive\"}\n",
    "SP.plot_object_distribution(lcs, classification_dict)"
   ]
  },
  {
   "cell_type": "code",
   "execution_count": 11,
   "metadata": {
    "collapsed": false,
    "deletable": true,
    "editable": true
   },
   "outputs": [],
   "source": [
    "import re\n",
    "import astropy.coordinates as coord\n",
    "import astropy.units as u\n",
    "\n",
    "filter='r'\n",
    "\n",
    "f = open('/renoir_data_02/jpreyes/lsst_data/sn_control/J_A+A_523_A7_table9.dat.txt','r')\n",
    "data_elems = f.read()\n",
    "elems = re.findall('^(06D3.*?)\\\\|(.*?)\\\\|', data_elems, re.MULTILINE)\n",
    "\n",
    "f = open('/renoir_data_02/jpreyes/lsst_data/sn_control/J_A+A_523_A7_table10.dat.txt','r')\n",
    "data = f.read()\n",
    "\n",
    "snls_array = []\n",
    "for sn in elems:\n",
    "    c = coord.SkyCoord(sn[-1], unit=(u.hourangle, u.deg))\n",
    "    \n",
    "    m = re.findall('^'+str(sn[0])+'\\\\|('+filter+')\\\\|(.*?)\\\\|(.*?)\\\\|(.*?)$', data, re.MULTILINE)\n",
    "\n",
    "    snls_lc = DSTools.build_light_curve_from_snls_file(m, c)\n",
    "    plt.errorbar(snls_lc['mjd'], snls_lc['flux'], yerr=snls_lc['flux_error'], fmt='.', color='blue')\n",
    "    snls_array.append(snls_lc)\n",
    "    plt.show()"
   ]
  },
  {
   "cell_type": "code",
   "execution_count": 12,
   "metadata": {
    "collapsed": false,
    "deletable": true,
    "editable": true
   },
   "outputs": [
    {
     "data": {
      "text/plain": [
       "0.11764705882352941"
      ]
     },
     "execution_count": 12,
     "metadata": {},
     "output_type": "execute_result"
    }
   ],
   "source": [
    "matches = DSTools.match_control_group(lcs,snls_array)\n",
    "float(len(matches))/float(len(snls_array))"
   ]
  },
  {
   "cell_type": "code",
   "execution_count": 13,
   "metadata": {
    "collapsed": false,
    "deletable": true,
    "editable": true
   },
   "outputs": [],
   "source": [
    "import lsst.daf.persistence as dafPersist\n",
    "\n",
    "DATADIR=\"/renoir_data_02/jpreyes/lsst_data/CFHTLS_master/\"\n",
    "butler = dafPersist.Butler(DATADIR+\"/output\") \n"
   ]
  },
  {
   "cell_type": "code",
   "execution_count": 26,
   "metadata": {
    "collapsed": true,
    "deletable": true,
    "editable": true
   },
   "outputs": [],
   "source": [
    "import lsst.daf.persistence as dafPersist\n",
    "\n",
    "DATADIR=\"/renoir_data_02/jpreyes/lsst_data/CFHTLS_master/\"\n",
    "butler = dafPersist.Butler(DATADIR+\"/output\") "
   ]
  },
  {
   "cell_type": "code",
   "execution_count": 24,
   "metadata": {
    "collapsed": false,
    "deletable": true,
    "editable": true
   },
   "outputs": [],
   "source": [
    "def get_stamps_in_lc(lc):\n",
    "    ccds= range(0,36)\n",
    "    stamps = []\n",
    "    for point in lc:\n",
    "\n",
    "        for ccd in ccds: \n",
    "            if butler.datasetExists(\"deepDiff_differenceExp\",dataId={\"filter\":'r', 'visit':point[\"mjd\"], 'ccd':ccd}):\n",
    "                diffExp = butler.get(\"deepDiff_differenceExp\", dataId={\"filter\":'r', 'visit':point[\"mjd\"], 'ccd':ccd})\n",
    "                box = diffExp.getBBox()\n",
    "                wcs = diffExp.getWcs()\n",
    "                coord = afwGeom.Point2I(wcs.skyToPixel(point[\"ra\"], point[\"dec\"]))\n",
    "                if box.contains(coord):\n",
    "                    break\n",
    "\n",
    "\n",
    "        #calexp = butler.get(\"calexp\", dataId={\"filter\":'r', 'visit':point[\"mjd\"], 'ccd':ccd})\n",
    "        calexp = butler.get(\"calexp\", dataId={\"filter\":'r', 'visit':point[\"mjd\"], 'ccd':ccd})\n",
    "\n",
    "\n",
    "\n",
    "        Center = afwGeom.Point2I(wcs.skyToPixel(point[\"ra\"], point[\"dec\"]))\n",
    "        Begin = afwGeom.Point2I(Center.getX() - 10, Center.getY() - 10)\n",
    "        End = afwGeom.Point2I(Center.getX() + 10, Center.getY() + 10)\n",
    "\n",
    "        newBox = afwGeom.Box2I(Begin,End) \n",
    "        try:\n",
    "            cal_stamp = calexp.Factory(calexp, newBox, True)\n",
    "            stamp = diffExp.Factory(diffExp,newBox, True)\n",
    "            stamps.append((stamp, cal_stamp))\n",
    "        except Exception, e:\n",
    "            print e\n",
    "            stamps.append((None, None))\n",
    "            pass\n",
    "        \n",
    "    return stamps\n",
    "    "
   ]
  },
  {
   "cell_type": "code",
   "execution_count": 22,
   "metadata": {
    "collapsed": false,
    "deletable": true,
    "editable": true
   },
   "outputs": [
    {
     "name": "stdout",
     "output_type": "stream",
     "text": [
      "48\n"
     ]
    }
   ],
   "source": [
    "lc = lcs1[45]\n",
    "print len(lc)"
   ]
  },
  {
   "cell_type": "code",
   "execution_count": 27,
   "metadata": {
    "collapsed": false,
    "deletable": true,
    "editable": true
   },
   "outputs": [],
   "source": [
    "\n",
    "stamps = get_stamps_in_lc(lc)"
   ]
  },
  {
   "cell_type": "code",
   "execution_count": 28,
   "metadata": {
    "collapsed": false,
    "deletable": true,
    "editable": true
   },
   "outputs": [],
   "source": [
    "plt.close(\"all\")\n",
    "fig = plt.figure(figsize=(10,5))\n",
    "fig2 = plt.figure(figsize=(10,10))\n",
    "plt.figure(fig.number)\n",
    "#plt.ylim(ymin=-75000, ymax=100000)\n",
    "tolerance = 5 # points\n",
    "plt.errorbar(lc[\"mjd\"],lc[\"flux\"], yerr=lc[\"flux_error\"],fmt='.', color='blue', picker=tolerance)\n",
    "\n",
    "fig.canvas.mpl_connect('pick_event', lambda event: on_pick(event, stamps , fig2.number))\n",
    "plt.show()"
   ]
  },
  {
   "cell_type": "code",
   "execution_count": 20,
   "metadata": {
    "collapsed": true,
    "deletable": true,
    "editable": true
   },
   "outputs": [],
   "source": [
    "def on_pick(event, stamps, fig_number):\n",
    "    \n",
    "    clear_output()\n",
    "    \n",
    "    plt.figure(fig_number)\n",
    "    plt.clf()\n",
    "    artist = event.artist\n",
    "    \n",
    "    xmouse, ymouse = event.mouseevent.xdata, event.mouseevent.ydata\n",
    "    x, y = artist.get_xdata(), artist.get_ydata()\n",
    "    ind = event.ind\n",
    "\n",
    "    stamp, c_stamp = stamps[ind[0]]\n",
    "\n",
    "\n",
    "    plt.subplot(2,2,1)\n",
    "    img_arr, mask_arr, var_arr = stamp.getMaskedImage().getArrays()\n",
    "    w,h = stamp.getWidth(), stamp.getHeight()  \n",
    "    plt.imshow(img_arr, origin='lower', vmin=img_arr.min(), vmax=img_arr.max(), cmap='gray', extent=(0,w-1, 0, h-1), interpolation='none')\n",
    "    plt.subplot(2,2,3)\n",
    "    plt.hist(img_arr.flat, 100)\n",
    "    \n",
    "    plt.subplot(2,2,2)\n",
    "    img_arr, mask_arr, var_arr = c_stamp.getMaskedImage().getArrays()\n",
    "    w,h = c_stamp.getWidth(), c_stamp.getHeight()\n",
    "    plt.imshow(img_arr, origin='lower', vmin=img_arr.min(), vmax=img_arr.max(), cmap='gray', extent=(0,w-1, 0, h-1), interpolation='none')\n",
    "    plt.subplot(2,2,4) \n",
    "    plt.hist(img_arr.flat, 100)\n",
    "        \n",
    "    plt.show()\n",
    "    "
   ]
  },
  {
   "cell_type": "code",
   "execution_count": 109,
   "metadata": {
    "collapsed": false,
    "deletable": true,
    "editable": true
   },
   "outputs": [],
   "source": [
    "stamp, c_stamp = stamps[0]\n",
    "img_arr, mask_arr, var_arr = stamp.getMaskedImage().getArrays()"
   ]
  },
  {
   "cell_type": "code",
   "execution_count": 107,
   "metadata": {
    "collapsed": false,
    "deletable": true,
    "editable": true
   },
   "outputs": [],
   "source": [
    "plt.hist(img_arr.flat, 100)\n",
    "plt.show()"
   ]
  },
  {
   "cell_type": "code",
   "execution_count": 111,
   "metadata": {
    "collapsed": false,
    "deletable": true,
    "editable": true
   },
   "outputs": [],
   "source": [
    "img_arr, mask_arr, var_arr = c_stamp.getMaskedImage().getArrays()\n",
    "plt.hist(img_arr.flat, 100)\n",
    "plt.show()"
   ]
  },
  {
   "cell_type": "code",
   "execution_count": null,
   "metadata": {
    "collapsed": true,
    "deletable": true,
    "editable": true
   },
   "outputs": [],
   "source": []
  }
 ],
 "metadata": {
  "kernelspec": {
   "display_name": "Python 2",
   "language": "python",
   "name": "python2"
  },
  "language_info": {
   "codemirror_mode": {
    "name": "ipython",
    "version": 2
   },
   "file_extension": ".py",
   "mimetype": "text/x-python",
   "name": "python",
   "nbconvert_exporter": "python",
   "pygments_lexer": "ipython2",
   "version": "2.7.12"
  },
  "widgets": {
   "state": {
    "139e7d56bbc046dca93b4df5a3e9d496": {
     "views": [
      {
       "cell_index": 18
      }
     ]
    },
    "b7603106851a47bca412fc6837b8b79d": {
     "views": [
      {
       "cell_index": 18
      }
     ]
    }
   },
   "version": "1.2.0"
  }
 },
 "nbformat": 4,
 "nbformat_minor": 0
}
