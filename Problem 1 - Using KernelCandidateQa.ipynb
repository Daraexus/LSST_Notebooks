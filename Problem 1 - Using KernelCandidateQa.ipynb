{
 "metadata": {
  "name": ""
 },
 "nbformat": 3,
 "nbformat_minor": 0,
 "worksheets": [
  {
   "cells": [
    {
     "cell_type": "heading",
     "level": 1,
     "metadata": {},
     "source": [
      "Problem 1 - Using KernelCandidateQa"
     ]
    },
    {
     "cell_type": "markdown",
     "metadata": {},
     "source": [
      "Obligatory imports"
     ]
    },
    {
     "cell_type": "code",
     "collapsed": false,
     "input": [
      "import ImageSubtractionTools\n",
      "import ImageSubtractor\n",
      "import SourceExtractor\n",
      "import lsst.afw.image as afwImage\n",
      "import lsst.afw.display.ds9 as ds9\n",
      "import os\n",
      "import ImageViewer\n",
      "import lsst.afw.table as afwTable"
     ],
     "language": "python",
     "metadata": {},
     "outputs": [],
     "prompt_number": 5
    },
    {
     "cell_type": "markdown",
     "metadata": {},
     "source": [
      "This is the same pipeline compressed. Can be run without problems"
     ]
    },
    {
     "cell_type": "code",
     "collapsed": false,
     "input": [
      "DATADIR=\"/renoir_data_02/jpreyes/lsst_data/data/CFHTLS_TEST\"\n",
      "scienceFolder = \"subtract+0\"\n",
      "templateFolder = \"coaddition\"\n",
      "\n",
      "SciencePath = DATADIR+\"/output/coadd_r_dir/\"+scienceFolder+\"/deepCoadd/r/1/33,15.fits\"\n",
      "TemplatePath = DATADIR+\"/output/coadd_r_dir/\"+templateFolder+\"/deepCoadd/r/1/33,15.fits\"\n",
      "\n",
      "scienceExp = afwImage.ExposureF(SciencePath)\n",
      "templateExp = afwImage.ExposureF(TemplatePath)\n",
      "\n",
      "scienceExp = ImageSubtractionTools.SubtractBackground(scienceExp)\n",
      "templateExp = ImageSubtractionTools.SubtractBackground(templateExp)\n",
      "sc_ctr, sc_psfAttr, sc_sigmaOrig= ImageSubtractionTools.ComputeInitialParameters(scienceExp)\n",
      "tm_ctr, tm_psfAttr, tm_sigmaOrig= ImageSubtractionTools.ComputeInitialParameters(templateExp)\n",
      "sc_psf = scienceExp.getPsf()\n",
      "#c_image_1, sc_sigma_1  = ImageSubtractionTools.SimplifiedPreConvolve(templateExp, tm_sigmaOrig, sc_psf)\n",
      "c_image_1, sc_sigma_1 = ImageSubtractionTools.PreConvolve(templateExp, tm_sigmaOrig, sc_psf)\n",
      "\n",
      "templateExp.setMaskedImage(c_image_1)\n",
      "#templateExp.writeFits(\"preConvolvedTemplateExp.fits\")\n",
      "selectSources = ImageSubtractionTools.SelectSources(scienceExp, sc_sigma_1 )\n",
      "n_of_gaussians = ImageSubtractionTools.CalculateNumberOfBasisFunctions(sc_sigma_1, tm_sigmaOrig)\n",
      "kernelSources = ImageSubtractionTools.SelectKernelSources(scienceExp, selectSources)\n",
      "candidateList, templateFwhmPix, scienceFwhmPix = ImageSubtractionTools.MakeCandidateList(templateExp, scienceExp )\n",
      "kernelCellSet = ImageSubtractionTools.CalculateKernelCellSet(templateExp, scienceExp, candidateList)\n",
      "\n",
      "\n",
      "\n",
      "cat = afwTable.SourceCatalog(kernelSources[-1].schema)\n",
      "\n",
      "for candidate in candidateList:\n",
      "    cat.append( candidate.get(\"source\") )\n",
      "#cat.writeFits(\"kernelCandidates.fits\")\n",
      "basisList = ImageSubtractionTools.CalculateKernelBasis(templateExp, templateFwhmPix, scienceExp, scienceFwhmPix, candidateList)\n",
      "spatialSolution, psfMatchingKernel, backgroundModel =ImageSubtractionTools.SolvePsfMatching(kernelCellSet, basisList)\n",
      "\n",
      "#psfMatchingKernel.writeFits(\"psf_Matching_Kernel.fits\")\n",
      "from lsst.ip.diffim import utils as diUtils\n",
      "diUtils.showKernelBasis(psfMatchingKernel, frame=5) \n",
      "diUtils.showKernelCandidates(kernelCellSet, kernel=psfMatchingKernel, background=backgroundModel,\n",
      "                                         frame=6,\n",
      "                                         showBadCandidates=True,\n",
      "                                         resids=True)\n",
      "matchedImage = ImageSubtractionTools.PsfConvolveImage(templateExp, psfMatchingKernel, doNormalize=True)\n",
      "subtractedImage = ImageSubtractionTools.SubtractImages(matchedImage, templateExp, scienceExp)\n",
      "#templateExp.writeFits(\"matchedTemplate.fits\")\n",
      "#templateExp.writeFits(\"subtractedImage.fits\")\n",
      "ds9.setMaskTransparency(100)\n",
      "ds9.mtv(subtractedImage, frame=1)\n",
      "subtractedExp = afwImage.ExposureF(subtractedImage)\n",
      "\n",
      "\n",
      "detectedSources, processedExp = SourceExtractor.Show_image_and_footprints(subtractedExp, initial_frame = 1)\n",
      "#detectedSources.writeFits(\"detectedSourcesOnSubtraction.fits\")\n",
      "\n",
      "test_sources, test_exp = SourceExtractor.Show_image_and_footprints(scienceExp, initial_frame=1)"
     ],
     "language": "python",
     "metadata": {},
     "outputs": [
      {
       "output_type": "stream",
       "stream": "stdout",
       "text": [
        "<lsst.afw.image.imageLib.MaskedImageF; proxy of <Swig Object of type 'boost::shared_ptr< lsst::afw::image::MaskedImage< float,lsst::afw::image::MaskPixel,lsst::afw::image::VariancePixel > > *' at 0x601c720> >\n",
        "['BAD', 'CR', 'DETECTED', 'DETECTED_NEGATIVE', 'EDGE', 'INTRP', 'OTHERDET', 'SAT', 'SUSPECT', 'THISDET', 'UNMASKEDNAN']"
       ]
      },
      {
       "output_type": "stream",
       "stream": "stdout",
       "text": [
        "\n",
        "Mean of the image is 0.000 counts, stdev is 0.271 counts"
       ]
      },
      {
       "output_type": "stream",
       "stream": "stdout",
       "text": [
        "\n",
        "The 5-sigma detection threshold is at 1.36 counts\n",
        "Measuring 19 objects\n",
        "['BAD', 'CR', 'DETECTED', 'DETECTED_NEGATIVE', 'EDGE', 'INTRP', 'OTHERDET', 'SAT', 'SUSPECT', 'THISDET', 'UNMASKEDNAN']\n",
        "Mean of the image is -0.000 counts, stdev is 0.237 counts"
       ]
      },
      {
       "output_type": "stream",
       "stream": "stdout",
       "text": [
        "\n",
        "The 5-sigma detection threshold is at 1.18 counts\n",
        "Measuring 42 objects\n"
       ]
      }
     ],
     "prompt_number": 6
    },
    {
     "cell_type": "markdown",
     "metadata": {},
     "source": [
      "This is the current bug. When calling the \"addToSchema\" in order to have a KernelCandidate table with the sources that are going to be used for the quality metrics, there is an exception.\n",
      "\n",
      "So far, I've tried changing the input sources. Next possible solution is to use the butler. The exception is a low level error \"<b>'SourceTable_definePsfFlux', argument 2 of type 'std::string const &'</b>\" in which there is an argument of the wrong type. Something that I have no control over. Compatibility issues?\n"
     ]
    },
    {
     "cell_type": "code",
     "collapsed": false,
     "input": [
      "import lsst.pipe.base as pipeBase\n",
      "from lsst.meas.algorithms import SourceMeasurementTask\n",
      "from lsst.ip.diffim import KernelCandidateQa\n",
      "\n",
      "kcQa = KernelCandidateQa(len(basisList))\n",
      "\n",
      "\n",
      "\n",
      "kcQaSelectSources = kcQa.addToSchema(test_sources)"
     ],
     "language": "python",
     "metadata": {},
     "outputs": [
      {
       "ename": "TypeError",
       "evalue": "in method 'SourceTable_definePsfFlux', argument 2 of type 'std::string const &'",
       "output_type": "pyerr",
       "traceback": [
        "\u001b[1;31m---------------------------------------------------------------------------\u001b[0m\n\u001b[1;31mTypeError\u001b[0m                                 Traceback (most recent call last)",
        "\u001b[1;32m<ipython-input-7-00894a484940>\u001b[0m in \u001b[0;36m<module>\u001b[1;34m()\u001b[0m\n\u001b[0;32m      7\u001b[0m \u001b[1;33m\u001b[0m\u001b[0m\n\u001b[0;32m      8\u001b[0m \u001b[1;33m\u001b[0m\u001b[0m\n\u001b[1;32m----> 9\u001b[1;33m \u001b[0mkcQaSelectSources\u001b[0m \u001b[1;33m=\u001b[0m \u001b[0mkcQa\u001b[0m\u001b[1;33m.\u001b[0m\u001b[0maddToSchema\u001b[0m\u001b[1;33m(\u001b[0m\u001b[0mtest_sources\u001b[0m\u001b[1;33m)\u001b[0m\u001b[1;33m\u001b[0m\u001b[0m\n\u001b[0m",
        "\u001b[1;32m/renoir_data_00/jpreyes/stacks/v9_2_copy/Linux64/ip_diffim/9.2/python/lsst/ip/diffim/kernelCandidateQa.pyc\u001b[0m in \u001b[0;36maddToSchema\u001b[1;34m(self, inSourceCatalog)\u001b[0m\n\u001b[0;32m    125\u001b[0m                     \u001b[0mgetter\u001b[0m \u001b[1;33m=\u001b[0m \u001b[0mgetattr\u001b[0m\u001b[1;33m(\u001b[0m\u001b[0msource\u001b[0m\u001b[1;33m,\u001b[0m \u001b[1;34m\"get\"\u001b[0m\u001b[1;33m+\u001b[0m\u001b[0mk\u001b[0m\u001b[1;33m.\u001b[0m\u001b[0mgetTypeString\u001b[0m\u001b[1;33m(\u001b[0m\u001b[1;33m)\u001b[0m\u001b[1;33m)\u001b[0m\u001b[1;33m\u001b[0m\u001b[0m\n\u001b[0;32m    126\u001b[0m                     \u001b[0msetter\u001b[0m\u001b[1;33m(\u001b[0m\u001b[0mk\u001b[0m\u001b[1;33m,\u001b[0m \u001b[0mgetter\u001b[0m\u001b[1;33m(\u001b[0m\u001b[0mk\u001b[0m\u001b[1;33m)\u001b[0m\u001b[1;33m)\u001b[0m\u001b[1;33m\u001b[0m\u001b[0m\n\u001b[1;32m--> 127\u001b[1;33m         \u001b[0moutSourceCatalog\u001b[0m\u001b[1;33m.\u001b[0m\u001b[0mdefinePsfFlux\u001b[0m\u001b[1;33m(\u001b[0m\u001b[0mfluxKey\u001b[0m\u001b[1;33m)\u001b[0m\u001b[1;33m\u001b[0m\u001b[0m\n\u001b[0m\u001b[0;32m    128\u001b[0m         \u001b[0moutSourceCatalog\u001b[0m\u001b[1;33m.\u001b[0m\u001b[0mdefineCentroid\u001b[0m\u001b[1;33m(\u001b[0m\u001b[0mcentroidKey\u001b[0m\u001b[1;33m)\u001b[0m\u001b[1;33m\u001b[0m\u001b[0m\n\u001b[0;32m    129\u001b[0m         \u001b[0moutSourceCatalog\u001b[0m\u001b[1;33m.\u001b[0m\u001b[0mdefineShape\u001b[0m\u001b[1;33m(\u001b[0m\u001b[0mshapeKey\u001b[0m\u001b[1;33m)\u001b[0m\u001b[1;33m\u001b[0m\u001b[0m\n",
        "\u001b[1;32m/renoir_data_00/jpreyes/stacks/v9_2_copy/Linux64/afw/9.2/python/lsst/afw/table/tableLib.pyc\u001b[0m in \u001b[0;36mdefinePsfFlux\u001b[1;34m(self, meas, err, flag)\u001b[0m\n\u001b[0;32m   9529\u001b[0m         \u001b[1;32mif\u001b[0m \u001b[0merr\u001b[0m \u001b[1;32mis\u001b[0m \u001b[0mNone\u001b[0m\u001b[1;33m:\u001b[0m\u001b[1;33m\u001b[0m\u001b[0m\n\u001b[0;32m   9530\u001b[0m             \u001b[1;32mif\u001b[0m \u001b[0mflag\u001b[0m \u001b[1;32mis\u001b[0m \u001b[0mNone\u001b[0m\u001b[1;33m:\u001b[0m\u001b[1;33m\u001b[0m\u001b[0m\n\u001b[1;32m-> 9531\u001b[1;33m                 \u001b[0m_tableLib\u001b[0m\u001b[1;33m.\u001b[0m\u001b[0mSourceTable_definePsfFlux\u001b[0m\u001b[1;33m(\u001b[0m\u001b[0mself\u001b[0m\u001b[1;33m,\u001b[0m \u001b[0mmeas\u001b[0m\u001b[1;33m)\u001b[0m\u001b[1;33m\u001b[0m\u001b[0m\n\u001b[0m\u001b[0;32m   9532\u001b[0m             \u001b[1;32melse\u001b[0m\u001b[1;33m:\u001b[0m\u001b[1;33m\u001b[0m\u001b[0m\n\u001b[0;32m   9533\u001b[0m                 \u001b[0m_tableLib\u001b[0m\u001b[1;33m.\u001b[0m\u001b[0mSourceTable_definePsfFlux\u001b[0m\u001b[1;33m(\u001b[0m\u001b[0mself\u001b[0m\u001b[1;33m,\u001b[0m \u001b[0mmeas\u001b[0m\u001b[1;33m,\u001b[0m \u001b[0mflag\u001b[0m\u001b[1;33m)\u001b[0m\u001b[1;33m\u001b[0m\u001b[0m\n",
        "\u001b[1;31mTypeError\u001b[0m: in method 'SourceTable_definePsfFlux', argument 2 of type 'std::string const &'"
       ]
      }
     ],
     "prompt_number": 7
    },
    {
     "cell_type": "code",
     "collapsed": false,
     "input": [
      "\n",
      "    "
     ],
     "language": "python",
     "metadata": {},
     "outputs": []
    }
   ],
   "metadata": {}
  }
 ]
}