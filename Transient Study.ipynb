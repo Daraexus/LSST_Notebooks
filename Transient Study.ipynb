{
 "cells": [
  {
   "cell_type": "code",
   "execution_count": 54,
   "metadata": {
    "collapsed": false
   },
   "outputs": [],
   "source": [
    "import lsst.meas.astrom as measAstrom\n",
    "import lsst.daf.base as dafBase\n",
    "import lsst.pipe.base as pipeBase\n",
    "import lsst.daf.persistence as dafPersist\n",
    "\n",
    "import random\n",
    "import matplotlib.pyplot as plt\n",
    "import numpy as np\n",
    "\n",
    "import lsst.afw.display.ds9 as ds9\n",
    "import lsst.afw.table as afwTable\n",
    "\n",
    "import DiaSourceTools as DSTools\n",
    "import lsst.afw.display.utils as displayUtils\n",
    "import lsst.meas.algorithms.detection as sDet\n",
    "\n",
    "%matplotlib inline"
   ]
  },
  {
   "cell_type": "code",
   "execution_count": 212,
   "metadata": {
    "collapsed": true
   },
   "outputs": [],
   "source": [
    "DATADIR=\"/renoir_data_02/jpreyes/lsst_data/CFHTLS_master/\"\n",
    "butler = dafPersist.Butler(DATADIR+\"/output\")\n",
    "\n",
    "subset = butler.subset(\"deepDiff_diaSrc\")\n",
    "#file = open(\"diaSources.txt\", \"w\")\n",
    "diaSourcesList = []\n",
    "for dr_subSet in subset:\n",
    "    if dr_subSet.dataId[\"ccd\"]==14:\n",
    "        #file.write(\"visit=\"+str(dr_subSet.dataId[\"visit\"])+\"\\n\")\n",
    "        try:\n",
    "            diaSourcesList.append(dr_subSet)\n",
    "           \n",
    "        except:\n",
    "            pass"
   ]
  },
  {
   "cell_type": "code",
   "execution_count": 381,
   "metadata": {
    "collapsed": true
   },
   "outputs": [],
   "source": [
    "visit = visits[0]\n",
    "\n",
    "dataId = {'visit': visit , 'filter':'r' , 'ccd':14}\n",
    "diaSrcs = butler.get(\"deepDiff_diaSrc\", dataId)\n",
    "diffExp = butler.get(\"deepDiff_differenceExp\", dataId)\n",
    "sciExp  = butler.get(\"calexp\", dataId)\n",
    "tmpExp = butler.get(\"deepDiff_warpedExp\", dataId)\n",
    "bgConf = sDet.BackgroundConfig()\n",
    "background,tmpExp = sDet.estimateBackground(tmpExp,bgConf,True)"
   ]
  },
  {
   "cell_type": "code",
   "execution_count": 382,
   "metadata": {
    "collapsed": false
   },
   "outputs": [
    {
     "name": "stdout",
     "output_type": "stream",
     "text": [
      "89\n"
     ]
    }
   ],
   "source": [
    "fluxes, sigmas = DSTools.get_fluxes_and_sigmas(diaSrcs, \"base_PeakLikelihoodFlux_flux\")\n",
    "\n",
    "m_sigma = np.mean(sigmas)\n",
    "t_sigma = 5*m_sigma\n",
    "\n",
    "sources = DSTools.get_sources_over_sigma(diaSrcs, t_sigma, \"base_PeakLikelihoodFlux_flux\")\n",
    "print len(sources)"
   ]
  },
  {
   "cell_type": "code",
   "execution_count": 367,
   "metadata": {
    "collapsed": false
   },
   "outputs": [
    {
     "name": "stdout",
     "output_type": "stream",
     "text": [
      "\n",
      "  File \"src/image/Image.cc\", line 92, in static lsst::afw::image::ImageBase<PixelT>::_view_t lsst::afw::image::ImageBase<PixelT>::_makeSubView(const Extent2I&, const Extent2I&, const _view_t&) [with PixelT = float; lsst::afw::image::ImageBase<PixelT>::_view_t = boost::gil::image_view<boost::gil::memory_based_2d_locator<boost::gil::memory_based_step_iterator<boost::gil::pixel<float, boost::gil::layout<boost::mpl::vector1<boost::gil::gray_color_t> > >*> > >; lsst::afw::geom::Extent2I = lsst::afw::geom::Extent<int, 2>]\n",
      "    Box2I(Point2I(1777,2257),Extent2I(274,347)) doesn't fit in image 2048x4612 {0}\n",
      "lsst::pex::exceptions::LengthError: 'Box2I(Point2I(1777,2257),Extent2I(274,347)) doesn't fit in image 2048x4612'\n",
      "\n"
     ]
    }
   ],
   "source": [
    "mosaic_dif = displayUtils.Mosaic(gutter=3, background=3, mode=\"square\")\n",
    "mosaic_sci = displayUtils.Mosaic(gutter=3, background=3, mode=\"square\")\n",
    "mosaic_tmp = displayUtils.Mosaic(gutter=3, background=3, mode=\"square\")\n",
    "\n",
    "for i, source in enumerate(sources):\n",
    "    try:\n",
    "        dif_stamp = DSTools.get_stamp(source, diffExp)\n",
    "        \n",
    "        negFlux   = np.abs(source.get(\"ip_diffim_PsfDipoleFlux_neg_flux\"))\n",
    "        posFlux   = np.abs(source.get(\"ip_diffim_PsfDipoleFlux_pos_flux\"))\n",
    "        totalFlux=negFlux+posFlux\n",
    "        passesFluxNeg = (negFlux / totalFlux)\n",
    "        passesFluxPos = (posFlux / totalFlux)\n",
    "        \n",
    "        mosaic_dif.append(dif_stamp.getMaskedImage(), label=str(i)+\"-\"+str(source.get(\"classification_dipole\")))\n",
    "        \n",
    "        sci_stamp = DSTools.get_stamp(source, sciExp)\n",
    "        mosaic_sci.append(sci_stamp.getMaskedImage(), label=str(i))\n",
    "\n",
    "        \n",
    "        tmp_stamp = DSTools.get_stamp(source, tmpExp)\n",
    "        mosaic_tmp.append(tmp_stamp.getMaskedImage(), label=str(i))\n",
    "    except Exception, e:\n",
    "        print e"
   ]
  },
  {
   "cell_type": "code",
   "execution_count": 383,
   "metadata": {
    "collapsed": false
   },
   "outputs": [
    {
     "name": "stdout",
     "output_type": "stream",
     "text": [
      "ds9 doesn't appear to be running (XPA: XPA returned NULL, (;iconify no; raise)), I'll try to exec it for you\n"
     ]
    }
   ],
   "source": [
    "mosaic_dif.makeMosaic(frame=1, title=\"mosaic_dif\")\n",
    "ds9.setMaskTransparency(100, frame=1)\n",
    "mosaic_sci.makeMosaic(frame=2, title=\"mosaic_science\")\n",
    "ds9.setMaskTransparency(100, frame=2)\n",
    "mosaic_tmp.makeMosaic(frame=3, title=\"mosaic_template\")\n",
    "ds9.setMaskTransparency(100, frame=3)"
   ]
  },
  {
   "cell_type": "code",
   "execution_count": 384,
   "metadata": {
    "collapsed": false
   },
   "outputs": [],
   "source": [
    "ds9.mtv(diffExp, frame=4)\n",
    "\n",
    "for i, s in enumerate(sources):\n",
    "    ds9.dot(i, s.getX()-1, s.getY()-1, frame=4)"
   ]
  },
  {
   "cell_type": "raw",
   "metadata": {},
   "source": []
  },
  {
   "cell_type": "code",
   "execution_count": null,
   "metadata": {
    "collapsed": false
   },
   "outputs": [],
   "source": [
    "reload(DSTools)"
   ]
  },
  {
   "cell_type": "code",
   "execution_count": null,
   "metadata": {
    "collapsed": false
   },
   "outputs": [],
   "source": [
    "for i, s in enumerate(sources):\n",
    "    try:\n",
    "        print \"===========Source # \"+ str(i) +\"==============\"\n",
    "        te_stamp = DSTools.get_stamp(s, diffExp)\n",
    "        print \"negative lobe\"\n",
    "        DSTools.plot_cumulative_flux(te_stamp, \"DETECTED_NEGATIVE\", positive=False)\n",
    "        print \"positive lobe\"\n",
    "        DSTools.plot_cumulative_flux(te_stamp, \"DETECTED\")\n",
    "    except Exception, e:\n",
    "        print e"
   ]
  },
  {
   "cell_type": "code",
   "execution_count": null,
   "metadata": {
    "collapsed": false
   },
   "outputs": [],
   "source": [
    "ds9.mtv(sciExp, frame=6)"
   ]
  },
  {
   "cell_type": "code",
   "execution_count": null,
   "metadata": {
    "collapsed": true
   },
   "outputs": [],
   "source": [
    "dipoles_pos = []\n",
    "dipoles_neg = []\n",
    "maybe_dipoles_pos = []\n",
    "maybe_dipoles_neg = []\n",
    "rejected_dipoles_pos = []\n",
    "rejected_dipoles_neg = []\n",
    "others_pos = []\n",
    "others_neg = []\n",
    "transients = []"
   ]
  },
  {
   "cell_type": "code",
   "execution_count": null,
   "metadata": {
    "collapsed": true
   },
   "outputs": [],
   "source": [
    "transient = 20"
   ]
  },
  {
   "cell_type": "code",
   "execution_count": 321,
   "metadata": {
    "collapsed": false
   },
   "outputs": [
    {
     "name": "stdout",
     "output_type": "stream",
     "text": [
      "\n",
      "  File \"src/image/Image.cc\", line 92, in static lsst::afw::image::ImageBase<PixelT>::_view_t lsst::afw::image::ImageBase<PixelT>::_makeSubView(const Extent2I&, const Extent2I&, const _view_t&) [with PixelT = float; lsst::afw::image::ImageBase<PixelT>::_view_t = boost::gil::image_view<boost::gil::memory_based_2d_locator<boost::gil::memory_based_step_iterator<boost::gil::pixel<float, boost::gil::layout<boost::mpl::vector1<boost::gil::gray_color_t> > >*> > >; lsst::afw::geom::Extent2I = lsst::afw::geom::Extent<int, 2>]\n",
      "    Box2I(Point2I(1855,2226),Extent2I(195,137)) doesn't fit in image 2048x4612 {0}\n",
      "lsst::pex::exceptions::LengthError: 'Box2I(Point2I(1855,2226),Extent2I(195,137)) doesn't fit in image 2048x4612'\n",
      "\n"
     ]
    }
   ],
   "source": [
    "for i, s in enumerate(sources):\n",
    "    try:\n",
    "        stamp = DSTools.get_stamp(s, diffExp)\n",
    "        stamp_clone = stamp.clone()\n",
    "        results = DSTools.detect_diasources(stamp_clone, doSmooth=True)\n",
    "        negFps = len(results.fpSets.negative.getFootprints())\n",
    "        posFps = len(results.fpSets.positive.getFootprints())\n",
    "        pos_flux_at_25 = get_flux_percentage_at(stamp)\n",
    "        neg_flux_at_25 = get_flux_percentage_at(stamp, plane_mask=\"DETECTED_NEGATIVE\")\n",
    "        \n",
    "        if i == transient:            \n",
    "            transients.append(pos_flux_at_25)\n",
    "        elif negFps >0 and posFps>0:\n",
    "            if DSTools.get_naive_dipole_probability(s) == 1.0:\n",
    "                dipoles_pos.append(pos_flux_at_25)\n",
    "                dipoles_neg.append(neg_flux_at_25)\n",
    "            elif np.isnan(s.get(\"ip_diffim_PsfDipoleFlux_pos_flux\")) or np.isnan(s.get(\"ip_diffim_PsfDipoleFlux_neg_flux\")):\n",
    "            \n",
    "                maybe_dipoles_pos.append(pos_flux_at_25)\n",
    "                maybe_dipoles_neg.append(neg_flux_at_25)\n",
    "            else:\n",
    "                rejected_dipoles_pos.append(pos_flux_at_25)\n",
    "                rejected_dipoles_neg.append(neg_flux_at_25)\n",
    "        else: \n",
    "            #print i\n",
    "            #print \"by default pos\", pos_flux_at_25\n",
    "            #print \"by default neg\", neg_flux_at_25\n",
    "            if pos_flux_at_25 is not None:\n",
    "                \n",
    "                others_pos.append(pos_flux_at_25)\n",
    "            else:\n",
    "                \n",
    "                others_neg.append(neg_flux_at_25)\n",
    "                \n",
    "        \n",
    "    except Exception, e:\n",
    "        print e"
   ]
  },
  {
   "cell_type": "code",
   "execution_count": 322,
   "metadata": {
    "collapsed": false
   },
   "outputs": [
    {
     "name": "stdout",
     "output_type": "stream",
     "text": [
      "[0.61072212775659573, 0.58797682386826899, 0.63716870569514317, 0.71246185740110668, 0.95040064464655605]\n"
     ]
    }
   ],
   "source": [
    "#print dipoles_pos\n",
    "#print dipoles_neg\n",
    "#print maybe_dipoles_pos\n",
    "#print maybe_dipoles_neg\n",
    "#print rejected_dipoles_neg\n",
    "#print rejected_dipoles_pos\n",
    "#print others_pos\n",
    "#print others_neg\n",
    "print transients"
   ]
  },
  {
   "cell_type": "code",
   "execution_count": 324,
   "metadata": {
    "collapsed": false
   },
   "outputs": [
    {
     "data": {
      "image/png": "[encoded data removed]",
      "text/plain": [
       "<matplotlib.figure.Figure at 0x7fd6425c5050>"
      ]
     },
     "metadata": {},
     "output_type": "display_data"
    }
   ],
   "source": [
    "size = 10\n",
    "p = 'b'\n",
    "n = 'r'\n",
    "\n",
    "plt.figure(figsize=(10,10))\n",
    "plt.scatter([1 for val in dipoles_pos], dipoles_pos, s=size, c=p, lw=0)\n",
    "plt.scatter([1 for val in dipoles_neg], dipoles_neg, s=size, c=n, lw=0)\n",
    "\n",
    "plt.scatter([2 for val in maybe_dipoles_pos], maybe_dipoles_pos , s=size, c=p, lw=0)\n",
    "plt.scatter([2 for val in maybe_dipoles_neg], maybe_dipoles_neg , s=size, c=n, lw=0)\n",
    "\n",
    "plt.scatter([3 for val in rejected_dipoles_pos], rejected_dipoles_pos , s=size, c=p, lw=0)\n",
    "plt.scatter([3 for val in rejected_dipoles_neg], rejected_dipoles_neg , s=size, c=n, lw=0)\n",
    "\n",
    "plt.scatter([4 for val in others_pos], others_pos , s=size, c=p, lw=0)\n",
    "plt.scatter([4 for val in others_neg], others_neg , s=size, c=n, lw=0)\n",
    "\n",
    "plt.scatter([5 for val in transients], transients, s=size, lw=0)\n",
    "\n",
    "plt.xticks([1,2,3,4, 5], [\"dipoles\", \"uncertain dipoles\", \"rejected dipoles\",  \"others\", \"transients\"])\n",
    "\n",
    "plt.yticks(np.arange(0, 1.1, 0.1))\n",
    "\n",
    "axes = plt.axes()\n",
    "axes.grid(True)\n",
    "\n",
    "plt.show()"
   ]
  },
  {
   "cell_type": "code",
   "execution_count": 199,
   "metadata": {
    "collapsed": false
   },
   "outputs": [],
   "source": [
    "def get_flux_percentage_at(stamp, percent = 0.25, plane_mask=\"DETECTED\", positive=True):\n",
    "    \n",
    "    cumsum = DSTools.get_cumulative_flux(stamp, plane_mask=plane_mask, positive=positive)\n",
    "    \n",
    "    if cumsum is None:\n",
    "        return None\n",
    "    \n",
    "    total = float(len(cumsum))\n",
    "    \n",
    "    for i, value in enumerate(cumsum):\n",
    "        #print i, float(i+1)/total, 1-value\n",
    "        if float(i+1)/total > (1-percent):\n",
    "            return 1-value"
   ]
  },
  {
   "cell_type": "code",
   "execution_count": 217,
   "metadata": {
    "collapsed": false,
    "scrolled": false
   },
   "outputs": [
    {
     "name": "stdout",
     "output_type": "stream",
     "text": [
      "0.57740730663\n",
      "0.579036010867\n",
      "0.254098360656 30\n",
      "75% of sources contribute 95.1357749525% of total flux\n",
      "50% of sources contribute 81.697957735% of total flux\n",
      "25% of sources contribute 57.740730663% of total flux\n",
      "10% of sources contribute 33.526750733% of total flux\n"
     ]
    },
    {
     "data": {
      "image/png": "[encoded data removed]",
      "text/plain": [
       "<matplotlib.figure.Figure at 0x7fd64202cad0>"
      ]
     },
     "metadata": {},
     "output_type": "display_data"
    },
    {
     "data": {
      "text/plain": [
       "array([  8.11916301e-05,   3.46057864e-04,   6.11998594e-04,\n",
       "         9.03598923e-04,   1.31477299e-03,   1.78132367e-03,\n",
       "         2.28734203e-03,   2.84897760e-03,   3.42594478e-03,\n",
       "         4.36965178e-03,   5.35117462e-03,   6.56480451e-03,\n",
       "         7.82710745e-03,   9.21037936e-03,   1.07633895e-02,\n",
       "         1.23917748e-02,   1.41262143e-02,   1.59426524e-02,\n",
       "         1.78478085e-02,   1.98405760e-02,   2.19008765e-02,\n",
       "         2.41259597e-02,   2.66040946e-02,   2.91646610e-02,\n",
       "         3.17986139e-02,   3.44353733e-02,   3.71311978e-02,\n",
       "         3.98530028e-02,   4.27240503e-02,   4.56637694e-02,\n",
       "         4.86422505e-02,   5.17290632e-02,   5.50544941e-02,\n",
       "         5.85384533e-02,   6.22833546e-02,   6.60792863e-02,\n",
       "         6.99805347e-02,   7.38895291e-02,   7.78133580e-02,\n",
       "         8.17837269e-02,   8.58365113e-02,   8.99116516e-02,\n",
       "         9.39983708e-02,   9.81009348e-02,   1.02211052e-01,\n",
       "         1.06358922e-01,   1.10652617e-01,   1.14972438e-01,\n",
       "         1.19422706e-01,   1.23894303e-01,   1.28419913e-01,\n",
       "         1.32956157e-01,   1.37561072e-01,   1.42268079e-01,\n",
       "         1.47070942e-01,   1.51883170e-01,   1.56696874e-01,\n",
       "         1.61620561e-01,   1.66794157e-01,   1.72027764e-01,\n",
       "         1.77468717e-01,   1.83020423e-01,   1.88738034e-01,\n",
       "         1.94477215e-01,   2.00451839e-01,   2.06638957e-01,\n",
       "         2.13228273e-01,   2.19897791e-01,   2.26602159e-01,\n",
       "         2.33672239e-01,   2.40753065e-01,   2.48273247e-01,\n",
       "         2.55803821e-01,   2.63381641e-01,   2.70996250e-01,\n",
       "         2.78640433e-01,   2.86293307e-01,   2.94120859e-01,\n",
       "         3.02346487e-01,   3.10596958e-01,   3.19137991e-01,\n",
       "         3.27698830e-01,   3.36477054e-01,   3.45584523e-01,\n",
       "         3.54812127e-01,   3.64179993e-01,   3.73630627e-01,\n",
       "         3.83203753e-01,   3.92836394e-01,   4.02507476e-01,\n",
       "         4.12341239e-01,   4.22592693e-01,   4.32930267e-01,\n",
       "         4.43314446e-01,   4.53996323e-01,   4.65380697e-01,\n",
       "         4.77238281e-01,   4.89137595e-01,   5.01913793e-01,\n",
       "         5.14892317e-01,   5.28082854e-01,   5.41495105e-01,\n",
       "         5.55754877e-01,   5.70051182e-01,   5.84734482e-01,\n",
       "         5.99707430e-01,   6.14817530e-01,   6.30539931e-01,\n",
       "         6.47318513e-01,   6.64732493e-01,   6.83136933e-01,\n",
       "         7.02602269e-01,   7.27038639e-01,   7.51547401e-01,\n",
       "         7.76622984e-01,   8.02099209e-01,   8.27838991e-01,\n",
       "         8.54923143e-01,   8.88007055e-01,   9.22192405e-01,\n",
       "         9.57531411e-01,   1.00000000e+00])"
      ]
     },
     "execution_count": 217,
     "metadata": {},
     "output_type": "execute_result"
    }
   ],
   "source": [
    "stamp = DSTools.get_stamp(sources[8], diffExp)\n",
    "print get_flux_percentage_at(stamp, percent=0.25, plane_mask=\"DETECTED_NEGATIVE\", positive=False)\n",
    "print get_flux_percentage_at(stamp, percent=0.25, plane_mask=\"DETECTED_NEGATIVE\", positive=True)\n",
    "DSTools.plot_cumulative_flux(stamp, \"DETECTED_NEGATIVE\", positive=False)"
   ]
  },
  {
   "cell_type": "code",
   "execution_count": null,
   "metadata": {
    "collapsed": true
   },
   "outputs": [],
   "source": []
  },
  {
   "cell_type": "code",
   "execution_count": 369,
   "metadata": {
    "collapsed": true
   },
   "outputs": [],
   "source": [
    "visits = [845345, 849373, 849686, 850180, 850586, 851060]\n",
    "transient_n = [63, 20, 26, 22, 31, 85]\n",
    "\n",
    "diff_exps = [butler.get(\"deepDiff_differenceExp\", {'visit': visit , 'filter':'r' , 'ccd':14}) for visit in visits]\n",
    "diaSrcs_list = [butler.get(\"deepDiff_diaSrc\", {'visit': visit , 'filter':'r' , 'ccd':14}) for visit in visits]\n",
    "sources_list = []"
   ]
  },
  {
   "cell_type": "code",
   "execution_count": 370,
   "metadata": {
    "collapsed": false
   },
   "outputs": [
    {
     "name": "stdout",
     "output_type": "stream",
     "text": [
      "89\n",
      "27\n",
      "36\n",
      "37\n",
      "46\n",
      "115\n"
     ]
    }
   ],
   "source": [
    "for diaSrcs in  diaSrcs_list:\n",
    "    fluxes, sigmas = DSTools.get_fluxes_and_sigmas(diaSrcs, \"base_PeakLikelihoodFlux_flux\")\n",
    "\n",
    "    m_sigma = np.mean(sigmas)\n",
    "    t_sigma = 5*m_sigma\n",
    "\n",
    "    sources = DSTools.get_sources_over_sigma(diaSrcs, t_sigma, \"base_PeakLikelihoodFlux_flux\")\n",
    "    sources_list.append(sources)\n",
    "    print len(sources)"
   ]
  },
  {
   "cell_type": "code",
   "execution_count": 379,
   "metadata": {
    "collapsed": false
   },
   "outputs": [
    {
     "name": "stdout",
     "output_type": "stream",
     "text": [
      "None\n",
      "None\n"
     ]
    }
   ],
   "source": [
    "ss = sources_list[0]\n",
    "s = ss[63]\n",
    "stamp = DSTools.get_stamp(s, diffExp)\n",
    "stamp_clone = stamp.clone()\n",
    "results = DSTools.detect_diasources(stamp_clone, doSmooth=True)\n",
    "negFps = len(results.fpSets.negative.getFootprints())\n",
    "posFps = len(results.fpSets.positive.getFootprints())\n",
    "pos_flux_at_25 = get_flux_percentage_at(stamp)\n",
    "print pos_flux_at_25\n",
    "print DSTools.get_cumulative_flux(stamp)"
   ]
  },
  {
   "cell_type": "code",
   "execution_count": 385,
   "metadata": {
    "collapsed": false
   },
   "outputs": [],
   "source": [
    "ds9.mtv(stamp)"
   ]
  },
  {
   "cell_type": "code",
   "execution_count": 389,
   "metadata": {
    "collapsed": true
   },
   "outputs": [],
   "source": [
    "dipoles_pos = []\n",
    "dipoles_neg = []\n",
    "maybe_dipoles_pos = []\n",
    "maybe_dipoles_neg = []\n",
    "rejected_dipoles_pos = []\n",
    "rejected_dipoles_neg = []\n",
    "others_pos = []\n",
    "others_neg = []\n",
    "transients = []"
   ]
  },
  {
   "cell_type": "code",
   "execution_count": 390,
   "metadata": {
    "collapsed": false
   },
   "outputs": [
    {
     "name": "stdout",
     "output_type": "stream",
     "text": [
      "\n",
      "  File \"src/image/Image.cc\", line 92, in static lsst::afw::image::ImageBase<PixelT>::_view_t lsst::afw::image::ImageBase<PixelT>::_makeSubView(const Extent2I&, const Extent2I&, const _view_t&) [with PixelT = float; lsst::afw::image::ImageBase<PixelT>::_view_t = boost::gil::image_view<boost::gil::memory_based_2d_locator<boost::gil::memory_based_step_iterator<boost::gil::pixel<float, boost::gil::layout<boost::mpl::vector1<boost::gil::gray_color_t> > >*> > >; lsst::afw::geom::Extent2I = lsst::afw::geom::Extent<int, 2>]\n",
      "    Box2I(Point2I(1855,2226),Extent2I(195,137)) doesn't fit in image 2048x4612 {0}\n",
      "lsst::pex::exceptions::LengthError: 'Box2I(Point2I(1855,2226),Extent2I(195,137)) doesn't fit in image 2048x4612'\n",
      "\n",
      "\n",
      "  File \"src/image/Image.cc\", line 92, in static lsst::afw::image::ImageBase<PixelT>::_view_t lsst::afw::image::ImageBase<PixelT>::_makeSubView(const Extent2I&, const Extent2I&, const _view_t&) [with PixelT = float; lsst::afw::image::ImageBase<PixelT>::_view_t = boost::gil::image_view<boost::gil::memory_based_2d_locator<boost::gil::memory_based_step_iterator<boost::gil::pixel<float, boost::gil::layout<boost::mpl::vector1<boost::gil::gray_color_t> > >*> > >; lsst::afw::geom::Extent2I = lsst::afw::geom::Extent<int, 2>]\n",
      "    Box2I(Point2I(1190,1),Extent2I(860,947)) doesn't fit in image 2048x4612 {0}\n",
      "lsst::pex::exceptions::LengthError: 'Box2I(Point2I(1190,1),Extent2I(860,947)) doesn't fit in image 2048x4612'\n",
      "\n",
      "\n",
      "  File \"src/image/Image.cc\", line 92, in static lsst::afw::image::ImageBase<PixelT>::_view_t lsst::afw::image::ImageBase<PixelT>::_makeSubView(const Extent2I&, const Extent2I&, const _view_t&) [with PixelT = float; lsst::afw::image::ImageBase<PixelT>::_view_t = boost::gil::image_view<boost::gil::memory_based_2d_locator<boost::gil::memory_based_step_iterator<boost::gil::pixel<float, boost::gil::layout<boost::mpl::vector1<boost::gil::gray_color_t> > >*> > >; lsst::afw::geom::Extent2I = lsst::afw::geom::Extent<int, 2>]\n",
      "    Box2I(Point2I(983,0),Extent2I(1068,1091)) doesn't fit in image 2048x4612 {0}\n",
      "lsst::pex::exceptions::LengthError: 'Box2I(Point2I(983,0),Extent2I(1068,1091)) doesn't fit in image 2048x4612'\n",
      "\n",
      "\n",
      "  File \"src/image/Image.cc\", line 92, in static lsst::afw::image::ImageBase<PixelT>::_view_t lsst::afw::image::ImageBase<PixelT>::_makeSubView(const Extent2I&, const Extent2I&, const _view_t&) [with PixelT = float; lsst::afw::image::ImageBase<PixelT>::_view_t = boost::gil::image_view<boost::gil::memory_based_2d_locator<boost::gil::memory_based_step_iterator<boost::gil::pixel<float, boost::gil::layout<boost::mpl::vector1<boost::gil::gray_color_t> > >*> > >; lsst::afw::geom::Extent2I = lsst::afw::geom::Extent<int, 2>]\n",
      "    Box2I(Point2I(1801,2231),Extent2I(250,404)) doesn't fit in image 2048x4612 {0}\n",
      "lsst::pex::exceptions::LengthError: 'Box2I(Point2I(1801,2231),Extent2I(250,404)) doesn't fit in image 2048x4612'\n",
      "\n",
      "\n",
      "  File \"src/image/Image.cc\", line 92, in static lsst::afw::image::ImageBase<PixelT>::_view_t lsst::afw::image::ImageBase<PixelT>::_makeSubView(const Extent2I&, const Extent2I&, const _view_t&) [with PixelT = float; lsst::afw::image::ImageBase<PixelT>::_view_t = boost::gil::image_view<boost::gil::memory_based_2d_locator<boost::gil::memory_based_step_iterator<boost::gil::pixel<float, boost::gil::layout<boost::mpl::vector1<boost::gil::gray_color_t> > >*> > >; lsst::afw::geom::Extent2I = lsst::afw::geom::Extent<int, 2>]\n",
      "    Box2I(Point2I(256,4493),Extent2I(213,122)) doesn't fit in image 2048x4612 {0}\n",
      "lsst::pex::exceptions::LengthError: 'Box2I(Point2I(256,4493),Extent2I(213,122)) doesn't fit in image 2048x4612'\n",
      "\n",
      "\n",
      "  File \"src/image/Image.cc\", line 92, in static lsst::afw::image::ImageBase<PixelT>::_view_t lsst::afw::image::ImageBase<PixelT>::_makeSubView(const Extent2I&, const Extent2I&, const _view_t&) [with PixelT = float; lsst::afw::image::ImageBase<PixelT>::_view_t = boost::gil::image_view<boost::gil::memory_based_2d_locator<boost::gil::memory_based_step_iterator<boost::gil::pixel<float, boost::gil::layout<boost::mpl::vector1<boost::gil::gray_color_t> > >*> > >; lsst::afw::geom::Extent2I = lsst::afw::geom::Extent<int, 2>]\n",
      "    Box2I(Point2I(954,0),Extent2I(1097,1019)) doesn't fit in image 2048x4612 {0}\n",
      "lsst::pex::exceptions::LengthError: 'Box2I(Point2I(954,0),Extent2I(1097,1019)) doesn't fit in image 2048x4612'\n",
      "\n",
      "\n",
      "  File \"src/image/Image.cc\", line 92, in static lsst::afw::image::ImageBase<PixelT>::_view_t lsst::afw::image::ImageBase<PixelT>::_makeSubView(const Extent2I&, const Extent2I&, const _view_t&) [with PixelT = float; lsst::afw::image::ImageBase<PixelT>::_view_t = boost::gil::image_view<boost::gil::memory_based_2d_locator<boost::gil::memory_based_step_iterator<boost::gil::pixel<float, boost::gil::layout<boost::mpl::vector1<boost::gil::gray_color_t> > >*> > >; lsst::afw::geom::Extent2I = lsst::afw::geom::Extent<int, 2>]\n",
      "    Box2I(Point2I(1803,2341),Extent2I(248,159)) doesn't fit in image 2048x4612 {0}\n",
      "lsst::pex::exceptions::LengthError: 'Box2I(Point2I(1803,2341),Extent2I(248,159)) doesn't fit in image 2048x4612'\n",
      "\n"
     ]
    }
   ],
   "source": [
    "for sources, transient, diffExp in zip(sources_list, transient_n, diff_exps):\n",
    "    for i, s in enumerate(sources):\n",
    "        try:\n",
    "            stamp = DSTools.get_stamp(s, diffExp)\n",
    "            stamp_clone = stamp.clone()\n",
    "            results = DSTools.detect_diasources(stamp_clone, doSmooth=True)\n",
    "            negFps = len(results.fpSets.negative.getFootprints())\n",
    "            posFps = len(results.fpSets.positive.getFootprints())\n",
    "            pos_flux_at_25 = get_flux_percentage_at(stamp)\n",
    "            neg_flux_at_25 = get_flux_percentage_at(stamp, plane_mask=\"DETECTED_NEGATIVE\")\n",
    "\n",
    "            if i == transient:            \n",
    "                transients.append(pos_flux_at_25)\n",
    "            elif negFps >0 and posFps>0:\n",
    "                if DSTools.get_naive_dipole_probability(s) == 1.0:\n",
    "                    dipoles_pos.append(pos_flux_at_25)\n",
    "                    dipoles_neg.append(neg_flux_at_25)\n",
    "                elif np.isnan(s.get(\"ip_diffim_PsfDipoleFlux_pos_flux\")) or np.isnan(s.get(\"ip_diffim_PsfDipoleFlux_neg_flux\")):\n",
    "\n",
    "                    maybe_dipoles_pos.append(pos_flux_at_25)\n",
    "                    maybe_dipoles_neg.append(neg_flux_at_25)\n",
    "                else:\n",
    "                    rejected_dipoles_pos.append(pos_flux_at_25)\n",
    "                    rejected_dipoles_neg.append(neg_flux_at_25)\n",
    "            else: \n",
    "                #print i\n",
    "                #print \"by default pos\", pos_flux_at_25\n",
    "                #print \"by default neg\", neg_flux_at_25\n",
    "                if pos_flux_at_25 is not None:\n",
    "\n",
    "                    others_pos.append(pos_flux_at_25)\n",
    "                else:\n",
    "\n",
    "                    others_neg.append(neg_flux_at_25)\n",
    "\n",
    "\n",
    "        except Exception, e:\n",
    "            print e"
   ]
  },
  {
   "cell_type": "code",
   "execution_count": 391,
   "metadata": {
    "collapsed": false
   },
   "outputs": [
    {
     "name": "stdout",
     "output_type": "stream",
     "text": [
      "[0.70825108007230586, 0.51643601324461297, 0.79830809234063871, 0.62999844650531733, 0.777458922501578, 0.71849006638634583, 0.51179359775018884, 0.72142635619441842, 0.69328380785591814, 0.79417423192674463, 0.57804872841404831, 0.63063338590631668, 0.72911833879955268, 0.84321953178886333, 0.71408446679480264, 0.81401816380646075, 0.68494931235092171, 0.80196671193022673, 0.73364743603231375, 0.69351615131830924, 0.81204943937963614, 0.7338905266072081, 0.66546098282038568, 0.69905352110372343, 0.57312580760771892, 0.68716901466942759, 0.67310222733448399, 0.76531688413919974, 0.74307953243614522, 0.89853909154298583, 0.73487735131980825, 0.80142079729099658, 0.92325037546172783, 0.65360954312234076, 0.66570716345881364, 0.65402731047158968, 0.87288094390445525, 0.70849991647005139, 0.70594760782735289, 0.65123890025509801, 0.69082785027097704, 0.57793968445059485, 0.5670719765281953, 0.46052609597632288, 0.55917626313205226, 0.5223720782111495, 0.66565494184740559, 0.58983283937301512, 0.66162582288637717, 0.83769274717433972, 0.56728150629666696, 0.60610436391791278, 0.87235350214138641, 0.71515005202227389]\n",
      "[0.7719103999744491, 0.51541037480974694, 0.83000921999798716, 0.60863900187053799, 0.87927889101288403, 0.76094512522779145, 0.54104599992767821, 0.77261983951527813, 0.72372628004586859, 0.84554177954901966, 0.61852499408206341, 0.77859654522848709, 0.78588922191825972, 0.89551422876100761, 0.73203278580929598, 0.84576594678691919, 0.71456398729320192, 0.80778470827091486, 0.81777316073634554, 0.50203632298354495, 0.85943512669844602, 0.74906386212900222, 0.69799988123190015, 0.69135644738847168, 0.63593569035578035, 0.7039263154271983, 0.67832700543361413, 0.79210342142512358, 0.82421791608824224, 0.94150971418237128, 0.82326520363900313, 0.8537510097958515, 0.91425478392129989, 0.66849261618549738, 0.72670553020457218, 0.69460144576858296, 0.83751603771061744, 0.80785955217088701, 0.82686088880544872, 0.75405102725446171, 0.56825249088981822, 0.4132471047941576, 0.59110937179767653, 0.64913958848457665, 0.68232506119462988, 0.60457510308615947, 0.5239967934076597, 0.65200209639179951, 0.78541295313308779, 0.8889786298750042, 0.64832525719796141, 0.72948710124262606, 0.91882510804647899, 0.76703803596868081]\n",
      "[0.91112435959728111, 0.63420417779673466, 0.54721291556841689, 0.90954663171341388, 0.9726314982806481, 0.95293680381507462, 0.95989644432592336, 0.92239409501405434, 0.93169757161072198, 0.94883710972211044, 0.92586801586166523, 0.96272753650917153, 0.9393342264543515, 0.93171632179470443, 0.93504639316905747, 0.9293840862797883, 0.39409856174118862, 0.66565494184740559, 0.79450687940505849, 0.42249777946816269]\n",
      "[0.93512492167536876, 0.73070788817129062, 0.8983816954881767, 0.54548296112493411, 0.94081088342430119, 0.47220110162341211, 0.65815010156577003, 0.53594791594028113, 0.95720739533889065, 0.92561031833161089, 0.92908426848058079, 0.98053139216951712, 0.52184138668546054, 0.66419486844345332, 0.92203935040755469, 0.83209872054567402, 0.86736323238157909, 0.5239967934076597, 0.91323578304648934, 0.95054759702874847]\n",
      "[0.76941023103081108, 0.89165279609803794, 0.67485356030259047, 0.75187084396422144, 0.94835779303150858, 0.87742419329148502, 0.93322553440279488, 0.80776182031919264, 0.92901171660746351, 0.94058264033056094, 0.93324715360037425, 0.94981655669910392, 0.95048305932960286, 0.69938521445806701, 0.92393264578836076, 0.9228633247795216, 0.89620538360096824, 0.83302687155864397, 0.86195119569496725, 0.88432045706174622, 0.77868669068653573, 0.83347033752468147, 0.75174218052563035, 0.73654601361927896, 0.63711881054515329, 0.60417664029322848, 0.55728364209816061, 0.50876733439061717, 0.42927135848302678, 0.87428030423176861]\n",
      "[0.84598255317592075, 0.94960635432846008, 0.96144411732956836, 0.8535168069236394, 0.94969621113261549, 0.91499120735352979, 0.95732069291688826, 0.84907826633190364, 0.93247492862885228, 0.92788779641354457, 0.93602450645916246, 0.97273027404660317, 0.95821979047781158, 0.75704702326595186, 0.44976130505092249, 0.54094882636963215, 0.9163534887115069, 0.80298716946559456, 0.76892068475514286, 0.65234788628264351, 0.79552508967389213, 0.77157242471346432, 0.86697876183233546, 0.82286767887834034, 0.67776703588578724, 0.64057263496158534, 0.98486584432611979, 0.89817985839905423, 0.91585551447839308, 0.92695473105067783]\n",
      "[0.59048031007752366, 0.66377453221778349, 0.55020271994364101, 0.52382221752620717, 0.6816924616315323, 0.68824719454701766, 0.70570458355946375, 0.68389781585953247, 0.65783162581296617, 0.68276851398779881, 0.61519759218037495, 0.66090246736420855, 0.6513959958137383, 0.64158551960479659, 0.59109152654613317, 0.56536973424309234, 0.5310845779135509, 0.67382967717907971, 0.61278566371400878, 0.66486914973810751, 0.67458729130867601, 0.63788811195622686, 0.64348976275811898, 0.57208888923176127, 0.64508334752683028, 0.65217874766653516, 0.62988646749592081, 0.64148205194825514, 0.66422791497522105, 0.52427268384028147, 0.45329551223949649, 0.51167383022062207, 0.5791190439503715, 0.55787544928319899, 0.54133097082281267, 0.59342307511758075, 0.48359402031058085, 0.63930698471682923, 0.47726517242713162, 0.61094612908650991, 0.55828608592388385, 0.71860253141046759, 0.64267322013892347, 0.47517220471026422, 0.49685393729160421, 0.57047799800088561, 0.62473766421027732, 0.5403252165902469, 0.51545005513434528, 0.94779421740930303, 0.95717715117315694, 0.94683390298037906, 0.59604566787353397, 0.95530106906927037, 0.95178586578717572, 0.57386126354697597, 0.95048575280213066, 0.75705236507049156, 0.58188334507735506, 0.62681485451013663, 0.50511817302301942, 0.93739025541303989, 0.51043480359448834, 0.95168032167797789, 0.53111735576289743, 0.78348016189990266, 0.68941964550045298, 0.59807279694985283, 0.50053314747742728, 0.91766542649689598, 0.58035870541434997, 0.56242095944684256, 0.543893943187856, 0.68956364801658643, 0.63801829546140654, 0.62308457774987969, 0.59817996131620532, 0.63928269280861683, 0.63340740668189932, 0.71820575711895995, 0.59966245477753399, 0.61995239699383409, 0.6213230027190827, 0.66344778506834923, 0.63151325277391535, 0.57542096192566916, 0.61340624757480455, 0.52947652132684619, 0.53013371827475386, 0.73018490735494757, 0.61488131502635934, 0.62442595484649965, 0.669876810727845, 0.73362093580519394, 0.63552324378841396, 0.0, 0.74186356510235962, 0.6133236895896389, 0.75263180750222536, 0.76279342792481153, 0.65237079901808759, 0.68860567535549921, 0.61381435331327405, 0.63990595679220297, 0.58491056589116874, 0.64079939614839532, 0.61528956256174072, 0.68005342334336794, 0.65591266872716147, 0.74036987331885107, 0.0, 0.74673072251099359, 0.72523140409156661, 0.68827502154022413, 0.63201813210214042, 0.65253350905090779, 0.76535747616424354, 0.70261593134047584, 0.6011477022839502, 0.73382943394410338, 0.74423408025356819, 0.76102587329641114, 0.60785990535182977, 0.64142641414656931, 0.66933522304805904, 0.58414198912597504, 0.79956868612075371, 0.55000921718031748, 0.59087412999474065, 0.44239958930189627, 0.60351883862763611, 0.54198536596986258, 0.55479430242720951, 0.66555318204484815, 0.52860466167914466, 0.50589776421458699, 0.68060452780052327, 0.69590340161991193, 0.58682502194351704, 0.6206374206010028, 0.58622835453486932, 0.53960916072024179, 0.5442894108617562, 0.58900691021673968, 0.68208388508003726, 0.6127490077744403, 0.48841654981524063, 0.43713041829089572, 0.48896055397876592, 0.58973013967421073, 0.53669639815956349, 0.54647006146664778]\n",
      "[0.29283439677662382, 0.35958711013299127, 0.51453410784072773, 0.56257108084980845, 0.59303322933146552, 0.4713412221828206, 0.52291534902105274, 0.50493761507760604, 0.54505443956170174, 0.54695663262278582, 0.50976444148368016, 0.46276005886965987, 0.47363405455238361, 0.50653768475105954, 0.54254097658596478, 0.46358018035518567, 0.50744935732739549, 0.60524422765546104, 0.51689096671889501, 0.49285497058467176, 0.56543413054283054, 0.45347047279468744, 0.55068258959139538, 0.57041795398139372, 0.50405985168967871, 0.5519849893471791, 0.47595181411083121, 0.63495254605115392, 0.47141922797269653, 0.52205522989377962, 0.56517549805619394, 0.48002993209527711, 0.49092565877625227, 0.48381122682154232, 0.54089382039064127, 0.50710421037182718, 0.51090320245763832, 0.57903601086676348, 0.58983596665963689, 0.56026073593250758, 0.46072207359229667, 0.61828541403856774, 0.52665312594859659, 0.48144174094788295, 0.49273413563713253, 0.4619486833161689, 0.46717114620594158, 0.46061534585778752, 0.66228451694993007, 0.59108551480492488, 0.5091592520479743, 0.50999802144539341, 0.46487325913731858, 0.60192376111827428, 0.54030693566130528, 0.47156270765243447, 0.56383081478895392, 0.42590718832242247, 0.45715496208704409, 0.53498310981971353, 0.50118052858593942, 0.4691604079832975, 0.56695137452621136, 0.38674047227838404, 0.47525681762476135, 0.42031120485609097, 0.5079100439289459, 0.65157906501982965, 0.46199831984818263, 0.48110666932807578, 0.30528656868116988, 0.38356311908577589, 0.50424774114935078, 0.39397763561584909, 0.43602786631471357, 0.41514731235351265, 0.48199288385613603, 0.92502556768223243, 0.48164238254249381, 0.52966910402561418, 0.59963187127222195]\n",
      "[0.52631306048498394, 0.95040064464655605, 0.71246185740110668, 0.63716870569514317, 0.61072212775659573, 0.58797682386826899]\n"
     ]
    }
   ],
   "source": [
    "print dipoles_pos \n",
    "print dipoles_neg \n",
    "print maybe_dipoles_pos \n",
    "print maybe_dipoles_neg \n",
    "print rejected_dipoles_pos \n",
    "print rejected_dipoles_neg \n",
    "print others_pos \n",
    "print others_neg \n",
    "print transients "
   ]
  },
  {
   "cell_type": "code",
   "execution_count": 400,
   "metadata": {
    "collapsed": false
   },
   "outputs": [
    {
     "data": {
      "image/png": "[encoded data removed]",
      "text/plain": [
       "<matplotlib.figure.Figure at 0x7fd649101890>"
      ]
     },
     "metadata": {},
     "output_type": "display_data"
    }
   ],
   "source": [
    "size = 10\n",
    "p = 'b'\n",
    "n = 'r'\n",
    "\n",
    "plt.figure(figsize=(10,10))\n",
    "plt.scatter([1 for val in dipoles_pos], dipoles_pos, s=size, c=p, lw=0)\n",
    "plt.scatter([1 for val in dipoles_neg], dipoles_neg, s=size, c=n, lw=0)\n",
    "\n",
    "plt.scatter([2 for val in maybe_dipoles_pos], maybe_dipoles_pos , s=size, c=p, lw=0)\n",
    "plt.scatter([2 for val in maybe_dipoles_neg], maybe_dipoles_neg , s=size, c=n, lw=0)\n",
    "\n",
    "plt.scatter([3 for val in rejected_dipoles_pos], rejected_dipoles_pos , s=size, c=p, lw=0)\n",
    "plt.scatter([3 for val in rejected_dipoles_neg], rejected_dipoles_neg , s=size, c=n, lw=0)\n",
    "\n",
    "plt.scatter([4 for val in others_pos], others_pos , s=size, c=p, lw=0)\n",
    "plt.scatter([4 for val in others_neg], others_neg , s=size, c=n, lw=0)\n",
    "\n",
    "plt.scatter([5 for val in transients], transients, s=size, lw=0)\n",
    "\n",
    "plt.xticks([1,2,3,4, 5], [\"dipoles\", \"uncertain dipoles\", \"rejected dipoles\",  \"others\", \"transients\"])\n",
    "\n",
    "plt.yticks(np.arange(0, 1.1, 0.1))\n",
    "\n",
    "axes = plt.axes()\n",
    "axes.grid(True)\n",
    "\n",
    "positive_medians = [np.median(dipoles_pos), np.median(maybe_dipoles_pos), np.median(rejected_dipoles_pos), np.median(others_pos), np.median(transients)]\n",
    "negative_medians = [np.median(dipoles_neg), np.median(maybe_dipoles_neg), np.median(rejected_dipoles_neg), np.median(others_neg)]\n",
    "\n",
    "\n",
    "plt.scatter([i+1 for i in range(len(positive_medians))], positive_medians, marker=\"^\", s=size*10, c='y', lw=0)\n",
    "plt.scatter([i+1 for i in range(len(negative_medians))], negative_medians, marker=\"^\", s=size*10, c='g', lw=0)\n",
    "\n",
    "plt.show()"
   ]
  },
  {
   "cell_type": "code",
   "execution_count": 375,
   "metadata": {
    "collapsed": false
   },
   "outputs": [
    {
     "name": "stdout",
     "output_type": "stream",
     "text": [
      "0.627994341328\n",
      "0.653190149576\n"
     ]
    }
   ],
   "source": [
    "print np.median(dipoles_pos)\n",
    "print np.median(dipoles_neg)"
   ]
  },
  {
   "cell_type": "code",
   "execution_count": null,
   "metadata": {
    "collapsed": true
   },
   "outputs": [],
   "source": []
  }
 ],
 "metadata": {
  "kernelspec": {
   "display_name": "Python 2",
   "language": "python",
   "name": "python2"
  },
  "language_info": {
   "codemirror_mode": {
    "name": "ipython",
    "version": 2
   },
   "file_extension": ".py",
   "mimetype": "text/x-python",
   "name": "python",
   "nbconvert_exporter": "python",
   "pygments_lexer": "ipython2",
   "version": "2.7.11"
  }
 },
 "nbformat": 4,
 "nbformat_minor": 0
}
