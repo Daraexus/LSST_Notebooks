{
 "metadata": {
  "name": ""
 },
 "nbformat": 3,
 "nbformat_minor": 0,
 "worksheets": [
  {
   "cells": [
    {
     "cell_type": "code",
     "collapsed": false,
     "input": [
      "import lsst.daf.persistence as dafPersist\n",
      "\n",
      "from lsst.daf.persistence import StorageList, LogicalLocation, ReadProxy, ButlerSubset, ButlerDataRef\n",
      "\n",
      "\n",
      "import lsst.daf.base as dafBase\n",
      "from lsst.meas.astrom import Astrometry\n",
      "import lsst.afw.cameraGeom as cg\n",
      "import lsst.afw.geom as afwGeom\n",
      "import math\n",
      "import lsst.afw.display.ds9 as ds9\n",
      "import lsst.afw.image as afwImg\n",
      "import lsst.afw.table as afwTable\n",
      "\n",
      "import lsst.pipe.tasks.processCoadd as CoaddProcesser\n",
      "import lsst.pipe.tasks.processCcd as Processer\n",
      "import lsst.pipe.tasks.makeSkyMap as SkyMapper\n",
      "import lsst.pipe.tasks.reportPatches as PatchReporter\n",
      "import lsst.pipe.tasks.makeCoaddTempExp as TempexpCoadder\n",
      "import lsst.pipe.tasks.assembleCoadd as Assembler\n",
      "\n",
      "import glob\n",
      "import os\n",
      "import subprocess\n",
      "import sys\n",
      "\n",
      "DIR1=\"/renoir_data_00/jpreyes/stacks/notebook_files/data/CFHTLS\"\n",
      "DIR2=\"/renoir_data_00/jpreyes/stacks/notebook_files/data/CFHTLS_S1\"\n",
      "DIR3=\"/renoir_data_00/jpreyes/stacks/notebook_files/data/CFHTLS_S3\"\n",
      "DIR4=\"/renoir_data_00/jpreyes/stacks/notebook_files/data/CFHTLS_S4\"\n",
      "DIR_SUB1 = \"/renoir_data_00/jpreyes/stacks/notebook_files/data/CFHTLS_SUB1\"\n",
      "DIR_SUB2 = \"/renoir_data_00/jpreyes/stacks/notebook_files/data/CFHTLS_SUB2\"\n",
      "DIR_SUB3 = \"/renoir_data_00/jpreyes/stacks/notebook_files/data/CFHTLS_SUB3\"\n",
      "DIR_SUB4 = \"/renoir_data_00/jpreyes/stacks/notebook_files/data/CFHTLS_SUB4\"\n",
      "DIR_SUB5 = \"/renoir_data_00/jpreyes/stacks/notebook_files/data/CFHTLS_SUB5\"\n",
      "\n",
      "DATADIR=\"/renoir_data_02/jpreyes/lsst_data/data/CFHTLS\"\n"
     ],
     "language": "python",
     "metadata": {},
     "outputs": [],
     "prompt_number": 1
    },
    {
     "cell_type": "markdown",
     "metadata": {},
     "source": [
      "It is important ro remember that, by default, the method looks within deepCoadResults, so it is necessary to change the out path manually..."
     ]
    },
    {
     "cell_type": "code",
     "collapsed": false,
     "input": [
      "DATADIRM4=\"/renoir_data_02/jpreyes/lsst_data/data/CFHTLS-4\"\n",
      "DATADIRM3=\"/renoir_data_02/jpreyes/lsst_data/data/CFHTLS-3\"\n",
      "DATADIRM2=\"/renoir_data_02/jpreyes/lsst_data/data/CFHTLS-2\"\n",
      "DATADIRM1=\"/renoir_data_02/jpreyes/lsst_data/data/CFHTLS-1\"\n",
      "DATADIR=\"/renoir_data_02/jpreyes/lsst_data/data/CFHTLS+0\"\n",
      "DATADIRP1=\"/renoir_data_02/jpreyes/lsst_data/data/CFHTLS+1\"\n",
      "DATADIRP2=\"/renoir_data_02/jpreyes/lsst_data/data/CFHTLS+1\"\n",
      "DATADIRP3=\"/renoir_data_02/jpreyes/lsst_data/data/CFHTLS+3\"\n",
      "\n",
      "coaddSourcesM4= ShowCoaddSources(DATADIRM4, '33,15', 'r', 1, 1)\n",
      "coaddSourcesM3= ShowCoaddSources(DATADIRM3, '33,15', 'r', 1, 2)\n",
      "coaddSourcesM2= ShowCoaddSources(DATADIRM2, '33,15', 'r', 1, 3)\n",
      "coaddSourcesM1= ShowCoaddSources(DATADIRM1, '33,15', 'r', 1, 4)\n",
      "\n",
      "coaddSources = ShowCoaddSources(DATADIR, '33,15', 'r', 1, 5)\n",
      "\n",
      "coaddSourcesP1= ShowCoaddSources(DATADIRP1, '33,15', 'r', 1, 6)\n",
      "coaddSourcesP2= ShowCoaddSources(DATADIRP2, '33,15', 'r', 1, 7)\n",
      "#coaddSources4= ShowCoaddSources(DATADIR3, '33,15', 'r', 1, 4)\n",
      "ds9.ds9Cmd(cmd=\"tile\")"
     ],
     "language": "python",
     "metadata": {},
     "outputs": [
      {
       "output_type": "stream",
       "stream": "stdout",
       "text": [
        "{'run': <type 'int'>, 'object': <type 'str'>, 'tract': <type 'int'>, 'date': <type 'str'>, 'path': <type 'str'>, 'extension': <type 'int'>, 'skyTile': <type 'int'>, 'visit': <type 'int'>, 'patch': <type 'str'>, 'filter': <type 'str'>, 'field': <type 'int'>, 'state': <type 'str'>, 'runId': <type 'str'>, 'ccd': <type 'int'>, 'camcol': <type 'int'>, 'sensor': <type 'str'>, 'raft': <type 'str'>}\n",
        "\n"
       ]
      },
      {
       "output_type": "stream",
       "stream": "stdout",
       "text": [
        "(214.61, 52.811)\n",
        "{'run': <type 'int'>, 'object': <type 'str'>, 'tract': <type 'int'>, 'date': <type 'str'>, 'path': <type 'str'>, 'extension': <type 'int'>, 'skyTile': <type 'int'>, 'visit': <type 'int'>, 'patch': <type 'str'>, 'filter': <type 'str'>, 'field': <type 'int'>, 'state': <type 'str'>, 'runId': <type 'str'>, 'ccd': <type 'int'>, 'camcol': <type 'int'>, 'sensor': <type 'str'>, 'raft': <type 'str'>}"
       ]
      },
      {
       "output_type": "stream",
       "stream": "stdout",
       "text": [
        "\n",
        "\n"
       ]
      },
      {
       "output_type": "stream",
       "stream": "stdout",
       "text": [
        "(214.61, 52.811)\n",
        "{'run': <type 'int'>, 'object': <type 'str'>, 'tract': <type 'int'>, 'date': <type 'str'>, 'path': <type 'str'>, 'extension': <type 'int'>, 'skyTile': <type 'int'>, 'visit': <type 'int'>, 'patch': <type 'str'>, 'filter': <type 'str'>, 'field': <type 'int'>, 'state': <type 'str'>, 'runId': <type 'str'>, 'ccd': <type 'int'>, 'camcol': <type 'int'>, 'sensor': <type 'str'>, 'raft': <type 'str'>}"
       ]
      },
      {
       "output_type": "stream",
       "stream": "stdout",
       "text": [
        "\n",
        "\n"
       ]
      },
      {
       "output_type": "stream",
       "stream": "stdout",
       "text": [
        "(214.61, 52.811)\n",
        "{'run': <type 'int'>, 'object': <type 'str'>, 'tract': <type 'int'>, 'date': <type 'str'>, 'path': <type 'str'>, 'extension': <type 'int'>, 'skyTile': <type 'int'>, 'visit': <type 'int'>, 'patch': <type 'str'>, 'filter': <type 'str'>, 'field': <type 'int'>, 'state': <type 'str'>, 'runId': <type 'str'>, 'ccd': <type 'int'>, 'camcol': <type 'int'>, 'sensor': <type 'str'>, 'raft': <type 'str'>}"
       ]
      },
      {
       "output_type": "stream",
       "stream": "stdout",
       "text": [
        "\n",
        "\n"
       ]
      },
      {
       "output_type": "stream",
       "stream": "stdout",
       "text": [
        "(214.61, 52.811)\n",
        "{'run': <type 'int'>, 'object': <type 'str'>, 'tract': <type 'int'>, 'date': <type 'str'>, 'path': <type 'str'>, 'extension': <type 'int'>, 'skyTile': <type 'int'>, 'visit': <type 'int'>, 'patch': <type 'str'>, 'filter': <type 'str'>, 'field': <type 'int'>, 'state': <type 'str'>, 'runId': <type 'str'>, 'ccd': <type 'int'>, 'camcol': <type 'int'>, 'sensor': <type 'str'>, 'raft': <type 'str'>}"
       ]
      },
      {
       "output_type": "stream",
       "stream": "stdout",
       "text": [
        "\n",
        "\n"
       ]
      },
      {
       "output_type": "stream",
       "stream": "stdout",
       "text": [
        "(214.61, 52.811)\n",
        "{'run': <type 'int'>, 'object': <type 'str'>, 'tract': <type 'int'>, 'date': <type 'str'>, 'path': <type 'str'>, 'extension': <type 'int'>, 'skyTile': <type 'int'>, 'visit': <type 'int'>, 'patch': <type 'str'>, 'filter': <type 'str'>, 'field': <type 'int'>, 'state': <type 'str'>, 'runId': <type 'str'>, 'ccd': <type 'int'>, 'camcol': <type 'int'>, 'sensor': <type 'str'>, 'raft': <type 'str'>}"
       ]
      },
      {
       "output_type": "stream",
       "stream": "stdout",
       "text": [
        "\n",
        "\n"
       ]
      },
      {
       "output_type": "stream",
       "stream": "stdout",
       "text": [
        "(214.61, 52.811)\n",
        "{'run': <type 'int'>, 'object': <type 'str'>, 'tract': <type 'int'>, 'date': <type 'str'>, 'path': <type 'str'>, 'extension': <type 'int'>, 'skyTile': <type 'int'>, 'visit': <type 'int'>, 'patch': <type 'str'>, 'filter': <type 'str'>, 'field': <type 'int'>, 'state': <type 'str'>, 'runId': <type 'str'>, 'ccd': <type 'int'>, 'camcol': <type 'int'>, 'sensor': <type 'str'>, 'raft': <type 'str'>}"
       ]
      },
      {
       "output_type": "stream",
       "stream": "stdout",
       "text": [
        "\n",
        "\n"
       ]
      },
      {
       "output_type": "stream",
       "stream": "stdout",
       "text": [
        "(214.61, 52.811)\n"
       ]
      }
     ],
     "prompt_number": 45
    },
    {
     "cell_type": "code",
     "collapsed": false,
     "input": [
      "sources1 = ShowSources(DATADIR, 994755, 00, 'r', 1)\n",
      "sources2 = ShowSources(DIR2, 996230, 00, 'r', 2) \n",
      "sources3 = ShowSources(DIR3, 996232, 00, 'r', 3) \n",
      "sources4 = ShowSources(DIR4, 996233, 00, 'r', 4) \n",
      "ds9.ds9Cmd(cmd=\"tile\")"
     ],
     "language": "python",
     "metadata": {},
     "outputs": [
      {
       "output_type": "stream",
       "stream": "stdout",
       "text": [
        "<class 'lsst.daf.persistence.butler.Butler'>\n",
        "<lsst.afw.cameraGeom.cameraGeomLib.Detector; proxy of <Swig Object of type 'boost::shared_ptr< lsst::afw::cameraGeom::Detector > *' at 0x728a540> >"
       ]
      },
      {
       "output_type": "stream",
       "stream": "stdout",
       "text": [
        "\n",
        "(1023.5, 2305.5)"
       ]
      },
      {
       "ename": "FitsError",
       "evalue": "\n  File \"src/fits.cc\", line 1071, in lsst::afw::fits::Fits::Fits(const std::string&, const std::string&, int)\n    cfitsio error: could not open the named file (104) : Opening file '/renoir_data_02/jpreyes/lsst_data/data/CFHTLS/output/calexp/08AL01/D3/2008-05-28/r/calexp-994755-00.fits' with mode 'r' {0}\nlsst::afw::fits::FitsError: 'cfitsio error: could not open the named file (104) : Opening file '/renoir_data_02/jpreyes/lsst_data/data/CFHTLS/output/calexp/08AL01/D3/2008-05-28/r/calexp-994755-00.fits' with mode 'r''\n",
       "output_type": "pyerr",
       "traceback": [
        "\u001b[1;31m---------------------------------------------------------------------------\u001b[0m\n\u001b[1;31mFitsError\u001b[0m                                 Traceback (most recent call last)",
        "\u001b[1;32m<ipython-input-25-ed55568ea2ef>\u001b[0m in \u001b[0;36m<module>\u001b[1;34m()\u001b[0m\n\u001b[1;32m----> 1\u001b[1;33m \u001b[0msources1\u001b[0m \u001b[1;33m=\u001b[0m \u001b[0mShowSources\u001b[0m\u001b[1;33m(\u001b[0m\u001b[0mDATADIR\u001b[0m\u001b[1;33m,\u001b[0m \u001b[1;36m994755\u001b[0m\u001b[1;33m,\u001b[0m \u001b[1;36m00\u001b[0m\u001b[1;33m,\u001b[0m \u001b[1;34m'r'\u001b[0m\u001b[1;33m,\u001b[0m \u001b[1;36m1\u001b[0m\u001b[1;33m)\u001b[0m\u001b[1;33m\u001b[0m\u001b[0m\n\u001b[0m\u001b[0;32m      2\u001b[0m \u001b[0msources2\u001b[0m \u001b[1;33m=\u001b[0m \u001b[0mShowSources\u001b[0m\u001b[1;33m(\u001b[0m\u001b[0mDIR2\u001b[0m\u001b[1;33m,\u001b[0m \u001b[1;36m996230\u001b[0m\u001b[1;33m,\u001b[0m \u001b[1;36m00\u001b[0m\u001b[1;33m,\u001b[0m \u001b[1;34m'r'\u001b[0m\u001b[1;33m,\u001b[0m \u001b[1;36m2\u001b[0m\u001b[1;33m)\u001b[0m\u001b[1;33m\u001b[0m\u001b[0m\n\u001b[0;32m      3\u001b[0m \u001b[0msources3\u001b[0m \u001b[1;33m=\u001b[0m \u001b[0mShowSources\u001b[0m\u001b[1;33m(\u001b[0m\u001b[0mDIR3\u001b[0m\u001b[1;33m,\u001b[0m \u001b[1;36m996232\u001b[0m\u001b[1;33m,\u001b[0m \u001b[1;36m00\u001b[0m\u001b[1;33m,\u001b[0m \u001b[1;34m'r'\u001b[0m\u001b[1;33m,\u001b[0m \u001b[1;36m3\u001b[0m\u001b[1;33m)\u001b[0m\u001b[1;33m\u001b[0m\u001b[0m\n\u001b[0;32m      4\u001b[0m \u001b[0msources4\u001b[0m \u001b[1;33m=\u001b[0m \u001b[0mShowSources\u001b[0m\u001b[1;33m(\u001b[0m\u001b[0mDIR4\u001b[0m\u001b[1;33m,\u001b[0m \u001b[1;36m996233\u001b[0m\u001b[1;33m,\u001b[0m \u001b[1;36m00\u001b[0m\u001b[1;33m,\u001b[0m \u001b[1;34m'r'\u001b[0m\u001b[1;33m,\u001b[0m \u001b[1;36m4\u001b[0m\u001b[1;33m)\u001b[0m\u001b[1;33m\u001b[0m\u001b[0m\n\u001b[0;32m      5\u001b[0m \u001b[0mds9\u001b[0m\u001b[1;33m.\u001b[0m\u001b[0mds9Cmd\u001b[0m\u001b[1;33m(\u001b[0m\u001b[0mcmd\u001b[0m\u001b[1;33m=\u001b[0m\u001b[1;34m\"tile\"\u001b[0m\u001b[1;33m)\u001b[0m\u001b[1;33m\u001b[0m\u001b[0m\n",
        "\u001b[1;32m<ipython-input-5-900d254ec690>\u001b[0m in \u001b[0;36mShowSources\u001b[1;34m(DATADIR, visit, ccd, filter, nFrame)\u001b[0m\n\u001b[0;32m     37\u001b[0m     \u001b[0mdetCenter\u001b[0m \u001b[1;33m=\u001b[0m \u001b[0mccd\u001b[0m\u001b[1;33m.\u001b[0m\u001b[0mgetCenter\u001b[0m\u001b[1;33m(\u001b[0m\u001b[0mcg\u001b[0m\u001b[1;33m.\u001b[0m\u001b[0mPIXELS\u001b[0m\u001b[1;33m)\u001b[0m\u001b[1;33m.\u001b[0m\u001b[0mgetPoint\u001b[0m\u001b[1;33m(\u001b[0m\u001b[1;33m)\u001b[0m\u001b[1;33m\u001b[0m\u001b[0m\n\u001b[0;32m     38\u001b[0m     \u001b[1;32mprint\u001b[0m \u001b[0mdetCenter\u001b[0m\u001b[1;33m\u001b[0m\u001b[0m\n\u001b[1;32m---> 39\u001b[1;33m     \u001b[0mdetCenterCoord\u001b[0m \u001b[1;33m=\u001b[0m \u001b[0mcalexp\u001b[0m\u001b[1;33m.\u001b[0m\u001b[0mgetWcs\u001b[0m\u001b[1;33m(\u001b[0m\u001b[1;33m)\u001b[0m\u001b[1;33m.\u001b[0m\u001b[0mpixelToSky\u001b[0m\u001b[1;33m(\u001b[0m\u001b[0mdetCenter\u001b[0m\u001b[1;33m)\u001b[0m\u001b[1;33m\u001b[0m\u001b[0m\n\u001b[0m\u001b[0;32m     40\u001b[0m     \u001b[0mrefCat\u001b[0m \u001b[1;33m=\u001b[0m \u001b[0mastrom\u001b[0m\u001b[1;33m.\u001b[0m\u001b[0mgetReferenceSources\u001b[0m\u001b[1;33m(\u001b[0m\u001b[0mdetCenterCoord\u001b[0m\u001b[1;33m.\u001b[0m\u001b[0mgetLongitude\u001b[0m\u001b[1;33m(\u001b[0m\u001b[1;33m)\u001b[0m\u001b[1;33m,\u001b[0m \u001b[0mdetCenterCoord\u001b[0m\u001b[1;33m.\u001b[0m\u001b[0mgetLatitude\u001b[0m\u001b[1;33m(\u001b[0m\u001b[1;33m)\u001b[0m\u001b[1;33m,\u001b[0m \u001b[0mafwGeom\u001b[0m\u001b[1;33m.\u001b[0m\u001b[0mAngle\u001b[0m\u001b[1;33m(\u001b[0m\u001b[1;36m1.\u001b[0m\u001b[1;33m,\u001b[0m \u001b[0mafwGeom\u001b[0m\u001b[1;33m.\u001b[0m\u001b[0mdegrees\u001b[0m\u001b[1;33m)\u001b[0m\u001b[1;33m,\u001b[0m \u001b[0mfilter\u001b[0m\u001b[1;33m)\u001b[0m\u001b[1;33m\u001b[0m\u001b[0m\n\u001b[0;32m     41\u001b[0m \u001b[1;33m\u001b[0m\u001b[0m\n",
        "\u001b[1;32m/renoir_data_00/jpreyes/stacks/v9_2_copy/Linux64/daf_persistence/9.0+7/python/lsst/daf/persistence/readProxy.pyc\u001b[0m in \u001b[0;36m__getattribute__\u001b[1;34m(self, attr, oga)\u001b[0m\n\u001b[0;32m     39\u001b[0m \u001b[1;33m\u001b[0m\u001b[0m\n\u001b[0;32m     40\u001b[0m     \u001b[1;32mdef\u001b[0m \u001b[0m__getattribute__\u001b[0m\u001b[1;33m(\u001b[0m\u001b[0mself\u001b[0m\u001b[1;33m,\u001b[0m \u001b[0mattr\u001b[0m\u001b[1;33m,\u001b[0m \u001b[0moga\u001b[0m\u001b[1;33m=\u001b[0m\u001b[0mobject\u001b[0m\u001b[1;33m.\u001b[0m\u001b[0m__getattribute__\u001b[0m\u001b[1;33m)\u001b[0m\u001b[1;33m:\u001b[0m\u001b[1;33m\u001b[0m\u001b[0m\n\u001b[1;32m---> 41\u001b[1;33m         \u001b[0msubject\u001b[0m \u001b[1;33m=\u001b[0m \u001b[0moga\u001b[0m\u001b[1;33m(\u001b[0m\u001b[0mself\u001b[0m\u001b[1;33m,\u001b[0m \u001b[1;34m'__subject__'\u001b[0m\u001b[1;33m)\u001b[0m\u001b[1;33m\u001b[0m\u001b[0m\n\u001b[0m\u001b[0;32m     42\u001b[0m         \u001b[1;32mif\u001b[0m \u001b[0mattr\u001b[0m \u001b[1;33m==\u001b[0m \u001b[1;34m'__subject__'\u001b[0m\u001b[1;33m:\u001b[0m\u001b[1;33m\u001b[0m\u001b[0m\n\u001b[0;32m     43\u001b[0m             \u001b[1;32mreturn\u001b[0m \u001b[0msubject\u001b[0m\u001b[1;33m\u001b[0m\u001b[0m\n",
        "\u001b[1;32m/renoir_data_00/jpreyes/stacks/v9_2_copy/Linux64/daf_persistence/9.0+7/python/lsst/daf/persistence/readProxy.pyc\u001b[0m in \u001b[0;36m__subject__\u001b[1;34m(self, get_cache, set_cache)\u001b[0m\n\u001b[0;32m    134\u001b[0m         \u001b[1;32mreturn\u001b[0m \u001b[0mget_cache\u001b[0m\u001b[1;33m(\u001b[0m\u001b[0mself\u001b[0m\u001b[1;33m)\u001b[0m\u001b[1;33m\u001b[0m\u001b[0m\n\u001b[0;32m    135\u001b[0m     \u001b[1;32mexcept\u001b[0m \u001b[0mAttributeError\u001b[0m\u001b[1;33m:\u001b[0m\u001b[1;33m\u001b[0m\u001b[0m\n\u001b[1;32m--> 136\u001b[1;33m         \u001b[0mset_cache\u001b[0m\u001b[1;33m(\u001b[0m\u001b[0mself\u001b[0m\u001b[1;33m,\u001b[0m \u001b[0mget_callback\u001b[0m\u001b[1;33m(\u001b[0m\u001b[0mself\u001b[0m\u001b[1;33m)\u001b[0m\u001b[1;33m(\u001b[0m\u001b[1;33m)\u001b[0m\u001b[1;33m)\u001b[0m\u001b[1;33m\u001b[0m\u001b[0m\n\u001b[0m\u001b[0;32m    137\u001b[0m         \u001b[1;32mreturn\u001b[0m \u001b[0mget_cache\u001b[0m\u001b[1;33m(\u001b[0m\u001b[0mself\u001b[0m\u001b[1;33m)\u001b[0m\u001b[1;33m\u001b[0m\u001b[0m\n\u001b[0;32m    138\u001b[0m \u001b[1;33m\u001b[0m\u001b[0m\n",
        "\u001b[1;32m/renoir_data_00/jpreyes/stacks/v9_2_copy/Linux64/daf_persistence/9.0+7/python/lsst/daf/persistence/butler.pyc\u001b[0m in \u001b[0;36m<lambda>\u001b[1;34m()\u001b[0m\n\u001b[0;32m    240\u001b[0m             \u001b[0minnerCallback\u001b[0m \u001b[1;33m=\u001b[0m \u001b[0mcallback\u001b[0m\u001b[1;33m\u001b[0m\u001b[0m\n\u001b[0;32m    241\u001b[0m             callback = lambda: self.mapper.standardize(datasetType,\n\u001b[1;32m--> 242\u001b[1;33m                     innerCallback(), dataId)\n\u001b[0m\u001b[0;32m    243\u001b[0m         \u001b[1;32mif\u001b[0m \u001b[0mimmediate\u001b[0m\u001b[1;33m:\u001b[0m\u001b[1;33m\u001b[0m\u001b[0m\n\u001b[0;32m    244\u001b[0m             \u001b[1;32mreturn\u001b[0m \u001b[0mcallback\u001b[0m\u001b[1;33m(\u001b[0m\u001b[1;33m)\u001b[0m\u001b[1;33m\u001b[0m\u001b[0m\n",
        "\u001b[1;32m/renoir_data_00/jpreyes/stacks/v9_2_copy/Linux64/daf_persistence/9.0+7/python/lsst/daf/persistence/butler.pyc\u001b[0m in \u001b[0;36m<lambda>\u001b[1;34m()\u001b[0m\n\u001b[0;32m    236\u001b[0m                     location, dataId)\n\u001b[0;32m    237\u001b[0m         \u001b[1;32melse\u001b[0m\u001b[1;33m:\u001b[0m\u001b[1;33m\u001b[0m\u001b[0m\n\u001b[1;32m--> 238\u001b[1;33m             \u001b[0mcallback\u001b[0m \u001b[1;33m=\u001b[0m \u001b[1;32mlambda\u001b[0m\u001b[1;33m:\u001b[0m \u001b[0mself\u001b[0m\u001b[1;33m.\u001b[0m\u001b[0m_read\u001b[0m\u001b[1;33m(\u001b[0m\u001b[0mpythonType\u001b[0m\u001b[1;33m,\u001b[0m \u001b[0mlocation\u001b[0m\u001b[1;33m)\u001b[0m\u001b[1;33m\u001b[0m\u001b[0m\n\u001b[0m\u001b[0;32m    239\u001b[0m         \u001b[1;32mif\u001b[0m \u001b[0mself\u001b[0m\u001b[1;33m.\u001b[0m\u001b[0mmapper\u001b[0m\u001b[1;33m.\u001b[0m\u001b[0mcanStandardize\u001b[0m\u001b[1;33m(\u001b[0m\u001b[0mdatasetType\u001b[0m\u001b[1;33m)\u001b[0m\u001b[1;33m:\u001b[0m\u001b[1;33m\u001b[0m\u001b[0m\n\u001b[0;32m    240\u001b[0m             \u001b[0minnerCallback\u001b[0m \u001b[1;33m=\u001b[0m \u001b[0mcallback\u001b[0m\u001b[1;33m\u001b[0m\u001b[0m\n",
        "\u001b[1;32m/renoir_data_00/jpreyes/stacks/v9_2_copy/Linux64/daf_persistence/9.0+7/python/lsst/daf/persistence/butler.pyc\u001b[0m in \u001b[0;36m_read\u001b[1;34m(self, pythonType, location)\u001b[0m\n\u001b[0;32m    424\u001b[0m                 \u001b[0mstorageList\u001b[0m\u001b[1;33m.\u001b[0m\u001b[0mappend\u001b[0m\u001b[1;33m(\u001b[0m\u001b[0mstorage\u001b[0m\u001b[1;33m)\u001b[0m\u001b[1;33m\u001b[0m\u001b[0m\n\u001b[0;32m    425\u001b[0m                 itemData = self.persistence.unsafeRetrieve(\n\u001b[1;32m--> 426\u001b[1;33m                         location.getCppType(), storageList, additionalData)\n\u001b[0m\u001b[0;32m    427\u001b[0m                 \u001b[0mfinalItem\u001b[0m \u001b[1;33m=\u001b[0m \u001b[0mpythonType\u001b[0m\u001b[1;33m.\u001b[0m\u001b[0mswigConvert\u001b[0m\u001b[1;33m(\u001b[0m\u001b[0mitemData\u001b[0m\u001b[1;33m)\u001b[0m\u001b[1;33m\u001b[0m\u001b[0m\n\u001b[0;32m    428\u001b[0m             \u001b[0mtrace\u001b[0m\u001b[1;33m.\u001b[0m\u001b[0mdone\u001b[0m\u001b[1;33m(\u001b[0m\u001b[1;33m)\u001b[0m\u001b[1;33m\u001b[0m\u001b[0m\n",
        "\u001b[1;32m/renoir_data_00/jpreyes/stacks/v9_2_copy/Linux64/daf_persistence/9.0+7/python/lsst/daf/persistence/persistenceLib.pyc\u001b[0m in \u001b[0;36munsafeRetrieve\u001b[1;34m(self, *args)\u001b[0m\n\u001b[0;32m   1428\u001b[0m     \u001b[1;32mdef\u001b[0m \u001b[0munsafeRetrieve\u001b[0m\u001b[1;33m(\u001b[0m\u001b[0mself\u001b[0m\u001b[1;33m,\u001b[0m \u001b[1;33m*\u001b[0m\u001b[0margs\u001b[0m\u001b[1;33m)\u001b[0m\u001b[1;33m:\u001b[0m\u001b[1;33m\u001b[0m\u001b[0m\n\u001b[0;32m   1429\u001b[0m         \u001b[1;34m\"\"\"unsafeRetrieve(Persistence self, std::string const & persistableType, StorageList storageList, lsst::daf::base::PropertySet::Ptr additionalData) -> Persistable\"\"\"\u001b[0m\u001b[1;33m\u001b[0m\u001b[0m\n\u001b[1;32m-> 1430\u001b[1;33m         \u001b[1;32mreturn\u001b[0m \u001b[0m_persistenceLib\u001b[0m\u001b[1;33m.\u001b[0m\u001b[0mPersistence_unsafeRetrieve\u001b[0m\u001b[1;33m(\u001b[0m\u001b[0mself\u001b[0m\u001b[1;33m,\u001b[0m \u001b[1;33m*\u001b[0m\u001b[0margs\u001b[0m\u001b[1;33m)\u001b[0m\u001b[1;33m\u001b[0m\u001b[0m\n\u001b[0m\u001b[0;32m   1431\u001b[0m \u001b[1;33m\u001b[0m\u001b[0m\n\u001b[0;32m   1432\u001b[0m     \u001b[1;32mdef\u001b[0m \u001b[0mgetPersistence\u001b[0m\u001b[1;33m(\u001b[0m\u001b[1;33m*\u001b[0m\u001b[0margs\u001b[0m\u001b[1;33m)\u001b[0m\u001b[1;33m:\u001b[0m\u001b[1;33m\u001b[0m\u001b[0m\n",
        "\u001b[1;31mFitsError\u001b[0m: \n  File \"src/fits.cc\", line 1071, in lsst::afw::fits::Fits::Fits(const std::string&, const std::string&, int)\n    cfitsio error: could not open the named file (104) : Opening file '/renoir_data_02/jpreyes/lsst_data/data/CFHTLS/output/calexp/08AL01/D3/2008-05-28/r/calexp-994755-00.fits' with mode 'r' {0}\nlsst::afw::fits::FitsError: 'cfitsio error: could not open the named file (104) : Opening file '/renoir_data_02/jpreyes/lsst_data/data/CFHTLS/output/calexp/08AL01/D3/2008-05-28/r/calexp-994755-00.fits' with mode 'r''\n"
       ]
      },
      {
       "output_type": "stream",
       "stream": "stdout",
       "text": [
        "\n"
       ]
      }
     ],
     "prompt_number": 25
    },
    {
     "cell_type": "code",
     "collapsed": false,
     "input": [
      "\n",
      "\n",
      "color = [ ds9.BLUE, ds9.RED, ds9.GREEN, ds9.YELLOW ]\n",
      "\n",
      "i = 0\n",
      "for source1 in sources1:\n",
      "    for source2 in sources4:\n",
      "        delta = angDist(source1.getRa(), source1.getDec(), source2.getRa(), source2.getDec())\n",
      "        if delta < 0.000001:\n",
      "            \n",
      "            ds9.dot(\"o\", source1.getX(), source1.getY(), frame=1, size = 50, ctype = color[i%4])\n",
      "            ds9.dot(\"o\", source2.getX(), source2.getY(), frame=4, size = 50, ctype = color[i%4])\n",
      "            i+=1\n",
      "            break\n",
      "            \n",
      "            \n"
     ],
     "language": "python",
     "metadata": {},
     "outputs": []
    },
    {
     "cell_type": "code",
     "collapsed": false,
     "input": [
      "butler = dafPersist.Butler(DIR1+\"/output\")\n",
      "\n",
      "CPTask = CoaddProcesser.ProcessCoaddTask\n",
      "CPTask.parseAndRun(args=((DIR1+\"/output/coadd_r_dir --output \"+DIR1+\"/output/coadd_r_dir/deepCoaddDetect @\"+DIR1+\"/patches_r.txt\").split()))"
     ],
     "language": "python",
     "metadata": {},
     "outputs": []
    },
    {
     "cell_type": "code",
     "collapsed": false,
     "input": [
      "\n",
      "CPTask.parseAndRun(args=((DIR2+\"/output/coadd_r_dir --output \"+DIR2+\"/output/coadd_r_dir/deepCoaddDetect @\"+DIR2+\"/patches_r.txt\").split()))\n",
      "\n",
      "CPTask.parseAndRun(args=((DIR3+\"/output/coadd_r_dir --output \"+DIR3+\"/output/coadd_r_dir/deepCoaddDetect @\"+DIR3+\"/patches_r.txt\").split()))\n",
      "\n",
      "CPTask.parseAndRun(args=((DIR4+\"/output/coadd_r_dir --output \"+DIR4+\"/output/coadd_r_dir/deepCoaddDetect @\"+DIR4+\"/patches_r.txt\").split()))\n",
      "\n",
      "CPTask.parseAndRun(args=((DIR_SUB1+\"/output/coadd_r_dir --output \"+DIR_SUB1+\"/output/coadd_r_dir/deepCoaddDetect @\"+DIR_SUB1+\"/patches_r.txt \").split()))"
     ],
     "language": "python",
     "metadata": {},
     "outputs": []
    },
    {
     "cell_type": "code",
     "collapsed": false,
     "input": [
      "coaddSources1 = ShowCoaddSources(DIR_SUB1, '9,2', 'r', 1, 1)\n",
      "coaddSources2 = ShowCoaddSources(DIR_SUB2, '9,2', 'r', 1, 2)\n",
      "coaddSources3 = ShowCoaddSources(DIR_SUB3, '9,2', 'r', 1, 3)\n",
      "coaddSources4 = ShowCoaddSources(DIR_SUB4, '9,2', 'r', 1, 4)\n",
      "coaddSources5 = ShowCoaddSources(DIR_SUB5, '9,2', 'r', 1, 5)\n",
      "\n",
      "ds9.ds9Cmd(cmd=\"tile\")\n",
      "           \n"
     ],
     "language": "python",
     "metadata": {},
     "outputs": [
      {
       "output_type": "stream",
       "stream": "stdout",
       "text": [
        "{'run': <type 'int'>, 'object': <type 'str'>, 'tract': <type 'int'>, 'date': <type 'str'>, 'path': <type 'str'>, 'extension': <type 'int'>, 'skyTile': <type 'int'>, 'visit': <type 'int'>, 'patch': <type 'str'>, 'filter': <type 'str'>, 'field': <type 'int'>, 'state': <type 'str'>, 'runId': <type 'str'>, 'ccd': <type 'int'>, 'camcol': <type 'int'>, 'sensor': <type 'str'>, 'raft': <type 'str'>}\n",
        "ds9 doesn't appear to be running (XPA: XPA returned NULL, (;iconify no; raise)), I'll exec it for you"
       ]
      },
      {
       "output_type": "stream",
       "stream": "stdout",
       "text": [
        "\n",
        "waiting for ds9...\r"
       ]
      },
      {
       "output_type": "stream",
       "stream": "stdout",
       "text": [
        "waiting for ds9...\r"
       ]
      },
      {
       "output_type": "stream",
       "stream": "stdout",
       "text": [
        "waiting for ds9...\r"
       ]
      },
      {
       "output_type": "stream",
       "stream": "stdout",
       "text": [
        "waiting for ds9...\r"
       ]
      },
      {
       "output_type": "stream",
       "stream": "stdout",
       "text": [
        "waiting for ds9...\r"
       ]
      },
      {
       "output_type": "stream",
       "stream": "stdout",
       "text": [
        "waiting for ds9...\r"
       ]
      },
      {
       "output_type": "stream",
       "stream": "stdout",
       "text": [
        "waiting for ds9...\r"
       ]
      },
      {
       "output_type": "stream",
       "stream": "stdout",
       "text": [
        "                                     \r"
       ]
      },
      {
       "output_type": "stream",
       "stream": "stdout",
       "text": [
        "\n",
        "(215.14, 53.077)"
       ]
      },
      {
       "output_type": "stream",
       "stream": "stdout",
       "text": [
        "\n",
        "{'run': <type 'int'>, 'object': <type 'str'>, 'tract': <type 'int'>, 'date': <type 'str'>, 'path': <type 'str'>, 'extension': <type 'int'>, 'skyTile': <type 'int'>, 'visit': <type 'int'>, 'patch': <type 'str'>, 'filter': <type 'str'>, 'field': <type 'int'>, 'state': <type 'str'>, 'runId': <type 'str'>, 'ccd': <type 'int'>, 'camcol': <type 'int'>, 'sensor': <type 'str'>, 'raft': <type 'str'>}"
       ]
      },
      {
       "output_type": "stream",
       "stream": "stdout",
       "text": [
        "\n",
        "\n"
       ]
      },
      {
       "output_type": "stream",
       "stream": "stdout",
       "text": [
        "(215.14, 53.077)\n",
        "{'run': <type 'int'>, 'object': <type 'str'>, 'tract': <type 'int'>, 'date': <type 'str'>, 'path': <type 'str'>, 'extension': <type 'int'>, 'skyTile': <type 'int'>, 'visit': <type 'int'>, 'patch': <type 'str'>, 'filter': <type 'str'>, 'field': <type 'int'>, 'state': <type 'str'>, 'runId': <type 'str'>, 'ccd': <type 'int'>, 'camcol': <type 'int'>, 'sensor': <type 'str'>, 'raft': <type 'str'>}"
       ]
      },
      {
       "output_type": "stream",
       "stream": "stdout",
       "text": [
        "\n",
        "\n"
       ]
      },
      {
       "output_type": "stream",
       "stream": "stdout",
       "text": [
        "(215.14, 53.077)\n",
        "{'run': <type 'int'>, 'object': <type 'str'>, 'tract': <type 'int'>, 'date': <type 'str'>, 'path': <type 'str'>, 'extension': <type 'int'>, 'skyTile': <type 'int'>, 'visit': <type 'int'>, 'patch': <type 'str'>, 'filter': <type 'str'>, 'field': <type 'int'>, 'state': <type 'str'>, 'runId': <type 'str'>, 'ccd': <type 'int'>, 'camcol': <type 'int'>, 'sensor': <type 'str'>, 'raft': <type 'str'>}"
       ]
      },
      {
       "output_type": "stream",
       "stream": "stdout",
       "text": [
        "\n",
        "\n"
       ]
      },
      {
       "output_type": "stream",
       "stream": "stdout",
       "text": [
        "(215.14, 53.077)\n",
        "{'run': <type 'int'>, 'object': <type 'str'>, 'tract': <type 'int'>, 'date': <type 'str'>, 'path': <type 'str'>, 'extension': <type 'int'>, 'skyTile': <type 'int'>, 'visit': <type 'int'>, 'patch': <type 'str'>, 'filter': <type 'str'>, 'field': <type 'int'>, 'state': <type 'str'>, 'runId': <type 'str'>, 'ccd': <type 'int'>, 'camcol': <type 'int'>, 'sensor': <type 'str'>, 'raft': <type 'str'>}"
       ]
      },
      {
       "output_type": "stream",
       "stream": "stdout",
       "text": [
        "\n",
        "\n"
       ]
      },
      {
       "output_type": "stream",
       "stream": "stdout",
       "text": [
        "(215.14, 53.077)\n"
       ]
      }
     ],
     "prompt_number": 6
    },
    {
     "cell_type": "code",
     "collapsed": false,
     "input": [
      "%matplotlib inline\n",
      "import matplotlib\n",
      "import matplotlib.pylab as plt\n",
      "import numpy as np\n",
      "\n",
      "# Plot distance between icSrc and reference sources\n",
      "#print fluxInTime\n",
      "#print time\n",
      "\n",
      "ds9color = [ ds9.BLUE, ds9.RED, ds9.GREEN, ds9.YELLOW ]\n",
      "\n",
      "i = 0\n",
      "time = [-29, -13, -9, -5, 0, 18, 23]       \n",
      "fluxinTime = []\n",
      "plt.clf()\n",
      "fig, ax0 = plt.subplots(ncols=1, figsize=(10, 10))\n",
      "\n",
      "for source in coaddSources:\n",
      "    matchM4 = FindMatchingSource(source, coaddSourcesM4, 0.00001)\n",
      "    matchM3 = FindMatchingSource(source, coaddSourcesM3, 0.00001)\n",
      "    matchM2 = FindMatchingSource(source, coaddSourcesM2, 0.00001)\n",
      "    matchM1 = FindMatchingSource(source, coaddSourcesM1, 0.00001)\n",
      "    matchP1 = FindMatchingSource(source, coaddSourcesP1, 0.00001)\n",
      "    matchP2 = FindMatchingSource(source, coaddSourcesP2, 0.00001)\n",
      "   \n",
      "    \n",
      "   \n",
      "   \n",
      "    if matchM4 is not None and matchM3 is not None and matchM2 is not None and matchM1 is not None and matchP1 is not None and matchP2 is not None and matchM1.getApFlux() > 0:\n",
      "             \n",
      "        ds9.dot(\"o\", matchM4.getX()-32900, matchM4.getY()-14900, frame=1, size = 50, ctype = ds9color[i%4])\n",
      "        ds9.dot(\"o\", matchM3.getX()-32900, matchM3.getY()-14900, frame=2, size = 50, ctype = ds9color[i%4])\n",
      "        ds9.dot(\"o\", matchM2.getX()-32900, matchM2.getY()-14900, frame=3, size = 50, ctype = ds9color[i%4])\n",
      "        ds9.dot(\"o\", matchM1.getX()-32900, matchM1.getY()-14900, frame=4, size = 50, ctype = ds9color[i%4])\n",
      "        ds9.dot(\"o\", source.getX()-32900, source.getY()-14900, frame=5, size = 50, ctype = ds9color[i%4])\n",
      "        ds9.dot(\"o\", matchP1.getX()-32900, matchP1.getY()-14900, frame=6, size = 50, ctype = ds9color[i%4])\n",
      "        ds9.dot(\"o\", matchP2.getX()-32900, matchP2.getY()-14900, frame=7, size = 50, ctype = ds9color[i%4])\n",
      "        \n",
      "        fluxInTime = [matchM4.getApFlux(),matchM3.getApFlux(),matchM2.getApFlux(),matchM1.getApFlux(), source.getApFlux(), matchP1.getApFlux(), matchP2.getApFlux()]\n",
      "        print ds9color[i%4]\n",
      "        print \"Flux through time\", str(matchM4.getApFlux()), str(matchM3.getApFlux()), str(matchM2.getApFlux()), str(matchM1.getApFlux()),  str(source.getApFlux()), str(matchP1.getApFlux()) ,str(matchP2.getApFlux()) \n",
      "        i+=1\n",
      "        \n",
      "        \n",
      "        color = np.random.random(10)\n",
      "        ax0.scatter(time, fluxInTime, c=color, s=100)\n",
      "        #ax0.set_xlim([0.,5.])\n",
      "        #ax0.set_ylim([0.,200.])\n",
      "        ax0.set_xlabel(\"Time\")\n",
      "        ax0.set_ylabel(\"ApFlux\")\n",
      "       \n",
      "plt.show()\n",
      "    "
     ],
     "language": "python",
     "metadata": {},
     "outputs": [
      {
       "output_type": "stream",
       "stream": "stdout",
       "text": [
        "blue\n",
        "Flux through time -26.1381575366 60.750330985 60.3674774689 56.9609116116 36.6342940373 12.9699057595 12.9699057595\n"
       ]
      },
      {
       "metadata": {},
       "output_type": "display_data",
       "text": [
        "<matplotlib.figure.Figure at 0x64c6f10>"
       ]
      },
      {
       "metadata": {},
       "output_type": "display_data",
       "png": "[encoded data removed]",
       "text": [
        "<matplotlib.figure.Figure at 0x5a250d0>"
       ]
      }
     ],
     "prompt_number": 46
    },
    {
     "cell_type": "code",
     "collapsed": false,
     "input": [
      "\n",
      "\n"
     ],
     "language": "python",
     "metadata": {},
     "outputs": [
      {
       "output_type": "stream",
       "stream": "stdout",
       "text": [
        "[9490.458190206673, 14808.101249127885, 16068.370012667458, 10816.153764358232, 7483.434493130439]\n",
        "[1, 2, 3, 4, 5]\n"
       ]
      },
      {
       "metadata": {},
       "output_type": "display_data",
       "text": [
        "<matplotlib.figure.Figure at 0x67c5790>"
       ]
      },
      {
       "metadata": {},
       "output_type": "display_data",
       "png": "[encoded data removed]",
       "text": [
        "<matplotlib.figure.Figure at 0x67c56d0>"
       ]
      }
     ],
     "prompt_number": 320
    },
    {
     "cell_type": "code",
     "collapsed": false,
     "input": [
      "def FindMatchingSource(source, referenceSources, delta):\n",
      "    for refSource in referenceSources:\n",
      "        dist = angDist(source.getRa(), source.getDec(), refSource.getRa(), refSource.getDec())\n",
      "        \n",
      "        if dist < delta:\n",
      "            return refSource\n",
      "                \n",
      "    return None\n",
      "        "
     ],
     "language": "python",
     "metadata": {},
     "outputs": [],
     "prompt_number": 3
    },
    {
     "cell_type": "code",
     "collapsed": false,
     "input": [
      "def ShowCoaddSources(DATADIR, patch, filter, tract, nFrame):\n",
      "    \n",
      "    butler_coadd = dafPersist.Butler(DATADIR+\"/output/coadd_r_dir\")\n",
      "\n",
      "    print butler_coadd.getKeys()\n",
      "    dataid_coadd = {'patch': patch, 'filter':filter, 'tract':tract}\n",
      "                  \n",
      "    deepCoadd = butler_coadd.get(\"deepCoadd\", dataid_coadd)\n",
      "    \n",
      "    icSrc = butler_coadd.get('deepCoadd_src', dataid_coadd)\n",
      "        \n",
      "    icMatch = butler_coadd.get('deepCoadd_icMatch', dataid_coadd)\n",
      "    \n",
      "    im1 = afwImg.ImageF(butler_coadd.mapper.map('deepCoadd', dataid_coadd, write=False).locationList[0])\n",
      "    \n",
      "    ds9.mtv(im1,frame=nFrame)\n",
      "    ds9.ds9Cmd(cmd=\"zoom to fit\")\n",
      "    ds9.ds9Cmd(cmd=\"zscale\")\n",
      "    \n",
      "    \n",
      "    # Print out the icSrc table schema\n",
      "    schema = icSrc.getSchema()\n",
      "    #  print schema.getOrderedNames()\n",
      "    print\n",
      "        \n",
      "    icSrc.sort()\n",
      "    #refCat.sort()\n",
      "    \n",
      "    #This here is not properly working\n",
      "    solve = Astrometry.ConfigClass()\n",
      "    astrom = Astrometry(solve)\n",
      "    \n",
      "    deepCoaddCalexp = butler_coadd.get(\"deepCoadd_calexp\", dataid_coadd)\n",
      "    point = deepCoaddCalexp.getXY0()\n",
      "    \n",
      "    pointR =point+afwGeom.Extent2I( deepCoaddCalexp.getHeight(),deepCoaddCalexp.getWidth())\n",
      "    \n",
      "    detCenter = afwGeom.Point2D(pointR.getX(),pointR.getY())\n",
      "    \n",
      "    detCenterCoord = deepCoaddCalexp.getWcs().pixelToSky(detCenter)\n",
      "    \n",
      "    \n",
      "    \n",
      "    print detCenterCoord.getPosition()\n",
      "    \n",
      "    #print detCenterCoord\n",
      "    refCat = astrom.getReferenceSources(detCenterCoord.getLongitude(), detCenterCoord.getLatitude(), afwGeom.Angle(1., afwGeom.degrees), 'r')\n",
      "    \n",
      "    deepCoaddCalexp = butler_coadd.get(\"deepCoadd_calexp\", dataid_coadd)\n",
      "\n",
      "    sources =[]\n",
      "    for source in icSrc:\n",
      "          # ref = refCat.find(match.get('first'))\n",
      "          # source = icSrc.find(match.get('second'))\n",
      "         #  pointSource = afwGeom.Point2D(source.getX(),source.getY())\n",
      "         #  sourceCoord = deepCoaddCalexp.getWcs().SkytoPixel(pointSource)\n",
      "         #  print source.getX(), source.getY()\n",
      "         #  xc = afwGeom.radToMas(ref.getRa())\n",
      "          # yc = afwGeom.radToMas(ref.getDec())\n",
      "           sources.append(source)\n",
      "           #print source.getX() - deepCoaddCalexp.getX0() , source.getY() - deepCoaddCalexp.getY0()\n",
      "           ds9.dot(\"+\", source.getX() - deepCoaddCalexp.getX0() , source.getY() - deepCoaddCalexp.getY0(), frame=nFrame, size = 25, ctype = ds9.RED)\n",
      "            \n",
      "    return sources;\n",
      "\n",
      "    "
     ],
     "language": "python",
     "metadata": {},
     "outputs": [],
     "prompt_number": 4
    },
    {
     "cell_type": "code",
     "collapsed": false,
     "input": [
      "#dataRef.get(\"src\")\n",
      "#for visit in butler_coadd.queryMetadata(\"deepCoadd\",\n",
      "#                (\"tract\")):\n",
      " #   print visit\n",
      "\n",
      "\n",
      "#print butler_coadd.dataRef\n",
      "#ccds = butler_coadd.get('deep_coadd')\n",
      "#tab1 = afwTable.ImageF(butler.mapper.map('calexp', dataid, write=False).locationList[0])\n",
      "# Image identification keys\n",
      "\n",
      "def ShowSources(DATADIR, visit, ccd, filter, nFrame):\n",
      "    \n",
      "    \n",
      "    ccdName = 'ccd'+str(ccd).zfill(2)\n",
      "    #setup butler - Replace path name by something suitable for you\n",
      "    butler = dafPersist.Butler(DATADIR+\"/output\")\n",
      "    dataid = {'visit':visit, 'filter':filter, 'ccd':ccd}\n",
      "    \n",
      "    print type(butler)\n",
      "    \n",
      "    solve = Astrometry.ConfigClass()\n",
      "    astrom = Astrometry(solve)\n",
      "    # setup camera\n",
      "    cam = butler.get('camera')\n",
      "    ccd = cam[ccdName]\n",
      "    print ccd\n",
      "    \n",
      "    # Retrieve calexp\n",
      "    calexp = butler.get('calexp', dataid)\n",
      "    #print dir(calexp)\n",
      "    #print butler.mapper.map_calexp_filename\n",
      "     \n",
      "    # Find ccd center coordinates and use them to load the corresponding reference catalog\n",
      "    # from astrometry_net_data\n",
      "    \n",
      "    detCenter = ccd.getCenter(cg.PIXELS).getPoint()\n",
      "    print detCenter\n",
      "    detCenterCoord = calexp.getWcs().pixelToSky(detCenter)\n",
      "    refCat = astrom.getReferenceSources(detCenterCoord.getLongitude(), detCenterCoord.getLatitude(), afwGeom.Angle(1., afwGeom.degrees), filter)\n",
      "    \n",
      "    \n",
      "    \n",
      "    # Retrieve icSrc and icMatch catalogs\n",
      "    # ic stands for \"image characterization\"i.e. sources used to perform photometric and astrometric calibaration\n",
      "    # icMatch contains the match between icSrc sources and the reference catalog. Each row contains 3 numbers :\n",
      "    # distance, id in reference catalog, id of source in icSrc catalog\n",
      "    icSrc = butler.get('icSrc', dataid)\n",
      "    \n",
      "    icMatch = butler.get('icMatch', dataid)\n",
      "    \n",
      "    # Print out the icSrc table schema\n",
      "    schema = icSrc.getSchema()\n",
      "  #  print schema.getOrderedNames()\n",
      "    print\n",
      "    \n",
      "    icSrc.sort()\n",
      "    refCat.sort()\n",
      "\n",
      "    diff_from_distance = []\n",
      "    diff_from_ra_dec = []\n",
      "    diff_between_both = []\n",
      "\n",
      "  #  print(detCenterCoord)\n",
      "\n",
      " #   print(\"Found %d matched sources in icMatch\"%(len(icMatch)))\n",
      " #   print\n",
      "\n",
      "    im1 = afwImg.ImageF(butler.mapper.map('calexp', dataid, write=False).locationList[0])\n",
      "    ds9.mtv(im1,frame=nFrame)\n",
      "    ds9.ds9Cmd(cmd=\"zoom to fit\")\n",
      "    ds9.ds9Cmd(cmd=\"zscale\")\n",
      "    \n",
      "    \n",
      "    sources =[]\n",
      "    for match in icMatch:\n",
      "       ref = refCat.find(match.get('first'))\n",
      "       source = icSrc.find(match.get('second'))\n",
      "     #  print source.getX(), source.getY()\n",
      "         #  xc = afwGeom.radToMas(ref.getRa())\n",
      "     #  yc = afwGeom.radToMas(ref.getDec())\n",
      "       sources.append(source)\n",
      "      # print source.getRa(), source.getDec(), ref.getRa(), ref.getDec()\n",
      "       ds9.dot(\"+\", source.getX(), source.getY(), frame=nFrame, size = 50, ctype = ds9.RED)\n",
      "\n",
      "    #print ref.getXO()\n",
      "   #print dir(ref)\n",
      "    \n",
      "\n",
      "    return sources;\n",
      "    "
     ],
     "language": "python",
     "metadata": {},
     "outputs": [],
     "prompt_number": 5
    },
    {
     "cell_type": "code",
     "collapsed": false,
     "input": [
      " def angDist(ra_1, dec_1, ra_2, dec_2):\n",
      "        \n",
      "    sindec_1 = math.sin(dec_1)\n",
      "    cosdec_1 = math.cos(dec_1)\n",
      "    sindec_2 = math.sin(dec_2)\n",
      "    cosdec_2 = math.cos(dec_2)\n",
      "    cosra_2_ra_1 = math.cos(ra_2-ra_1)\n",
      "    sinra_2_ra_1 = math.sin(ra_2-ra_1)\n",
      "    \n",
      "    aux = (cosdec_1 * sindec_2) - (sindec_1 * cosdec_2 * cosra_2_ra_1)\n",
      "    num = (cosdec_2 * cosdec_2 * sinra_2_ra_1 * sinra_2_ra_1) + aux*aux\n",
      "    den = (sindec_1 * sindec_2) + (cosdec_1 * cosdec_2 * cosra_2_ra_1)\n",
      "    \n",
      "    return math.atan2(math.sqrt(num), den)\n"
     ],
     "language": "python",
     "metadata": {},
     "outputs": [],
     "prompt_number": 6
    },
    {
     "cell_type": "code",
     "collapsed": false,
     "input": [],
     "language": "python",
     "metadata": {},
     "outputs": []
    }
   ],
   "metadata": {}
  }
 ]
}