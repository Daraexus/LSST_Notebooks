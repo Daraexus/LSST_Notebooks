{
 "metadata": {
  "name": "",
  "signature": "sha256:a8e0d04839415d502a3a3c853bbcd1dcfcedfb3fa93a79e017aeea0ce8bdaeb8"
 },
 "nbformat": 3,
 "nbformat_minor": 0,
 "worksheets": [
  {
   "cells": [
    {
     "cell_type": "markdown",
     "metadata": {},
     "source": [
      "First test of image subtraction\n",
      "============================"
     ]
    },
    {
     "cell_type": "markdown",
     "metadata": {},
     "source": [
      "Start with  source loadlsst, the setup command we need (here obs_cfht), then run ipython notebook\n",
      "\n",
      "Next lines correspond to import for this notebook "
     ]
    },
    {
     "cell_type": "code",
     "collapsed": false,
     "input": [
      "import lsst.afw.image as afwImage\n",
      "import lsst.meas.algorithms as measAlg\n",
      "import lsst.ip.diffim as ipDiffim\n",
      "import lsst.ip.diffim.diffimTools as diffimTools"
     ],
     "language": "python",
     "metadata": {},
     "outputs": [],
     "prompt_number": 1
    },
    {
     "cell_type": "markdown",
     "metadata": {},
     "source": [
      "Now we defined the location of the two input image and the output image"
     ]
    },
    {
     "cell_type": "code",
     "collapsed": false,
     "input": [
      "sciencePath     = \"/renoir_data_00/fouchez/lsst/data/CFHTLS/output_hide/coadd_r_dir/deepCoadd/r/0/0,11.fits\"\n",
      "templatePath    = \"/renoir_data_00/fouchez/lsst/data/CFHTLS/output_old2/coadd_r_dir_05/deepCoadd/r/0/0,11.fits\"\n",
      "outputPath      = \"/renoir_data_00/fouchez/lsst/data/CFHTLS/output/diff/0,11.fits\""
     ],
     "language": "python",
     "metadata": {},
     "outputs": [],
     "prompt_number": 2
    },
    {
     "cell_type": "markdown",
     "metadata": {},
     "source": [
      "Now read the images with afwImage.ExposureF"
     ]
    },
    {
     "cell_type": "code",
     "collapsed": false,
     "input": [
      "templateExposure = afwImage.ExposureF(templatePath)\n",
      "scienceExposure  = afwImage.ExposureF(sciencePath)"
     ],
     "language": "python",
     "metadata": {},
     "outputs": [],
     "prompt_number": 3
    },
    {
     "cell_type": "markdown",
     "metadata": {},
     "source": [
      "Some configuration (no clear idea of what it is)"
     ]
    },
    {
     "cell_type": "code",
     "collapsed": false,
     "input": [
      "import lsst.afw.display.ds9 as ds9\n",
      "ds9.mtv(templateExposure)"
     ],
     "language": "python",
     "metadata": {},
     "outputs": [
      {
       "output_type": "stream",
       "stream": "stdout",
       "text": [
        "ds9 doesn't appear to be running (XPA: XPA returned NULL, (;iconify no; raise)), I'll exec it for you\n",
        "waiting for ds9...\r"
       ]
      },
      {
       "output_type": "stream",
       "stream": "stdout",
       "text": [
        "waiting for ds9...\r"
       ]
      },
      {
       "output_type": "stream",
       "stream": "stdout",
       "text": [
        "waiting for ds9...\r"
       ]
      },
      {
       "output_type": "stream",
       "stream": "stdout",
       "text": [
        "waiting for ds9...\r"
       ]
      },
      {
       "output_type": "stream",
       "stream": "stdout",
       "text": [
        "waiting for ds9...\r"
       ]
      },
      {
       "output_type": "stream",
       "stream": "stdout",
       "text": [
        "                                     \r"
       ]
      },
      {
       "ename": "RuntimeError",
       "evalue": "\n  File \"python/lsst/afw/display/simpleFits.cc\", line 466, in void lsst::afw::display::writeBasicFits(int, const ImageT&, const lsst::afw::image::Wcs*, const char*) [with ImageT = lsst::afw::image::Mask<short unsigned int>]\n    Error writing data for row 2002 {0}\nlsst::pex::exceptions::RuntimeError: 'Error writing data for row 2002'\n",
       "output_type": "pyerr",
       "traceback": [
        "\u001b[1;31m---------------------------------------------------------------------------\u001b[0m\n\u001b[1;31mRuntimeError\u001b[0m                              Traceback (most recent call last)",
        "\u001b[1;32m<ipython-input-4-c1fe93107028>\u001b[0m in \u001b[0;36m<module>\u001b[1;34m()\u001b[0m\n\u001b[0;32m      1\u001b[0m \u001b[1;32mimport\u001b[0m \u001b[0mlsst\u001b[0m\u001b[1;33m.\u001b[0m\u001b[0mafw\u001b[0m\u001b[1;33m.\u001b[0m\u001b[0mdisplay\u001b[0m\u001b[1;33m.\u001b[0m\u001b[0mds9\u001b[0m \u001b[1;32mas\u001b[0m \u001b[0mds9\u001b[0m\u001b[1;33m\u001b[0m\u001b[0m\n\u001b[1;32m----> 2\u001b[1;33m \u001b[0mds9\u001b[0m\u001b[1;33m.\u001b[0m\u001b[0mmtv\u001b[0m\u001b[1;33m(\u001b[0m\u001b[0mtemplateExposure\u001b[0m\u001b[1;33m)\u001b[0m\u001b[1;33m\u001b[0m\u001b[0m\n\u001b[0m",
        "\u001b[1;32m/renoir_data_00/fouchez/lsst/DM/stacks/v10.1/Linux64/afw/10.1+1/python/lsst/afw/display/ds9.pyc\u001b[0m in \u001b[0;36mmtv\u001b[1;34m(data, frame, init, wcs, isMask, lowOrderBits, title, settings)\u001b[0m\n\u001b[0;32m    458\u001b[0m \u001b[1;33m\u001b[0m\u001b[0m\n\u001b[0;32m    459\u001b[0m         mtv(data.getMaskedImage(), frame, False, data.getWcs(),\n\u001b[1;32m--> 460\u001b[1;33m             False, lowOrderBits=lowOrderBits, title=title, settings=settings)\n\u001b[0m\u001b[0;32m    461\u001b[0m \u001b[1;33m\u001b[0m\u001b[0m\n\u001b[0;32m    462\u001b[0m     \u001b[1;32melif\u001b[0m \u001b[0mre\u001b[0m\u001b[1;33m.\u001b[0m\u001b[0msearch\u001b[0m\u001b[1;33m(\u001b[0m\u001b[1;34m\"::Mask<\"\u001b[0m\u001b[1;33m,\u001b[0m \u001b[0mrepr\u001b[0m\u001b[1;33m(\u001b[0m\u001b[0mdata\u001b[0m\u001b[1;33m)\u001b[0m\u001b[1;33m)\u001b[0m\u001b[1;33m:\u001b[0m \u001b[1;31m# it's a Mask; display it, bitplane by bitplane\u001b[0m\u001b[1;33m\u001b[0m\u001b[0m\n",
        "\u001b[1;32m/renoir_data_00/fouchez/lsst/DM/stacks/v10.1/Linux64/afw/10.1+1/python/lsst/afw/display/ds9.pyc\u001b[0m in \u001b[0;36mmtv\u001b[1;34m(data, frame, init, wcs, isMask, lowOrderBits, title, settings)\u001b[0m\n\u001b[0;32m    449\u001b[0m         \u001b[0mmask\u001b[0m \u001b[1;33m=\u001b[0m \u001b[0mdata\u001b[0m\u001b[1;33m.\u001b[0m\u001b[0mgetMask\u001b[0m\u001b[1;33m(\u001b[0m\u001b[0mTrue\u001b[0m\u001b[1;33m)\u001b[0m\u001b[1;33m\u001b[0m\u001b[0m\n\u001b[0;32m    450\u001b[0m         \u001b[1;32mif\u001b[0m \u001b[0mmask\u001b[0m\u001b[1;33m:\u001b[0m\u001b[1;33m\u001b[0m\u001b[0m\n\u001b[1;32m--> 451\u001b[1;33m             \u001b[0mmtv\u001b[0m\u001b[1;33m(\u001b[0m\u001b[0mmask\u001b[0m\u001b[1;33m,\u001b[0m \u001b[0mframe\u001b[0m\u001b[1;33m,\u001b[0m \u001b[0mFalse\u001b[0m\u001b[1;33m,\u001b[0m \u001b[0mwcs\u001b[0m\u001b[1;33m,\u001b[0m \u001b[0mTrue\u001b[0m\u001b[1;33m,\u001b[0m \u001b[0mlowOrderBits\u001b[0m\u001b[1;33m=\u001b[0m\u001b[0mlowOrderBits\u001b[0m\u001b[1;33m,\u001b[0m \u001b[0mtitle\u001b[0m\u001b[1;33m=\u001b[0m\u001b[0mtitle\u001b[0m\u001b[1;33m,\u001b[0m \u001b[0msettings\u001b[0m\u001b[1;33m=\u001b[0m\u001b[0msettings\u001b[0m\u001b[1;33m)\u001b[0m\u001b[1;33m\u001b[0m\u001b[0m\n\u001b[0m\u001b[0;32m    452\u001b[0m             \u001b[1;32mif\u001b[0m \u001b[0mgetDesiredMaskTransparency\u001b[0m\u001b[1;33m(\u001b[0m\u001b[1;33m)\u001b[0m \u001b[1;32mis\u001b[0m \u001b[1;32mnot\u001b[0m \u001b[0mNone\u001b[0m\u001b[1;33m:\u001b[0m\u001b[1;33m\u001b[0m\u001b[0m\n\u001b[0;32m    453\u001b[0m                 \u001b[0mds9Cmd\u001b[0m\u001b[1;33m(\u001b[0m\u001b[1;34m\"mask transparency %d\"\u001b[0m \u001b[1;33m%\u001b[0m \u001b[0mgetDesiredMaskTransparency\u001b[0m\u001b[1;33m(\u001b[0m\u001b[1;33m)\u001b[0m\u001b[1;33m)\u001b[0m\u001b[1;33m\u001b[0m\u001b[0m\n",
        "\u001b[1;32m/renoir_data_00/fouchez/lsst/DM/stacks/v10.1/Linux64/afw/10.1+1/python/lsst/afw/display/ds9.pyc\u001b[0m in \u001b[0;36mmtv\u001b[1;34m(data, frame, init, wcs, isMask, lowOrderBits, title, settings)\u001b[0m\n\u001b[0;32m    511\u001b[0m \u001b[1;33m\u001b[0m\u001b[0m\n\u001b[0;32m    512\u001b[0m             \u001b[0msetMaskColor\u001b[0m\u001b[1;33m(\u001b[0m\u001b[0mcolor\u001b[0m\u001b[1;33m)\u001b[0m\u001b[1;33m\u001b[0m\u001b[0m\n\u001b[1;32m--> 513\u001b[1;33m             \u001b[0m_mtv\u001b[0m\u001b[1;33m(\u001b[0m\u001b[0mmask\u001b[0m\u001b[1;33m,\u001b[0m \u001b[0mwcs\u001b[0m\u001b[1;33m,\u001b[0m \u001b[0mtitle\u001b[0m\u001b[1;33m,\u001b[0m \u001b[0mTrue\u001b[0m\u001b[1;33m)\u001b[0m\u001b[1;33m\u001b[0m\u001b[0m\n\u001b[0m\u001b[0;32m    514\u001b[0m         \u001b[1;32mreturn\u001b[0m\u001b[1;33m\u001b[0m\u001b[0m\n\u001b[0;32m    515\u001b[0m     \u001b[1;32melif\u001b[0m \u001b[0mre\u001b[0m\u001b[1;33m.\u001b[0m\u001b[0msearch\u001b[0m\u001b[1;33m(\u001b[0m\u001b[1;34m\"::Image<\"\u001b[0m\u001b[1;33m,\u001b[0m \u001b[0mrepr\u001b[0m\u001b[1;33m(\u001b[0m\u001b[0mdata\u001b[0m\u001b[1;33m)\u001b[0m\u001b[1;33m)\u001b[0m\u001b[1;33m:\u001b[0m \u001b[1;31m# it's an Image; display it\u001b[0m\u001b[1;33m\u001b[0m\u001b[0m\n",
        "\u001b[1;32m/renoir_data_00/fouchez/lsst/DM/stacks/v10.1/Linux64/afw/10.1+1/python/lsst/afw/display/ds9.pyc\u001b[0m in \u001b[0;36m_mtv\u001b[1;34m(data, wcs, title, isMask)\u001b[0m\n\u001b[0;32m    551\u001b[0m             \u001b[1;32mpass\u001b[0m\u001b[1;33m\u001b[0m\u001b[0m\n\u001b[0;32m    552\u001b[0m \u001b[1;33m\u001b[0m\u001b[0m\n\u001b[1;32m--> 553\u001b[1;33m         \u001b[1;32mraise\u001b[0m \u001b[0me\u001b[0m\u001b[1;33m\u001b[0m\u001b[0m\n\u001b[0m\u001b[0;32m    554\u001b[0m \u001b[1;33m\u001b[0m\u001b[0m\n\u001b[0;32m    555\u001b[0m     \u001b[1;32mtry\u001b[0m\u001b[1;33m:\u001b[0m\u001b[1;33m\u001b[0m\u001b[0m\n",
        "\u001b[1;31mRuntimeError\u001b[0m: \n  File \"python/lsst/afw/display/simpleFits.cc\", line 466, in void lsst::afw::display::writeBasicFits(int, const ImageT&, const lsst::afw::image::Wcs*, const char*) [with ImageT = lsst::afw::image::Mask<short unsigned int>]\n    Error writing data for row 2002 {0}\nlsst::pex::exceptions::RuntimeError: 'Error writing data for row 2002'\n"
       ]
      }
     ],
     "prompt_number": 4
    },
    {
     "cell_type": "code",
     "collapsed": false,
     "input": [
      "config = ipDiffim.ImagePsfMatchTask.ConfigClass()\n",
      "config.kernel.name = \"AL\"\n",
      "subconfig = config.kernel.active"
     ],
     "language": "python",
     "metadata": {},
     "outputs": [],
     "prompt_number": 4
    },
    {
     "cell_type": "markdown",
     "metadata": {},
     "source": [
      "* Interlude ...  Here a test of latex : $x^2$  ... \n",
      "\n",
      "Now we run the subtraction, via the ipDiffim.ImagePsfMatchTask class "
     ]
    },
    {
     "cell_type": "code",
     "collapsed": false,
     "input": [
      "defFwhm         = 3.5\n",
      "fwhmS = defFwhm\n",
      "fwhmT = defFwhm\n",
      "psfmatch = ipDiffim.ImagePsfMatchTask(config)\n",
      "results  = psfmatch.subtractExposures(templateExposure, scienceExposure,\n",
      "                            templateFwhmPix = fwhmT, scienceFwhmPix = fwhmS)"
     ],
     "language": "python",
     "metadata": {},
     "outputs": [],
     "prompt_number": 5
    },
    {
     "cell_type": "markdown",
     "metadata": {},
     "source": [
      "Finalize by writing the output file of the image difference"
     ]
    },
    {
     "cell_type": "code",
     "collapsed": false,
     "input": [
      "differenceExposure = results.subtractedExposure\n",
      "differenceExposure.writeFits(outputPath)"
     ],
     "language": "python",
     "metadata": {},
     "outputs": [],
     "prompt_number": 6
    },
    {
     "cell_type": "code",
     "collapsed": false,
     "input": [],
     "language": "python",
     "metadata": {},
     "outputs": []
    }
   ],
   "metadata": {}
  }
 ]
}