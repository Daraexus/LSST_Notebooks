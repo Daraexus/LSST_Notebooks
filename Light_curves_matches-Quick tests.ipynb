{
 "cells": [
  {
   "cell_type": "code",
   "execution_count": 1,
   "metadata": {
    "collapsed": true
   },
   "outputs": [],
   "source": [
    "import pickle\n",
    "import sncosmo\n",
    "import numpy as np\n",
    "import lsst.daf.base as dafBase\n",
    "import lsst.daf.persistence as dafPersist\n",
    "\n",
    "import lsst.afw.display.ds9 as ds9"
   ]
  },
  {
   "cell_type": "code",
   "execution_count": 5,
   "metadata": {
    "collapsed": false
   },
   "outputs": [],
   "source": [
    "lcs = pickle.load(open('/renoir_data_02/jpreyes/lsst_data/transients.lc', 'rb'))"
   ]
  },
  {
   "cell_type": "code",
   "execution_count": 6,
   "metadata": {
    "collapsed": false
   },
   "outputs": [
    {
     "data": {
      "text/plain": [
       "115"
      ]
     },
     "execution_count": 6,
     "metadata": {},
     "output_type": "execute_result"
    }
   ],
   "source": [
    "len(lcs)"
   ]
  },
  {
   "cell_type": "code",
   "execution_count": 7,
   "metadata": {
    "collapsed": false
   },
   "outputs": [],
   "source": [
    "i=1\n",
    "DATADIR=\"/renoir_data_02/jpreyes/lsst_data/CFHTLS_master/\"\n",
    "butler = dafPersist.Butler(DATADIR+\"/output\")\n",
    "cl = butler.get('calexp', {'visit': 850177 , 'filter':'r' , 'ccd':14})\n",
    "    \n",
    "wcs = cl.getWcs()\n",
    "ds9.mtv(cl, frame=1)\n",
    "\n",
    "for n, tl in enumerate(lcs):\n",
    "   \n",
    "\n",
    "    x, y = wcs.skyToPixel(tl[0]['ra'], tl[0]['dec'])\n",
    "    #ds9.dot(n, x, y, frame=1, size=2)\n",
    "    ds9.dot('o', x, y, frame=1, size=10, ctype=ds9.BLUE)\n",
    "    i+=1\n",
    "    "
   ]
  },
  {
   "cell_type": "code",
   "execution_count": 20,
   "metadata": {
    "collapsed": false
   },
   "outputs": [
    {
     "data": {
      "image/png": "[encoded data removed]",
      "text/plain": [
       "<matplotlib.figure.Figure at 0x7f44b0a5bed0>"
      ]
     },
     "metadata": {},
     "output_type": "display_data"
    }
   ],
   "source": [
    "%matplotlib inline \n",
    "lc = lcs[3865]\n",
    "#print source_distance( lc[0],ref )\n",
    "fig = sncosmo.plot_lc(lc, color='red', xfigsize=10)\n",
    "axes = fig.get_axes()\n",
    "xlim = axes[0].get_xlim()\n",
    "axes[0].set_xlim(xlim[0]-10, xlim[1]+10)\n",
    "\n",
    "#visits = [ob[0] for ob in lc['visits']]\n",
    "#fig.suptitle(\"object \"+str(i)+\":\"+str(visits))\n",
    "fig.show()\n",
    "#i+=1"
   ]
  },
  {
   "cell_type": "code",
   "execution_count": 52,
   "metadata": {
    "collapsed": true
   },
   "outputs": [],
   "source": []
  },
  {
   "cell_type": "code",
   "execution_count": 223,
   "metadata": {
    "collapsed": false
   },
   "outputs": [
    {
     "data": {
      "text/plain": [
       "lsst.afw.geom.geomLib.Angle"
      ]
     },
     "execution_count": 223,
     "metadata": {},
     "output_type": "execute_result"
    }
   ],
   "source": [
    "type(tl[0]['ra'])"
   ]
  },
  {
   "cell_type": "code",
   "execution_count": 71,
   "metadata": {
    "collapsed": false
   },
   "outputs": [
    {
     "data": {
      "text/plain": [
       "3.74551 rad"
      ]
     },
     "execution_count": 71,
     "metadata": {},
     "output_type": "execute_result"
    }
   ],
   "source": [
    "tl[0]['ra']"
   ]
  },
  {
   "cell_type": "code",
   "execution_count": null,
   "metadata": {
    "collapsed": false
   },
   "outputs": [],
   "source": [
    "%matplotlib inline\n",
    "i = 1\n",
    "for lc in lcs:\n",
    "    fig = sncosmo.plot_lc(lc, color='red', xfigsize=10)\n",
    "    axes = fig.get_axes()\n",
    "    xlim = axes[0].get_xlim()\n",
    "    axes[0].set_xlim(xlim[0]-10, xlim[1]+10)\n",
    "    \n",
    "    visits = [ob[0] for ob in lc['visits']]\n",
    "    fig.suptitle(\"object \"+str(i)+\":\"+str(visits))\n",
    "    fig.show()\n",
    "    i+=1"
   ]
  },
  {
   "cell_type": "code",
   "execution_count": 124,
   "metadata": {
    "collapsed": false
   },
   "outputs": [],
   "source": []
  },
  {
   "cell_type": "code",
   "execution_count": null,
   "metadata": {
    "collapsed": false
   },
   "outputs": [],
   "source": []
  },
  {
   "cell_type": "code",
   "execution_count": 125,
   "metadata": {
    "collapsed": true
   },
   "outputs": [],
   "source": []
  },
  {
   "cell_type": "code",
   "execution_count": 49,
   "metadata": {
    "collapsed": false
   },
   "outputs": [],
   "source": [
    "import re\n",
    "f = open('/renoir_data_02/jpreyes/lsst_data/sn_control/J_A+A_523_A7_table9.dat.txt','r')\n",
    "data = f.read()\n",
    "m = re.findall('^06D3.*?\\\\|(.*?)\\\\|', data, re.MULTILINE)"
   ]
  },
  {
   "cell_type": "code",
   "execution_count": 25,
   "metadata": {
    "collapsed": false
   },
   "outputs": [],
   "source": [
    "import astropy.coordinates as coord\n",
    "import astropy.units as u\n",
    "\n",
    "c = coord.SkyCoord('14 18 47.802 +52 45 23.610', unit=(u.hourangle, u.deg))\n"
   ]
  },
  {
   "cell_type": "code",
   "execution_count": 50,
   "metadata": {
    "collapsed": false
   },
   "outputs": [
    {
     "data": {
      "text/plain": [
       "['14 17 10.042 +53 01 29.370',\n",
       " '14 20 43.574 +52 11 27.830',\n",
       " '14 17 31.600 +52 54 44.900',\n",
       " '14 19 25.848 +52 38 27.540',\n",
       " '14 22 17.209 +52 57 27.650',\n",
       " '14 22 12.577 +52 38 27.050',\n",
       " '14 16 59.392 +52 52 57.160',\n",
       " '14 17 21.664 +52 27 10.140',\n",
       " '14 18 47.802 +52 45 23.610',\n",
       " '14 17 01.087 +52 13 56.640',\n",
       " '14 19 23.419 +53 01 22.850',\n",
       " '14 21 13.336 +52 27 21.880',\n",
       " '14 22 04.770 +52 20 18.120',\n",
       " '14 20 18.605 +52 53 49.790',\n",
       " '14 18 31.419 +52 26 34.470',\n",
       " '14 17 44.630 +52 21 40.250',\n",
       " '14 17 03.234 +52 56 10.510']"
      ]
     },
     "execution_count": 50,
     "metadata": {},
     "output_type": "execute_result"
    }
   ],
   "source": [
    "m"
   ]
  },
  {
   "cell_type": "code",
   "execution_count": 23,
   "metadata": {
    "collapsed": true
   },
   "outputs": [],
   "source": [
    "def source_distance(src1, src2):\n",
    "    ra, dec = src1['ra'], src1['dec']\n",
    "    ra2, dec2 = src2['ra'], src2['dec']\n",
    "            \n",
    "    return np.sqrt((float(ra)-float(ra2))**2+(float(dec)-float(dec2))**2)/3.14159*180*3600"
   ]
  },
  {
   "cell_type": "code",
   "execution_count": 54,
   "metadata": {
    "collapsed": false
   },
   "outputs": [],
   "source": [
    "import lsst.afw.geom as afwGeom\n",
    "for sn in m:\n",
    "    c = coord.SkyCoord(sn, unit=(u.hourangle, u.deg))\n",
    "    \n",
    "    try:\n",
    "        x, y = wcs.skyToPixel(afwGeom.Angle(c.ra.degree, afwGeom.degrees), afwGeom.Angle(c.dec.degree, afwGeom.degrees))\n",
    "\n",
    "        ds9.dot('o', x, y, frame=1, size=25, ctype= ds9.RED)\n",
    "        i+=1\n",
    "    except Exception, e:\n",
    "        print e\n",
    "    "
   ]
  },
  {
   "cell_type": "code",
   "execution_count": null,
   "metadata": {
    "collapsed": false
   },
   "outputs": [],
   "source": [
    "matches = 0\n",
    "for sn in m:\n",
    "    match = False\n",
    "    c = coord.SkyCoord(sn, unit=(u.hourangle, u.deg))\n",
    "    \n",
    "    \n",
    "    for i, lc in enumerate(lcs):\n",
    "        #print lc[0]['ra']\n",
    "        #print lc[0]['dec']\n",
    "        if source_distance(lc[0], {'ra':c.ra.radian, 'dec':c.dec.radian}) < 2:\n",
    "            match = True\n",
    "            matches+=1\n",
    "            print 'for object '+str(c.ra) +' '+str(c.dec)+' there is a match in curve ' +str(i)\n",
    "            break\n",
    "    \n",
    "        #print 'no match'\n",
    "print 'found ' + str(float(matches)/float(len(m))) "
   ]
  },
  {
   "cell_type": "code",
   "execution_count": 56,
   "metadata": {
    "collapsed": false
   },
   "outputs": [
    {
     "name": "stdout",
     "output_type": "stream",
     "text": [
      "found 0.470588235294\n"
     ]
    }
   ],
   "source": [
    "print 'found ' + str(float(matches)/float(len(m))) "
   ]
  },
  {
   "cell_type": "code",
   "execution_count": 44,
   "metadata": {
    "collapsed": false
   },
   "outputs": [
    {
     "data": {
      "text/plain": [
       "Point2D(488.471245, 2686.814043)"
      ]
     },
     "execution_count": 44,
     "metadata": {},
     "output_type": "execute_result"
    }
   ],
   "source": [
    "wcs.getPixelOrigin()"
   ]
  },
  {
   "cell_type": "code",
   "execution_count": 46,
   "metadata": {
    "collapsed": false
   },
   "outputs": [
    {
     "data": {
      "text/plain": [
       "Fk5Coord(214.58956829296875*afwGeom.degrees, 52.920761756358175*afwGeom.degrees, 2000.0)"
      ]
     },
     "execution_count": 46,
     "metadata": {},
     "output_type": "execute_result"
    }
   ],
   "source": [
    "wcs.pixelToSky(0,0)"
   ]
  },
  {
   "cell_type": "code",
   "execution_count": 8,
   "metadata": {
    "collapsed": true
   },
   "outputs": [],
   "source": [
    "dsrcs = butler.get('deepDiff_diaSrc', {'visit': 850177 , 'filter':'r' , 'ccd':14})"
   ]
  },
  {
   "cell_type": "code",
   "execution_count": 14,
   "metadata": {
    "collapsed": false
   },
   "outputs": [],
   "source": [
    "new = dsrcs.copy()\n",
    "new.clear()\n",
    "a = new.addNew()"
   ]
  },
  {
   "cell_type": "code",
   "execution_count": 25,
   "metadata": {
    "collapsed": false
   },
   "outputs": [],
   "source": [
    "import lsst.afw.geom as afwGeom\n",
    "a.setDec(afwGeom.Angle(1.0))\n",
    "new.append(a)"
   ]
  },
  {
   "cell_type": "code",
   "execution_count": 27,
   "metadata": {
    "collapsed": false
   },
   "outputs": [
    {
     "name": "stdout",
     "output_type": "stream",
     "text": [
      "1 rad\n",
      "1 rad\n"
     ]
    }
   ],
   "source": [
    "for source in new:\n",
    "    print a['coord_dec']"
   ]
  },
  {
   "cell_type": "code",
   "execution_count": null,
   "metadata": {
    "collapsed": true
   },
   "outputs": [],
   "source": []
  }
 ],
 "metadata": {
  "kernelspec": {
   "display_name": "Python 2",
   "language": "python",
   "name": "python2"
  },
  "language_info": {
   "codemirror_mode": {
    "name": "ipython",
    "version": 2
   },
   "file_extension": ".py",
   "mimetype": "text/x-python",
   "name": "python",
   "nbconvert_exporter": "python",
   "pygments_lexer": "ipython2",
   "version": "2.7.11"
  }
 },
 "nbformat": 4,
 "nbformat_minor": 0
}
