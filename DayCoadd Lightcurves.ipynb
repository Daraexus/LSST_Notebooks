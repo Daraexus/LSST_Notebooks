{
 "cells": [
  {
   "cell_type": "code",
   "execution_count": 1,
   "metadata": {
    "collapsed": true,
    "deletable": true,
    "editable": true
   },
   "outputs": [],
   "source": [
    "import lsst.daf.persistence as dafPersist\n",
    "import matplotlib.pyplot as plt\n",
    "import numpy as np\n",
    "\n",
    "import lsst.afw.table as afwTable\n",
    "import lsst.afw.geom as afwGeom\n",
    "import Utils.DiaSourceTools as DSTools\n",
    "from astropy.time import Time\n",
    "\n",
    "import lsst.afw.display.ds9 as ds9\n",
    "\n",
    "import re"
   ]
  },
  {
   "cell_type": "code",
   "execution_count": 2,
   "metadata": {
    "collapsed": true,
    "deletable": true,
    "editable": true
   },
   "outputs": [],
   "source": [
    "DATADIR=\"/datadec/cppm/jpreyes/CFHT_Test/\"\n",
    "DATADIR=\"/renoir_data_02/jpreyes/lsst_data/CFHTLS_daytest/\""
   ]
  },
  {
   "cell_type": "code",
   "execution_count": 3,
   "metadata": {
    "collapsed": false,
    "deletable": true,
    "editable": true
   },
   "outputs": [],
   "source": [
    "directory = DATADIR+\"/detect_testSN2/\"\n",
    "butler = dafPersist.Butler(directory) "
   ]
  },
  {
   "cell_type": "code",
   "execution_count": 4,
   "metadata": {
    "collapsed": false,
    "deletable": true,
    "editable": true
   },
   "outputs": [],
   "source": [
    "patches = []\n",
    "patches_file=open(DATADIR+\"patches.txt\", \"rb\")\n",
    "for line in patches_file:\n",
    "    line = line.replace('\\n','')\n",
    "    text = re.split(\"=| \",line)\n",
    "    patches.append(text[-1])\n",
    "patches_file.close()"
   ]
  },
  {
   "cell_type": "code",
   "execution_count": 5,
   "metadata": {
    "collapsed": false,
    "deletable": true,
    "editable": true
   },
   "outputs": [
    {
     "name": "stdout",
     "output_type": "stream",
     "text": [
      "['2006-01-31', '2006-02-03', '2006-02-06', '2006-02-25', '2006-03-05', '2006-04-23', '2006-04-26', '2006-04-30', '2006-05-04', '2006-05-20', '2006-05-24', '2006-05-28', '2006-06-02', '2006-06-06', '2006-06-20', '2006-06-25', '2006-06-30', '2006-07-03', '2006-07-19', '2006-07-23', '2006-07-27']\n",
      "['8,5', '8,6', '8,7', '8,8', '8,9', '8,10', '8,11', '8,12', '8,13', '8,14', '8,15', '8,16', '8,17', '8,18', '8,19', '8,20', '8,21', '8,22', '8,23', '8,24', '8,25', '9,5', '9,6', '9,7', '9,8', '9,9', '9,10', '9,11', '9,12', '9,13', '9,14', '9,15', '9,16', '9,17', '9,18', '9,19', '9,20', '9,21', '9,22', '9,23', '9,24', '9,25', '10,5', '10,6', '10,7', '10,8', '10,9', '10,10', '10,11', '10,12', '10,13', '10,14', '10,15', '10,16', '10,17', '10,18', '10,19', '10,20', '10,21', '10,22', '10,23', '10,24', '10,25', '11,5', '11,6', '11,7', '11,8', '11,9', '11,10', '11,11', '11,12', '11,13', '11,14', '11,15', '11,16', '11,17', '11,18', '11,19', '11,20', '11,21', '11,22', '11,23', '11,24', '11,25', '12,5', '12,6', '12,7', '12,8', '12,9', '12,10', '12,11', '12,12', '12,13', '12,14', '12,15', '12,16', '12,17', '12,18', '12,19', '12,20', '12,21', '12,22', '12,23', '12,24', '12,25', '13,5', '13,6', '13,7', '13,8', '13,9', '13,10', '13,11', '13,12', '13,13', '13,14', '13,15', '13,16', '13,17', '13,18', '13,19', '13,20', '13,21', '13,22', '13,23', '13,24', '13,25', '14,5', '14,6', '14,7', '14,8', '14,9', '14,10', '14,11', '14,12', '14,13', '14,14', '14,15', '14,16', '14,17', '14,18', '14,19', '14,20', '14,21', '14,22', '14,23', '14,24', '14,25', '15,5', '15,6', '15,7', '15,8', '15,9', '15,10', '15,11', '15,12', '15,13', '15,14', '15,15', '15,16', '15,17', '15,18', '15,19', '15,20', '15,21', '15,22', '15,23', '15,24', '15,25', '16,5', '16,6', '16,7', '16,8', '16,9', '16,10', '16,11', '16,12', '16,13', '16,14', '16,15', '16,16', '16,17', '16,18', '16,19', '16,20', '16,21', '16,22', '16,23', '16,24', '16,25', '17,5', '17,6', '17,7', '17,8', '17,9', '17,10', '17,11', '17,12', '17,13', '17,14', '17,15', '17,16', '17,17', '17,18', '17,19', '17,20', '17,21', '17,22', '17,23', '17,24', '17,25', '18,5', '18,6', '18,7', '18,8', '18,9', '18,10', '18,11', '18,12', '18,13', '18,14', '18,15', '18,16', '18,17', '18,18', '18,19', '18,20', '18,21', '18,22', '18,23', '18,24', '18,25', '19,5', '19,6', '19,7', '19,8', '19,9', '19,10', '19,11', '19,12', '19,13', '19,14', '19,15', '19,16', '19,17', '19,18', '19,19', '19,20', '19,21', '19,22', '19,23', '19,24', '19,25', '20,5', '20,6', '20,7', '20,8', '20,9', '20,10', '20,11', '20,12', '20,13', '20,14', '20,15', '20,16', '20,17', '20,18', '20,19', '20,20', '20,21', '20,22', '20,23', '20,24', '20,25', '21,5', '21,6', '21,7', '21,8', '21,9', '21,10', '21,11', '21,12', '21,13', '21,14', '21,15', '21,16', '21,17', '21,18', '21,19', '21,20', '21,21', '21,22', '21,23', '21,24', '21,25', '22,5', '22,6', '22,7', '22,8', '22,9', '22,10', '22,11', '22,12', '22,13', '22,14', '22,15', '22,16', '22,17', '22,18', '22,19', '22,20', '22,21', '22,22', '22,23', '22,24', '22,25', '23,5', '23,6', '23,7', '23,8', '23,9', '23,10', '23,11', '23,12', '23,13', '23,14', '23,15', '23,16', '23,17', '23,18', '23,19', '23,20', '23,21', '23,22', '23,23', '23,24', '23,25', '24,5', '24,6', '24,7', '24,8', '24,9', '24,10', '24,11', '24,12', '24,13', '24,14', '24,15', '24,16', '24,17', '24,18', '24,19', '24,20', '24,21', '24,22', '24,23', '24,24', '24,25', '25,5', '25,6', '25,7', '25,8', '25,9', '25,10', '25,11', '25,12', '25,13', '25,14', '25,15', '25,16', '25,17', '25,18', '25,19', '25,20', '25,21', '25,22', '25,23', '25,24', '25,25', '26,5', '26,6', '26,7', '26,8', '26,9', '26,10', '26,11', '26,12', '26,13', '26,14', '26,15', '26,16', '26,17', '26,18', '26,19', '26,20', '26,21', '26,22', '26,23', '26,24', '26,25', '27,5', '27,6', '27,7', '27,8', '27,9', '27,10', '27,11', '27,12', '27,13', '27,14', '27,15', '27,16', '27,17', '27,18', '27,19', '27,20', '27,21', '27,22', '27,23', '27,24', '27,25', '28,5', '28,6', '28,7', '28,8', '28,9', '28,10', '28,11', '28,12', '28,13', '28,14', '28,15', '28,16', '28,17', '28,18', '28,19', '28,20', '28,21', '28,22', '28,23', '28,24', '28,25']\n"
     ]
    }
   ],
   "source": [
    "dates = []\n",
    "days_file=open(DATADIR+\"day_list.txt\", \"rb\")\n",
    "\n",
    "for day in days_file:\n",
    "    day = day.replace('\\n','')\n",
    "    dates.append(day)\n",
    "\n",
    "days_file.close()\n",
    "print dates\n",
    "print patches"
   ]
  },
  {
   "cell_type": "code",
   "execution_count": 6,
   "metadata": {
    "collapsed": true,
    "deletable": true,
    "editable": true
   },
   "outputs": [],
   "source": [
    "dates_dict = {}\n",
    "for date in dates:\n",
    "    dates_dict[date] = []"
   ]
  },
  {
   "cell_type": "code",
   "execution_count": 7,
   "metadata": {
    "collapsed": false,
    "deletable": true,
    "editable": true
   },
   "outputs": [],
   "source": [
    "catalogs = []\n",
    "\n",
    "for date in dates:\n",
    "    date_catalog = None\n",
    "    for patch in patches:\n",
    "        if butler.datasetExists(\"dayDiff_class_diaSrc\", dataId={\"filter\":'r',\"tract\":0, \"patch\":patch, 'date':date}):\n",
    "            dates_dict[date].append(patch)\n",
    "            if date_catalog is None:\n",
    "                date_catalog = butler.get(\"dayDiff_class_diaSrc\", dataId={\"filter\":'r',\"tract\":0, \"patch\":patch, 'date':date})\n",
    "            else:\n",
    "                date_catalog.extend(butler.get(\"dayDiff_class_diaSrc\", dataId={\"filter\":'r',\"tract\":0, \"patch\":patch, 'date':date}))\n",
    "        \n",
    "    catalogs.append((date, date_catalog))"
   ]
  },
  {
   "cell_type": "code",
   "execution_count": 8,
   "metadata": {
    "collapsed": false,
    "deletable": true,
    "editable": true
   },
   "outputs": [
    {
     "name": "stdout",
     "output_type": "stream",
     "text": [
      "['12,5', '12,6', '12,7', '12,8', '12,9', '12,10', '12,11', '12,12', '12,13', '12,14', '12,15', '12,16', '12,17', '12,18', '12,19', '12,20', '12,21', '12,22', '12,23', '12,24', '12,25', '13,5', '13,6', '13,7', '13,8', '13,9', '13,10', '13,11', '13,12', '13,13', '13,14', '13,15', '13,16', '13,17', '13,18', '13,19', '13,20', '13,21', '13,22', '13,23', '13,24', '13,25', '14,5', '14,6', '14,7', '14,8', '14,9', '14,10', '14,11', '14,12', '14,13', '14,14', '14,15', '14,16', '14,17', '14,18', '14,19', '14,20', '14,21', '14,22', '14,23', '14,24', '14,25', '15,5', '15,6', '15,7', '15,8', '15,9', '15,10', '15,11', '15,12', '15,13', '15,14', '15,15', '15,16', '15,17', '15,18', '15,19', '15,20', '15,21', '15,22', '15,23', '15,24', '15,25', '16,5', '16,6', '16,7', '16,8', '16,9', '16,10', '16,11', '16,12', '16,13', '16,14', '16,15', '16,16', '16,17', '16,18', '16,19', '16,20', '16,21', '16,22', '16,23', '16,24', '16,25', '17,5', '17,6', '17,7', '17,8', '17,9', '17,10', '17,11', '17,12', '17,13', '17,14', '17,15', '17,16', '17,17', '17,18', '17,19', '17,20', '17,21', '17,22', '17,23', '17,24', '17,25', '18,5', '18,6', '18,7', '18,8', '18,9', '18,10', '18,11', '18,12', '18,13', '18,14', '18,15', '18,16', '18,17', '18,18', '18,19', '18,20', '18,21', '18,22', '18,23', '18,24', '18,25', '19,5', '19,6', '19,7', '19,8', '19,9', '19,10', '19,11', '19,12', '19,13', '19,14', '19,15', '19,16', '19,17', '19,18', '19,19', '19,20', '19,21', '19,22', '19,23', '19,24', '19,25', '20,5', '20,6', '20,7', '20,8', '20,9', '20,10', '20,11', '20,12', '20,13', '20,14', '20,15', '20,16', '20,17', '20,18', '20,19', '20,20', '20,21', '20,22', '20,23', '20,24', '20,25', '21,5', '21,6', '21,7', '21,8', '21,9', '21,10', '21,11', '21,12', '21,13', '21,14', '21,15', '21,16', '21,17', '21,18', '21,19', '21,20', '21,21', '21,23', '21,24', '21,25', '22,5', '22,6', '22,7', '22,8', '22,9', '22,10', '22,11', '22,12', '22,13', '22,14', '22,15', '22,16', '22,17', '22,18', '22,19', '22,20', '22,21', '22,22', '22,23', '22,24', '22,25', '23,5', '23,6', '23,7', '23,8', '23,9', '23,10', '23,11', '23,12', '23,13', '23,14', '23,15', '23,16', '23,17', '23,18', '23,19', '23,20', '23,21', '23,22', '23,23', '23,24', '23,25', '24,5', '24,6', '24,7', '24,8', '24,9', '24,10', '24,11', '24,12', '24,13', '24,14', '24,15', '24,16', '24,17', '24,18', '24,19', '24,20', '24,21', '24,22', '24,23', '24,24', '24,25']\n"
     ]
    }
   ],
   "source": [
    "print dates_dict[\"2006-06-06\"]"
   ]
  },
  {
   "cell_type": "code",
   "execution_count": 9,
   "metadata": {
    "collapsed": false,
    "deletable": true,
    "editable": true
   },
   "outputs": [
    {
     "name": "stdout",
     "output_type": "stream",
     "text": [
      "14565\n",
      "3581\n",
      "5868\n",
      "3522\n",
      "11726\n",
      "6208\n",
      "6123\n",
      "15567\n",
      "16882\n",
      "2835\n",
      "9378\n",
      "7730\n",
      "10461\n",
      "12081\n",
      "4085\n",
      "9894\n",
      "6583\n",
      "7889\n",
      "3085\n",
      "10928\n",
      "6967\n"
     ]
    }
   ],
   "source": [
    "for date,catalog in catalogs:\n",
    "    print len(catalog)"
   ]
  },
  {
   "cell_type": "code",
   "execution_count": 10,
   "metadata": {
    "collapsed": true,
    "deletable": true,
    "editable": true
   },
   "outputs": [],
   "source": [
    "\n",
    "#multi_matches = afwTable.MultiMatch(catalogs[0].schema, {'mjd':int}, radius=afwGeom.Angle(0.000005, afwGeom.radians))"
   ]
  },
  {
   "cell_type": "code",
   "execution_count": null,
   "metadata": {
    "collapsed": true,
    "deletable": true,
    "editable": true
   },
   "outputs": [],
   "source": []
  },
  {
   "cell_type": "code",
   "execution_count": 11,
   "metadata": {
    "collapsed": false,
    "deletable": true,
    "editable": true
   },
   "outputs": [
    {
     "name": "stdout",
     "output_type": "stream",
     "text": [
      "53766.0\n",
      "53769.0\n",
      "53772.0\n",
      "53791.0\n",
      "53799.0\n",
      "53848.0\n",
      "53851.0\n",
      "53855.0\n",
      "53859.0\n",
      "53875.0\n",
      "53879.0\n",
      "53883.0\n",
      "53888.0\n",
      "53892.0\n",
      "53906.0\n",
      "53911.0\n",
      "53916.0\n",
      "53919.0\n",
      "53935.0\n",
      "53939.0\n",
      "53943.0\n"
     ]
    }
   ],
   "source": [
    "multi_matches = afwTable.MultiMatch(catalogs[0][-1].schema, {'mjd':int}, radius=afwGeom.Angle(1./3600., afwGeom.degrees))\n",
    "for date, catalog in catalogs:\n",
    "    t = Time(date)\n",
    "\n",
    "    multi_matches.add(catalog, {'mjd':int(t.mjd)})\n",
    "    print t.mjd\n",
    "results = multi_matches.finish(removeAmbiguous=False)"
   ]
  },
  {
   "cell_type": "code",
   "execution_count": 12,
   "metadata": {
    "collapsed": true,
    "deletable": true,
    "editable": true
   },
   "outputs": [],
   "source": [
    "multi_matches = afwTable.MultiMatch(catalogs[0][-1].schema, {'mjd':int}, radius=afwGeom.Angle(1./3600., afwGeom.degrees))\n",
    "\n",
    "for date in dates:\n",
    "    t = Time(date)\n",
    "    date_catalog = None\n",
    "    for patch in patches:\n",
    "        if butler.datasetExists(\"dayDiff_class_diaSrc\", dataId={\"filter\":'r',\"tract\":0, \"patch\":patch, 'date':date}):\n",
    "            date_catalog = butler.get(\"dayDiff_class_diaSrc\", dataId={\"filter\":'r',\"tract\":0, \"patch\":patch, 'date':date})\n",
    "            multi_matches.add(date_catalog, {'mjd':int(t.mjd)})\n",
    "        \n",
    "    \n",
    "results = multi_matches.finish(removeAmbiguous=False)    "
   ]
  },
  {
   "cell_type": "code",
   "execution_count": 13,
   "metadata": {
    "collapsed": true,
    "deletable": true,
    "editable": true
   },
   "outputs": [],
   "source": [
    "lcs = DSTools.get_light_curves_from_multimatch_results2(results)"
   ]
  },
  {
   "cell_type": "code",
   "execution_count": 14,
   "metadata": {
    "collapsed": false,
    "deletable": true,
    "editable": true
   },
   "outputs": [
    {
     "data": {
      "text/plain": [
       "49623"
      ]
     },
     "execution_count": 14,
     "metadata": {},
     "output_type": "execute_result"
    }
   ],
   "source": [
    "len(lcs)"
   ]
  },
  {
   "cell_type": "code",
   "execution_count": 141,
   "metadata": {
    "collapsed": true,
    "deletable": true,
    "editable": true
   },
   "outputs": [],
   "source": [
    "t_lcs = DSTools.threshold_light_curves(lcs, 4)"
   ]
  },
  {
   "cell_type": "code",
   "execution_count": 142,
   "metadata": {
    "collapsed": false,
    "deletable": true,
    "editable": true
   },
   "outputs": [
    {
     "data": {
      "text/plain": [
       "10175"
      ]
     },
     "execution_count": 142,
     "metadata": {},
     "output_type": "execute_result"
    }
   ],
   "source": [
    "len(t_lcs)"
   ]
  },
  {
   "cell_type": "code",
   "execution_count": 17,
   "metadata": {
    "collapsed": false,
    "deletable": true,
    "editable": true
   },
   "outputs": [],
   "source": [
    "\n",
    "stack_lc = []\n",
    "for t_lc in t_lcs:\n",
    "    stack_lc.append(DSTools.build_lightcurve3(t_lc, \"base_CircularApertureFlux_3_0_flux\"))"
   ]
  },
  {
   "cell_type": "code",
   "execution_count": 18,
   "metadata": {
    "collapsed": false,
    "deletable": true,
    "editable": true,
    "scrolled": true
   },
   "outputs": [
    {
     "name": "stdout",
     "output_type": "stream",
     "text": [
      "06D3bz 14 17 10.042 +53 01 29.370\n"
     ]
    },
    {
     "data": {
      "image/png": "[encoded data removed]",
      "text/plain": [
       "<matplotlib.figure.Figure at 0x7f89556c8190>"
      ]
     },
     "metadata": {},
     "output_type": "display_data"
    },
    {
     "name": "stdout",
     "output_type": "stream",
     "text": [
      "06D3cb 14 20 43.574 +52 11 27.830\n"
     ]
    },
    {
     "data": {
      "image/png": "[encoded data removed]",
      "text/plain": [
       "<matplotlib.figure.Figure at 0x7f8955a80c90>"
      ]
     },
     "metadata": {},
     "output_type": "display_data"
    },
    {
     "name": "stdout",
     "output_type": "stream",
     "text": [
      "06D3cc 14 17 31.600 +52 54 44.900\n"
     ]
    },
    {
     "data": {
      "image/png": "[encoded data removed]",
      "text/plain": [
       "<matplotlib.figure.Figure at 0x7f8955a80cd0>"
      ]
     },
     "metadata": {},
     "output_type": "display_data"
    },
    {
     "name": "stdout",
     "output_type": "stream",
     "text": [
      "06D3cn 14 19 25.848 +52 38 27.540\n"
     ]
    },
    {
     "data": {
      "image/png": "[encoded data removed]",
      "text/plain": [
       "<matplotlib.figure.Figure at 0x7f89556d0b90>"
      ]
     },
     "metadata": {},
     "output_type": "display_data"
    },
    {
     "name": "stdout",
     "output_type": "stream",
     "text": [
      "06D3df 14 22 17.209 +52 57 27.650\n"
     ]
    },
    {
     "data": {
      "image/png": "[encoded data removed]",
      "text/plain": [
       "<matplotlib.figure.Figure at 0x7f8955572d10>"
      ]
     },
     "metadata": {},
     "output_type": "display_data"
    },
    {
     "name": "stdout",
     "output_type": "stream",
     "text": [
      "06D3dl 14 22 12.577 +52 38 27.050\n"
     ]
    },
    {
     "data": {
      "image/png": "[encoded data removed]",
      "text/plain": [
       "<matplotlib.figure.Figure at 0x7f89554e41d0>"
      ]
     },
     "metadata": {},
     "output_type": "display_data"
    },
    {
     "name": "stdout",
     "output_type": "stream",
     "text": [
      "06D3do 14 16 59.392 +52 52 57.160\n"
     ]
    },
    {
     "data": {
      "image/png": "[encoded data removed]",
      "text/plain": [
       "<matplotlib.figure.Figure at 0x7f895536fe50>"
      ]
     },
     "metadata": {},
     "output_type": "display_data"
    },
    {
     "name": "stdout",
     "output_type": "stream",
     "text": [
      "06D3dt 14 17 21.664 +52 27 10.140\n"
     ]
    },
    {
     "data": {
      "image/png": "[encoded data removed]",
      "text/plain": [
       "<matplotlib.figure.Figure at 0x7f89556cbf50>"
      ]
     },
     "metadata": {},
     "output_type": "display_data"
    },
    {
     "name": "stdout",
     "output_type": "stream",
     "text": [
      "06D3ed 14 18 47.802 +52 45 23.610\n"
     ]
    },
    {
     "data": {
      "image/png": "[encoded data removed]",
      "text/plain": [
       "<matplotlib.figure.Figure at 0x7f8955166310>"
      ]
     },
     "metadata": {},
     "output_type": "display_data"
    },
    {
     "name": "stdout",
     "output_type": "stream",
     "text": [
      "06D3el 14 17 01.087 +52 13 56.640\n"
     ]
    },
    {
     "data": {
      "image/png": "[encoded data removed]",
      "text/plain": [
       "<matplotlib.figure.Figure at 0x7f89552ee150>"
      ]
     },
     "metadata": {},
     "output_type": "display_data"
    },
    {
     "name": "stdout",
     "output_type": "stream",
     "text": [
      "06D3em 14 19 23.419 +53 01 22.850\n"
     ]
    },
    {
     "data": {
      "image/png": "[encoded data removed]",
      "text/plain": [
       "<matplotlib.figure.Figure at 0x7f8955610290>"
      ]
     },
     "metadata": {},
     "output_type": "display_data"
    },
    {
     "name": "stdout",
     "output_type": "stream",
     "text": [
      "06D3en 14 21 13.336 +52 27 21.880\n"
     ]
    },
    {
     "data": {
      "image/png": "[encoded data removed]",
      "text/plain": [
       "<matplotlib.figure.Figure at 0x7f8955692890>"
      ]
     },
     "metadata": {},
     "output_type": "display_data"
    },
    {
     "name": "stdout",
     "output_type": "stream",
     "text": [
      "06D3et 14 22 04.770 +52 20 18.120\n"
     ]
    },
    {
     "data": {
      "image/png": "[encoded data removed]",
      "text/plain": [
       "<matplotlib.figure.Figure at 0x7f8955172110>"
      ]
     },
     "metadata": {},
     "output_type": "display_data"
    },
    {
     "name": "stdout",
     "output_type": "stream",
     "text": [
      "06D3fp 14 20 18.605 +52 53 49.790\n"
     ]
    },
    {
     "data": {
      "image/png": "[encoded data removed]",
      "text/plain": [
       "<matplotlib.figure.Figure at 0x7f8955144f50>"
      ]
     },
     "metadata": {},
     "output_type": "display_data"
    },
    {
     "name": "stdout",
     "output_type": "stream",
     "text": [
      "06D3gh 14 18 31.419 +52 26 34.470\n"
     ]
    },
    {
     "data": {
      "image/png": "[encoded data removed]",
      "text/plain": [
       "<matplotlib.figure.Figure at 0x7f895556d8d0>"
      ]
     },
     "metadata": {},
     "output_type": "display_data"
    },
    {
     "name": "stdout",
     "output_type": "stream",
     "text": [
      "06D3gn 14 17 44.630 +52 21 40.250\n"
     ]
    },
    {
     "data": {
      "image/png": "[encoded data removed]",
      "text/plain": [
       "<matplotlib.figure.Figure at 0x7f895505dd50>"
      ]
     },
     "metadata": {},
     "output_type": "display_data"
    },
    {
     "name": "stdout",
     "output_type": "stream",
     "text": [
      "06D3gx 14 17 03.234 +52 56 10.510\n"
     ]
    },
    {
     "data": {
      "image/png": "[encoded data removed]",
      "text/plain": [
       "<matplotlib.figure.Figure at 0x7f89551ffb50>"
      ]
     },
     "metadata": {},
     "output_type": "display_data"
    }
   ],
   "source": [
    "%matplotlib inline\n",
    "import re\n",
    "import astropy.coordinates as coord\n",
    "import astropy.units as u\n",
    "\n",
    "filter='r'\n",
    "\n",
    "f = open('/renoir_data_02/jpreyes/lsst_data/sn_control/J_A+A_523_A7_table9.dat.txt','r')\n",
    "data_elems = f.read()\n",
    "elems = re.findall('^(06D3.*?)\\\\|(.*?)\\\\|', data_elems, re.MULTILINE)\n",
    "\n",
    "f = open('/renoir_data_02/jpreyes/lsst_data/sn_control/J_A+A_523_A7_table10.dat.txt','r')\n",
    "data = f.read()\n",
    "\n",
    "snls_array = []\n",
    "for sn in elems:\n",
    "    c = coord.SkyCoord(sn[-1], unit=(u.hourangle, u.deg))\n",
    "    \n",
    "    m = re.findall('^'+str(sn[0])+'\\\\|('+filter+')\\\\|(.*?)\\\\|(.*?)\\\\|(.*?)$', data, re.MULTILINE)\n",
    "\n",
    "    snls_lc = DSTools.build_light_curve_from_snls_file(m, c)\n",
    "    print sn[0], sn[-1]\n",
    "    plt.errorbar(snls_lc['mjd'], snls_lc['flux'], yerr=snls_lc['flux_error'], fmt='.', color='blue')\n",
    "    snls_array.append(snls_lc)\n",
    "    plt.show()"
   ]
  },
  {
   "cell_type": "code",
   "execution_count": 20,
   "metadata": {
    "collapsed": false,
    "deletable": true,
    "editable": true
   },
   "outputs": [
    {
     "data": {
      "text/plain": [
       "0.35294117647058826"
      ]
     },
     "execution_count": 20,
     "metadata": {},
     "output_type": "execute_result"
    }
   ],
   "source": [
    "\n",
    "matches = DSTools.match_control_group(stack_lc,snls_array)\n",
    "float(len(matches))/float(len(snls_array))"
   ]
  },
  {
   "cell_type": "code",
   "execution_count": 21,
   "metadata": {
    "collapsed": false,
    "deletable": true,
    "editable": true
   },
   "outputs": [
    {
     "data": {
      "text/plain": [
       "6"
      ]
     },
     "execution_count": 21,
     "metadata": {},
     "output_type": "execute_result"
    }
   ],
   "source": [
    "len(matches)"
   ]
  },
  {
   "cell_type": "code",
   "execution_count": 22,
   "metadata": {
    "collapsed": false,
    "deletable": true,
    "editable": true
   },
   "outputs": [
    {
     "name": "stdout",
     "output_type": "stream",
     "text": [
      "light curve\n",
      "214.291841667 53.024825\n",
      "light curve\n",
      "215.181558333 52.1910638889\n",
      "light curve\n",
      "214.381666667 52.9124722222\n",
      "light curve\n",
      "214.8577 52.6409833333\n",
      "here 12\n",
      "light curve\n",
      "215.571704167 52.9576805556\n",
      "light curve\n",
      "215.552404167 52.6408472222\n",
      "light curve\n",
      "214.247466667 52.8825444444\n",
      "light curve\n",
      "214.340266667 52.4528166667\n",
      "here 5\n",
      "here 9\n",
      "light curve\n",
      "214.699175 52.7565583333\n",
      "here 19\n",
      "light curve\n",
      "214.254529167 52.2324\n",
      "light curve\n",
      "214.847579167 53.0230138889\n",
      "here 4\n",
      "light curve\n",
      "215.305566667 52.4560777778\n",
      "light curve\n",
      "215.519875 52.3383666667\n",
      "light curve\n",
      "215.077520833 52.8971638889\n",
      "here 9\n",
      "light curve\n",
      "214.6309125 52.4429083333\n",
      "here 10\n",
      "light curve\n",
      "214.435958333 52.3611805556\n",
      "here 14\n",
      "light curve\n",
      "214.263475 52.9362527778\n"
     ]
    }
   ],
   "source": [
    "for lc in snls_array:\n",
    "    print \"light curve\"\n",
    "    val = {\"ra\":lc[0][\"ra\"], \"dec\":lc[0][\"dec\"]}\n",
    "    print np.rad2deg(lc[0][\"ra\"]), np.rad2deg(lc[0][\"dec\"])\n",
    "    for slc in stack_lc:\n",
    "\n",
    "        comp = {\"ra\":np.mean(slc[\"ra\"]), \"dec\":np.mean(slc[\"dec\"])}\n",
    "        if DSTools.source_distance(val, comp)<1:\n",
    "            print \"here\", len(slc)\n",
    "\n",
    "        #print np.rad2deg(float(np.mean(slc[\"ra\"]))), np.rad2deg(float(np.mean(slc[\"dec\"])))\n",
    "\n",
    "        "
   ]
  },
  {
   "cell_type": "code",
   "execution_count": 190,
   "metadata": {
    "collapsed": false,
    "deletable": true,
    "editable": true
   },
   "outputs": [
    {
     "name": "stdout",
     "output_type": "stream",
     "text": [
      "light curve\n",
      "214.699175 52.7565583333\n"
     ]
    }
   ],
   "source": [
    "lc = snls_array[8]\n",
    "print \"light curve\"\n",
    "val = {\"ra\":lc[0][\"ra\"], \"dec\":lc[0][\"dec\"]}\n",
    "print np.rad2deg(lc[0][\"ra\"]), np.rad2deg(lc[0][\"dec\"])\n",
    "for slc in results:\n",
    "   \n",
    "        comp = {\"ra\":np.mean(slc[\"coord_ra\"]), \"dec\":np.mean(slc[\"coord_dec\"])}\n",
    "        if DSTools.source_distance(val, comp)<1:\n",
    "            print \"here\", date"
   ]
  },
  {
   "cell_type": "code",
   "execution_count": 180,
   "metadata": {
    "collapsed": false,
    "deletable": true,
    "editable": true
   },
   "outputs": [
    {
     "name": "stdout",
     "output_type": "stream",
     "text": [
      " light curve\n",
      "214.699175 52.7565583333\n",
      "here\n"
     ]
    }
   ],
   "source": [
    "lc = snls_array[8]\n",
    "print \"light curve\"\n",
    "val = {\"ra\":lc[0][\"ra\"], \"dec\":lc[0][\"dec\"]}\n",
    "print np.rad2deg(lc[0][\"ra\"]), np.rad2deg(lc[0][\"dec\"])\n",
    "dataId= {\"filter\":'r',\"tract\":0, \"patch\":'20,16', 'date':'2006-06-25'}\n",
    "catalog = butler.get(\"dayDiff_class_diaSrc\", dataId=dataId)\n",
    "for slc in catalog:\n",
    "   \n",
    "    comp = {\"ra\":np.mean(slc[\"coord_ra\"]), \"dec\":np.mean(slc[\"coord_dec\"])}\n",
    "    if DSTools.source_distance(val, comp)<1:\n",
    "        print \"here\""
   ]
  },
  {
   "cell_type": "code",
   "execution_count": 162,
   "metadata": {
    "collapsed": false,
    "deletable": true,
    "editable": true
   },
   "outputs": [
    {
     "data": {
      "text/plain": [
       "0.45909014132420517"
      ]
     },
     "execution_count": 162,
     "metadata": {},
     "output_type": "execute_result"
    }
   ],
   "source": [
    "source = catalog[47]\n",
    "np.rad2deg(float(source[\"coord_ra\"])), np.rad2deg(float(source[\"coord_dec\"]))\n",
    "s_47 = {\"ra\": source[\"coord_ra\"], \"dec\": source[\"coord_dec\"]}\n",
    "\n",
    "\n",
    "DSTools.source_distance(val, s_47)"
   ]
  },
  {
   "cell_type": "code",
   "execution_count": 161,
   "metadata": {
    "collapsed": false,
    "deletable": true,
    "editable": true
   },
   "outputs": [
    {
     "name": "stdout",
     "output_type": "stream",
     "text": [
      "0 214.689430196 52.698233715\n",
      "1 214.665285308 52.6998101743\n",
      "2 214.674829135 52.7012046819\n",
      "3 214.715356743 52.7041506786\n",
      "4 214.65542609 52.704662766\n",
      "5 214.68847101 52.7079677146\n",
      "6 214.733845114 52.7080259481\n",
      "7 214.700730703 52.7081361091\n",
      "8 214.664343955 52.7081586272\n",
      "9 214.672429086 52.7090183289\n",
      "10 214.658998391 52.7086765763\n",
      "11 214.723230629 52.7092394335\n",
      "12 214.676200983 52.7096865242\n",
      "13 214.698747104 52.7135852093\n",
      "14 214.750591561 52.7135890478\n",
      "15 214.697256233 52.7142969129\n",
      "16 214.693251718 52.7175883233\n",
      "17 214.679068167 52.7174573574\n",
      "18 214.723059424 52.7183395355\n",
      "19 214.676067282 52.7187993243\n",
      "20 214.709767168 52.7239738767\n",
      "21 214.737026282 52.7238783335\n",
      "22 214.710781773 52.7244383827\n",
      "23 214.736415088 52.7256574606\n",
      "24 214.689560466 52.7257428021\n",
      "25 214.659422931 52.7277443433\n",
      "26 214.687914148 52.7288685172\n",
      "27 214.722043034 52.7310876644\n",
      "28 214.736365738 52.7309599809\n",
      "29 214.732447155 52.7315747261\n",
      "30 214.753626075 52.731946091\n",
      "31 214.732560464 52.7352445428\n",
      "32 214.692109194 52.7358827877\n",
      "33 214.721596146 52.736276554\n",
      "34 214.67591329 52.7364751596\n",
      "35 214.738779653 52.7372184497\n",
      "36 214.745015478 52.7373058198\n",
      "37 214.709632042 52.7380089512\n",
      "38 214.742614275 52.7383511227\n",
      "39 214.73754883 52.738684626\n",
      "40 214.68110164 52.7404558249\n",
      "41 214.674978846 52.7465866565\n",
      "42 214.676247309 52.7467567997\n",
      "43 214.706451637 52.7476641828\n",
      "44 214.691860289 52.7538847598\n",
      "45 214.694322451 52.7565130697\n",
      "46 214.690425382 52.756338469\n",
      "47 214.699299269 52.7565869663\n",
      "48 214.72940507 52.7573031892\n"
     ]
    }
   ],
   "source": [
    "dataId= {\"filter\":'r',\"tract\":0, \"patch\":'20,16', 'date':'2006-06-25'}\n",
    "dayDiff = butler.get(\"dayDiff_differenceExp\", dataId=dataId)\n",
    "catalog = butler.get(\"dayDiff_class_diaSrc\", dataId=dataId)\n",
    "ds9.mtv(dayDiff, frame=1)\n",
    "ds9.setMaskTransparency(100, frame=1)\n",
    "\n",
    "    \n",
    "\n",
    "for i, source in enumerate(catalog):\n",
    "    print i, np.rad2deg(float(source[\"coord_ra\"])), np.rad2deg(float(source[\"coord_dec\"]))\n",
    "    ds9.dot(i, source.getX(), source.getY(), size = 2, ctype = ds9.RED, frame=1)\n"
   ]
  },
  {
   "cell_type": "code",
   "execution_count": 106,
   "metadata": {
    "collapsed": false,
    "deletable": true,
    "editable": true
   },
   "outputs": [
    {
     "name": "stdout",
     "output_type": "stream",
     "text": [
      "{'dec': 0.91090590497982704, 'ra': 3.7556266824889084} {'dec': 0.910908 rad, 'ra': 3.75562 rad}\n"
     ]
    }
   ],
   "source": [
    "print val, comp"
   ]
  },
  {
   "cell_type": "code",
   "execution_count": 24,
   "metadata": {
    "collapsed": false,
    "deletable": true,
    "editable": true
   },
   "outputs": [
    {
     "name": "stdout",
     "output_type": "stream",
     "text": [
      "8\n"
     ]
    }
   ],
   "source": [
    " matches = []\n",
    "for lc in snls_array:\n",
    "    #print \"light curve\"\n",
    "    val = {\"ra\":lc[0][\"ra\"], \"dec\":lc[0][\"dec\"]}\n",
    "    #print np.rad2deg(lc[0][\"ra\"]), np.rad2deg(lc[0][\"dec\"])\n",
    "    for slc in stack_lc:\n",
    "\n",
    "        comp = {\"ra\":np.mean(slc[\"ra\"]), \"dec\":np.mean(slc[\"dec\"])}\n",
    "        if DSTools.source_distance(val, comp)<1:\n",
    "            matches.append((lc,slc))\n",
    "            \n",
    "            \n",
    "print len(matches)"
   ]
  },
  {
   "cell_type": "code",
   "execution_count": 26,
   "metadata": {
    "collapsed": false,
    "deletable": true,
    "editable": true,
    "scrolled": false
   },
   "outputs": [
    {
     "name": "stdout",
     "output_type": "stream",
     "text": [
      "12\n"
     ]
    },
    {
     "data": {
      "image/png": "[encoded data removed]",
      "text/plain": [
       "<matplotlib.figure.Figure at 0x7f8954f5b0d0>"
      ]
     },
     "metadata": {},
     "output_type": "display_data"
    },
    {
     "name": "stdout",
     "output_type": "stream",
     "text": [
      "5\n"
     ]
    },
    {
     "data": {
      "image/png": "[encoded data removed]",
      "text/plain": [
       "<matplotlib.figure.Figure at 0x7f89549776d0>"
      ]
     },
     "metadata": {},
     "output_type": "display_data"
    },
    {
     "name": "stdout",
     "output_type": "stream",
     "text": [
      "9\n"
     ]
    },
    {
     "data": {
      "image/png": "[encoded data removed]",
      "text/plain": [
       "<matplotlib.figure.Figure at 0x7f895467cd10>"
      ]
     },
     "metadata": {},
     "output_type": "display_data"
    },
    {
     "name": "stdout",
     "output_type": "stream",
     "text": [
      "19\n"
     ]
    },
    {
     "data": {
      "image/png": "[encoded data removed]",
      "text/plain": [
       "<matplotlib.figure.Figure at 0x7f89545e1bd0>"
      ]
     },
     "metadata": {},
     "output_type": "display_data"
    },
    {
     "name": "stdout",
     "output_type": "stream",
     "text": [
      "4\n"
     ]
    },
    {
     "data": {
      "image/png": "[encoded data removed]",
      "text/plain": [
       "<matplotlib.figure.Figure at 0x7f89545265d0>"
      ]
     },
     "metadata": {},
     "output_type": "display_data"
    },
    {
     "name": "stdout",
     "output_type": "stream",
     "text": [
      "9\n"
     ]
    },
    {
     "data": {
      "image/png": "[encoded data removed]",
      "text/plain": [
       "<matplotlib.figure.Figure at 0x7f89545ea6d0>"
      ]
     },
     "metadata": {},
     "output_type": "display_data"
    },
    {
     "name": "stdout",
     "output_type": "stream",
     "text": [
      "10\n"
     ]
    },
    {
     "data": {
      "image/png": "[encoded data removed]",
      "text/plain": [
       "<matplotlib.figure.Figure at 0x7f89546af710>"
      ]
     },
     "metadata": {},
     "output_type": "display_data"
    },
    {
     "name": "stdout",
     "output_type": "stream",
     "text": [
      "14\n"
     ]
    },
    {
     "data": {
      "image/png": "[encoded data removed]",
      "text/plain": [
       "<matplotlib.figure.Figure at 0x7f8954285f50>"
      ]
     },
     "metadata": {},
     "output_type": "display_data"
    }
   ],
   "source": [
    "for match in matches:\n",
    "    print len(match[-1])\n",
    "    lc_fluxes = match[0][\"flux\"]\n",
    "    factor = max(match[-1]['flux']) / max(lc_fluxes)\n",
    "    lc_fluxes = np.multiply(lc_fluxes, factor)\n",
    "    lc_errors = np.multiply(match[0][\"flux_error\"], factor)\n",
    "    \n",
    "    plt.figure(figsize=(20,10))\n",
    "    plt.errorbar(match[-1][\"mjd\"], match[-1][\"flux\"],yerr=match[-1][\"flux_error\"], fmt='.', markersize='5')\n",
    "    plt.errorbar(match[0][\"mjd\"], lc_fluxes, yerr=lc_errors, fmt='.', markersize='5')\n",
    "    plt.show()"
   ]
  },
  {
   "cell_type": "code",
   "execution_count": 203,
   "metadata": {
    "collapsed": false,
    "deletable": true,
    "editable": true,
    "scrolled": false
   },
   "outputs": [
    {
     "name": "stdout",
     "output_type": "stream",
     "text": [
      "12\n"
     ]
    },
    {
     "data": {
      "image/png": "[encoded data removed]",
      "text/plain": [
       "<matplotlib.figure.Figure at 0x7f697391d190>"
      ]
     },
     "metadata": {},
     "output_type": "display_data"
    },
    {
     "name": "stdout",
     "output_type": "stream",
     "text": [
      "9\n"
     ]
    },
    {
     "data": {
      "image/png": "[encoded data removed]",
      "text/plain": [
       "<matplotlib.figure.Figure at 0x7f697b806d10>"
      ]
     },
     "metadata": {},
     "output_type": "display_data"
    },
    {
     "name": "stdout",
     "output_type": "stream",
     "text": [
      "19\n"
     ]
    },
    {
     "data": {
      "image/png": "[encoded data removed]",
      "text/plain": [
       "<matplotlib.figure.Figure at 0x7f6973685b50>"
      ]
     },
     "metadata": {},
     "output_type": "display_data"
    },
    {
     "name": "stdout",
     "output_type": "stream",
     "text": [
      "4\n"
     ]
    },
    {
     "data": {
      "image/png": "[encoded data removed]",
      "text/plain": [
       "<matplotlib.figure.Figure at 0x7f697b6f4250>"
      ]
     },
     "metadata": {},
     "output_type": "display_data"
    },
    {
     "name": "stdout",
     "output_type": "stream",
     "text": [
      "9\n"
     ]
    },
    {
     "data": {
      "image/png": "[encoded data removed]",
      "text/plain": [
       "<matplotlib.figure.Figure at 0x7f6973385450>"
      ]
     },
     "metadata": {},
     "output_type": "display_data"
    },
    {
     "name": "stdout",
     "output_type": "stream",
     "text": [
      "10\n"
     ]
    },
    {
     "data": {
      "image/png": "[encoded data removed]",
      "text/plain": [
       "<matplotlib.figure.Figure at 0x7f697378b850>"
      ]
     },
     "metadata": {},
     "output_type": "display_data"
    }
   ],
   "source": [
    "for match in matches:\n",
    "    print len(match[0])\n",
    "    lc_fluxes = match[0][\"flux\"]\n",
    "    factor = max(match[-1]['flux']) / max(lc_fluxes)\n",
    "    lc_fluxes = np.multiply(lc_fluxes, factor)\n",
    "    lc_errors = np.multiply(match[0][\"flux_error\"], factor)\n",
    "    \n",
    "    plt.figure(figsize=(20,10))\n",
    "    plt.errorbar(match[-1][\"mjd\"], match[-1][\"flux\"],yerr=match[-1][\"flux_error\"], fmt='.', markersize='5')\n",
    "    plt.errorbar(match[0][\"mjd\"], lc_fluxes, yerr=lc_errors, fmt='.', markersize='5')\n",
    "    plt.show()"
   ]
  },
  {
   "cell_type": "code",
   "execution_count": 27,
   "metadata": {
    "collapsed": false,
    "deletable": true,
    "editable": true
   },
   "outputs": [],
   "source": [
    "date = dates[0]\n",
    "patch_and_coord = []\n",
    "degrees = []\n",
    "for lc in snls_array:\n",
    "    for patch in patches:\n",
    "\n",
    "        if butler.datasetExists(\"dayDiff_differenceExp\", dataId={\"filter\":'r',\"tract\":0, \"patch\":patch, 'date':date}):\n",
    "                dayDiff = butler.get(\"dayDiff_differenceExp\", dataId={\"filter\":'r',\"tract\":0, \"patch\":patch, 'date':date})\n",
    "                bbox = dayDiff.getBBox()\n",
    "                wcs = dayDiff.getWcs()\n",
    "                \n",
    "                angle_ra = afwGeom.Angle(lc[0][\"ra\"])\n",
    "                angle_dec = afwGeom.Angle(lc[0][\"dec\"])\n",
    "                coord = wcs.skyToPixel(angle_ra, angle_dec)\n",
    "                \n",
    "                if bbox.contains(afwGeom.Point2I(coord)):\n",
    "                    patch_and_coord.append((patch, angle_ra.asDegrees(), angle_dec.asDegrees(), np.median(lc['mjd'])))\n",
    "                    break\n",
    "                    \n",
    "    degrees.append(coord)"
   ]
  },
  {
   "cell_type": "code",
   "execution_count": 30,
   "metadata": {
    "collapsed": false,
    "deletable": true,
    "editable": true
   },
   "outputs": [
    {
     "name": "stdout",
     "output_type": "stream",
     "text": [
      "214.291841667 53.024825\n",
      "215.181558333 52.1910638889\n",
      "214.381666667 52.9124722222\n",
      "214.8577 52.6409833333\n",
      "215.571704167 52.9576805556\n",
      "215.552404167 52.6408472222\n",
      "214.247466667 52.8825444444\n",
      "214.340266667 52.4528166667\n",
      "214.699175 52.7565583333\n",
      "214.254529167 52.2324\n",
      "214.847579167 53.0230138889\n",
      "215.305566667 52.4560777778\n",
      "215.519875 52.3383666667\n",
      "215.077520833 52.8971638889\n",
      "214.6309125 52.4429083333\n",
      "214.435958333 52.3611805556\n",
      "214.263475 52.9362527778\n"
     ]
    }
   ],
   "source": [
    "for lc in snls_array:\n",
    "    print np.rad2deg(lc[0][\"ra\"]), np.rad2deg(lc[0][\"dec\"])"
   ]
  },
  {
   "cell_type": "code",
   "execution_count": 31,
   "metadata": {
    "collapsed": false,
    "deletable": true,
    "editable": true
   },
   "outputs": [
    {
     "data": {
      "text/plain": [
       "[Point2D(25323.18874, 22303.84902),\n",
       " Point2D(14840.43981, 6058.773333),\n",
       " Point2D(24286.84096, 20109.64456),\n",
       " Point2D(18701.97249, 14806.75441),\n",
       " Point2D(10330.56728, 21009.1521),\n",
       " Point2D(10498.7165, 14841.67938),\n",
       " Point2D(25866.73134, 19539.56048),\n",
       " Point2D(24839.16963, 11168.46853),\n",
       " Point2D(20568.37307, 17058.296),\n",
       " Point2D(25892.95755, 6887.154183),\n",
       " Point2D(18818.65779, 22240.92673),\n",
       " Point2D(13391.91137, 11223.69696),\n",
       " Point2D(10830.02805, 8951.9238),\n",
       " Point2D(16120.33044, 19795.23409),\n",
       " Point2D(21393.0068, 10957.08075),\n",
       " Point2D(23715.23112, 9377.55081),\n",
       " Point2D(25669.85971, 20583.06095)]"
      ]
     },
     "execution_count": 31,
     "metadata": {},
     "output_type": "execute_result"
    }
   ],
   "source": [
    "degrees"
   ]
  },
  {
   "cell_type": "code",
   "execution_count": 32,
   "metadata": {
    "collapsed": false,
    "deletable": true,
    "editable": true
   },
   "outputs": [
    {
     "data": {
      "text/plain": [
       "[('14,5', 215.18155833333333, 52.191063888888884, 53875.5),\n",
       " ('24,20', 214.38166666666666, 52.91247222222222, 53875.510000000002),\n",
       " ('18,14', 214.85769999999997, 52.64098333333333, 53883.370000000003),\n",
       " ('24,11', 214.34026666666665, 52.45281666666667, 53890.364999999998),\n",
       " ('20,16', 214.699175, 52.75655833333333, 53890.364999999998),\n",
       " ('18,22', 214.84757916666663, 53.02301388888889, 53890.364999999998),\n",
       " ('13,11', 215.30556666666664, 52.45607777777778, 53890.364999999998),\n",
       " ('16,19', 215.07752083333332, 52.89716388888889, 53908.82),\n",
       " ('21,10', 214.6309125, 52.44290833333333, 53908.809999999998),\n",
       " ('23,9', 214.4359583333333, 52.361180555555556, 53916.339999999997)]"
      ]
     },
     "execution_count": 32,
     "metadata": {},
     "output_type": "execute_result"
    }
   ],
   "source": [
    "patch_and_coord"
   ]
  },
  {
   "cell_type": "code",
   "execution_count": 121,
   "metadata": {
    "collapsed": false,
    "deletable": true,
    "editable": true
   },
   "outputs": [
    {
     "name": "stdout",
     "output_type": "stream",
     "text": [
      "(20568, 17058)\n"
     ]
    }
   ],
   "source": [
    "dataId= {\"filter\":'r',\"tract\":0, \"patch\":'20,16', 'date':'2006-06-25'}\n",
    "dayDiff = butler.get(\"dayDiff_differenceExp\", dataId=dataId)\n",
    "catalog = butler.get(\"dayDiff_class_diaSrc\", dataId=dataId)\n",
    "ds9.mtv(dayDiff, frame=1)\n",
    "ds9.setMaskTransparency(100, frame=1)\n",
    "for source in catalog:\n",
    "    \n",
    "    ds9.dot(\"o\", source.getX(), source.getY(), size = 25, ctype = ds9.RED, frame=1)\n",
    "    \n",
    "bbox = dayDiff.getBBox()\n",
    "wcs = dayDiff.getWcs()\n",
    "                \n",
    "angle_ra = afwGeom.Angle(214.699175, afwGeom.degrees)\n",
    "angle_dec = afwGeom.Angle( 52.7565583333 , afwGeom.degrees)\n",
    "coord = wcs.skyToPixel(angle_ra, angle_dec)\n",
    "print coord\n",
    "ds9.dot(\"o\", coord.getX(), coord.getY(), size = 20, ctype = ds9.BLUE, frame=1)"
   ]
  },
  {
   "cell_type": "code",
   "execution_count": 120,
   "metadata": {
    "collapsed": false,
    "deletable": true,
    "editable": true
   },
   "outputs": [
    {
     "name": "stdout",
     "output_type": "stream",
     "text": [
      "Box2I((11900, 4900), (13099, 6099))\n",
      "Box2I((11900, 5900), (13099, 7099))\n",
      "Box2I((11900, 6900), (13099, 8099))\n",
      "Box2I((11900, 7900), (13099, 9099))\n",
      "Box2I((11900, 8900), (13099, 10099))\n",
      "Box2I((11900, 9900), (13099, 11099))\n",
      "Box2I((11900, 10900), (13099, 12099))\n",
      "Box2I((11900, 11900), (13099, 13099))\n",
      "Box2I((11900, 12900), (13099, 14099))\n",
      "Box2I((11900, 13900), (13099, 15099))\n",
      "Box2I((11900, 14900), (13099, 16099))\n",
      "Box2I((11900, 15900), (13099, 17099))\n",
      "Box2I((11900, 16900), (13099, 18099))\n",
      "Box2I((11900, 17900), (13099, 19099))\n",
      "Box2I((11900, 18900), (13099, 20099))\n",
      "Box2I((11900, 19900), (13099, 21099))\n",
      "Box2I((11900, 20900), (13099, 22099))\n",
      "Box2I((11900, 21900), (13099, 23099))\n",
      "Box2I((11900, 22900), (13099, 24099))\n",
      "Box2I((11900, 23900), (13099, 25099))\n",
      "Box2I((11900, 24900), (13099, 26099))\n",
      "Box2I((12900, 4900), (14099, 6099))\n",
      "Box2I((12900, 5900), (14099, 7099))\n",
      "Box2I((12900, 6900), (14099, 8099))\n",
      "Box2I((12900, 7900), (14099, 9099))\n",
      "Box2I((12900, 8900), (14099, 10099))\n",
      "Box2I((12900, 9900), (14099, 11099))\n",
      "Box2I((12900, 10900), (14099, 12099))\n",
      "Box2I((12900, 11900), (14099, 13099))\n",
      "Box2I((12900, 12900), (14099, 14099))\n",
      "Box2I((12900, 13900), (14099, 15099))\n",
      "Box2I((12900, 14900), (14099, 16099))\n",
      "Box2I((12900, 15900), (14099, 17099))\n",
      "Box2I((12900, 16900), (14099, 18099))\n",
      "Box2I((12900, 17900), (14099, 19099))\n",
      "Box2I((12900, 18900), (14099, 20099))\n",
      "Box2I((12900, 19900), (14099, 21099))\n",
      "Box2I((12900, 20900), (14099, 22099))\n",
      "Box2I((12900, 21900), (14099, 23099))\n",
      "Box2I((12900, 22900), (14099, 24099))\n",
      "Box2I((12900, 23900), (14099, 25099))\n",
      "Box2I((12900, 24900), (14099, 26099))\n",
      "Box2I((13900, 4900), (15099, 6099))\n",
      "Box2I((13900, 5900), (15099, 7099))\n",
      "Box2I((13900, 6900), (15099, 8099))\n",
      "Box2I((13900, 7900), (15099, 9099))\n",
      "Box2I((13900, 8900), (15099, 10099))\n",
      "Box2I((13900, 9900), (15099, 11099))\n",
      "Box2I((13900, 10900), (15099, 12099))\n",
      "Box2I((13900, 11900), (15099, 13099))\n",
      "Box2I((13900, 12900), (15099, 14099))\n",
      "Box2I((13900, 13900), (15099, 15099))\n",
      "Box2I((13900, 14900), (15099, 16099))\n",
      "Box2I((13900, 15900), (15099, 17099))\n",
      "Box2I((13900, 16900), (15099, 18099))\n",
      "Box2I((13900, 17900), (15099, 19099))\n",
      "Box2I((13900, 18900), (15099, 20099))\n",
      "Box2I((13900, 19900), (15099, 21099))\n",
      "Box2I((13900, 20900), (15099, 22099))\n",
      "Box2I((13900, 21900), (15099, 23099))\n",
      "Box2I((13900, 22900), (15099, 24099))\n",
      "Box2I((13900, 23900), (15099, 25099))\n",
      "Box2I((13900, 24900), (15099, 26099))\n",
      "Box2I((14900, 4900), (16099, 6099))\n",
      "Box2I((14900, 5900), (16099, 7099))\n",
      "Box2I((14900, 6900), (16099, 8099))\n",
      "Box2I((14900, 7900), (16099, 9099))\n",
      "Box2I((14900, 8900), (16099, 10099))\n",
      "Box2I((14900, 9900), (16099, 11099))\n",
      "Box2I((14900, 10900), (16099, 12099))\n",
      "Box2I((14900, 11900), (16099, 13099))\n",
      "Box2I((14900, 12900), (16099, 14099))\n",
      "Box2I((14900, 13900), (16099, 15099))\n",
      "Box2I((14900, 14900), (16099, 16099))\n",
      "Box2I((14900, 15900), (16099, 17099))\n",
      "Box2I((14900, 16900), (16099, 18099))\n",
      "Box2I((14900, 17900), (16099, 19099))\n",
      "Box2I((14900, 18900), (16099, 20099))\n",
      "Box2I((14900, 19900), (16099, 21099))\n",
      "Box2I((14900, 20900), (16099, 22099))\n",
      "Box2I((14900, 21900), (16099, 23099))\n",
      "Box2I((14900, 22900), (16099, 24099))\n",
      "Box2I((14900, 23900), (16099, 25099))\n",
      "Box2I((14900, 24900), (16099, 26099))\n",
      "Box2I((15900, 4900), (17099, 6099))\n",
      "Box2I((15900, 5900), (17099, 7099))\n",
      "Box2I((15900, 6900), (17099, 8099))\n",
      "Box2I((15900, 7900), (17099, 9099))\n",
      "Box2I((15900, 8900), (17099, 10099))\n",
      "Box2I((15900, 9900), (17099, 11099))\n",
      "Box2I((15900, 10900), (17099, 12099))\n",
      "Box2I((15900, 11900), (17099, 13099))\n",
      "Box2I((15900, 12900), (17099, 14099))\n",
      "Box2I((15900, 13900), (17099, 15099))\n",
      "Box2I((15900, 14900), (17099, 16099))\n",
      "Box2I((15900, 15900), (17099, 17099))\n",
      "Box2I((15900, 16900), (17099, 18099))\n",
      "Box2I((15900, 17900), (17099, 19099))\n",
      "Box2I((15900, 18900), (17099, 20099))\n",
      "Box2I((15900, 19900), (17099, 21099))\n",
      "Box2I((15900, 20900), (17099, 22099))\n",
      "Box2I((15900, 21900), (17099, 23099))\n",
      "Box2I((15900, 22900), (17099, 24099))\n",
      "Box2I((15900, 23900), (17099, 25099))\n",
      "Box2I((15900, 24900), (17099, 26099))\n",
      "Box2I((16900, 4900), (18099, 6099))\n",
      "Box2I((16900, 5900), (18099, 7099))\n",
      "Box2I((16900, 6900), (18099, 8099))\n",
      "Box2I((16900, 7900), (18099, 9099))\n",
      "Box2I((16900, 8900), (18099, 10099))\n",
      "Box2I((16900, 9900), (18099, 11099))\n",
      "Box2I((16900, 10900), (18099, 12099))\n",
      "Box2I((16900, 11900), (18099, 13099))\n",
      "Box2I((16900, 12900), (18099, 14099))\n",
      "Box2I((16900, 13900), (18099, 15099))\n",
      "Box2I((16900, 14900), (18099, 16099))\n",
      "Box2I((16900, 15900), (18099, 17099))\n",
      "Box2I((16900, 16900), (18099, 18099))\n",
      "Box2I((16900, 17900), (18099, 19099))\n",
      "Box2I((16900, 18900), (18099, 20099))\n",
      "Box2I((16900, 19900), (18099, 21099))\n",
      "Box2I((16900, 20900), (18099, 22099))\n",
      "Box2I((16900, 21900), (18099, 23099))\n",
      "Box2I((16900, 22900), (18099, 24099))\n",
      "Box2I((16900, 23900), (18099, 25099))\n",
      "Box2I((16900, 24900), (18099, 26099))\n",
      "Box2I((17900, 4900), (19099, 6099))\n",
      "Box2I((17900, 5900), (19099, 7099))\n",
      "Box2I((17900, 6900), (19099, 8099))\n",
      "Box2I((17900, 7900), (19099, 9099))\n",
      "Box2I((17900, 8900), (19099, 10099))\n",
      "Box2I((17900, 9900), (19099, 11099))\n",
      "Box2I((17900, 10900), (19099, 12099))\n",
      "Box2I((17900, 11900), (19099, 13099))\n",
      "Box2I((17900, 12900), (19099, 14099))\n",
      "Box2I((17900, 13900), (19099, 15099))\n",
      "Box2I((17900, 14900), (19099, 16099))\n",
      "Box2I((17900, 15900), (19099, 17099))\n",
      "Box2I((17900, 16900), (19099, 18099))\n",
      "Box2I((17900, 17900), (19099, 19099))\n",
      "Box2I((17900, 18900), (19099, 20099))\n",
      "Box2I((17900, 19900), (19099, 21099))\n",
      "Box2I((17900, 20900), (19099, 22099))\n",
      "Box2I((17900, 21900), (19099, 23099))\n",
      "Box2I((17900, 22900), (19099, 24099))\n",
      "Box2I((17900, 23900), (19099, 25099))\n",
      "Box2I((17900, 24900), (19099, 26099))\n",
      "Box2I((18900, 4900), (20099, 6099))\n",
      "Box2I((18900, 5900), (20099, 7099))\n",
      "Box2I((18900, 6900), (20099, 8099))\n",
      "Box2I((18900, 7900), (20099, 9099))\n",
      "Box2I((18900, 8900), (20099, 10099))\n",
      "Box2I((18900, 9900), (20099, 11099))\n",
      "Box2I((18900, 10900), (20099, 12099))\n",
      "Box2I((18900, 11900), (20099, 13099))\n",
      "Box2I((18900, 12900), (20099, 14099))\n",
      "Box2I((18900, 13900), (20099, 15099))\n",
      "Box2I((18900, 14900), (20099, 16099))\n",
      "Box2I((18900, 15900), (20099, 17099))\n",
      "Box2I((18900, 16900), (20099, 18099))\n",
      "Box2I((18900, 17900), (20099, 19099))\n",
      "Box2I((18900, 18900), (20099, 20099))\n",
      "Box2I((18900, 19900), (20099, 21099))\n",
      "Box2I((18900, 20900), (20099, 22099))\n",
      "Box2I((18900, 21900), (20099, 23099))\n",
      "Box2I((18900, 22900), (20099, 24099))\n",
      "Box2I((18900, 23900), (20099, 25099))\n",
      "Box2I((18900, 24900), (20099, 26099))\n",
      "Box2I((19900, 4900), (21099, 6099))\n",
      "Box2I((19900, 5900), (21099, 7099))\n",
      "Box2I((19900, 6900), (21099, 8099))\n",
      "Box2I((19900, 7900), (21099, 9099))\n",
      "Box2I((19900, 8900), (21099, 10099))\n",
      "Box2I((19900, 9900), (21099, 11099))\n",
      "Box2I((19900, 10900), (21099, 12099))\n",
      "Box2I((19900, 11900), (21099, 13099))\n",
      "Box2I((19900, 12900), (21099, 14099))\n",
      "Box2I((19900, 13900), (21099, 15099))\n",
      "Box2I((19900, 14900), (21099, 16099))\n",
      "Box2I((19900, 15900), (21099, 17099))\n",
      "Box2I((19900, 16900), (21099, 18099))\n",
      "Box2I((19900, 17900), (21099, 19099))\n",
      "Box2I((19900, 18900), (21099, 20099))\n",
      "Box2I((19900, 19900), (21099, 21099))\n",
      "Box2I((19900, 20900), (21099, 22099))\n",
      "Box2I((19900, 21900), (21099, 23099))\n",
      "Box2I((19900, 22900), (21099, 24099))\n",
      "Box2I((19900, 23900), (21099, 25099))\n",
      "Box2I((19900, 24900), (21099, 26099))\n",
      "Box2I((20900, 4900), (22099, 6099))\n",
      "Box2I((20900, 5900), (22099, 7099))\n",
      "Box2I((20900, 6900), (22099, 8099))\n",
      "Box2I((20900, 7900), (22099, 9099))\n",
      "Box2I((20900, 8900), (22099, 10099))\n",
      "Box2I((20900, 9900), (22099, 11099))\n",
      "Box2I((20900, 10900), (22099, 12099))\n",
      "Box2I((20900, 11900), (22099, 13099))\n",
      "Box2I((20900, 12900), (22099, 14099))\n",
      "Box2I((20900, 13900), (22099, 15099))\n",
      "Box2I((20900, 14900), (22099, 16099))\n",
      "Box2I((20900, 15900), (22099, 17099))\n",
      "Box2I((20900, 16900), (22099, 18099))\n",
      "Box2I((20900, 17900), (22099, 19099))\n",
      "Box2I((20900, 18900), (22099, 20099))\n",
      "Box2I((20900, 19900), (22099, 21099))\n",
      "Box2I((20900, 20900), (22099, 22099))\n",
      "Box2I((20900, 21900), (22099, 23099))\n",
      "Box2I((20900, 22900), (22099, 24099))\n",
      "Box2I((20900, 23900), (22099, 25099))\n",
      "Box2I((20900, 24900), (22099, 26099))\n",
      "Box2I((21900, 4900), (23099, 6099))\n",
      "Box2I((21900, 5900), (23099, 7099))\n",
      "Box2I((21900, 6900), (23099, 8099))\n",
      "Box2I((21900, 7900), (23099, 9099))\n",
      "Box2I((21900, 8900), (23099, 10099))\n",
      "Box2I((21900, 9900), (23099, 11099))\n",
      "Box2I((21900, 10900), (23099, 12099))\n",
      "Box2I((21900, 11900), (23099, 13099))\n",
      "Box2I((21900, 12900), (23099, 14099))\n",
      "Box2I((21900, 13900), (23099, 15099))\n",
      "Box2I((21900, 14900), (23099, 16099))\n",
      "Box2I((21900, 15900), (23099, 17099))\n",
      "Box2I((21900, 16900), (23099, 18099))\n",
      "Box2I((21900, 17900), (23099, 19099))\n",
      "Box2I((21900, 18900), (23099, 20099))\n",
      "Box2I((21900, 19900), (23099, 21099))\n",
      "Box2I((21900, 20900), (23099, 22099))\n",
      "Box2I((21900, 21900), (23099, 23099))\n",
      "Box2I((21900, 22900), (23099, 24099))\n",
      "Box2I((21900, 23900), (23099, 25099))\n",
      "Box2I((21900, 24900), (23099, 26099))\n",
      "Box2I((22900, 4900), (24099, 6099))\n",
      "Box2I((22900, 5900), (24099, 7099))\n",
      "Box2I((22900, 6900), (24099, 8099))\n",
      "Box2I((22900, 7900), (24099, 9099))\n",
      "Box2I((22900, 8900), (24099, 10099))\n",
      "Box2I((22900, 9900), (24099, 11099))\n",
      "Box2I((22900, 10900), (24099, 12099))\n",
      "Box2I((22900, 11900), (24099, 13099))\n",
      "Box2I((22900, 12900), (24099, 14099))\n",
      "Box2I((22900, 13900), (24099, 15099))\n",
      "Box2I((22900, 14900), (24099, 16099))\n",
      "Box2I((22900, 15900), (24099, 17099))\n",
      "Box2I((22900, 16900), (24099, 18099))\n",
      "Box2I((22900, 17900), (24099, 19099))\n",
      "Box2I((22900, 18900), (24099, 20099))\n",
      "Box2I((22900, 19900), (24099, 21099))\n",
      "Box2I((22900, 20900), (24099, 22099))\n",
      "Box2I((22900, 21900), (24099, 23099))\n",
      "Box2I((22900, 22900), (24099, 24099))\n",
      "Box2I((22900, 23900), (24099, 25099))\n",
      "Box2I((22900, 24900), (24099, 26099))\n",
      "Box2I((23900, 4900), (25099, 6099))\n",
      "Box2I((23900, 5900), (25099, 7099))\n",
      "Box2I((23900, 6900), (25099, 8099))\n",
      "Box2I((23900, 7900), (25099, 9099))\n",
      "Box2I((23900, 8900), (25099, 10099))\n",
      "Box2I((23900, 9900), (25099, 11099))\n",
      "Box2I((23900, 10900), (25099, 12099))\n",
      "Box2I((23900, 11900), (25099, 13099))\n",
      "Box2I((23900, 12900), (25099, 14099))\n",
      "Box2I((23900, 13900), (25099, 15099))\n",
      "Box2I((23900, 14900), (25099, 16099))\n",
      "Box2I((23900, 15900), (25099, 17099))\n",
      "Box2I((23900, 16900), (25099, 18099))\n",
      "Box2I((23900, 17900), (25099, 19099))\n",
      "Box2I((23900, 18900), (25099, 20099))\n",
      "Box2I((23900, 19900), (25099, 21099))\n",
      "Box2I((23900, 20900), (25099, 22099))\n",
      "Box2I((23900, 21900), (25099, 23099))\n",
      "Box2I((23900, 22900), (25099, 24099))\n",
      "Box2I((23900, 23900), (25099, 25099))\n",
      "Box2I((23900, 24900), (25099, 26099))\n"
     ]
    }
   ],
   "source": [
    "date = dates[0]\n",
    "patch_and_coord = []\n",
    "degrees = []\n",
    "for patch in patches:\n",
    "    if butler.datasetExists(\"dayDiff_differenceExp\", dataId={\"filter\":'r',\"tract\":0, \"patch\":patch, 'date':date}):\n",
    "        dayDiff = butler.get(\"dayDiff_differenceExp\", dataId={\"filter\":'r',\"tract\":0, \"patch\":patch, 'date':date})\n",
    "        bbox = dayDiff.getBBox()\n",
    "        wcs = dayDiff.getWcs()\n",
    "        print bbox\n",
    "    "
   ]
  },
  {
   "cell_type": "code",
   "execution_count": null,
   "metadata": {
    "collapsed": true,
    "deletable": true,
    "editable": true
   },
   "outputs": [],
   "source": []
  }
 ],
 "metadata": {
  "kernelspec": {
   "display_name": "Python 2",
   "language": "python",
   "name": "python2"
  },
  "language_info": {
   "codemirror_mode": {
    "name": "ipython",
    "version": 2
   },
   "file_extension": ".py",
   "mimetype": "text/x-python",
   "name": "python",
   "nbconvert_exporter": "python",
   "pygments_lexer": "ipython2",
   "version": "2.7.12"
  }
 },
 "nbformat": 4,
 "nbformat_minor": 0
}
