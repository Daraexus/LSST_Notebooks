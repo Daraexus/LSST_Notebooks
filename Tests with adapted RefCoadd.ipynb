{
 "cells": [
  {
   "cell_type": "code",
   "execution_count": 1,
   "metadata": {
    "collapsed": true
   },
   "outputs": [],
   "source": [
    "import lsst.daf.persistence as dafPersist\n",
    "import re\n",
    "import pickle\n",
    "import astropy.coordinates as coord\n",
    "import astropy.units as u\n",
    "import Utils.DiaSourceTools as DSTools\n",
    "\n",
    "\n",
    "from astropy.io import ascii\n",
    "import glob\n",
    "import matplotlib.pyplot as plt\n",
    "import numpy as np\n",
    "\n",
    "import multiprocessing\n",
    "\n",
    "import sncosmo"
   ]
  },
  {
   "cell_type": "code",
   "execution_count": 2,
   "metadata": {
    "collapsed": true
   },
   "outputs": [],
   "source": [
    "DATADIR=\"/datadec/cppm/jpreyes/CFHT_Production/\"\n",
    "butler = dafPersist.Butler(DATADIR+\"daycoadd_tests_3\") "
   ]
  },
  {
   "cell_type": "code",
   "execution_count": 13,
   "metadata": {
    "collapsed": true
   },
   "outputs": [],
   "source": [
    "days = []\n",
    "with open(DATADIR+\"/days_04.txt\", \"rb\") as dayFile:\n",
    "    for line in dayFile:\n",
    "            line = line.replace('\\n','')\n",
    "            #text = re.split(\"=| \",line)\n",
    "            days.append(line)\n",
    "\n",
    "patches= []\n",
    "with open(DATADIR+\"/patches.txt\", \"rb\") as patches_file:\n",
    "    for line in patches_file:\n",
    "            line = line.replace('\\n','')\n",
    "            text = re.split(\"=| \",line)\n",
    "            patches.append(text[-1])\n",
    "    \n",
    "\n"
   ]
  },
  {
   "cell_type": "code",
   "execution_count": 20,
   "metadata": {
    "collapsed": true
   },
   "outputs": [],
   "source": [
    "missing_patches = []\n",
    "\n",
    "\n",
    "for patch in patches:\n",
    "        if butler.datasetExists(\"deepCoadd_calexp\", dataId={\"tract\":0, \"patch\":patch, \"filter\":\"r\"}) == False:\n",
    "            missing_patches.append(patch)"
   ]
  },
  {
   "cell_type": "code",
   "execution_count": 21,
   "metadata": {},
   "outputs": [
    {
     "data": {
      "text/plain": [
       "['0,5',\n",
       " '0,6',\n",
       " '0,7',\n",
       " '0,8',\n",
       " '0,9',\n",
       " '0,10',\n",
       " '0,11',\n",
       " '0,12',\n",
       " '0,13',\n",
       " '0,14',\n",
       " '0,15',\n",
       " '0,16',\n",
       " '0,17',\n",
       " '0,18',\n",
       " '0,19',\n",
       " '0,20',\n",
       " '0,21',\n",
       " '0,22',\n",
       " '0,23',\n",
       " '0,24',\n",
       " '0,25',\n",
       " '1,5',\n",
       " '1,6',\n",
       " '1,7',\n",
       " '1,8',\n",
       " '1,9',\n",
       " '1,10',\n",
       " '1,11',\n",
       " '1,12',\n",
       " '1,13',\n",
       " '1,14',\n",
       " '1,15',\n",
       " '1,16',\n",
       " '1,17',\n",
       " '1,18',\n",
       " '1,19',\n",
       " '1,20',\n",
       " '1,21',\n",
       " '1,22',\n",
       " '1,23',\n",
       " '1,24',\n",
       " '1,25',\n",
       " '2,5',\n",
       " '2,6',\n",
       " '2,7',\n",
       " '2,8',\n",
       " '2,9',\n",
       " '2,10',\n",
       " '2,11',\n",
       " '2,12',\n",
       " '2,13',\n",
       " '2,14',\n",
       " '2,15',\n",
       " '2,16',\n",
       " '2,17',\n",
       " '2,18',\n",
       " '2,19',\n",
       " '2,20',\n",
       " '2,21',\n",
       " '2,22',\n",
       " '2,23',\n",
       " '2,24',\n",
       " '2,25',\n",
       " '3,5',\n",
       " '3,6',\n",
       " '3,7',\n",
       " '3,8',\n",
       " '3,9',\n",
       " '3,10',\n",
       " '3,11',\n",
       " '3,12',\n",
       " '3,13',\n",
       " '3,14',\n",
       " '3,15',\n",
       " '3,16',\n",
       " '3,17',\n",
       " '3,18',\n",
       " '3,19',\n",
       " '3,20',\n",
       " '3,21',\n",
       " '3,22',\n",
       " '3,23',\n",
       " '3,24',\n",
       " '3,25',\n",
       " '4,5',\n",
       " '4,6',\n",
       " '4,7',\n",
       " '4,8',\n",
       " '4,9',\n",
       " '4,10',\n",
       " '4,11',\n",
       " '4,12',\n",
       " '4,13',\n",
       " '4,14',\n",
       " '4,15',\n",
       " '4,16',\n",
       " '4,17',\n",
       " '4,18',\n",
       " '4,19',\n",
       " '4,20',\n",
       " '4,21',\n",
       " '4,22',\n",
       " '4,23',\n",
       " '4,24',\n",
       " '4,25',\n",
       " '5,5',\n",
       " '5,20',\n",
       " '5,25',\n",
       " '6,5',\n",
       " '6,25',\n",
       " '7,5',\n",
       " '7,25',\n",
       " '8,5',\n",
       " '8,25',\n",
       " '9,5',\n",
       " '9,25',\n",
       " '10,25',\n",
       " '11,5',\n",
       " '11,25',\n",
       " '12,5',\n",
       " '12,25',\n",
       " '13,5',\n",
       " '13,25',\n",
       " '14,5',\n",
       " '14,25',\n",
       " '15,5',\n",
       " '15,25',\n",
       " '16,5',\n",
       " '16,25',\n",
       " '17,5',\n",
       " '17,25',\n",
       " '18,5',\n",
       " '18,25',\n",
       " '19,5',\n",
       " '19,25',\n",
       " '20,5',\n",
       " '20,25',\n",
       " '21,5',\n",
       " '21,25',\n",
       " '22,5',\n",
       " '22,25',\n",
       " '23,5',\n",
       " '23,25',\n",
       " '24,5',\n",
       " '24,25']"
      ]
     },
     "execution_count": 21,
     "metadata": {},
     "output_type": "execute_result"
    }
   ],
   "source": [
    "missing_patches"
   ]
  },
  {
   "cell_type": "code",
   "execution_count": 39,
   "metadata": {
    "collapsed": true
   },
   "outputs": [],
   "source": [
    "missing = []\n",
    "for day in days:\n",
    "    for patch in patches:\n",
    "        if  day not in except_dates and butler.datasetExists(\"dayDiff_class_diaSrc\", dataId={\"tract\":0, \"date\":day, \"patch\":patch, \"filter\":\"r\"}) == False:\n",
    "            if patch not in missing_patches:\n",
    "                missing.append((day, patch))\n",
    "        "
   ]
  },
  {
   "cell_type": "code",
   "execution_count": 35,
   "metadata": {
    "collapsed": true
   },
   "outputs": [],
   "source": [
    "missing_dcoadd = []\n",
    "for day in days:\n",
    "    for patch in patches:\n",
    "        \n",
    "        if day not in except_dates and butler.datasetExists(\"dayCoadd\", dataId={\"tract\":0, \"date\":day, \"patch\":patch, \"filter\":\"r\"}) == False:\n",
    "            if patch not in missing_patches:\n",
    "                missing_dcoadd.append((day, patch))\n",
    "        "
   ]
  },
  {
   "cell_type": "code",
   "execution_count": 33,
   "metadata": {
    "collapsed": true,
    "scrolled": false
   },
   "outputs": [],
   "source": [
    "except_dates = []\n",
    "for date in days:\n",
    "    count = [p for d,p in missing_dcoadd if d==date]\n",
    "    if len(count) == 380:\n",
    "        except_dates.append(date)"
   ]
  },
  {
   "cell_type": "code",
   "execution_count": 36,
   "metadata": {},
   "outputs": [
    {
     "data": {
      "text/plain": [
       "[]"
      ]
     },
     "execution_count": 36,
     "metadata": {},
     "output_type": "execute_result"
    }
   ],
   "source": [
    "missing_dcoadd"
   ]
  },
  {
   "cell_type": "code",
   "execution_count": 41,
   "metadata": {},
   "outputs": [
    {
     "data": {
      "text/plain": [
       "['2004-03-16',\n",
       " '2004-04-17',\n",
       " '2004-04-21',\n",
       " '2004-07-09',\n",
       " '2004-06-21',\n",
       " '2004-07-14',\n",
       " '2004-07-16']"
      ]
     },
     "execution_count": 41,
     "metadata": {},
     "output_type": "execute_result"
    }
   ],
   "source": [
    "except_dates"
   ]
  },
  {
   "cell_type": "code",
   "execution_count": 49,
   "metadata": {
    "collapsed": true
   },
   "outputs": [],
   "source": [
    "sigma_dictionary= pickle.load( open( \"/datadec/cppm/jpreyes/CFHT_Production/sigma_dictionary_04_r.pickle\", \"rb\" ) )\n"
   ]
  },
  {
   "cell_type": "code",
   "execution_count": 50,
   "metadata": {},
   "outputs": [
    {
     "data": {
      "text/plain": [
       "{'2004-03-17': 0.07818146215498892,\n",
       " '2004-03-19': 0.07827146577287182,\n",
       " '2004-03-30': 0.08650361113885863,\n",
       " '2004-04-14': 0.09006833610917943,\n",
       " '2004-04-22': 0.09000244627809298,\n",
       " '2004-04-26': 0.09060097489082267,\n",
       " '2004-04-28': 0.11672375355840268,\n",
       " '2004-05-09': 0.08842464511726522,\n",
       " '2004-05-13': 0.08596216858127023,\n",
       " '2004-05-21': 0.10157040807674184,\n",
       " '2004-05-24': 0.09353801279694034,\n",
       " '2004-05-26': 0.10685252281031415,\n",
       " '2004-06-09': 0.08261210242823545,\n",
       " '2004-06-13': 0.07608488577847967,\n",
       " '2004-06-19': 0.07955599415654646,\n",
       " '2004-06-22': 0.07588257675949049,\n",
       " '2004-06-26': 0.1172309040568644,\n",
       " '2004-07-07': 0.10419218104750902,\n",
       " '2004-07-11': 0.07974631414829905,\n",
       " '2004-07-12': 0.10749918056909523,\n",
       " '2004-07-18': 0.08438333975471393}"
      ]
     },
     "execution_count": 50,
     "metadata": {},
     "output_type": "execute_result"
    }
   ],
   "source": [
    "\n",
    "sigma_dictionary['15,15']"
   ]
  },
  {
   "cell_type": "code",
   "execution_count": 20,
   "metadata": {},
   "outputs": [
    {
     "name": "stdout",
     "output_type": "stream",
     "text": [
      "total of sn:25\n"
     ]
    }
   ],
   "source": [
    "f = open('/renoir_data_02/jpreyes/lsst_data/sn_control/J_A+A_523_A7_table9.dat.txt','r')\n",
    "data_elems = f.read()\n",
    "#elems = re.findall('^(.*?D3.*?)\\\\|(.*?)\\\\|', data_elems, re.MULTILINE)\n",
    "elems = re.findall('^(04D3.*?)\\\\|(.*?)\\\\|(.*?)\\\\|(.*?)\\\\|(.*?)\\\\|(.*?)\\\\|(.*?)\\\\|', data_elems, re.MULTILINE)\n",
    "f.close()\n",
    "\n",
    "f = open('/renoir_data_02/jpreyes/lsst_data/sn_control/J_A+A_523_A7_table10.dat.txt','r')\n",
    "data = f.read()\n",
    "f.close()\n",
    "\n",
    "snls_array = []\n",
    "for sn in elems:\n",
    "\n",
    "        c = coord.SkyCoord(sn[1], unit=(u.hourangle, u.deg))\n",
    "\n",
    "        m = re.findall('^'+str(sn[0])+'\\\\|(r|g|z|i)\\\\|(.*?)\\\\|(.*?)\\\\|(.*?)$', data, re.MULTILINE)\n",
    "\n",
    "        snls_lc = DSTools.build_light_curve_from_snls_file_2(m, c, sn[0], sn[-1])\n",
    "\n",
    "        if len(m)>0:\n",
    "            #print sn[0], c.ra.deg, c.dec.deg\n",
    "\n",
    "            #plt.errorbar(snls_lc['mjd'], snls_lc['flux'], yerr=snls_lc['flux_error'], fmt='.', color='blue')\n",
    "            #show_multi_filter_light_curve(snls_lc, snls_colors)\n",
    "            plt.show()\n",
    "            snls_array.append(snls_lc)\n",
    "\n",
    "print(\"total of sn:\" + str(len(snls_array)))"
   ]
  },
  {
   "cell_type": "code",
   "execution_count": 22,
   "metadata": {
    "collapsed": true
   },
   "outputs": [],
   "source": [
    "def read_lc_files(obj):\n",
    "    table = ascii.read(obj)\n",
    "    return table\n",
    "\n",
    "def match_with_lc(slc):\n",
    "    matches = []\n",
    "    for lc in snls_array:\n",
    "        #print \"light curve\"\n",
    "        val = {\"ra\":lc[0][\"ra\"], \"dec\":lc[0][\"dec\"]}\n",
    "        #print np.rad2deg(lc[0][\"ra\"]), np.rad2deg(lc[0][\"dec\"])\n",
    "        \n",
    "\n",
    "        comp = {\"ra\":np.mean(slc[\"ra\"]), \"dec\":np.mean(slc[\"dec\"])}\n",
    "        if DSTools.source_distance(val, comp)<1:\n",
    "            #print \"match\"\n",
    "            matches.append((lc,slc))\n",
    "\n",
    "\n",
    "    #print len(matches)\n",
    "    return matches\n",
    "\n",
    "\n",
    "def get_total_matches(f, sigma, folder_name = \"light_curves_adapted\"):\n",
    "    #lienObj = glob.glob(\"/datadec/cppm/jpreyes/CFHT_Production/\"+folder_name+\"_\"+f+\"_\"+str(float(sigma))+\"sigma/*.dat\")\n",
    "    lienObj = glob.glob(\"/datadec/cppm/jpreyes/CFHT_Production/\"+folder_name+\"_\"+str(float(sigma))+\"sigma/*.dat\")\n",
    "\n",
    "\n",
    "\n",
    "    try:\n",
    "        pool = multiprocessing.Pool()\n",
    "        res =  pool.map(read_lc_files, lienObj)\n",
    "    finally:\n",
    "        pool.close()\n",
    "\n",
    "    s_candidates = res\n",
    "    print len(s_candidates)\n",
    "\n",
    "    try:\n",
    "        pool = multiprocessing.Pool()\n",
    "        match_res =  pool.map(match_with_lc, s_candidates)\n",
    "    finally:\n",
    "        pool.close()\n",
    "\n",
    "    res_final = []\n",
    "    for r in match_res:\n",
    "        res_final +=r\n",
    "\n",
    "    count = 0\n",
    "    ids = []\n",
    "    for control, match in res_final:\n",
    "        if control[0][\"id\"] not in ids:\n",
    "            count+=1\n",
    "            ids.append(control[0][\"id\"])\n",
    "\n",
    "    print count\n",
    "    \n",
    "    return res_final"
   ]
  },
  {
   "cell_type": "code",
   "execution_count": 26,
   "metadata": {},
   "outputs": [
    {
     "name": "stdout",
     "output_type": "stream",
     "text": [
      "34645\n",
      "21\n"
     ]
    }
   ],
   "source": [
    "tmatches_before = get_total_matches(\"r\", 5.5, folder_name=\"light_curves_daycoadd_control\")"
   ]
  },
  {
   "cell_type": "code",
   "execution_count": 24,
   "metadata": {},
   "outputs": [
    {
     "name": "stdout",
     "output_type": "stream",
     "text": [
      "33889\n",
      "21\n"
     ]
    }
   ],
   "source": [
    "tmatches_before = get_total_matches(\"r\", 5.5, folder_name=\"light_curves_daycoadd_control\")"
   ]
  },
  {
   "cell_type": "code",
   "execution_count": 28,
   "metadata": {},
   "outputs": [
    {
     "name": "stdout",
     "output_type": "stream",
     "text": [
      "36695\n",
      "22\n"
     ]
    }
   ],
   "source": [
    "#MOST RECENT\n",
    "tmatches_before = get_total_matches(\"r\", 5.5, folder_name=\"light_curves_daycoadd_control\")"
   ]
  },
  {
   "cell_type": "code",
   "execution_count": 23,
   "metadata": {},
   "outputs": [
    {
     "name": "stdout",
     "output_type": "stream",
     "text": [
      "40308\n",
      "22\n"
     ]
    }
   ],
   "source": [
    "tmatches_before = get_total_matches(\"r\", 5.5, folder_name=\"light_curves_daycoadd_prod\")"
   ]
  },
  {
   "cell_type": "code",
   "execution_count": 27,
   "metadata": {},
   "outputs": [
    {
     "name": "stdout",
     "output_type": "stream",
     "text": [
      "37269\n",
      "21\n"
     ]
    }
   ],
   "source": [
    "#MOST RECENT\n",
    "tmatches_before = get_total_matches(\"r\", 5.5, folder_name=\"light_curves_daycoadd_prod\")"
   ]
  },
  {
   "cell_type": "code",
   "execution_count": 16,
   "metadata": {},
   "outputs": [
    {
     "name": "stdout",
     "output_type": "stream",
     "text": [
      "26923\n",
      "18\n"
     ]
    }
   ],
   "source": [
    "tmatches_before = get_total_matches(\"r\", 5.5, folder_name=\"light_curves_adapted_5\")"
   ]
  },
  {
   "cell_type": "code",
   "execution_count": 18,
   "metadata": {},
   "outputs": [
    {
     "name": "stdout",
     "output_type": "stream",
     "text": [
      "26923\n",
      "18\n"
     ]
    }
   ],
   "source": [
    "tmatches_before = get_total_matches(\"r\", 5.5, folder_name=\"light_curves_adapted_6\")"
   ]
  },
  {
   "cell_type": "code",
   "execution_count": 81,
   "metadata": {},
   "outputs": [
    {
     "name": "stdout",
     "output_type": "stream",
     "text": [
      "55538\n"
     ]
    }
   ],
   "source": [
    "lienObj = glob.glob(\"/datadec/cppm/jpreyes/CFHT_Production/daycoadd_control/dayCoadd/2004-*/r/0/*/*\")\n",
    "print len(lienObj)"
   ]
  },
  {
   "cell_type": "code",
   "execution_count": 64,
   "metadata": {},
   "outputs": [
    {
     "name": "stdout",
     "output_type": "stream",
     "text": [
      "55538\n"
     ]
    }
   ],
   "source": [
    "lienObj = glob.glob(\"/datadec/cppm/jpreyes/CFHT_Production/daycoadd_tests_3/dayCoadd/2004-*/r/0/*/*\")\n",
    "print len(lienObj)"
   ]
  },
  {
   "cell_type": "code",
   "execution_count": 83,
   "metadata": {},
   "outputs": [
    {
     "name": "stdout",
     "output_type": "stream",
     "text": [
      "43869\n",
      "18\n"
     ]
    }
   ],
   "source": [
    "tmatches_before = get_total_matches(\"r\", 5.5, folder_name=\"light_curves_control\")"
   ]
  },
  {
   "cell_type": "code",
   "execution_count": 86,
   "metadata": {},
   "outputs": [
    {
     "name": "stdout",
     "output_type": "stream",
     "text": [
      "452148\n",
      "21\n"
     ]
    }
   ],
   "source": [
    "tmatches_before = get_total_matches(\"r\", 10.0, folder_name=\"light_curves_adapted_3\")"
   ]
  },
  {
   "cell_type": "code",
   "execution_count": 85,
   "metadata": {},
   "outputs": [
    {
     "name": "stdout",
     "output_type": "stream",
     "text": [
      "43199\n",
      "18\n"
     ]
    }
   ],
   "source": [
    "tmatches_before = get_total_matches(\"r\", 10.0, folder_name=\"light_curves_control\")"
   ]
  },
  {
   "cell_type": "code",
   "execution_count": 87,
   "metadata": {},
   "outputs": [
    {
     "name": "stdout",
     "output_type": "stream",
     "text": [
      "210456\n",
      "19\n"
     ]
    }
   ],
   "source": [
    "tmatches_before = get_total_matches(\"r\", 5.5, folder_name=\"light_curves_adapted_4\")"
   ]
  },
  {
   "cell_type": "code",
   "execution_count": 88,
   "metadata": {},
   "outputs": [
    {
     "name": "stdout",
     "output_type": "stream",
     "text": [
      "43869\n",
      "18\n"
     ]
    }
   ],
   "source": [
    "tmatches_before = get_total_matches(\"r\", 5.5, folder_name=\"light_curves_control\")"
   ]
  },
  {
   "cell_type": "code",
   "execution_count": 89,
   "metadata": {
    "collapsed": true
   },
   "outputs": [],
   "source": [
    "butler1 = dafPersist.Butler(DATADIR+\"daycoadd_tests_3\")\n",
    "butler2 = dafPersist.Butler(DATADIR+\"daycoadd_control\")"
   ]
  },
  {
   "cell_type": "code",
   "execution_count": 91,
   "metadata": {},
   "outputs": [
    {
     "name": "stdout",
     "output_type": "stream",
     "text": [
      "1066\n",
      "1045\n"
     ]
    }
   ],
   "source": [
    "\n",
    "cls_1 = butler1.get(\"dayDiff_class_diaSrc\", dataId={\"tract\":0, \"date\":\"2004-05-09\", \"patch\":\"15,15\", \"filter\":\"r\"})\n",
    "print len(cls_1)\n",
    "\n",
    "cls_2 = butler2.get(\"dayDiff_class_diaSrc\", dataId={\"tract\":0, \"date\":\"2004-05-09\", \"patch\":\"15,15\", \"filter\":\"r\"})\n",
    "print len(cls_2)"
   ]
  },
  {
   "cell_type": "code",
   "execution_count": 93,
   "metadata": {},
   "outputs": [
    {
     "name": "stdout",
     "output_type": "stream",
     "text": [
      "155\n"
     ]
    }
   ],
   "source": [
    "butler3 = dafPersist.Butler(DATADIR+\"daycoadd_tests_3\")\n",
    "cls_3 = butler3.get(\"dayDiff_class_diaSrc\", dataId={\"tract\":0, \"date\":\"2004-05-09\", \"patch\":\"15,15\", \"filter\":\"r\"})\n",
    "print len(cls_3)"
   ]
  },
  {
   "cell_type": "code",
   "execution_count": 98,
   "metadata": {},
   "outputs": [
    {
     "name": "stdout",
     "output_type": "stream",
     "text": [
      "1066\n"
     ]
    }
   ],
   "source": [
    "butler4 = dafPersist.Butler(DATADIR+\"daycoadd_tests_3\")\n",
    "cls_4 = butler4.get(\"dayDiff_class_diaSrc\", dataId={\"tract\":0, \"date\":\"2004-05-09\", \"patch\":\"15,15\", \"filter\":\"r\"})\n",
    "print len(cls_4)"
   ]
  },
  {
   "cell_type": "code",
   "execution_count": 12,
   "metadata": {},
   "outputs": [
    {
     "name": "stdout",
     "output_type": "stream",
     "text": [
      "118\n"
     ]
    }
   ],
   "source": [
    "butler5 = dafPersist.Butler(DATADIR+\"daycoadd_tests_3\")\n",
    "cls_5 = butler5.get(\"dayDiff_class_diaSrc\", dataId={\"tract\":0, \"date\":\"2004-05-09\", \"patch\":\"14,12\", \"filter\":\"r\"})\n",
    "print len(cls_5)"
   ]
  },
  {
   "cell_type": "code",
   "execution_count": null,
   "metadata": {
    "collapsed": true
   },
   "outputs": [],
   "source": []
  }
 ],
 "metadata": {
  "kernelspec": {
   "display_name": "Python 2",
   "language": "python",
   "name": "python2"
  },
  "language_info": {
   "codemirror_mode": {
    "name": "ipython",
    "version": 2
   },
   "file_extension": ".py",
   "mimetype": "text/x-python",
   "name": "python",
   "nbconvert_exporter": "python",
   "pygments_lexer": "ipython2",
   "version": "2.7.12"
  }
 },
 "nbformat": 4,
 "nbformat_minor": 2
}
