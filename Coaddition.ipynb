{
 "metadata": {
  "name": "",
  "signature": "sha256:32c5dba4c46c5b3e035205446650f7e37c1dada30ffb5619842f6009f48e435e"
 },
 "nbformat": 3,
 "nbformat_minor": 0,
 "worksheets": [
  {
   "cells": [
    {
     "cell_type": "heading",
     "level": 1,
     "metadata": {},
     "source": [
      "Coaddition-Subtraction method for transient objects detection"
     ]
    },
    {
     "cell_type": "markdown",
     "metadata": {},
     "source": [
      "Imports of all LSST Python modules necessaries for the processing"
     ]
    },
    {
     "cell_type": "code",
     "collapsed": false,
     "input": [
      "import glob\n",
      "import os\n",
      "import subprocess\n",
      "import sys\n",
      "import lsst.pipe.tasks.ingest as Ingester\n",
      "import lsst.pipe.tasks.processCcd as Processer\n",
      "import lsst.pipe.base.argumentParser as ArgumentParser\n",
      "import lsst.daf.persistence as dafPersist\n",
      "import lsst.pipe.tasks.makeSkyMap as SkyMapper\n",
      "\n",
      "import lsst.pipe.tasks.reportPatches as PatchReporter\n",
      "import lsst.pipe.tasks.makeCoaddTempExp as TempexpCoadder\n",
      "import lsst.pipe.tasks.assembleCoadd as Assembler\n",
      "\n",
      "import lsst.afw.image as afwImage\n",
      "import lsst.meas.algorithms as measAlg\n",
      "import lsst.ip.diffim as ipDiffim\n",
      "import lsst.ip.diffim.diffimTools as diffimTools\n",
      "\n",
      "DATADIR=\"/renoir_data_00/jpreyes/stacks/notebook_files/data/CFHTLS\"\n",
      "DATASUB1=\"/renoir_data_00/jpreyes/stacks/notebook_files/data/CFHTLS_SUB1\"\n",
      "DATASUB2=\"/renoir_data_00/jpreyes/stacks/notebook_files/data/CFHTLS_SUB2\"\n",
      "DATASUB3=\"/renoir_data_00/jpreyes/stacks/notebook_files/data/CFHTLS_SUB3\"\n",
      "DATASUB4=\"/renoir_data_00/jpreyes/stacks/notebook_files/data/CFHTLS_SUB4\"\n",
      "DATASUB5=\"/renoir_data_00/jpreyes/stacks/notebook_files/data/CFHTLS_SUB5\""
     ],
     "language": "python",
     "metadata": {},
     "outputs": [],
     "prompt_number": 1
    },
    {
     "cell_type": "code",
     "collapsed": false,
     "input": [
      "import lsst.pipe.tasks.subtractImages as Subtracter\n",
      "SubtractTask = Subtracter.SubtractImagesTask\n",
      "#SubtractTask.parseAndRun(args=[\"-c\"])\n",
      "SubtractTask.parseAndRun(args=((DATADIR+\"/output/coadd_r_dir\" ).split()))"
     ],
     "language": "python",
     "metadata": {},
     "outputs": [
      {
       "metadata": {},
       "output_type": "pyout",
       "prompt_number": 3,
       "text": [
        "Struct(taskRunner=<lsst.pipe.base.cmdLineTask.TaskRunner object at 0x4789090>; parsedCmd=Namespace(butler=<lsst.daf.persistence.butler.Butler object at 0x4601a10>, calib=None, camera='megacam', clobberConfig=False, clobberOutput=False, config=lsst.pipe.tasks.subtractImages.SubtractImagesConfig(scienteFwhmPix=0.0, convolveTemplate=False, templateFwhmPix=0.0, doWarping=False), debug=False, doraise=False, id=<lsst.pipe.base.argumentParser.DataIdContainer object at 0x455d590>, input='/renoir_data_00/jpreyes/stacks/notebook_files/data/CFHTLS/output/coadd_r_dir', log=<lsst.pex.logging.loggingLib.Log; proxy of <Swig Object of type 'lsst::pex::logging::Log *' at 0x4631c00> >, obsPkg='obs_cfht', output=None, processes=1, profile=None, show=(), timeout=None, trace=None); resultList=[]; argumentParser=ArgumentParser(prog='-c', usage='%(prog)s input [options]', description=None, version=None, formatter_class=<class 'argparse.RawDescriptionHelpFormatter'>, conflict_handler='error', add_help=True))"
       ]
      }
     ],
     "prompt_number": 3
    },
    {
     "cell_type": "markdown",
     "metadata": {},
     "source": [
      "Working directory is created. A reference to the cam mapper is also created."
     ]
    },
    {
     "cell_type": "code",
     "collapsed": false,
     "input": [
      "\n",
      "os.makedirs(DATADIR)\n",
      "os.makedirs(DATADIR+\"/input\")\n",
      "temp_file=open(DATADIR+\"/input/_mapper\",'w')\n",
      "temp_file.write('lsst.obs.cfht.MegacamMapper')\n",
      "temp_file.close()\n",
      "\n"
     ],
     "language": "python",
     "metadata": {},
     "outputs": []
    },
    {
     "cell_type": "markdown",
     "metadata": {},
     "source": [
      "We need to instantiate the task as well as the configuration and parser classes.\n",
      "\n",
      "IMPORTANT: a file _mapper has to exist in the input folder with the line 'lsst.echo.cfht.MegacamMapper' or the method will not run!\n",
      "\n",
      "Usually, by command line, a wildcard can be used to express a list of files. However, the wildcard is interpreted by the shell and split in a long line with all the list of arguments. In order to ensure that the same is beind done here, we have to manually generate the list from the wildcard and put in a valid string format."
     ]
    },
    {
     "cell_type": "code",
     "collapsed": false,
     "input": [
      "ITask = Ingester.IngestTask\n",
      "IConfig = ITask.ConfigClass()\n",
      "IParser = ITask.ArgumentParser(\"ingest\")\n",
      "Files = glob.glob(DATADIR+\"/../../../data/rawnew3/996721p.fits.fz\")\n",
      "SFiles = ' '.join(Files)\n",
      "print(SFiles)\n"
     ],
     "language": "python",
     "metadata": {},
     "outputs": []
    },
    {
     "cell_type": "markdown",
     "metadata": {},
     "source": [
      "Parameters should be given to the parser the same way they should be used as parameter though the terminal"
     ]
    },
    {
     "cell_type": "code",
     "collapsed": false,
     "input": [
      "args = IParser.parse_args(IConfig, (DATADIR+'/input '+SFiles+' --mode link').split()) \n",
      "task = ITask(config=args.config)\n",
      "task.run(args)"
     ],
     "language": "python",
     "metadata": {},
     "outputs": []
    },
    {
     "cell_type": "markdown",
     "metadata": {},
     "source": [
      "Run and process all the CCDs "
     ]
    },
    {
     "cell_type": "code",
     "collapsed": false,
     "input": [
      "PTask = Processer.ProcessCcdTask\n",
      "\n",
      "PTask.parseAndRun(args=((DATADIR+\"/input --output \"+DATADIR+\"/output --id ccd=0 --config isr.doBias=False isr.doFlat=False isr.doFringe=False\").split()))\n",
      "\n"
     ],
     "language": "python",
     "metadata": {},
     "outputs": [
      {
       "output_type": "stream",
       "stream": "stdout",
       "text": [
        "On the taskRunner\n",
        "Namespace(butler=<lsst.daf.persistence.butler.Butler object at 0x55592d0>, calib=None, camera='megacam', clobberConfig=False, clobberOutput=False, config=lsst.pipe.tasks.processCcd.ProcessCcdConfig(doIsr=True, doWriteHeavyFootprintsInSources=False, doWriteSources=True, isr={'assembleCcd': {'doTrim': True, 'keysToRemove': [], 'setGain': False, 'doRenorm': False}, 'fringe': {'stats': {'badMaskPlanes': ['SAT'], 'stat': 32, 'clip': 3.0, 'iterations': 3}, 'filters': ['i', 'i2', 'z'], 'clip': 3.0, 'large': 50, 'num': 30000, 'iterations': 20, 'small': 1, 'pedestal': True}, 'doAssembleDetrends': True, 'overscanOrder': 1, 'doWrite': False, 'saturatedMaskName': 'SAT', 'fringeAfterFlat': True, 'doDark': False, 'setGainAssembledCcd': True, 'flatScalingType': 'USER', 'doFlat': False, 'doFringe': False, 'overscanRej': 3.0, 'keysToRemoveFromAssembledCcd': [], 'fluxMag0T1': 10000000000.0, 'growSaturationFootprintSize': 1, 'fwhm': 1.0, 'overscanFitType': 'MEDIAN', 'doBias': False, 'flatUserScale': 1.0}, doDetection=True, doWriteSourceMatches=False, detection={'reEstimateBackground': True, 'nSigmaToGrow': 2.4, 'minPixels': 1, 'includeThresholdMultiplier': 1.0, 'isotropicGrow': False, 'adjustBackground': 0.0, 'thresholdType': 'stdev', 'background': {'ignoredPixelMask': ['EDGE', 'DETECTED', 'DETECTED_NEGATIVE'], 'undersampleStyle': 'REDUCE_INTERP_ORDER', 'algorithm': 'NATURAL_SPLINE', 'binSize': 256, 'isNanSafe': False, 'statisticsProperty': 'MEANCLIP'}, 'returnOriginalFootprints': True, 'thresholdPolarity': 'positive', 'thresholdValue': 5.0}, doWriteCalibrateMatches=True, doDeblend=False, calibrate={'initialPsf': {'fwhm': 1.0, 'model': 'SingleGaussian', 'pixelScale': 0.25, 'size': 15}, 'repair': {'doInterpolate': True, 'doCosmicRay': True, 'cosmicray': {'keepCRs': False, 'cond3_fac2': 0.6, 'cond3_fac': 2.5, 'nCrPixelMax': 100000, 'niteration': 3, 'minSigma': 6.0, 'min_DN': 150.0}}, 'doPsf': True, 'astrometry': {'rejectIter': 3, 'forceKnownWcs': False, 'rejectThresh': 3.0, 'solver': {'cleaningParameter': 3.0, 'pixelScaleUncertainty': 1.1, 'catalogMatchDist': 1.0, 'useWcsParity': True, 'sipOrder': 4, 'useWcsRaDecCenter': True, 'matchThreshold': 27.631021115928547, 'useWcsPixelScale': True, 'maxStars': 50, 'allFluxes': True, 'calculateSip': True, 'maxCpuTime': 0.0, 'filterMap': {}, 'raDecSearchRadius': 1.0}}, 'doBackground': True, 'detection': {'reEstimateBackground': True, 'nSigmaToGrow': 2.4, 'minPixels': 1, 'includeThresholdMultiplier': 10.0, 'isotropicGrow': False, 'adjustBackground': 0.0, 'thresholdType': 'stdev', 'background': {'ignoredPixelMask': ['EDGE', 'DETECTED', 'DETECTED_NEGATIVE'], 'undersampleStyle': 'REDUCE_INTERP_ORDER', 'algorithm': 'NATURAL_SPLINE', 'binSize': 256, 'isNanSafe': False, 'statisticsProperty': 'MEANCLIP'}, 'returnOriginalFootprints': True, 'thresholdPolarity': 'positive', 'thresholdValue': 5.0}, 'doPhotoCal': True, 'initialMeasurement': {'doReplaceWithNoise': True, 'centroider': {'values': {'centroid.sdss': {'priority': 0.0, 'peakMin': -1.0, 'binmax': 16, 'wfac': 1.5}, 'centroid.naive': {'priority': 0.0, 'background': 0.0}, 'centroid.gaussian': {'priority': 0.0}}, 'name': 'centroid.sdss'}, 'prefix': None, 'algorithms': {'values': {'centroid.sdss': {'priority': 0.0, 'peakMin': -1.0, 'binmax': 16, 'wfac': 1.5}, 'flux.psf': {'priority': 2.0}, 'flux.dipole.psf': {'priority': 2.0, 'stepSizeFlux': 1.0, 'stepSizeCoord': 0.10000000149011612, 'maxPixels': 500, 'errorDef': 1.0, 'maxFnCalls': 100000}, 'flags.pixel': {'priority': 0.0}, 'centroid.gaussian': {'priority': 0.0}, 'centroid.record': {'priority': 5.0}, 'flux.aperture': {'priority': 2.0, 'radii': [0.0, 0.0, 0.0, 0.0, 0.0, 0.0, 0.0, 0.0, 0.0, 0.0, 1.0, 1.5625, 2.44140625, 3.814697265625, 5.9604644775390625, 9.313225746154785, 14.551915228366852, 22.737367544323206, 35.52713678800501, 55.51115123125783]}, 'centroid.dipole.naive': {'priority': 0.0}, 'flux.naive': {'priority': 2.0, 'radius': 7.0}, 'flux.gaussian': {'shapeFlag': '.flags', 'tol2': 9.999999747378752e-05, 'tol1': 9.999999747378752e-06, 'priority': 2.0, 'shape': 'shape.sdss', 'centroid': 'shape.sdss.centroid', 'background': 0.0, 'maxIter': 100, 'fixed': False, 'shiftmax': 10.0}, 'centroid.naive': {'priority': 0.0, 'background': 0.0}, 'flux.sinc': {'priority': 2.0, 'radius1': 0.0, 'radius2': 7.0, 'angle': 0.0, 'ellipticity': 0.0}, 'shape.sdss': {'priority': 1.0, 'tol2': 9.999999747378752e-05, 'tol1': 9.999999747378752e-06, 'background': 0.0, 'maxIter': 100}, 'flux.aperture.elliptical': {'priority': 1.899999976158142, 'radii': [0.0, 0.0, 0.0, 0.0, 0.0, 0.0, 0.0, 0.0, 0.0, 0.0, 1.0, 1.5625, 2.44140625, 3.814697265625, 5.9604644775390625, 9.313225746154785, 14.551915228366852, 22.737367544323206, 35.52713678800501, 55.51115123125783]}, 'flux.peakLikelihood': {'priority': 2.0, 'warpingKernelName': 'lanczos4'}, 'correctfluxes': {'doApCorr': True, 'canonicalFluxName': 'flux.psf', 'apCorrRadius': 7.0, 'priority': 3.0, 'doFlagTieFailures': True, 'doFlagApCorrFailures': True, 'canonicalFluxIndex': 0, 'doTieScaledFluxes': True}, 'classification.extendedness': {'priority': 5.0, 'psfErrFactor': 0.0, 'modelErrFactor': 0.0, 'fluxRatio': 0.925}, 'skycoord': {'priority': 5.0}, 'flux.dipole.naive': {'priority': 2.0}}, 'names': ['flux.psf', 'flags.pixel', 'shape.sdss', 'flux.naive', 'flux.gaussian', 'centroid.naive', 'flux.sinc', 'centroid.gaussian', 'skycoord']}, 'replaceWithNoise': {'noiseSeed': 0, 'noiseOffset': 0.0, 'noiseSource': 'measure'}, 'slots': {'psfFlux': 'flux.psf', 'apFlux': 'flux.sinc', 'instFlux': 'flux.gaussian', 'shape': 'shape.sdss', 'centroid': 'centroid.sdss', 'modelFlux': 'flux.gaussian'}}, 'measurePsf': {'psfDeterminer': {'values': {'pca': {'kernelSizeMax': 45, 'lam': 0.05, 'reducedChi2ForPsfCandidates': 2.0, 'nonLinearSpatialFit': False, 'spatialOrder': 2, 'doMaskBlends': True, 'sizeCellX': 256, 'sizeCellY': 256, 'spatialReject': 3.0, 'kernelSize': 10.0, 'constantWeight': True, 'nIterForPsf': 3, 'doRejectBlends': False, 'borderWidth': 0, 'nEigenComponents': 4, 'pixelThreshold': 0.0, 'nStarPerCellSpatialFit': 5, 'tolerance': 0.01, 'kernelSizeMin': 25, 'nStarPerCell': 3}}, 'name': 'pca'}, 'starSelector': {'values': {'objectSize': {'widthMax': 10.0, 'widthMin': 0.0, 'kernelSize': 21, 'fluxMin': 12500.0, 'borderWidth': 0, 'badFlags': ['base_PixelFlags_flag_edge', 'base_PixelFlags_flag_interpolatedCenter', 'base_PixelFlags_flag_saturatedCenter', 'base_PixelFlags_flag_crCenter'], 'fluxMax': 0.0, 'sourceFluxField': 'base_GaussianFlux_flux'}, 'diacatalog': {'grMax': 3.0, 'grMin': 0.0, 'selectGalaxy': False, 'selectStar': True, 'badPixelFlags': ['flags.pixel.edge', 'flags.pixel.interpolated.center', 'flags.pixel.saturated.center', 'flags.badcentroid'], 'fluxMax': 0.0, 'includeVariable': False, 'fluxLim': 0.0}, 'catalog': {'fluxLim': 0.0, 'borderWidth': 0, 'fluxMax': 0.0, 'kernelSize': 21, 'badStarPixelFlags': ['base_PixelFlags_flag_edge', 'base_PixelFlags_flag_interpolatedCenter', 'base_PixelFlags_flag_saturatedCenter', 'base_PixelFlags_flag_edge', 'base_PixelFlags_flag_interpolatedCenter', 'base_PixelFlags_flag_saturatedCenter']}, 'secondMoment': {'kernelSize': 21, 'histMomentMinMultiplier': 2.0, 'histSize': 64, 'histMomentClip': 5.0, 'borderWidth': 0, 'badFlags': ['base_PixelFlags_flag_edge', 'base_PixelFlags_flag_interpolatedCenter', 'base_PixelFlags_flag_saturatedCenter', 'base_PixelFlags_flag_crCenter'], 'histMomentMaxMultiplier': 5.0, 'fluxMax': 0.0, 'clumpNSigma': 2.0, 'fluxLim': 12500.0, 'histMomentMax': 100.0}, 'sizeMagnitude': {'startn1': 0.1, 'starsperbin': 30, 'fitorder': 1, 'minmag': 0.0, 'starfrac': 0.5, 'maxmag': 1e+100, 'logsize': False, 'minsize': 0.0, 'aperture': 5.0, 'maxsize': 1e+100, 'fitsigclip': 4.0, 'purityratio': 0.05}}, 'name': 'secondMoment'}}, 'background': {'ignoredPixelMask': ['EDGE', 'DETECTED', 'DETECTED_NEGATIVE'], 'undersampleStyle': 'REDUCE_INTERP_ORDER', 'algorithm': 'NATURAL_SPLINE', 'binSize': 1024, 'isNanSafe': False, 'statisticsProperty': 'MEANCLIP'}, 'measurement': {'doReplaceWithNoise': True, 'centroider': {'values': {'centroid.sdss': {'priority': 0.0, 'peakMin': -1.0, 'binmax': 16, 'wfac': 1.5}, 'centroid.naive': {'priority': 0.0, 'background': 0.0}, 'centroid.gaussian': {'priority': 0.0}}, 'name': 'centroid.sdss'}, 'prefix': None, 'algorithms': {'values': {'centroid.sdss': {'priority': 0.0, 'peakMin': -1.0, 'binmax': 16, 'wfac': 1.5}, 'flux.psf': {'priority': 2.0}, 'flux.dipole.psf': {'priority': 2.0, 'stepSizeFlux': 1.0, 'stepSizeCoord': 0.10000000149011612, 'maxPixels': 500, 'errorDef': 1.0, 'maxFnCalls': 100000}, 'flags.pixel': {'priority': 0.0}, 'centroid.gaussian': {'priority': 0.0}, 'centroid.record': {'priority': 5.0}, 'flux.aperture': {'priority': 2.0, 'radii': [0.0, 0.0, 0.0, 0.0, 0.0, 0.0, 0.0, 0.0, 0.0, 0.0, 1.0, 1.5625, 2.44140625, 3.814697265625, 5.9604644775390625, 9.313225746154785, 14.551915228366852, 22.737367544323206, 35.52713678800501, 55.51115123125783]}, 'centroid.dipole.naive': {'priority': 0.0}, 'flux.naive': {'priority': 2.0, 'radius': 7.0}, 'flux.gaussian': {'shapeFlag': '.flags', 'tol2': 9.999999747378752e-05, 'tol1': 9.999999747378752e-06, 'priority': 2.0, 'shape': 'shape.sdss', 'centroid': 'shape.sdss.centroid', 'background': 0.0, 'maxIter': 100, 'fixed': False, 'shiftmax': 10.0}, 'centroid.naive': {'priority': 0.0, 'background': 0.0}, 'flux.sinc': {'priority': 2.0, 'radius1': 0.0, 'radius2': 7.0, 'angle': 0.0, 'ellipticity': 0.0}, 'shape.sdss': {'priority': 1.0, 'tol2': 9.999999747378752e-05, 'tol1': 9.999999747378752e-06, 'background': 0.0, 'maxIter': 100}, 'flux.aperture.elliptical': {'priority': 1.899999976158142, 'radii': [0.0, 0.0, 0.0, 0.0, 0.0, 0.0, 0.0, 0.0, 0.0, 0.0, 1.0, 1.5625, 2.44140625, 3.814697265625, 5.9604644775390625, 9.313225746154785, 14.551915228366852, 22.737367544323206, 35.52713678800501, 55.51115123125783]}, 'flux.peakLikelihood': {'priority': 2.0, 'warpingKernelName': 'lanczos4'}, 'correctfluxes': {'doApCorr': True, 'canonicalFluxName': 'flux.psf', 'apCorrRadius': 7.0, 'priority': 3.0, 'doFlagTieFailures': True, 'doFlagApCorrFailures': True, 'canonicalFluxIndex': 0, 'doTieScaledFluxes': True}, 'classification.extendedness': {'priority': 5.0, 'psfErrFactor': 0.0, 'modelErrFactor': 0.0, 'fluxRatio': 0.925}, 'skycoord': {'priority': 5.0}, 'flux.dipole.naive': {'priority': 2.0}}, 'names': ['flux.psf', 'flags.pixel', 'centroid.gaussian', 'flux.naive', 'flux.gaussian', 'centroid.naive', 'flux.sinc', 'shape.sdss', 'correctfluxes', 'classification.extendedness', 'skycoord']}, 'replaceWithNoise': {'noiseSeed': 0, 'noiseOffset': 0.0, 'noiseSource': 'measure'}, 'slots': {'psfFlux': 'flux.psf', 'apFlux': 'flux.sinc', 'instFlux': 'flux.gaussian', 'shape': 'shape.sdss', 'centroid': 'centroid.sdss', 'modelFlux': 'flux.gaussian'}}, 'photocal': {'nIter': 20, 'fluxField': 'base_PsfFlux_flux', 'magLimit': 22.0, 'sigmaMax': 0.25, 'nSigma': 3.0, 'goodFlags': [], 'applyColorTerms': True, 'badFlags': ['base_PixelFlags_flag_edge', 'base_PixelFlags_flag_interpolated', 'base_PixelFlags_flag_saturated'], 'useMedian': True, 'doWriteOutput': True}, 'doAstrometry': True}, measurement={'doReplaceWithNoise': True, 'centroider': {'values': {'centroid.sdss': {'priority': 0.0, 'peakMin': -1.0, 'binmax': 16, 'wfac': 1.5}, 'centroid.naive': {'priority': 0.0, 'background': 0.0}, 'centroid.gaussian': {'priority': 0.0}}, 'name': 'centroid.sdss'}, 'prefix': None, 'algorithms': {'values': {'centroid.sdss': {'priority': 0.0, 'peakMin': -1.0, 'binmax': 16, 'wfac': 1.5}, 'flux.psf': {'priority': 2.0}, 'flux.dipole.psf': {'priority': 2.0, 'stepSizeFlux': 1.0, 'stepSizeCoord': 0.10000000149011612, 'maxPixels': 500, 'errorDef': 1.0, 'maxFnCalls': 100000}, 'flags.pixel': {'priority': 0.0}, 'centroid.gaussian': {'priority': 0.0}, 'centroid.record': {'priority': 5.0}, 'flux.aperture': {'priority': 2.0, 'radii': [0.0, 0.0, 0.0, 0.0, 0.0, 0.0, 0.0, 0.0, 0.0, 0.0, 1.0, 1.5625, 2.44140625, 3.814697265625, 5.9604644775390625, 9.313225746154785, 14.551915228366852, 22.737367544323206, 35.52713678800501, 55.51115123125783]}, 'centroid.dipole.naive': {'priority': 0.0}, 'flux.naive': {'priority': 2.0, 'radius': 7.0}, 'flux.gaussian': {'shapeFlag': '.flags', 'tol2': 9.999999747378752e-05, 'tol1': 9.999999747378752e-06, 'priority': 2.0, 'shape': 'shape.sdss', 'centroid': 'shape.sdss.centroid', 'background': 0.0, 'maxIter': 100, 'fixed': False, 'shiftmax': 10.0}, 'centroid.naive': {'priority': 0.0, 'background': 0.0}, 'flux.sinc': {'priority': 2.0, 'radius1': 0.0, 'radius2': 7.0, 'angle': 0.0, 'ellipticity': 0.0}, 'shape.sdss': {'priority': 1.0, 'tol2': 9.999999747378752e-05, 'tol1': 9.999999747378752e-06, 'background': 0.0, 'maxIter': 100}, 'flux.aperture.elliptical': {'priority': 1.899999976158142, 'radii': [0.0, 0.0, 0.0, 0.0, 0.0, 0.0, 0.0, 0.0, 0.0, 0.0, 1.0, 1.5625, 2.44140625, 3.814697265625, 5.9604644775390625, 9.313225746154785, 14.551915228366852, 22.737367544323206, 35.52713678800501, 55.51115123125783]}, 'flux.peakLikelihood': {'priority': 2.0, 'warpingKernelName': 'lanczos4'}, 'correctfluxes': {'doApCorr': True, 'canonicalFluxName': 'flux.psf', 'apCorrRadius': 7.0, 'priority': 3.0, 'doFlagTieFailures': True, 'doFlagApCorrFailures': True, 'canonicalFluxIndex': 0, 'doTieScaledFluxes': True}, 'classification.extendedness': {'priority': 5.0, 'psfErrFactor': 0.0, 'modelErrFactor': 0.0, 'fluxRatio': 0.925}, 'skycoord': {'priority': 5.0}, 'flux.dipole.naive': {'priority': 2.0}}, 'names': ['flux.psf', 'flags.pixel', 'shape.sdss', 'flux.naive', 'flux.gaussian', 'centroid.naive', 'flux.sinc', 'centroid.gaussian', 'correctfluxes', 'classification.extendedness', 'skycoord']}, 'replaceWithNoise': {'noiseSeed': 0, 'noiseOffset': 0.0, 'noiseSource': 'measure'}, 'slots': {'psfFlux': 'flux.psf', 'apFlux': 'flux.sinc', 'instFlux': 'flux.gaussian', 'shape': 'shape.sdss', 'centroid': 'centroid.sdss', 'modelFlux': 'flux.gaussian'}}, doMeasurement=True, deblend={'edgeHandling': 'ramp', 'assignStrayFlux': True, 'strayFluxRule': 'r-to-peak', 'strayFluxToPointSources': 'necessary', 'psfChisq2b': 1.5, 'maxFootprintArea': 100000, 'tinyFootprintSize': 2, 'findStrayFlux': True, 'psfChisq1': 1.5, 'psfChisq2': 1.5, 'maxNumberOfPeaks': 0, 'clipStrayFluxFraction': 0.01}, doCalibrate=True, persistBackgroundModel=True, doWriteCalibrate=True), debug=False, doraise=False, id=<lsst.pipe.base.argumentParser.DataIdContainer object at 0x25b0590>, input='/renoir_data_00/jpreyes/stacks/notebook_files/data/CFHTLS/input', log=<lsst.pex.logging.loggingLib.Log; proxy of <Swig Object of type 'lsst::pex::logging::Log *' at 0x55259f0> >, obsPkg='obs_cfht', output='/renoir_data_00/jpreyes/stacks/notebook_files/data/CFHTLS/output', processes=1, profile=None, show=(), timeout=None, trace=None)"
       ]
      },
      {
       "output_type": "stream",
       "stream": "stdout",
       "text": [
        "\n",
        "[<lsst.daf.persistence.butlerSubset.ButlerDataRef object at 0x57ad510>, <lsst.daf.persistence.butlerSubset.ButlerDataRef object at 0x5cb8750>, <lsst.daf.persistence.butlerSubset.ButlerDataRef object at 0x5cb8710>, <lsst.daf.persistence.butlerSubset.ButlerDataRef object at 0x5cb8450>, <lsst.daf.persistence.butlerSubset.ButlerDataRef object at 0x5cb8410>, <lsst.daf.persistence.butlerSubset.ButlerDataRef object at 0x5cb87d0>, <lsst.daf.persistence.butlerSubset.ButlerDataRef object at 0x5cb8790>, <lsst.daf.persistence.butlerSubset.ButlerDataRef object at 0x5cb8610>, <lsst.daf.persistence.butlerSubset.ButlerDataRef object at 0x5cb8050>, <lsst.daf.persistence.butlerSubset.ButlerDataRef object at 0x5cb8090>, <lsst.daf.persistence.butlerSubset.ButlerDataRef object at 0x5cb80d0>, <lsst.daf.persistence.butlerSubset.ButlerDataRef object at 0x5cb8110>, <lsst.daf.persistence.butlerSubset.ButlerDataRef object at 0x5cb8150>, <lsst.daf.persistence.butlerSubset.ButlerDataRef object at 0x5cb8190>, <lsst.daf.persistence.butlerSubset.ButlerDataRef object at 0x5cb81d0>]\n",
        "probando, probando\n",
        "This is the processCCD"
       ]
      },
      {
       "output_type": "stream",
       "stream": "stdout",
       "text": [
        "\n",
        "probando, probando"
       ]
      },
      {
       "output_type": "stream",
       "stream": "stdout",
       "text": [
        "\n",
        "This is the processCCD"
       ]
      },
      {
       "output_type": "stream",
       "stream": "stderr",
       "text": [
        "Traceback (most recent call last):\n",
        "  File \"/renoir_data_00/jpreyes/stacks/v9_2_copy/Linux64/pipe_base/9.2/python/lsst/pipe/base/cmdLineTask.py\", line 322, in __call__\n",
        "    result = task.run(dataRef, **kwargs)\n",
        "  File \"/renoir_data_00/jpreyes/stacks/v9_2_copy/Linux64/pipe_base/9.2/python/lsst/pipe/base/timer.py\", line 118, in wrapper\n",
        "    res = func(self, *args, **keyArgs)\n",
        "  File \"/renoir_data_00/jpreyes/stacks/v9_2_copy/Linux64/pipe_tasks/9.2/python/lsst/pipe/tasks/processCcd.py\", line 84, in run\n",
        "    result = self.process(sensorRef, postIsrExposure)\n",
        "  File \"/renoir_data_00/jpreyes/stacks/v9_2_copy/Linux64/pipe_base/9.2/python/lsst/pipe/base/timer.py\", line 118, in wrapper\n",
        "    res = func(self, *args, **keyArgs)\n",
        "  File \"/renoir_data_00/jpreyes/stacks/v9_2_copy/Linux64/pipe_tasks/9.2/python/lsst/pipe/tasks/processImage.py\", line 154, in process\n",
        "    calib = self.calibrate.run(inputExposure, idFactory=idFactory)\n",
        "  File \"/renoir_data_00/jpreyes/stacks/v9_2_copy/Linux64/pipe_base/9.2/python/lsst/pipe/base/timer.py\", line 118, in wrapper\n",
        "    res = func(self, *args, **keyArgs)\n",
        "  File \"/renoir_data_00/jpreyes/stacks/v9_2_copy/Linux64/pipe_tasks/9.2/python/lsst/pipe/tasks/calibrate.py\", line 431, in run\n",
        "    astromRet = self.astrometry.run(exposure, sources1)\n",
        "  File \"/renoir_data_00/jpreyes/stacks/v9_2_copy/Linux64/pipe_base/9.2/python/lsst/pipe/base/timer.py\", line 118, in wrapper\n",
        "    res = func(self, *args, **keyArgs)\n",
        "  File \"/renoir_data_00/jpreyes/stacks/v9_2_copy/Linux64/pipe_tasks/9.2/python/lsst/pipe/tasks/astrometry.py\", line 203, in run\n",
        "    results = self.astrometry(exposure, sources, bbox=bbox)\n",
        "  File \"/renoir_data_00/jpreyes/stacks/v9_2_copy/Linux64/pipe_base/9.2/python/lsst/pipe/base/timer.py\", line 118, in wrapper\n",
        "    res = func(self, *args, **keyArgs)\n",
        "  File \"/renoir_data_00/jpreyes/stacks/v9_2_copy/Linux64/pipe_tasks/9.2/python/lsst/pipe/tasks/astrometry.py\", line 320, in astrometry\n",
        "    astrom = self.astrometer.determineWcs(sources, exposure, **kwargs)\n",
        "  File \"/renoir_data_00/jpreyes/stacks/v9_2_copy/Linux64/meas_astrom/9.2/python/lsst/meas/astrom/astrom.py\", line 405, in determineWcs\n",
        "    return self.determineWcs2(sources, **margs)\n",
        "  File \"/renoir_data_00/jpreyes/stacks/v9_2_copy/Linux64/meas_astrom/9.2/python/lsst/meas/astrom/astrom.py\", line 434, in determineWcs2\n",
        "    astrom = self.useKnownWcs(sources, wcs=wcs, **kw)\n",
        "  File \"/renoir_data_00/jpreyes/stacks/v9_2_copy/Linux64/meas_astrom/9.2/python/lsst/meas/astrom/astrom.py\", line 303, in useKnownWcs\n",
        "    cat = self.getReferenceSourcesForWcs(wcs, imageSize, filterName, pixelMargin, x0=x0, y0=y0)\n",
        "  File \"/renoir_data_00/jpreyes/stacks/v9_2_copy/Linux64/meas_astrom/9.2/python/lsst/meas/astrom/astrom.py\", line 806, in getReferenceSourcesForWcs\n",
        "    cat = self.getReferenceSources(ra, dec, rad, filterName)\n",
        "  File \"/renoir_data_00/jpreyes/stacks/v9_2_copy/Linux64/meas_astrom/9.2/python/lsst/meas/astrom/astrom.py\", line 886, in getReferenceSources\n",
        "    + margs + (sgCol, varCol)))\n",
        "  File \"/renoir_data_00/jpreyes/stacks/v9_2_copy/Linux64/meas_astrom/9.2/python/lsst/meas/astrom/astrometry_net.py\", line 1191, in getCatalog\n",
        "    return _astrometry_net.solver_t_getCatalog(self, *args)\n",
        "NotFoundError: \n",
        "  File \"python/lsst/meas/astrom/utils.cc\", line 178, in lsst::afw::table::SimpleCatalog lsst::meas::astrom::detail::getCatalogImpl(std::vector<index_t*, std::allocator<index_t*> >, double, double, double, const char*, const std::vector<lsst::meas::astrom::detail::mag_column_t, std::allocator<lsst::meas::astrom::detail::mag_column_t> >&, const char*, const char*, bool)\n",
        "    astrometry_net_data index file /renoir_data_00/jpreyes/stacks/v9_2_copy/Linux64/astrometry_net_data/8.0.0.0+7/CFHT/templ-D3.index.fits does not contain a tag-along table, so can't retrieve extra columns.  idcol=id, stargalcol=starnotgal, varcol=, mag columns=[ name='flux', mag='r', magerr='r_err', name='i', mag='i', magerr='i_err', name='r', mag='r', magerr='r_err', name='u', mag='u', magerr='u_err', name='z', mag='z', magerr='z_err', name='g', mag='g', magerr='g_err' ].  You may need to edit the $ASTROMETRY_NET_DATA_DIR/andConfig.py file to set idColumn=None, etc. {0}\n",
        "lsst::pex::exceptions::NotFoundError: 'astrometry_net_data index file /renoir_data_00/jpreyes/stacks/v9_2_copy/Linux64/astrometry_net_data/8.0.0.0+7/CFHT/templ-D3.index.fits does not contain a tag-along table, so can't retrieve extra columns.  idcol=id, stargalcol=starnotgal, varcol=, mag columns=[ name='flux', mag='r', magerr='r_err', name='i', mag='i', magerr='i_err', name='r', mag='r', magerr='r_err', name='u', mag='u', magerr='u_err', name='z', mag='z', magerr='z_err', name='g', mag='g', magerr='g_err' ].  You may need to edit the $ASTROMETRY_NET_DATA_DIR/andConfig.py file to set idColumn=None, etc.'\n",
        "\n",
        "Traceback (most recent call last):\n"
       ]
      },
      {
       "output_type": "stream",
       "stream": "stdout",
       "text": [
        "\n",
        "probando, probando"
       ]
      },
      {
       "output_type": "stream",
       "stream": "stdout",
       "text": [
        "\n",
        "This is the processCCD"
       ]
      },
      {
       "output_type": "stream",
       "stream": "stderr",
       "text": [
        "  File \"/renoir_data_00/jpreyes/stacks/v9_2_copy/Linux64/pipe_base/9.2/python/lsst/pipe/base/cmdLineTask.py\", line 322, in __call__\n",
        "    result = task.run(dataRef, **kwargs)\n",
        "  File \"/renoir_data_00/jpreyes/stacks/v9_2_copy/Linux64/pipe_base/9.2/python/lsst/pipe/base/timer.py\", line 118, in wrapper\n",
        "    res = func(self, *args, **keyArgs)\n",
        "  File \"/renoir_data_00/jpreyes/stacks/v9_2_copy/Linux64/pipe_tasks/9.2/python/lsst/pipe/tasks/processCcd.py\", line 84, in run\n",
        "    result = self.process(sensorRef, postIsrExposure)\n",
        "  File \"/renoir_data_00/jpreyes/stacks/v9_2_copy/Linux64/pipe_base/9.2/python/lsst/pipe/base/timer.py\", line 118, in wrapper\n",
        "    res = func(self, *args, **keyArgs)\n",
        "  File \"/renoir_data_00/jpreyes/stacks/v9_2_copy/Linux64/pipe_tasks/9.2/python/lsst/pipe/tasks/processImage.py\", line 154, in process\n",
        "    calib = self.calibrate.run(inputExposure, idFactory=idFactory)\n",
        "  File \"/renoir_data_00/jpreyes/stacks/v9_2_copy/Linux64/pipe_base/9.2/python/lsst/pipe/base/timer.py\", line 118, in wrapper\n",
        "    res = func(self, *args, **keyArgs)\n",
        "  File \"/renoir_data_00/jpreyes/stacks/v9_2_copy/Linux64/pipe_tasks/9.2/python/lsst/pipe/tasks/calibrate.py\", line 431, in run\n",
        "    astromRet = self.astrometry.run(exposure, sources1)\n",
        "  File \"/renoir_data_00/jpreyes/stacks/v9_2_copy/Linux64/pipe_base/9.2/python/lsst/pipe/base/timer.py\", line 118, in wrapper\n",
        "    res = func(self, *args, **keyArgs)\n",
        "  File \"/renoir_data_00/jpreyes/stacks/v9_2_copy/Linux64/pipe_tasks/9.2/python/lsst/pipe/tasks/astrometry.py\", line 203, in run\n",
        "    results = self.astrometry(exposure, sources, bbox=bbox)\n",
        "  File \"/renoir_data_00/jpreyes/stacks/v9_2_copy/Linux64/pipe_base/9.2/python/lsst/pipe/base/timer.py\", line 118, in wrapper\n",
        "    res = func(self, *args, **keyArgs)\n",
        "  File \"/renoir_data_00/jpreyes/stacks/v9_2_copy/Linux64/pipe_tasks/9.2/python/lsst/pipe/tasks/astrometry.py\", line 320, in astrometry\n",
        "    astrom = self.astrometer.determineWcs(sources, exposure, **kwargs)\n",
        "  File \"/renoir_data_00/jpreyes/stacks/v9_2_copy/Linux64/meas_astrom/9.2/python/lsst/meas/astrom/astrom.py\", line 405, in determineWcs\n",
        "    return self.determineWcs2(sources, **margs)\n",
        "  File \"/renoir_data_00/jpreyes/stacks/v9_2_copy/Linux64/meas_astrom/9.2/python/lsst/meas/astrom/astrom.py\", line 434, in determineWcs2\n",
        "    astrom = self.useKnownWcs(sources, wcs=wcs, **kw)\n",
        "  File \"/renoir_data_00/jpreyes/stacks/v9_2_copy/Linux64/meas_astrom/9.2/python/lsst/meas/astrom/astrom.py\", line 303, in useKnownWcs\n",
        "    cat = self.getReferenceSourcesForWcs(wcs, imageSize, filterName, pixelMargin, x0=x0, y0=y0)\n",
        "  File \"/renoir_data_00/jpreyes/stacks/v9_2_copy/Linux64/meas_astrom/9.2/python/lsst/meas/astrom/astrom.py\", line 806, in getReferenceSourcesForWcs\n",
        "    cat = self.getReferenceSources(ra, dec, rad, filterName)\n",
        "  File \"/renoir_data_00/jpreyes/stacks/v9_2_copy/Linux64/meas_astrom/9.2/python/lsst/meas/astrom/astrom.py\", line 886, in getReferenceSources\n",
        "    + margs + (sgCol, varCol)))\n",
        "  File \"/renoir_data_00/jpreyes/stacks/v9_2_copy/Linux64/meas_astrom/9.2/python/lsst/meas/astrom/astrometry_net.py\", line 1191, in getCatalog\n",
        "    return _astrometry_net.solver_t_getCatalog(self, *args)\n",
        "NotFoundError: \n",
        "  File \"python/lsst/meas/astrom/utils.cc\", line 178, in lsst::afw::table::SimpleCatalog lsst::meas::astrom::detail::getCatalogImpl(std::vector<index_t*, std::allocator<index_t*> >, double, double, double, const char*, const std::vector<lsst::meas::astrom::detail::mag_column_t, std::allocator<lsst::meas::astrom::detail::mag_column_t> >&, const char*, const char*, bool)\n",
        "    astrometry_net_data index file /renoir_data_00/jpreyes/stacks/v9_2_copy/Linux64/astrometry_net_data/8.0.0.0+7/CFHT/templ-D3.index.fits does not contain a tag-along table, so can't retrieve extra columns.  idcol=id, stargalcol=starnotgal, varcol=, mag columns=[ name='flux', mag='r', magerr='r_err', name='i', mag='i', magerr='i_err', name='r', mag='r', magerr='r_err', name='u', mag='u', magerr='u_err', name='z', mag='z', magerr='z_err', name='g', mag='g', magerr='g_err' ].  You may need to edit the $ASTROMETRY_NET_DATA_DIR/andConfig.py file to set idColumn=None, etc. {0}\n",
        "lsst::pex::exceptions::NotFoundError: 'astrometry_net_data index file /renoir_data_00/jpreyes/stacks/v9_2_copy/Linux64/astrometry_net_data/8.0.0.0+7/CFHT/templ-D3.index.fits does not contain a tag-along table, so can't retrieve extra columns.  idcol=id, stargalcol=starnotgal, varcol=, mag columns=[ name='flux', mag='r', magerr='r_err', name='i', mag='i', magerr='i_err', name='r', mag='r', magerr='r_err', name='u', mag='u', magerr='u_err', name='z', mag='z', magerr='z_err', name='g', mag='g', magerr='g_err' ].  You may need to edit the $ASTROMETRY_NET_DATA_DIR/andConfig.py file to set idColumn=None, etc.'\n",
        "\n",
        "Traceback (most recent call last):\n"
       ]
      },
      {
       "output_type": "stream",
       "stream": "stdout",
       "text": [
        "\n",
        "probando, probando"
       ]
      },
      {
       "output_type": "stream",
       "stream": "stdout",
       "text": [
        "\n",
        "This is the processCCD"
       ]
      },
      {
       "output_type": "stream",
       "stream": "stderr",
       "text": [
        "  File \"/renoir_data_00/jpreyes/stacks/v9_2_copy/Linux64/pipe_base/9.2/python/lsst/pipe/base/cmdLineTask.py\", line 322, in __call__\n",
        "    result = task.run(dataRef, **kwargs)\n",
        "  File \"/renoir_data_00/jpreyes/stacks/v9_2_copy/Linux64/pipe_base/9.2/python/lsst/pipe/base/timer.py\", line 118, in wrapper\n",
        "    res = func(self, *args, **keyArgs)\n",
        "  File \"/renoir_data_00/jpreyes/stacks/v9_2_copy/Linux64/pipe_tasks/9.2/python/lsst/pipe/tasks/processCcd.py\", line 84, in run\n",
        "    result = self.process(sensorRef, postIsrExposure)\n",
        "  File \"/renoir_data_00/jpreyes/stacks/v9_2_copy/Linux64/pipe_base/9.2/python/lsst/pipe/base/timer.py\", line 118, in wrapper\n",
        "    res = func(self, *args, **keyArgs)\n",
        "  File \"/renoir_data_00/jpreyes/stacks/v9_2_copy/Linux64/pipe_tasks/9.2/python/lsst/pipe/tasks/processImage.py\", line 154, in process\n",
        "    calib = self.calibrate.run(inputExposure, idFactory=idFactory)\n",
        "  File \"/renoir_data_00/jpreyes/stacks/v9_2_copy/Linux64/pipe_base/9.2/python/lsst/pipe/base/timer.py\", line 118, in wrapper\n",
        "    res = func(self, *args, **keyArgs)\n",
        "  File \"/renoir_data_00/jpreyes/stacks/v9_2_copy/Linux64/pipe_tasks/9.2/python/lsst/pipe/tasks/calibrate.py\", line 431, in run\n",
        "    astromRet = self.astrometry.run(exposure, sources1)\n",
        "  File \"/renoir_data_00/jpreyes/stacks/v9_2_copy/Linux64/pipe_base/9.2/python/lsst/pipe/base/timer.py\", line 118, in wrapper\n",
        "    res = func(self, *args, **keyArgs)\n",
        "  File \"/renoir_data_00/jpreyes/stacks/v9_2_copy/Linux64/pipe_tasks/9.2/python/lsst/pipe/tasks/astrometry.py\", line 203, in run\n",
        "    results = self.astrometry(exposure, sources, bbox=bbox)\n",
        "  File \"/renoir_data_00/jpreyes/stacks/v9_2_copy/Linux64/pipe_base/9.2/python/lsst/pipe/base/timer.py\", line 118, in wrapper\n",
        "    res = func(self, *args, **keyArgs)\n",
        "  File \"/renoir_data_00/jpreyes/stacks/v9_2_copy/Linux64/pipe_tasks/9.2/python/lsst/pipe/tasks/astrometry.py\", line 320, in astrometry\n",
        "    astrom = self.astrometer.determineWcs(sources, exposure, **kwargs)\n",
        "  File \"/renoir_data_00/jpreyes/stacks/v9_2_copy/Linux64/meas_astrom/9.2/python/lsst/meas/astrom/astrom.py\", line 405, in determineWcs\n",
        "    return self.determineWcs2(sources, **margs)\n",
        "  File \"/renoir_data_00/jpreyes/stacks/v9_2_copy/Linux64/meas_astrom/9.2/python/lsst/meas/astrom/astrom.py\", line 434, in determineWcs2\n",
        "    astrom = self.useKnownWcs(sources, wcs=wcs, **kw)\n",
        "  File \"/renoir_data_00/jpreyes/stacks/v9_2_copy/Linux64/meas_astrom/9.2/python/lsst/meas/astrom/astrom.py\", line 303, in useKnownWcs\n",
        "    cat = self.getReferenceSourcesForWcs(wcs, imageSize, filterName, pixelMargin, x0=x0, y0=y0)\n",
        "  File \"/renoir_data_00/jpreyes/stacks/v9_2_copy/Linux64/meas_astrom/9.2/python/lsst/meas/astrom/astrom.py\", line 806, in getReferenceSourcesForWcs\n",
        "    cat = self.getReferenceSources(ra, dec, rad, filterName)\n",
        "  File \"/renoir_data_00/jpreyes/stacks/v9_2_copy/Linux64/meas_astrom/9.2/python/lsst/meas/astrom/astrom.py\", line 886, in getReferenceSources\n",
        "    + margs + (sgCol, varCol)))\n",
        "  File \"/renoir_data_00/jpreyes/stacks/v9_2_copy/Linux64/meas_astrom/9.2/python/lsst/meas/astrom/astrometry_net.py\", line 1191, in getCatalog\n",
        "    return _astrometry_net.solver_t_getCatalog(self, *args)\n",
        "NotFoundError: \n",
        "  File \"python/lsst/meas/astrom/utils.cc\", line 178, in lsst::afw::table::SimpleCatalog lsst::meas::astrom::detail::getCatalogImpl(std::vector<index_t*, std::allocator<index_t*> >, double, double, double, const char*, const std::vector<lsst::meas::astrom::detail::mag_column_t, std::allocator<lsst::meas::astrom::detail::mag_column_t> >&, const char*, const char*, bool)\n",
        "    astrometry_net_data index file /renoir_data_00/jpreyes/stacks/v9_2_copy/Linux64/astrometry_net_data/8.0.0.0+7/CFHT/templ-D3.index.fits does not contain a tag-along table, so can't retrieve extra columns.  idcol=id, stargalcol=starnotgal, varcol=, mag columns=[ name='flux', mag='r', magerr='r_err', name='i', mag='i', magerr='i_err', name='r', mag='r', magerr='r_err', name='u', mag='u', magerr='u_err', name='z', mag='z', magerr='z_err', name='g', mag='g', magerr='g_err' ].  You may need to edit the $ASTROMETRY_NET_DATA_DIR/andConfig.py file to set idColumn=None, etc. {0}\n",
        "lsst::pex::exceptions::NotFoundError: 'astrometry_net_data index file /renoir_data_00/jpreyes/stacks/v9_2_copy/Linux64/astrometry_net_data/8.0.0.0+7/CFHT/templ-D3.index.fits does not contain a tag-along table, so can't retrieve extra columns.  idcol=id, stargalcol=starnotgal, varcol=, mag columns=[ name='flux', mag='r', magerr='r_err', name='i', mag='i', magerr='i_err', name='r', mag='r', magerr='r_err', name='u', mag='u', magerr='u_err', name='z', mag='z', magerr='z_err', name='g', mag='g', magerr='g_err' ].  You may need to edit the $ASTROMETRY_NET_DATA_DIR/andConfig.py file to set idColumn=None, etc.'\n",
        "\n",
        "Traceback (most recent call last):\n"
       ]
      },
      {
       "output_type": "stream",
       "stream": "stdout",
       "text": [
        "\n",
        "probando, probando"
       ]
      },
      {
       "output_type": "stream",
       "stream": "stdout",
       "text": [
        "\n",
        "This is the processCCD"
       ]
      },
      {
       "output_type": "stream",
       "stream": "stderr",
       "text": [
        "  File \"/renoir_data_00/jpreyes/stacks/v9_2_copy/Linux64/pipe_base/9.2/python/lsst/pipe/base/cmdLineTask.py\", line 322, in __call__\n",
        "    result = task.run(dataRef, **kwargs)\n",
        "  File \"/renoir_data_00/jpreyes/stacks/v9_2_copy/Linux64/pipe_base/9.2/python/lsst/pipe/base/timer.py\", line 118, in wrapper\n",
        "    res = func(self, *args, **keyArgs)\n",
        "  File \"/renoir_data_00/jpreyes/stacks/v9_2_copy/Linux64/pipe_tasks/9.2/python/lsst/pipe/tasks/processCcd.py\", line 84, in run\n",
        "    result = self.process(sensorRef, postIsrExposure)\n",
        "  File \"/renoir_data_00/jpreyes/stacks/v9_2_copy/Linux64/pipe_base/9.2/python/lsst/pipe/base/timer.py\", line 118, in wrapper\n",
        "    res = func(self, *args, **keyArgs)\n",
        "  File \"/renoir_data_00/jpreyes/stacks/v9_2_copy/Linux64/pipe_tasks/9.2/python/lsst/pipe/tasks/processImage.py\", line 154, in process\n",
        "    calib = self.calibrate.run(inputExposure, idFactory=idFactory)\n",
        "  File \"/renoir_data_00/jpreyes/stacks/v9_2_copy/Linux64/pipe_base/9.2/python/lsst/pipe/base/timer.py\", line 118, in wrapper\n",
        "    res = func(self, *args, **keyArgs)\n",
        "  File \"/renoir_data_00/jpreyes/stacks/v9_2_copy/Linux64/pipe_tasks/9.2/python/lsst/pipe/tasks/calibrate.py\", line 431, in run\n",
        "    astromRet = self.astrometry.run(exposure, sources1)\n",
        "  File \"/renoir_data_00/jpreyes/stacks/v9_2_copy/Linux64/pipe_base/9.2/python/lsst/pipe/base/timer.py\", line 118, in wrapper\n",
        "    res = func(self, *args, **keyArgs)\n",
        "  File \"/renoir_data_00/jpreyes/stacks/v9_2_copy/Linux64/pipe_tasks/9.2/python/lsst/pipe/tasks/astrometry.py\", line 203, in run\n",
        "    results = self.astrometry(exposure, sources, bbox=bbox)\n",
        "  File \"/renoir_data_00/jpreyes/stacks/v9_2_copy/Linux64/pipe_base/9.2/python/lsst/pipe/base/timer.py\", line 118, in wrapper\n",
        "    res = func(self, *args, **keyArgs)\n",
        "  File \"/renoir_data_00/jpreyes/stacks/v9_2_copy/Linux64/pipe_tasks/9.2/python/lsst/pipe/tasks/astrometry.py\", line 320, in astrometry\n",
        "    astrom = self.astrometer.determineWcs(sources, exposure, **kwargs)\n",
        "  File \"/renoir_data_00/jpreyes/stacks/v9_2_copy/Linux64/meas_astrom/9.2/python/lsst/meas/astrom/astrom.py\", line 405, in determineWcs\n",
        "    return self.determineWcs2(sources, **margs)\n",
        "  File \"/renoir_data_00/jpreyes/stacks/v9_2_copy/Linux64/meas_astrom/9.2/python/lsst/meas/astrom/astrom.py\", line 434, in determineWcs2\n",
        "    astrom = self.useKnownWcs(sources, wcs=wcs, **kw)\n",
        "  File \"/renoir_data_00/jpreyes/stacks/v9_2_copy/Linux64/meas_astrom/9.2/python/lsst/meas/astrom/astrom.py\", line 303, in useKnownWcs\n",
        "    cat = self.getReferenceSourcesForWcs(wcs, imageSize, filterName, pixelMargin, x0=x0, y0=y0)\n",
        "  File \"/renoir_data_00/jpreyes/stacks/v9_2_copy/Linux64/meas_astrom/9.2/python/lsst/meas/astrom/astrom.py\", line 806, in getReferenceSourcesForWcs\n",
        "    cat = self.getReferenceSources(ra, dec, rad, filterName)\n",
        "  File \"/renoir_data_00/jpreyes/stacks/v9_2_copy/Linux64/meas_astrom/9.2/python/lsst/meas/astrom/astrom.py\", line 886, in getReferenceSources\n",
        "    + margs + (sgCol, varCol)))\n",
        "  File \"/renoir_data_00/jpreyes/stacks/v9_2_copy/Linux64/meas_astrom/9.2/python/lsst/meas/astrom/astrometry_net.py\", line 1191, in getCatalog\n",
        "    return _astrometry_net.solver_t_getCatalog(self, *args)\n",
        "NotFoundError: \n",
        "  File \"python/lsst/meas/astrom/utils.cc\", line 178, in lsst::afw::table::SimpleCatalog lsst::meas::astrom::detail::getCatalogImpl(std::vector<index_t*, std::allocator<index_t*> >, double, double, double, const char*, const std::vector<lsst::meas::astrom::detail::mag_column_t, std::allocator<lsst::meas::astrom::detail::mag_column_t> >&, const char*, const char*, bool)\n",
        "    astrometry_net_data index file /renoir_data_00/jpreyes/stacks/v9_2_copy/Linux64/astrometry_net_data/8.0.0.0+7/CFHT/templ-D3.index.fits does not contain a tag-along table, so can't retrieve extra columns.  idcol=id, stargalcol=starnotgal, varcol=, mag columns=[ name='flux', mag='r', magerr='r_err', name='i', mag='i', magerr='i_err', name='r', mag='r', magerr='r_err', name='u', mag='u', magerr='u_err', name='z', mag='z', magerr='z_err', name='g', mag='g', magerr='g_err' ].  You may need to edit the $ASTROMETRY_NET_DATA_DIR/andConfig.py file to set idColumn=None, etc. {0}\n",
        "lsst::pex::exceptions::NotFoundError: 'astrometry_net_data index file /renoir_data_00/jpreyes/stacks/v9_2_copy/Linux64/astrometry_net_data/8.0.0.0+7/CFHT/templ-D3.index.fits does not contain a tag-along table, so can't retrieve extra columns.  idcol=id, stargalcol=starnotgal, varcol=, mag columns=[ name='flux', mag='r', magerr='r_err', name='i', mag='i', magerr='i_err', name='r', mag='r', magerr='r_err', name='u', mag='u', magerr='u_err', name='z', mag='z', magerr='z_err', name='g', mag='g', magerr='g_err' ].  You may need to edit the $ASTROMETRY_NET_DATA_DIR/andConfig.py file to set idColumn=None, etc.'\n",
        "\n",
        "Traceback (most recent call last):\n"
       ]
      },
      {
       "output_type": "stream",
       "stream": "stdout",
       "text": [
        "\n",
        "probando, probando"
       ]
      },
      {
       "output_type": "stream",
       "stream": "stdout",
       "text": [
        "\n",
        "This is the processCCD"
       ]
      },
      {
       "output_type": "stream",
       "stream": "stderr",
       "text": [
        "  File \"/renoir_data_00/jpreyes/stacks/v9_2_copy/Linux64/pipe_base/9.2/python/lsst/pipe/base/cmdLineTask.py\", line 322, in __call__\n",
        "    result = task.run(dataRef, **kwargs)\n",
        "  File \"/renoir_data_00/jpreyes/stacks/v9_2_copy/Linux64/pipe_base/9.2/python/lsst/pipe/base/timer.py\", line 118, in wrapper\n",
        "    res = func(self, *args, **keyArgs)\n",
        "  File \"/renoir_data_00/jpreyes/stacks/v9_2_copy/Linux64/pipe_tasks/9.2/python/lsst/pipe/tasks/processCcd.py\", line 84, in run\n",
        "    result = self.process(sensorRef, postIsrExposure)\n",
        "  File \"/renoir_data_00/jpreyes/stacks/v9_2_copy/Linux64/pipe_base/9.2/python/lsst/pipe/base/timer.py\", line 118, in wrapper\n",
        "    res = func(self, *args, **keyArgs)\n",
        "  File \"/renoir_data_00/jpreyes/stacks/v9_2_copy/Linux64/pipe_tasks/9.2/python/lsst/pipe/tasks/processImage.py\", line 154, in process\n",
        "    calib = self.calibrate.run(inputExposure, idFactory=idFactory)\n",
        "  File \"/renoir_data_00/jpreyes/stacks/v9_2_copy/Linux64/pipe_base/9.2/python/lsst/pipe/base/timer.py\", line 118, in wrapper\n",
        "    res = func(self, *args, **keyArgs)\n",
        "  File \"/renoir_data_00/jpreyes/stacks/v9_2_copy/Linux64/pipe_tasks/9.2/python/lsst/pipe/tasks/calibrate.py\", line 431, in run\n",
        "    astromRet = self.astrometry.run(exposure, sources1)\n",
        "  File \"/renoir_data_00/jpreyes/stacks/v9_2_copy/Linux64/pipe_base/9.2/python/lsst/pipe/base/timer.py\", line 118, in wrapper\n",
        "    res = func(self, *args, **keyArgs)\n",
        "  File \"/renoir_data_00/jpreyes/stacks/v9_2_copy/Linux64/pipe_tasks/9.2/python/lsst/pipe/tasks/astrometry.py\", line 203, in run\n",
        "    results = self.astrometry(exposure, sources, bbox=bbox)\n",
        "  File \"/renoir_data_00/jpreyes/stacks/v9_2_copy/Linux64/pipe_base/9.2/python/lsst/pipe/base/timer.py\", line 118, in wrapper\n",
        "    res = func(self, *args, **keyArgs)\n",
        "  File \"/renoir_data_00/jpreyes/stacks/v9_2_copy/Linux64/pipe_tasks/9.2/python/lsst/pipe/tasks/astrometry.py\", line 320, in astrometry\n",
        "    astrom = self.astrometer.determineWcs(sources, exposure, **kwargs)\n",
        "  File \"/renoir_data_00/jpreyes/stacks/v9_2_copy/Linux64/meas_astrom/9.2/python/lsst/meas/astrom/astrom.py\", line 405, in determineWcs\n",
        "    return self.determineWcs2(sources, **margs)\n",
        "  File \"/renoir_data_00/jpreyes/stacks/v9_2_copy/Linux64/meas_astrom/9.2/python/lsst/meas/astrom/astrom.py\", line 434, in determineWcs2\n",
        "    astrom = self.useKnownWcs(sources, wcs=wcs, **kw)\n",
        "  File \"/renoir_data_00/jpreyes/stacks/v9_2_copy/Linux64/meas_astrom/9.2/python/lsst/meas/astrom/astrom.py\", line 303, in useKnownWcs\n",
        "    cat = self.getReferenceSourcesForWcs(wcs, imageSize, filterName, pixelMargin, x0=x0, y0=y0)\n",
        "  File \"/renoir_data_00/jpreyes/stacks/v9_2_copy/Linux64/meas_astrom/9.2/python/lsst/meas/astrom/astrom.py\", line 806, in getReferenceSourcesForWcs\n",
        "    cat = self.getReferenceSources(ra, dec, rad, filterName)\n",
        "  File \"/renoir_data_00/jpreyes/stacks/v9_2_copy/Linux64/meas_astrom/9.2/python/lsst/meas/astrom/astrom.py\", line 886, in getReferenceSources\n",
        "    + margs + (sgCol, varCol)))\n",
        "  File \"/renoir_data_00/jpreyes/stacks/v9_2_copy/Linux64/meas_astrom/9.2/python/lsst/meas/astrom/astrometry_net.py\", line 1191, in getCatalog\n",
        "    return _astrometry_net.solver_t_getCatalog(self, *args)\n",
        "NotFoundError: \n",
        "  File \"python/lsst/meas/astrom/utils.cc\", line 178, in lsst::afw::table::SimpleCatalog lsst::meas::astrom::detail::getCatalogImpl(std::vector<index_t*, std::allocator<index_t*> >, double, double, double, const char*, const std::vector<lsst::meas::astrom::detail::mag_column_t, std::allocator<lsst::meas::astrom::detail::mag_column_t> >&, const char*, const char*, bool)\n",
        "    astrometry_net_data index file /renoir_data_00/jpreyes/stacks/v9_2_copy/Linux64/astrometry_net_data/8.0.0.0+7/CFHT/templ-D3.index.fits does not contain a tag-along table, so can't retrieve extra columns.  idcol=id, stargalcol=starnotgal, varcol=, mag columns=[ name='flux', mag='r', magerr='r_err', name='i', mag='i', magerr='i_err', name='r', mag='r', magerr='r_err', name='u', mag='u', magerr='u_err', name='z', mag='z', magerr='z_err', name='g', mag='g', magerr='g_err' ].  You may need to edit the $ASTROMETRY_NET_DATA_DIR/andConfig.py file to set idColumn=None, etc. {0}\n",
        "lsst::pex::exceptions::NotFoundError: 'astrometry_net_data index file /renoir_data_00/jpreyes/stacks/v9_2_copy/Linux64/astrometry_net_data/8.0.0.0+7/CFHT/templ-D3.index.fits does not contain a tag-along table, so can't retrieve extra columns.  idcol=id, stargalcol=starnotgal, varcol=, mag columns=[ name='flux', mag='r', magerr='r_err', name='i', mag='i', magerr='i_err', name='r', mag='r', magerr='r_err', name='u', mag='u', magerr='u_err', name='z', mag='z', magerr='z_err', name='g', mag='g', magerr='g_err' ].  You may need to edit the $ASTROMETRY_NET_DATA_DIR/andConfig.py file to set idColumn=None, etc.'\n",
        "\n",
        "Traceback (most recent call last):\n"
       ]
      },
      {
       "output_type": "stream",
       "stream": "stdout",
       "text": [
        "\n",
        "probando, probando"
       ]
      },
      {
       "output_type": "stream",
       "stream": "stdout",
       "text": [
        "\n",
        "This is the processCCD"
       ]
      },
      {
       "output_type": "stream",
       "stream": "stderr",
       "text": [
        "  File \"/renoir_data_00/jpreyes/stacks/v9_2_copy/Linux64/pipe_base/9.2/python/lsst/pipe/base/cmdLineTask.py\", line 322, in __call__\n",
        "    result = task.run(dataRef, **kwargs)\n",
        "  File \"/renoir_data_00/jpreyes/stacks/v9_2_copy/Linux64/pipe_base/9.2/python/lsst/pipe/base/timer.py\", line 118, in wrapper\n",
        "    res = func(self, *args, **keyArgs)\n",
        "  File \"/renoir_data_00/jpreyes/stacks/v9_2_copy/Linux64/pipe_tasks/9.2/python/lsst/pipe/tasks/processCcd.py\", line 84, in run\n",
        "    result = self.process(sensorRef, postIsrExposure)\n",
        "  File \"/renoir_data_00/jpreyes/stacks/v9_2_copy/Linux64/pipe_base/9.2/python/lsst/pipe/base/timer.py\", line 118, in wrapper\n",
        "    res = func(self, *args, **keyArgs)\n",
        "  File \"/renoir_data_00/jpreyes/stacks/v9_2_copy/Linux64/pipe_tasks/9.2/python/lsst/pipe/tasks/processImage.py\", line 154, in process\n",
        "    calib = self.calibrate.run(inputExposure, idFactory=idFactory)\n",
        "  File \"/renoir_data_00/jpreyes/stacks/v9_2_copy/Linux64/pipe_base/9.2/python/lsst/pipe/base/timer.py\", line 118, in wrapper\n",
        "    res = func(self, *args, **keyArgs)\n",
        "  File \"/renoir_data_00/jpreyes/stacks/v9_2_copy/Linux64/pipe_tasks/9.2/python/lsst/pipe/tasks/calibrate.py\", line 431, in run\n",
        "    astromRet = self.astrometry.run(exposure, sources1)\n",
        "  File \"/renoir_data_00/jpreyes/stacks/v9_2_copy/Linux64/pipe_base/9.2/python/lsst/pipe/base/timer.py\", line 118, in wrapper\n",
        "    res = func(self, *args, **keyArgs)\n",
        "  File \"/renoir_data_00/jpreyes/stacks/v9_2_copy/Linux64/pipe_tasks/9.2/python/lsst/pipe/tasks/astrometry.py\", line 203, in run\n",
        "    results = self.astrometry(exposure, sources, bbox=bbox)\n",
        "  File \"/renoir_data_00/jpreyes/stacks/v9_2_copy/Linux64/pipe_base/9.2/python/lsst/pipe/base/timer.py\", line 118, in wrapper\n",
        "    res = func(self, *args, **keyArgs)\n",
        "  File \"/renoir_data_00/jpreyes/stacks/v9_2_copy/Linux64/pipe_tasks/9.2/python/lsst/pipe/tasks/astrometry.py\", line 320, in astrometry\n",
        "    astrom = self.astrometer.determineWcs(sources, exposure, **kwargs)\n",
        "  File \"/renoir_data_00/jpreyes/stacks/v9_2_copy/Linux64/meas_astrom/9.2/python/lsst/meas/astrom/astrom.py\", line 405, in determineWcs\n",
        "    return self.determineWcs2(sources, **margs)\n",
        "  File \"/renoir_data_00/jpreyes/stacks/v9_2_copy/Linux64/meas_astrom/9.2/python/lsst/meas/astrom/astrom.py\", line 434, in determineWcs2\n",
        "    astrom = self.useKnownWcs(sources, wcs=wcs, **kw)\n",
        "  File \"/renoir_data_00/jpreyes/stacks/v9_2_copy/Linux64/meas_astrom/9.2/python/lsst/meas/astrom/astrom.py\", line 303, in useKnownWcs\n",
        "    cat = self.getReferenceSourcesForWcs(wcs, imageSize, filterName, pixelMargin, x0=x0, y0=y0)\n",
        "  File \"/renoir_data_00/jpreyes/stacks/v9_2_copy/Linux64/meas_astrom/9.2/python/lsst/meas/astrom/astrom.py\", line 806, in getReferenceSourcesForWcs\n",
        "    cat = self.getReferenceSources(ra, dec, rad, filterName)\n",
        "  File \"/renoir_data_00/jpreyes/stacks/v9_2_copy/Linux64/meas_astrom/9.2/python/lsst/meas/astrom/astrom.py\", line 886, in getReferenceSources\n",
        "    + margs + (sgCol, varCol)))\n",
        "  File \"/renoir_data_00/jpreyes/stacks/v9_2_copy/Linux64/meas_astrom/9.2/python/lsst/meas/astrom/astrometry_net.py\", line 1191, in getCatalog\n",
        "    return _astrometry_net.solver_t_getCatalog(self, *args)\n",
        "NotFoundError: \n",
        "  File \"python/lsst/meas/astrom/utils.cc\", line 178, in lsst::afw::table::SimpleCatalog lsst::meas::astrom::detail::getCatalogImpl(std::vector<index_t*, std::allocator<index_t*> >, double, double, double, const char*, const std::vector<lsst::meas::astrom::detail::mag_column_t, std::allocator<lsst::meas::astrom::detail::mag_column_t> >&, const char*, const char*, bool)\n",
        "    astrometry_net_data index file /renoir_data_00/jpreyes/stacks/v9_2_copy/Linux64/astrometry_net_data/8.0.0.0+7/CFHT/templ-D3.index.fits does not contain a tag-along table, so can't retrieve extra columns.  idcol=id, stargalcol=starnotgal, varcol=, mag columns=[ name='flux', mag='r', magerr='r_err', name='i', mag='i', magerr='i_err', name='r', mag='r', magerr='r_err', name='u', mag='u', magerr='u_err', name='z', mag='z', magerr='z_err', name='g', mag='g', magerr='g_err' ].  You may need to edit the $ASTROMETRY_NET_DATA_DIR/andConfig.py file to set idColumn=None, etc. {0}\n",
        "lsst::pex::exceptions::NotFoundError: 'astrometry_net_data index file /renoir_data_00/jpreyes/stacks/v9_2_copy/Linux64/astrometry_net_data/8.0.0.0+7/CFHT/templ-D3.index.fits does not contain a tag-along table, so can't retrieve extra columns.  idcol=id, stargalcol=starnotgal, varcol=, mag columns=[ name='flux', mag='r', magerr='r_err', name='i', mag='i', magerr='i_err', name='r', mag='r', magerr='r_err', name='u', mag='u', magerr='u_err', name='z', mag='z', magerr='z_err', name='g', mag='g', magerr='g_err' ].  You may need to edit the $ASTROMETRY_NET_DATA_DIR/andConfig.py file to set idColumn=None, etc.'\n",
        "\n",
        "Traceback (most recent call last):\n"
       ]
      },
      {
       "output_type": "stream",
       "stream": "stdout",
       "text": [
        "\n",
        "probando, probando"
       ]
      },
      {
       "output_type": "stream",
       "stream": "stdout",
       "text": [
        "\n",
        "This is the processCCD"
       ]
      },
      {
       "output_type": "stream",
       "stream": "stderr",
       "text": [
        "  File \"/renoir_data_00/jpreyes/stacks/v9_2_copy/Linux64/pipe_base/9.2/python/lsst/pipe/base/cmdLineTask.py\", line 322, in __call__\n",
        "    result = task.run(dataRef, **kwargs)\n",
        "  File \"/renoir_data_00/jpreyes/stacks/v9_2_copy/Linux64/pipe_base/9.2/python/lsst/pipe/base/timer.py\", line 118, in wrapper\n",
        "    res = func(self, *args, **keyArgs)\n",
        "  File \"/renoir_data_00/jpreyes/stacks/v9_2_copy/Linux64/pipe_tasks/9.2/python/lsst/pipe/tasks/processCcd.py\", line 84, in run\n",
        "    result = self.process(sensorRef, postIsrExposure)\n",
        "  File \"/renoir_data_00/jpreyes/stacks/v9_2_copy/Linux64/pipe_base/9.2/python/lsst/pipe/base/timer.py\", line 118, in wrapper\n",
        "    res = func(self, *args, **keyArgs)\n",
        "  File \"/renoir_data_00/jpreyes/stacks/v9_2_copy/Linux64/pipe_tasks/9.2/python/lsst/pipe/tasks/processImage.py\", line 154, in process\n",
        "    calib = self.calibrate.run(inputExposure, idFactory=idFactory)\n",
        "  File \"/renoir_data_00/jpreyes/stacks/v9_2_copy/Linux64/pipe_base/9.2/python/lsst/pipe/base/timer.py\", line 118, in wrapper\n",
        "    res = func(self, *args, **keyArgs)\n",
        "  File \"/renoir_data_00/jpreyes/stacks/v9_2_copy/Linux64/pipe_tasks/9.2/python/lsst/pipe/tasks/calibrate.py\", line 431, in run\n",
        "    astromRet = self.astrometry.run(exposure, sources1)\n",
        "  File \"/renoir_data_00/jpreyes/stacks/v9_2_copy/Linux64/pipe_base/9.2/python/lsst/pipe/base/timer.py\", line 118, in wrapper\n",
        "    res = func(self, *args, **keyArgs)\n",
        "  File \"/renoir_data_00/jpreyes/stacks/v9_2_copy/Linux64/pipe_tasks/9.2/python/lsst/pipe/tasks/astrometry.py\", line 203, in run\n",
        "    results = self.astrometry(exposure, sources, bbox=bbox)\n",
        "  File \"/renoir_data_00/jpreyes/stacks/v9_2_copy/Linux64/pipe_base/9.2/python/lsst/pipe/base/timer.py\", line 118, in wrapper\n",
        "    res = func(self, *args, **keyArgs)\n",
        "  File \"/renoir_data_00/jpreyes/stacks/v9_2_copy/Linux64/pipe_tasks/9.2/python/lsst/pipe/tasks/astrometry.py\", line 320, in astrometry\n",
        "    astrom = self.astrometer.determineWcs(sources, exposure, **kwargs)\n",
        "  File \"/renoir_data_00/jpreyes/stacks/v9_2_copy/Linux64/meas_astrom/9.2/python/lsst/meas/astrom/astrom.py\", line 405, in determineWcs\n",
        "    return self.determineWcs2(sources, **margs)\n",
        "  File \"/renoir_data_00/jpreyes/stacks/v9_2_copy/Linux64/meas_astrom/9.2/python/lsst/meas/astrom/astrom.py\", line 434, in determineWcs2\n",
        "    astrom = self.useKnownWcs(sources, wcs=wcs, **kw)\n",
        "  File \"/renoir_data_00/jpreyes/stacks/v9_2_copy/Linux64/meas_astrom/9.2/python/lsst/meas/astrom/astrom.py\", line 303, in useKnownWcs\n",
        "    cat = self.getReferenceSourcesForWcs(wcs, imageSize, filterName, pixelMargin, x0=x0, y0=y0)\n",
        "  File \"/renoir_data_00/jpreyes/stacks/v9_2_copy/Linux64/meas_astrom/9.2/python/lsst/meas/astrom/astrom.py\", line 806, in getReferenceSourcesForWcs\n",
        "    cat = self.getReferenceSources(ra, dec, rad, filterName)\n",
        "  File \"/renoir_data_00/jpreyes/stacks/v9_2_copy/Linux64/meas_astrom/9.2/python/lsst/meas/astrom/astrom.py\", line 886, in getReferenceSources\n",
        "    + margs + (sgCol, varCol)))\n",
        "  File \"/renoir_data_00/jpreyes/stacks/v9_2_copy/Linux64/meas_astrom/9.2/python/lsst/meas/astrom/astrometry_net.py\", line 1191, in getCatalog\n",
        "    return _astrometry_net.solver_t_getCatalog(self, *args)\n",
        "NotFoundError: \n",
        "  File \"python/lsst/meas/astrom/utils.cc\", line 178, in lsst::afw::table::SimpleCatalog lsst::meas::astrom::detail::getCatalogImpl(std::vector<index_t*, std::allocator<index_t*> >, double, double, double, const char*, const std::vector<lsst::meas::astrom::detail::mag_column_t, std::allocator<lsst::meas::astrom::detail::mag_column_t> >&, const char*, const char*, bool)\n",
        "    astrometry_net_data index file /renoir_data_00/jpreyes/stacks/v9_2_copy/Linux64/astrometry_net_data/8.0.0.0+7/CFHT/templ-D3.index.fits does not contain a tag-along table, so can't retrieve extra columns.  idcol=id, stargalcol=starnotgal, varcol=, mag columns=[ name='flux', mag='r', magerr='r_err', name='i', mag='i', magerr='i_err', name='r', mag='r', magerr='r_err', name='u', mag='u', magerr='u_err', name='z', mag='z', magerr='z_err', name='g', mag='g', magerr='g_err' ].  You may need to edit the $ASTROMETRY_NET_DATA_DIR/andConfig.py file to set idColumn=None, etc. {0}\n",
        "lsst::pex::exceptions::NotFoundError: 'astrometry_net_data index file /renoir_data_00/jpreyes/stacks/v9_2_copy/Linux64/astrometry_net_data/8.0.0.0+7/CFHT/templ-D3.index.fits does not contain a tag-along table, so can't retrieve extra columns.  idcol=id, stargalcol=starnotgal, varcol=, mag columns=[ name='flux', mag='r', magerr='r_err', name='i', mag='i', magerr='i_err', name='r', mag='r', magerr='r_err', name='u', mag='u', magerr='u_err', name='z', mag='z', magerr='z_err', name='g', mag='g', magerr='g_err' ].  You may need to edit the $ASTROMETRY_NET_DATA_DIR/andConfig.py file to set idColumn=None, etc.'\n",
        "\n",
        "Traceback (most recent call last):\n"
       ]
      },
      {
       "output_type": "stream",
       "stream": "stdout",
       "text": [
        "\n",
        "probando, probando"
       ]
      },
      {
       "output_type": "stream",
       "stream": "stdout",
       "text": [
        "\n",
        "This is the processCCD"
       ]
      },
      {
       "output_type": "stream",
       "stream": "stderr",
       "text": [
        "  File \"/renoir_data_00/jpreyes/stacks/v9_2_copy/Linux64/pipe_base/9.2/python/lsst/pipe/base/cmdLineTask.py\", line 322, in __call__\n",
        "    result = task.run(dataRef, **kwargs)\n",
        "  File \"/renoir_data_00/jpreyes/stacks/v9_2_copy/Linux64/pipe_base/9.2/python/lsst/pipe/base/timer.py\", line 118, in wrapper\n",
        "    res = func(self, *args, **keyArgs)\n",
        "  File \"/renoir_data_00/jpreyes/stacks/v9_2_copy/Linux64/pipe_tasks/9.2/python/lsst/pipe/tasks/processCcd.py\", line 84, in run\n",
        "    result = self.process(sensorRef, postIsrExposure)\n",
        "  File \"/renoir_data_00/jpreyes/stacks/v9_2_copy/Linux64/pipe_base/9.2/python/lsst/pipe/base/timer.py\", line 118, in wrapper\n",
        "    res = func(self, *args, **keyArgs)\n",
        "  File \"/renoir_data_00/jpreyes/stacks/v9_2_copy/Linux64/pipe_tasks/9.2/python/lsst/pipe/tasks/processImage.py\", line 154, in process\n",
        "    calib = self.calibrate.run(inputExposure, idFactory=idFactory)\n",
        "  File \"/renoir_data_00/jpreyes/stacks/v9_2_copy/Linux64/pipe_base/9.2/python/lsst/pipe/base/timer.py\", line 118, in wrapper\n",
        "    res = func(self, *args, **keyArgs)\n",
        "  File \"/renoir_data_00/jpreyes/stacks/v9_2_copy/Linux64/pipe_tasks/9.2/python/lsst/pipe/tasks/calibrate.py\", line 431, in run\n",
        "    astromRet = self.astrometry.run(exposure, sources1)\n",
        "  File \"/renoir_data_00/jpreyes/stacks/v9_2_copy/Linux64/pipe_base/9.2/python/lsst/pipe/base/timer.py\", line 118, in wrapper\n",
        "    res = func(self, *args, **keyArgs)\n",
        "  File \"/renoir_data_00/jpreyes/stacks/v9_2_copy/Linux64/pipe_tasks/9.2/python/lsst/pipe/tasks/astrometry.py\", line 203, in run\n",
        "    results = self.astrometry(exposure, sources, bbox=bbox)\n",
        "  File \"/renoir_data_00/jpreyes/stacks/v9_2_copy/Linux64/pipe_base/9.2/python/lsst/pipe/base/timer.py\", line 118, in wrapper\n",
        "    res = func(self, *args, **keyArgs)\n",
        "  File \"/renoir_data_00/jpreyes/stacks/v9_2_copy/Linux64/pipe_tasks/9.2/python/lsst/pipe/tasks/astrometry.py\", line 320, in astrometry\n",
        "    astrom = self.astrometer.determineWcs(sources, exposure, **kwargs)\n",
        "  File \"/renoir_data_00/jpreyes/stacks/v9_2_copy/Linux64/meas_astrom/9.2/python/lsst/meas/astrom/astrom.py\", line 405, in determineWcs\n",
        "    return self.determineWcs2(sources, **margs)\n",
        "  File \"/renoir_data_00/jpreyes/stacks/v9_2_copy/Linux64/meas_astrom/9.2/python/lsst/meas/astrom/astrom.py\", line 434, in determineWcs2\n",
        "    astrom = self.useKnownWcs(sources, wcs=wcs, **kw)\n",
        "  File \"/renoir_data_00/jpreyes/stacks/v9_2_copy/Linux64/meas_astrom/9.2/python/lsst/meas/astrom/astrom.py\", line 303, in useKnownWcs\n",
        "    cat = self.getReferenceSourcesForWcs(wcs, imageSize, filterName, pixelMargin, x0=x0, y0=y0)\n",
        "  File \"/renoir_data_00/jpreyes/stacks/v9_2_copy/Linux64/meas_astrom/9.2/python/lsst/meas/astrom/astrom.py\", line 806, in getReferenceSourcesForWcs\n",
        "    cat = self.getReferenceSources(ra, dec, rad, filterName)\n",
        "  File \"/renoir_data_00/jpreyes/stacks/v9_2_copy/Linux64/meas_astrom/9.2/python/lsst/meas/astrom/astrom.py\", line 886, in getReferenceSources\n",
        "    + margs + (sgCol, varCol)))\n",
        "  File \"/renoir_data_00/jpreyes/stacks/v9_2_copy/Linux64/meas_astrom/9.2/python/lsst/meas/astrom/astrometry_net.py\", line 1191, in getCatalog\n",
        "    return _astrometry_net.solver_t_getCatalog(self, *args)\n",
        "NotFoundError: \n",
        "  File \"python/lsst/meas/astrom/utils.cc\", line 178, in lsst::afw::table::SimpleCatalog lsst::meas::astrom::detail::getCatalogImpl(std::vector<index_t*, std::allocator<index_t*> >, double, double, double, const char*, const std::vector<lsst::meas::astrom::detail::mag_column_t, std::allocator<lsst::meas::astrom::detail::mag_column_t> >&, const char*, const char*, bool)\n",
        "    astrometry_net_data index file /renoir_data_00/jpreyes/stacks/v9_2_copy/Linux64/astrometry_net_data/8.0.0.0+7/CFHT/templ-D3.index.fits does not contain a tag-along table, so can't retrieve extra columns.  idcol=id, stargalcol=starnotgal, varcol=, mag columns=[ name='flux', mag='r', magerr='r_err', name='i', mag='i', magerr='i_err', name='r', mag='r', magerr='r_err', name='u', mag='u', magerr='u_err', name='z', mag='z', magerr='z_err', name='g', mag='g', magerr='g_err' ].  You may need to edit the $ASTROMETRY_NET_DATA_DIR/andConfig.py file to set idColumn=None, etc. {0}\n",
        "lsst::pex::exceptions::NotFoundError: 'astrometry_net_data index file /renoir_data_00/jpreyes/stacks/v9_2_copy/Linux64/astrometry_net_data/8.0.0.0+7/CFHT/templ-D3.index.fits does not contain a tag-along table, so can't retrieve extra columns.  idcol=id, stargalcol=starnotgal, varcol=, mag columns=[ name='flux', mag='r', magerr='r_err', name='i', mag='i', magerr='i_err', name='r', mag='r', magerr='r_err', name='u', mag='u', magerr='u_err', name='z', mag='z', magerr='z_err', name='g', mag='g', magerr='g_err' ].  You may need to edit the $ASTROMETRY_NET_DATA_DIR/andConfig.py file to set idColumn=None, etc.'\n",
        "\n",
        "Traceback (most recent call last):\n"
       ]
      },
      {
       "output_type": "stream",
       "stream": "stdout",
       "text": [
        "\n",
        "probando, probando"
       ]
      },
      {
       "output_type": "stream",
       "stream": "stdout",
       "text": [
        "\n",
        "This is the processCCD"
       ]
      },
      {
       "output_type": "stream",
       "stream": "stderr",
       "text": [
        "  File \"/renoir_data_00/jpreyes/stacks/v9_2_copy/Linux64/pipe_base/9.2/python/lsst/pipe/base/cmdLineTask.py\", line 322, in __call__\n",
        "    result = task.run(dataRef, **kwargs)\n",
        "  File \"/renoir_data_00/jpreyes/stacks/v9_2_copy/Linux64/pipe_base/9.2/python/lsst/pipe/base/timer.py\", line 118, in wrapper\n",
        "    res = func(self, *args, **keyArgs)\n",
        "  File \"/renoir_data_00/jpreyes/stacks/v9_2_copy/Linux64/pipe_tasks/9.2/python/lsst/pipe/tasks/processCcd.py\", line 84, in run\n",
        "    result = self.process(sensorRef, postIsrExposure)\n",
        "  File \"/renoir_data_00/jpreyes/stacks/v9_2_copy/Linux64/pipe_base/9.2/python/lsst/pipe/base/timer.py\", line 118, in wrapper\n",
        "    res = func(self, *args, **keyArgs)\n",
        "  File \"/renoir_data_00/jpreyes/stacks/v9_2_copy/Linux64/pipe_tasks/9.2/python/lsst/pipe/tasks/processImage.py\", line 154, in process\n",
        "    calib = self.calibrate.run(inputExposure, idFactory=idFactory)\n",
        "  File \"/renoir_data_00/jpreyes/stacks/v9_2_copy/Linux64/pipe_base/9.2/python/lsst/pipe/base/timer.py\", line 118, in wrapper\n",
        "    res = func(self, *args, **keyArgs)\n",
        "  File \"/renoir_data_00/jpreyes/stacks/v9_2_copy/Linux64/pipe_tasks/9.2/python/lsst/pipe/tasks/calibrate.py\", line 431, in run\n",
        "    astromRet = self.astrometry.run(exposure, sources1)\n",
        "  File \"/renoir_data_00/jpreyes/stacks/v9_2_copy/Linux64/pipe_base/9.2/python/lsst/pipe/base/timer.py\", line 118, in wrapper\n",
        "    res = func(self, *args, **keyArgs)\n",
        "  File \"/renoir_data_00/jpreyes/stacks/v9_2_copy/Linux64/pipe_tasks/9.2/python/lsst/pipe/tasks/astrometry.py\", line 203, in run\n",
        "    results = self.astrometry(exposure, sources, bbox=bbox)\n",
        "  File \"/renoir_data_00/jpreyes/stacks/v9_2_copy/Linux64/pipe_base/9.2/python/lsst/pipe/base/timer.py\", line 118, in wrapper\n",
        "    res = func(self, *args, **keyArgs)\n",
        "  File \"/renoir_data_00/jpreyes/stacks/v9_2_copy/Linux64/pipe_tasks/9.2/python/lsst/pipe/tasks/astrometry.py\", line 320, in astrometry\n",
        "    astrom = self.astrometer.determineWcs(sources, exposure, **kwargs)\n",
        "  File \"/renoir_data_00/jpreyes/stacks/v9_2_copy/Linux64/meas_astrom/9.2/python/lsst/meas/astrom/astrom.py\", line 405, in determineWcs\n",
        "    return self.determineWcs2(sources, **margs)\n",
        "  File \"/renoir_data_00/jpreyes/stacks/v9_2_copy/Linux64/meas_astrom/9.2/python/lsst/meas/astrom/astrom.py\", line 434, in determineWcs2\n",
        "    astrom = self.useKnownWcs(sources, wcs=wcs, **kw)\n",
        "  File \"/renoir_data_00/jpreyes/stacks/v9_2_copy/Linux64/meas_astrom/9.2/python/lsst/meas/astrom/astrom.py\", line 303, in useKnownWcs\n",
        "    cat = self.getReferenceSourcesForWcs(wcs, imageSize, filterName, pixelMargin, x0=x0, y0=y0)\n",
        "  File \"/renoir_data_00/jpreyes/stacks/v9_2_copy/Linux64/meas_astrom/9.2/python/lsst/meas/astrom/astrom.py\", line 806, in getReferenceSourcesForWcs\n",
        "    cat = self.getReferenceSources(ra, dec, rad, filterName)\n",
        "  File \"/renoir_data_00/jpreyes/stacks/v9_2_copy/Linux64/meas_astrom/9.2/python/lsst/meas/astrom/astrom.py\", line 886, in getReferenceSources\n",
        "    + margs + (sgCol, varCol)))\n",
        "  File \"/renoir_data_00/jpreyes/stacks/v9_2_copy/Linux64/meas_astrom/9.2/python/lsst/meas/astrom/astrometry_net.py\", line 1191, in getCatalog\n",
        "    return _astrometry_net.solver_t_getCatalog(self, *args)\n",
        "NotFoundError: \n",
        "  File \"python/lsst/meas/astrom/utils.cc\", line 178, in lsst::afw::table::SimpleCatalog lsst::meas::astrom::detail::getCatalogImpl(std::vector<index_t*, std::allocator<index_t*> >, double, double, double, const char*, const std::vector<lsst::meas::astrom::detail::mag_column_t, std::allocator<lsst::meas::astrom::detail::mag_column_t> >&, const char*, const char*, bool)\n",
        "    astrometry_net_data index file /renoir_data_00/jpreyes/stacks/v9_2_copy/Linux64/astrometry_net_data/8.0.0.0+7/CFHT/templ-D3.index.fits does not contain a tag-along table, so can't retrieve extra columns.  idcol=id, stargalcol=starnotgal, varcol=, mag columns=[ name='flux', mag='r', magerr='r_err', name='i', mag='i', magerr='i_err', name='r', mag='r', magerr='r_err', name='u', mag='u', magerr='u_err', name='z', mag='z', magerr='z_err', name='g', mag='g', magerr='g_err' ].  You may need to edit the $ASTROMETRY_NET_DATA_DIR/andConfig.py file to set idColumn=None, etc. {0}\n",
        "lsst::pex::exceptions::NotFoundError: 'astrometry_net_data index file /renoir_data_00/jpreyes/stacks/v9_2_copy/Linux64/astrometry_net_data/8.0.0.0+7/CFHT/templ-D3.index.fits does not contain a tag-along table, so can't retrieve extra columns.  idcol=id, stargalcol=starnotgal, varcol=, mag columns=[ name='flux', mag='r', magerr='r_err', name='i', mag='i', magerr='i_err', name='r', mag='r', magerr='r_err', name='u', mag='u', magerr='u_err', name='z', mag='z', magerr='z_err', name='g', mag='g', magerr='g_err' ].  You may need to edit the $ASTROMETRY_NET_DATA_DIR/andConfig.py file to set idColumn=None, etc.'\n",
        "\n",
        "Traceback (most recent call last):\n"
       ]
      },
      {
       "output_type": "stream",
       "stream": "stdout",
       "text": [
        "\n",
        "probando, probando"
       ]
      },
      {
       "output_type": "stream",
       "stream": "stdout",
       "text": [
        "\n",
        "This is the processCCD"
       ]
      },
      {
       "output_type": "stream",
       "stream": "stderr",
       "text": [
        "  File \"/renoir_data_00/jpreyes/stacks/v9_2_copy/Linux64/pipe_base/9.2/python/lsst/pipe/base/cmdLineTask.py\", line 322, in __call__\n",
        "    result = task.run(dataRef, **kwargs)\n",
        "  File \"/renoir_data_00/jpreyes/stacks/v9_2_copy/Linux64/pipe_base/9.2/python/lsst/pipe/base/timer.py\", line 118, in wrapper\n",
        "    res = func(self, *args, **keyArgs)\n",
        "  File \"/renoir_data_00/jpreyes/stacks/v9_2_copy/Linux64/pipe_tasks/9.2/python/lsst/pipe/tasks/processCcd.py\", line 84, in run\n",
        "    result = self.process(sensorRef, postIsrExposure)\n",
        "  File \"/renoir_data_00/jpreyes/stacks/v9_2_copy/Linux64/pipe_base/9.2/python/lsst/pipe/base/timer.py\", line 118, in wrapper\n",
        "    res = func(self, *args, **keyArgs)\n",
        "  File \"/renoir_data_00/jpreyes/stacks/v9_2_copy/Linux64/pipe_tasks/9.2/python/lsst/pipe/tasks/processImage.py\", line 154, in process\n",
        "    calib = self.calibrate.run(inputExposure, idFactory=idFactory)\n",
        "  File \"/renoir_data_00/jpreyes/stacks/v9_2_copy/Linux64/pipe_base/9.2/python/lsst/pipe/base/timer.py\", line 118, in wrapper\n",
        "    res = func(self, *args, **keyArgs)\n",
        "  File \"/renoir_data_00/jpreyes/stacks/v9_2_copy/Linux64/pipe_tasks/9.2/python/lsst/pipe/tasks/calibrate.py\", line 431, in run\n",
        "    astromRet = self.astrometry.run(exposure, sources1)\n",
        "  File \"/renoir_data_00/jpreyes/stacks/v9_2_copy/Linux64/pipe_base/9.2/python/lsst/pipe/base/timer.py\", line 118, in wrapper\n",
        "    res = func(self, *args, **keyArgs)\n",
        "  File \"/renoir_data_00/jpreyes/stacks/v9_2_copy/Linux64/pipe_tasks/9.2/python/lsst/pipe/tasks/astrometry.py\", line 203, in run\n",
        "    results = self.astrometry(exposure, sources, bbox=bbox)\n",
        "  File \"/renoir_data_00/jpreyes/stacks/v9_2_copy/Linux64/pipe_base/9.2/python/lsst/pipe/base/timer.py\", line 118, in wrapper\n",
        "    res = func(self, *args, **keyArgs)\n",
        "  File \"/renoir_data_00/jpreyes/stacks/v9_2_copy/Linux64/pipe_tasks/9.2/python/lsst/pipe/tasks/astrometry.py\", line 320, in astrometry\n",
        "    astrom = self.astrometer.determineWcs(sources, exposure, **kwargs)\n",
        "  File \"/renoir_data_00/jpreyes/stacks/v9_2_copy/Linux64/meas_astrom/9.2/python/lsst/meas/astrom/astrom.py\", line 405, in determineWcs\n",
        "    return self.determineWcs2(sources, **margs)\n",
        "  File \"/renoir_data_00/jpreyes/stacks/v9_2_copy/Linux64/meas_astrom/9.2/python/lsst/meas/astrom/astrom.py\", line 434, in determineWcs2\n",
        "    astrom = self.useKnownWcs(sources, wcs=wcs, **kw)\n",
        "  File \"/renoir_data_00/jpreyes/stacks/v9_2_copy/Linux64/meas_astrom/9.2/python/lsst/meas/astrom/astrom.py\", line 303, in useKnownWcs\n",
        "    cat = self.getReferenceSourcesForWcs(wcs, imageSize, filterName, pixelMargin, x0=x0, y0=y0)\n",
        "  File \"/renoir_data_00/jpreyes/stacks/v9_2_copy/Linux64/meas_astrom/9.2/python/lsst/meas/astrom/astrom.py\", line 806, in getReferenceSourcesForWcs\n",
        "    cat = self.getReferenceSources(ra, dec, rad, filterName)\n",
        "  File \"/renoir_data_00/jpreyes/stacks/v9_2_copy/Linux64/meas_astrom/9.2/python/lsst/meas/astrom/astrom.py\", line 886, in getReferenceSources\n",
        "    + margs + (sgCol, varCol)))\n",
        "  File \"/renoir_data_00/jpreyes/stacks/v9_2_copy/Linux64/meas_astrom/9.2/python/lsst/meas/astrom/astrometry_net.py\", line 1191, in getCatalog\n",
        "    return _astrometry_net.solver_t_getCatalog(self, *args)\n",
        "NotFoundError: \n",
        "  File \"python/lsst/meas/astrom/utils.cc\", line 178, in lsst::afw::table::SimpleCatalog lsst::meas::astrom::detail::getCatalogImpl(std::vector<index_t*, std::allocator<index_t*> >, double, double, double, const char*, const std::vector<lsst::meas::astrom::detail::mag_column_t, std::allocator<lsst::meas::astrom::detail::mag_column_t> >&, const char*, const char*, bool)\n",
        "    astrometry_net_data index file /renoir_data_00/jpreyes/stacks/v9_2_copy/Linux64/astrometry_net_data/8.0.0.0+7/CFHT/templ-D3.index.fits does not contain a tag-along table, so can't retrieve extra columns.  idcol=id, stargalcol=starnotgal, varcol=, mag columns=[ name='flux', mag='r', magerr='r_err', name='i', mag='i', magerr='i_err', name='r', mag='r', magerr='r_err', name='u', mag='u', magerr='u_err', name='z', mag='z', magerr='z_err', name='g', mag='g', magerr='g_err' ].  You may need to edit the $ASTROMETRY_NET_DATA_DIR/andConfig.py file to set idColumn=None, etc. {0}\n",
        "lsst::pex::exceptions::NotFoundError: 'astrometry_net_data index file /renoir_data_00/jpreyes/stacks/v9_2_copy/Linux64/astrometry_net_data/8.0.0.0+7/CFHT/templ-D3.index.fits does not contain a tag-along table, so can't retrieve extra columns.  idcol=id, stargalcol=starnotgal, varcol=, mag columns=[ name='flux', mag='r', magerr='r_err', name='i', mag='i', magerr='i_err', name='r', mag='r', magerr='r_err', name='u', mag='u', magerr='u_err', name='z', mag='z', magerr='z_err', name='g', mag='g', magerr='g_err' ].  You may need to edit the $ASTROMETRY_NET_DATA_DIR/andConfig.py file to set idColumn=None, etc.'\n",
        "\n",
        "Traceback (most recent call last):\n"
       ]
      },
      {
       "output_type": "stream",
       "stream": "stdout",
       "text": [
        "\n",
        "probando, probando"
       ]
      },
      {
       "output_type": "stream",
       "stream": "stdout",
       "text": [
        "\n",
        "This is the processCCD"
       ]
      },
      {
       "output_type": "stream",
       "stream": "stderr",
       "text": [
        "  File \"/renoir_data_00/jpreyes/stacks/v9_2_copy/Linux64/pipe_base/9.2/python/lsst/pipe/base/cmdLineTask.py\", line 322, in __call__\n",
        "    result = task.run(dataRef, **kwargs)\n",
        "  File \"/renoir_data_00/jpreyes/stacks/v9_2_copy/Linux64/pipe_base/9.2/python/lsst/pipe/base/timer.py\", line 118, in wrapper\n",
        "    res = func(self, *args, **keyArgs)\n",
        "  File \"/renoir_data_00/jpreyes/stacks/v9_2_copy/Linux64/pipe_tasks/9.2/python/lsst/pipe/tasks/processCcd.py\", line 84, in run\n",
        "    result = self.process(sensorRef, postIsrExposure)\n",
        "  File \"/renoir_data_00/jpreyes/stacks/v9_2_copy/Linux64/pipe_base/9.2/python/lsst/pipe/base/timer.py\", line 118, in wrapper\n",
        "    res = func(self, *args, **keyArgs)\n",
        "  File \"/renoir_data_00/jpreyes/stacks/v9_2_copy/Linux64/pipe_tasks/9.2/python/lsst/pipe/tasks/processImage.py\", line 154, in process\n",
        "    calib = self.calibrate.run(inputExposure, idFactory=idFactory)\n",
        "  File \"/renoir_data_00/jpreyes/stacks/v9_2_copy/Linux64/pipe_base/9.2/python/lsst/pipe/base/timer.py\", line 118, in wrapper\n",
        "    res = func(self, *args, **keyArgs)\n",
        "  File \"/renoir_data_00/jpreyes/stacks/v9_2_copy/Linux64/pipe_tasks/9.2/python/lsst/pipe/tasks/calibrate.py\", line 431, in run\n",
        "    astromRet = self.astrometry.run(exposure, sources1)\n",
        "  File \"/renoir_data_00/jpreyes/stacks/v9_2_copy/Linux64/pipe_base/9.2/python/lsst/pipe/base/timer.py\", line 118, in wrapper\n",
        "    res = func(self, *args, **keyArgs)\n",
        "  File \"/renoir_data_00/jpreyes/stacks/v9_2_copy/Linux64/pipe_tasks/9.2/python/lsst/pipe/tasks/astrometry.py\", line 203, in run\n",
        "    results = self.astrometry(exposure, sources, bbox=bbox)\n",
        "  File \"/renoir_data_00/jpreyes/stacks/v9_2_copy/Linux64/pipe_base/9.2/python/lsst/pipe/base/timer.py\", line 118, in wrapper\n",
        "    res = func(self, *args, **keyArgs)\n",
        "  File \"/renoir_data_00/jpreyes/stacks/v9_2_copy/Linux64/pipe_tasks/9.2/python/lsst/pipe/tasks/astrometry.py\", line 320, in astrometry\n",
        "    astrom = self.astrometer.determineWcs(sources, exposure, **kwargs)\n",
        "  File \"/renoir_data_00/jpreyes/stacks/v9_2_copy/Linux64/meas_astrom/9.2/python/lsst/meas/astrom/astrom.py\", line 405, in determineWcs\n",
        "    return self.determineWcs2(sources, **margs)\n",
        "  File \"/renoir_data_00/jpreyes/stacks/v9_2_copy/Linux64/meas_astrom/9.2/python/lsst/meas/astrom/astrom.py\", line 434, in determineWcs2\n",
        "    astrom = self.useKnownWcs(sources, wcs=wcs, **kw)\n",
        "  File \"/renoir_data_00/jpreyes/stacks/v9_2_copy/Linux64/meas_astrom/9.2/python/lsst/meas/astrom/astrom.py\", line 303, in useKnownWcs\n",
        "    cat = self.getReferenceSourcesForWcs(wcs, imageSize, filterName, pixelMargin, x0=x0, y0=y0)\n",
        "  File \"/renoir_data_00/jpreyes/stacks/v9_2_copy/Linux64/meas_astrom/9.2/python/lsst/meas/astrom/astrom.py\", line 806, in getReferenceSourcesForWcs\n",
        "    cat = self.getReferenceSources(ra, dec, rad, filterName)\n",
        "  File \"/renoir_data_00/jpreyes/stacks/v9_2_copy/Linux64/meas_astrom/9.2/python/lsst/meas/astrom/astrom.py\", line 886, in getReferenceSources\n",
        "    + margs + (sgCol, varCol)))\n",
        "  File \"/renoir_data_00/jpreyes/stacks/v9_2_copy/Linux64/meas_astrom/9.2/python/lsst/meas/astrom/astrometry_net.py\", line 1191, in getCatalog\n",
        "    return _astrometry_net.solver_t_getCatalog(self, *args)\n",
        "NotFoundError: \n",
        "  File \"python/lsst/meas/astrom/utils.cc\", line 178, in lsst::afw::table::SimpleCatalog lsst::meas::astrom::detail::getCatalogImpl(std::vector<index_t*, std::allocator<index_t*> >, double, double, double, const char*, const std::vector<lsst::meas::astrom::detail::mag_column_t, std::allocator<lsst::meas::astrom::detail::mag_column_t> >&, const char*, const char*, bool)\n",
        "    astrometry_net_data index file /renoir_data_00/jpreyes/stacks/v9_2_copy/Linux64/astrometry_net_data/8.0.0.0+7/CFHT/templ-D3.index.fits does not contain a tag-along table, so can't retrieve extra columns.  idcol=id, stargalcol=starnotgal, varcol=, mag columns=[ name='flux', mag='r', magerr='r_err', name='i', mag='i', magerr='i_err', name='r', mag='r', magerr='r_err', name='u', mag='u', magerr='u_err', name='z', mag='z', magerr='z_err', name='g', mag='g', magerr='g_err' ].  You may need to edit the $ASTROMETRY_NET_DATA_DIR/andConfig.py file to set idColumn=None, etc. {0}\n",
        "lsst::pex::exceptions::NotFoundError: 'astrometry_net_data index file /renoir_data_00/jpreyes/stacks/v9_2_copy/Linux64/astrometry_net_data/8.0.0.0+7/CFHT/templ-D3.index.fits does not contain a tag-along table, so can't retrieve extra columns.  idcol=id, stargalcol=starnotgal, varcol=, mag columns=[ name='flux', mag='r', magerr='r_err', name='i', mag='i', magerr='i_err', name='r', mag='r', magerr='r_err', name='u', mag='u', magerr='u_err', name='z', mag='z', magerr='z_err', name='g', mag='g', magerr='g_err' ].  You may need to edit the $ASTROMETRY_NET_DATA_DIR/andConfig.py file to set idColumn=None, etc.'\n",
        "\n",
        "Traceback (most recent call last):\n"
       ]
      },
      {
       "output_type": "stream",
       "stream": "stdout",
       "text": [
        "\n",
        "probando, probando"
       ]
      },
      {
       "output_type": "stream",
       "stream": "stdout",
       "text": [
        "\n",
        "This is the processCCD"
       ]
      },
      {
       "output_type": "stream",
       "stream": "stderr",
       "text": [
        "  File \"/renoir_data_00/jpreyes/stacks/v9_2_copy/Linux64/pipe_base/9.2/python/lsst/pipe/base/cmdLineTask.py\", line 322, in __call__\n",
        "    result = task.run(dataRef, **kwargs)\n",
        "  File \"/renoir_data_00/jpreyes/stacks/v9_2_copy/Linux64/pipe_base/9.2/python/lsst/pipe/base/timer.py\", line 118, in wrapper\n",
        "    res = func(self, *args, **keyArgs)\n",
        "  File \"/renoir_data_00/jpreyes/stacks/v9_2_copy/Linux64/pipe_tasks/9.2/python/lsst/pipe/tasks/processCcd.py\", line 84, in run\n",
        "    result = self.process(sensorRef, postIsrExposure)\n",
        "  File \"/renoir_data_00/jpreyes/stacks/v9_2_copy/Linux64/pipe_base/9.2/python/lsst/pipe/base/timer.py\", line 118, in wrapper\n",
        "    res = func(self, *args, **keyArgs)\n",
        "  File \"/renoir_data_00/jpreyes/stacks/v9_2_copy/Linux64/pipe_tasks/9.2/python/lsst/pipe/tasks/processImage.py\", line 154, in process\n",
        "    calib = self.calibrate.run(inputExposure, idFactory=idFactory)\n",
        "  File \"/renoir_data_00/jpreyes/stacks/v9_2_copy/Linux64/pipe_base/9.2/python/lsst/pipe/base/timer.py\", line 118, in wrapper\n",
        "    res = func(self, *args, **keyArgs)\n",
        "  File \"/renoir_data_00/jpreyes/stacks/v9_2_copy/Linux64/pipe_tasks/9.2/python/lsst/pipe/tasks/calibrate.py\", line 431, in run\n",
        "    astromRet = self.astrometry.run(exposure, sources1)\n",
        "  File \"/renoir_data_00/jpreyes/stacks/v9_2_copy/Linux64/pipe_base/9.2/python/lsst/pipe/base/timer.py\", line 118, in wrapper\n",
        "    res = func(self, *args, **keyArgs)\n",
        "  File \"/renoir_data_00/jpreyes/stacks/v9_2_copy/Linux64/pipe_tasks/9.2/python/lsst/pipe/tasks/astrometry.py\", line 203, in run\n",
        "    results = self.astrometry(exposure, sources, bbox=bbox)\n",
        "  File \"/renoir_data_00/jpreyes/stacks/v9_2_copy/Linux64/pipe_base/9.2/python/lsst/pipe/base/timer.py\", line 118, in wrapper\n",
        "    res = func(self, *args, **keyArgs)\n",
        "  File \"/renoir_data_00/jpreyes/stacks/v9_2_copy/Linux64/pipe_tasks/9.2/python/lsst/pipe/tasks/astrometry.py\", line 320, in astrometry\n",
        "    astrom = self.astrometer.determineWcs(sources, exposure, **kwargs)\n",
        "  File \"/renoir_data_00/jpreyes/stacks/v9_2_copy/Linux64/meas_astrom/9.2/python/lsst/meas/astrom/astrom.py\", line 405, in determineWcs\n",
        "    return self.determineWcs2(sources, **margs)\n",
        "  File \"/renoir_data_00/jpreyes/stacks/v9_2_copy/Linux64/meas_astrom/9.2/python/lsst/meas/astrom/astrom.py\", line 434, in determineWcs2\n",
        "    astrom = self.useKnownWcs(sources, wcs=wcs, **kw)\n",
        "  File \"/renoir_data_00/jpreyes/stacks/v9_2_copy/Linux64/meas_astrom/9.2/python/lsst/meas/astrom/astrom.py\", line 303, in useKnownWcs\n",
        "    cat = self.getReferenceSourcesForWcs(wcs, imageSize, filterName, pixelMargin, x0=x0, y0=y0)\n",
        "  File \"/renoir_data_00/jpreyes/stacks/v9_2_copy/Linux64/meas_astrom/9.2/python/lsst/meas/astrom/astrom.py\", line 806, in getReferenceSourcesForWcs\n",
        "    cat = self.getReferenceSources(ra, dec, rad, filterName)\n",
        "  File \"/renoir_data_00/jpreyes/stacks/v9_2_copy/Linux64/meas_astrom/9.2/python/lsst/meas/astrom/astrom.py\", line 886, in getReferenceSources\n",
        "    + margs + (sgCol, varCol)))\n",
        "  File \"/renoir_data_00/jpreyes/stacks/v9_2_copy/Linux64/meas_astrom/9.2/python/lsst/meas/astrom/astrometry_net.py\", line 1191, in getCatalog\n",
        "    return _astrometry_net.solver_t_getCatalog(self, *args)\n",
        "NotFoundError: \n",
        "  File \"python/lsst/meas/astrom/utils.cc\", line 178, in lsst::afw::table::SimpleCatalog lsst::meas::astrom::detail::getCatalogImpl(std::vector<index_t*, std::allocator<index_t*> >, double, double, double, const char*, const std::vector<lsst::meas::astrom::detail::mag_column_t, std::allocator<lsst::meas::astrom::detail::mag_column_t> >&, const char*, const char*, bool)\n",
        "    astrometry_net_data index file /renoir_data_00/jpreyes/stacks/v9_2_copy/Linux64/astrometry_net_data/8.0.0.0+7/CFHT/templ-D3.index.fits does not contain a tag-along table, so can't retrieve extra columns.  idcol=id, stargalcol=starnotgal, varcol=, mag columns=[ name='flux', mag='r', magerr='r_err', name='i', mag='i', magerr='i_err', name='r', mag='r', magerr='r_err', name='u', mag='u', magerr='u_err', name='z', mag='z', magerr='z_err', name='g', mag='g', magerr='g_err' ].  You may need to edit the $ASTROMETRY_NET_DATA_DIR/andConfig.py file to set idColumn=None, etc. {0}\n",
        "lsst::pex::exceptions::NotFoundError: 'astrometry_net_data index file /renoir_data_00/jpreyes/stacks/v9_2_copy/Linux64/astrometry_net_data/8.0.0.0+7/CFHT/templ-D3.index.fits does not contain a tag-along table, so can't retrieve extra columns.  idcol=id, stargalcol=starnotgal, varcol=, mag columns=[ name='flux', mag='r', magerr='r_err', name='i', mag='i', magerr='i_err', name='r', mag='r', magerr='r_err', name='u', mag='u', magerr='u_err', name='z', mag='z', magerr='z_err', name='g', mag='g', magerr='g_err' ].  You may need to edit the $ASTROMETRY_NET_DATA_DIR/andConfig.py file to set idColumn=None, etc.'\n",
        "\n",
        "Traceback (most recent call last):\n"
       ]
      },
      {
       "output_type": "stream",
       "stream": "stdout",
       "text": [
        "\n",
        "probando, probando"
       ]
      },
      {
       "output_type": "stream",
       "stream": "stdout",
       "text": [
        "\n",
        "This is the processCCD"
       ]
      },
      {
       "output_type": "stream",
       "stream": "stderr",
       "text": [
        "  File \"/renoir_data_00/jpreyes/stacks/v9_2_copy/Linux64/pipe_base/9.2/python/lsst/pipe/base/cmdLineTask.py\", line 322, in __call__\n",
        "    result = task.run(dataRef, **kwargs)\n",
        "  File \"/renoir_data_00/jpreyes/stacks/v9_2_copy/Linux64/pipe_base/9.2/python/lsst/pipe/base/timer.py\", line 118, in wrapper\n",
        "    res = func(self, *args, **keyArgs)\n",
        "  File \"/renoir_data_00/jpreyes/stacks/v9_2_copy/Linux64/pipe_tasks/9.2/python/lsst/pipe/tasks/processCcd.py\", line 84, in run\n",
        "    result = self.process(sensorRef, postIsrExposure)\n",
        "  File \"/renoir_data_00/jpreyes/stacks/v9_2_copy/Linux64/pipe_base/9.2/python/lsst/pipe/base/timer.py\", line 118, in wrapper\n",
        "    res = func(self, *args, **keyArgs)\n",
        "  File \"/renoir_data_00/jpreyes/stacks/v9_2_copy/Linux64/pipe_tasks/9.2/python/lsst/pipe/tasks/processImage.py\", line 154, in process\n",
        "    calib = self.calibrate.run(inputExposure, idFactory=idFactory)\n",
        "  File \"/renoir_data_00/jpreyes/stacks/v9_2_copy/Linux64/pipe_base/9.2/python/lsst/pipe/base/timer.py\", line 118, in wrapper\n",
        "    res = func(self, *args, **keyArgs)\n",
        "  File \"/renoir_data_00/jpreyes/stacks/v9_2_copy/Linux64/pipe_tasks/9.2/python/lsst/pipe/tasks/calibrate.py\", line 431, in run\n",
        "    astromRet = self.astrometry.run(exposure, sources1)\n",
        "  File \"/renoir_data_00/jpreyes/stacks/v9_2_copy/Linux64/pipe_base/9.2/python/lsst/pipe/base/timer.py\", line 118, in wrapper\n",
        "    res = func(self, *args, **keyArgs)\n",
        "  File \"/renoir_data_00/jpreyes/stacks/v9_2_copy/Linux64/pipe_tasks/9.2/python/lsst/pipe/tasks/astrometry.py\", line 203, in run\n",
        "    results = self.astrometry(exposure, sources, bbox=bbox)\n",
        "  File \"/renoir_data_00/jpreyes/stacks/v9_2_copy/Linux64/pipe_base/9.2/python/lsst/pipe/base/timer.py\", line 118, in wrapper\n",
        "    res = func(self, *args, **keyArgs)\n",
        "  File \"/renoir_data_00/jpreyes/stacks/v9_2_copy/Linux64/pipe_tasks/9.2/python/lsst/pipe/tasks/astrometry.py\", line 320, in astrometry\n",
        "    astrom = self.astrometer.determineWcs(sources, exposure, **kwargs)\n",
        "  File \"/renoir_data_00/jpreyes/stacks/v9_2_copy/Linux64/meas_astrom/9.2/python/lsst/meas/astrom/astrom.py\", line 405, in determineWcs\n",
        "    return self.determineWcs2(sources, **margs)\n",
        "  File \"/renoir_data_00/jpreyes/stacks/v9_2_copy/Linux64/meas_astrom/9.2/python/lsst/meas/astrom/astrom.py\", line 434, in determineWcs2\n",
        "    astrom = self.useKnownWcs(sources, wcs=wcs, **kw)\n",
        "  File \"/renoir_data_00/jpreyes/stacks/v9_2_copy/Linux64/meas_astrom/9.2/python/lsst/meas/astrom/astrom.py\", line 303, in useKnownWcs\n",
        "    cat = self.getReferenceSourcesForWcs(wcs, imageSize, filterName, pixelMargin, x0=x0, y0=y0)\n",
        "  File \"/renoir_data_00/jpreyes/stacks/v9_2_copy/Linux64/meas_astrom/9.2/python/lsst/meas/astrom/astrom.py\", line 806, in getReferenceSourcesForWcs\n",
        "    cat = self.getReferenceSources(ra, dec, rad, filterName)\n",
        "  File \"/renoir_data_00/jpreyes/stacks/v9_2_copy/Linux64/meas_astrom/9.2/python/lsst/meas/astrom/astrom.py\", line 886, in getReferenceSources\n",
        "    + margs + (sgCol, varCol)))\n",
        "  File \"/renoir_data_00/jpreyes/stacks/v9_2_copy/Linux64/meas_astrom/9.2/python/lsst/meas/astrom/astrometry_net.py\", line 1191, in getCatalog\n",
        "    return _astrometry_net.solver_t_getCatalog(self, *args)\n",
        "NotFoundError: \n",
        "  File \"python/lsst/meas/astrom/utils.cc\", line 178, in lsst::afw::table::SimpleCatalog lsst::meas::astrom::detail::getCatalogImpl(std::vector<index_t*, std::allocator<index_t*> >, double, double, double, const char*, const std::vector<lsst::meas::astrom::detail::mag_column_t, std::allocator<lsst::meas::astrom::detail::mag_column_t> >&, const char*, const char*, bool)\n",
        "    astrometry_net_data index file /renoir_data_00/jpreyes/stacks/v9_2_copy/Linux64/astrometry_net_data/8.0.0.0+7/CFHT/templ-D3.index.fits does not contain a tag-along table, so can't retrieve extra columns.  idcol=id, stargalcol=starnotgal, varcol=, mag columns=[ name='flux', mag='r', magerr='r_err', name='i', mag='i', magerr='i_err', name='r', mag='r', magerr='r_err', name='u', mag='u', magerr='u_err', name='z', mag='z', magerr='z_err', name='g', mag='g', magerr='g_err' ].  You may need to edit the $ASTROMETRY_NET_DATA_DIR/andConfig.py file to set idColumn=None, etc. {0}\n",
        "lsst::pex::exceptions::NotFoundError: 'astrometry_net_data index file /renoir_data_00/jpreyes/stacks/v9_2_copy/Linux64/astrometry_net_data/8.0.0.0+7/CFHT/templ-D3.index.fits does not contain a tag-along table, so can't retrieve extra columns.  idcol=id, stargalcol=starnotgal, varcol=, mag columns=[ name='flux', mag='r', magerr='r_err', name='i', mag='i', magerr='i_err', name='r', mag='r', magerr='r_err', name='u', mag='u', magerr='u_err', name='z', mag='z', magerr='z_err', name='g', mag='g', magerr='g_err' ].  You may need to edit the $ASTROMETRY_NET_DATA_DIR/andConfig.py file to set idColumn=None, etc.'\n",
        "\n",
        "Traceback (most recent call last):\n"
       ]
      },
      {
       "output_type": "stream",
       "stream": "stdout",
       "text": [
        "\n",
        "probando, probando"
       ]
      },
      {
       "output_type": "stream",
       "stream": "stdout",
       "text": [
        "\n",
        "This is the processCCD"
       ]
      },
      {
       "output_type": "stream",
       "stream": "stderr",
       "text": [
        "  File \"/renoir_data_00/jpreyes/stacks/v9_2_copy/Linux64/pipe_base/9.2/python/lsst/pipe/base/cmdLineTask.py\", line 322, in __call__\n",
        "    result = task.run(dataRef, **kwargs)\n",
        "  File \"/renoir_data_00/jpreyes/stacks/v9_2_copy/Linux64/pipe_base/9.2/python/lsst/pipe/base/timer.py\", line 118, in wrapper\n",
        "    res = func(self, *args, **keyArgs)\n",
        "  File \"/renoir_data_00/jpreyes/stacks/v9_2_copy/Linux64/pipe_tasks/9.2/python/lsst/pipe/tasks/processCcd.py\", line 84, in run\n",
        "    result = self.process(sensorRef, postIsrExposure)\n",
        "  File \"/renoir_data_00/jpreyes/stacks/v9_2_copy/Linux64/pipe_base/9.2/python/lsst/pipe/base/timer.py\", line 118, in wrapper\n",
        "    res = func(self, *args, **keyArgs)\n",
        "  File \"/renoir_data_00/jpreyes/stacks/v9_2_copy/Linux64/pipe_tasks/9.2/python/lsst/pipe/tasks/processImage.py\", line 154, in process\n",
        "    calib = self.calibrate.run(inputExposure, idFactory=idFactory)\n",
        "  File \"/renoir_data_00/jpreyes/stacks/v9_2_copy/Linux64/pipe_base/9.2/python/lsst/pipe/base/timer.py\", line 118, in wrapper\n",
        "    res = func(self, *args, **keyArgs)\n",
        "  File \"/renoir_data_00/jpreyes/stacks/v9_2_copy/Linux64/pipe_tasks/9.2/python/lsst/pipe/tasks/calibrate.py\", line 431, in run\n",
        "    astromRet = self.astrometry.run(exposure, sources1)\n",
        "  File \"/renoir_data_00/jpreyes/stacks/v9_2_copy/Linux64/pipe_base/9.2/python/lsst/pipe/base/timer.py\", line 118, in wrapper\n",
        "    res = func(self, *args, **keyArgs)\n",
        "  File \"/renoir_data_00/jpreyes/stacks/v9_2_copy/Linux64/pipe_tasks/9.2/python/lsst/pipe/tasks/astrometry.py\", line 203, in run\n",
        "    results = self.astrometry(exposure, sources, bbox=bbox)\n",
        "  File \"/renoir_data_00/jpreyes/stacks/v9_2_copy/Linux64/pipe_base/9.2/python/lsst/pipe/base/timer.py\", line 118, in wrapper\n",
        "    res = func(self, *args, **keyArgs)\n",
        "  File \"/renoir_data_00/jpreyes/stacks/v9_2_copy/Linux64/pipe_tasks/9.2/python/lsst/pipe/tasks/astrometry.py\", line 320, in astrometry\n",
        "    astrom = self.astrometer.determineWcs(sources, exposure, **kwargs)\n",
        "  File \"/renoir_data_00/jpreyes/stacks/v9_2_copy/Linux64/meas_astrom/9.2/python/lsst/meas/astrom/astrom.py\", line 405, in determineWcs\n",
        "    return self.determineWcs2(sources, **margs)\n",
        "  File \"/renoir_data_00/jpreyes/stacks/v9_2_copy/Linux64/meas_astrom/9.2/python/lsst/meas/astrom/astrom.py\", line 434, in determineWcs2\n",
        "    astrom = self.useKnownWcs(sources, wcs=wcs, **kw)\n",
        "  File \"/renoir_data_00/jpreyes/stacks/v9_2_copy/Linux64/meas_astrom/9.2/python/lsst/meas/astrom/astrom.py\", line 303, in useKnownWcs\n",
        "    cat = self.getReferenceSourcesForWcs(wcs, imageSize, filterName, pixelMargin, x0=x0, y0=y0)\n",
        "  File \"/renoir_data_00/jpreyes/stacks/v9_2_copy/Linux64/meas_astrom/9.2/python/lsst/meas/astrom/astrom.py\", line 806, in getReferenceSourcesForWcs\n",
        "    cat = self.getReferenceSources(ra, dec, rad, filterName)\n",
        "  File \"/renoir_data_00/jpreyes/stacks/v9_2_copy/Linux64/meas_astrom/9.2/python/lsst/meas/astrom/astrom.py\", line 886, in getReferenceSources\n",
        "    + margs + (sgCol, varCol)))\n",
        "  File \"/renoir_data_00/jpreyes/stacks/v9_2_copy/Linux64/meas_astrom/9.2/python/lsst/meas/astrom/astrometry_net.py\", line 1191, in getCatalog\n",
        "    return _astrometry_net.solver_t_getCatalog(self, *args)\n",
        "NotFoundError: \n",
        "  File \"python/lsst/meas/astrom/utils.cc\", line 178, in lsst::afw::table::SimpleCatalog lsst::meas::astrom::detail::getCatalogImpl(std::vector<index_t*, std::allocator<index_t*> >, double, double, double, const char*, const std::vector<lsst::meas::astrom::detail::mag_column_t, std::allocator<lsst::meas::astrom::detail::mag_column_t> >&, const char*, const char*, bool)\n",
        "    astrometry_net_data index file /renoir_data_00/jpreyes/stacks/v9_2_copy/Linux64/astrometry_net_data/8.0.0.0+7/CFHT/templ-D3.index.fits does not contain a tag-along table, so can't retrieve extra columns.  idcol=id, stargalcol=starnotgal, varcol=, mag columns=[ name='flux', mag='r', magerr='r_err', name='i', mag='i', magerr='i_err', name='r', mag='r', magerr='r_err', name='u', mag='u', magerr='u_err', name='z', mag='z', magerr='z_err', name='g', mag='g', magerr='g_err' ].  You may need to edit the $ASTROMETRY_NET_DATA_DIR/andConfig.py file to set idColumn=None, etc. {0}\n",
        "lsst::pex::exceptions::NotFoundError: 'astrometry_net_data index file /renoir_data_00/jpreyes/stacks/v9_2_copy/Linux64/astrometry_net_data/8.0.0.0+7/CFHT/templ-D3.index.fits does not contain a tag-along table, so can't retrieve extra columns.  idcol=id, stargalcol=starnotgal, varcol=, mag columns=[ name='flux', mag='r', magerr='r_err', name='i', mag='i', magerr='i_err', name='r', mag='r', magerr='r_err', name='u', mag='u', magerr='u_err', name='z', mag='z', magerr='z_err', name='g', mag='g', magerr='g_err' ].  You may need to edit the $ASTROMETRY_NET_DATA_DIR/andConfig.py file to set idColumn=None, etc.'\n",
        "\n",
        "Traceback (most recent call last):\n"
       ]
      },
      {
       "output_type": "stream",
       "stream": "stdout",
       "text": [
        "\n"
       ]
      },
      {
       "output_type": "stream",
       "stream": "stderr",
       "text": [
        "  File \"/renoir_data_00/jpreyes/stacks/v9_2_copy/Linux64/pipe_base/9.2/python/lsst/pipe/base/cmdLineTask.py\", line 322, in __call__\n",
        "    result = task.run(dataRef, **kwargs)\n",
        "  File \"/renoir_data_00/jpreyes/stacks/v9_2_copy/Linux64/pipe_base/9.2/python/lsst/pipe/base/timer.py\", line 118, in wrapper\n",
        "    res = func(self, *args, **keyArgs)\n",
        "  File \"/renoir_data_00/jpreyes/stacks/v9_2_copy/Linux64/pipe_tasks/9.2/python/lsst/pipe/tasks/processCcd.py\", line 84, in run\n",
        "    result = self.process(sensorRef, postIsrExposure)\n",
        "  File \"/renoir_data_00/jpreyes/stacks/v9_2_copy/Linux64/pipe_base/9.2/python/lsst/pipe/base/timer.py\", line 118, in wrapper\n",
        "    res = func(self, *args, **keyArgs)\n",
        "  File \"/renoir_data_00/jpreyes/stacks/v9_2_copy/Linux64/pipe_tasks/9.2/python/lsst/pipe/tasks/processImage.py\", line 154, in process\n",
        "    calib = self.calibrate.run(inputExposure, idFactory=idFactory)\n",
        "  File \"/renoir_data_00/jpreyes/stacks/v9_2_copy/Linux64/pipe_base/9.2/python/lsst/pipe/base/timer.py\", line 118, in wrapper\n",
        "    res = func(self, *args, **keyArgs)\n",
        "  File \"/renoir_data_00/jpreyes/stacks/v9_2_copy/Linux64/pipe_tasks/9.2/python/lsst/pipe/tasks/calibrate.py\", line 431, in run\n",
        "    astromRet = self.astrometry.run(exposure, sources1)\n",
        "  File \"/renoir_data_00/jpreyes/stacks/v9_2_copy/Linux64/pipe_base/9.2/python/lsst/pipe/base/timer.py\", line 118, in wrapper\n",
        "    res = func(self, *args, **keyArgs)\n",
        "  File \"/renoir_data_00/jpreyes/stacks/v9_2_copy/Linux64/pipe_tasks/9.2/python/lsst/pipe/tasks/astrometry.py\", line 203, in run\n",
        "    results = self.astrometry(exposure, sources, bbox=bbox)\n",
        "  File \"/renoir_data_00/jpreyes/stacks/v9_2_copy/Linux64/pipe_base/9.2/python/lsst/pipe/base/timer.py\", line 118, in wrapper\n",
        "    res = func(self, *args, **keyArgs)\n",
        "  File \"/renoir_data_00/jpreyes/stacks/v9_2_copy/Linux64/pipe_tasks/9.2/python/lsst/pipe/tasks/astrometry.py\", line 320, in astrometry\n",
        "    astrom = self.astrometer.determineWcs(sources, exposure, **kwargs)\n",
        "  File \"/renoir_data_00/jpreyes/stacks/v9_2_copy/Linux64/meas_astrom/9.2/python/lsst/meas/astrom/astrom.py\", line 405, in determineWcs\n",
        "    return self.determineWcs2(sources, **margs)\n",
        "  File \"/renoir_data_00/jpreyes/stacks/v9_2_copy/Linux64/meas_astrom/9.2/python/lsst/meas/astrom/astrom.py\", line 434, in determineWcs2\n",
        "    astrom = self.useKnownWcs(sources, wcs=wcs, **kw)\n",
        "  File \"/renoir_data_00/jpreyes/stacks/v9_2_copy/Linux64/meas_astrom/9.2/python/lsst/meas/astrom/astrom.py\", line 303, in useKnownWcs\n",
        "    cat = self.getReferenceSourcesForWcs(wcs, imageSize, filterName, pixelMargin, x0=x0, y0=y0)\n",
        "  File \"/renoir_data_00/jpreyes/stacks/v9_2_copy/Linux64/meas_astrom/9.2/python/lsst/meas/astrom/astrom.py\", line 806, in getReferenceSourcesForWcs\n",
        "    cat = self.getReferenceSources(ra, dec, rad, filterName)\n",
        "  File \"/renoir_data_00/jpreyes/stacks/v9_2_copy/Linux64/meas_astrom/9.2/python/lsst/meas/astrom/astrom.py\", line 886, in getReferenceSources\n",
        "    + margs + (sgCol, varCol)))\n",
        "  File \"/renoir_data_00/jpreyes/stacks/v9_2_copy/Linux64/meas_astrom/9.2/python/lsst/meas/astrom/astrometry_net.py\", line 1191, in getCatalog\n",
        "    return _astrometry_net.solver_t_getCatalog(self, *args)\n",
        "NotFoundError: \n",
        "  File \"python/lsst/meas/astrom/utils.cc\", line 178, in lsst::afw::table::SimpleCatalog lsst::meas::astrom::detail::getCatalogImpl(std::vector<index_t*, std::allocator<index_t*> >, double, double, double, const char*, const std::vector<lsst::meas::astrom::detail::mag_column_t, std::allocator<lsst::meas::astrom::detail::mag_column_t> >&, const char*, const char*, bool)\n",
        "    astrometry_net_data index file /renoir_data_00/jpreyes/stacks/v9_2_copy/Linux64/astrometry_net_data/8.0.0.0+7/CFHT/templ-D3.index.fits does not contain a tag-along table, so can't retrieve extra columns.  idcol=id, stargalcol=starnotgal, varcol=, mag columns=[ name='flux', mag='r', magerr='r_err', name='i', mag='i', magerr='i_err', name='r', mag='r', magerr='r_err', name='u', mag='u', magerr='u_err', name='z', mag='z', magerr='z_err', name='g', mag='g', magerr='g_err' ].  You may need to edit the $ASTROMETRY_NET_DATA_DIR/andConfig.py file to set idColumn=None, etc. {0}\n",
        "lsst::pex::exceptions::NotFoundError: 'astrometry_net_data index file /renoir_data_00/jpreyes/stacks/v9_2_copy/Linux64/astrometry_net_data/8.0.0.0+7/CFHT/templ-D3.index.fits does not contain a tag-along table, so can't retrieve extra columns.  idcol=id, stargalcol=starnotgal, varcol=, mag columns=[ name='flux', mag='r', magerr='r_err', name='i', mag='i', magerr='i_err', name='r', mag='r', magerr='r_err', name='u', mag='u', magerr='u_err', name='z', mag='z', magerr='z_err', name='g', mag='g', magerr='g_err' ].  You may need to edit the $ASTROMETRY_NET_DATA_DIR/andConfig.py file to set idColumn=None, etc.'\n",
        "\n"
       ]
      },
      {
       "metadata": {},
       "output_type": "pyout",
       "prompt_number": 3,
       "text": [
        "Struct(taskRunner=<lsst.pipe.base.cmdLineTask.TaskRunner object at 0x57b0f90>; parsedCmd=Namespace(butler=<lsst.daf.persistence.butler.Butler object at 0x55592d0>, calib=None, camera='megacam', clobberConfig=False, clobberOutput=False, config=lsst.pipe.tasks.processCcd.ProcessCcdConfig(doIsr=True, doWriteHeavyFootprintsInSources=False, doWriteSources=True, isr={'assembleCcd': {'doTrim': True, 'keysToRemove': [], 'setGain': False, 'doRenorm': False}, 'fringe': {'stats': {'badMaskPlanes': ['SAT'], 'stat': 32, 'clip': 3.0, 'iterations': 3}, 'filters': ['i', 'i2', 'z'], 'clip': 3.0, 'large': 50, 'num': 30000, 'iterations': 20, 'small': 1, 'pedestal': True}, 'doAssembleDetrends': True, 'overscanOrder': 1, 'doWrite': False, 'saturatedMaskName': 'SAT', 'fringeAfterFlat': True, 'doDark': False, 'setGainAssembledCcd': True, 'flatScalingType': 'USER', 'doFlat': False, 'doFringe': False, 'overscanRej': 3.0, 'keysToRemoveFromAssembledCcd': [], 'fluxMag0T1': 10000000000.0, 'growSaturationFootprintSize': 1, 'fwhm': 1.0, 'overscanFitType': 'MEDIAN', 'doBias': False, 'flatUserScale': 1.0}, doDetection=True, doWriteSourceMatches=False, detection={'reEstimateBackground': True, 'nSigmaToGrow': 2.4, 'minPixels': 1, 'includeThresholdMultiplier': 1.0, 'isotropicGrow': False, 'adjustBackground': 0.0, 'thresholdType': 'stdev', 'background': {'ignoredPixelMask': ['EDGE', 'DETECTED', 'DETECTED_NEGATIVE'], 'undersampleStyle': 'REDUCE_INTERP_ORDER', 'algorithm': 'NATURAL_SPLINE', 'binSize': 256, 'isNanSafe': False, 'statisticsProperty': 'MEANCLIP'}, 'returnOriginalFootprints': True, 'thresholdPolarity': 'positive', 'thresholdValue': 5.0}, doWriteCalibrateMatches=True, doDeblend=False, calibrate={'initialPsf': {'fwhm': 1.0, 'model': 'SingleGaussian', 'pixelScale': 0.25, 'size': 15}, 'repair': {'doInterpolate': True, 'doCosmicRay': True, 'cosmicray': {'keepCRs': False, 'cond3_fac2': 0.6, 'cond3_fac': 2.5, 'nCrPixelMax': 100000, 'niteration': 3, 'minSigma': 6.0, 'min_DN': 150.0}}, 'doPsf': True, 'astrometry': {'rejectIter': 3, 'forceKnownWcs': False, 'rejectThresh': 3.0, 'solver': {'cleaningParameter': 3.0, 'pixelScaleUncertainty': 1.1, 'catalogMatchDist': 1.0, 'useWcsParity': True, 'sipOrder': 4, 'useWcsRaDecCenter': True, 'matchThreshold': 27.631021115928547, 'useWcsPixelScale': True, 'maxStars': 50, 'allFluxes': True, 'calculateSip': True, 'maxCpuTime': 0.0, 'filterMap': {}, 'raDecSearchRadius': 1.0}}, 'doBackground': True, 'detection': {'reEstimateBackground': True, 'nSigmaToGrow': 2.4, 'minPixels': 1, 'includeThresholdMultiplier': 10.0, 'isotropicGrow': False, 'adjustBackground': 0.0, 'thresholdType': 'stdev', 'background': {'ignoredPixelMask': ['EDGE', 'DETECTED', 'DETECTED_NEGATIVE'], 'undersampleStyle': 'REDUCE_INTERP_ORDER', 'algorithm': 'NATURAL_SPLINE', 'binSize': 256, 'isNanSafe': False, 'statisticsProperty': 'MEANCLIP'}, 'returnOriginalFootprints': True, 'thresholdPolarity': 'positive', 'thresholdValue': 5.0}, 'doPhotoCal': True, 'initialMeasurement': {'doReplaceWithNoise': True, 'centroider': {'values': {'centroid.sdss': {'priority': 0.0, 'peakMin': -1.0, 'binmax': 16, 'wfac': 1.5}, 'centroid.naive': {'priority': 0.0, 'background': 0.0}, 'centroid.gaussian': {'priority': 0.0}}, 'name': 'centroid.sdss'}, 'prefix': None, 'algorithms': {'values': {'centroid.sdss': {'priority': 0.0, 'peakMin': -1.0, 'binmax': 16, 'wfac': 1.5}, 'flux.psf': {'priority': 2.0}, 'flux.dipole.psf': {'priority': 2.0, 'stepSizeFlux': 1.0, 'stepSizeCoord': 0.10000000149011612, 'maxPixels': 500, 'errorDef': 1.0, 'maxFnCalls': 100000}, 'flags.pixel': {'priority': 0.0}, 'centroid.gaussian': {'priority': 0.0}, 'centroid.record': {'priority': 5.0}, 'flux.aperture': {'priority': 2.0, 'radii': [0.0, 0.0, 0.0, 0.0, 0.0, 0.0, 0.0, 0.0, 0.0, 0.0, 1.0, 1.5625, 2.44140625, 3.814697265625, 5.9604644775390625, 9.313225746154785, 14.551915228366852, 22.737367544323206, 35.52713678800501, 55.51115123125783]}, 'centroid.dipole.naive': {'priority': 0.0}, 'flux.naive': {'priority': 2.0, 'radius': 7.0}, 'flux.gaussian': {'shapeFlag': '.flags', 'tol2': 9.999999747378752e-05, 'tol1': 9.999999747378752e-06, 'priority': 2.0, 'shape': 'shape.sdss', 'centroid': 'shape.sdss.centroid', 'background': 0.0, 'maxIter': 100, 'fixed': False, 'shiftmax': 10.0}, 'centroid.naive': {'priority': 0.0, 'background': 0.0}, 'flux.sinc': {'priority': 2.0, 'radius1': 0.0, 'radius2': 7.0, 'angle': 0.0, 'ellipticity': 0.0}, 'shape.sdss': {'priority': 1.0, 'tol2': 9.999999747378752e-05, 'tol1': 9.999999747378752e-06, 'background': 0.0, 'maxIter': 100}, 'flux.aperture.elliptical': {'priority': 1.899999976158142, 'radii': [0.0, 0.0, 0.0, 0.0, 0.0, 0.0, 0.0, 0.0, 0.0, 0.0, 1.0, 1.5625, 2.44140625, 3.814697265625, 5.9604644775390625, 9.313225746154785, 14.551915228366852, 22.737367544323206, 35.52713678800501, 55.51115123125783]}, 'flux.peakLikelihood': {'priority': 2.0, 'warpingKernelName': 'lanczos4'}, 'correctfluxes': {'doApCorr': True, 'canonicalFluxName': 'flux.psf', 'apCorrRadius': 7.0, 'priority': 3.0, 'doFlagTieFailures': True, 'doFlagApCorrFailures': True, 'canonicalFluxIndex': 0, 'doTieScaledFluxes': True}, 'classification.extendedness': {'priority': 5.0, 'psfErrFactor': 0.0, 'modelErrFactor': 0.0, 'fluxRatio': 0.925}, 'skycoord': {'priority': 5.0}, 'flux.dipole.naive': {'priority': 2.0}}, 'names': ['flux.psf', 'flags.pixel', 'shape.sdss', 'flux.naive', 'flux.gaussian', 'centroid.naive', 'flux.sinc', 'centroid.gaussian', 'skycoord']}, 'replaceWithNoise': {'noiseSeed': 0, 'noiseOffset': 0.0, 'noiseSource': 'measure'}, 'slots': {'psfFlux': 'flux.psf', 'apFlux': 'flux.sinc', 'instFlux': 'flux.gaussian', 'shape': 'shape.sdss', 'centroid': 'centroid.sdss', 'modelFlux': 'flux.gaussian'}}, 'measurePsf': {'psfDeterminer': {'values': {'pca': {'kernelSizeMax': 45, 'lam': 0.05, 'reducedChi2ForPsfCandidates': 2.0, 'nonLinearSpatialFit': False, 'spatialOrder': 2, 'doMaskBlends': True, 'sizeCellX': 256, 'sizeCellY': 256, 'spatialReject': 3.0, 'kernelSize': 10.0, 'constantWeight': True, 'nIterForPsf': 3, 'doRejectBlends': False, 'borderWidth': 0, 'nEigenComponents': 4, 'pixelThreshold': 0.0, 'nStarPerCellSpatialFit': 5, 'tolerance': 0.01, 'kernelSizeMin': 25, 'nStarPerCell': 3}}, 'name': 'pca'}, 'starSelector': {'values': {'objectSize': {'widthMax': 10.0, 'widthMin': 0.0, 'kernelSize': 21, 'fluxMin': 12500.0, 'borderWidth': 0, 'badFlags': ['base_PixelFlags_flag_edge', 'base_PixelFlags_flag_interpolatedCenter', 'base_PixelFlags_flag_saturatedCenter', 'base_PixelFlags_flag_crCenter'], 'fluxMax': 0.0, 'sourceFluxField': 'base_GaussianFlux_flux'}, 'diacatalog': {'grMax': 3.0, 'grMin': 0.0, 'selectGalaxy': False, 'selectStar': True, 'badPixelFlags': ['flags.pixel.edge', 'flags.pixel.interpolated.center', 'flags.pixel.saturated.center', 'flags.badcentroid'], 'fluxMax': 0.0, 'includeVariable': False, 'fluxLim': 0.0}, 'catalog': {'fluxLim': 0.0, 'borderWidth': 0, 'fluxMax': 0.0, 'kernelSize': 21, 'badStarPixelFlags': ['base_PixelFlags_flag_edge', 'base_PixelFlags_flag_interpolatedCenter', 'base_PixelFlags_flag_saturatedCenter', 'base_PixelFlags_flag_edge', 'base_PixelFlags_flag_interpolatedCenter', 'base_PixelFlags_flag_saturatedCenter']}, 'secondMoment': {'kernelSize': 21, 'histMomentMinMultiplier': 2.0, 'histSize': 64, 'histMomentClip': 5.0, 'borderWidth': 0, 'badFlags': ['base_PixelFlags_flag_edge', 'base_PixelFlags_flag_interpolatedCenter', 'base_PixelFlags_flag_saturatedCenter', 'base_PixelFlags_flag_crCenter'], 'histMomentMaxMultiplier': 5.0, 'fluxMax': 0.0, 'clumpNSigma': 2.0, 'fluxLim': 12500.0, 'histMomentMax': 100.0}, 'sizeMagnitude': {'startn1': 0.1, 'starsperbin': 30, 'fitorder': 1, 'minmag': 0.0, 'starfrac': 0.5, 'maxmag': 1e+100, 'logsize': False, 'minsize': 0.0, 'aperture': 5.0, 'maxsize': 1e+100, 'fitsigclip': 4.0, 'purityratio': 0.05}}, 'name': 'secondMoment'}}, 'background': {'ignoredPixelMask': ['EDGE', 'DETECTED', 'DETECTED_NEGATIVE'], 'undersampleStyle': 'REDUCE_INTERP_ORDER', 'algorithm': 'NATURAL_SPLINE', 'binSize': 1024, 'isNanSafe': False, 'statisticsProperty': 'MEANCLIP'}, 'measurement': {'doReplaceWithNoise': True, 'centroider': {'values': {'centroid.sdss': {'priority': 0.0, 'peakMin': -1.0, 'binmax': 16, 'wfac': 1.5}, 'centroid.naive': {'priority': 0.0, 'background': 0.0}, 'centroid.gaussian': {'priority': 0.0}}, 'name': 'centroid.sdss'}, 'prefix': None, 'algorithms': {'values': {'centroid.sdss': {'priority': 0.0, 'peakMin': -1.0, 'binmax': 16, 'wfac': 1.5}, 'flux.psf': {'priority': 2.0}, 'flux.dipole.psf': {'priority': 2.0, 'stepSizeFlux': 1.0, 'stepSizeCoord': 0.10000000149011612, 'maxPixels': 500, 'errorDef': 1.0, 'maxFnCalls': 100000}, 'flags.pixel': {'priority': 0.0}, 'centroid.gaussian': {'priority': 0.0}, 'centroid.record': {'priority': 5.0}, 'flux.aperture': {'priority': 2.0, 'radii': [0.0, 0.0, 0.0, 0.0, 0.0, 0.0, 0.0, 0.0, 0.0, 0.0, 1.0, 1.5625, 2.44140625, 3.814697265625, 5.9604644775390625, 9.313225746154785, 14.551915228366852, 22.737367544323206, 35.52713678800501, 55.51115123125783]}, 'centroid.dipole.naive': {'priority': 0.0}, 'flux.naive': {'priority': 2.0, 'radius': 7.0}, 'flux.gaussian': {'shapeFlag': '.flags', 'tol2': 9.999999747378752e-05, 'tol1': 9.999999747378752e-06, 'priority': 2.0, 'shape': 'shape.sdss', 'centroid': 'shape.sdss.centroid', 'background': 0.0, 'maxIter': 100, 'fixed': False, 'shiftmax': 10.0}, 'centroid.naive': {'priority': 0.0, 'background': 0.0}, 'flux.sinc': {'priority': 2.0, 'radius1': 0.0, 'radius2': 7.0, 'angle': 0.0, 'ellipticity': 0.0}, 'shape.sdss': {'priority': 1.0, 'tol2': 9.999999747378752e-05, 'tol1': 9.999999747378752e-06, 'background': 0.0, 'maxIter': 100}, 'flux.aperture.elliptical': {'priority': 1.899999976158142, 'radii': [0.0, 0.0, 0.0, 0.0, 0.0, 0.0, 0.0, 0.0, 0.0, 0.0, 1.0, 1.5625, 2.44140625, 3.814697265625, 5.9604644775390625, 9.313225746154785, 14.551915228366852, 22.737367544323206, 35.52713678800501, 55.51115123125783]}, 'flux.peakLikelihood': {'priority': 2.0, 'warpingKernelName': 'lanczos4'}, 'correctfluxes': {'doApCorr': True, 'canonicalFluxName': 'flux.psf', 'apCorrRadius': 7.0, 'priority': 3.0, 'doFlagTieFailures': True, 'doFlagApCorrFailures': True, 'canonicalFluxIndex': 0, 'doTieScaledFluxes': True}, 'classification.extendedness': {'priority': 5.0, 'psfErrFactor': 0.0, 'modelErrFactor': 0.0, 'fluxRatio': 0.925}, 'skycoord': {'priority': 5.0}, 'flux.dipole.naive': {'priority': 2.0}}, 'names': ['flux.psf', 'flags.pixel', 'centroid.gaussian', 'flux.naive', 'flux.gaussian', 'centroid.naive', 'flux.sinc', 'shape.sdss', 'correctfluxes', 'classification.extendedness', 'skycoord']}, 'replaceWithNoise': {'noiseSeed': 0, 'noiseOffset': 0.0, 'noiseSource': 'measure'}, 'slots': {'psfFlux': 'flux.psf', 'apFlux': 'flux.sinc', 'instFlux': 'flux.gaussian', 'shape': 'shape.sdss', 'centroid': 'centroid.sdss', 'modelFlux': 'flux.gaussian'}}, 'photocal': {'nIter': 20, 'fluxField': 'base_PsfFlux_flux', 'magLimit': 22.0, 'sigmaMax': 0.25, 'nSigma': 3.0, 'goodFlags': [], 'applyColorTerms': True, 'badFlags': ['base_PixelFlags_flag_edge', 'base_PixelFlags_flag_interpolated', 'base_PixelFlags_flag_saturated'], 'useMedian': True, 'doWriteOutput': True}, 'doAstrometry': True}, measurement={'doReplaceWithNoise': True, 'centroider': {'values': {'centroid.sdss': {'priority': 0.0, 'peakMin': -1.0, 'binmax': 16, 'wfac': 1.5}, 'centroid.naive': {'priority': 0.0, 'background': 0.0}, 'centroid.gaussian': {'priority': 0.0}}, 'name': 'centroid.sdss'}, 'prefix': None, 'algorithms': {'values': {'centroid.sdss': {'priority': 0.0, 'peakMin': -1.0, 'binmax': 16, 'wfac': 1.5}, 'flux.psf': {'priority': 2.0}, 'flux.dipole.psf': {'priority': 2.0, 'stepSizeFlux': 1.0, 'stepSizeCoord': 0.10000000149011612, 'maxPixels': 500, 'errorDef': 1.0, 'maxFnCalls': 100000}, 'flags.pixel': {'priority': 0.0}, 'centroid.gaussian': {'priority': 0.0}, 'centroid.record': {'priority': 5.0}, 'flux.aperture': {'priority': 2.0, 'radii': [0.0, 0.0, 0.0, 0.0, 0.0, 0.0, 0.0, 0.0, 0.0, 0.0, 1.0, 1.5625, 2.44140625, 3.814697265625, 5.9604644775390625, 9.313225746154785, 14.551915228366852, 22.737367544323206, 35.52713678800501, 55.51115123125783]}, 'centroid.dipole.naive': {'priority': 0.0}, 'flux.naive': {'priority': 2.0, 'radius': 7.0}, 'flux.gaussian': {'shapeFlag': '.flags', 'tol2': 9.999999747378752e-05, 'tol1': 9.999999747378752e-06, 'priority': 2.0, 'shape': 'shape.sdss', 'centroid': 'shape.sdss.centroid', 'background': 0.0, 'maxIter': 100, 'fixed': False, 'shiftmax': 10.0}, 'centroid.naive': {'priority': 0.0, 'background': 0.0}, 'flux.sinc': {'priority': 2.0, 'radius1': 0.0, 'radius2': 7.0, 'angle': 0.0, 'ellipticity': 0.0}, 'shape.sdss': {'priority': 1.0, 'tol2': 9.999999747378752e-05, 'tol1': 9.999999747378752e-06, 'background': 0.0, 'maxIter': 100}, 'flux.aperture.elliptical': {'priority': 1.899999976158142, 'radii': [0.0, 0.0, 0.0, 0.0, 0.0, 0.0, 0.0, 0.0, 0.0, 0.0, 1.0, 1.5625, 2.44140625, 3.814697265625, 5.9604644775390625, 9.313225746154785, 14.551915228366852, 22.737367544323206, 35.52713678800501, 55.51115123125783]}, 'flux.peakLikelihood': {'priority': 2.0, 'warpingKernelName': 'lanczos4'}, 'correctfluxes': {'doApCorr': True, 'canonicalFluxName': 'flux.psf', 'apCorrRadius': 7.0, 'priority': 3.0, 'doFlagTieFailures': True, 'doFlagApCorrFailures': True, 'canonicalFluxIndex': 0, 'doTieScaledFluxes': True}, 'classification.extendedness': {'priority': 5.0, 'psfErrFactor': 0.0, 'modelErrFactor': 0.0, 'fluxRatio': 0.925}, 'skycoord': {'priority': 5.0}, 'flux.dipole.naive': {'priority': 2.0}}, 'names': ['flux.psf', 'flags.pixel', 'shape.sdss', 'flux.naive', 'flux.gaussian', 'centroid.naive', 'flux.sinc', 'centroid.gaussian', 'correctfluxes', 'classification.extendedness', 'skycoord']}, 'replaceWithNoise': {'noiseSeed': 0, 'noiseOffset': 0.0, 'noiseSource': 'measure'}, 'slots': {'psfFlux': 'flux.psf', 'apFlux': 'flux.sinc', 'instFlux': 'flux.gaussian', 'shape': 'shape.sdss', 'centroid': 'centroid.sdss', 'modelFlux': 'flux.gaussian'}}, doMeasurement=True, deblend={'edgeHandling': 'ramp', 'assignStrayFlux': True, 'strayFluxRule': 'r-to-peak', 'strayFluxToPointSources': 'necessary', 'psfChisq2b': 1.5, 'maxFootprintArea': 100000, 'tinyFootprintSize': 2, 'findStrayFlux': True, 'psfChisq1': 1.5, 'psfChisq2': 1.5, 'maxNumberOfPeaks': 0, 'clipStrayFluxFraction': 0.01}, doCalibrate=True, persistBackgroundModel=True, doWriteCalibrate=True), debug=False, doraise=False, id=<lsst.pipe.base.argumentParser.DataIdContainer object at 0x25b0590>, input='/renoir_data_00/jpreyes/stacks/notebook_files/data/CFHTLS/input', log=<lsst.pex.logging.loggingLib.Log; proxy of <Swig Object of type 'lsst::pex::logging::Log *' at 0x55259f0> >, obsPkg='obs_cfht', output='/renoir_data_00/jpreyes/stacks/notebook_files/data/CFHTLS/output', processes=1, profile=None, show=(), timeout=None, trace=None); resultList=[None, None, None, None, None, None, None, None, None, None, None, None, None, None, None]; argumentParser=ArgumentParser(prog='-c', usage='%(prog)s input [options]', description=None, version=None, formatter_class=<class 'argparse.RawDescriptionHelpFormatter'>, conflict_handler='error', add_help=True))"
       ]
      }
     ],
     "prompt_number": 3
    },
    {
     "cell_type": "markdown",
     "metadata": {},
     "source": [
      "A sky map is created on the area of interest"
     ]
    },
    {
     "cell_type": "code",
     "collapsed": false,
     "input": [
      "subprocess.call([\"ln\",\"-s\",DATADIR+\"/output\", DATADIR+\"/output/calexp/_parent\"])\n",
      "SMTask = SkyMapper.MakeSkyMapTask\n",
      "res=SMTask.parseAndRun(args=(DATADIR+\"/output/calexp --config  skyMap.active.decList=51.0,54.0  skyMap.active.raList=213.0,216.0  --output \"+DATADIR+\"/output/coadd_r_dir\").split())"
     ],
     "language": "python",
     "metadata": {},
     "outputs": []
    },
    {
     "cell_type": "markdown",
     "metadata": {},
     "source": [
      "The zone containint the ccds has to be delimited"
     ]
    },
    {
     "cell_type": "code",
     "collapsed": false,
     "input": [
      "\n",
      "stdout = sys.stdout\n",
      "sys.stdout = open(DATADIR+\"/patches.txt\", 'w')\n",
      "RPTask = PatchReporter.ReportPatchesTask\n",
      "res=RPTask.parseAndRun(args=(DATADIR+'/output/coadd_r_dir --config raDecRange=213.0,51.0,216.0,54.0 --id tract=0 patch=0,0 filter=r').split()) \n",
      "sys.stdout = open(DATADIR+\"/patches_r.txt\", 'w')\n",
      "subprocess.call([\"sed\", \"-e\", 's/^/--id filter=r /', DATADIR+\"/patches.txt\"],stdout=sys.stdout)\n",
      "sys.stdout =stdout"
     ],
     "language": "python",
     "metadata": {},
     "outputs": []
    },
    {
     "cell_type": "markdown",
     "metadata": {},
     "source": [
      "The first part of the coaddition is launched to make the coaddition of the images"
     ]
    },
    {
     "cell_type": "code",
     "collapsed": false,
     "input": [
      "TCTask = TempexpCoadder.MakeCoaddTempExpTask\n",
      "res=TCTask.parseAndRun(args=((DATADIR+\"/output/calexp --output \"+DATADIR+\"/output/coadd_r_dir @\"+DATADIR+\"/patches_r.txt --selectId filter=r\").split()))\n"
     ],
     "language": "python",
     "metadata": {},
     "outputs": []
    },
    {
     "cell_type": "markdown",
     "metadata": {},
     "source": [
      "Result images from coaddition are assembled according to the sky map defined"
     ]
    },
    {
     "cell_type": "code",
     "collapsed": false,
     "input": [
      "ACTask = Assembler.AssembleCoaddTask\n",
      "res=ACTask.parseAndRun(args=((DATADIR+\"/output/coadd_r_dir @\"+DATADIR+\"/patches_r.txt --selectId filter=r\").split()))\n"
     ],
     "language": "python",
     "metadata": {},
     "outputs": []
    },
    {
     "cell_type": "markdown",
     "metadata": {},
     "source": [
      "Subtraction:"
     ]
    },
    {
     "cell_type": "markdown",
     "metadata": {},
     "source": [
      "The two folders containing the images to subtract are defined"
     ]
    },
    {
     "cell_type": "code",
     "collapsed": false,
     "input": [
      "Set1Path = \"/renoir_data_00/jpreyes/stacks/notebook_files/data/CFHTLS/output/coadd_r_dir/deepCoadd/r/1/9,2.fits\"\n",
      "Set2Path = \"/renoir_data_00/jpreyes/stacks/notebook_files/data/CFHTLS_S1/output/coadd_r_dir/deepCoadd/r/1/9,2.fits\"\n",
      "OutputPath = \"/renoir_data_00/jpreyes/stacks/notebook_files/data/subtraction\"\n"
     ],
     "language": "python",
     "metadata": {},
     "outputs": []
    },
    {
     "cell_type": "markdown",
     "metadata": {},
     "source": [
      "The images are loaded and subtracted. Results are saved on disk."
     ]
    },
    {
     "cell_type": "code",
     "collapsed": false,
     "input": [
      "config = ipDiffim.ImagePsfMatchTask.ConfigClass()\n",
      "config.kernel.name = \"AL\"\n",
      "subconfig = config.kernel.active\n",
      "defFwhm         = 4.5\n",
      "fwhmS = defFwhm\n",
      "fwhmT = defFwhm\n",
      "psfmatch = ipDiffim.ImagePsfMatchTask(config)\n",
      "\n",
      "#for image1, image2 in zip(Set1Files,Set2Files):\n",
      "#    print(\"Subtracting \" + image1 + \" \" + image2)\n",
      "firstImage = afwImage.ExposureF(Set1Path)\n",
      "secondImage = afwImage.ExposureF(Set2Path)\n",
      "    \n",
      "results  = psfmatch.subtractExposures(firstImage, secondImage,\n",
      "                            templateFwhmPix = fwhmT, scienceFwhmPix = fwhmS)\n",
      "differenceExposure = results.subtractedExposure\n",
      "differenceExposure.writeFits(OutputPath+'/S1R/9,2.fits')"
     ],
     "language": "python",
     "metadata": {},
     "outputs": []
    },
    {
     "cell_type": "code",
     "collapsed": false,
     "input": [
      "import lsst.pipe.tasks.processCoadd as CoaddProcesser\n",
      "\n",
      "CPTask = CoaddProcesser.ProcessCoaddTask\n",
      "#CPTask.parseAndRun(args=((DATASUB3+\"/output/coadd_r_dir --output \"+DATASUB3+\"/output/coadd_r_dir/deepCoaddDetect @\"+DATASUB3+\"/patches_r.txt\").split()))\n",
      "CPTask.parseAndRun(args=((DATASUB1+\"/output/coadd_r_dir --output \"+DATASUB1+\"/output/coadd_r_dir/deepCoaddDetect @\"+DATASUB1+\"/patches_r.txt\").split()))\n",
      "#CPTask.parseAndRun(args=((DATASUB5+\"/output/coadd_r_dir --output \"+DATASUB5+\"/output/coadd_r_dir/deepCoaddDetect @\"+DATASUB5+\"/patches_r.txt\").split()))"
     ],
     "language": "python",
     "metadata": {},
     "outputs": []
    },
    {
     "cell_type": "code",
     "collapsed": false,
     "input": [],
     "language": "python",
     "metadata": {},
     "outputs": []
    }
   ],
   "metadata": {}
  }
 ]
}