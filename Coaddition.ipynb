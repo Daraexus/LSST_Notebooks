{
 "metadata": {
  "name": "",
  "signature": "sha256:32c5dba4c46c5b3e035205446650f7e37c1dada30ffb5619842f6009f48e435e"
 },
 "nbformat": 3,
 "nbformat_minor": 0,
 "worksheets": [
  {
   "cells": [
    {
     "cell_type": "heading",
     "level": 1,
     "metadata": {},
     "source": [
      "Coaddition basic configuration"
     ]
    },
    {
     "cell_type": "markdown",
     "metadata": {},
     "source": [
      "In order to ingest the image, we import the Ingest class as an Ingester"
     ]
    },
    {
     "cell_type": "code",
     "collapsed": false,
     "input": [
      "import glob\n",
      "import os\n",
      "import subprocess\n",
      "import sys\n",
      "import lsst.pipe.tasks.ingest as Ingester\n",
      "import lsst.pipe.tasks.processCcd as Processer\n",
      "import lsst.pipe.base.argumentParser as ArgumentParser\n",
      "import lsst.daf.persistence as dafPersist\n",
      "import lsst.pipe.tasks.makeSkyMap as SkyMapper\n",
      "\n",
      "import lsst.pipe.tasks.reportPatches as PatchReporter\n",
      "import lsst.pipe.tasks.makeCoaddTempExp as TempexpCoadder\n",
      "import lsst.pipe.tasks.assembleCoadd as Assembler\n",
      "\n",
      "import lsst.afw.image as afwImage\n",
      "import lsst.meas.algorithms as measAlg\n",
      "import lsst.ip.diffim as ipDiffim\n",
      "import lsst.ip.diffim.diffimTools as diffimTools\n",
      "\n",
      "DATADIR=\"/renoir_data_00/jpreyes/stacks/notebook_files/data/CFHTLS_2\""
     ],
     "language": "python",
     "metadata": {},
     "outputs": [],
     "prompt_number": 18
    },
    {
     "cell_type": "code",
     "collapsed": false,
     "input": [
      "\n",
      "os.makedirs(DATADIR)\n",
      "os.makedirs(DATADIR+\"/input\")\n",
      "temp_file=open(DATADIR+\"/input/_mapper\",'w')\n",
      "temp_file.write('lsst.obs.cfht.MegacamMapper')\n",
      "temp_file.close()\n",
      "\n",
      "\n",
      "\n",
      "#print(os.getenv)\n",
      "#dDir = os.getenv(\"/renoir_data_00/jpreyes/stacks/notebook_files/input/\")\n",
      "#butler = dafPersist.Butler(dDir)"
     ],
     "language": "python",
     "metadata": {},
     "outputs": [],
     "prompt_number": 2
    },
    {
     "cell_type": "markdown",
     "metadata": {},
     "source": [
      "We need to instantiate the task as well as the configuration and parser classes.\n",
      "\n",
      "IMPORTANT: a file _mapper has to exist in the input folder with the line 'lsst.echo.cfht.MegacamMapper' or the method will not run!\n",
      "\n",
      "Usually, by command line, a wildcard can be used to express a list of files. However, the wildcard is interpreted by the shell and split in a long line with all the list of arguments. In order to ensure that the same is beind done here, we have to manually generate the list from the wildcard and put in a valid string format."
     ]
    },
    {
     "cell_type": "code",
     "collapsed": false,
     "input": [
      "ITask = Ingester.IngestTask\n",
      "IConfig = ITask.ConfigClass()\n",
      "IParser = ITask.ArgumentParser(\"ingest\")\n",
      "Files = glob.glob(DATADIR+\"/../../../data/rawnew3/*.fz\")\n",
      "SFiles = ' '.join(Files)\n",
      "print(SFiles)\n"
     ],
     "language": "python",
     "metadata": {},
     "outputs": [
      {
       "output_type": "stream",
       "stream": "stdout",
       "text": [
        "/renoir_data_00/jpreyes/stacks/notebook_files/data/CFHTLS_2/../../../data/rawnew3/994755p.fits.fz /renoir_data_00/jpreyes/stacks/notebook_files/data/CFHTLS_2/../../../data/rawnew3/994756p.fits.fz /renoir_data_00/jpreyes/stacks/notebook_files/data/CFHTLS_2/../../../data/rawnew3/994757p.fits.fz /renoir_data_00/jpreyes/stacks/notebook_files/data/CFHTLS_2/../../../data/rawnew3/994758p.fits.fz /renoir_data_00/jpreyes/stacks/notebook_files/data/CFHTLS_2/../../../data/rawnew3/994759p.fits.fz /renoir_data_00/jpreyes/stacks/notebook_files/data/CFHTLS_2/../../../data/rawnew3/995364p.fits.fz /renoir_data_00/jpreyes/stacks/notebook_files/data/CFHTLS_2/../../../data/rawnew3/995365p.fits.fz /renoir_data_00/jpreyes/stacks/notebook_files/data/CFHTLS_2/../../../data/rawnew3/995366p.fits.fz /renoir_data_00/jpreyes/stacks/notebook_files/data/CFHTLS_2/../../../data/rawnew3/995367p.fits.fz /renoir_data_00/jpreyes/stacks/notebook_files/data/CFHTLS_2/../../../data/rawnew3/995368p.fits.fz /renoir_data_00/jpreyes/stacks/notebook_files/data/CFHTLS_2/../../../data/rawnew3/995973p.fits.fz /renoir_data_00/jpreyes/stacks/notebook_files/data/CFHTLS_2/../../../data/rawnew3/995974p.fits.fz /renoir_data_00/jpreyes/stacks/notebook_files/data/CFHTLS_2/../../../data/rawnew3/995975p.fits.fz /renoir_data_00/jpreyes/stacks/notebook_files/data/CFHTLS_2/../../../data/rawnew3/995976p.fits.fz /renoir_data_00/jpreyes/stacks/notebook_files/data/CFHTLS_2/../../../data/rawnew3/995977p.fits.fz /renoir_data_00/jpreyes/stacks/notebook_files/data/CFHTLS_2/../../../data/rawnew3/996230p.fits.fz /renoir_data_00/jpreyes/stacks/notebook_files/data/CFHTLS_2/../../../data/rawnew3/996231p.fits.fz /renoir_data_00/jpreyes/stacks/notebook_files/data/CFHTLS_2/../../../data/rawnew3/996232p.fits.fz /renoir_data_00/jpreyes/stacks/notebook_files/data/CFHTLS_2/../../../data/rawnew3/996233p.fits.fz /renoir_data_00/jpreyes/stacks/notebook_files/data/CFHTLS_2/../../../data/rawnew3/996234p.fits.fz /renoir_data_00/jpreyes/stacks/notebook_files/data/CFHTLS_2/../../../data/rawnew3/996717p.fits.fz /renoir_data_00/jpreyes/stacks/notebook_files/data/CFHTLS_2/../../../data/rawnew3/996718p.fits.fz /renoir_data_00/jpreyes/stacks/notebook_files/data/CFHTLS_2/../../../data/rawnew3/996719p.fits.fz /renoir_data_00/jpreyes/stacks/notebook_files/data/CFHTLS_2/../../../data/rawnew3/996720p.fits.fz /renoir_data_00/jpreyes/stacks/notebook_files/data/CFHTLS_2/../../../data/rawnew3/996721p.fits.fz\n"
       ]
      }
     ],
     "prompt_number": 3
    },
    {
     "cell_type": "markdown",
     "metadata": {},
     "source": [
      "Parameters should be given to the parser the same way they should be used as parameter though the terminal"
     ]
    },
    {
     "cell_type": "code",
     "collapsed": false,
     "input": [
      "args = IParser.parse_args(IConfig, (DATADIR+'/input '+SFiles+' --mode link').split()) \n",
      "task = ITask(config=args.config)\n",
      "task.run(args)"
     ],
     "language": "python",
     "metadata": {},
     "outputs": [
      {
       "output_type": "stream",
       "stream": "stdout",
       "text": [
        "/renoir_data_00/jpreyes/stacks/notebook_files/data/CFHTLS_2/../../../data/rawnew3/994755p.fits.fz --<link>--> /renoir_data_00/jpreyes/stacks/notebook_files/data/CFHTLS_2/input/raw/08AL01/D3/2008-05-28/r/994755p.fits.fz\n",
        "/renoir_data_00/jpreyes/stacks/notebook_files/data/CFHTLS_2/../../../data/rawnew3/994756p.fits.fz --<link>--> /renoir_data_00/jpreyes/stacks/notebook_files/data/CFHTLS_2/input/raw/08AL01/D3/2008-05-28/r/994756p.fits.fz"
       ]
      },
      {
       "output_type": "stream",
       "stream": "stdout",
       "text": [
        "\n",
        "/renoir_data_00/jpreyes/stacks/notebook_files/data/CFHTLS_2/../../../data/rawnew3/994757p.fits.fz --<link>--> /renoir_data_00/jpreyes/stacks/notebook_files/data/CFHTLS_2/input/raw/08AL01/D3/2008-05-28/r/994757p.fits.fz"
       ]
      },
      {
       "output_type": "stream",
       "stream": "stdout",
       "text": [
        "\n",
        "/renoir_data_00/jpreyes/stacks/notebook_files/data/CFHTLS_2/../../../data/rawnew3/994758p.fits.fz --<link>--> /renoir_data_00/jpreyes/stacks/notebook_files/data/CFHTLS_2/input/raw/08AL01/D3/2008-05-28/r/994758p.fits.fz"
       ]
      },
      {
       "output_type": "stream",
       "stream": "stdout",
       "text": [
        "\n",
        "/renoir_data_00/jpreyes/stacks/notebook_files/data/CFHTLS_2/../../../data/rawnew3/994759p.fits.fz --<link>--> /renoir_data_00/jpreyes/stacks/notebook_files/data/CFHTLS_2/input/raw/08AL01/D3/2008-05-28/r/994759p.fits.fz"
       ]
      },
      {
       "output_type": "stream",
       "stream": "stdout",
       "text": [
        "\n",
        "/renoir_data_00/jpreyes/stacks/notebook_files/data/CFHTLS_2/../../../data/rawnew3/995364p.fits.fz --<link>--> /renoir_data_00/jpreyes/stacks/notebook_files/data/CFHTLS_2/input/raw/08AL01/D3/2008-06-01/r/995364p.fits.fz"
       ]
      },
      {
       "output_type": "stream",
       "stream": "stdout",
       "text": [
        "\n",
        "/renoir_data_00/jpreyes/stacks/notebook_files/data/CFHTLS_2/../../../data/rawnew3/995365p.fits.fz --<link>--> /renoir_data_00/jpreyes/stacks/notebook_files/data/CFHTLS_2/input/raw/08AL01/D3/2008-06-01/r/995365p.fits.fz"
       ]
      },
      {
       "output_type": "stream",
       "stream": "stdout",
       "text": [
        "\n",
        "/renoir_data_00/jpreyes/stacks/notebook_files/data/CFHTLS_2/../../../data/rawnew3/995366p.fits.fz --<link>--> /renoir_data_00/jpreyes/stacks/notebook_files/data/CFHTLS_2/input/raw/08AL01/D3/2008-06-01/r/995366p.fits.fz"
       ]
      },
      {
       "output_type": "stream",
       "stream": "stdout",
       "text": [
        "\n",
        "/renoir_data_00/jpreyes/stacks/notebook_files/data/CFHTLS_2/../../../data/rawnew3/995367p.fits.fz --<link>--> /renoir_data_00/jpreyes/stacks/notebook_files/data/CFHTLS_2/input/raw/08AL01/D3/2008-06-01/r/995367p.fits.fz"
       ]
      },
      {
       "output_type": "stream",
       "stream": "stdout",
       "text": [
        "\n",
        "/renoir_data_00/jpreyes/stacks/notebook_files/data/CFHTLS_2/../../../data/rawnew3/995368p.fits.fz --<link>--> /renoir_data_00/jpreyes/stacks/notebook_files/data/CFHTLS_2/input/raw/08AL01/D3/2008-06-01/r/995368p.fits.fz"
       ]
      },
      {
       "output_type": "stream",
       "stream": "stdout",
       "text": [
        "\n",
        "/renoir_data_00/jpreyes/stacks/notebook_files/data/CFHTLS_2/../../../data/rawnew3/995973p.fits.fz --<link>--> /renoir_data_00/jpreyes/stacks/notebook_files/data/CFHTLS_2/input/raw/08AL01/D3/2008-06-04/r/995973p.fits.fz"
       ]
      },
      {
       "output_type": "stream",
       "stream": "stdout",
       "text": [
        "\n",
        "/renoir_data_00/jpreyes/stacks/notebook_files/data/CFHTLS_2/../../../data/rawnew3/995974p.fits.fz --<link>--> /renoir_data_00/jpreyes/stacks/notebook_files/data/CFHTLS_2/input/raw/08AL01/D3/2008-06-04/r/995974p.fits.fz"
       ]
      },
      {
       "output_type": "stream",
       "stream": "stdout",
       "text": [
        "\n",
        "/renoir_data_00/jpreyes/stacks/notebook_files/data/CFHTLS_2/../../../data/rawnew3/995975p.fits.fz --<link>--> /renoir_data_00/jpreyes/stacks/notebook_files/data/CFHTLS_2/input/raw/08AL01/D3/2008-06-04/r/995975p.fits.fz"
       ]
      },
      {
       "output_type": "stream",
       "stream": "stdout",
       "text": [
        "\n",
        "/renoir_data_00/jpreyes/stacks/notebook_files/data/CFHTLS_2/../../../data/rawnew3/995976p.fits.fz --<link>--> /renoir_data_00/jpreyes/stacks/notebook_files/data/CFHTLS_2/input/raw/08AL01/D3/2008-06-04/r/995976p.fits.fz"
       ]
      },
      {
       "output_type": "stream",
       "stream": "stdout",
       "text": [
        "\n",
        "/renoir_data_00/jpreyes/stacks/notebook_files/data/CFHTLS_2/../../../data/rawnew3/995977p.fits.fz --<link>--> /renoir_data_00/jpreyes/stacks/notebook_files/data/CFHTLS_2/input/raw/08AL01/D3/2008-06-04/r/995977p.fits.fz"
       ]
      },
      {
       "output_type": "stream",
       "stream": "stdout",
       "text": [
        "\n",
        "/renoir_data_00/jpreyes/stacks/notebook_files/data/CFHTLS_2/../../../data/rawnew3/996230p.fits.fz --<link>--> /renoir_data_00/jpreyes/stacks/notebook_files/data/CFHTLS_2/input/raw/08AL01/D3/2008-06-07/r/996230p.fits.fz"
       ]
      },
      {
       "output_type": "stream",
       "stream": "stdout",
       "text": [
        "\n",
        "/renoir_data_00/jpreyes/stacks/notebook_files/data/CFHTLS_2/../../../data/rawnew3/996231p.fits.fz --<link>--> /renoir_data_00/jpreyes/stacks/notebook_files/data/CFHTLS_2/input/raw/08AL01/D3/2008-06-07/r/996231p.fits.fz"
       ]
      },
      {
       "output_type": "stream",
       "stream": "stdout",
       "text": [
        "\n",
        "/renoir_data_00/jpreyes/stacks/notebook_files/data/CFHTLS_2/../../../data/rawnew3/996232p.fits.fz --<link>--> /renoir_data_00/jpreyes/stacks/notebook_files/data/CFHTLS_2/input/raw/08AL01/D3/2008-06-07/r/996232p.fits.fz"
       ]
      },
      {
       "output_type": "stream",
       "stream": "stdout",
       "text": [
        "\n",
        "/renoir_data_00/jpreyes/stacks/notebook_files/data/CFHTLS_2/../../../data/rawnew3/996233p.fits.fz --<link>--> /renoir_data_00/jpreyes/stacks/notebook_files/data/CFHTLS_2/input/raw/08AL01/D3/2008-06-07/r/996233p.fits.fz"
       ]
      },
      {
       "output_type": "stream",
       "stream": "stdout",
       "text": [
        "\n",
        "/renoir_data_00/jpreyes/stacks/notebook_files/data/CFHTLS_2/../../../data/rawnew3/996234p.fits.fz --<link>--> /renoir_data_00/jpreyes/stacks/notebook_files/data/CFHTLS_2/input/raw/08AL01/D3/2008-06-07/r/996234p.fits.fz"
       ]
      },
      {
       "output_type": "stream",
       "stream": "stdout",
       "text": [
        "\n",
        "/renoir_data_00/jpreyes/stacks/notebook_files/data/CFHTLS_2/../../../data/rawnew3/996717p.fits.fz --<link>--> /renoir_data_00/jpreyes/stacks/notebook_files/data/CFHTLS_2/input/raw/08AL01/D3/2008-06-12/r/996717p.fits.fz"
       ]
      },
      {
       "output_type": "stream",
       "stream": "stdout",
       "text": [
        "\n",
        "/renoir_data_00/jpreyes/stacks/notebook_files/data/CFHTLS_2/../../../data/rawnew3/996718p.fits.fz --<link>--> /renoir_data_00/jpreyes/stacks/notebook_files/data/CFHTLS_2/input/raw/08AL01/D3/2008-06-12/r/996718p.fits.fz"
       ]
      },
      {
       "output_type": "stream",
       "stream": "stdout",
       "text": [
        "\n",
        "/renoir_data_00/jpreyes/stacks/notebook_files/data/CFHTLS_2/../../../data/rawnew3/996719p.fits.fz --<link>--> /renoir_data_00/jpreyes/stacks/notebook_files/data/CFHTLS_2/input/raw/08AL01/D3/2008-06-12/r/996719p.fits.fz"
       ]
      },
      {
       "output_type": "stream",
       "stream": "stdout",
       "text": [
        "\n",
        "/renoir_data_00/jpreyes/stacks/notebook_files/data/CFHTLS_2/../../../data/rawnew3/996720p.fits.fz --<link>--> /renoir_data_00/jpreyes/stacks/notebook_files/data/CFHTLS_2/input/raw/08AL01/D3/2008-06-12/r/996720p.fits.fz"
       ]
      },
      {
       "output_type": "stream",
       "stream": "stdout",
       "text": [
        "\n",
        "/renoir_data_00/jpreyes/stacks/notebook_files/data/CFHTLS_2/../../../data/rawnew3/996721p.fits.fz --<link>--> /renoir_data_00/jpreyes/stacks/notebook_files/data/CFHTLS_2/input/raw/08AL01/D3/2008-06-12/r/996721p.fits.fz"
       ]
      },
      {
       "output_type": "stream",
       "stream": "stdout",
       "text": [
        "\n"
       ]
      }
     ],
     "prompt_number": 4
    },
    {
     "cell_type": "code",
     "collapsed": false,
     "input": [
      "PTask = Processer.ProcessCcdTask\n",
      "#PConfig = PTask.ConfigClass()\n",
      "#PArgumentParser = PTask._makeArgumentParser()\n",
      "#PParsedArguments = PArgumentParser.parse_args(PConfig, \"input --output output --id ccd=18^19^20^27^28^29 --config isr.doBias=False isr.doFlat=False isr.doFringe=False\".split())\n",
      "#ProcessTask = PTask(config = PParsedArguments.config)\n",
      "#dir(PParsedArguments.config)\n",
      "#print(PParsedArguments.config.values)\n",
      "#ProcessTask.run(PParsedArguments)\n",
      "PTask.parseAndRun(args=((DATADIR+\"/input --output \"+DATADIR+\"/output --id ccd=0^1^9^10 --config isr.doBias=False isr.doFlat=False isr.doFringe=False\").split()))\n",
      "\n",
      "subprocess.call([\"ln\",\"-s\",DATADIR+\"/output\", DATADIR+\"/output/calexp/_parent\"])"
     ],
     "language": "python",
     "metadata": {},
     "outputs": [
      {
       "output_type": "stream",
       "stream": "stdout",
       "text": [
        "This is the processCCD\n",
        "This is the processCCD"
       ]
      },
      {
       "output_type": "stream",
       "stream": "stdout",
       "text": [
        "\n",
        "This is the processCCD"
       ]
      },
      {
       "output_type": "stream",
       "stream": "stdout",
       "text": [
        "\n",
        "This is the processCCD"
       ]
      },
      {
       "output_type": "stream",
       "stream": "stdout",
       "text": [
        "\n",
        "This is the processCCD"
       ]
      },
      {
       "output_type": "stream",
       "stream": "stdout",
       "text": [
        "\n",
        "This is the processCCD"
       ]
      },
      {
       "output_type": "stream",
       "stream": "stdout",
       "text": [
        "\n",
        "This is the processCCD"
       ]
      },
      {
       "output_type": "stream",
       "stream": "stdout",
       "text": [
        "\n",
        "This is the processCCD"
       ]
      },
      {
       "output_type": "stream",
       "stream": "stdout",
       "text": [
        "\n",
        "This is the processCCD"
       ]
      },
      {
       "output_type": "stream",
       "stream": "stdout",
       "text": [
        "\n",
        "This is the processCCD"
       ]
      },
      {
       "output_type": "stream",
       "stream": "stdout",
       "text": [
        "\n",
        "This is the processCCD"
       ]
      },
      {
       "output_type": "stream",
       "stream": "stdout",
       "text": [
        "\n",
        "This is the processCCD"
       ]
      },
      {
       "output_type": "stream",
       "stream": "stdout",
       "text": [
        "\n",
        "This is the processCCD"
       ]
      },
      {
       "output_type": "stream",
       "stream": "stdout",
       "text": [
        "\n",
        "This is the processCCD"
       ]
      },
      {
       "output_type": "stream",
       "stream": "stdout",
       "text": [
        "\n",
        "This is the processCCD"
       ]
      },
      {
       "output_type": "stream",
       "stream": "stdout",
       "text": [
        "\n",
        "This is the processCCD"
       ]
      },
      {
       "output_type": "stream",
       "stream": "stdout",
       "text": [
        "\n",
        "This is the processCCD"
       ]
      },
      {
       "output_type": "stream",
       "stream": "stdout",
       "text": [
        "\n",
        "This is the processCCD"
       ]
      },
      {
       "output_type": "stream",
       "stream": "stdout",
       "text": [
        "\n",
        "This is the processCCD"
       ]
      },
      {
       "output_type": "stream",
       "stream": "stdout",
       "text": [
        "\n",
        "This is the processCCD"
       ]
      },
      {
       "output_type": "stream",
       "stream": "stdout",
       "text": [
        "\n",
        "This is the processCCD"
       ]
      },
      {
       "output_type": "stream",
       "stream": "stdout",
       "text": [
        "\n",
        "This is the processCCD"
       ]
      },
      {
       "output_type": "stream",
       "stream": "stdout",
       "text": [
        "\n",
        "This is the processCCD"
       ]
      },
      {
       "output_type": "stream",
       "stream": "stdout",
       "text": [
        "\n",
        "This is the processCCD"
       ]
      },
      {
       "output_type": "stream",
       "stream": "stdout",
       "text": [
        "\n",
        "This is the processCCD"
       ]
      },
      {
       "output_type": "stream",
       "stream": "stdout",
       "text": [
        "\n",
        "This is the processCCD"
       ]
      },
      {
       "output_type": "stream",
       "stream": "stdout",
       "text": [
        "\n",
        "This is the processCCD"
       ]
      },
      {
       "output_type": "stream",
       "stream": "stdout",
       "text": [
        "\n",
        "This is the processCCD"
       ]
      },
      {
       "output_type": "stream",
       "stream": "stdout",
       "text": [
        "\n",
        "This is the processCCD"
       ]
      },
      {
       "output_type": "stream",
       "stream": "stdout",
       "text": [
        "\n",
        "This is the processCCD"
       ]
      },
      {
       "output_type": "stream",
       "stream": "stdout",
       "text": [
        "\n",
        "This is the processCCD"
       ]
      },
      {
       "output_type": "stream",
       "stream": "stdout",
       "text": [
        "\n",
        "This is the processCCD"
       ]
      },
      {
       "output_type": "stream",
       "stream": "stdout",
       "text": [
        "\n",
        "This is the processCCD"
       ]
      },
      {
       "output_type": "stream",
       "stream": "stdout",
       "text": [
        "\n",
        "This is the processCCD"
       ]
      },
      {
       "output_type": "stream",
       "stream": "stdout",
       "text": [
        "\n",
        "This is the processCCD"
       ]
      },
      {
       "output_type": "stream",
       "stream": "stdout",
       "text": [
        "\n",
        "This is the processCCD"
       ]
      },
      {
       "output_type": "stream",
       "stream": "stdout",
       "text": [
        "\n",
        "This is the processCCD"
       ]
      },
      {
       "output_type": "stream",
       "stream": "stdout",
       "text": [
        "\n",
        "This is the processCCD"
       ]
      },
      {
       "output_type": "stream",
       "stream": "stdout",
       "text": [
        "\n",
        "This is the processCCD"
       ]
      },
      {
       "output_type": "stream",
       "stream": "stdout",
       "text": [
        "\n",
        "This is the processCCD"
       ]
      },
      {
       "output_type": "stream",
       "stream": "stdout",
       "text": [
        "\n",
        "This is the processCCD"
       ]
      },
      {
       "output_type": "stream",
       "stream": "stdout",
       "text": [
        "\n",
        "This is the processCCD"
       ]
      },
      {
       "output_type": "stream",
       "stream": "stdout",
       "text": [
        "\n",
        "This is the processCCD"
       ]
      },
      {
       "output_type": "stream",
       "stream": "stdout",
       "text": [
        "\n",
        "This is the processCCD"
       ]
      },
      {
       "output_type": "stream",
       "stream": "stdout",
       "text": [
        "\n",
        "This is the processCCD"
       ]
      },
      {
       "output_type": "stream",
       "stream": "stdout",
       "text": [
        "\n",
        "This is the processCCD"
       ]
      },
      {
       "output_type": "stream",
       "stream": "stdout",
       "text": [
        "\n",
        "This is the processCCD"
       ]
      },
      {
       "output_type": "stream",
       "stream": "stdout",
       "text": [
        "\n",
        "This is the processCCD"
       ]
      },
      {
       "output_type": "stream",
       "stream": "stdout",
       "text": [
        "\n",
        "This is the processCCD"
       ]
      },
      {
       "output_type": "stream",
       "stream": "stdout",
       "text": [
        "\n",
        "This is the processCCD"
       ]
      },
      {
       "output_type": "stream",
       "stream": "stdout",
       "text": [
        "\n",
        "This is the processCCD"
       ]
      },
      {
       "output_type": "stream",
       "stream": "stdout",
       "text": [
        "\n",
        "This is the processCCD"
       ]
      },
      {
       "output_type": "stream",
       "stream": "stdout",
       "text": [
        "\n",
        "This is the processCCD"
       ]
      },
      {
       "output_type": "stream",
       "stream": "stdout",
       "text": [
        "\n",
        "This is the processCCD"
       ]
      },
      {
       "output_type": "stream",
       "stream": "stdout",
       "text": [
        "\n",
        "This is the processCCD"
       ]
      },
      {
       "output_type": "stream",
       "stream": "stdout",
       "text": [
        "\n",
        "This is the processCCD"
       ]
      },
      {
       "output_type": "stream",
       "stream": "stdout",
       "text": [
        "\n",
        "This is the processCCD"
       ]
      },
      {
       "output_type": "stream",
       "stream": "stdout",
       "text": [
        "\n",
        "This is the processCCD"
       ]
      },
      {
       "output_type": "stream",
       "stream": "stdout",
       "text": [
        "\n",
        "This is the processCCD"
       ]
      },
      {
       "output_type": "stream",
       "stream": "stdout",
       "text": [
        "\n",
        "This is the processCCD"
       ]
      },
      {
       "output_type": "stream",
       "stream": "stdout",
       "text": [
        "\n"
       ]
      },
      {
       "metadata": {},
       "output_type": "pyout",
       "prompt_number": 5,
       "text": [
        "0"
       ]
      }
     ],
     "prompt_number": 5
    },
    {
     "cell_type": "code",
     "collapsed": false,
     "input": [
      "SMTask = SkyMapper.MakeSkyMapTask\n",
      "res=SMTask.parseAndRun(args=(DATADIR+\"/output/calexp --config  skyMap.active.decList=51.0,54.0  skyMap.active.raList=213.0,216.0  --output \"+DATADIR+\"/output/coadd_r_dir\").split())"
     ],
     "language": "python",
     "metadata": {},
     "outputs": [
      {
       "output_type": "stream",
       "stream": "stdout",
       "text": [
        "*** in obs_cfht/config/makeSkyMap.py\n"
       ]
      }
     ],
     "prompt_number": 6
    },
    {
     "cell_type": "code",
     "collapsed": false,
     "input": [
      "\n",
      "stdout = sys.stdout\n",
      "sys.stdout = open(DATADIR+\"/patches.txt\", 'w')\n",
      "RPTask = PatchReporter.ReportPatchesTask\n",
      "res=RPTask.parseAndRun(args=(DATADIR+'/output/coadd_r_dir --config raDecRange=213.0,51.0,216.0,54.0 --id tract=0 patch=0,0 filter=r').split()) \n",
      "sys.stdout = open(DATADIR+\"/patches_r.txt\", 'w')\n",
      "subprocess.call([\"sed\", \"-e\", 's/^/--id filter=r /', DATADIR+\"/patches.txt\"],stdout=sys.stdout)\n",
      "sys.stdout =stdout"
     ],
     "language": "python",
     "metadata": {},
     "outputs": [],
     "prompt_number": 7
    },
    {
     "cell_type": "code",
     "collapsed": false,
     "input": [
      "TCTask = TempexpCoadder.MakeCoaddTempExpTask\n",
      "res=TCTask.parseAndRun(args=((DATADIR+\"/output/calexp --output \"+DATADIR+\"/output/coadd_r_dir @\"+DATADIR+\"/patches_r.txt --selectId filter=r\").split()))\n"
     ],
     "language": "python",
     "metadata": {},
     "outputs": [],
     "prompt_number": 8
    },
    {
     "cell_type": "code",
     "collapsed": false,
     "input": [
      "ACTask = Assembler.AssembleCoaddTask\n",
      "res=ACTask.parseAndRun(args=((DATADIR+\"/output/coadd_r_dir @\"+DATADIR+\"/patches_r.txt --selectId filter=r\").split()))\n"
     ],
     "language": "python",
     "metadata": {},
     "outputs": [],
     "prompt_number": 9
    },
    {
     "cell_type": "code",
     "collapsed": false,
     "input": [
      "Set1Path = \"/renoir_data_00/jpreyes/stacks/notebook_files/data/CFHTLS_2/output/coadd_r_dir/deepCoadd/r/1\"\n",
      "Set2Path = \"/renoir_data_00/jpreyes/stacks/notebook_files/data/CFHTLS/output/coadd_r_dir/deepCoadd/r/1\"\n",
      "OutputPath = \"/renoir_data_00/jpreyes/stacks/notebook_files/data/subtraction\"\n",
      "\n",
      "\n",
      "Set1Files = glob.glob(Set1Path+\"/*.fits\")\n",
      "Set2Files = glob.glob(Set2Path+\"/*.fits\")\n",
      "print((Set1Files[0].split(\"/\"))[-1])\n",
      "#print(Set2Files)\n",
      "#dir(Set1Files)\n",
      "\n",
      "    \n"
     ],
     "language": "python",
     "metadata": {},
     "outputs": [
      {
       "output_type": "stream",
       "stream": "stdout",
       "text": [
        "8,0.fits\n"
       ]
      }
     ],
     "prompt_number": 19
    },
    {
     "cell_type": "code",
     "collapsed": false,
     "input": [
      "config = ipDiffim.ImagePsfMatchTask.ConfigClass()\n",
      "config.kernel.name = \"AL\"\n",
      "subconfig = config.kernel.active\n",
      "defFwhm         = 3.5\n",
      "fwhmS = defFwhm\n",
      "fwhmT = defFwhm\n",
      "psfmatch = ipDiffim.ImagePsfMatchTask(config)\n",
      "\n",
      "for image1, image2 in zip(Set1Files,Set2Files):\n",
      "    print(\"Subtracting \" + image1 + \" \" + image2)\n",
      "    firstImage = afwImage.ExposureF(image1)\n",
      "    secondImage = afwImage.ExposureF(image2)\n",
      "    \n",
      "    results  = psfmatch.subtractExposures(firstImage, secondImage,\n",
      "                            templateFwhmPix = fwhmT, scienceFwhmPix = fwhmS)\n",
      "    differenceExposure = results.subtractedExposure\n",
      "    differenceExposure.writeFits(OutputPath+'/'+(Set1Files[0].split(\"/\"))[-1])\n",
      "    "
     ],
     "language": "python",
     "metadata": {},
     "outputs": [
      {
       "ename": "AttributeError",
       "evalue": "'str' object has no attribute 'what'",
       "output_type": "pyerr",
       "traceback": [
        "\u001b[1;31m---------------------------------------------------------------------------\u001b[0m\n\u001b[1;31mAttributeError\u001b[0m                            Traceback (most recent call last)",
        "\u001b[1;32m<ipython-input-23-f8fbbc538124>\u001b[0m in \u001b[0;36m<module>\u001b[1;34m()\u001b[0m\n\u001b[0;32m     15\u001b[0m \u001b[1;33m\u001b[0m\u001b[0m\n\u001b[0;32m     16\u001b[0m     results  = psfmatch.subtractExposures(firstImage, secondImage,\n\u001b[1;32m---> 17\u001b[1;33m                             templateFwhmPix = fwhmT, scienceFwhmPix = fwhmS)\n\u001b[0m\u001b[0;32m     18\u001b[0m     \u001b[0mdifferenceExposure\u001b[0m \u001b[1;33m=\u001b[0m \u001b[0mresults\u001b[0m\u001b[1;33m.\u001b[0m\u001b[0msubtractedExposure\u001b[0m\u001b[1;33m\u001b[0m\u001b[0m\n\u001b[0;32m     19\u001b[0m     \u001b[0mdifferenceExposure\u001b[0m\u001b[1;33m.\u001b[0m\u001b[0mwriteFits\u001b[0m\u001b[1;33m(\u001b[0m\u001b[0mOutputPath\u001b[0m\u001b[1;33m+\u001b[0m\u001b[1;34m'/'\u001b[0m\u001b[1;33m+\u001b[0m\u001b[1;33m(\u001b[0m\u001b[0mSet1Files\u001b[0m\u001b[1;33m[\u001b[0m\u001b[1;36m0\u001b[0m\u001b[1;33m]\u001b[0m\u001b[1;33m.\u001b[0m\u001b[0msplit\u001b[0m\u001b[1;33m(\u001b[0m\u001b[1;34m\"/\"\u001b[0m\u001b[1;33m)\u001b[0m\u001b[1;33m)\u001b[0m\u001b[1;33m[\u001b[0m\u001b[1;33m-\u001b[0m\u001b[1;36m1\u001b[0m\u001b[1;33m]\u001b[0m\u001b[1;33m)\u001b[0m\u001b[1;33m\u001b[0m\u001b[0m\n",
        "\u001b[1;32m/renoir_data_00/jpreyes/stacks/v9_2_copy/Linux64/pipe_base/9.2/python/lsst/pipe/base/timer.pyc\u001b[0m in \u001b[0;36mwrapper\u001b[1;34m(self, *args, **keyArgs)\u001b[0m\n\u001b[0;32m    116\u001b[0m         \u001b[0mlogInfo\u001b[0m\u001b[1;33m(\u001b[0m\u001b[0mobj\u001b[0m \u001b[1;33m=\u001b[0m \u001b[0mself\u001b[0m\u001b[1;33m,\u001b[0m \u001b[0mprefix\u001b[0m \u001b[1;33m=\u001b[0m \u001b[0mfunc\u001b[0m\u001b[1;33m.\u001b[0m\u001b[0m__name__\u001b[0m \u001b[1;33m+\u001b[0m \u001b[1;34m\"Start\"\u001b[0m\u001b[1;33m)\u001b[0m\u001b[1;33m\u001b[0m\u001b[0m\n\u001b[0;32m    117\u001b[0m         \u001b[1;32mtry\u001b[0m\u001b[1;33m:\u001b[0m\u001b[1;33m\u001b[0m\u001b[0m\n\u001b[1;32m--> 118\u001b[1;33m             \u001b[0mres\u001b[0m \u001b[1;33m=\u001b[0m \u001b[0mfunc\u001b[0m\u001b[1;33m(\u001b[0m\u001b[0mself\u001b[0m\u001b[1;33m,\u001b[0m \u001b[1;33m*\u001b[0m\u001b[0margs\u001b[0m\u001b[1;33m,\u001b[0m \u001b[1;33m**\u001b[0m\u001b[0mkeyArgs\u001b[0m\u001b[1;33m)\u001b[0m\u001b[1;33m\u001b[0m\u001b[0m\n\u001b[0m\u001b[0;32m    119\u001b[0m         \u001b[1;32mfinally\u001b[0m\u001b[1;33m:\u001b[0m\u001b[1;33m\u001b[0m\u001b[0m\n\u001b[0;32m    120\u001b[0m             \u001b[0mlogInfo\u001b[0m\u001b[1;33m(\u001b[0m\u001b[0mobj\u001b[0m \u001b[1;33m=\u001b[0m \u001b[0mself\u001b[0m\u001b[1;33m,\u001b[0m \u001b[0mprefix\u001b[0m \u001b[1;33m=\u001b[0m \u001b[0mfunc\u001b[0m\u001b[1;33m.\u001b[0m\u001b[0m__name__\u001b[0m \u001b[1;33m+\u001b[0m \u001b[1;34m\"End\"\u001b[0m\u001b[1;33m)\u001b[0m\u001b[1;33m\u001b[0m\u001b[0m\n",
        "\u001b[1;32m/renoir_data_00/jpreyes/stacks/v9_2_copy/Linux64/ip_diffim/9.2/python/lsst/ip/diffim/imagePsfMatch.pyc\u001b[0m in \u001b[0;36msubtractExposures\u001b[1;34m(self, templateExposure, scienceExposure, templateFwhmPix, scienceFwhmPix, candidateList, doWarping, convolveTemplate)\u001b[0m\n\u001b[0;32m    315\u001b[0m             \u001b[0mcandidateList\u001b[0m\u001b[1;33m=\u001b[0m\u001b[0mcandidateList\u001b[0m\u001b[1;33m,\u001b[0m\u001b[1;33m\u001b[0m\u001b[0m\n\u001b[0;32m    316\u001b[0m             \u001b[0mdoWarping\u001b[0m\u001b[1;33m=\u001b[0m\u001b[0mdoWarping\u001b[0m\u001b[1;33m,\u001b[0m\u001b[1;33m\u001b[0m\u001b[0m\n\u001b[1;32m--> 317\u001b[1;33m             \u001b[0mconvolveTemplate\u001b[0m\u001b[1;33m=\u001b[0m\u001b[0mconvolveTemplate\u001b[0m\u001b[1;33m\u001b[0m\u001b[0m\n\u001b[0m\u001b[0;32m    318\u001b[0m         )\n\u001b[0;32m    319\u001b[0m \u001b[1;33m\u001b[0m\u001b[0m\n",
        "\u001b[1;32m/renoir_data_00/jpreyes/stacks/v9_2_copy/Linux64/pipe_base/9.2/python/lsst/pipe/base/timer.pyc\u001b[0m in \u001b[0;36mwrapper\u001b[1;34m(self, *args, **keyArgs)\u001b[0m\n\u001b[0;32m    116\u001b[0m         \u001b[0mlogInfo\u001b[0m\u001b[1;33m(\u001b[0m\u001b[0mobj\u001b[0m \u001b[1;33m=\u001b[0m \u001b[0mself\u001b[0m\u001b[1;33m,\u001b[0m \u001b[0mprefix\u001b[0m \u001b[1;33m=\u001b[0m \u001b[0mfunc\u001b[0m\u001b[1;33m.\u001b[0m\u001b[0m__name__\u001b[0m \u001b[1;33m+\u001b[0m \u001b[1;34m\"Start\"\u001b[0m\u001b[1;33m)\u001b[0m\u001b[1;33m\u001b[0m\u001b[0m\n\u001b[0;32m    117\u001b[0m         \u001b[1;32mtry\u001b[0m\u001b[1;33m:\u001b[0m\u001b[1;33m\u001b[0m\u001b[0m\n\u001b[1;32m--> 118\u001b[1;33m             \u001b[0mres\u001b[0m \u001b[1;33m=\u001b[0m \u001b[0mfunc\u001b[0m\u001b[1;33m(\u001b[0m\u001b[0mself\u001b[0m\u001b[1;33m,\u001b[0m \u001b[1;33m*\u001b[0m\u001b[0margs\u001b[0m\u001b[1;33m,\u001b[0m \u001b[1;33m**\u001b[0m\u001b[0mkeyArgs\u001b[0m\u001b[1;33m)\u001b[0m\u001b[1;33m\u001b[0m\u001b[0m\n\u001b[0m\u001b[0;32m    119\u001b[0m         \u001b[1;32mfinally\u001b[0m\u001b[1;33m:\u001b[0m\u001b[1;33m\u001b[0m\u001b[0m\n\u001b[0;32m    120\u001b[0m             \u001b[0mlogInfo\u001b[0m\u001b[1;33m(\u001b[0m\u001b[0mobj\u001b[0m \u001b[1;33m=\u001b[0m \u001b[0mself\u001b[0m\u001b[1;33m,\u001b[0m \u001b[0mprefix\u001b[0m \u001b[1;33m=\u001b[0m \u001b[0mfunc\u001b[0m\u001b[1;33m.\u001b[0m\u001b[0m__name__\u001b[0m \u001b[1;33m+\u001b[0m \u001b[1;34m\"End\"\u001b[0m\u001b[1;33m)\u001b[0m\u001b[1;33m\u001b[0m\u001b[0m\n",
        "\u001b[1;32m/renoir_data_00/jpreyes/stacks/v9_2_copy/Linux64/ip_diffim/9.2/python/lsst/ip/diffim/imagePsfMatch.pyc\u001b[0m in \u001b[0;36mmatchExposures\u001b[1;34m(self, templateExposure, scienceExposure, templateFwhmPix, scienceFwhmPix, candidateList, doWarping, convolveTemplate)\u001b[0m\n\u001b[0;32m    164\u001b[0m             results = self.matchMaskedImages(\n\u001b[0;32m    165\u001b[0m                 \u001b[0mtemplateExposure\u001b[0m\u001b[1;33m.\u001b[0m\u001b[0mgetMaskedImage\u001b[0m\u001b[1;33m(\u001b[0m\u001b[1;33m)\u001b[0m\u001b[1;33m,\u001b[0m \u001b[0mscienceExposure\u001b[0m\u001b[1;33m.\u001b[0m\u001b[0mgetMaskedImage\u001b[0m\u001b[1;33m(\u001b[0m\u001b[1;33m)\u001b[0m\u001b[1;33m,\u001b[0m \u001b[0mcandidateList\u001b[0m\u001b[1;33m,\u001b[0m\u001b[1;33m\u001b[0m\u001b[0m\n\u001b[1;32m--> 166\u001b[1;33m                 templateFwhmPix=templateFwhmPix, scienceFwhmPix=scienceFwhmPix)\n\u001b[0m\u001b[0;32m    167\u001b[0m         \u001b[1;32melse\u001b[0m\u001b[1;33m:\u001b[0m\u001b[1;33m\u001b[0m\u001b[0m\n\u001b[0;32m    168\u001b[0m             results = self.matchMaskedImages(\n",
        "\u001b[1;32m/renoir_data_00/jpreyes/stacks/v9_2_copy/Linux64/pipe_base/9.2/python/lsst/pipe/base/timer.pyc\u001b[0m in \u001b[0;36mwrapper\u001b[1;34m(self, *args, **keyArgs)\u001b[0m\n\u001b[0;32m    116\u001b[0m         \u001b[0mlogInfo\u001b[0m\u001b[1;33m(\u001b[0m\u001b[0mobj\u001b[0m \u001b[1;33m=\u001b[0m \u001b[0mself\u001b[0m\u001b[1;33m,\u001b[0m \u001b[0mprefix\u001b[0m \u001b[1;33m=\u001b[0m \u001b[0mfunc\u001b[0m\u001b[1;33m.\u001b[0m\u001b[0m__name__\u001b[0m \u001b[1;33m+\u001b[0m \u001b[1;34m\"Start\"\u001b[0m\u001b[1;33m)\u001b[0m\u001b[1;33m\u001b[0m\u001b[0m\n\u001b[0;32m    117\u001b[0m         \u001b[1;32mtry\u001b[0m\u001b[1;33m:\u001b[0m\u001b[1;33m\u001b[0m\u001b[0m\n\u001b[1;32m--> 118\u001b[1;33m             \u001b[0mres\u001b[0m \u001b[1;33m=\u001b[0m \u001b[0mfunc\u001b[0m\u001b[1;33m(\u001b[0m\u001b[0mself\u001b[0m\u001b[1;33m,\u001b[0m \u001b[1;33m*\u001b[0m\u001b[0margs\u001b[0m\u001b[1;33m,\u001b[0m \u001b[1;33m**\u001b[0m\u001b[0mkeyArgs\u001b[0m\u001b[1;33m)\u001b[0m\u001b[1;33m\u001b[0m\u001b[0m\n\u001b[0m\u001b[0;32m    119\u001b[0m         \u001b[1;32mfinally\u001b[0m\u001b[1;33m:\u001b[0m\u001b[1;33m\u001b[0m\u001b[0m\n\u001b[0;32m    120\u001b[0m             \u001b[0mlogInfo\u001b[0m\u001b[1;33m(\u001b[0m\u001b[0mobj\u001b[0m \u001b[1;33m=\u001b[0m \u001b[0mself\u001b[0m\u001b[1;33m,\u001b[0m \u001b[0mprefix\u001b[0m \u001b[1;33m=\u001b[0m \u001b[0mfunc\u001b[0m\u001b[1;33m.\u001b[0m\u001b[0m__name__\u001b[0m \u001b[1;33m+\u001b[0m \u001b[1;34m\"End\"\u001b[0m\u001b[1;33m)\u001b[0m\u001b[1;33m\u001b[0m\u001b[0m\n",
        "\u001b[1;32m/renoir_data_00/jpreyes/stacks/v9_2_copy/Linux64/ip_diffim/9.2/python/lsst/ip/diffim/imagePsfMatch.pyc\u001b[0m in \u001b[0;36mmatchMaskedImages\u001b[1;34m(self, templateMaskedImage, scienceMaskedImage, candidateList, templateFwhmPix, scienceFwhmPix)\u001b[0m\n\u001b[0;32m    258\u001b[0m                                             metadata=self.metadata)\n\u001b[0;32m    259\u001b[0m \u001b[1;33m\u001b[0m\u001b[0m\n\u001b[1;32m--> 260\u001b[1;33m         \u001b[0mspatialSolution\u001b[0m\u001b[1;33m,\u001b[0m \u001b[0mpsfMatchingKernel\u001b[0m\u001b[1;33m,\u001b[0m \u001b[0mbackgroundModel\u001b[0m \u001b[1;33m=\u001b[0m \u001b[0mself\u001b[0m\u001b[1;33m.\u001b[0m\u001b[0m_solve\u001b[0m\u001b[1;33m(\u001b[0m\u001b[0mkernelCellSet\u001b[0m\u001b[1;33m,\u001b[0m \u001b[0mbasisList\u001b[0m\u001b[1;33m)\u001b[0m\u001b[1;33m\u001b[0m\u001b[0m\n\u001b[0m\u001b[0;32m    261\u001b[0m \u001b[1;33m\u001b[0m\u001b[0m\n\u001b[0;32m    262\u001b[0m \u001b[1;33m\u001b[0m\u001b[0m\n",
        "\u001b[1;32m/renoir_data_00/jpreyes/stacks/v9_2_copy/Linux64/pipe_base/9.2/python/lsst/pipe/base/timer.pyc\u001b[0m in \u001b[0;36mwrapper\u001b[1;34m(self, *args, **keyArgs)\u001b[0m\n\u001b[0;32m    116\u001b[0m         \u001b[0mlogInfo\u001b[0m\u001b[1;33m(\u001b[0m\u001b[0mobj\u001b[0m \u001b[1;33m=\u001b[0m \u001b[0mself\u001b[0m\u001b[1;33m,\u001b[0m \u001b[0mprefix\u001b[0m \u001b[1;33m=\u001b[0m \u001b[0mfunc\u001b[0m\u001b[1;33m.\u001b[0m\u001b[0m__name__\u001b[0m \u001b[1;33m+\u001b[0m \u001b[1;34m\"Start\"\u001b[0m\u001b[1;33m)\u001b[0m\u001b[1;33m\u001b[0m\u001b[0m\n\u001b[0;32m    117\u001b[0m         \u001b[1;32mtry\u001b[0m\u001b[1;33m:\u001b[0m\u001b[1;33m\u001b[0m\u001b[0m\n\u001b[1;32m--> 118\u001b[1;33m             \u001b[0mres\u001b[0m \u001b[1;33m=\u001b[0m \u001b[0mfunc\u001b[0m\u001b[1;33m(\u001b[0m\u001b[0mself\u001b[0m\u001b[1;33m,\u001b[0m \u001b[1;33m*\u001b[0m\u001b[0margs\u001b[0m\u001b[1;33m,\u001b[0m \u001b[1;33m**\u001b[0m\u001b[0mkeyArgs\u001b[0m\u001b[1;33m)\u001b[0m\u001b[1;33m\u001b[0m\u001b[0m\n\u001b[0m\u001b[0;32m    119\u001b[0m         \u001b[1;32mfinally\u001b[0m\u001b[1;33m:\u001b[0m\u001b[1;33m\u001b[0m\u001b[0m\n\u001b[0;32m    120\u001b[0m             \u001b[0mlogInfo\u001b[0m\u001b[1;33m(\u001b[0m\u001b[0mobj\u001b[0m \u001b[1;33m=\u001b[0m \u001b[0mself\u001b[0m\u001b[1;33m,\u001b[0m \u001b[0mprefix\u001b[0m \u001b[1;33m=\u001b[0m \u001b[0mfunc\u001b[0m\u001b[1;33m.\u001b[0m\u001b[0m__name__\u001b[0m \u001b[1;33m+\u001b[0m \u001b[1;34m\"End\"\u001b[0m\u001b[1;33m)\u001b[0m\u001b[1;33m\u001b[0m\u001b[0m\n",
        "\u001b[1;32m/renoir_data_00/jpreyes/stacks/v9_2_copy/Linux64/ip_diffim/9.2/python/lsst/ip/diffim/psfMatch.pyc\u001b[0m in \u001b[0;36m_solve\u001b[1;34m(self, kernelCellSet, basisList, returnOnExcept)\u001b[0m\n\u001b[0;32m    875\u001b[0m         \u001b[1;32mexcept\u001b[0m \u001b[0mpexExcept\u001b[0m\u001b[1;33m.\u001b[0m\u001b[0mException\u001b[0m \u001b[1;32mas\u001b[0m \u001b[0me\u001b[0m\u001b[1;33m:\u001b[0m\u001b[1;33m\u001b[0m\u001b[0m\n\u001b[0;32m    876\u001b[0m             \u001b[0mpexLog\u001b[0m\u001b[1;33m.\u001b[0m\u001b[0mTrace\u001b[0m\u001b[1;33m(\u001b[0m\u001b[0mself\u001b[0m\u001b[1;33m.\u001b[0m\u001b[0mlog\u001b[0m\u001b[1;33m.\u001b[0m\u001b[0mgetName\u001b[0m\u001b[1;33m(\u001b[0m\u001b[1;33m)\u001b[0m\u001b[1;33m+\u001b[0m\u001b[1;34m\"._solve\"\u001b[0m\u001b[1;33m,\u001b[0m \u001b[1;36m1\u001b[0m\u001b[1;33m,\u001b[0m \u001b[1;34m\"ERROR: Unable to calculate psf matching kernel\"\u001b[0m\u001b[1;33m)\u001b[0m\u001b[1;33m\u001b[0m\u001b[0m\n\u001b[1;32m--> 877\u001b[1;33m             \u001b[0mpexLog\u001b[0m\u001b[1;33m.\u001b[0m\u001b[0mTrace\u001b[0m\u001b[1;33m(\u001b[0m\u001b[0mself\u001b[0m\u001b[1;33m.\u001b[0m\u001b[0mlog\u001b[0m\u001b[1;33m.\u001b[0m\u001b[0mgetName\u001b[0m\u001b[1;33m(\u001b[0m\u001b[1;33m)\u001b[0m\u001b[1;33m+\u001b[0m\u001b[1;34m\"._solve\"\u001b[0m\u001b[1;33m,\u001b[0m \u001b[1;36m2\u001b[0m\u001b[1;33m,\u001b[0m \u001b[0me\u001b[0m\u001b[1;33m.\u001b[0m\u001b[0margs\u001b[0m\u001b[1;33m[\u001b[0m\u001b[1;36m0\u001b[0m\u001b[1;33m]\u001b[0m\u001b[1;33m.\u001b[0m\u001b[0mwhat\u001b[0m\u001b[1;33m(\u001b[0m\u001b[1;33m)\u001b[0m\u001b[1;33m)\u001b[0m\u001b[1;33m\u001b[0m\u001b[0m\n\u001b[0m\u001b[0;32m    878\u001b[0m             \u001b[1;32mraise\u001b[0m \u001b[0me\u001b[0m\u001b[1;33m\u001b[0m\u001b[0m\n\u001b[0;32m    879\u001b[0m         \u001b[1;32mexcept\u001b[0m \u001b[0mException\u001b[0m\u001b[1;33m,\u001b[0m \u001b[0me\u001b[0m\u001b[1;33m:\u001b[0m\u001b[1;33m\u001b[0m\u001b[0m\n",
        "\u001b[1;31mAttributeError\u001b[0m: 'str' object has no attribute 'what'"
       ]
      },
      {
       "output_type": "stream",
       "stream": "stdout",
       "text": [
        "Subtracting /renoir_data_00/jpreyes/stacks/notebook_files/data/CFHTLS_2/output/coadd_r_dir/deepCoadd/r/1/8,0.fits /renoir_data_00/jpreyes/stacks/notebook_files/data/CFHTLS/output/coadd_r_dir/deepCoadd/r/1/8,0.fits\n"
       ]
      }
     ],
     "prompt_number": 23
    },
    {
     "cell_type": "code",
     "collapsed": false,
     "input": [],
     "language": "python",
     "metadata": {},
     "outputs": []
    }
   ],
   "metadata": {}
  }
 ]
}