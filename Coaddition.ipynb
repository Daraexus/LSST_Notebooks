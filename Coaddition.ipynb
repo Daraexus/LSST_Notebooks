{
 "metadata": {
  "name": "",
  "signature": "sha256:32c5dba4c46c5b3e035205446650f7e37c1dada30ffb5619842f6009f48e435e"
 },
 "nbformat": 3,
 "nbformat_minor": 0,
 "worksheets": [
  {
   "cells": [
    {
     "cell_type": "heading",
     "level": 1,
     "metadata": {},
     "source": [
      "Coaddition-Subtraction method for transient objects detection"
     ]
    },
    {
     "cell_type": "markdown",
     "metadata": {},
     "source": [
      "Imports of all LSST Python modules necessaries for the processing"
     ]
    },
    {
     "cell_type": "code",
     "collapsed": false,
     "input": [
      "import glob\n",
      "import os\n",
      "import subprocess\n",
      "import sys\n",
      "import lsst.pipe.tasks.ingest as Ingester\n",
      "import lsst.pipe.tasks.processCcd as Processer\n",
      "import lsst.pipe.base.argumentParser as ArgumentParser\n",
      "import lsst.daf.persistence as dafPersist\n",
      "import lsst.pipe.tasks.makeSkyMap as SkyMapper\n",
      "\n",
      "import lsst.pipe.tasks.reportPatches as PatchReporter\n",
      "import lsst.pipe.tasks.makeCoaddTempExp as TempexpCoadder\n",
      "import lsst.pipe.tasks.assembleCoadd as Assembler\n",
      "\n",
      "import lsst.afw.image as afwImage\n",
      "import lsst.meas.algorithms as measAlg\n",
      "import lsst.ip.diffim as ipDiffim\n",
      "import lsst.ip.diffim.diffimTools as diffimTools\n",
      "\n",
      "DATADIR=\"/renoir_data_02/jpreyes/lsst_data/data/CFHTLS\"\n",
      "\n",
      "#DATASUB1=\"/renoir_data_00/jpreyes/stacks/notebook_files/data/CFHTLS_SUB1\"\n",
      "#DATASUB2=\"/renoir_data_00/jpreyes/stacks/notebook_files/data/CFHTLS_SUB2\"\n",
      "#DATASUB3=\"/renoir_data_00/jpreyes/stacks/notebook_files/data/CFHTLS_SUB3\"\n",
      "#DATASUB4=\"/renoir_data_00/jpreyes/stacks/notebook_files/data/CFHTLS_SUB4\"\n",
      "#DATASUB5=\"/renoir_data_00/jpreyes/stacks/notebook_files/data/CFHTLS_SUB5\""
     ],
     "language": "python",
     "metadata": {},
     "outputs": [],
     "prompt_number": 1
    },
    {
     "cell_type": "markdown",
     "metadata": {},
     "source": [
      "Working directory is created. A reference to the cam mapper is also created."
     ]
    },
    {
     "cell_type": "code",
     "collapsed": false,
     "input": [
      "\n",
      "os.makedirs(DATADIR)\n",
      "os.makedirs(DATADIR+\"/input\")\n",
      "temp_file=open(DATADIR+\"/input/_mapper\",'w')\n",
      "temp_file.write('lsst.obs.cfht.MegacamMapper')\n",
      "temp_file.close()\n",
      "\n"
     ],
     "language": "python",
     "metadata": {},
     "outputs": []
    },
    {
     "cell_type": "markdown",
     "metadata": {},
     "source": [
      "We need to instantiate the task as well as the configuration and parser classes.\n",
      "\n",
      "IMPORTANT: a file _mapper has to exist in the input folder with the line 'lsst.echo.cfht.MegacamMapper' or the method will not run!\n",
      "\n",
      "Usually, by command line, a wildcard can be used to express a list of files. However, the wildcard is interpreted by the shell and split in a long line with all the list of arguments. In order to ensure that the same is beind done here, we have to manually generate the list from the wildcard and put in a valid string format."
     ]
    },
    {
     "cell_type": "code",
     "collapsed": false,
     "input": [
      "ITask = Ingester.IngestTask\n",
      "IConfig = ITask.ConfigClass()\n",
      "IParser = ITask.ArgumentParser(\"ingest\")\n",
      "Files = glob.glob(\"/renoir_data_02/lsst_data/CFHT/rawElixir/D3/r/*.fits.fz\")\n",
      "SFiles = ' '.join(Files)\n",
      "print(SFiles)\n"
     ],
     "language": "python",
     "metadata": {},
     "outputs": []
    },
    {
     "cell_type": "markdown",
     "metadata": {},
     "source": [
      "Parameters should be given to the parser the same way they should be used as parameter though the terminal"
     ]
    },
    {
     "cell_type": "code",
     "collapsed": false,
     "input": [
      "args = IParser.parse_args(IConfig, (DATADIR+'/input '+SFiles+' --mode link').split()) \n",
      "task = ITask(config=args.config)\n",
      "task.run(args)"
     ],
     "language": "python",
     "metadata": {},
     "outputs": []
    },
    {
     "cell_type": "markdown",
     "metadata": {},
     "source": [
      "Run and process all the CCDs "
     ]
    },
    {
     "cell_type": "code",
     "collapsed": false,
     "input": [
      "PTask = Processer.ProcessCcdTask\n",
      "\n",
      "PTask.parseAndRun(args=((DATADIR+\"/input --output \"+DATADIR+\"/output --id ccd=14 --config isr.doBias=False isr.doFlat=False isr.doFringe=False\").split()))\n",
      "\n"
     ],
     "language": "python",
     "metadata": {},
     "outputs": []
    },
    {
     "cell_type": "markdown",
     "metadata": {},
     "source": [
      "A sky map is created on the area of interest"
     ]
    },
    {
     "cell_type": "code",
     "collapsed": false,
     "input": [
      "subprocess.call([\"ln\",\"-s\",DATADIR+\"/output\", DATADIR+\"/output/calexp/_parent\"])\n",
      "SMTask = SkyMapper.MakeSkyMapTask\n",
      "res=SMTask.parseAndRun(args=(DATADIR+\"/output/calexp --config  skyMap.active.decList=52.5,53.5  skyMap.active.raList=214.0,215.0 skyMap.active.patchInnerDimensions=1000,1000 --clobber-config --output \"+DATADIR+\"/output/coadd_r_dir/subtract-4\").split())"
     ],
     "language": "python",
     "metadata": {},
     "outputs": [
      {
       "output_type": "stream",
       "stream": "stdout",
       "text": [
        "*** in obs_cfht/config/makeSkyMap.py\n"
       ]
      }
     ],
     "prompt_number": 36
    },
    {
     "cell_type": "markdown",
     "metadata": {},
     "source": [
      "The zone containint the ccds has to be delimited"
     ]
    },
    {
     "cell_type": "code",
     "collapsed": false,
     "input": [
      "\n",
      "stdout = sys.stdout\n",
      "sys.stdout = open(DATADIR+\"/patches.txt\", 'w')\n",
      "RPTask = PatchReporter.ReportPatchesTask\n",
      "res=RPTask.parseAndRun(args=(DATADIR+'/output/coadd_r_dir/subtract-4 --config raDecRange=214.0,52.5,215.0,53.5 --id tract=0 patch=0,0 filter=r --clobber-config').split()) \n",
      "sys.stdout = open(DATADIR+\"/patches_r.txt\", 'w')\n",
      "subprocess.call([\"sed\", \"-e\", 's/^/--id filter=r /', DATADIR+\"/patches.txt\"],stdout=sys.stdout)\n",
      "sys.stdout =stdout"
     ],
     "language": "python",
     "metadata": {},
     "outputs": [],
     "prompt_number": 37
    },
    {
     "cell_type": "markdown",
     "metadata": {},
     "source": [
      "The first part of the coaddition is launched to make the coaddition of the images"
     ]
    },
    {
     "cell_type": "code",
     "collapsed": false,
     "input": [
      "TCTask = TempexpCoadder.MakeCoaddTempExpTask\n",
      "res=TCTask.parseAndRun(args=((DATADIR+\"/output/calexp --output \"+DATADIR+\"/output/coadd_r_dir/subtract-4 @\"+DATADIR+\"/patches_r.txt --selectId filter=r visit=845349\").split()))\n"
     ],
     "language": "python",
     "metadata": {},
     "outputs": [],
     "prompt_number": 38
    },
    {
     "cell_type": "markdown",
     "metadata": {},
     "source": [
      "Result images from coaddition are assembled according to the sky map defined"
     ]
    },
    {
     "cell_type": "code",
     "collapsed": false,
     "input": [
      "ACTask = Assembler.AssembleCoaddTask\n",
      "res=ACTask.parseAndRun(args=((DATADIR+\"/output/coadd_r_dir/subtract-4 @\"+DATADIR+\"/patches_r.txt --selectId filter=r visit=845349\").split()))\n"
     ],
     "language": "python",
     "metadata": {},
     "outputs": [],
     "prompt_number": 39
    },
    {
     "cell_type": "markdown",
     "metadata": {},
     "source": [
      "Subtraction:"
     ]
    },
    {
     "cell_type": "markdown",
     "metadata": {},
     "source": [
      "The two folders containing the images to subtract are defined"
     ]
    },
    {
     "cell_type": "code",
     "collapsed": false,
     "input": [
      "Set1Path = DATADIR+\"/output/coadd_r_dir/deepCoadd/r/1/33,15.fits\"\n",
      "Set2Path = DATADIR+\"/output/coadd_r_dir/subtract/deepCoadd/r/1/33,15.fits\"\n",
      "OutputPath = DATADIR+\"/output/subtracted-inter\"\n"
     ],
     "language": "python",
     "metadata": {},
     "outputs": [],
     "prompt_number": 3
    },
    {
     "cell_type": "markdown",
     "metadata": {},
     "source": [
      "The images are loaded and subtracted. Results are saved on disk."
     ]
    },
    {
     "cell_type": "code",
     "collapsed": false,
     "input": [
      "config = ipDiffim.ImagePsfMatchTask.ConfigClass()\n",
      "config.kernel.name = \"AL\"\n",
      "subconfig = config.kernel.active\n",
      "defFwhm         = 2.5\n",
      "fwhmS = defFwhm\n",
      "fwhmT = defFwhm\n",
      "psfmatch = ipDiffim.ImagePsfMatchTask(config)\n",
      "\n",
      "#for image1, image2 in zip(Set1Files,Set2Files):\n",
      "#    print(\"Subtracting \" + image1 + \" \" + image2)\n",
      "firstImage = afwImage.ExposureF(Set1Path)\n",
      "secondImage = afwImage.ExposureF(Set2Path)\n",
      "    \n",
      "results  = psfmatch.subtractExposures(firstImage, secondImage,\n",
      "                            templateFwhmPix = fwhmT, scienceFwhmPix = fwhmS, doWarping=True)\n",
      "\n",
      "differenceExposure = results.subtractedExposure"
     ],
     "language": "python",
     "metadata": {},
     "outputs": [
      {
       "output_type": "stream",
       "stream": "stdout",
       "text": [
        "<lsst.afw.math.mathLib.SpatialCellSet; proxy of <Swig Object of type 'lsst::afw::math::SpatialCellSet *' at 0x6e9c4b0> >\n",
        "(<lsst.afw.math.mathLib.Kernel; proxy of <Swig Object of type 'boost::shared_ptr< lsst::afw::math::Kernel > *' at 0x6e9c480> >, <lsst.afw.math.mathLib.Kernel; proxy of <Swig Object of type 'boost::shared_ptr< lsst::afw::math::Kernel > *' at 0x6e9c510> >, <lsst.afw.math.mathLib.Kernel; proxy of <Swig Object of type 'boost::shared_ptr< lsst::afw::math::Kernel > *' at 0x6e9b720> >, <lsst.afw.math.mathLib.Kernel; proxy of <Swig Object of type 'boost::shared_ptr< lsst::afw::math::Kernel > *' at 0x6e9bf30> >, <lsst.afw.math.mathLib.Kernel; proxy of <Swig Object of type 'boost::shared_ptr< lsst::afw::math::Kernel > *' at 0x6e9bf00> >, <lsst.afw.math.mathLib.Kernel; proxy of <Swig Object of type 'boost::shared_ptr< lsst::afw::math::Kernel > *' at 0x6e9bfc0> >, <lsst.afw.math.mathLib.Kernel; proxy of <Swig Object of type 'boost::shared_ptr< lsst::afw::math::Kernel > *' at 0x6e9bf60> >, <lsst.afw.math.mathLib.Kernel; proxy of <Swig Object of type 'boost::shared_ptr< lsst::afw::math::Kernel > *' at 0x6e9bed0> >, <lsst.afw.math.mathLib.Kernel; proxy of <Swig Object of type 'boost::shared_ptr< lsst::afw::math::Kernel > *' at 0x6e9bea0> >, <lsst.afw.math.mathLib.Kernel; proxy of <Swig Object of type 'boost::shared_ptr< lsst::afw::math::Kernel > *' at 0x6e9be40> >, <lsst.afw.math.mathLib.Kernel; proxy of <Swig Object of type 'boost::shared_ptr< lsst::afw::math::Kernel > *' at 0x6e9be10> >, <lsst.afw.math.mathLib.Kernel; proxy of <Swig Object of type 'boost::shared_ptr< lsst::afw::math::Kernel > *' at 0x6e9bde0> >, <lsst.afw.math.mathLib.Kernel; proxy of <Swig Object of type 'boost::shared_ptr< lsst::afw::math::Kernel > *' at 0x6e9bdb0> >, <lsst.afw.math.mathLib.Kernel; proxy of <Swig Object of type 'boost::shared_ptr< lsst::afw::math::Kernel > *' at 0x6e9bd80> >, <lsst.afw.math.mathLib.Kernel; proxy of <Swig Object of type 'boost::shared_ptr< lsst::afw::math::Kernel > *' at 0x6e9bd50> >, <lsst.afw.math.mathLib.Kernel; proxy of <Swig Object of type 'boost::shared_ptr< lsst::afw::math::Kernel > *' at 0x6e9bd20> >, <lsst.afw.math.mathLib.Kernel; proxy of <Swig Object of type 'boost::shared_ptr< lsst::afw::math::Kernel > *' at 0x6e9bcf0> >, <lsst.afw.math.mathLib.Kernel; proxy of <Swig Object of type 'boost::shared_ptr< lsst::afw::math::Kernel > *' at 0x6e9bcc0> >, <lsst.afw.math.mathLib.Kernel; proxy of <Swig Object of type 'boost::shared_ptr< lsst::afw::math::Kernel > *' at 0x6e9bc90> >, <lsst.afw.math.mathLib.Kernel; proxy of <Swig Object of type 'boost::shared_ptr< lsst::afw::math::Kernel > *' at 0x6e9bc60> >, <lsst.afw.math.mathLib.Kernel; proxy of <Swig Object of type 'boost::shared_ptr< lsst::afw::math::Kernel > *' at 0x6e9bc30> >, <lsst.afw.math.mathLib.Kernel; proxy of <Swig Object of type 'boost::shared_ptr< lsst::afw::math::Kernel > *' at 0x6e9bc00> >, <lsst.afw.math.mathLib.Kernel; proxy of <Swig Object of type 'boost::shared_ptr< lsst::afw::math::Kernel > *' at 0x6e9bbd0> >, <lsst.afw.math.mathLib.Kernel; proxy of <Swig Object of type 'boost::shared_ptr< lsst::afw::math::Kernel > *' at 0x6e9bba0> >, <lsst.afw.math.mathLib.Kernel; proxy of <Swig Object of type 'boost::shared_ptr< lsst::afw::math::Kernel > *' at 0x6e9bb40> >, <lsst.afw.math.mathLib.Kernel; proxy of <Swig Object of type 'boost::shared_ptr< lsst::afw::math::Kernel > *' at 0x6e9bb10> >, <lsst.afw.math.mathLib.Kernel; proxy of <Swig Object of type 'boost::shared_ptr< lsst::afw::math::Kernel > *' at 0x6e9bae0> >)\n",
        "<lsst.afw.math.mathLib.LinearCombinationKernel; proxy of <Swig Object of type 'boost::shared_ptr< lsst::afw::math::LinearCombinationKernel > *' at 0x6e9ba20> >"
       ]
      },
      {
       "output_type": "stream",
       "stream": "stdout",
       "text": [
        "\n"
       ]
      }
     ],
     "prompt_number": 20
    },
    {
     "cell_type": "code",
     "collapsed": false,
     "input": [
      "#differenceExposure.writeFits(OutputPath+'/33,15.fits')\n",
      "import lsst.afw.display.ds9 as ds9\n",
      "\n",
      "psf = results.psfMatchingKernel\n",
      "kImageOut = afwImage.ImageD(psf.getDimensions())\n",
      "ds9.mtv(kImageOut, frame=1)\n",
      "\n",
      "im1psf = afwImage.ImageD(psf.getDimensions())\n",
      "\n",
      "\n",
      "psf.computeImage(im1psf, False)\n",
      "ds9.mtv(im1psf, frame=1)\n",
      "\n",
      "import lsst.meas.algorithms.utils as measUtils\n",
      "cellSet = results.kernelCellSet\n",
      "measUtils.showPsfMosaic(results.matchedImage, psf=psf, frame=2)\n",
      "#psfIm = psf.computeImage()\n",
      "#ds9.mtv(psfIm, frame=frame, title=\"Psf Image\"); frame += 1\n",
      "\n",
      "#import lsst.meas.algorithms.utils as measUtils\n",
      "#cellSet = results.kernelCellSet\n",
      "#measUtils.showPsfMosaic(differenceExposure, psf=psf, frame=1)"
     ],
     "language": "python",
     "metadata": {},
     "outputs": [
      {
       "ename": "NotImplementedError",
       "evalue": "Wrong number or type of arguments for overloaded function 'Kernel_computeImage'.\n  Possible C/C++ prototypes are:\n    lsst::afw::math::Kernel::computeImage(lsst::afw::image::Image< lsst::afw::math::Kernel::Pixel > &,bool,double,double) const\n    lsst::afw::math::Kernel::computeImage(lsst::afw::image::Image< lsst::afw::math::Kernel::Pixel > &,bool,double) const\n    lsst::afw::math::Kernel::computeImage(lsst::afw::image::Image< lsst::afw::math::Kernel::Pixel > &,bool) const\n",
       "output_type": "pyerr",
       "traceback": [
        "\u001b[1;31m---------------------------------------------------------------------------\u001b[0m\n\u001b[1;31mNotImplementedError\u001b[0m                       Traceback (most recent call last)",
        "\u001b[1;32m<ipython-input-29-55c94b6caf79>\u001b[0m in \u001b[0;36m<module>\u001b[1;34m()\u001b[0m\n\u001b[0;32m     14\u001b[0m \u001b[1;32mimport\u001b[0m \u001b[0mlsst\u001b[0m\u001b[1;33m.\u001b[0m\u001b[0mmeas\u001b[0m\u001b[1;33m.\u001b[0m\u001b[0malgorithms\u001b[0m\u001b[1;33m.\u001b[0m\u001b[0mutils\u001b[0m \u001b[1;32mas\u001b[0m \u001b[0mmeasUtils\u001b[0m\u001b[1;33m\u001b[0m\u001b[0m\n\u001b[0;32m     15\u001b[0m \u001b[0mcellSet\u001b[0m \u001b[1;33m=\u001b[0m \u001b[0mresults\u001b[0m\u001b[1;33m.\u001b[0m\u001b[0mkernelCellSet\u001b[0m\u001b[1;33m\u001b[0m\u001b[0m\n\u001b[1;32m---> 16\u001b[1;33m \u001b[0mmeasUtils\u001b[0m\u001b[1;33m.\u001b[0m\u001b[0mshowPsfMosaic\u001b[0m\u001b[1;33m(\u001b[0m\u001b[0mresults\u001b[0m\u001b[1;33m.\u001b[0m\u001b[0mmatchedImage\u001b[0m\u001b[1;33m,\u001b[0m \u001b[0mpsf\u001b[0m\u001b[1;33m=\u001b[0m\u001b[0mpsf\u001b[0m\u001b[1;33m,\u001b[0m \u001b[0mframe\u001b[0m\u001b[1;33m=\u001b[0m\u001b[1;36m2\u001b[0m\u001b[1;33m)\u001b[0m\u001b[1;33m\u001b[0m\u001b[0m\n\u001b[0m\u001b[0;32m     17\u001b[0m \u001b[1;31m#psfIm = psf.computeImage()\u001b[0m\u001b[1;33m\u001b[0m\u001b[1;33m\u001b[0m\u001b[0m\n\u001b[0;32m     18\u001b[0m \u001b[1;31m#ds9.mtv(psfIm, frame=frame, title=\"Psf Image\"); frame += 1\u001b[0m\u001b[1;33m\u001b[0m\u001b[1;33m\u001b[0m\u001b[0m\n",
        "\u001b[1;32m/renoir_data_00/jpreyes/stacks/v9_2_copy/Linux64/meas_algorithms/9.2/python/lsst/meas/algorithms/utils.pyc\u001b[0m in \u001b[0;36mshowPsfMosaic\u001b[1;34m(exposure, psf, nx, ny, showCenter, showEllipticity, showFwhm, stampSize, frame, title)\u001b[0m\n\u001b[0;32m    661\u001b[0m             \u001b[0my\u001b[0m \u001b[1;33m=\u001b[0m \u001b[0mint\u001b[0m\u001b[1;33m(\u001b[0m\u001b[0miy\u001b[0m\u001b[1;33m*\u001b[0m\u001b[1;33m(\u001b[0m\u001b[0mheight\u001b[0m\u001b[1;33m-\u001b[0m\u001b[1;36m1\u001b[0m\u001b[1;33m)\u001b[0m\u001b[1;33m/\u001b[0m\u001b[1;33m(\u001b[0m\u001b[0mny\u001b[0m\u001b[1;33m-\u001b[0m\u001b[1;36m1\u001b[0m\u001b[1;33m)\u001b[0m\u001b[1;33m)\u001b[0m \u001b[1;33m+\u001b[0m \u001b[0my0\u001b[0m\u001b[1;33m\u001b[0m\u001b[0m\n\u001b[0;32m    662\u001b[0m \u001b[1;33m\u001b[0m\u001b[0m\n\u001b[1;32m--> 663\u001b[1;33m             \u001b[0mim\u001b[0m \u001b[1;33m=\u001b[0m \u001b[0mpsf\u001b[0m\u001b[1;33m.\u001b[0m\u001b[0mcomputeImage\u001b[0m\u001b[1;33m(\u001b[0m\u001b[0mafwGeom\u001b[0m\u001b[1;33m.\u001b[0m\u001b[0mPointD\u001b[0m\u001b[1;33m(\u001b[0m\u001b[0mx\u001b[0m\u001b[1;33m,\u001b[0m \u001b[0my\u001b[0m\u001b[1;33m)\u001b[0m\u001b[1;33m)\u001b[0m\u001b[1;33m.\u001b[0m\u001b[0mconvertF\u001b[0m\u001b[1;33m(\u001b[0m\u001b[1;33m)\u001b[0m\u001b[1;33m\u001b[0m\u001b[0m\n\u001b[0m\u001b[0;32m    664\u001b[0m             \u001b[0mimPeak\u001b[0m \u001b[1;33m=\u001b[0m \u001b[0mpsf\u001b[0m\u001b[1;33m.\u001b[0m\u001b[0mcomputePeak\u001b[0m\u001b[1;33m(\u001b[0m\u001b[0mafwGeom\u001b[0m\u001b[1;33m.\u001b[0m\u001b[0mPointD\u001b[0m\u001b[1;33m(\u001b[0m\u001b[0mx\u001b[0m\u001b[1;33m,\u001b[0m \u001b[0my\u001b[0m\u001b[1;33m)\u001b[0m\u001b[1;33m)\u001b[0m\u001b[1;33m\u001b[0m\u001b[0m\n\u001b[0;32m    665\u001b[0m             \u001b[0mim\u001b[0m \u001b[1;33m/=\u001b[0m \u001b[0mimPeak\u001b[0m\u001b[1;33m\u001b[0m\u001b[0m\n",
        "\u001b[1;32m/renoir_data_00/jpreyes/stacks/v9_2_copy/Linux64/afw/9.2/python/lsst/afw/math/mathLib.pyc\u001b[0m in \u001b[0;36mcomputeImage\u001b[1;34m(self, *args)\u001b[0m\n\u001b[0;32m   3627\u001b[0m         \u001b[0mcomputeImage\u001b[0m\u001b[1;33m(\u001b[0m\u001b[0mKernel\u001b[0m \u001b[0mself\u001b[0m\u001b[1;33m,\u001b[0m \u001b[0mImageD\u001b[0m \u001b[0mimage\u001b[0m\u001b[1;33m,\u001b[0m \u001b[0mbool\u001b[0m \u001b[0mdoNormalize\u001b[0m\u001b[1;33m)\u001b[0m \u001b[1;33m-\u001b[0m\u001b[1;33m>\u001b[0m \u001b[0mdouble\u001b[0m\u001b[1;33m\u001b[0m\u001b[0m\n\u001b[0;32m   3628\u001b[0m         \"\"\"\n\u001b[1;32m-> 3629\u001b[1;33m         \u001b[1;32mreturn\u001b[0m \u001b[0m_mathLib\u001b[0m\u001b[1;33m.\u001b[0m\u001b[0mKernel_computeImage\u001b[0m\u001b[1;33m(\u001b[0m\u001b[0mself\u001b[0m\u001b[1;33m,\u001b[0m \u001b[1;33m*\u001b[0m\u001b[0margs\u001b[0m\u001b[1;33m)\u001b[0m\u001b[1;33m\u001b[0m\u001b[0m\n\u001b[0m\u001b[0;32m   3630\u001b[0m \u001b[1;33m\u001b[0m\u001b[0m\n\u001b[0;32m   3631\u001b[0m     \u001b[1;32mdef\u001b[0m \u001b[0mgetDimensions\u001b[0m\u001b[1;33m(\u001b[0m\u001b[0mself\u001b[0m\u001b[1;33m)\u001b[0m\u001b[1;33m:\u001b[0m\u001b[1;33m\u001b[0m\u001b[0m\n",
        "\u001b[1;31mNotImplementedError\u001b[0m: Wrong number or type of arguments for overloaded function 'Kernel_computeImage'.\n  Possible C/C++ prototypes are:\n    lsst::afw::math::Kernel::computeImage(lsst::afw::image::Image< lsst::afw::math::Kernel::Pixel > &,bool,double,double) const\n    lsst::afw::math::Kernel::computeImage(lsst::afw::image::Image< lsst::afw::math::Kernel::Pixel > &,bool,double) const\n    lsst::afw::math::Kernel::computeImage(lsst::afw::image::Image< lsst::afw::math::Kernel::Pixel > &,bool) const\n"
       ]
      }
     ],
     "prompt_number": 29
    },
    {
     "cell_type": "code",
     "collapsed": false,
     "input": [
      "print results.psfMatchingKernel.toString\n",
      "\n",
      "import lsst.afw.display.ds9 as ds9\n",
      "import time\n",
      "\n",
      "arrow1sn =[(141,141),(160,160)]\n",
      "arrow2sn =[(141,145),(141,141),(145,141)]\n",
      "\n",
      "try:\n",
      "    os.remove('fig1.png')\n",
      "    os.remove('fig2.png')\n",
      "    os.remove('fig3.png')\n",
      "except(os.error):\n",
      "    pass\n",
      "#firstImage = afwImage.ExposureF(Set1Path)\n",
      "ds9.mtv(firstImage, frame=1)\n",
      "ds9.scale(type='zscale', frame=1)\n",
      "ds9.zoom(4,141,141, frame=1)\n",
      "ds9.setMaskTransparency(70, frame=1)\n",
      "ds9.line(arrow1sn,ctype='red', frame=1)\n",
      "ds9.line(arrow2sn,ctype='red', frame=1)\n",
      "ds9.dot('look for the SN !',131,151, frame=1)\n",
      "time.sleep(2)\n",
      "ds9.ds9Cmd('saveimage fig1.png', frame=1)\n",
      "time.sleep(2)\n",
      "\n",
      "\n",
      "ds9.mtv(secondImage, frame=2)\n",
      "ds9.scale(type='zscale', frame=2)\n",
      "ds9.zoom(4,141,141, frame=2)\n",
      "ds9.setMaskTransparency(70, frame=2)\n",
      "ds9.line(arrow1sn,ctype='red', frame=2)\n",
      "ds9.line(arrow2sn,ctype='red', frame=2)\n",
      "ds9.dot('look for the SN !',131,151, frame=2)\n",
      "time.sleep(2)\n",
      "ds9.ds9Cmd('saveimage fig2.png', frame=2)\n",
      "time.sleep(2)\n",
      "ds9.mtv(differenceExposure, frame=3)\n",
      "ds9.scale(type='zscale', frame=3)\n",
      "ds9.zoom(4,141,141, frame=3)\n",
      "ds9.setMaskTransparency(70, frame=3)\n",
      "ds9.line(arrow1sn,ctype='red', frame=3)\n",
      "ds9.line(arrow2sn,ctype='red', frame=3)\n",
      "ds9.dot('look for the SN !',131,151, frame=3)\n",
      "time.sleep(2)\n",
      "ds9.ds9Cmd('saveimage fig3.png', frame=3)\n",
      "time.sleep(2)\n",
      "\n",
      "\n",
      "from IPython.display import Image, display_png\n",
      "i1 =  Image(filename = 'fig1.png')\n",
      "i2 = Image(filename = 'fig2.png')\n",
      "i3 = Image(filename = 'fig3.png')\n",
      "display_png(i1)\n",
      "display_png(i2)\n",
      "display_png(i3)"
     ],
     "language": "python",
     "metadata": {},
     "outputs": [
      {
       "output_type": "stream",
       "stream": "stdout",
       "text": [
        "<bound method LinearCombinationKernel.toString of <lsst.afw.math.mathLib.LinearCombinationKernel; proxy of <Swig Object of type 'boost::shared_ptr< lsst::afw::math::LinearCombinationKernel > *' at 0xb9e73c0> >>\n"
       ]
      },
      {
       "metadata": {},
       "output_type": "display_data",
       "png": "[encoded data removed]"
      },
      {
       "metadata": {},
       "output_type": "display_data",
       "png": "[encoded data removed]"
      },
      {
       "metadata": {},
       "output_type": "display_data",
       "png": "[encoded data removed]"
      }
     ],
     "prompt_number": 10
    },
    {
     "cell_type": "code",
     "collapsed": false,
     "input": [
      "import lsst.pipe.tasks.processCoadd as CoaddProcesser\n",
      "\n",
      "DATADIR2=\"/renoir_data_02/jpreyes/lsst_data/data/CFHTLS-4\"\n",
      "\n",
      "CPTask = CoaddProcesser.ProcessCoaddTask\n",
      "#CPTask.parseAndRun(args=((DATASUB3+\"/output/coadd_r_dir --output \"+DATASUB3+\"/output/coadd_r_dir/deepCoaddDetect @\"+DATASUB3+\"/patches_r.txt\").split()))\n",
      "CPTask.parseAndRun(args=((DATADIR2+\"/output/coadd_r_dir --output \"+DATADIR2+\"/output/coadd_r_dir/deepCoaddDetect --id filter=r tract=1 patch=33,15 --config doCalibrate=False doWriteSourceMatches=False --clobber-config\").split()))\n",
      "#CPTask.parseAndRun(args=((DATASUB5+\"/output/coadd_r_dir --output \"+DATASUB5+\"/output/coadd_r_dir/deepCoaddDetect @\"+DATASUB5+\"/patches_r.txt\").split()))"
     ],
     "language": "python",
     "metadata": {},
     "outputs": [
      {
       "metadata": {},
       "output_type": "pyout",
       "prompt_number": 42,
       "text": [
        "Struct(taskRunner=<lsst.pipe.base.cmdLineTask.TaskRunner object at 0x11309190>; parsedCmd=Namespace(butler=<lsst.daf.persistence.butler.Butler object at 0x9b79290>, calib=None, camera='megacam', clobberConfig=True, clobberOutput=False, config=lsst.pipe.tasks.processCoadd.ProcessCoaddConfig(doWriteHeavyFootprintsInSources=False, doWriteSources=True, doDetection=True, doScaleVariance=True, doWriteSourceMatches=False, coaddName='deep', detection={'reEstimateBackground': True, 'nSigmaToGrow': 2.4, 'minPixels': 1, 'includeThresholdMultiplier': 1.0, 'isotropicGrow': True, 'adjustBackground': 0.0, 'thresholdType': 'stdev', 'background': {'ignoredPixelMask': ['EDGE', 'DETECTED', 'DETECTED_NEGATIVE'], 'undersampleStyle': 'REDUCE_INTERP_ORDER', 'algorithm': 'NATURAL_SPLINE', 'binSize': 256, 'isNanSafe': False, 'statisticsProperty': 'MEANCLIP'}, 'returnOriginalFootprints': False, 'thresholdPolarity': 'positive', 'thresholdValue': 5.0}, doWriteCalibrateMatches=True, doDeblend=True, calibrate={'initialPsf': {'fwhm': 1.0, 'model': 'SingleGaussian', 'pixelScale': 0.25, 'size': 15}, 'repair': {'doInterpolate': False, 'doCosmicRay': False, 'cosmicray': {'keepCRs': False, 'cond3_fac2': 0.6, 'cond3_fac': 2.5, 'nCrPixelMax': 10000, 'niteration': 3, 'minSigma': 6.0, 'min_DN': 150.0}}, 'doPsf': False, 'astrometry': {'rejectIter': 3, 'forceKnownWcs': True, 'rejectThresh': 3.0, 'solver': {'cleaningParameter': 3.0, 'pixelScaleUncertainty': 1.1, 'catalogMatchDist': 1.0, 'useWcsParity': True, 'sipOrder': 4, 'useWcsRaDecCenter': True, 'matchThreshold': 27.631021115928547, 'useWcsPixelScale': True, 'maxStars': 50, 'allFluxes': True, 'calculateSip': False, 'maxCpuTime': 0.0, 'filterMap': {}, 'raDecSearchRadius': 1.0}}, 'doBackground': True, 'detection': {'reEstimateBackground': True, 'nSigmaToGrow': 2.4, 'minPixels': 1, 'includeThresholdMultiplier': 10.0, 'isotropicGrow': False, 'adjustBackground': 0.0, 'thresholdType': 'stdev', 'background': {'ignoredPixelMask': ['EDGE', 'DETECTED', 'DETECTED_NEGATIVE'], 'undersampleStyle': 'REDUCE_INTERP_ORDER', 'algorithm': 'NATURAL_SPLINE', 'binSize': 256, 'isNanSafe': False, 'statisticsProperty': 'MEANCLIP'}, 'returnOriginalFootprints': True, 'thresholdPolarity': 'positive', 'thresholdValue': 5.0}, 'doPhotoCal': False, 'initialMeasurement': {'doReplaceWithNoise': True, 'centroider': {'values': {'centroid.sdss': {'priority': 0.0, 'peakMin': -1.0, 'binmax': 16, 'wfac': 1.5}, 'centroid.naive': {'priority': 0.0, 'background': 0.0}, 'centroid.gaussian': {'priority': 0.0}}, 'name': 'centroid.sdss'}, 'prefix': None, 'algorithms': {'values': {'centroid.sdss': {'priority': 0.0, 'peakMin': -1.0, 'binmax': 16, 'wfac': 1.5}, 'flux.psf': {'priority': 2.0}, 'flux.dipole.psf': {'priority': 2.0, 'stepSizeFlux': 1.0, 'stepSizeCoord': 0.10000000149011612, 'maxPixels': 500, 'errorDef': 1.0, 'maxFnCalls': 100000}, 'flags.pixel': {'priority': 0.0}, 'centroid.gaussian': {'priority': 0.0}, 'centroid.record': {'priority': 5.0}, 'flux.aperture': {'priority': 2.0, 'radii': [0.0, 0.0, 0.0, 0.0, 0.0, 0.0, 0.0, 0.0, 0.0, 0.0, 1.0, 1.5625, 2.44140625, 3.814697265625, 5.9604644775390625, 9.313225746154785, 14.551915228366852, 22.737367544323206, 35.52713678800501, 55.51115123125783]}, 'centroid.dipole.naive': {'priority': 0.0}, 'flux.naive': {'priority': 2.0, 'radius': 7.0}, 'flux.gaussian': {'shapeFlag': '.flags', 'tol2': 9.999999747378752e-05, 'tol1': 9.999999747378752e-06, 'priority': 2.0, 'shape': 'shape.sdss', 'centroid': 'shape.sdss.centroid', 'background': 0.0, 'maxIter': 100, 'fixed': False, 'shiftmax': 10.0}, 'centroid.naive': {'priority': 0.0, 'background': 0.0}, 'flux.sinc': {'priority': 2.0, 'radius1': 0.0, 'radius2': 7.0, 'angle': 0.0, 'ellipticity': 0.0}, 'shape.sdss': {'priority': 1.0, 'tol2': 9.999999747378752e-05, 'tol1': 9.999999747378752e-06, 'background': 0.0, 'maxIter': 100}, 'flux.aperture.elliptical': {'priority': 1.899999976158142, 'radii': [0.0, 0.0, 0.0, 0.0, 0.0, 0.0, 0.0, 0.0, 0.0, 0.0, 1.0, 1.5625, 2.44140625, 3.814697265625, 5.9604644775390625, 9.313225746154785, 14.551915228366852, 22.737367544323206, 35.52713678800501, 55.51115123125783]}, 'flux.peakLikelihood': {'priority': 2.0, 'warpingKernelName': 'lanczos4'}, 'correctfluxes': {'doApCorr': True, 'canonicalFluxName': 'flux.psf', 'apCorrRadius': 7.0, 'priority': 3.0, 'doFlagTieFailures': True, 'doFlagApCorrFailures': True, 'canonicalFluxIndex': 0, 'doTieScaledFluxes': True}, 'classification.extendedness': {'priority': 5.0, 'psfErrFactor': 0.0, 'modelErrFactor': 0.0, 'fluxRatio': 0.925}, 'skycoord': {'priority': 5.0}, 'flux.dipole.naive': {'priority': 2.0}}, 'names': ['flux.psf', 'flags.pixel', 'shape.sdss', 'flux.naive', 'flux.gaussian', 'centroid.naive', 'flux.sinc', 'centroid.gaussian', 'skycoord']}, 'replaceWithNoise': {'noiseSeed': 0, 'noiseOffset': 0.0, 'noiseSource': 'measure'}, 'slots': {'psfFlux': 'flux.psf', 'apFlux': 'flux.sinc', 'instFlux': 'flux.gaussian', 'shape': 'shape.sdss', 'centroid': 'centroid.sdss', 'modelFlux': 'flux.gaussian'}}, 'measurePsf': {'psfDeterminer': {'values': {'pca': {'kernelSizeMax': 45, 'lam': 0.05, 'reducedChi2ForPsfCandidates': 2.0, 'nonLinearSpatialFit': False, 'spatialOrder': 2, 'doMaskBlends': True, 'sizeCellX': 256, 'sizeCellY': 256, 'spatialReject': 3.0, 'kernelSize': 10.0, 'constantWeight': True, 'nIterForPsf': 3, 'doRejectBlends': False, 'borderWidth': 0, 'nEigenComponents': 4, 'pixelThreshold': 0.0, 'nStarPerCellSpatialFit': 5, 'tolerance': 0.01, 'kernelSizeMin': 25, 'nStarPerCell': 3}}, 'name': 'pca'}, 'starSelector': {'values': {'objectSize': {'widthMax': 10.0, 'widthMin': 0.0, 'kernelSize': 21, 'fluxMin': 12500.0, 'borderWidth': 0, 'badFlags': ['base_PixelFlags_flag_edge', 'base_PixelFlags_flag_interpolatedCenter', 'base_PixelFlags_flag_saturatedCenter', 'base_PixelFlags_flag_crCenter'], 'fluxMax': 0.0, 'sourceFluxField': 'base_GaussianFlux_flux'}, 'diacatalog': {'grMax': 3.0, 'grMin': 0.0, 'selectGalaxy': False, 'selectStar': True, 'badPixelFlags': ['flags.pixel.edge', 'flags.pixel.interpolated.center', 'flags.pixel.saturated.center', 'flags.badcentroid'], 'fluxMax': 0.0, 'includeVariable': False, 'fluxLim': 0.0}, 'catalog': {'fluxLim': 0.0, 'borderWidth': 0, 'fluxMax': 0.0, 'kernelSize': 21, 'badStarPixelFlags': ['base_PixelFlags_flag_edge', 'base_PixelFlags_flag_interpolatedCenter', 'base_PixelFlags_flag_saturatedCenter', 'base_PixelFlags_flag_edge', 'base_PixelFlags_flag_interpolatedCenter', 'base_PixelFlags_flag_saturatedCenter']}, 'secondMoment': {'kernelSize': 21, 'histMomentMinMultiplier': 2.0, 'histSize': 64, 'histMomentClip': 5.0, 'borderWidth': 0, 'badFlags': ['base_PixelFlags_flag_edge', 'base_PixelFlags_flag_interpolatedCenter', 'base_PixelFlags_flag_saturatedCenter', 'base_PixelFlags_flag_crCenter'], 'histMomentMaxMultiplier': 5.0, 'fluxMax': 0.0, 'clumpNSigma': 2.0, 'fluxLim': 12500.0, 'histMomentMax': 100.0}, 'sizeMagnitude': {'startn1': 0.1, 'starsperbin': 30, 'fitorder': 1, 'minmag': 0.0, 'starfrac': 0.5, 'maxmag': 1e+100, 'logsize': False, 'minsize': 0.0, 'aperture': 5.0, 'maxsize': 1e+100, 'fitsigclip': 4.0, 'purityratio': 0.05}}, 'name': 'secondMoment'}}, 'background': {'ignoredPixelMask': ['EDGE', 'DETECTED', 'DETECTED_NEGATIVE'], 'undersampleStyle': 'REDUCE_INTERP_ORDER', 'algorithm': 'NATURAL_SPLINE', 'binSize': 1024, 'isNanSafe': False, 'statisticsProperty': 'MEANCLIP'}, 'measurement': {'doReplaceWithNoise': True, 'centroider': {'values': {'centroid.sdss': {'priority': 0.0, 'peakMin': -1.0, 'binmax': 16, 'wfac': 1.5}, 'centroid.naive': {'priority': 0.0, 'background': 0.0}, 'centroid.gaussian': {'priority': 0.0}}, 'name': 'centroid.sdss'}, 'prefix': None, 'algorithms': {'values': {'centroid.sdss': {'priority': 0.0, 'peakMin': -1.0, 'binmax': 16, 'wfac': 1.5}, 'flux.psf': {'priority': 2.0}, 'flux.dipole.psf': {'priority': 2.0, 'stepSizeFlux': 1.0, 'stepSizeCoord': 0.10000000149011612, 'maxPixels': 500, 'errorDef': 1.0, 'maxFnCalls': 100000}, 'flags.pixel': {'priority': 0.0}, 'centroid.gaussian': {'priority': 0.0}, 'centroid.record': {'priority': 5.0}, 'flux.aperture': {'priority': 2.0, 'radii': [0.0, 0.0, 0.0, 0.0, 0.0, 0.0, 0.0, 0.0, 0.0, 0.0, 1.0, 1.5625, 2.44140625, 3.814697265625, 5.9604644775390625, 9.313225746154785, 14.551915228366852, 22.737367544323206, 35.52713678800501, 55.51115123125783]}, 'centroid.dipole.naive': {'priority': 0.0}, 'flux.naive': {'priority': 2.0, 'radius': 7.0}, 'flux.gaussian': {'shapeFlag': '.flags', 'tol2': 9.999999747378752e-05, 'tol1': 9.999999747378752e-06, 'priority': 2.0, 'shape': 'shape.sdss', 'centroid': 'shape.sdss.centroid', 'background': 0.0, 'maxIter': 100, 'fixed': False, 'shiftmax': 10.0}, 'centroid.naive': {'priority': 0.0, 'background': 0.0}, 'flux.sinc': {'priority': 2.0, 'radius1': 0.0, 'radius2': 7.0, 'angle': 0.0, 'ellipticity': 0.0}, 'shape.sdss': {'priority': 1.0, 'tol2': 9.999999747378752e-05, 'tol1': 9.999999747378752e-06, 'background': 0.0, 'maxIter': 100}, 'flux.aperture.elliptical': {'priority': 1.899999976158142, 'radii': [0.0, 0.0, 0.0, 0.0, 0.0, 0.0, 0.0, 0.0, 0.0, 0.0, 1.0, 1.5625, 2.44140625, 3.814697265625, 5.9604644775390625, 9.313225746154785, 14.551915228366852, 22.737367544323206, 35.52713678800501, 55.51115123125783]}, 'flux.peakLikelihood': {'priority': 2.0, 'warpingKernelName': 'lanczos4'}, 'correctfluxes': {'doApCorr': True, 'canonicalFluxName': 'flux.psf', 'apCorrRadius': 7.0, 'priority': 3.0, 'doFlagTieFailures': True, 'doFlagApCorrFailures': True, 'canonicalFluxIndex': 0, 'doTieScaledFluxes': True}, 'classification.extendedness': {'priority': 5.0, 'psfErrFactor': 0.0, 'modelErrFactor': 0.0, 'fluxRatio': 0.925}, 'skycoord': {'priority': 5.0}, 'flux.dipole.naive': {'priority': 2.0}}, 'names': ['flux.psf', 'flags.pixel', 'centroid.gaussian', 'flux.naive', 'flux.gaussian', 'centroid.naive', 'flux.sinc', 'shape.sdss', 'correctfluxes', 'classification.extendedness', 'skycoord']}, 'replaceWithNoise': {'noiseSeed': 0, 'noiseOffset': 0.0, 'noiseSource': 'measure'}, 'slots': {'psfFlux': 'flux.psf', 'apFlux': 'flux.sinc', 'instFlux': 'flux.gaussian', 'shape': 'shape.sdss', 'centroid': 'centroid.sdss', 'modelFlux': 'flux.gaussian'}}, 'photocal': {'nIter': 20, 'fluxField': 'base_PsfFlux_flux', 'magLimit': 22.0, 'sigmaMax': 0.25, 'nSigma': 3.0, 'goodFlags': [], 'applyColorTerms': True, 'badFlags': ['base_PixelFlags_flag_edge', 'base_PixelFlags_flag_interpolated', 'base_PixelFlags_flag_saturated'], 'useMedian': True, 'doWriteOutput': True}, 'doAstrometry': True}, measurement={'doReplaceWithNoise': True, 'centroider': {'values': {'centroid.sdss': {'priority': 0.0, 'peakMin': -1.0, 'binmax': 16, 'wfac': 1.5}, 'centroid.naive': {'priority': 0.0, 'background': 0.0}, 'centroid.gaussian': {'priority': 0.0}}, 'name': 'centroid.sdss'}, 'prefix': None, 'algorithms': {'values': {'centroid.sdss': {'priority': 0.0, 'peakMin': -1.0, 'binmax': 16, 'wfac': 1.5}, 'flux.psf': {'priority': 2.0}, 'flux.dipole.psf': {'priority': 2.0, 'stepSizeFlux': 1.0, 'stepSizeCoord': 0.10000000149011612, 'maxPixels': 500, 'errorDef': 1.0, 'maxFnCalls': 100000}, 'flags.pixel': {'priority': 0.0}, 'centroid.gaussian': {'priority': 0.0}, 'centroid.record': {'priority': 5.0}, 'flux.aperture': {'priority': 2.0, 'radii': [0.0, 0.0, 0.0, 0.0, 0.0, 0.0, 0.0, 0.0, 0.0, 0.0, 1.0, 1.5625, 2.44140625, 3.814697265625, 5.9604644775390625, 9.313225746154785, 14.551915228366852, 22.737367544323206, 35.52713678800501, 55.51115123125783]}, 'centroid.dipole.naive': {'priority': 0.0}, 'flux.naive': {'priority': 2.0, 'radius': 7.0}, 'flux.gaussian': {'shapeFlag': '.flags', 'tol2': 9.999999747378752e-05, 'tol1': 9.999999747378752e-06, 'priority': 2.0, 'shape': 'shape.sdss', 'centroid': 'shape.sdss.centroid', 'background': 0.0, 'maxIter': 100, 'fixed': False, 'shiftmax': 10.0}, 'centroid.naive': {'priority': 0.0, 'background': 0.0}, 'flux.sinc': {'priority': 2.0, 'radius1': 0.0, 'radius2': 7.0, 'angle': 0.0, 'ellipticity': 0.0}, 'shape.sdss': {'priority': 1.0, 'tol2': 9.999999747378752e-05, 'tol1': 9.999999747378752e-06, 'background': 0.0, 'maxIter': 100}, 'flux.aperture.elliptical': {'priority': 1.899999976158142, 'radii': [0.0, 0.0, 0.0, 0.0, 0.0, 0.0, 0.0, 0.0, 0.0, 0.0, 1.0, 1.5625, 2.44140625, 3.814697265625, 5.9604644775390625, 9.313225746154785, 14.551915228366852, 22.737367544323206, 35.52713678800501, 55.51115123125783]}, 'flux.peakLikelihood': {'priority': 2.0, 'warpingKernelName': 'lanczos4'}, 'correctfluxes': {'doApCorr': True, 'canonicalFluxName': 'flux.psf', 'apCorrRadius': 7.0, 'priority': 3.0, 'doFlagTieFailures': True, 'doFlagApCorrFailures': True, 'canonicalFluxIndex': 0, 'doTieScaledFluxes': True}, 'classification.extendedness': {'priority': 5.0, 'psfErrFactor': 0.0, 'modelErrFactor': 0.0, 'fluxRatio': 0.925}, 'skycoord': {'priority': 5.0}, 'flux.dipole.naive': {'priority': 2.0}}, 'names': ['flux.psf', 'flags.pixel', 'shape.sdss', 'flux.naive', 'flux.gaussian', 'centroid.naive', 'flux.sinc', 'centroid.gaussian', 'correctfluxes', 'classification.extendedness', 'skycoord']}, 'replaceWithNoise': {'noiseSeed': 0, 'noiseOffset': 0.0, 'noiseSource': 'measure'}, 'slots': {'psfFlux': 'flux.psf', 'apFlux': 'flux.sinc', 'instFlux': 'flux.gaussian', 'shape': 'shape.sdss', 'centroid': 'centroid.sdss', 'modelFlux': 'flux.gaussian'}}, doMeasurement=True, deblend={'edgeHandling': 'ramp', 'assignStrayFlux': True, 'strayFluxRule': 'r-to-peak', 'strayFluxToPointSources': 'necessary', 'psfChisq2b': 1.5, 'maxFootprintArea': 100000, 'tinyFootprintSize': 2, 'findStrayFlux': True, 'psfChisq1': 1.5, 'psfChisq2': 1.5, 'maxNumberOfPeaks': 20, 'clipStrayFluxFraction': 0.01}, doCalibrate=False, persistBackgroundModel=True, doWriteCalibrate=True), debug=False, doraise=False, id=<lsst.coadd.utils.coaddDataIdContainer.CoaddDataIdContainer object at 0x9b79f90>, input='/renoir_data_02/jpreyes/lsst_data/data/CFHTLS-4/output/coadd_r_dir', log=<lsst.pex.logging.loggingLib.Log; proxy of <Swig Object of type 'lsst::pex::logging::Log *' at 0x11306840> >, obsPkg='obs_cfht', output='/renoir_data_02/jpreyes/lsst_data/data/CFHTLS-4/output/coadd_r_dir/deepCoaddDetect', processes=1, profile=None, show=(), timeout=None, trace=None); resultList=[None]; argumentParser=ArgumentParser(prog='-c', usage='%(prog)s input [options]', description=None, version=None, formatter_class=<class 'argparse.RawDescriptionHelpFormatter'>, conflict_handler='error', add_help=True))"
       ]
      }
     ],
     "prompt_number": 42
    },
    {
     "cell_type": "code",
     "collapsed": false,
     "input": [],
     "language": "python",
     "metadata": {},
     "outputs": []
    }
   ],
   "metadata": {}
  }
 ]
}