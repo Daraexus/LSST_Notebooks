{
 "metadata": {
  "name": ""
 },
 "nbformat": 3,
 "nbformat_minor": 0,
 "worksheets": [
  {
   "cells": [
    {
     "cell_type": "heading",
     "level": 1,
     "metadata": {},
     "source": [
      "Coaddition basic configuration"
     ]
    },
    {
     "cell_type": "markdown",
     "metadata": {},
     "source": [
      "In order to ingest the image, we import the Ingest class as an Ingester"
     ]
    },
    {
     "cell_type": "code",
     "collapsed": false,
     "input": [
      "import glob\n",
      "import lsst.pipe.tasks.ingest as Ingester"
     ],
     "language": "python",
     "metadata": {},
     "outputs": [],
     "prompt_number": 43
    },
    {
     "cell_type": "markdown",
     "metadata": {},
     "source": [
      "We need to instantiate the task as well as the configuration and parser classes.\n",
      "\n",
      "IMPORTANT: a file _mapper has to exist in the input folder with the line 'lsst.echo.cfht.MegacamMapper' or the method will not run!\n",
      "\n",
      "Usually, by command line, a wildcard can be used to express a list of files. However, the wildcard is interpreted by the shell and split in a long line with all the list of arguments. In order to ensure that the same is beind done here, we have to manually generate the list from the wildcard and put in a valid string format."
     ]
    },
    {
     "cell_type": "code",
     "collapsed": false,
     "input": [
      "ITask = Ingester.IngestTask\n",
      "IConfig = ITask.ConfigClass()\n",
      "IParser = ITask.ArgumentParser(\"ingest\")\n",
      "Files = glob.glob(\"../../data/raw/*.fz\")\n",
      "SFiles = ' '.join(Files)\n",
      "print(SFiles)\n"
     ],
     "language": "python",
     "metadata": {},
     "outputs": [
      {
       "output_type": "stream",
       "stream": "stdout",
       "text": [
        "../../data/raw/739518p.fits.fz ../../data/raw/739520p.fits.fz ../../data/raw/739521p.fits.fz ../../data/raw/739522p.fits.fz ../../data/raw/741666p.fits.fz ../../data/raw/741667p.fits.fz ../../data/raw/741668p.fits.fz ../../data/raw/741670p.fits.fz ../../data/raw/789045p.fits.fz ../../data/raw/792245p.fits.fz ../../data/raw/792453p.fits.fz ../../data/raw/793312p.fits.fz ../../data/raw/739519p.fits.fz\n"
       ]
      }
     ],
     "prompt_number": 65
    },
    {
     "cell_type": "markdown",
     "metadata": {},
     "source": [
      "Parameters should be given to the parser the same way they should be used as parameter though the terminal"
     ]
    },
    {
     "cell_type": "code",
     "collapsed": false,
     "input": [
      "args = IParser.parse_args(IConfig, ('input '+SFiles+' --mode copy').split()) \n",
      "task = ITask(config=args.config)\n",
      "task.run(args)"
     ],
     "language": "python",
     "metadata": {},
     "outputs": [
      {
       "output_type": "stream",
       "stream": "stdout",
       "text": [
        "['input', '../../data/raw/739518p.fits.fz', '../../data/raw/739520p.fits.fz', '../../data/raw/739521p.fits.fz', '../../data/raw/739522p.fits.fz', '../../data/raw/741666p.fits.fz', '../../data/raw/741667p.fits.fz', '../../data/raw/741668p.fits.fz', '../../data/raw/741670p.fits.fz', '../../data/raw/789045p.fits.fz', '../../data/raw/792245p.fits.fz', '../../data/raw/792453p.fits.fz', '../../data/raw/793312p.fits.fz', '../../data/raw/739519p.fits.fz', '--mode', 'copy']\n",
        "../../data/raw/739518p.fits.fz --<copy>--> /renoir_data_00/jpreyes/stacks/notebook_files/input/raw/04AL01/D2/2004-03-20/r/739518p.fits.fz"
       ]
      },
      {
       "output_type": "stream",
       "stream": "stdout",
       "text": [
        "\n",
        "../../data/raw/739520p.fits.fz --<copy>--> /renoir_data_00/jpreyes/stacks/notebook_files/input/raw/04AL01/D2/2004-03-20/r/739520p.fits.fz"
       ]
      },
      {
       "output_type": "stream",
       "stream": "stdout",
       "text": [
        "\n",
        "../../data/raw/739521p.fits.fz --<copy>--> /renoir_data_00/jpreyes/stacks/notebook_files/input/raw/04AL01/D2/2004-03-20/r/739521p.fits.fz"
       ]
      },
      {
       "output_type": "stream",
       "stream": "stdout",
       "text": [
        "\n",
        "../../data/raw/739522p.fits.fz --<copy>--> /renoir_data_00/jpreyes/stacks/notebook_files/input/raw/04AL01/D2/2004-03-20/r/739522p.fits.fz"
       ]
      },
      {
       "output_type": "stream",
       "stream": "stdout",
       "text": [
        "\n",
        "../../data/raw/741666p.fits.fz --<copy>--> /renoir_data_00/jpreyes/stacks/notebook_files/input/raw/04AL01/D2/2004-04-10/r/741666p.fits.fz"
       ]
      },
      {
       "output_type": "stream",
       "stream": "stdout",
       "text": [
        "\n",
        "../../data/raw/741667p.fits.fz --<copy>--> /renoir_data_00/jpreyes/stacks/notebook_files/input/raw/04AL01/D2/2004-04-10/r/741667p.fits.fz"
       ]
      },
      {
       "output_type": "stream",
       "stream": "stdout",
       "text": [
        "\n",
        "../../data/raw/741668p.fits.fz --<copy>--> /renoir_data_00/jpreyes/stacks/notebook_files/input/raw/04AL01/D2/2004-04-10/r/741668p.fits.fz"
       ]
      },
      {
       "output_type": "stream",
       "stream": "stdout",
       "text": [
        "\n",
        "../../data/raw/741670p.fits.fz --<copy>--> /renoir_data_00/jpreyes/stacks/notebook_files/input/raw/04AL01/D2/2004-04-10/r/741670p.fits.fz"
       ]
      },
      {
       "output_type": "stream",
       "stream": "stdout",
       "text": [
        "\n",
        "../../data/raw/789045p.fits.fz --<copy>--> /renoir_data_00/jpreyes/stacks/notebook_files/input/raw/05AL01/D2/2005-04-14/r/789045p.fits.fz"
       ]
      },
      {
       "output_type": "stream",
       "stream": "stdout",
       "text": [
        "\n",
        "../../data/raw/792245p.fits.fz --<copy>--> /renoir_data_00/jpreyes/stacks/notebook_files/input/raw/05AL01/D2/2005-05-05/r/792245p.fits.fz"
       ]
      },
      {
       "output_type": "stream",
       "stream": "stdout",
       "text": [
        "\n",
        "../../data/raw/792453p.fits.fz --<copy>--> /renoir_data_00/jpreyes/stacks/notebook_files/input/raw/05AF07/D2/2005-05-06/r/792453p.fits.fz"
       ]
      },
      {
       "output_type": "stream",
       "stream": "stdout",
       "text": [
        "\n",
        "../../data/raw/793312p.fits.fz --<copy>--> /renoir_data_00/jpreyes/stacks/notebook_files/input/raw/05AL01/D2/2005-05-13/r/793312p.fits.fz"
       ]
      },
      {
       "output_type": "stream",
       "stream": "stdout",
       "text": [
        "\n",
        "../../data/raw/739519p.fits.fz --<copy>--> /renoir_data_00/jpreyes/stacks/notebook_files/input/raw/04AL01/D2/2004-03-20/r/739519p.fits.fz"
       ]
      },
      {
       "output_type": "stream",
       "stream": "stdout",
       "text": [
        "\n"
       ]
      }
     ],
     "prompt_number": 66
    },
    {
     "cell_type": "code",
     "collapsed": false,
     "input": [],
     "language": "python",
     "metadata": {},
     "outputs": []
    }
   ],
   "metadata": {}
  }
 ]
}