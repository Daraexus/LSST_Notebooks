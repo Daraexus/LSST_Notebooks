{
 "cells": [
  {
   "cell_type": "code",
   "execution_count": 65,
   "metadata": {
    "collapsed": true
   },
   "outputs": [],
   "source": [
    "import pickle\n",
    "import sncosmo\n",
    "import numpy as np\n",
    "import lsst.daf.base as dafBase\n",
    "import lsst.daf.persistence as dafPersist\n",
    "\n",
    "import lsst.afw.display.ds9 as ds9\n",
    "import lsst.afw.image as afwImage"
   ]
  },
  {
   "cell_type": "code",
   "execution_count": null,
   "metadata": {
    "collapsed": false
   },
   "outputs": [],
   "source": [
    "i=1\n",
    "DATADIR=\"/renoir_data_02/jpreyes/lsst_data/CFHTLS_master/\"\n",
    "butler = dafPersist.Butler(DATADIR+\"/output\")\n",
    "\n",
    "\n",
    "\n",
    "im = butler.get('deepCoadd', {'patch': '5,5' , 'filter':'r' , 'tract':0})\n",
    "    \n",
    "placeholder = im.Factory(im)\n",
    "\n",
    "placeholder = afwImage.ExposureF(placeholder.getWidth(), placeholder.getHeight())\n"
   ]
  },
  {
   "cell_type": "code",
   "execution_count": null,
   "metadata": {
    "collapsed": false
   },
   "outputs": [],
   "source": [
    "mosaic = displayUtils.Mosaic(gutter=0, background=0, mode=\"x\")\n",
    "for i in range(2,8):\n",
    "    mosaic_line = displayUtils.Mosaic(gutter=0, background=0, mode='y')\n",
    "    for j in range(1,7):\n",
    "        if butler.datasetExists('deepCoadd', {'patch': str(i)+','+str(j) , 'filter':'r' , 'tract':0}):\n",
    "            cl = butler.get('deepCoadd', {'patch': str(i)+','+str(j) , 'filter':'r' , 'tract':0})\n",
    "        else:\n",
    "            cl = placeholder\n",
    "            \n",
    "        \n",
    "        \n",
    "        mosaic_line.append(cl.getMaskedImage().getImage(),label=str(i)+'-'+str(j))\n",
    "        \n",
    "    ml = mosaic_line.makeMosaic(frame=None, display=None)\n",
    "    mosaic.append(ml)\n",
    "    \n",
    "mosaic.makeMosaic(frame=3)\n",
    "\n"
   ]
  },
  {
   "cell_type": "code",
   "execution_count": null,
   "metadata": {
    "collapsed": true
   },
   "outputs": [],
   "source": []
  }
 ],
 "metadata": {
  "kernelspec": {
   "display_name": "Python 2",
   "language": "python",
   "name": "python2"
  },
  "language_info": {
   "codemirror_mode": {
    "name": "ipython",
    "version": 2
   },
   "file_extension": ".py",
   "mimetype": "text/x-python",
   "name": "python",
   "nbconvert_exporter": "python",
   "pygments_lexer": "ipython2",
   "version": "2.7.11"
  }
 },
 "nbformat": 4,
 "nbformat_minor": 0
}
