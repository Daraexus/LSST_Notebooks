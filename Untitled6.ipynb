{
 "cells": [
  {
   "cell_type": "code",
   "execution_count": 1,
   "metadata": {
    "collapsed": true
   },
   "outputs": [],
   "source": [
    "import lsst.daf.persistence as dafPersist\n",
    "import matplotlib.pyplot as plt\n",
    "import numpy as np\n",
    "\n",
    "import lsst.afw.table as afwTable\n",
    "import lsst.afw.geom as afwGeom\n",
    "import Utils.DiaSourceTools as DSTools\n",
    "from astropy.time import Time\n",
    "\n",
    "import lsst.afw.display.ds9 as ds9\n",
    "\n",
    "import re\n",
    "\n",
    "from multiprocessing import Pool\n",
    "from functools import partial\n",
    "\n",
    "from astropy.table import Column\n",
    "import astropy as astropy\n",
    "from astropy.io import ascii\n",
    "from mpi4py import MPI\n",
    "\n",
    "import lsst.daf.base as dafBase\n",
    "from lsst.meas.algorithms.detection import SourceDetectionTask\n",
    "from lsst.meas.base import SingleFrameMeasurementTask\n",
    "from lsst.meas.deblender import SourceDeblendTask\n",
    "from lsst.meas.base import CatalogCalculationTask\n"
   ]
  },
  {
   "cell_type": "code",
   "execution_count": 2,
   "metadata": {
    "collapsed": true
   },
   "outputs": [],
   "source": [
    "def detect_sources(exposure):\n",
    "    threshold = 6\n",
    "    doSmooth=True\n",
    "    schema = afwTable.SourceTable.makeMinimalSchema()\n",
    "\n",
    "\n",
    "    algMetadata = dafBase.PropertyList()\n",
    "\n",
    "    config = SourceDetectionTask.ConfigClass()\n",
    "    #config.thresholdPolarity = \"both\"\n",
    "    config.thresholdValue = threshold\n",
    "    config.reEstimateBackground = False\n",
    "    #config.thresholdType = \"pixel_stdev\"\n",
    "\n",
    "    detectionTask = SourceDetectionTask(config=config, schema=schema)\n",
    "\n",
    "    measurement = SingleFrameMeasurementTask\n",
    "    config = measurement.ConfigClass()\n",
    "\n",
    "    measurement = measurement(schema, config=config, algMetadata=algMetadata)\n",
    "\n",
    "    deblend = SourceDeblendTask\n",
    "    config = SourceDeblendTask.ConfigClass()\n",
    "    deblend = deblend(schema)\n",
    "\n",
    "    calculation = CatalogCalculationTask\n",
    "    config = CatalogCalculationTask.ConfigClass()\n",
    "    config.plugins.names.clear()\n",
    "    config.plugins.names.add(\"base_ClassificationExtendedness\")\n",
    "\n",
    "    calculation = calculation(schema, config=config)\n",
    "\n",
    "    table = afwTable.SourceTable.make(schema)\n",
    "\n",
    "    results = detectionTask.run(table=table, exposure=exposure , doSmooth=doSmooth )\n",
    "\n",
    "    sourcesCat = results.sources\n",
    "\n",
    "    deblend.run(exposure, sourcesCat)\n",
    "\n",
    "    measurement.run(measCat=sourcesCat, exposure=exposure)\n",
    "    calculation.run(sourcesCat)\n",
    "    return sourcesCat\n"
   ]
  },
  {
   "cell_type": "code",
   "execution_count": 6,
   "metadata": {
    "collapsed": true
   },
   "outputs": [],
   "source": [
    "DATADIR=\"/datadec/cppm/jpreyes/CFHT_Jointcal_2\"\n",
    "directory = DATADIR+\"/jointcal_comp_12days\"\n",
    "directory2 = DATADIR+\"/jointcal_ind_12days\"\n",
    "\n",
    "#DATADIR=\"/datadec/cppm/jpreyes/CFHT_Complete\"\n",
    "#directory = DATADIR+\"/detect_testSN_2\"\n",
    "\n",
    "butler = dafPersist.Butler(directory)\n",
    "butler2 = dafPersist.Butler(directory2)\n"
   ]
  },
  {
   "cell_type": "code",
   "execution_count": 5,
   "metadata": {
    "collapsed": true
   },
   "outputs": [],
   "source": [
    "dataId = {'patch':\"12,12\", 'filter':\"r\", 'tract':0, \"date\":\"2006-04-30\"}\n",
    "deepCoadd = butler.get(\"dayCoadd\", dataId)\n",
    "deepSrcs = detect_sources(deepCoadd)\n"
   ]
  },
  {
   "cell_type": "code",
   "execution_count": 7,
   "metadata": {
    "collapsed": true
   },
   "outputs": [],
   "source": [
    "dataId = {'patch':\"12,12\", 'filter':\"r\", 'tract':0, \"date\":\"2006-04-30\"}\n",
    "deepCoadd2 = butler2.get(\"dayCoadd\", dataId)\n",
    "deepSrcs2 = detect_sources(deepCoadd2)"
   ]
  },
  {
   "cell_type": "code",
   "execution_count": 10,
   "metadata": {},
   "outputs": [
    {
     "data": {
      "text/plain": [
       "(3.75294 rad, 0.917594 rad)"
      ]
     },
     "execution_count": 10,
     "metadata": {},
     "output_type": "execute_result"
    }
   ],
   "source": [
    "deepSrcs[0][\"coord_ra\"], deepSrcs[0][\"coord_dec\"]"
   ]
  },
  {
   "cell_type": "code",
   "execution_count": 11,
   "metadata": {},
   "outputs": [
    {
     "data": {
      "text/plain": [
       "(3.75294 rad, 0.917594 rad)"
      ]
     },
     "execution_count": 11,
     "metadata": {},
     "output_type": "execute_result"
    }
   ],
   "source": [
    "deepSrcs2[0][\"coord_ra\"], deepSrcs2[0][\"coord_dec\"]"
   ]
  },
  {
   "cell_type": "code",
   "execution_count": null,
   "metadata": {
    "collapsed": true
   },
   "outputs": [],
   "source": []
  }
 ],
 "metadata": {
  "kernelspec": {
   "display_name": "Python 2",
   "language": "python",
   "name": "python2"
  },
  "language_info": {
   "codemirror_mode": {
    "name": "ipython",
    "version": 2
   },
   "file_extension": ".py",
   "mimetype": "text/x-python",
   "name": "python",
   "nbconvert_exporter": "python",
   "pygments_lexer": "ipython2",
   "version": "2.7.12"
  }
 },
 "nbformat": 4,
 "nbformat_minor": 2
}
