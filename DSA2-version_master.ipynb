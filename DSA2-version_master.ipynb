{
 "cells": [
  {
   "cell_type": "markdown",
   "metadata": {},
   "source": [
    "#DiaSources Analysis"
   ]
  },
  {
   "cell_type": "code",
   "execution_count": 2,
   "metadata": {
    "collapsed": false
   },
   "outputs": [
    {
     "name": "stderr",
     "output_type": "stream",
     "text": [
      "/renoir_data_00/fouchez/lsst/DM/stacks/lsstsw/2016-04-04/lsstsw/miniconda/lib/python2.7/site-packages/matplotlib/font_manager.py:273: UserWarning: Matplotlib is building the font cache using fc-list. This may take a moment.\n",
      "  warnings.warn('Matplotlib is building the font cache using fc-list. This may take a moment.')\n"
     ]
    }
   ],
   "source": [
    "import lsst.meas.astrom as measAstrom\n",
    "import lsst.daf.base as dafBase\n",
    "import lsst.pipe.base as pipeBase\n",
    "import lsst.daf.persistence as dafPersist\n",
    "\n",
    "import random\n",
    "import matplotlib.pyplot as plt\n",
    "import numpy as np\n",
    "\n",
    "import lsst.afw.display.ds9 as ds9\n",
    "import lsst.afw.table as afwTable\n",
    "\n",
    "import lsst.afw.geom as afwGeom\n",
    "import lsst.afw.display.utils as displayUtils"
   ]
  },
  {
   "cell_type": "markdown",
   "metadata": {},
   "source": [
    "This is the butler reference that we use on our working dataset. DATADIR is where our data is, obviously"
   ]
  },
  {
   "cell_type": "code",
   "execution_count": 3,
   "metadata": {
    "collapsed": false
   },
   "outputs": [],
   "source": [
    "#DATADIR=\"/renoir_data_02/jpreyes/lsst_data/CFHTLS_v11/\"\n",
    "DATADIR=\"/renoir_data_02/jpreyes/lsst_data/CFHTLS_master/\"\n",
    "butler = dafPersist.Butler(DATADIR+\"/output\")\n"
   ]
  },
  {
   "cell_type": "markdown",
   "metadata": {},
   "source": [
    "We create a list with all our diaSources Catalog (one for each visit)"
   ]
  },
  {
   "cell_type": "code",
   "execution_count": 4,
   "metadata": {
    "collapsed": false
   },
   "outputs": [],
   "source": [
    "subset = butler.subset(\"deepDiff_diaSrc\")\n",
    "#file = open(\"diaSources.txt\", \"w\")\n",
    "diaSourcesList = []\n",
    "for dr_subSet in subset:\n",
    "    if dr_subSet.dataId[\"ccd\"]==14:\n",
    "        #file.write(\"visit=\"+str(dr_subSet.dataId[\"visit\"])+\"\\n\")\n",
    "        try:\n",
    "            diaSourcesList.append(dr_subSet)\n",
    "           \n",
    "        except:\n",
    "            pass\n",
    "            \n",
    "\n",
    "#file.close()"
   ]
  },
  {
   "cell_type": "code",
   "execution_count": 5,
   "metadata": {
    "collapsed": false
   },
   "outputs": [],
   "source": [
    "dataId = {'visit': 800719, 'filter':'r' , 'ccd':14}\n",
    "diaSrcs = butler.get(\"deepDiff_diaSrc\", dataId)\n",
    "diffExp = butler.get(\"deepDiff_differenceExp\", dataId)"
   ]
  },
  {
   "cell_type": "code",
   "execution_count": 27,
   "metadata": {
    "collapsed": false
   },
   "outputs": [
    {
     "name": "stdout",
     "output_type": "stream",
     "text": [
      "ds9 doesn't appear to be running (XPA: XPA returned NULL, (;iconify no; raise)), I'll try to exec it for you\n"
     ]
    }
   ],
   "source": [
    "ds9.mtv(diffExp, frame=1)"
   ]
  },
  {
   "cell_type": "code",
   "execution_count": 85,
   "metadata": {
    "collapsed": true
   },
   "outputs": [],
   "source": [
    "def plotFluxSources(diaSources, flux_variable):\n",
    "    fluxes = []\n",
    "    fluxesCtr = []\n",
    "    fluxesNeg = []\n",
    "    fluxesPos = []\n",
    "    sourcesCtr = []\n",
    "    sourcesNeg = []\n",
    "    sourcesPos = []\n",
    "\n",
    "    sigmaPos = []\n",
    "    sigmaNeg = []\n",
    "    \n",
    "    for diaSrc in diaSrcs:\n",
    "    \n",
    "        flux = diaSrc.get(flux_variable)\n",
    "        #ds9.dot(\"o\", x, y, size = 25, frame=3)\n",
    "        x = diaSrc.get(\"ip_diffim_NaiveDipoleCentroid_x\")\n",
    "        y = diaSrc.get(\"ip_diffim_NaiveDipoleCentroid_y\")\n",
    "        if np.abs(flux) < 50000:\n",
    "            fluxes.append(flux)\n",
    "            if np.abs(flux) <= 10000:\n",
    "                fluxesCtr.append(flux)\n",
    "            elif flux > 10000:\n",
    "                fluxesPos.append(flux)\n",
    "            else:\n",
    "                fluxesNeg.append(flux)\n",
    "        \n",
    "        \n",
    "            if np.abs(flux) <= 10000:\n",
    "                sourcesCtr.append(diaSrc)\n",
    "                #ds9.dot(\"o\", x, y, size = 25, frame=3, ctype=\"BLUE\")\n",
    "            elif flux > 10000:\n",
    "                sourcesPos.append(diaSrc)\n",
    "                #ds9.dot(\"o\", x, y, size = 25, frame=3, ctype=\"GREEN\")\n",
    "            else:\n",
    "                sourcesNeg.append(diaSrc)\n",
    "                #ds9.dot(\"o\", x, y, size = 25, frame=3, ctype=\"RED\")\n",
    "\n",
    "            if flux > 0:\n",
    "                sigmaPos.append(diaSrc.get(flux_variable+\"Sigma\"))\n",
    "            else:\n",
    "                sigmaNeg.append(diaSrc.get(flux_variable+\"Sigma\")) \n",
    "                \n",
    "    meanSigmaPos = np.mean(sigmaPos)\n",
    "    meanSigmaNeg = np.mean(sigmaNeg)\n",
    "    plt.hist(fluxesCtr, bins=20)\n",
    "    plt.hist(fluxesPos, bins=20)\n",
    "    plt.hist(fluxesNeg, bins=20)\n",
    "    plt.axvline(meanSigmaPos*5, color='y', linestyle='dashed', linewidth=2)\n",
    "    plt.axvline(-(meanSigmaNeg*5), color='y', linestyle='dashed', linewidth=2)\n",
    "    plt.show()\n",
    "\n"
   ]
  },
  {
   "cell_type": "code",
   "execution_count": 89,
   "metadata": {
    "collapsed": false
   },
   "outputs": [
    {
     "data": {
      "image/png": "[encoded data removed]",
      "text/plain": [
       "<matplotlib.figure.Figure at 0x7f06de6c18d0>"
      ]
     },
     "metadata": {},
     "output_type": "display_data"
    },
    {
     "data": {
      "image/png": "[encoded data removed]",
      "text/plain": [
       "<matplotlib.figure.Figure at 0x7f06ea234310>"
      ]
     },
     "metadata": {},
     "output_type": "display_data"
    },
    {
     "data": {
      "image/png": "[encoded data removed]",
      "text/plain": [
       "<matplotlib.figure.Figure at 0x7f06ea50bd50>"
      ]
     },
     "metadata": {},
     "output_type": "display_data"
    },
    {
     "data": {
      "image/png": "[encoded data removed]",
      "text/plain": [
       "<matplotlib.figure.Figure at 0x7f06ea1b7e90>"
      ]
     },
     "metadata": {},
     "output_type": "display_data"
    },
    {
     "data": {
      "image/png": "[encoded data removed]",
      "text/plain": [
       "<matplotlib.figure.Figure at 0x7f06ea087850>"
      ]
     },
     "metadata": {},
     "output_type": "display_data"
    },
    {
     "data": {
      "image/png": "[encoded data removed]",
      "text/plain": [
       "<matplotlib.figure.Figure at 0x7f06ea1c04d0>"
      ]
     },
     "metadata": {},
     "output_type": "display_data"
    },
    {
     "data": {
      "image/png": "[encoded data removed]",
      "text/plain": [
       "<matplotlib.figure.Figure at 0x7f06e9c76410>"
      ]
     },
     "metadata": {},
     "output_type": "display_data"
    },
    {
     "data": {
      "image/png": "[encoded data removed]",
      "text/plain": [
       "<matplotlib.figure.Figure at 0x7f06de7805d0>"
      ]
     },
     "metadata": {},
     "output_type": "display_data"
    },
    {
     "data": {
      "image/png": "[encoded data removed]",
      "text/plain": [
       "<matplotlib.figure.Figure at 0x7f06e9c76910>"
      ]
     },
     "metadata": {},
     "output_type": "display_data"
    },
    {
     "data": {
      "image/png": "[encoded data removed]",
      "text/plain": [
       "<matplotlib.figure.Figure at 0x7f06ea4e1110>"
      ]
     },
     "metadata": {},
     "output_type": "display_data"
    },
    {
     "data": {
      "image/png": "[encoded data removed]",
      "text/plain": [
       "<matplotlib.figure.Figure at 0x7f06e96bab90>"
      ]
     },
     "metadata": {},
     "output_type": "display_data"
    }
   ],
   "source": [
    "plotFluxSources(diaSrcs,\"base_PeakLikelihoodFlux_flux\")\n",
    "plotFluxSources(diaSrcs,\"base_CircularApertureFlux_3_0_flux\")\n",
    "plotFluxSources(diaSrcs,\"base_CircularApertureFlux_4_5_flux\")\n",
    "plotFluxSources(diaSrcs,\"base_CircularApertureFlux_6_0_flux\")\n",
    "plotFluxSources(diaSrcs,\"base_CircularApertureFlux_9_0_flux\")\n",
    "plotFluxSources(diaSrcs,\"base_CircularApertureFlux_12_0_flux\")\n",
    "plotFluxSources(diaSrcs,\"base_CircularApertureFlux_17_0_flux\")\n",
    "plotFluxSources(diaSrcs,\"base_CircularApertureFlux_25_0_flux\")\n",
    "plotFluxSources(diaSrcs,\"base_CircularApertureFlux_35_0_flux\")\n",
    "plotFluxSources(diaSrcs,\"base_CircularApertureFlux_50_0_flux\")\n",
    "plotFluxSources(diaSrcs,\"base_CircularApertureFlux_70_0_flux\")"
   ]
  },
  {
   "cell_type": "code",
   "execution_count": null,
   "metadata": {
    "collapsed": true
   },
   "outputs": [],
   "source": [
    "ds = random.choice(diaSrcs)\n"
   ]
  },
  {
   "cell_type": "code",
   "execution_count": 177,
   "metadata": {
    "collapsed": false
   },
   "outputs": [],
   "source": [
    "\n",
    "scienceExposure =  butler.get(\"calexp\", {\"visit\":800719, \"ccd\":14, \"filter\":\"r\"})\n",
    "templateExposure = butler.get(\"deepDiff_warpedExp\", {\"visit\":800719, \"ccd\":14, \"filter\":\"r\"})\n",
    "subtractedExposure = diffExp\n",
    "\n",
    "ds9.mtv(scienceExposure, frame=1)\n",
    "ds9.mtv(templateExposure, frame=2)\n",
    "ds9.mtv(subtractedExposure, frame=3)"
   ]
  },
  {
   "cell_type": "code",
   "execution_count": 178,
   "metadata": {
    "collapsed": false
   },
   "outputs": [
    {
     "data": {
      "text/plain": [
       "3"
      ]
     },
     "execution_count": 178,
     "metadata": {},
     "output_type": "execute_result"
    }
   ],
   "source": [
    "ds = random.choice(diaSrcs)\n",
    "\n",
    "bbox = ds.getFootprint().getBBox()\n",
    "\n",
    "mos = displayUtils.Mosaic()\n",
    "Begin = afwGeom.Point2I(bbox.getBeginX(), bbox.getBeginY())\n",
    "End = afwGeom.Point2I(bbox.getEndX(), bbox.getEndY())\n",
    "\n",
    "ExpOrig = afwGeom.Point2I(scienceExposure.getX0()-1, scienceExposure.getY0()-1)\n",
    "\n",
    "\n",
    "\n",
    "correctedBegin = bbox.getBegin()- ExpOrig\n",
    "correctedEnd = bbox.getEnd() - ExpOrig\n",
    "\n",
    "correctedBegin= afwGeom.Point2I(correctedBegin.getX()-10,correctedBegin.getY()-10 )\n",
    "correctedEnd = afwGeom.Point2I(correctedEnd.getX()+10,correctedEnd.getY()+10 )\n",
    "    \n",
    "    \n",
    "    \n",
    "bboxT = afwGeom.Box2I(correctedBegin,correctedEnd)\n",
    "   \n",
    "#print bboxT.toString\n",
    "stamp_science = scienceExposure.Factory(scienceExposure,bboxT, True)\n",
    "im = displayUtils.Mosaic(gutter=5, background=5, mode=\"x\")\n",
    "im.append(stamp_science.getMaskedImage())\n",
    "#ds9.mtv(stamp_science, frame=4)\n",
    "\n",
    "stamp_template = templateExposure.Factory(templateExposure,bboxT, True)\n",
    "#im = displayUtils.Mosaic(gutter=0, background=0, mode=\"x\")\n",
    "im.append(stamp_template.getMaskedImage())\n",
    "#ds9.mtv(stamp_template, frame=5)\n",
    "\n",
    "\n",
    "stamp_subtracted = subtractedExposure.Factory(subtractedExposure,bboxT, True)\n",
    "#im = displayUtils.Mosaic(gutter=0, background=0, mode=\"x\")\n",
    "im.append(stamp_subtracted.getMaskedImage())\n",
    "#ds9.mtv(stamp_subtracted, frame=6)"
   ]
  },
  {
   "cell_type": "code",
   "execution_count": 191,
   "metadata": {
    "collapsed": false
   },
   "outputs": [
    {
     "name": "stdout",
     "output_type": "stream",
     "text": [
      "<lsst.afw.image.imageLib.ImageF; proxy of <Swig Object of type 'boost::shared_ptr< lsst::afw::image::Image< float > > *' at 0x7f06de6c3e10> >\n",
      "1.25166\n",
      "15.827\n"
     ]
    }
   ],
   "source": [
    "stamp = stamp_science.Factory(stamp_science)\n",
    "\n",
    "mi = stamp.getMaskedImage()\n",
    "mask = mi.getMask()\n",
    "\n",
    "\n",
    "\n",
    "values = []\n",
    "\n",
    "bitmask_detected = mask.getPlaneBitMask(\"DETECTED\")\n",
    "bitmask_detected_neg = mask.getPlaneBitMask(\"DETECTED_NEGATIVE\")\n",
    "#print \"///\"\n",
    "#print bitmask\n",
    "#print \"///\"\n",
    "\n",
    "for x in range(0, mi.getWidth()):\n",
    "    for y in range (0, mi.getHeight()):\n",
    "        u =  mi.getMask()[x,y]\n",
    "        \n",
    "        if u.get(0,0) & bitmask_detected == 0 or u.get(0,0) & bitmask_detected_neg == 0:\n",
    "            values.append(mi.getImage().get(x,y))\n",
    "        #if mi.getMask()[x,y] & bitmask != 0:\n",
    "        #    print x,y\n",
    "    \n",
    "print mi.getVariance()\n",
    "\n",
    "\n",
    "print np.mean(arr_im)\n",
    "print np.std(arr_im)"
   ]
  },
  {
   "cell_type": "code",
   "execution_count": 180,
   "metadata": {
    "collapsed": false
   },
   "outputs": [],
   "source": [
    "ds9.mtv(stamp_science, frame = 1)\n",
    "ds9.mtv(stamp, frame=2)\n",
    "ds9.mtv(scienceExposure, frame=3)"
   ]
  },
  {
   "cell_type": "code",
   "execution_count": 181,
   "metadata": {
    "collapsed": true
   },
   "outputs": [],
   "source": [
    "bX = bboxT.getBeginX()\n",
    "bY = bboxT.getBeginY()\n",
    "eX = bboxT.getEndX()\n",
    "eY = bboxT.getEndY()\n",
    "\n",
    "\n",
    "ds9.line([(bX,bY), (bX, eY)], frame=3,ctype='red')\n",
    "ds9.line([(bX,eY), (eX, eY)], frame=3,ctype='red')\n",
    "ds9.line([(eX,eY), (eX, bY)], frame=3,ctype='red')\n",
    "ds9.line([(eX,bY), (bX, bY)], frame=3,ctype='red')"
   ]
  },
  {
   "cell_type": "code",
   "execution_count": 198,
   "metadata": {
    "collapsed": false
   },
   "outputs": [
    {
     "name": "stdout",
     "output_type": "stream",
     "text": [
      "20.3296\n",
      "20.3295950461\n",
      "917.168604481\n",
      "116.083183289\n",
      "234.532608032\n",
      "353.476989746\n"
     ]
    }
   ],
   "source": [
    "print np.std(mi.getImage().getArray())\n",
    "print np.std(values)\n",
    "print ds.get(\"base_PeakLikelihoodFlux_fluxSigma\")\n",
    "print ds.get(\"base_CircularApertureFlux_3_0_fluxSigma\")\n",
    "print ds.get(\"base_CircularApertureFlux_6_0_fluxSigma\")\n",
    "print ds.get(\"base_CircularApertureFlux_9_0_fluxSigma\")"
   ]
  },
  {
   "cell_type": "code",
   "execution_count": 49,
   "metadata": {
    "collapsed": false
   },
   "outputs": [
    {
     "data": {
      "text/plain": [
       "<lsst.afw.image.imageLib.MaskedImageF; proxy of <Swig Object of type 'boost::shared_ptr< lsst::afw::image::MaskedImage< float,lsst::afw::image::MaskPixel,lsst::afw::image::VariancePixel > > *' at 0x7f06ea5974b0> >"
      ]
     },
     "execution_count": 49,
     "metadata": {},
     "output_type": "execute_result"
    }
   ],
   "source": [
    "im.makeMosaic(frame=7, title=\"mosaic\")"
   ]
  },
  {
   "cell_type": "code",
   "execution_count": 50,
   "metadata": {
    "collapsed": true
   },
   "outputs": [],
   "source": [
    "bX = bboxT.getBeginX()\n",
    "bY = bboxT.getBeginY()\n",
    "eX = bboxT.getEndX()\n",
    "eY = bboxT.getEndY()\n",
    "   \n",
    "ds9.line([(bX,bY), (bX, eY)], frame=1,ctype='red')\n",
    "ds9.line([(bX,eY), (eX, eY)], frame=1,ctype='red')\n",
    "ds9.line([(eX,eY), (eX, bY)], frame=1,ctype='red')\n",
    "ds9.line([(eX,bY), (bX, bY)], frame=1,ctype='red')\n",
    "\n",
    "ds9.line([(bX,bY), (bX, eY)], frame=2,ctype='red')\n",
    "ds9.line([(bX,eY), (eX, eY)], frame=2,ctype='red')\n",
    "ds9.line([(eX,eY), (eX, bY)], frame=2,ctype='red')\n",
    "ds9.line([(eX,bY), (bX, bY)], frame=2,ctype='red')\n",
    "\n",
    "ds9.line([(bX,bY), (bX, eY)], frame=3,ctype='red')\n",
    "ds9.line([(bX,eY), (eX, eY)], frame=3,ctype='red')\n",
    "ds9.line([(eX,eY), (eX, bY)], frame=3,ctype='red')\n",
    "ds9.line([(eX,bY), (bX, bY)], frame=3,ctype='red')\n"
   ]
  },
  {
   "cell_type": "code",
   "execution_count": null,
   "metadata": {
    "collapsed": true
   },
   "outputs": [],
   "source": []
  },
  {
   "cell_type": "markdown",
   "metadata": {},
   "source": [
    "Some tests, obtaining the instances for the list of diaSources for three different visits"
   ]
  },
  {
   "cell_type": "code",
   "execution_count": 9,
   "metadata": {
    "collapsed": false
   },
   "outputs": [],
   "source": [
    "dCatalog1 = diaSourcesList[0]\n",
    "dCatalog2 = diaSourcesList[1]\n",
    "dCatalog3 = diaSourcesList[2]\n",
    "\n",
    "\n",
    "#diaSources =  diaSourcesCatalog.get(\"deepDiff_diaSrc\")\n",
    "       \n",
    "        \n",
    "diaSrcs1 = dCatalog1.get(\"deepDiff_diaSrc\")\n",
    "diaSrcs2 = dCatalog2.get(\"deepDiff_diaSrc\")\n",
    "diaSrcs3 = dCatalog3.get(\"deepDiff_diaSrc\")"
   ]
  },
  {
   "cell_type": "markdown",
   "metadata": {},
   "source": [
    "Method to match two catalogs in terms of sources"
   ]
  },
  {
   "cell_type": "code",
   "execution_count": 5,
   "metadata": {
    "collapsed": false
   },
   "outputs": [],
   "source": [
    "smVector = afwTable.matchXy(diaSrcs1, diaSrcs2, 1000, True)"
   ]
  },
  {
   "cell_type": "markdown",
   "metadata": {},
   "source": [
    "Method to plot the fluxes of any diaSources by giving the visit number"
   ]
  },
  {
   "cell_type": "code",
   "execution_count": 10,
   "metadata": {
    "collapsed": false
   },
   "outputs": [],
   "source": [
    "def plot_fluxes(diaSourcesList, visit=-1, max_flux=1000, bins = 100):\n",
    "\n",
    "    fluxes = []\n",
    "    sigmas = []\n",
    "    diaSourcesCatalog = None\n",
    "    if visit == -1:\n",
    "        diaSourcesCatalog = random.choice(diaSourcesList)\n",
    "    else:\n",
    "        for diaSourcesC in diaSourcesList:\n",
    "            if diaSourcesC.dataId[\"visit\"] == visit:\n",
    "                diaSourcesCatalog = diaSourcesC\n",
    "                break\n",
    "    \n",
    "    if diaSourcesCatalog == None:\n",
    "        return False\n",
    "        \n",
    "        \n",
    "        \n",
    "        \n",
    "    for diaSource in diaSourcesCatalog.get(\"deepDiff_diaSrc\"):\n",
    "        flux = diaSource.get(\"ip_diffim_NaiveDipoleFlux_pos_flux\")\n",
    "        sigma =  diaSource.get(\"ip_diffim_NaiveDipoleFlux_pos_fluxSigma\")\n",
    "        if flux < max_flux:\n",
    "            fluxes.append(flux)\n",
    "            sigmas.append(sigma)\n",
    "    \n",
    "\n",
    "    plt.figure(figsize=(12,12))\n",
    "    plt.hist(fluxes, bins=bins)\n",
    "    plt.ylabel(\"Number of sources\", fontsize = \"25\")\n",
    "    plt.xlabel(\"Flux\", fontsize = \"25\")\n",
    "    plt.title(str(diaSourcesCatalog.dataId[\"visit\"]), fontsize=\"25\")\n",
    "    plt.tick_params(axis='y', labelsize=20)\n",
    "    plt.tick_params(axis='x', labelsize=20)\n",
    "    \n",
    "    sigma_threshold = (np.sum(sigmas)/len(sigmas))*5\n",
    "    \n",
    "    plt.axvline(sigma_threshold, color='g', linestyle='dashed', linewidth=2)\n",
    "    print \"sigma_threshold =\", sigma_threshold\n",
    "    return fluxes, sigmas\n",
    "    "
   ]
  },
  {
   "cell_type": "markdown",
   "metadata": {},
   "source": [
    "Testing the aforementioned method"
   ]
  },
  {
   "cell_type": "code",
   "execution_count": null,
   "metadata": {
    "collapsed": false
   },
   "outputs": [],
   "source": [
    "%matplotlib inline\n",
    "fl, sg = plot_fluxes(diaSourcesList, visit=837004, max_flux=2500, bins = 250)"
   ]
  },
  {
   "cell_type": "markdown",
   "metadata": {},
   "source": [
    "##Graphical Flux comparison"
   ]
  },
  {
   "cell_type": "markdown",
   "metadata": {},
   "source": [
    "Obtaining the first available sources with workable coordinates"
   ]
  },
  {
   "cell_type": "code",
   "execution_count": 8,
   "metadata": {
    "collapsed": false
   },
   "outputs": [],
   "source": [
    "for diaSourceC in diaSourcesList:\n",
    "    if diaSourceC.dataId[\"visit\"] == 837004:\n",
    "        diaSourcesCatalog = diaSourceC"
   ]
  },
  {
   "cell_type": "code",
   "execution_count": 68,
   "metadata": {
    "collapsed": false
   },
   "outputs": [],
   "source": [
    "#diaSourcesCatalog = random.choice(diaSourcesList)\n",
    "ds_list = []\n",
    "for ds in diaSourcesCatalog.get(\"deepDiff_diaSrc\"):\n",
    "    \n",
    "    pos= ds.get(\"ip_diffim_NaiveDipoleCentroid_pos_x\")\n",
    "    if np.isnan(pos) == False:\n",
    "        #and ds.get(\"ip_diffim_NaiveDipoleFlux_pos_flux\") > 800 and ds.get(\"ip_diffim_NaiveDipoleFlux_pos_flux\") < 1000:\n",
    "        #print ds.get(\"ip_diffim_NaiveDipoleFlux_pos_flux\")\n",
    "        ds_list.append(ds)\n",
    "        #break"
   ]
  },
  {
   "cell_type": "code",
   "execution_count": 72,
   "metadata": {
    "collapsed": false
   },
   "outputs": [
    {
     "name": "stdout",
     "output_type": "stream",
     "text": [
      "ds9 doesn't appear to be running (XPA: XPA returned NULL, (;iconify no; raise)), I'll try to exec it for you\n"
     ]
    }
   ],
   "source": [
    "ds9.mtv(scienceExposure, frame=1)\n",
    "ds9.mtv(calexp_template, frame=2)\n",
    "ds9.mtv(subtractedExposure, frame=3)"
   ]
  },
  {
   "cell_type": "code",
   "execution_count": 74,
   "metadata": {
    "collapsed": false
   },
   "outputs": [],
   "source": [
    "scienceExposure =  diaSourcesCatalog.get(\"calexp\")\n",
    "ExpOrig = afwGeom.Point2I(scienceExposure.getX0()-1, scienceExposure.getY0()-1)\n",
    "\n",
    "for ds in ds_list:\n",
    "    bbox = ds.getFootprint().getBBox()\n",
    "    Begin = afwGeom.Point2I(bbox.getBeginX(), bbox.getBeginY())\n",
    "    End = afwGeom.Point2I(bbox.getEndX(), bbox.getEndY())\n",
    "    correctedBegin = bbox.getBegin()- ExpOrig\n",
    "    correctedEnd = bbox.getEnd() - ExpOrig\n",
    "\n",
    "    correctedBegin= afwGeom.Point2I(correctedBegin.getX()-10,correctedBegin.getY()-10 )\n",
    "    correctedEnd = afwGeom.Point2I(correctedEnd.getX()+10,correctedEnd.getY()+10 )\n",
    "    \n",
    "    bboxT = afwGeom.Box2I(correctedBegin,correctedEnd)\n",
    "    \n",
    "    bX = bboxT.getBeginX()\n",
    "    bY = bboxT.getBeginY()\n",
    "    eX = bboxT.getEndX()\n",
    "    eY = bboxT.getEndY()\n",
    "    \n",
    "    ds9.line([(bX,bY), (bX, eY)], frame=1,ctype='red')\n",
    "    ds9.line([(bX,eY), (eX, eY)], frame=1,ctype='red')\n",
    "    ds9.line([(eX,eY), (eX, bY)], frame=1,ctype='red')\n",
    "    ds9.line([(eX,bY), (bX, bY)], frame=1,ctype='red')\n",
    "    \n",
    "    #ds9.line([(bX,bY), (bX, eY)], frame=3,ctype='red')\n",
    "    #ds9.line([(bX,eY), (eX, eY)], frame=3,ctype='red')\n",
    "    #ds9.line([(eX,eY), (eX, bY)], frame=3,ctype='red')\n",
    "    #ds9.line([(eX,bY), (bX, bY)], frame=3,ctype='red')"
   ]
  },
  {
   "cell_type": "code",
   "execution_count": 79,
   "metadata": {
    "collapsed": false
   },
   "outputs": [
    {
     "data": {
      "image/png": "[encoded data removed]",
      "text/plain": [
       "<matplotlib.figure.Figure at 0x7f5f5a80e650>"
      ]
     },
     "metadata": {},
     "output_type": "display_data"
    }
   ],
   "source": [
    "%matplotlib inline\n",
    "\n",
    "fluxes = []\n",
    "for ds in ds_list:\n",
    "    f = ds.get(\"ip_diffim_NaiveDipoleFlux_pos_flux\")\n",
    "    if f < 5000:\n",
    "        fluxes.append(f)\n",
    "\n",
    "plt.hist(fluxes, bins=100)\n",
    "plt.show()"
   ]
  },
  {
   "cell_type": "markdown",
   "metadata": {},
   "source": [
    "Creating the stamp on the science exposure"
   ]
  },
  {
   "cell_type": "markdown",
   "metadata": {},
   "source": [
    "Creating the stamp on the template exposure"
   ]
  },
  {
   "cell_type": "markdown",
   "metadata": {},
   "source": [
    "Creating the stamp for the subtracted image result"
   ]
  },
  {
   "cell_type": "code",
   "execution_count": 57,
   "metadata": {
    "collapsed": false
   },
   "outputs": [
    {
     "data": {
      "text/plain": [
       "<lsst.afw.image.imageLib.MaskedImageF; proxy of <Swig Object of type 'boost::shared_ptr< lsst::afw::image::MaskedImage< float,lsst::afw::image::MaskPixel,lsst::afw::image::VariancePixel > > *' at 0x7f5f68ebde70> >"
      ]
     },
     "execution_count": 57,
     "metadata": {},
     "output_type": "execute_result"
    }
   ],
   "source": [
    "#ds9.mtv(subtractedExposure, frame=4)\n",
    "im.makeMosaic(frame=4, title=\"mosaic\")"
   ]
  },
  {
   "cell_type": "code",
   "execution_count": 59,
   "metadata": {
    "collapsed": false
   },
   "outputs": [],
   "source": [
    "bX = bboxT.getBeginX()\n",
    "bY = bboxT.getBeginY()\n",
    "eX = bboxT.getEndX()\n",
    "eY = bboxT.getEndY()"
   ]
  },
  {
   "cell_type": "code",
   "execution_count": 62,
   "metadata": {
    "collapsed": false
   },
   "outputs": [],
   "source": [
    "ds9.line([(bX,bY), (bX, eY)], frame=5,ctype='red')\n",
    "ds9.line([(bX,eY), (eX, eY)], frame=5,ctype='red')\n",
    "ds9.line([(eX,eY), (eX, bY)], frame=5,ctype='red')\n",
    "ds9.line([(eX,bY), (bX, bY)], frame=5,ctype='red')"
   ]
  },
  {
   "cell_type": "code",
   "execution_count": 61,
   "metadata": {
    "collapsed": true
   },
   "outputs": [],
   "source": [
    "ds9.line([(bX,bY), (bX, eY)], frame=6,ctype='red')\n",
    "ds9.line([(bX,eY), (eX, eY)], frame=6,ctype='red')\n",
    "ds9.line([(eX,eY), (eX, bY)], frame=6,ctype='red')\n",
    "ds9.line([(eX,bY), (bX, bY)], frame=6,ctype='red')"
   ]
  },
  {
   "cell_type": "code",
   "execution_count": 63,
   "metadata": {
    "collapsed": true
   },
   "outputs": [],
   "source": [
    "ds9.line([(bX,bY), (bX, eY)], frame=7,ctype='red')\n",
    "ds9.line([(bX,eY), (eX, eY)], frame=7,ctype='red')\n",
    "ds9.line([(eX,eY), (eX, bY)], frame=7,ctype='red')\n",
    "ds9.line([(eX,bY), (bX, bY)], frame=7,ctype='red')"
   ]
  },
  {
   "cell_type": "code",
   "execution_count": 16,
   "metadata": {
    "collapsed": false
   },
   "outputs": [],
   "source": [
    "ds9.dot(\"o\",ds.get(\"ip_diffim_NaiveDipoleCentroid_pos_x\") - scienceExposure.getX0(), ds.get(\"ip_diffim_NaiveDipoleCentroid_pos_y\") - scienceExposure.getY0(), frame=5, size = 25, ctype = ds9.RED)\n",
    "ds9.dot(\"o\",ds.get(\"ip_diffim_NaiveDipoleCentroid_pos_x\") - scienceExposure.getX0(), ds.get(\"ip_diffim_NaiveDipoleCentroid_pos_y\") - scienceExposure.getY0(), frame=6, size = 25, ctype = ds9.RED)\n",
    "ds9.dot(\"o\",ds.get(\"ip_diffim_NaiveDipoleCentroid_pos_x\") - scienceExposure.getX0(), ds.get(\"ip_diffim_NaiveDipoleCentroid_pos_y\") - scienceExposure.getY0(), frame=7, size = 25, ctype = ds9.RED)"
   ]
  },
  {
   "cell_type": "code",
   "execution_count": 17,
   "metadata": {
    "collapsed": false
   },
   "outputs": [],
   "source": [
    "import lsst.afw.math as afwMath\n",
    "import lsst.afw.detection as afwDetect\n",
    "\n",
    "thresholdValue = 50\n",
    "npixMin        = 5 \n",
    "grow           = 1\n",
    "isotropic      = False\n",
    "maskedImage = subtractedExposure.getMaskedImage()\n",
    "\n",
    "threshold = afwDetect.Threshold(thresholdValue, afwDetect.Threshold.VALUE)\n",
    "footPrintSet  = afwDetect.FootprintSet(maskedImage, threshold, \"DETECTED\", npixMin)\n",
    "footPrintSet  = afwDetect.FootprintSet(footPrintSet, grow, isotropic)\n",
    "\n",
    "footPrints = footPrintSet.getFootprints()\n",
    "\n",
    "footPrintSet.setMask(maskedImage.getMask(), \"DETECTED\")"
   ]
  },
  {
   "cell_type": "code",
   "execution_count": 18,
   "metadata": {
    "collapsed": false
   },
   "outputs": [
    {
     "name": "stdout",
     "output_type": "stream",
     "text": [
      "I found  34727 footPrint(s)\n",
      "\n"
     ]
    }
   ],
   "source": [
    "print \"I found \", footPrints.size(), \"footPrint(s)\"\n",
    "print\n",
    "\n",
    "#for i in range(0,footPrints.size()):\n",
    "#    print \"Footprint:\",i\n",
    "    \n",
    "#    peak = footPrints[i].getPeaks()[0]\n",
    "#    print \"A peak of value\", peak.getPeakValue()\n",
    "#    print \"was found at X =\", peak.getFx(),\"Y =\",peak.getFy()\n"
   ]
  },
  {
   "cell_type": "code",
   "execution_count": 19,
   "metadata": {
    "collapsed": false
   },
   "outputs": [
    {
     "ename": "AttributeError",
     "evalue": "'module' object has no attribute 'SourceMeasurementConfig'",
     "output_type": "error",
     "traceback": [
      "\u001b[1;31m---------------------------------------------------------------------------\u001b[0m",
      "\u001b[1;31mAttributeError\u001b[0m                            Traceback (most recent call last)",
      "\u001b[1;32m<ipython-input-19-e79b94ab7a22>\u001b[0m in \u001b[0;36m<module>\u001b[1;34m()\u001b[0m\n\u001b[0;32m      8\u001b[0m \u001b[1;31m# Decide which algorithms to include (meas_algorithms/../tests/measure.py) is a good reference\u001b[0m\u001b[1;33m\u001b[0m\u001b[1;33m\u001b[0m\u001b[0m\n\u001b[0;32m      9\u001b[0m \u001b[1;31m# Note: the pre-centroid fit is set seperately (it is set by default to 'centroid.sdss')\u001b[0m\u001b[1;33m\u001b[0m\u001b[1;33m\u001b[0m\u001b[0m\n\u001b[1;32m---> 10\u001b[1;33m \u001b[0mmeasureSourcesConfig\u001b[0m                  \u001b[1;33m=\u001b[0m \u001b[0mmeasAlg\u001b[0m\u001b[1;33m.\u001b[0m\u001b[0mSourceMeasurementConfig\u001b[0m\u001b[1;33m(\u001b[0m\u001b[1;33m)\u001b[0m\u001b[1;33m\u001b[0m\u001b[0m\n\u001b[0m\u001b[0;32m     11\u001b[0m \u001b[1;33m\u001b[0m\u001b[0m\n\u001b[0;32m     12\u001b[0m \u001b[0mmeasureSourcesConfig\u001b[0m\u001b[1;33m.\u001b[0m\u001b[0malgorithms\u001b[0m\u001b[1;33m.\u001b[0m\u001b[0mnames\u001b[0m \u001b[1;33m=\u001b[0m \u001b[1;33m[\u001b[0m\u001b[1;34m'shape.sdss'\u001b[0m\u001b[1;33m]\u001b[0m\u001b[1;33m\u001b[0m\u001b[0m\n",
      "\u001b[1;31mAttributeError\u001b[0m: 'module' object has no attribute 'SourceMeasurementConfig'"
     ]
    }
   ],
   "source": [
    "import lsst.meas.algorithms as measAlg\n",
    "\n",
    "# Make a Schema which is a list of columns for a table.  The object below store things in a table. \n",
    "# The Schema is a describption of what is in each column. It can be added to by algorithms later.\n",
    "schema = afwTable.SourceTable.makeMinimalSchema()\n",
    "\n",
    "# Make an object which we are going to use to configure the algorithms\n",
    "# Decide which algorithms to include (meas_algorithms/../tests/measure.py) is a good reference\n",
    "# Note: the pre-centroid fit is set seperately (it is set by default to 'centroid.sdss')\n",
    "measureSourcesConfig                  = measAlg.SourceMeasurementConfig()\n",
    "\n",
    "measureSourcesConfig.algorithms.names = ['shape.sdss']\n",
    "\n",
    "#Aliases only\n",
    "measureSourcesConfig.slots.psfFlux    = None\n",
    "measureSourcesConfig.slots.apFlux     = None\n",
    "measureSourcesConfig.slots.modelFlux  = None\n",
    "measureSourcesConfig.slots.instFlux   = None\n",
    "measureSourcesConfig.validate()\n",
    "\n",
    "# Now make the object which includes list the algorithms we want to use\n",
    "# using the measureSourcesConfig object I made before.\n",
    "# It also adds output places for those algorithms to the schema.\n",
    "# This object can apply it's algorithms to images given a list of sources.\n",
    "measureSources = measureSourcesConfig.makeMeasureSources(schema)\n",
    "\n",
    "# First make a catalog. Then, setup the aliases in the table so that it agrees with \n",
    "# our rules above (where we set the aliases to None).\n",
    "catalog  = afwTable.SourceCatalog(schema)\n",
    "measureSourcesConfig.slots.setupTable(catalog.getTable())\n",
    "\n",
    "# Take the set of footPrints (areas around the detected objects) we found when \n",
    "# we did the detection and then put them in the catalog.\n",
    "footPrintSet.makeSources(catalog)\n",
    "\n",
    "# Loop over all of the sources in the catalog.  For each source apply our measurement algorithms to it.\n",
    "# It uses the data in the exposure for the calculation.  After the algorithim is run, print the centroid\n",
    "# of the source as found by the algorithm.  We access it throgh an alias.\n",
    "for i, source in enumerate(catalog):\n",
    "    print i\n",
    "    measureSources.apply(source, exposure)\n",
    "    print source.getCentroid()"
   ]
  },
  {
   "cell_type": "markdown",
   "metadata": {},
   "source": [
    "##Visualization tests"
   ]
  },
  {
   "cell_type": "markdown",
   "metadata": {},
   "source": [
    "Test methods to paint the sources on the images"
   ]
  },
  {
   "cell_type": "code",
   "execution_count": null,
   "metadata": {
    "collapsed": false
   },
   "outputs": [],
   "source": [
    "for src1 in diaSrcs1:\n",
    "    if np.isnan(src1.get(\"ip_diffim_NaiveDipoleCentroid_pos_x\"))==False :\n",
    "        x = src1.get(\"ip_diffim_NaiveDipoleCentroid_pos_x\")\n",
    "        y = src1.get(\"ip_diffim_NaiveDipoleCentroid_pos_y\")\n",
    "        ds9.dot(\"+\", x-cexp.getX0(),y-cexp.getY0(), frame=1, size = 25, ctype = ds9.RED)"
   ]
  }
 ],
 "metadata": {
  "kernelspec": {
   "display_name": "Python 2",
   "language": "python",
   "name": "python2"
  },
  "language_info": {
   "codemirror_mode": {
    "name": "ipython",
    "version": 2
   },
   "file_extension": ".py",
   "mimetype": "text/x-python",
   "name": "python",
   "nbconvert_exporter": "python",
   "pygments_lexer": "ipython2",
   "version": "2.7.11"
  }
 },
 "nbformat": 4,
 "nbformat_minor": 0
}
