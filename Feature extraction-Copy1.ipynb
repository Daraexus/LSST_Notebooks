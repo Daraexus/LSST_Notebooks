{
 "cells": [
  {
   "cell_type": "code",
   "execution_count": 4,
   "metadata": {
    "collapsed": true
   },
   "outputs": [],
   "source": [
    "from astropy.io import ascii\n",
    "import glob\n",
    "import matplotlib.pyplot as plt\n",
    "import numpy as np\n",
    "from scipy import asarray as ar, exp\n",
    "from scipy.optimize import curve_fit, least_squares\n",
    "\n",
    "%matplotlib inline\n",
    "\n",
    "snls_colors = {\"sdssg\":\"darkgreen\", \"sdssi\":\"darkblue\", \"sdssr\":\"darkred\", \"sdssz\":\"purple\"}"
   ]
  },
  {
   "cell_type": "code",
   "execution_count": 5,
   "metadata": {
    "collapsed": true
   },
   "outputs": [],
   "source": [
    "def show_multi_filter_light_curve(t, colors, n_factor = None):\n",
    "\n",
    "    t_by_filter = t.group_by(\"bandpass\")\n",
    "\n",
    "    indices = t_by_filter.groups.indices\n",
    "    #print indices\n",
    "\n",
    "    for i in range(0, len(indices)-1):\n",
    "\n",
    "        data = t_by_filter[indices[i]:indices[i+1]]\n",
    "        \n",
    "        if n_factor is not None:\n",
    "            value = n_factor[data[0][\"bandpass\"]]\n",
    "            f = value if np.isnan(value) == False else 1\n",
    "            plt.errorbar(data[\"mjd\"], data[\"flux\"]*f,yerr=data[\"flux_error\"]*f, fmt='.', markersize='5', label=data[0][\"bandpass\"], c=colors[data[0][\"bandpass\"]])            \n",
    "        else:\n",
    "            plt.errorbar(data[\"mjd\"], data[\"flux\"],yerr=data[\"flux_error\"], fmt='.', markersize='5', label=data[0][\"bandpass\"], c=colors[data[0][\"bandpass\"]])\n",
    "    plt.legend()\n",
    "    #plt.show()"
   ]
  },
  {
   "cell_type": "code",
   "execution_count": 6,
   "metadata": {
    "collapsed": true
   },
   "outputs": [],
   "source": [
    "def get_max_index(fluxes):\n",
    "    max_val = 0\n",
    "    max_index = -1\n",
    "    for i, elem in enumerate(fluxes):\n",
    "        \n",
    "        if max_val<elem:\n",
    "            max_val = elem\n",
    "            max_index = i\n",
    "            \n",
    "    return max_index"
   ]
  },
  {
   "cell_type": "code",
   "execution_count": 7,
   "metadata": {
    "collapsed": true
   },
   "outputs": [],
   "source": [
    "def gauss(x, a, x0, sigma, b):\n",
    "    return a*exp(-(x-x0)**2/(2*sigma**2))+b\n",
    "\n",
    "\n",
    "def residuals(p, x, y):\n",
    "    a, m, s, b = p\n",
    "    y_fit = gauss(x, a, m, s, b)\n",
    "    \n",
    "    err = y - y_fit\n",
    "    return err\n",
    "    "
   ]
  },
  {
   "cell_type": "code",
   "execution_count": 67,
   "metadata": {
    "collapsed": true
   },
   "outputs": [],
   "source": [
    "def show_fit_gaussians(t, colors, n_factor = None,maxfev = 1000):\n",
    "\n",
    "    t_by_filter = t.group_by(\"bandpass\")\n",
    "    min_date = min(t[\"mjd\"])\n",
    "    max_date = max(t[\"mjd\"])\n",
    "    \n",
    "    indices = t_by_filter.groups.indices\n",
    "    max_i = get_max_index(t_by_filter[\"flux\"])\n",
    "    mean_date = t_by_filter[max_i][\"mjd\"]-min_date\n",
    "    \n",
    "  \n",
    "    for i in range(0, len(indices)-1):\n",
    "\n",
    "        data = t_by_filter[indices[i]:indices[i+1]]\n",
    "        x = data[\"mjd\"]-min_date\n",
    "        y = data[\"flux\"]\n",
    "        \n",
    "        n = len(x)\n",
    "        sigma = np.std(y)\n",
    "        \n",
    "      \n",
    "        popt, pcov = curve_fit(gauss, x, y, p0=[1, mean_date, sigma, 1], maxfev = maxfev)\n",
    "        plt.plot(x, y, 'b+', color=colors[data[0][\"bandpass\"]])\n",
    "        \n",
    "        X = np.arange(0,max_date-min_date,1)\n",
    "        \n",
    "        plt.plot(X, gauss(X, *popt), color=colors[data[0][\"bandpass\"]])\n",
    "        #print gauss(X, *popt)\n",
    "        #plt.xlim(xmin=400, xmax=500)\n",
    "        #plt.show()\n",
    "        #plt.legend()\n",
    "        \n",
    "        \n",
    "    plt.show()"
   ]
  },
  {
   "cell_type": "code",
   "execution_count": 16,
   "metadata": {},
   "outputs": [],
   "source": [
    "def open_curve(idc):\n",
    "\n",
    "    table = ascii.read(\"/datadec/cppm/jpreyes/mpi_tests/multicolour_set/\"+str(idc)+\".dat\")\n",
    "    #able = ascii.read(\"/datadec/cppm/jpreyes/light_curves/\"+str(idc)+\".dat\")\n",
    "    return table\n",
    "        "
   ]
  },
  {
   "cell_type": "code",
   "execution_count": 38,
   "metadata": {},
   "outputs": [
    {
     "data": {
      "image/png": "[encoded data removed]",
      "text/plain": [
       "<matplotlib.figure.Figure at 0x7f09c06ce510>"
      ]
     },
     "metadata": {},
     "output_type": "display_data"
    }
   ],
   "source": [
    "t = open_curve(362011)\n",
    "show_multi_filter_light_curve(t, snls_colors)"
   ]
  },
  {
   "cell_type": "code",
   "execution_count": 44,
   "metadata": {
    "collapsed": true
   },
   "outputs": [],
   "source": [
    "curves = [554000,   20003,  362011,   69015,  393015,  367516,  161020,  275024,\n",
    "  254525,  488529,  353043,  323044,  275045,  427057,  334559,  237060,\n",
    "  152584,   96086,  378589,  528591,  530591,  499597,  364100,  205609,\n",
    "  238624,  171628,  215129,  548130,  508136,  275139,  282642,  489662,\n",
    "  328663,  300671,  603671,  252672,  162173,  563183,  199187,  320194,\n",
    "  589709,  181218,  354226,  321730,  375231,  371244,  588754,  169755,\n",
    "  100761,  102262,  409763,  452764,  491269,  585770,  320271,  391771,\n",
    "  307774,  452780,  103782,  450288,  159790,  277301,  270321,   84323,\n",
    "  305823,  560323,  152326,  447832,  146839,  145345,  238345,   69346,\n",
    "   86347,  231850,   72360,  536862,  201863,  220368,  437374,  157377,\n",
    "  295384,  606385,  168391,  454891,  150894,  152407,    8910,  527422,\n",
    "  330434,  532940,  607447,  563958,  550462,  527464,  206968,  275472,\n",
    "  387472,  541474,  352982,  354483,  538486,  127487,  395488,   51991,\n",
    "   51997,]"
   ]
  },
  {
   "cell_type": "code",
   "execution_count": 50,
   "metadata": {},
   "outputs": [
    {
     "name": "stdout",
     "output_type": "stream",
     "text": [
      "8910 --> 561\n",
      "20003 --> 1404\n",
      "51991 --> 4117\n",
      "51997 --> 4120\n",
      "69346 --> 5506\n",
      "72360 --> 5742\n",
      "84323 --> 6589\n",
      "86347 --> 6744\n",
      "96086 --> 7470\n",
      "100761 --> 7900\n",
      "102262 --> 7999\n",
      "103782 --> 8064\n",
      "127487 --> 10038\n",
      "145345 --> 11640\n",
      "146839 --> 11725\n",
      "150894 --> 12109\n",
      "152407 --> 12373\n",
      "157377 --> 12664\n",
      "159790 --> 12915\n",
      "161020 --> 13022\n",
      "168391 --> 13722\n",
      "169755 --> 13899\n",
      "171628 --> 14018\n",
      "199187 --> 16329\n",
      "205609 --> 16879\n",
      "206968 --> 16944\n",
      "215129 --> 17605\n",
      "231850 --> 19072\n",
      "237060 --> 19567\n",
      "238345 --> 19701\n",
      "254525 --> 20889\n",
      "270321 --> 21996\n",
      "275024 --> 22404\n",
      "275045 --> 22417\n",
      "275139 --> 22469\n",
      "277301 --> 22617\n",
      "282642 --> 23020\n",
      "300671 --> 24781\n",
      "305823 --> 25184\n",
      "307774 --> 25369\n",
      "320194 --> 26378\n",
      "320271 --> 26415\n",
      "321730 --> 26571\n",
      "323044 --> 26639\n",
      "330434 --> 27175\n",
      "334559 --> 27488\n",
      "352982 --> 29106\n",
      "353043 --> 29135\n",
      "354483 --> 29292\n",
      "362011 --> 29949\n",
      "364100 --> 30210\n",
      "367516 --> 30527\n",
      "371244 --> 30838\n",
      "375231 --> 31096\n",
      "378589 --> 31331\n",
      "387472 --> 31909\n",
      "391771 --> 32324\n",
      "395488 --> 32566\n",
      "409763 --> 33745\n",
      "427057 --> 35109\n",
      "437374 --> 35887\n",
      "447832 --> 36493\n",
      "450288 --> 36714\n",
      "452764 --> 36863\n",
      "452780 --> 36876\n",
      "454891 --> 37042\n",
      "488529 --> 39785\n",
      "489662 --> 39905\n",
      "491269 --> 40125\n",
      "499597 --> 41174\n",
      "508136 --> 41774\n",
      "527422 --> 43213\n",
      "528591 --> 43307\n",
      "530591 --> 43488\n",
      "532940 --> 43726\n",
      "536862 --> 44036\n",
      "538486 --> 44124\n",
      "541474 --> 44314\n",
      "548130 --> 44884\n",
      "550462 --> 45056\n",
      "554000 --> 45358\n",
      "560323 --> 46035\n",
      "563183 --> 46373\n",
      "585770 --> 48281\n",
      "588754 --> 48621\n",
      "589709 --> 48761\n",
      "603671 --> 50353\n",
      "606385 --> 50545\n",
      "607447 --> 50657\n"
     ]
    },
    {
     "ename": "IOError",
     "evalue": "[Errno 2] No such file or directory: '/datadec/cppm/jpreyes/mpi_tests/multicolour_set/613639.dat'",
     "output_type": "error",
     "traceback": [
      "\u001b[0;31m---------------------------------------------------------------------------\u001b[0m",
      "\u001b[0;31mIOError\u001b[0m                                   Traceback (most recent call last)",
      "\u001b[0;32m<ipython-input-50-3aaeec3a41c2>\u001b[0m in \u001b[0;36m<module>\u001b[0;34m()\u001b[0m\n\u001b[1;32m      2\u001b[0m \u001b[0mcounter\u001b[0m \u001b[0;34m=\u001b[0m \u001b[0;36m0\u001b[0m\u001b[0;34m\u001b[0m\u001b[0m\n\u001b[1;32m      3\u001b[0m \u001b[0;32mfor\u001b[0m \u001b[0mi\u001b[0m \u001b[0;32min\u001b[0m \u001b[0mrange\u001b[0m\u001b[0;34m(\u001b[0m\u001b[0;36m0\u001b[0m\u001b[0;34m,\u001b[0m\u001b[0;36m613640\u001b[0m\u001b[0;34m)\u001b[0m\u001b[0;34m:\u001b[0m\u001b[0;34m\u001b[0m\u001b[0m\n\u001b[0;32m----> 4\u001b[0;31m     \u001b[0mt\u001b[0m \u001b[0;34m=\u001b[0m \u001b[0mopen_curve\u001b[0m\u001b[0;34m(\u001b[0m\u001b[0mi\u001b[0m\u001b[0;34m)\u001b[0m\u001b[0;34m\u001b[0m\u001b[0m\n\u001b[0m\u001b[1;32m      5\u001b[0m     \u001b[0;32mif\u001b[0m \u001b[0mlen\u001b[0m\u001b[0;34m(\u001b[0m\u001b[0mt\u001b[0m\u001b[0;34m.\u001b[0m\u001b[0mgroup_by\u001b[0m\u001b[0;34m(\u001b[0m\u001b[0;34m\"bandpass\"\u001b[0m\u001b[0;34m)\u001b[0m\u001b[0;34m.\u001b[0m\u001b[0mgroups\u001b[0m\u001b[0;34m.\u001b[0m\u001b[0mindices\u001b[0m\u001b[0;34m)\u001b[0m \u001b[0;34m>\u001b[0m \u001b[0;36m2\u001b[0m\u001b[0;34m:\u001b[0m\u001b[0;34m\u001b[0m\u001b[0m\n\u001b[1;32m      6\u001b[0m \u001b[0;34m\u001b[0m\u001b[0m\n",
      "\u001b[0;32m<ipython-input-16-920e2b440c8c>\u001b[0m in \u001b[0;36mopen_curve\u001b[0;34m(idc)\u001b[0m\n\u001b[1;32m      1\u001b[0m \u001b[0;32mdef\u001b[0m \u001b[0mopen_curve\u001b[0m\u001b[0;34m(\u001b[0m\u001b[0midc\u001b[0m\u001b[0;34m)\u001b[0m\u001b[0;34m:\u001b[0m\u001b[0;34m\u001b[0m\u001b[0m\n\u001b[1;32m      2\u001b[0m \u001b[0;34m\u001b[0m\u001b[0m\n\u001b[0;32m----> 3\u001b[0;31m     \u001b[0mtable\u001b[0m \u001b[0;34m=\u001b[0m \u001b[0mascii\u001b[0m\u001b[0;34m.\u001b[0m\u001b[0mread\u001b[0m\u001b[0;34m(\u001b[0m\u001b[0;34m\"/datadec/cppm/jpreyes/mpi_tests/multicolour_set/\"\u001b[0m\u001b[0;34m+\u001b[0m\u001b[0mstr\u001b[0m\u001b[0;34m(\u001b[0m\u001b[0midc\u001b[0m\u001b[0;34m)\u001b[0m\u001b[0;34m+\u001b[0m\u001b[0;34m\".dat\"\u001b[0m\u001b[0;34m)\u001b[0m\u001b[0;34m\u001b[0m\u001b[0m\n\u001b[0m\u001b[1;32m      4\u001b[0m     \u001b[0;31m#able = ascii.read(\"/datadec/cppm/jpreyes/light_curves/\"+str(idc)+\".dat\")\u001b[0m\u001b[0;34m\u001b[0m\u001b[0;34m\u001b[0m\u001b[0m\n\u001b[1;32m      5\u001b[0m     \u001b[0;32mreturn\u001b[0m \u001b[0mtable\u001b[0m\u001b[0;34m\u001b[0m\u001b[0m\n",
      "\u001b[0;32m/renoir_data_00/fouchez/lsst/DM/stacks/lsstsw/2017-05-04/lsstsw/miniconda/lib/python2.7/site-packages/astropy/io/ascii/ui.pyc\u001b[0m in \u001b[0;36mread\u001b[0;34m(table, guess, **kwargs)\u001b[0m\n\u001b[1;32m    320\u001b[0m         \u001b[0;31m# through below to the non-guess way so that any problems result in a\u001b[0m\u001b[0;34m\u001b[0m\u001b[0;34m\u001b[0m\u001b[0m\n\u001b[1;32m    321\u001b[0m         \u001b[0;31m# more useful traceback.\u001b[0m\u001b[0;34m\u001b[0m\u001b[0;34m\u001b[0m\u001b[0m\n\u001b[0;32m--> 322\u001b[0;31m         \u001b[0mdat\u001b[0m \u001b[0;34m=\u001b[0m \u001b[0m_guess\u001b[0m\u001b[0;34m(\u001b[0m\u001b[0mtable\u001b[0m\u001b[0;34m,\u001b[0m \u001b[0mnew_kwargs\u001b[0m\u001b[0;34m,\u001b[0m \u001b[0mformat\u001b[0m\u001b[0;34m,\u001b[0m \u001b[0mfast_reader_param\u001b[0m\u001b[0;34m)\u001b[0m\u001b[0;34m\u001b[0m\u001b[0m\n\u001b[0m\u001b[1;32m    323\u001b[0m         \u001b[0;32mif\u001b[0m \u001b[0mdat\u001b[0m \u001b[0;32mis\u001b[0m \u001b[0mNone\u001b[0m\u001b[0;34m:\u001b[0m\u001b[0;34m\u001b[0m\u001b[0m\n\u001b[1;32m    324\u001b[0m             \u001b[0mguess\u001b[0m \u001b[0;34m=\u001b[0m \u001b[0mFalse\u001b[0m\u001b[0;34m\u001b[0m\u001b[0m\n",
      "\u001b[0;32m/renoir_data_00/fouchez/lsst/DM/stacks/lsstsw/2017-05-04/lsstsw/miniconda/lib/python2.7/site-packages/astropy/io/ascii/ui.pyc\u001b[0m in \u001b[0;36m_guess\u001b[0;34m(table, read_kwargs, format, fast_reader)\u001b[0m\n\u001b[1;32m    468\u001b[0m             \u001b[0mreader\u001b[0m \u001b[0;34m=\u001b[0m \u001b[0mget_reader\u001b[0m\u001b[0;34m(\u001b[0m\u001b[0;34m**\u001b[0m\u001b[0mguess_kwargs\u001b[0m\u001b[0;34m)\u001b[0m\u001b[0;34m\u001b[0m\u001b[0m\n\u001b[1;32m    469\u001b[0m             \u001b[0mreader\u001b[0m\u001b[0;34m.\u001b[0m\u001b[0mguessing\u001b[0m \u001b[0;34m=\u001b[0m \u001b[0mTrue\u001b[0m\u001b[0;34m\u001b[0m\u001b[0m\n\u001b[0;32m--> 470\u001b[0;31m             \u001b[0mdat\u001b[0m \u001b[0;34m=\u001b[0m \u001b[0mreader\u001b[0m\u001b[0;34m.\u001b[0m\u001b[0mread\u001b[0m\u001b[0;34m(\u001b[0m\u001b[0mtable\u001b[0m\u001b[0;34m)\u001b[0m\u001b[0;34m\u001b[0m\u001b[0m\n\u001b[0m\u001b[1;32m    471\u001b[0m             _read_trace.append({'kwargs': guess_kwargs, 'status': 'Success (guessing)',\n\u001b[1;32m    472\u001b[0m                                 'dt': '{0:.3f} ms'.format((time.time() - t0) * 1000)})\n",
      "\u001b[0;32m/renoir_data_00/fouchez/lsst/DM/stacks/lsstsw/2017-05-04/lsstsw/miniconda/lib/python2.7/site-packages/astropy/io/ascii/core.pyc\u001b[0m in \u001b[0;36mread\u001b[0;34m(self, table)\u001b[0m\n\u001b[1;32m   1142\u001b[0m \u001b[0;34m\u001b[0m\u001b[0m\n\u001b[1;32m   1143\u001b[0m         \u001b[0;31m# Get a list of the lines (rows) in the table\u001b[0m\u001b[0;34m\u001b[0m\u001b[0;34m\u001b[0m\u001b[0m\n\u001b[0;32m-> 1144\u001b[0;31m         \u001b[0mself\u001b[0m\u001b[0;34m.\u001b[0m\u001b[0mlines\u001b[0m \u001b[0;34m=\u001b[0m \u001b[0mself\u001b[0m\u001b[0;34m.\u001b[0m\u001b[0minputter\u001b[0m\u001b[0;34m.\u001b[0m\u001b[0mget_lines\u001b[0m\u001b[0;34m(\u001b[0m\u001b[0mtable\u001b[0m\u001b[0;34m)\u001b[0m\u001b[0;34m\u001b[0m\u001b[0m\n\u001b[0m\u001b[1;32m   1145\u001b[0m \u001b[0;34m\u001b[0m\u001b[0m\n\u001b[1;32m   1146\u001b[0m         \u001b[0;31m# Set self.data.data_lines to a slice of lines contain the data rows\u001b[0m\u001b[0;34m\u001b[0m\u001b[0;34m\u001b[0m\u001b[0m\n",
      "\u001b[0;32m/renoir_data_00/fouchez/lsst/DM/stacks/lsstsw/2017-05-04/lsstsw/miniconda/lib/python2.7/site-packages/astropy/io/ascii/core.pyc\u001b[0m in \u001b[0;36mget_lines\u001b[0;34m(self, table)\u001b[0m\n\u001b[1;32m    281\u001b[0m             if (hasattr(table, 'read') or\n\u001b[1;32m    282\u001b[0m                     ('\\n' not in table + '' and '\\r' not in table + '')):\n\u001b[0;32m--> 283\u001b[0;31m                 \u001b[0;32mwith\u001b[0m \u001b[0mget_readable_fileobj\u001b[0m\u001b[0;34m(\u001b[0m\u001b[0mtable\u001b[0m\u001b[0;34m)\u001b[0m \u001b[0;32mas\u001b[0m \u001b[0mfile_obj\u001b[0m\u001b[0;34m:\u001b[0m\u001b[0;34m\u001b[0m\u001b[0m\n\u001b[0m\u001b[1;32m    284\u001b[0m                     \u001b[0mtable\u001b[0m \u001b[0;34m=\u001b[0m \u001b[0mfile_obj\u001b[0m\u001b[0;34m.\u001b[0m\u001b[0mread\u001b[0m\u001b[0;34m(\u001b[0m\u001b[0;34m)\u001b[0m\u001b[0;34m\u001b[0m\u001b[0m\n\u001b[1;32m    285\u001b[0m             \u001b[0mlines\u001b[0m \u001b[0;34m=\u001b[0m \u001b[0mtable\u001b[0m\u001b[0;34m.\u001b[0m\u001b[0msplitlines\u001b[0m\u001b[0;34m(\u001b[0m\u001b[0;34m)\u001b[0m\u001b[0;34m\u001b[0m\u001b[0m\n",
      "\u001b[0;32m/renoir_data_00/fouchez/lsst/DM/stacks/lsstsw/2017-05-04/lsstsw/miniconda/lib/python2.7/contextlib.pyc\u001b[0m in \u001b[0;36m__enter__\u001b[0;34m(self)\u001b[0m\n\u001b[1;32m     15\u001b[0m     \u001b[0;32mdef\u001b[0m \u001b[0m__enter__\u001b[0m\u001b[0;34m(\u001b[0m\u001b[0mself\u001b[0m\u001b[0;34m)\u001b[0m\u001b[0;34m:\u001b[0m\u001b[0;34m\u001b[0m\u001b[0m\n\u001b[1;32m     16\u001b[0m         \u001b[0;32mtry\u001b[0m\u001b[0;34m:\u001b[0m\u001b[0;34m\u001b[0m\u001b[0m\n\u001b[0;32m---> 17\u001b[0;31m             \u001b[0;32mreturn\u001b[0m \u001b[0mself\u001b[0m\u001b[0;34m.\u001b[0m\u001b[0mgen\u001b[0m\u001b[0;34m.\u001b[0m\u001b[0mnext\u001b[0m\u001b[0;34m(\u001b[0m\u001b[0;34m)\u001b[0m\u001b[0;34m\u001b[0m\u001b[0m\n\u001b[0m\u001b[1;32m     18\u001b[0m         \u001b[0;32mexcept\u001b[0m \u001b[0mStopIteration\u001b[0m\u001b[0;34m:\u001b[0m\u001b[0;34m\u001b[0m\u001b[0m\n\u001b[1;32m     19\u001b[0m             \u001b[0;32mraise\u001b[0m \u001b[0mRuntimeError\u001b[0m\u001b[0;34m(\u001b[0m\u001b[0;34m\"generator didn't yield\"\u001b[0m\u001b[0;34m)\u001b[0m\u001b[0;34m\u001b[0m\u001b[0m\n",
      "\u001b[0;32m/renoir_data_00/fouchez/lsst/DM/stacks/lsstsw/2017-05-04/lsstsw/miniconda/lib/python2.7/site-packages/astropy/utils/data.pyc\u001b[0m in \u001b[0;36mget_readable_fileobj\u001b[0;34m(name_or_obj, encoding, cache, show_progress, remote_timeout)\u001b[0m\n\u001b[1;32m    197\u001b[0m                 timeout=remote_timeout)\n\u001b[1;32m    198\u001b[0m         \u001b[0;32mif\u001b[0m \u001b[0msix\u001b[0m\u001b[0;34m.\u001b[0m\u001b[0mPY2\u001b[0m\u001b[0;34m:\u001b[0m\u001b[0;34m\u001b[0m\u001b[0m\n\u001b[0;32m--> 199\u001b[0;31m             \u001b[0mfileobj\u001b[0m \u001b[0;34m=\u001b[0m \u001b[0mopen\u001b[0m\u001b[0;34m(\u001b[0m\u001b[0mname_or_obj\u001b[0m\u001b[0;34m,\u001b[0m \u001b[0;34m'rb'\u001b[0m\u001b[0;34m)\u001b[0m\u001b[0;34m\u001b[0m\u001b[0m\n\u001b[0m\u001b[1;32m    200\u001b[0m         \u001b[0;32melse\u001b[0m\u001b[0;34m:\u001b[0m\u001b[0;34m\u001b[0m\u001b[0m\n\u001b[1;32m    201\u001b[0m             \u001b[0mfileobj\u001b[0m \u001b[0;34m=\u001b[0m \u001b[0mio\u001b[0m\u001b[0;34m.\u001b[0m\u001b[0mFileIO\u001b[0m\u001b[0;34m(\u001b[0m\u001b[0mname_or_obj\u001b[0m\u001b[0;34m,\u001b[0m \u001b[0;34m'r'\u001b[0m\u001b[0;34m)\u001b[0m\u001b[0;34m\u001b[0m\u001b[0m\n",
      "\u001b[0;31mIOError\u001b[0m: [Errno 2] No such file or directory: '/datadec/cppm/jpreyes/mpi_tests/multicolour_set/613639.dat'"
     ]
    }
   ],
   "source": [
    "def_lcs = []\n",
    "counter = 0\n",
    "for i in range(0,613640):\n",
    "    t = open_curve(i)\n",
    "    if len(t.group_by(\"bandpass\").groups.indices) > 2:\n",
    "        \n",
    "        def_lcs.append(t)\n",
    "        counter+=1\n",
    "        if(i in curves):\n",
    "            print i, \"-->\", counter\n",
    "            "
   ]
  },
  {
   "cell_type": "code",
   "execution_count": 59,
   "metadata": {},
   "outputs": [
    {
     "data": {
      "text/plain": [
       "(51380, 105)"
      ]
     },
     "execution_count": 59,
     "metadata": {},
     "output_type": "execute_result"
    }
   ],
   "source": [
    "len(def_lcs), len(curves)"
   ]
  },
  {
   "cell_type": "code",
   "execution_count": 591,
   "metadata": {
    "collapsed": true
   },
   "outputs": [],
   "source": [
    "lcs = []\n",
    "for c in curves:\n",
    "\n",
    "    lienObj = glob.glob(\"/datadec/cppm/jpreyes/mpi_tests/multicolour_set/\"+str(c)+\".dat\")\n",
    "\n",
    "\n",
    "    for oj in lienObj:\n",
    "        table = ascii.read(oj)\n",
    "        lcs.append(table)\n",
    "        break\n",
    "\n",
    "#show_multi_filter_light_curve(lcs[0], snls_colors)"
   ]
  },
  {
   "cell_type": "code",
   "execution_count": 89,
   "metadata": {},
   "outputs": [
    {
     "data": {
      "image/png": "[encoded data removed]",
      "text/plain": [
       "<matplotlib.figure.Figure at 0x7f095b7ef190>"
      ]
     },
     "metadata": {},
     "output_type": "display_data"
    }
   ],
   "source": [
    "t = open_curve(8910)\n",
    "show_multi_filter_light_curve(t, snls_colors)"
   ]
  },
  {
   "cell_type": "code",
   "execution_count": 94,
   "metadata": {},
   "outputs": [
    {
     "data": {
      "image/png": "[encoded data removed]",
      "text/plain": [
       "<matplotlib.figure.Figure at 0x7f095af7e910>"
      ]
     },
     "metadata": {},
     "output_type": "display_data"
    }
   ],
   "source": [
    "lc = def_lcs[11724]\n",
    "show_multi_filter_light_curve(lc, snls_colors)"
   ]
  },
  {
   "cell_type": "code",
   "execution_count": 96,
   "metadata": {},
   "outputs": [
    {
     "data": {
      "image/png": "[encoded data removed]",
      "text/plain": [
       "<matplotlib.figure.Figure at 0x7f095ad2d1d0>"
      ]
     },
     "metadata": {},
     "output_type": "display_data"
    }
   ],
   "source": [
    "show_fit_gaussians(lc, snls_colors, maxfev = 10000)"
   ]
  },
  {
   "cell_type": "code",
   "execution_count": 581,
   "metadata": {},
   "outputs": [
    {
     "data": {
      "image/png": "[encoded data removed]",
      "text/plain": [
       "<matplotlib.figure.Figure at 0x7fce0a994a50>"
      ]
     },
     "metadata": {},
     "output_type": "display_data"
    }
   ],
   "source": [
    "lc = lcs[0]\n",
    "mask = lc[\"bandpass\"] == \"sdssi\"\n",
    "lc_i = lc[mask]\n",
    "show_multi_filter_light_curve(lc_i, snls_colors)"
   ]
  },
  {
   "cell_type": "code",
   "execution_count": 582,
   "metadata": {},
   "outputs": [
    {
     "name": "stdout",
     "output_type": "stream",
     "text": [
      "31\n"
     ]
    }
   ],
   "source": [
    "t_by_filter = lc.group_by(\"bandpass\")\n",
    "min_date = min(lc[\"mjd\"])\n",
    "max_date = max(lc[\"mjd\"])\n",
    "\n",
    "indices = t_by_filter.groups.indices\n",
    "max_i = get_max_index(t_by_filter[\"flux\"])\n",
    "print max_i"
   ]
  },
  {
   "cell_type": "code",
   "execution_count": 583,
   "metadata": {
    "collapsed": true
   },
   "outputs": [],
   "source": [
    "from sklearn.preprocessing import normalize\n",
    "from scipy.optimize import leastsq\n",
    "\n",
    "x = lc_i[\"mjd\"]-min(lc[\"mjd\"])\n",
    "y = lc_i[\"flux\"]\n",
    "y_error = lc_i[\"flux_error\"]\n",
    "#x = normalize(x)[0]\n",
    "n = len(x)\n",
    "mean = sum(x*y)/n\n",
    "#sigma = sum((x-435)**2)/n\n",
    "sigma = np.std(y)"
   ]
  },
  {
   "cell_type": "code",
   "execution_count": 515,
   "metadata": {},
   "outputs": [
    {
     "name": "stdout",
     "output_type": "stream",
     "text": [
      "10.481611015\n"
     ]
    }
   ],
   "source": [
    "print sigma"
   ]
  },
  {
   "cell_type": "code",
   "execution_count": 516,
   "metadata": {
    "collapsed": true
   },
   "outputs": [],
   "source": [
    "popt, pcov = curve_fit(gauss, x, y, sigma=y_error, p0=[1, 424, sigma, 1], maxfev=2000)"
   ]
  },
  {
   "cell_type": "code",
   "execution_count": null,
   "metadata": {
    "collapsed": true
   },
   "outputs": [],
   "source": []
  },
  {
   "cell_type": "code",
   "execution_count": 517,
   "metadata": {
    "collapsed": true
   },
   "outputs": [],
   "source": [
    "pars = least_squares(residuals, x0=[1, 424, sigma, 1], args=(x,y), max_nfev=10000)"
   ]
  },
  {
   "cell_type": "code",
   "execution_count": 518,
   "metadata": {},
   "outputs": [
    {
     "name": "stdout",
     "output_type": "stream",
     "text": [
      "0.544452895394\n",
      "0.427775652171\n",
      "====\n",
      "0.357234229317\n",
      "0.240556986095\n",
      "====\n",
      "-1.28976083828\n",
      "-1.4064380815\n",
      "====\n",
      "-1.42903543545\n",
      "-1.54571267867\n",
      "====\n",
      "-2.6786639793\n",
      "-2.79534122252\n",
      "====\n",
      "0.379333724251\n",
      "0.262656481029\n",
      "====\n",
      "-1.73787475658\n",
      "-1.85455199981\n",
      "====\n",
      "-1.43101240231\n",
      "-1.54768964553\n",
      "====\n",
      "-0.984266052971\n",
      "-1.10094329619\n",
      "====\n",
      "0.626245249977\n",
      "0.509568006755\n",
      "====\n",
      "4.30039100813\n",
      "4.18371376491\n",
      "====\n",
      "1.12389253544\n",
      "1.00721529222\n",
      "====\n",
      "-0.689098129997\n",
      "-0.805775373219\n",
      "====\n",
      "-0.414577732811\n",
      "-0.531254976033\n",
      "====\n",
      "0.89502262043\n",
      "0.778345377208\n",
      "====\n",
      "-0.0473457966072\n",
      "-0.164023530426\n",
      "====\n",
      "-0.317763363754\n",
      "-0.434442272535\n",
      "====\n",
      "2.30770180823\n",
      "2.18962767967\n",
      "====\n",
      "-0.155656507899\n",
      "-0.305878507965\n",
      "====\n",
      "-0.846678019151\n",
      "-1.00998664829\n",
      "====\n",
      "-4.41541528599\n",
      "-4.59975980766\n",
      "====\n",
      "-0.885055107773\n",
      "-1.03241193343\n",
      "====\n",
      "0.613563765727\n",
      "0.522274378391\n",
      "====\n",
      "1.43511859926\n",
      "1.38164856898\n",
      "====\n",
      "1.16673987193\n",
      "1.1394770718\n",
      "====\n",
      "-0.386582225378\n",
      "-0.470487325034\n",
      "====\n",
      "-3.19365076795\n",
      "-3.35960458383\n",
      "====\n",
      "-1.27335830668\n",
      "-1.46262585211\n",
      "====\n",
      "1.40216358807\n",
      "1.11815987422\n",
      "====\n",
      "1.81238445656\n",
      "1.44656692029\n",
      "====\n",
      "0.431060836313\n",
      "0.0221991415152\n",
      "====\n",
      "0.487951983681\n",
      "0.371274740459\n",
      "====\n",
      "1.06704806255\n",
      "0.950370819331\n",
      "====\n",
      "1.14988326\n",
      "1.03320601678\n",
      "====\n",
      "-0.0339334113691\n",
      "-0.150610654591\n",
      "====\n",
      "0.0670721428301\n",
      "-0.0496051003921\n",
      "====\n",
      "0.269640197029\n",
      "0.152962953807\n",
      "====\n",
      "-0.663000355491\n",
      "-0.779677598714\n",
      "====\n",
      "1.4640681641\n",
      "1.34739092088\n",
      "====\n",
      "0.686154593697\n",
      "0.569477350475\n",
      "====\n",
      "0.57861303257\n",
      "0.461935789348\n",
      "====\n",
      "2.06167196201\n",
      "1.94499471879\n",
      "====\n",
      "-0.530993710289\n",
      "-0.647670953511\n",
      "====\n",
      "-1.82368637157\n",
      "-1.9403636148\n",
      "====\n"
     ]
    }
   ],
   "source": [
    "for i, j in zip(x, y):\n",
    "    print j-gauss(i, *pars.x)\n",
    "    print j-gauss(i, *popt)\n",
    "    print \"====\""
   ]
  },
  {
   "cell_type": "code",
   "execution_count": 519,
   "metadata": {},
   "outputs": [
    {
     "data": {
      "image/png": "[encoded data removed]",
      "text/plain": [
       "<matplotlib.figure.Figure at 0x7fce0b29fdd0>"
      ]
     },
     "metadata": {},
     "output_type": "display_data"
    }
   ],
   "source": [
    "plt.plot(x, y, 'b+')\n",
    "X = np.arange(min(x), max(x),1)\n",
    "plt.plot(X, gauss(X, *pars.x), color=\"red\")\n",
    "plt.plot(X, gauss(X, *popt), color=\"green\")\n",
    "#plt.xlim(xmin=0, xmax=500)\n",
    "#plt.ylim(ymin=-200, ymax=200)\n",
    "plt.show()"
   ]
  },
  {
   "cell_type": "code",
   "execution_count": 520,
   "metadata": {},
   "outputs": [
    {
     "data": {
      "text/plain": [
       "[<matplotlib.lines.Line2D at 0x7fce0ad44e10>]"
      ]
     },
     "execution_count": 520,
     "metadata": {},
     "output_type": "execute_result"
    },
    {
     "data": {
      "image/png": "[encoded data removed]",
      "text/plain": [
       "<matplotlib.figure.Figure at 0x7fce0b169850>"
      ]
     },
     "metadata": {},
     "output_type": "display_data"
    }
   ],
   "source": [
    "x0, sigma = 0, 0.1\n",
    "y, xe  = np.histogram(np.random.normal(x0, sigma, 1000))\n",
    "x = .5 * (xe[:-1] + xe[1:])\n",
    "\n",
    "plt.plot(x,y, \"b+\")"
   ]
  },
  {
   "cell_type": "code",
   "execution_count": 71,
   "metadata": {},
   "outputs": [
    {
     "data": {
      "text/plain": [
       "[<matplotlib.lines.Line2D at 0x7fce125bf550>]"
      ]
     },
     "execution_count": 71,
     "metadata": {},
     "output_type": "execute_result"
    },
    {
     "data": {
      "image/png": "[encoded data removed]",
      "text/plain": [
       "<matplotlib.figure.Figure at 0x7fce12336c90>"
      ]
     },
     "metadata": {},
     "output_type": "display_data"
    }
   ],
   "source": [
    "p0 = [1., 1., 1.]\n",
    "# Fit the data with the function\n",
    "fit, tmp = curve_fit(gauss, x, y, p0=p0)\n",
    "x_fine = np.linspace(xe[0], xe[-1], 100)\n",
    "plt.plot(x_fine, gauss(x_fine, fit[0], fit[1], fit[2]), 'b-')"
   ]
  },
  {
   "cell_type": "code",
   "execution_count": null,
   "metadata": {
    "collapsed": true
   },
   "outputs": [],
   "source": []
  }
 ],
 "metadata": {
  "kernelspec": {
   "display_name": "Python 2",
   "language": "python",
   "name": "python2"
  },
  "language_info": {
   "codemirror_mode": {
    "name": "ipython",
    "version": 2
   },
   "file_extension": ".py",
   "mimetype": "text/x-python",
   "name": "python",
   "nbconvert_exporter": "python",
   "pygments_lexer": "ipython2",
   "version": "2.7.12"
  }
 },
 "nbformat": 4,
 "nbformat_minor": 2
}
