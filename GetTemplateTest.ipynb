{
 "cells": [
  {
   "cell_type": "code",
   "execution_count": 6,
   "metadata": {
    "collapsed": false
   },
   "outputs": [],
   "source": [
    "import lsst.meas.astrom as measAstrom\n",
    "import lsst.daf.base as dafBase\n",
    "import lsst.pipe.base as pipeBase\n",
    "import lsst.daf.persistence as dafPersist\n",
    "\n",
    "import lsst.afw.display.ds9 as ds9\n",
    "from lsst.ip.diffim import GetCoaddAsTemplateTask, GetCalexpAsTemplateTask\n"
   ]
  },
  {
   "cell_type": "code",
   "execution_count": 26,
   "metadata": {
    "collapsed": true
   },
   "outputs": [],
   "source": [
    "gtTask = GetCalexpAsTemplateTask()"
   ]
  },
  {
   "cell_type": "code",
   "execution_count": 35,
   "metadata": {
    "collapsed": false
   },
   "outputs": [],
   "source": [
    "DATADIR=\"/renoir_data_02/jpreyes/lsst_data/CFHTLS_master/\"\n",
    "butler = dafPersist.Butler(DATADIR+\"/output\")\n",
    "\n"
   ]
  },
  {
   "cell_type": "code",
   "execution_count": 28,
   "metadata": {
    "collapsed": false
   },
   "outputs": [],
   "source": [
    "visits = [845345, 849373, 849686, 850180, 850586, 851060]\n",
    "dataId = {'visit': visits[0] , 'filter':'r' , 'ccd':14}\n",
    "diaSrcs = butler.get(\"deepDiff_diaSrc\", dataId)\n",
    "diffExp = butler.get(\"deepDiff_differenceExp\", dataId)\n",
    "sciExp  = butler.get(\"calexp\", dataId)"
   ]
  },
  {
   "cell_type": "code",
   "execution_count": 11,
   "metadata": {
    "collapsed": true
   },
   "outputs": [],
   "source": [
    "dataId = {'visit': 800717 , 'filter':'r' , 'ccd':14}\n",
    "diffExp = butler.get(\"deepDiff_differenceExp\", dataId)"
   ]
  },
  {
   "cell_type": "code",
   "execution_count": 8,
   "metadata": {
    "collapsed": true
   },
   "outputs": [],
   "source": [
    "ss = butler.subset(\"deepDiff_differenceExp\")"
   ]
  },
  {
   "cell_type": "code",
   "execution_count": 22,
   "metadata": {
    "collapsed": false
   },
   "outputs": [],
   "source": [
    "visits = butler.queryMetadata(\"deepDiff_differenceExp\", format=['visit'],dataId={'filter':'r'})"
   ]
  },
  {
   "cell_type": "code",
   "execution_count": 25,
   "metadata": {
    "collapsed": false
   },
   "outputs": [
    {
     "name": "stdout",
     "output_type": "stream",
     "text": [
      "[(800717, '2005-06-29'), (800718, '2005-06-29'), (800719, '2005-06-29'), (800720, '2005-06-29'), (800721, '2005-06-29'), (801144, '2005-07-02'), (801145, '2005-07-02'), (801146, '2005-07-02'), (801147, '2005-07-02'), (801148, '2005-07-02'), (802227, '2005-07-07'), (802228, '2005-07-07'), (802229, '2005-07-07'), (802230, '2005-07-07'), (802231, '2005-07-07'), (803021, '2005-07-14'), (803022, '2005-07-14'), (803023, '2005-07-14'), (803024, '2005-07-14'), (803025, '2005-07-14'), (805368, '2005-07-27'), (805369, '2005-07-27'), (805370, '2005-07-27'), (805371, '2005-07-27'), (805372, '2005-07-27'), (805373, '2005-07-27'), (805374, '2005-07-27'), (805375, '2005-07-27'), (806141, '2005-08-01'), (806142, '2005-08-01'), (806143, '2005-08-01'), (806144, '2005-08-01'), (806145, '2005-08-01'), (806534, '2005-08-04'), (806535, '2005-08-04'), (806536, '2005-08-04'), (806537, '2005-08-04'), (806538, '2005-08-04'), (806539, '2005-08-04'), (806540, '2005-08-04'), (806541, '2005-08-04'), (832115, '2006-01-02'), (832116, '2006-01-02'), (832117, '2006-01-02'), (832118, '2006-01-02'), (832119, '2006-01-02'), (832905, '2006-01-08'), (832907, '2006-01-08'), (832908, '2006-01-08'), (832909, '2006-01-08'), (835967, '2006-01-31'), (835968, '2006-01-31'), (835969, '2006-01-31'), (835970, '2006-01-31'), (835971, '2006-01-31'), (835972, '2006-01-31'), (836493, '2006-02-03'), (836494, '2006-02-03'), (836495, '2006-02-03'), (836496, '2006-02-03'), (836497, '2006-02-03'), (836498, '2006-02-03'), (837002, '2006-02-06'), (837003, '2006-02-06'), (837004, '2006-02-06'), (837005, '2006-02-06'), (837006, '2006-02-06'), (837007, '2006-02-06'), (837008, '2006-02-06'), (838853, '2006-02-25'), (838854, '2006-02-25'), (838855, '2006-02-25'), (838857, '2006-02-25'), (838864, '2006-02-25'), (838865, '2006-02-25'), (838866, '2006-02-25'), (838867, '2006-02-25'), (838868, '2006-02-25'), (839308, '2006-03-05'), (839309, '2006-03-05'), (839310, '2006-03-05'), (839311, '2006-03-05'), (839312, '2006-03-05'), (844210, '2006-04-23'), (844211, '2006-04-23'), (844212, '2006-04-23'), (844213, '2006-04-23'), (844214, '2006-04-23'), (844230, '2006-04-23'), (844489, '2006-04-26'), (844490, '2006-04-26'), (844491, '2006-04-26'), (844492, '2006-04-26'), (844493, '2006-04-26'), (844494, '2006-04-26'), (844495, '2006-04-26'), (844496, '2006-04-26'), (844497, '2006-04-26'), (844498, '2006-04-26'), (844514, '2006-04-26'), (844515, '2006-04-26'), (844516, '2006-04-26'), (844517, '2006-04-26'), (844518, '2006-04-26'), (844845, '2006-04-30'), (844846, '2006-04-30'), (844847, '2006-04-30'), (844848, '2006-04-30'), (844849, '2006-04-30'), (845345, '2006-05-04'), (845346, '2006-05-04'), (845347, '2006-05-04'), (845348, '2006-05-04'), (845349, '2006-05-04'), (849373, '2006-05-20'), (849374, '2006-05-20'), (849375, '2006-05-20'), (849376, '2006-05-20'), (849377, '2006-05-20'), (849685, '2006-05-24'), (849686, '2006-05-24'), (849687, '2006-05-24'), (849688, '2006-05-24'), (849689, '2006-05-24'), (850177, '2006-05-28'), (850178, '2006-05-28'), (850179, '2006-05-28'), (850180, '2006-05-28'), (850181, '2006-05-28'), (850586, '2006-06-02'), (850587, '2006-06-02'), (850588, '2006-06-02'), (850589, '2006-06-02'), (850590, '2006-06-02'), (851057, '2006-06-06'), (851058, '2006-06-06'), (851059, '2006-06-06'), (851060, '2006-06-06'), (851061, '2006-06-06'), (852890, '2006-06-20'), (852891, '2006-06-20'), (852892, '2006-06-20'), (852893, '2006-06-20'), (852894, '2006-06-20'), (853232, '2006-06-25'), (853233, '2006-06-25'), (853234, '2006-06-25'), (853235, '2006-06-25'), (853236, '2006-06-25'), (853539, '2006-06-30'), (853540, '2006-06-30'), (853541, '2006-06-30'), (853542, '2006-06-30'), (853543, '2006-06-30'), (853727, '2006-07-03'), (853728, '2006-07-03'), (853729, '2006-07-03'), (853730, '2006-07-03'), (853731, '2006-07-03'), (858537, '2006-07-19'), (858538, '2006-07-19'), (858539, '2006-07-19'), (858540, '2006-07-19'), (858541, '2006-07-19'), (859608, '2006-07-23'), (859609, '2006-07-23'), (859610, '2006-07-23'), (859611, '2006-07-23'), (859612, '2006-07-23'), (860146, '2006-07-27'), (860147, '2006-07-27'), (860148, '2006-07-27'), (860149, '2006-07-27'), (860150, '2006-07-27'), (889226, '2007-01-13'), (889227, '2007-01-13'), (889228, '2007-01-13'), (889229, '2007-01-13'), (889230, '2007-01-13'), (889870, '2007-01-17'), (889871, '2007-01-17'), (889872, '2007-01-17'), (889873, '2007-01-17'), (889874, '2007-01-17'), (890302, '2007-01-20'), (890303, '2007-01-20'), (890304, '2007-01-20'), (890305, '2007-01-20'), (890306, '2007-01-20'), (890705, '2007-01-23'), (890706, '2007-01-23'), (890707, '2007-01-23'), (890708, '2007-01-23'), (890709, '2007-01-23'), (890710, '2007-01-23'), (890711, '2007-01-23'), (895367, '2007-02-09'), (895368, '2007-02-09'), (895369, '2007-02-09'), (895370, '2007-02-09'), (895371, '2007-02-09'), (895614, '2007-02-13'), (895615, '2007-02-13'), (895616, '2007-02-13'), (895617, '2007-02-13'), (895618, '2007-02-13'), (896684, '2007-02-20'), (896685, '2007-02-20'), (896686, '2007-02-20'), (896687, '2007-02-20'), (896688, '2007-02-20'), (896850, '2007-02-22'), (896851, '2007-02-22'), (896852, '2007-02-22'), (896853, '2007-02-22'), (896854, '2007-02-22'), (898863, '2007-03-17'), (898864, '2007-03-17'), (898865, '2007-03-17'), (898866, '2007-03-17'), (898867, '2007-03-17'), (899290, '2007-03-20'), (899291, '2007-03-20'), (899292, '2007-03-20'), (899293, '2007-03-20'), (899294, '2007-03-20'), (899961, '2007-03-24'), (899962, '2007-03-24'), (899963, '2007-03-24'), (899964, '2007-03-24'), (899965, '2007-03-24'), (973326, '2008-02-28'), (973327, '2008-02-28'), (973328, '2008-02-28'), (973901, '2008-03-03'), (973902, '2008-03-03'), (973903, '2008-03-03'), (973904, '2008-03-03'), (973905, '2008-03-03'), (974652, '2008-03-06'), (974653, '2008-03-06'), (974654, '2008-03-06'), (974655, '2008-03-06'), (974656, '2008-03-06'), (975438, '2008-03-10'), (975439, '2008-03-10'), (975440, '2008-03-10'), (975441, '2008-03-10'), (975442, '2008-03-10'), (976050, '2008-03-13'), (976051, '2008-03-13'), (976052, '2008-03-13'), (976053, '2008-03-13'), (976054, '2008-03-13'), (979510, '2008-03-31'), (979511, '2008-03-31'), (979512, '2008-03-31'), (979513, '2008-03-31'), (979514, '2008-03-31'), (980473, '2008-04-05'), (980474, '2008-04-05'), (980475, '2008-04-05'), (980476, '2008-04-05'), (980477, '2008-04-05'), (980478, '2008-04-05'), (981583, '2008-04-07'), (981584, '2008-04-07'), (981585, '2008-04-07'), (981586, '2008-04-07'), (981587, '2008-04-07'), (982180, '2008-04-13'), (982181, '2008-04-13'), (982182, '2008-04-13'), (982183, '2008-04-13'), (982184, '2008-04-13'), (982185, '2008-04-13'), (982186, '2008-04-13'), (982187, '2008-04-13'), (982188, '2008-04-13'), (982189, '2008-04-13'), (986881, '2008-05-02'), (986882, '2008-05-02'), (986883, '2008-05-02'), (986884, '2008-05-02'), (986885, '2008-05-02'), (986886, '2008-05-02'), (986887, '2008-05-02'), (987219, '2008-05-05'), (987220, '2008-05-05'), (987221, '2008-05-05'), (987222, '2008-05-05'), (987223, '2008-05-05'), (987581, '2008-05-08'), (987582, '2008-05-08'), (987583, '2008-05-08'), (987584, '2008-05-08'), (987585, '2008-05-08'), (988125, '2008-05-11'), (988126, '2008-05-11'), (988127, '2008-05-11'), (988128, '2008-05-11'), (988129, '2008-05-11'), (988583, '2008-05-14'), (988584, '2008-05-14'), (988585, '2008-05-14'), (988586, '2008-05-14'), (988587, '2008-05-14'), (994755, '2008-05-28'), (994756, '2008-05-28'), (994757, '2008-05-28'), (994758, '2008-05-28'), (994759, '2008-05-28'), (995364, '2008-06-01'), (995365, '2008-06-01'), (995366, '2008-06-01'), (995367, '2008-06-01'), (995368, '2008-06-01'), (995973, '2008-06-04'), (995974, '2008-06-04'), (995975, '2008-06-04'), (995976, '2008-06-04'), (995977, '2008-06-04'), (996230, '2008-06-07'), (996231, '2008-06-07'), (996232, '2008-06-07'), (996233, '2008-06-07'), (996234, '2008-06-07'), (996717, '2008-06-12'), (996718, '2008-06-12'), (996719, '2008-06-12'), (996720, '2008-06-12'), (996721, '2008-06-12')]\n"
     ]
    }
   ],
   "source": [
    "visits = butler.queryMetadata(\"deepDiff_differenceExp\", format=['visit', 'date'],dataId={'filter':'r'})\n",
    "print visits"
   ]
  },
  {
   "cell_type": "code",
   "execution_count": null,
   "metadata": {
    "collapsed": false
   },
   "outputs": [],
   "source": [
    "for visit in visits:\n",
    "    print visit, butler.datasetExists(\"deepDiff_differenceExp\", {'visit': visit , 'filter':'r' , 'ccd':14})"
   ]
  },
  {
   "cell_type": "code",
   "execution_count": 14,
   "metadata": {
    "collapsed": true
   },
   "outputs": [],
   "source": [
    "subset = butler.subset(\"deepDiff_diaSrc\")\n",
    "#file = open(\"diaSources.txt\", \"w\")\n",
    "diaSourcesList = []\n",
    "for dr_subSet in subset:\n",
    "    if dr_subSet.dataId[\"ccd\"]==14:\n",
    "        #file.write(\"visit=\"+str(dr_subSet.dataId[\"visit\"])+\"\\n\")\n",
    "        try:\n",
    "            diaSourcesList.append(dr_subSet)\n",
    "           \n",
    "        except:\n",
    "            pass"
   ]
  },
  {
   "cell_type": "code",
   "execution_count": 36,
   "metadata": {
    "collapsed": false
   },
   "outputs": [],
   "source": [
    "dr = butler.dataRef(\"calexp\", dataId=dataId)"
   ]
  },
  {
   "cell_type": "code",
   "execution_count": 38,
   "metadata": {
    "collapsed": false
   },
   "outputs": [],
   "source": [
    "template = gtTask.run( sciExp, dr, templateIdList=[{'visit':986881, 'ccd':14}])"
   ]
  },
  {
   "cell_type": "code",
   "execution_count": 40,
   "metadata": {
    "collapsed": false
   },
   "outputs": [
    {
     "name": "stdout",
     "output_type": "stream",
     "text": [
      "ds9 doesn't appear to be running (XPA: XPA returned NULL, (;iconify no; raise)), I'll try to exec it for you\n"
     ]
    }
   ],
   "source": [
    "ds9.mtv(template.exposure)"
   ]
  },
  {
   "cell_type": "code",
   "execution_count": 34,
   "metadata": {
    "collapsed": false
   },
   "outputs": [
    {
     "ename": "RuntimeError",
     "evalue": "No mapper provided and no _mapper available",
     "output_type": "error",
     "traceback": [
      "\u001b[1;31m---------------------------------------------------------------------------\u001b[0m",
      "\u001b[1;31mRuntimeError\u001b[0m                              Traceback (most recent call last)",
      "\u001b[1;32m<ipython-input-34-42e664be20c0>\u001b[0m in \u001b[0;36m<module>\u001b[1;34m()\u001b[0m\n\u001b[1;32m----> 1\u001b[1;33m \u001b[0mbutler_patch\u001b[0m \u001b[1;33m=\u001b[0m \u001b[0mdafPersist\u001b[0m\u001b[1;33m.\u001b[0m\u001b[0mButler\u001b[0m\u001b[1;33m(\u001b[0m\u001b[0mDATADIR\u001b[0m\u001b[1;33m+\u001b[0m\u001b[1;34m\"/output/coadd_dir\"\u001b[0m\u001b[1;33m)\u001b[0m\u001b[1;33m\u001b[0m\u001b[0m\n\u001b[0m\u001b[0;32m      2\u001b[0m \u001b[0mpatch\u001b[0m \u001b[1;33m=\u001b[0m \u001b[0mbutler_patch\u001b[0m\u001b[1;33m.\u001b[0m\u001b[0mget\u001b[0m\u001b[1;33m(\u001b[0m\u001b[1;34m\"calexp\"\u001b[0m\u001b[1;33m,\u001b[0m \u001b[0mdataId\u001b[0m \u001b[1;33m)\u001b[0m\u001b[1;33m\u001b[0m\u001b[0m\n",
      "\u001b[1;32m/renoir_data_00/fouchez/lsst/DM/stacks/lsstsw/2016-04-04/lsstsw/stack/Linux64/daf_persistence/2016_01.0-8-geb625e2/python/lsst/daf/persistence/butler.pyc\u001b[0m in \u001b[0;36m__init__\u001b[1;34m(self, root, mapper, **mapperArgs)\u001b[0m\n\u001b[0;32m    151\u001b[0m             \u001b[0mrepoCfg\u001b[0m \u001b[1;33m=\u001b[0m \u001b[0mposixRepoCfg\u001b[0m\u001b[1;33m(\u001b[0m\u001b[0mroot\u001b[0m\u001b[1;33m=\u001b[0m\u001b[0mroot\u001b[0m\u001b[1;33m,\u001b[0m \u001b[0mmapper\u001b[0m\u001b[1;33m=\u001b[0m\u001b[0mmapper\u001b[0m\u001b[1;33m,\u001b[0m \u001b[0mmapperArgs\u001b[0m\u001b[1;33m=\u001b[0m\u001b[0mmapperArgs\u001b[0m\u001b[1;33m,\u001b[0m \u001b[0mparentRepoCfgs\u001b[0m\u001b[1;33m=\u001b[0m\u001b[1;33m(\u001b[0m\u001b[0mparentCfg\u001b[0m\u001b[1;33m,\u001b[0m\u001b[1;33m)\u001b[0m\u001b[1;33m)\u001b[0m\u001b[1;33m\u001b[0m\u001b[0m\n\u001b[0;32m    152\u001b[0m             \u001b[0mconfig\u001b[0m \u001b[1;33m=\u001b[0m \u001b[0mButler\u001b[0m\u001b[1;33m.\u001b[0m\u001b[0mcfg\u001b[0m\u001b[1;33m(\u001b[0m\u001b[0mrepoCfg\u001b[0m\u001b[1;33m=\u001b[0m\u001b[0mrepoCfg\u001b[0m\u001b[1;33m)\u001b[0m\u001b[1;33m\u001b[0m\u001b[0m\n\u001b[1;32m--> 153\u001b[1;33m         \u001b[0mself\u001b[0m\u001b[1;33m.\u001b[0m\u001b[0m_initWithCfg\u001b[0m\u001b[1;33m(\u001b[0m\u001b[0mconfig\u001b[0m\u001b[1;33m)\u001b[0m\u001b[1;33m\u001b[0m\u001b[0m\n\u001b[0m\u001b[0;32m    154\u001b[0m \u001b[1;33m\u001b[0m\u001b[0m\n\u001b[0;32m    155\u001b[0m     \u001b[1;32mdef\u001b[0m \u001b[0m_initWithCfg\u001b[0m\u001b[1;33m(\u001b[0m\u001b[0mself\u001b[0m\u001b[1;33m,\u001b[0m \u001b[0mcfg\u001b[0m\u001b[1;33m)\u001b[0m\u001b[1;33m:\u001b[0m\u001b[1;33m\u001b[0m\u001b[0m\n",
      "\u001b[1;32m/renoir_data_00/fouchez/lsst/DM/stacks/lsstsw/2016-04-04/lsstsw/stack/Linux64/daf_persistence/2016_01.0-8-geb625e2/python/lsst/daf/persistence/butler.pyc\u001b[0m in \u001b[0;36m_initWithCfg\u001b[1;34m(self, cfg)\u001b[0m\n\u001b[0;32m    163\u001b[0m         \u001b[0mself\u001b[0m\u001b[1;33m.\u001b[0m\u001b[0mdatasetTypeAliasDict\u001b[0m \u001b[1;33m=\u001b[0m \u001b[1;33m{\u001b[0m\u001b[1;33m}\u001b[0m\u001b[1;33m\u001b[0m\u001b[0m\n\u001b[0;32m    164\u001b[0m \u001b[1;33m\u001b[0m\u001b[0m\n\u001b[1;32m--> 165\u001b[1;33m         \u001b[0mself\u001b[0m\u001b[1;33m.\u001b[0m\u001b[0mrepository\u001b[0m \u001b[1;33m=\u001b[0m \u001b[0mRepository\u001b[0m\u001b[1;33m.\u001b[0m\u001b[0mmakeFromCfg\u001b[0m\u001b[1;33m(\u001b[0m\u001b[0mself\u001b[0m\u001b[1;33m.\u001b[0m\u001b[0m_cfg\u001b[0m\u001b[1;33m[\u001b[0m\u001b[1;34m'repoCfg'\u001b[0m\u001b[1;33m]\u001b[0m\u001b[1;33m)\u001b[0m\u001b[1;33m\u001b[0m\u001b[0m\n\u001b[0m\u001b[0;32m    166\u001b[0m \u001b[1;33m\u001b[0m\u001b[0m\n\u001b[0;32m    167\u001b[0m         \u001b[1;31m# Always use an empty Persistence policy until we can get rid of it\u001b[0m\u001b[1;33m\u001b[0m\u001b[1;33m\u001b[0m\u001b[0m\n",
      "\u001b[1;32m/renoir_data_00/fouchez/lsst/DM/stacks/lsstsw/2016-04-04/lsstsw/stack/Linux64/daf_persistence/2016_01.0-8-geb625e2/python/lsst/daf/persistence/repository.pyc\u001b[0m in \u001b[0;36mmakeFromCfg\u001b[1;34m(repoCfg)\u001b[0m\n\u001b[0;32m    157\u001b[0m         '''\n\u001b[0;32m    158\u001b[0m         \u001b[1;32mif\u001b[0m \u001b[0misinstance\u001b[0m\u001b[1;33m(\u001b[0m\u001b[0mrepoCfg\u001b[0m\u001b[1;33m,\u001b[0m \u001b[0mPolicy\u001b[0m\u001b[1;33m)\u001b[0m\u001b[1;33m:\u001b[0m\u001b[1;33m\u001b[0m\u001b[0m\n\u001b[1;32m--> 159\u001b[1;33m             \u001b[1;32mreturn\u001b[0m \u001b[0mrepoCfg\u001b[0m\u001b[1;33m[\u001b[0m\u001b[1;34m'cls'\u001b[0m\u001b[1;33m]\u001b[0m\u001b[1;33m(\u001b[0m\u001b[0mrepoCfg\u001b[0m\u001b[1;33m)\u001b[0m\u001b[1;33m\u001b[0m\u001b[0m\n\u001b[0m\u001b[0;32m    160\u001b[0m         \u001b[1;32mreturn\u001b[0m \u001b[0mrepoCfg\u001b[0m\u001b[1;33m\u001b[0m\u001b[0m\n\u001b[0;32m    161\u001b[0m \u001b[1;33m\u001b[0m\u001b[0m\n",
      "\u001b[1;32m/renoir_data_00/fouchez/lsst/DM/stacks/lsstsw/2016-04-04/lsstsw/stack/Linux64/daf_persistence/2016_01.0-8-geb625e2/python/lsst/daf/persistence/repository.pyc\u001b[0m in \u001b[0;36m__init__\u001b[1;34m(self, cfg)\u001b[0m\n\u001b[0;32m    179\u001b[0m             \u001b[0mparentCfgs\u001b[0m \u001b[1;33m=\u001b[0m \u001b[1;33m(\u001b[0m\u001b[0mparentCfgs\u001b[0m\u001b[1;33m,\u001b[0m\u001b[1;33m)\u001b[0m\u001b[1;33m\u001b[0m\u001b[0m\n\u001b[0;32m    180\u001b[0m         \u001b[1;32mfor\u001b[0m \u001b[0mparentCfg\u001b[0m \u001b[1;32min\u001b[0m \u001b[0mparentCfgs\u001b[0m\u001b[1;33m:\u001b[0m\u001b[1;33m\u001b[0m\u001b[0m\n\u001b[1;32m--> 181\u001b[1;33m             \u001b[0mself\u001b[0m\u001b[1;33m.\u001b[0m\u001b[0m_parents\u001b[0m\u001b[1;33m.\u001b[0m\u001b[0mappend\u001b[0m\u001b[1;33m(\u001b[0m\u001b[0mRepository\u001b[0m\u001b[1;33m.\u001b[0m\u001b[0mmakeFromCfg\u001b[0m\u001b[1;33m(\u001b[0m\u001b[0mparentCfg\u001b[0m\u001b[1;33m)\u001b[0m\u001b[1;33m)\u001b[0m\u001b[1;33m\u001b[0m\u001b[0m\n\u001b[0m\u001b[0;32m    182\u001b[0m         \u001b[0mself\u001b[0m\u001b[1;33m.\u001b[0m\u001b[0m_peers\u001b[0m \u001b[1;33m=\u001b[0m \u001b[1;33m[\u001b[0m\u001b[1;33m]\u001b[0m\u001b[1;33m\u001b[0m\u001b[0m\n\u001b[0;32m    183\u001b[0m         \u001b[1;32mfor\u001b[0m \u001b[0mpeerCfg\u001b[0m \u001b[1;32min\u001b[0m \u001b[0mself\u001b[0m\u001b[1;33m.\u001b[0m\u001b[0mcfg\u001b[0m\u001b[1;33m[\u001b[0m\u001b[1;34m'peerCfgs'\u001b[0m\u001b[1;33m]\u001b[0m\u001b[1;33m:\u001b[0m\u001b[1;33m\u001b[0m\u001b[0m\n",
      "\u001b[1;32m/renoir_data_00/fouchez/lsst/DM/stacks/lsstsw/2016-04-04/lsstsw/stack/Linux64/daf_persistence/2016_01.0-8-geb625e2/python/lsst/daf/persistence/repository.pyc\u001b[0m in \u001b[0;36mmakeFromCfg\u001b[1;34m(repoCfg)\u001b[0m\n\u001b[0;32m    157\u001b[0m         '''\n\u001b[0;32m    158\u001b[0m         \u001b[1;32mif\u001b[0m \u001b[0misinstance\u001b[0m\u001b[1;33m(\u001b[0m\u001b[0mrepoCfg\u001b[0m\u001b[1;33m,\u001b[0m \u001b[0mPolicy\u001b[0m\u001b[1;33m)\u001b[0m\u001b[1;33m:\u001b[0m\u001b[1;33m\u001b[0m\u001b[0m\n\u001b[1;32m--> 159\u001b[1;33m             \u001b[1;32mreturn\u001b[0m \u001b[0mrepoCfg\u001b[0m\u001b[1;33m[\u001b[0m\u001b[1;34m'cls'\u001b[0m\u001b[1;33m]\u001b[0m\u001b[1;33m(\u001b[0m\u001b[0mrepoCfg\u001b[0m\u001b[1;33m)\u001b[0m\u001b[1;33m\u001b[0m\u001b[0m\n\u001b[0m\u001b[0;32m    160\u001b[0m         \u001b[1;32mreturn\u001b[0m \u001b[0mrepoCfg\u001b[0m\u001b[1;33m\u001b[0m\u001b[0m\n\u001b[0;32m    161\u001b[0m \u001b[1;33m\u001b[0m\u001b[0m\n",
      "\u001b[1;32m/renoir_data_00/fouchez/lsst/DM/stacks/lsstsw/2016-04-04/lsstsw/stack/Linux64/daf_persistence/2016_01.0-8-geb625e2/python/lsst/daf/persistence/repository.pyc\u001b[0m in \u001b[0;36m__init__\u001b[1;34m(self, cfg)\u001b[0m\n\u001b[0;32m    185\u001b[0m         \u001b[0mself\u001b[0m\u001b[1;33m.\u001b[0m\u001b[0m_id\u001b[0m \u001b[1;33m=\u001b[0m \u001b[0mself\u001b[0m\u001b[1;33m.\u001b[0m\u001b[0mcfg\u001b[0m\u001b[1;33m[\u001b[0m\u001b[1;34m'id'\u001b[0m\u001b[1;33m]\u001b[0m\u001b[1;33m\u001b[0m\u001b[0m\n\u001b[0;32m    186\u001b[0m \u001b[1;33m\u001b[0m\u001b[0m\n\u001b[1;32m--> 187\u001b[1;33m         \u001b[0mself\u001b[0m\u001b[1;33m.\u001b[0m\u001b[0m_initMapper\u001b[0m\u001b[1;33m(\u001b[0m\u001b[0mcfg\u001b[0m\u001b[1;33m)\u001b[0m\u001b[1;33m\u001b[0m\u001b[0m\n\u001b[0m\u001b[0;32m    188\u001b[0m \u001b[1;33m\u001b[0m\u001b[0m\n\u001b[0;32m    189\u001b[0m     \u001b[1;32mdef\u001b[0m \u001b[0m_initMapper\u001b[0m\u001b[1;33m(\u001b[0m\u001b[0mself\u001b[0m\u001b[1;33m,\u001b[0m \u001b[0mrepoCfg\u001b[0m\u001b[1;33m)\u001b[0m\u001b[1;33m:\u001b[0m\u001b[1;33m\u001b[0m\u001b[0m\n",
      "\u001b[1;32m/renoir_data_00/fouchez/lsst/DM/stacks/lsstsw/2016-04-04/lsstsw/stack/Linux64/daf_persistence/2016_01.0-8-geb625e2/python/lsst/daf/persistence/repository.pyc\u001b[0m in \u001b[0;36m_initMapper\u001b[1;34m(self, repoCfg)\u001b[0m\n\u001b[0;32m    202\u001b[0m         \u001b[1;32mif\u001b[0m \u001b[0mmapper\u001b[0m \u001b[1;32mis\u001b[0m \u001b[0mNone\u001b[0m\u001b[1;33m:\u001b[0m\u001b[1;33m\u001b[0m\u001b[0m\n\u001b[0;32m    203\u001b[0m             \u001b[1;32mif\u001b[0m \u001b[0mself\u001b[0m\u001b[1;33m.\u001b[0m\u001b[0m_access\u001b[0m \u001b[1;32mis\u001b[0m \u001b[1;32mnot\u001b[0m \u001b[0mNone\u001b[0m\u001b[1;33m:\u001b[0m\u001b[1;33m\u001b[0m\u001b[0m\n\u001b[1;32m--> 204\u001b[1;33m                 \u001b[0mmapper\u001b[0m \u001b[1;33m=\u001b[0m \u001b[0mself\u001b[0m\u001b[1;33m.\u001b[0m\u001b[0m_access\u001b[0m\u001b[1;33m.\u001b[0m\u001b[0mmapperClass\u001b[0m\u001b[1;33m(\u001b[0m\u001b[1;33m)\u001b[0m\u001b[1;33m\u001b[0m\u001b[0m\n\u001b[0m\u001b[0;32m    205\u001b[0m             \u001b[1;32mif\u001b[0m \u001b[0mmapper\u001b[0m \u001b[1;32mis\u001b[0m \u001b[0mNone\u001b[0m\u001b[1;33m:\u001b[0m\u001b[1;33m\u001b[0m\u001b[0m\n\u001b[0;32m    206\u001b[0m                 \u001b[0mself\u001b[0m\u001b[1;33m.\u001b[0m\u001b[0m_mapper\u001b[0m \u001b[1;33m=\u001b[0m \u001b[0mNone\u001b[0m\u001b[1;33m\u001b[0m\u001b[0m\n",
      "\u001b[1;32m/renoir_data_00/fouchez/lsst/DM/stacks/lsstsw/2016-04-04/lsstsw/stack/Linux64/daf_persistence/2016_01.0-8-geb625e2/python/lsst/daf/persistence/access.pyc\u001b[0m in \u001b[0;36mmapperClass\u001b[1;34m(self)\u001b[0m\n\u001b[0;32m     72\u001b[0m         \u001b[1;33m:\u001b[0m\u001b[1;32mreturn\u001b[0m\u001b[1;33m:\u001b[0m \u001b[0mthe\u001b[0m \u001b[0mmapper\u001b[0m \u001b[1;32mclass\u001b[0m\u001b[1;33m\u001b[0m\u001b[0m\n\u001b[0;32m     73\u001b[0m         \"\"\"\n\u001b[1;32m---> 74\u001b[1;33m         \u001b[1;32mreturn\u001b[0m \u001b[0mself\u001b[0m\u001b[1;33m.\u001b[0m\u001b[0mstorage\u001b[0m\u001b[1;33m.\u001b[0m\u001b[0mmapperClass\u001b[0m\u001b[1;33m(\u001b[0m\u001b[1;33m)\u001b[0m\u001b[1;33m\u001b[0m\u001b[0m\n\u001b[0m\u001b[0;32m     75\u001b[0m \u001b[1;33m\u001b[0m\u001b[0m\n\u001b[0;32m     76\u001b[0m     \u001b[1;32mdef\u001b[0m \u001b[0mroot\u001b[0m\u001b[1;33m(\u001b[0m\u001b[0mself\u001b[0m\u001b[1;33m)\u001b[0m\u001b[1;33m:\u001b[0m\u001b[1;33m\u001b[0m\u001b[0m\n",
      "\u001b[1;32m/renoir_data_00/fouchez/lsst/DM/stacks/lsstsw/2016-04-04/lsstsw/stack/Linux64/daf_persistence/2016_01.0-8-geb625e2/python/lsst/daf/persistence/posixStorage.pyc\u001b[0m in \u001b[0;36mmapperClass\u001b[1;34m(self)\u001b[0m\n\u001b[0;32m    120\u001b[0m     \u001b[1;32mdef\u001b[0m \u001b[0mmapperClass\u001b[0m\u001b[1;33m(\u001b[0m\u001b[0mself\u001b[0m\u001b[1;33m)\u001b[0m\u001b[1;33m:\u001b[0m\u001b[1;33m\u001b[0m\u001b[0m\n\u001b[0;32m    121\u001b[0m         \u001b[1;34m\"\"\"Get the class object for the mapper specified in the stored repository\"\"\"\u001b[0m\u001b[1;33m\u001b[0m\u001b[0m\n\u001b[1;32m--> 122\u001b[1;33m         \u001b[1;32mreturn\u001b[0m \u001b[0mPosixStorage\u001b[0m\u001b[1;33m.\u001b[0m\u001b[0mgetMapperClass\u001b[0m\u001b[1;33m(\u001b[0m\u001b[0mself\u001b[0m\u001b[1;33m.\u001b[0m\u001b[0mroot\u001b[0m\u001b[1;33m)\u001b[0m\u001b[1;33m\u001b[0m\u001b[0m\n\u001b[0m\u001b[0;32m    123\u001b[0m \u001b[1;33m\u001b[0m\u001b[0m\n\u001b[0;32m    124\u001b[0m     \u001b[1;32mdef\u001b[0m \u001b[0msetCfg\u001b[0m\u001b[1;33m(\u001b[0m\u001b[0mself\u001b[0m\u001b[1;33m,\u001b[0m \u001b[0mrepoCfg\u001b[0m\u001b[1;33m)\u001b[0m\u001b[1;33m:\u001b[0m\u001b[1;33m\u001b[0m\u001b[0m\n",
      "\u001b[1;32m/renoir_data_00/fouchez/lsst/DM/stacks/lsstsw/2016-04-04/lsstsw/stack/Linux64/daf_persistence/2016_01.0-8-geb625e2/python/lsst/daf/persistence/posixStorage.pyc\u001b[0m in \u001b[0;36mgetMapperClass\u001b[1;34m(root)\u001b[0m\n\u001b[0;32m    105\u001b[0m                 raise RuntimeError(\n\u001b[0;32m    106\u001b[0m                         \u001b[1;34m\"No mapper provided and no %s available\"\u001b[0m \u001b[1;33m%\u001b[0m\u001b[1;33m\u001b[0m\u001b[0m\n\u001b[1;32m--> 107\u001b[1;33m                         (mapperFile,))\n\u001b[0m\u001b[0;32m    108\u001b[0m         \u001b[0mmapperFile\u001b[0m \u001b[1;33m=\u001b[0m \u001b[0mos\u001b[0m\u001b[1;33m.\u001b[0m\u001b[0mpath\u001b[0m\u001b[1;33m.\u001b[0m\u001b[0mjoin\u001b[0m\u001b[1;33m(\u001b[0m\u001b[0mbasePath\u001b[0m\u001b[1;33m,\u001b[0m \u001b[0mmapperFile\u001b[0m\u001b[1;33m)\u001b[0m\u001b[1;33m\u001b[0m\u001b[0m\n\u001b[0;32m    109\u001b[0m \u001b[1;33m\u001b[0m\u001b[0m\n",
      "\u001b[1;31mRuntimeError\u001b[0m: No mapper provided and no _mapper available"
     ]
    }
   ],
   "source": [
    "butler_patch = dafPersist.Butler(DATADIR+\"/output/coadd_dir\")\n",
    "patch = butler_patch.get(\"calexp\", dataId )"
   ]
  },
  {
   "cell_type": "code",
   "execution_count": 53,
   "metadata": {
    "collapsed": true
   },
   "outputs": [],
   "source": [
    "dr = butler_patch.dataRef(\"deepCoadd\", dataId={'filter':'r', 'tract':0, 'patch':'16,10'})"
   ]
  },
  {
   "cell_type": "code",
   "execution_count": 49,
   "metadata": {
    "collapsed": false
   },
   "outputs": [],
   "source": [
    "ds9.mtv(patch)"
   ]
  },
  {
   "cell_type": "code",
   "execution_count": 32,
   "metadata": {
    "collapsed": true
   },
   "outputs": [],
   "source": [
    "gtTask = GetCoaddAsTemplateTask()"
   ]
  },
  {
   "cell_type": "code",
   "execution_count": 33,
   "metadata": {
    "collapsed": false
   },
   "outputs": [
    {
     "ename": "NameError",
     "evalue": "name 'patch' is not defined",
     "output_type": "error",
     "traceback": [
      "\u001b[1;31m---------------------------------------------------------------------------\u001b[0m",
      "\u001b[1;31mNameError\u001b[0m                                 Traceback (most recent call last)",
      "\u001b[1;32m<ipython-input-33-93d8cab4cb87>\u001b[0m in \u001b[0;36m<module>\u001b[1;34m()\u001b[0m\n\u001b[1;32m----> 1\u001b[1;33m \u001b[0mtemplate1\u001b[0m \u001b[1;33m=\u001b[0m \u001b[0mgtTask\u001b[0m\u001b[1;33m.\u001b[0m\u001b[0mrun\u001b[0m\u001b[1;33m(\u001b[0m \u001b[0mpatch\u001b[0m\u001b[1;33m,\u001b[0m \u001b[0mdr\u001b[0m\u001b[1;33m,\u001b[0m \u001b[0mtemplateIdList\u001b[0m\u001b[1;33m=\u001b[0m\u001b[1;33m[\u001b[0m\u001b[1;33m{\u001b[0m\u001b[1;34m'visit'\u001b[0m\u001b[1;33m:\u001b[0m\u001b[1;36m986881\u001b[0m\u001b[1;33m,\u001b[0m \u001b[1;34m'ccd'\u001b[0m\u001b[1;33m:\u001b[0m\u001b[1;36m14\u001b[0m\u001b[1;33m}\u001b[0m\u001b[1;33m]\u001b[0m\u001b[1;33m)\u001b[0m\u001b[1;33m\u001b[0m\u001b[0m\n\u001b[0m\u001b[0;32m      2\u001b[0m \u001b[0mtemplate2\u001b[0m \u001b[1;33m=\u001b[0m \u001b[0mgtTask\u001b[0m\u001b[1;33m.\u001b[0m\u001b[0mrun\u001b[0m\u001b[1;33m(\u001b[0m \u001b[0mpatch\u001b[0m\u001b[1;33m,\u001b[0m \u001b[0mdr\u001b[0m\u001b[1;33m,\u001b[0m \u001b[0mtemplateIdList\u001b[0m\u001b[1;33m=\u001b[0m\u001b[1;33m[\u001b[0m\u001b[1;33m{\u001b[0m\u001b[1;34m'visit'\u001b[0m\u001b[1;33m:\u001b[0m\u001b[1;36m986882\u001b[0m\u001b[1;33m,\u001b[0m \u001b[1;34m'ccd'\u001b[0m\u001b[1;33m:\u001b[0m\u001b[1;36m14\u001b[0m\u001b[1;33m}\u001b[0m\u001b[1;33m]\u001b[0m\u001b[1;33m)\u001b[0m\u001b[1;33m\u001b[0m\u001b[0m\n\u001b[0;32m      3\u001b[0m \u001b[0mtemplate3\u001b[0m \u001b[1;33m=\u001b[0m \u001b[0mgtTask\u001b[0m\u001b[1;33m.\u001b[0m\u001b[0mrun\u001b[0m\u001b[1;33m(\u001b[0m \u001b[0mpatch\u001b[0m\u001b[1;33m,\u001b[0m \u001b[0mdr\u001b[0m\u001b[1;33m,\u001b[0m \u001b[0mtemplateIdList\u001b[0m\u001b[1;33m=\u001b[0m\u001b[1;33m[\u001b[0m\u001b[1;33m{\u001b[0m\u001b[1;34m'visit'\u001b[0m\u001b[1;33m:\u001b[0m\u001b[1;36m986882\u001b[0m\u001b[1;33m,\u001b[0m \u001b[1;34m'ccd'\u001b[0m\u001b[1;33m:\u001b[0m\u001b[1;36m14\u001b[0m\u001b[1;33m}\u001b[0m\u001b[1;33m,\u001b[0m \u001b[1;33m{\u001b[0m\u001b[1;34m'visit'\u001b[0m\u001b[1;33m:\u001b[0m\u001b[1;36m986881\u001b[0m\u001b[1;33m,\u001b[0m \u001b[1;34m'ccd'\u001b[0m\u001b[1;33m:\u001b[0m\u001b[1;36m14\u001b[0m\u001b[1;33m}\u001b[0m\u001b[1;33m]\u001b[0m\u001b[1;33m)\u001b[0m\u001b[1;33m\u001b[0m\u001b[0m\n",
      "\u001b[1;31mNameError\u001b[0m: name 'patch' is not defined"
     ]
    }
   ],
   "source": [
    "template1 = gtTask.run( patch, dr, templateIdList=[{'visit':986881, 'ccd':14}])\n",
    "template2 = gtTask.run( patch, dr, templateIdList=[{'visit':986882, 'ccd':14}])\n",
    "template3 = gtTask.run( patch, dr, templateIdList=[{'visit':986882, 'ccd':14}, {'visit':986881, 'ccd':14}])"
   ]
  },
  {
   "cell_type": "code",
   "execution_count": 64,
   "metadata": {
    "collapsed": false
   },
   "outputs": [],
   "source": [
    "ds9.mtv(patch, frame=1)\n",
    "ds9.mtv(template1.exposure, frame=2)\n",
    "ds9.mtv(template2.exposure, frame=3)\n",
    "ds9.mtv(template3.exposure, frame=4)"
   ]
  },
  {
   "cell_type": "code",
   "execution_count": 65,
   "metadata": {
    "collapsed": false
   },
   "outputs": [
    {
     "data": {
      "text/plain": [
       "<lsst.daf.base.baseLib.PropertySet; proxy of <Swig Object of type 'boost::shared_ptr< lsst::daf::base::PropertySet > *' at 0x7f3141048780> >"
      ]
     },
     "execution_count": 65,
     "metadata": {},
     "output_type": "execute_result"
    }
   ],
   "source": [
    "template1.exposure"
   ]
  },
  {
   "cell_type": "code",
   "execution_count": 66,
   "metadata": {
    "collapsed": true
   },
   "outputs": [],
   "source": [
    "template4 = gtTask.run( sciExp, dr)"
   ]
  },
  {
   "cell_type": "code",
   "execution_count": 67,
   "metadata": {
    "collapsed": false
   },
   "outputs": [
    {
     "name": "stdout",
     "output_type": "stream",
     "text": [
      "ds9 doesn't appear to be running (XPA: XPA returned NULL, (;iconify no; raise)), I'll try to exec it for you\n"
     ]
    }
   ],
   "source": [
    "ds9.mtv(template4.exposure)"
   ]
  },
  {
   "cell_type": "code",
   "execution_count": null,
   "metadata": {
    "collapsed": true
   },
   "outputs": [],
   "source": []
  }
 ],
 "metadata": {
  "kernelspec": {
   "display_name": "Python 2",
   "language": "python",
   "name": "python2"
  },
  "language_info": {
   "codemirror_mode": {
    "name": "ipython",
    "version": 2
   },
   "file_extension": ".py",
   "mimetype": "text/x-python",
   "name": "python",
   "nbconvert_exporter": "python",
   "pygments_lexer": "ipython2",
   "version": "2.7.11"
  }
 },
 "nbformat": 4,
 "nbformat_minor": 0
}
