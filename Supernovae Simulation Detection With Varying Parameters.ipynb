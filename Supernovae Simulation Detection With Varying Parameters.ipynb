{
 "cells": [
  {
   "cell_type": "code",
   "execution_count": 1,
   "metadata": {
    "collapsed": true,
    "deletable": true,
    "editable": true
   },
   "outputs": [],
   "source": [
    "import lsst.daf.persistence as dafPersist\n",
    "import matplotlib.pyplot as plt\n",
    "import numpy as np\n",
    "\n",
    "import lsst.afw.table as afwTable\n",
    "import lsst.afw.geom as afwGeom\n",
    "import Utils.DiaSourceTools as DSTools"
   ]
  },
  {
   "cell_type": "code",
   "execution_count": 4,
   "metadata": {
    "collapsed": true,
    "deletable": true,
    "editable": true
   },
   "outputs": [],
   "source": [
    "from astropy.table import Table"
   ]
  },
  {
   "cell_type": "code",
   "execution_count": 10,
   "metadata": {
    "collapsed": false,
    "deletable": true,
    "editable": true
   },
   "outputs": [],
   "source": [
    "t = Table()\n",
    "t = Table(names=('a', 'b', 'c'), dtype=('S2', 'S2', 'S2'))\n",
    "t.add_row(('y', 'z', 'x'))"
   ]
  },
  {
   "cell_type": "code",
   "execution_count": 11,
   "metadata": {
    "collapsed": false,
    "deletable": true,
    "editable": true
   },
   "outputs": [
    {
     "name": "stdout",
     "output_type": "stream",
     "text": [
      " a   b   c \n",
      "--- --- ---\n",
      "  y   z   x\n"
     ]
    }
   ],
   "source": [
    "print t"
   ]
  },
  {
   "cell_type": "code",
   "execution_count": 12,
   "metadata": {
    "collapsed": true,
    "deletable": true,
    "editable": true
   },
   "outputs": [],
   "source": [
    "DATADIR=\"/renoir_data_02/jpreyes/lsst_data/CFHTLS_sim/\""
   ]
  },
  {
   "cell_type": "code",
   "execution_count": 13,
   "metadata": {
    "collapsed": true,
    "deletable": true,
    "editable": true
   },
   "outputs": [],
   "source": [
    "import pickle\n",
    "\n",
    "out = open(\"/renoir_data_02/jpreyes/lsst_data/calexp_coords.pickle\", \"rb\")\n",
    "coords = pickle.load(out)"
   ]
  },
  {
   "cell_type": "code",
   "execution_count": 14,
   "metadata": {
    "collapsed": false,
    "deletable": true,
    "editable": true
   },
   "outputs": [],
   "source": [
    "ccd = 14\n",
    "parameters_order = range(0,9)\n",
    "directory = DATADIR+\"deepDiffTests20/SpatialKernelOrders/deepDiffTest300/\"\n",
    "butler_test20_cellsize300 = dafPersist.Butler(directory) \n",
    "visit = 850586\n"
   ]
  },
  {
   "cell_type": "code",
   "execution_count": 87,
   "metadata": {
    "collapsed": false,
    "deletable": true,
    "editable": true
   },
   "outputs": [
    {
     "name": "stdout",
     "output_type": "stream",
     "text": [
      "[0, 1, 2, 3, 4, 5, 6, 7, 8]\n"
     ]
    }
   ],
   "source": [
    "parameters_order = range(0,9,1)\n",
    "print parameters_order"
   ]
  },
  {
   "cell_type": "code",
   "execution_count": 88,
   "metadata": {
    "collapsed": false,
    "deletable": true,
    "editable": true
   },
   "outputs": [],
   "source": [
    "butlers20_cellSize = []\n",
    "\n",
    "\n",
    "for par in parameters_order:\n",
    "    directory = DATADIR+\"deepDiffTests20/SpatialKernelOrders/deepDiffTest\"+str(par)+\"/\"\n",
    "    butlers20_cellSize.append(dafPersist.Butler(directory))\n"
   ]
  },
  {
   "cell_type": "code",
   "execution_count": 89,
   "metadata": {
    "collapsed": false,
    "deletable": true,
    "editable": true
   },
   "outputs": [],
   "source": [
    "butlers15_cellSize = []\n",
    "\n",
    "\n",
    "\n",
    "for par in parameters_order:\n",
    "    directory = DATADIR+\"deepDiffTests15/SpatialKernelOrders/deepDiffTest\"+str(par)+\"/\"\n",
    "    butlers15_cellSize.append(dafPersist.Butler(directory))"
   ]
  },
  {
   "cell_type": "code",
   "execution_count": 90,
   "metadata": {
    "collapsed": true,
    "deletable": true,
    "editable": true
   },
   "outputs": [],
   "source": [
    "butlers10_cellSize = []\n",
    "\n",
    "\n",
    "\n",
    "for par in parameters_order:\n",
    "    directory = DATADIR+\"deepDiffTests10/SpatialKernelOrders/deepDiffTest\"+str(par)+\"/\"\n",
    "    butlers10_cellSize.append(dafPersist.Butler(directory))\n"
   ]
  },
  {
   "cell_type": "code",
   "execution_count": 91,
   "metadata": {
    "collapsed": true,
    "deletable": true,
    "editable": true
   },
   "outputs": [],
   "source": [
    "butlers5_cellSize = []\n",
    "\n",
    "\n",
    "for par in parameters_order:\n",
    "    directory = DATADIR+\"deepDiffTests5/SpatialKernelOrders/deepDiffTest\"+str(par)+\"/\"\n",
    "    butlers5_cellSize.append(dafPersist.Butler(directory))\n"
   ]
  },
  {
   "cell_type": "code",
   "execution_count": 92,
   "metadata": {
    "collapsed": true,
    "deletable": true,
    "editable": true
   },
   "outputs": [],
   "source": [
    "butlers3_cellSize = []\n",
    "\n",
    "\n",
    "\n",
    "for par in parameters_order:\n",
    "    directory = DATADIR+\"deepDiffTests3/SpatialKernelOrders/deepDiffTest\"+str(par)+\"/\"\n",
    "    butlers3_cellSize.append(dafPersist.Butler(directory))\n"
   ]
  },
  {
   "cell_type": "code",
   "execution_count": 21,
   "metadata": {
    "collapsed": false,
    "deletable": true,
    "editable": true
   },
   "outputs": [],
   "source": [
    "ccd = 14\n",
    "visit = 850586\n",
    "dataId = {\"ccd\":ccd,\"filter\":'r', \"visit\":visit}\n"
   ]
  },
  {
   "cell_type": "code",
   "execution_count": 22,
   "metadata": {
    "collapsed": false,
    "deletable": true,
    "editable": true
   },
   "outputs": [],
   "source": [
    "def get_detected_sn(butler, dataId, coords):\n",
    "    \n",
    "    class_diaSrc = butler.get(\"deepDiff_class_diaSrc\", dataId)\n",
    "    diffexp = butler.get(\"deepDiff_differenceExp\", dataId)\n",
    "    wcs = diffexp.getWcs()\n",
    "    count = 0\n",
    "    detected=[]\n",
    "    for source in class_diaSrc:\n",
    "        for x, y in coords:\n",
    "            radec = wcs.pixelToSky(x,y)\n",
    "            s1 = {\"ra\": source[\"coord_ra\"], \"dec\": source[\"coord_dec\"]}\n",
    "            s2 = {\"ra\": radec.getLongitude(), \"dec\": radec.getLatitude()}\n",
    "            if DSTools.source_distance(s1, s2) < 1.0:\n",
    "                count+=1\n",
    "                detected.append( wcs.skyToPixel(source[\"coord_ra\"], source[\"coord_dec\"]) )\n",
    "                break\n",
    "\n",
    "    return count\n",
    "    "
   ]
  },
  {
   "cell_type": "code",
   "execution_count": null,
   "metadata": {
    "collapsed": true,
    "deletable": true,
    "editable": true
   },
   "outputs": [],
   "source": []
  },
  {
   "cell_type": "code",
   "execution_count": 29,
   "metadata": {
    "collapsed": false,
    "deletable": true,
    "editable": true
   },
   "outputs": [],
   "source": [
    "def get_sn_tags(butler, dataId, coords):\n",
    "    \n",
    "    class_diaSrc = butler.get(\"deepDiff_class_diaSrc\", dataId)\n",
    "    diffexp = butler.get(\"deepDiff_differenceExp\", dataId)\n",
    "    wcs = diffexp.getWcs()\n",
    "    count = 0\n",
    "    tags=[]\n",
    "    for source in class_diaSrc:\n",
    "        for x, y in coords:\n",
    "            radec = wcs.pixelToSky(x,y)\n",
    "            s1 = {\"ra\": source[\"coord_ra\"], \"dec\": source[\"coord_dec\"]}\n",
    "            s2 = {\"ra\": radec.getLongitude(), \"dec\": radec.getLatitude()}\n",
    "            if DSTools.source_distance(s1, s2) < 1.0:\n",
    "                count+=1\n",
    "                tags.append( source[\"classification_dipole\"] )\n",
    "                break\n",
    "\n",
    "    return tags\n",
    "\n",
    "def get_tags_count(tags):\n",
    "    flags_dict = {}\n",
    "    for i in range (0,8):\n",
    "        flags_dict[i] = 0\n",
    "        \n",
    "    for tag in tags:\n",
    "            flags_dict[tag] +=1\n",
    "            \n",
    "    return flags_dict"
   ]
  },
  {
   "cell_type": "code",
   "execution_count": 36,
   "metadata": {
    "collapsed": false,
    "deletable": true,
    "editable": true
   },
   "outputs": [
    {
     "name": "stdout",
     "output_type": "stream",
     "text": [
      " a   b   c \n",
      "--- --- ---\n",
      "1.0 2.0 3.0\n"
     ]
    }
   ],
   "source": [
    "t = Table(names = (\"a\", \"b\", \"c\"))\n",
    "t.add_row([1,2,3])\n",
    "print t\n"
   ]
  },
  {
   "cell_type": "code",
   "execution_count": 93,
   "metadata": {
    "collapsed": true,
    "deletable": true,
    "editable": true
   },
   "outputs": [],
   "source": [
    "t20cs = Table()\n",
    "t20cs = Table(names=('parameter', '0', '1', '2', '3', '4', '5', '6', '7', 'total_diaSrc'), dtype=('i4', 'i4', 'i4', 'i4', 'i4', 'i4', 'i4' , 'i4', 'i4', 'i4'))\n"
   ]
  },
  {
   "cell_type": "code",
   "execution_count": 94,
   "metadata": {
    "collapsed": false,
    "deletable": true,
    "editable": true
   },
   "outputs": [
    {
     "name": "stdout",
     "output_type": "stream",
     "text": [
      "[0, 0, 0, 0, 5, 0, 0, 943, 12, 1256]\n",
      "[1, 3, 0, 0, 2, 0, 0, 942, 10, 1282]\n",
      "[2, 1, 1, 0, 2, 0, 0, 955, 10, 1122]\n",
      "[3, 0, 0, 0, 1, 0, 0, 0, 0, 329]\n",
      "[4, 0, 0, 0, 1, 0, 0, 0, 0, 329]\n",
      "[5, 0, 0, 0, 1, 0, 0, 0, 0, 329]\n",
      "[6, 0, 0, 0, 1, 0, 0, 0, 0, 329]\n",
      "[7, 0, 0, 0, 1, 0, 0, 0, 0, 329]\n",
      "[8, 0, 0, 0, 1, 0, 0, 0, 0, 329]\n"
     ]
    }
   ],
   "source": [
    "for par, butler in zip(parameters_order, butlers20_cellSize):\n",
    "    class_diaSrc = butler.get(\"deepDiff_class_diaSrc\", dataId)\n",
    "    tags = get_sn_tags(butler, dataId, coords)\n",
    "    c_tags = get_tags_count(tags)\n",
    "    def_arr = [par] + c_tags.values() + [len(class_diaSrc)]\n",
    "    \n",
    "    t20cs.add_row(def_arr)\n",
    "    print def_arr"
   ]
  },
  {
   "cell_type": "code",
   "execution_count": 95,
   "metadata": {
    "collapsed": false,
    "deletable": true,
    "editable": true
   },
   "outputs": [],
   "source": [
    "t15cs = Table()\n",
    "t15cs = Table(names=('parameter', '0', '1', '2', '3', '4', '5', '6', '7', 'total_diaSrc'), dtype=('i4', 'i4', 'i4', 'i4', 'i4', 'i4', 'i4' , 'i4', 'i4', 'i4'))\n"
   ]
  },
  {
   "cell_type": "code",
   "execution_count": 96,
   "metadata": {
    "collapsed": false,
    "deletable": true,
    "editable": true
   },
   "outputs": [
    {
     "name": "stdout",
     "output_type": "stream",
     "text": [
      "[0, 0, 0, 0, 6, 0, 0, 947, 10, 1258]\n",
      "[1, 3, 0, 0, 4, 0, 0, 942, 10, 1283]\n",
      "[2, 1, 0, 0, 1, 0, 0, 936, 11, 1104]\n",
      "[3, 0, 0, 0, 1, 0, 0, 0, 0, 329]\n",
      "[4, 0, 0, 0, 1, 0, 0, 0, 0, 329]\n",
      "[5, 0, 0, 0, 1, 0, 0, 0, 0, 329]\n",
      "[6, 0, 0, 0, 1, 0, 0, 0, 0, 329]\n",
      "[7, 0, 0, 0, 1, 0, 0, 0, 0, 329]\n",
      "[8, 0, 0, 0, 1, 0, 0, 0, 0, 329]\n"
     ]
    }
   ],
   "source": [
    "for par, butler in zip(parameters_order, butlers15_cellSize):\n",
    "    class_diaSrc = butler.get(\"deepDiff_class_diaSrc\", dataId)\n",
    "    tags = get_sn_tags(butler, dataId, coords)\n",
    "    c_tags = get_tags_count(tags)\n",
    "    def_arr = [par] + c_tags.values() + [len(class_diaSrc)]\n",
    "    \n",
    "    t15cs.add_row(def_arr)\n",
    "    print def_arr"
   ]
  },
  {
   "cell_type": "code",
   "execution_count": 97,
   "metadata": {
    "collapsed": false,
    "deletable": true,
    "editable": true
   },
   "outputs": [],
   "source": [
    "t10cs = Table()\n",
    "t10cs = Table(names=('parameter', '0', '1', '2', '3', '4', '5', '6', '7', 'total_diaSrc'), dtype=('i4', 'i4', 'i4', 'i4', 'i4', 'i4', 'i4' , 'i4', 'i4', 'i4'))\n"
   ]
  },
  {
   "cell_type": "code",
   "execution_count": 98,
   "metadata": {
    "collapsed": false,
    "deletable": true,
    "editable": true
   },
   "outputs": [
    {
     "name": "stdout",
     "output_type": "stream",
     "text": [
      "[0, 0, 0, 0, 4, 0, 0, 950, 11, 1259]\n",
      "[1, 3, 0, 0, 3, 0, 0, 945, 10, 1284]\n",
      "[2, 1, 0, 0, 2, 0, 0, 838, 17, 1013]\n",
      "[3, 0, 0, 0, 1, 0, 0, 0, 0, 329]\n",
      "[4, 0, 0, 0, 1, 0, 0, 0, 0, 329]\n",
      "[5, 0, 0, 0, 1, 0, 0, 0, 0, 329]\n",
      "[6, 0, 0, 0, 1, 0, 0, 0, 0, 329]\n",
      "[7, 0, 0, 0, 1, 0, 0, 0, 0, 329]\n",
      "[8, 0, 0, 0, 1, 0, 0, 0, 0, 329]\n"
     ]
    }
   ],
   "source": [
    "for par, butler in zip(parameters_order, butlers10_cellSize):\n",
    "    class_diaSrc = butler.get(\"deepDiff_class_diaSrc\", dataId)\n",
    "    tags = get_sn_tags(butler, dataId, coords)\n",
    "    c_tags = get_tags_count(tags)\n",
    "    def_arr = [par] + c_tags.values() + [len(class_diaSrc)]\n",
    "    \n",
    "    t10cs.add_row(def_arr)\n",
    "    print def_arr"
   ]
  },
  {
   "cell_type": "code",
   "execution_count": 99,
   "metadata": {
    "collapsed": false,
    "deletable": true,
    "editable": true
   },
   "outputs": [],
   "source": [
    "t5cs = Table()\n",
    "t5cs = Table(names=('parameter', '0', '1', '2', '3', '4', '5', '6', '7', 'total_diaSrc'), dtype=('i4', 'i4', 'i4', 'i4', 'i4', 'i4', 'i4' , 'i4', 'i4', 'i4'))\n"
   ]
  },
  {
   "cell_type": "code",
   "execution_count": 100,
   "metadata": {
    "collapsed": false,
    "deletable": true,
    "editable": true
   },
   "outputs": [
    {
     "name": "stdout",
     "output_type": "stream",
     "text": [
      "[0, 2, 0, 0, 0, 0, 0, 698, 87, 1084]\n",
      "[1, 4, 0, 0, 2, 0, 0, 653, 69, 1052]\n",
      "[2, 1, 0, 0, 0, 0, 0, 366, 45, 569]\n",
      "[3, 0, 0, 0, 1, 0, 0, 0, 0, 329]\n",
      "[4, 0, 0, 0, 1, 0, 0, 0, 0, 329]\n",
      "[5, 0, 0, 0, 1, 0, 0, 0, 0, 329]\n",
      "[6, 0, 0, 0, 1, 0, 0, 0, 0, 329]\n",
      "[7, 0, 0, 0, 1, 0, 0, 0, 0, 329]\n",
      "[8, 0, 0, 0, 1, 0, 0, 0, 0, 329]\n"
     ]
    }
   ],
   "source": [
    "for par, butler in zip(parameters_order, butlers5_cellSize):\n",
    "    class_diaSrc = butler.get(\"deepDiff_class_diaSrc\", dataId)\n",
    "    tags = get_sn_tags(butler, dataId, coords)\n",
    "    c_tags = get_tags_count(tags)\n",
    "    def_arr = [par] + c_tags.values() + [len(class_diaSrc)]\n",
    "    \n",
    "    t5cs.add_row(def_arr)\n",
    "    print def_arr"
   ]
  },
  {
   "cell_type": "code",
   "execution_count": 101,
   "metadata": {
    "collapsed": false,
    "deletable": true,
    "editable": true
   },
   "outputs": [],
   "source": [
    "t3cs = Table()\n",
    "t3cs = Table(names=('parameter', '0', '1', '2', '3', '4', '5', '6', '7', 'total_diaSrc'), dtype=('i4', 'i4', 'i4', 'i4', 'i4', 'i4', 'i4' , 'i4', 'i4', 'i4'))\n"
   ]
  },
  {
   "cell_type": "code",
   "execution_count": null,
   "metadata": {
    "collapsed": false,
    "deletable": true,
    "editable": true
   },
   "outputs": [
    {
     "name": "stdout",
     "output_type": "stream",
     "text": [
      "[0, 0, 0, 0, 0, 0, 0, 33, 71, 405]\n",
      "[1, 0, 0, 0, 0, 0, 0, 30, 63, 425]\n",
      "[2, 0, 1, 0, 0, 0, 0, 9, 18, 187]\n",
      "[3, 0, 0, 0, 1, 0, 0, 0, 0, 329]\n",
      "[4, 0, 0, 0, 1, 0, 0, 0, 0, 329]\n"
     ]
    }
   ],
   "source": [
    "for par, butler in zip(parameters_order, butlers3_cellSize):\n",
    "    class_diaSrc = butler.get(\"deepDiff_class_diaSrc\", dataId)\n",
    "    tags = get_sn_tags(butler, dataId, coords)\n",
    "    c_tags = get_tags_count(tags)\n",
    "    def_arr = [par] + c_tags.values() + [len(class_diaSrc)]\n",
    "    \n",
    "    t3cs.add_row(def_arr)\n",
    "    print def_arr"
   ]
  },
  {
   "cell_type": "code",
   "execution_count": null,
   "metadata": {
    "collapsed": false,
    "deletable": true,
    "editable": true
   },
   "outputs": [],
   "source": [
    "t20cs.write(\"t20sko.fits\")\n",
    "t15cs.write(\"t15sko.fits\")\n",
    "t10cs.write(\"t10sko.fits\")\n",
    "t5cs.write(\"t5sko.fits\")\n",
    "t3cs.write(\"t3sko.fits\")"
   ]
  },
  {
   "cell_type": "code",
   "execution_count": 31,
   "metadata": {
    "collapsed": false,
    "deletable": true,
    "editable": true
   },
   "outputs": [
    {
     "data": {
      "text/plain": [
       "19"
      ]
     },
     "execution_count": 31,
     "metadata": {},
     "output_type": "execute_result"
    }
   ],
   "source": [
    "len(butlers3_cellSize)"
   ]
  },
  {
   "cell_type": "code",
   "execution_count": null,
   "metadata": {
    "collapsed": true,
    "deletable": true,
    "editable": true
   },
   "outputs": [],
   "source": [
    "butlers20_cellSize = []\n",
    "\n",
    "parameters_order = range(50,525, 25)\n",
    "\n",
    "for par in parameters_order:\n",
    "    directory = DATADIR+\"deepDiffTests20/CellSizes/deepDiffTest\"+str(par)+\"/\"\n",
    "    butlers20_cellSize.append(dafPersist.Butler(directory))"
   ]
  },
  {
   "cell_type": "code",
   "execution_count": 41,
   "metadata": {
    "collapsed": false,
    "deletable": true,
    "editable": true
   },
   "outputs": [],
   "source": [
    " class_diaSrc = butler.get(\"deepDiff_class_diaSrc\", dataId)"
   ]
  },
  {
   "cell_type": "code",
   "execution_count": 42,
   "metadata": {
    "collapsed": false,
    "deletable": true,
    "editable": true
   },
   "outputs": [
    {
     "data": {
      "text/plain": [
       "Schema(\n",
       "    (Field['L'](name=\"id\", doc=\"unique ID\"), Key<L>(offset=0, nElements=1)),\n",
       "    (Field['Angle'](name=\"coord_ra\", doc=\"position in ra/dec\"), Key<Angle>(offset=8, nElements=1)),\n",
       "    (Field['Angle'](name=\"coord_dec\", doc=\"position in ra/dec\"), Key<Angle>(offset=16, nElements=1)),\n",
       "    (Field['L'](name=\"parent\", doc=\"unique ID of parent source\"), Key<L>(offset=24, nElements=1)),\n",
       "    (Field['F'](name=\"classification_dipole\", doc=\"probability of being a dipole\"), Key<F>(offset=32, nElements=1)),\n",
       "    (Field['Flag'](name=\"ip_diffim_NaiveDipoleCentroid_flag\", doc=\"general failure flag, set if anything went wrong\"), Key['Flag'](offset=40, bit=0)),\n",
       "    (Field['Flag'](name=\"ip_diffim_NaiveDipoleCentroid_pos_flag\", doc=\"failure flag for positive, set if anything went wrong\"), Key['Flag'](offset=40, bit=1)),\n",
       "    (Field['Flag'](name=\"ip_diffim_NaiveDipoleCentroid_neg_flag\", doc=\"failure flag for negative, set if anything went wrong\"), Key['Flag'](offset=40, bit=2)),\n",
       "    (Field['D'](name=\"ip_diffim_NaiveDipoleCentroid_x\", doc=\"unweighted first moment centroid: overall centroid\", units=\"pixels\"), Key<D>(offset=48, nElements=1)),\n",
       "    (Field['D'](name=\"ip_diffim_NaiveDipoleCentroid_y\", doc=\"unweighted first moment centroid: overall centroid\", units=\"pixels\"), Key<D>(offset=56, nElements=1)),\n",
       "    (Field['F'](name=\"ip_diffim_NaiveDipoleCentroid_xSigma\", doc=\"1-sigma uncertainty on x position\", units=\"pixels\"), Key<F>(offset=64, nElements=1)),\n",
       "    (Field['F'](name=\"ip_diffim_NaiveDipoleCentroid_ySigma\", doc=\"1-sigma uncertainty on y position\", units=\"pixels\"), Key<F>(offset=68, nElements=1)),\n",
       "    (Field['D'](name=\"ip_diffim_NaiveDipoleCentroid_pos_x\", doc=\"unweighted first moment centroid: positive lobe\", units=\"pixels\"), Key<D>(offset=72, nElements=1)),\n",
       "    (Field['D'](name=\"ip_diffim_NaiveDipoleCentroid_pos_y\", doc=\"unweighted first moment centroid: positive lobe\", units=\"pixels\"), Key<D>(offset=80, nElements=1)),\n",
       "    (Field['F'](name=\"ip_diffim_NaiveDipoleCentroid_pos_xSigma\", doc=\"1-sigma uncertainty on x position\", units=\"pixels\"), Key<F>(offset=88, nElements=1)),\n",
       "    (Field['F'](name=\"ip_diffim_NaiveDipoleCentroid_pos_ySigma\", doc=\"1-sigma uncertainty on y position\", units=\"pixels\"), Key<F>(offset=92, nElements=1)),\n",
       "    (Field['D'](name=\"ip_diffim_NaiveDipoleCentroid_neg_x\", doc=\"unweighted first moment centroid: negative lobe\", units=\"pixels\"), Key<D>(offset=96, nElements=1)),\n",
       "    (Field['D'](name=\"ip_diffim_NaiveDipoleCentroid_neg_y\", doc=\"unweighted first moment centroid: negative lobe\", units=\"pixels\"), Key<D>(offset=104, nElements=1)),\n",
       "    (Field['F'](name=\"ip_diffim_NaiveDipoleCentroid_neg_xSigma\", doc=\"1-sigma uncertainty on x position\", units=\"pixels\"), Key<F>(offset=112, nElements=1)),\n",
       "    (Field['F'](name=\"ip_diffim_NaiveDipoleCentroid_neg_ySigma\", doc=\"1-sigma uncertainty on y position\", units=\"pixels\"), Key<F>(offset=116, nElements=1)),\n",
       "    (Field['D'](name=\"base_CircularApertureFlux_3_0_flux\", doc=\"flux within 3.000000-pixel aperture\", units=\"dn\"), Key<D>(offset=120, nElements=1)),\n",
       "    (Field['D'](name=\"base_CircularApertureFlux_3_0_fluxSigma\", doc=\"1-sigma flux uncertainty\", units=\"dn\"), Key<D>(offset=128, nElements=1)),\n",
       "    (Field['Flag'](name=\"base_CircularApertureFlux_3_0_flag\", doc=\"general failure flag\"), Key['Flag'](offset=40, bit=3)),\n",
       "    (Field['Flag'](name=\"base_CircularApertureFlux_3_0_flag_apertureTruncated\", doc=\"aperture did not fit within measurement image\"), Key['Flag'](offset=40, bit=4)),\n",
       "    (Field['Flag'](name=\"base_CircularApertureFlux_3_0_flag_sincCoeffsTruncated\", doc=\"full sinc coefficient image did not fit within measurement image\"), Key['Flag'](offset=40, bit=5)),\n",
       "    (Field['D'](name=\"base_CircularApertureFlux_4_5_flux\", doc=\"flux within 4.500000-pixel aperture\", units=\"dn\"), Key<D>(offset=136, nElements=1)),\n",
       "    (Field['D'](name=\"base_CircularApertureFlux_4_5_fluxSigma\", doc=\"1-sigma flux uncertainty\", units=\"dn\"), Key<D>(offset=144, nElements=1)),\n",
       "    (Field['Flag'](name=\"base_CircularApertureFlux_4_5_flag\", doc=\"general failure flag\"), Key['Flag'](offset=40, bit=6)),\n",
       "    (Field['Flag'](name=\"base_CircularApertureFlux_4_5_flag_apertureTruncated\", doc=\"aperture did not fit within measurement image\"), Key['Flag'](offset=40, bit=7)),\n",
       "    (Field['Flag'](name=\"base_CircularApertureFlux_4_5_flag_sincCoeffsTruncated\", doc=\"full sinc coefficient image did not fit within measurement image\"), Key['Flag'](offset=40, bit=8)),\n",
       "    (Field['D'](name=\"base_CircularApertureFlux_6_0_flux\", doc=\"flux within 6.000000-pixel aperture\", units=\"dn\"), Key<D>(offset=152, nElements=1)),\n",
       "    (Field['D'](name=\"base_CircularApertureFlux_6_0_fluxSigma\", doc=\"1-sigma flux uncertainty\", units=\"dn\"), Key<D>(offset=160, nElements=1)),\n",
       "    (Field['Flag'](name=\"base_CircularApertureFlux_6_0_flag\", doc=\"general failure flag\"), Key['Flag'](offset=40, bit=9)),\n",
       "    (Field['Flag'](name=\"base_CircularApertureFlux_6_0_flag_apertureTruncated\", doc=\"aperture did not fit within measurement image\"), Key['Flag'](offset=40, bit=10)),\n",
       "    (Field['Flag'](name=\"base_CircularApertureFlux_6_0_flag_sincCoeffsTruncated\", doc=\"full sinc coefficient image did not fit within measurement image\"), Key['Flag'](offset=40, bit=11)),\n",
       "    (Field['D'](name=\"base_CircularApertureFlux_9_0_flux\", doc=\"flux within 9.000000-pixel aperture\", units=\"dn\"), Key<D>(offset=168, nElements=1)),\n",
       "    (Field['D'](name=\"base_CircularApertureFlux_9_0_fluxSigma\", doc=\"1-sigma flux uncertainty\", units=\"dn\"), Key<D>(offset=176, nElements=1)),\n",
       "    (Field['Flag'](name=\"base_CircularApertureFlux_9_0_flag\", doc=\"general failure flag\"), Key['Flag'](offset=40, bit=12)),\n",
       "    (Field['Flag'](name=\"base_CircularApertureFlux_9_0_flag_apertureTruncated\", doc=\"aperture did not fit within measurement image\"), Key['Flag'](offset=40, bit=13)),\n",
       "    (Field['Flag'](name=\"base_CircularApertureFlux_9_0_flag_sincCoeffsTruncated\", doc=\"full sinc coefficient image did not fit within measurement image\"), Key['Flag'](offset=40, bit=14)),\n",
       "    (Field['D'](name=\"base_CircularApertureFlux_12_0_flux\", doc=\"flux within 12.000000-pixel aperture\", units=\"dn\"), Key<D>(offset=184, nElements=1)),\n",
       "    (Field['D'](name=\"base_CircularApertureFlux_12_0_fluxSigma\", doc=\"1-sigma flux uncertainty\", units=\"dn\"), Key<D>(offset=192, nElements=1)),\n",
       "    (Field['Flag'](name=\"base_CircularApertureFlux_12_0_flag\", doc=\"general failure flag\"), Key['Flag'](offset=40, bit=15)),\n",
       "    (Field['Flag'](name=\"base_CircularApertureFlux_12_0_flag_apertureTruncated\", doc=\"aperture did not fit within measurement image\"), Key['Flag'](offset=40, bit=16)),\n",
       "    (Field['D'](name=\"base_CircularApertureFlux_17_0_flux\", doc=\"flux within 17.000000-pixel aperture\", units=\"dn\"), Key<D>(offset=200, nElements=1)),\n",
       "    (Field['D'](name=\"base_CircularApertureFlux_17_0_fluxSigma\", doc=\"1-sigma flux uncertainty\", units=\"dn\"), Key<D>(offset=208, nElements=1)),\n",
       "    (Field['Flag'](name=\"base_CircularApertureFlux_17_0_flag\", doc=\"general failure flag\"), Key['Flag'](offset=40, bit=17)),\n",
       "    (Field['Flag'](name=\"base_CircularApertureFlux_17_0_flag_apertureTruncated\", doc=\"aperture did not fit within measurement image\"), Key['Flag'](offset=40, bit=18)),\n",
       "    (Field['D'](name=\"base_CircularApertureFlux_25_0_flux\", doc=\"flux within 25.000000-pixel aperture\", units=\"dn\"), Key<D>(offset=216, nElements=1)),\n",
       "    (Field['D'](name=\"base_CircularApertureFlux_25_0_fluxSigma\", doc=\"1-sigma flux uncertainty\", units=\"dn\"), Key<D>(offset=224, nElements=1)),\n",
       "    (Field['Flag'](name=\"base_CircularApertureFlux_25_0_flag\", doc=\"general failure flag\"), Key['Flag'](offset=40, bit=19)),\n",
       "    (Field['Flag'](name=\"base_CircularApertureFlux_25_0_flag_apertureTruncated\", doc=\"aperture did not fit within measurement image\"), Key['Flag'](offset=40, bit=20)),\n",
       "    (Field['D'](name=\"base_CircularApertureFlux_35_0_flux\", doc=\"flux within 35.000000-pixel aperture\", units=\"dn\"), Key<D>(offset=232, nElements=1)),\n",
       "    (Field['D'](name=\"base_CircularApertureFlux_35_0_fluxSigma\", doc=\"1-sigma flux uncertainty\", units=\"dn\"), Key<D>(offset=240, nElements=1)),\n",
       "    (Field['Flag'](name=\"base_CircularApertureFlux_35_0_flag\", doc=\"general failure flag\"), Key['Flag'](offset=40, bit=21)),\n",
       "    (Field['Flag'](name=\"base_CircularApertureFlux_35_0_flag_apertureTruncated\", doc=\"aperture did not fit within measurement image\"), Key['Flag'](offset=40, bit=22)),\n",
       "    (Field['D'](name=\"base_CircularApertureFlux_50_0_flux\", doc=\"flux within 50.000000-pixel aperture\", units=\"dn\"), Key<D>(offset=248, nElements=1)),\n",
       "    (Field['D'](name=\"base_CircularApertureFlux_50_0_fluxSigma\", doc=\"1-sigma flux uncertainty\", units=\"dn\"), Key<D>(offset=256, nElements=1)),\n",
       "    (Field['Flag'](name=\"base_CircularApertureFlux_50_0_flag\", doc=\"general failure flag\"), Key['Flag'](offset=40, bit=23)),\n",
       "    (Field['Flag'](name=\"base_CircularApertureFlux_50_0_flag_apertureTruncated\", doc=\"aperture did not fit within measurement image\"), Key['Flag'](offset=40, bit=24)),\n",
       "    (Field['D'](name=\"base_CircularApertureFlux_70_0_flux\", doc=\"flux within 70.000000-pixel aperture\", units=\"dn\"), Key<D>(offset=264, nElements=1)),\n",
       "    (Field['D'](name=\"base_CircularApertureFlux_70_0_fluxSigma\", doc=\"1-sigma flux uncertainty\", units=\"dn\"), Key<D>(offset=272, nElements=1)),\n",
       "    (Field['Flag'](name=\"base_CircularApertureFlux_70_0_flag\", doc=\"general failure flag\"), Key['Flag'](offset=40, bit=25)),\n",
       "    (Field['Flag'](name=\"base_CircularApertureFlux_70_0_flag_apertureTruncated\", doc=\"aperture did not fit within measurement image\"), Key['Flag'](offset=40, bit=26)),\n",
       "    (Field['Flag'](name=\"base_PixelFlags_flag\", doc=\"general failure flag, set if anything went wring\"), Key['Flag'](offset=40, bit=27)),\n",
       "    (Field['Flag'](name=\"base_PixelFlags_flag_offimage\", doc=\"Source center is off image\"), Key['Flag'](offset=40, bit=28)),\n",
       "    (Field['Flag'](name=\"base_PixelFlags_flag_edge\", doc=\"Source is outside usable exposure region (masked EDGE or NO_DATA)\"), Key['Flag'](offset=40, bit=29)),\n",
       "    (Field['Flag'](name=\"base_PixelFlags_flag_interpolated\", doc=\"Interpolated pixel in the Source footprint\"), Key['Flag'](offset=40, bit=30)),\n",
       "    (Field['Flag'](name=\"base_PixelFlags_flag_saturated\", doc=\"Saturated pixel in the Source footprint\"), Key['Flag'](offset=40, bit=31)),\n",
       "    (Field['Flag'](name=\"base_PixelFlags_flag_cr\", doc=\"Cosmic ray in the Source footprint\"), Key['Flag'](offset=40, bit=32)),\n",
       "    (Field['Flag'](name=\"base_PixelFlags_flag_bad\", doc=\"Bad pixel in the Source footprint\"), Key['Flag'](offset=40, bit=33)),\n",
       "    (Field['Flag'](name=\"base_PixelFlags_flag_suspect\", doc=\"Source''s footprint includes suspect pixels\"), Key['Flag'](offset=40, bit=34)),\n",
       "    (Field['Flag'](name=\"base_PixelFlags_flag_interpolatedCenter\", doc=\"Interpolated pixel in the Source center\"), Key['Flag'](offset=40, bit=35)),\n",
       "    (Field['Flag'](name=\"base_PixelFlags_flag_saturatedCenter\", doc=\"Saturated pixel in the Source center\"), Key['Flag'](offset=40, bit=36)),\n",
       "    (Field['Flag'](name=\"base_PixelFlags_flag_crCenter\", doc=\"Cosmic ray in the Source center\"), Key['Flag'](offset=40, bit=37)),\n",
       "    (Field['Flag'](name=\"base_PixelFlags_flag_suspectCenter\", doc=\"Source''s center is close to suspect pixels\"), Key['Flag'](offset=40, bit=38)),\n",
       "    (Field['D'](name=\"base_PsfFlux_flux\", doc=\"flux derived from linear least-squares fit of PSF model\", units=\"dn\"), Key<D>(offset=280, nElements=1)),\n",
       "    (Field['D'](name=\"base_PsfFlux_fluxSigma\", doc=\"1-sigma flux uncertainty\", units=\"dn\"), Key<D>(offset=288, nElements=1)),\n",
       "    (Field['Flag'](name=\"base_PsfFlux_flag\", doc=\"general failure flag\"), Key['Flag'](offset=40, bit=39)),\n",
       "    (Field['Flag'](name=\"base_PsfFlux_flag_noGoodPixels\", doc=\"not enough non-rejected pixels in data to attempt the fit\"), Key['Flag'](offset=40, bit=40)),\n",
       "    (Field['Flag'](name=\"base_PsfFlux_flag_edge\", doc=\"object was too close to the edge of the image to use the full PSF model\"), Key['Flag'](offset=40, bit=41)),\n",
       "    (Field['Flag'](name=\"ip_diffim_NaiveDipoleFlux_flag\", doc=\"general failure flag, set if anything went wrong\"), Key['Flag'](offset=40, bit=42)),\n",
       "    (Field['Flag'](name=\"ip_diffim_NaiveDipoleFlux_pos_flag\", doc=\"failure flag for positive, set if anything went wrong\"), Key['Flag'](offset=40, bit=43)),\n",
       "    (Field['Flag'](name=\"ip_diffim_NaiveDipoleFlux_neg_flag\", doc=\"failure flag for negative, set if anything went wrong\"), Key['Flag'](offset=40, bit=44)),\n",
       "    (Field['D'](name=\"ip_diffim_NaiveDipoleFlux_pos_flux\", doc=\"raw flux counts: positive lobe\", units=\"dn\"), Key<D>(offset=296, nElements=1)),\n",
       "    (Field['D'](name=\"ip_diffim_NaiveDipoleFlux_pos_fluxSigma\", doc=\"1-sigma flux uncertainty\", units=\"dn\"), Key<D>(offset=304, nElements=1)),\n",
       "    (Field['D'](name=\"ip_diffim_NaiveDipoleFlux_neg_flux\", doc=\"raw flux counts: negative lobe\", units=\"dn\"), Key<D>(offset=312, nElements=1)),\n",
       "    (Field['D'](name=\"ip_diffim_NaiveDipoleFlux_neg_fluxSigma\", doc=\"1-sigma flux uncertainty\", units=\"dn\"), Key<D>(offset=320, nElements=1)),\n",
       "    (Field['I'](name=\"ip_diffim_NaiveDipoleFlux_npos\", doc=\"number of positive pixels\", units=\"dn\"), Key<I>(offset=328, nElements=1)),\n",
       "    (Field['I'](name=\"ip_diffim_NaiveDipoleFlux_nneg\", doc=\"number of negative pixels\", units=\"dn\"), Key<I>(offset=332, nElements=1)),\n",
       "    (Field['Flag'](name=\"ip_diffim_PsfDipoleFlux_flag\", doc=\"general failure flag, set if anything went wrong\"), Key['Flag'](offset=40, bit=45)),\n",
       "    (Field['Flag'](name=\"ip_diffim_PsfDipoleFlux_pos_flag\", doc=\"failure flag for positive, set if anything went wrong\"), Key['Flag'](offset=40, bit=46)),\n",
       "    (Field['Flag'](name=\"ip_diffim_PsfDipoleFlux_neg_flag\", doc=\"failure flag for negative, set if anything went wrong\"), Key['Flag'](offset=40, bit=47)),\n",
       "    (Field['D'](name=\"ip_diffim_PsfDipoleFlux_pos_flux\", doc=\"jointly fitted psf flux counts: positive lobe\", units=\"dn\"), Key<D>(offset=336, nElements=1)),\n",
       "    (Field['D'](name=\"ip_diffim_PsfDipoleFlux_pos_fluxSigma\", doc=\"1-sigma flux uncertainty\", units=\"dn\"), Key<D>(offset=344, nElements=1)),\n",
       "    (Field['D'](name=\"ip_diffim_PsfDipoleFlux_neg_flux\", doc=\"jointly fitted psf flux counts: negative lobe\", units=\"dn\"), Key<D>(offset=352, nElements=1)),\n",
       "    (Field['D'](name=\"ip_diffim_PsfDipoleFlux_neg_fluxSigma\", doc=\"1-sigma flux uncertainty\", units=\"dn\"), Key<D>(offset=360, nElements=1)),\n",
       "    (Field['F'](name=\"ip_diffim_PsfDipoleFlux_chi2dof\", doc=\"chi2 per degree of freedom of fit\"), Key<F>(offset=368, nElements=1)),\n",
       "    (Field['D'](name=\"ip_diffim_PsfDipoleFlux_pos_centroid_x\", doc=\"psf fitted center of positive lobe\", units=\"pixels\"), Key<D>(offset=376, nElements=1)),\n",
       "    (Field['D'](name=\"ip_diffim_PsfDipoleFlux_pos_centroid_y\", doc=\"psf fitted center of positive lobe\", units=\"pixels\"), Key<D>(offset=384, nElements=1)),\n",
       "    (Field['F'](name=\"ip_diffim_PsfDipoleFlux_pos_centroid_xSigma\", doc=\"1-sigma uncertainty on x position\", units=\"pixels\"), Key<F>(offset=392, nElements=1)),\n",
       "    (Field['F'](name=\"ip_diffim_PsfDipoleFlux_pos_centroid_ySigma\", doc=\"1-sigma uncertainty on y position\", units=\"pixels\"), Key<F>(offset=396, nElements=1)),\n",
       "    (Field['D'](name=\"ip_diffim_PsfDipoleFlux_neg_centroid_x\", doc=\"psf fitted center of negative lobe\", units=\"pixels\"), Key<D>(offset=400, nElements=1)),\n",
       "    (Field['D'](name=\"ip_diffim_PsfDipoleFlux_neg_centroid_y\", doc=\"psf fitted center of negative lobe\", units=\"pixels\"), Key<D>(offset=408, nElements=1)),\n",
       "    (Field['F'](name=\"ip_diffim_PsfDipoleFlux_neg_centroid_xSigma\", doc=\"1-sigma uncertainty on x position\", units=\"pixels\"), Key<F>(offset=416, nElements=1)),\n",
       "    (Field['F'](name=\"ip_diffim_PsfDipoleFlux_neg_centroid_ySigma\", doc=\"1-sigma uncertainty on y position\", units=\"pixels\"), Key<F>(offset=420, nElements=1)),\n",
       "    (Field['D'](name=\"ip_diffim_PsfDipoleFlux_centroid_x\", doc=\"average of negative and positive lobe positions\", units=\"pixels\"), Key<D>(offset=424, nElements=1)),\n",
       "    (Field['D'](name=\"ip_diffim_PsfDipoleFlux_centroid_y\", doc=\"average of negative and positive lobe positions\", units=\"pixels\"), Key<D>(offset=432, nElements=1)),\n",
       "    (Field['F'](name=\"ip_diffim_PsfDipoleFlux_centroid_xSigma\", doc=\"1-sigma uncertainty on x position\", units=\"pixels\"), Key<F>(offset=440, nElements=1)),\n",
       "    (Field['F'](name=\"ip_diffim_PsfDipoleFlux_centroid_ySigma\", doc=\"1-sigma uncertainty on y position\", units=\"pixels\"), Key<F>(offset=444, nElements=1)),\n",
       "    (Field['D'](name=\"base_PsfFlux_apCorr\", doc=\"aperture correction applied to base_PsfFlux\"), Key<D>(offset=448, nElements=1)),\n",
       "    (Field['D'](name=\"base_PsfFlux_apCorrSigma\", doc=\"aperture correction applied to base_PsfFlux\"), Key<D>(offset=456, nElements=1)),\n",
       "    (Field['Flag'](name=\"base_PsfFlux_flag_apCorr\", doc=\"set if unable to aperture correct base_PsfFlux\"), Key['Flag'](offset=40, bit=48)),\n",
       "    'base_CircularApertureFlux_flag_badCentroid'->'ip_diffim_NaiveDipoleCentroid_flag'\n",
       "    'base_PsfFlux_flag_badCentroid'->'ip_diffim_NaiveDipoleCentroid_flag'\n",
       "    'slot_ApFlux'->'base_CircularApertureFlux_3_0'\n",
       "    'slot_Centroid'->'ip_diffim_NaiveDipoleCentroid'\n",
       "    'slot_PsfFlux'->'base_PsfFlux'\n",
       ")"
      ]
     },
     "execution_count": 42,
     "metadata": {},
     "output_type": "execute_result"
    }
   ],
   "source": [
    "class_diaSrc[0].schema"
   ]
  },
  {
   "cell_type": "code",
   "execution_count": null,
   "metadata": {
    "collapsed": true,
    "deletable": true,
    "editable": true
   },
   "outputs": [],
   "source": []
  }
 ],
 "metadata": {
  "kernelspec": {
   "display_name": "Python 2",
   "language": "python",
   "name": "python2"
  },
  "language_info": {
   "codemirror_mode": {
    "name": "ipython",
    "version": 2
   },
   "file_extension": ".py",
   "mimetype": "text/x-python",
   "name": "python",
   "nbconvert_exporter": "python",
   "pygments_lexer": "ipython2",
   "version": "2.7.12"
  }
 },
 "nbformat": 4,
 "nbformat_minor": 0
}
