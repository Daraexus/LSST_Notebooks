{
 "cells": [
  {
   "cell_type": "code",
   "execution_count": 3,
   "metadata": {
    "collapsed": false
   },
   "outputs": [],
   "source": [
    "import Utils.DiaSourceTools as DSTools\n",
    "import lsst.afw.display.ds9 as ds9\n",
    "import lsst.daf.persistence as dafPersist\n",
    "import lsst.afw.geom as afwGeom\n"
   ]
  },
  {
   "cell_type": "code",
   "execution_count": 4,
   "metadata": {
    "collapsed": true
   },
   "outputs": [],
   "source": [
    "DATADIR=\"/datadec/cppm/jpreyes/CFHT_Test/\"\n",
    "DATADIR=\"/renoir_data_02/jpreyes/lsst_data/CFHTLS_daytest/\"\n",
    "directory = DATADIR+\"/detect_testSN_par_2/\"\n",
    "butler = dafPersist.Butler(directory) "
   ]
  },
  {
   "cell_type": "code",
   "execution_count": 23,
   "metadata": {
    "collapsed": true
   },
   "outputs": [],
   "source": [
    "\n",
    "def getStamp(ra, dec,  exposure, size=20, offset=0):\n",
    "    \n",
    "    \n",
    "    sourceRa = afwGeom.Angle(ra,  afwGeom.degrees)\n",
    "    sourceDec = afwGeom.Angle(dec,  afwGeom.degrees)\n",
    "\n",
    "    wcs = exposure.getWcs()\n",
    "\n",
    "    Center = afwGeom.Point2I(wcs.skyToPixel(sourceRa, sourceDec))\n",
    "\n",
    "    height= size/2\n",
    "    width= size/2\n",
    "    \n",
    "    print Center\n",
    "\n",
    "\n",
    "    centerX= Center[0]\n",
    "    centerY= Center[1]\n",
    "\n",
    "    Begin = afwGeom.Point2D(centerX - height, centerY - width)\n",
    "    Begin = afwGeom.Point2I(Begin)\n",
    "\n",
    "    End = afwGeom.Point2D(centerX + height+1, centerY + width+1)\n",
    "    End = afwGeom.Point2I(End)\n",
    "\n",
    "\n",
    "\n",
    "    ExpOrig = afwGeom.Point2I(exposure.getX0(), exposure.getY0())\n",
    "\n",
    "\n",
    "\n",
    "    correctedBegin = Begin- ExpOrig\n",
    "    correctedEnd = End - ExpOrig\n",
    "\n",
    "    correctedBegin= afwGeom.Point2I(correctedBegin.getX()-offset,correctedBegin.getY()-offset )\n",
    "    correctedEnd = afwGeom.Point2I(correctedEnd.getX()+offset,correctedEnd.getY()+offset )\n",
    "\n",
    "\n",
    "    bboxT = afwGeom.Box2I(correctedBegin,correctedEnd) \n",
    "\n",
    "\n",
    "\n",
    "    #bboxT = bbox\n",
    "        #print bboxT.toString, centerX, centerY\n",
    "    return exposure.Factory(exposure,bboxT, True)\n"
   ]
  },
  {
   "cell_type": "code",
   "execution_count": 29,
   "metadata": {
    "collapsed": false
   },
   "outputs": [
    {
     "name": "stdout",
     "output_type": "stream",
     "text": [
      "(14840, 6059)\n"
     ]
    }
   ],
   "source": [
    "patch = '14,6'\n",
    "ra = 215.18155833333333\n",
    "dec = 52.191063888888884\n",
    "date = '2006-02-03'\n",
    "\n",
    "dataId= {\"filter\":'r',\"tract\":0, \"patch\":patch, 'date':date}\n",
    "exposure = butler.get(\"dayDiff_differenceExp\", dataId=dataId)\n",
    "\n",
    "\n",
    "stamp = getStamp(ra, dec, exposure, size=20)\n",
    "\n",
    "ds9.mtv(stamp, frame = 1)\n",
    "ds9.mtv(exposure, frame=2)\n",
    "ds9.dot('o', 14840, 6059, frame=2)"
   ]
  },
  {
   "cell_type": "code",
   "execution_count": 63,
   "metadata": {
    "collapsed": false
   },
   "outputs": [],
   "source": [
    "def is_near_border(source, exposure):\n",
    "    wcs = exposure.getWcs()\n",
    "    \n",
    "    point = afwGeom.Point2I(wcs.skyToPixel(source.get(\"coord_ra\"), source.get(\"coord_dec\")))\n",
    "    #print point\n",
    "    \n",
    "    bbox = exposure.getBBox()\n",
    "    \n",
    "    b_max_x =  bbox.getMaxX() - 50\n",
    "    b_min_x =  bbox.getMinX() + 50\n",
    "    b_max_y =  bbox.getMaxY() - 50\n",
    "    b_min_y =  bbox.getMinY() + 50\n",
    "    \n",
    "    if point.getX() > b_max_x or point.getX() < b_min_x or point.getY() > b_max_y or point.getY() < b_min_y:\n",
    "        print point, b_max_x, b_min_x, b_max_y, b_min_y\n",
    "        print True\n",
    "    else:\n",
    "        print False\n",
    "    \n",
    "    #print bbox"
   ]
  },
  {
   "cell_type": "code",
   "execution_count": 65,
   "metadata": {
    "collapsed": true
   },
   "outputs": [],
   "source": [
    "dataId= {\"filter\":'r',\"tract\":0, \"patch\":'10,10', 'date':date}\n",
    "\n",
    "sources = butler.get(\"dayDiff_class_diaSrc\", dataId=dataId)\n",
    "exposure = butler.get(\"dayDiff_differenceExp\", dataId=dataId)\n"
   ]
  },
  {
   "cell_type": "code",
   "execution_count": 66,
   "metadata": {
    "collapsed": false
   },
   "outputs": [
    {
     "name": "stdout",
     "output_type": "stream",
     "text": [
      "(10304, 9919) 11049 9950 11049 9950\n",
      "True\n",
      "(10339, 9919) 11049 9950 11049 9950\n",
      "True\n",
      "(10897, 9923) 11049 9950 11049 9950\n",
      "True\n",
      "(10049, 9923) 11049 9950 11049 9950\n",
      "True\n",
      "(10400, 9923) 11049 9950 11049 9950\n",
      "True\n",
      "(10737, 9929) 11049 9950 11049 9950\n",
      "True\n",
      "(9943, 9933) 11049 9950 11049 9950\n",
      "True\n",
      "(10357, 9945) 11049 9950 11049 9950\n",
      "True\n",
      "(10503, 9947) 11049 9950 11049 9950\n",
      "True\n",
      "False\n",
      "False\n",
      "False\n",
      "False\n",
      "False\n",
      "(9919, 10006) 11049 9950 11049 9950\n",
      "True\n",
      "False\n",
      "False\n",
      "False\n",
      "False\n",
      "False\n",
      "False\n",
      "False\n",
      "False\n",
      "False\n",
      "False\n",
      "False\n",
      "False\n",
      "False\n",
      "False\n",
      "False\n",
      "False\n",
      "False\n",
      "False\n",
      "False\n",
      "False\n",
      "False\n",
      "False\n",
      "False\n",
      "False\n",
      "False\n",
      "False\n",
      "False\n",
      "False\n",
      "False\n",
      "False\n",
      "False\n",
      "False\n",
      "False\n",
      "False\n",
      "False\n",
      "False\n",
      "False\n",
      "False\n",
      "False\n",
      "False\n",
      "False\n",
      "False\n",
      "False\n",
      "False\n",
      "False\n",
      "False\n",
      "False\n",
      "False\n",
      "(9935, 10503) 11049 9950 11049 9950\n",
      "True\n",
      "False\n",
      "False\n",
      "False\n",
      "False\n",
      "False\n",
      "False\n",
      "(9933, 10550) 11049 9950 11049 9950\n",
      "True\n",
      "False\n",
      "False\n",
      "False\n",
      "False\n",
      "False\n",
      "False\n",
      "False\n",
      "False\n",
      "(9919, 10669) 11049 9950 11049 9950\n",
      "True\n",
      "False\n",
      "False\n",
      "False\n",
      "False\n",
      "False\n",
      "False\n",
      "False\n",
      "False\n",
      "False\n",
      "False\n",
      "False\n",
      "False\n",
      "False\n",
      "False\n",
      "False\n",
      "(11078, 10850) 11049 9950 11049 9950\n",
      "True\n",
      "False\n",
      "False\n",
      "(9930, 10868) 11049 9950 11049 9950\n",
      "True\n",
      "False\n",
      "False\n",
      "False\n",
      "(9928, 10932) 11049 9950 11049 9950\n",
      "True\n",
      "(11058, 10934) 11049 9950 11049 9950\n",
      "True\n",
      "False\n",
      "False\n",
      "False\n",
      "False\n",
      "False\n",
      "(10479, 11059) 11049 9950 11049 9950\n",
      "True\n",
      "(10542, 11073) 11049 9950 11049 9950\n",
      "True\n"
     ]
    }
   ],
   "source": [
    "for src in sources:\n",
    "    is_near_border(src, exposure)"
   ]
  },
  {
   "cell_type": "code",
   "execution_count": 40,
   "metadata": {
    "collapsed": false
   },
   "outputs": [
    {
     "name": "stdout",
     "output_type": "stream",
     "text": [
      "15099 13900\n",
      "7099 5900\n"
     ]
    }
   ],
   "source": [
    "bbox = exposure.getBBox()\n",
    "print bbox.getMaxX(), bbox.getMinX()\n",
    "print bbox.getMaxY(), bbox.getMinY()"
   ]
  },
  {
   "cell_type": "code",
   "execution_count": 44,
   "metadata": {
    "collapsed": false
   },
   "outputs": [],
   "source": [
    "wcs = exposure.getWcs()\n",
    "    \n",
    "point = afwGeom.Point2I(wcs.skyToPixel(sources[0].get(\"coord_ra\"), sources[0].get(\"coord_dec\")))"
   ]
  }
 ],
 "metadata": {
  "kernelspec": {
   "display_name": "Python 2",
   "language": "python",
   "name": "python2"
  },
  "language_info": {
   "codemirror_mode": {
    "name": "ipython",
    "version": 2
   },
   "file_extension": ".py",
   "mimetype": "text/x-python",
   "name": "python",
   "nbconvert_exporter": "python",
   "pygments_lexer": "ipython2",
   "version": "2.7.12"
  }
 },
 "nbformat": 4,
 "nbformat_minor": 0
}
