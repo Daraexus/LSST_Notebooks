{
 "cells": [
  {
   "cell_type": "code",
   "execution_count": 3,
   "metadata": {
    "collapsed": false
   },
   "outputs": [],
   "source": [
    "import Utils.DiaSourceTools as DSTools\n",
    "import lsst.afw.display.ds9 as ds9\n",
    "import lsst.daf.persistence as dafPersist\n",
    "import lsst.afw.geom as afwGeom\n"
   ]
  },
  {
   "cell_type": "code",
   "execution_count": 4,
   "metadata": {
    "collapsed": true
   },
   "outputs": [],
   "source": [
    "DATADIR=\"/datadec/cppm/jpreyes/CFHT_Test/\"\n",
    "DATADIR=\"/renoir_data_02/jpreyes/lsst_data/CFHTLS_daytest/\"\n",
    "directory = DATADIR+\"/detect_testSN_par_2/\"\n",
    "butler = dafPersist.Butler(directory) "
   ]
  },
  {
   "cell_type": "code",
   "execution_count": 23,
   "metadata": {
    "collapsed": true
   },
   "outputs": [],
   "source": [
    "\n",
    "def getStamp(ra, dec,  exposure, size=20, offset=0):\n",
    "    \n",
    "    \n",
    "    sourceRa = afwGeom.Angle(ra,  afwGeom.degrees)\n",
    "    sourceDec = afwGeom.Angle(dec,  afwGeom.degrees)\n",
    "\n",
    "    wcs = exposure.getWcs()\n",
    "\n",
    "    Center = afwGeom.Point2I(wcs.skyToPixel(sourceRa, sourceDec))\n",
    "\n",
    "    height= size/2\n",
    "    width= size/2\n",
    "    \n",
    "    print Center\n",
    "\n",
    "\n",
    "    centerX= Center[0]\n",
    "    centerY= Center[1]\n",
    "\n",
    "    Begin = afwGeom.Point2D(centerX - height, centerY - width)\n",
    "    Begin = afwGeom.Point2I(Begin)\n",
    "\n",
    "    End = afwGeom.Point2D(centerX + height+1, centerY + width+1)\n",
    "    End = afwGeom.Point2I(End)\n",
    "\n",
    "\n",
    "\n",
    "    ExpOrig = afwGeom.Point2I(exposure.getX0(), exposure.getY0())\n",
    "\n",
    "\n",
    "\n",
    "    correctedBegin = Begin- ExpOrig\n",
    "    correctedEnd = End - ExpOrig\n",
    "\n",
    "    correctedBegin= afwGeom.Point2I(correctedBegin.getX()-offset,correctedBegin.getY()-offset )\n",
    "    correctedEnd = afwGeom.Point2I(correctedEnd.getX()+offset,correctedEnd.getY()+offset )\n",
    "\n",
    "\n",
    "    bboxT = afwGeom.Box2I(correctedBegin,correctedEnd) \n",
    "\n",
    "\n",
    "\n",
    "    #bboxT = bbox\n",
    "        #print bboxT.toString, centerX, centerY\n",
    "    return exposure.Factory(exposure,bboxT, True)\n"
   ]
  },
  {
   "cell_type": "code",
   "execution_count": 29,
   "metadata": {
    "collapsed": false
   },
   "outputs": [
    {
     "name": "stdout",
     "output_type": "stream",
     "text": [
      "(14840, 6059)\n"
     ]
    }
   ],
   "source": [
    "patch = '14,6'\n",
    "ra = 215.18155833333333\n",
    "dec = 52.191063888888884\n",
    "date = '2006-02-03'\n",
    "\n",
    "dataId= {\"filter\":'r',\"tract\":0, \"patch\":patch, 'date':date}\n",
    "exposure = butler.get(\"dayDiff_differenceExp\", dataId=dataId)\n",
    "\n",
    "\n",
    "stamp = getStamp(ra, dec, exposure, size=20)\n",
    "\n",
    "ds9.mtv(stamp, frame = 1)\n",
    "ds9.mtv(exposure, frame=2)\n",
    "ds9.dot('o', 14840, 6059, frame=2)"
   ]
  },
  {
   "cell_type": "code",
   "execution_count": null,
   "metadata": {
    "collapsed": true
   },
   "outputs": [],
   "source": []
  }
 ],
 "metadata": {
  "kernelspec": {
   "display_name": "Python 2",
   "language": "python",
   "name": "python2"
  },
  "language_info": {
   "codemirror_mode": {
    "name": "ipython",
    "version": 2
   },
   "file_extension": ".py",
   "mimetype": "text/x-python",
   "name": "python",
   "nbconvert_exporter": "python",
   "pygments_lexer": "ipython2",
   "version": "2.7.12"
  }
 },
 "nbformat": 4,
 "nbformat_minor": 0
}
