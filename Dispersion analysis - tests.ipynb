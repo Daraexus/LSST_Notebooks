{
 "cells": [
  {
   "cell_type": "code",
   "execution_count": 65,
   "metadata": {
    "collapsed": true
   },
   "outputs": [],
   "source": [
    "import lsst.daf.persistence as dafPersist\n",
    "import matplotlib.pyplot as plt\n",
    "import numpy as np\n",
    "\n",
    "import lsst.afw.table as afwTable\n",
    "import lsst.afw.geom as afwGeom\n",
    "import Utils.DiaSourceTools as DSTools\n",
    "from astropy.time import Time\n",
    "\n",
    "import lsst.afw.display.ds9 as ds9\n",
    "import lsst.afw.image as afwImage\n",
    "import re\n",
    "\n",
    "from multiprocessing import Pool\n",
    "from functools import partial\n",
    "\n",
    "import astropy.coordinates as coord\n",
    "import astropy.units as u\n",
    "\n",
    "import lsst.daf.base as dafBase\n",
    "from lsst.meas.algorithms.detection import SourceDetectionTask\n",
    "from lsst.meas.base import SingleFrameMeasurementTask\n",
    "from lsst.meas.deblender import SourceDeblendTask\n",
    "\n",
    "import lsst.afw.math as afwMath\n",
    "\n",
    "from astropy.table import Table"
   ]
  },
  {
   "cell_type": "code",
   "execution_count": 2,
   "metadata": {
    "collapsed": true
   },
   "outputs": [],
   "source": [
    "DATADIR=\"/datadec/cppm/jpreyes/CFHT_Jointcal\"\n",
    "directory = DATADIR+\"/jointcal_testSN_2/\"\n",
    "butler = dafPersist.Butler(directory) \n",
    "filter = 'r'\n"
   ]
  },
  {
   "cell_type": "code",
   "execution_count": 3,
   "metadata": {
    "collapsed": true
   },
   "outputs": [],
   "source": [
    "calexp  = butler.get(\"calexp\", dataId={\"filter\":filter, \"visit\":849373, \"ccd\":15})\n",
    "src = butler.get(\"src\", dataId={\"filter\":filter, \"visit\":849373, \"ccd\":15})"
   ]
  },
  {
   "cell_type": "code",
   "execution_count": 69,
   "metadata": {
    "collapsed": true
   },
   "outputs": [],
   "source": [
    "def preConvolve(exposure, sigma=5):\n",
    "    psf = exposure.getPsf()\n",
    "    maskedImage = exposure.getMaskedImage()\n",
    "    kWidth = (int(sigma * 7 + 0.5) // 2) * 2 + 1 # make sure it is odd\n",
    "    #self.metadata.set(\"smoothingKernelWidth\", kWidth)\n",
    "    gaussFunc = afwMath.GaussianFunction1D(sigma)\n",
    "    gaussKernel = afwMath.SeparableKernel(kWidth, kWidth, gaussFunc, gaussFunc)\n",
    "\n",
    "    convolvedImage = maskedImage.Factory(maskedImage.getBBox())\n",
    "\n",
    "    afwMath.convolve(convolvedImage, maskedImage, gaussKernel, afwMath.ConvolutionControl())\n",
    "    #\n",
    "    # Only search psf-smooth part of frame\n",
    "    #\n",
    "    goodBBox = gaussKernel.shrinkBBox(convolvedImage.getBBox())\n",
    "    middle = convolvedImage.Factory(convolvedImage, goodBBox, afwImage.PARENT, False)\n",
    "    #\n",
    "    # Mark the parts of the image outside goodBBox as EDGE\n",
    "    #\n",
    "    #self.setEdgeBits(maskedImage, goodBBox, maskedImage.getMask().getPlaneBitMask(\"EDGE\"))\n",
    "    return convolvedImage"
   ]
  },
  {
   "cell_type": "code",
   "execution_count": 4,
   "metadata": {
    "collapsed": true
   },
   "outputs": [],
   "source": [
    "def detect_sources(exposure):\n",
    "    threshold = 6\n",
    "    doSmooth=True\n",
    "    schema = afwTable.SourceTable.makeMinimalSchema()\n",
    "\n",
    "\n",
    "    algMetadata = dafBase.PropertyList()\n",
    "\n",
    "    config = SourceDetectionTask.ConfigClass()\n",
    "    #config.thresholdPolarity = \"both\"\n",
    "    config.thresholdValue = threshold\n",
    "    config.reEstimateBackground = False\n",
    "    #config.thresholdType = \"pixel_stdev\"\n",
    "\n",
    "    detectionTask = SourceDetectionTask(config=config, schema=schema)\n",
    "\n",
    "    measurement = SingleFrameMeasurementTask\n",
    "    config = measurement.ConfigClass()\n",
    "\n",
    "    measurement = measurement(schema, config=config, algMetadata=algMetadata)\n",
    "\n",
    "\n",
    "    deblend = SourceDeblendTask\n",
    "    config = SourceDeblendTask.ConfigClass()\n",
    "    deblend = deblend(schema)\n",
    "\n",
    "    table = afwTable.SourceTable.make(schema)\n",
    "    \n",
    "    results = detectionTask.run(table=table, exposure=exposure , doSmooth=doSmooth )\n",
    "\n",
    "    sourcesCat = results.sources\n",
    "    \n",
    "    deblend.run(exposure, sourcesCat)\n",
    "    \n",
    "    \n",
    "\n",
    "    measurement.run(measCat=sourcesCat, exposure=exposure)\n",
    "\n",
    "    return sourcesCat"
   ]
  },
  {
   "cell_type": "code",
   "execution_count": 65,
   "metadata": {},
   "outputs": [
    {
     "name": "stdout",
     "output_type": "stream",
     "text": [
      "[[  5.17978333e-05  -6.73377463e-09]\n",
      " [  1.26132232e-07  -5.18771716e-05]]\n"
     ]
    }
   ],
   "source": [
    "\n",
    "\n",
    "calexp  = butler.get(\"calexp\", dataId={\"filter\":filter, \"visit\":849373, \"ccd\":15})\n",
    "print calexp.getWcs().getLinearTransform()\n"
   ]
  },
  {
   "cell_type": "code",
   "execution_count": 66,
   "metadata": {
    "collapsed": true
   },
   "outputs": [],
   "source": [
    "sources = detect_sources(calexp)"
   ]
  },
  {
   "cell_type": "code",
   "execution_count": 67,
   "metadata": {},
   "outputs": [
    {
     "name": "stdout",
     "output_type": "stream",
     "text": [
      "[[  5.16709113e-05  -1.02245459e-06]\n",
      " [ -6.26465798e-07  -5.19629045e-05]]\n"
     ]
    }
   ],
   "source": [
    "wcs = butler.get(\"wcs\", dataId={\"filter\":filter, \"visit\":849373, \"ccd\":15, \"tract\":0})\n",
    "wcs = wcs.getWcs()\n",
    "print wcs.getLinearTransform()"
   ]
  },
  {
   "cell_type": "code",
   "execution_count": 68,
   "metadata": {
    "collapsed": true
   },
   "outputs": [],
   "source": [
    "calexp_corr = calexp.clone()\n",
    "calexp_corr.setWcs(wcs)\n",
    "sources_corr = detect_sources(calexp_corr)"
   ]
  },
  {
   "cell_type": "code",
   "execution_count": 69,
   "metadata": {},
   "outputs": [
    {
     "name": "stdout",
     "output_type": "stream",
     "text": [
      "1649.67231367 1649.67231367\n"
     ]
    }
   ],
   "source": [
    "print s.getX(), sc.getX()"
   ]
  },
  {
   "cell_type": "code",
   "execution_count": 70,
   "metadata": {
    "collapsed": true
   },
   "outputs": [],
   "source": [
    "\n",
    "\n",
    "dif_ra = []\n",
    "dif_dec = []\n",
    "\n",
    "for ccd in range(0,35):\n",
    "\n",
    "    calexp  = butler.get(\"calexp\", dataId={\"filter\":filter, \"visit\":849373, \"ccd\":ccd})\n",
    "    #ds9.mtv(calexp, frame=1)\n",
    "    sources = detect_sources(calexp)\n",
    "    wcs = butler.get(\"wcs\", dataId={\"filter\":filter, \"visit\":849373, \"ccd\":ccd, \"tract\":0})\n",
    "    wcs = wcs.getWcs()\n",
    "    calexp_corr = calexp.clone()\n",
    "    calexp_corr.setWcs(wcs)\n",
    "    sources_corr = detect_sources(calexp_corr)\n",
    "    i = 0\n",
    "    for s, sc in zip(sources, sources_corr):\n",
    "        #ds9.dot(i, s.getX(), s.getY(), ctype = ds9.RED, size=2, frame=1)\n",
    "        \n",
    "        #ds9.dot(i, sc.getX()+1, sc.getY()+1, ctype = ds9.BLUE, size=2, frame=1)\n",
    "        \n",
    "        c1 = coord.SkyCoord(ra=float(s.getRa()), dec=float(s.getDec()), unit=(u.rad))\n",
    "        c2 = coord.SkyCoord(ra=float(sc.getRa()), dec=float(sc.getDec()), unit=(u.rad))\n",
    "        dif_ra.append(c2.ra.deg-c1.ra.deg)\n",
    "        dif_dec.append(c2.dec.deg-c1.dec.deg)\n",
    "        i+=1"
   ]
  },
  {
   "cell_type": "code",
   "execution_count": 71,
   "metadata": {},
   "outputs": [
    {
     "data": {
      "image/png": "[encoded data removed]",
      "text/plain": [
       "<matplotlib.figure.Figure at 0x7f7f46c3d8d0>"
      ]
     },
     "metadata": {},
     "output_type": "display_data"
    }
   ],
   "source": [
    "%matplotlib inline\n",
    "plt.hist(dif_ra, align='left', bins=1000)\n",
    "plt.ticklabel_format(style='sci', axis='x',scilimits=(0,0))\n",
    "plt.axvline(0.00014, color='r', linestyle='dashed', linewidth=2)\n",
    "plt.axvline(-0.00014, color='r', linestyle='dashed', linewidth=2)\n",
    "plt.xlim((-0.01, 0.01))\n",
    "plt.show()"
   ]
  },
  {
   "cell_type": "code",
   "execution_count": 72,
   "metadata": {},
   "outputs": [
    {
     "data": {
      "image/png": "[encoded data removed]",
      "text/plain": [
       "<matplotlib.figure.Figure at 0x7f7f46cb3990>"
      ]
     },
     "metadata": {},
     "output_type": "display_data"
    }
   ],
   "source": [
    "%matplotlib inline\n",
    "plt.hist(dif_dec, align='left', bins=1000)\n",
    "plt.ticklabel_format(style='sci', axis='x',scilimits=(0,0))\n",
    "plt.axvline(0.00014, color='r', linestyle='dashed', linewidth=2)\n",
    "plt.axvline(-0.00014, color='r', linestyle='dashed', linewidth=2)\n",
    "plt.xlim((-0.01, 0.01))\n",
    "plt.show()"
   ]
  },
  {
   "cell_type": "code",
   "execution_count": 3,
   "metadata": {},
   "outputs": [
    {
     "name": "stdout",
     "output_type": "stream",
     "text": [
      "[849373, 849374, 849375, 849376, 849377, 849685, 849686, 849687, 849688, 849689]\n"
     ]
    }
   ],
   "source": [
    "visits = range(849373,849378)\n",
    "visits.extend(range(849685,849690))\n",
    "print visits"
   ]
  },
  {
   "cell_type": "code",
   "execution_count": 4,
   "metadata": {
    "collapsed": true
   },
   "outputs": [],
   "source": [
    "calexps = []\n",
    "\n",
    "for i in visits:\n",
    "    \n",
    "    cal = butler.get(\"calexp\", dataId={\"filter\":filter, \"visit\":i, \"ccd\":14})\n",
    "    #wcs = butler.get(\"wcs\", dataId={\"filter\":filter, \"visit\":i, \"ccd\":14, \"tract\":0})\n",
    "    #wcs = wcs.getWcs()\n",
    "    #cal.setWcs(wcs)\n",
    "    calexps.append(cal)\n",
    "\n",
    "\n"
   ]
  },
  {
   "cell_type": "code",
   "execution_count": 5,
   "metadata": {
    "collapsed": true
   },
   "outputs": [],
   "source": [
    "sources_catalog = []\n",
    "\n",
    "#for calexp in calexps:\n",
    "for visit in visits:\n",
    "    sources_catalog.append(butler.get(\"src\", dataId={\"filter\":filter, \"visit\":visit, \"ccd\":14}))\n",
    "    \n",
    "    #sources_catalog.append(detect_sources(calexp))"
   ]
  },
  {
   "cell_type": "code",
   "execution_count": 6,
   "metadata": {
    "collapsed": true
   },
   "outputs": [],
   "source": [
    "multi_matches = afwTable.MultiMatch(sources_catalog[0].schema, {'visit':'I'}, radius=afwGeom.Angle(1./3600., afwGeom.degrees))"
   ]
  },
  {
   "cell_type": "code",
   "execution_count": 7,
   "metadata": {
    "collapsed": true
   },
   "outputs": [],
   "source": [
    "for catalog, visit in zip(sources_catalog, visits):\n",
    "    \n",
    "    multi_matches.add(catalog, {'visit':visit})\n",
    "    \n",
    "results = multi_matches.finish(removeAmbiguous=False) \n"
   ]
  },
  {
   "cell_type": "code",
   "execution_count": 5,
   "metadata": {
    "collapsed": true
   },
   "outputs": [],
   "source": [
    "def build_lightcurve(source_list, flux):\n",
    "    \"\"\"\n",
    "    Assemble a light curve data table from available files.\n",
    "    \"\"\"\n",
    "\n",
    "    bandpasses = ['r']\n",
    "\n",
    "\n",
    "    lightcurve = {}\n",
    "    #lightcurve['classification'] = []\n",
    "    lightcurve['bandpass'] = []\n",
    "    lightcurve['visit'] = []\n",
    "    lightcurve['ra'] = []\n",
    "    lightcurve['dec'] = []\n",
    "    lightcurve['flux'] = []\n",
    "    lightcurve['flux_error'] = []\n",
    "    lightcurve['zp'] = []\n",
    "    lightcurve['zpsys'] = []\n",
    "\n",
    "\n",
    "    for src in source_list:\n",
    "        \n",
    "        #print 'yep',visit\n",
    "        #lightcurve['classification'].append(src['classification_dipole'])\n",
    "        lightcurve['bandpass'].append(str('sdss' + bandpasses[0]))\n",
    "        \n",
    "        lightcurve['visit'].append(src['visit'])\n",
    "        lightcurve['ra'].append(float(src['coord_ra']))\n",
    "        lightcurve['dec'].append(float(src['coord_dec']))\n",
    "        lightcurve['flux'].append(src[flux])\n",
    "        lightcurve['flux_error'].append(src[flux+'Sigma'])\n",
    "        #lightcurve['flux'].append(src['base_CircularApertureFlux_12_0_flux'])\n",
    "        #lightcurve['flux_error'].append(src['base_CircularApertureFlux_12_0_fluxSigma'])\n",
    "        lightcurve['zp'].append(25.0)\n",
    "        lightcurve['zpsys'].append('ab')\n",
    "        #print lightcurve\n",
    "    lightcurve = Table(data=lightcurve)\n",
    "    return lightcurve"
   ]
  },
  {
   "cell_type": "code",
   "execution_count": 9,
   "metadata": {
    "collapsed": true
   },
   "outputs": [],
   "source": [
    "lcs = DSTools.get_light_curves_from_multimatch_results2(results)"
   ]
  },
  {
   "cell_type": "code",
   "execution_count": 10,
   "metadata": {
    "collapsed": true
   },
   "outputs": [],
   "source": [
    "t_lcs = DSTools.threshold_light_curves(lcs, 3)"
   ]
  },
  {
   "cell_type": "code",
   "execution_count": 11,
   "metadata": {
    "collapsed": true
   },
   "outputs": [],
   "source": [
    "f_lcs = []\n",
    "for lc in t_lcs:\n",
    "        f_lcs.append(build_lightcurve(lc, \"base_CircularApertureFlux_4_5_flux\"))\n",
    "        "
   ]
  },
  {
   "cell_type": "code",
   "execution_count": 12,
   "metadata": {},
   "outputs": [
    {
     "name": "stdout",
     "output_type": "stream",
     "text": [
      "2886\n"
     ]
    }
   ],
   "source": [
    "\n",
    "print len(f_lcs)"
   ]
  },
  {
   "cell_type": "code",
   "execution_count": 36,
   "metadata": {
    "collapsed": true
   },
   "outputs": [],
   "source": [
    "std_ra = []\n",
    "std_dec = []\n",
    "\n",
    "for lc in f_lcs:\n",
    "    std_ra.append(np.std(lc['ra']))\n",
    "    std_dec.append(np.std(lc['dec']))"
   ]
  },
  {
   "cell_type": "code",
   "execution_count": 37,
   "metadata": {
    "collapsed": true
   },
   "outputs": [],
   "source": [
    "std_ra = np.multiply(std_ra,3600)\n",
    "std_dec = np.multiply(std_dec,3600)"
   ]
  },
  {
   "cell_type": "code",
   "execution_count": 42,
   "metadata": {},
   "outputs": [
    {
     "data": {
      "image/png": "[encoded data removed]",
      "text/plain": [
       "<matplotlib.figure.Figure at 0x7f35d880ac50>"
      ]
     },
     "metadata": {},
     "output_type": "display_data"
    }
   ],
   "source": [
    "%matplotlib inline\n",
    "plt.hist(std_ra)\n",
    "plt.xlabel(\"std (arcsec)\")\n",
    "plt.ylabel(\"# of light curves\")\n",
    "#plt.ticklabel_format(style='sci', axis='x',scilimits=(0,0))\n",
    "#plt.axvline(0.00003, color='r', linestyle='dashed', linewidth=2)\n",
    "#plt.axvline(0.00014, color='r', linestyle='dashed', linewidth=2)\n",
    "plt.show()"
   ]
  },
  {
   "cell_type": "code",
   "execution_count": 43,
   "metadata": {},
   "outputs": [
    {
     "data": {
      "image/png": "[encoded data removed]",
      "text/plain": [
       "<matplotlib.figure.Figure at 0x7f36b90b2950>"
      ]
     },
     "metadata": {},
     "output_type": "display_data"
    }
   ],
   "source": [
    "%matplotlib inline\n",
    "plt.hist(std_dec)\n",
    "plt.xlabel(\"std (arcsec)\")\n",
    "plt.ylabel(\"# of light curves\")\n",
    "#plt.ticklabel_format(style='sci', axis='x',scilimits=(0,0))\n",
    "#plt.axvline(0.00003, color='r', linestyle='dashed', linewidth=2)\n",
    "#plt.axvline(0.00014, color='r', linestyle='dashed', linewidth=2)\n",
    "plt.show()"
   ]
  },
  {
   "cell_type": "code",
   "execution_count": 7,
   "metadata": {
    "collapsed": true
   },
   "outputs": [],
   "source": [
    "patches = []\n",
    "patches_file=open(DATADIR+\"/patches.txt\", \"rb\")\n",
    "for line in patches_file:\n",
    "    line = line.replace('\\n','')\n",
    "    text = re.split(\"=| \",line)\n",
    "    patches.append(text[-1])\n",
    "patches_file.close()"
   ]
  },
  {
   "cell_type": "code",
   "execution_count": 51,
   "metadata": {
    "scrolled": true
   },
   "outputs": [
    {
     "ename": "LengthError",
     "evalue": "\n  File \"src/image/Image.cc\", line 80, in static lsst::afw::image::ImageBase<PixelT>::_view_t lsst::afw::image::ImageBase<PixelT>::_makeSubView(const Extent2I&, const Extent2I&, const _view_t&) [with PixelT = double; lsst::afw::image::ImageBase<PixelT>::_view_t = boost::gil::image_view<boost::gil::memory_based_2d_locator<boost::gil::memory_based_step_iterator<boost::gil::pixel<double, boost::gil::layout<boost::mpl::vector1<boost::gil::gray_color_t> > >*> > >; lsst::afw::geom::Extent2I = lsst::afw::geom::Extent<int, 2>]\n    Box2I(Point2I(7,-5),Extent2I(19,19)) doesn't fit in image 33x9 {0}\nlsst::pex::exceptions::LengthError: 'Box2I(Point2I(7,-5),Extent2I(19,19)) doesn't fit in image 33x9'\n",
     "output_type": "error",
     "traceback": [
      "\u001b[0;31m---------------------------------------------------------------------------\u001b[0m",
      "\u001b[0;31mLengthError\u001b[0m                               Traceback (most recent call last)",
      "\u001b[0;32m<ipython-input-51-eddf90c202f0>\u001b[0m in \u001b[0;36m<module>\u001b[0;34m()\u001b[0m\n\u001b[1;32m      3\u001b[0m \u001b[0;34m\u001b[0m\u001b[0m\n\u001b[1;32m      4\u001b[0m \u001b[0mdayCoadd_sources\u001b[0m\u001b[0;34m=\u001b[0m\u001b[0mdetect_sources\u001b[0m\u001b[0;34m(\u001b[0m\u001b[0mdayCoadd\u001b[0m\u001b[0;34m)\u001b[0m\u001b[0;34m\u001b[0m\u001b[0m\n\u001b[0;32m----> 5\u001b[0;31m \u001b[0mrefCoadd_sources\u001b[0m\u001b[0;34m=\u001b[0m\u001b[0mdetect_sources\u001b[0m\u001b[0;34m(\u001b[0m\u001b[0mrefCoadd\u001b[0m\u001b[0;34m)\u001b[0m\u001b[0;34m\u001b[0m\u001b[0m\n\u001b[0m",
      "\u001b[0;32m<ipython-input-6-13a42e184996>\u001b[0m in \u001b[0;36mdetect_sources\u001b[0;34m(exposure)\u001b[0m\n\u001b[1;32m     31\u001b[0m     \u001b[0msourcesCat\u001b[0m \u001b[0;34m=\u001b[0m \u001b[0mresults\u001b[0m\u001b[0;34m.\u001b[0m\u001b[0msources\u001b[0m\u001b[0;34m\u001b[0m\u001b[0m\n\u001b[1;32m     32\u001b[0m \u001b[0;34m\u001b[0m\u001b[0m\n\u001b[0;32m---> 33\u001b[0;31m     \u001b[0mdeblend\u001b[0m\u001b[0;34m.\u001b[0m\u001b[0mrun\u001b[0m\u001b[0;34m(\u001b[0m\u001b[0mexposure\u001b[0m\u001b[0;34m,\u001b[0m \u001b[0msourcesCat\u001b[0m\u001b[0;34m)\u001b[0m\u001b[0;34m\u001b[0m\u001b[0m\n\u001b[0m\u001b[1;32m     34\u001b[0m \u001b[0;34m\u001b[0m\u001b[0m\n\u001b[1;32m     35\u001b[0m \u001b[0;34m\u001b[0m\u001b[0m\n",
      "\u001b[0;32m/renoir_data_00/fouchez/lsst/DM/stacks/lsstsw/2017-05-04/lsstsw/stack/Linux64/pipe_base/13.0-3-g7fa07e0+7/python/lsst/pipe/base/timer.pyc\u001b[0m in \u001b[0;36mwrapper\u001b[0;34m(self, *args, **keyArgs)\u001b[0m\n\u001b[1;32m    119\u001b[0m         \u001b[0mlogInfo\u001b[0m\u001b[0;34m(\u001b[0m\u001b[0mobj\u001b[0m\u001b[0;34m=\u001b[0m\u001b[0mself\u001b[0m\u001b[0;34m,\u001b[0m \u001b[0mprefix\u001b[0m\u001b[0;34m=\u001b[0m\u001b[0mfunc\u001b[0m\u001b[0;34m.\u001b[0m\u001b[0m__name__\u001b[0m \u001b[0;34m+\u001b[0m \u001b[0;34m\"Start\"\u001b[0m\u001b[0;34m)\u001b[0m\u001b[0;34m\u001b[0m\u001b[0m\n\u001b[1;32m    120\u001b[0m         \u001b[0;32mtry\u001b[0m\u001b[0;34m:\u001b[0m\u001b[0;34m\u001b[0m\u001b[0m\n\u001b[0;32m--> 121\u001b[0;31m             \u001b[0mres\u001b[0m \u001b[0;34m=\u001b[0m \u001b[0mfunc\u001b[0m\u001b[0;34m(\u001b[0m\u001b[0mself\u001b[0m\u001b[0;34m,\u001b[0m \u001b[0;34m*\u001b[0m\u001b[0margs\u001b[0m\u001b[0;34m,\u001b[0m \u001b[0;34m**\u001b[0m\u001b[0mkeyArgs\u001b[0m\u001b[0;34m)\u001b[0m\u001b[0;34m\u001b[0m\u001b[0m\n\u001b[0m\u001b[1;32m    122\u001b[0m         \u001b[0;32mfinally\u001b[0m\u001b[0;34m:\u001b[0m\u001b[0;34m\u001b[0m\u001b[0m\n\u001b[1;32m    123\u001b[0m             \u001b[0mlogInfo\u001b[0m\u001b[0;34m(\u001b[0m\u001b[0mobj\u001b[0m\u001b[0;34m=\u001b[0m\u001b[0mself\u001b[0m\u001b[0;34m,\u001b[0m \u001b[0mprefix\u001b[0m\u001b[0;34m=\u001b[0m\u001b[0mfunc\u001b[0m\u001b[0;34m.\u001b[0m\u001b[0m__name__\u001b[0m \u001b[0;34m+\u001b[0m \u001b[0;34m\"End\"\u001b[0m\u001b[0;34m)\u001b[0m\u001b[0;34m\u001b[0m\u001b[0m\n",
      "\u001b[0;32m/renoir_data_00/fouchez/lsst/DM/stacks/lsstsw/2017-05-04/lsstsw/stack/Linux64/meas_deblender/13.0-8-g3fb36f0+2/python/lsst/meas/deblender/deblend.pyc\u001b[0m in \u001b[0;36mrun\u001b[0;34m(self, exposure, sources)\u001b[0m\n\u001b[1;32m    236\u001b[0m         \"\"\"\n\u001b[1;32m    237\u001b[0m         \u001b[0mpsf\u001b[0m \u001b[0;34m=\u001b[0m \u001b[0mexposure\u001b[0m\u001b[0;34m.\u001b[0m\u001b[0mgetPsf\u001b[0m\u001b[0;34m(\u001b[0m\u001b[0;34m)\u001b[0m\u001b[0;34m\u001b[0m\u001b[0m\n\u001b[0;32m--> 238\u001b[0;31m         \u001b[0mself\u001b[0m\u001b[0;34m.\u001b[0m\u001b[0mdeblend\u001b[0m\u001b[0;34m(\u001b[0m\u001b[0mexposure\u001b[0m\u001b[0;34m,\u001b[0m \u001b[0msources\u001b[0m\u001b[0;34m,\u001b[0m \u001b[0mpsf\u001b[0m\u001b[0;34m)\u001b[0m\u001b[0;34m\u001b[0m\u001b[0m\n\u001b[0m\u001b[1;32m    239\u001b[0m \u001b[0;34m\u001b[0m\u001b[0m\n\u001b[1;32m    240\u001b[0m     \u001b[0;32mdef\u001b[0m \u001b[0m_getPsfFwhm\u001b[0m\u001b[0;34m(\u001b[0m\u001b[0mself\u001b[0m\u001b[0;34m,\u001b[0m \u001b[0mpsf\u001b[0m\u001b[0;34m,\u001b[0m \u001b[0mbbox\u001b[0m\u001b[0;34m)\u001b[0m\u001b[0;34m:\u001b[0m\u001b[0;34m\u001b[0m\u001b[0m\n",
      "\u001b[0;32m/renoir_data_00/fouchez/lsst/DM/stacks/lsstsw/2017-05-04/lsstsw/stack/Linux64/pipe_base/13.0-3-g7fa07e0+7/python/lsst/pipe/base/timer.pyc\u001b[0m in \u001b[0;36mwrapper\u001b[0;34m(self, *args, **keyArgs)\u001b[0m\n\u001b[1;32m    119\u001b[0m         \u001b[0mlogInfo\u001b[0m\u001b[0;34m(\u001b[0m\u001b[0mobj\u001b[0m\u001b[0;34m=\u001b[0m\u001b[0mself\u001b[0m\u001b[0;34m,\u001b[0m \u001b[0mprefix\u001b[0m\u001b[0;34m=\u001b[0m\u001b[0mfunc\u001b[0m\u001b[0;34m.\u001b[0m\u001b[0m__name__\u001b[0m \u001b[0;34m+\u001b[0m \u001b[0;34m\"Start\"\u001b[0m\u001b[0;34m)\u001b[0m\u001b[0;34m\u001b[0m\u001b[0m\n\u001b[1;32m    120\u001b[0m         \u001b[0;32mtry\u001b[0m\u001b[0;34m:\u001b[0m\u001b[0;34m\u001b[0m\u001b[0m\n\u001b[0;32m--> 121\u001b[0;31m             \u001b[0mres\u001b[0m \u001b[0;34m=\u001b[0m \u001b[0mfunc\u001b[0m\u001b[0;34m(\u001b[0m\u001b[0mself\u001b[0m\u001b[0;34m,\u001b[0m \u001b[0;34m*\u001b[0m\u001b[0margs\u001b[0m\u001b[0;34m,\u001b[0m \u001b[0;34m**\u001b[0m\u001b[0mkeyArgs\u001b[0m\u001b[0;34m)\u001b[0m\u001b[0;34m\u001b[0m\u001b[0m\n\u001b[0m\u001b[1;32m    122\u001b[0m         \u001b[0;32mfinally\u001b[0m\u001b[0;34m:\u001b[0m\u001b[0;34m\u001b[0m\u001b[0m\n\u001b[1;32m    123\u001b[0m             \u001b[0mlogInfo\u001b[0m\u001b[0;34m(\u001b[0m\u001b[0mobj\u001b[0m\u001b[0;34m=\u001b[0m\u001b[0mself\u001b[0m\u001b[0;34m,\u001b[0m \u001b[0mprefix\u001b[0m\u001b[0;34m=\u001b[0m\u001b[0mfunc\u001b[0m\u001b[0;34m.\u001b[0m\u001b[0m__name__\u001b[0m \u001b[0;34m+\u001b[0m \u001b[0;34m\"End\"\u001b[0m\u001b[0;34m)\u001b[0m\u001b[0;34m\u001b[0m\u001b[0m\n",
      "\u001b[0;32m/renoir_data_00/fouchez/lsst/DM/stacks/lsstsw/2017-05-04/lsstsw/stack/Linux64/meas_deblender/13.0-8-g3fb36f0+2/python/lsst/meas/deblender/deblend.pyc\u001b[0m in \u001b[0;36mdeblend\u001b[0;34m(self, exposure, srcs, psf)\u001b[0m\n\u001b[1;32m    321\u001b[0m                     \u001b[0mremoveDegenerateTemplates\u001b[0m\u001b[0;34m=\u001b[0m\u001b[0mself\u001b[0m\u001b[0;34m.\u001b[0m\u001b[0mconfig\u001b[0m\u001b[0;34m.\u001b[0m\u001b[0mremoveDegenerateTemplates\u001b[0m\u001b[0;34m,\u001b[0m\u001b[0;34m\u001b[0m\u001b[0m\n\u001b[1;32m    322\u001b[0m                     \u001b[0mmaxTempDotProd\u001b[0m\u001b[0;34m=\u001b[0m\u001b[0mself\u001b[0m\u001b[0;34m.\u001b[0m\u001b[0mconfig\u001b[0m\u001b[0;34m.\u001b[0m\u001b[0mmaxTempDotProd\u001b[0m\u001b[0;34m,\u001b[0m\u001b[0;34m\u001b[0m\u001b[0m\n\u001b[0;32m--> 323\u001b[0;31m                     \u001b[0mmedianSmoothTemplate\u001b[0m\u001b[0;34m=\u001b[0m\u001b[0mself\u001b[0m\u001b[0;34m.\u001b[0m\u001b[0mconfig\u001b[0m\u001b[0;34m.\u001b[0m\u001b[0mmedianSmoothTemplate\u001b[0m\u001b[0;34m\u001b[0m\u001b[0m\n\u001b[0m\u001b[1;32m    324\u001b[0m                 )\n\u001b[1;32m    325\u001b[0m                 \u001b[0;32mif\u001b[0m \u001b[0mself\u001b[0m\u001b[0;34m.\u001b[0m\u001b[0mconfig\u001b[0m\u001b[0;34m.\u001b[0m\u001b[0mcatchFailures\u001b[0m\u001b[0;34m:\u001b[0m\u001b[0;34m\u001b[0m\u001b[0m\n",
      "\u001b[0;32m/renoir_data_00/fouchez/lsst/DM/stacks/lsstsw/2017-05-04/lsstsw/stack/Linux64/meas_deblender/13.0-8-g3fb36f0+2/python/lsst/meas/deblender/baseline.pyc\u001b[0m in \u001b[0;36mdeblend\u001b[0;34m(footprint, maskedImage, psf, psffwhm, filters, psfChisqCut1, psfChisqCut2, psfChisqCut2b, fitPsfs, medianSmoothTemplate, medianFilterHalfsize, monotonicTemplate, weightTemplates, log, verbose, sigma1, maxNumberOfPeaks, assignStrayFlux, strayFluxToPointSources, strayFluxAssignment, rampFluxAtEdge, patchEdges, tinyFootprintSize, getTemplateSum, clipStrayFluxFraction, clipFootprintToNonzero, removeDegenerateTemplates, maxTempDotProd)\u001b[0m\n\u001b[1;32m    666\u001b[0m                                               getTemplateSum=getTemplateSum))\n\u001b[1;32m    667\u001b[0m \u001b[0;34m\u001b[0m\u001b[0m\n\u001b[0;32m--> 668\u001b[0;31m     \u001b[0mdebResult\u001b[0m \u001b[0;34m=\u001b[0m \u001b[0mnewDeblend\u001b[0m\u001b[0;34m(\u001b[0m\u001b[0mdebPlugins\u001b[0m\u001b[0;34m,\u001b[0m \u001b[0mfootprint\u001b[0m\u001b[0;34m,\u001b[0m \u001b[0mmaskedImage\u001b[0m\u001b[0;34m,\u001b[0m \u001b[0mpsf\u001b[0m\u001b[0;34m,\u001b[0m \u001b[0mpsffwhm\u001b[0m\u001b[0;34m,\u001b[0m \u001b[0mfilters\u001b[0m\u001b[0;34m,\u001b[0m \u001b[0mlog\u001b[0m\u001b[0;34m,\u001b[0m \u001b[0mverbose\u001b[0m\u001b[0;34m,\u001b[0m \u001b[0mavgNoise\u001b[0m\u001b[0;34m)\u001b[0m\u001b[0;34m\u001b[0m\u001b[0m\n\u001b[0m\u001b[1;32m    669\u001b[0m \u001b[0;34m\u001b[0m\u001b[0m\n\u001b[1;32m    670\u001b[0m     \u001b[0;32mreturn\u001b[0m \u001b[0mdebResult\u001b[0m\u001b[0;34m\u001b[0m\u001b[0m\n",
      "\u001b[0;32m/renoir_data_00/fouchez/lsst/DM/stacks/lsstsw/2017-05-04/lsstsw/stack/Linux64/meas_deblender/13.0-8-g3fb36f0+2/python/lsst/meas/deblender/baseline.pyc\u001b[0m in \u001b[0;36mnewDeblend\u001b[0;34m(debPlugins, footprint, maskedImage, psf, psffwhm, filters, log, verbose, avgNoise, maxNumberOfPeaks)\u001b[0m\n\u001b[1;32m    738\u001b[0m     \u001b[0mstep\u001b[0m \u001b[0;34m=\u001b[0m \u001b[0;36m0\u001b[0m\u001b[0;34m\u001b[0m\u001b[0m\n\u001b[1;32m    739\u001b[0m     \u001b[0;32mwhile\u001b[0m \u001b[0mstep\u001b[0m \u001b[0;34m<\u001b[0m \u001b[0mlen\u001b[0m\u001b[0;34m(\u001b[0m\u001b[0mdebPlugins\u001b[0m\u001b[0;34m)\u001b[0m\u001b[0;34m:\u001b[0m\u001b[0;34m\u001b[0m\u001b[0m\n\u001b[0;32m--> 740\u001b[0;31m         \u001b[0mreset\u001b[0m \u001b[0;34m=\u001b[0m \u001b[0mdebPlugins\u001b[0m\u001b[0;34m[\u001b[0m\u001b[0mstep\u001b[0m\u001b[0;34m]\u001b[0m\u001b[0;34m.\u001b[0m\u001b[0mrun\u001b[0m\u001b[0;34m(\u001b[0m\u001b[0mdebResult\u001b[0m\u001b[0;34m,\u001b[0m \u001b[0mlog\u001b[0m\u001b[0;34m)\u001b[0m\u001b[0;34m\u001b[0m\u001b[0m\n\u001b[0m\u001b[1;32m    741\u001b[0m         \u001b[0;32mif\u001b[0m \u001b[0mreset\u001b[0m\u001b[0;34m:\u001b[0m\u001b[0;34m\u001b[0m\u001b[0m\n\u001b[1;32m    742\u001b[0m             \u001b[0mstep\u001b[0m \u001b[0;34m=\u001b[0m \u001b[0mdebPlugins\u001b[0m\u001b[0;34m[\u001b[0m\u001b[0mstep\u001b[0m\u001b[0;34m]\u001b[0m\u001b[0;34m.\u001b[0m\u001b[0monReset\u001b[0m\u001b[0;34m\u001b[0m\u001b[0m\n",
      "\u001b[0;32m/renoir_data_00/fouchez/lsst/DM/stacks/lsstsw/2017-05-04/lsstsw/stack/Linux64/meas_deblender/13.0-8-g3fb36f0+2/python/lsst/meas/deblender/plugins.pyc\u001b[0m in \u001b[0;36mrun\u001b[0;34m(self, debResult, log)\u001b[0m\n\u001b[1;32m    104\u001b[0m         \"\"\"\n\u001b[1;32m    105\u001b[0m         \u001b[0mlog\u001b[0m\u001b[0;34m.\u001b[0m\u001b[0mtrace\u001b[0m\u001b[0;34m(\u001b[0m\u001b[0;34m\"Executing %s\"\u001b[0m\u001b[0;34m,\u001b[0m \u001b[0mself\u001b[0m\u001b[0;34m.\u001b[0m\u001b[0mfunc\u001b[0m\u001b[0;34m.\u001b[0m\u001b[0m__name__\u001b[0m\u001b[0;34m)\u001b[0m\u001b[0;34m\u001b[0m\u001b[0m\n\u001b[0;32m--> 106\u001b[0;31m         \u001b[0mreset\u001b[0m \u001b[0;34m=\u001b[0m \u001b[0mself\u001b[0m\u001b[0;34m.\u001b[0m\u001b[0mfunc\u001b[0m\u001b[0;34m(\u001b[0m\u001b[0mdebResult\u001b[0m\u001b[0;34m,\u001b[0m \u001b[0mlog\u001b[0m\u001b[0;34m,\u001b[0m \u001b[0;34m**\u001b[0m\u001b[0mself\u001b[0m\u001b[0;34m.\u001b[0m\u001b[0mkwargs\u001b[0m\u001b[0;34m)\u001b[0m\u001b[0;34m\u001b[0m\u001b[0m\n\u001b[0m\u001b[1;32m    107\u001b[0m         \u001b[0;32mif\u001b[0m \u001b[0mreset\u001b[0m\u001b[0;34m:\u001b[0m\u001b[0;34m\u001b[0m\u001b[0m\n\u001b[1;32m    108\u001b[0m             \u001b[0mself\u001b[0m\u001b[0;34m.\u001b[0m\u001b[0miterations\u001b[0m \u001b[0;34m+=\u001b[0m \u001b[0;36m1\u001b[0m\u001b[0;34m\u001b[0m\u001b[0m\n",
      "\u001b[0;32m/renoir_data_00/fouchez/lsst/DM/stacks/lsstsw/2017-05-04/lsstsw/stack/Linux64/meas_deblender/13.0-8-g3fb36f0+2/python/lsst/meas/deblender/plugins.pyc\u001b[0m in \u001b[0;36mrampFluxAtEdge\u001b[0;34m(debResult, log, patchEdges)\u001b[0m\n\u001b[1;32m    749\u001b[0m                                                                     \u001b[0mdp\u001b[0m\u001b[0;34m.\u001b[0m\u001b[0mmaskedImage\u001b[0m\u001b[0;34m,\u001b[0m \u001b[0mdp\u001b[0m\u001b[0;34m.\u001b[0m\u001b[0mx0\u001b[0m\u001b[0;34m,\u001b[0m \u001b[0mdp\u001b[0m\u001b[0;34m.\u001b[0m\u001b[0mx1\u001b[0m\u001b[0;34m,\u001b[0m\u001b[0;34m\u001b[0m\u001b[0m\n\u001b[1;32m    750\u001b[0m                                                                     \u001b[0mdp\u001b[0m\u001b[0;34m.\u001b[0m\u001b[0my0\u001b[0m\u001b[0;34m,\u001b[0m \u001b[0mdp\u001b[0m\u001b[0;34m.\u001b[0m\u001b[0my1\u001b[0m\u001b[0;34m,\u001b[0m \u001b[0mdp\u001b[0m\u001b[0;34m.\u001b[0m\u001b[0mpsf\u001b[0m\u001b[0;34m,\u001b[0m \u001b[0mpkres\u001b[0m\u001b[0;34m.\u001b[0m\u001b[0mpeak\u001b[0m\u001b[0;34m,\u001b[0m\u001b[0;34m\u001b[0m\u001b[0m\n\u001b[0;32m--> 751\u001b[0;31m                                                                     dp.avgNoise, patchEdges)\n\u001b[0m\u001b[1;32m    752\u001b[0m                 \u001b[0;32mexcept\u001b[0m \u001b[0mlsst\u001b[0m\u001b[0;34m.\u001b[0m\u001b[0mpex\u001b[0m\u001b[0;34m.\u001b[0m\u001b[0mexceptions\u001b[0m\u001b[0;34m.\u001b[0m\u001b[0mException\u001b[0m \u001b[0;32mas\u001b[0m \u001b[0mexc\u001b[0m\u001b[0;34m:\u001b[0m\u001b[0;34m\u001b[0m\u001b[0m\n\u001b[1;32m    753\u001b[0m                     if (isinstance(exc, lsst.pex.exceptions.InvalidParameterError)\n",
      "\u001b[0;32m/renoir_data_00/fouchez/lsst/DM/stacks/lsstsw/2017-05-04/lsstsw/stack/Linux64/meas_deblender/13.0-8-g3fb36f0+2/python/lsst/meas/deblender/plugins.pyc\u001b[0m in \u001b[0;36m_handle_flux_at_edge\u001b[0;34m(log, psffwhm, t1, tfoot, fp, maskedImage, x0, x1, y0, y1, psf, pk, sigma1, patchEdges)\u001b[0m\n\u001b[1;32m    851\u001b[0m     \u001b[0;32mif\u001b[0m \u001b[0;32mnot\u001b[0m \u001b[0mSbox\u001b[0m\u001b[0;34m.\u001b[0m\u001b[0mcontains\u001b[0m\u001b[0;34m(\u001b[0m\u001b[0mpbb\u001b[0m\u001b[0;34m)\u001b[0m\u001b[0;34m:\u001b[0m\u001b[0;34m\u001b[0m\u001b[0m\n\u001b[1;32m    852\u001b[0m         \u001b[0;31m# clip PSF image\u001b[0m\u001b[0;34m\u001b[0m\u001b[0;34m\u001b[0m\u001b[0m\n\u001b[0;32m--> 853\u001b[0;31m         \u001b[0mpsfim\u001b[0m \u001b[0;34m=\u001b[0m \u001b[0mpsfim\u001b[0m\u001b[0;34m.\u001b[0m\u001b[0mFactory\u001b[0m\u001b[0;34m(\u001b[0m\u001b[0mpsfim\u001b[0m\u001b[0;34m,\u001b[0m \u001b[0mSbox\u001b[0m\u001b[0;34m,\u001b[0m \u001b[0mafwImage\u001b[0m\u001b[0;34m.\u001b[0m\u001b[0mPARENT\u001b[0m\u001b[0;34m,\u001b[0m \u001b[0mTrue\u001b[0m\u001b[0;34m)\u001b[0m\u001b[0;34m\u001b[0m\u001b[0m\n\u001b[0m\u001b[1;32m    854\u001b[0m         \u001b[0mpbb\u001b[0m \u001b[0;34m=\u001b[0m \u001b[0mpsfim\u001b[0m\u001b[0;34m.\u001b[0m\u001b[0mgetBBox\u001b[0m\u001b[0;34m(\u001b[0m\u001b[0;34m)\u001b[0m\u001b[0;34m\u001b[0m\u001b[0m\n\u001b[1;32m    855\u001b[0m     \u001b[0mpx0\u001b[0m \u001b[0;34m=\u001b[0m \u001b[0mpbb\u001b[0m\u001b[0;34m.\u001b[0m\u001b[0mgetMinX\u001b[0m\u001b[0;34m(\u001b[0m\u001b[0;34m)\u001b[0m\u001b[0;34m\u001b[0m\u001b[0m\n",
      "\u001b[0;32m/renoir_data_00/fouchez/lsst/DM/stacks/lsstsw/2017-05-04/lsstsw/stack/Linux64/afw/13.0-40-g97c85c2+1/python/lsst/afw/image/slicing.pyc\u001b[0m in \u001b[0;36mFactory\u001b[0;34m(self, *args)\u001b[0m\n\u001b[1;32m     68\u001b[0m         \"\"\"Return an object of this type\n\u001b[1;32m     69\u001b[0m         \"\"\"\n\u001b[0;32m---> 70\u001b[0;31m         \u001b[0;32mreturn\u001b[0m \u001b[0mcls\u001b[0m\u001b[0;34m(\u001b[0m\u001b[0;34m*\u001b[0m\u001b[0margs\u001b[0m\u001b[0;34m)\u001b[0m\u001b[0;34m\u001b[0m\u001b[0m\n\u001b[0m\u001b[1;32m     71\u001b[0m     \u001b[0mcls\u001b[0m\u001b[0;34m.\u001b[0m\u001b[0mFactory\u001b[0m \u001b[0;34m=\u001b[0m \u001b[0mFactory\u001b[0m\u001b[0;34m\u001b[0m\u001b[0m\n\u001b[1;32m     72\u001b[0m \u001b[0;34m\u001b[0m\u001b[0m\n",
      "\u001b[0;31mLengthError\u001b[0m: \n  File \"src/image/Image.cc\", line 80, in static lsst::afw::image::ImageBase<PixelT>::_view_t lsst::afw::image::ImageBase<PixelT>::_makeSubView(const Extent2I&, const Extent2I&, const _view_t&) [with PixelT = double; lsst::afw::image::ImageBase<PixelT>::_view_t = boost::gil::image_view<boost::gil::memory_based_2d_locator<boost::gil::memory_based_step_iterator<boost::gil::pixel<double, boost::gil::layout<boost::mpl::vector1<boost::gil::gray_color_t> > >*> > >; lsst::afw::geom::Extent2I = lsst::afw::geom::Extent<int, 2>]\n    Box2I(Point2I(7,-5),Extent2I(19,19)) doesn't fit in image 33x9 {0}\nlsst::pex::exceptions::LengthError: 'Box2I(Point2I(7,-5),Extent2I(19,19)) doesn't fit in image 33x9'\n"
     ]
    }
   ],
   "source": [
    "dayCoadd = butler.get(\"dayCoadd\", dataId={\"filter\":'r',\"tract\":0, \"patch\":\"5,14\", 'date':'2006-04-23'})\n",
    "refCoadd = butler.get(\"deepCoadd\", dataId={\"filter\":'r',\"tract\":0, \"patch\":\"5,14\"})\n",
    "\n",
    "dayCoadd_sources=detect_sources(dayCoadd)\n",
    "refCoadd_sources=detect_sources(refCoadd)"
   ]
  },
  {
   "cell_type": "code",
   "execution_count": 90,
   "metadata": {},
   "outputs": [],
   "source": [
    "count = 0\n",
    "patches_bool = []\n",
    "for patch in patches: \n",
    "    if butler.datasetExists(\"dayCoadd\", dataId={\"filter\":'r',\"tract\":0, \"patch\":patch, 'date':'2006-04-23'}):\n",
    "        patches_bool.append(True)\n",
    "    else:\n",
    "        patches_bool.append(False)"
   ]
  },
  {
   "cell_type": "code",
   "execution_count": 92,
   "metadata": {},
   "outputs": [],
   "source": [
    "p = np.array(patches)\n",
    "patches_bool = np.array(patches_bool)\n",
    "p = p[patches_bool]"
   ]
  },
  {
   "cell_type": "code",
   "execution_count": 94,
   "metadata": {},
   "outputs": [
    {
     "name": "stdout",
     "output_type": "stream",
     "text": [
      "['17,9' '20,8' '10,20' '24,17' '6,15' '6,10' '22,15' '13,20' '15,10'\n",
      " '11,23' '23,10' '14,23' '15,16' '13,12' '15,13' '7,5' '12,13' '19,8'\n",
      " '7,12' '17,8' '15,15' '15,21' '18,16' '23,7' '8,15' '12,20' '11,16'\n",
      " '15,10' '9,13' '13,21' '18,10' '7,18' '17,7' '22,12' '18,8' '11,20'\n",
      " '19,19' '7,23' '14,17' '24,18' '17,12' '10,16' '20,10' '14,5' '12,5'\n",
      " '9,15' '16,15' '24,7' '8,12' '21,5' '18,23' '19,9' '22,16' '23,21' '14,15'\n",
      " '12,8' '20,21' '6,20' '24,19' '14,6' '20,14' '18,24' '13,5' '6,21' '7,6'\n",
      " '10,10' '22,24' '8,21' '6,19' '15,13' '16,6' '16,15' '19,8' '11,16'\n",
      " '13,24' '11,21' '15,6' '7,19' '10,8' '7,24' '11,22' '19,6' '24,19' '13,7'\n",
      " '23,16' '21,8' '15,10' '10,5' '19,14' '5,17' '21,9' '22,15' '5,18' '15,8'\n",
      " '12,12' '6,7' '13,12' '16,5' '16,10' '16,11']\n"
     ]
    }
   ],
   "source": [
    "p_sub = np.random.choice(p, 100)\n",
    "print p_sub"
   ]
  },
  {
   "cell_type": "code",
   "execution_count": 95,
   "metadata": {},
   "outputs": [],
   "source": [
    "dayCoadd_sources = None\n",
    "refCoadd_sources = None\n",
    "for patch in p_sub: \n",
    "    if butler.datasetExists(\"dayCoadd\", dataId={\"filter\":'r',\"tract\":0, \"patch\":patch, 'date':'2006-04-23'}) and butler.datasetExists(\"deepCoadd\", dataId={\"filter\":'r',\"tract\":0, \"patch\":patch}):\n",
    "            try:\n",
    "                dayCoadd = butler.get(\"dayCoadd\", dataId={\"filter\":'r',\"tract\":0, \"patch\":patch, 'date':'2006-04-23'})\n",
    "                refCoadd = butler.get(\"deepCoadd\", dataId={\"filter\":'r',\"tract\":0, \"patch\":patch})\n",
    "\n",
    "                if dayCoadd_sources is None:\n",
    "                    refCoadd_sources=detect_sources(refCoadd)\n",
    "                    dayCoadd_sources=detect_sources(dayCoadd)\n",
    "\n",
    "                else:\n",
    "                    refCoadd_sources.extend(detect_sources(refCoadd))\n",
    "                    dayCoadd_sources.extend(detect_sources(dayCoadd))\n",
    "            except Exception, e:\n",
    "                print e\n",
    "                pass\n",
    "                \n",
    "           \n",
    "        "
   ]
  },
  {
   "cell_type": "code",
   "execution_count": 96,
   "metadata": {
    "collapsed": true
   },
   "outputs": [],
   "source": [
    "multi_matches = afwTable.MultiMatch(dayCoadd_sources.schema, {'visit':'I'}, radius=afwGeom.Angle(1./3600., afwGeom.degrees))\n",
    "\n",
    "\n",
    "    \n",
    "multi_matches.add(dayCoadd_sources, {'visit':0})\n",
    "multi_matches.add(refCoadd_sources, {'visit':1})\n",
    "    \n",
    "results = multi_matches.finish(removeAmbiguous=False) \n"
   ]
  },
  {
   "cell_type": "code",
   "execution_count": 97,
   "metadata": {
    "collapsed": true
   },
   "outputs": [],
   "source": [
    "lcs = DSTools.get_light_curves_from_multimatch_results2(results)\n",
    "t_lcs = DSTools.threshold_light_curves(lcs, 2)\n",
    "f_lcs = []\n",
    "for lc in t_lcs:\n",
    "        f_lcs.append(build_lightcurve(lc, \"base_CircularApertureFlux_4_5_flux\"))\n",
    "        "
   ]
  },
  {
   "cell_type": "code",
   "execution_count": 98,
   "metadata": {
    "collapsed": true
   },
   "outputs": [],
   "source": [
    "diff_ra = []\n",
    "diff_dec = []\n",
    "\n",
    "for lc in f_lcs:\n",
    "    diff_ra.append(lc[0][\"ra\"]-lc[1][\"ra\"])\n",
    "    diff_dec.append(lc[0][\"dec\"]-lc[1][\"dec\"])\n",
    "diff_ra = np.multiply(diff_ra,3600)\n",
    "diff_dec = np.multiply(diff_dec,3600)"
   ]
  },
  {
   "cell_type": "code",
   "execution_count": 99,
   "metadata": {},
   "outputs": [
    {
     "data": {
      "image/png": "[encoded data removed]",
      "text/plain": [
       "<matplotlib.figure.Figure at 0x7fd357707e10>"
      ]
     },
     "metadata": {},
     "output_type": "display_data"
    }
   ],
   "source": [
    "\n",
    "plt.hist(diff_ra, bins = 100) \n",
    "plt.xlabel(\"RA position difference in arcsec\")\n",
    "plt.ylabel(\"# of sources\")\n",
    "#plt.ticklabel_format(style='sci', axis='x',scilimits=(0,0))\n",
    "plt.show()"
   ]
  },
  {
   "cell_type": "code",
   "execution_count": 100,
   "metadata": {},
   "outputs": [
    {
     "data": {
      "image/png": "[encoded data removed]",
      "text/plain": [
       "<matplotlib.figure.Figure at 0x7fd2cfb462d0>"
      ]
     },
     "metadata": {},
     "output_type": "display_data"
    }
   ],
   "source": [
    "plt.hist(diff_dec, bins = 100)    \n",
    "plt.xlabel(\"DEC position difference in arcsec\")\n",
    "plt.ylabel(\"# of sources\")\n",
    "#plt.ticklabel_format(style='sci', axis='x',scilimits=(0,0))\n",
    "plt.show()"
   ]
  },
  {
   "cell_type": "code",
   "execution_count": 51,
   "metadata": {},
   "outputs": [
    {
     "name": "stdout",
     "output_type": "stream",
     "text": [
      "exists\n"
     ]
    }
   ],
   "source": [
    "patch = patches[205]\n",
    "if butler.datasetExists(\"dayCoadd\", dataId={\"filter\":'r',\"tract\":0, \"patch\":patch, 'date':'2006-04-23'}) and butler.datasetExists(\"deepCoadd\", dataId={\"filter\":'r',\"tract\":0, \"patch\":patch}):\n",
    "        print \"exists\"\n",
    "        dayCoadd = butler.get(\"dayCoadd\", dataId={\"filter\":'r',\"tract\":0, \"patch\":patch, 'date':'2006-04-23'})\n",
    "        dayCoaddArray = dayCoadd.getMaskedImage().getImage().getArray()\n",
    "        refCoadd = butler.get(\"deepCoadd\", dataId={\"filter\":'r',\"tract\":0, \"patch\":patch})\n",
    "        refCoaddArray = refCoadd.getMaskedImage().getImage().getArray()\n",
    "               "
   ]
  },
  {
   "cell_type": "code",
   "execution_count": 89,
   "metadata": {},
   "outputs": [
    {
     "name": "stdout",
     "output_type": "stream",
     "text": [
      "9,20\n"
     ]
    }
   ],
   "source": [
    "patch = patches[205]\n",
    "print patch"
   ]
  },
  {
   "cell_type": "code",
   "execution_count": 52,
   "metadata": {
    "collapsed": true
   },
   "outputs": [],
   "source": [
    "diffArray = dayCoaddArray - refCoaddArray\n",
    "\n",
    "imageF = afwImage.ImageF(diffArray)\n",
    "ds9.mtv(imageF)"
   ]
  },
  {
   "cell_type": "code",
   "execution_count": 41,
   "metadata": {
    "scrolled": true
   },
   "outputs": [
    {
     "data": {
      "image/png": "[encoded data removed]",
      "text/plain": [
       "<matplotlib.figure.Figure at 0x7fd2b3950510>"
      ]
     },
     "metadata": {},
     "output_type": "display_data"
    }
   ],
   "source": []
  },
  {
   "cell_type": "code",
   "execution_count": 61,
   "metadata": {},
   "outputs": [],
   "source": [
    "\n",
    "ds9.mtv(dayCoadd)"
   ]
  },
  {
   "cell_type": "code",
   "execution_count": 86,
   "metadata": {},
   "outputs": [],
   "source": [
    "\n",
    "ds9.mtv(dayCoadd, frame=1)\n",
    "#cImage = preConvolve(dayCoadd)\n",
    "ds9.mtv(refCoadd, frame=2)\n"
   ]
  },
  {
   "cell_type": "code",
   "execution_count": 79,
   "metadata": {},
   "outputs": [],
   "source": [
    "exp = afwImage.ExposureF()\n",
    "exp.setMaskedImage(cImage)\n",
    "exp.setPsf(dayCoadd.getPsf())"
   ]
  },
  {
   "cell_type": "code",
   "execution_count": 80,
   "metadata": {},
   "outputs": [
    {
     "data": {
      "text/plain": [
       "<lsst.afw.table.source.source.SourceCatalog at 0x7fd2b2ca6650>"
      ]
     },
     "execution_count": 80,
     "metadata": {},
     "output_type": "execute_result"
    }
   ],
   "source": [
    "detect_sources(exp)"
   ]
  },
  {
   "cell_type": "code",
   "execution_count": null,
   "metadata": {
    "collapsed": true
   },
   "outputs": [],
   "source": []
  }
 ],
 "metadata": {
  "kernelspec": {
   "display_name": "Python 2",
   "language": "python",
   "name": "python2"
  },
  "language_info": {
   "codemirror_mode": {
    "name": "ipython",
    "version": 2
   },
   "file_extension": ".py",
   "mimetype": "text/x-python",
   "name": "python",
   "nbconvert_exporter": "python",
   "pygments_lexer": "ipython2",
   "version": "2.7.12"
  }
 },
 "nbformat": 4,
 "nbformat_minor": 2
}
