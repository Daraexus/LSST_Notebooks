{
 "cells": [
  {
   "cell_type": "code",
   "execution_count": 33,
   "metadata": {
    "collapsed": true
   },
   "outputs": [],
   "source": [
    "import lsst.daf.persistence as dafPersist\n",
    "import re\n",
    "import lsst.afw.math as afwMath\n",
    "import numpy as np\n",
    "import matplotlib.pyplot as plt\n",
    "%matplotlib inline\n"
   ]
  },
  {
   "cell_type": "code",
   "execution_count": 34,
   "metadata": {
    "collapsed": true
   },
   "outputs": [],
   "source": [
    "def get_mean( calexp):\n",
    "    mi = calexp.getMaskedImage()\n",
    "    bad = ~calexp.getMaskedImage().getMask().getPlaneBitMask(['DETECTED' ])\n",
    "    sctrl = afwMath.StatisticsControl()\n",
    "    sctrl.setAndMask(bad)\n",
    "    stats = afwMath.makeStatistics(mi, afwMath.MEAN, sctrl)\n",
    "    return (stats.getValue(afwMath.MEAN))\n",
    "\n",
    "def get_threshold(dayDiff, factor=1):\n",
    "    mi = dayDiff.getMaskedImage()\n",
    "    bad = dayDiff.getMaskedImage().getMask().getPlaneBitMask(['BAD', 'SAT', 'EDGE', 'NO_DATA', ])\n",
    "    sctrl = afwMath.StatisticsControl()\n",
    "    sctrl.setAndMask(bad)\n",
    "    stats = afwMath.makeStatistics(mi, afwMath.STDEVCLIP, sctrl)\n",
    "    thres = (stats.getValue(afwMath.STDEVCLIP) * factor)\n",
    "    return thres\n",
    "\n",
    "def get_sn(img):\n",
    "    try:\n",
    "        sn= get_mean(img)/get_threshold(img)\n",
    "    except Exception as e:\n",
    "        sn = 0\n",
    "    return sn"
   ]
  },
  {
   "cell_type": "code",
   "execution_count": 35,
   "metadata": {
    "collapsed": true
   },
   "outputs": [],
   "source": [
    "DATADIR=\"/datadec/cppm/jpreyes/CFHT_Production/\"\n",
    "butler = dafPersist.Butler(DATADIR+\"detect_prod\") "
   ]
  },
  {
   "cell_type": "code",
   "execution_count": 36,
   "metadata": {
    "collapsed": true
   },
   "outputs": [],
   "source": [
    "patches = []\n",
    "patches_file=open(DATADIR+\"/patches.txt\", \"rb\")\n",
    "for line in patches_file:\n",
    "    line = line.replace('\\n','')\n",
    "    text = re.split(\"=| \",line)\n",
    "    patches.append(text[-1])\n",
    "patches_file.close()\n",
    "\n"
   ]
  },
  {
   "cell_type": "code",
   "execution_count": null,
   "metadata": {
    "collapsed": true
   },
   "outputs": [],
   "source": []
  },
  {
   "cell_type": "code",
   "execution_count": 37,
   "metadata": {
    "collapsed": true
   },
   "outputs": [],
   "source": [
    "dcoadd_dict = {}\n",
    "for p in patches:\n",
    "    if butler.datasetExists(\"deepCoadd\", dataId={\"filter\":\"z\", \"tract\":0, \"patch\":p}):\n",
    "            \n",
    "            dCoadd = butler.get(\"deepCoadd\", dataId={\"filter\":\"z\", \"tract\":0, \"patch\":p})\n",
    "            dcoadd_dict[p]=dCoadd"
   ]
  },
  {
   "cell_type": "code",
   "execution_count": 38,
   "metadata": {
    "collapsed": true
   },
   "outputs": [],
   "source": [
    "butler_test = dafPersist.Butler(DATADIR+\"daycoadd_tests_complete\") \n",
    "dcoadd_dict_test = {}\n",
    "for p in patches:\n",
    "    if butler_test.datasetExists(\"deepCoadd\", dataId={\"filter\":\"z\", \"tract\":0, \"patch\":p}):\n",
    "            \n",
    "            dCoadd = butler_test.get(\"deepCoadd\", dataId={\"filter\":\"z\", \"tract\":0, \"patch\":p})\n",
    "            dcoadd_dict_test[p]=dCoadd"
   ]
  },
  {
   "cell_type": "code",
   "execution_count": 39,
   "metadata": {},
   "outputs": [
    {
     "data": {
      "text/plain": [
       "(391, 372)"
      ]
     },
     "execution_count": 39,
     "metadata": {},
     "output_type": "execute_result"
    }
   ],
   "source": [
    "len(dcoadd_dict), len(dcoadd_dict_test)"
   ]
  },
  {
   "cell_type": "code",
   "execution_count": 40,
   "metadata": {
    "collapsed": true
   },
   "outputs": [],
   "source": [
    "sn_values = []\n",
    "for p in patches:\n",
    "    if dcoadd_dict.has_key(p):\n",
    "        v1 = get_sn(dcoadd_dict[p])\n",
    "    else:\n",
    "        v1 = -1\n",
    "    if dcoadd_dict_test.has_key(p):   \n",
    "        v2 = get_sn(dcoadd_dict_test[p])\n",
    "    else:\n",
    "        v2 = -1\n",
    "    if v1!=-1 and v2!=-1:\n",
    "        sn_values.append([v1,v2])"
   ]
  },
  {
   "cell_type": "code",
   "execution_count": 41,
   "metadata": {
    "collapsed": true
   },
   "outputs": [],
   "source": [
    "sn_values = np.array(sn_values)"
   ]
  },
  {
   "cell_type": "code",
   "execution_count": 42,
   "metadata": {},
   "outputs": [
    {
     "data": {
      "text/plain": [
       "array([[  8.07662745e-03,   5.38830834e-01],\n",
       "       [  1.56173663e-02,   3.17051938e-01],\n",
       "       [  1.54690300e-01,   9.59428957e-01],\n",
       "       [  1.38850416e-02,   2.53404263e-01],\n",
       "       [  8.68452194e-02,   3.30089744e-01],\n",
       "       [  4.11512093e-02,   2.47320317e-01],\n",
       "       [  4.28069063e-02,   1.58777399e-01],\n",
       "       [  4.17648627e-02,   3.47255007e-01],\n",
       "       [  8.02695017e-03,   2.09928461e-01],\n",
       "       [  5.01700577e-01,   7.86124728e-01],\n",
       "       [  4.11816658e-01,   2.02931512e-02],\n",
       "       [  1.60216528e-02,   3.49044082e-03],\n",
       "       [  2.04463948e-01,   2.63590547e-01],\n",
       "       [  1.57550820e-01,   1.77355244e-01],\n",
       "       [  5.66146448e-01,   5.19016680e-01],\n",
       "       [  4.68766237e-01,   2.10685619e+00],\n",
       "       [  2.04655103e-01,   2.33415987e-01],\n",
       "       [  1.34522943e-01,   1.60114321e-01],\n",
       "       [  3.96093289e-01,   3.52901469e-01],\n",
       "       [  2.28162729e-01,   2.49818699e-01],\n",
       "       [  4.08672152e-01,   2.49012913e-01],\n",
       "       [  2.87481837e-01,   2.75292678e-01],\n",
       "       [  6.48445219e-01,   5.38049734e-01],\n",
       "       [  6.49397203e-01,   5.93375286e-01],\n",
       "       [  5.91643108e-01,   4.14562147e-01],\n",
       "       [  5.66091760e-01,   5.43270032e-01],\n",
       "       [  1.86503023e-01,   2.31142073e-01],\n",
       "       [  2.41509906e-01,   3.33988732e-01],\n",
       "       [  4.36788094e-01,   4.27018423e-01],\n",
       "       [  2.79376779e-01,   2.71774292e-01],\n",
       "       [  4.09328129e-01,   4.41305533e-01],\n",
       "       [  1.67796639e-01,   2.35619079e-01],\n",
       "       [  2.45508709e-01,   2.20384640e-01],\n",
       "       [  5.10684404e-01,   3.32484574e-01],\n",
       "       [  6.82474536e-01,   6.49626302e-01],\n",
       "       [  5.36265644e+11,   3.71614703e-01],\n",
       "       [  5.71198691e-01,   4.68281309e-01],\n",
       "       [  4.63154366e-01,   4.68073444e-01],\n",
       "       [  1.67352163e-01,   2.90681263e-01],\n",
       "       [  2.66469495e-01,   3.09733360e-01],\n",
       "       [  2.92415962e-01,   3.46434608e-01],\n",
       "       [  5.09893512e-01,   5.34978434e-01],\n",
       "       [  4.73217383e-01,   4.19127622e-01],\n",
       "       [  4.90227239e-01,   3.09471905e-01],\n",
       "       [  5.86756490e-01,   4.97027919e-01],\n",
       "       [  1.87355872e-01,   2.07573496e-01],\n",
       "       [  7.12331098e-01,   7.89167863e-01],\n",
       "       [  3.62318717e-01,   3.37856348e-01],\n",
       "       [  5.47859778e-01,   5.98259824e-01],\n",
       "       [  9.06010049e-01,   9.56907525e-01],\n",
       "       [  2.99308773e-01,   5.99102444e-01],\n",
       "       [  2.44411198e-01,   2.21355028e-01],\n",
       "       [  3.29968833e-01,   3.34597936e-01],\n",
       "       [  5.10719755e-01,   4.30839952e-01],\n",
       "       [  3.86470614e-01,   4.62366875e-01],\n",
       "       [  5.42101649e-01,   4.97466932e-01],\n",
       "       [  2.37076961e-01,   3.23998871e-01],\n",
       "       [  2.18643855e-01,   2.57007184e-01],\n",
       "       [  4.03651433e-01,   3.72053314e-01],\n",
       "       [  4.10244690e-01,   3.45433867e-01],\n",
       "       [  6.46484545e-01,   6.43710936e-01],\n",
       "       [  5.39634219e-01,   5.23877411e-01],\n",
       "       [  5.91825929e-01,   2.92343872e-01],\n",
       "       [  5.51208538e-01,   5.64244964e-01],\n",
       "       [  4.24596427e-01,   4.27989183e-01],\n",
       "       [  7.11170246e-01,   6.77637343e-01],\n",
       "       [  3.47144217e-01,   3.59548343e-01],\n",
       "       [  2.90849658e-01,   2.91232090e-01],\n",
       "       [  2.53641010e-01,   9.26150399e-01],\n",
       "       [  4.66464192e-01,   3.56292604e-01],\n",
       "       [  4.20174807e-01,   3.22686370e-01],\n",
       "       [  2.97882325e-01,   3.21101819e-01],\n",
       "       [  2.81416095e-01,   2.59077652e-01],\n",
       "       [  4.35173962e-01,   2.28221607e-01],\n",
       "       [  5.22052438e-01,   4.38767749e-01],\n",
       "       [  5.06196829e-01,   3.36874740e-01],\n",
       "       [  3.66262843e-01,   3.87394621e-01],\n",
       "       [  2.74360956e-01,   2.67367587e-01],\n",
       "       [  5.12019667e-01,   4.05759662e-01],\n",
       "       [  8.27677473e-01,   7.65588830e-01],\n",
       "       [  2.87049476e-01,   3.35197747e-01],\n",
       "       [  1.67810860e-01,   5.19269244e-01],\n",
       "       [  2.75938119e-01,   5.04599228e-01],\n",
       "       [  8.12522833e-01,   8.09288795e-01],\n",
       "       [  6.53537143e-01,   4.19177953e-01],\n",
       "       [  3.39952858e-01,   3.35160783e-01],\n",
       "       [  2.97291460e-01,   3.01242870e-01],\n",
       "       [  2.64262291e-01,   3.85302106e-01],\n",
       "       [  1.96825485e-01,   2.04212091e-01],\n",
       "       [  5.00906419e-01,   7.92386441e-01],\n",
       "       [  1.75836519e-01,   2.12869130e-01],\n",
       "       [  3.98588357e-01,   3.32145947e-01],\n",
       "       [  5.04854101e-01,   4.66825913e-01],\n",
       "       [  9.03970243e-01,   8.49797116e-01],\n",
       "       [  6.86939269e-01,   5.67062009e-01],\n",
       "       [  4.53936550e-01,   4.57520879e-01],\n",
       "       [  4.97069167e-01,   4.44524344e-01],\n",
       "       [  3.41635176e-01,   3.75447165e-01],\n",
       "       [  2.13486777e-01,   2.15840549e-01],\n",
       "       [  7.01886362e-01,   7.67110511e-01],\n",
       "       [  1.28901905e+00,   1.39237972e+00],\n",
       "       [  4.34481203e-01,   4.44345028e-01],\n",
       "       [  6.71719279e-01,   7.10370239e-01],\n",
       "       [  6.84166143e-01,   6.80006835e-01],\n",
       "       [  3.91340284e-01,   4.40063484e-01],\n",
       "       [  2.52388203e-01,   7.43094456e-01],\n",
       "       [  5.22149833e-01,   6.66809622e-01],\n",
       "       [  4.84081735e-01,   5.36478921e-01],\n",
       "       [  3.13845031e-01,   6.27891496e-01],\n",
       "       [  2.82351735e-01,   3.42642025e-01],\n",
       "       [  2.65006826e-01,   2.05117646e-01],\n",
       "       [  3.82495146e-01,   3.83862464e-01],\n",
       "       [  3.74754342e-01,   4.27608493e-01],\n",
       "       [  4.18207394e-01,   3.71669460e-01],\n",
       "       [  1.88682951e-01,   2.12033789e-01],\n",
       "       [  2.20292797e-01,   2.42909309e-01],\n",
       "       [  3.66714933e-01,   3.53812240e-01],\n",
       "       [  1.73783263e-01,   1.96716389e-01],\n",
       "       [  4.41009017e-01,   5.21089968e-01],\n",
       "       [  4.58901652e-01,   5.13718229e-01],\n",
       "       [  4.37781106e-01,   4.23352956e-01],\n",
       "       [  2.32846565e-01,   2.61988848e-01],\n",
       "       [  1.85559067e-01,   2.22675403e-01],\n",
       "       [  4.65571066e-01,   4.97491144e-01],\n",
       "       [  2.79236513e-01,   3.67677906e-01],\n",
       "       [  2.29073993e-01,   2.95832736e-01],\n",
       "       [  3.33373820e-01,   3.12508375e-01],\n",
       "       [  2.64619678e-01,   6.66255244e-01],\n",
       "       [  4.82264821e-01,   5.03150763e-01],\n",
       "       [  2.61987516e-01,   2.54783156e-01],\n",
       "       [  2.21613718e-01,   2.35789828e-01],\n",
       "       [  4.18668559e-01,   4.17103095e-01],\n",
       "       [  1.97794906e-01,   2.32536038e-01],\n",
       "       [  5.88745189e-01,   5.68530066e-01],\n",
       "       [  2.18190163e-01,   2.67337219e-01],\n",
       "       [  2.74151523e-01,   3.01967378e-01],\n",
       "       [  6.10272565e-01,   6.28201052e-01],\n",
       "       [  4.08397755e-01,   6.16864978e-01],\n",
       "       [  2.14919336e-01,   2.30039325e-01],\n",
       "       [  6.63658561e-01,   7.42337225e-01],\n",
       "       [  4.13655798e-01,   3.84493786e-01],\n",
       "       [  1.59656844e-01,   1.79671493e-01],\n",
       "       [  3.55396849e-01,   3.66447219e-01],\n",
       "       [  4.30514864e-01,   6.02718470e-01],\n",
       "       [  6.75212866e-01,   4.72378135e-01],\n",
       "       [  5.51786138e-01,   4.87429700e-01],\n",
       "       [  5.03612459e-01,   2.96096873e-01],\n",
       "       [  3.07190181e-01,   3.40454786e-01],\n",
       "       [  3.33815608e-01,   3.66715130e-01],\n",
       "       [  1.19011146e-01,   1.42990635e-01],\n",
       "       [  1.69434140e-01,   1.91741041e-01],\n",
       "       [  2.17160247e-01,   2.48130049e-01],\n",
       "       [  1.89699919e-01,   3.98986943e-01],\n",
       "       [  5.67617232e-01,   3.94725608e-01],\n",
       "       [  2.88331475e-01,   5.27730088e-01],\n",
       "       [  5.43818932e-01,   5.03090597e-01],\n",
       "       [  3.81515549e-01,   3.38825107e-01],\n",
       "       [  3.23174167e-01,   2.91315235e-01],\n",
       "       [  7.83964574e-01,   7.19070378e-01],\n",
       "       [  3.47394594e-01,   3.60326871e-01],\n",
       "       [  5.96495436e-01,   6.08972140e-01],\n",
       "       [  4.70067694e-01,   2.86745429e-01],\n",
       "       [  5.78450379e-01,   6.53711341e-01],\n",
       "       [  6.04328340e-01,   6.76675377e-01],\n",
       "       [  8.80934090e-02,   1.00428501e-01],\n",
       "       [  2.02383597e-01,   2.29833859e-01],\n",
       "       [  2.76913017e-01,   2.40535599e-01],\n",
       "       [  1.76032254e+00,   2.83202429e+00],\n",
       "       [  3.06675874e+00,   3.53474600e+00],\n",
       "       [  3.32354230e-01,   3.37533482e-01],\n",
       "       [  5.56324778e-01,   5.38569648e-01],\n",
       "       [  5.98271289e-01,   6.70537384e-01],\n",
       "       [  4.35207369e-01,   4.41933193e-01],\n",
       "       [  4.64609360e-01,   4.09480893e-01],\n",
       "       [  3.63424233e-01,   2.59365127e-01],\n",
       "       [  2.83728742e-01,   2.96050984e-01],\n",
       "       [  5.70590236e-01,   4.44606681e-01],\n",
       "       [  2.20785450e-01,   2.72360272e-01],\n",
       "       [  2.36095013e-01,   2.27023215e-01],\n",
       "       [  7.89009551e-01,   7.55989329e-01],\n",
       "       [  3.41537232e-01,   3.32622353e-01],\n",
       "       [  6.96511593e-01,   6.81629170e-01],\n",
       "       [  2.56074627e-01,   2.74631510e-01],\n",
       "       [  1.87315664e-01,   1.66548783e-01],\n",
       "       [  9.38108687e-01,   8.55028775e-01],\n",
       "       [  5.64987779e-01,   3.43673248e-01],\n",
       "       [  9.05543531e-01,   1.62012661e+00],\n",
       "       [  1.77577508e+00,   2.66196263e-01],\n",
       "       [  3.82859133e-01,   3.69686683e-01],\n",
       "       [  5.29751832e-01,   5.39471777e-01],\n",
       "       [  2.35376322e-01,   2.55651714e-01],\n",
       "       [  3.16853291e-01,   3.64862096e-01],\n",
       "       [  3.19427858e-01,   3.07901581e-01],\n",
       "       [  3.17668827e-01,   3.58337165e-01],\n",
       "       [  5.62622162e-01,   5.50364781e-01],\n",
       "       [  4.75170636e-01,   5.17122944e-01],\n",
       "       [  4.19357482e-01,   6.41615446e-01],\n",
       "       [  4.07320871e-01,   4.20165088e-01],\n",
       "       [  6.27484134e-01,   5.42893064e-01],\n",
       "       [  5.82573298e-01,   7.39133586e-01],\n",
       "       [  3.38208360e-01,   3.59495915e-01],\n",
       "       [  1.93992526e-01,   2.25176096e-01],\n",
       "       [  8.09999257e-01,   7.19516440e-01],\n",
       "       [  5.19969316e-01,   5.13365082e-01],\n",
       "       [  4.27505053e-01,   3.86779006e-01],\n",
       "       [  2.91951032e-01,   3.55541191e-01],\n",
       "       [  5.38668865e-01,   5.17332847e-01],\n",
       "       [  4.84878002e-01,   4.17193998e-01],\n",
       "       [  3.71914481e-01,   3.41168134e-01],\n",
       "       [  3.22186481e-01,   2.99091094e-01],\n",
       "       [  1.74956661e-01,   2.30741890e-01],\n",
       "       [  2.17521478e-01,   2.57687867e-01],\n",
       "       [  5.02235994e-01,   4.81740145e-01],\n",
       "       [  7.33073731e-01,   6.29576116e-01],\n",
       "       [  6.13034384e-01,   6.01993374e-01],\n",
       "       [  5.08779943e-01,   5.60938701e-01],\n",
       "       [  2.71855562e-01,   3.22987789e-01],\n",
       "       [  4.14817398e-01,   4.28882891e-01],\n",
       "       [  6.26028255e-01,   6.22616107e-01],\n",
       "       [  3.72225585e-01,   3.93693178e-01],\n",
       "       [  2.84686165e-01,   2.93633722e-01],\n",
       "       [  6.00316279e-01,   5.82838306e-01],\n",
       "       [  2.31379153e-01,   2.64263027e-01],\n",
       "       [  2.78127089e-01,   3.09584180e-01],\n",
       "       [  5.75853465e-01,   5.15899716e-01],\n",
       "       [  5.26415500e-01,   4.95362582e-01],\n",
       "       [  3.03394209e-01,   3.47561881e-01],\n",
       "       [  1.04184432e+00,   4.92806651e-01],\n",
       "       [  8.31372714e-01,   7.60003070e-01],\n",
       "       [  5.69119873e-01,   5.42798558e-01],\n",
       "       [  5.14708104e-01,   4.00459097e-01],\n",
       "       [  5.79319422e-01,   5.30692110e-01],\n",
       "       [  2.66334893e-01,   3.14300308e-01],\n",
       "       [  3.77851543e-01,   4.12580202e-01],\n",
       "       [  6.09820563e-01,   6.96997952e-01],\n",
       "       [  5.67771181e-01,   5.06508177e-01],\n",
       "       [  6.68422677e-01,   6.83767044e-01],\n",
       "       [  5.23586393e-01,   4.82321904e-01],\n",
       "       [  5.27446830e-01,   4.72465457e-01],\n",
       "       [  4.97680400e-01,   4.07904964e-01],\n",
       "       [  4.89471262e-01,   5.70200182e-01],\n",
       "       [  6.69750793e-01,   3.13744057e-01],\n",
       "       [  4.32124858e-01,   3.91633702e-01],\n",
       "       [  4.23582971e-01,   4.79032903e-01],\n",
       "       [  3.10112965e-01,   2.63508681e-01],\n",
       "       [  2.79226660e-01,   2.83671524e-01],\n",
       "       [  4.27861607e-01,   3.95392173e-01],\n",
       "       [  3.52335020e-01,   3.35916969e-01],\n",
       "       [  2.88557433e-01,   2.80857030e-01],\n",
       "       [  2.14418932e-01,   3.04832236e-01],\n",
       "       [  3.97460574e-01,   3.49028166e-01],\n",
       "       [  1.00337534e+00,   8.26487615e-01],\n",
       "       [  5.40834189e-01,   5.69973314e-01],\n",
       "       [  2.57163765e-01,   4.28955015e-01],\n",
       "       [  3.60022487e-01,   4.26128190e-01],\n",
       "       [  6.74768772e-01,   5.51867970e-01],\n",
       "       [  8.50056366e-01,   8.60079989e-01],\n",
       "       [  7.57558364e-01,   7.33199531e-01],\n",
       "       [  5.00435961e-01,   4.80268504e-01],\n",
       "       [  9.62574238e-01,   9.84661596e-01],\n",
       "       [  6.94228307e-01,   6.56870645e-01],\n",
       "       [  5.48468970e-01,   5.59522399e-01],\n",
       "       [  1.79849313e-01,   4.02135003e-01],\n",
       "       [  1.67313183e-01,   1.84027274e-01],\n",
       "       [  1.92541087e-01,   2.31700772e-01],\n",
       "       [  3.47385786e-01,   2.87304913e-01],\n",
       "       [  1.60927273e-01,   1.80589230e-01],\n",
       "       [  4.00485583e-01,   5.53457753e-01],\n",
       "       [  2.16412833e-01,   6.70789407e-01],\n",
       "       [  1.33469737e-01,   2.69471165e-01],\n",
       "       [  3.44512165e-01,   8.26287749e-01],\n",
       "       [  2.60765405e-01,   6.16413576e-01],\n",
       "       [  2.72630827e-01,   2.63330056e-01],\n",
       "       [  2.93515094e-01,   3.34227453e-01],\n",
       "       [  5.28420083e-01,   5.24550124e-01],\n",
       "       [  5.76058051e-01,   5.09975322e-01],\n",
       "       [  4.58821165e-01,   5.05334396e-01],\n",
       "       [  2.42145357e-01,   2.73408470e-01],\n",
       "       [  4.60971262e-01,   4.11283706e-01],\n",
       "       [  8.08882510e-01,   5.22600476e-01],\n",
       "       [  3.38775325e-01,   6.51544127e-01],\n",
       "       [  5.01372865e-01,   2.82583727e-01],\n",
       "       [  2.60158829e-01,   2.20704274e-01],\n",
       "       [  2.99723411e-01,   3.37292824e-01],\n",
       "       [  3.74669696e-01,   3.34976899e-01],\n",
       "       [  3.49040957e-01,   3.47314254e-01],\n",
       "       [  2.76060357e-01,   3.06632050e-01],\n",
       "       [  5.89377931e-01,   6.70406403e-01],\n",
       "       [  2.83159488e-01,   2.95999657e-01],\n",
       "       [  3.73130058e-01,   3.76689069e-01],\n",
       "       [  2.05660447e-01,   5.55790959e-01],\n",
       "       [  1.83009849e-01,   1.91079019e-01],\n",
       "       [  1.76434058e-01,   3.42891795e-01],\n",
       "       [  4.13803467e-01,   5.32304758e-01],\n",
       "       [  3.52769935e-01,   3.39759790e-01],\n",
       "       [  2.89083933e-01,   3.50287090e-01],\n",
       "       [  2.34015355e-01,   3.12498967e-01],\n",
       "       [  3.06698101e-01,   2.94053737e-01],\n",
       "       [  3.24942435e-01,   3.28191755e-01],\n",
       "       [  8.12286499e-01,   5.85954332e-01],\n",
       "       [  2.59307595e-01,   7.85632153e-01],\n",
       "       [  3.47847196e-01,   3.35337180e-01],\n",
       "       [  2.09009530e-01,   2.18269951e-01],\n",
       "       [  6.47363534e-01,   3.64806273e-01],\n",
       "       [  3.99774086e-01,   4.39946400e-01],\n",
       "       [  6.87642331e-01,   4.06762069e-01],\n",
       "       [  5.59700652e-01,   4.58393407e-01],\n",
       "       [  6.85354614e-01,   6.00520556e-01],\n",
       "       [  8.38795938e-01,   8.50106537e-01],\n",
       "       [  2.15578982e-01,   4.76313503e-01],\n",
       "       [  4.63891943e-01,   7.19622512e-01],\n",
       "       [  6.02563425e-01,   6.71829306e-01],\n",
       "       [  2.80519603e-01,   5.26627909e-01],\n",
       "       [  6.16323481e-01,   6.13436696e-01],\n",
       "       [  3.22290425e-01,   3.57138760e-01],\n",
       "       [  3.69038417e-01,   3.91075780e-01],\n",
       "       [  2.91587922e-01,   3.31388793e-01],\n",
       "       [  2.68024370e-01,   2.87225235e-01],\n",
       "       [  3.39082789e-01,   3.87170527e-01],\n",
       "       [  3.53660310e+09,   3.96315313e-01],\n",
       "       [  3.27916582e-01,   3.11567507e-01],\n",
       "       [  2.89270295e-01,   2.89434886e-01],\n",
       "       [  7.56363660e-01,   6.58358252e-01],\n",
       "       [  2.84052791e-01,   2.94205983e-01],\n",
       "       [  1.81573527e-01,   2.98612176e-01],\n",
       "       [  3.60177241e-01,   4.19856650e-01],\n",
       "       [  4.66422307e-01,   4.96915858e-01],\n",
       "       [  9.22475363e-01,   8.86959205e-01],\n",
       "       [  2.75467347e-01,   2.87116200e-01],\n",
       "       [  2.62870978e-01,   2.52941502e-01],\n",
       "       [  1.03136564e-01,   1.27455927e-01],\n",
       "       [  5.22872572e-01,   5.43481122e-01],\n",
       "       [  6.12273193e-01,   6.25426329e-01],\n",
       "       [  5.84510221e-01,   5.31070805e-01],\n",
       "       [  5.13365155e-01,   4.73908787e-01],\n",
       "       [  3.47788401e-01,   3.64942777e-01],\n",
       "       [  4.52653956e-01,   4.60853152e-01],\n",
       "       [  4.52209577e-01,   4.99853039e-01],\n",
       "       [  3.76873111e-01,   3.88702323e-01],\n",
       "       [  3.73630027e-01,   3.61114466e-01],\n",
       "       [  4.75438675e-01,   4.42738595e-01],\n",
       "       [  7.96339547e-01,   6.47698290e-01],\n",
       "       [  2.78223976e-01,   3.04433197e-01],\n",
       "       [  3.50880388e-01,   4.61308079e-01],\n",
       "       [  3.61799333e-01,   4.60341530e-01],\n",
       "       [  3.35644990e-01,   3.36427678e-01],\n",
       "       [  3.47872107e-01,   4.12532363e-01],\n",
       "       [  7.15657597e-01,   6.98874361e-01],\n",
       "       [  2.85207693e-01,   4.23043750e-01],\n",
       "       [  1.27283965e-01,   4.67943542e-01],\n",
       "       [  5.80245186e-01,   4.56639284e-01],\n",
       "       [  6.64802691e-01,   6.13031367e-01],\n",
       "       [  4.78318778e-01,   4.87459250e-01],\n",
       "       [  2.33140955e-01,   2.40606191e-01],\n",
       "       [  1.26493279e-01,   1.79114901e-01],\n",
       "       [  1.94401268e-01,   6.12844435e-02],\n",
       "       [  4.91249339e-01,   1.25028369e-01],\n",
       "       [  2.78115391e-02,   9.29593086e-02],\n",
       "       [  6.19361195e-02,   5.62187867e-02],\n",
       "       [  1.62678993e-01,   1.24946590e-01],\n",
       "       [  4.35276502e-01,   4.59160087e-01],\n",
       "       [  1.82860319e-01,   2.25383798e-01],\n",
       "       [  4.18749488e-01,   3.42289630e-01],\n",
       "       [  1.79459396e-01,   2.33560131e-01],\n",
       "       [  2.28864818e-01,   2.68976015e-01],\n",
       "       [  5.05667080e-01,   5.21966003e-01],\n",
       "       [  1.53178955e-01,   1.04966234e-01],\n",
       "       [ -3.11348975e-02,   1.49953883e-01],\n",
       "       [  4.30031528e-01,   4.47125897e-01],\n",
       "       [  1.38816887e-01,   1.74214163e-01],\n",
       "       [  4.30237128e-01,   1.16752432e-01]])"
      ]
     },
     "execution_count": 42,
     "metadata": {},
     "output_type": "execute_result"
    }
   ],
   "source": [
    "sn_values"
   ]
  },
  {
   "cell_type": "code",
   "execution_count": 43,
   "metadata": {
    "collapsed": true
   },
   "outputs": [],
   "source": [
    "control = sn_values[:,0]\n",
    "test = sn_values[:,1]"
   ]
  },
  {
   "cell_type": "code",
   "execution_count": 44,
   "metadata": {},
   "outputs": [
    {
     "data": {
      "text/plain": [
       "(0.0, 50)"
      ]
     },
     "execution_count": 44,
     "metadata": {},
     "output_type": "execute_result"
    },
    {
     "data": {
      "image/png": "[encoded data removed]",
      "text/plain": [
       "<matplotlib.figure.Figure at 0x7f76a00c14d0>"
      ]
     },
     "metadata": {},
     "output_type": "display_data"
    }
   ],
   "source": [
    "plt.figure(figsize=(20,10))\n",
    "plt.bar(range(len(test)),test, color=\"blue\", alpha=0.5)\n",
    "plt.bar(range(len(control)),control, color=\"red\", alpha=0.5)\n",
    "\n",
    "plt.ylim(ymin=0.0, ymax=5.0)\n",
    "plt.xlim(xmax=50)"
   ]
  },
  {
   "cell_type": "code",
   "execution_count": 45,
   "metadata": {},
   "outputs": [
    {
     "data": {
      "text/plain": [
       "(50, 100)"
      ]
     },
     "execution_count": 45,
     "metadata": {},
     "output_type": "execute_result"
    },
    {
     "data": {
      "image/png": "[encoded data removed]",
      "text/plain": [
       "<matplotlib.figure.Figure at 0x7f76bb899bd0>"
      ]
     },
     "metadata": {},
     "output_type": "display_data"
    }
   ],
   "source": [
    "plt.figure(figsize=(20,10))\n",
    "plt.bar(range(len(test)),test, color=\"blue\", alpha=0.5)\n",
    "plt.bar(range(len(control)),control, color=\"red\", alpha=0.5)\n",
    "\n",
    "plt.ylim(ymin=0.0, ymax=5.0)\n",
    "plt.xlim(xmin=50, xmax=100)"
   ]
  },
  {
   "cell_type": "code",
   "execution_count": 46,
   "metadata": {},
   "outputs": [
    {
     "data": {
      "text/plain": [
       "(150, 200)"
      ]
     },
     "execution_count": 46,
     "metadata": {},
     "output_type": "execute_result"
    },
    {
     "data": {
      "image/png": "[encoded data removed]",
      "text/plain": [
       "<matplotlib.figure.Figure at 0x7f768a0bea90>"
      ]
     },
     "metadata": {},
     "output_type": "display_data"
    }
   ],
   "source": [
    "plt.figure(figsize=(20,10))\n",
    "plt.bar(range(len(test)),test, color=\"blue\", alpha=0.5)\n",
    "plt.bar(range(len(control)),control, color=\"red\", alpha=0.5)\n",
    "\n",
    "plt.ylim(ymin=0.0, ymax=5.0)\n",
    "plt.xlim(xmin=150, xmax=200)"
   ]
  },
  {
   "cell_type": "code",
   "execution_count": 47,
   "metadata": {},
   "outputs": [
    {
     "data": {
      "text/plain": [
       "(200, 250)"
      ]
     },
     "execution_count": 47,
     "metadata": {},
     "output_type": "execute_result"
    },
    {
     "data": {
      "image/png": "[encoded data removed]",
      "text/plain": [
       "<matplotlib.figure.Figure at 0x7f76b4141b10>"
      ]
     },
     "metadata": {},
     "output_type": "display_data"
    }
   ],
   "source": [
    "plt.figure(figsize=(20,10))\n",
    "plt.bar(range(len(test)),test, color=\"blue\", alpha=0.5)\n",
    "plt.bar(range(len(control)),control, color=\"red\", alpha=0.5)\n",
    "\n",
    "plt.ylim(ymin=0.0, ymax=5.0)\n",
    "plt.xlim(xmin=200, xmax=250)"
   ]
  },
  {
   "cell_type": "code",
   "execution_count": 48,
   "metadata": {},
   "outputs": [
    {
     "data": {
      "text/plain": [
       "(250, 300)"
      ]
     },
     "execution_count": 48,
     "metadata": {},
     "output_type": "execute_result"
    },
    {
     "data": {
      "image/png": "[encoded data removed]",
      "text/plain": [
       "<matplotlib.figure.Figure at 0x7f768f0f8090>"
      ]
     },
     "metadata": {},
     "output_type": "display_data"
    }
   ],
   "source": [
    "plt.figure(figsize=(20,10))\n",
    "plt.bar(range(len(test)),test, color=\"blue\", alpha=0.5)\n",
    "plt.bar(range(len(control)),control, color=\"red\", alpha=0.5)\n",
    "\n",
    "plt.ylim(ymin=0.0, ymax=5.0)\n",
    "plt.xlim(xmin=250, xmax=300)"
   ]
  },
  {
   "cell_type": "code",
   "execution_count": null,
   "metadata": {
    "collapsed": true
   },
   "outputs": [],
   "source": []
  }
 ],
 "metadata": {
  "kernelspec": {
   "display_name": "Python 2",
   "language": "python",
   "name": "python2"
  },
  "language_info": {
   "codemirror_mode": {
    "name": "ipython",
    "version": 2
   },
   "file_extension": ".py",
   "mimetype": "text/x-python",
   "name": "python",
   "nbconvert_exporter": "python",
   "pygments_lexer": "ipython2",
   "version": "2.7.12"
  }
 },
 "nbformat": 4,
 "nbformat_minor": 2
}
