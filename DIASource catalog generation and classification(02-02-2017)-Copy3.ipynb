{
 "cells": [
  {
   "cell_type": "code",
   "execution_count": 3,
   "metadata": {
    "collapsed": false
   },
   "outputs": [
    {
     "name": "stderr",
     "output_type": "stream",
     "text": [
      "/renoir_data_00/fouchez/lsst/DM/stacks/lsstsw/2016-04-04/lsstsw/miniconda/lib/python2.7/site-packages/matplotlib/font_manager.py:273: UserWarning: Matplotlib is building the font cache using fc-list. This may take a moment.\n",
      "  warnings.warn('Matplotlib is building the font cache using fc-list. This may take a moment.')\n"
     ]
    }
   ],
   "source": [
    "from lsst.pipe.tasks.sourceClassification import SourceClassificationTask\n",
    "import lsst.afw.table as afwTable\n",
    "import lsst.afw.geom as afwGeom\n",
    "import glob\n",
    "import sncosmo\n",
    "import pickle\n",
    "from astropy.table import Table\n",
    "import re\n",
    "import astropy.coordinates as coord\n",
    "import astropy.units as u\n",
    "import matplotlib.pyplot as plt\n",
    "import numpy as np\n",
    "import lsst.daf.base as dafBase\n",
    "import lsst.daf.persistence as dafPersist\n",
    "\n",
    "import DiaSourceTools as DSTools\n"
   ]
  },
  {
   "cell_type": "code",
   "execution_count": 4,
   "metadata": {
    "collapsed": false
   },
   "outputs": [],
   "source": [
    "\n",
    "DATADIR=\"/renoir_data_02/jpreyes/lsst_data/CFHTLS_master/\"\n",
    "butler = dafPersist.Butler(DATADIR+\"/output\")"
   ]
  },
  {
   "cell_type": "code",
   "execution_count": 5,
   "metadata": {
    "collapsed": false
   },
   "outputs": [],
   "source": [
    "pkl_file = open('mjd_dict.pickle', 'rb')\n",
    "mjds = pickle.load(pkl_file)"
   ]
  },
  {
   "cell_type": "code",
   "execution_count": 6,
   "metadata": {
    "collapsed": true
   },
   "outputs": [],
   "source": [
    "def source_distance(src1, src2):\n",
    "    ra, dec = src1['ra'], src1['dec']\n",
    "    ra2, dec2 = src2['ra'], src2['dec']\n",
    "            \n",
    "    return np.sqrt((float(ra)-float(ra2))**2+(float(dec)-float(dec2))**2)/3.14159*180*3600\n",
    "\n",
    "def threshold_light_curves(light_curves, threshold):\n",
    "    t_light_curves = [lc for lc in light_curves if len(lc) >= threshold]\n",
    "    return t_light_curves\n",
    "\n",
    "def build_light_curve_from_snls_file(data):\n",
    "\n",
    "    bandpasses = ['r']\n",
    "\n",
    "\n",
    "    lightcurve = {}\n",
    "    lightcurve['bandpass'] = []\n",
    "    lightcurve['mjd'] = []\n",
    "    #lightcurve['ra'] = []\n",
    "    #lightcurve['dec'] = []\n",
    "    lightcurve['flux'] = []\n",
    "    lightcurve['flux_error'] = []\n",
    "    lightcurve['zp'] = []\n",
    "    lightcurve['zpsys'] = []\n",
    "\n",
    "\n",
    "    for mjd, flux, error in data:\n",
    "\n",
    "        #print 'yep',visit\n",
    "        lightcurve['bandpass'].append(str('sdss' + bandpasses[0]))\n",
    "        lightcurve['mjd'].append(float(mjd))\n",
    "        #lightcurve['ra'].append(c.ra.radian)\n",
    "        #lightcurve['dec'].append(c.dec.radian)\n",
    "        lightcurve['flux'].append(float(flux))\n",
    "        lightcurve['flux_error'].append(float(error))\n",
    "        #lightcurve['flux'].append(src['base_CircularApertureFlux_12_0_flux'])\n",
    "        #lightcurve['flux_error'].append(src['base_CircularApertureFlux_12_0_fluxSigma'])\n",
    "        lightcurve['zp'].append(25.0)\n",
    "        lightcurve['zpsys'].append('ab')\n",
    "\n",
    "    lc = Table(data=lightcurve)\n",
    "    return lc\n",
    "\n",
    "def build_lightcurve(source_list):\n",
    "    \"\"\"\n",
    "    Assemble a light curve data table from available files.\n",
    "    \"\"\"\n",
    "\n",
    "    bandpasses = ['r']\n",
    "\n",
    "\n",
    "    lightcurve = {}\n",
    "    lightcurve['classification'] = []\n",
    "    lightcurve['bandpass'] = []\n",
    "    lightcurve['mjd'] = []\n",
    "    lightcurve['ra'] = []\n",
    "    lightcurve['dec'] = []\n",
    "    lightcurve['flux'] = []\n",
    "    lightcurve['flux_error'] = []\n",
    "    lightcurve['zp'] = []\n",
    "    lightcurve['zpsys'] = []\n",
    "\n",
    "\n",
    "    for visit, src in source_list:\n",
    "\n",
    "        #print 'yep',visit\n",
    "        lightcurve['classification'].append(src['classification_dipole'])\n",
    "        lightcurve['bandpass'].append(str('sdss' + bandpasses[0]))\n",
    "        \n",
    "        lightcurve['mjd'].append(mjds[str(visit)])\n",
    "        lightcurve['ra'].append(src['coord_ra'])\n",
    "        lightcurve['dec'].append(src['coord_dec'])\n",
    "        lightcurve['flux'].append(src['base_CircularApertureFlux_4_5_flux'])\n",
    "        lightcurve['flux_error'].append(src['base_CircularApertureFlux_4_5_fluxSigma'])\n",
    "        #lightcurve['flux'].append(src['base_CircularApertureFlux_12_0_flux'])\n",
    "        #lightcurve['flux_error'].append(src['base_CircularApertureFlux_12_0_fluxSigma'])\n",
    "        lightcurve['zp'].append(25.0)\n",
    "        lightcurve['zpsys'].append('ab')\n",
    "    lightcurve = Table(data=lightcurve)\n",
    "    return lightcurve\n",
    "\n",
    "def get_source_stamp(src, visit, filter, ccds, offset=0):\n",
    "    \n",
    "    for ccd in ccds:\n",
    "\n",
    "        if butler.datasetExists(\"deepDiff_differenceExp\", {'visit': visit , 'filter':filter , 'ccd':ccd}):\n",
    "\n",
    "            diffExp = butler.get(\"deepDiff_differenceExp\", {'visit': visit , 'filter':filter , 'ccd':ccd})\n",
    "            bbox = diffExp.getBBox()\n",
    "            wcs = diffExp.getWcs()\n",
    "            \n",
    "            c = afwGeom.Point2I(wcs.skyToPixel(src.getRa(), src.getDec()))\n",
    "            \n",
    "            if bbox.contains(c):\n",
    "                psf = diffExp.getPsf()\n",
    "                shape = psf.computeShape()\n",
    "                sigma = shape.getDeterminantRadius()\n",
    "                #print sigma\n",
    "                \n",
    "                return DSTools.get_stamp(src, diffExp, offset=offset), c\n",
    "            \n",
    "    return None, None "
   ]
  },
  {
   "cell_type": "code",
   "execution_count": 11,
   "metadata": {
    "collapsed": true
   },
   "outputs": [],
   "source": [
    "text = \"/renoir_data_02/jpreyes/lsst_data/CFHTLS_master/output/ --output /renoir_data_02/jpreyes/lsst_data/CFHTLS_master/output --id visit=836493..860150 filter=i --config sigma=6.0 --clobber-config -j 15 -t 999999\"\n",
    "params = text.split(\" \")"
   ]
  },
  {
   "cell_type": "code",
   "execution_count": null,
   "metadata": {
    "collapsed": false
   },
   "outputs": [],
   "source": [
    "text = \"/renoir_data_02/jpreyes/lsst_data/CFHTLS_master/output/ --output /renoir_data_02/jpreyes/lsst_data/CFHTLS_master/output --id visit=860145..860150 filter=r ccd=0..35 --config sigma=6.0 --clobber-config -j 30 -t 999999\"\n",
    "params = text.split(\" \")"
   ]
  },
  {
   "cell_type": "code",
   "execution_count": null,
   "metadata": {
    "collapsed": false,
    "scrolled": true
   },
   "outputs": [],
   "source": [
    "res = SourceClassificationTask.parseAndRun(params, doReturnResults=True)"
   ]
  },
  {
   "cell_type": "code",
   "execution_count": 13,
   "metadata": {
    "collapsed": false
   },
   "outputs": [],
   "source": [
    "season_catalogs = []\n",
    "data_refs = []\n",
    "rList = res.resultList\n",
    "\n",
    "visit_catalog = None\n",
    "current = 0\n",
    "\n",
    "for r in rList:\n",
    "    \n",
    "    if r.result!= None:\n",
    "        dataRef =  r.dataRef\n",
    "        catalog = r.result.classification\n",
    "        if visit_catalog == None:\n",
    "            visit_catalog=catalog\n",
    "        else:\n",
    "            visit_catalog.extend(catalog)\n",
    "\n",
    "        if current  !=  dataRef:\n",
    "            season_catalogs.append(visit_catalog)\n",
    "            data_refs.append(dataRef)\n",
    "            visit_catalog = None\n",
    "            current = dataRef\n",
    "    "
   ]
  },
  {
   "cell_type": "code",
   "execution_count": 14,
   "metadata": {
    "collapsed": false
   },
   "outputs": [
    {
     "name": "stdout",
     "output_type": "stream",
     "text": [
      "5482 5482\n"
     ]
    }
   ],
   "source": [
    "print len(season_catalogs), len(data_refs)"
   ]
  },
  {
   "cell_type": "code",
   "execution_count": 15,
   "metadata": {
    "collapsed": false
   },
   "outputs": [
    {
     "name": "stdout",
     "output_type": "stream",
     "text": [
      "5482\n"
     ]
    }
   ],
   "source": [
    "print len(season_catalogs)"
   ]
  },
  {
   "cell_type": "code",
   "execution_count": 16,
   "metadata": {
    "collapsed": false
   },
   "outputs": [
    {
     "name": "stdout",
     "output_type": "stream",
     "text": [
      "1871401\n"
     ]
    }
   ],
   "source": [
    "import string\n",
    "multi_matches = None\n",
    "\n",
    "for s_catalog, data_ref in zip(season_catalogs, data_refs):\n",
    "           \n",
    "        if multi_matches is None and len(catalog)>0:\n",
    "            multi_matches = afwTable.MultiMatch(s_catalog[0].schema, {'visit':int, 'ccd':int }, radius=afwGeom.Angle(1./3600., afwGeom.degrees))\n",
    "        if multi_matches is not None:\n",
    "            multi_matches.add(s_catalog, {'visit':data_ref.dataId[\"visit\"], 'ccd':data_ref.dataId[\"ccd\"] })\n",
    "\n",
    "results = multi_matches.finish(removeAmbiguous=False)  \n",
    "print len(results)"
   ]
  },
  {
   "cell_type": "code",
   "execution_count": 18,
   "metadata": {
    "collapsed": false
   },
   "outputs": [],
   "source": [
    "light_curves = []\n",
    "i = 0\n",
    "current = -1\n",
    "while i < len(results):\n",
    "    result = results[i]\n",
    "    if current == -1 or current != result['object']:\n",
    "        lc = [result]\n",
    "        light_curves.append(lc)\n",
    "        current = result['object']\n",
    "    else:\n",
    "        light_curves[-1].append(result)\n",
    "    i+=1\n",
    "    \n",
    "\n",
    "    "
   ]
  },
  {
   "cell_type": "code",
   "execution_count": null,
   "metadata": {
    "collapsed": false,
    "scrolled": true
   },
   "outputs": [],
   "source": [
    "failed = 0\n",
    "for lc in light_curves:\n",
    "    object_id = lc[0][\"object\"]\n",
    "    \n",
    "    counter = 0\n",
    "    for point in lc:\n",
    "        visit = point[\"visit\"]\n",
    "        tag = point[\"classification_dipole\"]\n",
    "        name= str(object_id)+\"-\"+str(counter)+\"-\"+ str(visit)+\"-\"+str(int(tag))\n",
    "        counter+=1\n",
    "        try:\n",
    "            stamp, center = get_source_stamp(point, visit, 'i', [point[\"ccd\"]])\n",
    "\n",
    "            stamp.writeFits(\"/renoir_data_02/jpreyes/stamp_data/filter_i/\"+name+\".fits\")\n",
    "        except Exception, e: \n",
    "            failed+=1\n",
    "            print e\n",
    "            pass\n",
    "        "
   ]
  },
  {
   "cell_type": "code",
   "execution_count": null,
   "metadata": {
    "collapsed": false
   },
   "outputs": [],
   "source": [
    "b = afwGeom.Box2D()\n",
    "\n"
   ]
  },
  {
   "cell_type": "code",
   "execution_count": null,
   "metadata": {
    "collapsed": false
   },
   "outputs": [],
   "source": [
    "b.getCenterX()"
   ]
  },
  {
   "cell_type": "code",
   "execution_count": null,
   "metadata": {
    "collapsed": true
   },
   "outputs": [],
   "source": []
  }
 ],
 "metadata": {
  "kernelspec": {
   "display_name": "Python 2",
   "language": "python",
   "name": "python2"
  },
  "language_info": {
   "codemirror_mode": {
    "name": "ipython",
    "version": 2
   },
   "file_extension": ".py",
   "mimetype": "text/x-python",
   "name": "python",
   "nbconvert_exporter": "python",
   "pygments_lexer": "ipython2",
   "version": "2.7.12"
  }
 },
 "nbformat": 4,
 "nbformat_minor": 0
}
