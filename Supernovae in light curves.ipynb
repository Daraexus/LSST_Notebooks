{
 "cells": [
  {
   "cell_type": "code",
   "execution_count": 11,
   "metadata": {
    "collapsed": true,
    "deletable": true,
    "editable": true
   },
   "outputs": [],
   "source": [
    "import lsst.daf.base as dafBase\n",
    "import lsst.daf.persistence as dafPersist\n",
    "import lsst.afw.table as afwTable\n",
    "import lsst.afw.geom as afwGeom\n",
    "import Utils.DiaSourceTools as DSTools"
   ]
  },
  {
   "cell_type": "code",
   "execution_count": 12,
   "metadata": {
    "collapsed": true,
    "deletable": true,
    "editable": true
   },
   "outputs": [],
   "source": [
    "DATADIR=\"/renoir_data_02/jpreyes/lsst_data/CFHTLS_master/output\"\n",
    "butler = dafPersist.Butler(DATADIR)"
   ]
  },
  {
   "cell_type": "code",
   "execution_count": 13,
   "metadata": {
    "collapsed": true,
    "deletable": true,
    "editable": true
   },
   "outputs": [],
   "source": [
    "def multi_match_catalogs(catalog_list, data_refs):\n",
    "    multi_matches = None\n",
    "\n",
    "    for catalog, (visit, ccd) in zip(catalog_list, data_refs):\n",
    "\n",
    "            if multi_matches is None and len(catalog)>0:\n",
    "                multi_matches = afwTable.MultiMatch(catalog[0].schema, {'visit':int, 'ccd':int}, radius=afwGeom.Angle(1./3600., afwGeom.degrees))\n",
    "            if multi_matches is not None:\n",
    "                multi_matches.add(catalog, {'visit':int(visit), 'ccd':int(ccd)})\n",
    "\n",
    "    results = multi_matches.finish(removeAmbiguous=False)  \n",
    "    return results"
   ]
  },
  {
   "cell_type": "code",
   "execution_count": 14,
   "metadata": {
    "collapsed": true,
    "deletable": true,
    "editable": true
   },
   "outputs": [],
   "source": [
    "data_refs = butler.queryMetadata(\"deepDiff_class_diaSrc\", format=['visit', 'ccd'], dataId={'filter':'r'})\n",
    "def_data_refs = []\n",
    "catalogs = []\n",
    "for data_ref in data_refs:\n",
    "    if butler.datasetExists(\"deepDiff_class_diaSrc\", dataId={'visit':data_ref[0], 'ccd':data_ref[1], 'filter':'r'}):\n",
    "        catalog = butler.get(\"deepDiff_class_diaSrc\", dataId={'visit':data_ref[0], 'ccd':data_ref[1], 'filter':'r'})\n",
    "        catalogs.append(catalog)\n",
    "        def_data_refs.append(data_ref)\n",
    "        \n"
   ]
  },
  {
   "cell_type": "code",
   "execution_count": null,
   "metadata": {
    "collapsed": false,
    "deletable": true,
    "editable": true
   },
   "outputs": [],
   "source": [
    "results = multi_match_catalogs(catalogs, def_data_refs)"
   ]
  },
  {
   "cell_type": "code",
   "execution_count": null,
   "metadata": {
    "collapsed": false,
    "deletable": true,
    "editable": true
   },
   "outputs": [],
   "source": [
    "len(results)"
   ]
  },
  {
   "cell_type": "code",
   "execution_count": null,
   "metadata": {
    "collapsed": false,
    "deletable": true,
    "editable": true
   },
   "outputs": [],
   "source": [
    "light_curves=DSTools.get_light_curves_from_multimatch_results2(results)\n",
    "print len(light_curves)"
   ]
  },
  {
   "cell_type": "code",
   "execution_count": null,
   "metadata": {
    "collapsed": true
   },
   "outputs": [],
   "source": []
  },
  {
   "cell_type": "code",
   "execution_count": null,
   "metadata": {
    "collapsed": false,
    "deletable": true,
    "editable": true
   },
   "outputs": [],
   "source": [
    "lcs = []\n",
    "for t_light_curve in light_curves:\n",
    "    lcs.append(DSTools.build_lightcurve(t_light_curve, \"base_CircularApertureFlux_3_0_flux\"))"
   ]
  },
  {
   "cell_type": "code",
   "execution_count": null,
   "metadata": {
    "collapsed": true,
    "deletable": true,
    "editable": true
   },
   "outputs": [],
   "source": [
    "\n",
    "import re\n",
    "import astropy.coordinates as coord\n",
    "import astropy.units as u\n",
    "\n",
    "filter='r'\n",
    "\n",
    "f = open('/renoir_data_02/jpreyes/lsst_data/sn_control/J_A+A_523_A7_table9.dat.txt','r')\n",
    "data_elems = f.read()\n",
    "elems = re.findall('^(06D3.*?)\\\\|(.*?)\\\\|', data_elems, re.MULTILINE)\n",
    "\n",
    "f = open('/renoir_data_02/jpreyes/lsst_data/sn_control/J_A+A_523_A7_table10.dat.txt','r')\n",
    "data = f.read()\n",
    "\n",
    "snls_array = []\n",
    "for sn in elems:\n",
    "    c = coord.SkyCoord(sn[-1], unit=(u.hourangle, u.deg))\n",
    "    \n",
    "    m = re.findall('^'+str(sn[0])+'\\\\|('+filter+')\\\\|(.*?)\\\\|(.*?)\\\\|(.*?)$', data, re.MULTILINE)\n",
    "\n",
    "    snls_lc = DSTools.build_light_curve_from_snls_file(m, c)\n",
    "    plt.errorbar(snls_lc['mjd'], snls_lc['flux'], yerr=snls_lc['flux_error'], fmt='.', color='blue')\n",
    "    snls_array.append(snls_lc)\n",
    "    plt.show()"
   ]
  },
  {
   "cell_type": "code",
   "execution_count": null,
   "metadata": {
    "collapsed": true,
    "deletable": true,
    "editable": true
   },
   "outputs": [],
   "source": [
    "matches = DSTools.match_control_group(lcs,snls_array)\n",
    "float(len(matches))/float(len(snls_array))"
   ]
  },
  {
   "cell_type": "code",
   "execution_count": null,
   "metadata": {
    "collapsed": true,
    "deletable": true,
    "editable": true
   },
   "outputs": [],
   "source": []
  }
 ],
 "metadata": {
  "kernelspec": {
   "display_name": "Python 2",
   "language": "python",
   "name": "python2"
  },
  "language_info": {
   "codemirror_mode": {
    "name": "ipython",
    "version": 2
   },
   "file_extension": ".py",
   "mimetype": "text/x-python",
   "name": "python",
   "nbconvert_exporter": "python",
   "pygments_lexer": "ipython2",
   "version": "2.7.12"
  }
 },
 "nbformat": 4,
 "nbformat_minor": 0
}
