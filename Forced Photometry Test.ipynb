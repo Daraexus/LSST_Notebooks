{
 "cells": [
  {
   "cell_type": "code",
   "execution_count": 29,
   "metadata": {
    "collapsed": true
   },
   "outputs": [],
   "source": [
    "import photutils\n",
    "import matplotlib.pyplot as plt\n",
    "import numpy as np\n",
    "import lsst.daf.persistence as dafPersist\n",
    "from photutils import CircularAperture\n",
    "from photutils import aperture_photometry\n",
    "\n",
    "import lsst.afw.geom as afwGeom"
   ]
  },
  {
   "cell_type": "code",
   "execution_count": 4,
   "metadata": {
    "collapsed": true
   },
   "outputs": [],
   "source": [
    "DATADIR=\"/datadec/cppm/jpreyes/CFHT_Tests\"\n",
    "directory = DATADIR+\"/tests/\"\n",
    "butler = dafPersist.Butler(directory) \n",
    "filter = 'r'\n"
   ]
  },
  {
   "cell_type": "code",
   "execution_count": 35,
   "metadata": {
    "collapsed": true
   },
   "outputs": [],
   "source": [
    "diasources = butler.get(\"dayDiff_class_diaSrc\", dataId={\"tract\":0, \"filter\":'r',\"patch\":\"15,15\", \"date\":\"2004-04-22\"})\n",
    "diffexp = butler.get(\"dayDiff_differenceExp\", dataId={\"tract\":0, \"filter\":'r',\"patch\":\"15,15\", \"date\":\"2004-04-22\"})\n",
    "dCoadd = butler.get(\"dayCoadd\", dataId={\"tract\":0, \"filter\":'r',\"patch\":\"15,15\", \"date\":\"2004-04-22\"})"
   ]
  },
  {
   "cell_type": "code",
   "execution_count": 12,
   "metadata": {
    "collapsed": true
   },
   "outputs": [],
   "source": [
    "wcs = diffexp.getWcs()\n"
   ]
  },
  {
   "cell_type": "code",
   "execution_count": 30,
   "metadata": {},
   "outputs": [
    {
     "data": {
      "text/plain": [
       "Extent2D(770.7182754, 1165.619239)"
      ]
     },
     "execution_count": 30,
     "metadata": {},
     "output_type": "execute_result"
    }
   ],
   "source": []
  },
  {
   "cell_type": "code",
   "execution_count": 31,
   "metadata": {},
   "outputs": [
    {
     "name": "stdout",
     "output_type": "stream",
     "text": [
      "nan\n",
      "-2.62590241432\n",
      "-1.88599455357\n",
      "-1.58254051208\n",
      "33.273059845\n",
      "2.2711417675\n",
      "2.7375767231\n",
      "6.68310785294\n",
      "8.30457401276\n",
      "36.0671043396\n",
      "4.78026771545\n",
      "6.83111429214\n",
      "3.78633475304\n",
      "4.73510122299\n",
      "25.9350261688\n",
      "-26.0520858765\n",
      "-2.69717502594\n",
      "1.54629015923\n",
      "3.02695322037\n",
      "-6.48985910416\n",
      "-3.40552830696\n",
      "2.70669126511\n",
      "408.141052246\n",
      "-2.78473639488\n",
      "-2.5998404026\n",
      "-2.7457010746\n",
      "10.4583740234\n",
      "-12.8237905502\n",
      "-2.30220770836\n",
      "2.97179031372\n",
      "-2.39224791527\n",
      "81.5251922607\n",
      "-142.860061646\n",
      "-2.96710395813\n",
      "2.8385412693\n",
      "-2.18610954285\n",
      "4.37394189835\n",
      "2.91797304153\n",
      "4.47545051575\n",
      "3.20535969734\n",
      "3.18190121651\n",
      "8.50703144073\n",
      "2.04346585274\n",
      "19.3291339874\n",
      "-3.1421289444\n",
      "2.49787664413\n",
      "3.96876740456\n",
      "5.41438579559\n",
      "-2.88013505936\n",
      "-3.97568154335\n",
      "3.32049775124\n",
      "12.457403183\n",
      "4.8166513443\n",
      "5.04531383514\n",
      "6.24472808838\n",
      "-3.1180741787\n",
      "3.03334116936\n",
      "2.49354839325\n",
      "-5.18409729004\n",
      "-2.4427523613\n",
      "-8.40562057495\n",
      "-2.86707019806\n",
      "3.34038233757\n",
      "5.92730236053\n",
      "-2.72780990601\n",
      "-1.97747206688\n",
      "4.54074048996\n",
      "23.9928894043\n",
      "4.57263755798\n",
      "5.3817024231\n",
      "6.67773485184\n",
      "4.04091024399\n",
      "5.58873224258\n",
      "3.86904358864\n",
      "-2.18000411987\n",
      "2.82262158394\n",
      "-3.72226119041\n",
      "62.4073791504\n",
      "-2.35722780228\n",
      "101.792243958\n",
      "-1.33612179756\n",
      "-2.5472407341\n",
      "5.17258739471\n",
      "3.59396028519\n",
      "6.8491396904\n",
      "3.31662392616\n",
      "22.4434108734\n",
      "39.1834983826\n",
      "39.833782196\n",
      "4.34360742569\n",
      "-3.44577813148\n",
      "nan\n",
      "2.41142463684\n",
      "nan\n",
      "-0.394489347935\n",
      "10.4613409042\n",
      "-3.17340373993\n",
      "-11.2013254166\n"
     ]
    }
   ],
   "source": [
    "positions = []\n",
    "corner = afwGeom.Point2I(diffexp.getX0(), diffexp.getY0())\n",
    "for dsource in diasources:\n",
    "    coord_pix = wcs.skyToPixel(dsource[\"coord_ra\"], dsource[\"coord_dec\"])\n",
    "    positions.append(coord_pix-corner)\n",
    "    print dsource[\"base_CircularApertureFlux_4_5_flux\"]\n",
    "    "
   ]
  },
  {
   "cell_type": "code",
   "execution_count": 32,
   "metadata": {
    "collapsed": true
   },
   "outputs": [],
   "source": [
    "apertures = CircularAperture(positions, r=4.5)\n"
   ]
  },
  {
   "cell_type": "code",
   "execution_count": 36,
   "metadata": {
    "collapsed": true
   },
   "outputs": [],
   "source": [
    "data = dCoadd.getMaskedImage().getImage().getArray()\n",
    "phot_table = aperture_photometry(data, apertures)"
   ]
  },
  {
   "cell_type": "code",
   "execution_count": 37,
   "metadata": {},
   "outputs": [
    {
     "data": {
      "text/html": [
       "&lt;QTable length=98&gt;\n",
       "<table id=\"table140520424854352\" class=\"table-striped table-bordered table-condensed\">\n",
       "<thead><tr><th>id</th><th>xcenter</th><th>ycenter</th><th>aperture_sum</th></tr></thead>\n",
       "<thead><tr><th></th><th>pix</th><th>pix</th><th></th></tr></thead>\n",
       "<thead><tr><th>int64</th><th>float64</th><th>float64</th><th>float64</th></tr></thead>\n",
       "<tr><td>1</td><td>908.915039062</td><td>21.8330078126</td><td>41.9428242094</td></tr>\n",
       "<tr><td>2</td><td>710.036132813</td><td>31.0771484374</td><td>-1.66612828233</td></tr>\n",
       "<tr><td>3</td><td>132.147460937</td><td>33.1445312498</td><td>-1.63736477952</td></tr>\n",
       "<tr><td>4</td><td>621.181640625</td><td>37.0869140627</td><td>15.1603777647</td></tr>\n",
       "<tr><td>5</td><td>867.928710938</td><td>47.9707031249</td><td>327.367520341</td></tr>\n",
       "<tr><td>6</td><td>917.119140625</td><td>52.8242187501</td><td>10.8542807743</td></tr>\n",
       "<tr><td>7</td><td>389.7109375</td><td>57.9023437501</td><td>11.3118828323</td></tr>\n",
       "<tr><td>8</td><td>933.046875</td><td>59.9726562501</td><td>45.8421066656</td></tr>\n",
       "<tr><td>9</td><td>176.840820312</td><td>69.1064453128</td><td>55.9894122853</td></tr>\n",
       "<tr><td>...</td><td>...</td><td>...</td><td>...</td></tr>\n",
       "<tr><td>89</td><td>732.017578125</td><td>1057.02050781</td><td>218.774688297</td></tr>\n",
       "<tr><td>90</td><td>588.204101563</td><td>1065.99316406</td><td>14.438040564</td></tr>\n",
       "<tr><td>91</td><td>240.151367187</td><td>1096.03027344</td><td>-3.17601681954</td></tr>\n",
       "<tr><td>92</td><td>1176.88769531</td><td>1095.89648438</td><td>17.413381806</td></tr>\n",
       "<tr><td>93</td><td>1093.37304688</td><td>1105.96582031</td><td>25.7455378454</td></tr>\n",
       "<tr><td>94</td><td>1180.77246094</td><td>1114.21386719</td><td>13.5070715106</td></tr>\n",
       "<tr><td>95</td><td>238.485915622</td><td>1126.20049385</td><td>145.733109176</td></tr>\n",
       "<tr><td>96</td><td>1144.00585938</td><td>1135.97070312</td><td>56.9581505437</td></tr>\n",
       "<tr><td>97</td><td>883.109375</td><td>1143.12109375</td><td>-2.4113285904</td></tr>\n",
       "<tr><td>98</td><td>770.718275439</td><td>1165.61923904</td><td>460.318707766</td></tr>\n",
       "</table>"
      ],
      "text/plain": [
       "<QTable length=98>\n",
       "  id     xcenter       ycenter     aperture_sum \n",
       "           pix           pix                    \n",
       "int64    float64       float64       float64    \n",
       "----- ------------- ------------- --------------\n",
       "    1 908.915039062 21.8330078126  41.9428242094\n",
       "    2 710.036132813 31.0771484374 -1.66612828233\n",
       "    3 132.147460937 33.1445312498 -1.63736477952\n",
       "    4 621.181640625 37.0869140627  15.1603777647\n",
       "    5 867.928710938 47.9707031249  327.367520341\n",
       "    6 917.119140625 52.8242187501  10.8542807743\n",
       "    7   389.7109375 57.9023437501  11.3118828323\n",
       "    8    933.046875 59.9726562501  45.8421066656\n",
       "    9 176.840820312 69.1064453128  55.9894122853\n",
       "  ...           ...           ...            ...\n",
       "   89 732.017578125 1057.02050781  218.774688297\n",
       "   90 588.204101563 1065.99316406   14.438040564\n",
       "   91 240.151367187 1096.03027344 -3.17601681954\n",
       "   92 1176.88769531 1095.89648438   17.413381806\n",
       "   93 1093.37304688 1105.96582031  25.7455378454\n",
       "   94 1180.77246094 1114.21386719  13.5070715106\n",
       "   95 238.485915622 1126.20049385  145.733109176\n",
       "   96 1144.00585938 1135.97070312  56.9581505437\n",
       "   97    883.109375 1143.12109375  -2.4113285904\n",
       "   98 770.718275439 1165.61923904  460.318707766"
      ]
     },
     "execution_count": 37,
     "metadata": {},
     "output_type": "execute_result"
    }
   ],
   "source": [
    "phot_table"
   ]
  },
  {
   "cell_type": "code",
   "execution_count": 38,
   "metadata": {},
   "outputs": [
    {
     "data": {
      "text/plain": [
       "CoordSystem.ICRS"
      ]
     },
     "execution_count": 38,
     "metadata": {},
     "output_type": "execute_result"
    }
   ],
   "source": [
    "wcs.getCoordSystem()"
   ]
  },
  {
   "cell_type": "code",
   "execution_count": null,
   "metadata": {
    "collapsed": true
   },
   "outputs": [],
   "source": []
  }
 ],
 "metadata": {
  "kernelspec": {
   "display_name": "Python 2",
   "language": "python",
   "name": "python2"
  },
  "language_info": {
   "codemirror_mode": {
    "name": "ipython",
    "version": 2
   },
   "file_extension": ".py",
   "mimetype": "text/x-python",
   "name": "python",
   "nbconvert_exporter": "python",
   "pygments_lexer": "ipython2",
   "version": "2.7.12"
  }
 },
 "nbformat": 4,
 "nbformat_minor": 2
}
