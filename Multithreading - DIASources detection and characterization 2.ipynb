{
 "cells": [
  {
   "cell_type": "markdown",
   "metadata": {},
   "source": [
    "# DIASources detection and characterization"
   ]
  },
  {
   "cell_type": "markdown",
   "metadata": {},
   "source": [
    "## PART 1:  DIASource detection and measurement in ONE CCD."
   ]
  },
  {
   "cell_type": "markdown",
   "metadata": {},
   "source": [
    "Obligatory imports"
   ]
  },
  {
   "cell_type": "code",
   "execution_count": 1,
   "metadata": {
    "collapsed": false
   },
   "outputs": [
    {
     "name": "stderr",
     "output_type": "stream",
     "text": [
      "/renoir_data_00/fouchez/lsst/DM/stacks/lsstsw/2016-04-04/lsstsw/miniconda/lib/python2.7/site-packages/matplotlib/font_manager.py:273: UserWarning: Matplotlib is building the font cache using fc-list. This may take a moment.\n",
      "  warnings.warn('Matplotlib is building the font cache using fc-list. This may take a moment.')\n"
     ]
    }
   ],
   "source": [
    "import pickle\n",
    "import sncosmo\n",
    "import numpy as np\n",
    "import lsst.daf.base as dafBase\n",
    "import lsst.daf.persistence as dafPersist\n",
    "\n",
    "import re\n",
    "\n",
    "import lsst.afw.display.ds9 as ds9\n",
    "\n",
    "import matplotlib.pyplot as plt\n",
    "\n",
    "from lsst.ip.diffim import ImagePsfMatchTask, DipoleMeasurementTask\n",
    "from lsst.meas.base import SingleFrameMeasurementConfig\n",
    "import lsst.afw.table as afwTable\n",
    "\n",
    "import lsst.daf.base as dafBase\n",
    "import DiaSourceTools as DSTools\n",
    "\n",
    "import lsst.meas.algorithms.detection as sDet\n",
    "import lsst.afw.image as afwImage\n",
    "\n",
    "from lsst.meas.algorithms.detection import SourceDetectionTask\n",
    "\n",
    "import skimage\n",
    "from skimage import measure\n",
    "from skimage import data\n",
    "from skimage import filters\n",
    "from scipy import ndimage\n",
    "from skimage.measure import regionprops\n",
    "from skimage.measure import moments\n",
    "from skimage.measure import moments_central\n",
    "\n",
    "\n",
    "import lsst.afw.geom as afwGeom\n",
    "import random\n",
    "%matplotlib inline"
   ]
  },
  {
   "cell_type": "code",
   "execution_count": 2,
   "metadata": {
    "collapsed": false
   },
   "outputs": [],
   "source": [
    "from matplotlib.colors import LinearSegmentedColormap\n",
    "colors = [(0,0,0),(0.5,0,0), (1,0,0), (0,0,1), (1,0,1)]\n",
    "cm = LinearSegmentedColormap.from_list('dipoles', colors, N=5)\n",
    "\n",
    "colors = [(1,1,1),(0.5,0,0), (1,0,0), (0,0,1), (1,0,1)]\n",
    "cm2 = LinearSegmentedColormap.from_list('dipoles', colors, N=5)\n",
    "\n",
    "def SubtractBackground(exp):\n",
    "  \n",
    "    bgConf = sDet.BackgroundConfig()\n",
    "    background,Exp0 = sDet.estimateBackground(exp,bgConf,True)\n",
    "\n",
    "    return background, Exp0\n",
    "\n",
    "def merge_sources(results):\n",
    "    table = afwTable.SourceTable.make(schema)\n",
    "    table.setMetadata(algMetadata)\n",
    "    fpSet = results.fpSets.positive\n",
    "    fpSet.merge(results.fpSets.negative, 1, 1, False)\n",
    "    diaSources = afwTable.SourceCatalog(table)\n",
    "    fpSet.makeSources(diaSources)\n",
    "    return diaSources\n",
    "\n",
    "def remove_nan_sources(diaSources):\n",
    "    c_diaSources = diaSources.copy()\n",
    "    c_diaSources.clear()\n",
    "    for diaSrc in diaSources:\n",
    "        val = diaSrc.get(\"coord_ra\").asArcseconds()\n",
    "        if np.isnan(val) == False:\n",
    "            c_diaSources.append(diaSrc)\n",
    "        \n",
    "    return c_diaSources\n",
    "\n",
    "def get_source_stamp(src, visit, filter, ccds, offset=0):\n",
    "    \n",
    "    for ccd in ccds:\n",
    "\n",
    "        if butler.datasetExists(\"deepDiff_differenceExp\", {'visit': visit , 'filter':filter , 'ccd':ccd}):\n",
    "\n",
    "            diffExp = butler.get(\"deepDiff_differenceExp\", {'visit': visit , 'filter':filter , 'ccd':ccd})\n",
    "            bbox = diffExp.getBBox()\n",
    "            wcs = diffExp.getWcs()\n",
    "            \n",
    "            c = afwGeom.Point2I(wcs.skyToPixel(src.getRa(), src.getDec()))\n",
    "            \n",
    "            if bbox.contains(c):\n",
    "                psf = diffExp.getPsf()\n",
    "                shape = psf.computeShape()\n",
    "                sigma = shape.getDeterminantRadius()\n",
    "                #print sigma\n",
    "                \n",
    "                return DSTools.get_stamp(src, diffExp, offset=offset), c\n",
    "            \n",
    "    return None, None  \n",
    "\n",
    "def get_dipole_lobes_metrics(stamp):\n",
    "    \n",
    "    w,h = stamp.getWidth(), stamp.getHeight()\n",
    "    pos_fp = stamp.getMaskedImage().getMask().getPlaneBitMask(\"DETECTED\")\n",
    "    neg_fp = stamp.getMaskedImage().getMask().getPlaneBitMask(\"DETECTED_NEGATIVE\")\n",
    "\n",
    "    img_arr, mask_arr, var_arr = stamp.getMaskedImage().getArrays()\n",
    "    \n",
    "    values = (mask_arr & pos_fp == pos_fp)\n",
    "    values2 = values & (img_arr > 0)\n",
    "    pos_pixels = len(img_arr[values])\n",
    "    pos_flux=  np.sum(abs(img_arr[values2]))\n",
    "\n",
    "    values = (mask_arr & neg_fp == neg_fp)\n",
    "    values2 = values & (img_arr < 0)\n",
    "    neg_flux= np.sum(abs(img_arr[values2]))\n",
    "    neg_pixels = len(img_arr[values])\n",
    "\n",
    "    values = mask_arr & (neg_fp|pos_fp) == (neg_fp|pos_fp)\n",
    "    inter_flux = np.sum(abs(img_arr[values]))\n",
    "    inter_pixels = len(img_arr[values])\n",
    "\n",
    "    values = mask_arr & (neg_fp|pos_fp) != 0\n",
    "    total_flux = np.sum(abs(img_arr[values]))\n",
    "    mask_pixels = len(img_arr[values])\n",
    "    \n",
    "    fluxes = [inter_flux/total_flux, pos_flux/total_flux, neg_flux/total_flux]\n",
    "    geom = [float(inter_pixels)/mask_pixels, float(pos_pixels)/mask_pixels, float(neg_pixels)/mask_pixels]\n",
    "    \n",
    "\n",
    "    return fluxes, geom\n",
    "    \n",
    "\n",
    "def show_stamps(stamp, title='Stamp'):\n",
    "\n",
    "    img_arr, mask_arr, var_arr = stamp.getMaskedImage().getArrays()\n",
    "    w,h = stamp.getWidth(), stamp.getHeight()\n",
    "    plt.figure(figsize=(16,5))\n",
    "    \n",
    "    plt.suptitle(title)\n",
    "    \n",
    "    plt.subplot(1,3,1)\n",
    "    plt.imshow(img_arr, origin='lower', vmin=img_arr.min(), vmax=img_arr.max(), cmap='gray', extent=(0,w-1, 0, h-1), interpolation='none')\n",
    "\n",
    "\n",
    "    plt.subplot(1,3,2)\n",
    "    plt.imshow(mask_arr, origin='lower',  vmin=0, vmax=mask_arr.max(), cmap=cm, extent=(0,w-1, 0, h-1), interpolation='none')\n",
    "\n",
    "\n",
    "    plt.subplot(1,3,3)\n",
    "    layer_mask = mask_arr.copy()\n",
    "    layer_mask = np.ma.masked_where(layer_mask==0, layer_mask)\n",
    "    plt.imshow(img_arr, origin='lower', vmin=img_arr.min(), vmax=img_arr.max(), cmap='gray', extent=(0,w-1, 0, h-1), interpolation='none')\n",
    "    plt.imshow(layer_mask, origin='lower', alpha=0.3, vmin=0, vmax=mask_arr.max(), cmap=cm, extent=(0,w-1, 0, h-1), interpolation='none')\n",
    "    \n",
    "def visualize_dipoles_and_planes(stamp, source):\n",
    "    \n",
    "    plCak = source.getFootprint().getPeaks()\n",
    "    \n",
    "    w,h = stamp.getWidth(), stamp.getHeight()\n",
    "    img_arr, mask_arr, var_arr = stamp.getMaskedImage().getArrays()\n",
    "\n",
    "    plt.figure(figsize=(16,5))\n",
    "\n",
    "    plt.subplot(1,2,1)\n",
    "    plt.imshow(img_arr, origin='lower', vmin=img_arr.min(), vmax=img_arr.max(), cmap='gray', extent=(0,w-1, 0, h-1), interpolation='none')\n",
    "\n",
    "    for pk in pkCat:\n",
    "        if pk.getPeakValue() < 0:\n",
    "            plt.plot(pk.getIx()-stamp.getX0(), pk.getIy()-stamp.getY0(), 'bo')\n",
    "        else:\n",
    "            plt.plot(pk.getIx()-stamp.getX0(), pk.getIy()-stamp.getY0(), 'ro')\n",
    "\n",
    "    plt.subplot(1,2,2)\n",
    "    im = plt.imshow(mask_arr, origin='lower', vmin=0, vmax=100, cmap=cm, extent=(0,w-1, 0, h-1), interpolation='none')\n",
    "    \n",
    "def photo_dipole(photo_prop):\n",
    "    return photo_prop[1] < 0.66 and photo_prop[2] < 0.66\n",
    "\n",
    "def geom_dipole(geom_prop):\n",
    "    return geom_prop[0]<0.33\n"
   ]
  },
  {
   "cell_type": "markdown",
   "metadata": {},
   "source": [
    "This part is <b>very important</b>. Detection and measurement tasks are going to use the same schema, which is gonna be modified to contain all measurement fields upon the task instantiation. Not doing the task instantiation before running the measurement is going to cause errors. You've been warned"
   ]
  },
  {
   "cell_type": "code",
   "execution_count": 3,
   "metadata": {
    "collapsed": false
   },
   "outputs": [],
   "source": [
    "algMetadata = dafBase.PropertyList()\n",
    "schema = afwTable.SourceTable.makeMinimalSchema()\n",
    "\n",
    "dipoleMeasurement = DipoleMeasurementTask\n",
    "\n",
    "config = dipoleMeasurement.ConfigClass()\n",
    "dipoleMeasurement = dipoleMeasurement(schema, algMetadata=algMetadata)"
   ]
  },
  {
   "cell_type": "markdown",
   "metadata": {},
   "source": [
    "In-disk path to dataset"
   ]
  },
  {
   "cell_type": "code",
   "execution_count": 4,
   "metadata": {
    "collapsed": true
   },
   "outputs": [],
   "source": [
    "DATADIR=\"/renoir_data_02/jpreyes/lsst_data/CFHTLS_master/\"\n",
    "butler = dafPersist.Butler(DATADIR+\"/output\")\n"
   ]
  },
  {
   "cell_type": "markdown",
   "metadata": {},
   "source": [
    "Background subtraction function"
   ]
  },
  {
   "cell_type": "markdown",
   "metadata": {
    "collapsed": false
   },
   "source": [
    "These lines allow to calculate the psf for the image. However, if the background is transformed into an array and the standard deviation is calculated, the sigma value is going to be different."
   ]
  },
  {
   "cell_type": "markdown",
   "metadata": {},
   "source": [
    "## Part 2:  DIASource detection and measurement in the field."
   ]
  },
  {
   "cell_type": "markdown",
   "metadata": {},
   "source": [
    "Set of useful methods to automatize the whole process."
   ]
  },
  {
   "cell_type": "markdown",
   "metadata": {},
   "source": [
    "The visit is a hard-coded value. This loop runs over all ccds for the given visit, detect the DIASources on the difference image, remove the DIASources with NaN coordinates and perform the measurement.\n",
    "\n",
    "A list of catalogs is generated by varying the $\\sigma$ multiple for the detection."
   ]
  },
  {
   "cell_type": "code",
   "execution_count": 5,
   "metadata": {
    "collapsed": false
   },
   "outputs": [],
   "source": [
    "def detect_point_source(stamp, center, alpha=1):\n",
    "    \n",
    "    img_arr, mask_arr, var_arr = stamp.getMaskedImage().getArrays()\n",
    "    \n",
    "    mean = np.mean(img_arr)\n",
    "    std = np.std(img_arr)\n",
    "    T_p = mean + alpha*std\n",
    "    T_n = mean - alpha*std\n",
    "\n",
    "    #thresholding_n = img_arr > T_n\n",
    "    thresholding_n = img_arr < T_p\n",
    "    thresholding_p = img_arr < T_p\n",
    "    thresholding = thresholding_p & thresholding_n\n",
    "    \n",
    "    w, h = stamp.getWidth(), stamp.getHeight()\n",
    "    \n",
    "    t_img_arr = img_arr.copy()\n",
    "    t_img_arr[thresholding] = 0\n",
    "\n",
    "    t_img_arr = t_img_arr.astype(float)\n",
    "\n",
    "    m_c = moments_central(t_img_arr, center.getX()-stamp.getX0(), center.getY()-stamp.getY0(), order=2)\n",
    "    \n",
    "\n",
    "    cov = [[m_c[2,0]/m_c[0,0], m_c[1,1]/m_c[0,0]], [m_c[1,1]/m_c[0,0], m_c[0,2]/m_c[0,0]]]\n",
    "    #print(np.matrix(cov))\n",
    "    vals, vectors = np.linalg.eig(cov)\n",
    "    \n",
    "    return ( 2*np.sqrt(vals[0]), 2*np.sqrt(vals[1])), t_img_arr "
   ]
  },
  {
   "cell_type": "code",
   "execution_count": 6,
   "metadata": {
    "collapsed": false
   },
   "outputs": [],
   "source": [
    "\n",
    "def classify_point_source(stamp, center):\n",
    "        try:\n",
    "            axes, im = detect_point_source(stamp, center)\n",
    "\n",
    "            h_m, w_m = stamp.getWidth()/2, stamp.getHeight()/2\n",
    "\n",
    "            if np.isnan(axes[0])==True or np.isnan(axes[1])==True or axes[0] > h_m or axes[1] > w_m:\n",
    "\n",
    "\n",
    "                return \"Point positive\"\n",
    "            else:\n",
    "                return \"Positive\"\n",
    "\n",
    "        except np.linalg.linalg.LinAlgError as e:\n",
    "                return \"Point positive\""
   ]
  },
  {
   "cell_type": "code",
   "execution_count": 45,
   "metadata": {
    "collapsed": false
   },
   "outputs": [],
   "source": [
    "def classify_sources(visit, filter, sigma, ccd, butler, dipoleMeasurement):\n",
    "    \n",
    "        source_catalog = None\n",
    "        \n",
    "\n",
    "        if butler.datasetExists(\"deepDiff_differenceExp\", {'visit': visit , 'filter':filter , 'ccd':ccd}):\n",
    "\n",
    "                diffExp = butler.get(\"deepDiff_differenceExp\", {'visit': visit , 'filter':filter , 'ccd':ccd})\n",
    "                try:\n",
    "                            results = DSTools.detect_diasources(diffExp, doSmooth=False, threshold=sigma)\n",
    "                            diaSources = merge_sources(results)\n",
    "                            dipoleMeasurement.run(diaSources, diffExp)\n",
    "                            source_catalog = remove_nan_sources(diaSources)                \n",
    "                            \n",
    "                except Exception, e:\n",
    "                            print \"exception\"\n",
    "                            print e\n",
    "                        \n",
    "    \n",
    "        classification = []\n",
    "        if source_catalog is None:\n",
    "            return  dipoleMeasurement\n",
    "        \n",
    "        for source in source_catalog:\n",
    "            \n",
    "            bbox = diffExp.getBBox()\n",
    "            wcs = diffExp.getWcs()\n",
    "            \n",
    "            center = afwGeom.Point2I(wcs.skyToPixel(source.getRa(), source.getDec()))\n",
    "            \n",
    "                  \n",
    "            stamp = DSTools.get_stamp(source, diffExp, offset=10)\n",
    "            \n",
    "        \n",
    "            if stamp is not None:\n",
    "                stamp_clone = stamp.clone()\n",
    "                results = DSTools.detect_diasources(stamp_clone, doSmooth=False,threshold=sigma)\n",
    "\n",
    "\n",
    "                if len(results.fpSets.positive.getFootprints()) == 0 and len(results.fpSets.negative.getFootprints()) > 0:\n",
    "                    \n",
    "                    classification.append(('Negative', source, visit))\n",
    "                elif len(results.fpSets.positive.getFootprints()) > 0 and len(results.fpSets.negative.getFootprints()) == 0:\n",
    "                    classification.append((classify_point_source(stamp_clone, center), source, visit))\n",
    "                else:\n",
    "                    try:\n",
    "                        label = 'Dipole'\n",
    "                        stamp_clone = stamp.clone()\n",
    "                        results = DSTools.detect_diasources(stamp_clone, doSmooth=False,threshold=6)\n",
    "                        photo, geom = get_dipole_lobes_metrics(stamp_clone)\n",
    "\n",
    "                        p_dipole, g_dipole = photo_dipole(photo), geom_dipole(geom)\n",
    "\n",
    "                        if p_dipole and g_dipole:\n",
    "                            label = \"Dipole type I\"\n",
    "                        elif p_dipole and not g_dipole:\n",
    "                            label = \"Dipole type II\"\n",
    "                        elif not p_dipole and g_dipole:\n",
    "                            label = \"Fringe\"\n",
    "                        else:\n",
    "                            label = \"Artifact\"\n",
    "                        classification.append((label, source, visit))\n",
    "                        \n",
    "                    except Exception, e:\n",
    "\n",
    "                            print e\n",
    "                            label = \"Artifact\"\n",
    "                            classification.append((label, source, visit))\n",
    "                            \n",
    "        \n",
    "        return classification"
   ]
  },
  {
   "cell_type": "code",
   "execution_count": null,
   "metadata": {
    "collapsed": true
   },
   "outputs": [],
   "source": []
  },
  {
   "cell_type": "code",
   "execution_count": 18,
   "metadata": {
    "collapsed": false
   },
   "outputs": [
    {
     "name": "stderr",
     "output_type": "stream",
     "text": [
      "/renoir_data_00/fouchez/lsst/DM/stacks/lsstsw/2016-04-04/lsstsw/miniconda/lib/python2.7/site-packages/ipykernel/__main__.py:65: RuntimeWarning: invalid value encountered in greater\n",
      "/renoir_data_00/fouchez/lsst/DM/stacks/lsstsw/2016-04-04/lsstsw/miniconda/lib/python2.7/site-packages/ipykernel/__main__.py:70: RuntimeWarning: invalid value encountered in less\n"
     ]
    },
    {
     "name": "stdout",
     "output_type": "stream",
     "text": [
      "Total time: 4.82793307304\n"
     ]
    }
   ],
   "source": [
    "import time\n",
    "\n",
    "start = time.time()\n",
    "classification  = classify_sources(849687, 'r', 6, 14, butler)\n",
    "end = time.time()\n",
    "print \"Total time: \" + str(end-start)"
   ]
  },
  {
   "cell_type": "code",
   "execution_count": 17,
   "metadata": {
    "collapsed": false
   },
   "outputs": [
    {
     "name": "stdout",
     "output_type": "stream",
     "text": [
      "OrderedDict([('Dipole type I', 40), ('Fringe', 34), ('Dipole type II', 30), ('Point positive', 13), ('Positive', 10), ('Artifact', 5)])\n"
     ]
    },
    {
     "data": {
      "image/png": "[encoded data removed]",
      "text/plain": [
       "<matplotlib.figure.Figure at 0x7f14a6540410>"
      ]
     },
     "metadata": {},
     "output_type": "display_data"
    }
   ],
   "source": [
    "import collections\n",
    "from operator import itemgetter\n",
    "\n",
    "objects = {}\n",
    "\n",
    "#classification = res[0]\n",
    "for label, src, visit in classification:\n",
    "    if label in objects:\n",
    "        objects[label] += 1\n",
    "    else:\n",
    "        objects[label] = 1\n",
    "\n",
    "o_objects = collections.OrderedDict(sorted(objects.items(), key=itemgetter(1), reverse=True))\n",
    "print o_objects\n",
    "X = np.arange(len(o_objects))\n",
    "\n",
    "p = plt.bar(X, o_objects.values(), align='center')\n",
    "plt.xticks(X, o_objects.keys(), rotation=30)\n",
    "\n",
    "plt.xlabel(\"Label\")\n",
    "plt.ylabel(\"Number of objects\")\n",
    "for i, rect in enumerate(p):\n",
    "    plt.text(rect.get_x()+ rect.get_width()/3, rect.get_height()+10, int(rect.get_height()))\n",
    "\n",
    "plt.show()"
   ]
  },
  {
   "cell_type": "code",
   "execution_count": 51,
   "metadata": {
    "collapsed": false
   },
   "outputs": [
    {
     "name": "stdout",
     "output_type": "stream",
     "text": [
      "Positive\n"
     ]
    },
    {
     "data": {
      "image/png": "[encoded data removed]",
      "text/plain": [
       "<matplotlib.figure.Figure at 0x7fd40003cdd0>"
      ]
     },
     "metadata": {},
     "output_type": "display_data"
    }
   ],
   "source": [
    "visit = 849687\n",
    "ccds = range(0,36)\n",
    "count = 0\n",
    "while count < 1:\n",
    "    label, source = random.choice(classification)\n",
    "    while label != \"Positive\":\n",
    "        label, source = random.choice(classification)\n",
    "    print label\n",
    "        \n",
    "    stamp, center = get_source_stamp(source, visit, 'r',ccds, offset=10)\n",
    "    stamp_clone = stamp.clone()\n",
    "    results = DSTools.detect_diasources(stamp_clone, doSmooth=False,threshold=6)\n",
    "    show_stamps(stamp_clone, title=label)\n",
    "    count +=1"
   ]
  },
  {
   "cell_type": "code",
   "execution_count": 53,
   "metadata": {
    "collapsed": false
   },
   "outputs": [
    {
     "name": "stdout",
     "output_type": "stream",
     "text": [
      "(5.0003255836204552, 2.4901150204215825)\n"
     ]
    },
    {
     "data": {
      "image/png": "[encoded data removed]",
      "text/plain": [
       "<matplotlib.figure.Figure at 0x7fd3bd078e90>"
      ]
     },
     "metadata": {},
     "output_type": "display_data"
    }
   ],
   "source": [
    "img_arr, mask_arr, var_arr = stamp_clone.getMaskedImage().getArrays()\n",
    "\n",
    "mean = np.mean(img_arr)\n",
    "std = np.std(img_arr)\n",
    "T_p = mean + 1*std\n",
    "T_n = mean - 1*std\n",
    "\n",
    "thresholding_n = img_arr > T_n\n",
    "thresholding_n = img_arr < T_p\n",
    "thresholding_p = img_arr < T_p\n",
    "thresholding = thresholding_p & thresholding_n\n",
    "w, h = stamp_clone.getWidth(), stamp_clone.getHeight()\n",
    "\n",
    "t_img_arr = img_arr.copy()\n",
    "t_img_arr[thresholding] = 0\n",
    "\n",
    "t_img_arr = t_img_arr.astype(float)\n",
    "\n",
    "plt.imshow(t_img_arr,  vmin=img_arr.min(), vmax=img_arr.max(), cmap='gray',  interpolation='none', extent=(0,w,0,h))\n",
    "\n",
    "m_c = moments_central(t_img_arr, center.getX()-stamp_clone.getX0(), center.getY()-stamp_clone.getY0(), order=2)\n",
    "#plt.plot(center.getX()-stamp_clone.getX0(), center.getY()-stamp_clone.getY0(), 'rx')\n",
    "\n",
    "cov = [[m_c[2,0]/m_c[0,0], m_c[1,1]/m_c[0,0]], [m_c[1,1]/m_c[0,0], m_c[0,2]/m_c[0,0]]]\n",
    "#print(np.matrix(cov))\n",
    "vals, vectors = np.linalg.eig(cov)\n",
    "\n",
    "print( 2*np.sqrt(vals[0]), 2*np.sqrt(vals[1])) "
   ]
  },
  {
   "cell_type": "code",
   "execution_count": 62,
   "metadata": {
    "collapsed": false
   },
   "outputs": [
    {
     "name": "stdout",
     "output_type": "stream",
     "text": [
      "[3, 5, 7, 9]\n"
     ]
    }
   ],
   "source": [
    "import ipyparallel as ipyp\n",
    "\n",
    "c = ipyp.Client()\n",
    "v = c[:]\n",
    "\n",
    "\n",
    "def f(a,b):\n",
    "    def c(a, b):\n",
    "        return a+b\n",
    "\n",
    "    return c(a,b)\n",
    "#res = v.map(lambda x,y: x+y, (1, 2, 3, 4), (2, 3, 4, 5))\n",
    "res = v.map(f, [1, 2, 3, 4], [2, 3, 4, 5])\n",
    "\n",
    "print res.get()\n",
    "\n"
   ]
  },
  {
   "cell_type": "code",
   "execution_count": 31,
   "metadata": {
    "collapsed": true
   },
   "outputs": [],
   "source": [
    "visits = (850177, 850178, 850179, 850180, 850181, 850586, 850587, 850588, 850589, 850590,)\n",
    "filters = ['r']*10\n",
    "sigmas = [6]*10\n",
    "butlers = [butler]*10\n"
   ]
  },
  {
   "cell_type": "code",
   "execution_count": 47,
   "metadata": {
    "collapsed": false
   },
   "outputs": [
    {
     "name": "stdout",
     "output_type": "stream",
     "text": [
      "[0, 1, 2, 3]\n"
     ]
    }
   ],
   "source": [
    "n = 4\n",
    "visits = [849687]*n\n",
    "filters = ['r']*n\n",
    "sigmas = [6]*n\n",
    "butlers = [butler]*n\n",
    "ccds = range(0,n)\n",
    "dmt = [dipoleMeasurement]*n\n",
    "print ccds"
   ]
  },
  {
   "cell_type": "code",
   "execution_count": 56,
   "metadata": {
    "collapsed": false
   },
   "outputs": [
    {
     "data": {
      "text/plain": [
       "<lsst.ip.diffim.dipoleMeasurement.DipoleMeasurementTask at 0x7f1e7998cc50>"
      ]
     },
     "execution_count": 56,
     "metadata": {},
     "output_type": "execute_result"
    }
   ],
   "source": [
    "dipoleMeasurement"
   ]
  },
  {
   "cell_type": "code",
   "execution_count": 53,
   "metadata": {
    "collapsed": false
   },
   "outputs": [
    {
     "name": "stdout",
     "output_type": "stream",
     "text": [
      "Total time: 0.00718998908997\n"
     ]
    }
   ],
   "source": [
    "import time\n",
    "\n",
    "c = ipyp.Client()\n",
    "v = c[:]\n",
    "\n",
    "start = time.time()\n",
    "#res = v.map(classify_sources, visits, filters, sigmas, ccds, butlers)\n",
    "res = v.map(classify_sources, [849687], ['r'], [6], [14], [butler], [dipoleMeasurement])\n",
    "end = time.time()\n",
    "print \"Total time: \" + str(end-start)\n"
   ]
  },
  {
   "cell_type": "code",
   "execution_count": 54,
   "metadata": {
    "collapsed": false
   },
   "outputs": [
    {
     "name": "stdout",
     "output_type": "stream",
     "text": [
      "<AsyncMapResult: classify_sources:finished>\n"
     ]
    }
   ],
   "source": [
    "print res"
   ]
  },
  {
   "cell_type": "code",
   "execution_count": 55,
   "metadata": {
    "collapsed": false
   },
   "outputs": [
    {
     "ename": "CompositeError",
     "evalue": "one or more exceptions from call to method: classify_sources\n[0:apply]: TypeError: ('__init__() takes at most 3 arguments (5 given)', <class 'lsst.ip.diffim.dipoleMeasurement.DipoleMeasurementTask'>, (lsst.ip.diffim.dipoleMeasurement.DipoleMeasurementConfig(doApplyApCorr='noButWarn', classification={'maxFluxRatio': 0.65, 'minSn': 7.0710678118654755}, doReplaceWithNoise=False, applyApCorr={'ignoreList': [], 'doFlagApCorrFailures': True}, noiseReplacer={'noiseSeedMultiplier': 1, 'noiseOffset': 0.0, 'noiseSource': 'measure'}, plugins={'values': {'base_CircularApertureFlux': {'doMeasure': True, 'shiftKernel': 'lanczos5', 'radii': [3.0, 4.5, 6.0, 9.0, 12.0, 17.0, 25.0, 35.0, 50.0, 70.0], 'maxSincRadius': 10.0}, 'base_PsfFlux': {'doMeasure': True, 'badMaskPlanes': []}, 'ip_diffim_PsfDipoleFlux': {'doMeasure': True, 'stepSizeFlux': 1.0, 'maxFnCalls': 100000, 'stepSizeCoord': 0.10000000149011612, 'errorDef': 1.0}, 'base_FPPosition': {'doMeasure': True}, 'base_NaiveCentroid': {'doMeasure': True, 'background': 0.0}, 'base_PixelFlags': {'doMeasure': True, 'masksFpCenter': [], 'masksFpAnywhere': []}, 'base_SkyCoord': {'doMeasure': True}, 'base_ScaledApertureFlux': {'doMeasure': True, 'shiftKernel': 'lanczos5', 'scale': 3.14}, 'base_InputCount': {'doMeasure': True}, 'base_Variance': {'doMeasure': True, 'scale': 5.0, 'mask': ['DETECTED', 'DETECTED_NEGATIVE', 'BAD', 'SAT']}, 'ip_diffim_NaiveDipoleFlux': {'doMeasure': True}, 'base_Jacobian': {'doMeasure': True, 'pixelScale': 0.5}, 'base_GaussianCentroid': {'doMeasure': True}, 'base_PeakLikelihoodFlux': {'doMeasure': True, 'warpingKernelName': 'lanczos4'}, 'base_SdssCentroid': {'doMeasure': True, 'peakMin': -1.0, 'binmax': 16, 'wfac': 1.5}, 'base_Blendedness': {'doMeasure': True, 'doShape': True, 'doOld': True, 'doFlux': True, 'nSigmaWeightMax': 3.0}, 'base_GaussianFlux': {'doMeasure': True, 'background': 0.0}, 'base_ClassificationExtendedness': {'doMeasure': True, 'psfErrFactor': 0.0, 'modelErrFactor': 0.0, 'fluxRatio': 0.925}, 'base_SdssShape': {'maxShift': 0.0, 'tol2': 9.999999747378752e-05, 'tol1': 9.999999747378752e-06, 'doMeasure': True, 'background': 0.0, 'maxIter': 100}, 'base_PeakCentroid': {'doMeasure': True}, 'ip_diffim_NaiveDipoleCentroid': {'doMeasure': True}}, 'names': ['base_CircularApertureFlux', 'ip_diffim_NaiveDipoleCentroid', 'ip_diffim_PsfDipoleFlux', 'base_PixelFlags', 'base_SkyCoord', 'base_PsfFlux', 'ip_diffim_NaiveDipoleFlux']}, slots={'calibFlux': None, 'apFlux': 'base_CircularApertureFlux_3_0', 'instFlux': None, 'shape': None, 'centroid': 'ip_diffim_NaiveDipoleCentroid', 'modelFlux': None, 'psfFlux': 'base_PsfFlux'}), 'dipoleMeasurement', None, None))",
     "output_type": "error",
     "traceback": [
      "[0:apply]: ",
      "\u001b[1;31m---------------------------------------------------------------------------\u001b[0m\u001b[1;31mTypeError\u001b[0m                                 Traceback (most recent call last)\u001b[1;32m/renoir_data_00/fouchez/lsst/DM/stacks/lsstsw/2016-04-04/lsstsw/miniconda/lib/python2.7/site-packages/ipyparallel/serialize/serialize.pyc\u001b[0m in \u001b[0;36munpack_apply_message\u001b[1;34m(bufs, g, copy)\u001b[0m",
      "\u001b[0;32m    192\u001b[0m     \u001b[0margs\u001b[0m \u001b[1;33m=\u001b[0m \u001b[1;33m[\u001b[0m\u001b[1;33m]\u001b[0m\u001b[1;33m\u001b[0m\u001b[0m",
      "\u001b[0;32m    193\u001b[0m     \u001b[1;32mfor\u001b[0m \u001b[0mi\u001b[0m \u001b[1;32min\u001b[0m \u001b[0mrange\u001b[0m\u001b[1;33m(\u001b[0m\u001b[0minfo\u001b[0m\u001b[1;33m[\u001b[0m\u001b[1;34m'nargs'\u001b[0m\u001b[1;33m]\u001b[0m\u001b[1;33m)\u001b[0m\u001b[1;33m:\u001b[0m\u001b[1;33m\u001b[0m\u001b[0m",
      "\u001b[1;32m--> 194\u001b[1;33m         \u001b[0marg\u001b[0m\u001b[1;33m,\u001b[0m \u001b[0marg_bufs\u001b[0m \u001b[1;33m=\u001b[0m \u001b[0mdeserialize_object\u001b[0m\u001b[1;33m(\u001b[0m\u001b[0marg_bufs\u001b[0m\u001b[1;33m,\u001b[0m \u001b[0mg\u001b[0m\u001b[1;33m)\u001b[0m\u001b[1;33m\u001b[0m\u001b[0m",
      "\u001b[0m\u001b[0;32m    195\u001b[0m         \u001b[0margs\u001b[0m\u001b[1;33m.\u001b[0m\u001b[0mappend\u001b[0m\u001b[1;33m(\u001b[0m\u001b[0marg\u001b[0m\u001b[1;33m)\u001b[0m\u001b[1;33m\u001b[0m\u001b[0m",
      "\u001b[0;32m    196\u001b[0m     \u001b[0margs\u001b[0m \u001b[1;33m=\u001b[0m \u001b[0mtuple\u001b[0m\u001b[1;33m(\u001b[0m\u001b[0margs\u001b[0m\u001b[1;33m)\u001b[0m\u001b[1;33m\u001b[0m\u001b[0m",
      "\u001b[1;32m/renoir_data_00/fouchez/lsst/DM/stacks/lsstsw/2016-04-04/lsstsw/miniconda/lib/python2.7/site-packages/ipyparallel/serialize/serialize.pyc\u001b[0m in \u001b[0;36mdeserialize_object\u001b[1;34m(buffers, g)\u001b[0m",
      "\u001b[0;32m    130\u001b[0m     \u001b[0mbufs\u001b[0m \u001b[1;33m=\u001b[0m \u001b[0mlist\u001b[0m\u001b[1;33m(\u001b[0m\u001b[0mbuffers\u001b[0m\u001b[1;33m)\u001b[0m\u001b[1;33m\u001b[0m\u001b[0m",
      "\u001b[0;32m    131\u001b[0m     \u001b[0mpobj\u001b[0m \u001b[1;33m=\u001b[0m \u001b[0mbuffer_to_bytes_py2\u001b[0m\u001b[1;33m(\u001b[0m\u001b[0mbufs\u001b[0m\u001b[1;33m.\u001b[0m\u001b[0mpop\u001b[0m\u001b[1;33m(\u001b[0m\u001b[1;36m0\u001b[0m\u001b[1;33m)\u001b[0m\u001b[1;33m)\u001b[0m\u001b[1;33m\u001b[0m\u001b[0m",
      "\u001b[1;32m--> 132\u001b[1;33m     \u001b[0mcanned\u001b[0m \u001b[1;33m=\u001b[0m \u001b[0mpickle\u001b[0m\u001b[1;33m.\u001b[0m\u001b[0mloads\u001b[0m\u001b[1;33m(\u001b[0m\u001b[0mpobj\u001b[0m\u001b[1;33m)\u001b[0m\u001b[1;33m\u001b[0m\u001b[0m",
      "\u001b[0m\u001b[0;32m    133\u001b[0m     \u001b[1;32mif\u001b[0m \u001b[0mistype\u001b[0m\u001b[1;33m(\u001b[0m\u001b[0mcanned\u001b[0m\u001b[1;33m,\u001b[0m \u001b[0msequence_types\u001b[0m\u001b[1;33m)\u001b[0m \u001b[1;32mand\u001b[0m \u001b[0mlen\u001b[0m\u001b[1;33m(\u001b[0m\u001b[0mcanned\u001b[0m\u001b[1;33m)\u001b[0m \u001b[1;33m<\u001b[0m \u001b[0mMAX_ITEMS\u001b[0m\u001b[1;33m:\u001b[0m\u001b[1;33m\u001b[0m\u001b[0m",
      "\u001b[0;32m    134\u001b[0m         \u001b[1;32mfor\u001b[0m \u001b[0mc\u001b[0m \u001b[1;32min\u001b[0m \u001b[0mcanned\u001b[0m\u001b[1;33m:\u001b[0m\u001b[1;33m\u001b[0m\u001b[0m",
      "\u001b[1;31mTypeError\u001b[0m: ('__init__() takes at most 3 arguments (5 given)', <class 'lsst.ip.diffim.dipoleMeasurement.DipoleMeasurementTask'>, (lsst.ip.diffim.dipoleMeasurement.DipoleMeasurementConfig(doApplyApCorr='noButWarn', classification={'maxFluxRatio': 0.65, 'minSn': 7.0710678118654755}, doReplaceWithNoise=False, applyApCorr={'ignoreList': [], 'doFlagApCorrFailures': True}, noiseReplacer={'noiseSeedMultiplier': 1, 'noiseOffset': 0.0, 'noiseSource': 'measure'}, plugins={'values': {'base_CircularApertureFlux': {'doMeasure': True, 'shiftKernel': 'lanczos5', 'radii': [3.0, 4.5, 6.0, 9.0, 12.0, 17.0, 25.0, 35.0, 50.0, 70.0], 'maxSincRadius': 10.0}, 'base_PsfFlux': {'doMeasure': True, 'badMaskPlanes': []}, 'ip_diffim_PsfDipoleFlux': {'doMeasure': True, 'stepSizeFlux': 1.0, 'maxFnCalls': 100000, 'stepSizeCoord': 0.10000000149011612, 'errorDef': 1.0}, 'base_FPPosition': {'doMeasure': True}, 'base_NaiveCentroid': {'doMeasure': True, 'background': 0.0}, 'base_PixelFlags': {'doMeasure': True, 'masksFpCenter': [], 'masksFpAnywhere': []}, 'base_SkyCoord': {'doMeasure': True}, 'base_ScaledApertureFlux': {'doMeasure': True, 'shiftKernel': 'lanczos5', 'scale': 3.14}, 'base_InputCount': {'doMeasure': True}, 'base_Variance': {'doMeasure': True, 'scale': 5.0, 'mask': ['DETECTED', 'DETECTED_NEGATIVE', 'BAD', 'SAT']}, 'ip_diffim_NaiveDipoleFlux': {'doMeasure': True}, 'base_Jacobian': {'doMeasure': True, 'pixelScale': 0.5}, 'base_GaussianCentroid': {'doMeasure': True}, 'base_PeakLikelihoodFlux': {'doMeasure': True, 'warpingKernelName': 'lanczos4'}, 'base_SdssCentroid': {'doMeasure': True, 'peakMin': -1.0, 'binmax': 16, 'wfac': 1.5}, 'base_Blendedness': {'doMeasure': True, 'doShape': True, 'doOld': True, 'doFlux': True, 'nSigmaWeightMax': 3.0}, 'base_GaussianFlux': {'doMeasure': True, 'background': 0.0}, 'base_ClassificationExtendedness': {'doMeasure': True, 'psfErrFactor': 0.0, 'modelErrFactor': 0.0, 'fluxRatio': 0.925}, 'base_SdssShape': {'maxShift': 0.0, 'tol2': 9.999999747378752e-05, 'tol1': 9.999999747378752e-06, 'doMeasure': True, 'background': 0.0, 'maxIter': 100}, 'base_PeakCentroid': {'doMeasure': True}, 'ip_diffim_NaiveDipoleCentroid': {'doMeasure': True}}, 'names': ['base_CircularApertureFlux', 'ip_diffim_NaiveDipoleCentroid', 'ip_diffim_PsfDipoleFlux', 'base_PixelFlags', 'base_SkyCoord', 'base_PsfFlux', 'ip_diffim_NaiveDipoleFlux']}, slots={'calibFlux': None, 'apFlux': 'base_CircularApertureFlux_3_0', 'instFlux': None, 'shape': None, 'centroid': 'ip_diffim_NaiveDipoleCentroid', 'modelFlux': None, 'psfFlux': 'base_PsfFlux'}), 'dipoleMeasurement', None, None))",
      ""
     ]
    }
   ],
   "source": [
    "print res.get()"
   ]
  },
  {
   "cell_type": "code",
   "execution_count": 46,
   "metadata": {
    "collapsed": false
   },
   "outputs": [
    {
     "name": "stderr",
     "output_type": "stream",
     "text": [
      "/renoir_data_00/fouchez/lsst/DM/stacks/lsstsw/2016-04-04/lsstsw/miniconda/lib/python2.7/site-packages/ipykernel/__main__.py:65: RuntimeWarning: invalid value encountered in greater\n",
      "/renoir_data_00/fouchez/lsst/DM/stacks/lsstsw/2016-04-04/lsstsw/miniconda/lib/python2.7/site-packages/ipykernel/__main__.py:70: RuntimeWarning: invalid value encountered in less\n"
     ]
    },
    {
     "name": "stdout",
     "output_type": "stream",
     "text": [
      "Total time: 18.0676350594\n"
     ]
    }
   ],
   "source": [
    "import time\n",
    "\n",
    "start = time.time()\n",
    "\n",
    "for ccd in ccds:\n",
    "    classification  = classify_sources(849687, 'r', 6, 14, butler, dipoleMeasurement)\n",
    "end = time.time()\n",
    "print \"Total time: \" + str(end-start)"
   ]
  },
  {
   "cell_type": "code",
   "execution_count": 65,
   "metadata": {
    "collapsed": false
   },
   "outputs": [
    {
     "data": {
      "text/plain": [
       "11L"
      ]
     },
     "execution_count": 65,
     "metadata": {},
     "output_type": "execute_result"
    }
   ],
   "source": [
    "source_catalog[10].get(\"id\")"
   ]
  },
  {
   "cell_type": "code",
   "execution_count": 66,
   "metadata": {
    "collapsed": true
   },
   "outputs": [],
   "source": [
    "diffExp = butler.get(\"deepDiff_differenceExp\", {'visit': 849687 , 'filter':'r' , 'ccd':28})"
   ]
  },
  {
   "cell_type": "code",
   "execution_count": null,
   "metadata": {
    "collapsed": true
   },
   "outputs": [],
   "source": []
  }
 ],
 "metadata": {
  "kernelspec": {
   "display_name": "Python 2",
   "language": "python",
   "name": "python2"
  },
  "language_info": {
   "codemirror_mode": {
    "name": "ipython",
    "version": 2
   },
   "file_extension": ".py",
   "mimetype": "text/x-python",
   "name": "python",
   "nbconvert_exporter": "python",
   "pygments_lexer": "ipython2",
   "version": "2.7.12"
  }
 },
 "nbformat": 4,
 "nbformat_minor": 0
}
