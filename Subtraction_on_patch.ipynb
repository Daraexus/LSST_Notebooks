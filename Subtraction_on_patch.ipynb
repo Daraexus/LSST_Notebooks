{
 "metadata": {
  "name": "",
  "signature": "sha256:d2412be030074b9862ae2b41ba8b3badcdd8fefa1598b35d150919d516208315"
 },
 "nbformat": 3,
 "nbformat_minor": 0,
 "worksheets": [
  {
   "cells": [
    {
     "cell_type": "heading",
     "level": 1,
     "metadata": {},
     "source": [
      "Subtraction of single image coadded on a patch  "
     ]
    },
    {
     "cell_type": "code",
     "collapsed": false,
     "input": [
      "import io\n",
      "from IPython.nbformat import current\n",
      "\n",
      "def execute_notebook(nbfile):\n",
      "    \n",
      "    with io.open(nbfile) as f:\n",
      "        nb = current.read(f, 'json')\n",
      "    \n",
      "    ip = get_ipython()\n",
      "    \n",
      "    for cell in nb.worksheets[0].cells:\n",
      "        if cell.cell_type != 'code':\n",
      "            continue\n",
      "        ip.run_cell(cell.input)\n"
     ],
     "language": "python",
     "metadata": {},
     "outputs": [],
     "prompt_number": 1
    },
    {
     "cell_type": "markdown",
     "metadata": {},
     "source": [
      "Init for stack-based notebook"
     ]
    },
    {
     "cell_type": "code",
     "collapsed": false,
     "input": [
      "execute_notebook(\"Init_for_stack.ipynb\")"
     ],
     "language": "python",
     "metadata": {},
     "outputs": [],
     "prompt_number": 2
    },
    {
     "cell_type": "markdown",
     "metadata": {},
     "source": [
      "Prepare the coadded images"
     ]
    },
    {
     "cell_type": "code",
     "collapsed": false,
     "input": [
      "#execute_notebook(\"coaddition_for_subtraction.ipynb\")"
     ],
     "language": "python",
     "metadata": {},
     "outputs": [],
     "prompt_number": 3
    },
    {
     "cell_type": "markdown",
     "metadata": {},
     "source": [
      "Directory definition"
     ]
    },
    {
     "cell_type": "code",
     "collapsed": false,
     "input": [
      "#DATADIR=\"/sps/lsst/data/jreyes/CFHTLS\"\n",
      "#DATADIR=os.environ['MY_DATA_DIR']\n",
      "#DATADIR=\"/renoir_data_02/fouchez/lsst_data/data/CFHTLS\"\n",
      "DATADIR=\"/renoir_data_02/jpreyes/lsst_data/data/CFHTLS\"\n",
      "\n",
      "RAWDIR=\"/renoir_data_02/lsst_data/CFHT/rawElixir\""
     ],
     "language": "python",
     "metadata": {},
     "outputs": [],
     "prompt_number": 4
    },
    {
     "cell_type": "heading",
     "level": 1,
     "metadata": {},
     "source": [
      "Subtraction:"
     ]
    },
    {
     "cell_type": "code",
     "collapsed": false,
     "input": [
      "scienceFolder = \"subtract+1\"\n",
      "templateFolder = \"subtract\"\n",
      "\n",
      "SciencePath = DATADIR+\"/output/coadd_r_dir/\"+scienceFolder+\"/deepCoadd/r/0/21,34.fits\"\n",
      "TemplatePath = DATADIR+\"/output/coadd_r_dir/\"+templateFolder+\"/deepCoadd/r/0/21,34.fits\"\n",
      "OutputPath = DATADIR+\"/subtracted\"\n",
      "\n",
      "scienceExp = afwImage.ExposureF(SciencePath)\n",
      "templateExp = afwImage.ExposureF(TemplatePath)\n"
     ],
     "language": "python",
     "metadata": {},
     "outputs": [],
     "prompt_number": 5
    },
    {
     "cell_type": "code",
     "collapsed": false,
     "input": [
      "def SubtractImages(fwhm=None, templateExp=None, scienceExp=None):\n",
      "    config = ipDiffim.ImagePsfMatchTask.ConfigClass()\n",
      "    #Kernel name is Alard-Lupton by default\n",
      "    config.kernel.name = \"AL\"\n",
      "    subconfig = config.kernel.active\n",
      "    #Fwhm will be calculated if none is provide\n",
      "    defFwhm         = fwhm\n",
      "    fwhmS = defFwhm\n",
      "    fwhmT = defFwhm\n",
      "    psfmatch = ipDiffim.ImagePsfMatchTask(config)\n",
      "    \n",
      "    results  = psfmatch.subtractExposures(templateExp, scienceExp,\n",
      "                            templateFwhmPix = fwhmT, scienceFwhmPix = fwhmS, doWarping=True)\n",
      "\n",
      "    differenceExposure = results.subtractedExposure\n",
      "    \n",
      "    \n",
      "    return differenceExposure\n",
      "    "
     ],
     "language": "python",
     "metadata": {},
     "outputs": [],
     "prompt_number": 6
    },
    {
     "cell_type": "code",
     "collapsed": false,
     "input": [
      "dif = SubtractImages(fwhm=2.5,templateExp=templateExp, scienceExp=scienceExp)\n"
     ],
     "language": "python",
     "metadata": {},
     "outputs": [],
     "prompt_number": 7
    },
    {
     "cell_type": "code",
     "collapsed": false,
     "input": [
      "def SubtractBackground(ImagePath=None):\n",
      "    import lsst.afw.image as afwImg\n",
      "    import lsst.meas.algorithms.detection as sDet\n",
      "    \n",
      "    Exp = afwImage.ExposureF(ImagePath)\n",
      "    bgConf = sDet.BackgroundConfig()\n",
      "    background,Exp0 = sDet.estimateBackground(Exp,bgConf,True)\n",
      "\n",
      "    return Exp0"
     ],
     "language": "python",
     "metadata": {},
     "outputs": [],
     "prompt_number": 8
    },
    {
     "cell_type": "code",
     "collapsed": false,
     "input": [
      "templateExp0 = SubtractBackground(ImagePath=TemplatePath)\n",
      "scienceExp0 = SubtractBackground(ImagePath=SciencePath)\n"
     ],
     "language": "python",
     "metadata": {},
     "outputs": [],
     "prompt_number": 162
    },
    {
     "cell_type": "code",
     "collapsed": false,
     "input": [
      "\n",
      "dif0= SubtractImages(fwhm=2.5,templateExp=templateExp0, scienceExp=scienceExp0)\n"
     ],
     "language": "python",
     "metadata": {},
     "outputs": [],
     "prompt_number": 10
    },
    {
     "cell_type": "code",
     "collapsed": false,
     "input": [
      "#displayImage(dif.getMaskedImage().getImage(),frame=0,title=\"difImage\",path=\"diffFig.png\")\n",
      "displayImage(dif0.getMaskedImage().getImage(),frame=1,title=\"difImage\",path=\"diffFig.png\")"
     ],
     "language": "python",
     "metadata": {},
     "outputs": [
      {
       "ename": "TypeError",
       "evalue": "unsupported operand type(s) for +: 'NoneType' and 'str'",
       "output_type": "pyerr",
       "traceback": [
        "\u001b[1;31m---------------------------------------------------------------------------\u001b[0m\n\u001b[1;31mTypeError\u001b[0m                                 Traceback (most recent call last)",
        "\u001b[1;32m<ipython-input-13-7a47a10d1507>\u001b[0m in \u001b[0;36m<module>\u001b[1;34m()\u001b[0m\n\u001b[0;32m      1\u001b[0m \u001b[1;31m#displayImage(dif.getMaskedImage().getImage(),frame=0,title=\"difImage\",path=\"diffFig.png\")\u001b[0m\u001b[1;33m\u001b[0m\u001b[1;33m\u001b[0m\u001b[0m\n\u001b[1;32m----> 2\u001b[1;33m \u001b[0mdisplayImage\u001b[0m\u001b[1;33m(\u001b[0m\u001b[0mdif0\u001b[0m\u001b[1;33m.\u001b[0m\u001b[0mgetMaskedImage\u001b[0m\u001b[1;33m(\u001b[0m\u001b[1;33m)\u001b[0m\u001b[1;33m.\u001b[0m\u001b[0mgetImage\u001b[0m\u001b[1;33m(\u001b[0m\u001b[1;33m)\u001b[0m\u001b[1;33m,\u001b[0m\u001b[0mframe\u001b[0m\u001b[1;33m=\u001b[0m\u001b[1;36m1\u001b[0m\u001b[1;33m,\u001b[0m\u001b[0mtitle\u001b[0m\u001b[1;33m=\u001b[0m\u001b[1;34m\"difImage\"\u001b[0m\u001b[1;33m,\u001b[0m\u001b[0mpath\u001b[0m\u001b[1;33m=\u001b[0m\u001b[1;34m\"diffFig.png\"\u001b[0m\u001b[1;33m)\u001b[0m\u001b[1;33m\u001b[0m\u001b[0m\n\u001b[0m",
        "\u001b[1;32m<ipython-input-2-eb948e1fc8d2>\u001b[0m in \u001b[0;36mdisplayImage\u001b[1;34m(Image, frame, title, path)\u001b[0m\n\u001b[0;32m     17\u001b[0m     \u001b[0mds9\u001b[0m\u001b[1;33m.\u001b[0m\u001b[0mds9Cmd\u001b[0m\u001b[1;33m(\u001b[0m\u001b[1;34m\"zoom to fit\"\u001b[0m\u001b[1;33m)\u001b[0m\u001b[1;33m\u001b[0m\u001b[0m\n\u001b[0;32m     18\u001b[0m     \u001b[1;32mprint\u001b[0m \u001b[0mtitle\u001b[0m\u001b[1;33m\u001b[0m\u001b[0m\n\u001b[1;32m---> 19\u001b[1;33m     \u001b[0mdisplayDs9\u001b[0m\u001b[1;33m(\u001b[0m\u001b[0mpath\u001b[0m\u001b[1;33m)\u001b[0m\u001b[1;33m\u001b[0m\u001b[0m\n\u001b[0m\u001b[0;32m     20\u001b[0m \u001b[1;33m\u001b[0m\u001b[0m\n\u001b[0;32m     21\u001b[0m \u001b[1;32mdef\u001b[0m \u001b[0mdisplayFrame\u001b[0m\u001b[1;33m(\u001b[0m\u001b[0mImage\u001b[0m\u001b[1;33m,\u001b[0m\u001b[0mframe\u001b[0m\u001b[1;33m=\u001b[0m\u001b[1;36m0\u001b[0m\u001b[1;33m,\u001b[0m\u001b[0mtitle\u001b[0m\u001b[1;33m=\u001b[0m\u001b[1;34m\"NoName\"\u001b[0m\u001b[1;33m,\u001b[0m\u001b[0mpath\u001b[0m\u001b[1;33m=\u001b[0m\u001b[1;34m\"fig\"\u001b[0m\u001b[1;33m)\u001b[0m\u001b[1;33m:\u001b[0m\u001b[1;33m\u001b[0m\u001b[0m\n",
        "\u001b[1;32m<ipython-input-2-eb948e1fc8d2>\u001b[0m in \u001b[0;36mdisplayDs9\u001b[1;34m(path)\u001b[0m\n\u001b[0;32m      8\u001b[0m     \u001b[0mds9\u001b[0m\u001b[1;33m.\u001b[0m\u001b[0mds9Cmd\u001b[0m\u001b[1;33m(\u001b[0m\u001b[1;34m\"raise\"\u001b[0m\u001b[1;33m)\u001b[0m\u001b[1;33m\u001b[0m\u001b[0m\n\u001b[0;32m      9\u001b[0m     \u001b[0mds9\u001b[0m\u001b[1;33m.\u001b[0m\u001b[0mds9Cmd\u001b[0m\u001b[1;33m(\u001b[0m\u001b[1;34m'saveimage '\u001b[0m\u001b[1;33m+\u001b[0m\u001b[0mpath\u001b[0m\u001b[1;33m)\u001b[0m\u001b[1;33m\u001b[0m\u001b[0m\n\u001b[1;32m---> 10\u001b[1;33m     \u001b[0mfile\u001b[0m \u001b[1;33m=\u001b[0m \u001b[0mds9dir\u001b[0m\u001b[1;33m+\u001b[0m\u001b[1;34m'/'\u001b[0m\u001b[1;33m+\u001b[0m\u001b[0mpath\u001b[0m\u001b[1;33m\u001b[0m\u001b[0m\n\u001b[0m\u001b[0;32m     11\u001b[0m     \u001b[0mget_ipython\u001b[0m\u001b[1;33m(\u001b[0m\u001b[1;33m)\u001b[0m\u001b[1;33m.\u001b[0m\u001b[0msystem\u001b[0m\u001b[1;33m(\u001b[0m\u001b[1;34mu'scp -q $file . '\u001b[0m\u001b[1;33m)\u001b[0m\u001b[1;33m\u001b[0m\u001b[0m\n\u001b[0;32m     12\u001b[0m     \u001b[0mdisplayFigure\u001b[0m\u001b[1;33m(\u001b[0m\u001b[0mpath\u001b[0m\u001b[1;33m)\u001b[0m\u001b[1;33m\u001b[0m\u001b[0m\n",
        "\u001b[1;31mTypeError\u001b[0m: unsupported operand type(s) for +: 'NoneType' and 'str'"
       ]
      },
      {
       "output_type": "stream",
       "stream": "stdout",
       "text": [
        "difImage\n"
       ]
      }
     ],
     "prompt_number": 13
    },
    {
     "cell_type": "code",
     "collapsed": false,
     "input": [
      "import lsst.afw.image as afwImg\n",
      "\n",
      "scienceIm0=scienceExp0.getMaskedImage().getImage()\n",
      "templateIm0=templateExp0.getMaskedImage().getImage()\n",
      "\n",
      "dif =  afwImg.ImageF(scienceIm0,True)\n",
      "dif -= templateIm0\n",
      "#displayImage(dif,frame=2,title=\"difImage\",path=\"diffFigsimple.png\")\n",
      "#displayImage(scienceI0,frame=1,title=\"sciImage\",path=\"sci.png\")\n",
      "#displayImage(templateI0,frame=2,title=\"temImage\",path=\"temppng\")\n",
      "ds9.mtv(dif, frame=1)"
     ],
     "language": "python",
     "metadata": {},
     "outputs": [],
     "prompt_number": 130
    },
    {
     "cell_type": "code",
     "collapsed": false,
     "input": [
      "scienceIm0=scienceExp0.getMaskedImage()\n",
      "templateIm0=templateExp0.getMaskedImage()\n",
      "\n",
      "\n",
      "dif = afwImg.MaskedImageF(scienceIm0)\n",
      "\n",
      "dif -= templateIm0\n",
      "\n",
      "\n",
      "#ds9.mtv(dif, frame=1)"
     ],
     "language": "python",
     "metadata": {},
     "outputs": [],
     "prompt_number": 163
    },
    {
     "cell_type": "code",
     "collapsed": false,
     "input": [
      "difExp = afwImg.ExposureF(dif)\n",
      "\n",
      "#ds9.mtv(difExp, frame=1)"
     ],
     "language": "python",
     "metadata": {},
     "outputs": [],
     "prompt_number": 164
    },
    {
     "cell_type": "heading",
     "level": 1,
     "metadata": {},
     "source": [
      "SOURCES DETECTION"
     ]
    },
    {
     "cell_type": "code",
     "collapsed": false,
     "input": [
      "import lsst.afw.detection as afwDetection\n",
      "import lsst.afw.table as afwTable"
     ],
     "language": "python",
     "metadata": {},
     "outputs": []
    },
    {
     "cell_type": "code",
     "collapsed": false,
     "input": [
      "def findSources(exposure, frame, threshold):\n",
      "    masked_image = exposure.getMaskedImage()\n",
      "    image = masked_image.getImage()\n",
      "\n",
      "    #back_size = 64\n",
      "    #bctrl = afwMath.BackgroundControl(image.getWidth(),image.getHeight())\n",
      "    #backobj = afwMath.makeBackground(image, bctrl)\n",
      "    #image -= backobj.getImageF(\"LINEAR\")\n",
      "    \n",
      "    \n",
      "    threshold = afwDetection.Threshold(threshold)\n",
      "    fs = afwDetection.FootprintSet(image, threshold, 2)\n",
      "\n",
      "\n",
      "\n",
      "    ctrlCentroid = measAlg.SdssCentroidControl()\n",
      "    ctrlAperture = measAlg.SincFluxControl()\n",
      "    ctrlAperture.radius2 = 5\n",
      "    \n",
      "    schema = afwTable.SourceTable.makeMinimalSchema()\n",
      "    algorithms = [measAlg.MeasureSourcesBuilder().addAlgorithm(ctrlCentroid).build(schema), \n",
      "                  measAlg.MeasureSourcesBuilder().addAlgorithm(ctrlAperture).build(schema)]\n",
      "    \n",
      "    cat = afwTable.SourceCatalog(schema)\n",
      "    \n",
      "    table = cat.table\n",
      "    table.defineCentroid(\"centroid.sdss\")\n",
      "    table.defineApFlux(\"flux.sinc\")\n",
      "    \n",
      "    fs.makeSources(cat)\n",
      "    \n",
      "    print(\"The number of sources detected is \"+str(len(fs.getFootprints())))\n",
      "    \n",
      "    for source in cat:\n",
      "        for alg in algorithms:\n",
      "            alg.apply(source, exposure)\n",
      "\n",
      "    ds9.mtv(masked_image, frame=frame)\n",
      "    ds9.setMaskTransparency(70)\n",
      "    for source in cat:\n",
      "        ds9.dot(\"+\", source.getX()-20900, source.getY()-33900, frame=frame, size = 50, ctype = ds9.RED)"
     ],
     "language": "python",
     "metadata": {},
     "outputs": [],
     "prompt_number": 174
    },
    {
     "cell_type": "code",
     "collapsed": false,
     "input": [
      "findSources(dif0, 1, 10)\n",
      "findSources(difExp, 2, 10)"
     ],
     "language": "python",
     "metadata": {},
     "outputs": [
      {
       "output_type": "stream",
       "stream": "stdout",
       "text": [
        "The number of sources detected is 3\n",
        "The number of sources detected is 3"
       ]
      },
      {
       "output_type": "stream",
       "stream": "stdout",
       "text": [
        "\n"
       ]
      }
     ],
     "prompt_number": 175
    },
    {
     "cell_type": "heading",
     "level": 1,
     "metadata": {},
     "source": [
      "END OF SOURCES DETECTION"
     ]
    },
    {
     "cell_type": "markdown",
     "metadata": {},
     "source": [
      "============ End of refactoring ==========, for today ..."
     ]
    },
    {
     "cell_type": "markdown",
     "metadata": {},
     "source": [
      "The two folders containing the images to subtract are defined"
     ]
    },
    {
     "cell_type": "code",
     "collapsed": false,
     "input": [
      "Set1Path = DATADIR+\"/output/coadd_r_dir/deepCoadd/r/0/21,34.fits\"\n",
      "Set2Path = DATADIR+\"/output/coadd_r_dir/subtract/deepCoadd/r/0/21,34.fits\"\n",
      "OutputPath = DATADIR+\"/output/subtracted-inter\"\n"
     ],
     "language": "python",
     "metadata": {},
     "outputs": [],
     "prompt_number": 54
    },
    {
     "cell_type": "markdown",
     "metadata": {},
     "source": [
      "The images are loaded and subtracted. Results are saved on disk."
     ]
    },
    {
     "cell_type": "code",
     "collapsed": false,
     "input": [
      "config = ipDiffim.ImagePsfMatchTask.ConfigClass()\n",
      "config.kernel.name = \"AL\"\n",
      "subconfig = config.kernel.active\n",
      "defFwhm         = 2.5\n",
      "fwhmS = defFwhm\n",
      "fwhmT = defFwhm\n",
      "psfmatch = ipDiffim.ImagePsfMatchTask(config)\n",
      "\n",
      "#for image1, image2 in zip(Set1Files,Set2Files):\n",
      "#    print(\"Subtracting \" + image1 + \" \" + image2)\n",
      "firstImage = afwImage.ExposureF(Set1Path)\n",
      "secondImage = afwImage.ExposureF(Set2Path)\n",
      "    \n",
      "results  = psfmatch.subtractExposures(firstImage, secondImage,\n",
      "                            templateFwhmPix = fwhmT, scienceFwhmPix = fwhmS, doWarping=True)\n",
      "\n",
      "differenceExposure = results.subtractedExposure"
     ],
     "language": "python",
     "metadata": {},
     "outputs": [
      {
       "ename": "FitsError",
       "evalue": "\n  File \"src/fits.cc\", line 1071, in lsst::afw::fits::Fits::Fits(const std::string&, const std::string&, int)\n    cfitsio error: could not open the named file (104) : Opening file '/renoir_data_02/fouchez/lsst_data/data/CFHTLS/output/coadd_r_dir/deepCoadd/r/0/21,34.fits' with mode 'r' {0}\nlsst::afw::fits::FitsError: 'cfitsio error: could not open the named file (104) : Opening file '/renoir_data_02/fouchez/lsst_data/data/CFHTLS/output/coadd_r_dir/deepCoadd/r/0/21,34.fits' with mode 'r''\n",
       "output_type": "pyerr",
       "traceback": [
        "\u001b[1;31m---------------------------------------------------------------------------\u001b[0m\n\u001b[1;31mFitsError\u001b[0m                                 Traceback (most recent call last)",
        "\u001b[1;32m<ipython-input-55-96b787fef474>\u001b[0m in \u001b[0;36m<module>\u001b[1;34m()\u001b[0m\n\u001b[0;32m      9\u001b[0m \u001b[1;31m#for image1, image2 in zip(Set1Files,Set2Files):\u001b[0m\u001b[1;33m\u001b[0m\u001b[1;33m\u001b[0m\u001b[0m\n\u001b[0;32m     10\u001b[0m \u001b[1;31m#    print(\"Subtracting \" + image1 + \" \" + image2)\u001b[0m\u001b[1;33m\u001b[0m\u001b[1;33m\u001b[0m\u001b[0m\n\u001b[1;32m---> 11\u001b[1;33m \u001b[0mfirstImage\u001b[0m \u001b[1;33m=\u001b[0m \u001b[0mafwImage\u001b[0m\u001b[1;33m.\u001b[0m\u001b[0mExposureF\u001b[0m\u001b[1;33m(\u001b[0m\u001b[0mSet1Path\u001b[0m\u001b[1;33m)\u001b[0m\u001b[1;33m\u001b[0m\u001b[0m\n\u001b[0m\u001b[0;32m     12\u001b[0m \u001b[0msecondImage\u001b[0m \u001b[1;33m=\u001b[0m \u001b[0mafwImage\u001b[0m\u001b[1;33m.\u001b[0m\u001b[0mExposureF\u001b[0m\u001b[1;33m(\u001b[0m\u001b[0mSet2Path\u001b[0m\u001b[1;33m)\u001b[0m\u001b[1;33m\u001b[0m\u001b[0m\n\u001b[0;32m     13\u001b[0m \u001b[1;33m\u001b[0m\u001b[0m\n",
        "\u001b[1;32m/renoir_data_00/fouchez/lsst/DM/stacks/v9_2_copy/Linux64/afw/9.2/python/lsst/afw/image/imageLib.pyc\u001b[0m in \u001b[0;36m__init__\u001b[1;34m(self, *args)\u001b[0m\n\u001b[0;32m  10043\u001b[0m         \u001b[0m__init__\u001b[0m\u001b[1;33m(\u001b[0m\u001b[0mlsst\u001b[0m\u001b[1;33m:\u001b[0m\u001b[1;33m:\u001b[0m\u001b[0mafw\u001b[0m\u001b[1;33m:\u001b[0m\u001b[1;33m:\u001b[0m\u001b[0mimage\u001b[0m\u001b[1;33m:\u001b[0m\u001b[1;33m:\u001b[0m\u001b[0mExposure\u001b[0m\u001b[1;33m<\u001b[0m\u001b[1;33m(\u001b[0m\u001b[0mfloat\u001b[0m\u001b[1;33m,\u001b[0m\u001b[0mlsst\u001b[0m\u001b[1;33m:\u001b[0m\u001b[1;33m:\u001b[0m\u001b[0mafw\u001b[0m\u001b[1;33m:\u001b[0m\u001b[1;33m:\u001b[0m\u001b[0mimage\u001b[0m\u001b[1;33m:\u001b[0m\u001b[1;33m:\u001b[0m\u001b[0mMaskPixel\u001b[0m\u001b[1;33m,\u001b[0m\u001b[0mlsst\u001b[0m\u001b[1;33m:\u001b[0m\u001b[1;33m:\u001b[0m\u001b[0mafw\u001b[0m\u001b[1;33m:\u001b[0m\u001b[1;33m:\u001b[0m\u001b[0mimage\u001b[0m\u001b[1;33m:\u001b[0m\u001b[1;33m:\u001b[0m\u001b[0mVariancePixel\u001b[0m\u001b[1;33m)\u001b[0m\u001b[1;33m>\u001b[0m \u001b[0mself\u001b[0m\u001b[1;33m,\u001b[0m \u001b[0mExposureF\u001b[0m \u001b[0msrc\u001b[0m\u001b[1;33m,\u001b[0m \u001b[0mBox2I\u001b[0m \u001b[0mbbox\u001b[0m\u001b[1;33m)\u001b[0m \u001b[1;33m-\u001b[0m\u001b[1;33m>\u001b[0m \u001b[0mExposureF\u001b[0m\u001b[1;33m\u001b[0m\u001b[0m\n\u001b[0;32m  10044\u001b[0m         \"\"\"\n\u001b[1;32m> 10045\u001b[1;33m         \u001b[0mthis\u001b[0m \u001b[1;33m=\u001b[0m \u001b[0m_imageLib\u001b[0m\u001b[1;33m.\u001b[0m\u001b[0mnew_ExposureF\u001b[0m\u001b[1;33m(\u001b[0m\u001b[1;33m*\u001b[0m\u001b[0margs\u001b[0m\u001b[1;33m)\u001b[0m\u001b[1;33m\u001b[0m\u001b[0m\n\u001b[0m\u001b[0;32m  10046\u001b[0m         \u001b[1;32mtry\u001b[0m\u001b[1;33m:\u001b[0m \u001b[0mself\u001b[0m\u001b[1;33m.\u001b[0m\u001b[0mthis\u001b[0m\u001b[1;33m.\u001b[0m\u001b[0mappend\u001b[0m\u001b[1;33m(\u001b[0m\u001b[0mthis\u001b[0m\u001b[1;33m)\u001b[0m\u001b[1;33m\u001b[0m\u001b[0m\n\u001b[0;32m  10047\u001b[0m         \u001b[1;32mexcept\u001b[0m\u001b[1;33m:\u001b[0m \u001b[0mself\u001b[0m\u001b[1;33m.\u001b[0m\u001b[0mthis\u001b[0m \u001b[1;33m=\u001b[0m \u001b[0mthis\u001b[0m\u001b[1;33m\u001b[0m\u001b[0m\n",
        "\u001b[1;31mFitsError\u001b[0m: \n  File \"src/fits.cc\", line 1071, in lsst::afw::fits::Fits::Fits(const std::string&, const std::string&, int)\n    cfitsio error: could not open the named file (104) : Opening file '/renoir_data_02/fouchez/lsst_data/data/CFHTLS/output/coadd_r_dir/deepCoadd/r/0/21,34.fits' with mode 'r' {0}\nlsst::afw::fits::FitsError: 'cfitsio error: could not open the named file (104) : Opening file '/renoir_data_02/fouchez/lsst_data/data/CFHTLS/output/coadd_r_dir/deepCoadd/r/0/21,34.fits' with mode 'r''\n"
       ]
      }
     ],
     "prompt_number": 55
    },
    {
     "cell_type": "code",
     "collapsed": false,
     "input": [
      "#differenceExposure.writeFits(OutputPath+'/33,15.fits')\n",
      "import lsst.afw.display.ds9 as ds9\n",
      "\n",
      "psf = results.psfMatchingKernel\n",
      "kImageOut = afwImage.ImageD(psf.getDimensions())\n",
      "ds9.mtv(kImageOut, frame=1)\n",
      "\n",
      "im1psf = afwImage.ImageD(psf.getDimensions())\n",
      "\n",
      "\n",
      "psf.computeImage(im1psf, False)\n",
      "ds9.mtv(im1psf, frame=1)\n",
      "\n",
      "import lsst.meas.algorithms.utils as measUtils\n",
      "cellSet = results.kernelCellSet\n",
      "measUtils.showPsfMosaic(results.matchedImage, psf=psf, frame=2)\n",
      "#psfIm = psf.computeImage()\n",
      "#ds9.mtv(psfIm, frame=frame, title=\"Psf Image\"); frame += 1\n",
      "\n",
      "#import lsst.meas.algorithms.utils as measUtils\n",
      "#cellSet = results.kernelCellSet\n",
      "#measUtils.showPsfMosaic(differenceExposure, psf=psf, frame=1)"
     ],
     "language": "python",
     "metadata": {},
     "outputs": []
    },
    {
     "cell_type": "code",
     "collapsed": false,
     "input": [
      "print results.psfMatchingKernel.toString\n",
      "\n",
      "import lsst.afw.display.ds9 as ds9\n",
      "import time\n",
      "\n",
      "arrow1sn =[(141,141),(160,160)]\n",
      "arrow2sn =[(141,145),(141,141),(145,141)]\n",
      "\n",
      "try:\n",
      "    os.remove('fig1.png')\n",
      "    os.remove('fig2.png')\n",
      "    os.remove('fig3.png')\n",
      "except(os.error):\n",
      "    pass\n",
      "#firstImage = afwImage.ExposureF(Set1Path)\n",
      "ds9.mtv(firstImage, frame=1)\n",
      "ds9.scale(type='zscale', frame=1)\n",
      "ds9.zoom(4,141,141, frame=1)\n",
      "ds9.setMaskTransparency(70, frame=1)\n",
      "ds9.line(arrow1sn,ctype='red', frame=1)\n",
      "ds9.line(arrow2sn,ctype='red', frame=1)\n",
      "ds9.dot('look for the SN !',131,151, frame=1)\n",
      "time.sleep(2)\n",
      "ds9.ds9Cmd('saveimage fig1.png', frame=1)\n",
      "time.sleep(2)\n",
      "\n",
      "\n",
      "ds9.mtv(secondImage, frame=2)\n",
      "ds9.scale(type='zscale', frame=2)\n",
      "ds9.zoom(4,141,141, frame=2)\n",
      "ds9.setMaskTransparency(70, frame=2)\n",
      "ds9.line(arrow1sn,ctype='red', frame=2)\n",
      "ds9.line(arrow2sn,ctype='red', frame=2)\n",
      "ds9.dot('look for the SN !',131,151, frame=2)\n",
      "time.sleep(2)\n",
      "ds9.ds9Cmd('saveimage fig2.png', frame=2)\n",
      "time.sleep(2)\n",
      "ds9.mtv(differenceExposure, frame=3)\n",
      "ds9.scale(type='zscale', frame=3)\n",
      "ds9.zoom(4,141,141, frame=3)\n",
      "ds9.setMaskTransparency(70, frame=3)\n",
      "ds9.line(arrow1sn,ctype='red', frame=3)\n",
      "ds9.line(arrow2sn,ctype='red', frame=3)\n",
      "ds9.dot('look for the SN !',131,151, frame=3)\n",
      "time.sleep(2)\n",
      "ds9.ds9Cmd('saveimage fig3.png', frame=3)\n",
      "time.sleep(2)\n",
      "\n",
      "\n",
      "from IPython.display import Image, display_png\n",
      "i1 =  Image(filename = 'fig1.png')\n",
      "i2 = Image(filename = 'fig2.png')\n",
      "i3 = Image(filename = 'fig3.png')\n",
      "display_png(i1)\n",
      "display_png(i2)\n",
      "display_png(i3)"
     ],
     "language": "python",
     "metadata": {},
     "outputs": []
    },
    {
     "cell_type": "code",
     "collapsed": false,
     "input": [
      "import lsst.pipe.tasks.processCoadd as CoaddProcesser\n",
      "\n",
      "DATADIR2=\"/renoir_data_02/jpreyes/lsst_data/data/CFHTLS-4\"\n",
      "\n",
      "CPTask = CoaddProcesser.ProcessCoaddTask\n",
      "#CPTask.parseAndRun(args=((DATASUB3+\"/output/coadd_r_dir --output \"+DATASUB3+\"/output/coadd_r_dir/deepCoaddDetect @\"+DATASUB3+\"/patches_r.txt\").split()))\n",
      "CPTask.parseAndRun(args=((DATADIR2+\"/output/coadd_r_dir --output \"+DATADIR2+\"/output/coadd_r_dir/deepCoaddDetect --id filter=r tract=1 patch=33,15 --config doCalibrate=False doWriteSourceMatches=False --clobber-config\").split()))\n",
      "#CPTask.parseAndRun(args=((DATASUB5+\"/output/coadd_r_dir --output \"+DATASUB5+\"/output/coadd_r_dir/deepCoaddDetect @\"+DATASUB5+\"/patches_r.txt\").split()))"
     ],
     "language": "python",
     "metadata": {},
     "outputs": []
    },
    {
     "cell_type": "code",
     "collapsed": false,
     "input": [],
     "language": "python",
     "metadata": {},
     "outputs": []
    }
   ],
   "metadata": {}
  }
 ]
}