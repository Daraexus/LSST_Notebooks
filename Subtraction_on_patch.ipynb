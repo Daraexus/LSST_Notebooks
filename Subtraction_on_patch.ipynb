{
 "metadata": {
  "name": "",
  "signature": "sha256:d2412be030074b9862ae2b41ba8b3badcdd8fefa1598b35d150919d516208315"
 },
 "nbformat": 3,
 "nbformat_minor": 0,
 "worksheets": [
  {
   "cells": [
    {
     "cell_type": "heading",
     "level": 1,
     "metadata": {},
     "source": [
      "Subtraction of single image coadded on a patch  "
     ]
    },
    {
     "cell_type": "code",
     "collapsed": false,
     "input": [
      "import io\n",
      "from IPython.nbformat import current\n",
      "\n",
      "def execute_notebook(nbfile):\n",
      "    \n",
      "    with io.open(nbfile) as f:\n",
      "        nb = current.read(f, 'json')\n",
      "    \n",
      "    ip = get_ipython()\n",
      "    \n",
      "    for cell in nb.worksheets[0].cells:\n",
      "        if cell.cell_type != 'code':\n",
      "            continue\n",
      "        ip.run_cell(cell.input)\n"
     ],
     "language": "python",
     "metadata": {},
     "outputs": []
    },
    {
     "cell_type": "markdown",
     "metadata": {},
     "source": [
      "Init for stack-based notebook"
     ]
    },
    {
     "cell_type": "code",
     "collapsed": false,
     "input": [
      "execute_notebook(\"Init_for_stack.ipynb\")"
     ],
     "language": "python",
     "metadata": {},
     "outputs": []
    },
    {
     "cell_type": "markdown",
     "metadata": {},
     "source": [
      "Prepare the coadded images"
     ]
    },
    {
     "cell_type": "code",
     "collapsed": false,
     "input": [
      "#execute_notebook(\"coaddition_for_subtraction.ipynb\")"
     ],
     "language": "python",
     "metadata": {},
     "outputs": []
    },
    {
     "cell_type": "markdown",
     "metadata": {},
     "source": [
      "Directory definition"
     ]
    },
    {
     "cell_type": "code",
     "collapsed": false,
     "input": [
      "#DATADIR=\"/sps/lsst/data/jreyes/CFHTLS\"\n",
      "#DATADIR=os.environ['MY_DATA_DIR']\n",
      "#DATADIR=\"/renoir_data_02/fouchez/lsst_data/data/CFHTLS\"\n",
      "#DATADIR=\"/renoir_data_02/jpreyes/lsst_data/data/CFHTLS_TEST\"\n",
      "DATADIR=\"/renoir_data_02/jpreyes/lsst_data/data/CFHTLS_TEST\"\n",
      "RAWDIR=\"/renoir_data_02/lsst_data/CFHT/rawElixir\""
     ],
     "language": "python",
     "metadata": {},
     "outputs": []
    },
    {
     "cell_type": "heading",
     "level": 1,
     "metadata": {},
     "source": [
      "Subtraction:"
     ]
    },
    {
     "cell_type": "code",
     "collapsed": false,
     "input": [
      "scienceFolder = \"subtract+0\"\n",
      "templateFolder = \"coaddition\"\n",
      "\n",
      "SciencePath = DATADIR+\"/output/coadd_r_dir/\"+scienceFolder+\"/deepCoadd/r/1/33,15.fits\"\n",
      "TemplatePath = DATADIR+\"/output/coadd_r_dir/\"+templateFolder+\"/deepCoadd/r/1/33,15.fits\"\n",
      "OutputPath = DATADIR+\"/subtracted\"\n",
      "\n",
      "scienceExp = afwImage.ExposureF(SciencePath)\n",
      "templateExp = afwImage.ExposureF(TemplatePath)\n"
     ],
     "language": "python",
     "metadata": {},
     "outputs": []
    },
    {
     "cell_type": "code",
     "collapsed": false,
     "input": [
      "def SubtractImages(fwhm=None, templateExp=None, scienceExp=None):\n",
      "    config = ipDiffim.ImagePsfMatchTask.ConfigClass()\n",
      "    #Kernel name is Alard-Lupton by default\n",
      "    config.kernel.name = \"AL\"\n",
      "    subconfig = config.kernel.active\n",
      "    #Fwhm will be calculated if none is provide\n",
      "    defFwhm         = fwhm\n",
      "    fwhmS = defFwhm\n",
      "    fwhmT = defFwhm\n",
      "    psfmatch = ipDiffim.ImagePsfMatchTask(config)\n",
      "    \n",
      "    results  = psfmatch.subtractExposures(templateExp, scienceExp,\n",
      "                            templateFwhmPix = fwhmT, scienceFwhmPix = fwhmS, doWarping=True)\n",
      "\n",
      "    differenceExposure = results.subtractedExposure\n",
      "        \n",
      "    return differenceExposure\n",
      "    "
     ],
     "language": "python",
     "metadata": {},
     "outputs": []
    },
    {
     "cell_type": "code",
     "collapsed": false,
     "input": [
      "dif = SubtractImages(fwhm=2.5,templateExp=templateExp, scienceExp=scienceExp)\n"
     ],
     "language": "python",
     "metadata": {},
     "outputs": []
    },
    {
     "cell_type": "code",
     "collapsed": false,
     "input": [
      "def SubtractBackground(ImagePath=None):\n",
      "    import lsst.afw.image as afwImg\n",
      "    import lsst.meas.algorithms.detection as sDet\n",
      "    \n",
      "    Exp = afwImage.ExposureF(ImagePath)\n",
      "    bgConf = sDet.BackgroundConfig()\n",
      "    background,Exp0 = sDet.estimateBackground(Exp,bgConf,True)\n",
      "\n",
      "    return Exp0\n",
      "\n",
      "def SubractImagesWithBkgRemoval(TemplatePath, SciencePath):\n",
      "\n",
      "    templateExp0 = SubtractBackground(ImagePath=TemplatePath)\n",
      "    scienceExp0 = SubtractBackground(ImagePath=SciencePath)\n",
      "    #templateExp0 = afwImage.ExposureF(TemplatePath)\n",
      "    #scienceExp0 = afwImage.ExposureF(SciencePath)\n",
      "    \n",
      "    dif0= SubtractImages(fwhm=2.5,templateExp=templateExp0, scienceExp=scienceExp0)\n",
      "   \n",
      "    #dif0 = scienceExp0.getMaskedImage()\n",
      "    #dif0 -= templateExp0.getMaskedImage()\n",
      "    \n",
      "    return afwImage.ExposureF(dif0)\n",
      "\n",
      "def SubtractTest(scienceFolder, templateFolder, imageName):\n",
      "    SciencePath = DATADIR+\"/output/coadd_r_dir/\"+scienceFolder+\"/deepCoadd/r/1/\" + imageName\n",
      "    TemplatePath = DATADIR+\"/output/coadd_r_dir/\"+templateFolder+\"/deepCoadd/r/1/\" + imageName\n",
      "    return SubractImagesWithBkgRemoval(TemplatePath, SciencePath)"
     ],
     "language": "python",
     "metadata": {},
     "outputs": []
    },
    {
     "cell_type": "code",
     "collapsed": false,
     "input": [
      "difm4 = SubtractTest(\"subtract-4\",\"coaddition\",\"33,15.fits\")\n",
      "difm3 = SubtractTest(\"subtract-3\",\"coaddition\",\"33,15.fits\")\n",
      "difm2 = SubtractTest(\"subtract-2\",\"coaddition\",\"33,15.fits\")\n",
      "difm1 = SubtractTest(\"subtract-1\",\"coaddition\",\"33,15.fits\")\n",
      "dif0 = SubtractTest(\"subtract+0\",\"coaddition\",\"33,15.fits\")\n",
      "difp1 = SubtractTest(\"subtract+1\",\"coaddition\",\"33,15.fits\")\n",
      "difp2 = SubtractTest(\"subtract+2\",\"coaddition\",\"33,15.fits\")\n",
      "difp3 = SubtractTest(\"subtract+3\",\"coaddition\",\"33,15.fits\")\n"
     ],
     "language": "python",
     "metadata": {},
     "outputs": []
    },
    {
     "cell_type": "code",
     "collapsed": false,
     "input": [
      "#difm4 = SubtractTest(\"subtract-4\",\"coaddition\",\"45,8.fits\")\n",
      "difm3 = SubtractTest(\"subtract-3\",\"coaddition\",\"45,8.fits\")\n",
      "ds9.mtv(difm3.getMaskedImage().getImage(), frame=2)"
     ],
     "language": "python",
     "metadata": {},
     "outputs": []
    },
    {
     "cell_type": "code",
     "collapsed": false,
     "input": [
      "difm4.writeFits(DATADIR+\"/subtracted-4/33,15.fits\")\n",
      "difm3.writeFits(DATADIR+\"/subtracted-3/33,15.fits\")\n",
      "difm2.writeFits(DATADIR+\"/subtracted-2/33,15.fits\")\n",
      "difm1.writeFits(DATADIR+\"/subtracted-1/33,15.fits\")\n",
      "dif0.writeFits(DATADIR+\"/subtracted+0/33,15.fits\")\n",
      "difp1.writeFits(DATADIR+\"/subtracted+1/33,15.fits\")\n",
      "difp2.writeFits(DATADIR+\"/subtracted+2/33,15.fits\")\n",
      "difp3.writeFits(DATADIR+\"/subtracted+3/33,15.fits\")"
     ],
     "language": "python",
     "metadata": {},
     "outputs": []
    },
    {
     "cell_type": "code",
     "collapsed": false,
     "input": [
      "#ds9.mtv(difm4.getMaskedImage().getImage(), frame=1)\n",
      "ds9.mtv(difm3.getMaskedImage().getImage(), frame=2)\n",
      "ds9.mtv(difm2.getMaskedImage().getImage(), frame=3)\n",
      "ds9.mtv(difm1.getMaskedImage().getImage(), frame=4)\n",
      "ds9.mtv(dif0.getMaskedImage().getImage(), frame=5)\n",
      "ds9.mtv(difp1.getMaskedImage().getImage(), frame=6)\n",
      "ds9.mtv(difp2.getMaskedImage().getImage(), frame=7)\n",
      "ds9.mtv(difp3.getMaskedImage().getImage(), frame=8)\n"
     ],
     "language": "python",
     "metadata": {},
     "outputs": []
    },
    {
     "cell_type": "code",
     "collapsed": false,
     "input": [
      "ds9.mtv(difm2.getMaskedImage().getImage(), frame=3)"
     ],
     "language": "python",
     "metadata": {},
     "outputs": []
    },
    {
     "cell_type": "code",
     "collapsed": false,
     "input": [
      "ds9.mtv(dif0.getMaskedImage().getImage(), frame=5)"
     ],
     "language": "python",
     "metadata": {},
     "outputs": []
    },
    {
     "cell_type": "code",
     "collapsed": false,
     "input": [
      "import lsst.afw.image as afwImg\n",
      "\n",
      "scienceIm0=scienceExp0.getMaskedImage()\n",
      "templateIm0=templateExp0.getMaskedImage()\n",
      "\n",
      "\n",
      "dif = afwImg.MaskedImageF(scienceIm0)\n",
      "\n",
      "dif -= templateIm0\n",
      "\n",
      "difExp = afwImg.ExposureF(dif)\n",
      "\n",
      "#ds9.mtv(difExp, frame=2)\n",
      "#ds9.mtv(dif, frame=1)"
     ],
     "language": "python",
     "metadata": {},
     "outputs": []
    },
    {
     "cell_type": "heading",
     "level": 1,
     "metadata": {},
     "source": [
      "SOURCES DETECTION"
     ]
    },
    {
     "cell_type": "markdown",
     "metadata": {},
     "source": [
      "Those are the necessary imports. "
     ]
    },
    {
     "cell_type": "code",
     "collapsed": false,
     "input": [
      "import lsst.afw.detection as afwDetection\n",
      "import lsst.afw.table as afwTable\n",
      "\n"
     ],
     "language": "python",
     "metadata": {},
     "outputs": []
    },
    {
     "cell_type": "markdown",
     "metadata": {},
     "source": [
      "Method to detect sources from the detected mask"
     ]
    },
    {
     "cell_type": "code",
     "collapsed": false,
     "input": [
      "def findSources(exposure, frame, threshold, aperture_radius, n_pix_min):\n",
      "    masked_image = exposure.getMaskedImage()\n",
      "    image = masked_image.getImage()\n",
      "\n",
      "    #back_size = 64\n",
      "    #bctrl = afwMath.BackgroundControl(image.getWidth(),image.getHeight())\n",
      "    #backobj = afwMath.makeBackground(image, bctrl)\n",
      "    #image -= backobj.getImageF(\"LINEAR\")\n",
      "    \n",
      "    \n",
      "    threshold = afwDetection.Threshold(threshold)\n",
      "    fs = afwDetection.FootprintSet(image, threshold, n_pix_min)\n",
      "\n",
      "    #grow = 2\n",
      "    #if grow > 0:\n",
      "    #    isotropic = False\n",
      "    #    fs = afwDetection.FootprintSet(fs, grow, isotropic)\n",
      "\n",
      "    ctrlCentroid = measAlg.SdssCentroidControl()\n",
      "    ctrlAperture = measAlg.SincFluxControl()\n",
      "    ctrlAperture.radius2 = aperture_radius\n",
      "    \n",
      "    schema = afwTable.SourceTable.makeMinimalSchema()\n",
      "    algorithms = [measAlg.MeasureSourcesBuilder().addAlgorithm(ctrlCentroid).build(schema), \n",
      "                  measAlg.MeasureSourcesBuilder().addAlgorithm(ctrlAperture).build(schema)]\n",
      "    \n",
      "    cat = afwTable.SourceCatalog(schema)\n",
      "    \n",
      "    table = cat.table\n",
      "    table.defineCentroid(\"centroid.sdss\")\n",
      "    table.defineApFlux(\"flux.sinc\")\n",
      "    \n",
      "    fs.makeSources(cat)\n",
      "    \n",
      "    print(\"The number of sources detected is \"+str(len(fs.getFootprints())))\n",
      "    \n",
      "    for source in cat:\n",
      "        for alg in algorithms:\n",
      "            alg.apply(source, exposure)\n",
      "\n",
      "    #ds9.mtv(masked_image, frame=frame)\n",
      "    sources = []\n",
      "    for source in cat:\n",
      "        #This line has to change according to the image coordinates.\n",
      "        #print(source.getRa(), source.getDec(),source.getApFlux())\n",
      "        sources.append(source)\n",
      "        #ds9.dot(\"+\", source.getX()-32900, source.getY()-14900, frame=frame, size = 50, ctype = ds9.YELLOW)\n",
      "        \n",
      "    return sources"
     ],
     "language": "python",
     "metadata": {},
     "outputs": []
    },
    {
     "cell_type": "markdown",
     "metadata": {},
     "source": [
      "Invoque to see detected sources"
     ]
    },
    {
     "cell_type": "code",
     "collapsed": false,
     "input": [
      "ds9.mtv(difm3.getMaskedImage().getImage(), frame=2)\n",
      "sm3 = findSources(exposure=difm3, frame=2, threshold=2, aperture_radius=2, n_pix_min=2)"
     ],
     "language": "python",
     "metadata": {},
     "outputs": []
    },
    {
     "cell_type": "code",
     "collapsed": false,
     "input": [
      "sm4 = findSources(exposure=difm4, frame=1, threshold=2, aperture_radius=2, n_pix_min=2)\n",
      "sm3 = findSources(exposure=difm3, frame=2, threshold=2, aperture_radius=2, n_pix_min=2)\n",
      "sm2 = findSources(exposure=difm2, frame=3, threshold=2, aperture_radius=2, n_pix_min=2)\n",
      "sm1 = findSources(exposure=difm1, frame=4, threshold=2, aperture_radius=2, n_pix_min=2)\n",
      "s0  = findSources(exposure=dif0, frame=5, threshold=2, aperture_radius=2, n_pix_min=2)\n",
      "sp1 = findSources(exposure=difp1, frame=6, threshold=2, aperture_radius=2, n_pix_min=2)\n",
      "sp2 = findSources(exposure=difp2, frame=7, threshold=2, aperture_radius=2, n_pix_min=2)\n",
      "sp3 = findSources(exposure=difp3, frame=8, threshold=2, aperture_radius=2, n_pix_min=2)"
     ],
     "language": "python",
     "metadata": {},
     "outputs": []
    },
    {
     "cell_type": "code",
     "collapsed": false,
     "input": [],
     "language": "python",
     "metadata": {},
     "outputs": []
    },
    {
     "cell_type": "code",
     "collapsed": false,
     "input": [
      "cron_sources = [sm4, sm3, sm2, sm1, s0, sp1, sp2, sp3]\n",
      "\n",
      "plt.figure(figsize = (20,10))\n",
      "\n",
      "for h, source1 in enumerate(s0):\n",
      "    apfluxes = np.zeros(len(cron_sources))\n",
      "\n",
      "    colors = np.random.rand(3)\n",
      "    #print(\"====SOURCE====\")\n",
      "    for i, sources_list in enumerate(cron_sources):\n",
      "        for source in sources_list:\n",
      "            if SquaredPixelDistance(source1.getX(), source1.getY(), source.getX(), source.getY()) < 5:\n",
      "                apfluxes[i] = source.getApFlux()\n",
      "                #print(source.getRa(), source.getDec())\n",
      "                #if i == 4:\n",
      "                    #ds9.dot(\"o\", source.getX()-32900, source.getY()-14900, frame=5, size = 10, ctype = ds9._maskColors[h%8])\n",
      "        \n",
      "    #print source1.getX(), source1.getY()\n",
      "    #print ds9._maskColors[h%8]\n",
      "    #print apfluxes\n",
      "    if(h==4):\n",
      "        plt.plot([4, 20,24,28,33,37,51,56], apfluxes, '-o', c=ds9._maskColors[h%8])\n",
      "    \n",
      "plt.grid()\n",
      "plt.xticks(fontsize=20)\n",
      "plt.yticks(fontsize=20)\n",
      "plt.ylim([0,50])\n",
      "plt.show()"
     ],
     "language": "python",
     "metadata": {},
     "outputs": []
    },
    {
     "cell_type": "code",
     "collapsed": false,
     "input": [
      "for source in s0:\n",
      "    c = source.getCentroid()\n",
      "    source."
     ],
     "language": "python",
     "metadata": {},
     "outputs": []
    },
    {
     "cell_type": "code",
     "collapsed": false,
     "input": [
      "m3 = \"subtract-3\"\n",
      "\n",
      "\n",
      "im_m3_path = DATADIR+\"/output/coadd_r_dir/\"+m3+\"/deepCoadd/r/1/33,15.fits\"\n",
      "\n",
      "\n",
      "im_m3 = afwImage.ExposureF(im_m3_path)\n",
      "ds9.mtv(im_m3, frame=3)\n",
      "#s_m3 = findSources(exposure=im_m3, frame=3, threshold=13, aperture_radius=1, n_pix_min=1)\n"
     ],
     "language": "python",
     "metadata": {},
     "outputs": []
    },
    {
     "cell_type": "code",
     "collapsed": false,
     "input": [
      "\n",
      "import lsst.pipe.tasks.processCoadd as CoaddProcesser\n",
      "import lsst.pipe.tasks.processCcd as Processer\n",
      "\n",
      "#butler = dafPersist.Butler(DATADIR+\"/output\")\n",
      "\n",
      "CPTask = CoaddProcesser.ProcessCoaddTask\n",
      "CPTask.parseAndRun(args=((DATADIR+\"/output/coadd_r_dir/subtract+1 --output \"+DATADIR+\"/output/coadd_r_dir/subtract+1/deepCoaddDetect @\"+DATADIR+\"/patches_r.txt\").split()))\n",
      "CPTask.parseAndRun(args=((DATADIR+\"/output/coadd_r_dir/subtract+2 --output \"+DATADIR+\"/output/coadd_r_dir/subtract+2/deepCoaddDetect @\"+DATADIR+\"/patches_r.txt\").split()))\n",
      "CPTask.parseAndRun(args=((DATADIR+\"/output/coadd_r_dir/subtract+3 --output \"+DATADIR+\"/output/coadd_r_dir/subtract+3/deepCoaddDetect @\"+DATADIR+\"/patches_r.txt\").split()))\n",
      "CPTask.parseAndRun(args=((DATADIR+\"/output/coadd_r_dir/subtract-1 --output \"+DATADIR+\"/output/coadd_r_dir/subtract-1/deepCoaddDetect @\"+DATADIR+\"/patches_r.txt\").split()))\n",
      "CPTask.parseAndRun(args=((DATADIR+\"/output/coadd_r_dir/subtract-2 --output \"+DATADIR+\"/output/coadd_r_dir/subtract-2/deepCoaddDetect @\"+DATADIR+\"/patches_r.txt\").split()))\n",
      "CPTask.parseAndRun(args=((DATADIR+\"/output/coadd_r_dir/subtract-3 --output \"+DATADIR+\"/output/coadd_r_dir/subtract-3/deepCoaddDetect @\"+DATADIR+\"/patches_r.txt\").split()))\n",
      "CPTask.parseAndRun(args=((DATADIR+\"/output/coadd_r_dir/subtract-4 --output \"+DATADIR+\"/output/coadd_r_dir/subtract-3/deepCoaddDetect @\"+DATADIR+\"/patches_r.txt\").split()))"
     ],
     "language": "python",
     "metadata": {},
     "outputs": []
    },
    {
     "cell_type": "code",
     "collapsed": false,
     "input": [
      "CPTask.parseAndRun(args=((DATADIR+\"/output/coadd_r_dir/subtracted+0 --output \"+DATADIR+\"/output/coadd_r_dir/subtracted+0/deepCoaddDetect @\"+DATADIR+\"/patches_r.txt\").split()))"
     ],
     "language": "python",
     "metadata": {},
     "outputs": []
    },
    {
     "cell_type": "code",
     "collapsed": false,
     "input": [
      "CPTask = CoaddProcesser.ProcessCoaddTask\n",
      "CPTask.parseAndRun(args=((DATADIR+\"_SUB/output/coadd_r_dir/subtract+3 --output \"+DATADIR+\"_SUB/output/coadd_r_dir/subtract+3/deepCoaddDetect @\"+DATADIR+\"_SUB/patches_r.txt\").split()))\n",
      "CPTask.parseAndRun(args=((DATADIR+\"_SUB/output/coadd_r_dir/subtract+2 --output \"+DATADIR+\"_SUB/output/coadd_r_dir/subtract+2/deepCoaddDetect @\"+DATADIR+\"_SUB/patches_r.txt\").split()))\n",
      "CPTask.parseAndRun(args=((DATADIR+\"_SUB/output/coadd_r_dir/subtract+1 --output \"+DATADIR+\"_SUB/output/coadd_r_dir/subtract+1/deepCoaddDetect @\"+DATADIR+\"_SUB/patches_r.txt\").split()))\n",
      "CPTask.parseAndRun(args=((DATADIR+\"_SUB/output/coadd_r_dir/subtract+0 --output \"+DATADIR+\"_SUB/output/coadd_r_dir/subtract+0/deepCoaddDetect @\"+DATADIR+\"_SUB/patches_r.txt\").split()))\n",
      "CPTask.parseAndRun(args=((DATADIR+\"_SUB/output/coadd_r_dir/subtract-1 --output \"+DATADIR+\"_SUB/output/coadd_r_dir/subtract-1/deepCoaddDetect @\"+DATADIR+\"_SUB/patches_r.txt\").split()))\n",
      "CPTask.parseAndRun(args=((DATADIR+\"_SUB/output/coadd_r_dir/subtract-2 --output \"+DATADIR+\"_SUB/output/coadd_r_dir/subtract-2/deepCoaddDetect @\"+DATADIR+\"_SUB/patches_r.txt\").split()))\n",
      "CPTask.parseAndRun(args=((DATADIR+\"_SUB/output/coadd_r_dir/subtract-3 --output \"+DATADIR+\"_SUB/output/coadd_r_dir/subtract-3/deepCoaddDetect @\"+DATADIR+\"_SUB/patches_r.txt\").split()))\n",
      "CPTask.parseAndRun(args=((DATADIR+\"_SUB/output/coadd_r_dir/subtract-4 --output \"+DATADIR+\"_SUB/output/coadd_r_dir/subtract-4/deepCoaddDetect @\"+DATADIR+\"_SUB/patches_r.txt\").split()))"
     ],
     "language": "python",
     "metadata": {},
     "outputs": []
    },
    {
     "cell_type": "code",
     "collapsed": false,
     "input": [
      "CPTask.parseAndRun(args=((DATADIR+\"/output/coadd_r_dir/coaddition --output \"+DATADIR+\"/output/coadd_r_dir/coaddition/deepCoaddDetect @\"+DATADIR+\"/patches_r.txt\").split()))"
     ],
     "language": "python",
     "metadata": {},
     "outputs": []
    },
    {
     "cell_type": "code",
     "collapsed": false,
     "input": [
      "def SquaredPixelDistance(x0, y0, x1, y1):\n",
      "    return (x0-x1)*(x0-x1) + (y0-y1)*(y0-y1)"
     ],
     "language": "python",
     "metadata": {},
     "outputs": []
    },
    {
     "cell_type": "code",
     "collapsed": false,
     "input": [
      "\n",
      "def getSourcesFromCoaddition(path, patch, filter, tract):\n",
      " \n",
      "    butler_coadd = dafPersist.Butler(DATADIR+\"/output/coadd_r_dir/\"+path)\n",
      "    dataid_coadd = {'patch':patch, 'filter':filter, 'tract':tract}\n",
      "    icSrc = butler_coadd.get('deepCoadd_src', dataid_coadd)\n",
      "\n",
      "    c_sources = []\n",
      "\n",
      "    for source in icSrc:\n",
      "        c_sources.append(source)\n",
      "        \n",
      "    return c_sources"
     ],
     "language": "python",
     "metadata": {},
     "outputs": []
    },
    {
     "cell_type": "code",
     "collapsed": false,
     "input": [
      "cs0 = getSourcesFromCoaddition('subtract+0', '33,15', 'r', 1)\n",
      "\n",
      "cs_p1 = getSourcesFromCoaddition('subtract+1', '33,15', 'r', 1)\n",
      "cs_p2 = getSourcesFromCoaddition('subtract+2', '33,15', 'r', 1)\n",
      "cs_p3 = getSourcesFromCoaddition('subtract+3', '33,15', 'r', 1)\n",
      "\n",
      "cs_m1 = getSourcesFromCoaddition('subtract-1', '33,15', 'r', 1)\n",
      "cs_m2 = getSourcesFromCoaddition('subtract-2', '33,15', 'r', 1)\n",
      "cs_m3 = getSourcesFromCoaddition('subtract-3', '33,15', 'r', 1)\n",
      "cs_m4 = getSourcesFromCoaddition('subtract-4', '33,15', 'r', 1)\n",
      "\n",
      "cs_cd = getSourcesFromCoaddition('coaddition', '33,15', 'r', 1)\n",
      "\n",
      "cron_sources = [cs_m4, cs_m3, cs_m2, cs_m1, cs0, cs_p1, cs_p2, cs_p3 ]"
     ],
     "language": "python",
     "metadata": {},
     "outputs": []
    },
    {
     "cell_type": "code",
     "collapsed": false,
     "input": [
      "for source in s0:\n",
      "    ds9.dot(\"+\", source.getX()-32900, source.getY()-14900,frame=2, ctype = ds9.RED)"
     ],
     "language": "python",
     "metadata": {},
     "outputs": []
    },
    {
     "cell_type": "code",
     "collapsed": false,
     "input": [
      "m0 = \"subtract+0\"\n",
      "im_m0_path = DATADIR+\"/output/coadd_r_dir/\"+m0+\"/deepCoadd/r/1/33,15.fits\"\n",
      "im_m0 = afwImage.ExposureF(im_m0_path)\n",
      "\n",
      "ds9.mtv(im_m0.getMaskedImage().getImage(), frame=1)\n",
      "#ds9.setMaskTransparency(100)"
     ],
     "language": "python",
     "metadata": {},
     "outputs": []
    },
    {
     "cell_type": "code",
     "collapsed": false,
     "input": [
      "ds9._maskColors"
     ],
     "language": "python",
     "metadata": {},
     "outputs": []
    },
    {
     "cell_type": "code",
     "collapsed": false,
     "input": [
      "import matplotlib.pyplot as plt\n",
      "\n",
      "%matplotlib inline\n",
      "\n",
      "plt.figure(figsize = (20,10))\n",
      "\n",
      "\n",
      "for h, source1 in enumerate(s0):\n",
      "    apfluxes = np.zeros(len(cron_sources))\n",
      "\n",
      "    colors = np.random.rand(3)\n",
      "    #print(\"====SOURCE====\")\n",
      "    for i, sources_list in enumerate(cron_sources):\n",
      "        for source in sources_list:\n",
      "            if SquaredPixelDistance(source1.getX(), source1.getY(), source.getX(), source.getY()) < 5:\n",
      "                apfluxes[i] = source.getApFlux()\n",
      "                #print(source.getRa(), source.getDec())\n",
      "                #if i == 3:\n",
      "                    #ds9.dot(\"o\", source.getX()-32900, source.getY()-14900, frame=1, size = 10, ctype = ds9._maskColors[h%8])\n",
      "        \n",
      "    #print source1.getX(), source1.getY()\n",
      "    #print ds9._maskColors[h%8]\n",
      "    print apfluxes\n",
      "    \n",
      "\n",
      "    plt.plot([4, 20,24,28,33,37,51,56], apfluxes, 'o-', c=ds9._maskColors[h%8])\n",
      "\n",
      "plt.xticks(fontsize=20)\n",
      "plt.yticks(fontsize=20)\n",
      "plt.ylim([0,300])"
     ],
     "language": "python",
     "metadata": {},
     "outputs": []
    },
    {
     "cell_type": "code",
     "collapsed": false,
     "input": [
      "for source1 in s1:\n",
      "    for csource in c_sources:\n",
      "        if SquaredPixelDistance(source1.getX(), source1.getY(), csource.getX(), csource.getY()) < 5:\n",
      "            ds9.dot(\"o\", csource.getX()-32900, csource.getY()-14900, frame=3, size = 10, ctype = ds9.RED)\n",
      "            ds9.dot(\"o\", csource.getX()-32900, csource.getY()-14900, frame=3, size = 10, ctype = ds9.RED)"
     ],
     "language": "python",
     "metadata": {},
     "outputs": []
    },
    {
     "cell_type": "code",
     "collapsed": false,
     "input": [
      "def ShowCoaddSources(DATADIR, patch, filter, tract, nFrame):\n",
      "\n",
      "    \n",
      "    butler_coadd = dafPersist.Butler(DATADIR+\"/output/coadd_r_dir\")\n",
      "    print butler_coadd.getKeys()\n",
      "    dataid_coadd = {'patch': patch, 'filter':filter, 'tract':tract}\n",
      "    deepCoadd = butler_coadd.get(\"deepCoadd\", dataid_coadd)\n",
      "    icSrc = butler_coadd.get('deepCoadd_src', dataid_coadd)\n",
      "    icMatch = butler_coadd.get('deepCoadd_icMatch', dataid_coadd)\n",
      "    im1 = afwImg.ImageF(butler_coadd.mapper.map('deepCoadd', dataid_coadd, write=False).locationList[0])\n",
      "    ds9.mtv(im1,frame=nFrame)\n",
      "    ds9.ds9Cmd(cmd=\"zoom to fit\")\n",
      "    ds9.ds9Cmd(cmd=\"zscale\")\n",
      "    # Print out the icSrc table schema\n",
      "\n",
      "    schema = icSrc.getSchema()\n",
      "\n",
      "    #  print schema.getOrderedNames()\n",
      "    icSrc.sort()\n",
      "\n",
      "    #refCat.sort()\n",
      "    #This here is not properly working\n",
      "\n",
      "    solve = Astrometry.ConfigClass()\n",
      "\n",
      "    astrom = Astrometry(solve)\n",
      "    deepCoaddCalexp = butler_coadd.get(\"deepCoadd_calexp\", dataid_coadd)\n",
      "    point = deepCoaddCalexp.getXY0()\n",
      "    pointR =point+afwGeom.Extent2I( deepCoaddCalexp.getHeight(),deepCoaddCalexp.getWidth())    \n",
      "    detCenter = afwGeom.Point2D(pointR.getX(),pointR.getY())\n",
      "    detCenterCoord = deepCoaddCalexp.getWcs().pixelToSky(detCenter)\n",
      "    print detCenterCoord.getPosition()\n",
      "   #print detCenterCoord\n",
      "    refCat = astrom.getReferenceSources(detCenterCoord.getLongitude(), detCenterCoord.getLatitude(), afwGeom.Angle(1., afwGeom.degrees), 'r')\n",
      "    deepCoaddCalexp = butler_coadd.get(\"deepCoadd_calexp\", dataid_coadd)\n",
      "    sources =[]\n",
      "    for source in icSrc:\n",
      "\n",
      "          # ref = refCat.find(match.get('first'))\n",
      "\n",
      "          # source = icSrc.find(match.get('second'))\n",
      "\n",
      "         #  pointSource = afwGeom.Point2D(source.getX(),source.getY())\n",
      "\n",
      "         #  sourceCoord = deepCoaddCalexp.getWcs().SkytoPixel(pointSource)\n",
      "\n",
      "         #  print source.getX(), source.getY()\n",
      "\n",
      "         #  xc = afwGeom.radToMas(ref.getRa())\n",
      "\n",
      "          # yc = afwGeom.radToMas(ref.getDec())\n",
      "\n",
      "           sources.append(source)\n",
      "\n",
      "           #print source.getX() - deepCoaddCalexp.getX0() , source.getY() - deepCoaddCalexp.getY0()\n",
      "\n",
      "           ds9.dot(\"+\", source.getX() - deepCoaddCalexp.getX0() , source.getY() - deepCoaddCalexp.getY0(), frame=nFrame, size = 25, ctype = ds9.RED)\n",
      "\n",
      "            \n",
      "\n",
      "    return sources;"
     ],
     "language": "python",
     "metadata": {},
     "outputs": []
    },
    {
     "cell_type": "heading",
     "level": 1,
     "metadata": {},
     "source": [
      "END OF SOURCES DETECTION"
     ]
    },
    {
     "cell_type": "markdown",
     "metadata": {},
     "source": [
      "============ End of refactoring ==========, for today ..."
     ]
    },
    {
     "cell_type": "markdown",
     "metadata": {},
     "source": [
      "The two folders containing the images to subtract are defined"
     ]
    },
    {
     "cell_type": "code",
     "collapsed": false,
     "input": [
      "Set1Path = DATADIR+\"/output/coadd_r_dir/deepCoadd/r/0/21,34.fits\"\n",
      "Set2Path = DATADIR+\"/output/coadd_r_dir/subtract/deepCoadd/r/0/21,34.fits\"\n",
      "OutputPath = DATADIR+\"/output/subtracted-inter\"\n"
     ],
     "language": "python",
     "metadata": {},
     "outputs": []
    },
    {
     "cell_type": "markdown",
     "metadata": {},
     "source": [
      "The images are loaded and subtracted. Results are saved on disk."
     ]
    },
    {
     "cell_type": "code",
     "collapsed": false,
     "input": [
      "config = ipDiffim.ImagePsfMatchTask.ConfigClass()\n",
      "config.kernel.name = \"AL\"\n",
      "subconfig = config.kernel.active\n",
      "defFwhm         = 2.5\n",
      "fwhmS = defFwhm\n",
      "fwhmT = defFwhm\n",
      "psfmatch = ipDiffim.ImagePsfMatchTask(config)\n",
      "\n",
      "#for image1, image2 in zip(Set1Files,Set2Files):\n",
      "#    print(\"Subtracting \" + image1 + \" \" + image2)\n",
      "firstImage = afwImage.ExposureF(Set1Path)\n",
      "secondImage = afwImage.ExposureF(Set2Path)\n",
      "    \n",
      "results  = psfmatch.subtractExposures(firstImage, secondImage,\n",
      "                            templateFwhmPix = fwhmT, scienceFwhmPix = fwhmS, doWarping=True)\n",
      "\n",
      "differenceExposure = results.subtractedExposure"
     ],
     "language": "python",
     "metadata": {},
     "outputs": []
    },
    {
     "cell_type": "code",
     "collapsed": false,
     "input": [
      "#differenceExposure.writeFits(OutputPath+'/33,15.fits')\n",
      "import lsst.afw.display.ds9 as ds9\n",
      "\n",
      "psf = results.psfMatchingKernel\n",
      "kImageOut = afwImage.ImageD(psf.getDimensions())\n",
      "ds9.mtv(kImageOut, frame=1)\n",
      "\n",
      "im1psf = afwImage.ImageD(psf.getDimensions())\n",
      "\n",
      "\n",
      "psf.computeImage(im1psf, False)\n",
      "ds9.mtv(im1psf, frame=1)\n",
      "\n",
      "import lsst.meas.algorithms.utils as measUtils\n",
      "cellSet = results.kernelCellSet\n",
      "measUtils.showPsfMosaic(results.matchedImage, psf=psf, frame=2)\n",
      "#psfIm = psf.computeImage()\n",
      "#ds9.mtv(psfIm, frame=frame, title=\"Psf Image\"); frame += 1\n",
      "\n",
      "#import lsst.meas.algorithms.utils as measUtils\n",
      "#cellSet = results.kernelCellSet\n",
      "#measUtils.showPsfMosaic(differenceExposure, psf=psf, frame=1)"
     ],
     "language": "python",
     "metadata": {},
     "outputs": []
    },
    {
     "cell_type": "code",
     "collapsed": false,
     "input": [
      "print results.psfMatchingKernel.toString\n",
      "\n",
      "import lsst.afw.display.ds9 as ds9\n",
      "import time\n",
      "\n",
      "arrow1sn =[(141,141),(160,160)]\n",
      "arrow2sn =[(141,145),(141,141),(145,141)]\n",
      "\n",
      "try:\n",
      "    os.remove('fig1.png')\n",
      "    os.remove('fig2.png')\n",
      "    os.remove('fig3.png')\n",
      "except(os.error):\n",
      "    pass\n",
      "#firstImage = afwImage.ExposureF(Set1Path)\n",
      "ds9.mtv(firstImage, frame=1)\n",
      "ds9.scale(type='zscale', frame=1)\n",
      "ds9.zoom(4,141,141, frame=1)\n",
      "ds9.setMaskTransparency(70, frame=1)\n",
      "ds9.line(arrow1sn,ctype='red', frame=1)\n",
      "ds9.line(arrow2sn,ctype='red', frame=1)\n",
      "ds9.dot('look for the SN !',131,151, frame=1)\n",
      "time.sleep(2)\n",
      "ds9.ds9Cmd('saveimage fig1.png', frame=1)\n",
      "time.sleep(2)\n",
      "\n",
      "\n",
      "ds9.mtv(secondImage, frame=2)\n",
      "ds9.scale(type='zscale', frame=2)\n",
      "ds9.zoom(4,141,141, frame=2)\n",
      "ds9.setMaskTransparency(70, frame=2)\n",
      "ds9.line(arrow1sn,ctype='red', frame=2)\n",
      "ds9.line(arrow2sn,ctype='red', frame=2)\n",
      "ds9.dot('look for the SN !',131,151, frame=2)\n",
      "time.sleep(2)\n",
      "ds9.ds9Cmd('saveimage fig2.png', frame=2)\n",
      "time.sleep(2)\n",
      "ds9.mtv(differenceExposure, frame=3)\n",
      "ds9.scale(type='zscale', frame=3)\n",
      "ds9.zoom(4,141,141, frame=3)\n",
      "ds9.setMaskTransparency(70, frame=3)\n",
      "ds9.line(arrow1sn,ctype='red', frame=3)\n",
      "ds9.line(arrow2sn,ctype='red', frame=3)\n",
      "ds9.dot('look for the SN !',131,151, frame=3)\n",
      "time.sleep(2)\n",
      "ds9.ds9Cmd('saveimage fig3.png', frame=3)\n",
      "time.sleep(2)\n",
      "\n",
      "\n",
      "from IPython.display import Image, display_png\n",
      "i1 =  Image(filename = 'fig1.png')\n",
      "i2 = Image(filename = 'fig2.png')\n",
      "i3 = Image(filename = 'fig3.png')\n",
      "display_png(i1)\n",
      "display_png(i2)\n",
      "display_png(i3)"
     ],
     "language": "python",
     "metadata": {},
     "outputs": []
    },
    {
     "cell_type": "code",
     "collapsed": false,
     "input": [
      "import lsst.pipe.tasks.processCoadd as CoaddProcesser\n",
      "\n",
      "DATADIR2=\"/renoir_data_02/jpreyes/lsst_data/data/CFHTLS-4\"\n",
      "\n",
      "CPTask = CoaddProcesser.ProcessCoaddTask\n",
      "#CPTask.parseAndRun(args=((DATASUB3+\"/output/coadd_r_dir --output \"+DATASUB3+\"/output/coadd_r_dir/deepCoaddDetect @\"+DATASUB3+\"/patches_r.txt\").split()))\n",
      "CPTask.parseAndRun(args=((DATADIR2+\"/output/coadd_r_dir --output \"+DATADIR2+\"/output/coadd_r_dir/deepCoaddDetect --id filter=r tract=1 patch=33,15 --config doCalibrate=False doWriteSourceMatches=False --clobber-config\").split()))\n",
      "#CPTask.parseAndRun(args=((DATASUB5+\"/output/coadd_r_dir --output \"+DATASUB5+\"/output/coadd_r_dir/deepCoaddDetect @\"+DATASUB5+\"/patches_r.txt\").split()))"
     ],
     "language": "python",
     "metadata": {},
     "outputs": []
    },
    {
     "cell_type": "code",
     "collapsed": false,
     "input": [],
     "language": "python",
     "metadata": {},
     "outputs": []
    }
   ],
   "metadata": {}
  }
 ]
}