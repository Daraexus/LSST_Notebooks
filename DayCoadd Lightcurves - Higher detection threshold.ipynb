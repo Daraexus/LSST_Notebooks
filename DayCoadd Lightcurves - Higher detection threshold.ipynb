{
 "cells": [
  {
   "cell_type": "code",
   "execution_count": 160,
   "metadata": {
    "collapsed": true,
    "deletable": true,
    "editable": true
   },
   "outputs": [],
   "source": [
    "import lsst.daf.persistence as dafPersist\n",
    "import matplotlib.pyplot as plt\n",
    "import numpy as np\n",
    "\n",
    "import lsst.afw.table as afwTable\n",
    "import lsst.afw.geom as afwGeom\n",
    "import Utils.DiaSourceTools as DSTools\n",
    "from astropy.time import Time\n",
    "\n",
    "import lsst.afw.display.ds9 as ds9\n",
    "\n",
    "import re"
   ]
  },
  {
   "cell_type": "code",
   "execution_count": 161,
   "metadata": {
    "collapsed": true,
    "deletable": true,
    "editable": true
   },
   "outputs": [],
   "source": [
    "DATADIR=\"/datadec/cppm/jpreyes/CFHT_Test/\"\n",
    "DATADIR=\"/renoir_data_02/jpreyes/lsst_data/CFHTLS_daytest/\""
   ]
  },
  {
   "cell_type": "code",
   "execution_count": 162,
   "metadata": {
    "collapsed": false,
    "deletable": true,
    "editable": true
   },
   "outputs": [],
   "source": [
    "directory = DATADIR+\"/detect_testSN_smooth/\"\n",
    "butler = dafPersist.Butler(directory) "
   ]
  },
  {
   "cell_type": "code",
   "execution_count": 164,
   "metadata": {
    "collapsed": false,
    "deletable": true,
    "editable": true
   },
   "outputs": [],
   "source": [
    "patches = []\n",
    "patches_file=open(DATADIR+\"patches.txt\", \"rb\")\n",
    "for line in patches_file:\n",
    "    line = line.replace('\\n','')\n",
    "    text = re.split(\"=| \",line)\n",
    "    patches.append(text[-1])\n",
    "patches_file.close()"
   ]
  },
  {
   "cell_type": "code",
   "execution_count": 165,
   "metadata": {
    "collapsed": true,
    "deletable": true,
    "editable": true
   },
   "outputs": [],
   "source": [
    "#patches = ['25''13,11']"
   ]
  },
  {
   "cell_type": "code",
   "execution_count": 166,
   "metadata": {
    "collapsed": false,
    "deletable": true,
    "editable": true
   },
   "outputs": [
    {
     "name": "stdout",
     "output_type": "stream",
     "text": [
      "['2006-01-02', '2006-01-08', '2006-01-31', '2006-02-03', '2006-02-06', '2006-02-25', '2006-03-05', '2006-04-23', '2006-04-26', '2006-04-30', '2006-05-04', '2006-05-20', '2006-05-24', '2006-05-28', '2006-06-02', '2006-06-06', '2006-06-20', '2006-06-25', '2006-06-30', '2006-07-03', '2006-07-19', '2006-07-23', '2006-07-27']\n",
      "['0,5', '0,6', '0,7', '0,8', '0,9', '0,10', '0,11', '0,12', '0,13', '0,14', '0,15', '0,16', '0,17', '0,18', '0,19', '0,20', '0,21', '0,22', '0,23', '0,24', '0,25', '1,5', '1,6', '1,7', '1,8', '1,9', '1,10', '1,11', '1,12', '1,13', '1,14', '1,15', '1,16', '1,17', '1,18', '1,19', '1,20', '1,21', '1,22', '1,23', '1,24', '1,25', '2,5', '2,6', '2,7', '2,8', '2,9', '2,10', '2,11', '2,12', '2,13', '2,14', '2,15', '2,16', '2,17', '2,18', '2,19', '2,20', '2,21', '2,22', '2,23', '2,24', '2,25', '3,5', '3,6', '3,7', '3,8', '3,9', '3,10', '3,11', '3,12', '3,13', '3,14', '3,15', '3,16', '3,17', '3,18', '3,19', '3,20', '3,21', '3,22', '3,23', '3,24', '3,25', '4,5', '4,6', '4,7', '4,8', '4,9', '4,10', '4,11', '4,12', '4,13', '4,14', '4,15', '4,16', '4,17', '4,18', '4,19', '4,20', '4,21', '4,22', '4,23', '4,24', '4,25', '5,5', '5,6', '5,7', '5,8', '5,9', '5,10', '5,11', '5,12', '5,13', '5,14', '5,15', '5,16', '5,17', '5,18', '5,19', '5,20', '5,21', '5,22', '5,23', '5,24', '5,25', '6,5', '6,6', '6,7', '6,8', '6,9', '6,10', '6,11', '6,12', '6,13', '6,14', '6,15', '6,16', '6,17', '6,18', '6,19', '6,20', '6,21', '6,22', '6,23', '6,24', '6,25', '7,5', '7,6', '7,7', '7,8', '7,9', '7,10', '7,11', '7,12', '7,13', '7,14', '7,15', '7,16', '7,17', '7,18', '7,19', '7,20', '7,21', '7,22', '7,23', '7,24', '7,25', '8,5', '8,6', '8,7', '8,8', '8,9', '8,10', '8,11', '8,12', '8,13', '8,14', '8,15', '8,16', '8,17', '8,18', '8,19', '8,20', '8,21', '8,22', '8,23', '8,24', '8,25', '9,5', '9,6', '9,7', '9,8', '9,9', '9,10', '9,11', '9,12', '9,13', '9,14', '9,15', '9,16', '9,17', '9,18', '9,19', '9,20', '9,21', '9,22', '9,23', '9,24', '9,25', '10,5', '10,6', '10,7', '10,8', '10,9', '10,10', '10,11', '10,12', '10,13', '10,14', '10,15', '10,16', '10,17', '10,18', '10,19', '10,20', '10,21', '10,22', '10,23', '10,24', '10,25', '11,5', '11,6', '11,7', '11,8', '11,9', '11,10', '11,11', '11,12', '11,13', '11,14', '11,15', '11,16', '11,17', '11,18', '11,19', '11,20', '11,21', '11,22', '11,23', '11,24', '11,25', '12,5', '12,6', '12,7', '12,8', '12,9', '12,10', '12,11', '12,12', '12,13', '12,14', '12,15', '12,16', '12,17', '12,18', '12,19', '12,20', '12,21', '12,22', '12,23', '12,24', '12,25', '13,5', '13,6', '13,7', '13,8', '13,9', '13,10', '13,11', '13,12', '13,13', '13,14', '13,15', '13,16', '13,17', '13,18', '13,19', '13,20', '13,21', '13,22', '13,23', '13,24', '13,25', '14,5', '14,6', '14,7', '14,8', '14,9', '14,10', '14,11', '14,12', '14,13', '14,14', '14,15', '14,16', '14,17', '14,18', '14,19', '14,20', '14,21', '14,22', '14,23', '14,24', '14,25', '15,5', '15,6', '15,7', '15,8', '15,9', '15,10', '15,11', '15,12', '15,13', '15,14', '15,15', '15,16', '15,17', '15,18', '15,19', '15,20', '15,21', '15,22', '15,23', '15,24', '15,25', '16,5', '16,6', '16,7', '16,8', '16,9', '16,10', '16,11', '16,12', '16,13', '16,14', '16,15', '16,16', '16,17', '16,18', '16,19', '16,20', '16,21', '16,22', '16,23', '16,24', '16,25', '17,5', '17,6', '17,7', '17,8', '17,9', '17,10', '17,11', '17,12', '17,13', '17,14', '17,15', '17,16', '17,17', '17,18', '17,19', '17,20', '17,21', '17,22', '17,23', '17,24', '17,25', '18,5', '18,6', '18,7', '18,8', '18,9', '18,10', '18,11', '18,12', '18,13', '18,14', '18,15', '18,16', '18,17', '18,18', '18,19', '18,20', '18,21', '18,22', '18,23', '18,24', '18,25', '19,5', '19,6', '19,7', '19,8', '19,9', '19,10', '19,11', '19,12', '19,13', '19,14', '19,15', '19,16', '19,17', '19,18', '19,19', '19,20', '19,21', '19,22', '19,23', '19,24', '19,25', '20,5', '20,6', '20,7', '20,8', '20,9', '20,10', '20,11', '20,12', '20,13', '20,14', '20,15', '20,16', '20,17', '20,18', '20,19', '20,20', '20,21', '20,22', '20,23', '20,24', '20,25', '21,5', '21,6', '21,7', '21,8', '21,9', '21,10', '21,11', '21,12', '21,13', '21,14', '21,15', '21,16', '21,17', '21,18', '21,19', '21,20', '21,21', '21,22', '21,23', '21,24', '21,25', '22,5', '22,6', '22,7', '22,8', '22,9', '22,10', '22,11', '22,12', '22,13', '22,14', '22,15', '22,16', '22,17', '22,18', '22,19', '22,20', '22,21', '22,22', '22,23', '22,24', '22,25', '23,5', '23,6', '23,7', '23,8', '23,9', '23,10', '23,11', '23,12', '23,13', '23,14', '23,15', '23,16', '23,17', '23,18', '23,19', '23,20', '23,21', '23,22', '23,23', '23,24', '23,25', '24,5', '24,6', '24,7', '24,8', '24,9', '24,10', '24,11', '24,12', '24,13', '24,14', '24,15', '24,16', '24,17', '24,18', '24,19', '24,20', '24,21', '24,22', '24,23', '24,24', '24,25', '25,5', '25,6', '25,7', '25,8', '25,9', '25,10', '25,11', '25,12', '25,13', '25,14', '25,15', '25,16', '25,17', '25,18', '25,19', '25,20', '25,21', '25,22', '25,23', '25,24', '25,25', '26,5', '26,6', '26,7', '26,8', '26,9', '26,10', '26,11', '26,12', '26,13', '26,14', '26,15', '26,16', '26,17', '26,18', '26,19', '26,20', '26,21', '26,22', '26,23', '26,24', '26,25', '27,5', '27,6', '27,7', '27,8', '27,9', '27,10', '27,11', '27,12', '27,13', '27,14', '27,15', '27,16', '27,17', '27,18', '27,19', '27,20', '27,21', '27,22', '27,23', '27,24', '27,25', '28,5', '28,6', '28,7', '28,8', '28,9', '28,10', '28,11', '28,12', '28,13', '28,14', '28,15', '28,16', '28,17', '28,18', '28,19', '28,20', '28,21', '28,22', '28,23', '28,24', '28,25']\n"
     ]
    }
   ],
   "source": [
    "dates = []\n",
    "days_file=open(DATADIR+\"day_list.txt\", \"rb\")\n",
    "\n",
    "for day in days_file:\n",
    "    day = day.replace('\\n','')\n",
    "    dates.append(day)\n",
    "\n",
    "days_file.close()\n",
    "print dates\n",
    "print patches"
   ]
  },
  {
   "cell_type": "code",
   "execution_count": 167,
   "metadata": {
    "collapsed": true,
    "deletable": true,
    "editable": true
   },
   "outputs": [],
   "source": [
    "dates_dict = {}\n",
    "for date in dates:\n",
    "    dates_dict[date] = []"
   ]
  },
  {
   "cell_type": "code",
   "execution_count": 168,
   "metadata": {
    "collapsed": false,
    "deletable": true,
    "editable": true
   },
   "outputs": [],
   "source": [
    "catalogs = []\n",
    "\n",
    "for date in dates:\n",
    "    date_catalog = None\n",
    "    for patch in patches:\n",
    "        if butler.datasetExists(\"dayDiff_class_diaSrc\", dataId={\"filter\":'r',\"tract\":0, \"patch\":patch, 'date':date}):\n",
    "            dates_dict[date].append(patch)\n",
    "            if date_catalog is None:\n",
    "                date_catalog = butler.get(\"dayDiff_class_diaSrc\", dataId={\"filter\":'r',\"tract\":0, \"patch\":patch, 'date':date})\n",
    "            else:\n",
    "                date_catalog.extend(butler.get(\"dayDiff_class_diaSrc\", dataId={\"filter\":'r',\"tract\":0, \"patch\":patch, 'date':date}))\n",
    "        \n",
    "    catalogs.append((date, date_catalog))"
   ]
  },
  {
   "cell_type": "code",
   "execution_count": 169,
   "metadata": {
    "collapsed": false,
    "deletable": true,
    "editable": true
   },
   "outputs": [
    {
     "name": "stdout",
     "output_type": "stream",
     "text": [
      "['8,6', '8,7', '8,11', '8,12', '8,14', '8,15', '8,16', '8,17', '9,5', '9,6', '9,7', '9,8', '9,9', '9,10', '9,11', '9,12', '9,13', '9,14', '9,15', '9,16', '9,17', '9,18', '9,19', '9,20', '9,21', '9,22', '9,23', '9,24', '9,25', '10,5', '10,6', '10,7', '10,8', '10,9', '10,10', '10,11', '10,12', '10,13', '10,14', '10,15', '10,16', '10,17', '10,18', '10,19', '10,20', '10,21', '10,22', '10,23', '10,24', '10,25', '11,5', '11,6', '11,7', '11,8', '11,9', '11,10', '11,11', '11,12', '11,13', '11,14', '11,15', '11,16', '11,17', '11,18', '11,19', '11,20', '11,21', '11,22', '11,23', '11,24', '11,25', '12,5', '12,6', '12,7', '12,8', '12,9', '12,10', '12,11', '12,12', '12,13', '12,14', '12,15', '12,16', '12,17', '12,18', '12,19', '12,20', '12,21', '12,22', '12,23', '12,24', '12,25', '13,5', '13,6', '13,7', '13,8', '13,9', '13,10', '13,11', '13,12', '13,13', '13,14', '13,15', '13,16', '13,17', '13,18', '13,19', '13,20', '13,21', '13,22', '13,23', '13,24', '13,25', '14,5', '14,6', '14,7', '14,8', '14,9', '14,10', '14,11', '14,12', '14,13', '14,14', '14,15', '14,16', '14,17', '14,18', '14,19', '14,20', '14,21', '14,22', '14,23', '14,24', '14,25', '15,5', '15,6', '15,7', '15,8', '15,9', '15,10', '15,11', '15,12', '15,13', '15,14', '15,15', '15,16', '15,17', '15,18', '15,19', '15,20', '15,21', '15,22', '15,23', '15,24', '15,25', '16,5', '16,6', '16,7', '16,8', '16,9', '16,10', '16,11', '16,12', '16,13', '16,14', '16,15', '16,16', '16,17', '16,18', '16,19', '16,20', '16,21', '16,22', '16,23', '16,24', '16,25', '17,5', '17,6', '17,7', '17,8', '17,9', '17,10', '17,11', '17,12', '17,13', '17,14', '17,15', '17,16', '17,17', '17,18', '17,19', '17,20', '17,21', '17,22', '17,23', '17,24', '17,25', '18,5', '18,6', '18,7', '18,8', '18,9', '18,10', '18,11', '18,12', '18,13', '18,14', '18,15', '18,16', '18,17', '18,18', '18,19', '18,20', '18,21', '18,22', '18,23', '18,24', '18,25', '19,5', '19,6', '19,7', '19,8', '19,9', '19,10', '19,11', '19,12', '19,13', '19,14', '19,15', '19,16', '19,17', '19,18', '19,19', '19,20', '19,21', '19,22', '19,23', '19,24', '19,25', '20,5', '20,6', '20,7', '20,8', '20,9', '20,10', '20,11', '20,12', '20,13', '20,14', '20,15', '20,16', '20,17', '20,18', '20,19', '20,20', '20,21', '20,22', '20,23', '20,24', '20,25', '21,5', '21,6', '21,7', '21,8', '21,9', '21,10', '21,11', '21,12', '21,13', '21,14', '21,15', '21,16', '21,17', '21,18', '21,19', '21,20', '21,21', '21,22', '21,23', '21,24', '21,25', '22,5', '22,6', '22,7', '22,8', '22,9', '22,10', '22,11', '22,12', '22,13', '22,14', '22,15', '22,16', '22,17', '22,18', '22,19', '22,20', '22,21', '22,22', '22,23', '22,24', '22,25', '23,5', '23,6', '23,7', '23,8', '23,9', '23,10', '23,11', '23,12', '23,13', '23,14', '23,15', '23,16', '23,17', '23,18', '23,19', '23,20', '23,21', '23,22', '23,23', '23,24', '23,25', '24,5', '24,6', '24,7', '24,8', '24,9', '24,10', '24,11', '24,12', '24,13', '24,14', '24,15', '24,16', '24,17', '24,18', '24,19', '24,20', '24,21', '24,22', '24,23', '24,24', '24,25', '25,5', '25,6', '25,7', '25,8', '25,9', '25,10', '25,11', '25,12', '25,13', '25,14', '25,15', '25,16', '25,17', '25,18', '25,19', '25,20', '25,21', '25,22', '25,23', '25,24', '25,25', '26,5', '26,6', '26,7', '26,8', '26,9', '26,10', '26,11', '26,12', '26,13', '26,14', '26,15', '26,16', '26,17', '26,18', '26,19', '26,20', '26,21', '26,22', '26,23', '26,24', '26,25', '27,5', '27,6', '27,7', '27,8', '27,9', '27,10', '27,11', '27,12', '27,13', '27,14', '27,15', '27,16', '27,17', '27,18', '27,19', '27,20', '27,21', '27,22', '27,23', '27,24', '27,25', '28,5', '28,6', '28,7', '28,8', '28,9', '28,10', '28,11', '28,12', '28,13', '28,14', '28,15', '28,16', '28,17', '28,18', '28,19', '28,20', '28,21', '28,22', '28,23', '28,24', '28,25']\n"
     ]
    }
   ],
   "source": [
    "print dates_dict[\"2006-01-02\"]"
   ]
  },
  {
   "cell_type": "code",
   "execution_count": 170,
   "metadata": {
    "collapsed": false,
    "deletable": true,
    "editable": true
   },
   "outputs": [
    {
     "name": "stdout",
     "output_type": "stream",
     "text": [
      "43673\n",
      "59614\n",
      "66304\n",
      "24292\n",
      "31085\n",
      "26296\n",
      "43600\n",
      "23448\n",
      "50678\n",
      "54430\n",
      "50997\n",
      "16417\n",
      "35380\n",
      "33332\n",
      "33388\n",
      "32454\n",
      "27657\n",
      "38928\n",
      "28863\n",
      "24136\n",
      "16810\n",
      "35108\n",
      "24567\n"
     ]
    }
   ],
   "source": [
    "for date,catalog in catalogs:\n",
    "    print len(catalog)"
   ]
  },
  {
   "cell_type": "code",
   "execution_count": 171,
   "metadata": {
    "collapsed": true,
    "deletable": true,
    "editable": true
   },
   "outputs": [],
   "source": [
    "\n",
    "#multi_matches = afwTable.MultiMatch(catalogs[0].schema, {'mjd':int}, radius=afwGeom.Angle(0.000005, afwGeom.radians))"
   ]
  },
  {
   "cell_type": "code",
   "execution_count": null,
   "metadata": {
    "collapsed": true,
    "deletable": true,
    "editable": true
   },
   "outputs": [],
   "source": []
  },
  {
   "cell_type": "code",
   "execution_count": 172,
   "metadata": {
    "collapsed": false,
    "deletable": true,
    "editable": true
   },
   "outputs": [
    {
     "name": "stdout",
     "output_type": "stream",
     "text": [
      "53737.0\n",
      "53743.0\n",
      "53766.0\n",
      "53769.0\n",
      "53772.0\n",
      "53791.0\n",
      "53799.0\n",
      "53848.0\n",
      "53851.0\n",
      "53855.0\n",
      "53859.0\n",
      "53875.0\n",
      "53879.0\n",
      "53883.0\n",
      "53888.0\n",
      "53892.0\n",
      "53906.0\n",
      "53911.0\n",
      "53916.0\n",
      "53919.0\n",
      "53935.0\n",
      "53939.0\n",
      "53943.0\n"
     ]
    }
   ],
   "source": [
    "multi_matches = afwTable.MultiMatch(catalogs[0][-1].schema, {'mjd':int}, radius=afwGeom.Angle(1./3600., afwGeom.degrees))\n",
    "for date, catalog in catalogs:\n",
    "    t = Time(date)\n",
    "\n",
    "    multi_matches.add(catalog, {'mjd':int(t.mjd)})\n",
    "    print t.mjd\n",
    "results = multi_matches.finish(removeAmbiguous=False)"
   ]
  },
  {
   "cell_type": "code",
   "execution_count": null,
   "metadata": {
    "collapsed": true,
    "deletable": true,
    "editable": true
   },
   "outputs": [],
   "source": [
    "multi_matches = afwTable.MultiMatch(catalogs[0][-1].schema, {'mjd':int}, radius=afwGeom.Angle(1./3600., afwGeom.degrees))\n",
    "\n",
    "for date in dates:\n",
    "    t = Time(date)\n",
    "    date_catalog = None\n",
    "    for patch in patches:\n",
    "        if butler.datasetExists(\"dayDiff_class_diaSrc\", dataId={\"filter\":'r',\"tract\":0, \"patch\":patch, 'date':date}):\n",
    "            date_catalog = butler.get(\"dayDiff_class_diaSrc\", dataId={\"filter\":'r',\"tract\":0, \"patch\":patch, 'date':date})\n",
    "            multi_matches.add(date_catalog, {'mjd':int(t.mjd)})\n",
    "        \n",
    "    \n",
    "results = multi_matches.finish(removeAmbiguous=False)    "
   ]
  },
  {
   "cell_type": "code",
   "execution_count": null,
   "metadata": {
    "collapsed": true,
    "deletable": true,
    "editable": true
   },
   "outputs": [],
   "source": [
    "lcs = DSTools.get_light_curves_from_multimatch_results2(results)"
   ]
  },
  {
   "cell_type": "code",
   "execution_count": null,
   "metadata": {
    "collapsed": false,
    "deletable": true,
    "editable": true
   },
   "outputs": [],
   "source": [
    "len(lcs)"
   ]
  },
  {
   "cell_type": "code",
   "execution_count": null,
   "metadata": {
    "collapsed": true,
    "deletable": true,
    "editable": true
   },
   "outputs": [],
   "source": [
    "t_lcs = DSTools.threshold_light_curves(lcs, 3)"
   ]
  },
  {
   "cell_type": "code",
   "execution_count": null,
   "metadata": {
    "collapsed": false,
    "deletable": true,
    "editable": true
   },
   "outputs": [],
   "source": [
    "len(t_lcs)"
   ]
  },
  {
   "cell_type": "code",
   "execution_count": null,
   "metadata": {
    "collapsed": false,
    "deletable": true,
    "editable": true
   },
   "outputs": [],
   "source": [
    "\n",
    "stack_lc = []\n",
    "for t_lc in t_lcs:\n",
    "    stack_lc.append(DSTools.build_lightcurve3(t_lc, \"base_CircularApertureFlux_3_0_flux\"))"
   ]
  },
  {
   "cell_type": "code",
   "execution_count": null,
   "metadata": {
    "collapsed": false,
    "deletable": true,
    "editable": true
   },
   "outputs": [],
   "source": []
  },
  {
   "cell_type": "code",
   "execution_count": 26,
   "metadata": {
    "collapsed": false,
    "deletable": true,
    "editable": true,
    "scrolled": false
   },
   "outputs": [
    {
     "name": "stdout",
     "output_type": "stream",
     "text": [
      "06D3bz 214.291841667 53.024825\n"
     ]
    },
    {
     "data": {
      "image/png": "[encoded data removed]",
      "text/plain": [
       "<matplotlib.figure.Figure at 0x7f061dd673d0>"
      ]
     },
     "metadata": {},
     "output_type": "display_data"
    },
    {
     "name": "stdout",
     "output_type": "stream",
     "text": [
      "06D3cb 215.181558333 52.1910638889\n"
     ]
    },
    {
     "data": {
      "image/png": "[encoded data removed]",
      "text/plain": [
       "<matplotlib.figure.Figure at 0x7f061e214710>"
      ]
     },
     "metadata": {},
     "output_type": "display_data"
    },
    {
     "name": "stdout",
     "output_type": "stream",
     "text": [
      "06D3cc 214.381666667 52.9124722222\n"
     ]
    },
    {
     "data": {
      "image/png": "[encoded data removed]",
      "text/plain": [
       "<matplotlib.figure.Figure at 0x7f061df234d0>"
      ]
     },
     "metadata": {},
     "output_type": "display_data"
    },
    {
     "name": "stdout",
     "output_type": "stream",
     "text": [
      "06D3cn 214.8577 52.6409833333\n"
     ]
    },
    {
     "data": {
      "image/png": "[encoded data removed]",
      "text/plain": [
       "<matplotlib.figure.Figure at 0x7f062097da10>"
      ]
     },
     "metadata": {},
     "output_type": "display_data"
    },
    {
     "name": "stdout",
     "output_type": "stream",
     "text": [
      "06D3df 215.571704167 52.9576805556\n"
     ]
    },
    {
     "data": {
      "image/png": "[encoded data removed]",
      "text/plain": [
       "<matplotlib.figure.Figure at 0x7f061e25e850>"
      ]
     },
     "metadata": {},
     "output_type": "display_data"
    },
    {
     "name": "stdout",
     "output_type": "stream",
     "text": [
      "06D3dl 215.552404167 52.6408472222\n"
     ]
    },
    {
     "data": {
      "image/png": "[encoded data removed]",
      "text/plain": [
       "<matplotlib.figure.Figure at 0x7f061df4db10>"
      ]
     },
     "metadata": {},
     "output_type": "display_data"
    },
    {
     "name": "stdout",
     "output_type": "stream",
     "text": [
      "06D3do 214.247466667 52.8825444444\n"
     ]
    },
    {
     "data": {
      "image/png": "[encoded data removed]",
      "text/plain": [
       "<matplotlib.figure.Figure at 0x7f061e24f650>"
      ]
     },
     "metadata": {},
     "output_type": "display_data"
    },
    {
     "name": "stdout",
     "output_type": "stream",
     "text": [
      "06D3dt 214.340266667 52.4528166667\n"
     ]
    },
    {
     "data": {
      "image/png": "[encoded data removed]",
      "text/plain": [
       "<matplotlib.figure.Figure at 0x7f061e24f950>"
      ]
     },
     "metadata": {},
     "output_type": "display_data"
    },
    {
     "name": "stdout",
     "output_type": "stream",
     "text": [
      "06D3ed 214.699175 52.7565583333\n"
     ]
    },
    {
     "data": {
      "image/png": "[encoded data removed]",
      "text/plain": [
       "<matplotlib.figure.Figure at 0x7f061e24f450>"
      ]
     },
     "metadata": {},
     "output_type": "display_data"
    },
    {
     "name": "stdout",
     "output_type": "stream",
     "text": [
      "06D3el 214.254529167 52.2324\n"
     ]
    },
    {
     "data": {
      "image/png": "[encoded data removed]",
      "text/plain": [
       "<matplotlib.figure.Figure at 0x7f061dcd3cd0>"
      ]
     },
     "metadata": {},
     "output_type": "display_data"
    },
    {
     "name": "stdout",
     "output_type": "stream",
     "text": [
      "06D3em 214.847579167 53.0230138889\n"
     ]
    },
    {
     "data": {
      "image/png": "[encoded data removed]",
      "text/plain": [
       "<matplotlib.figure.Figure at 0x7f061dfd0610>"
      ]
     },
     "metadata": {},
     "output_type": "display_data"
    },
    {
     "name": "stdout",
     "output_type": "stream",
     "text": [
      "06D3en 215.305566667 52.4560777778\n"
     ]
    },
    {
     "data": {
      "image/png": "[encoded data removed]",
      "text/plain": [
       "<matplotlib.figure.Figure at 0x7f061dcd3e50>"
      ]
     },
     "metadata": {},
     "output_type": "display_data"
    },
    {
     "name": "stdout",
     "output_type": "stream",
     "text": [
      "06D3et 215.519875 52.3383666667\n"
     ]
    },
    {
     "data": {
      "image/png": "[encoded data removed]",
      "text/plain": [
       "<matplotlib.figure.Figure at 0x7f061e3a4c50>"
      ]
     },
     "metadata": {},
     "output_type": "display_data"
    },
    {
     "name": "stdout",
     "output_type": "stream",
     "text": [
      "06D3fp 215.077520833 52.8971638889\n"
     ]
    },
    {
     "data": {
      "image/png": "[encoded data removed]",
      "text/plain": [
       "<matplotlib.figure.Figure at 0x7f061e00aa50>"
      ]
     },
     "metadata": {},
     "output_type": "display_data"
    },
    {
     "name": "stdout",
     "output_type": "stream",
     "text": [
      "06D3gh 214.6309125 52.4429083333\n"
     ]
    },
    {
     "data": {
      "image/png": "[encoded data removed]",
      "text/plain": [
       "<matplotlib.figure.Figure at 0x7f061dbfc210>"
      ]
     },
     "metadata": {},
     "output_type": "display_data"
    },
    {
     "name": "stdout",
     "output_type": "stream",
     "text": [
      "06D3gn 214.435958333 52.3611805556\n"
     ]
    },
    {
     "data": {
      "image/png": "[encoded data removed]",
      "text/plain": [
       "<matplotlib.figure.Figure at 0x7f061e151f10>"
      ]
     },
     "metadata": {},
     "output_type": "display_data"
    },
    {
     "name": "stdout",
     "output_type": "stream",
     "text": [
      "06D3gx 214.263475 52.9362527778\n"
     ]
    },
    {
     "data": {
      "image/png": "[encoded data removed]",
      "text/plain": [
       "<matplotlib.figure.Figure at 0x7f061e151a90>"
      ]
     },
     "metadata": {},
     "output_type": "display_data"
    }
   ],
   "source": [
    "%matplotlib inline\n",
    "import re\n",
    "import astropy.coordinates as coord\n",
    "import astropy.units as u\n",
    "\n",
    "filter='r'\n",
    "\n",
    "f = open('/renoir_data_02/jpreyes/lsst_data/sn_control/J_A+A_523_A7_table9.dat.txt','r')\n",
    "data_elems = f.read()\n",
    "elems = re.findall('^(06D3.*?)\\\\|(.*?)\\\\|', data_elems, re.MULTILINE)\n",
    "\n",
    "f = open('/renoir_data_02/jpreyes/lsst_data/sn_control/J_A+A_523_A7_table10.dat.txt','r')\n",
    "data = f.read()\n",
    "\n",
    "snls_array = []\n",
    "for sn in elems:\n",
    "    c = coord.SkyCoord(sn[-1], unit=(u.hourangle, u.deg))\n",
    "    \n",
    "    m = re.findall('^'+str(sn[0])+'\\\\|('+filter+')\\\\|(.*?)\\\\|(.*?)\\\\|(.*?)$', data, re.MULTILINE)\n",
    "\n",
    "    snls_lc = DSTools.build_light_curve_from_snls_file(m, c)\n",
    "   \n",
    "    print sn[0], c.ra.deg, c.dec.deg\n",
    "    \n",
    "    plt.errorbar(snls_lc['mjd'], snls_lc['flux'], yerr=snls_lc['flux_error'], fmt='.', color='blue')\n",
    "    snls_array.append(snls_lc)\n",
    "    plt.show()"
   ]
  },
  {
   "cell_type": "code",
   "execution_count": 96,
   "metadata": {
    "collapsed": false,
    "deletable": true,
    "editable": true
   },
   "outputs": [
    {
     "data": {
      "text/plain": [
       "0.0"
      ]
     },
     "execution_count": 96,
     "metadata": {},
     "output_type": "execute_result"
    }
   ],
   "source": [
    "\n",
    "matches = DSTools.match_control_group(stack_lc,snls_array)\n",
    "float(len(matches))/float(len(snls_array))"
   ]
  },
  {
   "cell_type": "code",
   "execution_count": 21,
   "metadata": {
    "collapsed": false,
    "deletable": true,
    "editable": true
   },
   "outputs": [
    {
     "data": {
      "text/plain": [
       "0"
      ]
     },
     "execution_count": 21,
     "metadata": {},
     "output_type": "execute_result"
    }
   ],
   "source": [
    "len(matches)"
   ]
  },
  {
   "cell_type": "code",
   "execution_count": 22,
   "metadata": {
    "collapsed": false,
    "deletable": true,
    "editable": true
   },
   "outputs": [
    {
     "name": "stdout",
     "output_type": "stream",
     "text": [
      "light curve\n",
      "214.291841667 53.024825\n",
      "here 3\n",
      "light curve\n",
      "215.181558333 52.1910638889\n",
      "light curve\n",
      "214.381666667 52.9124722222\n",
      "light curve\n",
      "214.8577 52.6409833333\n",
      "light curve\n",
      "215.571704167 52.9576805556\n",
      "light curve\n",
      "215.552404167 52.6408472222\n",
      "light curve\n",
      "214.247466667 52.8825444444\n",
      "light curve\n",
      "214.340266667 52.4528166667\n",
      "light curve\n",
      "214.699175 52.7565583333\n",
      "light curve\n",
      "214.254529167 52.2324\n",
      "light curve\n",
      "214.847579167 53.0230138889\n",
      "light curve\n",
      "215.305566667 52.4560777778\n",
      "light curve\n",
      "215.519875 52.3383666667\n",
      "light curve\n",
      "215.077520833 52.8971638889\n",
      "light curve\n",
      "214.6309125 52.4429083333\n",
      "light curve\n",
      "214.435958333 52.3611805556\n",
      "light curve\n",
      "214.263475 52.9362527778\n"
     ]
    }
   ],
   "source": [
    "for lc in snls_array:\n",
    "    print \"light curve\"\n",
    "    val = {\"ra\":lc[0][\"ra\"], \"dec\":lc[0][\"dec\"]}\n",
    "    print np.rad2deg(lc[0][\"ra\"]), np.rad2deg(lc[0][\"dec\"])\n",
    "    for slc in stack_lc:\n",
    "\n",
    "        comp = {\"ra\":np.mean(slc[\"ra\"]), \"dec\":np.mean(slc[\"dec\"])}\n",
    "        if DSTools.source_distance(val, comp)<1:\n",
    "            print \"here\", len(slc)\n",
    "\n",
    "        #print np.rad2deg(float(np.mean(slc[\"ra\"]))), np.rad2deg(float(np.mean(slc[\"dec\"])))\n",
    "\n",
    "        "
   ]
  },
  {
   "cell_type": "code",
   "execution_count": 23,
   "metadata": {
    "collapsed": false,
    "deletable": true,
    "editable": true
   },
   "outputs": [
    {
     "name": "stdout",
     "output_type": "stream",
     "text": [
      "{'dec': 0.92391190464021633, 'ra': 3.7396031055145569} {'dec': 0.925991 rad, 'ra': 3.74022 rad}\n"
     ]
    }
   ],
   "source": [
    "print val, comp"
   ]
  },
  {
   "cell_type": "code",
   "execution_count": 157,
   "metadata": {
    "collapsed": false,
    "deletable": true,
    "editable": true
   },
   "outputs": [
    {
     "name": "stdout",
     "output_type": "stream",
     "text": [
      "1\n"
     ]
    }
   ],
   "source": [
    "matches = []\n",
    "for lc in snls_array:\n",
    "    #print \"light curve\"\n",
    "    val = {\"ra\":lc[0][\"ra\"], \"dec\":lc[0][\"dec\"]}\n",
    "    #print np.rad2deg(lc[0][\"ra\"]), np.rad2deg(lc[0][\"dec\"])\n",
    "    for slc in stack_lc:\n",
    "\n",
    "        comp = {\"ra\":np.mean(slc[\"ra\"]), \"dec\":np.mean(slc[\"dec\"])}\n",
    "        if DSTools.source_distance(val, comp)<1:\n",
    "            matches.append((lc,slc))\n",
    "            \n",
    "            \n",
    "print len(matches)"
   ]
  },
  {
   "cell_type": "code",
   "execution_count": 158,
   "metadata": {
    "collapsed": false,
    "deletable": true,
    "editable": true
   },
   "outputs": [
    {
     "name": "stdout",
     "output_type": "stream",
     "text": [
      "215.305566667 52.4560777778\n"
     ]
    }
   ],
   "source": [
    "for match in matches:\n",
    "    print np.rad2deg(match[0][0]['ra']), np.rad2deg(match[0][0]['dec'])"
   ]
  },
  {
   "cell_type": "code",
   "execution_count": 159,
   "metadata": {
    "collapsed": false,
    "deletable": true,
    "editable": true,
    "scrolled": false
   },
   "outputs": [
    {
     "name": "stdout",
     "output_type": "stream",
     "text": [
      "4\n",
      "215.305566667 52.4560777778\n"
     ]
    },
    {
     "data": {
      "image/png": "[encoded data removed]",
      "text/plain": [
       "<matplotlib.figure.Figure at 0x7f061de5b310>"
      ]
     },
     "metadata": {},
     "output_type": "display_data"
    }
   ],
   "source": [
    "for match in matches:\n",
    "    print len(match[-1])\n",
    "    print np.rad2deg(match[0][0]['ra']), np.rad2deg(match[0][0]['dec'])\n",
    "    lc_fluxes = match[0][\"flux\"]\n",
    "    factor = max(match[-1]['flux']) / max(lc_fluxes)\n",
    "    lc_fluxes = np.multiply(lc_fluxes, factor)\n",
    "    lc_errors = np.multiply(match[0][\"flux_error\"], factor)\n",
    "    \n",
    "    plt.figure(figsize=(20,10))\n",
    "    plt.errorbar(match[-1][\"mjd\"], match[-1][\"flux\"],yerr=match[-1][\"flux_error\"], fmt='.', markersize='5')\n",
    "    plt.errorbar(match[0][\"mjd\"], lc_fluxes, yerr=lc_errors, fmt='.', markersize='5')\n",
    "    plt.show()"
   ]
  },
  {
   "cell_type": "code",
   "execution_count": 100,
   "metadata": {
    "collapsed": false,
    "deletable": true,
    "editable": true,
    "scrolled": false
   },
   "outputs": [],
   "source": [
    "for match in matches:\n",
    "    print len(match[0])\n",
    "    lc_fluxes = match[0][\"flux\"]\n",
    "    factor = max(match[-1]['flux']) / max(lc_fluxes)\n",
    "    lc_fluxes = np.multiply(lc_fluxes, factor)\n",
    "    lc_errors = np.multiply(match[0][\"flux_error\"], factor)\n",
    "    \n",
    "    plt.figure(figsize=(20,10))\n",
    "    plt.errorbar(match[-1][\"mjd\"], match[-1][\"flux\"],yerr=match[-1][\"flux_error\"], fmt='.', markersize='5')\n",
    "    plt.errorbar(match[0][\"mjd\"], lc_fluxes, yerr=lc_errors, fmt='.', markersize='5')\n",
    "    plt.show()"
   ]
  },
  {
   "cell_type": "code",
   "execution_count": 101,
   "metadata": {
    "collapsed": false,
    "deletable": true,
    "editable": true
   },
   "outputs": [],
   "source": [
    "date = dates[0]\n",
    "patch_and_coord = []\n",
    "degrees = []\n",
    "for lc in snls_array:\n",
    "    for patch in patches:\n",
    "\n",
    "        if butler.datasetExists(\"dayDiff_differenceExp\", dataId={\"filter\":'r',\"tract\":0, \"patch\":patch, 'date':date}):\n",
    "                dayDiff = butler.get(\"dayDiff_differenceExp\", dataId={\"filter\":'r',\"tract\":0, \"patch\":patch, 'date':date})\n",
    "                bbox = dayDiff.getBBox()\n",
    "                wcs = dayDiff.getWcs()\n",
    "                \n",
    "                angle_ra = afwGeom.Angle(lc[0][\"ra\"])\n",
    "                angle_dec = afwGeom.Angle(lc[0][\"dec\"])\n",
    "                coord = wcs.skyToPixel(angle_ra, angle_dec)\n",
    "                \n",
    "                if bbox.contains(afwGeom.Point2I(coord)):\n",
    "                    patch_and_coord.append((patch, angle_ra.asDegrees(), angle_dec.asDegrees(), np.median(lc['mjd'])))\n",
    "                    #break\n",
    "                    \n",
    "    degrees.append(coord)"
   ]
  },
  {
   "cell_type": "code",
   "execution_count": 102,
   "metadata": {
    "collapsed": false,
    "deletable": true,
    "editable": true
   },
   "outputs": [
    {
     "name": "stdout",
     "output_type": "stream",
     "text": [
      "214.291841667 53.024825\n",
      "215.181558333 52.1910638889\n",
      "214.381666667 52.9124722222\n",
      "214.8577 52.6409833333\n",
      "215.571704167 52.9576805556\n",
      "215.552404167 52.6408472222\n",
      "214.247466667 52.8825444444\n",
      "214.340266667 52.4528166667\n",
      "214.699175 52.7565583333\n",
      "214.254529167 52.2324\n",
      "214.847579167 53.0230138889\n",
      "215.305566667 52.4560777778\n",
      "215.519875 52.3383666667\n",
      "215.077520833 52.8971638889\n",
      "214.6309125 52.4429083333\n",
      "214.435958333 52.3611805556\n",
      "214.263475 52.9362527778\n"
     ]
    }
   ],
   "source": [
    "for lc in snls_array:\n",
    "    print np.rad2deg(lc[0][\"ra\"]), np.rad2deg(lc[0][\"dec\"])"
   ]
  },
  {
   "cell_type": "code",
   "execution_count": 103,
   "metadata": {
    "collapsed": false,
    "deletable": true,
    "editable": true
   },
   "outputs": [
    {
     "data": {
      "text/plain": [
       "[Point2D(25323.18874, 22303.84902),\n",
       " Point2D(14840.43981, 6058.773333),\n",
       " Point2D(24286.84096, 20109.64456),\n",
       " Point2D(18701.97249, 14806.75441),\n",
       " Point2D(10330.56728, 21009.1521),\n",
       " Point2D(10498.7165, 14841.67938),\n",
       " Point2D(25866.73134, 19539.56048),\n",
       " Point2D(24839.16963, 11168.46853),\n",
       " Point2D(20568.37307, 17058.296),\n",
       " Point2D(25892.95755, 6887.154183),\n",
       " Point2D(18818.65779, 22240.92673),\n",
       " Point2D(13391.91137, 11223.69696),\n",
       " Point2D(10830.02805, 8951.9238),\n",
       " Point2D(16120.33044, 19795.23409),\n",
       " Point2D(21393.0068, 10957.08075),\n",
       " Point2D(23715.23112, 9377.55081),\n",
       " Point2D(25669.85971, 20583.06095)]"
      ]
     },
     "execution_count": 103,
     "metadata": {},
     "output_type": "execute_result"
    }
   ],
   "source": [
    "degrees"
   ]
  },
  {
   "cell_type": "code",
   "execution_count": 73,
   "metadata": {
    "collapsed": false,
    "deletable": true,
    "editable": true
   },
   "outputs": [
    {
     "data": {
      "text/plain": [
       "[('25,22', 214.29184166666664, 53.024825, 53875.5),\n",
       " ('14,6', 215.18155833333333, 52.191063888888884, 53875.5),\n",
       " ('24,20', 214.38166666666666, 52.91247222222222, 53875.510000000002),\n",
       " ('25,19', 214.24746666666664, 52.88254444444444, 53890.364999999998),\n",
       " ('18,22', 214.84757916666663, 53.02301388888889, 53890.364999999998),\n",
       " ('13,11', 215.30556666666664, 52.45607777777778, 53890.364999999998),\n",
       " ('25,20', 214.26347499999997, 52.936252777777774, 53913.809999999998)]"
      ]
     },
     "execution_count": 73,
     "metadata": {},
     "output_type": "execute_result"
    }
   ],
   "source": [
    "patch_and_coord"
   ]
  },
  {
   "cell_type": "code",
   "execution_count": 141,
   "metadata": {
    "collapsed": false,
    "deletable": true,
    "editable": true
   },
   "outputs": [
    {
     "name": "stdout",
     "output_type": "stream",
     "text": [
      "(14840, 6058.8)\n",
      "(14840, 6058.8)\n",
      "(14840, 6058.8)\n",
      "(14840, 6058.8)\n"
     ]
    }
   ],
   "source": [
    "pa = '14,6'\n",
    "ra = 215.18155833333333\n",
    "dec = 52.191063888888884\n",
    "#exp = \"dayCoadd\"\n",
    "exp = \"dayDiff_differenceExp\"\n",
    "\n",
    "visualize(pa, '2006-01-02', ra , dec , exp, frame = 1)\n",
    "visualize(pa, '2006-01-08', ra, dec,exp, frame = 2)\n",
    "visualize(pa, '2006-01-31', ra, dec,exp, frame = 3)\n",
    "visualize(pa, '2006-02-03', ra, dec,exp, frame = 4)"
   ]
  },
  {
   "cell_type": "code",
   "execution_count": 142,
   "metadata": {
    "collapsed": false,
    "deletable": true,
    "editable": true
   },
   "outputs": [
    {
     "name": "stdout",
     "output_type": "stream",
     "text": [
      "(14840, 6058.8)\n",
      "(14840, 6058.8)\n"
     ]
    }
   ],
   "source": [
    "visualize(pa, '2006-02-06', ra , dec , exp, frame = 5)\n",
    "#visualize(pa, '2006-02-08', ra , dec , exp, frame = 6)\n",
    "visualize(pa, '2006-02-25', ra , dec , exp, frame = 7)\n",
    "#visualize(pa, '2006-02-20', ra , dec , exp, frame = 8)"
   ]
  },
  {
   "cell_type": "code",
   "execution_count": 31,
   "metadata": {
    "collapsed": false,
    "deletable": true,
    "editable": true
   },
   "outputs": [],
   "source": [
    "def visualize(patch, date, ra, dec, exp, frame=1):\n",
    "    \n",
    "    dataId= {\"filter\":'r',\"tract\":0, \"patch\":patch, 'date':date}\n",
    "    dayDiff = butler.get(exp, dataId=dataId)\n",
    "    catalog = butler.get(\"dayDiff_class_diaSrc\", dataId=dataId)\n",
    "    ds9.mtv(dayDiff, frame=frame)\n",
    "    ds9.setMaskTransparency(100, frame=frame)\n",
    "    for source in catalog:\n",
    "\n",
    "        ds9.dot(\"o\", source.getX(), source.getY(), size = 25, ctype = ds9.RED, frame=frame)\n",
    "\n",
    "    bbox = dayDiff.getBBox()\n",
    "    wcs = dayDiff.getWcs()\n",
    "\n",
    "    angle_ra = afwGeom.Angle(ra, afwGeom.degrees)\n",
    "    angle_dec = afwGeom.Angle( dec , afwGeom.degrees)\n",
    "    coord = wcs.skyToPixel(angle_ra, angle_dec)\n",
    "    print coord\n",
    "    ds9.dot(\"o\", coord.getX(), coord.getY(), size = 20, ctype = ds9.BLUE, frame=frame)"
   ]
  },
  {
   "cell_type": "code",
   "execution_count": 120,
   "metadata": {
    "collapsed": false,
    "deletable": true,
    "editable": true
   },
   "outputs": [
    {
     "name": "stdout",
     "output_type": "stream",
     "text": [
      "Box2I((11900, 4900), (13099, 6099))\n",
      "Box2I((11900, 5900), (13099, 7099))\n",
      "Box2I((11900, 6900), (13099, 8099))\n",
      "Box2I((11900, 7900), (13099, 9099))\n",
      "Box2I((11900, 8900), (13099, 10099))\n",
      "Box2I((11900, 9900), (13099, 11099))\n",
      "Box2I((11900, 10900), (13099, 12099))\n",
      "Box2I((11900, 11900), (13099, 13099))\n",
      "Box2I((11900, 12900), (13099, 14099))\n",
      "Box2I((11900, 13900), (13099, 15099))\n",
      "Box2I((11900, 14900), (13099, 16099))\n",
      "Box2I((11900, 15900), (13099, 17099))\n",
      "Box2I((11900, 16900), (13099, 18099))\n",
      "Box2I((11900, 17900), (13099, 19099))\n",
      "Box2I((11900, 18900), (13099, 20099))\n",
      "Box2I((11900, 19900), (13099, 21099))\n",
      "Box2I((11900, 20900), (13099, 22099))\n",
      "Box2I((11900, 21900), (13099, 23099))\n",
      "Box2I((11900, 22900), (13099, 24099))\n",
      "Box2I((11900, 23900), (13099, 25099))\n",
      "Box2I((11900, 24900), (13099, 26099))\n",
      "Box2I((12900, 4900), (14099, 6099))\n",
      "Box2I((12900, 5900), (14099, 7099))\n",
      "Box2I((12900, 6900), (14099, 8099))\n",
      "Box2I((12900, 7900), (14099, 9099))\n",
      "Box2I((12900, 8900), (14099, 10099))\n",
      "Box2I((12900, 9900), (14099, 11099))\n",
      "Box2I((12900, 10900), (14099, 12099))\n",
      "Box2I((12900, 11900), (14099, 13099))\n",
      "Box2I((12900, 12900), (14099, 14099))\n",
      "Box2I((12900, 13900), (14099, 15099))\n",
      "Box2I((12900, 14900), (14099, 16099))\n",
      "Box2I((12900, 15900), (14099, 17099))\n",
      "Box2I((12900, 16900), (14099, 18099))\n",
      "Box2I((12900, 17900), (14099, 19099))\n",
      "Box2I((12900, 18900), (14099, 20099))\n",
      "Box2I((12900, 19900), (14099, 21099))\n",
      "Box2I((12900, 20900), (14099, 22099))\n",
      "Box2I((12900, 21900), (14099, 23099))\n",
      "Box2I((12900, 22900), (14099, 24099))\n",
      "Box2I((12900, 23900), (14099, 25099))\n",
      "Box2I((12900, 24900), (14099, 26099))\n",
      "Box2I((13900, 4900), (15099, 6099))\n",
      "Box2I((13900, 5900), (15099, 7099))\n",
      "Box2I((13900, 6900), (15099, 8099))\n",
      "Box2I((13900, 7900), (15099, 9099))\n",
      "Box2I((13900, 8900), (15099, 10099))\n",
      "Box2I((13900, 9900), (15099, 11099))\n",
      "Box2I((13900, 10900), (15099, 12099))\n",
      "Box2I((13900, 11900), (15099, 13099))\n",
      "Box2I((13900, 12900), (15099, 14099))\n",
      "Box2I((13900, 13900), (15099, 15099))\n",
      "Box2I((13900, 14900), (15099, 16099))\n",
      "Box2I((13900, 15900), (15099, 17099))\n",
      "Box2I((13900, 16900), (15099, 18099))\n",
      "Box2I((13900, 17900), (15099, 19099))\n",
      "Box2I((13900, 18900), (15099, 20099))\n",
      "Box2I((13900, 19900), (15099, 21099))\n",
      "Box2I((13900, 20900), (15099, 22099))\n",
      "Box2I((13900, 21900), (15099, 23099))\n",
      "Box2I((13900, 22900), (15099, 24099))\n",
      "Box2I((13900, 23900), (15099, 25099))\n",
      "Box2I((13900, 24900), (15099, 26099))\n",
      "Box2I((14900, 4900), (16099, 6099))\n",
      "Box2I((14900, 5900), (16099, 7099))\n",
      "Box2I((14900, 6900), (16099, 8099))\n",
      "Box2I((14900, 7900), (16099, 9099))\n",
      "Box2I((14900, 8900), (16099, 10099))\n",
      "Box2I((14900, 9900), (16099, 11099))\n",
      "Box2I((14900, 10900), (16099, 12099))\n",
      "Box2I((14900, 11900), (16099, 13099))\n",
      "Box2I((14900, 12900), (16099, 14099))\n",
      "Box2I((14900, 13900), (16099, 15099))\n",
      "Box2I((14900, 14900), (16099, 16099))\n",
      "Box2I((14900, 15900), (16099, 17099))\n",
      "Box2I((14900, 16900), (16099, 18099))\n",
      "Box2I((14900, 17900), (16099, 19099))\n",
      "Box2I((14900, 18900), (16099, 20099))\n",
      "Box2I((14900, 19900), (16099, 21099))\n",
      "Box2I((14900, 20900), (16099, 22099))\n",
      "Box2I((14900, 21900), (16099, 23099))\n",
      "Box2I((14900, 22900), (16099, 24099))\n",
      "Box2I((14900, 23900), (16099, 25099))\n",
      "Box2I((14900, 24900), (16099, 26099))\n",
      "Box2I((15900, 4900), (17099, 6099))\n",
      "Box2I((15900, 5900), (17099, 7099))\n",
      "Box2I((15900, 6900), (17099, 8099))\n",
      "Box2I((15900, 7900), (17099, 9099))\n",
      "Box2I((15900, 8900), (17099, 10099))\n",
      "Box2I((15900, 9900), (17099, 11099))\n",
      "Box2I((15900, 10900), (17099, 12099))\n",
      "Box2I((15900, 11900), (17099, 13099))\n",
      "Box2I((15900, 12900), (17099, 14099))\n",
      "Box2I((15900, 13900), (17099, 15099))\n",
      "Box2I((15900, 14900), (17099, 16099))\n",
      "Box2I((15900, 15900), (17099, 17099))\n",
      "Box2I((15900, 16900), (17099, 18099))\n",
      "Box2I((15900, 17900), (17099, 19099))\n",
      "Box2I((15900, 18900), (17099, 20099))\n",
      "Box2I((15900, 19900), (17099, 21099))\n",
      "Box2I((15900, 20900), (17099, 22099))\n",
      "Box2I((15900, 21900), (17099, 23099))\n",
      "Box2I((15900, 22900), (17099, 24099))\n",
      "Box2I((15900, 23900), (17099, 25099))\n",
      "Box2I((15900, 24900), (17099, 26099))\n",
      "Box2I((16900, 4900), (18099, 6099))\n",
      "Box2I((16900, 5900), (18099, 7099))\n",
      "Box2I((16900, 6900), (18099, 8099))\n",
      "Box2I((16900, 7900), (18099, 9099))\n",
      "Box2I((16900, 8900), (18099, 10099))\n",
      "Box2I((16900, 9900), (18099, 11099))\n",
      "Box2I((16900, 10900), (18099, 12099))\n",
      "Box2I((16900, 11900), (18099, 13099))\n",
      "Box2I((16900, 12900), (18099, 14099))\n",
      "Box2I((16900, 13900), (18099, 15099))\n",
      "Box2I((16900, 14900), (18099, 16099))\n",
      "Box2I((16900, 15900), (18099, 17099))\n",
      "Box2I((16900, 16900), (18099, 18099))\n",
      "Box2I((16900, 17900), (18099, 19099))\n",
      "Box2I((16900, 18900), (18099, 20099))\n",
      "Box2I((16900, 19900), (18099, 21099))\n",
      "Box2I((16900, 20900), (18099, 22099))\n",
      "Box2I((16900, 21900), (18099, 23099))\n",
      "Box2I((16900, 22900), (18099, 24099))\n",
      "Box2I((16900, 23900), (18099, 25099))\n",
      "Box2I((16900, 24900), (18099, 26099))\n",
      "Box2I((17900, 4900), (19099, 6099))\n",
      "Box2I((17900, 5900), (19099, 7099))\n",
      "Box2I((17900, 6900), (19099, 8099))\n",
      "Box2I((17900, 7900), (19099, 9099))\n",
      "Box2I((17900, 8900), (19099, 10099))\n",
      "Box2I((17900, 9900), (19099, 11099))\n",
      "Box2I((17900, 10900), (19099, 12099))\n",
      "Box2I((17900, 11900), (19099, 13099))\n",
      "Box2I((17900, 12900), (19099, 14099))\n",
      "Box2I((17900, 13900), (19099, 15099))\n",
      "Box2I((17900, 14900), (19099, 16099))\n",
      "Box2I((17900, 15900), (19099, 17099))\n",
      "Box2I((17900, 16900), (19099, 18099))\n",
      "Box2I((17900, 17900), (19099, 19099))\n",
      "Box2I((17900, 18900), (19099, 20099))\n",
      "Box2I((17900, 19900), (19099, 21099))\n",
      "Box2I((17900, 20900), (19099, 22099))\n",
      "Box2I((17900, 21900), (19099, 23099))\n",
      "Box2I((17900, 22900), (19099, 24099))\n",
      "Box2I((17900, 23900), (19099, 25099))\n",
      "Box2I((17900, 24900), (19099, 26099))\n",
      "Box2I((18900, 4900), (20099, 6099))\n",
      "Box2I((18900, 5900), (20099, 7099))\n",
      "Box2I((18900, 6900), (20099, 8099))\n",
      "Box2I((18900, 7900), (20099, 9099))\n",
      "Box2I((18900, 8900), (20099, 10099))\n",
      "Box2I((18900, 9900), (20099, 11099))\n",
      "Box2I((18900, 10900), (20099, 12099))\n",
      "Box2I((18900, 11900), (20099, 13099))\n",
      "Box2I((18900, 12900), (20099, 14099))\n",
      "Box2I((18900, 13900), (20099, 15099))\n",
      "Box2I((18900, 14900), (20099, 16099))\n",
      "Box2I((18900, 15900), (20099, 17099))\n",
      "Box2I((18900, 16900), (20099, 18099))\n",
      "Box2I((18900, 17900), (20099, 19099))\n",
      "Box2I((18900, 18900), (20099, 20099))\n",
      "Box2I((18900, 19900), (20099, 21099))\n",
      "Box2I((18900, 20900), (20099, 22099))\n",
      "Box2I((18900, 21900), (20099, 23099))\n",
      "Box2I((18900, 22900), (20099, 24099))\n",
      "Box2I((18900, 23900), (20099, 25099))\n",
      "Box2I((18900, 24900), (20099, 26099))\n",
      "Box2I((19900, 4900), (21099, 6099))\n",
      "Box2I((19900, 5900), (21099, 7099))\n",
      "Box2I((19900, 6900), (21099, 8099))\n",
      "Box2I((19900, 7900), (21099, 9099))\n",
      "Box2I((19900, 8900), (21099, 10099))\n",
      "Box2I((19900, 9900), (21099, 11099))\n",
      "Box2I((19900, 10900), (21099, 12099))\n",
      "Box2I((19900, 11900), (21099, 13099))\n",
      "Box2I((19900, 12900), (21099, 14099))\n",
      "Box2I((19900, 13900), (21099, 15099))\n",
      "Box2I((19900, 14900), (21099, 16099))\n",
      "Box2I((19900, 15900), (21099, 17099))\n",
      "Box2I((19900, 16900), (21099, 18099))\n",
      "Box2I((19900, 17900), (21099, 19099))\n",
      "Box2I((19900, 18900), (21099, 20099))\n",
      "Box2I((19900, 19900), (21099, 21099))\n",
      "Box2I((19900, 20900), (21099, 22099))\n",
      "Box2I((19900, 21900), (21099, 23099))\n",
      "Box2I((19900, 22900), (21099, 24099))\n",
      "Box2I((19900, 23900), (21099, 25099))\n",
      "Box2I((19900, 24900), (21099, 26099))\n",
      "Box2I((20900, 4900), (22099, 6099))\n",
      "Box2I((20900, 5900), (22099, 7099))\n",
      "Box2I((20900, 6900), (22099, 8099))\n",
      "Box2I((20900, 7900), (22099, 9099))\n",
      "Box2I((20900, 8900), (22099, 10099))\n",
      "Box2I((20900, 9900), (22099, 11099))\n",
      "Box2I((20900, 10900), (22099, 12099))\n",
      "Box2I((20900, 11900), (22099, 13099))\n",
      "Box2I((20900, 12900), (22099, 14099))\n",
      "Box2I((20900, 13900), (22099, 15099))\n",
      "Box2I((20900, 14900), (22099, 16099))\n",
      "Box2I((20900, 15900), (22099, 17099))\n",
      "Box2I((20900, 16900), (22099, 18099))\n",
      "Box2I((20900, 17900), (22099, 19099))\n",
      "Box2I((20900, 18900), (22099, 20099))\n",
      "Box2I((20900, 19900), (22099, 21099))\n",
      "Box2I((20900, 20900), (22099, 22099))\n",
      "Box2I((20900, 21900), (22099, 23099))\n",
      "Box2I((20900, 22900), (22099, 24099))\n",
      "Box2I((20900, 23900), (22099, 25099))\n",
      "Box2I((20900, 24900), (22099, 26099))\n",
      "Box2I((21900, 4900), (23099, 6099))\n",
      "Box2I((21900, 5900), (23099, 7099))\n",
      "Box2I((21900, 6900), (23099, 8099))\n",
      "Box2I((21900, 7900), (23099, 9099))\n",
      "Box2I((21900, 8900), (23099, 10099))\n",
      "Box2I((21900, 9900), (23099, 11099))\n",
      "Box2I((21900, 10900), (23099, 12099))\n",
      "Box2I((21900, 11900), (23099, 13099))\n",
      "Box2I((21900, 12900), (23099, 14099))\n",
      "Box2I((21900, 13900), (23099, 15099))\n",
      "Box2I((21900, 14900), (23099, 16099))\n",
      "Box2I((21900, 15900), (23099, 17099))\n",
      "Box2I((21900, 16900), (23099, 18099))\n",
      "Box2I((21900, 17900), (23099, 19099))\n",
      "Box2I((21900, 18900), (23099, 20099))\n",
      "Box2I((21900, 19900), (23099, 21099))\n",
      "Box2I((21900, 20900), (23099, 22099))\n",
      "Box2I((21900, 21900), (23099, 23099))\n",
      "Box2I((21900, 22900), (23099, 24099))\n",
      "Box2I((21900, 23900), (23099, 25099))\n",
      "Box2I((21900, 24900), (23099, 26099))\n",
      "Box2I((22900, 4900), (24099, 6099))\n",
      "Box2I((22900, 5900), (24099, 7099))\n",
      "Box2I((22900, 6900), (24099, 8099))\n",
      "Box2I((22900, 7900), (24099, 9099))\n",
      "Box2I((22900, 8900), (24099, 10099))\n",
      "Box2I((22900, 9900), (24099, 11099))\n",
      "Box2I((22900, 10900), (24099, 12099))\n",
      "Box2I((22900, 11900), (24099, 13099))\n",
      "Box2I((22900, 12900), (24099, 14099))\n",
      "Box2I((22900, 13900), (24099, 15099))\n",
      "Box2I((22900, 14900), (24099, 16099))\n",
      "Box2I((22900, 15900), (24099, 17099))\n",
      "Box2I((22900, 16900), (24099, 18099))\n",
      "Box2I((22900, 17900), (24099, 19099))\n",
      "Box2I((22900, 18900), (24099, 20099))\n",
      "Box2I((22900, 19900), (24099, 21099))\n",
      "Box2I((22900, 20900), (24099, 22099))\n",
      "Box2I((22900, 21900), (24099, 23099))\n",
      "Box2I((22900, 22900), (24099, 24099))\n",
      "Box2I((22900, 23900), (24099, 25099))\n",
      "Box2I((22900, 24900), (24099, 26099))\n",
      "Box2I((23900, 4900), (25099, 6099))\n",
      "Box2I((23900, 5900), (25099, 7099))\n",
      "Box2I((23900, 6900), (25099, 8099))\n",
      "Box2I((23900, 7900), (25099, 9099))\n",
      "Box2I((23900, 8900), (25099, 10099))\n",
      "Box2I((23900, 9900), (25099, 11099))\n",
      "Box2I((23900, 10900), (25099, 12099))\n",
      "Box2I((23900, 11900), (25099, 13099))\n",
      "Box2I((23900, 12900), (25099, 14099))\n",
      "Box2I((23900, 13900), (25099, 15099))\n",
      "Box2I((23900, 14900), (25099, 16099))\n",
      "Box2I((23900, 15900), (25099, 17099))\n",
      "Box2I((23900, 16900), (25099, 18099))\n",
      "Box2I((23900, 17900), (25099, 19099))\n",
      "Box2I((23900, 18900), (25099, 20099))\n",
      "Box2I((23900, 19900), (25099, 21099))\n",
      "Box2I((23900, 20900), (25099, 22099))\n",
      "Box2I((23900, 21900), (25099, 23099))\n",
      "Box2I((23900, 22900), (25099, 24099))\n",
      "Box2I((23900, 23900), (25099, 25099))\n",
      "Box2I((23900, 24900), (25099, 26099))\n"
     ]
    }
   ],
   "source": [
    "date = dates[0]\n",
    "patch_and_coord = []\n",
    "degrees = []\n",
    "for patch in patches:\n",
    "    if butler.datasetExists(\"dayDiff_differenceExp\", dataId={\"filter\":'r',\"tract\":0, \"patch\":patch, 'date':date}):\n",
    "        dayDiff = butler.get(\"dayDiff_differenceExp\", dataId={\"filter\":'r',\"tract\":0, \"patch\":patch, 'date':date})\n",
    "        bbox = dayDiff.getBBox()\n",
    "        wcs = dayDiff.getWcs()\n",
    "        print bbox\n",
    "    "
   ]
  },
  {
   "cell_type": "code",
   "execution_count": null,
   "metadata": {
    "collapsed": true,
    "deletable": true,
    "editable": true
   },
   "outputs": [],
   "source": []
  }
 ],
 "metadata": {
  "kernelspec": {
   "display_name": "Python 2",
   "language": "python",
   "name": "python2"
  },
  "language_info": {
   "codemirror_mode": {
    "name": "ipython",
    "version": 2
   },
   "file_extension": ".py",
   "mimetype": "text/x-python",
   "name": "python",
   "nbconvert_exporter": "python",
   "pygments_lexer": "ipython2",
   "version": "2.7.12"
  }
 },
 "nbformat": 4,
 "nbformat_minor": 0
}
