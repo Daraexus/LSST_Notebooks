{
 "metadata": {
  "name": ""
 },
 "nbformat": 3,
 "nbformat_minor": 0,
 "worksheets": [
  {
   "cells": [
    {
     "cell_type": "heading",
     "level": 1,
     "metadata": {},
     "source": [
      "Modular Subtraction on Patch (detailed implementation)"
     ]
    },
    {
     "cell_type": "markdown",
     "metadata": {},
     "source": [
      "<img src=\"files/src_images/file.png\">"
     ]
    },
    {
     "cell_type": "markdown",
     "metadata": {},
     "source": [
      "These are the initial imports. ImageSubtractionTools and ImageSubtractor are two python modules that contain the relevant calls to Stack in order to perform the image subtraction"
     ]
    },
    {
     "cell_type": "code",
     "collapsed": false,
     "input": [
      "import ImageSubtractionTools\n",
      "import ImageSubtractor\n",
      "import SourceExtractor\n",
      "import lsst.afw.image as afwImage\n",
      "import lsst.afw.display.ds9 as ds9\n",
      "import os\n",
      "import ImageViewer"
     ],
     "language": "python",
     "metadata": {},
     "outputs": [],
     "prompt_number": 1
    },
    {
     "cell_type": "markdown",
     "metadata": {},
     "source": [
      "Initial declarations. These lines declares the working directories and the initial exposures to be subtracted."
     ]
    },
    {
     "cell_type": "markdown",
     "metadata": {},
     "source": [
      "<img src=\"files/src_images/subtractBackground.png\">"
     ]
    },
    {
     "cell_type": "code",
     "collapsed": false,
     "input": [
      "\n",
      "\n",
      "DATADIR=\"/renoir_data_02/jpreyes/lsst_data/data/CFHTLS_TEST\"\n",
      "scienceFolder = \"subtract+0\"\n",
      "templateFolder = \"coaddition\"\n",
      "\n",
      "SciencePath = DATADIR+\"/output/coadd_r_dir/\"+scienceFolder+\"/deepCoadd/r/1/33,15.fits\"\n",
      "TemplatePath = DATADIR+\"/output/coadd_r_dir/\"+templateFolder+\"/deepCoadd/r/1/33,15.fits\"\n",
      "\n",
      "scienceExp = afwImage.ExposureF(SciencePath)\n",
      "templateExp = afwImage.ExposureF(TemplatePath)\n",
      "\n",
      "scienceExp = ImageSubtractionTools.SubtractBackground(scienceExp)\n",
      "templateExp = ImageSubtractionTools.SubtractBackground(templateExp)"
     ],
     "language": "python",
     "metadata": {},
     "outputs": [],
     "prompt_number": 2
    },
    {
     "cell_type": "markdown",
     "metadata": {},
     "source": [
      "Calculation of control, psf atributes and sigma belonging to the science and template exposure"
     ]
    },
    {
     "cell_type": "markdown",
     "metadata": {},
     "source": [
      "<img src=\"files/src_images/computeInitialParameters.png\">"
     ]
    },
    {
     "cell_type": "code",
     "collapsed": false,
     "input": [
      "sc_ctr, sc_psfAttr, sc_sigmaOrig= ImageSubtractionTools.ComputeInitialParameters(scienceExp)\n",
      "tm_ctr, tm_psfAttr, tm_sigmaOrig= ImageSubtractionTools.ComputeInitialParameters(templateExp)"
     ],
     "language": "python",
     "metadata": {},
     "outputs": [],
     "prompt_number": 3
    },
    {
     "cell_type": "markdown",
     "metadata": {},
     "source": [
      "Pre-convolultion of the templateExposure (as indicated on the Alard-Lupton article). There are two options: Preconvolve with the science image psf or preconvolve with a simplified version of the psf (a soft smooth on the image)"
     ]
    },
    {
     "cell_type": "markdown",
     "metadata": {},
     "source": [
      "<img src=\"files/src_images/PreConvolve.png\">"
     ]
    },
    {
     "cell_type": "code",
     "collapsed": false,
     "input": [
      "sc_psf = scienceExp.getPsf()\n",
      "#c_image_1, sc_sigma_1  = ImageSubtractionTools.SimplifiedPreConvolve(templateExp, tm_sigmaOrig, sc_psf)\n",
      "c_image_1, sc_sigma_1 = ImageSubtractionTools.PreConvolve(templateExp, tm_sigmaOrig, sc_psf)\n",
      "\n",
      "templateExp.setMaskedImage(c_image_1)\n",
      "#templateExp.writeFits(\"preConvolvedTemplateExp.fits\")"
     ],
     "language": "python",
     "metadata": {},
     "outputs": [
      {
       "output_type": "stream",
       "stream": "stdout",
       "text": [
        "<lsst.afw.image.imageLib.MaskedImageF; proxy of <Swig Object of type 'boost::shared_ptr< lsst::afw::image::MaskedImage< float,lsst::afw::image::MaskPixel,lsst::afw::image::VariancePixel > > *' at 0x5212180> >\n"
       ]
      }
     ],
     "prompt_number": 8
    },
    {
     "cell_type": "markdown",
     "metadata": {},
     "source": [
      "Calculation of candidate sources for the kernel convolution, as well as the number of basis functions that are going to be used to model the kernel."
     ]
    },
    {
     "cell_type": "markdown",
     "metadata": {},
     "source": [
      "<img src=\"files/src_images/SelectSources.png\">"
     ]
    },
    {
     "cell_type": "code",
     "collapsed": false,
     "input": [
      "selectSources = ImageSubtractionTools.SelectSources(scienceExp, sc_sigma_1 )"
     ],
     "language": "python",
     "metadata": {},
     "outputs": [],
     "prompt_number": 9
    },
    {
     "cell_type": "markdown",
     "metadata": {},
     "source": [
      "<img src=\"files/src_images/CalculateNumberOfBasisFunctions.png\">"
     ]
    },
    {
     "cell_type": "code",
     "collapsed": false,
     "input": [
      "n_of_gaussians = ImageSubtractionTools.CalculateNumberOfBasisFunctions(sc_sigma_1, tm_sigmaOrig)"
     ],
     "language": "python",
     "metadata": {},
     "outputs": [],
     "prompt_number": 10
    },
    {
     "cell_type": "markdown",
     "metadata": {},
     "source": [
      "<img src=\"files/src_images/SelectKernelSources.png\">"
     ]
    },
    {
     "cell_type": "code",
     "collapsed": false,
     "input": [
      "kernelSources = ImageSubtractionTools.SelectKernelSources(scienceExp, selectSources)"
     ],
     "language": "python",
     "metadata": {},
     "outputs": [
      {
       "output_type": "stream",
       "stream": "stderr",
       "text": [
        "/renoir_data_00/jpreyes/stacks/v9_2_copy/Linux64/anaconda/1.8.0/lib/python2.7/site-packages/numpy/core/_methods.py:57: RuntimeWarning: invalid value encountered in double_scalars\n",
        "  ret = ret / float(rcount)\n",
        "/renoir_data_00/jpreyes/stacks/v9_2_copy/Linux64/anaconda/1.8.0/lib/python2.7/site-packages/numpy/core/_methods.py:72: RuntimeWarning: invalid value encountered in true_divide\n",
        "  out=arrmean, casting='unsafe', subok=False)\n",
        "/renoir_data_00/jpreyes/stacks/v9_2_copy/Linux64/anaconda/1.8.0/lib/python2.7/site-packages/numpy/core/_methods.py:96: RuntimeWarning: invalid value encountered in double_scalars\n",
        "  ret = ret / float(rcount)\n"
       ]
      }
     ],
     "prompt_number": 11
    },
    {
     "cell_type": "markdown",
     "metadata": {},
     "source": [
      "Determination of candidates, and the Fwhm for template and science images. This line also determines the cell set that is going to be used."
     ]
    },
    {
     "cell_type": "markdown",
     "metadata": {},
     "source": [
      "<img src=\"files/src_images/MakeCandidateList.png\">"
     ]
    },
    {
     "cell_type": "code",
     "collapsed": false,
     "input": [
      "candidateList, templateFwhmPix, scienceFwhmPix = ImageSubtractionTools.MakeCandidateList(templateExp, scienceExp )"
     ],
     "language": "python",
     "metadata": {},
     "outputs": [],
     "prompt_number": 12
    },
    {
     "cell_type": "markdown",
     "metadata": {},
     "source": [
      "<img src=\"files/src_images/CalculateKernelCellSet.png\">"
     ]
    },
    {
     "cell_type": "code",
     "collapsed": false,
     "input": [
      "kernelCellSet = ImageSubtractionTools.CalculateKernelCellSet(templateExp, scienceExp, candidateList)"
     ],
     "language": "python",
     "metadata": {},
     "outputs": [],
     "prompt_number": 13
    },
    {
     "cell_type": "markdown",
     "metadata": {},
     "source": [
      "The object cat is a SourceCatalog"
     ]
    },
    {
     "cell_type": "code",
     "collapsed": false,
     "input": [
      "import lsst.afw.table as afwTable\n",
      "\n",
      "cat = afwTable.SourceCatalog(kernelSources[-1].schema)\n",
      "\n",
      "for candidate in candidateList:\n",
      "    cat.append( candidate.get(\"source\") )\n",
      "#cat.writeFits(\"kernelCandidates.fits\")"
     ],
     "language": "python",
     "metadata": {},
     "outputs": [],
     "prompt_number": 16
    },
    {
     "cell_type": "markdown",
     "metadata": {},
     "source": [
      "List of basis to be used, and solution to the mininum squares problem that allows the calculation of the kernel. The psfMatchingKernel stored in disk is an object LinearCombinationKernel."
     ]
    },
    {
     "cell_type": "markdown",
     "metadata": {},
     "source": [
      "<img src=\"files/src_images/CalculateKernelBasis.png\">"
     ]
    },
    {
     "cell_type": "code",
     "collapsed": false,
     "input": [
      "basisList = ImageSubtractionTools.CalculateKernelBasis(templateExp, templateFwhmPix, scienceExp, scienceFwhmPix, candidateList)"
     ],
     "language": "python",
     "metadata": {},
     "outputs": [],
     "prompt_number": 17
    },
    {
     "cell_type": "markdown",
     "metadata": {},
     "source": [
      "<img src=\"files/src_images/SolvePsfMatching.png\">"
     ]
    },
    {
     "cell_type": "code",
     "collapsed": false,
     "input": [
      "spatialSolution, psfMatchingKernel, backgroundModel =ImageSubtractionTools.SolvePsfMatching(kernelCellSet, basisList)\n",
      "\n",
      "#psfMatchingKernel.writeFits(\"psf_Matching_Kernel.fits\")"
     ],
     "language": "python",
     "metadata": {},
     "outputs": [],
     "prompt_number": 18
    },
    {
     "cell_type": "code",
     "collapsed": false,
     "input": [
      "from lsst.ip.diffim import utils as diUtils\n",
      "diUtils.showKernelBasis(psfMatchingKernel, frame=5) \n",
      "diUtils.showKernelCandidates(kernelCellSet, kernel=psfMatchingKernel, background=backgroundModel,\n",
      "                                         frame=6,\n",
      "                                         showBadCandidates=True,\n",
      "                                         resids=True)"
     ],
     "language": "python",
     "metadata": {},
     "outputs": [
      {
       "metadata": {},
       "output_type": "pyout",
       "prompt_number": 19,
       "text": [
        "<lsst.afw.image.imageLib.ImageF; proxy of <Swig Object of type 'boost::shared_ptr< lsst::afw::image::Image< float > > *' at 0x31628a0> >"
       ]
      }
     ],
     "prompt_number": 19
    },
    {
     "cell_type": "markdown",
     "metadata": {},
     "source": [
      "Convolution of the template image with the psfMatching kernel, and then subtraction of the two images."
     ]
    },
    {
     "cell_type": "markdown",
     "metadata": {},
     "source": [
      "<img src=\"files/src_images/PsfConvolveImage.png\">"
     ]
    },
    {
     "cell_type": "code",
     "collapsed": false,
     "input": [
      "matchedImage = ImageSubtractionTools.PsfConvolveImage(templateExp, psfMatchingKernel, doNormalize=True)"
     ],
     "language": "python",
     "metadata": {},
     "outputs": [],
     "prompt_number": 20
    },
    {
     "cell_type": "markdown",
     "metadata": {},
     "source": [
      "<img src=\"files/src_images/SubtractImages.png\">"
     ]
    },
    {
     "cell_type": "code",
     "collapsed": false,
     "input": [
      "subtractedImage = ImageSubtractionTools.SubtractImages(matchedImage, templateExp, scienceExp)\n",
      "#templateExp.writeFits(\"matchedTemplate.fits\")\n",
      "#templateExp.writeFits(\"subtractedImage.fits\")"
     ],
     "language": "python",
     "metadata": {},
     "outputs": [],
     "prompt_number": 21
    },
    {
     "cell_type": "markdown",
     "metadata": {},
     "source": [
      "This method is for the detection of sources using footprints"
     ]
    },
    {
     "cell_type": "code",
     "collapsed": false,
     "input": [
      "#ds9.setMaskTransparency(100)\n",
      "#ds9.mtv(subtractedImage, frame=1)\n",
      "subtractedExp = afwImage.ExposureF(subtractedImage)\n",
      "\n",
      "reload(SourceExtractor)\n",
      "detectedSources, processedExp = SourceExtractor.Show_image_and_footprints(subtractedExp, initial_frame = 1)"
     ],
     "language": "python",
     "metadata": {},
     "outputs": [],
     "prompt_number": 23
    },
    {
     "cell_type": "markdown",
     "metadata": {},
     "source": [
      "Calculating statistics... (see problem 1)"
     ]
    },
    {
     "cell_type": "code",
     "collapsed": false,
     "input": [
      "import lsst.pipe.base as pipeBase\n",
      "from lsst.meas.algorithms import SourceMeasurementTask\n",
      "from lsst.ip.diffim import KernelCandidateQa\n",
      "\n",
      "kcQa = KernelCandidateQa(len(basisList))\n",
      "\n",
      "\n",
      "\n",
      "kcQaSelectSources = kcQa.addToSchema(test_sources)"
     ],
     "language": "python",
     "metadata": {},
     "outputs": [
      {
       "ename": "TypeError",
       "evalue": "in method 'SourceTable_definePsfFlux', argument 2 of type 'std::string const &'",
       "output_type": "pyerr",
       "traceback": [
        "\u001b[1;31m---------------------------------------------------------------------------\u001b[0m\n\u001b[1;31mTypeError\u001b[0m                                 Traceback (most recent call last)",
        "\u001b[1;32m<ipython-input-27-00894a484940>\u001b[0m in \u001b[0;36m<module>\u001b[1;34m()\u001b[0m\n\u001b[0;32m      7\u001b[0m \u001b[1;33m\u001b[0m\u001b[0m\n\u001b[0;32m      8\u001b[0m \u001b[1;33m\u001b[0m\u001b[0m\n\u001b[1;32m----> 9\u001b[1;33m \u001b[0mkcQaSelectSources\u001b[0m \u001b[1;33m=\u001b[0m \u001b[0mkcQa\u001b[0m\u001b[1;33m.\u001b[0m\u001b[0maddToSchema\u001b[0m\u001b[1;33m(\u001b[0m\u001b[0mtest_sources\u001b[0m\u001b[1;33m)\u001b[0m\u001b[1;33m\u001b[0m\u001b[0m\n\u001b[0m",
        "\u001b[1;32m/renoir_data_00/jpreyes/stacks/v9_2_copy/Linux64/ip_diffim/9.2/python/lsst/ip/diffim/kernelCandidateQa.pyc\u001b[0m in \u001b[0;36maddToSchema\u001b[1;34m(self, inSourceCatalog)\u001b[0m\n\u001b[0;32m    125\u001b[0m                     \u001b[0mgetter\u001b[0m \u001b[1;33m=\u001b[0m \u001b[0mgetattr\u001b[0m\u001b[1;33m(\u001b[0m\u001b[0msource\u001b[0m\u001b[1;33m,\u001b[0m \u001b[1;34m\"get\"\u001b[0m\u001b[1;33m+\u001b[0m\u001b[0mk\u001b[0m\u001b[1;33m.\u001b[0m\u001b[0mgetTypeString\u001b[0m\u001b[1;33m(\u001b[0m\u001b[1;33m)\u001b[0m\u001b[1;33m)\u001b[0m\u001b[1;33m\u001b[0m\u001b[0m\n\u001b[0;32m    126\u001b[0m                     \u001b[0msetter\u001b[0m\u001b[1;33m(\u001b[0m\u001b[0mk\u001b[0m\u001b[1;33m,\u001b[0m \u001b[0mgetter\u001b[0m\u001b[1;33m(\u001b[0m\u001b[0mk\u001b[0m\u001b[1;33m)\u001b[0m\u001b[1;33m)\u001b[0m\u001b[1;33m\u001b[0m\u001b[0m\n\u001b[1;32m--> 127\u001b[1;33m         \u001b[0moutSourceCatalog\u001b[0m\u001b[1;33m.\u001b[0m\u001b[0mdefinePsfFlux\u001b[0m\u001b[1;33m(\u001b[0m\u001b[0mfluxKey\u001b[0m\u001b[1;33m)\u001b[0m\u001b[1;33m\u001b[0m\u001b[0m\n\u001b[0m\u001b[0;32m    128\u001b[0m         \u001b[0moutSourceCatalog\u001b[0m\u001b[1;33m.\u001b[0m\u001b[0mdefineCentroid\u001b[0m\u001b[1;33m(\u001b[0m\u001b[0mcentroidKey\u001b[0m\u001b[1;33m)\u001b[0m\u001b[1;33m\u001b[0m\u001b[0m\n\u001b[0;32m    129\u001b[0m         \u001b[0moutSourceCatalog\u001b[0m\u001b[1;33m.\u001b[0m\u001b[0mdefineShape\u001b[0m\u001b[1;33m(\u001b[0m\u001b[0mshapeKey\u001b[0m\u001b[1;33m)\u001b[0m\u001b[1;33m\u001b[0m\u001b[0m\n",
        "\u001b[1;32m/renoir_data_00/jpreyes/stacks/v9_2_copy/Linux64/afw/9.2/python/lsst/afw/table/tableLib.pyc\u001b[0m in \u001b[0;36mdefinePsfFlux\u001b[1;34m(self, meas, err, flag)\u001b[0m\n\u001b[0;32m   9529\u001b[0m         \u001b[1;32mif\u001b[0m \u001b[0merr\u001b[0m \u001b[1;32mis\u001b[0m \u001b[0mNone\u001b[0m\u001b[1;33m:\u001b[0m\u001b[1;33m\u001b[0m\u001b[0m\n\u001b[0;32m   9530\u001b[0m             \u001b[1;32mif\u001b[0m \u001b[0mflag\u001b[0m \u001b[1;32mis\u001b[0m \u001b[0mNone\u001b[0m\u001b[1;33m:\u001b[0m\u001b[1;33m\u001b[0m\u001b[0m\n\u001b[1;32m-> 9531\u001b[1;33m                 \u001b[0m_tableLib\u001b[0m\u001b[1;33m.\u001b[0m\u001b[0mSourceTable_definePsfFlux\u001b[0m\u001b[1;33m(\u001b[0m\u001b[0mself\u001b[0m\u001b[1;33m,\u001b[0m \u001b[0mmeas\u001b[0m\u001b[1;33m)\u001b[0m\u001b[1;33m\u001b[0m\u001b[0m\n\u001b[0m\u001b[0;32m   9532\u001b[0m             \u001b[1;32melse\u001b[0m\u001b[1;33m:\u001b[0m\u001b[1;33m\u001b[0m\u001b[0m\n\u001b[0;32m   9533\u001b[0m                 \u001b[0m_tableLib\u001b[0m\u001b[1;33m.\u001b[0m\u001b[0mSourceTable_definePsfFlux\u001b[0m\u001b[1;33m(\u001b[0m\u001b[0mself\u001b[0m\u001b[1;33m,\u001b[0m \u001b[0mmeas\u001b[0m\u001b[1;33m,\u001b[0m \u001b[0mflag\u001b[0m\u001b[1;33m)\u001b[0m\u001b[1;33m\u001b[0m\u001b[0m\n",
        "\u001b[1;31mTypeError\u001b[0m: in method 'SourceTable_definePsfFlux', argument 2 of type 'std::string const &'"
       ]
      }
     ],
     "prompt_number": 27
    },
    {
     "cell_type": "code",
     "collapsed": false,
     "input": [
      "\n",
      "    "
     ],
     "language": "python",
     "metadata": {},
     "outputs": []
    },
    {
     "cell_type": "code",
     "collapsed": false,
     "input": [],
     "language": "python",
     "metadata": {},
     "outputs": []
    }
   ],
   "metadata": {}
  }
 ]
}