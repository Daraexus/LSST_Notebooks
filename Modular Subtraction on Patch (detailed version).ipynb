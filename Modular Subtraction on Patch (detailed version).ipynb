{
 "metadata": {
  "name": ""
 },
 "nbformat": 3,
 "nbformat_minor": 0,
 "worksheets": [
  {
   "cells": [
    {
     "cell_type": "heading",
     "level": 1,
     "metadata": {},
     "source": [
      "Modular Subtraction on Patch (detailed implementation)"
     ]
    },
    {
     "cell_type": "markdown",
     "metadata": {},
     "source": [
      "<img src=\"files/src_images/file.png\">"
     ]
    },
    {
     "cell_type": "markdown",
     "metadata": {},
     "source": [
      "These are the initial imports. ImageSubtractionTools and ImageSubtractor are two python modules that contain the relevant calls to Stack in order to perform the image subtraction"
     ]
    },
    {
     "cell_type": "code",
     "collapsed": false,
     "input": [
      "import ImageSubtractionTools\n",
      "import ImageSubtractor\n",
      "import SourceExtractor\n",
      "import lsst.afw.image as afwImage\n",
      "import lsst.afw.display.ds9 as ds9\n",
      "import os\n",
      "import ImageViewer"
     ],
     "language": "python",
     "metadata": {},
     "outputs": [],
     "prompt_number": 154
    },
    {
     "cell_type": "markdown",
     "metadata": {},
     "source": [
      "Initial declarations. These lines declares the working directories and the initial exposures to be subtracted."
     ]
    },
    {
     "cell_type": "markdown",
     "metadata": {},
     "source": [
      "<img src=\"files/src_images/subtractBackground.png\">"
     ]
    },
    {
     "cell_type": "code",
     "collapsed": false,
     "input": [
      "\n",
      "\n",
      "DATADIR=\"/renoir_data_02/jpreyes/lsst_data/data/CFHTLS_TEST\"\n",
      "scienceFolder = \"subtract+0\"\n",
      "templateFolder = \"coaddition\"\n",
      "\n",
      "SciencePath = DATADIR+\"/output/coadd_r_dir/\"+scienceFolder+\"/deepCoadd/r/1/33,15.fits\"\n",
      "TemplatePath = DATADIR+\"/output/coadd_r_dir/\"+templateFolder+\"/deepCoadd/r/1/33,15.fits\"\n",
      "\n",
      "scienceExp = afwImage.ExposureF(SciencePath)\n",
      "templateExp = afwImage.ExposureF(TemplatePath)\n",
      "\n",
      "scienceExp = ImageSubtractionTools.SubtractBackground(scienceExp)\n",
      "templateExp = ImageSubtractionTools.SubtractBackground(templateExp)"
     ],
     "language": "python",
     "metadata": {},
     "outputs": [],
     "prompt_number": 139
    },
    {
     "cell_type": "markdown",
     "metadata": {},
     "source": [
      "Calculation of control, psf atributes and sigma belonging to the science and template exposure"
     ]
    },
    {
     "cell_type": "markdown",
     "metadata": {},
     "source": [
      "<img src=\"files/src_images/computeInitialParameters.png\">"
     ]
    },
    {
     "cell_type": "code",
     "collapsed": false,
     "input": [
      "sc_ctr, sc_psfAttr, sc_sigmaOrig= ImageSubtractionTools.ComputeInitialParameters(scienceExp)\n",
      "tm_ctr, tm_psfAttr, tm_sigmaOrig= ImageSubtractionTools.ComputeInitialParameters(templateExp)"
     ],
     "language": "python",
     "metadata": {},
     "outputs": [],
     "prompt_number": 140
    },
    {
     "cell_type": "markdown",
     "metadata": {},
     "source": [
      "Pre-convolultion of the templateExposure (as indicated on the Alard-Lupton article). There are two options: Preconvolve with the science image psf or preconvolve with a simplified version of the psf (a soft smooth on the image)"
     ]
    },
    {
     "cell_type": "markdown",
     "metadata": {},
     "source": [
      "<img src=\"files/src_images/PreConvolve.png\">"
     ]
    },
    {
     "cell_type": "code",
     "collapsed": false,
     "input": [
      "sc_psf = scienceExp.getPsf()\n",
      "#c_image_1, sc_sigma_1  = ImageSubtractionTools.SimplifiedPreConvolve(templateExp, tm_sigmaOrig, sc_psf)\n",
      "c_image_1, sc_sigma_2 = ImageSubtractionTools.PreConvolve(templateExp, tm_sigmaOrig, sc_psf)\n",
      "\n",
      "templateExp.setMaskedImage(c_image_1)\n",
      "templateExp.writeFits(\"preConvolvedTemplateExp.fits\")"
     ],
     "language": "python",
     "metadata": {},
     "outputs": [
      {
       "output_type": "stream",
       "stream": "stdout",
       "text": [
        "<lsst.afw.image.imageLib.MaskedImageF; proxy of <Swig Object of type 'boost::shared_ptr< lsst::afw::image::MaskedImage< float,lsst::afw::image::MaskPixel,lsst::afw::image::VariancePixel > > *' at 0x60e9ab0> >\n"
       ]
      }
     ],
     "prompt_number": 141
    },
    {
     "cell_type": "markdown",
     "metadata": {},
     "source": [
      "Calculation of candidate sources for the kernel convolution, as well as the number of basis functions that are going to be used to model the kernel."
     ]
    },
    {
     "cell_type": "markdown",
     "metadata": {},
     "source": [
      "<img src=\"files/src_images/SelectSources.png\">"
     ]
    },
    {
     "cell_type": "code",
     "collapsed": false,
     "input": [
      "selectSources = ImageSubtractionTools.SelectSources(scienceExp, sc_sigma_1 )"
     ],
     "language": "python",
     "metadata": {},
     "outputs": [],
     "prompt_number": 142
    },
    {
     "cell_type": "markdown",
     "metadata": {},
     "source": [
      "<img src=\"files/src_images/CalculateNumberOfBasisFunctions.png\">"
     ]
    },
    {
     "cell_type": "code",
     "collapsed": false,
     "input": [
      "n_of_gaussians = ImageSubtractionTools.CalculateNumberOfBasisFunctions(sc_sigma_1, tm_sigmaOrig)"
     ],
     "language": "python",
     "metadata": {},
     "outputs": []
    },
    {
     "cell_type": "markdown",
     "metadata": {},
     "source": [
      "<img src=\"files/src_images/SelectKernelSources.png\">"
     ]
    },
    {
     "cell_type": "code",
     "collapsed": false,
     "input": [
      "kernelSources = ImageSubtractionTools.SelectKernelSources(scienceExp, selectSources)"
     ],
     "language": "python",
     "metadata": {},
     "outputs": []
    },
    {
     "cell_type": "markdown",
     "metadata": {},
     "source": [
      "Determination of candidates, and the Fwhm for template and science images. This line also determines the cell set that is going to be used."
     ]
    },
    {
     "cell_type": "markdown",
     "metadata": {},
     "source": [
      "<img src=\"files/src_images/MakeCandidateList.png\">"
     ]
    },
    {
     "cell_type": "code",
     "collapsed": false,
     "input": [
      "candidateList, templateFwhmPix, scienceFwhmPix = ImageSubtractionTools.MakeCandidatelist(templateExp, scienceExp )"
     ],
     "language": "python",
     "metadata": {},
     "outputs": [],
     "prompt_number": 143
    },
    {
     "cell_type": "markdown",
     "metadata": {},
     "source": [
      "<img src=\"files/src_images/CalculateKernelCellSet.png\">"
     ]
    },
    {
     "cell_type": "code",
     "collapsed": false,
     "input": [
      "kernelCellSet = ImageSubtractionTools.CalculateKernelCellSet(templateExp, scienceExp, candidateList)"
     ],
     "language": "python",
     "metadata": {},
     "outputs": []
    },
    {
     "cell_type": "markdown",
     "metadata": {},
     "source": [
      "The object cat is a SourceCatalog"
     ]
    },
    {
     "cell_type": "code",
     "collapsed": false,
     "input": [
      "import lsst.afw.table as afwTable\n",
      "\n",
      "cat = afwTable.SourceCatalog(source.schema)\n",
      "\n",
      "for candidate in candidateList:\n",
      "    cat.append( candidate.get(\"source\") )\n",
      "cat.writeFits(\"kernelCandidates.fits\")"
     ],
     "language": "python",
     "metadata": {},
     "outputs": [],
     "prompt_number": 144
    },
    {
     "cell_type": "markdown",
     "metadata": {},
     "source": [
      "List of basis to be used, and solution to the mininum squares problem that allows the calculation of the kernel. The psfMatchingKernel stored in disk is an object LinearCombinationKernel."
     ]
    },
    {
     "cell_type": "markdown",
     "metadata": {},
     "source": [
      "<img src=\"files/src_images/CalculateKernelBasis.png\">"
     ]
    },
    {
     "cell_type": "code",
     "collapsed": false,
     "input": [
      "\n",
      "basisList = ImageSubtractionTools.CalculateKernelBasis(templateExp, templateFwhmPix, scienceExp, scienceFwhmPix, candidateList)\n",
      "\n",
      "spatialSolution, psfMatchingKernel, backgroundModel =ImageSubtractionTools.SolvePsfMatching(kernelCellSet, basisList)\n",
      "\n",
      "psfMatchingKernel.writeFits(\"psf_Matching_Kernel.fits\")\n"
     ],
     "language": "python",
     "metadata": {},
     "outputs": [],
     "prompt_number": 146
    },
    {
     "cell_type": "code",
     "collapsed": false,
     "input": [
      "from lsst.ip.diffim import utils as diUtils\n",
      "diUtils.showKernelBasis(psfMatchingKernel, frame=5) \n",
      "diUtils.showKernelCandidates(kernelCellSet, kernel=psfMatchingKernel, background=backgroundModel,\n",
      "                                         frame=6,\n",
      "                                         showBadCandidates=True,\n",
      "                                         resids=True)"
     ],
     "language": "python",
     "metadata": {},
     "outputs": [
      {
       "metadata": {},
       "output_type": "pyout",
       "prompt_number": 147,
       "text": [
        "<lsst.afw.image.imageLib.ImageF; proxy of <Swig Object of type 'boost::shared_ptr< lsst::afw::image::Image< float > > *' at 0x660d5d0> >"
       ]
      }
     ],
     "prompt_number": 147
    },
    {
     "cell_type": "markdown",
     "metadata": {},
     "source": [
      "Convolution of the template image with the psfMatching kernel, and then subtraction of the two images."
     ]
    },
    {
     "cell_type": "code",
     "collapsed": false,
     "input": [
      "\n",
      "matchedImage = ImageSubtractionTools.PsfConvolveImage(templateExp, psfMatchingKernel, doNormalize=True)\n",
      "subtractedImage = ImageSubtractionTools.SubtractImages(matchedImage, templateExp, scienceExp)\n",
      "templateExp.writeFits(\"matchedTemplate.fits\")\n",
      "templateExp.writeFits(\"subtractedImage.fits\")"
     ],
     "language": "python",
     "metadata": {},
     "outputs": [],
     "prompt_number": 149
    },
    {
     "cell_type": "code",
     "collapsed": false,
     "input": [
      "ds9.setMaskTransparency(100)\n",
      "ds9.mtv(subtractedImage, frame=1)"
     ],
     "language": "python",
     "metadata": {},
     "outputs": []
    },
    {
     "cell_type": "code",
     "collapsed": false,
     "input": [
      "subtractedExp = afwImage.ExposureF(subtractedImage)\n"
     ],
     "language": "python",
     "metadata": {},
     "outputs": [],
     "prompt_number": 162
    },
    {
     "cell_type": "code",
     "collapsed": false,
     "input": [
      "reload(SourceExtractor)\n",
      "detectedSources, processedExp = SourceExtractor.Show_image_and_footprints(subtractedExp, initial_frame = 1)"
     ],
     "language": "python",
     "metadata": {},
     "outputs": [
      {
       "output_type": "stream",
       "stream": "stdout",
       "text": [
        "['BAD', 'CR', 'DETECTED', 'DETECTED_NEGATIVE', 'EDGE', 'INTRP', 'OTHERDET', 'SAT', 'SUSPECT', 'THISDET', 'UNMASKEDNAN']\n",
        "Mean of the image is 0.000 counts, stdev is 0.271 counts"
       ]
      },
      {
       "output_type": "stream",
       "stream": "stdout",
       "text": [
        "\n",
        "The 5-sigma detection threshold is at 1.36 counts\n",
        "Measuring 19 objects\n"
       ]
      }
     ],
     "prompt_number": 165
    },
    {
     "cell_type": "code",
     "collapsed": false,
     "input": [
      "detectedSources.writeFits(\"detectedSourcesOnSubtraction.fits\")"
     ],
     "language": "python",
     "metadata": {},
     "outputs": [],
     "prompt_number": 167
    },
    {
     "cell_type": "code",
     "collapsed": false,
     "input": [
      "import lsst.ip.diffim.diaSourceAnalysis as diaSourceAnalysis\n",
      "\n",
      "import lsst.afw.geom as afwGeom\n",
      "scaling = 5\n",
      "\n",
      "diaConfig = diaSourceAnalysis.DiaSourceAnalystConfig()\n",
      "\n",
      "analyst = diaSourceAnalysis.DiaSourceAnalyst(diaConfig)\n",
      "\n",
      "expX0 = subtractedExp.getX0() \n",
      "expX1 = expX0 + subtractedExp.getWidth()-1\n",
      "expY0 = subtractedExp.getY0()\n",
      "expY1 = expY0 + subtractedExp.getHeight()-1\n",
      "\n",
      "for source in selectSources:\n",
      "    xAstrom = source.getX()\n",
      "    yAstrom = source.getY()\n",
      "    ft = source.getFootprint()\n",
      "    bbox = ft.getBBox()\n",
      "    #print bbox.getMinX(), bbox.getMinY(), bbox.getDimensions()\n",
      "    #Ixx = max(1.0, source.getIxx())\n",
      "    #Iyy = max(1.0, source.getIyy())\n",
      "    #x0 = max(expX0, int(xAstrom-scaling*Ixx))\n",
      "    #x1 = min(expX1, int(xAstrom+scaling*Ixx))\n",
      "    #y0 = max(expY0, int(yAstrom-scaling*Iyy))\n",
      "    #y1 = min(expY1, int(yAstrom+scaling*Iyy))\n",
      "    #print x0,x1,y0,y1\n",
      "    #bbox = afwGeom.Box2I(afwGeom.Point2I(x0 ,y0), afwGeom.Point2I(x1,y1))\n",
      "    #print subtractedExp.getDimensions().getX(), subtractedExp.getDimensions().getY()\n",
      "    subExp = afwImage.ExposureF(subtractedExp)\n",
      "    subMi = subExp.getMaskedImage()\n",
      "    imArr, maArr, varArr = subMi.getArrays()\n",
      "    \n",
      "    "
     ],
     "language": "python",
     "metadata": {},
     "outputs": [
      {
       "output_type": "stream",
       "stream": "stdout",
       "text": [
        "Box2I((0, 0), (1199, 1199))\n",
        "Box2I((0, 0), (1199, 1199))\n",
        "Box2I((0, 0), (1199, 1199))\n",
        "Box2I((0, 0), (1199, 1199))\n",
        "Box2I((0, 0), (1199, 1199))\n",
        "Box2I((0, 0), (1199, 1199))\n",
        "Box2I((0, 0), (1199, 1199))\n",
        "Box2I((0, 0), (1199, 1199))\n",
        "Box2I((0, 0), (1199, 1199))\n",
        "Box2I((0, 0), (1199, 1199))\n",
        "Box2I((0, 0), (1199, 1199))\n",
        "Box2I((0, 0), (1199, 1199))\n",
        "Box2I((0, 0), (1199, 1199))\n",
        "Box2I((0, 0), (1199, 1199))\n",
        "Box2I((0, 0), (1199, 1199))\n",
        "Box2I((0, 0), (1199, 1199))\n",
        "Box2I((0, 0), (1199, 1199))\n",
        "Box2I((0, 0), (1199, 1199))\n",
        "Box2I((0, 0), (1199, 1199))\n",
        "Box2I((0, 0), (1199, 1199))\n",
        "Box2I((0, 0), (1199, 1199))\n",
        "Box2I((0, 0), (1199, 1199))\n",
        "Box2I((0, 0), (1199, 1199))\n",
        "Box2I((0, 0), (1199, 1199))\n",
        "Box2I((0, 0), (1199, 1199))\n",
        "Box2I((0, 0), (1199, 1199))\n",
        "Box2I((0, 0), (1199, 1199))\n",
        "Box2I((0, 0), (1199, 1199))\n",
        "Box2I((0, 0), (1199, 1199))\n",
        "Box2I((0, 0), (1199, 1199))\n",
        "Box2I((0, 0), (1199, 1199))\n",
        "Box2I((0, 0), (1199, 1199))\n",
        "Box2I((0, 0), (1199, 1199))\n",
        "Box2I((0, 0), (1199, 1199))\n",
        "Box2I((0, 0), (1199, 1199))\n",
        "Box2I((0, 0), (1199, 1199))\n",
        "Box2I((0, 0), (1199, 1199))\n",
        "Box2I((0, 0), (1199, 1199))\n",
        "Box2I((0, 0), (1199, 1199))\n",
        "Box2I((0, 0), (1199, 1199))\n",
        "Box2I((0, 0), (1199, 1199))\n",
        "Box2I((0, 0), (1199, 1199))\n",
        "Box2I((0, 0), (1199, 1199))\n",
        "Box2I((0, 0), (1199, 1199))\n",
        "Box2I((0, 0), (1199, 1199))\n",
        "Box2I((0, 0), (1199, 1199))\n",
        "Box2I((0, 0), (1199, 1199))\n",
        "Box2I((0, 0), (1199, 1199))\n",
        "Box2I((0, 0), (1199, 1199))\n",
        "Box2I((0, 0), (1199, 1199))\n",
        "Box2I((0, 0), (1199, 1199))\n",
        "Box2I((0, 0), (1199, 1199))\n",
        "Box2I((0, 0), (1199, 1199))\n",
        "Box2I((0, 0), (1199, 1199))\n",
        "Box2I((0, 0), (1199, 1199))\n",
        "Box2I((0, 0), (1199, 1199))\n",
        "Box2I((0, 0), (1199, 1199))\n",
        "Box2I((0, 0), (1199, 1199))\n",
        "Box2I((0, 0), (1199, 1199))\n",
        "Box2I((0, 0), (1199, 1199))\n",
        "Box2I((0, 0), (1199, 1199))\n",
        "Box2I((0, 0), (1199, 1199))\n",
        "Box2I((0, 0), (1199, 1199))\n",
        "Box2I((0, 0), (1199, 1199))\n",
        "Box2I((0, 0), (1199, 1199))\n",
        "Box2I((0, 0), (1199, 1199))\n",
        "Box2I((0, 0), (1199, 1199))\n",
        "Box2I((0, 0), (1199, 1199))\n"
       ]
      }
     ],
     "prompt_number": 207
    },
    {
     "cell_type": "code",
     "collapsed": false,
     "input": [],
     "language": "python",
     "metadata": {},
     "outputs": []
    }
   ],
   "metadata": {}
  }
 ]
}