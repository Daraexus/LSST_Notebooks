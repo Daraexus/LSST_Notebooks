{
 "metadata": {
  "name": ""
 },
 "nbformat": 3,
 "nbformat_minor": 0,
 "worksheets": [
  {
   "cells": [
    {
     "cell_type": "code",
     "collapsed": false,
     "input": [
      "import ImageSubtractionTools\n",
      "import ImageSubtractor\n",
      "import lsst.afw.image as afwImage\n",
      "import lsst.afw.display.ds9 as ds9\n",
      "import os\n",
      "import ImageViewer"
     ],
     "language": "python",
     "metadata": {},
     "outputs": [],
     "prompt_number": 22
    },
    {
     "cell_type": "code",
     "collapsed": false,
     "input": [
      "\n",
      "ImageSubtractionTools.IqrToSigma"
     ],
     "language": "python",
     "metadata": {},
     "outputs": [
      {
       "metadata": {},
       "output_type": "pyout",
       "prompt_number": 2,
       "text": [
        "0.741"
       ]
      }
     ],
     "prompt_number": 2
    },
    {
     "cell_type": "code",
     "collapsed": false,
     "input": [
      "\n",
      "\n",
      "DATADIR=\"/renoir_data_02/jpreyes/lsst_data/data/CFHTLS_TEST\"\n",
      "scienceFolder = \"subtract+0\"\n",
      "templateFolder = \"coaddition\"\n",
      "\n",
      "SciencePath = DATADIR+\"/output/coadd_r_dir/\"+scienceFolder+\"/deepCoadd/r/1/33,15.fits\"\n",
      "TemplatePath = DATADIR+\"/output/coadd_r_dir/\"+templateFolder+\"/deepCoadd/r/1/33,15.fits\"\n",
      "\n",
      "scienceExp = afwImage.ExposureF(SciencePath)\n",
      "templateExp = afwImage.ExposureF(TemplatePath)\n",
      "\n",
      "scienceExp = ImageSubtractionTools.SubtractBackground(scienceExp)\n",
      "templateExp = ImageSubtractionTools.SubtractBackground(templateExp)"
     ],
     "language": "python",
     "metadata": {},
     "outputs": [],
     "prompt_number": 23
    },
    {
     "cell_type": "code",
     "collapsed": false,
     "input": [
      "sc_ctr, sc_psfAttr, sc_sigmaOrig= ImageSubtractionTools.ComputeInitialParameters(scienceExp)\n",
      "tm_ctr, tm_psfAttr, tm_sigmaOrig= ImageSubtractionTools.ComputeInitialParameters(templateExp)"
     ],
     "language": "python",
     "metadata": {},
     "outputs": [],
     "prompt_number": 24
    },
    {
     "cell_type": "code",
     "collapsed": false,
     "input": [
      "sc_psf = scienceExp.getPsf()\n",
      "c_image_1, sc_sigma_1  = ImageSubtractionTools.SimplifiedPreConvolve(templateExp, tm_sigmaOrig, sc_psf)\n",
      "c_image_2, sc_sigma_2 = ImageSubtractionTools.PreConvolve(templateExp, tm_sigmaOrig, sc_psf)"
     ],
     "language": "python",
     "metadata": {},
     "outputs": [
      {
       "output_type": "stream",
       "stream": "stdout",
       "text": [
        "<lsst.afw.image.imageLib.MaskedImageF; proxy of <Swig Object of type 'boost::shared_ptr< lsst::afw::image::MaskedImage< float,lsst::afw::image::MaskPixel,lsst::afw::image::VariancePixel > > *' at 0x60e9630> >\n",
        "<lsst.afw.image.imageLib.MaskedImageF; proxy of <Swig Object of type 'boost::shared_ptr< lsst::afw::image::MaskedImage< float,lsst::afw::image::MaskPixel,lsst::afw::image::VariancePixel > > *' at 0x60e9270> >"
       ]
      },
      {
       "output_type": "stream",
       "stream": "stdout",
       "text": [
        "\n"
       ]
      }
     ],
     "prompt_number": 25
    },
    {
     "cell_type": "code",
     "collapsed": false,
     "input": [
      "ds9.mtv(c_image_1.getImage(), frame=1)\n",
      "ds9.mtv(c_image_2.getImage(), frame=2)"
     ],
     "language": "python",
     "metadata": {},
     "outputs": [],
     "prompt_number": 26
    },
    {
     "cell_type": "code",
     "collapsed": false,
     "input": [
      "\n",
      "selectSources = ImageSubtractionTools.SelectSources(scienceExp, sc_sigma_1 )"
     ],
     "language": "python",
     "metadata": {},
     "outputs": [],
     "prompt_number": 27
    },
    {
     "cell_type": "code",
     "collapsed": false,
     "input": [
      "\n",
      "n_of_gaussians = ImageSubtractionTools.CalculateNumberOfBasisFunctions(sc_sigma_1, tm_sigmaOrig)"
     ],
     "language": "python",
     "metadata": {},
     "outputs": [],
     "prompt_number": 28
    },
    {
     "cell_type": "code",
     "collapsed": false,
     "input": [
      "\n",
      "kernelSources = ImageSubtractionTools.SelectKernelSources(scienceExp, selectSources)"
     ],
     "language": "python",
     "metadata": {},
     "outputs": [],
     "prompt_number": 29
    },
    {
     "cell_type": "code",
     "collapsed": false,
     "input": [
      "#warpedExposure = ImageSubtractionTools.AlignImages()"
     ],
     "language": "python",
     "metadata": {},
     "outputs": [],
     "prompt_number": 30
    },
    {
     "cell_type": "code",
     "collapsed": false,
     "input": [
      "ds9.mtv(subtractedImage, frame=1)"
     ],
     "language": "python",
     "metadata": {},
     "outputs": [],
     "prompt_number": 32
    },
    {
     "cell_type": "code",
     "collapsed": false,
     "input": [],
     "language": "python",
     "metadata": {},
     "outputs": [
      {
       "metadata": {},
       "output_type": "pyout",
       "prompt_number": 48,
       "text": [
        "<module 'ImageSubtractionTools' from 'ImageSubtractionTools.py'>"
       ]
      }
     ],
     "prompt_number": 48
    },
    {
     "cell_type": "code",
     "collapsed": false,
     "input": [
      "candidateList, templateFwhmPix, scienceFwhmPix = ImageSubtractionTools.MakeCandidateList(templateExp, scienceExp )"
     ],
     "language": "python",
     "metadata": {},
     "outputs": [],
     "prompt_number": 55
    },
    {
     "cell_type": "code",
     "collapsed": false,
     "input": [
      "\n",
      "kernelCellSet = ImageSubtractionTools.CalculateKernelCellSet(templateExp, scienceExp, candidateList)"
     ],
     "language": "python",
     "metadata": {},
     "outputs": [],
     "prompt_number": 56
    },
    {
     "cell_type": "code",
     "collapsed": false,
     "input": [
      "\n",
      "basisList = ImageSubtractionTools.CalculateKernelBasis(templateExp, templateFwhmPix, scienceExp, scienceFwhmPix, candidateList)\n",
      "spatialSolution, psfMatchingKernel, backgroundModel = ImageSubtractionTools.SolvePsfMatching(kernelCellSet, basisList)"
     ],
     "language": "python",
     "metadata": {},
     "outputs": [],
     "prompt_number": 61
    },
    {
     "cell_type": "code",
     "collapsed": false,
     "input": [
      "from lsst.ip.diffim import utils as diUtils\n",
      "diUtils.showKernelBasis(psfMatchingKernel, frame=5) \n",
      "diUtils.showKernelCandidates(kernelCellSet, kernel=psfMatchingKernel, background=backgroundModel,\n",
      "                                         frame=6,\n",
      "                                         showBadCandidates=True,\n",
      "                                         resids=True)"
     ],
     "language": "python",
     "metadata": {},
     "outputs": [
      {
       "metadata": {},
       "output_type": "pyout",
       "prompt_number": 63,
       "text": [
        "<lsst.afw.image.imageLib.ImageF; proxy of <Swig Object of type 'boost::shared_ptr< lsst::afw::image::Image< float > > *' at 0x5eeecf0> >"
       ]
      }
     ],
     "prompt_number": 63
    },
    {
     "cell_type": "code",
     "collapsed": false,
     "input": [
      "\n",
      "matchedImage = ImageSubtractionTools.PsfConvolveImage(templateExp, psfMatchingKernel, doNormalize=True)"
     ],
     "language": "python",
     "metadata": {},
     "outputs": [],
     "prompt_number": 67
    },
    {
     "cell_type": "code",
     "collapsed": false,
     "input": [
      "reload(ImageSubtractionTools)\n",
      "subtractedImage = ImageSubtractionTools.SubtractImages(matchedImage, templateExp, scienceExp)"
     ],
     "language": "python",
     "metadata": {},
     "outputs": [],
     "prompt_number": 74
    },
    {
     "cell_type": "code",
     "collapsed": false,
     "input": [
      "ds9.mtv(subtractedImage, frame=6)"
     ],
     "language": "python",
     "metadata": {},
     "outputs": [],
     "prompt_number": 75
    },
    {
     "cell_type": "code",
     "collapsed": false,
     "input": [
      "\n",
      "subtractedImage = ImageSubtractionTools.SubtractImages(templateExp, tm_sigmaOrig, scienceExp, sc_sigma_1, kernelSources)"
     ],
     "language": "python",
     "metadata": {},
     "outputs": [],
     "prompt_number": 31
    }
   ],
   "metadata": {}
  }
 ]
}