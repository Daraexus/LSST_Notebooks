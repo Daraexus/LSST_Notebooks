{
 "cells": [
  {
   "cell_type": "code",
   "execution_count": 1,
   "metadata": {
    "collapsed": true
   },
   "outputs": [],
   "source": [
    "import lsst.daf.persistence as dafPersist\n",
    "import re\n",
    "import lsst.afw.math as afwMath\n",
    "import numpy as np\n",
    "import matplotlib.pyplot as plt\n",
    "%matplotlib inline\n"
   ]
  },
  {
   "cell_type": "code",
   "execution_count": 2,
   "metadata": {
    "collapsed": true
   },
   "outputs": [],
   "source": [
    "def get_mean( calexp):\n",
    "    mi = calexp.getMaskedImage()\n",
    "    bad = ~calexp.getMaskedImage().getMask().getPlaneBitMask(['DETECTED' ])\n",
    "    sctrl = afwMath.StatisticsControl()\n",
    "    sctrl.setAndMask(bad)\n",
    "    stats = afwMath.makeStatistics(mi, afwMath.MEAN, sctrl)\n",
    "    return (stats.getValue(afwMath.MEAN))\n",
    "\n",
    "def get_threshold(dayDiff, factor=1):\n",
    "    mi = dayDiff.getMaskedImage()\n",
    "    bad = dayDiff.getMaskedImage().getMask().getPlaneBitMask(['BAD', 'SAT', 'EDGE', 'NO_DATA', ])\n",
    "    sctrl = afwMath.StatisticsControl()\n",
    "    sctrl.setAndMask(bad)\n",
    "    stats = afwMath.makeStatistics(mi, afwMath.STDEVCLIP, sctrl)\n",
    "    thres = (stats.getValue(afwMath.STDEVCLIP) * factor)\n",
    "    return thres\n",
    "\n",
    "def get_sn(img):\n",
    "    try:\n",
    "        sn= get_mean(img)/get_threshold(img)\n",
    "    except Exception as e:\n",
    "        sn = 0\n",
    "    return sn"
   ]
  },
  {
   "cell_type": "code",
   "execution_count": 3,
   "metadata": {
    "collapsed": true
   },
   "outputs": [],
   "source": [
    "DATADIR=\"/datadec/cppm/jpreyes/CFHT_Production/\"\n",
    "butler = dafPersist.Butler(DATADIR+\"detect_prod\") "
   ]
  },
  {
   "cell_type": "code",
   "execution_count": 4,
   "metadata": {
    "collapsed": true
   },
   "outputs": [],
   "source": [
    "patches = []\n",
    "patches_file=open(DATADIR+\"/patches.txt\", \"rb\")\n",
    "for line in patches_file:\n",
    "    line = line.replace('\\n','')\n",
    "    text = re.split(\"=| \",line)\n",
    "    patches.append(text[-1])\n",
    "patches_file.close()\n",
    "\n"
   ]
  },
  {
   "cell_type": "code",
   "execution_count": null,
   "metadata": {
    "collapsed": true
   },
   "outputs": [],
   "source": []
  },
  {
   "cell_type": "code",
   "execution_count": 5,
   "metadata": {
    "collapsed": true
   },
   "outputs": [],
   "source": [
    "dcoadd_dict = {}\n",
    "for p in patches:\n",
    "    if butler.datasetExists(\"deepCoadd\", dataId={\"filter\":\"i\", \"tract\":0, \"patch\":p}):\n",
    "            \n",
    "            dCoadd = butler.get(\"deepCoadd\", dataId={\"filter\":\"i\", \"tract\":0, \"patch\":p})\n",
    "            dcoadd_dict[p]=dCoadd"
   ]
  },
  {
   "cell_type": "code",
   "execution_count": 6,
   "metadata": {
    "collapsed": true
   },
   "outputs": [],
   "source": [
    "butler_test = dafPersist.Butler(DATADIR+\"daycoadd_tests_complete\") \n",
    "dcoadd_dict_test = {}\n",
    "for p in patches:\n",
    "    if butler_test.datasetExists(\"deepCoadd\", dataId={\"filter\":\"i\", \"tract\":0, \"patch\":p}):\n",
    "            \n",
    "            dCoadd = butler_test.get(\"deepCoadd\", dataId={\"filter\":\"i\", \"tract\":0, \"patch\":p})\n",
    "            dcoadd_dict_test[p]=dCoadd"
   ]
  },
  {
   "cell_type": "code",
   "execution_count": 7,
   "metadata": {},
   "outputs": [
    {
     "data": {
      "text/plain": [
       "(393, 367)"
      ]
     },
     "execution_count": 7,
     "metadata": {},
     "output_type": "execute_result"
    }
   ],
   "source": [
    "len(dcoadd_dict), len(dcoadd_dict_test)"
   ]
  },
  {
   "cell_type": "code",
   "execution_count": 8,
   "metadata": {
    "collapsed": true
   },
   "outputs": [],
   "source": [
    "sn_values = []\n",
    "for p in patches:\n",
    "    if dcoadd_dict.has_key(p):\n",
    "        v1 = get_sn(dcoadd_dict[p])\n",
    "    else:\n",
    "        v1 = -1\n",
    "    if dcoadd_dict_test.has_key(p):   \n",
    "        v2 = get_sn(dcoadd_dict_test[p])\n",
    "    else:\n",
    "        v2 = -1\n",
    "    if v1!=-1 and v2!=-1:\n",
    "        sn_values.append([v1,v2])"
   ]
  },
  {
   "cell_type": "code",
   "execution_count": 9,
   "metadata": {
    "collapsed": true
   },
   "outputs": [],
   "source": [
    "sn_values = np.array(sn_values)"
   ]
  },
  {
   "cell_type": "code",
   "execution_count": 10,
   "metadata": {},
   "outputs": [
    {
     "data": {
      "text/plain": [
       "array([[  2.27261331e-01,   2.91441669e-01],\n",
       "       [  6.48929051e-01,   9.54462177e-02],\n",
       "       [  4.42462373e-02,   2.50753220e-01],\n",
       "       [  1.77897634e-01,   1.75607920e-01],\n",
       "       [  2.10358329e-01,   1.35873372e-01],\n",
       "       [  2.33662878e-02,   1.70918937e-01],\n",
       "       [  1.29970922e-01,   1.19226739e-01],\n",
       "       [  1.36759404e-01,   1.36989465e-01],\n",
       "       [  3.99487867e-01,   8.65171345e-01],\n",
       "       [  1.62590569e-01,  -7.07286431e-02],\n",
       "       [  5.87566226e-02,   1.22759672e-01],\n",
       "       [  3.80886629e-01,   5.69675670e-01],\n",
       "       [  2.77898842e-01,   3.79387013e-01],\n",
       "       [  5.66798486e-01,   6.22153567e-01],\n",
       "       [  1.94639838e+00,   4.96263625e-01],\n",
       "       [  2.45739915e-01,   2.95424600e-01],\n",
       "       [  2.98327050e-01,   3.44062743e-01],\n",
       "       [  4.93721676e-01,   5.91339329e-01],\n",
       "       [  4.08848038e-01,   4.96242890e-01],\n",
       "       [  6.82451173e-01,   5.65460547e-01],\n",
       "       [  4.46378609e-01,   5.38162655e-01],\n",
       "       [  8.30625445e-01,   9.41969603e-01],\n",
       "       [  8.39439773e-01,   9.45548176e-01],\n",
       "       [  7.93913550e-01,   7.66868752e-01],\n",
       "       [  7.26611151e-01,   9.05479928e-01],\n",
       "       [  3.85946243e-01,   4.40856745e-01],\n",
       "       [  4.88080202e-01,   5.80941524e-01],\n",
       "       [  5.56714127e-01,   6.62161387e-01],\n",
       "       [  4.31223334e-01,   5.16984065e-01],\n",
       "       [  5.72253085e-01,   7.23021325e-01],\n",
       "       [  3.73068401e-01,   5.19796557e-01],\n",
       "       [  4.32539113e-01,   5.70396328e-01],\n",
       "       [  6.43128905e-01,   7.10909300e-01],\n",
       "       [  8.51301731e-01,   1.00684663e+00],\n",
       "       [  1.03350266e+00,   1.16480441e+00],\n",
       "       [  6.60067505e-01,   7.30958559e-01],\n",
       "       [  6.31572313e-01,   7.54532028e-01],\n",
       "       [  4.90160634e-01,   5.95949207e-01],\n",
       "       [  4.07002030e-01,   6.64847200e-01],\n",
       "       [  5.67854954e-01,   6.81665584e-01],\n",
       "       [  8.40719606e-01,   9.85189807e-01],\n",
       "       [  6.36537892e-01,   8.63878959e-01],\n",
       "       [  7.01406375e-01,   6.74510076e-01],\n",
       "       [  8.24627803e-01,   9.85098962e-01],\n",
       "       [  3.41913999e-01,   4.10016800e-01],\n",
       "       [  1.10449695e+00,   9.61417017e-01],\n",
       "       [  4.95523290e-01,   5.16544457e-01],\n",
       "       [  7.18138100e-01,   7.55842687e-01],\n",
       "       [  1.22785553e+00,   6.85751120e-01],\n",
       "       [  8.63190650e-01,   9.69406961e-01],\n",
       "       [  4.36801344e-01,   5.39427756e-01],\n",
       "       [  5.36355028e-01,   6.59958568e-01],\n",
       "       [  6.20179037e-01,   6.92726295e-01],\n",
       "       [  6.67568231e-01,   7.31723318e-01],\n",
       "       [  7.21013143e-01,   7.35524256e-01],\n",
       "       [  4.87907167e-01,   7.18680958e-01],\n",
       "       [  4.12185611e-01,   5.17430491e-01],\n",
       "       [  5.29153550e-01,   6.05109398e-01],\n",
       "       [  5.45991667e-01,   6.53477423e-01],\n",
       "       [  8.51522016e-01,   1.06116842e+00],\n",
       "       [  6.50953126e-01,   8.51299917e-01],\n",
       "       [  8.14832262e-01,   5.88692875e-01],\n",
       "       [  7.62850388e-01,   9.05524257e-01],\n",
       "       [  5.29369320e-01,   8.39799895e-01],\n",
       "       [  9.03384210e-01,   8.13221968e-01],\n",
       "       [  5.16293583e-01,   6.16148711e-01],\n",
       "       [  4.57680617e-01,   5.62117644e-01],\n",
       "       [  1.19720894e+00,   4.65645953e-01],\n",
       "       [  8.13362451e-01,   9.22572811e-01],\n",
       "       [  4.93557276e-01,   6.08487958e-01],\n",
       "       [  4.70523016e-01,   5.58750883e-01],\n",
       "       [  3.54171810e-01,   5.18519776e-01],\n",
       "       [  4.29750062e-01,   4.75170781e-01],\n",
       "       [  7.19030104e-01,   6.15528323e-01],\n",
       "       [  5.26373622e-01,   5.40698710e-01],\n",
       "       [  5.53349581e-01,   6.51504492e-01],\n",
       "       [  4.37386180e-01,   5.34735427e-01],\n",
       "       [  6.50419719e-01,   7.79072141e-01],\n",
       "       [  5.26956200e-01,   1.01787164e+00],\n",
       "       [  4.64660907e-01,   5.69178801e-01],\n",
       "       [  7.33396751e-01,   8.43816061e-01],\n",
       "       [  6.92875712e-01,   7.13530768e-01],\n",
       "       [  8.48976451e-01,   6.25536406e-01],\n",
       "       [  9.55654255e-01,   7.82615043e-01],\n",
       "       [  5.43611904e-01,   6.73496895e-01],\n",
       "       [  4.63411180e-01,   5.25475277e-01],\n",
       "       [  5.65742010e-01,   6.53130607e-01],\n",
       "       [  3.12294278e-01,   4.27695062e-01],\n",
       "       [  9.51674812e-01,   1.20114735e+00],\n",
       "       [  3.29730618e-01,   4.10226219e-01],\n",
       "       [  4.43177536e-01,   6.07510712e-01],\n",
       "       [  7.34753256e-01,   7.82870092e-01],\n",
       "       [  1.26685755e+00,   1.30555841e+00],\n",
       "       [  6.14013555e-01,   1.05223350e+00],\n",
       "       [  5.97866297e-01,   7.49250959e-01],\n",
       "       [  5.97329175e-01,   7.10553149e-01],\n",
       "       [  7.51037858e-01,   9.77361104e-01],\n",
       "       [  3.90492550e-01,   3.27348954e-01],\n",
       "       [  9.92358649e-01,   1.02250131e+00],\n",
       "       [  1.29835096e+00,   9.91498340e-01],\n",
       "       [  6.14288391e-01,   7.25876500e-01],\n",
       "       [  7.07778998e-01,   7.37539727e-01],\n",
       "       [  8.45758927e-01,   6.56012730e-01],\n",
       "       [  6.23513419e-01,   5.10603045e-01],\n",
       "       [  1.17944869e+00,   5.24090050e-01],\n",
       "       [  1.13646775e+00,   1.42778502e+00],\n",
       "       [  2.80646534e-01,   4.11854892e-01],\n",
       "       [  8.27311364e-01,   1.04446159e+00],\n",
       "       [  4.38235572e-01,   6.92663130e-01],\n",
       "       [  3.92382344e-01,   4.78725598e-01],\n",
       "       [  4.56593892e-01,   4.66156189e-01],\n",
       "       [  6.20941506e-01,   6.93821112e-01],\n",
       "       [  4.61818304e-01,   4.40178316e-01],\n",
       "       [  3.31744036e-01,   4.27551477e-01],\n",
       "       [  1.50481638e+00,   4.12814452e-01],\n",
       "       [  2.49998043e-01,   3.41668081e-01],\n",
       "       [  2.93874206e-01,   4.13350657e-01],\n",
       "       [  7.93135111e-01,   9.16492942e-01],\n",
       "       [  7.26674839e-01,   9.05429131e-01],\n",
       "       [  5.61768003e-01,   6.41898216e-01],\n",
       "       [  4.71140408e-01,   3.92216978e-01],\n",
       "       [  4.18090358e-01,   4.76182663e-01],\n",
       "       [  6.69411706e-01,   7.65167665e-01],\n",
       "       [  5.59152883e-01,   5.33618254e-01],\n",
       "       [  4.67538782e-01,   5.74437272e-01],\n",
       "       [  2.19474234e-01,   3.66054494e-01],\n",
       "       [  1.00410056e+00,   1.09683970e+00],\n",
       "       [  7.42172713e-01,   8.80092121e-01],\n",
       "       [  3.66148659e-01,   4.36629039e-01],\n",
       "       [  3.74669845e-01,   4.33801573e-01],\n",
       "       [  6.72638743e-01,   7.20569432e-01],\n",
       "       [  3.98096810e-01,   4.90929015e-01],\n",
       "       [  7.65472459e-01,   7.48149497e-01],\n",
       "       [  4.62556483e-01,   5.50957183e-01],\n",
       "       [  4.35076260e-01,   5.20852050e-01],\n",
       "       [  8.93018480e-01,   9.62939688e-01],\n",
       "       [  8.46006812e-01,   6.49805503e-01],\n",
       "       [  3.54044189e-01,   4.18501239e-01],\n",
       "       [  5.97799003e-01,   6.80851579e-01],\n",
       "       [  4.93755096e-01,   1.48620927e+00],\n",
       "       [  3.37638626e-01,   1.56785972e-01],\n",
       "       [  5.14531844e-01,   4.31058402e-01],\n",
       "       [  8.55218408e-01,   7.92442329e-01],\n",
       "       [  9.83417336e-01,   9.48888329e-01],\n",
       "       [  3.92007045e-01,   7.09221226e-01],\n",
       "       [  6.82036668e-01,   7.82882898e-01],\n",
       "       [  5.61323096e-01,   6.92056817e-01],\n",
       "       [  5.47909227e-01,   6.21215767e-01],\n",
       "       [  2.26643944e-01,   2.54279789e-01],\n",
       "       [  3.22412488e-01,   3.71411239e-01],\n",
       "       [  4.14612030e-01,   4.64731561e-01],\n",
       "       [  5.73332034e-01,   6.70022647e-01],\n",
       "       [  7.62657095e-01,   9.12650132e-01],\n",
       "       [  8.27148690e-01,   9.00728975e-01],\n",
       "       [  8.42390492e-01,   6.89692854e-01],\n",
       "       [  4.54829535e-01,   5.35396662e-01],\n",
       "       [  4.19543778e-01,   3.89801738e-01],\n",
       "       [  8.04762941e-01,   9.31588530e-01],\n",
       "       [  6.35148718e-01,   4.53882703e-01],\n",
       "       [  1.01683924e+00,   1.18974022e+00],\n",
       "       [  9.43058521e-01,   1.07715805e+00],\n",
       "       [  1.57296321e-01,   2.22612691e-01],\n",
       "       [  4.76538205e-01,   6.12221757e-01],\n",
       "       [  2.71083545e-01,   3.70260797e-01],\n",
       "       [  2.25015264e-01,   2.62761367e-01],\n",
       "       [  3.53968627e+00,   3.04246042e-01],\n",
       "       [  5.86724675e-01,   6.44004048e-01],\n",
       "       [  8.22051820e-01,   9.34487440e-01],\n",
       "       [  1.05948087e+00,   1.23354174e+00],\n",
       "       [  6.98959133e-01,   7.99274311e-01],\n",
       "       [  7.93393110e-01,   9.13989711e-01],\n",
       "       [  3.92774973e-01,   4.68808061e-01],\n",
       "       [  4.28470674e-01,   4.32184362e-01],\n",
       "       [  6.84579035e-01,   6.93043540e-01],\n",
       "       [  3.53432447e-01,   4.37597242e-01],\n",
       "       [  3.87596001e-01,   3.35252226e-01],\n",
       "       [  9.18891383e-01,   1.02964542e+00],\n",
       "       [  5.47920941e-01,   6.71342608e-01],\n",
       "       [  8.42841808e-01,   8.52597414e-01],\n",
       "       [  4.01177805e-01,   4.67317218e-01],\n",
       "       [  3.13621552e-01,   3.98125274e-01],\n",
       "       [  1.10941263e+00,   1.20812145e+00],\n",
       "       [  7.58382004e-01,   7.62913798e-01],\n",
       "       [  2.41554320e-01,   2.33934068e-01],\n",
       "       [  2.04000798e+00,   2.24803429e+00],\n",
       "       [  5.29641409e-01,   5.52771406e-01],\n",
       "       [  4.58770470e-01,   9.29750303e-01],\n",
       "       [  4.37601395e-01,   5.31154098e-01],\n",
       "       [  5.45101995e-01,   6.19860327e-01],\n",
       "       [  5.02971459e-01,   5.85857961e-01],\n",
       "       [  5.47618116e-01,   6.50696563e-01],\n",
       "       [  7.79496781e-01,   8.77367906e-01],\n",
       "       [  9.23665482e-01,   1.13016160e+00],\n",
       "       [  9.85438160e-01,   8.04003883e-01],\n",
       "       [  5.42258135e-01,   7.08286036e-01],\n",
       "       [  7.26653904e-01,   8.50524673e-01],\n",
       "       [  9.66825261e-01,   9.46110475e-01],\n",
       "       [  5.38997313e-01,   6.68400190e-01],\n",
       "       [  3.73681481e-01,   4.13075554e-01],\n",
       "       [  5.14816377e-01,   1.13127028e+00],\n",
       "       [  6.94275537e-01,   7.16132579e-01],\n",
       "       [  5.90460790e-01,   6.14771083e-01],\n",
       "       [  5.89448001e-01,   6.94619255e-01],\n",
       "       [  8.71761700e-01,   7.98845236e-01],\n",
       "       [  8.09194197e-01,   7.64054723e-01],\n",
       "       [  4.40955089e-01,   5.69362315e-01],\n",
       "       [  4.69963489e-01,   5.67704204e-01],\n",
       "       [  3.82208726e-01,   4.46926277e-01],\n",
       "       [  4.64288958e-01,   5.60370279e-01],\n",
       "       [  7.07413990e-01,   6.17152898e-01],\n",
       "       [  9.78714838e-01,   2.79232554e-01],\n",
       "       [  8.47835426e-01,   5.26734793e-01],\n",
       "       [  7.20940728e-01,   7.03035444e-01],\n",
       "       [  4.33146385e-01,   5.34314338e-01],\n",
       "       [  6.89029478e-01,   5.32267034e-01],\n",
       "       [  1.09694286e+00,   1.43550799e+00],\n",
       "       [  6.52488401e-01,   7.86465264e-01],\n",
       "       [  5.57509861e-01,   5.50005492e-01],\n",
       "       [  7.14204381e-01,   8.13183552e-01],\n",
       "       [  4.23005468e-01,   5.57128957e-01],\n",
       "       [  4.53404045e-01,   5.67428166e-01],\n",
       "       [  7.54109373e-01,   8.62407577e-01],\n",
       "       [  7.39985600e-01,   6.86430581e-01],\n",
       "       [  5.34883677e-01,   6.39644108e-01],\n",
       "       [  1.33525818e+00,   1.43933513e+00],\n",
       "       [  1.00844326e+00,   1.21151252e+00],\n",
       "       [  7.49382446e-01,   4.59419572e-01],\n",
       "       [  7.12547156e-01,   7.26195226e-01],\n",
       "       [  7.48104824e-01,   7.27912565e-01],\n",
       "       [  5.10449138e-01,   5.48869811e-01],\n",
       "       [  6.09215657e-01,   6.90939736e-01],\n",
       "       [  1.07524501e+00,   1.46146453e+00],\n",
       "       [  5.85543039e-01,   6.76721410e-01],\n",
       "       [  7.56053583e-01,   6.41271299e-01],\n",
       "       [  7.81486781e-01,   9.23564170e-01],\n",
       "       [  8.18689153e-01,   9.69622472e-01],\n",
       "       [  7.75606683e-01,   9.51313243e-01],\n",
       "       [  7.95079509e-01,   7.34908923e-01],\n",
       "       [  4.83545437e-01,   6.09372989e-01],\n",
       "       [  5.59160481e-01,   6.89102141e-01],\n",
       "       [  2.87258769e+09,   7.78392988e-01],\n",
       "       [  3.36156709e-01,   4.45988111e-01],\n",
       "       [  4.45125465e-01,   5.24009185e-01],\n",
       "       [  6.13303319e-01,   6.17313334e-01],\n",
       "       [  5.30580409e-01,   6.49404966e-01],\n",
       "       [  4.20004745e-01,   5.07904806e-01],\n",
       "       [  5.66744030e-01,   4.13053274e-01],\n",
       "       [  4.74423456e-01,   6.37381125e-01],\n",
       "       [  1.32194214e+00,   6.89038710e-01],\n",
       "       [  7.91216285e-01,   8.59596039e-01],\n",
       "       [  6.45876869e-01,   7.11581067e-01],\n",
       "       [  7.13515430e-01,   8.47422639e-01],\n",
       "       [  7.41363092e-01,   8.86924396e-01],\n",
       "       [  1.07796555e+00,   1.11033233e+00],\n",
       "       [  9.25993874e-01,   1.07014422e+00],\n",
       "       [  6.28586117e-01,   7.27174912e-01],\n",
       "       [  1.12996444e+00,   1.27931551e+00],\n",
       "       [  9.80344216e-01,   9.19930492e-01],\n",
       "       [  8.19000119e-01,   1.06289099e+00],\n",
       "       [  6.31465358e-01,   7.09410172e-01],\n",
       "       [  3.11758320e-01,   3.44401465e-01],\n",
       "       [  3.70959115e-01,   4.49396072e-01],\n",
       "       [  6.01805908e-01,   7.26267159e-01],\n",
       "       [  3.26551348e-01,   4.04107740e-01],\n",
       "       [  5.97763487e-01,   5.65226973e-01],\n",
       "       [  7.46785410e-01,   1.39084370e+00],\n",
       "       [  4.81568646e-01,   4.48574593e-01],\n",
       "       [  1.09874132e+00,   1.33057796e+00],\n",
       "       [  9.58192093e-01,   1.12486892e+00],\n",
       "       [  4.01790024e-01,   4.22270108e-01],\n",
       "       [  5.55637058e-01,   4.74893835e-01],\n",
       "       [  8.28899567e-01,   9.83681663e-01],\n",
       "       [  7.40409094e-01,   8.64255375e-01],\n",
       "       [  7.01759265e-01,   8.65285835e-01],\n",
       "       [  4.27461741e-01,   4.79604031e-01],\n",
       "       [  6.63928598e-01,   7.59300747e-01],\n",
       "       [  1.28176770e+00,   1.42660584e+00],\n",
       "       [  1.24000633e+00,   1.24529307e+00],\n",
       "       [  1.05542178e+00,   1.14969272e+00],\n",
       "       [  4.04080332e-01,   4.78024771e-01],\n",
       "       [  4.24443913e-01,   6.07568223e-01],\n",
       "       [  4.89331863e-01,   6.52669730e-01],\n",
       "       [  4.62873568e-01,   6.17201362e-01],\n",
       "       [  4.69910748e-01,   4.96311863e-01],\n",
       "       [  1.04751840e+00,   1.36632151e+00],\n",
       "       [  5.58970441e-01,   6.43710315e-01],\n",
       "       [  5.60525486e-01,   7.10839824e-01],\n",
       "       [  7.24876061e-01,   9.41608101e-01],\n",
       "       [  3.06367886e-01,   4.28123099e-01],\n",
       "       [  6.28889114e-01,   7.44841289e-01],\n",
       "       [  6.91754241e-01,   8.22954648e-01],\n",
       "       [  4.93226783e-01,   5.99182856e-01],\n",
       "       [  5.02091979e-01,   6.70590105e-01],\n",
       "       [  3.84929930e-01,   4.84427506e-01],\n",
       "       [  5.37029315e-01,   7.36638814e-01],\n",
       "       [  6.45079501e-01,   5.89523726e-01],\n",
       "       [  1.19647826e+00,   1.03657747e+00],\n",
       "       [  1.09195080e+00,   1.31947705e+00],\n",
       "       [  5.11553834e-01,   6.31591281e-01],\n",
       "       [  4.40882457e-01,   5.21132390e-01],\n",
       "       [  8.44068279e-01,   9.97061817e-01],\n",
       "       [  5.93455462e-01,   7.32569648e-01],\n",
       "       [  6.19663746e-01,   1.17404383e+00],\n",
       "       [  6.45601801e-01,   7.45224258e-01],\n",
       "       [  8.66729089e-01,   7.91263556e-01],\n",
       "       [  1.28632951e+00,   8.24271215e-01],\n",
       "       [  7.01173499e-01,   4.91978504e-01],\n",
       "       [  4.16687684e-01,   1.23120375e+00],\n",
       "       [  7.63542178e-01,   1.35072312e+00],\n",
       "       [  4.94517337e-01,   9.96902396e-01],\n",
       "       [  8.75787969e-01,   8.30004793e-01],\n",
       "       [  5.50630694e-01,   6.76522308e-01],\n",
       "       [  5.94942120e-01,   7.88315813e-01],\n",
       "       [  4.69038738e-01,   6.57239839e-01],\n",
       "       [  4.36338258e-01,   5.22498363e-01],\n",
       "       [  5.37005569e-01,   5.82584791e-01],\n",
       "       [  5.18542444e-01,   6.59668503e-01],\n",
       "       [  4.63702777e-01,   5.67136836e-01],\n",
       "       [  4.45533588e-01,   3.25083534e-01],\n",
       "       [  8.87194607e-01,   9.81308203e-01],\n",
       "       [  4.47641826e-01,   5.04549888e-01],\n",
       "       [  5.22450312e-01,   6.30539470e-01],\n",
       "       [  6.35826850e-01,   7.34340939e-01],\n",
       "       [  7.79684124e-01,   9.49663166e-01],\n",
       "       [  1.00900949e+00,   6.01051575e-01],\n",
       "       [  4.26992398e-01,   5.23580226e-01],\n",
       "       [  2.37117391e-01,   4.86146700e-01],\n",
       "       [  2.29874944e-01,   2.90984316e-01],\n",
       "       [  5.48031436e-01,   9.16813255e-01],\n",
       "       [  7.63967732e-01,   9.20945490e-01],\n",
       "       [  6.77242220e-01,   7.00990067e-01],\n",
       "       [  7.68941431e-01,   9.55968010e-01],\n",
       "       [  3.66498224e-01,   5.89077062e-01],\n",
       "       [  6.93905573e-01,   6.61063366e-01],\n",
       "       [  7.01365073e-01,   8.55020140e-01],\n",
       "       [  4.83869383e-01,   4.96596768e-01],\n",
       "       [  3.20360539e-01,   6.05616172e-01],\n",
       "       [  9.74239602e-01,   1.06954162e+00],\n",
       "       [  4.72898788e-01,   5.19256325e-01],\n",
       "       [  7.27928911e-01,   7.23235247e-01],\n",
       "       [  6.80751010e-01,   7.85558947e-01],\n",
       "       [  5.07349562e-01,   4.92343816e-01],\n",
       "       [  5.47757014e-01,   5.59067231e-01],\n",
       "       [  8.75887169e-01,   9.41948347e-01],\n",
       "       [  4.76890161e-01,   5.18247425e-01],\n",
       "       [  2.30473358e-01,   5.41663568e-01],\n",
       "       [  4.24310665e-01,   9.87681591e-01],\n",
       "       [  8.46507638e-01,   9.98748055e-01],\n",
       "       [  6.16568810e-01,   7.69227184e-01],\n",
       "       [  4.06424222e-01,   5.03604808e-01],\n",
       "       [ -2.69395859e-02,   1.01237106e-01],\n",
       "       [  2.96154844e-01,   3.06857710e-01],\n",
       "       [  5.80540171e-01,   6.77603030e-01],\n",
       "       [  2.69535400e-01,   2.05996193e-01],\n",
       "       [  3.64820164e-01,   1.27206201e-01],\n",
       "       [  3.00668810e-01,   3.39699580e-01],\n",
       "       [  5.10336591e-01,   6.17469033e-01],\n",
       "       [  3.32000715e-01,   4.21598700e-01],\n",
       "       [  6.14035930e-01,   6.45205831e-01],\n",
       "       [  4.00595153e-01,   5.08673397e-01],\n",
       "       [  3.17297814e-01,   3.67858119e-01],\n",
       "       [  6.75144943e-01,   8.00099335e-01],\n",
       "       [  2.23223566e+02,   1.64041151e-01],\n",
       "       [ -2.35311268e-02,   3.19730561e-02],\n",
       "       [  5.25365863e-01,   6.67368655e-01],\n",
       "       [  3.10903231e-01,   4.22215868e-01]])"
      ]
     },
     "execution_count": 10,
     "metadata": {},
     "output_type": "execute_result"
    }
   ],
   "source": [
    "sn_values"
   ]
  },
  {
   "cell_type": "code",
   "execution_count": 11,
   "metadata": {
    "collapsed": true
   },
   "outputs": [],
   "source": [
    "control = sn_values[:,0]\n",
    "test = sn_values[:,1]"
   ]
  },
  {
   "cell_type": "code",
   "execution_count": 12,
   "metadata": {},
   "outputs": [
    {
     "data": {
      "text/plain": [
       "(0.0, 50)"
      ]
     },
     "execution_count": 12,
     "metadata": {},
     "output_type": "execute_result"
    },
    {
     "data": {
      "image/png": "[encoded data removed]",
      "text/plain": [
       "<matplotlib.figure.Figure at 0x7f7dad0cec10>"
      ]
     },
     "metadata": {},
     "output_type": "display_data"
    }
   ],
   "source": [
    "plt.figure(figsize=(20,10))\n",
    "plt.bar(range(len(test)),test, color=\"blue\", alpha=0.5)\n",
    "plt.bar(range(len(control)),control, color=\"red\", alpha=0.5)\n",
    "\n",
    "plt.ylim(ymin=0.0, ymax=5.0)\n",
    "plt.xlim(xmax=50)"
   ]
  },
  {
   "cell_type": "code",
   "execution_count": 13,
   "metadata": {},
   "outputs": [
    {
     "data": {
      "text/plain": [
       "(50, 100)"
      ]
     },
     "execution_count": 13,
     "metadata": {},
     "output_type": "execute_result"
    },
    {
     "data": {
      "image/png": "[encoded data removed]",
      "text/plain": [
       "<matplotlib.figure.Figure at 0x7f7d91809390>"
      ]
     },
     "metadata": {},
     "output_type": "display_data"
    }
   ],
   "source": [
    "plt.figure(figsize=(20,10))\n",
    "plt.bar(range(len(test)),test, color=\"blue\", alpha=0.5)\n",
    "plt.bar(range(len(control)),control, color=\"red\", alpha=0.5)\n",
    "\n",
    "plt.ylim(ymin=0.0, ymax=5.0)\n",
    "plt.xlim(xmin=50, xmax=100)"
   ]
  },
  {
   "cell_type": "code",
   "execution_count": 14,
   "metadata": {},
   "outputs": [
    {
     "data": {
      "text/plain": [
       "(150, 200)"
      ]
     },
     "execution_count": 14,
     "metadata": {},
     "output_type": "execute_result"
    },
    {
     "data": {
      "image/png": "[encoded data removed]",
      "text/plain": [
       "<matplotlib.figure.Figure at 0x7f7daa030610>"
      ]
     },
     "metadata": {},
     "output_type": "display_data"
    }
   ],
   "source": [
    "plt.figure(figsize=(20,10))\n",
    "plt.bar(range(len(test)),test, color=\"blue\", alpha=0.5)\n",
    "plt.bar(range(len(control)),control, color=\"red\", alpha=0.5)\n",
    "\n",
    "plt.ylim(ymin=0.0, ymax=5.0)\n",
    "plt.xlim(xmin=150, xmax=200)"
   ]
  },
  {
   "cell_type": "code",
   "execution_count": 15,
   "metadata": {},
   "outputs": [
    {
     "data": {
      "text/plain": [
       "(200, 250)"
      ]
     },
     "execution_count": 15,
     "metadata": {},
     "output_type": "execute_result"
    },
    {
     "data": {
      "image/png": "[encoded data removed]",
      "text/plain": [
       "<matplotlib.figure.Figure at 0x7f7d71053a50>"
      ]
     },
     "metadata": {},
     "output_type": "display_data"
    }
   ],
   "source": [
    "plt.figure(figsize=(20,10))\n",
    "plt.bar(range(len(test)),test, color=\"blue\", alpha=0.5)\n",
    "plt.bar(range(len(control)),control, color=\"red\", alpha=0.5)\n",
    "\n",
    "plt.ylim(ymin=0.0, ymax=5.0)\n",
    "plt.xlim(xmin=200, xmax=250)"
   ]
  },
  {
   "cell_type": "code",
   "execution_count": 16,
   "metadata": {},
   "outputs": [
    {
     "data": {
      "text/plain": [
       "(250, 300)"
      ]
     },
     "execution_count": 16,
     "metadata": {},
     "output_type": "execute_result"
    },
    {
     "data": {
      "image/png": "[encoded data removed]",
      "text/plain": [
       "<matplotlib.figure.Figure at 0x7f7d9b833cd0>"
      ]
     },
     "metadata": {},
     "output_type": "display_data"
    }
   ],
   "source": [
    "plt.figure(figsize=(20,10))\n",
    "plt.bar(range(len(test)),test, color=\"blue\", alpha=0.5)\n",
    "plt.bar(range(len(control)),control, color=\"red\", alpha=0.5)\n",
    "\n",
    "plt.ylim(ymin=0.0, ymax=5.0)\n",
    "plt.xlim(xmin=250, xmax=300)"
   ]
  },
  {
   "cell_type": "code",
   "execution_count": null,
   "metadata": {
    "collapsed": true
   },
   "outputs": [],
   "source": []
  }
 ],
 "metadata": {
  "kernelspec": {
   "display_name": "Python 2",
   "language": "python",
   "name": "python2"
  },
  "language_info": {
   "codemirror_mode": {
    "name": "ipython",
    "version": 2
   },
   "file_extension": ".py",
   "mimetype": "text/x-python",
   "name": "python",
   "nbconvert_exporter": "python",
   "pygments_lexer": "ipython2",
   "version": "2.7.12"
  }
 },
 "nbformat": 4,
 "nbformat_minor": 2
}
