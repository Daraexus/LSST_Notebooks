{
 "metadata": {
  "name": ""
 },
 "nbformat": 3,
 "nbformat_minor": 0,
 "worksheets": [
  {
   "cells": [
    {
     "cell_type": "heading",
     "level": 1,
     "metadata": {},
     "source": [
      "Coaddition basic configuration"
     ]
    },
    {
     "cell_type": "markdown",
     "metadata": {},
     "source": [
      "In order to ingest the image, we import the Ingest class as an Ingester"
     ]
    },
    {
     "cell_type": "code",
     "collapsed": false,
     "input": [
      "import glob\n",
      "import os\n",
      "import lsst.pipe.tasks.ingest as Ingester\n",
      "import lsst.pipe.tasks.processCcd as Processer\n",
      "import lsst.pipe.base.argumentParser as ArgumentParser\n",
      "import lsst.daf.persistence as dafPersist\n",
      "import lsst.pipe.tasks.makeSkyMap as SkyMapper\n",
      "#import lsst.pipe.tasks.reportPatches as \n",
      "\n",
      "\n",
      "#print(os.getenv)\n",
      "#dDir = os.getenv(\"/renoir_data_00/jpreyes/stacks/notebook_files/input/\")\n",
      "#butler = dafPersist.Butler(dDir)"
     ],
     "language": "python",
     "metadata": {},
     "outputs": [
      {
       "ename": "NameError",
       "evalue": "name 'reportPatches' is not defined",
       "output_type": "pyerr",
       "traceback": [
        "\u001b[1;31m---------------------------------------------------------------------------\u001b[0m\n\u001b[1;31mNameError\u001b[0m                                 Traceback (most recent call last)",
        "\u001b[1;32m<ipython-input-3-a6ee8ae41765>\u001b[0m in \u001b[0;36m<module>\u001b[1;34m()\u001b[0m\n\u001b[0;32m      8\u001b[0m \u001b[1;31m#import lsst.pipe.tasks.reportPatches as\u001b[0m\u001b[1;33m\u001b[0m\u001b[1;33m\u001b[0m\u001b[0m\n\u001b[0;32m      9\u001b[0m \u001b[1;33m\u001b[0m\u001b[0m\n\u001b[1;32m---> 10\u001b[1;33m \u001b[0mreportPatches\u001b[0m\u001b[1;33m(\u001b[0m\u001b[1;33m)\u001b[0m\u001b[1;33m\u001b[0m\u001b[0m\n\u001b[0m\u001b[0;32m     11\u001b[0m \u001b[1;33m\u001b[0m\u001b[0m\n\u001b[0;32m     12\u001b[0m \u001b[1;31m#print(os.getenv)\u001b[0m\u001b[1;33m\u001b[0m\u001b[1;33m\u001b[0m\u001b[0m\n",
        "\u001b[1;31mNameError\u001b[0m: name 'reportPatches' is not defined"
       ]
      }
     ],
     "prompt_number": 3
    },
    {
     "cell_type": "markdown",
     "metadata": {},
     "source": [
      "We need to instantiate the task as well as the configuration and parser classes.\n",
      "\n",
      "IMPORTANT: a file _mapper has to exist in the input folder with the line 'lsst.echo.cfht.MegacamMapper' or the method will not run!\n",
      "\n",
      "Usually, by command line, a wildcard can be used to express a list of files. However, the wildcard is interpreted by the shell and split in a long line with all the list of arguments. In order to ensure that the same is beind done here, we have to manually generate the list from the wildcard and put in a valid string format."
     ]
    },
    {
     "cell_type": "code",
     "collapsed": false,
     "input": [
      "ITask = Ingester.IngestTask\n",
      "IConfig = ITask.ConfigClass()\n",
      "IParser = ITask.ArgumentParser(\"ingest\")\n",
      "Files = glob.glob(\"../../data/raw/*.fz\")\n",
      "SFiles = ' '.join(Files)\n",
      "print(SFiles)\n"
     ],
     "language": "python",
     "metadata": {},
     "outputs": [
      {
       "output_type": "stream",
       "stream": "stdout",
       "text": [
        "../../data/raw/739518p.fits.fz ../../data/raw/739520p.fits.fz ../../data/raw/739521p.fits.fz ../../data/raw/739522p.fits.fz ../../data/raw/741666p.fits.fz ../../data/raw/741667p.fits.fz ../../data/raw/741668p.fits.fz ../../data/raw/741670p.fits.fz ../../data/raw/789045p.fits.fz ../../data/raw/792245p.fits.fz ../../data/raw/792453p.fits.fz ../../data/raw/793312p.fits.fz ../../data/raw/739519p.fits.fz\n"
       ]
      }
     ],
     "prompt_number": 2
    },
    {
     "cell_type": "markdown",
     "metadata": {},
     "source": [
      "Parameters should be given to the parser the same way they should be used as parameter though the terminal"
     ]
    },
    {
     "cell_type": "code",
     "collapsed": false,
     "input": [
      "args = IParser.parse_args(IConfig, ('input '+SFiles+' --mode copy').split()) \n",
      "task = ITask(config=args.config)\n",
      "task.run(args)"
     ],
     "language": "python",
     "metadata": {},
     "outputs": [
      {
       "output_type": "stream",
       "stream": "stdout",
       "text": [
        "['input', '../../data/raw/739518p.fits.fz', '../../data/raw/739520p.fits.fz', '../../data/raw/739521p.fits.fz', '../../data/raw/739522p.fits.fz', '../../data/raw/741666p.fits.fz', '../../data/raw/741667p.fits.fz', '../../data/raw/741668p.fits.fz', '../../data/raw/741670p.fits.fz', '../../data/raw/789045p.fits.fz', '../../data/raw/792245p.fits.fz', '../../data/raw/792453p.fits.fz', '../../data/raw/793312p.fits.fz', '../../data/raw/739519p.fits.fz', '--mode', 'copy']\n",
        "['-c', '-f', '/renoir/jpreyes/.ipython/profile_default/security/kernel-ac985034-3717-45e5-bc21-c99f9dde7548.json', \"--IPKernelApp.parent_appname='ipython-notebook'\", '--profile-dir', '/renoir/jpreyes/.ipython/profile_default', '--parent=1']\n",
        "../../data/raw/739518p.fits.fz --<copy>--> /renoir_data_00/jpreyes/stacks/notebook_files/input/raw/04AL01/D2/2004-03-20/r/739518p.fits.fz"
       ]
      },
      {
       "output_type": "stream",
       "stream": "stdout",
       "text": [
        "\n",
        "../../data/raw/739520p.fits.fz --<copy>--> /renoir_data_00/jpreyes/stacks/notebook_files/input/raw/04AL01/D2/2004-03-20/r/739520p.fits.fz"
       ]
      },
      {
       "output_type": "stream",
       "stream": "stdout",
       "text": [
        "\n",
        "../../data/raw/739521p.fits.fz --<copy>--> /renoir_data_00/jpreyes/stacks/notebook_files/input/raw/04AL01/D2/2004-03-20/r/739521p.fits.fz"
       ]
      },
      {
       "output_type": "stream",
       "stream": "stdout",
       "text": [
        "\n",
        "../../data/raw/739522p.fits.fz --<copy>--> /renoir_data_00/jpreyes/stacks/notebook_files/input/raw/04AL01/D2/2004-03-20/r/739522p.fits.fz"
       ]
      },
      {
       "output_type": "stream",
       "stream": "stdout",
       "text": [
        "\n",
        "../../data/raw/741666p.fits.fz --<copy>--> /renoir_data_00/jpreyes/stacks/notebook_files/input/raw/04AL01/D2/2004-04-10/r/741666p.fits.fz"
       ]
      },
      {
       "output_type": "stream",
       "stream": "stdout",
       "text": [
        "\n",
        "../../data/raw/741667p.fits.fz --<copy>--> /renoir_data_00/jpreyes/stacks/notebook_files/input/raw/04AL01/D2/2004-04-10/r/741667p.fits.fz"
       ]
      },
      {
       "output_type": "stream",
       "stream": "stdout",
       "text": [
        "\n",
        "../../data/raw/741668p.fits.fz --<copy>--> /renoir_data_00/jpreyes/stacks/notebook_files/input/raw/04AL01/D2/2004-04-10/r/741668p.fits.fz"
       ]
      },
      {
       "output_type": "stream",
       "stream": "stdout",
       "text": [
        "\n",
        "../../data/raw/741670p.fits.fz --<copy>--> /renoir_data_00/jpreyes/stacks/notebook_files/input/raw/04AL01/D2/2004-04-10/r/741670p.fits.fz"
       ]
      },
      {
       "output_type": "stream",
       "stream": "stdout",
       "text": [
        "\n",
        "../../data/raw/789045p.fits.fz --<copy>--> /renoir_data_00/jpreyes/stacks/notebook_files/input/raw/05AL01/D2/2005-04-14/r/789045p.fits.fz"
       ]
      },
      {
       "output_type": "stream",
       "stream": "stdout",
       "text": [
        "\n",
        "../../data/raw/792245p.fits.fz --<copy>--> /renoir_data_00/jpreyes/stacks/notebook_files/input/raw/05AL01/D2/2005-05-05/r/792245p.fits.fz"
       ]
      },
      {
       "output_type": "stream",
       "stream": "stdout",
       "text": [
        "\n",
        "../../data/raw/792453p.fits.fz --<copy>--> /renoir_data_00/jpreyes/stacks/notebook_files/input/raw/05AF07/D2/2005-05-06/r/792453p.fits.fz"
       ]
      },
      {
       "output_type": "stream",
       "stream": "stdout",
       "text": [
        "\n",
        "../../data/raw/793312p.fits.fz --<copy>--> /renoir_data_00/jpreyes/stacks/notebook_files/input/raw/05AL01/D2/2005-05-13/r/793312p.fits.fz"
       ]
      },
      {
       "output_type": "stream",
       "stream": "stdout",
       "text": [
        "\n",
        "../../data/raw/739519p.fits.fz --<copy>--> /renoir_data_00/jpreyes/stacks/notebook_files/input/raw/04AL01/D2/2004-03-20/r/739519p.fits.fz"
       ]
      },
      {
       "output_type": "stream",
       "stream": "stdout",
       "text": [
        "\n"
       ]
      }
     ],
     "prompt_number": 6
    },
    {
     "cell_type": "code",
     "collapsed": false,
     "input": [
      "PTask = Processer.ProcessCcdTask\n",
      "#PConfig = PTask.ConfigClass()\n",
      "#PArgumentParser = PTask._makeArgumentParser()\n",
      "#PParsedArguments = PArgumentParser.parse_args(PConfig, \"input --output output --id ccd=18^19^20^27^28^29 --config isr.doBias=False isr.doFlat=False isr.doFringe=False\".split())\n",
      "#ProcessTask = PTask(config = PParsedArguments.config)\n",
      "#dir(PParsedArguments.config)\n",
      "#print(PParsedArguments.config.values)\n",
      "#ProcessTask.run(PParsedArguments)\n",
      "PTask.parseAndRun(args=((\"input --output output --id ccd=18 --config isr.doBias=False isr.doFlat=False isr.doFringe=False\").split()))"
     ],
     "language": "python",
     "metadata": {},
     "outputs": [
      {
       "output_type": "stream",
       "stream": "stdout",
       "text": [
        "['input', '--output', 'output', '--id', 'ccd=18', '--config', 'isr.doBias=False', 'isr.doFlat=False', 'isr.doFringe=False']\n",
        "['-c', '-f', '/renoir/jpreyes/.ipython/profile_default/security/kernel-71e79f40-9e70-41a2-a322-a5a185eb3e18.json', \"--IPKernelApp.parent_appname='ipython-notebook'\", '--profile-dir', '/renoir/jpreyes/.ipython/profile_default', '--parent=1']\n",
        "This is the processCCD"
       ]
      },
      {
       "output_type": "stream",
       "stream": "stdout",
       "text": [
        "\n",
        "This is the processCCD"
       ]
      },
      {
       "output_type": "stream",
       "stream": "stdout",
       "text": [
        "\n",
        "This is the processCCD"
       ]
      },
      {
       "output_type": "stream",
       "stream": "stdout",
       "text": [
        "\n",
        "This is the processCCD"
       ]
      },
      {
       "output_type": "stream",
       "stream": "stdout",
       "text": [
        "\n",
        "This is the processCCD"
       ]
      },
      {
       "output_type": "stream",
       "stream": "stdout",
       "text": [
        "\n",
        "This is the processCCD"
       ]
      },
      {
       "output_type": "stream",
       "stream": "stdout",
       "text": [
        "\n",
        "This is the processCCD"
       ]
      },
      {
       "output_type": "stream",
       "stream": "stdout",
       "text": [
        "\n",
        "This is the processCCD"
       ]
      },
      {
       "output_type": "stream",
       "stream": "stdout",
       "text": [
        "\n",
        "This is the processCCD"
       ]
      },
      {
       "output_type": "stream",
       "stream": "stdout",
       "text": [
        "\n",
        "This is the processCCD"
       ]
      },
      {
       "output_type": "stream",
       "stream": "stdout",
       "text": [
        "\n",
        "This is the processCCD"
       ]
      },
      {
       "output_type": "stream",
       "stream": "stdout",
       "text": [
        "\n",
        "This is the processCCD"
       ]
      },
      {
       "output_type": "stream",
       "stream": "stdout",
       "text": [
        "\n",
        "This is the processCCD"
       ]
      },
      {
       "output_type": "stream",
       "stream": "stdout",
       "text": [
        "\n"
       ]
      },
      {
       "output_type": "stream",
       "stream": "stderr",
       "text": [
        "Traceback (most recent call last):\n",
        "  File \"/renoir_data_00/jpreyes/stacks/v9_2_copy/Linux64/pipe_base/9.2/python/lsst/pipe/base/cmdLineTask.py\", line 315, in __call__\n",
        "    result = task.run(dataRef, **kwargs)\n",
        "  File \"/renoir_data_00/jpreyes/stacks/v9_2_copy/Linux64/pipe_base/9.2/python/lsst/pipe/base/timer.py\", line 118, in wrapper\n",
        "    res = func(self, *args, **keyArgs)\n",
        "  File \"/renoir_data_00/jpreyes/stacks/v9_2_copy/Linux64/pipe_tasks/9.2/python/lsst/pipe/tasks/processCcd.py\", line 84, in run\n",
        "    result = self.process(sensorRef, postIsrExposure)\n",
        "  File \"/renoir_data_00/jpreyes/stacks/v9_2_copy/Linux64/pipe_base/9.2/python/lsst/pipe/base/timer.py\", line 118, in wrapper\n",
        "    res = func(self, *args, **keyArgs)\n",
        "  File \"/renoir_data_00/jpreyes/stacks/v9_2_copy/Linux64/pipe_tasks/9.2/python/lsst/pipe/tasks/processImage.py\", line 154, in process\n",
        "    calib = self.calibrate.run(inputExposure, idFactory=idFactory)\n",
        "  File \"/renoir_data_00/jpreyes/stacks/v9_2_copy/Linux64/pipe_base/9.2/python/lsst/pipe/base/timer.py\", line 118, in wrapper\n",
        "    res = func(self, *args, **keyArgs)\n",
        "  File \"/renoir_data_00/jpreyes/stacks/v9_2_copy/Linux64/pipe_tasks/9.2/python/lsst/pipe/tasks/calibrate.py\", line 431, in run\n",
        "    astromRet = self.astrometry.run(exposure, sources1)\n",
        "  File \"/renoir_data_00/jpreyes/stacks/v9_2_copy/Linux64/pipe_base/9.2/python/lsst/pipe/base/timer.py\", line 118, in wrapper\n",
        "    res = func(self, *args, **keyArgs)\n",
        "  File \"/renoir_data_00/jpreyes/stacks/v9_2_copy/Linux64/pipe_tasks/9.2/python/lsst/pipe/tasks/astrometry.py\", line 203, in run\n",
        "    results = self.astrometry(exposure, sources, bbox=bbox)\n",
        "  File \"/renoir_data_00/jpreyes/stacks/v9_2_copy/Linux64/pipe_base/9.2/python/lsst/pipe/base/timer.py\", line 118, in wrapper\n",
        "    res = func(self, *args, **keyArgs)\n",
        "  File \"/renoir_data_00/jpreyes/stacks/v9_2_copy/Linux64/pipe_tasks/9.2/python/lsst/pipe/tasks/astrometry.py\", line 320, in astrometry\n",
        "    astrom = self.astrometer.determineWcs(sources, exposure, **kwargs)\n",
        "  File \"/renoir_data_00/jpreyes/stacks/v9_2_copy/Linux64/meas_astrom/9.2/python/lsst/meas/astrom/astrom.py\", line 405, in determineWcs\n",
        "    return self.determineWcs2(sources, **margs)\n",
        "  File \"/renoir_data_00/jpreyes/stacks/v9_2_copy/Linux64/meas_astrom/9.2/python/lsst/meas/astrom/astrom.py\", line 428, in determineWcs2\n",
        "    wcs,qa = self.getBlindWcsSolution(sources, **kwargs)\n",
        "  File \"/renoir_data_00/jpreyes/stacks/v9_2_copy/Linux64/meas_astrom/9.2/python/lsst/meas/astrom/astrom.py\", line 516, in getBlindWcsSolution\n",
        "    raise RuntimeError(\"Unable to match sources with catalog.\")\n",
        "RuntimeError: Unable to match sources with catalog.\n"
       ]
      },
      {
       "metadata": {},
       "output_type": "pyout",
       "prompt_number": 2,
       "text": [
        "Struct(taskRunner=<lsst.pipe.base.cmdLineTask.TaskRunner object at 0x54238d0>; parsedCmd=Namespace(butler=<lsst.daf.persistence.butler.Butler object at 0x51f7790>, calib=None, camera='megacam', clobberConfig=False, clobberOutput=False, config=lsst.pipe.tasks.processCcd.ProcessCcdConfig(doIsr=True, doWriteHeavyFootprintsInSources=False, doWriteSources=True, isr={'assembleCcd': {'doTrim': True, 'keysToRemove': [], 'setGain': False, 'doRenorm': False}, 'fringe': {'stats': {'badMaskPlanes': ['SAT'], 'stat': 32, 'clip': 3.0, 'iterations': 3}, 'filters': ['i', 'i2', 'z'], 'clip': 3.0, 'large': 50, 'num': 30000, 'iterations': 20, 'small': 1, 'pedestal': True}, 'doAssembleDetrends': True, 'overscanOrder': 1, 'doWrite': False, 'saturatedMaskName': 'SAT', 'fringeAfterFlat': True, 'doDark': False, 'setGainAssembledCcd': True, 'flatScalingType': 'USER', 'doFlat': False, 'doFringe': False, 'overscanRej': 3.0, 'keysToRemoveFromAssembledCcd': [], 'fluxMag0T1': 10000000000.0, 'growSaturationFootprintSize': 1, 'fwhm': 1.0, 'overscanFitType': 'MEDIAN', 'doBias': False, 'flatUserScale': 1.0}, doDetection=True, doWriteSourceMatches=False, detection={'reEstimateBackground': True, 'nSigmaToGrow': 2.4, 'minPixels': 1, 'includeThresholdMultiplier': 1.0, 'isotropicGrow': False, 'adjustBackground': 0.0, 'thresholdType': 'stdev', 'background': {'ignoredPixelMask': ['EDGE', 'DETECTED', 'DETECTED_NEGATIVE'], 'undersampleStyle': 'REDUCE_INTERP_ORDER', 'algorithm': 'NATURAL_SPLINE', 'binSize': 256, 'isNanSafe': False, 'statisticsProperty': 'MEANCLIP'}, 'returnOriginalFootprints': True, 'thresholdPolarity': 'positive', 'thresholdValue': 5.0}, doWriteCalibrateMatches=True, doDeblend=False, calibrate={'initialPsf': {'fwhm': 1.0, 'model': 'SingleGaussian', 'pixelScale': 0.25, 'size': 15}, 'repair': {'doInterpolate': True, 'doCosmicRay': True, 'cosmicray': {'keepCRs': False, 'cond3_fac2': 0.6, 'cond3_fac': 2.5, 'nCrPixelMax': 100000, 'niteration': 3, 'minSigma': 6.0, 'min_DN': 150.0}}, 'doPsf': True, 'astrometry': {'rejectIter': 3, 'forceKnownWcs': False, 'rejectThresh': 3.0, 'solver': {'cleaningParameter': 3.0, 'pixelScaleUncertainty': 1.1, 'catalogMatchDist': 1.0, 'useWcsParity': True, 'sipOrder': 4, 'useWcsRaDecCenter': True, 'matchThreshold': 27.631021115928547, 'useWcsPixelScale': True, 'maxStars': 50, 'allFluxes': True, 'calculateSip': True, 'maxCpuTime': 0.0, 'filterMap': {}, 'raDecSearchRadius': 1.0}}, 'doBackground': True, 'detection': {'reEstimateBackground': True, 'nSigmaToGrow': 2.4, 'minPixels': 1, 'includeThresholdMultiplier': 10.0, 'isotropicGrow': False, 'adjustBackground': 0.0, 'thresholdType': 'stdev', 'background': {'ignoredPixelMask': ['EDGE', 'DETECTED', 'DETECTED_NEGATIVE'], 'undersampleStyle': 'REDUCE_INTERP_ORDER', 'algorithm': 'NATURAL_SPLINE', 'binSize': 256, 'isNanSafe': False, 'statisticsProperty': 'MEANCLIP'}, 'returnOriginalFootprints': True, 'thresholdPolarity': 'positive', 'thresholdValue': 5.0}, 'doPhotoCal': True, 'initialMeasurement': {'doReplaceWithNoise': True, 'centroider': {'values': {'centroid.sdss': {'priority': 0.0, 'peakMin': -1.0, 'binmax': 16, 'wfac': 1.5}, 'centroid.naive': {'priority': 0.0, 'background': 0.0}, 'centroid.gaussian': {'priority': 0.0}}, 'name': 'centroid.sdss'}, 'prefix': None, 'algorithms': {'values': {'centroid.sdss': {'priority': 0.0, 'peakMin': -1.0, 'binmax': 16, 'wfac': 1.5}, 'flux.psf': {'priority': 2.0}, 'flags.pixel': {'priority': 0.0}, 'centroid.gaussian': {'priority': 0.0}, 'centroid.record': {'priority': 5.0}, 'flux.aperture': {'priority': 2.0, 'radii': [0.0, 0.0, 0.0, 0.0, 0.0, 0.0, 0.0, 0.0, 0.0, 0.0, 1.0, 1.5625, 2.44140625, 3.814697265625, 5.9604644775390625, 9.313225746154785, 14.551915228366852, 22.737367544323206, 35.52713678800501, 55.51115123125783]}, 'flux.naive': {'priority': 2.0, 'radius': 7.0}, 'flux.gaussian': {'shapeFlag': '.flags', 'tol2': 9.999999747378752e-05, 'tol1': 9.999999747378752e-06, 'priority': 2.0, 'shape': 'shape.sdss', 'centroid': 'shape.sdss.centroid', 'background': 0.0, 'maxIter': 100, 'fixed': False, 'shiftmax': 10.0}, 'centroid.naive': {'priority': 0.0, 'background': 0.0}, 'flux.sinc': {'priority': 2.0, 'radius1': 0.0, 'radius2': 7.0, 'angle': 0.0, 'ellipticity': 0.0}, 'shape.sdss': {'priority': 1.0, 'tol2': 9.999999747378752e-05, 'tol1': 9.999999747378752e-06, 'background': 0.0, 'maxIter': 100}, 'flux.aperture.elliptical': {'priority': 1.899999976158142, 'radii': [0.0, 0.0, 0.0, 0.0, 0.0, 0.0, 0.0, 0.0, 0.0, 0.0, 1.0, 1.5625, 2.44140625, 3.814697265625, 5.9604644775390625, 9.313225746154785, 14.551915228366852, 22.737367544323206, 35.52713678800501, 55.51115123125783]}, 'flux.peakLikelihood': {'priority': 2.0, 'warpingKernelName': 'lanczos4'}, 'correctfluxes': {'doApCorr': True, 'canonicalFluxName': 'flux.psf', 'apCorrRadius': 7.0, 'priority': 3.0, 'doFlagTieFailures': True, 'doFlagApCorrFailures': True, 'canonicalFluxIndex': 0, 'doTieScaledFluxes': True}, 'classification.extendedness': {'priority': 5.0, 'psfErrFactor': 0.0, 'modelErrFactor': 0.0, 'fluxRatio': 0.925}, 'skycoord': {'priority': 5.0}}, 'names': ['flux.psf', 'flags.pixel', 'shape.sdss', 'flux.naive', 'flux.gaussian', 'centroid.naive', 'flux.sinc', 'centroid.gaussian', 'skycoord']}, 'replaceWithNoise': {'noiseSeed': 0, 'noiseOffset': 0.0, 'noiseSource': 'measure'}, 'slots': {'psfFlux': 'flux.psf', 'apFlux': 'flux.sinc', 'instFlux': 'flux.gaussian', 'shape': 'shape.sdss', 'centroid': 'centroid.sdss', 'modelFlux': 'flux.gaussian'}}, 'measurePsf': {'psfDeterminer': {'values': {'pca': {'kernelSizeMax': 45, 'lam': 0.05, 'reducedChi2ForPsfCandidates': 2.0, 'nonLinearSpatialFit': False, 'spatialOrder': 2, 'doMaskBlends': True, 'sizeCellX': 256, 'sizeCellY': 256, 'spatialReject': 3.0, 'kernelSize': 10.0, 'constantWeight': True, 'nIterForPsf': 3, 'doRejectBlends': False, 'borderWidth': 0, 'nEigenComponents': 4, 'pixelThreshold': 0.0, 'nStarPerCellSpatialFit': 5, 'tolerance': 0.01, 'kernelSizeMin': 25, 'nStarPerCell': 3}}, 'name': 'pca'}, 'starSelector': {'values': {'objectSize': {'widthMax': 10.0, 'widthMin': 0.0, 'kernelSize': 21, 'fluxMin': 12500.0, 'borderWidth': 0, 'badFlags': ['base_PixelFlags_flag_edge', 'base_PixelFlags_flag_interpolatedCenter', 'base_PixelFlags_flag_saturatedCenter', 'base_PixelFlags_flag_crCenter'], 'fluxMax': 0.0, 'sourceFluxField': 'base_GaussianFlux_flux'}, 'catalog': {'fluxLim': 0.0, 'borderWidth': 0, 'fluxMax': 0.0, 'kernelSize': 21, 'badStarPixelFlags': ['base_PixelFlags_flag_edge', 'base_PixelFlags_flag_interpolatedCenter', 'base_PixelFlags_flag_saturatedCenter', 'base_PixelFlags_flag_edge', 'base_PixelFlags_flag_interpolatedCenter', 'base_PixelFlags_flag_saturatedCenter']}, 'secondMoment': {'kernelSize': 21, 'histMomentMinMultiplier': 2.0, 'histSize': 64, 'histMomentClip': 5.0, 'borderWidth': 0, 'badFlags': ['base_PixelFlags_flag_edge', 'base_PixelFlags_flag_interpolatedCenter', 'base_PixelFlags_flag_saturatedCenter', 'base_PixelFlags_flag_crCenter'], 'histMomentMaxMultiplier': 5.0, 'fluxMax': 0.0, 'clumpNSigma': 2.0, 'fluxLim': 12500.0, 'histMomentMax': 100.0}, 'sizeMagnitude': {'startn1': 0.1, 'starsperbin': 30, 'fitorder': 1, 'minmag': 0.0, 'starfrac': 0.5, 'maxmag': 1e+100, 'logsize': False, 'minsize': 0.0, 'aperture': 5.0, 'maxsize': 1e+100, 'fitsigclip': 4.0, 'purityratio': 0.05}}, 'name': 'secondMoment'}}, 'background': {'ignoredPixelMask': ['EDGE', 'DETECTED', 'DETECTED_NEGATIVE'], 'undersampleStyle': 'REDUCE_INTERP_ORDER', 'algorithm': 'NATURAL_SPLINE', 'binSize': 1024, 'isNanSafe': False, 'statisticsProperty': 'MEANCLIP'}, 'measurement': {'doReplaceWithNoise': True, 'centroider': {'values': {'centroid.sdss': {'priority': 0.0, 'peakMin': -1.0, 'binmax': 16, 'wfac': 1.5}, 'centroid.naive': {'priority': 0.0, 'background': 0.0}, 'centroid.gaussian': {'priority': 0.0}}, 'name': 'centroid.sdss'}, 'prefix': None, 'algorithms': {'values': {'centroid.sdss': {'priority': 0.0, 'peakMin': -1.0, 'binmax': 16, 'wfac': 1.5}, 'flux.psf': {'priority': 2.0}, 'flags.pixel': {'priority': 0.0}, 'centroid.gaussian': {'priority': 0.0}, 'centroid.record': {'priority': 5.0}, 'flux.aperture': {'priority': 2.0, 'radii': [0.0, 0.0, 0.0, 0.0, 0.0, 0.0, 0.0, 0.0, 0.0, 0.0, 1.0, 1.5625, 2.44140625, 3.814697265625, 5.9604644775390625, 9.313225746154785, 14.551915228366852, 22.737367544323206, 35.52713678800501, 55.51115123125783]}, 'flux.naive': {'priority': 2.0, 'radius': 7.0}, 'flux.gaussian': {'shapeFlag': '.flags', 'tol2': 9.999999747378752e-05, 'tol1': 9.999999747378752e-06, 'priority': 2.0, 'shape': 'shape.sdss', 'centroid': 'shape.sdss.centroid', 'background': 0.0, 'maxIter': 100, 'fixed': False, 'shiftmax': 10.0}, 'centroid.naive': {'priority': 0.0, 'background': 0.0}, 'flux.sinc': {'priority': 2.0, 'radius1': 0.0, 'radius2': 7.0, 'angle': 0.0, 'ellipticity': 0.0}, 'shape.sdss': {'priority': 1.0, 'tol2': 9.999999747378752e-05, 'tol1': 9.999999747378752e-06, 'background': 0.0, 'maxIter': 100}, 'flux.aperture.elliptical': {'priority': 1.899999976158142, 'radii': [0.0, 0.0, 0.0, 0.0, 0.0, 0.0, 0.0, 0.0, 0.0, 0.0, 1.0, 1.5625, 2.44140625, 3.814697265625, 5.9604644775390625, 9.313225746154785, 14.551915228366852, 22.737367544323206, 35.52713678800501, 55.51115123125783]}, 'flux.peakLikelihood': {'priority': 2.0, 'warpingKernelName': 'lanczos4'}, 'correctfluxes': {'doApCorr': True, 'canonicalFluxName': 'flux.psf', 'apCorrRadius': 7.0, 'priority': 3.0, 'doFlagTieFailures': True, 'doFlagApCorrFailures': True, 'canonicalFluxIndex': 0, 'doTieScaledFluxes': True}, 'classification.extendedness': {'priority': 5.0, 'psfErrFactor': 0.0, 'modelErrFactor': 0.0, 'fluxRatio': 0.925}, 'skycoord': {'priority': 5.0}}, 'names': ['flux.psf', 'flags.pixel', 'centroid.gaussian', 'flux.naive', 'flux.gaussian', 'centroid.naive', 'flux.sinc', 'shape.sdss', 'correctfluxes', 'classification.extendedness', 'skycoord']}, 'replaceWithNoise': {'noiseSeed': 0, 'noiseOffset': 0.0, 'noiseSource': 'measure'}, 'slots': {'psfFlux': 'flux.psf', 'apFlux': 'flux.sinc', 'instFlux': 'flux.gaussian', 'shape': 'shape.sdss', 'centroid': 'centroid.sdss', 'modelFlux': 'flux.gaussian'}}, 'photocal': {'nIter': 20, 'fluxField': 'base_PsfFlux_flux', 'magLimit': 22.0, 'sigmaMax': 0.25, 'nSigma': 3.0, 'goodFlags': [], 'applyColorTerms': True, 'badFlags': ['base_PixelFlags_flag_edge', 'base_PixelFlags_flag_interpolated', 'base_PixelFlags_flag_saturated'], 'useMedian': True, 'doWriteOutput': True}, 'doAstrometry': True}, measurement={'doReplaceWithNoise': True, 'centroider': {'values': {'centroid.sdss': {'priority': 0.0, 'peakMin': -1.0, 'binmax': 16, 'wfac': 1.5}, 'centroid.naive': {'priority': 0.0, 'background': 0.0}, 'centroid.gaussian': {'priority': 0.0}}, 'name': 'centroid.sdss'}, 'prefix': None, 'algorithms': {'values': {'centroid.sdss': {'priority': 0.0, 'peakMin': -1.0, 'binmax': 16, 'wfac': 1.5}, 'flux.psf': {'priority': 2.0}, 'flags.pixel': {'priority': 0.0}, 'centroid.gaussian': {'priority': 0.0}, 'centroid.record': {'priority': 5.0}, 'flux.aperture': {'priority': 2.0, 'radii': [0.0, 0.0, 0.0, 0.0, 0.0, 0.0, 0.0, 0.0, 0.0, 0.0, 1.0, 1.5625, 2.44140625, 3.814697265625, 5.9604644775390625, 9.313225746154785, 14.551915228366852, 22.737367544323206, 35.52713678800501, 55.51115123125783]}, 'flux.naive': {'priority': 2.0, 'radius': 7.0}, 'flux.gaussian': {'shapeFlag': '.flags', 'tol2': 9.999999747378752e-05, 'tol1': 9.999999747378752e-06, 'priority': 2.0, 'shape': 'shape.sdss', 'centroid': 'shape.sdss.centroid', 'background': 0.0, 'maxIter': 100, 'fixed': False, 'shiftmax': 10.0}, 'centroid.naive': {'priority': 0.0, 'background': 0.0}, 'flux.sinc': {'priority': 2.0, 'radius1': 0.0, 'radius2': 7.0, 'angle': 0.0, 'ellipticity': 0.0}, 'shape.sdss': {'priority': 1.0, 'tol2': 9.999999747378752e-05, 'tol1': 9.999999747378752e-06, 'background': 0.0, 'maxIter': 100}, 'flux.aperture.elliptical': {'priority': 1.899999976158142, 'radii': [0.0, 0.0, 0.0, 0.0, 0.0, 0.0, 0.0, 0.0, 0.0, 0.0, 1.0, 1.5625, 2.44140625, 3.814697265625, 5.9604644775390625, 9.313225746154785, 14.551915228366852, 22.737367544323206, 35.52713678800501, 55.51115123125783]}, 'flux.peakLikelihood': {'priority': 2.0, 'warpingKernelName': 'lanczos4'}, 'correctfluxes': {'doApCorr': True, 'canonicalFluxName': 'flux.psf', 'apCorrRadius': 7.0, 'priority': 3.0, 'doFlagTieFailures': True, 'doFlagApCorrFailures': True, 'canonicalFluxIndex': 0, 'doTieScaledFluxes': True}, 'classification.extendedness': {'priority': 5.0, 'psfErrFactor': 0.0, 'modelErrFactor': 0.0, 'fluxRatio': 0.925}, 'skycoord': {'priority': 5.0}}, 'names': ['flux.psf', 'flags.pixel', 'shape.sdss', 'flux.naive', 'flux.gaussian', 'centroid.naive', 'flux.sinc', 'centroid.gaussian', 'correctfluxes', 'classification.extendedness', 'skycoord']}, 'replaceWithNoise': {'noiseSeed': 0, 'noiseOffset': 0.0, 'noiseSource': 'measure'}, 'slots': {'psfFlux': 'flux.psf', 'apFlux': 'flux.sinc', 'instFlux': 'flux.gaussian', 'shape': 'shape.sdss', 'centroid': 'centroid.sdss', 'modelFlux': 'flux.gaussian'}}, doMeasurement=True, deblend={'edgeHandling': 'ramp', 'assignStrayFlux': True, 'strayFluxRule': 'r-to-peak', 'strayFluxToPointSources': 'necessary', 'psfChisq2b': 1.5, 'maxFootprintArea': 100000, 'tinyFootprintSize': 2, 'findStrayFlux': True, 'psfChisq1': 1.5, 'psfChisq2': 1.5, 'maxNumberOfPeaks': 0, 'clipStrayFluxFraction': 0.01}, doCalibrate=True, persistBackgroundModel=True, doWriteCalibrate=True), debug=False, doraise=False, id=<lsst.pipe.base.argumentParser.DataIdContainer object at 0x252dcd0>, input='/renoir_data_00/jpreyes/stacks/notebook_files/input', log=<lsst.pex.logging.loggingLib.Log; proxy of <Swig Object of type 'lsst::pex::logging::Log *' at 0x2536720> >, obsPkg='obs_cfht', output='/renoir_data_00/jpreyes/stacks/notebook_files/output', processes=1, profile=None, show=(), timeout=None, trace=None); resultList=[None, None, None, None, None, None, None, None, None, None, None, None, None]; argumentParser=ArgumentParser(prog='-c', usage='%(prog)s input [options]', description=None, version=None, formatter_class=<class 'argparse.RawDescriptionHelpFormatter'>, conflict_handler='error', add_help=True))"
       ]
      }
     ],
     "prompt_number": 2
    },
    {
     "cell_type": "code",
     "collapsed": false,
     "input": [
      "SMTask = SkyMapper.MakeSkyMapTask\n",
      "SMTask.parseAndRun(args=\"output/calexp --config  skyMap.active.decList=1.0,4.0  skyMap.active.raList=149.0,152.0  --output output/coadd_r_dir\".split())"
     ],
     "language": "python",
     "metadata": {},
     "outputs": [
      {
       "ename": "SystemExit",
       "evalue": "2",
       "output_type": "pyerr",
       "traceback": [
        "An exception has occurred, use %tb to see the full traceback.\n",
        "\u001b[1;31mSystemExit\u001b[0m\u001b[1;31m:\u001b[0m 2\n"
       ]
      },
      {
       "output_type": "stream",
       "stream": "stdout",
       "text": [
        "['output/calexp', '--config', 'skyMap.active.decList=1.0,4.0', 'skyMap.active.raList=149.0,152.0', '--output', 'output/coadd_r_dir']\n",
        "['-c', '-f', '/renoir/jpreyes/.ipython/profile_default/security/kernel-462590e9-89bc-462a-bba9-e8bc595aa9f0.json', \"--IPKernelApp.parent_appname='ipython-notebook'\", '--profile-dir', '/renoir/jpreyes/.ipython/profile_default', '--parent=1']\n"
       ]
      },
      {
       "output_type": "stream",
       "stream": "stderr",
       "text": [
        "usage: -c input [options]\n",
        "-c: error: no config field: skyMap.active.decList\n",
        "To exit: use 'exit', 'quit', or Ctrl-D.\n"
       ]
      }
     ],
     "prompt_number": 7
    },
    {
     "cell_type": "code",
     "collapsed": false,
     "input": [],
     "language": "python",
     "metadata": {},
     "outputs": []
    }
   ],
   "metadata": {}
  }
 ]
}