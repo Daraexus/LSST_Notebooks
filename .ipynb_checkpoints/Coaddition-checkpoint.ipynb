{
 "metadata": {
  "name": "",
  "signature": "sha256:32c5dba4c46c5b3e035205446650f7e37c1dada30ffb5619842f6009f48e435e"
 },
 "nbformat": 3,
 "nbformat_minor": 0,
 "worksheets": [
  {
   "cells": [
    {
     "cell_type": "heading",
     "level": 1,
     "metadata": {},
     "source": [
      "Coaddition-Subtraction method for transient objects detection"
     ]
    },
    {
     "cell_type": "markdown",
     "metadata": {},
     "source": [
      "Imports of all LSST Python modules necessaries for the processing"
     ]
    },
    {
     "cell_type": "code",
     "collapsed": false,
     "input": [
      "import glob\n",
      "import os\n",
      "import subprocess\n",
      "import sys\n",
      "import lsst.pipe.tasks.ingest as Ingester\n",
      "import lsst.pipe.tasks.processCcd as Processer\n",
      "import lsst.pipe.base.argumentParser as ArgumentParser\n",
      "import lsst.daf.persistence as dafPersist\n",
      "import lsst.pipe.tasks.makeSkyMap as SkyMapper\n",
      "\n",
      "import lsst.pipe.tasks.reportPatches as PatchReporter\n",
      "import lsst.pipe.tasks.makeCoaddTempExp as TempexpCoadder\n",
      "import lsst.pipe.tasks.assembleCoadd as Assembler\n",
      "\n",
      "import lsst.afw.image as afwImage\n",
      "import lsst.meas.algorithms as measAlg\n",
      "import lsst.ip.diffim as ipDiffim\n",
      "import lsst.ip.diffim.diffimTools as diffimTools\n",
      "\n",
      "DATADIR=\"/renoir_data_02/jpreyes/lsst_data/data/CFHTLS\"\n",
      "#DATASUB1=\"/renoir_data_00/jpreyes/stacks/notebook_files/data/CFHTLS_SUB1\"\n",
      "#DATASUB2=\"/renoir_data_00/jpreyes/stacks/notebook_files/data/CFHTLS_SUB2\"\n",
      "#DATASUB3=\"/renoir_data_00/jpreyes/stacks/notebook_files/data/CFHTLS_SUB3\"\n",
      "#DATASUB4=\"/renoir_data_00/jpreyes/stacks/notebook_files/data/CFHTLS_SUB4\"\n",
      "#DATASUB5=\"/renoir_data_00/jpreyes/stacks/notebook_files/data/CFHTLS_SUB5\""
     ],
     "language": "python",
     "metadata": {},
     "outputs": [],
     "prompt_number": 1
    },
    {
     "cell_type": "markdown",
     "metadata": {},
     "source": [
      "Working directory is created. A reference to the cam mapper is also created."
     ]
    },
    {
     "cell_type": "code",
     "collapsed": false,
     "input": [
      "\n",
      "os.makedirs(DATADIR)\n",
      "os.makedirs(DATADIR+\"/input\")\n",
      "temp_file=open(DATADIR+\"/input/_mapper\",'w')\n",
      "temp_file.write('lsst.obs.cfht.MegacamMapper')\n",
      "temp_file.close()\n",
      "\n"
     ],
     "language": "python",
     "metadata": {},
     "outputs": [],
     "prompt_number": 3
    },
    {
     "cell_type": "markdown",
     "metadata": {},
     "source": [
      "We need to instantiate the task as well as the configuration and parser classes.\n",
      "\n",
      "IMPORTANT: a file _mapper has to exist in the input folder with the line 'lsst.echo.cfht.MegacamMapper' or the method will not run!\n",
      "\n",
      "Usually, by command line, a wildcard can be used to express a list of files. However, the wildcard is interpreted by the shell and split in a long line with all the list of arguments. In order to ensure that the same is beind done here, we have to manually generate the list from the wildcard and put in a valid string format."
     ]
    },
    {
     "cell_type": "code",
     "collapsed": false,
     "input": [
      "ITask = Ingester.IngestTask\n",
      "IConfig = ITask.ConfigClass()\n",
      "IParser = ITask.ArgumentParser(\"ingest\")\n",
      "Files = glob.glob(\"/renoir_data_02/lsst_data/CFHT/rawElixir/D3/r/*.fits.fz\")\n",
      "SFiles = ' '.join(Files)\n",
      "print(SFiles)\n"
     ],
     "language": "python",
     "metadata": {},
     "outputs": [
      {
       "output_type": "stream",
       "stream": "stdout",
       "text": [
        "/renoir_data_02/lsst_data/CFHT/rawElixir/D3/r/994755p.fits.fz /renoir_data_02/lsst_data/CFHT/rawElixir/D3/r/994756p.fits.fz /renoir_data_02/lsst_data/CFHT/rawElixir/D3/r/994757p.fits.fz /renoir_data_02/lsst_data/CFHT/rawElixir/D3/r/994758p.fits.fz /renoir_data_02/lsst_data/CFHT/rawElixir/D3/r/994759p.fits.fz /renoir_data_02/lsst_data/CFHT/rawElixir/D3/r/995364p.fits.fz /renoir_data_02/lsst_data/CFHT/rawElixir/D3/r/995365p.fits.fz /renoir_data_02/lsst_data/CFHT/rawElixir/D3/r/995366p.fits.fz /renoir_data_02/lsst_data/CFHT/rawElixir/D3/r/995367p.fits.fz /renoir_data_02/lsst_data/CFHT/rawElixir/D3/r/995368p.fits.fz /renoir_data_02/lsst_data/CFHT/rawElixir/D3/r/995973p.fits.fz /renoir_data_02/lsst_data/CFHT/rawElixir/D3/r/995974p.fits.fz /renoir_data_02/lsst_data/CFHT/rawElixir/D3/r/995975p.fits.fz /renoir_data_02/lsst_data/CFHT/rawElixir/D3/r/995976p.fits.fz /renoir_data_02/lsst_data/CFHT/rawElixir/D3/r/995977p.fits.fz /renoir_data_02/lsst_data/CFHT/rawElixir/D3/r/996230p.fits.fz /renoir_data_02/lsst_data/CFHT/rawElixir/D3/r/996231p.fits.fz /renoir_data_02/lsst_data/CFHT/rawElixir/D3/r/996232p.fits.fz /renoir_data_02/lsst_data/CFHT/rawElixir/D3/r/996233p.fits.fz /renoir_data_02/lsst_data/CFHT/rawElixir/D3/r/996234p.fits.fz /renoir_data_02/lsst_data/CFHT/rawElixir/D3/r/996717p.fits.fz /renoir_data_02/lsst_data/CFHT/rawElixir/D3/r/996718p.fits.fz /renoir_data_02/lsst_data/CFHT/rawElixir/D3/r/996719p.fits.fz /renoir_data_02/lsst_data/CFHT/rawElixir/D3/r/996720p.fits.fz /renoir_data_02/lsst_data/CFHT/rawElixir/D3/r/996721p.fits.fz /renoir_data_02/lsst_data/CFHT/rawElixir/D3/r/980473p.fits.fz /renoir_data_02/lsst_data/CFHT/rawElixir/D3/r/980474p.fits.fz /renoir_data_02/lsst_data/CFHT/rawElixir/D3/r/980475p.fits.fz /renoir_data_02/lsst_data/CFHT/rawElixir/D3/r/980476p.fits.fz /renoir_data_02/lsst_data/CFHT/rawElixir/D3/r/980477p.fits.fz /renoir_data_02/lsst_data/CFHT/rawElixir/D3/r/980478p.fits.fz /renoir_data_02/lsst_data/CFHT/rawElixir/D3/r/981583p.fits.fz /renoir_data_02/lsst_data/CFHT/rawElixir/D3/r/981584p.fits.fz /renoir_data_02/lsst_data/CFHT/rawElixir/D3/r/981585p.fits.fz /renoir_data_02/lsst_data/CFHT/rawElixir/D3/r/981586p.fits.fz /renoir_data_02/lsst_data/CFHT/rawElixir/D3/r/981587p.fits.fz /renoir_data_02/lsst_data/CFHT/rawElixir/D3/r/982180p.fits.fz /renoir_data_02/lsst_data/CFHT/rawElixir/D3/r/982181p.fits.fz /renoir_data_02/lsst_data/CFHT/rawElixir/D3/r/982182p.fits.fz /renoir_data_02/lsst_data/CFHT/rawElixir/D3/r/982183p.fits.fz /renoir_data_02/lsst_data/CFHT/rawElixir/D3/r/982184p.fits.fz /renoir_data_02/lsst_data/CFHT/rawElixir/D3/r/982185p.fits.fz /renoir_data_02/lsst_data/CFHT/rawElixir/D3/r/982186p.fits.fz /renoir_data_02/lsst_data/CFHT/rawElixir/D3/r/982187p.fits.fz /renoir_data_02/lsst_data/CFHT/rawElixir/D3/r/982188p.fits.fz /renoir_data_02/lsst_data/CFHT/rawElixir/D3/r/982189p.fits.fz /renoir_data_02/lsst_data/CFHT/rawElixir/D3/r/986881p.fits.fz /renoir_data_02/lsst_data/CFHT/rawElixir/D3/r/986882p.fits.fz /renoir_data_02/lsst_data/CFHT/rawElixir/D3/r/986883p.fits.fz /renoir_data_02/lsst_data/CFHT/rawElixir/D3/r/986884p.fits.fz /renoir_data_02/lsst_data/CFHT/rawElixir/D3/r/986885p.fits.fz /renoir_data_02/lsst_data/CFHT/rawElixir/D3/r/986886p.fits.fz /renoir_data_02/lsst_data/CFHT/rawElixir/D3/r/986887p.fits.fz /renoir_data_02/lsst_data/CFHT/rawElixir/D3/r/987219p.fits.fz /renoir_data_02/lsst_data/CFHT/rawElixir/D3/r/987220p.fits.fz /renoir_data_02/lsst_data/CFHT/rawElixir/D3/r/987221p.fits.fz /renoir_data_02/lsst_data/CFHT/rawElixir/D3/r/987222p.fits.fz /renoir_data_02/lsst_data/CFHT/rawElixir/D3/r/987223p.fits.fz /renoir_data_02/lsst_data/CFHT/rawElixir/D3/r/987581p.fits.fz /renoir_data_02/lsst_data/CFHT/rawElixir/D3/r/987582p.fits.fz /renoir_data_02/lsst_data/CFHT/rawElixir/D3/r/987583p.fits.fz /renoir_data_02/lsst_data/CFHT/rawElixir/D3/r/987584p.fits.fz /renoir_data_02/lsst_data/CFHT/rawElixir/D3/r/987585p.fits.fz /renoir_data_02/lsst_data/CFHT/rawElixir/D3/r/988125p.fits.fz /renoir_data_02/lsst_data/CFHT/rawElixir/D3/r/988126p.fits.fz /renoir_data_02/lsst_data/CFHT/rawElixir/D3/r/988127p.fits.fz /renoir_data_02/lsst_data/CFHT/rawElixir/D3/r/988128p.fits.fz /renoir_data_02/lsst_data/CFHT/rawElixir/D3/r/988129p.fits.fz /renoir_data_02/lsst_data/CFHT/rawElixir/D3/r/988583p.fits.fz /renoir_data_02/lsst_data/CFHT/rawElixir/D3/r/988584p.fits.fz /renoir_data_02/lsst_data/CFHT/rawElixir/D3/r/988585p.fits.fz /renoir_data_02/lsst_data/CFHT/rawElixir/D3/r/988586p.fits.fz /renoir_data_02/lsst_data/CFHT/rawElixir/D3/r/988587p.fits.fz /renoir_data_02/lsst_data/CFHT/rawElixir/D3/r/973326p.fits.fz /renoir_data_02/lsst_data/CFHT/rawElixir/D3/r/973327p.fits.fz /renoir_data_02/lsst_data/CFHT/rawElixir/D3/r/973328p.fits.fz /renoir_data_02/lsst_data/CFHT/rawElixir/D3/r/973901p.fits.fz /renoir_data_02/lsst_data/CFHT/rawElixir/D3/r/973902p.fits.fz /renoir_data_02/lsst_data/CFHT/rawElixir/D3/r/973903p.fits.fz /renoir_data_02/lsst_data/CFHT/rawElixir/D3/r/973904p.fits.fz /renoir_data_02/lsst_data/CFHT/rawElixir/D3/r/973905p.fits.fz /renoir_data_02/lsst_data/CFHT/rawElixir/D3/r/974652p.fits.fz /renoir_data_02/lsst_data/CFHT/rawElixir/D3/r/974653p.fits.fz /renoir_data_02/lsst_data/CFHT/rawElixir/D3/r/974654p.fits.fz /renoir_data_02/lsst_data/CFHT/rawElixir/D3/r/974655p.fits.fz /renoir_data_02/lsst_data/CFHT/rawElixir/D3/r/974656p.fits.fz /renoir_data_02/lsst_data/CFHT/rawElixir/D3/r/975438p.fits.fz /renoir_data_02/lsst_data/CFHT/rawElixir/D3/r/975439p.fits.fz /renoir_data_02/lsst_data/CFHT/rawElixir/D3/r/975440p.fits.fz /renoir_data_02/lsst_data/CFHT/rawElixir/D3/r/975441p.fits.fz /renoir_data_02/lsst_data/CFHT/rawElixir/D3/r/975442p.fits.fz /renoir_data_02/lsst_data/CFHT/rawElixir/D3/r/976050p.fits.fz /renoir_data_02/lsst_data/CFHT/rawElixir/D3/r/976051p.fits.fz /renoir_data_02/lsst_data/CFHT/rawElixir/D3/r/976052p.fits.fz /renoir_data_02/lsst_data/CFHT/rawElixir/D3/r/976053p.fits.fz /renoir_data_02/lsst_data/CFHT/rawElixir/D3/r/976054p.fits.fz /renoir_data_02/lsst_data/CFHT/rawElixir/D3/r/979510p.fits.fz /renoir_data_02/lsst_data/CFHT/rawElixir/D3/r/979511p.fits.fz /renoir_data_02/lsst_data/CFHT/rawElixir/D3/r/979512p.fits.fz /renoir_data_02/lsst_data/CFHT/rawElixir/D3/r/979513p.fits.fz /renoir_data_02/lsst_data/CFHT/rawElixir/D3/r/979514p.fits.fz /renoir_data_02/lsst_data/CFHT/rawElixir/D3/r/800717p.fits.fz /renoir_data_02/lsst_data/CFHT/rawElixir/D3/r/800718p.fits.fz /renoir_data_02/lsst_data/CFHT/rawElixir/D3/r/800719p.fits.fz /renoir_data_02/lsst_data/CFHT/rawElixir/D3/r/800720p.fits.fz /renoir_data_02/lsst_data/CFHT/rawElixir/D3/r/800721p.fits.fz /renoir_data_02/lsst_data/CFHT/rawElixir/D3/r/801144p.fits.fz /renoir_data_02/lsst_data/CFHT/rawElixir/D3/r/801145p.fits.fz /renoir_data_02/lsst_data/CFHT/rawElixir/D3/r/801146p.fits.fz /renoir_data_02/lsst_data/CFHT/rawElixir/D3/r/801147p.fits.fz /renoir_data_02/lsst_data/CFHT/rawElixir/D3/r/801148p.fits.fz /renoir_data_02/lsst_data/CFHT/rawElixir/D3/r/802227p.fits.fz /renoir_data_02/lsst_data/CFHT/rawElixir/D3/r/802228p.fits.fz /renoir_data_02/lsst_data/CFHT/rawElixir/D3/r/802229p.fits.fz /renoir_data_02/lsst_data/CFHT/rawElixir/D3/r/802230p.fits.fz /renoir_data_02/lsst_data/CFHT/rawElixir/D3/r/802231p.fits.fz /renoir_data_02/lsst_data/CFHT/rawElixir/D3/r/803021p.fits.fz /renoir_data_02/lsst_data/CFHT/rawElixir/D3/r/803022p.fits.fz /renoir_data_02/lsst_data/CFHT/rawElixir/D3/r/803023p.fits.fz /renoir_data_02/lsst_data/CFHT/rawElixir/D3/r/803024p.fits.fz /renoir_data_02/lsst_data/CFHT/rawElixir/D3/r/803025p.fits.fz /renoir_data_02/lsst_data/CFHT/rawElixir/D3/r/805368p.fits.fz /renoir_data_02/lsst_data/CFHT/rawElixir/D3/r/805369p.fits.fz /renoir_data_02/lsst_data/CFHT/rawElixir/D3/r/805370p.fits.fz /renoir_data_02/lsst_data/CFHT/rawElixir/D3/r/805371p.fits.fz /renoir_data_02/lsst_data/CFHT/rawElixir/D3/r/805372p.fits.fz /renoir_data_02/lsst_data/CFHT/rawElixir/D3/r/805373p.fits.fz /renoir_data_02/lsst_data/CFHT/rawElixir/D3/r/805374p.fits.fz /renoir_data_02/lsst_data/CFHT/rawElixir/D3/r/805375p.fits.fz /renoir_data_02/lsst_data/CFHT/rawElixir/D3/r/806141p.fits.fz /renoir_data_02/lsst_data/CFHT/rawElixir/D3/r/806142p.fits.fz /renoir_data_02/lsst_data/CFHT/rawElixir/D3/r/806143p.fits.fz /renoir_data_02/lsst_data/CFHT/rawElixir/D3/r/806144p.fits.fz /renoir_data_02/lsst_data/CFHT/rawElixir/D3/r/806145p.fits.fz /renoir_data_02/lsst_data/CFHT/rawElixir/D3/r/806534p.fits.fz /renoir_data_02/lsst_data/CFHT/rawElixir/D3/r/806535p.fits.fz /renoir_data_02/lsst_data/CFHT/rawElixir/D3/r/806536p.fits.fz /renoir_data_02/lsst_data/CFHT/rawElixir/D3/r/806537p.fits.fz /renoir_data_02/lsst_data/CFHT/rawElixir/D3/r/806538p.fits.fz /renoir_data_02/lsst_data/CFHT/rawElixir/D3/r/806539p.fits.fz /renoir_data_02/lsst_data/CFHT/rawElixir/D3/r/806540p.fits.fz /renoir_data_02/lsst_data/CFHT/rawElixir/D3/r/806541p.fits.fz /renoir_data_02/lsst_data/CFHT/rawElixir/D3/r/832115p.fits.fz /renoir_data_02/lsst_data/CFHT/rawElixir/D3/r/832116p.fits.fz /renoir_data_02/lsst_data/CFHT/rawElixir/D3/r/832117p.fits.fz /renoir_data_02/lsst_data/CFHT/rawElixir/D3/r/832118p.fits.fz /renoir_data_02/lsst_data/CFHT/rawElixir/D3/r/832119p.fits.fz /renoir_data_02/lsst_data/CFHT/rawElixir/D3/r/832905p.fits.fz /renoir_data_02/lsst_data/CFHT/rawElixir/D3/r/832907p.fits.fz /renoir_data_02/lsst_data/CFHT/rawElixir/D3/r/832908p.fits.fz /renoir_data_02/lsst_data/CFHT/rawElixir/D3/r/832909p.fits.fz /renoir_data_02/lsst_data/CFHT/rawElixir/D3/r/835967p.fits.fz /renoir_data_02/lsst_data/CFHT/rawElixir/D3/r/835968p.fits.fz /renoir_data_02/lsst_data/CFHT/rawElixir/D3/r/835969p.fits.fz /renoir_data_02/lsst_data/CFHT/rawElixir/D3/r/835970p.fits.fz /renoir_data_02/lsst_data/CFHT/rawElixir/D3/r/835971p.fits.fz /renoir_data_02/lsst_data/CFHT/rawElixir/D3/r/835972p.fits.fz /renoir_data_02/lsst_data/CFHT/rawElixir/D3/r/836493p.fits.fz /renoir_data_02/lsst_data/CFHT/rawElixir/D3/r/836494p.fits.fz /renoir_data_02/lsst_data/CFHT/rawElixir/D3/r/836495p.fits.fz /renoir_data_02/lsst_data/CFHT/rawElixir/D3/r/836496p.fits.fz /renoir_data_02/lsst_data/CFHT/rawElixir/D3/r/836497p.fits.fz /renoir_data_02/lsst_data/CFHT/rawElixir/D3/r/836498p.fits.fz /renoir_data_02/lsst_data/CFHT/rawElixir/D3/r/837002p.fits.fz /renoir_data_02/lsst_data/CFHT/rawElixir/D3/r/837003p.fits.fz /renoir_data_02/lsst_data/CFHT/rawElixir/D3/r/837004p.fits.fz /renoir_data_02/lsst_data/CFHT/rawElixir/D3/r/837005p.fits.fz /renoir_data_02/lsst_data/CFHT/rawElixir/D3/r/837006p.fits.fz /renoir_data_02/lsst_data/CFHT/rawElixir/D3/r/837007p.fits.fz /renoir_data_02/lsst_data/CFHT/rawElixir/D3/r/837008p.fits.fz /renoir_data_02/lsst_data/CFHT/rawElixir/D3/r/838853p.fits.fz /renoir_data_02/lsst_data/CFHT/rawElixir/D3/r/838854p.fits.fz /renoir_data_02/lsst_data/CFHT/rawElixir/D3/r/838855p.fits.fz /renoir_data_02/lsst_data/CFHT/rawElixir/D3/r/838857p.fits.fz /renoir_data_02/lsst_data/CFHT/rawElixir/D3/r/838864p.fits.fz /renoir_data_02/lsst_data/CFHT/rawElixir/D3/r/838865p.fits.fz /renoir_data_02/lsst_data/CFHT/rawElixir/D3/r/838866p.fits.fz /renoir_data_02/lsst_data/CFHT/rawElixir/D3/r/838867p.fits.fz /renoir_data_02/lsst_data/CFHT/rawElixir/D3/r/838868p.fits.fz /renoir_data_02/lsst_data/CFHT/rawElixir/D3/r/839308p.fits.fz /renoir_data_02/lsst_data/CFHT/rawElixir/D3/r/839309p.fits.fz /renoir_data_02/lsst_data/CFHT/rawElixir/D3/r/839310p.fits.fz /renoir_data_02/lsst_data/CFHT/rawElixir/D3/r/839311p.fits.fz /renoir_data_02/lsst_data/CFHT/rawElixir/D3/r/839312p.fits.fz /renoir_data_02/lsst_data/CFHT/rawElixir/D3/r/844210p.fits.fz /renoir_data_02/lsst_data/CFHT/rawElixir/D3/r/844211p.fits.fz /renoir_data_02/lsst_data/CFHT/rawElixir/D3/r/844212p.fits.fz /renoir_data_02/lsst_data/CFHT/rawElixir/D3/r/844213p.fits.fz /renoir_data_02/lsst_data/CFHT/rawElixir/D3/r/844214p.fits.fz /renoir_data_02/lsst_data/CFHT/rawElixir/D3/r/844230p.fits.fz /renoir_data_02/lsst_data/CFHT/rawElixir/D3/r/844489p.fits.fz /renoir_data_02/lsst_data/CFHT/rawElixir/D3/r/844490p.fits.fz /renoir_data_02/lsst_data/CFHT/rawElixir/D3/r/844491p.fits.fz /renoir_data_02/lsst_data/CFHT/rawElixir/D3/r/844492p.fits.fz /renoir_data_02/lsst_data/CFHT/rawElixir/D3/r/844493p.fits.fz /renoir_data_02/lsst_data/CFHT/rawElixir/D3/r/844494p.fits.fz /renoir_data_02/lsst_data/CFHT/rawElixir/D3/r/844495p.fits.fz /renoir_data_02/lsst_data/CFHT/rawElixir/D3/r/844496p.fits.fz /renoir_data_02/lsst_data/CFHT/rawElixir/D3/r/844497p.fits.fz /renoir_data_02/lsst_data/CFHT/rawElixir/D3/r/844498p.fits.fz /renoir_data_02/lsst_data/CFHT/rawElixir/D3/r/844514p.fits.fz /renoir_data_02/lsst_data/CFHT/rawElixir/D3/r/844515p.fits.fz /renoir_data_02/lsst_data/CFHT/rawElixir/D3/r/844516p.fits.fz /renoir_data_02/lsst_data/CFHT/rawElixir/D3/r/844517p.fits.fz /renoir_data_02/lsst_data/CFHT/rawElixir/D3/r/844518p.fits.fz /renoir_data_02/lsst_data/CFHT/rawElixir/D3/r/844845p.fits.fz /renoir_data_02/lsst_data/CFHT/rawElixir/D3/r/844846p.fits.fz /renoir_data_02/lsst_data/CFHT/rawElixir/D3/r/844847p.fits.fz /renoir_data_02/lsst_data/CFHT/rawElixir/D3/r/844848p.fits.fz /renoir_data_02/lsst_data/CFHT/rawElixir/D3/r/844849p.fits.fz /renoir_data_02/lsst_data/CFHT/rawElixir/D3/r/845345p.fits.fz /renoir_data_02/lsst_data/CFHT/rawElixir/D3/r/845346p.fits.fz /renoir_data_02/lsst_data/CFHT/rawElixir/D3/r/845347p.fits.fz /renoir_data_02/lsst_data/CFHT/rawElixir/D3/r/845348p.fits.fz /renoir_data_02/lsst_data/CFHT/rawElixir/D3/r/845349p.fits.fz /renoir_data_02/lsst_data/CFHT/rawElixir/D3/r/849373p.fits.fz /renoir_data_02/lsst_data/CFHT/rawElixir/D3/r/849374p.fits.fz /renoir_data_02/lsst_data/CFHT/rawElixir/D3/r/849375p.fits.fz /renoir_data_02/lsst_data/CFHT/rawElixir/D3/r/849376p.fits.fz /renoir_data_02/lsst_data/CFHT/rawElixir/D3/r/849377p.fits.fz /renoir_data_02/lsst_data/CFHT/rawElixir/D3/r/849685p.fits.fz /renoir_data_02/lsst_data/CFHT/rawElixir/D3/r/849686p.fits.fz /renoir_data_02/lsst_data/CFHT/rawElixir/D3/r/849687p.fits.fz /renoir_data_02/lsst_data/CFHT/rawElixir/D3/r/849688p.fits.fz /renoir_data_02/lsst_data/CFHT/rawElixir/D3/r/849689p.fits.fz /renoir_data_02/lsst_data/CFHT/rawElixir/D3/r/850177p.fits.fz /renoir_data_02/lsst_data/CFHT/rawElixir/D3/r/850178p.fits.fz /renoir_data_02/lsst_data/CFHT/rawElixir/D3/r/850179p.fits.fz /renoir_data_02/lsst_data/CFHT/rawElixir/D3/r/850180p.fits.fz /renoir_data_02/lsst_data/CFHT/rawElixir/D3/r/850181p.fits.fz /renoir_data_02/lsst_data/CFHT/rawElixir/D3/r/850586p.fits.fz /renoir_data_02/lsst_data/CFHT/rawElixir/D3/r/850587p.fits.fz /renoir_data_02/lsst_data/CFHT/rawElixir/D3/r/850588p.fits.fz /renoir_data_02/lsst_data/CFHT/rawElixir/D3/r/850589p.fits.fz /renoir_data_02/lsst_data/CFHT/rawElixir/D3/r/850590p.fits.fz /renoir_data_02/lsst_data/CFHT/rawElixir/D3/r/851057p.fits.fz /renoir_data_02/lsst_data/CFHT/rawElixir/D3/r/851058p.fits.fz /renoir_data_02/lsst_data/CFHT/rawElixir/D3/r/851059p.fits.fz /renoir_data_02/lsst_data/CFHT/rawElixir/D3/r/851060p.fits.fz /renoir_data_02/lsst_data/CFHT/rawElixir/D3/r/851061p.fits.fz /renoir_data_02/lsst_data/CFHT/rawElixir/D3/r/852890p.fits.fz /renoir_data_02/lsst_data/CFHT/rawElixir/D3/r/852891p.fits.fz /renoir_data_02/lsst_data/CFHT/rawElixir/D3/r/852892p.fits.fz /renoir_data_02/lsst_data/CFHT/rawElixir/D3/r/852893p.fits.fz /renoir_data_02/lsst_data/CFHT/rawElixir/D3/r/852894p.fits.fz /renoir_data_02/lsst_data/CFHT/rawElixir/D3/r/853232p.fits.fz /renoir_data_02/lsst_data/CFHT/rawElixir/D3/r/853233p.fits.fz /renoir_data_02/lsst_data/CFHT/rawElixir/D3/r/853234p.fits.fz /renoir_data_02/lsst_data/CFHT/rawElixir/D3/r/853235p.fits.fz /renoir_data_02/lsst_data/CFHT/rawElixir/D3/r/853236p.fits.fz /renoir_data_02/lsst_data/CFHT/rawElixir/D3/r/853539p.fits.fz /renoir_data_02/lsst_data/CFHT/rawElixir/D3/r/853540p.fits.fz /renoir_data_02/lsst_data/CFHT/rawElixir/D3/r/853541p.fits.fz /renoir_data_02/lsst_data/CFHT/rawElixir/D3/r/853542p.fits.fz /renoir_data_02/lsst_data/CFHT/rawElixir/D3/r/853543p.fits.fz /renoir_data_02/lsst_data/CFHT/rawElixir/D3/r/853727p.fits.fz /renoir_data_02/lsst_data/CFHT/rawElixir/D3/r/853728p.fits.fz /renoir_data_02/lsst_data/CFHT/rawElixir/D3/r/853729p.fits.fz /renoir_data_02/lsst_data/CFHT/rawElixir/D3/r/853730p.fits.fz /renoir_data_02/lsst_data/CFHT/rawElixir/D3/r/853731p.fits.fz /renoir_data_02/lsst_data/CFHT/rawElixir/D3/r/858537p.fits.fz /renoir_data_02/lsst_data/CFHT/rawElixir/D3/r/858538p.fits.fz /renoir_data_02/lsst_data/CFHT/rawElixir/D3/r/858539p.fits.fz /renoir_data_02/lsst_data/CFHT/rawElixir/D3/r/858540p.fits.fz /renoir_data_02/lsst_data/CFHT/rawElixir/D3/r/858541p.fits.fz /renoir_data_02/lsst_data/CFHT/rawElixir/D3/r/859608p.fits.fz /renoir_data_02/lsst_data/CFHT/rawElixir/D3/r/859609p.fits.fz /renoir_data_02/lsst_data/CFHT/rawElixir/D3/r/859610p.fits.fz /renoir_data_02/lsst_data/CFHT/rawElixir/D3/r/859611p.fits.fz /renoir_data_02/lsst_data/CFHT/rawElixir/D3/r/859612p.fits.fz /renoir_data_02/lsst_data/CFHT/rawElixir/D3/r/860146p.fits.fz /renoir_data_02/lsst_data/CFHT/rawElixir/D3/r/860147p.fits.fz /renoir_data_02/lsst_data/CFHT/rawElixir/D3/r/860148p.fits.fz /renoir_data_02/lsst_data/CFHT/rawElixir/D3/r/860149p.fits.fz /renoir_data_02/lsst_data/CFHT/rawElixir/D3/r/860150p.fits.fz /renoir_data_02/lsst_data/CFHT/rawElixir/D3/r/889226p.fits.fz /renoir_data_02/lsst_data/CFHT/rawElixir/D3/r/889227p.fits.fz /renoir_data_02/lsst_data/CFHT/rawElixir/D3/r/889228p.fits.fz /renoir_data_02/lsst_data/CFHT/rawElixir/D3/r/889229p.fits.fz /renoir_data_02/lsst_data/CFHT/rawElixir/D3/r/889230p.fits.fz /renoir_data_02/lsst_data/CFHT/rawElixir/D3/r/889870p.fits.fz /renoir_data_02/lsst_data/CFHT/rawElixir/D3/r/889871p.fits.fz /renoir_data_02/lsst_data/CFHT/rawElixir/D3/r/889872p.fits.fz /renoir_data_02/lsst_data/CFHT/rawElixir/D3/r/889873p.fits.fz /renoir_data_02/lsst_data/CFHT/rawElixir/D3/r/889874p.fits.fz /renoir_data_02/lsst_data/CFHT/rawElixir/D3/r/890302p.fits.fz /renoir_data_02/lsst_data/CFHT/rawElixir/D3/r/890303p.fits.fz /renoir_data_02/lsst_data/CFHT/rawElixir/D3/r/890304p.fits.fz /renoir_data_02/lsst_data/CFHT/rawElixir/D3/r/890305p.fits.fz /renoir_data_02/lsst_data/CFHT/rawElixir/D3/r/890306p.fits.fz /renoir_data_02/lsst_data/CFHT/rawElixir/D3/r/890705p.fits.fz /renoir_data_02/lsst_data/CFHT/rawElixir/D3/r/890706p.fits.fz /renoir_data_02/lsst_data/CFHT/rawElixir/D3/r/890707p.fits.fz /renoir_data_02/lsst_data/CFHT/rawElixir/D3/r/890708p.fits.fz /renoir_data_02/lsst_data/CFHT/rawElixir/D3/r/890709p.fits.fz /renoir_data_02/lsst_data/CFHT/rawElixir/D3/r/890710p.fits.fz /renoir_data_02/lsst_data/CFHT/rawElixir/D3/r/890711p.fits.fz /renoir_data_02/lsst_data/CFHT/rawElixir/D3/r/895367p.fits.fz /renoir_data_02/lsst_data/CFHT/rawElixir/D3/r/895368p.fits.fz /renoir_data_02/lsst_data/CFHT/rawElixir/D3/r/895369p.fits.fz /renoir_data_02/lsst_data/CFHT/rawElixir/D3/r/895370p.fits.fz /renoir_data_02/lsst_data/CFHT/rawElixir/D3/r/895371p.fits.fz /renoir_data_02/lsst_data/CFHT/rawElixir/D3/r/895614p.fits.fz /renoir_data_02/lsst_data/CFHT/rawElixir/D3/r/895615p.fits.fz /renoir_data_02/lsst_data/CFHT/rawElixir/D3/r/895616p.fits.fz /renoir_data_02/lsst_data/CFHT/rawElixir/D3/r/895617p.fits.fz /renoir_data_02/lsst_data/CFHT/rawElixir/D3/r/895618p.fits.fz /renoir_data_02/lsst_data/CFHT/rawElixir/D3/r/896684p.fits.fz /renoir_data_02/lsst_data/CFHT/rawElixir/D3/r/896685p.fits.fz /renoir_data_02/lsst_data/CFHT/rawElixir/D3/r/896686p.fits.fz /renoir_data_02/lsst_data/CFHT/rawElixir/D3/r/896687p.fits.fz /renoir_data_02/lsst_data/CFHT/rawElixir/D3/r/896688p.fits.fz /renoir_data_02/lsst_data/CFHT/rawElixir/D3/r/896850p.fits.fz /renoir_data_02/lsst_data/CFHT/rawElixir/D3/r/896851p.fits.fz /renoir_data_02/lsst_data/CFHT/rawElixir/D3/r/896852p.fits.fz /renoir_data_02/lsst_data/CFHT/rawElixir/D3/r/896853p.fits.fz /renoir_data_02/lsst_data/CFHT/rawElixir/D3/r/896854p.fits.fz /renoir_data_02/lsst_data/CFHT/rawElixir/D3/r/898863p.fits.fz /renoir_data_02/lsst_data/CFHT/rawElixir/D3/r/898864p.fits.fz /renoir_data_02/lsst_data/CFHT/rawElixir/D3/r/898865p.fits.fz /renoir_data_02/lsst_data/CFHT/rawElixir/D3/r/898866p.fits.fz /renoir_data_02/lsst_data/CFHT/rawElixir/D3/r/898867p.fits.fz /renoir_data_02/lsst_data/CFHT/rawElixir/D3/r/899290p.fits.fz /renoir_data_02/lsst_data/CFHT/rawElixir/D3/r/899291p.fits.fz /renoir_data_02/lsst_data/CFHT/rawElixir/D3/r/899292p.fits.fz /renoir_data_02/lsst_data/CFHT/rawElixir/D3/r/899293p.fits.fz /renoir_data_02/lsst_data/CFHT/rawElixir/D3/r/899294p.fits.fz /renoir_data_02/lsst_data/CFHT/rawElixir/D3/r/899961p.fits.fz /renoir_data_02/lsst_data/CFHT/rawElixir/D3/r/899962p.fits.fz /renoir_data_02/lsst_data/CFHT/rawElixir/D3/r/899963p.fits.fz /renoir_data_02/lsst_data/CFHT/rawElixir/D3/r/899964p.fits.fz /renoir_data_02/lsst_data/CFHT/rawElixir/D3/r/899965p.fits.fz\n"
       ]
      }
     ],
     "prompt_number": 4
    },
    {
     "cell_type": "markdown",
     "metadata": {},
     "source": [
      "Parameters should be given to the parser the same way they should be used as parameter though the terminal"
     ]
    },
    {
     "cell_type": "code",
     "collapsed": false,
     "input": [
      "args = IParser.parse_args(IConfig, (DATADIR+'/input '+SFiles+' --mode link').split()) \n",
      "task = ITask(config=args.config)\n",
      "task.run(args)"
     ],
     "language": "python",
     "metadata": {},
     "outputs": [
      {
       "output_type": "stream",
       "stream": "stdout",
       "text": [
        "/renoir_data_02/lsst_data/CFHT/rawElixir/D3/r/994755p.fits.fz --<link>--> /renoir_data_00/jpreyes/stacks/notebook_files/data2/CFHTLS/input/raw/08AL01/D3/2008-05-28/r/994755p.fits.fz\n",
        "/renoir_data_02/lsst_data/CFHT/rawElixir/D3/r/994756p.fits.fz --<link>--> /renoir_data_00/jpreyes/stacks/notebook_files/data2/CFHTLS/input/raw/08AL01/D3/2008-05-28/r/994756p.fits.fz"
       ]
      },
      {
       "output_type": "stream",
       "stream": "stdout",
       "text": [
        "\n",
        "/renoir_data_02/lsst_data/CFHT/rawElixir/D3/r/994757p.fits.fz --<link>--> /renoir_data_00/jpreyes/stacks/notebook_files/data2/CFHTLS/input/raw/08AL01/D3/2008-05-28/r/994757p.fits.fz"
       ]
      },
      {
       "output_type": "stream",
       "stream": "stdout",
       "text": [
        "\n",
        "/renoir_data_02/lsst_data/CFHT/rawElixir/D3/r/994758p.fits.fz --<link>--> /renoir_data_00/jpreyes/stacks/notebook_files/data2/CFHTLS/input/raw/08AL01/D3/2008-05-28/r/994758p.fits.fz"
       ]
      },
      {
       "output_type": "stream",
       "stream": "stdout",
       "text": [
        "\n",
        "/renoir_data_02/lsst_data/CFHT/rawElixir/D3/r/994759p.fits.fz --<link>--> /renoir_data_00/jpreyes/stacks/notebook_files/data2/CFHTLS/input/raw/08AL01/D3/2008-05-28/r/994759p.fits.fz"
       ]
      },
      {
       "output_type": "stream",
       "stream": "stdout",
       "text": [
        "\n",
        "/renoir_data_02/lsst_data/CFHT/rawElixir/D3/r/995364p.fits.fz --<link>--> /renoir_data_00/jpreyes/stacks/notebook_files/data2/CFHTLS/input/raw/08AL01/D3/2008-06-01/r/995364p.fits.fz"
       ]
      },
      {
       "output_type": "stream",
       "stream": "stdout",
       "text": [
        "\n",
        "/renoir_data_02/lsst_data/CFHT/rawElixir/D3/r/995365p.fits.fz --<link>--> /renoir_data_00/jpreyes/stacks/notebook_files/data2/CFHTLS/input/raw/08AL01/D3/2008-06-01/r/995365p.fits.fz"
       ]
      },
      {
       "output_type": "stream",
       "stream": "stdout",
       "text": [
        "\n",
        "/renoir_data_02/lsst_data/CFHT/rawElixir/D3/r/995366p.fits.fz --<link>--> /renoir_data_00/jpreyes/stacks/notebook_files/data2/CFHTLS/input/raw/08AL01/D3/2008-06-01/r/995366p.fits.fz"
       ]
      },
      {
       "output_type": "stream",
       "stream": "stdout",
       "text": [
        "\n",
        "/renoir_data_02/lsst_data/CFHT/rawElixir/D3/r/995367p.fits.fz --<link>--> /renoir_data_00/jpreyes/stacks/notebook_files/data2/CFHTLS/input/raw/08AL01/D3/2008-06-01/r/995367p.fits.fz"
       ]
      },
      {
       "output_type": "stream",
       "stream": "stdout",
       "text": [
        "\n",
        "/renoir_data_02/lsst_data/CFHT/rawElixir/D3/r/995368p.fits.fz --<link>--> /renoir_data_00/jpreyes/stacks/notebook_files/data2/CFHTLS/input/raw/08AL01/D3/2008-06-01/r/995368p.fits.fz"
       ]
      },
      {
       "output_type": "stream",
       "stream": "stdout",
       "text": [
        "\n",
        "/renoir_data_02/lsst_data/CFHT/rawElixir/D3/r/995973p.fits.fz --<link>--> /renoir_data_00/jpreyes/stacks/notebook_files/data2/CFHTLS/input/raw/08AL01/D3/2008-06-04/r/995973p.fits.fz"
       ]
      },
      {
       "output_type": "stream",
       "stream": "stdout",
       "text": [
        "\n",
        "/renoir_data_02/lsst_data/CFHT/rawElixir/D3/r/995974p.fits.fz --<link>--> /renoir_data_00/jpreyes/stacks/notebook_files/data2/CFHTLS/input/raw/08AL01/D3/2008-06-04/r/995974p.fits.fz"
       ]
      },
      {
       "output_type": "stream",
       "stream": "stdout",
       "text": [
        "\n",
        "/renoir_data_02/lsst_data/CFHT/rawElixir/D3/r/995975p.fits.fz --<link>--> /renoir_data_00/jpreyes/stacks/notebook_files/data2/CFHTLS/input/raw/08AL01/D3/2008-06-04/r/995975p.fits.fz"
       ]
      },
      {
       "output_type": "stream",
       "stream": "stdout",
       "text": [
        "\n",
        "/renoir_data_02/lsst_data/CFHT/rawElixir/D3/r/995976p.fits.fz --<link>--> /renoir_data_00/jpreyes/stacks/notebook_files/data2/CFHTLS/input/raw/08AL01/D3/2008-06-04/r/995976p.fits.fz"
       ]
      },
      {
       "output_type": "stream",
       "stream": "stdout",
       "text": [
        "\n",
        "/renoir_data_02/lsst_data/CFHT/rawElixir/D3/r/995977p.fits.fz --<link>--> /renoir_data_00/jpreyes/stacks/notebook_files/data2/CFHTLS/input/raw/08AL01/D3/2008-06-04/r/995977p.fits.fz"
       ]
      },
      {
       "output_type": "stream",
       "stream": "stdout",
       "text": [
        "\n",
        "/renoir_data_02/lsst_data/CFHT/rawElixir/D3/r/996230p.fits.fz --<link>--> /renoir_data_00/jpreyes/stacks/notebook_files/data2/CFHTLS/input/raw/08AL01/D3/2008-06-07/r/996230p.fits.fz"
       ]
      },
      {
       "output_type": "stream",
       "stream": "stdout",
       "text": [
        "\n",
        "/renoir_data_02/lsst_data/CFHT/rawElixir/D3/r/996231p.fits.fz --<link>--> /renoir_data_00/jpreyes/stacks/notebook_files/data2/CFHTLS/input/raw/08AL01/D3/2008-06-07/r/996231p.fits.fz"
       ]
      },
      {
       "output_type": "stream",
       "stream": "stdout",
       "text": [
        "\n",
        "/renoir_data_02/lsst_data/CFHT/rawElixir/D3/r/996232p.fits.fz --<link>--> /renoir_data_00/jpreyes/stacks/notebook_files/data2/CFHTLS/input/raw/08AL01/D3/2008-06-07/r/996232p.fits.fz"
       ]
      },
      {
       "output_type": "stream",
       "stream": "stdout",
       "text": [
        "\n",
        "/renoir_data_02/lsst_data/CFHT/rawElixir/D3/r/996233p.fits.fz --<link>--> /renoir_data_00/jpreyes/stacks/notebook_files/data2/CFHTLS/input/raw/08AL01/D3/2008-06-07/r/996233p.fits.fz"
       ]
      },
      {
       "output_type": "stream",
       "stream": "stdout",
       "text": [
        "\n",
        "/renoir_data_02/lsst_data/CFHT/rawElixir/D3/r/996234p.fits.fz --<link>--> /renoir_data_00/jpreyes/stacks/notebook_files/data2/CFHTLS/input/raw/08AL01/D3/2008-06-07/r/996234p.fits.fz"
       ]
      },
      {
       "output_type": "stream",
       "stream": "stdout",
       "text": [
        "\n",
        "/renoir_data_02/lsst_data/CFHT/rawElixir/D3/r/996717p.fits.fz --<link>--> /renoir_data_00/jpreyes/stacks/notebook_files/data2/CFHTLS/input/raw/08AL01/D3/2008-06-12/r/996717p.fits.fz"
       ]
      },
      {
       "output_type": "stream",
       "stream": "stdout",
       "text": [
        "\n",
        "/renoir_data_02/lsst_data/CFHT/rawElixir/D3/r/996718p.fits.fz --<link>--> /renoir_data_00/jpreyes/stacks/notebook_files/data2/CFHTLS/input/raw/08AL01/D3/2008-06-12/r/996718p.fits.fz"
       ]
      },
      {
       "output_type": "stream",
       "stream": "stdout",
       "text": [
        "\n",
        "/renoir_data_02/lsst_data/CFHT/rawElixir/D3/r/996719p.fits.fz --<link>--> /renoir_data_00/jpreyes/stacks/notebook_files/data2/CFHTLS/input/raw/08AL01/D3/2008-06-12/r/996719p.fits.fz"
       ]
      },
      {
       "output_type": "stream",
       "stream": "stdout",
       "text": [
        "\n",
        "/renoir_data_02/lsst_data/CFHT/rawElixir/D3/r/996720p.fits.fz --<link>--> /renoir_data_00/jpreyes/stacks/notebook_files/data2/CFHTLS/input/raw/08AL01/D3/2008-06-12/r/996720p.fits.fz"
       ]
      },
      {
       "output_type": "stream",
       "stream": "stdout",
       "text": [
        "\n",
        "/renoir_data_02/lsst_data/CFHT/rawElixir/D3/r/996721p.fits.fz --<link>--> /renoir_data_00/jpreyes/stacks/notebook_files/data2/CFHTLS/input/raw/08AL01/D3/2008-06-12/r/996721p.fits.fz"
       ]
      },
      {
       "output_type": "stream",
       "stream": "stdout",
       "text": [
        "\n",
        "/renoir_data_02/lsst_data/CFHT/rawElixir/D3/r/980473p.fits.fz --<link>--> /renoir_data_00/jpreyes/stacks/notebook_files/data2/CFHTLS/input/raw/08AL01/D3/2008-04-05/r/980473p.fits.fz"
       ]
      },
      {
       "output_type": "stream",
       "stream": "stdout",
       "text": [
        "\n",
        "/renoir_data_02/lsst_data/CFHT/rawElixir/D3/r/980474p.fits.fz --<link>--> /renoir_data_00/jpreyes/stacks/notebook_files/data2/CFHTLS/input/raw/08AL01/D3/2008-04-05/r/980474p.fits.fz"
       ]
      },
      {
       "output_type": "stream",
       "stream": "stdout",
       "text": [
        "\n",
        "/renoir_data_02/lsst_data/CFHT/rawElixir/D3/r/980475p.fits.fz --<link>--> /renoir_data_00/jpreyes/stacks/notebook_files/data2/CFHTLS/input/raw/08AL01/D3/2008-04-05/r/980475p.fits.fz"
       ]
      },
      {
       "output_type": "stream",
       "stream": "stdout",
       "text": [
        "\n",
        "/renoir_data_02/lsst_data/CFHT/rawElixir/D3/r/980476p.fits.fz --<link>--> /renoir_data_00/jpreyes/stacks/notebook_files/data2/CFHTLS/input/raw/08AL01/D3/2008-04-05/r/980476p.fits.fz"
       ]
      },
      {
       "output_type": "stream",
       "stream": "stdout",
       "text": [
        "\n",
        "/renoir_data_02/lsst_data/CFHT/rawElixir/D3/r/980477p.fits.fz --<link>--> /renoir_data_00/jpreyes/stacks/notebook_files/data2/CFHTLS/input/raw/08AL01/D3/2008-04-05/r/980477p.fits.fz"
       ]
      },
      {
       "output_type": "stream",
       "stream": "stdout",
       "text": [
        "\n",
        "/renoir_data_02/lsst_data/CFHT/rawElixir/D3/r/980478p.fits.fz --<link>--> /renoir_data_00/jpreyes/stacks/notebook_files/data2/CFHTLS/input/raw/08AL01/D3/2008-04-05/r/980478p.fits.fz"
       ]
      },
      {
       "output_type": "stream",
       "stream": "stdout",
       "text": [
        "\n",
        "/renoir_data_02/lsst_data/CFHT/rawElixir/D3/r/981583p.fits.fz --<link>--> /renoir_data_00/jpreyes/stacks/notebook_files/data2/CFHTLS/input/raw/08AL01/D3/2008-04-07/r/981583p.fits.fz"
       ]
      },
      {
       "output_type": "stream",
       "stream": "stdout",
       "text": [
        "\n",
        "/renoir_data_02/lsst_data/CFHT/rawElixir/D3/r/981584p.fits.fz --<link>--> /renoir_data_00/jpreyes/stacks/notebook_files/data2/CFHTLS/input/raw/08AL01/D3/2008-04-07/r/981584p.fits.fz"
       ]
      },
      {
       "output_type": "stream",
       "stream": "stdout",
       "text": [
        "\n",
        "/renoir_data_02/lsst_data/CFHT/rawElixir/D3/r/981585p.fits.fz --<link>--> /renoir_data_00/jpreyes/stacks/notebook_files/data2/CFHTLS/input/raw/08AL01/D3/2008-04-07/r/981585p.fits.fz"
       ]
      },
      {
       "output_type": "stream",
       "stream": "stdout",
       "text": [
        "\n",
        "/renoir_data_02/lsst_data/CFHT/rawElixir/D3/r/981586p.fits.fz --<link>--> /renoir_data_00/jpreyes/stacks/notebook_files/data2/CFHTLS/input/raw/08AL01/D3/2008-04-07/r/981586p.fits.fz"
       ]
      },
      {
       "output_type": "stream",
       "stream": "stdout",
       "text": [
        "\n",
        "/renoir_data_02/lsst_data/CFHT/rawElixir/D3/r/981587p.fits.fz --<link>--> /renoir_data_00/jpreyes/stacks/notebook_files/data2/CFHTLS/input/raw/08AL01/D3/2008-04-07/r/981587p.fits.fz"
       ]
      },
      {
       "output_type": "stream",
       "stream": "stdout",
       "text": [
        "\n",
        "/renoir_data_02/lsst_data/CFHT/rawElixir/D3/r/982180p.fits.fz --<link>--> /renoir_data_00/jpreyes/stacks/notebook_files/data2/CFHTLS/input/raw/08AL01/D3/2008-04-13/r/982180p.fits.fz"
       ]
      },
      {
       "output_type": "stream",
       "stream": "stdout",
       "text": [
        "\n",
        "/renoir_data_02/lsst_data/CFHT/rawElixir/D3/r/982181p.fits.fz --<link>--> /renoir_data_00/jpreyes/stacks/notebook_files/data2/CFHTLS/input/raw/08AL01/D3/2008-04-13/r/982181p.fits.fz"
       ]
      },
      {
       "output_type": "stream",
       "stream": "stdout",
       "text": [
        "\n",
        "/renoir_data_02/lsst_data/CFHT/rawElixir/D3/r/982182p.fits.fz --<link>--> /renoir_data_00/jpreyes/stacks/notebook_files/data2/CFHTLS/input/raw/08AL01/D3/2008-04-13/r/982182p.fits.fz"
       ]
      },
      {
       "output_type": "stream",
       "stream": "stdout",
       "text": [
        "\n",
        "/renoir_data_02/lsst_data/CFHT/rawElixir/D3/r/982183p.fits.fz --<link>--> /renoir_data_00/jpreyes/stacks/notebook_files/data2/CFHTLS/input/raw/08AL01/D3/2008-04-13/r/982183p.fits.fz"
       ]
      },
      {
       "output_type": "stream",
       "stream": "stdout",
       "text": [
        "\n",
        "/renoir_data_02/lsst_data/CFHT/rawElixir/D3/r/982184p.fits.fz --<link>--> /renoir_data_00/jpreyes/stacks/notebook_files/data2/CFHTLS/input/raw/08AL01/D3/2008-04-13/r/982184p.fits.fz"
       ]
      },
      {
       "output_type": "stream",
       "stream": "stdout",
       "text": [
        "\n",
        "/renoir_data_02/lsst_data/CFHT/rawElixir/D3/r/982185p.fits.fz --<link>--> /renoir_data_00/jpreyes/stacks/notebook_files/data2/CFHTLS/input/raw/08AL01/D3/2008-04-13/r/982185p.fits.fz"
       ]
      },
      {
       "output_type": "stream",
       "stream": "stdout",
       "text": [
        "\n",
        "/renoir_data_02/lsst_data/CFHT/rawElixir/D3/r/982186p.fits.fz --<link>--> /renoir_data_00/jpreyes/stacks/notebook_files/data2/CFHTLS/input/raw/08AL01/D3/2008-04-13/r/982186p.fits.fz"
       ]
      },
      {
       "output_type": "stream",
       "stream": "stdout",
       "text": [
        "\n",
        "/renoir_data_02/lsst_data/CFHT/rawElixir/D3/r/982187p.fits.fz --<link>--> /renoir_data_00/jpreyes/stacks/notebook_files/data2/CFHTLS/input/raw/08AL01/D3/2008-04-13/r/982187p.fits.fz"
       ]
      },
      {
       "output_type": "stream",
       "stream": "stdout",
       "text": [
        "\n",
        "/renoir_data_02/lsst_data/CFHT/rawElixir/D3/r/982188p.fits.fz --<link>--> /renoir_data_00/jpreyes/stacks/notebook_files/data2/CFHTLS/input/raw/08AL01/D3/2008-04-13/r/982188p.fits.fz"
       ]
      },
      {
       "output_type": "stream",
       "stream": "stdout",
       "text": [
        "\n",
        "/renoir_data_02/lsst_data/CFHT/rawElixir/D3/r/982189p.fits.fz --<link>--> /renoir_data_00/jpreyes/stacks/notebook_files/data2/CFHTLS/input/raw/08AL01/D3/2008-04-13/r/982189p.fits.fz"
       ]
      },
      {
       "output_type": "stream",
       "stream": "stdout",
       "text": [
        "\n",
        "/renoir_data_02/lsst_data/CFHT/rawElixir/D3/r/986881p.fits.fz --<link>--> /renoir_data_00/jpreyes/stacks/notebook_files/data2/CFHTLS/input/raw/08AL01/D3/2008-05-02/r/986881p.fits.fz"
       ]
      },
      {
       "output_type": "stream",
       "stream": "stdout",
       "text": [
        "\n",
        "/renoir_data_02/lsst_data/CFHT/rawElixir/D3/r/986882p.fits.fz --<link>--> /renoir_data_00/jpreyes/stacks/notebook_files/data2/CFHTLS/input/raw/08AL01/D3/2008-05-02/r/986882p.fits.fz"
       ]
      },
      {
       "output_type": "stream",
       "stream": "stdout",
       "text": [
        "\n",
        "/renoir_data_02/lsst_data/CFHT/rawElixir/D3/r/986883p.fits.fz --<link>--> /renoir_data_00/jpreyes/stacks/notebook_files/data2/CFHTLS/input/raw/08AL01/D3/2008-05-02/r/986883p.fits.fz"
       ]
      },
      {
       "output_type": "stream",
       "stream": "stdout",
       "text": [
        "\n",
        "/renoir_data_02/lsst_data/CFHT/rawElixir/D3/r/986884p.fits.fz --<link>--> /renoir_data_00/jpreyes/stacks/notebook_files/data2/CFHTLS/input/raw/08AL01/D3/2008-05-02/r/986884p.fits.fz"
       ]
      },
      {
       "output_type": "stream",
       "stream": "stdout",
       "text": [
        "\n",
        "/renoir_data_02/lsst_data/CFHT/rawElixir/D3/r/986885p.fits.fz --<link>--> /renoir_data_00/jpreyes/stacks/notebook_files/data2/CFHTLS/input/raw/08AL01/D3/2008-05-02/r/986885p.fits.fz"
       ]
      },
      {
       "output_type": "stream",
       "stream": "stdout",
       "text": [
        "\n",
        "/renoir_data_02/lsst_data/CFHT/rawElixir/D3/r/986886p.fits.fz --<link>--> /renoir_data_00/jpreyes/stacks/notebook_files/data2/CFHTLS/input/raw/08AL01/D3/2008-05-02/r/986886p.fits.fz"
       ]
      },
      {
       "output_type": "stream",
       "stream": "stdout",
       "text": [
        "\n",
        "/renoir_data_02/lsst_data/CFHT/rawElixir/D3/r/986887p.fits.fz --<link>--> /renoir_data_00/jpreyes/stacks/notebook_files/data2/CFHTLS/input/raw/08AL01/D3/2008-05-02/r/986887p.fits.fz"
       ]
      },
      {
       "output_type": "stream",
       "stream": "stdout",
       "text": [
        "\n",
        "/renoir_data_02/lsst_data/CFHT/rawElixir/D3/r/987219p.fits.fz --<link>--> /renoir_data_00/jpreyes/stacks/notebook_files/data2/CFHTLS/input/raw/08AL01/D3/2008-05-05/r/987219p.fits.fz"
       ]
      },
      {
       "output_type": "stream",
       "stream": "stdout",
       "text": [
        "\n",
        "/renoir_data_02/lsst_data/CFHT/rawElixir/D3/r/987220p.fits.fz --<link>--> /renoir_data_00/jpreyes/stacks/notebook_files/data2/CFHTLS/input/raw/08AL01/D3/2008-05-05/r/987220p.fits.fz"
       ]
      },
      {
       "output_type": "stream",
       "stream": "stdout",
       "text": [
        "\n",
        "/renoir_data_02/lsst_data/CFHT/rawElixir/D3/r/987221p.fits.fz --<link>--> /renoir_data_00/jpreyes/stacks/notebook_files/data2/CFHTLS/input/raw/08AL01/D3/2008-05-05/r/987221p.fits.fz"
       ]
      },
      {
       "output_type": "stream",
       "stream": "stdout",
       "text": [
        "\n",
        "/renoir_data_02/lsst_data/CFHT/rawElixir/D3/r/987222p.fits.fz --<link>--> /renoir_data_00/jpreyes/stacks/notebook_files/data2/CFHTLS/input/raw/08AL01/D3/2008-05-05/r/987222p.fits.fz"
       ]
      },
      {
       "output_type": "stream",
       "stream": "stdout",
       "text": [
        "\n",
        "/renoir_data_02/lsst_data/CFHT/rawElixir/D3/r/987223p.fits.fz --<link>--> /renoir_data_00/jpreyes/stacks/notebook_files/data2/CFHTLS/input/raw/08AL01/D3/2008-05-05/r/987223p.fits.fz"
       ]
      },
      {
       "output_type": "stream",
       "stream": "stdout",
       "text": [
        "\n",
        "/renoir_data_02/lsst_data/CFHT/rawElixir/D3/r/987581p.fits.fz --<link>--> /renoir_data_00/jpreyes/stacks/notebook_files/data2/CFHTLS/input/raw/08AL01/D3/2008-05-08/r/987581p.fits.fz"
       ]
      },
      {
       "output_type": "stream",
       "stream": "stdout",
       "text": [
        "\n",
        "/renoir_data_02/lsst_data/CFHT/rawElixir/D3/r/987582p.fits.fz --<link>--> /renoir_data_00/jpreyes/stacks/notebook_files/data2/CFHTLS/input/raw/08AL01/D3/2008-05-08/r/987582p.fits.fz"
       ]
      },
      {
       "output_type": "stream",
       "stream": "stdout",
       "text": [
        "\n",
        "/renoir_data_02/lsst_data/CFHT/rawElixir/D3/r/987583p.fits.fz --<link>--> /renoir_data_00/jpreyes/stacks/notebook_files/data2/CFHTLS/input/raw/08AL01/D3/2008-05-08/r/987583p.fits.fz"
       ]
      },
      {
       "output_type": "stream",
       "stream": "stdout",
       "text": [
        "\n",
        "/renoir_data_02/lsst_data/CFHT/rawElixir/D3/r/987584p.fits.fz --<link>--> /renoir_data_00/jpreyes/stacks/notebook_files/data2/CFHTLS/input/raw/08AL01/D3/2008-05-08/r/987584p.fits.fz"
       ]
      },
      {
       "output_type": "stream",
       "stream": "stdout",
       "text": [
        "\n",
        "/renoir_data_02/lsst_data/CFHT/rawElixir/D3/r/987585p.fits.fz --<link>--> /renoir_data_00/jpreyes/stacks/notebook_files/data2/CFHTLS/input/raw/08AL01/D3/2008-05-08/r/987585p.fits.fz"
       ]
      },
      {
       "output_type": "stream",
       "stream": "stdout",
       "text": [
        "\n",
        "/renoir_data_02/lsst_data/CFHT/rawElixir/D3/r/988125p.fits.fz --<link>--> /renoir_data_00/jpreyes/stacks/notebook_files/data2/CFHTLS/input/raw/08AL01/D3/2008-05-11/r/988125p.fits.fz"
       ]
      },
      {
       "output_type": "stream",
       "stream": "stdout",
       "text": [
        "\n",
        "/renoir_data_02/lsst_data/CFHT/rawElixir/D3/r/988126p.fits.fz --<link>--> /renoir_data_00/jpreyes/stacks/notebook_files/data2/CFHTLS/input/raw/08AL01/D3/2008-05-11/r/988126p.fits.fz"
       ]
      },
      {
       "output_type": "stream",
       "stream": "stdout",
       "text": [
        "\n",
        "/renoir_data_02/lsst_data/CFHT/rawElixir/D3/r/988127p.fits.fz --<link>--> /renoir_data_00/jpreyes/stacks/notebook_files/data2/CFHTLS/input/raw/08AL01/D3/2008-05-11/r/988127p.fits.fz"
       ]
      },
      {
       "output_type": "stream",
       "stream": "stdout",
       "text": [
        "\n",
        "/renoir_data_02/lsst_data/CFHT/rawElixir/D3/r/988128p.fits.fz --<link>--> /renoir_data_00/jpreyes/stacks/notebook_files/data2/CFHTLS/input/raw/08AL01/D3/2008-05-11/r/988128p.fits.fz"
       ]
      },
      {
       "output_type": "stream",
       "stream": "stdout",
       "text": [
        "\n",
        "/renoir_data_02/lsst_data/CFHT/rawElixir/D3/r/988129p.fits.fz --<link>--> /renoir_data_00/jpreyes/stacks/notebook_files/data2/CFHTLS/input/raw/08AL01/D3/2008-05-11/r/988129p.fits.fz"
       ]
      },
      {
       "output_type": "stream",
       "stream": "stdout",
       "text": [
        "\n",
        "/renoir_data_02/lsst_data/CFHT/rawElixir/D3/r/988583p.fits.fz --<link>--> /renoir_data_00/jpreyes/stacks/notebook_files/data2/CFHTLS/input/raw/08AL01/D3/2008-05-14/r/988583p.fits.fz"
       ]
      },
      {
       "output_type": "stream",
       "stream": "stdout",
       "text": [
        "\n",
        "/renoir_data_02/lsst_data/CFHT/rawElixir/D3/r/988584p.fits.fz --<link>--> /renoir_data_00/jpreyes/stacks/notebook_files/data2/CFHTLS/input/raw/08AL01/D3/2008-05-14/r/988584p.fits.fz"
       ]
      },
      {
       "output_type": "stream",
       "stream": "stdout",
       "text": [
        "\n",
        "/renoir_data_02/lsst_data/CFHT/rawElixir/D3/r/988585p.fits.fz --<link>--> /renoir_data_00/jpreyes/stacks/notebook_files/data2/CFHTLS/input/raw/08AL01/D3/2008-05-14/r/988585p.fits.fz"
       ]
      },
      {
       "output_type": "stream",
       "stream": "stdout",
       "text": [
        "\n",
        "/renoir_data_02/lsst_data/CFHT/rawElixir/D3/r/988586p.fits.fz --<link>--> /renoir_data_00/jpreyes/stacks/notebook_files/data2/CFHTLS/input/raw/08AL01/D3/2008-05-14/r/988586p.fits.fz"
       ]
      },
      {
       "output_type": "stream",
       "stream": "stdout",
       "text": [
        "\n",
        "/renoir_data_02/lsst_data/CFHT/rawElixir/D3/r/988587p.fits.fz --<link>--> /renoir_data_00/jpreyes/stacks/notebook_files/data2/CFHTLS/input/raw/08AL01/D3/2008-05-14/r/988587p.fits.fz"
       ]
      },
      {
       "output_type": "stream",
       "stream": "stdout",
       "text": [
        "\n",
        "/renoir_data_02/lsst_data/CFHT/rawElixir/D3/r/973326p.fits.fz --<link>--> /renoir_data_00/jpreyes/stacks/notebook_files/data2/CFHTLS/input/raw/08AL01/D3/2008-02-28/r/973326p.fits.fz"
       ]
      },
      {
       "output_type": "stream",
       "stream": "stdout",
       "text": [
        "\n",
        "/renoir_data_02/lsst_data/CFHT/rawElixir/D3/r/973327p.fits.fz --<link>--> /renoir_data_00/jpreyes/stacks/notebook_files/data2/CFHTLS/input/raw/08AL01/D3/2008-02-28/r/973327p.fits.fz"
       ]
      },
      {
       "output_type": "stream",
       "stream": "stdout",
       "text": [
        "\n",
        "/renoir_data_02/lsst_data/CFHT/rawElixir/D3/r/973328p.fits.fz --<link>--> /renoir_data_00/jpreyes/stacks/notebook_files/data2/CFHTLS/input/raw/08AL01/D3/2008-02-28/r/973328p.fits.fz"
       ]
      },
      {
       "output_type": "stream",
       "stream": "stdout",
       "text": [
        "\n",
        "/renoir_data_02/lsst_data/CFHT/rawElixir/D3/r/973901p.fits.fz --<link>--> /renoir_data_00/jpreyes/stacks/notebook_files/data2/CFHTLS/input/raw/08AL01/D3/2008-03-03/r/973901p.fits.fz"
       ]
      },
      {
       "output_type": "stream",
       "stream": "stdout",
       "text": [
        "\n",
        "/renoir_data_02/lsst_data/CFHT/rawElixir/D3/r/973902p.fits.fz --<link>--> /renoir_data_00/jpreyes/stacks/notebook_files/data2/CFHTLS/input/raw/08AL01/D3/2008-03-03/r/973902p.fits.fz"
       ]
      },
      {
       "output_type": "stream",
       "stream": "stdout",
       "text": [
        "\n",
        "/renoir_data_02/lsst_data/CFHT/rawElixir/D3/r/973903p.fits.fz --<link>--> /renoir_data_00/jpreyes/stacks/notebook_files/data2/CFHTLS/input/raw/08AL01/D3/2008-03-03/r/973903p.fits.fz"
       ]
      },
      {
       "output_type": "stream",
       "stream": "stdout",
       "text": [
        "\n",
        "/renoir_data_02/lsst_data/CFHT/rawElixir/D3/r/973904p.fits.fz --<link>--> /renoir_data_00/jpreyes/stacks/notebook_files/data2/CFHTLS/input/raw/08AL01/D3/2008-03-03/r/973904p.fits.fz"
       ]
      },
      {
       "output_type": "stream",
       "stream": "stdout",
       "text": [
        "\n",
        "/renoir_data_02/lsst_data/CFHT/rawElixir/D3/r/973905p.fits.fz --<link>--> /renoir_data_00/jpreyes/stacks/notebook_files/data2/CFHTLS/input/raw/08AL01/D3/2008-03-03/r/973905p.fits.fz"
       ]
      },
      {
       "output_type": "stream",
       "stream": "stdout",
       "text": [
        "\n",
        "/renoir_data_02/lsst_data/CFHT/rawElixir/D3/r/974652p.fits.fz --<link>--> /renoir_data_00/jpreyes/stacks/notebook_files/data2/CFHTLS/input/raw/08AL01/D3/2008-03-06/r/974652p.fits.fz"
       ]
      },
      {
       "output_type": "stream",
       "stream": "stdout",
       "text": [
        "\n",
        "/renoir_data_02/lsst_data/CFHT/rawElixir/D3/r/974653p.fits.fz --<link>--> /renoir_data_00/jpreyes/stacks/notebook_files/data2/CFHTLS/input/raw/08AL01/D3/2008-03-06/r/974653p.fits.fz"
       ]
      },
      {
       "output_type": "stream",
       "stream": "stdout",
       "text": [
        "\n",
        "/renoir_data_02/lsst_data/CFHT/rawElixir/D3/r/974654p.fits.fz --<link>--> /renoir_data_00/jpreyes/stacks/notebook_files/data2/CFHTLS/input/raw/08AL01/D3/2008-03-06/r/974654p.fits.fz"
       ]
      },
      {
       "output_type": "stream",
       "stream": "stdout",
       "text": [
        "\n",
        "/renoir_data_02/lsst_data/CFHT/rawElixir/D3/r/974655p.fits.fz --<link>--> /renoir_data_00/jpreyes/stacks/notebook_files/data2/CFHTLS/input/raw/08AL01/D3/2008-03-06/r/974655p.fits.fz"
       ]
      },
      {
       "output_type": "stream",
       "stream": "stdout",
       "text": [
        "\n",
        "/renoir_data_02/lsst_data/CFHT/rawElixir/D3/r/974656p.fits.fz --<link>--> /renoir_data_00/jpreyes/stacks/notebook_files/data2/CFHTLS/input/raw/08AL01/D3/2008-03-06/r/974656p.fits.fz"
       ]
      },
      {
       "output_type": "stream",
       "stream": "stdout",
       "text": [
        "\n",
        "/renoir_data_02/lsst_data/CFHT/rawElixir/D3/r/975438p.fits.fz --<link>--> /renoir_data_00/jpreyes/stacks/notebook_files/data2/CFHTLS/input/raw/08AL01/D3/2008-03-10/r/975438p.fits.fz"
       ]
      },
      {
       "output_type": "stream",
       "stream": "stdout",
       "text": [
        "\n",
        "/renoir_data_02/lsst_data/CFHT/rawElixir/D3/r/975439p.fits.fz --<link>--> /renoir_data_00/jpreyes/stacks/notebook_files/data2/CFHTLS/input/raw/08AL01/D3/2008-03-10/r/975439p.fits.fz"
       ]
      },
      {
       "output_type": "stream",
       "stream": "stdout",
       "text": [
        "\n",
        "/renoir_data_02/lsst_data/CFHT/rawElixir/D3/r/975440p.fits.fz --<link>--> /renoir_data_00/jpreyes/stacks/notebook_files/data2/CFHTLS/input/raw/08AL01/D3/2008-03-10/r/975440p.fits.fz"
       ]
      },
      {
       "output_type": "stream",
       "stream": "stdout",
       "text": [
        "\n",
        "/renoir_data_02/lsst_data/CFHT/rawElixir/D3/r/975441p.fits.fz --<link>--> /renoir_data_00/jpreyes/stacks/notebook_files/data2/CFHTLS/input/raw/08AL01/D3/2008-03-10/r/975441p.fits.fz"
       ]
      },
      {
       "output_type": "stream",
       "stream": "stdout",
       "text": [
        "\n",
        "/renoir_data_02/lsst_data/CFHT/rawElixir/D3/r/975442p.fits.fz --<link>--> /renoir_data_00/jpreyes/stacks/notebook_files/data2/CFHTLS/input/raw/08AL01/D3/2008-03-10/r/975442p.fits.fz"
       ]
      },
      {
       "output_type": "stream",
       "stream": "stdout",
       "text": [
        "\n",
        "/renoir_data_02/lsst_data/CFHT/rawElixir/D3/r/976050p.fits.fz --<link>--> /renoir_data_00/jpreyes/stacks/notebook_files/data2/CFHTLS/input/raw/08AL01/D3/2008-03-13/r/976050p.fits.fz"
       ]
      },
      {
       "output_type": "stream",
       "stream": "stdout",
       "text": [
        "\n",
        "/renoir_data_02/lsst_data/CFHT/rawElixir/D3/r/976051p.fits.fz --<link>--> /renoir_data_00/jpreyes/stacks/notebook_files/data2/CFHTLS/input/raw/08AL01/D3/2008-03-13/r/976051p.fits.fz"
       ]
      },
      {
       "output_type": "stream",
       "stream": "stdout",
       "text": [
        "\n",
        "/renoir_data_02/lsst_data/CFHT/rawElixir/D3/r/976052p.fits.fz --<link>--> /renoir_data_00/jpreyes/stacks/notebook_files/data2/CFHTLS/input/raw/08AL01/D3/2008-03-13/r/976052p.fits.fz"
       ]
      },
      {
       "output_type": "stream",
       "stream": "stdout",
       "text": [
        "\n",
        "/renoir_data_02/lsst_data/CFHT/rawElixir/D3/r/976053p.fits.fz --<link>--> /renoir_data_00/jpreyes/stacks/notebook_files/data2/CFHTLS/input/raw/08AL01/D3/2008-03-13/r/976053p.fits.fz"
       ]
      },
      {
       "output_type": "stream",
       "stream": "stdout",
       "text": [
        "\n",
        "/renoir_data_02/lsst_data/CFHT/rawElixir/D3/r/976054p.fits.fz --<link>--> /renoir_data_00/jpreyes/stacks/notebook_files/data2/CFHTLS/input/raw/08AL01/D3/2008-03-13/r/976054p.fits.fz"
       ]
      },
      {
       "output_type": "stream",
       "stream": "stdout",
       "text": [
        "\n",
        "/renoir_data_02/lsst_data/CFHT/rawElixir/D3/r/979510p.fits.fz --<link>--> /renoir_data_00/jpreyes/stacks/notebook_files/data2/CFHTLS/input/raw/08AL01/D3/2008-03-31/r/979510p.fits.fz"
       ]
      },
      {
       "output_type": "stream",
       "stream": "stdout",
       "text": [
        "\n",
        "/renoir_data_02/lsst_data/CFHT/rawElixir/D3/r/979511p.fits.fz --<link>--> /renoir_data_00/jpreyes/stacks/notebook_files/data2/CFHTLS/input/raw/08AL01/D3/2008-03-31/r/979511p.fits.fz"
       ]
      },
      {
       "output_type": "stream",
       "stream": "stdout",
       "text": [
        "\n",
        "/renoir_data_02/lsst_data/CFHT/rawElixir/D3/r/979512p.fits.fz --<link>--> /renoir_data_00/jpreyes/stacks/notebook_files/data2/CFHTLS/input/raw/08AL01/D3/2008-03-31/r/979512p.fits.fz"
       ]
      },
      {
       "output_type": "stream",
       "stream": "stdout",
       "text": [
        "\n",
        "/renoir_data_02/lsst_data/CFHT/rawElixir/D3/r/979513p.fits.fz --<link>--> /renoir_data_00/jpreyes/stacks/notebook_files/data2/CFHTLS/input/raw/08AL01/D3/2008-03-31/r/979513p.fits.fz"
       ]
      },
      {
       "output_type": "stream",
       "stream": "stdout",
       "text": [
        "\n",
        "/renoir_data_02/lsst_data/CFHT/rawElixir/D3/r/979514p.fits.fz --<link>--> /renoir_data_00/jpreyes/stacks/notebook_files/data2/CFHTLS/input/raw/08AL01/D3/2008-03-31/r/979514p.fits.fz"
       ]
      },
      {
       "output_type": "stream",
       "stream": "stdout",
       "text": [
        "\n",
        "/renoir_data_02/lsst_data/CFHT/rawElixir/D3/r/800717p.fits.fz --<link>--> /renoir_data_00/jpreyes/stacks/notebook_files/data2/CFHTLS/input/raw/05AL01/D3/2005-06-29/r/800717p.fits.fz"
       ]
      },
      {
       "output_type": "stream",
       "stream": "stdout",
       "text": [
        "\n",
        "/renoir_data_02/lsst_data/CFHT/rawElixir/D3/r/800718p.fits.fz --<link>--> /renoir_data_00/jpreyes/stacks/notebook_files/data2/CFHTLS/input/raw/05AL01/D3/2005-06-29/r/800718p.fits.fz"
       ]
      },
      {
       "output_type": "stream",
       "stream": "stdout",
       "text": [
        "\n",
        "/renoir_data_02/lsst_data/CFHT/rawElixir/D3/r/800719p.fits.fz --<link>--> /renoir_data_00/jpreyes/stacks/notebook_files/data2/CFHTLS/input/raw/05AL01/D3/2005-06-29/r/800719p.fits.fz"
       ]
      },
      {
       "output_type": "stream",
       "stream": "stdout",
       "text": [
        "\n",
        "/renoir_data_02/lsst_data/CFHT/rawElixir/D3/r/800720p.fits.fz --<link>--> /renoir_data_00/jpreyes/stacks/notebook_files/data2/CFHTLS/input/raw/05AL01/D3/2005-06-29/r/800720p.fits.fz"
       ]
      },
      {
       "output_type": "stream",
       "stream": "stdout",
       "text": [
        "\n",
        "/renoir_data_02/lsst_data/CFHT/rawElixir/D3/r/800721p.fits.fz --<link>--> /renoir_data_00/jpreyes/stacks/notebook_files/data2/CFHTLS/input/raw/05AL01/D3/2005-06-29/r/800721p.fits.fz"
       ]
      },
      {
       "output_type": "stream",
       "stream": "stdout",
       "text": [
        "\n",
        "/renoir_data_02/lsst_data/CFHT/rawElixir/D3/r/801144p.fits.fz --<link>--> /renoir_data_00/jpreyes/stacks/notebook_files/data2/CFHTLS/input/raw/05AL01/D3/2005-07-02/r/801144p.fits.fz"
       ]
      },
      {
       "output_type": "stream",
       "stream": "stdout",
       "text": [
        "\n",
        "/renoir_data_02/lsst_data/CFHT/rawElixir/D3/r/801145p.fits.fz --<link>--> /renoir_data_00/jpreyes/stacks/notebook_files/data2/CFHTLS/input/raw/05AL01/D3/2005-07-02/r/801145p.fits.fz"
       ]
      },
      {
       "output_type": "stream",
       "stream": "stdout",
       "text": [
        "\n",
        "/renoir_data_02/lsst_data/CFHT/rawElixir/D3/r/801146p.fits.fz --<link>--> /renoir_data_00/jpreyes/stacks/notebook_files/data2/CFHTLS/input/raw/05AL01/D3/2005-07-02/r/801146p.fits.fz"
       ]
      },
      {
       "output_type": "stream",
       "stream": "stdout",
       "text": [
        "\n",
        "/renoir_data_02/lsst_data/CFHT/rawElixir/D3/r/801147p.fits.fz --<link>--> /renoir_data_00/jpreyes/stacks/notebook_files/data2/CFHTLS/input/raw/05AL01/D3/2005-07-02/r/801147p.fits.fz"
       ]
      },
      {
       "output_type": "stream",
       "stream": "stdout",
       "text": [
        "\n",
        "/renoir_data_02/lsst_data/CFHT/rawElixir/D3/r/801148p.fits.fz --<link>--> /renoir_data_00/jpreyes/stacks/notebook_files/data2/CFHTLS/input/raw/05AL01/D3/2005-07-02/r/801148p.fits.fz"
       ]
      },
      {
       "output_type": "stream",
       "stream": "stdout",
       "text": [
        "\n",
        "/renoir_data_02/lsst_data/CFHT/rawElixir/D3/r/802227p.fits.fz --<link>--> /renoir_data_00/jpreyes/stacks/notebook_files/data2/CFHTLS/input/raw/05AL01/D3/2005-07-07/r/802227p.fits.fz"
       ]
      },
      {
       "output_type": "stream",
       "stream": "stdout",
       "text": [
        "\n",
        "/renoir_data_02/lsst_data/CFHT/rawElixir/D3/r/802228p.fits.fz --<link>--> /renoir_data_00/jpreyes/stacks/notebook_files/data2/CFHTLS/input/raw/05AL01/D3/2005-07-07/r/802228p.fits.fz"
       ]
      },
      {
       "output_type": "stream",
       "stream": "stdout",
       "text": [
        "\n",
        "/renoir_data_02/lsst_data/CFHT/rawElixir/D3/r/802229p.fits.fz --<link>--> /renoir_data_00/jpreyes/stacks/notebook_files/data2/CFHTLS/input/raw/05AL01/D3/2005-07-07/r/802229p.fits.fz"
       ]
      },
      {
       "output_type": "stream",
       "stream": "stdout",
       "text": [
        "\n",
        "/renoir_data_02/lsst_data/CFHT/rawElixir/D3/r/802230p.fits.fz --<link>--> /renoir_data_00/jpreyes/stacks/notebook_files/data2/CFHTLS/input/raw/05AL01/D3/2005-07-07/r/802230p.fits.fz"
       ]
      },
      {
       "output_type": "stream",
       "stream": "stdout",
       "text": [
        "\n",
        "/renoir_data_02/lsst_data/CFHT/rawElixir/D3/r/802231p.fits.fz --<link>--> /renoir_data_00/jpreyes/stacks/notebook_files/data2/CFHTLS/input/raw/05AL01/D3/2005-07-07/r/802231p.fits.fz"
       ]
      },
      {
       "output_type": "stream",
       "stream": "stdout",
       "text": [
        "\n",
        "/renoir_data_02/lsst_data/CFHT/rawElixir/D3/r/803021p.fits.fz --<link>--> /renoir_data_00/jpreyes/stacks/notebook_files/data2/CFHTLS/input/raw/05AL01/D3/2005-07-14/r/803021p.fits.fz"
       ]
      },
      {
       "output_type": "stream",
       "stream": "stdout",
       "text": [
        "\n",
        "/renoir_data_02/lsst_data/CFHT/rawElixir/D3/r/803022p.fits.fz --<link>--> /renoir_data_00/jpreyes/stacks/notebook_files/data2/CFHTLS/input/raw/05AL01/D3/2005-07-14/r/803022p.fits.fz"
       ]
      },
      {
       "output_type": "stream",
       "stream": "stdout",
       "text": [
        "\n",
        "/renoir_data_02/lsst_data/CFHT/rawElixir/D3/r/803023p.fits.fz --<link>--> /renoir_data_00/jpreyes/stacks/notebook_files/data2/CFHTLS/input/raw/05AL01/D3/2005-07-14/r/803023p.fits.fz"
       ]
      },
      {
       "output_type": "stream",
       "stream": "stdout",
       "text": [
        "\n",
        "/renoir_data_02/lsst_data/CFHT/rawElixir/D3/r/803024p.fits.fz --<link>--> /renoir_data_00/jpreyes/stacks/notebook_files/data2/CFHTLS/input/raw/05AL01/D3/2005-07-14/r/803024p.fits.fz"
       ]
      },
      {
       "output_type": "stream",
       "stream": "stdout",
       "text": [
        "\n",
        "/renoir_data_02/lsst_data/CFHT/rawElixir/D3/r/803025p.fits.fz --<link>--> /renoir_data_00/jpreyes/stacks/notebook_files/data2/CFHTLS/input/raw/05AL01/D3/2005-07-14/r/803025p.fits.fz"
       ]
      },
      {
       "output_type": "stream",
       "stream": "stdout",
       "text": [
        "\n",
        "/renoir_data_02/lsst_data/CFHT/rawElixir/D3/r/805368p.fits.fz --<link>--> /renoir_data_00/jpreyes/stacks/notebook_files/data2/CFHTLS/input/raw/05AL01/D3/2005-07-27/r/805368p.fits.fz"
       ]
      },
      {
       "output_type": "stream",
       "stream": "stdout",
       "text": [
        "\n",
        "/renoir_data_02/lsst_data/CFHT/rawElixir/D3/r/805369p.fits.fz --<link>--> /renoir_data_00/jpreyes/stacks/notebook_files/data2/CFHTLS/input/raw/05AL01/D3/2005-07-27/r/805369p.fits.fz"
       ]
      },
      {
       "output_type": "stream",
       "stream": "stdout",
       "text": [
        "\n",
        "/renoir_data_02/lsst_data/CFHT/rawElixir/D3/r/805370p.fits.fz --<link>--> /renoir_data_00/jpreyes/stacks/notebook_files/data2/CFHTLS/input/raw/05AL01/D3/2005-07-27/r/805370p.fits.fz"
       ]
      },
      {
       "output_type": "stream",
       "stream": "stdout",
       "text": [
        "\n",
        "/renoir_data_02/lsst_data/CFHT/rawElixir/D3/r/805371p.fits.fz --<link>--> /renoir_data_00/jpreyes/stacks/notebook_files/data2/CFHTLS/input/raw/05AL01/D3/2005-07-27/r/805371p.fits.fz"
       ]
      },
      {
       "output_type": "stream",
       "stream": "stdout",
       "text": [
        "\n",
        "/renoir_data_02/lsst_data/CFHT/rawElixir/D3/r/805372p.fits.fz --<link>--> /renoir_data_00/jpreyes/stacks/notebook_files/data2/CFHTLS/input/raw/05AL01/D3/2005-07-27/r/805372p.fits.fz"
       ]
      },
      {
       "output_type": "stream",
       "stream": "stdout",
       "text": [
        "\n",
        "/renoir_data_02/lsst_data/CFHT/rawElixir/D3/r/805373p.fits.fz --<link>--> /renoir_data_00/jpreyes/stacks/notebook_files/data2/CFHTLS/input/raw/05AL01/D3/2005-07-27/r/805373p.fits.fz"
       ]
      },
      {
       "output_type": "stream",
       "stream": "stdout",
       "text": [
        "\n",
        "/renoir_data_02/lsst_data/CFHT/rawElixir/D3/r/805374p.fits.fz --<link>--> /renoir_data_00/jpreyes/stacks/notebook_files/data2/CFHTLS/input/raw/05AL01/D3/2005-07-27/r/805374p.fits.fz"
       ]
      },
      {
       "output_type": "stream",
       "stream": "stdout",
       "text": [
        "\n",
        "/renoir_data_02/lsst_data/CFHT/rawElixir/D3/r/805375p.fits.fz --<link>--> /renoir_data_00/jpreyes/stacks/notebook_files/data2/CFHTLS/input/raw/05AL01/D3/2005-07-27/r/805375p.fits.fz"
       ]
      },
      {
       "output_type": "stream",
       "stream": "stdout",
       "text": [
        "\n",
        "/renoir_data_02/lsst_data/CFHT/rawElixir/D3/r/806141p.fits.fz --<link>--> /renoir_data_00/jpreyes/stacks/notebook_files/data2/CFHTLS/input/raw/05AL01/D3/2005-08-01/r/806141p.fits.fz"
       ]
      },
      {
       "output_type": "stream",
       "stream": "stdout",
       "text": [
        "\n",
        "/renoir_data_02/lsst_data/CFHT/rawElixir/D3/r/806142p.fits.fz --<link>--> /renoir_data_00/jpreyes/stacks/notebook_files/data2/CFHTLS/input/raw/05AL01/D3/2005-08-01/r/806142p.fits.fz"
       ]
      },
      {
       "output_type": "stream",
       "stream": "stdout",
       "text": [
        "\n",
        "/renoir_data_02/lsst_data/CFHT/rawElixir/D3/r/806143p.fits.fz --<link>--> /renoir_data_00/jpreyes/stacks/notebook_files/data2/CFHTLS/input/raw/05AL01/D3/2005-08-01/r/806143p.fits.fz"
       ]
      },
      {
       "output_type": "stream",
       "stream": "stdout",
       "text": [
        "\n",
        "/renoir_data_02/lsst_data/CFHT/rawElixir/D3/r/806144p.fits.fz --<link>--> /renoir_data_00/jpreyes/stacks/notebook_files/data2/CFHTLS/input/raw/05AL01/D3/2005-08-01/r/806144p.fits.fz"
       ]
      },
      {
       "output_type": "stream",
       "stream": "stdout",
       "text": [
        "\n",
        "/renoir_data_02/lsst_data/CFHT/rawElixir/D3/r/806145p.fits.fz --<link>--> /renoir_data_00/jpreyes/stacks/notebook_files/data2/CFHTLS/input/raw/05AL01/D3/2005-08-01/r/806145p.fits.fz"
       ]
      },
      {
       "output_type": "stream",
       "stream": "stdout",
       "text": [
        "\n",
        "/renoir_data_02/lsst_data/CFHT/rawElixir/D3/r/806534p.fits.fz --<link>--> /renoir_data_00/jpreyes/stacks/notebook_files/data2/CFHTLS/input/raw/05BL01/D3/2005-08-04/r/806534p.fits.fz"
       ]
      },
      {
       "output_type": "stream",
       "stream": "stdout",
       "text": [
        "\n",
        "/renoir_data_02/lsst_data/CFHT/rawElixir/D3/r/806535p.fits.fz --<link>--> /renoir_data_00/jpreyes/stacks/notebook_files/data2/CFHTLS/input/raw/05BL01/D3/2005-08-04/r/806535p.fits.fz"
       ]
      },
      {
       "output_type": "stream",
       "stream": "stdout",
       "text": [
        "\n",
        "/renoir_data_02/lsst_data/CFHT/rawElixir/D3/r/806536p.fits.fz --<link>--> /renoir_data_00/jpreyes/stacks/notebook_files/data2/CFHTLS/input/raw/05BL01/D3/2005-08-04/r/806536p.fits.fz"
       ]
      },
      {
       "output_type": "stream",
       "stream": "stdout",
       "text": [
        "\n",
        "/renoir_data_02/lsst_data/CFHT/rawElixir/D3/r/806537p.fits.fz --<link>--> /renoir_data_00/jpreyes/stacks/notebook_files/data2/CFHTLS/input/raw/05BL01/D3/2005-08-04/r/806537p.fits.fz"
       ]
      },
      {
       "output_type": "stream",
       "stream": "stdout",
       "text": [
        "\n",
        "/renoir_data_02/lsst_data/CFHT/rawElixir/D3/r/806538p.fits.fz --<link>--> /renoir_data_00/jpreyes/stacks/notebook_files/data2/CFHTLS/input/raw/05BL01/D3/2005-08-04/r/806538p.fits.fz"
       ]
      },
      {
       "output_type": "stream",
       "stream": "stdout",
       "text": [
        "\n",
        "/renoir_data_02/lsst_data/CFHT/rawElixir/D3/r/806539p.fits.fz --<link>--> /renoir_data_00/jpreyes/stacks/notebook_files/data2/CFHTLS/input/raw/05BL01/D3/2005-08-04/r/806539p.fits.fz"
       ]
      },
      {
       "output_type": "stream",
       "stream": "stdout",
       "text": [
        "\n",
        "/renoir_data_02/lsst_data/CFHT/rawElixir/D3/r/806540p.fits.fz --<link>--> /renoir_data_00/jpreyes/stacks/notebook_files/data2/CFHTLS/input/raw/05BL01/D3/2005-08-04/r/806540p.fits.fz"
       ]
      },
      {
       "output_type": "stream",
       "stream": "stdout",
       "text": [
        "\n",
        "/renoir_data_02/lsst_data/CFHT/rawElixir/D3/r/806541p.fits.fz --<link>--> /renoir_data_00/jpreyes/stacks/notebook_files/data2/CFHTLS/input/raw/05BL01/D3/2005-08-04/r/806541p.fits.fz"
       ]
      },
      {
       "output_type": "stream",
       "stream": "stdout",
       "text": [
        "\n",
        "/renoir_data_02/lsst_data/CFHT/rawElixir/D3/r/832115p.fits.fz --<link>--> /renoir_data_00/jpreyes/stacks/notebook_files/data2/CFHTLS/input/raw/05BL01/D3/2006-01-02/r/832115p.fits.fz"
       ]
      },
      {
       "output_type": "stream",
       "stream": "stdout",
       "text": [
        "\n",
        "/renoir_data_02/lsst_data/CFHT/rawElixir/D3/r/832116p.fits.fz --<link>--> /renoir_data_00/jpreyes/stacks/notebook_files/data2/CFHTLS/input/raw/05BL01/D3/2006-01-02/r/832116p.fits.fz"
       ]
      },
      {
       "output_type": "stream",
       "stream": "stdout",
       "text": [
        "\n",
        "/renoir_data_02/lsst_data/CFHT/rawElixir/D3/r/832117p.fits.fz --<link>--> /renoir_data_00/jpreyes/stacks/notebook_files/data2/CFHTLS/input/raw/05BL01/D3/2006-01-02/r/832117p.fits.fz"
       ]
      },
      {
       "output_type": "stream",
       "stream": "stdout",
       "text": [
        "\n",
        "/renoir_data_02/lsst_data/CFHT/rawElixir/D3/r/832118p.fits.fz --<link>--> /renoir_data_00/jpreyes/stacks/notebook_files/data2/CFHTLS/input/raw/05BL01/D3/2006-01-02/r/832118p.fits.fz"
       ]
      },
      {
       "output_type": "stream",
       "stream": "stdout",
       "text": [
        "\n",
        "/renoir_data_02/lsst_data/CFHT/rawElixir/D3/r/832119p.fits.fz --<link>--> /renoir_data_00/jpreyes/stacks/notebook_files/data2/CFHTLS/input/raw/05BL01/D3/2006-01-02/r/832119p.fits.fz"
       ]
      },
      {
       "output_type": "stream",
       "stream": "stdout",
       "text": [
        "\n",
        "/renoir_data_02/lsst_data/CFHT/rawElixir/D3/r/832905p.fits.fz --<link>--> /renoir_data_00/jpreyes/stacks/notebook_files/data2/CFHTLS/input/raw/05BL01/D3/2006-01-08/r/832905p.fits.fz"
       ]
      },
      {
       "output_type": "stream",
       "stream": "stdout",
       "text": [
        "\n",
        "/renoir_data_02/lsst_data/CFHT/rawElixir/D3/r/832907p.fits.fz --<link>--> /renoir_data_00/jpreyes/stacks/notebook_files/data2/CFHTLS/input/raw/05BL01/D3/2006-01-08/r/832907p.fits.fz"
       ]
      },
      {
       "output_type": "stream",
       "stream": "stdout",
       "text": [
        "\n",
        "/renoir_data_02/lsst_data/CFHT/rawElixir/D3/r/832908p.fits.fz --<link>--> /renoir_data_00/jpreyes/stacks/notebook_files/data2/CFHTLS/input/raw/05BL01/D3/2006-01-08/r/832908p.fits.fz"
       ]
      },
      {
       "output_type": "stream",
       "stream": "stdout",
       "text": [
        "\n",
        "/renoir_data_02/lsst_data/CFHT/rawElixir/D3/r/832909p.fits.fz --<link>--> /renoir_data_00/jpreyes/stacks/notebook_files/data2/CFHTLS/input/raw/05BL01/D3/2006-01-08/r/832909p.fits.fz"
       ]
      },
      {
       "output_type": "stream",
       "stream": "stdout",
       "text": [
        "\n",
        "/renoir_data_02/lsst_data/CFHT/rawElixir/D3/r/835967p.fits.fz --<link>--> /renoir_data_00/jpreyes/stacks/notebook_files/data2/CFHTLS/input/raw/05BL01/D3/2006-01-31/r/835967p.fits.fz"
       ]
      },
      {
       "output_type": "stream",
       "stream": "stdout",
       "text": [
        "\n",
        "/renoir_data_02/lsst_data/CFHT/rawElixir/D3/r/835968p.fits.fz --<link>--> /renoir_data_00/jpreyes/stacks/notebook_files/data2/CFHTLS/input/raw/05BL01/D3/2006-01-31/r/835968p.fits.fz"
       ]
      },
      {
       "output_type": "stream",
       "stream": "stdout",
       "text": [
        "\n",
        "/renoir_data_02/lsst_data/CFHT/rawElixir/D3/r/835969p.fits.fz --<link>--> /renoir_data_00/jpreyes/stacks/notebook_files/data2/CFHTLS/input/raw/05BL01/D3/2006-01-31/r/835969p.fits.fz"
       ]
      },
      {
       "output_type": "stream",
       "stream": "stdout",
       "text": [
        "\n",
        "/renoir_data_02/lsst_data/CFHT/rawElixir/D3/r/835970p.fits.fz --<link>--> /renoir_data_00/jpreyes/stacks/notebook_files/data2/CFHTLS/input/raw/05BL01/D3/2006-01-31/r/835970p.fits.fz"
       ]
      },
      {
       "output_type": "stream",
       "stream": "stdout",
       "text": [
        "\n",
        "/renoir_data_02/lsst_data/CFHT/rawElixir/D3/r/835971p.fits.fz --<link>--> /renoir_data_00/jpreyes/stacks/notebook_files/data2/CFHTLS/input/raw/05BL01/D3/2006-01-31/r/835971p.fits.fz"
       ]
      },
      {
       "output_type": "stream",
       "stream": "stdout",
       "text": [
        "\n",
        "/renoir_data_02/lsst_data/CFHT/rawElixir/D3/r/835972p.fits.fz --<link>--> /renoir_data_00/jpreyes/stacks/notebook_files/data2/CFHTLS/input/raw/05BL01/D3/2006-01-31/r/835972p.fits.fz"
       ]
      },
      {
       "output_type": "stream",
       "stream": "stdout",
       "text": [
        "\n",
        "/renoir_data_02/lsst_data/CFHT/rawElixir/D3/r/836493p.fits.fz --<link>--> /renoir_data_00/jpreyes/stacks/notebook_files/data2/CFHTLS/input/raw/06AL01/D3/2006-02-03/r/836493p.fits.fz"
       ]
      },
      {
       "output_type": "stream",
       "stream": "stdout",
       "text": [
        "\n",
        "/renoir_data_02/lsst_data/CFHT/rawElixir/D3/r/836494p.fits.fz --<link>--> /renoir_data_00/jpreyes/stacks/notebook_files/data2/CFHTLS/input/raw/06AL01/D3/2006-02-03/r/836494p.fits.fz"
       ]
      },
      {
       "output_type": "stream",
       "stream": "stdout",
       "text": [
        "\n",
        "/renoir_data_02/lsst_data/CFHT/rawElixir/D3/r/836495p.fits.fz --<link>--> /renoir_data_00/jpreyes/stacks/notebook_files/data2/CFHTLS/input/raw/06AL01/D3/2006-02-03/r/836495p.fits.fz"
       ]
      },
      {
       "output_type": "stream",
       "stream": "stdout",
       "text": [
        "\n",
        "/renoir_data_02/lsst_data/CFHT/rawElixir/D3/r/836496p.fits.fz --<link>--> /renoir_data_00/jpreyes/stacks/notebook_files/data2/CFHTLS/input/raw/06AL01/D3/2006-02-03/r/836496p.fits.fz"
       ]
      },
      {
       "output_type": "stream",
       "stream": "stdout",
       "text": [
        "\n",
        "/renoir_data_02/lsst_data/CFHT/rawElixir/D3/r/836497p.fits.fz --<link>--> /renoir_data_00/jpreyes/stacks/notebook_files/data2/CFHTLS/input/raw/06AL01/D3/2006-02-03/r/836497p.fits.fz"
       ]
      },
      {
       "output_type": "stream",
       "stream": "stdout",
       "text": [
        "\n",
        "/renoir_data_02/lsst_data/CFHT/rawElixir/D3/r/836498p.fits.fz --<link>--> /renoir_data_00/jpreyes/stacks/notebook_files/data2/CFHTLS/input/raw/06AL01/D3/2006-02-03/r/836498p.fits.fz"
       ]
      },
      {
       "output_type": "stream",
       "stream": "stdout",
       "text": [
        "\n",
        "/renoir_data_02/lsst_data/CFHT/rawElixir/D3/r/837002p.fits.fz --<link>--> /renoir_data_00/jpreyes/stacks/notebook_files/data2/CFHTLS/input/raw/06AL01/D3/2006-02-06/r/837002p.fits.fz"
       ]
      },
      {
       "output_type": "stream",
       "stream": "stdout",
       "text": [
        "\n",
        "/renoir_data_02/lsst_data/CFHT/rawElixir/D3/r/837003p.fits.fz --<link>--> /renoir_data_00/jpreyes/stacks/notebook_files/data2/CFHTLS/input/raw/06AL01/D3/2006-02-06/r/837003p.fits.fz"
       ]
      },
      {
       "output_type": "stream",
       "stream": "stdout",
       "text": [
        "\n",
        "/renoir_data_02/lsst_data/CFHT/rawElixir/D3/r/837004p.fits.fz --<link>--> /renoir_data_00/jpreyes/stacks/notebook_files/data2/CFHTLS/input/raw/06AL01/D3/2006-02-06/r/837004p.fits.fz"
       ]
      },
      {
       "output_type": "stream",
       "stream": "stdout",
       "text": [
        "\n",
        "/renoir_data_02/lsst_data/CFHT/rawElixir/D3/r/837005p.fits.fz --<link>--> /renoir_data_00/jpreyes/stacks/notebook_files/data2/CFHTLS/input/raw/06AL01/D3/2006-02-06/r/837005p.fits.fz"
       ]
      },
      {
       "output_type": "stream",
       "stream": "stdout",
       "text": [
        "\n",
        "/renoir_data_02/lsst_data/CFHT/rawElixir/D3/r/837006p.fits.fz --<link>--> /renoir_data_00/jpreyes/stacks/notebook_files/data2/CFHTLS/input/raw/06AL01/D3/2006-02-06/r/837006p.fits.fz"
       ]
      },
      {
       "output_type": "stream",
       "stream": "stdout",
       "text": [
        "\n",
        "/renoir_data_02/lsst_data/CFHT/rawElixir/D3/r/837007p.fits.fz --<link>--> /renoir_data_00/jpreyes/stacks/notebook_files/data2/CFHTLS/input/raw/06AL01/D3/2006-02-06/r/837007p.fits.fz"
       ]
      },
      {
       "output_type": "stream",
       "stream": "stdout",
       "text": [
        "\n",
        "/renoir_data_02/lsst_data/CFHT/rawElixir/D3/r/837008p.fits.fz --<link>--> /renoir_data_00/jpreyes/stacks/notebook_files/data2/CFHTLS/input/raw/06AL01/D3/2006-02-06/r/837008p.fits.fz"
       ]
      },
      {
       "output_type": "stream",
       "stream": "stdout",
       "text": [
        "\n",
        "/renoir_data_02/lsst_data/CFHT/rawElixir/D3/r/838853p.fits.fz --<link>--> /renoir_data_00/jpreyes/stacks/notebook_files/data2/CFHTLS/input/raw/06AL01/D3/2006-02-25/r/838853p.fits.fz"
       ]
      },
      {
       "output_type": "stream",
       "stream": "stdout",
       "text": [
        "\n",
        "/renoir_data_02/lsst_data/CFHT/rawElixir/D3/r/838854p.fits.fz --<link>--> /renoir_data_00/jpreyes/stacks/notebook_files/data2/CFHTLS/input/raw/06AL01/D3/2006-02-25/r/838854p.fits.fz"
       ]
      },
      {
       "output_type": "stream",
       "stream": "stdout",
       "text": [
        "\n",
        "/renoir_data_02/lsst_data/CFHT/rawElixir/D3/r/838855p.fits.fz --<link>--> /renoir_data_00/jpreyes/stacks/notebook_files/data2/CFHTLS/input/raw/06AL01/D3/2006-02-25/r/838855p.fits.fz"
       ]
      },
      {
       "output_type": "stream",
       "stream": "stdout",
       "text": [
        "\n",
        "/renoir_data_02/lsst_data/CFHT/rawElixir/D3/r/838857p.fits.fz --<link>--> /renoir_data_00/jpreyes/stacks/notebook_files/data2/CFHTLS/input/raw/06AL01/D3/2006-02-25/r/838857p.fits.fz"
       ]
      },
      {
       "output_type": "stream",
       "stream": "stdout",
       "text": [
        "\n",
        "/renoir_data_02/lsst_data/CFHT/rawElixir/D3/r/838864p.fits.fz --<link>--> /renoir_data_00/jpreyes/stacks/notebook_files/data2/CFHTLS/input/raw/06AL01/D3/2006-02-25/r/838864p.fits.fz"
       ]
      },
      {
       "output_type": "stream",
       "stream": "stdout",
       "text": [
        "\n",
        "/renoir_data_02/lsst_data/CFHT/rawElixir/D3/r/838865p.fits.fz --<link>--> /renoir_data_00/jpreyes/stacks/notebook_files/data2/CFHTLS/input/raw/06AL01/D3/2006-02-25/r/838865p.fits.fz"
       ]
      },
      {
       "output_type": "stream",
       "stream": "stdout",
       "text": [
        "\n",
        "/renoir_data_02/lsst_data/CFHT/rawElixir/D3/r/838866p.fits.fz --<link>--> /renoir_data_00/jpreyes/stacks/notebook_files/data2/CFHTLS/input/raw/06AL01/D3/2006-02-25/r/838866p.fits.fz"
       ]
      },
      {
       "output_type": "stream",
       "stream": "stdout",
       "text": [
        "\n",
        "/renoir_data_02/lsst_data/CFHT/rawElixir/D3/r/838867p.fits.fz --<link>--> /renoir_data_00/jpreyes/stacks/notebook_files/data2/CFHTLS/input/raw/06AL01/D3/2006-02-25/r/838867p.fits.fz"
       ]
      },
      {
       "output_type": "stream",
       "stream": "stdout",
       "text": [
        "\n",
        "/renoir_data_02/lsst_data/CFHT/rawElixir/D3/r/838868p.fits.fz --<link>--> /renoir_data_00/jpreyes/stacks/notebook_files/data2/CFHTLS/input/raw/06AL01/D3/2006-02-25/r/838868p.fits.fz"
       ]
      },
      {
       "output_type": "stream",
       "stream": "stdout",
       "text": [
        "\n",
        "/renoir_data_02/lsst_data/CFHT/rawElixir/D3/r/839308p.fits.fz --<link>--> /renoir_data_00/jpreyes/stacks/notebook_files/data2/CFHTLS/input/raw/06AL01/D3/2006-03-05/r/839308p.fits.fz"
       ]
      },
      {
       "output_type": "stream",
       "stream": "stdout",
       "text": [
        "\n",
        "/renoir_data_02/lsst_data/CFHT/rawElixir/D3/r/839309p.fits.fz --<link>--> /renoir_data_00/jpreyes/stacks/notebook_files/data2/CFHTLS/input/raw/06AL01/D3/2006-03-05/r/839309p.fits.fz"
       ]
      },
      {
       "output_type": "stream",
       "stream": "stdout",
       "text": [
        "\n",
        "/renoir_data_02/lsst_data/CFHT/rawElixir/D3/r/839310p.fits.fz --<link>--> /renoir_data_00/jpreyes/stacks/notebook_files/data2/CFHTLS/input/raw/06AL01/D3/2006-03-05/r/839310p.fits.fz"
       ]
      },
      {
       "output_type": "stream",
       "stream": "stdout",
       "text": [
        "\n",
        "/renoir_data_02/lsst_data/CFHT/rawElixir/D3/r/839311p.fits.fz --<link>--> /renoir_data_00/jpreyes/stacks/notebook_files/data2/CFHTLS/input/raw/06AL01/D3/2006-03-05/r/839311p.fits.fz"
       ]
      },
      {
       "output_type": "stream",
       "stream": "stdout",
       "text": [
        "\n",
        "/renoir_data_02/lsst_data/CFHT/rawElixir/D3/r/839312p.fits.fz --<link>--> /renoir_data_00/jpreyes/stacks/notebook_files/data2/CFHTLS/input/raw/06AL01/D3/2006-03-05/r/839312p.fits.fz"
       ]
      },
      {
       "output_type": "stream",
       "stream": "stdout",
       "text": [
        "\n",
        "/renoir_data_02/lsst_data/CFHT/rawElixir/D3/r/844210p.fits.fz --<link>--> /renoir_data_00/jpreyes/stacks/notebook_files/data2/CFHTLS/input/raw/06AL01/D3/2006-04-23/r/844210p.fits.fz"
       ]
      },
      {
       "output_type": "stream",
       "stream": "stdout",
       "text": [
        "\n",
        "/renoir_data_02/lsst_data/CFHT/rawElixir/D3/r/844211p.fits.fz --<link>--> /renoir_data_00/jpreyes/stacks/notebook_files/data2/CFHTLS/input/raw/06AL01/D3/2006-04-23/r/844211p.fits.fz"
       ]
      },
      {
       "output_type": "stream",
       "stream": "stdout",
       "text": [
        "\n",
        "/renoir_data_02/lsst_data/CFHT/rawElixir/D3/r/844212p.fits.fz --<link>--> /renoir_data_00/jpreyes/stacks/notebook_files/data2/CFHTLS/input/raw/06AL01/D3/2006-04-23/r/844212p.fits.fz"
       ]
      },
      {
       "output_type": "stream",
       "stream": "stdout",
       "text": [
        "\n",
        "/renoir_data_02/lsst_data/CFHT/rawElixir/D3/r/844213p.fits.fz --<link>--> /renoir_data_00/jpreyes/stacks/notebook_files/data2/CFHTLS/input/raw/06AL01/D3/2006-04-23/r/844213p.fits.fz"
       ]
      },
      {
       "output_type": "stream",
       "stream": "stdout",
       "text": [
        "\n",
        "/renoir_data_02/lsst_data/CFHT/rawElixir/D3/r/844214p.fits.fz --<link>--> /renoir_data_00/jpreyes/stacks/notebook_files/data2/CFHTLS/input/raw/06AL01/D3/2006-04-23/r/844214p.fits.fz"
       ]
      },
      {
       "output_type": "stream",
       "stream": "stdout",
       "text": [
        "\n",
        "/renoir_data_02/lsst_data/CFHT/rawElixir/D3/r/844230p.fits.fz --<link>--> /renoir_data_00/jpreyes/stacks/notebook_files/data2/CFHTLS/input/raw/06AL01/D3/2006-04-23/r/844230p.fits.fz"
       ]
      },
      {
       "output_type": "stream",
       "stream": "stdout",
       "text": [
        "\n",
        "/renoir_data_02/lsst_data/CFHT/rawElixir/D3/r/844489p.fits.fz --<link>--> /renoir_data_00/jpreyes/stacks/notebook_files/data2/CFHTLS/input/raw/06AL01/D3/2006-04-26/r/844489p.fits.fz"
       ]
      },
      {
       "output_type": "stream",
       "stream": "stdout",
       "text": [
        "\n",
        "/renoir_data_02/lsst_data/CFHT/rawElixir/D3/r/844490p.fits.fz --<link>--> /renoir_data_00/jpreyes/stacks/notebook_files/data2/CFHTLS/input/raw/06AL01/D3/2006-04-26/r/844490p.fits.fz"
       ]
      },
      {
       "output_type": "stream",
       "stream": "stdout",
       "text": [
        "\n",
        "/renoir_data_02/lsst_data/CFHT/rawElixir/D3/r/844491p.fits.fz --<link>--> /renoir_data_00/jpreyes/stacks/notebook_files/data2/CFHTLS/input/raw/06AL01/D3/2006-04-26/r/844491p.fits.fz"
       ]
      },
      {
       "output_type": "stream",
       "stream": "stdout",
       "text": [
        "\n",
        "/renoir_data_02/lsst_data/CFHT/rawElixir/D3/r/844492p.fits.fz --<link>--> /renoir_data_00/jpreyes/stacks/notebook_files/data2/CFHTLS/input/raw/06AL01/D3/2006-04-26/r/844492p.fits.fz"
       ]
      },
      {
       "output_type": "stream",
       "stream": "stdout",
       "text": [
        "\n",
        "/renoir_data_02/lsst_data/CFHT/rawElixir/D3/r/844493p.fits.fz --<link>--> /renoir_data_00/jpreyes/stacks/notebook_files/data2/CFHTLS/input/raw/06AL01/D3/2006-04-26/r/844493p.fits.fz"
       ]
      },
      {
       "output_type": "stream",
       "stream": "stdout",
       "text": [
        "\n",
        "/renoir_data_02/lsst_data/CFHT/rawElixir/D3/r/844494p.fits.fz --<link>--> /renoir_data_00/jpreyes/stacks/notebook_files/data2/CFHTLS/input/raw/06AL01/D3/2006-04-26/r/844494p.fits.fz"
       ]
      },
      {
       "output_type": "stream",
       "stream": "stdout",
       "text": [
        "\n",
        "/renoir_data_02/lsst_data/CFHT/rawElixir/D3/r/844495p.fits.fz --<link>--> /renoir_data_00/jpreyes/stacks/notebook_files/data2/CFHTLS/input/raw/06AL01/D3/2006-04-26/r/844495p.fits.fz"
       ]
      },
      {
       "output_type": "stream",
       "stream": "stdout",
       "text": [
        "\n",
        "/renoir_data_02/lsst_data/CFHT/rawElixir/D3/r/844496p.fits.fz --<link>--> /renoir_data_00/jpreyes/stacks/notebook_files/data2/CFHTLS/input/raw/06AL01/D3/2006-04-26/r/844496p.fits.fz"
       ]
      },
      {
       "output_type": "stream",
       "stream": "stdout",
       "text": [
        "\n",
        "/renoir_data_02/lsst_data/CFHT/rawElixir/D3/r/844497p.fits.fz --<link>--> /renoir_data_00/jpreyes/stacks/notebook_files/data2/CFHTLS/input/raw/06AL01/D3/2006-04-26/r/844497p.fits.fz"
       ]
      },
      {
       "output_type": "stream",
       "stream": "stdout",
       "text": [
        "\n",
        "/renoir_data_02/lsst_data/CFHT/rawElixir/D3/r/844498p.fits.fz --<link>--> /renoir_data_00/jpreyes/stacks/notebook_files/data2/CFHTLS/input/raw/06AL01/D3/2006-04-26/r/844498p.fits.fz"
       ]
      },
      {
       "output_type": "stream",
       "stream": "stdout",
       "text": [
        "\n",
        "/renoir_data_02/lsst_data/CFHT/rawElixir/D3/r/844514p.fits.fz --<link>--> /renoir_data_00/jpreyes/stacks/notebook_files/data2/CFHTLS/input/raw/06AL01/D3/2006-04-26/r/844514p.fits.fz"
       ]
      },
      {
       "output_type": "stream",
       "stream": "stdout",
       "text": [
        "\n",
        "/renoir_data_02/lsst_data/CFHT/rawElixir/D3/r/844515p.fits.fz --<link>--> /renoir_data_00/jpreyes/stacks/notebook_files/data2/CFHTLS/input/raw/06AL01/D3/2006-04-26/r/844515p.fits.fz"
       ]
      },
      {
       "output_type": "stream",
       "stream": "stdout",
       "text": [
        "\n",
        "/renoir_data_02/lsst_data/CFHT/rawElixir/D3/r/844516p.fits.fz --<link>--> /renoir_data_00/jpreyes/stacks/notebook_files/data2/CFHTLS/input/raw/06AL01/D3/2006-04-26/r/844516p.fits.fz"
       ]
      },
      {
       "output_type": "stream",
       "stream": "stdout",
       "text": [
        "\n",
        "/renoir_data_02/lsst_data/CFHT/rawElixir/D3/r/844517p.fits.fz --<link>--> /renoir_data_00/jpreyes/stacks/notebook_files/data2/CFHTLS/input/raw/06AL01/D3/2006-04-26/r/844517p.fits.fz"
       ]
      },
      {
       "output_type": "stream",
       "stream": "stdout",
       "text": [
        "\n",
        "/renoir_data_02/lsst_data/CFHT/rawElixir/D3/r/844518p.fits.fz --<link>--> /renoir_data_00/jpreyes/stacks/notebook_files/data2/CFHTLS/input/raw/06AL01/D3/2006-04-26/r/844518p.fits.fz"
       ]
      },
      {
       "output_type": "stream",
       "stream": "stdout",
       "text": [
        "\n",
        "/renoir_data_02/lsst_data/CFHT/rawElixir/D3/r/844845p.fits.fz --<link>--> /renoir_data_00/jpreyes/stacks/notebook_files/data2/CFHTLS/input/raw/06AL01/D3/2006-04-30/r/844845p.fits.fz"
       ]
      },
      {
       "output_type": "stream",
       "stream": "stdout",
       "text": [
        "\n",
        "/renoir_data_02/lsst_data/CFHT/rawElixir/D3/r/844846p.fits.fz --<link>--> /renoir_data_00/jpreyes/stacks/notebook_files/data2/CFHTLS/input/raw/06AL01/D3/2006-04-30/r/844846p.fits.fz"
       ]
      },
      {
       "output_type": "stream",
       "stream": "stdout",
       "text": [
        "\n",
        "/renoir_data_02/lsst_data/CFHT/rawElixir/D3/r/844847p.fits.fz --<link>--> /renoir_data_00/jpreyes/stacks/notebook_files/data2/CFHTLS/input/raw/06AL01/D3/2006-04-30/r/844847p.fits.fz"
       ]
      },
      {
       "output_type": "stream",
       "stream": "stdout",
       "text": [
        "\n",
        "/renoir_data_02/lsst_data/CFHT/rawElixir/D3/r/844848p.fits.fz --<link>--> /renoir_data_00/jpreyes/stacks/notebook_files/data2/CFHTLS/input/raw/06AL01/D3/2006-04-30/r/844848p.fits.fz"
       ]
      },
      {
       "output_type": "stream",
       "stream": "stdout",
       "text": [
        "\n",
        "/renoir_data_02/lsst_data/CFHT/rawElixir/D3/r/844849p.fits.fz --<link>--> /renoir_data_00/jpreyes/stacks/notebook_files/data2/CFHTLS/input/raw/06AL01/D3/2006-04-30/r/844849p.fits.fz"
       ]
      },
      {
       "output_type": "stream",
       "stream": "stdout",
       "text": [
        "\n",
        "/renoir_data_02/lsst_data/CFHT/rawElixir/D3/r/845345p.fits.fz --<link>--> /renoir_data_00/jpreyes/stacks/notebook_files/data2/CFHTLS/input/raw/06AL01/D3/2006-05-04/r/845345p.fits.fz"
       ]
      },
      {
       "output_type": "stream",
       "stream": "stdout",
       "text": [
        "\n",
        "/renoir_data_02/lsst_data/CFHT/rawElixir/D3/r/845346p.fits.fz --<link>--> /renoir_data_00/jpreyes/stacks/notebook_files/data2/CFHTLS/input/raw/06AL01/D3/2006-05-04/r/845346p.fits.fz"
       ]
      },
      {
       "output_type": "stream",
       "stream": "stdout",
       "text": [
        "\n",
        "/renoir_data_02/lsst_data/CFHT/rawElixir/D3/r/845347p.fits.fz --<link>--> /renoir_data_00/jpreyes/stacks/notebook_files/data2/CFHTLS/input/raw/06AL01/D3/2006-05-04/r/845347p.fits.fz"
       ]
      },
      {
       "output_type": "stream",
       "stream": "stdout",
       "text": [
        "\n",
        "/renoir_data_02/lsst_data/CFHT/rawElixir/D3/r/845348p.fits.fz --<link>--> /renoir_data_00/jpreyes/stacks/notebook_files/data2/CFHTLS/input/raw/06AL01/D3/2006-05-04/r/845348p.fits.fz"
       ]
      },
      {
       "output_type": "stream",
       "stream": "stdout",
       "text": [
        "\n",
        "/renoir_data_02/lsst_data/CFHT/rawElixir/D3/r/845349p.fits.fz --<link>--> /renoir_data_00/jpreyes/stacks/notebook_files/data2/CFHTLS/input/raw/06AL01/D3/2006-05-04/r/845349p.fits.fz"
       ]
      },
      {
       "output_type": "stream",
       "stream": "stdout",
       "text": [
        "\n",
        "/renoir_data_02/lsst_data/CFHT/rawElixir/D3/r/849373p.fits.fz --<link>--> /renoir_data_00/jpreyes/stacks/notebook_files/data2/CFHTLS/input/raw/06AL01/D3/2006-05-20/r/849373p.fits.fz"
       ]
      },
      {
       "output_type": "stream",
       "stream": "stdout",
       "text": [
        "\n",
        "/renoir_data_02/lsst_data/CFHT/rawElixir/D3/r/849374p.fits.fz --<link>--> /renoir_data_00/jpreyes/stacks/notebook_files/data2/CFHTLS/input/raw/06AL01/D3/2006-05-20/r/849374p.fits.fz"
       ]
      },
      {
       "output_type": "stream",
       "stream": "stdout",
       "text": [
        "\n",
        "/renoir_data_02/lsst_data/CFHT/rawElixir/D3/r/849375p.fits.fz --<link>--> /renoir_data_00/jpreyes/stacks/notebook_files/data2/CFHTLS/input/raw/06AL01/D3/2006-05-20/r/849375p.fits.fz"
       ]
      },
      {
       "output_type": "stream",
       "stream": "stdout",
       "text": [
        "\n",
        "/renoir_data_02/lsst_data/CFHT/rawElixir/D3/r/849376p.fits.fz --<link>--> /renoir_data_00/jpreyes/stacks/notebook_files/data2/CFHTLS/input/raw/06AL01/D3/2006-05-20/r/849376p.fits.fz"
       ]
      },
      {
       "output_type": "stream",
       "stream": "stdout",
       "text": [
        "\n",
        "/renoir_data_02/lsst_data/CFHT/rawElixir/D3/r/849377p.fits.fz --<link>--> /renoir_data_00/jpreyes/stacks/notebook_files/data2/CFHTLS/input/raw/06AL01/D3/2006-05-20/r/849377p.fits.fz"
       ]
      },
      {
       "output_type": "stream",
       "stream": "stdout",
       "text": [
        "\n",
        "/renoir_data_02/lsst_data/CFHT/rawElixir/D3/r/849685p.fits.fz --<link>--> /renoir_data_00/jpreyes/stacks/notebook_files/data2/CFHTLS/input/raw/06AL01/D3/2006-05-24/r/849685p.fits.fz"
       ]
      },
      {
       "output_type": "stream",
       "stream": "stdout",
       "text": [
        "\n",
        "/renoir_data_02/lsst_data/CFHT/rawElixir/D3/r/849686p.fits.fz --<link>--> /renoir_data_00/jpreyes/stacks/notebook_files/data2/CFHTLS/input/raw/06AL01/D3/2006-05-24/r/849686p.fits.fz"
       ]
      },
      {
       "output_type": "stream",
       "stream": "stdout",
       "text": [
        "\n",
        "/renoir_data_02/lsst_data/CFHT/rawElixir/D3/r/849687p.fits.fz --<link>--> /renoir_data_00/jpreyes/stacks/notebook_files/data2/CFHTLS/input/raw/06AL01/D3/2006-05-24/r/849687p.fits.fz"
       ]
      },
      {
       "output_type": "stream",
       "stream": "stdout",
       "text": [
        "\n",
        "/renoir_data_02/lsst_data/CFHT/rawElixir/D3/r/849688p.fits.fz --<link>--> /renoir_data_00/jpreyes/stacks/notebook_files/data2/CFHTLS/input/raw/06AL01/D3/2006-05-24/r/849688p.fits.fz"
       ]
      },
      {
       "output_type": "stream",
       "stream": "stdout",
       "text": [
        "\n",
        "/renoir_data_02/lsst_data/CFHT/rawElixir/D3/r/849689p.fits.fz --<link>--> /renoir_data_00/jpreyes/stacks/notebook_files/data2/CFHTLS/input/raw/06AL01/D3/2006-05-24/r/849689p.fits.fz"
       ]
      },
      {
       "output_type": "stream",
       "stream": "stdout",
       "text": [
        "\n",
        "/renoir_data_02/lsst_data/CFHT/rawElixir/D3/r/850177p.fits.fz --<link>--> /renoir_data_00/jpreyes/stacks/notebook_files/data2/CFHTLS/input/raw/06AL01/D3/2006-05-28/r/850177p.fits.fz"
       ]
      },
      {
       "output_type": "stream",
       "stream": "stdout",
       "text": [
        "\n",
        "/renoir_data_02/lsst_data/CFHT/rawElixir/D3/r/850178p.fits.fz --<link>--> /renoir_data_00/jpreyes/stacks/notebook_files/data2/CFHTLS/input/raw/06AL01/D3/2006-05-28/r/850178p.fits.fz"
       ]
      },
      {
       "output_type": "stream",
       "stream": "stdout",
       "text": [
        "\n",
        "/renoir_data_02/lsst_data/CFHT/rawElixir/D3/r/850179p.fits.fz --<link>--> /renoir_data_00/jpreyes/stacks/notebook_files/data2/CFHTLS/input/raw/06AL01/D3/2006-05-28/r/850179p.fits.fz"
       ]
      },
      {
       "output_type": "stream",
       "stream": "stdout",
       "text": [
        "\n",
        "/renoir_data_02/lsst_data/CFHT/rawElixir/D3/r/850180p.fits.fz --<link>--> /renoir_data_00/jpreyes/stacks/notebook_files/data2/CFHTLS/input/raw/06AL01/D3/2006-05-28/r/850180p.fits.fz"
       ]
      },
      {
       "output_type": "stream",
       "stream": "stdout",
       "text": [
        "\n",
        "/renoir_data_02/lsst_data/CFHT/rawElixir/D3/r/850181p.fits.fz --<link>--> /renoir_data_00/jpreyes/stacks/notebook_files/data2/CFHTLS/input/raw/06AL01/D3/2006-05-28/r/850181p.fits.fz"
       ]
      },
      {
       "output_type": "stream",
       "stream": "stdout",
       "text": [
        "\n",
        "/renoir_data_02/lsst_data/CFHT/rawElixir/D3/r/850586p.fits.fz --<link>--> /renoir_data_00/jpreyes/stacks/notebook_files/data2/CFHTLS/input/raw/06AL01/D3/2006-06-02/r/850586p.fits.fz"
       ]
      },
      {
       "output_type": "stream",
       "stream": "stdout",
       "text": [
        "\n",
        "/renoir_data_02/lsst_data/CFHT/rawElixir/D3/r/850587p.fits.fz --<link>--> /renoir_data_00/jpreyes/stacks/notebook_files/data2/CFHTLS/input/raw/06AL01/D3/2006-06-02/r/850587p.fits.fz"
       ]
      },
      {
       "output_type": "stream",
       "stream": "stdout",
       "text": [
        "\n",
        "/renoir_data_02/lsst_data/CFHT/rawElixir/D3/r/850588p.fits.fz --<link>--> /renoir_data_00/jpreyes/stacks/notebook_files/data2/CFHTLS/input/raw/06AL01/D3/2006-06-02/r/850588p.fits.fz"
       ]
      },
      {
       "output_type": "stream",
       "stream": "stdout",
       "text": [
        "\n",
        "/renoir_data_02/lsst_data/CFHT/rawElixir/D3/r/850589p.fits.fz --<link>--> /renoir_data_00/jpreyes/stacks/notebook_files/data2/CFHTLS/input/raw/06AL01/D3/2006-06-02/r/850589p.fits.fz"
       ]
      },
      {
       "output_type": "stream",
       "stream": "stdout",
       "text": [
        "\n",
        "/renoir_data_02/lsst_data/CFHT/rawElixir/D3/r/850590p.fits.fz --<link>--> /renoir_data_00/jpreyes/stacks/notebook_files/data2/CFHTLS/input/raw/06AL01/D3/2006-06-02/r/850590p.fits.fz"
       ]
      },
      {
       "output_type": "stream",
       "stream": "stdout",
       "text": [
        "\n",
        "/renoir_data_02/lsst_data/CFHT/rawElixir/D3/r/851057p.fits.fz --<link>--> /renoir_data_00/jpreyes/stacks/notebook_files/data2/CFHTLS/input/raw/06AL01/D3/2006-06-06/r/851057p.fits.fz"
       ]
      },
      {
       "output_type": "stream",
       "stream": "stdout",
       "text": [
        "\n",
        "/renoir_data_02/lsst_data/CFHT/rawElixir/D3/r/851058p.fits.fz --<link>--> /renoir_data_00/jpreyes/stacks/notebook_files/data2/CFHTLS/input/raw/06AL01/D3/2006-06-06/r/851058p.fits.fz"
       ]
      },
      {
       "output_type": "stream",
       "stream": "stdout",
       "text": [
        "\n",
        "/renoir_data_02/lsst_data/CFHT/rawElixir/D3/r/851059p.fits.fz --<link>--> /renoir_data_00/jpreyes/stacks/notebook_files/data2/CFHTLS/input/raw/06AL01/D3/2006-06-06/r/851059p.fits.fz"
       ]
      },
      {
       "output_type": "stream",
       "stream": "stdout",
       "text": [
        "\n",
        "/renoir_data_02/lsst_data/CFHT/rawElixir/D3/r/851060p.fits.fz --<link>--> /renoir_data_00/jpreyes/stacks/notebook_files/data2/CFHTLS/input/raw/06AL01/D3/2006-06-06/r/851060p.fits.fz"
       ]
      },
      {
       "output_type": "stream",
       "stream": "stdout",
       "text": [
        "\n",
        "/renoir_data_02/lsst_data/CFHT/rawElixir/D3/r/851061p.fits.fz --<link>--> /renoir_data_00/jpreyes/stacks/notebook_files/data2/CFHTLS/input/raw/06AL01/D3/2006-06-06/r/851061p.fits.fz"
       ]
      },
      {
       "output_type": "stream",
       "stream": "stdout",
       "text": [
        "\n",
        "/renoir_data_02/lsst_data/CFHT/rawElixir/D3/r/852890p.fits.fz --<link>--> /renoir_data_00/jpreyes/stacks/notebook_files/data2/CFHTLS/input/raw/06AL01/D3/2006-06-20/r/852890p.fits.fz"
       ]
      },
      {
       "output_type": "stream",
       "stream": "stdout",
       "text": [
        "\n",
        "/renoir_data_02/lsst_data/CFHT/rawElixir/D3/r/852891p.fits.fz --<link>--> /renoir_data_00/jpreyes/stacks/notebook_files/data2/CFHTLS/input/raw/06AL01/D3/2006-06-20/r/852891p.fits.fz"
       ]
      },
      {
       "output_type": "stream",
       "stream": "stdout",
       "text": [
        "\n",
        "/renoir_data_02/lsst_data/CFHT/rawElixir/D3/r/852892p.fits.fz --<link>--> /renoir_data_00/jpreyes/stacks/notebook_files/data2/CFHTLS/input/raw/06AL01/D3/2006-06-20/r/852892p.fits.fz"
       ]
      },
      {
       "output_type": "stream",
       "stream": "stdout",
       "text": [
        "\n",
        "/renoir_data_02/lsst_data/CFHT/rawElixir/D3/r/852893p.fits.fz --<link>--> /renoir_data_00/jpreyes/stacks/notebook_files/data2/CFHTLS/input/raw/06AL01/D3/2006-06-20/r/852893p.fits.fz"
       ]
      },
      {
       "output_type": "stream",
       "stream": "stdout",
       "text": [
        "\n",
        "/renoir_data_02/lsst_data/CFHT/rawElixir/D3/r/852894p.fits.fz --<link>--> /renoir_data_00/jpreyes/stacks/notebook_files/data2/CFHTLS/input/raw/06AL01/D3/2006-06-20/r/852894p.fits.fz"
       ]
      },
      {
       "output_type": "stream",
       "stream": "stdout",
       "text": [
        "\n",
        "/renoir_data_02/lsst_data/CFHT/rawElixir/D3/r/853232p.fits.fz --<link>--> /renoir_data_00/jpreyes/stacks/notebook_files/data2/CFHTLS/input/raw/06AL01/D3/2006-06-25/r/853232p.fits.fz"
       ]
      },
      {
       "output_type": "stream",
       "stream": "stdout",
       "text": [
        "\n",
        "/renoir_data_02/lsst_data/CFHT/rawElixir/D3/r/853233p.fits.fz --<link>--> /renoir_data_00/jpreyes/stacks/notebook_files/data2/CFHTLS/input/raw/06AL01/D3/2006-06-25/r/853233p.fits.fz"
       ]
      },
      {
       "output_type": "stream",
       "stream": "stdout",
       "text": [
        "\n",
        "/renoir_data_02/lsst_data/CFHT/rawElixir/D3/r/853234p.fits.fz --<link>--> /renoir_data_00/jpreyes/stacks/notebook_files/data2/CFHTLS/input/raw/06AL01/D3/2006-06-25/r/853234p.fits.fz"
       ]
      },
      {
       "output_type": "stream",
       "stream": "stdout",
       "text": [
        "\n",
        "/renoir_data_02/lsst_data/CFHT/rawElixir/D3/r/853235p.fits.fz --<link>--> /renoir_data_00/jpreyes/stacks/notebook_files/data2/CFHTLS/input/raw/06AL01/D3/2006-06-25/r/853235p.fits.fz"
       ]
      },
      {
       "output_type": "stream",
       "stream": "stdout",
       "text": [
        "\n",
        "/renoir_data_02/lsst_data/CFHT/rawElixir/D3/r/853236p.fits.fz --<link>--> /renoir_data_00/jpreyes/stacks/notebook_files/data2/CFHTLS/input/raw/06AL01/D3/2006-06-25/r/853236p.fits.fz"
       ]
      },
      {
       "output_type": "stream",
       "stream": "stdout",
       "text": [
        "\n",
        "/renoir_data_02/lsst_data/CFHT/rawElixir/D3/r/853539p.fits.fz --<link>--> /renoir_data_00/jpreyes/stacks/notebook_files/data2/CFHTLS/input/raw/06AL01/D3/2006-06-30/r/853539p.fits.fz"
       ]
      },
      {
       "output_type": "stream",
       "stream": "stdout",
       "text": [
        "\n",
        "/renoir_data_02/lsst_data/CFHT/rawElixir/D3/r/853540p.fits.fz --<link>--> /renoir_data_00/jpreyes/stacks/notebook_files/data2/CFHTLS/input/raw/06AL01/D3/2006-06-30/r/853540p.fits.fz"
       ]
      },
      {
       "output_type": "stream",
       "stream": "stdout",
       "text": [
        "\n",
        "/renoir_data_02/lsst_data/CFHT/rawElixir/D3/r/853541p.fits.fz --<link>--> /renoir_data_00/jpreyes/stacks/notebook_files/data2/CFHTLS/input/raw/06AL01/D3/2006-06-30/r/853541p.fits.fz"
       ]
      },
      {
       "output_type": "stream",
       "stream": "stdout",
       "text": [
        "\n",
        "/renoir_data_02/lsst_data/CFHT/rawElixir/D3/r/853542p.fits.fz --<link>--> /renoir_data_00/jpreyes/stacks/notebook_files/data2/CFHTLS/input/raw/06AL01/D3/2006-06-30/r/853542p.fits.fz"
       ]
      },
      {
       "output_type": "stream",
       "stream": "stdout",
       "text": [
        "\n",
        "/renoir_data_02/lsst_data/CFHT/rawElixir/D3/r/853543p.fits.fz --<link>--> /renoir_data_00/jpreyes/stacks/notebook_files/data2/CFHTLS/input/raw/06AL01/D3/2006-06-30/r/853543p.fits.fz"
       ]
      },
      {
       "output_type": "stream",
       "stream": "stdout",
       "text": [
        "\n",
        "/renoir_data_02/lsst_data/CFHT/rawElixir/D3/r/853727p.fits.fz --<link>--> /renoir_data_00/jpreyes/stacks/notebook_files/data2/CFHTLS/input/raw/06AL01/D3/2006-07-03/r/853727p.fits.fz"
       ]
      },
      {
       "output_type": "stream",
       "stream": "stdout",
       "text": [
        "\n",
        "/renoir_data_02/lsst_data/CFHT/rawElixir/D3/r/853728p.fits.fz --<link>--> /renoir_data_00/jpreyes/stacks/notebook_files/data2/CFHTLS/input/raw/06AL01/D3/2006-07-03/r/853728p.fits.fz"
       ]
      },
      {
       "output_type": "stream",
       "stream": "stdout",
       "text": [
        "\n",
        "/renoir_data_02/lsst_data/CFHT/rawElixir/D3/r/853729p.fits.fz --<link>--> /renoir_data_00/jpreyes/stacks/notebook_files/data2/CFHTLS/input/raw/06AL01/D3/2006-07-03/r/853729p.fits.fz"
       ]
      },
      {
       "output_type": "stream",
       "stream": "stdout",
       "text": [
        "\n",
        "/renoir_data_02/lsst_data/CFHT/rawElixir/D3/r/853730p.fits.fz --<link>--> /renoir_data_00/jpreyes/stacks/notebook_files/data2/CFHTLS/input/raw/06AL01/D3/2006-07-03/r/853730p.fits.fz"
       ]
      },
      {
       "output_type": "stream",
       "stream": "stdout",
       "text": [
        "\n",
        "/renoir_data_02/lsst_data/CFHT/rawElixir/D3/r/853731p.fits.fz --<link>--> /renoir_data_00/jpreyes/stacks/notebook_files/data2/CFHTLS/input/raw/06AL01/D3/2006-07-03/r/853731p.fits.fz"
       ]
      },
      {
       "output_type": "stream",
       "stream": "stdout",
       "text": [
        "\n",
        "/renoir_data_02/lsst_data/CFHT/rawElixir/D3/r/858537p.fits.fz --<link>--> /renoir_data_00/jpreyes/stacks/notebook_files/data2/CFHTLS/input/raw/06AL01/D3/2006-07-19/r/858537p.fits.fz"
       ]
      },
      {
       "output_type": "stream",
       "stream": "stdout",
       "text": [
        "\n",
        "/renoir_data_02/lsst_data/CFHT/rawElixir/D3/r/858538p.fits.fz --<link>--> /renoir_data_00/jpreyes/stacks/notebook_files/data2/CFHTLS/input/raw/06AL01/D3/2006-07-19/r/858538p.fits.fz"
       ]
      },
      {
       "output_type": "stream",
       "stream": "stdout",
       "text": [
        "\n",
        "/renoir_data_02/lsst_data/CFHT/rawElixir/D3/r/858539p.fits.fz --<link>--> /renoir_data_00/jpreyes/stacks/notebook_files/data2/CFHTLS/input/raw/06AL01/D3/2006-07-19/r/858539p.fits.fz"
       ]
      },
      {
       "output_type": "stream",
       "stream": "stdout",
       "text": [
        "\n",
        "/renoir_data_02/lsst_data/CFHT/rawElixir/D3/r/858540p.fits.fz --<link>--> /renoir_data_00/jpreyes/stacks/notebook_files/data2/CFHTLS/input/raw/06AL01/D3/2006-07-19/r/858540p.fits.fz"
       ]
      },
      {
       "output_type": "stream",
       "stream": "stdout",
       "text": [
        "\n",
        "/renoir_data_02/lsst_data/CFHT/rawElixir/D3/r/858541p.fits.fz --<link>--> /renoir_data_00/jpreyes/stacks/notebook_files/data2/CFHTLS/input/raw/06AL01/D3/2006-07-19/r/858541p.fits.fz"
       ]
      },
      {
       "output_type": "stream",
       "stream": "stdout",
       "text": [
        "\n",
        "/renoir_data_02/lsst_data/CFHT/rawElixir/D3/r/859608p.fits.fz --<link>--> /renoir_data_00/jpreyes/stacks/notebook_files/data2/CFHTLS/input/raw/06AL01/D3/2006-07-23/r/859608p.fits.fz"
       ]
      },
      {
       "output_type": "stream",
       "stream": "stdout",
       "text": [
        "\n",
        "/renoir_data_02/lsst_data/CFHT/rawElixir/D3/r/859609p.fits.fz --<link>--> /renoir_data_00/jpreyes/stacks/notebook_files/data2/CFHTLS/input/raw/06AL01/D3/2006-07-23/r/859609p.fits.fz"
       ]
      },
      {
       "output_type": "stream",
       "stream": "stdout",
       "text": [
        "\n",
        "/renoir_data_02/lsst_data/CFHT/rawElixir/D3/r/859610p.fits.fz --<link>--> /renoir_data_00/jpreyes/stacks/notebook_files/data2/CFHTLS/input/raw/06AL01/D3/2006-07-23/r/859610p.fits.fz"
       ]
      },
      {
       "output_type": "stream",
       "stream": "stdout",
       "text": [
        "\n",
        "/renoir_data_02/lsst_data/CFHT/rawElixir/D3/r/859611p.fits.fz --<link>--> /renoir_data_00/jpreyes/stacks/notebook_files/data2/CFHTLS/input/raw/06AL01/D3/2006-07-23/r/859611p.fits.fz"
       ]
      },
      {
       "output_type": "stream",
       "stream": "stdout",
       "text": [
        "\n",
        "/renoir_data_02/lsst_data/CFHT/rawElixir/D3/r/859612p.fits.fz --<link>--> /renoir_data_00/jpreyes/stacks/notebook_files/data2/CFHTLS/input/raw/06AL01/D3/2006-07-23/r/859612p.fits.fz"
       ]
      },
      {
       "output_type": "stream",
       "stream": "stdout",
       "text": [
        "\n",
        "/renoir_data_02/lsst_data/CFHT/rawElixir/D3/r/860146p.fits.fz --<link>--> /renoir_data_00/jpreyes/stacks/notebook_files/data2/CFHTLS/input/raw/06AL01/D3/2006-07-27/r/860146p.fits.fz"
       ]
      },
      {
       "output_type": "stream",
       "stream": "stdout",
       "text": [
        "\n",
        "/renoir_data_02/lsst_data/CFHT/rawElixir/D3/r/860147p.fits.fz --<link>--> /renoir_data_00/jpreyes/stacks/notebook_files/data2/CFHTLS/input/raw/06AL01/D3/2006-07-27/r/860147p.fits.fz"
       ]
      },
      {
       "output_type": "stream",
       "stream": "stdout",
       "text": [
        "\n",
        "/renoir_data_02/lsst_data/CFHT/rawElixir/D3/r/860148p.fits.fz --<link>--> /renoir_data_00/jpreyes/stacks/notebook_files/data2/CFHTLS/input/raw/06AL01/D3/2006-07-27/r/860148p.fits.fz"
       ]
      },
      {
       "output_type": "stream",
       "stream": "stdout",
       "text": [
        "\n",
        "/renoir_data_02/lsst_data/CFHT/rawElixir/D3/r/860149p.fits.fz --<link>--> /renoir_data_00/jpreyes/stacks/notebook_files/data2/CFHTLS/input/raw/06AL01/D3/2006-07-27/r/860149p.fits.fz"
       ]
      },
      {
       "output_type": "stream",
       "stream": "stdout",
       "text": [
        "\n",
        "/renoir_data_02/lsst_data/CFHT/rawElixir/D3/r/860150p.fits.fz --<link>--> /renoir_data_00/jpreyes/stacks/notebook_files/data2/CFHTLS/input/raw/06AL01/D3/2006-07-27/r/860150p.fits.fz"
       ]
      },
      {
       "output_type": "stream",
       "stream": "stdout",
       "text": [
        "\n",
        "/renoir_data_02/lsst_data/CFHT/rawElixir/D3/r/889226p.fits.fz --<link>--> /renoir_data_00/jpreyes/stacks/notebook_files/data2/CFHTLS/input/raw/06BL01/D3/2007-01-13/r/889226p.fits.fz"
       ]
      },
      {
       "output_type": "stream",
       "stream": "stdout",
       "text": [
        "\n",
        "/renoir_data_02/lsst_data/CFHT/rawElixir/D3/r/889227p.fits.fz --<link>--> /renoir_data_00/jpreyes/stacks/notebook_files/data2/CFHTLS/input/raw/06BL01/D3/2007-01-13/r/889227p.fits.fz"
       ]
      },
      {
       "output_type": "stream",
       "stream": "stdout",
       "text": [
        "\n",
        "/renoir_data_02/lsst_data/CFHT/rawElixir/D3/r/889228p.fits.fz --<link>--> /renoir_data_00/jpreyes/stacks/notebook_files/data2/CFHTLS/input/raw/06BL01/D3/2007-01-13/r/889228p.fits.fz"
       ]
      },
      {
       "output_type": "stream",
       "stream": "stdout",
       "text": [
        "\n",
        "/renoir_data_02/lsst_data/CFHT/rawElixir/D3/r/889229p.fits.fz --<link>--> /renoir_data_00/jpreyes/stacks/notebook_files/data2/CFHTLS/input/raw/06BL01/D3/2007-01-13/r/889229p.fits.fz"
       ]
      },
      {
       "output_type": "stream",
       "stream": "stdout",
       "text": [
        "\n",
        "/renoir_data_02/lsst_data/CFHT/rawElixir/D3/r/889230p.fits.fz --<link>--> /renoir_data_00/jpreyes/stacks/notebook_files/data2/CFHTLS/input/raw/06BL01/D3/2007-01-13/r/889230p.fits.fz"
       ]
      },
      {
       "output_type": "stream",
       "stream": "stdout",
       "text": [
        "\n",
        "/renoir_data_02/lsst_data/CFHT/rawElixir/D3/r/889870p.fits.fz --<link>--> /renoir_data_00/jpreyes/stacks/notebook_files/data2/CFHTLS/input/raw/06BL01/D3/2007-01-17/r/889870p.fits.fz"
       ]
      },
      {
       "output_type": "stream",
       "stream": "stdout",
       "text": [
        "\n",
        "/renoir_data_02/lsst_data/CFHT/rawElixir/D3/r/889871p.fits.fz --<link>--> /renoir_data_00/jpreyes/stacks/notebook_files/data2/CFHTLS/input/raw/06BL01/D3/2007-01-17/r/889871p.fits.fz"
       ]
      },
      {
       "output_type": "stream",
       "stream": "stdout",
       "text": [
        "\n",
        "/renoir_data_02/lsst_data/CFHT/rawElixir/D3/r/889872p.fits.fz --<link>--> /renoir_data_00/jpreyes/stacks/notebook_files/data2/CFHTLS/input/raw/06BL01/D3/2007-01-17/r/889872p.fits.fz"
       ]
      },
      {
       "output_type": "stream",
       "stream": "stdout",
       "text": [
        "\n",
        "/renoir_data_02/lsst_data/CFHT/rawElixir/D3/r/889873p.fits.fz --<link>--> /renoir_data_00/jpreyes/stacks/notebook_files/data2/CFHTLS/input/raw/06BL01/D3/2007-01-17/r/889873p.fits.fz"
       ]
      },
      {
       "output_type": "stream",
       "stream": "stdout",
       "text": [
        "\n",
        "/renoir_data_02/lsst_data/CFHT/rawElixir/D3/r/889874p.fits.fz --<link>--> /renoir_data_00/jpreyes/stacks/notebook_files/data2/CFHTLS/input/raw/06BL01/D3/2007-01-17/r/889874p.fits.fz"
       ]
      },
      {
       "output_type": "stream",
       "stream": "stdout",
       "text": [
        "\n",
        "/renoir_data_02/lsst_data/CFHT/rawElixir/D3/r/890302p.fits.fz --<link>--> /renoir_data_00/jpreyes/stacks/notebook_files/data2/CFHTLS/input/raw/06BL01/D3/2007-01-20/r/890302p.fits.fz"
       ]
      },
      {
       "output_type": "stream",
       "stream": "stdout",
       "text": [
        "\n",
        "/renoir_data_02/lsst_data/CFHT/rawElixir/D3/r/890303p.fits.fz --<link>--> /renoir_data_00/jpreyes/stacks/notebook_files/data2/CFHTLS/input/raw/06BL01/D3/2007-01-20/r/890303p.fits.fz"
       ]
      },
      {
       "output_type": "stream",
       "stream": "stdout",
       "text": [
        "\n",
        "/renoir_data_02/lsst_data/CFHT/rawElixir/D3/r/890304p.fits.fz --<link>--> /renoir_data_00/jpreyes/stacks/notebook_files/data2/CFHTLS/input/raw/06BL01/D3/2007-01-20/r/890304p.fits.fz"
       ]
      },
      {
       "output_type": "stream",
       "stream": "stdout",
       "text": [
        "\n",
        "/renoir_data_02/lsst_data/CFHT/rawElixir/D3/r/890305p.fits.fz --<link>--> /renoir_data_00/jpreyes/stacks/notebook_files/data2/CFHTLS/input/raw/06BL01/D3/2007-01-20/r/890305p.fits.fz"
       ]
      },
      {
       "output_type": "stream",
       "stream": "stdout",
       "text": [
        "\n",
        "/renoir_data_02/lsst_data/CFHT/rawElixir/D3/r/890306p.fits.fz --<link>--> /renoir_data_00/jpreyes/stacks/notebook_files/data2/CFHTLS/input/raw/06BL01/D3/2007-01-20/r/890306p.fits.fz"
       ]
      },
      {
       "output_type": "stream",
       "stream": "stdout",
       "text": [
        "\n",
        "/renoir_data_02/lsst_data/CFHT/rawElixir/D3/r/890705p.fits.fz --<link>--> /renoir_data_00/jpreyes/stacks/notebook_files/data2/CFHTLS/input/raw/06BL01/D3/2007-01-23/r/890705p.fits.fz"
       ]
      },
      {
       "output_type": "stream",
       "stream": "stdout",
       "text": [
        "\n",
        "/renoir_data_02/lsst_data/CFHT/rawElixir/D3/r/890706p.fits.fz --<link>--> /renoir_data_00/jpreyes/stacks/notebook_files/data2/CFHTLS/input/raw/06BL01/D3/2007-01-23/r/890706p.fits.fz"
       ]
      },
      {
       "output_type": "stream",
       "stream": "stdout",
       "text": [
        "\n",
        "/renoir_data_02/lsst_data/CFHT/rawElixir/D3/r/890707p.fits.fz --<link>--> /renoir_data_00/jpreyes/stacks/notebook_files/data2/CFHTLS/input/raw/06BL01/D3/2007-01-23/r/890707p.fits.fz"
       ]
      },
      {
       "output_type": "stream",
       "stream": "stdout",
       "text": [
        "\n",
        "/renoir_data_02/lsst_data/CFHT/rawElixir/D3/r/890708p.fits.fz --<link>--> /renoir_data_00/jpreyes/stacks/notebook_files/data2/CFHTLS/input/raw/06BL01/D3/2007-01-23/r/890708p.fits.fz"
       ]
      },
      {
       "output_type": "stream",
       "stream": "stdout",
       "text": [
        "\n",
        "/renoir_data_02/lsst_data/CFHT/rawElixir/D3/r/890709p.fits.fz --<link>--> /renoir_data_00/jpreyes/stacks/notebook_files/data2/CFHTLS/input/raw/06BL01/D3/2007-01-23/r/890709p.fits.fz"
       ]
      },
      {
       "output_type": "stream",
       "stream": "stdout",
       "text": [
        "\n",
        "/renoir_data_02/lsst_data/CFHT/rawElixir/D3/r/890710p.fits.fz --<link>--> /renoir_data_00/jpreyes/stacks/notebook_files/data2/CFHTLS/input/raw/06BL01/D3/2007-01-23/r/890710p.fits.fz"
       ]
      },
      {
       "output_type": "stream",
       "stream": "stdout",
       "text": [
        "\n",
        "/renoir_data_02/lsst_data/CFHT/rawElixir/D3/r/890711p.fits.fz --<link>--> /renoir_data_00/jpreyes/stacks/notebook_files/data2/CFHTLS/input/raw/06BL01/D3/2007-01-23/r/890711p.fits.fz"
       ]
      },
      {
       "output_type": "stream",
       "stream": "stdout",
       "text": [
        "\n",
        "/renoir_data_02/lsst_data/CFHT/rawElixir/D3/r/895367p.fits.fz --<link>--> /renoir_data_00/jpreyes/stacks/notebook_files/data2/CFHTLS/input/raw/07AL01/D3/2007-02-09/r/895367p.fits.fz"
       ]
      },
      {
       "output_type": "stream",
       "stream": "stdout",
       "text": [
        "\n",
        "/renoir_data_02/lsst_data/CFHT/rawElixir/D3/r/895368p.fits.fz --<link>--> /renoir_data_00/jpreyes/stacks/notebook_files/data2/CFHTLS/input/raw/07AL01/D3/2007-02-09/r/895368p.fits.fz"
       ]
      },
      {
       "output_type": "stream",
       "stream": "stdout",
       "text": [
        "\n",
        "/renoir_data_02/lsst_data/CFHT/rawElixir/D3/r/895369p.fits.fz --<link>--> /renoir_data_00/jpreyes/stacks/notebook_files/data2/CFHTLS/input/raw/07AL01/D3/2007-02-09/r/895369p.fits.fz"
       ]
      },
      {
       "output_type": "stream",
       "stream": "stdout",
       "text": [
        "\n",
        "/renoir_data_02/lsst_data/CFHT/rawElixir/D3/r/895370p.fits.fz --<link>--> /renoir_data_00/jpreyes/stacks/notebook_files/data2/CFHTLS/input/raw/07AL01/D3/2007-02-09/r/895370p.fits.fz"
       ]
      },
      {
       "output_type": "stream",
       "stream": "stdout",
       "text": [
        "\n",
        "/renoir_data_02/lsst_data/CFHT/rawElixir/D3/r/895371p.fits.fz --<link>--> /renoir_data_00/jpreyes/stacks/notebook_files/data2/CFHTLS/input/raw/07AL01/D3/2007-02-09/r/895371p.fits.fz"
       ]
      },
      {
       "output_type": "stream",
       "stream": "stdout",
       "text": [
        "\n",
        "/renoir_data_02/lsst_data/CFHT/rawElixir/D3/r/895614p.fits.fz --<link>--> /renoir_data_00/jpreyes/stacks/notebook_files/data2/CFHTLS/input/raw/07AL01/D3/2007-02-13/r/895614p.fits.fz"
       ]
      },
      {
       "output_type": "stream",
       "stream": "stdout",
       "text": [
        "\n",
        "/renoir_data_02/lsst_data/CFHT/rawElixir/D3/r/895615p.fits.fz --<link>--> /renoir_data_00/jpreyes/stacks/notebook_files/data2/CFHTLS/input/raw/07AL01/D3/2007-02-13/r/895615p.fits.fz"
       ]
      },
      {
       "output_type": "stream",
       "stream": "stdout",
       "text": [
        "\n",
        "/renoir_data_02/lsst_data/CFHT/rawElixir/D3/r/895616p.fits.fz --<link>--> /renoir_data_00/jpreyes/stacks/notebook_files/data2/CFHTLS/input/raw/07AL01/D3/2007-02-13/r/895616p.fits.fz"
       ]
      },
      {
       "output_type": "stream",
       "stream": "stdout",
       "text": [
        "\n",
        "/renoir_data_02/lsst_data/CFHT/rawElixir/D3/r/895617p.fits.fz --<link>--> /renoir_data_00/jpreyes/stacks/notebook_files/data2/CFHTLS/input/raw/07AL01/D3/2007-02-13/r/895617p.fits.fz"
       ]
      },
      {
       "output_type": "stream",
       "stream": "stdout",
       "text": [
        "\n",
        "/renoir_data_02/lsst_data/CFHT/rawElixir/D3/r/895618p.fits.fz --<link>--> /renoir_data_00/jpreyes/stacks/notebook_files/data2/CFHTLS/input/raw/07AL01/D3/2007-02-13/r/895618p.fits.fz"
       ]
      },
      {
       "output_type": "stream",
       "stream": "stdout",
       "text": [
        "\n",
        "/renoir_data_02/lsst_data/CFHT/rawElixir/D3/r/896684p.fits.fz --<link>--> /renoir_data_00/jpreyes/stacks/notebook_files/data2/CFHTLS/input/raw/07AL01/D3/2007-02-20/r/896684p.fits.fz"
       ]
      },
      {
       "output_type": "stream",
       "stream": "stdout",
       "text": [
        "\n",
        "/renoir_data_02/lsst_data/CFHT/rawElixir/D3/r/896685p.fits.fz --<link>--> /renoir_data_00/jpreyes/stacks/notebook_files/data2/CFHTLS/input/raw/07AL01/D3/2007-02-20/r/896685p.fits.fz"
       ]
      },
      {
       "output_type": "stream",
       "stream": "stdout",
       "text": [
        "\n",
        "/renoir_data_02/lsst_data/CFHT/rawElixir/D3/r/896686p.fits.fz --<link>--> /renoir_data_00/jpreyes/stacks/notebook_files/data2/CFHTLS/input/raw/07AL01/D3/2007-02-20/r/896686p.fits.fz"
       ]
      },
      {
       "output_type": "stream",
       "stream": "stdout",
       "text": [
        "\n",
        "/renoir_data_02/lsst_data/CFHT/rawElixir/D3/r/896687p.fits.fz --<link>--> /renoir_data_00/jpreyes/stacks/notebook_files/data2/CFHTLS/input/raw/07AL01/D3/2007-02-20/r/896687p.fits.fz"
       ]
      },
      {
       "output_type": "stream",
       "stream": "stdout",
       "text": [
        "\n",
        "/renoir_data_02/lsst_data/CFHT/rawElixir/D3/r/896688p.fits.fz --<link>--> /renoir_data_00/jpreyes/stacks/notebook_files/data2/CFHTLS/input/raw/07AL01/D3/2007-02-20/r/896688p.fits.fz"
       ]
      },
      {
       "output_type": "stream",
       "stream": "stdout",
       "text": [
        "\n",
        "/renoir_data_02/lsst_data/CFHT/rawElixir/D3/r/896850p.fits.fz --<link>--> /renoir_data_00/jpreyes/stacks/notebook_files/data2/CFHTLS/input/raw/07AL01/D3/2007-02-22/r/896850p.fits.fz"
       ]
      },
      {
       "output_type": "stream",
       "stream": "stdout",
       "text": [
        "\n",
        "/renoir_data_02/lsst_data/CFHT/rawElixir/D3/r/896851p.fits.fz --<link>--> /renoir_data_00/jpreyes/stacks/notebook_files/data2/CFHTLS/input/raw/07AL01/D3/2007-02-22/r/896851p.fits.fz"
       ]
      },
      {
       "output_type": "stream",
       "stream": "stdout",
       "text": [
        "\n",
        "/renoir_data_02/lsst_data/CFHT/rawElixir/D3/r/896852p.fits.fz --<link>--> /renoir_data_00/jpreyes/stacks/notebook_files/data2/CFHTLS/input/raw/07AL01/D3/2007-02-22/r/896852p.fits.fz"
       ]
      },
      {
       "output_type": "stream",
       "stream": "stdout",
       "text": [
        "\n",
        "/renoir_data_02/lsst_data/CFHT/rawElixir/D3/r/896853p.fits.fz --<link>--> /renoir_data_00/jpreyes/stacks/notebook_files/data2/CFHTLS/input/raw/07AL01/D3/2007-02-22/r/896853p.fits.fz"
       ]
      },
      {
       "output_type": "stream",
       "stream": "stdout",
       "text": [
        "\n",
        "/renoir_data_02/lsst_data/CFHT/rawElixir/D3/r/896854p.fits.fz --<link>--> /renoir_data_00/jpreyes/stacks/notebook_files/data2/CFHTLS/input/raw/07AL01/D3/2007-02-22/r/896854p.fits.fz"
       ]
      },
      {
       "output_type": "stream",
       "stream": "stdout",
       "text": [
        "\n",
        "/renoir_data_02/lsst_data/CFHT/rawElixir/D3/r/898863p.fits.fz --<link>--> /renoir_data_00/jpreyes/stacks/notebook_files/data2/CFHTLS/input/raw/07AL01/D3/2007-03-17/r/898863p.fits.fz"
       ]
      },
      {
       "output_type": "stream",
       "stream": "stdout",
       "text": [
        "\n",
        "/renoir_data_02/lsst_data/CFHT/rawElixir/D3/r/898864p.fits.fz --<link>--> /renoir_data_00/jpreyes/stacks/notebook_files/data2/CFHTLS/input/raw/07AL01/D3/2007-03-17/r/898864p.fits.fz"
       ]
      },
      {
       "output_type": "stream",
       "stream": "stdout",
       "text": [
        "\n",
        "/renoir_data_02/lsst_data/CFHT/rawElixir/D3/r/898865p.fits.fz --<link>--> /renoir_data_00/jpreyes/stacks/notebook_files/data2/CFHTLS/input/raw/07AL01/D3/2007-03-17/r/898865p.fits.fz"
       ]
      },
      {
       "output_type": "stream",
       "stream": "stdout",
       "text": [
        "\n",
        "/renoir_data_02/lsst_data/CFHT/rawElixir/D3/r/898866p.fits.fz --<link>--> /renoir_data_00/jpreyes/stacks/notebook_files/data2/CFHTLS/input/raw/07AL01/D3/2007-03-17/r/898866p.fits.fz"
       ]
      },
      {
       "output_type": "stream",
       "stream": "stdout",
       "text": [
        "\n",
        "/renoir_data_02/lsst_data/CFHT/rawElixir/D3/r/898867p.fits.fz --<link>--> /renoir_data_00/jpreyes/stacks/notebook_files/data2/CFHTLS/input/raw/07AL01/D3/2007-03-17/r/898867p.fits.fz"
       ]
      },
      {
       "output_type": "stream",
       "stream": "stdout",
       "text": [
        "\n",
        "/renoir_data_02/lsst_data/CFHT/rawElixir/D3/r/899290p.fits.fz --<link>--> /renoir_data_00/jpreyes/stacks/notebook_files/data2/CFHTLS/input/raw/07AL01/D3/2007-03-20/r/899290p.fits.fz"
       ]
      },
      {
       "output_type": "stream",
       "stream": "stdout",
       "text": [
        "\n",
        "/renoir_data_02/lsst_data/CFHT/rawElixir/D3/r/899291p.fits.fz --<link>--> /renoir_data_00/jpreyes/stacks/notebook_files/data2/CFHTLS/input/raw/07AL01/D3/2007-03-20/r/899291p.fits.fz"
       ]
      },
      {
       "output_type": "stream",
       "stream": "stdout",
       "text": [
        "\n",
        "/renoir_data_02/lsst_data/CFHT/rawElixir/D3/r/899292p.fits.fz --<link>--> /renoir_data_00/jpreyes/stacks/notebook_files/data2/CFHTLS/input/raw/07AL01/D3/2007-03-20/r/899292p.fits.fz"
       ]
      },
      {
       "output_type": "stream",
       "stream": "stdout",
       "text": [
        "\n",
        "/renoir_data_02/lsst_data/CFHT/rawElixir/D3/r/899293p.fits.fz --<link>--> /renoir_data_00/jpreyes/stacks/notebook_files/data2/CFHTLS/input/raw/07AL01/D3/2007-03-20/r/899293p.fits.fz"
       ]
      },
      {
       "output_type": "stream",
       "stream": "stdout",
       "text": [
        "\n",
        "/renoir_data_02/lsst_data/CFHT/rawElixir/D3/r/899294p.fits.fz --<link>--> /renoir_data_00/jpreyes/stacks/notebook_files/data2/CFHTLS/input/raw/07AL01/D3/2007-03-20/r/899294p.fits.fz"
       ]
      },
      {
       "output_type": "stream",
       "stream": "stdout",
       "text": [
        "\n",
        "/renoir_data_02/lsst_data/CFHT/rawElixir/D3/r/899961p.fits.fz --<link>--> /renoir_data_00/jpreyes/stacks/notebook_files/data2/CFHTLS/input/raw/07AL01/D3/2007-03-24/r/899961p.fits.fz"
       ]
      },
      {
       "output_type": "stream",
       "stream": "stdout",
       "text": [
        "\n",
        "/renoir_data_02/lsst_data/CFHT/rawElixir/D3/r/899962p.fits.fz --<link>--> /renoir_data_00/jpreyes/stacks/notebook_files/data2/CFHTLS/input/raw/07AL01/D3/2007-03-24/r/899962p.fits.fz"
       ]
      },
      {
       "output_type": "stream",
       "stream": "stdout",
       "text": [
        "\n",
        "/renoir_data_02/lsst_data/CFHT/rawElixir/D3/r/899963p.fits.fz --<link>--> /renoir_data_00/jpreyes/stacks/notebook_files/data2/CFHTLS/input/raw/07AL01/D3/2007-03-24/r/899963p.fits.fz"
       ]
      },
      {
       "output_type": "stream",
       "stream": "stdout",
       "text": [
        "\n",
        "/renoir_data_02/lsst_data/CFHT/rawElixir/D3/r/899964p.fits.fz --<link>--> /renoir_data_00/jpreyes/stacks/notebook_files/data2/CFHTLS/input/raw/07AL01/D3/2007-03-24/r/899964p.fits.fz"
       ]
      },
      {
       "output_type": "stream",
       "stream": "stdout",
       "text": [
        "\n",
        "/renoir_data_02/lsst_data/CFHT/rawElixir/D3/r/899965p.fits.fz --<link>--> /renoir_data_00/jpreyes/stacks/notebook_files/data2/CFHTLS/input/raw/07AL01/D3/2007-03-24/r/899965p.fits.fz"
       ]
      },
      {
       "output_type": "stream",
       "stream": "stdout",
       "text": [
        "\n"
       ]
      }
     ],
     "prompt_number": 5
    },
    {
     "cell_type": "markdown",
     "metadata": {},
     "source": [
      "Run and process all the CCDs "
     ]
    },
    {
     "cell_type": "code",
     "collapsed": false,
     "input": [
      "PTask = Processer.ProcessCcdTask\n",
      "\n",
      "PTask.parseAndRun(args=((DATADIR+\"/input --output \"+DATADIR+\"/output --id ccd=14 --config isr.doBias=False isr.doFlat=False isr.doFringe=False\").split()))\n",
      "\n"
     ],
     "language": "python",
     "metadata": {},
     "outputs": [
      {
       "output_type": "stream",
       "stream": "stdout",
       "text": [
        "This is the processCCD\n",
        "This is the processCCD"
       ]
      },
      {
       "output_type": "stream",
       "stream": "stdout",
       "text": [
        "\n",
        "This is the processCCD"
       ]
      },
      {
       "output_type": "stream",
       "stream": "stdout",
       "text": [
        "\n",
        "This is the processCCD"
       ]
      },
      {
       "output_type": "stream",
       "stream": "stdout",
       "text": [
        "\n",
        "This is the processCCD"
       ]
      },
      {
       "output_type": "stream",
       "stream": "stdout",
       "text": [
        "\n",
        "This is the processCCD"
       ]
      },
      {
       "output_type": "stream",
       "stream": "stdout",
       "text": [
        "\n",
        "This is the processCCD"
       ]
      },
      {
       "output_type": "stream",
       "stream": "stdout",
       "text": [
        "\n",
        "This is the processCCD"
       ]
      },
      {
       "output_type": "stream",
       "stream": "stdout",
       "text": [
        "\n",
        "This is the processCCD"
       ]
      },
      {
       "output_type": "stream",
       "stream": "stdout",
       "text": [
        "\n",
        "This is the processCCD"
       ]
      },
      {
       "output_type": "stream",
       "stream": "stdout",
       "text": [
        "\n",
        "This is the processCCD"
       ]
      },
      {
       "output_type": "stream",
       "stream": "stdout",
       "text": [
        "\n",
        "This is the processCCD"
       ]
      },
      {
       "output_type": "stream",
       "stream": "stdout",
       "text": [
        "\n",
        "This is the processCCD"
       ]
      },
      {
       "output_type": "stream",
       "stream": "stdout",
       "text": [
        "\n",
        "This is the processCCD"
       ]
      },
      {
       "output_type": "stream",
       "stream": "stdout",
       "text": [
        "\n",
        "This is the processCCD"
       ]
      },
      {
       "output_type": "stream",
       "stream": "stdout",
       "text": [
        "\n",
        "This is the processCCD"
       ]
      },
      {
       "output_type": "stream",
       "stream": "stdout",
       "text": [
        "\n",
        "This is the processCCD"
       ]
      },
      {
       "output_type": "stream",
       "stream": "stdout",
       "text": [
        "\n",
        "This is the processCCD"
       ]
      },
      {
       "output_type": "stream",
       "stream": "stdout",
       "text": [
        "\n",
        "This is the processCCD"
       ]
      },
      {
       "output_type": "stream",
       "stream": "stdout",
       "text": [
        "\n",
        "This is the processCCD"
       ]
      },
      {
       "output_type": "stream",
       "stream": "stdout",
       "text": [
        "\n",
        "This is the processCCD"
       ]
      },
      {
       "output_type": "stream",
       "stream": "stdout",
       "text": [
        "\n",
        "This is the processCCD"
       ]
      },
      {
       "output_type": "stream",
       "stream": "stdout",
       "text": [
        "\n",
        "This is the processCCD"
       ]
      },
      {
       "output_type": "stream",
       "stream": "stdout",
       "text": [
        "\n",
        "This is the processCCD"
       ]
      },
      {
       "output_type": "stream",
       "stream": "stdout",
       "text": [
        "\n",
        "This is the processCCD"
       ]
      },
      {
       "output_type": "stream",
       "stream": "stdout",
       "text": [
        "\n",
        "This is the processCCD"
       ]
      },
      {
       "output_type": "stream",
       "stream": "stdout",
       "text": [
        "\n",
        "This is the processCCD"
       ]
      },
      {
       "output_type": "stream",
       "stream": "stdout",
       "text": [
        "\n",
        "This is the processCCD"
       ]
      },
      {
       "output_type": "stream",
       "stream": "stdout",
       "text": [
        "\n",
        "This is the processCCD"
       ]
      },
      {
       "output_type": "stream",
       "stream": "stdout",
       "text": [
        "\n",
        "This is the processCCD"
       ]
      },
      {
       "output_type": "stream",
       "stream": "stdout",
       "text": [
        "\n",
        "This is the processCCD"
       ]
      },
      {
       "output_type": "stream",
       "stream": "stdout",
       "text": [
        "\n",
        "This is the processCCD"
       ]
      },
      {
       "output_type": "stream",
       "stream": "stdout",
       "text": [
        "\n",
        "This is the processCCD"
       ]
      },
      {
       "output_type": "stream",
       "stream": "stderr",
       "text": [
        "Traceback (most recent call last):\n",
        "  File \"/renoir_data_00/jpreyes/stacks/v9_2_copy/Linux64/pipe_base/9.2/python/lsst/pipe/base/cmdLineTask.py\", line 322, in __call__\n",
        "    result = task.run(dataRef, **kwargs)\n",
        "  File \"/renoir_data_00/jpreyes/stacks/v9_2_copy/Linux64/pipe_base/9.2/python/lsst/pipe/base/timer.py\", line 118, in wrapper\n",
        "    res = func(self, *args, **keyArgs)\n",
        "  File \"/renoir_data_00/jpreyes/stacks/v9_2_copy/Linux64/pipe_tasks/9.2/python/lsst/pipe/tasks/processCcd.py\", line 84, in run\n",
        "    result = self.process(sensorRef, postIsrExposure)\n",
        "  File \"/renoir_data_00/jpreyes/stacks/v9_2_copy/Linux64/pipe_base/9.2/python/lsst/pipe/base/timer.py\", line 118, in wrapper\n",
        "    res = func(self, *args, **keyArgs)\n",
        "  File \"/renoir_data_00/jpreyes/stacks/v9_2_copy/Linux64/pipe_tasks/9.2/python/lsst/pipe/tasks/processImage.py\", line 154, in process\n",
        "    calib = self.calibrate.run(inputExposure, idFactory=idFactory)\n",
        "  File \"/renoir_data_00/jpreyes/stacks/v9_2_copy/Linux64/pipe_base/9.2/python/lsst/pipe/base/timer.py\", line 118, in wrapper\n",
        "    res = func(self, *args, **keyArgs)\n",
        "  File \"/renoir_data_00/jpreyes/stacks/v9_2_copy/Linux64/pipe_tasks/9.2/python/lsst/pipe/tasks/calibrate.py\", line 480, in run\n",
        "    astromRet = self.astrometry.run(exposure, sources)\n",
        "  File \"/renoir_data_00/jpreyes/stacks/v9_2_copy/Linux64/pipe_base/9.2/python/lsst/pipe/base/timer.py\", line 118, in wrapper\n",
        "    res = func(self, *args, **keyArgs)\n",
        "  File \"/renoir_data_00/jpreyes/stacks/v9_2_copy/Linux64/pipe_tasks/9.2/python/lsst/pipe/tasks/astrometry.py\", line 203, in run\n",
        "    results = self.astrometry(exposure, sources, bbox=bbox)\n",
        "  File \"/renoir_data_00/jpreyes/stacks/v9_2_copy/Linux64/pipe_base/9.2/python/lsst/pipe/base/timer.py\", line 118, in wrapper\n",
        "    res = func(self, *args, **keyArgs)\n",
        "  File \"/renoir_data_00/jpreyes/stacks/v9_2_copy/Linux64/pipe_tasks/9.2/python/lsst/pipe/tasks/astrometry.py\", line 320, in astrometry\n",
        "    astrom = self.astrometer.determineWcs(sources, exposure, **kwargs)\n",
        "  File \"/renoir_data_00/jpreyes/stacks/v9_2_copy/Linux64/meas_astrom/9.2/python/lsst/meas/astrom/astrom.py\", line 405, in determineWcs\n",
        "    return self.determineWcs2(sources, **margs)\n",
        "  File \"/renoir_data_00/jpreyes/stacks/v9_2_copy/Linux64/meas_astrom/9.2/python/lsst/meas/astrom/astrom.py\", line 428, in determineWcs2\n",
        "    wcs,qa = self.getBlindWcsSolution(sources, **kwargs)\n",
        "  File \"/renoir_data_00/jpreyes/stacks/v9_2_copy/Linux64/meas_astrom/9.2/python/lsst/meas/astrom/astrom.py\", line 516, in getBlindWcsSolution\n",
        "    raise RuntimeError(\"Unable to match sources with catalog.\")\n",
        "RuntimeError: Unable to match sources with catalog.\n",
        "Traceback (most recent call last):\n"
       ]
      },
      {
       "output_type": "stream",
       "stream": "stdout",
       "text": [
        "\n",
        "This is the processCCD"
       ]
      },
      {
       "output_type": "stream",
       "stream": "stdout",
       "text": [
        "\n",
        "This is the processCCD"
       ]
      },
      {
       "output_type": "stream",
       "stream": "stdout",
       "text": [
        "\n",
        "This is the processCCD"
       ]
      },
      {
       "output_type": "stream",
       "stream": "stdout",
       "text": [
        "\n",
        "This is the processCCD"
       ]
      },
      {
       "output_type": "stream",
       "stream": "stdout",
       "text": [
        "\n",
        "This is the processCCD"
       ]
      },
      {
       "output_type": "stream",
       "stream": "stdout",
       "text": [
        "\n",
        "This is the processCCD"
       ]
      },
      {
       "output_type": "stream",
       "stream": "stdout",
       "text": [
        "\n",
        "This is the processCCD"
       ]
      },
      {
       "output_type": "stream",
       "stream": "stdout",
       "text": [
        "\n",
        "This is the processCCD"
       ]
      },
      {
       "output_type": "stream",
       "stream": "stdout",
       "text": [
        "\n",
        "This is the processCCD"
       ]
      },
      {
       "output_type": "stream",
       "stream": "stdout",
       "text": [
        "\n",
        "This is the processCCD"
       ]
      },
      {
       "output_type": "stream",
       "stream": "stdout",
       "text": [
        "\n",
        "This is the processCCD"
       ]
      },
      {
       "output_type": "stream",
       "stream": "stdout",
       "text": [
        "\n",
        "This is the processCCD"
       ]
      },
      {
       "output_type": "stream",
       "stream": "stdout",
       "text": [
        "\n",
        "This is the processCCD"
       ]
      },
      {
       "output_type": "stream",
       "stream": "stdout",
       "text": [
        "\n",
        "This is the processCCD"
       ]
      },
      {
       "output_type": "stream",
       "stream": "stdout",
       "text": [
        "\n",
        "This is the processCCD"
       ]
      },
      {
       "output_type": "stream",
       "stream": "stdout",
       "text": [
        "\n",
        "This is the processCCD"
       ]
      },
      {
       "output_type": "stream",
       "stream": "stdout",
       "text": [
        "\n",
        "This is the processCCD"
       ]
      },
      {
       "output_type": "stream",
       "stream": "stdout",
       "text": [
        "\n",
        "This is the processCCD"
       ]
      },
      {
       "output_type": "stream",
       "stream": "stdout",
       "text": [
        "\n",
        "This is the processCCD"
       ]
      },
      {
       "output_type": "stream",
       "stream": "stdout",
       "text": [
        "\n",
        "This is the processCCD"
       ]
      },
      {
       "output_type": "stream",
       "stream": "stdout",
       "text": [
        "\n",
        "This is the processCCD"
       ]
      },
      {
       "output_type": "stream",
       "stream": "stdout",
       "text": [
        "\n",
        "This is the processCCD"
       ]
      },
      {
       "output_type": "stream",
       "stream": "stdout",
       "text": [
        "\n",
        "This is the processCCD"
       ]
      },
      {
       "output_type": "stream",
       "stream": "stdout",
       "text": [
        "\n",
        "This is the processCCD"
       ]
      },
      {
       "output_type": "stream",
       "stream": "stdout",
       "text": [
        "\n",
        "This is the processCCD"
       ]
      },
      {
       "output_type": "stream",
       "stream": "stdout",
       "text": [
        "\n",
        "This is the processCCD"
       ]
      },
      {
       "output_type": "stream",
       "stream": "stdout",
       "text": [
        "\n",
        "This is the processCCD"
       ]
      },
      {
       "output_type": "stream",
       "stream": "stdout",
       "text": [
        "\n",
        "This is the processCCD"
       ]
      },
      {
       "output_type": "stream",
       "stream": "stdout",
       "text": [
        "\n",
        "This is the processCCD"
       ]
      },
      {
       "output_type": "stream",
       "stream": "stdout",
       "text": [
        "\n",
        "This is the processCCD"
       ]
      },
      {
       "output_type": "stream",
       "stream": "stdout",
       "text": [
        "\n",
        "This is the processCCD"
       ]
      },
      {
       "output_type": "stream",
       "stream": "stdout",
       "text": [
        "\n",
        "This is the processCCD"
       ]
      },
      {
       "output_type": "stream",
       "stream": "stderr",
       "text": [
        "  File \"/renoir_data_00/jpreyes/stacks/v9_2_copy/Linux64/pipe_base/9.2/python/lsst/pipe/base/cmdLineTask.py\", line 322, in __call__\n",
        "    result = task.run(dataRef, **kwargs)\n",
        "  File \"/renoir_data_00/jpreyes/stacks/v9_2_copy/Linux64/pipe_base/9.2/python/lsst/pipe/base/timer.py\", line 118, in wrapper\n",
        "    res = func(self, *args, **keyArgs)\n",
        "  File \"/renoir_data_00/jpreyes/stacks/v9_2_copy/Linux64/pipe_tasks/9.2/python/lsst/pipe/tasks/processCcd.py\", line 84, in run\n",
        "    result = self.process(sensorRef, postIsrExposure)\n",
        "  File \"/renoir_data_00/jpreyes/stacks/v9_2_copy/Linux64/pipe_base/9.2/python/lsst/pipe/base/timer.py\", line 118, in wrapper\n",
        "    res = func(self, *args, **keyArgs)\n",
        "  File \"/renoir_data_00/jpreyes/stacks/v9_2_copy/Linux64/pipe_tasks/9.2/python/lsst/pipe/tasks/processImage.py\", line 154, in process\n",
        "    calib = self.calibrate.run(inputExposure, idFactory=idFactory)\n",
        "  File \"/renoir_data_00/jpreyes/stacks/v9_2_copy/Linux64/pipe_base/9.2/python/lsst/pipe/base/timer.py\", line 118, in wrapper\n",
        "    res = func(self, *args, **keyArgs)\n",
        "  File \"/renoir_data_00/jpreyes/stacks/v9_2_copy/Linux64/pipe_tasks/9.2/python/lsst/pipe/tasks/calibrate.py\", line 480, in run\n",
        "    astromRet = self.astrometry.run(exposure, sources)\n",
        "  File \"/renoir_data_00/jpreyes/stacks/v9_2_copy/Linux64/pipe_base/9.2/python/lsst/pipe/base/timer.py\", line 118, in wrapper\n",
        "    res = func(self, *args, **keyArgs)\n",
        "  File \"/renoir_data_00/jpreyes/stacks/v9_2_copy/Linux64/pipe_tasks/9.2/python/lsst/pipe/tasks/astrometry.py\", line 203, in run\n",
        "    results = self.astrometry(exposure, sources, bbox=bbox)\n",
        "  File \"/renoir_data_00/jpreyes/stacks/v9_2_copy/Linux64/pipe_base/9.2/python/lsst/pipe/base/timer.py\", line 118, in wrapper\n",
        "    res = func(self, *args, **keyArgs)\n",
        "  File \"/renoir_data_00/jpreyes/stacks/v9_2_copy/Linux64/pipe_tasks/9.2/python/lsst/pipe/tasks/astrometry.py\", line 320, in astrometry\n",
        "    astrom = self.astrometer.determineWcs(sources, exposure, **kwargs)\n",
        "  File \"/renoir_data_00/jpreyes/stacks/v9_2_copy/Linux64/meas_astrom/9.2/python/lsst/meas/astrom/astrom.py\", line 405, in determineWcs\n",
        "    return self.determineWcs2(sources, **margs)\n",
        "  File \"/renoir_data_00/jpreyes/stacks/v9_2_copy/Linux64/meas_astrom/9.2/python/lsst/meas/astrom/astrom.py\", line 428, in determineWcs2\n",
        "    wcs,qa = self.getBlindWcsSolution(sources, **kwargs)\n",
        "  File \"/renoir_data_00/jpreyes/stacks/v9_2_copy/Linux64/meas_astrom/9.2/python/lsst/meas/astrom/astrom.py\", line 516, in getBlindWcsSolution\n",
        "    raise RuntimeError(\"Unable to match sources with catalog.\")\n",
        "RuntimeError: Unable to match sources with catalog.\n",
        "Traceback (most recent call last):\n"
       ]
      },
      {
       "output_type": "stream",
       "stream": "stdout",
       "text": [
        "\n",
        "This is the processCCD"
       ]
      },
      {
       "output_type": "stream",
       "stream": "stdout",
       "text": [
        "\n",
        "This is the processCCD"
       ]
      },
      {
       "output_type": "stream",
       "stream": "stdout",
       "text": [
        "\n",
        "This is the processCCD"
       ]
      },
      {
       "output_type": "stream",
       "stream": "stdout",
       "text": [
        "\n",
        "This is the processCCD"
       ]
      },
      {
       "output_type": "stream",
       "stream": "stdout",
       "text": [
        "\n",
        "This is the processCCD"
       ]
      },
      {
       "output_type": "stream",
       "stream": "stdout",
       "text": [
        "\n",
        "This is the processCCD"
       ]
      },
      {
       "output_type": "stream",
       "stream": "stdout",
       "text": [
        "\n",
        "This is the processCCD"
       ]
      },
      {
       "output_type": "stream",
       "stream": "stdout",
       "text": [
        "\n",
        "This is the processCCD"
       ]
      },
      {
       "output_type": "stream",
       "stream": "stdout",
       "text": [
        "\n",
        "This is the processCCD"
       ]
      },
      {
       "output_type": "stream",
       "stream": "stdout",
       "text": [
        "\n",
        "This is the processCCD"
       ]
      },
      {
       "output_type": "stream",
       "stream": "stdout",
       "text": [
        "\n",
        "This is the processCCD"
       ]
      },
      {
       "output_type": "stream",
       "stream": "stdout",
       "text": [
        "\n",
        "This is the processCCD"
       ]
      },
      {
       "output_type": "stream",
       "stream": "stdout",
       "text": [
        "\n",
        "This is the processCCD"
       ]
      },
      {
       "output_type": "stream",
       "stream": "stdout",
       "text": [
        "\n",
        "This is the processCCD"
       ]
      },
      {
       "output_type": "stream",
       "stream": "stdout",
       "text": [
        "\n",
        "This is the processCCD"
       ]
      },
      {
       "output_type": "stream",
       "stream": "stdout",
       "text": [
        "\n",
        "This is the processCCD"
       ]
      },
      {
       "output_type": "stream",
       "stream": "stdout",
       "text": [
        "\n",
        "This is the processCCD"
       ]
      },
      {
       "output_type": "stream",
       "stream": "stdout",
       "text": [
        "\n",
        "This is the processCCD"
       ]
      },
      {
       "output_type": "stream",
       "stream": "stderr",
       "text": [
        "  File \"/renoir_data_00/jpreyes/stacks/v9_2_copy/Linux64/pipe_base/9.2/python/lsst/pipe/base/cmdLineTask.py\", line 322, in __call__\n",
        "    result = task.run(dataRef, **kwargs)\n",
        "  File \"/renoir_data_00/jpreyes/stacks/v9_2_copy/Linux64/pipe_base/9.2/python/lsst/pipe/base/timer.py\", line 118, in wrapper\n",
        "    res = func(self, *args, **keyArgs)\n",
        "  File \"/renoir_data_00/jpreyes/stacks/v9_2_copy/Linux64/pipe_tasks/9.2/python/lsst/pipe/tasks/processCcd.py\", line 84, in run\n",
        "    result = self.process(sensorRef, postIsrExposure)\n",
        "  File \"/renoir_data_00/jpreyes/stacks/v9_2_copy/Linux64/pipe_base/9.2/python/lsst/pipe/base/timer.py\", line 118, in wrapper\n",
        "    res = func(self, *args, **keyArgs)\n",
        "  File \"/renoir_data_00/jpreyes/stacks/v9_2_copy/Linux64/pipe_tasks/9.2/python/lsst/pipe/tasks/processImage.py\", line 154, in process\n",
        "    calib = self.calibrate.run(inputExposure, idFactory=idFactory)\n",
        "  File \"/renoir_data_00/jpreyes/stacks/v9_2_copy/Linux64/pipe_base/9.2/python/lsst/pipe/base/timer.py\", line 118, in wrapper\n",
        "    res = func(self, *args, **keyArgs)\n",
        "  File \"/renoir_data_00/jpreyes/stacks/v9_2_copy/Linux64/pipe_tasks/9.2/python/lsst/pipe/tasks/calibrate.py\", line 480, in run\n",
        "    astromRet = self.astrometry.run(exposure, sources)\n",
        "  File \"/renoir_data_00/jpreyes/stacks/v9_2_copy/Linux64/pipe_base/9.2/python/lsst/pipe/base/timer.py\", line 118, in wrapper\n",
        "    res = func(self, *args, **keyArgs)\n",
        "  File \"/renoir_data_00/jpreyes/stacks/v9_2_copy/Linux64/pipe_tasks/9.2/python/lsst/pipe/tasks/astrometry.py\", line 203, in run\n",
        "    results = self.astrometry(exposure, sources, bbox=bbox)\n",
        "  File \"/renoir_data_00/jpreyes/stacks/v9_2_copy/Linux64/pipe_base/9.2/python/lsst/pipe/base/timer.py\", line 118, in wrapper\n",
        "    res = func(self, *args, **keyArgs)\n",
        "  File \"/renoir_data_00/jpreyes/stacks/v9_2_copy/Linux64/pipe_tasks/9.2/python/lsst/pipe/tasks/astrometry.py\", line 320, in astrometry\n",
        "    astrom = self.astrometer.determineWcs(sources, exposure, **kwargs)\n",
        "  File \"/renoir_data_00/jpreyes/stacks/v9_2_copy/Linux64/meas_astrom/9.2/python/lsst/meas/astrom/astrom.py\", line 405, in determineWcs\n",
        "    return self.determineWcs2(sources, **margs)\n",
        "  File \"/renoir_data_00/jpreyes/stacks/v9_2_copy/Linux64/meas_astrom/9.2/python/lsst/meas/astrom/astrom.py\", line 428, in determineWcs2\n",
        "    wcs,qa = self.getBlindWcsSolution(sources, **kwargs)\n",
        "  File \"/renoir_data_00/jpreyes/stacks/v9_2_copy/Linux64/meas_astrom/9.2/python/lsst/meas/astrom/astrom.py\", line 516, in getBlindWcsSolution\n",
        "    raise RuntimeError(\"Unable to match sources with catalog.\")\n",
        "RuntimeError: Unable to match sources with catalog.\n",
        "Traceback (most recent call last):\n"
       ]
      },
      {
       "output_type": "stream",
       "stream": "stdout",
       "text": [
        "\n",
        "This is the processCCD"
       ]
      },
      {
       "output_type": "stream",
       "stream": "stdout",
       "text": [
        "\n",
        "This is the processCCD"
       ]
      },
      {
       "output_type": "stream",
       "stream": "stdout",
       "text": [
        "\n",
        "This is the processCCD"
       ]
      },
      {
       "output_type": "stream",
       "stream": "stdout",
       "text": [
        "\n",
        "This is the processCCD"
       ]
      },
      {
       "output_type": "stream",
       "stream": "stdout",
       "text": [
        "\n",
        "This is the processCCD"
       ]
      },
      {
       "output_type": "stream",
       "stream": "stderr",
       "text": [
        "  File \"/renoir_data_00/jpreyes/stacks/v9_2_copy/Linux64/pipe_base/9.2/python/lsst/pipe/base/cmdLineTask.py\", line 322, in __call__\n",
        "    result = task.run(dataRef, **kwargs)\n",
        "  File \"/renoir_data_00/jpreyes/stacks/v9_2_copy/Linux64/pipe_base/9.2/python/lsst/pipe/base/timer.py\", line 118, in wrapper\n",
        "    res = func(self, *args, **keyArgs)\n",
        "  File \"/renoir_data_00/jpreyes/stacks/v9_2_copy/Linux64/pipe_tasks/9.2/python/lsst/pipe/tasks/processCcd.py\", line 84, in run\n",
        "    result = self.process(sensorRef, postIsrExposure)\n",
        "  File \"/renoir_data_00/jpreyes/stacks/v9_2_copy/Linux64/pipe_base/9.2/python/lsst/pipe/base/timer.py\", line 118, in wrapper\n",
        "    res = func(self, *args, **keyArgs)\n",
        "  File \"/renoir_data_00/jpreyes/stacks/v9_2_copy/Linux64/pipe_tasks/9.2/python/lsst/pipe/tasks/processImage.py\", line 154, in process\n",
        "    calib = self.calibrate.run(inputExposure, idFactory=idFactory)\n",
        "  File \"/renoir_data_00/jpreyes/stacks/v9_2_copy/Linux64/pipe_base/9.2/python/lsst/pipe/base/timer.py\", line 118, in wrapper\n",
        "    res = func(self, *args, **keyArgs)\n",
        "  File \"/renoir_data_00/jpreyes/stacks/v9_2_copy/Linux64/pipe_tasks/9.2/python/lsst/pipe/tasks/calibrate.py\", line 480, in run\n",
        "    astromRet = self.astrometry.run(exposure, sources)\n",
        "  File \"/renoir_data_00/jpreyes/stacks/v9_2_copy/Linux64/pipe_base/9.2/python/lsst/pipe/base/timer.py\", line 118, in wrapper\n",
        "    res = func(self, *args, **keyArgs)\n",
        "  File \"/renoir_data_00/jpreyes/stacks/v9_2_copy/Linux64/pipe_tasks/9.2/python/lsst/pipe/tasks/astrometry.py\", line 203, in run\n",
        "    results = self.astrometry(exposure, sources, bbox=bbox)\n",
        "  File \"/renoir_data_00/jpreyes/stacks/v9_2_copy/Linux64/pipe_base/9.2/python/lsst/pipe/base/timer.py\", line 118, in wrapper\n",
        "    res = func(self, *args, **keyArgs)\n",
        "  File \"/renoir_data_00/jpreyes/stacks/v9_2_copy/Linux64/pipe_tasks/9.2/python/lsst/pipe/tasks/astrometry.py\", line 320, in astrometry\n",
        "    astrom = self.astrometer.determineWcs(sources, exposure, **kwargs)\n",
        "  File \"/renoir_data_00/jpreyes/stacks/v9_2_copy/Linux64/meas_astrom/9.2/python/lsst/meas/astrom/astrom.py\", line 405, in determineWcs\n",
        "    return self.determineWcs2(sources, **margs)\n",
        "  File \"/renoir_data_00/jpreyes/stacks/v9_2_copy/Linux64/meas_astrom/9.2/python/lsst/meas/astrom/astrom.py\", line 428, in determineWcs2\n",
        "    wcs,qa = self.getBlindWcsSolution(sources, **kwargs)\n",
        "  File \"/renoir_data_00/jpreyes/stacks/v9_2_copy/Linux64/meas_astrom/9.2/python/lsst/meas/astrom/astrom.py\", line 516, in getBlindWcsSolution\n",
        "    raise RuntimeError(\"Unable to match sources with catalog.\")\n",
        "RuntimeError: Unable to match sources with catalog.\n",
        "Traceback (most recent call last):\n"
       ]
      },
      {
       "output_type": "stream",
       "stream": "stdout",
       "text": [
        "\n",
        "This is the processCCD"
       ]
      },
      {
       "output_type": "stream",
       "stream": "stdout",
       "text": [
        "\n",
        "This is the processCCD"
       ]
      },
      {
       "output_type": "stream",
       "stream": "stdout",
       "text": [
        "\n",
        "This is the processCCD"
       ]
      },
      {
       "output_type": "stream",
       "stream": "stderr",
       "text": [
        "  File \"/renoir_data_00/jpreyes/stacks/v9_2_copy/Linux64/pipe_base/9.2/python/lsst/pipe/base/cmdLineTask.py\", line 322, in __call__\n",
        "    result = task.run(dataRef, **kwargs)\n",
        "  File \"/renoir_data_00/jpreyes/stacks/v9_2_copy/Linux64/pipe_base/9.2/python/lsst/pipe/base/timer.py\", line 118, in wrapper\n",
        "    res = func(self, *args, **keyArgs)\n",
        "  File \"/renoir_data_00/jpreyes/stacks/v9_2_copy/Linux64/pipe_tasks/9.2/python/lsst/pipe/tasks/processCcd.py\", line 84, in run\n",
        "    result = self.process(sensorRef, postIsrExposure)\n",
        "  File \"/renoir_data_00/jpreyes/stacks/v9_2_copy/Linux64/pipe_base/9.2/python/lsst/pipe/base/timer.py\", line 118, in wrapper\n",
        "    res = func(self, *args, **keyArgs)\n",
        "  File \"/renoir_data_00/jpreyes/stacks/v9_2_copy/Linux64/pipe_tasks/9.2/python/lsst/pipe/tasks/processImage.py\", line 154, in process\n",
        "    calib = self.calibrate.run(inputExposure, idFactory=idFactory)\n",
        "  File \"/renoir_data_00/jpreyes/stacks/v9_2_copy/Linux64/pipe_base/9.2/python/lsst/pipe/base/timer.py\", line 118, in wrapper\n",
        "    res = func(self, *args, **keyArgs)\n",
        "  File \"/renoir_data_00/jpreyes/stacks/v9_2_copy/Linux64/pipe_tasks/9.2/python/lsst/pipe/tasks/calibrate.py\", line 480, in run\n",
        "    astromRet = self.astrometry.run(exposure, sources)\n",
        "  File \"/renoir_data_00/jpreyes/stacks/v9_2_copy/Linux64/pipe_base/9.2/python/lsst/pipe/base/timer.py\", line 118, in wrapper\n",
        "    res = func(self, *args, **keyArgs)\n",
        "  File \"/renoir_data_00/jpreyes/stacks/v9_2_copy/Linux64/pipe_tasks/9.2/python/lsst/pipe/tasks/astrometry.py\", line 203, in run\n",
        "    results = self.astrometry(exposure, sources, bbox=bbox)\n",
        "  File \"/renoir_data_00/jpreyes/stacks/v9_2_copy/Linux64/pipe_base/9.2/python/lsst/pipe/base/timer.py\", line 118, in wrapper\n",
        "    res = func(self, *args, **keyArgs)\n",
        "  File \"/renoir_data_00/jpreyes/stacks/v9_2_copy/Linux64/pipe_tasks/9.2/python/lsst/pipe/tasks/astrometry.py\", line 320, in astrometry\n",
        "    astrom = self.astrometer.determineWcs(sources, exposure, **kwargs)\n",
        "  File \"/renoir_data_00/jpreyes/stacks/v9_2_copy/Linux64/meas_astrom/9.2/python/lsst/meas/astrom/astrom.py\", line 405, in determineWcs\n",
        "    return self.determineWcs2(sources, **margs)\n",
        "  File \"/renoir_data_00/jpreyes/stacks/v9_2_copy/Linux64/meas_astrom/9.2/python/lsst/meas/astrom/astrom.py\", line 428, in determineWcs2\n",
        "    wcs,qa = self.getBlindWcsSolution(sources, **kwargs)\n",
        "  File \"/renoir_data_00/jpreyes/stacks/v9_2_copy/Linux64/meas_astrom/9.2/python/lsst/meas/astrom/astrom.py\", line 516, in getBlindWcsSolution\n",
        "    raise RuntimeError(\"Unable to match sources with catalog.\")\n",
        "RuntimeError: Unable to match sources with catalog.\n",
        "Traceback (most recent call last):\n"
       ]
      },
      {
       "output_type": "stream",
       "stream": "stdout",
       "text": [
        "\n",
        "This is the processCCD"
       ]
      },
      {
       "output_type": "stream",
       "stream": "stdout",
       "text": [
        "\n",
        "This is the processCCD"
       ]
      },
      {
       "output_type": "stream",
       "stream": "stdout",
       "text": [
        "\n",
        "This is the processCCD"
       ]
      },
      {
       "output_type": "stream",
       "stream": "stdout",
       "text": [
        "\n",
        "This is the processCCD"
       ]
      },
      {
       "output_type": "stream",
       "stream": "stdout",
       "text": [
        "\n",
        "This is the processCCD"
       ]
      },
      {
       "output_type": "stream",
       "stream": "stdout",
       "text": [
        "\n",
        "This is the processCCD"
       ]
      },
      {
       "output_type": "stream",
       "stream": "stdout",
       "text": [
        "\n",
        "This is the processCCD"
       ]
      },
      {
       "output_type": "stream",
       "stream": "stdout",
       "text": [
        "\n",
        "This is the processCCD"
       ]
      },
      {
       "output_type": "stream",
       "stream": "stdout",
       "text": [
        "\n",
        "This is the processCCD"
       ]
      },
      {
       "output_type": "stream",
       "stream": "stdout",
       "text": [
        "\n",
        "This is the processCCD"
       ]
      },
      {
       "output_type": "stream",
       "stream": "stdout",
       "text": [
        "\n",
        "This is the processCCD"
       ]
      },
      {
       "output_type": "stream",
       "stream": "stdout",
       "text": [
        "\n",
        "This is the processCCD"
       ]
      },
      {
       "output_type": "stream",
       "stream": "stdout",
       "text": [
        "\n",
        "This is the processCCD"
       ]
      },
      {
       "output_type": "stream",
       "stream": "stdout",
       "text": [
        "\n",
        "This is the processCCD"
       ]
      },
      {
       "output_type": "stream",
       "stream": "stdout",
       "text": [
        "\n",
        "This is the processCCD"
       ]
      },
      {
       "output_type": "stream",
       "stream": "stdout",
       "text": [
        "\n",
        "This is the processCCD"
       ]
      },
      {
       "output_type": "stream",
       "stream": "stdout",
       "text": [
        "\n",
        "This is the processCCD"
       ]
      },
      {
       "output_type": "stream",
       "stream": "stdout",
       "text": [
        "\n",
        "This is the processCCD"
       ]
      },
      {
       "output_type": "stream",
       "stream": "stdout",
       "text": [
        "\n",
        "This is the processCCD"
       ]
      },
      {
       "output_type": "stream",
       "stream": "stdout",
       "text": [
        "\n",
        "This is the processCCD"
       ]
      },
      {
       "output_type": "stream",
       "stream": "stdout",
       "text": [
        "\n",
        "This is the processCCD"
       ]
      },
      {
       "output_type": "stream",
       "stream": "stdout",
       "text": [
        "\n",
        "This is the processCCD"
       ]
      },
      {
       "output_type": "stream",
       "stream": "stdout",
       "text": [
        "\n",
        "This is the processCCD"
       ]
      },
      {
       "output_type": "stream",
       "stream": "stdout",
       "text": [
        "\n",
        "This is the processCCD"
       ]
      },
      {
       "output_type": "stream",
       "stream": "stdout",
       "text": [
        "\n",
        "This is the processCCD"
       ]
      },
      {
       "output_type": "stream",
       "stream": "stdout",
       "text": [
        "\n",
        "This is the processCCD"
       ]
      },
      {
       "output_type": "stream",
       "stream": "stdout",
       "text": [
        "\n",
        "This is the processCCD"
       ]
      },
      {
       "output_type": "stream",
       "stream": "stdout",
       "text": [
        "\n",
        "This is the processCCD"
       ]
      },
      {
       "output_type": "stream",
       "stream": "stdout",
       "text": [
        "\n",
        "This is the processCCD"
       ]
      },
      {
       "output_type": "stream",
       "stream": "stdout",
       "text": [
        "\n",
        "This is the processCCD"
       ]
      },
      {
       "output_type": "stream",
       "stream": "stdout",
       "text": [
        "\n",
        "This is the processCCD"
       ]
      },
      {
       "output_type": "stream",
       "stream": "stdout",
       "text": [
        "\n",
        "This is the processCCD"
       ]
      },
      {
       "output_type": "stream",
       "stream": "stdout",
       "text": [
        "\n",
        "This is the processCCD"
       ]
      },
      {
       "output_type": "stream",
       "stream": "stdout",
       "text": [
        "\n",
        "This is the processCCD"
       ]
      },
      {
       "output_type": "stream",
       "stream": "stdout",
       "text": [
        "\n",
        "This is the processCCD"
       ]
      },
      {
       "output_type": "stream",
       "stream": "stdout",
       "text": [
        "\n",
        "This is the processCCD"
       ]
      },
      {
       "output_type": "stream",
       "stream": "stdout",
       "text": [
        "\n",
        "This is the processCCD"
       ]
      },
      {
       "output_type": "stream",
       "stream": "stdout",
       "text": [
        "\n",
        "This is the processCCD"
       ]
      },
      {
       "output_type": "stream",
       "stream": "stdout",
       "text": [
        "\n",
        "This is the processCCD"
       ]
      },
      {
       "output_type": "stream",
       "stream": "stdout",
       "text": [
        "\n",
        "This is the processCCD"
       ]
      },
      {
       "output_type": "stream",
       "stream": "stdout",
       "text": [
        "\n",
        "This is the processCCD"
       ]
      },
      {
       "output_type": "stream",
       "stream": "stdout",
       "text": [
        "\n",
        "This is the processCCD"
       ]
      },
      {
       "output_type": "stream",
       "stream": "stdout",
       "text": [
        "\n",
        "This is the processCCD"
       ]
      },
      {
       "output_type": "stream",
       "stream": "stdout",
       "text": [
        "\n",
        "This is the processCCD"
       ]
      },
      {
       "output_type": "stream",
       "stream": "stdout",
       "text": [
        "\n",
        "This is the processCCD"
       ]
      },
      {
       "output_type": "stream",
       "stream": "stdout",
       "text": [
        "\n",
        "This is the processCCD"
       ]
      },
      {
       "output_type": "stream",
       "stream": "stdout",
       "text": [
        "\n",
        "This is the processCCD"
       ]
      },
      {
       "output_type": "stream",
       "stream": "stdout",
       "text": [
        "\n",
        "This is the processCCD"
       ]
      },
      {
       "output_type": "stream",
       "stream": "stdout",
       "text": [
        "\n",
        "This is the processCCD"
       ]
      },
      {
       "output_type": "stream",
       "stream": "stdout",
       "text": [
        "\n",
        "This is the processCCD"
       ]
      },
      {
       "output_type": "stream",
       "stream": "stdout",
       "text": [
        "\n",
        "This is the processCCD"
       ]
      },
      {
       "output_type": "stream",
       "stream": "stdout",
       "text": [
        "\n",
        "This is the processCCD"
       ]
      },
      {
       "output_type": "stream",
       "stream": "stdout",
       "text": [
        "\n",
        "This is the processCCD"
       ]
      },
      {
       "output_type": "stream",
       "stream": "stdout",
       "text": [
        "\n",
        "This is the processCCD"
       ]
      },
      {
       "output_type": "stream",
       "stream": "stdout",
       "text": [
        "\n",
        "This is the processCCD"
       ]
      },
      {
       "output_type": "stream",
       "stream": "stdout",
       "text": [
        "\n",
        "This is the processCCD"
       ]
      },
      {
       "output_type": "stream",
       "stream": "stdout",
       "text": [
        "\n",
        "This is the processCCD"
       ]
      },
      {
       "output_type": "stream",
       "stream": "stdout",
       "text": [
        "\n",
        "This is the processCCD"
       ]
      },
      {
       "output_type": "stream",
       "stream": "stdout",
       "text": [
        "\n",
        "This is the processCCD"
       ]
      },
      {
       "output_type": "stream",
       "stream": "stdout",
       "text": [
        "\n",
        "This is the processCCD"
       ]
      },
      {
       "output_type": "stream",
       "stream": "stdout",
       "text": [
        "\n",
        "This is the processCCD"
       ]
      },
      {
       "output_type": "stream",
       "stream": "stdout",
       "text": [
        "\n",
        "This is the processCCD"
       ]
      },
      {
       "output_type": "stream",
       "stream": "stdout",
       "text": [
        "\n",
        "This is the processCCD"
       ]
      },
      {
       "output_type": "stream",
       "stream": "stdout",
       "text": [
        "\n",
        "This is the processCCD"
       ]
      },
      {
       "output_type": "stream",
       "stream": "stdout",
       "text": [
        "\n",
        "This is the processCCD"
       ]
      },
      {
       "output_type": "stream",
       "stream": "stdout",
       "text": [
        "\n",
        "This is the processCCD"
       ]
      },
      {
       "output_type": "stream",
       "stream": "stdout",
       "text": [
        "\n",
        "This is the processCCD"
       ]
      },
      {
       "output_type": "stream",
       "stream": "stdout",
       "text": [
        "\n",
        "This is the processCCD"
       ]
      },
      {
       "output_type": "stream",
       "stream": "stdout",
       "text": [
        "\n",
        "This is the processCCD"
       ]
      },
      {
       "output_type": "stream",
       "stream": "stdout",
       "text": [
        "\n",
        "This is the processCCD"
       ]
      },
      {
       "output_type": "stream",
       "stream": "stdout",
       "text": [
        "\n",
        "This is the processCCD"
       ]
      },
      {
       "output_type": "stream",
       "stream": "stdout",
       "text": [
        "\n",
        "This is the processCCD"
       ]
      },
      {
       "output_type": "stream",
       "stream": "stdout",
       "text": [
        "\n",
        "This is the processCCD"
       ]
      },
      {
       "output_type": "stream",
       "stream": "stdout",
       "text": [
        "\n",
        "This is the processCCD"
       ]
      },
      {
       "output_type": "stream",
       "stream": "stdout",
       "text": [
        "\n",
        "This is the processCCD"
       ]
      },
      {
       "output_type": "stream",
       "stream": "stdout",
       "text": [
        "\n",
        "This is the processCCD"
       ]
      },
      {
       "output_type": "stream",
       "stream": "stdout",
       "text": [
        "\n",
        "This is the processCCD"
       ]
      },
      {
       "output_type": "stream",
       "stream": "stdout",
       "text": [
        "\n",
        "This is the processCCD"
       ]
      },
      {
       "output_type": "stream",
       "stream": "stdout",
       "text": [
        "\n",
        "This is the processCCD"
       ]
      },
      {
       "output_type": "stream",
       "stream": "stdout",
       "text": [
        "\n",
        "This is the processCCD"
       ]
      },
      {
       "output_type": "stream",
       "stream": "stdout",
       "text": [
        "\n",
        "This is the processCCD"
       ]
      },
      {
       "output_type": "stream",
       "stream": "stdout",
       "text": [
        "\n",
        "This is the processCCD"
       ]
      },
      {
       "output_type": "stream",
       "stream": "stdout",
       "text": [
        "\n",
        "This is the processCCD"
       ]
      },
      {
       "output_type": "stream",
       "stream": "stdout",
       "text": [
        "\n",
        "This is the processCCD"
       ]
      },
      {
       "output_type": "stream",
       "stream": "stdout",
       "text": [
        "\n",
        "This is the processCCD"
       ]
      },
      {
       "output_type": "stream",
       "stream": "stdout",
       "text": [
        "\n",
        "This is the processCCD"
       ]
      },
      {
       "output_type": "stream",
       "stream": "stdout",
       "text": [
        "\n",
        "This is the processCCD"
       ]
      },
      {
       "output_type": "stream",
       "stream": "stdout",
       "text": [
        "\n",
        "This is the processCCD"
       ]
      },
      {
       "output_type": "stream",
       "stream": "stdout",
       "text": [
        "\n",
        "This is the processCCD"
       ]
      },
      {
       "output_type": "stream",
       "stream": "stdout",
       "text": [
        "\n",
        "This is the processCCD"
       ]
      },
      {
       "output_type": "stream",
       "stream": "stdout",
       "text": [
        "\n",
        "This is the processCCD"
       ]
      },
      {
       "output_type": "stream",
       "stream": "stdout",
       "text": [
        "\n",
        "This is the processCCD"
       ]
      },
      {
       "output_type": "stream",
       "stream": "stdout",
       "text": [
        "\n",
        "This is the processCCD"
       ]
      },
      {
       "output_type": "stream",
       "stream": "stdout",
       "text": [
        "\n",
        "This is the processCCD"
       ]
      },
      {
       "output_type": "stream",
       "stream": "stdout",
       "text": [
        "\n",
        "This is the processCCD"
       ]
      },
      {
       "output_type": "stream",
       "stream": "stdout",
       "text": [
        "\n",
        "This is the processCCD"
       ]
      },
      {
       "output_type": "stream",
       "stream": "stdout",
       "text": [
        "\n",
        "This is the processCCD"
       ]
      },
      {
       "output_type": "stream",
       "stream": "stdout",
       "text": [
        "\n",
        "This is the processCCD"
       ]
      },
      {
       "output_type": "stream",
       "stream": "stdout",
       "text": [
        "\n",
        "This is the processCCD"
       ]
      },
      {
       "output_type": "stream",
       "stream": "stdout",
       "text": [
        "\n",
        "This is the processCCD"
       ]
      },
      {
       "output_type": "stream",
       "stream": "stdout",
       "text": [
        "\n",
        "This is the processCCD"
       ]
      },
      {
       "output_type": "stream",
       "stream": "stdout",
       "text": [
        "\n",
        "This is the processCCD"
       ]
      },
      {
       "output_type": "stream",
       "stream": "stdout",
       "text": [
        "\n",
        "This is the processCCD"
       ]
      },
      {
       "output_type": "stream",
       "stream": "stdout",
       "text": [
        "\n",
        "This is the processCCD"
       ]
      },
      {
       "output_type": "stream",
       "stream": "stdout",
       "text": [
        "\n",
        "This is the processCCD"
       ]
      },
      {
       "output_type": "stream",
       "stream": "stdout",
       "text": [
        "\n",
        "This is the processCCD"
       ]
      },
      {
       "output_type": "stream",
       "stream": "stdout",
       "text": [
        "\n",
        "This is the processCCD"
       ]
      },
      {
       "output_type": "stream",
       "stream": "stdout",
       "text": [
        "\n",
        "This is the processCCD"
       ]
      },
      {
       "output_type": "stream",
       "stream": "stdout",
       "text": [
        "\n",
        "This is the processCCD"
       ]
      },
      {
       "output_type": "stream",
       "stream": "stdout",
       "text": [
        "\n",
        "This is the processCCD"
       ]
      },
      {
       "output_type": "stream",
       "stream": "stdout",
       "text": [
        "\n",
        "This is the processCCD"
       ]
      },
      {
       "output_type": "stream",
       "stream": "stdout",
       "text": [
        "\n",
        "This is the processCCD"
       ]
      },
      {
       "output_type": "stream",
       "stream": "stdout",
       "text": [
        "\n",
        "This is the processCCD"
       ]
      },
      {
       "output_type": "stream",
       "stream": "stdout",
       "text": [
        "\n",
        "This is the processCCD"
       ]
      },
      {
       "output_type": "stream",
       "stream": "stdout",
       "text": [
        "\n",
        "This is the processCCD"
       ]
      },
      {
       "output_type": "stream",
       "stream": "stdout",
       "text": [
        "\n",
        "This is the processCCD"
       ]
      },
      {
       "output_type": "stream",
       "stream": "stdout",
       "text": [
        "\n",
        "This is the processCCD"
       ]
      },
      {
       "output_type": "stream",
       "stream": "stdout",
       "text": [
        "\n",
        "This is the processCCD"
       ]
      },
      {
       "output_type": "stream",
       "stream": "stdout",
       "text": [
        "\n",
        "This is the processCCD"
       ]
      },
      {
       "output_type": "stream",
       "stream": "stdout",
       "text": [
        "\n",
        "This is the processCCD"
       ]
      },
      {
       "output_type": "stream",
       "stream": "stdout",
       "text": [
        "\n",
        "This is the processCCD"
       ]
      },
      {
       "output_type": "stream",
       "stream": "stdout",
       "text": [
        "\n",
        "This is the processCCD"
       ]
      },
      {
       "output_type": "stream",
       "stream": "stdout",
       "text": [
        "\n",
        "This is the processCCD"
       ]
      },
      {
       "output_type": "stream",
       "stream": "stdout",
       "text": [
        "\n",
        "This is the processCCD"
       ]
      },
      {
       "output_type": "stream",
       "stream": "stdout",
       "text": [
        "\n",
        "This is the processCCD"
       ]
      },
      {
       "output_type": "stream",
       "stream": "stdout",
       "text": [
        "\n",
        "This is the processCCD"
       ]
      },
      {
       "output_type": "stream",
       "stream": "stdout",
       "text": [
        "\n",
        "This is the processCCD"
       ]
      },
      {
       "output_type": "stream",
       "stream": "stdout",
       "text": [
        "\n",
        "This is the processCCD"
       ]
      },
      {
       "output_type": "stream",
       "stream": "stdout",
       "text": [
        "\n",
        "This is the processCCD"
       ]
      },
      {
       "output_type": "stream",
       "stream": "stdout",
       "text": [
        "\n",
        "This is the processCCD"
       ]
      },
      {
       "output_type": "stream",
       "stream": "stdout",
       "text": [
        "\n",
        "This is the processCCD"
       ]
      },
      {
       "output_type": "stream",
       "stream": "stdout",
       "text": [
        "\n",
        "This is the processCCD"
       ]
      },
      {
       "output_type": "stream",
       "stream": "stdout",
       "text": [
        "\n",
        "This is the processCCD"
       ]
      },
      {
       "output_type": "stream",
       "stream": "stdout",
       "text": [
        "\n",
        "This is the processCCD"
       ]
      },
      {
       "output_type": "stream",
       "stream": "stdout",
       "text": [
        "\n",
        "This is the processCCD"
       ]
      },
      {
       "output_type": "stream",
       "stream": "stdout",
       "text": [
        "\n",
        "This is the processCCD"
       ]
      },
      {
       "output_type": "stream",
       "stream": "stdout",
       "text": [
        "\n",
        "This is the processCCD"
       ]
      },
      {
       "output_type": "stream",
       "stream": "stdout",
       "text": [
        "\n",
        "This is the processCCD"
       ]
      },
      {
       "output_type": "stream",
       "stream": "stdout",
       "text": [
        "\n",
        "This is the processCCD"
       ]
      },
      {
       "output_type": "stream",
       "stream": "stdout",
       "text": [
        "\n",
        "This is the processCCD"
       ]
      },
      {
       "output_type": "stream",
       "stream": "stdout",
       "text": [
        "\n",
        "This is the processCCD"
       ]
      },
      {
       "output_type": "stream",
       "stream": "stdout",
       "text": [
        "\n",
        "This is the processCCD"
       ]
      },
      {
       "output_type": "stream",
       "stream": "stdout",
       "text": [
        "\n",
        "This is the processCCD"
       ]
      },
      {
       "output_type": "stream",
       "stream": "stdout",
       "text": [
        "\n",
        "This is the processCCD"
       ]
      },
      {
       "output_type": "stream",
       "stream": "stdout",
       "text": [
        "\n",
        "This is the processCCD"
       ]
      },
      {
       "output_type": "stream",
       "stream": "stdout",
       "text": [
        "\n",
        "This is the processCCD"
       ]
      },
      {
       "output_type": "stream",
       "stream": "stdout",
       "text": [
        "\n",
        "This is the processCCD"
       ]
      },
      {
       "output_type": "stream",
       "stream": "stdout",
       "text": [
        "\n",
        "This is the processCCD"
       ]
      },
      {
       "output_type": "stream",
       "stream": "stdout",
       "text": [
        "\n",
        "This is the processCCD"
       ]
      },
      {
       "output_type": "stream",
       "stream": "stdout",
       "text": [
        "\n",
        "This is the processCCD"
       ]
      },
      {
       "output_type": "stream",
       "stream": "stdout",
       "text": [
        "\n",
        "This is the processCCD"
       ]
      },
      {
       "output_type": "stream",
       "stream": "stdout",
       "text": [
        "\n",
        "This is the processCCD"
       ]
      },
      {
       "output_type": "stream",
       "stream": "stdout",
       "text": [
        "\n",
        "This is the processCCD"
       ]
      },
      {
       "output_type": "stream",
       "stream": "stdout",
       "text": [
        "\n",
        "This is the processCCD"
       ]
      },
      {
       "output_type": "stream",
       "stream": "stdout",
       "text": [
        "\n",
        "This is the processCCD"
       ]
      },
      {
       "output_type": "stream",
       "stream": "stdout",
       "text": [
        "\n",
        "This is the processCCD"
       ]
      },
      {
       "output_type": "stream",
       "stream": "stdout",
       "text": [
        "\n",
        "This is the processCCD"
       ]
      },
      {
       "output_type": "stream",
       "stream": "stdout",
       "text": [
        "\n",
        "This is the processCCD"
       ]
      },
      {
       "output_type": "stream",
       "stream": "stdout",
       "text": [
        "\n",
        "This is the processCCD"
       ]
      },
      {
       "output_type": "stream",
       "stream": "stdout",
       "text": [
        "\n",
        "This is the processCCD"
       ]
      },
      {
       "output_type": "stream",
       "stream": "stdout",
       "text": [
        "\n",
        "This is the processCCD"
       ]
      },
      {
       "output_type": "stream",
       "stream": "stdout",
       "text": [
        "\n",
        "This is the processCCD"
       ]
      },
      {
       "output_type": "stream",
       "stream": "stdout",
       "text": [
        "\n",
        "This is the processCCD"
       ]
      },
      {
       "output_type": "stream",
       "stream": "stdout",
       "text": [
        "\n",
        "This is the processCCD"
       ]
      },
      {
       "output_type": "stream",
       "stream": "stdout",
       "text": [
        "\n",
        "This is the processCCD"
       ]
      },
      {
       "output_type": "stream",
       "stream": "stdout",
       "text": [
        "\n",
        "This is the processCCD"
       ]
      },
      {
       "output_type": "stream",
       "stream": "stdout",
       "text": [
        "\n",
        "This is the processCCD"
       ]
      },
      {
       "output_type": "stream",
       "stream": "stdout",
       "text": [
        "\n",
        "This is the processCCD"
       ]
      },
      {
       "output_type": "stream",
       "stream": "stdout",
       "text": [
        "\n",
        "This is the processCCD"
       ]
      },
      {
       "output_type": "stream",
       "stream": "stdout",
       "text": [
        "\n",
        "This is the processCCD"
       ]
      },
      {
       "output_type": "stream",
       "stream": "stdout",
       "text": [
        "\n",
        "This is the processCCD"
       ]
      },
      {
       "output_type": "stream",
       "stream": "stdout",
       "text": [
        "\n",
        "This is the processCCD"
       ]
      },
      {
       "output_type": "stream",
       "stream": "stdout",
       "text": [
        "\n",
        "This is the processCCD"
       ]
      },
      {
       "output_type": "stream",
       "stream": "stdout",
       "text": [
        "\n",
        "This is the processCCD"
       ]
      },
      {
       "output_type": "stream",
       "stream": "stdout",
       "text": [
        "\n",
        "This is the processCCD"
       ]
      },
      {
       "output_type": "stream",
       "stream": "stdout",
       "text": [
        "\n",
        "This is the processCCD"
       ]
      },
      {
       "output_type": "stream",
       "stream": "stdout",
       "text": [
        "\n",
        "This is the processCCD"
       ]
      },
      {
       "output_type": "stream",
       "stream": "stdout",
       "text": [
        "\n",
        "This is the processCCD"
       ]
      },
      {
       "output_type": "stream",
       "stream": "stdout",
       "text": [
        "\n",
        "This is the processCCD"
       ]
      },
      {
       "output_type": "stream",
       "stream": "stdout",
       "text": [
        "\n",
        "This is the processCCD"
       ]
      },
      {
       "output_type": "stream",
       "stream": "stdout",
       "text": [
        "\n",
        "This is the processCCD"
       ]
      },
      {
       "output_type": "stream",
       "stream": "stdout",
       "text": [
        "\n",
        "This is the processCCD"
       ]
      },
      {
       "output_type": "stream",
       "stream": "stdout",
       "text": [
        "\n",
        "This is the processCCD"
       ]
      },
      {
       "output_type": "stream",
       "stream": "stdout",
       "text": [
        "\n",
        "This is the processCCD"
       ]
      },
      {
       "output_type": "stream",
       "stream": "stdout",
       "text": [
        "\n",
        "This is the processCCD"
       ]
      },
      {
       "output_type": "stream",
       "stream": "stdout",
       "text": [
        "\n",
        "This is the processCCD"
       ]
      },
      {
       "output_type": "stream",
       "stream": "stdout",
       "text": [
        "\n",
        "This is the processCCD"
       ]
      },
      {
       "output_type": "stream",
       "stream": "stdout",
       "text": [
        "\n",
        "This is the processCCD"
       ]
      },
      {
       "output_type": "stream",
       "stream": "stdout",
       "text": [
        "\n",
        "This is the processCCD"
       ]
      },
      {
       "output_type": "stream",
       "stream": "stdout",
       "text": [
        "\n",
        "This is the processCCD"
       ]
      },
      {
       "output_type": "stream",
       "stream": "stdout",
       "text": [
        "\n",
        "This is the processCCD"
       ]
      },
      {
       "output_type": "stream",
       "stream": "stdout",
       "text": [
        "\n",
        "This is the processCCD"
       ]
      },
      {
       "output_type": "stream",
       "stream": "stdout",
       "text": [
        "\n",
        "This is the processCCD"
       ]
      },
      {
       "output_type": "stream",
       "stream": "stdout",
       "text": [
        "\n",
        "This is the processCCD"
       ]
      },
      {
       "output_type": "stream",
       "stream": "stdout",
       "text": [
        "\n",
        "This is the processCCD"
       ]
      },
      {
       "output_type": "stream",
       "stream": "stdout",
       "text": [
        "\n",
        "This is the processCCD"
       ]
      },
      {
       "output_type": "stream",
       "stream": "stderr",
       "text": [
        "  File \"/renoir_data_00/jpreyes/stacks/v9_2_copy/Linux64/pipe_base/9.2/python/lsst/pipe/base/cmdLineTask.py\", line 322, in __call__\n",
        "    result = task.run(dataRef, **kwargs)\n",
        "  File \"/renoir_data_00/jpreyes/stacks/v9_2_copy/Linux64/pipe_base/9.2/python/lsst/pipe/base/timer.py\", line 118, in wrapper\n",
        "    res = func(self, *args, **keyArgs)\n",
        "  File \"/renoir_data_00/jpreyes/stacks/v9_2_copy/Linux64/pipe_tasks/9.2/python/lsst/pipe/tasks/processCcd.py\", line 84, in run\n",
        "    result = self.process(sensorRef, postIsrExposure)\n",
        "  File \"/renoir_data_00/jpreyes/stacks/v9_2_copy/Linux64/pipe_base/9.2/python/lsst/pipe/base/timer.py\", line 118, in wrapper\n",
        "    res = func(self, *args, **keyArgs)\n",
        "  File \"/renoir_data_00/jpreyes/stacks/v9_2_copy/Linux64/pipe_tasks/9.2/python/lsst/pipe/tasks/processImage.py\", line 154, in process\n",
        "    calib = self.calibrate.run(inputExposure, idFactory=idFactory)\n",
        "  File \"/renoir_data_00/jpreyes/stacks/v9_2_copy/Linux64/pipe_base/9.2/python/lsst/pipe/base/timer.py\", line 118, in wrapper\n",
        "    res = func(self, *args, **keyArgs)\n",
        "  File \"/renoir_data_00/jpreyes/stacks/v9_2_copy/Linux64/pipe_tasks/9.2/python/lsst/pipe/tasks/calibrate.py\", line 480, in run\n",
        "    astromRet = self.astrometry.run(exposure, sources)\n",
        "  File \"/renoir_data_00/jpreyes/stacks/v9_2_copy/Linux64/pipe_base/9.2/python/lsst/pipe/base/timer.py\", line 118, in wrapper\n",
        "    res = func(self, *args, **keyArgs)\n",
        "  File \"/renoir_data_00/jpreyes/stacks/v9_2_copy/Linux64/pipe_tasks/9.2/python/lsst/pipe/tasks/astrometry.py\", line 203, in run\n",
        "    results = self.astrometry(exposure, sources, bbox=bbox)\n",
        "  File \"/renoir_data_00/jpreyes/stacks/v9_2_copy/Linux64/pipe_base/9.2/python/lsst/pipe/base/timer.py\", line 118, in wrapper\n",
        "    res = func(self, *args, **keyArgs)\n",
        "  File \"/renoir_data_00/jpreyes/stacks/v9_2_copy/Linux64/pipe_tasks/9.2/python/lsst/pipe/tasks/astrometry.py\", line 320, in astrometry\n",
        "    astrom = self.astrometer.determineWcs(sources, exposure, **kwargs)\n",
        "  File \"/renoir_data_00/jpreyes/stacks/v9_2_copy/Linux64/meas_astrom/9.2/python/lsst/meas/astrom/astrom.py\", line 405, in determineWcs\n",
        "    return self.determineWcs2(sources, **margs)\n",
        "  File \"/renoir_data_00/jpreyes/stacks/v9_2_copy/Linux64/meas_astrom/9.2/python/lsst/meas/astrom/astrom.py\", line 428, in determineWcs2\n",
        "    wcs,qa = self.getBlindWcsSolution(sources, **kwargs)\n",
        "  File \"/renoir_data_00/jpreyes/stacks/v9_2_copy/Linux64/meas_astrom/9.2/python/lsst/meas/astrom/astrom.py\", line 516, in getBlindWcsSolution\n",
        "    raise RuntimeError(\"Unable to match sources with catalog.\")\n",
        "RuntimeError: Unable to match sources with catalog.\n",
        "Traceback (most recent call last):\n"
       ]
      },
      {
       "output_type": "stream",
       "stream": "stdout",
       "text": [
        "\n",
        "This is the processCCD"
       ]
      },
      {
       "output_type": "stream",
       "stream": "stdout",
       "text": [
        "\n",
        "This is the processCCD"
       ]
      },
      {
       "output_type": "stream",
       "stream": "stdout",
       "text": [
        "\n",
        "This is the processCCD"
       ]
      },
      {
       "output_type": "stream",
       "stream": "stdout",
       "text": [
        "\n",
        "This is the processCCD"
       ]
      },
      {
       "output_type": "stream",
       "stream": "stdout",
       "text": [
        "\n",
        "This is the processCCD"
       ]
      },
      {
       "output_type": "stream",
       "stream": "stdout",
       "text": [
        "\n",
        "This is the processCCD"
       ]
      },
      {
       "output_type": "stream",
       "stream": "stdout",
       "text": [
        "\n",
        "This is the processCCD"
       ]
      },
      {
       "output_type": "stream",
       "stream": "stdout",
       "text": [
        "\n",
        "This is the processCCD"
       ]
      },
      {
       "output_type": "stream",
       "stream": "stdout",
       "text": [
        "\n",
        "This is the processCCD"
       ]
      },
      {
       "output_type": "stream",
       "stream": "stdout",
       "text": [
        "\n",
        "This is the processCCD"
       ]
      },
      {
       "output_type": "stream",
       "stream": "stdout",
       "text": [
        "\n",
        "This is the processCCD"
       ]
      },
      {
       "output_type": "stream",
       "stream": "stdout",
       "text": [
        "\n",
        "This is the processCCD"
       ]
      },
      {
       "output_type": "stream",
       "stream": "stdout",
       "text": [
        "\n",
        "This is the processCCD"
       ]
      },
      {
       "output_type": "stream",
       "stream": "stdout",
       "text": [
        "\n",
        "This is the processCCD"
       ]
      },
      {
       "output_type": "stream",
       "stream": "stdout",
       "text": [
        "\n",
        "This is the processCCD"
       ]
      },
      {
       "output_type": "stream",
       "stream": "stdout",
       "text": [
        "\n",
        "This is the processCCD"
       ]
      },
      {
       "output_type": "stream",
       "stream": "stdout",
       "text": [
        "\n",
        "This is the processCCD"
       ]
      },
      {
       "output_type": "stream",
       "stream": "stdout",
       "text": [
        "\n",
        "This is the processCCD"
       ]
      },
      {
       "output_type": "stream",
       "stream": "stdout",
       "text": [
        "\n",
        "This is the processCCD"
       ]
      },
      {
       "output_type": "stream",
       "stream": "stdout",
       "text": [
        "\n",
        "This is the processCCD"
       ]
      },
      {
       "output_type": "stream",
       "stream": "stdout",
       "text": [
        "\n",
        "This is the processCCD"
       ]
      },
      {
       "output_type": "stream",
       "stream": "stdout",
       "text": [
        "\n",
        "This is the processCCD"
       ]
      },
      {
       "output_type": "stream",
       "stream": "stdout",
       "text": [
        "\n",
        "This is the processCCD"
       ]
      },
      {
       "output_type": "stream",
       "stream": "stdout",
       "text": [
        "\n",
        "This is the processCCD"
       ]
      },
      {
       "output_type": "stream",
       "stream": "stdout",
       "text": [
        "\n",
        "This is the processCCD"
       ]
      },
      {
       "output_type": "stream",
       "stream": "stdout",
       "text": [
        "\n",
        "This is the processCCD"
       ]
      },
      {
       "output_type": "stream",
       "stream": "stdout",
       "text": [
        "\n",
        "This is the processCCD"
       ]
      },
      {
       "output_type": "stream",
       "stream": "stdout",
       "text": [
        "\n",
        "This is the processCCD"
       ]
      },
      {
       "output_type": "stream",
       "stream": "stdout",
       "text": [
        "\n",
        "This is the processCCD"
       ]
      },
      {
       "output_type": "stream",
       "stream": "stdout",
       "text": [
        "\n",
        "This is the processCCD"
       ]
      },
      {
       "output_type": "stream",
       "stream": "stdout",
       "text": [
        "\n",
        "This is the processCCD"
       ]
      },
      {
       "output_type": "stream",
       "stream": "stdout",
       "text": [
        "\n",
        "This is the processCCD"
       ]
      },
      {
       "output_type": "stream",
       "stream": "stdout",
       "text": [
        "\n",
        "This is the processCCD"
       ]
      },
      {
       "output_type": "stream",
       "stream": "stdout",
       "text": [
        "\n",
        "This is the processCCD"
       ]
      },
      {
       "output_type": "stream",
       "stream": "stdout",
       "text": [
        "\n",
        "This is the processCCD"
       ]
      },
      {
       "output_type": "stream",
       "stream": "stdout",
       "text": [
        "\n",
        "This is the processCCD"
       ]
      },
      {
       "output_type": "stream",
       "stream": "stdout",
       "text": [
        "\n",
        "This is the processCCD"
       ]
      },
      {
       "output_type": "stream",
       "stream": "stdout",
       "text": [
        "\n",
        "This is the processCCD"
       ]
      },
      {
       "output_type": "stream",
       "stream": "stdout",
       "text": [
        "\n",
        "This is the processCCD"
       ]
      },
      {
       "output_type": "stream",
       "stream": "stdout",
       "text": [
        "\n",
        "This is the processCCD"
       ]
      },
      {
       "output_type": "stream",
       "stream": "stdout",
       "text": [
        "\n",
        "This is the processCCD"
       ]
      },
      {
       "output_type": "stream",
       "stream": "stdout",
       "text": [
        "\n",
        "This is the processCCD"
       ]
      },
      {
       "output_type": "stream",
       "stream": "stdout",
       "text": [
        "\n",
        "This is the processCCD"
       ]
      },
      {
       "output_type": "stream",
       "stream": "stdout",
       "text": [
        "\n",
        "This is the processCCD"
       ]
      },
      {
       "output_type": "stream",
       "stream": "stdout",
       "text": [
        "\n",
        "This is the processCCD"
       ]
      },
      {
       "output_type": "stream",
       "stream": "stdout",
       "text": [
        "\n"
       ]
      },
      {
       "output_type": "stream",
       "stream": "stderr",
       "text": [
        "  File \"/renoir_data_00/jpreyes/stacks/v9_2_copy/Linux64/pipe_base/9.2/python/lsst/pipe/base/cmdLineTask.py\", line 322, in __call__\n",
        "    result = task.run(dataRef, **kwargs)\n",
        "  File \"/renoir_data_00/jpreyes/stacks/v9_2_copy/Linux64/pipe_base/9.2/python/lsst/pipe/base/timer.py\", line 118, in wrapper\n",
        "    res = func(self, *args, **keyArgs)\n",
        "  File \"/renoir_data_00/jpreyes/stacks/v9_2_copy/Linux64/pipe_tasks/9.2/python/lsst/pipe/tasks/processCcd.py\", line 84, in run\n",
        "    result = self.process(sensorRef, postIsrExposure)\n",
        "  File \"/renoir_data_00/jpreyes/stacks/v9_2_copy/Linux64/pipe_base/9.2/python/lsst/pipe/base/timer.py\", line 118, in wrapper\n",
        "    res = func(self, *args, **keyArgs)\n",
        "  File \"/renoir_data_00/jpreyes/stacks/v9_2_copy/Linux64/pipe_tasks/9.2/python/lsst/pipe/tasks/processImage.py\", line 154, in process\n",
        "    calib = self.calibrate.run(inputExposure, idFactory=idFactory)\n",
        "  File \"/renoir_data_00/jpreyes/stacks/v9_2_copy/Linux64/pipe_base/9.2/python/lsst/pipe/base/timer.py\", line 118, in wrapper\n",
        "    res = func(self, *args, **keyArgs)\n",
        "  File \"/renoir_data_00/jpreyes/stacks/v9_2_copy/Linux64/pipe_tasks/9.2/python/lsst/pipe/tasks/calibrate.py\", line 480, in run\n",
        "    astromRet = self.astrometry.run(exposure, sources)\n",
        "  File \"/renoir_data_00/jpreyes/stacks/v9_2_copy/Linux64/pipe_base/9.2/python/lsst/pipe/base/timer.py\", line 118, in wrapper\n",
        "    res = func(self, *args, **keyArgs)\n",
        "  File \"/renoir_data_00/jpreyes/stacks/v9_2_copy/Linux64/pipe_tasks/9.2/python/lsst/pipe/tasks/astrometry.py\", line 203, in run\n",
        "    results = self.astrometry(exposure, sources, bbox=bbox)\n",
        "  File \"/renoir_data_00/jpreyes/stacks/v9_2_copy/Linux64/pipe_base/9.2/python/lsst/pipe/base/timer.py\", line 118, in wrapper\n",
        "    res = func(self, *args, **keyArgs)\n",
        "  File \"/renoir_data_00/jpreyes/stacks/v9_2_copy/Linux64/pipe_tasks/9.2/python/lsst/pipe/tasks/astrometry.py\", line 320, in astrometry\n",
        "    astrom = self.astrometer.determineWcs(sources, exposure, **kwargs)\n",
        "  File \"/renoir_data_00/jpreyes/stacks/v9_2_copy/Linux64/meas_astrom/9.2/python/lsst/meas/astrom/astrom.py\", line 405, in determineWcs\n",
        "    return self.determineWcs2(sources, **margs)\n",
        "  File \"/renoir_data_00/jpreyes/stacks/v9_2_copy/Linux64/meas_astrom/9.2/python/lsst/meas/astrom/astrom.py\", line 428, in determineWcs2\n",
        "    wcs,qa = self.getBlindWcsSolution(sources, **kwargs)\n",
        "  File \"/renoir_data_00/jpreyes/stacks/v9_2_copy/Linux64/meas_astrom/9.2/python/lsst/meas/astrom/astrom.py\", line 516, in getBlindWcsSolution\n",
        "    raise RuntimeError(\"Unable to match sources with catalog.\")\n",
        "RuntimeError: Unable to match sources with catalog.\n"
       ]
      },
      {
       "metadata": {},
       "output_type": "pyout",
       "prompt_number": 6,
       "text": [
        "Struct(taskRunner=<lsst.pipe.base.cmdLineTask.TaskRunner object at 0x57ad850>; parsedCmd=Namespace(butler=<lsst.daf.persistence.butler.Butler object at 0x57171d0>, calib=None, camera='megacam', clobberConfig=False, clobberOutput=False, config=lsst.pipe.tasks.processCcd.ProcessCcdConfig(doIsr=True, doWriteHeavyFootprintsInSources=False, doWriteSources=True, isr={'assembleCcd': {'doTrim': True, 'keysToRemove': [], 'setGain': False, 'doRenorm': False}, 'fringe': {'stats': {'badMaskPlanes': ['SAT'], 'stat': 32, 'clip': 3.0, 'iterations': 3}, 'filters': ['i', 'i2', 'z'], 'clip': 3.0, 'large': 50, 'num': 30000, 'iterations': 20, 'small': 1, 'pedestal': True}, 'doAssembleDetrends': True, 'overscanOrder': 1, 'doWrite': False, 'saturatedMaskName': 'SAT', 'fringeAfterFlat': True, 'doDark': False, 'setGainAssembledCcd': True, 'flatScalingType': 'USER', 'doFlat': False, 'doFringe': False, 'overscanRej': 3.0, 'keysToRemoveFromAssembledCcd': [], 'fluxMag0T1': 10000000000.0, 'growSaturationFootprintSize': 1, 'fwhm': 1.0, 'overscanFitType': 'MEDIAN', 'doBias': False, 'flatUserScale': 1.0}, doDetection=True, doWriteSourceMatches=False, detection={'reEstimateBackground': True, 'nSigmaToGrow': 2.4, 'minPixels': 1, 'includeThresholdMultiplier': 1.0, 'isotropicGrow': False, 'adjustBackground': 0.0, 'thresholdType': 'stdev', 'background': {'ignoredPixelMask': ['EDGE', 'DETECTED', 'DETECTED_NEGATIVE'], 'undersampleStyle': 'REDUCE_INTERP_ORDER', 'algorithm': 'NATURAL_SPLINE', 'binSize': 256, 'isNanSafe': False, 'statisticsProperty': 'MEANCLIP'}, 'returnOriginalFootprints': True, 'thresholdPolarity': 'positive', 'thresholdValue': 5.0}, doWriteCalibrateMatches=True, doDeblend=False, calibrate={'initialPsf': {'fwhm': 1.0, 'model': 'SingleGaussian', 'pixelScale': 0.25, 'size': 15}, 'repair': {'doInterpolate': True, 'doCosmicRay': True, 'cosmicray': {'keepCRs': False, 'cond3_fac2': 0.6, 'cond3_fac': 2.5, 'nCrPixelMax': 100000, 'niteration': 3, 'minSigma': 6.0, 'min_DN': 150.0}}, 'doPsf': True, 'astrometry': {'rejectIter': 3, 'forceKnownWcs': False, 'rejectThresh': 3.0, 'solver': {'cleaningParameter': 3.0, 'pixelScaleUncertainty': 1.1, 'catalogMatchDist': 1.0, 'useWcsParity': True, 'sipOrder': 4, 'useWcsRaDecCenter': True, 'matchThreshold': 27.631021115928547, 'useWcsPixelScale': True, 'maxStars': 50, 'allFluxes': True, 'calculateSip': True, 'maxCpuTime': 0.0, 'filterMap': {}, 'raDecSearchRadius': 1.0}}, 'doBackground': True, 'detection': {'reEstimateBackground': True, 'nSigmaToGrow': 2.4, 'minPixels': 1, 'includeThresholdMultiplier': 10.0, 'isotropicGrow': False, 'adjustBackground': 0.0, 'thresholdType': 'stdev', 'background': {'ignoredPixelMask': ['EDGE', 'DETECTED', 'DETECTED_NEGATIVE'], 'undersampleStyle': 'REDUCE_INTERP_ORDER', 'algorithm': 'NATURAL_SPLINE', 'binSize': 256, 'isNanSafe': False, 'statisticsProperty': 'MEANCLIP'}, 'returnOriginalFootprints': True, 'thresholdPolarity': 'positive', 'thresholdValue': 5.0}, 'doPhotoCal': True, 'initialMeasurement': {'doReplaceWithNoise': True, 'centroider': {'values': {'centroid.sdss': {'priority': 0.0, 'peakMin': -1.0, 'binmax': 16, 'wfac': 1.5}, 'centroid.naive': {'priority': 0.0, 'background': 0.0}, 'centroid.gaussian': {'priority': 0.0}}, 'name': 'centroid.sdss'}, 'prefix': None, 'algorithms': {'values': {'centroid.sdss': {'priority': 0.0, 'peakMin': -1.0, 'binmax': 16, 'wfac': 1.5}, 'flux.psf': {'priority': 2.0}, 'flux.dipole.psf': {'priority': 2.0, 'stepSizeFlux': 1.0, 'stepSizeCoord': 0.10000000149011612, 'maxPixels': 500, 'errorDef': 1.0, 'maxFnCalls': 100000}, 'flags.pixel': {'priority': 0.0}, 'centroid.gaussian': {'priority': 0.0}, 'centroid.record': {'priority': 5.0}, 'flux.aperture': {'priority': 2.0, 'radii': [0.0, 0.0, 0.0, 0.0, 0.0, 0.0, 0.0, 0.0, 0.0, 0.0, 1.0, 1.5625, 2.44140625, 3.814697265625, 5.9604644775390625, 9.313225746154785, 14.551915228366852, 22.737367544323206, 35.52713678800501, 55.51115123125783]}, 'centroid.dipole.naive': {'priority': 0.0}, 'flux.naive': {'priority': 2.0, 'radius': 7.0}, 'flux.gaussian': {'shapeFlag': '.flags', 'tol2': 9.999999747378752e-05, 'tol1': 9.999999747378752e-06, 'priority': 2.0, 'shape': 'shape.sdss', 'centroid': 'shape.sdss.centroid', 'background': 0.0, 'maxIter': 100, 'fixed': False, 'shiftmax': 10.0}, 'centroid.naive': {'priority': 0.0, 'background': 0.0}, 'flux.sinc': {'priority': 2.0, 'radius1': 0.0, 'radius2': 7.0, 'angle': 0.0, 'ellipticity': 0.0}, 'shape.sdss': {'priority': 1.0, 'tol2': 9.999999747378752e-05, 'tol1': 9.999999747378752e-06, 'background': 0.0, 'maxIter': 100}, 'flux.aperture.elliptical': {'priority': 1.899999976158142, 'radii': [0.0, 0.0, 0.0, 0.0, 0.0, 0.0, 0.0, 0.0, 0.0, 0.0, 1.0, 1.5625, 2.44140625, 3.814697265625, 5.9604644775390625, 9.313225746154785, 14.551915228366852, 22.737367544323206, 35.52713678800501, 55.51115123125783]}, 'flux.peakLikelihood': {'priority': 2.0, 'warpingKernelName': 'lanczos4'}, 'correctfluxes': {'doApCorr': True, 'canonicalFluxName': 'flux.psf', 'apCorrRadius': 7.0, 'priority': 3.0, 'doFlagTieFailures': True, 'doFlagApCorrFailures': True, 'canonicalFluxIndex': 0, 'doTieScaledFluxes': True}, 'classification.extendedness': {'priority': 5.0, 'psfErrFactor': 0.0, 'modelErrFactor': 0.0, 'fluxRatio': 0.925}, 'skycoord': {'priority': 5.0}, 'flux.dipole.naive': {'priority': 2.0}}, 'names': ['flux.psf', 'flags.pixel', 'shape.sdss', 'flux.naive', 'flux.gaussian', 'centroid.naive', 'flux.sinc', 'centroid.gaussian', 'skycoord']}, 'replaceWithNoise': {'noiseSeed': 0, 'noiseOffset': 0.0, 'noiseSource': 'measure'}, 'slots': {'psfFlux': 'flux.psf', 'apFlux': 'flux.sinc', 'instFlux': 'flux.gaussian', 'shape': 'shape.sdss', 'centroid': 'centroid.sdss', 'modelFlux': 'flux.gaussian'}}, 'measurePsf': {'psfDeterminer': {'values': {'pca': {'kernelSizeMax': 45, 'lam': 0.05, 'reducedChi2ForPsfCandidates': 2.0, 'nonLinearSpatialFit': False, 'spatialOrder': 2, 'doMaskBlends': True, 'sizeCellX': 256, 'sizeCellY': 256, 'spatialReject': 3.0, 'kernelSize': 10.0, 'constantWeight': True, 'nIterForPsf': 3, 'doRejectBlends': False, 'borderWidth': 0, 'nEigenComponents': 4, 'pixelThreshold': 0.0, 'nStarPerCellSpatialFit': 5, 'tolerance': 0.01, 'kernelSizeMin': 25, 'nStarPerCell': 3}}, 'name': 'pca'}, 'starSelector': {'values': {'objectSize': {'widthMax': 10.0, 'widthMin': 0.0, 'kernelSize': 21, 'fluxMin': 12500.0, 'borderWidth': 0, 'badFlags': ['base_PixelFlags_flag_edge', 'base_PixelFlags_flag_interpolatedCenter', 'base_PixelFlags_flag_saturatedCenter', 'base_PixelFlags_flag_crCenter'], 'fluxMax': 0.0, 'sourceFluxField': 'base_GaussianFlux_flux'}, 'diacatalog': {'grMax': 3.0, 'grMin': 0.0, 'selectGalaxy': False, 'selectStar': True, 'badPixelFlags': ['flags.pixel.edge', 'flags.pixel.interpolated.center', 'flags.pixel.saturated.center', 'flags.badcentroid'], 'fluxMax': 0.0, 'includeVariable': False, 'fluxLim': 0.0}, 'catalog': {'fluxLim': 0.0, 'borderWidth': 0, 'fluxMax': 0.0, 'kernelSize': 21, 'badStarPixelFlags': ['base_PixelFlags_flag_edge', 'base_PixelFlags_flag_interpolatedCenter', 'base_PixelFlags_flag_saturatedCenter', 'base_PixelFlags_flag_edge', 'base_PixelFlags_flag_interpolatedCenter', 'base_PixelFlags_flag_saturatedCenter']}, 'secondMoment': {'kernelSize': 21, 'histMomentMinMultiplier': 2.0, 'histSize': 64, 'histMomentClip': 5.0, 'borderWidth': 0, 'badFlags': ['base_PixelFlags_flag_edge', 'base_PixelFlags_flag_interpolatedCenter', 'base_PixelFlags_flag_saturatedCenter', 'base_PixelFlags_flag_crCenter'], 'histMomentMaxMultiplier': 5.0, 'fluxMax': 0.0, 'clumpNSigma': 2.0, 'fluxLim': 12500.0, 'histMomentMax': 100.0}, 'sizeMagnitude': {'startn1': 0.1, 'starsperbin': 30, 'fitorder': 1, 'minmag': 0.0, 'starfrac': 0.5, 'maxmag': 1e+100, 'logsize': False, 'minsize': 0.0, 'aperture': 5.0, 'maxsize': 1e+100, 'fitsigclip': 4.0, 'purityratio': 0.05}}, 'name': 'secondMoment'}}, 'background': {'ignoredPixelMask': ['EDGE', 'DETECTED', 'DETECTED_NEGATIVE'], 'undersampleStyle': 'REDUCE_INTERP_ORDER', 'algorithm': 'NATURAL_SPLINE', 'binSize': 1024, 'isNanSafe': False, 'statisticsProperty': 'MEANCLIP'}, 'measurement': {'doReplaceWithNoise': True, 'centroider': {'values': {'centroid.sdss': {'priority': 0.0, 'peakMin': -1.0, 'binmax': 16, 'wfac': 1.5}, 'centroid.naive': {'priority': 0.0, 'background': 0.0}, 'centroid.gaussian': {'priority': 0.0}}, 'name': 'centroid.sdss'}, 'prefix': None, 'algorithms': {'values': {'centroid.sdss': {'priority': 0.0, 'peakMin': -1.0, 'binmax': 16, 'wfac': 1.5}, 'flux.psf': {'priority': 2.0}, 'flux.dipole.psf': {'priority': 2.0, 'stepSizeFlux': 1.0, 'stepSizeCoord': 0.10000000149011612, 'maxPixels': 500, 'errorDef': 1.0, 'maxFnCalls': 100000}, 'flags.pixel': {'priority': 0.0}, 'centroid.gaussian': {'priority': 0.0}, 'centroid.record': {'priority': 5.0}, 'flux.aperture': {'priority': 2.0, 'radii': [0.0, 0.0, 0.0, 0.0, 0.0, 0.0, 0.0, 0.0, 0.0, 0.0, 1.0, 1.5625, 2.44140625, 3.814697265625, 5.9604644775390625, 9.313225746154785, 14.551915228366852, 22.737367544323206, 35.52713678800501, 55.51115123125783]}, 'centroid.dipole.naive': {'priority': 0.0}, 'flux.naive': {'priority': 2.0, 'radius': 7.0}, 'flux.gaussian': {'shapeFlag': '.flags', 'tol2': 9.999999747378752e-05, 'tol1': 9.999999747378752e-06, 'priority': 2.0, 'shape': 'shape.sdss', 'centroid': 'shape.sdss.centroid', 'background': 0.0, 'maxIter': 100, 'fixed': False, 'shiftmax': 10.0}, 'centroid.naive': {'priority': 0.0, 'background': 0.0}, 'flux.sinc': {'priority': 2.0, 'radius1': 0.0, 'radius2': 7.0, 'angle': 0.0, 'ellipticity': 0.0}, 'shape.sdss': {'priority': 1.0, 'tol2': 9.999999747378752e-05, 'tol1': 9.999999747378752e-06, 'background': 0.0, 'maxIter': 100}, 'flux.aperture.elliptical': {'priority': 1.899999976158142, 'radii': [0.0, 0.0, 0.0, 0.0, 0.0, 0.0, 0.0, 0.0, 0.0, 0.0, 1.0, 1.5625, 2.44140625, 3.814697265625, 5.9604644775390625, 9.313225746154785, 14.551915228366852, 22.737367544323206, 35.52713678800501, 55.51115123125783]}, 'flux.peakLikelihood': {'priority': 2.0, 'warpingKernelName': 'lanczos4'}, 'correctfluxes': {'doApCorr': True, 'canonicalFluxName': 'flux.psf', 'apCorrRadius': 7.0, 'priority': 3.0, 'doFlagTieFailures': True, 'doFlagApCorrFailures': True, 'canonicalFluxIndex': 0, 'doTieScaledFluxes': True}, 'classification.extendedness': {'priority': 5.0, 'psfErrFactor': 0.0, 'modelErrFactor': 0.0, 'fluxRatio': 0.925}, 'skycoord': {'priority': 5.0}, 'flux.dipole.naive': {'priority': 2.0}}, 'names': ['flux.psf', 'flags.pixel', 'centroid.gaussian', 'flux.naive', 'flux.gaussian', 'centroid.naive', 'flux.sinc', 'shape.sdss', 'correctfluxes', 'classification.extendedness', 'skycoord']}, 'replaceWithNoise': {'noiseSeed': 0, 'noiseOffset': 0.0, 'noiseSource': 'measure'}, 'slots': {'psfFlux': 'flux.psf', 'apFlux': 'flux.sinc', 'instFlux': 'flux.gaussian', 'shape': 'shape.sdss', 'centroid': 'centroid.sdss', 'modelFlux': 'flux.gaussian'}}, 'photocal': {'nIter': 20, 'fluxField': 'base_PsfFlux_flux', 'magLimit': 22.0, 'sigmaMax': 0.25, 'nSigma': 3.0, 'goodFlags': [], 'applyColorTerms': True, 'badFlags': ['base_PixelFlags_flag_edge', 'base_PixelFlags_flag_interpolated', 'base_PixelFlags_flag_saturated'], 'useMedian': True, 'doWriteOutput': True}, 'doAstrometry': True}, measurement={'doReplaceWithNoise': True, 'centroider': {'values': {'centroid.sdss': {'priority': 0.0, 'peakMin': -1.0, 'binmax': 16, 'wfac': 1.5}, 'centroid.naive': {'priority': 0.0, 'background': 0.0}, 'centroid.gaussian': {'priority': 0.0}}, 'name': 'centroid.sdss'}, 'prefix': None, 'algorithms': {'values': {'centroid.sdss': {'priority': 0.0, 'peakMin': -1.0, 'binmax': 16, 'wfac': 1.5}, 'flux.psf': {'priority': 2.0}, 'flux.dipole.psf': {'priority': 2.0, 'stepSizeFlux': 1.0, 'stepSizeCoord': 0.10000000149011612, 'maxPixels': 500, 'errorDef': 1.0, 'maxFnCalls': 100000}, 'flags.pixel': {'priority': 0.0}, 'centroid.gaussian': {'priority': 0.0}, 'centroid.record': {'priority': 5.0}, 'flux.aperture': {'priority': 2.0, 'radii': [0.0, 0.0, 0.0, 0.0, 0.0, 0.0, 0.0, 0.0, 0.0, 0.0, 1.0, 1.5625, 2.44140625, 3.814697265625, 5.9604644775390625, 9.313225746154785, 14.551915228366852, 22.737367544323206, 35.52713678800501, 55.51115123125783]}, 'centroid.dipole.naive': {'priority': 0.0}, 'flux.naive': {'priority': 2.0, 'radius': 7.0}, 'flux.gaussian': {'shapeFlag': '.flags', 'tol2': 9.999999747378752e-05, 'tol1': 9.999999747378752e-06, 'priority': 2.0, 'shape': 'shape.sdss', 'centroid': 'shape.sdss.centroid', 'background': 0.0, 'maxIter': 100, 'fixed': False, 'shiftmax': 10.0}, 'centroid.naive': {'priority': 0.0, 'background': 0.0}, 'flux.sinc': {'priority': 2.0, 'radius1': 0.0, 'radius2': 7.0, 'angle': 0.0, 'ellipticity': 0.0}, 'shape.sdss': {'priority': 1.0, 'tol2': 9.999999747378752e-05, 'tol1': 9.999999747378752e-06, 'background': 0.0, 'maxIter': 100}, 'flux.aperture.elliptical': {'priority': 1.899999976158142, 'radii': [0.0, 0.0, 0.0, 0.0, 0.0, 0.0, 0.0, 0.0, 0.0, 0.0, 1.0, 1.5625, 2.44140625, 3.814697265625, 5.9604644775390625, 9.313225746154785, 14.551915228366852, 22.737367544323206, 35.52713678800501, 55.51115123125783]}, 'flux.peakLikelihood': {'priority': 2.0, 'warpingKernelName': 'lanczos4'}, 'correctfluxes': {'doApCorr': True, 'canonicalFluxName': 'flux.psf', 'apCorrRadius': 7.0, 'priority': 3.0, 'doFlagTieFailures': True, 'doFlagApCorrFailures': True, 'canonicalFluxIndex': 0, 'doTieScaledFluxes': True}, 'classification.extendedness': {'priority': 5.0, 'psfErrFactor': 0.0, 'modelErrFactor': 0.0, 'fluxRatio': 0.925}, 'skycoord': {'priority': 5.0}, 'flux.dipole.naive': {'priority': 2.0}}, 'names': ['flux.psf', 'flags.pixel', 'shape.sdss', 'flux.naive', 'flux.gaussian', 'centroid.naive', 'flux.sinc', 'centroid.gaussian', 'correctfluxes', 'classification.extendedness', 'skycoord']}, 'replaceWithNoise': {'noiseSeed': 0, 'noiseOffset': 0.0, 'noiseSource': 'measure'}, 'slots': {'psfFlux': 'flux.psf', 'apFlux': 'flux.sinc', 'instFlux': 'flux.gaussian', 'shape': 'shape.sdss', 'centroid': 'centroid.sdss', 'modelFlux': 'flux.gaussian'}}, doMeasurement=True, deblend={'edgeHandling': 'ramp', 'assignStrayFlux': True, 'strayFluxRule': 'r-to-peak', 'strayFluxToPointSources': 'necessary', 'psfChisq2b': 1.5, 'maxFootprintArea': 100000, 'tinyFootprintSize': 2, 'findStrayFlux': True, 'psfChisq1': 1.5, 'psfChisq2': 1.5, 'maxNumberOfPeaks': 0, 'clipStrayFluxFraction': 0.01}, doCalibrate=True, persistBackgroundModel=True, doWriteCalibrate=True), debug=False, doraise=False, id=<lsst.pipe.base.argumentParser.DataIdContainer object at 0x50b8790>, input='/renoir_data_00/jpreyes/stacks/notebook_files/data2/CFHTLS/input', log=<lsst.pex.logging.loggingLib.Log; proxy of <Swig Object of type 'lsst::pex::logging::Log *' at 0x56fc5d0> >, obsPkg='obs_cfht', output='/renoir_data_00/jpreyes/stacks/notebook_files/data2/CFHTLS/output', processes=1, profile=None, show=(), timeout=None, trace=None); resultList=[None, None, None, None, None, None, None, None, None, None, None, None, None, None, None, None, None, None, None, None, None, None, None, None, None, None, None, None, None, None, None, None, None, None, None, None, None, None, None, None, None, None, None, None, None, None, None, None, None, None, None, None, None, None, None, None, None, None, None, None, None, None, None, None, None, None, None, None, None, None, None, None, None, None, None, None, None, None, None, None, None, None, None, None, None, None, None, None, None, None, None, None, None, None, None, None, None, None, None, None, None, None, None, None, None, None, None, None, None, None, None, None, None, None, None, None, None, None, None, None, None, None, None, None, None, None, None, None, None, None, None, None, None, None, None, None, None, None, None, None, None, None, None, None, None, None, None, None, None, None, None, None, None, None, None, None, None, None, None, None, None, None, None, None, None, None, None, None, None, None, None, None, None, None, None, None, None, None, None, None, None, None, None, None, None, None, None, None, None, None, None, None, None, None, None, None, None, None, None, None, None, None, None, None, None, None, None, None, None, None, None, None, None, None, None, None, None, None, None, None, None, None, None, None, None, None, None, None, None, None, None, None, None, None, None, None, None, None, None, None, None, None, None, None, None, None, None, None, None, None, None, None, None, None, None, None, None, None, None, None, None, None, None, None, None, None, None, None, None, None, None, None, None, None, None, None, None, None, None, None, None, None, None, None, None, None, None, None, None, None, None, None, None, None, None, None, None, None, None, None, None, None, None, None, None, None, None, None, None, None, None, None, None, None, None, None, None, None, None, None, None, None, None, None, None, None, None, None, None, None, None, None]; argumentParser=ArgumentParser(prog='-c', usage='%(prog)s input [options]', description=None, version=None, formatter_class=<class 'argparse.RawDescriptionHelpFormatter'>, conflict_handler='error', add_help=True))"
       ]
      }
     ],
     "prompt_number": 6
    },
    {
     "cell_type": "markdown",
     "metadata": {},
     "source": [
      "A sky map is created on the area of interest"
     ]
    },
    {
     "cell_type": "code",
     "collapsed": false,
     "input": [
      "subprocess.call([\"ln\",\"-s\",DATADIR+\"/output\", DATADIR+\"/output/calexp/_parent\"])\n",
      "SMTask = SkyMapper.MakeSkyMapTask\n",
      "res=SMTask.parseAndRun(args=(DATADIR+\"/output/calexp --config  skyMap.active.decList=51.0,54.0  skyMap.active.raList=213.0,215.0 --clobber-config --output \"+DATADIR+\"/output/coadd_r_dir\").split())"
     ],
     "language": "python",
     "metadata": {},
     "outputs": [
      {
       "output_type": "stream",
       "stream": "stdout",
       "text": [
        "*** in obs_cfht/config/makeSkyMap.py\n"
       ]
      }
     ],
     "prompt_number": 19
    },
    {
     "cell_type": "markdown",
     "metadata": {},
     "source": [
      "The zone containint the ccds has to be delimited"
     ]
    },
    {
     "cell_type": "code",
     "collapsed": false,
     "input": [
      "\n",
      "stdout = sys.stdout\n",
      "sys.stdout = open(DATADIR+\"/patches.txt\", 'w')\n",
      "RPTask = PatchReporter.ReportPatchesTask\n",
      "res=RPTask.parseAndRun(args=(DATADIR+'/output/coadd_r_dir --config raDecRange=213.0,51.0,215.0,54.0 --id tract=0 patch=0,0 filter=r --clobber-config').split()) \n",
      "sys.stdout = open(DATADIR+\"/patches_r.txt\", 'w')\n",
      "subprocess.call([\"sed\", \"-e\", 's/^/--id filter=r /', DATADIR+\"/patches.txt\"],stdout=sys.stdout)\n",
      "sys.stdout =stdout"
     ],
     "language": "python",
     "metadata": {},
     "outputs": [],
     "prompt_number": 20
    },
    {
     "cell_type": "markdown",
     "metadata": {},
     "source": [
      "The first part of the coaddition is launched to make the coaddition of the images"
     ]
    },
    {
     "cell_type": "code",
     "collapsed": false,
     "input": [
      "TCTask = TempexpCoadder.MakeCoaddTempExpTask\n",
      "res=TCTask.parseAndRun(args=((DATADIR+\"/output/calexp --output \"+DATADIR+\"/output/coadd_r_dir @\"+DATADIR+\"/patches_r.txt --selectId filter=r visit=800717^800718^800719^800720^800721\").split()))\n"
     ],
     "language": "python",
     "metadata": {},
     "outputs": [],
     "prompt_number": 7
    },
    {
     "cell_type": "markdown",
     "metadata": {},
     "source": [
      "Result images from coaddition are assembled according to the sky map defined"
     ]
    },
    {
     "cell_type": "code",
     "collapsed": false,
     "input": [
      "ACTask = Assembler.AssembleCoaddTask\n",
      "res=ACTask.parseAndRun(args=((DATADIR+\"/output/coadd_r_dir @\"+DATADIR+\"/patches_r.txt --selectId filter=r visit=800717^800718^800719^800720^800721\").split()))\n"
     ],
     "language": "python",
     "metadata": {},
     "outputs": [],
     "prompt_number": 8
    },
    {
     "cell_type": "markdown",
     "metadata": {},
     "source": [
      "Subtraction:"
     ]
    },
    {
     "cell_type": "markdown",
     "metadata": {},
     "source": [
      "The two folders containing the images to subtract are defined"
     ]
    },
    {
     "cell_type": "code",
     "collapsed": false,
     "input": [
      "Set1Path = \"/renoir_data_00/jpreyes/stacks/notebook_files/data/CFHTLS/output/coadd_r_dir/deepCoadd/r/1/9,2.fits\"\n",
      "Set2Path = \"/renoir_data_00/jpreyes/stacks/notebook_files/data/CFHTLS_S1/output/coadd_r_dir/deepCoadd/r/1/9,2.fits\"\n",
      "OutputPath = \"/renoir_data_00/jpreyes/stacks/notebook_files/data/subtraction\"\n"
     ],
     "language": "python",
     "metadata": {},
     "outputs": []
    },
    {
     "cell_type": "markdown",
     "metadata": {},
     "source": [
      "The images are loaded and subtracted. Results are saved on disk."
     ]
    },
    {
     "cell_type": "code",
     "collapsed": false,
     "input": [
      "config = ipDiffim.ImagePsfMatchTask.ConfigClass()\n",
      "config.kernel.name = \"AL\"\n",
      "subconfig = config.kernel.active\n",
      "defFwhm         = 4.5\n",
      "fwhmS = defFwhm\n",
      "fwhmT = defFwhm\n",
      "psfmatch = ipDiffim.ImagePsfMatchTask(config)\n",
      "\n",
      "#for image1, image2 in zip(Set1Files,Set2Files):\n",
      "#    print(\"Subtracting \" + image1 + \" \" + image2)\n",
      "firstImage = afwImage.ExposureF(Set1Path)\n",
      "secondImage = afwImage.ExposureF(Set2Path)\n",
      "    \n",
      "results  = psfmatch.subtractExposures(firstImage, secondImage,\n",
      "                            templateFwhmPix = fwhmT, scienceFwhmPix = fwhmS)\n",
      "differenceExposure = results.subtractedExposure\n",
      "differenceExposure.writeFits(OutputPath+'/S1R/9,2.fits')"
     ],
     "language": "python",
     "metadata": {},
     "outputs": []
    },
    {
     "cell_type": "code",
     "collapsed": false,
     "input": [
      "import lsst.pipe.tasks.processCoadd as CoaddProcesser\n",
      "\n",
      "CPTask = CoaddProcesser.ProcessCoaddTask\n",
      "#CPTask.parseAndRun(args=((DATASUB3+\"/output/coadd_r_dir --output \"+DATASUB3+\"/output/coadd_r_dir/deepCoaddDetect @\"+DATASUB3+\"/patches_r.txt\").split()))\n",
      "CPTask.parseAndRun(args=((DATASUB1+\"/output/coadd_r_dir --output \"+DATASUB1+\"/output/coadd_r_dir/deepCoaddDetect @\"+DATASUB1+\"/patches_r.txt\").split()))\n",
      "#CPTask.parseAndRun(args=((DATASUB5+\"/output/coadd_r_dir --output \"+DATASUB5+\"/output/coadd_r_dir/deepCoaddDetect @\"+DATASUB5+\"/patches_r.txt\").split()))"
     ],
     "language": "python",
     "metadata": {},
     "outputs": []
    },
    {
     "cell_type": "code",
     "collapsed": false,
     "input": [],
     "language": "python",
     "metadata": {},
     "outputs": []
    }
   ],
   "metadata": {}
  }
 ]
}