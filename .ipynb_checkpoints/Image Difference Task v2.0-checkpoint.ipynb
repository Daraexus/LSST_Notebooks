{
 "metadata": {
  "name": ""
 },
 "nbformat": 3,
 "nbformat_minor": 0,
 "worksheets": [
  {
   "cells": [
    {
     "cell_type": "code",
     "collapsed": false,
     "input": [
      "import glob\n",
      "import os\n",
      "import subprocess\n",
      "import sys\n",
      "import time\n",
      "import math\n",
      "import random\n",
      "import numpy\n",
      "\n",
      "from IPython.display import Image, display_png\n",
      "\n",
      "import lsst.afw.display.ds9 as ds9\n",
      "import lsst.afw.math as afwMath\n",
      "import lsst.afw.geom as afwGeom\n",
      "import lsst.afw.image as afwImage\n",
      "import lsst.afw.table as afwTable\n",
      "\n",
      "import lsst.ip.diffim as ipDiffim\n",
      "import lsst.ip.diffim.diffimTools as diffimTools\n",
      "from lsst.ip.diffim.makeKernelBasisList import makeKernelBasisList\n",
      "from lsst.ip.diffim import utils as diUtils\n",
      "from lsst.ip.diffim import diffimLib\n",
      "\n",
      "import lsst.pipe.tasks.ingest as Ingester\n",
      "import lsst.pipe.tasks.processCcd as Processer\n",
      "\n",
      "from lsst.pipe.tasks.registerImage import RegisterTask\n",
      "from lsst.meas.algorithms import SourceDetectionTask, SourceMeasurementTask, starSelectorRegistry, PsfAttributes, SingleGaussianPsf\n",
      "from lsst.meas.deblender import SourceDeblendTask\n",
      "from lsst.ip.diffim import ImagePsfMatchTask, DipoleMeasurementTask, DipoleAnalysis, DiaCatalogSourceSelectorConfig, DiaCatalogSourceSelector, KernelCandidateF, SourceFlagChecker, KernelCandidateF, cast_KernelCandidateF, makeKernelBasisList, KernelCandidateQa, DiaCatalogSourceSelector, DiaCatalogSourceSelectorConfig\n",
      "\n",
      "import lsst.meas.astrom as measAstrom\n",
      "import lsst.daf.base as dafBase\n",
      "import lsst.pipe.base as pipeBase\n",
      "import lsst.daf.persistence as dafPersist\n",
      "import lsst.pipe.tasks.imageDifference as ImageDifferencer\n",
      "DATADIR=\"/renoir_data_02/jpreyes/lsst_data/becker_test/CFHTLS\"\n",
      "\n"
     ],
     "language": "python",
     "metadata": {},
     "outputs": [],
     "prompt_number": 35
    },
    {
     "cell_type": "heading",
     "level": 2,
     "metadata": {},
     "source": [
      "Methods for ds9 Image Visualization"
     ]
    },
    {
     "cell_type": "code",
     "collapsed": false,
     "input": [
      "def displayFigure(path):\n",
      "    i =  Image(path)\n",
      "    display_png(i)\n",
      "    \n",
      "def displayImage(Image,frame=0,title=\"NoName\",path=\"fig\"):\n",
      "    ds9.mtv(Image, frame=frame, title=title)\n",
      "    ds9.ds9Cmd(\"zscale\")\n",
      "    ds9.ds9Cmd(\"zoom to fit\")\n",
      "    ds9.ds9Cmd(\"raise\")\n",
      "    ds9.ds9Cmd('saveimage '+path)\n",
      "    print title\n",
      "    displayFigure(path)\n",
      "\n",
      "def showFrame(frame=0,title=\"NoTitle\",path=\"fig\"):\n",
      "    ds9.ds9Cmd(\"zscale\")\n",
      "    ds9.ds9Cmd(\"zoom to fit\")\n",
      "    ds9.ds9Cmd(\"raise\")\n",
      "    ds9.ds9Cmd('saveimage '+path)\n",
      "    print title\n",
      "    displayFigure(path)\n",
      "    \n",
      "def displayImageWithSources(Image,frame=0,title=\"NoName\",path=\"fig\", sources=[]):\n",
      "    ds9.mtv(Image, frame=frame, title=title)\n",
      "    ds9.ds9Cmd(\"zscale\")\n",
      "    ds9.ds9Cmd(\"zoom to fit\")\n",
      "    ds9.ds9Cmd(\"raise\")\n",
      "    \n",
      "    \n",
      "    for source in sources:\n",
      "        ds9.dot(\"+\", source.getX()-Image.getX0()  , source.getY()-Image.getY0() , frame=frame, size = 25, ctype = ds9.RED)\n",
      "\n",
      "    \n",
      "    ds9.ds9Cmd('saveimage '+path)\n",
      "    print title\n",
      "    displayFigure(path)\n"
     ],
     "language": "python",
     "metadata": {},
     "outputs": []
    },
    {
     "cell_type": "heading",
     "level": 2,
     "metadata": {},
     "source": [
      "Methods for pre-processing the input data"
     ]
    },
    {
     "cell_type": "code",
     "collapsed": false,
     "input": [
      "if(os.path.exists(DATADIR)==False):\n",
      "    os.makedirs(DATADIR)\n",
      "if(os.path.exists(DATADIR+\"/input\")==False):\n",
      "    os.makedirs(DATADIR+\"/input\")\n",
      "temp_file=open(DATADIR+\"/input/_mapper\",'w')\n",
      "temp_file.write('lsst.obs.cfht.MegacamMapper')\n",
      "temp_file.close()\n"
     ],
     "language": "python",
     "metadata": {},
     "outputs": []
    },
    {
     "cell_type": "code",
     "collapsed": false,
     "input": [
      "ITask = Ingester.IngestTask\n",
      "IConfig = ITask.ConfigClass()\n",
      "IParser = ITask.ArgumentParser(\"ingest\")\n",
      "Files = glob.glob(\"/renoir_data_02/lsst_data/CFHT/rawElixir/D3/r/*.fits.fz\")\n",
      "SFiles = ' '.join(Files)\n",
      "\n",
      "args = IParser.parse_args(IConfig, (DATADIR+'/input '+SFiles+' --mode link').split()) \n",
      "task = ITask(config=args.config)\n",
      "task.run(args)"
     ],
     "language": "python",
     "metadata": {},
     "outputs": []
    },
    {
     "cell_type": "code",
     "collapsed": false,
     "input": [
      "PTask = Processer.ProcessCcdTask\n",
      "\n",
      "PTask.parseAndRun(args=((DATADIR+\"/input --output \"+DATADIR+\"/output --id ccd=14 --config isr.doBias=False isr.doFlat=False isr.doFringe=False\").split()))"
     ],
     "language": "python",
     "metadata": {},
     "outputs": []
    },
    {
     "cell_type": "heading",
     "level": 1,
     "metadata": {},
     "source": [
      "ImageDifferenceTask"
     ]
    },
    {
     "cell_type": "markdown",
     "metadata": {},
     "source": [
      "Initialization of classes, config and other important variables. Most \"self\" references in the ImageDifferenceTask should be replaced by IDifTask. self.config references can be replaced by IDConfig"
     ]
    },
    {
     "cell_type": "code",
     "collapsed": false,
     "input": [
      "config = ipDiffim.ImagePsfMatchTask.ConfigClass()\n",
      "config.kernel.name = \"AL\"\n",
      "subconfig = config.kernel.active\n",
      "defFwhm         = None\n",
      "scienceFwhmPix = defFwhm\n",
      "templateFwhmPix = defFwhm\n",
      "psfmatch = ipDiffim.ImagePsfMatchTask(config)\n",
      "IDTask = ImageDifferencer.ImageDifferenceTask\n",
      "IDConfig = IDTask.ConfigClass()\n",
      "IDifTask = IDTask()\n",
      "IDifTask.__init__()\n",
      "\n",
      "FwhmPerSigma = 2 * math.sqrt(2 * math.log(2))\n",
      "IqrToSigma = 0.741"
     ],
     "language": "python",
     "metadata": {},
     "outputs": [],
     "prompt_number": 6
    },
    {
     "cell_type": "markdown",
     "metadata": {},
     "source": [
      "Intialization of outputs and intermediate products"
     ]
    },
    {
     "cell_type": "code",
     "collapsed": false,
     "input": [
      "subtractedExposure = None\n",
      "subtractRes = None\n",
      "selectSources = None\n",
      "kernelSources = None\n",
      "controlSources = None\n",
      "diaSources = None\n"
     ],
     "language": "python",
     "metadata": {},
     "outputs": [],
     "prompt_number": 7
    },
    {
     "cell_type": "markdown",
     "metadata": {},
     "source": [
      "Butler initialization. Here we have to indicate the image which is going to be used for the processing."
     ]
    },
    {
     "cell_type": "code",
     "collapsed": false,
     "input": [
      "butler = dafPersist.Butler(DATADIR+\"/output\")\n",
      "dataid = {'visit': 890305, 'filter':'r' , 'ccd':14}\n",
      "\n",
      "exposure = butler.get(\"calexp\", dataid)\n",
      "\n",
      "expBits = butler.get(\"ccdExposureId_bits\", dataid)\n",
      "expId = long(butler.get(\"ccdExposureId\", dataid))\n",
      "idFactory = afwTable.IdFactory.makeSource(expId, 64 - expBits)\n",
      "\n",
      "\n",
      "exposureBg = butler.get(\"calexpBackground\", dataid)\n",
      "\n",
      "sciencePsf = exposure.getPsf()"
     ],
     "language": "python",
     "metadata": {},
     "outputs": [],
     "prompt_number": 8
    },
    {
     "cell_type": "markdown",
     "metadata": {},
     "source": [
      "There are two methods for obtaining the templateExposure. Those method rely on coadd tract info already generated (pre-processing) or prepared. As a result, these two lines have to be change in order to reflect a real templateExposure for the given image."
     ]
    },
    {
     "cell_type": "code",
     "collapsed": false,
     "input": [
      "templateExposure = butler.get(\"calexp\", dataid)\n",
      "templateSources =  butler.get(\"src\", dataid)"
     ],
     "language": "python",
     "metadata": {},
     "outputs": [],
     "prompt_number": 9
    },
    {
     "cell_type": "markdown",
     "metadata": {},
     "source": [
      "Compute the sigma of Science Image and Template Image PSF before convolution"
     ]
    },
    {
     "cell_type": "code",
     "collapsed": false,
     "input": [
      "ctr = afwGeom.Box2D(exposure.getBBox(afwImage.PARENT)).getCenter()\n",
      "psfAttr = PsfAttributes(sciencePsf, afwGeom.Point2I(ctr))\n",
      "scienceSigmaOrig = psfAttr.computeGaussianWidth(psfAttr.ADAPTIVE_MOMENT)\n",
      "\n",
      "ctr = afwGeom.Box2D(templateExposure.getBBox(afwImage.PARENT)).getCenter()\n",
      "psfAttr = PsfAttributes(templateExposure.getPsf(), afwGeom.Point2I(ctr))\n",
      "templateSigma = psfAttr.computeGaussianWidth(psfAttr.ADAPTIVE_MOMENT)"
     ],
     "language": "python",
     "metadata": {},
     "outputs": [],
     "prompt_number": 10
    },
    {
     "cell_type": "markdown",
     "metadata": {},
     "source": [
      "Convolve the science Exposure with its PSF (as mentioned on the Alard-Luptor article), or simply put the hard-value on it."
     ]
    },
    {
     "cell_type": "code",
     "collapsed": false,
     "input": [
      "if IDConfig.doPreConvolve:\n",
      "     print \"doing Pre-convolve\"\n",
      "     convControl = afwMath.ConvolutionControl()\n",
      "     # cannot convolve in place, so make a new MI to receive convolved image\n",
      "     srcMI = exposure.getMaskedImage()\n",
      "     destMI = srcMI.Factory(srcMI.getDimensions())\n",
      "     srcPsf = sciencePsf\n",
      "     if IDConfig.useGaussianForPreConvolution:\n",
      "         # convolve with a simplified PSF model: a double Gaussian\n",
      "         kWidth, kHeight = sciencePsf.getLocalKernel().getDimensions()\n",
      "         preConvPsf = SingleGaussianPsf(kWidth, kHeight, scienceSigmaOrig)\n",
      "     else:\n",
      "         print \"no Pre-Convolve is being done\"\n",
      "         # convolve with science exposure's PSF model\n",
      "         preConvPsf = psf\n",
      "         afwMath.convolve(destMI, srcMI, preConvPsf.getLocalKernel(), convControl)\n",
      "         exposure.setMaskedImage(destMI)\n",
      "         scienceSigmaPost = scienceSigmaOrig * math.sqrt(2)\n",
      "else:\n",
      "     scienceSigmaPost = scienceSigmaOrig\n"
     ],
     "language": "python",
     "metadata": {},
     "outputs": [
      {
       "output_type": "stream",
       "stream": "stdout",
       "text": [
        "True\n"
       ]
      }
     ],
     "prompt_number": 31
    },
    {
     "cell_type": "markdown",
     "metadata": {},
     "source": [
      "Search for the sources on the Image"
     ]
    },
    {
     "cell_type": "code",
     "collapsed": false,
     "input": [
      "scienceSigmaPost = scienceSigmaOrig\n",
      "\n",
      "selectSources = psfmatch.getSelectSources(\n",
      "                        exposure,\n",
      "                        sigma = scienceSigmaPost,\n",
      "                        doSmooth = not False,\n",
      "                        idFactory = None)"
     ],
     "language": "python",
     "metadata": {},
     "outputs": [],
     "prompt_number": 12
    },
    {
     "cell_type": "markdown",
     "metadata": {},
     "source": [
      "Number of Basis functions (Alard-Lupton Method)"
     ]
    },
    {
     "cell_type": "code",
     "collapsed": false,
     "input": [
      "nparam = len(makeKernelBasisList(IDifTask.subtract.config.kernel.active,\n",
      "                                                 referenceFwhmPix=scienceSigmaPost * FwhmPerSigma,\n",
      "                                                 targetFwhmPix=templateSigma * FwhmPerSigma))\n"
     ],
     "language": "python",
     "metadata": {},
     "outputs": [],
     "prompt_number": 13
    },
    {
     "cell_type": "markdown",
     "metadata": {},
     "source": [
      "Modifying schemas..."
     ]
    },
    {
     "cell_type": "code",
     "collapsed": false,
     "input": [
      "if IDifTask.config.doAddMetrics:\n",
      "        print \"Modify the schema of all Sources\"\n",
      "        kcQa = KernelCandidateQa(nparam)\n",
      "        selectSources = kcQa.addToSchema(selectSources)\n"
     ],
     "language": "python",
     "metadata": {},
     "outputs": [],
     "prompt_number": 37
    },
    {
     "cell_type": "markdown",
     "metadata": {},
     "source": [
      "Some operations with the sources"
     ]
    },
    {
     "cell_type": "code",
     "collapsed": false,
     "input": [
      "astrometer = measAstrom.Astrometry(measAstrom.MeasAstromConfig())\n",
      "astromRet = astrometer.useKnownWcs(selectSources, exposure=exposure)\n",
      "matches = astromRet.matches\n",
      "kernelSources = selectSources\n",
      "random.shuffle(kernelSources, random.random)\n",
      "controlSources = kernelSources[IDConfig.controlStepSize]\n",
      "kernelSources = [k for i,k in enumerate(kernelSources) if i % IDConfig.controlStepSize]"
     ],
     "language": "python",
     "metadata": {},
     "outputs": [],
     "prompt_number": 14
    },
    {
     "cell_type": "markdown",
     "metadata": {},
     "source": [
      "<b>Extended DiaSources Selection:</b> Not working! This part depends on \"stargal\" flag"
     ]
    },
    {
     "cell_type": "code",
     "collapsed": false,
     "input": [
      "if IDifTask.config.doSelectDcrCatalog:\n",
      "    print \"Selecting from DCR Catalog\"\n",
      "    redSelector  = DiaCatalogSourceSelector(\n",
      "        DiaCatalogSourceSelectorConfig(grMin=IDifTask.sourceSelector.config.grMax, grMax=99.999))\n",
      "    redSources   = redSelector.selectSources(exposure, selectSources, matches=matches)\n",
      "    controlSources.extend(redSources)\n",
      "    \n",
      "    blueSelector = DiaCatalogSourceSelector(\n",
      "        DiaCatalogSourceSelectorConfig(grMin=-99.999, grMax=IDifTask.sourceSelector.config.grMin))\n",
      "    blueSources  = blueSelector.selectSources(exposure, selectSources, matches=matches)\n",
      "    controlSources.extend(blueSources)      \n"
     ],
     "language": "python",
     "metadata": {},
     "outputs": [],
     "prompt_number": 43
    },
    {
     "cell_type": "markdown",
     "metadata": {},
     "source": [
      "<b>Select Variable Catalog</b>: Not working! This part depends on \"stargal\" flag"
     ]
    },
    {
     "cell_type": "code",
     "collapsed": false,
     "input": [
      "if IDifTask.config.doSelectVariableCatalog:\n",
      "    print \"Selecting from Variable Catalog\"\n",
      "    varSelector = DiaCatalogSourceSelector(DiaCatalogSourceSelectorConfig(includeVariable=True))\n",
      "    varSources  = varSelector.selectSources(exposure, selectSources, matches=matches)\n",
      "    controlSources.extend(varSources)\n"
     ],
     "language": "python",
     "metadata": {},
     "outputs": [],
     "prompt_number": 42
    },
    {
     "cell_type": "markdown",
     "metadata": {},
     "source": [
      "Fit the relative astrometry between the two images. Template is warped to match science exposure"
     ]
    },
    {
     "cell_type": "code",
     "collapsed": false,
     "input": [
      "wcsResults = IDifTask.fitAstrometry(templateSources, templateExposure, selectSources)\n",
      "warpedExp = IDifTask.register.warpExposure(templateExposure, wcsResults.wcs,\n",
      "                                            exposure.getWcs(), exposure.getBBox(afwImage.PARENT))\n",
      "templateExposure = warpedExp"
     ],
     "language": "python",
     "metadata": {},
     "outputs": [],
     "prompt_number": 17
    },
    {
     "cell_type": "markdown",
     "metadata": {},
     "source": [
      "This creates a lot of important metrics based on the matching method"
     ]
    },
    {
     "cell_type": "code",
     "collapsed": false,
     "input": [
      "IDifTask.config.doDebugRegister = True\n",
      "if IDifTask.config.doDebugRegister:\n",
      "                    print \"registering debugging outputs for residuals et al\"\n",
      "                    # Grab matches to reference catalog\n",
      "                    srcToMatch = {x.second.getId() : x.first for x in matches}\n",
      "\n",
      "                    refCoordKey = wcsResults.matches[0].first.getTable().getCoordKey()\n",
      "                    inCentroidKey = wcsResults.matches[0].second.getTable().getCentroidKey()\n",
      "                    sids      = [m.first.getId() for m in wcsResults.matches]\n",
      "                    positions = [m.first.get(refCoordKey) for m in wcsResults.matches]\n",
      "                    residuals = [m.first.get(refCoordKey).getOffsetFrom(wcsResults.wcs.pixelToSky(\n",
      "                                m.second.get(inCentroidKey))) for m in wcsResults.matches]\n",
      "                    allresids = dict(zip(sids, zip(positions, residuals)))\n",
      "\n",
      "                    cresiduals = [m.first.get(refCoordKey).getTangentPlaneOffset(\n",
      "                            wcsResults.wcs.pixelToSky(\n",
      "                                m.second.get(inCentroidKey))) for m in wcsResults.matches]\n",
      "                    colors    = numpy.array([-2.5*numpy.log10(srcToMatch[x].get(\"g\"))\n",
      "                                              + 2.5*numpy.log10(srcToMatch[x].get(\"r\"))\n",
      "                                              for x in sids if x in srcToMatch.keys()])\n",
      "                    dlong     = numpy.array([r[0].asArcseconds() for s,r in zip(sids, cresiduals)\n",
      "                                             if s in srcToMatch.keys()])\n",
      "                    dlat      = numpy.array([r[1].asArcseconds() for s,r in zip(sids, cresiduals)\n",
      "                                             if s in srcToMatch.keys()])\n",
      "                    idx1      = numpy.where(colors<IDifTask.sourceSelector.config.grMin)\n",
      "                    idx2      = numpy.where((colors>=IDifTask.sourceSelector.config.grMin)&\n",
      "                                            (colors<=IDifTask.sourceSelector.config.grMax))\n",
      "                    idx3      = numpy.where(colors>IDifTask.sourceSelector.config.grMax)\n",
      "                    print idx1, idx2, idx3\n",
      "                  \n",
      "                    rms1Long  = IqrToSigma*(numpy.percentile(dlong[idx1],75)-numpy.percentile(dlong[idx1],25))\n",
      "                    rms1Lat   = IqrToSigma*(numpy.percentile(dlat[idx1],75)-numpy.percentile(dlat[idx1],25))\n",
      "                    rms2Long  = IqrToSigma*(numpy.percentile(dlong[idx2],75)-numpy.percentile(dlong[idx2],25))\n",
      "                    rms2Lat   = IqrToSigma*(numpy.percentile(dlat[idx2],75)-numpy.percentile(dlat[idx2],25))\n",
      "                    rms3Long  = IqrToSigma*(numpy.percentile(dlong[idx3],75)-numpy.percentile(dlong[idx3],25))\n",
      "                    rms3Lat   = IqrToSigma*(numpy.percentile(dlat[idx3],75)-numpy.percentile(dlat[idx3],25))\n",
      "                    IDifTask.log.info(\"Blue star offsets'': %.3f %.3f, %.3f %.3f\"  % (numpy.median(dlong[idx1]),\n",
      "                                                                                  rms1Long,\n",
      "                                                                                  numpy.median(dlat[idx1]),\n",
      "                                                                                  rms1Lat))\n",
      "                    IDifTask.log.info(\"Green star offsets'': %.3f %.3f, %.3f %.3f\"  % (numpy.median(dlong[idx2]),\n",
      "                                                                                   rms2Long,\n",
      "                                                                                   numpy.median(dlat[idx2]),\n",
      "                                                                                   rms2Lat))\n",
      "                    IDifTask.log.info(\"Red star offsets'': %.3f %.3f, %.3f %.3f\"  % (numpy.median(dlong[idx3]),\n",
      "                                                                                 rms3Long,\n",
      "                                                                                 numpy.median(dlat[idx3]),\n",
      "                                                                                 rms3Lat))\n",
      "\n",
      "                    IDifTask.metadata.add(\"RegisterBlueLongOffsetMedian\", numpy.median(dlong[idx1]))\n",
      "                    IDifTask.metadata.add(\"RegisterGreenLongOffsetMedian\", numpy.median(dlong[idx2]))\n",
      "                    IDifTask.metadata.add(\"RegisterRedLongOffsetMedian\", numpy.median(dlong[idx3]))\n",
      "                    IDifTask.metadata.add(\"RegisterBlueLongOffsetStd\", rms1Long)\n",
      "                    IDifTask.metadata.add(\"RegisterGreenLongOffsetStd\", rms2Long)\n",
      "                    IDifTask.metadata.add(\"RegisterRedLongOffsetStd\", rms3Long)\n",
      "\n",
      "                    IDifTask.metadata.add(\"RegisterBlueLatOffsetMedian\", numpy.median(dlat[idx1]))\n",
      "                    IDifTask.metadata.add(\"RegisterGreenLatOffsetMedian\", numpy.median(dlat[idx2]))\n",
      "                    IDifTask.metadata.add(\"RegisterRedLatOffsetMedian\", numpy.median(dlat[idx3]))\n"
     ],
     "language": "python",
     "metadata": {},
     "outputs": [
      {
       "output_type": "stream",
       "stream": "stdout",
       "text": [
        "registering debugging outputs for residuals et al\n",
        "(array([], dtype=int64),)"
       ]
      },
      {
       "ename": "ValueError",
       "evalue": "operands could not be broadcast together with shapes (0) (2) ",
       "output_type": "pyerr",
       "traceback": [
        "\u001b[1;31m---------------------------------------------------------------------------\u001b[0m\n\u001b[1;31mValueError\u001b[0m                                Traceback (most recent call last)",
        "\u001b[1;32m<ipython-input-49-0036f3924507>\u001b[0m in \u001b[0;36m<module>\u001b[1;34m()\u001b[0m\n\u001b[0;32m     29\u001b[0m                     \u001b[1;32mprint\u001b[0m \u001b[0midx1\u001b[0m\u001b[1;33m\u001b[0m\u001b[0m\n\u001b[0;32m     30\u001b[0m                     \u001b[1;32mprint\u001b[0m \u001b[0midx2\u001b[0m\u001b[1;33m\u001b[0m\u001b[0m\n\u001b[1;32m---> 31\u001b[1;33m                     \u001b[0mrms1Long\u001b[0m  \u001b[1;33m=\u001b[0m \u001b[0mIqrToSigma\u001b[0m\u001b[1;33m*\u001b[0m\u001b[1;33m(\u001b[0m\u001b[0mnumpy\u001b[0m\u001b[1;33m.\u001b[0m\u001b[0mpercentile\u001b[0m\u001b[1;33m(\u001b[0m\u001b[0mdlong\u001b[0m\u001b[1;33m[\u001b[0m\u001b[0midx1\u001b[0m\u001b[1;33m]\u001b[0m\u001b[1;33m,\u001b[0m\u001b[1;36m75\u001b[0m\u001b[1;33m)\u001b[0m\u001b[1;33m-\u001b[0m\u001b[0mnumpy\u001b[0m\u001b[1;33m.\u001b[0m\u001b[0mpercentile\u001b[0m\u001b[1;33m(\u001b[0m\u001b[0mdlong\u001b[0m\u001b[1;33m[\u001b[0m\u001b[0midx1\u001b[0m\u001b[1;33m]\u001b[0m\u001b[1;33m,\u001b[0m\u001b[1;36m25\u001b[0m\u001b[1;33m)\u001b[0m\u001b[1;33m)\u001b[0m\u001b[1;33m\u001b[0m\u001b[0m\n\u001b[0m\u001b[0;32m     32\u001b[0m                     \u001b[0mrms1Lat\u001b[0m   \u001b[1;33m=\u001b[0m \u001b[0mIqrToSigma\u001b[0m\u001b[1;33m*\u001b[0m\u001b[1;33m(\u001b[0m\u001b[0mnumpy\u001b[0m\u001b[1;33m.\u001b[0m\u001b[0mpercentile\u001b[0m\u001b[1;33m(\u001b[0m\u001b[0mdlat\u001b[0m\u001b[1;33m[\u001b[0m\u001b[0midx1\u001b[0m\u001b[1;33m]\u001b[0m\u001b[1;33m,\u001b[0m\u001b[1;36m75\u001b[0m\u001b[1;33m)\u001b[0m\u001b[1;33m-\u001b[0m\u001b[0mnumpy\u001b[0m\u001b[1;33m.\u001b[0m\u001b[0mpercentile\u001b[0m\u001b[1;33m(\u001b[0m\u001b[0mdlat\u001b[0m\u001b[1;33m[\u001b[0m\u001b[0midx1\u001b[0m\u001b[1;33m]\u001b[0m\u001b[1;33m,\u001b[0m\u001b[1;36m25\u001b[0m\u001b[1;33m)\u001b[0m\u001b[1;33m)\u001b[0m\u001b[1;33m\u001b[0m\u001b[0m\n\u001b[0;32m     33\u001b[0m                     \u001b[0mrms2Long\u001b[0m  \u001b[1;33m=\u001b[0m \u001b[0mIqrToSigma\u001b[0m\u001b[1;33m*\u001b[0m\u001b[1;33m(\u001b[0m\u001b[0mnumpy\u001b[0m\u001b[1;33m.\u001b[0m\u001b[0mpercentile\u001b[0m\u001b[1;33m(\u001b[0m\u001b[0mdlong\u001b[0m\u001b[1;33m[\u001b[0m\u001b[0midx2\u001b[0m\u001b[1;33m]\u001b[0m\u001b[1;33m,\u001b[0m\u001b[1;36m75\u001b[0m\u001b[1;33m)\u001b[0m\u001b[1;33m-\u001b[0m\u001b[0mnumpy\u001b[0m\u001b[1;33m.\u001b[0m\u001b[0mpercentile\u001b[0m\u001b[1;33m(\u001b[0m\u001b[0mdlong\u001b[0m\u001b[1;33m[\u001b[0m\u001b[0midx2\u001b[0m\u001b[1;33m]\u001b[0m\u001b[1;33m,\u001b[0m\u001b[1;36m25\u001b[0m\u001b[1;33m)\u001b[0m\u001b[1;33m)\u001b[0m\u001b[1;33m\u001b[0m\u001b[0m\n",
        "\u001b[1;32m/renoir_data_00/jpreyes/stacks/v9_2_copy/Linux64/anaconda/1.8.0/lib/python2.7/site-packages/numpy/lib/function_base.pyc\u001b[0m in \u001b[0;36mpercentile\u001b[1;34m(a, q, axis, out, overwrite_input)\u001b[0m\n\u001b[0;32m   3094\u001b[0m         \u001b[0maxis\u001b[0m \u001b[1;33m=\u001b[0m \u001b[1;36m0\u001b[0m\u001b[1;33m\u001b[0m\u001b[0m\n\u001b[0;32m   3095\u001b[0m \u001b[1;33m\u001b[0m\u001b[0m\n\u001b[1;32m-> 3096\u001b[1;33m     \u001b[1;32mreturn\u001b[0m \u001b[0m_compute_qth_percentile\u001b[0m\u001b[1;33m(\u001b[0m\u001b[0msorted\u001b[0m\u001b[1;33m,\u001b[0m \u001b[0mq\u001b[0m\u001b[1;33m,\u001b[0m \u001b[0maxis\u001b[0m\u001b[1;33m,\u001b[0m \u001b[0mout\u001b[0m\u001b[1;33m)\u001b[0m\u001b[1;33m\u001b[0m\u001b[0m\n\u001b[0m\u001b[0;32m   3097\u001b[0m \u001b[1;33m\u001b[0m\u001b[0m\n\u001b[0;32m   3098\u001b[0m \u001b[1;31m# handle sequence of q's without calling sort multiple times\u001b[0m\u001b[1;33m\u001b[0m\u001b[1;33m\u001b[0m\u001b[0m\n",
        "\u001b[1;32m/renoir_data_00/jpreyes/stacks/v9_2_copy/Linux64/anaconda/1.8.0/lib/python2.7/site-packages/numpy/lib/function_base.pyc\u001b[0m in \u001b[0;36m_compute_qth_percentile\u001b[1;34m(sorted, q, axis, out)\u001b[0m\n\u001b[0;32m   3130\u001b[0m     \u001b[1;31m# Use add.reduce in both cases to coerce data type as well as\u001b[0m\u001b[1;33m\u001b[0m\u001b[1;33m\u001b[0m\u001b[0m\n\u001b[0;32m   3131\u001b[0m     \u001b[1;31m#   check and use out array.\u001b[0m\u001b[1;33m\u001b[0m\u001b[1;33m\u001b[0m\u001b[0m\n\u001b[1;32m-> 3132\u001b[1;33m     \u001b[1;32mreturn\u001b[0m \u001b[0madd\u001b[0m\u001b[1;33m.\u001b[0m\u001b[0mreduce\u001b[0m\u001b[1;33m(\u001b[0m\u001b[0msorted\u001b[0m\u001b[1;33m[\u001b[0m\u001b[0mindexer\u001b[0m\u001b[1;33m]\u001b[0m\u001b[1;33m*\u001b[0m\u001b[0mweights\u001b[0m\u001b[1;33m,\u001b[0m \u001b[0maxis\u001b[0m\u001b[1;33m=\u001b[0m\u001b[0maxis\u001b[0m\u001b[1;33m,\u001b[0m \u001b[0mout\u001b[0m\u001b[1;33m=\u001b[0m\u001b[0mout\u001b[0m\u001b[1;33m)\u001b[0m\u001b[1;33m/\u001b[0m\u001b[0msumval\u001b[0m\u001b[1;33m\u001b[0m\u001b[0m\n\u001b[0m\u001b[0;32m   3133\u001b[0m \u001b[1;33m\u001b[0m\u001b[0m\n\u001b[0;32m   3134\u001b[0m \u001b[1;32mdef\u001b[0m \u001b[0mtrapz\u001b[0m\u001b[1;33m(\u001b[0m\u001b[0my\u001b[0m\u001b[1;33m,\u001b[0m \u001b[0mx\u001b[0m\u001b[1;33m=\u001b[0m\u001b[0mNone\u001b[0m\u001b[1;33m,\u001b[0m \u001b[0mdx\u001b[0m\u001b[1;33m=\u001b[0m\u001b[1;36m1.0\u001b[0m\u001b[1;33m,\u001b[0m \u001b[0maxis\u001b[0m\u001b[1;33m=\u001b[0m\u001b[1;33m-\u001b[0m\u001b[1;36m1\u001b[0m\u001b[1;33m)\u001b[0m\u001b[1;33m:\u001b[0m\u001b[1;33m\u001b[0m\u001b[0m\n",
        "\u001b[1;31mValueError\u001b[0m: operands could not be broadcast together with shapes (0) (2) "
       ]
      },
      {
       "output_type": "stream",
       "stream": "stdout",
       "text": [
        "\n",
        "(array([ 0,  1,  2,  3,  4,  5,  6,  7,  8,  9, 10, 11, 12, 13, 14, 15, 16,\n",
        "       17, 18, 19, 20, 21, 22, 23, 24, 25, 26, 27, 28, 29, 30, 31, 32, 33,\n",
        "       34, 35, 36, 37, 38, 39, 40, 41, 42, 43, 44, 45, 46, 47, 48, 49, 50,\n",
        "       51, 52, 53, 54, 55, 56, 57, 58, 59, 60, 61, 62, 63, 64, 65, 66, 67,\n",
        "       68, 69, 70, 71, 72, 73]),)\n"
       ]
      }
     ],
     "prompt_number": 49
    },
    {
     "cell_type": "markdown",
     "metadata": {},
     "source": [
      "Subtraction is finally done!"
     ]
    },
    {
     "cell_type": "code",
     "collapsed": false,
     "input": [
      "subtractRes = IDifTask.subtract.subtractExposures(\n",
      "                templateExposure=templateExposure,\n",
      "                scienceExposure=exposure,\n",
      "                scienceFwhmPix=scienceSigmaPost * FwhmPerSigma,\n",
      "                templateFwhmPix=templateSigma * FwhmPerSigma,\n",
      "                candidateList=kernelSources,\n",
      "                convolveTemplate=IDConfig.convolveTemplate,\n",
      "                doWarping=not IDConfig.doUseRegister\n",
      "            )\n",
      "subtractedExposure = subtractRes.subtractedExposure"
     ],
     "language": "python",
     "metadata": {},
     "outputs": [],
     "prompt_number": 18
    },
    {
     "cell_type": "markdown",
     "metadata": {},
     "source": [
      "PSF is assigned appropiately if necessary"
     ]
    },
    {
     "cell_type": "code",
     "collapsed": false,
     "input": [
      "if not subtractedExposure.hasPsf():\n",
      "    if IDConfig.convolveTemplate:\n",
      "       subtractedExposure.setPsf(exposure.getPsf())\n",
      "else:\n",
      "    if templateExposure is None:\n",
      "            #templateExposure, templateSources = self.getTemplate(exposure, sensorRef)\n",
      "       subtractedExposure.setPsf(templateExposure.getPsf())\n",
      "\n"
     ],
     "language": "python",
     "metadata": {},
     "outputs": [],
     "prompt_number": 19
    },
    {
     "cell_type": "markdown",
     "metadata": {},
     "source": [
      "Erase existing detection mask planes (not working for some unknown reason)"
     ]
    },
    {
     "cell_type": "code",
     "collapsed": false,
     "input": [
      "#DifTaskmask  = subtractedExposure.getMaskedImage().getMask()\n",
      "#mask &= ~(mask.getPlaneBitMask(\"DETECTED\") | mask.getPlaneBitMask(\"DETECTED_NEGATIVE\"))"
     ],
     "language": "python",
     "metadata": {},
     "outputs": [],
     "prompt_number": 20
    },
    {
     "cell_type": "markdown",
     "metadata": {},
     "source": [
      "SourceCatalog construction based on old results"
     ]
    },
    {
     "cell_type": "code",
     "collapsed": false,
     "input": [
      "table = afwTable.SourceTable.make(IDifTask.schema, idFactory)\n",
      "table.setMetadata(IDifTask.algMetadata)\n",
      "results = IDifTask.detection.makeSourceCatalog(\n",
      "                table=table,\n",
      "                exposure=subtractedExposure,\n",
      "                doSmooth=not IDConfig.doPreConvolve\n",
      "                )"
     ],
     "language": "python",
     "metadata": {},
     "outputs": [],
     "prompt_number": 21
    },
    {
     "cell_type": "markdown",
     "metadata": {},
     "source": [
      "Do Merge"
     ]
    },
    {
     "cell_type": "code",
     "collapsed": false,
     "input": [
      "if IDifTask.config.doMerge:\n",
      "    fpSet = results.fpSets.positive\n",
      "    fpSet.merge(results.fpSets.negative, IDConfig.growFootprint,\n",
      "                   IDConfig.growFootprint, False)\n",
      "    diaSources = afwTable.SourceCatalog(table)\n",
      "    fpSet.makeSources(diaSources)\n",
      "else:\n",
      "    diaSources = results.sources\n"
     ],
     "language": "python",
     "metadata": {},
     "outputs": [],
     "prompt_number": 22
    },
    {
     "cell_type": "markdown",
     "metadata": {},
     "source": [
      "This make the measurement of the Dia sources that are dipoles"
     ]
    },
    {
     "cell_type": "code",
     "collapsed": false,
     "input": [
      "if IDifTask.config.doMeasurement:\n",
      "    print \"Doing measurement of dipoles\"\n",
      "    if len(diaSources) < IDifTask.config.maxDiaSourcesToMeasure:\n",
      "         IDifTask.dipoleMeasurement.run(subtractedExposure, diaSources)\n",
      "    else:\n",
      "         IDifTask.measurement.run(subtractedExposure, diaSources)\n"
     ],
     "language": "python",
     "metadata": {},
     "outputs": [],
     "prompt_number": 23
    },
    {
     "cell_type": "markdown",
     "metadata": {},
     "source": [
      "Match the Dia Sources with the Calexp Sources if possible"
     ]
    },
    {
     "cell_type": "code",
     "collapsed": false,
     "input": [
      "\n",
      "if IDifTask.config.doMatchSources:\n",
      "    print \"Matching sources\"\n",
      "    if butler.datasetExists(\"src\", dataid):\n",
      "                    # Create key,val pair where key=diaSourceId and val=sourceId\n",
      "                    matchRadAsec = IDifTask.config.diaSourceMatchRadius\n",
      "                    matchRadPixel = matchRadAsec / exposure.getWcs().pixelScale().asArcseconds()\n",
      "\n",
      "                    srcMatches = afwTable.matchXy(butler.get(\"src\", dataid), diaSources, matchRadPixel, True)\n",
      "                    srcMatchDict = dict([(srcMatch.second.getId(), srcMatch.first.getId()) for\n",
      "                                       srcMatch in srcMatches])\n",
      "\n",
      "    else:\n",
      "                    srcMatchDict = {}\n"
     ],
     "language": "python",
     "metadata": {},
     "outputs": [],
     "prompt_number": 24
    },
    {
     "cell_type": "markdown",
     "metadata": {},
     "source": [
      "Assign the pairs for sources and reference Id"
     ]
    },
    {
     "cell_type": "code",
     "collapsed": false,
     "input": [
      "astrometer = measAstrom.Astrometry(measAstrom.MeasAstromConfig(catalogMatchDist=matchRadAsec))\n",
      "astromRet = astrometer.useKnownWcs(diaSources, exposure=exposure)\n",
      "refMatches = astromRet.matches\n",
      "if refMatches is None:\n",
      "    refMatchDict = {}\n",
      "else:\n",
      "    refMatchDict = dict([(refMatch.second.getId(), refMatch.first.getId()) for \\\n",
      "                                             refMatch in refMatches])\n"
     ],
     "language": "python",
     "metadata": {},
     "outputs": [],
     "prompt_number": 25
    },
    {
     "cell_type": "markdown",
     "metadata": {},
     "source": [
      "Assign the DIA sources IDs"
     ]
    },
    {
     "cell_type": "code",
     "collapsed": false,
     "input": [
      "for diaSource in diaSources:\n",
      "  sid = diaSource.getId()\n",
      "  if srcMatchDict.has_key(sid):\n",
      "        diaSource.set(\"srcMatchId\", srcMatchDict[sid])\n",
      "  if refMatchDict.has_key(sid):\n",
      "        diaSource.set(\"refMatchId\", refMatchDict[sid])\n"
     ],
     "language": "python",
     "metadata": {},
     "outputs": [],
     "prompt_number": 26
    },
    {
     "cell_type": "markdown",
     "metadata": {},
     "source": [
      "This method assign metrics if they exist. It is better to let it in \"NO\", as there are some problems with C++ classes compatibility"
     ]
    },
    {
     "cell_type": "code",
     "collapsed": false,
     "input": [
      "IDifTask.config.doAddMetrics = False\n",
      "if IDifTask.config.doAddMetrics and IDifTask.config.doSelectSources:\n",
      "     print \"Adding metrics and sources\"\n",
      "     kernelCandList = []\n",
      "     for cell in subtractRes.kernelCellSet.getCellList():\n",
      "           for cand in cell.begin(False): # include bad candidates\n",
      "                kernelCandList.append(cast_KernelCandidateF(cand))\n",
      "\n",
      "                # Get basis list to build control sample kernels\n",
      "     basisList = afwMath.cast_LinearCombinationKernel(\n",
      "                    kernelCandList[0].getKernel(KernelCandidateF.ORIG)).getKernelList()\n",
      "\n",
      "     controlCandList = \\\n",
      "            diffimTools.sourceTableToCandidateList(controlSources,\n",
      "                                                           subtractRes.warpedExposure, exposure,\n",
      "                                                           IDifTask.config.subtract.kernel.active,\n",
      "                                                           IDifTask.config.subtract.kernel.active.detectionConfig,\n",
      "                                                           IDifTask.log, doBuild=True, basisList=basisList)\n",
      "\n",
      "     kcQa.apply(kernelCandList, subtractRes.psfMatchingKernel, subtractRes.backgroundModel,\n",
      "                                dof=nparam)\n",
      "     kcQa.apply(controlCandList, subtractRes.psfMatchingKernel, subtractRes.backgroundModel)\n",
      "            \n",
      "     if IDifTask.config.doDetection:\n",
      "          kcQa.aggregate(selectSources, IDifTask.metadata, allresids, diaSources)\n",
      "     else:\n",
      "          kcQa.aggregate(selectSources, IDifTask.metadata, allresids)\n",
      "\n"
     ],
     "language": "python",
     "metadata": {},
     "outputs": [],
     "prompt_number": 27
    },
    {
     "cell_type": "markdown",
     "metadata": {},
     "source": [
      "Match with the calexp sources if possible"
     ]
    },
    {
     "cell_type": "code",
     "collapsed": false,
     "input": [
      "if butler.datasetExists(\"src\", dataid):\n",
      "    matchRadAsec = IDConfig.diaSourceMatchRadius\n",
      "    matchRadPixel = matchRadAsec / exposure.getWcs().pixelScale().asArcseconds()\n",
      "    srcMatches = afwTable.matchXy(butler.get(\"src\", dataid), diaSources, matchRadPixel, True)\n",
      "    srcMatchDict = dict([(srcMatch.second.getId(), srcMatch.first.getId()) for\n",
      "                                             srcMatch in srcMatches])\n"
     ],
     "language": "python",
     "metadata": {},
     "outputs": [],
     "prompt_number": 28
    },
    {
     "cell_type": "markdown",
     "metadata": {},
     "source": [
      "Display the final Image"
     ]
    },
    {
     "cell_type": "code",
     "collapsed": false,
     "input": [
      "ds9.setMaskTransparency(50)\n",
      "displayImage(subtractedExposure.getMaskedImage(),frame=0,title=\"SubtractedResult\",path=\"subResult\")"
     ],
     "language": "python",
     "metadata": {},
     "outputs": [
      {
       "output_type": "stream",
       "stream": "stdout",
       "text": [
        "SubtractedResult\n"
       ]
      },
      {
       "metadata": {},
       "output_type": "display_data",
       "png": "c3ViUmVzdWx0\n"
      }
     ],
     "prompt_number": 30
    },
    {
     "cell_type": "code",
     "collapsed": false,
     "input": [],
     "language": "python",
     "metadata": {},
     "outputs": []
    }
   ],
   "metadata": {}
  }
 ]
}