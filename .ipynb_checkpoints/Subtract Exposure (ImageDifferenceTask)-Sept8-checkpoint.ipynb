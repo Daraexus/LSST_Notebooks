{
 "metadata": {
  "name": "",
  "signature": "sha256:759d5efe00bcf9f878ecd343c17a6f09f6745a02685984195025a8cfc9529cac"
 },
 "nbformat": 3,
 "nbformat_minor": 0,
 "worksheets": [
  {
   "cells": [
    {
     "cell_type": "code",
     "collapsed": false,
     "input": [
      "import glob\n",
      "import os\n",
      "import subprocess\n",
      "import sys\n",
      "import time\n",
      "import math\n",
      "\n",
      "from IPython.display import Image, display_png\n",
      "\n",
      "import lsst.afw.display.ds9 as ds9\n",
      "import lsst.afw.math as afwMath\n",
      "import lsst.afw.geom as afwGeom\n",
      "import lsst.afw.image as afwImage\n",
      "import lsst.afw.table as afwTable\n",
      "\n",
      "import lsst.ip.diffim as ipDiffim\n",
      "import lsst.ip.diffim.diffimTools as diffimTools\n",
      "from lsst.ip.diffim.makeKernelBasisList import makeKernelBasisList\n",
      "from lsst.ip.diffim import utils as diUtils\n",
      "from lsst.ip.diffim import diffimLib\n",
      "\n",
      "from lsst.pipe.tasks.registerImage import RegisterTask\n",
      "from lsst.meas.algorithms import SourceDetectionTask, SourceMeasurementTask, starSelectorRegistry, PsfAttributes, SingleGaussianPsf\n",
      "from lsst.meas.deblender import SourceDeblendTask\n",
      "from lsst.ip.diffim import ImagePsfMatchTask, DipoleMeasurementTask, DipoleAnalysis\n",
      "# SourceFlagChecker, KernelCandidateF, cast_KernelCandidateF, makeKernelBasisList, KernelCandidateQa, DiaCatalogSourceSelector, DiaCatalogSourceSelectorConfig\n",
      "\n",
      "import lsst.meas.astrom as measAstrom\n",
      "\n",
      "import lsst.daf.base as dafBase\n",
      "\n",
      "import lsst.pipe.base as pipeBase\n",
      "\n",
      "import lsst.daf.persistence as dafPersist\n",
      "\n",
      "import lsst.pipe.tasks.imageDifference as ImageDifferencer\n",
      "\n",
      "DATADIR=\"/renoir_data_02/jpreyes/lsst_data/data/CFHTLS\"\n",
      "\n"
     ],
     "language": "python",
     "metadata": {},
     "outputs": [],
     "prompt_number": 1
    },
    {
     "cell_type": "code",
     "collapsed": false,
     "input": [
      "def displayFigure(path):\n",
      "    i =  Image(path)\n",
      "    display_png(i)\n",
      "    \n",
      "def displayImage(Image,frame=0,title=\"NoName\",path=\"fig\"):\n",
      "    ds9.mtv(Image, frame=frame, title=title)\n",
      "    ds9.ds9Cmd(\"zscale\")\n",
      "    ds9.ds9Cmd(\"zoom to fit\")\n",
      "    ds9.ds9Cmd(\"raise\")\n",
      "    ds9.ds9Cmd('saveimage '+path)\n",
      "    print title\n",
      "    displayFigure(path)\n",
      "\n",
      "def showFrame(frame=0,title=\"NoTitle\",path=\"fig\"):\n",
      "    ds9.ds9Cmd(\"zscale\")\n",
      "    ds9.ds9Cmd(\"zoom to fit\")\n",
      "    ds9.ds9Cmd(\"raise\")\n",
      "    ds9.ds9Cmd('saveimage '+path)\n",
      "    print title\n",
      "    displayFigure(path)\n",
      "    \n",
      "def displayImageWithSources(Image,frame=0,title=\"NoName\",path=\"fig\", sources=[]):\n",
      "    ds9.mtv(Image, frame=frame, title=title)\n",
      "    ds9.ds9Cmd(\"zscale\")\n",
      "    ds9.ds9Cmd(\"zoom to fit\")\n",
      "    ds9.ds9Cmd(\"raise\")\n",
      "    \n",
      "    \n",
      "    for source in sources:\n",
      "        ds9.dot(\"+\", source.getX()-Image.getX0()  , source.getY()-Image.getY0() , frame=frame, size = 25, ctype = ds9.RED)\n",
      "\n",
      "    \n",
      "    ds9.ds9Cmd('saveimage '+path)\n",
      "    print title\n",
      "    displayFigure(path)\n"
     ],
     "language": "python",
     "metadata": {},
     "outputs": [],
     "prompt_number": 2
    },
    {
     "cell_type": "code",
     "collapsed": false,
     "input": [
      "ScienceExposurePath = DATADIR+\"/output/coadd_r_dir/subtract/deepCoadd/r/1/33,15.fits\"\n",
      "ScienceExposurePath = \"/renoir_data_02/jpreyes/lsst_data/data/CFHTLS/output/calexp/06AL01/D3/2006-05-20/r/calexp-849373-14.fits\"\n",
      "ReferenceExposurePath = DATADIR+\"/output/coadd_r_dir/deepCoadd/r/1/33,15.fits\"\n",
      "ReferenceExposurePath = \"/renoir_data_02/jpreyes/lsst_data/data/CFHTLS/output/calexp/06AL01/D3/2006-05-20/r/calexp-849373-14.fits\"\n",
      "\n",
      "SubtractionOutputPath = DATADIR+\"/output/subtracted-inter\"\n",
      "\n",
      "useGaussianForPreConvolution = True\n",
      "doPreConvolve = True\n",
      "#idFactory = afwTable.IdFactory.makeSource(expId, 64 - expBits)"
     ],
     "language": "python",
     "metadata": {},
     "outputs": [],
     "prompt_number": 3
    },
    {
     "cell_type": "code",
     "collapsed": false,
     "input": [
      "scienceExposure = afwImage.ExposureF(ScienceExposurePath)\n",
      "templateExposure = afwImage.ExposureF(ReferenceExposurePath)\n"
     ],
     "language": "python",
     "metadata": {},
     "outputs": [],
     "prompt_number": 4
    },
    {
     "cell_type": "code",
     "collapsed": false,
     "input": [
      "subtractedExposure = None\n",
      "subtractRes = None\n",
      "selectSources = None\n",
      "kernelSources = None\n",
      "controlSources = None\n",
      "diaSources = None"
     ],
     "language": "python",
     "metadata": {},
     "outputs": [],
     "prompt_number": 5
    },
    {
     "cell_type": "code",
     "collapsed": false,
     "input": [
      "sciencePsf = scienceExposure.getPsf()\n",
      "\n",
      "\n",
      "#emplateExposure = None  # Stitched coadd exposure\n",
      "templateSources = None   # Sources on the template image"
     ],
     "language": "python",
     "metadata": {},
     "outputs": [],
     "prompt_number": 6
    },
    {
     "cell_type": "code",
     "collapsed": false,
     "input": [
      "ctr = afwGeom.Box2D(scienceExposure.getBBox(afwImage.PARENT)).getCenter()\n",
      "psfAttr = PsfAttributes(sciencePsf, afwGeom.Point2I(ctr))\n",
      "scienceSigmaOrig = psfAttr.computeGaussianWidth(psfAttr.ADAPTIVE_MOMENT)\n",
      "\n",
      "# sigma of PSF of template image before warping\n",
      "ctr = afwGeom.Box2D(templateExposure.getBBox(afwImage.PARENT)).getCenter()\n",
      "psfAttr = PsfAttributes(templateExposure.getPsf(), afwGeom.Point2I(ctr))\n",
      "templateSigma = psfAttr.computeGaussianWidth(psfAttr.ADAPTIVE_MOMENT)"
     ],
     "language": "python",
     "metadata": {},
     "outputs": [],
     "prompt_number": 7
    },
    {
     "cell_type": "markdown",
     "metadata": {},
     "source": [
      "This part is the pre-filtering or pre-convolving of the image"
     ]
    },
    {
     "cell_type": "code",
     "collapsed": false,
     "input": [
      "convControl = afwMath.ConvolutionControl()\n",
      "                # cannot convolve in place, so make a new MI to receive convolved image\n",
      "        \n",
      "\n",
      "srcMI = scienceExposure.getMaskedImage()\n",
      "destMI = srcMI.Factory(srcMI.getDimensions())\n",
      "srcPsf = sciencePsf\n",
      "if useGaussianForPreConvolution:\n",
      "            # convolve with a simplified PSF model: a double Gaussian\n",
      "            kWidth, kHeight = sciencePsf.getLocalKernel().getDimensions()\n",
      "            preConvPsf = SingleGaussianPsf(kWidth, kHeight, scienceSigmaOrig)\n",
      "else:\n",
      "            # convolve with science exposure's PSF model\n",
      "            preConvPsf = psf\n",
      "afwMath.convolve(destMI, srcMI, preConvPsf.getLocalKernel(), convControl)\n",
      "scienceExposure.setMaskedImage(destMI)\n",
      "scienceSigmaPost = scienceSigmaOrig * math.sqrt(2)\n"
     ],
     "language": "python",
     "metadata": {},
     "outputs": [],
     "prompt_number": 8
    },
    {
     "cell_type": "markdown",
     "metadata": {},
     "source": [
      "Source selection part (just in case)."
     ]
    },
    {
     "cell_type": "code",
     "collapsed": false,
     "input": [
      "config = ipDiffim.ImagePsfMatchTask.ConfigClass()\n",
      "config.kernel.name = \"AL\"\n",
      "subconfig = config.kernel.active\n",
      "defFwhm         = None\n",
      "scienceFwhmPix = defFwhm\n",
      "templateFwhmPix = defFwhm\n",
      "psfmatch = ipDiffim.ImagePsfMatchTask(config)\n",
      "\n",
      "selectSources = psfmatch.getSelectSources(\n",
      "                        scienceExposure,\n",
      "                        sigma = scienceSigmaPost,\n",
      "                        doSmooth = not doPreConvolve,\n",
      "                        idFactory = None,)\n",
      "\n"
     ],
     "language": "python",
     "metadata": {},
     "outputs": [],
     "prompt_number": 9
    },
    {
     "cell_type": "code",
     "collapsed": false,
     "input": [
      "IDTask = ImageDifferencer.ImageDifferenceTask\n",
      "IDConfig = IDTask.ConfigClass()\n",
      "IDifTask = IDTask()\n",
      "IDifTask.__init__()\n",
      "#IDifTask.sourceSelector = IDifTask.config.sourceSelector.apply()\n",
      "#IDifTask.schema = afwTable.SourceTable.makeMinimalSchema()\n",
      "#IDifTask.algMetadata = dafBase.PropertyList()"
     ],
     "language": "python",
     "metadata": {},
     "outputs": [],
     "prompt_number": 10
    },
    {
     "cell_type": "code",
     "collapsed": false,
     "input": [
      "astrometer = measAstrom.Astrometry(measAstrom.MeasAstromConfig())\n",
      "astromRet = astrometer.useKnownWcs(selectSources, exposure=scienceExposure)\n",
      "matches = astromRet.matches\n",
      "\n",
      "for m in matches:\n",
      "   m??\n",
      "\n",
      "print m.first.getSchema().getNames()\n",
      "\n",
      "\n",
      "\n"
     ],
     "language": "python",
     "metadata": {},
     "outputs": [
      {
       "output_type": "stream",
       "stream": "stdout",
       "text": [
        "('coord', 'flux', 'flux.err', 'g', 'g.err', 'i', 'i.err', 'id', 'photometric', 'r', 'r.err', 'u', 'u.err', 'z', 'z.err')\n"
       ]
      }
     ],
     "prompt_number": 11
    },
    {
     "cell_type": "code",
     "collapsed": false,
     "input": [
      "#kernelSources = IDifTask.sourceSelector.selectSources(scienceExposure, selectSources, matches=matches)\n",
      "import random\n",
      "kernelSources = selectSources\n",
      "\n",
      "random.shuffle(kernelSources, random.random)"
     ],
     "language": "python",
     "metadata": {},
     "outputs": [],
     "prompt_number": 12
    },
    {
     "cell_type": "code",
     "collapsed": false,
     "input": [
      "\n",
      "\n",
      "stepSize = (int)(IDConfig.controlStepSize)\n",
      "print stepSize"
     ],
     "language": "python",
     "metadata": {},
     "outputs": [
      {
       "output_type": "stream",
       "stream": "stdout",
       "text": [
        "5\n"
       ]
      }
     ],
     "prompt_number": 13
    },
    {
     "cell_type": "code",
     "collapsed": false,
     "input": [
      "controlSources = kernelSources[stepSize]\n",
      "kernelSources = [k for i,k in enumerate(kernelSources) if i % stepSize]"
     ],
     "language": "python",
     "metadata": {},
     "outputs": [],
     "prompt_number": 14
    },
    {
     "cell_type": "code",
     "collapsed": false,
     "input": [
      "allresids = {}\n",
      "templateSources = psfmatch.getSelectSources(\n",
      "                        templateExposure,\n",
      "                        sigma=templateSigma,\n",
      "                        doSmooth=True )\n",
      "\n"
     ],
     "language": "python",
     "metadata": {},
     "outputs": [],
     "prompt_number": 15
    },
    {
     "cell_type": "code",
     "collapsed": false,
     "input": [
      "#displayImage(templateExposure, 1, \"TemplateExp\", path=\"templateExp.png\")\n",
      "#ds9.setMaskTransparency(70)\n",
      "#displayImageWithSources(templateExposure, frame=1, title=\"TemplateExp\", path=\"templateExp.png\", sources=selectSources)\n",
      "#displayImageWithSources(templateExposure, frame=2, title=\"TemplateExp\", path=\"templateExp.png\", sources=templateSources)"
     ],
     "language": "python",
     "metadata": {},
     "outputs": [],
     "prompt_number": 16
    },
    {
     "cell_type": "code",
     "collapsed": false,
     "input": [
      "wcsResults = IDifTask.fitAstrometry(templateSources, templateExposure, selectSources)\n",
      "warpedExp = IDifTask.register.warpExposure(templateExposure, wcsResults.wcs, scienceExposure.getWcs(), scienceExposure.getBBox(afwImage.PARENT))\n",
      "templateExposure = warpedExp\n"
     ],
     "language": "python",
     "metadata": {},
     "outputs": [],
     "prompt_number": 17
    },
    {
     "cell_type": "code",
     "collapsed": false,
     "input": [
      "'''import numpy\n",
      "\n",
      "IqrToSigma = 0.741\n",
      "#Here data crunching\n",
      "srcToMatch = {x.second.getId() : x.first for x in matches}\n",
      "\n",
      "refCoordKey = wcsResults.matches[0].first.getTable().getCoordKey()\n",
      "inCentroidKey = wcsResults.matches[0].second.getTable().getCentroidKey()\n",
      "sids      = [m.first.getId() for m in wcsResults.matches]\n",
      "positions = [m.first.get(refCoordKey) for m in wcsResults.matches]\n",
      "residuals = [m.first.get(refCoordKey).getOffsetFrom(wcsResults.wcs.pixelToSky(m.second.get(inCentroidKey))) for m in wcsResults.matches]\n",
      "allresids = dict(zip(sids, zip(positions, residuals)))\n",
      "\n",
      "cresiduals = [m.first.get(refCoordKey).getTangentPlaneOffset(wcsResults.wcs.pixelToSky(m.second.get(inCentroidKey))) for m in wcsResults.matches]\n",
      "colors    = numpy.array([-2.5*numpy.log10(srcToMatch[x].get(\"g\")) + 2.5*numpy.log10(srcToMatch[x].get(\"r\")) for x in sids if x in srcToMatch.keys()])\n",
      "dlong     = numpy.array([r[0].asArcseconds() for s,r in zip(sids, cresiduals)  if s in srcToMatch.keys()])\n",
      "dlat      = numpy.array([r[1].asArcseconds() for s,r in zip(sids, cresiduals) if s in srcToMatch.keys()])\n",
      "idx1      = numpy.where(colors<IDifTask.sourceSelector.config.grMin)\n",
      "idx2      = numpy.where((colors>=IDifTask.sourceSelector.config.grMin)&(colors<=IDifTask.sourceSelector.config.grMax))\n",
      "idx3      = numpy.where(colors>IDifTask.sourceSelector.config.grMax)\n",
      "rms1Long  = IqrToSigma*(numpy.percentile(dlong[idx1],75)-numpy.percentile(dlong[idx1],25))\n",
      "rms1Lat   = IqrToSigma*(numpy.percentile(dlat[idx1],75)-numpy.percentile(dlat[idx1],25))\n",
      "rms2Long  = IqrToSigma*(numpy.percentile(dlong[idx2],75)-numpy.percentile(dlong[idx2],25))\n",
      "rms2Lat   = IqrToSigma*(numpy.percentile(dlat[idx2],75)-numpy.percentile(dlat[idx2],25))\n",
      "rms3Long  = IqrToSigma*(numpy.percentile(dlong[idx3],75)-numpy.percentile(dlong[idx3],25))\n",
      "rms3Lat   = IqrToSigma*(numpy.percentile(dlat[idx3],75)-numpy.percentile(dlat[idx3],25))\n",
      "print(\"Blue star offsets'': %.3f %.3f, %.3f %.3f\"  % (numpy.median(dlong[idx1]),rms1Long,numpy.median(dlat[idx1]),rms1Lat))\n",
      "print(\"Green star offsets'': %.3f %.3f, %.3f %.3f\"  % (numpy.median(dlong[idx2]),rms2Long,numpy.median(dlat[idx2]), rms2Lat))\n",
      "print(\"Red star offsets'': %.3f %.3f, %.3f %.3f\"  % (numpy.median(dlong[idx3]),rms3Long,numpy.median(dlat[idx3]),rms3Lat))\n",
      "\n",
      "print(\"RegisterBlueLongOffsetMedian\", numpy.median(dlong[idx1]))\n",
      "print(\"RegisterGreenLongOffsetMedian\", numpy.median(dlong[idx2]))\n",
      "print(\"RegisterRedLongOffsetMedian\", numpy.median(dlong[idx3]))\n",
      "print(\"RegisterBlueLongOffsetStd\", rms1Long)\n",
      "print(\"RegisterGreenLongOffsetStd\", rms2Long)\n",
      "print(\"RegisterRedLongOffsetStd\", rms3Long)\n",
      "\n",
      "print(\"RegisterBlueLatOffsetMedian\", numpy.median(dlat[idx1]))\n",
      "print(\"RegisterGreenLatOffsetMedian\", numpy.median(dlat[idx2]))\n",
      "print(\"RegisterRedLatOffsetMedian\", numpy.median(dlat[idx3]))\n",
      "print(\"RegisterBlueLatOffsetStd\", rms1Lat)\n",
      "print(\"RegisterGreenLatOffsetStd\", rms2Lat)\n",
      "print(\"RegisterRedLatOffsetStd\", rms3Lat)'''"
     ],
     "language": "python",
     "metadata": {},
     "outputs": [
      {
       "metadata": {},
       "output_type": "pyout",
       "prompt_number": 18,
       "text": [
        "'import numpy\\n\\nIqrToSigma = 0.741\\n#Here data crunching\\nsrcToMatch = {x.second.getId() : x.first for x in matches}\\n\\nrefCoordKey = wcsResults.matches[0].first.getTable().getCoordKey()\\ninCentroidKey = wcsResults.matches[0].second.getTable().getCentroidKey()\\nsids      = [m.first.getId() for m in wcsResults.matches]\\npositions = [m.first.get(refCoordKey) for m in wcsResults.matches]\\nresiduals = [m.first.get(refCoordKey).getOffsetFrom(wcsResults.wcs.pixelToSky(m.second.get(inCentroidKey))) for m in wcsResults.matches]\\nallresids = dict(zip(sids, zip(positions, residuals)))\\n\\ncresiduals = [m.first.get(refCoordKey).getTangentPlaneOffset(wcsResults.wcs.pixelToSky(m.second.get(inCentroidKey))) for m in wcsResults.matches]\\ncolors    = numpy.array([-2.5*numpy.log10(srcToMatch[x].get(\"g\")) + 2.5*numpy.log10(srcToMatch[x].get(\"r\")) for x in sids if x in srcToMatch.keys()])\\ndlong     = numpy.array([r[0].asArcseconds() for s,r in zip(sids, cresiduals)  if s in srcToMatch.keys()])\\ndlat      = numpy.array([r[1].asArcseconds() for s,r in zip(sids, cresiduals) if s in srcToMatch.keys()])\\nidx1      = numpy.where(colors<IDifTask.sourceSelector.config.grMin)\\nidx2      = numpy.where((colors>=IDifTask.sourceSelector.config.grMin)&(colors<=IDifTask.sourceSelector.config.grMax))\\nidx3      = numpy.where(colors>IDifTask.sourceSelector.config.grMax)\\nrms1Long  = IqrToSigma*(numpy.percentile(dlong[idx1],75)-numpy.percentile(dlong[idx1],25))\\nrms1Lat   = IqrToSigma*(numpy.percentile(dlat[idx1],75)-numpy.percentile(dlat[idx1],25))\\nrms2Long  = IqrToSigma*(numpy.percentile(dlong[idx2],75)-numpy.percentile(dlong[idx2],25))\\nrms2Lat   = IqrToSigma*(numpy.percentile(dlat[idx2],75)-numpy.percentile(dlat[idx2],25))\\nrms3Long  = IqrToSigma*(numpy.percentile(dlong[idx3],75)-numpy.percentile(dlong[idx3],25))\\nrms3Lat   = IqrToSigma*(numpy.percentile(dlat[idx3],75)-numpy.percentile(dlat[idx3],25))\\nprint(\"Blue star offsets\\'\\': %.3f %.3f, %.3f %.3f\"  % (numpy.median(dlong[idx1]),rms1Long,numpy.median(dlat[idx1]),rms1Lat))\\nprint(\"Green star offsets\\'\\': %.3f %.3f, %.3f %.3f\"  % (numpy.median(dlong[idx2]),rms2Long,numpy.median(dlat[idx2]), rms2Lat))\\nprint(\"Red star offsets\\'\\': %.3f %.3f, %.3f %.3f\"  % (numpy.median(dlong[idx3]),rms3Long,numpy.median(dlat[idx3]),rms3Lat))\\n\\nprint(\"RegisterBlueLongOffsetMedian\", numpy.median(dlong[idx1]))\\nprint(\"RegisterGreenLongOffsetMedian\", numpy.median(dlong[idx2]))\\nprint(\"RegisterRedLongOffsetMedian\", numpy.median(dlong[idx3]))\\nprint(\"RegisterBlueLongOffsetStd\", rms1Long)\\nprint(\"RegisterGreenLongOffsetStd\", rms2Long)\\nprint(\"RegisterRedLongOffsetStd\", rms3Long)\\n\\nprint(\"RegisterBlueLatOffsetMedian\", numpy.median(dlat[idx1]))\\nprint(\"RegisterGreenLatOffsetMedian\", numpy.median(dlat[idx2]))\\nprint(\"RegisterRedLatOffsetMedian\", numpy.median(dlat[idx3]))\\nprint(\"RegisterBlueLatOffsetStd\", rms1Lat)\\nprint(\"RegisterGreenLatOffsetStd\", rms2Lat)\\nprint(\"RegisterRedLatOffsetStd\", rms3Lat)'"
       ]
      }
     ],
     "prompt_number": 18
    },
    {
     "cell_type": "code",
     "collapsed": false,
     "input": [
      "FwhmPerSigma = 2 * math.sqrt(2 * math.log(2))\n",
      "\n",
      "subtractRes = IDifTask.subtract.subtractExposures(\n",
      "                templateExposure=templateExposure,\n",
      "                scienceExposure=scienceExposure,\n",
      "                scienceFwhmPix=scienceSigmaPost * FwhmPerSigma,\n",
      "                templateFwhmPix=templateSigma * FwhmPerSigma,\n",
      "                candidateList=kernelSources,\n",
      "                convolveTemplate=IDifTask.config.convolveTemplate,\n",
      "                doWarping=not IDifTask.config.doUseRegister\n",
      "            )\n",
      "subtractedExposure = subtractRes.subtractedExposure\n"
     ],
     "language": "python",
     "metadata": {},
     "outputs": [],
     "prompt_number": 19
    },
    {
     "cell_type": "code",
     "collapsed": false,
     "input": [
      "subtractedExposure.setPsf(scienceExposure.getPsf())\n"
     ],
     "language": "python",
     "metadata": {},
     "outputs": [],
     "prompt_number": 20
    },
    {
     "cell_type": "code",
     "collapsed": false,
     "input": [
      "#displayImage(subtractedExposure, frame=3, title=\"subtracted\", path=\"subtracted.png\" )"
     ],
     "language": "python",
     "metadata": {},
     "outputs": [],
     "prompt_number": 21
    },
    {
     "cell_type": "code",
     "collapsed": false,
     "input": [
      "displayImage(subtractedExposure.getMaskedImage().getImage(), frame=3, title=\"subtracted\", path=\"subtracted.png\" )"
     ],
     "language": "python",
     "metadata": {},
     "outputs": [
      {
       "output_type": "stream",
       "stream": "stdout",
       "text": [
        "subtracted\n"
       ]
      },
      {
       "metadata": {},
       "output_type": "display_data",
       "png": "c3VidHJhY3RlZC5wbmc=\n"
      }
     ],
     "prompt_number": 22
    },
    {
     "cell_type": "code",
     "collapsed": false,
     "input": [
      "mask  = subtractedExposure.getMaskedImage().getMask()\n",
      "mask &= ~(mask.getPlaneBitMask(\"DETECTED\") | mask.getPlaneBitMask(\"DETECTED_NEGATIVE\"))\n",
      "\n",
      "table = afwTable.SourceTable.make(IDifTask.schema)\n",
      "table.setMetadata(IDifTask.algMetadata)\n",
      "results = IDifTask.detection.makeSourceCatalog(\n",
      "                table=table,\n",
      "                exposure=subtractedExposure,\n",
      "                doSmooth=not IDifTask.config.doPreConvolve\n",
      "                )\n"
     ],
     "language": "python",
     "metadata": {},
     "outputs": [],
     "prompt_number": 23
    },
    {
     "cell_type": "code",
     "collapsed": false,
     "input": [
      "#Detection Merging\n",
      "\n",
      "fpSet = results.fpSets.positive\n",
      "fpSet.merge(results.fpSets.negative, IDifTask.config.growFootprint, IDifTask.config.growFootprint, False)\n",
      "diaSources = afwTable.SourceCatalog(table)\n",
      "fpSet.makeSources(diaSources)\n"
     ],
     "language": "python",
     "metadata": {},
     "outputs": [],
     "prompt_number": 24
    },
    {
     "cell_type": "code",
     "collapsed": false,
     "input": [
      "#Source Measurement\n",
      "if len(diaSources) < IDifTask.config.maxDiaSourcesToMeasure:\n",
      "    IDifTask.dipoleMeasurement.run(subtractedExposure, diaSources)\n",
      "else:\n",
      "     IDifTask.measurement.run(subtractedExposure, diaSources)"
     ],
     "language": "python",
     "metadata": {},
     "outputs": [],
     "prompt_number": 25
    },
    {
     "cell_type": "code",
     "collapsed": false,
     "input": [
      "import lsst.daf.persistence as dafPersist\n",
      "\n",
      "butler = dafPersist.Butler(\"/renoir_data_00/jpreyes/stacks/notebook_files/data/CFHTLS/output\")\n",
      "\n",
      "dataid_coadd = {'filter': 'r','ccd': 14, 'visit':853728}\n",
      "\n",
      "\n",
      "butler.datasetExists(\"src\", dataid_coadd)"
     ],
     "language": "python",
     "metadata": {},
     "outputs": [
      {
       "ename": "RuntimeError",
       "evalue": "No unique lookup for ['taiObs', 'extension', 'object', 'state', 'runId', 'date', 'expTime'] from {'filter': 'r', 'ccd': 14, 'visit': 853728}: 0 matches",
       "output_type": "pyerr",
       "traceback": [
        "\u001b[1;31m---------------------------------------------------------------------------\u001b[0m\n\u001b[1;31mRuntimeError\u001b[0m                              Traceback (most recent call last)",
        "\u001b[1;32m<ipython-input-26-a72881070b7f>\u001b[0m in \u001b[0;36m<module>\u001b[1;34m()\u001b[0m\n\u001b[0;32m      6\u001b[0m \u001b[1;33m\u001b[0m\u001b[0m\n\u001b[0;32m      7\u001b[0m \u001b[1;33m\u001b[0m\u001b[0m\n\u001b[1;32m----> 8\u001b[1;33m \u001b[0mbutler\u001b[0m\u001b[1;33m.\u001b[0m\u001b[0mdatasetExists\u001b[0m\u001b[1;33m(\u001b[0m\u001b[1;34m\"src\"\u001b[0m\u001b[1;33m,\u001b[0m \u001b[0mdataid_coadd\u001b[0m\u001b[1;33m)\u001b[0m\u001b[1;33m\u001b[0m\u001b[0m\n\u001b[0m",
        "\u001b[1;32m/renoir_data_00/jpreyes/stacks/v9_2_copy/Linux64/daf_persistence/9.0+7/python/lsst/daf/persistence/butler.pyc\u001b[0m in \u001b[0;36mdatasetExists\u001b[1;34m(self, datasetType, dataId, **rest)\u001b[0m\n\u001b[0;32m    185\u001b[0m \u001b[1;33m\u001b[0m\u001b[0m\n\u001b[0;32m    186\u001b[0m         \u001b[0mdataId\u001b[0m \u001b[1;33m=\u001b[0m \u001b[0mself\u001b[0m\u001b[1;33m.\u001b[0m\u001b[0m_combineDicts\u001b[0m\u001b[1;33m(\u001b[0m\u001b[0mdataId\u001b[0m\u001b[1;33m,\u001b[0m \u001b[1;33m**\u001b[0m\u001b[0mrest\u001b[0m\u001b[1;33m)\u001b[0m\u001b[1;33m\u001b[0m\u001b[0m\n\u001b[1;32m--> 187\u001b[1;33m         \u001b[0mlocation\u001b[0m \u001b[1;33m=\u001b[0m \u001b[0mself\u001b[0m\u001b[1;33m.\u001b[0m\u001b[0mmapper\u001b[0m\u001b[1;33m.\u001b[0m\u001b[0mmap\u001b[0m\u001b[1;33m(\u001b[0m\u001b[0mdatasetType\u001b[0m\u001b[1;33m,\u001b[0m \u001b[0mdataId\u001b[0m\u001b[1;33m)\u001b[0m\u001b[1;33m\u001b[0m\u001b[0m\n\u001b[0m\u001b[0;32m    188\u001b[0m         \u001b[0madditionalData\u001b[0m \u001b[1;33m=\u001b[0m \u001b[0mlocation\u001b[0m\u001b[1;33m.\u001b[0m\u001b[0mgetAdditionalData\u001b[0m\u001b[1;33m(\u001b[0m\u001b[1;33m)\u001b[0m\u001b[1;33m\u001b[0m\u001b[0m\n\u001b[0;32m    189\u001b[0m         \u001b[0mstorageName\u001b[0m \u001b[1;33m=\u001b[0m \u001b[0mlocation\u001b[0m\u001b[1;33m.\u001b[0m\u001b[0mgetStorageName\u001b[0m\u001b[1;33m(\u001b[0m\u001b[1;33m)\u001b[0m\u001b[1;33m\u001b[0m\u001b[0m\n",
        "\u001b[1;32m/renoir_data_00/jpreyes/stacks/v9_2_copy/Linux64/daf_persistence/9.0+7/python/lsst/daf/persistence/mapper.pyc\u001b[0m in \u001b[0;36mmap\u001b[1;34m(self, datasetType, dataId, write)\u001b[0m\n\u001b[0;32m    114\u001b[0m \u001b[1;33m\u001b[0m\u001b[0m\n\u001b[0;32m    115\u001b[0m         \u001b[0mfunc\u001b[0m \u001b[1;33m=\u001b[0m \u001b[0mgetattr\u001b[0m\u001b[1;33m(\u001b[0m\u001b[0mself\u001b[0m\u001b[1;33m,\u001b[0m \u001b[1;34m'map_'\u001b[0m \u001b[1;33m+\u001b[0m \u001b[0mdatasetType\u001b[0m\u001b[1;33m)\u001b[0m\u001b[1;33m\u001b[0m\u001b[0m\n\u001b[1;32m--> 116\u001b[1;33m         \u001b[1;32mreturn\u001b[0m \u001b[0mfunc\u001b[0m\u001b[1;33m(\u001b[0m\u001b[0mself\u001b[0m\u001b[1;33m.\u001b[0m\u001b[0mvalidate\u001b[0m\u001b[1;33m(\u001b[0m\u001b[0mdataId\u001b[0m\u001b[1;33m)\u001b[0m\u001b[1;33m,\u001b[0m \u001b[0mwrite\u001b[0m\u001b[1;33m)\u001b[0m\u001b[1;33m\u001b[0m\u001b[0m\n\u001b[0m\u001b[0;32m    117\u001b[0m \u001b[1;33m\u001b[0m\u001b[0m\n\u001b[0;32m    118\u001b[0m     \u001b[1;32mdef\u001b[0m \u001b[0mcanStandardize\u001b[0m\u001b[1;33m(\u001b[0m\u001b[0mself\u001b[0m\u001b[1;33m,\u001b[0m \u001b[0mdatasetType\u001b[0m\u001b[1;33m)\u001b[0m\u001b[1;33m:\u001b[0m\u001b[1;33m\u001b[0m\u001b[0m\n",
        "\u001b[1;32m/renoir_data_00/jpreyes/stacks/v9_2_copy/Linux64/daf_butlerUtils/9.0+8/python/lsst/daf/butlerUtils/cameraMapper.pyc\u001b[0m in \u001b[0;36mmapClosure\u001b[1;34m(dataId, write, mapper, mapping)\u001b[0m\n\u001b[0;32m    285\u001b[0m                         def mapClosure(dataId, write=False,\n\u001b[0;32m    286\u001b[0m                                 mapper=self, mapping=mapping):\n\u001b[1;32m--> 287\u001b[1;33m                             \u001b[1;32mreturn\u001b[0m \u001b[0mmapping\u001b[0m\u001b[1;33m.\u001b[0m\u001b[0mmap\u001b[0m\u001b[1;33m(\u001b[0m\u001b[0mmapper\u001b[0m\u001b[1;33m,\u001b[0m \u001b[0mdataId\u001b[0m\u001b[1;33m,\u001b[0m \u001b[0mwrite\u001b[0m\u001b[1;33m)\u001b[0m\u001b[1;33m\u001b[0m\u001b[0m\n\u001b[0m\u001b[0;32m    288\u001b[0m                         \u001b[0msetattr\u001b[0m\u001b[1;33m(\u001b[0m\u001b[0mself\u001b[0m\u001b[1;33m,\u001b[0m \u001b[1;34m\"map_\"\u001b[0m \u001b[1;33m+\u001b[0m \u001b[0mdatasetType\u001b[0m\u001b[1;33m,\u001b[0m \u001b[0mmapClosure\u001b[0m\u001b[1;33m)\u001b[0m\u001b[1;33m\u001b[0m\u001b[0m\n\u001b[0;32m    289\u001b[0m                     \u001b[1;32mif\u001b[0m \u001b[1;32mnot\u001b[0m \u001b[0mhasattr\u001b[0m\u001b[1;33m(\u001b[0m\u001b[0mself\u001b[0m\u001b[1;33m,\u001b[0m \u001b[1;34m\"query_\"\u001b[0m \u001b[1;33m+\u001b[0m \u001b[0mdatasetType\u001b[0m\u001b[1;33m)\u001b[0m\u001b[1;33m:\u001b[0m\u001b[1;33m\u001b[0m\u001b[0m\n",
        "\u001b[1;32m/renoir_data_00/jpreyes/stacks/v9_2_copy/Linux64/daf_butlerUtils/9.0+8/python/lsst/daf/butlerUtils/mapping.pyc\u001b[0m in \u001b[0;36mmap\u001b[1;34m(self, mapper, dataId, write)\u001b[0m\n\u001b[0;32m    116\u001b[0m         @return (lsst.daf.persistence.ButlerLocation)\"\"\"\n\u001b[0;32m    117\u001b[0m \u001b[1;33m\u001b[0m\u001b[0m\n\u001b[1;32m--> 118\u001b[1;33m         \u001b[0mactualId\u001b[0m \u001b[1;33m=\u001b[0m \u001b[0mself\u001b[0m\u001b[1;33m.\u001b[0m\u001b[0mneed\u001b[0m\u001b[1;33m(\u001b[0m\u001b[0mself\u001b[0m\u001b[1;33m.\u001b[0m\u001b[0mkeyDict\u001b[0m\u001b[1;33m.\u001b[0m\u001b[0miterkeys\u001b[0m\u001b[1;33m(\u001b[0m\u001b[1;33m)\u001b[0m\u001b[1;33m,\u001b[0m \u001b[0mdataId\u001b[0m\u001b[1;33m)\u001b[0m\u001b[1;33m\u001b[0m\u001b[0m\n\u001b[0m\u001b[0;32m    119\u001b[0m         \u001b[0mpath\u001b[0m \u001b[1;33m=\u001b[0m \u001b[0mmapper\u001b[0m\u001b[1;33m.\u001b[0m\u001b[0m_mapActualToPath\u001b[0m\u001b[1;33m(\u001b[0m\u001b[0mself\u001b[0m\u001b[1;33m.\u001b[0m\u001b[0mtemplate\u001b[0m\u001b[1;33m,\u001b[0m \u001b[0mactualId\u001b[0m\u001b[1;33m)\u001b[0m\u001b[1;33m\u001b[0m\u001b[0m\n\u001b[0;32m    120\u001b[0m         \u001b[1;32mif\u001b[0m \u001b[1;32mnot\u001b[0m \u001b[0mos\u001b[0m\u001b[1;33m.\u001b[0m\u001b[0mpath\u001b[0m\u001b[1;33m.\u001b[0m\u001b[0misabs\u001b[0m\u001b[1;33m(\u001b[0m\u001b[0mpath\u001b[0m\u001b[1;33m)\u001b[0m\u001b[1;33m:\u001b[0m\u001b[1;33m\u001b[0m\u001b[0m\n",
        "\u001b[1;32m/renoir_data_00/jpreyes/stacks/v9_2_copy/Linux64/daf_butlerUtils/9.0+8/python/lsst/daf/butlerUtils/mapping.pyc\u001b[0m in \u001b[0;36mneed\u001b[1;34m(self, properties, dataId)\u001b[0m\n\u001b[0;32m    199\u001b[0m         \u001b[0mlookups\u001b[0m \u001b[1;33m=\u001b[0m \u001b[0mself\u001b[0m\u001b[1;33m.\u001b[0m\u001b[0mlookup\u001b[0m\u001b[1;33m(\u001b[0m\u001b[0mnewProps\u001b[0m\u001b[1;33m,\u001b[0m \u001b[0mnewId\u001b[0m\u001b[1;33m)\u001b[0m\u001b[1;33m\u001b[0m\u001b[0m\n\u001b[0;32m    200\u001b[0m         \u001b[1;32mif\u001b[0m \u001b[0mlen\u001b[0m\u001b[1;33m(\u001b[0m\u001b[0mlookups\u001b[0m\u001b[1;33m)\u001b[0m \u001b[1;33m!=\u001b[0m \u001b[1;36m1\u001b[0m\u001b[1;33m:\u001b[0m\u001b[1;33m\u001b[0m\u001b[0m\n\u001b[1;32m--> 201\u001b[1;33m             \u001b[1;32mraise\u001b[0m \u001b[0mRuntimeError\u001b[0m\u001b[1;33m,\u001b[0m \u001b[1;34m\"No unique lookup for %s from %s: %d matches\"\u001b[0m \u001b[1;33m%\u001b[0m \u001b[1;33m(\u001b[0m\u001b[0mnewProps\u001b[0m\u001b[1;33m,\u001b[0m \u001b[0mnewId\u001b[0m\u001b[1;33m,\u001b[0m \u001b[0mlen\u001b[0m\u001b[1;33m(\u001b[0m\u001b[0mlookups\u001b[0m\u001b[1;33m)\u001b[0m\u001b[1;33m)\u001b[0m\u001b[1;33m\u001b[0m\u001b[0m\n\u001b[0m\u001b[0;32m    202\u001b[0m         \u001b[1;32mfor\u001b[0m \u001b[0mi\u001b[0m\u001b[1;33m,\u001b[0m \u001b[0mprop\u001b[0m \u001b[1;32min\u001b[0m \u001b[0menumerate\u001b[0m\u001b[1;33m(\u001b[0m\u001b[0mnewProps\u001b[0m\u001b[1;33m)\u001b[0m\u001b[1;33m:\u001b[0m\u001b[1;33m\u001b[0m\u001b[0m\n\u001b[0;32m    203\u001b[0m             \u001b[0mnewId\u001b[0m\u001b[1;33m[\u001b[0m\u001b[0mprop\u001b[0m\u001b[1;33m]\u001b[0m \u001b[1;33m=\u001b[0m \u001b[0mlookups\u001b[0m\u001b[1;33m[\u001b[0m\u001b[1;36m0\u001b[0m\u001b[1;33m]\u001b[0m\u001b[1;33m[\u001b[0m\u001b[0mi\u001b[0m\u001b[1;33m]\u001b[0m\u001b[1;33m\u001b[0m\u001b[0m\n",
        "\u001b[1;31mRuntimeError\u001b[0m: No unique lookup for ['taiObs', 'extension', 'object', 'state', 'runId', 'date', 'expTime'] from {'filter': 'r', 'ccd': 14, 'visit': 853728}: 0 matches"
       ]
      }
     ],
     "prompt_number": 26
    },
    {
     "cell_type": "code",
     "collapsed": false,
     "input": [
      "if IDifTask.config.doMatchSources:\n",
      "            if butler.datasetExists(\"src\"):\n",
      " \n",
      "                    matchRadAsec = IDifTask.config.diaSourceMatchRadius\n",
      "                    matchRadPixel = matchRadAsec / exposure.getWcs().pixelScale().asArcseconds()\n",
      "\n",
      "                    srcMatches = afwTable.matchXy(sensorRef.get(\"src\"), diaSources, matchRadPixel, True)\n",
      "                    srcMatchDict = dict([(srcMatch.second.getId(), srcMatch.first.getId()) for \n",
      "                                         srcMatch in srcMatches])\n",
      "                    \n",
      "else:\n",
      "                    IDifTask.log.warn(\"Src product does not exist; cannot match with diaSources\")\n",
      "                    srcMatchDict = {}\n",
      "\n",
      " "
     ],
     "language": "python",
     "metadata": {},
     "outputs": []
    },
    {
     "cell_type": "code",
     "collapsed": false,
     "input": [
      "               \n",
      "astrometer = measAstrom.Astrometry(measAstrom.MeasAstromConfig(catalogMatchDist=matchRadAsec))\n",
      "astromRet = astrometer.useKnownWcs(diaSources, exposure=exposure)\n",
      "refMatches = astromRet.matches\n",
      "\n",
      "if refMatches is None:\n",
      "        print(\"No diaSource matches with reference catalog\")\n",
      "        refMatchDict = {}\n",
      "else:\n",
      "        prinbt(\"Matched %d / %d diaSources to reference catalog\" % (len(refMatches), len(diaSources)))\n",
      "        refMatchDict = dict([(refMatch.second.getId(), refMatch.first.getId()) for refMatch in refMatches])"
     ],
     "language": "python",
     "metadata": {},
     "outputs": [
      {
       "ename": "NameError",
       "evalue": "name 'matchRadAsec' is not defined",
       "output_type": "pyerr",
       "traceback": [
        "\u001b[1;31m---------------------------------------------------------------------------\u001b[0m\n\u001b[1;31mNameError\u001b[0m                                 Traceback (most recent call last)",
        "\u001b[1;32m<ipython-input-69-f938a8fbd3c0>\u001b[0m in \u001b[0;36m<module>\u001b[1;34m()\u001b[0m\n\u001b[0;32m      1\u001b[0m \u001b[1;33m\u001b[0m\u001b[0m\n\u001b[1;32m----> 2\u001b[1;33m \u001b[0mastrometer\u001b[0m \u001b[1;33m=\u001b[0m \u001b[0mmeasAstrom\u001b[0m\u001b[1;33m.\u001b[0m\u001b[0mAstrometry\u001b[0m\u001b[1;33m(\u001b[0m\u001b[0mmeasAstrom\u001b[0m\u001b[1;33m.\u001b[0m\u001b[0mMeasAstromConfig\u001b[0m\u001b[1;33m(\u001b[0m\u001b[0mcatalogMatchDist\u001b[0m\u001b[1;33m=\u001b[0m\u001b[0mmatchRadAsec\u001b[0m\u001b[1;33m)\u001b[0m\u001b[1;33m)\u001b[0m\u001b[1;33m\u001b[0m\u001b[0m\n\u001b[0m\u001b[0;32m      3\u001b[0m \u001b[0mastromRet\u001b[0m \u001b[1;33m=\u001b[0m \u001b[0mastrometer\u001b[0m\u001b[1;33m.\u001b[0m\u001b[0museKnownWcs\u001b[0m\u001b[1;33m(\u001b[0m\u001b[0mdiaSources\u001b[0m\u001b[1;33m,\u001b[0m \u001b[0mexposure\u001b[0m\u001b[1;33m=\u001b[0m\u001b[0mexposure\u001b[0m\u001b[1;33m)\u001b[0m\u001b[1;33m\u001b[0m\u001b[0m\n\u001b[0;32m      4\u001b[0m \u001b[0mrefMatches\u001b[0m \u001b[1;33m=\u001b[0m \u001b[0mastromRet\u001b[0m\u001b[1;33m.\u001b[0m\u001b[0mmatches\u001b[0m\u001b[1;33m\u001b[0m\u001b[0m\n\u001b[0;32m      5\u001b[0m \u001b[1;33m\u001b[0m\u001b[0m\n",
        "\u001b[1;31mNameError\u001b[0m: name 'matchRadAsec' is not defined"
       ]
      }
     ],
     "prompt_number": 69
    },
    {
     "cell_type": "code",
     "collapsed": false,
     "input": [
      "# Assign source Ids\n",
      "for diaSource in diaSources:\n",
      "    sid = diaSource.getId()\n",
      "    if srcMatchDict.has_key(sid):\n",
      "       diaSource.set(\"srcMatchId\", srcMatchDict[sid])\n",
      "    if refMatchDict.has_key(sid):\n",
      "       diaSource.set(\"refMatchId\", refMatchDict[sid])"
     ],
     "language": "python",
     "metadata": {},
     "outputs": [
      {
       "ename": "NameError",
       "evalue": "name 'srcMatchDict' is not defined",
       "output_type": "pyerr",
       "traceback": [
        "\u001b[1;31m---------------------------------------------------------------------------\u001b[0m\n\u001b[1;31mNameError\u001b[0m                                 Traceback (most recent call last)",
        "\u001b[1;32m<ipython-input-43-2e83bcf6139c>\u001b[0m in \u001b[0;36m<module>\u001b[1;34m()\u001b[0m\n\u001b[0;32m      2\u001b[0m \u001b[1;32mfor\u001b[0m \u001b[0mdiaSource\u001b[0m \u001b[1;32min\u001b[0m \u001b[0mdiaSources\u001b[0m\u001b[1;33m:\u001b[0m\u001b[1;33m\u001b[0m\u001b[0m\n\u001b[0;32m      3\u001b[0m     \u001b[0msid\u001b[0m \u001b[1;33m=\u001b[0m \u001b[0mdiaSource\u001b[0m\u001b[1;33m.\u001b[0m\u001b[0mgetId\u001b[0m\u001b[1;33m(\u001b[0m\u001b[1;33m)\u001b[0m\u001b[1;33m\u001b[0m\u001b[0m\n\u001b[1;32m----> 4\u001b[1;33m     \u001b[1;32mif\u001b[0m \u001b[0msrcMatchDict\u001b[0m\u001b[1;33m.\u001b[0m\u001b[0mhas_key\u001b[0m\u001b[1;33m(\u001b[0m\u001b[0msid\u001b[0m\u001b[1;33m)\u001b[0m\u001b[1;33m:\u001b[0m\u001b[1;33m\u001b[0m\u001b[0m\n\u001b[0m\u001b[0;32m      5\u001b[0m        \u001b[0mdiaSource\u001b[0m\u001b[1;33m.\u001b[0m\u001b[0mset\u001b[0m\u001b[1;33m(\u001b[0m\u001b[1;34m\"srcMatchId\"\u001b[0m\u001b[1;33m,\u001b[0m \u001b[0msrcMatchDict\u001b[0m\u001b[1;33m[\u001b[0m\u001b[0msid\u001b[0m\u001b[1;33m]\u001b[0m\u001b[1;33m)\u001b[0m\u001b[1;33m\u001b[0m\u001b[0m\n\u001b[0;32m      6\u001b[0m     \u001b[1;32mif\u001b[0m \u001b[0mrefMatchDict\u001b[0m\u001b[1;33m.\u001b[0m\u001b[0mhas_key\u001b[0m\u001b[1;33m(\u001b[0m\u001b[0msid\u001b[0m\u001b[1;33m)\u001b[0m\u001b[1;33m:\u001b[0m\u001b[1;33m\u001b[0m\u001b[0m\n",
        "\u001b[1;31mNameError\u001b[0m: name 'srcMatchDict' is not defined"
       ]
      }
     ],
     "prompt_number": 43
    },
    {
     "cell_type": "code",
     "collapsed": false,
     "input": [
      "if diaSources is not None and self.config.doWriteSources:\n",
      "                #sensorRef.put(diaSources, self.config.coaddName + \"Diff_diaSrc\")\n",
      "\n",
      "    if self.config.doAddMetrics and self.config.doSelectSources:\n",
      "        print(\"Evaluating metrics and control sample\")\n",
      "        kernelCandList = []\n",
      "        for cell in subtractRes.kernelCellSet.getCellList():\n",
      "                for cand in cell.begin(False): # include bad candidates\n",
      "                    kernelCandList.append(cast_KernelCandidateF(cand))\n",
      "\n",
      "                # Get basis list to build control sample kernels\n",
      "                basisList = afwMath.cast_LinearCombinationKernel(kernelCandList[0].getKernel(KernelCandidateF.ORIG)).getKernelList()\n",
      "\n",
      "                controlCandList = diffimTools.sourceTableToCandidateList(controlSources, \n",
      "                                                           subtractRes.warpedExposure, exposure,\n",
      "                                                           self.config.subtract.kernel.active,\n",
      "                                                           self.config.subtract.kernel.active.detectionConfig,\n",
      "                                                           self.log, doBuild=True, basisList=basisList)\n",
      "\n",
      "           "
     ],
     "language": "python",
     "metadata": {},
     "outputs": []
    },
    {
     "cell_type": "code",
     "collapsed": false,
     "input": [
      "return pipeBase.Struct(\n",
      "            subtractedExposure=subtractedExposure,\n",
      "            subtractRes=subtractRes,\n",
      "            sources=diaSources,\n",
      "        )"
     ],
     "language": "python",
     "metadata": {},
     "outputs": []
    }
   ],
   "metadata": {}
  }
 ]
}