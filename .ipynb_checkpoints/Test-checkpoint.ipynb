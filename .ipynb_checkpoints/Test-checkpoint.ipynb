{
 "metadata": {
  "name": ""
 },
 "nbformat": 3,
 "nbformat_minor": 0,
 "worksheets": [
  {
   "cells": [
    {
     "cell_type": "code",
     "collapsed": false,
     "input": [
      "import glob\n",
      "import os\n",
      "import subprocess\n",
      "import sys\n",
      "\n",
      "\n",
      "import lsst.pipe.tasks.subtractImages as Subtracter\n",
      "import lsst.pipe.tasks.imageDifference as Differencer  \n",
      "import lsst.daf.persistence as dafPersist\n",
      "\n",
      "import lsst.afw.image as afwImage\n",
      "import lsst.meas.algorithms as measAlg\n",
      "import lsst.ip.diffim as ipDiffim\n",
      "import lsst.ip.diffim.diffimTools as diffimTools\n",
      "\n",
      "from lsst.daf.persistence import StorageList, LogicalLocation, ReadProxy, ButlerSubset, ButlerDataRef\n",
      "\n",
      "\n",
      "import lsst.daf.base as dafBase\n",
      "from lsst.meas.astrom import Astrometry\n",
      "import lsst.afw.cameraGeom as cg\n",
      "import lsst.afw.geom as afwGeom\n",
      "import math\n",
      "import lsst.afw.display.ds9 as ds9\n",
      "import lsst.afw.image as afwImg\n",
      "import lsst.afw.table as afwTable"
     ],
     "language": "python",
     "metadata": {},
     "outputs": [],
     "prompt_number": 1
    },
    {
     "cell_type": "code",
     "collapsed": false,
     "input": [
      "DATADIR1 = \"/renoir_data_00/jpreyes/stacks/notebook_files/data/CFHTLS\"\n",
      "DATADIR2 = \"/renoir_data_00/jpreyes/stacks/notebook_files/data/CFHTLS_Sub1\"\n",
      "\n",
      "\n",
      "butler = dafPersist.Butler(DATADIR1+\"/output\")"
     ],
     "language": "python",
     "metadata": {},
     "outputs": [],
     "prompt_number": 2
    },
    {
     "cell_type": "code",
     "collapsed": false,
     "input": [
      "\n",
      "SubtractTask = Subtracter.SubtractImagesTask\n",
      "#SubtractTask.parseAndRun(args=[\"-c\"])\n",
      "%tb\n",
      "SubtractTask.parseAndRun(args=((DATADIR1+\"/output %tb --show data \").split()))  "
     ],
     "language": "python",
     "metadata": {},
     "outputs": [
      {
       "ename": "SystemExit",
       "evalue": "2",
       "output_type": "pyerr",
       "traceback": [
        "\u001b[1;31m---------------------------------------------------------------------------\u001b[0m\n\u001b[1;31mSystemExit\u001b[0m                                Traceback (most recent call last)",
        "\u001b[1;32m<ipython-input-7-5c3a6e7848b0>\u001b[0m in \u001b[0;36m<module>\u001b[1;34m()\u001b[0m\n\u001b[0;32m      3\u001b[0m \u001b[1;31m#SubtractTask.parseAndRun(args=[\"-c\"])\u001b[0m\u001b[1;33m\u001b[0m\u001b[1;33m\u001b[0m\u001b[0m\n\u001b[0;32m      4\u001b[0m \u001b[0mget_ipython\u001b[0m\u001b[1;33m(\u001b[0m\u001b[1;33m)\u001b[0m\u001b[1;33m.\u001b[0m\u001b[0mmagic\u001b[0m\u001b[1;33m(\u001b[0m\u001b[1;34mu'tb'\u001b[0m\u001b[1;33m)\u001b[0m\u001b[1;33m\u001b[0m\u001b[0m\n\u001b[1;32m----> 5\u001b[1;33m \u001b[0mSubtractTask\u001b[0m\u001b[1;33m.\u001b[0m\u001b[0mparseAndRun\u001b[0m\u001b[1;33m(\u001b[0m\u001b[0margs\u001b[0m\u001b[1;33m=\u001b[0m\u001b[1;33m(\u001b[0m\u001b[1;33m(\u001b[0m\u001b[0mDATADIR1\u001b[0m\u001b[1;33m+\u001b[0m\u001b[1;34m\"/output %tb --show data \"\u001b[0m\u001b[1;33m)\u001b[0m\u001b[1;33m.\u001b[0m\u001b[0msplit\u001b[0m\u001b[1;33m(\u001b[0m\u001b[1;33m)\u001b[0m\u001b[1;33m)\u001b[0m\u001b[1;33m)\u001b[0m\u001b[1;33m\u001b[0m\u001b[0m\n\u001b[0m",
        "\u001b[1;32m/renoir_data_00/jpreyes/stacks/v9_2_copy/Linux64/pipe_base/9.2/python/lsst/pipe/base/cmdLineTask.pyc\u001b[0m in \u001b[0;36mparseAndRun\u001b[1;34m(cls, args, config, log, doReturnResults)\u001b[0m\n\u001b[0;32m    432\u001b[0m         \u001b[1;32mif\u001b[0m \u001b[0mconfig\u001b[0m \u001b[1;32mis\u001b[0m \u001b[0mNone\u001b[0m\u001b[1;33m:\u001b[0m\u001b[1;33m\u001b[0m\u001b[0m\n\u001b[0;32m    433\u001b[0m             \u001b[0mconfig\u001b[0m \u001b[1;33m=\u001b[0m \u001b[0mcls\u001b[0m\u001b[1;33m.\u001b[0m\u001b[0mConfigClass\u001b[0m\u001b[1;33m(\u001b[0m\u001b[1;33m)\u001b[0m\u001b[1;33m\u001b[0m\u001b[0m\n\u001b[1;32m--> 434\u001b[1;33m         \u001b[0mparsedCmd\u001b[0m \u001b[1;33m=\u001b[0m \u001b[0margumentParser\u001b[0m\u001b[1;33m.\u001b[0m\u001b[0mparse_args\u001b[0m\u001b[1;33m(\u001b[0m\u001b[0mconfig\u001b[0m\u001b[1;33m=\u001b[0m\u001b[0mconfig\u001b[0m\u001b[1;33m,\u001b[0m \u001b[0margs\u001b[0m\u001b[1;33m=\u001b[0m\u001b[0margs\u001b[0m\u001b[1;33m,\u001b[0m \u001b[0mlog\u001b[0m\u001b[1;33m=\u001b[0m\u001b[0mlog\u001b[0m\u001b[1;33m,\u001b[0m \u001b[0moverride\u001b[0m\u001b[1;33m=\u001b[0m\u001b[0mcls\u001b[0m\u001b[1;33m.\u001b[0m\u001b[0mapplyOverrides\u001b[0m\u001b[1;33m)\u001b[0m\u001b[1;33m\u001b[0m\u001b[0m\n\u001b[0m\u001b[0;32m    435\u001b[0m         \u001b[0mtaskRunner\u001b[0m \u001b[1;33m=\u001b[0m \u001b[0mcls\u001b[0m\u001b[1;33m.\u001b[0m\u001b[0mRunnerClass\u001b[0m\u001b[1;33m(\u001b[0m\u001b[0mTaskClass\u001b[0m\u001b[1;33m=\u001b[0m\u001b[0mcls\u001b[0m\u001b[1;33m,\u001b[0m \u001b[0mparsedCmd\u001b[0m\u001b[1;33m=\u001b[0m\u001b[0mparsedCmd\u001b[0m\u001b[1;33m,\u001b[0m \u001b[0mdoReturnResults\u001b[0m\u001b[1;33m=\u001b[0m\u001b[0mdoReturnResults\u001b[0m\u001b[1;33m)\u001b[0m\u001b[1;33m\u001b[0m\u001b[0m\n\u001b[0;32m    436\u001b[0m         \u001b[0mresultList\u001b[0m \u001b[1;33m=\u001b[0m \u001b[0mtaskRunner\u001b[0m\u001b[1;33m.\u001b[0m\u001b[0mrun\u001b[0m\u001b[1;33m(\u001b[0m\u001b[0mparsedCmd\u001b[0m\u001b[1;33m)\u001b[0m\u001b[1;33m\u001b[0m\u001b[0m\n",
        "\u001b[1;32m/renoir_data_00/jpreyes/stacks/v9_2_copy/Linux64/pipe_base/9.2/python/lsst/pipe/base/argumentParser.pyc\u001b[0m in \u001b[0;36mparse_args\u001b[1;34m(self, config, args, log, override)\u001b[0m\n\u001b[0;32m    367\u001b[0m             \u001b[0msetattr\u001b[0m\u001b[1;33m(\u001b[0m\u001b[0mnamespace\u001b[0m\u001b[1;33m,\u001b[0m \u001b[0mdataIdArgument\u001b[0m\u001b[1;33m.\u001b[0m\u001b[0mname\u001b[0m\u001b[1;33m,\u001b[0m \u001b[0mdataIdArgument\u001b[0m\u001b[1;33m.\u001b[0m\u001b[0mContainerClass\u001b[0m\u001b[1;33m(\u001b[0m\u001b[0mlevel\u001b[0m\u001b[1;33m=\u001b[0m\u001b[0mdataIdArgument\u001b[0m\u001b[1;33m.\u001b[0m\u001b[0mlevel\u001b[0m\u001b[1;33m)\u001b[0m\u001b[1;33m)\u001b[0m\u001b[1;33m\u001b[0m\u001b[0m\n\u001b[0;32m    368\u001b[0m \u001b[1;33m\u001b[0m\u001b[0m\n\u001b[1;32m--> 369\u001b[1;33m         \u001b[0mnamespace\u001b[0m \u001b[1;33m=\u001b[0m \u001b[0margparse\u001b[0m\u001b[1;33m.\u001b[0m\u001b[0mArgumentParser\u001b[0m\u001b[1;33m.\u001b[0m\u001b[0mparse_args\u001b[0m\u001b[1;33m(\u001b[0m\u001b[0mself\u001b[0m\u001b[1;33m,\u001b[0m \u001b[0margs\u001b[0m\u001b[1;33m=\u001b[0m\u001b[0margs\u001b[0m\u001b[1;33m,\u001b[0m \u001b[0mnamespace\u001b[0m\u001b[1;33m=\u001b[0m\u001b[0mnamespace\u001b[0m\u001b[1;33m)\u001b[0m\u001b[1;33m\u001b[0m\u001b[0m\n\u001b[0m\u001b[0;32m    370\u001b[0m \u001b[1;33m\u001b[0m\u001b[0m\n\u001b[0;32m    371\u001b[0m         \u001b[0mnamespace\u001b[0m\u001b[1;33m.\u001b[0m\u001b[0minput\u001b[0m \u001b[1;33m=\u001b[0m \u001b[0minputRoot\u001b[0m\u001b[1;33m\u001b[0m\u001b[0m\n",
        "\u001b[1;32m/renoir_data_00/jpreyes/stacks/v9_2_copy/Linux64/anaconda/1.8.0/lib/python2.7/argparse.pyc\u001b[0m in \u001b[0;36mparse_args\u001b[1;34m(self, args, namespace)\u001b[0m\n\u001b[0;32m   1689\u001b[0m         \u001b[1;32mif\u001b[0m \u001b[0margv\u001b[0m\u001b[1;33m:\u001b[0m\u001b[1;33m\u001b[0m\u001b[0m\n\u001b[0;32m   1690\u001b[0m             \u001b[0mmsg\u001b[0m \u001b[1;33m=\u001b[0m \u001b[0m_\u001b[0m\u001b[1;33m(\u001b[0m\u001b[1;34m'unrecognized arguments: %s'\u001b[0m\u001b[1;33m)\u001b[0m\u001b[1;33m\u001b[0m\u001b[0m\n\u001b[1;32m-> 1691\u001b[1;33m             \u001b[0mself\u001b[0m\u001b[1;33m.\u001b[0m\u001b[0merror\u001b[0m\u001b[1;33m(\u001b[0m\u001b[0mmsg\u001b[0m \u001b[1;33m%\u001b[0m \u001b[1;34m' '\u001b[0m\u001b[1;33m.\u001b[0m\u001b[0mjoin\u001b[0m\u001b[1;33m(\u001b[0m\u001b[0margv\u001b[0m\u001b[1;33m)\u001b[0m\u001b[1;33m)\u001b[0m\u001b[1;33m\u001b[0m\u001b[0m\n\u001b[0m\u001b[0;32m   1692\u001b[0m         \u001b[1;32mreturn\u001b[0m \u001b[0margs\u001b[0m\u001b[1;33m\u001b[0m\u001b[0m\n\u001b[0;32m   1693\u001b[0m \u001b[1;33m\u001b[0m\u001b[0m\n",
        "\u001b[1;32m/renoir_data_00/jpreyes/stacks/v9_2_copy/Linux64/anaconda/1.8.0/lib/python2.7/argparse.pyc\u001b[0m in \u001b[0;36merror\u001b[1;34m(self, message)\u001b[0m\n\u001b[0;32m   2359\u001b[0m         \"\"\"\n\u001b[0;32m   2360\u001b[0m         \u001b[0mself\u001b[0m\u001b[1;33m.\u001b[0m\u001b[0mprint_usage\u001b[0m\u001b[1;33m(\u001b[0m\u001b[0m_sys\u001b[0m\u001b[1;33m.\u001b[0m\u001b[0mstderr\u001b[0m\u001b[1;33m)\u001b[0m\u001b[1;33m\u001b[0m\u001b[0m\n\u001b[1;32m-> 2361\u001b[1;33m         \u001b[0mself\u001b[0m\u001b[1;33m.\u001b[0m\u001b[0mexit\u001b[0m\u001b[1;33m(\u001b[0m\u001b[1;36m2\u001b[0m\u001b[1;33m,\u001b[0m \u001b[0m_\u001b[0m\u001b[1;33m(\u001b[0m\u001b[1;34m'%s: error: %s\\n'\u001b[0m\u001b[1;33m)\u001b[0m \u001b[1;33m%\u001b[0m \u001b[1;33m(\u001b[0m\u001b[0mself\u001b[0m\u001b[1;33m.\u001b[0m\u001b[0mprog\u001b[0m\u001b[1;33m,\u001b[0m \u001b[0mmessage\u001b[0m\u001b[1;33m)\u001b[0m\u001b[1;33m)\u001b[0m\u001b[1;33m\u001b[0m\u001b[0m\n\u001b[0m",
        "\u001b[1;32m/renoir_data_00/jpreyes/stacks/v9_2_copy/Linux64/anaconda/1.8.0/lib/python2.7/argparse.pyc\u001b[0m in \u001b[0;36mexit\u001b[1;34m(self, status, message)\u001b[0m\n\u001b[0;32m   2347\u001b[0m         \u001b[1;32mif\u001b[0m \u001b[0mmessage\u001b[0m\u001b[1;33m:\u001b[0m\u001b[1;33m\u001b[0m\u001b[0m\n\u001b[0;32m   2348\u001b[0m             \u001b[0mself\u001b[0m\u001b[1;33m.\u001b[0m\u001b[0m_print_message\u001b[0m\u001b[1;33m(\u001b[0m\u001b[0mmessage\u001b[0m\u001b[1;33m,\u001b[0m \u001b[0m_sys\u001b[0m\u001b[1;33m.\u001b[0m\u001b[0mstderr\u001b[0m\u001b[1;33m)\u001b[0m\u001b[1;33m\u001b[0m\u001b[0m\n\u001b[1;32m-> 2349\u001b[1;33m         \u001b[0m_sys\u001b[0m\u001b[1;33m.\u001b[0m\u001b[0mexit\u001b[0m\u001b[1;33m(\u001b[0m\u001b[0mstatus\u001b[0m\u001b[1;33m)\u001b[0m\u001b[1;33m\u001b[0m\u001b[0m\n\u001b[0m\u001b[0;32m   2350\u001b[0m \u001b[1;33m\u001b[0m\u001b[0m\n\u001b[0;32m   2351\u001b[0m     \u001b[1;32mdef\u001b[0m \u001b[0merror\u001b[0m\u001b[1;33m(\u001b[0m\u001b[0mself\u001b[0m\u001b[1;33m,\u001b[0m \u001b[0mmessage\u001b[0m\u001b[1;33m)\u001b[0m\u001b[1;33m:\u001b[0m\u001b[1;33m\u001b[0m\u001b[0m\n",
        "\u001b[1;31mSystemExit\u001b[0m: 2"
       ]
      },
      {
       "ename": "SystemExit",
       "evalue": "2",
       "output_type": "pyerr",
       "traceback": [
        "An exception has occurred, use %tb to see the full traceback.\n",
        "\u001b[1;31mSystemExit\u001b[0m\u001b[1;31m:\u001b[0m 2\n"
       ]
      },
      {
       "output_type": "stream",
       "stream": "stderr",
       "text": [
        "usage: -c input [options]\n",
        "-c: error: unrecognized arguments: %tb\n",
        "To exit: use 'exit', 'quit', or Ctrl-D.\n"
       ]
      }
     ],
     "prompt_number": 8
    },
    {
     "cell_type": "code",
     "collapsed": false,
     "input": [
      "  "
     ],
     "language": "python",
     "metadata": {},
     "outputs": [],
     "prompt_number": 7
    },
    {
     "cell_type": "code",
     "collapsed": false,
     "input": [
      "DifferenceTask = Differencer.ImageDifferenceTask\n",
      "DifferenceTask.parseAndRun((DATADIR1+\"/input --output \"+DATADIR2+\"/output --id ccd=0^1^2^9^10^11\").split())"
     ],
     "language": "python",
     "metadata": {},
     "outputs": [
      {
       "output_type": "stream",
       "stream": "stdout",
       "text": [
        "Parsing and run...\n"
       ]
      },
      {
       "metadata": {},
       "output_type": "pyout",
       "prompt_number": 4,
       "text": [
        "Struct(taskRunner=<lsst.pipe.base.cmdLineTask.TaskRunner object at 0x5ba4c50>; parsedCmd=Namespace(butler=<lsst.daf.persistence.butler.Butler object at 0x5623950>, calib=None, camera='megacam', clobberConfig=False, clobberOutput=False, config=lsst.pipe.tasks.imageDifference.ImageDifferenceConfig(register={'sipOrder': 4, 'warper': {'warpingKernelName': 'lanczos4', 'interpLength': 10, 'cacheSize': 0, 'devicePreference': 0, 'maskWarpingKernelName': 'bilinear', 'growFullMask': 16}, 'sipIter': 3, 'matchRadius': 1.0, 'sipRej': 3.0}, doWriteSources=True, doAddMetrics=True, doWriteMatchedExp=False, detection={'reEstimateBackground': False, 'nSigmaToGrow': 2.4, 'minPixels': 1, 'includeThresholdMultiplier': 1.0, 'isotropicGrow': False, 'adjustBackground': 0.0, 'thresholdType': 'pixel_stdev', 'background': {'ignoredPixelMask': ['EDGE', 'DETECTED', 'DETECTED_NEGATIVE'], 'undersampleStyle': 'REDUCE_INTERP_ORDER', 'algorithm': 'NATURAL_SPLINE', 'binSize': 256, 'isNanSafe': False, 'statisticsProperty': 'MEANCLIP'}, 'returnOriginalFootprints': True, 'thresholdPolarity': 'both', 'thresholdValue': 5.0}, doMatchSources=True, doMerge=True, doPreConvolve=True, doMeasurement=True, sourceSelector={'values': {'objectSize': {'widthMax': 10.0, 'widthMin': 0.0, 'kernelSize': 21, 'fluxMin': 12500.0, 'borderWidth': 0, 'badFlags': ['base_PixelFlags_flag_edge', 'base_PixelFlags_flag_interpolatedCenter', 'base_PixelFlags_flag_saturatedCenter', 'base_PixelFlags_flag_crCenter'], 'fluxMax': 0.0, 'sourceFluxField': 'base_GaussianFlux_flux'}, 'diacatalog': {'grMax': 3.0, 'grMin': 0.0, 'selectGalaxy': False, 'selectStar': True, 'badPixelFlags': ['flags.pixel.edge', 'flags.pixel.interpolated.center', 'flags.pixel.saturated.center', 'flags.badcentroid'], 'fluxMax': 0.0, 'includeVariable': False, 'fluxLim': 0.0}, 'catalog': {'fluxLim': 0.0, 'borderWidth': 0, 'fluxMax': 0.0, 'kernelSize': 21, 'badStarPixelFlags': ['base_PixelFlags_flag_edge', 'base_PixelFlags_flag_interpolatedCenter', 'base_PixelFlags_flag_saturatedCenter']}, 'secondMoment': {'kernelSize': 21, 'histMomentMinMultiplier': 2.0, 'histSize': 64, 'histMomentClip': 5.0, 'borderWidth': 0, 'badFlags': ['base_PixelFlags_flag_edge', 'base_PixelFlags_flag_interpolatedCenter', 'base_PixelFlags_flag_saturatedCenter', 'base_PixelFlags_flag_crCenter'], 'histMomentMaxMultiplier': 5.0, 'fluxMax': 0.0, 'clumpNSigma': 2.0, 'fluxLim': 12500.0, 'histMomentMax': 100.0}, 'sizeMagnitude': {'startn1': 0.1, 'starsperbin': 30, 'fitorder': 1, 'minmag': 0.0, 'starfrac': 0.5, 'maxmag': 1e+100, 'logsize': False, 'minsize': 0.0, 'aperture': 5.0, 'maxsize': 1e+100, 'fitsigclip': 4.0, 'purityratio': 0.05}}, 'name': 'diacatalog'}, doUseRegister=True, doDebugRegister=False, doSelectSources=True, doWriteSubtractedExp=True, diaSourceMatchRadius=0.5, doAddCalexpBackground=True, templateBorderSize=10, controlStepSize=5, doSelectVariableCatalog=False, useGaussianForPreConvolution=True, growFootprint=2, measurement={'doReplaceWithNoise': True, 'centroider': {'values': {'centroid.sdss': {'priority': 0.0, 'peakMin': -1.0, 'binmax': 16, 'wfac': 1.5}, 'centroid.naive': {'priority': 0.0, 'background': 0.0}, 'centroid.gaussian': {'priority': 0.0}}, 'name': 'centroid.sdss'}, 'prefix': None, 'algorithms': {'values': {'centroid.sdss': {'priority': 0.0, 'peakMin': -1.0, 'binmax': 16, 'wfac': 1.5}, 'flux.psf': {'priority': 2.0}, 'flux.dipole.psf': {'priority': 2.0, 'stepSizeFlux': 1.0, 'stepSizeCoord': 0.10000000149011612, 'maxPixels': 500, 'errorDef': 1.0, 'maxFnCalls': 100000}, 'flags.pixel': {'priority': 0.0}, 'centroid.gaussian': {'priority': 0.0}, 'centroid.record': {'priority': 5.0}, 'flux.aperture': {'priority': 2.0, 'radii': [0.0, 0.0, 0.0, 0.0, 0.0, 0.0, 0.0, 0.0, 0.0, 0.0, 1.0, 1.5625, 2.44140625, 3.814697265625, 5.9604644775390625, 9.313225746154785, 14.551915228366852, 22.737367544323206, 35.52713678800501, 55.51115123125783]}, 'centroid.dipole.naive': {'priority': 0.0}, 'flux.naive': {'priority': 2.0, 'radius': 7.0}, 'flux.gaussian': {'shapeFlag': '.flags', 'tol2': 9.999999747378752e-05, 'tol1': 9.999999747378752e-06, 'priority': 2.0, 'shape': 'shape.sdss', 'centroid': 'shape.sdss.centroid', 'background': 0.0, 'maxIter': 100, 'fixed': False, 'shiftmax': 10.0}, 'centroid.naive': {'priority': 0.0, 'background': 0.0}, 'flux.sinc': {'priority': 2.0, 'radius1': 0.0, 'radius2': 7.0, 'angle': 0.0, 'ellipticity': 0.0}, 'shape.sdss': {'priority': 1.0, 'tol2': 9.999999747378752e-05, 'tol1': 9.999999747378752e-06, 'background': 0.0, 'maxIter': 100}, 'flux.aperture.elliptical': {'priority': 1.899999976158142, 'radii': [0.0, 0.0, 0.0, 0.0, 0.0, 0.0, 0.0, 0.0, 0.0, 0.0, 1.0, 1.5625, 2.44140625, 3.814697265625, 5.9604644775390625, 9.313225746154785, 14.551915228366852, 22.737367544323206, 35.52713678800501, 55.51115123125783]}, 'flux.peakLikelihood': {'priority': 2.0, 'warpingKernelName': 'lanczos4'}, 'correctfluxes': {'doApCorr': True, 'canonicalFluxName': 'flux.psf', 'apCorrRadius': 7.0, 'priority': 3.0, 'doFlagTieFailures': True, 'doFlagApCorrFailures': True, 'canonicalFluxIndex': 0, 'doTieScaledFluxes': True}, 'classification.extendedness': {'priority': 5.0, 'psfErrFactor': 0.0, 'modelErrFactor': 0.0, 'fluxRatio': 0.925}, 'skycoord': {'priority': 5.0}, 'flux.dipole.naive': {'priority': 2.0}}, 'names': ['flux.psf', 'flags.pixel', 'shape.sdss', 'flux.naive', 'flux.gaussian', 'centroid.naive', 'flux.sinc', 'centroid.gaussian', 'flux.peakLikelihood', 'correctfluxes', 'classification.extendedness', 'skycoord']}, 'replaceWithNoise': {'noiseSeed': 0, 'noiseOffset': 0.0, 'noiseSource': 'measure'}, 'slots': {'psfFlux': 'flux.psf', 'apFlux': 'flux.sinc', 'instFlux': 'flux.gaussian', 'shape': 'shape.sdss', 'centroid': 'centroid.sdss', 'modelFlux': 'flux.gaussian'}}, coaddName='deep', doSubtract=True, doSelectDcrCatalog=False, subtract={'kernel': {'values': {'DF': {'afwBackgroundConfig': {'ignoredPixelMask': ['EDGE', 'DETECTED', 'DETECTED_NEGATIVE'], 'undersampleStyle': 'REDUCE_INTERP_ORDER', 'algorithm': 'NATURAL_SPLINE', 'binSize': 256, 'isNanSafe': False, 'statisticsProperty': 'MEANCLIP'}, 'spatialModelType': 'chebyshev1', 'maxKsumSigma': 3.0, 'fitForBackground': False, 'centralRegularizationStencil': 9, 'kernelSizeMax': 35, 'lambdaValue': 0.2, 'singleKernelClipping': True, 'regularizationBorderPenalty': 3.0, 'maxSpatialConditionNumber': 10000000000.0, 'kernelSizeMin': 21, 'forwardRegularizationOrders': [1, 2], 'lambdaStepType': 'log', 'sizeCellX': 128, 'sizeCellY': 128, 'checkConditionNumber': False, 'badMaskPlanes': ['EDGE', 'SAT'], 'kernelSizeFwhmScaling': 6.0, 'lambdaMin': -1.0, 'usePcaForSpatialKernel': True, 'subtractMeanForPca': True, 'candidateCoreRadius': 3, 'nStarPerCell': 3, 'candidateResidualMeanMax': 0.25, 'useCoreStats': False, 'constantVarianceWeighting': True, 'kernelBasisSet': 'delta-function', 'lambdaMax': 2.0, 'regularizationType': 'centralDifference', 'useBicForKernelBasis': False, 'kernelSize': 21, 'spatialKernelOrder': 2, 'spatialKernelClipping': True, 'lambdaScaling': 0.0001, 'calculateKernelUncertainty': False, 'lambdaType': 'absolute', 'detectionConfig': {'fpNpixMin': 5, 'detThresholdType': 'pixel_stdev', 'detOnTemplate': True, 'detThreshold': 10.0, 'badMaskPlanes': ['EDGE', 'SAT'], 'scaleByFwhm': True, 'fpGrowPix': 30, 'fpGrowKernelScaling': 1.0, 'fpNpixMax': 500}, 'maxSpatialIterations': 3, 'scaleByFwhm': True, 'spatialBgOrder': 1, 'candidateResidualStdMax': 1.5, 'kernelSumClipping': True, 'numPrincipalComponents': 5, 'lambdaStep': 0.1, 'useRegularization': True, 'warpingConfig': {'warpingKernelName': 'lanczos4', 'interpLength': 10, 'cacheSize': 0, 'devicePreference': 0, 'maskWarpingKernelName': 'bilinear', 'growFullMask': 16}, 'iterateSingleKernel': False, 'conditionNumberType': 'EIGENVALUE', 'maxConditionNumber': 5000000.0, 'useAfwBackground': False}, 'AL': {'spatialModelType': 'chebyshev1', 'maxKsumSigma': 3.0, 'fitForBackground': False, 'alardNGaussDeconv': 3, 'kernelSizeMax': 35, 'alardNGauss': 3, 'singleKernelClipping': True, 'maxSpatialConditionNumber': 10000000000.0, 'kernelSizeMin': 21, 'candidateCoreRadius': 3, 'sizeCellX': 128, 'sizeCellY': 128, 'checkConditionNumber': False, 'alardMinSigDeconv': 0.4, 'badMaskPlanes': ['EDGE', 'SAT'], 'alardDegGaussDeconv': 3, 'usePcaForSpatialKernel': False, 'subtractMeanForPca': True, 'nStarPerCell': 3, 'candidateResidualMeanMax': 0.25, 'useCoreStats': False, 'constantVarianceWeighting': True, 'kernelBasisSet': 'alard-lupton', 'alardSigGauss': [0.7, 1.5, 3.0], 'alardGaussBeta': 2.0, 'useBicForKernelBasis': False, 'kernelSize': 21, 'afwBackgroundConfig': {'ignoredPixelMask': ['EDGE', 'DETECTED', 'DETECTED_NEGATIVE'], 'undersampleStyle': 'REDUCE_INTERP_ORDER', 'algorithm': 'NATURAL_SPLINE', 'binSize': 256, 'isNanSafe': False, 'statisticsProperty': 'MEANCLIP'}, 'spatialKernelClipping': True, 'calculateKernelUncertainty': False, 'spatialKernelOrder': 2, 'detectionConfig': {'fpNpixMin': 5, 'detThresholdType': 'pixel_stdev', 'detOnTemplate': True, 'detThreshold': 10.0, 'badMaskPlanes': ['EDGE', 'SAT'], 'scaleByFwhm': True, 'fpGrowPix': 30, 'fpGrowKernelScaling': 1.0, 'fpNpixMax': 500}, 'maxSpatialIterations': 3, 'scaleByFwhm': True, 'kernelSizeFwhmScaling': 6.0, 'alardDegGauss': [4, 2, 2], 'spatialBgOrder': 1, 'candidateResidualStdMax': 1.5, 'kernelSumClipping': True, 'numPrincipalComponents': 5, 'warpingConfig': {'warpingKernelName': 'lanczos4', 'interpLength': 10, 'cacheSize': 0, 'devicePreference': 0, 'maskWarpingKernelName': 'bilinear', 'growFullMask': 16}, 'iterateSingleKernel': False, 'conditionNumberType': 'EIGENVALUE', 'maxConditionNumber': 50000000.0, 'alardMinSig': 0.7, 'useAfwBackground': False}}, 'name': 'AL'}, 'selectMeasurement': {'doReplaceWithNoise': True, 'centroider': {'values': {'centroid.sdss': {'priority': 0.0, 'peakMin': -1.0, 'binmax': 16, 'wfac': 1.5}, 'centroid.naive': {'priority': 0.0, 'background': 0.0}, 'centroid.gaussian': {'priority': 0.0}}, 'name': 'centroid.sdss'}, 'prefix': None, 'algorithms': {'values': {'centroid.sdss': {'priority': 0.0, 'peakMin': -1.0, 'binmax': 16, 'wfac': 1.5}, 'flux.psf': {'priority': 2.0}, 'flux.dipole.psf': {'priority': 2.0, 'stepSizeFlux': 1.0, 'stepSizeCoord': 0.10000000149011612, 'maxPixels': 500, 'errorDef': 1.0, 'maxFnCalls': 100000}, 'flags.pixel': {'priority': 0.0}, 'centroid.gaussian': {'priority': 0.0}, 'centroid.record': {'priority': 5.0}, 'flux.aperture': {'priority': 2.0, 'radii': [0.0, 0.0, 0.0, 0.0, 0.0, 0.0, 0.0, 0.0, 0.0, 0.0, 1.0, 1.5625, 2.44140625, 3.814697265625, 5.9604644775390625, 9.313225746154785, 14.551915228366852, 22.737367544323206, 35.52713678800501, 55.51115123125783]}, 'centroid.dipole.naive': {'priority': 0.0}, 'flux.naive': {'priority': 2.0, 'radius': 7.0}, 'flux.gaussian': {'shapeFlag': '.flags', 'tol2': 9.999999747378752e-05, 'tol1': 9.999999747378752e-06, 'priority': 2.0, 'shape': 'shape.sdss', 'centroid': 'shape.sdss.centroid', 'background': 0.0, 'maxIter': 100, 'fixed': False, 'shiftmax': 10.0}, 'centroid.naive': {'priority': 0.0, 'background': 0.0}, 'flux.sinc': {'priority': 2.0, 'radius1': 0.0, 'radius2': 7.0, 'angle': 0.0, 'ellipticity': 0.0}, 'shape.sdss': {'priority': 1.0, 'tol2': 9.999999747378752e-05, 'tol1': 9.999999747378752e-06, 'background': 0.0, 'maxIter': 100}, 'flux.aperture.elliptical': {'priority': 1.899999976158142, 'radii': [0.0, 0.0, 0.0, 0.0, 0.0, 0.0, 0.0, 0.0, 0.0, 0.0, 1.0, 1.5625, 2.44140625, 3.814697265625, 5.9604644775390625, 9.313225746154785, 14.551915228366852, 22.737367544323206, 35.52713678800501, 55.51115123125783]}, 'flux.peakLikelihood': {'priority': 2.0, 'warpingKernelName': 'lanczos4'}, 'correctfluxes': {'doApCorr': True, 'canonicalFluxName': 'flux.psf', 'apCorrRadius': 7.0, 'priority': 3.0, 'doFlagTieFailures': True, 'doFlagApCorrFailures': True, 'canonicalFluxIndex': 0, 'doTieScaledFluxes': True}, 'classification.extendedness': {'priority': 5.0, 'psfErrFactor': 0.0, 'modelErrFactor': 0.0, 'fluxRatio': 0.925}, 'skycoord': {'priority': 5.0}, 'flux.dipole.naive': {'priority': 2.0}}, 'names': ['flux.psf', 'flux.gaussian', 'skycoord', 'flags.pixel', 'shape.sdss']}, 'replaceWithNoise': {'noiseSeed': 0, 'noiseOffset': 0.0, 'noiseSource': 'measure'}, 'slots': {'psfFlux': 'flux.psf', 'apFlux': None, 'instFlux': 'flux.gaussian', 'shape': 'shape.sdss', 'centroid': 'centroid.sdss', 'modelFlux': None}}, 'selectDetection': {'reEstimateBackground': False, 'nSigmaToGrow': 2.4, 'minPixels': 1, 'includeThresholdMultiplier': 1.0, 'isotropicGrow': False, 'adjustBackground': 0.0, 'thresholdType': 'stdev', 'background': {'ignoredPixelMask': ['EDGE', 'DETECTED', 'DETECTED_NEGATIVE'], 'undersampleStyle': 'REDUCE_INTERP_ORDER', 'algorithm': 'NATURAL_SPLINE', 'binSize': 256, 'isNanSafe': False, 'statisticsProperty': 'MEANCLIP'}, 'returnOriginalFootprints': True, 'thresholdPolarity': 'positive', 'thresholdValue': 10.0}}, convolveTemplate=True, doDetection=True, dipoleMeasurement={'doReplaceWithNoise': False, 'classification': {'maxFluxRatio': 0.65, 'minSn': 7.0710678118654755}, 'centroider': {'values': {'centroid.sdss': {'priority': 0.0, 'peakMin': -1.0, 'binmax': 16, 'wfac': 1.5}, 'centroid.naive': {'priority': 0.0, 'background': 0.0}, 'centroid.gaussian': {'priority': 0.0}}, 'name': 'centroid.sdss'}, 'prefix': None, 'algorithms': {'values': {'centroid.sdss': {'priority': 0.0, 'peakMin': -1.0, 'binmax': 16, 'wfac': 1.5}, 'flux.psf': {'priority': 2.0}, 'flux.dipole.psf': {'priority': 2.0, 'stepSizeFlux': 1.0, 'stepSizeCoord': 0.10000000149011612, 'maxPixels': 500, 'errorDef': 1.0, 'maxFnCalls': 100000}, 'flags.pixel': {'priority': 0.0}, 'centroid.gaussian': {'priority': 0.0}, 'centroid.record': {'priority': 5.0}, 'flux.aperture': {'priority': 2.0, 'radii': [0.0, 0.0, 0.0, 0.0, 0.0, 0.0, 0.0, 0.0, 0.0, 0.0, 1.0, 1.5625, 2.44140625, 3.814697265625, 5.9604644775390625, 9.313225746154785, 14.551915228366852, 22.737367544323206, 35.52713678800501, 55.51115123125783]}, 'centroid.dipole.naive': {'priority': 0.0}, 'flux.naive': {'priority': 2.0, 'radius': 7.0}, 'flux.gaussian': {'shapeFlag': '.flags', 'tol2': 9.999999747378752e-05, 'tol1': 9.999999747378752e-06, 'priority': 2.0, 'shape': 'shape.sdss', 'centroid': 'shape.sdss.centroid', 'background': 0.0, 'maxIter': 100, 'fixed': False, 'shiftmax': 10.0}, 'centroid.naive': {'priority': 0.0, 'background': 0.0}, 'flux.sinc': {'priority': 2.0, 'radius1': 0.0, 'radius2': 7.0, 'angle': 0.0, 'ellipticity': 0.0}, 'shape.sdss': {'priority': 1.0, 'tol2': 9.999999747378752e-05, 'tol1': 9.999999747378752e-06, 'background': 0.0, 'maxIter': 100}, 'flux.aperture.elliptical': {'priority': 1.899999976158142, 'radii': [0.0, 0.0, 0.0, 0.0, 0.0, 0.0, 0.0, 0.0, 0.0, 0.0, 1.0, 1.5625, 2.44140625, 3.814697265625, 5.9604644775390625, 9.313225746154785, 14.551915228366852, 22.737367544323206, 35.52713678800501, 55.51115123125783]}, 'flux.peakLikelihood': {'priority': 2.0, 'warpingKernelName': 'lanczos4'}, 'correctfluxes': {'doApCorr': True, 'canonicalFluxName': 'flux.psf', 'apCorrRadius': 7.0, 'priority': 3.0, 'doFlagTieFailures': True, 'doFlagApCorrFailures': True, 'canonicalFluxIndex': 0, 'doTieScaledFluxes': True}, 'classification.extendedness': {'priority': 5.0, 'psfErrFactor': 0.0, 'modelErrFactor': 0.0, 'fluxRatio': 0.925}, 'skycoord': {'priority': 5.0}, 'flux.dipole.naive': {'priority': 2.0}}, 'names': ['flux.psf', 'flux.dipole.psf', 'flags.pixel', 'shape.sdss', 'centroid.dipole.naive', 'flux.naive', 'flux.gaussian', 'centroid.naive', 'flux.sinc', 'centroid.gaussian', 'flux.peakLikelihood', 'correctfluxes', 'classification.extendedness', 'skycoord', 'flux.dipole.naive']}, 'replaceWithNoise': {'noiseSeed': 0, 'noiseOffset': 0.0, 'noiseSource': 'measure'}, 'slots': {'psfFlux': 'flux.psf', 'apFlux': 'flux.sinc', 'instFlux': 'flux.gaussian', 'shape': 'shape.sdss', 'centroid': 'centroid.sdss', 'modelFlux': 'flux.gaussian'}}, templateSipOrder=2, controlRandomSeed=10, maxDiaSourcesToMeasure=200), debug=False, doraise=False, id=<lsst.pipe.base.argumentParser.DataIdContainer object at 0x5c05850>, input='/renoir_data_00/jpreyes/stacks/notebook_files/data/CFHTLS/input', log=<lsst.pex.logging.loggingLib.Log; proxy of <Swig Object of type 'lsst::pex::logging::Log *' at 0x560ccf0> >, obsPkg='obs_cfht', output='/renoir_data_00/jpreyes/stacks/notebook_files/data/CFHTLS_Sub1/output', processes=1, profile=None, show=(), timeout=None, trace=None); resultList=[]; argumentParser=ArgumentParser(prog='-c', usage='%(prog)s input [options]', description=None, version=None, formatter_class=<class 'argparse.RawDescriptionHelpFormatter'>, conflict_handler='error', add_help=True))"
       ]
      }
     ],
     "prompt_number": 4
    },
    {
     "cell_type": "code",
     "collapsed": false,
     "input": [],
     "language": "python",
     "metadata": {},
     "outputs": []
    }
   ],
   "metadata": {}
  }
 ]
}