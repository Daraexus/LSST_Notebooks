{
 "metadata": {
  "name": ""
 },
 "nbformat": 3,
 "nbformat_minor": 0,
 "worksheets": [
  {
   "cells": [
    {
     "cell_type": "code",
     "collapsed": false,
     "input": [
      "import glob\n",
      "import os\n",
      "import subprocess\n",
      "import sys\n",
      "\n",
      "import lsst.pipe.tasks.subtractImages as Subtracter\n",
      "import lsst.daf.persistence as dafPersist"
     ],
     "language": "python",
     "metadata": {},
     "outputs": [],
     "prompt_number": 26
    },
    {
     "cell_type": "code",
     "collapsed": false,
     "input": [
      "DATADIR1 = \"/renoir_data_00/jpreyes/stacks/notebook_files/data/CFHTLS\"\n",
      "DATADIR2 = \"/renoir_data_00/jpreyes/stacks/notebook_files/data/CFHTLS_S1\"\n",
      "\n",
      "butler = dafPersist.Butler(DATADIR1+\"/output/coadd_r_dir\")"
     ],
     "language": "python",
     "metadata": {},
     "outputs": [],
     "prompt_number": 27
    },
    {
     "cell_type": "code",
     "collapsed": false,
     "input": [
      "\n",
      "SubtractTask = Subtracter.SubtractImagesTask\n",
      "SubtractTask.parseAndRun(args=((DATADIR1+\"/output/coadd_r_dir --output \"+DATADIR1+\"/output/coadd_r_dir/subtractio n--config templateExposure=test\").split()))"
     ],
     "language": "python",
     "metadata": {},
     "outputs": [
      {
       "ename": "SystemExit",
       "evalue": "2",
       "output_type": "pyerr",
       "traceback": [
        "An exception has occurred, use %tb to see the full traceback.\n",
        "\u001b[1;31mSystemExit\u001b[0m\u001b[1;31m:\u001b[0m 2\n"
       ]
      },
      {
       "output_type": "stream",
       "stream": "stderr",
       "text": [
        "usage: -c input [options]\n",
        "-c: error: unrecognized arguments: n--config templateExposure=test image1 image2\n",
        "To exit: use 'exit', 'quit', or Ctrl-D.\n"
       ]
      }
     ],
     "prompt_number": 30
    },
    {
     "cell_type": "code",
     "collapsed": false,
     "input": [
      "    "
     ],
     "language": "python",
     "metadata": {},
     "outputs": []
    }
   ],
   "metadata": {}
  }
 ]
}