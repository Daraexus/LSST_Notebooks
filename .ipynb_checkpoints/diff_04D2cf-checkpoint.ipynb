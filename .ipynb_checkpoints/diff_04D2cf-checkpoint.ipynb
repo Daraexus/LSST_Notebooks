{
 "metadata": {
  "name": ""
 },
 "nbformat": 3,
 "nbformat_minor": 0,
 "worksheets": [
  {
   "cells": [
    {
     "cell_type": "markdown",
     "metadata": {},
     "source": [
      "First test of image subtraction\n",
      "============================"
     ]
    },
    {
     "cell_type": "markdown",
     "metadata": {},
     "source": [
      "Start with  source loadlsst, the setup command we need (here obs_cfht), then run ipython notebook\n",
      "\n",
      "Next lines correspond to import for this notebook "
     ]
    },
    {
     "cell_type": "code",
     "collapsed": false,
     "input": [
      "import lsst.afw.image as afwImage\n",
      "import lsst.meas.algorithms as measAlg\n",
      "import lsst.ip.diffim as ipDiffim\n",
      "import lsst.ip.diffim.diffimTools as diffimTools"
     ],
     "language": "python",
     "metadata": {},
     "outputs": [],
     "prompt_number": 3
    },
    {
     "cell_type": "markdown",
     "metadata": {},
     "source": [
      "Now we defined the location of the two input image and the output image"
     ]
    },
    {
     "cell_type": "code",
     "collapsed": false,
     "input": [
      "sciencePath     = \"/renoir_data_00/jpreyes/data/output_hide/coadd_r_dir/deepCoadd/r/0/0,11.fits\"\n",
      "templatePath    = \"/renoir_data_00/jpreyes/data/output/coadd_r_dir_05/deepCoadd/r/0/0,11.fits\"\n",
      "outputPath      = \"/renoir_data_00/jpreyes/data/output/diff/0,11.fits\""
     ],
     "language": "python",
     "metadata": {},
     "outputs": [],
     "prompt_number": 4
    },
    {
     "cell_type": "markdown",
     "metadata": {},
     "source": [
      "Now read the images with afwImage.ExposureF"
     ]
    },
    {
     "cell_type": "code",
     "collapsed": false,
     "input": [
      "templateExposure = afwImage.ExposureF(templatePath)\n",
      "scienceExposure  = afwImage.ExposureF(sciencePath)"
     ],
     "language": "python",
     "metadata": {},
     "outputs": [],
     "prompt_number": 5
    },
    {
     "cell_type": "markdown",
     "metadata": {},
     "source": [
      "Some configuration (no clear idea of what it is)"
     ]
    },
    {
     "cell_type": "code",
     "collapsed": false,
     "input": [
      "config = ipDiffim.ImagePsfMatchTask.ConfigClass()\n",
      "config.kernel.name = \"AL\"\n",
      "subconfig = config.kernel.active"
     ],
     "language": "python",
     "metadata": {},
     "outputs": [],
     "prompt_number": 6
    },
    {
     "cell_type": "markdown",
     "metadata": {},
     "source": [
      "* Interlude ...  Here a test of latex : $x^2$  ... \n",
      "\n",
      "Now we run the subtraction, via the ipDiffim.ImagePsfMatchTask class "
     ]
    },
    {
     "cell_type": "code",
     "collapsed": false,
     "input": [
      "defFwhm         = 3.5\n",
      "fwhmS = defFwhm\n",
      "fwhmT = defFwhm\n",
      "psfmatch = ipDiffim.ImagePsfMatchTask(config)\n",
      "results  = psfmatch.subtractExposures(templateExposure, scienceExposure,\n",
      "                            templateFwhmPix = fwhmT, scienceFwhmPix = fwhmS)"
     ],
     "language": "python",
     "metadata": {},
     "outputs": [],
     "prompt_number": 7
    },
    {
     "cell_type": "markdown",
     "metadata": {},
     "source": [
      "Finalize by writing the output file of the image difference"
     ]
    },
    {
     "cell_type": "code",
     "collapsed": false,
     "input": [
      "differenceExposure = results.subtractedExposure\n",
      "differenceExposure.writeFits(outputPath)"
     ],
     "language": "python",
     "metadata": {},
     "outputs": [
      {
       "ename": "Exception",
       "evalue": "boost::filesystem::remove: Permission denied: \"/renoir_data_00/fouchez/lsst/data/CFHTLS/output/diff/0,11.fits\"",
       "output_type": "pyerr",
       "traceback": [
        "\u001b[1;31m---------------------------------------------------------------------------\u001b[0m\n\u001b[1;31mException\u001b[0m                                 Traceback (most recent call last)",
        "\u001b[1;32m<ipython-input-7-14f54dee0f0f>\u001b[0m in \u001b[0;36m<module>\u001b[1;34m()\u001b[0m\n\u001b[0;32m      1\u001b[0m \u001b[0mdifferenceExposure\u001b[0m \u001b[1;33m=\u001b[0m \u001b[0mresults\u001b[0m\u001b[1;33m.\u001b[0m\u001b[0msubtractedExposure\u001b[0m\u001b[1;33m\u001b[0m\u001b[0m\n\u001b[1;32m----> 2\u001b[1;33m \u001b[0mdifferenceExposure\u001b[0m\u001b[1;33m.\u001b[0m\u001b[0mwriteFits\u001b[0m\u001b[1;33m(\u001b[0m\u001b[0moutputPath\u001b[0m\u001b[1;33m)\u001b[0m\u001b[1;33m\u001b[0m\u001b[0m\n\u001b[0m",
        "\u001b[1;32m/renoir_data_00/jpreyes/stacks/v9_2_copy/Linux64/afw/9.2/python/lsst/afw/image/imageLib.pyc\u001b[0m in \u001b[0;36mwriteFits\u001b[1;34m(self, *args)\u001b[0m\n\u001b[0;32m  10172\u001b[0m         \u001b[0mwriteFits\u001b[0m\u001b[1;33m(\u001b[0m\u001b[0mExposureF\u001b[0m \u001b[0mself\u001b[0m\u001b[1;33m,\u001b[0m \u001b[0mlsst\u001b[0m\u001b[1;33m:\u001b[0m\u001b[1;33m:\u001b[0m\u001b[0mafw\u001b[0m\u001b[1;33m:\u001b[0m\u001b[1;33m:\u001b[0m\u001b[0mfits\u001b[0m\u001b[1;33m:\u001b[0m\u001b[1;33m:\u001b[0m\u001b[0mFits\u001b[0m \u001b[1;33m&\u001b[0m \u001b[0mfitsfile\u001b[0m\u001b[1;33m)\u001b[0m\u001b[1;33m\u001b[0m\u001b[0m\n\u001b[0;32m  10173\u001b[0m         \"\"\"\n\u001b[1;32m> 10174\u001b[1;33m         \u001b[1;32mreturn\u001b[0m \u001b[0m_imageLib\u001b[0m\u001b[1;33m.\u001b[0m\u001b[0mExposureF_writeFits\u001b[0m\u001b[1;33m(\u001b[0m\u001b[0mself\u001b[0m\u001b[1;33m,\u001b[0m \u001b[1;33m*\u001b[0m\u001b[0margs\u001b[0m\u001b[1;33m)\u001b[0m\u001b[1;33m\u001b[0m\u001b[0m\n\u001b[0m\u001b[0;32m  10175\u001b[0m \u001b[1;33m\u001b[0m\u001b[0m\n\u001b[0;32m  10176\u001b[0m     \u001b[1;32mdef\u001b[0m \u001b[0mreadFits\u001b[0m\u001b[1;33m(\u001b[0m\u001b[1;33m*\u001b[0m\u001b[0margs\u001b[0m\u001b[1;33m)\u001b[0m\u001b[1;33m:\u001b[0m\u001b[1;33m\u001b[0m\u001b[0m\n",
        "\u001b[1;31mException\u001b[0m: boost::filesystem::remove: Permission denied: \"/renoir_data_00/fouchez/lsst/data/CFHTLS/output/diff/0,11.fits\""
       ]
      }
     ],
     "prompt_number": 7
    },
    {
     "cell_type": "code",
     "collapsed": false,
     "input": [],
     "language": "python",
     "metadata": {},
     "outputs": []
    }
   ],
   "metadata": {}
  }
 ]
}