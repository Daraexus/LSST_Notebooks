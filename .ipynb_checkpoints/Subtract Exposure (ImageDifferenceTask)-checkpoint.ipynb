{
 "metadata": {
  "name": ""
 },
 "nbformat": 3,
 "nbformat_minor": 0,
 "worksheets": [
  {
   "cells": [
    {
     "cell_type": "code",
     "collapsed": false,
     "input": [
      "import glob\n",
      "import os\n",
      "import subprocess\n",
      "import sys\n",
      "import time\n",
      "import math\n",
      "\n",
      "from IPython.display import Image, display_png\n",
      "\n",
      "import lsst.afw.display.ds9 as ds9\n",
      "import lsst.afw.math as afwMath\n",
      "import lsst.afw.geom as afwGeom\n",
      "import lsst.afw.image as afwImage\n",
      "\n",
      "import lsst.ip.diffim as ipDiffim\n",
      "import lsst.ip.diffim.diffimTools as diffimTools\n",
      "from lsst.ip.diffim.makeKernelBasisList import makeKernelBasisList\n",
      "from lsst.ip.diffim import utils as diUtils\n",
      "from lsst.ip.diffim import diffimLib\n",
      "\n",
      "from lsst.pipe.tasks.registerImage import RegisterTask\n",
      "from lsst.meas.algorithms import SourceDetectionTask, SourceMeasurementTask, starSelectorRegistry, PsfAttributes, SingleGaussianPsf\n",
      "from lsst.meas.deblender import SourceDeblendTask\n",
      "from lsst.ip.diffim import ImagePsfMatchTask, DipoleMeasurementTask, DipoleAnalysis, \\\n",
      "    SourceFlagChecker, KernelCandidateF, cast_KernelCandidateF, makeKernelBasisList, \\\n",
      "    KernelCandidateQa, DiaCatalogSourceSelector, DiaCatalogSourceSelectorConfig\n",
      "\n",
      "\n",
      "\n",
      "import lsst.pipe.base as pipeBase\n",
      "\n",
      "import lsst.daf.persistence as dafPersist\n",
      "\n",
      "DATADIR=\"/renoir_data_02/jpreyes/lsst_data/data/CFHTLS\"\n"
     ],
     "language": "python",
     "metadata": {},
     "outputs": [],
     "prompt_number": 4
    },
    {
     "cell_type": "code",
     "collapsed": false,
     "input": [
      "def displayFigure(path):\n",
      "    i =  Image(path)\n",
      "    display_png(i)\n",
      "    \n",
      "def displayImage(Image,frame=0,title=\"NoName\",path=\"fig\"):\n",
      "    ds9.mtv(Image, frame=frame, title=title)\n",
      "    ds9.ds9Cmd(\"zscale\")\n",
      "    ds9.ds9Cmd(\"zoom to fit\")\n",
      "    ds9.ds9Cmd(\"raise\")\n",
      "    ds9.ds9Cmd('saveimage '+path)\n",
      "    print title\n",
      "    displayFigure(path)\n",
      "\n",
      "def showFrame(frame=0,title=\"NoTitle\",path=\"fig\"):\n",
      "    ds9.ds9Cmd(\"zscale\")\n",
      "    ds9.ds9Cmd(\"zoom to fit\")\n",
      "    ds9.ds9Cmd(\"raise\")\n",
      "    ds9.ds9Cmd('saveimage '+path)\n",
      "    print title\n",
      "    displayFigure(path)\n",
      "    \n",
      "def displayImageWithSources(Image,frame=0,title=\"NoName\",path=\"fig\", sources=[]):\n",
      "    ds9.mtv(Image, frame=frame, title=title)\n",
      "    ds9.ds9Cmd(\"zscale\")\n",
      "    ds9.ds9Cmd(\"zoom to fit\")\n",
      "    ds9.ds9Cmd(\"raise\")\n",
      "    \n",
      "    \n",
      "    for source in sources:\n",
      "        ds9.dot(\"+\", source.getX()-Image.getX0()  , source.getY()-Image.getY0() , frame=frame, size = 25, ctype = ds9.RED)\n",
      "\n",
      "    \n",
      "    ds9.ds9Cmd('saveimage '+path)\n",
      "    print title\n",
      "    displayFigure(path)\n"
     ],
     "language": "python",
     "metadata": {},
     "outputs": []
    },
    {
     "cell_type": "code",
     "collapsed": false,
     "input": [
      "ScienceExposurePath = DATADIR+\"/output/coadd_r_dir/subtract/deepCoadd/r/1/33,15.fits\"\n",
      "ReferenceExposurePath = DATADIR+\"/output/coadd_r_dir/deepCoadd/r/1/33,15.fits\"\n",
      "SubtractionOutputPath = DATADIR+\"/output/subtracted-inter\""
     ],
     "language": "python",
     "metadata": {},
     "outputs": [],
     "prompt_number": 2
    },
    {
     "cell_type": "code",
     "collapsed": false,
     "input": [
      "ScienceExposure = afwImage.ExposureF(ScienceExposurePath)\n",
      "TemplateExposure = afwImage.ExposureF(ReferenceExposurePath)\n"
     ],
     "language": "python",
     "metadata": {},
     "outputs": [],
     "prompt_number": 3
    },
    {
     "cell_type": "code",
     "collapsed": false,
     "input": [
      "subtractedExposure = None\n",
      "subtractRes = None\n",
      "selectSources = None\n",
      "kernelSources = None\n",
      "controlSources = None\n",
      "diaSources = None"
     ],
     "language": "python",
     "metadata": {},
     "outputs": []
    },
    {
     "cell_type": "code",
     "collapsed": false,
     "input": [
      "sciencePsf = exposure.getPsf()\n",
      "\n",
      "\n",
      "templateExposure = None  # Stitched coadd exposure\n",
      "templateSources = None   # Sources on the template image"
     ],
     "language": "python",
     "metadata": {},
     "outputs": []
    },
    {
     "cell_type": "code",
     "collapsed": false,
     "input": [
      "ctr = afwGeom.Box2D(exposure.getBBox(afwImage.PARENT)).getCenter()\n",
      "psfAttr = PsfAttributes(sciencePsf, afwGeom.Point2I(ctr))\n",
      "scienceSigmaOrig = psfAttr.computeGaussianWidth(psfAttr.ADAPTIVE_MOMENT)\n",
      "\n",
      "# sigma of PSF of template image before warping\n",
      "ctr = afwGeom.Box2D(templateExposure.getBBox(afwImage.PARENT)).getCenter()\n",
      "psfAttr = PsfAttributes(templateExposure.getPsf(), afwGeom.Point2I(ctr))\n",
      "templateSigma = psfAttr.computeGaussianWidth(psfAttr.ADAPTIVE_MOMENT)"
     ],
     "language": "python",
     "metadata": {},
     "outputs": []
    },
    {
     "cell_type": "markdown",
     "metadata": {},
     "source": [
      "This part is the pre-filtering or pre-convolving of the image"
     ]
    },
    {
     "cell_type": "code",
     "collapsed": false,
     "input": [
      "convControl = afwMath.ConvolutionControl()\n",
      "                # cannot convolve in place, so make a new MI to receive convolved image\n",
      "srcMI = exposure.getMaskedImage()\n",
      "destMI = srcMI.Factory(srcMI.getDimensions())\n",
      "srcPsf = sciencePsf\n",
      "    if self.config.useGaussianForPreConvolution:\n",
      "            # convolve with a simplified PSF model: a double Gaussian\n",
      "            kWidth, kHeight = sciencePsf.getLocalKernel().getDimensions()\n",
      "            preConvPsf = SingleGaussianPsf(kWidth, kHeight, scienceSigmaOrig)\n",
      "    else:\n",
      "            # convolve with science exposure's PSF model\n",
      "            preConvPsf = psf\n",
      "            afwMath.convolve(destMI, srcMI, preConvPsf.getLocalKernel(), convControl)\n",
      "            exposure.setMaskedImage(destMI)\n",
      "            scienceSigmaPost = scienceSigmaOrig * math.sqrt(2)\n"
     ],
     "language": "python",
     "metadata": {},
     "outputs": []
    },
    {
     "cell_type": "markdown",
     "metadata": {},
     "source": [
      "Source selection part (just in case)."
     ]
    },
    {
     "cell_type": "code",
     "collapsed": false,
     "input": [
      "selectSources = self.subtract.getSelectSources(\n",
      "                        exposure,\n",
      "                        sigma = scienceSigmaPost,\n",
      "                        doSmooth = not self.doPreConvolve,\n",
      "                        idFactory = idFactory,)\n",
      "\n"
     ],
     "language": "python",
     "metadata": {},
     "outputs": []
    },
    {
     "cell_type": "code",
     "collapsed": false,
     "input": [
      "astrometer = measAstrom.Astrometry(measAstrom.MeasAstromConfig())\n",
      "astromRet = astrometer.useKnownWcs(selectSources, exposure=exposure)\n",
      "matches = astromRet.matches\n",
      "kernelSources = self.sourceSelector.selectSources(exposure, selectSources, matches=matches)\n",
      "random.shuffle(kernelSources, random.random)\n",
      "controlSources = kernelSources[::self.config.controlStepSize]\n",
      "kernelSources = [k for i,k in enumerate(kernelSources) if i % self.config.controlStepSize]\n"
     ],
     "language": "python",
     "metadata": {},
     "outputs": []
    },
    {
     "cell_type": "code",
     "collapsed": false,
     "input": [
      "allresids = {}\n",
      "templateSources = self.subtract.getSelectSources(\n",
      "                        templateExposure,\n",
      "                        sigma=templateSigma,\n",
      "                        doSmooth=True,\n",
      "                        idFactory=idFactory)\n",
      "\n"
     ],
     "language": "python",
     "metadata": {},
     "outputs": []
    },
    {
     "cell_type": "code",
     "collapsed": false,
     "input": [
      "wcsResults = self.fitAstrometry(templateSources, templateExposure, selectSources)\n",
      "warpedExp = self.register.warpExposure(templateExposure, wcsResults.wcs, exposure.getWcs(), exposure.getBBox(afwImage.PARENT))\n",
      "templateExposure = warpedExp\n"
     ],
     "language": "python",
     "metadata": {},
     "outputs": []
    },
    {
     "cell_type": "code",
     "collapsed": false,
     "input": [
      "#Here data crunching"
     ],
     "language": "python",
     "metadata": {},
     "outputs": []
    },
    {
     "cell_type": "code",
     "collapsed": false,
     "input": [
      "subtractRes = self.subtract.subtractExposures(\n",
      "                templateExposure=templateExposure,\n",
      "                scienceExposure=exposure,\n",
      "                scienceFwhmPix=scienceSigmaPost * FwhmPerSigma,\n",
      "                templateFwhmPix=templateSigma * FwhmPerSigma,\n",
      "                candidateList=kernelSources,\n",
      "                convolveTemplate=self.config.convolveTemplate,\n",
      "                doWarping=not self.config.doUseRegister\n",
      "            )\n",
      "            subtractedExposure = subtractRes.subtractedExposure\n"
     ],
     "language": "python",
     "metadata": {},
     "outputs": []
    },
    {
     "cell_type": "code",
     "collapsed": false,
     "input": [
      "subtractedExposure.setPsf(exposure.getPsf())\n"
     ],
     "language": "python",
     "metadata": {},
     "outputs": []
    },
    {
     "cell_type": "code",
     "collapsed": false,
     "input": [
      "mask  = subtractedExposure.getMaskedImage().getMask()\n",
      "mask &= ~(mask.getPlaneBitMask(\"DETECTED\") | mask.getPlaneBitMask(\"DETECTED_NEGATIVE\"))\n",
      "\n",
      "table = afwTable.SourceTable.make(self.schema, idFactory)\n",
      "table.setMetadata(self.algMetadata)\n",
      "results = self.detection.makeSourceCatalog(\n",
      "                table=table,\n",
      "                exposure=subtractedExposure,\n",
      "                doSmooth=not self.config.doPreConvolve\n",
      "                )\n"
     ],
     "language": "python",
     "metadata": {},
     "outputs": []
    },
    {
     "cell_type": "code",
     "collapsed": false,
     "input": [
      "#Detection Merging\n",
      "\n",
      "fpSet = results.fpSets.positive\n",
      "fpSet.merge(results.fpSets.negative, self.config.growFootprint, self.config.growFootprint, False)\n",
      "diaSources = afwTable.SourceCatalog(table)\n",
      "fpSet.makeSources(diaSources)\n"
     ],
     "language": "python",
     "metadata": {},
     "outputs": []
    },
    {
     "cell_type": "code",
     "collapsed": false,
     "input": [
      "#Source Measurement\n",
      "    if len(diaSources) < self.config.maxDiaSourcesToMeasure:\n",
      "             self.dipoleMeasurement.run(subtractedExposure, diaSources)\n",
      "    else:\n",
      "             self.measurement.run(subtractedExposure, diaSources)"
     ],
     "language": "python",
     "metadata": {},
     "outputs": []
    },
    {
     "cell_type": "code",
     "collapsed": false,
     "input": [
      "    if self.config.doMatchSources:\n",
      "            if sensorRef.datasetExists(\"src\"):\n",
      " \n",
      "                    matchRadAsec = self.config.diaSourceMatchRadius\n",
      "                    matchRadPixel = matchRadAsec / exposure.getWcs().pixelScale().asArcseconds()\n",
      "\n",
      "                    srcMatches = afwTable.matchXy(sensorRef.get(\"src\"), diaSources, matchRadPixel, True)\n",
      "                    srcMatchDict = dict([(srcMatch.second.getId(), srcMatch.first.getId()) for \n",
      "                                         srcMatch in srcMatches])\n",
      "                    \n",
      "            else:\n",
      "                    self.log.warn(\"Src product does not exist; cannot match with diaSources\")\n",
      "                    srcMatchDict = {}\n",
      "\n",
      " "
     ],
     "language": "python",
     "metadata": {},
     "outputs": []
    },
    {
     "cell_type": "code",
     "collapsed": false,
     "input": [
      "               \n",
      "astrometer = measAstrom.Astrometry(measAstrom.MeasAstromConfig(catalogMatchDist=matchRadAsec))\n",
      "astromRet = astrometer.useKnownWcs(diaSources, exposure=exposure)\n",
      "refMatches = astromRet.matches\n",
      "\n",
      "if refMatches is None:\n",
      "        print(\"No diaSource matches with reference catalog\")\n",
      "        refMatchDict = {}\n",
      "else:\n",
      "        prinbt(\"Matched %d / %d diaSources to reference catalog\" % (len(refMatches), len(diaSources)))\n",
      "        refMatchDict = dict([(refMatch.second.getId(), refMatch.first.getId()) for refMatch in refMatches])"
     ],
     "language": "python",
     "metadata": {},
     "outputs": []
    },
    {
     "cell_type": "code",
     "collapsed": false,
     "input": [
      "# Assign source Ids\n",
      "for diaSource in diaSources:\n",
      "    sid = diaSource.getId()\n",
      "    if srcMatchDict.has_key(sid):\n",
      "       diaSource.set(\"srcMatchId\", srcMatchDict[sid])\n",
      "    if refMatchDict.has_key(sid):\n",
      "       diaSource.set(\"refMatchId\", refMatchDict[sid])"
     ],
     "language": "python",
     "metadata": {},
     "outputs": []
    },
    {
     "cell_type": "code",
     "collapsed": false,
     "input": [
      "if diaSources is not None and self.config.doWriteSources:\n",
      "                #sensorRef.put(diaSources, self.config.coaddName + \"Diff_diaSrc\")\n",
      "\n",
      "    if self.config.doAddMetrics and self.config.doSelectSources:\n",
      "        print(\"Evaluating metrics and control sample\")\n",
      "        kernelCandList = []\n",
      "        for cell in subtractRes.kernelCellSet.getCellList():\n",
      "                for cand in cell.begin(False): # include bad candidates\n",
      "                    kernelCandList.append(cast_KernelCandidateF(cand))\n",
      "\n",
      "                # Get basis list to build control sample kernels\n",
      "                basisList = afwMath.cast_LinearCombinationKernel(kernelCandList[0].getKernel(KernelCandidateF.ORIG)).getKernelList()\n",
      "\n",
      "                controlCandList = diffimTools.sourceTableToCandidateList(controlSources, \n",
      "                                                           subtractRes.warpedExposure, exposure,\n",
      "                                                           self.config.subtract.kernel.active,\n",
      "                                                           self.config.subtract.kernel.active.detectionConfig,\n",
      "                                                           self.log, doBuild=True, basisList=basisList)\n",
      "\n",
      "           "
     ],
     "language": "python",
     "metadata": {},
     "outputs": []
    },
    {
     "cell_type": "code",
     "collapsed": false,
     "input": [
      "return pipeBase.Struct(\n",
      "            subtractedExposure=subtractedExposure,\n",
      "            subtractRes=subtractRes,\n",
      "            sources=diaSources,\n",
      "        )"
     ],
     "language": "python",
     "metadata": {},
     "outputs": []
    }
   ],
   "metadata": {}
  }
 ]
}