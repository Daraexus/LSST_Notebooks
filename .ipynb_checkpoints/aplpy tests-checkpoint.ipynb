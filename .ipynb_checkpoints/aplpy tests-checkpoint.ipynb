{
 "metadata": {
  "name": "",
  "signature": "sha256:449f37a5184f2c975021ac703b2582a41a9e864a03f79c17f56782ec34feac40"
 },
 "nbformat": 3,
 "nbformat_minor": 0,
 "worksheets": []
}