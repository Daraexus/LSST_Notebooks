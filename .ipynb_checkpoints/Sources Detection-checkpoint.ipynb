{
 "metadata": {
  "name": ""
 },
 "nbformat": 3,
 "nbformat_minor": 0,
 "worksheets": [
  {
   "cells": [
    {
     "cell_type": "code",
     "collapsed": false,
     "input": [
      "import lsst.daf.persistence as dafPersist\n",
      "from lsst.meas.astrom import Astrometry\n",
      "import lsst.afw.cameraGeom as cg\n",
      "import lsst.afw.geom as afwGeom\n",
      "import math\n",
      "import lsst.afw.display.ds9 as ds9\n",
      "import lsst.afw.image as afwImg\n",
      "\n",
      "DIR1=\"/renoir_data_00/jpreyes/stacks/notebook_files/data/CFHTLS\"\n",
      "DIR2=\"/renoir_data_00/jpreyes/stacks/notebook_files/data/CFHTLS_S1\"\n",
      "DIR3=\"/renoir_data_00/jpreyes/stacks/notebook_files/data/CFHTLS_S3\"\n",
      "DIR4=\"/renoir_data_00/jpreyes/stacks/notebook_files/data/CFHTLS_S4\""
     ],
     "language": "python",
     "metadata": {},
     "outputs": [],
     "prompt_number": 79
    },
    {
     "cell_type": "code",
     "collapsed": false,
     "input": [
      "sources1 = ShowSources(DIR1, 994755, 00, 'r', 1)\n",
      "sources2 = ShowSources(DIR2, 996230, 00, 'r', 2) \n",
      "sources3 = ShowSources(DIR3, 996232, 00, 'r', 3) \n",
      "sources4 = ShowSources(DIR4, 996233, 00, 'r', 4) \n",
      "ds9.ds9Cmd(cmd=\"tile\")"
     ],
     "language": "python",
     "metadata": {},
     "outputs": [
      {
       "output_type": "stream",
       "stream": "stdout",
       "text": [
        "\n",
        "ds9 doesn't appear to be running (XPA: XPA returned NULL, (;iconify no; raise)), I'll exec it for you\n",
        "waiting for ds9...\r"
       ]
      },
      {
       "output_type": "stream",
       "stream": "stdout",
       "text": [
        "waiting for ds9...\r"
       ]
      },
      {
       "output_type": "stream",
       "stream": "stdout",
       "text": [
        "waiting for ds9...\r"
       ]
      },
      {
       "output_type": "stream",
       "stream": "stdout",
       "text": [
        "waiting for ds9...\r"
       ]
      },
      {
       "output_type": "stream",
       "stream": "stdout",
       "text": [
        "waiting for ds9...\r"
       ]
      },
      {
       "output_type": "stream",
       "stream": "stdout",
       "text": [
        "                                     \r"
       ]
      },
      {
       "output_type": "stream",
       "stream": "stdout",
       "text": [
        "\n",
        "\n"
       ]
      },
      {
       "output_type": "stream",
       "stream": "stdout",
       "text": [
        "\n"
       ]
      }
     ],
     "prompt_number": 102
    },
    {
     "cell_type": "code",
     "collapsed": false,
     "input": [
      "\n",
      "\n",
      "color = [ ds9.BLUE, ds9.RED, ds9.GREEN, ds9.YELLOW ]\n",
      "\n",
      "i = 0\n",
      "for source1 in sources1:\n",
      "    for source2 in sources4:\n",
      "        delta = angDist(source1.getRa(), source1.getDec(), source2.getRa(), source2.getDec())\n",
      "        if delta < 0.000001:\n",
      "            print color[i%4]\n",
      "            ds9.dot(\"o\", source1.getX(), source1.getY(), frame=1, size = 50, ctype = color[i%4])\n",
      "            ds9.dot(\"o\", source2.getX(), source2.getY(), frame=1, size = 50, ctype = color[i%4])\n",
      "            i+=1\n",
      "            \n"
     ],
     "language": "python",
     "metadata": {},
     "outputs": [
      {
       "output_type": "stream",
       "stream": "stdout",
       "text": [
        "blue\n",
        "red\n",
        "green\n",
        "yellow\n",
        "blue\n",
        "red\n",
        "green\n",
        "yellow\n",
        "blue\n",
        "red\n",
        "green\n",
        "yellow"
       ]
      },
      {
       "output_type": "stream",
       "stream": "stdout",
       "text": [
        "\n",
        "blue\n",
        "red\n",
        "green\n",
        "yellow\n",
        "blue\n",
        "red\n",
        "green\n",
        "yellow\n",
        "blue\n",
        "red"
       ]
      },
      {
       "output_type": "stream",
       "stream": "stdout",
       "text": [
        "\n",
        "green\n",
        "yellow\n",
        "blue\n",
        "red\n",
        "green\n",
        "yellow\n",
        "blue\n",
        "red\n",
        "green\n",
        "yellow\n",
        "blue"
       ]
      },
      {
       "output_type": "stream",
       "stream": "stdout",
       "text": [
        "\n",
        "red\n",
        "green\n",
        "yellow\n",
        "blue\n",
        "red\n",
        "green\n",
        "yellow\n",
        "blue\n",
        "red\n",
        "green\n",
        "yellow\n",
        "blue\n",
        "red"
       ]
      },
      {
       "output_type": "stream",
       "stream": "stdout",
       "text": [
        "\n",
        "green\n"
       ]
      }
     ],
     "prompt_number": 99
    },
    {
     "cell_type": "code",
     "collapsed": false,
     "input": [
      "# Image identification keys\n",
      "\n",
      "def ShowSources(DATADIR, visit, ccd, filter, nFrame):\n",
      "\n",
      "    \n",
      "    \n",
      "    ccdName = 'ccd'+str(ccd).zfill(2)\n",
      "    \n",
      "    #setup butler - Replace path name by something suitable for you\n",
      "    butler = dafPersist.Butler(DATADIR+\"/output\")\n",
      "    \n",
      "    dataid = {'visit':visit, 'filter':filter, 'ccd':ccd}\n",
      "    \n",
      "    solve = Astrometry.ConfigClass()\n",
      "    astrom = Astrometry(solve)\n",
      "    \n",
      "    # setup camera\n",
      "    cam = butler.get('camera')\n",
      "    ccd = cam[ccdName]\n",
      "    \n",
      "    # Retrieve calexp\n",
      "    calexp = butler.get('calexp', dataid)\n",
      "    #print dir(calexp)\n",
      "    #print butler.mapper.map_calexp_filename\n",
      "     \n",
      "    \n",
      "  \n",
      "    # Find ccd center coordinates and use them to load the corresponding reference catalog\n",
      "    # from astrometry_net_data\n",
      "    \n",
      "    detCenter = ccd.getCenter(cg.PIXELS).getPoint()\n",
      "    detCenterCoord = calexp.getWcs().pixelToSky(detCenter)\n",
      "    refCat = astrom.getReferenceSources(detCenterCoord.getLongitude(), detCenterCoord.getLatitude(), afwGeom.Angle(1., afwGeom.degrees), filter)\n",
      "    \n",
      "    \n",
      "    \n",
      "    # Retrieve icSrc and icMatch catalogs\n",
      "    # ic stands for \"image characterization\"i.e. sources used to perform photometric and astrometric calibaration\n",
      "    # icMatch contains the match between icSrc sources and the reference catalog. Each row contains 3 numbers :\n",
      "    # distance, id in reference catalog, id of source in icSrc catalog\n",
      "    icSrc = butler.get('icSrc', dataid)\n",
      "    icMatch = butler.get('icMatch', dataid)\n",
      "    \n",
      "    # Print out the icSrc table schema\n",
      "    schema = icSrc.getSchema()\n",
      "  #  print schema.getOrderedNames()\n",
      "    print\n",
      "    \n",
      "    icSrc.sort()\n",
      "    refCat.sort()\n",
      "\n",
      "    diff_from_distance = []\n",
      "    diff_from_ra_dec = []\n",
      "    diff_between_both = []\n",
      "\n",
      "  #  print(detCenterCoord)\n",
      "\n",
      " #   print(\"Found %d matched sources in icMatch\"%(len(icMatch)))\n",
      " #   print\n",
      "\n",
      "    im1 = afwImg.ImageF(butler.mapper.map('calexp', dataid, write=False).locationList[0])\n",
      "    ds9.mtv(im1,frame=nFrame)\n",
      "    ds9.ds9Cmd(cmd=\"zoom to fit\")\n",
      "    ds9.ds9Cmd(cmd=\"zscale\")\n",
      "    \n",
      "    \n",
      "    sources =[]\n",
      "    for match in icMatch:\n",
      "       ref = refCat.find(match.get('first'))\n",
      "       source = icSrc.find(match.get('second'))\n",
      "     #  print source.getX(), source.getY()\n",
      "         #  xc = afwGeom.radToMas(ref.getRa())\n",
      "     #  yc = afwGeom.radToMas(ref.getDec())\n",
      "       sources.append(source)\n",
      "      # print source.getRa(), source.getDec(), ref.getRa(), ref.getDec()\n",
      "       ds9.dot(\"+\", source.getX(), source.getY(), frame=nFrame, size = 50, ctype = ds9.RED)\n",
      "\n",
      "    #print ref.getXO()\n",
      "   #print dir(ref)\n",
      "    \n",
      "\n",
      "    return sources;\n",
      "    "
     ],
     "language": "python",
     "metadata": {},
     "outputs": [],
     "prompt_number": 101
    },
    {
     "cell_type": "code",
     "collapsed": false,
     "input": [
      "#im1 = afwImg.ImageF(DATADIR+\"/output/coadd_r_dir/deepCoadd/r/0/2,57.fits\")\n",
      "#im2 = afwImg.ImageF(DATADIR+\"/output/coadd_r_dir/deepCoadd/r/0/2,58.fits\")\n",
      "#im3 = afwImg.ImageF(DATADIR+\"/output/coadd_r_dir/deepCoadd/r/0/3,57.fits\")\n",
      "#im4 = afwImg.ImageF(DATADIR+\"/output/coadd_r_dir/deepCoadd/r/0/3,58.fits\")\n",
      "#im2 = afwImg.ImageF(DATADIR+\"/output/coadd_r_dir/deepCoadd/r/0/28,30.fits\")\n",
      "#im3 = afwImg.ImageF(DATADIR+\"/output/coadd_r_dir/deepCoadd/r/0/29,29.fits\")\n",
      "#im4 = afwImg.ImageF(DATADIR+\"/output/coadd_r_dir/deepCoadd/r/0/29,30.fits\") #\n",
      "#ds9.mtv(im1,frame=0)\n",
      "#ds9.mtv(im3,frame=1)\n",
      "#ds9.mtv(im3,frame=2)\n",
      "#ds9.mtv(im4,frame=3)\n",
      "\n",
      "\n",
      "import lsst.pipe.tasks.processCoadd as CoaddProcesser\n",
      "CPTask = CoaddProcesser.ProcessCoaddTask\n",
      "CPTask.parseAndRun(args=((DATADIR+\"/output/coadd_r_dir --output \"+DATADIR+\"/output/coadd_r_dir/deepCoaddDetect @\"+DATADIR+\"/patches_r.txt\").split()))"
     ],
     "language": "python",
     "metadata": {},
     "outputs": [
      {
       "output_type": "stream",
       "stream": "stderr",
       "text": [
        "Traceback (most recent call last):\n",
        "  File \"/renoir_data_00/jpreyes/stacks/v9_2_copy/Linux64/pipe_base/9.2/python/lsst/pipe/base/cmdLineTask.py\", line 280, in precall\n",
        "    task.writeConfig(parsedCmd.butler, clobber=self.clobberConfig)\n",
        "  File \"/renoir_data_00/jpreyes/stacks/v9_2_copy/Linux64/pipe_base/9.2/python/lsst/pipe/base/cmdLineTask.py\", line 473, in writeConfig\n",
        "    oldConfig = butler.get(configName, immediate=True)\n",
        "  File \"/renoir_data_00/jpreyes/stacks/v9_2_copy/Linux64/daf_persistence/9.0+7/python/lsst/daf/persistence/butler.py\", line 244, in get\n",
        "    return callback()\n",
        "  File \"/renoir_data_00/jpreyes/stacks/v9_2_copy/Linux64/daf_persistence/9.0+7/python/lsst/daf/persistence/butler.py\", line 238, in <lambda>\n",
        "    callback = lambda: self._read(pythonType, location)\n",
        "  File \"/renoir_data_00/jpreyes/stacks/v9_2_copy/Linux64/daf_persistence/9.0+7/python/lsst/daf/persistence/butler.py\", line 420, in _read\n",
        "    finalItem.load(logLoc.locString())\n",
        "  File \"/renoir_data_00/jpreyes/stacks/v9_2_copy/Linux64/pex_config/9.0+7/python/lsst/pex/config/config.py\", line 533, in load\n",
        "    execfile(filename, {}, local)\n",
        "  File \"/renoir_data_00/jpreyes/stacks/notebook_files/data/CFHTLS/output/coadd_r_dir/deepCoaddDetect/config/deep_processCoadd.py\", line 90, in <module>\n",
        "    root.calibrate.initialMeasurement.algorithms['flux.dipole.psf'].maxPixels=500\n",
        "  File \"/renoir_data_00/jpreyes/stacks/v9_2_copy/Linux64/pex_config/9.0+7/python/lsst/pex/config/configChoiceField.py\", line 205, in __getitem__\n",
        "    raise FieldValidationError(self._field, self._config, \"Unknown key %r\"%k)\n",
        "FieldValidationError: RegistryField 'calibrate.initialMeasurement.algorithms' failed validation: Unknown key 'flux.dipole.psf'\n",
        "For more information read the Field definition at:\n",
        "  File \"/renoir_data_00/jpreyes/stacks/v9_2_copy/Linux64/pex_config/9.0+7/python/lsst/pex/config/registry.py\", line 179, in __init__\n",
        "    ConfigChoiceField.__init__(self, doc, types, default, optional, multi)\n",
        "And the Config definition at:\n",
        "  File \"/renoir_data_00/jpreyes/stacks/v9_2_copy/Linux64/meas_algorithms/9.2/python/lsst/meas/algorithms/measurement.py\", line 64, in <module>\n",
        "    class SourceMeasurementConfig(pexConfig.Config):\n",
        "\n"
       ]
      },
      {
       "metadata": {},
       "output_type": "pyout",
       "prompt_number": 3,
       "text": [
        "Struct(taskRunner=<lsst.pipe.base.cmdLineTask.TaskRunner object at 0x61ed350>; parsedCmd=Namespace(butler=<lsst.daf.persistence.butler.Butler object at 0x614fcd0>, calib=None, camera='megacam', clobberConfig=False, clobberOutput=False, config=lsst.pipe.tasks.processCoadd.ProcessCoaddConfig(doWriteHeavyFootprintsInSources=False, doWriteSources=True, doDetection=True, doScaleVariance=True, doWriteSourceMatches=True, coaddName='deep', detection={'reEstimateBackground': True, 'nSigmaToGrow': 2.4, 'minPixels': 1, 'includeThresholdMultiplier': 1.0, 'isotropicGrow': True, 'adjustBackground': 0.0, 'thresholdType': 'stdev', 'background': {'ignoredPixelMask': ['EDGE', 'DETECTED', 'DETECTED_NEGATIVE'], 'undersampleStyle': 'REDUCE_INTERP_ORDER', 'algorithm': 'NATURAL_SPLINE', 'binSize': 256, 'isNanSafe': False, 'statisticsProperty': 'MEANCLIP'}, 'returnOriginalFootprints': False, 'thresholdPolarity': 'positive', 'thresholdValue': 5.0}, doWriteCalibrateMatches=True, doDeblend=True, calibrate={'initialPsf': {'fwhm': 1.0, 'model': 'SingleGaussian', 'pixelScale': 0.25, 'size': 15}, 'repair': {'doInterpolate': False, 'doCosmicRay': False, 'cosmicray': {'keepCRs': False, 'cond3_fac2': 0.6, 'cond3_fac': 2.5, 'nCrPixelMax': 10000, 'niteration': 3, 'minSigma': 6.0, 'min_DN': 150.0}}, 'doPsf': False, 'astrometry': {'rejectIter': 3, 'forceKnownWcs': True, 'rejectThresh': 3.0, 'solver': {'cleaningParameter': 3.0, 'pixelScaleUncertainty': 1.1, 'catalogMatchDist': 1.0, 'useWcsParity': True, 'sipOrder': 4, 'useWcsRaDecCenter': True, 'matchThreshold': 27.631021115928547, 'useWcsPixelScale': True, 'maxStars': 50, 'allFluxes': True, 'calculateSip': False, 'maxCpuTime': 0.0, 'filterMap': {}, 'raDecSearchRadius': 1.0}}, 'doBackground': True, 'detection': {'reEstimateBackground': True, 'nSigmaToGrow': 2.4, 'minPixels': 1, 'includeThresholdMultiplier': 10.0, 'isotropicGrow': False, 'adjustBackground': 0.0, 'thresholdType': 'stdev', 'background': {'ignoredPixelMask': ['EDGE', 'DETECTED', 'DETECTED_NEGATIVE'], 'undersampleStyle': 'REDUCE_INTERP_ORDER', 'algorithm': 'NATURAL_SPLINE', 'binSize': 256, 'isNanSafe': False, 'statisticsProperty': 'MEANCLIP'}, 'returnOriginalFootprints': True, 'thresholdPolarity': 'positive', 'thresholdValue': 5.0}, 'doPhotoCal': False, 'initialMeasurement': {'doReplaceWithNoise': True, 'centroider': {'values': {'centroid.sdss': {'priority': 0.0, 'peakMin': -1.0, 'binmax': 16, 'wfac': 1.5}, 'centroid.naive': {'priority': 0.0, 'background': 0.0}, 'centroid.gaussian': {'priority': 0.0}}, 'name': 'centroid.sdss'}, 'prefix': None, 'algorithms': {'values': {'centroid.sdss': {'priority': 0.0, 'peakMin': -1.0, 'binmax': 16, 'wfac': 1.5}, 'flux.psf': {'priority': 2.0}, 'flags.pixel': {'priority': 0.0}, 'centroid.gaussian': {'priority': 0.0}, 'centroid.record': {'priority': 5.0}, 'flux.aperture': {'priority': 2.0, 'radii': [0.0, 0.0, 0.0, 0.0, 0.0, 0.0, 0.0, 0.0, 0.0, 0.0, 1.0, 1.5625, 2.44140625, 3.814697265625, 5.9604644775390625, 9.313225746154785, 14.551915228366852, 22.737367544323206, 35.52713678800501, 55.51115123125783]}, 'flux.naive': {'priority': 2.0, 'radius': 7.0}, 'flux.gaussian': {'shapeFlag': '.flags', 'tol2': 9.999999747378752e-05, 'tol1': 9.999999747378752e-06, 'priority': 2.0, 'shape': 'shape.sdss', 'centroid': 'shape.sdss.centroid', 'background': 0.0, 'maxIter': 100, 'fixed': False, 'shiftmax': 10.0}, 'centroid.naive': {'priority': 0.0, 'background': 0.0}, 'flux.sinc': {'priority': 2.0, 'radius1': 0.0, 'radius2': 7.0, 'angle': 0.0, 'ellipticity': 0.0}, 'shape.sdss': {'priority': 1.0, 'tol2': 9.999999747378752e-05, 'tol1': 9.999999747378752e-06, 'background': 0.0, 'maxIter': 100}, 'flux.aperture.elliptical': {'priority': 1.899999976158142, 'radii': [0.0, 0.0, 0.0, 0.0, 0.0, 0.0, 0.0, 0.0, 0.0, 0.0, 1.0, 1.5625, 2.44140625, 3.814697265625, 5.9604644775390625, 9.313225746154785, 14.551915228366852, 22.737367544323206, 35.52713678800501, 55.51115123125783]}, 'flux.peakLikelihood': {'priority': 2.0, 'warpingKernelName': 'lanczos4'}, 'correctfluxes': {'doApCorr': True, 'canonicalFluxName': 'flux.psf', 'apCorrRadius': 7.0, 'priority': 3.0, 'doFlagTieFailures': True, 'doFlagApCorrFailures': True, 'canonicalFluxIndex': 0, 'doTieScaledFluxes': True}, 'classification.extendedness': {'priority': 5.0, 'psfErrFactor': 0.0, 'modelErrFactor': 0.0, 'fluxRatio': 0.925}, 'skycoord': {'priority': 5.0}}, 'names': ['flux.psf', 'flags.pixel', 'shape.sdss', 'flux.naive', 'flux.gaussian', 'centroid.naive', 'flux.sinc', 'centroid.gaussian', 'skycoord']}, 'replaceWithNoise': {'noiseSeed': 0, 'noiseOffset': 0.0, 'noiseSource': 'measure'}, 'slots': {'psfFlux': 'flux.psf', 'apFlux': 'flux.sinc', 'instFlux': 'flux.gaussian', 'shape': 'shape.sdss', 'centroid': 'centroid.sdss', 'modelFlux': 'flux.gaussian'}}, 'measurePsf': {'psfDeterminer': {'values': {'pca': {'kernelSizeMax': 45, 'lam': 0.05, 'reducedChi2ForPsfCandidates': 2.0, 'nonLinearSpatialFit': False, 'spatialOrder': 2, 'doMaskBlends': True, 'sizeCellX': 256, 'sizeCellY': 256, 'spatialReject': 3.0, 'kernelSize': 10.0, 'constantWeight': True, 'nIterForPsf': 3, 'doRejectBlends': False, 'borderWidth': 0, 'nEigenComponents': 4, 'pixelThreshold': 0.0, 'nStarPerCellSpatialFit': 5, 'tolerance': 0.01, 'kernelSizeMin': 25, 'nStarPerCell': 3}}, 'name': 'pca'}, 'starSelector': {'values': {'objectSize': {'widthMax': 10.0, 'widthMin': 0.0, 'kernelSize': 21, 'fluxMin': 12500.0, 'borderWidth': 0, 'badFlags': ['base_PixelFlags_flag_edge', 'base_PixelFlags_flag_interpolatedCenter', 'base_PixelFlags_flag_saturatedCenter', 'base_PixelFlags_flag_crCenter'], 'fluxMax': 0.0, 'sourceFluxField': 'base_GaussianFlux_flux'}, 'catalog': {'fluxLim': 0.0, 'borderWidth': 0, 'fluxMax': 0.0, 'kernelSize': 21, 'badStarPixelFlags': ['base_PixelFlags_flag_edge', 'base_PixelFlags_flag_interpolatedCenter', 'base_PixelFlags_flag_saturatedCenter', 'base_PixelFlags_flag_edge', 'base_PixelFlags_flag_interpolatedCenter', 'base_PixelFlags_flag_saturatedCenter']}, 'secondMoment': {'kernelSize': 21, 'histMomentMinMultiplier': 2.0, 'histSize': 64, 'histMomentClip': 5.0, 'borderWidth': 0, 'badFlags': ['base_PixelFlags_flag_edge', 'base_PixelFlags_flag_interpolatedCenter', 'base_PixelFlags_flag_saturatedCenter', 'base_PixelFlags_flag_crCenter'], 'histMomentMaxMultiplier': 5.0, 'fluxMax': 0.0, 'clumpNSigma': 2.0, 'fluxLim': 12500.0, 'histMomentMax': 100.0}, 'sizeMagnitude': {'startn1': 0.1, 'starsperbin': 30, 'fitorder': 1, 'minmag': 0.0, 'starfrac': 0.5, 'maxmag': 1e+100, 'logsize': False, 'minsize': 0.0, 'aperture': 5.0, 'maxsize': 1e+100, 'fitsigclip': 4.0, 'purityratio': 0.05}}, 'name': 'secondMoment'}}, 'background': {'ignoredPixelMask': ['EDGE', 'DETECTED', 'DETECTED_NEGATIVE'], 'undersampleStyle': 'REDUCE_INTERP_ORDER', 'algorithm': 'NATURAL_SPLINE', 'binSize': 1024, 'isNanSafe': False, 'statisticsProperty': 'MEANCLIP'}, 'measurement': {'doReplaceWithNoise': True, 'centroider': {'values': {'centroid.sdss': {'priority': 0.0, 'peakMin': -1.0, 'binmax': 16, 'wfac': 1.5}, 'centroid.naive': {'priority': 0.0, 'background': 0.0}, 'centroid.gaussian': {'priority': 0.0}}, 'name': 'centroid.sdss'}, 'prefix': None, 'algorithms': {'values': {'centroid.sdss': {'priority': 0.0, 'peakMin': -1.0, 'binmax': 16, 'wfac': 1.5}, 'flux.psf': {'priority': 2.0}, 'flags.pixel': {'priority': 0.0}, 'centroid.gaussian': {'priority': 0.0}, 'centroid.record': {'priority': 5.0}, 'flux.aperture': {'priority': 2.0, 'radii': [0.0, 0.0, 0.0, 0.0, 0.0, 0.0, 0.0, 0.0, 0.0, 0.0, 1.0, 1.5625, 2.44140625, 3.814697265625, 5.9604644775390625, 9.313225746154785, 14.551915228366852, 22.737367544323206, 35.52713678800501, 55.51115123125783]}, 'flux.naive': {'priority': 2.0, 'radius': 7.0}, 'flux.gaussian': {'shapeFlag': '.flags', 'tol2': 9.999999747378752e-05, 'tol1': 9.999999747378752e-06, 'priority': 2.0, 'shape': 'shape.sdss', 'centroid': 'shape.sdss.centroid', 'background': 0.0, 'maxIter': 100, 'fixed': False, 'shiftmax': 10.0}, 'centroid.naive': {'priority': 0.0, 'background': 0.0}, 'flux.sinc': {'priority': 2.0, 'radius1': 0.0, 'radius2': 7.0, 'angle': 0.0, 'ellipticity': 0.0}, 'shape.sdss': {'priority': 1.0, 'tol2': 9.999999747378752e-05, 'tol1': 9.999999747378752e-06, 'background': 0.0, 'maxIter': 100}, 'flux.aperture.elliptical': {'priority': 1.899999976158142, 'radii': [0.0, 0.0, 0.0, 0.0, 0.0, 0.0, 0.0, 0.0, 0.0, 0.0, 1.0, 1.5625, 2.44140625, 3.814697265625, 5.9604644775390625, 9.313225746154785, 14.551915228366852, 22.737367544323206, 35.52713678800501, 55.51115123125783]}, 'flux.peakLikelihood': {'priority': 2.0, 'warpingKernelName': 'lanczos4'}, 'correctfluxes': {'doApCorr': True, 'canonicalFluxName': 'flux.psf', 'apCorrRadius': 7.0, 'priority': 3.0, 'doFlagTieFailures': True, 'doFlagApCorrFailures': True, 'canonicalFluxIndex': 0, 'doTieScaledFluxes': True}, 'classification.extendedness': {'priority': 5.0, 'psfErrFactor': 0.0, 'modelErrFactor': 0.0, 'fluxRatio': 0.925}, 'skycoord': {'priority': 5.0}}, 'names': ['flux.psf', 'flags.pixel', 'centroid.gaussian', 'flux.naive', 'flux.gaussian', 'centroid.naive', 'flux.sinc', 'shape.sdss', 'correctfluxes', 'classification.extendedness', 'skycoord']}, 'replaceWithNoise': {'noiseSeed': 0, 'noiseOffset': 0.0, 'noiseSource': 'measure'}, 'slots': {'psfFlux': 'flux.psf', 'apFlux': 'flux.sinc', 'instFlux': 'flux.gaussian', 'shape': 'shape.sdss', 'centroid': 'centroid.sdss', 'modelFlux': 'flux.gaussian'}}, 'photocal': {'nIter': 20, 'fluxField': 'base_PsfFlux_flux', 'magLimit': 22.0, 'sigmaMax': 0.25, 'nSigma': 3.0, 'goodFlags': [], 'applyColorTerms': True, 'badFlags': ['base_PixelFlags_flag_edge', 'base_PixelFlags_flag_interpolated', 'base_PixelFlags_flag_saturated'], 'useMedian': True, 'doWriteOutput': True}, 'doAstrometry': True}, measurement={'doReplaceWithNoise': True, 'centroider': {'values': {'centroid.sdss': {'priority': 0.0, 'peakMin': -1.0, 'binmax': 16, 'wfac': 1.5}, 'centroid.naive': {'priority': 0.0, 'background': 0.0}, 'centroid.gaussian': {'priority': 0.0}}, 'name': 'centroid.sdss'}, 'prefix': None, 'algorithms': {'values': {'centroid.sdss': {'priority': 0.0, 'peakMin': -1.0, 'binmax': 16, 'wfac': 1.5}, 'flux.psf': {'priority': 2.0}, 'flags.pixel': {'priority': 0.0}, 'centroid.gaussian': {'priority': 0.0}, 'centroid.record': {'priority': 5.0}, 'flux.aperture': {'priority': 2.0, 'radii': [0.0, 0.0, 0.0, 0.0, 0.0, 0.0, 0.0, 0.0, 0.0, 0.0, 1.0, 1.5625, 2.44140625, 3.814697265625, 5.9604644775390625, 9.313225746154785, 14.551915228366852, 22.737367544323206, 35.52713678800501, 55.51115123125783]}, 'flux.naive': {'priority': 2.0, 'radius': 7.0}, 'flux.gaussian': {'shapeFlag': '.flags', 'tol2': 9.999999747378752e-05, 'tol1': 9.999999747378752e-06, 'priority': 2.0, 'shape': 'shape.sdss', 'centroid': 'shape.sdss.centroid', 'background': 0.0, 'maxIter': 100, 'fixed': False, 'shiftmax': 10.0}, 'centroid.naive': {'priority': 0.0, 'background': 0.0}, 'flux.sinc': {'priority': 2.0, 'radius1': 0.0, 'radius2': 7.0, 'angle': 0.0, 'ellipticity': 0.0}, 'shape.sdss': {'priority': 1.0, 'tol2': 9.999999747378752e-05, 'tol1': 9.999999747378752e-06, 'background': 0.0, 'maxIter': 100}, 'flux.aperture.elliptical': {'priority': 1.899999976158142, 'radii': [0.0, 0.0, 0.0, 0.0, 0.0, 0.0, 0.0, 0.0, 0.0, 0.0, 1.0, 1.5625, 2.44140625, 3.814697265625, 5.9604644775390625, 9.313225746154785, 14.551915228366852, 22.737367544323206, 35.52713678800501, 55.51115123125783]}, 'flux.peakLikelihood': {'priority': 2.0, 'warpingKernelName': 'lanczos4'}, 'correctfluxes': {'doApCorr': True, 'canonicalFluxName': 'flux.psf', 'apCorrRadius': 7.0, 'priority': 3.0, 'doFlagTieFailures': True, 'doFlagApCorrFailures': True, 'canonicalFluxIndex': 0, 'doTieScaledFluxes': True}, 'classification.extendedness': {'priority': 5.0, 'psfErrFactor': 0.0, 'modelErrFactor': 0.0, 'fluxRatio': 0.925}, 'skycoord': {'priority': 5.0}}, 'names': ['flux.psf', 'flags.pixel', 'shape.sdss', 'flux.naive', 'flux.gaussian', 'centroid.naive', 'flux.sinc', 'centroid.gaussian', 'correctfluxes', 'classification.extendedness', 'skycoord']}, 'replaceWithNoise': {'noiseSeed': 0, 'noiseOffset': 0.0, 'noiseSource': 'measure'}, 'slots': {'psfFlux': 'flux.psf', 'apFlux': 'flux.sinc', 'instFlux': 'flux.gaussian', 'shape': 'shape.sdss', 'centroid': 'centroid.sdss', 'modelFlux': 'flux.gaussian'}}, doMeasurement=True, deblend={'edgeHandling': 'ramp', 'assignStrayFlux': True, 'strayFluxRule': 'r-to-peak', 'strayFluxToPointSources': 'necessary', 'psfChisq2b': 1.5, 'maxFootprintArea': 100000, 'tinyFootprintSize': 2, 'findStrayFlux': True, 'psfChisq1': 1.5, 'psfChisq2': 1.5, 'maxNumberOfPeaks': 20, 'clipStrayFluxFraction': 0.01}, doCalibrate=True, persistBackgroundModel=True, doWriteCalibrate=True), debug=False, doraise=False, id=<lsst.coadd.utils.coaddDataIdContainer.CoaddDataIdContainer object at 0x6160050>, input='/renoir_data_00/jpreyes/stacks/notebook_files/data/CFHTLS/output/coadd_r_dir', log=<lsst.pex.logging.loggingLib.Log; proxy of <Swig Object of type 'lsst::pex::logging::Log *' at 0x6157d50> >, obsPkg='obs_cfht', output='/renoir_data_00/jpreyes/stacks/notebook_files/data/CFHTLS/output/coadd_r_dir/deepCoaddDetect', processes=1, profile=None, show=(), timeout=None, trace=None); resultList=[]; argumentParser=ArgumentParser(prog='-c', usage='%(prog)s input [options]', description=None, version=None, formatter_class=<class 'argparse.RawDescriptionHelpFormatter'>, conflict_handler='error', add_help=True))"
       ]
      }
     ],
     "prompt_number": 3
    },
    {
     "cell_type": "code",
     "collapsed": false,
     "input": [
      " def angDist(ra_1, dec_1, ra_2, dec_2):\n",
      "        \n",
      "    sindec_1 = math.sin(dec_1)\n",
      "    cosdec_1 = math.cos(dec_1)\n",
      "    sindec_2 = math.sin(dec_2)\n",
      "    cosdec_2 = math.cos(dec_2)\n",
      "    cosra_2_ra_1 = math.cos(ra_2-ra_1)\n",
      "    sinra_2_ra_1 = math.sin(ra_2-ra_1)\n",
      "    \n",
      "    aux = (cosdec_1 * sindec_2) - (sindec_1 * cosdec_2 * cosra_2_ra_1)\n",
      "    num = (cosdec_2 * cosdec_2 * sinra_2_ra_1 * sinra_2_ra_1) + aux*aux\n",
      "    den = (sindec_1 * sindec_2) + (cosdec_1 * cosdec_2 * cosra_2_ra_1)\n",
      "    \n",
      "    return math.atan2(math.sqrt(num), den)\n"
     ],
     "language": "python",
     "metadata": {},
     "outputs": [],
     "prompt_number": 85
    },
    {
     "cell_type": "code",
     "collapsed": false,
     "input": [],
     "language": "python",
     "metadata": {},
     "outputs": []
    }
   ],
   "metadata": {}
  }
 ]
}