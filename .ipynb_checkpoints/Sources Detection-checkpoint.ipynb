{
 "metadata": {
  "name": ""
 },
 "nbformat": 3,
 "nbformat_minor": 0,
 "worksheets": [
  {
   "cells": [
    {
     "cell_type": "code",
     "collapsed": false,
     "input": [
      "import lsst.daf.persistence as dafPersist\n",
      "\n",
      "from lsst.daf.persistence import StorageList, LogicalLocation, ReadProxy, ButlerSubset, ButlerDataRef\n",
      "\n",
      "\n",
      "import lsst.daf.base as dafBase\n",
      "from lsst.meas.astrom import Astrometry\n",
      "import lsst.afw.cameraGeom as cg\n",
      "import lsst.afw.geom as afwGeom\n",
      "import math\n",
      "import lsst.afw.display.ds9 as ds9\n",
      "import lsst.afw.image as afwImg\n",
      "import lsst.afw.table as afwTable\n",
      "\n",
      "import lsst.pipe.tasks.processCoadd as CoaddProcesser\n",
      "import lsst.pipe.tasks.processCcd as Processer\n",
      "import lsst.pipe.tasks.makeSkyMap as SkyMapper\n",
      "import lsst.pipe.tasks.reportPatches as PatchReporter\n",
      "import lsst.pipe.tasks.makeCoaddTempExp as TempexpCoadder\n",
      "import lsst.pipe.tasks.assembleCoadd as Assembler\n",
      "\n",
      "import glob\n",
      "import os\n",
      "import subprocess\n",
      "import sys\n",
      "\n",
      "DIR1=\"/renoir_data_00/jpreyes/stacks/notebook_files/data/CFHTLS\"\n",
      "DIR2=\"/renoir_data_00/jpreyes/stacks/notebook_files/data/CFHTLS_S1\"\n",
      "DIR3=\"/renoir_data_00/jpreyes/stacks/notebook_files/data/CFHTLS_S3\"\n",
      "DIR4=\"/renoir_data_00/jpreyes/stacks/notebook_files/data/CFHTLS_S4\"\n",
      "DIR_SUB1 = \"/renoir_data_00/jpreyes/stacks/notebook_files/data/CFHTLS_SUB1\"\n",
      "DIR_SUB2 = \"/renoir_data_00/jpreyes/stacks/notebook_files/data/CFHTLS_SUB2\"\n",
      "DIR_SUB3 = \"/renoir_data_00/jpreyes/stacks/notebook_files/data/CFHTLS_SUB3\"\n",
      "DIR_SUB4 = \"/renoir_data_00/jpreyes/stacks/notebook_files/data/CFHTLS_SUB4\"\n",
      "DIR_SUB5 = \"/renoir_data_00/jpreyes/stacks/notebook_files/data/CFHTLS_SUB5\"\n",
      "\n",
      "DATADIR=\"/renoir_data_02/jpreyes/lsst_data/data/CFHTLS\"\n"
     ],
     "language": "python",
     "metadata": {},
     "outputs": [],
     "prompt_number": 25
    },
    {
     "cell_type": "markdown",
     "metadata": {},
     "source": [
      "It is important ro remember that, by default, the method looks within deepCoadResults, so it is necessary to change the out path manually..."
     ]
    },
    {
     "cell_type": "code",
     "collapsed": false,
     "input": [
      "DATADIR1=\"/renoir_data_02/jpreyes/lsst_data/data/CFHTLS_S1\"\n",
      "coaddSources1 = ShowCoaddSources(DATADIR1, '33,15', 'r', 1, 1)\n",
      "ds9.ds9Cmd(cmd=\"tile\")"
     ],
     "language": "python",
     "metadata": {},
     "outputs": [
      {
       "output_type": "stream",
       "stream": "stdout",
       "text": [
        "{'run': <type 'int'>, 'object': <type 'str'>, 'tract': <type 'int'>, 'date': <type 'str'>, 'path': <type 'str'>, 'extension': <type 'int'>, 'skyTile': <type 'int'>, 'visit': <type 'int'>, 'patch': <type 'str'>, 'filter': <type 'str'>, 'field': <type 'int'>, 'state': <type 'str'>, 'runId': <type 'str'>, 'ccd': <type 'int'>, 'camcol': <type 'int'>, 'sensor': <type 'str'>, 'raft': <type 'str'>}\n",
        "ds9 doesn't appear to be running (XPA: XPA returned NULL, (;iconify no; raise)), I'll exec it for you\n",
        "waiting for ds9...\r"
       ]
      },
      {
       "output_type": "stream",
       "stream": "stdout",
       "text": [
        "waiting for ds9...\r"
       ]
      },
      {
       "output_type": "stream",
       "stream": "stdout",
       "text": [
        "waiting for ds9...\r"
       ]
      },
      {
       "output_type": "stream",
       "stream": "stdout",
       "text": [
        "waiting for ds9...\r"
       ]
      },
      {
       "output_type": "stream",
       "stream": "stdout",
       "text": [
        "waiting for ds9...\r"
       ]
      },
      {
       "output_type": "stream",
       "stream": "stdout",
       "text": [
        "waiting for ds9...\r"
       ]
      },
      {
       "output_type": "stream",
       "stream": "stdout",
       "text": [
        "                                     \r"
       ]
      },
      {
       "output_type": "stream",
       "stream": "stdout",
       "text": [
        "\n",
        "(214.61, 52.811)"
       ]
      },
      {
       "output_type": "stream",
       "stream": "stdout",
       "text": [
        "\n"
       ]
      }
     ],
     "prompt_number": 41
    },
    {
     "cell_type": "code",
     "collapsed": false,
     "input": [
      "sources1 = ShowSources(DATADIR, 994755, 00, 'r', 1)\n",
      "sources2 = ShowSources(DIR2, 996230, 00, 'r', 2) \n",
      "sources3 = ShowSources(DIR3, 996232, 00, 'r', 3) \n",
      "sources4 = ShowSources(DIR4, 996233, 00, 'r', 4) \n",
      "ds9.ds9Cmd(cmd=\"tile\")"
     ],
     "language": "python",
     "metadata": {},
     "outputs": []
    },
    {
     "cell_type": "code",
     "collapsed": false,
     "input": [
      "\n",
      "\n",
      "color = [ ds9.BLUE, ds9.RED, ds9.GREEN, ds9.YELLOW ]\n",
      "\n",
      "i = 0\n",
      "for source1 in sources1:\n",
      "    for source2 in sources4:\n",
      "        delta = angDist(source1.getRa(), source1.getDec(), source2.getRa(), source2.getDec())\n",
      "        if delta < 0.000001:\n",
      "            \n",
      "            ds9.dot(\"o\", source1.getX(), source1.getY(), frame=1, size = 50, ctype = color[i%4])\n",
      "            ds9.dot(\"o\", source2.getX(), source2.getY(), frame=4, size = 50, ctype = color[i%4])\n",
      "            i+=1\n",
      "            break\n",
      "            \n",
      "            \n"
     ],
     "language": "python",
     "metadata": {},
     "outputs": []
    },
    {
     "cell_type": "code",
     "collapsed": false,
     "input": [
      "butler = dafPersist.Butler(DIR1+\"/output\")\n",
      "\n",
      "CPTask = CoaddProcesser.ProcessCoaddTask\n",
      "CPTask.parseAndRun(args=((DIR1+\"/output/coadd_r_dir --output \"+DIR1+\"/output/coadd_r_dir/deepCoaddDetect @\"+DIR1+\"/patches_r.txt\").split()))"
     ],
     "language": "python",
     "metadata": {},
     "outputs": []
    },
    {
     "cell_type": "code",
     "collapsed": false,
     "input": [
      "\n",
      "CPTask.parseAndRun(args=((DIR2+\"/output/coadd_r_dir --output \"+DIR2+\"/output/coadd_r_dir/deepCoaddDetect @\"+DIR2+\"/patches_r.txt\").split()))\n",
      "\n",
      "CPTask.parseAndRun(args=((DIR3+\"/output/coadd_r_dir --output \"+DIR3+\"/output/coadd_r_dir/deepCoaddDetect @\"+DIR3+\"/patches_r.txt\").split()))\n",
      "\n",
      "CPTask.parseAndRun(args=((DIR4+\"/output/coadd_r_dir --output \"+DIR4+\"/output/coadd_r_dir/deepCoaddDetect @\"+DIR4+\"/patches_r.txt\").split()))\n",
      "\n",
      "CPTask.parseAndRun(args=((DIR_SUB1+\"/output/coadd_r_dir --output \"+DIR_SUB1+\"/output/coadd_r_dir/deepCoaddDetect @\"+DIR_SUB1+\"/patches_r.txt \").split()))"
     ],
     "language": "python",
     "metadata": {},
     "outputs": []
    },
    {
     "cell_type": "code",
     "collapsed": false,
     "input": [
      "coaddSources1 = ShowCoaddSources(DIR_SUB1, '9,2', 'r', 1, 1)\n",
      "coaddSources2 = ShowCoaddSources(DIR_SUB2, '9,2', 'r', 1, 2)\n",
      "coaddSources3 = ShowCoaddSources(DIR_SUB3, '9,2', 'r', 1, 3)\n",
      "coaddSources4 = ShowCoaddSources(DIR_SUB4, '9,2', 'r', 1, 4)\n",
      "coaddSources5 = ShowCoaddSources(DIR_SUB5, '9,2', 'r', 1, 5)\n",
      "\n",
      "ds9.ds9Cmd(cmd=\"tile\")\n",
      "           \n"
     ],
     "language": "python",
     "metadata": {},
     "outputs": [
      {
       "output_type": "stream",
       "stream": "stdout",
       "text": [
        "{'run': <type 'int'>, 'object': <type 'str'>, 'tract': <type 'int'>, 'date': <type 'str'>, 'path': <type 'str'>, 'extension': <type 'int'>, 'skyTile': <type 'int'>, 'visit': <type 'int'>, 'patch': <type 'str'>, 'filter': <type 'str'>, 'field': <type 'int'>, 'state': <type 'str'>, 'runId': <type 'str'>, 'ccd': <type 'int'>, 'camcol': <type 'int'>, 'sensor': <type 'str'>, 'raft': <type 'str'>}\n",
        "ds9 doesn't appear to be running (XPA: XPA returned NULL, (;iconify no; raise)), I'll exec it for you"
       ]
      },
      {
       "output_type": "stream",
       "stream": "stdout",
       "text": [
        "\n",
        "waiting for ds9...\r"
       ]
      },
      {
       "output_type": "stream",
       "stream": "stdout",
       "text": [
        "waiting for ds9...\r"
       ]
      },
      {
       "output_type": "stream",
       "stream": "stdout",
       "text": [
        "waiting for ds9...\r"
       ]
      },
      {
       "output_type": "stream",
       "stream": "stdout",
       "text": [
        "waiting for ds9...\r"
       ]
      },
      {
       "output_type": "stream",
       "stream": "stdout",
       "text": [
        "waiting for ds9...\r"
       ]
      },
      {
       "output_type": "stream",
       "stream": "stdout",
       "text": [
        "waiting for ds9...\r"
       ]
      },
      {
       "output_type": "stream",
       "stream": "stdout",
       "text": [
        "waiting for ds9...\r"
       ]
      },
      {
       "output_type": "stream",
       "stream": "stdout",
       "text": [
        "                                     \r"
       ]
      },
      {
       "output_type": "stream",
       "stream": "stdout",
       "text": [
        "\n",
        "(215.14, 53.077)"
       ]
      },
      {
       "output_type": "stream",
       "stream": "stdout",
       "text": [
        "\n",
        "{'run': <type 'int'>, 'object': <type 'str'>, 'tract': <type 'int'>, 'date': <type 'str'>, 'path': <type 'str'>, 'extension': <type 'int'>, 'skyTile': <type 'int'>, 'visit': <type 'int'>, 'patch': <type 'str'>, 'filter': <type 'str'>, 'field': <type 'int'>, 'state': <type 'str'>, 'runId': <type 'str'>, 'ccd': <type 'int'>, 'camcol': <type 'int'>, 'sensor': <type 'str'>, 'raft': <type 'str'>}"
       ]
      },
      {
       "output_type": "stream",
       "stream": "stdout",
       "text": [
        "\n",
        "\n"
       ]
      },
      {
       "output_type": "stream",
       "stream": "stdout",
       "text": [
        "(215.14, 53.077)\n",
        "{'run': <type 'int'>, 'object': <type 'str'>, 'tract': <type 'int'>, 'date': <type 'str'>, 'path': <type 'str'>, 'extension': <type 'int'>, 'skyTile': <type 'int'>, 'visit': <type 'int'>, 'patch': <type 'str'>, 'filter': <type 'str'>, 'field': <type 'int'>, 'state': <type 'str'>, 'runId': <type 'str'>, 'ccd': <type 'int'>, 'camcol': <type 'int'>, 'sensor': <type 'str'>, 'raft': <type 'str'>}"
       ]
      },
      {
       "output_type": "stream",
       "stream": "stdout",
       "text": [
        "\n",
        "\n"
       ]
      },
      {
       "output_type": "stream",
       "stream": "stdout",
       "text": [
        "(215.14, 53.077)\n",
        "{'run': <type 'int'>, 'object': <type 'str'>, 'tract': <type 'int'>, 'date': <type 'str'>, 'path': <type 'str'>, 'extension': <type 'int'>, 'skyTile': <type 'int'>, 'visit': <type 'int'>, 'patch': <type 'str'>, 'filter': <type 'str'>, 'field': <type 'int'>, 'state': <type 'str'>, 'runId': <type 'str'>, 'ccd': <type 'int'>, 'camcol': <type 'int'>, 'sensor': <type 'str'>, 'raft': <type 'str'>}"
       ]
      },
      {
       "output_type": "stream",
       "stream": "stdout",
       "text": [
        "\n",
        "\n"
       ]
      },
      {
       "output_type": "stream",
       "stream": "stdout",
       "text": [
        "(215.14, 53.077)\n",
        "{'run': <type 'int'>, 'object': <type 'str'>, 'tract': <type 'int'>, 'date': <type 'str'>, 'path': <type 'str'>, 'extension': <type 'int'>, 'skyTile': <type 'int'>, 'visit': <type 'int'>, 'patch': <type 'str'>, 'filter': <type 'str'>, 'field': <type 'int'>, 'state': <type 'str'>, 'runId': <type 'str'>, 'ccd': <type 'int'>, 'camcol': <type 'int'>, 'sensor': <type 'str'>, 'raft': <type 'str'>}"
       ]
      },
      {
       "output_type": "stream",
       "stream": "stdout",
       "text": [
        "\n",
        "\n"
       ]
      },
      {
       "output_type": "stream",
       "stream": "stdout",
       "text": [
        "(215.14, 53.077)\n"
       ]
      }
     ],
     "prompt_number": 6
    },
    {
     "cell_type": "code",
     "collapsed": false,
     "input": [
      "%matplotlib inline\n",
      "import matplotlib\n",
      "import matplotlib.pylab as plt\n",
      "import numpy as np\n",
      "\n",
      "# Plot distance between icSrc and reference sources\n",
      "#print fluxInTime\n",
      "#print time\n",
      "\n",
      "ds9color = [ ds9.BLUE, ds9.RED, ds9.GREEN, ds9.YELLOW ]\n",
      "\n",
      "i = 0\n",
      "time = [1, 2, 3, 4, 5]       \n",
      "fluxinTime = []\n",
      "plt.clf()\n",
      "fig, ax0 = plt.subplots(ncols=1, figsize=(10, 10))\n",
      "\n",
      "for source in coaddSources1:\n",
      "    match2 = FindMatchingSource(source, coaddSources2, 0.00001)\n",
      "    match3 = FindMatchingSource(source, coaddSources3, 0.00001)\n",
      "    match4 = FindMatchingSource(source, coaddSources4, 0.00001)\n",
      "    match5 = FindMatchingSource(source, coaddSources5, 0.00001)\n",
      "    \n",
      "   \n",
      "   \n",
      "    if match2 is not None and match3 is not None and match4 is not None and match5 is not None:\n",
      "             \n",
      "        ds9.dot(\"o\", source.getX()-35900, source.getY()-7900, frame=1, size = 50, ctype = ds9color[i%4])\n",
      "        ds9.dot(\"o\", match2.getX()-35900, match2.getY()-7900, frame=2, size = 50, ctype = ds9color[i%4])\n",
      "        ds9.dot(\"o\", match3.getX()-35900, match3.getY()-7900, frame=3, size = 50, ctype = ds9color[i%4])\n",
      "        ds9.dot(\"o\", match4.getX()-35900, match4.getY()-7900, frame=4, size = 50, ctype = ds9color[i%4])\n",
      "        ds9.dot(\"o\", match5.getX()-35900, match5.getY()-7900, frame=5, size = 50, ctype = ds9color[i%4])\n",
      "        \n",
      "        fluxInTime = [source.getApFlux(), match2.getApFlux(), match3.getApFlux(), match4.getApFlux(), match5.getApFlux()]\n",
      "        print ds9color[i%4]\n",
      "        print \"Flux through time\", str(source.getApFlux()), str(match2.getApFlux()), str(match3.getApFlux()), str(match4.getApFlux()), str(match5.getApFlux())\n",
      "        i+=1\n",
      "        \n",
      "        \n",
      "        color = np.random.random(10)\n",
      "        ax0.scatter(time, fluxInTime, c=color, s=100)\n",
      "        #ax0.set_xlim([0.,5.])\n",
      "        #ax0.set_ylim([0.,200.])\n",
      "        ax0.set_xlabel(\"Time\")\n",
      "        ax0.set_ylabel(\"ApFlux\")\n",
      "       \n",
      "plt.show()\n",
      "    "
     ],
     "language": "python",
     "metadata": {},
     "outputs": [
      {
       "output_type": "stream",
       "stream": "stdout",
       "text": [
        "blue\n",
        "Flux through time 7192.89459103 9766.83265914 10214.0620545 8962.90331043 6408.45647048\n",
        "red"
       ]
      },
      {
       "output_type": "stream",
       "stream": "stdout",
       "text": [
        "\n",
        "Flux through time 524.666061148 383.587042864 213.52967481 341.974593489 128.68526007\n",
        "green"
       ]
      },
      {
       "output_type": "stream",
       "stream": "stdout",
       "text": [
        "\n",
        "Flux through time 143.421307106 118.373062813 218.145549184 103.966161477 88.3479846634\n",
        "yellow"
       ]
      },
      {
       "output_type": "stream",
       "stream": "stdout",
       "text": [
        "\n",
        "Flux through time 8805.87054144 12942.5583846 14636.391635 11721.0561413 8348.62205217\n",
        "blue"
       ]
      },
      {
       "output_type": "stream",
       "stream": "stdout",
       "text": [
        "\n",
        "Flux through time 3788.55124815 8952.8389381 9470.06184125 8035.3087025 5924.66301126\n",
        "red"
       ]
      },
      {
       "output_type": "stream",
       "stream": "stdout",
       "text": [
        "\n",
        "Flux through time 2631.7684939 2562.58510547 2531.13347139 2476.81966503 2189.94283986\n",
        "green"
       ]
      },
      {
       "output_type": "stream",
       "stream": "stdout",
       "text": [
        "\n",
        "Flux through time 5048.56050233 7347.95030372 7793.73664665 6775.96458702 5119.71289908\n",
        "yellow"
       ]
      },
      {
       "output_type": "stream",
       "stream": "stdout",
       "text": [
        "\n",
        "Flux through time 1173.08795831 1118.80357905 1658.33306857 938.973494168 658.321082878\n",
        "blue"
       ]
      },
      {
       "output_type": "stream",
       "stream": "stdout",
       "text": [
        "\n",
        "Flux through time 5786.14309671 7771.72187757 8750.30299126 7088.45002591 5354.55450251\n",
        "red"
       ]
      },
      {
       "output_type": "stream",
       "stream": "stdout",
       "text": [
        "\n",
        "Flux through time 9490.45819021 14808.1012491 16068.3700127 10816.1537644 7483.43449313\n"
       ]
      },
      {
       "metadata": {},
       "output_type": "display_data",
       "text": [
        "<matplotlib.figure.Figure at 0x61413d0>"
       ]
      },
      {
       "metadata": {},
       "output_type": "display_data",
       "png": "[encoded data removed]",
       "text": [
        "<matplotlib.figure.Figure at 0x6226210>"
       ]
      }
     ],
     "prompt_number": 12
    },
    {
     "cell_type": "code",
     "collapsed": false,
     "input": [
      "\n",
      "\n"
     ],
     "language": "python",
     "metadata": {},
     "outputs": [
      {
       "output_type": "stream",
       "stream": "stdout",
       "text": [
        "[9490.458190206673, 14808.101249127885, 16068.370012667458, 10816.153764358232, 7483.434493130439]\n",
        "[1, 2, 3, 4, 5]\n"
       ]
      },
      {
       "metadata": {},
       "output_type": "display_data",
       "text": [
        "<matplotlib.figure.Figure at 0x67c5790>"
       ]
      },
      {
       "metadata": {},
       "output_type": "display_data",
       "png": "[encoded data removed]",
       "text": [
        "<matplotlib.figure.Figure at 0x67c56d0>"
       ]
      }
     ],
     "prompt_number": 320
    },
    {
     "cell_type": "code",
     "collapsed": false,
     "input": [
      "def FindMatchingSource(source, referenceSources, delta):\n",
      "    for refSource in referenceSources:\n",
      "        dist = angDist(source.getRa(), source.getDec(), refSource.getRa(), refSource.getDec())\n",
      "        \n",
      "        if dist < delta:\n",
      "            return refSource\n",
      "                \n",
      "    return None\n",
      "        "
     ],
     "language": "python",
     "metadata": {},
     "outputs": [],
     "prompt_number": 2
    },
    {
     "cell_type": "code",
     "collapsed": false,
     "input": [
      "def ShowCoaddSources(DATADIR, patch, filter, tract, nFrame):\n",
      "    \n",
      "    butler_coadd = dafPersist.Butler(DATADIR+\"/output/coadd_r_dir\")\n",
      "\n",
      "    print butler_coadd.getKeys()\n",
      "    dataid_coadd = {'patch': patch, 'filter':filter, 'tract':tract}\n",
      "                  \n",
      "    deepCoadd = butler_coadd.get(\"deepCoadd\", dataid_coadd)\n",
      "    \n",
      "    icSrc = butler_coadd.get('deepCoadd_src', dataid_coadd)\n",
      "        \n",
      "    icMatch = butler_coadd.get('deepCoadd_icMatch', dataid_coadd)\n",
      "    \n",
      "    im1 = afwImg.ImageF(butler_coadd.mapper.map('deepCoadd', dataid_coadd, write=False).locationList[0])\n",
      "    \n",
      "    ds9.mtv(im1,frame=nFrame)\n",
      "    ds9.ds9Cmd(cmd=\"zoom to fit\")\n",
      "    ds9.ds9Cmd(cmd=\"zscale\")\n",
      "    \n",
      "    \n",
      "    # Print out the icSrc table schema\n",
      "    schema = icSrc.getSchema()\n",
      "    #  print schema.getOrderedNames()\n",
      "    print\n",
      "        \n",
      "    icSrc.sort()\n",
      "    #refCat.sort()\n",
      "    \n",
      "    #This here is not properly working\n",
      "    solve = Astrometry.ConfigClass()\n",
      "    astrom = Astrometry(solve)\n",
      "    \n",
      "    deepCoaddCalexp = butler_coadd.get(\"deepCoadd_calexp\", dataid_coadd)\n",
      "    point = deepCoaddCalexp.getXY0()\n",
      "    \n",
      "    pointR =point+afwGeom.Extent2I( deepCoaddCalexp.getHeight(),deepCoaddCalexp.getWidth())\n",
      "    \n",
      "    detCenter = afwGeom.Point2D(pointR.getX(),pointR.getY())\n",
      "    \n",
      "    detCenterCoord = deepCoaddCalexp.getWcs().pixelToSky(detCenter)\n",
      "    \n",
      "    \n",
      "    \n",
      "    print detCenterCoord.getPosition()\n",
      "    \n",
      "    #print detCenterCoord\n",
      "    refCat = astrom.getReferenceSources(detCenterCoord.getLongitude(), detCenterCoord.getLatitude(), afwGeom.Angle(1., afwGeom.degrees), 'r')\n",
      "    \n",
      "    deepCoaddCalexp = butler_coadd.get(\"deepCoadd_calexp\", dataid_coadd)\n",
      "\n",
      "    sources =[]\n",
      "    for source in icSrc:\n",
      "          # ref = refCat.find(match.get('first'))\n",
      "          # source = icSrc.find(match.get('second'))\n",
      "         #  pointSource = afwGeom.Point2D(source.getX(),source.getY())\n",
      "         #  sourceCoord = deepCoaddCalexp.getWcs().SkytoPixel(pointSource)\n",
      "         #  print source.getX(), source.getY()\n",
      "         #  xc = afwGeom.radToMas(ref.getRa())\n",
      "          # yc = afwGeom.radToMas(ref.getDec())\n",
      "           sources.append(source)\n",
      "           #print source.getX() - deepCoaddCalexp.getX0() , source.getY() - deepCoaddCalexp.getY0()\n",
      "           ds9.dot(\"+\", source.getX() - deepCoaddCalexp.getX0() , source.getY() - deepCoaddCalexp.getY0(), frame=nFrame, size = 25, ctype = ds9.RED)\n",
      "            \n",
      "    return sources;\n",
      "\n",
      "    "
     ],
     "language": "python",
     "metadata": {},
     "outputs": [],
     "prompt_number": 42
    },
    {
     "cell_type": "code",
     "collapsed": false,
     "input": [
      "#dataRef.get(\"src\")\n",
      "#for visit in butler_coadd.queryMetadata(\"deepCoadd\",\n",
      "#                (\"tract\")):\n",
      " #   print visit\n",
      "\n",
      "\n",
      "#print butler_coadd.dataRef\n",
      "#ccds = butler_coadd.get('deep_coadd')\n",
      "#tab1 = afwTable.ImageF(butler.mapper.map('calexp', dataid, write=False).locationList[0])\n",
      "# Image identification keys\n",
      "\n",
      "def ShowSources(DATADIR, visit, ccd, filter, nFrame):\n",
      "    \n",
      "    \n",
      "    ccdName = 'ccd'+str(ccd).zfill(2)\n",
      "    #setup butler - Replace path name by something suitable for you\n",
      "    butler = dafPersist.Butler(DATADIR+\"/output\")\n",
      "    dataid = {'visit':visit, 'filter':filter, 'ccd':ccd}\n",
      "    \n",
      "    print type(butler)\n",
      "    \n",
      "    solve = Astrometry.ConfigClass()\n",
      "    astrom = Astrometry(solve)\n",
      "    # setup camera\n",
      "    cam = butler.get('camera')\n",
      "    ccd = cam[ccdName]\n",
      "    print ccd\n",
      "    \n",
      "    # Retrieve calexp\n",
      "    calexp = butler.get('calexp', dataid)\n",
      "    #print dir(calexp)\n",
      "    #print butler.mapper.map_calexp_filename\n",
      "     \n",
      "    # Find ccd center coordinates and use them to load the corresponding reference catalog\n",
      "    # from astrometry_net_data\n",
      "    \n",
      "    detCenter = ccd.getCenter(cg.PIXELS).getPoint()\n",
      "    print detCenter\n",
      "    detCenterCoord = calexp.getWcs().pixelToSky(detCenter)\n",
      "    refCat = astrom.getReferenceSources(detCenterCoord.getLongitude(), detCenterCoord.getLatitude(), afwGeom.Angle(1., afwGeom.degrees), filter)\n",
      "    \n",
      "    \n",
      "    \n",
      "    # Retrieve icSrc and icMatch catalogs\n",
      "    # ic stands for \"image characterization\"i.e. sources used to perform photometric and astrometric calibaration\n",
      "    # icMatch contains the match between icSrc sources and the reference catalog. Each row contains 3 numbers :\n",
      "    # distance, id in reference catalog, id of source in icSrc catalog\n",
      "    icSrc = butler.get('icSrc', dataid)\n",
      "    \n",
      "    icMatch = butler.get('icMatch', dataid)\n",
      "    \n",
      "    # Print out the icSrc table schema\n",
      "    schema = icSrc.getSchema()\n",
      "  #  print schema.getOrderedNames()\n",
      "    print\n",
      "    \n",
      "    icSrc.sort()\n",
      "    refCat.sort()\n",
      "\n",
      "    diff_from_distance = []\n",
      "    diff_from_ra_dec = []\n",
      "    diff_between_both = []\n",
      "\n",
      "  #  print(detCenterCoord)\n",
      "\n",
      " #   print(\"Found %d matched sources in icMatch\"%(len(icMatch)))\n",
      " #   print\n",
      "\n",
      "    im1 = afwImg.ImageF(butler.mapper.map('calexp', dataid, write=False).locationList[0])\n",
      "    ds9.mtv(im1,frame=nFrame)\n",
      "    ds9.ds9Cmd(cmd=\"zoom to fit\")\n",
      "    ds9.ds9Cmd(cmd=\"zscale\")\n",
      "    \n",
      "    \n",
      "    sources =[]\n",
      "    for match in icMatch:\n",
      "       ref = refCat.find(match.get('first'))\n",
      "       source = icSrc.find(match.get('second'))\n",
      "     #  print source.getX(), source.getY()\n",
      "         #  xc = afwGeom.radToMas(ref.getRa())\n",
      "     #  yc = afwGeom.radToMas(ref.getDec())\n",
      "       sources.append(source)\n",
      "      # print source.getRa(), source.getDec(), ref.getRa(), ref.getDec()\n",
      "       ds9.dot(\"+\", source.getX(), source.getY(), frame=nFrame, size = 50, ctype = ds9.RED)\n",
      "\n",
      "    #print ref.getXO()\n",
      "   #print dir(ref)\n",
      "    \n",
      "\n",
      "    return sources;\n",
      "    "
     ],
     "language": "python",
     "metadata": {},
     "outputs": [],
     "prompt_number": 36
    },
    {
     "cell_type": "code",
     "collapsed": false,
     "input": [
      " def angDist(ra_1, dec_1, ra_2, dec_2):\n",
      "        \n",
      "    sindec_1 = math.sin(dec_1)\n",
      "    cosdec_1 = math.cos(dec_1)\n",
      "    sindec_2 = math.sin(dec_2)\n",
      "    cosdec_2 = math.cos(dec_2)\n",
      "    cosra_2_ra_1 = math.cos(ra_2-ra_1)\n",
      "    sinra_2_ra_1 = math.sin(ra_2-ra_1)\n",
      "    \n",
      "    aux = (cosdec_1 * sindec_2) - (sindec_1 * cosdec_2 * cosra_2_ra_1)\n",
      "    num = (cosdec_2 * cosdec_2 * sinra_2_ra_1 * sinra_2_ra_1) + aux*aux\n",
      "    den = (sindec_1 * sindec_2) + (cosdec_1 * cosdec_2 * cosra_2_ra_1)\n",
      "    \n",
      "    return math.atan2(math.sqrt(num), den)\n"
     ],
     "language": "python",
     "metadata": {},
     "outputs": [],
     "prompt_number": 6
    },
    {
     "cell_type": "code",
     "collapsed": false,
     "input": [],
     "language": "python",
     "metadata": {},
     "outputs": []
    }
   ],
   "metadata": {}
  }
 ]
}