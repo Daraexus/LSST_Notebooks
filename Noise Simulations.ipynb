{
 "cells": [
  {
   "cell_type": "code",
   "execution_count": 2,
   "metadata": {
    "collapsed": false
   },
   "outputs": [],
   "source": [
    "import lsst.meas.astrom as measAstrom\n",
    "import lsst.daf.base as dafBase\n",
    "import lsst.pipe.base as pipeBase\n",
    "import lsst.daf.persistence as dafPersist\n",
    "\n",
    "import random\n",
    "import matplotlib.pyplot as plt\n",
    "import numpy as np\n",
    "\n",
    "import lsst.afw.display.ds9 as ds9\n",
    "import lsst.afw.image as afwimage\n",
    "import lsst.afw.table as afwTable\n",
    "\n",
    "import lsst.afw.geom as afwGeom\n",
    "import lsst.afw.display.utils as displayUtils"
   ]
  },
  {
   "cell_type": "code",
   "execution_count": 14,
   "metadata": {
    "collapsed": false
   },
   "outputs": [],
   "source": [
    "w,h = 20, 20\n",
    "im_array = np.zeros([w,h], dtype=float)"
   ]
  },
  {
   "cell_type": "code",
   "execution_count": 12,
   "metadata": {
    "collapsed": false
   },
   "outputs": [],
   "source": [
    "im = afwimage.makeImageFromArray(im_array)\n",
    "ds9.mtv(im)"
   ]
  },
  {
   "cell_type": "code",
   "execution_count": 30,
   "metadata": {
    "collapsed": false
   },
   "outputs": [],
   "source": [
    "c1 = int(w/2)\n",
    "c2 = int(h/2)\n",
    "\n",
    "mask_array = np.zeros([w,h], dtype=np.int0)\n",
    "for i in range(w):\n",
    "    for j in range(h):\n",
    "        if (i-c1)*(i-c1) + (j-c2)*(j-c2) < 36:\n",
    "            mask_array[i][j] = 2"
   ]
  },
  {
   "cell_type": "code",
   "execution_count": 33,
   "metadata": {
    "collapsed": false
   },
   "outputs": [],
   "source": [
    "mi = afwimage.MaskedImageF(20,20)\n",
    "\n",
    "mask = mi.getMask()\n",
    "\n",
    "mplane = mask.addMaskPlane(\"DETECTED\")\n",
    "\n",
    "c1 = int(w/2)\n",
    "c2 = int(h/2)\n",
    "\n",
    "for i in range(w):\n",
    "    for j in range(h):\n",
    "        if (i-c1)*(i-c1) + (j-c2)*(j-c2) < 36:\n",
    "            mask[i,j] = mplane"
   ]
  },
  {
   "cell_type": "code",
   "execution_count": 147,
   "metadata": {
    "collapsed": false
   },
   "outputs": [],
   "source": [
    "ds9.mtv(exp_list[10])"
   ]
  },
  {
   "cell_type": "code",
   "execution_count": 146,
   "metadata": {
    "collapsed": false
   },
   "outputs": [
    {
     "data": {
      "text/plain": [
       "-1123.4789958692197"
      ]
     },
     "execution_count": 146,
     "metadata": {},
     "output_type": "execute_result"
    }
   ],
   "source": [
    "noise = np.random.normal(0,25,1000)\n",
    "np.sum(noise)"
   ]
  },
  {
   "cell_type": "code",
   "execution_count": 109,
   "metadata": {
    "collapsed": false
   },
   "outputs": [],
   "source": [
    "exp_list = []\n",
    "for n in range(200):\n",
    "\n",
    "    mi = afwimage.MaskedImageF(20,20)\n",
    "\n",
    "    mask = mi.getMask()\n",
    "\n",
    "    mplane = mask.addMaskPlane(\"DETECTED\")\n",
    "\n",
    "    c1 = int(w/2)\n",
    "    c2 = int(h/2)\n",
    "\n",
    "    for i in range(w):\n",
    "        for j in range(h):\n",
    "            if (i-c1)*(i-c1) + (j-c2)*(j-c2) < 36:\n",
    "                mask[i,j] = mplane\n",
    "    noise = np.random.normal(0,25,400)\n",
    "    noise = noise.reshape(20,20)\n",
    "    im = mi.getImage()\n",
    "\n",
    "    for i in range(w):\n",
    "        for j in range(h):\n",
    "            im.set(i,j,noise[i,j])\n",
    "    exp = afwimage.ExposureF()\n",
    "    exp.setMaskedImage(mi)\n",
    "    exp_list.append(exp)"
   ]
  },
  {
   "cell_type": "code",
   "execution_count": 148,
   "metadata": {
    "collapsed": true
   },
   "outputs": [],
   "source": [
    "def get_array_from_stamp(stamp):\n",
    "    mi = stamp.getMaskedImage()\n",
    "    mask = mi.getMask()\n",
    "    pixels_in_mask =0\n",
    "\n",
    "\n",
    "\n",
    "    values_out = []\n",
    "    values_in = []\n",
    "\n",
    "    bitmask_detected = mask.getPlaneBitMask(\"DETECTED\")\n",
    "    #bitmask_detected_neg = mask.getPlaneBitMask(\"DETECTED_NEGATIVE\")\n",
    "    #print \"///\"\n",
    "    #print bitmask\n",
    "    #print \"///\"\n",
    "\n",
    "    for x in range(0, mi.getWidth()):\n",
    "        for y in range (0, mi.getHeight()):\n",
    "            u =  mi.getMask()[x,y]\n",
    "\n",
    "            if u.get(0,0) & bitmask_detected == 0 and u.get(0,0):\n",
    "                values_out.append(mi.getImage().get(x,y))\n",
    "\n",
    "            else:\n",
    "                values_in.append(mi.getImage().get(x,y))\n",
    "                pixels_in_mask += 1\n",
    "\n",
    "    return values_out, values_in, pixels_in_mask"
   ]
  },
  {
   "cell_type": "code",
   "execution_count": 161,
   "metadata": {
    "collapsed": false
   },
   "outputs": [],
   "source": [
    "fluxes = []\n",
    "sigmas = []\n",
    "sigmas_pos =[]\n",
    "sigmas_neg =[]\n",
    "for exp in exp_list:\n",
    "    values_out, values_in, pixels_in_mask = get_array_from_stamp(exp)\n",
    "    \n",
    "    flux = np.sum(values_in)\n",
    "    sigma = np.std(values_out)\n",
    "    \n",
    "    #print flux, np.mean(values_in)\n",
    "    \n",
    "    fluxes.append(flux)\n",
    "    sigmas.append(sigma)\n",
    "    \n",
    "    if flux > 0:\n",
    "        sigmas_pos.append(sigma)\n",
    "    else:\n",
    "        sigmas_neg.append(sigma)"
   ]
  },
  {
   "cell_type": "code",
   "execution_count": 166,
   "metadata": {
    "collapsed": false
   },
   "outputs": [
    {
     "data": {
      "image/png": "[encoded data removed]",
      "text/plain": [
       "<matplotlib.figure.Figure at 0x7f2e5ddc6c90>"
      ]
     },
     "metadata": {},
     "output_type": "display_data"
    },
    {
     "data": {
      "image/png": "[encoded data removed]",
      "text/plain": [
       "<matplotlib.figure.Figure at 0x7f2e5e30f510>"
      ]
     },
     "metadata": {},
     "output_type": "display_data"
    },
    {
     "name": "stdout",
     "output_type": "stream",
     "text": [
      "std value = 25.038352585\n",
      "427.569892812\n"
     ]
    },
    {
     "data": {
      "image/png": "[encoded data removed]",
      "text/plain": [
       "<matplotlib.figure.Figure at 0x7f2e5dc10450>"
      ]
     },
     "metadata": {},
     "output_type": "display_data"
    }
   ],
   "source": [
    "sources = list(range(len(fluxes)))\n",
    "\n",
    "plt.figure(figsize=(12,10))\n",
    "plt.plot(sources, fluxes, color='b', ls='steps', alpha=0.75,label='flux')\n",
    "plt.plot(sources, sigmas, color='r', ls='steps', alpha=0.75,label='sigma value')\n",
    "plt.title('Flux and sigma value per image')\n",
    "plt.xlabel(\"source\")\n",
    "plt.ylabel(\"flux and sigma values\")\n",
    "plt.legend()\n",
    "plt.show()\n",
    "\n",
    "\n",
    "plt.figure(figsize=(12,10))\n",
    "plt.plot(sources, sigmas, color='r', ls='steps', alpha=0.75,label='flux on science image')\n",
    "ax=plt.axes()\n",
    "ax.set_ylim(ymin=0)\n",
    "plt.title('Sigma value per image')\n",
    "plt.xlabel(\"source\")\n",
    "plt.ylabel(\"sigma value\")\n",
    "plt.legend()\n",
    "plt.show()\n",
    "print \"std value =\", np.mean(sigmas)\n",
    "\n",
    "\n",
    "positive_sigma = np.sqrt(pixels_in_mask)*np.mean(sigmas_pos)\n",
    "negative_sigma = np.sqrt(pixels_in_mask)*np.mean(sigmas_neg)\n",
    "plt.figure(figsize=(12,10))\n",
    "plt.hist(fluxes, color='b',label='flux on science image', bins=200)\n",
    "\n",
    "print positive_sigma \n",
    "plt.axvline(positive_sigma, color='r', linestyle='dashed', linewidth=2)\n",
    "plt.axvline(-negative_sigma, color='r', linestyle='dashed', linewidth=2)\n",
    "plt.axvline(positive_sigma*5, color='y', linestyle='dashed', linewidth=2)\n",
    "plt.axvline(-(negative_sigma*5), color='y', linestyle='dashed', linewidth=2)\n",
    "plt.title('Distribution of calculated fluxes')\n",
    "plt.xlabel(\"Number of sources\")\n",
    "plt.ylabel(\"flux value\")\n",
    "plt.legend()\n",
    "plt.show()\n",
    "\n",
    "\n"
   ]
  },
  {
   "cell_type": "raw",
   "metadata": {},
   "source": []
  },
  {
   "cell_type": "code",
   "execution_count": 123,
   "metadata": {
    "collapsed": false
   },
   "outputs": [
    {
     "name": "stdout",
     "output_type": "stream",
     "text": [
      "[144.21388641721569, 100.96182288974524, -293.82594313845038, 245.94163351133466, 274.58632256649435, -34.578245937824249, -394.43038319982588, -726.07541283965111, -929.68832428194582, 176.05434274300933, -12.352807836607099, 76.643819440156221, -140.74180349707603, 400.89537290530279, -11.863847534172237, -245.28245174884796, 256.08339464664459, 44.807232350111008, -565.69719072431326, 71.45714633539319, -229.2739394903183, -95.502746164798737, 116.44131667539477, -451.82923582196236, -85.716076523065567, 459.07788663357496, 223.76249658549204, 494.38716363348067, -400.45952559821308, 196.78311860188842, -239.31802563369274, 124.55113074928522, 259.70388841629028, -229.82986213639379, 402.52891197800636, -620.1658028960228, 413.97262971661985, -821.16052867472172, 53.136287853121758, -587.59357860684395, 345.84692713618279, 183.15163710713387, -1112.6471647024155, -707.33283334597945, 80.294572606682777, -52.170761123299599, -559.42343848571181, -262.10682460665703, 348.69999313354492, 611.9296302869916, 512.27500781416893, 171.29036857932806, -55.294466398656368, 304.38336385786533, -295.84321061521769, 658.83745217323303, -827.09545021131635, 318.02458025515079, 167.39149168133736, 522.72645556018688, 49.54691843688488, -215.41679841279984, -74.471069291234016, 465.77604212984443, -161.89313034154475, 245.55880917608738, -251.24488049000502, 328.07512806868181, -52.900202250108123, -910.05344331264496, -412.58329182863235, 131.47157220169902, -453.70145231485367, -262.71987483650446, -155.68141210079193, -386.42453680513427, 598.58466570451856, -194.56140448898077, 262.95904141664505, -354.02061261795461, 209.4333082830999, 119.83221863210201, 165.94885239005089, -312.82065677642822, -213.93652631575242, 732.20057502295822, -380.13663181313314, -868.85134300589561, 413.04212276637554, -36.803104113787413, 174.55191955156624, -221.80895255832002, 51.100999511778355, 904.14965537190437, -352.58619296550751, -798.3899085149169, -105.9508046284318, -473.27767464518547, -206.19847983308136, -209.04442418832332, 139.99111920408905, -74.423718512058258, 286.47971728444099, 726.20241181179881, 996.98424398899078, -23.573424465954304, -107.39615511894226, 204.06492678076029, -449.76457339897752, 665.35931354761124, 340.42979845404625, -109.65386811643839, -1142.917251303792, 60.04113831371069, -449.55681575089693, 244.32318560034037, 75.24491603160277, -159.22699537500739, -409.2973807528615, -171.27302831411362, -121.8311812877655, -304.11406650394201, 212.561393619515, -258.29244631528854, -486.84589670412242, -416.0251729041338, 309.51612728834152, 469.44804345071316, 440.79488475527614, -335.35631807148457, 16.758669039234519, 615.76341301575303, -114.37905311584473, -72.090197987854481, 101.29384709894657, -14.707713574171066, -203.32269158959389, -516.92494034767151, 691.60765078663826, 134.64545422047377, -302.25784882903099, 281.28641566634178, -32.04859571158886, 290.09305026009679, -686.05693503655493, -606.82713210582733, 288.56203931570053, 450.60847842693329, 191.56562303006649, 469.67363106459379, 331.61078777909279, -192.95076283218805, -29.607586562633514, 154.8194634616375, 17.143635973334312, 804.45610249042511, 1284.8539764210582, -500.39169104397297, -19.760588794946671, -3.731838408857584, 128.82365271449089, 386.88144310563803, -69.016335040330887, -294.21675740554929, 528.57694019004703, 531.25776237249374, 88.363983348011971, -225.19008503854275, 73.57453778386116, 777.94609101116657, -361.93114703893661, -519.42272320389748, 548.86512080207467, 851.41114939376712, 526.03720688819885, -186.90308357402682, 1.0839328840374947, 286.18509955704212, -516.96581909433007, 42.798604439944029, -496.26103694736958, 240.17663295567036, -171.28228537738323, 205.58775432407856, 771.43351157382131, -342.38692563027143, 157.44843091070652, -442.13072293810546, 89.563167699612677, -10.352774798870087, 110.04609932750463, 327.30059371143579, 943.41301703453064, 261.15827491134405, -344.48589781299233, 114.9853725284338, -98.183497175574303, 220.01685104519129, -574.84576769173145, -219.74530681967735]\n"
     ]
    }
   ],
   "source": [
    "print fluxes"
   ]
  },
  {
   "cell_type": "code",
   "execution_count": null,
   "metadata": {
    "collapsed": true
   },
   "outputs": [],
   "source": []
  }
 ],
 "metadata": {
  "kernelspec": {
   "display_name": "Python 2",
   "language": "python",
   "name": "python2"
  },
  "language_info": {
   "codemirror_mode": {
    "name": "ipython",
    "version": 2
   },
   "file_extension": ".py",
   "mimetype": "text/x-python",
   "name": "python",
   "nbconvert_exporter": "python",
   "pygments_lexer": "ipython2",
   "version": "2.7.11"
  }
 },
 "nbformat": 4,
 "nbformat_minor": 0
}
