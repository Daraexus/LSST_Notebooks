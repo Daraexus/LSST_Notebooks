{
 "cells": [
  {
   "cell_type": "code",
   "execution_count": 7,
   "metadata": {
    "collapsed": true
   },
   "outputs": [],
   "source": [
    "import os"
   ]
  },
  {
   "cell_type": "code",
   "execution_count": 14,
   "metadata": {
    "collapsed": false
   },
   "outputs": [],
   "source": [
    "files = os.listdir(\"catalogs/3sigma\")"
   ]
  },
  {
   "cell_type": "code",
   "execution_count": 10,
   "metadata": {
    "collapsed": false
   },
   "outputs": [],
   "source": [
    "def create_transient_candidate_catalog(directory, filename, d_directory):\n",
    "    \n",
    "    import lsst.afw.table as afwTable\n",
    "\n",
    "    \n",
    "    catalog = afwTable.SourceCatalog.readFits(directory + \"/\" + filename)\n",
    "    c_r  = catalog.copy()\n",
    "    c_r.clear()\n",
    "    for source in catalog:\n",
    "        if source[\"classification_dipole\"] == 6:\n",
    "            c_r.append(source)\n",
    "            \n",
    "    c_r.writeFits(d_directory+\"/\"+filename)\n",
    "    return filename.split('-')[0]"
   ]
  },
  {
   "cell_type": "code",
   "execution_count": 12,
   "metadata": {
    "collapsed": false
   },
   "outputs": [],
   "source": [
    "r = create_transient_candidate_catalog(\"catalogs/3sigma\",files[0], \"tc_catalogs\")"
   ]
  },
  {
   "cell_type": "code",
   "execution_count": null,
   "metadata": {
    "collapsed": false
   },
   "outputs": [],
   "source": [
    "print r"
   ]
  },
  {
   "cell_type": "code",
   "execution_count": 15,
   "metadata": {
    "collapsed": false
   },
   "outputs": [
    {
     "name": "stdout",
     "output_type": "stream",
     "text": [
      "[3, 5, 7, 9]\n"
     ]
    }
   ],
   "source": [
    "import ipyparallel as ipyp\n",
    "\n",
    "c = ipyp.Client()\n",
    "v = c[:]\n",
    "\n",
    "\n",
    "def f(a,b):\n",
    "    def c(a, b):\n",
    "        return a+b\n",
    "\n",
    "    return c(a,b)\n",
    "#res = v.map(lambda x,y: x+y, (1, 2, 3, 4), (2, 3, 4, 5))\n",
    "res = v.map(f, [1, 2, 3, 4], [2, 3, 4, 5])\n",
    "\n",
    "print res.get()"
   ]
  },
  {
   "cell_type": "code",
   "execution_count": 20,
   "metadata": {
    "collapsed": false
   },
   "outputs": [
    {
     "name": "stdout",
     "output_type": "stream",
     "text": [
      "2098\n"
     ]
    }
   ],
   "source": [
    "directories = [\"catalogs/3sigma\"]* len(files)\n",
    "d_directories = [\"tc_catalogs/3sigma\"]* len(files)\n",
    "print len(directories)"
   ]
  },
  {
   "cell_type": "code",
   "execution_count": 21,
   "metadata": {
    "collapsed": true
   },
   "outputs": [],
   "source": [
    "res = v.map(create_transient_candidate_catalog, directories, files, d_directories)"
   ]
  },
  {
   "cell_type": "code",
   "execution_count": 24,
   "metadata": {
    "collapsed": false
   },
   "outputs": [
    {
     "name": "stdout",
     "output_type": "stream",
     "text": [
      "<AsyncMapResult: create_transient_candidate_catalog:finished>\n"
     ]
    }
   ],
   "source": [
    "print res"
   ]
  },
  {
   "cell_type": "code",
   "execution_count": 25,
   "metadata": {
    "collapsed": false
   },
   "outputs": [
    {
     "name": "stdout",
     "output_type": "stream",
     "text": [
      "2098 109\n"
     ]
    }
   ],
   "source": [
    "cats = res.get()\n",
    "c_cats = list(set(cats))\n",
    "print len(cats), len(c_cats)"
   ]
  },
  {
   "cell_type": "code",
   "execution_count": 27,
   "metadata": {
    "collapsed": false
   },
   "outputs": [],
   "source": [
    "import lsst.afw.table as afwTable\n",
    "import glob\n",
    "\n",
    "for c_cat in c_cats:\n",
    "    v_catalog = None\n",
    "    \n",
    "    c_files = glob.glob(\"tc_catalogs/3sigma/\"+c_cat+\"*.fits\")\n",
    "    for c_file in c_files:\n",
    "        catalog = afwTable.SourceCatalog.readFits(c_file)\n",
    "        \n",
    "        if v_catalog is None:\n",
    "            v_catalog = catalog.copy()\n",
    "        else:\n",
    "            v_catalog.extend(catalog)\n",
    "    \n",
    "    v_catalog.writeFits(\"vc_catalogs/3sigma/\"+c_files[0].split(\"/\")[-1].split(\"-\")[0]+\".fits\")\n",
    "    "
   ]
  },
  {
   "cell_type": "code",
   "execution_count": 30,
   "metadata": {
    "collapsed": false
   },
   "outputs": [
    {
     "name": "stdout",
     "output_type": "stream",
     "text": [
      "['852892.fits', '852893.fits', '852891.fits', '839312.fits', '839310.fits', '839311.fits', '853543.fits', '853234.fits', '853541.fits', '853236.fits', '853233.fits', '853232.fits', '853730.fits', '853731.fits', '858540.fits', '858541.fits', '852894.fits', '859609.fits', '860150.fits', '853540.fits', '839309.fits', '839308.fits', '853729.fits', '853539.fits', '853727.fits', '860149.fits', '860148.fits', '860147.fits', '860146.fits', '838868.fits', '838867.fits', '838866.fits', '838865.fits', '838864.fits', '853728.fits', '859608.fits', '844489.fits', '844847.fits', '844845.fits', '844848.fits', '844849.fits', '837004.fits', '837005.fits', '837006.fits', '837007.fits', '837002.fits', '837003.fits', '837008.fits', '851060.fits', '851061.fits', '844498.fits', '844491.fits', '844490.fits', '844493.fits', '844492.fits', '844495.fits', '844494.fits', '844497.fits', '844496.fits', '859612.fits', '850177.fits', '858537.fits', '850179.fits', '850178.fits', '836498.fits', '836493.fits', '836494.fits', '836495.fits', '836496.fits', '836497.fits', '844230.fits', '850588.fits', '850589.fits', '850586.fits', '850587.fits', '851059.fits', '851058.fits', '851057.fits', '850180.fits', '850181.fits', '849687.fits', '849686.fits', '849685.fits', '849689.fits', '849688.fits', '838853.fits', '838857.fits', '838854.fits', '838855.fits', '859611.fits', '844518.fits', '859610.fits', '844514.fits', '844515.fits', '844516.fits', '844517.fits', '850590.fits', '844213.fits', '844212.fits', '844211.fits', '844210.fits', '844214.fits', '858539.fits', '858538.fits', '849377.fits', '849376.fits', '849375.fits', '849374.fits', '849373.fits']\n"
     ]
    }
   ],
   "source": [
    "files = os.listdir(\"vc_catalogs/3sigma\")\n",
    "print files"
   ]
  },
  {
   "cell_type": "code",
   "execution_count": 39,
   "metadata": {
    "collapsed": false
   },
   "outputs": [],
   "source": [
    "multi_matches = None\n",
    "import lsst.afw.geom as afwGeom\n",
    "\n",
    "for f in files:\n",
    "    \n",
    "    catalog = afwTable.SourceCatalog.readFits(\"vc_catalogs/3sigma/\"+f)\n",
    "    \n",
    "    if multi_matches is None and len(catalog)>0:\n",
    "        multi_matches = afwTable.MultiMatch(catalog[0].schema, {'visit':int}, radius=afwGeom.Angle(1./3600., afwGeom.degrees))\n",
    "    if multi_matches is not None:    \n",
    "        multi_matches.add(catalog, {'visit':int(f.split(\".\")[0])})\n",
    "    \n"
   ]
  },
  {
   "cell_type": "code",
   "execution_count": 41,
   "metadata": {
    "collapsed": false
   },
   "outputs": [],
   "source": [
    "results = multi_matches.finish(removeAmbiguous=False)"
   ]
  },
  {
   "cell_type": "code",
   "execution_count": 42,
   "metadata": {
    "collapsed": true
   },
   "outputs": [],
   "source": [
    "def threshold_light_curves(light_curves, threshold):\n",
    "    t_light_curves = [lc for lc in light_curves if len(lc) >= threshold]\n",
    "    return t_light_curves\n"
   ]
  },
  {
   "cell_type": "code",
   "execution_count": 43,
   "metadata": {
    "collapsed": false
   },
   "outputs": [],
   "source": [
    "light_curves = []\n",
    "i = 0\n",
    "current = -1\n",
    "while i < len(results):\n",
    "    result = results[i]\n",
    "    if current == -1 or current != result['object']:\n",
    "        lc = [(result['visit'],result)]\n",
    "        light_curves.append(lc)\n",
    "        current = result['object']\n",
    "    else:\n",
    "        light_curves[-1].append((result['visit'],result))\n",
    "    i+=1\n",
    "\n",
    "t_light_curves = threshold_light_curves(light_curves, 10)"
   ]
  },
  {
   "cell_type": "code",
   "execution_count": 44,
   "metadata": {
    "collapsed": false
   },
   "outputs": [
    {
     "data": {
      "text/plain": [
       "0"
      ]
     },
     "execution_count": 44,
     "metadata": {},
     "output_type": "execute_result"
    }
   ],
   "source": [
    "len(t_light_curves)"
   ]
  },
  {
   "cell_type": "code",
   "execution_count": null,
   "metadata": {
    "collapsed": true
   },
   "outputs": [],
   "source": []
  }
 ],
 "metadata": {
  "kernelspec": {
   "display_name": "Python 2",
   "language": "python",
   "name": "python2"
  },
  "language_info": {
   "codemirror_mode": {
    "name": "ipython",
    "version": 2
   },
   "file_extension": ".py",
   "mimetype": "text/x-python",
   "name": "python",
   "nbconvert_exporter": "python",
   "pygments_lexer": "ipython2",
   "version": "2.7.12"
  }
 },
 "nbformat": 4,
 "nbformat_minor": 0
}
