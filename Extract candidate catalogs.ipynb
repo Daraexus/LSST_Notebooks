{
 "cells": [
  {
   "cell_type": "code",
   "execution_count": 82,
   "metadata": {
    "collapsed": true
   },
   "outputs": [],
   "source": [
    "import os"
   ]
  },
  {
   "cell_type": "code",
   "execution_count": 84,
   "metadata": {
    "collapsed": false
   },
   "outputs": [],
   "source": [
    "files = os.listdir(\"catalogs/6sigma\")"
   ]
  },
  {
   "cell_type": "code",
   "execution_count": 85,
   "metadata": {
    "collapsed": false
   },
   "outputs": [],
   "source": [
    "def create_transient_candidate_catalog(directory, filename, d_directory):\n",
    "    \n",
    "    import lsst.afw.table as afwTable\n",
    "\n",
    "    \n",
    "    catalog = afwTable.SourceCatalog.readFits(directory + \"/\" + filename)\n",
    "    c_r  = catalog.copy()\n",
    "    c_r.clear()\n",
    "    for source in catalog:\n",
    "        if source[\"classification_dipole\"] == 6:\n",
    "            c_r.append(source)\n",
    "            \n",
    "    c_r.writeFits(d_directory+\"/\"+filename)\n",
    "    return filename.split('-')[0]"
   ]
  },
  {
   "cell_type": "code",
   "execution_count": 63,
   "metadata": {
    "collapsed": false
   },
   "outputs": [],
   "source": [
    "r = create_transient_candidate_catalog(\"catalogs/6sigma\",files[0], \"tc_catalogs\")"
   ]
  },
  {
   "cell_type": "code",
   "execution_count": 86,
   "metadata": {
    "collapsed": false
   },
   "outputs": [
    {
     "name": "stdout",
     "output_type": "stream",
     "text": [
      "[3, 5, 7, 9]\n"
     ]
    }
   ],
   "source": [
    "import ipyparallel as ipyp\n",
    "\n",
    "c = ipyp.Client()\n",
    "v = c[:]\n",
    "\n",
    "\n",
    "def f(a,b):\n",
    "    def c(a, b):\n",
    "        return a+b\n",
    "\n",
    "    return c(a,b)\n",
    "#res = v.map(lambda x,y: x+y, (1, 2, 3, 4), (2, 3, 4, 5))\n",
    "res = v.map(f, [1, 2, 3, 4], [2, 3, 4, 5])\n",
    "\n",
    "print res.get()"
   ]
  },
  {
   "cell_type": "code",
   "execution_count": 87,
   "metadata": {
    "collapsed": false
   },
   "outputs": [
    {
     "name": "stdout",
     "output_type": "stream",
     "text": [
      "3578\n"
     ]
    }
   ],
   "source": [
    "directories = [\"catalogs/6sigma\"]* len(files)\n",
    "d_directories = [\"tc_catalogs/6sigma\"]* len(files)\n",
    "print len(directories)"
   ]
  },
  {
   "cell_type": "code",
   "execution_count": 88,
   "metadata": {
    "collapsed": true
   },
   "outputs": [],
   "source": [
    "res = v.map(create_transient_candidate_catalog, directories, files, d_directories)"
   ]
  },
  {
   "cell_type": "code",
   "execution_count": 91,
   "metadata": {
    "collapsed": false
   },
   "outputs": [
    {
     "name": "stdout",
     "output_type": "stream",
     "text": [
      "<AsyncMapResult: create_transient_candidate_catalog:finished>\n"
     ]
    }
   ],
   "source": [
    "print res"
   ]
  },
  {
   "cell_type": "code",
   "execution_count": 92,
   "metadata": {
    "collapsed": false
   },
   "outputs": [
    {
     "name": "stdout",
     "output_type": "stream",
     "text": [
      "3578 107\n"
     ]
    }
   ],
   "source": [
    "cats = res.get()\n",
    "c_cats = list(set(cats))\n",
    "print len(cats), len(c_cats)"
   ]
  },
  {
   "cell_type": "code",
   "execution_count": 93,
   "metadata": {
    "collapsed": false
   },
   "outputs": [],
   "source": [
    "import lsst.afw.table as afwTable\n",
    "import glob\n",
    "\n",
    "for c_cat in c_cats:\n",
    "    v_catalog = None\n",
    "    \n",
    "    c_files = glob.glob(\"tc_catalogs/6sigma/\"+c_cat+\"*.fits\")\n",
    "    for c_file in c_files:\n",
    "        catalog = afwTable.SourceCatalog.readFits(c_file)\n",
    "        \n",
    "        if v_catalog is None:\n",
    "            v_catalog = catalog.copy()\n",
    "        else:\n",
    "            v_catalog.extend(catalog)\n",
    "    \n",
    "    v_catalog.writeFits(\"vc_catalogs/6sigma/\"+c_files[0].split(\"/\")[-1].split(\"-\")[0]+\".fits\")\n",
    "    "
   ]
  },
  {
   "cell_type": "code",
   "execution_count": 23,
   "metadata": {
    "collapsed": false
   },
   "outputs": [
    {
     "name": "stderr",
     "output_type": "stream",
     "text": [
      "/renoir_data_00/fouchez/lsst/DM/stacks/lsstsw/2016-04-04/lsstsw/miniconda/lib/python2.7/site-packages/matplotlib/font_manager.py:273: UserWarning: Matplotlib is building the font cache using fc-list. This may take a moment.\n",
      "  warnings.warn('Matplotlib is building the font cache using fc-list. This may take a moment.')\n"
     ]
    },
    {
     "name": "stdout",
     "output_type": "stream",
     "text": [
      "[836493 836494 836495 836496 836497 836498 837002 837003 837004 837005\n",
      " 837006 837007 837008 838853 838854 838855 838857 838864 838865 838866\n",
      " 838867 838868 839308 839309 839310 839311 839312 844210 844211 844212\n",
      " 844213 844214 844230 844489 844490 844491 844492 844493 844494 844495\n",
      " 844496 844497 844498 844514 844515 844516 844517 844518 844845 844846\n",
      " 844847 844848 844849 845345 845346 845347 845348 845349 849373 849374\n",
      " 849375 849376 849377 849685 849686 849687 849688 849689 850177 850178\n",
      " 850179 850180 850181 850586 850587 850588 850589 850590 851057 851058\n",
      " 851059 851060 851061 852890 852891 852892 852893 852894 853232 853233\n",
      " 853234 853235 853236 853539 853540 853541 853542 853543 853727 853728\n",
      " 853729 853730 853731 858537 858538 858539 858540 858541 859608 859609\n",
      " 859610 859611 859612 860146 860147 860148 860149 860150]\n"
     ]
    }
   ],
   "source": [
    "import numpy as np\n",
    "\n",
    "import lsst.daf.persistence as dafPersist\n",
    "DATADIR=\"/renoir_data_02/jpreyes/lsst_data/CFHTLS_master/\"\n",
    "\n",
    "butler = dafPersist.Butler(DATADIR+\"/output\")\n",
    "visits = butler.queryMetadata(\"deepDiff_differenceExp\", format=['visit'],dataId={'filter':'r'})\n",
    "visits = np.array(visits)\n",
    "mask = (visits >= 836493) & (visits <= 860150)\n",
    "visits =  visits[mask]\n",
    "print visits"
   ]
  },
  {
   "cell_type": "code",
   "execution_count": 55,
   "metadata": {
    "collapsed": false
   },
   "outputs": [
    {
     "data": {
      "text/plain": [
       "836493"
      ]
     },
     "execution_count": 55,
     "metadata": {},
     "output_type": "execute_result"
    }
   ],
   "source": [
    "c_cat"
   ]
  },
  {
   "cell_type": "code",
   "execution_count": 57,
   "metadata": {
    "collapsed": false
   },
   "outputs": [],
   "source": [
    "import lsst.afw.table as afwTable\n",
    "import glob\n",
    "\n",
    "for c_cat in visits:\n",
    "    v_catalog = None\n",
    "    #print \"catalogs/6sigma/\"+str(c_cat)+\"*.fits\"\n",
    "    c_files = glob.glob(\"catalogs/6sigma/\"+str(c_cat)+\"*.fits\")\n",
    "    \n",
    "    for c_file in c_files:\n",
    "        catalog = afwTable.SourceCatalog.readFits(c_file)\n",
    "        \n",
    "        if v_catalog is None:\n",
    "            v_catalog = catalog.copy()\n",
    "        else:\n",
    "            v_catalog.extend(catalog)\n",
    "            \n",
    "    if v_catalog is not None:\n",
    "        v_catalog.writeFits(\"nc_catalogs/6sigma/\"+c_files[0].split(\"/\")[-1].split(\"-\")[0]+\".fits\")\n",
    "    "
   ]
  },
  {
   "cell_type": "code",
   "execution_count": 42,
   "metadata": {
    "collapsed": false
   },
   "outputs": [],
   "source": [
    "multi_matches = None\n",
    "import lsst.afw.geom as afwGeom\n",
    "\n",
    "for f in files:\n",
    "    \n",
    "    catalog = afwTable.SourceCatalog.readFits(\"vc_catalogs/3sigma/\"+f)\n",
    "    \n",
    "    if multi_matches is None and len(catalog)>0:\n",
    "        multi_matches = afwTable.MultiMatch(catalog[0].schema, {'visit':int}, radius=afwGeom.Angle(1./3600., afwGeom.degrees))\n",
    "    if multi_matches is not None:    \n",
    "        multi_matches.add(catalog, {'visit':int(f.split(\".\")[0])})\n",
    "    \n"
   ]
  },
  {
   "cell_type": "code",
   "execution_count": 43,
   "metadata": {
    "collapsed": false
   },
   "outputs": [],
   "source": [
    "results = multi_matches.finish(removeAmbiguous=False)"
   ]
  },
  {
   "cell_type": "code",
   "execution_count": 44,
   "metadata": {
    "collapsed": true
   },
   "outputs": [],
   "source": [
    "def threshold_light_curves(light_curves, threshold):\n",
    "    t_light_curves = [lc for lc in light_curves if len(lc) >= threshold]\n",
    "    return t_light_curves\n"
   ]
  },
  {
   "cell_type": "code",
   "execution_count": 45,
   "metadata": {
    "collapsed": false
   },
   "outputs": [],
   "source": [
    "light_curves = []\n",
    "i = 0\n",
    "current = -1\n",
    "while i < len(results):\n",
    "    result = results[i]\n",
    "    if current == -1 or current != result['object']:\n",
    "        lc = [(result['visit'],result)]\n",
    "        light_curves.append(lc)\n",
    "        current = result['object']\n",
    "    else:\n",
    "        light_curves[-1].append((result['visit'],result))\n",
    "    i+=1\n",
    "\n",
    "t_light_curves = threshold_light_curves(light_curves, 10)"
   ]
  },
  {
   "cell_type": "code",
   "execution_count": 46,
   "metadata": {
    "collapsed": false
   },
   "outputs": [
    {
     "data": {
      "text/plain": [
       "1109"
      ]
     },
     "execution_count": 46,
     "metadata": {},
     "output_type": "execute_result"
    }
   ],
   "source": [
    "len(t_light_curves)"
   ]
  },
  {
   "cell_type": "code",
   "execution_count": null,
   "metadata": {
    "collapsed": true
   },
   "outputs": [],
   "source": []
  }
 ],
 "metadata": {
  "kernelspec": {
   "display_name": "Python 2",
   "language": "python",
   "name": "python2"
  },
  "language_info": {
   "codemirror_mode": {
    "name": "ipython",
    "version": 2
   },
   "file_extension": ".py",
   "mimetype": "text/x-python",
   "name": "python",
   "nbconvert_exporter": "python",
   "pygments_lexer": "ipython2",
   "version": "2.7.12"
  }
 },
 "nbformat": 4,
 "nbformat_minor": 0
}
