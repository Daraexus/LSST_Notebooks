{
 "cells": [
  {
   "cell_type": "code",
   "execution_count": 8,
   "metadata": {
    "collapsed": true
   },
   "outputs": [],
   "source": [
    "import pickle\n",
    "import matplotlib.pyplot as plt\n",
    "import numpy as np"
   ]
  },
  {
   "cell_type": "code",
   "execution_count": 1,
   "metadata": {
    "collapsed": true
   },
   "outputs": [],
   "source": [
    "chis = pickle.load( open( \"/datadec/cppm/jpreyes/CFHT_Production/chi_list.p\", \"rb\" ) )"
   ]
  },
  {
   "cell_type": "code",
   "execution_count": 12,
   "metadata": {},
   "outputs": [
    {
     "name": "stdout",
     "output_type": "stream",
     "text": [
      "49310\n",
      "47628\n"
     ]
    }
   ],
   "source": [
    "print len(chis)\n",
    "chis = np.array(chis)\n",
    "chis = chis[np.logical_not(np.isnan(chis))]\n",
    "print len(chis)"
   ]
  },
  {
   "cell_type": "code",
   "execution_count": 14,
   "metadata": {},
   "outputs": [
    {
     "data": {
      "image/png": "[encoded data removed]",
      "text/plain": [
       "<matplotlib.figure.Figure at 0x7f2058bb3e90>"
      ]
     },
     "metadata": {},
     "output_type": "display_data"
    },
    {
     "data": {
      "image/png": "[encoded data removed]",
      "text/plain": [
       "<matplotlib.figure.Figure at 0x7f2058caa910>"
      ]
     },
     "metadata": {},
     "output_type": "display_data"
    },
    {
     "name": "stdout",
     "output_type": "stream",
     "text": [
      "(15437, ' of ', 47628)\n"
     ]
    }
   ],
   "source": [
    "plt.hist(chis, bins=100)\n",
    "plt.show()\n",
    "\n",
    "\n",
    "a = np.array(chis)\n",
    "b = a[a < 10]\n",
    "plt.hist(b, bins=20, range=(0,10))\n",
    "plt.show()\n",
    "print(len(b), \" of \",len(chis))"
   ]
  },
  {
   "cell_type": "code",
   "execution_count": 9,
   "metadata": {},
   "outputs": [
    {
     "data": {
      "text/plain": [
       "nan"
      ]
     },
     "execution_count": 9,
     "metadata": {},
     "output_type": "execute_result"
    }
   ],
   "source": [
    "np.max(chis)"
   ]
  },
  {
   "cell_type": "code",
   "execution_count": null,
   "metadata": {
    "collapsed": true
   },
   "outputs": [],
   "source": [
    "def match_with_lc(validation_array, candidate_array):\n",
    "    matches = []\n",
    "    for lc in validation_array:\n",
    "        #print \"light curve\"\n",
    "        val = {\"ra\":lc[0][\"ra\"], \"dec\":lc[0][\"dec\"]}\n",
    "        #print np.rad2deg(lc[0][\"ra\"]), np.rad2deg(lc[0][\"dec\"])\n",
    "        for i, slc in enumerate(candidate_array):\n",
    "\n",
    "            comp = {\"ra\":np.mean(slc[\"ra\"]), \"dec\":np.mean(slc[\"dec\"])}\n",
    "            if source_distance(val, comp)<1:\n",
    "                print i\n",
    "                matches.append((lc,slc))\n",
    "\n",
    "\n",
    "    print len(matches)\n",
    "    return matches"
   ]
  }
 ],
 "metadata": {
  "kernelspec": {
   "display_name": "Python 2",
   "language": "python",
   "name": "python2"
  },
  "language_info": {
   "codemirror_mode": {
    "name": "ipython",
    "version": 2
   },
   "file_extension": ".py",
   "mimetype": "text/x-python",
   "name": "python",
   "nbconvert_exporter": "python",
   "pygments_lexer": "ipython2",
   "version": "2.7.12"
  }
 },
 "nbformat": 4,
 "nbformat_minor": 2
}
