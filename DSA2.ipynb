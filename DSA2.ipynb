{
 "cells": [
  {
   "cell_type": "markdown",
   "metadata": {},
   "source": [
    "#DiaSources Analysis"
   ]
  },
  {
   "cell_type": "code",
   "execution_count": 1,
   "metadata": {
    "collapsed": true
   },
   "outputs": [],
   "source": [
    "import lsst.meas.astrom as measAstrom\n",
    "import lsst.daf.base as dafBase\n",
    "import lsst.pipe.base as pipeBase\n",
    "import lsst.daf.persistence as dafPersist\n",
    "\n",
    "import random\n",
    "import matplotlib.pyplot as plt\n",
    "import numpy as np\n",
    "\n",
    "import lsst.afw.display.ds9 as ds9\n",
    "import lsst.afw.table as afwTable\n",
    "\n",
    "import lsst.afw.geom as afwGeom\n",
    "import lsst.afw.display.utils as displayUtils"
   ]
  },
  {
   "cell_type": "markdown",
   "metadata": {},
   "source": [
    "This is the butler reference that we use on our working dataset. DATADIR is where our data is, obviously"
   ]
  },
  {
   "cell_type": "code",
   "execution_count": 2,
   "metadata": {
    "collapsed": true
   },
   "outputs": [],
   "source": [
    "DATADIR=\"/renoir_data_02/jpreyes/lsst_data/CFHTLS_v11/\"\n",
    "butler = dafPersist.Butler(DATADIR+\"/output\")\n"
   ]
  },
  {
   "cell_type": "markdown",
   "metadata": {},
   "source": [
    "We create a list with all our diaSources Catalog (one for each visit)"
   ]
  },
  {
   "cell_type": "code",
   "execution_count": 3,
   "metadata": {
    "collapsed": false
   },
   "outputs": [],
   "source": [
    "subset = butler.subset(\"deepDiff_diaSrc\")\n",
    "#file = open(\"diaSources.txt\", \"w\")\n",
    "diaSourcesList = []\n",
    "for dr_subSet in subset:\n",
    "    if dr_subSet.dataId[\"ccd\"]==14:\n",
    "        #file.write(\"visit=\"+str(dr_subSet.dataId[\"visit\"])+\"\\n\")\n",
    "        try:\n",
    "            diaSourcesList.append(dr_subSet)\n",
    "           \n",
    "        except:\n",
    "            pass\n",
    "            \n",
    "\n",
    "#file.close()"
   ]
  },
  {
   "cell_type": "markdown",
   "metadata": {},
   "source": [
    "Some tests, obtaining the instances for the list of diaSources for three different visits"
   ]
  },
  {
   "cell_type": "code",
   "execution_count": 4,
   "metadata": {
    "collapsed": false
   },
   "outputs": [],
   "source": [
    "dCatalog1 = diaSourcesList[0]\n",
    "dCatalog2 = diaSourcesList[1]\n",
    "dCatalog3 = diaSourcesList[2]\n",
    "\n",
    "\n",
    "#diaSources =  diaSourcesCatalog.get(\"deepDiff_diaSrc\")\n",
    "       \n",
    "        \n",
    "diaSrcs1 = dCatalog1.get(\"deepDiff_diaSrc\")\n",
    "diaSrcs2 = dCatalog2.get(\"deepDiff_diaSrc\")\n",
    "diaSrcs3 = dCatalog3.get(\"deepDiff_diaSrc\")"
   ]
  },
  {
   "cell_type": "markdown",
   "metadata": {},
   "source": [
    "Method to match two catalogs in terms of sources"
   ]
  },
  {
   "cell_type": "code",
   "execution_count": 5,
   "metadata": {
    "collapsed": false
   },
   "outputs": [],
   "source": [
    "smVector = afwTable.matchXy(diaSrcs1, diaSrcs2, 1000, True)"
   ]
  },
  {
   "cell_type": "markdown",
   "metadata": {},
   "source": [
    "Method to plot the fluxes of any diaSources by giving the visit number"
   ]
  },
  {
   "cell_type": "code",
   "execution_count": 6,
   "metadata": {
    "collapsed": false
   },
   "outputs": [],
   "source": [
    "def plot_fluxes(diaSourcesList, visit=-1, max_flux=1000, bins = 100):\n",
    "\n",
    "    fluxes = []\n",
    "    sigmas = []\n",
    "    diaSourcesCatalog = None\n",
    "    if visit == -1:\n",
    "        diaSourcesCatalog = random.choice(diaSourcesList)\n",
    "    else:\n",
    "        for diaSourcesC in diaSourcesList:\n",
    "            if diaSourcesC.dataId[\"visit\"] == visit:\n",
    "                diaSourcesCatalog = diaSourcesC\n",
    "                break\n",
    "    \n",
    "    if diaSourcesCatalog == None:\n",
    "        return False\n",
    "        \n",
    "        \n",
    "        \n",
    "        \n",
    "    for diaSource in diaSourcesCatalog.get(\"deepDiff_diaSrc\"):\n",
    "        flux = diaSource.get(\"ip_diffim_NaiveDipoleFlux_pos_flux\")\n",
    "        sigma =  diaSource.get(\"ip_diffim_NaiveDipoleFlux_pos_fluxSigma\")\n",
    "        if flux < max_flux:\n",
    "            fluxes.append(flux)\n",
    "            sigmas.append(sigma)\n",
    "    \n",
    "\n",
    "    plt.figure(figsize=(12,12))\n",
    "    plt.hist(fluxes, bins=bins)\n",
    "    plt.ylabel(\"Number of sources\", fontsize = \"25\")\n",
    "    plt.xlabel(\"Flux\", fontsize = \"25\")\n",
    "    plt.title(str(diaSourcesCatalog.dataId[\"visit\"]), fontsize=\"25\")\n",
    "    plt.tick_params(axis='y', labelsize=20)\n",
    "    plt.tick_params(axis='x', labelsize=20)\n",
    "    \n",
    "    sigma_threshold = (np.sum(sigmas)/len(sigmas))*5\n",
    "    \n",
    "    plt.axvline(sigma_threshold, color='g', linestyle='dashed', linewidth=2)\n",
    "    print \"sigma_threshold =\", sigma_threshold\n",
    "    return fluxes, sigmas\n",
    "    "
   ]
  },
  {
   "cell_type": "markdown",
   "metadata": {},
   "source": [
    "Testing the aforementioned method"
   ]
  },
  {
   "cell_type": "code",
   "execution_count": 10,
   "metadata": {
    "collapsed": false
   },
   "outputs": [
    {
     "name": "stdout",
     "output_type": "stream",
     "text": [
      "sigma_threshold = 71.3340471927\n"
     ]
    },
    {
     "data": {
      "image/png": "[encoded data removed]",
      "text/plain": [
       "<matplotlib.figure.Figure at 0x7fbb97c69310>"
      ]
     },
     "metadata": {},
     "output_type": "display_data"
    }
   ],
   "source": [
    "%matplotlib inline\n",
    "fl, sg = plot_fluxes(diaSourcesList, visit=981583, max_flux=2500, bins = 250)"
   ]
  },
  {
   "cell_type": "markdown",
   "metadata": {},
   "source": [
    "##Graphical Flux comparison"
   ]
  },
  {
   "cell_type": "markdown",
   "metadata": {},
   "source": [
    "Obtaining the first available sources with workable coordinates"
   ]
  },
  {
   "cell_type": "code",
   "execution_count": 7,
   "metadata": {
    "collapsed": false
   },
   "outputs": [],
   "source": [
    "diaSourcesCatalog = random.choice(diaSourcesList)\n",
    "\n",
    "for ds in diaSourcesCatalog.get(\"deepDiff_diaSrc\"):\n",
    "    \n",
    "    pos= ds.get(\"ip_diffim_NaiveDipoleCentroid_pos_x\")\n",
    "    if np.isnan(pos) == False:\n",
    "        break"
   ]
  },
  {
   "cell_type": "markdown",
   "metadata": {},
   "source": [
    "Creating the stamp on the science exposure"
   ]
  },
  {
   "cell_type": "code",
   "execution_count": 32,
   "metadata": {
    "collapsed": false
   },
   "outputs": [],
   "source": [
    "mos = displayUtils.Mosaic()\n",
    "bbox = ds.getFootprint().getBBox()\n",
    "Begin = afwGeom.Point2I(bbox.getBeginX(), bbox.getBeginY())\n",
    "End = afwGeom.Point2I(bbox.getEndX(), bbox.getEndY())\n",
    "scienceExposure =  diaSourcesCatalog.get(\"calexp\")\n",
    "ExpOrig = afwGeom.Point2I(scienceExposure.getX0()-1, scienceExposure.getY0()-1)\n",
    "\n",
    "\n",
    "\n",
    "correctedBegin = bbox.getBegin()- ExpOrig\n",
    "correctedEnd = bbox.getEnd() - ExpOrig\n",
    "\n",
    "correctedBegin= afwGeom.Point2I(correctedBegin.getX()-10,correctedBegin.getY()-10 )\n",
    "correctedEnd = afwGeom.Point2I(correctedEnd.getX()+10,correctedEnd.getY()+10 )\n",
    "    \n",
    "    \n",
    "    \n",
    "bboxT = afwGeom.Box2I(correctedBegin,correctedEnd)\n",
    "   \n",
    "#print bboxT.toString\n",
    "stamp = scienceExposure.Factory(scienceExposure,bboxT, True)\n",
    "im = displayUtils.Mosaic(gutter=5, background=5, mode=\"x\")\n",
    "im.append(stamp.getMaskedImage())\n",
    "ds9.mtv(stamp, frame=1)\n",
    "\n",
    "#mos.append(im.makeMosaic())\n",
    "#mosaicImage = mos.makeMosaic(frame=1, title=\"mosaic\")\n",
    "\n"
   ]
  },
  {
   "cell_type": "markdown",
   "metadata": {},
   "source": [
    "Creating the stamp on the template exposure"
   ]
  },
  {
   "cell_type": "code",
   "execution_count": 33,
   "metadata": {
    "collapsed": true
   },
   "outputs": [],
   "source": [
    "calexp_template = butler.get(\"calexp\", {\"visit\":986881, \"ccd\":14, \"filter\":\"r\"})\n",
    "stamp = calexp_template.Factory(calexp_template,bboxT, True)\n",
    "#im = displayUtils.Mosaic(gutter=0, background=0, mode=\"x\")\n",
    "im.append(stamp.getMaskedImage())\n",
    "ds9.mtv(stamp, frame=2)"
   ]
  },
  {
   "cell_type": "markdown",
   "metadata": {},
   "source": [
    "Creating the stamp for the subtracted image result"
   ]
  },
  {
   "cell_type": "code",
   "execution_count": 34,
   "metadata": {
    "collapsed": false
   },
   "outputs": [],
   "source": [
    "\n",
    "subtractedExposure =  diaSourcesCatalog.get(\"deepDiff_differenceExp\")\n",
    "stamp = subtractedExposure.Factory(subtractedExposure,bboxT, True)\n",
    "#im = displayUtils.Mosaic(gutter=0, background=0, mode=\"x\")\n",
    "im.append(stamp.getMaskedImage())\n",
    "ds9.mtv(stamp, frame=3)"
   ]
  },
  {
   "cell_type": "code",
   "execution_count": 35,
   "metadata": {
    "collapsed": false
   },
   "outputs": [
    {
     "data": {
      "text/plain": [
       "<lsst.afw.image.imageLib.MaskedImageF; proxy of <Swig Object of type 'boost::shared_ptr< lsst::afw::image::MaskedImage< float,lsst::afw::image::MaskPixel,lsst::afw::image::VariancePixel > > *' at 0x7f0cc53bad80> >"
      ]
     },
     "execution_count": 35,
     "metadata": {},
     "output_type": "execute_result"
    }
   ],
   "source": [
    "#ds9.mtv(subtractedExposure, frame=4)\n",
    "im.makeMosaic(frame=4, title=\"mosaic\")"
   ]
  },
  {
   "cell_type": "markdown",
   "metadata": {},
   "source": [
    "##Visualization tests"
   ]
  },
  {
   "cell_type": "markdown",
   "metadata": {},
   "source": [
    "Test methods to paint the sources on the images"
   ]
  },
  {
   "cell_type": "code",
   "execution_count": null,
   "metadata": {
    "collapsed": false
   },
   "outputs": [],
   "source": [
    "for src1 in diaSrcs1:\n",
    "    if np.isnan(src1.get(\"ip_diffim_NaiveDipoleCentroid_pos_x\"))==False :\n",
    "        x = src1.get(\"ip_diffim_NaiveDipoleCentroid_pos_x\")\n",
    "        y = src1.get(\"ip_diffim_NaiveDipoleCentroid_pos_y\")\n",
    "        ds9.dot(\"+\", x-cexp.getX0(),y-cexp.getY0(), frame=1, size = 25, ctype = ds9.RED)"
   ]
  }
 ],
 "metadata": {
  "kernelspec": {
   "display_name": "Python 2",
   "language": "python",
   "name": "python2"
  },
  "language_info": {
   "codemirror_mode": {
    "name": "ipython",
    "version": 2
   },
   "file_extension": ".py",
   "mimetype": "text/x-python",
   "name": "python",
   "nbconvert_exporter": "python",
   "pygments_lexer": "ipython2",
   "version": "2.7.9"
  }
 },
 "nbformat": 4,
 "nbformat_minor": 0
}
