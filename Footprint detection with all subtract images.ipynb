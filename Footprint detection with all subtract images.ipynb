{
 "metadata": {
  "name": ""
 },
 "nbformat": 3,
 "nbformat_minor": 0,
 "worksheets": [
  {
   "cells": [
    {
     "cell_type": "code",
     "collapsed": false,
     "input": [
      "import io, os, sys, types\n",
      "from IPython.nbformat import current\n",
      "from IPython.core.interactiveshell import InteractiveShell\n",
      "\n",
      "\n",
      "\n",
      "\n",
      "def find_notebook(fullname, path=None):\n",
      "    \"\"\"find a notebook, given its fully qualified name and an optional path\n",
      "    \n",
      "    This turns \"foo.bar\" into \"foo/bar.ipynb\"\n",
      "    and tries turning \"Foo_Bar\" into \"Foo Bar\" if Foo_Bar\n",
      "    does not exist.\n",
      "    \"\"\"\n",
      "    name = fullname.rsplit('.', 1)[-1]\n",
      "    if not path:\n",
      "        path = ['']\n",
      "    for d in path:\n",
      "        nb_path = os.path.join(d, name + \".ipynb\")\n",
      "        if os.path.isfile(nb_path):\n",
      "            return nb_path\n",
      "        # let import Notebook_Name find \"Notebook Name.ipynb\"\n",
      "        nb_path = nb_path.replace(\"_\", \" \")\n",
      "        if os.path.isfile(nb_path):\n",
      "            return nb_path\n",
      "            \n",
      "class NotebookLoader(object):\n",
      "    \"\"\"Module Loader for IPython Notebooks\"\"\"\n",
      "    def __init__(self, path=None):\n",
      "        self.shell = InteractiveShell.instance()\n",
      "        self.path = path\n",
      "    \n",
      "    def load_module(self, fullname):\n",
      "        \"\"\"import a notebook as a module\"\"\"\n",
      "        path = find_notebook(fullname, self.path)\n",
      "        \n",
      "        print (\"importing IPython notebook from %s\" % path)\n",
      "                                       \n",
      "        # load the notebook object\n",
      "        with io.open(path, 'r', encoding='utf-8') as f:\n",
      "            nb = current.read(f, 'json')\n",
      "        \n",
      "        \n",
      "        # create the module and add it to sys.modules\n",
      "        # if name in sys.modules:\n",
      "        #    return sys.modules[name]\n",
      "        mod = types.ModuleType(fullname)\n",
      "        mod.__file__ = path\n",
      "        mod.__loader__ = self\n",
      "        sys.modules[fullname] = mod\n",
      "        \n",
      "        # extra work to ensure that magics that would affect the user_ns\n",
      "        # actually affect the notebook module's ns\n",
      "        save_user_ns = self.shell.user_ns\n",
      "        self.shell.user_ns = mod.__dict__\n",
      "        \n",
      "        try:\n",
      "          for cell in nb.worksheets[0].cells:\n",
      "            if cell.cell_type == 'code' and cell.language == 'python':\n",
      "                # transform the input to executable Python\n",
      "                code = self.shell.input_transformer_manager.transform_cell(cell.input)\n",
      "                # run the code in themodule\n",
      "                exec(code, mod.__dict__)\n",
      "        finally:\n",
      "            self.shell.user_ns = save_user_ns\n",
      "        return mod\n",
      "\n",
      "\n",
      "class NotebookFinder(object):\n",
      "    \"\"\"Module finder that locates IPython Notebooks\"\"\"\n",
      "    def __init__(self):\n",
      "        self.loaders = {}\n",
      "    \n",
      "    def find_module(self, fullname, path=None):\n",
      "        nb_path = find_notebook(fullname, path)\n",
      "        if not nb_path:\n",
      "            return\n",
      "        \n",
      "        key = path\n",
      "        if path:\n",
      "            # lists aren't hashable\n",
      "            key = os.path.sep.join(path)\n",
      "        \n",
      "        if key not in self.loaders:\n",
      "            self.loaders[key] = NotebookLoader(path)\n",
      "        return self.loaders[key]\n",
      "\n",
      "\n",
      "\n",
      "\n"
     ],
     "language": "python",
     "metadata": {},
     "outputs": [],
     "prompt_number": 1
    },
    {
     "cell_type": "code",
     "collapsed": false,
     "input": [
      "sys.meta_path.append(NotebookFinder())"
     ],
     "language": "python",
     "metadata": {},
     "outputs": [],
     "prompt_number": 2
    },
    {
     "cell_type": "code",
     "collapsed": false,
     "input": [
      "import Tests_total"
     ],
     "language": "python",
     "metadata": {},
     "outputs": [
      {
       "output_type": "stream",
       "stream": "stdout",
       "text": [
        "importing IPython notebook from Tests_total.ipynb\n"
       ]
      }
     ],
     "prompt_number": 3
    },
    {
     "cell_type": "code",
     "collapsed": false,
     "input": [
      "\n",
      "path_m4 = \"/renoir_data_02/jpreyes/lsst_data/data/CFHTLS_TEST_SUB/subtracted-4/33,15.fits\"\n",
      "path_m3 = \"/renoir_data_02/jpreyes/lsst_data/data/CFHTLS_TEST_SUB/subtracted-3/33,15.fits\"\n",
      "path_m2 = \"/renoir_data_02/jpreyes/lsst_data/data/CFHTLS_TEST_SUB/subtracted-2/33,15.fits\"\n",
      "path_m1 = \"/renoir_data_02/jpreyes/lsst_data/data/CFHTLS_TEST_SUB/subtracted-1/33,15.fits\"\n",
      "path_p0 = \"/renoir_data_02/jpreyes/lsst_data/data/CFHTLS_TEST_SUB/subtracted+0/33,15.fits\"\n",
      "path_p1 = \"/renoir_data_02/jpreyes/lsst_data/data/CFHTLS_TEST_SUB/subtracted+1/33,15.fits\"\n",
      "path_p2 = \"/renoir_data_02/jpreyes/lsst_data/data/CFHTLS_TEST_SUB/subtracted+2/33,15.fits\"\n",
      "path_p3 = \"/renoir_data_02/jpreyes/lsst_data/data/CFHTLS_TEST_SUB/subtracted+3/33,15.fits\"\n",
      "\n",
      "\n",
      "frame = 1\n",
      "Tests_total.Show_image_and_footprints(path_m4, frame)\n",
      "frame += 1\n",
      "Tests_total.Show_image_and_footprints(path_m3, frame)\n",
      "frame += 1\n",
      "Tests_total.Show_image_and_footprints(path_m2, frame)\n",
      "frame += 1\n",
      "Tests_total.Show_image_and_footprints(path_m1, frame)\n",
      "frame += 1\n",
      "Tests_total.Show_image_and_footprints(path_p0, frame)\n",
      "frame += 1\n",
      "Tests_total.Show_image_and_footprints(path_p1, frame)\n",
      "frame += 1\n",
      "Tests_total.Show_image_and_footprints(path_p2, frame)\n",
      "frame += 1\n",
      "Tests_total.Show_image_and_footprints(path_p3, frame)\n",
      "frame += 1\n",
      "\n"
     ],
     "language": "python",
     "metadata": {},
     "outputs": [
      {
       "output_type": "stream",
       "stream": "stdout",
       "text": [
        "['BAD', 'CR', 'DETECTED', 'DETECTED_NEGATIVE', 'EDGE', 'INTRP', 'MONOTONIC_1SIG', 'OTHERDET', 'SAT', 'SUSPECT', 'SYMM_1SIG', 'SYMM_3SIG', 'THISDET', 'UNMASKEDNAN']\n",
        "Mean of the image is 0.000 counts, stdev is 0.262 counts"
       ]
      },
      {
       "output_type": "stream",
       "stream": "stdout",
       "text": [
        "\n",
        "The 5-sigma detection threshold is at 1.31 counts\n",
        "(33984, 14918)\n",
        "(33984, 14916)"
       ]
      },
      {
       "output_type": "stream",
       "stream": "stdout",
       "text": [
        "\n",
        "(33103, 15032)"
       ]
      },
      {
       "output_type": "stream",
       "stream": "stdout",
       "text": [
        "\n",
        "(33732, 15069)"
       ]
      },
      {
       "output_type": "stream",
       "stream": "stdout",
       "text": [
        "\n",
        "(33861, 15088)"
       ]
      },
      {
       "output_type": "stream",
       "stream": "stdout",
       "text": [
        "\n",
        "(33866, 15094)"
       ]
      },
      {
       "output_type": "stream",
       "stream": "stdout",
       "text": [
        "\n",
        "(33858, 15095)"
       ]
      },
      {
       "output_type": "stream",
       "stream": "stdout",
       "text": [
        "\n",
        "(33487, 15268)"
       ]
      },
      {
       "output_type": "stream",
       "stream": "stdout",
       "text": [
        "\n",
        "(33980, 15422)"
       ]
      },
      {
       "output_type": "stream",
       "stream": "stdout",
       "text": [
        "\n",
        "(33567, 15470)"
       ]
      },
      {
       "output_type": "stream",
       "stream": "stdout",
       "text": [
        "\n",
        "(33263, 15542)"
       ]
      },
      {
       "output_type": "stream",
       "stream": "stdout",
       "text": [
        "\n",
        "(33096, 15562)"
       ]
      },
      {
       "output_type": "stream",
       "stream": "stdout",
       "text": [
        "\n",
        "(33849, 15586)"
       ]
      },
      {
       "output_type": "stream",
       "stream": "stdout",
       "text": [
        "\n",
        "(33807, 15719)"
       ]
      },
      {
       "output_type": "stream",
       "stream": "stdout",
       "text": [
        "\n",
        "(33806, 15725)"
       ]
      },
      {
       "output_type": "stream",
       "stream": "stdout",
       "text": [
        "\n",
        "(33803, 15730)"
       ]
      },
      {
       "output_type": "stream",
       "stream": "stdout",
       "text": [
        "\n",
        "(33545, 15907)"
       ]
      },
      {
       "output_type": "stream",
       "stream": "stdout",
       "text": [
        "\n",
        "(33594, 15927)"
       ]
      },
      {
       "output_type": "stream",
       "stream": "stdout",
       "text": [
        "\n",
        "(33593, 15927)"
       ]
      },
      {
       "output_type": "stream",
       "stream": "stdout",
       "text": [
        "\n",
        "(32977, 16035)"
       ]
      },
      {
       "output_type": "stream",
       "stream": "stdout",
       "text": [
        "\n",
        "Measuring 15 objects"
       ]
      },
      {
       "output_type": "stream",
       "stream": "stdout",
       "text": [
        "\n",
        "nan"
       ]
      },
      {
       "output_type": "stream",
       "stream": "stdout",
       "text": [
        "\n",
        "78.6264399835\n",
        "1.17378425211\n",
        "143.169131702\n",
        "-0.154819342304\n",
        "274.871029937\n",
        "-0.803740335891\n",
        "9.59994926473\n",
        "9.33490491633\n",
        "13.6577939846\n",
        "20.046573619\n",
        "159.57004816\n",
        "20.9748519278\n",
        "273.026466365\n",
        "4.13307501265\n",
        "['BAD', 'CR', 'DETECTED', 'DETECTED_NEGATIVE', 'EDGE', 'INTRP', 'MONOTONIC_1SIG', 'OTHERDET', 'SAT', 'SUSPECT', 'SYMM_1SIG', 'SYMM_3SIG', 'THISDET', 'UNMASKEDNAN']"
       ]
      },
      {
       "output_type": "stream",
       "stream": "stdout",
       "text": [
        "\n",
        "Mean of the image is -0.000 counts, stdev is 0.285 counts"
       ]
      },
      {
       "output_type": "stream",
       "stream": "stdout",
       "text": [
        "\n",
        "The 5-sigma detection threshold is at 1.42 counts\n",
        "(33981, 14917)\n",
        "(33101, 15034)"
       ]
      },
      {
       "output_type": "stream",
       "stream": "stdout",
       "text": [
        "\n",
        "(33041, 15038)"
       ]
      },
      {
       "output_type": "stream",
       "stream": "stdout",
       "text": [
        "\n",
        "(32978, 16088)"
       ]
      },
      {
       "output_type": "stream",
       "stream": "stdout",
       "text": [
        "\n",
        "Measuring 4 objects"
       ]
      },
      {
       "output_type": "stream",
       "stream": "stdout",
       "text": [
        "\n",
        "379.140564219"
       ]
      },
      {
       "output_type": "stream",
       "stream": "stdout",
       "text": [
        "\n",
        "7935.31154727\n",
        "43.0919541329\n",
        "nan\n",
        "['BAD', 'CR', 'DETECTED', 'DETECTED_NEGATIVE', 'EDGE', 'INTRP', 'MONOTONIC_1SIG', 'OTHERDET', 'SAT', 'SUSPECT', 'SYMM_1SIG', 'SYMM_3SIG', 'THISDET', 'UNMASKEDNAN']"
       ]
      },
      {
       "output_type": "stream",
       "stream": "stdout",
       "text": [
        "\n",
        "Mean of the image is -0.000 counts, stdev is 0.193 counts"
       ]
      },
      {
       "output_type": "stream",
       "stream": "stdout",
       "text": [
        "\n",
        "The 5-sigma detection threshold is at 0.97 counts\n",
        "(33978, 14919)\n",
        "(33992, 14918)"
       ]
      },
      {
       "output_type": "stream",
       "stream": "stdout",
       "text": [
        "\n",
        "(33099, 15031)"
       ]
      },
      {
       "output_type": "stream",
       "stream": "stdout",
       "text": [
        "\n",
        "(33982, 15421)"
       ]
      },
      {
       "output_type": "stream",
       "stream": "stdout",
       "text": [
        "\n",
        "(33716, 15748)"
       ]
      },
      {
       "output_type": "stream",
       "stream": "stdout",
       "text": [
        "\n",
        "Measuring 5 objects"
       ]
      },
      {
       "output_type": "stream",
       "stream": "stdout",
       "text": [
        "\n",
        "169.747123485"
       ]
      },
      {
       "output_type": "stream",
       "stream": "stdout",
       "text": [
        "\n",
        "47.8276816545\n",
        "4283.35062737\n",
        "118.871325847\n",
        "9.27646514224\n",
        "['BAD', 'CR', 'DETECTED', 'DETECTED_NEGATIVE', 'EDGE', 'INTRP', 'MONOTONIC_1SIG', 'OTHERDET', 'SAT', 'SUSPECT', 'SYMM_1SIG', 'SYMM_3SIG', 'THISDET', 'UNMASKEDNAN']"
       ]
      },
      {
       "output_type": "stream",
       "stream": "stdout",
       "text": [
        "\n",
        "Mean of the image is -0.000 counts, stdev is 0.214 counts"
       ]
      },
      {
       "output_type": "stream",
       "stream": "stdout",
       "text": [
        "\n",
        "The 5-sigma detection threshold is at 1.07 counts\n",
        "(33981, 14917)\n",
        "(33131, 14990)"
       ]
      },
      {
       "output_type": "stream",
       "stream": "stdout",
       "text": [
        "\n",
        "(33100, 15033)"
       ]
      },
      {
       "output_type": "stream",
       "stream": "stdout",
       "text": [
        "\n",
        "(33041, 15038)"
       ]
      },
      {
       "output_type": "stream",
       "stream": "stdout",
       "text": [
        "\n",
        "(33489, 15271)"
       ]
      },
      {
       "output_type": "stream",
       "stream": "stdout",
       "text": [
        "\n",
        "(32977, 16034)"
       ]
      },
      {
       "output_type": "stream",
       "stream": "stdout",
       "text": [
        "\n",
        "(32978, 16087)"
       ]
      },
      {
       "output_type": "stream",
       "stream": "stdout",
       "text": [
        "\n",
        "Measuring 7 objects"
       ]
      },
      {
       "output_type": "stream",
       "stream": "stdout",
       "text": [
        "\n",
        "908.517682531"
       ]
      },
      {
       "output_type": "stream",
       "stream": "stdout",
       "text": [
        "\n",
        "17.9943231344\n",
        "2053.22052793\n",
        "45.1562439398\n",
        "51.5894257504\n",
        "14.9864497604\n",
        "nan\n",
        "['BAD', 'CR', 'DETECTED', 'DETECTED_NEGATIVE', 'EDGE', 'INTRP', 'MONOTONIC_1SIG', 'OTHERDET', 'SAT', 'SUSPECT', 'SYMM_1SIG', 'SYMM_3SIG', 'THISDET', 'UNMASKEDNAN']"
       ]
      },
      {
       "output_type": "stream",
       "stream": "stdout",
       "text": [
        "\n",
        "Mean of the image is 0.000 counts, stdev is 0.285 counts"
       ]
      },
      {
       "output_type": "stream",
       "stream": "stdout",
       "text": [
        "\n",
        "The 5-sigma detection threshold is at 1.43 counts\n",
        "(33980, 14917)\n",
        "(33101, 15031)"
       ]
      },
      {
       "output_type": "stream",
       "stream": "stdout",
       "text": [
        "\n",
        "(33103, 15032)"
       ]
      },
      {
       "output_type": "stream",
       "stream": "stdout",
       "text": [
        "\n",
        "(33041, 15038)"
       ]
      },
      {
       "output_type": "stream",
       "stream": "stdout",
       "text": [
        "\n",
        "(33489, 15270)"
       ]
      },
      {
       "output_type": "stream",
       "stream": "stdout",
       "text": [
        "\n",
        "(33980, 15419)"
       ]
      },
      {
       "output_type": "stream",
       "stream": "stdout",
       "text": [
        "\n",
        "(33095, 15562)"
       ]
      },
      {
       "output_type": "stream",
       "stream": "stdout",
       "text": [
        "\n",
        "(33806, 15724)"
       ]
      },
      {
       "output_type": "stream",
       "stream": "stdout",
       "text": [
        "\n",
        "(32976, 16035)"
       ]
      },
      {
       "output_type": "stream",
       "stream": "stdout",
       "text": [
        "\n",
        "(32977, 16088)"
       ]
      },
      {
       "output_type": "stream",
       "stream": "stdout",
       "text": [
        "\n",
        "Measuring 9 objects"
       ]
      },
      {
       "output_type": "stream",
       "stream": "stdout",
       "text": [
        "\n",
        "959.991403585"
       ]
      },
      {
       "output_type": "stream",
       "stream": "stdout",
       "text": [
        "\n",
        "39.5962277573\n",
        "38.1119874268\n",
        "53.2789323038\n",
        "-14.3459240594\n",
        "25.1249370413\n",
        "-5.65813531864\n",
        "17.2614779967\n",
        "nan\n",
        "['BAD', 'CR', 'DETECTED', 'DETECTED_NEGATIVE', 'EDGE', 'INTRP', 'MONOTONIC_1SIG', 'OTHERDET', 'SAT', 'SUSPECT', 'SYMM_1SIG', 'SYMM_3SIG', 'THISDET', 'UNMASKEDNAN']"
       ]
      },
      {
       "output_type": "stream",
       "stream": "stdout",
       "text": [
        "\n",
        "Mean of the image is -0.000 counts, stdev is 0.369 counts"
       ]
      },
      {
       "output_type": "stream",
       "stream": "stdout",
       "text": [
        "\n",
        "The 5-sigma detection threshold is at 1.84 counts\n",
        "(33981, 14917)"
       ]
      },
      {
       "output_type": "stream",
       "stream": "stdout",
       "text": [
        "\n",
        "(33101, 15029)"
       ]
      },
      {
       "output_type": "stream",
       "stream": "stdout",
       "text": [
        "\n",
        "(33041, 15038)"
       ]
      },
      {
       "output_type": "stream",
       "stream": "stdout",
       "text": [
        "\n",
        "(33488, 15268)"
       ]
      },
      {
       "output_type": "stream",
       "stream": "stdout",
       "text": [
        "\n",
        "(33096, 15562)"
       ]
      },
      {
       "output_type": "stream",
       "stream": "stdout",
       "text": [
        "\n",
        "(33805, 15724)"
       ]
      },
      {
       "output_type": "stream",
       "stream": "stdout",
       "text": [
        "\n",
        "(33594, 15927)"
       ]
      },
      {
       "output_type": "stream",
       "stream": "stdout",
       "text": [
        "\n",
        "Measuring 7 objects"
       ]
      },
      {
       "output_type": "stream",
       "stream": "stdout",
       "text": [
        "\n",
        "-266.919811823"
       ]
      },
      {
       "output_type": "stream",
       "stream": "stdout",
       "text": [
        "\n",
        "28.6961604544\n",
        "35.5524432989\n",
        "11.3353461818\n",
        "13.5858147146\n",
        "115.357864228\n",
        "-4.1743161525\n",
        "['BAD', 'CR', 'DETECTED', 'DETECTED_NEGATIVE', 'EDGE', 'INTRP', 'MONOTONIC_1SIG', 'OTHERDET', 'SAT', 'SUSPECT', 'SYMM_1SIG', 'SYMM_3SIG', 'THISDET', 'UNMASKEDNAN']"
       ]
      },
      {
       "output_type": "stream",
       "stream": "stdout",
       "text": [
        "\n",
        "Mean of the image is -0.000 counts, stdev is 0.193 counts"
       ]
      },
      {
       "output_type": "stream",
       "stream": "stdout",
       "text": [
        "\n",
        "The 5-sigma detection threshold is at 0.97 counts\n",
        "(33978, 14919)"
       ]
      },
      {
       "output_type": "stream",
       "stream": "stdout",
       "text": [
        "\n",
        "(33992, 14918)"
       ]
      },
      {
       "output_type": "stream",
       "stream": "stdout",
       "text": [
        "\n",
        "(33099, 15031)"
       ]
      },
      {
       "output_type": "stream",
       "stream": "stdout",
       "text": [
        "\n",
        "(33982, 15421)"
       ]
      },
      {
       "output_type": "stream",
       "stream": "stdout",
       "text": [
        "\n",
        "(33716, 15748)"
       ]
      },
      {
       "output_type": "stream",
       "stream": "stdout",
       "text": [
        "\n",
        "Measuring 5 objects"
       ]
      },
      {
       "output_type": "stream",
       "stream": "stdout",
       "text": [
        "\n",
        "169.747123485"
       ]
      },
      {
       "output_type": "stream",
       "stream": "stdout",
       "text": [
        "\n",
        "47.8276816545\n",
        "4283.35062737\n",
        "118.871325847\n",
        "9.27646514224\n",
        "['BAD', 'CR', 'DETECTED', 'DETECTED_NEGATIVE', 'EDGE', 'INTRP', 'MONOTONIC_1SIG', 'OTHERDET', 'SAT', 'SUSPECT', 'SYMM_1SIG', 'SYMM_3SIG', 'THISDET', 'UNMASKEDNAN']"
       ]
      },
      {
       "output_type": "stream",
       "stream": "stdout",
       "text": [
        "\n",
        "Mean of the image is -0.000 counts, stdev is 0.233 counts"
       ]
      },
      {
       "output_type": "stream",
       "stream": "stdout",
       "text": [
        "\n",
        "The 5-sigma detection threshold is at 1.17 counts\n",
        "(33991, 14916)"
       ]
      },
      {
       "output_type": "stream",
       "stream": "stdout",
       "text": [
        "\n",
        "(33981, 14922)"
       ]
      },
      {
       "output_type": "stream",
       "stream": "stdout",
       "text": [
        "\n",
        "(33101, 15033)"
       ]
      },
      {
       "output_type": "stream",
       "stream": "stdout",
       "text": [
        "\n",
        "(33103, 15035)"
       ]
      },
      {
       "output_type": "stream",
       "stream": "stdout",
       "text": [
        "\n",
        "(33488, 15269)"
       ]
      },
      {
       "output_type": "stream",
       "stream": "stdout",
       "text": [
        "\n",
        "(33263, 15542)"
       ]
      },
      {
       "output_type": "stream",
       "stream": "stdout",
       "text": [
        "\n",
        "(33096, 15562)"
       ]
      },
      {
       "output_type": "stream",
       "stream": "stdout",
       "text": [
        "\n",
        "(33805, 15723)"
       ]
      },
      {
       "output_type": "stream",
       "stream": "stdout",
       "text": [
        "\n",
        "Measuring 6 objects"
       ]
      },
      {
       "output_type": "stream",
       "stream": "stdout",
       "text": [
        "\n",
        "263.966827577"
       ]
      },
      {
       "output_type": "stream",
       "stream": "stdout",
       "text": [
        "\n",
        "594.496444542\n",
        "15.9229189885\n",
        "10.8924415589\n",
        "17.9510116722\n",
        "90.7598918771\n"
       ]
      }
     ],
     "prompt_number": 6
    },
    {
     "cell_type": "code",
     "collapsed": false,
     "input": [],
     "language": "python",
     "metadata": {},
     "outputs": [],
     "prompt_number": 4
    }
   ],
   "metadata": {}
  }
 ]
}