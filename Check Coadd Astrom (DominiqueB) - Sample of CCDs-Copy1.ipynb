{
 "cells": [
  {
   "cell_type": "code",
   "execution_count": 1,
   "metadata": {
    "collapsed": true
   },
   "outputs": [],
   "source": [
    "import lsst.daf.persistence as dafPersist\n",
    "import lsst.afw.table as afwTable\n",
    "import lsst.afw.geom as afwGeom\n",
    "import lsst.afw.image as afwImage\n",
    "import math\n",
    "import re\n",
    "\n",
    "import lsst.daf.base as dafBase\n",
    "from lsst.meas.algorithms.detection import SourceDetectionTask\n",
    "from lsst.meas.base import SingleFrameMeasurementTask\n",
    "from lsst.meas.deblender import SourceDeblendTask\n",
    "from lsst.meas.base import CatalogCalculationTask\n",
    "\n",
    "%matplotlib inline\n",
    "import matplotlib\n",
    "import matplotlib.pylab as plt\n",
    "import numpy as np"
   ]
  },
  {
   "cell_type": "code",
   "execution_count": 2,
   "metadata": {
    "collapsed": true
   },
   "outputs": [],
   "source": [
    "# List of visits to be considered\n",
    "#visits = [8]\n",
    "#visits = [849375, 850587]\n",
    "DATADIR=\"/datadec/cppm/jpreyes/CFHT_Jointcal_2/\"\n",
    "# Reference visit\n",
    "ref = 802227\n",
    "\n",
    "# Tract\n",
    "tract = 0\n",
    "\n",
    "# List of CCD to be considered (source calatlogs will be concateneted)\n",
    "#ccd = [12, 13, 14, 21, 22, 23]\n",
    "#ccd = [0, 1, 7, 8, 27, 28, 33, 35]\n",
    "ccd = range(0,36)\n",
    "#ccd = [21, 22, 27, 28]\n",
    "#ccd = [14]\n",
    "patches = []\n",
    "patches_file=open(DATADIR+\"/patches.txt\", \"rb\")\n",
    "for line in patches_file:\n",
    "    line = line.replace('\\n','')\n",
    "    text = re.split(\"=| \",line)\n",
    "    patches.append(text[-1])\n",
    "patches_file.close()\n",
    "\n",
    "filter = 'r'\n",
    "\n",
    "Flags = [\"base_PixelFlags_flag_saturated\", \"base_PixelFlags_flag_cr\", \"base_PixelFlags_flag_interpolated\",\n",
    "         \"base_PsfFlux_flag_edge\", \"base_CircularApertureFlux_4_5_flag\", \"base_SdssCentroid_flag\", \n",
    "         \"base_SdssShape_flag\"]\n",
    "\n",
    "#setup butler - Replace path name by something suitable for you\n",
    "butler = dafPersist.Butler(DATADIR+\"/jointcal_comp_12days\")\n",
    "butlerV = dafPersist.Butler(DATADIR+\"/vanilla_12days\")"
   ]
  },
  {
   "cell_type": "code",
   "execution_count": 3,
   "metadata": {
    "collapsed": true
   },
   "outputs": [],
   "source": [
    "def detect_sources(exposure):\n",
    "    threshold = 6\n",
    "    doSmooth=True\n",
    "    schema = afwTable.SourceTable.makeMinimalSchema()\n",
    "\n",
    "\n",
    "    algMetadata = dafBase.PropertyList()\n",
    "\n",
    "    config = SourceDetectionTask.ConfigClass()\n",
    "    #config.thresholdPolarity = \"both\"\n",
    "    config.thresholdValue = threshold\n",
    "    config.reEstimateBackground = False\n",
    "    #config.thresholdType = \"pixel_stdev\"\n",
    "\n",
    "    detectionTask = SourceDetectionTask(config=config, schema=schema)\n",
    "\n",
    "    measurement = SingleFrameMeasurementTask\n",
    "    config = measurement.ConfigClass()\n",
    "\n",
    "    measurement = measurement(schema, config=config, algMetadata=algMetadata)\n",
    "\n",
    "    deblend = SourceDeblendTask\n",
    "    config = SourceDeblendTask.ConfigClass()\n",
    "    deblend = deblend(schema)\n",
    "\n",
    "    calculation = CatalogCalculationTask\n",
    "    config = CatalogCalculationTask.ConfigClass()\n",
    "    config.plugins.names.clear()\n",
    "    config.plugins.names.add(\"base_ClassificationExtendedness\")\n",
    "\n",
    "    calculation = calculation(schema, config=config)\n",
    "\n",
    "    table = afwTable.SourceTable.make(schema)\n",
    "\n",
    "    results = detectionTask.run(table=table, exposure=exposure , doSmooth=doSmooth )\n",
    "\n",
    "    sourcesCat = results.sources\n",
    "    print \"deblending\"\n",
    "    deblend.run(exposure, sourcesCat)\n",
    "    print \"measuring\"\n",
    "    measurement.run(measCat=sourcesCat, exposure=exposure)\n",
    "    print \"calculating\"\n",
    "    calculation.run(sourcesCat)\n",
    "    return sourcesCat\n"
   ]
  },
  {
   "cell_type": "code",
   "execution_count": 14,
   "metadata": {},
   "outputs": [
    {
     "name": "stdout",
     "output_type": "stream",
     "text": [
      "0 2670\n",
      "1 3119\n",
      "2 3419\n",
      "3 3094\n",
      "4 3215\n",
      "5 3425\n",
      "6 2980\n",
      "7 3209\n",
      "8 2918\n",
      "9 3406\n",
      "10 3073\n",
      "11 3077\n",
      "12 2809\n",
      "13 2822\n",
      "14 3033\n",
      "15 3513\n",
      "16 3178\n",
      "17 2560\n",
      "18 2985\n",
      "19 2849\n",
      "20 2965\n",
      "21 2843\n",
      "22 3007\n",
      "23 3075\n",
      "24 2908\n",
      "25 2824\n",
      "26 2681\n",
      "27 2692\n",
      "28 2957\n",
      "29 2738\n",
      "30 2979\n",
      "31 3207\n",
      "32 2904\n",
      "33 3213\n",
      "34 2970\n",
      "35 2924\n",
      "Ref... 108241\n"
     ]
    }
   ],
   "source": [
    "for indx, c in enumerate(ccd) :\n",
    "    dataid = {'visit':ref, 'filter':filter, 'ccd':c}\n",
    "    dataid2 = {'visit':ref, 'filter':filter, 'ccd':c, 'tract':0}\n",
    "    if butler.datasetExists('src', dataid):\n",
    "    \n",
    "        oldSrc = butler.get('src', dataid, immediate=True)\n",
    "        newWcs = butler.get(\"wcs\", dataid2).getWcs()\n",
    "        calexp = butler.get(\"calexp_md\", dataid)\n",
    "        oldWcs = afwImage.makeWcs(calexp)\n",
    "        \n",
    "        \n",
    "        print c, len(oldSrc)\n",
    "            \n",
    "       \n",
    "        \n",
    "        if indx == 0 :\n",
    "            # retrieve the schema of the source catalog and extend it in order to add a field to record the ccd number\n",
    "            oldSchema = oldSrc.getSchema()\n",
    "            mapper = afwTable.SchemaMapper(oldSchema)\n",
    "            mapper.addMinimalSchema(oldSchema)\n",
    "            newSchema = mapper.getOutputSchema()\n",
    "            newSchema.addField(\"ccd\", type=\"I\", doc=\"CCD number\")\n",
    "\n",
    "            #create the new extented source catalog \n",
    "            srcRef = afwTable.SourceCatalog(newSchema)\n",
    "\n",
    "        # create temporary catalog\n",
    "        tmpCat = afwTable.SourceCatalog(srcRef.table)\n",
    "        tmpCat.extend(oldSrc, mapper=mapper)\n",
    "        # fill in the ccd information in numpy mode in order to be efficient\n",
    "        tmpCat['ccd'][:] = c\n",
    "        # append the temporary catalog to the extended source catalog    \n",
    "        srcRef.extend(tmpCat, deep=False)\n",
    "\n",
    "print \"Ref...\", len(srcRef)"
   ]
  },
  {
   "cell_type": "code",
   "execution_count": 3,
   "metadata": {},
   "outputs": [
    {
     "name": "stdout",
     "output_type": "stream",
     "text": [
      "0 2670\n",
      "1 3119\n",
      "2 3419\n",
      "3 3094\n",
      "4 3215\n",
      "5 3425\n",
      "6 2980\n",
      "7 3209\n",
      "8 2918\n",
      "9 3406\n",
      "10 3073\n",
      "11 3077\n",
      "12 2809\n",
      "13 2822\n",
      "14 3033\n",
      "15 3513\n",
      "16 3178\n",
      "17 2560\n",
      "18 2985\n",
      "19 2849\n",
      "20 2965\n",
      "21 2843\n",
      "22 3007\n",
      "23 3075\n",
      "24 2908\n",
      "25 2824\n",
      "26 2681\n",
      "27 2692\n",
      "28 2957\n",
      "29 2738\n",
      "30 2979\n",
      "31 3207\n",
      "32 2904\n",
      "33 3213\n",
      "34 2970\n",
      "35 2924\n",
      "Ref... 108241\n"
     ]
    }
   ],
   "source": [
    "for indx, c in enumerate(ccd) :\n",
    "    dataid = {'visit':ref, 'filter':filter, 'ccd':c}\n",
    "    dataid2 = {'visit':ref, 'filter':filter, 'ccd':c, 'tract':0}\n",
    "    if butler.datasetExists('src', dataid):\n",
    "    \n",
    "        oldSrc = butler.get('src', dataid, immediate=True)\n",
    "        newWcs = butler.get(\"wcs\", dataid2).getWcs()\n",
    "        calexp = butler.get(\"calexp_md\", dataid)\n",
    "        oldWcs = afwImage.makeWcs(calexp)\n",
    "        \n",
    "        \n",
    "        print c, len(oldSrc)\n",
    "            \n",
    "            \n",
    "        for s in oldSrc:\n",
    "\n",
    "            coord = s.getCoord()\n",
    "            pix = oldWcs.skyToPixel(coord.getRa(), coord.getDec())\n",
    "            newCoord = newWcs.pixelToSky(pix).toIcrs()\n",
    "            s.setCoord(newCoord)\n",
    "            \n",
    "         \n",
    "\n",
    "        \n",
    "        if indx == 0 :\n",
    "            # retrieve the schema of the source catalog and extend it in order to add a field to record the ccd number\n",
    "            oldSchema = oldSrc.getSchema()\n",
    "            mapper = afwTable.SchemaMapper(oldSchema)\n",
    "            mapper.addMinimalSchema(oldSchema)\n",
    "            newSchema = mapper.getOutputSchema()\n",
    "            newSchema.addField(\"ccd\", type=\"I\", doc=\"CCD number\")\n",
    "\n",
    "            #create the new extented source catalog \n",
    "            jointcal_srcRef = afwTable.SourceCatalog(newSchema)\n",
    "\n",
    "        # create temporary catalog\n",
    "        tmpCat = afwTable.SourceCatalog(jointcal_srcRef.table)\n",
    "        tmpCat.extend(oldSrc, mapper=mapper)\n",
    "        # fill in the ccd information in numpy mode in order to be efficient\n",
    "        tmpCat['ccd'][:] = c\n",
    "        # append the temporary catalog to the extended source catalog    \n",
    "        jointcal_srcRef.extend(tmpCat, deep=False)\n",
    "\n",
    "print \"Ref...\", len(jointcal_srcRef)"
   ]
  },
  {
   "cell_type": "code",
   "execution_count": 29,
   "metadata": {},
   "outputs": [
    {
     "data": {
      "text/plain": [
       "IcrsCoord(214.13981297724064*afwGeom.degrees, 52.41496650080333*afwGeom.degrees)"
      ]
     },
     "execution_count": 29,
     "metadata": {},
     "output_type": "execute_result"
    }
   ],
   "source": [
    "s.getCoord()"
   ]
  },
  {
   "cell_type": "code",
   "execution_count": 32,
   "metadata": {},
   "outputs": [
    {
     "data": {
      "text/plain": [
       "IcrsCoord(214.13980012842234*afwGeom.degrees, 52.414984477059264*afwGeom.degrees)"
      ]
     },
     "execution_count": 32,
     "metadata": {},
     "output_type": "execute_result"
    }
   ],
   "source": [
    "s.getCoord()"
   ]
  },
  {
   "cell_type": "code",
   "execution_count": 38,
   "metadata": {},
   "outputs": [
    {
     "data": {
      "text/plain": [
       "IcrsCoord(214.13980012842234*afwGeom.degrees, 52.414984477059264*afwGeom.degrees)"
      ]
     },
     "execution_count": 38,
     "metadata": {},
     "output_type": "execute_result"
    }
   ],
   "source": [
    "srcRef[-1].getCoord()"
   ]
  },
  {
   "cell_type": "code",
   "execution_count": 18,
   "metadata": {},
   "outputs": [
    {
     "name": "stdout",
     "output_type": "stream",
     "text": [
      "Key<I>(offset=496, nElements=1)\n"
     ]
    }
   ],
   "source": [
    "schema = srcRef.getSchema()\n",
    "ccdKeyRef = schema[\"ccd\"].asKey()\n",
    "fluxKey = schema[\"base_CircularApertureFlux_4_5_flux\"].asKey()\n",
    "print ccdKeyRef"
   ]
  },
  {
   "cell_type": "code",
   "execution_count": 5,
   "metadata": {},
   "outputs": [
    {
     "name": "stdout",
     "output_type": "stream",
     "text": [
      "504\n"
     ]
    }
   ],
   "source": [
    "print len(patches)"
   ]
  },
  {
   "cell_type": "code",
   "execution_count": 6,
   "metadata": {},
   "outputs": [
    {
     "data": {
      "text/plain": [
       "'23,18'"
      ]
     },
     "execution_count": 6,
     "metadata": {},
     "output_type": "execute_result"
    }
   ],
   "source": [
    "patches[len(patches)-7]"
   ]
  },
  {
   "cell_type": "code",
   "execution_count": 113,
   "metadata": {
    "collapsed": true
   },
   "outputs": [],
   "source": [
    "jointcal_dccat_comp = afwTable.SourceCatalog.readFits(DATADIR+\"/jointcal_comp_3days.fits\")\n",
    "jointcal_dccat_ind = afwTable.SourceCatalog.readFits(DATADIR+\"/jointcal_ind_3days.fits\")\n"
   ]
  },
  {
   "cell_type": "code",
   "execution_count": 91,
   "metadata": {},
   "outputs": [
    {
     "name": "stdout",
     "output_type": "stream",
     "text": [
      "226674 226674 202223\n"
     ]
    }
   ],
   "source": [
    "print len(jointcalday_dccat_comp), len(jointcalday_dccat_ind),len(vanilla_dccat)"
   ]
  },
  {
   "cell_type": "raw",
   "metadata": {},
   "source": []
  },
  {
   "cell_type": "code",
   "execution_count": 21,
   "metadata": {},
   "outputs": [
    {
     "name": "stdout",
     "output_type": "stream",
     "text": [
      "here 0\n",
      "here 1000\n",
      "here 2000\n",
      "here 3000\n",
      "here 4000\n",
      "here 5000\n",
      "here 6000\n",
      "here 7000\n",
      "here 8000\n",
      "here 9000\n",
      "here 10000\n",
      "here 11000\n",
      "here 12000\n",
      "here 13000\n",
      "here 14000\n",
      "here 15000\n",
      "here 16000\n",
      "here 17000\n",
      "here 18000\n",
      "here 19000\n",
      "here 20000\n",
      "here 21000\n",
      "here 22000\n",
      "here 23000\n",
      "here 24000\n",
      "here 25000\n",
      "here 26000\n",
      "here 27000\n",
      "here 28000\n",
      "here 29000\n",
      "here 30000\n",
      "here 31000\n",
      "here 32000\n",
      "here 33000\n",
      "here 34000\n",
      "here 35000\n",
      "here 36000\n",
      "here 37000\n",
      "here 38000\n",
      "here 39000\n",
      "here 40000\n",
      "here 41000\n",
      "here 42000\n",
      "here 43000\n",
      "here 44000\n",
      "here 45000\n",
      "here 46000\n",
      "here 47000\n",
      "here 48000\n",
      "here 49000\n",
      "here 50000\n",
      "here 51000\n",
      "here 52000\n",
      "here 53000\n",
      "here 54000\n",
      "here 55000\n",
      "here 56000\n",
      "here 57000\n",
      "here 58000\n",
      "here 59000\n",
      "here 60000\n",
      "here 61000\n",
      "here 62000\n",
      "here 63000\n",
      "here 64000\n",
      "here 65000\n",
      "here 66000\n",
      "here 67000\n",
      "here 68000\n",
      "here 69000\n",
      "here 70000\n",
      "here 71000\n",
      "here 72000\n",
      "here 73000\n",
      "here 74000\n",
      "here 75000\n",
      "here 76000\n",
      "here 77000\n",
      "here 78000\n",
      "here 79000\n",
      "here 80000\n",
      "here 81000\n",
      "here 82000\n",
      "here 83000\n"
     ]
    }
   ],
   "source": [
    "distances_vanilla = []\n",
    "for i, m in enumerate(matches_vanilla):\n",
    "    mref = m.first\n",
    "    mvanilla = m.second\n",
    "      \n",
    "    if i%1000==0:\n",
    "        print \"here\", i\n",
    "    \n",
    "    \n",
    "    dataRef={'visit':ref, 'filter':\"r\", 'ccd':mref.get(ccdKeyRef)}\n",
    "    \n",
    "    mdRef = butler.get(\"calexp_md\", dataRef, immediate=True)\n",
    "    calib = afwImage.Calib(mdRef)\n",
    "    flux = mref.get(fluxKey)\n",
    "    if flux > 0. :\n",
    "            refMag = calib.getMagnitude(flux)\n",
    "            \n",
    "    \n",
    "    \n",
    "    if mvanilla[\"base_ClassificationExtendedness_value\"]>0.5 and refMag > 16.5 and refMag < 22:\n",
    "    \n",
    "        distances_vanilla.append(afwGeom.radToMas(m.distance))"
   ]
  },
  {
   "cell_type": "code",
   "execution_count": 58,
   "metadata": {},
   "outputs": [
    {
     "name": "stdout",
     "output_type": "stream",
     "text": [
      "21.5940423385\n"
     ]
    }
   ],
   "source": [
    " dataRef={'visit':ref, 'filter':\"r\", 'ccd':mref.get(ccdKeyRef)}\n",
    "    \n",
    "mdRef = butler.get(\"calexp_md\", dataRef, immediate=True)\n",
    "calib = afwImage.Calib(mdRef)\n",
    "flux = mref.get(fluxKey)\n",
    "if flux > 0. :\n",
    "        refMag = calib.getMagnitude(flux)\n",
    "        print refMag"
   ]
  },
  {
   "cell_type": "code",
   "execution_count": 59,
   "metadata": {},
   "outputs": [
    {
     "name": "stdout",
     "output_type": "stream",
     "text": [
      "80894\n"
     ]
    }
   ],
   "source": [
    "print len(matches_jointcal_comp)"
   ]
  },
  {
   "cell_type": "code",
   "execution_count": 25,
   "metadata": {},
   "outputs": [],
   "source": [
    "jointcalday_dccat_comp = afwTable.SourceCatalog.readFits(DATADIR+\"/jointcal_comp_3days.fits\")\n",
    "jointcalday_dccat_ind = afwTable.SourceCatalog.readFits(DATADIR+\"/jointcal_ind_3days.fits\")\n",
    "vanilla_dccat = afwTable.SourceCatalog.readFits(DATADIR+\"/extended_vanilla_12days.fits\")"
   ]
  },
  {
   "cell_type": "code",
   "execution_count": null,
   "metadata": {},
   "outputs": [],
   "source": [
    "matches_dayjointcal_comp = afwTable.matchRaDec(jointcal_srcRef, jointcalday_dccat_comp, afwGeom.Angle(1./3600., afwGeom.degrees))\n",
    "matches_dayjointcal_ind = afwTable.matchRaDec(jointcal_srcRef, jointcalday_dccat_ind, afwGeom.Angle(1./3600., afwGeom.degrees))\n",
    "matches_vanilla = afwTable.matchRaDec(srcRef, vanilla_dccat, afwGeom.Angle(1./3600., afwGeom.degrees))"
   ]
  },
  {
   "cell_type": "code",
   "execution_count": null,
   "metadata": {
    "collapsed": true
   },
   "outputs": [],
   "source": [
    "def getDistances(catalog1, catalog2):\n",
    "    matches = afwTable.matchRaDec(catalog1, catalog2, afwGeom.Angle(1./3600., afwGeom.degrees))\n",
    "    distances = []\n",
    "    for i, m in enumerate(matches):\n",
    "        mref = m.first\n",
    "        mjoint = m.second\n",
    "\n",
    "        if i%1000==0:\n",
    "            print \"here\", i\n",
    "\n",
    "\n",
    "        #dataRef={'visit':ref, 'filter':\"r\", 'ccd':mref.get(ccdKeyRef)}\n",
    "\n",
    "        #mdRef = butler.get(\"calexp_md\", dataRef, immediate=True)\n",
    "        #calib = afwImage.Calib(mdRef)\n",
    "        #flux = mref.get(fluxKey)\n",
    "        #if flux > 0. :\n",
    "        #        refMag = calib.getMagnitude(flux)\n",
    "        refMag= 20\n",
    "\n",
    "\n",
    "        if mjoint[\"base_ClassificationExtendedness_value\"]>0.5 and refMag > 16.5 and refMag<22:\n",
    "            distances.append(afwGeom.radToMas(m.distance))\n",
    "    return distances"
   ]
  },
  {
   "cell_type": "code",
   "execution_count": 29,
   "metadata": {
    "scrolled": true
   },
   "outputs": [
    {
     "name": "stdout",
     "output_type": "stream",
     "text": [
      "here 0\n",
      "here 1000\n",
      "here 2000\n",
      "here 3000\n",
      "here 4000\n",
      "here 5000\n",
      "here 6000\n",
      "here 7000\n",
      "here 8000\n",
      "here 9000\n",
      "here 10000\n",
      "here 11000\n",
      "here 12000\n",
      "here 13000\n",
      "here 14000\n",
      "here 15000\n",
      "here 16000\n",
      "here 17000\n",
      "here 18000\n",
      "here 19000\n",
      "here 20000\n",
      "here 21000\n",
      "here 22000\n",
      "here 23000\n",
      "here 24000\n",
      "here 25000\n",
      "here 26000\n",
      "here 27000\n",
      "here 28000\n",
      "here 29000\n",
      "here 30000\n",
      "here 31000\n",
      "here 32000\n",
      "here 33000\n",
      "here 34000\n",
      "here 35000\n",
      "here 36000\n",
      "here 37000\n",
      "here 38000\n",
      "here 39000\n",
      "here 40000\n",
      "here 41000\n",
      "here 42000\n",
      "here 43000\n",
      "here 44000\n",
      "here 45000\n",
      "here 46000\n",
      "here 47000\n",
      "here 48000\n",
      "here 49000\n",
      "here 50000\n",
      "here 51000\n",
      "here 52000\n",
      "here 53000\n",
      "here 54000\n",
      "here 55000\n",
      "here 56000\n",
      "here 57000\n",
      "here 58000\n",
      "here 59000\n",
      "here 60000\n",
      "here 61000\n",
      "here 62000\n",
      "here 63000\n",
      "here 64000\n",
      "here 65000\n",
      "here 66000\n",
      "here 67000\n",
      "here 68000\n",
      "here 69000\n",
      "here 70000\n",
      "here 71000\n",
      "here 72000\n",
      "here 73000\n",
      "here 74000\n",
      "here 75000\n",
      "here 76000\n",
      "here 77000\n",
      "here 78000\n",
      "here 79000\n",
      "here 80000\n",
      "here 81000\n",
      "here 82000\n",
      "here 83000\n",
      "here 84000\n",
      "here 85000\n",
      "here 86000\n",
      "here 87000\n",
      "here 88000\n",
      "here 89000\n",
      "here 90000\n",
      "here 91000\n",
      "here 92000\n",
      "here 93000\n",
      "here 0\n",
      "here 1000\n",
      "here 2000\n",
      "here 3000\n",
      "here 4000\n",
      "here 5000\n",
      "here 6000\n",
      "here 7000\n",
      "here 8000\n",
      "here 9000\n",
      "here 10000\n",
      "here 11000\n",
      "here 12000\n",
      "here 13000\n",
      "here 14000\n",
      "here 15000\n",
      "here 16000\n",
      "here 17000\n",
      "here 18000\n",
      "here 19000\n",
      "here 20000\n",
      "here 21000\n",
      "here 22000\n",
      "here 23000\n",
      "here 24000\n",
      "here 25000\n",
      "here 26000\n",
      "here 27000\n",
      "here 28000\n",
      "here 29000\n",
      "here 30000\n",
      "here 31000\n",
      "here 32000\n",
      "here 33000\n",
      "here 34000\n",
      "here 35000\n",
      "here 36000\n",
      "here 37000\n",
      "here 38000\n",
      "here 39000\n",
      "here 40000\n",
      "here 41000\n",
      "here 42000\n",
      "here 43000\n",
      "here 44000\n",
      "here 45000\n",
      "here 46000\n",
      "here 47000\n",
      "here 48000\n",
      "here 49000\n",
      "here 50000\n",
      "here 51000\n",
      "here 52000\n",
      "here 53000\n",
      "here 54000\n",
      "here 55000\n",
      "here 56000\n",
      "here 57000\n",
      "here 58000\n",
      "here 59000\n",
      "here 60000\n",
      "here 61000\n",
      "here 62000\n",
      "here 63000\n",
      "here 64000\n",
      "here 65000\n",
      "here 66000\n",
      "here 67000\n",
      "here 68000\n",
      "here 69000\n",
      "here 70000\n",
      "here 71000\n",
      "here 72000\n",
      "here 73000\n",
      "here 74000\n",
      "here 75000\n",
      "here 76000\n",
      "here 77000\n",
      "here 78000\n",
      "here 79000\n",
      "here 80000\n",
      "here 81000\n",
      "here 82000\n",
      "here 83000\n",
      "here 84000\n",
      "here 85000\n",
      "here 86000\n",
      "here 87000\n",
      "here 88000\n",
      "here 89000\n",
      "here 90000\n",
      "here 91000\n",
      "here 92000\n",
      "here 93000\n"
     ]
    }
   ],
   "source": [
    "distances_dayjoint_comp = getDistances(jointcal_srcRef, jointcalday_dccat_comp)\n",
    "distances_dayjoint_ind = getDistances(jointcal_srcRef, jointcalday_dccat_ind)"
   ]
  },
  {
   "cell_type": "code",
   "execution_count": 30,
   "metadata": {},
   "outputs": [
    {
     "data": {
      "text/plain": [
       "(62486, 62486)"
      ]
     },
     "execution_count": 30,
     "metadata": {},
     "output_type": "execute_result"
    }
   ],
   "source": [
    "len(distances_dayjoint_comp), len(distances_dayjoint_ind)"
   ]
  },
  {
   "cell_type": "code",
   "execution_count": 28,
   "metadata": {},
   "outputs": [
    {
     "ename": "NameError",
     "evalue": "name 'distances_joint_comp' is not defined",
     "output_type": "error",
     "traceback": [
      "\u001b[0;31m---------------------------------------------------------------------------\u001b[0m",
      "\u001b[0;31mNameError\u001b[0m                                 Traceback (most recent call last)",
      "\u001b[0;32m<ipython-input-28-fe7d19f3c4d4>\u001b[0m in \u001b[0;36m<module>\u001b[0;34m()\u001b[0m\n\u001b[1;32m      1\u001b[0m \u001b[0mplt\u001b[0m\u001b[0;34m.\u001b[0m\u001b[0mclf\u001b[0m\u001b[0;34m(\u001b[0m\u001b[0;34m)\u001b[0m\u001b[0;34m\u001b[0m\u001b[0m\n\u001b[1;32m      2\u001b[0m \u001b[0mfig\u001b[0m\u001b[0;34m,\u001b[0m \u001b[0max0\u001b[0m \u001b[0;34m=\u001b[0m \u001b[0mplt\u001b[0m\u001b[0;34m.\u001b[0m\u001b[0msubplots\u001b[0m\u001b[0;34m(\u001b[0m\u001b[0mncols\u001b[0m\u001b[0;34m=\u001b[0m\u001b[0;36m1\u001b[0m\u001b[0;34m,\u001b[0m \u001b[0mfigsize\u001b[0m\u001b[0;34m=\u001b[0m\u001b[0;34m(\u001b[0m\u001b[0;36m10\u001b[0m\u001b[0;34m,\u001b[0m\u001b[0;36m10\u001b[0m\u001b[0;34m)\u001b[0m\u001b[0;34m)\u001b[0m\u001b[0;34m\u001b[0m\u001b[0m\n\u001b[0;32m----> 3\u001b[0;31m \u001b[0max0\u001b[0m\u001b[0;34m.\u001b[0m\u001b[0mhist\u001b[0m\u001b[0;34m(\u001b[0m\u001b[0mdistances_joint_comp\u001b[0m\u001b[0;34m,\u001b[0m \u001b[0mbins\u001b[0m\u001b[0;34m=\u001b[0m\u001b[0;36m200\u001b[0m\u001b[0;34m,\u001b[0m \u001b[0mhisttype\u001b[0m\u001b[0;34m=\u001b[0m\u001b[0;34m\"step\"\u001b[0m\u001b[0;34m,\u001b[0m \u001b[0mlabel\u001b[0m\u001b[0;34m=\u001b[0m\u001b[0;34m\"Coadd with jointcal\"\u001b[0m\u001b[0;34m,\u001b[0m \u001b[0mcolor\u001b[0m\u001b[0;34m=\u001b[0m\u001b[0;34m\"blue\"\u001b[0m\u001b[0;34m)\u001b[0m\u001b[0;34m\u001b[0m\u001b[0m\n\u001b[0m\u001b[1;32m      4\u001b[0m \u001b[0max0\u001b[0m\u001b[0;34m.\u001b[0m\u001b[0mhist\u001b[0m\u001b[0;34m(\u001b[0m\u001b[0mdistances_joint_ind\u001b[0m\u001b[0;34m,\u001b[0m \u001b[0mbins\u001b[0m\u001b[0;34m=\u001b[0m\u001b[0;36m200\u001b[0m\u001b[0;34m,\u001b[0m \u001b[0mhisttype\u001b[0m\u001b[0;34m=\u001b[0m\u001b[0;34m\"step\"\u001b[0m\u001b[0;34m,\u001b[0m \u001b[0mlabel\u001b[0m\u001b[0;34m=\u001b[0m\u001b[0;34m\"Coadd with jointcal\"\u001b[0m\u001b[0;34m,\u001b[0m \u001b[0mcolor\u001b[0m\u001b[0;34m=\u001b[0m\u001b[0;34m\"green\"\u001b[0m\u001b[0;34m)\u001b[0m\u001b[0;34m\u001b[0m\u001b[0m\n\u001b[1;32m      5\u001b[0m \u001b[0max0\u001b[0m\u001b[0;34m.\u001b[0m\u001b[0mhist\u001b[0m\u001b[0;34m(\u001b[0m\u001b[0mdistances_vanilla\u001b[0m\u001b[0;34m,\u001b[0m \u001b[0mbins\u001b[0m\u001b[0;34m=\u001b[0m\u001b[0;36m200\u001b[0m\u001b[0;34m,\u001b[0m \u001b[0mhisttype\u001b[0m\u001b[0;34m=\u001b[0m\u001b[0;34m\"step\"\u001b[0m\u001b[0;34m,\u001b[0m \u001b[0mlabel\u001b[0m\u001b[0;34m=\u001b[0m\u001b[0;34m\"Coadd without jointcal\"\u001b[0m\u001b[0;34m,\u001b[0m \u001b[0mcolor\u001b[0m\u001b[0;34m=\u001b[0m\u001b[0;34m\"red\"\u001b[0m\u001b[0;34m)\u001b[0m\u001b[0;34m\u001b[0m\u001b[0m\n",
      "\u001b[0;31mNameError\u001b[0m: name 'distances_joint_comp' is not defined"
     ]
    },
    {
     "data": {
      "text/plain": [
       "<matplotlib.figure.Figure at 0x7f457844ff10>"
      ]
     },
     "metadata": {},
     "output_type": "display_data"
    },
    {
     "data": {
      "image/png": "[encoded data removed]",
      "text/plain": [
       "<matplotlib.figure.Figure at 0x7f457844ffd0>"
      ]
     },
     "metadata": {},
     "output_type": "display_data"
    }
   ],
   "source": [
    "plt.clf()\n",
    "fig, ax0 = plt.subplots(ncols=1, figsize=(10,10))\n",
    "ax0.hist(distances_joint_comp, bins=200, histtype=\"step\", label=\"Coadd with jointcal\", color=\"blue\")\n",
    "ax0.hist(distances_joint_ind, bins=200, histtype=\"step\", label=\"Coadd with jointcal\", color=\"green\")\n",
    "ax0.hist(distances_vanilla, bins=200, histtype=\"step\", label=\"Coadd without jointcal\", color=\"red\")\n",
    "\n",
    "ax0.legend()\n",
    "ax0.set_xlim([0,300])\n",
    "#ax0.text(\"Median scatter - mag < %0.1f : %0.1f mas\"%(magLim, np.median(np.asarray(newDist)[idxs])),(0.4,0.8), xycoords=\"figure fraction\")\n",
    "ax0.text(0.4, 0.5,\"Median scatter  : %0.1f mas\"%( np.median(distances_joint_comp)), verticalalignment='bottom', \n",
    "        transform=ax0.transAxes, color='blue',)\n",
    "ax0.text(0.4, 0.55,\"Median scatter  : %0.1f mas\"%( np.median(distances_joint_ind)), verticalalignment='bottom', \n",
    "        transform=ax0.transAxes, color='green',)\n",
    "ax0.text(0.4, 0.6,\"Median scatter : %0.1f mas\"%( np.median(distances_vanilla)), verticalalignment='bottom', \n",
    "        transform=ax0.transAxes, color='red',)\n",
    "\n",
    "ax0.set_xlabel(\"angular distance in mas\")\n",
    "ax0.set_ylabel(\"# of sources\")\n",
    "\n",
    "plt.show()\n",
    "\n",
    "#print \"Astrometric scatter (median) - mag < %0.1f : %0.1f mas\"%(magLim, np.median(np.asarray(newDist)[idxs]))\n",
    "#print \"Astrometric scatter (median) - mag < %0.1f : %0.1f mas\"%(magLim, np.median(np.asarray(oldDist)[idxs]))\n"
   ]
  },
  {
   "cell_type": "code",
   "execution_count": 121,
   "metadata": {},
   "outputs": [
    {
     "data": {
      "text/plain": [
       "<matplotlib.figure.Figure at 0x7f145d6e9050>"
      ]
     },
     "metadata": {},
     "output_type": "display_data"
    },
    {
     "data": {
      "image/png": "[encoded data removed]",
      "text/plain": [
       "<matplotlib.figure.Figure at 0x7f145d6e9f10>"
      ]
     },
     "metadata": {},
     "output_type": "display_data"
    }
   ],
   "source": [
    "plt.clf()\n",
    "fig, ax0 = plt.subplots(ncols=1, figsize=(10,10))\n",
    "ax0.hist(distances_joint_comp, bins=200, histtype=\"step\", label=\"Coadd with complete jointcal\", color=\"blue\")\n",
    "ax0.hist(distances_joint_ind, bins=200, histtype=\"step\", label=\"Coadd with independent jointcal\", color=\"green\")\n",
    "ax0.hist(distances_vanilla, bins=200, histtype=\"step\", label=\"Coadd without jointcal\", color=\"red\")\n",
    "\n",
    "ax0.legend()\n",
    "ax0.set_xlim([0,300])\n",
    "#ax0.text(\"Median scatter - mag < %0.1f : %0.1f mas\"%(magLim, np.median(np.asarray(newDist)[idxs])),(0.4,0.8), xycoords=\"figure fraction\")\n",
    "ax0.text(0.4, 0.5,\"Median scatter  : %0.1f mas\"%( np.median(distances_joint_comp)), verticalalignment='bottom', \n",
    "        transform=ax0.transAxes, color='blue',)\n",
    "ax0.text(0.4, 0.55,\"Median scatter  : %0.1f mas\"%( np.median(distances_joint_ind)), verticalalignment='bottom', \n",
    "        transform=ax0.transAxes, color='green',)\n",
    "ax0.text(0.4, 0.6,\"Median scatter : %0.1f mas\"%( np.median(distances_vanilla)), verticalalignment='bottom', \n",
    "        transform=ax0.transAxes, color='red',)\n",
    "\n",
    "ax0.set_xlabel(\"angular distance in mas\")\n",
    "ax0.set_ylabel(\"# of sources\")\n",
    "\n",
    "plt.show()\n",
    "\n",
    "#print \"Astrometric scatter (median) - mag < %0.1f : %0.1f mas\"%(magLim, np.median(np.asarray(newDist)[idxs]))\n",
    "#print \"Astrometric scatter (median) - mag < %0.1f : %0.1f mas\"%(magLim, np.median(np.asarray(oldDist)[idxs]))\n"
   ]
  },
  {
   "cell_type": "code",
   "execution_count": 31,
   "metadata": {},
   "outputs": [
    {
     "data": {
      "text/plain": [
       "<matplotlib.figure.Figure at 0x7f465168f8d0>"
      ]
     },
     "metadata": {},
     "output_type": "display_data"
    },
    {
     "data": {
      "image/png": "[encoded data removed]",
      "text/plain": [
       "<matplotlib.figure.Figure at 0x7f465168f890>"
      ]
     },
     "metadata": {},
     "output_type": "display_data"
    }
   ],
   "source": [
    "plt.clf()\n",
    "fig, ax0 = plt.subplots(ncols=1, figsize=(10,10))\n",
    "ax0.hist(distances_dayjoint_comp, bins=200, histtype=\"step\", label=\"JointCoadd with complete jointcal\", color=\"blue\")\n",
    "ax0.hist(distances_dayjoint_ind, bins=200, histtype=\"step\", label=\"Coadd with independent jointcal\", color=\"green\")\n",
    "ax0.hist(distances_vanilla, bins=200, histtype=\"step\", label=\"Coadd without jointcal\", color=\"red\")\n",
    "\n",
    "ax0.legend()\n",
    "ax0.set_xlim([0,300])\n",
    "#ax0.text(\"Median scatter - mag < %0.1f : %0.1f mas\"%(magLim, np.median(np.asarray(newDist)[idxs])),(0.4,0.8), xycoords=\"figure fraction\")\n",
    "ax0.text(0.4, 0.5,\"Median scatter  : %0.1f mas\"%( np.median(distances_dayjoint_comp)), verticalalignment='bottom', \n",
    "        transform=ax0.transAxes, color='blue',)\n",
    "ax0.text(0.4, 0.55,\"Median scatter  : %0.1f mas\"%( np.median(distances_dayjoint_ind)), verticalalignment='bottom', \n",
    "        transform=ax0.transAxes, color='green',)\n",
    "ax0.text(0.4, 0.6,\"Median scatter : %0.1f mas\"%( np.median(distances_vanilla)), verticalalignment='bottom', \n",
    "        transform=ax0.transAxes, color='red',)\n",
    "\n",
    "ax0.set_xlabel(\"angular distance in mas\")\n",
    "ax0.set_ylabel(\"# of sources\")\n",
    "\n",
    "plt.show()\n"
   ]
  },
  {
   "cell_type": "code",
   "execution_count": 32,
   "metadata": {},
   "outputs": [
    {
     "data": {
      "text/plain": [
       "Butler(datasetTypeAliasDict={}, repos=RepoDataContainer(\n",
       "byRepoRoot={'/datadec/cppm/jpreyes/CFHT_MPI/input_testSN': RepoData(args=RepositoryArgs(root='/datadec/cppm/jpreyes/CFHT_MPI/input_testSN', cfgRoot='/datadec/cppm/jpreyes/CFHT_MPI/input_testSN', mapper=<class 'lsst.obs.cfht.megacamMapper.MegacamMapper'>, mapperArgs=None, tags=set([]), mode='r', policy=None) cfg=RepositoryCfg(root='/datadec/cppm/jpreyes/CFHT_MPI/input_testSN', mapper=<class 'lsst.obs.cfht.megacamMapper.MegacamMapper'>, mapperArgs=None, parents=[], policy=None) repo=<lsst.daf.persistence.repository.Repository object at 0x7f4578197250> tags=set([]) isNewRepository=False isV1Repository:True parentRegistry:None), '/datadec/cppm/jpreyes/CFHT_Jointcal_2//jointcal_comp_12days': RepoData(args=RepositoryArgs(root='/datadec/cppm/jpreyes/CFHT_Jointcal_2//jointcal_comp_12days', cfgRoot=None, mapper=None, mapperArgs={}, tags=set([]), mode='rw', policy=None) cfg=RepositoryCfg(root='/datadec/cppm/jpreyes/CFHT_Jointcal_2//jointcal_comp_12days', mapper=<class 'lsst.obs.cfht.megacamMapper.MegacamMapper'>, mapperArgs=None, parents=['../../CFHT_MPI/calexp_D3r06AL01'], policy=None) repo=<lsst.daf.persistence.repository.Repository object at 0x7f45781814d0> tags=set([]) isNewRepository=False isV1Repository:True parentRegistry:<lsst.daf.persistence.registries.SqliteRegistry object at 0x7f4578181610>), '/datadec/cppm/jpreyes/CFHT_MPI/calexp_D3r06AL01': RepoData(args=RepositoryArgs(root='/datadec/cppm/jpreyes/CFHT_MPI/calexp_D3r06AL01', cfgRoot='/datadec/cppm/jpreyes/CFHT_MPI/calexp_D3r06AL01', mapper=None, mapperArgs=None, tags=set([]), mode='r', policy=None) cfg=RepositoryCfg(root='/datadec/cppm/jpreyes/CFHT_MPI/calexp_D3r06AL01', mapper=<class 'lsst.obs.cfht.megacamMapper.MegacamMapper'>, mapperArgs=None, parents=['../input_testSN'], policy=None) repo=<lsst.daf.persistence.repository.Repository object at 0x7f465216c650> tags=set([]) isNewRepository=False isV1Repository:True parentRegistry:<lsst.daf.persistence.registries.SqliteRegistry object at 0x7f4578181610>)}, \n",
       "byCfgRoot={'/datadec/cppm/jpreyes/CFHT_MPI/input_testSN': RepoData(args=RepositoryArgs(root='/datadec/cppm/jpreyes/CFHT_MPI/input_testSN', cfgRoot='/datadec/cppm/jpreyes/CFHT_MPI/input_testSN', mapper=<class 'lsst.obs.cfht.megacamMapper.MegacamMapper'>, mapperArgs=None, tags=set([]), mode='r', policy=None) cfg=RepositoryCfg(root='/datadec/cppm/jpreyes/CFHT_MPI/input_testSN', mapper=<class 'lsst.obs.cfht.megacamMapper.MegacamMapper'>, mapperArgs=None, parents=[], policy=None) repo=<lsst.daf.persistence.repository.Repository object at 0x7f4578197250> tags=set([]) isNewRepository=False isV1Repository:True parentRegistry:None), '/datadec/cppm/jpreyes/CFHT_Jointcal_2//jointcal_comp_12days': RepoData(args=RepositoryArgs(root='/datadec/cppm/jpreyes/CFHT_Jointcal_2//jointcal_comp_12days', cfgRoot=None, mapper=None, mapperArgs={}, tags=set([]), mode='rw', policy=None) cfg=RepositoryCfg(root='/datadec/cppm/jpreyes/CFHT_Jointcal_2//jointcal_comp_12days', mapper=<class 'lsst.obs.cfht.megacamMapper.MegacamMapper'>, mapperArgs=None, parents=['../../CFHT_MPI/calexp_D3r06AL01'], policy=None) repo=<lsst.daf.persistence.repository.Repository object at 0x7f45781814d0> tags=set([]) isNewRepository=False isV1Repository:True parentRegistry:<lsst.daf.persistence.registries.SqliteRegistry object at 0x7f4578181610>), '/datadec/cppm/jpreyes/CFHT_MPI/calexp_D3r06AL01': RepoData(args=RepositoryArgs(root='/datadec/cppm/jpreyes/CFHT_MPI/calexp_D3r06AL01', cfgRoot='/datadec/cppm/jpreyes/CFHT_MPI/calexp_D3r06AL01', mapper=None, mapperArgs=None, tags=set([]), mode='r', policy=None) cfg=RepositoryCfg(root='/datadec/cppm/jpreyes/CFHT_MPI/calexp_D3r06AL01', mapper=<class 'lsst.obs.cfht.megacamMapper.MegacamMapper'>, mapperArgs=None, parents=['../input_testSN'], policy=None) repo=<lsst.daf.persistence.repository.Repository object at 0x7f465216c650> tags=set([]) isNewRepository=False isV1Repository:True parentRegistry:<lsst.daf.persistence.registries.SqliteRegistry object at 0x7f4578181610>)}, \n",
       "_inputs=[RepoData(args=RepositoryArgs(root='/datadec/cppm/jpreyes/CFHT_Jointcal_2//jointcal_comp_12days', cfgRoot=None, mapper=None, mapperArgs={}, tags=set([]), mode='rw', policy=None) cfg=RepositoryCfg(root='/datadec/cppm/jpreyes/CFHT_Jointcal_2//jointcal_comp_12days', mapper=<class 'lsst.obs.cfht.megacamMapper.MegacamMapper'>, mapperArgs=None, parents=['../../CFHT_MPI/calexp_D3r06AL01'], policy=None) repo=<lsst.daf.persistence.repository.Repository object at 0x7f45781814d0> tags=set([]) isNewRepository=False isV1Repository:True parentRegistry:<lsst.daf.persistence.registries.SqliteRegistry object at 0x7f4578181610>), RepoData(args=RepositoryArgs(root='/datadec/cppm/jpreyes/CFHT_MPI/calexp_D3r06AL01', cfgRoot='/datadec/cppm/jpreyes/CFHT_MPI/calexp_D3r06AL01', mapper=None, mapperArgs=None, tags=set([]), mode='r', policy=None) cfg=RepositoryCfg(root='/datadec/cppm/jpreyes/CFHT_MPI/calexp_D3r06AL01', mapper=<class 'lsst.obs.cfht.megacamMapper.MegacamMapper'>, mapperArgs=None, parents=['../input_testSN'], policy=None) repo=<lsst.daf.persistence.repository.Repository object at 0x7f465216c650> tags=set([]) isNewRepository=False isV1Repository:True parentRegistry:<lsst.daf.persistence.registries.SqliteRegistry object at 0x7f4578181610>), RepoData(args=RepositoryArgs(root='/datadec/cppm/jpreyes/CFHT_MPI/input_testSN', cfgRoot='/datadec/cppm/jpreyes/CFHT_MPI/input_testSN', mapper=<class 'lsst.obs.cfht.megacamMapper.MegacamMapper'>, mapperArgs=None, tags=set([]), mode='r', policy=None) cfg=RepositoryCfg(root='/datadec/cppm/jpreyes/CFHT_MPI/input_testSN', mapper=<class 'lsst.obs.cfht.megacamMapper.MegacamMapper'>, mapperArgs=None, parents=[], policy=None) repo=<lsst.daf.persistence.repository.Repository object at 0x7f4578197250> tags=set([]) isNewRepository=False isV1Repository:True parentRegistry:None)], \n",
       "_outputs=[RepoData(args=RepositoryArgs(root='/datadec/cppm/jpreyes/CFHT_Jointcal_2//jointcal_comp_12days', cfgRoot=None, mapper=None, mapperArgs={}, tags=set([]), mode='rw', policy=None) cfg=RepositoryCfg(root='/datadec/cppm/jpreyes/CFHT_Jointcal_2//jointcal_comp_12days', mapper=<class 'lsst.obs.cfht.megacamMapper.MegacamMapper'>, mapperArgs=None, parents=['../../CFHT_MPI/calexp_D3r06AL01'], policy=None) repo=<lsst.daf.persistence.repository.Repository object at 0x7f45781814d0> tags=set([]) isNewRepository=False isV1Repository:True parentRegistry:<lsst.daf.persistence.registries.SqliteRegistry object at 0x7f4578181610>)], \n",
       "_all=OrderedDict([('/datadec/cppm/jpreyes/CFHT_Jointcal_2//jointcal_comp_12days', RepoData(args=RepositoryArgs(root='/datadec/cppm/jpreyes/CFHT_Jointcal_2//jointcal_comp_12days', cfgRoot=None, mapper=None, mapperArgs={}, tags=set([]), mode='rw', policy=None) cfg=RepositoryCfg(root='/datadec/cppm/jpreyes/CFHT_Jointcal_2//jointcal_comp_12days', mapper=<class 'lsst.obs.cfht.megacamMapper.MegacamMapper'>, mapperArgs=None, parents=['../../CFHT_MPI/calexp_D3r06AL01'], policy=None) repo=<lsst.daf.persistence.repository.Repository object at 0x7f45781814d0> tags=set([]) isNewRepository=False isV1Repository:True parentRegistry:<lsst.daf.persistence.registries.SqliteRegistry object at 0x7f4578181610>)), ('/datadec/cppm/jpreyes/CFHT_MPI/calexp_D3r06AL01', RepoData(args=RepositoryArgs(root='/datadec/cppm/jpreyes/CFHT_MPI/calexp_D3r06AL01', cfgRoot='/datadec/cppm/jpreyes/CFHT_MPI/calexp_D3r06AL01', mapper=None, mapperArgs=None, tags=set([]), mode='r', policy=None) cfg=RepositoryCfg(root='/datadec/cppm/jpreyes/CFHT_MPI/calexp_D3r06AL01', mapper=<class 'lsst.obs.cfht.megacamMapper.MegacamMapper'>, mapperArgs=None, parents=['../input_testSN'], policy=None) repo=<lsst.daf.persistence.repository.Repository object at 0x7f465216c650> tags=set([]) isNewRepository=False isV1Repository:True parentRegistry:<lsst.daf.persistence.registries.SqliteRegistry object at 0x7f4578181610>)), ('/datadec/cppm/jpreyes/CFHT_MPI/input_testSN', RepoData(args=RepositoryArgs(root='/datadec/cppm/jpreyes/CFHT_MPI/input_testSN', cfgRoot='/datadec/cppm/jpreyes/CFHT_MPI/input_testSN', mapper=<class 'lsst.obs.cfht.megacamMapper.MegacamMapper'>, mapperArgs=None, tags=set([]), mode='r', policy=None) cfg=RepositoryCfg(root='/datadec/cppm/jpreyes/CFHT_MPI/input_testSN', mapper=<class 'lsst.obs.cfht.megacamMapper.MegacamMapper'>, mapperArgs=None, parents=[], policy=None) repo=<lsst.daf.persistence.repository.Repository object at 0x7f4578197250> tags=set([]) isNewRepository=False isV1Repository:True parentRegistry:None))])), persistence=<lsst.daf.persistence.persistence.Persistence object at 0x7f4578414f10>)"
      ]
     },
     "execution_count": 32,
     "metadata": {},
     "output_type": "execute_result"
    }
   ],
   "source": [
    "butler"
   ]
  },
  {
   "cell_type": "code",
   "execution_count": 34,
   "metadata": {},
   "outputs": [
    {
     "ename": "AttributeError",
     "evalue": "'Butler' object has no attribute '_getParentRepoDatast'",
     "output_type": "error",
     "traceback": [
      "\u001b[0;31m---------------------------------------------------------------------------\u001b[0m",
      "\u001b[0;31mAttributeError\u001b[0m                            Traceback (most recent call last)",
      "\u001b[0;32m<ipython-input-34-faf60fcb6fcf>\u001b[0m in \u001b[0;36m<module>\u001b[0;34m()\u001b[0m\n\u001b[1;32m      1\u001b[0m \u001b[0mbutler\u001b[0m \u001b[0;34m=\u001b[0m \u001b[0mdafPersist\u001b[0m\u001b[0;34m.\u001b[0m\u001b[0mButler\u001b[0m\u001b[0;34m(\u001b[0m\u001b[0mDATADIR\u001b[0m\u001b[0;34m+\u001b[0m\u001b[0;34m\"/jointcal_comp_12days\"\u001b[0m\u001b[0;34m)\u001b[0m\u001b[0;34m\u001b[0m\u001b[0m\n\u001b[0;32m----> 2\u001b[0;31m \u001b[0mbutler\u001b[0m\u001b[0;34m.\u001b[0m\u001b[0m_getParentRepoDatast\u001b[0m\u001b[0;34m(\u001b[0m\u001b[0;34m)\u001b[0m\u001b[0;34m\u001b[0m\u001b[0m\n\u001b[0m",
      "\u001b[0;31mAttributeError\u001b[0m: 'Butler' object has no attribute '_getParentRepoDatast'"
     ]
    }
   ],
   "source": [
    "butler = dafPersist.Butler(DATADIR+\"/jointcal_comp_12days\")\n"
   ]
  },
  {
   "cell_type": "code",
   "execution_count": 36,
   "metadata": {},
   "outputs": [
    {
     "ename": "TypeError",
     "evalue": "_getParentRepoDatas() takes exactly 2 arguments (1 given)",
     "output_type": "error",
     "traceback": [
      "\u001b[0;31m---------------------------------------------------------------------------\u001b[0m",
      "\u001b[0;31mTypeError\u001b[0m                                 Traceback (most recent call last)",
      "\u001b[0;32m<ipython-input-36-631d52ec1fcb>\u001b[0m in \u001b[0;36m<module>\u001b[0;34m()\u001b[0m\n\u001b[0;32m----> 1\u001b[0;31m \u001b[0mbutler\u001b[0m\u001b[0;34m.\u001b[0m\u001b[0m_getParentRepoDatas\u001b[0m\u001b[0;34m(\u001b[0m\u001b[0;34m)\u001b[0m\u001b[0;34m\u001b[0m\u001b[0m\n\u001b[0m",
      "\u001b[0;31mTypeError\u001b[0m: _getParentRepoDatas() takes exactly 2 arguments (1 given)"
     ]
    }
   ],
   "source": [
    "butler._getParentRepoDatas()"
   ]
  },
  {
   "cell_type": "code",
   "execution_count": 39,
   "metadata": {},
   "outputs": [
    {
     "ename": "AttributeError",
     "evalue": "'dict' object has no attribute 'tag'",
     "output_type": "error",
     "traceback": [
      "\u001b[0;31m---------------------------------------------------------------------------\u001b[0m",
      "\u001b[0;31mAttributeError\u001b[0m                            Traceback (most recent call last)",
      "\u001b[0;32m<ipython-input-39-8e447c89574e>\u001b[0m in \u001b[0;36m<module>\u001b[0;34m()\u001b[0m\n\u001b[1;32m      1\u001b[0m \u001b[0mdataId\u001b[0m \u001b[0;34m=\u001b[0m \u001b[0;34m{\u001b[0m\u001b[0;34m'patch'\u001b[0m\u001b[0;34m:\u001b[0m\u001b[0;34m\"23,18\"\u001b[0m\u001b[0;34m,\u001b[0m \u001b[0;34m'filter'\u001b[0m\u001b[0;34m:\u001b[0m\u001b[0mfilter\u001b[0m\u001b[0;34m,\u001b[0m \u001b[0;34m'tract'\u001b[0m\u001b[0;34m:\u001b[0m\u001b[0;36m0\u001b[0m\u001b[0;34m,\u001b[0m \u001b[0;34m\"date\"\u001b[0m\u001b[0;34m:\u001b[0m\u001b[0;34m\"2006-04-30\"\u001b[0m\u001b[0;34m}\u001b[0m\u001b[0;34m\u001b[0m\u001b[0m\n\u001b[0;32m----> 2\u001b[0;31m \u001b[0mbutler\u001b[0m\u001b[0;34m.\u001b[0m\u001b[0m_locate\u001b[0m\u001b[0;34m(\u001b[0m\u001b[0;34m\"dayCoadd\"\u001b[0m\u001b[0;34m,\u001b[0m \u001b[0mdataId\u001b[0m\u001b[0;34m,\u001b[0m \u001b[0mFalse\u001b[0m\u001b[0;34m)\u001b[0m\u001b[0;34m\u001b[0m\u001b[0m\n\u001b[0m",
      "\u001b[0;32m/renoir_data_00/fouchez/lsst/DM/stacks/lsstsw/2017-05-04/lsstsw/stack/Linux64/daf_persistence/13.0-8-gba0f85f+3/python/lsst/daf/persistence/butler.pyc\u001b[0m in \u001b[0;36m_locate\u001b[0;34m(self, datasetType, dataId, write)\u001b[0m\n\u001b[1;32m    858\u001b[0m         \u001b[0;32mfor\u001b[0m \u001b[0mrepoData\u001b[0m \u001b[0;32min\u001b[0m \u001b[0mrepos\u001b[0m\u001b[0;34m:\u001b[0m\u001b[0;34m\u001b[0m\u001b[0m\n\u001b[1;32m    859\u001b[0m             \u001b[0;31m# enforce dataId & repository tags when reading:\u001b[0m\u001b[0;34m\u001b[0m\u001b[0;34m\u001b[0m\u001b[0m\n\u001b[0;32m--> 860\u001b[0;31m             \u001b[0;32mif\u001b[0m \u001b[0;32mnot\u001b[0m \u001b[0mwrite\u001b[0m \u001b[0;32mand\u001b[0m \u001b[0mdataId\u001b[0m\u001b[0;34m.\u001b[0m\u001b[0mtag\u001b[0m \u001b[0;32mand\u001b[0m \u001b[0mlen\u001b[0m\u001b[0;34m(\u001b[0m\u001b[0mdataId\u001b[0m\u001b[0;34m.\u001b[0m\u001b[0mtag\u001b[0m\u001b[0;34m.\u001b[0m\u001b[0mintersection\u001b[0m\u001b[0;34m(\u001b[0m\u001b[0mrepoData\u001b[0m\u001b[0;34m.\u001b[0m\u001b[0mtags\u001b[0m\u001b[0;34m)\u001b[0m\u001b[0;34m)\u001b[0m \u001b[0;34m==\u001b[0m \u001b[0;36m0\u001b[0m\u001b[0;34m:\u001b[0m\u001b[0;34m\u001b[0m\u001b[0m\n\u001b[0m\u001b[1;32m    861\u001b[0m                 \u001b[0;32mcontinue\u001b[0m\u001b[0;34m\u001b[0m\u001b[0m\n\u001b[1;32m    862\u001b[0m             \u001b[0mcomponents\u001b[0m \u001b[0;34m=\u001b[0m \u001b[0mdatasetType\u001b[0m\u001b[0;34m.\u001b[0m\u001b[0msplit\u001b[0m\u001b[0;34m(\u001b[0m\u001b[0;34m'.'\u001b[0m\u001b[0;34m)\u001b[0m\u001b[0;34m\u001b[0m\u001b[0m\n",
      "\u001b[0;31mAttributeError\u001b[0m: 'dict' object has no attribute 'tag'"
     ]
    }
   ],
   "source": [
    "dataId = {'patch':\"23,18\", 'filter':filter, 'tract':0, \"date\":\"2006-04-30\"}\n",
    "butler._locate(\"dayCoadd\", dataId, False)"
   ]
  },
  {
   "cell_type": "code",
   "execution_count": null,
   "metadata": {
    "collapsed": true
   },
   "outputs": [],
   "source": []
  }
 ],
 "metadata": {
  "kernelspec": {
   "display_name": "Python 2",
   "language": "python",
   "name": "python2"
  },
  "language_info": {
   "codemirror_mode": {
    "name": "ipython",
    "version": 2
   },
   "file_extension": ".py",
   "mimetype": "text/x-python",
   "name": "python",
   "nbconvert_exporter": "python",
   "pygments_lexer": "ipython2",
   "version": "2.7.12"
  }
 },
 "nbformat": 4,
 "nbformat_minor": 2
}
