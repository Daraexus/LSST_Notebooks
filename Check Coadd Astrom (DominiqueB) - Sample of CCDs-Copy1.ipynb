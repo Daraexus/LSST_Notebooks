{
 "cells": [
  {
   "cell_type": "code",
   "execution_count": 35,
   "metadata": {
    "collapsed": true
   },
   "outputs": [],
   "source": [
    "import lsst.daf.persistence as dafPersist\n",
    "import lsst.afw.table as afwTable\n",
    "import lsst.afw.geom as afwGeom\n",
    "import lsst.afw.image as afwImage\n",
    "import math\n",
    "import re\n",
    "\n",
    "import lsst.daf.base as dafBase\n",
    "from lsst.meas.algorithms.detection import SourceDetectionTask\n",
    "from lsst.meas.base import SingleFrameMeasurementTask\n",
    "from lsst.meas.deblender import SourceDeblendTask\n",
    "from lsst.meas.base import CatalogCalculationTask\n",
    "\n",
    "%matplotlib inline\n",
    "import matplotlib\n",
    "import matplotlib.pylab as plt\n",
    "import numpy as np"
   ]
  },
  {
   "cell_type": "code",
   "execution_count": 8,
   "metadata": {
    "collapsed": true
   },
   "outputs": [],
   "source": [
    "# List of visits to be considered\n",
    "#visits = [8]\n",
    "#visits = [849375, 850587]\n",
    "DATADIR=\"/datadec/cppm/jpreyes/CFHT_Jointcal_2/\"\n",
    "# Reference visit\n",
    "ref = 802227\n",
    "\n",
    "# Tract\n",
    "tract = 0\n",
    "\n",
    "# List of CCD to be considered (source calatlogs will be concateneted)\n",
    "#ccd = [12, 13, 14, 21, 22, 23]\n",
    "#ccd = [0, 1, 7, 8, 27, 28, 33, 35]\n",
    "ccd = range(0,36)\n",
    "#ccd = [21, 22, 27, 28]\n",
    "#ccd = [14]\n",
    "patches = []\n",
    "patches_file=open(DATADIR+\"/patches.txt\", \"rb\")\n",
    "for line in patches_file:\n",
    "    line = line.replace('\\n','')\n",
    "    text = re.split(\"=| \",line)\n",
    "    patches.append(text[-1])\n",
    "patches_file.close()\n",
    "\n",
    "filter = 'r'\n",
    "\n",
    "Flags = [\"base_PixelFlags_flag_saturated\", \"base_PixelFlags_flag_cr\", \"base_PixelFlags_flag_interpolated\",\n",
    "         \"base_PsfFlux_flag_edge\", \"base_CircularApertureFlux_4_5_flag\", \"base_SdssCentroid_flag\", \n",
    "         \"base_SdssShape_flag\"]\n",
    "\n",
    "#setup butler - Replace path name by something suitable for you\n",
    "butler = dafPersist.Butler(DATADIR+\"/jointcal_test_2\")\n",
    "butlerV = dafPersist.Butler(DATADIR+\"/vanilla_12days\")"
   ]
  },
  {
   "cell_type": "code",
   "execution_count": 16,
   "metadata": {
    "collapsed": true
   },
   "outputs": [],
   "source": [
    "def detect_sources(exposure):\n",
    "    threshold = 6\n",
    "    doSmooth=True\n",
    "    schema = afwTable.SourceTable.makeMinimalSchema()\n",
    "\n",
    "\n",
    "    algMetadata = dafBase.PropertyList()\n",
    "\n",
    "    config = SourceDetectionTask.ConfigClass()\n",
    "    #config.thresholdPolarity = \"both\"\n",
    "    config.thresholdValue = threshold\n",
    "    config.reEstimateBackground = False\n",
    "    #config.thresholdType = \"pixel_stdev\"\n",
    "\n",
    "    detectionTask = SourceDetectionTask(config=config, schema=schema)\n",
    "\n",
    "    measurement = SingleFrameMeasurementTask\n",
    "    config = measurement.ConfigClass()\n",
    "\n",
    "    measurement = measurement(schema, config=config, algMetadata=algMetadata)\n",
    "\n",
    "    deblend = SourceDeblendTask\n",
    "    config = SourceDeblendTask.ConfigClass()\n",
    "    deblend = deblend(schema)\n",
    "\n",
    "    calculation = CatalogCalculationTask\n",
    "    config = CatalogCalculationTask.ConfigClass()\n",
    "    config.plugins.names.clear()\n",
    "    config.plugins.names.add(\"base_ClassificationExtendedness\")\n",
    "\n",
    "    calculation = calculation(schema, config=config)\n",
    "\n",
    "    table = afwTable.SourceTable.make(schema)\n",
    "\n",
    "    results = detectionTask.run(table=table, exposure=exposure , doSmooth=doSmooth )\n",
    "\n",
    "    sourcesCat = results.sources\n",
    "\n",
    "    deblend.run(exposure, sourcesCat)\n",
    "\n",
    "    measurement.run(measCat=sourcesCat, exposure=exposure)\n",
    "    calculation.run(sourcesCat)\n",
    "    return sourcesCat\n"
   ]
  },
  {
   "cell_type": "code",
   "execution_count": 3,
   "metadata": {},
   "outputs": [
    {
     "name": "stdout",
     "output_type": "stream",
     "text": [
      "0 2670\n",
      "1 3119\n",
      "2 3419\n",
      "3 3094\n",
      "4 3215\n",
      "5 3425\n",
      "6 2980\n",
      "7 3209\n",
      "8 2918\n",
      "9 3406\n",
      "10 3073\n",
      "11 3077\n",
      "12 2809\n",
      "13 2822\n",
      "14 3033\n",
      "15 3513\n",
      "16 3178\n",
      "17 2560\n",
      "18 2985\n",
      "19 2849\n",
      "20 2965\n",
      "21 2843\n",
      "22 3007\n",
      "23 3075\n",
      "24 2908\n",
      "25 2824\n",
      "26 2681\n",
      "27 2692\n",
      "28 2957\n",
      "29 2738\n",
      "30 2979\n",
      "31 3207\n",
      "32 2904\n",
      "33 3213\n",
      "34 2970\n",
      "35 2924\n",
      "Ref... 108241\n"
     ]
    }
   ],
   "source": [
    "for indx, c in enumerate(ccd) :\n",
    "    dataid = {'visit':ref, 'filter':filter, 'ccd':c}\n",
    "    if butler.datasetExists('src', dataid):\n",
    "    \n",
    "        oldSrc = butler.get('src', dataid, immediate=True)\n",
    "        print c, len(oldSrc)\n",
    "        if indx == 0 :\n",
    "            # retrieve the schema of the source catalog and extend it in order to add a field to record the ccd number\n",
    "            oldSchema = oldSrc.getSchema()\n",
    "            mapper = afwTable.SchemaMapper(oldSchema)\n",
    "            mapper.addMinimalSchema(oldSchema)\n",
    "            newSchema = mapper.getOutputSchema()\n",
    "            newSchema.addField(\"ccd\", type=\"I\", doc=\"CCD number\")\n",
    "\n",
    "            #create the new extented source catalog \n",
    "            srcRef = afwTable.SourceCatalog(newSchema)\n",
    "\n",
    "        # create temporary catalog\n",
    "        tmpCat = afwTable.SourceCatalog(srcRef.table)\n",
    "        tmpCat.extend(oldSrc, mapper=mapper)\n",
    "        # fill in the ccd information in numpy mode in order to be efficient\n",
    "        tmpCat['ccd'][:] = c\n",
    "        # append the temporary catalog to the extended source catalog    \n",
    "        srcRef.extend(tmpCat, deep=False)\n",
    "\n",
    "print \"Ref...\", len(srcRef)"
   ]
  },
  {
   "cell_type": "code",
   "execution_count": null,
   "metadata": {
    "collapsed": true
   },
   "outputs": [],
   "source": [
    "jointcal_dccat = None\n",
    "\n",
    "for p in patches:\n",
    "    if butler.datasetExists('deepCoadd', {'patch':p, 'filter':filter, 'tract':tract}):\n",
    "        deepCoadd = butler.get('deepCoadd', {'patch':p, 'filter':filter, 'tract':tract})\n",
    "        deepSrcs = detect_sources(deepCoadd)\n",
    "        if jointcal_dccat is None:\n",
    "            jointcal_dccat = afwTable.SourceCatalog(deepSrcs.table)\n",
    "\n",
    "        jointcal_dccat.extend(deepSrcs)\n",
    "        "
   ]
  },
  {
   "cell_type": "code",
   "execution_count": null,
   "metadata": {
    "collapsed": true
   },
   "outputs": [],
   "source": [
    "vanilla_dccat = None\n",
    "\n",
    "for p in patches:\n",
    "    if butlerV.datasetExists('deepCoadd', {'patch':p, 'filter':filter, 'tract':tract}):\n",
    "        deepCoadd = butlerV.get('deepCoadd', {'patch':p, 'filter':filter, 'tract':tract})\n",
    "        deepSrcs = detect_sources(deepCoadd)\n",
    "        if vanilla_dccat is None:\n",
    "            vanilla_dccat = afwTable.SourceCatalog(deepSrcs.table)\n",
    "\n",
    "        vanilla_dccat.extend(deepSrcs)\n",
    "        "
   ]
  },
  {
   "cell_type": "code",
   "execution_count": 25,
   "metadata": {},
   "outputs": [
    {
     "name": "stdout",
     "output_type": "stream",
     "text": [
      "207544 208193\n"
     ]
    }
   ],
   "source": [
    "print len(jointcal_dccat), len(vanilla_dccat)"
   ]
  },
  {
   "cell_type": "code",
   "execution_count": 26,
   "metadata": {
    "collapsed": true
   },
   "outputs": [],
   "source": [
    "matches_jointcal = afwTable.matchRaDec(srcRef, jointcal_dccat, afwGeom.Angle(1./3600., afwGeom.degrees))\n",
    "matches_vanilla = afwTable.matchRaDec(srcRef, vanilla_dccat, afwGeom.Angle(1./3600., afwGeom.degrees))"
   ]
  },
  {
   "cell_type": "code",
   "execution_count": 59,
   "metadata": {},
   "outputs": [],
   "source": [
    "distances_joint = []\n",
    "for m in matches_jointcal:\n",
    "    mref = m.first\n",
    "    mjoint = m.second\n",
    "    \n",
    "    if mjoint[\"base_ClassificationExtendedness_value\"]>0.5:\n",
    "        distances_joint.append(afwGeom.radToMas(m.distance))\n",
    "        "
   ]
  },
  {
   "cell_type": "code",
   "execution_count": 60,
   "metadata": {
    "collapsed": true
   },
   "outputs": [],
   "source": [
    "distances_vanilla = []\n",
    "for m in matches_vanilla:\n",
    "    mref = m.first\n",
    "    mvanilla = m.second\n",
    "    \n",
    "    if mvanilla[\"base_ClassificationExtendedness_value\"]>0.5:\n",
    "        distances_vanilla.append(afwGeom.radToMas(m.distance))\n",
    "        "
   ]
  },
  {
   "cell_type": "code",
   "execution_count": 61,
   "metadata": {},
   "outputs": [
    {
     "data": {
      "text/plain": [
       "74.720365283887233"
      ]
     },
     "execution_count": 61,
     "metadata": {},
     "output_type": "execute_result"
    }
   ],
   "source": [
    " np.median(distances_joint)"
   ]
  },
  {
   "cell_type": "code",
   "execution_count": 66,
   "metadata": {},
   "outputs": [
    {
     "data": {
      "image/png": "[encoded data removed]",
      "text/plain": [
       "<matplotlib.figure.Figure at 0x7f770a95a1d0>"
      ]
     },
     "metadata": {},
     "output_type": "display_data"
    }
   ],
   "source": [
    "#plt.clf()\n",
    "fig, ax0 = plt.subplots(ncols=1, figsize=(10,10))\n",
    "ax0.hist(distances_joint, bins=200, histtype=\"step\", label=\"Coadd with jointcal\", color=\"green\")\n",
    "ax0.hist(distances_vanilla, bins=200, histtype=\"step\", label=\"Coadd without jointcal\", color=\"blue\")\n",
    "\n",
    "ax0.legend()\n",
    "ax0.set_xlim([0,300])\n",
    "#ax0.text(\"Median scatter - mag < %0.1f : %0.1f mas\"%(magLim, np.median(np.asarray(newDist)[idxs])),(0.4,0.8), xycoords=\"figure fraction\")\n",
    "ax0.text(0.25, 0.5,\"Median scatter  : %0.1f mas\"%( np.median(distances_joint)), verticalalignment='bottom', \n",
    "        transform=ax0.transAxes, color='green',)\n",
    "ax0.text(0.25, 0.55,\"Median scatter : %0.1f mas\"%( np.median(distances_vanilla)), verticalalignment='bottom', \n",
    "        transform=ax0.transAxes, color='blue',)\n",
    "\n",
    "ax0.set_xlabel(\"angular distance in mas\")\n",
    "ax0.set_ylabel(\"# of sources\")\n",
    "\n",
    "plt.show()\n",
    "\n",
    "#print \"Astrometric scatter (median) - mag < %0.1f : %0.1f mas\"%(magLim, np.median(np.asarray(newDist)[idxs]))\n",
    "#print \"Astrometric scatter (median) - mag < %0.1f : %0.1f mas\"%(magLim, np.median(np.asarray(oldDist)[idxs]))\n"
   ]
  },
  {
   "cell_type": "code",
   "execution_count": null,
   "metadata": {
    "collapsed": true
   },
   "outputs": [],
   "source": []
  }
 ],
 "metadata": {
  "kernelspec": {
   "display_name": "Python 2",
   "language": "python",
   "name": "python2"
  },
  "language_info": {
   "codemirror_mode": {
    "name": "ipython",
    "version": 2
   },
   "file_extension": ".py",
   "mimetype": "text/x-python",
   "name": "python",
   "nbconvert_exporter": "python",
   "pygments_lexer": "ipython2",
   "version": "2.7.12"
  }
 },
 "nbformat": 4,
 "nbformat_minor": 2
}
