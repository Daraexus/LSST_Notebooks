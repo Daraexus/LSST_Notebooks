{
 "cells": [
  {
   "cell_type": "code",
   "execution_count": 30,
   "metadata": {
    "collapsed": true
   },
   "outputs": [],
   "source": [
    "import lsst.afw.table as afwTable\n",
    "from astropy.table import Table\n",
    "import sncosmo"
   ]
  },
  {
   "cell_type": "code",
   "execution_count": null,
   "metadata": {
    "collapsed": true
   },
   "outputs": [],
   "source": [
    "def build_lightcurve(source_list):\n",
    "    \"\"\"\n",
    "    Assemble a light curve data table from available files.\n",
    "    \"\"\"\n",
    "\n",
    "    bandpasses = ['r']\n",
    "\n",
    "\n",
    "    lightcurve = {}\n",
    "    lightcurve['bandpass'] = []\n",
    "    lightcurve['mjd'] = []\n",
    "    lightcurve['ra'] = []\n",
    "    lightcurve['dec'] = []\n",
    "    lightcurve['flux'] = []\n",
    "    lightcurve['flux_error'] = []\n",
    "    lightcurve['zp'] = []\n",
    "    lightcurve['zpsys'] = []\n",
    "    lightcurve['visits'] = []\n",
    "\n",
    "    for visit, src in source_list:\n",
    "\n",
    "        #print 'yep',visit\n",
    "        lightcurve['bandpass'].append(str('sdss' + bandpasses[0]))\n",
    "        lightcurve['mjd'].append(src['visit'])\n",
    "        lightcurve['ra'].append(src['coord_ra'])\n",
    "        lightcurve['dec'].append(src['coord_dec'])\n",
    "        lightcurve['flux'].append(src['base_PeakLikelihoodFlux_flux'])\n",
    "        lightcurve['flux_error'].append(src['base_PeakLikelihoodFlux_fluxSigma'])\n",
    "        lightcurve['visits'].append(src['visit'])\n",
    "        #lightcurve['flux'].append(src['base_CircularApertureFlux_12_0_flux'])\n",
    "        #lightcurve['flux_error'].append(src['base_CircularApertureFlux_12_0_fluxSigma'])\n",
    "        lightcurve['zp'].append(25.0)\n",
    "        lightcurve['zpsys'].append('ab')\n",
    "    lightcurve = Table(data=lightcurve)\n",
    "    return lightcurve"
   ]
  },
  {
   "cell_type": "code",
   "execution_count": 2,
   "metadata": {
    "collapsed": true
   },
   "outputs": [],
   "source": [
    "catalog = afwTable.SourceCatalog.readFits(\"/renoir_data_02/jpreyes/lsst_data/Light_curves.fits\" )"
   ]
  },
  {
   "cell_type": "code",
   "execution_count": 7,
   "metadata": {
    "collapsed": false
   },
   "outputs": [],
   "source": [
    "light_curves=[]\n",
    "i = 0\n",
    "current = -1\n",
    "\n",
    "while i < len(catalog):\n",
    "    result = catalog[i]\n",
    "    if current == -1 or current != result['object']:\n",
    "        lc = [((result['visit']),result)]\n",
    "        light_curves.append(lc)\n",
    "        current = result['object']\n",
    "    else:\n",
    "        light_curves[-1].append(((result['visit']),result))\n",
    "    i+=1\n"
   ]
  },
  {
   "cell_type": "code",
   "execution_count": 27,
   "metadata": {
    "collapsed": false
   },
   "outputs": [],
   "source": [
    "for lc in light_curves:\n",
    "    if len(lc) > 3:\n",
    "        sncosmo_lc = build_lightcurve(lc)\n",
    "        break"
   ]
  },
  {
   "cell_type": "code",
   "execution_count": 24,
   "metadata": {
    "collapsed": true
   },
   "outputs": [],
   "source": []
  },
  {
   "cell_type": "code",
   "execution_count": 28,
   "metadata": {
    "collapsed": false
   },
   "outputs": [
    {
     "data": {
      "text/html": [
       "&lt;Table length=4&gt;\n",
       "<table id=\"table140494621750352\">\n",
       "<thead><tr><th>mjd</th><th>visits</th><th>zpsys</th><th>flux</th><th>ra</th><th>flux_error</th><th>dec</th><th>zp</th><th>bandpass</th></tr></thead>\n",
       "<thead><tr><th>int64</th><th>int64</th><th>str2</th><th>float64</th><th>object</th><th>float64</th><th>object</th><th>float64</th><th>str5</th></tr></thead>\n",
       "<tr><td>852890</td><td>852890</td><td>ab</td><td>611218.671992</td><td>3.74551 rad</td><td>7323.10797293</td><td>0.923084 rad</td><td>25.0</td><td>sdssr</td></tr>\n",
       "<tr><td>850586</td><td>850586</td><td>ab</td><td>1293287.35254</td><td>3.74551 rad</td><td>6724.78009046</td><td>0.923085 rad</td><td>25.0</td><td>sdssr</td></tr>\n",
       "<tr><td>850180</td><td>850180</td><td>ab</td><td>386008.518491</td><td>3.74551 rad</td><td>8146.31612406</td><td>0.92308 rad</td><td>25.0</td><td>sdssr</td></tr>\n",
       "<tr><td>849374</td><td>849374</td><td>ab</td><td>2593152.14389</td><td>3.7455 rad</td><td>15386.790961</td><td>0.923086 rad</td><td>25.0</td><td>sdssr</td></tr>\n",
       "</table>"
      ],
      "text/plain": [
       "<Table length=4>\n",
       " mjd   visits zpsys      flux     ...     dec         zp   bandpass\n",
       "int64  int64   str2    float64    ...    object    float64   str5  \n",
       "------ ------ ----- ------------- ... ------------ ------- --------\n",
       "852890 852890    ab 611218.671992 ... 0.923084 rad    25.0    sdssr\n",
       "850586 850586    ab 1293287.35254 ... 0.923085 rad    25.0    sdssr\n",
       "850180 850180    ab 386008.518491 ...  0.92308 rad    25.0    sdssr\n",
       "849374 849374    ab 2593152.14389 ... 0.923086 rad    25.0    sdssr"
      ]
     },
     "execution_count": 28,
     "metadata": {},
     "output_type": "execute_result"
    }
   ],
   "source": [
    "sncosmo_lc"
   ]
  },
  {
   "cell_type": "code",
   "execution_count": 32,
   "metadata": {
    "collapsed": false
   },
   "outputs": [
    {
     "data": {
      "image/png": "[encoded data removed]",
      "text/plain": [
       "<matplotlib.figure.Figure at 0x7fc7c5bcf690>"
      ]
     },
     "execution_count": 32,
     "metadata": {},
     "output_type": "execute_result"
    },
    {
     "data": {
      "image/png": "[encoded data removed]",
      "text/plain": [
       "<matplotlib.figure.Figure at 0x7fc7c5bcf690>"
      ]
     },
     "metadata": {},
     "output_type": "display_data"
    }
   ],
   "source": [
    "%matplotlib inline\n",
    "sncosmo.plot_lc(sncosmo_lc, color=\"RED\")"
   ]
  },
  {
   "cell_type": "code",
   "execution_count": null,
   "metadata": {
    "collapsed": true
   },
   "outputs": [],
   "source": []
  }
 ],
 "metadata": {
  "kernelspec": {
   "display_name": "Python 2",
   "language": "python",
   "name": "python2"
  },
  "language_info": {
   "codemirror_mode": {
    "name": "ipython",
    "version": 2
   },
   "file_extension": ".py",
   "mimetype": "text/x-python",
   "name": "python",
   "nbconvert_exporter": "python",
   "pygments_lexer": "ipython2",
   "version": "2.7.12"
  }
 },
 "nbformat": 4,
 "nbformat_minor": 0
}
