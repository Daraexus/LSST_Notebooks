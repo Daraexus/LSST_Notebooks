{
 "metadata": {
  "name": ""
 },
 "nbformat": 3,
 "nbformat_minor": 0,
 "worksheets": [
  {
   "cells": [
    {
     "cell_type": "code",
     "collapsed": false,
     "input": [
      "\n",
      "\n",
      "import lsst.afw.image as afwImage\n",
      "import lsst.afw.display.ds9 as ds9\n",
      "\n",
      "DATADIR=\"/renoir_data_02/jpreyes/lsst_data/data/CFHTLS_TEST\"\n",
      "\n",
      "coadditionPath = DATADIR+\"/output/coadd_r_dir/coaddition/deepCoadd/r/1/33,15.fits\"\n",
      "day0Path = DATADIR+\"/output/coadd_r_dir/subtract+0/deepCoadd/r/1/33,15.fits\"\n",
      "daym3Path = DATADIR+\"/output/coadd_r_dir/subtract-3/deepCoadd/r/1/33,15.fits\"\n",
      "\n",
      "day0Im = afwImage.ExposureF(day0Path)\n",
      "daym3Im = afwImage.ExposureF(daym3Path)\n",
      "coadditionIm =  afwImage.ExposureF(coadditionPath)\n",
      "\n",
      "\n",
      "ds9.mtv(coadditionIm.getMaskedImage().getImage(), frame=1)\n",
      "ds9.mtv(daym3Im.getMaskedImage().getImage(), frame=2)\n",
      "ds9.mtv(day0Im.getMaskedImage().getImage(), frame=3)\n",
      "\n",
      "\n"
     ],
     "language": "python",
     "metadata": {},
     "outputs": [],
     "prompt_number": 1
    },
    {
     "cell_type": "code",
     "collapsed": false,
     "input": [
      "daym2Path = DATADIR+\"_2/output/coadd_r_dir/coaddition/deepCoadd/r/1/45,8.fits\"\n",
      "daym2Im = afwImage.ExposureF(daym2Path)\n",
      "ds9.mtv(daym2Im.getMaskedImage().getImage(), frame=9)"
     ],
     "language": "python",
     "metadata": {},
     "outputs": [],
     "prompt_number": 69
    },
    {
     "cell_type": "code",
     "collapsed": false,
     "input": [
      "daym4Path = DATADIR+\"/output/coadd_r_dir/subtract+0/deepCoadd/r/1/33,15.fits\"\n",
      "daym4Im = afwImage.ExposureF(daym4Path)\n",
      "ds9.mtv(daym4Im.getMaskedImage().getImage(), frame=5)"
     ],
     "language": "python",
     "metadata": {},
     "outputs": [],
     "prompt_number": 70
    },
    {
     "cell_type": "code",
     "collapsed": false,
     "input": [
      "tIm = afwImage.ExposureF(\"/renoir_data_02/jpreyes/lsst_data/data/CFHTLS_TEST/subtracted-4/33,15.fits\")\n",
      "ds9.mtv(tIm.getMaskedImage().getImage(), frame=10)"
     ],
     "language": "python",
     "metadata": {},
     "outputs": [],
     "prompt_number": 28
    },
    {
     "cell_type": "code",
     "collapsed": false,
     "input": [],
     "language": "python",
     "metadata": {},
     "outputs": []
    }
   ],
   "metadata": {}
  }
 ]
}