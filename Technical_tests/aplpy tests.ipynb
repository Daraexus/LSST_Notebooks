{
 "cells": [
  {
   "cell_type": "code",
   "execution_count": 1,
   "metadata": {
    "collapsed": false
   },
   "outputs": [
    {
     "ename": "InvalidParameterError",
     "evalue": "\n  File \"src/table/Exposure.cc\", line 336, in static boost::shared_ptr<lsst::afw::table::ExposureTable> lsst::afw::table::ExposureTable::make(const lsst::afw::table::Schema&)\n    Schema for Exposure must contain at least the keys defined by makeMinimalSchema(). {0}\n  File \"src/table/io/InputArchive.cc\", line 105, in boost::shared_ptr<lsst::afw::table::io::Persistable> lsst::afw::table::io::InputArchive::Impl::get(int, const lsst::afw::table::io::InputArchive&)\n    loading object with id=14, name='CoaddPsf' {1}\nlsst::pex::exceptions::InvalidParameterError: 'Schema for Exposure must contain at least the keys defined by makeMinimalSchema(). {0}; loading object with id=14, name='CoaddPsf' {1}'\n",
     "output_type": "error",
     "traceback": [
      "\u001b[1;31m---------------------------------------------------------------------------\u001b[0m",
      "\u001b[1;31mInvalidParameterError\u001b[0m                     Traceback (most recent call last)",
      "\u001b[1;32m<ipython-input-1-f1c6f4d396d7>\u001b[0m in \u001b[0;36m<module>\u001b[1;34m()\u001b[0m\n\u001b[0;32m      5\u001b[0m \u001b[0mScienceExposurePath\u001b[0m \u001b[1;33m=\u001b[0m \u001b[0mDATADIR\u001b[0m\u001b[1;33m+\u001b[0m\u001b[1;34m\"/output/coadd_r_dir/subtract/deepCoadd/r/1/33,15.fits\"\u001b[0m\u001b[1;33m\u001b[0m\u001b[0m\n\u001b[0;32m      6\u001b[0m \u001b[1;31m#ScienceExposurePath = \"/renoir_data_02/jpreyes/lsst_winter2013/w13_diffim_v11/deepDiff/v6866602-fi/R22/diffexp-S11.fits\"\u001b[0m\u001b[1;33m\u001b[0m\u001b[1;33m\u001b[0m\u001b[0m\n\u001b[1;32m----> 7\u001b[1;33m \u001b[0mScienceExposure\u001b[0m \u001b[1;33m=\u001b[0m \u001b[0mafwImage\u001b[0m\u001b[1;33m.\u001b[0m\u001b[0mExposureF\u001b[0m\u001b[1;33m(\u001b[0m\u001b[0mScienceExposurePath\u001b[0m\u001b[1;33m)\u001b[0m\u001b[1;33m\u001b[0m\u001b[0m\n\u001b[0m\u001b[0;32m      8\u001b[0m \u001b[1;33m\u001b[0m\u001b[0m\n\u001b[0;32m      9\u001b[0m \u001b[0mds9\u001b[0m\u001b[1;33m.\u001b[0m\u001b[0mmtv\u001b[0m\u001b[1;33m(\u001b[0m\u001b[0mScienceExposure\u001b[0m\u001b[1;33m)\u001b[0m\u001b[1;33m\u001b[0m\u001b[0m\n",
      "\u001b[1;32m/renoir_data_00/fouchez/lsst/DM/stacks/v11.0/Linux64/afw/11.0+1/python/lsst/afw/image/imageLib.pyc\u001b[0m in \u001b[0;36m__init__\u001b[1;34m(self, *args)\u001b[0m\n\u001b[0;32m  10415\u001b[0m         \u001b[0m__init__\u001b[0m\u001b[1;33m(\u001b[0m\u001b[0mlsst\u001b[0m\u001b[1;33m:\u001b[0m\u001b[1;33m:\u001b[0m\u001b[0mafw\u001b[0m\u001b[1;33m:\u001b[0m\u001b[1;33m:\u001b[0m\u001b[0mimage\u001b[0m\u001b[1;33m:\u001b[0m\u001b[1;33m:\u001b[0m\u001b[0mExposure\u001b[0m\u001b[1;33m<\u001b[0m\u001b[1;33m(\u001b[0m\u001b[0mfloat\u001b[0m\u001b[1;33m,\u001b[0m\u001b[0mlsst\u001b[0m\u001b[1;33m:\u001b[0m\u001b[1;33m:\u001b[0m\u001b[0mafw\u001b[0m\u001b[1;33m:\u001b[0m\u001b[1;33m:\u001b[0m\u001b[0mimage\u001b[0m\u001b[1;33m:\u001b[0m\u001b[1;33m:\u001b[0m\u001b[0mMaskPixel\u001b[0m\u001b[1;33m,\u001b[0m\u001b[0mlsst\u001b[0m\u001b[1;33m:\u001b[0m\u001b[1;33m:\u001b[0m\u001b[0mafw\u001b[0m\u001b[1;33m:\u001b[0m\u001b[1;33m:\u001b[0m\u001b[0mimage\u001b[0m\u001b[1;33m:\u001b[0m\u001b[1;33m:\u001b[0m\u001b[0mVariancePixel\u001b[0m\u001b[1;33m)\u001b[0m\u001b[1;33m>\u001b[0m \u001b[0mself\u001b[0m\u001b[1;33m,\u001b[0m \u001b[0mExposureF\u001b[0m \u001b[0msrc\u001b[0m\u001b[1;33m,\u001b[0m \u001b[0mBox2I\u001b[0m \u001b[0mbbox\u001b[0m\u001b[1;33m)\u001b[0m \u001b[1;33m-\u001b[0m\u001b[1;33m>\u001b[0m \u001b[0mExposureF\u001b[0m\u001b[1;33m\u001b[0m\u001b[0m\n\u001b[0;32m  10416\u001b[0m         \"\"\"\n\u001b[1;32m> 10417\u001b[1;33m         \u001b[0mthis\u001b[0m \u001b[1;33m=\u001b[0m \u001b[0m_imageLib\u001b[0m\u001b[1;33m.\u001b[0m\u001b[0mnew_ExposureF\u001b[0m\u001b[1;33m(\u001b[0m\u001b[1;33m*\u001b[0m\u001b[0margs\u001b[0m\u001b[1;33m)\u001b[0m\u001b[1;33m\u001b[0m\u001b[0m\n\u001b[0m\u001b[0;32m  10418\u001b[0m         \u001b[1;32mtry\u001b[0m\u001b[1;33m:\u001b[0m \u001b[0mself\u001b[0m\u001b[1;33m.\u001b[0m\u001b[0mthis\u001b[0m\u001b[1;33m.\u001b[0m\u001b[0mappend\u001b[0m\u001b[1;33m(\u001b[0m\u001b[0mthis\u001b[0m\u001b[1;33m)\u001b[0m\u001b[1;33m\u001b[0m\u001b[0m\n\u001b[0;32m  10419\u001b[0m         \u001b[1;32mexcept\u001b[0m\u001b[1;33m:\u001b[0m \u001b[0mself\u001b[0m\u001b[1;33m.\u001b[0m\u001b[0mthis\u001b[0m \u001b[1;33m=\u001b[0m \u001b[0mthis\u001b[0m\u001b[1;33m\u001b[0m\u001b[0m\n",
      "\u001b[1;31mInvalidParameterError\u001b[0m: \n  File \"src/table/Exposure.cc\", line 336, in static boost::shared_ptr<lsst::afw::table::ExposureTable> lsst::afw::table::ExposureTable::make(const lsst::afw::table::Schema&)\n    Schema for Exposure must contain at least the keys defined by makeMinimalSchema(). {0}\n  File \"src/table/io/InputArchive.cc\", line 105, in boost::shared_ptr<lsst::afw::table::io::Persistable> lsst::afw::table::io::InputArchive::Impl::get(int, const lsst::afw::table::io::InputArchive&)\n    loading object with id=14, name='CoaddPsf' {1}\nlsst::pex::exceptions::InvalidParameterError: 'Schema for Exposure must contain at least the keys defined by makeMinimalSchema(). {0}; loading object with id=14, name='CoaddPsf' {1}'\n"
     ]
    }
   ],
   "source": [
    "import lsst.afw.image as afwImage\n",
    "import lsst.afw.display.ds9 as ds9\n",
    "\n",
    "DATADIR=\"/renoir_data_02/jpreyes/lsst_data/data/CFHTLS\"\n",
    "ScienceExposurePath = DATADIR+\"/output/coadd_r_dir/subtract/deepCoadd/r/1/33,15.fits\"\n",
    "#ScienceExposurePath = \"/renoir_data_02/jpreyes/lsst_winter2013/w13_diffim_v11/deepDiff/v6866602-fi/R22/diffexp-S11.fits\"\n",
    "ScienceExposure = afwImage.ExposureF(ScienceExposurePath)\n",
    "\n",
    "ds9.mtv(ScienceExposure)"
   ]
  },
  {
   "cell_type": "code",
   "execution_count": null,
   "metadata": {
    "collapsed": false
   },
   "outputs": [],
   "source": []
  }
 ],
 "metadata": {
  "kernelspec": {
   "display_name": "Python 2",
   "language": "python",
   "name": "python2"
  }
 },
 "nbformat": 4,
 "nbformat_minor": 0
}
