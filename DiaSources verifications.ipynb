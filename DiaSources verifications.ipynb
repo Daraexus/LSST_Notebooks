{
 "cells": [
  {
   "cell_type": "code",
   "execution_count": 1,
   "metadata": {
    "collapsed": false
   },
   "outputs": [
    {
     "name": "stderr",
     "output_type": "stream",
     "text": [
      "/renoir_data_00/fouchez/lsst/DM/stacks/lsstsw/2016-04-04/lsstsw/miniconda/lib/python2.7/site-packages/matplotlib/font_manager.py:273: UserWarning: Matplotlib is building the font cache using fc-list. This may take a moment.\n",
      "  warnings.warn('Matplotlib is building the font cache using fc-list. This may take a moment.')\n"
     ]
    }
   ],
   "source": [
    "import lsst.meas.astrom as measAstrom\n",
    "import lsst.daf.base as dafBase\n",
    "import lsst.pipe.base as pipeBase\n",
    "import lsst.daf.persistence as dafPersist\n",
    "\n",
    "import lsst.afw.display.ds9 as ds9\n",
    "import DiaSourceTools as DSTools\n",
    "\n",
    "import lsst.afw.table as afwTable\n",
    "import lsst.afw.geom as afwGeom\n",
    "\n",
    "import numpy as np"
   ]
  },
  {
   "cell_type": "code",
   "execution_count": 2,
   "metadata": {
    "collapsed": true
   },
   "outputs": [],
   "source": [
    "DATADIR=\"/renoir_data_02/jpreyes/lsst_data/CFHTLS_master/\"\n",
    "butler = dafPersist.Butler(DATADIR+\"/output\")"
   ]
  },
  {
   "cell_type": "code",
   "execution_count": 54,
   "metadata": {
    "collapsed": true
   },
   "outputs": [],
   "source": [
    "diffExp1 = butler.get(\"deepDiff_differenceExp\", {'visit': 849687 , 'filter':'r' , 'ccd':14})\n",
    "diaSrcs1 = butler.get(\"deepDiff_diaSrc\", {'visit': 849687 , 'filter':'r' , 'ccd':14})"
   ]
  },
  {
   "cell_type": "code",
   "execution_count": 55,
   "metadata": {
    "collapsed": true
   },
   "outputs": [],
   "source": [
    "diffExp2 = butler.get(\"deepDiff_differenceExp\", {'visit': 850177 , 'filter':'r' , 'ccd':14})\n",
    "diaSrcs2 = butler.get(\"deepDiff_diaSrc\", {'visit': 850177 , 'filter':'r' , 'ccd':14})"
   ]
  },
  {
   "cell_type": "code",
   "execution_count": 56,
   "metadata": {
    "collapsed": true
   },
   "outputs": [],
   "source": [
    "\n",
    "def get_good_diasrcs(diaSrcs, diffExp):\n",
    "    class_diaSrcs = diaSrcs.copy()\n",
    "    class_diaSrcs.clear()\n",
    "    \n",
    "    fluxes, sigmas = DSTools.get_fluxes_and_sigmas(diaSrcs, \"base_PeakLikelihoodFlux_flux\")\n",
    "\n",
    "    m_sigma = np.mean(sigmas)\n",
    "    t_sigma = 5*m_sigma\n",
    "\n",
    "    sources = DSTools.get_sources_over_sigma(diaSrcs, t_sigma, \"base_PeakLikelihoodFlux_flux\")\n",
    "\n",
    "    for source in sources:\n",
    "                try:\n",
    "                    stamp = DSTools.get_stamp(source, diffExp)\n",
    "                    stamp_clone = stamp.clone()\n",
    "\n",
    "                    results = DSTools.detect_diasources(stamp_clone, doSmooth=True)\n",
    "                    negFps = len(results.fpSets.negative.getFootprints())\n",
    "                    posFps = len(results.fpSets.positive.getFootprints())\n",
    "\n",
    "                    #if negFps == 0:\n",
    "                    if True:\n",
    "                        class_diaSrcs.addNew()\n",
    "                        class_diaSrcs.append(source)\n",
    "\n",
    "\n",
    "                except Exception, e:\n",
    "                    pass\n",
    "    return class_diaSrcs"
   ]
  },
  {
   "cell_type": "code",
   "execution_count": 57,
   "metadata": {
    "collapsed": true
   },
   "outputs": [],
   "source": [
    "c_ds1= get_good_diasrcs(diaSrcs1, diffExp1)\n",
    "c_ds2= get_good_diasrcs(diaSrcs2, diffExp2)"
   ]
  },
  {
   "cell_type": "code",
   "execution_count": 60,
   "metadata": {
    "collapsed": true
   },
   "outputs": [],
   "source": [
    "matches = afwTable.matchRaDec(c_ds1, c_ds2, afwGeom.Angle(1./3600., afwGeom.degrees)) "
   ]
  },
  {
   "cell_type": "code",
   "execution_count": 58,
   "metadata": {
    "collapsed": false
   },
   "outputs": [
    {
     "name": "stdout",
     "output_type": "stream",
     "text": [
      "ds9 doesn't appear to be running (XPA: XPA returned NULL, (;iconify no; raise)), I'll try to exec it for you\n"
     ]
    }
   ],
   "source": [
    "ds9.mtv(diffExp1, frame=1)\n",
    "ds9.setMaskTransparency(100, frame=1)\n",
    "ds9.mtv(diffExp2, frame=2)\n",
    "ds9.setMaskTransparency(100, frame=2)"
   ]
  },
  {
   "cell_type": "code",
   "execution_count": 31,
   "metadata": {
    "collapsed": false
   },
   "outputs": [
    {
     "name": "stdout",
     "output_type": "stream",
     "text": [
      "198\n"
     ]
    }
   ],
   "source": [
    "print len(matches)"
   ]
  },
  {
   "cell_type": "code",
   "execution_count": 59,
   "metadata": {
    "collapsed": false
   },
   "outputs": [],
   "source": [
    "counter = 0\n",
    "for src in c_ds1:\n",
    "    ds9.dot('o', src.getX(), src.getY(), frame=1,size=10, ctype=ds9.RED)\n",
    "for src in c_ds2:\n",
    "    ds9.dot('o', src.getX(), src.getY(), frame=2,size=10, ctype=ds9.RED)"
   ]
  },
  {
   "cell_type": "code",
   "execution_count": 62,
   "metadata": {
    "collapsed": false,
    "scrolled": true
   },
   "outputs": [],
   "source": [
    "for match in matches:\n",
    "    ds9.dot('o', match.first.getX(), match.first.getY(), frame=1,size=12)\n",
    "    ds9.dot('o', match.second.getX(), match.second.getY(), frame=2, size=12)"
   ]
  },
  {
   "cell_type": "code",
   "execution_count": 65,
   "metadata": {
    "collapsed": false
   },
   "outputs": [
    {
     "name": "stdout",
     "output_type": "stream",
     "text": [
      "[False]\n",
      "[False]\n",
      "[False]\n"
     ]
    }
   ],
   "source": [
    "a = [1, 2, 3]\n",
    "\n",
    "for elem in a:\n",
    "    print [a==elem]"
   ]
  },
  {
   "cell_type": "code",
   "execution_count": 67,
   "metadata": {
    "collapsed": false
   },
   "outputs": [
    {
     "data": {
      "text/plain": [
       "False"
      ]
     },
     "execution_count": 67,
     "metadata": {},
     "output_type": "execute_result"
    }
   ],
   "source": [
    "a == 2"
   ]
  },
  {
   "cell_type": "code",
   "execution_count": null,
   "metadata": {
    "collapsed": true
   },
   "outputs": [],
   "source": []
  }
 ],
 "metadata": {
  "kernelspec": {
   "display_name": "Python 2",
   "language": "python",
   "name": "python2"
  },
  "language_info": {
   "codemirror_mode": {
    "name": "ipython",
    "version": 2
   },
   "file_extension": ".py",
   "mimetype": "text/x-python",
   "name": "python",
   "nbconvert_exporter": "python",
   "pygments_lexer": "ipython2",
   "version": "2.7.11"
  }
 },
 "nbformat": 4,
 "nbformat_minor": 0
}
