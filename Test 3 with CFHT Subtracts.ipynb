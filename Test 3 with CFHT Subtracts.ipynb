{
 "metadata": {
  "name": ""
 },
 "nbformat": 3,
 "nbformat_minor": 0,
 "worksheets": [
  {
   "cells": [
    {
     "cell_type": "code",
     "collapsed": false,
     "input": [
      "\n",
      "\n",
      "import lsst.afw.image as afwImage\n",
      "import lsst.afw.geom as afwGeom\n",
      "import lsst.afw.coord as afwCoord\n",
      "import lsst.afw.math as afwMath\n",
      "import lsst.afw.detection as afwDetection\n",
      "import lsst.afw.display.utils as displayUtils\n",
      "import lsst.afw.table as afwTable\n",
      "import lsst.meas.algorithms as measAlg\n",
      "import lsst.afw.display.ds9 as ds9\n",
      "import numpy as np\n",
      "import os"
     ],
     "language": "python",
     "metadata": {},
     "outputs": [],
     "prompt_number": 113
    },
    {
     "cell_type": "markdown",
     "metadata": {},
     "source": [
      "Working directory plus transparence setting for ds9"
     ]
    },
    {
     "cell_type": "code",
     "collapsed": false,
     "input": [
      "DATADIR=\"/renoir_data_02/jpreyes/lsst_data/data/CFHTLS\"\n",
      "\n",
      "calexp_1 = DATADIR+'/output/subtracted+1/33,15.fits'\n",
      "ds9.setMaskTransparency(40)"
     ],
     "language": "python",
     "metadata": {},
     "outputs": [],
     "prompt_number": 114
    },
    {
     "cell_type": "markdown",
     "metadata": {},
     "source": [
      "Creation of the new image as an Exposure (image including masks)"
     ]
    },
    {
     "cell_type": "code",
     "collapsed": false,
     "input": [
      "exposure = afwImage.ExposureF(calexp_1)\n",
      "mi = exposure.getMaskedImage()\n",
      "im = mi.getImage()"
     ],
     "language": "python",
     "metadata": {},
     "outputs": [],
     "prompt_number": 115
    },
    {
     "cell_type": "markdown",
     "metadata": {},
     "source": [
      "MEANCLIP and STDEVCLIP calculations. Mean could mean really \"Median\". To verify in afwMath."
     ]
    },
    {
     "cell_type": "code",
     "collapsed": false,
     "input": [
      "nsigma = 5\n",
      "stats = afwMath.makeStatistics(im, afwMath.MEANCLIP | afwMath.STDEVCLIP)\n",
      "threshold5 = stats.getValue(afwMath.MEANCLIP) + nsigma*stats.getValue(afwMath.STDEVCLIP)\n",
      "print \"Mean of the image is %.3f counts, stdev is %.3f counts\" % (stats.getValue(afwMath.MEANCLIP), stats.getValue(afwMath.STDEVCLIP))\n",
      "print \"The %d-sigma detection threshold is at %.2f counts\" % (nsigma, threshold5)\n"
     ],
     "language": "python",
     "metadata": {},
     "outputs": [
      {
       "output_type": "stream",
       "stream": "stdout",
       "text": [
        "Mean of the image is 0.007 counts, stdev is 0.190 counts\n",
        "The 5-sigma detection threshold is at 0.96 counts\n"
       ]
      }
     ],
     "prompt_number": 116
    },
    {
     "cell_type": "markdown",
     "metadata": {},
     "source": [
      "This part starts with the creation of a minimal empty schema to store all the values to be calculated. The second task in order to invoke the tasks is to instanciate the respective config classes for the SourceDetectionTask, SourceMeasuramentTask and the MeasurePsfTask.\n",
      "\n",
      "This code re-uses the config variable for the three tasks mentioned above. The last one emplois a list of badflags (how are they determinated?) and creates a psfDeterminer. This psfDeterminer seems to calculate/create the kernel associated to the PSF."
     ]
    },
    {
     "cell_type": "code",
     "collapsed": false,
     "input": [
      "from lsst.meas.algorithms.detection import SourceDetectionTask\n",
      "from lsst.meas.algorithms.measurement import SourceMeasurementTask\n",
      "from lsst.pipe.tasks.measurePsf import MeasurePsfTask\n",
      "\n",
      "schema = afwTable.SourceTable.makeMinimalSchema()\n",
      "\n",
      "config = SourceDetectionTask.ConfigClass()\n",
      "config.reEstimateBackground = False\n",
      "detectionTask = SourceDetectionTask(config=config, schema=schema)\n",
      " \n",
      "config = SourceMeasurementTask.ConfigClass()\n",
      "config.slots.psfFlux = \"flux.sinc\" # use of the psf flux is hardcoded in secondMomentStarSelector\n",
      "measureTask = SourceMeasurementTask(schema, config=config)\n",
      "\n",
      "config = MeasurePsfTask.ConfigClass()\n",
      "starSelector = config.starSelector.apply()\n",
      "starSelector.config.badFlags = [\"flags.pixel.edge\", \"flags.pixel.cr.center\", \"flags.pixel.interpolated.center\", \"flags.pixel.saturated.center\"]\n",
      "psfDeterminer = config.psfDeterminer.apply()\n",
      "psfDeterminer.config.sizeCellX = 64\n",
      "psfDeterminer.config.sizeCellY = 64\n",
      "psfDeterminer.config.spatialOrder = 1\n",
      "psfDeterminer.config.nEigenComponents = 3\n",
      "measurePsfTask = MeasurePsfTask(config=config, schema=schema)\n"
     ],
     "language": "python",
     "metadata": {},
     "outputs": [],
     "prompt_number": 117
    },
    {
     "cell_type": "markdown",
     "metadata": {},
     "source": [
      "This is the clearing the detection mask, using and AND operator and a negation of the mask."
     ]
    },
    {
     "cell_type": "code",
     "collapsed": false,
     "input": [
      "# Again clear the detection masks\n",
      "mask = exposure.getMaskedImage().getMask()\n",
      "mask &= ~(mask.getPlaneBitMask(\"DETECTED\")) \n",
      "frame=1\n",
      "ds9.mtv(exposure, frame=frame, title=\"Original Image Off of Disk\"); frame += 1"
     ],
     "language": "python",
     "metadata": {},
     "outputs": [],
     "prompt_number": 118
    },
    {
     "cell_type": "markdown",
     "metadata": {},
     "source": [
      "The detectionTask is launched to detect the sources. The measureTask is using the sources and the exposure to -probably- generate all the relevant data."
     ]
    },
    {
     "cell_type": "code",
     "collapsed": false,
     "input": [
      "# And then re-detect, re-measure, select stars, and build the Psf model\n",
      "table = afwTable.SourceTable.make(schema)\n",
      "sources = detectionTask.run(table, exposure, sigma=2).sources\n",
      "measureTask.measure(exposure, sources)\n",
      "ds9.mtv(exposure, frame=frame, title=\"Original Image Off of Disk\"); frame += 1"
     ],
     "language": "python",
     "metadata": {},
     "outputs": [],
     "prompt_number": 119
    },
    {
     "cell_type": "markdown",
     "metadata": {},
     "source": [
      "The PSF is measured. An image for the PSF calculated is computed. (What are the parameters? Is it the linear combination of multiple gaussian functions?)"
     ]
    },
    {
     "cell_type": "code",
     "collapsed": false,
     "input": [
      "for source in sources:\n",
      "    print source.getX(), source.getY()"
     ],
     "language": "python",
     "metadata": {},
     "outputs": [
      {
       "output_type": "stream",
       "stream": "stdout",
       "text": [
        "nan nan\n",
        "33102.8678697 15031.7215681\n",
        "33041.2659645 15038.1008267\n",
        "33860.7007403 15090.7481991\n",
        "33487.7421497 15268.7561507\n",
        "33981.4557222 15419.2778018\n",
        "33568.0491 15469.2505534\n",
        "33097.1303217 15562.4236851\n",
        "32975.6574649 15691.0052817\n",
        "33806.6990999 15725.8117009\n",
        "33545.2088866 15907.7412357\n",
        "33593.3451196 15928.3643833\n"
       ]
      }
     ],
     "prompt_number": 120
    },
    {
     "cell_type": "code",
     "collapsed": false,
     "input": [
      "ksources = sources[1:]\n",
      "for source in ksources:\n",
      "    print source.getRa(), source.getDec()\n",
      "    \n",
      "print exposure.getXY0()\n",
      "\n",
      "wcs= exposure.getWcs()\n",
      "\n",
      "print wcs.pixelToSky(33593, 15928)"
     ],
     "language": "python",
     "metadata": {},
     "outputs": [
      {
       "output_type": "stream",
       "stream": "stdout",
       "text": [
        "3.74712 rad 0.920769 rad\n",
        "3.74721 rad 0.920775 rad\n",
        "3.74599 rad 0.920818 rad\n",
        "3.74655 rad 0.92098 rad\n",
        "3.74581 rad 0.921112 rad\n",
        "3.74642 rad 0.921159 rad\n",
        "3.74712 rad 0.921245 rad\n",
        "3.7473 rad 0.92136 rad\n",
        "3.74607 rad 0.921388 rad\n",
        "3.74646 rad 0.921553 rad\n",
        "3.74638 rad 0.921571 rad\n",
        "(32900, 14900)\n",
        "(3.74638 rad, 0.92157 rad)\n"
       ]
      }
     ],
     "prompt_number": 121
    },
    {
     "cell_type": "code",
     "collapsed": false,
     "input": [
      "\n",
      "result = measurePsfTask.run(exposure, ksources)\n",
      "\n",
      "psf = result.psf\n",
      "psfIm = psf.computeImage()\n",
      "ds9.mtv(psfIm, frame=frame, title=\"Psf Image\"); frame += 1"
     ],
     "language": "python",
     "metadata": {},
     "outputs": [
      {
       "ename": "InvalidParameterError",
       "evalue": "\n  File \"src/math/Statistics.cc\", line 747, in void lsst::afw::math::Statistics::doStatistics(const ImageT&, const MaskT&, const VarianceT&, const WeightT&, int, const lsst::afw::math::StatisticsControl&) [with ImageT = lsst::afw::math::ImageImposter<double>, MaskT = lsst::afw::math::MaskImposter<short unsigned int>, VarianceT = lsst::afw::math::MaskImposter<float>, WeightT = lsst::afw::math::MaskImposter<float>]\n    Image contains no pixels {0}\nlsst::pex::exceptions::InvalidParameterError: 'Image contains no pixels'\n",
       "output_type": "pyerr",
       "traceback": [
        "\u001b[1;31m---------------------------------------------------------------------------\u001b[0m\n\u001b[1;31mInvalidParameterError\u001b[0m                     Traceback (most recent call last)",
        "\u001b[1;32m<ipython-input-122-7f5b090348a3>\u001b[0m in \u001b[0;36m<module>\u001b[1;34m()\u001b[0m\n\u001b[0;32m      1\u001b[0m \u001b[1;33m\u001b[0m\u001b[0m\n\u001b[1;32m----> 2\u001b[1;33m \u001b[0mresult\u001b[0m \u001b[1;33m=\u001b[0m \u001b[0mmeasurePsfTask\u001b[0m\u001b[1;33m.\u001b[0m\u001b[0mrun\u001b[0m\u001b[1;33m(\u001b[0m\u001b[0mexposure\u001b[0m\u001b[1;33m,\u001b[0m \u001b[0mksources\u001b[0m\u001b[1;33m)\u001b[0m\u001b[1;33m\u001b[0m\u001b[0m\n\u001b[0m\u001b[0;32m      3\u001b[0m \u001b[1;33m\u001b[0m\u001b[0m\n\u001b[0;32m      4\u001b[0m \u001b[0mpsf\u001b[0m \u001b[1;33m=\u001b[0m \u001b[0mresult\u001b[0m\u001b[1;33m.\u001b[0m\u001b[0mpsf\u001b[0m\u001b[1;33m\u001b[0m\u001b[0m\n\u001b[0;32m      5\u001b[0m \u001b[0mpsfIm\u001b[0m \u001b[1;33m=\u001b[0m \u001b[0mpsf\u001b[0m\u001b[1;33m.\u001b[0m\u001b[0mcomputeImage\u001b[0m\u001b[1;33m(\u001b[0m\u001b[1;33m)\u001b[0m\u001b[1;33m\u001b[0m\u001b[0m\n",
        "\u001b[1;32m/renoir_data_00/jpreyes/stacks/v9_2_copy/Linux64/pipe_base/9.2/python/lsst/pipe/base/timer.pyc\u001b[0m in \u001b[0;36mwrapper\u001b[1;34m(self, *args, **keyArgs)\u001b[0m\n\u001b[0;32m    116\u001b[0m         \u001b[0mlogInfo\u001b[0m\u001b[1;33m(\u001b[0m\u001b[0mobj\u001b[0m \u001b[1;33m=\u001b[0m \u001b[0mself\u001b[0m\u001b[1;33m,\u001b[0m \u001b[0mprefix\u001b[0m \u001b[1;33m=\u001b[0m \u001b[0mfunc\u001b[0m\u001b[1;33m.\u001b[0m\u001b[0m__name__\u001b[0m \u001b[1;33m+\u001b[0m \u001b[1;34m\"Start\"\u001b[0m\u001b[1;33m)\u001b[0m\u001b[1;33m\u001b[0m\u001b[0m\n\u001b[0;32m    117\u001b[0m         \u001b[1;32mtry\u001b[0m\u001b[1;33m:\u001b[0m\u001b[1;33m\u001b[0m\u001b[0m\n\u001b[1;32m--> 118\u001b[1;33m             \u001b[0mres\u001b[0m \u001b[1;33m=\u001b[0m \u001b[0mfunc\u001b[0m\u001b[1;33m(\u001b[0m\u001b[0mself\u001b[0m\u001b[1;33m,\u001b[0m \u001b[1;33m*\u001b[0m\u001b[0margs\u001b[0m\u001b[1;33m,\u001b[0m \u001b[1;33m**\u001b[0m\u001b[0mkeyArgs\u001b[0m\u001b[1;33m)\u001b[0m\u001b[1;33m\u001b[0m\u001b[0m\n\u001b[0m\u001b[0;32m    119\u001b[0m         \u001b[1;32mfinally\u001b[0m\u001b[1;33m:\u001b[0m\u001b[1;33m\u001b[0m\u001b[0m\n\u001b[0;32m    120\u001b[0m             \u001b[0mlogInfo\u001b[0m\u001b[1;33m(\u001b[0m\u001b[0mobj\u001b[0m \u001b[1;33m=\u001b[0m \u001b[0mself\u001b[0m\u001b[1;33m,\u001b[0m \u001b[0mprefix\u001b[0m \u001b[1;33m=\u001b[0m \u001b[0mfunc\u001b[0m\u001b[1;33m.\u001b[0m\u001b[0m__name__\u001b[0m \u001b[1;33m+\u001b[0m \u001b[1;34m\"End\"\u001b[0m\u001b[1;33m)\u001b[0m\u001b[1;33m\u001b[0m\u001b[0m\n",
        "\u001b[1;32m/renoir_data_00/jpreyes/stacks/v9_2_copy/Linux64/pipe_tasks/9.2/python/lsst/pipe/tasks/measurePsf.pyc\u001b[0m in \u001b[0;36mrun\u001b[1;34m(self, exposure, sources, matches)\u001b[0m\n\u001b[0;32m    292\u001b[0m         \u001b[1;31m# Run star selector\u001b[0m\u001b[1;33m\u001b[0m\u001b[1;33m\u001b[0m\u001b[0m\n\u001b[0;32m    293\u001b[0m         \u001b[1;31m#\u001b[0m\u001b[1;33m\u001b[0m\u001b[1;33m\u001b[0m\u001b[0m\n\u001b[1;32m--> 294\u001b[1;33m         \u001b[0mpsfCandidateList\u001b[0m \u001b[1;33m=\u001b[0m \u001b[0mself\u001b[0m\u001b[1;33m.\u001b[0m\u001b[0mstarSelector\u001b[0m\u001b[1;33m.\u001b[0m\u001b[0mselectStars\u001b[0m\u001b[1;33m(\u001b[0m\u001b[0mexposure\u001b[0m\u001b[1;33m,\u001b[0m \u001b[0msources\u001b[0m\u001b[1;33m,\u001b[0m \u001b[0mmatches\u001b[0m\u001b[1;33m=\u001b[0m\u001b[0mmatches\u001b[0m\u001b[1;33m)\u001b[0m\u001b[1;33m\u001b[0m\u001b[0m\n\u001b[0m\u001b[0;32m    295\u001b[0m         \u001b[1;32mif\u001b[0m \u001b[0mpsfCandidateList\u001b[0m \u001b[1;32mand\u001b[0m \u001b[0mself\u001b[0m\u001b[1;33m.\u001b[0m\u001b[0mcandidateKey\u001b[0m \u001b[1;32mis\u001b[0m \u001b[1;32mnot\u001b[0m \u001b[0mNone\u001b[0m\u001b[1;33m:\u001b[0m\u001b[1;33m\u001b[0m\u001b[0m\n\u001b[0;32m    296\u001b[0m             \u001b[1;32mfor\u001b[0m \u001b[0mcand\u001b[0m \u001b[1;32min\u001b[0m \u001b[0mpsfCandidateList\u001b[0m\u001b[1;33m:\u001b[0m\u001b[1;33m\u001b[0m\u001b[0m\n",
        "\u001b[1;32m/renoir_data_00/jpreyes/stacks/v9_2_copy/Linux64/meas_algorithms/9.2/python/lsst/meas/algorithms/secondMomentStarSelector.pyc\u001b[0m in \u001b[0;36mselectStars\u001b[1;34m(self, exposure, catalog, matches)\u001b[0m\n\u001b[0;32m    180\u001b[0m                 \u001b[0miqqList\u001b[0m\u001b[1;33m.\u001b[0m\u001b[0mappend\u001b[0m\u001b[1;33m(\u001b[0m\u001b[0ms\u001b[0m\u001b[1;33m.\u001b[0m\u001b[0mgetIxx\u001b[0m\u001b[1;33m(\u001b[0m\u001b[1;33m)\u001b[0m\u001b[1;33m)\u001b[0m\u001b[1;33m\u001b[0m\u001b[0m\n\u001b[0;32m    181\u001b[0m                 \u001b[0miqqList\u001b[0m\u001b[1;33m.\u001b[0m\u001b[0mappend\u001b[0m\u001b[1;33m(\u001b[0m\u001b[0ms\u001b[0m\u001b[1;33m.\u001b[0m\u001b[0mgetIyy\u001b[0m\u001b[1;33m(\u001b[0m\u001b[1;33m)\u001b[0m\u001b[1;33m)\u001b[0m\u001b[1;33m\u001b[0m\u001b[0m\n\u001b[1;32m--> 182\u001b[1;33m         \u001b[0mstat\u001b[0m \u001b[1;33m=\u001b[0m \u001b[0mafwMath\u001b[0m\u001b[1;33m.\u001b[0m\u001b[0mmakeStatistics\u001b[0m\u001b[1;33m(\u001b[0m\u001b[0miqqList\u001b[0m\u001b[1;33m,\u001b[0m \u001b[0mafwMath\u001b[0m\u001b[1;33m.\u001b[0m\u001b[0mMEANCLIP\u001b[0m \u001b[1;33m|\u001b[0m \u001b[0mafwMath\u001b[0m\u001b[1;33m.\u001b[0m\u001b[0mSTDEVCLIP\u001b[0m \u001b[1;33m|\u001b[0m \u001b[0mafwMath\u001b[0m\u001b[1;33m.\u001b[0m\u001b[0mMAX\u001b[0m\u001b[1;33m)\u001b[0m\u001b[1;33m\u001b[0m\u001b[0m\n\u001b[0m\u001b[0;32m    183\u001b[0m         \u001b[0miqqMean\u001b[0m \u001b[1;33m=\u001b[0m \u001b[0mstat\u001b[0m\u001b[1;33m.\u001b[0m\u001b[0mgetValue\u001b[0m\u001b[1;33m(\u001b[0m\u001b[0mafwMath\u001b[0m\u001b[1;33m.\u001b[0m\u001b[0mMEANCLIP\u001b[0m\u001b[1;33m)\u001b[0m\u001b[1;33m\u001b[0m\u001b[0m\n\u001b[0;32m    184\u001b[0m         \u001b[0miqqStd\u001b[0m \u001b[1;33m=\u001b[0m \u001b[0mstat\u001b[0m\u001b[1;33m.\u001b[0m\u001b[0mgetValue\u001b[0m\u001b[1;33m(\u001b[0m\u001b[0mafwMath\u001b[0m\u001b[1;33m.\u001b[0m\u001b[0mSTDEVCLIP\u001b[0m\u001b[1;33m)\u001b[0m\u001b[1;33m\u001b[0m\u001b[0m\n",
        "\u001b[1;32m/renoir_data_00/jpreyes/stacks/v9_2_copy/Linux64/afw/9.2/python/lsst/afw/math/mathLib.pyc\u001b[0m in \u001b[0;36mmakeStatistics\u001b[1;34m(*args)\u001b[0m\n\u001b[0;32m   5394\u001b[0m     \u001b[0mmakeStatistics\u001b[0m\u001b[1;33m(\u001b[0m\u001b[0mlsst\u001b[0m\u001b[1;33m:\u001b[0m\u001b[1;33m:\u001b[0m\u001b[0mafw\u001b[0m\u001b[1;33m:\u001b[0m\u001b[1;33m:\u001b[0m\u001b[0mmath\u001b[0m\u001b[1;33m:\u001b[0m\u001b[1;33m:\u001b[0m\u001b[0mMaskedVector\u001b[0m\u001b[1;33m<\u001b[0m \u001b[0mint\u001b[0m \u001b[1;33m>\u001b[0m \u001b[0mconst\u001b[0m \u001b[1;33m&\u001b[0m \u001b[0mmv\u001b[0m\u001b[1;33m,\u001b[0m \u001b[0mvectorF\u001b[0m \u001b[0mvweights\u001b[0m\u001b[1;33m,\u001b[0m \u001b[0mint\u001b[0m \u001b[0mconst\u001b[0m \u001b[0mflags\u001b[0m\u001b[1;33m)\u001b[0m \u001b[1;33m-\u001b[0m\u001b[1;33m>\u001b[0m \u001b[0mStatistics\u001b[0m\u001b[1;33m\u001b[0m\u001b[0m\n\u001b[0;32m   5395\u001b[0m     \"\"\"\n\u001b[1;32m-> 5396\u001b[1;33m   \u001b[1;32mreturn\u001b[0m \u001b[0m_mathLib\u001b[0m\u001b[1;33m.\u001b[0m\u001b[0mmakeStatistics\u001b[0m\u001b[1;33m(\u001b[0m\u001b[1;33m*\u001b[0m\u001b[0margs\u001b[0m\u001b[1;33m)\u001b[0m\u001b[1;33m\u001b[0m\u001b[0m\n\u001b[0m\u001b[0;32m   5397\u001b[0m \u001b[1;32mclass\u001b[0m \u001b[0mApproximateControl\u001b[0m\u001b[1;33m(\u001b[0m\u001b[0m_object\u001b[0m\u001b[1;33m)\u001b[0m\u001b[1;33m:\u001b[0m\u001b[1;33m\u001b[0m\u001b[0m\n\u001b[0;32m   5398\u001b[0m     \u001b[1;34m\"\"\"Proxy of C++ lsst::afw::math::ApproximateControl class\"\"\"\u001b[0m\u001b[1;33m\u001b[0m\u001b[0m\n",
        "\u001b[1;31mInvalidParameterError\u001b[0m: \n  File \"src/math/Statistics.cc\", line 747, in void lsst::afw::math::Statistics::doStatistics(const ImageT&, const MaskT&, const VarianceT&, const WeightT&, int, const lsst::afw::math::StatisticsControl&) [with ImageT = lsst::afw::math::ImageImposter<double>, MaskT = lsst::afw::math::MaskImposter<short unsigned int>, VarianceT = lsst::afw::math::MaskImposter<float>, WeightT = lsst::afw::math::MaskImposter<float>]\n    Image contains no pixels {0}\nlsst::pex::exceptions::InvalidParameterError: 'Image contains no pixels'\n"
       ]
      }
     ],
     "prompt_number": 122
    },
    {
     "cell_type": "markdown",
     "metadata": {},
     "source": [
      "This part creates a mosaic of the psf to be observed via ds9."
     ]
    },
    {
     "cell_type": "code",
     "collapsed": false,
     "input": [
      "import lsst.meas.algorithms.utils as measUtils\n",
      "cellSet = result.cellSet\n",
      "measUtils.showPsfMosaic(exposure, psf=psf, frame=frame); frame += 1"
     ],
     "language": "python",
     "metadata": {},
     "outputs": []
    },
    {
     "cell_type": "markdown",
     "metadata": {},
     "source": [
      "This method paints in ds9 the detected sources. a + is located on the centroid of the psf, an x is set in place if it is a psf candidate and a red circle is drawn if it was used at the end."
     ]
    },
    {
     "cell_type": "code",
     "collapsed": false,
     "input": [
      "ds9.mtv(exposure, frame=frame, title=\"Re-Measured Footprints\")\n",
      "with ds9.Buffering():\n",
      "    for s in sources:\n",
      "        xy = s.getCentroid()\n",
      "        ds9.dot('+', *xy, frame=frame)\n",
      "        if s.get(\"calib.psf.candidate\"):\n",
      "            ds9.dot('x', *xy, ctype=ds9.YELLOW, frame=frame)\n",
      "        if s.get(\"calib.psf.used\"):\n",
      "            ds9.dot('o', *xy, size=30, ctype=ds9.RED, frame=frame)\n",
      "frame += 1\n"
     ],
     "language": "python",
     "metadata": {},
     "outputs": []
    },
    {
     "cell_type": "markdown",
     "metadata": {},
     "source": [
      "This part creates the gaussian kernel that models the psf of the whole image. it seems to replicate a 2D-function using two equal 1-Dimensional gaussian functions. \n",
      "\n",
      "On the second part, the image is smoothed with this gaussian Kernel (via convolving with the 2D-gaussian)."
     ]
    },
    {
     "cell_type": "code",
     "collapsed": false,
     "input": [
      "shape = psf.computeShape()\n",
      "sigma = shape.getDeterminantRadius()\n",
      "print \"Psf approximate Gaussian sigma = %.3f pixels; FWHM = %.3f pixels\" % (sigma, sigma * 2. * np.sqrt(2. * np.log(2.)))\n",
      "kWidth = (int(sigma * 7 + 0.5) // 2) * 2 + 1 # make sure kernel size is odd\n",
      "gaussFunc = afwMath.GaussianFunction1D(sigma)\n",
      "gaussKernel = afwMath.SeparableKernel(kWidth, kWidth, gaussFunc, gaussFunc)\n",
      "\n",
      "im = exposure.getMaskedImage().getImage()\n",
      "smoothedIm = im.Factory(im.getDimensions())\n",
      "afwMath.convolve(smoothedIm, im, gaussKernel)\n",
      "ds9.mtv(smoothedIm, frame=frame, title=\"Detection Image (smoothed with appx Psf)\"); frame += 1"
     ],
     "language": "python",
     "metadata": {},
     "outputs": []
    },
    {
     "cell_type": "code",
     "collapsed": false,
     "input": [
      "\n",
      "#\n",
      "#Smooth image with a\n",
      "# 1 2 1\n",
      "# 2 4 2\n",
      "# 1 2 1\n",
      "# filter\n",
      "oneD = afwMath.PolynomialFunction1D([2, 0, -1])\n",
      "kernel = afwMath.SeparableKernel(3, 3, oneD, oneD)\n",
      "smoothedIm = im.Factory(im.getDimensions())\n",
      "afwMath.convolve(smoothedIm, im, kernel)\n",
      "\n",
      "\n",
      "ds9.mtv(smoothedIm, frame=frame, title=\"Detection Image (smoothed with a filter)\"); frame += 1"
     ],
     "language": "python",
     "metadata": {},
     "outputs": []
    },
    {
     "cell_type": "markdown",
     "metadata": {},
     "source": [
      "Footprints are detected over the Smoothed Image. Then, the footprints are being grown in 1 pixel (which operations was used?). "
     ]
    },
    {
     "cell_type": "code",
     "collapsed": false,
     "input": [
      "\n",
      "\n",
      "npixMin=1\n",
      "grow=1\n",
      "isotropic=False\n",
      "#fs0 = afwDetection.FootprintSet(smoothedIm, afwDetection.Threshold(threshold5), npixMin)\n",
      "fs0 = afwDetection.FootprintSet(smoothedIm, afwDetection.Threshold(threshold5), npixMin)\n",
      "fs = afwDetection.FootprintSet(fs0, grow, isotropic)\n",
      "ds9.mtv(smoothedIm, frame=frame, title=\"Re-detected and re-grown Footprints\")\n",
      "for footprint in fs.getFootprints():\n",
      "    \n",
      "    displayUtils.drawFootprint(footprint, frame=frame)\n",
      "#frame += 1\n"
     ],
     "language": "python",
     "metadata": {},
     "outputs": []
    },
    {
     "cell_type": "code",
     "collapsed": false,
     "input": [
      "for footprint in fs.getFootprints():\n",
      "        xs = footprint.getCentroid().getX()-exposure.getX0()\n",
      "        ys = footprint.getCentroid().getY()-exposure.getY0()\n",
      "        #print source.getCentroid().getX(),exposure.getX0()\n",
      "        ds9.dot(\"+\", xs, ys, frame=frame, size=5, ctype = ds9.RED)"
     ],
     "language": "python",
     "metadata": {},
     "outputs": []
    },
    {
     "cell_type": "markdown",
     "metadata": {},
     "source": [
      "This is the part that measures the centroid and the ApFlux of the detected sources and then stores them on the schema created at the beginning. It seems to emploi a 3 pixel aperture radius by default (why?)"
     ]
    },
    {
     "cell_type": "code",
     "collapsed": false,
     "input": [
      "apRad=3\n",
      "# Define the measurements we want to make\n",
      "ctrlCentroid = measAlg.SdssCentroidControl()\n",
      "ctrlAperture = measAlg.SincFluxControl()\n",
      "ctrlAperture.radius2 = apRad\n",
      "\n",
      "schema = afwTable.SourceTable.makeMinimalSchema()\n",
      "algorithms = [\n",
      "    measAlg.MeasureSourcesBuilder().addAlgorithm(ctrlCentroid).build(schema),\n",
      "    measAlg.MeasureSourcesBuilder().addAlgorithm(ctrlAperture).build(schema)]"
     ],
     "language": "python",
     "metadata": {},
     "outputs": []
    },
    {
     "cell_type": "markdown",
     "metadata": {},
     "source": [
      "This part creates the columns for the propoerties centroid and flux (sdss seems to be the algorithm implementation for sdsss images).  After using the footprints generated above, the algorithms are applied to each source."
     ]
    },
    {
     "cell_type": "code",
     "collapsed": false,
     "input": [
      "# Build a new, empty source catalog from this schema\n",
      "cat = afwTable.SourceCatalog(schema)\n",
      "table = cat.table\n",
      "table.defineCentroid(\"centroid.sdss\")\n",
      "table.defineApFlux(\"flux.sinc\")\n",
      "\n",
      "# Turn the Footprints into Sources \n",
      "fs.makeSources(cat)\n",
      "print \"Measuring %d objects\" % (len(cat))\n",
      "\n",
      "# And apply each algorithm to each Source, measuring on the orignal image\n",
      "for source in cat:\n",
      "    for alg in algorithms:\n",
      "        alg.apply(source, exposure)"
     ],
     "language": "python",
     "metadata": {},
     "outputs": []
    },
    {
     "cell_type": "code",
     "collapsed": false,
     "input": [
      "ds9.mtv(mi, frame=frame, title=\"Measured sources\",)\n",
      "ds9.setMaskTransparency(80)\n",
      "with ds9.Buffering():\n",
      "    for source in cat:\n",
      "        xs = source.getCentroid().getX()-exposure.getX0()\n",
      "        ys = source.getCentroid().getY()-exposure.getY0()\n",
      "        #print source.getCentroid().getX(),exposure.getX0()\n",
      "        ds9.dot(\"+\", xs, ys, frame=frame, ctype = ds9.RED)\n",
      "frame+=1\n",
      "                \n",
      "                "
     ],
     "language": "python",
     "metadata": {},
     "outputs": []
    },
    {
     "cell_type": "code",
     "collapsed": false,
     "input": [
      "for source in cat:\n",
      "    print source.getApFlux()"
     ],
     "language": "python",
     "metadata": {},
     "outputs": []
    },
    {
     "cell_type": "code",
     "collapsed": false,
     "input": [],
     "language": "python",
     "metadata": {},
     "outputs": []
    }
   ],
   "metadata": {}
  }
 ]
}