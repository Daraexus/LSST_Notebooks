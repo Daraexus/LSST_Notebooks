{
 "cells": [
  {
   "cell_type": "code",
   "execution_count": 432,
   "metadata": {
    "collapsed": false
   },
   "outputs": [],
   "source": [
    "import lsst.meas.astrom as measAstrom\n",
    "import lsst.daf.base as dafBase\n",
    "import lsst.pipe.base as pipeBase\n",
    "import lsst.daf.persistence as dafPersist\n",
    "\n",
    "import random\n",
    "import matplotlib.pyplot as plt\n",
    "import numpy as np\n",
    "\n",
    "import lsst.afw.display.ds9 as ds9\n",
    "import lsst.afw.table as afwTable\n",
    "\n",
    "import DiaSourceTools as DSTools\n",
    "import lsst.afw.display.utils as displayUtils\n",
    "import lsst.meas.algorithms.detection as sDet\n",
    "\n",
    "%matplotlib inline"
   ]
  },
  {
   "cell_type": "code",
   "execution_count": 305,
   "metadata": {
    "collapsed": false
   },
   "outputs": [],
   "source": [
    "#DATADIR=\"/renoir_data_02/jpreyes/lsst_data/CFHTLS_v11/\"\n",
    "DATADIR=\"/renoir_data_02/jpreyes/lsst_data/CFHTLS_master/\"\n",
    "butler = dafPersist.Butler(DATADIR+\"/output\")\n",
    "\n",
    "subset = butler.subset(\"deepDiff_diaSrc\")\n",
    "#file = open(\"diaSources.txt\", \"w\")\n",
    "diaSourcesList = []\n",
    "for dr_subSet in subset:\n",
    "    if dr_subSet.dataId[\"ccd\"]==14:\n",
    "        #file.write(\"visit=\"+str(dr_subSet.dataId[\"visit\"])+\"\\n\")\n",
    "        try:\n",
    "            diaSourcesList.append(dr_subSet)\n",
    "           \n",
    "        except:\n",
    "            pass\n",
    "            \n"
   ]
  },
  {
   "cell_type": "code",
   "execution_count": 423,
   "metadata": {
    "collapsed": false
   },
   "outputs": [],
   "source": [
    "dataId = {'visit': 800719, 'filter':'r' , 'ccd':14}\n",
    "diaSrcs = butler.get(\"deepDiff_diaSrc\", dataId)\n",
    "diffExp = butler.get(\"deepDiff_differenceExp\", dataId)\n",
    "sciExp  = butler.get(\"calexp\", {\"visit\":800719, \"ccd\":14, \"filter\":\"r\"})\n",
    "tmpExp = butler.get(\"deepDiff_warpedExp\", {\"visit\":800719, \"ccd\":14, \"filter\":\"r\"})\n",
    "bgConf = sDet.BackgroundConfig()\n",
    "background,tmpExp = sDet.estimateBackground(tmpExp,bgConf,True)"
   ]
  },
  {
   "cell_type": "code",
   "execution_count": 307,
   "metadata": {
    "collapsed": false
   },
   "outputs": [],
   "source": [
    "\n",
    "diff_stamp = DSTools.get_stamp(ds, diffExp)\n",
    "sci_stamp = DSTools.get_stamp(ds, sciExp)\n",
    "tmp_stamp = DSTools.get_stamp(ds, tmpExp)\n"
   ]
  },
  {
   "cell_type": "code",
   "execution_count": 308,
   "metadata": {
    "collapsed": false
   },
   "outputs": [
    {
     "data": {
      "text/plain": [
       "<lsst.afw.image.imageLib.MaskedImageF; proxy of <Swig Object of type 'boost::shared_ptr< lsst::afw::image::MaskedImage< float,lsst::afw::image::MaskPixel,lsst::afw::image::VariancePixel > > *' at 0x7fdfcd785900> >"
      ]
     },
     "execution_count": 308,
     "metadata": {},
     "output_type": "execute_result"
    }
   ],
   "source": [
    "im = displayUtils.Mosaic(gutter=5, background=5, mode=\"x\")\n",
    "im.append(sci_stamp.getMaskedImage())\n",
    "im.append(tmp_stamp.getMaskedImage())\n",
    "im.append(diff_stamp.getMaskedImage())\n",
    "im.makeMosaic(frame=4, title=\"mosaic\")"
   ]
  },
  {
   "cell_type": "code",
   "execution_count": 309,
   "metadata": {
    "collapsed": false
   },
   "outputs": [],
   "source": [
    "fluxes, sigmas = DSTools.get_fluxes_and_sigmas(diaSrcs, \"base_CircularApertureFlux_6_0_flux\")"
   ]
  },
  {
   "cell_type": "code",
   "execution_count": 310,
   "metadata": {
    "collapsed": true
   },
   "outputs": [],
   "source": [
    "m_sigma = np.mean(sigmas)\n",
    "t_sigma = 5*m_sigma"
   ]
  },
  {
   "cell_type": "code",
   "execution_count": 426,
   "metadata": {
    "collapsed": false
   },
   "outputs": [
    {
     "data": {
      "text/plain": [
       "<module 'DiaSourceTools' from 'DiaSourceTools.py'>"
      ]
     },
     "execution_count": 426,
     "metadata": {},
     "output_type": "execute_result"
    }
   ],
   "source": [
    "reload(DSTools)"
   ]
  },
  {
   "cell_type": "code",
   "execution_count": 312,
   "metadata": {
    "collapsed": false
   },
   "outputs": [],
   "source": [
    "sources = DSTools.get_sources_over_sigma(diaSrcs, t_sigma, \"base_CircularApertureFlux_6_0_flux\")"
   ]
  },
  {
   "cell_type": "code",
   "execution_count": 313,
   "metadata": {
    "collapsed": false
   },
   "outputs": [],
   "source": [
    "ds9.mtv(tmpExp)"
   ]
  },
  {
   "cell_type": "code",
   "execution_count": 424,
   "metadata": {
    "collapsed": false
   },
   "outputs": [
    {
     "name": "stdout",
     "output_type": "stream",
     "text": [
      "\n",
      "  File \"src/image/Image.cc\", line 92, in static lsst::afw::image::ImageBase<PixelT>::_view_t lsst::afw::image::ImageBase<PixelT>::_makeSubView(const Extent2I&, const Extent2I&, const _view_t&) [with PixelT = float; lsst::afw::image::ImageBase<PixelT>::_view_t = boost::gil::image_view<boost::gil::memory_based_2d_locator<boost::gil::memory_based_step_iterator<boost::gil::pixel<float, boost::gil::layout<boost::mpl::vector1<boost::gil::gray_color_t> > >*> > >; lsst::afw::geom::Extent2I = lsst::afw::geom::Extent<int, 2>]\n",
      "    Box2I(Point2I(1966,1713),Extent2I(85,178)) doesn't fit in image 2048x4612 {0}\n",
      "lsst::pex::exceptions::LengthError: 'Box2I(Point2I(1966,1713),Extent2I(85,178)) doesn't fit in image 2048x4612'\n",
      "\n"
     ]
    }
   ],
   "source": [
    "mosaic_dif = displayUtils.Mosaic(gutter=5, background=3, mode=\"square\")\n",
    "mosaic_sci = displayUtils.Mosaic(gutter=5, background=3, mode=\"square\")\n",
    "mosaic_tmp = displayUtils.Mosaic(gutter=5, background=3, mode=\"square\")\n",
    "\n",
    "for i, source in enumerate(sources):\n",
    "    try:\n",
    "        dif_stamp = DSTools.get_stamp(source, diffExp)\n",
    "        \n",
    "        negFlux   = np.abs(source.get(\"ip_diffim_PsfDipoleFlux_neg_flux\"))\n",
    "        posFlux   = np.abs(source.get(\"ip_diffim_PsfDipoleFlux_pos_flux\"))\n",
    "        totalFlux=negFlux+posFlux\n",
    "        passesFluxNeg = (negFlux / totalFlux)\n",
    "        passesFluxPos = (posFlux / totalFlux)\n",
    "        \n",
    "        mosaic_dif.append(dif_stamp.getMaskedImage(), label=str(i)+\"-\"+str(source.get(\"classification_dipole\")))\n",
    "        \n",
    "        sci_stamp = DSTools.get_stamp(source, sciExp)\n",
    "        mosaic_sci.append(sci_stamp.getMaskedImage(), label=str(i))\n",
    "\n",
    "        \n",
    "        tmp_stamp = DSTools.get_stamp(source, tmpExp)\n",
    "        mosaic_tmp.append(tmp_stamp.getMaskedImage(), label=str(i))\n",
    "    except Exception, e:\n",
    "        print e"
   ]
  },
  {
   "cell_type": "code",
   "execution_count": 425,
   "metadata": {
    "collapsed": false
   },
   "outputs": [],
   "source": [
    "mosaic_dif.makeMosaic(frame=1, title=\"mosaic_dif\")\n",
    "ds9.setMaskTransparency(100, frame=1)\n",
    "mosaic_sci.makeMosaic(frame=2, title=\"mosaic_science\")\n",
    "ds9.setMaskTransparency(100, frame=2)\n",
    "mosaic_tmp.makeMosaic(frame=3, title=\"mosaic_template\")\n",
    "ds9.setMaskTransparency(100, frame=3)"
   ]
  },
  {
   "cell_type": "code",
   "execution_count": 68,
   "metadata": {
    "collapsed": true
   },
   "outputs": [],
   "source": [
    "ds = sources[0]"
   ]
  },
  {
   "cell_type": "code",
   "execution_count": 71,
   "metadata": {
    "collapsed": false
   },
   "outputs": [
    {
     "data": {
      "text/plain": [
       "414.459228515625"
      ]
     },
     "execution_count": 71,
     "metadata": {},
     "output_type": "execute_result"
    }
   ],
   "source": [
    "ds.get(\"ip_diffim_NaiveDipoleCentroid_x\")"
   ]
  },
  {
   "cell_type": "code",
   "execution_count": 439,
   "metadata": {
    "collapsed": false,
    "scrolled": true
   },
   "outputs": [
    {
     "name": "stdout",
     "output_type": "stream",
     "text": [
      "=========source============\n",
      "0.192442720586 0.807557279414 1.0\n",
      "1993.54454803 8365.61344956 10359.1579976\n",
      "7624.72743915 12746.2383982\n",
      "414.459228516 34.1615562439\n",
      "418.897766113 24.1649017334\n",
      "410.020721436 44.1582107544\n",
      "=========source============\n",
      "0.723699588889 0.276300411111 1.0\n",
      "205100.671146 78305.1429448 283405.814091\n",
      "143773.383137 164699.895497\n",
      "103.003456116 128.702178955\n",
      "103.003456116 128.702178955\n",
      "nan nan\n",
      "=========source============\n",
      "0.730332307919 0.269667692081 1.0\n",
      "211387.315759 78052.5918927 289439.907652\n",
      "182277.786818 211299.378058\n",
      "1243.97680664 146.918212891\n",
      "1243.97680664 146.918212891\n",
      "nan nan\n",
      "=========source============\n",
      "0.843178101771 0.156821898229 1.0\n",
      "420530.720812 78214.1113042 498744.832117\n",
      "nan nan\n",
      "698.862304688 278.428497314\n",
      "698.821411133 276.105987549\n",
      "698.903137207 280.75100708\n",
      "=========source============\n",
      "0.843044547515 0.156955452485 1.0\n",
      "424854.139954 79098.0428891 503952.182843\n",
      "5249.21592579 1213.90352813\n",
      "510.371948242 314.905639648\n",
      "509.823303223 319.034545898\n",
      "510.920623779 310.776733398\n",
      "=========source============\n",
      "0.841167807456 0.158832192544 1.0\n",
      "424854.139954 80222.416933 505076.556887\n",
      "nan nan\n",
      "284.054046631 588.203918457\n",
      "nan nan\n",
      "284.054046631 588.203918457\n",
      "=========source============\n",
      "0.843850914642 0.156149085358 1.0\n",
      "433532.862191 80222.416933 513755.279124\n",
      "43.3192977905 30.7050228119\n",
      "628.049987793 738.819274902\n",
      "628.049987793 738.819274902\n",
      "nan nan\n",
      "=========source============\n",
      "0.790346757539 0.209653242461 1.0\n",
      "474278.271657 125810.571794 600088.843452\n",
      "17821.7965325 65087.3445675\n",
      "1421.36743164 927.690551758\n",
      "1421.36743164 927.690551758\n",
      "nan nan\n",
      "=========source============\n",
      "0.819469518259 0.180530481741 1.0\n",
      "577014.677394 127117.281804 704131.959198\n",
      "88399.5527053 38167.1594871\n",
      "1504.06225586 1090.94885254\n",
      "1504.06225586 1090.94885254\n",
      "nan nan\n",
      "=========source============\n",
      "0.817265389255 0.182734610745 1.0\n",
      "577014.677394 129016.294896 706030.97229\n",
      "nan nan\n",
      "1393.06811523 1235.68737793\n",
      "nan nan\n",
      "1393.06811523 1235.68737793\n",
      "=========source============\n",
      "0.844504093248 0.155495906752 1.0\n",
      "700692.329535 129016.294896 829708.62443\n",
      "76879.9648766 31549.3375174\n",
      "669.982299805 1315.90185547\n",
      "669.982299805 1315.90185547\n",
      "nan nan\n",
      "=========source============\n",
      "0.836311481855 0.163688518145 1.0\n",
      "700692.329535 137144.223875 837836.55341\n",
      "-24.5038776398 35.3201522827\n",
      "539.82989502 1379.85949707\n",
      "nan nan\n",
      "539.82989502 1379.85949707\n",
      "=========source============\n",
      "0.855880506891 0.144119493109 1.0\n",
      "807640.733321 135996.523069 943637.25639\n",
      "75101.2881795 74043.0716955\n",
      "1305.93054199 1556.44628906\n",
      "1305.93054199 1556.44628906\n",
      "nan nan\n",
      "=========source============\n",
      "0.85264409186 0.14735590814 1.0\n",
      "810269.183513 140032.579261 950301.762774\n",
      "nan nan\n",
      "343.077392578 1559.04003906\n",
      "341.357025146 1559.77966309\n",
      "344.797729492 1558.30053711\n",
      "=========source============\n",
      "0.854876058286 0.145123941714 1.0\n",
      "825534.962791 140142.991094 965677.953885\n",
      "nan nan\n",
      "898.617797852 1564.93469238\n",
      "898.169677734 1564.02294922\n",
      "899.065917969 1565.84643555\n",
      "\n",
      "  File \"src/image/Image.cc\", line 92, in static lsst::afw::image::ImageBase<PixelT>::_view_t lsst::afw::image::ImageBase<PixelT>::_makeSubView(const Extent2I&, const Extent2I&, const _view_t&) [with PixelT = float; lsst::afw::image::ImageBase<PixelT>::_view_t = boost::gil::image_view<boost::gil::memory_based_2d_locator<boost::gil::memory_based_step_iterator<boost::gil::pixel<float, boost::gil::layout<boost::mpl::vector1<boost::gil::gray_color_t> > >*> > >; lsst::afw::geom::Extent2I = lsst::afw::geom::Extent<int, 2>]\n",
      "    Box2I(Point2I(1966,1713),Extent2I(85,178)) doesn't fit in image 2048x4612 {0}\n",
      "lsst::pex::exceptions::LengthError: 'Box2I(Point2I(1966,1713),Extent2I(85,178)) doesn't fit in image 2048x4612'\n",
      "\n",
      "=========source============\n",
      "0.852611235122 0.147388764878 1.0\n",
      "825534.962791 142708.157619 968243.12041\n",
      "nan nan\n",
      "585.753234863 1924.74438477\n",
      "nan nan\n",
      "585.753234863 1924.74438477\n",
      "=========source============\n",
      "0.851953741427 0.148046258573 1.0\n",
      "825534.962791 143455.397423 968990.360214\n",
      "nan nan\n",
      "1410.71472168 2284.93066406\n",
      "nan nan\n",
      "1410.71472168 2284.93066406\n",
      "=========source============\n",
      "0.848217437711 0.151782562289 1.0\n",
      "825534.962791 147723.692464 973258.655255\n",
      "-23.1031227112 67.9457626343\n",
      "1493.95605469 2361.06762695\n",
      "nan nan\n",
      "1493.95605469 2361.06762695\n",
      "=========source============\n",
      "0.850838285471 0.149161714529 1.0\n",
      "853870.323168 149693.265529 1003563.5887\n",
      "nan nan\n",
      "1149.10534668 2697.27514648\n",
      "1149.10534668 2697.27514648\n",
      "nan nan\n",
      "=========source============\n",
      "0.801149532782 0.198850467218 1.0\n",
      "811759.248802 201483.866979 1013243.11578\n",
      "nan nan\n",
      "1314.2923584 3043.24804688\n",
      "1314.2923584 3043.24804688\n",
      "nan nan\n",
      "=========source============\n",
      "0.80141823366 0.19858176634 1.0\n",
      "815085.432014 201968.333148 1017053.76516\n",
      "44469.8989565 41799.0665924\n",
      "1077.32958984 3219.76782227\n",
      "1076.78662109 3218.11132812\n",
      "1077.87243652 3221.42431641\n",
      "=========source============\n",
      "0.677144960175 0.322855039825 1.0\n",
      "820439.100179 391176.06117 1211615.16135\n",
      "nan nan\n",
      "746.597167969 3233.73632812\n",
      "749.16418457 3231.53930664\n",
      "744.030151367 3235.93359375\n",
      "=========source============\n",
      "0.665848053818 0.334151946182 1.0\n",
      "794369.762164 398649.812812 1193019.57498\n",
      "183378.371124 184344.773864\n",
      "1130.97851562 3437.65332031\n",
      "1132.90454102 3437.2590332\n",
      "1129.05236816 3438.04785156\n"
     ]
    }
   ],
   "source": [
    "positive_mask = []\n",
    "negative_mask = []\n",
    "mosaic_dif = displayUtils.Mosaic(gutter=5, background=3, mode=\"square\")\n",
    "\n",
    "label = \"\"\n",
    "for source in sources:\n",
    "    try:\n",
    "        dif_stamp = DSTools.get_stamp(source, diffExp)\n",
    "\n",
    "        mi = dif_stamp.getMaskedImage()\n",
    "        mask = mi.getMask()\n",
    "\n",
    "\n",
    "        bitmask_detected = mask.getPlaneBitMask(\"DETECTED\")\n",
    "        bitmask_detected_neg = mask.getPlaneBitMask(\"DETECTED_NEGATIVE\")\n",
    "\n",
    "        for x in range(0, mi.getWidth()):\n",
    "            for y in range (0, mi.getHeight()):\n",
    "                u =  mi.getMask()[x,y]\n",
    "\n",
    "                if u.get(0,0) & bitmask_detected != 0 and u.get(0,0):\n",
    "                        positive_mask.append(mi.getImage().get(x,y))\n",
    "                elif u.get(0,0) & bitmask_detected_neg != 0 and u.get(0,0):\n",
    "                        negative_mask.append(mi.getImage().get(x,y))\n",
    "\n",
    "        positive_flux = np.sum(positive_mask)\n",
    "        negative_flux = np.abs(np.sum(negative_mask))\n",
    "        total_flux = positive_flux+negative_flux\n",
    "        print \"=========source============\"\n",
    "        print positive_flux/total_flux, negative_flux/total_flux, positive_flux/total_flux + negative_flux/total_flux\n",
    "        print positive_flux, negative_flux, total_flux\n",
    "        print source.get(\"ip_diffim_PsfDipoleFlux_pos_flux\"), np.abs(source.get(\"ip_diffim_PsfDipoleFlux_neg_flux\"))\n",
    "        print source.get(\"ip_diffim_NaiveDipoleCentroid_x\"), source.get(\"ip_diffim_NaiveDipoleCentroid_y\")\n",
    "        print source.get(\"ip_diffim_NaiveDipoleCentroid_pos_x\"), source.get(\"ip_diffim_NaiveDipoleCentroid_pos_y\")\n",
    "        print source.get(\"ip_diffim_NaiveDipoleCentroid_neg_x\"), source.get(\"ip_diffim_NaiveDipoleCentroid_neg_y\")\n",
    "        \n",
    "        if positive_flux/total_flux < 0.65 and negative_flux/total_flux < 0.65:\n",
    "            label += \"dipole\"\n",
    "\n",
    "        mosaic_dif.append(mi, label=label)\n",
    "\n",
    "    except Exception, e:\n",
    "        print e\n",
    "mosaic_dif.makeMosaic(frame=4, title=\"mosaic_dif_corrected\")\n",
    "ds9.setMaskTransparency(100, frame=4)"
   ]
  },
  {
   "cell_type": "code",
   "execution_count": 349,
   "metadata": {
    "collapsed": true
   },
   "outputs": [],
   "source": [
    "from lsst.meas.base import SingleFrameMeasurementTask\n",
    "import lsst.afw.geom as afwGeom\n",
    "from lsst.meas.algorithms.detection import SourceDetectionTask\n",
    "from lsst.ip.diffim import DipoleMeasurementTask"
   ]
  },
  {
   "cell_type": "code",
   "execution_count": 362,
   "metadata": {
    "collapsed": true
   },
   "outputs": [],
   "source": [
    "source = sources[13]\n",
    "dif_stamp = DSTools.get_stamp(source, diffExp)\n",
    "ds9.mtv(dif_stamp, frame=6)"
   ]
  },
  {
   "cell_type": "markdown",
   "metadata": {},
   "source": [
    "# DIASource detection and measurement"
   ]
  },
  {
   "cell_type": "markdown",
   "metadata": {},
   "source": [
    "This code replicates the basic process of detecting a DIASource on a subtracted image using the SourceDetectionTask. In order to get the dipole lobe detection, attribute thresholdPolarity should be set to \"both\". Next step is to measure such detections (which includes dipoles) in order to get the Fluxes, Sigma and Centroids of all the sources (using the Naive, PSF and Ap Methods)."
   ]
  },
  {
   "cell_type": "code",
   "execution_count": 428,
   "metadata": {
    "collapsed": false
   },
   "outputs": [
    {
     "name": "stdout",
     "output_type": "stream",
     "text": [
      "\n",
      "  File \"src/image/Image.cc\", line 92, in static lsst::afw::image::ImageBase<PixelT>::_view_t lsst::afw::image::ImageBase<PixelT>::_makeSubView(const Extent2I&, const Extent2I&, const _view_t&) [with PixelT = float; lsst::afw::image::ImageBase<PixelT>::_view_t = boost::gil::image_view<boost::gil::memory_based_2d_locator<boost::gil::memory_based_step_iterator<boost::gil::pixel<float, boost::gil::layout<boost::mpl::vector1<boost::gil::gray_color_t> > >*> > >; lsst::afw::geom::Extent2I = lsst::afw::geom::Extent<int, 2>]\n",
      "    Box2I(Point2I(1966,1713),Extent2I(85,178)) doesn't fit in image 2048x4612 {0}\n",
      "lsst::pex::exceptions::LengthError: 'Box2I(Point2I(1966,1713),Extent2I(85,178)) doesn't fit in image 2048x4612'\n",
      "\n"
     ]
    }
   ],
   "source": [
    "#test_stamp = dif_stamp.clone()\n",
    "mosaic_corr_dif = displayUtils.Mosaic(gutter=5, background=3, mode=\"square\")\n",
    "\n",
    "for source in sources:\n",
    "    try:\n",
    "        test_stamp = DSTools.get_stamp(source, diffExp)\n",
    "        test_stamp = test_stamp.clone()\n",
    "\n",
    "        mask  = test_stamp.getMaskedImage().getMask()\n",
    "        mask &= ~(mask.getPlaneBitMask(\"DETECTED\") | mask.getPlaneBitMask(\"DETECTED_NEGATIVE\"))\n",
    "\n",
    "        schema = afwTable.SourceTable.makeMinimalSchema()\n",
    "\n",
    "        #DipoleMeasurementTask.algorithms.names.add('base_PeakLikelihoodFlux')\n",
    "        DMTask = DipoleMeasurementTask(schema=schema, algMetadata=algMetadata)\n",
    "\n",
    "        table = afwTable.SourceTable.make(schema)\n",
    "\n",
    "        config = SourceDetectionTask.ConfigClass()\n",
    "        config.thresholdPolarity = \"both\"\n",
    "        config.thresholdValue = 5.5\n",
    "        config.reEstimateBackground = False\n",
    "        config.thresholdType = \"pixel_stdev\"\n",
    "\n",
    "\n",
    "\n",
    "        detectionTask = SourceDetectionTask(config=config, schema=schema)\n",
    "\n",
    "        table = afwTable.SourceTable.make(schema)\n",
    "        #sources = detectionTask.run(table, exposure, sigma=2).sources\n",
    "        results = detectionTask.makeSourceCatalog(table=table, exposure=test_stamp , doSmooth=not False )\n",
    "        DMTask.run(results.sources, test_stamp)\n",
    "\n",
    "\n",
    "        mosaic_corr_dif.append(test_stamp.getMaskedImage(), label = str(DSTools.get_naive_dipole_probability(source)))\n",
    "    except Exception, e:\n",
    "        print e\n",
    "\n",
    "mosaic_corr_dif.makeMosaic(frame=6, title=\"mosaic_dif_corrected\")\n",
    "ds9.setMaskTransparency(100, frame=6)"
   ]
  },
  {
   "cell_type": "code",
   "execution_count": 375,
   "metadata": {
    "collapsed": false
   },
   "outputs": [
    {
     "name": "stdout",
     "output_type": "stream",
     "text": [
      "0.0 nan nan nan nan nan\n",
      "0.0 nan nan nan nan nan\n"
     ]
    }
   ],
   "source": [
    "for s in results.sources:\n",
    "    flag = s.get(\"classification_dipole\")\n",
    "    pos = s.get(\"ip_diffim_PsfDipoleFlux_pos_flux\")\n",
    "    neg = np.abs(s.get(\"ip_diffim_PsfDipoleFlux_neg_flux\"))\n",
    "    tot = pos+neg\n",
    "    pos_per = pos/tot\n",
    "    neg_per = neg/tot\n",
    "    print flag, pos, neg, tot, pos_per, neg_per"
   ]
  },
  {
   "cell_type": "markdown",
   "metadata": {},
   "source": [
    "Utility to remove a mask from a stamp and then visualize it."
   ]
  },
  {
   "cell_type": "code",
   "execution_count": null,
   "metadata": {
    "collapsed": true
   },
   "outputs": [],
   "source": [
    "# mask  = test_stamp.getMaskedImage().getMask()\n",
    "mask &= ~(mask.getPlaneBitMask(\"SAT\"))\n",
    "mask &= ~(mask.getPlaneBitMask(\"INTRP\"))\n",
    "\n",
    "\n",
    "ds9.mtv(test_stamp, frame=7)"
   ]
  },
  {
   "cell_type": "markdown",
   "metadata": {},
   "source": [
    "# Detected Objects Study"
   ]
  },
  {
   "cell_type": "code",
   "execution_count": 445,
   "metadata": {
    "collapsed": false
   },
   "outputs": [],
   "source": [
    "total = len(sources)\n",
    "dipoles = 0\n",
    "nan_dipoles = 0\n",
    "nan_non_dipoles = 0\n",
    "\n",
    "naive_dipoles = 0\n",
    "nan_naive_dipoles = 0\n",
    "nan_non_naive_dipoles = 0\n",
    "\n",
    "for s in sources:\n",
    "        if s.get(\"classification_dipole\") == 1:\n",
    "            dipoles += 1\n",
    "            if np.isnan(s.get(\"ip_diffim_PsfDipoleFlux_pos_flux\")) or np.isnan(s.get(\"ip_diffim_PsfDipoleFlux_neg_flux\")):\n",
    "                nan_dipoles+=1\n",
    "        elif np.isnan(s.get(\"ip_diffim_PsfDipoleFlux_pos_flux\")) or np.isnan(s.get(\"ip_diffim_PsfDipoleFlux_neg_flux\")):\n",
    "            nan_non_dipoles += 1\n",
    "            \n",
    "        if DSTools.get_naive_dipole_probability(s) > 0:\n",
    "            naive_dipoles += 1\n",
    "            if np.isnan(s.get(\"ip_diffim_PsfDipoleFlux_pos_flux\")) or np.isnan(s.get(\"ip_diffim_PsfDipoleFlux_neg_flux\")):\n",
    "                nan_naive_dipoles+=1\n",
    "        elif np.isnan(s.get(\"ip_diffim_PsfDipoleFlux_pos_flux\")) or np.isnan(s.get(\"ip_diffim_PsfDipoleFlux_neg_flux\")):\n",
    "            nan_non_naive_dipoles +=1\n",
    "            "
   ]
  },
  {
   "cell_type": "code",
   "execution_count": 446,
   "metadata": {
    "collapsed": false
   },
   "outputs": [
    {
     "name": "stdout",
     "output_type": "stream",
     "text": [
      "24 5 0 10\n",
      "24 11 4 6\n"
     ]
    }
   ],
   "source": [
    "print total, dipoles, nan_dipoles, nan_non_dipoles\n",
    "print total, naive_dipoles, nan_naive_dipoles, nan_non_naive_dipoles"
   ]
  },
  {
   "cell_type": "code",
   "execution_count": 495,
   "metadata": {
    "collapsed": false
   },
   "outputs": [
    {
     "data": {
      "image/png": "[encoded data removed]",
      "text/plain": [
       "<matplotlib.figure.Figure at 0x7fdf7c7e7410>"
      ]
     },
     "metadata": {},
     "output_type": "display_data"
    }
   ],
   "source": [
    "psf_flux_data = [dipoles, nan_non_dipoles, total-(dipoles+nan_dipoles)]\n",
    "labels = ('dipoles', 'possible dipoles','others')\n",
    "\n",
    "ind = np.arange(len(psf_flux_data))\n",
    "\n",
    "plt.bar(ind, psf_flux_data, align='center')\n",
    "ax = plt.axes()\n",
    "\n",
    "\n",
    "\n",
    "plt.xticks(ind, labels)\n",
    "plt.yticks(np.arange(0, total+10, 5))\n",
    "\n",
    "plt.show()"
   ]
  },
  {
   "cell_type": "code",
   "execution_count": 496,
   "metadata": {
    "collapsed": false
   },
   "outputs": [
    {
     "data": {
      "image/png": "[encoded data removed]",
      "text/plain": [
       "<matplotlib.figure.Figure at 0x7fdf62ae1190>"
      ]
     },
     "metadata": {},
     "output_type": "display_data"
    }
   ],
   "source": [
    "psf_flux_data = [naive_dipoles, nan_non_naive_dipoles, total-(dipoles+nan_dipoles)]\n",
    "labels = ('naive dipoles', 'possible dipoles','others')\n",
    "\n",
    "ind = np.arange(len(psf_flux_data))\n",
    "\n",
    "plt.bar(ind, psf_flux_data, align='center')\n",
    "ax = plt.axes()\n",
    "\n",
    "plt.xticks(ind, labels)\n",
    "\n",
    "plt.yticks(np.arange(0, total+10, 5))\n",
    "\n",
    "plt.show()"
   ]
  },
  {
   "cell_type": "code",
   "execution_count": 503,
   "metadata": {
    "collapsed": false
   },
   "outputs": [
    {
     "data": {
      "image/png": "[encoded data removed]",
      "text/plain": [
       "<matplotlib.figure.Figure at 0x7fdf5b9b3250>"
      ]
     },
     "metadata": {},
     "output_type": "display_data"
    }
   ],
   "source": [
    "psf_flux_data = [naive_dipoles-nan_naive_dipoles, nan_non_naive_dipoles, total-(dipoles+nan_dipoles)]\n",
    "psf_flux_extra_data = [nan_naive_dipoles, 0, 0]\n",
    "\n",
    "labels = ('naive dipoles', 'possible dipoles','others')\n",
    "\n",
    "ind = np.arange(len(psf_flux_data))\n",
    "\n",
    "p1 = plt.bar(ind, psf_flux_data, align='center')\n",
    "ax = plt.axes()\n",
    "\n",
    "\n",
    "\n",
    "\n",
    "p2 =plt.bar(ind, psf_flux_extra_data, color='y', align='center', bottom=psf_flux_data)\n",
    "plt.xticks(ind, labels)\n",
    "plt.legend((p1[0], p2[0]), ('classified objects','re-classified objects'))\n",
    "plt.yticks(np.arange(0, total+10, 5))\n",
    "plt.title(\"\")\n",
    "plt.show()"
   ]
  },
  {
   "cell_type": "code",
   "execution_count": null,
   "metadata": {
    "collapsed": true
   },
   "outputs": [],
   "source": []
  }
 ],
 "metadata": {
  "kernelspec": {
   "display_name": "Python 2",
   "language": "python",
   "name": "python2"
  },
  "language_info": {
   "codemirror_mode": {
    "name": "ipython",
    "version": 2
   },
   "file_extension": ".py",
   "mimetype": "text/x-python",
   "name": "python",
   "nbconvert_exporter": "python",
   "pygments_lexer": "ipython2",
   "version": "2.7.11"
  }
 },
 "nbformat": 4,
 "nbformat_minor": 0
}
