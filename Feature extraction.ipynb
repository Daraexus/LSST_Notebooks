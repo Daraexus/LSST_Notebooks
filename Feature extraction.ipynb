{
 "cells": [
  {
   "cell_type": "code",
   "execution_count": 1,
   "metadata": {
    "collapsed": true
   },
   "outputs": [],
   "source": [
    "from astropy.io import ascii\n",
    "import glob\n",
    "import matplotlib.pyplot as plt\n",
    "import numpy as np\n",
    "from scipy import asarray as ar, exp\n",
    "from scipy.optimize import curve_fit, least_squares\n",
    "\n",
    "%matplotlib inline\n",
    "\n",
    "snls_colors = {\"sdssg\":\"darkgreen\", \"sdssi\":\"darkblue\", \"sdssr\":\"darkred\", \"sdssz\":\"purple\"}"
   ]
  },
  {
   "cell_type": "code",
   "execution_count": 2,
   "metadata": {
    "collapsed": true
   },
   "outputs": [],
   "source": [
    "def show_multi_filter_light_curve(t, colors, n_factor = None):\n",
    "\n",
    "    t_by_filter = t.group_by(\"bandpass\")\n",
    "\n",
    "    indices = t_by_filter.groups.indices\n",
    "    #print indices\n",
    "\n",
    "    for i in range(0, len(indices)-1):\n",
    "\n",
    "        data = t_by_filter[indices[i]:indices[i+1]]\n",
    "        \n",
    "        if n_factor is not None:\n",
    "            value = n_factor[data[0][\"bandpass\"]]\n",
    "            f = value if np.isnan(value) == False else 1\n",
    "            plt.errorbar(data[\"mjd\"], data[\"flux\"]*f,yerr=data[\"flux_error\"]*f, fmt='.', markersize='5', label=data[0][\"bandpass\"], c=colors[data[0][\"bandpass\"]])            \n",
    "        else:\n",
    "            plt.errorbar(data[\"mjd\"], data[\"flux\"],yerr=data[\"flux_error\"], fmt='.', markersize='5', label=data[0][\"bandpass\"], c=colors[data[0][\"bandpass\"]])\n",
    "    plt.legend()\n",
    "    #plt.show()"
   ]
  },
  {
   "cell_type": "code",
   "execution_count": 3,
   "metadata": {
    "collapsed": true
   },
   "outputs": [],
   "source": [
    "def get_max_index(fluxes):\n",
    "    max_val = 0\n",
    "    max_index = -1\n",
    "    for i, elem in enumerate(fluxes):\n",
    "        \n",
    "        if max_val<elem:\n",
    "            max_val = elem\n",
    "            max_index = i\n",
    "            \n",
    "    return max_index"
   ]
  },
  {
   "cell_type": "code",
   "execution_count": 4,
   "metadata": {
    "collapsed": true
   },
   "outputs": [],
   "source": [
    "def mod_gauss(t, a, t0, tf, tr, b):\n",
    "    return a*((exp(-(t-t0)/tf))/(1+exp(-(t-t0)/tr)))+b\n",
    "\n",
    "def gauss(x, a, x0, sigma, b):\n",
    "    return a*exp(-(x-x0)**2/(2*sigma**2))+b\n",
    "\n",
    "\n",
    "def residuals(p, x, y):\n",
    "    a, m, s, b = p\n",
    "    y_fit = gauss(x, a, m, s, b)\n",
    "    \n",
    "    err = y - y_fit\n",
    "    return err\n",
    "    "
   ]
  },
  {
   "cell_type": "code",
   "execution_count": 5,
   "metadata": {},
   "outputs": [
    {
     "name": "stdout",
     "output_type": "stream",
     "text": [
      "1.5\n"
     ]
    }
   ],
   "source": [
    "print mod_gauss(1,1,1,1,1,1)"
   ]
  },
  {
   "cell_type": "code",
   "execution_count": 18,
   "metadata": {},
   "outputs": [
    {
     "data": {
      "text/plain": [
       "array([ 0.,  0.,  0.,  0.,  0.,  0.,  0.,  0.,  0.,  0.,  0.,  0.,  0.,\n",
       "        0.,  0.,  0.,  0.,  0.,  0.,  0.,  0.,  0.,  0.,  0.,  0.,  0.,\n",
       "        0.,  0.,  0.,  0.,  0.,  0.,  0.,  0.,  0.,  0.,  0.,  0.,  0.,\n",
       "        0.,  0.,  0.,  0.,  0.,  0.,  0.,  0.,  0.,  0.,  0.,  0.,  0.,\n",
       "        0.,  0.,  0.,  0.,  0.,  0.,  0.,  0.,  0.,  0.,  0.,  0.,  0.,\n",
       "        0.,  0.,  0.,  0.,  0.,  0.,  0.,  0.,  0.,  0.,  0.,  0.,  0.,\n",
       "        0.,  0.,  0.,  0.,  0.,  0.,  0.,  0.,  0.,  0.,  0.,  0.,  0.,\n",
       "        0.,  0.,  0.,  0.,  0.,  0.,  0.,  0.,  0.])"
      ]
     },
     "execution_count": 18,
     "metadata": {},
     "output_type": "execute_result"
    }
   ],
   "source": [
    "x = np.arange(100, dtype=np.float)\n",
    "y = np.zeros_like(x)\n",
    "yn = y + np.random.normal(size=len(y))\n",
    "y"
   ]
  },
  {
   "cell_type": "code",
   "execution_count": 41,
   "metadata": {
    "collapsed": true
   },
   "outputs": [],
   "source": [
    "def show_fit_mod_gaussians(t, colors, n_factor = None):\n",
    "\n",
    "    t_by_filter = t.group_by(\"bandpass\")\n",
    "    min_date = min(t[\"mjd\"])\n",
    "    max_date = max(t[\"mjd\"])\n",
    "    \n",
    "    indices = t_by_filter.groups.indices\n",
    "    max_i = get_max_index(t_by_filter[\"flux\"])\n",
    "    mean_date = t_by_filter[max_i][\"mjd\"]-min_date\n",
    "    \n",
    "  \n",
    "    for i in range(0, len(indices)-1):\n",
    "\n",
    "        data = t_by_filter[indices[i]:indices[i+1]]\n",
    "        x = data[\"mjd\"]-min_date\n",
    "        y = data[\"flux\"]\n",
    "        \n",
    "        n = len(x)\n",
    "        sigma = np.std(y)\n",
    "        \n",
    "      \n",
    "        popt, pcov = curve_fit(mod_gauss, x, y, p0=[1, mean_date, 1, 1, 0], maxfev=5000,  sigma = data[\"flux_error\"])\n",
    "        \n",
    "        \n",
    "        c = (y - mod_gauss(x, *popt))\n",
    "        chi = (y - mod_gauss(x, *popt))/data[\"flux_error\"]\n",
    "        chi2 = (chi**2).sum()\n",
    "        print chi2\n",
    "        print len(x) - len(popt)\n",
    "        \n",
    "        plt.plot(x, y, 'b+', color=colors[data[0][\"bandpass\"]])\n",
    "        \n",
    "        X = np.arange(0,max_date-min_date,1)\n",
    "        \n",
    "        plt.plot(X, mod_gauss(X, *popt), color=colors[data[0][\"bandpass\"]])\n",
    "        #print gauss(X, *popt)\n",
    "        #plt.xlim(xmin=400, xmax=500)\n",
    "        #plt.show()\n",
    "        #plt.legend()\n",
    "    \n",
    "    return popt, pcov, c\n",
    "    plt.show()"
   ]
  },
  {
   "cell_type": "code",
   "execution_count": 26,
   "metadata": {
    "collapsed": true
   },
   "outputs": [],
   "source": [
    "def show_fit_gaussians(t, colors, n_factor = None):\n",
    "\n",
    "    t_by_filter = t.group_by(\"bandpass\")\n",
    "    min_date = min(t[\"mjd\"])\n",
    "    max_date = max(t[\"mjd\"])\n",
    "    \n",
    "    indices = t_by_filter.groups.indices\n",
    "    max_i = get_max_index(t_by_filter[\"flux\"])\n",
    "    mean_date = t_by_filter[max_i][\"mjd\"]-min_date\n",
    "    \n",
    "  \n",
    "    for i in range(0, len(indices)-1):\n",
    "\n",
    "        data = t_by_filter[indices[i]:indices[i+1]]\n",
    "        x = data[\"mjd\"]-min_date\n",
    "        y = data[\"flux\"]\n",
    "        \n",
    "        n = len(x)\n",
    "        sigma = np.std(y)\n",
    "        \n",
    "      \n",
    "        popt, pcov = curve_fit(gauss, x, y, p0=[1, mean_date, sigma, 1], sigma = data[\"flux_error\"])\n",
    "        \n",
    "        plt.plot(x, y, 'b+', color=colors[data[0][\"bandpass\"]])\n",
    "        \n",
    "        X = np.arange(0,max_date-min_date,1)\n",
    "        \n",
    "        plt.plot(X, gauss(X, *popt), color=colors[data[0][\"bandpass\"]])\n",
    "        #print gauss(X, *popt)\n",
    "        #plt.xlim(xmin=400, xmax=500)\n",
    "        #plt.show()\n",
    "        #plt.legend()\n",
    "        \n",
    "        \n",
    "    plt.show()"
   ]
  },
  {
   "cell_type": "code",
   "execution_count": 8,
   "metadata": {
    "collapsed": true
   },
   "outputs": [],
   "source": [
    "curves = [554000,   20003,  362011,   69015,  393015,  367516,  161020,  275024,\n",
    "  254525,  488529,  353043,  323044,  275045,  427057,  334559,  237060,\n",
    "  152584,   96086,  378589,  528591,  530591,  499597,  364100,  205609,\n",
    "  238624,  171628,  215129,  548130,  508136,  275139,  282642,  489662,\n",
    "  328663,  300671,  603671,  252672,  162173,  563183,  199187,  320194,\n",
    "  589709,  181218,  354226,  321730,  375231,  371244,  588754,  169755,\n",
    "  100761,  102262,  409763,  452764,  491269,  585770,  320271,  391771,\n",
    "  307774,  452780,  103782,  450288,  159790,  277301,  270321,   84323,\n",
    "  305823,  560323,  152326,  447832,  146839,  145345,  238345,   69346,\n",
    "   86347,  231850,   72360,  536862,  201863,  220368,  437374,  157377,\n",
    "  295384,  606385,  168391,  454891,  150894,  152407,    8910,  527422,\n",
    "  330434,  532940,  607447,  563958,  550462,  527464,  206968,  275472,\n",
    "  387472,  541474,  352982,  354483,  538486,  127487,  395488,   51991,\n",
    "   51997,]\n",
    "lcs = []\n",
    "for c in curves:\n",
    "\n",
    "    lienObj = glob.glob(\"/datadec/cppm/jpreyes/mpi_tests/multicolour_set/\"+str(c)+\".dat\")\n",
    "\n",
    "\n",
    "    for oj in lienObj:\n",
    "        table = ascii.read(oj)\n",
    "        lcs.append(table)\n",
    "        break\n",
    "\n",
    "#show_multi_filter_light_curve(lcs[0], snls_colors)"
   ]
  },
  {
   "cell_type": "code",
   "execution_count": 29,
   "metadata": {},
   "outputs": [
    {
     "data": {
      "image/png": "[encoded data removed]",
      "text/plain": [
       "<matplotlib.figure.Figure at 0x7ff62b046550>"
      ]
     },
     "metadata": {},
     "output_type": "display_data"
    }
   ],
   "source": [
    "lc = lcs[11]\n",
    "\n",
    "show_multi_filter_light_curve(lc, snls_colors)"
   ]
  },
  {
   "cell_type": "code",
   "execution_count": 10,
   "metadata": {},
   "outputs": [
    {
     "data": {
      "image/png": "[encoded data removed]",
      "text/plain": [
       "<matplotlib.figure.Figure at 0x7ff6df625590>"
      ]
     },
     "metadata": {},
     "output_type": "display_data"
    }
   ],
   "source": [
    "lc = lcs[45]\n",
    "mask = lc[\"bandpass\"] == \"sdssr\"\n",
    "lc_i = lc[mask]\n",
    "show_multi_filter_light_curve(lc_i, snls_colors)"
   ]
  },
  {
   "cell_type": "code",
   "execution_count": 27,
   "metadata": {},
   "outputs": [
    {
     "data": {
      "image/png": "[encoded data removed]",
      "text/plain": [
       "<matplotlib.figure.Figure at 0x7ff62b0c9450>"
      ]
     },
     "metadata": {},
     "output_type": "display_data"
    }
   ],
   "source": [
    "show_fit_gaussians(lc_i, snls_colors)"
   ]
  },
  {
   "cell_type": "code",
   "execution_count": 42,
   "metadata": {},
   "outputs": [
    {
     "name": "stderr",
     "output_type": "stream",
     "text": [
      "/renoir_data_00/fouchez/lsst/DM/stacks/lsstsw/2017-05-04/lsstsw/miniconda/lib/python2.7/site-packages/ipykernel_launcher.py:2: RuntimeWarning: overflow encountered in exp\n",
      "  \n",
      "/renoir_data_00/fouchez/lsst/DM/stacks/lsstsw/2017-05-04/lsstsw/miniconda/lib/python2.7/site-packages/ipykernel_launcher.py:2: RuntimeWarning: invalid value encountered in divide\n",
      "  \n"
     ]
    },
    {
     "name": "stdout",
     "output_type": "stream",
     "text": [
      "195.666921654\n",
      "48\n"
     ]
    },
    {
     "data": {
      "image/png": "[encoded data removed]",
      "text/plain": [
       "<matplotlib.figure.Figure at 0x7ff62b0a1e10>"
      ]
     },
     "metadata": {},
     "output_type": "display_data"
    }
   ],
   "source": [
    "popt, pcov, c = show_fit_mod_gaussians(lc_i, snls_colors)"
   ]
  },
  {
   "cell_type": "code",
   "execution_count": 49,
   "metadata": {},
   "outputs": [
    {
     "data": {
      "text/plain": [
       "53"
      ]
     },
     "execution_count": 49,
     "metadata": {},
     "output_type": "execute_result"
    }
   ],
   "source": [
    "len(c)"
   ]
  },
  {
   "cell_type": "code",
   "execution_count": 53,
   "metadata": {},
   "outputs": [
    {
     "data": {
      "image/png": "[encoded data removed]",
      "text/plain": [
       "<matplotlib.figure.Figure at 0x7ff62b20e050>"
      ]
     },
     "metadata": {},
     "output_type": "display_data"
    }
   ],
   "source": [
    "s = np.random.normal(0,1,53)\n",
    "plt.hist(c, histtype=\"step\", bins=20)\n",
    "plt.hist(s, histtype=\"step\", bins=20)\n",
    "plt.show()"
   ]
  },
  {
   "cell_type": "code",
   "execution_count": 52,
   "metadata": {},
   "outputs": [
    {
     "data": {
      "image/png": "[encoded data removed]",
      "text/plain": [
       "<matplotlib.figure.Figure at 0x7ff62b1a5e10>"
      ]
     },
     "metadata": {},
     "output_type": "display_data"
    }
   ],
   "source": [
    "lc = lcs[0]\n",
    "mask = lc[\"bandpass\"] == \"sdssi\"\n",
    "lc_i = lc[mask]\n",
    "show_multi_filter_light_curve(lc_i, snls_colors)"
   ]
  },
  {
   "cell_type": "code",
   "execution_count": 59,
   "metadata": {},
   "outputs": [
    {
     "data": {
      "text/plain": [
       "[<matplotlib.lines.Line2D at 0x7fedb41b0a50>]"
      ]
     },
     "execution_count": 59,
     "metadata": {},
     "output_type": "execute_result"
    },
    {
     "data": {
      "image/png": "[encoded data removed]",
      "text/plain": [
       "<matplotlib.figure.Figure at 0x7fedb429c090>"
      ]
     },
     "metadata": {},
     "output_type": "display_data"
    }
   ],
   "source": [
    "x0, sigma = 0, 0.1\n",
    "y, xe  = np.histogram(np.random.normal(x0, sigma, 1000))\n",
    "x = .5 * (xe[:-1] + xe[1:])\n",
    "\n",
    "plt.plot(x,y, \"b+\")"
   ]
  },
  {
   "cell_type": "code",
   "execution_count": 60,
   "metadata": {},
   "outputs": [
    {
     "data": {
      "text/plain": [
       "[<matplotlib.lines.Line2D at 0x7fedb46d62d0>]"
      ]
     },
     "execution_count": 60,
     "metadata": {},
     "output_type": "execute_result"
    },
    {
     "data": {
      "image/png": "[encoded data removed]",
      "text/plain": [
       "<matplotlib.figure.Figure at 0x7fedb43ebed0>"
      ]
     },
     "metadata": {},
     "output_type": "display_data"
    }
   ],
   "source": [
    "p0 = [1., 1., 1., 1.]\n",
    "# Fit the data with the function\n",
    "fit, tmp = curve_fit(gauss, x, y, p0=p0)\n",
    "x_fine = np.linspace(xe[0], xe[-1], 100)\n",
    "plt.plot(x_fine, gauss(x_fine, fit[0], fit[1], fit[2], fit[3]), 'b-')\n",
    "plt.plot(x,y, \"r+\")"
   ]
  },
  {
   "cell_type": "code",
   "execution_count": 61,
   "metadata": {},
   "outputs": [
    {
     "data": {
      "text/plain": [
       "[<matplotlib.lines.Line2D at 0x7fedb4225350>]"
      ]
     },
     "execution_count": 61,
     "metadata": {},
     "output_type": "execute_result"
    },
    {
     "data": {
      "image/png": "[encoded data removed]",
      "text/plain": [
       "<matplotlib.figure.Figure at 0x7fedb4225590>"
      ]
     },
     "metadata": {},
     "output_type": "display_data"
    }
   ],
   "source": [
    "p0 = [1., 1., 1., 1., 1.]\n",
    "# Fit the data with the function\n",
    "fit, tmp = curve_fit(mod_gauss, x, y, p0=p0, maxfev=10000)\n",
    "x_fine = np.linspace(xe[0], xe[-1], 100)\n",
    "plt.plot(x_fine, mod_gauss(x_fine, fit[0], fit[1], fit[2], fit[3], fit[4]), 'b-')\n",
    "plt.plot(x,y, \"r+\")"
   ]
  },
  {
   "cell_type": "code",
   "execution_count": null,
   "metadata": {
    "collapsed": true
   },
   "outputs": [],
   "source": []
  }
 ],
 "metadata": {
  "kernelspec": {
   "display_name": "Python 2",
   "language": "python",
   "name": "python2"
  },
  "language_info": {
   "codemirror_mode": {
    "name": "ipython",
    "version": 2
   },
   "file_extension": ".py",
   "mimetype": "text/x-python",
   "name": "python",
   "nbconvert_exporter": "python",
   "pygments_lexer": "ipython2",
   "version": "2.7.12"
  }
 },
 "nbformat": 4,
 "nbformat_minor": 2
}
