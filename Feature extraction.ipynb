{
 "cells": [
  {
   "cell_type": "code",
   "execution_count": 18,
   "metadata": {
    "collapsed": true
   },
   "outputs": [],
   "source": [
    "from astropy.io import ascii\n",
    "import glob\n",
    "import matplotlib.pyplot as plt\n",
    "import numpy as np\n",
    "from scipy import asarray as ar, exp\n",
    "from scipy.optimize import curve_fit, least_squares\n",
    "\n",
    "%matplotlib inline\n",
    "\n",
    "snls_colors = {\"sdssg\":\"darkgreen\", \"sdssi\":\"darkblue\", \"sdssr\":\"darkred\", \"sdssz\":\"purple\"}"
   ]
  },
  {
   "cell_type": "code",
   "execution_count": 15,
   "metadata": {
    "collapsed": true
   },
   "outputs": [],
   "source": [
    "def show_multi_filter_light_curve(t, colors, n_factor = None):\n",
    "\n",
    "    t_by_filter = t.group_by(\"bandpass\")\n",
    "\n",
    "    indices = t_by_filter.groups.indices\n",
    "    #print indices\n",
    "\n",
    "    for i in range(0, len(indices)-1):\n",
    "\n",
    "        data = t_by_filter[indices[i]:indices[i+1]]\n",
    "        \n",
    "        if n_factor is not None:\n",
    "            value = n_factor[data[0][\"bandpass\"]]\n",
    "            f = value if np.isnan(value) == False else 1\n",
    "            plt.errorbar(data[\"mjd\"], data[\"flux\"]*f,yerr=data[\"flux_error\"]*f, fmt='.', markersize='5', label=data[0][\"bandpass\"], c=colors[data[0][\"bandpass\"]])            \n",
    "        else:\n",
    "            plt.errorbar(data[\"mjd\"], data[\"flux\"],yerr=data[\"flux_error\"], fmt='.', markersize='5', label=data[0][\"bandpass\"], c=colors[data[0][\"bandpass\"]])\n",
    "    plt.legend()\n",
    "    #plt.show()"
   ]
  },
  {
   "cell_type": "code",
   "execution_count": 578,
   "metadata": {},
   "outputs": [],
   "source": [
    "def get_max_index(fluxes):\n",
    "    max_val = 0\n",
    "    max_index = -1\n",
    "    for i, elem in enumerate(fluxes):\n",
    "        \n",
    "        if max_val<elem:\n",
    "            max_val = elem\n",
    "            max_index = i\n",
    "            \n",
    "    return max_index"
   ]
  },
  {
   "cell_type": "code",
   "execution_count": 490,
   "metadata": {},
   "outputs": [],
   "source": [
    "def gauss(x, a, x0, sigma, b):\n",
    "    return a*exp(-(x-x0)**2/(2*sigma**2))+b\n",
    "\n",
    "\n",
    "def residuals(p, x, y):\n",
    "    a, m, s, b = p\n",
    "    y_fit = gauss(x, a, m, s, b)\n",
    "    \n",
    "    err = y - y_fit\n",
    "    return err\n",
    "    "
   ]
  },
  {
   "cell_type": "code",
   "execution_count": 585,
   "metadata": {
    "collapsed": true
   },
   "outputs": [],
   "source": [
    "def show_fit_gaussians(t, colors, n_factor = None):\n",
    "\n",
    "    t_by_filter = t.group_by(\"bandpass\")\n",
    "    min_date = min(t[\"mjd\"])\n",
    "    max_date = max(t[\"mjd\"])\n",
    "    \n",
    "    indices = t_by_filter.groups.indices\n",
    "    max_i = get_max_index(t_by_filter[\"flux\"])\n",
    "    mean_date = t_by_filter[max_i][\"mjd\"]-min_date\n",
    "    \n",
    "  \n",
    "    for i in range(0, len(indices)-1):\n",
    "\n",
    "        data = t_by_filter[indices[i]:indices[i+1]]\n",
    "        x = data[\"mjd\"]-min_date\n",
    "        y = data[\"flux\"]\n",
    "        \n",
    "        n = len(x)\n",
    "        sigma = np.std(y)\n",
    "        \n",
    "      \n",
    "        popt, pcov = curve_fit(gauss, x, y, p0=[1, mean_date, sigma, 1])\n",
    "        plt.plot(x, y, 'b+', color=colors[data[0][\"bandpass\"]])\n",
    "        \n",
    "        X = np.arange(0,max_date-min_date,1)\n",
    "        \n",
    "        plt.plot(X, gauss(X, *popt), color=colors[data[0][\"bandpass\"]])\n",
    "        #print gauss(X, *popt)\n",
    "        #plt.xlim(xmin=400, xmax=500)\n",
    "        #plt.show()\n",
    "        #plt.legend()\n",
    "        \n",
    "        \n",
    "    plt.show()"
   ]
  },
  {
   "cell_type": "code",
   "execution_count": 591,
   "metadata": {},
   "outputs": [],
   "source": [
    "curves = [554000,   20003,  362011,   69015,  393015,  367516,  161020,  275024,\n",
    "  254525,  488529,  353043,  323044,  275045,  427057,  334559,  237060,\n",
    "  152584,   96086,  378589,  528591,  530591,  499597,  364100,  205609,\n",
    "  238624,  171628,  215129,  548130,  508136,  275139,  282642,  489662,\n",
    "  328663,  300671,  603671,  252672,  162173,  563183,  199187,  320194,\n",
    "  589709,  181218,  354226,  321730,  375231,  371244,  588754,  169755,\n",
    "  100761,  102262,  409763,  452764,  491269,  585770,  320271,  391771,\n",
    "  307774,  452780,  103782,  450288,  159790,  277301,  270321,   84323,\n",
    "  305823,  560323,  152326,  447832,  146839,  145345,  238345,   69346,\n",
    "   86347,  231850,   72360,  536862,  201863,  220368,  437374,  157377,\n",
    "  295384,  606385,  168391,  454891,  150894,  152407,    8910,  527422,\n",
    "  330434,  532940,  607447,  563958,  550462,  527464,  206968,  275472,\n",
    "  387472,  541474,  352982,  354483,  538486,  127487,  395488,   51991,\n",
    "   51997,]\n",
    "lcs = []\n",
    "for c in curves:\n",
    "\n",
    "    lienObj = glob.glob(\"/datadec/cppm/jpreyes/mpi_tests/multicolour_set/\"+str(c)+\".dat\")\n",
    "\n",
    "\n",
    "    for oj in lienObj:\n",
    "        table = ascii.read(oj)\n",
    "        lcs.append(table)\n",
    "        break\n",
    "\n",
    "#show_multi_filter_light_curve(lcs[0], snls_colors)"
   ]
  },
  {
   "cell_type": "code",
   "execution_count": 607,
   "metadata": {},
   "outputs": [
    {
     "data": {
      "image/png": "[encoded data removed]",
      "text/plain": [
       "<matplotlib.figure.Figure at 0x7fce0af04cd0>"
      ]
     },
     "metadata": {},
     "output_type": "display_data"
    }
   ],
   "source": [
    "lc = lcs[90]\n",
    "show_multi_filter_light_curve(lc, snls_colors)"
   ]
  },
  {
   "cell_type": "code",
   "execution_count": 608,
   "metadata": {},
   "outputs": [
    {
     "data": {
      "image/png": "[encoded data removed]",
      "text/plain": [
       "<matplotlib.figure.Figure at 0x7fce0a736e90>"
      ]
     },
     "metadata": {},
     "output_type": "display_data"
    }
   ],
   "source": [
    "show_fit_gaussians(lc, snls_colors)"
   ]
  },
  {
   "cell_type": "code",
   "execution_count": 581,
   "metadata": {},
   "outputs": [
    {
     "data": {
      "image/png": "[encoded data removed]",
      "text/plain": [
       "<matplotlib.figure.Figure at 0x7fce0a994a50>"
      ]
     },
     "metadata": {},
     "output_type": "display_data"
    }
   ],
   "source": [
    "lc = lcs[0]\n",
    "mask = lc[\"bandpass\"] == \"sdssi\"\n",
    "lc_i = lc[mask]\n",
    "show_multi_filter_light_curve(lc_i, snls_colors)"
   ]
  },
  {
   "cell_type": "code",
   "execution_count": 582,
   "metadata": {},
   "outputs": [
    {
     "name": "stdout",
     "output_type": "stream",
     "text": [
      "31\n"
     ]
    }
   ],
   "source": [
    "t_by_filter = lc.group_by(\"bandpass\")\n",
    "min_date = min(lc[\"mjd\"])\n",
    "max_date = max(lc[\"mjd\"])\n",
    "\n",
    "indices = t_by_filter.groups.indices\n",
    "max_i = get_max_index(t_by_filter[\"flux\"])\n",
    "print max_i"
   ]
  },
  {
   "cell_type": "code",
   "execution_count": 583,
   "metadata": {},
   "outputs": [],
   "source": [
    "from sklearn.preprocessing import normalize\n",
    "from scipy.optimize import leastsq\n",
    "\n",
    "x = lc_i[\"mjd\"]-min(lc[\"mjd\"])\n",
    "y = lc_i[\"flux\"]\n",
    "y_error = lc_i[\"flux_error\"]\n",
    "#x = normalize(x)[0]\n",
    "n = len(x)\n",
    "mean = sum(x*y)/n\n",
    "#sigma = sum((x-435)**2)/n\n",
    "sigma = np.std(y)"
   ]
  },
  {
   "cell_type": "code",
   "execution_count": 515,
   "metadata": {},
   "outputs": [
    {
     "name": "stdout",
     "output_type": "stream",
     "text": [
      "10.481611015\n"
     ]
    }
   ],
   "source": [
    "print sigma"
   ]
  },
  {
   "cell_type": "code",
   "execution_count": 516,
   "metadata": {},
   "outputs": [],
   "source": [
    "popt, pcov = curve_fit(gauss, x, y, sigma=y_error, p0=[1, 424, sigma, 1], maxfev=2000)"
   ]
  },
  {
   "cell_type": "code",
   "execution_count": null,
   "metadata": {
    "collapsed": true
   },
   "outputs": [],
   "source": []
  },
  {
   "cell_type": "code",
   "execution_count": 517,
   "metadata": {},
   "outputs": [],
   "source": [
    "pars = least_squares(residuals, x0=[1, 424, sigma, 1], args=(x,y), max_nfev=10000)"
   ]
  },
  {
   "cell_type": "code",
   "execution_count": 518,
   "metadata": {},
   "outputs": [
    {
     "name": "stdout",
     "output_type": "stream",
     "text": [
      "0.544452895394\n",
      "0.427775652171\n",
      "====\n",
      "0.357234229317\n",
      "0.240556986095\n",
      "====\n",
      "-1.28976083828\n",
      "-1.4064380815\n",
      "====\n",
      "-1.42903543545\n",
      "-1.54571267867\n",
      "====\n",
      "-2.6786639793\n",
      "-2.79534122252\n",
      "====\n",
      "0.379333724251\n",
      "0.262656481029\n",
      "====\n",
      "-1.73787475658\n",
      "-1.85455199981\n",
      "====\n",
      "-1.43101240231\n",
      "-1.54768964553\n",
      "====\n",
      "-0.984266052971\n",
      "-1.10094329619\n",
      "====\n",
      "0.626245249977\n",
      "0.509568006755\n",
      "====\n",
      "4.30039100813\n",
      "4.18371376491\n",
      "====\n",
      "1.12389253544\n",
      "1.00721529222\n",
      "====\n",
      "-0.689098129997\n",
      "-0.805775373219\n",
      "====\n",
      "-0.414577732811\n",
      "-0.531254976033\n",
      "====\n",
      "0.89502262043\n",
      "0.778345377208\n",
      "====\n",
      "-0.0473457966072\n",
      "-0.164023530426\n",
      "====\n",
      "-0.317763363754\n",
      "-0.434442272535\n",
      "====\n",
      "2.30770180823\n",
      "2.18962767967\n",
      "====\n",
      "-0.155656507899\n",
      "-0.305878507965\n",
      "====\n",
      "-0.846678019151\n",
      "-1.00998664829\n",
      "====\n",
      "-4.41541528599\n",
      "-4.59975980766\n",
      "====\n",
      "-0.885055107773\n",
      "-1.03241193343\n",
      "====\n",
      "0.613563765727\n",
      "0.522274378391\n",
      "====\n",
      "1.43511859926\n",
      "1.38164856898\n",
      "====\n",
      "1.16673987193\n",
      "1.1394770718\n",
      "====\n",
      "-0.386582225378\n",
      "-0.470487325034\n",
      "====\n",
      "-3.19365076795\n",
      "-3.35960458383\n",
      "====\n",
      "-1.27335830668\n",
      "-1.46262585211\n",
      "====\n",
      "1.40216358807\n",
      "1.11815987422\n",
      "====\n",
      "1.81238445656\n",
      "1.44656692029\n",
      "====\n",
      "0.431060836313\n",
      "0.0221991415152\n",
      "====\n",
      "0.487951983681\n",
      "0.371274740459\n",
      "====\n",
      "1.06704806255\n",
      "0.950370819331\n",
      "====\n",
      "1.14988326\n",
      "1.03320601678\n",
      "====\n",
      "-0.0339334113691\n",
      "-0.150610654591\n",
      "====\n",
      "0.0670721428301\n",
      "-0.0496051003921\n",
      "====\n",
      "0.269640197029\n",
      "0.152962953807\n",
      "====\n",
      "-0.663000355491\n",
      "-0.779677598714\n",
      "====\n",
      "1.4640681641\n",
      "1.34739092088\n",
      "====\n",
      "0.686154593697\n",
      "0.569477350475\n",
      "====\n",
      "0.57861303257\n",
      "0.461935789348\n",
      "====\n",
      "2.06167196201\n",
      "1.94499471879\n",
      "====\n",
      "-0.530993710289\n",
      "-0.647670953511\n",
      "====\n",
      "-1.82368637157\n",
      "-1.9403636148\n",
      "====\n"
     ]
    }
   ],
   "source": [
    "for i, j in zip(x, y):\n",
    "    print j-gauss(i, *pars.x)\n",
    "    print j-gauss(i, *popt)\n",
    "    print \"====\""
   ]
  },
  {
   "cell_type": "code",
   "execution_count": 519,
   "metadata": {},
   "outputs": [
    {
     "data": {
      "image/png": "[encoded data removed]",
      "text/plain": [
       "<matplotlib.figure.Figure at 0x7fce0b29fdd0>"
      ]
     },
     "metadata": {},
     "output_type": "display_data"
    }
   ],
   "source": [
    "plt.plot(x, y, 'b+')\n",
    "X = np.arange(min(x), max(x),1)\n",
    "plt.plot(X, gauss(X, *pars.x), color=\"red\")\n",
    "plt.plot(X, gauss(X, *popt), color=\"green\")\n",
    "#plt.xlim(xmin=0, xmax=500)\n",
    "#plt.ylim(ymin=-200, ymax=200)\n",
    "plt.show()"
   ]
  },
  {
   "cell_type": "code",
   "execution_count": 520,
   "metadata": {},
   "outputs": [
    {
     "data": {
      "text/plain": [
       "[<matplotlib.lines.Line2D at 0x7fce0ad44e10>]"
      ]
     },
     "execution_count": 520,
     "metadata": {},
     "output_type": "execute_result"
    },
    {
     "data": {
      "image/png": "[encoded data removed]",
      "text/plain": [
       "<matplotlib.figure.Figure at 0x7fce0b169850>"
      ]
     },
     "metadata": {},
     "output_type": "display_data"
    }
   ],
   "source": [
    "x0, sigma = 0, 0.1\n",
    "y, xe  = np.histogram(np.random.normal(x0, sigma, 1000))\n",
    "x = .5 * (xe[:-1] + xe[1:])\n",
    "\n",
    "plt.plot(x,y, \"b+\")"
   ]
  },
  {
   "cell_type": "code",
   "execution_count": 71,
   "metadata": {},
   "outputs": [
    {
     "data": {
      "text/plain": [
       "[<matplotlib.lines.Line2D at 0x7fce125bf550>]"
      ]
     },
     "execution_count": 71,
     "metadata": {},
     "output_type": "execute_result"
    },
    {
     "data": {
      "image/png": "[encoded data removed]",
      "text/plain": [
       "<matplotlib.figure.Figure at 0x7fce12336c90>"
      ]
     },
     "metadata": {},
     "output_type": "display_data"
    }
   ],
   "source": [
    "p0 = [1., 1., 1.]\n",
    "# Fit the data with the function\n",
    "fit, tmp = curve_fit(gauss, x, y, p0=p0)\n",
    "x_fine = np.linspace(xe[0], xe[-1], 100)\n",
    "plt.plot(x_fine, gauss(x_fine, fit[0], fit[1], fit[2]), 'b-')"
   ]
  },
  {
   "cell_type": "code",
   "execution_count": null,
   "metadata": {
    "collapsed": true
   },
   "outputs": [],
   "source": []
  }
 ],
 "metadata": {
  "kernelspec": {
   "display_name": "Python 2",
   "language": "python",
   "name": "python2"
  },
  "language_info": {
   "codemirror_mode": {
    "name": "ipython",
    "version": 2
   },
   "file_extension": ".py",
   "mimetype": "text/x-python",
   "name": "python",
   "nbconvert_exporter": "python",
   "pygments_lexer": "ipython2",
   "version": "2.7.12"
  }
 },
 "nbformat": 4,
 "nbformat_minor": 2
}
