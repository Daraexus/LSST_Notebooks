{
 "cells": [
  {
   "cell_type": "markdown",
   "metadata": {},
   "source": [
    "# Dipole Study"
   ]
  },
  {
   "cell_type": "markdown",
   "metadata": {},
   "source": [
    "This intends to reproduce the study presented in http://dmtn-007.lsst.io/en/latest/. In contrast to that study, we are not simulating real dipoles, but using the objects classified as dipoles with the naive flux algorithm. Thus, we cannot fix the flux of the objects and our plots are not comparable in all levels to the one in the document."
   ]
  },
  {
   "cell_type": "code",
   "execution_count": 109,
   "metadata": {
    "collapsed": false
   },
   "outputs": [],
   "source": [
    "import lsst.meas.astrom as measAstrom\n",
    "import lsst.daf.base as dafBase\n",
    "import lsst.pipe.base as pipeBase\n",
    "import lsst.daf.persistence as dafPersist\n",
    "\n",
    "import lsst.afw.display.ds9 as ds9\n",
    "import DiaSourceTools as DSTools\n",
    "\n",
    "import lsst.afw.table as afwTable\n",
    "import lsst.afw.geom as afwGeom\n",
    "\n",
    "import numpy as np\n",
    "\n",
    "from astropy.table import Table\n",
    "\n",
    "import sncosmo\n",
    "\n",
    "import os\n",
    "\n",
    "import matplotlib.pyplot as plt\n",
    "\n",
    "import lsst.afw.display.utils as displayUtils\n",
    "\n",
    "%matplotlib inline"
   ]
  },
  {
   "cell_type": "markdown",
   "metadata": {},
   "source": [
    "Dipoles were obtaining using the naive measurements after performing the image difference. (Which means, the 2/3 comparison using the naivePSFFlux stored in the DIASources.\n",
    "\n",
    "A file was generated for every visit (covering all the field). The next line reads all the catalogs and creates a single catalog with all the dipole data.\n",
    "\n",
    "There are 149410 dipoles in this test."
   ]
  },
  {
   "cell_type": "code",
   "execution_count": 118,
   "metadata": {
    "collapsed": false
   },
   "outputs": [],
   "source": [
    "DIR=\"/renoir_data_02/jpreyes/lsst_data\"\n",
    "dcats=os.listdir(DIR+\"/dipoles_catalogs\")\n",
    "dipoles = None\n",
    "\n",
    "#afwTable.SourceCatalog.readFits(DIR+\"/dipoles_catalogs/\"+dcats[0])\n",
    "for dcat in dcats:\n",
    "    if dipoles == None:\n",
    "        dipoles = afwTable.SourceCatalog.readFits(DIR+\"/dipoles_catalogs/\"+dcat)\n",
    "    else:\n",
    "        dipoles.extend(afwTable.SourceCatalog.readFits(DIR+\"/dipoles_catalogs/\"+dcat))\n"
   ]
  },
  {
   "cell_type": "code",
   "execution_count": 119,
   "metadata": {
    "collapsed": false
   },
   "outputs": [
    {
     "data": {
      "text/plain": [
       "149410"
      ]
     },
     "execution_count": 119,
     "metadata": {},
     "output_type": "execute_result"
    }
   ],
   "source": [
    "len(dipoles)"
   ]
  },
  {
   "cell_type": "code",
   "execution_count": null,
   "metadata": {
    "collapsed": true
   },
   "outputs": [],
   "source": []
  },
  {
   "cell_type": "code",
   "execution_count": 22,
   "metadata": {
    "collapsed": false
   },
   "outputs": [],
   "source": [
    "import lsst.meas.algorithms.detection as sDet\n",
    "\n",
    "#DATADIR=\"/renoir_data_02/jpreyes/lsst_data/CFHTLS_v11/\"\n",
    "DATADIR=\"/renoir_data_02/jpreyes/lsst_data/CFHTLS_master/\"\n",
    "butler = dafPersist.Butler(DATADIR+\"/output\")\n",
    "\n",
    "dataId = {'visit': 836493, 'filter':'r' , 'ccd':14}\n",
    "diaSrcs = butler.get(\"deepDiff_diaSrc\", dataId)\n",
    "diffExp = butler.get(\"deepDiff_differenceExp\", dataId)\n",
    "#sciExp  = butler.get(\"calexp\", {\"visit\":836493, \"ccd\":14, \"filter\":\"r\"})\n",
    "#tmpExp = butler.get(\"deepDiff_warpedExp\", {\"visit\":836493, \"ccd\":14, \"filter\":\"r\"})\n",
    "#bgConf = sDet.BackgroundConfig()\n",
    "#background,tmpExp = sDet.estimateBackground(tmpExp,bgConf,True)"
   ]
  },
  {
   "cell_type": "code",
   "execution_count": 26,
   "metadata": {
    "collapsed": false
   },
   "outputs": [],
   "source": [
    "#bbox = diffExp.getBBox()\n",
    "#bbox.contains()"
   ]
  },
  {
   "cell_type": "code",
   "execution_count": 33,
   "metadata": {
    "collapsed": false
   },
   "outputs": [],
   "source": [
    "def get_distance(x1, y1, x2, y2):\n",
    "    return np.sqrt((x1-x2)*(x1-x2) + (y1-y2)*(y1-y2))"
   ]
  },
  {
   "cell_type": "markdown",
   "metadata": {},
   "source": [
    "As we intend to plot the lobe distance vs the flux value frequency, it is necessary to have the lobes centroid coordinates. Such information is still incomplete in almost half the dipoles."
   ]
  },
  {
   "cell_type": "code",
   "execution_count": 120,
   "metadata": {
    "collapsed": false
   },
   "outputs": [
    {
     "name": "stdout",
     "output_type": "stream",
     "text": [
      "66017\n"
     ]
    }
   ],
   "source": [
    "distances = []\n",
    "fluxes = []\n",
    "for source in dipoles:\n",
    "    x1 = source.get(\"ip_diffim_PsfDipoleFlux_pos_centroid_x\")\n",
    "    y1 = source.get(\"ip_diffim_PsfDipoleFlux_pos_centroid_y\")\n",
    "    x2 =  source.get(\"ip_diffim_PsfDipoleFlux_neg_centroid_x\")\n",
    "    y2 = source.get(\"ip_diffim_PsfDipoleFlux_neg_centroid_y\")\n",
    "    \n",
    "    pos = source.get(\"ip_diffim_NaiveDipoleFlux_pos_flux\")\n",
    "    neg = np.abs(source.get(\"ip_diffim_NaiveDipoleFlux_neg_flux\"))\n",
    "    tot = pos+neg\n",
    "    pos_per = pos/tot\n",
    "    neg_per = neg/tot\n",
    "\n",
    "    #print pos_per, neg_per\n",
    "    \n",
    "    if np.isnan(x1) == False and np.isnan(y1) == False and np.isnan(x2) == False and np.isnan(y2) == False:\n",
    "        distances.append(get_distance(x1,y1,x2,y2))\n",
    "        fluxes.append((pos_per, neg_per))\n",
    "print len(distances)"
   ]
  },
  {
   "cell_type": "code",
   "execution_count": 121,
   "metadata": {
    "collapsed": false
   },
   "outputs": [
    {
     "name": "stdout",
     "output_type": "stream",
     "text": [
      "297.0\n"
     ]
    }
   ],
   "source": [
    "max_d = np.ceil(np.max(distances))\n",
    "print max_d"
   ]
  },
  {
   "cell_type": "markdown",
   "metadata": {},
   "source": [
    "This plot shows the relation between the distance of lobes and the distribution of relative flux contributed by negative (red) and positive lobes (blue). The distances are approximated to integers, and independent histograms are plotted in terms of relative value for the slot (this means that the maximum value of a give histogram is equal to half the distance between two ticks on the X axis(.\n",
    "\n",
    "The plot shows that, dipoles with smaller separations are more consistent than dipoles further appart. Thus, distributions for closer dipoles depict lobes that contribute more or less the same amount of flux, whereas dipoles with bug separations can oscilate on any range and therefore, can point to non-dipole elements like misclassified fringes."
   ]
  },
  {
   "cell_type": "code",
   "execution_count": 127,
   "metadata": {
    "collapsed": false
   },
   "outputs": [
    {
     "name": "stderr",
     "output_type": "stream",
     "text": [
      "/renoir_data_00/fouchez/lsst/DM/stacks/lsstsw/2016-04-04/lsstsw/miniconda/lib/python2.7/site-packages/ipykernel/__main__.py:21: RuntimeWarning: invalid value encountered in divide\n",
      "/renoir_data_00/fouchez/lsst/DM/stacks/lsstsw/2016-04-04/lsstsw/miniconda/lib/python2.7/site-packages/ipykernel/__main__.py:22: RuntimeWarning: invalid value encountered in divide\n"
     ]
    },
    {
     "data": {
      "image/png": "[encoded data removed]",
      "text/plain": [
       "<matplotlib.figure.Figure at 0x7f6bb29a1d50>"
      ]
     },
     "metadata": {},
     "output_type": "display_data"
    }
   ],
   "source": [
    "plt.figure(figsize=(20,10))\n",
    "#for n in range(10, 11):\n",
    "for n in range(0, 50):\n",
    "    poss = []\n",
    "    negs = []\n",
    "    for i, distance in enumerate(distances):\n",
    "        if distance < n+1 and distance > n:\n",
    "            poss.append(fluxes[i][0])\n",
    "            negs.append(fluxes[i][1])\n",
    "    #plt.hist(negs, bins=30)\n",
    "    #plt.show()\n",
    "    y, vals = np.histogram(negs, bins=30)\n",
    "    y_p, vals_p = np.histogram(poss, bins=30)\n",
    "    #plt.gca().invert_yaxis()\n",
    "    #plt.hist(poss, bins=30)\n",
    "    bincenters = 0.5*(vals[1:]+vals[:-1])\n",
    "    bincenters_p = 0.5*(vals_p[1:]+vals_p[:-1])\n",
    "\n",
    "    max_y = 2.1*float(max(max(y), max(y_p)))\n",
    "\n",
    "    plt.barh(bincenters, -y/max_y, height= 0.009,  color='red', left=n, edgecolor=\"red\")\n",
    "    plt.barh(bincenters_p, y_p/max_y, height= 0.009, left=n, edgecolor=\"blue\")\n",
    "    plt.ylim(ymin=0.33, ymax=0.66)"
   ]
  },
  {
   "cell_type": "code",
   "execution_count": null,
   "metadata": {
    "collapsed": false
   },
   "outputs": [],
   "source": [
    "#test_stamp = dif_stamp.clone()\n",
    "mosaic_corr_dif = displayUtils.Mosaic(gutter=5, background=3, mode=\"square\")\n",
    "\n",
    "for i, source in enumerate(dipoles):\n",
    "    try:\n",
    "        test_stamp = DSTools.get_stamp(source, diffExp)\n",
    "        test_stamp = test_stamp.clone()\n",
    "\n",
    "        mask  = test_stamp.getMaskedImage().getMask()\n",
    "        mask &= ~(mask.getPlaneBitMask(\"DETECTED\") | mask.getPlaneBitMask(\"DETECTED_NEGATIVE\"))\n",
    "\n",
    "        schema = afwTable.SourceTable.makeMinimalSchema()\n",
    "\n",
    "        #DipoleMeasurementTask.algorithms.names.add('base_PeakLikelihoodFlux')\n",
    "        DMTask = DipoleMeasurementTask(schema=schema, algMetadata=algMetadata)\n",
    "\n",
    "        table = afwTable.SourceTable.make(schema)\n",
    "\n",
    "        config = SourceDetectionTask.ConfigClass()\n",
    "        config.thresholdPolarity = \"both\"\n",
    "        config.thresholdValue = 5.5\n",
    "        config.reEstimateBackground = False\n",
    "        config.thresholdType = \"pixel_stdev\"\n",
    "\n",
    "\n",
    "\n",
    "        detectionTask = SourceDetectionTask(config=config, schema=schema)\n",
    "\n",
    "        table = afwTable.SourceTable.make(schema)\n",
    "        #sources = detectionTask.run(table, exposure, sigma=2).sources\n",
    "        results = detectionTask.makeSourceCatalog(table=table, exposure=test_stamp , doSmooth=not False )\n",
    "        DMTask.run(results.sources, test_stamp)\n",
    "        print \"----\" + str(i) +\"------\"\n",
    "        print len(results.fpSets.positive.getFootprints())\n",
    "        print len(results.fpSets.negative.getFootprints())\n",
    "\n",
    "        mosaic_corr_dif.append(test_stamp.getMaskedImage(), label = str(DSTools.get_naive_dipole_probability(source))+\"--\"+str(i))\n",
    "    except Exception, e:\n",
    "        print e\n",
    "\n",
    "#mosaic_corr_dif.makeMosaic(frame=6, title=\"mosaic_dif_corrected\")\n",
    "ds9.setMaskTransparency(100, frame=6)"
   ]
  },
  {
   "cell_type": "code",
   "execution_count": 58,
   "metadata": {
    "collapsed": false
   },
   "outputs": [
    {
     "data": {
      "image/png": "[encoded data removed]",
      "text/plain": [
       "<matplotlib.figure.Figure at 0x7fcbddeb4d10>"
      ]
     },
     "metadata": {},
     "output_type": "display_data"
    },
    {
     "data": {
      "image/png": "[encoded data removed]",
      "text/plain": [
       "<matplotlib.figure.Figure at 0x7fcbddd73d50>"
      ]
     },
     "metadata": {},
     "output_type": "display_data"
    }
   ],
   "source": [
    "plt.hist(negatives)\n",
    "plt.show()\n",
    "plt.hist(positives)\n",
    "plt.show()"
   ]
  },
  {
   "cell_type": "code",
   "execution_count": 31,
   "metadata": {
    "collapsed": false
   },
   "outputs": [
    {
     "data": {
      "text/plain": [
       "(array([ 286.,    1.,    1.,    0.,    0.,    0.,    0.,    0.,    0.,    2.]),\n",
       " array([    4.99593112,   151.48724001,   297.97854889,   444.46985777,\n",
       "          590.96116665,   737.45247553,   883.94378442,  1030.4350933 ,\n",
       "         1176.92640218,  1323.41771106,  1469.90901995]),\n",
       " <a list of 10 Patch objects>)"
      ]
     },
     "execution_count": 31,
     "metadata": {},
     "output_type": "execute_result"
    },
    {
     "data": {
      "image/png": "[encoded data removed]",
      "text/plain": [
       "<matplotlib.figure.Figure at 0x7fcbe09db8d0>"
      ]
     },
     "metadata": {},
     "output_type": "display_data"
    }
   ],
   "source": [
    "plt.hist(fluxes)\n",
    "plt.hist(distances)"
   ]
  },
  {
   "cell_type": "code",
   "execution_count": 18,
   "metadata": {
    "collapsed": false
   },
   "outputs": [
    {
     "name": "stdout",
     "output_type": "stream",
     "text": [
      "16.5098551802\n"
     ]
    }
   ],
   "source": [
    "x1 = source.get(\"ip_diffim_NaiveDipoleCentroid_pos_x\")\n",
    "y1 = source.get(\"ip_diffim_NaiveDipoleCentroid_pos_y\")\n",
    "x2 =  source.get(\"ip_diffim_NaiveDipoleCentroid_neg_x\")\n",
    "y2 = source.get(\"ip_diffim_NaiveDipoleCentroid_neg_y\")\n",
    "\n",
    "print distance(x1,y1,x2,y2)"
   ]
  },
  {
   "cell_type": "code",
   "execution_count": null,
   "metadata": {
    "collapsed": true
   },
   "outputs": [],
   "source": []
  }
 ],
 "metadata": {
  "kernelspec": {
   "display_name": "Python 2",
   "language": "python",
   "name": "python2"
  },
  "language_info": {
   "codemirror_mode": {
    "name": "ipython",
    "version": 2
   },
   "file_extension": ".py",
   "mimetype": "text/x-python",
   "name": "python",
   "nbconvert_exporter": "python",
   "pygments_lexer": "ipython2",
   "version": "2.7.11"
  }
 },
 "nbformat": 4,
 "nbformat_minor": 0
}
