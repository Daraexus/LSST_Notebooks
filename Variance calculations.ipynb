{
 "cells": [
  {
   "cell_type": "code",
   "execution_count": 2,
   "metadata": {
    "collapsed": true
   },
   "outputs": [],
   "source": [
    "import lsst.daf.persistence as dafPersist\n",
    "import lsst.afw.table as afwTable\n",
    "import lsst.afw.geom as afwGeom\n",
    "import lsst.afw.image as afwImage\n",
    "import math\n",
    "import re\n",
    "\n",
    "import lsst.daf.base as dafBase\n",
    "from lsst.meas.algorithms.detection import SourceDetectionTask\n",
    "from lsst.meas.base import SingleFrameMeasurementTask\n",
    "from lsst.meas.deblender import SourceDeblendTask\n",
    "from lsst.meas.base import CatalogCalculationTask\n",
    "\n",
    "%matplotlib inline\n",
    "import matplotlib\n",
    "import matplotlib.pylab as plt\n",
    "import numpy as np"
   ]
  },
  {
   "cell_type": "code",
   "execution_count": 3,
   "metadata": {
    "collapsed": true
   },
   "outputs": [],
   "source": [
    "DATADIR=\"/datadec/cppm/jpreyes/CFHT_Complete/\"\n",
    "butler = dafPersist.Butler(DATADIR+\"/detect_testSN_2\")"
   ]
  },
  {
   "cell_type": "code",
   "execution_count": 28,
   "metadata": {
    "collapsed": true
   },
   "outputs": [],
   "source": [
    "dataId={'patch':\"11,11\", 'filter':\"r\", 'tract':0, \"date\":\"2006-04-30\"}\n",
    "dayDiff = butler.get(\"dayDiff_differenceExp\", dataId)\n",
    "\n",
    "img = dayDiff.getMaskedImage().getImage().getArray().ravel()"
   ]
  },
  {
   "cell_type": "code",
   "execution_count": 29,
   "metadata": {
    "collapsed": true
   },
   "outputs": [],
   "source": [
    "img_f=[value for value in img if not np.isnan(value)]"
   ]
  },
  {
   "cell_type": "code",
   "execution_count": 30,
   "metadata": {},
   "outputs": [
    {
     "data": {
      "text/plain": [
       "3.1181378"
      ]
     },
     "execution_count": 30,
     "metadata": {},
     "output_type": "execute_result"
    }
   ],
   "source": [
    "np.std(img_f)"
   ]
  },
  {
   "cell_type": "code",
   "execution_count": 31,
   "metadata": {},
   "outputs": [
    {
     "data": {
      "image/png": "[encoded data removed]",
      "text/plain": [
       "<matplotlib.figure.Figure at 0x7fbcc009a190>"
      ]
     },
     "metadata": {},
     "output_type": "display_data"
    }
   ],
   "source": [
    "plt.hist(img_f, bins=1000, range=(-5,5))\n",
    "plt.show()"
   ]
  },
  {
   "cell_type": "code",
   "execution_count": null,
   "metadata": {
    "collapsed": true
   },
   "outputs": [],
   "source": []
  },
  {
   "cell_type": "code",
   "execution_count": 43,
   "metadata": {
    "collapsed": true
   },
   "outputs": [],
   "source": [
    "vals = np.histogram(img_f, bins=1000, range=(-250,250))"
   ]
  },
  {
   "cell_type": "code",
   "execution_count": 48,
   "metadata": {},
   "outputs": [
    {
     "data": {
      "text/plain": [
       "array([-250. , -249.5, -249. , -248.5, -248. , -247.5, -247. , -246.5,\n",
       "       -246. , -245.5, -245. , -244.5, -244. , -243.5, -243. , -242.5,\n",
       "       -242. , -241.5, -241. , -240.5, -240. , -239.5, -239. , -238.5,\n",
       "       -238. , -237.5, -237. , -236.5, -236. , -235.5, -235. , -234.5,\n",
       "       -234. , -233.5, -233. , -232.5, -232. , -231.5, -231. , -230.5,\n",
       "       -230. , -229.5, -229. , -228.5, -228. , -227.5, -227. , -226.5,\n",
       "       -226. , -225.5, -225. , -224.5, -224. , -223.5, -223. , -222.5,\n",
       "       -222. , -221.5, -221. , -220.5, -220. , -219.5, -219. , -218.5,\n",
       "       -218. , -217.5, -217. , -216.5, -216. , -215.5, -215. , -214.5,\n",
       "       -214. , -213.5, -213. , -212.5, -212. , -211.5, -211. , -210.5,\n",
       "       -210. , -209.5, -209. , -208.5, -208. , -207.5, -207. , -206.5,\n",
       "       -206. , -205.5, -205. , -204.5, -204. , -203.5, -203. , -202.5,\n",
       "       -202. , -201.5, -201. , -200.5, -200. , -199.5, -199. , -198.5,\n",
       "       -198. , -197.5, -197. , -196.5, -196. , -195.5, -195. , -194.5,\n",
       "       -194. , -193.5, -193. , -192.5, -192. , -191.5, -191. , -190.5,\n",
       "       -190. , -189.5, -189. , -188.5, -188. , -187.5, -187. , -186.5,\n",
       "       -186. , -185.5, -185. , -184.5, -184. , -183.5, -183. , -182.5,\n",
       "       -182. , -181.5, -181. , -180.5, -180. , -179.5, -179. , -178.5,\n",
       "       -178. , -177.5, -177. , -176.5, -176. , -175.5, -175. , -174.5,\n",
       "       -174. , -173.5, -173. , -172.5, -172. , -171.5, -171. , -170.5,\n",
       "       -170. , -169.5, -169. , -168.5, -168. , -167.5, -167. , -166.5,\n",
       "       -166. , -165.5, -165. , -164.5, -164. , -163.5, -163. , -162.5,\n",
       "       -162. , -161.5, -161. , -160.5, -160. , -159.5, -159. , -158.5,\n",
       "       -158. , -157.5, -157. , -156.5, -156. , -155.5, -155. , -154.5,\n",
       "       -154. , -153.5, -153. , -152.5, -152. , -151.5, -151. , -150.5,\n",
       "       -150. , -149.5, -149. , -148.5, -148. , -147.5, -147. , -146.5,\n",
       "       -146. , -145.5, -145. , -144.5, -144. , -143.5, -143. , -142.5,\n",
       "       -142. , -141.5, -141. , -140.5, -140. , -139.5, -139. , -138.5,\n",
       "       -138. , -137.5, -137. , -136.5, -136. , -135.5, -135. , -134.5,\n",
       "       -134. , -133.5, -133. , -132.5, -132. , -131.5, -131. , -130.5,\n",
       "       -130. , -129.5, -129. , -128.5, -128. , -127.5, -127. , -126.5,\n",
       "       -126. , -125.5, -125. , -124.5, -124. , -123.5, -123. , -122.5,\n",
       "       -122. , -121.5, -121. , -120.5, -120. , -119.5, -119. , -118.5,\n",
       "       -118. , -117.5, -117. , -116.5, -116. , -115.5, -115. , -114.5,\n",
       "       -114. , -113.5, -113. , -112.5, -112. , -111.5, -111. , -110.5,\n",
       "       -110. , -109.5, -109. , -108.5, -108. , -107.5, -107. , -106.5,\n",
       "       -106. , -105.5, -105. , -104.5, -104. , -103.5, -103. , -102.5,\n",
       "       -102. , -101.5, -101. , -100.5, -100. ,  -99.5,  -99. ,  -98.5,\n",
       "        -98. ,  -97.5,  -97. ,  -96.5,  -96. ,  -95.5,  -95. ,  -94.5,\n",
       "        -94. ,  -93.5,  -93. ,  -92.5,  -92. ,  -91.5,  -91. ,  -90.5,\n",
       "        -90. ,  -89.5,  -89. ,  -88.5,  -88. ,  -87.5,  -87. ,  -86.5,\n",
       "        -86. ,  -85.5,  -85. ,  -84.5,  -84. ,  -83.5,  -83. ,  -82.5,\n",
       "        -82. ,  -81.5,  -81. ,  -80.5,  -80. ,  -79.5,  -79. ,  -78.5,\n",
       "        -78. ,  -77.5,  -77. ,  -76.5,  -76. ,  -75.5,  -75. ,  -74.5,\n",
       "        -74. ,  -73.5,  -73. ,  -72.5,  -72. ,  -71.5,  -71. ,  -70.5,\n",
       "        -70. ,  -69.5,  -69. ,  -68.5,  -68. ,  -67.5,  -67. ,  -66.5,\n",
       "        -66. ,  -65.5,  -65. ,  -64.5,  -64. ,  -63.5,  -63. ,  -62.5,\n",
       "        -62. ,  -61.5,  -61. ,  -60.5,  -60. ,  -59.5,  -59. ,  -58.5,\n",
       "        -58. ,  -57.5,  -57. ,  -56.5,  -56. ,  -55.5,  -55. ,  -54.5,\n",
       "        -54. ,  -53.5,  -53. ,  -52.5,  -52. ,  -51.5,  -51. ,  -50.5,\n",
       "        -50. ,  -49.5,  -49. ,  -48.5,  -48. ,  -47.5,  -47. ,  -46.5,\n",
       "        -46. ,  -45.5,  -45. ,  -44.5,  -44. ,  -43.5,  -43. ,  -42.5,\n",
       "        -42. ,  -41.5,  -41. ,  -40.5,  -40. ,  -39.5,  -39. ,  -38.5,\n",
       "        -38. ,  -37.5,  -37. ,  -36.5,  -36. ,  -35.5,  -35. ,  -34.5,\n",
       "        -34. ,  -33.5,  -33. ,  -32.5,  -32. ,  -31.5,  -31. ,  -30.5,\n",
       "        -30. ,  -29.5,  -29. ,  -28.5,  -28. ,  -27.5,  -27. ,  -26.5,\n",
       "        -26. ,  -25.5,  -25. ,  -24.5,  -24. ,  -23.5,  -23. ,  -22.5,\n",
       "        -22. ,  -21.5,  -21. ,  -20.5,  -20. ,  -19.5,  -19. ,  -18.5,\n",
       "        -18. ,  -17.5,  -17. ,  -16.5,  -16. ,  -15.5,  -15. ,  -14.5,\n",
       "        -14. ,  -13.5,  -13. ,  -12.5,  -12. ,  -11.5,  -11. ,  -10.5,\n",
       "        -10. ,   -9.5,   -9. ,   -8.5,   -8. ,   -7.5,   -7. ,   -6.5,\n",
       "         -6. ,   -5.5,   -5. ,   -4.5,   -4. ,   -3.5,   -3. ,   -2.5,\n",
       "         -2. ,   -1.5,   -1. ,   -0.5,    0. ,    0.5,    1. ,    1.5,\n",
       "          2. ,    2.5,    3. ,    3.5,    4. ,    4.5,    5. ,    5.5,\n",
       "          6. ,    6.5,    7. ,    7.5,    8. ,    8.5,    9. ,    9.5,\n",
       "         10. ,   10.5,   11. ,   11.5,   12. ,   12.5,   13. ,   13.5,\n",
       "         14. ,   14.5,   15. ,   15.5,   16. ,   16.5,   17. ,   17.5,\n",
       "         18. ,   18.5,   19. ,   19.5,   20. ,   20.5,   21. ,   21.5,\n",
       "         22. ,   22.5,   23. ,   23.5,   24. ,   24.5,   25. ,   25.5,\n",
       "         26. ,   26.5,   27. ,   27.5,   28. ,   28.5,   29. ,   29.5,\n",
       "         30. ,   30.5,   31. ,   31.5,   32. ,   32.5,   33. ,   33.5,\n",
       "         34. ,   34.5,   35. ,   35.5,   36. ,   36.5,   37. ,   37.5,\n",
       "         38. ,   38.5,   39. ,   39.5,   40. ,   40.5,   41. ,   41.5,\n",
       "         42. ,   42.5,   43. ,   43.5,   44. ,   44.5,   45. ,   45.5,\n",
       "         46. ,   46.5,   47. ,   47.5,   48. ,   48.5,   49. ,   49.5,\n",
       "         50. ,   50.5,   51. ,   51.5,   52. ,   52.5,   53. ,   53.5,\n",
       "         54. ,   54.5,   55. ,   55.5,   56. ,   56.5,   57. ,   57.5,\n",
       "         58. ,   58.5,   59. ,   59.5,   60. ,   60.5,   61. ,   61.5,\n",
       "         62. ,   62.5,   63. ,   63.5,   64. ,   64.5,   65. ,   65.5,\n",
       "         66. ,   66.5,   67. ,   67.5,   68. ,   68.5,   69. ,   69.5,\n",
       "         70. ,   70.5,   71. ,   71.5,   72. ,   72.5,   73. ,   73.5,\n",
       "         74. ,   74.5,   75. ,   75.5,   76. ,   76.5,   77. ,   77.5,\n",
       "         78. ,   78.5,   79. ,   79.5,   80. ,   80.5,   81. ,   81.5,\n",
       "         82. ,   82.5,   83. ,   83.5,   84. ,   84.5,   85. ,   85.5,\n",
       "         86. ,   86.5,   87. ,   87.5,   88. ,   88.5,   89. ,   89.5,\n",
       "         90. ,   90.5,   91. ,   91.5,   92. ,   92.5,   93. ,   93.5,\n",
       "         94. ,   94.5,   95. ,   95.5,   96. ,   96.5,   97. ,   97.5,\n",
       "         98. ,   98.5,   99. ,   99.5,  100. ,  100.5,  101. ,  101.5,\n",
       "        102. ,  102.5,  103. ,  103.5,  104. ,  104.5,  105. ,  105.5,\n",
       "        106. ,  106.5,  107. ,  107.5,  108. ,  108.5,  109. ,  109.5,\n",
       "        110. ,  110.5,  111. ,  111.5,  112. ,  112.5,  113. ,  113.5,\n",
       "        114. ,  114.5,  115. ,  115.5,  116. ,  116.5,  117. ,  117.5,\n",
       "        118. ,  118.5,  119. ,  119.5,  120. ,  120.5,  121. ,  121.5,\n",
       "        122. ,  122.5,  123. ,  123.5,  124. ,  124.5,  125. ,  125.5,\n",
       "        126. ,  126.5,  127. ,  127.5,  128. ,  128.5,  129. ,  129.5,\n",
       "        130. ,  130.5,  131. ,  131.5,  132. ,  132.5,  133. ,  133.5,\n",
       "        134. ,  134.5,  135. ,  135.5,  136. ,  136.5,  137. ,  137.5,\n",
       "        138. ,  138.5,  139. ,  139.5,  140. ,  140.5,  141. ,  141.5,\n",
       "        142. ,  142.5,  143. ,  143.5,  144. ,  144.5,  145. ,  145.5,\n",
       "        146. ,  146.5,  147. ,  147.5,  148. ,  148.5,  149. ,  149.5,\n",
       "        150. ,  150.5,  151. ,  151.5,  152. ,  152.5,  153. ,  153.5,\n",
       "        154. ,  154.5,  155. ,  155.5,  156. ,  156.5,  157. ,  157.5,\n",
       "        158. ,  158.5,  159. ,  159.5,  160. ,  160.5,  161. ,  161.5,\n",
       "        162. ,  162.5,  163. ,  163.5,  164. ,  164.5,  165. ,  165.5,\n",
       "        166. ,  166.5,  167. ,  167.5,  168. ,  168.5,  169. ,  169.5,\n",
       "        170. ,  170.5,  171. ,  171.5,  172. ,  172.5,  173. ,  173.5,\n",
       "        174. ,  174.5,  175. ,  175.5,  176. ,  176.5,  177. ,  177.5,\n",
       "        178. ,  178.5,  179. ,  179.5,  180. ,  180.5,  181. ,  181.5,\n",
       "        182. ,  182.5,  183. ,  183.5,  184. ,  184.5,  185. ,  185.5,\n",
       "        186. ,  186.5,  187. ,  187.5,  188. ,  188.5,  189. ,  189.5,\n",
       "        190. ,  190.5,  191. ,  191.5,  192. ,  192.5,  193. ,  193.5,\n",
       "        194. ,  194.5,  195. ,  195.5,  196. ,  196.5,  197. ,  197.5,\n",
       "        198. ,  198.5,  199. ,  199.5,  200. ,  200.5,  201. ,  201.5,\n",
       "        202. ,  202.5,  203. ,  203.5,  204. ,  204.5,  205. ,  205.5,\n",
       "        206. ,  206.5,  207. ,  207.5,  208. ,  208.5,  209. ,  209.5,\n",
       "        210. ,  210.5,  211. ,  211.5,  212. ,  212.5,  213. ,  213.5,\n",
       "        214. ,  214.5,  215. ,  215.5,  216. ,  216.5,  217. ,  217.5,\n",
       "        218. ,  218.5,  219. ,  219.5,  220. ,  220.5,  221. ,  221.5,\n",
       "        222. ,  222.5,  223. ,  223.5,  224. ,  224.5,  225. ,  225.5,\n",
       "        226. ,  226.5,  227. ,  227.5,  228. ,  228.5,  229. ,  229.5,\n",
       "        230. ,  230.5,  231. ,  231.5,  232. ,  232.5,  233. ,  233.5,\n",
       "        234. ,  234.5,  235. ,  235.5,  236. ,  236.5,  237. ,  237.5,\n",
       "        238. ,  238.5,  239. ,  239.5,  240. ,  240.5,  241. ,  241.5,\n",
       "        242. ,  242.5,  243. ,  243.5,  244. ,  244.5,  245. ,  245.5,\n",
       "        246. ,  246.5,  247. ,  247.5,  248. ,  248.5,  249. ,  249.5])"
      ]
     },
     "execution_count": 48,
     "metadata": {},
     "output_type": "execute_result"
    }
   ],
   "source": [
    "vals[-1][:-1]"
   ]
  },
  {
   "cell_type": "code",
   "execution_count": 38,
   "metadata": {},
   "outputs": [],
   "source": [
    "import pickle\n",
    "\n",
    "h_r = pickle.load( open( DATADIR+\"/histogram_r.p\", \"rb\" ) )\n",
    "h_i = pickle.load( open( DATADIR+\"/histogram_i.p\", \"rb\" ) )\n",
    "#h_g = pickle.load( open( DATADIR+\"/histogram_g.p\", \"rb\" ) )\n",
    "h_z = pickle.load( open( DATADIR+\"/histogram_z.p\", \"rb\" ) )"
   ]
  },
  {
   "cell_type": "code",
   "execution_count": 39,
   "metadata": {
    "collapsed": true
   },
   "outputs": [],
   "source": [
    "hist = h_i[0]\n",
    "edges = h_i[1]"
   ]
  },
  {
   "cell_type": "code",
   "execution_count": 40,
   "metadata": {},
   "outputs": [
    {
     "data": {
      "image/png": "[encoded data removed]",
      "text/plain": [
       "<matplotlib.figure.Figure at 0x7f1231acf510>"
      ]
     },
     "metadata": {},
     "output_type": "display_data"
    }
   ],
   "source": [
    "plt.bar(edges[:-1],hist,width=1)\n",
    "plt.show()"
   ]
  },
  {
   "cell_type": "code",
   "execution_count": 25,
   "metadata": {},
   "outputs": [
    {
     "data": {
      "text/plain": [
       "array([-50. , -49.9, -49.8, -49.7, -49.6, -49.5, -49.4, -49.3, -49.2,\n",
       "       -49.1, -49. , -48.9, -48.8, -48.7, -48.6, -48.5, -48.4, -48.3,\n",
       "       -48.2, -48.1, -48. , -47.9, -47.8, -47.7, -47.6, -47.5, -47.4,\n",
       "       -47.3, -47.2, -47.1, -47. , -46.9, -46.8, -46.7, -46.6, -46.5,\n",
       "       -46.4, -46.3, -46.2, -46.1, -46. , -45.9, -45.8, -45.7, -45.6,\n",
       "       -45.5, -45.4, -45.3, -45.2, -45.1, -45. , -44.9, -44.8, -44.7,\n",
       "       -44.6, -44.5, -44.4, -44.3, -44.2, -44.1, -44. , -43.9, -43.8,\n",
       "       -43.7, -43.6, -43.5, -43.4, -43.3, -43.2, -43.1, -43. , -42.9,\n",
       "       -42.8, -42.7, -42.6, -42.5, -42.4, -42.3, -42.2, -42.1, -42. ,\n",
       "       -41.9, -41.8, -41.7, -41.6, -41.5, -41.4, -41.3, -41.2, -41.1,\n",
       "       -41. , -40.9, -40.8, -40.7, -40.6, -40.5, -40.4, -40.3, -40.2,\n",
       "       -40.1, -40. , -39.9, -39.8, -39.7, -39.6, -39.5, -39.4, -39.3,\n",
       "       -39.2, -39.1, -39. , -38.9, -38.8, -38.7, -38.6, -38.5, -38.4,\n",
       "       -38.3, -38.2, -38.1, -38. , -37.9, -37.8, -37.7, -37.6, -37.5,\n",
       "       -37.4, -37.3, -37.2, -37.1, -37. , -36.9, -36.8, -36.7, -36.6,\n",
       "       -36.5, -36.4, -36.3, -36.2, -36.1, -36. , -35.9, -35.8, -35.7,\n",
       "       -35.6, -35.5, -35.4, -35.3, -35.2, -35.1, -35. , -34.9, -34.8,\n",
       "       -34.7, -34.6, -34.5, -34.4, -34.3, -34.2, -34.1, -34. , -33.9,\n",
       "       -33.8, -33.7, -33.6, -33.5, -33.4, -33.3, -33.2, -33.1, -33. ,\n",
       "       -32.9, -32.8, -32.7, -32.6, -32.5, -32.4, -32.3, -32.2, -32.1,\n",
       "       -32. , -31.9, -31.8, -31.7, -31.6, -31.5, -31.4, -31.3, -31.2,\n",
       "       -31.1, -31. , -30.9, -30.8, -30.7, -30.6, -30.5, -30.4, -30.3,\n",
       "       -30.2, -30.1, -30. , -29.9, -29.8, -29.7, -29.6, -29.5, -29.4,\n",
       "       -29.3, -29.2, -29.1, -29. , -28.9, -28.8, -28.7, -28.6, -28.5,\n",
       "       -28.4, -28.3, -28.2, -28.1, -28. , -27.9, -27.8, -27.7, -27.6,\n",
       "       -27.5, -27.4, -27.3, -27.2, -27.1, -27. , -26.9, -26.8, -26.7,\n",
       "       -26.6, -26.5, -26.4, -26.3, -26.2, -26.1, -26. , -25.9, -25.8,\n",
       "       -25.7, -25.6, -25.5, -25.4, -25.3, -25.2, -25.1, -25. , -24.9,\n",
       "       -24.8, -24.7, -24.6, -24.5, -24.4, -24.3, -24.2, -24.1, -24. ,\n",
       "       -23.9, -23.8, -23.7, -23.6, -23.5, -23.4, -23.3, -23.2, -23.1,\n",
       "       -23. , -22.9, -22.8, -22.7, -22.6, -22.5, -22.4, -22.3, -22.2,\n",
       "       -22.1, -22. , -21.9, -21.8, -21.7, -21.6, -21.5, -21.4, -21.3,\n",
       "       -21.2, -21.1, -21. , -20.9, -20.8, -20.7, -20.6, -20.5, -20.4,\n",
       "       -20.3, -20.2, -20.1, -20. , -19.9, -19.8, -19.7, -19.6, -19.5,\n",
       "       -19.4, -19.3, -19.2, -19.1, -19. , -18.9, -18.8, -18.7, -18.6,\n",
       "       -18.5, -18.4, -18.3, -18.2, -18.1, -18. , -17.9, -17.8, -17.7,\n",
       "       -17.6, -17.5, -17.4, -17.3, -17.2, -17.1, -17. , -16.9, -16.8,\n",
       "       -16.7, -16.6, -16.5, -16.4, -16.3, -16.2, -16.1, -16. , -15.9,\n",
       "       -15.8, -15.7, -15.6, -15.5, -15.4, -15.3, -15.2, -15.1, -15. ,\n",
       "       -14.9, -14.8, -14.7, -14.6, -14.5, -14.4, -14.3, -14.2, -14.1,\n",
       "       -14. , -13.9, -13.8, -13.7, -13.6, -13.5, -13.4, -13.3, -13.2,\n",
       "       -13.1, -13. , -12.9, -12.8, -12.7, -12.6, -12.5, -12.4, -12.3,\n",
       "       -12.2, -12.1, -12. , -11.9, -11.8, -11.7, -11.6, -11.5, -11.4,\n",
       "       -11.3, -11.2, -11.1, -11. , -10.9, -10.8, -10.7, -10.6, -10.5,\n",
       "       -10.4, -10.3, -10.2, -10.1, -10. ,  -9.9,  -9.8,  -9.7,  -9.6,\n",
       "        -9.5,  -9.4,  -9.3,  -9.2,  -9.1,  -9. ,  -8.9,  -8.8,  -8.7,\n",
       "        -8.6,  -8.5,  -8.4,  -8.3,  -8.2,  -8.1,  -8. ,  -7.9,  -7.8,\n",
       "        -7.7,  -7.6,  -7.5,  -7.4,  -7.3,  -7.2,  -7.1,  -7. ,  -6.9,\n",
       "        -6.8,  -6.7,  -6.6,  -6.5,  -6.4,  -6.3,  -6.2,  -6.1,  -6. ,\n",
       "        -5.9,  -5.8,  -5.7,  -5.6,  -5.5,  -5.4,  -5.3,  -5.2,  -5.1,\n",
       "        -5. ,  -4.9,  -4.8,  -4.7,  -4.6,  -4.5,  -4.4,  -4.3,  -4.2,\n",
       "        -4.1,  -4. ,  -3.9,  -3.8,  -3.7,  -3.6,  -3.5,  -3.4,  -3.3,\n",
       "        -3.2,  -3.1,  -3. ,  -2.9,  -2.8,  -2.7,  -2.6,  -2.5,  -2.4,\n",
       "        -2.3,  -2.2,  -2.1,  -2. ,  -1.9,  -1.8,  -1.7,  -1.6,  -1.5,\n",
       "        -1.4,  -1.3,  -1.2,  -1.1,  -1. ,  -0.9,  -0.8,  -0.7,  -0.6,\n",
       "        -0.5,  -0.4,  -0.3,  -0.2,  -0.1,   0. ,   0.1,   0.2,   0.3,\n",
       "         0.4,   0.5,   0.6,   0.7,   0.8,   0.9,   1. ,   1.1,   1.2,\n",
       "         1.3,   1.4,   1.5,   1.6,   1.7,   1.8,   1.9,   2. ,   2.1,\n",
       "         2.2,   2.3,   2.4,   2.5,   2.6,   2.7,   2.8,   2.9,   3. ,\n",
       "         3.1,   3.2,   3.3,   3.4,   3.5,   3.6,   3.7,   3.8,   3.9,\n",
       "         4. ,   4.1,   4.2,   4.3,   4.4,   4.5,   4.6,   4.7,   4.8,\n",
       "         4.9,   5. ,   5.1,   5.2,   5.3,   5.4,   5.5,   5.6,   5.7,\n",
       "         5.8,   5.9,   6. ,   6.1,   6.2,   6.3,   6.4,   6.5,   6.6,\n",
       "         6.7,   6.8,   6.9,   7. ,   7.1,   7.2,   7.3,   7.4,   7.5,\n",
       "         7.6,   7.7,   7.8,   7.9,   8. ,   8.1,   8.2,   8.3,   8.4,\n",
       "         8.5,   8.6,   8.7,   8.8,   8.9,   9. ,   9.1,   9.2,   9.3,\n",
       "         9.4,   9.5,   9.6,   9.7,   9.8,   9.9,  10. ,  10.1,  10.2,\n",
       "        10.3,  10.4,  10.5,  10.6,  10.7,  10.8,  10.9,  11. ,  11.1,\n",
       "        11.2,  11.3,  11.4,  11.5,  11.6,  11.7,  11.8,  11.9,  12. ,\n",
       "        12.1,  12.2,  12.3,  12.4,  12.5,  12.6,  12.7,  12.8,  12.9,\n",
       "        13. ,  13.1,  13.2,  13.3,  13.4,  13.5,  13.6,  13.7,  13.8,\n",
       "        13.9,  14. ,  14.1,  14.2,  14.3,  14.4,  14.5,  14.6,  14.7,\n",
       "        14.8,  14.9,  15. ,  15.1,  15.2,  15.3,  15.4,  15.5,  15.6,\n",
       "        15.7,  15.8,  15.9,  16. ,  16.1,  16.2,  16.3,  16.4,  16.5,\n",
       "        16.6,  16.7,  16.8,  16.9,  17. ,  17.1,  17.2,  17.3,  17.4,\n",
       "        17.5,  17.6,  17.7,  17.8,  17.9,  18. ,  18.1,  18.2,  18.3,\n",
       "        18.4,  18.5,  18.6,  18.7,  18.8,  18.9,  19. ,  19.1,  19.2,\n",
       "        19.3,  19.4,  19.5,  19.6,  19.7,  19.8,  19.9,  20. ,  20.1,\n",
       "        20.2,  20.3,  20.4,  20.5,  20.6,  20.7,  20.8,  20.9,  21. ,\n",
       "        21.1,  21.2,  21.3,  21.4,  21.5,  21.6,  21.7,  21.8,  21.9,\n",
       "        22. ,  22.1,  22.2,  22.3,  22.4,  22.5,  22.6,  22.7,  22.8,\n",
       "        22.9,  23. ,  23.1,  23.2,  23.3,  23.4,  23.5,  23.6,  23.7,\n",
       "        23.8,  23.9,  24. ,  24.1,  24.2,  24.3,  24.4,  24.5,  24.6,\n",
       "        24.7,  24.8,  24.9,  25. ,  25.1,  25.2,  25.3,  25.4,  25.5,\n",
       "        25.6,  25.7,  25.8,  25.9,  26. ,  26.1,  26.2,  26.3,  26.4,\n",
       "        26.5,  26.6,  26.7,  26.8,  26.9,  27. ,  27.1,  27.2,  27.3,\n",
       "        27.4,  27.5,  27.6,  27.7,  27.8,  27.9,  28. ,  28.1,  28.2,\n",
       "        28.3,  28.4,  28.5,  28.6,  28.7,  28.8,  28.9,  29. ,  29.1,\n",
       "        29.2,  29.3,  29.4,  29.5,  29.6,  29.7,  29.8,  29.9,  30. ,\n",
       "        30.1,  30.2,  30.3,  30.4,  30.5,  30.6,  30.7,  30.8,  30.9,\n",
       "        31. ,  31.1,  31.2,  31.3,  31.4,  31.5,  31.6,  31.7,  31.8,\n",
       "        31.9,  32. ,  32.1,  32.2,  32.3,  32.4,  32.5,  32.6,  32.7,\n",
       "        32.8,  32.9,  33. ,  33.1,  33.2,  33.3,  33.4,  33.5,  33.6,\n",
       "        33.7,  33.8,  33.9,  34. ,  34.1,  34.2,  34.3,  34.4,  34.5,\n",
       "        34.6,  34.7,  34.8,  34.9,  35. ,  35.1,  35.2,  35.3,  35.4,\n",
       "        35.5,  35.6,  35.7,  35.8,  35.9,  36. ,  36.1,  36.2,  36.3,\n",
       "        36.4,  36.5,  36.6,  36.7,  36.8,  36.9,  37. ,  37.1,  37.2,\n",
       "        37.3,  37.4,  37.5,  37.6,  37.7,  37.8,  37.9,  38. ,  38.1,\n",
       "        38.2,  38.3,  38.4,  38.5,  38.6,  38.7,  38.8,  38.9,  39. ,\n",
       "        39.1,  39.2,  39.3,  39.4,  39.5,  39.6,  39.7,  39.8,  39.9,\n",
       "        40. ,  40.1,  40.2,  40.3,  40.4,  40.5,  40.6,  40.7,  40.8,\n",
       "        40.9,  41. ,  41.1,  41.2,  41.3,  41.4,  41.5,  41.6,  41.7,\n",
       "        41.8,  41.9,  42. ,  42.1,  42.2,  42.3,  42.4,  42.5,  42.6,\n",
       "        42.7,  42.8,  42.9,  43. ,  43.1,  43.2,  43.3,  43.4,  43.5,\n",
       "        43.6,  43.7,  43.8,  43.9,  44. ,  44.1,  44.2,  44.3,  44.4,\n",
       "        44.5,  44.6,  44.7,  44.8,  44.9,  45. ,  45.1,  45.2,  45.3,\n",
       "        45.4,  45.5,  45.6,  45.7,  45.8,  45.9,  46. ,  46.1,  46.2,\n",
       "        46.3,  46.4,  46.5,  46.6,  46.7,  46.8,  46.9,  47. ,  47.1,\n",
       "        47.2,  47.3,  47.4,  47.5,  47.6,  47.7,  47.8,  47.9,  48. ,\n",
       "        48.1,  48.2,  48.3,  48.4,  48.5,  48.6,  48.7,  48.8,  48.9,\n",
       "        49. ,  49.1,  49.2,  49.3,  49.4,  49.5,  49.6,  49.7,  49.8,  49.9])"
      ]
     },
     "execution_count": 25,
     "metadata": {},
     "output_type": "execute_result"
    }
   ],
   "source": [
    "edges[:-1]"
   ]
  },
  {
   "cell_type": "code",
   "execution_count": 26,
   "metadata": {
    "collapsed": true
   },
   "outputs": [],
   "source": [
    "vals = []\n",
    "for e, v in zip(edges, hist):\n",
    "    vals += [e]*v\n",
    "   \n",
    "    "
   ]
  },
  {
   "cell_type": "code",
   "execution_count": 27,
   "metadata": {
    "collapsed": true
   },
   "outputs": [],
   "source": [
    "st=np.std(vals)"
   ]
  },
  {
   "cell_type": "code",
   "execution_count": 28,
   "metadata": {},
   "outputs": [
    {
     "name": "stdout",
     "output_type": "stream",
     "text": [
      "12.105860528\n"
     ]
    }
   ],
   "source": [
    "print st*20"
   ]
  },
  {
   "cell_type": "code",
   "execution_count": null,
   "metadata": {
    "collapsed": true
   },
   "outputs": [],
   "source": []
  },
  {
   "cell_type": "code",
   "execution_count": null,
   "metadata": {
    "collapsed": true
   },
   "outputs": [],
   "source": []
  }
 ],
 "metadata": {
  "kernelspec": {
   "display_name": "Python 2",
   "language": "python",
   "name": "python2"
  },
  "language_info": {
   "codemirror_mode": {
    "name": "ipython",
    "version": 2
   },
   "file_extension": ".py",
   "mimetype": "text/x-python",
   "name": "python",
   "nbconvert_exporter": "python",
   "pygments_lexer": "ipython2",
   "version": "2.7.12"
  }
 },
 "nbformat": 4,
 "nbformat_minor": 2
}
