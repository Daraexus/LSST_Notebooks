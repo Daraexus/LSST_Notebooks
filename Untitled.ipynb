{
 "cells": [
  {
   "cell_type": "code",
   "execution_count": 6,
   "metadata": {
    "collapsed": true,
    "deletable": true,
    "editable": true
   },
   "outputs": [],
   "source": [
    "import lsst.daf.persistence as dafPersist\n",
    "import matplotlib.pyplot as plt\n",
    "import numpy as np\n",
    "\n",
    "import lsst.afw.table as afwTable\n",
    "import lsst.afw.geom as afwGeom\n",
    "import Utils.DiaSourceTools as DSTools\n",
    "from astropy.time import Time\n",
    "\n",
    "import lsst.afw.display.ds9 as ds9\n",
    "\n",
    "import re\n",
    "\n",
    "import lsst.daf.base as dafBase\n",
    "\n",
    "\n",
    "import DCTools\n",
    "\n",
    "\n",
    "from multiprocessing import Pool\n",
    "from functools import partial\n",
    "\n"
   ]
  },
  {
   "cell_type": "code",
   "execution_count": 7,
   "metadata": {
    "collapsed": true,
    "deletable": true,
    "editable": true
   },
   "outputs": [],
   "source": [
    "DATADIR=\"/datadec/cppm/jpreyes/CFHT_Complete\"\n",
    "directory = DATADIR+\"/detect_testSN_2/\"\n",
    "butler = dafPersist.Butler(directory) \n",
    "filter = 'r'\n"
   ]
  },
  {
   "cell_type": "code",
   "execution_count": 8,
   "metadata": {
    "collapsed": true,
    "deletable": true,
    "editable": true
   },
   "outputs": [],
   "source": [
    "dayCoadd = butler.get(\"deepCoadd\", dataId={\"filter\":filter,\"tract\":0, \"patch\":'21,21'})"
   ]
  },
  {
   "cell_type": "code",
   "execution_count": 9,
   "metadata": {
    "collapsed": false,
    "deletable": true,
    "editable": true
   },
   "outputs": [],
   "source": [
    "ds9.mtv(dayCoadd, frame=1)"
   ]
  },
  {
   "cell_type": "code",
   "execution_count": 10,
   "metadata": {
    "collapsed": true,
    "deletable": true,
    "editable": true
   },
   "outputs": [],
   "source": [
    "from lsst.ip.diffim import ImagePsfMatchTask, DipoleMeasurementTask\n",
    "from lsst.meas.algorithms.detection import SourceDetectionTask\n",
    "from lsst.meas.base import SingleFrameMeasurementTask\n",
    "from lsst.meas.deblender import SourceDeblendTask"
   ]
  },
  {
   "cell_type": "code",
   "execution_count": 11,
   "metadata": {
    "collapsed": false,
    "deletable": true,
    "editable": true
   },
   "outputs": [],
   "source": [
    "threshold = 6\n",
    "doSmooth=True\n",
    "schema = afwTable.SourceTable.makeMinimalSchema()\n",
    "\n",
    "\n",
    "algMetadata = dafBase.PropertyList()\n",
    "\n",
    "config = SourceDetectionTask.ConfigClass()\n",
    "#config.thresholdPolarity = \"both\"\n",
    "config.thresholdValue = threshold\n",
    "config.reEstimateBackground = False\n",
    "#config.thresholdType = \"pixel_stdev\"\n",
    "\n",
    "detectionTask = SourceDetectionTask(config=config, schema=schema)\n",
    "\n",
    "measurement = SingleFrameMeasurementTask\n",
    "config = measurement.ConfigClass()\n",
    "\n",
    "measurement = measurement(schema, config=config, algMetadata=algMetadata)\n",
    "\n",
    "\n",
    "\n",
    "deblend = SourceDeblendTask\n",
    "config = SourceDeblendTask.ConfigClass()\n",
    "deblend = deblend(schema)\n",
    "\n",
    "table = afwTable.SourceTable.make(schema)"
   ]
  },
  {
   "cell_type": "code",
   "execution_count": 12,
   "metadata": {
    "collapsed": false,
    "deletable": true,
    "editable": true
   },
   "outputs": [],
   "source": [
    "results = detectionTask.run(table=table, exposure=dayCoadd , doSmooth=doSmooth )\n",
    "\n",
    "sourcesCat = results.sources"
   ]
  },
  {
   "cell_type": "code",
   "execution_count": 13,
   "metadata": {
    "collapsed": true,
    "deletable": true,
    "editable": true
   },
   "outputs": [],
   "source": [
    "deblend.run(dayCoadd, sourcesCat, dayCoadd.getPsf())"
   ]
  },
  {
   "cell_type": "code",
   "execution_count": 14,
   "metadata": {
    "collapsed": false,
    "deletable": true,
    "editable": true
   },
   "outputs": [
    {
     "name": "stderr",
     "output_type": "stream",
     "text": [
      "/renoir_data_00/fouchez/lsst/DM/stacks/lsstsw/2016-04-04/lsstsw/miniconda/lib/python2.7/site-packages/numpy/core/_methods.py:59: RuntimeWarning: Mean of empty slice.\n",
      "  warnings.warn(\"Mean of empty slice.\", RuntimeWarning)\n",
      "/renoir_data_00/fouchez/lsst/DM/stacks/lsstsw/2016-04-04/lsstsw/miniconda/lib/python2.7/site-packages/numpy/core/_methods.py:70: RuntimeWarning: invalid value encountered in true_divide\n",
      "  ret = ret.dtype.type(ret / rcount)\n"
     ]
    }
   ],
   "source": [
    "\n",
    "\n",
    "measurement.run(measCat=sourcesCat, exposure=dayCoadd)\n",
    "\n"
   ]
  },
  {
   "cell_type": "code",
   "execution_count": 15,
   "metadata": {
    "collapsed": false,
    "deletable": true,
    "editable": true
   },
   "outputs": [],
   "source": [
    "import astropy.coordinates as coord\n",
    "import astropy.units as u\n",
    "\n",
    "sourcesCat\n",
    "\n",
    "for source in sourcesCat:\n",
    "    c = coord.SkyCoord(ra=float(source[\"coord_ra\"]), dec=float(source[\"coord_dec\"]), unit=(u.rad))\n",
    "    #print c.ra.deg, c.dec.deg\n",
    "    wcs = dayCoadd.getWcs()\n",
    "    pix = wcs.skyToPixel(afwGeom.Angle(c.ra.rad), afwGeom.Angle(c.dec.rad))\n",
    "    #print pix\n",
    "  \n",
    "    ds9.dot('x',pix[0], pix[1], frame=1)\n",
    "  "
   ]
  },
  {
   "cell_type": "code",
   "execution_count": 26,
   "metadata": {
    "collapsed": false,
    "deletable": true,
    "editable": true
   },
   "outputs": [
    {
     "data": {
      "text/plain": [
       "Schema(\n",
       "    (Field['L'](name=\"id\", doc=\"unique ID\"), Key<L>(offset=0, nElements=1)),\n",
       "    (Field['Angle'](name=\"coord_ra\", doc=\"position in ra/dec\"), Key<Angle>(offset=8, nElements=1)),\n",
       "    (Field['Angle'](name=\"coord_dec\", doc=\"position in ra/dec\"), Key<Angle>(offset=16, nElements=1)),\n",
       "    (Field['L'](name=\"parent\", doc=\"unique ID of parent source\"), Key<L>(offset=24, nElements=1)),\n",
       "    (Field['Flag'](name=\"flags_negative\", doc=\"set if source was detected as significantly negative\"), Key['Flag'](offset=32, bit=0)),\n",
       "    (Field['D'](name=\"base_GaussianCentroid_x\", doc=\"centroid from Gaussian Centroid algorithm\", units=\"pixels\"), Key<D>(offset=40, nElements=1)),\n",
       "    (Field['D'](name=\"base_GaussianCentroid_y\", doc=\"centroid from Gaussian Centroid algorithm\", units=\"pixels\"), Key<D>(offset=48, nElements=1)),\n",
       "    (Field['Flag'](name=\"base_GaussianCentroid_flag\", doc=\"general failure flag, set if anything went wrong\"), Key['Flag'](offset=32, bit=1)),\n",
       "    (Field['Flag'](name=\"base_GaussianCentroid_flag_noPeak\", doc=\"Fitted Centroid has a negative peak\"), Key['Flag'](offset=32, bit=2)),\n",
       "    (Field['D'](name=\"base_NaiveCentroid_x\", doc=\"centroid from Naive Centroid algorithm\", units=\"pixels\"), Key<D>(offset=56, nElements=1)),\n",
       "    (Field['D'](name=\"base_NaiveCentroid_y\", doc=\"centroid from Naive Centroid algorithm\", units=\"pixels\"), Key<D>(offset=64, nElements=1)),\n",
       "    (Field['Flag'](name=\"base_NaiveCentroid_flag\", doc=\"general failure flag, set if anything went wrong\"), Key['Flag'](offset=32, bit=3)),\n",
       "    (Field['Flag'](name=\"base_NaiveCentroid_flag_noCounts\", doc=\"Object to be centroided has no counts\"), Key['Flag'](offset=32, bit=4)),\n",
       "    (Field['Flag'](name=\"base_NaiveCentroid_flag_edge\", doc=\"Object too close to edge\"), Key['Flag'](offset=32, bit=5)),\n",
       "    (Field['D'](name=\"base_SdssCentroid_x\", doc=\"centroid from Sdss Centroid algorithm\", units=\"pixels\"), Key<D>(offset=72, nElements=1)),\n",
       "    (Field['D'](name=\"base_SdssCentroid_y\", doc=\"centroid from Sdss Centroid algorithm\", units=\"pixels\"), Key<D>(offset=80, nElements=1)),\n",
       "    (Field['F'](name=\"base_SdssCentroid_xSigma\", doc=\"1-sigma uncertainty on x position\", units=\"pixels\"), Key<F>(offset=88, nElements=1)),\n",
       "    (Field['F'](name=\"base_SdssCentroid_ySigma\", doc=\"1-sigma uncertainty on y position\", units=\"pixels\"), Key<F>(offset=92, nElements=1)),\n",
       "    (Field['Flag'](name=\"base_SdssCentroid_flag\", doc=\"general failure flag, set if anything went wrong\"), Key['Flag'](offset=32, bit=6)),\n",
       "    (Field['Flag'](name=\"base_SdssCentroid_flag_edge\", doc=\"Object too close to edge\"), Key['Flag'](offset=32, bit=7)),\n",
       "    (Field['Flag'](name=\"base_SdssCentroid_flag_noSecondDerivative\", doc=\"Vanishing second derivative\"), Key['Flag'](offset=32, bit=8)),\n",
       "    (Field['Flag'](name=\"base_SdssCentroid_flag_almostNoSecondDerivative\", doc=\"Almost vanishing second derivative\"), Key['Flag'](offset=32, bit=9)),\n",
       "    (Field['Flag'](name=\"base_SdssCentroid_flag_notAtMaximum\", doc=\"Object is not at a maximum\"), Key['Flag'](offset=32, bit=10)),\n",
       "    (Field['D'](name=\"base_SdssShape_xx\", doc=\"elliptical Gaussian adaptive moments\", units=\"pixels^2\"), Key<D>(offset=96, nElements=1)),\n",
       "    (Field['D'](name=\"base_SdssShape_yy\", doc=\"elliptical Gaussian adaptive moments\", units=\"pixels^2\"), Key<D>(offset=104, nElements=1)),\n",
       "    (Field['D'](name=\"base_SdssShape_xy\", doc=\"elliptical Gaussian adaptive moments\", units=\"pixels^2\"), Key<D>(offset=112, nElements=1)),\n",
       "    (Field['F'](name=\"base_SdssShape_xxSigma\", doc=\"1-sigma uncertainty on xx moment\", units=\"pixels^2\"), Key<F>(offset=120, nElements=1)),\n",
       "    (Field['F'](name=\"base_SdssShape_yySigma\", doc=\"1-sigma uncertainty on yy moment\", units=\"pixels^2\"), Key<F>(offset=124, nElements=1)),\n",
       "    (Field['F'](name=\"base_SdssShape_xySigma\", doc=\"1-sigma uncertainty on xy moment\", units=\"pixels^2\"), Key<F>(offset=128, nElements=1)),\n",
       "    (Field['D'](name=\"base_SdssShape_x\", doc=\"elliptical Gaussian adaptive moments\", units=\"pixels\"), Key<D>(offset=136, nElements=1)),\n",
       "    (Field['D'](name=\"base_SdssShape_y\", doc=\"elliptical Gaussian adaptive moments\", units=\"pixels\"), Key<D>(offset=144, nElements=1)),\n",
       "    (Field['D'](name=\"base_SdssShape_flux\", doc=\"elliptical Gaussian adaptive moments\", units=\"dn\"), Key<D>(offset=152, nElements=1)),\n",
       "    (Field['D'](name=\"base_SdssShape_fluxSigma\", doc=\"1-sigma flux uncertainty\", units=\"dn\"), Key<D>(offset=160, nElements=1)),\n",
       "    (Field['F'](name=\"base_SdssShape_flux_xx_Cov\", doc=\"uncertainty covariance between base_SdssShape_flux and base_SdssShape_xx\", units=\"dn*pixels^2\"), Key<F>(offset=168, nElements=1)),\n",
       "    (Field['F'](name=\"base_SdssShape_flux_yy_Cov\", doc=\"uncertainty covariance between base_SdssShape_flux and base_SdssShape_yy\", units=\"dn*pixels^2\"), Key<F>(offset=172, nElements=1)),\n",
       "    (Field['F'](name=\"base_SdssShape_flux_xy_Cov\", doc=\"uncertainty covariance between base_SdssShape_flux and base_SdssShape_xy\", units=\"dn*pixels^2\"), Key<F>(offset=176, nElements=1)),\n",
       "    (Field['Flag'](name=\"base_SdssShape_flag\", doc=\"general failure flag, set if anything went wrong\"), Key['Flag'](offset=32, bit=11)),\n",
       "    (Field['Flag'](name=\"base_SdssShape_flag_unweightedBad\", doc=\"Both weighted and unweighted moments were invalid\"), Key['Flag'](offset=32, bit=12)),\n",
       "    (Field['Flag'](name=\"base_SdssShape_flag_unweighted\", doc=\"Weighted moments converged to an invalid value; using unweighted moments\"), Key['Flag'](offset=32, bit=13)),\n",
       "    (Field['Flag'](name=\"base_SdssShape_flag_shift\", doc=\"centroid shifted by more than the maximum allowed amount\"), Key['Flag'](offset=32, bit=14)),\n",
       "    (Field['Flag'](name=\"base_SdssShape_flag_maxIter\", doc=\"Too many iterations in adaptive moments\"), Key['Flag'](offset=32, bit=15)),\n",
       "    (Field['D'](name=\"base_CircularApertureFlux_3_0_flux\", doc=\"flux within 3.000000-pixel aperture\", units=\"dn\"), Key<D>(offset=184, nElements=1)),\n",
       "    (Field['D'](name=\"base_CircularApertureFlux_3_0_fluxSigma\", doc=\"1-sigma flux uncertainty\", units=\"dn\"), Key<D>(offset=192, nElements=1)),\n",
       "    (Field['Flag'](name=\"base_CircularApertureFlux_3_0_flag\", doc=\"general failure flag\"), Key['Flag'](offset=32, bit=16)),\n",
       "    (Field['Flag'](name=\"base_CircularApertureFlux_3_0_flag_apertureTruncated\", doc=\"aperture did not fit within measurement image\"), Key['Flag'](offset=32, bit=17)),\n",
       "    (Field['Flag'](name=\"base_CircularApertureFlux_3_0_flag_sincCoeffsTruncated\", doc=\"full sinc coefficient image did not fit within measurement image\"), Key['Flag'](offset=32, bit=18)),\n",
       "    (Field['D'](name=\"base_CircularApertureFlux_4_5_flux\", doc=\"flux within 4.500000-pixel aperture\", units=\"dn\"), Key<D>(offset=200, nElements=1)),\n",
       "    (Field['D'](name=\"base_CircularApertureFlux_4_5_fluxSigma\", doc=\"1-sigma flux uncertainty\", units=\"dn\"), Key<D>(offset=208, nElements=1)),\n",
       "    (Field['Flag'](name=\"base_CircularApertureFlux_4_5_flag\", doc=\"general failure flag\"), Key['Flag'](offset=32, bit=19)),\n",
       "    (Field['Flag'](name=\"base_CircularApertureFlux_4_5_flag_apertureTruncated\", doc=\"aperture did not fit within measurement image\"), Key['Flag'](offset=32, bit=20)),\n",
       "    (Field['Flag'](name=\"base_CircularApertureFlux_4_5_flag_sincCoeffsTruncated\", doc=\"full sinc coefficient image did not fit within measurement image\"), Key['Flag'](offset=32, bit=21)),\n",
       "    (Field['D'](name=\"base_CircularApertureFlux_6_0_flux\", doc=\"flux within 6.000000-pixel aperture\", units=\"dn\"), Key<D>(offset=216, nElements=1)),\n",
       "    (Field['D'](name=\"base_CircularApertureFlux_6_0_fluxSigma\", doc=\"1-sigma flux uncertainty\", units=\"dn\"), Key<D>(offset=224, nElements=1)),\n",
       "    (Field['Flag'](name=\"base_CircularApertureFlux_6_0_flag\", doc=\"general failure flag\"), Key['Flag'](offset=32, bit=22)),\n",
       "    (Field['Flag'](name=\"base_CircularApertureFlux_6_0_flag_apertureTruncated\", doc=\"aperture did not fit within measurement image\"), Key['Flag'](offset=32, bit=23)),\n",
       "    (Field['Flag'](name=\"base_CircularApertureFlux_6_0_flag_sincCoeffsTruncated\", doc=\"full sinc coefficient image did not fit within measurement image\"), Key['Flag'](offset=32, bit=24)),\n",
       "    (Field['D'](name=\"base_CircularApertureFlux_9_0_flux\", doc=\"flux within 9.000000-pixel aperture\", units=\"dn\"), Key<D>(offset=232, nElements=1)),\n",
       "    (Field['D'](name=\"base_CircularApertureFlux_9_0_fluxSigma\", doc=\"1-sigma flux uncertainty\", units=\"dn\"), Key<D>(offset=240, nElements=1)),\n",
       "    (Field['Flag'](name=\"base_CircularApertureFlux_9_0_flag\", doc=\"general failure flag\"), Key['Flag'](offset=32, bit=25)),\n",
       "    (Field['Flag'](name=\"base_CircularApertureFlux_9_0_flag_apertureTruncated\", doc=\"aperture did not fit within measurement image\"), Key['Flag'](offset=32, bit=26)),\n",
       "    (Field['Flag'](name=\"base_CircularApertureFlux_9_0_flag_sincCoeffsTruncated\", doc=\"full sinc coefficient image did not fit within measurement image\"), Key['Flag'](offset=32, bit=27)),\n",
       "    (Field['D'](name=\"base_CircularApertureFlux_12_0_flux\", doc=\"flux within 12.000000-pixel aperture\", units=\"dn\"), Key<D>(offset=248, nElements=1)),\n",
       "    (Field['D'](name=\"base_CircularApertureFlux_12_0_fluxSigma\", doc=\"1-sigma flux uncertainty\", units=\"dn\"), Key<D>(offset=256, nElements=1)),\n",
       "    (Field['Flag'](name=\"base_CircularApertureFlux_12_0_flag\", doc=\"general failure flag\"), Key['Flag'](offset=32, bit=28)),\n",
       "    (Field['Flag'](name=\"base_CircularApertureFlux_12_0_flag_apertureTruncated\", doc=\"aperture did not fit within measurement image\"), Key['Flag'](offset=32, bit=29)),\n",
       "    (Field['D'](name=\"base_CircularApertureFlux_17_0_flux\", doc=\"flux within 17.000000-pixel aperture\", units=\"dn\"), Key<D>(offset=264, nElements=1)),\n",
       "    (Field['D'](name=\"base_CircularApertureFlux_17_0_fluxSigma\", doc=\"1-sigma flux uncertainty\", units=\"dn\"), Key<D>(offset=272, nElements=1)),\n",
       "    (Field['Flag'](name=\"base_CircularApertureFlux_17_0_flag\", doc=\"general failure flag\"), Key['Flag'](offset=32, bit=30)),\n",
       "    (Field['Flag'](name=\"base_CircularApertureFlux_17_0_flag_apertureTruncated\", doc=\"aperture did not fit within measurement image\"), Key['Flag'](offset=32, bit=31)),\n",
       "    (Field['D'](name=\"base_CircularApertureFlux_25_0_flux\", doc=\"flux within 25.000000-pixel aperture\", units=\"dn\"), Key<D>(offset=280, nElements=1)),\n",
       "    (Field['D'](name=\"base_CircularApertureFlux_25_0_fluxSigma\", doc=\"1-sigma flux uncertainty\", units=\"dn\"), Key<D>(offset=288, nElements=1)),\n",
       "    (Field['Flag'](name=\"base_CircularApertureFlux_25_0_flag\", doc=\"general failure flag\"), Key['Flag'](offset=32, bit=32)),\n",
       "    (Field['Flag'](name=\"base_CircularApertureFlux_25_0_flag_apertureTruncated\", doc=\"aperture did not fit within measurement image\"), Key['Flag'](offset=32, bit=33)),\n",
       "    (Field['D'](name=\"base_CircularApertureFlux_35_0_flux\", doc=\"flux within 35.000000-pixel aperture\", units=\"dn\"), Key<D>(offset=296, nElements=1)),\n",
       "    (Field['D'](name=\"base_CircularApertureFlux_35_0_fluxSigma\", doc=\"1-sigma flux uncertainty\", units=\"dn\"), Key<D>(offset=304, nElements=1)),\n",
       "    (Field['Flag'](name=\"base_CircularApertureFlux_35_0_flag\", doc=\"general failure flag\"), Key['Flag'](offset=32, bit=34)),\n",
       "    (Field['Flag'](name=\"base_CircularApertureFlux_35_0_flag_apertureTruncated\", doc=\"aperture did not fit within measurement image\"), Key['Flag'](offset=32, bit=35)),\n",
       "    (Field['D'](name=\"base_CircularApertureFlux_50_0_flux\", doc=\"flux within 50.000000-pixel aperture\", units=\"dn\"), Key<D>(offset=312, nElements=1)),\n",
       "    (Field['D'](name=\"base_CircularApertureFlux_50_0_fluxSigma\", doc=\"1-sigma flux uncertainty\", units=\"dn\"), Key<D>(offset=320, nElements=1)),\n",
       "    (Field['Flag'](name=\"base_CircularApertureFlux_50_0_flag\", doc=\"general failure flag\"), Key['Flag'](offset=32, bit=36)),\n",
       "    (Field['Flag'](name=\"base_CircularApertureFlux_50_0_flag_apertureTruncated\", doc=\"aperture did not fit within measurement image\"), Key['Flag'](offset=32, bit=37)),\n",
       "    (Field['D'](name=\"base_CircularApertureFlux_70_0_flux\", doc=\"flux within 70.000000-pixel aperture\", units=\"dn\"), Key<D>(offset=328, nElements=1)),\n",
       "    (Field['D'](name=\"base_CircularApertureFlux_70_0_fluxSigma\", doc=\"1-sigma flux uncertainty\", units=\"dn\"), Key<D>(offset=336, nElements=1)),\n",
       "    (Field['Flag'](name=\"base_CircularApertureFlux_70_0_flag\", doc=\"general failure flag\"), Key['Flag'](offset=32, bit=38)),\n",
       "    (Field['Flag'](name=\"base_CircularApertureFlux_70_0_flag_apertureTruncated\", doc=\"aperture did not fit within measurement image\"), Key['Flag'](offset=32, bit=39)),\n",
       "    (Field['D'](name=\"base_GaussianFlux_flux\", doc=\"flux from Gaussian Flux algorithm\", units=\"dn\"), Key<D>(offset=344, nElements=1)),\n",
       "    (Field['D'](name=\"base_GaussianFlux_fluxSigma\", doc=\"1-sigma flux uncertainty\", units=\"dn\"), Key<D>(offset=352, nElements=1)),\n",
       "    (Field['Flag'](name=\"base_GaussianFlux_flag\", doc=\"general failure flag, set if anything went wrong\"), Key['Flag'](offset=32, bit=40)),\n",
       "    (Field['Flag'](name=\"base_PixelFlags_flag\", doc=\"general failure flag, set if anything went wring\"), Key['Flag'](offset=32, bit=41)),\n",
       "    (Field['Flag'](name=\"base_PixelFlags_flag_offimage\", doc=\"Source center is off image\"), Key['Flag'](offset=32, bit=42)),\n",
       "    (Field['Flag'](name=\"base_PixelFlags_flag_edge\", doc=\"Source is outside usable exposure region (masked EDGE or NO_DATA)\"), Key['Flag'](offset=32, bit=43)),\n",
       "    (Field['Flag'](name=\"base_PixelFlags_flag_interpolated\", doc=\"Interpolated pixel in the Source footprint\"), Key['Flag'](offset=32, bit=44)),\n",
       "    (Field['Flag'](name=\"base_PixelFlags_flag_saturated\", doc=\"Saturated pixel in the Source footprint\"), Key['Flag'](offset=32, bit=45)),\n",
       "    (Field['Flag'](name=\"base_PixelFlags_flag_cr\", doc=\"Cosmic ray in the Source footprint\"), Key['Flag'](offset=32, bit=46)),\n",
       "    (Field['Flag'](name=\"base_PixelFlags_flag_bad\", doc=\"Bad pixel in the Source footprint\"), Key['Flag'](offset=32, bit=47)),\n",
       "    (Field['Flag'](name=\"base_PixelFlags_flag_suspect\", doc=\"Source's footprint includes suspect pixels\"), Key['Flag'](offset=32, bit=48)),\n",
       "    (Field['Flag'](name=\"base_PixelFlags_flag_interpolatedCenter\", doc=\"Interpolated pixel in the Source center\"), Key['Flag'](offset=32, bit=49)),\n",
       "    (Field['Flag'](name=\"base_PixelFlags_flag_saturatedCenter\", doc=\"Saturated pixel in the Source center\"), Key['Flag'](offset=32, bit=50)),\n",
       "    (Field['Flag'](name=\"base_PixelFlags_flag_crCenter\", doc=\"Cosmic ray in the Source center\"), Key['Flag'](offset=32, bit=51)),\n",
       "    (Field['Flag'](name=\"base_PixelFlags_flag_suspectCenter\", doc=\"Source's center is close to suspect pixels\"), Key['Flag'](offset=32, bit=52)),\n",
       "    (Field['D'](name=\"base_PsfFlux_flux\", doc=\"flux derived from linear least-squares fit of PSF model\", units=\"dn\"), Key<D>(offset=360, nElements=1)),\n",
       "    (Field['D'](name=\"base_PsfFlux_fluxSigma\", doc=\"1-sigma flux uncertainty\", units=\"dn\"), Key<D>(offset=368, nElements=1)),\n",
       "    (Field['Flag'](name=\"base_PsfFlux_flag\", doc=\"general failure flag\"), Key['Flag'](offset=32, bit=53)),\n",
       "    (Field['Flag'](name=\"base_PsfFlux_flag_noGoodPixels\", doc=\"not enough non-rejected pixels in data to attempt the fit\"), Key['Flag'](offset=32, bit=54)),\n",
       "    (Field['Flag'](name=\"base_PsfFlux_flag_edge\", doc=\"object was too close to the edge of the image to use the full PSF model\"), Key['Flag'](offset=32, bit=55)),\n",
       "    (Field['D'](name=\"base_Variance_value\", doc=\"Variance at object position\"), Key<D>(offset=376, nElements=1)),\n",
       "    (Field['Flag'](name=\"base_Variance_flag\", doc=\"Set to True for any fatal failure\"), Key['Flag'](offset=32, bit=56)),\n",
       "    (Field['D'](name=\"base_ClassificationExtendedness_value\", doc=\"Set to 1 for extended sources, 0 for point sources.\"), Key<D>(offset=384, nElements=1)),\n",
       "    (Field['Flag'](name=\"base_ClassificationExtendedness_flag\", doc=\"Set to 1 for any fatal failure.\"), Key['Flag'](offset=32, bit=57)),\n",
       "    (Field['D'](name=\"base_PsfFlux_apCorr\", doc=\"aperture correction applied to base_PsfFlux\"), Key<D>(offset=392, nElements=1)),\n",
       "    (Field['D'](name=\"base_PsfFlux_apCorrSigma\", doc=\"aperture correction applied to base_PsfFlux\"), Key<D>(offset=400, nElements=1)),\n",
       "    (Field['Flag'](name=\"base_PsfFlux_flag_apCorr\", doc=\"set if unable to aperture correct base_PsfFlux\"), Key['Flag'](offset=32, bit=58)),\n",
       "    (Field['D'](name=\"base_GaussianFlux_apCorr\", doc=\"aperture correction applied to base_GaussianFlux\"), Key<D>(offset=408, nElements=1)),\n",
       "    (Field['D'](name=\"base_GaussianFlux_apCorrSigma\", doc=\"aperture correction applied to base_GaussianFlux\"), Key<D>(offset=416, nElements=1)),\n",
       "    (Field['Flag'](name=\"base_GaussianFlux_flag_apCorr\", doc=\"set if unable to aperture correct base_GaussianFlux\"), Key['Flag'](offset=32, bit=59)),\n",
       "    (Field['I'](name=\"deblend_nChild\", doc=\"Number of children this object has (defaults to 0)\"), Key<I>(offset=424, nElements=1)),\n",
       "    (Field['Flag'](name=\"deblend_deblendedAsPsf\", doc=\"Deblender thought this source looked like a PSF\"), Key['Flag'](offset=32, bit=60)),\n",
       "    (Field['D'](name=\"deblend_psfCenter_x\", doc=\"If deblended-as-psf, the PSF centroid\", units=\"pixels\"), Key<D>(offset=432, nElements=1)),\n",
       "    (Field['D'](name=\"deblend_psfCenter_y\", doc=\"If deblended-as-psf, the PSF centroid\", units=\"pixels\"), Key<D>(offset=440, nElements=1)),\n",
       "    (Field['D'](name=\"deblend_psfFlux\", doc=\"If deblended-as-psf, the PSF flux\"), Key<D>(offset=448, nElements=1)),\n",
       "    (Field['Flag'](name=\"deblend_tooManyPeaks\", doc=\"Source had too many peaks; only the brightest were included\"), Key['Flag'](offset=32, bit=61)),\n",
       "    (Field['Flag'](name=\"deblend_parentTooBig\", doc=\"Parent footprint covered too many pixels\"), Key['Flag'](offset=32, bit=62)),\n",
       "    (Field['Flag'](name=\"deblend_masked\", doc=\"Parent footprint was predominantly masked\"), Key['Flag'](offset=32, bit=63)),\n",
       "    (Field['Flag'](name=\"deblend_skipped\", doc=\"Deblender skipped this source\"), Key['Flag'](offset=456, bit=0)),\n",
       "    (Field['Flag'](name=\"deblend_rampedTemplate\", doc=\"This source was near an image edge and the deblender used \"ramp\" edge-handling.\"), Key['Flag'](offset=456, bit=1)),\n",
       "    (Field['Flag'](name=\"deblend_patchedTemplate\", doc=\"This source was near an image edge and the deblender used \"patched\" edge-handling.\"), Key['Flag'](offset=456, bit=2)),\n",
       "    (Field['Flag'](name=\"deblend_hasStrayFlux\", doc=\"This source was assigned some stray flux\"), Key['Flag'](offset=456, bit=3)),\n",
       "    'base_CircularApertureFlux_flag_badCentroid'->'base_SdssCentroid_flag'\n",
       "    'base_GaussianCentroid_flag_badInitialCentroid'->'base_SdssCentroid_flag'\n",
       "    'base_GaussianFlux_flag_badCentroid'->'base_SdssCentroid_flag'\n",
       "    'base_GaussianFlux_flag_badShape'->'base_SdssShape_flag'\n",
       "    'base_NaiveCentroid_flag_badInitialCentroid'->'base_SdssCentroid_flag'\n",
       "    'base_PsfFlux_flag_badCentroid'->'base_SdssCentroid_flag'\n",
       "    'base_SdssShape_flag_badCentroid'->'base_SdssCentroid_flag'\n",
       "    'base_Variance_flag_badCentroid'->'base_SdssCentroid_flag'\n",
       "    'slot_ApFlux'->'base_CircularApertureFlux_3_0'\n",
       "    'slot_CalibFlux'->'base_CircularApertureFlux_12_0'\n",
       "    'slot_Centroid'->'base_SdssCentroid'\n",
       "    'slot_InstFlux'->'base_GaussianFlux'\n",
       "    'slot_ModelFlux'->'base_GaussianFlux'\n",
       "    'slot_PsfFlux'->'base_PsfFlux'\n",
       "    'slot_Shape'->'base_SdssShape'\n",
       ")"
      ]
     },
     "execution_count": 26,
     "metadata": {},
     "output_type": "execute_result"
    }
   ],
   "source": [
    "sourcesCat.schema"
   ]
  },
  {
   "cell_type": "code",
   "execution_count": 24,
   "metadata": {
    "collapsed": true,
    "deletable": true,
    "editable": true
   },
   "outputs": [],
   "source": [
    "diaSources = butler.get(\"dayDiff_class_diaSrc\", dataId={\"filter\":filter,\"tract\":0, \"patch\":'21,21', 'date':'2006-04-23'})"
   ]
  },
  {
   "cell_type": "code",
   "execution_count": 25,
   "metadata": {
    "collapsed": true,
    "deletable": true,
    "editable": true
   },
   "outputs": [],
   "source": [
    "\n",
    "\n",
    "sourcesCat\n",
    "\n",
    "for source in diaSources:\n",
    "    c = coord.SkyCoord(ra=float(source[\"coord_ra\"]), dec=float(source[\"coord_dec\"]), unit=(u.rad))\n",
    "    #print c.ra.deg, c.dec.deg\n",
    "    wcs = dayCoadd.getWcs()\n",
    "    pix = wcs.skyToPixel(afwGeom.Angle(c.ra.rad), afwGeom.Angle(c.dec.rad))\n",
    "    #print pix\n",
    "  \n",
    "    ds9.dot('o',pix[0], pix[1], frame=1, ctype=ds9.RED)"
   ]
  },
  {
   "cell_type": "code",
   "execution_count": 29,
   "metadata": {
    "collapsed": false,
    "deletable": true,
    "editable": true
   },
   "outputs": [],
   "source": [
    "fluxes=[]\n",
    "for source in diaSources:\n",
    "    min_distance = 5\n",
    "    flux = np.nan\n",
    "    for ref_source in sourcesCat:\n",
    "        s1 = {'ra':source[\"coord_ra\"],'dec':source[\"coord_dec\"]}\n",
    "        s2 = {'ra':ref_source[\"coord_ra\"],'dec':ref_source[\"coord_dec\"]}\n",
    "        \n",
    "        if DSTools.source_distance(s1,s2) < min_distance:\n",
    "            min_distance = DSTools.source_distance(s1,s2)\n",
    "            flux = ref_source[\"base_CircularApertureFlux_4_5_flux\"]\n",
    "         \n",
    "    fluxes.append(flux)"
   ]
  },
  {
   "cell_type": "code",
   "execution_count": 30,
   "metadata": {
    "collapsed": false,
    "deletable": true,
    "editable": true
   },
   "outputs": [
    {
     "name": "stdout",
     "output_type": "stream",
     "text": [
      "-6.49922323227 8472.05859375\n",
      "3.66458201408 nan\n",
      "3.78766727448 nan\n",
      "4.10310316086 2213.88354492\n",
      "-10.4972572327 4720.73388672\n",
      "0.451183855534 1488.90429688\n",
      "0.636994540691 1795.18920898\n",
      "-6.66313362122 2302.61206055\n",
      "3.3821849823 140.82232666\n",
      "nan 199.660766602\n",
      "568.497192383 7955.83349609\n",
      "-3.29989361763 319.952789307\n",
      "4.80262899399 1.20591259003\n",
      "-29.1444911957 14223.2402344\n"
     ]
    }
   ],
   "source": [
    "for source, flux in zip(diaSources, fluxes):\n",
    "    print source[\"base_CircularApertureFlux_4_5_flux\"], flux"
   ]
  },
  {
   "cell_type": "code",
   "execution_count": 47,
   "metadata": {
    "collapsed": false,
    "deletable": true,
    "editable": true
   },
   "outputs": [
    {
     "data": {
      "text/plain": [
       "0"
      ]
     },
     "execution_count": 47,
     "metadata": {},
     "output_type": "execute_result"
    }
   ],
   "source": []
  },
  {
   "cell_type": "code",
   "execution_count": null,
   "metadata": {
    "collapsed": true,
    "deletable": true,
    "editable": true
   },
   "outputs": [],
   "source": []
  }
 ],
 "metadata": {
  "kernelspec": {
   "display_name": "Python 2",
   "language": "python",
   "name": "python2"
  },
  "language_info": {
   "codemirror_mode": {
    "name": "ipython",
    "version": 2
   },
   "file_extension": ".py",
   "mimetype": "text/x-python",
   "name": "python",
   "nbconvert_exporter": "python",
   "pygments_lexer": "ipython2",
   "version": "2.7.12"
  }
 },
 "nbformat": 4,
 "nbformat_minor": 0
}
