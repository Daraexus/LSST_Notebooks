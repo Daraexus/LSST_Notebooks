{
 "cells": [
  {
   "cell_type": "code",
   "execution_count": 21,
   "metadata": {
    "collapsed": true,
    "deletable": true,
    "editable": true
   },
   "outputs": [],
   "source": [
    "import lsst.daf.persistence as dafPersist\n",
    "import matplotlib.pyplot as plt\n",
    "import numpy as np\n",
    "\n",
    "import lsst.afw.image as afwImage\n",
    "import lsst.afw.table as afwTable\n",
    "import lsst.afw.geom as afwGeom\n",
    "import Utils.DiaSourceTools as DSTools\n",
    "from astropy.time import Time\n",
    "\n",
    "import lsst.afw.display.ds9 as ds9\n",
    "\n",
    "import re"
   ]
  },
  {
   "cell_type": "code",
   "execution_count": 4,
   "metadata": {
    "collapsed": true,
    "deletable": true,
    "editable": true
   },
   "outputs": [],
   "source": [
    "DATADIR=\"/datadec/cppm/jpreyes/CFHT_Test/\"\n",
    "DATADIR=\"/renoir_data_02/jpreyes/lsst_data/CFHTLS_daytest/\""
   ]
  },
  {
   "cell_type": "code",
   "execution_count": 5,
   "metadata": {
    "collapsed": true,
    "deletable": true,
    "editable": true
   },
   "outputs": [],
   "source": [
    "directory = DATADIR+\"/detect_testSN_test_2/\"\n",
    "butler = dafPersist.Butler(directory) "
   ]
  },
  {
   "cell_type": "code",
   "execution_count": 8,
   "metadata": {
    "collapsed": true,
    "deletable": true,
    "editable": true
   },
   "outputs": [],
   "source": [
    "date = '2006-05-24'\n",
    "dataRef = butler.dataRef(\"dayDiff_class_diaSrc\", dataId={\"filter\":'r',\"tract\":0, \"patch\":'10,10', 'date':date})"
   ]
  },
  {
   "cell_type": "code",
   "execution_count": 25,
   "metadata": {
    "collapsed": false,
    "deletable": true,
    "editable": true
   },
   "outputs": [],
   "source": [
    "miniB =dataRef.getButler()"
   ]
  },
  {
   "cell_type": "code",
   "execution_count": 30,
   "metadata": {
    "collapsed": false
   },
   "outputs": [
    {
     "data": {
      "text/plain": [
       "{'date': '2006-05-24', 'filter': 'r', 'patch': '10,10', 'tract': 0}"
      ]
     },
     "execution_count": 30,
     "metadata": {},
     "output_type": "execute_result"
    }
   ],
   "source": [
    "dataRef.dataId"
   ]
  },
  {
   "cell_type": "code",
   "execution_count": 31,
   "metadata": {
    "collapsed": false
   },
   "outputs": [
    {
     "data": {
      "text/plain": [
       "{'date': '2006-05-24', 'filter': 'r'}"
      ]
     },
     "execution_count": 31,
     "metadata": {},
     "output_type": "execute_result"
    }
   ],
   "source": [
    "ss.dataId"
   ]
  },
  {
   "cell_type": "code",
   "execution_count": 26,
   "metadata": {
    "collapsed": false,
    "deletable": true,
    "editable": true
   },
   "outputs": [
    {
     "name": "stdout",
     "output_type": "stream",
     "text": [
      "<lsst.afw.image.imageLib.Wcs; proxy of <Swig Object of type 'boost::shared_ptr< lsst::afw::image::Wcs > *' at 0x7f0d6a822a50> >\n",
      "<lsst.afw.image.imageLib.Wcs; proxy of <Swig Object of type 'boost::shared_ptr< lsst::afw::image::Wcs > *' at 0x7f0d6a822c00> >\n",
      "<lsst.afw.image.imageLib.Wcs; proxy of <Swig Object of type 'boost::shared_ptr< lsst::afw::image::Wcs > *' at 0x7f0d6a822b70> >\n",
      "<lsst.afw.image.imageLib.Wcs; proxy of <Swig Object of type 'boost::shared_ptr< lsst::afw::image::Wcs > *' at 0x7f0d6a822c60> >\n",
      "<lsst.afw.image.imageLib.Wcs; proxy of <Swig Object of type 'boost::shared_ptr< lsst::afw::image::Wcs > *' at 0x7f0d6a822ae0> >\n",
      "<lsst.afw.image.imageLib.Wcs; proxy of <Swig Object of type 'boost::shared_ptr< lsst::afw::image::Wcs > *' at 0x7f0d6a822b10> >\n",
      "<lsst.afw.image.imageLib.Wcs; proxy of <Swig Object of type 'boost::shared_ptr< lsst::afw::image::Wcs > *' at 0x7f0d6a822a80> >\n",
      "<lsst.afw.image.imageLib.Wcs; proxy of <Swig Object of type 'boost::shared_ptr< lsst::afw::image::Wcs > *' at 0x7f0d6a822ba0> >\n",
      "<lsst.afw.image.imageLib.Wcs; proxy of <Swig Object of type 'boost::shared_ptr< lsst::afw::image::Wcs > *' at 0x7f0d6a822a50> >\n",
      "<lsst.afw.image.imageLib.Wcs; proxy of <Swig Object of type 'boost::shared_ptr< lsst::afw::image::Wcs > *' at 0x7f0d6a822c00> >\n",
      "<lsst.afw.image.imageLib.Wcs; proxy of <Swig Object of type 'boost::shared_ptr< lsst::afw::image::Wcs > *' at 0x7f0d6a822b70> >\n",
      "<lsst.afw.image.imageLib.Wcs; proxy of <Swig Object of type 'boost::shared_ptr< lsst::afw::image::Wcs > *' at 0x7f0d6a822c60> >\n",
      "<lsst.afw.image.imageLib.Wcs; proxy of <Swig Object of type 'boost::shared_ptr< lsst::afw::image::Wcs > *' at 0x7f0d6a822ae0> >\n",
      "<lsst.afw.image.imageLib.Wcs; proxy of <Swig Object of type 'boost::shared_ptr< lsst::afw::image::Wcs > *' at 0x7f0d6a822b10> >\n",
      "<lsst.afw.image.imageLib.Wcs; proxy of <Swig Object of type 'boost::shared_ptr< lsst::afw::image::Wcs > *' at 0x7f0d6a822a80> >\n",
      "<lsst.afw.image.imageLib.Wcs; proxy of <Swig Object of type 'boost::shared_ptr< lsst::afw::image::Wcs > *' at 0x7f0d6a822ba0> >\n",
      "<lsst.afw.image.imageLib.Wcs; proxy of <Swig Object of type 'boost::shared_ptr< lsst::afw::image::Wcs > *' at 0x7f0d6a822a50> >\n",
      "<lsst.afw.image.imageLib.Wcs; proxy of <Swig Object of type 'boost::shared_ptr< lsst::afw::image::Wcs > *' at 0x7f0d6a822c00> >\n",
      "<lsst.afw.image.imageLib.Wcs; proxy of <Swig Object of type 'boost::shared_ptr< lsst::afw::image::Wcs > *' at 0x7f0d6a822b70> >\n",
      "<lsst.afw.image.imageLib.Wcs; proxy of <Swig Object of type 'boost::shared_ptr< lsst::afw::image::Wcs > *' at 0x7f0d6a822c60> >\n",
      "<lsst.afw.image.imageLib.Wcs; proxy of <Swig Object of type 'boost::shared_ptr< lsst::afw::image::Wcs > *' at 0x7f0d6a822ae0> >\n",
      "<lsst.afw.image.imageLib.Wcs; proxy of <Swig Object of type 'boost::shared_ptr< lsst::afw::image::Wcs > *' at 0x7f0d6a822b10> >\n",
      "<lsst.afw.image.imageLib.Wcs; proxy of <Swig Object of type 'boost::shared_ptr< lsst::afw::image::Wcs > *' at 0x7f0d6a822a80> >\n",
      "<lsst.afw.image.imageLib.Wcs; proxy of <Swig Object of type 'boost::shared_ptr< lsst::afw::image::Wcs > *' at 0x7f0d6a822ba0> >\n",
      "<lsst.afw.image.imageLib.Wcs; proxy of <Swig Object of type 'boost::shared_ptr< lsst::afw::image::Wcs > *' at 0x7f0d6a822a50> >\n",
      "<lsst.afw.image.imageLib.Wcs; proxy of <Swig Object of type 'boost::shared_ptr< lsst::afw::image::Wcs > *' at 0x7f0d6a822c00> >\n",
      "<lsst.afw.image.imageLib.Wcs; proxy of <Swig Object of type 'boost::shared_ptr< lsst::afw::image::Wcs > *' at 0x7f0d6a822b70> >\n",
      "<lsst.afw.image.imageLib.Wcs; proxy of <Swig Object of type 'boost::shared_ptr< lsst::afw::image::Wcs > *' at 0x7f0d6a822c60> >\n",
      "<lsst.afw.image.imageLib.Wcs; proxy of <Swig Object of type 'boost::shared_ptr< lsst::afw::image::Wcs > *' at 0x7f0d6a822ae0> >\n",
      "<lsst.afw.image.imageLib.Wcs; proxy of <Swig Object of type 'boost::shared_ptr< lsst::afw::image::Wcs > *' at 0x7f0d6a822b10> >\n",
      "<lsst.afw.image.imageLib.Wcs; proxy of <Swig Object of type 'boost::shared_ptr< lsst::afw::image::Wcs > *' at 0x7f0d6a822a80> >\n",
      "<lsst.afw.image.imageLib.Wcs; proxy of <Swig Object of type 'boost::shared_ptr< lsst::afw::image::Wcs > *' at 0x7f0d6a822ba0> >\n",
      "<lsst.afw.image.imageLib.Wcs; proxy of <Swig Object of type 'boost::shared_ptr< lsst::afw::image::Wcs > *' at 0x7f0d6a822a50> >\n",
      "<lsst.afw.image.imageLib.Wcs; proxy of <Swig Object of type 'boost::shared_ptr< lsst::afw::image::Wcs > *' at 0x7f0d6a822c00> >\n",
      "<lsst.afw.image.imageLib.Wcs; proxy of <Swig Object of type 'boost::shared_ptr< lsst::afw::image::Wcs > *' at 0x7f0d6a822b70> >\n",
      "<lsst.afw.image.imageLib.Wcs; proxy of <Swig Object of type 'boost::shared_ptr< lsst::afw::image::Wcs > *' at 0x7f0d6a822c60> >\n",
      "<lsst.afw.image.imageLib.Wcs; proxy of <Swig Object of type 'boost::shared_ptr< lsst::afw::image::Wcs > *' at 0x7f0d6a822ae0> >\n",
      "<lsst.afw.image.imageLib.Wcs; proxy of <Swig Object of type 'boost::shared_ptr< lsst::afw::image::Wcs > *' at 0x7f0d6a822b10> >\n",
      "<lsst.afw.image.imageLib.Wcs; proxy of <Swig Object of type 'boost::shared_ptr< lsst::afw::image::Wcs > *' at 0x7f0d6a822a80> >\n",
      "<lsst.afw.image.imageLib.Wcs; proxy of <Swig Object of type 'boost::shared_ptr< lsst::afw::image::Wcs > *' at 0x7f0d6a822ba0> >\n",
      "<lsst.afw.image.imageLib.Wcs; proxy of <Swig Object of type 'boost::shared_ptr< lsst::afw::image::Wcs > *' at 0x7f0d6a822a50> >\n",
      "<lsst.afw.image.imageLib.Wcs; proxy of <Swig Object of type 'boost::shared_ptr< lsst::afw::image::Wcs > *' at 0x7f0d6a822c00> >\n",
      "<lsst.afw.image.imageLib.Wcs; proxy of <Swig Object of type 'boost::shared_ptr< lsst::afw::image::Wcs > *' at 0x7f0d6a822b70> >\n",
      "<lsst.afw.image.imageLib.Wcs; proxy of <Swig Object of type 'boost::shared_ptr< lsst::afw::image::Wcs > *' at 0x7f0d6a822c60> >\n",
      "<lsst.afw.image.imageLib.Wcs; proxy of <Swig Object of type 'boost::shared_ptr< lsst::afw::image::Wcs > *' at 0x7f0d6a822ae0> >\n",
      "<lsst.afw.image.imageLib.Wcs; proxy of <Swig Object of type 'boost::shared_ptr< lsst::afw::image::Wcs > *' at 0x7f0d6a822b10> >\n",
      "<lsst.afw.image.imageLib.Wcs; proxy of <Swig Object of type 'boost::shared_ptr< lsst::afw::image::Wcs > *' at 0x7f0d6a822a80> >\n",
      "<lsst.afw.image.imageLib.Wcs; proxy of <Swig Object of type 'boost::shared_ptr< lsst::afw::image::Wcs > *' at 0x7f0d6a822ba0> >\n",
      "<lsst.afw.image.imageLib.Wcs; proxy of <Swig Object of type 'boost::shared_ptr< lsst::afw::image::Wcs > *' at 0x7f0d6a822a50> >\n",
      "<lsst.afw.image.imageLib.Wcs; proxy of <Swig Object of type 'boost::shared_ptr< lsst::afw::image::Wcs > *' at 0x7f0d6a822c00> >\n",
      "<lsst.afw.image.imageLib.Wcs; proxy of <Swig Object of type 'boost::shared_ptr< lsst::afw::image::Wcs > *' at 0x7f0d6a822b70> >\n",
      "<lsst.afw.image.imageLib.Wcs; proxy of <Swig Object of type 'boost::shared_ptr< lsst::afw::image::Wcs > *' at 0x7f0d6a822c60> >\n",
      "<lsst.afw.image.imageLib.Wcs; proxy of <Swig Object of type 'boost::shared_ptr< lsst::afw::image::Wcs > *' at 0x7f0d6a822ae0> >\n",
      "<lsst.afw.image.imageLib.Wcs; proxy of <Swig Object of type 'boost::shared_ptr< lsst::afw::image::Wcs > *' at 0x7f0d6a822b10> >\n",
      "<lsst.afw.image.imageLib.Wcs; proxy of <Swig Object of type 'boost::shared_ptr< lsst::afw::image::Wcs > *' at 0x7f0d6a822a80> >\n",
      "<lsst.afw.image.imageLib.Wcs; proxy of <Swig Object of type 'boost::shared_ptr< lsst::afw::image::Wcs > *' at 0x7f0d6a822ba0> >\n",
      "<lsst.afw.image.imageLib.Wcs; proxy of <Swig Object of type 'boost::shared_ptr< lsst::afw::image::Wcs > *' at 0x7f0d6a822a50> >\n",
      "<lsst.afw.image.imageLib.Wcs; proxy of <Swig Object of type 'boost::shared_ptr< lsst::afw::image::Wcs > *' at 0x7f0d6a822c00> >\n",
      "<lsst.afw.image.imageLib.Wcs; proxy of <Swig Object of type 'boost::shared_ptr< lsst::afw::image::Wcs > *' at 0x7f0d6a822b70> >\n",
      "<lsst.afw.image.imageLib.Wcs; proxy of <Swig Object of type 'boost::shared_ptr< lsst::afw::image::Wcs > *' at 0x7f0d6a822c60> >\n",
      "<lsst.afw.image.imageLib.Wcs; proxy of <Swig Object of type 'boost::shared_ptr< lsst::afw::image::Wcs > *' at 0x7f0d6a822ae0> >\n",
      "<lsst.afw.image.imageLib.Wcs; proxy of <Swig Object of type 'boost::shared_ptr< lsst::afw::image::Wcs > *' at 0x7f0d6a822b10> >\n",
      "<lsst.afw.image.imageLib.Wcs; proxy of <Swig Object of type 'boost::shared_ptr< lsst::afw::image::Wcs > *' at 0x7f0d6a822a80> >\n",
      "<lsst.afw.image.imageLib.Wcs; proxy of <Swig Object of type 'boost::shared_ptr< lsst::afw::image::Wcs > *' at 0x7f0d6a822ba0> >\n",
      "<lsst.afw.image.imageLib.Wcs; proxy of <Swig Object of type 'boost::shared_ptr< lsst::afw::image::Wcs > *' at 0x7f0d6a822a50> >\n",
      "<lsst.afw.image.imageLib.Wcs; proxy of <Swig Object of type 'boost::shared_ptr< lsst::afw::image::Wcs > *' at 0x7f0d6a822c00> >\n",
      "<lsst.afw.image.imageLib.Wcs; proxy of <Swig Object of type 'boost::shared_ptr< lsst::afw::image::Wcs > *' at 0x7f0d6a822b70> >\n",
      "<lsst.afw.image.imageLib.Wcs; proxy of <Swig Object of type 'boost::shared_ptr< lsst::afw::image::Wcs > *' at 0x7f0d6a822c60> >\n",
      "<lsst.afw.image.imageLib.Wcs; proxy of <Swig Object of type 'boost::shared_ptr< lsst::afw::image::Wcs > *' at 0x7f0d6a822ae0> >\n",
      "<lsst.afw.image.imageLib.Wcs; proxy of <Swig Object of type 'boost::shared_ptr< lsst::afw::image::Wcs > *' at 0x7f0d6a822b10> >\n",
      "<lsst.afw.image.imageLib.Wcs; proxy of <Swig Object of type 'boost::shared_ptr< lsst::afw::image::Wcs > *' at 0x7f0d6a822a80> >\n",
      "<lsst.afw.image.imageLib.Wcs; proxy of <Swig Object of type 'boost::shared_ptr< lsst::afw::image::Wcs > *' at 0x7f0d6a822ba0> >\n",
      "<lsst.afw.image.imageLib.Wcs; proxy of <Swig Object of type 'boost::shared_ptr< lsst::afw::image::Wcs > *' at 0x7f0d6a822a50> >\n",
      "<lsst.afw.image.imageLib.Wcs; proxy of <Swig Object of type 'boost::shared_ptr< lsst::afw::image::Wcs > *' at 0x7f0d6a822c00> >\n",
      "<lsst.afw.image.imageLib.Wcs; proxy of <Swig Object of type 'boost::shared_ptr< lsst::afw::image::Wcs > *' at 0x7f0d6a822b70> >\n",
      "<lsst.afw.image.imageLib.Wcs; proxy of <Swig Object of type 'boost::shared_ptr< lsst::afw::image::Wcs > *' at 0x7f0d6a822c60> >\n",
      "<lsst.afw.image.imageLib.Wcs; proxy of <Swig Object of type 'boost::shared_ptr< lsst::afw::image::Wcs > *' at 0x7f0d6a822ae0> >\n",
      "<lsst.afw.image.imageLib.Wcs; proxy of <Swig Object of type 'boost::shared_ptr< lsst::afw::image::Wcs > *' at 0x7f0d6a822b10> >\n",
      "<lsst.afw.image.imageLib.Wcs; proxy of <Swig Object of type 'boost::shared_ptr< lsst::afw::image::Wcs > *' at 0x7f0d6a822a80> >\n",
      "<lsst.afw.image.imageLib.Wcs; proxy of <Swig Object of type 'boost::shared_ptr< lsst::afw::image::Wcs > *' at 0x7f0d6a822ba0> >\n",
      "<lsst.afw.image.imageLib.Wcs; proxy of <Swig Object of type 'boost::shared_ptr< lsst::afw::image::Wcs > *' at 0x7f0d6a822a50> >\n",
      "<lsst.afw.image.imageLib.Wcs; proxy of <Swig Object of type 'boost::shared_ptr< lsst::afw::image::Wcs > *' at 0x7f0d6a822c00> >\n",
      "<lsst.afw.image.imageLib.Wcs; proxy of <Swig Object of type 'boost::shared_ptr< lsst::afw::image::Wcs > *' at 0x7f0d6a822b70> >\n",
      "<lsst.afw.image.imageLib.Wcs; proxy of <Swig Object of type 'boost::shared_ptr< lsst::afw::image::Wcs > *' at 0x7f0d6a822c60> >\n",
      "<lsst.afw.image.imageLib.Wcs; proxy of <Swig Object of type 'boost::shared_ptr< lsst::afw::image::Wcs > *' at 0x7f0d6a822ae0> >\n",
      "<lsst.afw.image.imageLib.Wcs; proxy of <Swig Object of type 'boost::shared_ptr< lsst::afw::image::Wcs > *' at 0x7f0d6a822b10> >\n",
      "<lsst.afw.image.imageLib.Wcs; proxy of <Swig Object of type 'boost::shared_ptr< lsst::afw::image::Wcs > *' at 0x7f0d6a822a80> >\n",
      "<lsst.afw.image.imageLib.Wcs; proxy of <Swig Object of type 'boost::shared_ptr< lsst::afw::image::Wcs > *' at 0x7f0d6a822ba0> >\n",
      "<lsst.afw.image.imageLib.Wcs; proxy of <Swig Object of type 'boost::shared_ptr< lsst::afw::image::Wcs > *' at 0x7f0d6a822a50> >\n",
      "<lsst.afw.image.imageLib.Wcs; proxy of <Swig Object of type 'boost::shared_ptr< lsst::afw::image::Wcs > *' at 0x7f0d6a822c00> >\n",
      "<lsst.afw.image.imageLib.Wcs; proxy of <Swig Object of type 'boost::shared_ptr< lsst::afw::image::Wcs > *' at 0x7f0d6a822b70> >\n",
      "<lsst.afw.image.imageLib.Wcs; proxy of <Swig Object of type 'boost::shared_ptr< lsst::afw::image::Wcs > *' at 0x7f0d6a822c60> >\n",
      "<lsst.afw.image.imageLib.Wcs; proxy of <Swig Object of type 'boost::shared_ptr< lsst::afw::image::Wcs > *' at 0x7f0d6a822ae0> >\n",
      "<lsst.afw.image.imageLib.Wcs; proxy of <Swig Object of type 'boost::shared_ptr< lsst::afw::image::Wcs > *' at 0x7f0d6a822b10> >\n",
      "<lsst.afw.image.imageLib.Wcs; proxy of <Swig Object of type 'boost::shared_ptr< lsst::afw::image::Wcs > *' at 0x7f0d6a822a80> >\n",
      "<lsst.afw.image.imageLib.Wcs; proxy of <Swig Object of type 'boost::shared_ptr< lsst::afw::image::Wcs > *' at 0x7f0d6a822ba0> >\n",
      "<lsst.afw.image.imageLib.Wcs; proxy of <Swig Object of type 'boost::shared_ptr< lsst::afw::image::Wcs > *' at 0x7f0d6a822a50> >\n",
      "<lsst.afw.image.imageLib.Wcs; proxy of <Swig Object of type 'boost::shared_ptr< lsst::afw::image::Wcs > *' at 0x7f0d6a822c00> >\n",
      "<lsst.afw.image.imageLib.Wcs; proxy of <Swig Object of type 'boost::shared_ptr< lsst::afw::image::Wcs > *' at 0x7f0d6a822b70> >\n",
      "<lsst.afw.image.imageLib.Wcs; proxy of <Swig Object of type 'boost::shared_ptr< lsst::afw::image::Wcs > *' at 0x7f0d6a822c60> >\n",
      "<lsst.afw.image.imageLib.Wcs; proxy of <Swig Object of type 'boost::shared_ptr< lsst::afw::image::Wcs > *' at 0x7f0d6a822ae0> >\n",
      "<lsst.afw.image.imageLib.Wcs; proxy of <Swig Object of type 'boost::shared_ptr< lsst::afw::image::Wcs > *' at 0x7f0d6a822b10> >\n",
      "<lsst.afw.image.imageLib.Wcs; proxy of <Swig Object of type 'boost::shared_ptr< lsst::afw::image::Wcs > *' at 0x7f0d6a822a80> >\n",
      "<lsst.afw.image.imageLib.Wcs; proxy of <Swig Object of type 'boost::shared_ptr< lsst::afw::image::Wcs > *' at 0x7f0d6a822ba0> >\n",
      "<lsst.afw.image.imageLib.Wcs; proxy of <Swig Object of type 'boost::shared_ptr< lsst::afw::image::Wcs > *' at 0x7f0d6a822a50> >\n",
      "<lsst.afw.image.imageLib.Wcs; proxy of <Swig Object of type 'boost::shared_ptr< lsst::afw::image::Wcs > *' at 0x7f0d6a822c00> >\n",
      "<lsst.afw.image.imageLib.Wcs; proxy of <Swig Object of type 'boost::shared_ptr< lsst::afw::image::Wcs > *' at 0x7f0d6a822b70> >\n",
      "<lsst.afw.image.imageLib.Wcs; proxy of <Swig Object of type 'boost::shared_ptr< lsst::afw::image::Wcs > *' at 0x7f0d6a822c60> >\n",
      "<lsst.afw.image.imageLib.Wcs; proxy of <Swig Object of type 'boost::shared_ptr< lsst::afw::image::Wcs > *' at 0x7f0d6a822ae0> >\n",
      "<lsst.afw.image.imageLib.Wcs; proxy of <Swig Object of type 'boost::shared_ptr< lsst::afw::image::Wcs > *' at 0x7f0d6a822b10> >\n",
      "<lsst.afw.image.imageLib.Wcs; proxy of <Swig Object of type 'boost::shared_ptr< lsst::afw::image::Wcs > *' at 0x7f0d6a822a80> >\n",
      "<lsst.afw.image.imageLib.Wcs; proxy of <Swig Object of type 'boost::shared_ptr< lsst::afw::image::Wcs > *' at 0x7f0d6a822ba0> >\n",
      "<lsst.afw.image.imageLib.Wcs; proxy of <Swig Object of type 'boost::shared_ptr< lsst::afw::image::Wcs > *' at 0x7f0d6a822a50> >\n",
      "<lsst.afw.image.imageLib.Wcs; proxy of <Swig Object of type 'boost::shared_ptr< lsst::afw::image::Wcs > *' at 0x7f0d6a822c00> >\n",
      "<lsst.afw.image.imageLib.Wcs; proxy of <Swig Object of type 'boost::shared_ptr< lsst::afw::image::Wcs > *' at 0x7f0d6a822b70> >\n",
      "<lsst.afw.image.imageLib.Wcs; proxy of <Swig Object of type 'boost::shared_ptr< lsst::afw::image::Wcs > *' at 0x7f0d6a822c60> >\n",
      "<lsst.afw.image.imageLib.Wcs; proxy of <Swig Object of type 'boost::shared_ptr< lsst::afw::image::Wcs > *' at 0x7f0d6a822ae0> >\n",
      "<lsst.afw.image.imageLib.Wcs; proxy of <Swig Object of type 'boost::shared_ptr< lsst::afw::image::Wcs > *' at 0x7f0d6a822b10> >\n",
      "<lsst.afw.image.imageLib.Wcs; proxy of <Swig Object of type 'boost::shared_ptr< lsst::afw::image::Wcs > *' at 0x7f0d6a822a80> >\n",
      "<lsst.afw.image.imageLib.Wcs; proxy of <Swig Object of type 'boost::shared_ptr< lsst::afw::image::Wcs > *' at 0x7f0d6a822ba0> >\n",
      "<lsst.afw.image.imageLib.Wcs; proxy of <Swig Object of type 'boost::shared_ptr< lsst::afw::image::Wcs > *' at 0x7f0d6a822a50> >\n",
      "<lsst.afw.image.imageLib.Wcs; proxy of <Swig Object of type 'boost::shared_ptr< lsst::afw::image::Wcs > *' at 0x7f0d6a822c00> >\n",
      "<lsst.afw.image.imageLib.Wcs; proxy of <Swig Object of type 'boost::shared_ptr< lsst::afw::image::Wcs > *' at 0x7f0d6a822b70> >\n",
      "<lsst.afw.image.imageLib.Wcs; proxy of <Swig Object of type 'boost::shared_ptr< lsst::afw::image::Wcs > *' at 0x7f0d6a822c60> >\n",
      "<lsst.afw.image.imageLib.Wcs; proxy of <Swig Object of type 'boost::shared_ptr< lsst::afw::image::Wcs > *' at 0x7f0d6a822ae0> >\n",
      "<lsst.afw.image.imageLib.Wcs; proxy of <Swig Object of type 'boost::shared_ptr< lsst::afw::image::Wcs > *' at 0x7f0d6a822b10> >\n",
      "<lsst.afw.image.imageLib.Wcs; proxy of <Swig Object of type 'boost::shared_ptr< lsst::afw::image::Wcs > *' at 0x7f0d6a822a80> >\n",
      "<lsst.afw.image.imageLib.Wcs; proxy of <Swig Object of type 'boost::shared_ptr< lsst::afw::image::Wcs > *' at 0x7f0d6a822ba0> >\n",
      "<lsst.afw.image.imageLib.Wcs; proxy of <Swig Object of type 'boost::shared_ptr< lsst::afw::image::Wcs > *' at 0x7f0d6a822a50> >\n",
      "<lsst.afw.image.imageLib.Wcs; proxy of <Swig Object of type 'boost::shared_ptr< lsst::afw::image::Wcs > *' at 0x7f0d6a822c00> >\n",
      "<lsst.afw.image.imageLib.Wcs; proxy of <Swig Object of type 'boost::shared_ptr< lsst::afw::image::Wcs > *' at 0x7f0d6a822b70> >\n",
      "<lsst.afw.image.imageLib.Wcs; proxy of <Swig Object of type 'boost::shared_ptr< lsst::afw::image::Wcs > *' at 0x7f0d6a822c60> >\n",
      "<lsst.afw.image.imageLib.Wcs; proxy of <Swig Object of type 'boost::shared_ptr< lsst::afw::image::Wcs > *' at 0x7f0d6a822ae0> >\n",
      "<lsst.afw.image.imageLib.Wcs; proxy of <Swig Object of type 'boost::shared_ptr< lsst::afw::image::Wcs > *' at 0x7f0d6a822b10> >\n",
      "<lsst.afw.image.imageLib.Wcs; proxy of <Swig Object of type 'boost::shared_ptr< lsst::afw::image::Wcs > *' at 0x7f0d6a822a80> >\n",
      "<lsst.afw.image.imageLib.Wcs; proxy of <Swig Object of type 'boost::shared_ptr< lsst::afw::image::Wcs > *' at 0x7f0d6a822ba0> >\n",
      "<lsst.afw.image.imageLib.Wcs; proxy of <Swig Object of type 'boost::shared_ptr< lsst::afw::image::Wcs > *' at 0x7f0d6a822a50> >\n",
      "<lsst.afw.image.imageLib.Wcs; proxy of <Swig Object of type 'boost::shared_ptr< lsst::afw::image::Wcs > *' at 0x7f0d6a822c00> >\n",
      "<lsst.afw.image.imageLib.Wcs; proxy of <Swig Object of type 'boost::shared_ptr< lsst::afw::image::Wcs > *' at 0x7f0d6a822b70> >\n",
      "<lsst.afw.image.imageLib.Wcs; proxy of <Swig Object of type 'boost::shared_ptr< lsst::afw::image::Wcs > *' at 0x7f0d6a822c60> >\n",
      "<lsst.afw.image.imageLib.Wcs; proxy of <Swig Object of type 'boost::shared_ptr< lsst::afw::image::Wcs > *' at 0x7f0d6a822ae0> >\n",
      "<lsst.afw.image.imageLib.Wcs; proxy of <Swig Object of type 'boost::shared_ptr< lsst::afw::image::Wcs > *' at 0x7f0d6a822b10> >\n",
      "<lsst.afw.image.imageLib.Wcs; proxy of <Swig Object of type 'boost::shared_ptr< lsst::afw::image::Wcs > *' at 0x7f0d6a822a80> >\n",
      "<lsst.afw.image.imageLib.Wcs; proxy of <Swig Object of type 'boost::shared_ptr< lsst::afw::image::Wcs > *' at 0x7f0d6a822ba0> >\n",
      "<lsst.afw.image.imageLib.Wcs; proxy of <Swig Object of type 'boost::shared_ptr< lsst::afw::image::Wcs > *' at 0x7f0d6a822a50> >\n",
      "<lsst.afw.image.imageLib.Wcs; proxy of <Swig Object of type 'boost::shared_ptr< lsst::afw::image::Wcs > *' at 0x7f0d6a822c00> >\n",
      "<lsst.afw.image.imageLib.Wcs; proxy of <Swig Object of type 'boost::shared_ptr< lsst::afw::image::Wcs > *' at 0x7f0d6a822b70> >\n",
      "<lsst.afw.image.imageLib.Wcs; proxy of <Swig Object of type 'boost::shared_ptr< lsst::afw::image::Wcs > *' at 0x7f0d6a822c60> >\n",
      "<lsst.afw.image.imageLib.Wcs; proxy of <Swig Object of type 'boost::shared_ptr< lsst::afw::image::Wcs > *' at 0x7f0d6a822ae0> >\n",
      "<lsst.afw.image.imageLib.Wcs; proxy of <Swig Object of type 'boost::shared_ptr< lsst::afw::image::Wcs > *' at 0x7f0d6a822b10> >\n",
      "<lsst.afw.image.imageLib.Wcs; proxy of <Swig Object of type 'boost::shared_ptr< lsst::afw::image::Wcs > *' at 0x7f0d6a822a80> >\n",
      "<lsst.afw.image.imageLib.Wcs; proxy of <Swig Object of type 'boost::shared_ptr< lsst::afw::image::Wcs > *' at 0x7f0d6a822ba0> >\n",
      "<lsst.afw.image.imageLib.Wcs; proxy of <Swig Object of type 'boost::shared_ptr< lsst::afw::image::Wcs > *' at 0x7f0d6a822a50> >\n",
      "<lsst.afw.image.imageLib.Wcs; proxy of <Swig Object of type 'boost::shared_ptr< lsst::afw::image::Wcs > *' at 0x7f0d6a822c00> >\n",
      "<lsst.afw.image.imageLib.Wcs; proxy of <Swig Object of type 'boost::shared_ptr< lsst::afw::image::Wcs > *' at 0x7f0d6a822b70> >\n",
      "<lsst.afw.image.imageLib.Wcs; proxy of <Swig Object of type 'boost::shared_ptr< lsst::afw::image::Wcs > *' at 0x7f0d6a822c30> >\n",
      "<lsst.afw.image.imageLib.Wcs; proxy of <Swig Object of type 'boost::shared_ptr< lsst::afw::image::Wcs > *' at 0x7f0d6a822c60> >\n",
      "<lsst.afw.image.imageLib.Wcs; proxy of <Swig Object of type 'boost::shared_ptr< lsst::afw::image::Wcs > *' at 0x7f0d6a822bd0> >\n",
      "<lsst.afw.image.imageLib.Wcs; proxy of <Swig Object of type 'boost::shared_ptr< lsst::afw::image::Wcs > *' at 0x7f0d6a822a50> >\n",
      "<lsst.afw.image.imageLib.Wcs; proxy of <Swig Object of type 'boost::shared_ptr< lsst::afw::image::Wcs > *' at 0x7f0d6a822b10> >\n",
      "<lsst.afw.image.imageLib.Wcs; proxy of <Swig Object of type 'boost::shared_ptr< lsst::afw::image::Wcs > *' at 0x7f0d6a822ba0> >\n",
      "<lsst.afw.image.imageLib.Wcs; proxy of <Swig Object of type 'boost::shared_ptr< lsst::afw::image::Wcs > *' at 0x7f0d6a822c00> >\n",
      "<lsst.afw.image.imageLib.Wcs; proxy of <Swig Object of type 'boost::shared_ptr< lsst::afw::image::Wcs > *' at 0x7f0d6a822b70> >\n",
      "<lsst.afw.image.imageLib.Wcs; proxy of <Swig Object of type 'boost::shared_ptr< lsst::afw::image::Wcs > *' at 0x7f0d6a822c30> >\n",
      "<lsst.afw.image.imageLib.Wcs; proxy of <Swig Object of type 'boost::shared_ptr< lsst::afw::image::Wcs > *' at 0x7f0d6a822c60> >\n",
      "<lsst.afw.image.imageLib.Wcs; proxy of <Swig Object of type 'boost::shared_ptr< lsst::afw::image::Wcs > *' at 0x7f0d6a822bd0> >\n",
      "<lsst.afw.image.imageLib.Wcs; proxy of <Swig Object of type 'boost::shared_ptr< lsst::afw::image::Wcs > *' at 0x7f0d6a822a50> >\n",
      "<lsst.afw.image.imageLib.Wcs; proxy of <Swig Object of type 'boost::shared_ptr< lsst::afw::image::Wcs > *' at 0x7f0d6a822b10> >\n",
      "<lsst.afw.image.imageLib.Wcs; proxy of <Swig Object of type 'boost::shared_ptr< lsst::afw::image::Wcs > *' at 0x7f0d6a822ba0> >\n",
      "<lsst.afw.image.imageLib.Wcs; proxy of <Swig Object of type 'boost::shared_ptr< lsst::afw::image::Wcs > *' at 0x7f0d6a822c00> >\n",
      "<lsst.afw.image.imageLib.Wcs; proxy of <Swig Object of type 'boost::shared_ptr< lsst::afw::image::Wcs > *' at 0x7f0d6a822b70> >\n",
      "<lsst.afw.image.imageLib.Wcs; proxy of <Swig Object of type 'boost::shared_ptr< lsst::afw::image::Wcs > *' at 0x7f0d6a822c30> >\n",
      "<lsst.afw.image.imageLib.Wcs; proxy of <Swig Object of type 'boost::shared_ptr< lsst::afw::image::Wcs > *' at 0x7f0d6a822c60> >\n",
      "<lsst.afw.image.imageLib.Wcs; proxy of <Swig Object of type 'boost::shared_ptr< lsst::afw::image::Wcs > *' at 0x7f0d6a822bd0> >\n",
      "<lsst.afw.image.imageLib.Wcs; proxy of <Swig Object of type 'boost::shared_ptr< lsst::afw::image::Wcs > *' at 0x7f0d6a822a50> >\n",
      "<lsst.afw.image.imageLib.Wcs; proxy of <Swig Object of type 'boost::shared_ptr< lsst::afw::image::Wcs > *' at 0x7f0d6a822b10> >\n",
      "<lsst.afw.image.imageLib.Wcs; proxy of <Swig Object of type 'boost::shared_ptr< lsst::afw::image::Wcs > *' at 0x7f0d6a822ba0> >\n",
      "<lsst.afw.image.imageLib.Wcs; proxy of <Swig Object of type 'boost::shared_ptr< lsst::afw::image::Wcs > *' at 0x7f0d6a822c00> >\n",
      "<lsst.afw.image.imageLib.Wcs; proxy of <Swig Object of type 'boost::shared_ptr< lsst::afw::image::Wcs > *' at 0x7f0d6a822b70> >\n",
      "<lsst.afw.image.imageLib.Wcs; proxy of <Swig Object of type 'boost::shared_ptr< lsst::afw::image::Wcs > *' at 0x7f0d6a822c30> >\n"
     ]
    }
   ],
   "source": [
    "ss = miniB.subset(\"calexp\", dataId={\"filter\":'r', 'date':date})\n",
    "for s in ss:\n",
    "    did = s.dataId\n",
    "    md = s.get(\"calexp_md\", immediate=True)\n",
    "    wcs = afwImage.makeWcs(md)\n",
    "    print wcs"
   ]
  },
  {
   "cell_type": "code",
   "execution_count": 18,
   "metadata": {
    "collapsed": false,
    "deletable": true,
    "editable": true
   },
   "outputs": [
    {
     "ename": "RuntimeError",
     "evalue": "No unique lookup for ['taiObs', 'extension', 'object', 'state', 'runId', 'date', 'expTime'] from {'filter': 'r', 'ccd': 14, 'visit': 850856}: 0 matches",
     "output_type": "error",
     "traceback": [
      "\u001b[1;31m---------------------------------------------------------------------------\u001b[0m",
      "\u001b[1;31mRuntimeError\u001b[0m                              Traceback (most recent call last)",
      "\u001b[1;32m<ipython-input-18-25fe93176856>\u001b[0m in \u001b[0;36m<module>\u001b[1;34m()\u001b[0m\n\u001b[1;32m----> 1\u001b[1;33m \u001b[0mbutler\u001b[0m\u001b[1;33m.\u001b[0m\u001b[0mget\u001b[0m\u001b[1;33m(\u001b[0m\u001b[1;34m\"calexp_md\"\u001b[0m\u001b[1;33m,\u001b[0m \u001b[0mdataId\u001b[0m\u001b[1;33m=\u001b[0m\u001b[1;33m{\u001b[0m\u001b[1;34m\"filter\"\u001b[0m\u001b[1;33m:\u001b[0m\u001b[1;34m'r'\u001b[0m\u001b[1;33m,\u001b[0m\u001b[1;34m\"visit\"\u001b[0m\u001b[1;33m:\u001b[0m\u001b[1;36m850856\u001b[0m\u001b[1;33m,\u001b[0m \u001b[1;34m'ccd'\u001b[0m\u001b[1;33m:\u001b[0m\u001b[1;36m14\u001b[0m\u001b[1;33m}\u001b[0m\u001b[1;33m)\u001b[0m\u001b[1;33m\u001b[0m\u001b[0m\n\u001b[0m",
      "\u001b[1;32m/renoir_data_00/fouchez/lsst/DM/stacks/lsstsw/2016-04-04/lsstsw/stack/Linux64/daf_persistence/2016_01.0-8-geb625e2/python/lsst/daf/persistence/butler.pyc\u001b[0m in \u001b[0;36mget\u001b[1;34m(self, datasetType, dataId, immediate, **rest)\u001b[0m\n\u001b[0;32m    332\u001b[0m         \u001b[0mdataId\u001b[0m\u001b[1;33m.\u001b[0m\u001b[0mupdate\u001b[0m\u001b[1;33m(\u001b[0m\u001b[1;33m**\u001b[0m\u001b[0mrest\u001b[0m\u001b[1;33m)\u001b[0m\u001b[1;33m\u001b[0m\u001b[0m\n\u001b[0;32m    333\u001b[0m \u001b[1;33m\u001b[0m\u001b[0m\n\u001b[1;32m--> 334\u001b[1;33m         \u001b[0mlocations\u001b[0m \u001b[1;33m=\u001b[0m \u001b[0mself\u001b[0m\u001b[1;33m.\u001b[0m\u001b[0mrepository\u001b[0m\u001b[1;33m.\u001b[0m\u001b[0mmap\u001b[0m\u001b[1;33m(\u001b[0m\u001b[0mdatasetType\u001b[0m\u001b[1;33m,\u001b[0m \u001b[0mdataId\u001b[0m\u001b[1;33m)\u001b[0m\u001b[1;33m\u001b[0m\u001b[0m\n\u001b[0m\u001b[0;32m    335\u001b[0m         \u001b[1;32mif\u001b[0m \u001b[0mlocations\u001b[0m \u001b[1;32mis\u001b[0m \u001b[0mNone\u001b[0m\u001b[1;33m:\u001b[0m\u001b[1;33m\u001b[0m\u001b[0m\n\u001b[0;32m    336\u001b[0m             \u001b[1;32mraise\u001b[0m \u001b[0mNoResults\u001b[0m\u001b[1;33m(\u001b[0m\u001b[1;34m\"No locations for get:\"\u001b[0m\u001b[1;33m,\u001b[0m \u001b[0mdatasetType\u001b[0m\u001b[1;33m,\u001b[0m \u001b[0mdataId\u001b[0m\u001b[1;33m)\u001b[0m\u001b[1;33m\u001b[0m\u001b[0m\n",
      "\u001b[1;32m/renoir_data_00/fouchez/lsst/DM/stacks/lsstsw/2016-04-04/lsstsw/stack/Linux64/daf_persistence/2016_01.0-8-geb625e2/python/lsst/daf/persistence/repository.pyc\u001b[0m in \u001b[0;36mmap\u001b[1;34m(self, *args, **kwargs)\u001b[0m\n\u001b[0;32m    390\u001b[0m             \u001b[1;32mreturn\u001b[0m \u001b[0mself\u001b[0m\u001b[1;33m.\u001b[0m\u001b[0mdoSelfAndPeers\u001b[0m\u001b[1;33m(\u001b[0m\u001b[0mRepository\u001b[0m\u001b[1;33m.\u001b[0m\u001b[0mdoMap\u001b[0m\u001b[1;33m,\u001b[0m \u001b[1;33m*\u001b[0m\u001b[0margs\u001b[0m\u001b[1;33m,\u001b[0m \u001b[1;33m**\u001b[0m\u001b[0mkwargs\u001b[0m\u001b[1;33m)\u001b[0m\u001b[1;33m\u001b[0m\u001b[0m\n\u001b[0;32m    391\u001b[0m         \u001b[1;32melse\u001b[0m\u001b[1;33m:\u001b[0m\u001b[1;33m\u001b[0m\u001b[0m\n\u001b[1;32m--> 392\u001b[1;33m             \u001b[1;32mreturn\u001b[0m \u001b[0mself\u001b[0m\u001b[1;33m.\u001b[0m\u001b[0mdoParents\u001b[0m\u001b[1;33m(\u001b[0m\u001b[0mRepository\u001b[0m\u001b[1;33m.\u001b[0m\u001b[0mdoMap\u001b[0m\u001b[1;33m,\u001b[0m \u001b[1;33m*\u001b[0m\u001b[0margs\u001b[0m\u001b[1;33m,\u001b[0m \u001b[1;33m**\u001b[0m\u001b[0mkwargs\u001b[0m\u001b[1;33m)\u001b[0m\u001b[1;33m\u001b[0m\u001b[0m\n\u001b[0m\u001b[0;32m    393\u001b[0m \u001b[1;33m\u001b[0m\u001b[0m\n\u001b[0;32m    394\u001b[0m     \u001b[1;32mdef\u001b[0m \u001b[0mdoMap\u001b[0m\u001b[1;33m(\u001b[0m\u001b[0mself\u001b[0m\u001b[1;33m,\u001b[0m \u001b[1;33m*\u001b[0m\u001b[0margs\u001b[0m\u001b[1;33m,\u001b[0m \u001b[1;33m**\u001b[0m\u001b[0mkwargs\u001b[0m\u001b[1;33m)\u001b[0m\u001b[1;33m:\u001b[0m\u001b[1;33m\u001b[0m\u001b[0m\n",
      "\u001b[1;32m/renoir_data_00/fouchez/lsst/DM/stacks/lsstsw/2016-04-04/lsstsw/stack/Linux64/daf_persistence/2016_01.0-8-geb625e2/python/lsst/daf/persistence/repository.pyc\u001b[0m in \u001b[0;36mdoParents\u001b[1;34m(self, func, *args, **kwargs)\u001b[0m\n\u001b[0;32m    323\u001b[0m         \u001b[0mret\u001b[0m \u001b[1;33m=\u001b[0m \u001b[1;33m[\u001b[0m\u001b[1;33m]\u001b[0m\u001b[1;33m\u001b[0m\u001b[0m\n\u001b[0;32m    324\u001b[0m         \u001b[1;32mfor\u001b[0m \u001b[0mparent\u001b[0m \u001b[1;32min\u001b[0m \u001b[0mself\u001b[0m\u001b[1;33m.\u001b[0m\u001b[0m_parents\u001b[0m\u001b[1;33m:\u001b[0m\u001b[1;33m\u001b[0m\u001b[0m\n\u001b[1;32m--> 325\u001b[1;33m             \u001b[0mres\u001b[0m \u001b[1;33m=\u001b[0m \u001b[0mfunc\u001b[0m\u001b[1;33m(\u001b[0m\u001b[0mparent\u001b[0m\u001b[1;33m,\u001b[0m \u001b[1;33m*\u001b[0m\u001b[0margs\u001b[0m\u001b[1;33m,\u001b[0m \u001b[1;33m**\u001b[0m\u001b[0mkwargs\u001b[0m\u001b[1;33m)\u001b[0m\u001b[1;33m\u001b[0m\u001b[0m\n\u001b[0m\u001b[0;32m    326\u001b[0m             \u001b[1;32mif\u001b[0m \u001b[0mres\u001b[0m \u001b[1;32mis\u001b[0m \u001b[0mNone\u001b[0m\u001b[1;33m:\u001b[0m\u001b[1;33m\u001b[0m\u001b[0m\n\u001b[0;32m    327\u001b[0m                 \u001b[0mres\u001b[0m \u001b[1;33m=\u001b[0m \u001b[0mparent\u001b[0m\u001b[1;33m.\u001b[0m\u001b[0mdoParents\u001b[0m\u001b[1;33m(\u001b[0m\u001b[0mfunc\u001b[0m\u001b[1;33m,\u001b[0m \u001b[1;33m*\u001b[0m\u001b[0margs\u001b[0m\u001b[1;33m,\u001b[0m \u001b[1;33m**\u001b[0m\u001b[0mkwargs\u001b[0m\u001b[1;33m)\u001b[0m\u001b[1;33m\u001b[0m\u001b[0m\n",
      "\u001b[1;32m/renoir_data_00/fouchez/lsst/DM/stacks/lsstsw/2016-04-04/lsstsw/stack/Linux64/daf_persistence/2016_01.0-8-geb625e2/python/lsst/daf/persistence/repository.pyc\u001b[0m in \u001b[0;36mdoMap\u001b[1;34m(self, *args, **kwargs)\u001b[0m\n\u001b[0;32m    403\u001b[0m         \u001b[1;32mif\u001b[0m \u001b[0mself\u001b[0m\u001b[1;33m.\u001b[0m\u001b[0m_mapper\u001b[0m \u001b[1;32mis\u001b[0m \u001b[0mNone\u001b[0m\u001b[1;33m:\u001b[0m\u001b[1;33m\u001b[0m\u001b[0m\n\u001b[0;32m    404\u001b[0m             \u001b[1;32mreturn\u001b[0m \u001b[0mNone\u001b[0m\u001b[1;33m\u001b[0m\u001b[0m\n\u001b[1;32m--> 405\u001b[1;33m         \u001b[0mloc\u001b[0m \u001b[1;33m=\u001b[0m \u001b[0mself\u001b[0m\u001b[1;33m.\u001b[0m\u001b[0m_mapper\u001b[0m\u001b[1;33m.\u001b[0m\u001b[0mmap\u001b[0m\u001b[1;33m(\u001b[0m\u001b[1;33m*\u001b[0m\u001b[0margs\u001b[0m\u001b[1;33m,\u001b[0m \u001b[1;33m**\u001b[0m\u001b[0mkwargs\u001b[0m\u001b[1;33m)\u001b[0m\u001b[1;33m\u001b[0m\u001b[0m\n\u001b[0m\u001b[0;32m    406\u001b[0m         \u001b[1;32mif\u001b[0m \u001b[0mloc\u001b[0m \u001b[1;32mis\u001b[0m \u001b[0mNone\u001b[0m\u001b[1;33m:\u001b[0m\u001b[1;33m\u001b[0m\u001b[0m\n\u001b[0;32m    407\u001b[0m             \u001b[1;32mreturn\u001b[0m \u001b[0mNone\u001b[0m\u001b[1;33m\u001b[0m\u001b[0m\n",
      "\u001b[1;32m/renoir_data_00/fouchez/lsst/DM/stacks/lsstsw/2016-04-04/lsstsw/stack/Linux64/daf_persistence/2016_01.0-8-geb625e2/python/lsst/daf/persistence/mapper.pyc\u001b[0m in \u001b[0;36mmap\u001b[1;34m(self, datasetType, dataId, write)\u001b[0m\n\u001b[0;32m    167\u001b[0m \u001b[1;33m\u001b[0m\u001b[0m\n\u001b[0;32m    168\u001b[0m         \u001b[0mfunc\u001b[0m \u001b[1;33m=\u001b[0m \u001b[0mgetattr\u001b[0m\u001b[1;33m(\u001b[0m\u001b[0mself\u001b[0m\u001b[1;33m,\u001b[0m \u001b[1;34m'map_'\u001b[0m \u001b[1;33m+\u001b[0m \u001b[0mdatasetType\u001b[0m\u001b[1;33m)\u001b[0m\u001b[1;33m\u001b[0m\u001b[0m\n\u001b[1;32m--> 169\u001b[1;33m         \u001b[1;32mreturn\u001b[0m \u001b[0mfunc\u001b[0m\u001b[1;33m(\u001b[0m\u001b[0mself\u001b[0m\u001b[1;33m.\u001b[0m\u001b[0mvalidate\u001b[0m\u001b[1;33m(\u001b[0m\u001b[0mdataId\u001b[0m\u001b[1;33m)\u001b[0m\u001b[1;33m,\u001b[0m \u001b[0mwrite\u001b[0m\u001b[1;33m)\u001b[0m\u001b[1;33m\u001b[0m\u001b[0m\n\u001b[0m\u001b[0;32m    170\u001b[0m \u001b[1;33m\u001b[0m\u001b[0m\n\u001b[0;32m    171\u001b[0m     \u001b[1;32mdef\u001b[0m \u001b[0mcanStandardize\u001b[0m\u001b[1;33m(\u001b[0m\u001b[0mself\u001b[0m\u001b[1;33m,\u001b[0m \u001b[0mdatasetType\u001b[0m\u001b[1;33m)\u001b[0m\u001b[1;33m:\u001b[0m\u001b[1;33m\u001b[0m\u001b[0m\n",
      "\u001b[1;32m/renoir_data_00/fouchez/lsst/DM/stacks/lsstsw/2016-04-04/lsstsw/stack/Linux64/daf_butlerUtils/2016_01.0-4-g325729a+7/python/lsst/daf/butlerUtils/cameraMapper.pyc\u001b[0m in \u001b[0;36mmapClosure\u001b[1;34m(dataId, write, mapper, mapping)\u001b[0m\n\u001b[0;32m    278\u001b[0m                         def mapClosure(dataId, write=False,\n\u001b[0;32m    279\u001b[0m                                 mapper=self, mapping=mapping):\n\u001b[1;32m--> 280\u001b[1;33m                             \u001b[1;32mreturn\u001b[0m \u001b[0mmapping\u001b[0m\u001b[1;33m.\u001b[0m\u001b[0mmap\u001b[0m\u001b[1;33m(\u001b[0m\u001b[0mmapper\u001b[0m\u001b[1;33m,\u001b[0m \u001b[0mdataId\u001b[0m\u001b[1;33m,\u001b[0m \u001b[0mwrite\u001b[0m\u001b[1;33m)\u001b[0m\u001b[1;33m\u001b[0m\u001b[0m\n\u001b[0m\u001b[0;32m    281\u001b[0m                         \u001b[0msetattr\u001b[0m\u001b[1;33m(\u001b[0m\u001b[0mself\u001b[0m\u001b[1;33m,\u001b[0m \u001b[1;34m\"map_\"\u001b[0m \u001b[1;33m+\u001b[0m \u001b[0mdatasetType\u001b[0m\u001b[1;33m,\u001b[0m \u001b[0mmapClosure\u001b[0m\u001b[1;33m)\u001b[0m\u001b[1;33m\u001b[0m\u001b[0m\n\u001b[0;32m    282\u001b[0m                     \u001b[1;32mif\u001b[0m \u001b[1;32mnot\u001b[0m \u001b[0mhasattr\u001b[0m\u001b[1;33m(\u001b[0m\u001b[0mself\u001b[0m\u001b[1;33m,\u001b[0m \u001b[1;34m\"query_\"\u001b[0m \u001b[1;33m+\u001b[0m \u001b[0mdatasetType\u001b[0m\u001b[1;33m)\u001b[0m\u001b[1;33m:\u001b[0m\u001b[1;33m\u001b[0m\u001b[0m\n",
      "\u001b[1;32m/renoir_data_00/fouchez/lsst/DM/stacks/lsstsw/2016-04-04/lsstsw/stack/Linux64/daf_butlerUtils/2016_01.0-4-g325729a+7/python/lsst/daf/butlerUtils/mapping.pyc\u001b[0m in \u001b[0;36mmap\u001b[1;34m(self, mapper, dataId, write)\u001b[0m\n\u001b[0;32m    119\u001b[0m         @return (lsst.daf.persistence.ButlerLocation)\"\"\"\n\u001b[0;32m    120\u001b[0m \u001b[1;33m\u001b[0m\u001b[0m\n\u001b[1;32m--> 121\u001b[1;33m         \u001b[0mactualId\u001b[0m \u001b[1;33m=\u001b[0m \u001b[0mself\u001b[0m\u001b[1;33m.\u001b[0m\u001b[0mneed\u001b[0m\u001b[1;33m(\u001b[0m\u001b[0mself\u001b[0m\u001b[1;33m.\u001b[0m\u001b[0mkeyDict\u001b[0m\u001b[1;33m.\u001b[0m\u001b[0miterkeys\u001b[0m\u001b[1;33m(\u001b[0m\u001b[1;33m)\u001b[0m\u001b[1;33m,\u001b[0m \u001b[0mdataId\u001b[0m\u001b[1;33m)\u001b[0m\u001b[1;33m\u001b[0m\u001b[0m\n\u001b[0m\u001b[0;32m    122\u001b[0m         \u001b[0mpath\u001b[0m \u001b[1;33m=\u001b[0m \u001b[0mmapper\u001b[0m\u001b[1;33m.\u001b[0m\u001b[0m_mapActualToPath\u001b[0m\u001b[1;33m(\u001b[0m\u001b[0mself\u001b[0m\u001b[1;33m.\u001b[0m\u001b[0mtemplate\u001b[0m\u001b[1;33m,\u001b[0m \u001b[0mactualId\u001b[0m\u001b[1;33m)\u001b[0m\u001b[1;33m\u001b[0m\u001b[0m\n\u001b[0;32m    123\u001b[0m         \u001b[1;32mif\u001b[0m \u001b[1;32mnot\u001b[0m \u001b[0mos\u001b[0m\u001b[1;33m.\u001b[0m\u001b[0mpath\u001b[0m\u001b[1;33m.\u001b[0m\u001b[0misabs\u001b[0m\u001b[1;33m(\u001b[0m\u001b[0mpath\u001b[0m\u001b[1;33m)\u001b[0m\u001b[1;33m:\u001b[0m\u001b[1;33m\u001b[0m\u001b[0m\n",
      "\u001b[1;32m/renoir_data_00/fouchez/lsst/DM/stacks/lsstsw/2016-04-04/lsstsw/stack/Linux64/daf_butlerUtils/2016_01.0-4-g325729a+7/python/lsst/daf/butlerUtils/mapping.pyc\u001b[0m in \u001b[0;36mneed\u001b[1;34m(self, properties, dataId)\u001b[0m\n\u001b[0;32m    206\u001b[0m         \u001b[1;32mif\u001b[0m \u001b[0mlen\u001b[0m\u001b[1;33m(\u001b[0m\u001b[0mlookups\u001b[0m\u001b[1;33m)\u001b[0m \u001b[1;33m!=\u001b[0m \u001b[1;36m1\u001b[0m\u001b[1;33m:\u001b[0m\u001b[1;33m\u001b[0m\u001b[0m\n\u001b[0;32m    207\u001b[0m             raise RuntimeError(\"No unique lookup for %s from %s: %d matches\" %\n\u001b[1;32m--> 208\u001b[1;33m                                 (newProps, newId, len(lookups)))\n\u001b[0m\u001b[0;32m    209\u001b[0m         \u001b[1;32mfor\u001b[0m \u001b[0mi\u001b[0m\u001b[1;33m,\u001b[0m \u001b[0mprop\u001b[0m \u001b[1;32min\u001b[0m \u001b[0menumerate\u001b[0m\u001b[1;33m(\u001b[0m\u001b[0mnewProps\u001b[0m\u001b[1;33m)\u001b[0m\u001b[1;33m:\u001b[0m\u001b[1;33m\u001b[0m\u001b[0m\n\u001b[0;32m    210\u001b[0m             \u001b[0mnewId\u001b[0m\u001b[1;33m[\u001b[0m\u001b[0mprop\u001b[0m\u001b[1;33m]\u001b[0m \u001b[1;33m=\u001b[0m \u001b[0mlookups\u001b[0m\u001b[1;33m[\u001b[0m\u001b[1;36m0\u001b[0m\u001b[1;33m]\u001b[0m\u001b[1;33m[\u001b[0m\u001b[0mi\u001b[0m\u001b[1;33m]\u001b[0m\u001b[1;33m\u001b[0m\u001b[0m\n",
      "\u001b[1;31mRuntimeError\u001b[0m: No unique lookup for ['taiObs', 'extension', 'object', 'state', 'runId', 'date', 'expTime'] from {'filter': 'r', 'ccd': 14, 'visit': 850856}: 0 matches"
     ]
    }
   ],
   "source": [
    "butler.get(\"calexp_md\", dataId={\"filter\":'r',\"visit\":850856, 'ccd':14})"
   ]
  },
  {
   "cell_type": "code",
   "execution_count": null,
   "metadata": {
    "collapsed": true,
    "deletable": true,
    "editable": true
   },
   "outputs": [],
   "source": []
  }
 ],
 "metadata": {
  "kernelspec": {
   "display_name": "Python 2",
   "language": "python",
   "name": "python2"
  },
  "language_info": {
   "codemirror_mode": {
    "name": "ipython",
    "version": 2
   },
   "file_extension": ".py",
   "mimetype": "text/x-python",
   "name": "python",
   "nbconvert_exporter": "python",
   "pygments_lexer": "ipython2",
   "version": "2.7.12"
  }
 },
 "nbformat": 4,
 "nbformat_minor": 0
}
