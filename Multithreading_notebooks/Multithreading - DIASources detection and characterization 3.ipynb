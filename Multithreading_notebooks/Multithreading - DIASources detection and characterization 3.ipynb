{
 "cells": [
  {
   "cell_type": "code",
   "execution_count": 180,
   "metadata": {
    "collapsed": true
   },
   "outputs": [],
   "source": [
    "def classify_sources(visit, filter, sigma, ccd, datadir):\n",
    "        \n",
    "        import DiaSourceTools as DSTools\n",
    "        import DCTools\n",
    "        import lsst.afw.geom as afwGeom\n",
    "        import lsst.afw.table as afwTable\n",
    "        import lsst.daf.base as dafBase\n",
    "        \n",
    "    \n",
    "        \n",
    "        \n",
    "        from lsst.ip.diffim import ImagePsfMatchTask, DipoleMeasurementTask\n",
    "        \n",
    "        import lsst.daf.persistence as dafPersist\n",
    "        \n",
    "        butler = dafPersist.Butler(datadir+\"/output\")\n",
    "\n",
    "        algMetadata = dafBase.PropertyList()\n",
    "        schema = afwTable.SourceTable.makeMinimalSchema()\n",
    "        dipoleMeasurement = DipoleMeasurementTask\n",
    "\n",
    "        config = dipoleMeasurement.ConfigClass()\n",
    "        dipoleMeasurement = dipoleMeasurement(schema, algMetadata=algMetadata)\n",
    "        \n",
    "        source_catalog = None\n",
    "        classification = []\n",
    "\n",
    "        if butler.datasetExists(\"deepDiff_differenceExp\", {'visit': visit , 'filter':filter , 'ccd':ccd}):\n",
    "\n",
    "                diffExp = butler.get(\"deepDiff_differenceExp\", {'visit': visit , 'filter':filter , 'ccd':ccd})\n",
    "                try:\n",
    "                            results = DSTools.detect_diasources(diffExp, doSmooth=False, threshold=sigma)\n",
    "                            diaSources =  DCTools.merge_sources(results, schema, algMetadata)\n",
    "                            dipoleMeasurement.run(diaSources, diffExp)\n",
    "                            #print diaSources\n",
    "                            source_catalog = DCTools.remove_nan_sources(diaSources)                \n",
    "                            \n",
    "                except Exception, e:\n",
    "                            print \"exception\"\n",
    "                            print e\n",
    "                        \n",
    "        if source_catalog is None:\n",
    "            return [str(visit)+\"-\"+str(ccd)]\n",
    "       \n",
    "        img_label = str(visit)+\"-\"+str(ccd)\n",
    "        for source in source_catalog:\n",
    "            \n",
    "            bbox = diffExp.getBBox()\n",
    "            wcs = diffExp.getWcs()\n",
    "            \n",
    "            center = afwGeom.Point2I(wcs.skyToPixel(source.getRa(), source.getDec()))\n",
    "            \n",
    "            try:    \n",
    "                stamp = DSTools.get_stamp(source, diffExp, offset=10)\n",
    "\n",
    "                if stamp is not None:\n",
    "                    stamp_clone = stamp.clone()\n",
    "                    results = DSTools.detect_diasources(stamp_clone, doSmooth=False,threshold=sigma)\n",
    "\n",
    "\n",
    "                    if len(results.fpSets.positive.getFootprints()) == 0 and len(results.fpSets.negative.getFootprints()) > 0:  \n",
    "                        label = 'Negative'\n",
    "                        classification.append((label, source.get(\"id\"), img_label))\n",
    "                    elif len(results.fpSets.positive.getFootprints()) > 0 and len(results.fpSets.negative.getFootprints()) == 0:\n",
    "                        label = DCTools.classify_point_source(stamp_clone, center)\n",
    "                        classification.append((label, source.get(\"id\"), img_label))\n",
    "                    else:\n",
    "\n",
    "\n",
    "                            stamp_clone = stamp.clone()\n",
    "                            results = DSTools.detect_diasources(stamp_clone, doSmooth=False,threshold=6)\n",
    "                            photo, geom = DCTools.get_dipole_lobes_metrics(stamp_clone)\n",
    "\n",
    "                            p_dipole, g_dipole = DCTools.photo_dipole(photo), DCTools.geom_dipole(geom)\n",
    "\n",
    "                            if p_dipole and g_dipole:\n",
    "                                label = \"Dipole type I\"\n",
    "                            elif p_dipole and not g_dipole:\n",
    "                                label = \"Dipole type II\"\n",
    "                            elif not p_dipole and g_dipole:\n",
    "                                label = \"Fringe\"\n",
    "                            else:\n",
    "                                label = \"Artifact\"\n",
    "                            classification.append((label, source.get(\"id\"), img_label))\n",
    "                        \n",
    "            except Exception, e:\n",
    "\n",
    "                    print e\n",
    "                    label = \"Artifact\"\n",
    "                    classification.append((label, source.get(\"id\"), img_label))\n",
    "                            \n",
    "                            \n",
    "            \n",
    "            n = 0\n",
    "            if label == \"Dipole type I\":\n",
    "                n= 0\n",
    "            elif label == \"Dipole type II\":\n",
    "                n=1\n",
    "            elif label == \"Fringe\":\n",
    "                n = 3\n",
    "            elif label == \"Artifact\":\n",
    "                n = 4\n",
    "            elif label == \"Negative\":\n",
    "                n = 5\n",
    "            elif label == \"Positive\":\n",
    "                n = 6\n",
    "            elif label == \"Point positive\":\n",
    "                n = 7\n",
    "\n",
    "            source[\"classification_dipole\"] = n\n",
    "            \n",
    "        source_catalog.writeFits(\"catalogs/\"+img_label+\".fits\")\n",
    "        \n",
    "        return classification, \"catalogs/\"+img_label+\".fits\""
   ]
  },
  {
   "cell_type": "code",
   "execution_count": 71,
   "metadata": {
    "collapsed": false
   },
   "outputs": [],
   "source": [
    "import lsst.daf.persistence as dafPersist\n",
    "\n",
    "\n",
    "DATADIR=\"/renoir_data_02/jpreyes/lsst_data/CFHTLS_master/\"\n",
    "\n",
    "butler = dafPersist.Butler(DATADIR+\"/output\")\n"
   ]
  },
  {
   "cell_type": "code",
   "execution_count": 99,
   "metadata": {
    "collapsed": false
   },
   "outputs": [
    {
     "name": "stdout",
     "output_type": "stream",
     "text": [
      "<lsst.afw.table.tableLib.SourceCatalog; proxy of <Swig Object of type 'lsst::afw::table::SortedCatalogT< lsst::afw::table::SourceRecord > *' at 0x7fdcfffda510> >\n"
     ]
    },
    {
     "name": "stderr",
     "output_type": "stream",
     "text": [
      "DCTools.py:179: RuntimeWarning: invalid value encountered in less\n",
      "  thresholding_n = img_arr < T_p\n",
      "DCTools.py:180: RuntimeWarning: invalid value encountered in less\n",
      "  thresholding_p = img_arr < T_p\n"
     ]
    },
    {
     "data": {
      "text/plain": [
       "([('Fringe', 1L, '838855-14'),\n",
       "  ('Fringe', 2L, '838855-14'),\n",
       "  ('Fringe', 3L, '838855-14'),\n",
       "  ('Fringe', 4L, '838855-14'),\n",
       "  ('Positive', 5L, '838855-14'),\n",
       "  ('Fringe', 6L, '838855-14'),\n",
       "  ('Point positive', 7L, '838855-14'),\n",
       "  ('Fringe', 8L, '838855-14'),\n",
       "  ('Fringe', 9L, '838855-14'),\n",
       "  ('Fringe', 10L, '838855-14'),\n",
       "  ('Positive', 11L, '838855-14'),\n",
       "  ('Fringe', 12L, '838855-14'),\n",
       "  ('Fringe', 13L, '838855-14'),\n",
       "  ('Fringe', 14L, '838855-14'),\n",
       "  ('Fringe', 15L, '838855-14'),\n",
       "  ('Fringe', 16L, '838855-14'),\n",
       "  ('Fringe', 17L, '838855-14'),\n",
       "  ('Fringe', 18L, '838855-14'),\n",
       "  ('Positive', 19L, '838855-14'),\n",
       "  ('Fringe', 20L, '838855-14'),\n",
       "  ('Fringe', 21L, '838855-14'),\n",
       "  ('Fringe', 22L, '838855-14'),\n",
       "  ('Artifact', 23L, '838855-14'),\n",
       "  ('Fringe', 24L, '838855-14'),\n",
       "  ('Positive', 25L, '838855-14'),\n",
       "  ('Fringe', 26L, '838855-14'),\n",
       "  ('Fringe', 27L, '838855-14'),\n",
       "  ('Fringe', 28L, '838855-14'),\n",
       "  ('Positive', 29L, '838855-14'),\n",
       "  ('Fringe', 30L, '838855-14'),\n",
       "  ('Fringe', 31L, '838855-14'),\n",
       "  ('Fringe', 32L, '838855-14'),\n",
       "  ('Fringe', 33L, '838855-14'),\n",
       "  ('Fringe', 34L, '838855-14'),\n",
       "  ('Fringe', 35L, '838855-14'),\n",
       "  ('Fringe', 36L, '838855-14'),\n",
       "  ('Fringe', 37L, '838855-14'),\n",
       "  ('Fringe', 38L, '838855-14'),\n",
       "  ('Dipole type I', 39L, '838855-14'),\n",
       "  ('Point positive', 40L, '838855-14'),\n",
       "  ('Fringe', 41L, '838855-14'),\n",
       "  ('Fringe', 42L, '838855-14'),\n",
       "  ('Fringe', 43L, '838855-14'),\n",
       "  ('Fringe', 44L, '838855-14'),\n",
       "  ('Fringe', 45L, '838855-14'),\n",
       "  ('Positive', 46L, '838855-14'),\n",
       "  ('Fringe', 47L, '838855-14'),\n",
       "  ('Fringe', 48L, '838855-14'),\n",
       "  ('Fringe', 49L, '838855-14'),\n",
       "  ('Point positive', 50L, '838855-14'),\n",
       "  ('Fringe', 51L, '838855-14'),\n",
       "  ('Point positive', 52L, '838855-14'),\n",
       "  ('Dipole type I', 53L, '838855-14'),\n",
       "  ('Point positive', 54L, '838855-14'),\n",
       "  ('Dipole type I', 55L, '838855-14'),\n",
       "  ('Fringe', 56L, '838855-14'),\n",
       "  ('Positive', 57L, '838855-14'),\n",
       "  ('Fringe', 58L, '838855-14'),\n",
       "  ('Positive', 59L, '838855-14'),\n",
       "  ('Fringe', 60L, '838855-14'),\n",
       "  ('Dipole type I', 61L, '838855-14'),\n",
       "  ('Positive', 62L, '838855-14'),\n",
       "  ('Fringe', 63L, '838855-14'),\n",
       "  ('Fringe', 64L, '838855-14'),\n",
       "  ('Fringe', 65L, '838855-14'),\n",
       "  ('Point positive', 66L, '838855-14'),\n",
       "  ('Fringe', 67L, '838855-14'),\n",
       "  ('Point positive', 68L, '838855-14'),\n",
       "  ('Fringe', 69L, '838855-14'),\n",
       "  ('Dipole type I', 70L, '838855-14'),\n",
       "  ('Dipole type I', 71L, '838855-14'),\n",
       "  ('Fringe', 72L, '838855-14'),\n",
       "  ('Positive', 73L, '838855-14'),\n",
       "  ('Dipole type I', 74L, '838855-14'),\n",
       "  ('Fringe', 75L, '838855-14'),\n",
       "  ('Fringe', 76L, '838855-14'),\n",
       "  ('Dipole type I', 77L, '838855-14'),\n",
       "  ('Dipole type I', 78L, '838855-14'),\n",
       "  ('Fringe', 79L, '838855-14'),\n",
       "  ('Point positive', 80L, '838855-14'),\n",
       "  ('Fringe', 81L, '838855-14'),\n",
       "  ('Point positive', 82L, '838855-14'),\n",
       "  ('Positive', 83L, '838855-14'),\n",
       "  ('Fringe', 84L, '838855-14'),\n",
       "  ('Positive', 85L, '838855-14'),\n",
       "  ('Point positive', 86L, '838855-14'),\n",
       "  ('Fringe', 87L, '838855-14'),\n",
       "  ('Dipole type I', 88L, '838855-14'),\n",
       "  ('Dipole type I', 89L, '838855-14'),\n",
       "  ('Fringe', 90L, '838855-14'),\n",
       "  ('Positive', 91L, '838855-14'),\n",
       "  ('Fringe', 92L, '838855-14'),\n",
       "  ('Dipole type I', 93L, '838855-14'),\n",
       "  ('Dipole type I', 94L, '838855-14'),\n",
       "  ('Positive', 95L, '838855-14'),\n",
       "  ('Point positive', 96L, '838855-14'),\n",
       "  ('Positive', 97L, '838855-14'),\n",
       "  ('Positive', 98L, '838855-14'),\n",
       "  ('Dipole type I', 99L, '838855-14'),\n",
       "  ('Positive', 100L, '838855-14'),\n",
       "  ('Dipole type I', 101L, '838855-14'),\n",
       "  ('Positive', 103L, '838855-14'),\n",
       "  ('Dipole type I', 104L, '838855-14'),\n",
       "  ('Dipole type I', 105L, '838855-14'),\n",
       "  ('Fringe', 106L, '838855-14'),\n",
       "  ('Fringe', 107L, '838855-14'),\n",
       "  ('Dipole type I', 108L, '838855-14'),\n",
       "  ('Point positive', 109L, '838855-14'),\n",
       "  ('Fringe', 110L, '838855-14'),\n",
       "  ('Dipole type I', 111L, '838855-14'),\n",
       "  ('Positive', 112L, '838855-14'),\n",
       "  ('Fringe', 113L, '838855-14'),\n",
       "  ('Positive', 114L, '838855-14'),\n",
       "  ('Positive', 116L, '838855-14'),\n",
       "  ('Fringe', 117L, '838855-14'),\n",
       "  ('Dipole type I', 118L, '838855-14'),\n",
       "  ('Positive', 119L, '838855-14'),\n",
       "  ('Dipole type I', 120L, '838855-14'),\n",
       "  ('Dipole type I', 121L, '838855-14'),\n",
       "  ('Positive', 122L, '838855-14'),\n",
       "  ('Dipole type I', 123L, '838855-14'),\n",
       "  ('Fringe', 124L, '838855-14'),\n",
       "  ('Dipole type I', 125L, '838855-14'),\n",
       "  ('Positive', 126L, '838855-14'),\n",
       "  ('Dipole type I', 127L, '838855-14'),\n",
       "  ('Positive', 128L, '838855-14'),\n",
       "  ('Fringe', 129L, '838855-14'),\n",
       "  ('Point positive', 130L, '838855-14'),\n",
       "  ('Fringe', 131L, '838855-14'),\n",
       "  ('Point positive', 132L, '838855-14'),\n",
       "  ('Artifact', 133L, '838855-14'),\n",
       "  ('Dipole type I', 134L, '838855-14'),\n",
       "  ('Dipole type I', 135L, '838855-14'),\n",
       "  ('Point positive', 136L, '838855-14'),\n",
       "  ('Point positive', 137L, '838855-14'),\n",
       "  ('Point positive', 138L, '838855-14'),\n",
       "  ('Dipole type I', 139L, '838855-14'),\n",
       "  ('Point positive', 140L, '838855-14'),\n",
       "  ('Point positive', 141L, '838855-14'),\n",
       "  ('Dipole type I', 142L, '838855-14'),\n",
       "  ('Dipole type I', 143L, '838855-14'),\n",
       "  ('Positive', 144L, '838855-14'),\n",
       "  ('Positive', 145L, '838855-14'),\n",
       "  ('Point positive', 146L, '838855-14'),\n",
       "  ('Positive', 147L, '838855-14'),\n",
       "  ('Dipole type II', 148L, '838855-14'),\n",
       "  ('Positive', 149L, '838855-14'),\n",
       "  ('Dipole type I', 150L, '838855-14'),\n",
       "  ('Dipole type I', 151L, '838855-14'),\n",
       "  ('Point positive', 152L, '838855-14'),\n",
       "  ('Point positive', 153L, '838855-14'),\n",
       "  ('Fringe', 154L, '838855-14'),\n",
       "  ('Dipole type I', 155L, '838855-14'),\n",
       "  ('Point positive', 156L, '838855-14'),\n",
       "  ('Artifact', 157L, '838855-14'),\n",
       "  ('Point positive', 158L, '838855-14'),\n",
       "  ('Positive', 159L, '838855-14'),\n",
       "  ('Point positive', 160L, '838855-14'),\n",
       "  ('Dipole type I', 161L, '838855-14'),\n",
       "  ('Artifact', 162L, '838855-14'),\n",
       "  ('Dipole type I', 163L, '838855-14'),\n",
       "  ('Dipole type I', 164L, '838855-14'),\n",
       "  ('Point positive', 165L, '838855-14'),\n",
       "  ('Positive', 166L, '838855-14'),\n",
       "  ('Dipole type I', 167L, '838855-14'),\n",
       "  ('Point positive', 168L, '838855-14'),\n",
       "  ('Point positive', 169L, '838855-14'),\n",
       "  ('Point positive', 170L, '838855-14'),\n",
       "  ('Dipole type I', 171L, '838855-14'),\n",
       "  ('Positive', 172L, '838855-14'),\n",
       "  ('Point positive', 173L, '838855-14'),\n",
       "  ('Fringe', 174L, '838855-14'),\n",
       "  ('Dipole type I', 175L, '838855-14'),\n",
       "  ('Dipole type I', 176L, '838855-14'),\n",
       "  ('Positive', 177L, '838855-14'),\n",
       "  ('Artifact', 178L, '838855-14'),\n",
       "  ('Point positive', 179L, '838855-14'),\n",
       "  ('Positive', 180L, '838855-14'),\n",
       "  ('Point positive', 181L, '838855-14'),\n",
       "  ('Positive', 182L, '838855-14'),\n",
       "  ('Point positive', 183L, '838855-14'),\n",
       "  ('Fringe', 184L, '838855-14'),\n",
       "  ('Dipole type I', 185L, '838855-14'),\n",
       "  ('Dipole type I', 186L, '838855-14'),\n",
       "  ('Point positive', 187L, '838855-14'),\n",
       "  ('Dipole type I', 188L, '838855-14'),\n",
       "  ('Positive', 189L, '838855-14'),\n",
       "  ('Positive', 190L, '838855-14'),\n",
       "  ('Dipole type II', 191L, '838855-14'),\n",
       "  ('Point positive', 192L, '838855-14'),\n",
       "  ('Positive', 193L, '838855-14'),\n",
       "  ('Positive', 194L, '838855-14'),\n",
       "  ('Point positive', 195L, '838855-14'),\n",
       "  ('Fringe', 196L, '838855-14'),\n",
       "  ('Artifact', 197L, '838855-14'),\n",
       "  ('Positive', 198L, '838855-14'),\n",
       "  ('Point positive', 199L, '838855-14'),\n",
       "  ('Point positive', 200L, '838855-14'),\n",
       "  ('Positive', 201L, '838855-14'),\n",
       "  ('Positive', 202L, '838855-14'),\n",
       "  ('Positive', 203L, '838855-14'),\n",
       "  ('Point positive', 204L, '838855-14'),\n",
       "  ('Positive', 205L, '838855-14'),\n",
       "  ('Positive', 206L, '838855-14'),\n",
       "  ('Point positive', 207L, '838855-14'),\n",
       "  ('Dipole type I', 208L, '838855-14'),\n",
       "  ('Point positive', 209L, '838855-14'),\n",
       "  ('Point positive', 210L, '838855-14'),\n",
       "  ('Positive', 211L, '838855-14'),\n",
       "  ('Positive', 212L, '838855-14'),\n",
       "  ('Point positive', 213L, '838855-14'),\n",
       "  ('Dipole type I', 214L, '838855-14'),\n",
       "  ('Artifact', 215L, '838855-14'),\n",
       "  ('Dipole type I', 216L, '838855-14'),\n",
       "  ('Positive', 217L, '838855-14'),\n",
       "  ('Positive', 218L, '838855-14'),\n",
       "  ('Point positive', 219L, '838855-14'),\n",
       "  ('Fringe', 220L, '838855-14'),\n",
       "  ('Positive', 221L, '838855-14'),\n",
       "  ('Positive', 222L, '838855-14'),\n",
       "  ('Positive', 223L, '838855-14'),\n",
       "  ('Dipole type I', 224L, '838855-14'),\n",
       "  ('Point positive', 225L, '838855-14'),\n",
       "  ('Positive', 226L, '838855-14'),\n",
       "  ('Positive', 227L, '838855-14'),\n",
       "  ('Positive', 228L, '838855-14'),\n",
       "  ('Dipole type I', 229L, '838855-14'),\n",
       "  ('Positive', 230L, '838855-14'),\n",
       "  ('Positive', 231L, '838855-14'),\n",
       "  ('Fringe', 232L, '838855-14'),\n",
       "  ('Point positive', 233L, '838855-14'),\n",
       "  ('Dipole type II', 234L, '838855-14'),\n",
       "  ('Point positive', 235L, '838855-14'),\n",
       "  ('Positive', 236L, '838855-14'),\n",
       "  ('Positive', 237L, '838855-14'),\n",
       "  ('Dipole type I', 238L, '838855-14'),\n",
       "  ('Positive', 239L, '838855-14'),\n",
       "  ('Positive', 240L, '838855-14'),\n",
       "  ('Artifact', 241L, '838855-14'),\n",
       "  ('Point positive', 242L, '838855-14'),\n",
       "  ('Positive', 243L, '838855-14'),\n",
       "  ('Artifact', 244L, '838855-14'),\n",
       "  ('Positive', 245L, '838855-14'),\n",
       "  ('Positive', 246L, '838855-14'),\n",
       "  ('Point positive', 247L, '838855-14'),\n",
       "  ('Positive', 248L, '838855-14'),\n",
       "  ('Point positive', 249L, '838855-14'),\n",
       "  ('Fringe', 250L, '838855-14'),\n",
       "  ('Positive', 251L, '838855-14'),\n",
       "  ('Positive', 252L, '838855-14'),\n",
       "  ('Point positive', 253L, '838855-14'),\n",
       "  ('Positive', 254L, '838855-14'),\n",
       "  ('Point positive', 255L, '838855-14'),\n",
       "  ('Dipole type I', 256L, '838855-14'),\n",
       "  ('Dipole type I', 257L, '838855-14'),\n",
       "  ('Point positive', 258L, '838855-14'),\n",
       "  ('Positive', 259L, '838855-14'),\n",
       "  ('Positive', 260L, '838855-14'),\n",
       "  ('Positive', 261L, '838855-14'),\n",
       "  ('Positive', 262L, '838855-14'),\n",
       "  ('Dipole type II', 263L, '838855-14'),\n",
       "  ('Point positive', 264L, '838855-14'),\n",
       "  ('Fringe', 265L, '838855-14'),\n",
       "  ('Positive', 266L, '838855-14'),\n",
       "  ('Positive', 267L, '838855-14'),\n",
       "  ('Dipole type II', 268L, '838855-14'),\n",
       "  ('Dipole type I', 269L, '838855-14'),\n",
       "  ('Positive', 270L, '838855-14'),\n",
       "  ('Dipole type I', 271L, '838855-14'),\n",
       "  ('Artifact', 272L, '838855-14'),\n",
       "  ('Positive', 273L, '838855-14'),\n",
       "  ('Positive', 274L, '838855-14'),\n",
       "  ('Dipole type I', 275L, '838855-14'),\n",
       "  ('Positive', 276L, '838855-14'),\n",
       "  ('Point positive', 277L, '838855-14'),\n",
       "  ('Positive', 278L, '838855-14'),\n",
       "  ('Positive', 279L, '838855-14'),\n",
       "  ('Point positive', 280L, '838855-14'),\n",
       "  ('Dipole type I', 281L, '838855-14'),\n",
       "  ('Dipole type II', 282L, '838855-14'),\n",
       "  ('Positive', 283L, '838855-14'),\n",
       "  ('Positive', 284L, '838855-14'),\n",
       "  ('Artifact', 285L, '838855-14'),\n",
       "  ('Dipole type II', 286L, '838855-14'),\n",
       "  ('Positive', 287L, '838855-14'),\n",
       "  ('Positive', 288L, '838855-14'),\n",
       "  ('Positive', 289L, '838855-14'),\n",
       "  ('Positive', 290L, '838855-14'),\n",
       "  ('Point positive', 291L, '838855-14'),\n",
       "  ('Artifact', 292L, '838855-14'),\n",
       "  ('Positive', 293L, '838855-14'),\n",
       "  ('Positive', 294L, '838855-14'),\n",
       "  ('Point positive', 295L, '838855-14')],\n",
       " 'catalogs/838855-14.fits')"
      ]
     },
     "execution_count": 99,
     "metadata": {},
     "output_type": "execute_result"
    }
   ],
   "source": [
    "classify_sources(838855, 'r', 6, 14, DATADIR)"
   ]
  },
  {
   "cell_type": "code",
   "execution_count": 156,
   "metadata": {
    "collapsed": false
   },
   "outputs": [
    {
     "name": "stdout",
     "output_type": "stream",
     "text": [
      "[3, 5, 7, 9]\n"
     ]
    }
   ],
   "source": [
    "import ipyparallel as ipyp\n",
    "\n",
    "c = ipyp.Client()\n",
    "v = c[:]\n",
    "\n",
    "\n",
    "def f(a,b):\n",
    "    def c(a, b):\n",
    "        return a+b\n",
    "\n",
    "    return c(a,b)\n",
    "res = v.map(lambda x,y: x+y, (1, 2, 3, 4), (2, 3, 4, 5))\n",
    "#res = v.map(f, [1, 2, 3, 4], [2, 3, 4, 5])\n",
    "\n",
    "print res.get()\n",
    "\n"
   ]
  },
  {
   "cell_type": "code",
   "execution_count": 288,
   "metadata": {
    "collapsed": true
   },
   "outputs": [],
   "source": [
    "vs = [850177, 850178, 850179, 850180, 850181, 850586, 850587, 850588, 850589, 850590]\n"
   ]
  },
  {
   "cell_type": "code",
   "execution_count": 181,
   "metadata": {
    "collapsed": false
   },
   "outputs": [
    {
     "name": "stdout",
     "output_type": "stream",
     "text": [
      "[836493 836494 836495 836496 836497 836498 837002 837003 837004 837005\n",
      " 837006 837007 837008 838853 838854 838855 838857 838864 838865 838866\n",
      " 838867 838868 839308 839309 839310 839311 839312 844210 844211 844212\n",
      " 844213 844214 844230 844489 844490 844491 844492 844493 844494 844495\n",
      " 844496 844497 844498 844514 844515 844516 844517 844518 844845 844846\n",
      " 844847 844848 844849 845345 845346 845347 845348 845349 849373 849374\n",
      " 849375 849376 849377 849685 849686 849687 849688 849689 850177 850178\n",
      " 850179 850180 850181 850586 850587 850588 850589 850590 851057 851058\n",
      " 851059 851060 851061 852890 852891 852892 852893 852894 853232 853233\n",
      " 853234 853235 853236 853539 853540 853541 853542 853543 853727 853728\n",
      " 853729 853730 853731 858537 858538 858539 858540 858541 859608 859609\n",
      " 859610 859611 859612 860146 860147 860148 860149 860150]\n"
     ]
    }
   ],
   "source": [
    "import numpy as np\n",
    "visits = butler.queryMetadata(\"deepDiff_differenceExp\", format=['visit'],dataId={'filter':'r'})\n",
    "visits = np.array(visits)\n",
    "mask = (visits >= 836493) & (visits <= 860150)\n",
    "visits =  visits[mask]\n",
    "print visits"
   ]
  },
  {
   "cell_type": "code",
   "execution_count": 121,
   "metadata": {
    "collapsed": true
   },
   "outputs": [],
   "source": [
    "visits = [838855]"
   ]
  },
  {
   "cell_type": "code",
   "execution_count": 183,
   "metadata": {
    "collapsed": false
   },
   "outputs": [
    {
     "name": "stdout",
     "output_type": "stream",
     "text": [
      "True\n",
      "4248 4248 4248 4248 4248\n"
     ]
    }
   ],
   "source": [
    "n = 36\n",
    "m = len(visits)\n",
    "vs = []\n",
    "for v in visits:\n",
    "    vs += [v]*n\n",
    "    \n",
    "filters = ['r']*n*m\n",
    "sigmas = [3]*n*m\n",
    "ccds = range(0,n)*m\n",
    "dirs = [DATADIR]*n*m\n",
    "\n",
    "print len(vs) == len(filters) == len(sigmas) == len(ccds) == len(dirs)\n",
    "print len(vs), len(filters), len(sigmas), len(ccds), len(dirs)"
   ]
  },
  {
   "cell_type": "code",
   "execution_count": 158,
   "metadata": {
    "collapsed": false
   },
   "outputs": [
    {
     "name": "stdout",
     "output_type": "stream",
     "text": [
      "[836493, 836494, 836495, 836496, 836497, 836498, 837002, 837003, 837004, 837005, 837006, 837007, 837008, 838853, 838854, 838855, 838857, 838864, 838865, 838866, 838867, 838868, 839308, 839309, 839310, 839311, 839312, 844210, 844211, 844212, 844213, 844214, 844230, 844489, 844490, 844491, 844492, 844493, 844494, 844495, 844496, 844497, 844498, 844514, 844515, 844516, 844517, 844518, 844845, 844846, 844847, 844848, 844849, 845345, 845346, 845347, 845348, 845349, 849373, 849374, 849375, 849376, 849377, 849685, 849686, 849687, 849688, 849689, 850177, 850178, 850179, 850180, 850181, 850586, 850587, 850588, 850589, 850590, 851057, 851058, 851059, 851060, 851061, 852890, 852891, 852892, 852893, 852894, 853232, 853233, 853234, 853235, 853236, 853539, 853540, 853541, 853542, 853543, 853727, 853728, 853729, 853730, 853731, 858537, 858538, 858539, 858540, 858541, 859608, 859609, 859610, 859611, 859612, 860146, 860147, 860148, 860149, 860150]\n"
     ]
    }
   ],
   "source": [
    "print vs"
   ]
  },
  {
   "cell_type": "code",
   "execution_count": 185,
   "metadata": {
    "collapsed": false
   },
   "outputs": [
    {
     "name": "stdout",
     "output_type": "stream",
     "text": [
      "Total time: 0.743954181671\n"
     ]
    }
   ],
   "source": [
    "import time\n",
    "\n",
    "c = ipyp.Client()\n",
    "#v = c.load_balanced_view()\n",
    "v = c[:]\n",
    "\n",
    "start = time.time()\n",
    "\n",
    "res = v.map(classify_sources, vs, filters, sigmas, ccds, dirs)\n",
    "#res = v.map(classify_sources, [849687], ['r'], [6], [14], [DATADIR])\n",
    "end = time.time()\n",
    "print \"Total time: \" + str(end-start)\n"
   ]
  },
  {
   "cell_type": "code",
   "execution_count": 186,
   "metadata": {
    "collapsed": false
   },
   "outputs": [
    {
     "name": "stdout",
     "output_type": "stream",
     "text": [
      "<AsyncMapResult: classify_sources:finished>\n"
     ]
    }
   ],
   "source": [
    "print res"
   ]
  },
  {
   "cell_type": "code",
   "execution_count": 187,
   "metadata": {
    "collapsed": false
   },
   "outputs": [
    {
     "ename": "CompositeError",
     "evalue": "one or more exceptions from call to method: classify_sources\n[3:apply]: ValueError: I/O operation on closed file\n[4:apply]: ValueError: I/O operation on closed file\n[8:apply]: ValueError: I/O operation on closed file\n[10:apply]: ValueError: I/O operation on closed file\n.... 20 more exceptions ...",
     "output_type": "error",
     "traceback": [
      "[3:apply]: ",
      "\u001b[1;31m---------------------------------------------------------------------------\u001b[0m\u001b[1;31mValueError\u001b[0m                                Traceback (most recent call last)\u001b[1;32m<string>\u001b[0m in \u001b[0;36m<module>\u001b[1;34m()\u001b[0m",
      "\u001b[1;32m<ipython-input-180-2aef64260b35>\u001b[0m in \u001b[0;36mclassify_sources\u001b[1;34m(visit, filter, sigma, ccd, datadir)\u001b[0m",
      "\u001b[1;32m/renoir_data_00/fouchez/lsst/DM/stacks/lsstsw/2016-04-04/lsstsw/miniconda/lib/python2.7/site-packages/ipykernel/iostream.pyc\u001b[0m in \u001b[0;36mwrite\u001b[1;34m(self, string)\u001b[0m",
      "\u001b[0;32m    315\u001b[0m \u001b[1;33m\u001b[0m\u001b[0m",
      "\u001b[0;32m    316\u001b[0m             \u001b[0mis_child\u001b[0m \u001b[1;33m=\u001b[0m \u001b[1;33m(\u001b[0m\u001b[1;32mnot\u001b[0m \u001b[0mself\u001b[0m\u001b[1;33m.\u001b[0m\u001b[0m_is_master_process\u001b[0m\u001b[1;33m(\u001b[0m\u001b[1;33m)\u001b[0m\u001b[1;33m)\u001b[0m\u001b[1;33m\u001b[0m\u001b[0m",
      "\u001b[1;32m--> 317\u001b[1;33m             \u001b[0mself\u001b[0m\u001b[1;33m.\u001b[0m\u001b[0m_buffer\u001b[0m\u001b[1;33m.\u001b[0m\u001b[0mwrite\u001b[0m\u001b[1;33m(\u001b[0m\u001b[0mstring\u001b[0m\u001b[1;33m)\u001b[0m\u001b[1;33m\u001b[0m\u001b[0m",
      "\u001b[0m\u001b[0;32m    318\u001b[0m             \u001b[1;32mif\u001b[0m \u001b[0mis_child\u001b[0m\u001b[1;33m:\u001b[0m\u001b[1;33m\u001b[0m\u001b[0m",
      "\u001b[0;32m    319\u001b[0m                 \u001b[1;31m# newlines imply flush in subprocesses\u001b[0m\u001b[1;33m\u001b[0m\u001b[1;33m\u001b[0m\u001b[0m",
      "\u001b[1;31mValueError\u001b[0m: I/O operation on closed file",
      "",
      "[4:apply]: ",
      "\u001b[1;31m---------------------------------------------------------------------------\u001b[0m\u001b[1;31mValueError\u001b[0m                                Traceback (most recent call last)\u001b[1;32m<string>\u001b[0m in \u001b[0;36m<module>\u001b[1;34m()\u001b[0m",
      "\u001b[1;32m<ipython-input-180-2aef64260b35>\u001b[0m in \u001b[0;36mclassify_sources\u001b[1;34m(visit, filter, sigma, ccd, datadir)\u001b[0m",
      "\u001b[1;32m/renoir_data_00/fouchez/lsst/DM/stacks/lsstsw/2016-04-04/lsstsw/miniconda/lib/python2.7/site-packages/ipykernel/iostream.pyc\u001b[0m in \u001b[0;36mwrite\u001b[1;34m(self, string)\u001b[0m",
      "\u001b[0;32m    315\u001b[0m \u001b[1;33m\u001b[0m\u001b[0m",
      "\u001b[0;32m    316\u001b[0m             \u001b[0mis_child\u001b[0m \u001b[1;33m=\u001b[0m \u001b[1;33m(\u001b[0m\u001b[1;32mnot\u001b[0m \u001b[0mself\u001b[0m\u001b[1;33m.\u001b[0m\u001b[0m_is_master_process\u001b[0m\u001b[1;33m(\u001b[0m\u001b[1;33m)\u001b[0m\u001b[1;33m)\u001b[0m\u001b[1;33m\u001b[0m\u001b[0m",
      "\u001b[1;32m--> 317\u001b[1;33m             \u001b[0mself\u001b[0m\u001b[1;33m.\u001b[0m\u001b[0m_buffer\u001b[0m\u001b[1;33m.\u001b[0m\u001b[0mwrite\u001b[0m\u001b[1;33m(\u001b[0m\u001b[0mstring\u001b[0m\u001b[1;33m)\u001b[0m\u001b[1;33m\u001b[0m\u001b[0m",
      "\u001b[0m\u001b[0;32m    318\u001b[0m             \u001b[1;32mif\u001b[0m \u001b[0mis_child\u001b[0m\u001b[1;33m:\u001b[0m\u001b[1;33m\u001b[0m\u001b[0m",
      "\u001b[0;32m    319\u001b[0m                 \u001b[1;31m# newlines imply flush in subprocesses\u001b[0m\u001b[1;33m\u001b[0m\u001b[1;33m\u001b[0m\u001b[0m",
      "\u001b[1;31mValueError\u001b[0m: I/O operation on closed file",
      "",
      "[8:apply]: ",
      "\u001b[1;31m---------------------------------------------------------------------------\u001b[0m\u001b[1;31mValueError\u001b[0m                                Traceback (most recent call last)\u001b[1;32m<string>\u001b[0m in \u001b[0;36m<module>\u001b[1;34m()\u001b[0m",
      "\u001b[1;32m<ipython-input-180-2aef64260b35>\u001b[0m in \u001b[0;36mclassify_sources\u001b[1;34m(visit, filter, sigma, ccd, datadir)\u001b[0m",
      "\u001b[1;32m/renoir_data_00/fouchez/lsst/DM/stacks/lsstsw/2016-04-04/lsstsw/miniconda/lib/python2.7/site-packages/ipykernel/iostream.pyc\u001b[0m in \u001b[0;36mwrite\u001b[1;34m(self, string)\u001b[0m",
      "\u001b[0;32m    315\u001b[0m \u001b[1;33m\u001b[0m\u001b[0m",
      "\u001b[0;32m    316\u001b[0m             \u001b[0mis_child\u001b[0m \u001b[1;33m=\u001b[0m \u001b[1;33m(\u001b[0m\u001b[1;32mnot\u001b[0m \u001b[0mself\u001b[0m\u001b[1;33m.\u001b[0m\u001b[0m_is_master_process\u001b[0m\u001b[1;33m(\u001b[0m\u001b[1;33m)\u001b[0m\u001b[1;33m)\u001b[0m\u001b[1;33m\u001b[0m\u001b[0m",
      "\u001b[1;32m--> 317\u001b[1;33m             \u001b[0mself\u001b[0m\u001b[1;33m.\u001b[0m\u001b[0m_buffer\u001b[0m\u001b[1;33m.\u001b[0m\u001b[0mwrite\u001b[0m\u001b[1;33m(\u001b[0m\u001b[0mstring\u001b[0m\u001b[1;33m)\u001b[0m\u001b[1;33m\u001b[0m\u001b[0m",
      "\u001b[0m\u001b[0;32m    318\u001b[0m             \u001b[1;32mif\u001b[0m \u001b[0mis_child\u001b[0m\u001b[1;33m:\u001b[0m\u001b[1;33m\u001b[0m\u001b[0m",
      "\u001b[0;32m    319\u001b[0m                 \u001b[1;31m# newlines imply flush in subprocesses\u001b[0m\u001b[1;33m\u001b[0m\u001b[1;33m\u001b[0m\u001b[0m",
      "\u001b[1;31mValueError\u001b[0m: I/O operation on closed file",
      "",
      "[10:apply]: ",
      "\u001b[1;31m---------------------------------------------------------------------------\u001b[0m\u001b[1;31mValueError\u001b[0m                                Traceback (most recent call last)\u001b[1;32m<string>\u001b[0m in \u001b[0;36m<module>\u001b[1;34m()\u001b[0m",
      "\u001b[1;32m<ipython-input-180-2aef64260b35>\u001b[0m in \u001b[0;36mclassify_sources\u001b[1;34m(visit, filter, sigma, ccd, datadir)\u001b[0m",
      "\u001b[1;32m/renoir_data_00/fouchez/lsst/DM/stacks/lsstsw/2016-04-04/lsstsw/miniconda/lib/python2.7/site-packages/ipykernel/iostream.pyc\u001b[0m in \u001b[0;36mwrite\u001b[1;34m(self, string)\u001b[0m",
      "\u001b[0;32m    315\u001b[0m \u001b[1;33m\u001b[0m\u001b[0m",
      "\u001b[0;32m    316\u001b[0m             \u001b[0mis_child\u001b[0m \u001b[1;33m=\u001b[0m \u001b[1;33m(\u001b[0m\u001b[1;32mnot\u001b[0m \u001b[0mself\u001b[0m\u001b[1;33m.\u001b[0m\u001b[0m_is_master_process\u001b[0m\u001b[1;33m(\u001b[0m\u001b[1;33m)\u001b[0m\u001b[1;33m)\u001b[0m\u001b[1;33m\u001b[0m\u001b[0m",
      "\u001b[1;32m--> 317\u001b[1;33m             \u001b[0mself\u001b[0m\u001b[1;33m.\u001b[0m\u001b[0m_buffer\u001b[0m\u001b[1;33m.\u001b[0m\u001b[0mwrite\u001b[0m\u001b[1;33m(\u001b[0m\u001b[0mstring\u001b[0m\u001b[1;33m)\u001b[0m\u001b[1;33m\u001b[0m\u001b[0m",
      "\u001b[0m\u001b[0;32m    318\u001b[0m             \u001b[1;32mif\u001b[0m \u001b[0mis_child\u001b[0m\u001b[1;33m:\u001b[0m\u001b[1;33m\u001b[0m\u001b[0m",
      "\u001b[0;32m    319\u001b[0m                 \u001b[1;31m# newlines imply flush in subprocesses\u001b[0m\u001b[1;33m\u001b[0m\u001b[1;33m\u001b[0m\u001b[0m",
      "\u001b[1;31mValueError\u001b[0m: I/O operation on closed file",
      "",
      "... 20 more exceptions ..."
     ]
    }
   ],
   "source": [
    "cs = res.get()\n",
    "for i, c in enumerate(cs):\n",
    "    if len(c) == 1 and isinstance(c[0], str):\n",
    "        print i, c"
   ]
  },
  {
   "cell_type": "code",
   "execution_count": 149,
   "metadata": {
    "collapsed": false
   },
   "outputs": [
    {
     "ename": "CompositeError",
     "evalue": "one or more exceptions from call to method: classify_sources\n[46:apply]: OverflowError: Overflow error converting to int",
     "output_type": "error",
     "traceback": [
      "[46:apply]: ",
      "\u001b[1;31m---------------------------------------------------------------------------\u001b[0m\u001b[1;31mOverflowError\u001b[0m                             Traceback (most recent call last)\u001b[1;32m<string>\u001b[0m in \u001b[0;36m<module>\u001b[1;34m()\u001b[0m",
      "\u001b[1;32m<ipython-input-85-57c582524515>\u001b[0m in \u001b[0;36mclassify_sources\u001b[1;34m(visit, filter, sigma, ccd, datadir)\u001b[0m",
      "\u001b[1;32m/renoir_data_00/jpreyes/stacks/notebook_files/DiaSourceTools.pyc\u001b[0m in \u001b[0;36mget_stamp\u001b[1;34m(source, exposure, offset)\u001b[0m",
      "\u001b[0;32m     93\u001b[0m         \u001b[0mcorrectedEnd\u001b[0m \u001b[1;33m=\u001b[0m \u001b[0mEnd\u001b[0m \u001b[1;33m-\u001b[0m \u001b[0mExpOrig\u001b[0m\u001b[1;33m\u001b[0m\u001b[0m",
      "\u001b[0;32m     94\u001b[0m \u001b[1;33m\u001b[0m\u001b[0m",
      "\u001b[1;32m---> 95\u001b[1;33m         \u001b[0mcorrectedBegin\u001b[0m\u001b[1;33m=\u001b[0m \u001b[0mafwGeom\u001b[0m\u001b[1;33m.\u001b[0m\u001b[0mPoint2I\u001b[0m\u001b[1;33m(\u001b[0m\u001b[0mcorrectedBegin\u001b[0m\u001b[1;33m.\u001b[0m\u001b[0mgetX\u001b[0m\u001b[1;33m(\u001b[0m\u001b[1;33m)\u001b[0m\u001b[1;33m-\u001b[0m\u001b[0moffset\u001b[0m\u001b[1;33m,\u001b[0m\u001b[0mcorrectedBegin\u001b[0m\u001b[1;33m.\u001b[0m\u001b[0mgetY\u001b[0m\u001b[1;33m(\u001b[0m\u001b[1;33m)\u001b[0m\u001b[1;33m-\u001b[0m\u001b[0moffset\u001b[0m \u001b[1;33m)\u001b[0m\u001b[1;33m\u001b[0m\u001b[0m",
      "\u001b[0m\u001b[0;32m     96\u001b[0m         \u001b[0mcorrectedEnd\u001b[0m \u001b[1;33m=\u001b[0m \u001b[0mafwGeom\u001b[0m\u001b[1;33m.\u001b[0m\u001b[0mPoint2I\u001b[0m\u001b[1;33m(\u001b[0m\u001b[0mcorrectedEnd\u001b[0m\u001b[1;33m.\u001b[0m\u001b[0mgetX\u001b[0m\u001b[1;33m(\u001b[0m\u001b[1;33m)\u001b[0m\u001b[1;33m+\u001b[0m\u001b[0moffset\u001b[0m\u001b[1;33m,\u001b[0m\u001b[0mcorrectedEnd\u001b[0m\u001b[1;33m.\u001b[0m\u001b[0mgetY\u001b[0m\u001b[1;33m(\u001b[0m\u001b[1;33m)\u001b[0m\u001b[1;33m+\u001b[0m\u001b[0moffset\u001b[0m \u001b[1;33m)\u001b[0m\u001b[1;33m\u001b[0m\u001b[0m",
      "\u001b[0;32m     97\u001b[0m \u001b[1;33m\u001b[0m\u001b[0m",
      "\u001b[1;32m/renoir_data_00/fouchez/lsst/DM/stacks/lsstsw/2016-04-04/lsstsw/stack/Linux64/afw/2.2016.10-8-g2cef314+1/python/lsst/afw/geom/geomLib.pyc\u001b[0m in \u001b[0;36m__init__\u001b[1;34m(self, *args)\u001b[0m",
      "\u001b[0;32m   2423\u001b[0m         \u001b[0m__init__\u001b[0m\u001b[1;33m(\u001b[0m\u001b[0mlsst\u001b[0m\u001b[1;33m:\u001b[0m\u001b[1;33m:\u001b[0m\u001b[0mafw\u001b[0m\u001b[1;33m:\u001b[0m\u001b[1;33m:\u001b[0m\u001b[0mgeom\u001b[0m\u001b[1;33m:\u001b[0m\u001b[1;33m:\u001b[0m\u001b[0mPoint\u001b[0m\u001b[1;33m<\u001b[0m\u001b[1;33m(\u001b[0m\u001b[0mint\u001b[0m\u001b[1;33m,\u001b[0m\u001b[1;36m2\u001b[0m\u001b[1;33m)\u001b[0m\u001b[1;33m>\u001b[0m \u001b[0mself\u001b[0m\u001b[1;33m,\u001b[0m \u001b[0mPoint2I\u001b[0m \u001b[0mother\u001b[0m\u001b[1;33m)\u001b[0m \u001b[1;33m-\u001b[0m\u001b[1;33m>\u001b[0m \u001b[0mPoint2I\u001b[0m\u001b[1;33m\u001b[0m\u001b[0m",
      "\u001b[0;32m   2424\u001b[0m         \"\"\"",
      "\u001b[1;32m-> 2425\u001b[1;33m         \u001b[0mthis\u001b[0m \u001b[1;33m=\u001b[0m \u001b[0m_geomLib\u001b[0m\u001b[1;33m.\u001b[0m\u001b[0mnew_Point2I\u001b[0m\u001b[1;33m(\u001b[0m\u001b[1;33m*\u001b[0m\u001b[0margs\u001b[0m\u001b[1;33m)\u001b[0m\u001b[1;33m\u001b[0m\u001b[0m",
      "\u001b[0m\u001b[0;32m   2426\u001b[0m         \u001b[1;32mtry\u001b[0m\u001b[1;33m:\u001b[0m \u001b[0mself\u001b[0m\u001b[1;33m.\u001b[0m\u001b[0mthis\u001b[0m\u001b[1;33m.\u001b[0m\u001b[0mappend\u001b[0m\u001b[1;33m(\u001b[0m\u001b[0mthis\u001b[0m\u001b[1;33m)\u001b[0m\u001b[1;33m\u001b[0m\u001b[0m",
      "\u001b[0;32m   2427\u001b[0m         \u001b[1;32mexcept\u001b[0m\u001b[1;33m:\u001b[0m \u001b[0mself\u001b[0m\u001b[1;33m.\u001b[0m\u001b[0mthis\u001b[0m \u001b[1;33m=\u001b[0m \u001b[0mthis\u001b[0m\u001b[1;33m\u001b[0m\u001b[0m",
      "\u001b[1;31mOverflowError\u001b[0m: Overflow error converting to int",
      ""
     ]
    }
   ],
   "source": [
    "len(res.get())"
   ]
  },
  {
   "cell_type": "code",
   "execution_count": 15,
   "metadata": {
    "collapsed": false
   },
   "outputs": [],
   "source": [
    "import datetime\n",
    "md = res.metadata\n",
    "start = datetime.datetime.now()\n",
    "end = datetime.datetime(2000, 1, 1, 1, 1)\n",
    "\n",
    "for data in md:\n",
    "        s1 = data['submitted']\n",
    "        e1 = data['completed']\n",
    "        if s1 < start:\n",
    "            start = s1\n",
    "        if e1 > end:\n",
    "            end = e1\n",
    "\n"
   ]
  },
  {
   "cell_type": "code",
   "execution_count": 16,
   "metadata": {
    "collapsed": false
   },
   "outputs": [
    {
     "data": {
      "text/plain": [
       "46315.209972"
      ]
     },
     "execution_count": 16,
     "metadata": {},
     "output_type": "execute_result"
    }
   ],
   "source": [
    "delta = end-start\n",
    "delta.total_seconds()\n"
   ]
  },
  {
   "cell_type": "code",
   "execution_count": 271,
   "metadata": {
    "collapsed": false
   },
   "outputs": [],
   "source": []
  },
  {
   "cell_type": "code",
   "execution_count": 318,
   "metadata": {
    "collapsed": false
   },
   "outputs": [
    {
     "name": "stdout",
     "output_type": "stream",
     "text": [
      "OrderedDict([('Point positive', 220481), ('Positive', 137280), ('Fringe', 123155), ('Dipole type II', 117958), ('Dipole type I', 81082), ('Artifact', 36972)])\n"
     ]
    },
    {
     "data": {
      "image/png": "[encoded data removed]",
      "text/plain": [
       "<matplotlib.figure.Figure at 0x7fdee8c283d0>"
      ]
     },
     "metadata": {},
     "output_type": "display_data"
    }
   ],
   "source": [
    "import collections\n",
    "from operator import itemgetter\n",
    "import matplotlib.pyplot as plt\n",
    "%matplotlib inline\n",
    "\n",
    "objects = {}\n",
    "\n",
    "#classification = res[0]\n",
    "for classification in cs:\n",
    "    if isinstance(classification[0], str) == False:\n",
    "        for label, src, visit in classification:\n",
    "            if label in objects:\n",
    "                objects[label] += 1\n",
    "            else:\n",
    "                objects[label] = 1\n",
    "\n",
    "o_objects = collections.OrderedDict(sorted(objects.items(), key=itemgetter(1), reverse=True))\n",
    "print o_objects\n",
    "X = np.arange(len(o_objects))\n",
    "\n",
    "p = plt.bar(X, o_objects.values(), align='center')\n",
    "plt.xticks(X, o_objects.keys(), rotation=30)\n",
    "\n",
    "plt.xlabel(\"Label\")\n",
    "plt.ylabel(\"Number of objects\")\n",
    "for i, rect in enumerate(p):\n",
    "    plt.text(rect.get_x(), rect.get_height()+10000, int(rect.get_height()))\n",
    "\n",
    "plt.show()"
   ]
  },
  {
   "cell_type": "code",
   "execution_count": 276,
   "metadata": {
    "collapsed": false
   },
   "outputs": [
    {
     "data": {
      "text/plain": [
       "['836493-12']"
      ]
     },
     "execution_count": 276,
     "metadata": {},
     "output_type": "execute_result"
    }
   ],
   "source": [
    "classification"
   ]
  },
  {
   "cell_type": "code",
   "execution_count": 403,
   "metadata": {
    "collapsed": false
   },
   "outputs": [],
   "source": [
    "import lsst.afw.table as afwTable\n",
    "\n",
    "c1 = afwTable.SourceCatalog.readFits(\"catalogs/844493-14.fits\")\n",
    "c2 = afwTable.SourceCatalog.readFits(\"catalogs/844493-14.fits\")"
   ]
  },
  {
   "cell_type": "code",
   "execution_count": 404,
   "metadata": {
    "collapsed": false
   },
   "outputs": [
    {
     "name": "stdout",
     "output_type": "stream",
     "text": [
      "1\n",
      "1\n"
     ]
    }
   ],
   "source": [
    "print c1[0].get(\"id\")\n",
    "print c2[0].get(\"id\")\n",
    "c1.extend(c2)"
   ]
  },
  {
   "cell_type": "code",
   "execution_count": 405,
   "metadata": {
    "collapsed": false
   },
   "outputs": [
    {
     "name": "stdout",
     "output_type": "stream",
     "text": [
      "3.0\n"
     ]
    }
   ],
   "source": [
    "s = c1[66]\n",
    "print s['classification_dipole']"
   ]
  },
  {
   "cell_type": "code",
   "execution_count": 346,
   "metadata": {
    "collapsed": false
   },
   "outputs": [
    {
     "name": "stdout",
     "output_type": "stream",
     "text": [
      "0\n"
     ]
    }
   ],
   "source": [
    "print s['parent']"
   ]
  },
  {
   "cell_type": "code",
   "execution_count": 347,
   "metadata": {
    "collapsed": false
   },
   "outputs": [],
   "source": [
    "sch = s.schema"
   ]
  },
  {
   "cell_type": "code",
   "execution_count": 348,
   "metadata": {
    "collapsed": false
   },
   "outputs": [
    {
     "data": {
      "text/plain": [
       "Key<F>(offset=464, nElements=1)"
      ]
     },
     "execution_count": 348,
     "metadata": {},
     "output_type": "execute_result"
    }
   ],
   "source": [
    "sch.addField(\"extended-id\", \"F\")"
   ]
  },
  {
   "cell_type": "code",
   "execution_count": 366,
   "metadata": {
    "collapsed": false
   },
   "outputs": [
    {
     "data": {
      "text/plain": [
       "Key<F>(offset=464, nElements=1)"
      ]
     },
     "execution_count": 366,
     "metadata": {},
     "output_type": "execute_result"
    }
   ],
   "source": [
    "c1.schema.addField(\"extended-id\", \"F\")"
   ]
  },
  {
   "cell_type": "code",
   "execution_count": 367,
   "metadata": {
    "collapsed": false,
    "scrolled": false
   },
   "outputs": [
    {
     "data": {
      "text/plain": [
       "Schema(\n",
       "    (Field['L'](name=\"id\", doc=\"unique ID\"), Key<L>(offset=0, nElements=1)),\n",
       "    (Field['Angle'](name=\"coord_ra\", doc=\"position in ra/dec\"), Key<Angle>(offset=8, nElements=1)),\n",
       "    (Field['Angle'](name=\"coord_dec\", doc=\"position in ra/dec\"), Key<Angle>(offset=16, nElements=1)),\n",
       "    (Field['L'](name=\"parent\", doc=\"unique ID of parent source\"), Key<L>(offset=24, nElements=1)),\n",
       "    (Field['F'](name=\"classification_dipole\", doc=\"probability of being a dipole\"), Key<F>(offset=32, nElements=1)),\n",
       "    (Field['Flag'](name=\"ip_diffim_NaiveDipoleCentroid_flag\", doc=\"general failure flag, set if anything went wrong\"), Key['Flag'](offset=40, bit=0)),\n",
       "    (Field['Flag'](name=\"ip_diffim_NaiveDipoleCentroid_pos_flag\", doc=\"failure flag for positive, set if anything went wrong\"), Key['Flag'](offset=40, bit=1)),\n",
       "    (Field['Flag'](name=\"ip_diffim_NaiveDipoleCentroid_neg_flag\", doc=\"failure flag for negative, set if anything went wrong\"), Key['Flag'](offset=40, bit=2)),\n",
       "    (Field['D'](name=\"ip_diffim_NaiveDipoleCentroid_x\", doc=\"unweighted first moment centroid: overall centroid\", units=\"pixels\"), Key<D>(offset=48, nElements=1)),\n",
       "    (Field['D'](name=\"ip_diffim_NaiveDipoleCentroid_y\", doc=\"unweighted first moment centroid: overall centroid\", units=\"pixels\"), Key<D>(offset=56, nElements=1)),\n",
       "    (Field['F'](name=\"ip_diffim_NaiveDipoleCentroid_xSigma\", doc=\"1-sigma uncertainty on x position\", units=\"pixels\"), Key<F>(offset=64, nElements=1)),\n",
       "    (Field['F'](name=\"ip_diffim_NaiveDipoleCentroid_ySigma\", doc=\"1-sigma uncertainty on y position\", units=\"pixels\"), Key<F>(offset=68, nElements=1)),\n",
       "    (Field['D'](name=\"ip_diffim_NaiveDipoleCentroid_pos_x\", doc=\"unweighted first moment centroid: positive lobe\", units=\"pixels\"), Key<D>(offset=72, nElements=1)),\n",
       "    (Field['D'](name=\"ip_diffim_NaiveDipoleCentroid_pos_y\", doc=\"unweighted first moment centroid: positive lobe\", units=\"pixels\"), Key<D>(offset=80, nElements=1)),\n",
       "    (Field['F'](name=\"ip_diffim_NaiveDipoleCentroid_pos_xSigma\", doc=\"1-sigma uncertainty on x position\", units=\"pixels\"), Key<F>(offset=88, nElements=1)),\n",
       "    (Field['F'](name=\"ip_diffim_NaiveDipoleCentroid_pos_ySigma\", doc=\"1-sigma uncertainty on y position\", units=\"pixels\"), Key<F>(offset=92, nElements=1)),\n",
       "    (Field['D'](name=\"ip_diffim_NaiveDipoleCentroid_neg_x\", doc=\"unweighted first moment centroid: negative lobe\", units=\"pixels\"), Key<D>(offset=96, nElements=1)),\n",
       "    (Field['D'](name=\"ip_diffim_NaiveDipoleCentroid_neg_y\", doc=\"unweighted first moment centroid: negative lobe\", units=\"pixels\"), Key<D>(offset=104, nElements=1)),\n",
       "    (Field['F'](name=\"ip_diffim_NaiveDipoleCentroid_neg_xSigma\", doc=\"1-sigma uncertainty on x position\", units=\"pixels\"), Key<F>(offset=112, nElements=1)),\n",
       "    (Field['F'](name=\"ip_diffim_NaiveDipoleCentroid_neg_ySigma\", doc=\"1-sigma uncertainty on y position\", units=\"pixels\"), Key<F>(offset=116, nElements=1)),\n",
       "    (Field['D'](name=\"base_CircularApertureFlux_3_0_flux\", doc=\"flux within 3.000000-pixel aperture\", units=\"dn\"), Key<D>(offset=120, nElements=1)),\n",
       "    (Field['D'](name=\"base_CircularApertureFlux_3_0_fluxSigma\", doc=\"1-sigma flux uncertainty\", units=\"dn\"), Key<D>(offset=128, nElements=1)),\n",
       "    (Field['Flag'](name=\"base_CircularApertureFlux_3_0_flag\", doc=\"general failure flag\"), Key['Flag'](offset=40, bit=3)),\n",
       "    (Field['Flag'](name=\"base_CircularApertureFlux_3_0_flag_apertureTruncated\", doc=\"aperture did not fit within measurement image\"), Key['Flag'](offset=40, bit=4)),\n",
       "    (Field['Flag'](name=\"base_CircularApertureFlux_3_0_flag_sincCoeffsTruncated\", doc=\"full sinc coefficient image did not fit within measurement image\"), Key['Flag'](offset=40, bit=5)),\n",
       "    (Field['D'](name=\"base_CircularApertureFlux_4_5_flux\", doc=\"flux within 4.500000-pixel aperture\", units=\"dn\"), Key<D>(offset=136, nElements=1)),\n",
       "    (Field['D'](name=\"base_CircularApertureFlux_4_5_fluxSigma\", doc=\"1-sigma flux uncertainty\", units=\"dn\"), Key<D>(offset=144, nElements=1)),\n",
       "    (Field['Flag'](name=\"base_CircularApertureFlux_4_5_flag\", doc=\"general failure flag\"), Key['Flag'](offset=40, bit=6)),\n",
       "    (Field['Flag'](name=\"base_CircularApertureFlux_4_5_flag_apertureTruncated\", doc=\"aperture did not fit within measurement image\"), Key['Flag'](offset=40, bit=7)),\n",
       "    (Field['Flag'](name=\"base_CircularApertureFlux_4_5_flag_sincCoeffsTruncated\", doc=\"full sinc coefficient image did not fit within measurement image\"), Key['Flag'](offset=40, bit=8)),\n",
       "    (Field['D'](name=\"base_CircularApertureFlux_6_0_flux\", doc=\"flux within 6.000000-pixel aperture\", units=\"dn\"), Key<D>(offset=152, nElements=1)),\n",
       "    (Field['D'](name=\"base_CircularApertureFlux_6_0_fluxSigma\", doc=\"1-sigma flux uncertainty\", units=\"dn\"), Key<D>(offset=160, nElements=1)),\n",
       "    (Field['Flag'](name=\"base_CircularApertureFlux_6_0_flag\", doc=\"general failure flag\"), Key['Flag'](offset=40, bit=9)),\n",
       "    (Field['Flag'](name=\"base_CircularApertureFlux_6_0_flag_apertureTruncated\", doc=\"aperture did not fit within measurement image\"), Key['Flag'](offset=40, bit=10)),\n",
       "    (Field['Flag'](name=\"base_CircularApertureFlux_6_0_flag_sincCoeffsTruncated\", doc=\"full sinc coefficient image did not fit within measurement image\"), Key['Flag'](offset=40, bit=11)),\n",
       "    (Field['D'](name=\"base_CircularApertureFlux_9_0_flux\", doc=\"flux within 9.000000-pixel aperture\", units=\"dn\"), Key<D>(offset=168, nElements=1)),\n",
       "    (Field['D'](name=\"base_CircularApertureFlux_9_0_fluxSigma\", doc=\"1-sigma flux uncertainty\", units=\"dn\"), Key<D>(offset=176, nElements=1)),\n",
       "    (Field['Flag'](name=\"base_CircularApertureFlux_9_0_flag\", doc=\"general failure flag\"), Key['Flag'](offset=40, bit=12)),\n",
       "    (Field['Flag'](name=\"base_CircularApertureFlux_9_0_flag_apertureTruncated\", doc=\"aperture did not fit within measurement image\"), Key['Flag'](offset=40, bit=13)),\n",
       "    (Field['Flag'](name=\"base_CircularApertureFlux_9_0_flag_sincCoeffsTruncated\", doc=\"full sinc coefficient image did not fit within measurement image\"), Key['Flag'](offset=40, bit=14)),\n",
       "    (Field['D'](name=\"base_CircularApertureFlux_12_0_flux\", doc=\"flux within 12.000000-pixel aperture\", units=\"dn\"), Key<D>(offset=184, nElements=1)),\n",
       "    (Field['D'](name=\"base_CircularApertureFlux_12_0_fluxSigma\", doc=\"1-sigma flux uncertainty\", units=\"dn\"), Key<D>(offset=192, nElements=1)),\n",
       "    (Field['Flag'](name=\"base_CircularApertureFlux_12_0_flag\", doc=\"general failure flag\"), Key['Flag'](offset=40, bit=15)),\n",
       "    (Field['Flag'](name=\"base_CircularApertureFlux_12_0_flag_apertureTruncated\", doc=\"aperture did not fit within measurement image\"), Key['Flag'](offset=40, bit=16)),\n",
       "    (Field['D'](name=\"base_CircularApertureFlux_17_0_flux\", doc=\"flux within 17.000000-pixel aperture\", units=\"dn\"), Key<D>(offset=200, nElements=1)),\n",
       "    (Field['D'](name=\"base_CircularApertureFlux_17_0_fluxSigma\", doc=\"1-sigma flux uncertainty\", units=\"dn\"), Key<D>(offset=208, nElements=1)),\n",
       "    (Field['Flag'](name=\"base_CircularApertureFlux_17_0_flag\", doc=\"general failure flag\"), Key['Flag'](offset=40, bit=17)),\n",
       "    (Field['Flag'](name=\"base_CircularApertureFlux_17_0_flag_apertureTruncated\", doc=\"aperture did not fit within measurement image\"), Key['Flag'](offset=40, bit=18)),\n",
       "    (Field['D'](name=\"base_CircularApertureFlux_25_0_flux\", doc=\"flux within 25.000000-pixel aperture\", units=\"dn\"), Key<D>(offset=216, nElements=1)),\n",
       "    (Field['D'](name=\"base_CircularApertureFlux_25_0_fluxSigma\", doc=\"1-sigma flux uncertainty\", units=\"dn\"), Key<D>(offset=224, nElements=1)),\n",
       "    (Field['Flag'](name=\"base_CircularApertureFlux_25_0_flag\", doc=\"general failure flag\"), Key['Flag'](offset=40, bit=19)),\n",
       "    (Field['Flag'](name=\"base_CircularApertureFlux_25_0_flag_apertureTruncated\", doc=\"aperture did not fit within measurement image\"), Key['Flag'](offset=40, bit=20)),\n",
       "    (Field['D'](name=\"base_CircularApertureFlux_35_0_flux\", doc=\"flux within 35.000000-pixel aperture\", units=\"dn\"), Key<D>(offset=232, nElements=1)),\n",
       "    (Field['D'](name=\"base_CircularApertureFlux_35_0_fluxSigma\", doc=\"1-sigma flux uncertainty\", units=\"dn\"), Key<D>(offset=240, nElements=1)),\n",
       "    (Field['Flag'](name=\"base_CircularApertureFlux_35_0_flag\", doc=\"general failure flag\"), Key['Flag'](offset=40, bit=21)),\n",
       "    (Field['Flag'](name=\"base_CircularApertureFlux_35_0_flag_apertureTruncated\", doc=\"aperture did not fit within measurement image\"), Key['Flag'](offset=40, bit=22)),\n",
       "    (Field['D'](name=\"base_CircularApertureFlux_50_0_flux\", doc=\"flux within 50.000000-pixel aperture\", units=\"dn\"), Key<D>(offset=248, nElements=1)),\n",
       "    (Field['D'](name=\"base_CircularApertureFlux_50_0_fluxSigma\", doc=\"1-sigma flux uncertainty\", units=\"dn\"), Key<D>(offset=256, nElements=1)),\n",
       "    (Field['Flag'](name=\"base_CircularApertureFlux_50_0_flag\", doc=\"general failure flag\"), Key['Flag'](offset=40, bit=23)),\n",
       "    (Field['Flag'](name=\"base_CircularApertureFlux_50_0_flag_apertureTruncated\", doc=\"aperture did not fit within measurement image\"), Key['Flag'](offset=40, bit=24)),\n",
       "    (Field['D'](name=\"base_CircularApertureFlux_70_0_flux\", doc=\"flux within 70.000000-pixel aperture\", units=\"dn\"), Key<D>(offset=264, nElements=1)),\n",
       "    (Field['D'](name=\"base_CircularApertureFlux_70_0_fluxSigma\", doc=\"1-sigma flux uncertainty\", units=\"dn\"), Key<D>(offset=272, nElements=1)),\n",
       "    (Field['Flag'](name=\"base_CircularApertureFlux_70_0_flag\", doc=\"general failure flag\"), Key['Flag'](offset=40, bit=25)),\n",
       "    (Field['Flag'](name=\"base_CircularApertureFlux_70_0_flag_apertureTruncated\", doc=\"aperture did not fit within measurement image\"), Key['Flag'](offset=40, bit=26)),\n",
       "    (Field['Flag'](name=\"base_PixelFlags_flag\", doc=\"general failure flag, set if anything went wring\"), Key['Flag'](offset=40, bit=27)),\n",
       "    (Field['Flag'](name=\"base_PixelFlags_flag_offimage\", doc=\"Source center is off image\"), Key['Flag'](offset=40, bit=28)),\n",
       "    (Field['Flag'](name=\"base_PixelFlags_flag_edge\", doc=\"Source is outside usable exposure region (masked EDGE or NO_DATA)\"), Key['Flag'](offset=40, bit=29)),\n",
       "    (Field['Flag'](name=\"base_PixelFlags_flag_interpolated\", doc=\"Interpolated pixel in the Source footprint\"), Key['Flag'](offset=40, bit=30)),\n",
       "    (Field['Flag'](name=\"base_PixelFlags_flag_saturated\", doc=\"Saturated pixel in the Source footprint\"), Key['Flag'](offset=40, bit=31)),\n",
       "    (Field['Flag'](name=\"base_PixelFlags_flag_cr\", doc=\"Cosmic ray in the Source footprint\"), Key['Flag'](offset=40, bit=32)),\n",
       "    (Field['Flag'](name=\"base_PixelFlags_flag_bad\", doc=\"Bad pixel in the Source footprint\"), Key['Flag'](offset=40, bit=33)),\n",
       "    (Field['Flag'](name=\"base_PixelFlags_flag_suspect\", doc=\"Source''s footprint includes suspect pixels\"), Key['Flag'](offset=40, bit=34)),\n",
       "    (Field['Flag'](name=\"base_PixelFlags_flag_interpolatedCenter\", doc=\"Interpolated pixel in the Source center\"), Key['Flag'](offset=40, bit=35)),\n",
       "    (Field['Flag'](name=\"base_PixelFlags_flag_saturatedCenter\", doc=\"Saturated pixel in the Source center\"), Key['Flag'](offset=40, bit=36)),\n",
       "    (Field['Flag'](name=\"base_PixelFlags_flag_crCenter\", doc=\"Cosmic ray in the Source center\"), Key['Flag'](offset=40, bit=37)),\n",
       "    (Field['Flag'](name=\"base_PixelFlags_flag_suspectCenter\", doc=\"Source''s center is close to suspect pixels\"), Key['Flag'](offset=40, bit=38)),\n",
       "    (Field['D'](name=\"base_PsfFlux_flux\", doc=\"flux derived from linear least-squares fit of PSF model\", units=\"dn\"), Key<D>(offset=280, nElements=1)),\n",
       "    (Field['D'](name=\"base_PsfFlux_fluxSigma\", doc=\"1-sigma flux uncertainty\", units=\"dn\"), Key<D>(offset=288, nElements=1)),\n",
       "    (Field['Flag'](name=\"base_PsfFlux_flag\", doc=\"general failure flag\"), Key['Flag'](offset=40, bit=39)),\n",
       "    (Field['Flag'](name=\"base_PsfFlux_flag_noGoodPixels\", doc=\"not enough non-rejected pixels in data to attempt the fit\"), Key['Flag'](offset=40, bit=40)),\n",
       "    (Field['Flag'](name=\"base_PsfFlux_flag_edge\", doc=\"object was too close to the edge of the image to use the full PSF model\"), Key['Flag'](offset=40, bit=41)),\n",
       "    (Field['Flag'](name=\"ip_diffim_NaiveDipoleFlux_flag\", doc=\"general failure flag, set if anything went wrong\"), Key['Flag'](offset=40, bit=42)),\n",
       "    (Field['Flag'](name=\"ip_diffim_NaiveDipoleFlux_pos_flag\", doc=\"failure flag for positive, set if anything went wrong\"), Key['Flag'](offset=40, bit=43)),\n",
       "    (Field['Flag'](name=\"ip_diffim_NaiveDipoleFlux_neg_flag\", doc=\"failure flag for negative, set if anything went wrong\"), Key['Flag'](offset=40, bit=44)),\n",
       "    (Field['D'](name=\"ip_diffim_NaiveDipoleFlux_pos_flux\", doc=\"raw flux counts: positive lobe\", units=\"dn\"), Key<D>(offset=296, nElements=1)),\n",
       "    (Field['D'](name=\"ip_diffim_NaiveDipoleFlux_pos_fluxSigma\", doc=\"1-sigma flux uncertainty\", units=\"dn\"), Key<D>(offset=304, nElements=1)),\n",
       "    (Field['D'](name=\"ip_diffim_NaiveDipoleFlux_neg_flux\", doc=\"raw flux counts: negative lobe\", units=\"dn\"), Key<D>(offset=312, nElements=1)),\n",
       "    (Field['D'](name=\"ip_diffim_NaiveDipoleFlux_neg_fluxSigma\", doc=\"1-sigma flux uncertainty\", units=\"dn\"), Key<D>(offset=320, nElements=1)),\n",
       "    (Field['I'](name=\"ip_diffim_NaiveDipoleFlux_npos\", doc=\"number of positive pixels\", units=\"dn\"), Key<I>(offset=328, nElements=1)),\n",
       "    (Field['I'](name=\"ip_diffim_NaiveDipoleFlux_nneg\", doc=\"number of negative pixels\", units=\"dn\"), Key<I>(offset=332, nElements=1)),\n",
       "    (Field['Flag'](name=\"ip_diffim_PsfDipoleFlux_flag\", doc=\"general failure flag, set if anything went wrong\"), Key['Flag'](offset=40, bit=45)),\n",
       "    (Field['Flag'](name=\"ip_diffim_PsfDipoleFlux_pos_flag\", doc=\"failure flag for positive, set if anything went wrong\"), Key['Flag'](offset=40, bit=46)),\n",
       "    (Field['Flag'](name=\"ip_diffim_PsfDipoleFlux_neg_flag\", doc=\"failure flag for negative, set if anything went wrong\"), Key['Flag'](offset=40, bit=47)),\n",
       "    (Field['D'](name=\"ip_diffim_PsfDipoleFlux_pos_flux\", doc=\"jointly fitted psf flux counts: positive lobe\", units=\"dn\"), Key<D>(offset=336, nElements=1)),\n",
       "    (Field['D'](name=\"ip_diffim_PsfDipoleFlux_pos_fluxSigma\", doc=\"1-sigma flux uncertainty\", units=\"dn\"), Key<D>(offset=344, nElements=1)),\n",
       "    (Field['D'](name=\"ip_diffim_PsfDipoleFlux_neg_flux\", doc=\"jointly fitted psf flux counts: negative lobe\", units=\"dn\"), Key<D>(offset=352, nElements=1)),\n",
       "    (Field['D'](name=\"ip_diffim_PsfDipoleFlux_neg_fluxSigma\", doc=\"1-sigma flux uncertainty\", units=\"dn\"), Key<D>(offset=360, nElements=1)),\n",
       "    (Field['F'](name=\"ip_diffim_PsfDipoleFlux_chi2dof\", doc=\"chi2 per degree of freedom of fit\"), Key<F>(offset=368, nElements=1)),\n",
       "    (Field['D'](name=\"ip_diffim_PsfDipoleFlux_pos_centroid_x\", doc=\"psf fitted center of positive lobe\", units=\"pixels\"), Key<D>(offset=376, nElements=1)),\n",
       "    (Field['D'](name=\"ip_diffim_PsfDipoleFlux_pos_centroid_y\", doc=\"psf fitted center of positive lobe\", units=\"pixels\"), Key<D>(offset=384, nElements=1)),\n",
       "    (Field['F'](name=\"ip_diffim_PsfDipoleFlux_pos_centroid_xSigma\", doc=\"1-sigma uncertainty on x position\", units=\"pixels\"), Key<F>(offset=392, nElements=1)),\n",
       "    (Field['F'](name=\"ip_diffim_PsfDipoleFlux_pos_centroid_ySigma\", doc=\"1-sigma uncertainty on y position\", units=\"pixels\"), Key<F>(offset=396, nElements=1)),\n",
       "    (Field['D'](name=\"ip_diffim_PsfDipoleFlux_neg_centroid_x\", doc=\"psf fitted center of negative lobe\", units=\"pixels\"), Key<D>(offset=400, nElements=1)),\n",
       "    (Field['D'](name=\"ip_diffim_PsfDipoleFlux_neg_centroid_y\", doc=\"psf fitted center of negative lobe\", units=\"pixels\"), Key<D>(offset=408, nElements=1)),\n",
       "    (Field['F'](name=\"ip_diffim_PsfDipoleFlux_neg_centroid_xSigma\", doc=\"1-sigma uncertainty on x position\", units=\"pixels\"), Key<F>(offset=416, nElements=1)),\n",
       "    (Field['F'](name=\"ip_diffim_PsfDipoleFlux_neg_centroid_ySigma\", doc=\"1-sigma uncertainty on y position\", units=\"pixels\"), Key<F>(offset=420, nElements=1)),\n",
       "    (Field['D'](name=\"ip_diffim_PsfDipoleFlux_centroid_x\", doc=\"average of negative and positive lobe positions\", units=\"pixels\"), Key<D>(offset=424, nElements=1)),\n",
       "    (Field['D'](name=\"ip_diffim_PsfDipoleFlux_centroid_y\", doc=\"average of negative and positive lobe positions\", units=\"pixels\"), Key<D>(offset=432, nElements=1)),\n",
       "    (Field['F'](name=\"ip_diffim_PsfDipoleFlux_centroid_xSigma\", doc=\"1-sigma uncertainty on x position\", units=\"pixels\"), Key<F>(offset=440, nElements=1)),\n",
       "    (Field['F'](name=\"ip_diffim_PsfDipoleFlux_centroid_ySigma\", doc=\"1-sigma uncertainty on y position\", units=\"pixels\"), Key<F>(offset=444, nElements=1)),\n",
       "    (Field['D'](name=\"base_PsfFlux_apCorr\", doc=\"aperture correction applied to base_PsfFlux\"), Key<D>(offset=448, nElements=1)),\n",
       "    (Field['D'](name=\"base_PsfFlux_apCorrSigma\", doc=\"aperture correction applied to base_PsfFlux\"), Key<D>(offset=456, nElements=1)),\n",
       "    (Field['Flag'](name=\"base_PsfFlux_flag_apCorr\", doc=\"set if unable to aperture correct base_PsfFlux\"), Key['Flag'](offset=40, bit=48)),\n",
       "    'base_CircularApertureFlux_flag_badCentroid'->'ip_diffim_NaiveDipoleCentroid_flag'\n",
       "    'base_PsfFlux_flag_badCentroid'->'ip_diffim_NaiveDipoleCentroid_flag'\n",
       "    'slot_ApFlux'->'base_CircularApertureFlux_3_0'\n",
       "    'slot_Centroid'->'ip_diffim_NaiveDipoleCentroid'\n",
       "    'slot_PsfFlux'->'base_PsfFlux'\n",
       ")"
      ]
     },
     "execution_count": 367,
     "metadata": {},
     "output_type": "execute_result"
    }
   ],
   "source": [
    "s = c1[66]\n",
    "c1.schema"
   ]
  },
  {
   "cell_type": "code",
   "execution_count": 359,
   "metadata": {
    "collapsed": false
   },
   "outputs": [
    {
     "name": "stdout",
     "output_type": "stream",
     "text": [
      "1.0\n"
     ]
    }
   ],
   "source": [
    "print s[\"classification_dipole\"]"
   ]
  },
  {
   "cell_type": "code",
   "execution_count": null,
   "metadata": {
    "collapsed": true
   },
   "outputs": [],
   "source": []
  }
 ],
 "metadata": {
  "kernelspec": {
   "display_name": "Python 2",
   "language": "python",
   "name": "python2"
  },
  "language_info": {
   "codemirror_mode": {
    "name": "ipython",
    "version": 2
   },
   "file_extension": ".py",
   "mimetype": "text/x-python",
   "name": "python",
   "nbconvert_exporter": "python",
   "pygments_lexer": "ipython2",
   "version": "2.7.12"
  }
 },
 "nbformat": 4,
 "nbformat_minor": 0
}
