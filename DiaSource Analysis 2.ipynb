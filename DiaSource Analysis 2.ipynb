{
 "cells": [
  {
   "cell_type": "code",
   "execution_count": 1,
   "metadata": {
    "collapsed": true
   },
   "outputs": [],
   "source": [
    "import lsst.meas.astrom as measAstrom\n",
    "import lsst.daf.base as dafBase\n",
    "import lsst.pipe.base as pipeBase\n",
    "import lsst.daf.persistence as dafPersist"
   ]
  },
  {
   "cell_type": "code",
   "execution_count": 2,
   "metadata": {
    "collapsed": true
   },
   "outputs": [],
   "source": [
    "DATADIR=\"/renoir_data_02/jpreyes/lsst_data/CFHTLS_v11/\"\n",
    "butler = dafPersist.Butler(DATADIR+\"/output\")\n"
   ]
  },
  {
   "cell_type": "code",
   "execution_count": 3,
   "metadata": {
    "collapsed": true
   },
   "outputs": [],
   "source": [
    "subset = butler.subset(\"deepDiff_diaSrc\")"
   ]
  },
  {
   "cell_type": "code",
   "execution_count": null,
   "metadata": {
    "collapsed": false
   },
   "outputs": [],
   "source": [
    "file = open(\"diaSources.txt\", \"w\")\n",
    "\n",
    "for dr_subSet in subset:\n",
    "    if dr_subSet.dataId[\"ccd\"]==14:\n",
    "        file.write(\"visit=\"+str(dr_subSet.dataId[\"visit\"])+\"\\n\")\n",
    "        try:\n",
    "            for diaSource in dr_subSet.get(\"deepDiff_diaSrc\"):\n",
    "        \n",
    "                #print(str(diaSource.get(\"ip_diffim_NaiveDipoleCentroid_pos_x\"))+\"\\n\")\n",
    "                file.write(str(diaSource.get(\"ip_diffim_NaiveDipoleCentroid_pos_x\"))+\"\\n\")\n",
    "                file.write(str(diaSource.get(\"ip_diffim_NaiveDipoleCentroid_pos_y\"))+\"\\n\")\n",
    "                file.write(str(diaSource.get(\"ip_diffim_NaiveDipoleFlux_pos_flux\"))+\"\\n\")\n",
    "                file.write(str(diaSource.get(\"ip_diffim_NaiveDipoleFlux_pos_fluxSigma\"))+\"\\n\")\n",
    "        except:\n",
    "            pass\n",
    "            \n",
    "\n",
    "file.close()"
   ]
  },
  {
   "cell_type": "code",
   "execution_count": 11,
   "metadata": {
    "collapsed": false
   },
   "outputs": [
    {
     "data": {
      "text/plain": [
       "454.65557861328125"
      ]
     },
     "execution_count": 11,
     "metadata": {},
     "output_type": "execute_result"
    }
   ],
   "source": [
    "diaSources.get(\"ip_diffim_NaiveDipoleCentroid_pos_x\")"
   ]
  },
  {
   "cell_type": "code",
   "execution_count": null,
   "metadata": {
    "collapsed": true
   },
   "outputs": [],
   "source": []
  }
 ],
 "metadata": {
  "kernelspec": {
   "display_name": "Python 2",
   "language": "python",
   "name": "python2"
  },
  "language_info": {
   "codemirror_mode": {
    "name": "ipython",
    "version": 2
   },
   "file_extension": ".py",
   "mimetype": "text/x-python",
   "name": "python",
   "nbconvert_exporter": "python",
   "pygments_lexer": "ipython2",
   "version": "2.7.9"
  }
 },
 "nbformat": 4,
 "nbformat_minor": 0
}
